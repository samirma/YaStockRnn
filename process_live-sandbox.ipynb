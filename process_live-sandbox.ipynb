{
 "cells": [
  {
   "cell_type": "code",
   "execution_count": 1,
   "metadata": {},
   "outputs": [],
   "source": [
    "import pandas as pd\n",
    "import data_util\n",
    "from tqdm import tqdm_notebook as tqdm\n",
    "from data_generator import DataGenerator\n",
    "from state_util import StateUtil\n",
    "from tec_an import TecAn\n",
    "from data_agent import *\n",
    "import numpy as np\n",
    "from data_util import *\n",
    "import tensorflow as tf\n",
    "from sklearn_model_hyper import *\n",
    "import pandas as pd\n",
    "from stock_agent import *\n",
    "from backtest import *\n",
    "from joblib import dump, load\n",
    "from datetime import datetime, timedelta\n",
    "from tec_an import *\n",
    "from bitstamp import *\n",
    "\n",
    "\n",
    "path = \"./data/\"\n"
   ]
  },
  {
   "cell_type": "code",
   "execution_count": 2,
   "metadata": {},
   "outputs": [],
   "source": [
    "def load_online(minutes, window, val_end = 1626388860):\n",
    "    tec = TecAn(windows = window, windows_limit = 100)\n",
    "    source_data_generator = SourceDataGenerator(tec = tec)\n",
    "\n",
    "\n",
    "    online = OnLineDataProvider(\n",
    "                 source_data_generator = source_data_generator,\n",
    "                 minutes = minutes,\n",
    "                 train_keys = [\"btcusd\"],\n",
    "                 train_limit = 40,\n",
    "                 val_limit = 400,\n",
    "                 val_keys = [\"btcusd\"],\n",
    "                 #val_start = val_start,\n",
    "                 val_end = val_end,\n",
    "                 train_start_list = [1626386301]\n",
    "    )\n",
    "\n",
    "    online.load_cache()\n",
    "    return online"
   ]
  },
  {
   "cell_type": "code",
   "execution_count": 3,
   "metadata": {},
   "outputs": [
    {
     "name": "stdout",
     "output_type": "stream",
     "text": [
      "https://www.bitstamp.net/api/v2/ohlc/btcusd/ -> {'currency_pair': 'btcusd', 'step': 180, 'limit': 40, 'start': 1626386301}\n",
      "Downloaded from 2021-07-15 22:57:00 to 2021-07-16 00:54:00 31644.19\n",
      "Resample 3Min - TecAn ( windows 20, windows_limit 100 )\n",
      "Processing 39 of btcusd\n"
     ]
    },
    {
     "data": {
      "application/vnd.jupyter.widget-view+json": {
       "model_id": "da1a320badab41f6bf6959c1c97fa7dd",
       "version_major": 2,
       "version_minor": 0
      },
      "text/plain": [
       "  0%|          | 0/39 [00:00<?, ?it/s]"
      ]
     },
     "metadata": {},
     "output_type": "display_data"
    },
    {
     "name": "stdout",
     "output_type": "stream",
     "text": [
      "https://www.bitstamp.net/api/v2/ohlc/btcusd/ -> {'currency_pair': 'btcusd', 'step': 180, 'limit': 400, 'start': 1623435037, 'end': 1626459248}\n",
      "Downloaded from 2021-07-15 23:15:00 to 2021-07-16 19:12:00 31977.18\n",
      "Resample 3Min - TecAn ( windows 20, windows_limit 100 )\n",
      "Processing 399 of btcusd\n"
     ]
    },
    {
     "data": {
      "application/vnd.jupyter.widget-view+json": {
       "model_id": "45997d15b26b41bc80e78d6605cd6dae",
       "version_major": 2,
       "version_minor": 0
      },
      "text/plain": [
       "  0%|          | 0/399 [00:00<?, ?it/s]"
      ]
     },
     "metadata": {},
     "output_type": "display_data"
    }
   ],
   "source": [
    "online = load_online(3, 20, 1626459248)\n",
    "\n",
    "valX, valY = online.load_val_data(\"btcusd\")\n",
    "\n"
   ]
  },
  {
   "cell_type": "code",
   "execution_count": 4,
   "metadata": {},
   "outputs": [
    {
     "name": "stdout",
     "output_type": "stream",
     "text": [
      "Pipeline(steps=[('s', RFECV(estimator=RandomForestClassifier(random_state=10))),\n",
      "                ('m',\n",
      "                 RandomForestClassifier(criterion='entropy', max_depth=100,\n",
      "                                        n_estimators=30, random_state=42))])\n"
     ]
    }
   ],
   "source": [
    "model = load(f\"model/min-{3}-window-{20}\")\n",
    "print(model)"
   ]
  },
  {
   "cell_type": "code",
   "execution_count": 5,
   "metadata": {},
   "outputs": [
    {
     "name": "stdout",
     "output_type": "stream",
     "text": [
      "Resample 3Min - TecAn ( windows 20, windows_limit 100 )\n"
     ]
    }
   ],
   "source": [
    "back = BackTest(value = 100,\n",
    "                    verbose = True, \n",
    "                    sell_on_profit = True)\n",
    "\n",
    "request_sell = lambda price: back.request_sell(price)\n",
    "request_buy = lambda price: back.request_buy(price)\n",
    "on_state = lambda timestamp, price: back.on_state(timestamp, price)\n",
    "\n",
    "stock = StockAgent(\n",
    "    model = model,\n",
    "    request_sell = request_sell,\n",
    "    request_buy = request_buy,\n",
    "    on_state = on_state\n",
    ")\n",
    "\n",
    "\n",
    "on_new_data = lambda x: print(x)\n",
    "on_new_data = lambda x: stock.on_x(x)\n",
    "\n",
    "on_state = lambda timestamp, price, buy, sell: print(\"{} {} {} {}\".format(timestamp, price, buy, sell))\n",
    "on_state = lambda timestamp, price, buy, sell: stock.on_new_state(timestamp, price, buy, sell)\n",
    "\n",
    "agent = DataAgent(\n",
    "    taProc = TacProcess(), \n",
    "    tec = TecAn(windows = 20, windows_limit = 100),\n",
    "    resample = '3Min',\n",
    "    on_state = on_state,\n",
    "    on_new_data = on_new_data\n",
    ")\n",
    "\n",
    "\n",
    "TIMESTAMP_KEY = \"timestamp\""
   ]
  },
  {
   "cell_type": "code",
   "execution_count": 6,
   "metadata": {},
   "outputs": [],
   "source": [
    "for yy in valY:\n",
    "    #print(yy)\n",
    "    agent.taProc.add_tacs_realtime([], yy, 0.0, agent.tec)"
   ]
  },
  {
   "cell_type": "code",
   "execution_count": 7,
   "metadata": {},
   "outputs": [],
   "source": [
    "#start = int(datetime.timestamp((datetime.now() + timedelta( hours=-5 ))))\n",
    "\n"
   ]
  },
  {
   "cell_type": "code",
   "execution_count": 19,
   "metadata": {
    "scrolled": true
   },
   "outputs": [],
   "source": [
    "raw_data_live = []\n",
    "\n",
    "\n",
    "class RawStateDownloader(LiveBitstamp):\n",
    "    \n",
    "    def __init__(self, on_raw_data = lambda raw: print(raw)):\n",
    "        self.trade = {}\n",
    "        self.on_new_data_count = 0\n",
    "        self.on_raw_data = on_raw_data\n",
    "                \n",
    "    def process(self, raw):\n",
    "        #raw_data_live.append(raw)\n",
    "        self.on_raw_data(raw)\n",
    "        timestamp = raw[TIMESTAMP_KEY]\n",
    "        time = pd.to_datetime(timestamp, unit='s')\n",
    "        print(f'{time}: {agent.on_new_data_count} {len(raw_data_live)}', end='\\r')\n",
    "        "
   ]
  },
  {
   "cell_type": "code",
   "execution_count": null,
   "metadata": {},
   "outputs": [],
   "source": []
  },
  {
   "cell_type": "code",
   "execution_count": 20,
   "metadata": {},
   "outputs": [],
   "source": [
    "\n",
    "on_raw_data = lambda raw: agent.on_new_raw_data(raw)\n",
    "\n",
    "\n",
    "live = RawStateDownloader(on_raw_data = on_raw_data)\n"
   ]
  },
  {
   "cell_type": "code",
   "execution_count": null,
   "metadata": {},
   "outputs": [
    {
     "name": "stdout",
     "output_type": "stream",
     "text": [
      "Bitstamp Websocket Opened.\n",
      "Reading form live_trades_btcusd and order_book_btcusd\n",
      "2021-07-16 19:15:16 Buy (31992.81): ask: 31992.81\n",
      "2021-07-16 19:18:02 Sell (32025.62) profit: 0.1026 total: 100.10255429266763\n",
      "2021-07-16 19:27:01 Buy (32021.93): ask: 32021.93\n",
      "#### LOSSSS: -0.3013 26 0\n",
      "2021-07-16 19:36:11 Sell (31925.45) profit: -0.3013 total: 99.80126077288291\n",
      "2021-07-16 19:45:11 Buy (31877.12): ask: 31877.12\n",
      "2021-07-16 19:48:00 Sell (31907.21) profit: 0.0944 total: 99.89565449477497\n",
      "2021-07-16 19:51:07 Buy (31892.8): ask: 31892.8\n",
      "2021-07-16 19:57:04 Sell (31913.64) profit: 0.0653 total: 99.96099839684692\n",
      "2021-07-16 20:00:02 Buy (31900.0): ask: 31900.0\n",
      "2021-07-16 20:03:00 Sell (31969.02) profit: 0.2164 total: 100.17736203321056\n",
      "2021-07-16 20:06:15 Buy (31940.68): ask: 31940.68\n",
      "#### LOSSSS: -0.0322 42 0\n",
      "2021-07-16 20:24:00 Sell (31930.41) profit: -0.0322 total: 100.14520867893006\n",
      "2021-07-16 20:27:01 Buy (31932.91): ask: 31932.91\n",
      "#### LOSSSS: -0.0424 45 0\n",
      "2021-07-16 20:33:07 Sell (31919.36) profit: -0.0424 total: 100.10277596609556\n",
      "2021-07-16 20:36:00 Buy (31921.3): ask: 31921.3\n",
      "2021-07-16 20:39:04 Sell (31959.36) profit: 0.1192 total: 100.22200669917974\n",
      "2021-07-16 20:42:20 Buy (31897.67): ask: 31897.67\n",
      "2021-07-16 20:45:08 Sell (31930.0) profit: 0.1014 total: 100.32336206463434\n",
      "2021-07-16 20:48:00 Buy (31941.81): ask: 31941.81\n",
      "#### LOSSSS: -0.2098 53 0\n",
      "2021-07-16 20:57:08 Sell (31874.8) profit: -0.2098 total: 100.11357432874836\n",
      "2021-07-16 21:06:00 Buy (31815.79): ask: 31815.79\n",
      "#### LOSSSS: -0.0129 57 0\n",
      "2021-07-16 21:09:16 Sell (31811.69) profit: -0.0129 total: 100.10068764575226\n",
      "2021-07-16 21:12:00 Buy (31835.0): ask: 31835.0\n",
      "#### LOSSSS: -0.2855 59 0\n",
      "2021-07-16 21:15:00 Sell (31744.12) profit: -0.2855 total: 99.81521568093365\n",
      "2021-07-16 21:18:00 Buy (31749.4): ask: 31749.4\n",
      "2021-07-16 21:21:05 Sell (31791.75) profit: 0.1334 total: 99.94860402842998\n",
      "2021-07-16 21:24:02 Buy (31808.53): ask: 31808.53\n",
      "2021-07-16 21:42:00 Sell (31820.09) profit: 0.0363 total: 99.98494648122488\n",
      "2021-07-16 21:57:00 Buy (31775.28): ask: 31775.28\n",
      "#### LOSSSS: -0.113: 74 0\n",
      "2021-07-16 22:00:05 Sell (31739.38) profit: -0.113 total: 99.87196557279545\n",
      "2021-07-16 22:03:01 Buy (31763.48): ask: 31763.48\n",
      "2021-07-16 22:09:11 Sell (31827.19) profit: 0.2006 total: 100.07254183207182\n",
      "2021-07-16 22:21:09 Buy (31835.09): ask: 31835.09\n",
      "#### LOSSSS: -0.1461 83 0\n",
      "2021-07-16 22:27:11 Sell (31788.58) profit: -0.1461 total: 99.92644518211732\n",
      "2021-07-16 22:30:17 Buy (31767.38): ask: 31767.38\n",
      "#### LOSSSS: -0.0783 85 0\n",
      "2021-07-16 22:33:00 Sell (31742.52) profit: -0.0783 total: 99.84818880718177\n",
      "2021-07-16 22:39:11 Buy (31689.77): ask: 31689.77\n",
      "#### LOSSSS: -0.2347 95 0\n",
      "2021-07-16 23:03:01 Sell (31615.38) profit: -0.2347 total: 99.6134442823714\n",
      "2021-07-16 23:06:01 Buy (31625.96): ask: 31625.96\n",
      "#### LOSSSS: -0.0966 98 0\n",
      "2021-07-16 23:12:58 Sell (31595.42) profit: -0.0966 total: 99.51687804374971\n",
      "2021-07-16 23:15:16 Buy (31616.11): ask: 31616.11\n",
      "#### LOSSSS: -0.0077 101 0\n",
      "2021-07-16 23:21:18 Sell (31613.67) profit: -0.0077 total: 99.50916045926509\n",
      "2021-07-16 23:36:41 Buy (31458.26): ask: 31458.26\n",
      "#### LOSSSS: -0.172: 109 0\n",
      "2021-07-16 23:45:10 Sell (31404.16) profit: -0.172 total: 99.3371865484385\n",
      "2021-07-17 00:03:04 Buy (31338.48): ask: 31338.48\n",
      "#### LOSSSS: -0.0946 118 0\n",
      "2021-07-17 00:12:05 Sell (31308.84) profit: -0.0946 total: 99.24260633906012\n",
      "2021-07-17 00:21:06 Buy (31244.68): ask: 31244.68\n",
      "#### LOSSSS: -0.0533 122 0\n",
      "2021-07-17 00:24:28 Sell (31228.02) profit: -0.0533 total: 99.18928526167991\n",
      "2021-07-17 00:27:17 Buy (31267.62): ask: 31267.62\n",
      "2021-07-17 00:39:00 Sell (31348.95) profit: 0.2601 total: 99.44939460162968\n",
      "2021-07-17 01:03:01 Buy (31540.66): ask: 31540.66\n",
      "#### LOSSSS: -0.0361 136 0\n",
      "2021-07-17 01:06:02 Sell (31529.26) profit: -0.0361 total: 99.41325077965512\n",
      "2021-07-17 01:09:32 Buy (31537.4): ask: 31537.4\n",
      "#### LOSSSS: -0.1666 139 0\n",
      "2021-07-17 01:16:06 Sell (31484.87) profit: -0.1666 total: 99.24668663676445\n",
      "2021-07-17 01:22:18 Buy (31478.98): ask: 31478.98\n",
      "2021-07-17 01:24:16 Sell (31482.52) profit: 0.0112 total: 99.25793223620892\n",
      "2021-07-17 01:30:38 Buy (31467.8): ask: 31467.8\n",
      "#### LOSSSS: -0.1732 147 0\n",
      "2021-07-17 01:39:02 Sell (31413.31) profit: -0.1732 total: 99.0847711000634\n",
      "2021-07-17 01:51:35 Buy (31374.52): ask: 31374.52\n",
      "2021-07-17 02:00:10 Sell (31403.59) profit: 0.0927 total: 99.17742590402534\n",
      "2021-07-17 02:03:00 Buy (31327.68): ask: 31327.68\n",
      "2021-07-17 02:16:08 Sell (31361.05) profit: 0.1065 total: 99.28394512281206\n",
      "2021-07-17 02:21:31 Buy (31318.58): ask: 31318.58\n",
      "#### LOSSSS: -0.0152 164 0\n",
      "2021-07-17 02:30:23 Sell (31313.81) profit: -0.0152 total: 99.26871454722402\n",
      "2021-07-17 02:36:24 Buy (31387.01): ask: 31387.01\n",
      "2021-07-17 02:39:02 Sell (31395.35) profit: 0.0266 total: 99.29528604925623\n",
      "2021-07-17 02:48:18 Buy (31419.47): ask: 31419.47\n",
      "#### LOSSSS: -0.2029 173 0\n",
      "2021-07-17 02:57:23 Sell (31355.73) profit: -0.2029 total: 99.09241820966504\n",
      "2021-07-17 03:00:05 Buy (31334.23): ask: 31334.23\n",
      "#### LOSSSS: -0.0691 175 0\n",
      "2021-07-17 03:03:28 Sell (31312.59) profit: -0.0691 total: 99.02335635622234\n",
      "2021-07-17 03:37:33 Buy (31413.91): ask: 31413.91\n",
      "#### LOSSSS: -0.0398 187 0\n",
      "2021-07-17 03:39:39 Sell (31401.41) profit: -0.0398 total: 98.98356506631288\n",
      "2021-07-17 03:45:07 Buy (31388.9): ask: 31388.9\n",
      "#### LOSSSS: -0.2119 190 0\n",
      "2021-07-17 03:48:08 Sell (31322.38) profit: -0.2119 total: 98.77164301743572\n",
      "2021-07-17 03:57:03 Buy (31297.93): ask: 31297.93\n",
      "2021-07-17 04:00:06 Sell (31298.74) profit: 0.0026 total: 98.77423104801794\n",
      "2021-07-17 04:09:42 Buy (31228.67): ask: 31228.67\n",
      "2021-07-17 04:21:21 Sell (31278.66) profit: 0.1601 total: 98.93430831035413\n",
      "2021-07-17 04:24:15 Buy (31254.69): ask: 31254.69\n",
      "2021-07-17 04:27:07 Sell (31276.99) profit: 0.0713 total: 99.0056576022524\n",
      "2021-07-17 04:33:03 Buy (31305.79): ask: 31305.79\n",
      "2021-07-17 04:37:17 Sell (31354.92) profit: 0.1569 total: 99.16259342786165\n",
      "2021-07-17 04:39:17 Buy (31358.37): ask: 31358.37\n",
      "#### LOSSSS: -0.0205 208 0\n",
      "2021-07-17 04:42:18 Sell (31351.95) profit: -0.0205 total: 99.14212042496004\n",
      "2021-07-17 05:06:00 Buy (31428.58): ask: 31428.58\n",
      "2021-07-17 05:09:11 Sell (31436.86) profit: 0.0263 total: 99.16846587232038\n",
      "2021-07-17 05:42:15 Buy (31481.44): ask: 31481.44\n",
      "#### LOSSSS: -0.1196 230 0\n",
      "2021-07-17 05:48:00 Sell (31443.78) profit: -0.1196 total: 99.04883983234255\n",
      "2021-07-17 06:30:12 Buy (31530.64): ask: 31530.64\n",
      "#### LOSSSS: -0.0332 247 0\n",
      "2021-07-17 06:39:01 Sell (31520.17) profit: -0.0332 total: 99.01563403632953\n",
      "2021-07-17 07:03:28 Buy (31575.52): ask: 31575.52\n",
      "#### LOSSSS: -0.0949 257 0\n",
      "2021-07-17 07:09:11 Sell (31545.56) profit: -0.0949 total: 98.9207504049594\n",
      "2021-07-17 07:21:34 Buy (31504.87): ask: 31504.87\n",
      "#### LOSSSS: -0.0162 263 0\n",
      "2021-07-17 07:27:01 Sell (31499.77) profit: -0.0162 total: 98.90456243148103\n",
      "2021-07-17 07:33:23 Buy (31518.06): ask: 31518.06\n",
      "#### LOSSSS: -0.2509 276 0\n",
      "2021-07-17 08:09:04 Sell (31438.99) profit: -0.2509 total: 98.65369039176792\n",
      "2021-07-17 08:12:14 Buy (31391.12): ask: 31391.12\n",
      "#### LOSSSS: -0.0088 278 0\n",
      "2021-07-17 08:15:15 Sell (31388.37) profit: -0.0088 total: 98.64492995250994\n",
      "2021-07-17 08:18:29 Buy (31410.52): ask: 31410.52\n",
      "2021-07-17 08:21:12 Sell (31414.76) profit: 0.0135 total: 98.65842861474157\n",
      "2021-07-17 08:27:12 Buy (31430.01): ask: 31430.01\n",
      "2021-07-17 08:39:04 Sell (31575.07) profit: 0.4615 total: 99.11996203455276\n",
      "2021-07-17 08:42:00 Buy (31844.82): ask: 31844.82\n",
      "2021-07-17 08:45:07 Sell (31853.37) profit: 0.0268 total: 99.14681098518271\n",
      "2021-07-17 08:57:06 Buy (31745.22): ask: 31745.22\n",
      "#### LOSSSS: -0.371: 295 0\n",
      "2021-07-17 09:06:04 Sell (31627.44) profit: -0.371 total: 98.77579449829113\n",
      "2021-07-17 09:15:16 Buy (31735.24): ask: 31735.24\n",
      "#### LOSSSS: -0.1115 300 0\n",
      "2021-07-17 09:23:00 Sell (31699.87) profit: -0.1115 total: 98.66434111082658\n",
      "2021-07-17 09:24:41 Buy (31707.21): ask: 31707.21\n",
      "2021-07-17 09:30:13 Sell (31713.29) profit: 0.0192 total: 98.683516560196\n",
      "2021-07-17 09:57:09 Buy (31642.81): ask: 31642.81\n",
      "#### LOSSSS: -0.4713 316 0\n",
      "2021-07-17 10:09:04 Sell (31493.69) profit: -0.4713 total: 98.21225626441316\n",
      "2021-07-17 10:12:00 Buy (31431.82): ask: 31431.82\n",
      "#### LOSSSS: -0.5027 318 0\n",
      "2021-07-17 10:15:00 Sell (31273.8) profit: -0.5027 total: 97.70951732024766\n"
     ]
    },
    {
     "name": "stdout",
     "output_type": "stream",
     "text": [
      "2021-07-17 10:18:10 Buy (31349.78): ask: 31349.78\n",
      "#### LOSSSS: -0.0049 321 0\n",
      "2021-07-17 10:24:03 Sell (31348.24) profit: -0.0049 total: 97.70460500507352\n",
      "2021-07-17 11:06:06 Buy (31332.72): ask: 31332.72\n",
      "2021-07-17 11:12:09 Sell (31395.7) profit: 0.201 total: 97.90560893961863\n",
      "2021-07-17 11:24:05 Buy (31329.65): ask: 31329.65\n",
      "2021-07-17 11:30:13 Sell (31330.15) profit: 0.0016 total: 97.90720487190642\n",
      "2021-07-17 11:33:03 Buy (31352.3): ask: 31352.3\n",
      "2021-07-17 11:39:07 Sell (31375.21) profit: 0.0731 total: 97.98027766082461\n",
      "2021-07-17 11:42:12 Buy (31396.64): ask: 31396.64\n",
      "#### LOSSSS: -0.0205 349 0\n",
      "2021-07-17 11:48:21 Sell (31390.21) profit: -0.0205 total: 97.95979776233865\n",
      "2021-07-17 11:54:02: 352 0\r"
     ]
    }
   ],
   "source": [
    "back.reset()\n",
    "\n",
    "bt = Bitstamp(live, currency = \"btcusd\")\n",
    "\n",
    "bt.connect()"
   ]
  },
  {
   "cell_type": "code",
   "execution_count": null,
   "metadata": {},
   "outputs": [],
   "source": [
    "82"
   ]
  },
  {
   "cell_type": "code",
   "execution_count": null,
   "metadata": {},
   "outputs": [],
   "source": [
    "back.report()"
   ]
  },
  {
   "cell_type": "code",
   "execution_count": 13,
   "metadata": {},
   "outputs": [
    {
     "name": "stdout",
     "output_type": "stream",
     "text": [
      "[]\n"
     ]
    }
   ],
   "source": [
    "print(raw_data_live)"
   ]
  },
  {
   "cell_type": "code",
   "execution_count": null,
   "metadata": {},
   "outputs": [],
   "source": [
    "date.timestamp()"
   ]
  },
  {
   "cell_type": "code",
   "execution_count": null,
   "metadata": {},
   "outputs": [],
   "source": []
  }
 ],
 "metadata": {
  "kernelspec": {
   "display_name": "Python 3",
   "language": "python",
   "name": "python3"
  },
  "language_info": {
   "codemirror_mode": {
    "name": "ipython",
    "version": 3
   },
   "file_extension": ".py",
   "mimetype": "text/x-python",
   "name": "python",
   "nbconvert_exporter": "python",
   "pygments_lexer": "ipython3",
   "version": "3.9.5"
  }
 },
 "nbformat": 4,
 "nbformat_minor": 4
}
