{
 "cells": [
  {
   "cell_type": "code",
   "execution_count": 1,
   "metadata": {
    "scrolled": true
   },
   "outputs": [],
   "source": [
    "import pandas as pd\n",
    "import data_util\n",
    "from tqdm import tqdm_notebook as tqdm\n",
    "from data_generator import DataGenerator\n",
    "from state_util import StateUtil\n",
    "from tec_an import TecAn\n",
    "from data_agent import *\n",
    "import numpy as np\n",
    "from data_util import *\n",
    "import tensorflow as tf\n",
    "from sklearn_model_hyper import *\n",
    "import pandas as pd\n",
    "from stock_agent import *\n",
    "from backtest import *\n",
    "from joblib import dump, load\n",
    "from datetime import datetime, timedelta\n",
    "from tec_an import *\n",
    "from bitstamp import *\n",
    "from process_live_trade import *\n",
    "from model_winner_select import *\n",
    "\n",
    "base_dir = \"data/\""
   ]
  },
  {
   "cell_type": "code",
   "execution_count": 2,
   "metadata": {},
   "outputs": [],
   "source": [
    "currency = \"btcusd\"\n",
    "\n",
    "full_data = base_dir + \"backtest/\"\n",
    "full_data = base_dir + \"4jul21/\"\n",
    "#full_data = base_dir + \"btcusd/\"\n",
    "data_gen = DataGenerator(random = False, base_dir = full_data)\n",
    "data_gen.rewind()\n",
    "data_count = (data_gen.steps - 100)\n",
    "#data_count = 200000\n",
    "raw = data_gen.next()\n",
    "\n",
    "minute = 30"
   ]
  },
  {
   "cell_type": "code",
   "execution_count": 3,
   "metadata": {},
   "outputs": [],
   "source": [
    "path = \"model/\"\n",
    "files = os.listdir(path)\n",
    "models = []\n",
    "for file in files:\n",
    "    models.append(f\"{path}{file}\")\n",
    "\n",
    "models = ['model/rand']\n",
    "    \n",
    "timestamp = int(raw['timestamp'])"
   ]
  },
  {
   "cell_type": "code",
   "execution_count": 4,
   "metadata": {
    "scrolled": true
   },
   "outputs": [
    {
     "name": "stderr",
     "output_type": "stream",
     "text": [
      "\r",
      "  0%|          | 0/10 [00:00<?, ?it/s]"
     ]
    },
    {
     "name": "stdout",
     "output_type": "stream",
     "text": [
      "model/rand - 10\n",
      "Pre selected: 10\n",
      "https://www.bitstamp.net/api/v2/ohlc/btcusd/?&currency_pair=btcusd&step=1800&limit=1000&start=1625258981\n",
      "Downloaded from 2021-07-02 21:30:00 to 2021-07-04 23:30:00 35655.00\n",
      "Resample 30Min - TecAn ( windows 40, windows_limit 100 )\n",
      "Processing 100 of btcusd\n"
     ]
    },
    {
     "data": {
      "application/vnd.jupyter.widget-view+json": {
       "model_id": "c9ee6b7876b044459a11437475478bc2",
       "version_major": 2,
       "version_minor": 0
      },
      "text/plain": [
       "  0%|          | 0/100 [00:00<?, ?it/s]"
      ]
     },
     "metadata": {},
     "output_type": "display_data"
    },
    {
     "name": "stderr",
     "output_type": "stream",
     "text": [
      "100%|██████████| 10/10 [00:15<00:00,  1.57s/it]"
     ]
    },
    {
     "name": "stdout",
     "output_type": "stream",
     "text": [
      "Selected: 9\n",
      "Pipeline(steps=[('normalizer', Normalizer()),\n",
      "                ('pipeline',\n",
      "                 Pipeline(steps=[('s',\n",
      "                                  RFECV(estimator=ExtraTreesClassifier(max_features=0.3),\n",
      "                                        scoring='recall')),\n",
      "                                 ('m',\n",
      "                                  RandomForestClassifier(bootstrap=False,\n",
      "                                                         criterion='entropy',\n",
      "                                                         max_features=0.1,\n",
      "                                                         random_state=42))]))])\n",
      "btcusd -> 103.36863496765659 | 21 - 9\n",
      "{'recall': 0.5177065767284992, 'precision': 0.5265866209262435, 'f1': 0.5221088435374149, 'accuracy': 0.6102635228848821, 'roc_auc': 0.5963091187529421}\n",
      "\n",
      "Pipeline(steps=[('minmaxscaler', MinMaxScaler()),\n",
      "                ('randomforestclassifier',\n",
      "                 RandomForestClassifier(bootstrap=False, criterion='entropy',\n",
      "                                        max_features=0.1, random_state=42))])\n",
      "btcusd -> 104.86869406038049 | 17 - 3\n",
      "{'recall': 0.7585335018963337, 'precision': 0.6153846153846154, 'f1': 0.6795016987542469, 'accuracy': 0.6074895977808599, 'roc_auc': 0.5912483177684433}\n",
      "\n",
      "Pipeline(steps=[('normalizer', Normalizer()),\n",
      "                ('pipeline',\n",
      "                 Pipeline(steps=[('s',\n",
      "                                  RFECV(estimator=ExtraTreesClassifier(max_features=0.3),\n",
      "                                        scoring='recall')),\n",
      "                                 ('m',\n",
      "                                  RandomForestClassifier(bootstrap=False,\n",
      "                                                         criterion='entropy',\n",
      "                                                         max_features=0.1,\n",
      "                                                         random_state=42))]))])\n",
      "btcusd -> 105.54003954936373 | 24 - 5\n",
      "{'recall': 0.6472819216182049, 'precision': 0.6392009987515606, 'f1': 0.6432160804020101, 'accuracy': 0.6061026352288488, 'roc_auc': 0.6016747549719289}\n",
      "\n",
      "Winner for ['btcusd']\n",
      "5.54004% -> 105.54003954936373\n",
      "States: 100 Positive: 24 Negative: 5\n",
      "Minutes=30 Window=40 Step=2 | 140.6828226509521 {'btcusd': 0.46846846846846846, 'ethusd': 0.4835680751173709, 'ltcusd': 0.43636363636363634, 'ltcbtc': 0.5208845208845209}\n",
      "Pipeline(steps=[('normalizer', Normalizer()),\n",
      "                ('pipeline',\n",
      "                 Pipeline(steps=[('s',\n",
      "                                  RFECV(estimator=ExtraTreesClassifier(max_features=0.3),\n",
      "                                        scoring='recall')),\n",
      "                                 ('m',\n",
      "                                  RandomForestClassifier(bootstrap=False,\n",
      "                                                         criterion='entropy',\n",
      "                                                         max_features=0.1,\n",
      "                                                         random_state=42))]))])\n",
      "\n"
     ]
    },
    {
     "name": "stderr",
     "output_type": "stream",
     "text": [
      "\n"
     ]
    }
   ],
   "source": [
    "winner = get_best_model(\n",
    "    minutes_list=[minute],\n",
    "    result_paths=models,\n",
    "    currency_list=[currency],\n",
    "    timestamp = timestamp,\n",
    "    winner_path = None\n",
    ")"
   ]
  },
  {
   "cell_type": "code",
   "execution_count": 5,
   "metadata": {},
   "outputs": [
    {
     "name": "stdout",
     "output_type": "stream",
     "text": [
      "Minutes=30 Window=40 Step=2 | 140.6828226509521\n",
      "Pipeline(steps=[('normalizer', Normalizer()),\n",
      "                ('pipeline',\n",
      "                 Pipeline(steps=[('s',\n",
      "                                  RFECV(estimator=ExtraTreesClassifier(max_features=0.3),\n",
      "                                        scoring='recall')),\n",
      "                                 ('m',\n",
      "                                  RandomForestClassifier(bootstrap=False,\n",
      "                                                         criterion='entropy',\n",
      "                                                         max_features=0.1,\n",
      "                                                         random_state=42))]))])\n",
      "Resample 30Min - TecAn ( windows 40, windows_limit 100 )\n"
     ]
    }
   ],
   "source": [
    "result = winner\n",
    "model = result['model']\n",
    "window = result['window']\n",
    "minutes = result['minutes']\n",
    "step = result['step']\n",
    "profit = result['profit']\n",
    "print(f\"Minutes={minutes} Window={window} Step={step} | {profit}\")\n",
    "print(f\"{model}\")\n",
    "\n",
    "agent, back, stock = get_agent(minutes = minutes,\n",
    "                                win = window,\n",
    "                                step = step,\n",
    "                                currency = currency,\n",
    "                                hot_load = False,\n",
    "                                model = model,\n",
    "                                timestamp = timestamp,\n",
    "                                simulate_on_price = True)"
   ]
  },
  {
   "cell_type": "code",
   "execution_count": null,
   "metadata": {},
   "outputs": [],
   "source": []
  },
  {
   "cell_type": "code",
   "execution_count": 6,
   "metadata": {},
   "outputs": [],
   "source": [
    "import numpy as np\n",
    "import matplotlib.pyplot as plt\n",
    "def get_charts(stock_data):\n",
    "    fig = plt.figure()\n",
    "    ax = plt.axes()\n",
    "    x = stock_data\n",
    "    plt.plot(x, linewidth=1)\n",
    "    #plt.grid(b=True, color='aqua', alpha=0.3, linestyle='-.', linewidth=2)\n",
    "    plt.show()\n"
   ]
  },
  {
   "cell_type": "code",
   "execution_count": 7,
   "metadata": {},
   "outputs": [],
   "source": [
    "val_start = 0\n",
    "val_end = 0\n",
    "def get_online_data(minutes, \n",
    "                    source_data_generator, \n",
    "                    load_from_disk, file_prefix = \"\",\n",
    "                    val_start = val_start,\n",
    "                    val_end = val_end):\n",
    "    \n",
    "    online = OnLineDataProvider(\n",
    "                 source_data_generator = source_data_generator,\n",
    "                 minutes = minutes,\n",
    "                 train_keys = [],\n",
    "                 train_limit = 1000,\n",
    "                 val_limit = 1000,\n",
    "                 val_keys = [currency],\n",
    "                 val_start = val_start,\n",
    "                 val_end = val_end,\n",
    "                 train_start_list = val_start\n",
    "    )\n",
    "\n",
    "    online_path = f'data/online{file_prefix}_{minutes}'\n",
    "    \n",
    "    online.load_val_cache([currency], online.val_start, online.val_end)\n",
    "    \n",
    "    return online"
   ]
  },
  {
   "cell_type": "code",
   "execution_count": 8,
   "metadata": {},
   "outputs": [],
   "source": [
    "prices = []\n",
    "agent.on_closed_price = lambda price: prices.append(price)\n",
    "\n",
    "on_raw_data = lambda raw: print(raw)\n"
   ]
  },
  {
   "cell_type": "code",
   "execution_count": 9,
   "metadata": {
    "scrolled": true
   },
   "outputs": [
    {
     "name": "stdout",
     "output_type": "stream",
     "text": [
      "2021-08-13 23:29:06.804785 ModelAgent(35340.23): 2021-07-04 23:00:04(1625439604) UP\n",
      "2021-08-13 23:29:06.804983 BackTest: 2021-07-04 23:00:04 Buy (35340.23): ask: 35340.23\n",
      "2021-08-13 23:29:13.864161 ModelAgent(35415.34): 2021-07-04 23:30:08(1625441408) UP\n",
      "2021-08-13 23:29:13.864351 BackTest: 2021-07-04 23:30:08 Profit detected price:35415.34  bid:35415.34 ask:35415.34\n",
      "2021-08-13 23:29:13.864410 BackTest: 2021-07-04 23:30:08 SOLD > (35415.34) Result: PROFIT 0.2125 total: 100.21253398746978\n",
      "2021-08-13 23:29:20.325248 ModelAgent(35247.7): 2021-07-05 00:00:17(1625443217) UP\n",
      "2021-08-13 23:29:20.325422 BackTest: 2021-07-05 00:00:17 Buy (35247.7): ask: 35247.7\n",
      "2021-08-13 23:29:27.583643 ModelAgent(34922.82): 2021-07-05 00:30:08(1625445008) UP\n",
      "2021-08-13 23:29:34.229493 ModelAgent(34898.82): 2021-07-05 01:00:40(1625446840) UP\n",
      "2021-08-13 23:29:40.664884 ModelAgent(34639.91): 2021-07-05 01:30:15(1625448615) DOWN\n",
      "2021-08-13 23:29:40.665104 BackTest: 2021-07-05 01:30:15 SOLD > (34639.91) Result: LOSS -1.7243 total: 98.48819452702274\n",
      "2021-08-13 23:29:47.542316 ModelAgent(34560.8): 2021-07-05 02:00:08(1625450408) UP\n",
      "2021-08-13 23:29:47.542444 BackTest: 2021-07-05 02:00:08 Buy (34560.8): ask: 34560.8\n",
      "2021-08-13 23:29:54.691434 ModelAgent(34477.16): 2021-07-05 02:30:40(1625452240) UP\n",
      "2021-08-13 23:30:01.007796 ModelAgent(34430.21): 2021-07-05 03:00:02(1625454002) UP\n",
      "2021-08-13 23:30:07.285811 ModelAgent(34426.56): 2021-07-05 03:30:06(1625455806) UP\n",
      "2021-08-13 23:30:13.992275 ModelAgent(34363.72): 2021-07-05 04:00:01(1625457601) DOWN\n",
      "2021-08-13 23:30:13.992446 BackTest: 2021-07-05 04:00:01 SOLD > (34363.72) Result: LOSS -0.5702 total: 97.9179530974262\n",
      "2021-08-13 23:30:20.884520 ModelAgent(34245.31): 2021-07-05 04:30:23(1625459423) DOWN\n",
      "2021-08-13 23:30:27.432861 ModelAgent(34199.5): 2021-07-05 05:00:01(1625461201) DOWN\n",
      "2021-08-13 23:30:33.848756 ModelAgent(34112.89): 2021-07-05 05:30:01(1625463001) DOWN\n",
      "2021-08-13 23:30:40.776988 ModelAgent(34344.29): 2021-07-05 06:00:17(1625464817) DOWN\n",
      "2021-08-13 23:30:47.534119 ModelAgent(34299.57): 2021-07-05 06:30:30(1625466630) UP\n",
      "2021-08-13 23:30:47.534296 BackTest: 2021-07-05 06:30:30 Buy (34299.57): ask: 34299.57\n",
      "2021-08-13 23:30:53.380914 ModelAgent(34295.01): 2021-07-05 07:00:03(1625468403) UP\n",
      "2021-08-13 23:31:00.220829 ModelAgent(34154.96): 2021-07-05 07:30:02(1625470202) UP\n",
      "2021-08-13 23:31:05.888446 ModelAgent(34269.56): 2021-07-05 08:00:01(1625472001) DOWN\n",
      "2021-08-13 23:31:05.888621 BackTest: 2021-07-05 08:00:01 SOLD > (34269.56) Result: LOSS -0.0875 total: 97.83045928919479\n",
      "2021-08-13 23:31:12.608688 ModelAgent(34174.91): 2021-07-05 08:30:11(1625473811) UP\n",
      "2021-08-13 23:31:12.608867 BackTest: 2021-07-05 08:30:11 Buy (34174.91): ask: 34174.91\n"
     ]
    }
   ],
   "source": [
    "data_gen.rewind()\n",
    "\n",
    "\n",
    "first = data_gen.next()\n",
    "#data_count\n",
    "for i in range(data_count):\n",
    "    raw = data_gen.next()\n",
    "    agent.on_new_raw_data(raw)"
   ]
  },
  {
   "cell_type": "code",
   "execution_count": 10,
   "metadata": {},
   "outputs": [
    {
     "name": "stdout",
     "output_type": "stream",
     "text": [
      "2021-08-13 23:31:16.726217 BackTest: 2021-07-05 08:50:02 SOLD > (34216.83) Result: LOSS 0.0 total: 97.83045928919479\n",
      "-2.16954% -> 97.83045928919479\n",
      "States: 301794 Positive: 1 Negative: 4\n"
     ]
    }
   ],
   "source": [
    "back.sell(back.buy_price)\n",
    "back.report()"
   ]
  },
  {
   "cell_type": "code",
   "execution_count": 11,
   "metadata": {},
   "outputs": [],
   "source": [
    "#-2.16954% -> 97.83045928919479\n",
    "#States: 301794 Positive: 1 Negative: 4"
   ]
  },
  {
   "cell_type": "code",
   "execution_count": 24,
   "metadata": {},
   "outputs": [],
   "source": [
    "#agent.ohlc.plot()"
   ]
  },
  {
   "cell_type": "code",
   "execution_count": 13,
   "metadata": {},
   "outputs": [],
   "source": [
    "val_end = int(raw['timestamp'])\n",
    "val_start = int(first['timestamp'])\n",
    "\n",
    "#val_start = 1625439604\n",
    "#val_end = 1625473811"
   ]
  },
  {
   "cell_type": "code",
   "execution_count": 25,
   "metadata": {},
   "outputs": [
    {
     "name": "stdout",
     "output_type": "stream",
     "text": [
      "20\n"
     ]
    }
   ],
   "source": [
    "#get_charts(prices)\n",
    "print(len(prices))"
   ]
  },
  {
   "cell_type": "code",
   "execution_count": 15,
   "metadata": {},
   "outputs": [],
   "source": [
    "tec = TecAn(windows = window, windows_limit = 100)\n",
    "source_data_generator = SourceDataGenerator(tec = tec)"
   ]
  },
  {
   "cell_type": "code",
   "execution_count": 16,
   "metadata": {},
   "outputs": [
    {
     "name": "stdout",
     "output_type": "stream",
     "text": [
      "https://www.bitstamp.net/api/v2/ohlc/btcusd/?&currency_pair=btcusd&step=1800&limit=1000&start=1625438981\n",
      "Downloaded from 2021-07-04 23:30:00 to 2021-07-05 10:00:00 34256.42\n",
      "Resample 30Min - TecAn ( windows 40, windows_limit 100 )\n",
      "Processing 21 of btcusd\n"
     ]
    },
    {
     "data": {
      "application/vnd.jupyter.widget-view+json": {
       "model_id": "69583bd6fabe493d8d7b58b206a07d6b",
       "version_major": 2,
       "version_minor": 0
      },
      "text/plain": [
       "  0%|          | 0/21 [00:00<?, ?it/s]"
      ]
     },
     "metadata": {},
     "output_type": "display_data"
    }
   ],
   "source": [
    "online = get_online_data(minutes = minute, \n",
    "                 source_data_generator = source_data_generator, \n",
    "                 load_from_disk = False, \n",
    "                 file_prefix = \"____\",\n",
    "                 val_start = val_start,\n",
    "                 val_end = val_end)"
   ]
  },
  {
   "cell_type": "code",
   "execution_count": 17,
   "metadata": {},
   "outputs": [],
   "source": [
    "x, y = online.load_val_data(currency)"
   ]
  },
  {
   "cell_type": "code",
   "execution_count": 26,
   "metadata": {},
   "outputs": [
    {
     "name": "stdout",
     "output_type": "stream",
     "text": [
      "21\n"
     ]
    }
   ],
   "source": [
    "#get_charts(y)\n",
    "print(len(y))"
   ]
  },
  {
   "cell_type": "code",
   "execution_count": 19,
   "metadata": {},
   "outputs": [
    {
     "data": {
      "text/plain": [
       "[35340.23,\n",
       " 35415.34,\n",
       " 35247.7,\n",
       " 34922.82,\n",
       " 34898.82,\n",
       " 34639.91,\n",
       " 34560.8,\n",
       " 34477.16,\n",
       " 34430.21,\n",
       " 34426.56,\n",
       " 34363.72,\n",
       " 34245.31,\n",
       " 34199.5,\n",
       " 34112.89,\n",
       " 34344.29,\n",
       " 34299.57,\n",
       " 34295.01,\n",
       " 34154.96,\n",
       " 34269.56,\n",
       " 34174.91]"
      ]
     },
     "execution_count": 19,
     "metadata": {},
     "output_type": "execute_result"
    }
   ],
   "source": [
    "prices"
   ]
  },
  {
   "cell_type": "code",
   "execution_count": 20,
   "metadata": {},
   "outputs": [
    {
     "data": {
      "text/plain": [
       "array([35340.23, 35415.34, 35255.  , 34922.82, 34898.82, 34639.91,\n",
       "       34560.8 , 34477.16, 34430.21, 34426.56, 34363.72, 34245.31,\n",
       "       34199.5 , 34112.89, 34344.29, 34299.57, 34295.01, 34149.71,\n",
       "       34269.56, 34174.91, 34256.42])"
      ]
     },
     "execution_count": 20,
     "metadata": {},
     "output_type": "execute_result"
    }
   ],
   "source": [
    "y"
   ]
  },
  {
   "cell_type": "code",
   "execution_count": 21,
   "metadata": {},
   "outputs": [
    {
     "name": "stdout",
     "output_type": "stream",
     "text": [
      "2021-08-13 23:31:18.327497 BackTest: 1970-01-01 00:00:00 Buy (35340.23): ask: 35340.23\n",
      "2021-08-13 23:31:18.340488 BackTest: 1970-01-01 00:00:00 Profit detected price:35415.34  bid:35415.34 ask:35415.34\n",
      "2021-08-13 23:31:18.340601 BackTest: 1970-01-01 00:00:00 SOLD > (35415.34) Result: PROFIT 0.2125 total: 100.21253398746978\n",
      "2021-08-13 23:31:18.364099 BackTest: 1970-01-01 00:00:00 Buy (34922.82): ask: 34922.82\n",
      "2021-08-13 23:31:18.388536 BackTest: 1970-01-01 00:00:00 SOLD > (34639.91) Result: LOSS -0.8101 total: 99.40243331404194\n",
      "2021-08-13 23:31:18.400114 BackTest: 1970-01-01 00:00:00 Buy (34560.8): ask: 34560.8\n",
      "2021-08-13 23:31:18.433955 BackTest: 1970-01-01 00:00:00 SOLD > (34426.56) Result: LOSS -0.3884 total: 99.01401637924876\n",
      "2021-08-13 23:31:18.479052 BackTest: 1970-01-01 00:00:00 Buy (34112.89): ask: 34112.89\n",
      "2021-08-13 23:31:18.494946 BackTest: 1970-01-01 00:00:00 Profit detected price:34344.29  bid:34344.29 ask:34344.29\n",
      "2021-08-13 23:31:18.495094 BackTest: 1970-01-01 00:00:00 SOLD > (34344.29) Result: PROFIT 0.6783 total: 99.69235233964379\n",
      "2021-08-13 23:31:18.520506 BackTest: 1970-01-01 00:00:00 Buy (34295.01): ask: 34295.01\n",
      "2021-08-13 23:31:18.573534 BackTest: 1970-01-01 00:00:00 SOLD > (34256.42) Result: LOSS -0.1125 total: 99.57982868095408\n"
     ]
    }
   ],
   "source": [
    "back = test_model(model, currency, online, step, verbose = True)"
   ]
  },
  {
   "cell_type": "code",
   "execution_count": 22,
   "metadata": {},
   "outputs": [
    {
     "name": "stdout",
     "output_type": "stream",
     "text": [
      "-0.42017% -> 99.57982868095408\n",
      "States: 21 Positive: 2 Negative: 3\n"
     ]
    }
   ],
   "source": [
    "back.report()"
   ]
  },
  {
   "cell_type": "code",
   "execution_count": null,
   "metadata": {},
   "outputs": [],
   "source": []
  }
 ],
 "metadata": {
  "kernelspec": {
   "display_name": "Python 3",
   "language": "python",
   "name": "python3"
  },
  "language_info": {
   "codemirror_mode": {
    "name": "ipython",
    "version": 3
   },
   "file_extension": ".py",
   "mimetype": "text/x-python",
   "name": "python",
   "nbconvert_exporter": "python",
   "pygments_lexer": "ipython3",
   "version": "3.9.5"
  }
 },
 "nbformat": 4,
 "nbformat_minor": 4
}
