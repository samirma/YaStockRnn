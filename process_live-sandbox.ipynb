{
 "cells": [
  {
   "cell_type": "code",
   "execution_count": 1,
   "metadata": {},
   "outputs": [],
   "source": [
    "import pandas as pd\n",
    "import data_util\n",
    "from tqdm import tqdm_notebook as tqdm\n",
    "from data_generator import DataGenerator\n",
    "from state_util import StateUtil\n",
    "from tec_an import TecAn\n",
    "from data_agent import DataAgent, TacProcess\n",
    "import numpy as np\n",
    "from data_util import *\n",
    "import tensorflow as tf\n",
    "from sklearn_model_hyper import *\n",
    "import pandas as pd\n",
    "from stock_agent import *\n"
   ]
  },
  {
   "cell_type": "code",
   "execution_count": 2,
   "metadata": {},
   "outputs": [],
   "source": [
    "def get_y_data(ohlc, shift = -1):\n",
    "    combined_data = ohlc\n",
    "    #combined_data['return'] = np.log(combined_data / combined_data.shift(1))\n",
    "    returns = (ohlc / ohlc.shift(shift))\n",
    "    combined_data['return'] = returns\n",
    "    combined_data['direction'] = np.where(combined_data['return'] < 1, 1, 0)\n",
    "    #print(combined_data)\n",
    "    #combined_data.dropna(inplace=True)\n",
    "    #print(combined_data[20:40])\n",
    "    return combined_data['direction']\n",
    "\n",
    "def split(x, y, split, shuffle=False):\n",
    "    trainX, valX, trainY, valY = train_test_split(np.array(x), np.array(y), test_size=split, shuffle=shuffle)\n",
    "    print(\"Completed: {} {} {} {}\".format(trainX.shape, trainY.shape, valX.shape, valY.shape))\n",
    "    return trainX, trainY, valX, valY\n",
    "\n",
    "\n",
    "def get_full_database(resample, raw_dir, base_dir = \"data/\"):\n",
    "\n",
    "    full_data = base_dir + raw_dir + \"/\"\n",
    "    data_gen = DataGenerator(random = False, base_dir = full_data)\n",
    "    data_gen.rewind()\n",
    "    data_count = (data_gen.steps - 100)\n",
    "    data_count = 200000\n",
    "\n",
    "    final_x = []\n",
    "\n",
    "    closed_prices = []\n",
    "\n",
    "    on_new_data = lambda x: final_x.append(x)\n",
    "    on_closed_price = lambda price: closed_prices.append(price)\n",
    "    \n",
    "    agent = DataAgent(\n",
    "        resample = resample,\n",
    "        on_new_data = on_new_data,\n",
    "        on_closed_price = on_closed_price\n",
    "    )\n",
    "\n",
    "    print(\"Processing {}\".format(raw_dir))\n",
    "\n",
    "    for i in tqdm(range(data_count)):\n",
    "        agent.on_new_raw_data(data_gen.next())\n",
    "\n",
    "\n",
    "    closes = pd.DataFrame(closed_prices, columns = ['Close'])\n",
    "\n",
    "    final_y = get_y_data(closes, -1)\n",
    "    \n",
    "    #print(agent.ohlc)\n",
    "    \n",
    "    return final_x, final_y.to_numpy(), closed_prices"
   ]
  },
  {
   "cell_type": "code",
   "execution_count": 3,
   "metadata": {},
   "outputs": [],
   "source": [
    "#data_gen = DataGenerator(random=False, base_dir = \"data/4jul21/\")\n",
    "\n",
    "data_gen = DataGenerator(random=False, base_dir = \"data/backtest/\")\n",
    "\n",
    "#data_gen = DataGenerator(random=False, base_dir = \"data/btcusd/\")\n",
    "\n",
    "data_gen.rewind()\n"
   ]
  },
  {
   "cell_type": "code",
   "execution_count": 4,
   "metadata": {},
   "outputs": [],
   "source": [
    "from joblib import dump, load\n",
    "\n",
    "#models = [\n",
    "#    load('model/StackingClassifier'), \n",
    "#]\n",
    "\n",
    "#print(f\"{len(models)}\")"
   ]
  },
  {
   "cell_type": "code",
   "execution_count": 5,
   "metadata": {},
   "outputs": [
    {
     "name": "stdout",
     "output_type": "stream",
     "text": [
      "Resample 2Min - TecAn ( windows 20, windows_limit 100 )\n",
      "Processing backtest\n"
     ]
    },
    {
     "name": "stderr",
     "output_type": "stream",
     "text": [
      "<ipython-input-2-d4477ab9176c>:41: TqdmDeprecationWarning: This function will be removed in tqdm==5.0.0\n",
      "Please use `tqdm.notebook.tqdm` instead of `tqdm.tqdm_notebook`\n",
      "  for i in tqdm(range(data_count)):\n"
     ]
    },
    {
     "data": {
      "application/vnd.jupyter.widget-view+json": {
       "model_id": "dacc59c13fed4edbad7df99cd6cef894",
       "version_major": 2,
       "version_minor": 0
      },
      "text/plain": [
       "  0%|          | 0/200000 [00:00<?, ?it/s]"
      ]
     },
     "metadata": {},
     "output_type": "display_data"
    },
    {
     "data": {
      "text/plain": [
       "174"
      ]
     },
     "execution_count": 5,
     "metadata": {},
     "output_type": "execute_result"
    }
   ],
   "source": [
    "\n",
    "x, y, closed_prices = get_full_database('2Min', \"backtest\", base_dir = \"data/\")\n",
    "\n",
    "len(x)"
   ]
  },
  {
   "cell_type": "code",
   "execution_count": 6,
   "metadata": {
    "scrolled": true
   },
   "outputs": [
    {
     "name": "stdout",
     "output_type": "stream",
     "text": [
      "1970-01-01 00:00:00 Buy (31896.42): ask: 31896.42\n",
      "1970-01-01 00:00:00 Sell (31930.72) 34.30000000000291 total: 100.10753557922801\n",
      "1970-01-01 00:00:00 Buy (31580.51): ask: 31580.51\n",
      "1970-01-01 00:00:00 Sell (31855.21) 274.7000000000007 total: 100.97737586996429\n",
      "1970-01-01 00:00:00 Buy (31769.63): ask: 31769.63\n",
      "1970-01-01 00:00:00 Sell (32189.02) 419.3899999999994 total: 102.29747308230199\n",
      "1970-01-01 00:00:00 Buy (31713.93): ask: 31713.93\n",
      "1970-01-01 00:00:00 Sell (31808.47) 94.54000000000087 total: 102.59557552498255\n",
      "1970-01-01 00:00:00 Buy (31664.44): ask: 31664.44\n",
      "1970-01-01 00:00:00 Sell (31709.75) 45.31000000000131 total: 102.7386697972956\n",
      "1970-01-01 00:00:00 Buy (31684.99): ask: 31684.99\n",
      "1970-01-01 00:00:00 Sell (31910.81) 225.8199999999997 total: 103.45137319407749\n",
      "1970-01-01 00:00:00 Buy (31772.68): ask: 31772.68\n",
      "1970-01-01 00:00:00 Sell (31952.03) 179.34999999999854 total: 104.01585185939624\n",
      "1970-01-01 00:00:00 Buy (31899.88): ask: 31899.88\n",
      "1970-01-01 00:00:00 Sell (31910.94) 11.059999999997672 total: 104.05052283621495\n",
      "1970-01-01 00:00:00 Buy (31689.95): ask: 31689.95\n",
      "1970-01-01 00:00:00 Sell (31761.05) 71.09999999999854 total: 104.27488418736887\n",
      "1970-01-01 00:00:00 Buy (31607.81): ask: 31607.81\n",
      "1970-01-01 00:00:00 Sell (31677.79) 69.97999999999956 total: 104.49628516389967\n",
      "1970-01-01 00:00:00 Buy (31347.22): ask: 31347.22\n",
      "1970-01-01 00:00:00 Sell (31508.98) 161.7599999999984 total: 105.0123117844421\n",
      "1970-01-01 00:00:00 Buy (31406.58): ask: 31406.58\n",
      "1970-01-01 00:00:00 Sell (31574.21) 167.62999999999738 total: 105.54605343985315\n",
      "1970-01-01 00:00:00 Buy (31490.49): ask: 31490.49\n",
      "1970-01-01 00:00:00 Sell (31589.31) 98.81999999999971 total: 105.85986246600677\n",
      "1970-01-01 00:00:00 Buy (31452.41): ask: 31452.41\n",
      "1970-01-01 00:00:00 Sell (31478.13) 25.720000000001164 total: 105.94163680380792\n",
      "1970-01-01 00:00:00 Buy (31470.79): ask: 31470.79\n",
      "1970-01-01 00:00:00 Sell (31538.13) 67.34000000000015 total: 106.15561300205398\n",
      "1970-01-01 00:00:00 Buy (31492.15): ask: 31492.15\n",
      "1970-01-01 00:00:00 Sell (31590.0) 97.84999999999854 total: 106.46632535417982\n",
      "1970-01-01 00:00:00 Buy (31555.92): ask: 31555.92\n",
      "1970-01-01 00:00:00 Sell (31858.64) 302.72000000000116 total: 107.42563821845378\n",
      "1970-01-01 00:00:00 Buy (31813.66): ask: 31813.66\n",
      "1970-01-01 00:00:00 Sell (31908.2) 94.54000000000087 total: 107.72280616454991\n",
      "1970-01-01 00:00:00 Buy (31807.59): ask: 31807.59\n",
      "1970-01-01 00:00:00 Sell (31820.99) 13.400000000001455 total: 107.76493447417664\n",
      "1970-01-01 00:00:00 Buy (31431.5): ask: 31431.5\n",
      "1970-01-01 00:00:00 Sell (31748.18) 316.6800000000003 total: 108.7724587730488\n",
      "1970-01-01 00:00:00 Buy (31420.11): ask: 31420.11\n",
      "1970-01-01 00:00:00 Sell (31858.17) 438.0599999999977 total: 110.1666614031478\n",
      "1970-01-01 00:00:00 Buy (31735.51): ask: 31735.51\n",
      "1970-01-01 00:00:00 Sell (32150.75) 415.2400000000016 total: 111.47510106584741\n",
      "1970-01-01 00:00:00 Buy (31836.74): ask: 31836.74\n",
      "1970-01-01 00:00:00 Sell (32108.96) 272.2199999999975 total: 112.33015092333909\n",
      "1970-01-01 00:00:00 Buy (31913.99): ask: 31913.99\n",
      "1970-01-01 00:00:00 Sell (32028.85) 114.85999999999694 total: 112.69005578011193\n",
      "1970-01-01 00:00:00 Buy (31904.01): ask: 31904.01\n",
      "1970-01-01 00:00:00 Sell (31938.71) 34.70000000000073 total: 112.7988195373951\n",
      "1970-01-01 00:00:00 Buy (31854.54): ask: 31854.54\n",
      "1970-01-01 00:00:00 Sell (31939.0) 84.45999999999913 total: 113.06396227686018\n",
      "1970-01-01 00:00:00 Buy (31786.27): ask: 31786.27\n",
      "1970-01-01 00:00:00 Sell (31848.05) 61.779999999998836 total: 113.25832292376842\n",
      "1970-01-01 00:00:00 Buy (31717.59): ask: 31717.59\n",
      "1970-01-01 00:00:00 Sell (31750.34) 32.75 total: 113.36157793147865\n",
      "1970-01-01 00:00:00 Buy (31717.77): ask: 31717.77\n",
      "1970-01-01 00:00:00 Sell (31788.43) 70.65999999999985 total: 113.5843552578796\n",
      "1970-01-01 00:00:00 Buy (31628.77): ask: 31628.77\n",
      "1970-01-01 00:00:00 Sell (31650.17) 21.399999999997817 total: 113.65201517636518\n",
      "1970-01-01 00:00:00 Buy (31537.54): ask: 31537.54\n",
      "1970-01-01 00:00:00 Sell (31695.71) 158.16999999999825 total: 114.15354446495269\n",
      "1970-01-01 00:00:00 Buy (31650.34): ask: 31650.34\n",
      "1970-01-01 00:00:00 Sell (32039.54) 389.2000000000007 total: 115.38323109707102\n",
      "1970-01-01 00:00:00 Buy (31954.94): ask: 31954.94\n",
      "1970-01-01 00:00:00 Sell (31958.07) 3.1300000000010186 total: 115.39302613971545\n",
      "1970-01-01 00:00:00 Buy (31947.28): ask: 31947.28\n",
      "1970-01-01 00:00:00 Sell (32001.28) 54.0 total: 115.56205461412704\n",
      "1970-01-01 00:00:00 Buy (31983.34): ask: 31983.34\n",
      "1970-01-01 00:00:00 Sell (31991.24) 7.900000000001455 total: 115.58675497375178\n",
      "1970-01-01 00:00:00 Buy (31822.28): ask: 31822.28\n",
      "1970-01-01 00:00:00 Sell (31890.37) 68.09000000000015 total: 115.80072455732656\n",
      "1970-01-01 00:00:00 Buy (31779.66): ask: 31779.66\n",
      "1970-01-01 00:00:00 Sell (31790.83) 11.170000000001892 total: 115.83587282511797\n",
      "1970-01-01 00:00:00 Buy (31720.0): ask: 31720.0\n",
      "1970-01-01 00:00:00 Sell (31735.43) 15.430000000000291 total: 115.88451721351646\n",
      "1970-01-01 00:00:00 Buy (31733.47): ask: 31733.47\n",
      "1970-01-01 00:00:00 Sell (31741.16) 7.68999999999869 total: 115.90875030242857\n",
      "1970-01-01 00:00:00 Buy (31710.95): ask: 31710.95\n",
      "1970-01-01 00:00:00 Sell (32021.58) 310.630000000001 total: 116.88831729742557\n",
      "1970-01-01 00:00:00 Buy (31941.2): ask: 31941.2\n",
      "1970-01-01 00:00:00 Sell (31962.22) 21.020000000000437 total: 116.95412572040279\n"
     ]
    }
   ],
   "source": [
    "back = BackTest(value = 100, verbose = True)\n",
    "for idx in range(len(x)):\n",
    "    yy = y[idx]\n",
    "    price = closed_prices[idx]\n",
    "    #print(f'{idx} {yy} {price}')\n",
    "    back.on_state(0, price)\n",
    "    if(yy == 1):\n",
    "        back.request_buy(price)\n",
    "    else:\n",
    "        back.request_sell(price)\n"
   ]
  },
  {
   "cell_type": "code",
   "execution_count": 7,
   "metadata": {},
   "outputs": [
    {
     "name": "stdout",
     "output_type": "stream",
     "text": [
      "100\n",
      "116.95412572040279\n",
      "16.954125720402786%\n"
     ]
    }
   ],
   "source": [
    "back.report()"
   ]
  },
  {
   "cell_type": "code",
   "execution_count": 8,
   "metadata": {},
   "outputs": [
    {
     "name": "stderr",
     "output_type": "stream",
     "text": [
      "<ipython-input-8-8b99b3dd3ef4>:7: TqdmDeprecationWarning: This function will be removed in tqdm==5.0.0\n",
      "Please use `tqdm.notebook.tqdm` instead of `tqdm.tqdm_notebook`\n",
      "  for i in tqdm(range(data_count)):\n"
     ]
    },
    {
     "data": {
      "application/vnd.jupyter.widget-view+json": {
       "model_id": "c8d4f71607744a2db99272506e9dd8ec",
       "version_major": 2,
       "version_minor": 0
      },
      "text/plain": [
       "  0%|          | 0/200000 [00:00<?, ?it/s]"
      ]
     },
     "metadata": {},
     "output_type": "display_data"
    }
   ],
   "source": [
    "data_count = data_gen.steps\n",
    "data_count = 200000 \n",
    "data_gen.rewind()\n",
    "\n",
    "raw_data = []\n",
    "\n",
    "for i in tqdm(range(data_count)):\n",
    "    raw_data.append(data_gen.next())"
   ]
  },
  {
   "cell_type": "code",
   "execution_count": 9,
   "metadata": {
    "scrolled": true
   },
   "outputs": [],
   "source": [
    "def process_model(model, resample):\n",
    "    back = BackTest(value = 100)\n",
    "\n",
    "    request_sell = lambda price: back.request_sell(price)\n",
    "    request_buy = lambda price: back.request_buy(price)\n",
    "    on_state = lambda timestamp, price: back.on_state(timestamp, price)\n",
    "\n",
    "    stock = StockAgent(model = model,\n",
    "                    request_sell = request_sell,\n",
    "                    request_buy = request_buy,\n",
    "                    on_state = on_state\n",
    "                      )\n",
    "\n",
    "\n",
    "    data_gen.rewind()\n",
    "    back.reset()\n",
    "\n",
    "    on_new_data = lambda x: print(x)\n",
    "    on_new_data = lambda x: stock.on_x(x)\n",
    "\n",
    "    on_state = lambda timestamp, price, bid, ask: print(\"{} {} {} {}\".format(timestamp, price, bid[-1], ask[-1]))\n",
    "    on_state = lambda timestamp, price, bid, ask: stock.on_new_state(timestamp, price, bid, ask)\n",
    "\n",
    "\n",
    "    agent = DataAgent(\n",
    "        resample = resample,\n",
    "        on_state = on_state,\n",
    "        on_new_data = on_new_data\n",
    "    )\n",
    "\n",
    "    on_new_data_count = 0\n",
    "\n",
    "    for raw in tqdm(raw_data):\n",
    "        agent.on_new_raw_data(raw)\n",
    "\n",
    "    if (back.bought):\n",
    "        stock.sell()\n",
    "\n",
    "    (agent.ohlc).plot(figsize=(20, 12))\n",
    "        \n",
    "    return back"
   ]
  },
  {
   "cell_type": "code",
   "execution_count": 10,
   "metadata": {},
   "outputs": [],
   "source": [
    "class ModelTest():\n",
    "    \n",
    "    def __init__(self,\n",
    "                 resample = '2Min'\n",
    "                 ):\n",
    "        self.index = 0\n",
    "        \n",
    "    def predict(self, x):\n",
    "        yy = y[self.index]\n",
    "        self.index += 1\n",
    "        return [yy]"
   ]
  },
  {
   "cell_type": "code",
   "execution_count": null,
   "metadata": {},
   "outputs": [],
   "source": []
  },
  {
   "cell_type": "code",
   "execution_count": null,
   "metadata": {},
   "outputs": [
    {
     "name": "stdout",
     "output_type": "stream",
     "text": [
      "Resample 2Min - TecAn ( windows 20, windows_limit 100 )\n"
     ]
    },
    {
     "name": "stderr",
     "output_type": "stream",
     "text": [
      "<ipython-input-9-23b3d903de1a>:33: TqdmDeprecationWarning: This function will be removed in tqdm==5.0.0\n",
      "Please use `tqdm.notebook.tqdm` instead of `tqdm.tqdm_notebook`\n",
      "  for raw in tqdm(raw_data):\n"
     ]
    },
    {
     "data": {
      "application/vnd.jupyter.widget-view+json": {
       "model_id": "c1f91f42b838438f9325e021ee95848f",
       "version_major": 2,
       "version_minor": 0
      },
      "text/plain": [
       "  0%|          | 0/200000 [00:00<?, ?it/s]"
      ]
     },
     "metadata": {},
     "output_type": "display_data"
    }
   ],
   "source": [
    "model = ModelTest()\n",
    "backProc = process_model(model, '2Min')"
   ]
  },
  {
   "cell_type": "code",
   "execution_count": null,
   "metadata": {},
   "outputs": [],
   "source": [
    "backProc.report()"
   ]
  },
  {
   "cell_type": "code",
   "execution_count": null,
   "metadata": {},
   "outputs": [],
   "source": []
  }
 ],
 "metadata": {
  "kernelspec": {
   "display_name": "Python 3",
   "language": "python",
   "name": "python3"
  },
  "language_info": {
   "codemirror_mode": {
    "name": "ipython",
    "version": 3
   },
   "file_extension": ".py",
   "mimetype": "text/x-python",
   "name": "python",
   "nbconvert_exporter": "python",
   "pygments_lexer": "ipython3",
   "version": "3.9.5"
  }
 },
 "nbformat": 4,
 "nbformat_minor": 4
}
