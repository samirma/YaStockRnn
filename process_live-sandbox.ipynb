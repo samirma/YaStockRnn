{
 "cells": [
  {
   "cell_type": "code",
   "execution_count": 1,
   "metadata": {},
   "outputs": [],
   "source": [
    "import pandas as pd\n",
    "import data_util\n",
    "from tqdm import tqdm_notebook as tqdm\n",
    "from data_generator import DataGenerator\n",
    "from state_util import StateUtil\n",
    "from tec_an import TecAn\n",
    "from data_agent import DataAgent, TacProcess\n",
    "import numpy as np\n",
    "from data_util import *\n",
    "import tensorflow as tf\n",
    "from sklearn_model_hyper import *\n",
    "import pandas as pd\n",
    "from stock_agent import *\n"
   ]
  },
  {
   "cell_type": "code",
   "execution_count": 2,
   "metadata": {},
   "outputs": [],
   "source": [
    "def get_y_data(ohlc, shift = -1):\n",
    "    combined_data = ohlc\n",
    "    #combined_data['return'] = np.log(combined_data / combined_data.shift(1))\n",
    "    returns = (ohlc / ohlc.shift(shift))\n",
    "    combined_data['return'] = returns\n",
    "    combined_data['direction'] = np.where(combined_data['return'] < 1, 1, 0)\n",
    "    #print(combined_data)\n",
    "    #combined_data.dropna(inplace=True)\n",
    "    return combined_data['direction']\n",
    "\n",
    "def split(x, y, split, shuffle=False):\n",
    "    trainX, valX, trainY, valY = train_test_split(np.array(x), np.array(y), test_size=split, shuffle=shuffle)\n",
    "    print(\"Completed: {} {} {} {}\".format(trainX.shape, trainY.shape, valX.shape, valY.shape))\n",
    "    return trainX, trainY, valX, valY\n",
    "\n",
    "\n",
    "def get_full_database(resample, raw_dir, base_dir = \"data/\"):\n",
    "\n",
    "    full_data = base_dir + raw_dir + \"/\"\n",
    "    data_gen = DataGenerator(random = False, base_dir = full_data)\n",
    "    data_gen.rewind()\n",
    "    data_count = (data_gen.steps - 100)\n",
    "    #data_count = 20000\n",
    "\n",
    "    final_x = []\n",
    "\n",
    "    closed_prices = []\n",
    "\n",
    "    on_new_data = lambda x: final_x.append(x)\n",
    "    on_closed_price = lambda price: closed_prices.append(price)\n",
    "    \n",
    "    agent = DataAgent(\n",
    "        resample = resample,\n",
    "        on_new_data = on_new_data,\n",
    "        on_closed_price = on_closed_price\n",
    "    )\n",
    "\n",
    "    print(\"Processing {}\".format(raw_dir))\n",
    "\n",
    "    for i in tqdm(range(data_count)):\n",
    "        agent.on_new_raw_data(data_gen.next())\n",
    "\n",
    "\n",
    "    closes = pd.DataFrame(closed_prices, columns = ['Close'])\n",
    "\n",
    "    final_y = get_y_data(closes, -2)\n",
    "    \n",
    "    #print(agent.ohlc)\n",
    "    \n",
    "    return final_x, final_y.to_numpy(), closed_prices"
   ]
  },
  {
   "cell_type": "code",
   "execution_count": 3,
   "metadata": {},
   "outputs": [],
   "source": [
    "data_gen = DataGenerator(random=False, base_dir = \"data/4jul21/\")\n",
    "\n",
    "#data_gen = DataGenerator(random=False, base_dir = \"data/backtest/\")\n",
    "\n",
    "#data_gen = DataGenerator(random=False, base_dir = \"data/btcusd/\")\n",
    "\n",
    "data_gen.rewind()\n"
   ]
  },
  {
   "cell_type": "code",
   "execution_count": 4,
   "metadata": {},
   "outputs": [
    {
     "name": "stdout",
     "output_type": "stream",
     "text": [
      "7\n"
     ]
    }
   ],
   "source": [
    "from joblib import dump, load\n",
    "\n",
    "models = [\n",
    "    load('model/StackingClassifier'), \n",
    "    load('model/7142857142857143'),\n",
    "    load('model/RandomForestClassifier'),\n",
    "    load('model/RandomForestClassifier_accuracy_score'),\n",
    "    load('model/RandomForestClassifier_f1_score'),\n",
    "    load('model/QuadraticDiscriminantAnalysis'),\n",
    "    load('model/RandomForestClassifier2')\n",
    "]\n",
    "\n",
    "print(f\"{len(models)}\")"
   ]
  },
  {
   "cell_type": "code",
   "execution_count": 5,
   "metadata": {},
   "outputs": [
    {
     "name": "stdout",
     "output_type": "stream",
     "text": [
      "Resample 2Min - TecAn ( windows 20, windows_limit 100 )\n",
      "Processing 4jul21\n"
     ]
    },
    {
     "name": "stderr",
     "output_type": "stream",
     "text": [
      "<ipython-input-2-3dd1fc32f772>:40: TqdmDeprecationWarning: This function will be removed in tqdm==5.0.0\n",
      "Please use `tqdm.notebook.tqdm` instead of `tqdm.tqdm_notebook`\n",
      "  for i in tqdm(range(data_count)):\n"
     ]
    },
    {
     "data": {
      "application/vnd.jupyter.widget-view+json": {
       "model_id": "4974aef44ad44a428cbefa7dbe3d1f74",
       "version_major": 2,
       "version_minor": 0
      },
      "text/plain": [
       "  0%|          | 0/301794 [00:00<?, ?it/s]"
      ]
     },
     "metadata": {},
     "output_type": "display_data"
    },
    {
     "data": {
      "text/plain": [
       "301"
      ]
     },
     "execution_count": 5,
     "metadata": {},
     "output_type": "execute_result"
    }
   ],
   "source": [
    "\n",
    "x, y, closed_prices = get_full_database('2Min', \"4jul21\", base_dir = \"data/\")\n",
    "\n",
    "len(x)"
   ]
  },
  {
   "cell_type": "code",
   "execution_count": 10,
   "metadata": {
    "scrolled": true
   },
   "outputs": [
    {
     "name": "stdout",
     "output_type": "stream",
     "text": [
      "1970-01-01 00:00:00 Buy (35380.96): ask: 35380.96\n",
      "1970-01-01 00:00:00 Sell (35413.55) 32.59000000000378 total: 100.09211168945106\n",
      "1970-01-01 00:00:00 Buy (35250.24): ask: 35250.24\n",
      "1970-01-01 00:00:00 Sell (35325.67) 75.43000000000029 total: 100.30609604813912\n",
      "1970-01-01 00:00:00 Buy (35313.7): ask: 35313.7\n",
      "1970-01-01 00:00:00 Sell (35425.94) 112.24000000000524 total: 100.62393303491766\n",
      "1970-01-01 00:00:00 Buy (35383.52): ask: 35383.52\n",
      "1970-01-01 00:00:00 Sell (35433.55) 50.03000000000611 total: 100.76532654240364\n",
      "1970-01-01 00:00:00 Buy (35281.97): ask: 35281.97\n",
      "1970-01-01 00:00:00 Sell (35338.36) 56.38999999999942 total: 100.92515321874853\n",
      "1970-01-01 00:00:00 Buy (35331.87): ask: 35331.87\n",
      "1970-01-01 00:00:00 Sell (35333.93) 2.0599999999976717 total: 100.93098364889559\n",
      "1970-01-01 00:00:00 Buy (34929.17): ask: 34929.17\n",
      "1970-01-01 00:00:00 Sell (35019.56) 90.38999999999942 total: 101.18976449023822\n",
      "1970-01-01 00:00:00 Buy (34949.27): ask: 34949.27\n",
      "1970-01-01 00:00:00 Sell (35006.43) 57.16000000000349 total: 101.35331583194008\n",
      "1970-01-01 00:00:00 Buy (34974.1): ask: 34974.1\n",
      "1970-01-01 00:00:00 Sell (34981.31) 7.209999999999127 total: 101.373931087229\n",
      "1970-01-01 00:00:00 Buy (34943.8): ask: 34943.8\n",
      "1970-01-01 00:00:00 Sell (34978.62) 34.81999999999971 total: 101.47357680406574\n",
      "1970-01-01 00:00:00 Buy (34977.26): ask: 34977.26\n",
      "1970-01-01 00:00:00 Sell (35000.0) 22.739999999997963 total: 101.53859047294661\n",
      "1970-01-01 00:00:00 Buy (34997.02): ask: 34997.02\n",
      "1970-01-01 00:00:00 Sell (34997.52) 0.5 total: 101.54001916601818\n",
      "1970-01-01 00:00:00 Buy (34794.52): ask: 34794.52\n",
      "1970-01-01 00:00:00 Sell (34901.5) 106.9800000000032 total: 101.84748137558454\n",
      "1970-01-01 00:00:00 Buy (34875.54): ask: 34875.54\n",
      "1970-01-01 00:00:00 Sell (34906.86) 31.31999999999971 total: 101.93728643666746\n",
      "1970-01-01 00:00:00 Buy (34893.56): ask: 34893.56\n",
      "1970-01-01 00:00:00 Sell (34903.79) 10.230000000003201 total: 101.96660416750377\n",
      "1970-01-01 00:00:00 Buy (34551.48): ask: 34551.48\n",
      "1970-01-01 00:00:00 Sell (34673.72) 122.23999999999796 total: 102.32039509049751\n",
      "1970-01-01 00:00:00 Buy (34569.93): ask: 34569.93\n",
      "1970-01-01 00:00:00 Sell (34622.28) 52.349999999998545 total: 102.47182727447937\n",
      "1970-01-01 00:00:00 Buy (34587.84): ask: 34587.84\n",
      "1970-01-01 00:00:00 Sell (34645.76) 57.92000000000553 total: 102.63928497059456\n",
      "1970-01-01 00:00:00 Buy (34581.94): ask: 34581.94\n",
      "1970-01-01 00:00:00 Sell (34625.9) 43.95999999999913 total: 102.76640334509871\n",
      "1970-01-01 00:00:00 Buy (34401.45): ask: 34401.45\n",
      "1970-01-01 00:00:00 Sell (34520.69) 119.24000000000524 total: 103.11301664192196\n",
      "1970-01-01 00:00:00 Buy (34369.32): ask: 34369.32\n",
      "1970-01-01 00:00:00 Sell (34423.27) 53.94999999999709 total: 103.2699880338494\n",
      "1970-01-01 00:00:00 Buy (34369.32): ask: 34369.32\n",
      "1970-01-01 00:00:00 Sell (34539.16) 169.84000000000378 total: 103.76414968732408\n",
      "1970-01-01 00:00:00 Buy (34393.67): ask: 34393.67\n",
      "1970-01-01 00:00:00 Sell (34397.87) 4.200000000004366 total: 103.77636123671675\n",
      "1970-01-01 00:00:00 Buy (34335.92): ask: 34335.92\n",
      "1970-01-01 00:00:00 Sell (34370.31) 34.38999999999942 total: 103.87651873941364\n",
      "1970-01-01 00:00:00 Buy (34309.1): ask: 34309.1\n",
      "1970-01-01 00:00:00 Sell (34363.38) 54.279999999998836 total: 104.03472749452524\n",
      "1970-01-01 00:00:00 Buy (34149.71): ask: 34149.71\n",
      "1970-01-01 00:00:00 Sell (34170.9) 21.19000000000233 total: 104.09677780183387\n",
      "1970-01-01 00:00:00 Buy (34061.89): ask: 34061.89\n",
      "1970-01-01 00:00:00 Sell (34186.88) 124.98999999999796 total: 104.46372749252924\n",
      "1970-01-01 00:00:00 Buy (34224.0): ask: 34224.0\n",
      "1970-01-01 00:00:00 Sell (34364.41) 140.4100000000035 total: 104.8739951409631\n",
      "1970-01-01 00:00:00 Buy (34355.86): ask: 34355.86\n",
      "1970-01-01 00:00:00 Sell (34394.23) 38.37000000000262 total: 104.98567914479827\n",
      "1970-01-01 00:00:00 Buy (34204.62): ask: 34204.62\n",
      "1970-01-01 00:00:00 Sell (34278.14) 73.5199999999968 total: 105.20062086904487\n",
      "1970-01-01 00:00:00 Buy (34270.19): ask: 34270.19\n",
      "1970-01-01 00:00:00 Sell (34310.15) 39.95999999999913 total: 105.31722366581955\n",
      "1970-01-01 00:00:00 Buy (34147.18): ask: 34147.18\n",
      "1970-01-01 00:00:00 Sell (34171.53) 24.349999999998545 total: 105.38853262896086\n",
      "1970-01-01 00:00:00 Buy (34113.82): ask: 34113.82\n",
      "1970-01-01 00:00:00 Sell (34202.47) 88.65000000000146 total: 105.64839798558174\n",
      "1970-01-01 00:00:00 Buy (34199.73): ask: 34199.73\n",
      "1970-01-01 00:00:00 Sell (34191.61) -8.12000000000262 total: 105.62465510807948\n",
      "1970-01-01 00:00:00 Buy (34178.45): ask: 34178.45\n",
      "1970-01-01 00:00:00 Sell (34356.45) 178.0 total: 106.14545110672775\n",
      "1970-01-01 00:00:00 Buy (34254.46): ask: 34254.46\n",
      "1970-01-01 00:00:00 Sell (34397.53) 143.0699999999997 total: 106.56311934613365\n",
      "1970-01-01 00:00:00 Buy (34352.26): ask: 34352.26\n",
      "1970-01-01 00:00:00 Sell (34369.32) 17.05999999999767 total: 106.61278128977287\n",
      "1970-01-01 00:00:00 Buy (34264.34): ask: 34264.34\n",
      "1970-01-01 00:00:00 Sell (34320.65) 56.31000000000495 total: 106.77712124203812\n",
      "1970-01-01 00:00:00 Buy (34300.0): ask: 34300.0\n",
      "1970-01-01 00:00:00 Sell (34295.09) -4.9100000000034925 total: 106.76280637323345\n",
      "1970-01-01 00:00:00 Buy (34284.29): ask: 34284.29\n",
      "1970-01-01 00:00:00 Sell (34289.38) 5.0899999999965075 total: 106.77765282331306\n",
      "1970-01-01 00:00:00 Buy (34288.97): ask: 34288.97\n",
      "1970-01-01 00:00:00 Sell (34290.35) 1.3799999999973807 total: 106.78167744114205\n",
      "1970-01-01 00:00:00 Buy (34225.44): ask: 34225.44\n",
      "1970-01-01 00:00:00 Sell (34251.09) 25.64999999999418 total: 106.85662169313704\n",
      "1970-01-01 00:00:00 Buy (34177.22): ask: 34177.22\n",
      "1970-01-01 00:00:00 Sell (34204.17) 26.94999999999709 total: 106.93547538574282\n",
      "1970-01-01 00:00:00 Buy (34100.0): ask: 34100.0\n",
      "1970-01-01 00:00:00 Sell (34226.68) 126.68000000000029 total: 107.30697098691584\n",
      "1970-01-01 00:00:00 Buy (34195.93): ask: 34195.93\n",
      "1970-01-01 00:00:00 Sell (34202.45) 6.519999999996799 total: 107.32603758343771\n",
      "1970-01-01 00:00:00 Buy (34185.66): ask: 34185.66\n",
      "1970-01-01 00:00:00 Sell (34271.7) 86.0399999999936 total: 107.5777220616663\n",
      "1970-01-01 00:00:00 Buy (34200.81): ask: 34200.81\n",
      "1970-01-01 00:00:00 Sell (34253.14) 52.330000000001746 total: 107.73073013369735\n",
      "1970-01-01 00:00:00 Buy (34229.84): ask: 34229.84\n",
      "1970-01-01 00:00:00 Sell (34226.74) -3.099999999998545 total: 107.72167370807574\n",
      "1970-01-01 00:00:00 Buy (34167.86): ask: 34167.86\n",
      "1970-01-01 00:00:00 Sell (34191.28) 23.419999999998254 total: 107.7902176555164\n",
      "1970-01-01 00:00:00 Buy (34173.9): ask: 34173.9\n",
      "1970-01-01 00:00:00 Sell (34260.14) 86.23999999999796 total: 108.0425739859323\n",
      "1970-01-01 00:00:00 Buy (34188.63): ask: 34188.63\n",
      "1970-01-01 00:00:00 Sell (34249.34) 60.70999999999913 total: 108.22014764126742\n"
     ]
    }
   ],
   "source": [
    "back = BackTest(value = 100, verbose = True)\n",
    "for idx in range(len(x)):\n",
    "    yy = y[idx]\n",
    "    price = closed_prices[idx]\n",
    "    #print(f'{idx} {yy} {price}')\n",
    "    back.on_state(0, price)\n",
    "    if(yy == 1):\n",
    "        back.request_buy(price)\n",
    "    else:\n",
    "        back.request_sell(price)\n"
   ]
  },
  {
   "cell_type": "code",
   "execution_count": 8,
   "metadata": {},
   "outputs": [
    {
     "name": "stdout",
     "output_type": "stream",
     "text": [
      "100\n",
      "108.22014764126742\n",
      "108.22014764126742\n"
     ]
    }
   ],
   "source": [
    "back.report()"
   ]
  },
  {
   "cell_type": "code",
   "execution_count": 7,
   "metadata": {},
   "outputs": [
    {
     "name": "stderr",
     "output_type": "stream",
     "text": [
      "<ipython-input-7-5fbf08f74a14>:7: TqdmDeprecationWarning: This function will be removed in tqdm==5.0.0\n",
      "Please use `tqdm.notebook.tqdm` instead of `tqdm.tqdm_notebook`\n",
      "  for i in tqdm(range(data_count)):\n"
     ]
    },
    {
     "data": {
      "application/vnd.jupyter.widget-view+json": {
       "model_id": "32670faf91b3410b9e20cb7481feb321",
       "version_major": 2,
       "version_minor": 0
      },
      "text/plain": [
       "  0%|          | 0/301894 [00:00<?, ?it/s]"
      ]
     },
     "metadata": {},
     "output_type": "display_data"
    },
    {
     "name": "stderr",
     "output_type": "stream",
     "text": [
      "ERROR:root:Internal Python error in the inspect module.\n",
      "Below is the traceback from this internal error.\n",
      "\n"
     ]
    },
    {
     "name": "stdout",
     "output_type": "stream",
     "text": [
      "Traceback (most recent call last):\n",
      "  File \"/Users/samirantonio/opt/miniconda3/envs/py3/lib/python3.9/site-packages/IPython/core/interactiveshell.py\", line 3441, in run_code\n",
      "    exec(code_obj, self.user_global_ns, self.user_ns)\n",
      "  File \"<ipython-input-7-5fbf08f74a14>\", line 8, in <module>\n",
      "    raw_data.append(data_gen.next())\n",
      "  File \"/Users/samirantonio/Desktop/YaStockRnn/data_generator.py\", line 52, in next\n",
      "    state = self.get_current_state()\n",
      "  File \"/Users/samirantonio/Desktop/YaStockRnn/data_generator.py\", line 46, in get_current_state\n",
      "    return self.get_from_index(self.index)\n",
      "  File \"/Users/samirantonio/Desktop/YaStockRnn/data_generator.py\", line 34, in get_from_index\n",
      "    return self.read_json_from_file(file_path)\n",
      "  File \"/Users/samirantonio/Desktop/YaStockRnn/data_generator.py\", line 27, in read_json_from_file\n",
      "    return json.loads(raw)\n",
      "  File \"/Users/samirantonio/opt/miniconda3/envs/py3/lib/python3.9/json/__init__.py\", line 346, in loads\n",
      "    return _default_decoder.decode(s)\n",
      "  File \"/Users/samirantonio/opt/miniconda3/envs/py3/lib/python3.9/json/decoder.py\", line 338, in decode\n",
      "    end = _w(s, end).end()\n",
      "KeyboardInterrupt\n",
      "\n",
      "During handling of the above exception, another exception occurred:\n",
      "\n",
      "Traceback (most recent call last):\n",
      "  File \"/Users/samirantonio/opt/miniconda3/envs/py3/lib/python3.9/site-packages/IPython/core/interactiveshell.py\", line 2061, in showtraceback\n",
      "    stb = value._render_traceback_()\n",
      "AttributeError: 'KeyboardInterrupt' object has no attribute '_render_traceback_'\n",
      "\n",
      "During handling of the above exception, another exception occurred:\n",
      "\n",
      "Traceback (most recent call last):\n",
      "  File \"/Users/samirantonio/opt/miniconda3/envs/py3/lib/python3.9/site-packages/IPython/core/ultratb.py\", line 1101, in get_records\n",
      "    return _fixed_getinnerframes(etb, number_of_lines_of_context, tb_offset)\n",
      "  File \"/Users/samirantonio/opt/miniconda3/envs/py3/lib/python3.9/site-packages/IPython/core/ultratb.py\", line 248, in wrapped\n",
      "    return f(*args, **kwargs)\n",
      "  File \"/Users/samirantonio/opt/miniconda3/envs/py3/lib/python3.9/site-packages/IPython/core/ultratb.py\", line 281, in _fixed_getinnerframes\n",
      "    records = fix_frame_records_filenames(inspect.getinnerframes(etb, context))\n",
      "  File \"/Users/samirantonio/opt/miniconda3/envs/py3/lib/python3.9/inspect.py\", line 1541, in getinnerframes\n",
      "    frameinfo = (tb.tb_frame,) + getframeinfo(tb, context)\n",
      "  File \"/Users/samirantonio/opt/miniconda3/envs/py3/lib/python3.9/inspect.py\", line 1499, in getframeinfo\n",
      "    filename = getsourcefile(frame) or getfile(frame)\n",
      "  File \"/Users/samirantonio/opt/miniconda3/envs/py3/lib/python3.9/inspect.py\", line 709, in getsourcefile\n",
      "    if getattr(getmodule(object, filename), '__loader__', None) is not None:\n",
      "  File \"/Users/samirantonio/opt/miniconda3/envs/py3/lib/python3.9/inspect.py\", line 752, in getmodule\n",
      "    f = getabsfile(module)\n",
      "  File \"/Users/samirantonio/opt/miniconda3/envs/py3/lib/python3.9/inspect.py\", line 721, in getabsfile\n",
      "    _filename = getsourcefile(object) or getfile(object)\n",
      "  File \"/Users/samirantonio/opt/miniconda3/envs/py3/lib/python3.9/inspect.py\", line 706, in getsourcefile\n",
      "    if os.path.exists(filename):\n",
      "  File \"/Users/samirantonio/opt/miniconda3/envs/py3/lib/python3.9/genericpath.py\", line 19, in exists\n",
      "    os.stat(path)\n",
      "KeyboardInterrupt\n"
     ]
    },
    {
     "ename": "TypeError",
     "evalue": "object of type 'NoneType' has no len()",
     "output_type": "error",
     "traceback": [
      "\u001b[0;31m---------------------------------------------------------------------------\u001b[0m",
      "\u001b[0;31mKeyboardInterrupt\u001b[0m                         Traceback (most recent call last)",
      "    \u001b[0;31m[... skipping hidden 1 frame]\u001b[0m\n",
      "\u001b[0;32m<ipython-input-7-5fbf08f74a14>\u001b[0m in \u001b[0;36m<module>\u001b[0;34m\u001b[0m\n\u001b[1;32m      7\u001b[0m \u001b[0;32mfor\u001b[0m \u001b[0mi\u001b[0m \u001b[0;32min\u001b[0m \u001b[0mtqdm\u001b[0m\u001b[0;34m(\u001b[0m\u001b[0mrange\u001b[0m\u001b[0;34m(\u001b[0m\u001b[0mdata_count\u001b[0m\u001b[0;34m)\u001b[0m\u001b[0;34m)\u001b[0m\u001b[0;34m:\u001b[0m\u001b[0;34m\u001b[0m\u001b[0;34m\u001b[0m\u001b[0m\n\u001b[0;32m----> 8\u001b[0;31m     \u001b[0mraw_data\u001b[0m\u001b[0;34m.\u001b[0m\u001b[0mappend\u001b[0m\u001b[0;34m(\u001b[0m\u001b[0mdata_gen\u001b[0m\u001b[0;34m.\u001b[0m\u001b[0mnext\u001b[0m\u001b[0;34m(\u001b[0m\u001b[0;34m)\u001b[0m\u001b[0;34m)\u001b[0m\u001b[0;34m\u001b[0m\u001b[0;34m\u001b[0m\u001b[0m\n\u001b[0m",
      "\u001b[0;32m~/Desktop/YaStockRnn/data_generator.py\u001b[0m in \u001b[0;36mnext\u001b[0;34m(self, index)\u001b[0m\n\u001b[1;32m     51\u001b[0m             \u001b[0mindex\u001b[0m \u001b[0;34m=\u001b[0m \u001b[0mself\u001b[0m\u001b[0;34m.\u001b[0m\u001b[0mindex\u001b[0m\u001b[0;34m\u001b[0m\u001b[0;34m\u001b[0m\u001b[0m\n\u001b[0;32m---> 52\u001b[0;31m         \u001b[0mstate\u001b[0m \u001b[0;34m=\u001b[0m \u001b[0mself\u001b[0m\u001b[0;34m.\u001b[0m\u001b[0mget_current_state\u001b[0m\u001b[0;34m(\u001b[0m\u001b[0;34m)\u001b[0m\u001b[0;34m\u001b[0m\u001b[0;34m\u001b[0m\u001b[0m\n\u001b[0m\u001b[1;32m     53\u001b[0m         \u001b[0mself\u001b[0m\u001b[0;34m.\u001b[0m\u001b[0mindex\u001b[0m \u001b[0;34m+=\u001b[0m \u001b[0;36m1\u001b[0m\u001b[0;34m\u001b[0m\u001b[0;34m\u001b[0m\u001b[0m\n",
      "\u001b[0;32m~/Desktop/YaStockRnn/data_generator.py\u001b[0m in \u001b[0;36mget_current_state\u001b[0;34m(self)\u001b[0m\n\u001b[1;32m     45\u001b[0m     \u001b[0;32mdef\u001b[0m \u001b[0mget_current_state\u001b[0m\u001b[0;34m(\u001b[0m\u001b[0mself\u001b[0m\u001b[0;34m)\u001b[0m\u001b[0;34m:\u001b[0m\u001b[0;34m\u001b[0m\u001b[0;34m\u001b[0m\u001b[0m\n\u001b[0;32m---> 46\u001b[0;31m         \u001b[0;32mreturn\u001b[0m \u001b[0mself\u001b[0m\u001b[0;34m.\u001b[0m\u001b[0mget_from_index\u001b[0m\u001b[0;34m(\u001b[0m\u001b[0mself\u001b[0m\u001b[0;34m.\u001b[0m\u001b[0mindex\u001b[0m\u001b[0;34m)\u001b[0m\u001b[0;34m\u001b[0m\u001b[0;34m\u001b[0m\u001b[0m\n\u001b[0m\u001b[1;32m     47\u001b[0m \u001b[0;34m\u001b[0m\u001b[0m\n",
      "\u001b[0;32m~/Desktop/YaStockRnn/data_generator.py\u001b[0m in \u001b[0;36mget_from_index\u001b[0;34m(self, index)\u001b[0m\n\u001b[1;32m     33\u001b[0m         \u001b[0mfile_path\u001b[0m \u001b[0;34m=\u001b[0m \u001b[0mself\u001b[0m\u001b[0;34m.\u001b[0m\u001b[0mbase_dir\u001b[0m \u001b[0;34m+\u001b[0m \u001b[0mself\u001b[0m\u001b[0;34m.\u001b[0m\u001b[0mfiles\u001b[0m\u001b[0;34m[\u001b[0m\u001b[0mindex\u001b[0m\u001b[0;34m]\u001b[0m\u001b[0;34m\u001b[0m\u001b[0;34m\u001b[0m\u001b[0m\n\u001b[0;32m---> 34\u001b[0;31m         \u001b[0;32mreturn\u001b[0m \u001b[0mself\u001b[0m\u001b[0;34m.\u001b[0m\u001b[0mread_json_from_file\u001b[0m\u001b[0;34m(\u001b[0m\u001b[0mfile_path\u001b[0m\u001b[0;34m)\u001b[0m\u001b[0;34m\u001b[0m\u001b[0;34m\u001b[0m\u001b[0m\n\u001b[0m\u001b[1;32m     35\u001b[0m \u001b[0;34m\u001b[0m\u001b[0m\n",
      "\u001b[0;32m~/Desktop/YaStockRnn/data_generator.py\u001b[0m in \u001b[0;36mread_json_from_file\u001b[0;34m(self, file_path)\u001b[0m\n\u001b[1;32m     26\u001b[0m         \u001b[0;32mtry\u001b[0m\u001b[0;34m:\u001b[0m\u001b[0;34m\u001b[0m\u001b[0;34m\u001b[0m\u001b[0m\n\u001b[0;32m---> 27\u001b[0;31m             \u001b[0;32mreturn\u001b[0m \u001b[0mjson\u001b[0m\u001b[0;34m.\u001b[0m\u001b[0mloads\u001b[0m\u001b[0;34m(\u001b[0m\u001b[0mraw\u001b[0m\u001b[0;34m)\u001b[0m\u001b[0;34m\u001b[0m\u001b[0;34m\u001b[0m\u001b[0m\n\u001b[0m\u001b[1;32m     28\u001b[0m         \u001b[0;32mexcept\u001b[0m \u001b[0mException\u001b[0m \u001b[0;32mas\u001b[0m \u001b[0me\u001b[0m\u001b[0;34m:\u001b[0m\u001b[0;34m\u001b[0m\u001b[0;34m\u001b[0m\u001b[0m\n",
      "\u001b[0;32m~/opt/miniconda3/envs/py3/lib/python3.9/json/__init__.py\u001b[0m in \u001b[0;36mloads\u001b[0;34m(s, cls, object_hook, parse_float, parse_int, parse_constant, object_pairs_hook, **kw)\u001b[0m\n\u001b[1;32m    345\u001b[0m             parse_constant is None and object_pairs_hook is None and not kw):\n\u001b[0;32m--> 346\u001b[0;31m         \u001b[0;32mreturn\u001b[0m \u001b[0m_default_decoder\u001b[0m\u001b[0;34m.\u001b[0m\u001b[0mdecode\u001b[0m\u001b[0;34m(\u001b[0m\u001b[0ms\u001b[0m\u001b[0;34m)\u001b[0m\u001b[0;34m\u001b[0m\u001b[0;34m\u001b[0m\u001b[0m\n\u001b[0m\u001b[1;32m    347\u001b[0m     \u001b[0;32mif\u001b[0m \u001b[0mcls\u001b[0m \u001b[0;32mis\u001b[0m \u001b[0;32mNone\u001b[0m\u001b[0;34m:\u001b[0m\u001b[0;34m\u001b[0m\u001b[0;34m\u001b[0m\u001b[0m\n",
      "\u001b[0;32m~/opt/miniconda3/envs/py3/lib/python3.9/json/decoder.py\u001b[0m in \u001b[0;36mdecode\u001b[0;34m(self, s, _w)\u001b[0m\n\u001b[1;32m    337\u001b[0m         \u001b[0mobj\u001b[0m\u001b[0;34m,\u001b[0m \u001b[0mend\u001b[0m \u001b[0;34m=\u001b[0m \u001b[0mself\u001b[0m\u001b[0;34m.\u001b[0m\u001b[0mraw_decode\u001b[0m\u001b[0;34m(\u001b[0m\u001b[0ms\u001b[0m\u001b[0;34m,\u001b[0m \u001b[0midx\u001b[0m\u001b[0;34m=\u001b[0m\u001b[0m_w\u001b[0m\u001b[0;34m(\u001b[0m\u001b[0ms\u001b[0m\u001b[0;34m,\u001b[0m \u001b[0;36m0\u001b[0m\u001b[0;34m)\u001b[0m\u001b[0;34m.\u001b[0m\u001b[0mend\u001b[0m\u001b[0;34m(\u001b[0m\u001b[0;34m)\u001b[0m\u001b[0;34m)\u001b[0m\u001b[0;34m\u001b[0m\u001b[0;34m\u001b[0m\u001b[0m\n\u001b[0;32m--> 338\u001b[0;31m         \u001b[0mend\u001b[0m \u001b[0;34m=\u001b[0m \u001b[0m_w\u001b[0m\u001b[0;34m(\u001b[0m\u001b[0ms\u001b[0m\u001b[0;34m,\u001b[0m \u001b[0mend\u001b[0m\u001b[0;34m)\u001b[0m\u001b[0;34m.\u001b[0m\u001b[0mend\u001b[0m\u001b[0;34m(\u001b[0m\u001b[0;34m)\u001b[0m\u001b[0;34m\u001b[0m\u001b[0;34m\u001b[0m\u001b[0m\n\u001b[0m\u001b[1;32m    339\u001b[0m         \u001b[0;32mif\u001b[0m \u001b[0mend\u001b[0m \u001b[0;34m!=\u001b[0m \u001b[0mlen\u001b[0m\u001b[0;34m(\u001b[0m\u001b[0ms\u001b[0m\u001b[0;34m)\u001b[0m\u001b[0;34m:\u001b[0m\u001b[0;34m\u001b[0m\u001b[0;34m\u001b[0m\u001b[0m\n",
      "\u001b[0;31mKeyboardInterrupt\u001b[0m: ",
      "\nDuring handling of the above exception, another exception occurred:\n",
      "\u001b[0;31mAttributeError\u001b[0m                            Traceback (most recent call last)",
      "\u001b[0;32m~/opt/miniconda3/envs/py3/lib/python3.9/site-packages/IPython/core/interactiveshell.py\u001b[0m in \u001b[0;36mshowtraceback\u001b[0;34m(self, exc_tuple, filename, tb_offset, exception_only, running_compiled_code)\u001b[0m\n\u001b[1;32m   2060\u001b[0m                         \u001b[0;31m# in the engines. This should return a list of strings.\u001b[0m\u001b[0;34m\u001b[0m\u001b[0;34m\u001b[0m\u001b[0;34m\u001b[0m\u001b[0m\n\u001b[0;32m-> 2061\u001b[0;31m                         \u001b[0mstb\u001b[0m \u001b[0;34m=\u001b[0m \u001b[0mvalue\u001b[0m\u001b[0;34m.\u001b[0m\u001b[0m_render_traceback_\u001b[0m\u001b[0;34m(\u001b[0m\u001b[0;34m)\u001b[0m\u001b[0;34m\u001b[0m\u001b[0;34m\u001b[0m\u001b[0m\n\u001b[0m\u001b[1;32m   2062\u001b[0m                     \u001b[0;32mexcept\u001b[0m \u001b[0mException\u001b[0m\u001b[0;34m:\u001b[0m\u001b[0;34m\u001b[0m\u001b[0;34m\u001b[0m\u001b[0m\n",
      "\u001b[0;31mAttributeError\u001b[0m: 'KeyboardInterrupt' object has no attribute '_render_traceback_'",
      "\nDuring handling of the above exception, another exception occurred:\n",
      "\u001b[0;31mTypeError\u001b[0m                                 Traceback (most recent call last)",
      "    \u001b[0;31m[... skipping hidden 1 frame]\u001b[0m\n",
      "\u001b[0;32m~/opt/miniconda3/envs/py3/lib/python3.9/site-packages/IPython/core/interactiveshell.py\u001b[0m in \u001b[0;36mshowtraceback\u001b[0;34m(self, exc_tuple, filename, tb_offset, exception_only, running_compiled_code)\u001b[0m\n\u001b[1;32m   2061\u001b[0m                         \u001b[0mstb\u001b[0m \u001b[0;34m=\u001b[0m \u001b[0mvalue\u001b[0m\u001b[0;34m.\u001b[0m\u001b[0m_render_traceback_\u001b[0m\u001b[0;34m(\u001b[0m\u001b[0;34m)\u001b[0m\u001b[0;34m\u001b[0m\u001b[0;34m\u001b[0m\u001b[0m\n\u001b[1;32m   2062\u001b[0m                     \u001b[0;32mexcept\u001b[0m \u001b[0mException\u001b[0m\u001b[0;34m:\u001b[0m\u001b[0;34m\u001b[0m\u001b[0;34m\u001b[0m\u001b[0m\n\u001b[0;32m-> 2063\u001b[0;31m                         stb = self.InteractiveTB.structured_traceback(etype,\n\u001b[0m\u001b[1;32m   2064\u001b[0m                                             value, tb, tb_offset=tb_offset)\n\u001b[1;32m   2065\u001b[0m \u001b[0;34m\u001b[0m\u001b[0m\n",
      "\u001b[0;32m~/opt/miniconda3/envs/py3/lib/python3.9/site-packages/IPython/core/ultratb.py\u001b[0m in \u001b[0;36mstructured_traceback\u001b[0;34m(self, etype, value, tb, tb_offset, number_of_lines_of_context)\u001b[0m\n\u001b[1;32m   1365\u001b[0m         \u001b[0;32melse\u001b[0m\u001b[0;34m:\u001b[0m\u001b[0;34m\u001b[0m\u001b[0;34m\u001b[0m\u001b[0m\n\u001b[1;32m   1366\u001b[0m             \u001b[0mself\u001b[0m\u001b[0;34m.\u001b[0m\u001b[0mtb\u001b[0m \u001b[0;34m=\u001b[0m \u001b[0mtb\u001b[0m\u001b[0;34m\u001b[0m\u001b[0;34m\u001b[0m\u001b[0m\n\u001b[0;32m-> 1367\u001b[0;31m         return FormattedTB.structured_traceback(\n\u001b[0m\u001b[1;32m   1368\u001b[0m             self, etype, value, tb, tb_offset, number_of_lines_of_context)\n\u001b[1;32m   1369\u001b[0m \u001b[0;34m\u001b[0m\u001b[0m\n",
      "\u001b[0;32m~/opt/miniconda3/envs/py3/lib/python3.9/site-packages/IPython/core/ultratb.py\u001b[0m in \u001b[0;36mstructured_traceback\u001b[0;34m(self, etype, value, tb, tb_offset, number_of_lines_of_context)\u001b[0m\n\u001b[1;32m   1265\u001b[0m         \u001b[0;32mif\u001b[0m \u001b[0mmode\u001b[0m \u001b[0;32min\u001b[0m \u001b[0mself\u001b[0m\u001b[0;34m.\u001b[0m\u001b[0mverbose_modes\u001b[0m\u001b[0;34m:\u001b[0m\u001b[0;34m\u001b[0m\u001b[0;34m\u001b[0m\u001b[0m\n\u001b[1;32m   1266\u001b[0m             \u001b[0;31m# Verbose modes need a full traceback\u001b[0m\u001b[0;34m\u001b[0m\u001b[0;34m\u001b[0m\u001b[0;34m\u001b[0m\u001b[0m\n\u001b[0;32m-> 1267\u001b[0;31m             return VerboseTB.structured_traceback(\n\u001b[0m\u001b[1;32m   1268\u001b[0m                 \u001b[0mself\u001b[0m\u001b[0;34m,\u001b[0m \u001b[0metype\u001b[0m\u001b[0;34m,\u001b[0m \u001b[0mvalue\u001b[0m\u001b[0;34m,\u001b[0m \u001b[0mtb\u001b[0m\u001b[0;34m,\u001b[0m \u001b[0mtb_offset\u001b[0m\u001b[0;34m,\u001b[0m \u001b[0mnumber_of_lines_of_context\u001b[0m\u001b[0;34m\u001b[0m\u001b[0;34m\u001b[0m\u001b[0m\n\u001b[1;32m   1269\u001b[0m             )\n",
      "\u001b[0;32m~/opt/miniconda3/envs/py3/lib/python3.9/site-packages/IPython/core/ultratb.py\u001b[0m in \u001b[0;36mstructured_traceback\u001b[0;34m(self, etype, evalue, etb, tb_offset, number_of_lines_of_context)\u001b[0m\n\u001b[1;32m   1122\u001b[0m         \u001b[0;34m\"\"\"Return a nice text document describing the traceback.\"\"\"\u001b[0m\u001b[0;34m\u001b[0m\u001b[0;34m\u001b[0m\u001b[0m\n\u001b[1;32m   1123\u001b[0m \u001b[0;34m\u001b[0m\u001b[0m\n\u001b[0;32m-> 1124\u001b[0;31m         formatted_exception = self.format_exception_as_a_whole(etype, evalue, etb, number_of_lines_of_context,\n\u001b[0m\u001b[1;32m   1125\u001b[0m                                                                tb_offset)\n\u001b[1;32m   1126\u001b[0m \u001b[0;34m\u001b[0m\u001b[0m\n",
      "\u001b[0;32m~/opt/miniconda3/envs/py3/lib/python3.9/site-packages/IPython/core/ultratb.py\u001b[0m in \u001b[0;36mformat_exception_as_a_whole\u001b[0;34m(self, etype, evalue, etb, number_of_lines_of_context, tb_offset)\u001b[0m\n\u001b[1;32m   1080\u001b[0m \u001b[0;34m\u001b[0m\u001b[0m\n\u001b[1;32m   1081\u001b[0m \u001b[0;34m\u001b[0m\u001b[0m\n\u001b[0;32m-> 1082\u001b[0;31m         \u001b[0mlast_unique\u001b[0m\u001b[0;34m,\u001b[0m \u001b[0mrecursion_repeat\u001b[0m \u001b[0;34m=\u001b[0m \u001b[0mfind_recursion\u001b[0m\u001b[0;34m(\u001b[0m\u001b[0morig_etype\u001b[0m\u001b[0;34m,\u001b[0m \u001b[0mevalue\u001b[0m\u001b[0;34m,\u001b[0m \u001b[0mrecords\u001b[0m\u001b[0;34m)\u001b[0m\u001b[0;34m\u001b[0m\u001b[0;34m\u001b[0m\u001b[0m\n\u001b[0m\u001b[1;32m   1083\u001b[0m \u001b[0;34m\u001b[0m\u001b[0m\n\u001b[1;32m   1084\u001b[0m         \u001b[0mframes\u001b[0m \u001b[0;34m=\u001b[0m \u001b[0mself\u001b[0m\u001b[0;34m.\u001b[0m\u001b[0mformat_records\u001b[0m\u001b[0;34m(\u001b[0m\u001b[0mrecords\u001b[0m\u001b[0;34m,\u001b[0m \u001b[0mlast_unique\u001b[0m\u001b[0;34m,\u001b[0m \u001b[0mrecursion_repeat\u001b[0m\u001b[0;34m)\u001b[0m\u001b[0;34m\u001b[0m\u001b[0;34m\u001b[0m\u001b[0m\n",
      "\u001b[0;32m~/opt/miniconda3/envs/py3/lib/python3.9/site-packages/IPython/core/ultratb.py\u001b[0m in \u001b[0;36mfind_recursion\u001b[0;34m(etype, value, records)\u001b[0m\n\u001b[1;32m    380\u001b[0m     \u001b[0;31m# first frame (from in to out) that looks different.\u001b[0m\u001b[0;34m\u001b[0m\u001b[0;34m\u001b[0m\u001b[0;34m\u001b[0m\u001b[0m\n\u001b[1;32m    381\u001b[0m     \u001b[0;32mif\u001b[0m \u001b[0;32mnot\u001b[0m \u001b[0mis_recursion_error\u001b[0m\u001b[0;34m(\u001b[0m\u001b[0metype\u001b[0m\u001b[0;34m,\u001b[0m \u001b[0mvalue\u001b[0m\u001b[0;34m,\u001b[0m \u001b[0mrecords\u001b[0m\u001b[0;34m)\u001b[0m\u001b[0;34m:\u001b[0m\u001b[0;34m\u001b[0m\u001b[0;34m\u001b[0m\u001b[0m\n\u001b[0;32m--> 382\u001b[0;31m         \u001b[0;32mreturn\u001b[0m \u001b[0mlen\u001b[0m\u001b[0;34m(\u001b[0m\u001b[0mrecords\u001b[0m\u001b[0;34m)\u001b[0m\u001b[0;34m,\u001b[0m \u001b[0;36m0\u001b[0m\u001b[0;34m\u001b[0m\u001b[0;34m\u001b[0m\u001b[0m\n\u001b[0m\u001b[1;32m    383\u001b[0m \u001b[0;34m\u001b[0m\u001b[0m\n\u001b[1;32m    384\u001b[0m     \u001b[0;31m# Select filename, lineno, func_name to track frames with\u001b[0m\u001b[0;34m\u001b[0m\u001b[0;34m\u001b[0m\u001b[0;34m\u001b[0m\u001b[0m\n",
      "\u001b[0;31mTypeError\u001b[0m: object of type 'NoneType' has no len()"
     ]
    }
   ],
   "source": [
    "data_count = data_gen.steps\n",
    "#data_count = 200000 \n",
    "data_gen.rewind()\n",
    "\n",
    "raw_data = []\n",
    "\n",
    "for i in tqdm(range(data_count)):\n",
    "    raw_data.append(data_gen.next())"
   ]
  },
  {
   "cell_type": "code",
   "execution_count": null,
   "metadata": {
    "scrolled": true
   },
   "outputs": [],
   "source": [
    "def process_model(model, resample):\n",
    "    back = BackTest(value = 100)\n",
    "\n",
    "    request_sell = lambda price: back.request_sell(price)\n",
    "    request_buy = lambda price: back.request_buy(price)\n",
    "    on_state = lambda timestamp, price: back.on_state(timestamp, price)\n",
    "\n",
    "    stock = StockAgent(model = model,\n",
    "                    request_sell = request_sell,\n",
    "                    request_buy = request_buy,\n",
    "                    on_state = on_state\n",
    "                      )\n",
    "\n",
    "\n",
    "    data_gen.rewind()\n",
    "    back.reset()\n",
    "\n",
    "    on_new_data = lambda x: print(x)\n",
    "    on_new_data = lambda x: stock.on_x(x)\n",
    "\n",
    "    on_state = lambda timestamp, price, bid, ask: print(\"{} {} {} {}\".format(timestamp, price, bid[-1], ask[-1]))\n",
    "    on_state = lambda timestamp, price, bid, ask: stock.on_new_state(timestamp, price, bid, ask)\n",
    "\n",
    "\n",
    "    agent = DataAgent(\n",
    "        resample = resample,\n",
    "        on_state = on_state,\n",
    "        on_new_data = on_new_data\n",
    "    )\n",
    "\n",
    "    on_new_data_count = 0\n",
    "\n",
    "    for raw in tqdm(raw_data):\n",
    "        agent.on_new_raw_data(raw)\n",
    "\n",
    "    if (back.bought):\n",
    "        stock.sell()\n",
    "\n",
    "    (agent.ohlc).plot(figsize=(20, 12))\n",
    "        \n",
    "    return back"
   ]
  },
  {
   "cell_type": "code",
   "execution_count": null,
   "metadata": {},
   "outputs": [],
   "source": [
    "class ModelTest():\n",
    "    \n",
    "    def __init__(self,\n",
    "                 resample = '2Min'\n",
    "                 ):\n",
    "        self.index = 0\n",
    "        \n",
    "    def predict(self, x):\n",
    "        yy = y[self.index]\n",
    "        self.index += 1\n",
    "        return [yy]"
   ]
  },
  {
   "cell_type": "code",
   "execution_count": null,
   "metadata": {
    "scrolled": true
   },
   "outputs": [],
   "source": [
    "model = ModelTest()\n",
    "backProc = process_model(model, '2Min')"
   ]
  },
  {
   "cell_type": "code",
   "execution_count": null,
   "metadata": {},
   "outputs": [],
   "source": [
    "backProc.report()"
   ]
  },
  {
   "cell_type": "code",
   "execution_count": null,
   "metadata": {},
   "outputs": [],
   "source": [
    "num += 1"
   ]
  },
  {
   "cell_type": "code",
   "execution_count": null,
   "metadata": {},
   "outputs": [],
   "source": [
    "model = ModelTest()\n",
    "backProc = process_model(model, '2Min')"
   ]
  },
  {
   "cell_type": "code",
   "execution_count": null,
   "metadata": {},
   "outputs": [],
   "source": []
  }
 ],
 "metadata": {
  "kernelspec": {
   "display_name": "Python 3",
   "language": "python",
   "name": "python3"
  },
  "language_info": {
   "codemirror_mode": {
    "name": "ipython",
    "version": 3
   },
   "file_extension": ".py",
   "mimetype": "text/x-python",
   "name": "python",
   "nbconvert_exporter": "python",
   "pygments_lexer": "ipython3",
   "version": "3.9.5"
  }
 },
 "nbformat": 4,
 "nbformat_minor": 4
}
