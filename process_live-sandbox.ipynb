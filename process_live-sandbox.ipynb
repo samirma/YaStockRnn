{
 "cells": [
  {
   "cell_type": "code",
   "execution_count": 1,
   "metadata": {},
   "outputs": [],
   "source": [
    "import pandas as pd\n",
    "import data_util\n",
    "from tqdm import tqdm_notebook as tqdm\n",
    "from data_generator import DataGenerator\n",
    "from state_util import StateUtil\n",
    "from tec_an import TecAn\n",
    "from data_agent import DataAgent, TacProcess\n",
    "import numpy as np\n",
    "from data_util import *\n",
    "import tensorflow as tf\n",
    "from sklearn_model_hyper import *\n",
    "import pandas as pd\n",
    "from stock_agent import *\n"
   ]
  },
  {
   "cell_type": "code",
   "execution_count": 2,
   "metadata": {},
   "outputs": [],
   "source": [
    "def get_y_data(ohlc, shift = -1):\n",
    "    combined_data = ohlc\n",
    "    #combined_data['return'] = np.log(combined_data / combined_data.shift(1))\n",
    "    returns = (ohlc / ohlc.shift(shift))\n",
    "    combined_data['return'] = returns\n",
    "    combined_data['direction'] = np.where(combined_data['return'] < 1, 1, 0)\n",
    "    #print(combined_data)\n",
    "    #combined_data.dropna(inplace=True)\n",
    "    #print(combined_data[20:40])\n",
    "    return combined_data['direction'].to_numpy()\n",
    "\n",
    "def split(x, y, split, shuffle=False):\n",
    "    trainX, valX, trainY, valY = train_test_split(np.array(x), np.array(y), test_size=split, shuffle=shuffle)\n",
    "    print(\"Completed: {} {} {} {}\".format(trainX.shape, trainY.shape, valX.shape, valY.shape))\n",
    "    return trainX, trainY, valX, valY\n",
    "\n",
    "\n",
    "def get_full_database(resample, raw_dir, base_dir = \"data/\"):\n",
    "\n",
    "    full_data = base_dir + raw_dir + \"/\"\n",
    "    data_gen = DataGenerator(random = False, base_dir = full_data)\n",
    "    data_gen.rewind()\n",
    "    data_count = (data_gen.steps - 100)\n",
    "    #data_count = 200000\n",
    "\n",
    "    final_x = []\n",
    "\n",
    "    closed_prices = []\n",
    "\n",
    "    on_new_data = lambda x: final_x.append(x)\n",
    "    on_closed_price = lambda price: closed_prices.append(price)\n",
    "    \n",
    "    agent = DataAgent(\n",
    "        resample = resample,\n",
    "        on_new_data = on_new_data,\n",
    "        on_closed_price = on_closed_price\n",
    "    )\n",
    "\n",
    "    print(\"Processing {}\".format(raw_dir))\n",
    "\n",
    "    for i in tqdm(range(data_count)):\n",
    "        agent.on_new_raw_data(data_gen.next())\n",
    "\n",
    "\n",
    "    closes = pd.DataFrame(closed_prices, columns = ['Close'])\n",
    "\n",
    "    final_y = get_y_data(closes, -1)\n",
    "    \n",
    "    #print(agent.ohlc)\n",
    "    \n",
    "    return final_x, closed_prices"
   ]
  },
  {
   "cell_type": "code",
   "execution_count": 3,
   "metadata": {},
   "outputs": [],
   "source": [
    "#data_gen = DataGenerator(random=False, base_dir = \"data/4jul21/\")\n",
    "\n",
    "#data_gen = DataGenerator(random=False, base_dir = \"data/backtest/\")\n",
    "\n",
    "#data_gen = DataGenerator(random=False, base_dir = \"data/btcusd/\")\n",
    "\n",
    "data_gen.rewind()\n"
   ]
  },
  {
   "cell_type": "code",
   "execution_count": 28,
   "metadata": {},
   "outputs": [
    {
     "name": "stdout",
     "output_type": "stream",
     "text": [
      "2\n"
     ]
    }
   ],
   "source": []
  },
  {
   "cell_type": "code",
   "execution_count": 63,
   "metadata": {},
   "outputs": [
    {
     "name": "stdout",
     "output_type": "stream",
     "text": [
      "Resample 2Min - TecAn ( windows 20, windows_limit 100 )\n",
      "Processing 4jul21\n"
     ]
    },
    {
     "name": "stderr",
     "output_type": "stream",
     "text": [
      "<ipython-input-2-8a68d73f34cd>:41: TqdmDeprecationWarning: This function will be removed in tqdm==5.0.0\n",
      "Please use `tqdm.notebook.tqdm` instead of `tqdm.tqdm_notebook`\n",
      "  for i in tqdm(range(data_count)):\n"
     ]
    },
    {
     "data": {
      "application/vnd.jupyter.widget-view+json": {
       "model_id": "71199c18827443caa5ac8b8955b8749f",
       "version_major": 2,
       "version_minor": 0
      },
      "text/plain": [
       "  0%|          | 0/301794 [00:00<?, ?it/s]"
      ]
     },
     "metadata": {},
     "output_type": "display_data"
    },
    {
     "data": {
      "text/plain": [
       "301"
      ]
     },
     "execution_count": 63,
     "metadata": {},
     "output_type": "execute_result"
    }
   ],
   "source": [
    "\n",
    "x, y, closed_prices = get_full_database('2Min', \"4jul21\", base_dir = \"data/\")\n",
    "\n",
    "len(x)"
   ]
  },
  {
   "cell_type": "code",
   "execution_count": 64,
   "metadata": {
    "scrolled": true
   },
   "outputs": [],
   "source": [
    "back = BackTest(value = 100, verbose = False)\n",
    "for idx in range(len(x)):\n",
    "    yy = y[idx]\n",
    "    price = closed_prices[idx]\n",
    "    #print(f'{idx} {yy} {price}')\n",
    "    back.on_state(0, price)\n",
    "    if(yy == 1):\n",
    "        back.request_buy(price)\n",
    "    else:\n",
    "        back.request_sell(price)\n"
   ]
  },
  {
   "cell_type": "code",
   "execution_count": 65,
   "metadata": {},
   "outputs": [
    {
     "name": "stdout",
     "output_type": "stream",
     "text": [
      "100\n",
      "111.09823730087544\n",
      "11.0982%\n"
     ]
    }
   ],
   "source": [
    "back.report()"
   ]
  },
  {
   "cell_type": "code",
   "execution_count": 66,
   "metadata": {},
   "outputs": [
    {
     "name": "stdout",
     "output_type": "stream",
     "text": [
      "4\n"
     ]
    }
   ],
   "source": [
    "from joblib import dump, load\n",
    "\n",
    "models = [\n",
    "    load('model/RandomForestClassifier_f1_score'),\n",
    "    load('model/RandomForestClassifier_accuracy_score'),\n",
    "    load('model/CatBoostClassifier'),\n",
    "    load('model/RandomForestClassifier_precision_score'),\n",
    "]\n",
    "\n",
    "print(f\"{len(models)}\")"
   ]
  },
  {
   "cell_type": "code",
   "execution_count": 67,
   "metadata": {},
   "outputs": [
    {
     "name": "stdout",
     "output_type": "stream",
     "text": [
      "RandomForestClassifier(criterion='entropy', max_depth=5, max_features=7,\n",
      "                       n_estimators=30)\n",
      "100\n",
      "89.742998650021\n",
      "-10.257%\n",
      "Pipeline(steps=[('standardscaler', StandardScaler()),\n",
      "                ('randomforestclassifier',\n",
      "                 RandomForestClassifier(criterion='entropy', max_depth=100,\n",
      "                                        n_estimators=30, random_state=42))])\n",
      "100\n",
      "89.94044134624495\n",
      "-10.0596%\n",
      "<catboost.core.CatBoostClassifier object at 0x7fab5ee2d370>\n",
      "100\n",
      "89.80248102209023\n",
      "-10.1975%\n",
      "RandomForestClassifier(max_depth=8, max_features=6)\n",
      "100\n",
      "89.71725862472364\n",
      "-10.2827%\n"
     ]
    }
   ],
   "source": [
    "for model in models:\n",
    "    print(model)\n",
    "    back = BackTest(value = 10, verbose = False)\n",
    "    for idx in range(len(x)):\n",
    "        xx = [x[idx]]\n",
    "        yy = model.predict(xx)[0]\n",
    "        price = closed_prices[idx]\n",
    "        #print(f'{idx} {yy} {price}')\n",
    "        back.on_state(0, price)\n",
    "        if(yy == 1):\n",
    "            back.request_buy(price)\n",
    "        else:\n",
    "            back.request_sell(price)\n",
    "    back.report()\n"
   ]
  },
  {
   "cell_type": "code",
   "execution_count": 8,
   "metadata": {},
   "outputs": [
    {
     "name": "stderr",
     "output_type": "stream",
     "text": [
      "<ipython-input-8-5fbf08f74a14>:7: TqdmDeprecationWarning: This function will be removed in tqdm==5.0.0\n",
      "Please use `tqdm.notebook.tqdm` instead of `tqdm.tqdm_notebook`\n",
      "  for i in tqdm(range(data_count)):\n"
     ]
    },
    {
     "data": {
      "application/vnd.jupyter.widget-view+json": {
       "model_id": "64e1b8912cc147bcba294e3ebfc8d760",
       "version_major": 2,
       "version_minor": 0
      },
      "text/plain": [
       "  0%|          | 0/301894 [00:00<?, ?it/s]"
      ]
     },
     "metadata": {},
     "output_type": "display_data"
    }
   ],
   "source": [
    "data_count = data_gen.steps\n",
    "#data_count = 200000 \n",
    "data_gen.rewind()\n",
    "\n",
    "raw_data = []\n",
    "\n",
    "for i in tqdm(range(data_count)):\n",
    "    raw_data.append(data_gen.next())"
   ]
  },
  {
   "cell_type": "code",
   "execution_count": 9,
   "metadata": {
    "scrolled": true
   },
   "outputs": [],
   "source": [
    "def process_model(model, resample):\n",
    "    back = BackTest(value = 100, verbose = True)\n",
    "\n",
    "    request_sell = lambda price: back.request_sell(price)\n",
    "    request_buy = lambda price: back.request_buy(price)\n",
    "    on_state = lambda timestamp, price: back.on_state(timestamp, price)\n",
    "\n",
    "    stock = StockAgent(model = model,\n",
    "                    request_sell = request_sell,\n",
    "                    request_buy = request_buy,\n",
    "                    on_state = on_state\n",
    "                      )\n",
    "\n",
    "\n",
    "    data_gen.rewind()\n",
    "    back.reset()\n",
    "\n",
    "    on_new_data = lambda x: print(x)\n",
    "    on_new_data = lambda x: stock.on_x(x)\n",
    "\n",
    "    on_state = lambda timestamp, price, bid, ask: print(\"{} {} {} {}\".format(timestamp, price, bid[-1], ask[-1]))\n",
    "    on_state = lambda timestamp, price, bid, ask: stock.on_new_state(timestamp, price, bid, ask)\n",
    "\n",
    "\n",
    "    agent = DataAgent(\n",
    "        resample = resample,\n",
    "        on_state = on_state,\n",
    "        on_new_data = on_new_data\n",
    "    )\n",
    "\n",
    "    on_new_data_count = 0\n",
    "\n",
    "    for raw in tqdm(raw_data):\n",
    "        agent.on_new_raw_data(raw)\n",
    "\n",
    "    if (back.bought):\n",
    "        stock.sell()\n",
    "\n",
    "    (agent.ohlc).plot(figsize=(20, 12))\n",
    "        \n",
    "    return back"
   ]
  },
  {
   "cell_type": "code",
   "execution_count": 10,
   "metadata": {},
   "outputs": [],
   "source": [
    "class ModelTest():\n",
    "    \n",
    "    def __init__(self,\n",
    "                 resample = '2Min'\n",
    "                 ):\n",
    "        self.index = 0\n",
    "        \n",
    "    def predict(self, x):\n",
    "        yy = y[self.index]\n",
    "        self.index += 1\n",
    "        return [yy]"
   ]
  },
  {
   "cell_type": "code",
   "execution_count": null,
   "metadata": {},
   "outputs": [],
   "source": []
  },
  {
   "cell_type": "code",
   "execution_count": 11,
   "metadata": {},
   "outputs": [
    {
     "name": "stdout",
     "output_type": "stream",
     "text": [
      "Resample 2Min - TecAn ( windows 20, windows_limit 100 )\n"
     ]
    },
    {
     "name": "stderr",
     "output_type": "stream",
     "text": [
      "<ipython-input-9-4a733010ee1d>:33: TqdmDeprecationWarning: This function will be removed in tqdm==5.0.0\n",
      "Please use `tqdm.notebook.tqdm` instead of `tqdm.tqdm_notebook`\n",
      "  for raw in tqdm(raw_data):\n"
     ]
    },
    {
     "data": {
      "application/vnd.jupyter.widget-view+json": {
       "model_id": "c7b5c84db4184c77aaef6473972f0cd1",
       "version_major": 2,
       "version_minor": 0
      },
      "text/plain": [
       "  0%|          | 0/301894 [00:00<?, ?it/s]"
      ]
     },
     "metadata": {},
     "output_type": "display_data"
    },
    {
     "name": "stdout",
     "output_type": "stream",
     "text": [
      "2021-07-04 22:50:12 Buy (35393.15): ask: 35393.15\n",
      "2021-07-04 22:54:12 Sell (35414.75) 21.599999999998545 total: 100.06102875838968\n",
      "2021-07-04 23:02:01 Buy (35287.67): ask: 35287.67\n",
      "2021-07-04 23:06:06 Sell (35338.63) 50.95999999999913 total: 100.20544180691343\n",
      "2021-07-04 23:10:02 Buy (35300.0): ask: 35300.0\n",
      "2021-07-04 23:20:02 Sell (35434.0) 134.0 total: 100.58504520634685\n",
      "2021-07-04 23:24:06 Buy (35387.81): ask: 35387.81\n",
      "2021-07-04 23:32:12 Sell (35451.63) 63.81999999999971 total: 100.76538979393224\n",
      "2021-07-04 23:44:00 Buy (35323.22): ask: 35323.22\n",
      "2021-07-04 23:48:09 Sell (35392.23) 69.01000000000204 total: 100.9607570339517\n",
      "2021-07-04 23:50:17 Buy (35321.66): ask: 35321.66\n",
      "2021-07-04 23:52:19 Sell (35333.41) 11.75 total: 100.9940227411693\n",
      "2021-07-04 23:56:11 Buy (35291.95): ask: 35291.95\n",
      "2021-07-04 23:58:17 Sell (35314.02) 22.06999999999971 total: 101.05655824855837\n",
      "2021-07-05 00:04:04 Buy (34934.34): ask: 34934.34\n",
      "2021-07-05 00:06:05 Sell (35015.65) 81.31000000000495 total: 101.2893091750107\n",
      "2021-07-05 00:10:08 Buy (34971.02): ask: 34971.02\n",
      "2021-07-05 00:16:00 Sell (34983.71) 12.690000000002328 total: 101.32559636366004\n",
      "2021-07-05 00:22:19 Buy (34937.61): ask: 34937.61\n",
      "2021-07-05 00:26:12 Sell (34992.44) 54.830000000001746 total: 101.48253325774067\n",
      "2021-07-05 00:30:08 Buy (34922.82): ask: 34922.82\n",
      "2021-07-05 00:34:31 Sell (35009.4) 86.58000000000175 total: 101.73045138119119\n",
      "2021-07-05 00:41:26 Buy (34964.03): ask: 34964.03\n",
      "2021-07-05 00:42:01 Sell (34964.49) 0.4599999999991269 total: 101.73176701900525\n",
      "2021-07-05 00:46:35 Buy (34834.15): ask: 34834.15\n",
      "2021-07-05 00:48:03 Sell (34847.13) 12.979999999995925 total: 101.76902930328662\n",
      "2021-07-05 00:50:02 Buy (34817.14): ask: 34817.14\n",
      "2021-07-05 00:56:02 Sell (34901.5) 84.36000000000058 total: 102.01132375940794\n",
      "2021-07-05 00:58:28 Buy (34893.99): ask: 34893.99\n",
      "2021-07-05 01:03:00 Sell (34916.23) 22.24000000000524 total: 102.07505966349919\n",
      "2021-07-05 01:04:07 Buy (34898.35): ask: 34898.35\n",
      "2021-07-05 01:06:38 Sell (34899.56) 1.2099999999991269 total: 102.07852687613244\n",
      "2021-07-05 01:10:54 Buy (34884.62): ask: 34884.62\n",
      "2021-07-05 01:12:30 Sell (34914.88) 30.25999999999476 total: 102.165269973807\n",
      "2021-07-05 01:24:08 Buy (34679.93): ask: 34679.93\n",
      "2021-07-05 01:26:09 Sell (34709.88) 29.94999999999709 total: 102.25163116311735\n",
      "2021-07-05 01:28:01 Buy (34626.79): ask: 34626.79\n",
      "2021-07-05 01:30:15 Sell (34639.91) 13.12000000000262 total: 102.28952090109192\n",
      "2021-07-05 01:32:11 Buy (34565.56): ask: 34565.56\n",
      "2021-07-05 01:38:13 Sell (34684.98) 119.42000000000553 total: 102.63500930052767\n",
      "2021-07-05 01:46:01 Buy (34566.15): ask: 34566.15\n",
      "2021-07-05 01:48:30 Sell (34615.3) 49.150000000001455 total: 102.77720043260342\n",
      "2021-07-05 01:50:17 Buy (34582.88): ask: 34582.88\n",
      "2021-07-05 01:52:01 Sell (34622.16) 39.28000000000611 total: 102.8907826443799\n",
      "2021-07-05 01:54:23 Buy (34610.66): ask: 34610.66\n",
      "2021-07-05 01:56:43 Sell (34635.86) 25.19999999999709 total: 102.9635925821274\n",
      "2021-07-05 02:00:08 Buy (34560.8): ask: 34560.8\n",
      "2021-07-05 02:04:02 Sell (34645.76) 84.95999999999913 total: 103.20942022500604\n",
      "2021-07-05 02:10:07 Buy (34547.04): ask: 34547.04\n",
      "2021-07-05 02:12:05 Sell (34581.93) 34.88999999999942 total: 103.31041295839218\n",
      "2021-07-05 02:14:07 Buy (34581.93): ask: 34581.93\n",
      "2021-07-05 02:16:12 Sell (34595.06) 13.12999999999738 total: 103.34838076412193\n",
      "2021-07-05 02:22:14 Buy (34396.85): ask: 34396.85\n",
      "2021-07-05 02:32:06 Sell (34490.35) 93.5 total: 103.62020798085834\n",
      "2021-07-05 02:34:16 Buy (34481.37): ask: 34481.37\n",
      "2021-07-05 02:36:49 Sell (34519.23) 37.86000000000058 total: 103.73000640244078\n",
      "2021-07-05 02:38:45 Buy (34503.49): ask: 34503.49\n",
      "2021-07-05 02:40:14 Sell (34513.98) 10.490000000005239 total: 103.76040912402055\n",
      "2021-07-05 02:42:04 Buy (34501.83): ask: 34501.83\n",
      "2021-07-05 02:44:20 Sell (34503.27) 1.4399999999950523 total: 103.7645828156769\n",
      "2021-07-05 02:48:06 Buy (34419.43): ask: 34419.43\n",
      "2021-07-05 02:50:02 Sell (34448.49) 29.05999999999767 total: 103.84901187217203\n",
      "2021-07-05 02:54:08 Buy (34351.56): ask: 34351.56\n",
      "2021-07-05 02:58:27 Sell (34437.27) 85.70999999999913 total: 104.09852019144488\n",
      "2021-07-05 03:04:17 Buy (34369.29): ask: 34369.29\n",
      "2021-07-05 03:10:01 Sell (34490.68) 121.38999999999942 total: 104.45171340550313\n",
      "2021-07-05 03:14:15 Buy (34466.96): ask: 34466.96\n",
      "2021-07-05 03:20:16 Sell (34544.09) 77.12999999999738 total: 104.67549293233112\n",
      "2021-07-05 03:34:04 Buy (34356.36): ask: 34356.36\n",
      "2021-07-05 03:36:36 Sell (34373.38) 17.0199999999968 total: 104.72503252267188\n",
      "2021-07-05 03:38:05 Buy (34369.32): ask: 34369.32\n",
      "2021-07-05 03:40:15 Sell (34372.0) 2.680000000000291 total: 104.73283017476392\n",
      "2021-07-05 03:42:05 Buy (34369.32): ask: 34369.32\n",
      "2021-07-05 03:44:01 Sell (34386.03) 16.709999999999127 total: 104.78144911747212\n",
      "2021-07-05 03:50:00 Buy (34307.12): ask: 34307.12\n",
      "2021-07-05 03:52:05 Sell (34335.04) 27.919999999998254 total: 104.86283164098327\n",
      "2021-07-05 03:54:42 Buy (34331.96): ask: 34331.96\n",
      "2021-07-05 03:58:17 Sell (34395.59) 63.62999999999738 total: 105.04816915157107\n",
      "2021-07-05 04:00:01 Buy (34363.72): ask: 34363.72\n",
      "2021-07-05 04:02:06 Sell (34395.37) 31.650000000001455 total: 105.14027210200834\n",
      "2021-07-05 04:06:08 Buy (34246.96): ask: 34246.96\n",
      "2021-07-05 04:08:20 Sell (34265.17) 18.209999999999127 total: 105.19344470477365\n",
      "2021-07-05 04:20:06 Buy (34106.43): ask: 34106.43\n",
      "2021-07-05 04:26:04 Sell (34230.06) 123.62999999999738 total: 105.55592767352763\n",
      "2021-07-05 04:28:02 Buy (34200.17): ask: 34200.17\n",
      "2021-07-05 04:34:09 Sell (34351.38) 151.20999999999913 total: 105.99805997871793\n",
      "2021-07-05 04:38:06 Buy (34340.0): ask: 34340.0\n",
      "2021-07-05 04:40:06 Sell (34359.94) 19.94000000000233 total: 106.05612637359273\n",
      "2021-07-05 04:42:33 Buy (34356.1): ask: 34356.1\n",
      "2021-07-05 04:44:04 Sell (34391.23) 35.13000000000466 total: 106.15837895755891\n",
      "2021-07-05 04:53:42 Buy (34250.24): ask: 34250.24\n",
      "2021-07-05 04:54:28 Sell (34259.35) 9.110000000000582 total: 106.18497731132227\n",
      "2021-07-05 04:58:13 Buy (34182.6): ask: 34182.6\n",
      "2021-07-05 05:04:17 Sell (34278.14) 95.54000000000087 total: 106.46447623767662\n",
      "2021-07-05 05:06:09 Buy (34249.55): ask: 34249.55\n",
      "2021-07-05 05:10:06 Sell (34300.81) 51.25999999999476 total: 106.61414243767047\n",
      "2021-07-05 05:14:24 Buy (34189.83): ask: 34189.83\n",
      "2021-07-05 05:16:21 Sell (34196.1) 6.269999999996799 total: 106.63248122437984\n",
      "2021-07-05 05:18:52 Buy (34140.81): ask: 34140.81\n",
      "2021-07-05 05:24:08 Sell (34182.99) 42.18000000000029 total: 106.75602838099388\n",
      "2021-07-05 05:30:01 Buy (34112.89): ask: 34112.89\n",
      "2021-07-05 05:32:28 Sell (34182.36) 69.47000000000116 total: 106.95967574127324\n",
      "2021-07-05 05:34:12 Buy (34155.32): ask: 34155.32\n",
      "2021-07-05 05:38:16 Sell (34206.33) 51.01000000000204 total: 107.10902290007604\n",
      "2021-07-05 05:42:07 Buy (34192.71): ask: 34192.71\n",
      "2021-07-05 05:44:13 Sell (34199.57) 6.860000000000582 total: 107.12908565614305\n",
      "2021-07-05 05:46:16 Buy (34167.92): ask: 34167.92\n",
      "2021-07-05 05:54:11 Sell (34367.28) 199.36000000000058 total: 107.71255693563563\n",
      "2021-07-05 05:58:05 Buy (34333.28): ask: 34333.28\n",
      "2021-07-05 06:00:17 Sell (34344.29) 11.010000000002037 total: 107.74462494661508\n",
      "2021-07-05 06:04:01 Buy (34259.64): ask: 34259.64\n",
      "2021-07-05 06:06:11 Sell (34271.9) 12.260000000002037 total: 107.78041049485785\n",
      "2021-07-05 06:08:17 Buy (34239.25): ask: 34239.25\n",
      "2021-07-05 06:14:13 Sell (34320.66) 81.41000000000349 total: 108.0181785534456\n",
      "2021-07-05 06:16:06 Buy (34303.43): ask: 34303.43\n",
      "2021-07-05 06:18:04 Sell (34370.97) 67.54000000000087 total: 108.21506848544364\n",
      "2021-07-05 06:22:52 Buy (34322.84): ask: 34322.84\n",
      "2021-07-05 06:26:01 Sell (34366.29) 43.450000000004366 total: 108.34166057397712\n",
      "2021-07-05 06:34:21 Buy (34265.29): ask: 34265.29\n",
      "2021-07-05 06:36:03 Sell (34319.0) 53.70999999999913 total: 108.49840811646108\n",
      "2021-07-05 06:38:14 Buy (34312.56): ask: 34312.56\n",
      "2021-07-05 06:40:42 Sell (34330.36) 17.80000000000291 total: 108.55028416418239\n",
      "2021-07-05 06:42:10 Buy (34280.55): ask: 34280.55\n",
      "2021-07-05 06:44:19 Sell (34342.45) 61.89999999999418 total: 108.7308530290343\n",
      "2021-07-05 06:48:08 Buy (34277.46): ask: 34277.46\n",
      "2021-07-05 06:54:01 Sell (34323.16) 45.700000000004366 total: 108.86417679339725\n",
      "2021-07-05 06:56:23 Buy (34292.75): ask: 34292.75\n",
      "2021-07-05 06:59:06 Sell (34322.47) 29.720000000001164 total: 108.95084234223775\n"
     ]
    },
    {
     "name": "stdout",
     "output_type": "stream",
     "text": [
      "2021-07-05 07:04:07 Buy (34212.14): ask: 34212.14\n",
      "2021-07-05 07:08:13 Sell (34256.74) 44.599999999998545 total: 109.08120542388069\n",
      "2021-07-05 07:16:09 Buy (34162.67): ask: 34162.67\n",
      "2021-07-05 07:18:12 Sell (34213.07) 50.400000000001455 total: 109.2287348763503\n",
      "2021-07-05 07:22:06 Buy (34149.71): ask: 34149.71\n",
      "2021-07-05 07:24:07 Sell (34150.38) 0.6699999999982538 total: 109.23069682566114\n",
      "2021-07-05 07:26:03 Buy (34100.05): ask: 34100.05\n",
      "2021-07-05 07:34:08 Sell (34226.54) 126.48999999999796 total: 109.60163469818625\n",
      "2021-07-05 07:36:01 Buy (34184.99): ask: 34184.99\n",
      "2021-07-05 07:42:07 Sell (34223.44) 38.450000000004366 total: 109.7141109633541\n",
      "2021-07-05 07:46:17 Buy (34154.42): ask: 34154.42\n",
      "2021-07-05 07:48:08 Sell (34206.44) 52.020000000004075 total: 109.86641921511186\n",
      "2021-07-05 07:50:07 Buy (34199.66): ask: 34199.66\n",
      "2021-07-05 08:02:01 Sell (34270.91) 71.25 total: 110.07475461961587\n",
      "2021-07-05 08:04:12 Buy (34210.85): ask: 34210.85\n",
      "2021-07-05 08:10:07 Sell (34281.05) 70.20000000000437 total: 110.27995267812656\n",
      "2021-07-05 08:16:16 Buy (34187.57): ask: 34187.57\n",
      "2021-07-05 08:20:04 Sell (34226.74) 39.169999999998254 total: 110.3945264837524\n",
      "2021-07-05 08:26:03 Buy (34171.33): ask: 34171.33\n",
      "2021-07-05 08:28:05 Sell (34201.81) 30.479999999995925 total: 110.48372406546783\n",
      "2021-07-05 08:32:00 Buy (34133.42): ask: 34133.42\n",
      "2021-07-05 08:34:36 Sell (34271.74) 138.3199999999997 total: 110.88895741155503\n",
      "2021-07-05 08:40:07 Buy (34174.33): ask: 34174.33\n",
      "2021-07-05 08:48:13 Sell (34245.85) 71.5199999999968 total: 111.09823730087544\n"
     ]
    },
    {
     "data": {
      "image/png": "[encoded data removed]",
      "text/plain": [
       "<Figure size 1440x864 with 1 Axes>"
      ]
     },
     "metadata": {
      "needs_background": "light"
     },
     "output_type": "display_data"
    }
   ],
   "source": [
    "model = ModelTest()\n",
    "backProc = process_model(model, '2Min')"
   ]
  },
  {
   "cell_type": "code",
   "execution_count": 12,
   "metadata": {},
   "outputs": [
    {
     "name": "stdout",
     "output_type": "stream",
     "text": [
      "100\n",
      "111.09823730087544\n",
      "11.0982%\n"
     ]
    }
   ],
   "source": [
    "backProc.report()"
   ]
  },
  {
   "cell_type": "code",
   "execution_count": null,
   "metadata": {},
   "outputs": [],
   "source": []
  }
 ],
 "metadata": {
  "kernelspec": {
   "display_name": "Python 3",
   "language": "python",
   "name": "python3"
  },
  "language_info": {
   "codemirror_mode": {
    "name": "ipython",
    "version": 3
   },
   "file_extension": ".py",
   "mimetype": "text/x-python",
   "name": "python",
   "nbconvert_exporter": "python",
   "pygments_lexer": "ipython3",
   "version": "3.9.5"
  }
 },
 "nbformat": 4,
 "nbformat_minor": 4
}
