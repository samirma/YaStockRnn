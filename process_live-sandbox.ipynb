{
 "cells": [
  {
   "cell_type": "code",
   "execution_count": 1,
   "metadata": {
    "scrolled": true
   },
   "outputs": [],
   "source": [
    "import pandas as pd\n",
    "import data_util\n",
    "from tqdm import tqdm_notebook as tqdm\n",
    "from data_generator import DataGenerator\n",
    "from state_util import StateUtil\n",
    "from tec_an import TecAn\n",
    "from data_agent import *\n",
    "import numpy as np\n",
    "from data_util import *\n",
    "import tensorflow as tf\n",
    "from sklearn_model_hyper import *\n",
    "import pandas as pd\n",
    "from stock_agent import *\n",
    "from backtest import *\n",
    "from joblib import dump, load\n",
    "from datetime import datetime, timedelta\n",
    "from tec_an import *\n",
    "from bitstamp import *\n",
    "from process_live_trade import *\n",
    "from model_winner_select import *\n",
    "\n",
    "base_dir = \"data/\""
   ]
  },
  {
   "cell_type": "code",
   "execution_count": 2,
   "metadata": {},
   "outputs": [],
   "source": [
    "currency = \"btcusd\"\n",
    "\n",
    "full_data = base_dir + \"backtest/\"\n",
    "full_data = base_dir + \"4jul21/\"\n",
    "#full_data = base_dir + \"btcusd/\"\n",
    "data_gen = DataGenerator(random = False, base_dir = full_data)\n",
    "data_gen.rewind()\n",
    "data_count = (data_gen.steps - 100)\n",
    "#data_count = 200000\n",
    "raw = data_gen.next()\n",
    "\n",
    "minute = 30"
   ]
  },
  {
   "cell_type": "code",
   "execution_count": 3,
   "metadata": {},
   "outputs": [],
   "source": [
    "path = \"model/\"\n",
    "files = os.listdir(path)\n",
    "models = []\n",
    "for file in files:\n",
    "    models.append(f\"{path}{file}\")\n",
    "\n",
    "models = ['model/rand']\n",
    "#models = ['model/quadra']\n",
    "    \n",
    "timestamp = int(raw['timestamp'])"
   ]
  },
  {
   "cell_type": "code",
   "execution_count": 4,
   "metadata": {
    "scrolled": true
   },
   "outputs": [
    {
     "name": "stderr",
     "output_type": "stream",
     "text": [
      "\r",
      "  0%|          | 0/10 [00:00<?, ?it/s]"
     ]
    },
    {
     "name": "stdout",
     "output_type": "stream",
     "text": [
      "model/rand - 10\n",
      "Pre selected: 10\n",
      "https://www.bitstamp.net/api/v2/ohlc/btcusd/?&currency_pair=btcusd&step=1800&limit=1000&start=1625258981\n",
      "Downloaded from 2021-07-02 21:30:00 to 2021-07-04 23:30:00 35655.00\n",
      "Resample 30Min - TecAn ( windows 40, windows_limit 100 )\n",
      "Processing 100 of btcusd\n"
     ]
    },
    {
     "data": {
      "application/vnd.jupyter.widget-view+json": {
       "model_id": "068f819e8015402e83011fd82ce8c729",
       "version_major": 2,
       "version_minor": 0
      },
      "text/plain": [
       "  0%|          | 0/100 [00:00<?, ?it/s]"
      ]
     },
     "metadata": {},
     "output_type": "display_data"
    },
    {
     "name": "stderr",
     "output_type": "stream",
     "text": [
      "100%|██████████| 10/10 [00:14<00:00,  1.42s/it]"
     ]
    },
    {
     "name": "stdout",
     "output_type": "stream",
     "text": [
      "Selected: 9\n",
      "Pipeline(steps=[('normalizer', Normalizer()),\n",
      "                ('pipeline',\n",
      "                 Pipeline(steps=[('s',\n",
      "                                  RFECV(estimator=ExtraTreesClassifier(max_features=0.3),\n",
      "                                        scoring='recall')),\n",
      "                                 ('m',\n",
      "                                  RandomForestClassifier(bootstrap=False,\n",
      "                                                         criterion='entropy',\n",
      "                                                         max_features=0.1,\n",
      "                                                         random_state=42))]))])\n",
      "btcusd -> 103.36863496765659 | 21 - 9\n",
      "{'recall': 0.5177065767284992, 'precision': 0.5265866209262435, 'f1': 0.5221088435374149, 'accuracy': 0.6102635228848821, 'roc_auc': 0.5963091187529421}\n",
      "\n",
      "Pipeline(steps=[('minmaxscaler', MinMaxScaler()),\n",
      "                ('randomforestclassifier',\n",
      "                 RandomForestClassifier(bootstrap=False, criterion='entropy',\n",
      "                                        max_features=0.1, random_state=42))])\n",
      "btcusd -> 104.84797102940634 | 17 - 3\n",
      "{'recall': 0.7585335018963337, 'precision': 0.6153846153846154, 'f1': 0.6795016987542469, 'accuracy': 0.6074895977808599, 'roc_auc': 0.5912483177684433}\n",
      "\n",
      "Pipeline(steps=[('normalizer', Normalizer()),\n",
      "                ('pipeline',\n",
      "                 Pipeline(steps=[('s',\n",
      "                                  RFECV(estimator=ExtraTreesClassifier(max_features=0.3),\n",
      "                                        scoring='recall')),\n",
      "                                 ('m',\n",
      "                                  RandomForestClassifier(bootstrap=False,\n",
      "                                                         criterion='entropy',\n",
      "                                                         max_features=0.1,\n",
      "                                                         random_state=42))]))])\n",
      "btcusd -> 104.98944577518463 | 26 - 7\n",
      "{'recall': 0.6472819216182049, 'precision': 0.6392009987515606, 'f1': 0.6432160804020101, 'accuracy': 0.6061026352288488, 'roc_auc': 0.6016747549719289}\n",
      "\n",
      "Winner for ['btcusd']\n",
      "4.98945% -> 104.98944577518463\n",
      "Positive: 26 Negative: 7\n",
      "Minutes=30 Window=40 Step=2 | 140.6828226509521 {'btcusd': 0.46846846846846846, 'ethusd': 0.4835680751173709, 'ltcusd': 0.43636363636363634, 'ltcbtc': 0.5208845208845209}\n",
      "Pipeline(steps=[('normalizer', Normalizer()),\n",
      "                ('pipeline',\n",
      "                 Pipeline(steps=[('s',\n",
      "                                  RFECV(estimator=ExtraTreesClassifier(max_features=0.3),\n",
      "                                        scoring='recall')),\n",
      "                                 ('m',\n",
      "                                  RandomForestClassifier(bootstrap=False,\n",
      "                                                         criterion='entropy',\n",
      "                                                         max_features=0.1,\n",
      "                                                         random_state=42))]))])\n",
      "\n"
     ]
    },
    {
     "name": "stderr",
     "output_type": "stream",
     "text": [
      "\n"
     ]
    }
   ],
   "source": [
    "winner = get_best_model(\n",
    "    minutes_list=[minute],\n",
    "    result_paths=models,\n",
    "    currency_list=[currency],\n",
    "    timestamp = timestamp,\n",
    "    winner_path = None\n",
    ")"
   ]
  },
  {
   "cell_type": "code",
   "execution_count": 5,
   "metadata": {},
   "outputs": [
    {
     "name": "stdout",
     "output_type": "stream",
     "text": [
      "Minutes=30 Window=40 Step=2 | 140.6828226509521\n",
      "Pipeline(steps=[('normalizer', Normalizer()),\n",
      "                ('pipeline',\n",
      "                 Pipeline(steps=[('s',\n",
      "                                  RFECV(estimator=ExtraTreesClassifier(max_features=0.3),\n",
      "                                        scoring='recall')),\n",
      "                                 ('m',\n",
      "                                  RandomForestClassifier(bootstrap=False,\n",
      "                                                         criterion='entropy',\n",
      "                                                         max_features=0.1,\n",
      "                                                         random_state=42))]))])\n",
      "BackTest (pending_sell_steps=2 sell_on_profit=True  value=100\n",
      "Resample 30Min - TecAn ( windows 40, windows_limit 100 )\n"
     ]
    }
   ],
   "source": [
    "result = winner\n",
    "model = result['model']\n",
    "window = result['window']\n",
    "minutes = result['minutes']\n",
    "step = result['step']\n",
    "profit = result['profit']\n",
    "print(f\"Minutes={minutes} Window={window} Step={step} | {profit}\")\n",
    "print(f\"{model}\")\n",
    "\n",
    "agent, back, stock = get_agent(minutes = minutes,\n",
    "                                win = window,\n",
    "                                step = step,\n",
    "                                currency = currency,\n",
    "                                hot_load = False,\n",
    "                                model = model,\n",
    "                                timestamp = timestamp,\n",
    "                                simulate_on_price = True)"
   ]
  },
  {
   "cell_type": "code",
   "execution_count": null,
   "metadata": {},
   "outputs": [],
   "source": []
  },
  {
   "cell_type": "code",
   "execution_count": 6,
   "metadata": {},
   "outputs": [],
   "source": [
    "import numpy as np\n",
    "import matplotlib.pyplot as plt\n",
    "def get_charts(stock_data):\n",
    "    fig = plt.figure()\n",
    "    ax = plt.axes()\n",
    "    x = stock_data\n",
    "    plt.plot(x, linewidth=1)\n",
    "    #plt.grid(b=True, color='aqua', alpha=0.3, linestyle='-.', linewidth=2)\n",
    "    plt.show()\n"
   ]
  },
  {
   "cell_type": "code",
   "execution_count": 7,
   "metadata": {},
   "outputs": [],
   "source": [
    "def get_online_data(minutes,\n",
    "                    val_start,\n",
    "                    val_end,\n",
    "                    source_data_generator, \n",
    "                    load_from_disk, file_prefix = \"\"):\n",
    "    \n",
    "    online = OnLineDataProvider(\n",
    "                 source_data_generator = source_data_generator,\n",
    "                 minutes = minutes,\n",
    "                 train_keys = [],\n",
    "                 train_limit = 1000,\n",
    "                 val_limit = 1000,\n",
    "                 val_keys = [currency],\n",
    "                 val_start = val_start,\n",
    "                 val_end = val_end,\n",
    "                 train_start_list = val_start\n",
    "    )\n",
    "\n",
    "    online_path = f'data/online{file_prefix}_{minutes}'\n",
    "    \n",
    "    online.load_val_cache([currency], val_start, val_end)\n",
    "    \n",
    "    return online"
   ]
  },
  {
   "cell_type": "code",
   "execution_count": 8,
   "metadata": {},
   "outputs": [],
   "source": [
    "prices = []\n",
    "agent.on_closed_price = lambda price: prices.append(price)\n",
    "\n",
    "on_raw_data = lambda raw: print(raw)\n"
   ]
  },
  {
   "cell_type": "code",
   "execution_count": 9,
   "metadata": {
    "scrolled": true
   },
   "outputs": [
    {
     "name": "stdout",
     "output_type": "stream",
     "text": [
      "2021-08-14 18:13:39.084049 ModelAgent(35340.23): 2021-07-04 23:00:04(1625439604) UP\n",
      "2021-08-14 18:13:39.084276 BackTest: Bought: 35340.23\n",
      "2021-08-14 18:13:43.271065 ModelAgent(35415.34): 2021-07-04 23:30:08(1625441408) UP\n",
      "2021-08-14 18:13:43.271251 BackTest: Profit detected bid: 35415.34 ask: 35415.34\n",
      "2021-08-14 18:13:43.271285 BackTest: SOLD >>>> Result: PROFIT 0.2125 total: 100.21253398746978\n",
      "2021-08-14 18:13:47.087133 ModelAgent(35247.7): 2021-07-05 00:00:17(1625443217) UP\n",
      "2021-08-14 18:13:47.087295 BackTest: Bought: 35247.7\n",
      "2021-08-14 18:13:51.399817 ModelAgent(34922.82): 2021-07-05 00:30:08(1625445008) UP\n",
      "2021-08-14 18:13:55.446446 ModelAgent(34898.82): 2021-07-05 01:00:40(1625446840) UP\n",
      "2021-08-14 18:13:59.306613 ModelAgent(34639.91): 2021-07-05 01:30:15(1625448615) DOWN\n",
      "2021-08-14 18:13:59.306951 BackTest: SOLD >>>> Result: LOSS -1.7243 total: 98.48819452702274\n",
      "2021-08-14 18:14:03.534515 ModelAgent(34560.8): 2021-07-05 02:00:08(1625450408) UP\n",
      "2021-08-14 18:14:03.534689 BackTest: Bought: 34560.8\n",
      "2021-08-14 18:14:07.302245 ModelAgent(34477.16): 2021-07-05 02:30:40(1625452240) UP\n",
      "2021-08-14 18:14:10.327339 ModelAgent(34430.21): 2021-07-05 03:00:02(1625454002) UP\n",
      "2021-08-14 18:14:13.446044 ModelAgent(34426.56): 2021-07-05 03:30:06(1625455806) UP\n",
      "2021-08-14 18:14:17.056125 ModelAgent(34363.72): 2021-07-05 04:00:01(1625457601) DOWN\n",
      "2021-08-14 18:14:17.056268 BackTest: SOLD >>>> Result: LOSS -0.5702 total: 97.9179530974262\n",
      "2021-08-14 18:14:21.293255 ModelAgent(34245.31): 2021-07-05 04:30:23(1625459423) DOWN\n",
      "2021-08-14 18:14:25.414624 ModelAgent(34199.5): 2021-07-05 05:00:01(1625461201) DOWN\n",
      "2021-08-14 18:14:29.320643 ModelAgent(34112.89): 2021-07-05 05:30:01(1625463001) DOWN\n",
      "2021-08-14 18:14:33.573903 ModelAgent(34344.29): 2021-07-05 06:00:17(1625464817) DOWN\n",
      "2021-08-14 18:14:37.383590 ModelAgent(34299.57): 2021-07-05 06:30:30(1625466630) UP\n",
      "2021-08-14 18:14:37.383768 BackTest: Bought: 34299.57\n",
      "2021-08-14 18:14:40.895361 ModelAgent(34295.01): 2021-07-05 07:00:03(1625468403) UP\n",
      "2021-08-14 18:14:45.191294 ModelAgent(34154.96): 2021-07-05 07:30:02(1625470202) UP\n",
      "2021-08-14 18:14:48.800965 ModelAgent(34269.56): 2021-07-05 08:00:01(1625472001) DOWN\n",
      "2021-08-14 18:14:48.801147 BackTest: SOLD >>>> Result: LOSS -0.0875 total: 97.83045928919479\n",
      "2021-08-14 18:14:53.068916 ModelAgent(34174.91): 2021-07-05 08:30:11(1625473811) UP\n",
      "2021-08-14 18:14:53.069097 BackTest: Bought: 34174.91\n"
     ]
    }
   ],
   "source": [
    "data_gen.rewind()\n",
    "\n",
    "\n",
    "first = data_gen.next()\n",
    "#data_count\n",
    "for i in range(data_count):\n",
    "    raw = data_gen.next()\n",
    "    agent.on_new_raw_data(raw)\n",
    "    "
   ]
  },
  {
   "cell_type": "code",
   "execution_count": 10,
   "metadata": {},
   "outputs": [
    {
     "name": "stdout",
     "output_type": "stream",
     "text": [
      "2021-07-04 22:49:41(1625438981) -> 2021-07-05 08:50:02(1625475002)\n"
     ]
    }
   ],
   "source": [
    "val_start = int(first['timestamp'])\n",
    "val_end = int(raw['timestamp'])\n",
    "\n",
    "start_string = pd.to_datetime(val_start, unit='s')\n",
    "end_string = pd.to_datetime(val_end, unit='s')\n",
    "\n",
    "print(f\"{start_string}({val_start}) -> {end_string}({val_end})\")"
   ]
  },
  {
   "cell_type": "code",
   "execution_count": 11,
   "metadata": {},
   "outputs": [
    {
     "name": "stdout",
     "output_type": "stream",
     "text": [
      "2021-08-14 18:14:55.753320 BackTest: SOLD >>>> Result: LOSS 0.0 total: 97.83045928919479\n",
      "-2.16954% -> 97.83045928919479\n",
      "Positive: 1 Negative: 4\n"
     ]
    }
   ],
   "source": [
    "back.sell(back.buy_price)\n",
    "back.report()"
   ]
  },
  {
   "cell_type": "code",
   "execution_count": 12,
   "metadata": {},
   "outputs": [
    {
     "data": {
      "text/plain": [
       "<AxesSubplot:xlabel='Date'>"
      ]
     },
     "execution_count": 12,
     "metadata": {},
     "output_type": "execute_result"
    },
    {
     "data": {
      "image/png": "[encoded data removed]",
      "text/plain": [
       "<Figure size 432x288 with 1 Axes>"
      ]
     },
     "metadata": {
      "needs_background": "light"
     },
     "output_type": "display_data"
    }
   ],
   "source": [
    "agent.ohlc[1:][\"open\"].plot()\n",
    "#agent.ohlc[1:]"
   ]
  },
  {
   "cell_type": "code",
   "execution_count": 14,
   "metadata": {},
   "outputs": [
    {
     "name": "stdout",
     "output_type": "stream",
     "text": [
      "20\n"
     ]
    }
   ],
   "source": [
    "#get_charts(prices)\n",
    "print(len(prices))"
   ]
  },
  {
   "cell_type": "code",
   "execution_count": 15,
   "metadata": {},
   "outputs": [
    {
     "data": {
      "text/plain": [
       "35247.7"
      ]
     },
     "execution_count": 15,
     "metadata": {},
     "output_type": "execute_result"
    }
   ],
   "source": [
    "prices[2]"
   ]
  },
  {
   "cell_type": "code",
   "execution_count": 16,
   "metadata": {},
   "outputs": [],
   "source": [
    "tec = TecAn(windows = window, windows_limit = 100)\n",
    "source_data_generator = SourceDataGenerator(tec = tec)"
   ]
  },
  {
   "cell_type": "code",
   "execution_count": 17,
   "metadata": {},
   "outputs": [
    {
     "name": "stdout",
     "output_type": "stream",
     "text": [
      "https://www.bitstamp.net/api/v2/ohlc/btcusd/?&currency_pair=btcusd&step=1800&limit=1000&start=1625438981\n",
      "Downloaded from 2021-07-04 23:30:00 to 2021-07-05 10:00:00 34256.42\n",
      "Resample 30Min - TecAn ( windows 40, windows_limit 100 )\n",
      "Processing 21 of btcusd\n"
     ]
    },
    {
     "data": {
      "application/vnd.jupyter.widget-view+json": {
       "model_id": "5b95b914a7ba4b56a25bcbde79204b24",
       "version_major": 2,
       "version_minor": 0
      },
      "text/plain": [
       "  0%|          | 0/21 [00:00<?, ?it/s]"
      ]
     },
     "metadata": {},
     "output_type": "display_data"
    }
   ],
   "source": [
    "online = get_online_data(minutes = minute, \n",
    "                 source_data_generator = source_data_generator, \n",
    "                 load_from_disk = True, \n",
    "                 file_prefix = \"____\",\n",
    "                 val_start = val_start,\n",
    "                 val_end = val_end)"
   ]
  },
  {
   "cell_type": "code",
   "execution_count": 18,
   "metadata": {},
   "outputs": [],
   "source": [
    "x, y = online.load_val_data(currency)"
   ]
  },
  {
   "cell_type": "code",
   "execution_count": 30,
   "metadata": {},
   "outputs": [
    {
     "name": "stdout",
     "output_type": "stream",
     "text": [
      "2) price_from_provider: 35255.0 - price_from_raw: 35247.7 -> False\n",
      "17) price_from_provider: 34149.71 - price_from_raw: 34154.96 -> False\n"
     ]
    }
   ],
   "source": [
    "prices_from_provider = y[:-1]\n",
    "for i, price_from_provider in enumerate(prices_from_provider):\n",
    "    price_from_raw = prices[i]\n",
    "    differ = price_from_raw == price_from_provider\n",
    "    if (not differ):\n",
    "        print(f\"{i}) price_from_provider: {price_from_provider} - price_from_raw: {price_from_raw} -> {price_from_raw == price_from_provider}\")"
   ]
  },
  {
   "cell_type": "code",
   "execution_count": 21,
   "metadata": {},
   "outputs": [
    {
     "data": {
      "image/png": "[encoded data removed]",
      "text/plain": [
       "<Figure size 432x288 with 1 Axes>"
      ]
     },
     "metadata": {
      "needs_background": "light"
     },
     "output_type": "display_data"
    },
    {
     "name": "stdout",
     "output_type": "stream",
     "text": [
      "21\n"
     ]
    }
   ],
   "source": [
    "get_charts(y)\n",
    "print(len(y))"
   ]
  },
  {
   "cell_type": "code",
   "execution_count": 22,
   "metadata": {},
   "outputs": [
    {
     "name": "stdout",
     "output_type": "stream",
     "text": [
      "BackTest (pending_sell_steps=2 sell_on_profit=True  value=100\n",
      "Resample 30Min - TecAn ( windows 40, windows_limit 100 )\n"
     ]
    }
   ],
   "source": [
    "agent_array, back_array, stock_array = get_agent(minutes = minutes,\n",
    "                                win = window,\n",
    "                                step = step,\n",
    "                                currency = currency,\n",
    "                                hot_load = False,\n",
    "                                model = model,\n",
    "                                timestamp = timestamp,\n",
    "                                simulate_on_price = True)"
   ]
  },
  {
   "cell_type": "code",
   "execution_count": 23,
   "metadata": {
    "scrolled": true
   },
   "outputs": [
    {
     "name": "stdout",
     "output_type": "stream",
     "text": [
      "2021-08-14 18:14:57.286028 ModelAgent(35340.23): 1970-01-01 00:00:00(0) UP\n",
      "2021-08-14 18:14:57.286162 BackTest: Bought: 35340.23\n",
      "2021-08-14 18:14:57.324046 ModelAgent(35415.34): 1970-01-01 00:00:00(0) UP\n",
      "2021-08-14 18:14:57.324436 BackTest: Profit detected bid: 35415.34 ask: 35415.34\n",
      "2021-08-14 18:14:57.324481 BackTest: SOLD >>>> Result: PROFIT 0.2125 total: 100.21253398746978\n",
      "2021-08-14 18:14:57.364124 ModelAgent(35247.7): 1970-01-01 00:00:00(0) UP\n",
      "2021-08-14 18:14:57.364299 BackTest: Bought: 35247.7\n",
      "2021-08-14 18:14:57.402646 ModelAgent(34922.82): 1970-01-01 00:00:00(0) UP\n",
      "2021-08-14 18:14:57.441548 ModelAgent(34898.82): 1970-01-01 00:00:00(0) UP\n",
      "2021-08-14 18:14:57.479491 ModelAgent(34639.91): 1970-01-01 00:00:00(0) DOWN\n",
      "2021-08-14 18:14:57.479595 BackTest: SOLD >>>> Result: LOSS -1.7243 total: 98.48819452702274\n",
      "2021-08-14 18:14:57.518344 ModelAgent(34560.8): 1970-01-01 00:00:00(0) UP\n",
      "2021-08-14 18:14:57.518482 BackTest: Bought: 34560.8\n",
      "2021-08-14 18:14:57.559663 ModelAgent(34477.16): 1970-01-01 00:00:00(0) UP\n",
      "2021-08-14 18:14:57.596635 ModelAgent(34430.21): 1970-01-01 00:00:00(0) UP\n",
      "2021-08-14 18:14:57.633784 ModelAgent(34426.56): 1970-01-01 00:00:00(0) UP\n",
      "2021-08-14 18:14:57.671970 ModelAgent(34363.72): 1970-01-01 00:00:00(0) DOWN\n",
      "2021-08-14 18:14:57.672246 BackTest: SOLD >>>> Result: LOSS -0.5702 total: 97.9179530974262\n",
      "2021-08-14 18:14:57.707044 ModelAgent(34245.31): 1970-01-01 00:00:00(0) DOWN\n",
      "2021-08-14 18:14:57.744407 ModelAgent(34199.5): 1970-01-01 00:00:00(0) DOWN\n",
      "2021-08-14 18:14:57.779302 ModelAgent(34112.89): 1970-01-01 00:00:00(0) DOWN\n",
      "2021-08-14 18:14:57.813619 ModelAgent(34344.29): 1970-01-01 00:00:00(0) DOWN\n",
      "2021-08-14 18:14:57.846711 ModelAgent(34299.57): 1970-01-01 00:00:00(0) UP\n",
      "2021-08-14 18:14:57.846907 BackTest: Bought: 34299.57\n",
      "2021-08-14 18:14:57.881128 ModelAgent(34295.01): 1970-01-01 00:00:00(0) UP\n",
      "2021-08-14 18:14:57.913211 ModelAgent(34154.96): 1970-01-01 00:00:00(0) UP\n",
      "2021-08-14 18:14:57.945783 ModelAgent(34269.56): 1970-01-01 00:00:00(0) DOWN\n",
      "2021-08-14 18:14:57.945937 BackTest: SOLD >>>> Result: LOSS -0.0875 total: 97.83045928919479\n",
      "2021-08-14 18:14:57.982874 ModelAgent(34174.91): 1970-01-01 00:00:00(0) UP\n",
      "2021-08-14 18:14:57.983067 BackTest: Bought: 34174.91\n"
     ]
    }
   ],
   "source": [
    "for price in prices:\n",
    "    order = [f\"{price}\", f\"{price}\"]\n",
    "    agent_array.on_state(0, price, order, order)\n",
    "    agent_array.on_new_price(price,0.0)"
   ]
  },
  {
   "cell_type": "code",
   "execution_count": 24,
   "metadata": {},
   "outputs": [
    {
     "name": "stdout",
     "output_type": "stream",
     "text": [
      "2021-08-14 18:14:57.989396 BackTest: SOLD >>>> Result: LOSS 0.0 total: 97.83045928919479\n",
      "-2.16954% -> 97.83045928919479\n",
      "Positive: 1 Negative: 4\n"
     ]
    }
   ],
   "source": [
    "back_array.sell(back_array.buy_price)\n",
    "back_array.report()"
   ]
  },
  {
   "cell_type": "code",
   "execution_count": 28,
   "metadata": {},
   "outputs": [
    {
     "name": "stdout",
     "output_type": "stream",
     "text": [
      "BackTest (pending_sell_steps=2 sell_on_profit=True  value=100\n",
      "2021-08-14 18:16:14.355604 BackTest: Bought: 35340.23\n",
      "2021-08-14 18:16:14.367010 BackTest: Profit detected bid: 35415.34 ask: 35415.34\n",
      "2021-08-14 18:16:14.367141 BackTest: SOLD >>>> Result: PROFIT 0.2125 total: 100.21253398746978\n",
      "2021-08-14 18:16:14.389140 BackTest: Bought: 34922.82\n",
      "2021-08-14 18:16:14.410365 BackTest: SOLD >>>> Result: LOSS -0.8101 total: 99.40243331404194\n",
      "2021-08-14 18:16:14.422365 BackTest: Bought: 34560.8\n",
      "2021-08-14 18:16:14.444686 BackTest: SOLD >>>> Result: LOSS -0.3779 total: 99.02457747737148\n",
      "2021-08-14 18:16:14.496336 BackTest: Bought: 34112.89\n",
      "2021-08-14 18:16:14.508805 BackTest: Profit detected bid: 34344.29 ask: 34344.29\n",
      "2021-08-14 18:16:14.508962 BackTest: SOLD >>>> Result: PROFIT 0.6783 total: 99.70291343776651\n",
      "2021-08-14 18:16:14.531300 BackTest: Bought: 34295.01\n",
      "2021-08-14 18:16:14.566080 BackTest: SOLD >>>> Result: LOSS -0.3502 total: 99.35271671818545\n",
      "2021-08-14 18:16:14.579432 BackTest: Bought: 34256.42\n",
      "2021-08-14 18:16:14.579605 BackTest: SOLD >>>> Result: LOSS 0.0 total: 99.35271671818545\n"
     ]
    }
   ],
   "source": [
    "back, metrics = eval_step(model, currency, step, online, verbose = True)"
   ]
  },
  {
   "cell_type": "code",
   "execution_count": 29,
   "metadata": {},
   "outputs": [
    {
     "name": "stdout",
     "output_type": "stream",
     "text": [
      "2021-08-14 18:16:15.154149 BackTest: SOLD >>>> Result: LOSS 0 total: 99.35271671818545\n",
      "-0.64728% -> 99.35271671818545\n",
      "Positive: 2 Negative: 5\n"
     ]
    }
   ],
   "source": [
    "back.sell(back.buy_price)\n",
    "back.report()"
   ]
  },
  {
   "cell_type": "code",
   "execution_count": 32,
   "metadata": {},
   "outputs": [
    {
     "data": {
      "text/plain": [
       "Pipeline(steps=[('normalizer', Normalizer()),\n",
       "                ('pipeline',\n",
       "                 Pipeline(steps=[('s',\n",
       "                                  RFECV(estimator=ExtraTreesClassifier(max_features=0.3),\n",
       "                                        scoring='recall')),\n",
       "                                 ('m',\n",
       "                                  RandomForestClassifier(bootstrap=False,\n",
       "                                                         criterion='entropy',\n",
       "                                                         max_features=0.1,\n",
       "                                                         random_state=42))]))])"
      ]
     },
     "execution_count": 32,
     "metadata": {},
     "output_type": "execute_result"
    }
   ],
   "source": [
    "model"
   ]
  },
  {
   "cell_type": "code",
   "execution_count": null,
   "metadata": {},
   "outputs": [],
   "source": []
  }
 ],
 "metadata": {
  "kernelspec": {
   "display_name": "Python 3",
   "language": "python",
   "name": "python3"
  },
  "language_info": {
   "codemirror_mode": {
    "name": "ipython",
    "version": 3
   },
   "file_extension": ".py",
   "mimetype": "text/x-python",
   "name": "python",
   "nbconvert_exporter": "python",
   "pygments_lexer": "ipython3",
   "version": "3.9.5"
  }
 },
 "nbformat": 4,
 "nbformat_minor": 4
}
