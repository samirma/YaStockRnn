{
 "cells": [
  {
   "cell_type": "code",
   "execution_count": 1,
   "metadata": {
    "scrolled": true
   },
   "outputs": [],
   "source": [
    "import pandas as pd\n",
    "import data_util\n",
    "from tqdm import tqdm_notebook as tqdm\n",
    "from data_generator import DataGenerator\n",
    "from state_util import StateUtil\n",
    "from tec_an import TecAn\n",
    "from data_agent import *\n",
    "import numpy as np\n",
    "from data_util import *\n",
    "import tensorflow as tf\n",
    "from sklearn_model_hyper import *\n",
    "import pandas as pd\n",
    "from stock_agent import *\n",
    "from backtest import *\n",
    "from joblib import dump, load\n",
    "from datetime import datetime, timedelta\n",
    "from tec_an import *\n",
    "from bitstamp import *\n",
    "from process_live_trade import *\n",
    "\n",
    "base_dir = \"data/\""
   ]
  },
  {
   "cell_type": "code",
   "execution_count": 2,
   "metadata": {},
   "outputs": [],
   "source": [
    "tec = TecAn(windows = 15, windows_limit = 100)\n",
    "generator = SourceDataGenerator(tec = tec)\n"
   ]
  },
  {
   "cell_type": "code",
   "execution_count": 3,
   "metadata": {},
   "outputs": [],
   "source": [
    "model = load(\"model/winner\")['model']\n",
    "\n",
    "\n"
   ]
  },
  {
   "cell_type": "code",
   "execution_count": 4,
   "metadata": {},
   "outputs": [
    {
     "data": {
      "text/plain": [
       "Pipeline(steps=[('standardscaler', StandardScaler()),\n",
       "                ('pipeline',\n",
       "                 Pipeline(steps=[('s',\n",
       "                                  RFECV(estimator=DecisionTreeClassifier(random_state=10),\n",
       "                                        scoring='recall')),\n",
       "                                 ('m',\n",
       "                                  RandomForestClassifier(criterion='entropy',\n",
       "                                                         max_depth=100,\n",
       "                                                         n_estimators=30,\n",
       "                                                         random_state=42))]))])"
      ]
     },
     "execution_count": 4,
     "metadata": {},
     "output_type": "execute_result"
    }
   ],
   "source": [
    "model"
   ]
  },
  {
   "cell_type": "code",
   "execution_count": 5,
   "metadata": {},
   "outputs": [
    {
     "name": "stdout",
     "output_type": "stream",
     "text": [
      "Resample 5Min - TecAn ( windows 40, windows_limit 100 )\n"
     ]
    }
   ],
   "source": [
    "\n",
    "agent, back, stock  = get_agent(5, 40, 1, model, hot_load = False, currency = \"btcusd\")\n",
    "\n",
    "agent.verbose = True"
   ]
  },
  {
   "cell_type": "code",
   "execution_count": 6,
   "metadata": {},
   "outputs": [],
   "source": [
    "def process(raw):\n",
    "    #raw_data_live.append(raw)\n",
    "    self.on_raw_data(raw)\n",
    "    #timestamp = raw[TIMESTAMP_KEY]\n",
    "    #time = pd.to_datetime(timestamp, unit='s')\n",
    "    if (self.verbose):\n",
    "        log = f\"{self.stock.get_last_action()} | {self.back.current}\"\n",
    "        if (log == self.last_log):\n",
    "            return\n",
    "        self.last_log = log\n",
    "        #print(f'{log}')\n",
    "        #print(f'{datetime.now()}: {self.agent.on_new_data_count} {self.stock.get_last_action()} | {self.back.get_profit()}', end='\\r')\n"
   ]
  },
  {
   "cell_type": "code",
   "execution_count": 7,
   "metadata": {},
   "outputs": [],
   "source": [
    "full_data = base_dir + \"btcusd/\"\n",
    "data_gen = DataGenerator(random = False, base_dir = full_data)\n",
    "data_gen.rewind()\n",
    "data_count = (data_gen.steps - 100)\n",
    "#data_count = 200000"
   ]
  },
  {
   "cell_type": "code",
   "execution_count": 8,
   "metadata": {},
   "outputs": [
    {
     "data": {
      "application/vnd.jupyter.widget-view+json": {
       "model_id": "9bcc03e215ac4d35acc719bb905b10b5",
       "version_major": 2,
       "version_minor": 0
      },
      "text/plain": [
       "  0%|          | 0/388103 [00:00<?, ?it/s]"
      ]
     },
     "metadata": {},
     "output_type": "display_data"
    },
    {
     "name": "stdout",
     "output_type": "stream",
     "text": [
      "2021-07-27 23:57:36.888893 - on_x\n",
      "[0.0, 1.0, 0.0, 0.0, 0.0, 0.0, 1.0, 2.5, 2.5, 0.0, 0.0, 0.0, 0.0, 0.0, 0.0, 0.0]\n",
      "[0.  0.  0.  0.  0.  0.  0.  0.  0.  0.  0.  0.  0.  0.  0.  0.  0.  0.\n",
      " 0.  0.  0.  0.  0.  0.  0.  0.  0.  0.  0.  0.  0.  0.  0.  1.  0.  0.\n",
      " 0.  0.  1.  2.5 2.5 0.  0.  0.  0.  0.  0.  0. ]\n",
      "2021-07-27 23:57:36.898238 - SELL on current price: 58276.26\n",
      "2021-07-27 23:57:38.333222 - on_x\n",
      "[-2.8978259560361037, 0.0, 0.6459073135677356, 0.0, 0.0, 0.0, 1.0012934855707156, 5.0, 2.5, -100.0, 0.0, -0.0062161045321541646, -0.001243220906430833, -0.0062161045321541646, 0.0, 0.0]\n",
      "[ 0.00000000e+00  0.00000000e+00  0.00000000e+00  0.00000000e+00\n",
      "  0.00000000e+00  0.00000000e+00  0.00000000e+00  0.00000000e+00\n",
      "  0.00000000e+00  0.00000000e+00  0.00000000e+00  0.00000000e+00\n",
      "  0.00000000e+00  0.00000000e+00  0.00000000e+00  0.00000000e+00\n",
      "  0.00000000e+00  1.00000000e+00  0.00000000e+00  0.00000000e+00\n",
      "  0.00000000e+00  0.00000000e+00  1.00000000e+00  2.50000000e+00\n",
      "  2.50000000e+00  0.00000000e+00  0.00000000e+00  0.00000000e+00\n",
      "  0.00000000e+00  0.00000000e+00  0.00000000e+00  0.00000000e+00\n",
      " -2.89782596e+00  0.00000000e+00  6.45907314e-01  0.00000000e+00\n",
      "  0.00000000e+00  0.00000000e+00  1.00129349e+00  5.00000000e+00\n",
      "  2.50000000e+00 -1.00000000e+02  0.00000000e+00 -6.21610453e-03\n",
      " -1.24322091e-03 -6.21610453e-03  0.00000000e+00  0.00000000e+00]\n",
      "2021-07-27 23:57:38.340218 - SELL on current price: 58125.89\n",
      "2021-07-27 23:57:39.592324 - on_x\n",
      "[-1.1870745157275815, 0.5745859880466275, -0.03837435583441863, 0.0, 0.0, 0.0, 0.9985959446134526, 5.0, 7.5, -99.682894890053, 0.0, -0.003789522994702787, -0.001752481324085224, -0.003789522994702787, 0.0, 0.0]\n",
      "[ 0.00000000e+00  1.00000000e+00  0.00000000e+00  0.00000000e+00\n",
      "  0.00000000e+00  0.00000000e+00  1.00000000e+00  2.50000000e+00\n",
      "  2.50000000e+00  0.00000000e+00  0.00000000e+00  0.00000000e+00\n",
      "  0.00000000e+00  0.00000000e+00  0.00000000e+00  0.00000000e+00\n",
      " -2.89782596e+00  0.00000000e+00  6.45907314e-01  0.00000000e+00\n",
      "  0.00000000e+00  0.00000000e+00  1.00129349e+00  5.00000000e+00\n",
      "  2.50000000e+00 -1.00000000e+02  0.00000000e+00 -6.21610453e-03\n",
      " -1.24322091e-03 -6.21610453e-03  0.00000000e+00  0.00000000e+00\n",
      " -1.18707452e+00  5.74585988e-01 -3.83743558e-02  0.00000000e+00\n",
      "  0.00000000e+00  0.00000000e+00  9.98595945e-01  5.00000000e+00\n",
      "  7.50000000e+00 -9.96828949e+01  0.00000000e+00 -3.78952299e-03\n",
      " -1.75248132e-03 -3.78952299e-03  0.00000000e+00  0.00000000e+00]\n",
      "2021-07-27 23:57:39.600332 - SELL on current price: 58323.91\n",
      "2021-07-27 23:57:40.875404 - on_x\n",
      "[-5.176696230377303, 0.3165463064069256, 0.589880247994609, 0.0, 0.0, 0.0, 1.0024808785529715, 10.0, 7.5, -99.3899072304554, 0.0, -0.012857929287253931, -0.0039735709167189655, -0.012857929287253931, 0.0, 0.0]\n",
      "[-2.89782596e+00  0.00000000e+00  6.45907314e-01  0.00000000e+00\n",
      "  0.00000000e+00  0.00000000e+00  1.00129349e+00  5.00000000e+00\n",
      "  2.50000000e+00 -1.00000000e+02  0.00000000e+00 -6.21610453e-03\n",
      " -1.24322091e-03 -6.21610453e-03  0.00000000e+00  0.00000000e+00\n",
      " -1.18707452e+00  5.74585988e-01 -3.83743558e-02  0.00000000e+00\n",
      "  0.00000000e+00  0.00000000e+00  9.98595945e-01  5.00000000e+00\n",
      "  7.50000000e+00 -9.96828949e+01  0.00000000e+00 -3.78952299e-03\n",
      " -1.75248132e-03 -3.78952299e-03  0.00000000e+00  0.00000000e+00\n",
      " -5.17669623e+00  3.16546306e-01  5.89880248e-01  0.00000000e+00\n",
      "  0.00000000e+00  0.00000000e+00  1.00248088e+00  1.00000000e+01\n",
      "  7.50000000e+00 -9.93899072e+01  0.00000000e+00 -1.28579293e-02\n",
      " -3.97357092e-03 -1.28579293e-02  0.00000000e+00  0.00000000e+00]\n",
      "2021-07-27 23:57:40.884713 - SELL on current price: 58050.0\n",
      "2021-07-27 23:57:42.242103 - on_x\n",
      "[-8.442279933448322, 0.3062168152805667, 0.9235366533015883, 0.0, 0.0, 0.0, 1.002261935821405, 12.5, 7.5, -99.11860958813587, 0.0, -0.022086711547373922, -0.007596199042849958, -0.022086711547373922, 0.0, 0.0]\n",
      "[-1.18707452e+00  5.74585988e-01 -3.83743558e-02  0.00000000e+00\n",
      "  0.00000000e+00  0.00000000e+00  9.98595945e-01  5.00000000e+00\n",
      "  7.50000000e+00 -9.96828949e+01  0.00000000e+00 -3.78952299e-03\n",
      " -1.75248132e-03 -3.78952299e-03  0.00000000e+00  0.00000000e+00\n",
      " -5.17669623e+00  3.16546306e-01  5.89880248e-01  0.00000000e+00\n",
      "  0.00000000e+00  0.00000000e+00  1.00248088e+00  1.00000000e+01\n",
      "  7.50000000e+00 -9.93899072e+01  0.00000000e+00 -1.28579293e-02\n",
      " -3.97357092e-03 -1.28579293e-02  0.00000000e+00  0.00000000e+00\n",
      " -8.44227993e+00  3.06216815e-01  9.23536653e-01  0.00000000e+00\n",
      "  0.00000000e+00  0.00000000e+00  1.00226194e+00  1.25000000e+01\n",
      "  7.50000000e+00 -9.91186096e+01  0.00000000e+00 -2.20867115e-02\n",
      " -7.59619904e-03 -2.20867115e-02  0.00000000e+00  0.00000000e+00]\n",
      "2021-07-27 23:57:42.250190 - SELL on current price: 58029.94\n",
      "2021-07-27 23:57:43.865657 - on_x\n",
      "[-10.632091097998217, 0.312138656213274, 1.0711276089124226, 0.0, 0.0, 0.0, 1.0018106858320797, 12.5, 7.5, -98.8584998675239, 0.0, -0.030410330855510453, -0.012159025405382058, -0.030410330855510453, 0.0, 0.0]\n",
      "[-5.17669623e+00  3.16546306e-01  5.89880248e-01  0.00000000e+00\n",
      "  0.00000000e+00  0.00000000e+00  1.00248088e+00  1.00000000e+01\n",
      "  7.50000000e+00 -9.93899072e+01  0.00000000e+00 -1.28579293e-02\n",
      " -3.97357092e-03 -1.28579293e-02  0.00000000e+00  0.00000000e+00\n",
      " -8.44227993e+00  3.06216815e-01  9.23536653e-01  0.00000000e+00\n",
      "  0.00000000e+00  0.00000000e+00  1.00226194e+00  1.25000000e+01\n",
      "  7.50000000e+00 -9.91186096e+01  0.00000000e+00 -2.20867115e-02\n",
      " -7.59619904e-03 -2.20867115e-02  0.00000000e+00  0.00000000e+00\n",
      " -1.06320911e+01  3.12138656e-01  1.07112761e+00  0.00000000e+00\n",
      "  0.00000000e+00  0.00000000e+00  1.00181069e+00  1.25000000e+01\n",
      "  7.50000000e+00 -9.88584999e+01  0.00000000e+00 -3.04103309e-02\n",
      " -1.21590254e-02 -3.04103309e-02  0.00000000e+00  0.00000000e+00]\n",
      "2021-07-27 23:57:43.872924 - SELL on current price: 58035.1\n",
      "2021-07-27 23:57:45.159536 - on_x\n",
      "[-12.114155150983962, 0.3113831990140987, 1.1427360713236587, -7.275957614183426e-12, -7.275957614183426e-12, 0.0, 1.001573175414499, 12.5, 7.5, -98.6164559421964, 0.0, -0.03815656067276317, -0.01735853245885828, -0.03815656067276317, 0.0, 0.0]\n",
      "[-8.44227993e+00  3.06216815e-01  9.23536653e-01  0.00000000e+00\n",
      "  0.00000000e+00  0.00000000e+00  1.00226194e+00  1.25000000e+01\n",
      "  7.50000000e+00 -9.91186096e+01  0.00000000e+00 -2.20867115e-02\n",
      " -7.59619904e-03 -2.20867115e-02  0.00000000e+00  0.00000000e+00\n",
      " -1.06320911e+01  3.12138656e-01  1.07112761e+00  0.00000000e+00\n",
      "  0.00000000e+00  0.00000000e+00  1.00181069e+00  1.25000000e+01\n",
      "  7.50000000e+00 -9.88584999e+01  0.00000000e+00 -3.04103309e-02\n",
      " -1.21590254e-02 -3.04103309e-02  0.00000000e+00  0.00000000e+00\n",
      " -1.21141552e+01  3.11383199e-01  1.14273607e+00 -7.27595761e-12\n",
      " -7.27595761e-12  0.00000000e+00  1.00157318e+00  1.25000000e+01\n",
      "  7.50000000e+00 -9.86164559e+01  0.00000000e+00 -3.81565607e-02\n",
      " -1.73585325e-02 -3.81565607e-02  0.00000000e+00  0.00000000e+00]\n",
      "2021-07-27 23:57:45.167492 - SELL on current price: 58033.67\n"
     ]
    },
    {
     "ename": "KeyboardInterrupt",
     "evalue": "",
     "output_type": "error",
     "traceback": [
      "\u001b[0;31m---------------------------------------------------------------------------\u001b[0m",
      "\u001b[0;31mKeyboardInterrupt\u001b[0m                         Traceback (most recent call last)",
      "\u001b[0;32m<ipython-input-8-afe127aa4e9a>\u001b[0m in \u001b[0;36m<module>\u001b[0;34m\u001b[0m\n\u001b[1;32m      1\u001b[0m \u001b[0;32mfor\u001b[0m \u001b[0mi\u001b[0m \u001b[0;32min\u001b[0m \u001b[0mtqdm\u001b[0m\u001b[0;34m(\u001b[0m\u001b[0mrange\u001b[0m\u001b[0;34m(\u001b[0m\u001b[0mdata_count\u001b[0m\u001b[0;34m)\u001b[0m\u001b[0;34m)\u001b[0m\u001b[0;34m:\u001b[0m\u001b[0;34m\u001b[0m\u001b[0;34m\u001b[0m\u001b[0m\n\u001b[1;32m      2\u001b[0m     \u001b[0mraw\u001b[0m \u001b[0;34m=\u001b[0m \u001b[0mdata_gen\u001b[0m\u001b[0;34m.\u001b[0m\u001b[0mnext\u001b[0m\u001b[0;34m(\u001b[0m\u001b[0;34m)\u001b[0m\u001b[0;34m\u001b[0m\u001b[0;34m\u001b[0m\u001b[0m\n\u001b[0;32m----> 3\u001b[0;31m     \u001b[0magent\u001b[0m\u001b[0;34m.\u001b[0m\u001b[0mon_new_raw_data\u001b[0m\u001b[0;34m(\u001b[0m\u001b[0mraw\u001b[0m\u001b[0;34m)\u001b[0m\u001b[0;34m\u001b[0m\u001b[0;34m\u001b[0m\u001b[0m\n\u001b[0m",
      "\u001b[0;32m~/Desktop/YaStockRnn/data_agent.py\u001b[0m in \u001b[0;36mon_new_raw_data\u001b[0;34m(self, raw)\u001b[0m\n\u001b[1;32m     76\u001b[0m         \u001b[0mtimestamp\u001b[0m \u001b[0;34m=\u001b[0m \u001b[0mraw\u001b[0m\u001b[0;34m[\u001b[0m\u001b[0mTIMESTAMP_KEY\u001b[0m\u001b[0;34m]\u001b[0m\u001b[0;34m\u001b[0m\u001b[0;34m\u001b[0m\u001b[0m\n\u001b[1;32m     77\u001b[0m \u001b[0;34m\u001b[0m\u001b[0m\n\u001b[0;32m---> 78\u001b[0;31m         \u001b[0mself\u001b[0m\u001b[0;34m.\u001b[0m\u001b[0mon_state\u001b[0m\u001b[0;34m(\u001b[0m\u001b[0mtimestamp\u001b[0m\u001b[0;34m,\u001b[0m \u001b[0mprice\u001b[0m\u001b[0;34m,\u001b[0m \u001b[0mraw\u001b[0m\u001b[0;34m[\u001b[0m\u001b[0mBIDS_KEY\u001b[0m\u001b[0;34m]\u001b[0m\u001b[0;34m,\u001b[0m \u001b[0mraw\u001b[0m\u001b[0;34m[\u001b[0m\u001b[0mASKS_KEY\u001b[0m\u001b[0;34m]\u001b[0m\u001b[0;34m)\u001b[0m\u001b[0;34m\u001b[0m\u001b[0;34m\u001b[0m\u001b[0m\n\u001b[0m\u001b[1;32m     79\u001b[0m \u001b[0;34m\u001b[0m\u001b[0m\n\u001b[1;32m     80\u001b[0m         \u001b[0;31m# Only consider when prices changes\u001b[0m\u001b[0;34m\u001b[0m\u001b[0;34m\u001b[0m\u001b[0;34m\u001b[0m\u001b[0m\n",
      "\u001b[0;32m~/Desktop/YaStockRnn/process_live_trade.py\u001b[0m in \u001b[0;36m<lambda>\u001b[0;34m(timestamp, price, buy, sell)\u001b[0m\n\u001b[1;32m     65\u001b[0m \u001b[0;34m\u001b[0m\u001b[0m\n\u001b[1;32m     66\u001b[0m     \u001b[0mon_state\u001b[0m \u001b[0;34m=\u001b[0m \u001b[0;32mlambda\u001b[0m \u001b[0mtimestamp\u001b[0m\u001b[0;34m,\u001b[0m \u001b[0mprice\u001b[0m\u001b[0;34m,\u001b[0m \u001b[0mbuy\u001b[0m\u001b[0;34m,\u001b[0m \u001b[0msell\u001b[0m\u001b[0;34m:\u001b[0m \u001b[0mprint\u001b[0m\u001b[0;34m(\u001b[0m\u001b[0;34m\"{} {} {} {}\"\u001b[0m\u001b[0;34m.\u001b[0m\u001b[0mformat\u001b[0m\u001b[0;34m(\u001b[0m\u001b[0mtimestamp\u001b[0m\u001b[0;34m,\u001b[0m \u001b[0mprice\u001b[0m\u001b[0;34m,\u001b[0m \u001b[0mbuy\u001b[0m\u001b[0;34m,\u001b[0m \u001b[0msell\u001b[0m\u001b[0;34m)\u001b[0m\u001b[0;34m)\u001b[0m\u001b[0;34m\u001b[0m\u001b[0;34m\u001b[0m\u001b[0m\n\u001b[0;32m---> 67\u001b[0;31m     \u001b[0mon_state\u001b[0m \u001b[0;34m=\u001b[0m \u001b[0;32mlambda\u001b[0m \u001b[0mtimestamp\u001b[0m\u001b[0;34m,\u001b[0m \u001b[0mprice\u001b[0m\u001b[0;34m,\u001b[0m \u001b[0mbuy\u001b[0m\u001b[0;34m,\u001b[0m \u001b[0msell\u001b[0m\u001b[0;34m:\u001b[0m \u001b[0mstock\u001b[0m\u001b[0;34m.\u001b[0m\u001b[0mon_new_state\u001b[0m\u001b[0;34m(\u001b[0m\u001b[0mtimestamp\u001b[0m\u001b[0;34m,\u001b[0m \u001b[0mprice\u001b[0m\u001b[0;34m,\u001b[0m \u001b[0mbuy\u001b[0m\u001b[0;34m,\u001b[0m \u001b[0msell\u001b[0m\u001b[0;34m)\u001b[0m\u001b[0;34m\u001b[0m\u001b[0;34m\u001b[0m\u001b[0m\n\u001b[0m\u001b[1;32m     68\u001b[0m \u001b[0;34m\u001b[0m\u001b[0m\n\u001b[1;32m     69\u001b[0m     agent = DataAgent(\n",
      "\u001b[0;32m~/Desktop/YaStockRnn/stock_agent.py\u001b[0m in \u001b[0;36mon_new_state\u001b[0;34m(self, timestamp, price, bid, ask)\u001b[0m\n\u001b[1;32m    154\u001b[0m         \u001b[0mself\u001b[0m\u001b[0;34m.\u001b[0m\u001b[0mtimestamp\u001b[0m \u001b[0;34m=\u001b[0m \u001b[0mtimestamp\u001b[0m\u001b[0;34m\u001b[0m\u001b[0;34m\u001b[0m\u001b[0m\n\u001b[1;32m    155\u001b[0m         \u001b[0mself\u001b[0m\u001b[0;34m.\u001b[0m\u001b[0mprice\u001b[0m \u001b[0;34m=\u001b[0m \u001b[0mprice\u001b[0m\u001b[0;34m\u001b[0m\u001b[0;34m\u001b[0m\u001b[0m\n\u001b[0;32m--> 156\u001b[0;31m         \u001b[0mself\u001b[0m\u001b[0;34m.\u001b[0m\u001b[0mon_state\u001b[0m\u001b[0;34m(\u001b[0m\u001b[0mtimestamp\u001b[0m\u001b[0;34m,\u001b[0m \u001b[0mprice\u001b[0m\u001b[0;34m)\u001b[0m\u001b[0;34m\u001b[0m\u001b[0;34m\u001b[0m\u001b[0m\n\u001b[0m\u001b[1;32m    157\u001b[0m         \u001b[0;31m#print(self.best_buy)\u001b[0m\u001b[0;34m\u001b[0m\u001b[0;34m\u001b[0m\u001b[0;34m\u001b[0m\u001b[0m\n\u001b[1;32m    158\u001b[0m \u001b[0;34m\u001b[0m\u001b[0m\n",
      "\u001b[0;32m~/Desktop/YaStockRnn/process_live_trade.py\u001b[0m in \u001b[0;36m<lambda>\u001b[0;34m(timestamp, price)\u001b[0m\n\u001b[1;32m     50\u001b[0m     \u001b[0mrequest_sell\u001b[0m \u001b[0;34m=\u001b[0m \u001b[0;32mlambda\u001b[0m \u001b[0mprice\u001b[0m\u001b[0;34m:\u001b[0m \u001b[0mback\u001b[0m\u001b[0;34m.\u001b[0m\u001b[0mrequest_sell\u001b[0m\u001b[0;34m(\u001b[0m\u001b[0mprice\u001b[0m\u001b[0;34m)\u001b[0m\u001b[0;34m\u001b[0m\u001b[0;34m\u001b[0m\u001b[0m\n\u001b[1;32m     51\u001b[0m     \u001b[0mrequest_buy\u001b[0m \u001b[0;34m=\u001b[0m \u001b[0;32mlambda\u001b[0m \u001b[0mprice\u001b[0m\u001b[0;34m:\u001b[0m \u001b[0mback\u001b[0m\u001b[0;34m.\u001b[0m\u001b[0mrequest_buy\u001b[0m\u001b[0;34m(\u001b[0m\u001b[0mprice\u001b[0m\u001b[0;34m)\u001b[0m\u001b[0;34m\u001b[0m\u001b[0;34m\u001b[0m\u001b[0m\n\u001b[0;32m---> 52\u001b[0;31m     \u001b[0mon_state\u001b[0m \u001b[0;34m=\u001b[0m \u001b[0;32mlambda\u001b[0m \u001b[0mtimestamp\u001b[0m\u001b[0;34m,\u001b[0m \u001b[0mprice\u001b[0m\u001b[0;34m:\u001b[0m \u001b[0mback\u001b[0m\u001b[0;34m.\u001b[0m\u001b[0mon_state\u001b[0m\u001b[0;34m(\u001b[0m\u001b[0mtimestamp\u001b[0m\u001b[0;34m,\u001b[0m \u001b[0mprice\u001b[0m\u001b[0;34m)\u001b[0m\u001b[0;34m\u001b[0m\u001b[0;34m\u001b[0m\u001b[0m\n\u001b[0m\u001b[1;32m     53\u001b[0m \u001b[0;34m\u001b[0m\u001b[0m\n\u001b[1;32m     54\u001b[0m     stock = StockAgent(\n",
      "\u001b[0;32m~/Desktop/YaStockRnn/stock_agent.py\u001b[0m in \u001b[0;36mon_state\u001b[0;34m(self, timestamp, price)\u001b[0m\n\u001b[1;32m     34\u001b[0m \u001b[0;34m\u001b[0m\u001b[0m\n\u001b[1;32m     35\u001b[0m     \u001b[0;32mdef\u001b[0m \u001b[0mon_state\u001b[0m\u001b[0;34m(\u001b[0m\u001b[0mself\u001b[0m\u001b[0;34m,\u001b[0m \u001b[0mtimestamp\u001b[0m\u001b[0;34m,\u001b[0m \u001b[0mprice\u001b[0m\u001b[0;34m)\u001b[0m\u001b[0;34m:\u001b[0m\u001b[0;34m\u001b[0m\u001b[0;34m\u001b[0m\u001b[0m\n\u001b[0;32m---> 36\u001b[0;31m         \u001b[0mself\u001b[0m\u001b[0;34m.\u001b[0m\u001b[0mtimestamp\u001b[0m \u001b[0;34m=\u001b[0m \u001b[0mpd\u001b[0m\u001b[0;34m.\u001b[0m\u001b[0mto_datetime\u001b[0m\u001b[0;34m(\u001b[0m\u001b[0mtimestamp\u001b[0m\u001b[0;34m,\u001b[0m \u001b[0munit\u001b[0m\u001b[0;34m=\u001b[0m\u001b[0;34m's'\u001b[0m\u001b[0;34m)\u001b[0m\u001b[0;34m\u001b[0m\u001b[0;34m\u001b[0m\u001b[0m\n\u001b[0m\u001b[1;32m     37\u001b[0m         \u001b[0mself\u001b[0m\u001b[0;34m.\u001b[0m\u001b[0mprice\u001b[0m \u001b[0;34m=\u001b[0m \u001b[0mprice\u001b[0m\u001b[0;34m\u001b[0m\u001b[0;34m\u001b[0m\u001b[0m\n\u001b[1;32m     38\u001b[0m         \u001b[0mself\u001b[0m\u001b[0;34m.\u001b[0m\u001b[0mpending\u001b[0m \u001b[0;34m-=\u001b[0m \u001b[0;36m1\u001b[0m\u001b[0;34m\u001b[0m\u001b[0;34m\u001b[0m\u001b[0m\n",
      "\u001b[0;32m~/opt/miniconda3/envs/py3/lib/python3.9/site-packages/pandas/core/tools/datetimes.py\u001b[0m in \u001b[0;36mto_datetime\u001b[0;34m(arg, errors, dayfirst, yearfirst, utc, format, exact, unit, infer_datetime_format, origin, cache)\u001b[0m\n\u001b[1;32m    830\u001b[0m             \u001b[0mresult\u001b[0m \u001b[0;34m=\u001b[0m \u001b[0mconvert_listlike\u001b[0m\u001b[0;34m(\u001b[0m\u001b[0marg\u001b[0m\u001b[0;34m,\u001b[0m \u001b[0mformat\u001b[0m\u001b[0;34m)\u001b[0m\u001b[0;34m\u001b[0m\u001b[0;34m\u001b[0m\u001b[0m\n\u001b[1;32m    831\u001b[0m     \u001b[0;32melse\u001b[0m\u001b[0;34m:\u001b[0m\u001b[0;34m\u001b[0m\u001b[0;34m\u001b[0m\u001b[0m\n\u001b[0;32m--> 832\u001b[0;31m         \u001b[0mresult\u001b[0m \u001b[0;34m=\u001b[0m \u001b[0mconvert_listlike\u001b[0m\u001b[0;34m(\u001b[0m\u001b[0mnp\u001b[0m\u001b[0;34m.\u001b[0m\u001b[0marray\u001b[0m\u001b[0;34m(\u001b[0m\u001b[0;34m[\u001b[0m\u001b[0marg\u001b[0m\u001b[0;34m]\u001b[0m\u001b[0;34m)\u001b[0m\u001b[0;34m,\u001b[0m \u001b[0mformat\u001b[0m\u001b[0;34m)\u001b[0m\u001b[0;34m[\u001b[0m\u001b[0;36m0\u001b[0m\u001b[0;34m]\u001b[0m\u001b[0;34m\u001b[0m\u001b[0;34m\u001b[0m\u001b[0m\n\u001b[0m\u001b[1;32m    833\u001b[0m \u001b[0;34m\u001b[0m\u001b[0m\n\u001b[1;32m    834\u001b[0m     \u001b[0;32mreturn\u001b[0m \u001b[0mresult\u001b[0m\u001b[0;34m\u001b[0m\u001b[0;34m\u001b[0m\u001b[0m\n",
      "\u001b[0;32m~/opt/miniconda3/envs/py3/lib/python3.9/site-packages/pandas/core/tools/datetimes.py\u001b[0m in \u001b[0;36m_convert_listlike_datetimes\u001b[0;34m(arg, format, name, tz, unit, errors, infer_datetime_format, dayfirst, yearfirst, exact)\u001b[0m\n\u001b[1;32m    356\u001b[0m         \u001b[0;31m# result will be naive but in UTC\u001b[0m\u001b[0;34m\u001b[0m\u001b[0;34m\u001b[0m\u001b[0;34m\u001b[0m\u001b[0m\n\u001b[1;32m    357\u001b[0m         \u001b[0;32mtry\u001b[0m\u001b[0;34m:\u001b[0m\u001b[0;34m\u001b[0m\u001b[0;34m\u001b[0m\u001b[0m\n\u001b[0;32m--> 358\u001b[0;31m             \u001b[0mresult\u001b[0m \u001b[0;34m=\u001b[0m \u001b[0mresult\u001b[0m\u001b[0;34m.\u001b[0m\u001b[0mtz_localize\u001b[0m\u001b[0;34m(\u001b[0m\u001b[0;34m\"UTC\"\u001b[0m\u001b[0;34m)\u001b[0m\u001b[0;34m.\u001b[0m\u001b[0mtz_convert\u001b[0m\u001b[0;34m(\u001b[0m\u001b[0mtz_parsed\u001b[0m\u001b[0;34m)\u001b[0m\u001b[0;34m\u001b[0m\u001b[0;34m\u001b[0m\u001b[0m\n\u001b[0m\u001b[1;32m    359\u001b[0m         \u001b[0;32mexcept\u001b[0m \u001b[0mAttributeError\u001b[0m\u001b[0;34m:\u001b[0m\u001b[0;34m\u001b[0m\u001b[0;34m\u001b[0m\u001b[0m\n\u001b[1;32m    360\u001b[0m             \u001b[0;31m# Regular Index from 'ignore' path\u001b[0m\u001b[0;34m\u001b[0m\u001b[0;34m\u001b[0m\u001b[0;34m\u001b[0m\u001b[0m\n",
      "\u001b[0;32m~/opt/miniconda3/envs/py3/lib/python3.9/site-packages/pandas/core/indexes/datetimes.py\u001b[0m in \u001b[0;36mtz_localize\u001b[0;34m(self, tz, ambiguous, nonexistent)\u001b[0m\n\u001b[1;32m    248\u001b[0m         \u001b[0mself\u001b[0m\u001b[0;34m,\u001b[0m \u001b[0mtz\u001b[0m\u001b[0;34m,\u001b[0m \u001b[0mambiguous\u001b[0m\u001b[0;34m=\u001b[0m\u001b[0;34m\"raise\"\u001b[0m\u001b[0;34m,\u001b[0m \u001b[0mnonexistent\u001b[0m\u001b[0;34m=\u001b[0m\u001b[0;34m\"raise\"\u001b[0m\u001b[0;34m\u001b[0m\u001b[0;34m\u001b[0m\u001b[0m\n\u001b[1;32m    249\u001b[0m     ) -> \"DatetimeIndex\":\n\u001b[0;32m--> 250\u001b[0;31m         \u001b[0marr\u001b[0m \u001b[0;34m=\u001b[0m \u001b[0mself\u001b[0m\u001b[0;34m.\u001b[0m\u001b[0m_data\u001b[0m\u001b[0;34m.\u001b[0m\u001b[0mtz_localize\u001b[0m\u001b[0;34m(\u001b[0m\u001b[0mtz\u001b[0m\u001b[0;34m,\u001b[0m \u001b[0mambiguous\u001b[0m\u001b[0;34m,\u001b[0m \u001b[0mnonexistent\u001b[0m\u001b[0;34m)\u001b[0m\u001b[0;34m\u001b[0m\u001b[0;34m\u001b[0m\u001b[0m\n\u001b[0m\u001b[1;32m    251\u001b[0m         \u001b[0;32mreturn\u001b[0m \u001b[0mtype\u001b[0m\u001b[0;34m(\u001b[0m\u001b[0mself\u001b[0m\u001b[0;34m)\u001b[0m\u001b[0;34m.\u001b[0m\u001b[0m_simple_new\u001b[0m\u001b[0;34m(\u001b[0m\u001b[0marr\u001b[0m\u001b[0;34m,\u001b[0m \u001b[0mname\u001b[0m\u001b[0;34m=\u001b[0m\u001b[0mself\u001b[0m\u001b[0;34m.\u001b[0m\u001b[0mname\u001b[0m\u001b[0;34m)\u001b[0m\u001b[0;34m\u001b[0m\u001b[0;34m\u001b[0m\u001b[0m\n\u001b[1;32m    252\u001b[0m \u001b[0;34m\u001b[0m\u001b[0m\n",
      "\u001b[0;31mKeyboardInterrupt\u001b[0m: "
     ]
    }
   ],
   "source": [
    "for i in tqdm(range(data_count)):\n",
    "    raw = data_gen.next()\n",
    "    agent.on_new_raw_data(raw)"
   ]
  },
  {
   "cell_type": "code",
   "execution_count": null,
   "metadata": {},
   "outputs": [],
   "source": []
  },
  {
   "cell_type": "code",
   "execution_count": null,
   "metadata": {},
   "outputs": [],
   "source": []
  },
  {
   "cell_type": "code",
   "execution_count": null,
   "metadata": {},
   "outputs": [],
   "source": []
  }
 ],
 "metadata": {
  "kernelspec": {
   "display_name": "Python 3",
   "language": "python",
   "name": "python3"
  },
  "language_info": {
   "codemirror_mode": {
    "name": "ipython",
    "version": 3
   },
   "file_extension": ".py",
   "mimetype": "text/x-python",
   "name": "python",
   "nbconvert_exporter": "python",
   "pygments_lexer": "ipython3",
   "version": "3.9.5"
  }
 },
 "nbformat": 4,
 "nbformat_minor": 4
}
