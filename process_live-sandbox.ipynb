{
 "cells": [
  {
   "cell_type": "code",
   "execution_count": 1,
   "metadata": {},
   "outputs": [],
   "source": [
    "import pandas as pd\n",
    "import data_util\n",
    "from tqdm import tqdm_notebook as tqdm\n",
    "from data_generator import DataGenerator\n",
    "from state_util import StateUtil\n",
    "from tec_an import TecAn\n",
    "from data_agent import DataAgent, TacProcess\n",
    "import numpy as np\n",
    "from data_util import *\n",
    "import tensorflow as tf\n",
    "from sklearn_model_hyper import *\n",
    "import pandas as pd\n",
    "from stock_agent import *\n",
    "from backtest import *\n",
    "from joblib import dump, load\n",
    "from datetime import datetime, timedelta\n",
    "\n",
    "\n",
    "path = \"./data/\"\n"
   ]
  },
  {
   "cell_type": "code",
   "execution_count": 2,
   "metadata": {},
   "outputs": [
    {
     "name": "stdout",
     "output_type": "stream",
     "text": [
      "Trained Pipeline(steps=[('s', RFECV(estimator=DecisionTreeClassifier(random_state=10))),\n",
      "                ('m', QuadraticDiscriminantAnalysis())])\n"
     ]
    }
   ],
   "source": [
    "\n",
    "model = load('model/best_model_180')\n",
    "\n",
    "online180 = load('model/online180')   \n",
    "\n",
    "train_by_step(model, 1, online180)\n",
    "\n",
    "print(f\"Trained {model}\")\n"
   ]
  },
  {
   "cell_type": "code",
   "execution_count": 3,
   "metadata": {},
   "outputs": [],
   "source": [
    "class MockModel():\n",
    "    \n",
    "    def __init__(self, \n",
    "                 model\n",
    "                ):\n",
    "        self.model = model\n",
    "        self.normalizer = tf.keras.layers.experimental.preprocessing.Normalization()\n",
    "        \n",
    "        \n",
    "    def fit(self, x, y):\n",
    "        self.normalizer.adapt(x)\n",
    "        norm_x = self.normalizer(x).numpy()\n",
    "        self.model.fit(norm_x, y)\n",
    "        \n",
    "    def predict(self, x):\n",
    "        norm_x = self.normalizer(x).numpy()\n",
    "        return self.model.predict(norm_x)\n",
    "        \n",
    "#model = MockModel(model)"
   ]
  },
  {
   "cell_type": "code",
   "execution_count": 4,
   "metadata": {},
   "outputs": [],
   "source": [
    "back = BackTest(value = 100,\n",
    "                    verbose = True, \n",
    "                    sell_on_profit = True)\n",
    "\n",
    "request_sell = lambda price: back.request_sell(price)\n",
    "request_buy = lambda price: back.request_buy(price)\n",
    "on_state = lambda timestamp, price: back.on_state(timestamp, price)\n",
    "\n",
    "stock = StockAgent(\n",
    "    model = model,\n",
    "    request_sell = request_sell,\n",
    "    request_buy = request_buy,\n",
    "    on_state = on_state\n",
    ")\n"
   ]
  },
  {
   "cell_type": "code",
   "execution_count": 5,
   "metadata": {},
   "outputs": [
    {
     "name": "stdout",
     "output_type": "stream",
     "text": [
      "https://www.bitstamp.net/api/v2/ohlc/btcusd/ -> {'currency_pair': 'btcusd', 'step': 180, 'limit': 1000, 'start': 1626062156}\n",
      "Downloaded from 2021-07-12 04:54:00 to 2021-07-12 09:54:00 34281.05\n",
      "Resample 2Min - TecAn ( windows 20, windows_limit 100 )\n",
      "Processing 100 of btcusd\n"
     ]
    },
    {
     "data": {
      "application/vnd.jupyter.widget-view+json": {
       "model_id": "edac2a395a9340a9a9692856760b0c7d",
       "version_major": 2,
       "version_minor": 0
      },
      "text/plain": [
       "  0%|          | 0/100 [00:00<?, ?it/s]"
      ]
     },
     "metadata": {},
     "output_type": "display_data"
    }
   ],
   "source": [
    "start = int(datetime.timestamp((datetime.now() + timedelta( hours=-5 ))))\n",
    "\n",
    "online180 = OnLineDataProvider(\n",
    "             step = 180,\n",
    "             train_keys = [\"btcusd\"],\n",
    "             train_limit = 1000,\n",
    "             val_limit = 1000,\n",
    "             val_keys = [],\n",
    "             val_start = 1623435037,\n",
    "             train_start_list = [start]\n",
    ")\n",
    "\n",
    "online180.load_cache()\n",
    "\n",
    "x, y = online180.load_train_data()\n"
   ]
  },
  {
   "cell_type": "code",
   "execution_count": 6,
   "metadata": {
    "scrolled": true
   },
   "outputs": [
    {
     "name": "stdout",
     "output_type": "stream",
     "text": [
      "Resample 3Min - TecAn ( windows 20, windows_limit 100 )\n"
     ]
    }
   ],
   "source": [
    "from bitstamp import *\n",
    "\n",
    "on_new_data = lambda x: print(x)\n",
    "on_new_data = lambda x: stock.on_x(x)\n",
    "\n",
    "on_state = lambda timestamp, price, buy, sell: print(\"{} {} {} {}\".format(timestamp, price, buy, sell))\n",
    "on_state = lambda timestamp, price, buy, sell: stock.on_new_state(timestamp, price, buy, sell)\n",
    "\n",
    "agent = DataAgent(\n",
    "    taProc = TacProcess(), \n",
    "    tec = TecAn(windows = 20, windows_limit = 100),\n",
    "    resample = '3Min',\n",
    "    on_state = on_state,\n",
    "    on_new_data = on_new_data\n",
    ")\n",
    "\n",
    "for yy in y:\n",
    "    #print(yy)\n",
    "    agent.taProc.add_tacs_realtime([], yy, 0.0, agent.tec)\n",
    "\n",
    "\n",
    "TIMESTAMP_KEY = \"timestamp\"\n",
    "\n",
    "raw_data_live = []\n",
    "\n",
    "\n",
    "class RawStateDownloader(LiveBitstamp):\n",
    "    \n",
    "    def __init__(self, on_raw_data = lambda raw: print(raw)):\n",
    "        self.trade = {}\n",
    "        self.on_new_data_count = 0\n",
    "        self.on_raw_data = on_raw_data\n",
    "                \n",
    "    def process(self, raw):\n",
    "        raw_data_live.append(raw)\n",
    "        self.on_raw_data(raw)\n",
    "        timestamp = raw[TIMESTAMP_KEY]\n",
    "        time = pd.to_datetime(timestamp, unit='s')\n",
    "        #print(f'{time}: {agent.on_new_data_count} {len(raw_data_live)}')\n",
    "        "
   ]
  },
  {
   "cell_type": "code",
   "execution_count": null,
   "metadata": {},
   "outputs": [],
   "source": []
  },
  {
   "cell_type": "code",
   "execution_count": 7,
   "metadata": {},
   "outputs": [],
   "source": [
    "\n",
    "on_raw_data = lambda raw: agent.on_new_raw_data(raw)\n",
    "\n",
    "\n",
    "live = RawStateDownloader(on_raw_data = on_raw_data)\n"
   ]
  },
  {
   "cell_type": "code",
   "execution_count": null,
   "metadata": {},
   "outputs": [
    {
     "name": "stdout",
     "output_type": "stream",
     "text": [
      "Bitstamp Websocket Opened.\n",
      "Reading form live_trades_btcusd and order_book_btcusd\n"
     ]
    }
   ],
   "source": [
    "back.reset()\n",
    "\n",
    "bt = Bitstamp(live, currency = \"btcusd\")\n",
    "\n",
    "bt.connect()"
   ]
  },
  {
   "cell_type": "code",
   "execution_count": null,
   "metadata": {},
   "outputs": [],
   "source": [
    "back.report()"
   ]
  },
  {
   "cell_type": "code",
   "execution_count": null,
   "metadata": {},
   "outputs": [],
   "source": []
  },
  {
   "cell_type": "code",
   "execution_count": null,
   "metadata": {},
   "outputs": [],
   "source": []
  },
  {
   "cell_type": "code",
   "execution_count": null,
   "metadata": {},
   "outputs": [],
   "source": []
  }
 ],
 "metadata": {
  "kernelspec": {
   "display_name": "Python 3",
   "language": "python",
   "name": "python3"
  },
  "language_info": {
   "codemirror_mode": {
    "name": "ipython",
    "version": 3
   },
   "file_extension": ".py",
   "mimetype": "text/x-python",
   "name": "python",
   "nbconvert_exporter": "python",
   "pygments_lexer": "ipython3",
   "version": "3.9.5"
  }
 },
 "nbformat": 4,
 "nbformat_minor": 4
}
