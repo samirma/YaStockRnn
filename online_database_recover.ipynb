{
 "cells": [
  {
   "cell_type": "code",
   "execution_count": 1,
   "metadata": {
    "colab": {
     "base_uri": "https://localhost:8080/",
     "height": 170
    },
    "colab_type": "code",
    "executionInfo": {
     "elapsed": 503083,
     "status": "ok",
     "timestamp": 1568068274112,
     "user": {
      "displayName": "Samir Moreira Antônio",
      "photoUrl": "https://lh3.googleusercontent.com/a-/AAuE7mCsh3ldsSLN0VnFRYp341EzO_UyuRNKmLncUbMA3Q=s64",
      "userId": "14581632111443153742"
     },
     "user_tz": -60
    },
    "id": "fGVQczSlF-9o",
    "outputId": "e3a06798-f737-48d9-ec6e-d3784cec3115"
   },
   "outputs": [],
   "source": [
    "import pandas as pd\n",
    "import data_util\n",
    "from tqdm.notebook import tqdm\n",
    "from data_generator import DataGenerator\n",
    "from tec_an import TecAn\n",
    "import numpy as np\n",
    "from data_util import *\n",
    "from backtest import *\n",
    "from entities.entities import *\n",
    "\n",
    "import threading\n",
    "import multiprocessing\n",
    "from data_agent import DataAgent, TacProcess\n",
    "from joblib import dump, load"
   ]
  },
  {
   "cell_type": "code",
   "execution_count": 2,
   "metadata": {},
   "outputs": [],
   "source": [
    "#train_start_list = [1622502000, 1590966000, 1559343600, 1580515200, 1612137600]\n",
    "train_start_list = [1622502000, 1590966000, 1559343600, 1527807600, 1517443200, 1548979200, 1580515200, 1612137600]\n",
    "#train_start_list = [1612137600]\n",
    "train_keys = [\"btcusd\", \"ethusd\", \"ltcusd\", \"ltcbtc\"]\n",
    "#train_keys = []\n",
    "#train_keys = [\"btcusd\"]\n",
    "val_start = 1623711600\n",
    "val_end = 1626303600\n",
    "val_keys = [\"btcusd\", \"ethusd\", \"ltcusd\", \"ltcbtc\"]\n",
    "#val_keys = [\"btcusd\"]"
   ]
  },
  {
   "cell_type": "code",
   "execution_count": 3,
   "metadata": {},
   "outputs": [],
   "source": [
    "\n",
    "steps = 1\n",
    "\n",
    "windows = [5, 10, 20, 30, 40]\n",
    "#windows = [20]\n",
    "\n",
    "minutes = [30, 3, 15, 5]\n",
    "#minutes = [15]\n",
    "\n",
    "load_from_disk =  False\n"
   ]
  },
  {
   "cell_type": "code",
   "execution_count": 4,
   "metadata": {},
   "outputs": [],
   "source": [
    "def get_online_data(data_detail:DataDetail, load_from_disk):\n",
    "    source_data_generator = SourceDataGenerator(\n",
    "        tec = TecAn(windows = data_detail.windows, windows_limit = 100)\n",
    "    )\n",
    "    online = OnLineDataProvider(\n",
    "                 source_data_generator = source_data_generator,\n",
    "                 minutes = data_detail.minutes,\n",
    "                 train_keys = train_keys,\n",
    "                 train_limit = 1000,\n",
    "                 val_limit = 1000,\n",
    "                 val_keys = val_keys,\n",
    "                 val_start = val_start,\n",
    "                 val_end = val_end,\n",
    "                 train_start_list = train_start_list,\n",
    "                 verbose = True\n",
    "    )\n",
    "\n",
    "    online_path = f'data/online{data_detail.windows}_{data_detail.minutes}'\n",
    "    \n",
    "    online.load_cache()\n",
    "    online.source_data_generator = None\n",
    "    print(f\"{online_path} -> {online})\")\n",
    "    dump(online, online_path)\n",
    "    \n",
    "    return online"
   ]
  },
  {
   "cell_type": "code",
   "execution_count": 5,
   "metadata": {},
   "outputs": [],
   "source": [
    "data = []\n"
   ]
  },
  {
   "cell_type": "code",
   "execution_count": 6,
   "metadata": {},
   "outputs": [
    {
     "data": {
      "application/vnd.jupyter.widget-view+json": {
       "model_id": "5269584204b24e6592171b5fdd472bc4",
       "version_major": 2,
       "version_minor": 0
      },
      "text/plain": [
       "  0%|          | 0/20 [00:00<?, ?it/s]"
      ]
     },
     "metadata": {},
     "output_type": "display_data"
    },
    {
     "name": "stdout",
     "output_type": "stream",
     "text": [
      "https://www.bitstamp.net/api/v2/ohlc/btcusd/?&currency_pair=btcusd&step=1800&limit=1000&start=1622502000\n",
      "Downloaded from 2021-06-01 00:00:00(1622502000) to 2021-06-21 19:30:00(1624300200) 32470.01\n",
      "Processing 1000 of btcusd\n"
     ]
    },
    {
     "data": {
      "application/vnd.jupyter.widget-view+json": {
       "model_id": "75eaf7e6adca4cfc949aef57d00a2a01",
       "version_major": 2,
       "version_minor": 0
      },
      "text/plain": [
       "  0%|          | 0/1000 [00:00<?, ?it/s]"
      ]
     },
     "metadata": {},
     "output_type": "display_data"
    },
    {
     "name": "stdout",
     "output_type": "stream",
     "text": [
      "https://www.bitstamp.net/api/v2/ohlc/ethusd/?&currency_pair=ethusd&step=1800&limit=1000&start=1622502000\n",
      "Downloaded from 2021-06-01 00:00:00(1622502000) to 2021-06-21 19:30:00(1624300200) 1929.00\n",
      "Processing 1000 of ethusd\n"
     ]
    },
    {
     "data": {
      "application/vnd.jupyter.widget-view+json": {
       "model_id": "060854562af4487e9cb11f363543b090",
       "version_major": 2,
       "version_minor": 0
      },
      "text/plain": [
       "  0%|          | 0/1000 [00:00<?, ?it/s]"
      ]
     },
     "metadata": {},
     "output_type": "display_data"
    },
    {
     "name": "stdout",
     "output_type": "stream",
     "text": [
      "https://www.bitstamp.net/api/v2/ohlc/ltcusd/?&currency_pair=ltcusd&step=1800&limit=1000&start=1622502000\n",
      "Downloaded from 2021-06-01 00:00:00(1622502000) to 2021-06-21 19:30:00(1624300200) 133.00\n",
      "Processing 1000 of ltcusd\n"
     ]
    },
    {
     "data": {
      "application/vnd.jupyter.widget-view+json": {
       "model_id": "36a1f0fea8a0457f9edf52a248adc2cb",
       "version_major": 2,
       "version_minor": 0
      },
      "text/plain": [
       "  0%|          | 0/1000 [00:00<?, ?it/s]"
      ]
     },
     "metadata": {},
     "output_type": "display_data"
    },
    {
     "name": "stdout",
     "output_type": "stream",
     "text": [
      "https://www.bitstamp.net/api/v2/ohlc/ltcbtc/?&currency_pair=ltcbtc&step=1800&limit=1000&start=1622502000\n",
      "Downloaded from 2021-06-01 00:00:00(1622502000) to 2021-06-21 19:30:00(1624300200) 0.00409365\n",
      "Processing 1000 of ltcbtc\n"
     ]
    },
    {
     "data": {
      "application/vnd.jupyter.widget-view+json": {
       "model_id": "214631219dd14451985e954b4485e883",
       "version_major": 2,
       "version_minor": 0
      },
      "text/plain": [
       "  0%|          | 0/1000 [00:00<?, ?it/s]"
      ]
     },
     "metadata": {},
     "output_type": "display_data"
    },
    {
     "name": "stdout",
     "output_type": "stream",
     "text": [
      "https://www.bitstamp.net/api/v2/ohlc/btcusd/?&currency_pair=btcusd&step=1800&limit=1000&start=1590966000\n",
      "Downloaded from 2020-06-01 00:00:00(1590966000) to 2020-06-21 19:30:00(1592764200) 9325.43\n",
      "Processing 1000 of btcusd\n"
     ]
    },
    {
     "data": {
      "application/vnd.jupyter.widget-view+json": {
       "model_id": "813a71fb88664d0cb8b0bc80f1d6033d",
       "version_major": 2,
       "version_minor": 0
      },
      "text/plain": [
       "  0%|          | 0/1000 [00:00<?, ?it/s]"
      ]
     },
     "metadata": {},
     "output_type": "display_data"
    },
    {
     "name": "stdout",
     "output_type": "stream",
     "text": [
      "https://www.bitstamp.net/api/v2/ohlc/ethusd/?&currency_pair=ethusd&step=1800&limit=1000&start=1590966000\n",
      "Downloaded from 2020-06-01 00:00:00(1590966000) to 2020-06-21 19:30:00(1592764200) 229.34\n",
      "Processing 1000 of ethusd\n"
     ]
    },
    {
     "data": {
      "application/vnd.jupyter.widget-view+json": {
       "model_id": "5008242133b94d128b26233a00ea910e",
       "version_major": 2,
       "version_minor": 0
      },
      "text/plain": [
       "  0%|          | 0/1000 [00:00<?, ?it/s]"
      ]
     },
     "metadata": {},
     "output_type": "display_data"
    },
    {
     "name": "stdout",
     "output_type": "stream",
     "text": [
      "https://www.bitstamp.net/api/v2/ohlc/ltcusd/?&currency_pair=ltcusd&step=1800&limit=1000&start=1590966000\n",
      "Downloaded from 2020-06-01 00:00:00(1590966000) to 2020-06-21 19:30:00(1592764200) 43.07\n",
      "Processing 1000 of ltcusd\n"
     ]
    },
    {
     "data": {
      "application/vnd.jupyter.widget-view+json": {
       "model_id": "36da0fb09a04484590ceda81187eaa33",
       "version_major": 2,
       "version_minor": 0
      },
      "text/plain": [
       "  0%|          | 0/1000 [00:00<?, ?it/s]"
      ]
     },
     "metadata": {},
     "output_type": "display_data"
    },
    {
     "name": "stdout",
     "output_type": "stream",
     "text": [
      "https://www.bitstamp.net/api/v2/ohlc/ltcbtc/?&currency_pair=ltcbtc&step=1800&limit=1000&start=1590966000\n",
      "Downloaded from 2020-06-01 00:00:00(1590966000) to 2020-06-21 19:30:00(1592764200) 0.00462141\n",
      "Processing 1000 of ltcbtc\n"
     ]
    },
    {
     "data": {
      "application/vnd.jupyter.widget-view+json": {
       "model_id": "6e6254f451fd4b748de65298caf33440",
       "version_major": 2,
       "version_minor": 0
      },
      "text/plain": [
       "  0%|          | 0/1000 [00:00<?, ?it/s]"
      ]
     },
     "metadata": {},
     "output_type": "display_data"
    },
    {
     "name": "stdout",
     "output_type": "stream",
     "text": [
      "https://www.bitstamp.net/api/v2/ohlc/btcusd/?&currency_pair=btcusd&step=1800&limit=1000&start=1559343600\n",
      "Downloaded from 2019-06-01 00:00:00(1559343600) to 2019-06-21 19:30:00(1561141800) 9940.00\n",
      "Processing 1000 of btcusd\n"
     ]
    },
    {
     "data": {
      "application/vnd.jupyter.widget-view+json": {
       "model_id": "26b6f38f9cdc410fbb9739e28e686e46",
       "version_major": 2,
       "version_minor": 0
      },
      "text/plain": [
       "  0%|          | 0/1000 [00:00<?, ?it/s]"
      ]
     },
     "metadata": {},
     "output_type": "display_data"
    },
    {
     "name": "stdout",
     "output_type": "stream",
     "text": [
      "https://www.bitstamp.net/api/v2/ohlc/ethusd/?&currency_pair=ethusd&step=1800&limit=1000&start=1559343600\n",
      "Downloaded from 2019-06-01 00:00:00(1559343600) to 2019-06-21 19:30:00(1561141800) 292.06\n",
      "Processing 1000 of ethusd\n"
     ]
    },
    {
     "data": {
      "application/vnd.jupyter.widget-view+json": {
       "model_id": "de8d658fc2a747b4ab07e64bb8e0ea25",
       "version_major": 2,
       "version_minor": 0
      },
      "text/plain": [
       "  0%|          | 0/1000 [00:00<?, ?it/s]"
      ]
     },
     "metadata": {},
     "output_type": "display_data"
    },
    {
     "name": "stdout",
     "output_type": "stream",
     "text": [
      "https://www.bitstamp.net/api/v2/ohlc/ltcusd/?&currency_pair=ltcusd&step=1800&limit=1000&start=1559343600\n",
      "Downloaded from 2019-06-01 00:00:00(1559343600) to 2019-06-21 19:30:00(1561141800) 138.41\n",
      "Processing 1000 of ltcusd\n"
     ]
    },
    {
     "data": {
      "application/vnd.jupyter.widget-view+json": {
       "model_id": "d6eb1386a22c45b1b326b22e58435ab7",
       "version_major": 2,
       "version_minor": 0
      },
      "text/plain": [
       "  0%|          | 0/1000 [00:00<?, ?it/s]"
      ]
     },
     "metadata": {},
     "output_type": "display_data"
    },
    {
     "name": "stdout",
     "output_type": "stream",
     "text": [
      "https://www.bitstamp.net/api/v2/ohlc/ltcbtc/?&currency_pair=ltcbtc&step=1800&limit=1000&start=1559343600\n",
      "Downloaded from 2019-06-01 00:00:00(1559343600) to 2019-06-21 19:30:00(1561141800) 0.01394473\n",
      "Processing 1000 of ltcbtc\n"
     ]
    },
    {
     "data": {
      "application/vnd.jupyter.widget-view+json": {
       "model_id": "644a6adc55c0493a9e12a56c6a7e8de6",
       "version_major": 2,
       "version_minor": 0
      },
      "text/plain": [
       "  0%|          | 0/1000 [00:00<?, ?it/s]"
      ]
     },
     "metadata": {},
     "output_type": "display_data"
    },
    {
     "name": "stdout",
     "output_type": "stream",
     "text": [
      "https://www.bitstamp.net/api/v2/ohlc/btcusd/?&currency_pair=btcusd&step=1800&limit=1000&start=1527807600\n",
      "Downloaded from 2018-06-01 00:00:00(1527807600) to 2018-06-21 19:30:00(1529605800) 6717.58\n",
      "Processing 1000 of btcusd\n"
     ]
    },
    {
     "data": {
      "application/vnd.jupyter.widget-view+json": {
       "model_id": "914eb7280137419983a26fad8a327c79",
       "version_major": 2,
       "version_minor": 0
      },
      "text/plain": [
       "  0%|          | 0/1000 [00:00<?, ?it/s]"
      ]
     },
     "metadata": {},
     "output_type": "display_data"
    },
    {
     "name": "stdout",
     "output_type": "stream",
     "text": [
      "https://www.bitstamp.net/api/v2/ohlc/ethusd/?&currency_pair=ethusd&step=1800&limit=1000&start=1527807600\n",
      "Downloaded from 2018-06-01 00:00:00(1527807600) to 2018-06-21 19:30:00(1529605800) 523.60\n",
      "Processing 1000 of ethusd\n"
     ]
    },
    {
     "data": {
      "application/vnd.jupyter.widget-view+json": {
       "model_id": "f7692e8a16314c6aab981c3836e06265",
       "version_major": 2,
       "version_minor": 0
      },
      "text/plain": [
       "  0%|          | 0/1000 [00:00<?, ?it/s]"
      ]
     },
     "metadata": {},
     "output_type": "display_data"
    },
    {
     "name": "stdout",
     "output_type": "stream",
     "text": [
      "https://www.bitstamp.net/api/v2/ohlc/ltcusd/?&currency_pair=ltcusd&step=1800&limit=1000&start=1527807600\n",
      "Downloaded from 2018-06-01 00:00:00(1527807600) to 2018-06-21 19:30:00(1529605800) 96.60\n",
      "Processing 1000 of ltcusd\n"
     ]
    },
    {
     "data": {
      "application/vnd.jupyter.widget-view+json": {
       "model_id": "9c4c5a9e4d89446c926389c5c946a3dc",
       "version_major": 2,
       "version_minor": 0
      },
      "text/plain": [
       "  0%|          | 0/1000 [00:00<?, ?it/s]"
      ]
     },
     "metadata": {},
     "output_type": "display_data"
    },
    {
     "name": "stdout",
     "output_type": "stream",
     "text": [
      "https://www.bitstamp.net/api/v2/ohlc/ltcbtc/?&currency_pair=ltcbtc&step=1800&limit=1000&start=1527807600\n",
      "Downloaded from 2018-06-01 00:00:00(1527807600) to 2018-06-21 19:30:00(1529605800) 0.01434149\n",
      "Processing 1000 of ltcbtc\n"
     ]
    },
    {
     "data": {
      "application/vnd.jupyter.widget-view+json": {
       "model_id": "870ccfd8752042b69b3896bf09cebeb4",
       "version_major": 2,
       "version_minor": 0
      },
      "text/plain": [
       "  0%|          | 0/1000 [00:00<?, ?it/s]"
      ]
     },
     "metadata": {},
     "output_type": "display_data"
    },
    {
     "name": "stdout",
     "output_type": "stream",
     "text": [
      "https://www.bitstamp.net/api/v2/ohlc/btcusd/?&currency_pair=btcusd&step=1800&limit=1000&start=1517443200\n",
      "Downloaded from 2018-02-01 00:00:00(1517443200) to 2018-02-21 19:30:00(1519241400) 10493.40\n",
      "Processing 1000 of btcusd\n"
     ]
    },
    {
     "data": {
      "application/vnd.jupyter.widget-view+json": {
       "model_id": "f6b4d54f3cdc478b9be6685a1ce4db9c",
       "version_major": 2,
       "version_minor": 0
      },
      "text/plain": [
       "  0%|          | 0/1000 [00:00<?, ?it/s]"
      ]
     },
     "metadata": {},
     "output_type": "display_data"
    },
    {
     "name": "stdout",
     "output_type": "stream",
     "text": [
      "https://www.bitstamp.net/api/v2/ohlc/ethusd/?&currency_pair=ethusd&step=1800&limit=1000&start=1517443200\n",
      "Downloaded from 2018-02-01 00:00:00(1517443200) to 2018-02-21 19:30:00(1519241400) 833.63\n",
      "Processing 1000 of ethusd\n"
     ]
    },
    {
     "data": {
      "application/vnd.jupyter.widget-view+json": {
       "model_id": "dee76062c13b4407ae6e54c0e10a8b6a",
       "version_major": 2,
       "version_minor": 0
      },
      "text/plain": [
       "  0%|          | 0/1000 [00:00<?, ?it/s]"
      ]
     },
     "metadata": {},
     "output_type": "display_data"
    },
    {
     "name": "stdout",
     "output_type": "stream",
     "text": [
      "https://www.bitstamp.net/api/v2/ohlc/ltcusd/?&currency_pair=ltcusd&step=1800&limit=1000&start=1517443200\n",
      "Downloaded from 2018-02-01 00:00:00(1517443200) to 2018-02-21 19:30:00(1519241400) 211.89\n",
      "Processing 1000 of ltcusd\n"
     ]
    },
    {
     "data": {
      "application/vnd.jupyter.widget-view+json": {
       "model_id": "34d5a9fa228643c59d53262685934be1",
       "version_major": 2,
       "version_minor": 0
      },
      "text/plain": [
       "  0%|          | 0/1000 [00:00<?, ?it/s]"
      ]
     },
     "metadata": {},
     "output_type": "display_data"
    },
    {
     "name": "stdout",
     "output_type": "stream",
     "text": [
      "https://www.bitstamp.net/api/v2/ohlc/ltcbtc/?&currency_pair=ltcbtc&step=1800&limit=1000&start=1517443200\n",
      "Downloaded from 2018-02-01 00:00:00(1517443200) to 2018-02-21 19:30:00(1519241400) 0.02023969\n",
      "Processing 1000 of ltcbtc\n"
     ]
    },
    {
     "data": {
      "application/vnd.jupyter.widget-view+json": {
       "model_id": "b365e410a2224b9daf2cd1685e9e05d5",
       "version_major": 2,
       "version_minor": 0
      },
      "text/plain": [
       "  0%|          | 0/1000 [00:00<?, ?it/s]"
      ]
     },
     "metadata": {},
     "output_type": "display_data"
    },
    {
     "name": "stdout",
     "output_type": "stream",
     "text": [
      "https://www.bitstamp.net/api/v2/ohlc/btcusd/?&currency_pair=btcusd&step=1800&limit=1000&start=1548979200\n",
      "Downloaded from 2019-02-01 00:00:00(1548979200) to 2019-02-21 19:30:00(1550777400) 3888.76\n",
      "Processing 1000 of btcusd\n"
     ]
    },
    {
     "data": {
      "application/vnd.jupyter.widget-view+json": {
       "model_id": "afaf31dd670545eea68161859f4681b7",
       "version_major": 2,
       "version_minor": 0
      },
      "text/plain": [
       "  0%|          | 0/1000 [00:00<?, ?it/s]"
      ]
     },
     "metadata": {},
     "output_type": "display_data"
    },
    {
     "name": "stdout",
     "output_type": "stream",
     "text": [
      "https://www.bitstamp.net/api/v2/ohlc/ethusd/?&currency_pair=ethusd&step=1800&limit=1000&start=1548979200\n",
      "Downloaded from 2019-02-01 00:00:00(1548979200) to 2019-02-21 19:30:00(1550777400) 142.72\n",
      "Processing 1000 of ethusd\n"
     ]
    },
    {
     "data": {
      "application/vnd.jupyter.widget-view+json": {
       "model_id": "cc70597817e34f4393a7ba00ddc9f006",
       "version_major": 2,
       "version_minor": 0
      },
      "text/plain": [
       "  0%|          | 0/1000 [00:00<?, ?it/s]"
      ]
     },
     "metadata": {},
     "output_type": "display_data"
    },
    {
     "name": "stdout",
     "output_type": "stream",
     "text": [
      "https://www.bitstamp.net/api/v2/ohlc/ltcusd/?&currency_pair=ltcusd&step=1800&limit=1000&start=1548979200\n",
      "Downloaded from 2019-02-01 00:00:00(1548979200) to 2019-02-21 19:30:00(1550777400) 47.86\n",
      "Processing 1000 of ltcusd\n"
     ]
    },
    {
     "data": {
      "application/vnd.jupyter.widget-view+json": {
       "model_id": "19990e323c924f9e9c61eeda0fa1248f",
       "version_major": 2,
       "version_minor": 0
      },
      "text/plain": [
       "  0%|          | 0/1000 [00:00<?, ?it/s]"
      ]
     },
     "metadata": {},
     "output_type": "display_data"
    },
    {
     "name": "stdout",
     "output_type": "stream",
     "text": [
      "https://www.bitstamp.net/api/v2/ohlc/ltcbtc/?&currency_pair=ltcbtc&step=1800&limit=1000&start=1548979200\n",
      "Downloaded from 2019-02-01 00:00:00(1548979200) to 2019-02-21 19:30:00(1550777400) 0.01233400\n",
      "Processing 1000 of ltcbtc\n"
     ]
    },
    {
     "data": {
      "application/vnd.jupyter.widget-view+json": {
       "model_id": "bd9b56e2172f4e1cbfa21a2d32dcbb27",
       "version_major": 2,
       "version_minor": 0
      },
      "text/plain": [
       "  0%|          | 0/1000 [00:00<?, ?it/s]"
      ]
     },
     "metadata": {},
     "output_type": "display_data"
    },
    {
     "name": "stdout",
     "output_type": "stream",
     "text": [
      "https://www.bitstamp.net/api/v2/ohlc/btcusd/?&currency_pair=btcusd&step=1800&limit=1000&start=1580515200\n",
      "Downloaded from 2020-02-01 00:00:00(1580515200) to 2020-02-21 19:30:00(1582313400) 9697.33\n",
      "Processing 1000 of btcusd\n"
     ]
    },
    {
     "data": {
      "application/vnd.jupyter.widget-view+json": {
       "model_id": "364db7d0f34f493bbee5821074aa8311",
       "version_major": 2,
       "version_minor": 0
      },
      "text/plain": [
       "  0%|          | 0/1000 [00:00<?, ?it/s]"
      ]
     },
     "metadata": {},
     "output_type": "display_data"
    },
    {
     "name": "stdout",
     "output_type": "stream",
     "text": [
      "https://www.bitstamp.net/api/v2/ohlc/ethusd/?&currency_pair=ethusd&step=1800&limit=1000&start=1580515200\n",
      "Downloaded from 2020-02-01 00:00:00(1580515200) to 2020-02-21 19:30:00(1582313400) 264.40\n",
      "Processing 1000 of ethusd\n"
     ]
    },
    {
     "data": {
      "application/vnd.jupyter.widget-view+json": {
       "model_id": "4e2309f74d0d4958a8291104b2416ae1",
       "version_major": 2,
       "version_minor": 0
      },
      "text/plain": [
       "  0%|          | 0/1000 [00:00<?, ?it/s]"
      ]
     },
     "metadata": {},
     "output_type": "display_data"
    },
    {
     "name": "stdout",
     "output_type": "stream",
     "text": [
      "https://www.bitstamp.net/api/v2/ohlc/ltcusd/?&currency_pair=ltcusd&step=1800&limit=1000&start=1580515200\n",
      "Downloaded from 2020-02-01 00:00:00(1580515200) to 2020-02-21 19:30:00(1582313400) 73.61\n",
      "Processing 1000 of ltcusd\n"
     ]
    },
    {
     "data": {
      "application/vnd.jupyter.widget-view+json": {
       "model_id": "591490a21cb4447cba45e17ee1783033",
       "version_major": 2,
       "version_minor": 0
      },
      "text/plain": [
       "  0%|          | 0/1000 [00:00<?, ?it/s]"
      ]
     },
     "metadata": {},
     "output_type": "display_data"
    },
    {
     "name": "stdout",
     "output_type": "stream",
     "text": [
      "https://www.bitstamp.net/api/v2/ohlc/ltcbtc/?&currency_pair=ltcbtc&step=1800&limit=1000&start=1580515200\n",
      "Downloaded from 2020-02-01 00:00:00(1580515200) to 2020-02-21 19:30:00(1582313400) 0.00753763\n",
      "Processing 1000 of ltcbtc\n"
     ]
    },
    {
     "data": {
      "application/vnd.jupyter.widget-view+json": {
       "model_id": "6d325cd5736e41b7b2c2304b2fdbb95a",
       "version_major": 2,
       "version_minor": 0
      },
      "text/plain": [
       "  0%|          | 0/1000 [00:00<?, ?it/s]"
      ]
     },
     "metadata": {},
     "output_type": "display_data"
    },
    {
     "name": "stdout",
     "output_type": "stream",
     "text": [
      "https://www.bitstamp.net/api/v2/ohlc/btcusd/?&currency_pair=btcusd&step=1800&limit=1000&start=1612137600\n",
      "Downloaded from 2021-02-01 00:00:00(1612137600) to 2021-02-21 19:30:00(1613935800) 58232.98\n",
      "Processing 1000 of btcusd\n"
     ]
    },
    {
     "data": {
      "application/vnd.jupyter.widget-view+json": {
       "model_id": "9f072470b66c4116b6a4ee9b34bd313c",
       "version_major": 2,
       "version_minor": 0
      },
      "text/plain": [
       "  0%|          | 0/1000 [00:00<?, ?it/s]"
      ]
     },
     "metadata": {},
     "output_type": "display_data"
    },
    {
     "name": "stdout",
     "output_type": "stream",
     "text": [
      "https://www.bitstamp.net/api/v2/ohlc/ethusd/?&currency_pair=ethusd&step=1800&limit=1000&start=1612137600\n",
      "Downloaded from 2021-02-01 00:00:00(1612137600) to 2021-02-21 19:30:00(1613935800) 1971.83\n",
      "Processing 1000 of ethusd\n"
     ]
    },
    {
     "data": {
      "application/vnd.jupyter.widget-view+json": {
       "model_id": "91ea9371ae4445bca14ad9f28e50d8f7",
       "version_major": 2,
       "version_minor": 0
      },
      "text/plain": [
       "  0%|          | 0/1000 [00:00<?, ?it/s]"
      ]
     },
     "metadata": {},
     "output_type": "display_data"
    },
    {
     "name": "stdout",
     "output_type": "stream",
     "text": [
      "https://www.bitstamp.net/api/v2/ohlc/ltcusd/?&currency_pair=ltcusd&step=1800&limit=1000&start=1612137600\n",
      "Downloaded from 2021-02-01 00:00:00(1612137600) to 2021-02-21 19:30:00(1613935800) 232.85\n",
      "Processing 1000 of ltcusd\n"
     ]
    },
    {
     "data": {
      "application/vnd.jupyter.widget-view+json": {
       "model_id": "cdc557a04a204c4fb3015acf0fa188df",
       "version_major": 2,
       "version_minor": 0
      },
      "text/plain": [
       "  0%|          | 0/1000 [00:00<?, ?it/s]"
      ]
     },
     "metadata": {},
     "output_type": "display_data"
    },
    {
     "name": "stdout",
     "output_type": "stream",
     "text": [
      "https://www.bitstamp.net/api/v2/ohlc/ltcbtc/?&currency_pair=ltcbtc&step=1800&limit=1000&start=1612137600\n",
      "Downloaded from 2021-02-01 00:00:00(1612137600) to 2021-02-21 19:30:00(1613935800) 0.00399236\n",
      "Processing 1000 of ltcbtc\n"
     ]
    },
    {
     "data": {
      "application/vnd.jupyter.widget-view+json": {
       "model_id": "3fa36328d2c44a2fa6629c541aa22bcc",
       "version_major": 2,
       "version_minor": 0
      },
      "text/plain": [
       "  0%|          | 0/1000 [00:00<?, ?it/s]"
      ]
     },
     "metadata": {},
     "output_type": "display_data"
    },
    {
     "name": "stdout",
     "output_type": "stream",
     "text": [
      "https://www.bitstamp.net/api/v2/ohlc/btcusd/?&currency_pair=btcusd&step=1800&limit=1000&start=1623711600\n",
      "https://www.bitstamp.net/api/v2/ohlc/btcusd/?&currency_pair=btcusd&step=1800&limit=1000&start=1625511600\n",
      "Downloaded from 2021-06-15 00:00:00(1623711600) to 2021-07-15 00:00:00(1626303600) 32978.97\n",
      "Processing 1441 of btcusd\n"
     ]
    },
    {
     "data": {
      "application/vnd.jupyter.widget-view+json": {
       "model_id": "ba9c6987bd134fca82a58774e1efd4a9",
       "version_major": 2,
       "version_minor": 0
      },
      "text/plain": [
       "  0%|          | 0/1441 [00:00<?, ?it/s]"
      ]
     },
     "metadata": {},
     "output_type": "display_data"
    },
    {
     "name": "stdout",
     "output_type": "stream",
     "text": [
      "https://www.bitstamp.net/api/v2/ohlc/ethusd/?&currency_pair=ethusd&step=1800&limit=1000&start=1623711600\n",
      "https://www.bitstamp.net/api/v2/ohlc/ethusd/?&currency_pair=ethusd&step=1800&limit=1000&start=1625511600\n",
      "Downloaded from 2021-06-15 00:00:00(1623711600) to 2021-07-15 00:00:00(1626303600) 2005.17\n",
      "Processing 1441 of ethusd\n"
     ]
    },
    {
     "data": {
      "application/vnd.jupyter.widget-view+json": {
       "model_id": "5f4f39983a154ba58edac3dae18b036c",
       "version_major": 2,
       "version_minor": 0
      },
      "text/plain": [
       "  0%|          | 0/1441 [00:00<?, ?it/s]"
      ]
     },
     "metadata": {},
     "output_type": "display_data"
    },
    {
     "name": "stdout",
     "output_type": "stream",
     "text": [
      "https://www.bitstamp.net/api/v2/ohlc/ltcusd/?&currency_pair=ltcusd&step=1800&limit=1000&start=1623711600\n",
      "https://www.bitstamp.net/api/v2/ohlc/ltcusd/?&currency_pair=ltcusd&step=1800&limit=1000&start=1625511600\n",
      "Downloaded from 2021-06-15 00:00:00(1623711600) to 2021-07-15 00:00:00(1626303600) 131.22\n",
      "Processing 1441 of ltcusd\n"
     ]
    },
    {
     "data": {
      "application/vnd.jupyter.widget-view+json": {
       "model_id": "70f5b1ebc88d4ed5a1e09dbd173f8f3d",
       "version_major": 2,
       "version_minor": 0
      },
      "text/plain": [
       "  0%|          | 0/1441 [00:00<?, ?it/s]"
      ]
     },
     "metadata": {},
     "output_type": "display_data"
    },
    {
     "name": "stdout",
     "output_type": "stream",
     "text": [
      "https://www.bitstamp.net/api/v2/ohlc/ltcbtc/?&currency_pair=ltcbtc&step=1800&limit=1000&start=1623711600\n",
      "https://www.bitstamp.net/api/v2/ohlc/ltcbtc/?&currency_pair=ltcbtc&step=1800&limit=1000&start=1625511600\n",
      "Downloaded from 2021-06-15 00:00:00(1623711600) to 2021-07-15 00:00:00(1626303600) 0.00398347\n",
      "Processing 1441 of ltcbtc\n"
     ]
    },
    {
     "data": {
      "application/vnd.jupyter.widget-view+json": {
       "model_id": "9e4252fbbad648f7878c5e033825c0f5",
       "version_major": 2,
       "version_minor": 0
      },
      "text/plain": [
       "  0%|          | 0/1441 [00:00<?, ?it/s]"
      ]
     },
     "metadata": {},
     "output_type": "display_data"
    },
    {
     "name": "stdout",
     "output_type": "stream",
     "text": [
      "data/online5_30 -> OnLineDataProvider (val_keys = {'btcusd': 3, 'ethusd': 3, 'ltcusd': 3, 'ltcbtc': 3}, train_data = 2 , data_detail = DataDetail (windows = 5, minutes = 30, steps_ahead = 1)))\n",
      "https://www.bitstamp.net/api/v2/ohlc/btcusd/?&currency_pair=btcusd&step=1800&limit=1000&start=1622502000\n",
      "Downloaded from 2021-06-01 00:00:00(1622502000) to 2021-06-21 19:30:00(1624300200) 32470.01\n",
      "Processing 1000 of btcusd\n"
     ]
    },
    {
     "data": {
      "application/vnd.jupyter.widget-view+json": {
       "model_id": "8c169ea172184cc4891755c663ae6f64",
       "version_major": 2,
       "version_minor": 0
      },
      "text/plain": [
       "  0%|          | 0/1000 [00:00<?, ?it/s]"
      ]
     },
     "metadata": {},
     "output_type": "display_data"
    },
    {
     "name": "stdout",
     "output_type": "stream",
     "text": [
      "https://www.bitstamp.net/api/v2/ohlc/ethusd/?&currency_pair=ethusd&step=1800&limit=1000&start=1622502000\n",
      "Downloaded from 2021-06-01 00:00:00(1622502000) to 2021-06-21 19:30:00(1624300200) 1929.00\n",
      "Processing 1000 of ethusd\n"
     ]
    },
    {
     "data": {
      "application/vnd.jupyter.widget-view+json": {
       "model_id": "6ce8c7d666cb449fa385cd651fa9ffc4",
       "version_major": 2,
       "version_minor": 0
      },
      "text/plain": [
       "  0%|          | 0/1000 [00:00<?, ?it/s]"
      ]
     },
     "metadata": {},
     "output_type": "display_data"
    },
    {
     "name": "stdout",
     "output_type": "stream",
     "text": [
      "https://www.bitstamp.net/api/v2/ohlc/ltcusd/?&currency_pair=ltcusd&step=1800&limit=1000&start=1622502000\n",
      "Downloaded from 2021-06-01 00:00:00(1622502000) to 2021-06-21 19:30:00(1624300200) 133.00\n",
      "Processing 1000 of ltcusd\n"
     ]
    },
    {
     "data": {
      "application/vnd.jupyter.widget-view+json": {
       "model_id": "68402fd931da44a3adab6d71bb570d16",
       "version_major": 2,
       "version_minor": 0
      },
      "text/plain": [
       "  0%|          | 0/1000 [00:00<?, ?it/s]"
      ]
     },
     "metadata": {},
     "output_type": "display_data"
    },
    {
     "name": "stdout",
     "output_type": "stream",
     "text": [
      "https://www.bitstamp.net/api/v2/ohlc/ltcbtc/?&currency_pair=ltcbtc&step=1800&limit=1000&start=1622502000\n",
      "Downloaded from 2021-06-01 00:00:00(1622502000) to 2021-06-21 19:30:00(1624300200) 0.00409365\n",
      "Processing 1000 of ltcbtc\n"
     ]
    },
    {
     "data": {
      "application/vnd.jupyter.widget-view+json": {
       "model_id": "32d689c2d0dc4a8d97e34945639a6900",
       "version_major": 2,
       "version_minor": 0
      },
      "text/plain": [
       "  0%|          | 0/1000 [00:00<?, ?it/s]"
      ]
     },
     "metadata": {},
     "output_type": "display_data"
    },
    {
     "name": "stdout",
     "output_type": "stream",
     "text": [
      "https://www.bitstamp.net/api/v2/ohlc/btcusd/?&currency_pair=btcusd&step=1800&limit=1000&start=1590966000\n",
      "Downloaded from 2020-06-01 00:00:00(1590966000) to 2020-06-21 19:30:00(1592764200) 9325.43\n",
      "Processing 1000 of btcusd\n"
     ]
    },
    {
     "data": {
      "application/vnd.jupyter.widget-view+json": {
       "model_id": "5b928a7d853240b982f711c86dad683c",
       "version_major": 2,
       "version_minor": 0
      },
      "text/plain": [
       "  0%|          | 0/1000 [00:00<?, ?it/s]"
      ]
     },
     "metadata": {},
     "output_type": "display_data"
    },
    {
     "name": "stdout",
     "output_type": "stream",
     "text": [
      "https://www.bitstamp.net/api/v2/ohlc/ethusd/?&currency_pair=ethusd&step=1800&limit=1000&start=1590966000\n",
      "Downloaded from 2020-06-01 00:00:00(1590966000) to 2020-06-21 19:30:00(1592764200) 229.34\n",
      "Processing 1000 of ethusd\n"
     ]
    },
    {
     "data": {
      "application/vnd.jupyter.widget-view+json": {
       "model_id": "9abbbc7c690b4e2bb70fd91ae7794e5e",
       "version_major": 2,
       "version_minor": 0
      },
      "text/plain": [
       "  0%|          | 0/1000 [00:00<?, ?it/s]"
      ]
     },
     "metadata": {},
     "output_type": "display_data"
    },
    {
     "name": "stdout",
     "output_type": "stream",
     "text": [
      "https://www.bitstamp.net/api/v2/ohlc/ltcusd/?&currency_pair=ltcusd&step=1800&limit=1000&start=1590966000\n",
      "Downloaded from 2020-06-01 00:00:00(1590966000) to 2020-06-21 19:30:00(1592764200) 43.07\n",
      "Processing 1000 of ltcusd\n"
     ]
    },
    {
     "data": {
      "application/vnd.jupyter.widget-view+json": {
       "model_id": "9b9625ad2d1f46069325d485eccbfc2b",
       "version_major": 2,
       "version_minor": 0
      },
      "text/plain": [
       "  0%|          | 0/1000 [00:00<?, ?it/s]"
      ]
     },
     "metadata": {},
     "output_type": "display_data"
    },
    {
     "name": "stdout",
     "output_type": "stream",
     "text": [
      "https://www.bitstamp.net/api/v2/ohlc/ltcbtc/?&currency_pair=ltcbtc&step=1800&limit=1000&start=1590966000\n",
      "Downloaded from 2020-06-01 00:00:00(1590966000) to 2020-06-21 19:30:00(1592764200) 0.00462141\n",
      "Processing 1000 of ltcbtc\n"
     ]
    },
    {
     "data": {
      "application/vnd.jupyter.widget-view+json": {
       "model_id": "74b9881e71c6483899e19ae9dd6d9b18",
       "version_major": 2,
       "version_minor": 0
      },
      "text/plain": [
       "  0%|          | 0/1000 [00:00<?, ?it/s]"
      ]
     },
     "metadata": {},
     "output_type": "display_data"
    },
    {
     "name": "stdout",
     "output_type": "stream",
     "text": [
      "https://www.bitstamp.net/api/v2/ohlc/btcusd/?&currency_pair=btcusd&step=1800&limit=1000&start=1559343600\n",
      "Downloaded from 2019-06-01 00:00:00(1559343600) to 2019-06-21 19:30:00(1561141800) 9940.00\n",
      "Processing 1000 of btcusd\n"
     ]
    },
    {
     "data": {
      "application/vnd.jupyter.widget-view+json": {
       "model_id": "b5d023933560493faa9308bbd05c696c",
       "version_major": 2,
       "version_minor": 0
      },
      "text/plain": [
       "  0%|          | 0/1000 [00:00<?, ?it/s]"
      ]
     },
     "metadata": {},
     "output_type": "display_data"
    },
    {
     "name": "stdout",
     "output_type": "stream",
     "text": [
      "https://www.bitstamp.net/api/v2/ohlc/ethusd/?&currency_pair=ethusd&step=1800&limit=1000&start=1559343600\n",
      "Downloaded from 2019-06-01 00:00:00(1559343600) to 2019-06-21 19:30:00(1561141800) 292.06\n",
      "Processing 1000 of ethusd\n"
     ]
    },
    {
     "data": {
      "application/vnd.jupyter.widget-view+json": {
       "model_id": "f32f896170374e748efc7d2008697424",
       "version_major": 2,
       "version_minor": 0
      },
      "text/plain": [
       "  0%|          | 0/1000 [00:00<?, ?it/s]"
      ]
     },
     "metadata": {},
     "output_type": "display_data"
    },
    {
     "name": "stdout",
     "output_type": "stream",
     "text": [
      "https://www.bitstamp.net/api/v2/ohlc/ltcusd/?&currency_pair=ltcusd&step=1800&limit=1000&start=1559343600\n",
      "Downloaded from 2019-06-01 00:00:00(1559343600) to 2019-06-21 19:30:00(1561141800) 138.41\n",
      "Processing 1000 of ltcusd\n"
     ]
    },
    {
     "data": {
      "application/vnd.jupyter.widget-view+json": {
       "model_id": "464b38b792824f3e9681338a2dc10f79",
       "version_major": 2,
       "version_minor": 0
      },
      "text/plain": [
       "  0%|          | 0/1000 [00:00<?, ?it/s]"
      ]
     },
     "metadata": {},
     "output_type": "display_data"
    },
    {
     "name": "stdout",
     "output_type": "stream",
     "text": [
      "https://www.bitstamp.net/api/v2/ohlc/ltcbtc/?&currency_pair=ltcbtc&step=1800&limit=1000&start=1559343600\n",
      "Downloaded from 2019-06-01 00:00:00(1559343600) to 2019-06-21 19:30:00(1561141800) 0.01394473\n",
      "Processing 1000 of ltcbtc\n"
     ]
    },
    {
     "data": {
      "application/vnd.jupyter.widget-view+json": {
       "model_id": "4929a692b2054b47ab084713a1165248",
       "version_major": 2,
       "version_minor": 0
      },
      "text/plain": [
       "  0%|          | 0/1000 [00:00<?, ?it/s]"
      ]
     },
     "metadata": {},
     "output_type": "display_data"
    },
    {
     "name": "stdout",
     "output_type": "stream",
     "text": [
      "https://www.bitstamp.net/api/v2/ohlc/btcusd/?&currency_pair=btcusd&step=1800&limit=1000&start=1527807600\n",
      "Downloaded from 2018-06-01 00:00:00(1527807600) to 2018-06-21 19:30:00(1529605800) 6717.58\n",
      "Processing 1000 of btcusd\n"
     ]
    },
    {
     "data": {
      "application/vnd.jupyter.widget-view+json": {
       "model_id": "6e8bb2f912134682b0d0c9cb1cabf9c3",
       "version_major": 2,
       "version_minor": 0
      },
      "text/plain": [
       "  0%|          | 0/1000 [00:00<?, ?it/s]"
      ]
     },
     "metadata": {},
     "output_type": "display_data"
    },
    {
     "name": "stdout",
     "output_type": "stream",
     "text": [
      "https://www.bitstamp.net/api/v2/ohlc/ethusd/?&currency_pair=ethusd&step=1800&limit=1000&start=1527807600\n",
      "Downloaded from 2018-06-01 00:00:00(1527807600) to 2018-06-21 19:30:00(1529605800) 523.60\n",
      "Processing 1000 of ethusd\n"
     ]
    },
    {
     "data": {
      "application/vnd.jupyter.widget-view+json": {
       "model_id": "0a66e90f8c164ec49d9a99047644379f",
       "version_major": 2,
       "version_minor": 0
      },
      "text/plain": [
       "  0%|          | 0/1000 [00:00<?, ?it/s]"
      ]
     },
     "metadata": {},
     "output_type": "display_data"
    },
    {
     "name": "stdout",
     "output_type": "stream",
     "text": [
      "https://www.bitstamp.net/api/v2/ohlc/ltcusd/?&currency_pair=ltcusd&step=1800&limit=1000&start=1527807600\n",
      "Downloaded from 2018-06-01 00:00:00(1527807600) to 2018-06-21 19:30:00(1529605800) 96.60\n",
      "Processing 1000 of ltcusd\n"
     ]
    },
    {
     "data": {
      "application/vnd.jupyter.widget-view+json": {
       "model_id": "2ab4f2fc6a9841ed8bb829e6bc4f5faf",
       "version_major": 2,
       "version_minor": 0
      },
      "text/plain": [
       "  0%|          | 0/1000 [00:00<?, ?it/s]"
      ]
     },
     "metadata": {},
     "output_type": "display_data"
    },
    {
     "name": "stdout",
     "output_type": "stream",
     "text": [
      "https://www.bitstamp.net/api/v2/ohlc/ltcbtc/?&currency_pair=ltcbtc&step=1800&limit=1000&start=1527807600\n",
      "Downloaded from 2018-06-01 00:00:00(1527807600) to 2018-06-21 19:30:00(1529605800) 0.01434149\n",
      "Processing 1000 of ltcbtc\n"
     ]
    },
    {
     "data": {
      "application/vnd.jupyter.widget-view+json": {
       "model_id": "69952ebe9ebb443b85ab81ec746102e5",
       "version_major": 2,
       "version_minor": 0
      },
      "text/plain": [
       "  0%|          | 0/1000 [00:00<?, ?it/s]"
      ]
     },
     "metadata": {},
     "output_type": "display_data"
    },
    {
     "name": "stdout",
     "output_type": "stream",
     "text": [
      "https://www.bitstamp.net/api/v2/ohlc/btcusd/?&currency_pair=btcusd&step=1800&limit=1000&start=1517443200\n",
      "Downloaded from 2018-02-01 00:00:00(1517443200) to 2018-02-21 19:30:00(1519241400) 10493.40\n",
      "Processing 1000 of btcusd\n"
     ]
    },
    {
     "data": {
      "application/vnd.jupyter.widget-view+json": {
       "model_id": "8033d9d080e04177836676b9a38d9ea4",
       "version_major": 2,
       "version_minor": 0
      },
      "text/plain": [
       "  0%|          | 0/1000 [00:00<?, ?it/s]"
      ]
     },
     "metadata": {},
     "output_type": "display_data"
    },
    {
     "name": "stdout",
     "output_type": "stream",
     "text": [
      "https://www.bitstamp.net/api/v2/ohlc/ethusd/?&currency_pair=ethusd&step=1800&limit=1000&start=1517443200\n",
      "Downloaded from 2018-02-01 00:00:00(1517443200) to 2018-02-21 19:30:00(1519241400) 833.63\n",
      "Processing 1000 of ethusd\n"
     ]
    },
    {
     "data": {
      "application/vnd.jupyter.widget-view+json": {
       "model_id": "3964a9cf19bc48f8aea5aba66e01a1c8",
       "version_major": 2,
       "version_minor": 0
      },
      "text/plain": [
       "  0%|          | 0/1000 [00:00<?, ?it/s]"
      ]
     },
     "metadata": {},
     "output_type": "display_data"
    },
    {
     "name": "stdout",
     "output_type": "stream",
     "text": [
      "https://www.bitstamp.net/api/v2/ohlc/ltcusd/?&currency_pair=ltcusd&step=1800&limit=1000&start=1517443200\n",
      "Downloaded from 2018-02-01 00:00:00(1517443200) to 2018-02-21 19:30:00(1519241400) 211.89\n",
      "Processing 1000 of ltcusd\n"
     ]
    },
    {
     "data": {
      "application/vnd.jupyter.widget-view+json": {
       "model_id": "f55e4a79249d41558937042f27eae2e0",
       "version_major": 2,
       "version_minor": 0
      },
      "text/plain": [
       "  0%|          | 0/1000 [00:00<?, ?it/s]"
      ]
     },
     "metadata": {},
     "output_type": "display_data"
    },
    {
     "name": "stdout",
     "output_type": "stream",
     "text": [
      "https://www.bitstamp.net/api/v2/ohlc/ltcbtc/?&currency_pair=ltcbtc&step=1800&limit=1000&start=1517443200\n",
      "Downloaded from 2018-02-01 00:00:00(1517443200) to 2018-02-21 19:30:00(1519241400) 0.02023969\n",
      "Processing 1000 of ltcbtc\n"
     ]
    },
    {
     "data": {
      "application/vnd.jupyter.widget-view+json": {
       "model_id": "c91b5f3a7c0f4beeace98ee52220613d",
       "version_major": 2,
       "version_minor": 0
      },
      "text/plain": [
       "  0%|          | 0/1000 [00:00<?, ?it/s]"
      ]
     },
     "metadata": {},
     "output_type": "display_data"
    },
    {
     "name": "stdout",
     "output_type": "stream",
     "text": [
      "https://www.bitstamp.net/api/v2/ohlc/btcusd/?&currency_pair=btcusd&step=1800&limit=1000&start=1548979200\n",
      "Downloaded from 2019-02-01 00:00:00(1548979200) to 2019-02-21 19:30:00(1550777400) 3888.76\n",
      "Processing 1000 of btcusd\n"
     ]
    },
    {
     "data": {
      "application/vnd.jupyter.widget-view+json": {
       "model_id": "cbeb30f6f60d41e0bf503b551eda5952",
       "version_major": 2,
       "version_minor": 0
      },
      "text/plain": [
       "  0%|          | 0/1000 [00:00<?, ?it/s]"
      ]
     },
     "metadata": {},
     "output_type": "display_data"
    },
    {
     "name": "stdout",
     "output_type": "stream",
     "text": [
      "https://www.bitstamp.net/api/v2/ohlc/ethusd/?&currency_pair=ethusd&step=1800&limit=1000&start=1548979200\n",
      "Downloaded from 2019-02-01 00:00:00(1548979200) to 2019-02-21 19:30:00(1550777400) 142.72\n",
      "Processing 1000 of ethusd\n"
     ]
    },
    {
     "data": {
      "application/vnd.jupyter.widget-view+json": {
       "model_id": "3771c60a404a43669c96444f7c3b6430",
       "version_major": 2,
       "version_minor": 0
      },
      "text/plain": [
       "  0%|          | 0/1000 [00:00<?, ?it/s]"
      ]
     },
     "metadata": {},
     "output_type": "display_data"
    },
    {
     "name": "stdout",
     "output_type": "stream",
     "text": [
      "https://www.bitstamp.net/api/v2/ohlc/ltcusd/?&currency_pair=ltcusd&step=1800&limit=1000&start=1548979200\n",
      "Downloaded from 2019-02-01 00:00:00(1548979200) to 2019-02-21 19:30:00(1550777400) 47.86\n",
      "Processing 1000 of ltcusd\n"
     ]
    },
    {
     "data": {
      "application/vnd.jupyter.widget-view+json": {
       "model_id": "a0336f2770dd417baec8fae9dfa145fa",
       "version_major": 2,
       "version_minor": 0
      },
      "text/plain": [
       "  0%|          | 0/1000 [00:00<?, ?it/s]"
      ]
     },
     "metadata": {},
     "output_type": "display_data"
    },
    {
     "name": "stdout",
     "output_type": "stream",
     "text": [
      "https://www.bitstamp.net/api/v2/ohlc/ltcbtc/?&currency_pair=ltcbtc&step=1800&limit=1000&start=1548979200\n",
      "Downloaded from 2019-02-01 00:00:00(1548979200) to 2019-02-21 19:30:00(1550777400) 0.01233400\n",
      "Processing 1000 of ltcbtc\n"
     ]
    },
    {
     "data": {
      "application/vnd.jupyter.widget-view+json": {
       "model_id": "95e3beea399e4fb8ba15ceff4c43d54d",
       "version_major": 2,
       "version_minor": 0
      },
      "text/plain": [
       "  0%|          | 0/1000 [00:00<?, ?it/s]"
      ]
     },
     "metadata": {},
     "output_type": "display_data"
    },
    {
     "name": "stdout",
     "output_type": "stream",
     "text": [
      "https://www.bitstamp.net/api/v2/ohlc/btcusd/?&currency_pair=btcusd&step=1800&limit=1000&start=1580515200\n",
      "Downloaded from 2020-02-01 00:00:00(1580515200) to 2020-02-21 19:30:00(1582313400) 9697.33\n",
      "Processing 1000 of btcusd\n"
     ]
    },
    {
     "data": {
      "application/vnd.jupyter.widget-view+json": {
       "model_id": "941462c5569646c8ad987665a724db50",
       "version_major": 2,
       "version_minor": 0
      },
      "text/plain": [
       "  0%|          | 0/1000 [00:00<?, ?it/s]"
      ]
     },
     "metadata": {},
     "output_type": "display_data"
    },
    {
     "name": "stdout",
     "output_type": "stream",
     "text": [
      "https://www.bitstamp.net/api/v2/ohlc/ethusd/?&currency_pair=ethusd&step=1800&limit=1000&start=1580515200\n",
      "Downloaded from 2020-02-01 00:00:00(1580515200) to 2020-02-21 19:30:00(1582313400) 264.40\n",
      "Processing 1000 of ethusd\n"
     ]
    },
    {
     "data": {
      "application/vnd.jupyter.widget-view+json": {
       "model_id": "b358eccf31654cf4af139e582041fbdf",
       "version_major": 2,
       "version_minor": 0
      },
      "text/plain": [
       "  0%|          | 0/1000 [00:00<?, ?it/s]"
      ]
     },
     "metadata": {},
     "output_type": "display_data"
    },
    {
     "name": "stdout",
     "output_type": "stream",
     "text": [
      "https://www.bitstamp.net/api/v2/ohlc/ltcusd/?&currency_pair=ltcusd&step=1800&limit=1000&start=1580515200\n",
      "Downloaded from 2020-02-01 00:00:00(1580515200) to 2020-02-21 19:30:00(1582313400) 73.61\n",
      "Processing 1000 of ltcusd\n"
     ]
    },
    {
     "data": {
      "application/vnd.jupyter.widget-view+json": {
       "model_id": "4fbe49d717af48718248c10aff15be98",
       "version_major": 2,
       "version_minor": 0
      },
      "text/plain": [
       "  0%|          | 0/1000 [00:00<?, ?it/s]"
      ]
     },
     "metadata": {},
     "output_type": "display_data"
    },
    {
     "name": "stdout",
     "output_type": "stream",
     "text": [
      "https://www.bitstamp.net/api/v2/ohlc/ltcbtc/?&currency_pair=ltcbtc&step=1800&limit=1000&start=1580515200\n",
      "Downloaded from 2020-02-01 00:00:00(1580515200) to 2020-02-21 19:30:00(1582313400) 0.00753763\n",
      "Processing 1000 of ltcbtc\n"
     ]
    },
    {
     "data": {
      "application/vnd.jupyter.widget-view+json": {
       "model_id": "b2b2e420528e4f0aa6cecab87d1ddd0e",
       "version_major": 2,
       "version_minor": 0
      },
      "text/plain": [
       "  0%|          | 0/1000 [00:00<?, ?it/s]"
      ]
     },
     "metadata": {},
     "output_type": "display_data"
    },
    {
     "name": "stdout",
     "output_type": "stream",
     "text": [
      "https://www.bitstamp.net/api/v2/ohlc/btcusd/?&currency_pair=btcusd&step=1800&limit=1000&start=1612137600\n",
      "Downloaded from 2021-02-01 00:00:00(1612137600) to 2021-02-21 19:30:00(1613935800) 58232.98\n",
      "Processing 1000 of btcusd\n"
     ]
    },
    {
     "data": {
      "application/vnd.jupyter.widget-view+json": {
       "model_id": "e6e84fcd360441f999c9ccc3b5b53505",
       "version_major": 2,
       "version_minor": 0
      },
      "text/plain": [
       "  0%|          | 0/1000 [00:00<?, ?it/s]"
      ]
     },
     "metadata": {},
     "output_type": "display_data"
    },
    {
     "name": "stdout",
     "output_type": "stream",
     "text": [
      "https://www.bitstamp.net/api/v2/ohlc/ethusd/?&currency_pair=ethusd&step=1800&limit=1000&start=1612137600\n",
      "Downloaded from 2021-02-01 00:00:00(1612137600) to 2021-02-21 19:30:00(1613935800) 1971.83\n",
      "Processing 1000 of ethusd\n"
     ]
    },
    {
     "data": {
      "application/vnd.jupyter.widget-view+json": {
       "model_id": "2482fe864c5a4d5bb66ecb6d9bdede05",
       "version_major": 2,
       "version_minor": 0
      },
      "text/plain": [
       "  0%|          | 0/1000 [00:00<?, ?it/s]"
      ]
     },
     "metadata": {},
     "output_type": "display_data"
    },
    {
     "name": "stdout",
     "output_type": "stream",
     "text": [
      "https://www.bitstamp.net/api/v2/ohlc/ltcusd/?&currency_pair=ltcusd&step=1800&limit=1000&start=1612137600\n",
      "Downloaded from 2021-02-01 00:00:00(1612137600) to 2021-02-21 19:30:00(1613935800) 232.85\n",
      "Processing 1000 of ltcusd\n"
     ]
    },
    {
     "data": {
      "application/vnd.jupyter.widget-view+json": {
       "model_id": "c8f1de497735423fa3c36d695c1b249b",
       "version_major": 2,
       "version_minor": 0
      },
      "text/plain": [
       "  0%|          | 0/1000 [00:00<?, ?it/s]"
      ]
     },
     "metadata": {},
     "output_type": "display_data"
    },
    {
     "name": "stdout",
     "output_type": "stream",
     "text": [
      "https://www.bitstamp.net/api/v2/ohlc/ltcbtc/?&currency_pair=ltcbtc&step=1800&limit=1000&start=1612137600\n",
      "Downloaded from 2021-02-01 00:00:00(1612137600) to 2021-02-21 19:30:00(1613935800) 0.00399236\n",
      "Processing 1000 of ltcbtc\n"
     ]
    },
    {
     "data": {
      "application/vnd.jupyter.widget-view+json": {
       "model_id": "4f7b9b9d676544ba98b0a01599e01b67",
       "version_major": 2,
       "version_minor": 0
      },
      "text/plain": [
       "  0%|          | 0/1000 [00:00<?, ?it/s]"
      ]
     },
     "metadata": {},
     "output_type": "display_data"
    },
    {
     "name": "stdout",
     "output_type": "stream",
     "text": [
      "https://www.bitstamp.net/api/v2/ohlc/btcusd/?&currency_pair=btcusd&step=1800&limit=1000&start=1623711600\n",
      "https://www.bitstamp.net/api/v2/ohlc/btcusd/?&currency_pair=btcusd&step=1800&limit=1000&start=1625511600\n",
      "Downloaded from 2021-06-15 00:00:00(1623711600) to 2021-07-15 00:00:00(1626303600) 32978.97\n",
      "Processing 1441 of btcusd\n"
     ]
    },
    {
     "data": {
      "application/vnd.jupyter.widget-view+json": {
       "model_id": "87d2722d4b0b400b93ac63e1578a4963",
       "version_major": 2,
       "version_minor": 0
      },
      "text/plain": [
       "  0%|          | 0/1441 [00:00<?, ?it/s]"
      ]
     },
     "metadata": {},
     "output_type": "display_data"
    },
    {
     "name": "stdout",
     "output_type": "stream",
     "text": [
      "https://www.bitstamp.net/api/v2/ohlc/ethusd/?&currency_pair=ethusd&step=1800&limit=1000&start=1623711600\n",
      "https://www.bitstamp.net/api/v2/ohlc/ethusd/?&currency_pair=ethusd&step=1800&limit=1000&start=1625511600\n",
      "Downloaded from 2021-06-15 00:00:00(1623711600) to 2021-07-15 00:00:00(1626303600) 2005.17\n",
      "Processing 1441 of ethusd\n"
     ]
    },
    {
     "data": {
      "application/vnd.jupyter.widget-view+json": {
       "model_id": "10cbd05c2f3544839aeef8414c714b8e",
       "version_major": 2,
       "version_minor": 0
      },
      "text/plain": [
       "  0%|          | 0/1441 [00:00<?, ?it/s]"
      ]
     },
     "metadata": {},
     "output_type": "display_data"
    },
    {
     "name": "stdout",
     "output_type": "stream",
     "text": [
      "https://www.bitstamp.net/api/v2/ohlc/ltcusd/?&currency_pair=ltcusd&step=1800&limit=1000&start=1623711600\n",
      "https://www.bitstamp.net/api/v2/ohlc/ltcusd/?&currency_pair=ltcusd&step=1800&limit=1000&start=1625511600\n",
      "Downloaded from 2021-06-15 00:00:00(1623711600) to 2021-07-15 00:00:00(1626303600) 131.22\n",
      "Processing 1441 of ltcusd\n"
     ]
    },
    {
     "data": {
      "application/vnd.jupyter.widget-view+json": {
       "model_id": "c38dfbf9dc3e4887a0cf37d68281594f",
       "version_major": 2,
       "version_minor": 0
      },
      "text/plain": [
       "  0%|          | 0/1441 [00:00<?, ?it/s]"
      ]
     },
     "metadata": {},
     "output_type": "display_data"
    },
    {
     "name": "stdout",
     "output_type": "stream",
     "text": [
      "https://www.bitstamp.net/api/v2/ohlc/ltcbtc/?&currency_pair=ltcbtc&step=1800&limit=1000&start=1623711600\n",
      "https://www.bitstamp.net/api/v2/ohlc/ltcbtc/?&currency_pair=ltcbtc&step=1800&limit=1000&start=1625511600\n",
      "Downloaded from 2021-06-15 00:00:00(1623711600) to 2021-07-15 00:00:00(1626303600) 0.00398347\n",
      "Processing 1441 of ltcbtc\n"
     ]
    },
    {
     "data": {
      "application/vnd.jupyter.widget-view+json": {
       "model_id": "7e97ca1d61cb4f8c9776dc468295bdf1",
       "version_major": 2,
       "version_minor": 0
      },
      "text/plain": [
       "  0%|          | 0/1441 [00:00<?, ?it/s]"
      ]
     },
     "metadata": {},
     "output_type": "display_data"
    },
    {
     "name": "stdout",
     "output_type": "stream",
     "text": [
      "data/online10_30 -> OnLineDataProvider (val_keys = {'btcusd': 3, 'ethusd': 3, 'ltcusd': 3, 'ltcbtc': 3}, train_data = 2 , data_detail = DataDetail (windows = 10, minutes = 30, steps_ahead = 1)))\n",
      "https://www.bitstamp.net/api/v2/ohlc/btcusd/?&currency_pair=btcusd&step=1800&limit=1000&start=1622502000\n",
      "Downloaded from 2021-06-01 00:00:00(1622502000) to 2021-06-21 19:30:00(1624300200) 32470.01\n",
      "Processing 1000 of btcusd\n"
     ]
    },
    {
     "data": {
      "application/vnd.jupyter.widget-view+json": {
       "model_id": "5840d21cddc449d2a4402e9f1bfd1efd",
       "version_major": 2,
       "version_minor": 0
      },
      "text/plain": [
       "  0%|          | 0/1000 [00:00<?, ?it/s]"
      ]
     },
     "metadata": {},
     "output_type": "display_data"
    },
    {
     "name": "stdout",
     "output_type": "stream",
     "text": [
      "https://www.bitstamp.net/api/v2/ohlc/ethusd/?&currency_pair=ethusd&step=1800&limit=1000&start=1622502000\n",
      "Downloaded from 2021-06-01 00:00:00(1622502000) to 2021-06-21 19:30:00(1624300200) 1929.00\n",
      "Processing 1000 of ethusd\n"
     ]
    },
    {
     "data": {
      "application/vnd.jupyter.widget-view+json": {
       "model_id": "d0e4cbc7c34840be8c5b2ab220168d61",
       "version_major": 2,
       "version_minor": 0
      },
      "text/plain": [
       "  0%|          | 0/1000 [00:00<?, ?it/s]"
      ]
     },
     "metadata": {},
     "output_type": "display_data"
    },
    {
     "name": "stdout",
     "output_type": "stream",
     "text": [
      "https://www.bitstamp.net/api/v2/ohlc/ltcusd/?&currency_pair=ltcusd&step=1800&limit=1000&start=1622502000\n",
      "Downloaded from 2021-06-01 00:00:00(1622502000) to 2021-06-21 19:30:00(1624300200) 133.00\n",
      "Processing 1000 of ltcusd\n"
     ]
    },
    {
     "data": {
      "application/vnd.jupyter.widget-view+json": {
       "model_id": "76a7700576fe46bd9fee320b0df14c0e",
       "version_major": 2,
       "version_minor": 0
      },
      "text/plain": [
       "  0%|          | 0/1000 [00:00<?, ?it/s]"
      ]
     },
     "metadata": {},
     "output_type": "display_data"
    },
    {
     "name": "stdout",
     "output_type": "stream",
     "text": [
      "https://www.bitstamp.net/api/v2/ohlc/ltcbtc/?&currency_pair=ltcbtc&step=1800&limit=1000&start=1622502000\n",
      "Downloaded from 2021-06-01 00:00:00(1622502000) to 2021-06-21 19:30:00(1624300200) 0.00409365\n",
      "Processing 1000 of ltcbtc\n"
     ]
    },
    {
     "data": {
      "application/vnd.jupyter.widget-view+json": {
       "model_id": "7e7722b4e5d44a89a8a465a499c2d61b",
       "version_major": 2,
       "version_minor": 0
      },
      "text/plain": [
       "  0%|          | 0/1000 [00:00<?, ?it/s]"
      ]
     },
     "metadata": {},
     "output_type": "display_data"
    },
    {
     "name": "stdout",
     "output_type": "stream",
     "text": [
      "https://www.bitstamp.net/api/v2/ohlc/btcusd/?&currency_pair=btcusd&step=1800&limit=1000&start=1590966000\n",
      "Downloaded from 2020-06-01 00:00:00(1590966000) to 2020-06-21 19:30:00(1592764200) 9325.43\n",
      "Processing 1000 of btcusd\n"
     ]
    },
    {
     "data": {
      "application/vnd.jupyter.widget-view+json": {
       "model_id": "38ba9692a1834119b6951ef1062fdb13",
       "version_major": 2,
       "version_minor": 0
      },
      "text/plain": [
       "  0%|          | 0/1000 [00:00<?, ?it/s]"
      ]
     },
     "metadata": {},
     "output_type": "display_data"
    },
    {
     "name": "stdout",
     "output_type": "stream",
     "text": [
      "https://www.bitstamp.net/api/v2/ohlc/ethusd/?&currency_pair=ethusd&step=1800&limit=1000&start=1590966000\n",
      "Downloaded from 2020-06-01 00:00:00(1590966000) to 2020-06-21 19:30:00(1592764200) 229.34\n",
      "Processing 1000 of ethusd\n"
     ]
    },
    {
     "data": {
      "application/vnd.jupyter.widget-view+json": {
       "model_id": "a36359fb9d7845238bf32b452f29e38d",
       "version_major": 2,
       "version_minor": 0
      },
      "text/plain": [
       "  0%|          | 0/1000 [00:00<?, ?it/s]"
      ]
     },
     "metadata": {},
     "output_type": "display_data"
    },
    {
     "name": "stdout",
     "output_type": "stream",
     "text": [
      "https://www.bitstamp.net/api/v2/ohlc/ltcusd/?&currency_pair=ltcusd&step=1800&limit=1000&start=1590966000\n",
      "Downloaded from 2020-06-01 00:00:00(1590966000) to 2020-06-21 19:30:00(1592764200) 43.07\n",
      "Processing 1000 of ltcusd\n"
     ]
    },
    {
     "data": {
      "application/vnd.jupyter.widget-view+json": {
       "model_id": "62813f20610347388bc9b318dbbad37a",
       "version_major": 2,
       "version_minor": 0
      },
      "text/plain": [
       "  0%|          | 0/1000 [00:00<?, ?it/s]"
      ]
     },
     "metadata": {},
     "output_type": "display_data"
    },
    {
     "name": "stdout",
     "output_type": "stream",
     "text": [
      "https://www.bitstamp.net/api/v2/ohlc/ltcbtc/?&currency_pair=ltcbtc&step=1800&limit=1000&start=1590966000\n",
      "Downloaded from 2020-06-01 00:00:00(1590966000) to 2020-06-21 19:30:00(1592764200) 0.00462141\n",
      "Processing 1000 of ltcbtc\n"
     ]
    },
    {
     "data": {
      "application/vnd.jupyter.widget-view+json": {
       "model_id": "5bf02089d24348eb8586dfd86f27a48c",
       "version_major": 2,
       "version_minor": 0
      },
      "text/plain": [
       "  0%|          | 0/1000 [00:00<?, ?it/s]"
      ]
     },
     "metadata": {},
     "output_type": "display_data"
    },
    {
     "name": "stdout",
     "output_type": "stream",
     "text": [
      "https://www.bitstamp.net/api/v2/ohlc/btcusd/?&currency_pair=btcusd&step=1800&limit=1000&start=1559343600\n",
      "Downloaded from 2019-06-01 00:00:00(1559343600) to 2019-06-21 19:30:00(1561141800) 9940.00\n",
      "Processing 1000 of btcusd\n"
     ]
    },
    {
     "data": {
      "application/vnd.jupyter.widget-view+json": {
       "model_id": "7571b0bcdfff4113b944cc399595e434",
       "version_major": 2,
       "version_minor": 0
      },
      "text/plain": [
       "  0%|          | 0/1000 [00:00<?, ?it/s]"
      ]
     },
     "metadata": {},
     "output_type": "display_data"
    },
    {
     "name": "stdout",
     "output_type": "stream",
     "text": [
      "https://www.bitstamp.net/api/v2/ohlc/ethusd/?&currency_pair=ethusd&step=1800&limit=1000&start=1559343600\n",
      "Downloaded from 2019-06-01 00:00:00(1559343600) to 2019-06-21 19:30:00(1561141800) 292.06\n",
      "Processing 1000 of ethusd\n"
     ]
    },
    {
     "data": {
      "application/vnd.jupyter.widget-view+json": {
       "model_id": "4cce7c1ff68f4d1b80cb0cc37b5418f7",
       "version_major": 2,
       "version_minor": 0
      },
      "text/plain": [
       "  0%|          | 0/1000 [00:00<?, ?it/s]"
      ]
     },
     "metadata": {},
     "output_type": "display_data"
    },
    {
     "name": "stdout",
     "output_type": "stream",
     "text": [
      "https://www.bitstamp.net/api/v2/ohlc/ltcusd/?&currency_pair=ltcusd&step=1800&limit=1000&start=1559343600\n",
      "Downloaded from 2019-06-01 00:00:00(1559343600) to 2019-06-21 19:30:00(1561141800) 138.41\n",
      "Processing 1000 of ltcusd\n"
     ]
    },
    {
     "data": {
      "application/vnd.jupyter.widget-view+json": {
       "model_id": "fecef7b90eaf4d508b963495aa73fa4c",
       "version_major": 2,
       "version_minor": 0
      },
      "text/plain": [
       "  0%|          | 0/1000 [00:00<?, ?it/s]"
      ]
     },
     "metadata": {},
     "output_type": "display_data"
    },
    {
     "name": "stdout",
     "output_type": "stream",
     "text": [
      "https://www.bitstamp.net/api/v2/ohlc/ltcbtc/?&currency_pair=ltcbtc&step=1800&limit=1000&start=1559343600\n",
      "Downloaded from 2019-06-01 00:00:00(1559343600) to 2019-06-21 19:30:00(1561141800) 0.01394473\n",
      "Processing 1000 of ltcbtc\n"
     ]
    },
    {
     "data": {
      "application/vnd.jupyter.widget-view+json": {
       "model_id": "7dc92873136e44a5a7b4056b0b503c27",
       "version_major": 2,
       "version_minor": 0
      },
      "text/plain": [
       "  0%|          | 0/1000 [00:00<?, ?it/s]"
      ]
     },
     "metadata": {},
     "output_type": "display_data"
    },
    {
     "name": "stdout",
     "output_type": "stream",
     "text": [
      "https://www.bitstamp.net/api/v2/ohlc/btcusd/?&currency_pair=btcusd&step=1800&limit=1000&start=1527807600\n",
      "Downloaded from 2018-06-01 00:00:00(1527807600) to 2018-06-21 19:30:00(1529605800) 6717.58\n",
      "Processing 1000 of btcusd\n"
     ]
    },
    {
     "data": {
      "application/vnd.jupyter.widget-view+json": {
       "model_id": "7290643439d842b7a997aae0c5ce60f6",
       "version_major": 2,
       "version_minor": 0
      },
      "text/plain": [
       "  0%|          | 0/1000 [00:00<?, ?it/s]"
      ]
     },
     "metadata": {},
     "output_type": "display_data"
    },
    {
     "name": "stdout",
     "output_type": "stream",
     "text": [
      "https://www.bitstamp.net/api/v2/ohlc/ethusd/?&currency_pair=ethusd&step=1800&limit=1000&start=1527807600\n",
      "Downloaded from 2018-06-01 00:00:00(1527807600) to 2018-06-21 19:30:00(1529605800) 523.60\n",
      "Processing 1000 of ethusd\n"
     ]
    },
    {
     "data": {
      "application/vnd.jupyter.widget-view+json": {
       "model_id": "9c75411cf46a4646bee7753bebd58d4e",
       "version_major": 2,
       "version_minor": 0
      },
      "text/plain": [
       "  0%|          | 0/1000 [00:00<?, ?it/s]"
      ]
     },
     "metadata": {},
     "output_type": "display_data"
    },
    {
     "name": "stdout",
     "output_type": "stream",
     "text": [
      "https://www.bitstamp.net/api/v2/ohlc/ltcusd/?&currency_pair=ltcusd&step=1800&limit=1000&start=1527807600\n",
      "Downloaded from 2018-06-01 00:00:00(1527807600) to 2018-06-21 19:30:00(1529605800) 96.60\n",
      "Processing 1000 of ltcusd\n"
     ]
    },
    {
     "data": {
      "application/vnd.jupyter.widget-view+json": {
       "model_id": "99e3301cfaf24ffc99cd63cd32693fd4",
       "version_major": 2,
       "version_minor": 0
      },
      "text/plain": [
       "  0%|          | 0/1000 [00:00<?, ?it/s]"
      ]
     },
     "metadata": {},
     "output_type": "display_data"
    },
    {
     "name": "stdout",
     "output_type": "stream",
     "text": [
      "https://www.bitstamp.net/api/v2/ohlc/ltcbtc/?&currency_pair=ltcbtc&step=1800&limit=1000&start=1527807600\n",
      "Downloaded from 2018-06-01 00:00:00(1527807600) to 2018-06-21 19:30:00(1529605800) 0.01434149\n",
      "Processing 1000 of ltcbtc\n"
     ]
    },
    {
     "data": {
      "application/vnd.jupyter.widget-view+json": {
       "model_id": "17d9ad3c70c34a3dabe05f0b58c47872",
       "version_major": 2,
       "version_minor": 0
      },
      "text/plain": [
       "  0%|          | 0/1000 [00:00<?, ?it/s]"
      ]
     },
     "metadata": {},
     "output_type": "display_data"
    },
    {
     "name": "stdout",
     "output_type": "stream",
     "text": [
      "https://www.bitstamp.net/api/v2/ohlc/btcusd/?&currency_pair=btcusd&step=1800&limit=1000&start=1517443200\n",
      "Downloaded from 2018-02-01 00:00:00(1517443200) to 2018-02-21 19:30:00(1519241400) 10493.40\n",
      "Processing 1000 of btcusd\n"
     ]
    },
    {
     "data": {
      "application/vnd.jupyter.widget-view+json": {
       "model_id": "86d9567de8d8460fbc314dba31646351",
       "version_major": 2,
       "version_minor": 0
      },
      "text/plain": [
       "  0%|          | 0/1000 [00:00<?, ?it/s]"
      ]
     },
     "metadata": {},
     "output_type": "display_data"
    },
    {
     "name": "stdout",
     "output_type": "stream",
     "text": [
      "https://www.bitstamp.net/api/v2/ohlc/ethusd/?&currency_pair=ethusd&step=1800&limit=1000&start=1517443200\n",
      "Downloaded from 2018-02-01 00:00:00(1517443200) to 2018-02-21 19:30:00(1519241400) 833.63\n",
      "Processing 1000 of ethusd\n"
     ]
    },
    {
     "data": {
      "application/vnd.jupyter.widget-view+json": {
       "model_id": "f371bb0e55ff483c8b03e43a12af9a81",
       "version_major": 2,
       "version_minor": 0
      },
      "text/plain": [
       "  0%|          | 0/1000 [00:00<?, ?it/s]"
      ]
     },
     "metadata": {},
     "output_type": "display_data"
    },
    {
     "name": "stdout",
     "output_type": "stream",
     "text": [
      "https://www.bitstamp.net/api/v2/ohlc/ltcusd/?&currency_pair=ltcusd&step=1800&limit=1000&start=1517443200\n",
      "Downloaded from 2018-02-01 00:00:00(1517443200) to 2018-02-21 19:30:00(1519241400) 211.89\n",
      "Processing 1000 of ltcusd\n"
     ]
    },
    {
     "data": {
      "application/vnd.jupyter.widget-view+json": {
       "model_id": "9c79ebb015ea4b5182175bf636dc8f74",
       "version_major": 2,
       "version_minor": 0
      },
      "text/plain": [
       "  0%|          | 0/1000 [00:00<?, ?it/s]"
      ]
     },
     "metadata": {},
     "output_type": "display_data"
    },
    {
     "name": "stdout",
     "output_type": "stream",
     "text": [
      "https://www.bitstamp.net/api/v2/ohlc/ltcbtc/?&currency_pair=ltcbtc&step=1800&limit=1000&start=1517443200\n",
      "Downloaded from 2018-02-01 00:00:00(1517443200) to 2018-02-21 19:30:00(1519241400) 0.02023969\n",
      "Processing 1000 of ltcbtc\n"
     ]
    },
    {
     "data": {
      "application/vnd.jupyter.widget-view+json": {
       "model_id": "55bb437d40b34cca8dd2db37c4db8909",
       "version_major": 2,
       "version_minor": 0
      },
      "text/plain": [
       "  0%|          | 0/1000 [00:00<?, ?it/s]"
      ]
     },
     "metadata": {},
     "output_type": "display_data"
    },
    {
     "name": "stdout",
     "output_type": "stream",
     "text": [
      "https://www.bitstamp.net/api/v2/ohlc/btcusd/?&currency_pair=btcusd&step=1800&limit=1000&start=1548979200\n",
      "Downloaded from 2019-02-01 00:00:00(1548979200) to 2019-02-21 19:30:00(1550777400) 3888.76\n",
      "Processing 1000 of btcusd\n"
     ]
    },
    {
     "data": {
      "application/vnd.jupyter.widget-view+json": {
       "model_id": "0859f15e72d24d54b3ebbdd506d7009a",
       "version_major": 2,
       "version_minor": 0
      },
      "text/plain": [
       "  0%|          | 0/1000 [00:00<?, ?it/s]"
      ]
     },
     "metadata": {},
     "output_type": "display_data"
    },
    {
     "name": "stdout",
     "output_type": "stream",
     "text": [
      "https://www.bitstamp.net/api/v2/ohlc/ethusd/?&currency_pair=ethusd&step=1800&limit=1000&start=1548979200\n",
      "Downloaded from 2019-02-01 00:00:00(1548979200) to 2019-02-21 19:30:00(1550777400) 142.72\n",
      "Processing 1000 of ethusd\n"
     ]
    },
    {
     "data": {
      "application/vnd.jupyter.widget-view+json": {
       "model_id": "929a0403897a4a8abe94bf6a40aed8ee",
       "version_major": 2,
       "version_minor": 0
      },
      "text/plain": [
       "  0%|          | 0/1000 [00:00<?, ?it/s]"
      ]
     },
     "metadata": {},
     "output_type": "display_data"
    },
    {
     "name": "stdout",
     "output_type": "stream",
     "text": [
      "https://www.bitstamp.net/api/v2/ohlc/ltcusd/?&currency_pair=ltcusd&step=1800&limit=1000&start=1548979200\n",
      "Downloaded from 2019-02-01 00:00:00(1548979200) to 2019-02-21 19:30:00(1550777400) 47.86\n",
      "Processing 1000 of ltcusd\n"
     ]
    },
    {
     "data": {
      "application/vnd.jupyter.widget-view+json": {
       "model_id": "3b48688c5321413cb50847fec389f3cd",
       "version_major": 2,
       "version_minor": 0
      },
      "text/plain": [
       "  0%|          | 0/1000 [00:00<?, ?it/s]"
      ]
     },
     "metadata": {},
     "output_type": "display_data"
    },
    {
     "name": "stdout",
     "output_type": "stream",
     "text": [
      "https://www.bitstamp.net/api/v2/ohlc/ltcbtc/?&currency_pair=ltcbtc&step=1800&limit=1000&start=1548979200\n",
      "Downloaded from 2019-02-01 00:00:00(1548979200) to 2019-02-21 19:30:00(1550777400) 0.01233400\n",
      "Processing 1000 of ltcbtc\n"
     ]
    },
    {
     "data": {
      "application/vnd.jupyter.widget-view+json": {
       "model_id": "ef49625290c2476f9d51fc59616cc65c",
       "version_major": 2,
       "version_minor": 0
      },
      "text/plain": [
       "  0%|          | 0/1000 [00:00<?, ?it/s]"
      ]
     },
     "metadata": {},
     "output_type": "display_data"
    },
    {
     "name": "stdout",
     "output_type": "stream",
     "text": [
      "https://www.bitstamp.net/api/v2/ohlc/btcusd/?&currency_pair=btcusd&step=1800&limit=1000&start=1580515200\n",
      "Downloaded from 2020-02-01 00:00:00(1580515200) to 2020-02-21 19:30:00(1582313400) 9697.33\n",
      "Processing 1000 of btcusd\n"
     ]
    },
    {
     "data": {
      "application/vnd.jupyter.widget-view+json": {
       "model_id": "37c40005ade24366b0af07537437ad09",
       "version_major": 2,
       "version_minor": 0
      },
      "text/plain": [
       "  0%|          | 0/1000 [00:00<?, ?it/s]"
      ]
     },
     "metadata": {},
     "output_type": "display_data"
    },
    {
     "name": "stdout",
     "output_type": "stream",
     "text": [
      "https://www.bitstamp.net/api/v2/ohlc/ethusd/?&currency_pair=ethusd&step=1800&limit=1000&start=1580515200\n",
      "Downloaded from 2020-02-01 00:00:00(1580515200) to 2020-02-21 19:30:00(1582313400) 264.40\n",
      "Processing 1000 of ethusd\n"
     ]
    },
    {
     "data": {
      "application/vnd.jupyter.widget-view+json": {
       "model_id": "d60c0e2fe68d44dfab097e817f9b84c6",
       "version_major": 2,
       "version_minor": 0
      },
      "text/plain": [
       "  0%|          | 0/1000 [00:00<?, ?it/s]"
      ]
     },
     "metadata": {},
     "output_type": "display_data"
    },
    {
     "name": "stdout",
     "output_type": "stream",
     "text": [
      "https://www.bitstamp.net/api/v2/ohlc/ltcusd/?&currency_pair=ltcusd&step=1800&limit=1000&start=1580515200\n",
      "Downloaded from 2020-02-01 00:00:00(1580515200) to 2020-02-21 19:30:00(1582313400) 73.61\n",
      "Processing 1000 of ltcusd\n"
     ]
    },
    {
     "data": {
      "application/vnd.jupyter.widget-view+json": {
       "model_id": "f32a37083cae4a6a823a40f8ba0c6dfb",
       "version_major": 2,
       "version_minor": 0
      },
      "text/plain": [
       "  0%|          | 0/1000 [00:00<?, ?it/s]"
      ]
     },
     "metadata": {},
     "output_type": "display_data"
    },
    {
     "name": "stdout",
     "output_type": "stream",
     "text": [
      "https://www.bitstamp.net/api/v2/ohlc/ltcbtc/?&currency_pair=ltcbtc&step=1800&limit=1000&start=1580515200\n",
      "Downloaded from 2020-02-01 00:00:00(1580515200) to 2020-02-21 19:30:00(1582313400) 0.00753763\n",
      "Processing 1000 of ltcbtc\n"
     ]
    },
    {
     "data": {
      "application/vnd.jupyter.widget-view+json": {
       "model_id": "8a73100dd9e04143a65104698ef7f1e8",
       "version_major": 2,
       "version_minor": 0
      },
      "text/plain": [
       "  0%|          | 0/1000 [00:00<?, ?it/s]"
      ]
     },
     "metadata": {},
     "output_type": "display_data"
    },
    {
     "name": "stdout",
     "output_type": "stream",
     "text": [
      "https://www.bitstamp.net/api/v2/ohlc/btcusd/?&currency_pair=btcusd&step=1800&limit=1000&start=1612137600\n",
      "Downloaded from 2021-02-01 00:00:00(1612137600) to 2021-02-21 19:30:00(1613935800) 58232.98\n",
      "Processing 1000 of btcusd\n"
     ]
    },
    {
     "data": {
      "application/vnd.jupyter.widget-view+json": {
       "model_id": "3cb7e2994c6b4baca29ac60cf16bf0f6",
       "version_major": 2,
       "version_minor": 0
      },
      "text/plain": [
       "  0%|          | 0/1000 [00:00<?, ?it/s]"
      ]
     },
     "metadata": {},
     "output_type": "display_data"
    },
    {
     "name": "stdout",
     "output_type": "stream",
     "text": [
      "https://www.bitstamp.net/api/v2/ohlc/ethusd/?&currency_pair=ethusd&step=1800&limit=1000&start=1612137600\n",
      "Downloaded from 2021-02-01 00:00:00(1612137600) to 2021-02-21 19:30:00(1613935800) 1971.83\n",
      "Processing 1000 of ethusd\n"
     ]
    },
    {
     "data": {
      "application/vnd.jupyter.widget-view+json": {
       "model_id": "51cd69bd0ec2400f8363b2f2d0663d50",
       "version_major": 2,
       "version_minor": 0
      },
      "text/plain": [
       "  0%|          | 0/1000 [00:00<?, ?it/s]"
      ]
     },
     "metadata": {},
     "output_type": "display_data"
    },
    {
     "name": "stdout",
     "output_type": "stream",
     "text": [
      "https://www.bitstamp.net/api/v2/ohlc/ltcusd/?&currency_pair=ltcusd&step=1800&limit=1000&start=1612137600\n",
      "Downloaded from 2021-02-01 00:00:00(1612137600) to 2021-02-21 19:30:00(1613935800) 232.85\n",
      "Processing 1000 of ltcusd\n"
     ]
    },
    {
     "data": {
      "application/vnd.jupyter.widget-view+json": {
       "model_id": "4491b933bc3340ea98eaad66a169971e",
       "version_major": 2,
       "version_minor": 0
      },
      "text/plain": [
       "  0%|          | 0/1000 [00:00<?, ?it/s]"
      ]
     },
     "metadata": {},
     "output_type": "display_data"
    },
    {
     "name": "stdout",
     "output_type": "stream",
     "text": [
      "https://www.bitstamp.net/api/v2/ohlc/ltcbtc/?&currency_pair=ltcbtc&step=1800&limit=1000&start=1612137600\n",
      "Downloaded from 2021-02-01 00:00:00(1612137600) to 2021-02-21 19:30:00(1613935800) 0.00399236\n",
      "Processing 1000 of ltcbtc\n"
     ]
    },
    {
     "data": {
      "application/vnd.jupyter.widget-view+json": {
       "model_id": "9281b32631eb40eba118a54ef77ded69",
       "version_major": 2,
       "version_minor": 0
      },
      "text/plain": [
       "  0%|          | 0/1000 [00:00<?, ?it/s]"
      ]
     },
     "metadata": {},
     "output_type": "display_data"
    },
    {
     "name": "stdout",
     "output_type": "stream",
     "text": [
      "https://www.bitstamp.net/api/v2/ohlc/btcusd/?&currency_pair=btcusd&step=1800&limit=1000&start=1623711600\n",
      "https://www.bitstamp.net/api/v2/ohlc/btcusd/?&currency_pair=btcusd&step=1800&limit=1000&start=1625511600\n",
      "Downloaded from 2021-06-15 00:00:00(1623711600) to 2021-07-15 00:00:00(1626303600) 32978.97\n",
      "Processing 1441 of btcusd\n"
     ]
    },
    {
     "data": {
      "application/vnd.jupyter.widget-view+json": {
       "model_id": "969fb1cc432c4244b37266675817c90a",
       "version_major": 2,
       "version_minor": 0
      },
      "text/plain": [
       "  0%|          | 0/1441 [00:00<?, ?it/s]"
      ]
     },
     "metadata": {},
     "output_type": "display_data"
    },
    {
     "name": "stdout",
     "output_type": "stream",
     "text": [
      "https://www.bitstamp.net/api/v2/ohlc/ethusd/?&currency_pair=ethusd&step=1800&limit=1000&start=1623711600\n",
      "https://www.bitstamp.net/api/v2/ohlc/ethusd/?&currency_pair=ethusd&step=1800&limit=1000&start=1625511600\n",
      "Downloaded from 2021-06-15 00:00:00(1623711600) to 2021-07-15 00:00:00(1626303600) 2005.17\n",
      "Processing 1441 of ethusd\n"
     ]
    },
    {
     "data": {
      "application/vnd.jupyter.widget-view+json": {
       "model_id": "f634ad218f4c4f7ead3581229985d4d4",
       "version_major": 2,
       "version_minor": 0
      },
      "text/plain": [
       "  0%|          | 0/1441 [00:00<?, ?it/s]"
      ]
     },
     "metadata": {},
     "output_type": "display_data"
    },
    {
     "name": "stdout",
     "output_type": "stream",
     "text": [
      "https://www.bitstamp.net/api/v2/ohlc/ltcusd/?&currency_pair=ltcusd&step=1800&limit=1000&start=1623711600\n",
      "https://www.bitstamp.net/api/v2/ohlc/ltcusd/?&currency_pair=ltcusd&step=1800&limit=1000&start=1625511600\n",
      "Downloaded from 2021-06-15 00:00:00(1623711600) to 2021-07-15 00:00:00(1626303600) 131.22\n",
      "Processing 1441 of ltcusd\n"
     ]
    },
    {
     "data": {
      "application/vnd.jupyter.widget-view+json": {
       "model_id": "b7c54f5c6e254b7a86a7b15f5d710014",
       "version_major": 2,
       "version_minor": 0
      },
      "text/plain": [
       "  0%|          | 0/1441 [00:00<?, ?it/s]"
      ]
     },
     "metadata": {},
     "output_type": "display_data"
    },
    {
     "name": "stdout",
     "output_type": "stream",
     "text": [
      "https://www.bitstamp.net/api/v2/ohlc/ltcbtc/?&currency_pair=ltcbtc&step=1800&limit=1000&start=1623711600\n",
      "https://www.bitstamp.net/api/v2/ohlc/ltcbtc/?&currency_pair=ltcbtc&step=1800&limit=1000&start=1625511600\n",
      "Downloaded from 2021-06-15 00:00:00(1623711600) to 2021-07-15 00:00:00(1626303600) 0.00398347\n",
      "Processing 1441 of ltcbtc\n"
     ]
    },
    {
     "data": {
      "application/vnd.jupyter.widget-view+json": {
       "model_id": "62542161f9304c21aeca7cfd2701eb85",
       "version_major": 2,
       "version_minor": 0
      },
      "text/plain": [
       "  0%|          | 0/1441 [00:00<?, ?it/s]"
      ]
     },
     "metadata": {},
     "output_type": "display_data"
    },
    {
     "name": "stdout",
     "output_type": "stream",
     "text": [
      "data/online20_30 -> OnLineDataProvider (val_keys = {'btcusd': 3, 'ethusd': 3, 'ltcusd': 3, 'ltcbtc': 3}, train_data = 2 , data_detail = DataDetail (windows = 20, minutes = 30, steps_ahead = 1)))\n",
      "https://www.bitstamp.net/api/v2/ohlc/btcusd/?&currency_pair=btcusd&step=1800&limit=1000&start=1622502000\n",
      "Downloaded from 2021-06-01 00:00:00(1622502000) to 2021-06-21 19:30:00(1624300200) 32470.01\n",
      "Processing 1000 of btcusd\n"
     ]
    },
    {
     "data": {
      "application/vnd.jupyter.widget-view+json": {
       "model_id": "08176a8cd4914ec29a0be7398fea8596",
       "version_major": 2,
       "version_minor": 0
      },
      "text/plain": [
       "  0%|          | 0/1000 [00:00<?, ?it/s]"
      ]
     },
     "metadata": {},
     "output_type": "display_data"
    },
    {
     "name": "stdout",
     "output_type": "stream",
     "text": [
      "https://www.bitstamp.net/api/v2/ohlc/ethusd/?&currency_pair=ethusd&step=1800&limit=1000&start=1622502000\n",
      "Downloaded from 2021-06-01 00:00:00(1622502000) to 2021-06-21 19:30:00(1624300200) 1929.00\n",
      "Processing 1000 of ethusd\n"
     ]
    },
    {
     "data": {
      "application/vnd.jupyter.widget-view+json": {
       "model_id": "e24850768de443258bed73e219ae6f2d",
       "version_major": 2,
       "version_minor": 0
      },
      "text/plain": [
       "  0%|          | 0/1000 [00:00<?, ?it/s]"
      ]
     },
     "metadata": {},
     "output_type": "display_data"
    },
    {
     "name": "stdout",
     "output_type": "stream",
     "text": [
      "https://www.bitstamp.net/api/v2/ohlc/ltcusd/?&currency_pair=ltcusd&step=1800&limit=1000&start=1622502000\n",
      "Downloaded from 2021-06-01 00:00:00(1622502000) to 2021-06-21 19:30:00(1624300200) 133.00\n",
      "Processing 1000 of ltcusd\n"
     ]
    },
    {
     "data": {
      "application/vnd.jupyter.widget-view+json": {
       "model_id": "98fe7663fa0e4a5f84ea4cf1e12612cb",
       "version_major": 2,
       "version_minor": 0
      },
      "text/plain": [
       "  0%|          | 0/1000 [00:00<?, ?it/s]"
      ]
     },
     "metadata": {},
     "output_type": "display_data"
    },
    {
     "name": "stdout",
     "output_type": "stream",
     "text": [
      "https://www.bitstamp.net/api/v2/ohlc/ltcbtc/?&currency_pair=ltcbtc&step=1800&limit=1000&start=1622502000\n",
      "Downloaded from 2021-06-01 00:00:00(1622502000) to 2021-06-21 19:30:00(1624300200) 0.00409365\n",
      "Processing 1000 of ltcbtc\n"
     ]
    },
    {
     "data": {
      "application/vnd.jupyter.widget-view+json": {
       "model_id": "86815c87cbe446c1b71886f34611c01f",
       "version_major": 2,
       "version_minor": 0
      },
      "text/plain": [
       "  0%|          | 0/1000 [00:00<?, ?it/s]"
      ]
     },
     "metadata": {},
     "output_type": "display_data"
    },
    {
     "name": "stdout",
     "output_type": "stream",
     "text": [
      "https://www.bitstamp.net/api/v2/ohlc/btcusd/?&currency_pair=btcusd&step=1800&limit=1000&start=1590966000\n",
      "Downloaded from 2020-06-01 00:00:00(1590966000) to 2020-06-21 19:30:00(1592764200) 9325.43\n",
      "Processing 1000 of btcusd\n"
     ]
    },
    {
     "data": {
      "application/vnd.jupyter.widget-view+json": {
       "model_id": "b38b1544a1d94946af3e40d1b88b547a",
       "version_major": 2,
       "version_minor": 0
      },
      "text/plain": [
       "  0%|          | 0/1000 [00:00<?, ?it/s]"
      ]
     },
     "metadata": {},
     "output_type": "display_data"
    },
    {
     "name": "stdout",
     "output_type": "stream",
     "text": [
      "https://www.bitstamp.net/api/v2/ohlc/ethusd/?&currency_pair=ethusd&step=1800&limit=1000&start=1590966000\n",
      "Downloaded from 2020-06-01 00:00:00(1590966000) to 2020-06-21 19:30:00(1592764200) 229.34\n",
      "Processing 1000 of ethusd\n"
     ]
    },
    {
     "data": {
      "application/vnd.jupyter.widget-view+json": {
       "model_id": "794c98ecc4d54f0e8ff9fd2a07757ccf",
       "version_major": 2,
       "version_minor": 0
      },
      "text/plain": [
       "  0%|          | 0/1000 [00:00<?, ?it/s]"
      ]
     },
     "metadata": {},
     "output_type": "display_data"
    },
    {
     "name": "stdout",
     "output_type": "stream",
     "text": [
      "https://www.bitstamp.net/api/v2/ohlc/ltcusd/?&currency_pair=ltcusd&step=1800&limit=1000&start=1590966000\n",
      "Downloaded from 2020-06-01 00:00:00(1590966000) to 2020-06-21 19:30:00(1592764200) 43.07\n",
      "Processing 1000 of ltcusd\n"
     ]
    },
    {
     "data": {
      "application/vnd.jupyter.widget-view+json": {
       "model_id": "fd9a5e259e8a449b976ea9d6fc9167f8",
       "version_major": 2,
       "version_minor": 0
      },
      "text/plain": [
       "  0%|          | 0/1000 [00:00<?, ?it/s]"
      ]
     },
     "metadata": {},
     "output_type": "display_data"
    },
    {
     "name": "stdout",
     "output_type": "stream",
     "text": [
      "https://www.bitstamp.net/api/v2/ohlc/ltcbtc/?&currency_pair=ltcbtc&step=1800&limit=1000&start=1590966000\n",
      "Downloaded from 2020-06-01 00:00:00(1590966000) to 2020-06-21 19:30:00(1592764200) 0.00462141\n",
      "Processing 1000 of ltcbtc\n"
     ]
    },
    {
     "data": {
      "application/vnd.jupyter.widget-view+json": {
       "model_id": "9fe26133bced4283a08394f3a52b937a",
       "version_major": 2,
       "version_minor": 0
      },
      "text/plain": [
       "  0%|          | 0/1000 [00:00<?, ?it/s]"
      ]
     },
     "metadata": {},
     "output_type": "display_data"
    },
    {
     "name": "stdout",
     "output_type": "stream",
     "text": [
      "https://www.bitstamp.net/api/v2/ohlc/btcusd/?&currency_pair=btcusd&step=1800&limit=1000&start=1559343600\n",
      "Downloaded from 2019-06-01 00:00:00(1559343600) to 2019-06-21 19:30:00(1561141800) 9940.00\n",
      "Processing 1000 of btcusd\n"
     ]
    },
    {
     "data": {
      "application/vnd.jupyter.widget-view+json": {
       "model_id": "5e76312a4e954992b7fc09a42e4c0e58",
       "version_major": 2,
       "version_minor": 0
      },
      "text/plain": [
       "  0%|          | 0/1000 [00:00<?, ?it/s]"
      ]
     },
     "metadata": {},
     "output_type": "display_data"
    },
    {
     "name": "stdout",
     "output_type": "stream",
     "text": [
      "https://www.bitstamp.net/api/v2/ohlc/ethusd/?&currency_pair=ethusd&step=1800&limit=1000&start=1559343600\n",
      "Downloaded from 2019-06-01 00:00:00(1559343600) to 2019-06-21 19:30:00(1561141800) 292.06\n",
      "Processing 1000 of ethusd\n"
     ]
    },
    {
     "data": {
      "application/vnd.jupyter.widget-view+json": {
       "model_id": "fec68611e4174e53a20c451056c9959b",
       "version_major": 2,
       "version_minor": 0
      },
      "text/plain": [
       "  0%|          | 0/1000 [00:00<?, ?it/s]"
      ]
     },
     "metadata": {},
     "output_type": "display_data"
    },
    {
     "name": "stdout",
     "output_type": "stream",
     "text": [
      "https://www.bitstamp.net/api/v2/ohlc/ltcusd/?&currency_pair=ltcusd&step=1800&limit=1000&start=1559343600\n",
      "Downloaded from 2019-06-01 00:00:00(1559343600) to 2019-06-21 19:30:00(1561141800) 138.41\n",
      "Processing 1000 of ltcusd\n"
     ]
    },
    {
     "data": {
      "application/vnd.jupyter.widget-view+json": {
       "model_id": "769200ec78464f389b655cac77db0c45",
       "version_major": 2,
       "version_minor": 0
      },
      "text/plain": [
       "  0%|          | 0/1000 [00:00<?, ?it/s]"
      ]
     },
     "metadata": {},
     "output_type": "display_data"
    },
    {
     "name": "stdout",
     "output_type": "stream",
     "text": [
      "https://www.bitstamp.net/api/v2/ohlc/ltcbtc/?&currency_pair=ltcbtc&step=1800&limit=1000&start=1559343600\n",
      "Downloaded from 2019-06-01 00:00:00(1559343600) to 2019-06-21 19:30:00(1561141800) 0.01394473\n",
      "Processing 1000 of ltcbtc\n"
     ]
    },
    {
     "data": {
      "application/vnd.jupyter.widget-view+json": {
       "model_id": "1266db768ad24d13abc332d96027eaa9",
       "version_major": 2,
       "version_minor": 0
      },
      "text/plain": [
       "  0%|          | 0/1000 [00:00<?, ?it/s]"
      ]
     },
     "metadata": {},
     "output_type": "display_data"
    },
    {
     "name": "stdout",
     "output_type": "stream",
     "text": [
      "https://www.bitstamp.net/api/v2/ohlc/btcusd/?&currency_pair=btcusd&step=1800&limit=1000&start=1527807600\n",
      "Downloaded from 2018-06-01 00:00:00(1527807600) to 2018-06-21 19:30:00(1529605800) 6717.58\n",
      "Processing 1000 of btcusd\n"
     ]
    },
    {
     "data": {
      "application/vnd.jupyter.widget-view+json": {
       "model_id": "934778c82ad04632bf7d0d284381b20f",
       "version_major": 2,
       "version_minor": 0
      },
      "text/plain": [
       "  0%|          | 0/1000 [00:00<?, ?it/s]"
      ]
     },
     "metadata": {},
     "output_type": "display_data"
    },
    {
     "name": "stdout",
     "output_type": "stream",
     "text": [
      "https://www.bitstamp.net/api/v2/ohlc/ethusd/?&currency_pair=ethusd&step=1800&limit=1000&start=1527807600\n",
      "Downloaded from 2018-06-01 00:00:00(1527807600) to 2018-06-21 19:30:00(1529605800) 523.60\n",
      "Processing 1000 of ethusd\n"
     ]
    },
    {
     "data": {
      "application/vnd.jupyter.widget-view+json": {
       "model_id": "d69c721294064cd9b69faa68f6efe46f",
       "version_major": 2,
       "version_minor": 0
      },
      "text/plain": [
       "  0%|          | 0/1000 [00:00<?, ?it/s]"
      ]
     },
     "metadata": {},
     "output_type": "display_data"
    },
    {
     "name": "stdout",
     "output_type": "stream",
     "text": [
      "https://www.bitstamp.net/api/v2/ohlc/ltcusd/?&currency_pair=ltcusd&step=1800&limit=1000&start=1527807600\n",
      "Downloaded from 2018-06-01 00:00:00(1527807600) to 2018-06-21 19:30:00(1529605800) 96.60\n",
      "Processing 1000 of ltcusd\n"
     ]
    },
    {
     "data": {
      "application/vnd.jupyter.widget-view+json": {
       "model_id": "c5599cace4114568af631bc0db28518b",
       "version_major": 2,
       "version_minor": 0
      },
      "text/plain": [
       "  0%|          | 0/1000 [00:00<?, ?it/s]"
      ]
     },
     "metadata": {},
     "output_type": "display_data"
    },
    {
     "name": "stdout",
     "output_type": "stream",
     "text": [
      "https://www.bitstamp.net/api/v2/ohlc/ltcbtc/?&currency_pair=ltcbtc&step=1800&limit=1000&start=1527807600\n",
      "Downloaded from 2018-06-01 00:00:00(1527807600) to 2018-06-21 19:30:00(1529605800) 0.01434149\n",
      "Processing 1000 of ltcbtc\n"
     ]
    },
    {
     "data": {
      "application/vnd.jupyter.widget-view+json": {
       "model_id": "ba1d21e287934199bc4aef6be31ad382",
       "version_major": 2,
       "version_minor": 0
      },
      "text/plain": [
       "  0%|          | 0/1000 [00:00<?, ?it/s]"
      ]
     },
     "metadata": {},
     "output_type": "display_data"
    },
    {
     "name": "stdout",
     "output_type": "stream",
     "text": [
      "https://www.bitstamp.net/api/v2/ohlc/btcusd/?&currency_pair=btcusd&step=1800&limit=1000&start=1517443200\n",
      "Downloaded from 2018-02-01 00:00:00(1517443200) to 2018-02-21 19:30:00(1519241400) 10493.40\n",
      "Processing 1000 of btcusd\n"
     ]
    },
    {
     "data": {
      "application/vnd.jupyter.widget-view+json": {
       "model_id": "835e116bda184639ad686a30ecd3d288",
       "version_major": 2,
       "version_minor": 0
      },
      "text/plain": [
       "  0%|          | 0/1000 [00:00<?, ?it/s]"
      ]
     },
     "metadata": {},
     "output_type": "display_data"
    },
    {
     "name": "stdout",
     "output_type": "stream",
     "text": [
      "https://www.bitstamp.net/api/v2/ohlc/ethusd/?&currency_pair=ethusd&step=1800&limit=1000&start=1517443200\n",
      "Downloaded from 2018-02-01 00:00:00(1517443200) to 2018-02-21 19:30:00(1519241400) 833.63\n",
      "Processing 1000 of ethusd\n"
     ]
    },
    {
     "data": {
      "application/vnd.jupyter.widget-view+json": {
       "model_id": "5e281431bed2443c9d39102beaa215ce",
       "version_major": 2,
       "version_minor": 0
      },
      "text/plain": [
       "  0%|          | 0/1000 [00:00<?, ?it/s]"
      ]
     },
     "metadata": {},
     "output_type": "display_data"
    },
    {
     "name": "stdout",
     "output_type": "stream",
     "text": [
      "https://www.bitstamp.net/api/v2/ohlc/ltcusd/?&currency_pair=ltcusd&step=1800&limit=1000&start=1517443200\n",
      "Downloaded from 2018-02-01 00:00:00(1517443200) to 2018-02-21 19:30:00(1519241400) 211.89\n",
      "Processing 1000 of ltcusd\n"
     ]
    },
    {
     "data": {
      "application/vnd.jupyter.widget-view+json": {
       "model_id": "6b3f740add0c44008357061ceed19b9e",
       "version_major": 2,
       "version_minor": 0
      },
      "text/plain": [
       "  0%|          | 0/1000 [00:00<?, ?it/s]"
      ]
     },
     "metadata": {},
     "output_type": "display_data"
    },
    {
     "name": "stdout",
     "output_type": "stream",
     "text": [
      "https://www.bitstamp.net/api/v2/ohlc/ltcbtc/?&currency_pair=ltcbtc&step=1800&limit=1000&start=1517443200\n",
      "Downloaded from 2018-02-01 00:00:00(1517443200) to 2018-02-21 19:30:00(1519241400) 0.02023969\n",
      "Processing 1000 of ltcbtc\n"
     ]
    },
    {
     "data": {
      "application/vnd.jupyter.widget-view+json": {
       "model_id": "784386879c3f49f8a9faaff452bf08a7",
       "version_major": 2,
       "version_minor": 0
      },
      "text/plain": [
       "  0%|          | 0/1000 [00:00<?, ?it/s]"
      ]
     },
     "metadata": {},
     "output_type": "display_data"
    },
    {
     "name": "stdout",
     "output_type": "stream",
     "text": [
      "https://www.bitstamp.net/api/v2/ohlc/btcusd/?&currency_pair=btcusd&step=1800&limit=1000&start=1548979200\n",
      "Downloaded from 2019-02-01 00:00:00(1548979200) to 2019-02-21 19:30:00(1550777400) 3888.76\n",
      "Processing 1000 of btcusd\n"
     ]
    },
    {
     "data": {
      "application/vnd.jupyter.widget-view+json": {
       "model_id": "2e8a25580f7147a0bab74dc0ca2fef9b",
       "version_major": 2,
       "version_minor": 0
      },
      "text/plain": [
       "  0%|          | 0/1000 [00:00<?, ?it/s]"
      ]
     },
     "metadata": {},
     "output_type": "display_data"
    },
    {
     "name": "stdout",
     "output_type": "stream",
     "text": [
      "https://www.bitstamp.net/api/v2/ohlc/ethusd/?&currency_pair=ethusd&step=1800&limit=1000&start=1548979200\n",
      "Downloaded from 2019-02-01 00:00:00(1548979200) to 2019-02-21 19:30:00(1550777400) 142.72\n",
      "Processing 1000 of ethusd\n"
     ]
    },
    {
     "data": {
      "application/vnd.jupyter.widget-view+json": {
       "model_id": "11314c010e974c419d9e40bf84e9d5b8",
       "version_major": 2,
       "version_minor": 0
      },
      "text/plain": [
       "  0%|          | 0/1000 [00:00<?, ?it/s]"
      ]
     },
     "metadata": {},
     "output_type": "display_data"
    },
    {
     "name": "stdout",
     "output_type": "stream",
     "text": [
      "https://www.bitstamp.net/api/v2/ohlc/ltcusd/?&currency_pair=ltcusd&step=1800&limit=1000&start=1548979200\n",
      "Downloaded from 2019-02-01 00:00:00(1548979200) to 2019-02-21 19:30:00(1550777400) 47.86\n",
      "Processing 1000 of ltcusd\n"
     ]
    },
    {
     "data": {
      "application/vnd.jupyter.widget-view+json": {
       "model_id": "3e43d3841ea4425a8e70556c99f1a4ba",
       "version_major": 2,
       "version_minor": 0
      },
      "text/plain": [
       "  0%|          | 0/1000 [00:00<?, ?it/s]"
      ]
     },
     "metadata": {},
     "output_type": "display_data"
    },
    {
     "name": "stdout",
     "output_type": "stream",
     "text": [
      "https://www.bitstamp.net/api/v2/ohlc/ltcbtc/?&currency_pair=ltcbtc&step=1800&limit=1000&start=1548979200\n",
      "Downloaded from 2019-02-01 00:00:00(1548979200) to 2019-02-21 19:30:00(1550777400) 0.01233400\n",
      "Processing 1000 of ltcbtc\n"
     ]
    },
    {
     "data": {
      "application/vnd.jupyter.widget-view+json": {
       "model_id": "4be42099b75a4aeea4beb2fabc1a4279",
       "version_major": 2,
       "version_minor": 0
      },
      "text/plain": [
       "  0%|          | 0/1000 [00:00<?, ?it/s]"
      ]
     },
     "metadata": {},
     "output_type": "display_data"
    },
    {
     "name": "stdout",
     "output_type": "stream",
     "text": [
      "https://www.bitstamp.net/api/v2/ohlc/btcusd/?&currency_pair=btcusd&step=1800&limit=1000&start=1580515200\n",
      "Downloaded from 2020-02-01 00:00:00(1580515200) to 2020-02-21 19:30:00(1582313400) 9697.33\n",
      "Processing 1000 of btcusd\n"
     ]
    },
    {
     "data": {
      "application/vnd.jupyter.widget-view+json": {
       "model_id": "b2d77de4cd024dc58527f11bfd1e6e2f",
       "version_major": 2,
       "version_minor": 0
      },
      "text/plain": [
       "  0%|          | 0/1000 [00:00<?, ?it/s]"
      ]
     },
     "metadata": {},
     "output_type": "display_data"
    },
    {
     "name": "stdout",
     "output_type": "stream",
     "text": [
      "https://www.bitstamp.net/api/v2/ohlc/ethusd/?&currency_pair=ethusd&step=1800&limit=1000&start=1580515200\n",
      "Downloaded from 2020-02-01 00:00:00(1580515200) to 2020-02-21 19:30:00(1582313400) 264.40\n",
      "Processing 1000 of ethusd\n"
     ]
    },
    {
     "data": {
      "application/vnd.jupyter.widget-view+json": {
       "model_id": "6ac4e8f2bc3b4da7a63f0ac3a727ec88",
       "version_major": 2,
       "version_minor": 0
      },
      "text/plain": [
       "  0%|          | 0/1000 [00:00<?, ?it/s]"
      ]
     },
     "metadata": {},
     "output_type": "display_data"
    },
    {
     "name": "stdout",
     "output_type": "stream",
     "text": [
      "https://www.bitstamp.net/api/v2/ohlc/ltcusd/?&currency_pair=ltcusd&step=1800&limit=1000&start=1580515200\n",
      "Downloaded from 2020-02-01 00:00:00(1580515200) to 2020-02-21 19:30:00(1582313400) 73.61\n",
      "Processing 1000 of ltcusd\n"
     ]
    },
    {
     "data": {
      "application/vnd.jupyter.widget-view+json": {
       "model_id": "e9302f63fa30412095ec37fab0900710",
       "version_major": 2,
       "version_minor": 0
      },
      "text/plain": [
       "  0%|          | 0/1000 [00:00<?, ?it/s]"
      ]
     },
     "metadata": {},
     "output_type": "display_data"
    },
    {
     "name": "stdout",
     "output_type": "stream",
     "text": [
      "https://www.bitstamp.net/api/v2/ohlc/ltcbtc/?&currency_pair=ltcbtc&step=1800&limit=1000&start=1580515200\n",
      "Downloaded from 2020-02-01 00:00:00(1580515200) to 2020-02-21 19:30:00(1582313400) 0.00753763\n",
      "Processing 1000 of ltcbtc\n"
     ]
    },
    {
     "data": {
      "application/vnd.jupyter.widget-view+json": {
       "model_id": "b981d958a5a94e73937486ce1ebb1b55",
       "version_major": 2,
       "version_minor": 0
      },
      "text/plain": [
       "  0%|          | 0/1000 [00:00<?, ?it/s]"
      ]
     },
     "metadata": {},
     "output_type": "display_data"
    },
    {
     "name": "stdout",
     "output_type": "stream",
     "text": [
      "https://www.bitstamp.net/api/v2/ohlc/btcusd/?&currency_pair=btcusd&step=1800&limit=1000&start=1612137600\n",
      "Downloaded from 2021-02-01 00:00:00(1612137600) to 2021-02-21 19:30:00(1613935800) 58232.98\n",
      "Processing 1000 of btcusd\n"
     ]
    },
    {
     "data": {
      "application/vnd.jupyter.widget-view+json": {
       "model_id": "e89f30c301504f54ad53d71272727ad4",
       "version_major": 2,
       "version_minor": 0
      },
      "text/plain": [
       "  0%|          | 0/1000 [00:00<?, ?it/s]"
      ]
     },
     "metadata": {},
     "output_type": "display_data"
    },
    {
     "name": "stdout",
     "output_type": "stream",
     "text": [
      "https://www.bitstamp.net/api/v2/ohlc/ethusd/?&currency_pair=ethusd&step=1800&limit=1000&start=1612137600\n",
      "Downloaded from 2021-02-01 00:00:00(1612137600) to 2021-02-21 19:30:00(1613935800) 1971.83\n",
      "Processing 1000 of ethusd\n"
     ]
    },
    {
     "data": {
      "application/vnd.jupyter.widget-view+json": {
       "model_id": "be132c39ef634bea9038f8d30d04cdb3",
       "version_major": 2,
       "version_minor": 0
      },
      "text/plain": [
       "  0%|          | 0/1000 [00:00<?, ?it/s]"
      ]
     },
     "metadata": {},
     "output_type": "display_data"
    },
    {
     "name": "stdout",
     "output_type": "stream",
     "text": [
      "https://www.bitstamp.net/api/v2/ohlc/ltcusd/?&currency_pair=ltcusd&step=1800&limit=1000&start=1612137600\n",
      "Downloaded from 2021-02-01 00:00:00(1612137600) to 2021-02-21 19:30:00(1613935800) 232.85\n",
      "Processing 1000 of ltcusd\n"
     ]
    },
    {
     "data": {
      "application/vnd.jupyter.widget-view+json": {
       "model_id": "4dd45afd954b45db960e9da5ab69b8ed",
       "version_major": 2,
       "version_minor": 0
      },
      "text/plain": [
       "  0%|          | 0/1000 [00:00<?, ?it/s]"
      ]
     },
     "metadata": {},
     "output_type": "display_data"
    },
    {
     "name": "stdout",
     "output_type": "stream",
     "text": [
      "https://www.bitstamp.net/api/v2/ohlc/ltcbtc/?&currency_pair=ltcbtc&step=1800&limit=1000&start=1612137600\n",
      "Downloaded from 2021-02-01 00:00:00(1612137600) to 2021-02-21 19:30:00(1613935800) 0.00399236\n",
      "Processing 1000 of ltcbtc\n"
     ]
    },
    {
     "data": {
      "application/vnd.jupyter.widget-view+json": {
       "model_id": "7fdcf4fd933b464384b98bdf3ccc7029",
       "version_major": 2,
       "version_minor": 0
      },
      "text/plain": [
       "  0%|          | 0/1000 [00:00<?, ?it/s]"
      ]
     },
     "metadata": {},
     "output_type": "display_data"
    },
    {
     "name": "stdout",
     "output_type": "stream",
     "text": [
      "https://www.bitstamp.net/api/v2/ohlc/btcusd/?&currency_pair=btcusd&step=1800&limit=1000&start=1623711600\n",
      "https://www.bitstamp.net/api/v2/ohlc/btcusd/?&currency_pair=btcusd&step=1800&limit=1000&start=1625511600\n",
      "Downloaded from 2021-06-15 00:00:00(1623711600) to 2021-07-15 00:00:00(1626303600) 32978.97\n",
      "Processing 1441 of btcusd\n"
     ]
    },
    {
     "data": {
      "application/vnd.jupyter.widget-view+json": {
       "model_id": "5ce5a73f53de4f1eb81069c071c50de8",
       "version_major": 2,
       "version_minor": 0
      },
      "text/plain": [
       "  0%|          | 0/1441 [00:00<?, ?it/s]"
      ]
     },
     "metadata": {},
     "output_type": "display_data"
    },
    {
     "name": "stdout",
     "output_type": "stream",
     "text": [
      "https://www.bitstamp.net/api/v2/ohlc/ethusd/?&currency_pair=ethusd&step=1800&limit=1000&start=1623711600\n",
      "https://www.bitstamp.net/api/v2/ohlc/ethusd/?&currency_pair=ethusd&step=1800&limit=1000&start=1625511600\n",
      "Downloaded from 2021-06-15 00:00:00(1623711600) to 2021-07-15 00:00:00(1626303600) 2005.17\n",
      "Processing 1441 of ethusd\n"
     ]
    },
    {
     "data": {
      "application/vnd.jupyter.widget-view+json": {
       "model_id": "29379818067744c28f475dda44d1b0e2",
       "version_major": 2,
       "version_minor": 0
      },
      "text/plain": [
       "  0%|          | 0/1441 [00:00<?, ?it/s]"
      ]
     },
     "metadata": {},
     "output_type": "display_data"
    },
    {
     "name": "stdout",
     "output_type": "stream",
     "text": [
      "https://www.bitstamp.net/api/v2/ohlc/ltcusd/?&currency_pair=ltcusd&step=1800&limit=1000&start=1623711600\n",
      "https://www.bitstamp.net/api/v2/ohlc/ltcusd/?&currency_pair=ltcusd&step=1800&limit=1000&start=1625511600\n",
      "Downloaded from 2021-06-15 00:00:00(1623711600) to 2021-07-15 00:00:00(1626303600) 131.22\n",
      "Processing 1441 of ltcusd\n"
     ]
    },
    {
     "data": {
      "application/vnd.jupyter.widget-view+json": {
       "model_id": "8ec2aa76b4dd409595d94221baecb3a7",
       "version_major": 2,
       "version_minor": 0
      },
      "text/plain": [
       "  0%|          | 0/1441 [00:00<?, ?it/s]"
      ]
     },
     "metadata": {},
     "output_type": "display_data"
    },
    {
     "name": "stdout",
     "output_type": "stream",
     "text": [
      "https://www.bitstamp.net/api/v2/ohlc/ltcbtc/?&currency_pair=ltcbtc&step=1800&limit=1000&start=1623711600\n",
      "https://www.bitstamp.net/api/v2/ohlc/ltcbtc/?&currency_pair=ltcbtc&step=1800&limit=1000&start=1625511600\n",
      "Downloaded from 2021-06-15 00:00:00(1623711600) to 2021-07-15 00:00:00(1626303600) 0.00398347\n",
      "Processing 1441 of ltcbtc\n"
     ]
    },
    {
     "data": {
      "application/vnd.jupyter.widget-view+json": {
       "model_id": "a1b215a458d9478db2bc70a8d602d4d5",
       "version_major": 2,
       "version_minor": 0
      },
      "text/plain": [
       "  0%|          | 0/1441 [00:00<?, ?it/s]"
      ]
     },
     "metadata": {},
     "output_type": "display_data"
    },
    {
     "name": "stdout",
     "output_type": "stream",
     "text": [
      "data/online30_30 -> OnLineDataProvider (val_keys = {'btcusd': 3, 'ethusd': 3, 'ltcusd': 3, 'ltcbtc': 3}, train_data = 2 , data_detail = DataDetail (windows = 30, minutes = 30, steps_ahead = 1)))\n",
      "https://www.bitstamp.net/api/v2/ohlc/btcusd/?&currency_pair=btcusd&step=1800&limit=1000&start=1622502000\n",
      "Downloaded from 2021-06-01 00:00:00(1622502000) to 2021-06-21 19:30:00(1624300200) 32470.01\n",
      "Processing 1000 of btcusd\n"
     ]
    },
    {
     "data": {
      "application/vnd.jupyter.widget-view+json": {
       "model_id": "9d886d09ab864a41b7088d5f791c42f8",
       "version_major": 2,
       "version_minor": 0
      },
      "text/plain": [
       "  0%|          | 0/1000 [00:00<?, ?it/s]"
      ]
     },
     "metadata": {},
     "output_type": "display_data"
    },
    {
     "name": "stdout",
     "output_type": "stream",
     "text": [
      "https://www.bitstamp.net/api/v2/ohlc/ethusd/?&currency_pair=ethusd&step=1800&limit=1000&start=1622502000\n",
      "Downloaded from 2021-06-01 00:00:00(1622502000) to 2021-06-21 19:30:00(1624300200) 1929.00\n",
      "Processing 1000 of ethusd\n"
     ]
    },
    {
     "data": {
      "application/vnd.jupyter.widget-view+json": {
       "model_id": "657289816c364e4183403b43dfbba04e",
       "version_major": 2,
       "version_minor": 0
      },
      "text/plain": [
       "  0%|          | 0/1000 [00:00<?, ?it/s]"
      ]
     },
     "metadata": {},
     "output_type": "display_data"
    },
    {
     "name": "stdout",
     "output_type": "stream",
     "text": [
      "https://www.bitstamp.net/api/v2/ohlc/ltcusd/?&currency_pair=ltcusd&step=1800&limit=1000&start=1622502000\n",
      "Downloaded from 2021-06-01 00:00:00(1622502000) to 2021-06-21 19:30:00(1624300200) 133.00\n",
      "Processing 1000 of ltcusd\n"
     ]
    },
    {
     "data": {
      "application/vnd.jupyter.widget-view+json": {
       "model_id": "460e35479a7c4cc3ba5e1f3f0f5480f1",
       "version_major": 2,
       "version_minor": 0
      },
      "text/plain": [
       "  0%|          | 0/1000 [00:00<?, ?it/s]"
      ]
     },
     "metadata": {},
     "output_type": "display_data"
    },
    {
     "name": "stdout",
     "output_type": "stream",
     "text": [
      "https://www.bitstamp.net/api/v2/ohlc/ltcbtc/?&currency_pair=ltcbtc&step=1800&limit=1000&start=1622502000\n",
      "Downloaded from 2021-06-01 00:00:00(1622502000) to 2021-06-21 19:30:00(1624300200) 0.00409365\n",
      "Processing 1000 of ltcbtc\n"
     ]
    },
    {
     "data": {
      "application/vnd.jupyter.widget-view+json": {
       "model_id": "87d632c3d2d04ffea73e5a1e08674d28",
       "version_major": 2,
       "version_minor": 0
      },
      "text/plain": [
       "  0%|          | 0/1000 [00:00<?, ?it/s]"
      ]
     },
     "metadata": {},
     "output_type": "display_data"
    },
    {
     "name": "stdout",
     "output_type": "stream",
     "text": [
      "https://www.bitstamp.net/api/v2/ohlc/btcusd/?&currency_pair=btcusd&step=1800&limit=1000&start=1590966000\n",
      "Downloaded from 2020-06-01 00:00:00(1590966000) to 2020-06-21 19:30:00(1592764200) 9325.43\n",
      "Processing 1000 of btcusd\n"
     ]
    },
    {
     "data": {
      "application/vnd.jupyter.widget-view+json": {
       "model_id": "a77c94ae9f9042dba8e53f81d74f0f90",
       "version_major": 2,
       "version_minor": 0
      },
      "text/plain": [
       "  0%|          | 0/1000 [00:00<?, ?it/s]"
      ]
     },
     "metadata": {},
     "output_type": "display_data"
    },
    {
     "name": "stdout",
     "output_type": "stream",
     "text": [
      "https://www.bitstamp.net/api/v2/ohlc/ethusd/?&currency_pair=ethusd&step=1800&limit=1000&start=1590966000\n",
      "Downloaded from 2020-06-01 00:00:00(1590966000) to 2020-06-21 19:30:00(1592764200) 229.34\n",
      "Processing 1000 of ethusd\n"
     ]
    },
    {
     "data": {
      "application/vnd.jupyter.widget-view+json": {
       "model_id": "62f5d68b2d374665b0f581ccadf1d94f",
       "version_major": 2,
       "version_minor": 0
      },
      "text/plain": [
       "  0%|          | 0/1000 [00:00<?, ?it/s]"
      ]
     },
     "metadata": {},
     "output_type": "display_data"
    },
    {
     "name": "stdout",
     "output_type": "stream",
     "text": [
      "https://www.bitstamp.net/api/v2/ohlc/ltcusd/?&currency_pair=ltcusd&step=1800&limit=1000&start=1590966000\n",
      "Downloaded from 2020-06-01 00:00:00(1590966000) to 2020-06-21 19:30:00(1592764200) 43.07\n",
      "Processing 1000 of ltcusd\n"
     ]
    },
    {
     "data": {
      "application/vnd.jupyter.widget-view+json": {
       "model_id": "6a0750d03125494aa092a53d680dadd4",
       "version_major": 2,
       "version_minor": 0
      },
      "text/plain": [
       "  0%|          | 0/1000 [00:00<?, ?it/s]"
      ]
     },
     "metadata": {},
     "output_type": "display_data"
    },
    {
     "name": "stdout",
     "output_type": "stream",
     "text": [
      "https://www.bitstamp.net/api/v2/ohlc/ltcbtc/?&currency_pair=ltcbtc&step=1800&limit=1000&start=1590966000\n",
      "Downloaded from 2020-06-01 00:00:00(1590966000) to 2020-06-21 19:30:00(1592764200) 0.00462141\n",
      "Processing 1000 of ltcbtc\n"
     ]
    },
    {
     "data": {
      "application/vnd.jupyter.widget-view+json": {
       "model_id": "14273932231b4711865c00d08d3ad83d",
       "version_major": 2,
       "version_minor": 0
      },
      "text/plain": [
       "  0%|          | 0/1000 [00:00<?, ?it/s]"
      ]
     },
     "metadata": {},
     "output_type": "display_data"
    },
    {
     "name": "stdout",
     "output_type": "stream",
     "text": [
      "https://www.bitstamp.net/api/v2/ohlc/btcusd/?&currency_pair=btcusd&step=1800&limit=1000&start=1559343600\n",
      "Downloaded from 2019-06-01 00:00:00(1559343600) to 2019-06-21 19:30:00(1561141800) 9940.00\n",
      "Processing 1000 of btcusd\n"
     ]
    },
    {
     "data": {
      "application/vnd.jupyter.widget-view+json": {
       "model_id": "774370403e584c3a81af34ef55b51f56",
       "version_major": 2,
       "version_minor": 0
      },
      "text/plain": [
       "  0%|          | 0/1000 [00:00<?, ?it/s]"
      ]
     },
     "metadata": {},
     "output_type": "display_data"
    },
    {
     "name": "stdout",
     "output_type": "stream",
     "text": [
      "https://www.bitstamp.net/api/v2/ohlc/ethusd/?&currency_pair=ethusd&step=1800&limit=1000&start=1559343600\n",
      "Downloaded from 2019-06-01 00:00:00(1559343600) to 2019-06-21 19:30:00(1561141800) 292.06\n",
      "Processing 1000 of ethusd\n"
     ]
    },
    {
     "data": {
      "application/vnd.jupyter.widget-view+json": {
       "model_id": "9e147cb8ec2e4f00aa5718863b4ff4a7",
       "version_major": 2,
       "version_minor": 0
      },
      "text/plain": [
       "  0%|          | 0/1000 [00:00<?, ?it/s]"
      ]
     },
     "metadata": {},
     "output_type": "display_data"
    },
    {
     "name": "stdout",
     "output_type": "stream",
     "text": [
      "https://www.bitstamp.net/api/v2/ohlc/ltcusd/?&currency_pair=ltcusd&step=1800&limit=1000&start=1559343600\n",
      "Downloaded from 2019-06-01 00:00:00(1559343600) to 2019-06-21 19:30:00(1561141800) 138.41\n",
      "Processing 1000 of ltcusd\n"
     ]
    },
    {
     "data": {
      "application/vnd.jupyter.widget-view+json": {
       "model_id": "6582524e0eaa4e9e90164c440c370326",
       "version_major": 2,
       "version_minor": 0
      },
      "text/plain": [
       "  0%|          | 0/1000 [00:00<?, ?it/s]"
      ]
     },
     "metadata": {},
     "output_type": "display_data"
    },
    {
     "name": "stdout",
     "output_type": "stream",
     "text": [
      "https://www.bitstamp.net/api/v2/ohlc/ltcbtc/?&currency_pair=ltcbtc&step=1800&limit=1000&start=1559343600\n",
      "Downloaded from 2019-06-01 00:00:00(1559343600) to 2019-06-21 19:30:00(1561141800) 0.01394473\n",
      "Processing 1000 of ltcbtc\n"
     ]
    },
    {
     "data": {
      "application/vnd.jupyter.widget-view+json": {
       "model_id": "e7e99232976f40d9ac5c38574c28befe",
       "version_major": 2,
       "version_minor": 0
      },
      "text/plain": [
       "  0%|          | 0/1000 [00:00<?, ?it/s]"
      ]
     },
     "metadata": {},
     "output_type": "display_data"
    },
    {
     "name": "stdout",
     "output_type": "stream",
     "text": [
      "https://www.bitstamp.net/api/v2/ohlc/btcusd/?&currency_pair=btcusd&step=1800&limit=1000&start=1527807600\n",
      "Downloaded from 2018-06-01 00:00:00(1527807600) to 2018-06-21 19:30:00(1529605800) 6717.58\n",
      "Processing 1000 of btcusd\n"
     ]
    },
    {
     "data": {
      "application/vnd.jupyter.widget-view+json": {
       "model_id": "406221db77d9468498a498a5315df4d9",
       "version_major": 2,
       "version_minor": 0
      },
      "text/plain": [
       "  0%|          | 0/1000 [00:00<?, ?it/s]"
      ]
     },
     "metadata": {},
     "output_type": "display_data"
    },
    {
     "name": "stdout",
     "output_type": "stream",
     "text": [
      "https://www.bitstamp.net/api/v2/ohlc/ethusd/?&currency_pair=ethusd&step=1800&limit=1000&start=1527807600\n",
      "Downloaded from 2018-06-01 00:00:00(1527807600) to 2018-06-21 19:30:00(1529605800) 523.60\n",
      "Processing 1000 of ethusd\n"
     ]
    },
    {
     "data": {
      "application/vnd.jupyter.widget-view+json": {
       "model_id": "f7a59e25f4ef4a389aa0e58aa612a908",
       "version_major": 2,
       "version_minor": 0
      },
      "text/plain": [
       "  0%|          | 0/1000 [00:00<?, ?it/s]"
      ]
     },
     "metadata": {},
     "output_type": "display_data"
    },
    {
     "name": "stdout",
     "output_type": "stream",
     "text": [
      "https://www.bitstamp.net/api/v2/ohlc/ltcusd/?&currency_pair=ltcusd&step=1800&limit=1000&start=1527807600\n",
      "Downloaded from 2018-06-01 00:00:00(1527807600) to 2018-06-21 19:30:00(1529605800) 96.60\n",
      "Processing 1000 of ltcusd\n"
     ]
    },
    {
     "data": {
      "application/vnd.jupyter.widget-view+json": {
       "model_id": "e4e36a2fa6b04a44a3d16db053fff944",
       "version_major": 2,
       "version_minor": 0
      },
      "text/plain": [
       "  0%|          | 0/1000 [00:00<?, ?it/s]"
      ]
     },
     "metadata": {},
     "output_type": "display_data"
    },
    {
     "name": "stdout",
     "output_type": "stream",
     "text": [
      "https://www.bitstamp.net/api/v2/ohlc/ltcbtc/?&currency_pair=ltcbtc&step=1800&limit=1000&start=1527807600\n",
      "Downloaded from 2018-06-01 00:00:00(1527807600) to 2018-06-21 19:30:00(1529605800) 0.01434149\n",
      "Processing 1000 of ltcbtc\n"
     ]
    },
    {
     "data": {
      "application/vnd.jupyter.widget-view+json": {
       "model_id": "57f452d66ca248e8afd48ec5418c90e6",
       "version_major": 2,
       "version_minor": 0
      },
      "text/plain": [
       "  0%|          | 0/1000 [00:00<?, ?it/s]"
      ]
     },
     "metadata": {},
     "output_type": "display_data"
    },
    {
     "name": "stdout",
     "output_type": "stream",
     "text": [
      "https://www.bitstamp.net/api/v2/ohlc/btcusd/?&currency_pair=btcusd&step=1800&limit=1000&start=1517443200\n",
      "Downloaded from 2018-02-01 00:00:00(1517443200) to 2018-02-21 19:30:00(1519241400) 10493.40\n",
      "Processing 1000 of btcusd\n"
     ]
    },
    {
     "data": {
      "application/vnd.jupyter.widget-view+json": {
       "model_id": "195e97acb47a472eb3916179adf36612",
       "version_major": 2,
       "version_minor": 0
      },
      "text/plain": [
       "  0%|          | 0/1000 [00:00<?, ?it/s]"
      ]
     },
     "metadata": {},
     "output_type": "display_data"
    },
    {
     "name": "stdout",
     "output_type": "stream",
     "text": [
      "https://www.bitstamp.net/api/v2/ohlc/ethusd/?&currency_pair=ethusd&step=1800&limit=1000&start=1517443200\n",
      "Downloaded from 2018-02-01 00:00:00(1517443200) to 2018-02-21 19:30:00(1519241400) 833.63\n",
      "Processing 1000 of ethusd\n"
     ]
    },
    {
     "data": {
      "application/vnd.jupyter.widget-view+json": {
       "model_id": "10452fdffa0344e6b7be66a3793db2be",
       "version_major": 2,
       "version_minor": 0
      },
      "text/plain": [
       "  0%|          | 0/1000 [00:00<?, ?it/s]"
      ]
     },
     "metadata": {},
     "output_type": "display_data"
    },
    {
     "name": "stdout",
     "output_type": "stream",
     "text": [
      "https://www.bitstamp.net/api/v2/ohlc/ltcusd/?&currency_pair=ltcusd&step=1800&limit=1000&start=1517443200\n",
      "Downloaded from 2018-02-01 00:00:00(1517443200) to 2018-02-21 19:30:00(1519241400) 211.89\n",
      "Processing 1000 of ltcusd\n"
     ]
    },
    {
     "data": {
      "application/vnd.jupyter.widget-view+json": {
       "model_id": "ccba75120bf64f9a917539f6371e6e0e",
       "version_major": 2,
       "version_minor": 0
      },
      "text/plain": [
       "  0%|          | 0/1000 [00:00<?, ?it/s]"
      ]
     },
     "metadata": {},
     "output_type": "display_data"
    },
    {
     "name": "stdout",
     "output_type": "stream",
     "text": [
      "https://www.bitstamp.net/api/v2/ohlc/ltcbtc/?&currency_pair=ltcbtc&step=1800&limit=1000&start=1517443200\n",
      "Downloaded from 2018-02-01 00:00:00(1517443200) to 2018-02-21 19:30:00(1519241400) 0.02023969\n",
      "Processing 1000 of ltcbtc\n"
     ]
    },
    {
     "data": {
      "application/vnd.jupyter.widget-view+json": {
       "model_id": "a33579e7b8174093be9cee482c0c7f58",
       "version_major": 2,
       "version_minor": 0
      },
      "text/plain": [
       "  0%|          | 0/1000 [00:00<?, ?it/s]"
      ]
     },
     "metadata": {},
     "output_type": "display_data"
    },
    {
     "name": "stdout",
     "output_type": "stream",
     "text": [
      "https://www.bitstamp.net/api/v2/ohlc/btcusd/?&currency_pair=btcusd&step=1800&limit=1000&start=1548979200\n",
      "Downloaded from 2019-02-01 00:00:00(1548979200) to 2019-02-21 19:30:00(1550777400) 3888.76\n",
      "Processing 1000 of btcusd\n"
     ]
    },
    {
     "data": {
      "application/vnd.jupyter.widget-view+json": {
       "model_id": "71b439efbe944e649d0def4689d932b0",
       "version_major": 2,
       "version_minor": 0
      },
      "text/plain": [
       "  0%|          | 0/1000 [00:00<?, ?it/s]"
      ]
     },
     "metadata": {},
     "output_type": "display_data"
    },
    {
     "name": "stdout",
     "output_type": "stream",
     "text": [
      "https://www.bitstamp.net/api/v2/ohlc/ethusd/?&currency_pair=ethusd&step=1800&limit=1000&start=1548979200\n",
      "Downloaded from 2019-02-01 00:00:00(1548979200) to 2019-02-21 19:30:00(1550777400) 142.72\n",
      "Processing 1000 of ethusd\n"
     ]
    },
    {
     "data": {
      "application/vnd.jupyter.widget-view+json": {
       "model_id": "84bf63e0111b47d39d81d550e0013456",
       "version_major": 2,
       "version_minor": 0
      },
      "text/plain": [
       "  0%|          | 0/1000 [00:00<?, ?it/s]"
      ]
     },
     "metadata": {},
     "output_type": "display_data"
    },
    {
     "name": "stdout",
     "output_type": "stream",
     "text": [
      "https://www.bitstamp.net/api/v2/ohlc/ltcusd/?&currency_pair=ltcusd&step=1800&limit=1000&start=1548979200\n",
      "Downloaded from 2019-02-01 00:00:00(1548979200) to 2019-02-21 19:30:00(1550777400) 47.86\n",
      "Processing 1000 of ltcusd\n"
     ]
    },
    {
     "data": {
      "application/vnd.jupyter.widget-view+json": {
       "model_id": "4c9414296ec2490d9e9fd4df828ae307",
       "version_major": 2,
       "version_minor": 0
      },
      "text/plain": [
       "  0%|          | 0/1000 [00:00<?, ?it/s]"
      ]
     },
     "metadata": {},
     "output_type": "display_data"
    },
    {
     "name": "stdout",
     "output_type": "stream",
     "text": [
      "https://www.bitstamp.net/api/v2/ohlc/ltcbtc/?&currency_pair=ltcbtc&step=1800&limit=1000&start=1548979200\n",
      "Downloaded from 2019-02-01 00:00:00(1548979200) to 2019-02-21 19:30:00(1550777400) 0.01233400\n",
      "Processing 1000 of ltcbtc\n"
     ]
    },
    {
     "data": {
      "application/vnd.jupyter.widget-view+json": {
       "model_id": "97137f762a864b6f8edd0283e6d11279",
       "version_major": 2,
       "version_minor": 0
      },
      "text/plain": [
       "  0%|          | 0/1000 [00:00<?, ?it/s]"
      ]
     },
     "metadata": {},
     "output_type": "display_data"
    },
    {
     "name": "stdout",
     "output_type": "stream",
     "text": [
      "https://www.bitstamp.net/api/v2/ohlc/btcusd/?&currency_pair=btcusd&step=1800&limit=1000&start=1580515200\n",
      "Downloaded from 2020-02-01 00:00:00(1580515200) to 2020-02-21 19:30:00(1582313400) 9697.33\n",
      "Processing 1000 of btcusd\n"
     ]
    },
    {
     "data": {
      "application/vnd.jupyter.widget-view+json": {
       "model_id": "9104a68a8182423db87e56393908eee1",
       "version_major": 2,
       "version_minor": 0
      },
      "text/plain": [
       "  0%|          | 0/1000 [00:00<?, ?it/s]"
      ]
     },
     "metadata": {},
     "output_type": "display_data"
    },
    {
     "name": "stdout",
     "output_type": "stream",
     "text": [
      "https://www.bitstamp.net/api/v2/ohlc/ethusd/?&currency_pair=ethusd&step=1800&limit=1000&start=1580515200\n",
      "Downloaded from 2020-02-01 00:00:00(1580515200) to 2020-02-21 19:30:00(1582313400) 264.40\n",
      "Processing 1000 of ethusd\n"
     ]
    },
    {
     "data": {
      "application/vnd.jupyter.widget-view+json": {
       "model_id": "6e3d2ba253b24e11b8ec291ead3e8bc3",
       "version_major": 2,
       "version_minor": 0
      },
      "text/plain": [
       "  0%|          | 0/1000 [00:00<?, ?it/s]"
      ]
     },
     "metadata": {},
     "output_type": "display_data"
    },
    {
     "name": "stdout",
     "output_type": "stream",
     "text": [
      "https://www.bitstamp.net/api/v2/ohlc/ltcusd/?&currency_pair=ltcusd&step=1800&limit=1000&start=1580515200\n",
      "Downloaded from 2020-02-01 00:00:00(1580515200) to 2020-02-21 19:30:00(1582313400) 73.61\n",
      "Processing 1000 of ltcusd\n"
     ]
    },
    {
     "data": {
      "application/vnd.jupyter.widget-view+json": {
       "model_id": "005aff11c48f44a38413b920a37f1e4e",
       "version_major": 2,
       "version_minor": 0
      },
      "text/plain": [
       "  0%|          | 0/1000 [00:00<?, ?it/s]"
      ]
     },
     "metadata": {},
     "output_type": "display_data"
    },
    {
     "name": "stdout",
     "output_type": "stream",
     "text": [
      "https://www.bitstamp.net/api/v2/ohlc/ltcbtc/?&currency_pair=ltcbtc&step=1800&limit=1000&start=1580515200\n",
      "Downloaded from 2020-02-01 00:00:00(1580515200) to 2020-02-21 19:30:00(1582313400) 0.00753763\n",
      "Processing 1000 of ltcbtc\n"
     ]
    },
    {
     "data": {
      "application/vnd.jupyter.widget-view+json": {
       "model_id": "247cd385907f480e9fb73406e63bf5fe",
       "version_major": 2,
       "version_minor": 0
      },
      "text/plain": [
       "  0%|          | 0/1000 [00:00<?, ?it/s]"
      ]
     },
     "metadata": {},
     "output_type": "display_data"
    },
    {
     "name": "stdout",
     "output_type": "stream",
     "text": [
      "https://www.bitstamp.net/api/v2/ohlc/btcusd/?&currency_pair=btcusd&step=1800&limit=1000&start=1612137600\n",
      "Downloaded from 2021-02-01 00:00:00(1612137600) to 2021-02-21 19:30:00(1613935800) 58232.98\n",
      "Processing 1000 of btcusd\n"
     ]
    },
    {
     "data": {
      "application/vnd.jupyter.widget-view+json": {
       "model_id": "ad979b881c7e457dad61b9ef3f9301d2",
       "version_major": 2,
       "version_minor": 0
      },
      "text/plain": [
       "  0%|          | 0/1000 [00:00<?, ?it/s]"
      ]
     },
     "metadata": {},
     "output_type": "display_data"
    },
    {
     "name": "stdout",
     "output_type": "stream",
     "text": [
      "https://www.bitstamp.net/api/v2/ohlc/ethusd/?&currency_pair=ethusd&step=1800&limit=1000&start=1612137600\n",
      "Downloaded from 2021-02-01 00:00:00(1612137600) to 2021-02-21 19:30:00(1613935800) 1971.83\n",
      "Processing 1000 of ethusd\n"
     ]
    },
    {
     "data": {
      "application/vnd.jupyter.widget-view+json": {
       "model_id": "41aafdb8c71d4f6794a5bee3468ef332",
       "version_major": 2,
       "version_minor": 0
      },
      "text/plain": [
       "  0%|          | 0/1000 [00:00<?, ?it/s]"
      ]
     },
     "metadata": {},
     "output_type": "display_data"
    },
    {
     "name": "stdout",
     "output_type": "stream",
     "text": [
      "https://www.bitstamp.net/api/v2/ohlc/ltcusd/?&currency_pair=ltcusd&step=1800&limit=1000&start=1612137600\n",
      "Downloaded from 2021-02-01 00:00:00(1612137600) to 2021-02-21 19:30:00(1613935800) 232.85\n",
      "Processing 1000 of ltcusd\n"
     ]
    },
    {
     "data": {
      "application/vnd.jupyter.widget-view+json": {
       "model_id": "4b003a5b838b43c4ada4f50c3a267b31",
       "version_major": 2,
       "version_minor": 0
      },
      "text/plain": [
       "  0%|          | 0/1000 [00:00<?, ?it/s]"
      ]
     },
     "metadata": {},
     "output_type": "display_data"
    },
    {
     "name": "stdout",
     "output_type": "stream",
     "text": [
      "https://www.bitstamp.net/api/v2/ohlc/ltcbtc/?&currency_pair=ltcbtc&step=1800&limit=1000&start=1612137600\n",
      "Downloaded from 2021-02-01 00:00:00(1612137600) to 2021-02-21 19:30:00(1613935800) 0.00399236\n",
      "Processing 1000 of ltcbtc\n"
     ]
    },
    {
     "data": {
      "application/vnd.jupyter.widget-view+json": {
       "model_id": "8e0500ffa7ec4a91917b0cbc01092d6c",
       "version_major": 2,
       "version_minor": 0
      },
      "text/plain": [
       "  0%|          | 0/1000 [00:00<?, ?it/s]"
      ]
     },
     "metadata": {},
     "output_type": "display_data"
    },
    {
     "name": "stdout",
     "output_type": "stream",
     "text": [
      "https://www.bitstamp.net/api/v2/ohlc/btcusd/?&currency_pair=btcusd&step=1800&limit=1000&start=1623711600\n",
      "https://www.bitstamp.net/api/v2/ohlc/btcusd/?&currency_pair=btcusd&step=1800&limit=1000&start=1625511600\n",
      "Downloaded from 2021-06-15 00:00:00(1623711600) to 2021-07-15 00:00:00(1626303600) 32978.97\n",
      "Processing 1441 of btcusd\n"
     ]
    },
    {
     "data": {
      "application/vnd.jupyter.widget-view+json": {
       "model_id": "06b449803abb4695b753c2454900d3fb",
       "version_major": 2,
       "version_minor": 0
      },
      "text/plain": [
       "  0%|          | 0/1441 [00:00<?, ?it/s]"
      ]
     },
     "metadata": {},
     "output_type": "display_data"
    },
    {
     "name": "stdout",
     "output_type": "stream",
     "text": [
      "https://www.bitstamp.net/api/v2/ohlc/ethusd/?&currency_pair=ethusd&step=1800&limit=1000&start=1623711600\n",
      "https://www.bitstamp.net/api/v2/ohlc/ethusd/?&currency_pair=ethusd&step=1800&limit=1000&start=1625511600\n",
      "Downloaded from 2021-06-15 00:00:00(1623711600) to 2021-07-15 00:00:00(1626303600) 2005.17\n",
      "Processing 1441 of ethusd\n"
     ]
    },
    {
     "data": {
      "application/vnd.jupyter.widget-view+json": {
       "model_id": "27dfcb904bcf46eabfce44b8d9262ffb",
       "version_major": 2,
       "version_minor": 0
      },
      "text/plain": [
       "  0%|          | 0/1441 [00:00<?, ?it/s]"
      ]
     },
     "metadata": {},
     "output_type": "display_data"
    },
    {
     "name": "stdout",
     "output_type": "stream",
     "text": [
      "https://www.bitstamp.net/api/v2/ohlc/ltcusd/?&currency_pair=ltcusd&step=1800&limit=1000&start=1623711600\n",
      "https://www.bitstamp.net/api/v2/ohlc/ltcusd/?&currency_pair=ltcusd&step=1800&limit=1000&start=1625511600\n",
      "Downloaded from 2021-06-15 00:00:00(1623711600) to 2021-07-15 00:00:00(1626303600) 131.22\n",
      "Processing 1441 of ltcusd\n"
     ]
    },
    {
     "data": {
      "application/vnd.jupyter.widget-view+json": {
       "model_id": "1afbd2354f4749debeeb65b4b4f32fc8",
       "version_major": 2,
       "version_minor": 0
      },
      "text/plain": [
       "  0%|          | 0/1441 [00:00<?, ?it/s]"
      ]
     },
     "metadata": {},
     "output_type": "display_data"
    },
    {
     "name": "stdout",
     "output_type": "stream",
     "text": [
      "https://www.bitstamp.net/api/v2/ohlc/ltcbtc/?&currency_pair=ltcbtc&step=1800&limit=1000&start=1623711600\n",
      "https://www.bitstamp.net/api/v2/ohlc/ltcbtc/?&currency_pair=ltcbtc&step=1800&limit=1000&start=1625511600\n",
      "Downloaded from 2021-06-15 00:00:00(1623711600) to 2021-07-15 00:00:00(1626303600) 0.00398347\n",
      "Processing 1441 of ltcbtc\n"
     ]
    },
    {
     "data": {
      "application/vnd.jupyter.widget-view+json": {
       "model_id": "05017d5409fd46298e419cb41f0e4368",
       "version_major": 2,
       "version_minor": 0
      },
      "text/plain": [
       "  0%|          | 0/1441 [00:00<?, ?it/s]"
      ]
     },
     "metadata": {},
     "output_type": "display_data"
    },
    {
     "name": "stdout",
     "output_type": "stream",
     "text": [
      "data/online40_30 -> OnLineDataProvider (val_keys = {'btcusd': 3, 'ethusd': 3, 'ltcusd': 3, 'ltcbtc': 3}, train_data = 2 , data_detail = DataDetail (windows = 40, minutes = 30, steps_ahead = 1)))\n",
      "https://www.bitstamp.net/api/v2/ohlc/btcusd/?&currency_pair=btcusd&step=180&limit=1000&start=1622502000\n",
      "Downloaded from 2021-06-01 00:00:00(1622502000) to 2021-06-03 01:57:00(1622681820) 37436.78\n",
      "Processing 1000 of btcusd\n"
     ]
    },
    {
     "data": {
      "application/vnd.jupyter.widget-view+json": {
       "model_id": "a0ca1358a3a04c9b918ae10a1fa03108",
       "version_major": 2,
       "version_minor": 0
      },
      "text/plain": [
       "  0%|          | 0/1000 [00:00<?, ?it/s]"
      ]
     },
     "metadata": {},
     "output_type": "display_data"
    },
    {
     "name": "stdout",
     "output_type": "stream",
     "text": [
      "https://www.bitstamp.net/api/v2/ohlc/ethusd/?&currency_pair=ethusd&step=180&limit=1000&start=1622502000\n",
      "Downloaded from 2021-06-01 00:00:00(1622502000) to 2021-06-03 01:57:00(1622681820) 2702.14\n",
      "Processing 1000 of ethusd\n"
     ]
    },
    {
     "data": {
      "application/vnd.jupyter.widget-view+json": {
       "model_id": "a6e19afa6e674badab9be0cf7e4fd363",
       "version_major": 2,
       "version_minor": 0
      },
      "text/plain": [
       "  0%|          | 0/1000 [00:00<?, ?it/s]"
      ]
     },
     "metadata": {},
     "output_type": "display_data"
    },
    {
     "name": "stdout",
     "output_type": "stream",
     "text": [
      "https://www.bitstamp.net/api/v2/ohlc/ltcusd/?&currency_pair=ltcusd&step=180&limit=1000&start=1622502000\n",
      "Downloaded from 2021-06-01 00:00:00(1622502000) to 2021-06-03 01:57:00(1622681820) 185.00\n",
      "Processing 1000 of ltcusd\n"
     ]
    },
    {
     "data": {
      "application/vnd.jupyter.widget-view+json": {
       "model_id": "1bf6a60c84534d8d917d74535b66d775",
       "version_major": 2,
       "version_minor": 0
      },
      "text/plain": [
       "  0%|          | 0/1000 [00:00<?, ?it/s]"
      ]
     },
     "metadata": {},
     "output_type": "display_data"
    },
    {
     "name": "stdout",
     "output_type": "stream",
     "text": [
      "https://www.bitstamp.net/api/v2/ohlc/ltcbtc/?&currency_pair=ltcbtc&step=180&limit=1000&start=1622502000\n",
      "Downloaded from 2021-06-01 00:00:00(1622502000) to 2021-06-03 01:57:00(1622681820) 0.00494481\n",
      "Processing 1000 of ltcbtc\n"
     ]
    },
    {
     "data": {
      "application/vnd.jupyter.widget-view+json": {
       "model_id": "86f091f1ede54674ab0509e55b50a74f",
       "version_major": 2,
       "version_minor": 0
      },
      "text/plain": [
       "  0%|          | 0/1000 [00:00<?, ?it/s]"
      ]
     },
     "metadata": {},
     "output_type": "display_data"
    },
    {
     "name": "stdout",
     "output_type": "stream",
     "text": [
      "https://www.bitstamp.net/api/v2/ohlc/btcusd/?&currency_pair=btcusd&step=180&limit=1000&start=1590966000\n",
      "Downloaded from 2020-06-01 00:00:00(1590966000) to 2020-06-03 01:57:00(1591145820) 9525.82\n",
      "Processing 1000 of btcusd\n"
     ]
    },
    {
     "data": {
      "application/vnd.jupyter.widget-view+json": {
       "model_id": "93e39828698f4d5da230fb06783de833",
       "version_major": 2,
       "version_minor": 0
      },
      "text/plain": [
       "  0%|          | 0/1000 [00:00<?, ?it/s]"
      ]
     },
     "metadata": {},
     "output_type": "display_data"
    },
    {
     "name": "stdout",
     "output_type": "stream",
     "text": [
      "https://www.bitstamp.net/api/v2/ohlc/ethusd/?&currency_pair=ethusd&step=180&limit=1000&start=1590966000\n",
      "Downloaded from 2020-06-01 00:00:00(1590966000) to 2020-06-03 01:57:00(1591145820) 237.99\n",
      "Processing 1000 of ethusd\n"
     ]
    },
    {
     "data": {
      "application/vnd.jupyter.widget-view+json": {
       "model_id": "bb719261a2b745d49e3cd6a353a8297d",
       "version_major": 2,
       "version_minor": 0
      },
      "text/plain": [
       "  0%|          | 0/1000 [00:00<?, ?it/s]"
      ]
     },
     "metadata": {},
     "output_type": "display_data"
    },
    {
     "name": "stdout",
     "output_type": "stream",
     "text": [
      "https://www.bitstamp.net/api/v2/ohlc/ltcusd/?&currency_pair=ltcusd&step=180&limit=1000&start=1590966000\n",
      "Downloaded from 2020-06-01 00:00:00(1590966000) to 2020-06-03 01:57:00(1591145820) 46.08\n",
      "Processing 1000 of ltcusd\n"
     ]
    },
    {
     "data": {
      "application/vnd.jupyter.widget-view+json": {
       "model_id": "a60237d0bd8447ab9df04f9b71539468",
       "version_major": 2,
       "version_minor": 0
      },
      "text/plain": [
       "  0%|          | 0/1000 [00:00<?, ?it/s]"
      ]
     },
     "metadata": {},
     "output_type": "display_data"
    },
    {
     "name": "stdout",
     "output_type": "stream",
     "text": [
      "https://www.bitstamp.net/api/v2/ohlc/ltcbtc/?&currency_pair=ltcbtc&step=180&limit=1000&start=1590966000\n",
      "Downloaded from 2020-06-01 00:00:00(1590966000) to 2020-06-03 01:57:00(1591145820) 0.00484476\n",
      "Processing 1000 of ltcbtc\n"
     ]
    },
    {
     "data": {
      "application/vnd.jupyter.widget-view+json": {
       "model_id": "55bd540a1722402199eb8eef77a61966",
       "version_major": 2,
       "version_minor": 0
      },
      "text/plain": [
       "  0%|          | 0/1000 [00:00<?, ?it/s]"
      ]
     },
     "metadata": {},
     "output_type": "display_data"
    },
    {
     "name": "stdout",
     "output_type": "stream",
     "text": [
      "https://www.bitstamp.net/api/v2/ohlc/btcusd/?&currency_pair=btcusd&step=180&limit=1000&start=1559343600\n",
      "Downloaded from 2019-06-01 00:00:00(1559343600) to 2019-06-03 01:57:00(1559523420) 8681.59\n",
      "Processing 1000 of btcusd\n"
     ]
    },
    {
     "data": {
      "application/vnd.jupyter.widget-view+json": {
       "model_id": "48cd9e657d8d4210a2f1e39c8e14c4be",
       "version_major": 2,
       "version_minor": 0
      },
      "text/plain": [
       "  0%|          | 0/1000 [00:00<?, ?it/s]"
      ]
     },
     "metadata": {},
     "output_type": "display_data"
    },
    {
     "name": "stdout",
     "output_type": "stream",
     "text": [
      "https://www.bitstamp.net/api/v2/ohlc/ethusd/?&currency_pair=ethusd&step=180&limit=1000&start=1559343600\n",
      "Downloaded from 2019-06-01 00:00:00(1559343600) to 2019-06-03 01:57:00(1559523420) 266.63\n",
      "Processing 1000 of ethusd\n"
     ]
    },
    {
     "data": {
      "application/vnd.jupyter.widget-view+json": {
       "model_id": "204c018d2f7a43e59d4744f5bcca051c",
       "version_major": 2,
       "version_minor": 0
      },
      "text/plain": [
       "  0%|          | 0/1000 [00:00<?, ?it/s]"
      ]
     },
     "metadata": {},
     "output_type": "display_data"
    },
    {
     "name": "stdout",
     "output_type": "stream",
     "text": [
      "https://www.bitstamp.net/api/v2/ohlc/ltcusd/?&currency_pair=ltcusd&step=180&limit=1000&start=1559343600\n",
      "Downloaded from 2019-06-01 00:00:00(1559343600) to 2019-06-03 01:57:00(1559523420) 113.86\n",
      "Processing 1000 of ltcusd\n"
     ]
    },
    {
     "data": {
      "application/vnd.jupyter.widget-view+json": {
       "model_id": "3506514f46d04e648cba490f148459bd",
       "version_major": 2,
       "version_minor": 0
      },
      "text/plain": [
       "  0%|          | 0/1000 [00:00<?, ?it/s]"
      ]
     },
     "metadata": {},
     "output_type": "display_data"
    },
    {
     "name": "stdout",
     "output_type": "stream",
     "text": [
      "https://www.bitstamp.net/api/v2/ohlc/ltcbtc/?&currency_pair=ltcbtc&step=180&limit=1000&start=1559343600\n",
      "Downloaded from 2019-06-01 00:00:00(1559343600) to 2019-06-03 01:57:00(1559523420) 0.01310000\n",
      "Processing 1000 of ltcbtc\n"
     ]
    },
    {
     "data": {
      "application/vnd.jupyter.widget-view+json": {
       "model_id": "984e43f3c2554df38b5dc0c1ab292d61",
       "version_major": 2,
       "version_minor": 0
      },
      "text/plain": [
       "  0%|          | 0/1000 [00:00<?, ?it/s]"
      ]
     },
     "metadata": {},
     "output_type": "display_data"
    },
    {
     "name": "stdout",
     "output_type": "stream",
     "text": [
      "https://www.bitstamp.net/api/v2/ohlc/btcusd/?&currency_pair=btcusd&step=180&limit=1000&start=1527807600\n",
      "Downloaded from 2018-06-01 00:00:00(1527807600) to 2018-06-03 01:57:00(1527987420) 7653.99\n",
      "Processing 1000 of btcusd\n"
     ]
    },
    {
     "data": {
      "application/vnd.jupyter.widget-view+json": {
       "model_id": "52e8826bf8694f9196887a488cda5298",
       "version_major": 2,
       "version_minor": 0
      },
      "text/plain": [
       "  0%|          | 0/1000 [00:00<?, ?it/s]"
      ]
     },
     "metadata": {},
     "output_type": "display_data"
    },
    {
     "name": "stdout",
     "output_type": "stream",
     "text": [
      "https://www.bitstamp.net/api/v2/ohlc/ethusd/?&currency_pair=ethusd&step=180&limit=1000&start=1527807600\n",
      "Downloaded from 2018-06-01 00:00:00(1527807600) to 2018-06-03 01:57:00(1527987420) 592.70\n",
      "Processing 1000 of ethusd\n"
     ]
    },
    {
     "data": {
      "application/vnd.jupyter.widget-view+json": {
       "model_id": "ce8245bf3cff42d886ba8599559ca851",
       "version_major": 2,
       "version_minor": 0
      },
      "text/plain": [
       "  0%|          | 0/1000 [00:00<?, ?it/s]"
      ]
     },
     "metadata": {},
     "output_type": "display_data"
    },
    {
     "name": "stdout",
     "output_type": "stream",
     "text": [
      "https://www.bitstamp.net/api/v2/ohlc/ltcusd/?&currency_pair=ltcusd&step=180&limit=1000&start=1527807600\n",
      "Downloaded from 2018-06-01 00:00:00(1527807600) to 2018-06-03 01:57:00(1527987420) 123.64\n",
      "Processing 1000 of ltcusd\n"
     ]
    },
    {
     "data": {
      "application/vnd.jupyter.widget-view+json": {
       "model_id": "3c6d404964be47578f3f990e8ddbefa2",
       "version_major": 2,
       "version_minor": 0
      },
      "text/plain": [
       "  0%|          | 0/1000 [00:00<?, ?it/s]"
      ]
     },
     "metadata": {},
     "output_type": "display_data"
    },
    {
     "name": "stdout",
     "output_type": "stream",
     "text": [
      "https://www.bitstamp.net/api/v2/ohlc/ltcbtc/?&currency_pair=ltcbtc&step=180&limit=1000&start=1527807600\n",
      "Downloaded from 2018-06-01 00:00:00(1527807600) to 2018-06-03 01:57:00(1527987420) 0.01614501\n",
      "Processing 1000 of ltcbtc\n"
     ]
    },
    {
     "data": {
      "application/vnd.jupyter.widget-view+json": {
       "model_id": "f7aa93dbc7a0458aa828c469640e571b",
       "version_major": 2,
       "version_minor": 0
      },
      "text/plain": [
       "  0%|          | 0/1000 [00:00<?, ?it/s]"
      ]
     },
     "metadata": {},
     "output_type": "display_data"
    },
    {
     "name": "stdout",
     "output_type": "stream",
     "text": [
      "https://www.bitstamp.net/api/v2/ohlc/btcusd/?&currency_pair=btcusd&step=180&limit=1000&start=1517443200\n",
      "Downloaded from 2018-02-01 00:00:00(1517443200) to 2018-02-03 01:57:00(1517623020) 8563.00\n",
      "Processing 1000 of btcusd\n"
     ]
    },
    {
     "data": {
      "application/vnd.jupyter.widget-view+json": {
       "model_id": "4ca912e5182c424a8a3f5904219eed65",
       "version_major": 2,
       "version_minor": 0
      },
      "text/plain": [
       "  0%|          | 0/1000 [00:00<?, ?it/s]"
      ]
     },
     "metadata": {},
     "output_type": "display_data"
    },
    {
     "name": "stdout",
     "output_type": "stream",
     "text": [
      "https://www.bitstamp.net/api/v2/ohlc/ethusd/?&currency_pair=ethusd&step=180&limit=1000&start=1517443200\n",
      "Downloaded from 2018-02-01 00:00:00(1517443200) to 2018-02-03 01:57:00(1517623020) 894.06\n",
      "Processing 1000 of ethusd\n"
     ]
    },
    {
     "data": {
      "application/vnd.jupyter.widget-view+json": {
       "model_id": "70807b589d594020a25f3a89c394bd97",
       "version_major": 2,
       "version_minor": 0
      },
      "text/plain": [
       "  0%|          | 0/1000 [00:00<?, ?it/s]"
      ]
     },
     "metadata": {},
     "output_type": "display_data"
    },
    {
     "name": "stdout",
     "output_type": "stream",
     "text": [
      "https://www.bitstamp.net/api/v2/ohlc/ltcusd/?&currency_pair=ltcusd&step=180&limit=1000&start=1517443200\n",
      "Downloaded from 2018-02-01 00:00:00(1517443200) to 2018-02-03 01:57:00(1517623020) 127.76\n",
      "Processing 1000 of ltcusd\n"
     ]
    },
    {
     "data": {
      "application/vnd.jupyter.widget-view+json": {
       "model_id": "4027cf8c54e44d96a59fb15858aa633f",
       "version_major": 2,
       "version_minor": 0
      },
      "text/plain": [
       "  0%|          | 0/1000 [00:00<?, ?it/s]"
      ]
     },
     "metadata": {},
     "output_type": "display_data"
    },
    {
     "name": "stdout",
     "output_type": "stream",
     "text": [
      "https://www.bitstamp.net/api/v2/ohlc/ltcbtc/?&currency_pair=ltcbtc&step=180&limit=1000&start=1517443200\n",
      "Downloaded from 2018-02-01 00:00:00(1517443200) to 2018-02-03 01:57:00(1517623020) 0.01497000\n",
      "Processing 1000 of ltcbtc\n"
     ]
    },
    {
     "data": {
      "application/vnd.jupyter.widget-view+json": {
       "model_id": "746971108c9d43a5ab237d9fed0cd415",
       "version_major": 2,
       "version_minor": 0
      },
      "text/plain": [
       "  0%|          | 0/1000 [00:00<?, ?it/s]"
      ]
     },
     "metadata": {},
     "output_type": "display_data"
    },
    {
     "name": "stdout",
     "output_type": "stream",
     "text": [
      "https://www.bitstamp.net/api/v2/ohlc/btcusd/?&currency_pair=btcusd&step=180&limit=1000&start=1548979200\n",
      "Downloaded from 2019-02-01 00:00:00(1548979200) to 2019-02-03 01:57:00(1549159020) 3448.32\n",
      "Processing 1000 of btcusd\n"
     ]
    },
    {
     "data": {
      "application/vnd.jupyter.widget-view+json": {
       "model_id": "55386c540072403ca267621b0c71ccf3",
       "version_major": 2,
       "version_minor": 0
      },
      "text/plain": [
       "  0%|          | 0/1000 [00:00<?, ?it/s]"
      ]
     },
     "metadata": {},
     "output_type": "display_data"
    },
    {
     "name": "stdout",
     "output_type": "stream",
     "text": [
      "https://www.bitstamp.net/api/v2/ohlc/ethusd/?&currency_pair=ethusd&step=180&limit=1000&start=1548979200\n",
      "Downloaded from 2019-02-01 00:00:00(1548979200) to 2019-02-03 01:57:00(1549159020) 108.63\n",
      "Processing 1000 of ethusd\n"
     ]
    },
    {
     "data": {
      "application/vnd.jupyter.widget-view+json": {
       "model_id": "899cf8926b3d436b84de00a45f9fafd4",
       "version_major": 2,
       "version_minor": 0
      },
      "text/plain": [
       "  0%|          | 0/1000 [00:00<?, ?it/s]"
      ]
     },
     "metadata": {},
     "output_type": "display_data"
    },
    {
     "name": "stdout",
     "output_type": "stream",
     "text": [
      "https://www.bitstamp.net/api/v2/ohlc/ltcusd/?&currency_pair=ltcusd&step=180&limit=1000&start=1548979200\n",
      "Downloaded from 2019-02-01 00:00:00(1548979200) to 2019-02-03 01:57:00(1549159020) 34.01\n",
      "Processing 1000 of ltcusd\n"
     ]
    },
    {
     "data": {
      "application/vnd.jupyter.widget-view+json": {
       "model_id": "ab85832bbff64bb6938f38b2c2c4c46d",
       "version_major": 2,
       "version_minor": 0
      },
      "text/plain": [
       "  0%|          | 0/1000 [00:00<?, ?it/s]"
      ]
     },
     "metadata": {},
     "output_type": "display_data"
    },
    {
     "name": "stdout",
     "output_type": "stream",
     "text": [
      "https://www.bitstamp.net/api/v2/ohlc/ltcbtc/?&currency_pair=ltcbtc&step=180&limit=1000&start=1548979200\n",
      "Downloaded from 2019-02-01 00:00:00(1548979200) to 2019-02-03 01:57:00(1549159020) 0.00988827\n",
      "Processing 1000 of ltcbtc\n"
     ]
    },
    {
     "data": {
      "application/vnd.jupyter.widget-view+json": {
       "model_id": "11e9976653ff4656a168560736f04537",
       "version_major": 2,
       "version_minor": 0
      },
      "text/plain": [
       "  0%|          | 0/1000 [00:00<?, ?it/s]"
      ]
     },
     "metadata": {},
     "output_type": "display_data"
    },
    {
     "name": "stdout",
     "output_type": "stream",
     "text": [
      "https://www.bitstamp.net/api/v2/ohlc/btcusd/?&currency_pair=btcusd&step=180&limit=1000&start=1580515200\n",
      "Downloaded from 2020-02-01 00:00:00(1580515200) to 2020-02-03 01:57:00(1580695020) 9540.01\n",
      "Processing 1000 of btcusd\n"
     ]
    },
    {
     "data": {
      "application/vnd.jupyter.widget-view+json": {
       "model_id": "6b5a19ea160e4d4a89ec5b561d4663f1",
       "version_major": 2,
       "version_minor": 0
      },
      "text/plain": [
       "  0%|          | 0/1000 [00:00<?, ?it/s]"
      ]
     },
     "metadata": {},
     "output_type": "display_data"
    },
    {
     "name": "stdout",
     "output_type": "stream",
     "text": [
      "https://www.bitstamp.net/api/v2/ohlc/ethusd/?&currency_pair=ethusd&step=180&limit=1000&start=1580515200\n",
      "Downloaded from 2020-02-01 00:00:00(1580515200) to 2020-02-03 01:57:00(1580695020) 193.14\n",
      "Processing 1000 of ethusd\n"
     ]
    },
    {
     "data": {
      "application/vnd.jupyter.widget-view+json": {
       "model_id": "1c12f884d29d4cb89c2bc61116dfef7b",
       "version_major": 2,
       "version_minor": 0
      },
      "text/plain": [
       "  0%|          | 0/1000 [00:00<?, ?it/s]"
      ]
     },
     "metadata": {},
     "output_type": "display_data"
    },
    {
     "name": "stdout",
     "output_type": "stream",
     "text": [
      "https://www.bitstamp.net/api/v2/ohlc/ltcusd/?&currency_pair=ltcusd&step=180&limit=1000&start=1580515200\n",
      "Downloaded from 2020-02-01 00:00:00(1580515200) to 2020-02-03 01:57:00(1580695020) 71.63\n",
      "Processing 1000 of ltcusd\n"
     ]
    },
    {
     "data": {
      "application/vnd.jupyter.widget-view+json": {
       "model_id": "8d7b9d953aa84e59a49d105fb57ae8d5",
       "version_major": 2,
       "version_minor": 0
      },
      "text/plain": [
       "  0%|          | 0/1000 [00:00<?, ?it/s]"
      ]
     },
     "metadata": {},
     "output_type": "display_data"
    },
    {
     "name": "stdout",
     "output_type": "stream",
     "text": [
      "https://www.bitstamp.net/api/v2/ohlc/ltcbtc/?&currency_pair=ltcbtc&step=180&limit=1000&start=1580515200\n",
      "Downloaded from 2020-02-01 00:00:00(1580515200) to 2020-02-03 01:57:00(1580695020) 0.00758690\n",
      "Processing 1000 of ltcbtc\n"
     ]
    },
    {
     "data": {
      "application/vnd.jupyter.widget-view+json": {
       "model_id": "dafe39152abe4a2fb8bc718a876297ce",
       "version_major": 2,
       "version_minor": 0
      },
      "text/plain": [
       "  0%|          | 0/1000 [00:00<?, ?it/s]"
      ]
     },
     "metadata": {},
     "output_type": "display_data"
    },
    {
     "name": "stdout",
     "output_type": "stream",
     "text": [
      "https://www.bitstamp.net/api/v2/ohlc/btcusd/?&currency_pair=btcusd&step=180&limit=1000&start=1612137600\n",
      "Downloaded from 2021-02-01 00:00:00(1612137600) to 2021-02-03 01:57:00(1612317420) 35892.89\n",
      "Processing 1000 of btcusd\n"
     ]
    },
    {
     "data": {
      "application/vnd.jupyter.widget-view+json": {
       "model_id": "c657e7a737264964b8423482f418e6c7",
       "version_major": 2,
       "version_minor": 0
      },
      "text/plain": [
       "  0%|          | 0/1000 [00:00<?, ?it/s]"
      ]
     },
     "metadata": {},
     "output_type": "display_data"
    },
    {
     "name": "stdout",
     "output_type": "stream",
     "text": [
      "https://www.bitstamp.net/api/v2/ohlc/ethusd/?&currency_pair=ethusd&step=180&limit=1000&start=1612137600\n",
      "Downloaded from 2021-02-01 00:00:00(1612137600) to 2021-02-03 01:57:00(1612317420) 1519.63\n",
      "Processing 1000 of ethusd\n"
     ]
    },
    {
     "data": {
      "application/vnd.jupyter.widget-view+json": {
       "model_id": "1a938b311bff4ff4a0ed29d61ba039ad",
       "version_major": 2,
       "version_minor": 0
      },
      "text/plain": [
       "  0%|          | 0/1000 [00:00<?, ?it/s]"
      ]
     },
     "metadata": {},
     "output_type": "display_data"
    },
    {
     "name": "stdout",
     "output_type": "stream",
     "text": [
      "https://www.bitstamp.net/api/v2/ohlc/ltcusd/?&currency_pair=ltcusd&step=180&limit=1000&start=1612137600\n",
      "Downloaded from 2021-02-01 00:00:00(1612137600) to 2021-02-03 01:57:00(1612317420) 148.03\n",
      "Processing 1000 of ltcusd\n"
     ]
    },
    {
     "data": {
      "application/vnd.jupyter.widget-view+json": {
       "model_id": "2292dae3b01647758c5e953557110573",
       "version_major": 2,
       "version_minor": 0
      },
      "text/plain": [
       "  0%|          | 0/1000 [00:00<?, ?it/s]"
      ]
     },
     "metadata": {},
     "output_type": "display_data"
    },
    {
     "name": "stdout",
     "output_type": "stream",
     "text": [
      "https://www.bitstamp.net/api/v2/ohlc/ltcbtc/?&currency_pair=ltcbtc&step=180&limit=1000&start=1612137600\n",
      "Downloaded from 2021-02-01 00:00:00(1612137600) to 2021-02-03 01:57:00(1612317420) 0.00412009\n",
      "Processing 1000 of ltcbtc\n"
     ]
    },
    {
     "data": {
      "application/vnd.jupyter.widget-view+json": {
       "model_id": "ea4c8b8db64045c8bebc75a6fc73717f",
       "version_major": 2,
       "version_minor": 0
      },
      "text/plain": [
       "  0%|          | 0/1000 [00:00<?, ?it/s]"
      ]
     },
     "metadata": {},
     "output_type": "display_data"
    },
    {
     "name": "stdout",
     "output_type": "stream",
     "text": [
      "https://www.bitstamp.net/api/v2/ohlc/btcusd/?&currency_pair=btcusd&step=180&limit=1000&start=1623711600\n",
      "https://www.bitstamp.net/api/v2/ohlc/btcusd/?&currency_pair=btcusd&step=180&limit=1000&start=1623891600\n",
      "https://www.bitstamp.net/api/v2/ohlc/btcusd/?&currency_pair=btcusd&step=180&limit=1000&start=1624071600\n",
      "https://www.bitstamp.net/api/v2/ohlc/btcusd/?&currency_pair=btcusd&step=180&limit=1000&start=1624251600\n",
      "https://www.bitstamp.net/api/v2/ohlc/btcusd/?&currency_pair=btcusd&step=180&limit=1000&start=1624431600\n",
      "https://www.bitstamp.net/api/v2/ohlc/btcusd/?&currency_pair=btcusd&step=180&limit=1000&start=1624611600\n",
      "https://www.bitstamp.net/api/v2/ohlc/btcusd/?&currency_pair=btcusd&step=180&limit=1000&start=1624791600\n",
      "https://www.bitstamp.net/api/v2/ohlc/btcusd/?&currency_pair=btcusd&step=180&limit=1000&start=1624971600\n",
      "https://www.bitstamp.net/api/v2/ohlc/btcusd/?&currency_pair=btcusd&step=180&limit=1000&start=1625151600\n",
      "https://www.bitstamp.net/api/v2/ohlc/btcusd/?&currency_pair=btcusd&step=180&limit=1000&start=1625331600\n",
      "https://www.bitstamp.net/api/v2/ohlc/btcusd/?&currency_pair=btcusd&step=180&limit=1000&start=1625511600\n",
      "https://www.bitstamp.net/api/v2/ohlc/btcusd/?&currency_pair=btcusd&step=180&limit=1000&start=1625691600\n",
      "https://www.bitstamp.net/api/v2/ohlc/btcusd/?&currency_pair=btcusd&step=180&limit=1000&start=1625871600\n",
      "https://www.bitstamp.net/api/v2/ohlc/btcusd/?&currency_pair=btcusd&step=180&limit=1000&start=1626051600\n",
      "https://www.bitstamp.net/api/v2/ohlc/btcusd/?&currency_pair=btcusd&step=180&limit=1000&start=1626231600\n",
      "Downloaded from 2021-06-15 00:00:00(1623711600) to 2021-07-15 00:00:00(1626303600) 32978.97\n",
      "Processing 14401 of btcusd\n"
     ]
    },
    {
     "data": {
      "application/vnd.jupyter.widget-view+json": {
       "model_id": "d791b462bcdf4409921f5b2c23fef9e5",
       "version_major": 2,
       "version_minor": 0
      },
      "text/plain": [
       "  0%|          | 0/14401 [00:00<?, ?it/s]"
      ]
     },
     "metadata": {},
     "output_type": "display_data"
    },
    {
     "name": "stdout",
     "output_type": "stream",
     "text": [
      "https://www.bitstamp.net/api/v2/ohlc/ethusd/?&currency_pair=ethusd&step=180&limit=1000&start=1623711600\n",
      "https://www.bitstamp.net/api/v2/ohlc/ethusd/?&currency_pair=ethusd&step=180&limit=1000&start=1623891600\n",
      "https://www.bitstamp.net/api/v2/ohlc/ethusd/?&currency_pair=ethusd&step=180&limit=1000&start=1624071600\n",
      "https://www.bitstamp.net/api/v2/ohlc/ethusd/?&currency_pair=ethusd&step=180&limit=1000&start=1624251600\n",
      "https://www.bitstamp.net/api/v2/ohlc/ethusd/?&currency_pair=ethusd&step=180&limit=1000&start=1624431600\n",
      "https://www.bitstamp.net/api/v2/ohlc/ethusd/?&currency_pair=ethusd&step=180&limit=1000&start=1624611600\n",
      "https://www.bitstamp.net/api/v2/ohlc/ethusd/?&currency_pair=ethusd&step=180&limit=1000&start=1624791600\n",
      "https://www.bitstamp.net/api/v2/ohlc/ethusd/?&currency_pair=ethusd&step=180&limit=1000&start=1624971600\n",
      "https://www.bitstamp.net/api/v2/ohlc/ethusd/?&currency_pair=ethusd&step=180&limit=1000&start=1625151600\n",
      "https://www.bitstamp.net/api/v2/ohlc/ethusd/?&currency_pair=ethusd&step=180&limit=1000&start=1625331600\n",
      "https://www.bitstamp.net/api/v2/ohlc/ethusd/?&currency_pair=ethusd&step=180&limit=1000&start=1625511600\n",
      "https://www.bitstamp.net/api/v2/ohlc/ethusd/?&currency_pair=ethusd&step=180&limit=1000&start=1625691600\n",
      "https://www.bitstamp.net/api/v2/ohlc/ethusd/?&currency_pair=ethusd&step=180&limit=1000&start=1625871600\n",
      "https://www.bitstamp.net/api/v2/ohlc/ethusd/?&currency_pair=ethusd&step=180&limit=1000&start=1626051600\n",
      "https://www.bitstamp.net/api/v2/ohlc/ethusd/?&currency_pair=ethusd&step=180&limit=1000&start=1626231600\n",
      "Downloaded from 2021-06-15 00:00:00(1623711600) to 2021-07-15 00:00:00(1626303600) 2005.17\n",
      "Processing 14401 of ethusd\n"
     ]
    },
    {
     "data": {
      "application/vnd.jupyter.widget-view+json": {
       "model_id": "a0c9c62a3b5a458bacbff09f6a812e29",
       "version_major": 2,
       "version_minor": 0
      },
      "text/plain": [
       "  0%|          | 0/14401 [00:00<?, ?it/s]"
      ]
     },
     "metadata": {},
     "output_type": "display_data"
    },
    {
     "name": "stdout",
     "output_type": "stream",
     "text": [
      "https://www.bitstamp.net/api/v2/ohlc/ltcusd/?&currency_pair=ltcusd&step=180&limit=1000&start=1623711600\n",
      "https://www.bitstamp.net/api/v2/ohlc/ltcusd/?&currency_pair=ltcusd&step=180&limit=1000&start=1623891600\n",
      "https://www.bitstamp.net/api/v2/ohlc/ltcusd/?&currency_pair=ltcusd&step=180&limit=1000&start=1624071600\n",
      "https://www.bitstamp.net/api/v2/ohlc/ltcusd/?&currency_pair=ltcusd&step=180&limit=1000&start=1624251600\n",
      "https://www.bitstamp.net/api/v2/ohlc/ltcusd/?&currency_pair=ltcusd&step=180&limit=1000&start=1624431600\n",
      "https://www.bitstamp.net/api/v2/ohlc/ltcusd/?&currency_pair=ltcusd&step=180&limit=1000&start=1624611600\n",
      "https://www.bitstamp.net/api/v2/ohlc/ltcusd/?&currency_pair=ltcusd&step=180&limit=1000&start=1624791600\n",
      "https://www.bitstamp.net/api/v2/ohlc/ltcusd/?&currency_pair=ltcusd&step=180&limit=1000&start=1624971600\n",
      "https://www.bitstamp.net/api/v2/ohlc/ltcusd/?&currency_pair=ltcusd&step=180&limit=1000&start=1625151600\n",
      "https://www.bitstamp.net/api/v2/ohlc/ltcusd/?&currency_pair=ltcusd&step=180&limit=1000&start=1625331600\n",
      "https://www.bitstamp.net/api/v2/ohlc/ltcusd/?&currency_pair=ltcusd&step=180&limit=1000&start=1625511600\n",
      "https://www.bitstamp.net/api/v2/ohlc/ltcusd/?&currency_pair=ltcusd&step=180&limit=1000&start=1625691600\n",
      "https://www.bitstamp.net/api/v2/ohlc/ltcusd/?&currency_pair=ltcusd&step=180&limit=1000&start=1625871600\n",
      "https://www.bitstamp.net/api/v2/ohlc/ltcusd/?&currency_pair=ltcusd&step=180&limit=1000&start=1626051600\n",
      "https://www.bitstamp.net/api/v2/ohlc/ltcusd/?&currency_pair=ltcusd&step=180&limit=1000&start=1626231600\n",
      "Downloaded from 2021-06-15 00:00:00(1623711600) to 2021-07-15 00:00:00(1626303600) 131.43\n",
      "Processing 14401 of ltcusd\n"
     ]
    },
    {
     "data": {
      "application/vnd.jupyter.widget-view+json": {
       "model_id": "451d4bd4692541cabec19e59364d9a2f",
       "version_major": 2,
       "version_minor": 0
      },
      "text/plain": [
       "  0%|          | 0/14401 [00:00<?, ?it/s]"
      ]
     },
     "metadata": {},
     "output_type": "display_data"
    },
    {
     "name": "stdout",
     "output_type": "stream",
     "text": [
      "https://www.bitstamp.net/api/v2/ohlc/ltcbtc/?&currency_pair=ltcbtc&step=180&limit=1000&start=1623711600\n",
      "https://www.bitstamp.net/api/v2/ohlc/ltcbtc/?&currency_pair=ltcbtc&step=180&limit=1000&start=1623891600\n",
      "https://www.bitstamp.net/api/v2/ohlc/ltcbtc/?&currency_pair=ltcbtc&step=180&limit=1000&start=1624071600\n",
      "https://www.bitstamp.net/api/v2/ohlc/ltcbtc/?&currency_pair=ltcbtc&step=180&limit=1000&start=1624251600\n",
      "https://www.bitstamp.net/api/v2/ohlc/ltcbtc/?&currency_pair=ltcbtc&step=180&limit=1000&start=1624431600\n",
      "https://www.bitstamp.net/api/v2/ohlc/ltcbtc/?&currency_pair=ltcbtc&step=180&limit=1000&start=1624611600\n",
      "https://www.bitstamp.net/api/v2/ohlc/ltcbtc/?&currency_pair=ltcbtc&step=180&limit=1000&start=1624791600\n",
      "https://www.bitstamp.net/api/v2/ohlc/ltcbtc/?&currency_pair=ltcbtc&step=180&limit=1000&start=1624971600\n",
      "https://www.bitstamp.net/api/v2/ohlc/ltcbtc/?&currency_pair=ltcbtc&step=180&limit=1000&start=1625151600\n",
      "https://www.bitstamp.net/api/v2/ohlc/ltcbtc/?&currency_pair=ltcbtc&step=180&limit=1000&start=1625331600\n",
      "https://www.bitstamp.net/api/v2/ohlc/ltcbtc/?&currency_pair=ltcbtc&step=180&limit=1000&start=1625511600\n",
      "https://www.bitstamp.net/api/v2/ohlc/ltcbtc/?&currency_pair=ltcbtc&step=180&limit=1000&start=1625691600\n",
      "https://www.bitstamp.net/api/v2/ohlc/ltcbtc/?&currency_pair=ltcbtc&step=180&limit=1000&start=1625871600\n",
      "https://www.bitstamp.net/api/v2/ohlc/ltcbtc/?&currency_pair=ltcbtc&step=180&limit=1000&start=1626051600\n",
      "https://www.bitstamp.net/api/v2/ohlc/ltcbtc/?&currency_pair=ltcbtc&step=180&limit=1000&start=1626231600\n",
      "Downloaded from 2021-06-15 00:00:00(1623711600) to 2021-07-15 00:00:00(1626303600) 0.00399637\n",
      "Processing 14401 of ltcbtc\n"
     ]
    },
    {
     "data": {
      "application/vnd.jupyter.widget-view+json": {
       "model_id": "5f83eb26cff24bbfa79c20a748f42645",
       "version_major": 2,
       "version_minor": 0
      },
      "text/plain": [
       "  0%|          | 0/14401 [00:00<?, ?it/s]"
      ]
     },
     "metadata": {},
     "output_type": "display_data"
    },
    {
     "name": "stdout",
     "output_type": "stream",
     "text": [
      "data/online5_3 -> OnLineDataProvider (val_keys = {'btcusd': 3, 'ethusd': 3, 'ltcusd': 3, 'ltcbtc': 3}, train_data = 2 , data_detail = DataDetail (windows = 5, minutes = 3, steps_ahead = 1)))\n",
      "https://www.bitstamp.net/api/v2/ohlc/btcusd/?&currency_pair=btcusd&step=180&limit=1000&start=1622502000\n",
      "Downloaded from 2021-06-01 00:00:00(1622502000) to 2021-06-03 01:57:00(1622681820) 37436.78\n",
      "Processing 1000 of btcusd\n"
     ]
    },
    {
     "data": {
      "application/vnd.jupyter.widget-view+json": {
       "model_id": "0b14b7528b56404980143581e4ab6fe4",
       "version_major": 2,
       "version_minor": 0
      },
      "text/plain": [
       "  0%|          | 0/1000 [00:00<?, ?it/s]"
      ]
     },
     "metadata": {},
     "output_type": "display_data"
    },
    {
     "name": "stdout",
     "output_type": "stream",
     "text": [
      "https://www.bitstamp.net/api/v2/ohlc/ethusd/?&currency_pair=ethusd&step=180&limit=1000&start=1622502000\n",
      "Downloaded from 2021-06-01 00:00:00(1622502000) to 2021-06-03 01:57:00(1622681820) 2702.14\n",
      "Processing 1000 of ethusd\n"
     ]
    },
    {
     "data": {
      "application/vnd.jupyter.widget-view+json": {
       "model_id": "cf03362cd4904e6a8d90bbf4c4aca1e8",
       "version_major": 2,
       "version_minor": 0
      },
      "text/plain": [
       "  0%|          | 0/1000 [00:00<?, ?it/s]"
      ]
     },
     "metadata": {},
     "output_type": "display_data"
    },
    {
     "name": "stdout",
     "output_type": "stream",
     "text": [
      "https://www.bitstamp.net/api/v2/ohlc/ltcusd/?&currency_pair=ltcusd&step=180&limit=1000&start=1622502000\n",
      "Downloaded from 2021-06-01 00:00:00(1622502000) to 2021-06-03 01:57:00(1622681820) 185.00\n",
      "Processing 1000 of ltcusd\n"
     ]
    },
    {
     "data": {
      "application/vnd.jupyter.widget-view+json": {
       "model_id": "23aff4ab4bfa49f8b012ba44181563a3",
       "version_major": 2,
       "version_minor": 0
      },
      "text/plain": [
       "  0%|          | 0/1000 [00:00<?, ?it/s]"
      ]
     },
     "metadata": {},
     "output_type": "display_data"
    },
    {
     "name": "stdout",
     "output_type": "stream",
     "text": [
      "https://www.bitstamp.net/api/v2/ohlc/ltcbtc/?&currency_pair=ltcbtc&step=180&limit=1000&start=1622502000\n",
      "Downloaded from 2021-06-01 00:00:00(1622502000) to 2021-06-03 01:57:00(1622681820) 0.00494481\n",
      "Processing 1000 of ltcbtc\n"
     ]
    },
    {
     "data": {
      "application/vnd.jupyter.widget-view+json": {
       "model_id": "1032fea74d2b4662b925f66fa6305f82",
       "version_major": 2,
       "version_minor": 0
      },
      "text/plain": [
       "  0%|          | 0/1000 [00:00<?, ?it/s]"
      ]
     },
     "metadata": {},
     "output_type": "display_data"
    },
    {
     "name": "stdout",
     "output_type": "stream",
     "text": [
      "https://www.bitstamp.net/api/v2/ohlc/btcusd/?&currency_pair=btcusd&step=180&limit=1000&start=1590966000\n",
      "Downloaded from 2020-06-01 00:00:00(1590966000) to 2020-06-03 01:57:00(1591145820) 9525.82\n",
      "Processing 1000 of btcusd\n"
     ]
    },
    {
     "data": {
      "application/vnd.jupyter.widget-view+json": {
       "model_id": "fdf98eac2cad45e7a48743a71e65c5e5",
       "version_major": 2,
       "version_minor": 0
      },
      "text/plain": [
       "  0%|          | 0/1000 [00:00<?, ?it/s]"
      ]
     },
     "metadata": {},
     "output_type": "display_data"
    },
    {
     "name": "stdout",
     "output_type": "stream",
     "text": [
      "https://www.bitstamp.net/api/v2/ohlc/ethusd/?&currency_pair=ethusd&step=180&limit=1000&start=1590966000\n",
      "Downloaded from 2020-06-01 00:00:00(1590966000) to 2020-06-03 01:57:00(1591145820) 237.99\n",
      "Processing 1000 of ethusd\n"
     ]
    },
    {
     "data": {
      "application/vnd.jupyter.widget-view+json": {
       "model_id": "1859eeb5cb18420492051343b56b1893",
       "version_major": 2,
       "version_minor": 0
      },
      "text/plain": [
       "  0%|          | 0/1000 [00:00<?, ?it/s]"
      ]
     },
     "metadata": {},
     "output_type": "display_data"
    },
    {
     "name": "stdout",
     "output_type": "stream",
     "text": [
      "https://www.bitstamp.net/api/v2/ohlc/ltcusd/?&currency_pair=ltcusd&step=180&limit=1000&start=1590966000\n",
      "Downloaded from 2020-06-01 00:00:00(1590966000) to 2020-06-03 01:57:00(1591145820) 46.08\n",
      "Processing 1000 of ltcusd\n"
     ]
    },
    {
     "data": {
      "application/vnd.jupyter.widget-view+json": {
       "model_id": "242f4743feda4c308af6094874e57338",
       "version_major": 2,
       "version_minor": 0
      },
      "text/plain": [
       "  0%|          | 0/1000 [00:00<?, ?it/s]"
      ]
     },
     "metadata": {},
     "output_type": "display_data"
    },
    {
     "name": "stdout",
     "output_type": "stream",
     "text": [
      "https://www.bitstamp.net/api/v2/ohlc/ltcbtc/?&currency_pair=ltcbtc&step=180&limit=1000&start=1590966000\n",
      "Downloaded from 2020-06-01 00:00:00(1590966000) to 2020-06-03 01:57:00(1591145820) 0.00484476\n",
      "Processing 1000 of ltcbtc\n"
     ]
    },
    {
     "data": {
      "application/vnd.jupyter.widget-view+json": {
       "model_id": "34ba04adf6d440789a867edbec0f9d8d",
       "version_major": 2,
       "version_minor": 0
      },
      "text/plain": [
       "  0%|          | 0/1000 [00:00<?, ?it/s]"
      ]
     },
     "metadata": {},
     "output_type": "display_data"
    },
    {
     "name": "stdout",
     "output_type": "stream",
     "text": [
      "https://www.bitstamp.net/api/v2/ohlc/btcusd/?&currency_pair=btcusd&step=180&limit=1000&start=1559343600\n",
      "Downloaded from 2019-06-01 00:00:00(1559343600) to 2019-06-03 01:57:00(1559523420) 8681.59\n",
      "Processing 1000 of btcusd\n"
     ]
    },
    {
     "data": {
      "application/vnd.jupyter.widget-view+json": {
       "model_id": "fafc4dd69a7c4adfb893a2d954ba9224",
       "version_major": 2,
       "version_minor": 0
      },
      "text/plain": [
       "  0%|          | 0/1000 [00:00<?, ?it/s]"
      ]
     },
     "metadata": {},
     "output_type": "display_data"
    },
    {
     "name": "stdout",
     "output_type": "stream",
     "text": [
      "https://www.bitstamp.net/api/v2/ohlc/ethusd/?&currency_pair=ethusd&step=180&limit=1000&start=1559343600\n",
      "Downloaded from 2019-06-01 00:00:00(1559343600) to 2019-06-03 01:57:00(1559523420) 266.63\n",
      "Processing 1000 of ethusd\n"
     ]
    },
    {
     "data": {
      "application/vnd.jupyter.widget-view+json": {
       "model_id": "14bf41038c2d446f95ac5fa1d11433fa",
       "version_major": 2,
       "version_minor": 0
      },
      "text/plain": [
       "  0%|          | 0/1000 [00:00<?, ?it/s]"
      ]
     },
     "metadata": {},
     "output_type": "display_data"
    },
    {
     "name": "stdout",
     "output_type": "stream",
     "text": [
      "https://www.bitstamp.net/api/v2/ohlc/ltcusd/?&currency_pair=ltcusd&step=180&limit=1000&start=1559343600\n",
      "Downloaded from 2019-06-01 00:00:00(1559343600) to 2019-06-03 01:57:00(1559523420) 113.86\n",
      "Processing 1000 of ltcusd\n"
     ]
    },
    {
     "data": {
      "application/vnd.jupyter.widget-view+json": {
       "model_id": "9f82c838540845e68f90c14396214a26",
       "version_major": 2,
       "version_minor": 0
      },
      "text/plain": [
       "  0%|          | 0/1000 [00:00<?, ?it/s]"
      ]
     },
     "metadata": {},
     "output_type": "display_data"
    },
    {
     "name": "stdout",
     "output_type": "stream",
     "text": [
      "https://www.bitstamp.net/api/v2/ohlc/ltcbtc/?&currency_pair=ltcbtc&step=180&limit=1000&start=1559343600\n",
      "Downloaded from 2019-06-01 00:00:00(1559343600) to 2019-06-03 01:57:00(1559523420) 0.01310000\n",
      "Processing 1000 of ltcbtc\n"
     ]
    },
    {
     "data": {
      "application/vnd.jupyter.widget-view+json": {
       "model_id": "db81507b86d34fefa997e96d6656e8d3",
       "version_major": 2,
       "version_minor": 0
      },
      "text/plain": [
       "  0%|          | 0/1000 [00:00<?, ?it/s]"
      ]
     },
     "metadata": {},
     "output_type": "display_data"
    },
    {
     "name": "stdout",
     "output_type": "stream",
     "text": [
      "https://www.bitstamp.net/api/v2/ohlc/btcusd/?&currency_pair=btcusd&step=180&limit=1000&start=1527807600\n",
      "Downloaded from 2018-06-01 00:00:00(1527807600) to 2018-06-03 01:57:00(1527987420) 7653.99\n",
      "Processing 1000 of btcusd\n"
     ]
    },
    {
     "data": {
      "application/vnd.jupyter.widget-view+json": {
       "model_id": "aa82abf0e7e84ed59a01c5feba478705",
       "version_major": 2,
       "version_minor": 0
      },
      "text/plain": [
       "  0%|          | 0/1000 [00:00<?, ?it/s]"
      ]
     },
     "metadata": {},
     "output_type": "display_data"
    },
    {
     "name": "stdout",
     "output_type": "stream",
     "text": [
      "https://www.bitstamp.net/api/v2/ohlc/ethusd/?&currency_pair=ethusd&step=180&limit=1000&start=1527807600\n",
      "Downloaded from 2018-06-01 00:00:00(1527807600) to 2018-06-03 01:57:00(1527987420) 592.70\n",
      "Processing 1000 of ethusd\n"
     ]
    },
    {
     "data": {
      "application/vnd.jupyter.widget-view+json": {
       "model_id": "42ba9a6f7b5845abafa630cf8cd7652a",
       "version_major": 2,
       "version_minor": 0
      },
      "text/plain": [
       "  0%|          | 0/1000 [00:00<?, ?it/s]"
      ]
     },
     "metadata": {},
     "output_type": "display_data"
    },
    {
     "name": "stdout",
     "output_type": "stream",
     "text": [
      "https://www.bitstamp.net/api/v2/ohlc/ltcusd/?&currency_pair=ltcusd&step=180&limit=1000&start=1527807600\n",
      "Downloaded from 2018-06-01 00:00:00(1527807600) to 2018-06-03 01:57:00(1527987420) 123.64\n",
      "Processing 1000 of ltcusd\n"
     ]
    },
    {
     "data": {
      "application/vnd.jupyter.widget-view+json": {
       "model_id": "be470b2742ef446a9f4489857db2b794",
       "version_major": 2,
       "version_minor": 0
      },
      "text/plain": [
       "  0%|          | 0/1000 [00:00<?, ?it/s]"
      ]
     },
     "metadata": {},
     "output_type": "display_data"
    },
    {
     "name": "stdout",
     "output_type": "stream",
     "text": [
      "https://www.bitstamp.net/api/v2/ohlc/ltcbtc/?&currency_pair=ltcbtc&step=180&limit=1000&start=1527807600\n",
      "Downloaded from 2018-06-01 00:00:00(1527807600) to 2018-06-03 01:57:00(1527987420) 0.01614501\n",
      "Processing 1000 of ltcbtc\n"
     ]
    },
    {
     "data": {
      "application/vnd.jupyter.widget-view+json": {
       "model_id": "beaa96d371ad49a885585e807af7f1fb",
       "version_major": 2,
       "version_minor": 0
      },
      "text/plain": [
       "  0%|          | 0/1000 [00:00<?, ?it/s]"
      ]
     },
     "metadata": {},
     "output_type": "display_data"
    },
    {
     "name": "stdout",
     "output_type": "stream",
     "text": [
      "https://www.bitstamp.net/api/v2/ohlc/btcusd/?&currency_pair=btcusd&step=180&limit=1000&start=1517443200\n",
      "Downloaded from 2018-02-01 00:00:00(1517443200) to 2018-02-03 01:57:00(1517623020) 8563.00\n",
      "Processing 1000 of btcusd\n"
     ]
    },
    {
     "data": {
      "application/vnd.jupyter.widget-view+json": {
       "model_id": "86c7b58b736f4e0d8c8c2d8a0612ceee",
       "version_major": 2,
       "version_minor": 0
      },
      "text/plain": [
       "  0%|          | 0/1000 [00:00<?, ?it/s]"
      ]
     },
     "metadata": {},
     "output_type": "display_data"
    },
    {
     "name": "stdout",
     "output_type": "stream",
     "text": [
      "https://www.bitstamp.net/api/v2/ohlc/ethusd/?&currency_pair=ethusd&step=180&limit=1000&start=1517443200\n",
      "Downloaded from 2018-02-01 00:00:00(1517443200) to 2018-02-03 01:57:00(1517623020) 894.06\n",
      "Processing 1000 of ethusd\n"
     ]
    },
    {
     "data": {
      "application/vnd.jupyter.widget-view+json": {
       "model_id": "b1ac2fafc59044ad86b61f20692f3674",
       "version_major": 2,
       "version_minor": 0
      },
      "text/plain": [
       "  0%|          | 0/1000 [00:00<?, ?it/s]"
      ]
     },
     "metadata": {},
     "output_type": "display_data"
    },
    {
     "name": "stdout",
     "output_type": "stream",
     "text": [
      "https://www.bitstamp.net/api/v2/ohlc/ltcusd/?&currency_pair=ltcusd&step=180&limit=1000&start=1517443200\n",
      "Downloaded from 2018-02-01 00:00:00(1517443200) to 2018-02-03 01:57:00(1517623020) 127.76\n",
      "Processing 1000 of ltcusd\n"
     ]
    },
    {
     "data": {
      "application/vnd.jupyter.widget-view+json": {
       "model_id": "70792ee7dfd642419be39f2dc6e2b9ed",
       "version_major": 2,
       "version_minor": 0
      },
      "text/plain": [
       "  0%|          | 0/1000 [00:00<?, ?it/s]"
      ]
     },
     "metadata": {},
     "output_type": "display_data"
    },
    {
     "name": "stdout",
     "output_type": "stream",
     "text": [
      "https://www.bitstamp.net/api/v2/ohlc/ltcbtc/?&currency_pair=ltcbtc&step=180&limit=1000&start=1517443200\n",
      "Downloaded from 2018-02-01 00:00:00(1517443200) to 2018-02-03 01:57:00(1517623020) 0.01497000\n",
      "Processing 1000 of ltcbtc\n"
     ]
    },
    {
     "data": {
      "application/vnd.jupyter.widget-view+json": {
       "model_id": "f1552dbc00b141ef8abce09ffb2440ce",
       "version_major": 2,
       "version_minor": 0
      },
      "text/plain": [
       "  0%|          | 0/1000 [00:00<?, ?it/s]"
      ]
     },
     "metadata": {},
     "output_type": "display_data"
    },
    {
     "name": "stdout",
     "output_type": "stream",
     "text": [
      "https://www.bitstamp.net/api/v2/ohlc/btcusd/?&currency_pair=btcusd&step=180&limit=1000&start=1548979200\n",
      "Downloaded from 2019-02-01 00:00:00(1548979200) to 2019-02-03 01:57:00(1549159020) 3448.32\n",
      "Processing 1000 of btcusd\n"
     ]
    },
    {
     "data": {
      "application/vnd.jupyter.widget-view+json": {
       "model_id": "ce5a79f407314a69952eda0260517470",
       "version_major": 2,
       "version_minor": 0
      },
      "text/plain": [
       "  0%|          | 0/1000 [00:00<?, ?it/s]"
      ]
     },
     "metadata": {},
     "output_type": "display_data"
    },
    {
     "name": "stdout",
     "output_type": "stream",
     "text": [
      "https://www.bitstamp.net/api/v2/ohlc/ethusd/?&currency_pair=ethusd&step=180&limit=1000&start=1548979200\n",
      "Downloaded from 2019-02-01 00:00:00(1548979200) to 2019-02-03 01:57:00(1549159020) 108.63\n",
      "Processing 1000 of ethusd\n"
     ]
    },
    {
     "data": {
      "application/vnd.jupyter.widget-view+json": {
       "model_id": "0bd26c89e1f14244b8a5b4c34ae1fb6b",
       "version_major": 2,
       "version_minor": 0
      },
      "text/plain": [
       "  0%|          | 0/1000 [00:00<?, ?it/s]"
      ]
     },
     "metadata": {},
     "output_type": "display_data"
    },
    {
     "name": "stdout",
     "output_type": "stream",
     "text": [
      "https://www.bitstamp.net/api/v2/ohlc/ltcusd/?&currency_pair=ltcusd&step=180&limit=1000&start=1548979200\n",
      "Downloaded from 2019-02-01 00:00:00(1548979200) to 2019-02-03 01:57:00(1549159020) 34.01\n",
      "Processing 1000 of ltcusd\n"
     ]
    },
    {
     "data": {
      "application/vnd.jupyter.widget-view+json": {
       "model_id": "1fbc841533b44ea3bb3e1c404393d133",
       "version_major": 2,
       "version_minor": 0
      },
      "text/plain": [
       "  0%|          | 0/1000 [00:00<?, ?it/s]"
      ]
     },
     "metadata": {},
     "output_type": "display_data"
    },
    {
     "name": "stdout",
     "output_type": "stream",
     "text": [
      "https://www.bitstamp.net/api/v2/ohlc/ltcbtc/?&currency_pair=ltcbtc&step=180&limit=1000&start=1548979200\n",
      "Downloaded from 2019-02-01 00:00:00(1548979200) to 2019-02-03 01:57:00(1549159020) 0.00988827\n",
      "Processing 1000 of ltcbtc\n"
     ]
    },
    {
     "data": {
      "application/vnd.jupyter.widget-view+json": {
       "model_id": "51f6a4dd35d24a4caa45892e2b7450e9",
       "version_major": 2,
       "version_minor": 0
      },
      "text/plain": [
       "  0%|          | 0/1000 [00:00<?, ?it/s]"
      ]
     },
     "metadata": {},
     "output_type": "display_data"
    },
    {
     "name": "stdout",
     "output_type": "stream",
     "text": [
      "https://www.bitstamp.net/api/v2/ohlc/btcusd/?&currency_pair=btcusd&step=180&limit=1000&start=1580515200\n",
      "Downloaded from 2020-02-01 00:00:00(1580515200) to 2020-02-03 01:57:00(1580695020) 9540.01\n",
      "Processing 1000 of btcusd\n"
     ]
    },
    {
     "data": {
      "application/vnd.jupyter.widget-view+json": {
       "model_id": "4661ed39549b45c9958962df699c529d",
       "version_major": 2,
       "version_minor": 0
      },
      "text/plain": [
       "  0%|          | 0/1000 [00:00<?, ?it/s]"
      ]
     },
     "metadata": {},
     "output_type": "display_data"
    },
    {
     "name": "stdout",
     "output_type": "stream",
     "text": [
      "https://www.bitstamp.net/api/v2/ohlc/ethusd/?&currency_pair=ethusd&step=180&limit=1000&start=1580515200\n",
      "Downloaded from 2020-02-01 00:00:00(1580515200) to 2020-02-03 01:57:00(1580695020) 193.14\n",
      "Processing 1000 of ethusd\n"
     ]
    },
    {
     "data": {
      "application/vnd.jupyter.widget-view+json": {
       "model_id": "f5d669c542294652be95cc659fb6e6bf",
       "version_major": 2,
       "version_minor": 0
      },
      "text/plain": [
       "  0%|          | 0/1000 [00:00<?, ?it/s]"
      ]
     },
     "metadata": {},
     "output_type": "display_data"
    },
    {
     "name": "stdout",
     "output_type": "stream",
     "text": [
      "https://www.bitstamp.net/api/v2/ohlc/ltcusd/?&currency_pair=ltcusd&step=180&limit=1000&start=1580515200\n",
      "Downloaded from 2020-02-01 00:00:00(1580515200) to 2020-02-03 01:57:00(1580695020) 71.63\n",
      "Processing 1000 of ltcusd\n"
     ]
    },
    {
     "data": {
      "application/vnd.jupyter.widget-view+json": {
       "model_id": "77d80e5f468544b083f3f642fc763766",
       "version_major": 2,
       "version_minor": 0
      },
      "text/plain": [
       "  0%|          | 0/1000 [00:00<?, ?it/s]"
      ]
     },
     "metadata": {},
     "output_type": "display_data"
    },
    {
     "name": "stdout",
     "output_type": "stream",
     "text": [
      "https://www.bitstamp.net/api/v2/ohlc/ltcbtc/?&currency_pair=ltcbtc&step=180&limit=1000&start=1580515200\n",
      "Downloaded from 2020-02-01 00:00:00(1580515200) to 2020-02-03 01:57:00(1580695020) 0.00758690\n",
      "Processing 1000 of ltcbtc\n"
     ]
    },
    {
     "data": {
      "application/vnd.jupyter.widget-view+json": {
       "model_id": "0e79e8fc4e7d42319093e4025b6a3c91",
       "version_major": 2,
       "version_minor": 0
      },
      "text/plain": [
       "  0%|          | 0/1000 [00:00<?, ?it/s]"
      ]
     },
     "metadata": {},
     "output_type": "display_data"
    },
    {
     "name": "stdout",
     "output_type": "stream",
     "text": [
      "https://www.bitstamp.net/api/v2/ohlc/btcusd/?&currency_pair=btcusd&step=180&limit=1000&start=1612137600\n",
      "Downloaded from 2021-02-01 00:00:00(1612137600) to 2021-02-03 01:57:00(1612317420) 35892.89\n",
      "Processing 1000 of btcusd\n"
     ]
    },
    {
     "data": {
      "application/vnd.jupyter.widget-view+json": {
       "model_id": "c708a70cfe604b419f7b1066e296e7c8",
       "version_major": 2,
       "version_minor": 0
      },
      "text/plain": [
       "  0%|          | 0/1000 [00:00<?, ?it/s]"
      ]
     },
     "metadata": {},
     "output_type": "display_data"
    },
    {
     "name": "stdout",
     "output_type": "stream",
     "text": [
      "https://www.bitstamp.net/api/v2/ohlc/ethusd/?&currency_pair=ethusd&step=180&limit=1000&start=1612137600\n",
      "Downloaded from 2021-02-01 00:00:00(1612137600) to 2021-02-03 01:57:00(1612317420) 1519.63\n",
      "Processing 1000 of ethusd\n"
     ]
    },
    {
     "data": {
      "application/vnd.jupyter.widget-view+json": {
       "model_id": "bdfc510e29a8459cb673055fb12b7884",
       "version_major": 2,
       "version_minor": 0
      },
      "text/plain": [
       "  0%|          | 0/1000 [00:00<?, ?it/s]"
      ]
     },
     "metadata": {},
     "output_type": "display_data"
    },
    {
     "name": "stdout",
     "output_type": "stream",
     "text": [
      "https://www.bitstamp.net/api/v2/ohlc/ltcusd/?&currency_pair=ltcusd&step=180&limit=1000&start=1612137600\n",
      "Downloaded from 2021-02-01 00:00:00(1612137600) to 2021-02-03 01:57:00(1612317420) 148.03\n",
      "Processing 1000 of ltcusd\n"
     ]
    },
    {
     "data": {
      "application/vnd.jupyter.widget-view+json": {
       "model_id": "0a218a714ca5465daae6fe5c557a0451",
       "version_major": 2,
       "version_minor": 0
      },
      "text/plain": [
       "  0%|          | 0/1000 [00:00<?, ?it/s]"
      ]
     },
     "metadata": {},
     "output_type": "display_data"
    },
    {
     "name": "stdout",
     "output_type": "stream",
     "text": [
      "https://www.bitstamp.net/api/v2/ohlc/ltcbtc/?&currency_pair=ltcbtc&step=180&limit=1000&start=1612137600\n",
      "Downloaded from 2021-02-01 00:00:00(1612137600) to 2021-02-03 01:57:00(1612317420) 0.00412009\n",
      "Processing 1000 of ltcbtc\n"
     ]
    },
    {
     "data": {
      "application/vnd.jupyter.widget-view+json": {
       "model_id": "2c2acdcae8264899b3c85d744da095a9",
       "version_major": 2,
       "version_minor": 0
      },
      "text/plain": [
       "  0%|          | 0/1000 [00:00<?, ?it/s]"
      ]
     },
     "metadata": {},
     "output_type": "display_data"
    },
    {
     "name": "stdout",
     "output_type": "stream",
     "text": [
      "https://www.bitstamp.net/api/v2/ohlc/btcusd/?&currency_pair=btcusd&step=180&limit=1000&start=1623711600\n",
      "https://www.bitstamp.net/api/v2/ohlc/btcusd/?&currency_pair=btcusd&step=180&limit=1000&start=1623891600\n",
      "https://www.bitstamp.net/api/v2/ohlc/btcusd/?&currency_pair=btcusd&step=180&limit=1000&start=1624071600\n",
      "https://www.bitstamp.net/api/v2/ohlc/btcusd/?&currency_pair=btcusd&step=180&limit=1000&start=1624251600\n",
      "https://www.bitstamp.net/api/v2/ohlc/btcusd/?&currency_pair=btcusd&step=180&limit=1000&start=1624431600\n",
      "https://www.bitstamp.net/api/v2/ohlc/btcusd/?&currency_pair=btcusd&step=180&limit=1000&start=1624611600\n",
      "https://www.bitstamp.net/api/v2/ohlc/btcusd/?&currency_pair=btcusd&step=180&limit=1000&start=1624791600\n",
      "https://www.bitstamp.net/api/v2/ohlc/btcusd/?&currency_pair=btcusd&step=180&limit=1000&start=1624971600\n",
      "https://www.bitstamp.net/api/v2/ohlc/btcusd/?&currency_pair=btcusd&step=180&limit=1000&start=1625151600\n",
      "https://www.bitstamp.net/api/v2/ohlc/btcusd/?&currency_pair=btcusd&step=180&limit=1000&start=1625331600\n",
      "https://www.bitstamp.net/api/v2/ohlc/btcusd/?&currency_pair=btcusd&step=180&limit=1000&start=1625511600\n",
      "https://www.bitstamp.net/api/v2/ohlc/btcusd/?&currency_pair=btcusd&step=180&limit=1000&start=1625691600\n",
      "https://www.bitstamp.net/api/v2/ohlc/btcusd/?&currency_pair=btcusd&step=180&limit=1000&start=1625871600\n",
      "https://www.bitstamp.net/api/v2/ohlc/btcusd/?&currency_pair=btcusd&step=180&limit=1000&start=1626051600\n",
      "https://www.bitstamp.net/api/v2/ohlc/btcusd/?&currency_pair=btcusd&step=180&limit=1000&start=1626231600\n",
      "Downloaded from 2021-06-15 00:00:00(1623711600) to 2021-07-15 00:00:00(1626303600) 32978.97\n",
      "Processing 14401 of btcusd\n"
     ]
    },
    {
     "data": {
      "application/vnd.jupyter.widget-view+json": {
       "model_id": "a975ec9ebf4341518fdbf53c072fcc46",
       "version_major": 2,
       "version_minor": 0
      },
      "text/plain": [
       "  0%|          | 0/14401 [00:00<?, ?it/s]"
      ]
     },
     "metadata": {},
     "output_type": "display_data"
    },
    {
     "name": "stdout",
     "output_type": "stream",
     "text": [
      "https://www.bitstamp.net/api/v2/ohlc/ethusd/?&currency_pair=ethusd&step=180&limit=1000&start=1623711600\n",
      "https://www.bitstamp.net/api/v2/ohlc/ethusd/?&currency_pair=ethusd&step=180&limit=1000&start=1623891600\n",
      "https://www.bitstamp.net/api/v2/ohlc/ethusd/?&currency_pair=ethusd&step=180&limit=1000&start=1624071600\n",
      "https://www.bitstamp.net/api/v2/ohlc/ethusd/?&currency_pair=ethusd&step=180&limit=1000&start=1624251600\n",
      "https://www.bitstamp.net/api/v2/ohlc/ethusd/?&currency_pair=ethusd&step=180&limit=1000&start=1624431600\n",
      "https://www.bitstamp.net/api/v2/ohlc/ethusd/?&currency_pair=ethusd&step=180&limit=1000&start=1624611600\n",
      "https://www.bitstamp.net/api/v2/ohlc/ethusd/?&currency_pair=ethusd&step=180&limit=1000&start=1624791600\n",
      "https://www.bitstamp.net/api/v2/ohlc/ethusd/?&currency_pair=ethusd&step=180&limit=1000&start=1624971600\n",
      "https://www.bitstamp.net/api/v2/ohlc/ethusd/?&currency_pair=ethusd&step=180&limit=1000&start=1625151600\n",
      "https://www.bitstamp.net/api/v2/ohlc/ethusd/?&currency_pair=ethusd&step=180&limit=1000&start=1625331600\n",
      "https://www.bitstamp.net/api/v2/ohlc/ethusd/?&currency_pair=ethusd&step=180&limit=1000&start=1625511600\n",
      "https://www.bitstamp.net/api/v2/ohlc/ethusd/?&currency_pair=ethusd&step=180&limit=1000&start=1625691600\n",
      "https://www.bitstamp.net/api/v2/ohlc/ethusd/?&currency_pair=ethusd&step=180&limit=1000&start=1625871600\n",
      "https://www.bitstamp.net/api/v2/ohlc/ethusd/?&currency_pair=ethusd&step=180&limit=1000&start=1626051600\n",
      "https://www.bitstamp.net/api/v2/ohlc/ethusd/?&currency_pair=ethusd&step=180&limit=1000&start=1626231600\n",
      "Downloaded from 2021-06-15 00:00:00(1623711600) to 2021-07-15 00:00:00(1626303600) 2005.17\n",
      "Processing 14401 of ethusd\n"
     ]
    },
    {
     "data": {
      "application/vnd.jupyter.widget-view+json": {
       "model_id": "f173636a3c1c4fa89f041c2c857208fa",
       "version_major": 2,
       "version_minor": 0
      },
      "text/plain": [
       "  0%|          | 0/14401 [00:00<?, ?it/s]"
      ]
     },
     "metadata": {},
     "output_type": "display_data"
    },
    {
     "name": "stdout",
     "output_type": "stream",
     "text": [
      "https://www.bitstamp.net/api/v2/ohlc/ltcusd/?&currency_pair=ltcusd&step=180&limit=1000&start=1623711600\n",
      "https://www.bitstamp.net/api/v2/ohlc/ltcusd/?&currency_pair=ltcusd&step=180&limit=1000&start=1623891600\n",
      "https://www.bitstamp.net/api/v2/ohlc/ltcusd/?&currency_pair=ltcusd&step=180&limit=1000&start=1624071600\n",
      "https://www.bitstamp.net/api/v2/ohlc/ltcusd/?&currency_pair=ltcusd&step=180&limit=1000&start=1624251600\n",
      "https://www.bitstamp.net/api/v2/ohlc/ltcusd/?&currency_pair=ltcusd&step=180&limit=1000&start=1624431600\n",
      "https://www.bitstamp.net/api/v2/ohlc/ltcusd/?&currency_pair=ltcusd&step=180&limit=1000&start=1624611600\n",
      "https://www.bitstamp.net/api/v2/ohlc/ltcusd/?&currency_pair=ltcusd&step=180&limit=1000&start=1624791600\n",
      "https://www.bitstamp.net/api/v2/ohlc/ltcusd/?&currency_pair=ltcusd&step=180&limit=1000&start=1624971600\n",
      "https://www.bitstamp.net/api/v2/ohlc/ltcusd/?&currency_pair=ltcusd&step=180&limit=1000&start=1625151600\n",
      "https://www.bitstamp.net/api/v2/ohlc/ltcusd/?&currency_pair=ltcusd&step=180&limit=1000&start=1625331600\n",
      "https://www.bitstamp.net/api/v2/ohlc/ltcusd/?&currency_pair=ltcusd&step=180&limit=1000&start=1625511600\n",
      "https://www.bitstamp.net/api/v2/ohlc/ltcusd/?&currency_pair=ltcusd&step=180&limit=1000&start=1625691600\n",
      "https://www.bitstamp.net/api/v2/ohlc/ltcusd/?&currency_pair=ltcusd&step=180&limit=1000&start=1625871600\n",
      "https://www.bitstamp.net/api/v2/ohlc/ltcusd/?&currency_pair=ltcusd&step=180&limit=1000&start=1626051600\n",
      "https://www.bitstamp.net/api/v2/ohlc/ltcusd/?&currency_pair=ltcusd&step=180&limit=1000&start=1626231600\n",
      "Downloaded from 2021-06-15 00:00:00(1623711600) to 2021-07-15 00:00:00(1626303600) 131.43\n",
      "Processing 14401 of ltcusd\n"
     ]
    },
    {
     "data": {
      "application/vnd.jupyter.widget-view+json": {
       "model_id": "c09a7a3520ea440bad6b75a469682ef1",
       "version_major": 2,
       "version_minor": 0
      },
      "text/plain": [
       "  0%|          | 0/14401 [00:00<?, ?it/s]"
      ]
     },
     "metadata": {},
     "output_type": "display_data"
    },
    {
     "name": "stdout",
     "output_type": "stream",
     "text": [
      "https://www.bitstamp.net/api/v2/ohlc/ltcbtc/?&currency_pair=ltcbtc&step=180&limit=1000&start=1623711600\n",
      "https://www.bitstamp.net/api/v2/ohlc/ltcbtc/?&currency_pair=ltcbtc&step=180&limit=1000&start=1623891600\n",
      "https://www.bitstamp.net/api/v2/ohlc/ltcbtc/?&currency_pair=ltcbtc&step=180&limit=1000&start=1624071600\n",
      "https://www.bitstamp.net/api/v2/ohlc/ltcbtc/?&currency_pair=ltcbtc&step=180&limit=1000&start=1624251600\n",
      "https://www.bitstamp.net/api/v2/ohlc/ltcbtc/?&currency_pair=ltcbtc&step=180&limit=1000&start=1624431600\n",
      "https://www.bitstamp.net/api/v2/ohlc/ltcbtc/?&currency_pair=ltcbtc&step=180&limit=1000&start=1624611600\n",
      "https://www.bitstamp.net/api/v2/ohlc/ltcbtc/?&currency_pair=ltcbtc&step=180&limit=1000&start=1624791600\n",
      "https://www.bitstamp.net/api/v2/ohlc/ltcbtc/?&currency_pair=ltcbtc&step=180&limit=1000&start=1624971600\n",
      "https://www.bitstamp.net/api/v2/ohlc/ltcbtc/?&currency_pair=ltcbtc&step=180&limit=1000&start=1625151600\n",
      "https://www.bitstamp.net/api/v2/ohlc/ltcbtc/?&currency_pair=ltcbtc&step=180&limit=1000&start=1625331600\n",
      "https://www.bitstamp.net/api/v2/ohlc/ltcbtc/?&currency_pair=ltcbtc&step=180&limit=1000&start=1625511600\n",
      "https://www.bitstamp.net/api/v2/ohlc/ltcbtc/?&currency_pair=ltcbtc&step=180&limit=1000&start=1625691600\n",
      "https://www.bitstamp.net/api/v2/ohlc/ltcbtc/?&currency_pair=ltcbtc&step=180&limit=1000&start=1625871600\n",
      "https://www.bitstamp.net/api/v2/ohlc/ltcbtc/?&currency_pair=ltcbtc&step=180&limit=1000&start=1626051600\n",
      "https://www.bitstamp.net/api/v2/ohlc/ltcbtc/?&currency_pair=ltcbtc&step=180&limit=1000&start=1626231600\n",
      "Downloaded from 2021-06-15 00:00:00(1623711600) to 2021-07-15 00:00:00(1626303600) 0.00399637\n",
      "Processing 14401 of ltcbtc\n"
     ]
    },
    {
     "data": {
      "application/vnd.jupyter.widget-view+json": {
       "model_id": "f4aa391c5f2d4c7680da6039b8c8f64c",
       "version_major": 2,
       "version_minor": 0
      },
      "text/plain": [
       "  0%|          | 0/14401 [00:00<?, ?it/s]"
      ]
     },
     "metadata": {},
     "output_type": "display_data"
    },
    {
     "name": "stdout",
     "output_type": "stream",
     "text": [
      "data/online10_3 -> OnLineDataProvider (val_keys = {'btcusd': 3, 'ethusd': 3, 'ltcusd': 3, 'ltcbtc': 3}, train_data = 2 , data_detail = DataDetail (windows = 10, minutes = 3, steps_ahead = 1)))\n",
      "https://www.bitstamp.net/api/v2/ohlc/btcusd/?&currency_pair=btcusd&step=180&limit=1000&start=1622502000\n",
      "Downloaded from 2021-06-01 00:00:00(1622502000) to 2021-06-03 01:57:00(1622681820) 37436.78\n",
      "Processing 1000 of btcusd\n"
     ]
    },
    {
     "data": {
      "application/vnd.jupyter.widget-view+json": {
       "model_id": "0404b88422bb463e98ed499245b37af8",
       "version_major": 2,
       "version_minor": 0
      },
      "text/plain": [
       "  0%|          | 0/1000 [00:00<?, ?it/s]"
      ]
     },
     "metadata": {},
     "output_type": "display_data"
    },
    {
     "name": "stdout",
     "output_type": "stream",
     "text": [
      "https://www.bitstamp.net/api/v2/ohlc/ethusd/?&currency_pair=ethusd&step=180&limit=1000&start=1622502000\n",
      "Downloaded from 2021-06-01 00:00:00(1622502000) to 2021-06-03 01:57:00(1622681820) 2702.14\n",
      "Processing 1000 of ethusd\n"
     ]
    },
    {
     "data": {
      "application/vnd.jupyter.widget-view+json": {
       "model_id": "fc072b5b160a4a779116a685b512c36c",
       "version_major": 2,
       "version_minor": 0
      },
      "text/plain": [
       "  0%|          | 0/1000 [00:00<?, ?it/s]"
      ]
     },
     "metadata": {},
     "output_type": "display_data"
    },
    {
     "name": "stdout",
     "output_type": "stream",
     "text": [
      "https://www.bitstamp.net/api/v2/ohlc/ltcusd/?&currency_pair=ltcusd&step=180&limit=1000&start=1622502000\n",
      "Downloaded from 2021-06-01 00:00:00(1622502000) to 2021-06-03 01:57:00(1622681820) 185.00\n",
      "Processing 1000 of ltcusd\n"
     ]
    },
    {
     "data": {
      "application/vnd.jupyter.widget-view+json": {
       "model_id": "9badf5272b3e4153a8184b5581ab75ce",
       "version_major": 2,
       "version_minor": 0
      },
      "text/plain": [
       "  0%|          | 0/1000 [00:00<?, ?it/s]"
      ]
     },
     "metadata": {},
     "output_type": "display_data"
    },
    {
     "name": "stdout",
     "output_type": "stream",
     "text": [
      "https://www.bitstamp.net/api/v2/ohlc/ltcbtc/?&currency_pair=ltcbtc&step=180&limit=1000&start=1622502000\n",
      "Downloaded from 2021-06-01 00:00:00(1622502000) to 2021-06-03 01:57:00(1622681820) 0.00494481\n",
      "Processing 1000 of ltcbtc\n"
     ]
    },
    {
     "data": {
      "application/vnd.jupyter.widget-view+json": {
       "model_id": "ded030dd89d84c8aab63545b79373f82",
       "version_major": 2,
       "version_minor": 0
      },
      "text/plain": [
       "  0%|          | 0/1000 [00:00<?, ?it/s]"
      ]
     },
     "metadata": {},
     "output_type": "display_data"
    },
    {
     "name": "stdout",
     "output_type": "stream",
     "text": [
      "https://www.bitstamp.net/api/v2/ohlc/btcusd/?&currency_pair=btcusd&step=180&limit=1000&start=1590966000\n",
      "Downloaded from 2020-06-01 00:00:00(1590966000) to 2020-06-03 01:57:00(1591145820) 9525.82\n",
      "Processing 1000 of btcusd\n"
     ]
    },
    {
     "data": {
      "application/vnd.jupyter.widget-view+json": {
       "model_id": "9f48eca3f4194ec198c773e9d6b72291",
       "version_major": 2,
       "version_minor": 0
      },
      "text/plain": [
       "  0%|          | 0/1000 [00:00<?, ?it/s]"
      ]
     },
     "metadata": {},
     "output_type": "display_data"
    },
    {
     "name": "stdout",
     "output_type": "stream",
     "text": [
      "https://www.bitstamp.net/api/v2/ohlc/ethusd/?&currency_pair=ethusd&step=180&limit=1000&start=1590966000\n",
      "Downloaded from 2020-06-01 00:00:00(1590966000) to 2020-06-03 01:57:00(1591145820) 237.99\n",
      "Processing 1000 of ethusd\n"
     ]
    },
    {
     "data": {
      "application/vnd.jupyter.widget-view+json": {
       "model_id": "0f0a4714eff4475bad9901e795c3becf",
       "version_major": 2,
       "version_minor": 0
      },
      "text/plain": [
       "  0%|          | 0/1000 [00:00<?, ?it/s]"
      ]
     },
     "metadata": {},
     "output_type": "display_data"
    },
    {
     "name": "stdout",
     "output_type": "stream",
     "text": [
      "https://www.bitstamp.net/api/v2/ohlc/ltcusd/?&currency_pair=ltcusd&step=180&limit=1000&start=1590966000\n",
      "Downloaded from 2020-06-01 00:00:00(1590966000) to 2020-06-03 01:57:00(1591145820) 46.08\n",
      "Processing 1000 of ltcusd\n"
     ]
    },
    {
     "data": {
      "application/vnd.jupyter.widget-view+json": {
       "model_id": "03d7d039e4cd42309a605dfefb547747",
       "version_major": 2,
       "version_minor": 0
      },
      "text/plain": [
       "  0%|          | 0/1000 [00:00<?, ?it/s]"
      ]
     },
     "metadata": {},
     "output_type": "display_data"
    },
    {
     "name": "stdout",
     "output_type": "stream",
     "text": [
      "https://www.bitstamp.net/api/v2/ohlc/ltcbtc/?&currency_pair=ltcbtc&step=180&limit=1000&start=1590966000\n",
      "Downloaded from 2020-06-01 00:00:00(1590966000) to 2020-06-03 01:57:00(1591145820) 0.00484476\n",
      "Processing 1000 of ltcbtc\n"
     ]
    },
    {
     "data": {
      "application/vnd.jupyter.widget-view+json": {
       "model_id": "1af7a9cbb1814fa2a2c5d03606b3d4c6",
       "version_major": 2,
       "version_minor": 0
      },
      "text/plain": [
       "  0%|          | 0/1000 [00:00<?, ?it/s]"
      ]
     },
     "metadata": {},
     "output_type": "display_data"
    },
    {
     "name": "stdout",
     "output_type": "stream",
     "text": [
      "https://www.bitstamp.net/api/v2/ohlc/btcusd/?&currency_pair=btcusd&step=180&limit=1000&start=1559343600\n",
      "Downloaded from 2019-06-01 00:00:00(1559343600) to 2019-06-03 01:57:00(1559523420) 8681.59\n",
      "Processing 1000 of btcusd\n"
     ]
    },
    {
     "data": {
      "application/vnd.jupyter.widget-view+json": {
       "model_id": "3871a7940d2844b286713489eb4aa851",
       "version_major": 2,
       "version_minor": 0
      },
      "text/plain": [
       "  0%|          | 0/1000 [00:00<?, ?it/s]"
      ]
     },
     "metadata": {},
     "output_type": "display_data"
    },
    {
     "name": "stdout",
     "output_type": "stream",
     "text": [
      "https://www.bitstamp.net/api/v2/ohlc/ethusd/?&currency_pair=ethusd&step=180&limit=1000&start=1559343600\n",
      "Downloaded from 2019-06-01 00:00:00(1559343600) to 2019-06-03 01:57:00(1559523420) 266.63\n",
      "Processing 1000 of ethusd\n"
     ]
    },
    {
     "data": {
      "application/vnd.jupyter.widget-view+json": {
       "model_id": "df9ecd02a2b146558244028a4642f6db",
       "version_major": 2,
       "version_minor": 0
      },
      "text/plain": [
       "  0%|          | 0/1000 [00:00<?, ?it/s]"
      ]
     },
     "metadata": {},
     "output_type": "display_data"
    },
    {
     "name": "stdout",
     "output_type": "stream",
     "text": [
      "https://www.bitstamp.net/api/v2/ohlc/ltcusd/?&currency_pair=ltcusd&step=180&limit=1000&start=1559343600\n",
      "Downloaded from 2019-06-01 00:00:00(1559343600) to 2019-06-03 01:57:00(1559523420) 113.86\n",
      "Processing 1000 of ltcusd\n"
     ]
    },
    {
     "data": {
      "application/vnd.jupyter.widget-view+json": {
       "model_id": "13a8e9b7a0034ff5b63b76ca751f344d",
       "version_major": 2,
       "version_minor": 0
      },
      "text/plain": [
       "  0%|          | 0/1000 [00:00<?, ?it/s]"
      ]
     },
     "metadata": {},
     "output_type": "display_data"
    },
    {
     "name": "stdout",
     "output_type": "stream",
     "text": [
      "https://www.bitstamp.net/api/v2/ohlc/ltcbtc/?&currency_pair=ltcbtc&step=180&limit=1000&start=1559343600\n",
      "Downloaded from 2019-06-01 00:00:00(1559343600) to 2019-06-03 01:57:00(1559523420) 0.01310000\n",
      "Processing 1000 of ltcbtc\n"
     ]
    },
    {
     "data": {
      "application/vnd.jupyter.widget-view+json": {
       "model_id": "27aa1943d1d544559b1e259967e4ee42",
       "version_major": 2,
       "version_minor": 0
      },
      "text/plain": [
       "  0%|          | 0/1000 [00:00<?, ?it/s]"
      ]
     },
     "metadata": {},
     "output_type": "display_data"
    },
    {
     "name": "stdout",
     "output_type": "stream",
     "text": [
      "https://www.bitstamp.net/api/v2/ohlc/btcusd/?&currency_pair=btcusd&step=180&limit=1000&start=1527807600\n",
      "Downloaded from 2018-06-01 00:00:00(1527807600) to 2018-06-03 01:57:00(1527987420) 7653.99\n",
      "Processing 1000 of btcusd\n"
     ]
    },
    {
     "data": {
      "application/vnd.jupyter.widget-view+json": {
       "model_id": "d63a2b7ea8d742aa98c84d2bd5ef620c",
       "version_major": 2,
       "version_minor": 0
      },
      "text/plain": [
       "  0%|          | 0/1000 [00:00<?, ?it/s]"
      ]
     },
     "metadata": {},
     "output_type": "display_data"
    },
    {
     "name": "stdout",
     "output_type": "stream",
     "text": [
      "https://www.bitstamp.net/api/v2/ohlc/ethusd/?&currency_pair=ethusd&step=180&limit=1000&start=1527807600\n",
      "Downloaded from 2018-06-01 00:00:00(1527807600) to 2018-06-03 01:57:00(1527987420) 592.70\n",
      "Processing 1000 of ethusd\n"
     ]
    },
    {
     "data": {
      "application/vnd.jupyter.widget-view+json": {
       "model_id": "b14f39feaea043b187c16cb2c8c9f591",
       "version_major": 2,
       "version_minor": 0
      },
      "text/plain": [
       "  0%|          | 0/1000 [00:00<?, ?it/s]"
      ]
     },
     "metadata": {},
     "output_type": "display_data"
    },
    {
     "name": "stdout",
     "output_type": "stream",
     "text": [
      "https://www.bitstamp.net/api/v2/ohlc/ltcusd/?&currency_pair=ltcusd&step=180&limit=1000&start=1527807600\n",
      "Downloaded from 2018-06-01 00:00:00(1527807600) to 2018-06-03 01:57:00(1527987420) 123.64\n",
      "Processing 1000 of ltcusd\n"
     ]
    },
    {
     "data": {
      "application/vnd.jupyter.widget-view+json": {
       "model_id": "028581dd101847cab2cd72bfe8a84ac6",
       "version_major": 2,
       "version_minor": 0
      },
      "text/plain": [
       "  0%|          | 0/1000 [00:00<?, ?it/s]"
      ]
     },
     "metadata": {},
     "output_type": "display_data"
    },
    {
     "name": "stdout",
     "output_type": "stream",
     "text": [
      "https://www.bitstamp.net/api/v2/ohlc/ltcbtc/?&currency_pair=ltcbtc&step=180&limit=1000&start=1527807600\n",
      "Downloaded from 2018-06-01 00:00:00(1527807600) to 2018-06-03 01:57:00(1527987420) 0.01614501\n",
      "Processing 1000 of ltcbtc\n"
     ]
    },
    {
     "data": {
      "application/vnd.jupyter.widget-view+json": {
       "model_id": "07f29f7f421c4d4c8c04979f361c92ea",
       "version_major": 2,
       "version_minor": 0
      },
      "text/plain": [
       "  0%|          | 0/1000 [00:00<?, ?it/s]"
      ]
     },
     "metadata": {},
     "output_type": "display_data"
    },
    {
     "name": "stdout",
     "output_type": "stream",
     "text": [
      "https://www.bitstamp.net/api/v2/ohlc/btcusd/?&currency_pair=btcusd&step=180&limit=1000&start=1517443200\n",
      "Downloaded from 2018-02-01 00:00:00(1517443200) to 2018-02-03 01:57:00(1517623020) 8563.00\n",
      "Processing 1000 of btcusd\n"
     ]
    },
    {
     "data": {
      "application/vnd.jupyter.widget-view+json": {
       "model_id": "6d024c84e8e14bf79be173bd12baf986",
       "version_major": 2,
       "version_minor": 0
      },
      "text/plain": [
       "  0%|          | 0/1000 [00:00<?, ?it/s]"
      ]
     },
     "metadata": {},
     "output_type": "display_data"
    },
    {
     "name": "stdout",
     "output_type": "stream",
     "text": [
      "https://www.bitstamp.net/api/v2/ohlc/ethusd/?&currency_pair=ethusd&step=180&limit=1000&start=1517443200\n",
      "Downloaded from 2018-02-01 00:00:00(1517443200) to 2018-02-03 01:57:00(1517623020) 894.06\n",
      "Processing 1000 of ethusd\n"
     ]
    },
    {
     "data": {
      "application/vnd.jupyter.widget-view+json": {
       "model_id": "97f8e5de4f154bb2b38a084a6f58c82f",
       "version_major": 2,
       "version_minor": 0
      },
      "text/plain": [
       "  0%|          | 0/1000 [00:00<?, ?it/s]"
      ]
     },
     "metadata": {},
     "output_type": "display_data"
    },
    {
     "name": "stdout",
     "output_type": "stream",
     "text": [
      "https://www.bitstamp.net/api/v2/ohlc/ltcusd/?&currency_pair=ltcusd&step=180&limit=1000&start=1517443200\n",
      "Downloaded from 2018-02-01 00:00:00(1517443200) to 2018-02-03 01:57:00(1517623020) 127.76\n",
      "Processing 1000 of ltcusd\n"
     ]
    },
    {
     "data": {
      "application/vnd.jupyter.widget-view+json": {
       "model_id": "1d0559d5109742a4bd15af79b2571176",
       "version_major": 2,
       "version_minor": 0
      },
      "text/plain": [
       "  0%|          | 0/1000 [00:00<?, ?it/s]"
      ]
     },
     "metadata": {},
     "output_type": "display_data"
    },
    {
     "name": "stdout",
     "output_type": "stream",
     "text": [
      "https://www.bitstamp.net/api/v2/ohlc/ltcbtc/?&currency_pair=ltcbtc&step=180&limit=1000&start=1517443200\n",
      "Downloaded from 2018-02-01 00:00:00(1517443200) to 2018-02-03 01:57:00(1517623020) 0.01497000\n",
      "Processing 1000 of ltcbtc\n"
     ]
    },
    {
     "data": {
      "application/vnd.jupyter.widget-view+json": {
       "model_id": "0d2036edb7074fb3acf2d60a5dc587be",
       "version_major": 2,
       "version_minor": 0
      },
      "text/plain": [
       "  0%|          | 0/1000 [00:00<?, ?it/s]"
      ]
     },
     "metadata": {},
     "output_type": "display_data"
    },
    {
     "name": "stdout",
     "output_type": "stream",
     "text": [
      "https://www.bitstamp.net/api/v2/ohlc/btcusd/?&currency_pair=btcusd&step=180&limit=1000&start=1548979200\n",
      "Downloaded from 2019-02-01 00:00:00(1548979200) to 2019-02-03 01:57:00(1549159020) 3448.32\n",
      "Processing 1000 of btcusd\n"
     ]
    },
    {
     "data": {
      "application/vnd.jupyter.widget-view+json": {
       "model_id": "b1fa7cc343bb46a4a7a531feccd37e12",
       "version_major": 2,
       "version_minor": 0
      },
      "text/plain": [
       "  0%|          | 0/1000 [00:00<?, ?it/s]"
      ]
     },
     "metadata": {},
     "output_type": "display_data"
    },
    {
     "name": "stdout",
     "output_type": "stream",
     "text": [
      "https://www.bitstamp.net/api/v2/ohlc/ethusd/?&currency_pair=ethusd&step=180&limit=1000&start=1548979200\n",
      "Downloaded from 2019-02-01 00:00:00(1548979200) to 2019-02-03 01:57:00(1549159020) 108.63\n",
      "Processing 1000 of ethusd\n"
     ]
    },
    {
     "data": {
      "application/vnd.jupyter.widget-view+json": {
       "model_id": "93d89f5bf99540cea9cd95574fa2d445",
       "version_major": 2,
       "version_minor": 0
      },
      "text/plain": [
       "  0%|          | 0/1000 [00:00<?, ?it/s]"
      ]
     },
     "metadata": {},
     "output_type": "display_data"
    },
    {
     "name": "stdout",
     "output_type": "stream",
     "text": [
      "https://www.bitstamp.net/api/v2/ohlc/ltcusd/?&currency_pair=ltcusd&step=180&limit=1000&start=1548979200\n",
      "Downloaded from 2019-02-01 00:00:00(1548979200) to 2019-02-03 01:57:00(1549159020) 34.01\n",
      "Processing 1000 of ltcusd\n"
     ]
    },
    {
     "data": {
      "application/vnd.jupyter.widget-view+json": {
       "model_id": "7d6aba4d2a44448aa8e69ffaba8a6c23",
       "version_major": 2,
       "version_minor": 0
      },
      "text/plain": [
       "  0%|          | 0/1000 [00:00<?, ?it/s]"
      ]
     },
     "metadata": {},
     "output_type": "display_data"
    },
    {
     "name": "stdout",
     "output_type": "stream",
     "text": [
      "https://www.bitstamp.net/api/v2/ohlc/ltcbtc/?&currency_pair=ltcbtc&step=180&limit=1000&start=1548979200\n",
      "Downloaded from 2019-02-01 00:00:00(1548979200) to 2019-02-03 01:57:00(1549159020) 0.00988827\n",
      "Processing 1000 of ltcbtc\n"
     ]
    },
    {
     "data": {
      "application/vnd.jupyter.widget-view+json": {
       "model_id": "1c0004b9c4c641449f96846b0413b118",
       "version_major": 2,
       "version_minor": 0
      },
      "text/plain": [
       "  0%|          | 0/1000 [00:00<?, ?it/s]"
      ]
     },
     "metadata": {},
     "output_type": "display_data"
    },
    {
     "name": "stdout",
     "output_type": "stream",
     "text": [
      "https://www.bitstamp.net/api/v2/ohlc/btcusd/?&currency_pair=btcusd&step=180&limit=1000&start=1580515200\n",
      "Downloaded from 2020-02-01 00:00:00(1580515200) to 2020-02-03 01:57:00(1580695020) 9540.01\n",
      "Processing 1000 of btcusd\n"
     ]
    },
    {
     "data": {
      "application/vnd.jupyter.widget-view+json": {
       "model_id": "352d3256fc014dcdb882dc81153cc2f7",
       "version_major": 2,
       "version_minor": 0
      },
      "text/plain": [
       "  0%|          | 0/1000 [00:00<?, ?it/s]"
      ]
     },
     "metadata": {},
     "output_type": "display_data"
    },
    {
     "name": "stdout",
     "output_type": "stream",
     "text": [
      "https://www.bitstamp.net/api/v2/ohlc/ethusd/?&currency_pair=ethusd&step=180&limit=1000&start=1580515200\n",
      "Downloaded from 2020-02-01 00:00:00(1580515200) to 2020-02-03 01:57:00(1580695020) 193.14\n",
      "Processing 1000 of ethusd\n"
     ]
    },
    {
     "data": {
      "application/vnd.jupyter.widget-view+json": {
       "model_id": "65e864c36d624e46a9f71a5257c38c40",
       "version_major": 2,
       "version_minor": 0
      },
      "text/plain": [
       "  0%|          | 0/1000 [00:00<?, ?it/s]"
      ]
     },
     "metadata": {},
     "output_type": "display_data"
    },
    {
     "name": "stdout",
     "output_type": "stream",
     "text": [
      "https://www.bitstamp.net/api/v2/ohlc/ltcusd/?&currency_pair=ltcusd&step=180&limit=1000&start=1580515200\n",
      "Downloaded from 2020-02-01 00:00:00(1580515200) to 2020-02-03 01:57:00(1580695020) 71.63\n",
      "Processing 1000 of ltcusd\n"
     ]
    },
    {
     "data": {
      "application/vnd.jupyter.widget-view+json": {
       "model_id": "dfd35179216940b69808733136c15dcc",
       "version_major": 2,
       "version_minor": 0
      },
      "text/plain": [
       "  0%|          | 0/1000 [00:00<?, ?it/s]"
      ]
     },
     "metadata": {},
     "output_type": "display_data"
    },
    {
     "name": "stdout",
     "output_type": "stream",
     "text": [
      "https://www.bitstamp.net/api/v2/ohlc/ltcbtc/?&currency_pair=ltcbtc&step=180&limit=1000&start=1580515200\n",
      "Downloaded from 2020-02-01 00:00:00(1580515200) to 2020-02-03 01:57:00(1580695020) 0.00758690\n",
      "Processing 1000 of ltcbtc\n"
     ]
    },
    {
     "data": {
      "application/vnd.jupyter.widget-view+json": {
       "model_id": "01f932c1df3947168242f0d4c4fa548f",
       "version_major": 2,
       "version_minor": 0
      },
      "text/plain": [
       "  0%|          | 0/1000 [00:00<?, ?it/s]"
      ]
     },
     "metadata": {},
     "output_type": "display_data"
    },
    {
     "name": "stdout",
     "output_type": "stream",
     "text": [
      "https://www.bitstamp.net/api/v2/ohlc/btcusd/?&currency_pair=btcusd&step=180&limit=1000&start=1612137600\n",
      "Downloaded from 2021-02-01 00:00:00(1612137600) to 2021-02-03 01:57:00(1612317420) 35892.89\n",
      "Processing 1000 of btcusd\n"
     ]
    },
    {
     "data": {
      "application/vnd.jupyter.widget-view+json": {
       "model_id": "af817d4513f04e498de2b5323b1a966e",
       "version_major": 2,
       "version_minor": 0
      },
      "text/plain": [
       "  0%|          | 0/1000 [00:00<?, ?it/s]"
      ]
     },
     "metadata": {},
     "output_type": "display_data"
    },
    {
     "name": "stdout",
     "output_type": "stream",
     "text": [
      "https://www.bitstamp.net/api/v2/ohlc/ethusd/?&currency_pair=ethusd&step=180&limit=1000&start=1612137600\n",
      "Downloaded from 2021-02-01 00:00:00(1612137600) to 2021-02-03 01:57:00(1612317420) 1519.63\n",
      "Processing 1000 of ethusd\n"
     ]
    },
    {
     "data": {
      "application/vnd.jupyter.widget-view+json": {
       "model_id": "d78eaafa8b274e2dbd55b3f69bf9f5b4",
       "version_major": 2,
       "version_minor": 0
      },
      "text/plain": [
       "  0%|          | 0/1000 [00:00<?, ?it/s]"
      ]
     },
     "metadata": {},
     "output_type": "display_data"
    },
    {
     "name": "stdout",
     "output_type": "stream",
     "text": [
      "https://www.bitstamp.net/api/v2/ohlc/ltcusd/?&currency_pair=ltcusd&step=180&limit=1000&start=1612137600\n",
      "Downloaded from 2021-02-01 00:00:00(1612137600) to 2021-02-03 01:57:00(1612317420) 148.03\n",
      "Processing 1000 of ltcusd\n"
     ]
    },
    {
     "data": {
      "application/vnd.jupyter.widget-view+json": {
       "model_id": "7f1448c803e3429ea498323eeafc3fd9",
       "version_major": 2,
       "version_minor": 0
      },
      "text/plain": [
       "  0%|          | 0/1000 [00:00<?, ?it/s]"
      ]
     },
     "metadata": {},
     "output_type": "display_data"
    },
    {
     "name": "stdout",
     "output_type": "stream",
     "text": [
      "https://www.bitstamp.net/api/v2/ohlc/ltcbtc/?&currency_pair=ltcbtc&step=180&limit=1000&start=1612137600\n",
      "Downloaded from 2021-02-01 00:00:00(1612137600) to 2021-02-03 01:57:00(1612317420) 0.00412009\n",
      "Processing 1000 of ltcbtc\n"
     ]
    },
    {
     "data": {
      "application/vnd.jupyter.widget-view+json": {
       "model_id": "de59f640d22847fe84e9be9bd25c9722",
       "version_major": 2,
       "version_minor": 0
      },
      "text/plain": [
       "  0%|          | 0/1000 [00:00<?, ?it/s]"
      ]
     },
     "metadata": {},
     "output_type": "display_data"
    },
    {
     "name": "stdout",
     "output_type": "stream",
     "text": [
      "https://www.bitstamp.net/api/v2/ohlc/btcusd/?&currency_pair=btcusd&step=180&limit=1000&start=1623711600\n",
      "https://www.bitstamp.net/api/v2/ohlc/btcusd/?&currency_pair=btcusd&step=180&limit=1000&start=1623891600\n",
      "https://www.bitstamp.net/api/v2/ohlc/btcusd/?&currency_pair=btcusd&step=180&limit=1000&start=1624071600\n",
      "https://www.bitstamp.net/api/v2/ohlc/btcusd/?&currency_pair=btcusd&step=180&limit=1000&start=1624251600\n",
      "https://www.bitstamp.net/api/v2/ohlc/btcusd/?&currency_pair=btcusd&step=180&limit=1000&start=1624431600\n",
      "https://www.bitstamp.net/api/v2/ohlc/btcusd/?&currency_pair=btcusd&step=180&limit=1000&start=1624611600\n",
      "https://www.bitstamp.net/api/v2/ohlc/btcusd/?&currency_pair=btcusd&step=180&limit=1000&start=1624791600\n",
      "https://www.bitstamp.net/api/v2/ohlc/btcusd/?&currency_pair=btcusd&step=180&limit=1000&start=1624971600\n",
      "https://www.bitstamp.net/api/v2/ohlc/btcusd/?&currency_pair=btcusd&step=180&limit=1000&start=1625151600\n",
      "https://www.bitstamp.net/api/v2/ohlc/btcusd/?&currency_pair=btcusd&step=180&limit=1000&start=1625331600\n",
      "https://www.bitstamp.net/api/v2/ohlc/btcusd/?&currency_pair=btcusd&step=180&limit=1000&start=1625511600\n",
      "https://www.bitstamp.net/api/v2/ohlc/btcusd/?&currency_pair=btcusd&step=180&limit=1000&start=1625691600\n",
      "https://www.bitstamp.net/api/v2/ohlc/btcusd/?&currency_pair=btcusd&step=180&limit=1000&start=1625871600\n",
      "https://www.bitstamp.net/api/v2/ohlc/btcusd/?&currency_pair=btcusd&step=180&limit=1000&start=1626051600\n",
      "https://www.bitstamp.net/api/v2/ohlc/btcusd/?&currency_pair=btcusd&step=180&limit=1000&start=1626231600\n",
      "Downloaded from 2021-06-15 00:00:00(1623711600) to 2021-07-15 00:00:00(1626303600) 32978.97\n",
      "Processing 14401 of btcusd\n"
     ]
    },
    {
     "data": {
      "application/vnd.jupyter.widget-view+json": {
       "model_id": "22bc4ecaf0654c828f7e2744c51722d4",
       "version_major": 2,
       "version_minor": 0
      },
      "text/plain": [
       "  0%|          | 0/14401 [00:00<?, ?it/s]"
      ]
     },
     "metadata": {},
     "output_type": "display_data"
    },
    {
     "name": "stdout",
     "output_type": "stream",
     "text": [
      "https://www.bitstamp.net/api/v2/ohlc/ethusd/?&currency_pair=ethusd&step=180&limit=1000&start=1623711600\n",
      "https://www.bitstamp.net/api/v2/ohlc/ethusd/?&currency_pair=ethusd&step=180&limit=1000&start=1623891600\n",
      "https://www.bitstamp.net/api/v2/ohlc/ethusd/?&currency_pair=ethusd&step=180&limit=1000&start=1624071600\n",
      "https://www.bitstamp.net/api/v2/ohlc/ethusd/?&currency_pair=ethusd&step=180&limit=1000&start=1624251600\n",
      "https://www.bitstamp.net/api/v2/ohlc/ethusd/?&currency_pair=ethusd&step=180&limit=1000&start=1624431600\n",
      "https://www.bitstamp.net/api/v2/ohlc/ethusd/?&currency_pair=ethusd&step=180&limit=1000&start=1624611600\n",
      "https://www.bitstamp.net/api/v2/ohlc/ethusd/?&currency_pair=ethusd&step=180&limit=1000&start=1624791600\n",
      "https://www.bitstamp.net/api/v2/ohlc/ethusd/?&currency_pair=ethusd&step=180&limit=1000&start=1624971600\n",
      "https://www.bitstamp.net/api/v2/ohlc/ethusd/?&currency_pair=ethusd&step=180&limit=1000&start=1625151600\n",
      "https://www.bitstamp.net/api/v2/ohlc/ethusd/?&currency_pair=ethusd&step=180&limit=1000&start=1625331600\n",
      "https://www.bitstamp.net/api/v2/ohlc/ethusd/?&currency_pair=ethusd&step=180&limit=1000&start=1625511600\n",
      "https://www.bitstamp.net/api/v2/ohlc/ethusd/?&currency_pair=ethusd&step=180&limit=1000&start=1625691600\n",
      "https://www.bitstamp.net/api/v2/ohlc/ethusd/?&currency_pair=ethusd&step=180&limit=1000&start=1625871600\n",
      "https://www.bitstamp.net/api/v2/ohlc/ethusd/?&currency_pair=ethusd&step=180&limit=1000&start=1626051600\n",
      "https://www.bitstamp.net/api/v2/ohlc/ethusd/?&currency_pair=ethusd&step=180&limit=1000&start=1626231600\n",
      "Downloaded from 2021-06-15 00:00:00(1623711600) to 2021-07-15 00:00:00(1626303600) 2005.17\n",
      "Processing 14401 of ethusd\n"
     ]
    },
    {
     "data": {
      "application/vnd.jupyter.widget-view+json": {
       "model_id": "8be1d5ea27a54f6f9992c39ff257e21a",
       "version_major": 2,
       "version_minor": 0
      },
      "text/plain": [
       "  0%|          | 0/14401 [00:00<?, ?it/s]"
      ]
     },
     "metadata": {},
     "output_type": "display_data"
    },
    {
     "name": "stdout",
     "output_type": "stream",
     "text": [
      "https://www.bitstamp.net/api/v2/ohlc/ltcusd/?&currency_pair=ltcusd&step=180&limit=1000&start=1623711600\n",
      "https://www.bitstamp.net/api/v2/ohlc/ltcusd/?&currency_pair=ltcusd&step=180&limit=1000&start=1623891600\n",
      "https://www.bitstamp.net/api/v2/ohlc/ltcusd/?&currency_pair=ltcusd&step=180&limit=1000&start=1624071600\n",
      "https://www.bitstamp.net/api/v2/ohlc/ltcusd/?&currency_pair=ltcusd&step=180&limit=1000&start=1624251600\n",
      "https://www.bitstamp.net/api/v2/ohlc/ltcusd/?&currency_pair=ltcusd&step=180&limit=1000&start=1624431600\n",
      "https://www.bitstamp.net/api/v2/ohlc/ltcusd/?&currency_pair=ltcusd&step=180&limit=1000&start=1624611600\n",
      "https://www.bitstamp.net/api/v2/ohlc/ltcusd/?&currency_pair=ltcusd&step=180&limit=1000&start=1624791600\n",
      "https://www.bitstamp.net/api/v2/ohlc/ltcusd/?&currency_pair=ltcusd&step=180&limit=1000&start=1624971600\n",
      "https://www.bitstamp.net/api/v2/ohlc/ltcusd/?&currency_pair=ltcusd&step=180&limit=1000&start=1625151600\n",
      "https://www.bitstamp.net/api/v2/ohlc/ltcusd/?&currency_pair=ltcusd&step=180&limit=1000&start=1625331600\n",
      "https://www.bitstamp.net/api/v2/ohlc/ltcusd/?&currency_pair=ltcusd&step=180&limit=1000&start=1625511600\n",
      "https://www.bitstamp.net/api/v2/ohlc/ltcusd/?&currency_pair=ltcusd&step=180&limit=1000&start=1625691600\n",
      "https://www.bitstamp.net/api/v2/ohlc/ltcusd/?&currency_pair=ltcusd&step=180&limit=1000&start=1625871600\n",
      "https://www.bitstamp.net/api/v2/ohlc/ltcusd/?&currency_pair=ltcusd&step=180&limit=1000&start=1626051600\n",
      "https://www.bitstamp.net/api/v2/ohlc/ltcusd/?&currency_pair=ltcusd&step=180&limit=1000&start=1626231600\n",
      "Downloaded from 2021-06-15 00:00:00(1623711600) to 2021-07-15 00:00:00(1626303600) 131.43\n",
      "Processing 14401 of ltcusd\n"
     ]
    },
    {
     "data": {
      "application/vnd.jupyter.widget-view+json": {
       "model_id": "dc74ecbbc22545f7ab2a9d6e48248639",
       "version_major": 2,
       "version_minor": 0
      },
      "text/plain": [
       "  0%|          | 0/14401 [00:00<?, ?it/s]"
      ]
     },
     "metadata": {},
     "output_type": "display_data"
    },
    {
     "name": "stdout",
     "output_type": "stream",
     "text": [
      "https://www.bitstamp.net/api/v2/ohlc/ltcbtc/?&currency_pair=ltcbtc&step=180&limit=1000&start=1623711600\n",
      "https://www.bitstamp.net/api/v2/ohlc/ltcbtc/?&currency_pair=ltcbtc&step=180&limit=1000&start=1623891600\n",
      "https://www.bitstamp.net/api/v2/ohlc/ltcbtc/?&currency_pair=ltcbtc&step=180&limit=1000&start=1624071600\n",
      "https://www.bitstamp.net/api/v2/ohlc/ltcbtc/?&currency_pair=ltcbtc&step=180&limit=1000&start=1624251600\n",
      "https://www.bitstamp.net/api/v2/ohlc/ltcbtc/?&currency_pair=ltcbtc&step=180&limit=1000&start=1624431600\n",
      "https://www.bitstamp.net/api/v2/ohlc/ltcbtc/?&currency_pair=ltcbtc&step=180&limit=1000&start=1624611600\n",
      "https://www.bitstamp.net/api/v2/ohlc/ltcbtc/?&currency_pair=ltcbtc&step=180&limit=1000&start=1624791600\n",
      "https://www.bitstamp.net/api/v2/ohlc/ltcbtc/?&currency_pair=ltcbtc&step=180&limit=1000&start=1624971600\n",
      "https://www.bitstamp.net/api/v2/ohlc/ltcbtc/?&currency_pair=ltcbtc&step=180&limit=1000&start=1625151600\n",
      "https://www.bitstamp.net/api/v2/ohlc/ltcbtc/?&currency_pair=ltcbtc&step=180&limit=1000&start=1625331600\n",
      "https://www.bitstamp.net/api/v2/ohlc/ltcbtc/?&currency_pair=ltcbtc&step=180&limit=1000&start=1625511600\n",
      "https://www.bitstamp.net/api/v2/ohlc/ltcbtc/?&currency_pair=ltcbtc&step=180&limit=1000&start=1625691600\n",
      "https://www.bitstamp.net/api/v2/ohlc/ltcbtc/?&currency_pair=ltcbtc&step=180&limit=1000&start=1625871600\n",
      "https://www.bitstamp.net/api/v2/ohlc/ltcbtc/?&currency_pair=ltcbtc&step=180&limit=1000&start=1626051600\n",
      "https://www.bitstamp.net/api/v2/ohlc/ltcbtc/?&currency_pair=ltcbtc&step=180&limit=1000&start=1626231600\n",
      "Downloaded from 2021-06-15 00:00:00(1623711600) to 2021-07-15 00:00:00(1626303600) 0.00399637\n",
      "Processing 14401 of ltcbtc\n"
     ]
    },
    {
     "data": {
      "application/vnd.jupyter.widget-view+json": {
       "model_id": "34b0ae6cfad24837a82b1dbc6e6389d4",
       "version_major": 2,
       "version_minor": 0
      },
      "text/plain": [
       "  0%|          | 0/14401 [00:00<?, ?it/s]"
      ]
     },
     "metadata": {},
     "output_type": "display_data"
    },
    {
     "name": "stdout",
     "output_type": "stream",
     "text": [
      "data/online20_3 -> OnLineDataProvider (val_keys = {'btcusd': 3, 'ethusd': 3, 'ltcusd': 3, 'ltcbtc': 3}, train_data = 2 , data_detail = DataDetail (windows = 20, minutes = 3, steps_ahead = 1)))\n",
      "https://www.bitstamp.net/api/v2/ohlc/btcusd/?&currency_pair=btcusd&step=180&limit=1000&start=1622502000\n",
      "Downloaded from 2021-06-01 00:00:00(1622502000) to 2021-06-03 01:57:00(1622681820) 37436.78\n",
      "Processing 1000 of btcusd\n"
     ]
    },
    {
     "data": {
      "application/vnd.jupyter.widget-view+json": {
       "model_id": "8a354ad4ad9a48feb82b73210bdb6b1b",
       "version_major": 2,
       "version_minor": 0
      },
      "text/plain": [
       "  0%|          | 0/1000 [00:00<?, ?it/s]"
      ]
     },
     "metadata": {},
     "output_type": "display_data"
    },
    {
     "name": "stdout",
     "output_type": "stream",
     "text": [
      "https://www.bitstamp.net/api/v2/ohlc/ethusd/?&currency_pair=ethusd&step=180&limit=1000&start=1622502000\n",
      "Downloaded from 2021-06-01 00:00:00(1622502000) to 2021-06-03 01:57:00(1622681820) 2702.14\n",
      "Processing 1000 of ethusd\n"
     ]
    },
    {
     "data": {
      "application/vnd.jupyter.widget-view+json": {
       "model_id": "ee93ae14fdfd406ab27b588f4857592c",
       "version_major": 2,
       "version_minor": 0
      },
      "text/plain": [
       "  0%|          | 0/1000 [00:00<?, ?it/s]"
      ]
     },
     "metadata": {},
     "output_type": "display_data"
    },
    {
     "name": "stdout",
     "output_type": "stream",
     "text": [
      "https://www.bitstamp.net/api/v2/ohlc/ltcusd/?&currency_pair=ltcusd&step=180&limit=1000&start=1622502000\n",
      "Downloaded from 2021-06-01 00:00:00(1622502000) to 2021-06-03 01:57:00(1622681820) 185.00\n",
      "Processing 1000 of ltcusd\n"
     ]
    },
    {
     "data": {
      "application/vnd.jupyter.widget-view+json": {
       "model_id": "16a17f79321f4a939973e01804b5d7cd",
       "version_major": 2,
       "version_minor": 0
      },
      "text/plain": [
       "  0%|          | 0/1000 [00:00<?, ?it/s]"
      ]
     },
     "metadata": {},
     "output_type": "display_data"
    },
    {
     "name": "stdout",
     "output_type": "stream",
     "text": [
      "https://www.bitstamp.net/api/v2/ohlc/ltcbtc/?&currency_pair=ltcbtc&step=180&limit=1000&start=1622502000\n",
      "Downloaded from 2021-06-01 00:00:00(1622502000) to 2021-06-03 01:57:00(1622681820) 0.00494481\n",
      "Processing 1000 of ltcbtc\n"
     ]
    },
    {
     "data": {
      "application/vnd.jupyter.widget-view+json": {
       "model_id": "d42552c07bf849cbba1a3660e802a152",
       "version_major": 2,
       "version_minor": 0
      },
      "text/plain": [
       "  0%|          | 0/1000 [00:00<?, ?it/s]"
      ]
     },
     "metadata": {},
     "output_type": "display_data"
    },
    {
     "name": "stdout",
     "output_type": "stream",
     "text": [
      "https://www.bitstamp.net/api/v2/ohlc/btcusd/?&currency_pair=btcusd&step=180&limit=1000&start=1590966000\n",
      "Downloaded from 2020-06-01 00:00:00(1590966000) to 2020-06-03 01:57:00(1591145820) 9525.82\n",
      "Processing 1000 of btcusd\n"
     ]
    },
    {
     "data": {
      "application/vnd.jupyter.widget-view+json": {
       "model_id": "074118633bac4058bd70efe2c9ce3abb",
       "version_major": 2,
       "version_minor": 0
      },
      "text/plain": [
       "  0%|          | 0/1000 [00:00<?, ?it/s]"
      ]
     },
     "metadata": {},
     "output_type": "display_data"
    },
    {
     "name": "stdout",
     "output_type": "stream",
     "text": [
      "https://www.bitstamp.net/api/v2/ohlc/ethusd/?&currency_pair=ethusd&step=180&limit=1000&start=1590966000\n",
      "Downloaded from 2020-06-01 00:00:00(1590966000) to 2020-06-03 01:57:00(1591145820) 237.99\n",
      "Processing 1000 of ethusd\n"
     ]
    },
    {
     "data": {
      "application/vnd.jupyter.widget-view+json": {
       "model_id": "a57b81ef989841d8ad4bdaf5daef3ff9",
       "version_major": 2,
       "version_minor": 0
      },
      "text/plain": [
       "  0%|          | 0/1000 [00:00<?, ?it/s]"
      ]
     },
     "metadata": {},
     "output_type": "display_data"
    },
    {
     "name": "stdout",
     "output_type": "stream",
     "text": [
      "https://www.bitstamp.net/api/v2/ohlc/ltcusd/?&currency_pair=ltcusd&step=180&limit=1000&start=1590966000\n",
      "Downloaded from 2020-06-01 00:00:00(1590966000) to 2020-06-03 01:57:00(1591145820) 46.08\n",
      "Processing 1000 of ltcusd\n"
     ]
    },
    {
     "data": {
      "application/vnd.jupyter.widget-view+json": {
       "model_id": "c8486db554d24c838fcb553097a7a661",
       "version_major": 2,
       "version_minor": 0
      },
      "text/plain": [
       "  0%|          | 0/1000 [00:00<?, ?it/s]"
      ]
     },
     "metadata": {},
     "output_type": "display_data"
    },
    {
     "name": "stdout",
     "output_type": "stream",
     "text": [
      "https://www.bitstamp.net/api/v2/ohlc/ltcbtc/?&currency_pair=ltcbtc&step=180&limit=1000&start=1590966000\n",
      "Downloaded from 2020-06-01 00:00:00(1590966000) to 2020-06-03 01:57:00(1591145820) 0.00484476\n",
      "Processing 1000 of ltcbtc\n"
     ]
    },
    {
     "data": {
      "application/vnd.jupyter.widget-view+json": {
       "model_id": "636261ad640b4b59beaa85a6dbd43f72",
       "version_major": 2,
       "version_minor": 0
      },
      "text/plain": [
       "  0%|          | 0/1000 [00:00<?, ?it/s]"
      ]
     },
     "metadata": {},
     "output_type": "display_data"
    },
    {
     "name": "stdout",
     "output_type": "stream",
     "text": [
      "https://www.bitstamp.net/api/v2/ohlc/btcusd/?&currency_pair=btcusd&step=180&limit=1000&start=1559343600\n",
      "Downloaded from 2019-06-01 00:00:00(1559343600) to 2019-06-03 01:57:00(1559523420) 8681.59\n",
      "Processing 1000 of btcusd\n"
     ]
    },
    {
     "data": {
      "application/vnd.jupyter.widget-view+json": {
       "model_id": "775ee9279b054c5499a52db2ef949aa5",
       "version_major": 2,
       "version_minor": 0
      },
      "text/plain": [
       "  0%|          | 0/1000 [00:00<?, ?it/s]"
      ]
     },
     "metadata": {},
     "output_type": "display_data"
    },
    {
     "name": "stdout",
     "output_type": "stream",
     "text": [
      "https://www.bitstamp.net/api/v2/ohlc/ethusd/?&currency_pair=ethusd&step=180&limit=1000&start=1559343600\n",
      "Downloaded from 2019-06-01 00:00:00(1559343600) to 2019-06-03 01:57:00(1559523420) 266.63\n",
      "Processing 1000 of ethusd\n"
     ]
    },
    {
     "data": {
      "application/vnd.jupyter.widget-view+json": {
       "model_id": "8f0da4cb10924bef988c0fbc10eb463d",
       "version_major": 2,
       "version_minor": 0
      },
      "text/plain": [
       "  0%|          | 0/1000 [00:00<?, ?it/s]"
      ]
     },
     "metadata": {},
     "output_type": "display_data"
    },
    {
     "name": "stdout",
     "output_type": "stream",
     "text": [
      "https://www.bitstamp.net/api/v2/ohlc/ltcusd/?&currency_pair=ltcusd&step=180&limit=1000&start=1559343600\n",
      "Downloaded from 2019-06-01 00:00:00(1559343600) to 2019-06-03 01:57:00(1559523420) 113.86\n",
      "Processing 1000 of ltcusd\n"
     ]
    },
    {
     "data": {
      "application/vnd.jupyter.widget-view+json": {
       "model_id": "e15b6ed1e49f452aba810df8f51f4c29",
       "version_major": 2,
       "version_minor": 0
      },
      "text/plain": [
       "  0%|          | 0/1000 [00:00<?, ?it/s]"
      ]
     },
     "metadata": {},
     "output_type": "display_data"
    },
    {
     "name": "stdout",
     "output_type": "stream",
     "text": [
      "https://www.bitstamp.net/api/v2/ohlc/ltcbtc/?&currency_pair=ltcbtc&step=180&limit=1000&start=1559343600\n",
      "Downloaded from 2019-06-01 00:00:00(1559343600) to 2019-06-03 01:57:00(1559523420) 0.01310000\n",
      "Processing 1000 of ltcbtc\n"
     ]
    },
    {
     "data": {
      "application/vnd.jupyter.widget-view+json": {
       "model_id": "cf93027d3dd441f48a2a4d2a827b5b58",
       "version_major": 2,
       "version_minor": 0
      },
      "text/plain": [
       "  0%|          | 0/1000 [00:00<?, ?it/s]"
      ]
     },
     "metadata": {},
     "output_type": "display_data"
    },
    {
     "name": "stdout",
     "output_type": "stream",
     "text": [
      "https://www.bitstamp.net/api/v2/ohlc/btcusd/?&currency_pair=btcusd&step=180&limit=1000&start=1527807600\n",
      "Downloaded from 2018-06-01 00:00:00(1527807600) to 2018-06-03 01:57:00(1527987420) 7653.99\n",
      "Processing 1000 of btcusd\n"
     ]
    },
    {
     "data": {
      "application/vnd.jupyter.widget-view+json": {
       "model_id": "ff08ad02a7394af3ba916d8a4e605d8a",
       "version_major": 2,
       "version_minor": 0
      },
      "text/plain": [
       "  0%|          | 0/1000 [00:00<?, ?it/s]"
      ]
     },
     "metadata": {},
     "output_type": "display_data"
    },
    {
     "name": "stdout",
     "output_type": "stream",
     "text": [
      "https://www.bitstamp.net/api/v2/ohlc/ethusd/?&currency_pair=ethusd&step=180&limit=1000&start=1527807600\n",
      "Downloaded from 2018-06-01 00:00:00(1527807600) to 2018-06-03 01:57:00(1527987420) 592.70\n",
      "Processing 1000 of ethusd\n"
     ]
    },
    {
     "data": {
      "application/vnd.jupyter.widget-view+json": {
       "model_id": "754cb7fdbae942c58185eb8ef7d2113c",
       "version_major": 2,
       "version_minor": 0
      },
      "text/plain": [
       "  0%|          | 0/1000 [00:00<?, ?it/s]"
      ]
     },
     "metadata": {},
     "output_type": "display_data"
    },
    {
     "name": "stdout",
     "output_type": "stream",
     "text": [
      "https://www.bitstamp.net/api/v2/ohlc/ltcusd/?&currency_pair=ltcusd&step=180&limit=1000&start=1527807600\n",
      "Downloaded from 2018-06-01 00:00:00(1527807600) to 2018-06-03 01:57:00(1527987420) 123.64\n",
      "Processing 1000 of ltcusd\n"
     ]
    },
    {
     "data": {
      "application/vnd.jupyter.widget-view+json": {
       "model_id": "7b1727e977e64d45b7db9e719cbe7164",
       "version_major": 2,
       "version_minor": 0
      },
      "text/plain": [
       "  0%|          | 0/1000 [00:00<?, ?it/s]"
      ]
     },
     "metadata": {},
     "output_type": "display_data"
    },
    {
     "name": "stdout",
     "output_type": "stream",
     "text": [
      "https://www.bitstamp.net/api/v2/ohlc/ltcbtc/?&currency_pair=ltcbtc&step=180&limit=1000&start=1527807600\n",
      "Downloaded from 2018-06-01 00:00:00(1527807600) to 2018-06-03 01:57:00(1527987420) 0.01614501\n",
      "Processing 1000 of ltcbtc\n"
     ]
    },
    {
     "data": {
      "application/vnd.jupyter.widget-view+json": {
       "model_id": "2532205278a748c59eb4f09d7e518472",
       "version_major": 2,
       "version_minor": 0
      },
      "text/plain": [
       "  0%|          | 0/1000 [00:00<?, ?it/s]"
      ]
     },
     "metadata": {},
     "output_type": "display_data"
    },
    {
     "name": "stdout",
     "output_type": "stream",
     "text": [
      "https://www.bitstamp.net/api/v2/ohlc/btcusd/?&currency_pair=btcusd&step=180&limit=1000&start=1517443200\n",
      "Downloaded from 2018-02-01 00:00:00(1517443200) to 2018-02-03 01:57:00(1517623020) 8563.00\n",
      "Processing 1000 of btcusd\n"
     ]
    },
    {
     "data": {
      "application/vnd.jupyter.widget-view+json": {
       "model_id": "e3a2d5fcc5d44750afe4b16625efdc73",
       "version_major": 2,
       "version_minor": 0
      },
      "text/plain": [
       "  0%|          | 0/1000 [00:00<?, ?it/s]"
      ]
     },
     "metadata": {},
     "output_type": "display_data"
    },
    {
     "name": "stdout",
     "output_type": "stream",
     "text": [
      "https://www.bitstamp.net/api/v2/ohlc/ethusd/?&currency_pair=ethusd&step=180&limit=1000&start=1517443200\n",
      "Downloaded from 2018-02-01 00:00:00(1517443200) to 2018-02-03 01:57:00(1517623020) 894.06\n",
      "Processing 1000 of ethusd\n"
     ]
    },
    {
     "data": {
      "application/vnd.jupyter.widget-view+json": {
       "model_id": "c6837a523ee84129bcab20a40787e238",
       "version_major": 2,
       "version_minor": 0
      },
      "text/plain": [
       "  0%|          | 0/1000 [00:00<?, ?it/s]"
      ]
     },
     "metadata": {},
     "output_type": "display_data"
    },
    {
     "name": "stdout",
     "output_type": "stream",
     "text": [
      "https://www.bitstamp.net/api/v2/ohlc/ltcusd/?&currency_pair=ltcusd&step=180&limit=1000&start=1517443200\n",
      "Downloaded from 2018-02-01 00:00:00(1517443200) to 2018-02-03 01:57:00(1517623020) 127.76\n",
      "Processing 1000 of ltcusd\n"
     ]
    },
    {
     "data": {
      "application/vnd.jupyter.widget-view+json": {
       "model_id": "97e557d1831a4da48cd8b5d43238a254",
       "version_major": 2,
       "version_minor": 0
      },
      "text/plain": [
       "  0%|          | 0/1000 [00:00<?, ?it/s]"
      ]
     },
     "metadata": {},
     "output_type": "display_data"
    },
    {
     "name": "stdout",
     "output_type": "stream",
     "text": [
      "https://www.bitstamp.net/api/v2/ohlc/ltcbtc/?&currency_pair=ltcbtc&step=180&limit=1000&start=1517443200\n",
      "Downloaded from 2018-02-01 00:00:00(1517443200) to 2018-02-03 01:57:00(1517623020) 0.01497000\n",
      "Processing 1000 of ltcbtc\n"
     ]
    },
    {
     "data": {
      "application/vnd.jupyter.widget-view+json": {
       "model_id": "fdbcd4d06bae44229f25d83ff9be3fa3",
       "version_major": 2,
       "version_minor": 0
      },
      "text/plain": [
       "  0%|          | 0/1000 [00:00<?, ?it/s]"
      ]
     },
     "metadata": {},
     "output_type": "display_data"
    },
    {
     "name": "stdout",
     "output_type": "stream",
     "text": [
      "https://www.bitstamp.net/api/v2/ohlc/btcusd/?&currency_pair=btcusd&step=180&limit=1000&start=1548979200\n",
      "Downloaded from 2019-02-01 00:00:00(1548979200) to 2019-02-03 01:57:00(1549159020) 3448.32\n",
      "Processing 1000 of btcusd\n"
     ]
    },
    {
     "data": {
      "application/vnd.jupyter.widget-view+json": {
       "model_id": "0e3848bb7df649189dd61b1fe135ca31",
       "version_major": 2,
       "version_minor": 0
      },
      "text/plain": [
       "  0%|          | 0/1000 [00:00<?, ?it/s]"
      ]
     },
     "metadata": {},
     "output_type": "display_data"
    },
    {
     "name": "stdout",
     "output_type": "stream",
     "text": [
      "https://www.bitstamp.net/api/v2/ohlc/ethusd/?&currency_pair=ethusd&step=180&limit=1000&start=1548979200\n",
      "Downloaded from 2019-02-01 00:00:00(1548979200) to 2019-02-03 01:57:00(1549159020) 108.63\n",
      "Processing 1000 of ethusd\n"
     ]
    },
    {
     "data": {
      "application/vnd.jupyter.widget-view+json": {
       "model_id": "1cd387ddb0634ffe84333fbf6d460fbf",
       "version_major": 2,
       "version_minor": 0
      },
      "text/plain": [
       "  0%|          | 0/1000 [00:00<?, ?it/s]"
      ]
     },
     "metadata": {},
     "output_type": "display_data"
    },
    {
     "name": "stdout",
     "output_type": "stream",
     "text": [
      "https://www.bitstamp.net/api/v2/ohlc/ltcusd/?&currency_pair=ltcusd&step=180&limit=1000&start=1548979200\n",
      "Downloaded from 2019-02-01 00:00:00(1548979200) to 2019-02-03 01:57:00(1549159020) 34.01\n",
      "Processing 1000 of ltcusd\n"
     ]
    },
    {
     "data": {
      "application/vnd.jupyter.widget-view+json": {
       "model_id": "ad69591c109d42edb099222759792120",
       "version_major": 2,
       "version_minor": 0
      },
      "text/plain": [
       "  0%|          | 0/1000 [00:00<?, ?it/s]"
      ]
     },
     "metadata": {},
     "output_type": "display_data"
    },
    {
     "name": "stdout",
     "output_type": "stream",
     "text": [
      "https://www.bitstamp.net/api/v2/ohlc/ltcbtc/?&currency_pair=ltcbtc&step=180&limit=1000&start=1548979200\n",
      "Downloaded from 2019-02-01 00:00:00(1548979200) to 2019-02-03 01:57:00(1549159020) 0.00988827\n",
      "Processing 1000 of ltcbtc\n"
     ]
    },
    {
     "data": {
      "application/vnd.jupyter.widget-view+json": {
       "model_id": "ff14935460cc4936a8d89154a5949e0b",
       "version_major": 2,
       "version_minor": 0
      },
      "text/plain": [
       "  0%|          | 0/1000 [00:00<?, ?it/s]"
      ]
     },
     "metadata": {},
     "output_type": "display_data"
    },
    {
     "name": "stdout",
     "output_type": "stream",
     "text": [
      "https://www.bitstamp.net/api/v2/ohlc/btcusd/?&currency_pair=btcusd&step=180&limit=1000&start=1580515200\n",
      "Downloaded from 2020-02-01 00:00:00(1580515200) to 2020-02-03 01:57:00(1580695020) 9540.01\n",
      "Processing 1000 of btcusd\n"
     ]
    },
    {
     "data": {
      "application/vnd.jupyter.widget-view+json": {
       "model_id": "09ff2c7d5b99457e98849cb7389dd47a",
       "version_major": 2,
       "version_minor": 0
      },
      "text/plain": [
       "  0%|          | 0/1000 [00:00<?, ?it/s]"
      ]
     },
     "metadata": {},
     "output_type": "display_data"
    },
    {
     "name": "stdout",
     "output_type": "stream",
     "text": [
      "https://www.bitstamp.net/api/v2/ohlc/ethusd/?&currency_pair=ethusd&step=180&limit=1000&start=1580515200\n",
      "Downloaded from 2020-02-01 00:00:00(1580515200) to 2020-02-03 01:57:00(1580695020) 193.14\n",
      "Processing 1000 of ethusd\n"
     ]
    },
    {
     "data": {
      "application/vnd.jupyter.widget-view+json": {
       "model_id": "2dcbab2c8b6343628e502a0b409446a0",
       "version_major": 2,
       "version_minor": 0
      },
      "text/plain": [
       "  0%|          | 0/1000 [00:00<?, ?it/s]"
      ]
     },
     "metadata": {},
     "output_type": "display_data"
    },
    {
     "name": "stdout",
     "output_type": "stream",
     "text": [
      "https://www.bitstamp.net/api/v2/ohlc/ltcusd/?&currency_pair=ltcusd&step=180&limit=1000&start=1580515200\n",
      "Downloaded from 2020-02-01 00:00:00(1580515200) to 2020-02-03 01:57:00(1580695020) 71.63\n",
      "Processing 1000 of ltcusd\n"
     ]
    },
    {
     "data": {
      "application/vnd.jupyter.widget-view+json": {
       "model_id": "198e1ccf11644a848f0492b150c2a37a",
       "version_major": 2,
       "version_minor": 0
      },
      "text/plain": [
       "  0%|          | 0/1000 [00:00<?, ?it/s]"
      ]
     },
     "metadata": {},
     "output_type": "display_data"
    },
    {
     "name": "stdout",
     "output_type": "stream",
     "text": [
      "https://www.bitstamp.net/api/v2/ohlc/ltcbtc/?&currency_pair=ltcbtc&step=180&limit=1000&start=1580515200\n",
      "Downloaded from 2020-02-01 00:00:00(1580515200) to 2020-02-03 01:57:00(1580695020) 0.00758690\n",
      "Processing 1000 of ltcbtc\n"
     ]
    },
    {
     "data": {
      "application/vnd.jupyter.widget-view+json": {
       "model_id": "11a4e70215814aff89da5cfe94a84111",
       "version_major": 2,
       "version_minor": 0
      },
      "text/plain": [
       "  0%|          | 0/1000 [00:00<?, ?it/s]"
      ]
     },
     "metadata": {},
     "output_type": "display_data"
    },
    {
     "name": "stdout",
     "output_type": "stream",
     "text": [
      "https://www.bitstamp.net/api/v2/ohlc/btcusd/?&currency_pair=btcusd&step=180&limit=1000&start=1612137600\n",
      "Downloaded from 2021-02-01 00:00:00(1612137600) to 2021-02-03 01:57:00(1612317420) 35892.89\n",
      "Processing 1000 of btcusd\n"
     ]
    },
    {
     "data": {
      "application/vnd.jupyter.widget-view+json": {
       "model_id": "28396f3c617d471490c29227f19349ec",
       "version_major": 2,
       "version_minor": 0
      },
      "text/plain": [
       "  0%|          | 0/1000 [00:00<?, ?it/s]"
      ]
     },
     "metadata": {},
     "output_type": "display_data"
    },
    {
     "name": "stdout",
     "output_type": "stream",
     "text": [
      "https://www.bitstamp.net/api/v2/ohlc/ethusd/?&currency_pair=ethusd&step=180&limit=1000&start=1612137600\n",
      "Downloaded from 2021-02-01 00:00:00(1612137600) to 2021-02-03 01:57:00(1612317420) 1519.63\n",
      "Processing 1000 of ethusd\n"
     ]
    },
    {
     "data": {
      "application/vnd.jupyter.widget-view+json": {
       "model_id": "f8aad380cc684b5d9b1ba8ef800bfa0a",
       "version_major": 2,
       "version_minor": 0
      },
      "text/plain": [
       "  0%|          | 0/1000 [00:00<?, ?it/s]"
      ]
     },
     "metadata": {},
     "output_type": "display_data"
    },
    {
     "name": "stdout",
     "output_type": "stream",
     "text": [
      "https://www.bitstamp.net/api/v2/ohlc/ltcusd/?&currency_pair=ltcusd&step=180&limit=1000&start=1612137600\n",
      "Downloaded from 2021-02-01 00:00:00(1612137600) to 2021-02-03 01:57:00(1612317420) 148.03\n",
      "Processing 1000 of ltcusd\n"
     ]
    },
    {
     "data": {
      "application/vnd.jupyter.widget-view+json": {
       "model_id": "3c00dacd4c6544a6a04553992e8c09ea",
       "version_major": 2,
       "version_minor": 0
      },
      "text/plain": [
       "  0%|          | 0/1000 [00:00<?, ?it/s]"
      ]
     },
     "metadata": {},
     "output_type": "display_data"
    },
    {
     "name": "stdout",
     "output_type": "stream",
     "text": [
      "https://www.bitstamp.net/api/v2/ohlc/ltcbtc/?&currency_pair=ltcbtc&step=180&limit=1000&start=1612137600\n",
      "Downloaded from 2021-02-01 00:00:00(1612137600) to 2021-02-03 01:57:00(1612317420) 0.00412009\n",
      "Processing 1000 of ltcbtc\n"
     ]
    },
    {
     "data": {
      "application/vnd.jupyter.widget-view+json": {
       "model_id": "6be19f8226394836a7f5128a120b7c2e",
       "version_major": 2,
       "version_minor": 0
      },
      "text/plain": [
       "  0%|          | 0/1000 [00:00<?, ?it/s]"
      ]
     },
     "metadata": {},
     "output_type": "display_data"
    },
    {
     "name": "stdout",
     "output_type": "stream",
     "text": [
      "https://www.bitstamp.net/api/v2/ohlc/btcusd/?&currency_pair=btcusd&step=180&limit=1000&start=1623711600\n",
      "https://www.bitstamp.net/api/v2/ohlc/btcusd/?&currency_pair=btcusd&step=180&limit=1000&start=1623891600\n",
      "https://www.bitstamp.net/api/v2/ohlc/btcusd/?&currency_pair=btcusd&step=180&limit=1000&start=1624071600\n",
      "https://www.bitstamp.net/api/v2/ohlc/btcusd/?&currency_pair=btcusd&step=180&limit=1000&start=1624251600\n",
      "https://www.bitstamp.net/api/v2/ohlc/btcusd/?&currency_pair=btcusd&step=180&limit=1000&start=1624431600\n",
      "https://www.bitstamp.net/api/v2/ohlc/btcusd/?&currency_pair=btcusd&step=180&limit=1000&start=1624611600\n",
      "https://www.bitstamp.net/api/v2/ohlc/btcusd/?&currency_pair=btcusd&step=180&limit=1000&start=1624791600\n",
      "https://www.bitstamp.net/api/v2/ohlc/btcusd/?&currency_pair=btcusd&step=180&limit=1000&start=1624971600\n",
      "https://www.bitstamp.net/api/v2/ohlc/btcusd/?&currency_pair=btcusd&step=180&limit=1000&start=1625151600\n",
      "https://www.bitstamp.net/api/v2/ohlc/btcusd/?&currency_pair=btcusd&step=180&limit=1000&start=1625331600\n",
      "https://www.bitstamp.net/api/v2/ohlc/btcusd/?&currency_pair=btcusd&step=180&limit=1000&start=1625511600\n",
      "https://www.bitstamp.net/api/v2/ohlc/btcusd/?&currency_pair=btcusd&step=180&limit=1000&start=1625691600\n",
      "https://www.bitstamp.net/api/v2/ohlc/btcusd/?&currency_pair=btcusd&step=180&limit=1000&start=1625871600\n",
      "https://www.bitstamp.net/api/v2/ohlc/btcusd/?&currency_pair=btcusd&step=180&limit=1000&start=1626051600\n",
      "https://www.bitstamp.net/api/v2/ohlc/btcusd/?&currency_pair=btcusd&step=180&limit=1000&start=1626231600\n",
      "Downloaded from 2021-06-15 00:00:00(1623711600) to 2021-07-15 00:00:00(1626303600) 32978.97\n",
      "Processing 14401 of btcusd\n"
     ]
    },
    {
     "data": {
      "application/vnd.jupyter.widget-view+json": {
       "model_id": "87c41e3340b844168c7fd3fbf2054a6c",
       "version_major": 2,
       "version_minor": 0
      },
      "text/plain": [
       "  0%|          | 0/14401 [00:00<?, ?it/s]"
      ]
     },
     "metadata": {},
     "output_type": "display_data"
    },
    {
     "name": "stdout",
     "output_type": "stream",
     "text": [
      "https://www.bitstamp.net/api/v2/ohlc/ethusd/?&currency_pair=ethusd&step=180&limit=1000&start=1623711600\n",
      "https://www.bitstamp.net/api/v2/ohlc/ethusd/?&currency_pair=ethusd&step=180&limit=1000&start=1623891600\n",
      "https://www.bitstamp.net/api/v2/ohlc/ethusd/?&currency_pair=ethusd&step=180&limit=1000&start=1624071600\n",
      "https://www.bitstamp.net/api/v2/ohlc/ethusd/?&currency_pair=ethusd&step=180&limit=1000&start=1624251600\n",
      "https://www.bitstamp.net/api/v2/ohlc/ethusd/?&currency_pair=ethusd&step=180&limit=1000&start=1624431600\n",
      "https://www.bitstamp.net/api/v2/ohlc/ethusd/?&currency_pair=ethusd&step=180&limit=1000&start=1624611600\n",
      "https://www.bitstamp.net/api/v2/ohlc/ethusd/?&currency_pair=ethusd&step=180&limit=1000&start=1624791600\n",
      "https://www.bitstamp.net/api/v2/ohlc/ethusd/?&currency_pair=ethusd&step=180&limit=1000&start=1624971600\n",
      "https://www.bitstamp.net/api/v2/ohlc/ethusd/?&currency_pair=ethusd&step=180&limit=1000&start=1625151600\n",
      "https://www.bitstamp.net/api/v2/ohlc/ethusd/?&currency_pair=ethusd&step=180&limit=1000&start=1625331600\n",
      "https://www.bitstamp.net/api/v2/ohlc/ethusd/?&currency_pair=ethusd&step=180&limit=1000&start=1625511600\n",
      "https://www.bitstamp.net/api/v2/ohlc/ethusd/?&currency_pair=ethusd&step=180&limit=1000&start=1625691600\n",
      "https://www.bitstamp.net/api/v2/ohlc/ethusd/?&currency_pair=ethusd&step=180&limit=1000&start=1625871600\n",
      "https://www.bitstamp.net/api/v2/ohlc/ethusd/?&currency_pair=ethusd&step=180&limit=1000&start=1626051600\n",
      "https://www.bitstamp.net/api/v2/ohlc/ethusd/?&currency_pair=ethusd&step=180&limit=1000&start=1626231600\n",
      "Downloaded from 2021-06-15 00:00:00(1623711600) to 2021-07-15 00:00:00(1626303600) 2005.17\n",
      "Processing 14401 of ethusd\n"
     ]
    },
    {
     "data": {
      "application/vnd.jupyter.widget-view+json": {
       "model_id": "90ab422401624e3784a75d598ce6ebec",
       "version_major": 2,
       "version_minor": 0
      },
      "text/plain": [
       "  0%|          | 0/14401 [00:00<?, ?it/s]"
      ]
     },
     "metadata": {},
     "output_type": "display_data"
    },
    {
     "name": "stdout",
     "output_type": "stream",
     "text": [
      "https://www.bitstamp.net/api/v2/ohlc/ltcusd/?&currency_pair=ltcusd&step=180&limit=1000&start=1623711600\n",
      "https://www.bitstamp.net/api/v2/ohlc/ltcusd/?&currency_pair=ltcusd&step=180&limit=1000&start=1623891600\n",
      "https://www.bitstamp.net/api/v2/ohlc/ltcusd/?&currency_pair=ltcusd&step=180&limit=1000&start=1624071600\n",
      "https://www.bitstamp.net/api/v2/ohlc/ltcusd/?&currency_pair=ltcusd&step=180&limit=1000&start=1624251600\n",
      "https://www.bitstamp.net/api/v2/ohlc/ltcusd/?&currency_pair=ltcusd&step=180&limit=1000&start=1624431600\n",
      "https://www.bitstamp.net/api/v2/ohlc/ltcusd/?&currency_pair=ltcusd&step=180&limit=1000&start=1624611600\n",
      "https://www.bitstamp.net/api/v2/ohlc/ltcusd/?&currency_pair=ltcusd&step=180&limit=1000&start=1624791600\n",
      "https://www.bitstamp.net/api/v2/ohlc/ltcusd/?&currency_pair=ltcusd&step=180&limit=1000&start=1624971600\n",
      "https://www.bitstamp.net/api/v2/ohlc/ltcusd/?&currency_pair=ltcusd&step=180&limit=1000&start=1625151600\n",
      "https://www.bitstamp.net/api/v2/ohlc/ltcusd/?&currency_pair=ltcusd&step=180&limit=1000&start=1625331600\n",
      "https://www.bitstamp.net/api/v2/ohlc/ltcusd/?&currency_pair=ltcusd&step=180&limit=1000&start=1625511600\n",
      "https://www.bitstamp.net/api/v2/ohlc/ltcusd/?&currency_pair=ltcusd&step=180&limit=1000&start=1625691600\n",
      "https://www.bitstamp.net/api/v2/ohlc/ltcusd/?&currency_pair=ltcusd&step=180&limit=1000&start=1625871600\n",
      "https://www.bitstamp.net/api/v2/ohlc/ltcusd/?&currency_pair=ltcusd&step=180&limit=1000&start=1626051600\n",
      "https://www.bitstamp.net/api/v2/ohlc/ltcusd/?&currency_pair=ltcusd&step=180&limit=1000&start=1626231600\n",
      "Downloaded from 2021-06-15 00:00:00(1623711600) to 2021-07-15 00:00:00(1626303600) 131.43\n",
      "Processing 14401 of ltcusd\n"
     ]
    },
    {
     "data": {
      "application/vnd.jupyter.widget-view+json": {
       "model_id": "25a560c37e2149d89e23caf2328c8bc2",
       "version_major": 2,
       "version_minor": 0
      },
      "text/plain": [
       "  0%|          | 0/14401 [00:00<?, ?it/s]"
      ]
     },
     "metadata": {},
     "output_type": "display_data"
    },
    {
     "name": "stdout",
     "output_type": "stream",
     "text": [
      "https://www.bitstamp.net/api/v2/ohlc/ltcbtc/?&currency_pair=ltcbtc&step=180&limit=1000&start=1623711600\n",
      "https://www.bitstamp.net/api/v2/ohlc/ltcbtc/?&currency_pair=ltcbtc&step=180&limit=1000&start=1623891600\n",
      "https://www.bitstamp.net/api/v2/ohlc/ltcbtc/?&currency_pair=ltcbtc&step=180&limit=1000&start=1624071600\n",
      "https://www.bitstamp.net/api/v2/ohlc/ltcbtc/?&currency_pair=ltcbtc&step=180&limit=1000&start=1624251600\n",
      "https://www.bitstamp.net/api/v2/ohlc/ltcbtc/?&currency_pair=ltcbtc&step=180&limit=1000&start=1624431600\n",
      "https://www.bitstamp.net/api/v2/ohlc/ltcbtc/?&currency_pair=ltcbtc&step=180&limit=1000&start=1624611600\n",
      "https://www.bitstamp.net/api/v2/ohlc/ltcbtc/?&currency_pair=ltcbtc&step=180&limit=1000&start=1624791600\n",
      "https://www.bitstamp.net/api/v2/ohlc/ltcbtc/?&currency_pair=ltcbtc&step=180&limit=1000&start=1624971600\n",
      "https://www.bitstamp.net/api/v2/ohlc/ltcbtc/?&currency_pair=ltcbtc&step=180&limit=1000&start=1625151600\n",
      "https://www.bitstamp.net/api/v2/ohlc/ltcbtc/?&currency_pair=ltcbtc&step=180&limit=1000&start=1625331600\n",
      "https://www.bitstamp.net/api/v2/ohlc/ltcbtc/?&currency_pair=ltcbtc&step=180&limit=1000&start=1625511600\n",
      "https://www.bitstamp.net/api/v2/ohlc/ltcbtc/?&currency_pair=ltcbtc&step=180&limit=1000&start=1625691600\n",
      "https://www.bitstamp.net/api/v2/ohlc/ltcbtc/?&currency_pair=ltcbtc&step=180&limit=1000&start=1625871600\n",
      "https://www.bitstamp.net/api/v2/ohlc/ltcbtc/?&currency_pair=ltcbtc&step=180&limit=1000&start=1626051600\n",
      "https://www.bitstamp.net/api/v2/ohlc/ltcbtc/?&currency_pair=ltcbtc&step=180&limit=1000&start=1626231600\n",
      "Downloaded from 2021-06-15 00:00:00(1623711600) to 2021-07-15 00:00:00(1626303600) 0.00399637\n",
      "Processing 14401 of ltcbtc\n"
     ]
    },
    {
     "data": {
      "application/vnd.jupyter.widget-view+json": {
       "model_id": "6529cd0532cd4c6582a526a49c73b245",
       "version_major": 2,
       "version_minor": 0
      },
      "text/plain": [
       "  0%|          | 0/14401 [00:00<?, ?it/s]"
      ]
     },
     "metadata": {},
     "output_type": "display_data"
    },
    {
     "name": "stdout",
     "output_type": "stream",
     "text": [
      "data/online30_3 -> OnLineDataProvider (val_keys = {'btcusd': 3, 'ethusd': 3, 'ltcusd': 3, 'ltcbtc': 3}, train_data = 2 , data_detail = DataDetail (windows = 30, minutes = 3, steps_ahead = 1)))\n",
      "https://www.bitstamp.net/api/v2/ohlc/btcusd/?&currency_pair=btcusd&step=180&limit=1000&start=1622502000\n",
      "Downloaded from 2021-06-01 00:00:00(1622502000) to 2021-06-03 01:57:00(1622681820) 37436.78\n",
      "Processing 1000 of btcusd\n"
     ]
    },
    {
     "data": {
      "application/vnd.jupyter.widget-view+json": {
       "model_id": "1ef646e2a7d841a2b3ed9f37cf97f63b",
       "version_major": 2,
       "version_minor": 0
      },
      "text/plain": [
       "  0%|          | 0/1000 [00:00<?, ?it/s]"
      ]
     },
     "metadata": {},
     "output_type": "display_data"
    },
    {
     "name": "stdout",
     "output_type": "stream",
     "text": [
      "https://www.bitstamp.net/api/v2/ohlc/ethusd/?&currency_pair=ethusd&step=180&limit=1000&start=1622502000\n",
      "Downloaded from 2021-06-01 00:00:00(1622502000) to 2021-06-03 01:57:00(1622681820) 2702.14\n",
      "Processing 1000 of ethusd\n"
     ]
    },
    {
     "data": {
      "application/vnd.jupyter.widget-view+json": {
       "model_id": "d0f0e96218a4444b9231671709cf3a13",
       "version_major": 2,
       "version_minor": 0
      },
      "text/plain": [
       "  0%|          | 0/1000 [00:00<?, ?it/s]"
      ]
     },
     "metadata": {},
     "output_type": "display_data"
    },
    {
     "name": "stdout",
     "output_type": "stream",
     "text": [
      "https://www.bitstamp.net/api/v2/ohlc/ltcusd/?&currency_pair=ltcusd&step=180&limit=1000&start=1622502000\n",
      "Downloaded from 2021-06-01 00:00:00(1622502000) to 2021-06-03 01:57:00(1622681820) 185.00\n",
      "Processing 1000 of ltcusd\n"
     ]
    },
    {
     "data": {
      "application/vnd.jupyter.widget-view+json": {
       "model_id": "311f1fff84a44e51a1a1218fb4b0f4cb",
       "version_major": 2,
       "version_minor": 0
      },
      "text/plain": [
       "  0%|          | 0/1000 [00:00<?, ?it/s]"
      ]
     },
     "metadata": {},
     "output_type": "display_data"
    },
    {
     "name": "stdout",
     "output_type": "stream",
     "text": [
      "https://www.bitstamp.net/api/v2/ohlc/ltcbtc/?&currency_pair=ltcbtc&step=180&limit=1000&start=1622502000\n",
      "Downloaded from 2021-06-01 00:00:00(1622502000) to 2021-06-03 01:57:00(1622681820) 0.00494481\n",
      "Processing 1000 of ltcbtc\n"
     ]
    },
    {
     "data": {
      "application/vnd.jupyter.widget-view+json": {
       "model_id": "1940ff3b1b9847ef84dcdee2b41d8a2b",
       "version_major": 2,
       "version_minor": 0
      },
      "text/plain": [
       "  0%|          | 0/1000 [00:00<?, ?it/s]"
      ]
     },
     "metadata": {},
     "output_type": "display_data"
    },
    {
     "name": "stdout",
     "output_type": "stream",
     "text": [
      "https://www.bitstamp.net/api/v2/ohlc/btcusd/?&currency_pair=btcusd&step=180&limit=1000&start=1590966000\n",
      "Downloaded from 2020-06-01 00:00:00(1590966000) to 2020-06-03 01:57:00(1591145820) 9525.82\n",
      "Processing 1000 of btcusd\n"
     ]
    },
    {
     "data": {
      "application/vnd.jupyter.widget-view+json": {
       "model_id": "2160e0c8ba324843885632c3fe57c2fb",
       "version_major": 2,
       "version_minor": 0
      },
      "text/plain": [
       "  0%|          | 0/1000 [00:00<?, ?it/s]"
      ]
     },
     "metadata": {},
     "output_type": "display_data"
    },
    {
     "name": "stdout",
     "output_type": "stream",
     "text": [
      "https://www.bitstamp.net/api/v2/ohlc/ethusd/?&currency_pair=ethusd&step=180&limit=1000&start=1590966000\n",
      "Downloaded from 2020-06-01 00:00:00(1590966000) to 2020-06-03 01:57:00(1591145820) 237.99\n",
      "Processing 1000 of ethusd\n"
     ]
    },
    {
     "data": {
      "application/vnd.jupyter.widget-view+json": {
       "model_id": "bc65898cec594059b490a000585ba4d9",
       "version_major": 2,
       "version_minor": 0
      },
      "text/plain": [
       "  0%|          | 0/1000 [00:00<?, ?it/s]"
      ]
     },
     "metadata": {},
     "output_type": "display_data"
    },
    {
     "name": "stdout",
     "output_type": "stream",
     "text": [
      "https://www.bitstamp.net/api/v2/ohlc/ltcusd/?&currency_pair=ltcusd&step=180&limit=1000&start=1590966000\n",
      "Downloaded from 2020-06-01 00:00:00(1590966000) to 2020-06-03 01:57:00(1591145820) 46.08\n",
      "Processing 1000 of ltcusd\n"
     ]
    },
    {
     "data": {
      "application/vnd.jupyter.widget-view+json": {
       "model_id": "90337041909547ad86877a5decb2602e",
       "version_major": 2,
       "version_minor": 0
      },
      "text/plain": [
       "  0%|          | 0/1000 [00:00<?, ?it/s]"
      ]
     },
     "metadata": {},
     "output_type": "display_data"
    },
    {
     "name": "stdout",
     "output_type": "stream",
     "text": [
      "https://www.bitstamp.net/api/v2/ohlc/ltcbtc/?&currency_pair=ltcbtc&step=180&limit=1000&start=1590966000\n",
      "Downloaded from 2020-06-01 00:00:00(1590966000) to 2020-06-03 01:57:00(1591145820) 0.00484476\n",
      "Processing 1000 of ltcbtc\n"
     ]
    },
    {
     "data": {
      "application/vnd.jupyter.widget-view+json": {
       "model_id": "36fcb900ed754d98baa818d30f240a3e",
       "version_major": 2,
       "version_minor": 0
      },
      "text/plain": [
       "  0%|          | 0/1000 [00:00<?, ?it/s]"
      ]
     },
     "metadata": {},
     "output_type": "display_data"
    },
    {
     "name": "stdout",
     "output_type": "stream",
     "text": [
      "https://www.bitstamp.net/api/v2/ohlc/btcusd/?&currency_pair=btcusd&step=180&limit=1000&start=1559343600\n",
      "Downloaded from 2019-06-01 00:00:00(1559343600) to 2019-06-03 01:57:00(1559523420) 8681.59\n",
      "Processing 1000 of btcusd\n"
     ]
    },
    {
     "data": {
      "application/vnd.jupyter.widget-view+json": {
       "model_id": "632389c3c89a43f8a509b099978d0e41",
       "version_major": 2,
       "version_minor": 0
      },
      "text/plain": [
       "  0%|          | 0/1000 [00:00<?, ?it/s]"
      ]
     },
     "metadata": {},
     "output_type": "display_data"
    },
    {
     "name": "stdout",
     "output_type": "stream",
     "text": [
      "https://www.bitstamp.net/api/v2/ohlc/ethusd/?&currency_pair=ethusd&step=180&limit=1000&start=1559343600\n",
      "Downloaded from 2019-06-01 00:00:00(1559343600) to 2019-06-03 01:57:00(1559523420) 266.63\n",
      "Processing 1000 of ethusd\n"
     ]
    },
    {
     "data": {
      "application/vnd.jupyter.widget-view+json": {
       "model_id": "96abe65245cd4d4882b08e8c560f7bc0",
       "version_major": 2,
       "version_minor": 0
      },
      "text/plain": [
       "  0%|          | 0/1000 [00:00<?, ?it/s]"
      ]
     },
     "metadata": {},
     "output_type": "display_data"
    },
    {
     "name": "stdout",
     "output_type": "stream",
     "text": [
      "https://www.bitstamp.net/api/v2/ohlc/ltcusd/?&currency_pair=ltcusd&step=180&limit=1000&start=1559343600\n",
      "Downloaded from 2019-06-01 00:00:00(1559343600) to 2019-06-03 01:57:00(1559523420) 113.86\n",
      "Processing 1000 of ltcusd\n"
     ]
    },
    {
     "data": {
      "application/vnd.jupyter.widget-view+json": {
       "model_id": "2a2a42c193bd4a2692d7fd26b20048c2",
       "version_major": 2,
       "version_minor": 0
      },
      "text/plain": [
       "  0%|          | 0/1000 [00:00<?, ?it/s]"
      ]
     },
     "metadata": {},
     "output_type": "display_data"
    },
    {
     "name": "stdout",
     "output_type": "stream",
     "text": [
      "https://www.bitstamp.net/api/v2/ohlc/ltcbtc/?&currency_pair=ltcbtc&step=180&limit=1000&start=1559343600\n",
      "Downloaded from 2019-06-01 00:00:00(1559343600) to 2019-06-03 01:57:00(1559523420) 0.01310000\n",
      "Processing 1000 of ltcbtc\n"
     ]
    },
    {
     "data": {
      "application/vnd.jupyter.widget-view+json": {
       "model_id": "9ef32893147943d69f94b29cdeaa3e2e",
       "version_major": 2,
       "version_minor": 0
      },
      "text/plain": [
       "  0%|          | 0/1000 [00:00<?, ?it/s]"
      ]
     },
     "metadata": {},
     "output_type": "display_data"
    },
    {
     "name": "stdout",
     "output_type": "stream",
     "text": [
      "https://www.bitstamp.net/api/v2/ohlc/btcusd/?&currency_pair=btcusd&step=180&limit=1000&start=1527807600\n",
      "Downloaded from 2018-06-01 00:00:00(1527807600) to 2018-06-03 01:57:00(1527987420) 7653.99\n",
      "Processing 1000 of btcusd\n"
     ]
    },
    {
     "data": {
      "application/vnd.jupyter.widget-view+json": {
       "model_id": "a6d62e877f4a4a0381def85aa77e95da",
       "version_major": 2,
       "version_minor": 0
      },
      "text/plain": [
       "  0%|          | 0/1000 [00:00<?, ?it/s]"
      ]
     },
     "metadata": {},
     "output_type": "display_data"
    },
    {
     "name": "stdout",
     "output_type": "stream",
     "text": [
      "https://www.bitstamp.net/api/v2/ohlc/ethusd/?&currency_pair=ethusd&step=180&limit=1000&start=1527807600\n",
      "Downloaded from 2018-06-01 00:00:00(1527807600) to 2018-06-03 01:57:00(1527987420) 592.70\n",
      "Processing 1000 of ethusd\n"
     ]
    },
    {
     "data": {
      "application/vnd.jupyter.widget-view+json": {
       "model_id": "24e5b49383ad4823ad50276e75c64dc6",
       "version_major": 2,
       "version_minor": 0
      },
      "text/plain": [
       "  0%|          | 0/1000 [00:00<?, ?it/s]"
      ]
     },
     "metadata": {},
     "output_type": "display_data"
    },
    {
     "name": "stdout",
     "output_type": "stream",
     "text": [
      "https://www.bitstamp.net/api/v2/ohlc/ltcusd/?&currency_pair=ltcusd&step=180&limit=1000&start=1527807600\n",
      "Downloaded from 2018-06-01 00:00:00(1527807600) to 2018-06-03 01:57:00(1527987420) 123.64\n",
      "Processing 1000 of ltcusd\n"
     ]
    },
    {
     "data": {
      "application/vnd.jupyter.widget-view+json": {
       "model_id": "4b79268c1b44406b94d5e994bca96984",
       "version_major": 2,
       "version_minor": 0
      },
      "text/plain": [
       "  0%|          | 0/1000 [00:00<?, ?it/s]"
      ]
     },
     "metadata": {},
     "output_type": "display_data"
    },
    {
     "name": "stdout",
     "output_type": "stream",
     "text": [
      "https://www.bitstamp.net/api/v2/ohlc/ltcbtc/?&currency_pair=ltcbtc&step=180&limit=1000&start=1527807600\n",
      "Downloaded from 2018-06-01 00:00:00(1527807600) to 2018-06-03 01:57:00(1527987420) 0.01614501\n",
      "Processing 1000 of ltcbtc\n"
     ]
    },
    {
     "data": {
      "application/vnd.jupyter.widget-view+json": {
       "model_id": "307931c7afeb4251bb172a33fb9eaec6",
       "version_major": 2,
       "version_minor": 0
      },
      "text/plain": [
       "  0%|          | 0/1000 [00:00<?, ?it/s]"
      ]
     },
     "metadata": {},
     "output_type": "display_data"
    },
    {
     "name": "stdout",
     "output_type": "stream",
     "text": [
      "https://www.bitstamp.net/api/v2/ohlc/btcusd/?&currency_pair=btcusd&step=180&limit=1000&start=1517443200\n",
      "Downloaded from 2018-02-01 00:00:00(1517443200) to 2018-02-03 01:57:00(1517623020) 8563.00\n",
      "Processing 1000 of btcusd\n"
     ]
    },
    {
     "data": {
      "application/vnd.jupyter.widget-view+json": {
       "model_id": "17a4ab8fc38a441dbc54a979a8e17467",
       "version_major": 2,
       "version_minor": 0
      },
      "text/plain": [
       "  0%|          | 0/1000 [00:00<?, ?it/s]"
      ]
     },
     "metadata": {},
     "output_type": "display_data"
    },
    {
     "name": "stdout",
     "output_type": "stream",
     "text": [
      "https://www.bitstamp.net/api/v2/ohlc/ethusd/?&currency_pair=ethusd&step=180&limit=1000&start=1517443200\n",
      "Downloaded from 2018-02-01 00:00:00(1517443200) to 2018-02-03 01:57:00(1517623020) 894.06\n",
      "Processing 1000 of ethusd\n"
     ]
    },
    {
     "data": {
      "application/vnd.jupyter.widget-view+json": {
       "model_id": "2f826a4310aa48d082f662507505041a",
       "version_major": 2,
       "version_minor": 0
      },
      "text/plain": [
       "  0%|          | 0/1000 [00:00<?, ?it/s]"
      ]
     },
     "metadata": {},
     "output_type": "display_data"
    },
    {
     "name": "stdout",
     "output_type": "stream",
     "text": [
      "https://www.bitstamp.net/api/v2/ohlc/ltcusd/?&currency_pair=ltcusd&step=180&limit=1000&start=1517443200\n",
      "Downloaded from 2018-02-01 00:00:00(1517443200) to 2018-02-03 01:57:00(1517623020) 127.76\n",
      "Processing 1000 of ltcusd\n"
     ]
    },
    {
     "data": {
      "application/vnd.jupyter.widget-view+json": {
       "model_id": "6b450ac9de384bd79bc6dd3d5939d51e",
       "version_major": 2,
       "version_minor": 0
      },
      "text/plain": [
       "  0%|          | 0/1000 [00:00<?, ?it/s]"
      ]
     },
     "metadata": {},
     "output_type": "display_data"
    },
    {
     "name": "stdout",
     "output_type": "stream",
     "text": [
      "https://www.bitstamp.net/api/v2/ohlc/ltcbtc/?&currency_pair=ltcbtc&step=180&limit=1000&start=1517443200\n",
      "Downloaded from 2018-02-01 00:00:00(1517443200) to 2018-02-03 01:57:00(1517623020) 0.01497000\n",
      "Processing 1000 of ltcbtc\n"
     ]
    },
    {
     "data": {
      "application/vnd.jupyter.widget-view+json": {
       "model_id": "fb06738ad3784befbe202b6ac8c7ab36",
       "version_major": 2,
       "version_minor": 0
      },
      "text/plain": [
       "  0%|          | 0/1000 [00:00<?, ?it/s]"
      ]
     },
     "metadata": {},
     "output_type": "display_data"
    },
    {
     "name": "stdout",
     "output_type": "stream",
     "text": [
      "https://www.bitstamp.net/api/v2/ohlc/btcusd/?&currency_pair=btcusd&step=180&limit=1000&start=1548979200\n",
      "Downloaded from 2019-02-01 00:00:00(1548979200) to 2019-02-03 01:57:00(1549159020) 3448.32\n",
      "Processing 1000 of btcusd\n"
     ]
    },
    {
     "data": {
      "application/vnd.jupyter.widget-view+json": {
       "model_id": "faf287ddd4e1487280a8ffad0f8c5c6f",
       "version_major": 2,
       "version_minor": 0
      },
      "text/plain": [
       "  0%|          | 0/1000 [00:00<?, ?it/s]"
      ]
     },
     "metadata": {},
     "output_type": "display_data"
    },
    {
     "name": "stdout",
     "output_type": "stream",
     "text": [
      "https://www.bitstamp.net/api/v2/ohlc/ethusd/?&currency_pair=ethusd&step=180&limit=1000&start=1548979200\n",
      "Downloaded from 2019-02-01 00:00:00(1548979200) to 2019-02-03 01:57:00(1549159020) 108.63\n",
      "Processing 1000 of ethusd\n"
     ]
    },
    {
     "data": {
      "application/vnd.jupyter.widget-view+json": {
       "model_id": "11aabd980fcd4d4dbc09594e6e94f8bf",
       "version_major": 2,
       "version_minor": 0
      },
      "text/plain": [
       "  0%|          | 0/1000 [00:00<?, ?it/s]"
      ]
     },
     "metadata": {},
     "output_type": "display_data"
    },
    {
     "name": "stdout",
     "output_type": "stream",
     "text": [
      "https://www.bitstamp.net/api/v2/ohlc/ltcusd/?&currency_pair=ltcusd&step=180&limit=1000&start=1548979200\n",
      "Downloaded from 2019-02-01 00:00:00(1548979200) to 2019-02-03 01:57:00(1549159020) 34.01\n",
      "Processing 1000 of ltcusd\n"
     ]
    },
    {
     "data": {
      "application/vnd.jupyter.widget-view+json": {
       "model_id": "25b90b4d62ff40e69bb8b695b13ddc3e",
       "version_major": 2,
       "version_minor": 0
      },
      "text/plain": [
       "  0%|          | 0/1000 [00:00<?, ?it/s]"
      ]
     },
     "metadata": {},
     "output_type": "display_data"
    },
    {
     "name": "stdout",
     "output_type": "stream",
     "text": [
      "https://www.bitstamp.net/api/v2/ohlc/ltcbtc/?&currency_pair=ltcbtc&step=180&limit=1000&start=1548979200\n",
      "Downloaded from 2019-02-01 00:00:00(1548979200) to 2019-02-03 01:57:00(1549159020) 0.00988827\n",
      "Processing 1000 of ltcbtc\n"
     ]
    },
    {
     "data": {
      "application/vnd.jupyter.widget-view+json": {
       "model_id": "d90b730b98924bf1bbc435942b26c3f5",
       "version_major": 2,
       "version_minor": 0
      },
      "text/plain": [
       "  0%|          | 0/1000 [00:00<?, ?it/s]"
      ]
     },
     "metadata": {},
     "output_type": "display_data"
    },
    {
     "name": "stdout",
     "output_type": "stream",
     "text": [
      "https://www.bitstamp.net/api/v2/ohlc/btcusd/?&currency_pair=btcusd&step=180&limit=1000&start=1580515200\n",
      "Downloaded from 2020-02-01 00:00:00(1580515200) to 2020-02-03 01:57:00(1580695020) 9540.01\n",
      "Processing 1000 of btcusd\n"
     ]
    },
    {
     "data": {
      "application/vnd.jupyter.widget-view+json": {
       "model_id": "ccc0466fbcdf4d23945842d9e132b743",
       "version_major": 2,
       "version_minor": 0
      },
      "text/plain": [
       "  0%|          | 0/1000 [00:00<?, ?it/s]"
      ]
     },
     "metadata": {},
     "output_type": "display_data"
    },
    {
     "name": "stdout",
     "output_type": "stream",
     "text": [
      "https://www.bitstamp.net/api/v2/ohlc/ethusd/?&currency_pair=ethusd&step=180&limit=1000&start=1580515200\n",
      "Downloaded from 2020-02-01 00:00:00(1580515200) to 2020-02-03 01:57:00(1580695020) 193.14\n",
      "Processing 1000 of ethusd\n"
     ]
    },
    {
     "data": {
      "application/vnd.jupyter.widget-view+json": {
       "model_id": "dfee117bd83c478c8ae69b7a7e0b2140",
       "version_major": 2,
       "version_minor": 0
      },
      "text/plain": [
       "  0%|          | 0/1000 [00:00<?, ?it/s]"
      ]
     },
     "metadata": {},
     "output_type": "display_data"
    },
    {
     "name": "stdout",
     "output_type": "stream",
     "text": [
      "https://www.bitstamp.net/api/v2/ohlc/ltcusd/?&currency_pair=ltcusd&step=180&limit=1000&start=1580515200\n",
      "Downloaded from 2020-02-01 00:00:00(1580515200) to 2020-02-03 01:57:00(1580695020) 71.63\n",
      "Processing 1000 of ltcusd\n"
     ]
    },
    {
     "data": {
      "application/vnd.jupyter.widget-view+json": {
       "model_id": "a8ba3bf90e1748948a2a963f7590ff6d",
       "version_major": 2,
       "version_minor": 0
      },
      "text/plain": [
       "  0%|          | 0/1000 [00:00<?, ?it/s]"
      ]
     },
     "metadata": {},
     "output_type": "display_data"
    },
    {
     "name": "stdout",
     "output_type": "stream",
     "text": [
      "https://www.bitstamp.net/api/v2/ohlc/ltcbtc/?&currency_pair=ltcbtc&step=180&limit=1000&start=1580515200\n",
      "Downloaded from 2020-02-01 00:00:00(1580515200) to 2020-02-03 01:57:00(1580695020) 0.00758690\n",
      "Processing 1000 of ltcbtc\n"
     ]
    },
    {
     "data": {
      "application/vnd.jupyter.widget-view+json": {
       "model_id": "d751c2fd5f304962a7ec6424ea2701f7",
       "version_major": 2,
       "version_minor": 0
      },
      "text/plain": [
       "  0%|          | 0/1000 [00:00<?, ?it/s]"
      ]
     },
     "metadata": {},
     "output_type": "display_data"
    },
    {
     "name": "stdout",
     "output_type": "stream",
     "text": [
      "https://www.bitstamp.net/api/v2/ohlc/btcusd/?&currency_pair=btcusd&step=180&limit=1000&start=1612137600\n",
      "Downloaded from 2021-02-01 00:00:00(1612137600) to 2021-02-03 01:57:00(1612317420) 35892.89\n",
      "Processing 1000 of btcusd\n"
     ]
    },
    {
     "data": {
      "application/vnd.jupyter.widget-view+json": {
       "model_id": "159022b5ba6947f08dd3d2206a8ece1b",
       "version_major": 2,
       "version_minor": 0
      },
      "text/plain": [
       "  0%|          | 0/1000 [00:00<?, ?it/s]"
      ]
     },
     "metadata": {},
     "output_type": "display_data"
    },
    {
     "name": "stdout",
     "output_type": "stream",
     "text": [
      "https://www.bitstamp.net/api/v2/ohlc/ethusd/?&currency_pair=ethusd&step=180&limit=1000&start=1612137600\n",
      "Downloaded from 2021-02-01 00:00:00(1612137600) to 2021-02-03 01:57:00(1612317420) 1519.63\n",
      "Processing 1000 of ethusd\n"
     ]
    },
    {
     "data": {
      "application/vnd.jupyter.widget-view+json": {
       "model_id": "bd996554d64442e59130b102b36b7e2d",
       "version_major": 2,
       "version_minor": 0
      },
      "text/plain": [
       "  0%|          | 0/1000 [00:00<?, ?it/s]"
      ]
     },
     "metadata": {},
     "output_type": "display_data"
    },
    {
     "name": "stdout",
     "output_type": "stream",
     "text": [
      "https://www.bitstamp.net/api/v2/ohlc/ltcusd/?&currency_pair=ltcusd&step=180&limit=1000&start=1612137600\n",
      "Downloaded from 2021-02-01 00:00:00(1612137600) to 2021-02-03 01:57:00(1612317420) 148.03\n",
      "Processing 1000 of ltcusd\n"
     ]
    },
    {
     "data": {
      "application/vnd.jupyter.widget-view+json": {
       "model_id": "47b80948353f4fd7aa5778eefaa078af",
       "version_major": 2,
       "version_minor": 0
      },
      "text/plain": [
       "  0%|          | 0/1000 [00:00<?, ?it/s]"
      ]
     },
     "metadata": {},
     "output_type": "display_data"
    },
    {
     "name": "stdout",
     "output_type": "stream",
     "text": [
      "https://www.bitstamp.net/api/v2/ohlc/ltcbtc/?&currency_pair=ltcbtc&step=180&limit=1000&start=1612137600\n",
      "Downloaded from 2021-02-01 00:00:00(1612137600) to 2021-02-03 01:57:00(1612317420) 0.00412009\n",
      "Processing 1000 of ltcbtc\n"
     ]
    },
    {
     "data": {
      "application/vnd.jupyter.widget-view+json": {
       "model_id": "419d8e8eae3d40279a5d5121ec10b8ef",
       "version_major": 2,
       "version_minor": 0
      },
      "text/plain": [
       "  0%|          | 0/1000 [00:00<?, ?it/s]"
      ]
     },
     "metadata": {},
     "output_type": "display_data"
    },
    {
     "name": "stdout",
     "output_type": "stream",
     "text": [
      "https://www.bitstamp.net/api/v2/ohlc/btcusd/?&currency_pair=btcusd&step=180&limit=1000&start=1623711600\n",
      "https://www.bitstamp.net/api/v2/ohlc/btcusd/?&currency_pair=btcusd&step=180&limit=1000&start=1623891600\n",
      "https://www.bitstamp.net/api/v2/ohlc/btcusd/?&currency_pair=btcusd&step=180&limit=1000&start=1624071600\n",
      "https://www.bitstamp.net/api/v2/ohlc/btcusd/?&currency_pair=btcusd&step=180&limit=1000&start=1624251600\n",
      "https://www.bitstamp.net/api/v2/ohlc/btcusd/?&currency_pair=btcusd&step=180&limit=1000&start=1624431600\n",
      "https://www.bitstamp.net/api/v2/ohlc/btcusd/?&currency_pair=btcusd&step=180&limit=1000&start=1624611600\n",
      "https://www.bitstamp.net/api/v2/ohlc/btcusd/?&currency_pair=btcusd&step=180&limit=1000&start=1624791600\n",
      "https://www.bitstamp.net/api/v2/ohlc/btcusd/?&currency_pair=btcusd&step=180&limit=1000&start=1624971600\n",
      "https://www.bitstamp.net/api/v2/ohlc/btcusd/?&currency_pair=btcusd&step=180&limit=1000&start=1625151600\n",
      "https://www.bitstamp.net/api/v2/ohlc/btcusd/?&currency_pair=btcusd&step=180&limit=1000&start=1625331600\n",
      "https://www.bitstamp.net/api/v2/ohlc/btcusd/?&currency_pair=btcusd&step=180&limit=1000&start=1625511600\n",
      "https://www.bitstamp.net/api/v2/ohlc/btcusd/?&currency_pair=btcusd&step=180&limit=1000&start=1625691600\n",
      "https://www.bitstamp.net/api/v2/ohlc/btcusd/?&currency_pair=btcusd&step=180&limit=1000&start=1625871600\n",
      "https://www.bitstamp.net/api/v2/ohlc/btcusd/?&currency_pair=btcusd&step=180&limit=1000&start=1626051600\n",
      "https://www.bitstamp.net/api/v2/ohlc/btcusd/?&currency_pair=btcusd&step=180&limit=1000&start=1626231600\n",
      "Downloaded from 2021-06-15 00:00:00(1623711600) to 2021-07-15 00:00:00(1626303600) 32978.97\n",
      "Processing 14401 of btcusd\n"
     ]
    },
    {
     "data": {
      "application/vnd.jupyter.widget-view+json": {
       "model_id": "6f99f3d5e9e344d492a301e9c0078b88",
       "version_major": 2,
       "version_minor": 0
      },
      "text/plain": [
       "  0%|          | 0/14401 [00:00<?, ?it/s]"
      ]
     },
     "metadata": {},
     "output_type": "display_data"
    },
    {
     "name": "stdout",
     "output_type": "stream",
     "text": [
      "https://www.bitstamp.net/api/v2/ohlc/ethusd/?&currency_pair=ethusd&step=180&limit=1000&start=1623711600\n",
      "https://www.bitstamp.net/api/v2/ohlc/ethusd/?&currency_pair=ethusd&step=180&limit=1000&start=1623891600\n",
      "https://www.bitstamp.net/api/v2/ohlc/ethusd/?&currency_pair=ethusd&step=180&limit=1000&start=1624071600\n",
      "https://www.bitstamp.net/api/v2/ohlc/ethusd/?&currency_pair=ethusd&step=180&limit=1000&start=1624251600\n",
      "https://www.bitstamp.net/api/v2/ohlc/ethusd/?&currency_pair=ethusd&step=180&limit=1000&start=1624431600\n",
      "https://www.bitstamp.net/api/v2/ohlc/ethusd/?&currency_pair=ethusd&step=180&limit=1000&start=1624611600\n",
      "https://www.bitstamp.net/api/v2/ohlc/ethusd/?&currency_pair=ethusd&step=180&limit=1000&start=1624791600\n",
      "https://www.bitstamp.net/api/v2/ohlc/ethusd/?&currency_pair=ethusd&step=180&limit=1000&start=1624971600\n",
      "https://www.bitstamp.net/api/v2/ohlc/ethusd/?&currency_pair=ethusd&step=180&limit=1000&start=1625151600\n",
      "https://www.bitstamp.net/api/v2/ohlc/ethusd/?&currency_pair=ethusd&step=180&limit=1000&start=1625331600\n",
      "https://www.bitstamp.net/api/v2/ohlc/ethusd/?&currency_pair=ethusd&step=180&limit=1000&start=1625511600\n",
      "https://www.bitstamp.net/api/v2/ohlc/ethusd/?&currency_pair=ethusd&step=180&limit=1000&start=1625691600\n",
      "https://www.bitstamp.net/api/v2/ohlc/ethusd/?&currency_pair=ethusd&step=180&limit=1000&start=1625871600\n",
      "https://www.bitstamp.net/api/v2/ohlc/ethusd/?&currency_pair=ethusd&step=180&limit=1000&start=1626051600\n",
      "https://www.bitstamp.net/api/v2/ohlc/ethusd/?&currency_pair=ethusd&step=180&limit=1000&start=1626231600\n",
      "Downloaded from 2021-06-15 00:00:00(1623711600) to 2021-07-15 00:00:00(1626303600) 2005.17\n",
      "Processing 14401 of ethusd\n"
     ]
    },
    {
     "data": {
      "application/vnd.jupyter.widget-view+json": {
       "model_id": "348eb087472f4bb6b05d3bb223474066",
       "version_major": 2,
       "version_minor": 0
      },
      "text/plain": [
       "  0%|          | 0/14401 [00:00<?, ?it/s]"
      ]
     },
     "metadata": {},
     "output_type": "display_data"
    },
    {
     "name": "stdout",
     "output_type": "stream",
     "text": [
      "https://www.bitstamp.net/api/v2/ohlc/ltcusd/?&currency_pair=ltcusd&step=180&limit=1000&start=1623711600\n",
      "https://www.bitstamp.net/api/v2/ohlc/ltcusd/?&currency_pair=ltcusd&step=180&limit=1000&start=1623891600\n",
      "https://www.bitstamp.net/api/v2/ohlc/ltcusd/?&currency_pair=ltcusd&step=180&limit=1000&start=1624071600\n",
      "https://www.bitstamp.net/api/v2/ohlc/ltcusd/?&currency_pair=ltcusd&step=180&limit=1000&start=1624251600\n",
      "https://www.bitstamp.net/api/v2/ohlc/ltcusd/?&currency_pair=ltcusd&step=180&limit=1000&start=1624431600\n",
      "https://www.bitstamp.net/api/v2/ohlc/ltcusd/?&currency_pair=ltcusd&step=180&limit=1000&start=1624611600\n",
      "https://www.bitstamp.net/api/v2/ohlc/ltcusd/?&currency_pair=ltcusd&step=180&limit=1000&start=1624791600\n",
      "https://www.bitstamp.net/api/v2/ohlc/ltcusd/?&currency_pair=ltcusd&step=180&limit=1000&start=1624971600\n",
      "https://www.bitstamp.net/api/v2/ohlc/ltcusd/?&currency_pair=ltcusd&step=180&limit=1000&start=1625151600\n",
      "https://www.bitstamp.net/api/v2/ohlc/ltcusd/?&currency_pair=ltcusd&step=180&limit=1000&start=1625331600\n",
      "https://www.bitstamp.net/api/v2/ohlc/ltcusd/?&currency_pair=ltcusd&step=180&limit=1000&start=1625511600\n",
      "https://www.bitstamp.net/api/v2/ohlc/ltcusd/?&currency_pair=ltcusd&step=180&limit=1000&start=1625691600\n",
      "https://www.bitstamp.net/api/v2/ohlc/ltcusd/?&currency_pair=ltcusd&step=180&limit=1000&start=1625871600\n",
      "https://www.bitstamp.net/api/v2/ohlc/ltcusd/?&currency_pair=ltcusd&step=180&limit=1000&start=1626051600\n",
      "https://www.bitstamp.net/api/v2/ohlc/ltcusd/?&currency_pair=ltcusd&step=180&limit=1000&start=1626231600\n",
      "Downloaded from 2021-06-15 00:00:00(1623711600) to 2021-07-15 00:00:00(1626303600) 131.43\n",
      "Processing 14401 of ltcusd\n"
     ]
    },
    {
     "data": {
      "application/vnd.jupyter.widget-view+json": {
       "model_id": "7325fec19fe440c496ad34380a3865d8",
       "version_major": 2,
       "version_minor": 0
      },
      "text/plain": [
       "  0%|          | 0/14401 [00:00<?, ?it/s]"
      ]
     },
     "metadata": {},
     "output_type": "display_data"
    },
    {
     "name": "stdout",
     "output_type": "stream",
     "text": [
      "https://www.bitstamp.net/api/v2/ohlc/ltcbtc/?&currency_pair=ltcbtc&step=180&limit=1000&start=1623711600\n",
      "https://www.bitstamp.net/api/v2/ohlc/ltcbtc/?&currency_pair=ltcbtc&step=180&limit=1000&start=1623891600\n",
      "https://www.bitstamp.net/api/v2/ohlc/ltcbtc/?&currency_pair=ltcbtc&step=180&limit=1000&start=1624071600\n",
      "https://www.bitstamp.net/api/v2/ohlc/ltcbtc/?&currency_pair=ltcbtc&step=180&limit=1000&start=1624251600\n",
      "https://www.bitstamp.net/api/v2/ohlc/ltcbtc/?&currency_pair=ltcbtc&step=180&limit=1000&start=1624431600\n",
      "https://www.bitstamp.net/api/v2/ohlc/ltcbtc/?&currency_pair=ltcbtc&step=180&limit=1000&start=1624611600\n",
      "https://www.bitstamp.net/api/v2/ohlc/ltcbtc/?&currency_pair=ltcbtc&step=180&limit=1000&start=1624791600\n",
      "https://www.bitstamp.net/api/v2/ohlc/ltcbtc/?&currency_pair=ltcbtc&step=180&limit=1000&start=1624971600\n",
      "https://www.bitstamp.net/api/v2/ohlc/ltcbtc/?&currency_pair=ltcbtc&step=180&limit=1000&start=1625151600\n",
      "https://www.bitstamp.net/api/v2/ohlc/ltcbtc/?&currency_pair=ltcbtc&step=180&limit=1000&start=1625331600\n",
      "https://www.bitstamp.net/api/v2/ohlc/ltcbtc/?&currency_pair=ltcbtc&step=180&limit=1000&start=1625511600\n",
      "https://www.bitstamp.net/api/v2/ohlc/ltcbtc/?&currency_pair=ltcbtc&step=180&limit=1000&start=1625691600\n",
      "https://www.bitstamp.net/api/v2/ohlc/ltcbtc/?&currency_pair=ltcbtc&step=180&limit=1000&start=1625871600\n",
      "https://www.bitstamp.net/api/v2/ohlc/ltcbtc/?&currency_pair=ltcbtc&step=180&limit=1000&start=1626051600\n",
      "https://www.bitstamp.net/api/v2/ohlc/ltcbtc/?&currency_pair=ltcbtc&step=180&limit=1000&start=1626231600\n",
      "Downloaded from 2021-06-15 00:00:00(1623711600) to 2021-07-15 00:00:00(1626303600) 0.00399637\n",
      "Processing 14401 of ltcbtc\n"
     ]
    },
    {
     "data": {
      "application/vnd.jupyter.widget-view+json": {
       "model_id": "01da475a70d745f9b253384d277351a2",
       "version_major": 2,
       "version_minor": 0
      },
      "text/plain": [
       "  0%|          | 0/14401 [00:00<?, ?it/s]"
      ]
     },
     "metadata": {},
     "output_type": "display_data"
    },
    {
     "name": "stdout",
     "output_type": "stream",
     "text": [
      "data/online40_3 -> OnLineDataProvider (val_keys = {'btcusd': 3, 'ethusd': 3, 'ltcusd': 3, 'ltcbtc': 3}, train_data = 2 , data_detail = DataDetail (windows = 40, minutes = 3, steps_ahead = 1)))\n",
      "https://www.bitstamp.net/api/v2/ohlc/btcusd/?&currency_pair=btcusd&step=900&limit=1000&start=1622502000\n",
      "Downloaded from 2021-06-01 00:00:00(1622502000) to 2021-06-11 09:45:00(1623401100) 37001.01\n",
      "Processing 1000 of btcusd\n"
     ]
    },
    {
     "data": {
      "application/vnd.jupyter.widget-view+json": {
       "model_id": "62c81aea3ebf4012a8acdfca34413362",
       "version_major": 2,
       "version_minor": 0
      },
      "text/plain": [
       "  0%|          | 0/1000 [00:00<?, ?it/s]"
      ]
     },
     "metadata": {},
     "output_type": "display_data"
    },
    {
     "name": "stdout",
     "output_type": "stream",
     "text": [
      "https://www.bitstamp.net/api/v2/ohlc/ethusd/?&currency_pair=ethusd&step=900&limit=1000&start=1622502000\n",
      "Downloaded from 2021-06-01 00:00:00(1622502000) to 2021-06-11 09:45:00(1623401100) 2450.30\n",
      "Processing 1000 of ethusd\n"
     ]
    },
    {
     "data": {
      "application/vnd.jupyter.widget-view+json": {
       "model_id": "120790a235534ccfaec2ad3f018ca344",
       "version_major": 2,
       "version_minor": 0
      },
      "text/plain": [
       "  0%|          | 0/1000 [00:00<?, ?it/s]"
      ]
     },
     "metadata": {},
     "output_type": "display_data"
    },
    {
     "name": "stdout",
     "output_type": "stream",
     "text": [
      "https://www.bitstamp.net/api/v2/ohlc/ltcusd/?&currency_pair=ltcusd&step=900&limit=1000&start=1622502000\n",
      "Downloaded from 2021-06-01 00:00:00(1622502000) to 2021-06-11 09:45:00(1623401100) 169.68\n",
      "Processing 1000 of ltcusd\n"
     ]
    },
    {
     "data": {
      "application/vnd.jupyter.widget-view+json": {
       "model_id": "10508c812a2744d7975347483ee5d084",
       "version_major": 2,
       "version_minor": 0
      },
      "text/plain": [
       "  0%|          | 0/1000 [00:00<?, ?it/s]"
      ]
     },
     "metadata": {},
     "output_type": "display_data"
    },
    {
     "name": "stdout",
     "output_type": "stream",
     "text": [
      "https://www.bitstamp.net/api/v2/ohlc/ltcbtc/?&currency_pair=ltcbtc&step=900&limit=1000&start=1622502000\n",
      "Downloaded from 2021-06-01 00:00:00(1622502000) to 2021-06-11 09:45:00(1623401100) 0.00458926\n",
      "Processing 1000 of ltcbtc\n"
     ]
    },
    {
     "data": {
      "application/vnd.jupyter.widget-view+json": {
       "model_id": "2903095534284772ab92764e4be59559",
       "version_major": 2,
       "version_minor": 0
      },
      "text/plain": [
       "  0%|          | 0/1000 [00:00<?, ?it/s]"
      ]
     },
     "metadata": {},
     "output_type": "display_data"
    },
    {
     "name": "stdout",
     "output_type": "stream",
     "text": [
      "https://www.bitstamp.net/api/v2/ohlc/btcusd/?&currency_pair=btcusd&step=900&limit=1000&start=1590966000\n",
      "Downloaded from 2020-06-01 00:00:00(1590966000) to 2020-06-11 09:45:00(1591865100) 9820.86\n",
      "Processing 1000 of btcusd\n"
     ]
    },
    {
     "data": {
      "application/vnd.jupyter.widget-view+json": {
       "model_id": "59c8c81f835948179e2dbda961995bde",
       "version_major": 2,
       "version_minor": 0
      },
      "text/plain": [
       "  0%|          | 0/1000 [00:00<?, ?it/s]"
      ]
     },
     "metadata": {},
     "output_type": "display_data"
    },
    {
     "name": "stdout",
     "output_type": "stream",
     "text": [
      "https://www.bitstamp.net/api/v2/ohlc/ethusd/?&currency_pair=ethusd&step=900&limit=1000&start=1590966000\n",
      "Downloaded from 2020-06-01 00:00:00(1590966000) to 2020-06-11 09:45:00(1591865100) 246.70\n",
      "Processing 1000 of ethusd\n"
     ]
    },
    {
     "data": {
      "application/vnd.jupyter.widget-view+json": {
       "model_id": "edffe948fe4b438bb115ce785258493b",
       "version_major": 2,
       "version_minor": 0
      },
      "text/plain": [
       "  0%|          | 0/1000 [00:00<?, ?it/s]"
      ]
     },
     "metadata": {},
     "output_type": "display_data"
    },
    {
     "name": "stdout",
     "output_type": "stream",
     "text": [
      "https://www.bitstamp.net/api/v2/ohlc/ltcusd/?&currency_pair=ltcusd&step=900&limit=1000&start=1590966000\n",
      "Downloaded from 2020-06-01 00:00:00(1590966000) to 2020-06-11 09:45:00(1591865100) 46.34\n",
      "Processing 1000 of ltcusd\n"
     ]
    },
    {
     "data": {
      "application/vnd.jupyter.widget-view+json": {
       "model_id": "96701129a1114cf1b063222b20238835",
       "version_major": 2,
       "version_minor": 0
      },
      "text/plain": [
       "  0%|          | 0/1000 [00:00<?, ?it/s]"
      ]
     },
     "metadata": {},
     "output_type": "display_data"
    },
    {
     "name": "stdout",
     "output_type": "stream",
     "text": [
      "https://www.bitstamp.net/api/v2/ohlc/ltcbtc/?&currency_pair=ltcbtc&step=900&limit=1000&start=1590966000\n",
      "Downloaded from 2020-06-01 00:00:00(1590966000) to 2020-06-11 09:45:00(1591865100) 0.00470967\n",
      "Processing 1000 of ltcbtc\n"
     ]
    },
    {
     "data": {
      "application/vnd.jupyter.widget-view+json": {
       "model_id": "71714ad6a14243cebce8e509897968be",
       "version_major": 2,
       "version_minor": 0
      },
      "text/plain": [
       "  0%|          | 0/1000 [00:00<?, ?it/s]"
      ]
     },
     "metadata": {},
     "output_type": "display_data"
    },
    {
     "name": "stdout",
     "output_type": "stream",
     "text": [
      "https://www.bitstamp.net/api/v2/ohlc/btcusd/?&currency_pair=btcusd&step=900&limit=1000&start=1559343600\n",
      "Downloaded from 2019-06-01 00:00:00(1559343600) to 2019-06-11 09:45:00(1560242700) 7961.80\n",
      "Processing 1000 of btcusd\n"
     ]
    },
    {
     "data": {
      "application/vnd.jupyter.widget-view+json": {
       "model_id": "bbc82713aaa84328b0e32478d1617922",
       "version_major": 2,
       "version_minor": 0
      },
      "text/plain": [
       "  0%|          | 0/1000 [00:00<?, ?it/s]"
      ]
     },
     "metadata": {},
     "output_type": "display_data"
    },
    {
     "name": "stdout",
     "output_type": "stream",
     "text": [
      "https://www.bitstamp.net/api/v2/ohlc/ethusd/?&currency_pair=ethusd&step=900&limit=1000&start=1559343600\n",
      "Downloaded from 2019-06-01 00:00:00(1559343600) to 2019-06-11 09:45:00(1560242700) 247.16\n",
      "Processing 1000 of ethusd\n"
     ]
    },
    {
     "data": {
      "application/vnd.jupyter.widget-view+json": {
       "model_id": "0a0da650950f42b0a7879a4c845fbf80",
       "version_major": 2,
       "version_minor": 0
      },
      "text/plain": [
       "  0%|          | 0/1000 [00:00<?, ?it/s]"
      ]
     },
     "metadata": {},
     "output_type": "display_data"
    },
    {
     "name": "stdout",
     "output_type": "stream",
     "text": [
      "https://www.bitstamp.net/api/v2/ohlc/ltcusd/?&currency_pair=ltcusd&step=900&limit=1000&start=1559343600\n",
      "Downloaded from 2019-06-01 00:00:00(1559343600) to 2019-06-11 09:45:00(1560242700) 129.66\n",
      "Processing 1000 of ltcusd\n"
     ]
    },
    {
     "data": {
      "application/vnd.jupyter.widget-view+json": {
       "model_id": "c9520af0f1434a7db3db7c3501f8d8b2",
       "version_major": 2,
       "version_minor": 0
      },
      "text/plain": [
       "  0%|          | 0/1000 [00:00<?, ?it/s]"
      ]
     },
     "metadata": {},
     "output_type": "display_data"
    },
    {
     "name": "stdout",
     "output_type": "stream",
     "text": [
      "https://www.bitstamp.net/api/v2/ohlc/ltcbtc/?&currency_pair=ltcbtc&step=900&limit=1000&start=1559343600\n",
      "Downloaded from 2019-06-01 00:00:00(1559343600) to 2019-06-11 09:45:00(1560242700) 0.01629743\n",
      "Processing 1000 of ltcbtc\n"
     ]
    },
    {
     "data": {
      "application/vnd.jupyter.widget-view+json": {
       "model_id": "c78740951124441ba6e48d3a7861bdbf",
       "version_major": 2,
       "version_minor": 0
      },
      "text/plain": [
       "  0%|          | 0/1000 [00:00<?, ?it/s]"
      ]
     },
     "metadata": {},
     "output_type": "display_data"
    },
    {
     "name": "stdout",
     "output_type": "stream",
     "text": [
      "https://www.bitstamp.net/api/v2/ohlc/btcusd/?&currency_pair=btcusd&step=900&limit=1000&start=1527807600\n",
      "Downloaded from 2018-06-01 00:00:00(1527807600) to 2018-06-11 09:45:00(1528706700) 6795.82\n",
      "Processing 1000 of btcusd\n"
     ]
    },
    {
     "data": {
      "application/vnd.jupyter.widget-view+json": {
       "model_id": "462c5ae4aeb14912a00d0ffe7c32e81e",
       "version_major": 2,
       "version_minor": 0
      },
      "text/plain": [
       "  0%|          | 0/1000 [00:00<?, ?it/s]"
      ]
     },
     "metadata": {},
     "output_type": "display_data"
    },
    {
     "name": "stdout",
     "output_type": "stream",
     "text": [
      "https://www.bitstamp.net/api/v2/ohlc/ethusd/?&currency_pair=ethusd&step=900&limit=1000&start=1527807600\n",
      "Downloaded from 2018-06-01 00:00:00(1527807600) to 2018-06-11 09:45:00(1528706700) 532.74\n",
      "Processing 1000 of ethusd\n"
     ]
    },
    {
     "data": {
      "application/vnd.jupyter.widget-view+json": {
       "model_id": "f57ea700016c4985a0a1c8d170b6fe15",
       "version_major": 2,
       "version_minor": 0
      },
      "text/plain": [
       "  0%|          | 0/1000 [00:00<?, ?it/s]"
      ]
     },
     "metadata": {},
     "output_type": "display_data"
    },
    {
     "name": "stdout",
     "output_type": "stream",
     "text": [
      "https://www.bitstamp.net/api/v2/ohlc/ltcusd/?&currency_pair=ltcusd&step=900&limit=1000&start=1527807600\n",
      "Downloaded from 2018-06-01 00:00:00(1527807600) to 2018-06-11 09:45:00(1528706700) 107.31\n",
      "Processing 1000 of ltcusd\n"
     ]
    },
    {
     "data": {
      "application/vnd.jupyter.widget-view+json": {
       "model_id": "0f665a3036d442db923d0a8a03d4107b",
       "version_major": 2,
       "version_minor": 0
      },
      "text/plain": [
       "  0%|          | 0/1000 [00:00<?, ?it/s]"
      ]
     },
     "metadata": {},
     "output_type": "display_data"
    },
    {
     "name": "stdout",
     "output_type": "stream",
     "text": [
      "https://www.bitstamp.net/api/v2/ohlc/ltcbtc/?&currency_pair=ltcbtc&step=900&limit=1000&start=1527807600\n",
      "Downloaded from 2018-06-01 00:00:00(1527807600) to 2018-06-11 09:45:00(1528706700) 0.01578000\n",
      "Processing 1000 of ltcbtc\n"
     ]
    },
    {
     "data": {
      "application/vnd.jupyter.widget-view+json": {
       "model_id": "fa0d812e18854cafb69e4747e4c5b3c9",
       "version_major": 2,
       "version_minor": 0
      },
      "text/plain": [
       "  0%|          | 0/1000 [00:00<?, ?it/s]"
      ]
     },
     "metadata": {},
     "output_type": "display_data"
    },
    {
     "name": "stdout",
     "output_type": "stream",
     "text": [
      "https://www.bitstamp.net/api/v2/ohlc/btcusd/?&currency_pair=btcusd&step=900&limit=1000&start=1517443200\n",
      "Downloaded from 2018-02-01 00:00:00(1517443200) to 2018-02-11 09:45:00(1518342300) 8012.89\n",
      "Processing 1000 of btcusd\n"
     ]
    },
    {
     "data": {
      "application/vnd.jupyter.widget-view+json": {
       "model_id": "9609248c1b8447a8a74789ff0df9569a",
       "version_major": 2,
       "version_minor": 0
      },
      "text/plain": [
       "  0%|          | 0/1000 [00:00<?, ?it/s]"
      ]
     },
     "metadata": {},
     "output_type": "display_data"
    },
    {
     "name": "stdout",
     "output_type": "stream",
     "text": [
      "https://www.bitstamp.net/api/v2/ohlc/ethusd/?&currency_pair=ethusd&step=900&limit=1000&start=1517443200\n",
      "Downloaded from 2018-02-01 00:00:00(1517443200) to 2018-02-11 09:45:00(1518342300) 800.68\n",
      "Processing 1000 of ethusd\n"
     ]
    },
    {
     "data": {
      "application/vnd.jupyter.widget-view+json": {
       "model_id": "971db41c5e7b4e0297b785199998452b",
       "version_major": 2,
       "version_minor": 0
      },
      "text/plain": [
       "  0%|          | 0/1000 [00:00<?, ?it/s]"
      ]
     },
     "metadata": {},
     "output_type": "display_data"
    },
    {
     "name": "stdout",
     "output_type": "stream",
     "text": [
      "https://www.bitstamp.net/api/v2/ohlc/ltcusd/?&currency_pair=ltcusd&step=900&limit=1000&start=1517443200\n",
      "Downloaded from 2018-02-01 00:00:00(1517443200) to 2018-02-11 09:45:00(1518342300) 144.90\n",
      "Processing 1000 of ltcusd\n"
     ]
    },
    {
     "data": {
      "application/vnd.jupyter.widget-view+json": {
       "model_id": "8af47639c30b4446add760b1fa4317db",
       "version_major": 2,
       "version_minor": 0
      },
      "text/plain": [
       "  0%|          | 0/1000 [00:00<?, ?it/s]"
      ]
     },
     "metadata": {},
     "output_type": "display_data"
    },
    {
     "name": "stdout",
     "output_type": "stream",
     "text": [
      "https://www.bitstamp.net/api/v2/ohlc/ltcbtc/?&currency_pair=ltcbtc&step=900&limit=1000&start=1517443200\n",
      "Downloaded from 2018-02-01 00:00:00(1517443200) to 2018-02-11 09:45:00(1518342300) 0.01806022\n",
      "Processing 1000 of ltcbtc\n"
     ]
    },
    {
     "data": {
      "application/vnd.jupyter.widget-view+json": {
       "model_id": "945dafde86844b1aa4f431c523fb8fe1",
       "version_major": 2,
       "version_minor": 0
      },
      "text/plain": [
       "  0%|          | 0/1000 [00:00<?, ?it/s]"
      ]
     },
     "metadata": {},
     "output_type": "display_data"
    },
    {
     "name": "stdout",
     "output_type": "stream",
     "text": [
      "https://www.bitstamp.net/api/v2/ohlc/btcusd/?&currency_pair=btcusd&step=900&limit=1000&start=1548979200\n",
      "Downloaded from 2019-02-01 00:00:00(1548979200) to 2019-02-11 09:45:00(1549878300) 3594.91\n",
      "Processing 1000 of btcusd\n"
     ]
    },
    {
     "data": {
      "application/vnd.jupyter.widget-view+json": {
       "model_id": "faa70545e33241bf951e8090f92d4672",
       "version_major": 2,
       "version_minor": 0
      },
      "text/plain": [
       "  0%|          | 0/1000 [00:00<?, ?it/s]"
      ]
     },
     "metadata": {},
     "output_type": "display_data"
    },
    {
     "name": "stdout",
     "output_type": "stream",
     "text": [
      "https://www.bitstamp.net/api/v2/ohlc/ethusd/?&currency_pair=ethusd&step=900&limit=1000&start=1548979200\n",
      "Downloaded from 2019-02-01 00:00:00(1548979200) to 2019-02-11 09:45:00(1549878300) 119.46\n",
      "Processing 1000 of ethusd\n"
     ]
    },
    {
     "data": {
      "application/vnd.jupyter.widget-view+json": {
       "model_id": "5e584fcf76ea4aadaa19691c39a0549c",
       "version_major": 2,
       "version_minor": 0
      },
      "text/plain": [
       "  0%|          | 0/1000 [00:00<?, ?it/s]"
      ]
     },
     "metadata": {},
     "output_type": "display_data"
    },
    {
     "name": "stdout",
     "output_type": "stream",
     "text": [
      "https://www.bitstamp.net/api/v2/ohlc/ltcusd/?&currency_pair=ltcusd&step=900&limit=1000&start=1548979200\n",
      "Downloaded from 2019-02-01 00:00:00(1548979200) to 2019-02-11 09:45:00(1549878300) 43.79\n",
      "Processing 1000 of ltcusd\n"
     ]
    },
    {
     "data": {
      "application/vnd.jupyter.widget-view+json": {
       "model_id": "9343b078dd0341ccb264eba0b1e79ea1",
       "version_major": 2,
       "version_minor": 0
      },
      "text/plain": [
       "  0%|          | 0/1000 [00:00<?, ?it/s]"
      ]
     },
     "metadata": {},
     "output_type": "display_data"
    },
    {
     "name": "stdout",
     "output_type": "stream",
     "text": [
      "https://www.bitstamp.net/api/v2/ohlc/ltcbtc/?&currency_pair=ltcbtc&step=900&limit=1000&start=1548979200\n",
      "Downloaded from 2019-02-01 00:00:00(1548979200) to 2019-02-11 09:45:00(1549878300) 0.01221493\n",
      "Processing 1000 of ltcbtc\n"
     ]
    },
    {
     "data": {
      "application/vnd.jupyter.widget-view+json": {
       "model_id": "df612b8e9b064b1abbdf04eb27425425",
       "version_major": 2,
       "version_minor": 0
      },
      "text/plain": [
       "  0%|          | 0/1000 [00:00<?, ?it/s]"
      ]
     },
     "metadata": {},
     "output_type": "display_data"
    },
    {
     "name": "stdout",
     "output_type": "stream",
     "text": [
      "https://www.bitstamp.net/api/v2/ohlc/btcusd/?&currency_pair=btcusd&step=900&limit=1000&start=1580515200\n",
      "Downloaded from 2020-02-01 00:00:00(1580515200) to 2020-02-11 09:45:00(1581414300) 9783.54\n",
      "Processing 1000 of btcusd\n"
     ]
    },
    {
     "data": {
      "application/vnd.jupyter.widget-view+json": {
       "model_id": "799e0ff597ef4439bb876f20b2c52b0e",
       "version_major": 2,
       "version_minor": 0
      },
      "text/plain": [
       "  0%|          | 0/1000 [00:00<?, ?it/s]"
      ]
     },
     "metadata": {},
     "output_type": "display_data"
    },
    {
     "name": "stdout",
     "output_type": "stream",
     "text": [
      "https://www.bitstamp.net/api/v2/ohlc/ethusd/?&currency_pair=ethusd&step=900&limit=1000&start=1580515200\n",
      "Downloaded from 2020-02-01 00:00:00(1580515200) to 2020-02-11 09:45:00(1581414300) 221.25\n",
      "Processing 1000 of ethusd\n"
     ]
    },
    {
     "data": {
      "application/vnd.jupyter.widget-view+json": {
       "model_id": "1dc907e2d1ea4e8d8adb04be21dbc657",
       "version_major": 2,
       "version_minor": 0
      },
      "text/plain": [
       "  0%|          | 0/1000 [00:00<?, ?it/s]"
      ]
     },
     "metadata": {},
     "output_type": "display_data"
    },
    {
     "name": "stdout",
     "output_type": "stream",
     "text": [
      "https://www.bitstamp.net/api/v2/ohlc/ltcusd/?&currency_pair=ltcusd&step=900&limit=1000&start=1580515200\n",
      "Downloaded from 2020-02-01 00:00:00(1580515200) to 2020-02-11 09:45:00(1581414300) 74.22\n",
      "Processing 1000 of ltcusd\n"
     ]
    },
    {
     "data": {
      "application/vnd.jupyter.widget-view+json": {
       "model_id": "298d5d5b1752478daaa27e02f7b555ee",
       "version_major": 2,
       "version_minor": 0
      },
      "text/plain": [
       "  0%|          | 0/1000 [00:00<?, ?it/s]"
      ]
     },
     "metadata": {},
     "output_type": "display_data"
    },
    {
     "name": "stdout",
     "output_type": "stream",
     "text": [
      "https://www.bitstamp.net/api/v2/ohlc/ltcbtc/?&currency_pair=ltcbtc&step=900&limit=1000&start=1580515200\n",
      "Downloaded from 2020-02-01 00:00:00(1580515200) to 2020-02-11 09:45:00(1581414300) 0.00757449\n",
      "Processing 1000 of ltcbtc\n"
     ]
    },
    {
     "data": {
      "application/vnd.jupyter.widget-view+json": {
       "model_id": "f84573b5e4424a8b9606ba3154e6c639",
       "version_major": 2,
       "version_minor": 0
      },
      "text/plain": [
       "  0%|          | 0/1000 [00:00<?, ?it/s]"
      ]
     },
     "metadata": {},
     "output_type": "display_data"
    },
    {
     "name": "stdout",
     "output_type": "stream",
     "text": [
      "https://www.bitstamp.net/api/v2/ohlc/btcusd/?&currency_pair=btcusd&step=900&limit=1000&start=1612137600\n",
      "Downloaded from 2021-02-01 00:00:00(1612137600) to 2021-02-11 09:45:00(1613036700) 45154.95\n",
      "Processing 1000 of btcusd\n"
     ]
    },
    {
     "data": {
      "application/vnd.jupyter.widget-view+json": {
       "model_id": "3c18d7ab8ac04dd8a03bec88063e15f1",
       "version_major": 2,
       "version_minor": 0
      },
      "text/plain": [
       "  0%|          | 0/1000 [00:00<?, ?it/s]"
      ]
     },
     "metadata": {},
     "output_type": "display_data"
    },
    {
     "name": "stdout",
     "output_type": "stream",
     "text": [
      "https://www.bitstamp.net/api/v2/ohlc/ethusd/?&currency_pair=ethusd&step=900&limit=1000&start=1612137600\n",
      "Downloaded from 2021-02-01 00:00:00(1612137600) to 2021-02-11 09:45:00(1613036700) 1757.24\n",
      "Processing 1000 of ethusd\n"
     ]
    },
    {
     "data": {
      "application/vnd.jupyter.widget-view+json": {
       "model_id": "0a6029af19474b41974a394448ff0de7",
       "version_major": 2,
       "version_minor": 0
      },
      "text/plain": [
       "  0%|          | 0/1000 [00:00<?, ?it/s]"
      ]
     },
     "metadata": {},
     "output_type": "display_data"
    },
    {
     "name": "stdout",
     "output_type": "stream",
     "text": [
      "https://www.bitstamp.net/api/v2/ohlc/ltcusd/?&currency_pair=ltcusd&step=900&limit=1000&start=1612137600\n",
      "Downloaded from 2021-02-01 00:00:00(1612137600) to 2021-02-11 09:45:00(1613036700) 186.32\n",
      "Processing 1000 of ltcusd\n"
     ]
    },
    {
     "data": {
      "application/vnd.jupyter.widget-view+json": {
       "model_id": "db55977e96f04484ab07050445535bbc",
       "version_major": 2,
       "version_minor": 0
      },
      "text/plain": [
       "  0%|          | 0/1000 [00:00<?, ?it/s]"
      ]
     },
     "metadata": {},
     "output_type": "display_data"
    },
    {
     "name": "stdout",
     "output_type": "stream",
     "text": [
      "https://www.bitstamp.net/api/v2/ohlc/ltcbtc/?&currency_pair=ltcbtc&step=900&limit=1000&start=1612137600\n",
      "Downloaded from 2021-02-01 00:00:00(1612137600) to 2021-02-11 09:45:00(1613036700) 0.00413427\n",
      "Processing 1000 of ltcbtc\n"
     ]
    },
    {
     "data": {
      "application/vnd.jupyter.widget-view+json": {
       "model_id": "1182d3b26b374ac19e891a5cc0e552c4",
       "version_major": 2,
       "version_minor": 0
      },
      "text/plain": [
       "  0%|          | 0/1000 [00:00<?, ?it/s]"
      ]
     },
     "metadata": {},
     "output_type": "display_data"
    },
    {
     "name": "stdout",
     "output_type": "stream",
     "text": [
      "https://www.bitstamp.net/api/v2/ohlc/btcusd/?&currency_pair=btcusd&step=900&limit=1000&start=1623711600\n",
      "https://www.bitstamp.net/api/v2/ohlc/btcusd/?&currency_pair=btcusd&step=900&limit=1000&start=1624611600\n",
      "https://www.bitstamp.net/api/v2/ohlc/btcusd/?&currency_pair=btcusd&step=900&limit=1000&start=1625511600\n",
      "Downloaded from 2021-06-15 00:00:00(1623711600) to 2021-07-15 00:00:00(1626303600) 32978.97\n",
      "Processing 2881 of btcusd\n"
     ]
    },
    {
     "data": {
      "application/vnd.jupyter.widget-view+json": {
       "model_id": "f4db91d4e7c84298a0b41e6a2657d4a4",
       "version_major": 2,
       "version_minor": 0
      },
      "text/plain": [
       "  0%|          | 0/2881 [00:00<?, ?it/s]"
      ]
     },
     "metadata": {},
     "output_type": "display_data"
    },
    {
     "name": "stdout",
     "output_type": "stream",
     "text": [
      "https://www.bitstamp.net/api/v2/ohlc/ethusd/?&currency_pair=ethusd&step=900&limit=1000&start=1623711600\n",
      "https://www.bitstamp.net/api/v2/ohlc/ethusd/?&currency_pair=ethusd&step=900&limit=1000&start=1624611600\n",
      "https://www.bitstamp.net/api/v2/ohlc/ethusd/?&currency_pair=ethusd&step=900&limit=1000&start=1625511600\n",
      "Downloaded from 2021-06-15 00:00:00(1623711600) to 2021-07-15 00:00:00(1626303600) 2005.17\n",
      "Processing 2881 of ethusd\n"
     ]
    },
    {
     "data": {
      "application/vnd.jupyter.widget-view+json": {
       "model_id": "66e6c8f93f3445daad4b16f14a5d64c8",
       "version_major": 2,
       "version_minor": 0
      },
      "text/plain": [
       "  0%|          | 0/2881 [00:00<?, ?it/s]"
      ]
     },
     "metadata": {},
     "output_type": "display_data"
    },
    {
     "name": "stdout",
     "output_type": "stream",
     "text": [
      "https://www.bitstamp.net/api/v2/ohlc/ltcusd/?&currency_pair=ltcusd&step=900&limit=1000&start=1623711600\n",
      "https://www.bitstamp.net/api/v2/ohlc/ltcusd/?&currency_pair=ltcusd&step=900&limit=1000&start=1624611600\n",
      "https://www.bitstamp.net/api/v2/ohlc/ltcusd/?&currency_pair=ltcusd&step=900&limit=1000&start=1625511600\n",
      "Downloaded from 2021-06-15 00:00:00(1623711600) to 2021-07-15 00:00:00(1626303600) 131.22\n",
      "Processing 2881 of ltcusd\n"
     ]
    },
    {
     "data": {
      "application/vnd.jupyter.widget-view+json": {
       "model_id": "d15d8c7b535e4b2e84878ade8d6e6836",
       "version_major": 2,
       "version_minor": 0
      },
      "text/plain": [
       "  0%|          | 0/2881 [00:00<?, ?it/s]"
      ]
     },
     "metadata": {},
     "output_type": "display_data"
    },
    {
     "name": "stdout",
     "output_type": "stream",
     "text": [
      "https://www.bitstamp.net/api/v2/ohlc/ltcbtc/?&currency_pair=ltcbtc&step=900&limit=1000&start=1623711600\n",
      "https://www.bitstamp.net/api/v2/ohlc/ltcbtc/?&currency_pair=ltcbtc&step=900&limit=1000&start=1624611600\n",
      "https://www.bitstamp.net/api/v2/ohlc/ltcbtc/?&currency_pair=ltcbtc&step=900&limit=1000&start=1625511600\n",
      "Downloaded from 2021-06-15 00:00:00(1623711600) to 2021-07-15 00:00:00(1626303600) 0.00398347\n",
      "Processing 2881 of ltcbtc\n"
     ]
    },
    {
     "data": {
      "application/vnd.jupyter.widget-view+json": {
       "model_id": "8462240eaa0a450080f477ae4030ecea",
       "version_major": 2,
       "version_minor": 0
      },
      "text/plain": [
       "  0%|          | 0/2881 [00:00<?, ?it/s]"
      ]
     },
     "metadata": {},
     "output_type": "display_data"
    },
    {
     "name": "stdout",
     "output_type": "stream",
     "text": [
      "data/online5_15 -> OnLineDataProvider (val_keys = {'btcusd': 3, 'ethusd': 3, 'ltcusd': 3, 'ltcbtc': 3}, train_data = 2 , data_detail = DataDetail (windows = 5, minutes = 15, steps_ahead = 1)))\n",
      "https://www.bitstamp.net/api/v2/ohlc/btcusd/?&currency_pair=btcusd&step=900&limit=1000&start=1622502000\n",
      "Downloaded from 2021-06-01 00:00:00(1622502000) to 2021-06-11 09:45:00(1623401100) 37001.01\n",
      "Processing 1000 of btcusd\n"
     ]
    },
    {
     "data": {
      "application/vnd.jupyter.widget-view+json": {
       "model_id": "f6e96a41e20846c38e6c8540c0748c6d",
       "version_major": 2,
       "version_minor": 0
      },
      "text/plain": [
       "  0%|          | 0/1000 [00:00<?, ?it/s]"
      ]
     },
     "metadata": {},
     "output_type": "display_data"
    },
    {
     "name": "stdout",
     "output_type": "stream",
     "text": [
      "https://www.bitstamp.net/api/v2/ohlc/ethusd/?&currency_pair=ethusd&step=900&limit=1000&start=1622502000\n",
      "Downloaded from 2021-06-01 00:00:00(1622502000) to 2021-06-11 09:45:00(1623401100) 2450.30\n",
      "Processing 1000 of ethusd\n"
     ]
    },
    {
     "data": {
      "application/vnd.jupyter.widget-view+json": {
       "model_id": "605d31af50ec4f158d95c77151466525",
       "version_major": 2,
       "version_minor": 0
      },
      "text/plain": [
       "  0%|          | 0/1000 [00:00<?, ?it/s]"
      ]
     },
     "metadata": {},
     "output_type": "display_data"
    },
    {
     "name": "stdout",
     "output_type": "stream",
     "text": [
      "https://www.bitstamp.net/api/v2/ohlc/ltcusd/?&currency_pair=ltcusd&step=900&limit=1000&start=1622502000\n",
      "Downloaded from 2021-06-01 00:00:00(1622502000) to 2021-06-11 09:45:00(1623401100) 169.68\n",
      "Processing 1000 of ltcusd\n"
     ]
    },
    {
     "data": {
      "application/vnd.jupyter.widget-view+json": {
       "model_id": "411c061d1eb4493c8cf8997565323deb",
       "version_major": 2,
       "version_minor": 0
      },
      "text/plain": [
       "  0%|          | 0/1000 [00:00<?, ?it/s]"
      ]
     },
     "metadata": {},
     "output_type": "display_data"
    },
    {
     "name": "stdout",
     "output_type": "stream",
     "text": [
      "https://www.bitstamp.net/api/v2/ohlc/ltcbtc/?&currency_pair=ltcbtc&step=900&limit=1000&start=1622502000\n",
      "Downloaded from 2021-06-01 00:00:00(1622502000) to 2021-06-11 09:45:00(1623401100) 0.00458926\n",
      "Processing 1000 of ltcbtc\n"
     ]
    },
    {
     "data": {
      "application/vnd.jupyter.widget-view+json": {
       "model_id": "a19284969b6d458689c5880289380adf",
       "version_major": 2,
       "version_minor": 0
      },
      "text/plain": [
       "  0%|          | 0/1000 [00:00<?, ?it/s]"
      ]
     },
     "metadata": {},
     "output_type": "display_data"
    },
    {
     "name": "stdout",
     "output_type": "stream",
     "text": [
      "https://www.bitstamp.net/api/v2/ohlc/btcusd/?&currency_pair=btcusd&step=900&limit=1000&start=1590966000\n",
      "Downloaded from 2020-06-01 00:00:00(1590966000) to 2020-06-11 09:45:00(1591865100) 9820.86\n",
      "Processing 1000 of btcusd\n"
     ]
    },
    {
     "data": {
      "application/vnd.jupyter.widget-view+json": {
       "model_id": "779416a68fad43e5b86c3e591d71dcf8",
       "version_major": 2,
       "version_minor": 0
      },
      "text/plain": [
       "  0%|          | 0/1000 [00:00<?, ?it/s]"
      ]
     },
     "metadata": {},
     "output_type": "display_data"
    },
    {
     "name": "stdout",
     "output_type": "stream",
     "text": [
      "https://www.bitstamp.net/api/v2/ohlc/ethusd/?&currency_pair=ethusd&step=900&limit=1000&start=1590966000\n",
      "Downloaded from 2020-06-01 00:00:00(1590966000) to 2020-06-11 09:45:00(1591865100) 246.70\n",
      "Processing 1000 of ethusd\n"
     ]
    },
    {
     "data": {
      "application/vnd.jupyter.widget-view+json": {
       "model_id": "0cb3fd810c9c4eba87dabcccc733233b",
       "version_major": 2,
       "version_minor": 0
      },
      "text/plain": [
       "  0%|          | 0/1000 [00:00<?, ?it/s]"
      ]
     },
     "metadata": {},
     "output_type": "display_data"
    },
    {
     "name": "stdout",
     "output_type": "stream",
     "text": [
      "https://www.bitstamp.net/api/v2/ohlc/ltcusd/?&currency_pair=ltcusd&step=900&limit=1000&start=1590966000\n",
      "Downloaded from 2020-06-01 00:00:00(1590966000) to 2020-06-11 09:45:00(1591865100) 46.34\n",
      "Processing 1000 of ltcusd\n"
     ]
    },
    {
     "data": {
      "application/vnd.jupyter.widget-view+json": {
       "model_id": "1d9d425a2b184eb1a5dcdf546a335b73",
       "version_major": 2,
       "version_minor": 0
      },
      "text/plain": [
       "  0%|          | 0/1000 [00:00<?, ?it/s]"
      ]
     },
     "metadata": {},
     "output_type": "display_data"
    },
    {
     "name": "stdout",
     "output_type": "stream",
     "text": [
      "https://www.bitstamp.net/api/v2/ohlc/ltcbtc/?&currency_pair=ltcbtc&step=900&limit=1000&start=1590966000\n",
      "Downloaded from 2020-06-01 00:00:00(1590966000) to 2020-06-11 09:45:00(1591865100) 0.00470967\n",
      "Processing 1000 of ltcbtc\n"
     ]
    },
    {
     "data": {
      "application/vnd.jupyter.widget-view+json": {
       "model_id": "d48b08e5d3234e3f835c167776995354",
       "version_major": 2,
       "version_minor": 0
      },
      "text/plain": [
       "  0%|          | 0/1000 [00:00<?, ?it/s]"
      ]
     },
     "metadata": {},
     "output_type": "display_data"
    },
    {
     "name": "stdout",
     "output_type": "stream",
     "text": [
      "https://www.bitstamp.net/api/v2/ohlc/btcusd/?&currency_pair=btcusd&step=900&limit=1000&start=1559343600\n",
      "Downloaded from 2019-06-01 00:00:00(1559343600) to 2019-06-11 09:45:00(1560242700) 7961.80\n",
      "Processing 1000 of btcusd\n"
     ]
    },
    {
     "data": {
      "application/vnd.jupyter.widget-view+json": {
       "model_id": "e14df6b2b8f44fbd91cbd3d406a64217",
       "version_major": 2,
       "version_minor": 0
      },
      "text/plain": [
       "  0%|          | 0/1000 [00:00<?, ?it/s]"
      ]
     },
     "metadata": {},
     "output_type": "display_data"
    },
    {
     "name": "stdout",
     "output_type": "stream",
     "text": [
      "https://www.bitstamp.net/api/v2/ohlc/ethusd/?&currency_pair=ethusd&step=900&limit=1000&start=1559343600\n",
      "Downloaded from 2019-06-01 00:00:00(1559343600) to 2019-06-11 09:45:00(1560242700) 247.16\n",
      "Processing 1000 of ethusd\n"
     ]
    },
    {
     "data": {
      "application/vnd.jupyter.widget-view+json": {
       "model_id": "57c2148a2c5c48aea967e6bf6af94019",
       "version_major": 2,
       "version_minor": 0
      },
      "text/plain": [
       "  0%|          | 0/1000 [00:00<?, ?it/s]"
      ]
     },
     "metadata": {},
     "output_type": "display_data"
    },
    {
     "name": "stdout",
     "output_type": "stream",
     "text": [
      "https://www.bitstamp.net/api/v2/ohlc/ltcusd/?&currency_pair=ltcusd&step=900&limit=1000&start=1559343600\n",
      "Downloaded from 2019-06-01 00:00:00(1559343600) to 2019-06-11 09:45:00(1560242700) 129.66\n",
      "Processing 1000 of ltcusd\n"
     ]
    },
    {
     "data": {
      "application/vnd.jupyter.widget-view+json": {
       "model_id": "0d4e0119f1a44ba487766d7f233bc488",
       "version_major": 2,
       "version_minor": 0
      },
      "text/plain": [
       "  0%|          | 0/1000 [00:00<?, ?it/s]"
      ]
     },
     "metadata": {},
     "output_type": "display_data"
    },
    {
     "name": "stdout",
     "output_type": "stream",
     "text": [
      "https://www.bitstamp.net/api/v2/ohlc/ltcbtc/?&currency_pair=ltcbtc&step=900&limit=1000&start=1559343600\n",
      "Downloaded from 2019-06-01 00:00:00(1559343600) to 2019-06-11 09:45:00(1560242700) 0.01629743\n",
      "Processing 1000 of ltcbtc\n"
     ]
    },
    {
     "data": {
      "application/vnd.jupyter.widget-view+json": {
       "model_id": "28f745ae36894621a649804c8a15c725",
       "version_major": 2,
       "version_minor": 0
      },
      "text/plain": [
       "  0%|          | 0/1000 [00:00<?, ?it/s]"
      ]
     },
     "metadata": {},
     "output_type": "display_data"
    },
    {
     "name": "stdout",
     "output_type": "stream",
     "text": [
      "https://www.bitstamp.net/api/v2/ohlc/btcusd/?&currency_pair=btcusd&step=900&limit=1000&start=1527807600\n",
      "Downloaded from 2018-06-01 00:00:00(1527807600) to 2018-06-11 09:45:00(1528706700) 6795.82\n",
      "Processing 1000 of btcusd\n"
     ]
    },
    {
     "data": {
      "application/vnd.jupyter.widget-view+json": {
       "model_id": "a15fda541cb34f7c9c2ba647071cda6e",
       "version_major": 2,
       "version_minor": 0
      },
      "text/plain": [
       "  0%|          | 0/1000 [00:00<?, ?it/s]"
      ]
     },
     "metadata": {},
     "output_type": "display_data"
    },
    {
     "name": "stdout",
     "output_type": "stream",
     "text": [
      "https://www.bitstamp.net/api/v2/ohlc/ethusd/?&currency_pair=ethusd&step=900&limit=1000&start=1527807600\n",
      "Downloaded from 2018-06-01 00:00:00(1527807600) to 2018-06-11 09:45:00(1528706700) 532.74\n",
      "Processing 1000 of ethusd\n"
     ]
    },
    {
     "data": {
      "application/vnd.jupyter.widget-view+json": {
       "model_id": "1125e975363d432a98a90affc0b24531",
       "version_major": 2,
       "version_minor": 0
      },
      "text/plain": [
       "  0%|          | 0/1000 [00:00<?, ?it/s]"
      ]
     },
     "metadata": {},
     "output_type": "display_data"
    },
    {
     "name": "stdout",
     "output_type": "stream",
     "text": [
      "https://www.bitstamp.net/api/v2/ohlc/ltcusd/?&currency_pair=ltcusd&step=900&limit=1000&start=1527807600\n",
      "Downloaded from 2018-06-01 00:00:00(1527807600) to 2018-06-11 09:45:00(1528706700) 107.31\n",
      "Processing 1000 of ltcusd\n"
     ]
    },
    {
     "data": {
      "application/vnd.jupyter.widget-view+json": {
       "model_id": "a23a50fc223e4851b8d39ea6206f5e3f",
       "version_major": 2,
       "version_minor": 0
      },
      "text/plain": [
       "  0%|          | 0/1000 [00:00<?, ?it/s]"
      ]
     },
     "metadata": {},
     "output_type": "display_data"
    },
    {
     "name": "stdout",
     "output_type": "stream",
     "text": [
      "https://www.bitstamp.net/api/v2/ohlc/ltcbtc/?&currency_pair=ltcbtc&step=900&limit=1000&start=1527807600\n",
      "Downloaded from 2018-06-01 00:00:00(1527807600) to 2018-06-11 09:45:00(1528706700) 0.01578000\n",
      "Processing 1000 of ltcbtc\n"
     ]
    },
    {
     "data": {
      "application/vnd.jupyter.widget-view+json": {
       "model_id": "cd8d54db3f1347a4be9b61e29d4efe27",
       "version_major": 2,
       "version_minor": 0
      },
      "text/plain": [
       "  0%|          | 0/1000 [00:00<?, ?it/s]"
      ]
     },
     "metadata": {},
     "output_type": "display_data"
    },
    {
     "name": "stdout",
     "output_type": "stream",
     "text": [
      "https://www.bitstamp.net/api/v2/ohlc/btcusd/?&currency_pair=btcusd&step=900&limit=1000&start=1517443200\n",
      "Downloaded from 2018-02-01 00:00:00(1517443200) to 2018-02-11 09:45:00(1518342300) 8012.89\n",
      "Processing 1000 of btcusd\n"
     ]
    },
    {
     "data": {
      "application/vnd.jupyter.widget-view+json": {
       "model_id": "5bdfbda287174f35ac4c0387ae515fca",
       "version_major": 2,
       "version_minor": 0
      },
      "text/plain": [
       "  0%|          | 0/1000 [00:00<?, ?it/s]"
      ]
     },
     "metadata": {},
     "output_type": "display_data"
    },
    {
     "name": "stdout",
     "output_type": "stream",
     "text": [
      "https://www.bitstamp.net/api/v2/ohlc/ethusd/?&currency_pair=ethusd&step=900&limit=1000&start=1517443200\n",
      "Downloaded from 2018-02-01 00:00:00(1517443200) to 2018-02-11 09:45:00(1518342300) 800.68\n",
      "Processing 1000 of ethusd\n"
     ]
    },
    {
     "data": {
      "application/vnd.jupyter.widget-view+json": {
       "model_id": "b3e716bb739c4b04bf67de100ae89fb7",
       "version_major": 2,
       "version_minor": 0
      },
      "text/plain": [
       "  0%|          | 0/1000 [00:00<?, ?it/s]"
      ]
     },
     "metadata": {},
     "output_type": "display_data"
    },
    {
     "name": "stdout",
     "output_type": "stream",
     "text": [
      "https://www.bitstamp.net/api/v2/ohlc/ltcusd/?&currency_pair=ltcusd&step=900&limit=1000&start=1517443200\n",
      "Downloaded from 2018-02-01 00:00:00(1517443200) to 2018-02-11 09:45:00(1518342300) 144.90\n",
      "Processing 1000 of ltcusd\n"
     ]
    },
    {
     "data": {
      "application/vnd.jupyter.widget-view+json": {
       "model_id": "738b22b7f89944e69533e5a258254218",
       "version_major": 2,
       "version_minor": 0
      },
      "text/plain": [
       "  0%|          | 0/1000 [00:00<?, ?it/s]"
      ]
     },
     "metadata": {},
     "output_type": "display_data"
    },
    {
     "name": "stdout",
     "output_type": "stream",
     "text": [
      "https://www.bitstamp.net/api/v2/ohlc/ltcbtc/?&currency_pair=ltcbtc&step=900&limit=1000&start=1517443200\n",
      "Downloaded from 2018-02-01 00:00:00(1517443200) to 2018-02-11 09:45:00(1518342300) 0.01806022\n",
      "Processing 1000 of ltcbtc\n"
     ]
    },
    {
     "data": {
      "application/vnd.jupyter.widget-view+json": {
       "model_id": "1d5775da61d64b819c6a8f6532b718e9",
       "version_major": 2,
       "version_minor": 0
      },
      "text/plain": [
       "  0%|          | 0/1000 [00:00<?, ?it/s]"
      ]
     },
     "metadata": {},
     "output_type": "display_data"
    },
    {
     "name": "stdout",
     "output_type": "stream",
     "text": [
      "https://www.bitstamp.net/api/v2/ohlc/btcusd/?&currency_pair=btcusd&step=900&limit=1000&start=1548979200\n",
      "Downloaded from 2019-02-01 00:00:00(1548979200) to 2019-02-11 09:45:00(1549878300) 3594.91\n",
      "Processing 1000 of btcusd\n"
     ]
    },
    {
     "data": {
      "application/vnd.jupyter.widget-view+json": {
       "model_id": "679334990cdb4262b882195a1f797b3e",
       "version_major": 2,
       "version_minor": 0
      },
      "text/plain": [
       "  0%|          | 0/1000 [00:00<?, ?it/s]"
      ]
     },
     "metadata": {},
     "output_type": "display_data"
    },
    {
     "name": "stdout",
     "output_type": "stream",
     "text": [
      "https://www.bitstamp.net/api/v2/ohlc/ethusd/?&currency_pair=ethusd&step=900&limit=1000&start=1548979200\n",
      "Downloaded from 2019-02-01 00:00:00(1548979200) to 2019-02-11 09:45:00(1549878300) 119.46\n",
      "Processing 1000 of ethusd\n"
     ]
    },
    {
     "data": {
      "application/vnd.jupyter.widget-view+json": {
       "model_id": "06e76d00470c4f62902456f1c8df2830",
       "version_major": 2,
       "version_minor": 0
      },
      "text/plain": [
       "  0%|          | 0/1000 [00:00<?, ?it/s]"
      ]
     },
     "metadata": {},
     "output_type": "display_data"
    },
    {
     "name": "stdout",
     "output_type": "stream",
     "text": [
      "https://www.bitstamp.net/api/v2/ohlc/ltcusd/?&currency_pair=ltcusd&step=900&limit=1000&start=1548979200\n",
      "Downloaded from 2019-02-01 00:00:00(1548979200) to 2019-02-11 09:45:00(1549878300) 43.79\n",
      "Processing 1000 of ltcusd\n"
     ]
    },
    {
     "data": {
      "application/vnd.jupyter.widget-view+json": {
       "model_id": "d0a429ebc0be48b2941c65c900e36728",
       "version_major": 2,
       "version_minor": 0
      },
      "text/plain": [
       "  0%|          | 0/1000 [00:00<?, ?it/s]"
      ]
     },
     "metadata": {},
     "output_type": "display_data"
    },
    {
     "name": "stdout",
     "output_type": "stream",
     "text": [
      "https://www.bitstamp.net/api/v2/ohlc/ltcbtc/?&currency_pair=ltcbtc&step=900&limit=1000&start=1548979200\n",
      "Downloaded from 2019-02-01 00:00:00(1548979200) to 2019-02-11 09:45:00(1549878300) 0.01221493\n",
      "Processing 1000 of ltcbtc\n"
     ]
    },
    {
     "data": {
      "application/vnd.jupyter.widget-view+json": {
       "model_id": "5f2ec5d2a71444148197b95a725e8d03",
       "version_major": 2,
       "version_minor": 0
      },
      "text/plain": [
       "  0%|          | 0/1000 [00:00<?, ?it/s]"
      ]
     },
     "metadata": {},
     "output_type": "display_data"
    },
    {
     "name": "stdout",
     "output_type": "stream",
     "text": [
      "https://www.bitstamp.net/api/v2/ohlc/btcusd/?&currency_pair=btcusd&step=900&limit=1000&start=1580515200\n",
      "Downloaded from 2020-02-01 00:00:00(1580515200) to 2020-02-11 09:45:00(1581414300) 9783.54\n",
      "Processing 1000 of btcusd\n"
     ]
    },
    {
     "data": {
      "application/vnd.jupyter.widget-view+json": {
       "model_id": "e04cc33afbc044b68efe036ee35addcc",
       "version_major": 2,
       "version_minor": 0
      },
      "text/plain": [
       "  0%|          | 0/1000 [00:00<?, ?it/s]"
      ]
     },
     "metadata": {},
     "output_type": "display_data"
    },
    {
     "name": "stdout",
     "output_type": "stream",
     "text": [
      "https://www.bitstamp.net/api/v2/ohlc/ethusd/?&currency_pair=ethusd&step=900&limit=1000&start=1580515200\n",
      "Downloaded from 2020-02-01 00:00:00(1580515200) to 2020-02-11 09:45:00(1581414300) 221.25\n",
      "Processing 1000 of ethusd\n"
     ]
    },
    {
     "data": {
      "application/vnd.jupyter.widget-view+json": {
       "model_id": "f2784b95f840435483833ea73d447f1a",
       "version_major": 2,
       "version_minor": 0
      },
      "text/plain": [
       "  0%|          | 0/1000 [00:00<?, ?it/s]"
      ]
     },
     "metadata": {},
     "output_type": "display_data"
    },
    {
     "name": "stdout",
     "output_type": "stream",
     "text": [
      "https://www.bitstamp.net/api/v2/ohlc/ltcusd/?&currency_pair=ltcusd&step=900&limit=1000&start=1580515200\n",
      "Downloaded from 2020-02-01 00:00:00(1580515200) to 2020-02-11 09:45:00(1581414300) 74.22\n",
      "Processing 1000 of ltcusd\n"
     ]
    },
    {
     "data": {
      "application/vnd.jupyter.widget-view+json": {
       "model_id": "89dd81ac87634a65a75590eea15f8766",
       "version_major": 2,
       "version_minor": 0
      },
      "text/plain": [
       "  0%|          | 0/1000 [00:00<?, ?it/s]"
      ]
     },
     "metadata": {},
     "output_type": "display_data"
    },
    {
     "name": "stdout",
     "output_type": "stream",
     "text": [
      "https://www.bitstamp.net/api/v2/ohlc/ltcbtc/?&currency_pair=ltcbtc&step=900&limit=1000&start=1580515200\n",
      "Downloaded from 2020-02-01 00:00:00(1580515200) to 2020-02-11 09:45:00(1581414300) 0.00757449\n",
      "Processing 1000 of ltcbtc\n"
     ]
    },
    {
     "data": {
      "application/vnd.jupyter.widget-view+json": {
       "model_id": "4237e084b6fa45e9ae52a5280c16dd2c",
       "version_major": 2,
       "version_minor": 0
      },
      "text/plain": [
       "  0%|          | 0/1000 [00:00<?, ?it/s]"
      ]
     },
     "metadata": {},
     "output_type": "display_data"
    },
    {
     "name": "stdout",
     "output_type": "stream",
     "text": [
      "https://www.bitstamp.net/api/v2/ohlc/btcusd/?&currency_pair=btcusd&step=900&limit=1000&start=1612137600\n",
      "Downloaded from 2021-02-01 00:00:00(1612137600) to 2021-02-11 09:45:00(1613036700) 45154.95\n",
      "Processing 1000 of btcusd\n"
     ]
    },
    {
     "data": {
      "application/vnd.jupyter.widget-view+json": {
       "model_id": "ce6528a22f024483b27fed95532d4098",
       "version_major": 2,
       "version_minor": 0
      },
      "text/plain": [
       "  0%|          | 0/1000 [00:00<?, ?it/s]"
      ]
     },
     "metadata": {},
     "output_type": "display_data"
    },
    {
     "name": "stdout",
     "output_type": "stream",
     "text": [
      "https://www.bitstamp.net/api/v2/ohlc/ethusd/?&currency_pair=ethusd&step=900&limit=1000&start=1612137600\n",
      "Downloaded from 2021-02-01 00:00:00(1612137600) to 2021-02-11 09:45:00(1613036700) 1757.24\n",
      "Processing 1000 of ethusd\n"
     ]
    },
    {
     "data": {
      "application/vnd.jupyter.widget-view+json": {
       "model_id": "9d3fa7e46ca6418ca2ec98e29d8c7e3c",
       "version_major": 2,
       "version_minor": 0
      },
      "text/plain": [
       "  0%|          | 0/1000 [00:00<?, ?it/s]"
      ]
     },
     "metadata": {},
     "output_type": "display_data"
    },
    {
     "name": "stdout",
     "output_type": "stream",
     "text": [
      "https://www.bitstamp.net/api/v2/ohlc/ltcusd/?&currency_pair=ltcusd&step=900&limit=1000&start=1612137600\n",
      "Downloaded from 2021-02-01 00:00:00(1612137600) to 2021-02-11 09:45:00(1613036700) 186.32\n",
      "Processing 1000 of ltcusd\n"
     ]
    },
    {
     "data": {
      "application/vnd.jupyter.widget-view+json": {
       "model_id": "acb74e1fd04d42f2a3675793f8c3fb92",
       "version_major": 2,
       "version_minor": 0
      },
      "text/plain": [
       "  0%|          | 0/1000 [00:00<?, ?it/s]"
      ]
     },
     "metadata": {},
     "output_type": "display_data"
    },
    {
     "name": "stdout",
     "output_type": "stream",
     "text": [
      "https://www.bitstamp.net/api/v2/ohlc/ltcbtc/?&currency_pair=ltcbtc&step=900&limit=1000&start=1612137600\n",
      "Downloaded from 2021-02-01 00:00:00(1612137600) to 2021-02-11 09:45:00(1613036700) 0.00413427\n",
      "Processing 1000 of ltcbtc\n"
     ]
    },
    {
     "data": {
      "application/vnd.jupyter.widget-view+json": {
       "model_id": "e1b164d35d5b4da8809116e352714da6",
       "version_major": 2,
       "version_minor": 0
      },
      "text/plain": [
       "  0%|          | 0/1000 [00:00<?, ?it/s]"
      ]
     },
     "metadata": {},
     "output_type": "display_data"
    },
    {
     "name": "stdout",
     "output_type": "stream",
     "text": [
      "https://www.bitstamp.net/api/v2/ohlc/btcusd/?&currency_pair=btcusd&step=900&limit=1000&start=1623711600\n",
      "https://www.bitstamp.net/api/v2/ohlc/btcusd/?&currency_pair=btcusd&step=900&limit=1000&start=1624611600\n",
      "https://www.bitstamp.net/api/v2/ohlc/btcusd/?&currency_pair=btcusd&step=900&limit=1000&start=1625511600\n",
      "Downloaded from 2021-06-15 00:00:00(1623711600) to 2021-07-15 00:00:00(1626303600) 32978.97\n",
      "Processing 2881 of btcusd\n"
     ]
    },
    {
     "data": {
      "application/vnd.jupyter.widget-view+json": {
       "model_id": "b88f9153dda44b9d80c55ab6a6bc08b4",
       "version_major": 2,
       "version_minor": 0
      },
      "text/plain": [
       "  0%|          | 0/2881 [00:00<?, ?it/s]"
      ]
     },
     "metadata": {},
     "output_type": "display_data"
    },
    {
     "name": "stdout",
     "output_type": "stream",
     "text": [
      "https://www.bitstamp.net/api/v2/ohlc/ethusd/?&currency_pair=ethusd&step=900&limit=1000&start=1623711600\n",
      "https://www.bitstamp.net/api/v2/ohlc/ethusd/?&currency_pair=ethusd&step=900&limit=1000&start=1624611600\n",
      "https://www.bitstamp.net/api/v2/ohlc/ethusd/?&currency_pair=ethusd&step=900&limit=1000&start=1625511600\n",
      "Downloaded from 2021-06-15 00:00:00(1623711600) to 2021-07-15 00:00:00(1626303600) 2005.17\n",
      "Processing 2881 of ethusd\n"
     ]
    },
    {
     "data": {
      "application/vnd.jupyter.widget-view+json": {
       "model_id": "1a70c6619fa6413883b667c31440714d",
       "version_major": 2,
       "version_minor": 0
      },
      "text/plain": [
       "  0%|          | 0/2881 [00:00<?, ?it/s]"
      ]
     },
     "metadata": {},
     "output_type": "display_data"
    },
    {
     "name": "stdout",
     "output_type": "stream",
     "text": [
      "https://www.bitstamp.net/api/v2/ohlc/ltcusd/?&currency_pair=ltcusd&step=900&limit=1000&start=1623711600\n",
      "https://www.bitstamp.net/api/v2/ohlc/ltcusd/?&currency_pair=ltcusd&step=900&limit=1000&start=1624611600\n",
      "https://www.bitstamp.net/api/v2/ohlc/ltcusd/?&currency_pair=ltcusd&step=900&limit=1000&start=1625511600\n",
      "Downloaded from 2021-06-15 00:00:00(1623711600) to 2021-07-15 00:00:00(1626303600) 131.22\n",
      "Processing 2881 of ltcusd\n"
     ]
    },
    {
     "data": {
      "application/vnd.jupyter.widget-view+json": {
       "model_id": "493dacdbc9cd4592ac9f85a0f711c25b",
       "version_major": 2,
       "version_minor": 0
      },
      "text/plain": [
       "  0%|          | 0/2881 [00:00<?, ?it/s]"
      ]
     },
     "metadata": {},
     "output_type": "display_data"
    },
    {
     "name": "stdout",
     "output_type": "stream",
     "text": [
      "https://www.bitstamp.net/api/v2/ohlc/ltcbtc/?&currency_pair=ltcbtc&step=900&limit=1000&start=1623711600\n",
      "https://www.bitstamp.net/api/v2/ohlc/ltcbtc/?&currency_pair=ltcbtc&step=900&limit=1000&start=1624611600\n",
      "https://www.bitstamp.net/api/v2/ohlc/ltcbtc/?&currency_pair=ltcbtc&step=900&limit=1000&start=1625511600\n",
      "Downloaded from 2021-06-15 00:00:00(1623711600) to 2021-07-15 00:00:00(1626303600) 0.00398347\n",
      "Processing 2881 of ltcbtc\n"
     ]
    },
    {
     "data": {
      "application/vnd.jupyter.widget-view+json": {
       "model_id": "229396f684404c6d8fb98f636a020ad3",
       "version_major": 2,
       "version_minor": 0
      },
      "text/plain": [
       "  0%|          | 0/2881 [00:00<?, ?it/s]"
      ]
     },
     "metadata": {},
     "output_type": "display_data"
    },
    {
     "name": "stdout",
     "output_type": "stream",
     "text": [
      "data/online10_15 -> OnLineDataProvider (val_keys = {'btcusd': 3, 'ethusd': 3, 'ltcusd': 3, 'ltcbtc': 3}, train_data = 2 , data_detail = DataDetail (windows = 10, minutes = 15, steps_ahead = 1)))\n",
      "https://www.bitstamp.net/api/v2/ohlc/btcusd/?&currency_pair=btcusd&step=900&limit=1000&start=1622502000\n",
      "Downloaded from 2021-06-01 00:00:00(1622502000) to 2021-06-11 09:45:00(1623401100) 37001.01\n",
      "Processing 1000 of btcusd\n"
     ]
    },
    {
     "data": {
      "application/vnd.jupyter.widget-view+json": {
       "model_id": "f3bcc301353245e5b275c4e9d79a42fb",
       "version_major": 2,
       "version_minor": 0
      },
      "text/plain": [
       "  0%|          | 0/1000 [00:00<?, ?it/s]"
      ]
     },
     "metadata": {},
     "output_type": "display_data"
    },
    {
     "name": "stdout",
     "output_type": "stream",
     "text": [
      "https://www.bitstamp.net/api/v2/ohlc/ethusd/?&currency_pair=ethusd&step=900&limit=1000&start=1622502000\n",
      "Downloaded from 2021-06-01 00:00:00(1622502000) to 2021-06-11 09:45:00(1623401100) 2450.30\n",
      "Processing 1000 of ethusd\n"
     ]
    },
    {
     "data": {
      "application/vnd.jupyter.widget-view+json": {
       "model_id": "ecfe8badbc4a4a59b51eb016c5825018",
       "version_major": 2,
       "version_minor": 0
      },
      "text/plain": [
       "  0%|          | 0/1000 [00:00<?, ?it/s]"
      ]
     },
     "metadata": {},
     "output_type": "display_data"
    },
    {
     "name": "stdout",
     "output_type": "stream",
     "text": [
      "https://www.bitstamp.net/api/v2/ohlc/ltcusd/?&currency_pair=ltcusd&step=900&limit=1000&start=1622502000\n",
      "Downloaded from 2021-06-01 00:00:00(1622502000) to 2021-06-11 09:45:00(1623401100) 169.68\n",
      "Processing 1000 of ltcusd\n"
     ]
    },
    {
     "data": {
      "application/vnd.jupyter.widget-view+json": {
       "model_id": "af9ca4f32efd466795a174c755eb620a",
       "version_major": 2,
       "version_minor": 0
      },
      "text/plain": [
       "  0%|          | 0/1000 [00:00<?, ?it/s]"
      ]
     },
     "metadata": {},
     "output_type": "display_data"
    },
    {
     "name": "stdout",
     "output_type": "stream",
     "text": [
      "https://www.bitstamp.net/api/v2/ohlc/ltcbtc/?&currency_pair=ltcbtc&step=900&limit=1000&start=1622502000\n",
      "Downloaded from 2021-06-01 00:00:00(1622502000) to 2021-06-11 09:45:00(1623401100) 0.00458926\n",
      "Processing 1000 of ltcbtc\n"
     ]
    },
    {
     "data": {
      "application/vnd.jupyter.widget-view+json": {
       "model_id": "34c149a89f894c15ba51bd88f7870344",
       "version_major": 2,
       "version_minor": 0
      },
      "text/plain": [
       "  0%|          | 0/1000 [00:00<?, ?it/s]"
      ]
     },
     "metadata": {},
     "output_type": "display_data"
    },
    {
     "name": "stdout",
     "output_type": "stream",
     "text": [
      "https://www.bitstamp.net/api/v2/ohlc/btcusd/?&currency_pair=btcusd&step=900&limit=1000&start=1590966000\n",
      "Downloaded from 2020-06-01 00:00:00(1590966000) to 2020-06-11 09:45:00(1591865100) 9820.86\n",
      "Processing 1000 of btcusd\n"
     ]
    },
    {
     "data": {
      "application/vnd.jupyter.widget-view+json": {
       "model_id": "8e33332ba3df4bc08eb143f2620582c0",
       "version_major": 2,
       "version_minor": 0
      },
      "text/plain": [
       "  0%|          | 0/1000 [00:00<?, ?it/s]"
      ]
     },
     "metadata": {},
     "output_type": "display_data"
    },
    {
     "name": "stdout",
     "output_type": "stream",
     "text": [
      "https://www.bitstamp.net/api/v2/ohlc/ethusd/?&currency_pair=ethusd&step=900&limit=1000&start=1590966000\n",
      "Downloaded from 2020-06-01 00:00:00(1590966000) to 2020-06-11 09:45:00(1591865100) 246.70\n",
      "Processing 1000 of ethusd\n"
     ]
    },
    {
     "data": {
      "application/vnd.jupyter.widget-view+json": {
       "model_id": "991cd62e6c32470ba8a8f9ec99bb7c1a",
       "version_major": 2,
       "version_minor": 0
      },
      "text/plain": [
       "  0%|          | 0/1000 [00:00<?, ?it/s]"
      ]
     },
     "metadata": {},
     "output_type": "display_data"
    },
    {
     "name": "stdout",
     "output_type": "stream",
     "text": [
      "https://www.bitstamp.net/api/v2/ohlc/ltcusd/?&currency_pair=ltcusd&step=900&limit=1000&start=1590966000\n",
      "Downloaded from 2020-06-01 00:00:00(1590966000) to 2020-06-11 09:45:00(1591865100) 46.34\n",
      "Processing 1000 of ltcusd\n"
     ]
    },
    {
     "data": {
      "application/vnd.jupyter.widget-view+json": {
       "model_id": "148b6c9611e541f9813bc668e7c07c8b",
       "version_major": 2,
       "version_minor": 0
      },
      "text/plain": [
       "  0%|          | 0/1000 [00:00<?, ?it/s]"
      ]
     },
     "metadata": {},
     "output_type": "display_data"
    },
    {
     "name": "stdout",
     "output_type": "stream",
     "text": [
      "https://www.bitstamp.net/api/v2/ohlc/ltcbtc/?&currency_pair=ltcbtc&step=900&limit=1000&start=1590966000\n",
      "Downloaded from 2020-06-01 00:00:00(1590966000) to 2020-06-11 09:45:00(1591865100) 0.00470967\n",
      "Processing 1000 of ltcbtc\n"
     ]
    },
    {
     "data": {
      "application/vnd.jupyter.widget-view+json": {
       "model_id": "b6478e4632f9447c9ec0eef2bbb42785",
       "version_major": 2,
       "version_minor": 0
      },
      "text/plain": [
       "  0%|          | 0/1000 [00:00<?, ?it/s]"
      ]
     },
     "metadata": {},
     "output_type": "display_data"
    },
    {
     "name": "stdout",
     "output_type": "stream",
     "text": [
      "https://www.bitstamp.net/api/v2/ohlc/btcusd/?&currency_pair=btcusd&step=900&limit=1000&start=1559343600\n",
      "Downloaded from 2019-06-01 00:00:00(1559343600) to 2019-06-11 09:45:00(1560242700) 7961.80\n",
      "Processing 1000 of btcusd\n"
     ]
    },
    {
     "data": {
      "application/vnd.jupyter.widget-view+json": {
       "model_id": "66283fc993454a00a74822d9b94275ba",
       "version_major": 2,
       "version_minor": 0
      },
      "text/plain": [
       "  0%|          | 0/1000 [00:00<?, ?it/s]"
      ]
     },
     "metadata": {},
     "output_type": "display_data"
    },
    {
     "name": "stdout",
     "output_type": "stream",
     "text": [
      "https://www.bitstamp.net/api/v2/ohlc/ethusd/?&currency_pair=ethusd&step=900&limit=1000&start=1559343600\n",
      "Downloaded from 2019-06-01 00:00:00(1559343600) to 2019-06-11 09:45:00(1560242700) 247.16\n",
      "Processing 1000 of ethusd\n"
     ]
    },
    {
     "data": {
      "application/vnd.jupyter.widget-view+json": {
       "model_id": "e3dda35f70f14b9ea75229527403387d",
       "version_major": 2,
       "version_minor": 0
      },
      "text/plain": [
       "  0%|          | 0/1000 [00:00<?, ?it/s]"
      ]
     },
     "metadata": {},
     "output_type": "display_data"
    },
    {
     "name": "stdout",
     "output_type": "stream",
     "text": [
      "https://www.bitstamp.net/api/v2/ohlc/ltcusd/?&currency_pair=ltcusd&step=900&limit=1000&start=1559343600\n",
      "Downloaded from 2019-06-01 00:00:00(1559343600) to 2019-06-11 09:45:00(1560242700) 129.66\n",
      "Processing 1000 of ltcusd\n"
     ]
    },
    {
     "data": {
      "application/vnd.jupyter.widget-view+json": {
       "model_id": "da26096ab5194fa49c91c86d806c699a",
       "version_major": 2,
       "version_minor": 0
      },
      "text/plain": [
       "  0%|          | 0/1000 [00:00<?, ?it/s]"
      ]
     },
     "metadata": {},
     "output_type": "display_data"
    },
    {
     "name": "stdout",
     "output_type": "stream",
     "text": [
      "https://www.bitstamp.net/api/v2/ohlc/ltcbtc/?&currency_pair=ltcbtc&step=900&limit=1000&start=1559343600\n",
      "Downloaded from 2019-06-01 00:00:00(1559343600) to 2019-06-11 09:45:00(1560242700) 0.01629743\n",
      "Processing 1000 of ltcbtc\n"
     ]
    },
    {
     "data": {
      "application/vnd.jupyter.widget-view+json": {
       "model_id": "ad866f9047e44decbcfec5a0282efa1b",
       "version_major": 2,
       "version_minor": 0
      },
      "text/plain": [
       "  0%|          | 0/1000 [00:00<?, ?it/s]"
      ]
     },
     "metadata": {},
     "output_type": "display_data"
    },
    {
     "name": "stdout",
     "output_type": "stream",
     "text": [
      "https://www.bitstamp.net/api/v2/ohlc/btcusd/?&currency_pair=btcusd&step=900&limit=1000&start=1527807600\n",
      "Downloaded from 2018-06-01 00:00:00(1527807600) to 2018-06-11 09:45:00(1528706700) 6795.82\n",
      "Processing 1000 of btcusd\n"
     ]
    },
    {
     "data": {
      "application/vnd.jupyter.widget-view+json": {
       "model_id": "ce6e5ce9db2244de90dc1b962f4bc88b",
       "version_major": 2,
       "version_minor": 0
      },
      "text/plain": [
       "  0%|          | 0/1000 [00:00<?, ?it/s]"
      ]
     },
     "metadata": {},
     "output_type": "display_data"
    },
    {
     "name": "stdout",
     "output_type": "stream",
     "text": [
      "https://www.bitstamp.net/api/v2/ohlc/ethusd/?&currency_pair=ethusd&step=900&limit=1000&start=1527807600\n",
      "Downloaded from 2018-06-01 00:00:00(1527807600) to 2018-06-11 09:45:00(1528706700) 532.74\n",
      "Processing 1000 of ethusd\n"
     ]
    },
    {
     "data": {
      "application/vnd.jupyter.widget-view+json": {
       "model_id": "410e6732ba194aaaa45c90379a9855c0",
       "version_major": 2,
       "version_minor": 0
      },
      "text/plain": [
       "  0%|          | 0/1000 [00:00<?, ?it/s]"
      ]
     },
     "metadata": {},
     "output_type": "display_data"
    },
    {
     "name": "stdout",
     "output_type": "stream",
     "text": [
      "https://www.bitstamp.net/api/v2/ohlc/ltcusd/?&currency_pair=ltcusd&step=900&limit=1000&start=1527807600\n",
      "Downloaded from 2018-06-01 00:00:00(1527807600) to 2018-06-11 09:45:00(1528706700) 107.31\n",
      "Processing 1000 of ltcusd\n"
     ]
    },
    {
     "data": {
      "application/vnd.jupyter.widget-view+json": {
       "model_id": "d276bd972e7c4caa8135aef160bdf99f",
       "version_major": 2,
       "version_minor": 0
      },
      "text/plain": [
       "  0%|          | 0/1000 [00:00<?, ?it/s]"
      ]
     },
     "metadata": {},
     "output_type": "display_data"
    },
    {
     "name": "stdout",
     "output_type": "stream",
     "text": [
      "https://www.bitstamp.net/api/v2/ohlc/ltcbtc/?&currency_pair=ltcbtc&step=900&limit=1000&start=1527807600\n",
      "Downloaded from 2018-06-01 00:00:00(1527807600) to 2018-06-11 09:45:00(1528706700) 0.01578000\n",
      "Processing 1000 of ltcbtc\n"
     ]
    },
    {
     "data": {
      "application/vnd.jupyter.widget-view+json": {
       "model_id": "becc53fa2c2b49b28a8a447dacb7df8c",
       "version_major": 2,
       "version_minor": 0
      },
      "text/plain": [
       "  0%|          | 0/1000 [00:00<?, ?it/s]"
      ]
     },
     "metadata": {},
     "output_type": "display_data"
    },
    {
     "name": "stdout",
     "output_type": "stream",
     "text": [
      "https://www.bitstamp.net/api/v2/ohlc/btcusd/?&currency_pair=btcusd&step=900&limit=1000&start=1517443200\n",
      "Downloaded from 2018-02-01 00:00:00(1517443200) to 2018-02-11 09:45:00(1518342300) 8012.89\n",
      "Processing 1000 of btcusd\n"
     ]
    },
    {
     "data": {
      "application/vnd.jupyter.widget-view+json": {
       "model_id": "88cfce2236034146ad6a1963a1541474",
       "version_major": 2,
       "version_minor": 0
      },
      "text/plain": [
       "  0%|          | 0/1000 [00:00<?, ?it/s]"
      ]
     },
     "metadata": {},
     "output_type": "display_data"
    },
    {
     "name": "stdout",
     "output_type": "stream",
     "text": [
      "https://www.bitstamp.net/api/v2/ohlc/ethusd/?&currency_pair=ethusd&step=900&limit=1000&start=1517443200\n",
      "Downloaded from 2018-02-01 00:00:00(1517443200) to 2018-02-11 09:45:00(1518342300) 800.68\n",
      "Processing 1000 of ethusd\n"
     ]
    },
    {
     "data": {
      "application/vnd.jupyter.widget-view+json": {
       "model_id": "0bf1beaca00942c9b034217af312c907",
       "version_major": 2,
       "version_minor": 0
      },
      "text/plain": [
       "  0%|          | 0/1000 [00:00<?, ?it/s]"
      ]
     },
     "metadata": {},
     "output_type": "display_data"
    },
    {
     "name": "stdout",
     "output_type": "stream",
     "text": [
      "https://www.bitstamp.net/api/v2/ohlc/ltcusd/?&currency_pair=ltcusd&step=900&limit=1000&start=1517443200\n",
      "Downloaded from 2018-02-01 00:00:00(1517443200) to 2018-02-11 09:45:00(1518342300) 144.90\n",
      "Processing 1000 of ltcusd\n"
     ]
    },
    {
     "data": {
      "application/vnd.jupyter.widget-view+json": {
       "model_id": "2621e17061ca492cb9941eb60f4d321a",
       "version_major": 2,
       "version_minor": 0
      },
      "text/plain": [
       "  0%|          | 0/1000 [00:00<?, ?it/s]"
      ]
     },
     "metadata": {},
     "output_type": "display_data"
    },
    {
     "name": "stdout",
     "output_type": "stream",
     "text": [
      "https://www.bitstamp.net/api/v2/ohlc/ltcbtc/?&currency_pair=ltcbtc&step=900&limit=1000&start=1517443200\n",
      "Downloaded from 2018-02-01 00:00:00(1517443200) to 2018-02-11 09:45:00(1518342300) 0.01806022\n",
      "Processing 1000 of ltcbtc\n"
     ]
    },
    {
     "data": {
      "application/vnd.jupyter.widget-view+json": {
       "model_id": "547f282924ce4ce9bca6342c53dba3f6",
       "version_major": 2,
       "version_minor": 0
      },
      "text/plain": [
       "  0%|          | 0/1000 [00:00<?, ?it/s]"
      ]
     },
     "metadata": {},
     "output_type": "display_data"
    },
    {
     "name": "stdout",
     "output_type": "stream",
     "text": [
      "https://www.bitstamp.net/api/v2/ohlc/btcusd/?&currency_pair=btcusd&step=900&limit=1000&start=1548979200\n",
      "Downloaded from 2019-02-01 00:00:00(1548979200) to 2019-02-11 09:45:00(1549878300) 3594.91\n",
      "Processing 1000 of btcusd\n"
     ]
    },
    {
     "data": {
      "application/vnd.jupyter.widget-view+json": {
       "model_id": "c1fb385c23404cfc9b6e1f7a9b7a4c4d",
       "version_major": 2,
       "version_minor": 0
      },
      "text/plain": [
       "  0%|          | 0/1000 [00:00<?, ?it/s]"
      ]
     },
     "metadata": {},
     "output_type": "display_data"
    },
    {
     "name": "stdout",
     "output_type": "stream",
     "text": [
      "https://www.bitstamp.net/api/v2/ohlc/ethusd/?&currency_pair=ethusd&step=900&limit=1000&start=1548979200\n",
      "Downloaded from 2019-02-01 00:00:00(1548979200) to 2019-02-11 09:45:00(1549878300) 119.46\n",
      "Processing 1000 of ethusd\n"
     ]
    },
    {
     "data": {
      "application/vnd.jupyter.widget-view+json": {
       "model_id": "a754d30e78bf44d2b3725fc921069e51",
       "version_major": 2,
       "version_minor": 0
      },
      "text/plain": [
       "  0%|          | 0/1000 [00:00<?, ?it/s]"
      ]
     },
     "metadata": {},
     "output_type": "display_data"
    },
    {
     "name": "stdout",
     "output_type": "stream",
     "text": [
      "https://www.bitstamp.net/api/v2/ohlc/ltcusd/?&currency_pair=ltcusd&step=900&limit=1000&start=1548979200\n",
      "Downloaded from 2019-02-01 00:00:00(1548979200) to 2019-02-11 09:45:00(1549878300) 43.79\n",
      "Processing 1000 of ltcusd\n"
     ]
    },
    {
     "data": {
      "application/vnd.jupyter.widget-view+json": {
       "model_id": "1ed73d9f3d834fc1bc86746c5d628be5",
       "version_major": 2,
       "version_minor": 0
      },
      "text/plain": [
       "  0%|          | 0/1000 [00:00<?, ?it/s]"
      ]
     },
     "metadata": {},
     "output_type": "display_data"
    },
    {
     "name": "stdout",
     "output_type": "stream",
     "text": [
      "https://www.bitstamp.net/api/v2/ohlc/ltcbtc/?&currency_pair=ltcbtc&step=900&limit=1000&start=1548979200\n",
      "Downloaded from 2019-02-01 00:00:00(1548979200) to 2019-02-11 09:45:00(1549878300) 0.01221493\n",
      "Processing 1000 of ltcbtc\n"
     ]
    },
    {
     "data": {
      "application/vnd.jupyter.widget-view+json": {
       "model_id": "a4e3861f6f074358a6031609b4a5f0b9",
       "version_major": 2,
       "version_minor": 0
      },
      "text/plain": [
       "  0%|          | 0/1000 [00:00<?, ?it/s]"
      ]
     },
     "metadata": {},
     "output_type": "display_data"
    },
    {
     "name": "stdout",
     "output_type": "stream",
     "text": [
      "https://www.bitstamp.net/api/v2/ohlc/btcusd/?&currency_pair=btcusd&step=900&limit=1000&start=1580515200\n",
      "Downloaded from 2020-02-01 00:00:00(1580515200) to 2020-02-11 09:45:00(1581414300) 9783.54\n",
      "Processing 1000 of btcusd\n"
     ]
    },
    {
     "data": {
      "application/vnd.jupyter.widget-view+json": {
       "model_id": "64e22a2715e0414393d1280931e70289",
       "version_major": 2,
       "version_minor": 0
      },
      "text/plain": [
       "  0%|          | 0/1000 [00:00<?, ?it/s]"
      ]
     },
     "metadata": {},
     "output_type": "display_data"
    },
    {
     "name": "stdout",
     "output_type": "stream",
     "text": [
      "https://www.bitstamp.net/api/v2/ohlc/ethusd/?&currency_pair=ethusd&step=900&limit=1000&start=1580515200\n",
      "Downloaded from 2020-02-01 00:00:00(1580515200) to 2020-02-11 09:45:00(1581414300) 221.25\n",
      "Processing 1000 of ethusd\n"
     ]
    },
    {
     "data": {
      "application/vnd.jupyter.widget-view+json": {
       "model_id": "9262f5bd9b474304bb00e19ad8c6531b",
       "version_major": 2,
       "version_minor": 0
      },
      "text/plain": [
       "  0%|          | 0/1000 [00:00<?, ?it/s]"
      ]
     },
     "metadata": {},
     "output_type": "display_data"
    },
    {
     "name": "stdout",
     "output_type": "stream",
     "text": [
      "https://www.bitstamp.net/api/v2/ohlc/ltcusd/?&currency_pair=ltcusd&step=900&limit=1000&start=1580515200\n",
      "Downloaded from 2020-02-01 00:00:00(1580515200) to 2020-02-11 09:45:00(1581414300) 74.22\n",
      "Processing 1000 of ltcusd\n"
     ]
    },
    {
     "data": {
      "application/vnd.jupyter.widget-view+json": {
       "model_id": "59b17f7d04eb4277b0bee5d177170e7d",
       "version_major": 2,
       "version_minor": 0
      },
      "text/plain": [
       "  0%|          | 0/1000 [00:00<?, ?it/s]"
      ]
     },
     "metadata": {},
     "output_type": "display_data"
    },
    {
     "name": "stdout",
     "output_type": "stream",
     "text": [
      "https://www.bitstamp.net/api/v2/ohlc/ltcbtc/?&currency_pair=ltcbtc&step=900&limit=1000&start=1580515200\n",
      "Downloaded from 2020-02-01 00:00:00(1580515200) to 2020-02-11 09:45:00(1581414300) 0.00757449\n",
      "Processing 1000 of ltcbtc\n"
     ]
    },
    {
     "data": {
      "application/vnd.jupyter.widget-view+json": {
       "model_id": "a1704f03b1ea4fa185a4d9295e0b242f",
       "version_major": 2,
       "version_minor": 0
      },
      "text/plain": [
       "  0%|          | 0/1000 [00:00<?, ?it/s]"
      ]
     },
     "metadata": {},
     "output_type": "display_data"
    },
    {
     "name": "stdout",
     "output_type": "stream",
     "text": [
      "https://www.bitstamp.net/api/v2/ohlc/btcusd/?&currency_pair=btcusd&step=900&limit=1000&start=1612137600\n",
      "Downloaded from 2021-02-01 00:00:00(1612137600) to 2021-02-11 09:45:00(1613036700) 45154.95\n",
      "Processing 1000 of btcusd\n"
     ]
    },
    {
     "data": {
      "application/vnd.jupyter.widget-view+json": {
       "model_id": "10f16b05b93a4bafb4edcd55c869613d",
       "version_major": 2,
       "version_minor": 0
      },
      "text/plain": [
       "  0%|          | 0/1000 [00:00<?, ?it/s]"
      ]
     },
     "metadata": {},
     "output_type": "display_data"
    },
    {
     "name": "stdout",
     "output_type": "stream",
     "text": [
      "https://www.bitstamp.net/api/v2/ohlc/ethusd/?&currency_pair=ethusd&step=900&limit=1000&start=1612137600\n",
      "Downloaded from 2021-02-01 00:00:00(1612137600) to 2021-02-11 09:45:00(1613036700) 1757.24\n",
      "Processing 1000 of ethusd\n"
     ]
    },
    {
     "data": {
      "application/vnd.jupyter.widget-view+json": {
       "model_id": "b20d185291044753a85cd00033c226e5",
       "version_major": 2,
       "version_minor": 0
      },
      "text/plain": [
       "  0%|          | 0/1000 [00:00<?, ?it/s]"
      ]
     },
     "metadata": {},
     "output_type": "display_data"
    },
    {
     "name": "stdout",
     "output_type": "stream",
     "text": [
      "https://www.bitstamp.net/api/v2/ohlc/ltcusd/?&currency_pair=ltcusd&step=900&limit=1000&start=1612137600\n",
      "Downloaded from 2021-02-01 00:00:00(1612137600) to 2021-02-11 09:45:00(1613036700) 186.32\n",
      "Processing 1000 of ltcusd\n"
     ]
    },
    {
     "data": {
      "application/vnd.jupyter.widget-view+json": {
       "model_id": "9f45ac1d623e4f01a72a67effecb8e1a",
       "version_major": 2,
       "version_minor": 0
      },
      "text/plain": [
       "  0%|          | 0/1000 [00:00<?, ?it/s]"
      ]
     },
     "metadata": {},
     "output_type": "display_data"
    },
    {
     "name": "stdout",
     "output_type": "stream",
     "text": [
      "https://www.bitstamp.net/api/v2/ohlc/ltcbtc/?&currency_pair=ltcbtc&step=900&limit=1000&start=1612137600\n",
      "Downloaded from 2021-02-01 00:00:00(1612137600) to 2021-02-11 09:45:00(1613036700) 0.00413427\n",
      "Processing 1000 of ltcbtc\n"
     ]
    },
    {
     "data": {
      "application/vnd.jupyter.widget-view+json": {
       "model_id": "c675322e71cb49e7b0aea0ea9d02fb74",
       "version_major": 2,
       "version_minor": 0
      },
      "text/plain": [
       "  0%|          | 0/1000 [00:00<?, ?it/s]"
      ]
     },
     "metadata": {},
     "output_type": "display_data"
    },
    {
     "name": "stdout",
     "output_type": "stream",
     "text": [
      "https://www.bitstamp.net/api/v2/ohlc/btcusd/?&currency_pair=btcusd&step=900&limit=1000&start=1623711600\n",
      "https://www.bitstamp.net/api/v2/ohlc/btcusd/?&currency_pair=btcusd&step=900&limit=1000&start=1624611600\n",
      "https://www.bitstamp.net/api/v2/ohlc/btcusd/?&currency_pair=btcusd&step=900&limit=1000&start=1625511600\n",
      "Downloaded from 2021-06-15 00:00:00(1623711600) to 2021-07-15 00:00:00(1626303600) 32978.97\n",
      "Processing 2881 of btcusd\n"
     ]
    },
    {
     "data": {
      "application/vnd.jupyter.widget-view+json": {
       "model_id": "d61d4c2ad4aa44b9a1bd2113880b3253",
       "version_major": 2,
       "version_minor": 0
      },
      "text/plain": [
       "  0%|          | 0/2881 [00:00<?, ?it/s]"
      ]
     },
     "metadata": {},
     "output_type": "display_data"
    },
    {
     "name": "stdout",
     "output_type": "stream",
     "text": [
      "https://www.bitstamp.net/api/v2/ohlc/ethusd/?&currency_pair=ethusd&step=900&limit=1000&start=1623711600\n",
      "https://www.bitstamp.net/api/v2/ohlc/ethusd/?&currency_pair=ethusd&step=900&limit=1000&start=1624611600\n",
      "https://www.bitstamp.net/api/v2/ohlc/ethusd/?&currency_pair=ethusd&step=900&limit=1000&start=1625511600\n",
      "Downloaded from 2021-06-15 00:00:00(1623711600) to 2021-07-15 00:00:00(1626303600) 2005.17\n",
      "Processing 2881 of ethusd\n"
     ]
    },
    {
     "data": {
      "application/vnd.jupyter.widget-view+json": {
       "model_id": "0b49034a228843638b2daa6adbadde97",
       "version_major": 2,
       "version_minor": 0
      },
      "text/plain": [
       "  0%|          | 0/2881 [00:00<?, ?it/s]"
      ]
     },
     "metadata": {},
     "output_type": "display_data"
    },
    {
     "name": "stdout",
     "output_type": "stream",
     "text": [
      "https://www.bitstamp.net/api/v2/ohlc/ltcusd/?&currency_pair=ltcusd&step=900&limit=1000&start=1623711600\n",
      "https://www.bitstamp.net/api/v2/ohlc/ltcusd/?&currency_pair=ltcusd&step=900&limit=1000&start=1624611600\n",
      "https://www.bitstamp.net/api/v2/ohlc/ltcusd/?&currency_pair=ltcusd&step=900&limit=1000&start=1625511600\n",
      "Downloaded from 2021-06-15 00:00:00(1623711600) to 2021-07-15 00:00:00(1626303600) 131.22\n",
      "Processing 2881 of ltcusd\n"
     ]
    },
    {
     "data": {
      "application/vnd.jupyter.widget-view+json": {
       "model_id": "6c61344c419544f1a675ce2fbfbdad14",
       "version_major": 2,
       "version_minor": 0
      },
      "text/plain": [
       "  0%|          | 0/2881 [00:00<?, ?it/s]"
      ]
     },
     "metadata": {},
     "output_type": "display_data"
    },
    {
     "name": "stdout",
     "output_type": "stream",
     "text": [
      "https://www.bitstamp.net/api/v2/ohlc/ltcbtc/?&currency_pair=ltcbtc&step=900&limit=1000&start=1623711600\n",
      "https://www.bitstamp.net/api/v2/ohlc/ltcbtc/?&currency_pair=ltcbtc&step=900&limit=1000&start=1624611600\n",
      "https://www.bitstamp.net/api/v2/ohlc/ltcbtc/?&currency_pair=ltcbtc&step=900&limit=1000&start=1625511600\n",
      "Downloaded from 2021-06-15 00:00:00(1623711600) to 2021-07-15 00:00:00(1626303600) 0.00398347\n",
      "Processing 2881 of ltcbtc\n"
     ]
    },
    {
     "data": {
      "application/vnd.jupyter.widget-view+json": {
       "model_id": "05e8fb6671454a6296100e87724be48d",
       "version_major": 2,
       "version_minor": 0
      },
      "text/plain": [
       "  0%|          | 0/2881 [00:00<?, ?it/s]"
      ]
     },
     "metadata": {},
     "output_type": "display_data"
    },
    {
     "name": "stdout",
     "output_type": "stream",
     "text": [
      "data/online20_15 -> OnLineDataProvider (val_keys = {'btcusd': 3, 'ethusd': 3, 'ltcusd': 3, 'ltcbtc': 3}, train_data = 2 , data_detail = DataDetail (windows = 20, minutes = 15, steps_ahead = 1)))\n",
      "https://www.bitstamp.net/api/v2/ohlc/btcusd/?&currency_pair=btcusd&step=900&limit=1000&start=1622502000\n",
      "Downloaded from 2021-06-01 00:00:00(1622502000) to 2021-06-11 09:45:00(1623401100) 37001.01\n",
      "Processing 1000 of btcusd\n"
     ]
    },
    {
     "data": {
      "application/vnd.jupyter.widget-view+json": {
       "model_id": "05dc34a6be154690b34b4d98ca739a93",
       "version_major": 2,
       "version_minor": 0
      },
      "text/plain": [
       "  0%|          | 0/1000 [00:00<?, ?it/s]"
      ]
     },
     "metadata": {},
     "output_type": "display_data"
    },
    {
     "name": "stdout",
     "output_type": "stream",
     "text": [
      "https://www.bitstamp.net/api/v2/ohlc/ethusd/?&currency_pair=ethusd&step=900&limit=1000&start=1622502000\n",
      "Downloaded from 2021-06-01 00:00:00(1622502000) to 2021-06-11 09:45:00(1623401100) 2450.30\n",
      "Processing 1000 of ethusd\n"
     ]
    },
    {
     "data": {
      "application/vnd.jupyter.widget-view+json": {
       "model_id": "26853bf34be14516b05432f2b82e0229",
       "version_major": 2,
       "version_minor": 0
      },
      "text/plain": [
       "  0%|          | 0/1000 [00:00<?, ?it/s]"
      ]
     },
     "metadata": {},
     "output_type": "display_data"
    },
    {
     "name": "stdout",
     "output_type": "stream",
     "text": [
      "https://www.bitstamp.net/api/v2/ohlc/ltcusd/?&currency_pair=ltcusd&step=900&limit=1000&start=1622502000\n",
      "Downloaded from 2021-06-01 00:00:00(1622502000) to 2021-06-11 09:45:00(1623401100) 169.68\n",
      "Processing 1000 of ltcusd\n"
     ]
    },
    {
     "data": {
      "application/vnd.jupyter.widget-view+json": {
       "model_id": "8f4c756d34754d77bdb8578f03343d53",
       "version_major": 2,
       "version_minor": 0
      },
      "text/plain": [
       "  0%|          | 0/1000 [00:00<?, ?it/s]"
      ]
     },
     "metadata": {},
     "output_type": "display_data"
    },
    {
     "name": "stdout",
     "output_type": "stream",
     "text": [
      "https://www.bitstamp.net/api/v2/ohlc/ltcbtc/?&currency_pair=ltcbtc&step=900&limit=1000&start=1622502000\n",
      "Downloaded from 2021-06-01 00:00:00(1622502000) to 2021-06-11 09:45:00(1623401100) 0.00458926\n",
      "Processing 1000 of ltcbtc\n"
     ]
    },
    {
     "data": {
      "application/vnd.jupyter.widget-view+json": {
       "model_id": "f4596d724a3c4e54a72421033508365e",
       "version_major": 2,
       "version_minor": 0
      },
      "text/plain": [
       "  0%|          | 0/1000 [00:00<?, ?it/s]"
      ]
     },
     "metadata": {},
     "output_type": "display_data"
    },
    {
     "name": "stdout",
     "output_type": "stream",
     "text": [
      "https://www.bitstamp.net/api/v2/ohlc/btcusd/?&currency_pair=btcusd&step=900&limit=1000&start=1590966000\n",
      "Downloaded from 2020-06-01 00:00:00(1590966000) to 2020-06-11 09:45:00(1591865100) 9820.86\n",
      "Processing 1000 of btcusd\n"
     ]
    },
    {
     "data": {
      "application/vnd.jupyter.widget-view+json": {
       "model_id": "6a01730feb1b43f58b65501fd481f42d",
       "version_major": 2,
       "version_minor": 0
      },
      "text/plain": [
       "  0%|          | 0/1000 [00:00<?, ?it/s]"
      ]
     },
     "metadata": {},
     "output_type": "display_data"
    },
    {
     "name": "stdout",
     "output_type": "stream",
     "text": [
      "https://www.bitstamp.net/api/v2/ohlc/ethusd/?&currency_pair=ethusd&step=900&limit=1000&start=1590966000\n",
      "Downloaded from 2020-06-01 00:00:00(1590966000) to 2020-06-11 09:45:00(1591865100) 246.70\n",
      "Processing 1000 of ethusd\n"
     ]
    },
    {
     "data": {
      "application/vnd.jupyter.widget-view+json": {
       "model_id": "059208cdf8e24c10b1cf4e15aadd4fbe",
       "version_major": 2,
       "version_minor": 0
      },
      "text/plain": [
       "  0%|          | 0/1000 [00:00<?, ?it/s]"
      ]
     },
     "metadata": {},
     "output_type": "display_data"
    },
    {
     "name": "stdout",
     "output_type": "stream",
     "text": [
      "https://www.bitstamp.net/api/v2/ohlc/ltcusd/?&currency_pair=ltcusd&step=900&limit=1000&start=1590966000\n",
      "Downloaded from 2020-06-01 00:00:00(1590966000) to 2020-06-11 09:45:00(1591865100) 46.34\n",
      "Processing 1000 of ltcusd\n"
     ]
    },
    {
     "data": {
      "application/vnd.jupyter.widget-view+json": {
       "model_id": "485e84e898274834bca500b76a6ac6e4",
       "version_major": 2,
       "version_minor": 0
      },
      "text/plain": [
       "  0%|          | 0/1000 [00:00<?, ?it/s]"
      ]
     },
     "metadata": {},
     "output_type": "display_data"
    },
    {
     "name": "stdout",
     "output_type": "stream",
     "text": [
      "https://www.bitstamp.net/api/v2/ohlc/ltcbtc/?&currency_pair=ltcbtc&step=900&limit=1000&start=1590966000\n",
      "Downloaded from 2020-06-01 00:00:00(1590966000) to 2020-06-11 09:45:00(1591865100) 0.00470967\n",
      "Processing 1000 of ltcbtc\n"
     ]
    },
    {
     "data": {
      "application/vnd.jupyter.widget-view+json": {
       "model_id": "84a631944a9d4086a3251d3d288d4121",
       "version_major": 2,
       "version_minor": 0
      },
      "text/plain": [
       "  0%|          | 0/1000 [00:00<?, ?it/s]"
      ]
     },
     "metadata": {},
     "output_type": "display_data"
    },
    {
     "name": "stdout",
     "output_type": "stream",
     "text": [
      "https://www.bitstamp.net/api/v2/ohlc/btcusd/?&currency_pair=btcusd&step=900&limit=1000&start=1559343600\n",
      "Downloaded from 2019-06-01 00:00:00(1559343600) to 2019-06-11 09:45:00(1560242700) 7961.80\n",
      "Processing 1000 of btcusd\n"
     ]
    },
    {
     "data": {
      "application/vnd.jupyter.widget-view+json": {
       "model_id": "11205abeddc64d9ebb2834377d8cc49f",
       "version_major": 2,
       "version_minor": 0
      },
      "text/plain": [
       "  0%|          | 0/1000 [00:00<?, ?it/s]"
      ]
     },
     "metadata": {},
     "output_type": "display_data"
    },
    {
     "name": "stdout",
     "output_type": "stream",
     "text": [
      "https://www.bitstamp.net/api/v2/ohlc/ethusd/?&currency_pair=ethusd&step=900&limit=1000&start=1559343600\n",
      "Downloaded from 2019-06-01 00:00:00(1559343600) to 2019-06-11 09:45:00(1560242700) 247.16\n",
      "Processing 1000 of ethusd\n"
     ]
    },
    {
     "data": {
      "application/vnd.jupyter.widget-view+json": {
       "model_id": "526eb6231cb44251b6861acd6ca9f76e",
       "version_major": 2,
       "version_minor": 0
      },
      "text/plain": [
       "  0%|          | 0/1000 [00:00<?, ?it/s]"
      ]
     },
     "metadata": {},
     "output_type": "display_data"
    },
    {
     "name": "stdout",
     "output_type": "stream",
     "text": [
      "https://www.bitstamp.net/api/v2/ohlc/ltcusd/?&currency_pair=ltcusd&step=900&limit=1000&start=1559343600\n",
      "Downloaded from 2019-06-01 00:00:00(1559343600) to 2019-06-11 09:45:00(1560242700) 129.66\n",
      "Processing 1000 of ltcusd\n"
     ]
    },
    {
     "data": {
      "application/vnd.jupyter.widget-view+json": {
       "model_id": "3e38fbc37c5d4ec790f5ca26d155803b",
       "version_major": 2,
       "version_minor": 0
      },
      "text/plain": [
       "  0%|          | 0/1000 [00:00<?, ?it/s]"
      ]
     },
     "metadata": {},
     "output_type": "display_data"
    },
    {
     "name": "stdout",
     "output_type": "stream",
     "text": [
      "https://www.bitstamp.net/api/v2/ohlc/ltcbtc/?&currency_pair=ltcbtc&step=900&limit=1000&start=1559343600\n",
      "Downloaded from 2019-06-01 00:00:00(1559343600) to 2019-06-11 09:45:00(1560242700) 0.01629743\n",
      "Processing 1000 of ltcbtc\n"
     ]
    },
    {
     "data": {
      "application/vnd.jupyter.widget-view+json": {
       "model_id": "4dc8ba63f92a42928d19541aeacf5877",
       "version_major": 2,
       "version_minor": 0
      },
      "text/plain": [
       "  0%|          | 0/1000 [00:00<?, ?it/s]"
      ]
     },
     "metadata": {},
     "output_type": "display_data"
    },
    {
     "name": "stdout",
     "output_type": "stream",
     "text": [
      "https://www.bitstamp.net/api/v2/ohlc/btcusd/?&currency_pair=btcusd&step=900&limit=1000&start=1527807600\n",
      "Downloaded from 2018-06-01 00:00:00(1527807600) to 2018-06-11 09:45:00(1528706700) 6795.82\n",
      "Processing 1000 of btcusd\n"
     ]
    },
    {
     "data": {
      "application/vnd.jupyter.widget-view+json": {
       "model_id": "4c4507e96fd0465bad023cb6f650275d",
       "version_major": 2,
       "version_minor": 0
      },
      "text/plain": [
       "  0%|          | 0/1000 [00:00<?, ?it/s]"
      ]
     },
     "metadata": {},
     "output_type": "display_data"
    },
    {
     "name": "stdout",
     "output_type": "stream",
     "text": [
      "https://www.bitstamp.net/api/v2/ohlc/ethusd/?&currency_pair=ethusd&step=900&limit=1000&start=1527807600\n",
      "Downloaded from 2018-06-01 00:00:00(1527807600) to 2018-06-11 09:45:00(1528706700) 532.74\n",
      "Processing 1000 of ethusd\n"
     ]
    },
    {
     "data": {
      "application/vnd.jupyter.widget-view+json": {
       "model_id": "13e8d18b543443ec80a1ac2f7daa4221",
       "version_major": 2,
       "version_minor": 0
      },
      "text/plain": [
       "  0%|          | 0/1000 [00:00<?, ?it/s]"
      ]
     },
     "metadata": {},
     "output_type": "display_data"
    },
    {
     "name": "stdout",
     "output_type": "stream",
     "text": [
      "https://www.bitstamp.net/api/v2/ohlc/ltcusd/?&currency_pair=ltcusd&step=900&limit=1000&start=1527807600\n",
      "Downloaded from 2018-06-01 00:00:00(1527807600) to 2018-06-11 09:45:00(1528706700) 107.31\n",
      "Processing 1000 of ltcusd\n"
     ]
    },
    {
     "data": {
      "application/vnd.jupyter.widget-view+json": {
       "model_id": "c8d432d23a704f9096c6bcae8a2a06d8",
       "version_major": 2,
       "version_minor": 0
      },
      "text/plain": [
       "  0%|          | 0/1000 [00:00<?, ?it/s]"
      ]
     },
     "metadata": {},
     "output_type": "display_data"
    },
    {
     "name": "stdout",
     "output_type": "stream",
     "text": [
      "https://www.bitstamp.net/api/v2/ohlc/ltcbtc/?&currency_pair=ltcbtc&step=900&limit=1000&start=1527807600\n",
      "Downloaded from 2018-06-01 00:00:00(1527807600) to 2018-06-11 09:45:00(1528706700) 0.01578000\n",
      "Processing 1000 of ltcbtc\n"
     ]
    },
    {
     "data": {
      "application/vnd.jupyter.widget-view+json": {
       "model_id": "819008d282a4466d8fc131eb9c4efb84",
       "version_major": 2,
       "version_minor": 0
      },
      "text/plain": [
       "  0%|          | 0/1000 [00:00<?, ?it/s]"
      ]
     },
     "metadata": {},
     "output_type": "display_data"
    },
    {
     "name": "stdout",
     "output_type": "stream",
     "text": [
      "https://www.bitstamp.net/api/v2/ohlc/btcusd/?&currency_pair=btcusd&step=900&limit=1000&start=1517443200\n",
      "Downloaded from 2018-02-01 00:00:00(1517443200) to 2018-02-11 09:45:00(1518342300) 8012.89\n",
      "Processing 1000 of btcusd\n"
     ]
    },
    {
     "data": {
      "application/vnd.jupyter.widget-view+json": {
       "model_id": "cf095e404d4e4800a7d76bd2e6eab7e8",
       "version_major": 2,
       "version_minor": 0
      },
      "text/plain": [
       "  0%|          | 0/1000 [00:00<?, ?it/s]"
      ]
     },
     "metadata": {},
     "output_type": "display_data"
    },
    {
     "name": "stdout",
     "output_type": "stream",
     "text": [
      "https://www.bitstamp.net/api/v2/ohlc/ethusd/?&currency_pair=ethusd&step=900&limit=1000&start=1517443200\n",
      "Downloaded from 2018-02-01 00:00:00(1517443200) to 2018-02-11 09:45:00(1518342300) 800.68\n",
      "Processing 1000 of ethusd\n"
     ]
    },
    {
     "data": {
      "application/vnd.jupyter.widget-view+json": {
       "model_id": "2134d1a925104c32add3aa9fa10f6584",
       "version_major": 2,
       "version_minor": 0
      },
      "text/plain": [
       "  0%|          | 0/1000 [00:00<?, ?it/s]"
      ]
     },
     "metadata": {},
     "output_type": "display_data"
    },
    {
     "name": "stdout",
     "output_type": "stream",
     "text": [
      "https://www.bitstamp.net/api/v2/ohlc/ltcusd/?&currency_pair=ltcusd&step=900&limit=1000&start=1517443200\n",
      "Downloaded from 2018-02-01 00:00:00(1517443200) to 2018-02-11 09:45:00(1518342300) 144.90\n",
      "Processing 1000 of ltcusd\n"
     ]
    },
    {
     "data": {
      "application/vnd.jupyter.widget-view+json": {
       "model_id": "6e3b86e4110344d0a3299df095745f64",
       "version_major": 2,
       "version_minor": 0
      },
      "text/plain": [
       "  0%|          | 0/1000 [00:00<?, ?it/s]"
      ]
     },
     "metadata": {},
     "output_type": "display_data"
    },
    {
     "name": "stdout",
     "output_type": "stream",
     "text": [
      "https://www.bitstamp.net/api/v2/ohlc/ltcbtc/?&currency_pair=ltcbtc&step=900&limit=1000&start=1517443200\n",
      "Downloaded from 2018-02-01 00:00:00(1517443200) to 2018-02-11 09:45:00(1518342300) 0.01806022\n",
      "Processing 1000 of ltcbtc\n"
     ]
    },
    {
     "data": {
      "application/vnd.jupyter.widget-view+json": {
       "model_id": "bc95c01e68c6462e922f050f0df82219",
       "version_major": 2,
       "version_minor": 0
      },
      "text/plain": [
       "  0%|          | 0/1000 [00:00<?, ?it/s]"
      ]
     },
     "metadata": {},
     "output_type": "display_data"
    },
    {
     "name": "stdout",
     "output_type": "stream",
     "text": [
      "https://www.bitstamp.net/api/v2/ohlc/btcusd/?&currency_pair=btcusd&step=900&limit=1000&start=1548979200\n",
      "Downloaded from 2019-02-01 00:00:00(1548979200) to 2019-02-11 09:45:00(1549878300) 3594.91\n",
      "Processing 1000 of btcusd\n"
     ]
    },
    {
     "data": {
      "application/vnd.jupyter.widget-view+json": {
       "model_id": "bf267b86674e47f090b2b2120016acc4",
       "version_major": 2,
       "version_minor": 0
      },
      "text/plain": [
       "  0%|          | 0/1000 [00:00<?, ?it/s]"
      ]
     },
     "metadata": {},
     "output_type": "display_data"
    },
    {
     "name": "stdout",
     "output_type": "stream",
     "text": [
      "https://www.bitstamp.net/api/v2/ohlc/ethusd/?&currency_pair=ethusd&step=900&limit=1000&start=1548979200\n",
      "Downloaded from 2019-02-01 00:00:00(1548979200) to 2019-02-11 09:45:00(1549878300) 119.46\n",
      "Processing 1000 of ethusd\n"
     ]
    },
    {
     "data": {
      "application/vnd.jupyter.widget-view+json": {
       "model_id": "a44a771fc93e4f5ca388268bc3b9af6a",
       "version_major": 2,
       "version_minor": 0
      },
      "text/plain": [
       "  0%|          | 0/1000 [00:00<?, ?it/s]"
      ]
     },
     "metadata": {},
     "output_type": "display_data"
    },
    {
     "name": "stdout",
     "output_type": "stream",
     "text": [
      "https://www.bitstamp.net/api/v2/ohlc/ltcusd/?&currency_pair=ltcusd&step=900&limit=1000&start=1548979200\n",
      "Downloaded from 2019-02-01 00:00:00(1548979200) to 2019-02-11 09:45:00(1549878300) 43.79\n",
      "Processing 1000 of ltcusd\n"
     ]
    },
    {
     "data": {
      "application/vnd.jupyter.widget-view+json": {
       "model_id": "90185b30560d49d0bc1b80fe839df626",
       "version_major": 2,
       "version_minor": 0
      },
      "text/plain": [
       "  0%|          | 0/1000 [00:00<?, ?it/s]"
      ]
     },
     "metadata": {},
     "output_type": "display_data"
    },
    {
     "name": "stdout",
     "output_type": "stream",
     "text": [
      "https://www.bitstamp.net/api/v2/ohlc/ltcbtc/?&currency_pair=ltcbtc&step=900&limit=1000&start=1548979200\n",
      "Downloaded from 2019-02-01 00:00:00(1548979200) to 2019-02-11 09:45:00(1549878300) 0.01221493\n",
      "Processing 1000 of ltcbtc\n"
     ]
    },
    {
     "data": {
      "application/vnd.jupyter.widget-view+json": {
       "model_id": "305dbf7c096a43f8a63f771c98d1006d",
       "version_major": 2,
       "version_minor": 0
      },
      "text/plain": [
       "  0%|          | 0/1000 [00:00<?, ?it/s]"
      ]
     },
     "metadata": {},
     "output_type": "display_data"
    },
    {
     "name": "stdout",
     "output_type": "stream",
     "text": [
      "https://www.bitstamp.net/api/v2/ohlc/btcusd/?&currency_pair=btcusd&step=900&limit=1000&start=1580515200\n",
      "Downloaded from 2020-02-01 00:00:00(1580515200) to 2020-02-11 09:45:00(1581414300) 9783.54\n",
      "Processing 1000 of btcusd\n"
     ]
    },
    {
     "data": {
      "application/vnd.jupyter.widget-view+json": {
       "model_id": "e9af2dad5ae04e91a083ca5928ba2c0e",
       "version_major": 2,
       "version_minor": 0
      },
      "text/plain": [
       "  0%|          | 0/1000 [00:00<?, ?it/s]"
      ]
     },
     "metadata": {},
     "output_type": "display_data"
    },
    {
     "name": "stdout",
     "output_type": "stream",
     "text": [
      "https://www.bitstamp.net/api/v2/ohlc/ethusd/?&currency_pair=ethusd&step=900&limit=1000&start=1580515200\n",
      "Downloaded from 2020-02-01 00:00:00(1580515200) to 2020-02-11 09:45:00(1581414300) 221.25\n",
      "Processing 1000 of ethusd\n"
     ]
    },
    {
     "data": {
      "application/vnd.jupyter.widget-view+json": {
       "model_id": "4bba5e8e53d042ba872147156f11d288",
       "version_major": 2,
       "version_minor": 0
      },
      "text/plain": [
       "  0%|          | 0/1000 [00:00<?, ?it/s]"
      ]
     },
     "metadata": {},
     "output_type": "display_data"
    },
    {
     "name": "stdout",
     "output_type": "stream",
     "text": [
      "https://www.bitstamp.net/api/v2/ohlc/ltcusd/?&currency_pair=ltcusd&step=900&limit=1000&start=1580515200\n",
      "Downloaded from 2020-02-01 00:00:00(1580515200) to 2020-02-11 09:45:00(1581414300) 74.22\n",
      "Processing 1000 of ltcusd\n"
     ]
    },
    {
     "data": {
      "application/vnd.jupyter.widget-view+json": {
       "model_id": "515c5ce44f7a4da3aa5db5393c48b362",
       "version_major": 2,
       "version_minor": 0
      },
      "text/plain": [
       "  0%|          | 0/1000 [00:00<?, ?it/s]"
      ]
     },
     "metadata": {},
     "output_type": "display_data"
    },
    {
     "name": "stdout",
     "output_type": "stream",
     "text": [
      "https://www.bitstamp.net/api/v2/ohlc/ltcbtc/?&currency_pair=ltcbtc&step=900&limit=1000&start=1580515200\n",
      "Downloaded from 2020-02-01 00:00:00(1580515200) to 2020-02-11 09:45:00(1581414300) 0.00757449\n",
      "Processing 1000 of ltcbtc\n"
     ]
    },
    {
     "data": {
      "application/vnd.jupyter.widget-view+json": {
       "model_id": "334d281201564da395010d9cb5dcc2be",
       "version_major": 2,
       "version_minor": 0
      },
      "text/plain": [
       "  0%|          | 0/1000 [00:00<?, ?it/s]"
      ]
     },
     "metadata": {},
     "output_type": "display_data"
    },
    {
     "name": "stdout",
     "output_type": "stream",
     "text": [
      "https://www.bitstamp.net/api/v2/ohlc/btcusd/?&currency_pair=btcusd&step=900&limit=1000&start=1612137600\n",
      "Downloaded from 2021-02-01 00:00:00(1612137600) to 2021-02-11 09:45:00(1613036700) 45154.95\n",
      "Processing 1000 of btcusd\n"
     ]
    },
    {
     "data": {
      "application/vnd.jupyter.widget-view+json": {
       "model_id": "4f521d9c0d274643a7d0467f18adf00d",
       "version_major": 2,
       "version_minor": 0
      },
      "text/plain": [
       "  0%|          | 0/1000 [00:00<?, ?it/s]"
      ]
     },
     "metadata": {},
     "output_type": "display_data"
    },
    {
     "name": "stdout",
     "output_type": "stream",
     "text": [
      "https://www.bitstamp.net/api/v2/ohlc/ethusd/?&currency_pair=ethusd&step=900&limit=1000&start=1612137600\n",
      "Downloaded from 2021-02-01 00:00:00(1612137600) to 2021-02-11 09:45:00(1613036700) 1757.24\n",
      "Processing 1000 of ethusd\n"
     ]
    },
    {
     "data": {
      "application/vnd.jupyter.widget-view+json": {
       "model_id": "62b858ca3d5a4a1e8f4c15aa289d9910",
       "version_major": 2,
       "version_minor": 0
      },
      "text/plain": [
       "  0%|          | 0/1000 [00:00<?, ?it/s]"
      ]
     },
     "metadata": {},
     "output_type": "display_data"
    },
    {
     "name": "stdout",
     "output_type": "stream",
     "text": [
      "https://www.bitstamp.net/api/v2/ohlc/ltcusd/?&currency_pair=ltcusd&step=900&limit=1000&start=1612137600\n",
      "Downloaded from 2021-02-01 00:00:00(1612137600) to 2021-02-11 09:45:00(1613036700) 186.32\n",
      "Processing 1000 of ltcusd\n"
     ]
    },
    {
     "data": {
      "application/vnd.jupyter.widget-view+json": {
       "model_id": "06a59d28a48c439aa90f4036b4172059",
       "version_major": 2,
       "version_minor": 0
      },
      "text/plain": [
       "  0%|          | 0/1000 [00:00<?, ?it/s]"
      ]
     },
     "metadata": {},
     "output_type": "display_data"
    },
    {
     "name": "stdout",
     "output_type": "stream",
     "text": [
      "https://www.bitstamp.net/api/v2/ohlc/ltcbtc/?&currency_pair=ltcbtc&step=900&limit=1000&start=1612137600\n",
      "Downloaded from 2021-02-01 00:00:00(1612137600) to 2021-02-11 09:45:00(1613036700) 0.00413427\n",
      "Processing 1000 of ltcbtc\n"
     ]
    },
    {
     "data": {
      "application/vnd.jupyter.widget-view+json": {
       "model_id": "7b63539e08654b208065051767f97679",
       "version_major": 2,
       "version_minor": 0
      },
      "text/plain": [
       "  0%|          | 0/1000 [00:00<?, ?it/s]"
      ]
     },
     "metadata": {},
     "output_type": "display_data"
    },
    {
     "name": "stdout",
     "output_type": "stream",
     "text": [
      "https://www.bitstamp.net/api/v2/ohlc/btcusd/?&currency_pair=btcusd&step=900&limit=1000&start=1623711600\n",
      "https://www.bitstamp.net/api/v2/ohlc/btcusd/?&currency_pair=btcusd&step=900&limit=1000&start=1624611600\n",
      "https://www.bitstamp.net/api/v2/ohlc/btcusd/?&currency_pair=btcusd&step=900&limit=1000&start=1625511600\n",
      "Downloaded from 2021-06-15 00:00:00(1623711600) to 2021-07-15 00:00:00(1626303600) 32978.97\n",
      "Processing 2881 of btcusd\n"
     ]
    },
    {
     "data": {
      "application/vnd.jupyter.widget-view+json": {
       "model_id": "e0bae611a4ac4fb58d377e71004a7515",
       "version_major": 2,
       "version_minor": 0
      },
      "text/plain": [
       "  0%|          | 0/2881 [00:00<?, ?it/s]"
      ]
     },
     "metadata": {},
     "output_type": "display_data"
    },
    {
     "name": "stdout",
     "output_type": "stream",
     "text": [
      "https://www.bitstamp.net/api/v2/ohlc/ethusd/?&currency_pair=ethusd&step=900&limit=1000&start=1623711600\n",
      "https://www.bitstamp.net/api/v2/ohlc/ethusd/?&currency_pair=ethusd&step=900&limit=1000&start=1624611600\n",
      "https://www.bitstamp.net/api/v2/ohlc/ethusd/?&currency_pair=ethusd&step=900&limit=1000&start=1625511600\n",
      "Downloaded from 2021-06-15 00:00:00(1623711600) to 2021-07-15 00:00:00(1626303600) 2005.17\n",
      "Processing 2881 of ethusd\n"
     ]
    },
    {
     "data": {
      "application/vnd.jupyter.widget-view+json": {
       "model_id": "c151f1981a27409584b01e70b6f23d43",
       "version_major": 2,
       "version_minor": 0
      },
      "text/plain": [
       "  0%|          | 0/2881 [00:00<?, ?it/s]"
      ]
     },
     "metadata": {},
     "output_type": "display_data"
    },
    {
     "name": "stdout",
     "output_type": "stream",
     "text": [
      "https://www.bitstamp.net/api/v2/ohlc/ltcusd/?&currency_pair=ltcusd&step=900&limit=1000&start=1623711600\n",
      "https://www.bitstamp.net/api/v2/ohlc/ltcusd/?&currency_pair=ltcusd&step=900&limit=1000&start=1624611600\n",
      "https://www.bitstamp.net/api/v2/ohlc/ltcusd/?&currency_pair=ltcusd&step=900&limit=1000&start=1625511600\n",
      "Downloaded from 2021-06-15 00:00:00(1623711600) to 2021-07-15 00:00:00(1626303600) 131.22\n",
      "Processing 2881 of ltcusd\n"
     ]
    },
    {
     "data": {
      "application/vnd.jupyter.widget-view+json": {
       "model_id": "025366590d9342b9a42d24655df7a59d",
       "version_major": 2,
       "version_minor": 0
      },
      "text/plain": [
       "  0%|          | 0/2881 [00:00<?, ?it/s]"
      ]
     },
     "metadata": {},
     "output_type": "display_data"
    },
    {
     "name": "stdout",
     "output_type": "stream",
     "text": [
      "https://www.bitstamp.net/api/v2/ohlc/ltcbtc/?&currency_pair=ltcbtc&step=900&limit=1000&start=1623711600\n",
      "https://www.bitstamp.net/api/v2/ohlc/ltcbtc/?&currency_pair=ltcbtc&step=900&limit=1000&start=1624611600\n",
      "https://www.bitstamp.net/api/v2/ohlc/ltcbtc/?&currency_pair=ltcbtc&step=900&limit=1000&start=1625511600\n",
      "Downloaded from 2021-06-15 00:00:00(1623711600) to 2021-07-15 00:00:00(1626303600) 0.00398347\n",
      "Processing 2881 of ltcbtc\n"
     ]
    },
    {
     "data": {
      "application/vnd.jupyter.widget-view+json": {
       "model_id": "1e6c1b4504924d4586bc74328a4dda61",
       "version_major": 2,
       "version_minor": 0
      },
      "text/plain": [
       "  0%|          | 0/2881 [00:00<?, ?it/s]"
      ]
     },
     "metadata": {},
     "output_type": "display_data"
    },
    {
     "name": "stdout",
     "output_type": "stream",
     "text": [
      "data/online30_15 -> OnLineDataProvider (val_keys = {'btcusd': 3, 'ethusd': 3, 'ltcusd': 3, 'ltcbtc': 3}, train_data = 2 , data_detail = DataDetail (windows = 30, minutes = 15, steps_ahead = 1)))\n",
      "https://www.bitstamp.net/api/v2/ohlc/btcusd/?&currency_pair=btcusd&step=900&limit=1000&start=1622502000\n",
      "Downloaded from 2021-06-01 00:00:00(1622502000) to 2021-06-11 09:45:00(1623401100) 37001.01\n",
      "Processing 1000 of btcusd\n"
     ]
    },
    {
     "data": {
      "application/vnd.jupyter.widget-view+json": {
       "model_id": "4d108b4c3a95424980582ac334fb6fb4",
       "version_major": 2,
       "version_minor": 0
      },
      "text/plain": [
       "  0%|          | 0/1000 [00:00<?, ?it/s]"
      ]
     },
     "metadata": {},
     "output_type": "display_data"
    },
    {
     "name": "stdout",
     "output_type": "stream",
     "text": [
      "https://www.bitstamp.net/api/v2/ohlc/ethusd/?&currency_pair=ethusd&step=900&limit=1000&start=1622502000\n",
      "Downloaded from 2021-06-01 00:00:00(1622502000) to 2021-06-11 09:45:00(1623401100) 2450.30\n",
      "Processing 1000 of ethusd\n"
     ]
    },
    {
     "data": {
      "application/vnd.jupyter.widget-view+json": {
       "model_id": "44b9cf0dc8c545608ada3bc4902c3790",
       "version_major": 2,
       "version_minor": 0
      },
      "text/plain": [
       "  0%|          | 0/1000 [00:00<?, ?it/s]"
      ]
     },
     "metadata": {},
     "output_type": "display_data"
    },
    {
     "name": "stdout",
     "output_type": "stream",
     "text": [
      "https://www.bitstamp.net/api/v2/ohlc/ltcusd/?&currency_pair=ltcusd&step=900&limit=1000&start=1622502000\n",
      "Downloaded from 2021-06-01 00:00:00(1622502000) to 2021-06-11 09:45:00(1623401100) 169.68\n",
      "Processing 1000 of ltcusd\n"
     ]
    },
    {
     "data": {
      "application/vnd.jupyter.widget-view+json": {
       "model_id": "f37ebac719ab474f9f2188faaa3ef949",
       "version_major": 2,
       "version_minor": 0
      },
      "text/plain": [
       "  0%|          | 0/1000 [00:00<?, ?it/s]"
      ]
     },
     "metadata": {},
     "output_type": "display_data"
    },
    {
     "name": "stdout",
     "output_type": "stream",
     "text": [
      "https://www.bitstamp.net/api/v2/ohlc/ltcbtc/?&currency_pair=ltcbtc&step=900&limit=1000&start=1622502000\n",
      "Downloaded from 2021-06-01 00:00:00(1622502000) to 2021-06-11 09:45:00(1623401100) 0.00458926\n",
      "Processing 1000 of ltcbtc\n"
     ]
    },
    {
     "data": {
      "application/vnd.jupyter.widget-view+json": {
       "model_id": "b58c53817a9a4cdeb7f656e1b5f0c3a8",
       "version_major": 2,
       "version_minor": 0
      },
      "text/plain": [
       "  0%|          | 0/1000 [00:00<?, ?it/s]"
      ]
     },
     "metadata": {},
     "output_type": "display_data"
    },
    {
     "name": "stdout",
     "output_type": "stream",
     "text": [
      "https://www.bitstamp.net/api/v2/ohlc/btcusd/?&currency_pair=btcusd&step=900&limit=1000&start=1590966000\n",
      "Downloaded from 2020-06-01 00:00:00(1590966000) to 2020-06-11 09:45:00(1591865100) 9820.86\n",
      "Processing 1000 of btcusd\n"
     ]
    },
    {
     "data": {
      "application/vnd.jupyter.widget-view+json": {
       "model_id": "970392f77e634412adfe0ff6b7279e9b",
       "version_major": 2,
       "version_minor": 0
      },
      "text/plain": [
       "  0%|          | 0/1000 [00:00<?, ?it/s]"
      ]
     },
     "metadata": {},
     "output_type": "display_data"
    },
    {
     "name": "stdout",
     "output_type": "stream",
     "text": [
      "https://www.bitstamp.net/api/v2/ohlc/ethusd/?&currency_pair=ethusd&step=900&limit=1000&start=1590966000\n",
      "Downloaded from 2020-06-01 00:00:00(1590966000) to 2020-06-11 09:45:00(1591865100) 246.70\n",
      "Processing 1000 of ethusd\n"
     ]
    },
    {
     "data": {
      "application/vnd.jupyter.widget-view+json": {
       "model_id": "490d64727e564444bd45b3063283e4c7",
       "version_major": 2,
       "version_minor": 0
      },
      "text/plain": [
       "  0%|          | 0/1000 [00:00<?, ?it/s]"
      ]
     },
     "metadata": {},
     "output_type": "display_data"
    },
    {
     "name": "stdout",
     "output_type": "stream",
     "text": [
      "https://www.bitstamp.net/api/v2/ohlc/ltcusd/?&currency_pair=ltcusd&step=900&limit=1000&start=1590966000\n",
      "Downloaded from 2020-06-01 00:00:00(1590966000) to 2020-06-11 09:45:00(1591865100) 46.34\n",
      "Processing 1000 of ltcusd\n"
     ]
    },
    {
     "data": {
      "application/vnd.jupyter.widget-view+json": {
       "model_id": "b29cdd513c05488f98faa611dc77f7cc",
       "version_major": 2,
       "version_minor": 0
      },
      "text/plain": [
       "  0%|          | 0/1000 [00:00<?, ?it/s]"
      ]
     },
     "metadata": {},
     "output_type": "display_data"
    },
    {
     "name": "stdout",
     "output_type": "stream",
     "text": [
      "https://www.bitstamp.net/api/v2/ohlc/ltcbtc/?&currency_pair=ltcbtc&step=900&limit=1000&start=1590966000\n",
      "Downloaded from 2020-06-01 00:00:00(1590966000) to 2020-06-11 09:45:00(1591865100) 0.00470967\n",
      "Processing 1000 of ltcbtc\n"
     ]
    },
    {
     "data": {
      "application/vnd.jupyter.widget-view+json": {
       "model_id": "b6c81d845e1545f999c7ef1b3d0dbff2",
       "version_major": 2,
       "version_minor": 0
      },
      "text/plain": [
       "  0%|          | 0/1000 [00:00<?, ?it/s]"
      ]
     },
     "metadata": {},
     "output_type": "display_data"
    },
    {
     "name": "stdout",
     "output_type": "stream",
     "text": [
      "https://www.bitstamp.net/api/v2/ohlc/btcusd/?&currency_pair=btcusd&step=900&limit=1000&start=1559343600\n",
      "Downloaded from 2019-06-01 00:00:00(1559343600) to 2019-06-11 09:45:00(1560242700) 7961.80\n",
      "Processing 1000 of btcusd\n"
     ]
    },
    {
     "data": {
      "application/vnd.jupyter.widget-view+json": {
       "model_id": "e63929371384480b98c8ed9ddebc55a3",
       "version_major": 2,
       "version_minor": 0
      },
      "text/plain": [
       "  0%|          | 0/1000 [00:00<?, ?it/s]"
      ]
     },
     "metadata": {},
     "output_type": "display_data"
    },
    {
     "name": "stdout",
     "output_type": "stream",
     "text": [
      "https://www.bitstamp.net/api/v2/ohlc/ethusd/?&currency_pair=ethusd&step=900&limit=1000&start=1559343600\n",
      "Downloaded from 2019-06-01 00:00:00(1559343600) to 2019-06-11 09:45:00(1560242700) 247.16\n",
      "Processing 1000 of ethusd\n"
     ]
    },
    {
     "data": {
      "application/vnd.jupyter.widget-view+json": {
       "model_id": "6bf14c75c8c9445ab65cd5280bfc52db",
       "version_major": 2,
       "version_minor": 0
      },
      "text/plain": [
       "  0%|          | 0/1000 [00:00<?, ?it/s]"
      ]
     },
     "metadata": {},
     "output_type": "display_data"
    },
    {
     "name": "stdout",
     "output_type": "stream",
     "text": [
      "https://www.bitstamp.net/api/v2/ohlc/ltcusd/?&currency_pair=ltcusd&step=900&limit=1000&start=1559343600\n",
      "Downloaded from 2019-06-01 00:00:00(1559343600) to 2019-06-11 09:45:00(1560242700) 129.66\n",
      "Processing 1000 of ltcusd\n"
     ]
    },
    {
     "data": {
      "application/vnd.jupyter.widget-view+json": {
       "model_id": "4f1a2fb9bab647b1b10f01a885ce4dc0",
       "version_major": 2,
       "version_minor": 0
      },
      "text/plain": [
       "  0%|          | 0/1000 [00:00<?, ?it/s]"
      ]
     },
     "metadata": {},
     "output_type": "display_data"
    },
    {
     "name": "stdout",
     "output_type": "stream",
     "text": [
      "https://www.bitstamp.net/api/v2/ohlc/ltcbtc/?&currency_pair=ltcbtc&step=900&limit=1000&start=1559343600\n",
      "Downloaded from 2019-06-01 00:00:00(1559343600) to 2019-06-11 09:45:00(1560242700) 0.01629743\n",
      "Processing 1000 of ltcbtc\n"
     ]
    },
    {
     "data": {
      "application/vnd.jupyter.widget-view+json": {
       "model_id": "f6ba07162ecf4adc83f0a1be96f780c2",
       "version_major": 2,
       "version_minor": 0
      },
      "text/plain": [
       "  0%|          | 0/1000 [00:00<?, ?it/s]"
      ]
     },
     "metadata": {},
     "output_type": "display_data"
    },
    {
     "name": "stdout",
     "output_type": "stream",
     "text": [
      "https://www.bitstamp.net/api/v2/ohlc/btcusd/?&currency_pair=btcusd&step=900&limit=1000&start=1527807600\n",
      "Downloaded from 2018-06-01 00:00:00(1527807600) to 2018-06-11 09:45:00(1528706700) 6795.82\n",
      "Processing 1000 of btcusd\n"
     ]
    },
    {
     "data": {
      "application/vnd.jupyter.widget-view+json": {
       "model_id": "d1a2a0804d8045b8b00daac73653a97b",
       "version_major": 2,
       "version_minor": 0
      },
      "text/plain": [
       "  0%|          | 0/1000 [00:00<?, ?it/s]"
      ]
     },
     "metadata": {},
     "output_type": "display_data"
    },
    {
     "name": "stdout",
     "output_type": "stream",
     "text": [
      "https://www.bitstamp.net/api/v2/ohlc/ethusd/?&currency_pair=ethusd&step=900&limit=1000&start=1527807600\n",
      "Downloaded from 2018-06-01 00:00:00(1527807600) to 2018-06-11 09:45:00(1528706700) 532.74\n",
      "Processing 1000 of ethusd\n"
     ]
    },
    {
     "data": {
      "application/vnd.jupyter.widget-view+json": {
       "model_id": "60e586dc1e214033ba9ba0ebdfebbdc1",
       "version_major": 2,
       "version_minor": 0
      },
      "text/plain": [
       "  0%|          | 0/1000 [00:00<?, ?it/s]"
      ]
     },
     "metadata": {},
     "output_type": "display_data"
    },
    {
     "name": "stdout",
     "output_type": "stream",
     "text": [
      "https://www.bitstamp.net/api/v2/ohlc/ltcusd/?&currency_pair=ltcusd&step=900&limit=1000&start=1527807600\n",
      "Downloaded from 2018-06-01 00:00:00(1527807600) to 2018-06-11 09:45:00(1528706700) 107.31\n",
      "Processing 1000 of ltcusd\n"
     ]
    },
    {
     "data": {
      "application/vnd.jupyter.widget-view+json": {
       "model_id": "c1967ca6d6fc41f19d399421082df2b1",
       "version_major": 2,
       "version_minor": 0
      },
      "text/plain": [
       "  0%|          | 0/1000 [00:00<?, ?it/s]"
      ]
     },
     "metadata": {},
     "output_type": "display_data"
    },
    {
     "name": "stdout",
     "output_type": "stream",
     "text": [
      "https://www.bitstamp.net/api/v2/ohlc/ltcbtc/?&currency_pair=ltcbtc&step=900&limit=1000&start=1527807600\n",
      "Downloaded from 2018-06-01 00:00:00(1527807600) to 2018-06-11 09:45:00(1528706700) 0.01578000\n",
      "Processing 1000 of ltcbtc\n"
     ]
    },
    {
     "data": {
      "application/vnd.jupyter.widget-view+json": {
       "model_id": "c6bfa61e029b45a6b274b85f386da7db",
       "version_major": 2,
       "version_minor": 0
      },
      "text/plain": [
       "  0%|          | 0/1000 [00:00<?, ?it/s]"
      ]
     },
     "metadata": {},
     "output_type": "display_data"
    },
    {
     "name": "stdout",
     "output_type": "stream",
     "text": [
      "https://www.bitstamp.net/api/v2/ohlc/btcusd/?&currency_pair=btcusd&step=900&limit=1000&start=1517443200\n",
      "Downloaded from 2018-02-01 00:00:00(1517443200) to 2018-02-11 09:45:00(1518342300) 8012.89\n",
      "Processing 1000 of btcusd\n"
     ]
    },
    {
     "data": {
      "application/vnd.jupyter.widget-view+json": {
       "model_id": "d638b8c1fb3047459507c6cef603175a",
       "version_major": 2,
       "version_minor": 0
      },
      "text/plain": [
       "  0%|          | 0/1000 [00:00<?, ?it/s]"
      ]
     },
     "metadata": {},
     "output_type": "display_data"
    },
    {
     "name": "stdout",
     "output_type": "stream",
     "text": [
      "https://www.bitstamp.net/api/v2/ohlc/ethusd/?&currency_pair=ethusd&step=900&limit=1000&start=1517443200\n",
      "Downloaded from 2018-02-01 00:00:00(1517443200) to 2018-02-11 09:45:00(1518342300) 800.68\n",
      "Processing 1000 of ethusd\n"
     ]
    },
    {
     "data": {
      "application/vnd.jupyter.widget-view+json": {
       "model_id": "efffe9c0786a45fdbae531c23b94ea75",
       "version_major": 2,
       "version_minor": 0
      },
      "text/plain": [
       "  0%|          | 0/1000 [00:00<?, ?it/s]"
      ]
     },
     "metadata": {},
     "output_type": "display_data"
    },
    {
     "name": "stdout",
     "output_type": "stream",
     "text": [
      "https://www.bitstamp.net/api/v2/ohlc/ltcusd/?&currency_pair=ltcusd&step=900&limit=1000&start=1517443200\n",
      "Downloaded from 2018-02-01 00:00:00(1517443200) to 2018-02-11 09:45:00(1518342300) 144.90\n",
      "Processing 1000 of ltcusd\n"
     ]
    },
    {
     "data": {
      "application/vnd.jupyter.widget-view+json": {
       "model_id": "12337c812e9c493f8abd00c09ede5e3c",
       "version_major": 2,
       "version_minor": 0
      },
      "text/plain": [
       "  0%|          | 0/1000 [00:00<?, ?it/s]"
      ]
     },
     "metadata": {},
     "output_type": "display_data"
    },
    {
     "name": "stdout",
     "output_type": "stream",
     "text": [
      "https://www.bitstamp.net/api/v2/ohlc/ltcbtc/?&currency_pair=ltcbtc&step=900&limit=1000&start=1517443200\n",
      "Downloaded from 2018-02-01 00:00:00(1517443200) to 2018-02-11 09:45:00(1518342300) 0.01806022\n",
      "Processing 1000 of ltcbtc\n"
     ]
    },
    {
     "data": {
      "application/vnd.jupyter.widget-view+json": {
       "model_id": "0bf2fce13b4a4109ad99023c1bed99dc",
       "version_major": 2,
       "version_minor": 0
      },
      "text/plain": [
       "  0%|          | 0/1000 [00:00<?, ?it/s]"
      ]
     },
     "metadata": {},
     "output_type": "display_data"
    },
    {
     "name": "stdout",
     "output_type": "stream",
     "text": [
      "https://www.bitstamp.net/api/v2/ohlc/btcusd/?&currency_pair=btcusd&step=900&limit=1000&start=1548979200\n",
      "Downloaded from 2019-02-01 00:00:00(1548979200) to 2019-02-11 09:45:00(1549878300) 3594.91\n",
      "Processing 1000 of btcusd\n"
     ]
    },
    {
     "data": {
      "application/vnd.jupyter.widget-view+json": {
       "model_id": "eaaa032d2d3b4dc68a5aa33c48738fe1",
       "version_major": 2,
       "version_minor": 0
      },
      "text/plain": [
       "  0%|          | 0/1000 [00:00<?, ?it/s]"
      ]
     },
     "metadata": {},
     "output_type": "display_data"
    },
    {
     "name": "stdout",
     "output_type": "stream",
     "text": [
      "https://www.bitstamp.net/api/v2/ohlc/ethusd/?&currency_pair=ethusd&step=900&limit=1000&start=1548979200\n",
      "Downloaded from 2019-02-01 00:00:00(1548979200) to 2019-02-11 09:45:00(1549878300) 119.46\n",
      "Processing 1000 of ethusd\n"
     ]
    },
    {
     "data": {
      "application/vnd.jupyter.widget-view+json": {
       "model_id": "e1226204fbac4f659d60e992c1cc494a",
       "version_major": 2,
       "version_minor": 0
      },
      "text/plain": [
       "  0%|          | 0/1000 [00:00<?, ?it/s]"
      ]
     },
     "metadata": {},
     "output_type": "display_data"
    },
    {
     "name": "stdout",
     "output_type": "stream",
     "text": [
      "https://www.bitstamp.net/api/v2/ohlc/ltcusd/?&currency_pair=ltcusd&step=900&limit=1000&start=1548979200\n",
      "Downloaded from 2019-02-01 00:00:00(1548979200) to 2019-02-11 09:45:00(1549878300) 43.79\n",
      "Processing 1000 of ltcusd\n"
     ]
    },
    {
     "data": {
      "application/vnd.jupyter.widget-view+json": {
       "model_id": "6102ddc28f6441ee94771771f954d237",
       "version_major": 2,
       "version_minor": 0
      },
      "text/plain": [
       "  0%|          | 0/1000 [00:00<?, ?it/s]"
      ]
     },
     "metadata": {},
     "output_type": "display_data"
    },
    {
     "name": "stdout",
     "output_type": "stream",
     "text": [
      "https://www.bitstamp.net/api/v2/ohlc/ltcbtc/?&currency_pair=ltcbtc&step=900&limit=1000&start=1548979200\n",
      "Downloaded from 2019-02-01 00:00:00(1548979200) to 2019-02-11 09:45:00(1549878300) 0.01221493\n",
      "Processing 1000 of ltcbtc\n"
     ]
    },
    {
     "data": {
      "application/vnd.jupyter.widget-view+json": {
       "model_id": "3cf12a0e3699405a8be4844496fab9f3",
       "version_major": 2,
       "version_minor": 0
      },
      "text/plain": [
       "  0%|          | 0/1000 [00:00<?, ?it/s]"
      ]
     },
     "metadata": {},
     "output_type": "display_data"
    },
    {
     "name": "stdout",
     "output_type": "stream",
     "text": [
      "https://www.bitstamp.net/api/v2/ohlc/btcusd/?&currency_pair=btcusd&step=900&limit=1000&start=1580515200\n",
      "Downloaded from 2020-02-01 00:00:00(1580515200) to 2020-02-11 09:45:00(1581414300) 9783.54\n",
      "Processing 1000 of btcusd\n"
     ]
    },
    {
     "data": {
      "application/vnd.jupyter.widget-view+json": {
       "model_id": "0098217dbea643af88ca0a57cd3817f3",
       "version_major": 2,
       "version_minor": 0
      },
      "text/plain": [
       "  0%|          | 0/1000 [00:00<?, ?it/s]"
      ]
     },
     "metadata": {},
     "output_type": "display_data"
    },
    {
     "name": "stdout",
     "output_type": "stream",
     "text": [
      "https://www.bitstamp.net/api/v2/ohlc/ethusd/?&currency_pair=ethusd&step=900&limit=1000&start=1580515200\n",
      "Downloaded from 2020-02-01 00:00:00(1580515200) to 2020-02-11 09:45:00(1581414300) 221.25\n",
      "Processing 1000 of ethusd\n"
     ]
    },
    {
     "data": {
      "application/vnd.jupyter.widget-view+json": {
       "model_id": "c77f4e7702464e0f9962bf216800346b",
       "version_major": 2,
       "version_minor": 0
      },
      "text/plain": [
       "  0%|          | 0/1000 [00:00<?, ?it/s]"
      ]
     },
     "metadata": {},
     "output_type": "display_data"
    },
    {
     "name": "stdout",
     "output_type": "stream",
     "text": [
      "https://www.bitstamp.net/api/v2/ohlc/ltcusd/?&currency_pair=ltcusd&step=900&limit=1000&start=1580515200\n",
      "Downloaded from 2020-02-01 00:00:00(1580515200) to 2020-02-11 09:45:00(1581414300) 74.22\n",
      "Processing 1000 of ltcusd\n"
     ]
    },
    {
     "data": {
      "application/vnd.jupyter.widget-view+json": {
       "model_id": "5ea111345cd64023a5bb80530835a5c9",
       "version_major": 2,
       "version_minor": 0
      },
      "text/plain": [
       "  0%|          | 0/1000 [00:00<?, ?it/s]"
      ]
     },
     "metadata": {},
     "output_type": "display_data"
    },
    {
     "name": "stdout",
     "output_type": "stream",
     "text": [
      "https://www.bitstamp.net/api/v2/ohlc/ltcbtc/?&currency_pair=ltcbtc&step=900&limit=1000&start=1580515200\n",
      "Downloaded from 2020-02-01 00:00:00(1580515200) to 2020-02-11 09:45:00(1581414300) 0.00757449\n",
      "Processing 1000 of ltcbtc\n"
     ]
    },
    {
     "data": {
      "application/vnd.jupyter.widget-view+json": {
       "model_id": "0e9f92a7694a41b89619b96a51943717",
       "version_major": 2,
       "version_minor": 0
      },
      "text/plain": [
       "  0%|          | 0/1000 [00:00<?, ?it/s]"
      ]
     },
     "metadata": {},
     "output_type": "display_data"
    },
    {
     "name": "stdout",
     "output_type": "stream",
     "text": [
      "https://www.bitstamp.net/api/v2/ohlc/btcusd/?&currency_pair=btcusd&step=900&limit=1000&start=1612137600\n",
      "Downloaded from 2021-02-01 00:00:00(1612137600) to 2021-02-11 09:45:00(1613036700) 45154.95\n",
      "Processing 1000 of btcusd\n"
     ]
    },
    {
     "data": {
      "application/vnd.jupyter.widget-view+json": {
       "model_id": "dfa13c1ced2e404c981b5f1a24fc78dd",
       "version_major": 2,
       "version_minor": 0
      },
      "text/plain": [
       "  0%|          | 0/1000 [00:00<?, ?it/s]"
      ]
     },
     "metadata": {},
     "output_type": "display_data"
    },
    {
     "name": "stdout",
     "output_type": "stream",
     "text": [
      "https://www.bitstamp.net/api/v2/ohlc/ethusd/?&currency_pair=ethusd&step=900&limit=1000&start=1612137600\n",
      "Downloaded from 2021-02-01 00:00:00(1612137600) to 2021-02-11 09:45:00(1613036700) 1757.24\n",
      "Processing 1000 of ethusd\n"
     ]
    },
    {
     "data": {
      "application/vnd.jupyter.widget-view+json": {
       "model_id": "90d5a4993efe41a5845ea60dc733fa6d",
       "version_major": 2,
       "version_minor": 0
      },
      "text/plain": [
       "  0%|          | 0/1000 [00:00<?, ?it/s]"
      ]
     },
     "metadata": {},
     "output_type": "display_data"
    },
    {
     "name": "stdout",
     "output_type": "stream",
     "text": [
      "https://www.bitstamp.net/api/v2/ohlc/ltcusd/?&currency_pair=ltcusd&step=900&limit=1000&start=1612137600\n",
      "Downloaded from 2021-02-01 00:00:00(1612137600) to 2021-02-11 09:45:00(1613036700) 186.32\n",
      "Processing 1000 of ltcusd\n"
     ]
    },
    {
     "data": {
      "application/vnd.jupyter.widget-view+json": {
       "model_id": "92d2903767b24c2a8deec0fd44c9535c",
       "version_major": 2,
       "version_minor": 0
      },
      "text/plain": [
       "  0%|          | 0/1000 [00:00<?, ?it/s]"
      ]
     },
     "metadata": {},
     "output_type": "display_data"
    },
    {
     "name": "stdout",
     "output_type": "stream",
     "text": [
      "https://www.bitstamp.net/api/v2/ohlc/ltcbtc/?&currency_pair=ltcbtc&step=900&limit=1000&start=1612137600\n",
      "Downloaded from 2021-02-01 00:00:00(1612137600) to 2021-02-11 09:45:00(1613036700) 0.00413427\n",
      "Processing 1000 of ltcbtc\n"
     ]
    },
    {
     "data": {
      "application/vnd.jupyter.widget-view+json": {
       "model_id": "b80bef2f69e04fa7a003fe72467cd9e4",
       "version_major": 2,
       "version_minor": 0
      },
      "text/plain": [
       "  0%|          | 0/1000 [00:00<?, ?it/s]"
      ]
     },
     "metadata": {},
     "output_type": "display_data"
    },
    {
     "name": "stdout",
     "output_type": "stream",
     "text": [
      "https://www.bitstamp.net/api/v2/ohlc/btcusd/?&currency_pair=btcusd&step=900&limit=1000&start=1623711600\n",
      "https://www.bitstamp.net/api/v2/ohlc/btcusd/?&currency_pair=btcusd&step=900&limit=1000&start=1624611600\n",
      "https://www.bitstamp.net/api/v2/ohlc/btcusd/?&currency_pair=btcusd&step=900&limit=1000&start=1625511600\n",
      "Downloaded from 2021-06-15 00:00:00(1623711600) to 2021-07-15 00:00:00(1626303600) 32978.97\n",
      "Processing 2881 of btcusd\n"
     ]
    },
    {
     "data": {
      "application/vnd.jupyter.widget-view+json": {
       "model_id": "7173bce280a54fbda3711430dfef0716",
       "version_major": 2,
       "version_minor": 0
      },
      "text/plain": [
       "  0%|          | 0/2881 [00:00<?, ?it/s]"
      ]
     },
     "metadata": {},
     "output_type": "display_data"
    },
    {
     "name": "stdout",
     "output_type": "stream",
     "text": [
      "https://www.bitstamp.net/api/v2/ohlc/ethusd/?&currency_pair=ethusd&step=900&limit=1000&start=1623711600\n",
      "https://www.bitstamp.net/api/v2/ohlc/ethusd/?&currency_pair=ethusd&step=900&limit=1000&start=1624611600\n",
      "https://www.bitstamp.net/api/v2/ohlc/ethusd/?&currency_pair=ethusd&step=900&limit=1000&start=1625511600\n",
      "Downloaded from 2021-06-15 00:00:00(1623711600) to 2021-07-15 00:00:00(1626303600) 2005.17\n",
      "Processing 2881 of ethusd\n"
     ]
    },
    {
     "data": {
      "application/vnd.jupyter.widget-view+json": {
       "model_id": "d76b9d00a3b24b089d150fde2009f330",
       "version_major": 2,
       "version_minor": 0
      },
      "text/plain": [
       "  0%|          | 0/2881 [00:00<?, ?it/s]"
      ]
     },
     "metadata": {},
     "output_type": "display_data"
    },
    {
     "name": "stdout",
     "output_type": "stream",
     "text": [
      "https://www.bitstamp.net/api/v2/ohlc/ltcusd/?&currency_pair=ltcusd&step=900&limit=1000&start=1623711600\n",
      "https://www.bitstamp.net/api/v2/ohlc/ltcusd/?&currency_pair=ltcusd&step=900&limit=1000&start=1624611600\n",
      "https://www.bitstamp.net/api/v2/ohlc/ltcusd/?&currency_pair=ltcusd&step=900&limit=1000&start=1625511600\n",
      "Downloaded from 2021-06-15 00:00:00(1623711600) to 2021-07-15 00:00:00(1626303600) 131.22\n",
      "Processing 2881 of ltcusd\n"
     ]
    },
    {
     "data": {
      "application/vnd.jupyter.widget-view+json": {
       "model_id": "29125c94f14f46d7a62d2c052acc13c4",
       "version_major": 2,
       "version_minor": 0
      },
      "text/plain": [
       "  0%|          | 0/2881 [00:00<?, ?it/s]"
      ]
     },
     "metadata": {},
     "output_type": "display_data"
    },
    {
     "name": "stdout",
     "output_type": "stream",
     "text": [
      "https://www.bitstamp.net/api/v2/ohlc/ltcbtc/?&currency_pair=ltcbtc&step=900&limit=1000&start=1623711600\n",
      "https://www.bitstamp.net/api/v2/ohlc/ltcbtc/?&currency_pair=ltcbtc&step=900&limit=1000&start=1624611600\n",
      "https://www.bitstamp.net/api/v2/ohlc/ltcbtc/?&currency_pair=ltcbtc&step=900&limit=1000&start=1625511600\n",
      "Downloaded from 2021-06-15 00:00:00(1623711600) to 2021-07-15 00:00:00(1626303600) 0.00398347\n",
      "Processing 2881 of ltcbtc\n"
     ]
    },
    {
     "data": {
      "application/vnd.jupyter.widget-view+json": {
       "model_id": "df84f56f2f05411aa9350a218c4c7688",
       "version_major": 2,
       "version_minor": 0
      },
      "text/plain": [
       "  0%|          | 0/2881 [00:00<?, ?it/s]"
      ]
     },
     "metadata": {},
     "output_type": "display_data"
    },
    {
     "name": "stdout",
     "output_type": "stream",
     "text": [
      "data/online40_15 -> OnLineDataProvider (val_keys = {'btcusd': 3, 'ethusd': 3, 'ltcusd': 3, 'ltcbtc': 3}, train_data = 2 , data_detail = DataDetail (windows = 40, minutes = 15, steps_ahead = 1)))\n",
      "https://www.bitstamp.net/api/v2/ohlc/btcusd/?&currency_pair=btcusd&step=300&limit=1000&start=1622502000\n",
      "Downloaded from 2021-06-01 00:00:00(1622502000) to 2021-06-04 11:15:00(1622801700) 36979.84\n",
      "Processing 1000 of btcusd\n"
     ]
    },
    {
     "data": {
      "application/vnd.jupyter.widget-view+json": {
       "model_id": "30907248209e4c7a8c93155a01177714",
       "version_major": 2,
       "version_minor": 0
      },
      "text/plain": [
       "  0%|          | 0/1000 [00:00<?, ?it/s]"
      ]
     },
     "metadata": {},
     "output_type": "display_data"
    },
    {
     "name": "stdout",
     "output_type": "stream",
     "text": [
      "https://www.bitstamp.net/api/v2/ohlc/ethusd/?&currency_pair=ethusd&step=300&limit=1000&start=1622502000\n",
      "Downloaded from 2021-06-01 00:00:00(1622502000) to 2021-06-04 11:15:00(1622801700) 2662.21\n",
      "Processing 1000 of ethusd\n"
     ]
    },
    {
     "data": {
      "application/vnd.jupyter.widget-view+json": {
       "model_id": "4d4a8c367eba48d18244fd190a1ec391",
       "version_major": 2,
       "version_minor": 0
      },
      "text/plain": [
       "  0%|          | 0/1000 [00:00<?, ?it/s]"
      ]
     },
     "metadata": {},
     "output_type": "display_data"
    },
    {
     "name": "stdout",
     "output_type": "stream",
     "text": [
      "https://www.bitstamp.net/api/v2/ohlc/ltcusd/?&currency_pair=ltcusd&step=300&limit=1000&start=1622502000\n",
      "Downloaded from 2021-06-01 00:00:00(1622502000) to 2021-06-04 11:15:00(1622801700) 177.09\n",
      "Processing 1000 of ltcusd\n"
     ]
    },
    {
     "data": {
      "application/vnd.jupyter.widget-view+json": {
       "model_id": "ea05b4f802c043a1bf3162c6bfde9c07",
       "version_major": 2,
       "version_minor": 0
      },
      "text/plain": [
       "  0%|          | 0/1000 [00:00<?, ?it/s]"
      ]
     },
     "metadata": {},
     "output_type": "display_data"
    },
    {
     "name": "stdout",
     "output_type": "stream",
     "text": [
      "https://www.bitstamp.net/api/v2/ohlc/ltcbtc/?&currency_pair=ltcbtc&step=300&limit=1000&start=1622502000\n",
      "Downloaded from 2021-06-01 00:00:00(1622502000) to 2021-06-04 11:15:00(1622801700) 0.00478308\n",
      "Processing 1000 of ltcbtc\n"
     ]
    },
    {
     "data": {
      "application/vnd.jupyter.widget-view+json": {
       "model_id": "2275209e1db544b9861e246f1022d034",
       "version_major": 2,
       "version_minor": 0
      },
      "text/plain": [
       "  0%|          | 0/1000 [00:00<?, ?it/s]"
      ]
     },
     "metadata": {},
     "output_type": "display_data"
    },
    {
     "name": "stdout",
     "output_type": "stream",
     "text": [
      "https://www.bitstamp.net/api/v2/ohlc/btcusd/?&currency_pair=btcusd&step=300&limit=1000&start=1590966000\n",
      "Downloaded from 2020-06-01 00:00:00(1590966000) to 2020-06-04 11:15:00(1591265700) 9520.48\n",
      "Processing 1000 of btcusd\n"
     ]
    },
    {
     "data": {
      "application/vnd.jupyter.widget-view+json": {
       "model_id": "4e9d28b27b814057847c2c2f9426ab0c",
       "version_major": 2,
       "version_minor": 0
      },
      "text/plain": [
       "  0%|          | 0/1000 [00:00<?, ?it/s]"
      ]
     },
     "metadata": {},
     "output_type": "display_data"
    },
    {
     "name": "stdout",
     "output_type": "stream",
     "text": [
      "https://www.bitstamp.net/api/v2/ohlc/ethusd/?&currency_pair=ethusd&step=300&limit=1000&start=1590966000\n",
      "Downloaded from 2020-06-01 00:00:00(1590966000) to 2020-06-04 11:15:00(1591265700) 239.28\n",
      "Processing 1000 of ethusd\n"
     ]
    },
    {
     "data": {
      "application/vnd.jupyter.widget-view+json": {
       "model_id": "f06a1af815b14d5a9ca1e389ef35d306",
       "version_major": 2,
       "version_minor": 0
      },
      "text/plain": [
       "  0%|          | 0/1000 [00:00<?, ?it/s]"
      ]
     },
     "metadata": {},
     "output_type": "display_data"
    },
    {
     "name": "stdout",
     "output_type": "stream",
     "text": [
      "https://www.bitstamp.net/api/v2/ohlc/ltcusd/?&currency_pair=ltcusd&step=300&limit=1000&start=1590966000\n",
      "Downloaded from 2020-06-01 00:00:00(1590966000) to 2020-06-04 11:15:00(1591265700) 46.81\n",
      "Processing 1000 of ltcusd\n"
     ]
    },
    {
     "data": {
      "application/vnd.jupyter.widget-view+json": {
       "model_id": "25065e5c8ead45ebb84b51a44278883e",
       "version_major": 2,
       "version_minor": 0
      },
      "text/plain": [
       "  0%|          | 0/1000 [00:00<?, ?it/s]"
      ]
     },
     "metadata": {},
     "output_type": "display_data"
    },
    {
     "name": "stdout",
     "output_type": "stream",
     "text": [
      "https://www.bitstamp.net/api/v2/ohlc/ltcbtc/?&currency_pair=ltcbtc&step=300&limit=1000&start=1590966000\n",
      "Downloaded from 2020-06-01 00:00:00(1590966000) to 2020-06-04 11:15:00(1591265700) 0.00493915\n",
      "Processing 1000 of ltcbtc\n"
     ]
    },
    {
     "data": {
      "application/vnd.jupyter.widget-view+json": {
       "model_id": "060cc86ea59240458824789e1cbdee2f",
       "version_major": 2,
       "version_minor": 0
      },
      "text/plain": [
       "  0%|          | 0/1000 [00:00<?, ?it/s]"
      ]
     },
     "metadata": {},
     "output_type": "display_data"
    },
    {
     "name": "stdout",
     "output_type": "stream",
     "text": [
      "https://www.bitstamp.net/api/v2/ohlc/btcusd/?&currency_pair=btcusd&step=300&limit=1000&start=1559343600\n",
      "Downloaded from 2019-06-01 00:00:00(1559343600) to 2019-06-04 11:15:00(1559643300) 7963.92\n",
      "Processing 1000 of btcusd\n"
     ]
    },
    {
     "data": {
      "application/vnd.jupyter.widget-view+json": {
       "model_id": "a623ccacaa55444582dff94ffb9e0479",
       "version_major": 2,
       "version_minor": 0
      },
      "text/plain": [
       "  0%|          | 0/1000 [00:00<?, ?it/s]"
      ]
     },
     "metadata": {},
     "output_type": "display_data"
    },
    {
     "name": "stdout",
     "output_type": "stream",
     "text": [
      "https://www.bitstamp.net/api/v2/ohlc/ethusd/?&currency_pair=ethusd&step=300&limit=1000&start=1559343600\n",
      "Downloaded from 2019-06-01 00:00:00(1559343600) to 2019-06-04 11:15:00(1559643300) 247.42\n",
      "Processing 1000 of ethusd\n"
     ]
    },
    {
     "data": {
      "application/vnd.jupyter.widget-view+json": {
       "model_id": "b0faaa5896134c79a422cee138bf2cb9",
       "version_major": 2,
       "version_minor": 0
      },
      "text/plain": [
       "  0%|          | 0/1000 [00:00<?, ?it/s]"
      ]
     },
     "metadata": {},
     "output_type": "display_data"
    },
    {
     "name": "stdout",
     "output_type": "stream",
     "text": [
      "https://www.bitstamp.net/api/v2/ohlc/ltcusd/?&currency_pair=ltcusd&step=300&limit=1000&start=1559343600\n",
      "Downloaded from 2019-06-01 00:00:00(1559343600) to 2019-06-04 11:15:00(1559643300) 105.11\n",
      "Processing 1000 of ltcusd\n"
     ]
    },
    {
     "data": {
      "application/vnd.jupyter.widget-view+json": {
       "model_id": "e15c15059ae64a648dca513f6c0ae082",
       "version_major": 2,
       "version_minor": 0
      },
      "text/plain": [
       "  0%|          | 0/1000 [00:00<?, ?it/s]"
      ]
     },
     "metadata": {},
     "output_type": "display_data"
    },
    {
     "name": "stdout",
     "output_type": "stream",
     "text": [
      "https://www.bitstamp.net/api/v2/ohlc/ltcbtc/?&currency_pair=ltcbtc&step=300&limit=1000&start=1559343600\n",
      "Downloaded from 2019-06-01 00:00:00(1559343600) to 2019-06-04 11:15:00(1559643300) 0.01321994\n",
      "Processing 1000 of ltcbtc\n"
     ]
    },
    {
     "data": {
      "application/vnd.jupyter.widget-view+json": {
       "model_id": "70693daf7dba4d93ae9c35f033c8918c",
       "version_major": 2,
       "version_minor": 0
      },
      "text/plain": [
       "  0%|          | 0/1000 [00:00<?, ?it/s]"
      ]
     },
     "metadata": {},
     "output_type": "display_data"
    },
    {
     "name": "stdout",
     "output_type": "stream",
     "text": [
      "https://www.bitstamp.net/api/v2/ohlc/btcusd/?&currency_pair=btcusd&step=300&limit=1000&start=1527807600\n",
      "Downloaded from 2018-06-01 00:00:00(1527807600) to 2018-06-04 11:15:00(1528107300) 7603.79\n",
      "Processing 1000 of btcusd\n"
     ]
    },
    {
     "data": {
      "application/vnd.jupyter.widget-view+json": {
       "model_id": "13e5eabe58d446fdbda656f3bf4b863a",
       "version_major": 2,
       "version_minor": 0
      },
      "text/plain": [
       "  0%|          | 0/1000 [00:00<?, ?it/s]"
      ]
     },
     "metadata": {},
     "output_type": "display_data"
    },
    {
     "name": "stdout",
     "output_type": "stream",
     "text": [
      "https://www.bitstamp.net/api/v2/ohlc/ethusd/?&currency_pair=ethusd&step=300&limit=1000&start=1527807600\n",
      "Downloaded from 2018-06-01 00:00:00(1527807600) to 2018-06-04 11:15:00(1528107300) 605.42\n",
      "Processing 1000 of ethusd\n"
     ]
    },
    {
     "data": {
      "application/vnd.jupyter.widget-view+json": {
       "model_id": "30f1127fc77d4c618180c6f5a07df1d6",
       "version_major": 2,
       "version_minor": 0
      },
      "text/plain": [
       "  0%|          | 0/1000 [00:00<?, ?it/s]"
      ]
     },
     "metadata": {},
     "output_type": "display_data"
    },
    {
     "name": "stdout",
     "output_type": "stream",
     "text": [
      "https://www.bitstamp.net/api/v2/ohlc/ltcusd/?&currency_pair=ltcusd&step=300&limit=1000&start=1527807600\n",
      "Downloaded from 2018-06-01 00:00:00(1527807600) to 2018-06-04 11:15:00(1528107300) 122.36\n",
      "Processing 1000 of ltcusd\n"
     ]
    },
    {
     "data": {
      "application/vnd.jupyter.widget-view+json": {
       "model_id": "feef86e366724dcca052d372007f709c",
       "version_major": 2,
       "version_minor": 0
      },
      "text/plain": [
       "  0%|          | 0/1000 [00:00<?, ?it/s]"
      ]
     },
     "metadata": {},
     "output_type": "display_data"
    },
    {
     "name": "stdout",
     "output_type": "stream",
     "text": [
      "https://www.bitstamp.net/api/v2/ohlc/ltcbtc/?&currency_pair=ltcbtc&step=300&limit=1000&start=1527807600\n",
      "Downloaded from 2018-06-01 00:00:00(1527807600) to 2018-06-04 11:15:00(1528107300) 0.01605500\n",
      "Processing 1000 of ltcbtc\n"
     ]
    },
    {
     "data": {
      "application/vnd.jupyter.widget-view+json": {
       "model_id": "a43ad38211734054893a4f3970ffdc9e",
       "version_major": 2,
       "version_minor": 0
      },
      "text/plain": [
       "  0%|          | 0/1000 [00:00<?, ?it/s]"
      ]
     },
     "metadata": {},
     "output_type": "display_data"
    },
    {
     "name": "stdout",
     "output_type": "stream",
     "text": [
      "https://www.bitstamp.net/api/v2/ohlc/btcusd/?&currency_pair=btcusd&step=300&limit=1000&start=1517443200\n",
      "Downloaded from 2018-02-01 00:00:00(1517443200) to 2018-02-04 11:15:00(1517742900) 8898.23\n",
      "Processing 1000 of btcusd\n"
     ]
    },
    {
     "data": {
      "application/vnd.jupyter.widget-view+json": {
       "model_id": "8cd72cc810904a1ebdd1fa925f4d1400",
       "version_major": 2,
       "version_minor": 0
      },
      "text/plain": [
       "  0%|          | 0/1000 [00:00<?, ?it/s]"
      ]
     },
     "metadata": {},
     "output_type": "display_data"
    },
    {
     "name": "stdout",
     "output_type": "stream",
     "text": [
      "https://www.bitstamp.net/api/v2/ohlc/ethusd/?&currency_pair=ethusd&step=300&limit=1000&start=1517443200\n",
      "Downloaded from 2018-02-01 00:00:00(1517443200) to 2018-02-04 11:15:00(1517742900) 911.19\n",
      "Processing 1000 of ethusd\n"
     ]
    },
    {
     "data": {
      "application/vnd.jupyter.widget-view+json": {
       "model_id": "78ef8f5dd4264b92993cd7b718a24bae",
       "version_major": 2,
       "version_minor": 0
      },
      "text/plain": [
       "  0%|          | 0/1000 [00:00<?, ?it/s]"
      ]
     },
     "metadata": {},
     "output_type": "display_data"
    },
    {
     "name": "stdout",
     "output_type": "stream",
     "text": [
      "https://www.bitstamp.net/api/v2/ohlc/ltcusd/?&currency_pair=ltcusd&step=300&limit=1000&start=1517443200\n",
      "Downloaded from 2018-02-01 00:00:00(1517443200) to 2018-02-04 11:15:00(1517742900) 160.78\n",
      "Processing 1000 of ltcusd\n"
     ]
    },
    {
     "data": {
      "application/vnd.jupyter.widget-view+json": {
       "model_id": "620f85c155224ac1a56b4be34ceb64ec",
       "version_major": 2,
       "version_minor": 0
      },
      "text/plain": [
       "  0%|          | 0/1000 [00:00<?, ?it/s]"
      ]
     },
     "metadata": {},
     "output_type": "display_data"
    },
    {
     "name": "stdout",
     "output_type": "stream",
     "text": [
      "https://www.bitstamp.net/api/v2/ohlc/ltcbtc/?&currency_pair=ltcbtc&step=300&limit=1000&start=1517443200\n",
      "Downloaded from 2018-02-01 00:00:00(1517443200) to 2018-02-04 11:15:00(1517742900) 0.01802000\n",
      "Processing 1000 of ltcbtc\n"
     ]
    },
    {
     "data": {
      "application/vnd.jupyter.widget-view+json": {
       "model_id": "43e6c495a09048c294a377c42a293ea5",
       "version_major": 2,
       "version_minor": 0
      },
      "text/plain": [
       "  0%|          | 0/1000 [00:00<?, ?it/s]"
      ]
     },
     "metadata": {},
     "output_type": "display_data"
    },
    {
     "name": "stdout",
     "output_type": "stream",
     "text": [
      "https://www.bitstamp.net/api/v2/ohlc/btcusd/?&currency_pair=btcusd&step=300&limit=1000&start=1548979200\n",
      "Downloaded from 2019-02-01 00:00:00(1548979200) to 2019-02-04 11:15:00(1549278900) 3404.48\n",
      "Processing 1000 of btcusd\n"
     ]
    },
    {
     "data": {
      "application/vnd.jupyter.widget-view+json": {
       "model_id": "8c0714847132477783f4ba72a498569b",
       "version_major": 2,
       "version_minor": 0
      },
      "text/plain": [
       "  0%|          | 0/1000 [00:00<?, ?it/s]"
      ]
     },
     "metadata": {},
     "output_type": "display_data"
    },
    {
     "name": "stdout",
     "output_type": "stream",
     "text": [
      "https://www.bitstamp.net/api/v2/ohlc/ethusd/?&currency_pair=ethusd&step=300&limit=1000&start=1548979200\n",
      "Downloaded from 2019-02-01 00:00:00(1548979200) to 2019-02-04 11:15:00(1549278900) 105.66\n",
      "Processing 1000 of ethusd\n"
     ]
    },
    {
     "data": {
      "application/vnd.jupyter.widget-view+json": {
       "model_id": "52383ee4ce3d4778a115a08e2561f8f1",
       "version_major": 2,
       "version_minor": 0
      },
      "text/plain": [
       "  0%|          | 0/1000 [00:00<?, ?it/s]"
      ]
     },
     "metadata": {},
     "output_type": "display_data"
    },
    {
     "name": "stdout",
     "output_type": "stream",
     "text": [
      "https://www.bitstamp.net/api/v2/ohlc/ltcusd/?&currency_pair=ltcusd&step=300&limit=1000&start=1548979200\n",
      "Downloaded from 2019-02-01 00:00:00(1548979200) to 2019-02-04 11:15:00(1549278900) 33.28\n",
      "Processing 1000 of ltcusd\n"
     ]
    },
    {
     "data": {
      "application/vnd.jupyter.widget-view+json": {
       "model_id": "8162a14ba224481181ad9cccb2ab8ae1",
       "version_major": 2,
       "version_minor": 0
      },
      "text/plain": [
       "  0%|          | 0/1000 [00:00<?, ?it/s]"
      ]
     },
     "metadata": {},
     "output_type": "display_data"
    },
    {
     "name": "stdout",
     "output_type": "stream",
     "text": [
      "https://www.bitstamp.net/api/v2/ohlc/ltcbtc/?&currency_pair=ltcbtc&step=300&limit=1000&start=1548979200\n",
      "Downloaded from 2019-02-01 00:00:00(1548979200) to 2019-02-04 11:15:00(1549278900) 0.00976025\n",
      "Processing 1000 of ltcbtc\n"
     ]
    },
    {
     "data": {
      "application/vnd.jupyter.widget-view+json": {
       "model_id": "f79a78eab47e4abf82b748df30e9a986",
       "version_major": 2,
       "version_minor": 0
      },
      "text/plain": [
       "  0%|          | 0/1000 [00:00<?, ?it/s]"
      ]
     },
     "metadata": {},
     "output_type": "display_data"
    },
    {
     "name": "stdout",
     "output_type": "stream",
     "text": [
      "https://www.bitstamp.net/api/v2/ohlc/btcusd/?&currency_pair=btcusd&step=300&limit=1000&start=1580515200\n",
      "Downloaded from 2020-02-01 00:00:00(1580515200) to 2020-02-04 11:15:00(1580814900) 9163.36\n",
      "Processing 1000 of btcusd\n"
     ]
    },
    {
     "data": {
      "application/vnd.jupyter.widget-view+json": {
       "model_id": "c1a2559149554547a316a385a825b174",
       "version_major": 2,
       "version_minor": 0
      },
      "text/plain": [
       "  0%|          | 0/1000 [00:00<?, ?it/s]"
      ]
     },
     "metadata": {},
     "output_type": "display_data"
    },
    {
     "name": "stdout",
     "output_type": "stream",
     "text": [
      "https://www.bitstamp.net/api/v2/ohlc/ethusd/?&currency_pair=ethusd&step=300&limit=1000&start=1580515200\n",
      "Downloaded from 2020-02-01 00:00:00(1580515200) to 2020-02-04 11:15:00(1580814900) 185.75\n",
      "Processing 1000 of ethusd\n"
     ]
    },
    {
     "data": {
      "application/vnd.jupyter.widget-view+json": {
       "model_id": "c8f3438974a94922b2999a7fab716989",
       "version_major": 2,
       "version_minor": 0
      },
      "text/plain": [
       "  0%|          | 0/1000 [00:00<?, ?it/s]"
      ]
     },
     "metadata": {},
     "output_type": "display_data"
    },
    {
     "name": "stdout",
     "output_type": "stream",
     "text": [
      "https://www.bitstamp.net/api/v2/ohlc/ltcusd/?&currency_pair=ltcusd&step=300&limit=1000&start=1580515200\n",
      "Downloaded from 2020-02-01 00:00:00(1580515200) to 2020-02-04 11:15:00(1580814900) 67.19\n",
      "Processing 1000 of ltcusd\n"
     ]
    },
    {
     "data": {
      "application/vnd.jupyter.widget-view+json": {
       "model_id": "22284116b7ec493c8372743db9cb5b00",
       "version_major": 2,
       "version_minor": 0
      },
      "text/plain": [
       "  0%|          | 0/1000 [00:00<?, ?it/s]"
      ]
     },
     "metadata": {},
     "output_type": "display_data"
    },
    {
     "name": "stdout",
     "output_type": "stream",
     "text": [
      "https://www.bitstamp.net/api/v2/ohlc/ltcbtc/?&currency_pair=ltcbtc&step=300&limit=1000&start=1580515200\n",
      "Downloaded from 2020-02-01 00:00:00(1580515200) to 2020-02-04 11:15:00(1580814900) 0.00734000\n",
      "Processing 1000 of ltcbtc\n"
     ]
    },
    {
     "data": {
      "application/vnd.jupyter.widget-view+json": {
       "model_id": "9dfaec35194f46a180c83c6f5c4df379",
       "version_major": 2,
       "version_minor": 0
      },
      "text/plain": [
       "  0%|          | 0/1000 [00:00<?, ?it/s]"
      ]
     },
     "metadata": {},
     "output_type": "display_data"
    },
    {
     "name": "stdout",
     "output_type": "stream",
     "text": [
      "https://www.bitstamp.net/api/v2/ohlc/btcusd/?&currency_pair=btcusd&step=300&limit=1000&start=1612137600\n",
      "Downloaded from 2021-02-01 00:00:00(1612137600) to 2021-02-04 11:15:00(1612437300) 37713.31\n",
      "Processing 1000 of btcusd\n"
     ]
    },
    {
     "data": {
      "application/vnd.jupyter.widget-view+json": {
       "model_id": "bd66c3f25a3d48ceb77fd55f90520fcf",
       "version_major": 2,
       "version_minor": 0
      },
      "text/plain": [
       "  0%|          | 0/1000 [00:00<?, ?it/s]"
      ]
     },
     "metadata": {},
     "output_type": "display_data"
    },
    {
     "name": "stdout",
     "output_type": "stream",
     "text": [
      "https://www.bitstamp.net/api/v2/ohlc/ethusd/?&currency_pair=ethusd&step=300&limit=1000&start=1612137600\n",
      "Downloaded from 2021-02-01 00:00:00(1612137600) to 2021-02-04 11:15:00(1612437300) 1633.70\n",
      "Processing 1000 of ethusd\n"
     ]
    },
    {
     "data": {
      "application/vnd.jupyter.widget-view+json": {
       "model_id": "e011b49f50dc422491ddc27c2dead613",
       "version_major": 2,
       "version_minor": 0
      },
      "text/plain": [
       "  0%|          | 0/1000 [00:00<?, ?it/s]"
      ]
     },
     "metadata": {},
     "output_type": "display_data"
    },
    {
     "name": "stdout",
     "output_type": "stream",
     "text": [
      "https://www.bitstamp.net/api/v2/ohlc/ltcusd/?&currency_pair=ltcusd&step=300&limit=1000&start=1612137600\n",
      "Downloaded from 2021-02-01 00:00:00(1612137600) to 2021-02-04 11:15:00(1612437300) 148.10\n",
      "Processing 1000 of ltcusd\n"
     ]
    },
    {
     "data": {
      "application/vnd.jupyter.widget-view+json": {
       "model_id": "9dcc18de1be5427fb4a95207cb7de06b",
       "version_major": 2,
       "version_minor": 0
      },
      "text/plain": [
       "  0%|          | 0/1000 [00:00<?, ?it/s]"
      ]
     },
     "metadata": {},
     "output_type": "display_data"
    },
    {
     "name": "stdout",
     "output_type": "stream",
     "text": [
      "https://www.bitstamp.net/api/v2/ohlc/ltcbtc/?&currency_pair=ltcbtc&step=300&limit=1000&start=1612137600\n",
      "Downloaded from 2021-02-01 00:00:00(1612137600) to 2021-02-04 11:15:00(1612437300) 0.00392037\n",
      "Processing 1000 of ltcbtc\n"
     ]
    },
    {
     "data": {
      "application/vnd.jupyter.widget-view+json": {
       "model_id": "590ca81419e64f4eba45cad9545b3f7e",
       "version_major": 2,
       "version_minor": 0
      },
      "text/plain": [
       "  0%|          | 0/1000 [00:00<?, ?it/s]"
      ]
     },
     "metadata": {},
     "output_type": "display_data"
    },
    {
     "name": "stdout",
     "output_type": "stream",
     "text": [
      "https://www.bitstamp.net/api/v2/ohlc/btcusd/?&currency_pair=btcusd&step=300&limit=1000&start=1623711600\n",
      "https://www.bitstamp.net/api/v2/ohlc/btcusd/?&currency_pair=btcusd&step=300&limit=1000&start=1624011600\n",
      "https://www.bitstamp.net/api/v2/ohlc/btcusd/?&currency_pair=btcusd&step=300&limit=1000&start=1624311600\n",
      "https://www.bitstamp.net/api/v2/ohlc/btcusd/?&currency_pair=btcusd&step=300&limit=1000&start=1624611600\n",
      "https://www.bitstamp.net/api/v2/ohlc/btcusd/?&currency_pair=btcusd&step=300&limit=1000&start=1624911600\n",
      "https://www.bitstamp.net/api/v2/ohlc/btcusd/?&currency_pair=btcusd&step=300&limit=1000&start=1625211600\n",
      "https://www.bitstamp.net/api/v2/ohlc/btcusd/?&currency_pair=btcusd&step=300&limit=1000&start=1625511600\n",
      "https://www.bitstamp.net/api/v2/ohlc/btcusd/?&currency_pair=btcusd&step=300&limit=1000&start=1625811600\n",
      "https://www.bitstamp.net/api/v2/ohlc/btcusd/?&currency_pair=btcusd&step=300&limit=1000&start=1626111600\n",
      "Downloaded from 2021-06-15 00:00:00(1623711600) to 2021-07-15 00:00:00(1626303600) 32978.97\n",
      "Processing 8641 of btcusd\n"
     ]
    },
    {
     "data": {
      "application/vnd.jupyter.widget-view+json": {
       "model_id": "924d58d354c44e2ebf74844d7b4ef893",
       "version_major": 2,
       "version_minor": 0
      },
      "text/plain": [
       "  0%|          | 0/8641 [00:00<?, ?it/s]"
      ]
     },
     "metadata": {},
     "output_type": "display_data"
    },
    {
     "name": "stdout",
     "output_type": "stream",
     "text": [
      "https://www.bitstamp.net/api/v2/ohlc/ethusd/?&currency_pair=ethusd&step=300&limit=1000&start=1623711600\n",
      "https://www.bitstamp.net/api/v2/ohlc/ethusd/?&currency_pair=ethusd&step=300&limit=1000&start=1624011600\n",
      "https://www.bitstamp.net/api/v2/ohlc/ethusd/?&currency_pair=ethusd&step=300&limit=1000&start=1624311600\n",
      "https://www.bitstamp.net/api/v2/ohlc/ethusd/?&currency_pair=ethusd&step=300&limit=1000&start=1624611600\n",
      "https://www.bitstamp.net/api/v2/ohlc/ethusd/?&currency_pair=ethusd&step=300&limit=1000&start=1624911600\n",
      "https://www.bitstamp.net/api/v2/ohlc/ethusd/?&currency_pair=ethusd&step=300&limit=1000&start=1625211600\n",
      "https://www.bitstamp.net/api/v2/ohlc/ethusd/?&currency_pair=ethusd&step=300&limit=1000&start=1625511600\n",
      "https://www.bitstamp.net/api/v2/ohlc/ethusd/?&currency_pair=ethusd&step=300&limit=1000&start=1625811600\n",
      "https://www.bitstamp.net/api/v2/ohlc/ethusd/?&currency_pair=ethusd&step=300&limit=1000&start=1626111600\n",
      "Downloaded from 2021-06-15 00:00:00(1623711600) to 2021-07-15 00:00:00(1626303600) 2005.17\n",
      "Processing 8641 of ethusd\n"
     ]
    },
    {
     "data": {
      "application/vnd.jupyter.widget-view+json": {
       "model_id": "17274e0326f34398b7071cbb57448518",
       "version_major": 2,
       "version_minor": 0
      },
      "text/plain": [
       "  0%|          | 0/8641 [00:00<?, ?it/s]"
      ]
     },
     "metadata": {},
     "output_type": "display_data"
    },
    {
     "name": "stdout",
     "output_type": "stream",
     "text": [
      "https://www.bitstamp.net/api/v2/ohlc/ltcusd/?&currency_pair=ltcusd&step=300&limit=1000&start=1623711600\n",
      "https://www.bitstamp.net/api/v2/ohlc/ltcusd/?&currency_pair=ltcusd&step=300&limit=1000&start=1624011600\n",
      "https://www.bitstamp.net/api/v2/ohlc/ltcusd/?&currency_pair=ltcusd&step=300&limit=1000&start=1624311600\n",
      "https://www.bitstamp.net/api/v2/ohlc/ltcusd/?&currency_pair=ltcusd&step=300&limit=1000&start=1624611600\n",
      "https://www.bitstamp.net/api/v2/ohlc/ltcusd/?&currency_pair=ltcusd&step=300&limit=1000&start=1624911600\n",
      "https://www.bitstamp.net/api/v2/ohlc/ltcusd/?&currency_pair=ltcusd&step=300&limit=1000&start=1625211600\n",
      "https://www.bitstamp.net/api/v2/ohlc/ltcusd/?&currency_pair=ltcusd&step=300&limit=1000&start=1625511600\n",
      "https://www.bitstamp.net/api/v2/ohlc/ltcusd/?&currency_pair=ltcusd&step=300&limit=1000&start=1625811600\n",
      "https://www.bitstamp.net/api/v2/ohlc/ltcusd/?&currency_pair=ltcusd&step=300&limit=1000&start=1626111600\n",
      "Downloaded from 2021-06-15 00:00:00(1623711600) to 2021-07-15 00:00:00(1626303600) 131.22\n",
      "Processing 8641 of ltcusd\n"
     ]
    },
    {
     "data": {
      "application/vnd.jupyter.widget-view+json": {
       "model_id": "99eafddfe826404baefcf1954553495e",
       "version_major": 2,
       "version_minor": 0
      },
      "text/plain": [
       "  0%|          | 0/8641 [00:00<?, ?it/s]"
      ]
     },
     "metadata": {},
     "output_type": "display_data"
    },
    {
     "name": "stdout",
     "output_type": "stream",
     "text": [
      "https://www.bitstamp.net/api/v2/ohlc/ltcbtc/?&currency_pair=ltcbtc&step=300&limit=1000&start=1623711600\n",
      "https://www.bitstamp.net/api/v2/ohlc/ltcbtc/?&currency_pair=ltcbtc&step=300&limit=1000&start=1624011600\n",
      "https://www.bitstamp.net/api/v2/ohlc/ltcbtc/?&currency_pair=ltcbtc&step=300&limit=1000&start=1624311600\n",
      "https://www.bitstamp.net/api/v2/ohlc/ltcbtc/?&currency_pair=ltcbtc&step=300&limit=1000&start=1624611600\n",
      "https://www.bitstamp.net/api/v2/ohlc/ltcbtc/?&currency_pair=ltcbtc&step=300&limit=1000&start=1624911600\n",
      "https://www.bitstamp.net/api/v2/ohlc/ltcbtc/?&currency_pair=ltcbtc&step=300&limit=1000&start=1625211600\n",
      "https://www.bitstamp.net/api/v2/ohlc/ltcbtc/?&currency_pair=ltcbtc&step=300&limit=1000&start=1625511600\n",
      "https://www.bitstamp.net/api/v2/ohlc/ltcbtc/?&currency_pair=ltcbtc&step=300&limit=1000&start=1625811600\n",
      "https://www.bitstamp.net/api/v2/ohlc/ltcbtc/?&currency_pair=ltcbtc&step=300&limit=1000&start=1626111600\n",
      "Downloaded from 2021-06-15 00:00:00(1623711600) to 2021-07-15 00:00:00(1626303600) 0.00398347\n",
      "Processing 8641 of ltcbtc\n"
     ]
    },
    {
     "data": {
      "application/vnd.jupyter.widget-view+json": {
       "model_id": "c75eaefa4083479e9b6458eff6a51262",
       "version_major": 2,
       "version_minor": 0
      },
      "text/plain": [
       "  0%|          | 0/8641 [00:00<?, ?it/s]"
      ]
     },
     "metadata": {},
     "output_type": "display_data"
    },
    {
     "name": "stdout",
     "output_type": "stream",
     "text": [
      "data/online5_5 -> OnLineDataProvider (val_keys = {'btcusd': 3, 'ethusd': 3, 'ltcusd': 3, 'ltcbtc': 3}, train_data = 2 , data_detail = DataDetail (windows = 5, minutes = 5, steps_ahead = 1)))\n",
      "https://www.bitstamp.net/api/v2/ohlc/btcusd/?&currency_pair=btcusd&step=300&limit=1000&start=1622502000\n",
      "Downloaded from 2021-06-01 00:00:00(1622502000) to 2021-06-04 11:15:00(1622801700) 36979.84\n",
      "Processing 1000 of btcusd\n"
     ]
    },
    {
     "data": {
      "application/vnd.jupyter.widget-view+json": {
       "model_id": "4ccb3b24c9fc46b4a70996942b3c6519",
       "version_major": 2,
       "version_minor": 0
      },
      "text/plain": [
       "  0%|          | 0/1000 [00:00<?, ?it/s]"
      ]
     },
     "metadata": {},
     "output_type": "display_data"
    },
    {
     "name": "stdout",
     "output_type": "stream",
     "text": [
      "https://www.bitstamp.net/api/v2/ohlc/ethusd/?&currency_pair=ethusd&step=300&limit=1000&start=1622502000\n",
      "Downloaded from 2021-06-01 00:00:00(1622502000) to 2021-06-04 11:15:00(1622801700) 2662.21\n",
      "Processing 1000 of ethusd\n"
     ]
    },
    {
     "data": {
      "application/vnd.jupyter.widget-view+json": {
       "model_id": "7f6acc98c7ba4b34a9c6c6f70da05aa4",
       "version_major": 2,
       "version_minor": 0
      },
      "text/plain": [
       "  0%|          | 0/1000 [00:00<?, ?it/s]"
      ]
     },
     "metadata": {},
     "output_type": "display_data"
    },
    {
     "name": "stdout",
     "output_type": "stream",
     "text": [
      "https://www.bitstamp.net/api/v2/ohlc/ltcusd/?&currency_pair=ltcusd&step=300&limit=1000&start=1622502000\n",
      "Downloaded from 2021-06-01 00:00:00(1622502000) to 2021-06-04 11:15:00(1622801700) 177.09\n",
      "Processing 1000 of ltcusd\n"
     ]
    },
    {
     "data": {
      "application/vnd.jupyter.widget-view+json": {
       "model_id": "fcdbb879a5414fbc8c034db89a2ccc6b",
       "version_major": 2,
       "version_minor": 0
      },
      "text/plain": [
       "  0%|          | 0/1000 [00:00<?, ?it/s]"
      ]
     },
     "metadata": {},
     "output_type": "display_data"
    },
    {
     "name": "stdout",
     "output_type": "stream",
     "text": [
      "https://www.bitstamp.net/api/v2/ohlc/ltcbtc/?&currency_pair=ltcbtc&step=300&limit=1000&start=1622502000\n",
      "Downloaded from 2021-06-01 00:00:00(1622502000) to 2021-06-04 11:15:00(1622801700) 0.00478308\n",
      "Processing 1000 of ltcbtc\n"
     ]
    },
    {
     "data": {
      "application/vnd.jupyter.widget-view+json": {
       "model_id": "b337dc80cbdf4da8aa361e5928917d9d",
       "version_major": 2,
       "version_minor": 0
      },
      "text/plain": [
       "  0%|          | 0/1000 [00:00<?, ?it/s]"
      ]
     },
     "metadata": {},
     "output_type": "display_data"
    },
    {
     "name": "stdout",
     "output_type": "stream",
     "text": [
      "https://www.bitstamp.net/api/v2/ohlc/btcusd/?&currency_pair=btcusd&step=300&limit=1000&start=1590966000\n",
      "Downloaded from 2020-06-01 00:00:00(1590966000) to 2020-06-04 11:15:00(1591265700) 9520.48\n",
      "Processing 1000 of btcusd\n"
     ]
    },
    {
     "data": {
      "application/vnd.jupyter.widget-view+json": {
       "model_id": "84eada532ce44a3bb69c635c5b429f55",
       "version_major": 2,
       "version_minor": 0
      },
      "text/plain": [
       "  0%|          | 0/1000 [00:00<?, ?it/s]"
      ]
     },
     "metadata": {},
     "output_type": "display_data"
    },
    {
     "name": "stdout",
     "output_type": "stream",
     "text": [
      "https://www.bitstamp.net/api/v2/ohlc/ethusd/?&currency_pair=ethusd&step=300&limit=1000&start=1590966000\n",
      "Downloaded from 2020-06-01 00:00:00(1590966000) to 2020-06-04 11:15:00(1591265700) 239.28\n",
      "Processing 1000 of ethusd\n"
     ]
    },
    {
     "data": {
      "application/vnd.jupyter.widget-view+json": {
       "model_id": "60df509d4331492d81bdd85d46d85a0b",
       "version_major": 2,
       "version_minor": 0
      },
      "text/plain": [
       "  0%|          | 0/1000 [00:00<?, ?it/s]"
      ]
     },
     "metadata": {},
     "output_type": "display_data"
    },
    {
     "name": "stdout",
     "output_type": "stream",
     "text": [
      "https://www.bitstamp.net/api/v2/ohlc/ltcusd/?&currency_pair=ltcusd&step=300&limit=1000&start=1590966000\n",
      "Downloaded from 2020-06-01 00:00:00(1590966000) to 2020-06-04 11:15:00(1591265700) 46.81\n",
      "Processing 1000 of ltcusd\n"
     ]
    },
    {
     "data": {
      "application/vnd.jupyter.widget-view+json": {
       "model_id": "51e1a7eb0ddb44f58e38fc38c9710f7d",
       "version_major": 2,
       "version_minor": 0
      },
      "text/plain": [
       "  0%|          | 0/1000 [00:00<?, ?it/s]"
      ]
     },
     "metadata": {},
     "output_type": "display_data"
    },
    {
     "name": "stdout",
     "output_type": "stream",
     "text": [
      "https://www.bitstamp.net/api/v2/ohlc/ltcbtc/?&currency_pair=ltcbtc&step=300&limit=1000&start=1590966000\n",
      "Downloaded from 2020-06-01 00:00:00(1590966000) to 2020-06-04 11:15:00(1591265700) 0.00493915\n",
      "Processing 1000 of ltcbtc\n"
     ]
    },
    {
     "data": {
      "application/vnd.jupyter.widget-view+json": {
       "model_id": "9d3277b015a6417e9accd38ad3f81044",
       "version_major": 2,
       "version_minor": 0
      },
      "text/plain": [
       "  0%|          | 0/1000 [00:00<?, ?it/s]"
      ]
     },
     "metadata": {},
     "output_type": "display_data"
    },
    {
     "name": "stdout",
     "output_type": "stream",
     "text": [
      "https://www.bitstamp.net/api/v2/ohlc/btcusd/?&currency_pair=btcusd&step=300&limit=1000&start=1559343600\n",
      "Downloaded from 2019-06-01 00:00:00(1559343600) to 2019-06-04 11:15:00(1559643300) 7963.92\n",
      "Processing 1000 of btcusd\n"
     ]
    },
    {
     "data": {
      "application/vnd.jupyter.widget-view+json": {
       "model_id": "50d0d1ba1f0d4af499650523290a97a8",
       "version_major": 2,
       "version_minor": 0
      },
      "text/plain": [
       "  0%|          | 0/1000 [00:00<?, ?it/s]"
      ]
     },
     "metadata": {},
     "output_type": "display_data"
    },
    {
     "name": "stdout",
     "output_type": "stream",
     "text": [
      "https://www.bitstamp.net/api/v2/ohlc/ethusd/?&currency_pair=ethusd&step=300&limit=1000&start=1559343600\n",
      "Downloaded from 2019-06-01 00:00:00(1559343600) to 2019-06-04 11:15:00(1559643300) 247.42\n",
      "Processing 1000 of ethusd\n"
     ]
    },
    {
     "data": {
      "application/vnd.jupyter.widget-view+json": {
       "model_id": "7ea21c0067d7449db2f458a8cede528c",
       "version_major": 2,
       "version_minor": 0
      },
      "text/plain": [
       "  0%|          | 0/1000 [00:00<?, ?it/s]"
      ]
     },
     "metadata": {},
     "output_type": "display_data"
    },
    {
     "name": "stdout",
     "output_type": "stream",
     "text": [
      "https://www.bitstamp.net/api/v2/ohlc/ltcusd/?&currency_pair=ltcusd&step=300&limit=1000&start=1559343600\n",
      "Downloaded from 2019-06-01 00:00:00(1559343600) to 2019-06-04 11:15:00(1559643300) 105.11\n",
      "Processing 1000 of ltcusd\n"
     ]
    },
    {
     "data": {
      "application/vnd.jupyter.widget-view+json": {
       "model_id": "27e5779ef35148b0a7e65f4abbdccb11",
       "version_major": 2,
       "version_minor": 0
      },
      "text/plain": [
       "  0%|          | 0/1000 [00:00<?, ?it/s]"
      ]
     },
     "metadata": {},
     "output_type": "display_data"
    },
    {
     "name": "stdout",
     "output_type": "stream",
     "text": [
      "https://www.bitstamp.net/api/v2/ohlc/ltcbtc/?&currency_pair=ltcbtc&step=300&limit=1000&start=1559343600\n",
      "Downloaded from 2019-06-01 00:00:00(1559343600) to 2019-06-04 11:15:00(1559643300) 0.01321994\n",
      "Processing 1000 of ltcbtc\n"
     ]
    },
    {
     "data": {
      "application/vnd.jupyter.widget-view+json": {
       "model_id": "a0b455aae53e4c748f92d723c524817a",
       "version_major": 2,
       "version_minor": 0
      },
      "text/plain": [
       "  0%|          | 0/1000 [00:00<?, ?it/s]"
      ]
     },
     "metadata": {},
     "output_type": "display_data"
    },
    {
     "name": "stdout",
     "output_type": "stream",
     "text": [
      "https://www.bitstamp.net/api/v2/ohlc/btcusd/?&currency_pair=btcusd&step=300&limit=1000&start=1527807600\n",
      "Downloaded from 2018-06-01 00:00:00(1527807600) to 2018-06-04 11:15:00(1528107300) 7603.79\n",
      "Processing 1000 of btcusd\n"
     ]
    },
    {
     "data": {
      "application/vnd.jupyter.widget-view+json": {
       "model_id": "6f0b9ca43bd440dd892432a04244155b",
       "version_major": 2,
       "version_minor": 0
      },
      "text/plain": [
       "  0%|          | 0/1000 [00:00<?, ?it/s]"
      ]
     },
     "metadata": {},
     "output_type": "display_data"
    },
    {
     "name": "stdout",
     "output_type": "stream",
     "text": [
      "https://www.bitstamp.net/api/v2/ohlc/ethusd/?&currency_pair=ethusd&step=300&limit=1000&start=1527807600\n",
      "Downloaded from 2018-06-01 00:00:00(1527807600) to 2018-06-04 11:15:00(1528107300) 605.42\n",
      "Processing 1000 of ethusd\n"
     ]
    },
    {
     "data": {
      "application/vnd.jupyter.widget-view+json": {
       "model_id": "b59295afd13343728f26cb4062da24af",
       "version_major": 2,
       "version_minor": 0
      },
      "text/plain": [
       "  0%|          | 0/1000 [00:00<?, ?it/s]"
      ]
     },
     "metadata": {},
     "output_type": "display_data"
    },
    {
     "name": "stdout",
     "output_type": "stream",
     "text": [
      "https://www.bitstamp.net/api/v2/ohlc/ltcusd/?&currency_pair=ltcusd&step=300&limit=1000&start=1527807600\n",
      "Downloaded from 2018-06-01 00:00:00(1527807600) to 2018-06-04 11:15:00(1528107300) 122.36\n",
      "Processing 1000 of ltcusd\n"
     ]
    },
    {
     "data": {
      "application/vnd.jupyter.widget-view+json": {
       "model_id": "e98a73d569ce47b2bb58a2a6d7e08097",
       "version_major": 2,
       "version_minor": 0
      },
      "text/plain": [
       "  0%|          | 0/1000 [00:00<?, ?it/s]"
      ]
     },
     "metadata": {},
     "output_type": "display_data"
    },
    {
     "name": "stdout",
     "output_type": "stream",
     "text": [
      "https://www.bitstamp.net/api/v2/ohlc/ltcbtc/?&currency_pair=ltcbtc&step=300&limit=1000&start=1527807600\n",
      "Downloaded from 2018-06-01 00:00:00(1527807600) to 2018-06-04 11:15:00(1528107300) 0.01605500\n",
      "Processing 1000 of ltcbtc\n"
     ]
    },
    {
     "data": {
      "application/vnd.jupyter.widget-view+json": {
       "model_id": "dbf05b67ca174d71a7190230c1f1e60a",
       "version_major": 2,
       "version_minor": 0
      },
      "text/plain": [
       "  0%|          | 0/1000 [00:00<?, ?it/s]"
      ]
     },
     "metadata": {},
     "output_type": "display_data"
    },
    {
     "name": "stdout",
     "output_type": "stream",
     "text": [
      "https://www.bitstamp.net/api/v2/ohlc/btcusd/?&currency_pair=btcusd&step=300&limit=1000&start=1517443200\n",
      "Downloaded from 2018-02-01 00:00:00(1517443200) to 2018-02-04 11:15:00(1517742900) 8898.23\n",
      "Processing 1000 of btcusd\n"
     ]
    },
    {
     "data": {
      "application/vnd.jupyter.widget-view+json": {
       "model_id": "da41b833311249ada02a3f54767c8345",
       "version_major": 2,
       "version_minor": 0
      },
      "text/plain": [
       "  0%|          | 0/1000 [00:00<?, ?it/s]"
      ]
     },
     "metadata": {},
     "output_type": "display_data"
    },
    {
     "name": "stdout",
     "output_type": "stream",
     "text": [
      "https://www.bitstamp.net/api/v2/ohlc/ethusd/?&currency_pair=ethusd&step=300&limit=1000&start=1517443200\n",
      "Downloaded from 2018-02-01 00:00:00(1517443200) to 2018-02-04 11:15:00(1517742900) 911.19\n",
      "Processing 1000 of ethusd\n"
     ]
    },
    {
     "data": {
      "application/vnd.jupyter.widget-view+json": {
       "model_id": "33e2a79cdfbd46dcbde1584e6495a287",
       "version_major": 2,
       "version_minor": 0
      },
      "text/plain": [
       "  0%|          | 0/1000 [00:00<?, ?it/s]"
      ]
     },
     "metadata": {},
     "output_type": "display_data"
    },
    {
     "name": "stdout",
     "output_type": "stream",
     "text": [
      "https://www.bitstamp.net/api/v2/ohlc/ltcusd/?&currency_pair=ltcusd&step=300&limit=1000&start=1517443200\n",
      "Downloaded from 2018-02-01 00:00:00(1517443200) to 2018-02-04 11:15:00(1517742900) 160.78\n",
      "Processing 1000 of ltcusd\n"
     ]
    },
    {
     "data": {
      "application/vnd.jupyter.widget-view+json": {
       "model_id": "af8a5887f5754be8bf0f59ebc354bd5b",
       "version_major": 2,
       "version_minor": 0
      },
      "text/plain": [
       "  0%|          | 0/1000 [00:00<?, ?it/s]"
      ]
     },
     "metadata": {},
     "output_type": "display_data"
    },
    {
     "name": "stdout",
     "output_type": "stream",
     "text": [
      "https://www.bitstamp.net/api/v2/ohlc/ltcbtc/?&currency_pair=ltcbtc&step=300&limit=1000&start=1517443200\n",
      "Downloaded from 2018-02-01 00:00:00(1517443200) to 2018-02-04 11:15:00(1517742900) 0.01802000\n",
      "Processing 1000 of ltcbtc\n"
     ]
    },
    {
     "data": {
      "application/vnd.jupyter.widget-view+json": {
       "model_id": "32cc349ebf234bdcb6922196cf270b54",
       "version_major": 2,
       "version_minor": 0
      },
      "text/plain": [
       "  0%|          | 0/1000 [00:00<?, ?it/s]"
      ]
     },
     "metadata": {},
     "output_type": "display_data"
    },
    {
     "name": "stdout",
     "output_type": "stream",
     "text": [
      "https://www.bitstamp.net/api/v2/ohlc/btcusd/?&currency_pair=btcusd&step=300&limit=1000&start=1548979200\n",
      "Downloaded from 2019-02-01 00:00:00(1548979200) to 2019-02-04 11:15:00(1549278900) 3404.48\n",
      "Processing 1000 of btcusd\n"
     ]
    },
    {
     "data": {
      "application/vnd.jupyter.widget-view+json": {
       "model_id": "9cc8991d9db342979c871be9b44fd27e",
       "version_major": 2,
       "version_minor": 0
      },
      "text/plain": [
       "  0%|          | 0/1000 [00:00<?, ?it/s]"
      ]
     },
     "metadata": {},
     "output_type": "display_data"
    },
    {
     "name": "stdout",
     "output_type": "stream",
     "text": [
      "https://www.bitstamp.net/api/v2/ohlc/ethusd/?&currency_pair=ethusd&step=300&limit=1000&start=1548979200\n",
      "Downloaded from 2019-02-01 00:00:00(1548979200) to 2019-02-04 11:15:00(1549278900) 105.66\n",
      "Processing 1000 of ethusd\n"
     ]
    },
    {
     "data": {
      "application/vnd.jupyter.widget-view+json": {
       "model_id": "0d461ac554214d548a7e912b9c8aad27",
       "version_major": 2,
       "version_minor": 0
      },
      "text/plain": [
       "  0%|          | 0/1000 [00:00<?, ?it/s]"
      ]
     },
     "metadata": {},
     "output_type": "display_data"
    },
    {
     "name": "stdout",
     "output_type": "stream",
     "text": [
      "https://www.bitstamp.net/api/v2/ohlc/ltcusd/?&currency_pair=ltcusd&step=300&limit=1000&start=1548979200\n",
      "Downloaded from 2019-02-01 00:00:00(1548979200) to 2019-02-04 11:15:00(1549278900) 33.28\n",
      "Processing 1000 of ltcusd\n"
     ]
    },
    {
     "data": {
      "application/vnd.jupyter.widget-view+json": {
       "model_id": "558ca777e92f4d229286fae5d025dd2a",
       "version_major": 2,
       "version_minor": 0
      },
      "text/plain": [
       "  0%|          | 0/1000 [00:00<?, ?it/s]"
      ]
     },
     "metadata": {},
     "output_type": "display_data"
    },
    {
     "name": "stdout",
     "output_type": "stream",
     "text": [
      "https://www.bitstamp.net/api/v2/ohlc/ltcbtc/?&currency_pair=ltcbtc&step=300&limit=1000&start=1548979200\n",
      "Downloaded from 2019-02-01 00:00:00(1548979200) to 2019-02-04 11:15:00(1549278900) 0.00976025\n",
      "Processing 1000 of ltcbtc\n"
     ]
    },
    {
     "data": {
      "application/vnd.jupyter.widget-view+json": {
       "model_id": "84f94aeaf6d2415583d2587a3145cbd5",
       "version_major": 2,
       "version_minor": 0
      },
      "text/plain": [
       "  0%|          | 0/1000 [00:00<?, ?it/s]"
      ]
     },
     "metadata": {},
     "output_type": "display_data"
    },
    {
     "name": "stdout",
     "output_type": "stream",
     "text": [
      "https://www.bitstamp.net/api/v2/ohlc/btcusd/?&currency_pair=btcusd&step=300&limit=1000&start=1580515200\n",
      "Downloaded from 2020-02-01 00:00:00(1580515200) to 2020-02-04 11:15:00(1580814900) 9163.36\n",
      "Processing 1000 of btcusd\n"
     ]
    },
    {
     "data": {
      "application/vnd.jupyter.widget-view+json": {
       "model_id": "bfb2267193c142669e6a3407f8003238",
       "version_major": 2,
       "version_minor": 0
      },
      "text/plain": [
       "  0%|          | 0/1000 [00:00<?, ?it/s]"
      ]
     },
     "metadata": {},
     "output_type": "display_data"
    },
    {
     "name": "stdout",
     "output_type": "stream",
     "text": [
      "https://www.bitstamp.net/api/v2/ohlc/ethusd/?&currency_pair=ethusd&step=300&limit=1000&start=1580515200\n",
      "Downloaded from 2020-02-01 00:00:00(1580515200) to 2020-02-04 11:15:00(1580814900) 185.75\n",
      "Processing 1000 of ethusd\n"
     ]
    },
    {
     "data": {
      "application/vnd.jupyter.widget-view+json": {
       "model_id": "f1b4644df3e04150b9e12f15d6ba328d",
       "version_major": 2,
       "version_minor": 0
      },
      "text/plain": [
       "  0%|          | 0/1000 [00:00<?, ?it/s]"
      ]
     },
     "metadata": {},
     "output_type": "display_data"
    },
    {
     "name": "stdout",
     "output_type": "stream",
     "text": [
      "https://www.bitstamp.net/api/v2/ohlc/ltcusd/?&currency_pair=ltcusd&step=300&limit=1000&start=1580515200\n",
      "Downloaded from 2020-02-01 00:00:00(1580515200) to 2020-02-04 11:15:00(1580814900) 67.19\n",
      "Processing 1000 of ltcusd\n"
     ]
    },
    {
     "data": {
      "application/vnd.jupyter.widget-view+json": {
       "model_id": "6980a8eab057460281d82b4933d4232e",
       "version_major": 2,
       "version_minor": 0
      },
      "text/plain": [
       "  0%|          | 0/1000 [00:00<?, ?it/s]"
      ]
     },
     "metadata": {},
     "output_type": "display_data"
    },
    {
     "name": "stdout",
     "output_type": "stream",
     "text": [
      "https://www.bitstamp.net/api/v2/ohlc/ltcbtc/?&currency_pair=ltcbtc&step=300&limit=1000&start=1580515200\n",
      "Downloaded from 2020-02-01 00:00:00(1580515200) to 2020-02-04 11:15:00(1580814900) 0.00734000\n",
      "Processing 1000 of ltcbtc\n"
     ]
    },
    {
     "data": {
      "application/vnd.jupyter.widget-view+json": {
       "model_id": "e104b5d965fc4ee1a6e504ce292a477e",
       "version_major": 2,
       "version_minor": 0
      },
      "text/plain": [
       "  0%|          | 0/1000 [00:00<?, ?it/s]"
      ]
     },
     "metadata": {},
     "output_type": "display_data"
    },
    {
     "name": "stdout",
     "output_type": "stream",
     "text": [
      "https://www.bitstamp.net/api/v2/ohlc/btcusd/?&currency_pair=btcusd&step=300&limit=1000&start=1612137600\n",
      "Downloaded from 2021-02-01 00:00:00(1612137600) to 2021-02-04 11:15:00(1612437300) 37713.31\n",
      "Processing 1000 of btcusd\n"
     ]
    },
    {
     "data": {
      "application/vnd.jupyter.widget-view+json": {
       "model_id": "a3a7b3d848e44b978727418df4354cef",
       "version_major": 2,
       "version_minor": 0
      },
      "text/plain": [
       "  0%|          | 0/1000 [00:00<?, ?it/s]"
      ]
     },
     "metadata": {},
     "output_type": "display_data"
    },
    {
     "name": "stdout",
     "output_type": "stream",
     "text": [
      "https://www.bitstamp.net/api/v2/ohlc/ethusd/?&currency_pair=ethusd&step=300&limit=1000&start=1612137600\n",
      "Downloaded from 2021-02-01 00:00:00(1612137600) to 2021-02-04 11:15:00(1612437300) 1633.70\n",
      "Processing 1000 of ethusd\n"
     ]
    },
    {
     "data": {
      "application/vnd.jupyter.widget-view+json": {
       "model_id": "82e641b0f6c343e2b1762e83a761f6c5",
       "version_major": 2,
       "version_minor": 0
      },
      "text/plain": [
       "  0%|          | 0/1000 [00:00<?, ?it/s]"
      ]
     },
     "metadata": {},
     "output_type": "display_data"
    },
    {
     "name": "stdout",
     "output_type": "stream",
     "text": [
      "https://www.bitstamp.net/api/v2/ohlc/ltcusd/?&currency_pair=ltcusd&step=300&limit=1000&start=1612137600\n",
      "Downloaded from 2021-02-01 00:00:00(1612137600) to 2021-02-04 11:15:00(1612437300) 148.10\n",
      "Processing 1000 of ltcusd\n"
     ]
    },
    {
     "data": {
      "application/vnd.jupyter.widget-view+json": {
       "model_id": "d08c51c8aa044fc9bce4706bb0ec84b3",
       "version_major": 2,
       "version_minor": 0
      },
      "text/plain": [
       "  0%|          | 0/1000 [00:00<?, ?it/s]"
      ]
     },
     "metadata": {},
     "output_type": "display_data"
    },
    {
     "name": "stdout",
     "output_type": "stream",
     "text": [
      "https://www.bitstamp.net/api/v2/ohlc/ltcbtc/?&currency_pair=ltcbtc&step=300&limit=1000&start=1612137600\n",
      "Downloaded from 2021-02-01 00:00:00(1612137600) to 2021-02-04 11:15:00(1612437300) 0.00392037\n",
      "Processing 1000 of ltcbtc\n"
     ]
    },
    {
     "data": {
      "application/vnd.jupyter.widget-view+json": {
       "model_id": "563bf193c55c4c05ac808175583e97e7",
       "version_major": 2,
       "version_minor": 0
      },
      "text/plain": [
       "  0%|          | 0/1000 [00:00<?, ?it/s]"
      ]
     },
     "metadata": {},
     "output_type": "display_data"
    },
    {
     "name": "stdout",
     "output_type": "stream",
     "text": [
      "https://www.bitstamp.net/api/v2/ohlc/btcusd/?&currency_pair=btcusd&step=300&limit=1000&start=1623711600\n",
      "https://www.bitstamp.net/api/v2/ohlc/btcusd/?&currency_pair=btcusd&step=300&limit=1000&start=1624011600\n",
      "https://www.bitstamp.net/api/v2/ohlc/btcusd/?&currency_pair=btcusd&step=300&limit=1000&start=1624311600\n",
      "https://www.bitstamp.net/api/v2/ohlc/btcusd/?&currency_pair=btcusd&step=300&limit=1000&start=1624611600\n",
      "https://www.bitstamp.net/api/v2/ohlc/btcusd/?&currency_pair=btcusd&step=300&limit=1000&start=1624911600\n",
      "https://www.bitstamp.net/api/v2/ohlc/btcusd/?&currency_pair=btcusd&step=300&limit=1000&start=1625211600\n",
      "https://www.bitstamp.net/api/v2/ohlc/btcusd/?&currency_pair=btcusd&step=300&limit=1000&start=1625511600\n",
      "https://www.bitstamp.net/api/v2/ohlc/btcusd/?&currency_pair=btcusd&step=300&limit=1000&start=1625811600\n",
      "https://www.bitstamp.net/api/v2/ohlc/btcusd/?&currency_pair=btcusd&step=300&limit=1000&start=1626111600\n",
      "Downloaded from 2021-06-15 00:00:00(1623711600) to 2021-07-15 00:00:00(1626303600) 32978.97\n",
      "Processing 8641 of btcusd\n"
     ]
    },
    {
     "data": {
      "application/vnd.jupyter.widget-view+json": {
       "model_id": "c829983bd6ff4ab08321045b82529b10",
       "version_major": 2,
       "version_minor": 0
      },
      "text/plain": [
       "  0%|          | 0/8641 [00:00<?, ?it/s]"
      ]
     },
     "metadata": {},
     "output_type": "display_data"
    },
    {
     "name": "stdout",
     "output_type": "stream",
     "text": [
      "https://www.bitstamp.net/api/v2/ohlc/ethusd/?&currency_pair=ethusd&step=300&limit=1000&start=1623711600\n",
      "https://www.bitstamp.net/api/v2/ohlc/ethusd/?&currency_pair=ethusd&step=300&limit=1000&start=1624011600\n",
      "https://www.bitstamp.net/api/v2/ohlc/ethusd/?&currency_pair=ethusd&step=300&limit=1000&start=1624311600\n",
      "https://www.bitstamp.net/api/v2/ohlc/ethusd/?&currency_pair=ethusd&step=300&limit=1000&start=1624611600\n",
      "https://www.bitstamp.net/api/v2/ohlc/ethusd/?&currency_pair=ethusd&step=300&limit=1000&start=1624911600\n",
      "https://www.bitstamp.net/api/v2/ohlc/ethusd/?&currency_pair=ethusd&step=300&limit=1000&start=1625211600\n",
      "https://www.bitstamp.net/api/v2/ohlc/ethusd/?&currency_pair=ethusd&step=300&limit=1000&start=1625511600\n",
      "https://www.bitstamp.net/api/v2/ohlc/ethusd/?&currency_pair=ethusd&step=300&limit=1000&start=1625811600\n",
      "https://www.bitstamp.net/api/v2/ohlc/ethusd/?&currency_pair=ethusd&step=300&limit=1000&start=1626111600\n",
      "Downloaded from 2021-06-15 00:00:00(1623711600) to 2021-07-15 00:00:00(1626303600) 2005.17\n",
      "Processing 8641 of ethusd\n"
     ]
    },
    {
     "data": {
      "application/vnd.jupyter.widget-view+json": {
       "model_id": "4df253bd83554f5b94a57e2cc739423a",
       "version_major": 2,
       "version_minor": 0
      },
      "text/plain": [
       "  0%|          | 0/8641 [00:00<?, ?it/s]"
      ]
     },
     "metadata": {},
     "output_type": "display_data"
    },
    {
     "name": "stdout",
     "output_type": "stream",
     "text": [
      "https://www.bitstamp.net/api/v2/ohlc/ltcusd/?&currency_pair=ltcusd&step=300&limit=1000&start=1623711600\n",
      "https://www.bitstamp.net/api/v2/ohlc/ltcusd/?&currency_pair=ltcusd&step=300&limit=1000&start=1624011600\n",
      "https://www.bitstamp.net/api/v2/ohlc/ltcusd/?&currency_pair=ltcusd&step=300&limit=1000&start=1624311600\n",
      "https://www.bitstamp.net/api/v2/ohlc/ltcusd/?&currency_pair=ltcusd&step=300&limit=1000&start=1624611600\n",
      "https://www.bitstamp.net/api/v2/ohlc/ltcusd/?&currency_pair=ltcusd&step=300&limit=1000&start=1624911600\n",
      "https://www.bitstamp.net/api/v2/ohlc/ltcusd/?&currency_pair=ltcusd&step=300&limit=1000&start=1625211600\n",
      "https://www.bitstamp.net/api/v2/ohlc/ltcusd/?&currency_pair=ltcusd&step=300&limit=1000&start=1625511600\n",
      "https://www.bitstamp.net/api/v2/ohlc/ltcusd/?&currency_pair=ltcusd&step=300&limit=1000&start=1625811600\n",
      "https://www.bitstamp.net/api/v2/ohlc/ltcusd/?&currency_pair=ltcusd&step=300&limit=1000&start=1626111600\n",
      "Downloaded from 2021-06-15 00:00:00(1623711600) to 2021-07-15 00:00:00(1626303600) 131.22\n",
      "Processing 8641 of ltcusd\n"
     ]
    },
    {
     "data": {
      "application/vnd.jupyter.widget-view+json": {
       "model_id": "20bed2c1cbcd46c7886f8758d310988d",
       "version_major": 2,
       "version_minor": 0
      },
      "text/plain": [
       "  0%|          | 0/8641 [00:00<?, ?it/s]"
      ]
     },
     "metadata": {},
     "output_type": "display_data"
    },
    {
     "name": "stdout",
     "output_type": "stream",
     "text": [
      "https://www.bitstamp.net/api/v2/ohlc/ltcbtc/?&currency_pair=ltcbtc&step=300&limit=1000&start=1623711600\n",
      "https://www.bitstamp.net/api/v2/ohlc/ltcbtc/?&currency_pair=ltcbtc&step=300&limit=1000&start=1624011600\n",
      "https://www.bitstamp.net/api/v2/ohlc/ltcbtc/?&currency_pair=ltcbtc&step=300&limit=1000&start=1624311600\n",
      "https://www.bitstamp.net/api/v2/ohlc/ltcbtc/?&currency_pair=ltcbtc&step=300&limit=1000&start=1624611600\n",
      "https://www.bitstamp.net/api/v2/ohlc/ltcbtc/?&currency_pair=ltcbtc&step=300&limit=1000&start=1624911600\n",
      "https://www.bitstamp.net/api/v2/ohlc/ltcbtc/?&currency_pair=ltcbtc&step=300&limit=1000&start=1625211600\n",
      "https://www.bitstamp.net/api/v2/ohlc/ltcbtc/?&currency_pair=ltcbtc&step=300&limit=1000&start=1625511600\n",
      "https://www.bitstamp.net/api/v2/ohlc/ltcbtc/?&currency_pair=ltcbtc&step=300&limit=1000&start=1625811600\n",
      "https://www.bitstamp.net/api/v2/ohlc/ltcbtc/?&currency_pair=ltcbtc&step=300&limit=1000&start=1626111600\n",
      "Downloaded from 2021-06-15 00:00:00(1623711600) to 2021-07-15 00:00:00(1626303600) 0.00398347\n",
      "Processing 8641 of ltcbtc\n"
     ]
    },
    {
     "data": {
      "application/vnd.jupyter.widget-view+json": {
       "model_id": "d07eabfe0e294ee180a47544f3fd1a52",
       "version_major": 2,
       "version_minor": 0
      },
      "text/plain": [
       "  0%|          | 0/8641 [00:00<?, ?it/s]"
      ]
     },
     "metadata": {},
     "output_type": "display_data"
    },
    {
     "name": "stdout",
     "output_type": "stream",
     "text": [
      "data/online10_5 -> OnLineDataProvider (val_keys = {'btcusd': 3, 'ethusd': 3, 'ltcusd': 3, 'ltcbtc': 3}, train_data = 2 , data_detail = DataDetail (windows = 10, minutes = 5, steps_ahead = 1)))\n",
      "https://www.bitstamp.net/api/v2/ohlc/btcusd/?&currency_pair=btcusd&step=300&limit=1000&start=1622502000\n",
      "Downloaded from 2021-06-01 00:00:00(1622502000) to 2021-06-04 11:15:00(1622801700) 36979.84\n",
      "Processing 1000 of btcusd\n"
     ]
    },
    {
     "data": {
      "application/vnd.jupyter.widget-view+json": {
       "model_id": "0681d7161e5f40168dd20e0a38b931b3",
       "version_major": 2,
       "version_minor": 0
      },
      "text/plain": [
       "  0%|          | 0/1000 [00:00<?, ?it/s]"
      ]
     },
     "metadata": {},
     "output_type": "display_data"
    },
    {
     "name": "stdout",
     "output_type": "stream",
     "text": [
      "https://www.bitstamp.net/api/v2/ohlc/ethusd/?&currency_pair=ethusd&step=300&limit=1000&start=1622502000\n",
      "Downloaded from 2021-06-01 00:00:00(1622502000) to 2021-06-04 11:15:00(1622801700) 2662.21\n",
      "Processing 1000 of ethusd\n"
     ]
    },
    {
     "data": {
      "application/vnd.jupyter.widget-view+json": {
       "model_id": "a8e3f876d7c545fb909c2cad24ddc52f",
       "version_major": 2,
       "version_minor": 0
      },
      "text/plain": [
       "  0%|          | 0/1000 [00:00<?, ?it/s]"
      ]
     },
     "metadata": {},
     "output_type": "display_data"
    },
    {
     "name": "stdout",
     "output_type": "stream",
     "text": [
      "https://www.bitstamp.net/api/v2/ohlc/ltcusd/?&currency_pair=ltcusd&step=300&limit=1000&start=1622502000\n",
      "Downloaded from 2021-06-01 00:00:00(1622502000) to 2021-06-04 11:15:00(1622801700) 177.09\n",
      "Processing 1000 of ltcusd\n"
     ]
    },
    {
     "data": {
      "application/vnd.jupyter.widget-view+json": {
       "model_id": "fad85cb0de864a08a1768c16238fea88",
       "version_major": 2,
       "version_minor": 0
      },
      "text/plain": [
       "  0%|          | 0/1000 [00:00<?, ?it/s]"
      ]
     },
     "metadata": {},
     "output_type": "display_data"
    },
    {
     "name": "stdout",
     "output_type": "stream",
     "text": [
      "https://www.bitstamp.net/api/v2/ohlc/ltcbtc/?&currency_pair=ltcbtc&step=300&limit=1000&start=1622502000\n",
      "Downloaded from 2021-06-01 00:00:00(1622502000) to 2021-06-04 11:15:00(1622801700) 0.00478308\n",
      "Processing 1000 of ltcbtc\n"
     ]
    },
    {
     "data": {
      "application/vnd.jupyter.widget-view+json": {
       "model_id": "8b7316b2c3764be69a5d3a714730b620",
       "version_major": 2,
       "version_minor": 0
      },
      "text/plain": [
       "  0%|          | 0/1000 [00:00<?, ?it/s]"
      ]
     },
     "metadata": {},
     "output_type": "display_data"
    },
    {
     "name": "stdout",
     "output_type": "stream",
     "text": [
      "https://www.bitstamp.net/api/v2/ohlc/btcusd/?&currency_pair=btcusd&step=300&limit=1000&start=1590966000\n",
      "Downloaded from 2020-06-01 00:00:00(1590966000) to 2020-06-04 11:15:00(1591265700) 9520.48\n",
      "Processing 1000 of btcusd\n"
     ]
    },
    {
     "data": {
      "application/vnd.jupyter.widget-view+json": {
       "model_id": "e9d89fe9f3da490aafd2f4b06604eef6",
       "version_major": 2,
       "version_minor": 0
      },
      "text/plain": [
       "  0%|          | 0/1000 [00:00<?, ?it/s]"
      ]
     },
     "metadata": {},
     "output_type": "display_data"
    },
    {
     "name": "stdout",
     "output_type": "stream",
     "text": [
      "https://www.bitstamp.net/api/v2/ohlc/ethusd/?&currency_pair=ethusd&step=300&limit=1000&start=1590966000\n",
      "Downloaded from 2020-06-01 00:00:00(1590966000) to 2020-06-04 11:15:00(1591265700) 239.28\n",
      "Processing 1000 of ethusd\n"
     ]
    },
    {
     "data": {
      "application/vnd.jupyter.widget-view+json": {
       "model_id": "39b28875e1f44ed6ba7437f9941485e8",
       "version_major": 2,
       "version_minor": 0
      },
      "text/plain": [
       "  0%|          | 0/1000 [00:00<?, ?it/s]"
      ]
     },
     "metadata": {},
     "output_type": "display_data"
    },
    {
     "name": "stdout",
     "output_type": "stream",
     "text": [
      "https://www.bitstamp.net/api/v2/ohlc/ltcusd/?&currency_pair=ltcusd&step=300&limit=1000&start=1590966000\n",
      "Downloaded from 2020-06-01 00:00:00(1590966000) to 2020-06-04 11:15:00(1591265700) 46.81\n",
      "Processing 1000 of ltcusd\n"
     ]
    },
    {
     "data": {
      "application/vnd.jupyter.widget-view+json": {
       "model_id": "a28f8bea903d45e5be99180caf961d38",
       "version_major": 2,
       "version_minor": 0
      },
      "text/plain": [
       "  0%|          | 0/1000 [00:00<?, ?it/s]"
      ]
     },
     "metadata": {},
     "output_type": "display_data"
    },
    {
     "name": "stdout",
     "output_type": "stream",
     "text": [
      "https://www.bitstamp.net/api/v2/ohlc/ltcbtc/?&currency_pair=ltcbtc&step=300&limit=1000&start=1590966000\n",
      "Downloaded from 2020-06-01 00:00:00(1590966000) to 2020-06-04 11:15:00(1591265700) 0.00493915\n",
      "Processing 1000 of ltcbtc\n"
     ]
    },
    {
     "data": {
      "application/vnd.jupyter.widget-view+json": {
       "model_id": "6a2aff6b07b14579bffe8451a95434ff",
       "version_major": 2,
       "version_minor": 0
      },
      "text/plain": [
       "  0%|          | 0/1000 [00:00<?, ?it/s]"
      ]
     },
     "metadata": {},
     "output_type": "display_data"
    },
    {
     "name": "stdout",
     "output_type": "stream",
     "text": [
      "https://www.bitstamp.net/api/v2/ohlc/btcusd/?&currency_pair=btcusd&step=300&limit=1000&start=1559343600\n",
      "Downloaded from 2019-06-01 00:00:00(1559343600) to 2019-06-04 11:15:00(1559643300) 7963.92\n",
      "Processing 1000 of btcusd\n"
     ]
    },
    {
     "data": {
      "application/vnd.jupyter.widget-view+json": {
       "model_id": "f3ca55f3cf9046cead6624a435826e4a",
       "version_major": 2,
       "version_minor": 0
      },
      "text/plain": [
       "  0%|          | 0/1000 [00:00<?, ?it/s]"
      ]
     },
     "metadata": {},
     "output_type": "display_data"
    },
    {
     "name": "stdout",
     "output_type": "stream",
     "text": [
      "https://www.bitstamp.net/api/v2/ohlc/ethusd/?&currency_pair=ethusd&step=300&limit=1000&start=1559343600\n",
      "Downloaded from 2019-06-01 00:00:00(1559343600) to 2019-06-04 11:15:00(1559643300) 247.42\n",
      "Processing 1000 of ethusd\n"
     ]
    },
    {
     "data": {
      "application/vnd.jupyter.widget-view+json": {
       "model_id": "8a8dabcae7374aa9831dee49ab7bef93",
       "version_major": 2,
       "version_minor": 0
      },
      "text/plain": [
       "  0%|          | 0/1000 [00:00<?, ?it/s]"
      ]
     },
     "metadata": {},
     "output_type": "display_data"
    },
    {
     "name": "stdout",
     "output_type": "stream",
     "text": [
      "https://www.bitstamp.net/api/v2/ohlc/ltcusd/?&currency_pair=ltcusd&step=300&limit=1000&start=1559343600\n",
      "Downloaded from 2019-06-01 00:00:00(1559343600) to 2019-06-04 11:15:00(1559643300) 105.11\n",
      "Processing 1000 of ltcusd\n"
     ]
    },
    {
     "data": {
      "application/vnd.jupyter.widget-view+json": {
       "model_id": "0fb313a561134486a0018f3f4214ea0f",
       "version_major": 2,
       "version_minor": 0
      },
      "text/plain": [
       "  0%|          | 0/1000 [00:00<?, ?it/s]"
      ]
     },
     "metadata": {},
     "output_type": "display_data"
    },
    {
     "name": "stdout",
     "output_type": "stream",
     "text": [
      "https://www.bitstamp.net/api/v2/ohlc/ltcbtc/?&currency_pair=ltcbtc&step=300&limit=1000&start=1559343600\n",
      "Downloaded from 2019-06-01 00:00:00(1559343600) to 2019-06-04 11:15:00(1559643300) 0.01321994\n",
      "Processing 1000 of ltcbtc\n"
     ]
    },
    {
     "data": {
      "application/vnd.jupyter.widget-view+json": {
       "model_id": "297a4ceb844b4507bb525664156ac550",
       "version_major": 2,
       "version_minor": 0
      },
      "text/plain": [
       "  0%|          | 0/1000 [00:00<?, ?it/s]"
      ]
     },
     "metadata": {},
     "output_type": "display_data"
    },
    {
     "name": "stdout",
     "output_type": "stream",
     "text": [
      "https://www.bitstamp.net/api/v2/ohlc/btcusd/?&currency_pair=btcusd&step=300&limit=1000&start=1527807600\n",
      "Downloaded from 2018-06-01 00:00:00(1527807600) to 2018-06-04 11:15:00(1528107300) 7603.79\n",
      "Processing 1000 of btcusd\n"
     ]
    },
    {
     "data": {
      "application/vnd.jupyter.widget-view+json": {
       "model_id": "16bd232d45b444d4b9c9d25b0e29c773",
       "version_major": 2,
       "version_minor": 0
      },
      "text/plain": [
       "  0%|          | 0/1000 [00:00<?, ?it/s]"
      ]
     },
     "metadata": {},
     "output_type": "display_data"
    },
    {
     "name": "stdout",
     "output_type": "stream",
     "text": [
      "https://www.bitstamp.net/api/v2/ohlc/ethusd/?&currency_pair=ethusd&step=300&limit=1000&start=1527807600\n",
      "Downloaded from 2018-06-01 00:00:00(1527807600) to 2018-06-04 11:15:00(1528107300) 605.42\n",
      "Processing 1000 of ethusd\n"
     ]
    },
    {
     "data": {
      "application/vnd.jupyter.widget-view+json": {
       "model_id": "4983b6a8e74c46a1bc74af85d596ec94",
       "version_major": 2,
       "version_minor": 0
      },
      "text/plain": [
       "  0%|          | 0/1000 [00:00<?, ?it/s]"
      ]
     },
     "metadata": {},
     "output_type": "display_data"
    },
    {
     "name": "stdout",
     "output_type": "stream",
     "text": [
      "https://www.bitstamp.net/api/v2/ohlc/ltcusd/?&currency_pair=ltcusd&step=300&limit=1000&start=1527807600\n",
      "Downloaded from 2018-06-01 00:00:00(1527807600) to 2018-06-04 11:15:00(1528107300) 122.36\n",
      "Processing 1000 of ltcusd\n"
     ]
    },
    {
     "data": {
      "application/vnd.jupyter.widget-view+json": {
       "model_id": "7c738e31511a487c894cfcb45efd1b28",
       "version_major": 2,
       "version_minor": 0
      },
      "text/plain": [
       "  0%|          | 0/1000 [00:00<?, ?it/s]"
      ]
     },
     "metadata": {},
     "output_type": "display_data"
    },
    {
     "name": "stdout",
     "output_type": "stream",
     "text": [
      "https://www.bitstamp.net/api/v2/ohlc/ltcbtc/?&currency_pair=ltcbtc&step=300&limit=1000&start=1527807600\n",
      "Downloaded from 2018-06-01 00:00:00(1527807600) to 2018-06-04 11:15:00(1528107300) 0.01605500\n",
      "Processing 1000 of ltcbtc\n"
     ]
    },
    {
     "data": {
      "application/vnd.jupyter.widget-view+json": {
       "model_id": "8da572e1585148b08b666ba85a2958a4",
       "version_major": 2,
       "version_minor": 0
      },
      "text/plain": [
       "  0%|          | 0/1000 [00:00<?, ?it/s]"
      ]
     },
     "metadata": {},
     "output_type": "display_data"
    },
    {
     "name": "stdout",
     "output_type": "stream",
     "text": [
      "https://www.bitstamp.net/api/v2/ohlc/btcusd/?&currency_pair=btcusd&step=300&limit=1000&start=1517443200\n",
      "Downloaded from 2018-02-01 00:00:00(1517443200) to 2018-02-04 11:15:00(1517742900) 8898.23\n",
      "Processing 1000 of btcusd\n"
     ]
    },
    {
     "data": {
      "application/vnd.jupyter.widget-view+json": {
       "model_id": "92fd7a39d5a94ce4968d080775d67953",
       "version_major": 2,
       "version_minor": 0
      },
      "text/plain": [
       "  0%|          | 0/1000 [00:00<?, ?it/s]"
      ]
     },
     "metadata": {},
     "output_type": "display_data"
    },
    {
     "name": "stdout",
     "output_type": "stream",
     "text": [
      "https://www.bitstamp.net/api/v2/ohlc/ethusd/?&currency_pair=ethusd&step=300&limit=1000&start=1517443200\n",
      "Downloaded from 2018-02-01 00:00:00(1517443200) to 2018-02-04 11:15:00(1517742900) 911.19\n",
      "Processing 1000 of ethusd\n"
     ]
    },
    {
     "data": {
      "application/vnd.jupyter.widget-view+json": {
       "model_id": "330c1dd1465c44409edf1c5a2d70a253",
       "version_major": 2,
       "version_minor": 0
      },
      "text/plain": [
       "  0%|          | 0/1000 [00:00<?, ?it/s]"
      ]
     },
     "metadata": {},
     "output_type": "display_data"
    },
    {
     "name": "stdout",
     "output_type": "stream",
     "text": [
      "https://www.bitstamp.net/api/v2/ohlc/ltcusd/?&currency_pair=ltcusd&step=300&limit=1000&start=1517443200\n",
      "Downloaded from 2018-02-01 00:00:00(1517443200) to 2018-02-04 11:15:00(1517742900) 160.78\n",
      "Processing 1000 of ltcusd\n"
     ]
    },
    {
     "data": {
      "application/vnd.jupyter.widget-view+json": {
       "model_id": "14e7e89079214a4299ac900b07c48e3e",
       "version_major": 2,
       "version_minor": 0
      },
      "text/plain": [
       "  0%|          | 0/1000 [00:00<?, ?it/s]"
      ]
     },
     "metadata": {},
     "output_type": "display_data"
    },
    {
     "name": "stdout",
     "output_type": "stream",
     "text": [
      "https://www.bitstamp.net/api/v2/ohlc/ltcbtc/?&currency_pair=ltcbtc&step=300&limit=1000&start=1517443200\n",
      "Downloaded from 2018-02-01 00:00:00(1517443200) to 2018-02-04 11:15:00(1517742900) 0.01802000\n",
      "Processing 1000 of ltcbtc\n"
     ]
    },
    {
     "data": {
      "application/vnd.jupyter.widget-view+json": {
       "model_id": "8f4f1b4df4894d78a3bbafe8c2453ec2",
       "version_major": 2,
       "version_minor": 0
      },
      "text/plain": [
       "  0%|          | 0/1000 [00:00<?, ?it/s]"
      ]
     },
     "metadata": {},
     "output_type": "display_data"
    },
    {
     "name": "stdout",
     "output_type": "stream",
     "text": [
      "https://www.bitstamp.net/api/v2/ohlc/btcusd/?&currency_pair=btcusd&step=300&limit=1000&start=1548979200\n",
      "Downloaded from 2019-02-01 00:00:00(1548979200) to 2019-02-04 11:15:00(1549278900) 3404.48\n",
      "Processing 1000 of btcusd\n"
     ]
    },
    {
     "data": {
      "application/vnd.jupyter.widget-view+json": {
       "model_id": "afab0ebc59f14f5fb5fa46767ebc22f3",
       "version_major": 2,
       "version_minor": 0
      },
      "text/plain": [
       "  0%|          | 0/1000 [00:00<?, ?it/s]"
      ]
     },
     "metadata": {},
     "output_type": "display_data"
    },
    {
     "name": "stdout",
     "output_type": "stream",
     "text": [
      "https://www.bitstamp.net/api/v2/ohlc/ethusd/?&currency_pair=ethusd&step=300&limit=1000&start=1548979200\n",
      "Downloaded from 2019-02-01 00:00:00(1548979200) to 2019-02-04 11:15:00(1549278900) 105.66\n",
      "Processing 1000 of ethusd\n"
     ]
    },
    {
     "data": {
      "application/vnd.jupyter.widget-view+json": {
       "model_id": "6e7ec0b27d6c4c1d9205720cf0dea1f9",
       "version_major": 2,
       "version_minor": 0
      },
      "text/plain": [
       "  0%|          | 0/1000 [00:00<?, ?it/s]"
      ]
     },
     "metadata": {},
     "output_type": "display_data"
    },
    {
     "name": "stdout",
     "output_type": "stream",
     "text": [
      "https://www.bitstamp.net/api/v2/ohlc/ltcusd/?&currency_pair=ltcusd&step=300&limit=1000&start=1548979200\n",
      "Downloaded from 2019-02-01 00:00:00(1548979200) to 2019-02-04 11:15:00(1549278900) 33.28\n",
      "Processing 1000 of ltcusd\n"
     ]
    },
    {
     "data": {
      "application/vnd.jupyter.widget-view+json": {
       "model_id": "2850a5b6a984490ab20e96e88b8fc914",
       "version_major": 2,
       "version_minor": 0
      },
      "text/plain": [
       "  0%|          | 0/1000 [00:00<?, ?it/s]"
      ]
     },
     "metadata": {},
     "output_type": "display_data"
    },
    {
     "name": "stdout",
     "output_type": "stream",
     "text": [
      "https://www.bitstamp.net/api/v2/ohlc/ltcbtc/?&currency_pair=ltcbtc&step=300&limit=1000&start=1548979200\n",
      "Downloaded from 2019-02-01 00:00:00(1548979200) to 2019-02-04 11:15:00(1549278900) 0.00976025\n",
      "Processing 1000 of ltcbtc\n"
     ]
    },
    {
     "data": {
      "application/vnd.jupyter.widget-view+json": {
       "model_id": "5a39ce4d6085406895ab21ddd47f60ae",
       "version_major": 2,
       "version_minor": 0
      },
      "text/plain": [
       "  0%|          | 0/1000 [00:00<?, ?it/s]"
      ]
     },
     "metadata": {},
     "output_type": "display_data"
    },
    {
     "name": "stdout",
     "output_type": "stream",
     "text": [
      "https://www.bitstamp.net/api/v2/ohlc/btcusd/?&currency_pair=btcusd&step=300&limit=1000&start=1580515200\n",
      "Downloaded from 2020-02-01 00:00:00(1580515200) to 2020-02-04 11:15:00(1580814900) 9163.36\n",
      "Processing 1000 of btcusd\n"
     ]
    },
    {
     "data": {
      "application/vnd.jupyter.widget-view+json": {
       "model_id": "0bcf70217d6645bd966de4d86effb9ff",
       "version_major": 2,
       "version_minor": 0
      },
      "text/plain": [
       "  0%|          | 0/1000 [00:00<?, ?it/s]"
      ]
     },
     "metadata": {},
     "output_type": "display_data"
    },
    {
     "name": "stdout",
     "output_type": "stream",
     "text": [
      "https://www.bitstamp.net/api/v2/ohlc/ethusd/?&currency_pair=ethusd&step=300&limit=1000&start=1580515200\n",
      "Downloaded from 2020-02-01 00:00:00(1580515200) to 2020-02-04 11:15:00(1580814900) 185.75\n",
      "Processing 1000 of ethusd\n"
     ]
    },
    {
     "data": {
      "application/vnd.jupyter.widget-view+json": {
       "model_id": "a0cbe04d270c418cbe940f121fd1b316",
       "version_major": 2,
       "version_minor": 0
      },
      "text/plain": [
       "  0%|          | 0/1000 [00:00<?, ?it/s]"
      ]
     },
     "metadata": {},
     "output_type": "display_data"
    },
    {
     "name": "stdout",
     "output_type": "stream",
     "text": [
      "https://www.bitstamp.net/api/v2/ohlc/ltcusd/?&currency_pair=ltcusd&step=300&limit=1000&start=1580515200\n",
      "Downloaded from 2020-02-01 00:00:00(1580515200) to 2020-02-04 11:15:00(1580814900) 67.19\n",
      "Processing 1000 of ltcusd\n"
     ]
    },
    {
     "data": {
      "application/vnd.jupyter.widget-view+json": {
       "model_id": "65edf12da73b462daa5430be48e3e278",
       "version_major": 2,
       "version_minor": 0
      },
      "text/plain": [
       "  0%|          | 0/1000 [00:00<?, ?it/s]"
      ]
     },
     "metadata": {},
     "output_type": "display_data"
    },
    {
     "name": "stdout",
     "output_type": "stream",
     "text": [
      "https://www.bitstamp.net/api/v2/ohlc/ltcbtc/?&currency_pair=ltcbtc&step=300&limit=1000&start=1580515200\n",
      "Downloaded from 2020-02-01 00:00:00(1580515200) to 2020-02-04 11:15:00(1580814900) 0.00734000\n",
      "Processing 1000 of ltcbtc\n"
     ]
    },
    {
     "data": {
      "application/vnd.jupyter.widget-view+json": {
       "model_id": "b11625511c3044cb86448d3fc5ceb916",
       "version_major": 2,
       "version_minor": 0
      },
      "text/plain": [
       "  0%|          | 0/1000 [00:00<?, ?it/s]"
      ]
     },
     "metadata": {},
     "output_type": "display_data"
    },
    {
     "name": "stdout",
     "output_type": "stream",
     "text": [
      "https://www.bitstamp.net/api/v2/ohlc/btcusd/?&currency_pair=btcusd&step=300&limit=1000&start=1612137600\n",
      "Downloaded from 2021-02-01 00:00:00(1612137600) to 2021-02-04 11:15:00(1612437300) 37713.31\n",
      "Processing 1000 of btcusd\n"
     ]
    },
    {
     "data": {
      "application/vnd.jupyter.widget-view+json": {
       "model_id": "a6b48a7fc9eb40b19441eaf4cd0d6655",
       "version_major": 2,
       "version_minor": 0
      },
      "text/plain": [
       "  0%|          | 0/1000 [00:00<?, ?it/s]"
      ]
     },
     "metadata": {},
     "output_type": "display_data"
    },
    {
     "name": "stdout",
     "output_type": "stream",
     "text": [
      "https://www.bitstamp.net/api/v2/ohlc/ethusd/?&currency_pair=ethusd&step=300&limit=1000&start=1612137600\n",
      "Downloaded from 2021-02-01 00:00:00(1612137600) to 2021-02-04 11:15:00(1612437300) 1633.70\n",
      "Processing 1000 of ethusd\n"
     ]
    },
    {
     "data": {
      "application/vnd.jupyter.widget-view+json": {
       "model_id": "6b22435ccd904041ad5c83995fa44484",
       "version_major": 2,
       "version_minor": 0
      },
      "text/plain": [
       "  0%|          | 0/1000 [00:00<?, ?it/s]"
      ]
     },
     "metadata": {},
     "output_type": "display_data"
    },
    {
     "name": "stdout",
     "output_type": "stream",
     "text": [
      "https://www.bitstamp.net/api/v2/ohlc/ltcusd/?&currency_pair=ltcusd&step=300&limit=1000&start=1612137600\n",
      "Downloaded from 2021-02-01 00:00:00(1612137600) to 2021-02-04 11:15:00(1612437300) 148.10\n",
      "Processing 1000 of ltcusd\n"
     ]
    },
    {
     "data": {
      "application/vnd.jupyter.widget-view+json": {
       "model_id": "ce4ad1e6096c443c94d9c7c0a669de52",
       "version_major": 2,
       "version_minor": 0
      },
      "text/plain": [
       "  0%|          | 0/1000 [00:00<?, ?it/s]"
      ]
     },
     "metadata": {},
     "output_type": "display_data"
    },
    {
     "name": "stdout",
     "output_type": "stream",
     "text": [
      "https://www.bitstamp.net/api/v2/ohlc/ltcbtc/?&currency_pair=ltcbtc&step=300&limit=1000&start=1612137600\n",
      "Downloaded from 2021-02-01 00:00:00(1612137600) to 2021-02-04 11:15:00(1612437300) 0.00392037\n",
      "Processing 1000 of ltcbtc\n"
     ]
    },
    {
     "data": {
      "application/vnd.jupyter.widget-view+json": {
       "model_id": "ef194069f50b4b0b9667a329c4171364",
       "version_major": 2,
       "version_minor": 0
      },
      "text/plain": [
       "  0%|          | 0/1000 [00:00<?, ?it/s]"
      ]
     },
     "metadata": {},
     "output_type": "display_data"
    },
    {
     "name": "stdout",
     "output_type": "stream",
     "text": [
      "https://www.bitstamp.net/api/v2/ohlc/btcusd/?&currency_pair=btcusd&step=300&limit=1000&start=1623711600\n",
      "https://www.bitstamp.net/api/v2/ohlc/btcusd/?&currency_pair=btcusd&step=300&limit=1000&start=1624011600\n",
      "https://www.bitstamp.net/api/v2/ohlc/btcusd/?&currency_pair=btcusd&step=300&limit=1000&start=1624311600\n",
      "https://www.bitstamp.net/api/v2/ohlc/btcusd/?&currency_pair=btcusd&step=300&limit=1000&start=1624611600\n",
      "https://www.bitstamp.net/api/v2/ohlc/btcusd/?&currency_pair=btcusd&step=300&limit=1000&start=1624911600\n",
      "https://www.bitstamp.net/api/v2/ohlc/btcusd/?&currency_pair=btcusd&step=300&limit=1000&start=1625211600\n",
      "https://www.bitstamp.net/api/v2/ohlc/btcusd/?&currency_pair=btcusd&step=300&limit=1000&start=1625511600\n",
      "https://www.bitstamp.net/api/v2/ohlc/btcusd/?&currency_pair=btcusd&step=300&limit=1000&start=1625811600\n",
      "https://www.bitstamp.net/api/v2/ohlc/btcusd/?&currency_pair=btcusd&step=300&limit=1000&start=1626111600\n",
      "Downloaded from 2021-06-15 00:00:00(1623711600) to 2021-07-15 00:00:00(1626303600) 32978.97\n",
      "Processing 8641 of btcusd\n"
     ]
    },
    {
     "data": {
      "application/vnd.jupyter.widget-view+json": {
       "model_id": "81b1986df4e3415e943fafe9aa24ff58",
       "version_major": 2,
       "version_minor": 0
      },
      "text/plain": [
       "  0%|          | 0/8641 [00:00<?, ?it/s]"
      ]
     },
     "metadata": {},
     "output_type": "display_data"
    },
    {
     "name": "stdout",
     "output_type": "stream",
     "text": [
      "https://www.bitstamp.net/api/v2/ohlc/ethusd/?&currency_pair=ethusd&step=300&limit=1000&start=1623711600\n",
      "https://www.bitstamp.net/api/v2/ohlc/ethusd/?&currency_pair=ethusd&step=300&limit=1000&start=1624011600\n",
      "https://www.bitstamp.net/api/v2/ohlc/ethusd/?&currency_pair=ethusd&step=300&limit=1000&start=1624311600\n",
      "https://www.bitstamp.net/api/v2/ohlc/ethusd/?&currency_pair=ethusd&step=300&limit=1000&start=1624611600\n",
      "https://www.bitstamp.net/api/v2/ohlc/ethusd/?&currency_pair=ethusd&step=300&limit=1000&start=1624911600\n",
      "https://www.bitstamp.net/api/v2/ohlc/ethusd/?&currency_pair=ethusd&step=300&limit=1000&start=1625211600\n",
      "https://www.bitstamp.net/api/v2/ohlc/ethusd/?&currency_pair=ethusd&step=300&limit=1000&start=1625511600\n",
      "https://www.bitstamp.net/api/v2/ohlc/ethusd/?&currency_pair=ethusd&step=300&limit=1000&start=1625811600\n",
      "https://www.bitstamp.net/api/v2/ohlc/ethusd/?&currency_pair=ethusd&step=300&limit=1000&start=1626111600\n",
      "Downloaded from 2021-06-15 00:00:00(1623711600) to 2021-07-15 00:00:00(1626303600) 2005.17\n",
      "Processing 8641 of ethusd\n"
     ]
    },
    {
     "data": {
      "application/vnd.jupyter.widget-view+json": {
       "model_id": "2203c661029f4c939c4555b43c3c3e8c",
       "version_major": 2,
       "version_minor": 0
      },
      "text/plain": [
       "  0%|          | 0/8641 [00:00<?, ?it/s]"
      ]
     },
     "metadata": {},
     "output_type": "display_data"
    },
    {
     "name": "stdout",
     "output_type": "stream",
     "text": [
      "https://www.bitstamp.net/api/v2/ohlc/ltcusd/?&currency_pair=ltcusd&step=300&limit=1000&start=1623711600\n",
      "https://www.bitstamp.net/api/v2/ohlc/ltcusd/?&currency_pair=ltcusd&step=300&limit=1000&start=1624011600\n",
      "https://www.bitstamp.net/api/v2/ohlc/ltcusd/?&currency_pair=ltcusd&step=300&limit=1000&start=1624311600\n",
      "https://www.bitstamp.net/api/v2/ohlc/ltcusd/?&currency_pair=ltcusd&step=300&limit=1000&start=1624611600\n",
      "https://www.bitstamp.net/api/v2/ohlc/ltcusd/?&currency_pair=ltcusd&step=300&limit=1000&start=1624911600\n",
      "https://www.bitstamp.net/api/v2/ohlc/ltcusd/?&currency_pair=ltcusd&step=300&limit=1000&start=1625211600\n",
      "https://www.bitstamp.net/api/v2/ohlc/ltcusd/?&currency_pair=ltcusd&step=300&limit=1000&start=1625511600\n",
      "https://www.bitstamp.net/api/v2/ohlc/ltcusd/?&currency_pair=ltcusd&step=300&limit=1000&start=1625811600\n",
      "https://www.bitstamp.net/api/v2/ohlc/ltcusd/?&currency_pair=ltcusd&step=300&limit=1000&start=1626111600\n",
      "Downloaded from 2021-06-15 00:00:00(1623711600) to 2021-07-15 00:00:00(1626303600) 131.22\n",
      "Processing 8641 of ltcusd\n"
     ]
    },
    {
     "data": {
      "application/vnd.jupyter.widget-view+json": {
       "model_id": "74034f16d5dc466aadfb7ba6b9441d96",
       "version_major": 2,
       "version_minor": 0
      },
      "text/plain": [
       "  0%|          | 0/8641 [00:00<?, ?it/s]"
      ]
     },
     "metadata": {},
     "output_type": "display_data"
    },
    {
     "name": "stdout",
     "output_type": "stream",
     "text": [
      "https://www.bitstamp.net/api/v2/ohlc/ltcbtc/?&currency_pair=ltcbtc&step=300&limit=1000&start=1623711600\n",
      "https://www.bitstamp.net/api/v2/ohlc/ltcbtc/?&currency_pair=ltcbtc&step=300&limit=1000&start=1624011600\n",
      "https://www.bitstamp.net/api/v2/ohlc/ltcbtc/?&currency_pair=ltcbtc&step=300&limit=1000&start=1624311600\n",
      "https://www.bitstamp.net/api/v2/ohlc/ltcbtc/?&currency_pair=ltcbtc&step=300&limit=1000&start=1624611600\n",
      "https://www.bitstamp.net/api/v2/ohlc/ltcbtc/?&currency_pair=ltcbtc&step=300&limit=1000&start=1624911600\n",
      "https://www.bitstamp.net/api/v2/ohlc/ltcbtc/?&currency_pair=ltcbtc&step=300&limit=1000&start=1625211600\n",
      "https://www.bitstamp.net/api/v2/ohlc/ltcbtc/?&currency_pair=ltcbtc&step=300&limit=1000&start=1625511600\n",
      "https://www.bitstamp.net/api/v2/ohlc/ltcbtc/?&currency_pair=ltcbtc&step=300&limit=1000&start=1625811600\n",
      "https://www.bitstamp.net/api/v2/ohlc/ltcbtc/?&currency_pair=ltcbtc&step=300&limit=1000&start=1626111600\n",
      "Downloaded from 2021-06-15 00:00:00(1623711600) to 2021-07-15 00:00:00(1626303600) 0.00398347\n",
      "Processing 8641 of ltcbtc\n"
     ]
    },
    {
     "data": {
      "application/vnd.jupyter.widget-view+json": {
       "model_id": "b955bdb936784b0484cedb87988cc643",
       "version_major": 2,
       "version_minor": 0
      },
      "text/plain": [
       "  0%|          | 0/8641 [00:00<?, ?it/s]"
      ]
     },
     "metadata": {},
     "output_type": "display_data"
    },
    {
     "name": "stdout",
     "output_type": "stream",
     "text": [
      "data/online20_5 -> OnLineDataProvider (val_keys = {'btcusd': 3, 'ethusd': 3, 'ltcusd': 3, 'ltcbtc': 3}, train_data = 2 , data_detail = DataDetail (windows = 20, minutes = 5, steps_ahead = 1)))\n",
      "https://www.bitstamp.net/api/v2/ohlc/btcusd/?&currency_pair=btcusd&step=300&limit=1000&start=1622502000\n",
      "Downloaded from 2021-06-01 00:00:00(1622502000) to 2021-06-04 11:15:00(1622801700) 36979.84\n",
      "Processing 1000 of btcusd\n"
     ]
    },
    {
     "data": {
      "application/vnd.jupyter.widget-view+json": {
       "model_id": "f6f4bc642dd743e1907135f8832dc2da",
       "version_major": 2,
       "version_minor": 0
      },
      "text/plain": [
       "  0%|          | 0/1000 [00:00<?, ?it/s]"
      ]
     },
     "metadata": {},
     "output_type": "display_data"
    },
    {
     "name": "stdout",
     "output_type": "stream",
     "text": [
      "https://www.bitstamp.net/api/v2/ohlc/ethusd/?&currency_pair=ethusd&step=300&limit=1000&start=1622502000\n",
      "Downloaded from 2021-06-01 00:00:00(1622502000) to 2021-06-04 11:15:00(1622801700) 2662.21\n",
      "Processing 1000 of ethusd\n"
     ]
    },
    {
     "data": {
      "application/vnd.jupyter.widget-view+json": {
       "model_id": "c22a707190564e299831f641ae24e925",
       "version_major": 2,
       "version_minor": 0
      },
      "text/plain": [
       "  0%|          | 0/1000 [00:00<?, ?it/s]"
      ]
     },
     "metadata": {},
     "output_type": "display_data"
    },
    {
     "name": "stdout",
     "output_type": "stream",
     "text": [
      "https://www.bitstamp.net/api/v2/ohlc/ltcusd/?&currency_pair=ltcusd&step=300&limit=1000&start=1622502000\n",
      "Downloaded from 2021-06-01 00:00:00(1622502000) to 2021-06-04 11:15:00(1622801700) 177.09\n",
      "Processing 1000 of ltcusd\n"
     ]
    },
    {
     "data": {
      "application/vnd.jupyter.widget-view+json": {
       "model_id": "c90669f638ae43e99768de2343e46ff0",
       "version_major": 2,
       "version_minor": 0
      },
      "text/plain": [
       "  0%|          | 0/1000 [00:00<?, ?it/s]"
      ]
     },
     "metadata": {},
     "output_type": "display_data"
    },
    {
     "name": "stdout",
     "output_type": "stream",
     "text": [
      "https://www.bitstamp.net/api/v2/ohlc/ltcbtc/?&currency_pair=ltcbtc&step=300&limit=1000&start=1622502000\n",
      "Downloaded from 2021-06-01 00:00:00(1622502000) to 2021-06-04 11:15:00(1622801700) 0.00478308\n",
      "Processing 1000 of ltcbtc\n"
     ]
    },
    {
     "data": {
      "application/vnd.jupyter.widget-view+json": {
       "model_id": "7beca2c5a29a4273976e345a5a768c34",
       "version_major": 2,
       "version_minor": 0
      },
      "text/plain": [
       "  0%|          | 0/1000 [00:00<?, ?it/s]"
      ]
     },
     "metadata": {},
     "output_type": "display_data"
    },
    {
     "name": "stdout",
     "output_type": "stream",
     "text": [
      "https://www.bitstamp.net/api/v2/ohlc/btcusd/?&currency_pair=btcusd&step=300&limit=1000&start=1590966000\n",
      "Downloaded from 2020-06-01 00:00:00(1590966000) to 2020-06-04 11:15:00(1591265700) 9520.48\n",
      "Processing 1000 of btcusd\n"
     ]
    },
    {
     "data": {
      "application/vnd.jupyter.widget-view+json": {
       "model_id": "4950a17fb5f64e70bc5dc806a8fb6f30",
       "version_major": 2,
       "version_minor": 0
      },
      "text/plain": [
       "  0%|          | 0/1000 [00:00<?, ?it/s]"
      ]
     },
     "metadata": {},
     "output_type": "display_data"
    },
    {
     "name": "stdout",
     "output_type": "stream",
     "text": [
      "https://www.bitstamp.net/api/v2/ohlc/ethusd/?&currency_pair=ethusd&step=300&limit=1000&start=1590966000\n",
      "Downloaded from 2020-06-01 00:00:00(1590966000) to 2020-06-04 11:15:00(1591265700) 239.28\n",
      "Processing 1000 of ethusd\n"
     ]
    },
    {
     "data": {
      "application/vnd.jupyter.widget-view+json": {
       "model_id": "356cf59d3970457cae8b04f1d60ec345",
       "version_major": 2,
       "version_minor": 0
      },
      "text/plain": [
       "  0%|          | 0/1000 [00:00<?, ?it/s]"
      ]
     },
     "metadata": {},
     "output_type": "display_data"
    },
    {
     "name": "stdout",
     "output_type": "stream",
     "text": [
      "https://www.bitstamp.net/api/v2/ohlc/ltcusd/?&currency_pair=ltcusd&step=300&limit=1000&start=1590966000\n",
      "Downloaded from 2020-06-01 00:00:00(1590966000) to 2020-06-04 11:15:00(1591265700) 46.81\n",
      "Processing 1000 of ltcusd\n"
     ]
    },
    {
     "data": {
      "application/vnd.jupyter.widget-view+json": {
       "model_id": "770a1dc8ebfa4971bf29eee3ca2704bc",
       "version_major": 2,
       "version_minor": 0
      },
      "text/plain": [
       "  0%|          | 0/1000 [00:00<?, ?it/s]"
      ]
     },
     "metadata": {},
     "output_type": "display_data"
    },
    {
     "name": "stdout",
     "output_type": "stream",
     "text": [
      "https://www.bitstamp.net/api/v2/ohlc/ltcbtc/?&currency_pair=ltcbtc&step=300&limit=1000&start=1590966000\n",
      "Downloaded from 2020-06-01 00:00:00(1590966000) to 2020-06-04 11:15:00(1591265700) 0.00493915\n",
      "Processing 1000 of ltcbtc\n"
     ]
    },
    {
     "data": {
      "application/vnd.jupyter.widget-view+json": {
       "model_id": "66bd8480a6e241aeb807a127cb33ce50",
       "version_major": 2,
       "version_minor": 0
      },
      "text/plain": [
       "  0%|          | 0/1000 [00:00<?, ?it/s]"
      ]
     },
     "metadata": {},
     "output_type": "display_data"
    },
    {
     "name": "stdout",
     "output_type": "stream",
     "text": [
      "https://www.bitstamp.net/api/v2/ohlc/btcusd/?&currency_pair=btcusd&step=300&limit=1000&start=1559343600\n",
      "Downloaded from 2019-06-01 00:00:00(1559343600) to 2019-06-04 11:15:00(1559643300) 7963.92\n",
      "Processing 1000 of btcusd\n"
     ]
    },
    {
     "data": {
      "application/vnd.jupyter.widget-view+json": {
       "model_id": "def64831350e49389237163300c9805b",
       "version_major": 2,
       "version_minor": 0
      },
      "text/plain": [
       "  0%|          | 0/1000 [00:00<?, ?it/s]"
      ]
     },
     "metadata": {},
     "output_type": "display_data"
    },
    {
     "name": "stdout",
     "output_type": "stream",
     "text": [
      "https://www.bitstamp.net/api/v2/ohlc/ethusd/?&currency_pair=ethusd&step=300&limit=1000&start=1559343600\n",
      "Downloaded from 2019-06-01 00:00:00(1559343600) to 2019-06-04 11:15:00(1559643300) 247.42\n",
      "Processing 1000 of ethusd\n"
     ]
    },
    {
     "data": {
      "application/vnd.jupyter.widget-view+json": {
       "model_id": "9067dcd71b7040d78b63c8e4ab08094b",
       "version_major": 2,
       "version_minor": 0
      },
      "text/plain": [
       "  0%|          | 0/1000 [00:00<?, ?it/s]"
      ]
     },
     "metadata": {},
     "output_type": "display_data"
    },
    {
     "name": "stdout",
     "output_type": "stream",
     "text": [
      "https://www.bitstamp.net/api/v2/ohlc/ltcusd/?&currency_pair=ltcusd&step=300&limit=1000&start=1559343600\n",
      "Downloaded from 2019-06-01 00:00:00(1559343600) to 2019-06-04 11:15:00(1559643300) 105.11\n",
      "Processing 1000 of ltcusd\n"
     ]
    },
    {
     "data": {
      "application/vnd.jupyter.widget-view+json": {
       "model_id": "a04aa6b74bcc41d5a0807a7bb703009e",
       "version_major": 2,
       "version_minor": 0
      },
      "text/plain": [
       "  0%|          | 0/1000 [00:00<?, ?it/s]"
      ]
     },
     "metadata": {},
     "output_type": "display_data"
    },
    {
     "name": "stdout",
     "output_type": "stream",
     "text": [
      "https://www.bitstamp.net/api/v2/ohlc/ltcbtc/?&currency_pair=ltcbtc&step=300&limit=1000&start=1559343600\n",
      "Downloaded from 2019-06-01 00:00:00(1559343600) to 2019-06-04 11:15:00(1559643300) 0.01321994\n",
      "Processing 1000 of ltcbtc\n"
     ]
    },
    {
     "data": {
      "application/vnd.jupyter.widget-view+json": {
       "model_id": "a770769b806d49dd80e5836208dc3766",
       "version_major": 2,
       "version_minor": 0
      },
      "text/plain": [
       "  0%|          | 0/1000 [00:00<?, ?it/s]"
      ]
     },
     "metadata": {},
     "output_type": "display_data"
    },
    {
     "name": "stdout",
     "output_type": "stream",
     "text": [
      "https://www.bitstamp.net/api/v2/ohlc/btcusd/?&currency_pair=btcusd&step=300&limit=1000&start=1527807600\n",
      "Downloaded from 2018-06-01 00:00:00(1527807600) to 2018-06-04 11:15:00(1528107300) 7603.79\n",
      "Processing 1000 of btcusd\n"
     ]
    },
    {
     "data": {
      "application/vnd.jupyter.widget-view+json": {
       "model_id": "81a81fb0baf44b5e9e094e4b999c7ac5",
       "version_major": 2,
       "version_minor": 0
      },
      "text/plain": [
       "  0%|          | 0/1000 [00:00<?, ?it/s]"
      ]
     },
     "metadata": {},
     "output_type": "display_data"
    },
    {
     "name": "stdout",
     "output_type": "stream",
     "text": [
      "https://www.bitstamp.net/api/v2/ohlc/ethusd/?&currency_pair=ethusd&step=300&limit=1000&start=1527807600\n",
      "Downloaded from 2018-06-01 00:00:00(1527807600) to 2018-06-04 11:15:00(1528107300) 605.42\n",
      "Processing 1000 of ethusd\n"
     ]
    },
    {
     "data": {
      "application/vnd.jupyter.widget-view+json": {
       "model_id": "383739b0bbe64c5dbbc959b48d2223c0",
       "version_major": 2,
       "version_minor": 0
      },
      "text/plain": [
       "  0%|          | 0/1000 [00:00<?, ?it/s]"
      ]
     },
     "metadata": {},
     "output_type": "display_data"
    },
    {
     "name": "stdout",
     "output_type": "stream",
     "text": [
      "https://www.bitstamp.net/api/v2/ohlc/ltcusd/?&currency_pair=ltcusd&step=300&limit=1000&start=1527807600\n",
      "Downloaded from 2018-06-01 00:00:00(1527807600) to 2018-06-04 11:15:00(1528107300) 122.36\n",
      "Processing 1000 of ltcusd\n"
     ]
    },
    {
     "data": {
      "application/vnd.jupyter.widget-view+json": {
       "model_id": "b59c5ebdf7af425eb91dafc518c3fa30",
       "version_major": 2,
       "version_minor": 0
      },
      "text/plain": [
       "  0%|          | 0/1000 [00:00<?, ?it/s]"
      ]
     },
     "metadata": {},
     "output_type": "display_data"
    },
    {
     "name": "stdout",
     "output_type": "stream",
     "text": [
      "https://www.bitstamp.net/api/v2/ohlc/ltcbtc/?&currency_pair=ltcbtc&step=300&limit=1000&start=1527807600\n",
      "Downloaded from 2018-06-01 00:00:00(1527807600) to 2018-06-04 11:15:00(1528107300) 0.01605500\n",
      "Processing 1000 of ltcbtc\n"
     ]
    },
    {
     "data": {
      "application/vnd.jupyter.widget-view+json": {
       "model_id": "d363186ee91d49928727fe65eddd61b0",
       "version_major": 2,
       "version_minor": 0
      },
      "text/plain": [
       "  0%|          | 0/1000 [00:00<?, ?it/s]"
      ]
     },
     "metadata": {},
     "output_type": "display_data"
    },
    {
     "name": "stdout",
     "output_type": "stream",
     "text": [
      "https://www.bitstamp.net/api/v2/ohlc/btcusd/?&currency_pair=btcusd&step=300&limit=1000&start=1517443200\n",
      "Downloaded from 2018-02-01 00:00:00(1517443200) to 2018-02-04 11:15:00(1517742900) 8898.23\n",
      "Processing 1000 of btcusd\n"
     ]
    },
    {
     "data": {
      "application/vnd.jupyter.widget-view+json": {
       "model_id": "01b46916514b41f9a7a17ebbd2daa5ea",
       "version_major": 2,
       "version_minor": 0
      },
      "text/plain": [
       "  0%|          | 0/1000 [00:00<?, ?it/s]"
      ]
     },
     "metadata": {},
     "output_type": "display_data"
    },
    {
     "name": "stdout",
     "output_type": "stream",
     "text": [
      "https://www.bitstamp.net/api/v2/ohlc/ethusd/?&currency_pair=ethusd&step=300&limit=1000&start=1517443200\n",
      "Downloaded from 2018-02-01 00:00:00(1517443200) to 2018-02-04 11:15:00(1517742900) 911.19\n",
      "Processing 1000 of ethusd\n"
     ]
    },
    {
     "data": {
      "application/vnd.jupyter.widget-view+json": {
       "model_id": "bd7cd3b1c509430d9c5c36459e2ea3df",
       "version_major": 2,
       "version_minor": 0
      },
      "text/plain": [
       "  0%|          | 0/1000 [00:00<?, ?it/s]"
      ]
     },
     "metadata": {},
     "output_type": "display_data"
    },
    {
     "name": "stdout",
     "output_type": "stream",
     "text": [
      "https://www.bitstamp.net/api/v2/ohlc/ltcusd/?&currency_pair=ltcusd&step=300&limit=1000&start=1517443200\n",
      "Downloaded from 2018-02-01 00:00:00(1517443200) to 2018-02-04 11:15:00(1517742900) 160.78\n",
      "Processing 1000 of ltcusd\n"
     ]
    },
    {
     "data": {
      "application/vnd.jupyter.widget-view+json": {
       "model_id": "e669427afb284f12a3d64a40841b6e25",
       "version_major": 2,
       "version_minor": 0
      },
      "text/plain": [
       "  0%|          | 0/1000 [00:00<?, ?it/s]"
      ]
     },
     "metadata": {},
     "output_type": "display_data"
    },
    {
     "name": "stdout",
     "output_type": "stream",
     "text": [
      "https://www.bitstamp.net/api/v2/ohlc/ltcbtc/?&currency_pair=ltcbtc&step=300&limit=1000&start=1517443200\n",
      "Downloaded from 2018-02-01 00:00:00(1517443200) to 2018-02-04 11:15:00(1517742900) 0.01802000\n",
      "Processing 1000 of ltcbtc\n"
     ]
    },
    {
     "data": {
      "application/vnd.jupyter.widget-view+json": {
       "model_id": "f7eb8722be394366a7f8d1af77ffd90d",
       "version_major": 2,
       "version_minor": 0
      },
      "text/plain": [
       "  0%|          | 0/1000 [00:00<?, ?it/s]"
      ]
     },
     "metadata": {},
     "output_type": "display_data"
    },
    {
     "name": "stdout",
     "output_type": "stream",
     "text": [
      "https://www.bitstamp.net/api/v2/ohlc/btcusd/?&currency_pair=btcusd&step=300&limit=1000&start=1548979200\n",
      "Downloaded from 2019-02-01 00:00:00(1548979200) to 2019-02-04 11:15:00(1549278900) 3404.48\n",
      "Processing 1000 of btcusd\n"
     ]
    },
    {
     "data": {
      "application/vnd.jupyter.widget-view+json": {
       "model_id": "1ac8d969e9df43b4998ee7003981d269",
       "version_major": 2,
       "version_minor": 0
      },
      "text/plain": [
       "  0%|          | 0/1000 [00:00<?, ?it/s]"
      ]
     },
     "metadata": {},
     "output_type": "display_data"
    },
    {
     "name": "stdout",
     "output_type": "stream",
     "text": [
      "https://www.bitstamp.net/api/v2/ohlc/ethusd/?&currency_pair=ethusd&step=300&limit=1000&start=1548979200\n",
      "Downloaded from 2019-02-01 00:00:00(1548979200) to 2019-02-04 11:15:00(1549278900) 105.66\n",
      "Processing 1000 of ethusd\n"
     ]
    },
    {
     "data": {
      "application/vnd.jupyter.widget-view+json": {
       "model_id": "c061ae24492b45e0aecfd83b3714b6fd",
       "version_major": 2,
       "version_minor": 0
      },
      "text/plain": [
       "  0%|          | 0/1000 [00:00<?, ?it/s]"
      ]
     },
     "metadata": {},
     "output_type": "display_data"
    },
    {
     "name": "stdout",
     "output_type": "stream",
     "text": [
      "https://www.bitstamp.net/api/v2/ohlc/ltcusd/?&currency_pair=ltcusd&step=300&limit=1000&start=1548979200\n",
      "Downloaded from 2019-02-01 00:00:00(1548979200) to 2019-02-04 11:15:00(1549278900) 33.28\n",
      "Processing 1000 of ltcusd\n"
     ]
    },
    {
     "data": {
      "application/vnd.jupyter.widget-view+json": {
       "model_id": "779d37f01a8141af8291876e08a8be4a",
       "version_major": 2,
       "version_minor": 0
      },
      "text/plain": [
       "  0%|          | 0/1000 [00:00<?, ?it/s]"
      ]
     },
     "metadata": {},
     "output_type": "display_data"
    },
    {
     "name": "stdout",
     "output_type": "stream",
     "text": [
      "https://www.bitstamp.net/api/v2/ohlc/ltcbtc/?&currency_pair=ltcbtc&step=300&limit=1000&start=1548979200\n",
      "Downloaded from 2019-02-01 00:00:00(1548979200) to 2019-02-04 11:15:00(1549278900) 0.00976025\n",
      "Processing 1000 of ltcbtc\n"
     ]
    },
    {
     "data": {
      "application/vnd.jupyter.widget-view+json": {
       "model_id": "32bbb17ff4f44c6aaf33223301811d8d",
       "version_major": 2,
       "version_minor": 0
      },
      "text/plain": [
       "  0%|          | 0/1000 [00:00<?, ?it/s]"
      ]
     },
     "metadata": {},
     "output_type": "display_data"
    },
    {
     "name": "stdout",
     "output_type": "stream",
     "text": [
      "https://www.bitstamp.net/api/v2/ohlc/btcusd/?&currency_pair=btcusd&step=300&limit=1000&start=1580515200\n",
      "Downloaded from 2020-02-01 00:00:00(1580515200) to 2020-02-04 11:15:00(1580814900) 9163.36\n",
      "Processing 1000 of btcusd\n"
     ]
    },
    {
     "data": {
      "application/vnd.jupyter.widget-view+json": {
       "model_id": "b862845b152140b3bd7c53ac9a17bb67",
       "version_major": 2,
       "version_minor": 0
      },
      "text/plain": [
       "  0%|          | 0/1000 [00:00<?, ?it/s]"
      ]
     },
     "metadata": {},
     "output_type": "display_data"
    },
    {
     "name": "stdout",
     "output_type": "stream",
     "text": [
      "https://www.bitstamp.net/api/v2/ohlc/ethusd/?&currency_pair=ethusd&step=300&limit=1000&start=1580515200\n",
      "Downloaded from 2020-02-01 00:00:00(1580515200) to 2020-02-04 11:15:00(1580814900) 185.75\n",
      "Processing 1000 of ethusd\n"
     ]
    },
    {
     "data": {
      "application/vnd.jupyter.widget-view+json": {
       "model_id": "e3b0898778464cb5aa0287cbe10cd19e",
       "version_major": 2,
       "version_minor": 0
      },
      "text/plain": [
       "  0%|          | 0/1000 [00:00<?, ?it/s]"
      ]
     },
     "metadata": {},
     "output_type": "display_data"
    },
    {
     "name": "stdout",
     "output_type": "stream",
     "text": [
      "https://www.bitstamp.net/api/v2/ohlc/ltcusd/?&currency_pair=ltcusd&step=300&limit=1000&start=1580515200\n",
      "Downloaded from 2020-02-01 00:00:00(1580515200) to 2020-02-04 11:15:00(1580814900) 67.19\n",
      "Processing 1000 of ltcusd\n"
     ]
    },
    {
     "data": {
      "application/vnd.jupyter.widget-view+json": {
       "model_id": "6fda537798be4378b4700022774ffa62",
       "version_major": 2,
       "version_minor": 0
      },
      "text/plain": [
       "  0%|          | 0/1000 [00:00<?, ?it/s]"
      ]
     },
     "metadata": {},
     "output_type": "display_data"
    },
    {
     "name": "stdout",
     "output_type": "stream",
     "text": [
      "https://www.bitstamp.net/api/v2/ohlc/ltcbtc/?&currency_pair=ltcbtc&step=300&limit=1000&start=1580515200\n",
      "Downloaded from 2020-02-01 00:00:00(1580515200) to 2020-02-04 11:15:00(1580814900) 0.00734000\n",
      "Processing 1000 of ltcbtc\n"
     ]
    },
    {
     "data": {
      "application/vnd.jupyter.widget-view+json": {
       "model_id": "d88035494c25438f89cce965238a4bd3",
       "version_major": 2,
       "version_minor": 0
      },
      "text/plain": [
       "  0%|          | 0/1000 [00:00<?, ?it/s]"
      ]
     },
     "metadata": {},
     "output_type": "display_data"
    },
    {
     "name": "stdout",
     "output_type": "stream",
     "text": [
      "https://www.bitstamp.net/api/v2/ohlc/btcusd/?&currency_pair=btcusd&step=300&limit=1000&start=1612137600\n",
      "Downloaded from 2021-02-01 00:00:00(1612137600) to 2021-02-04 11:15:00(1612437300) 37713.31\n",
      "Processing 1000 of btcusd\n"
     ]
    },
    {
     "data": {
      "application/vnd.jupyter.widget-view+json": {
       "model_id": "f347a332f17c4a75b5a62f2937823052",
       "version_major": 2,
       "version_minor": 0
      },
      "text/plain": [
       "  0%|          | 0/1000 [00:00<?, ?it/s]"
      ]
     },
     "metadata": {},
     "output_type": "display_data"
    },
    {
     "name": "stdout",
     "output_type": "stream",
     "text": [
      "https://www.bitstamp.net/api/v2/ohlc/ethusd/?&currency_pair=ethusd&step=300&limit=1000&start=1612137600\n",
      "Downloaded from 2021-02-01 00:00:00(1612137600) to 2021-02-04 11:15:00(1612437300) 1633.70\n",
      "Processing 1000 of ethusd\n"
     ]
    },
    {
     "data": {
      "application/vnd.jupyter.widget-view+json": {
       "model_id": "052adec46045474cbeec854f6ad11ea3",
       "version_major": 2,
       "version_minor": 0
      },
      "text/plain": [
       "  0%|          | 0/1000 [00:00<?, ?it/s]"
      ]
     },
     "metadata": {},
     "output_type": "display_data"
    },
    {
     "name": "stdout",
     "output_type": "stream",
     "text": [
      "https://www.bitstamp.net/api/v2/ohlc/ltcusd/?&currency_pair=ltcusd&step=300&limit=1000&start=1612137600\n",
      "Downloaded from 2021-02-01 00:00:00(1612137600) to 2021-02-04 11:15:00(1612437300) 148.10\n",
      "Processing 1000 of ltcusd\n"
     ]
    },
    {
     "data": {
      "application/vnd.jupyter.widget-view+json": {
       "model_id": "67fc8c381f54430489ffbc6d69d28cdd",
       "version_major": 2,
       "version_minor": 0
      },
      "text/plain": [
       "  0%|          | 0/1000 [00:00<?, ?it/s]"
      ]
     },
     "metadata": {},
     "output_type": "display_data"
    },
    {
     "name": "stdout",
     "output_type": "stream",
     "text": [
      "https://www.bitstamp.net/api/v2/ohlc/ltcbtc/?&currency_pair=ltcbtc&step=300&limit=1000&start=1612137600\n",
      "Downloaded from 2021-02-01 00:00:00(1612137600) to 2021-02-04 11:15:00(1612437300) 0.00392037\n",
      "Processing 1000 of ltcbtc\n"
     ]
    },
    {
     "data": {
      "application/vnd.jupyter.widget-view+json": {
       "model_id": "953143fa8a1043268d58ceb2aee24396",
       "version_major": 2,
       "version_minor": 0
      },
      "text/plain": [
       "  0%|          | 0/1000 [00:00<?, ?it/s]"
      ]
     },
     "metadata": {},
     "output_type": "display_data"
    },
    {
     "name": "stdout",
     "output_type": "stream",
     "text": [
      "https://www.bitstamp.net/api/v2/ohlc/btcusd/?&currency_pair=btcusd&step=300&limit=1000&start=1623711600\n",
      "https://www.bitstamp.net/api/v2/ohlc/btcusd/?&currency_pair=btcusd&step=300&limit=1000&start=1624011600\n",
      "https://www.bitstamp.net/api/v2/ohlc/btcusd/?&currency_pair=btcusd&step=300&limit=1000&start=1624311600\n",
      "https://www.bitstamp.net/api/v2/ohlc/btcusd/?&currency_pair=btcusd&step=300&limit=1000&start=1624611600\n",
      "https://www.bitstamp.net/api/v2/ohlc/btcusd/?&currency_pair=btcusd&step=300&limit=1000&start=1624911600\n",
      "https://www.bitstamp.net/api/v2/ohlc/btcusd/?&currency_pair=btcusd&step=300&limit=1000&start=1625211600\n",
      "https://www.bitstamp.net/api/v2/ohlc/btcusd/?&currency_pair=btcusd&step=300&limit=1000&start=1625511600\n",
      "https://www.bitstamp.net/api/v2/ohlc/btcusd/?&currency_pair=btcusd&step=300&limit=1000&start=1625811600\n",
      "https://www.bitstamp.net/api/v2/ohlc/btcusd/?&currency_pair=btcusd&step=300&limit=1000&start=1626111600\n",
      "Downloaded from 2021-06-15 00:00:00(1623711600) to 2021-07-15 00:00:00(1626303600) 32978.97\n",
      "Processing 8641 of btcusd\n"
     ]
    },
    {
     "data": {
      "application/vnd.jupyter.widget-view+json": {
       "model_id": "4317e9d91e2f492481eacd834a0c0654",
       "version_major": 2,
       "version_minor": 0
      },
      "text/plain": [
       "  0%|          | 0/8641 [00:00<?, ?it/s]"
      ]
     },
     "metadata": {},
     "output_type": "display_data"
    },
    {
     "name": "stdout",
     "output_type": "stream",
     "text": [
      "https://www.bitstamp.net/api/v2/ohlc/ethusd/?&currency_pair=ethusd&step=300&limit=1000&start=1623711600\n",
      "https://www.bitstamp.net/api/v2/ohlc/ethusd/?&currency_pair=ethusd&step=300&limit=1000&start=1624011600\n",
      "https://www.bitstamp.net/api/v2/ohlc/ethusd/?&currency_pair=ethusd&step=300&limit=1000&start=1624311600\n",
      "https://www.bitstamp.net/api/v2/ohlc/ethusd/?&currency_pair=ethusd&step=300&limit=1000&start=1624611600\n",
      "https://www.bitstamp.net/api/v2/ohlc/ethusd/?&currency_pair=ethusd&step=300&limit=1000&start=1624911600\n",
      "https://www.bitstamp.net/api/v2/ohlc/ethusd/?&currency_pair=ethusd&step=300&limit=1000&start=1625211600\n",
      "https://www.bitstamp.net/api/v2/ohlc/ethusd/?&currency_pair=ethusd&step=300&limit=1000&start=1625511600\n",
      "https://www.bitstamp.net/api/v2/ohlc/ethusd/?&currency_pair=ethusd&step=300&limit=1000&start=1625811600\n",
      "https://www.bitstamp.net/api/v2/ohlc/ethusd/?&currency_pair=ethusd&step=300&limit=1000&start=1626111600\n",
      "Downloaded from 2021-06-15 00:00:00(1623711600) to 2021-07-15 00:00:00(1626303600) 2005.17\n",
      "Processing 8641 of ethusd\n"
     ]
    },
    {
     "data": {
      "application/vnd.jupyter.widget-view+json": {
       "model_id": "d1478a06fcef48f7b65d4f53d667e390",
       "version_major": 2,
       "version_minor": 0
      },
      "text/plain": [
       "  0%|          | 0/8641 [00:00<?, ?it/s]"
      ]
     },
     "metadata": {},
     "output_type": "display_data"
    },
    {
     "name": "stdout",
     "output_type": "stream",
     "text": [
      "https://www.bitstamp.net/api/v2/ohlc/ltcusd/?&currency_pair=ltcusd&step=300&limit=1000&start=1623711600\n",
      "https://www.bitstamp.net/api/v2/ohlc/ltcusd/?&currency_pair=ltcusd&step=300&limit=1000&start=1624011600\n",
      "https://www.bitstamp.net/api/v2/ohlc/ltcusd/?&currency_pair=ltcusd&step=300&limit=1000&start=1624311600\n",
      "https://www.bitstamp.net/api/v2/ohlc/ltcusd/?&currency_pair=ltcusd&step=300&limit=1000&start=1624611600\n",
      "https://www.bitstamp.net/api/v2/ohlc/ltcusd/?&currency_pair=ltcusd&step=300&limit=1000&start=1624911600\n",
      "https://www.bitstamp.net/api/v2/ohlc/ltcusd/?&currency_pair=ltcusd&step=300&limit=1000&start=1625211600\n",
      "https://www.bitstamp.net/api/v2/ohlc/ltcusd/?&currency_pair=ltcusd&step=300&limit=1000&start=1625511600\n",
      "https://www.bitstamp.net/api/v2/ohlc/ltcusd/?&currency_pair=ltcusd&step=300&limit=1000&start=1625811600\n",
      "https://www.bitstamp.net/api/v2/ohlc/ltcusd/?&currency_pair=ltcusd&step=300&limit=1000&start=1626111600\n",
      "Downloaded from 2021-06-15 00:00:00(1623711600) to 2021-07-15 00:00:00(1626303600) 131.22\n",
      "Processing 8641 of ltcusd\n"
     ]
    },
    {
     "data": {
      "application/vnd.jupyter.widget-view+json": {
       "model_id": "a74e4698a0744f5c8cdea1520e92bd7f",
       "version_major": 2,
       "version_minor": 0
      },
      "text/plain": [
       "  0%|          | 0/8641 [00:00<?, ?it/s]"
      ]
     },
     "metadata": {},
     "output_type": "display_data"
    },
    {
     "name": "stdout",
     "output_type": "stream",
     "text": [
      "https://www.bitstamp.net/api/v2/ohlc/ltcbtc/?&currency_pair=ltcbtc&step=300&limit=1000&start=1623711600\n",
      "https://www.bitstamp.net/api/v2/ohlc/ltcbtc/?&currency_pair=ltcbtc&step=300&limit=1000&start=1624011600\n",
      "https://www.bitstamp.net/api/v2/ohlc/ltcbtc/?&currency_pair=ltcbtc&step=300&limit=1000&start=1624311600\n",
      "https://www.bitstamp.net/api/v2/ohlc/ltcbtc/?&currency_pair=ltcbtc&step=300&limit=1000&start=1624611600\n",
      "https://www.bitstamp.net/api/v2/ohlc/ltcbtc/?&currency_pair=ltcbtc&step=300&limit=1000&start=1624911600\n",
      "https://www.bitstamp.net/api/v2/ohlc/ltcbtc/?&currency_pair=ltcbtc&step=300&limit=1000&start=1625211600\n",
      "https://www.bitstamp.net/api/v2/ohlc/ltcbtc/?&currency_pair=ltcbtc&step=300&limit=1000&start=1625511600\n",
      "https://www.bitstamp.net/api/v2/ohlc/ltcbtc/?&currency_pair=ltcbtc&step=300&limit=1000&start=1625811600\n",
      "https://www.bitstamp.net/api/v2/ohlc/ltcbtc/?&currency_pair=ltcbtc&step=300&limit=1000&start=1626111600\n",
      "Downloaded from 2021-06-15 00:00:00(1623711600) to 2021-07-15 00:00:00(1626303600) 0.00398347\n",
      "Processing 8641 of ltcbtc\n"
     ]
    },
    {
     "data": {
      "application/vnd.jupyter.widget-view+json": {
       "model_id": "71f1180196514809b4660f7ea8683bb6",
       "version_major": 2,
       "version_minor": 0
      },
      "text/plain": [
       "  0%|          | 0/8641 [00:00<?, ?it/s]"
      ]
     },
     "metadata": {},
     "output_type": "display_data"
    },
    {
     "name": "stdout",
     "output_type": "stream",
     "text": [
      "data/online30_5 -> OnLineDataProvider (val_keys = {'btcusd': 3, 'ethusd': 3, 'ltcusd': 3, 'ltcbtc': 3}, train_data = 2 , data_detail = DataDetail (windows = 30, minutes = 5, steps_ahead = 1)))\n",
      "https://www.bitstamp.net/api/v2/ohlc/btcusd/?&currency_pair=btcusd&step=300&limit=1000&start=1622502000\n",
      "Downloaded from 2021-06-01 00:00:00(1622502000) to 2021-06-04 11:15:00(1622801700) 36979.84\n",
      "Processing 1000 of btcusd\n"
     ]
    },
    {
     "data": {
      "application/vnd.jupyter.widget-view+json": {
       "model_id": "13a6070fdb4a4d8485e2cb22ed258f66",
       "version_major": 2,
       "version_minor": 0
      },
      "text/plain": [
       "  0%|          | 0/1000 [00:00<?, ?it/s]"
      ]
     },
     "metadata": {},
     "output_type": "display_data"
    },
    {
     "name": "stdout",
     "output_type": "stream",
     "text": [
      "https://www.bitstamp.net/api/v2/ohlc/ethusd/?&currency_pair=ethusd&step=300&limit=1000&start=1622502000\n",
      "Downloaded from 2021-06-01 00:00:00(1622502000) to 2021-06-04 11:15:00(1622801700) 2662.21\n",
      "Processing 1000 of ethusd\n"
     ]
    },
    {
     "data": {
      "application/vnd.jupyter.widget-view+json": {
       "model_id": "30df962942c548a4aab42effa71d564c",
       "version_major": 2,
       "version_minor": 0
      },
      "text/plain": [
       "  0%|          | 0/1000 [00:00<?, ?it/s]"
      ]
     },
     "metadata": {},
     "output_type": "display_data"
    },
    {
     "name": "stdout",
     "output_type": "stream",
     "text": [
      "https://www.bitstamp.net/api/v2/ohlc/ltcusd/?&currency_pair=ltcusd&step=300&limit=1000&start=1622502000\n",
      "Downloaded from 2021-06-01 00:00:00(1622502000) to 2021-06-04 11:15:00(1622801700) 177.09\n",
      "Processing 1000 of ltcusd\n"
     ]
    },
    {
     "data": {
      "application/vnd.jupyter.widget-view+json": {
       "model_id": "8ae5eb05a2434041b22b9d5c6fa8be9b",
       "version_major": 2,
       "version_minor": 0
      },
      "text/plain": [
       "  0%|          | 0/1000 [00:00<?, ?it/s]"
      ]
     },
     "metadata": {},
     "output_type": "display_data"
    },
    {
     "name": "stdout",
     "output_type": "stream",
     "text": [
      "https://www.bitstamp.net/api/v2/ohlc/ltcbtc/?&currency_pair=ltcbtc&step=300&limit=1000&start=1622502000\n",
      "Downloaded from 2021-06-01 00:00:00(1622502000) to 2021-06-04 11:15:00(1622801700) 0.00478308\n",
      "Processing 1000 of ltcbtc\n"
     ]
    },
    {
     "data": {
      "application/vnd.jupyter.widget-view+json": {
       "model_id": "3d84b1198f7a43c4a54dd4a6240629f3",
       "version_major": 2,
       "version_minor": 0
      },
      "text/plain": [
       "  0%|          | 0/1000 [00:00<?, ?it/s]"
      ]
     },
     "metadata": {},
     "output_type": "display_data"
    },
    {
     "name": "stdout",
     "output_type": "stream",
     "text": [
      "https://www.bitstamp.net/api/v2/ohlc/btcusd/?&currency_pair=btcusd&step=300&limit=1000&start=1590966000\n",
      "Downloaded from 2020-06-01 00:00:00(1590966000) to 2020-06-04 11:15:00(1591265700) 9520.48\n",
      "Processing 1000 of btcusd\n"
     ]
    },
    {
     "data": {
      "application/vnd.jupyter.widget-view+json": {
       "model_id": "9abd68e73d16485b903a5cd08cfe23ba",
       "version_major": 2,
       "version_minor": 0
      },
      "text/plain": [
       "  0%|          | 0/1000 [00:00<?, ?it/s]"
      ]
     },
     "metadata": {},
     "output_type": "display_data"
    },
    {
     "name": "stdout",
     "output_type": "stream",
     "text": [
      "https://www.bitstamp.net/api/v2/ohlc/ethusd/?&currency_pair=ethusd&step=300&limit=1000&start=1590966000\n",
      "Downloaded from 2020-06-01 00:00:00(1590966000) to 2020-06-04 11:15:00(1591265700) 239.28\n",
      "Processing 1000 of ethusd\n"
     ]
    },
    {
     "data": {
      "application/vnd.jupyter.widget-view+json": {
       "model_id": "1785b055161c4aa2a582a5f98e075a69",
       "version_major": 2,
       "version_minor": 0
      },
      "text/plain": [
       "  0%|          | 0/1000 [00:00<?, ?it/s]"
      ]
     },
     "metadata": {},
     "output_type": "display_data"
    },
    {
     "name": "stdout",
     "output_type": "stream",
     "text": [
      "https://www.bitstamp.net/api/v2/ohlc/ltcusd/?&currency_pair=ltcusd&step=300&limit=1000&start=1590966000\n",
      "Downloaded from 2020-06-01 00:00:00(1590966000) to 2020-06-04 11:15:00(1591265700) 46.81\n",
      "Processing 1000 of ltcusd\n"
     ]
    },
    {
     "data": {
      "application/vnd.jupyter.widget-view+json": {
       "model_id": "be6d8cd2ec93484da595f0110728cda6",
       "version_major": 2,
       "version_minor": 0
      },
      "text/plain": [
       "  0%|          | 0/1000 [00:00<?, ?it/s]"
      ]
     },
     "metadata": {},
     "output_type": "display_data"
    },
    {
     "name": "stdout",
     "output_type": "stream",
     "text": [
      "https://www.bitstamp.net/api/v2/ohlc/ltcbtc/?&currency_pair=ltcbtc&step=300&limit=1000&start=1590966000\n",
      "Downloaded from 2020-06-01 00:00:00(1590966000) to 2020-06-04 11:15:00(1591265700) 0.00493915\n",
      "Processing 1000 of ltcbtc\n"
     ]
    },
    {
     "data": {
      "application/vnd.jupyter.widget-view+json": {
       "model_id": "7afb0542d0104ea28b7cf872df76978e",
       "version_major": 2,
       "version_minor": 0
      },
      "text/plain": [
       "  0%|          | 0/1000 [00:00<?, ?it/s]"
      ]
     },
     "metadata": {},
     "output_type": "display_data"
    },
    {
     "name": "stdout",
     "output_type": "stream",
     "text": [
      "https://www.bitstamp.net/api/v2/ohlc/btcusd/?&currency_pair=btcusd&step=300&limit=1000&start=1559343600\n",
      "Downloaded from 2019-06-01 00:00:00(1559343600) to 2019-06-04 11:15:00(1559643300) 7963.92\n",
      "Processing 1000 of btcusd\n"
     ]
    },
    {
     "data": {
      "application/vnd.jupyter.widget-view+json": {
       "model_id": "16571c1df90f4dacb49b14814118ed50",
       "version_major": 2,
       "version_minor": 0
      },
      "text/plain": [
       "  0%|          | 0/1000 [00:00<?, ?it/s]"
      ]
     },
     "metadata": {},
     "output_type": "display_data"
    },
    {
     "name": "stdout",
     "output_type": "stream",
     "text": [
      "https://www.bitstamp.net/api/v2/ohlc/ethusd/?&currency_pair=ethusd&step=300&limit=1000&start=1559343600\n",
      "Downloaded from 2019-06-01 00:00:00(1559343600) to 2019-06-04 11:15:00(1559643300) 247.42\n",
      "Processing 1000 of ethusd\n"
     ]
    },
    {
     "data": {
      "application/vnd.jupyter.widget-view+json": {
       "model_id": "cbd7ee597cd64e3ba4238f1d2a158c87",
       "version_major": 2,
       "version_minor": 0
      },
      "text/plain": [
       "  0%|          | 0/1000 [00:00<?, ?it/s]"
      ]
     },
     "metadata": {},
     "output_type": "display_data"
    },
    {
     "name": "stdout",
     "output_type": "stream",
     "text": [
      "https://www.bitstamp.net/api/v2/ohlc/ltcusd/?&currency_pair=ltcusd&step=300&limit=1000&start=1559343600\n",
      "Downloaded from 2019-06-01 00:00:00(1559343600) to 2019-06-04 11:15:00(1559643300) 105.11\n",
      "Processing 1000 of ltcusd\n"
     ]
    },
    {
     "data": {
      "application/vnd.jupyter.widget-view+json": {
       "model_id": "51aa077913c147f49cf23f65f20fb9d0",
       "version_major": 2,
       "version_minor": 0
      },
      "text/plain": [
       "  0%|          | 0/1000 [00:00<?, ?it/s]"
      ]
     },
     "metadata": {},
     "output_type": "display_data"
    },
    {
     "name": "stdout",
     "output_type": "stream",
     "text": [
      "https://www.bitstamp.net/api/v2/ohlc/ltcbtc/?&currency_pair=ltcbtc&step=300&limit=1000&start=1559343600\n",
      "Downloaded from 2019-06-01 00:00:00(1559343600) to 2019-06-04 11:15:00(1559643300) 0.01321994\n",
      "Processing 1000 of ltcbtc\n"
     ]
    },
    {
     "data": {
      "application/vnd.jupyter.widget-view+json": {
       "model_id": "c20d4964f13e448798e3296baf828c04",
       "version_major": 2,
       "version_minor": 0
      },
      "text/plain": [
       "  0%|          | 0/1000 [00:00<?, ?it/s]"
      ]
     },
     "metadata": {},
     "output_type": "display_data"
    },
    {
     "name": "stdout",
     "output_type": "stream",
     "text": [
      "https://www.bitstamp.net/api/v2/ohlc/btcusd/?&currency_pair=btcusd&step=300&limit=1000&start=1527807600\n",
      "Downloaded from 2018-06-01 00:00:00(1527807600) to 2018-06-04 11:15:00(1528107300) 7603.79\n",
      "Processing 1000 of btcusd\n"
     ]
    },
    {
     "data": {
      "application/vnd.jupyter.widget-view+json": {
       "model_id": "769379882fdd4e8893baf23466601d7c",
       "version_major": 2,
       "version_minor": 0
      },
      "text/plain": [
       "  0%|          | 0/1000 [00:00<?, ?it/s]"
      ]
     },
     "metadata": {},
     "output_type": "display_data"
    },
    {
     "name": "stdout",
     "output_type": "stream",
     "text": [
      "https://www.bitstamp.net/api/v2/ohlc/ethusd/?&currency_pair=ethusd&step=300&limit=1000&start=1527807600\n",
      "Downloaded from 2018-06-01 00:00:00(1527807600) to 2018-06-04 11:15:00(1528107300) 605.42\n",
      "Processing 1000 of ethusd\n"
     ]
    },
    {
     "data": {
      "application/vnd.jupyter.widget-view+json": {
       "model_id": "9cff1cf7a3f845aabfe31061a744e222",
       "version_major": 2,
       "version_minor": 0
      },
      "text/plain": [
       "  0%|          | 0/1000 [00:00<?, ?it/s]"
      ]
     },
     "metadata": {},
     "output_type": "display_data"
    },
    {
     "name": "stdout",
     "output_type": "stream",
     "text": [
      "https://www.bitstamp.net/api/v2/ohlc/ltcusd/?&currency_pair=ltcusd&step=300&limit=1000&start=1527807600\n",
      "Downloaded from 2018-06-01 00:00:00(1527807600) to 2018-06-04 11:15:00(1528107300) 122.36\n",
      "Processing 1000 of ltcusd\n"
     ]
    },
    {
     "data": {
      "application/vnd.jupyter.widget-view+json": {
       "model_id": "f3662ce6cad94e68bd405eaa794fc161",
       "version_major": 2,
       "version_minor": 0
      },
      "text/plain": [
       "  0%|          | 0/1000 [00:00<?, ?it/s]"
      ]
     },
     "metadata": {},
     "output_type": "display_data"
    },
    {
     "name": "stdout",
     "output_type": "stream",
     "text": [
      "https://www.bitstamp.net/api/v2/ohlc/ltcbtc/?&currency_pair=ltcbtc&step=300&limit=1000&start=1527807600\n",
      "Downloaded from 2018-06-01 00:00:00(1527807600) to 2018-06-04 11:15:00(1528107300) 0.01605500\n",
      "Processing 1000 of ltcbtc\n"
     ]
    },
    {
     "data": {
      "application/vnd.jupyter.widget-view+json": {
       "model_id": "741fc4ecbf7e49f7990a41d4653dc305",
       "version_major": 2,
       "version_minor": 0
      },
      "text/plain": [
       "  0%|          | 0/1000 [00:00<?, ?it/s]"
      ]
     },
     "metadata": {},
     "output_type": "display_data"
    },
    {
     "name": "stdout",
     "output_type": "stream",
     "text": [
      "https://www.bitstamp.net/api/v2/ohlc/btcusd/?&currency_pair=btcusd&step=300&limit=1000&start=1517443200\n",
      "Downloaded from 2018-02-01 00:00:00(1517443200) to 2018-02-04 11:15:00(1517742900) 8898.23\n",
      "Processing 1000 of btcusd\n"
     ]
    },
    {
     "data": {
      "application/vnd.jupyter.widget-view+json": {
       "model_id": "8fd9c8f4246c4b7095a45082ef2908b2",
       "version_major": 2,
       "version_minor": 0
      },
      "text/plain": [
       "  0%|          | 0/1000 [00:00<?, ?it/s]"
      ]
     },
     "metadata": {},
     "output_type": "display_data"
    },
    {
     "name": "stdout",
     "output_type": "stream",
     "text": [
      "https://www.bitstamp.net/api/v2/ohlc/ethusd/?&currency_pair=ethusd&step=300&limit=1000&start=1517443200\n",
      "Downloaded from 2018-02-01 00:00:00(1517443200) to 2018-02-04 11:15:00(1517742900) 911.19\n",
      "Processing 1000 of ethusd\n"
     ]
    },
    {
     "data": {
      "application/vnd.jupyter.widget-view+json": {
       "model_id": "7cf843f4bea248fda810119e4ff7c0e6",
       "version_major": 2,
       "version_minor": 0
      },
      "text/plain": [
       "  0%|          | 0/1000 [00:00<?, ?it/s]"
      ]
     },
     "metadata": {},
     "output_type": "display_data"
    },
    {
     "name": "stdout",
     "output_type": "stream",
     "text": [
      "https://www.bitstamp.net/api/v2/ohlc/ltcusd/?&currency_pair=ltcusd&step=300&limit=1000&start=1517443200\n",
      "Downloaded from 2018-02-01 00:00:00(1517443200) to 2018-02-04 11:15:00(1517742900) 160.78\n",
      "Processing 1000 of ltcusd\n"
     ]
    },
    {
     "data": {
      "application/vnd.jupyter.widget-view+json": {
       "model_id": "3fa3d330468948a2a93d02065e86775f",
       "version_major": 2,
       "version_minor": 0
      },
      "text/plain": [
       "  0%|          | 0/1000 [00:00<?, ?it/s]"
      ]
     },
     "metadata": {},
     "output_type": "display_data"
    },
    {
     "name": "stdout",
     "output_type": "stream",
     "text": [
      "https://www.bitstamp.net/api/v2/ohlc/ltcbtc/?&currency_pair=ltcbtc&step=300&limit=1000&start=1517443200\n",
      "Downloaded from 2018-02-01 00:00:00(1517443200) to 2018-02-04 11:15:00(1517742900) 0.01802000\n",
      "Processing 1000 of ltcbtc\n"
     ]
    },
    {
     "data": {
      "application/vnd.jupyter.widget-view+json": {
       "model_id": "a727498b4ba748cfb69f91ab7ed82221",
       "version_major": 2,
       "version_minor": 0
      },
      "text/plain": [
       "  0%|          | 0/1000 [00:00<?, ?it/s]"
      ]
     },
     "metadata": {},
     "output_type": "display_data"
    },
    {
     "name": "stdout",
     "output_type": "stream",
     "text": [
      "https://www.bitstamp.net/api/v2/ohlc/btcusd/?&currency_pair=btcusd&step=300&limit=1000&start=1548979200\n",
      "Downloaded from 2019-02-01 00:00:00(1548979200) to 2019-02-04 11:15:00(1549278900) 3404.48\n",
      "Processing 1000 of btcusd\n"
     ]
    },
    {
     "data": {
      "application/vnd.jupyter.widget-view+json": {
       "model_id": "bc04fc2d1fd141a7b787162361a4300d",
       "version_major": 2,
       "version_minor": 0
      },
      "text/plain": [
       "  0%|          | 0/1000 [00:00<?, ?it/s]"
      ]
     },
     "metadata": {},
     "output_type": "display_data"
    },
    {
     "name": "stdout",
     "output_type": "stream",
     "text": [
      "https://www.bitstamp.net/api/v2/ohlc/ethusd/?&currency_pair=ethusd&step=300&limit=1000&start=1548979200\n",
      "Downloaded from 2019-02-01 00:00:00(1548979200) to 2019-02-04 11:15:00(1549278900) 105.66\n",
      "Processing 1000 of ethusd\n"
     ]
    },
    {
     "data": {
      "application/vnd.jupyter.widget-view+json": {
       "model_id": "5ca73665c56f4bdcb9246bbc5130db5f",
       "version_major": 2,
       "version_minor": 0
      },
      "text/plain": [
       "  0%|          | 0/1000 [00:00<?, ?it/s]"
      ]
     },
     "metadata": {},
     "output_type": "display_data"
    },
    {
     "name": "stdout",
     "output_type": "stream",
     "text": [
      "https://www.bitstamp.net/api/v2/ohlc/ltcusd/?&currency_pair=ltcusd&step=300&limit=1000&start=1548979200\n",
      "Downloaded from 2019-02-01 00:00:00(1548979200) to 2019-02-04 11:15:00(1549278900) 33.28\n",
      "Processing 1000 of ltcusd\n"
     ]
    },
    {
     "data": {
      "application/vnd.jupyter.widget-view+json": {
       "model_id": "f0cc91e13f6b4ea48c16918c94c7157e",
       "version_major": 2,
       "version_minor": 0
      },
      "text/plain": [
       "  0%|          | 0/1000 [00:00<?, ?it/s]"
      ]
     },
     "metadata": {},
     "output_type": "display_data"
    },
    {
     "name": "stdout",
     "output_type": "stream",
     "text": [
      "https://www.bitstamp.net/api/v2/ohlc/ltcbtc/?&currency_pair=ltcbtc&step=300&limit=1000&start=1548979200\n",
      "Downloaded from 2019-02-01 00:00:00(1548979200) to 2019-02-04 11:15:00(1549278900) 0.00976025\n",
      "Processing 1000 of ltcbtc\n"
     ]
    },
    {
     "data": {
      "application/vnd.jupyter.widget-view+json": {
       "model_id": "97582e6f412344168b136bebfe3314c7",
       "version_major": 2,
       "version_minor": 0
      },
      "text/plain": [
       "  0%|          | 0/1000 [00:00<?, ?it/s]"
      ]
     },
     "metadata": {},
     "output_type": "display_data"
    },
    {
     "name": "stdout",
     "output_type": "stream",
     "text": [
      "https://www.bitstamp.net/api/v2/ohlc/btcusd/?&currency_pair=btcusd&step=300&limit=1000&start=1580515200\n",
      "Downloaded from 2020-02-01 00:00:00(1580515200) to 2020-02-04 11:15:00(1580814900) 9163.36\n",
      "Processing 1000 of btcusd\n"
     ]
    },
    {
     "data": {
      "application/vnd.jupyter.widget-view+json": {
       "model_id": "bdef8dde5a804761bd8f0b9e3cc4f44a",
       "version_major": 2,
       "version_minor": 0
      },
      "text/plain": [
       "  0%|          | 0/1000 [00:00<?, ?it/s]"
      ]
     },
     "metadata": {},
     "output_type": "display_data"
    },
    {
     "name": "stdout",
     "output_type": "stream",
     "text": [
      "https://www.bitstamp.net/api/v2/ohlc/ethusd/?&currency_pair=ethusd&step=300&limit=1000&start=1580515200\n",
      "Downloaded from 2020-02-01 00:00:00(1580515200) to 2020-02-04 11:15:00(1580814900) 185.75\n",
      "Processing 1000 of ethusd\n"
     ]
    },
    {
     "data": {
      "application/vnd.jupyter.widget-view+json": {
       "model_id": "f69ecf8dc1f54802be882c3e04f20428",
       "version_major": 2,
       "version_minor": 0
      },
      "text/plain": [
       "  0%|          | 0/1000 [00:00<?, ?it/s]"
      ]
     },
     "metadata": {},
     "output_type": "display_data"
    },
    {
     "name": "stdout",
     "output_type": "stream",
     "text": [
      "https://www.bitstamp.net/api/v2/ohlc/ltcusd/?&currency_pair=ltcusd&step=300&limit=1000&start=1580515200\n",
      "Downloaded from 2020-02-01 00:00:00(1580515200) to 2020-02-04 11:15:00(1580814900) 67.19\n",
      "Processing 1000 of ltcusd\n"
     ]
    },
    {
     "data": {
      "application/vnd.jupyter.widget-view+json": {
       "model_id": "ad9f688902bc451daf48c07df836b3a2",
       "version_major": 2,
       "version_minor": 0
      },
      "text/plain": [
       "  0%|          | 0/1000 [00:00<?, ?it/s]"
      ]
     },
     "metadata": {},
     "output_type": "display_data"
    },
    {
     "name": "stdout",
     "output_type": "stream",
     "text": [
      "https://www.bitstamp.net/api/v2/ohlc/ltcbtc/?&currency_pair=ltcbtc&step=300&limit=1000&start=1580515200\n",
      "Downloaded from 2020-02-01 00:00:00(1580515200) to 2020-02-04 11:15:00(1580814900) 0.00734000\n",
      "Processing 1000 of ltcbtc\n"
     ]
    },
    {
     "data": {
      "application/vnd.jupyter.widget-view+json": {
       "model_id": "b80769cc771b41c18d512471b60214f0",
       "version_major": 2,
       "version_minor": 0
      },
      "text/plain": [
       "  0%|          | 0/1000 [00:00<?, ?it/s]"
      ]
     },
     "metadata": {},
     "output_type": "display_data"
    },
    {
     "name": "stdout",
     "output_type": "stream",
     "text": [
      "https://www.bitstamp.net/api/v2/ohlc/btcusd/?&currency_pair=btcusd&step=300&limit=1000&start=1612137600\n",
      "Downloaded from 2021-02-01 00:00:00(1612137600) to 2021-02-04 11:15:00(1612437300) 37713.31\n",
      "Processing 1000 of btcusd\n"
     ]
    },
    {
     "data": {
      "application/vnd.jupyter.widget-view+json": {
       "model_id": "b10fcbad012744629663de9182b85596",
       "version_major": 2,
       "version_minor": 0
      },
      "text/plain": [
       "  0%|          | 0/1000 [00:00<?, ?it/s]"
      ]
     },
     "metadata": {},
     "output_type": "display_data"
    },
    {
     "name": "stdout",
     "output_type": "stream",
     "text": [
      "https://www.bitstamp.net/api/v2/ohlc/ethusd/?&currency_pair=ethusd&step=300&limit=1000&start=1612137600\n",
      "Downloaded from 2021-02-01 00:00:00(1612137600) to 2021-02-04 11:15:00(1612437300) 1633.70\n",
      "Processing 1000 of ethusd\n"
     ]
    },
    {
     "data": {
      "application/vnd.jupyter.widget-view+json": {
       "model_id": "b302cb38ce9747b88fe41797de888765",
       "version_major": 2,
       "version_minor": 0
      },
      "text/plain": [
       "  0%|          | 0/1000 [00:00<?, ?it/s]"
      ]
     },
     "metadata": {},
     "output_type": "display_data"
    },
    {
     "name": "stdout",
     "output_type": "stream",
     "text": [
      "https://www.bitstamp.net/api/v2/ohlc/ltcusd/?&currency_pair=ltcusd&step=300&limit=1000&start=1612137600\n",
      "Downloaded from 2021-02-01 00:00:00(1612137600) to 2021-02-04 11:15:00(1612437300) 148.10\n",
      "Processing 1000 of ltcusd\n"
     ]
    },
    {
     "data": {
      "application/vnd.jupyter.widget-view+json": {
       "model_id": "d9b0f9d486b94fb98f04744e5a86590b",
       "version_major": 2,
       "version_minor": 0
      },
      "text/plain": [
       "  0%|          | 0/1000 [00:00<?, ?it/s]"
      ]
     },
     "metadata": {},
     "output_type": "display_data"
    },
    {
     "name": "stdout",
     "output_type": "stream",
     "text": [
      "https://www.bitstamp.net/api/v2/ohlc/ltcbtc/?&currency_pair=ltcbtc&step=300&limit=1000&start=1612137600\n",
      "Downloaded from 2021-02-01 00:00:00(1612137600) to 2021-02-04 11:15:00(1612437300) 0.00392037\n",
      "Processing 1000 of ltcbtc\n"
     ]
    },
    {
     "data": {
      "application/vnd.jupyter.widget-view+json": {
       "model_id": "b47612950cc24687b718664b33c57a93",
       "version_major": 2,
       "version_minor": 0
      },
      "text/plain": [
       "  0%|          | 0/1000 [00:00<?, ?it/s]"
      ]
     },
     "metadata": {},
     "output_type": "display_data"
    },
    {
     "name": "stdout",
     "output_type": "stream",
     "text": [
      "https://www.bitstamp.net/api/v2/ohlc/btcusd/?&currency_pair=btcusd&step=300&limit=1000&start=1623711600\n",
      "https://www.bitstamp.net/api/v2/ohlc/btcusd/?&currency_pair=btcusd&step=300&limit=1000&start=1624011600\n",
      "https://www.bitstamp.net/api/v2/ohlc/btcusd/?&currency_pair=btcusd&step=300&limit=1000&start=1624311600\n",
      "https://www.bitstamp.net/api/v2/ohlc/btcusd/?&currency_pair=btcusd&step=300&limit=1000&start=1624611600\n",
      "https://www.bitstamp.net/api/v2/ohlc/btcusd/?&currency_pair=btcusd&step=300&limit=1000&start=1624911600\n",
      "https://www.bitstamp.net/api/v2/ohlc/btcusd/?&currency_pair=btcusd&step=300&limit=1000&start=1625211600\n",
      "https://www.bitstamp.net/api/v2/ohlc/btcusd/?&currency_pair=btcusd&step=300&limit=1000&start=1625511600\n",
      "https://www.bitstamp.net/api/v2/ohlc/btcusd/?&currency_pair=btcusd&step=300&limit=1000&start=1625811600\n",
      "https://www.bitstamp.net/api/v2/ohlc/btcusd/?&currency_pair=btcusd&step=300&limit=1000&start=1626111600\n",
      "Downloaded from 2021-06-15 00:00:00(1623711600) to 2021-07-15 00:00:00(1626303600) 32978.97\n",
      "Processing 8641 of btcusd\n"
     ]
    },
    {
     "data": {
      "application/vnd.jupyter.widget-view+json": {
       "model_id": "da00fa68585542b1b277c5e021c13dc8",
       "version_major": 2,
       "version_minor": 0
      },
      "text/plain": [
       "  0%|          | 0/8641 [00:00<?, ?it/s]"
      ]
     },
     "metadata": {},
     "output_type": "display_data"
    },
    {
     "name": "stdout",
     "output_type": "stream",
     "text": [
      "https://www.bitstamp.net/api/v2/ohlc/ethusd/?&currency_pair=ethusd&step=300&limit=1000&start=1623711600\n",
      "https://www.bitstamp.net/api/v2/ohlc/ethusd/?&currency_pair=ethusd&step=300&limit=1000&start=1624011600\n",
      "https://www.bitstamp.net/api/v2/ohlc/ethusd/?&currency_pair=ethusd&step=300&limit=1000&start=1624311600\n",
      "https://www.bitstamp.net/api/v2/ohlc/ethusd/?&currency_pair=ethusd&step=300&limit=1000&start=1624611600\n",
      "https://www.bitstamp.net/api/v2/ohlc/ethusd/?&currency_pair=ethusd&step=300&limit=1000&start=1624911600\n",
      "https://www.bitstamp.net/api/v2/ohlc/ethusd/?&currency_pair=ethusd&step=300&limit=1000&start=1625211600\n",
      "https://www.bitstamp.net/api/v2/ohlc/ethusd/?&currency_pair=ethusd&step=300&limit=1000&start=1625511600\n",
      "https://www.bitstamp.net/api/v2/ohlc/ethusd/?&currency_pair=ethusd&step=300&limit=1000&start=1625811600\n",
      "https://www.bitstamp.net/api/v2/ohlc/ethusd/?&currency_pair=ethusd&step=300&limit=1000&start=1626111600\n",
      "Downloaded from 2021-06-15 00:00:00(1623711600) to 2021-07-15 00:00:00(1626303600) 2005.17\n",
      "Processing 8641 of ethusd\n"
     ]
    },
    {
     "data": {
      "application/vnd.jupyter.widget-view+json": {
       "model_id": "2f878e726c3f4e0c9e4ec5122fb3e581",
       "version_major": 2,
       "version_minor": 0
      },
      "text/plain": [
       "  0%|          | 0/8641 [00:00<?, ?it/s]"
      ]
     },
     "metadata": {},
     "output_type": "display_data"
    },
    {
     "name": "stdout",
     "output_type": "stream",
     "text": [
      "https://www.bitstamp.net/api/v2/ohlc/ltcusd/?&currency_pair=ltcusd&step=300&limit=1000&start=1623711600\n",
      "https://www.bitstamp.net/api/v2/ohlc/ltcusd/?&currency_pair=ltcusd&step=300&limit=1000&start=1624011600\n",
      "https://www.bitstamp.net/api/v2/ohlc/ltcusd/?&currency_pair=ltcusd&step=300&limit=1000&start=1624311600\n",
      "https://www.bitstamp.net/api/v2/ohlc/ltcusd/?&currency_pair=ltcusd&step=300&limit=1000&start=1624611600\n",
      "https://www.bitstamp.net/api/v2/ohlc/ltcusd/?&currency_pair=ltcusd&step=300&limit=1000&start=1624911600\n",
      "https://www.bitstamp.net/api/v2/ohlc/ltcusd/?&currency_pair=ltcusd&step=300&limit=1000&start=1625211600\n",
      "https://www.bitstamp.net/api/v2/ohlc/ltcusd/?&currency_pair=ltcusd&step=300&limit=1000&start=1625511600\n",
      "https://www.bitstamp.net/api/v2/ohlc/ltcusd/?&currency_pair=ltcusd&step=300&limit=1000&start=1625811600\n",
      "https://www.bitstamp.net/api/v2/ohlc/ltcusd/?&currency_pair=ltcusd&step=300&limit=1000&start=1626111600\n",
      "Downloaded from 2021-06-15 00:00:00(1623711600) to 2021-07-15 00:00:00(1626303600) 131.22\n",
      "Processing 8641 of ltcusd\n"
     ]
    },
    {
     "data": {
      "application/vnd.jupyter.widget-view+json": {
       "model_id": "4dbd4ee75fe54a7cb79dfb9ad7c1282e",
       "version_major": 2,
       "version_minor": 0
      },
      "text/plain": [
       "  0%|          | 0/8641 [00:00<?, ?it/s]"
      ]
     },
     "metadata": {},
     "output_type": "display_data"
    },
    {
     "name": "stdout",
     "output_type": "stream",
     "text": [
      "https://www.bitstamp.net/api/v2/ohlc/ltcbtc/?&currency_pair=ltcbtc&step=300&limit=1000&start=1623711600\n",
      "https://www.bitstamp.net/api/v2/ohlc/ltcbtc/?&currency_pair=ltcbtc&step=300&limit=1000&start=1624011600\n",
      "https://www.bitstamp.net/api/v2/ohlc/ltcbtc/?&currency_pair=ltcbtc&step=300&limit=1000&start=1624311600\n",
      "https://www.bitstamp.net/api/v2/ohlc/ltcbtc/?&currency_pair=ltcbtc&step=300&limit=1000&start=1624611600\n",
      "https://www.bitstamp.net/api/v2/ohlc/ltcbtc/?&currency_pair=ltcbtc&step=300&limit=1000&start=1624911600\n",
      "https://www.bitstamp.net/api/v2/ohlc/ltcbtc/?&currency_pair=ltcbtc&step=300&limit=1000&start=1625211600\n",
      "https://www.bitstamp.net/api/v2/ohlc/ltcbtc/?&currency_pair=ltcbtc&step=300&limit=1000&start=1625511600\n",
      "https://www.bitstamp.net/api/v2/ohlc/ltcbtc/?&currency_pair=ltcbtc&step=300&limit=1000&start=1625811600\n",
      "https://www.bitstamp.net/api/v2/ohlc/ltcbtc/?&currency_pair=ltcbtc&step=300&limit=1000&start=1626111600\n",
      "Downloaded from 2021-06-15 00:00:00(1623711600) to 2021-07-15 00:00:00(1626303600) 0.00398347\n",
      "Processing 8641 of ltcbtc\n"
     ]
    },
    {
     "data": {
      "application/vnd.jupyter.widget-view+json": {
       "model_id": "c99ee7f669f8476ab5a30997653b02d1",
       "version_major": 2,
       "version_minor": 0
      },
      "text/plain": [
       "  0%|          | 0/8641 [00:00<?, ?it/s]"
      ]
     },
     "metadata": {},
     "output_type": "display_data"
    },
    {
     "name": "stdout",
     "output_type": "stream",
     "text": [
      "data/online40_5 -> OnLineDataProvider (val_keys = {'btcusd': 3, 'ethusd': 3, 'ltcusd': 3, 'ltcbtc': 3}, train_data = 2 , data_detail = DataDetail (windows = 40, minutes = 5, steps_ahead = 1)))\n",
      "CPU times: user 7h 10min 25s, sys: 24min 5s, total: 7h 34min 31s\n",
      "Wall time: 7h 30min 42s\n"
     ]
    }
   ],
   "source": [
    "%%time\n",
    "\n",
    "params = []\n",
    "\n",
    "for minute in minutes:\n",
    "    for win in windows:\n",
    "        param = {}\n",
    "        param['minute'] = minute\n",
    "        param['win'] = win\n",
    "        params.append(param)\n",
    "\n",
    "for param in tqdm(params):\n",
    "    minutes = param['minute']\n",
    "    windows = param['win']\n",
    "    data_detail = DataDetail(windows=windows, minutes=minutes, steps_ahead=1)\n",
    "    online = get_online_data(\n",
    "                     data_detail = data_detail,\n",
    "                     load_from_disk = load_from_disk\n",
    "            )\n",
    "    data.append(online)"
   ]
  },
  {
   "cell_type": "code",
   "execution_count": null,
   "metadata": {},
   "outputs": [],
   "source": []
  },
  {
   "cell_type": "code",
   "execution_count": 1,
   "metadata": {},
   "outputs": [],
   "source": [
    "from model_winner_select import *\n",
    "evalueted = load(\"winner_30\")"
   ]
  },
  {
   "cell_type": "code",
   "execution_count": 2,
   "metadata": {},
   "outputs": [
    {
     "name": "stdout",
     "output_type": "stream",
     "text": [
      "ethusd -> 113.14162646428689 | 25 - 9\n",
      "stop_loss: -1\n",
      "windows = 20 minutes = 30 steps_ahead = 1\n",
      "Pipeline(steps=[('minmaxscaler', MinMaxScaler()),\n",
      "                ('pipeline',\n",
      "                 Pipeline(steps=[('s',\n",
      "                                  RFE(estimator=ExtraTreesClassifier(max_features=0.3,\n",
      "                                                                     random_state=42),\n",
      "                                      step=0.7500000000000001)),\n",
      "                                 ('m', QuadraticDiscriminantAnalysis())]))])\n"
     ]
    }
   ],
   "source": [
    "print_evalueted_model(evalueted)"
   ]
  },
  {
   "cell_type": "code",
   "execution_count": null,
   "metadata": {},
   "outputs": [],
   "source": []
  }
 ],
 "metadata": {
  "accelerator": "GPU",
  "colab": {
   "collapsed_sections": [],
   "name": "enviroment",
   "provenance": [],
   "version": "0.3.2"
  },
  "kernelspec": {
   "display_name": "Python 3",
   "language": "python",
   "name": "python3"
  },
  "language_info": {
   "codemirror_mode": {
    "name": "ipython",
    "version": 3
   },
   "file_extension": ".py",
   "mimetype": "text/x-python",
   "name": "python",
   "nbconvert_exporter": "python",
   "pygments_lexer": "ipython3",
   "version": "3.9.5"
  }
 },
 "nbformat": 4,
 "nbformat_minor": 4
}
