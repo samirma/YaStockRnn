{
 "cells": [
  {
   "cell_type": "code",
   "execution_count": 1,
   "metadata": {
    "colab": {
     "base_uri": "https://localhost:8080/",
     "height": 170
    },
    "colab_type": "code",
    "executionInfo": {
     "elapsed": 503083,
     "status": "ok",
     "timestamp": 1568068274112,
     "user": {
      "displayName": "Samir Moreira Antônio",
      "photoUrl": "https://lh3.googleusercontent.com/a-/AAuE7mCsh3ldsSLN0VnFRYp341EzO_UyuRNKmLncUbMA3Q=s64",
      "userId": "14581632111443153742"
     },
     "user_tz": -60
    },
    "id": "fGVQczSlF-9o",
    "outputId": "e3a06798-f737-48d9-ec6e-d3784cec3115"
   },
   "outputs": [],
   "source": [
    "import pandas as pd\n",
    "import data_util\n",
    "from tqdm.notebook import tqdm\n",
    "from data_generator import DataGenerator\n",
    "from tec_an import TecAn\n",
    "import numpy as np\n",
    "from data_util import *\n",
    "from backtest import *\n",
    "import threading\n",
    "import multiprocessing\n",
    "from data_agent import DataAgent, TacProcess\n",
    "from joblib import dump, load"
   ]
  },
  {
   "cell_type": "code",
   "execution_count": 2,
   "metadata": {},
   "outputs": [],
   "source": [
    "#train_start_list = [1622502000, 1590966000, 1559343600, 1580515200, 1612137600]\n",
    "train_start_list = [1622502000, 1590966000, 1559343600, 1527807600, 1517443200, 1548979200, 1580515200, 1612137600]\n",
    "train_start_list = [1612137600]\n",
    "train_keys = [\"btcusd\", \"ethusd\", \"ltcusd\", \"ltcbtc\"]\n",
    "#train_keys = []\n",
    "#train_keys = [\"btcusd\"]\n",
    "val_start = 1623711600\n",
    "val_end = 1626303600\n",
    "val_keys = [\"btcusd\", \"ethusd\", \"ltcusd\", \"ltcbtc\"]\n",
    "#val_keys = [\"btcusd\"]"
   ]
  },
  {
   "cell_type": "code",
   "execution_count": 3,
   "metadata": {},
   "outputs": [],
   "source": [
    "\n",
    "steps = 1\n",
    "\n",
    "windows = [5, 10, 20, 30, 40]\n",
    "#windows = [40]\n",
    "\n",
    "minutes = [3]\n",
    "#minutes = [30]\n",
    "\n",
    "load_from_disk =  False\n"
   ]
  },
  {
   "cell_type": "code",
   "execution_count": 4,
   "metadata": {},
   "outputs": [],
   "source": [
    "def get_online_data(minutes, source_data_generator, load_from_disk, file_prefix = \"\"):\n",
    "    \n",
    "    online = OnLineDataProvider(\n",
    "                 source_data_generator = source_data_generator,\n",
    "                 minutes = minutes,\n",
    "                 train_keys = train_keys,\n",
    "                 train_limit = 1000,\n",
    "                 val_limit = 1000,\n",
    "                 val_keys = val_keys,\n",
    "                 val_start = val_start,\n",
    "                 val_end = val_end,\n",
    "                 train_start_list = train_start_list\n",
    "                 \n",
    "    )\n",
    "\n",
    "    online_path = f'data/online{file_prefix}_{minutes}'\n",
    "    \n",
    "    online.load_cache()\n",
    "    online.source_data_generator = None\n",
    "    dump(online, online_path)\n",
    "    \n",
    "    return online"
   ]
  },
  {
   "cell_type": "code",
   "execution_count": 5,
   "metadata": {},
   "outputs": [],
   "source": [
    "data = []\n",
    "\n",
    "def load(minute, win):\n",
    "    tec = TecAn(windows = win, windows_limit = 100)\n",
    "    source_data_generator = SourceDataGenerator(tec = tec)\n",
    "    online = get_online_data(minutes = minute, \n",
    "                     source_data_generator = source_data_generator, \n",
    "                     load_from_disk = load_from_disk, \n",
    "                     file_prefix = win)\n",
    "    data.append(online)\n"
   ]
  },
  {
   "cell_type": "code",
   "execution_count": 6,
   "metadata": {},
   "outputs": [
    {
     "data": {
      "application/vnd.jupyter.widget-view+json": {
       "model_id": "b9e8423214e64c61b98875b1fbc5d2b6",
       "version_major": 2,
       "version_minor": 0
      },
      "text/plain": [
       "  0%|          | 0/5 [00:00<?, ?it/s]"
      ]
     },
     "metadata": {},
     "output_type": "display_data"
    },
    {
     "name": "stdout",
     "output_type": "stream",
     "text": [
      "https://www.bitstamp.net/api/v2/ohlc/btcusd/?&currency_pair=btcusd&step=180&limit=1000&start=1612137600\n"
     ]
    },
    {
     "data": {
      "application/vnd.jupyter.widget-view+json": {
       "model_id": "74ba112c29144bb3a605798b098af98a",
       "version_major": 2,
       "version_minor": 0
      },
      "text/plain": [
       "  0%|          | 0/1000 [00:00<?, ?it/s]"
      ]
     },
     "metadata": {},
     "output_type": "display_data"
    },
    {
     "name": "stdout",
     "output_type": "stream",
     "text": [
      "https://www.bitstamp.net/api/v2/ohlc/ethusd/?&currency_pair=ethusd&step=180&limit=1000&start=1612137600\n"
     ]
    },
    {
     "data": {
      "application/vnd.jupyter.widget-view+json": {
       "model_id": "d5816faa47104314af4370b7bb5408d5",
       "version_major": 2,
       "version_minor": 0
      },
      "text/plain": [
       "  0%|          | 0/1000 [00:00<?, ?it/s]"
      ]
     },
     "metadata": {},
     "output_type": "display_data"
    },
    {
     "name": "stdout",
     "output_type": "stream",
     "text": [
      "https://www.bitstamp.net/api/v2/ohlc/ltcusd/?&currency_pair=ltcusd&step=180&limit=1000&start=1612137600\n"
     ]
    },
    {
     "data": {
      "application/vnd.jupyter.widget-view+json": {
       "model_id": "9dfb7041e9eb44e0a2823ac38a1bfb81",
       "version_major": 2,
       "version_minor": 0
      },
      "text/plain": [
       "  0%|          | 0/1000 [00:00<?, ?it/s]"
      ]
     },
     "metadata": {},
     "output_type": "display_data"
    },
    {
     "name": "stdout",
     "output_type": "stream",
     "text": [
      "https://www.bitstamp.net/api/v2/ohlc/ltcbtc/?&currency_pair=ltcbtc&step=180&limit=1000&start=1612137600\n"
     ]
    },
    {
     "data": {
      "application/vnd.jupyter.widget-view+json": {
       "model_id": "a22f5f6a177d4c6b81dc2b1fa7c24b96",
       "version_major": 2,
       "version_minor": 0
      },
      "text/plain": [
       "  0%|          | 0/1000 [00:00<?, ?it/s]"
      ]
     },
     "metadata": {},
     "output_type": "display_data"
    },
    {
     "name": "stdout",
     "output_type": "stream",
     "text": [
      "https://www.bitstamp.net/api/v2/ohlc/btcusd/?&currency_pair=btcusd&step=180&limit=1000&start=1623711600\n",
      "https://www.bitstamp.net/api/v2/ohlc/btcusd/?&currency_pair=btcusd&step=180&limit=1000&start=1623891420\n",
      "https://www.bitstamp.net/api/v2/ohlc/btcusd/?&currency_pair=btcusd&step=180&limit=1000&start=1624071240\n",
      "https://www.bitstamp.net/api/v2/ohlc/btcusd/?&currency_pair=btcusd&step=180&limit=1000&start=1624251060\n",
      "https://www.bitstamp.net/api/v2/ohlc/btcusd/?&currency_pair=btcusd&step=180&limit=1000&start=1624430880\n",
      "https://www.bitstamp.net/api/v2/ohlc/btcusd/?&currency_pair=btcusd&step=180&limit=1000&start=1624610700\n",
      "https://www.bitstamp.net/api/v2/ohlc/btcusd/?&currency_pair=btcusd&step=180&limit=1000&start=1624790520\n",
      "https://www.bitstamp.net/api/v2/ohlc/btcusd/?&currency_pair=btcusd&step=180&limit=1000&start=1624970340\n",
      "https://www.bitstamp.net/api/v2/ohlc/btcusd/?&currency_pair=btcusd&step=180&limit=1000&start=1625150160\n",
      "https://www.bitstamp.net/api/v2/ohlc/btcusd/?&currency_pair=btcusd&step=180&limit=1000&start=1625329980\n",
      "https://www.bitstamp.net/api/v2/ohlc/btcusd/?&currency_pair=btcusd&step=180&limit=1000&start=1625509800\n",
      "https://www.bitstamp.net/api/v2/ohlc/btcusd/?&currency_pair=btcusd&step=180&limit=1000&start=1625689620\n",
      "https://www.bitstamp.net/api/v2/ohlc/btcusd/?&currency_pair=btcusd&step=180&limit=1000&start=1625869440\n",
      "https://www.bitstamp.net/api/v2/ohlc/btcusd/?&currency_pair=btcusd&step=180&limit=1000&start=1626049260\n",
      "https://www.bitstamp.net/api/v2/ohlc/btcusd/?&currency_pair=btcusd&step=180&limit=1000&start=1626229080\n"
     ]
    },
    {
     "data": {
      "application/vnd.jupyter.widget-view+json": {
       "model_id": "addc1ea2c19a45aea685deef41c71c3e",
       "version_major": 2,
       "version_minor": 0
      },
      "text/plain": [
       "  0%|          | 0/14402 [00:00<?, ?it/s]"
      ]
     },
     "metadata": {},
     "output_type": "display_data"
    },
    {
     "name": "stdout",
     "output_type": "stream",
     "text": [
      "https://www.bitstamp.net/api/v2/ohlc/ethusd/?&currency_pair=ethusd&step=180&limit=1000&start=1623711600\n",
      "https://www.bitstamp.net/api/v2/ohlc/ethusd/?&currency_pair=ethusd&step=180&limit=1000&start=1623891420\n",
      "https://www.bitstamp.net/api/v2/ohlc/ethusd/?&currency_pair=ethusd&step=180&limit=1000&start=1624071240\n",
      "https://www.bitstamp.net/api/v2/ohlc/ethusd/?&currency_pair=ethusd&step=180&limit=1000&start=1624251060\n",
      "https://www.bitstamp.net/api/v2/ohlc/ethusd/?&currency_pair=ethusd&step=180&limit=1000&start=1624430880\n",
      "https://www.bitstamp.net/api/v2/ohlc/ethusd/?&currency_pair=ethusd&step=180&limit=1000&start=1624610700\n",
      "https://www.bitstamp.net/api/v2/ohlc/ethusd/?&currency_pair=ethusd&step=180&limit=1000&start=1624790520\n",
      "https://www.bitstamp.net/api/v2/ohlc/ethusd/?&currency_pair=ethusd&step=180&limit=1000&start=1624970340\n",
      "https://www.bitstamp.net/api/v2/ohlc/ethusd/?&currency_pair=ethusd&step=180&limit=1000&start=1625150160\n",
      "https://www.bitstamp.net/api/v2/ohlc/ethusd/?&currency_pair=ethusd&step=180&limit=1000&start=1625329980\n",
      "https://www.bitstamp.net/api/v2/ohlc/ethusd/?&currency_pair=ethusd&step=180&limit=1000&start=1625509800\n",
      "https://www.bitstamp.net/api/v2/ohlc/ethusd/?&currency_pair=ethusd&step=180&limit=1000&start=1625689620\n",
      "https://www.bitstamp.net/api/v2/ohlc/ethusd/?&currency_pair=ethusd&step=180&limit=1000&start=1625869440\n",
      "https://www.bitstamp.net/api/v2/ohlc/ethusd/?&currency_pair=ethusd&step=180&limit=1000&start=1626049260\n",
      "https://www.bitstamp.net/api/v2/ohlc/ethusd/?&currency_pair=ethusd&step=180&limit=1000&start=1626229080\n"
     ]
    },
    {
     "data": {
      "application/vnd.jupyter.widget-view+json": {
       "model_id": "cd550bc784e1443995bb3afbac619c7a",
       "version_major": 2,
       "version_minor": 0
      },
      "text/plain": [
       "  0%|          | 0/14402 [00:00<?, ?it/s]"
      ]
     },
     "metadata": {},
     "output_type": "display_data"
    },
    {
     "name": "stdout",
     "output_type": "stream",
     "text": [
      "https://www.bitstamp.net/api/v2/ohlc/ltcusd/?&currency_pair=ltcusd&step=180&limit=1000&start=1623711600\n",
      "https://www.bitstamp.net/api/v2/ohlc/ltcusd/?&currency_pair=ltcusd&step=180&limit=1000&start=1623891420\n",
      "https://www.bitstamp.net/api/v2/ohlc/ltcusd/?&currency_pair=ltcusd&step=180&limit=1000&start=1624071240\n",
      "https://www.bitstamp.net/api/v2/ohlc/ltcusd/?&currency_pair=ltcusd&step=180&limit=1000&start=1624251060\n",
      "https://www.bitstamp.net/api/v2/ohlc/ltcusd/?&currency_pair=ltcusd&step=180&limit=1000&start=1624430880\n",
      "https://www.bitstamp.net/api/v2/ohlc/ltcusd/?&currency_pair=ltcusd&step=180&limit=1000&start=1624610700\n",
      "https://www.bitstamp.net/api/v2/ohlc/ltcusd/?&currency_pair=ltcusd&step=180&limit=1000&start=1624790520\n",
      "https://www.bitstamp.net/api/v2/ohlc/ltcusd/?&currency_pair=ltcusd&step=180&limit=1000&start=1624970340\n",
      "https://www.bitstamp.net/api/v2/ohlc/ltcusd/?&currency_pair=ltcusd&step=180&limit=1000&start=1625150160\n",
      "https://www.bitstamp.net/api/v2/ohlc/ltcusd/?&currency_pair=ltcusd&step=180&limit=1000&start=1625329980\n",
      "https://www.bitstamp.net/api/v2/ohlc/ltcusd/?&currency_pair=ltcusd&step=180&limit=1000&start=1625509800\n",
      "https://www.bitstamp.net/api/v2/ohlc/ltcusd/?&currency_pair=ltcusd&step=180&limit=1000&start=1625689620\n",
      "https://www.bitstamp.net/api/v2/ohlc/ltcusd/?&currency_pair=ltcusd&step=180&limit=1000&start=1625869440\n",
      "https://www.bitstamp.net/api/v2/ohlc/ltcusd/?&currency_pair=ltcusd&step=180&limit=1000&start=1626049260\n",
      "https://www.bitstamp.net/api/v2/ohlc/ltcusd/?&currency_pair=ltcusd&step=180&limit=1000&start=1626229080\n"
     ]
    },
    {
     "data": {
      "application/vnd.jupyter.widget-view+json": {
       "model_id": "1d9711c439a441bf9cf72d79806ffaad",
       "version_major": 2,
       "version_minor": 0
      },
      "text/plain": [
       "  0%|          | 0/14402 [00:00<?, ?it/s]"
      ]
     },
     "metadata": {},
     "output_type": "display_data"
    },
    {
     "name": "stdout",
     "output_type": "stream",
     "text": [
      "https://www.bitstamp.net/api/v2/ohlc/ltcbtc/?&currency_pair=ltcbtc&step=180&limit=1000&start=1623711600\n",
      "https://www.bitstamp.net/api/v2/ohlc/ltcbtc/?&currency_pair=ltcbtc&step=180&limit=1000&start=1623891420\n",
      "https://www.bitstamp.net/api/v2/ohlc/ltcbtc/?&currency_pair=ltcbtc&step=180&limit=1000&start=1624071240\n",
      "https://www.bitstamp.net/api/v2/ohlc/ltcbtc/?&currency_pair=ltcbtc&step=180&limit=1000&start=1624251060\n",
      "https://www.bitstamp.net/api/v2/ohlc/ltcbtc/?&currency_pair=ltcbtc&step=180&limit=1000&start=1624430880\n",
      "https://www.bitstamp.net/api/v2/ohlc/ltcbtc/?&currency_pair=ltcbtc&step=180&limit=1000&start=1624610700\n",
      "https://www.bitstamp.net/api/v2/ohlc/ltcbtc/?&currency_pair=ltcbtc&step=180&limit=1000&start=1624790520\n",
      "https://www.bitstamp.net/api/v2/ohlc/ltcbtc/?&currency_pair=ltcbtc&step=180&limit=1000&start=1624970340\n",
      "https://www.bitstamp.net/api/v2/ohlc/ltcbtc/?&currency_pair=ltcbtc&step=180&limit=1000&start=1625150160\n",
      "https://www.bitstamp.net/api/v2/ohlc/ltcbtc/?&currency_pair=ltcbtc&step=180&limit=1000&start=1625329980\n",
      "https://www.bitstamp.net/api/v2/ohlc/ltcbtc/?&currency_pair=ltcbtc&step=180&limit=1000&start=1625509800\n",
      "https://www.bitstamp.net/api/v2/ohlc/ltcbtc/?&currency_pair=ltcbtc&step=180&limit=1000&start=1625689620\n",
      "https://www.bitstamp.net/api/v2/ohlc/ltcbtc/?&currency_pair=ltcbtc&step=180&limit=1000&start=1625869440\n",
      "https://www.bitstamp.net/api/v2/ohlc/ltcbtc/?&currency_pair=ltcbtc&step=180&limit=1000&start=1626049260\n",
      "https://www.bitstamp.net/api/v2/ohlc/ltcbtc/?&currency_pair=ltcbtc&step=180&limit=1000&start=1626229080\n"
     ]
    },
    {
     "data": {
      "application/vnd.jupyter.widget-view+json": {
       "model_id": "893b10edfb20468db80017815ce78a61",
       "version_major": 2,
       "version_minor": 0
      },
      "text/plain": [
       "  0%|          | 0/14402 [00:00<?, ?it/s]"
      ]
     },
     "metadata": {},
     "output_type": "display_data"
    },
    {
     "name": "stdout",
     "output_type": "stream",
     "text": [
      "https://www.bitstamp.net/api/v2/ohlc/btcusd/?&currency_pair=btcusd&step=180&limit=1000&start=1612137600\n"
     ]
    },
    {
     "data": {
      "application/vnd.jupyter.widget-view+json": {
       "model_id": "f527d57b79f8443383d8c7f728d40bb9",
       "version_major": 2,
       "version_minor": 0
      },
      "text/plain": [
       "  0%|          | 0/1000 [00:00<?, ?it/s]"
      ]
     },
     "metadata": {},
     "output_type": "display_data"
    },
    {
     "name": "stdout",
     "output_type": "stream",
     "text": [
      "https://www.bitstamp.net/api/v2/ohlc/ethusd/?&currency_pair=ethusd&step=180&limit=1000&start=1612137600\n"
     ]
    },
    {
     "data": {
      "application/vnd.jupyter.widget-view+json": {
       "model_id": "f899626cb7744416bfae6bfa0a6a1d33",
       "version_major": 2,
       "version_minor": 0
      },
      "text/plain": [
       "  0%|          | 0/1000 [00:00<?, ?it/s]"
      ]
     },
     "metadata": {},
     "output_type": "display_data"
    },
    {
     "name": "stdout",
     "output_type": "stream",
     "text": [
      "https://www.bitstamp.net/api/v2/ohlc/ltcusd/?&currency_pair=ltcusd&step=180&limit=1000&start=1612137600\n"
     ]
    },
    {
     "data": {
      "application/vnd.jupyter.widget-view+json": {
       "model_id": "f2e00cb038b1484f8b23f3216847d17f",
       "version_major": 2,
       "version_minor": 0
      },
      "text/plain": [
       "  0%|          | 0/1000 [00:00<?, ?it/s]"
      ]
     },
     "metadata": {},
     "output_type": "display_data"
    },
    {
     "name": "stdout",
     "output_type": "stream",
     "text": [
      "https://www.bitstamp.net/api/v2/ohlc/ltcbtc/?&currency_pair=ltcbtc&step=180&limit=1000&start=1612137600\n"
     ]
    },
    {
     "data": {
      "application/vnd.jupyter.widget-view+json": {
       "model_id": "512ccb31bbbd485b955824a36aa3495c",
       "version_major": 2,
       "version_minor": 0
      },
      "text/plain": [
       "  0%|          | 0/1000 [00:00<?, ?it/s]"
      ]
     },
     "metadata": {},
     "output_type": "display_data"
    },
    {
     "name": "stdout",
     "output_type": "stream",
     "text": [
      "https://www.bitstamp.net/api/v2/ohlc/btcusd/?&currency_pair=btcusd&step=180&limit=1000&start=1623711600\n",
      "https://www.bitstamp.net/api/v2/ohlc/btcusd/?&currency_pair=btcusd&step=180&limit=1000&start=1623891420\n",
      "https://www.bitstamp.net/api/v2/ohlc/btcusd/?&currency_pair=btcusd&step=180&limit=1000&start=1624071240\n",
      "https://www.bitstamp.net/api/v2/ohlc/btcusd/?&currency_pair=btcusd&step=180&limit=1000&start=1624251060\n",
      "https://www.bitstamp.net/api/v2/ohlc/btcusd/?&currency_pair=btcusd&step=180&limit=1000&start=1624430880\n",
      "https://www.bitstamp.net/api/v2/ohlc/btcusd/?&currency_pair=btcusd&step=180&limit=1000&start=1624610700\n",
      "https://www.bitstamp.net/api/v2/ohlc/btcusd/?&currency_pair=btcusd&step=180&limit=1000&start=1624790520\n",
      "https://www.bitstamp.net/api/v2/ohlc/btcusd/?&currency_pair=btcusd&step=180&limit=1000&start=1624970340\n",
      "https://www.bitstamp.net/api/v2/ohlc/btcusd/?&currency_pair=btcusd&step=180&limit=1000&start=1625150160\n",
      "https://www.bitstamp.net/api/v2/ohlc/btcusd/?&currency_pair=btcusd&step=180&limit=1000&start=1625329980\n",
      "https://www.bitstamp.net/api/v2/ohlc/btcusd/?&currency_pair=btcusd&step=180&limit=1000&start=1625509800\n",
      "https://www.bitstamp.net/api/v2/ohlc/btcusd/?&currency_pair=btcusd&step=180&limit=1000&start=1625689620\n",
      "https://www.bitstamp.net/api/v2/ohlc/btcusd/?&currency_pair=btcusd&step=180&limit=1000&start=1625869440\n",
      "https://www.bitstamp.net/api/v2/ohlc/btcusd/?&currency_pair=btcusd&step=180&limit=1000&start=1626049260\n",
      "https://www.bitstamp.net/api/v2/ohlc/btcusd/?&currency_pair=btcusd&step=180&limit=1000&start=1626229080\n"
     ]
    },
    {
     "data": {
      "application/vnd.jupyter.widget-view+json": {
       "model_id": "b6af4ba9ca2644de9d432da646046718",
       "version_major": 2,
       "version_minor": 0
      },
      "text/plain": [
       "  0%|          | 0/14402 [00:00<?, ?it/s]"
      ]
     },
     "metadata": {},
     "output_type": "display_data"
    },
    {
     "name": "stdout",
     "output_type": "stream",
     "text": [
      "https://www.bitstamp.net/api/v2/ohlc/ethusd/?&currency_pair=ethusd&step=180&limit=1000&start=1623711600\n",
      "https://www.bitstamp.net/api/v2/ohlc/ethusd/?&currency_pair=ethusd&step=180&limit=1000&start=1623891420\n",
      "https://www.bitstamp.net/api/v2/ohlc/ethusd/?&currency_pair=ethusd&step=180&limit=1000&start=1624071240\n",
      "https://www.bitstamp.net/api/v2/ohlc/ethusd/?&currency_pair=ethusd&step=180&limit=1000&start=1624251060\n",
      "https://www.bitstamp.net/api/v2/ohlc/ethusd/?&currency_pair=ethusd&step=180&limit=1000&start=1624430880\n",
      "https://www.bitstamp.net/api/v2/ohlc/ethusd/?&currency_pair=ethusd&step=180&limit=1000&start=1624610700\n",
      "https://www.bitstamp.net/api/v2/ohlc/ethusd/?&currency_pair=ethusd&step=180&limit=1000&start=1624790520\n",
      "https://www.bitstamp.net/api/v2/ohlc/ethusd/?&currency_pair=ethusd&step=180&limit=1000&start=1624970340\n",
      "https://www.bitstamp.net/api/v2/ohlc/ethusd/?&currency_pair=ethusd&step=180&limit=1000&start=1625150160\n",
      "https://www.bitstamp.net/api/v2/ohlc/ethusd/?&currency_pair=ethusd&step=180&limit=1000&start=1625329980\n",
      "https://www.bitstamp.net/api/v2/ohlc/ethusd/?&currency_pair=ethusd&step=180&limit=1000&start=1625509800\n",
      "https://www.bitstamp.net/api/v2/ohlc/ethusd/?&currency_pair=ethusd&step=180&limit=1000&start=1625689620\n",
      "https://www.bitstamp.net/api/v2/ohlc/ethusd/?&currency_pair=ethusd&step=180&limit=1000&start=1625869440\n",
      "https://www.bitstamp.net/api/v2/ohlc/ethusd/?&currency_pair=ethusd&step=180&limit=1000&start=1626049260\n",
      "https://www.bitstamp.net/api/v2/ohlc/ethusd/?&currency_pair=ethusd&step=180&limit=1000&start=1626229080\n"
     ]
    },
    {
     "data": {
      "application/vnd.jupyter.widget-view+json": {
       "model_id": "279fca4cb5e748a8b0d3851432c7aae7",
       "version_major": 2,
       "version_minor": 0
      },
      "text/plain": [
       "  0%|          | 0/14402 [00:00<?, ?it/s]"
      ]
     },
     "metadata": {},
     "output_type": "display_data"
    },
    {
     "name": "stdout",
     "output_type": "stream",
     "text": [
      "https://www.bitstamp.net/api/v2/ohlc/ltcusd/?&currency_pair=ltcusd&step=180&limit=1000&start=1623711600\n",
      "https://www.bitstamp.net/api/v2/ohlc/ltcusd/?&currency_pair=ltcusd&step=180&limit=1000&start=1623891420\n",
      "https://www.bitstamp.net/api/v2/ohlc/ltcusd/?&currency_pair=ltcusd&step=180&limit=1000&start=1624071240\n",
      "https://www.bitstamp.net/api/v2/ohlc/ltcusd/?&currency_pair=ltcusd&step=180&limit=1000&start=1624251060\n",
      "https://www.bitstamp.net/api/v2/ohlc/ltcusd/?&currency_pair=ltcusd&step=180&limit=1000&start=1624430880\n",
      "https://www.bitstamp.net/api/v2/ohlc/ltcusd/?&currency_pair=ltcusd&step=180&limit=1000&start=1624610700\n",
      "https://www.bitstamp.net/api/v2/ohlc/ltcusd/?&currency_pair=ltcusd&step=180&limit=1000&start=1624790520\n",
      "https://www.bitstamp.net/api/v2/ohlc/ltcusd/?&currency_pair=ltcusd&step=180&limit=1000&start=1624970340\n",
      "https://www.bitstamp.net/api/v2/ohlc/ltcusd/?&currency_pair=ltcusd&step=180&limit=1000&start=1625150160\n",
      "https://www.bitstamp.net/api/v2/ohlc/ltcusd/?&currency_pair=ltcusd&step=180&limit=1000&start=1625329980\n",
      "https://www.bitstamp.net/api/v2/ohlc/ltcusd/?&currency_pair=ltcusd&step=180&limit=1000&start=1625509800\n",
      "https://www.bitstamp.net/api/v2/ohlc/ltcusd/?&currency_pair=ltcusd&step=180&limit=1000&start=1625689620\n",
      "https://www.bitstamp.net/api/v2/ohlc/ltcusd/?&currency_pair=ltcusd&step=180&limit=1000&start=1625869440\n",
      "https://www.bitstamp.net/api/v2/ohlc/ltcusd/?&currency_pair=ltcusd&step=180&limit=1000&start=1626049260\n",
      "https://www.bitstamp.net/api/v2/ohlc/ltcusd/?&currency_pair=ltcusd&step=180&limit=1000&start=1626229080\n"
     ]
    },
    {
     "data": {
      "application/vnd.jupyter.widget-view+json": {
       "model_id": "f218e19511ad49f7a1fde5dccf47cac6",
       "version_major": 2,
       "version_minor": 0
      },
      "text/plain": [
       "  0%|          | 0/14402 [00:00<?, ?it/s]"
      ]
     },
     "metadata": {},
     "output_type": "display_data"
    },
    {
     "name": "stdout",
     "output_type": "stream",
     "text": [
      "https://www.bitstamp.net/api/v2/ohlc/ltcbtc/?&currency_pair=ltcbtc&step=180&limit=1000&start=1623711600\n",
      "https://www.bitstamp.net/api/v2/ohlc/ltcbtc/?&currency_pair=ltcbtc&step=180&limit=1000&start=1623891420\n",
      "https://www.bitstamp.net/api/v2/ohlc/ltcbtc/?&currency_pair=ltcbtc&step=180&limit=1000&start=1624071240\n",
      "https://www.bitstamp.net/api/v2/ohlc/ltcbtc/?&currency_pair=ltcbtc&step=180&limit=1000&start=1624251060\n",
      "https://www.bitstamp.net/api/v2/ohlc/ltcbtc/?&currency_pair=ltcbtc&step=180&limit=1000&start=1624430880\n",
      "https://www.bitstamp.net/api/v2/ohlc/ltcbtc/?&currency_pair=ltcbtc&step=180&limit=1000&start=1624610700\n",
      "https://www.bitstamp.net/api/v2/ohlc/ltcbtc/?&currency_pair=ltcbtc&step=180&limit=1000&start=1624790520\n",
      "https://www.bitstamp.net/api/v2/ohlc/ltcbtc/?&currency_pair=ltcbtc&step=180&limit=1000&start=1624970340\n",
      "https://www.bitstamp.net/api/v2/ohlc/ltcbtc/?&currency_pair=ltcbtc&step=180&limit=1000&start=1625150160\n",
      "https://www.bitstamp.net/api/v2/ohlc/ltcbtc/?&currency_pair=ltcbtc&step=180&limit=1000&start=1625329980\n",
      "https://www.bitstamp.net/api/v2/ohlc/ltcbtc/?&currency_pair=ltcbtc&step=180&limit=1000&start=1625509800\n",
      "https://www.bitstamp.net/api/v2/ohlc/ltcbtc/?&currency_pair=ltcbtc&step=180&limit=1000&start=1625689620\n",
      "https://www.bitstamp.net/api/v2/ohlc/ltcbtc/?&currency_pair=ltcbtc&step=180&limit=1000&start=1625869440\n",
      "https://www.bitstamp.net/api/v2/ohlc/ltcbtc/?&currency_pair=ltcbtc&step=180&limit=1000&start=1626049260\n",
      "https://www.bitstamp.net/api/v2/ohlc/ltcbtc/?&currency_pair=ltcbtc&step=180&limit=1000&start=1626229080\n"
     ]
    },
    {
     "data": {
      "application/vnd.jupyter.widget-view+json": {
       "model_id": "17a98fa5204042c0880c64a35e1f9ae4",
       "version_major": 2,
       "version_minor": 0
      },
      "text/plain": [
       "  0%|          | 0/14402 [00:00<?, ?it/s]"
      ]
     },
     "metadata": {},
     "output_type": "display_data"
    },
    {
     "name": "stdout",
     "output_type": "stream",
     "text": [
      "https://www.bitstamp.net/api/v2/ohlc/btcusd/?&currency_pair=btcusd&step=180&limit=1000&start=1612137600\n"
     ]
    },
    {
     "data": {
      "application/vnd.jupyter.widget-view+json": {
       "model_id": "21428778a4fa4e7db6277cf71590efd2",
       "version_major": 2,
       "version_minor": 0
      },
      "text/plain": [
       "  0%|          | 0/1000 [00:00<?, ?it/s]"
      ]
     },
     "metadata": {},
     "output_type": "display_data"
    },
    {
     "name": "stdout",
     "output_type": "stream",
     "text": [
      "https://www.bitstamp.net/api/v2/ohlc/ethusd/?&currency_pair=ethusd&step=180&limit=1000&start=1612137600\n"
     ]
    },
    {
     "data": {
      "application/vnd.jupyter.widget-view+json": {
       "model_id": "1a15ed9713ab491d8866550c6282a148",
       "version_major": 2,
       "version_minor": 0
      },
      "text/plain": [
       "  0%|          | 0/1000 [00:00<?, ?it/s]"
      ]
     },
     "metadata": {},
     "output_type": "display_data"
    },
    {
     "name": "stdout",
     "output_type": "stream",
     "text": [
      "https://www.bitstamp.net/api/v2/ohlc/ltcusd/?&currency_pair=ltcusd&step=180&limit=1000&start=1612137600\n"
     ]
    },
    {
     "data": {
      "application/vnd.jupyter.widget-view+json": {
       "model_id": "1652e14a9b404003858fd71155361b1a",
       "version_major": 2,
       "version_minor": 0
      },
      "text/plain": [
       "  0%|          | 0/1000 [00:00<?, ?it/s]"
      ]
     },
     "metadata": {},
     "output_type": "display_data"
    },
    {
     "name": "stdout",
     "output_type": "stream",
     "text": [
      "https://www.bitstamp.net/api/v2/ohlc/ltcbtc/?&currency_pair=ltcbtc&step=180&limit=1000&start=1612137600\n"
     ]
    },
    {
     "data": {
      "application/vnd.jupyter.widget-view+json": {
       "model_id": "bc1eb39808e4405597174a94b1c99cf3",
       "version_major": 2,
       "version_minor": 0
      },
      "text/plain": [
       "  0%|          | 0/1000 [00:00<?, ?it/s]"
      ]
     },
     "metadata": {},
     "output_type": "display_data"
    },
    {
     "name": "stdout",
     "output_type": "stream",
     "text": [
      "https://www.bitstamp.net/api/v2/ohlc/btcusd/?&currency_pair=btcusd&step=180&limit=1000&start=1623711600\n",
      "https://www.bitstamp.net/api/v2/ohlc/btcusd/?&currency_pair=btcusd&step=180&limit=1000&start=1623891420\n",
      "https://www.bitstamp.net/api/v2/ohlc/btcusd/?&currency_pair=btcusd&step=180&limit=1000&start=1624071240\n",
      "https://www.bitstamp.net/api/v2/ohlc/btcusd/?&currency_pair=btcusd&step=180&limit=1000&start=1624251060\n",
      "https://www.bitstamp.net/api/v2/ohlc/btcusd/?&currency_pair=btcusd&step=180&limit=1000&start=1624430880\n",
      "https://www.bitstamp.net/api/v2/ohlc/btcusd/?&currency_pair=btcusd&step=180&limit=1000&start=1624610700\n",
      "https://www.bitstamp.net/api/v2/ohlc/btcusd/?&currency_pair=btcusd&step=180&limit=1000&start=1624790520\n",
      "https://www.bitstamp.net/api/v2/ohlc/btcusd/?&currency_pair=btcusd&step=180&limit=1000&start=1624970340\n",
      "https://www.bitstamp.net/api/v2/ohlc/btcusd/?&currency_pair=btcusd&step=180&limit=1000&start=1625150160\n",
      "https://www.bitstamp.net/api/v2/ohlc/btcusd/?&currency_pair=btcusd&step=180&limit=1000&start=1625329980\n",
      "https://www.bitstamp.net/api/v2/ohlc/btcusd/?&currency_pair=btcusd&step=180&limit=1000&start=1625509800\n",
      "https://www.bitstamp.net/api/v2/ohlc/btcusd/?&currency_pair=btcusd&step=180&limit=1000&start=1625689620\n",
      "https://www.bitstamp.net/api/v2/ohlc/btcusd/?&currency_pair=btcusd&step=180&limit=1000&start=1625869440\n",
      "https://www.bitstamp.net/api/v2/ohlc/btcusd/?&currency_pair=btcusd&step=180&limit=1000&start=1626049260\n",
      "https://www.bitstamp.net/api/v2/ohlc/btcusd/?&currency_pair=btcusd&step=180&limit=1000&start=1626229080\n"
     ]
    },
    {
     "data": {
      "application/vnd.jupyter.widget-view+json": {
       "model_id": "b74453e4fc6b49c3a7f7d69ac1ffd795",
       "version_major": 2,
       "version_minor": 0
      },
      "text/plain": [
       "  0%|          | 0/14402 [00:00<?, ?it/s]"
      ]
     },
     "metadata": {},
     "output_type": "display_data"
    },
    {
     "name": "stdout",
     "output_type": "stream",
     "text": [
      "https://www.bitstamp.net/api/v2/ohlc/ethusd/?&currency_pair=ethusd&step=180&limit=1000&start=1623711600\n",
      "https://www.bitstamp.net/api/v2/ohlc/ethusd/?&currency_pair=ethusd&step=180&limit=1000&start=1623891420\n",
      "https://www.bitstamp.net/api/v2/ohlc/ethusd/?&currency_pair=ethusd&step=180&limit=1000&start=1624071240\n",
      "https://www.bitstamp.net/api/v2/ohlc/ethusd/?&currency_pair=ethusd&step=180&limit=1000&start=1624251060\n",
      "https://www.bitstamp.net/api/v2/ohlc/ethusd/?&currency_pair=ethusd&step=180&limit=1000&start=1624430880\n",
      "https://www.bitstamp.net/api/v2/ohlc/ethusd/?&currency_pair=ethusd&step=180&limit=1000&start=1624610700\n",
      "https://www.bitstamp.net/api/v2/ohlc/ethusd/?&currency_pair=ethusd&step=180&limit=1000&start=1624790520\n",
      "https://www.bitstamp.net/api/v2/ohlc/ethusd/?&currency_pair=ethusd&step=180&limit=1000&start=1624970340\n",
      "https://www.bitstamp.net/api/v2/ohlc/ethusd/?&currency_pair=ethusd&step=180&limit=1000&start=1625150160\n",
      "https://www.bitstamp.net/api/v2/ohlc/ethusd/?&currency_pair=ethusd&step=180&limit=1000&start=1625329980\n",
      "https://www.bitstamp.net/api/v2/ohlc/ethusd/?&currency_pair=ethusd&step=180&limit=1000&start=1625509800\n",
      "https://www.bitstamp.net/api/v2/ohlc/ethusd/?&currency_pair=ethusd&step=180&limit=1000&start=1625689620\n",
      "https://www.bitstamp.net/api/v2/ohlc/ethusd/?&currency_pair=ethusd&step=180&limit=1000&start=1625869440\n",
      "https://www.bitstamp.net/api/v2/ohlc/ethusd/?&currency_pair=ethusd&step=180&limit=1000&start=1626049260\n",
      "https://www.bitstamp.net/api/v2/ohlc/ethusd/?&currency_pair=ethusd&step=180&limit=1000&start=1626229080\n"
     ]
    },
    {
     "data": {
      "application/vnd.jupyter.widget-view+json": {
       "model_id": "07412f8fc2cb401cbb5e46af75fc2741",
       "version_major": 2,
       "version_minor": 0
      },
      "text/plain": [
       "  0%|          | 0/14402 [00:00<?, ?it/s]"
      ]
     },
     "metadata": {},
     "output_type": "display_data"
    },
    {
     "name": "stdout",
     "output_type": "stream",
     "text": [
      "https://www.bitstamp.net/api/v2/ohlc/ltcusd/?&currency_pair=ltcusd&step=180&limit=1000&start=1623711600\n",
      "https://www.bitstamp.net/api/v2/ohlc/ltcusd/?&currency_pair=ltcusd&step=180&limit=1000&start=1623891420\n",
      "https://www.bitstamp.net/api/v2/ohlc/ltcusd/?&currency_pair=ltcusd&step=180&limit=1000&start=1624071240\n",
      "https://www.bitstamp.net/api/v2/ohlc/ltcusd/?&currency_pair=ltcusd&step=180&limit=1000&start=1624251060\n",
      "https://www.bitstamp.net/api/v2/ohlc/ltcusd/?&currency_pair=ltcusd&step=180&limit=1000&start=1624430880\n",
      "https://www.bitstamp.net/api/v2/ohlc/ltcusd/?&currency_pair=ltcusd&step=180&limit=1000&start=1624610700\n",
      "https://www.bitstamp.net/api/v2/ohlc/ltcusd/?&currency_pair=ltcusd&step=180&limit=1000&start=1624790520\n",
      "https://www.bitstamp.net/api/v2/ohlc/ltcusd/?&currency_pair=ltcusd&step=180&limit=1000&start=1624970340\n",
      "https://www.bitstamp.net/api/v2/ohlc/ltcusd/?&currency_pair=ltcusd&step=180&limit=1000&start=1625150160\n",
      "https://www.bitstamp.net/api/v2/ohlc/ltcusd/?&currency_pair=ltcusd&step=180&limit=1000&start=1625329980\n",
      "https://www.bitstamp.net/api/v2/ohlc/ltcusd/?&currency_pair=ltcusd&step=180&limit=1000&start=1625509800\n",
      "https://www.bitstamp.net/api/v2/ohlc/ltcusd/?&currency_pair=ltcusd&step=180&limit=1000&start=1625689620\n",
      "https://www.bitstamp.net/api/v2/ohlc/ltcusd/?&currency_pair=ltcusd&step=180&limit=1000&start=1625869440\n",
      "https://www.bitstamp.net/api/v2/ohlc/ltcusd/?&currency_pair=ltcusd&step=180&limit=1000&start=1626049260\n",
      "https://www.bitstamp.net/api/v2/ohlc/ltcusd/?&currency_pair=ltcusd&step=180&limit=1000&start=1626229080\n"
     ]
    },
    {
     "data": {
      "application/vnd.jupyter.widget-view+json": {
       "model_id": "0590cfb0edee45329ca39d918ef8fcdb",
       "version_major": 2,
       "version_minor": 0
      },
      "text/plain": [
       "  0%|          | 0/14402 [00:00<?, ?it/s]"
      ]
     },
     "metadata": {},
     "output_type": "display_data"
    },
    {
     "name": "stdout",
     "output_type": "stream",
     "text": [
      "https://www.bitstamp.net/api/v2/ohlc/ltcbtc/?&currency_pair=ltcbtc&step=180&limit=1000&start=1623711600\n",
      "https://www.bitstamp.net/api/v2/ohlc/ltcbtc/?&currency_pair=ltcbtc&step=180&limit=1000&start=1623891420\n",
      "https://www.bitstamp.net/api/v2/ohlc/ltcbtc/?&currency_pair=ltcbtc&step=180&limit=1000&start=1624071240\n",
      "https://www.bitstamp.net/api/v2/ohlc/ltcbtc/?&currency_pair=ltcbtc&step=180&limit=1000&start=1624251060\n",
      "https://www.bitstamp.net/api/v2/ohlc/ltcbtc/?&currency_pair=ltcbtc&step=180&limit=1000&start=1624430880\n",
      "https://www.bitstamp.net/api/v2/ohlc/ltcbtc/?&currency_pair=ltcbtc&step=180&limit=1000&start=1624610700\n",
      "https://www.bitstamp.net/api/v2/ohlc/ltcbtc/?&currency_pair=ltcbtc&step=180&limit=1000&start=1624790520\n",
      "https://www.bitstamp.net/api/v2/ohlc/ltcbtc/?&currency_pair=ltcbtc&step=180&limit=1000&start=1624970340\n",
      "https://www.bitstamp.net/api/v2/ohlc/ltcbtc/?&currency_pair=ltcbtc&step=180&limit=1000&start=1625150160\n",
      "https://www.bitstamp.net/api/v2/ohlc/ltcbtc/?&currency_pair=ltcbtc&step=180&limit=1000&start=1625329980\n",
      "https://www.bitstamp.net/api/v2/ohlc/ltcbtc/?&currency_pair=ltcbtc&step=180&limit=1000&start=1625509800\n",
      "https://www.bitstamp.net/api/v2/ohlc/ltcbtc/?&currency_pair=ltcbtc&step=180&limit=1000&start=1625689620\n",
      "https://www.bitstamp.net/api/v2/ohlc/ltcbtc/?&currency_pair=ltcbtc&step=180&limit=1000&start=1625869440\n",
      "https://www.bitstamp.net/api/v2/ohlc/ltcbtc/?&currency_pair=ltcbtc&step=180&limit=1000&start=1626049260\n",
      "https://www.bitstamp.net/api/v2/ohlc/ltcbtc/?&currency_pair=ltcbtc&step=180&limit=1000&start=1626229080\n"
     ]
    },
    {
     "data": {
      "application/vnd.jupyter.widget-view+json": {
       "model_id": "7880e4c4f41e473c8a4934cab078378e",
       "version_major": 2,
       "version_minor": 0
      },
      "text/plain": [
       "  0%|          | 0/14402 [00:00<?, ?it/s]"
      ]
     },
     "metadata": {},
     "output_type": "display_data"
    },
    {
     "name": "stdout",
     "output_type": "stream",
     "text": [
      "https://www.bitstamp.net/api/v2/ohlc/btcusd/?&currency_pair=btcusd&step=180&limit=1000&start=1612137600\n"
     ]
    },
    {
     "data": {
      "application/vnd.jupyter.widget-view+json": {
       "model_id": "ba300bd6f3a1418485f216dbd97248b1",
       "version_major": 2,
       "version_minor": 0
      },
      "text/plain": [
       "  0%|          | 0/1000 [00:00<?, ?it/s]"
      ]
     },
     "metadata": {},
     "output_type": "display_data"
    },
    {
     "name": "stdout",
     "output_type": "stream",
     "text": [
      "https://www.bitstamp.net/api/v2/ohlc/ethusd/?&currency_pair=ethusd&step=180&limit=1000&start=1612137600\n"
     ]
    },
    {
     "data": {
      "application/vnd.jupyter.widget-view+json": {
       "model_id": "49cbaf35b54942c791863d07ab5a6250",
       "version_major": 2,
       "version_minor": 0
      },
      "text/plain": [
       "  0%|          | 0/1000 [00:00<?, ?it/s]"
      ]
     },
     "metadata": {},
     "output_type": "display_data"
    },
    {
     "name": "stdout",
     "output_type": "stream",
     "text": [
      "https://www.bitstamp.net/api/v2/ohlc/ltcusd/?&currency_pair=ltcusd&step=180&limit=1000&start=1612137600\n"
     ]
    },
    {
     "data": {
      "application/vnd.jupyter.widget-view+json": {
       "model_id": "596bd431d4434bfa9da5e2b7fed9b0f5",
       "version_major": 2,
       "version_minor": 0
      },
      "text/plain": [
       "  0%|          | 0/1000 [00:00<?, ?it/s]"
      ]
     },
     "metadata": {},
     "output_type": "display_data"
    },
    {
     "name": "stdout",
     "output_type": "stream",
     "text": [
      "https://www.bitstamp.net/api/v2/ohlc/ltcbtc/?&currency_pair=ltcbtc&step=180&limit=1000&start=1612137600\n"
     ]
    },
    {
     "data": {
      "application/vnd.jupyter.widget-view+json": {
       "model_id": "50e3f30c3492486687e88e9910e9cb8e",
       "version_major": 2,
       "version_minor": 0
      },
      "text/plain": [
       "  0%|          | 0/1000 [00:00<?, ?it/s]"
      ]
     },
     "metadata": {},
     "output_type": "display_data"
    },
    {
     "name": "stdout",
     "output_type": "stream",
     "text": [
      "https://www.bitstamp.net/api/v2/ohlc/btcusd/?&currency_pair=btcusd&step=180&limit=1000&start=1623711600\n",
      "https://www.bitstamp.net/api/v2/ohlc/btcusd/?&currency_pair=btcusd&step=180&limit=1000&start=1623891420\n",
      "https://www.bitstamp.net/api/v2/ohlc/btcusd/?&currency_pair=btcusd&step=180&limit=1000&start=1624071240\n",
      "https://www.bitstamp.net/api/v2/ohlc/btcusd/?&currency_pair=btcusd&step=180&limit=1000&start=1624251060\n",
      "https://www.bitstamp.net/api/v2/ohlc/btcusd/?&currency_pair=btcusd&step=180&limit=1000&start=1624430880\n",
      "https://www.bitstamp.net/api/v2/ohlc/btcusd/?&currency_pair=btcusd&step=180&limit=1000&start=1624610700\n",
      "https://www.bitstamp.net/api/v2/ohlc/btcusd/?&currency_pair=btcusd&step=180&limit=1000&start=1624790520\n",
      "https://www.bitstamp.net/api/v2/ohlc/btcusd/?&currency_pair=btcusd&step=180&limit=1000&start=1624970340\n",
      "https://www.bitstamp.net/api/v2/ohlc/btcusd/?&currency_pair=btcusd&step=180&limit=1000&start=1625150160\n",
      "https://www.bitstamp.net/api/v2/ohlc/btcusd/?&currency_pair=btcusd&step=180&limit=1000&start=1625329980\n",
      "https://www.bitstamp.net/api/v2/ohlc/btcusd/?&currency_pair=btcusd&step=180&limit=1000&start=1625509800\n",
      "https://www.bitstamp.net/api/v2/ohlc/btcusd/?&currency_pair=btcusd&step=180&limit=1000&start=1625689620\n",
      "https://www.bitstamp.net/api/v2/ohlc/btcusd/?&currency_pair=btcusd&step=180&limit=1000&start=1625869440\n",
      "https://www.bitstamp.net/api/v2/ohlc/btcusd/?&currency_pair=btcusd&step=180&limit=1000&start=1626049260\n",
      "https://www.bitstamp.net/api/v2/ohlc/btcusd/?&currency_pair=btcusd&step=180&limit=1000&start=1626229080\n"
     ]
    },
    {
     "data": {
      "application/vnd.jupyter.widget-view+json": {
       "model_id": "6ab2204163044166ba191d867622d9dc",
       "version_major": 2,
       "version_minor": 0
      },
      "text/plain": [
       "  0%|          | 0/14402 [00:00<?, ?it/s]"
      ]
     },
     "metadata": {},
     "output_type": "display_data"
    },
    {
     "name": "stdout",
     "output_type": "stream",
     "text": [
      "https://www.bitstamp.net/api/v2/ohlc/ethusd/?&currency_pair=ethusd&step=180&limit=1000&start=1623711600\n",
      "https://www.bitstamp.net/api/v2/ohlc/ethusd/?&currency_pair=ethusd&step=180&limit=1000&start=1623891420\n",
      "https://www.bitstamp.net/api/v2/ohlc/ethusd/?&currency_pair=ethusd&step=180&limit=1000&start=1624071240\n",
      "https://www.bitstamp.net/api/v2/ohlc/ethusd/?&currency_pair=ethusd&step=180&limit=1000&start=1624251060\n",
      "https://www.bitstamp.net/api/v2/ohlc/ethusd/?&currency_pair=ethusd&step=180&limit=1000&start=1624430880\n",
      "https://www.bitstamp.net/api/v2/ohlc/ethusd/?&currency_pair=ethusd&step=180&limit=1000&start=1624610700\n",
      "https://www.bitstamp.net/api/v2/ohlc/ethusd/?&currency_pair=ethusd&step=180&limit=1000&start=1624790520\n",
      "https://www.bitstamp.net/api/v2/ohlc/ethusd/?&currency_pair=ethusd&step=180&limit=1000&start=1624970340\n",
      "https://www.bitstamp.net/api/v2/ohlc/ethusd/?&currency_pair=ethusd&step=180&limit=1000&start=1625150160\n",
      "https://www.bitstamp.net/api/v2/ohlc/ethusd/?&currency_pair=ethusd&step=180&limit=1000&start=1625329980\n",
      "https://www.bitstamp.net/api/v2/ohlc/ethusd/?&currency_pair=ethusd&step=180&limit=1000&start=1625509800\n",
      "https://www.bitstamp.net/api/v2/ohlc/ethusd/?&currency_pair=ethusd&step=180&limit=1000&start=1625689620\n",
      "https://www.bitstamp.net/api/v2/ohlc/ethusd/?&currency_pair=ethusd&step=180&limit=1000&start=1625869440\n",
      "https://www.bitstamp.net/api/v2/ohlc/ethusd/?&currency_pair=ethusd&step=180&limit=1000&start=1626049260\n",
      "https://www.bitstamp.net/api/v2/ohlc/ethusd/?&currency_pair=ethusd&step=180&limit=1000&start=1626229080\n"
     ]
    },
    {
     "data": {
      "application/vnd.jupyter.widget-view+json": {
       "model_id": "fda26c0f7cc74129917a1598683e469a",
       "version_major": 2,
       "version_minor": 0
      },
      "text/plain": [
       "  0%|          | 0/14402 [00:00<?, ?it/s]"
      ]
     },
     "metadata": {},
     "output_type": "display_data"
    },
    {
     "name": "stdout",
     "output_type": "stream",
     "text": [
      "https://www.bitstamp.net/api/v2/ohlc/ltcusd/?&currency_pair=ltcusd&step=180&limit=1000&start=1623711600\n",
      "https://www.bitstamp.net/api/v2/ohlc/ltcusd/?&currency_pair=ltcusd&step=180&limit=1000&start=1623891420\n",
      "https://www.bitstamp.net/api/v2/ohlc/ltcusd/?&currency_pair=ltcusd&step=180&limit=1000&start=1624071240\n",
      "https://www.bitstamp.net/api/v2/ohlc/ltcusd/?&currency_pair=ltcusd&step=180&limit=1000&start=1624251060\n",
      "https://www.bitstamp.net/api/v2/ohlc/ltcusd/?&currency_pair=ltcusd&step=180&limit=1000&start=1624430880\n",
      "https://www.bitstamp.net/api/v2/ohlc/ltcusd/?&currency_pair=ltcusd&step=180&limit=1000&start=1624610700\n",
      "https://www.bitstamp.net/api/v2/ohlc/ltcusd/?&currency_pair=ltcusd&step=180&limit=1000&start=1624790520\n",
      "https://www.bitstamp.net/api/v2/ohlc/ltcusd/?&currency_pair=ltcusd&step=180&limit=1000&start=1624970340\n",
      "https://www.bitstamp.net/api/v2/ohlc/ltcusd/?&currency_pair=ltcusd&step=180&limit=1000&start=1625150160\n",
      "https://www.bitstamp.net/api/v2/ohlc/ltcusd/?&currency_pair=ltcusd&step=180&limit=1000&start=1625329980\n",
      "https://www.bitstamp.net/api/v2/ohlc/ltcusd/?&currency_pair=ltcusd&step=180&limit=1000&start=1625509800\n",
      "https://www.bitstamp.net/api/v2/ohlc/ltcusd/?&currency_pair=ltcusd&step=180&limit=1000&start=1625689620\n",
      "https://www.bitstamp.net/api/v2/ohlc/ltcusd/?&currency_pair=ltcusd&step=180&limit=1000&start=1625869440\n",
      "https://www.bitstamp.net/api/v2/ohlc/ltcusd/?&currency_pair=ltcusd&step=180&limit=1000&start=1626049260\n",
      "https://www.bitstamp.net/api/v2/ohlc/ltcusd/?&currency_pair=ltcusd&step=180&limit=1000&start=1626229080\n"
     ]
    },
    {
     "data": {
      "application/vnd.jupyter.widget-view+json": {
       "model_id": "c1a3203fd1ae44fba09eb6b0dff411a2",
       "version_major": 2,
       "version_minor": 0
      },
      "text/plain": [
       "  0%|          | 0/14402 [00:00<?, ?it/s]"
      ]
     },
     "metadata": {},
     "output_type": "display_data"
    },
    {
     "name": "stdout",
     "output_type": "stream",
     "text": [
      "https://www.bitstamp.net/api/v2/ohlc/ltcbtc/?&currency_pair=ltcbtc&step=180&limit=1000&start=1623711600\n",
      "https://www.bitstamp.net/api/v2/ohlc/ltcbtc/?&currency_pair=ltcbtc&step=180&limit=1000&start=1623891420\n",
      "https://www.bitstamp.net/api/v2/ohlc/ltcbtc/?&currency_pair=ltcbtc&step=180&limit=1000&start=1624071240\n",
      "https://www.bitstamp.net/api/v2/ohlc/ltcbtc/?&currency_pair=ltcbtc&step=180&limit=1000&start=1624251060\n",
      "https://www.bitstamp.net/api/v2/ohlc/ltcbtc/?&currency_pair=ltcbtc&step=180&limit=1000&start=1624430880\n",
      "https://www.bitstamp.net/api/v2/ohlc/ltcbtc/?&currency_pair=ltcbtc&step=180&limit=1000&start=1624610700\n",
      "https://www.bitstamp.net/api/v2/ohlc/ltcbtc/?&currency_pair=ltcbtc&step=180&limit=1000&start=1624790520\n",
      "https://www.bitstamp.net/api/v2/ohlc/ltcbtc/?&currency_pair=ltcbtc&step=180&limit=1000&start=1624970340\n",
      "https://www.bitstamp.net/api/v2/ohlc/ltcbtc/?&currency_pair=ltcbtc&step=180&limit=1000&start=1625150160\n",
      "https://www.bitstamp.net/api/v2/ohlc/ltcbtc/?&currency_pair=ltcbtc&step=180&limit=1000&start=1625329980\n",
      "https://www.bitstamp.net/api/v2/ohlc/ltcbtc/?&currency_pair=ltcbtc&step=180&limit=1000&start=1625509800\n",
      "https://www.bitstamp.net/api/v2/ohlc/ltcbtc/?&currency_pair=ltcbtc&step=180&limit=1000&start=1625689620\n",
      "https://www.bitstamp.net/api/v2/ohlc/ltcbtc/?&currency_pair=ltcbtc&step=180&limit=1000&start=1625869440\n",
      "https://www.bitstamp.net/api/v2/ohlc/ltcbtc/?&currency_pair=ltcbtc&step=180&limit=1000&start=1626049260\n",
      "https://www.bitstamp.net/api/v2/ohlc/ltcbtc/?&currency_pair=ltcbtc&step=180&limit=1000&start=1626229080\n"
     ]
    },
    {
     "data": {
      "application/vnd.jupyter.widget-view+json": {
       "model_id": "e2c38f57d7ff4c54b54ede22c005073b",
       "version_major": 2,
       "version_minor": 0
      },
      "text/plain": [
       "  0%|          | 0/14402 [00:00<?, ?it/s]"
      ]
     },
     "metadata": {},
     "output_type": "display_data"
    },
    {
     "name": "stdout",
     "output_type": "stream",
     "text": [
      "https://www.bitstamp.net/api/v2/ohlc/btcusd/?&currency_pair=btcusd&step=180&limit=1000&start=1612137600\n"
     ]
    },
    {
     "data": {
      "application/vnd.jupyter.widget-view+json": {
       "model_id": "5d86586f7e4649c68922612317f0b3ba",
       "version_major": 2,
       "version_minor": 0
      },
      "text/plain": [
       "  0%|          | 0/1000 [00:00<?, ?it/s]"
      ]
     },
     "metadata": {},
     "output_type": "display_data"
    },
    {
     "name": "stdout",
     "output_type": "stream",
     "text": [
      "https://www.bitstamp.net/api/v2/ohlc/ethusd/?&currency_pair=ethusd&step=180&limit=1000&start=1612137600\n"
     ]
    },
    {
     "data": {
      "application/vnd.jupyter.widget-view+json": {
       "model_id": "0d241cda5b254aeeafb3f4eddcc334d1",
       "version_major": 2,
       "version_minor": 0
      },
      "text/plain": [
       "  0%|          | 0/1000 [00:00<?, ?it/s]"
      ]
     },
     "metadata": {},
     "output_type": "display_data"
    },
    {
     "name": "stdout",
     "output_type": "stream",
     "text": [
      "https://www.bitstamp.net/api/v2/ohlc/ltcusd/?&currency_pair=ltcusd&step=180&limit=1000&start=1612137600\n"
     ]
    },
    {
     "data": {
      "application/vnd.jupyter.widget-view+json": {
       "model_id": "1f8220ca68474067b27b4f59611f7790",
       "version_major": 2,
       "version_minor": 0
      },
      "text/plain": [
       "  0%|          | 0/1000 [00:00<?, ?it/s]"
      ]
     },
     "metadata": {},
     "output_type": "display_data"
    },
    {
     "name": "stdout",
     "output_type": "stream",
     "text": [
      "https://www.bitstamp.net/api/v2/ohlc/ltcbtc/?&currency_pair=ltcbtc&step=180&limit=1000&start=1612137600\n"
     ]
    },
    {
     "data": {
      "application/vnd.jupyter.widget-view+json": {
       "model_id": "ca2f2f8e70dc49b88752c51e512b916c",
       "version_major": 2,
       "version_minor": 0
      },
      "text/plain": [
       "  0%|          | 0/1000 [00:00<?, ?it/s]"
      ]
     },
     "metadata": {},
     "output_type": "display_data"
    },
    {
     "name": "stdout",
     "output_type": "stream",
     "text": [
      "https://www.bitstamp.net/api/v2/ohlc/btcusd/?&currency_pair=btcusd&step=180&limit=1000&start=1623711600\n",
      "https://www.bitstamp.net/api/v2/ohlc/btcusd/?&currency_pair=btcusd&step=180&limit=1000&start=1623891420\n",
      "https://www.bitstamp.net/api/v2/ohlc/btcusd/?&currency_pair=btcusd&step=180&limit=1000&start=1624071240\n",
      "https://www.bitstamp.net/api/v2/ohlc/btcusd/?&currency_pair=btcusd&step=180&limit=1000&start=1624251060\n",
      "https://www.bitstamp.net/api/v2/ohlc/btcusd/?&currency_pair=btcusd&step=180&limit=1000&start=1624430880\n",
      "https://www.bitstamp.net/api/v2/ohlc/btcusd/?&currency_pair=btcusd&step=180&limit=1000&start=1624610700\n",
      "https://www.bitstamp.net/api/v2/ohlc/btcusd/?&currency_pair=btcusd&step=180&limit=1000&start=1624790520\n",
      "https://www.bitstamp.net/api/v2/ohlc/btcusd/?&currency_pair=btcusd&step=180&limit=1000&start=1624970340\n",
      "https://www.bitstamp.net/api/v2/ohlc/btcusd/?&currency_pair=btcusd&step=180&limit=1000&start=1625150160\n",
      "https://www.bitstamp.net/api/v2/ohlc/btcusd/?&currency_pair=btcusd&step=180&limit=1000&start=1625329980\n",
      "https://www.bitstamp.net/api/v2/ohlc/btcusd/?&currency_pair=btcusd&step=180&limit=1000&start=1625509800\n",
      "https://www.bitstamp.net/api/v2/ohlc/btcusd/?&currency_pair=btcusd&step=180&limit=1000&start=1625689620\n",
      "https://www.bitstamp.net/api/v2/ohlc/btcusd/?&currency_pair=btcusd&step=180&limit=1000&start=1625869440\n",
      "https://www.bitstamp.net/api/v2/ohlc/btcusd/?&currency_pair=btcusd&step=180&limit=1000&start=1626049260\n",
      "https://www.bitstamp.net/api/v2/ohlc/btcusd/?&currency_pair=btcusd&step=180&limit=1000&start=1626229080\n"
     ]
    },
    {
     "data": {
      "application/vnd.jupyter.widget-view+json": {
       "model_id": "4e9c0e55930140949b2c9d01df5a31c0",
       "version_major": 2,
       "version_minor": 0
      },
      "text/plain": [
       "  0%|          | 0/14402 [00:00<?, ?it/s]"
      ]
     },
     "metadata": {},
     "output_type": "display_data"
    },
    {
     "name": "stdout",
     "output_type": "stream",
     "text": [
      "https://www.bitstamp.net/api/v2/ohlc/ethusd/?&currency_pair=ethusd&step=180&limit=1000&start=1623711600\n",
      "https://www.bitstamp.net/api/v2/ohlc/ethusd/?&currency_pair=ethusd&step=180&limit=1000&start=1623891420\n",
      "https://www.bitstamp.net/api/v2/ohlc/ethusd/?&currency_pair=ethusd&step=180&limit=1000&start=1624071240\n",
      "https://www.bitstamp.net/api/v2/ohlc/ethusd/?&currency_pair=ethusd&step=180&limit=1000&start=1624251060\n",
      "https://www.bitstamp.net/api/v2/ohlc/ethusd/?&currency_pair=ethusd&step=180&limit=1000&start=1624430880\n",
      "https://www.bitstamp.net/api/v2/ohlc/ethusd/?&currency_pair=ethusd&step=180&limit=1000&start=1624610700\n",
      "https://www.bitstamp.net/api/v2/ohlc/ethusd/?&currency_pair=ethusd&step=180&limit=1000&start=1624790520\n",
      "https://www.bitstamp.net/api/v2/ohlc/ethusd/?&currency_pair=ethusd&step=180&limit=1000&start=1624970340\n",
      "https://www.bitstamp.net/api/v2/ohlc/ethusd/?&currency_pair=ethusd&step=180&limit=1000&start=1625150160\n",
      "https://www.bitstamp.net/api/v2/ohlc/ethusd/?&currency_pair=ethusd&step=180&limit=1000&start=1625329980\n",
      "https://www.bitstamp.net/api/v2/ohlc/ethusd/?&currency_pair=ethusd&step=180&limit=1000&start=1625509800\n",
      "https://www.bitstamp.net/api/v2/ohlc/ethusd/?&currency_pair=ethusd&step=180&limit=1000&start=1625689620\n",
      "https://www.bitstamp.net/api/v2/ohlc/ethusd/?&currency_pair=ethusd&step=180&limit=1000&start=1625869440\n",
      "https://www.bitstamp.net/api/v2/ohlc/ethusd/?&currency_pair=ethusd&step=180&limit=1000&start=1626049260\n",
      "https://www.bitstamp.net/api/v2/ohlc/ethusd/?&currency_pair=ethusd&step=180&limit=1000&start=1626229080\n"
     ]
    },
    {
     "data": {
      "application/vnd.jupyter.widget-view+json": {
       "model_id": "1cb38031a11b4f0b99bdffcf3f55580a",
       "version_major": 2,
       "version_minor": 0
      },
      "text/plain": [
       "  0%|          | 0/14402 [00:00<?, ?it/s]"
      ]
     },
     "metadata": {},
     "output_type": "display_data"
    },
    {
     "name": "stdout",
     "output_type": "stream",
     "text": [
      "https://www.bitstamp.net/api/v2/ohlc/ltcusd/?&currency_pair=ltcusd&step=180&limit=1000&start=1623711600\n",
      "https://www.bitstamp.net/api/v2/ohlc/ltcusd/?&currency_pair=ltcusd&step=180&limit=1000&start=1623891420\n",
      "https://www.bitstamp.net/api/v2/ohlc/ltcusd/?&currency_pair=ltcusd&step=180&limit=1000&start=1624071240\n",
      "https://www.bitstamp.net/api/v2/ohlc/ltcusd/?&currency_pair=ltcusd&step=180&limit=1000&start=1624251060\n",
      "https://www.bitstamp.net/api/v2/ohlc/ltcusd/?&currency_pair=ltcusd&step=180&limit=1000&start=1624430880\n",
      "https://www.bitstamp.net/api/v2/ohlc/ltcusd/?&currency_pair=ltcusd&step=180&limit=1000&start=1624610700\n",
      "https://www.bitstamp.net/api/v2/ohlc/ltcusd/?&currency_pair=ltcusd&step=180&limit=1000&start=1624790520\n",
      "https://www.bitstamp.net/api/v2/ohlc/ltcusd/?&currency_pair=ltcusd&step=180&limit=1000&start=1624970340\n",
      "https://www.bitstamp.net/api/v2/ohlc/ltcusd/?&currency_pair=ltcusd&step=180&limit=1000&start=1625150160\n",
      "https://www.bitstamp.net/api/v2/ohlc/ltcusd/?&currency_pair=ltcusd&step=180&limit=1000&start=1625329980\n",
      "https://www.bitstamp.net/api/v2/ohlc/ltcusd/?&currency_pair=ltcusd&step=180&limit=1000&start=1625509800\n",
      "https://www.bitstamp.net/api/v2/ohlc/ltcusd/?&currency_pair=ltcusd&step=180&limit=1000&start=1625689620\n",
      "https://www.bitstamp.net/api/v2/ohlc/ltcusd/?&currency_pair=ltcusd&step=180&limit=1000&start=1625869440\n",
      "https://www.bitstamp.net/api/v2/ohlc/ltcusd/?&currency_pair=ltcusd&step=180&limit=1000&start=1626049260\n",
      "https://www.bitstamp.net/api/v2/ohlc/ltcusd/?&currency_pair=ltcusd&step=180&limit=1000&start=1626229080\n"
     ]
    },
    {
     "data": {
      "application/vnd.jupyter.widget-view+json": {
       "model_id": "0655d01e25ca4744923b7547f71970a5",
       "version_major": 2,
       "version_minor": 0
      },
      "text/plain": [
       "  0%|          | 0/14402 [00:00<?, ?it/s]"
      ]
     },
     "metadata": {},
     "output_type": "display_data"
    },
    {
     "name": "stdout",
     "output_type": "stream",
     "text": [
      "https://www.bitstamp.net/api/v2/ohlc/ltcbtc/?&currency_pair=ltcbtc&step=180&limit=1000&start=1623711600\n",
      "https://www.bitstamp.net/api/v2/ohlc/ltcbtc/?&currency_pair=ltcbtc&step=180&limit=1000&start=1623891420\n",
      "https://www.bitstamp.net/api/v2/ohlc/ltcbtc/?&currency_pair=ltcbtc&step=180&limit=1000&start=1624071240\n",
      "https://www.bitstamp.net/api/v2/ohlc/ltcbtc/?&currency_pair=ltcbtc&step=180&limit=1000&start=1624251060\n",
      "https://www.bitstamp.net/api/v2/ohlc/ltcbtc/?&currency_pair=ltcbtc&step=180&limit=1000&start=1624430880\n",
      "https://www.bitstamp.net/api/v2/ohlc/ltcbtc/?&currency_pair=ltcbtc&step=180&limit=1000&start=1624610700\n",
      "https://www.bitstamp.net/api/v2/ohlc/ltcbtc/?&currency_pair=ltcbtc&step=180&limit=1000&start=1624790520\n",
      "https://www.bitstamp.net/api/v2/ohlc/ltcbtc/?&currency_pair=ltcbtc&step=180&limit=1000&start=1624970340\n",
      "https://www.bitstamp.net/api/v2/ohlc/ltcbtc/?&currency_pair=ltcbtc&step=180&limit=1000&start=1625150160\n",
      "https://www.bitstamp.net/api/v2/ohlc/ltcbtc/?&currency_pair=ltcbtc&step=180&limit=1000&start=1625329980\n",
      "https://www.bitstamp.net/api/v2/ohlc/ltcbtc/?&currency_pair=ltcbtc&step=180&limit=1000&start=1625509800\n",
      "https://www.bitstamp.net/api/v2/ohlc/ltcbtc/?&currency_pair=ltcbtc&step=180&limit=1000&start=1625689620\n",
      "https://www.bitstamp.net/api/v2/ohlc/ltcbtc/?&currency_pair=ltcbtc&step=180&limit=1000&start=1625869440\n",
      "https://www.bitstamp.net/api/v2/ohlc/ltcbtc/?&currency_pair=ltcbtc&step=180&limit=1000&start=1626049260\n",
      "https://www.bitstamp.net/api/v2/ohlc/ltcbtc/?&currency_pair=ltcbtc&step=180&limit=1000&start=1626229080\n"
     ]
    },
    {
     "data": {
      "application/vnd.jupyter.widget-view+json": {
       "model_id": "a8ce551c056641a38e28a5ef7bff884b",
       "version_major": 2,
       "version_minor": 0
      },
      "text/plain": [
       "  0%|          | 0/14402 [00:00<?, ?it/s]"
      ]
     },
     "metadata": {},
     "output_type": "display_data"
    },
    {
     "name": "stdout",
     "output_type": "stream",
     "text": [
      "CPU times: user 1h 53min 28s, sys: 6min 16s, total: 1h 59min 45s\n",
      "Wall time: 1h 59min\n"
     ]
    }
   ],
   "source": [
    "%%time\n",
    "\n",
    "params = []\n",
    "\n",
    "for minute in minutes:\n",
    "    for win in windows:\n",
    "        param = {}\n",
    "        param['minute'] = minute\n",
    "        param['win'] = win\n",
    "        params.append(param)\n",
    "\n",
    "for param in tqdm(params):\n",
    "    load(param['minute'], param['win'])"
   ]
  },
  {
   "cell_type": "code",
   "execution_count": null,
   "metadata": {},
   "outputs": [],
   "source": []
  },
  {
   "cell_type": "code",
   "execution_count": null,
   "metadata": {},
   "outputs": [],
   "source": []
  },
  {
   "cell_type": "code",
   "execution_count": null,
   "metadata": {},
   "outputs": [],
   "source": []
  }
 ],
 "metadata": {
  "accelerator": "GPU",
  "colab": {
   "collapsed_sections": [],
   "name": "enviroment",
   "provenance": [],
   "version": "0.3.2"
  },
  "kernelspec": {
   "display_name": "Python 3",
   "language": "python",
   "name": "python3"
  },
  "language_info": {
   "codemirror_mode": {
    "name": "ipython",
    "version": 3
   },
   "file_extension": ".py",
   "mimetype": "text/x-python",
   "name": "python",
   "nbconvert_exporter": "python",
   "pygments_lexer": "ipython3",
   "version": "3.9.5"
  }
 },
 "nbformat": 4,
 "nbformat_minor": 4
}
