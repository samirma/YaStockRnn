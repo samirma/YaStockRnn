{
 "cells": [
  {
   "cell_type": "code",
   "execution_count": 1,
   "metadata": {
    "colab": {
     "base_uri": "https://localhost:8080/",
     "height": 170
    },
    "colab_type": "code",
    "executionInfo": {
     "elapsed": 503083,
     "status": "ok",
     "timestamp": 1568068274112,
     "user": {
      "displayName": "Samir Moreira Antônio",
      "photoUrl": "https://lh3.googleusercontent.com/a-/AAuE7mCsh3ldsSLN0VnFRYp341EzO_UyuRNKmLncUbMA3Q=s64",
      "userId": "14581632111443153742"
     },
     "user_tz": -60
    },
    "id": "fGVQczSlF-9o",
    "outputId": "e3a06798-f737-48d9-ec6e-d3784cec3115"
   },
   "outputs": [],
   "source": [
    "import pandas as pd\n",
    "import data_util\n",
    "from tqdm.notebook import tqdm\n",
    "from data_generator import DataGenerator\n",
    "from tec_an import TecAn\n",
    "import numpy as np\n",
    "from data_util import *\n",
    "from backtest import *\n",
    "import threading\n",
    "import multiprocessing\n",
    "from data_agent import DataAgent, TacProcess\n",
    "from joblib import dump, load"
   ]
  },
  {
   "cell_type": "code",
   "execution_count": 2,
   "metadata": {},
   "outputs": [],
   "source": [
    "#train_start_list = [1622502000, 1590966000, 1559343600, 1580515200, 1612137600]\n",
    "train_start_list = [1622502000, 1590966000, 1559343600, 1527807600, 1517443200, 1548979200, 1580515200, 1612137600]\n",
    "#train_start_list = [1612137600]\n",
    "train_keys = [\"btcusd\", \"ethusd\", \"bchbtc\"]\n",
    "train_keys = [\"btcusd\"]\n",
    "val_start = 1626340500\n",
    "val_end = 1626369600"
   ]
  },
  {
   "cell_type": "code",
   "execution_count": 3,
   "metadata": {},
   "outputs": [],
   "source": [
    "\n",
    "steps = 1\n",
    "\n",
    "windows = [5, 10, 20, 30, 40]\n",
    "\n",
    "minutes = [15, 5, 3, 1]\n",
    "\n",
    "load_from_disk =  False\n"
   ]
  },
  {
   "cell_type": "code",
   "execution_count": 4,
   "metadata": {},
   "outputs": [],
   "source": [
    "def get_online_data(minutes, source_data_generator, load_from_disk, file_prefix = \"\"):\n",
    "    \n",
    "    online = OnLineDataProvider(\n",
    "                 source_data_generator = source_data_generator,\n",
    "                 minutes = minutes,\n",
    "                 train_keys = train_keys,\n",
    "                 train_limit = 1000,\n",
    "                 val_limit = 1000,\n",
    "                 val_keys = [\"btcusd\"],\n",
    "                 val_start = val_start,\n",
    "                 val_end = val_end,\n",
    "                 train_start_list = train_start_list\n",
    "    )\n",
    "\n",
    "    online_path = f'data/online{file_prefix}_{minutes}'\n",
    "    \n",
    "    online.load_cache()\n",
    "    online.source_data_generator = None\n",
    "    dump(online, online_path)\n",
    "    \n",
    "    return online"
   ]
  },
  {
   "cell_type": "code",
   "execution_count": 5,
   "metadata": {},
   "outputs": [],
   "source": [
    "data = []\n",
    "\n",
    "def load(minute, win):\n",
    "    tec = TecAn(windows = win, windows_limit = 100)\n",
    "    source_data_generator = SourceDataGenerator(tec = tec)\n",
    "    online = get_online_data(minutes = minute, \n",
    "                     source_data_generator = source_data_generator, \n",
    "                     load_from_disk = load_from_disk, \n",
    "                     file_prefix = win)\n",
    "    data.append(online)\n",
    "    \n"
   ]
  },
  {
   "cell_type": "code",
   "execution_count": 6,
   "metadata": {},
   "outputs": [],
   "source": [
    "#load(15, 20)"
   ]
  },
  {
   "cell_type": "code",
   "execution_count": 10,
   "metadata": {},
   "outputs": [
    {
     "data": {
      "application/vnd.jupyter.widget-view+json": {
       "model_id": "9909098a1c6648a19ea0268c4aaca950",
       "version_major": 2,
       "version_minor": 0
      },
      "text/plain": [
       "  0%|          | 0/4 [00:00<?, ?it/s]"
      ]
     },
     "metadata": {},
     "output_type": "display_data"
    },
    {
     "name": "stdout",
     "output_type": "stream",
     "text": [
      "https://www.bitstamp.net/api/v2/ohlc/btcusd/ -> {'currency_pair': 'btcusd', 'step': 900, 'limit': 1000, 'start': 1622502000}\n",
      "Downloaded from 2021-06-01 00:00:00 to 2021-06-11 09:45:00 37001.01\n",
      "Resample 15Min - TecAn ( windows 5, windows_limit 100 )\n",
      "Processing 999 of btcusd\n"
     ]
    },
    {
     "data": {
      "application/vnd.jupyter.widget-view+json": {
       "model_id": "4d3064560c9f4ef7ba2f151a036d09c9",
       "version_major": 2,
       "version_minor": 0
      },
      "text/plain": [
       "  0%|          | 0/999 [00:00<?, ?it/s]"
      ]
     },
     "metadata": {},
     "output_type": "display_data"
    },
    {
     "name": "stdout",
     "output_type": "stream",
     "text": [
      "https://www.bitstamp.net/api/v2/ohlc/btcusd/ -> {'currency_pair': 'btcusd', 'step': 900, 'limit': 1000, 'start': 1590966000}\n",
      "Downloaded from 2020-06-01 00:00:00 to 2020-06-11 09:45:00 9820.86\n",
      "Resample 15Min - TecAn ( windows 5, windows_limit 100 )\n",
      "Processing 999 of btcusd\n"
     ]
    },
    {
     "data": {
      "application/vnd.jupyter.widget-view+json": {
       "model_id": "dd50198ef9d8495497669cb96cd7d148",
       "version_major": 2,
       "version_minor": 0
      },
      "text/plain": [
       "  0%|          | 0/999 [00:00<?, ?it/s]"
      ]
     },
     "metadata": {},
     "output_type": "display_data"
    },
    {
     "name": "stdout",
     "output_type": "stream",
     "text": [
      "https://www.bitstamp.net/api/v2/ohlc/btcusd/ -> {'currency_pair': 'btcusd', 'step': 900, 'limit': 1000, 'start': 1559343600}\n",
      "Downloaded from 2019-06-01 00:00:00 to 2019-06-11 09:45:00 7961.80\n",
      "Resample 15Min - TecAn ( windows 5, windows_limit 100 )\n",
      "Processing 999 of btcusd\n"
     ]
    },
    {
     "data": {
      "application/vnd.jupyter.widget-view+json": {
       "model_id": "a125b53bf11c4534bd04d2d9d63e5b77",
       "version_major": 2,
       "version_minor": 0
      },
      "text/plain": [
       "  0%|          | 0/999 [00:00<?, ?it/s]"
      ]
     },
     "metadata": {},
     "output_type": "display_data"
    },
    {
     "name": "stdout",
     "output_type": "stream",
     "text": [
      "https://www.bitstamp.net/api/v2/ohlc/btcusd/ -> {'currency_pair': 'btcusd', 'step': 900, 'limit': 1000, 'start': 1527807600}\n",
      "Downloaded from 2018-06-01 00:00:00 to 2018-06-11 09:45:00 6795.82\n",
      "Resample 15Min - TecAn ( windows 5, windows_limit 100 )\n",
      "Processing 999 of btcusd\n"
     ]
    },
    {
     "data": {
      "application/vnd.jupyter.widget-view+json": {
       "model_id": "d2b32dcd2afb45ad88f13884d24de2fb",
       "version_major": 2,
       "version_minor": 0
      },
      "text/plain": [
       "  0%|          | 0/999 [00:00<?, ?it/s]"
      ]
     },
     "metadata": {},
     "output_type": "display_data"
    },
    {
     "name": "stdout",
     "output_type": "stream",
     "text": [
      "https://www.bitstamp.net/api/v2/ohlc/btcusd/ -> {'currency_pair': 'btcusd', 'step': 900, 'limit': 1000, 'start': 1517443200}\n",
      "Downloaded from 2018-02-01 00:00:00 to 2018-02-11 09:45:00 8012.89\n",
      "Resample 15Min - TecAn ( windows 5, windows_limit 100 )\n",
      "Processing 999 of btcusd\n"
     ]
    },
    {
     "data": {
      "application/vnd.jupyter.widget-view+json": {
       "model_id": "ba3dc9ed2c5b413aba3077da77525965",
       "version_major": 2,
       "version_minor": 0
      },
      "text/plain": [
       "  0%|          | 0/999 [00:00<?, ?it/s]"
      ]
     },
     "metadata": {},
     "output_type": "display_data"
    },
    {
     "name": "stdout",
     "output_type": "stream",
     "text": [
      "https://www.bitstamp.net/api/v2/ohlc/btcusd/ -> {'currency_pair': 'btcusd', 'step': 900, 'limit': 1000, 'start': 1548979200}\n",
      "Downloaded from 2019-02-01 00:00:00 to 2019-02-11 09:45:00 3594.91\n",
      "Resample 15Min - TecAn ( windows 5, windows_limit 100 )\n",
      "Processing 999 of btcusd\n"
     ]
    },
    {
     "data": {
      "application/vnd.jupyter.widget-view+json": {
       "model_id": "ebb1d9b560f04952b82e26f935b164ca",
       "version_major": 2,
       "version_minor": 0
      },
      "text/plain": [
       "  0%|          | 0/999 [00:00<?, ?it/s]"
      ]
     },
     "metadata": {},
     "output_type": "display_data"
    },
    {
     "name": "stdout",
     "output_type": "stream",
     "text": [
      "https://www.bitstamp.net/api/v2/ohlc/btcusd/ -> {'currency_pair': 'btcusd', 'step': 900, 'limit': 1000, 'start': 1580515200}\n",
      "Downloaded from 2020-02-01 00:00:00 to 2020-02-11 09:45:00 9783.54\n",
      "Resample 15Min - TecAn ( windows 5, windows_limit 100 )\n",
      "Processing 999 of btcusd\n"
     ]
    },
    {
     "data": {
      "application/vnd.jupyter.widget-view+json": {
       "model_id": "19b50268fc334a93829dca57c47cc949",
       "version_major": 2,
       "version_minor": 0
      },
      "text/plain": [
       "  0%|          | 0/999 [00:00<?, ?it/s]"
      ]
     },
     "metadata": {},
     "output_type": "display_data"
    },
    {
     "name": "stdout",
     "output_type": "stream",
     "text": [
      "https://www.bitstamp.net/api/v2/ohlc/btcusd/ -> {'currency_pair': 'btcusd', 'step': 900, 'limit': 1000, 'start': 1612137600}\n",
      "Downloaded from 2021-02-01 00:00:00 to 2021-02-11 09:45:00 45154.95\n",
      "Resample 15Min - TecAn ( windows 5, windows_limit 100 )\n",
      "Processing 999 of btcusd\n"
     ]
    },
    {
     "data": {
      "application/vnd.jupyter.widget-view+json": {
       "model_id": "38f5d1b8572847b692f6a5372c8eefce",
       "version_major": 2,
       "version_minor": 0
      },
      "text/plain": [
       "  0%|          | 0/999 [00:00<?, ?it/s]"
      ]
     },
     "metadata": {},
     "output_type": "display_data"
    },
    {
     "name": "stdout",
     "output_type": "stream",
     "text": [
      "https://www.bitstamp.net/api/v2/ohlc/btcusd/ -> {'currency_pair': 'btcusd', 'step': 900, 'limit': 1000, 'start': 1626340500, 'end': 1626369600}\n",
      "Downloaded from 2021-07-05 08:30:00 to 2021-07-15 18:15:00 31321.95\n",
      "Resample 15Min - TecAn ( windows 5, windows_limit 100 )\n",
      "Processing 999 of btcusd\n"
     ]
    },
    {
     "data": {
      "application/vnd.jupyter.widget-view+json": {
       "model_id": "d8547f4541df4ebbacd266b7b9cb7fc8",
       "version_major": 2,
       "version_minor": 0
      },
      "text/plain": [
       "  0%|          | 0/999 [00:00<?, ?it/s]"
      ]
     },
     "metadata": {},
     "output_type": "display_data"
    },
    {
     "name": "stdout",
     "output_type": "stream",
     "text": [
      "https://www.bitstamp.net/api/v2/ohlc/btcusd/ -> {'currency_pair': 'btcusd', 'step': 900, 'limit': 1000, 'start': 1622502000}\n",
      "Downloaded from 2021-06-01 00:00:00 to 2021-06-11 09:45:00 37001.01\n",
      "Resample 15Min - TecAn ( windows 10, windows_limit 100 )\n",
      "Processing 999 of btcusd\n"
     ]
    },
    {
     "data": {
      "application/vnd.jupyter.widget-view+json": {
       "model_id": "84fbdb14ef9b4653b5d4a008d3a305af",
       "version_major": 2,
       "version_minor": 0
      },
      "text/plain": [
       "  0%|          | 0/999 [00:00<?, ?it/s]"
      ]
     },
     "metadata": {},
     "output_type": "display_data"
    },
    {
     "name": "stdout",
     "output_type": "stream",
     "text": [
      "https://www.bitstamp.net/api/v2/ohlc/btcusd/ -> {'currency_pair': 'btcusd', 'step': 900, 'limit': 1000, 'start': 1590966000}\n",
      "Downloaded from 2020-06-01 00:00:00 to 2020-06-11 09:45:00 9820.86\n",
      "Resample 15Min - TecAn ( windows 10, windows_limit 100 )\n",
      "Processing 999 of btcusd\n"
     ]
    },
    {
     "data": {
      "application/vnd.jupyter.widget-view+json": {
       "model_id": "3b5548b3ff5a4c258fa0568dd399fe6d",
       "version_major": 2,
       "version_minor": 0
      },
      "text/plain": [
       "  0%|          | 0/999 [00:00<?, ?it/s]"
      ]
     },
     "metadata": {},
     "output_type": "display_data"
    },
    {
     "name": "stdout",
     "output_type": "stream",
     "text": [
      "https://www.bitstamp.net/api/v2/ohlc/btcusd/ -> {'currency_pair': 'btcusd', 'step': 900, 'limit': 1000, 'start': 1559343600}\n",
      "Downloaded from 2019-06-01 00:00:00 to 2019-06-11 09:45:00 7961.80\n",
      "Resample 15Min - TecAn ( windows 10, windows_limit 100 )\n",
      "Processing 999 of btcusd\n"
     ]
    },
    {
     "data": {
      "application/vnd.jupyter.widget-view+json": {
       "model_id": "1f0d84dd1efe4d06a66291a50911e67d",
       "version_major": 2,
       "version_minor": 0
      },
      "text/plain": [
       "  0%|          | 0/999 [00:00<?, ?it/s]"
      ]
     },
     "metadata": {},
     "output_type": "display_data"
    },
    {
     "name": "stdout",
     "output_type": "stream",
     "text": [
      "https://www.bitstamp.net/api/v2/ohlc/btcusd/ -> {'currency_pair': 'btcusd', 'step': 900, 'limit': 1000, 'start': 1527807600}\n",
      "Downloaded from 2018-06-01 00:00:00 to 2018-06-11 09:45:00 6795.82\n",
      "Resample 15Min - TecAn ( windows 10, windows_limit 100 )\n",
      "Processing 999 of btcusd\n"
     ]
    },
    {
     "data": {
      "application/vnd.jupyter.widget-view+json": {
       "model_id": "1f57da172b3e4da8a8daa621c25e6c08",
       "version_major": 2,
       "version_minor": 0
      },
      "text/plain": [
       "  0%|          | 0/999 [00:00<?, ?it/s]"
      ]
     },
     "metadata": {},
     "output_type": "display_data"
    },
    {
     "name": "stdout",
     "output_type": "stream",
     "text": [
      "https://www.bitstamp.net/api/v2/ohlc/btcusd/ -> {'currency_pair': 'btcusd', 'step': 900, 'limit': 1000, 'start': 1517443200}\n",
      "Downloaded from 2018-02-01 00:00:00 to 2018-02-11 09:45:00 8012.89\n",
      "Resample 15Min - TecAn ( windows 10, windows_limit 100 )\n",
      "Processing 999 of btcusd\n"
     ]
    },
    {
     "data": {
      "application/vnd.jupyter.widget-view+json": {
       "model_id": "606b1e4dfd644fba800b50a2333c72e0",
       "version_major": 2,
       "version_minor": 0
      },
      "text/plain": [
       "  0%|          | 0/999 [00:00<?, ?it/s]"
      ]
     },
     "metadata": {},
     "output_type": "display_data"
    },
    {
     "name": "stdout",
     "output_type": "stream",
     "text": [
      "https://www.bitstamp.net/api/v2/ohlc/btcusd/ -> {'currency_pair': 'btcusd', 'step': 900, 'limit': 1000, 'start': 1548979200}\n",
      "Downloaded from 2019-02-01 00:00:00 to 2019-02-11 09:45:00 3594.91\n",
      "Resample 15Min - TecAn ( windows 10, windows_limit 100 )\n",
      "Processing 999 of btcusd\n"
     ]
    },
    {
     "data": {
      "application/vnd.jupyter.widget-view+json": {
       "model_id": "874a0345c08b48b7be45c8198e89039a",
       "version_major": 2,
       "version_minor": 0
      },
      "text/plain": [
       "  0%|          | 0/999 [00:00<?, ?it/s]"
      ]
     },
     "metadata": {},
     "output_type": "display_data"
    },
    {
     "name": "stdout",
     "output_type": "stream",
     "text": [
      "https://www.bitstamp.net/api/v2/ohlc/btcusd/ -> {'currency_pair': 'btcusd', 'step': 900, 'limit': 1000, 'start': 1580515200}\n",
      "Downloaded from 2020-02-01 00:00:00 to 2020-02-11 09:45:00 9783.54\n",
      "Resample 15Min - TecAn ( windows 10, windows_limit 100 )\n",
      "Processing 999 of btcusd\n"
     ]
    },
    {
     "data": {
      "application/vnd.jupyter.widget-view+json": {
       "model_id": "3a90396313dc443d8b3ece3692e2bfe9",
       "version_major": 2,
       "version_minor": 0
      },
      "text/plain": [
       "  0%|          | 0/999 [00:00<?, ?it/s]"
      ]
     },
     "metadata": {},
     "output_type": "display_data"
    },
    {
     "name": "stdout",
     "output_type": "stream",
     "text": [
      "https://www.bitstamp.net/api/v2/ohlc/btcusd/ -> {'currency_pair': 'btcusd', 'step': 900, 'limit': 1000, 'start': 1612137600}\n",
      "Downloaded from 2021-02-01 00:00:00 to 2021-02-11 09:45:00 45154.95\n",
      "Resample 15Min - TecAn ( windows 10, windows_limit 100 )\n",
      "Processing 999 of btcusd\n"
     ]
    },
    {
     "data": {
      "application/vnd.jupyter.widget-view+json": {
       "model_id": "c45ab42cc781480d9bd94483189254a1",
       "version_major": 2,
       "version_minor": 0
      },
      "text/plain": [
       "  0%|          | 0/999 [00:00<?, ?it/s]"
      ]
     },
     "metadata": {},
     "output_type": "display_data"
    },
    {
     "name": "stdout",
     "output_type": "stream",
     "text": [
      "https://www.bitstamp.net/api/v2/ohlc/btcusd/ -> {'currency_pair': 'btcusd', 'step': 900, 'limit': 1000, 'start': 1626340500, 'end': 1626369600}\n",
      "Downloaded from 2021-07-05 08:30:00 to 2021-07-15 18:15:00 31321.95\n",
      "Resample 15Min - TecAn ( windows 10, windows_limit 100 )\n",
      "Processing 999 of btcusd\n"
     ]
    },
    {
     "data": {
      "application/vnd.jupyter.widget-view+json": {
       "model_id": "f65da875c5154b9a84c979ba5b1e64d5",
       "version_major": 2,
       "version_minor": 0
      },
      "text/plain": [
       "  0%|          | 0/999 [00:00<?, ?it/s]"
      ]
     },
     "metadata": {},
     "output_type": "display_data"
    },
    {
     "name": "stdout",
     "output_type": "stream",
     "text": [
      "https://www.bitstamp.net/api/v2/ohlc/btcusd/ -> {'currency_pair': 'btcusd', 'step': 900, 'limit': 1000, 'start': 1622502000}\n",
      "Downloaded from 2021-06-01 00:00:00 to 2021-06-11 09:45:00 37001.01\n",
      "Resample 15Min - TecAn ( windows 20, windows_limit 100 )\n",
      "Processing 999 of btcusd\n"
     ]
    },
    {
     "data": {
      "application/vnd.jupyter.widget-view+json": {
       "model_id": "09cb45e03a8845b3bb3e885107fd9840",
       "version_major": 2,
       "version_minor": 0
      },
      "text/plain": [
       "  0%|          | 0/999 [00:00<?, ?it/s]"
      ]
     },
     "metadata": {},
     "output_type": "display_data"
    },
    {
     "name": "stdout",
     "output_type": "stream",
     "text": [
      "https://www.bitstamp.net/api/v2/ohlc/btcusd/ -> {'currency_pair': 'btcusd', 'step': 900, 'limit': 1000, 'start': 1590966000}\n",
      "Downloaded from 2020-06-01 00:00:00 to 2020-06-11 09:45:00 9820.86\n",
      "Resample 15Min - TecAn ( windows 20, windows_limit 100 )\n",
      "Processing 999 of btcusd\n"
     ]
    },
    {
     "data": {
      "application/vnd.jupyter.widget-view+json": {
       "model_id": "4d252bb00cc44cc3b65a0174691483de",
       "version_major": 2,
       "version_minor": 0
      },
      "text/plain": [
       "  0%|          | 0/999 [00:00<?, ?it/s]"
      ]
     },
     "metadata": {},
     "output_type": "display_data"
    },
    {
     "name": "stdout",
     "output_type": "stream",
     "text": [
      "https://www.bitstamp.net/api/v2/ohlc/btcusd/ -> {'currency_pair': 'btcusd', 'step': 900, 'limit': 1000, 'start': 1559343600}\n",
      "Downloaded from 2019-06-01 00:00:00 to 2019-06-11 09:45:00 7961.80\n",
      "Resample 15Min - TecAn ( windows 20, windows_limit 100 )\n",
      "Processing 999 of btcusd\n"
     ]
    },
    {
     "data": {
      "application/vnd.jupyter.widget-view+json": {
       "model_id": "eadcfe656f6f45a79a0cbd9c1a6663eb",
       "version_major": 2,
       "version_minor": 0
      },
      "text/plain": [
       "  0%|          | 0/999 [00:00<?, ?it/s]"
      ]
     },
     "metadata": {},
     "output_type": "display_data"
    },
    {
     "name": "stdout",
     "output_type": "stream",
     "text": [
      "https://www.bitstamp.net/api/v2/ohlc/btcusd/ -> {'currency_pair': 'btcusd', 'step': 900, 'limit': 1000, 'start': 1527807600}\n",
      "Downloaded from 2018-06-01 00:00:00 to 2018-06-11 09:45:00 6795.82\n",
      "Resample 15Min - TecAn ( windows 20, windows_limit 100 )\n",
      "Processing 999 of btcusd\n"
     ]
    },
    {
     "data": {
      "application/vnd.jupyter.widget-view+json": {
       "model_id": "b939bb4d50f14189af87d52695b2d124",
       "version_major": 2,
       "version_minor": 0
      },
      "text/plain": [
       "  0%|          | 0/999 [00:00<?, ?it/s]"
      ]
     },
     "metadata": {},
     "output_type": "display_data"
    },
    {
     "name": "stdout",
     "output_type": "stream",
     "text": [
      "https://www.bitstamp.net/api/v2/ohlc/btcusd/ -> {'currency_pair': 'btcusd', 'step': 900, 'limit': 1000, 'start': 1517443200}\n",
      "Downloaded from 2018-02-01 00:00:00 to 2018-02-11 09:45:00 8012.89\n",
      "Resample 15Min - TecAn ( windows 20, windows_limit 100 )\n",
      "Processing 999 of btcusd\n"
     ]
    },
    {
     "data": {
      "application/vnd.jupyter.widget-view+json": {
       "model_id": "96036d6df759481faa60cf4b8b9f6892",
       "version_major": 2,
       "version_minor": 0
      },
      "text/plain": [
       "  0%|          | 0/999 [00:00<?, ?it/s]"
      ]
     },
     "metadata": {},
     "output_type": "display_data"
    },
    {
     "name": "stdout",
     "output_type": "stream",
     "text": [
      "https://www.bitstamp.net/api/v2/ohlc/btcusd/ -> {'currency_pair': 'btcusd', 'step': 900, 'limit': 1000, 'start': 1548979200}\n",
      "Downloaded from 2019-02-01 00:00:00 to 2019-02-11 09:45:00 3594.91\n",
      "Resample 15Min - TecAn ( windows 20, windows_limit 100 )\n",
      "Processing 999 of btcusd\n"
     ]
    },
    {
     "data": {
      "application/vnd.jupyter.widget-view+json": {
       "model_id": "6cb8a2e1d4cc4ef2a5db8b68be6d715b",
       "version_major": 2,
       "version_minor": 0
      },
      "text/plain": [
       "  0%|          | 0/999 [00:00<?, ?it/s]"
      ]
     },
     "metadata": {},
     "output_type": "display_data"
    },
    {
     "name": "stdout",
     "output_type": "stream",
     "text": [
      "https://www.bitstamp.net/api/v2/ohlc/btcusd/ -> {'currency_pair': 'btcusd', 'step': 900, 'limit': 1000, 'start': 1580515200}\n",
      "Downloaded from 2020-02-01 00:00:00 to 2020-02-11 09:45:00 9783.54\n",
      "Resample 15Min - TecAn ( windows 20, windows_limit 100 )\n",
      "Processing 999 of btcusd\n"
     ]
    },
    {
     "data": {
      "application/vnd.jupyter.widget-view+json": {
       "model_id": "a7408615eb874872bff2c97f24543d8a",
       "version_major": 2,
       "version_minor": 0
      },
      "text/plain": [
       "  0%|          | 0/999 [00:00<?, ?it/s]"
      ]
     },
     "metadata": {},
     "output_type": "display_data"
    },
    {
     "name": "stdout",
     "output_type": "stream",
     "text": [
      "https://www.bitstamp.net/api/v2/ohlc/btcusd/ -> {'currency_pair': 'btcusd', 'step': 900, 'limit': 1000, 'start': 1612137600}\n",
      "Downloaded from 2021-02-01 00:00:00 to 2021-02-11 09:45:00 45154.95\n",
      "Resample 15Min - TecAn ( windows 20, windows_limit 100 )\n",
      "Processing 999 of btcusd\n"
     ]
    },
    {
     "data": {
      "application/vnd.jupyter.widget-view+json": {
       "model_id": "681a4cd050704edc86af0739364fb576",
       "version_major": 2,
       "version_minor": 0
      },
      "text/plain": [
       "  0%|          | 0/999 [00:00<?, ?it/s]"
      ]
     },
     "metadata": {},
     "output_type": "display_data"
    },
    {
     "name": "stdout",
     "output_type": "stream",
     "text": [
      "https://www.bitstamp.net/api/v2/ohlc/btcusd/ -> {'currency_pair': 'btcusd', 'step': 900, 'limit': 1000, 'start': 1626340500, 'end': 1626369600}\n",
      "Downloaded from 2021-07-05 08:30:00 to 2021-07-15 18:15:00 31321.95\n",
      "Resample 15Min - TecAn ( windows 20, windows_limit 100 )\n",
      "Processing 999 of btcusd\n"
     ]
    },
    {
     "data": {
      "application/vnd.jupyter.widget-view+json": {
       "model_id": "3151c557e769450f8c50542cd3d9012b",
       "version_major": 2,
       "version_minor": 0
      },
      "text/plain": [
       "  0%|          | 0/999 [00:00<?, ?it/s]"
      ]
     },
     "metadata": {},
     "output_type": "display_data"
    },
    {
     "name": "stdout",
     "output_type": "stream",
     "text": [
      "https://www.bitstamp.net/api/v2/ohlc/btcusd/ -> {'currency_pair': 'btcusd', 'step': 900, 'limit': 1000, 'start': 1622502000}\n",
      "Downloaded from 2021-06-01 00:00:00 to 2021-06-11 09:45:00 37001.01\n",
      "Resample 15Min - TecAn ( windows 30, windows_limit 100 )\n",
      "Processing 999 of btcusd\n"
     ]
    },
    {
     "data": {
      "application/vnd.jupyter.widget-view+json": {
       "model_id": "d0209394bbd54f71b3010709e8b57cc0",
       "version_major": 2,
       "version_minor": 0
      },
      "text/plain": [
       "  0%|          | 0/999 [00:00<?, ?it/s]"
      ]
     },
     "metadata": {},
     "output_type": "display_data"
    },
    {
     "name": "stdout",
     "output_type": "stream",
     "text": [
      "https://www.bitstamp.net/api/v2/ohlc/btcusd/ -> {'currency_pair': 'btcusd', 'step': 900, 'limit': 1000, 'start': 1590966000}\n",
      "Downloaded from 2020-06-01 00:00:00 to 2020-06-11 09:45:00 9820.86\n",
      "Resample 15Min - TecAn ( windows 30, windows_limit 100 )\n",
      "Processing 999 of btcusd\n"
     ]
    },
    {
     "data": {
      "application/vnd.jupyter.widget-view+json": {
       "model_id": "6d57d1940bd84ff88936f9f9cdc1bd2b",
       "version_major": 2,
       "version_minor": 0
      },
      "text/plain": [
       "  0%|          | 0/999 [00:00<?, ?it/s]"
      ]
     },
     "metadata": {},
     "output_type": "display_data"
    },
    {
     "name": "stdout",
     "output_type": "stream",
     "text": [
      "https://www.bitstamp.net/api/v2/ohlc/btcusd/ -> {'currency_pair': 'btcusd', 'step': 900, 'limit': 1000, 'start': 1559343600}\n",
      "Downloaded from 2019-06-01 00:00:00 to 2019-06-11 09:45:00 7961.80\n",
      "Resample 15Min - TecAn ( windows 30, windows_limit 100 )\n",
      "Processing 999 of btcusd\n"
     ]
    },
    {
     "data": {
      "application/vnd.jupyter.widget-view+json": {
       "model_id": "5a058f4f3cd94b1d8c2b3429a22a7111",
       "version_major": 2,
       "version_minor": 0
      },
      "text/plain": [
       "  0%|          | 0/999 [00:00<?, ?it/s]"
      ]
     },
     "metadata": {},
     "output_type": "display_data"
    },
    {
     "name": "stdout",
     "output_type": "stream",
     "text": [
      "https://www.bitstamp.net/api/v2/ohlc/btcusd/ -> {'currency_pair': 'btcusd', 'step': 900, 'limit': 1000, 'start': 1527807600}\n",
      "Downloaded from 2018-06-01 00:00:00 to 2018-06-11 09:45:00 6795.82\n",
      "Resample 15Min - TecAn ( windows 30, windows_limit 100 )\n",
      "Processing 999 of btcusd\n"
     ]
    },
    {
     "data": {
      "application/vnd.jupyter.widget-view+json": {
       "model_id": "5f0d04b7761849059dd650654cb58715",
       "version_major": 2,
       "version_minor": 0
      },
      "text/plain": [
       "  0%|          | 0/999 [00:00<?, ?it/s]"
      ]
     },
     "metadata": {},
     "output_type": "display_data"
    },
    {
     "name": "stdout",
     "output_type": "stream",
     "text": [
      "https://www.bitstamp.net/api/v2/ohlc/btcusd/ -> {'currency_pair': 'btcusd', 'step': 900, 'limit': 1000, 'start': 1517443200}\n",
      "Downloaded from 2018-02-01 00:00:00 to 2018-02-11 09:45:00 8012.89\n",
      "Resample 15Min - TecAn ( windows 30, windows_limit 100 )\n",
      "Processing 999 of btcusd\n"
     ]
    },
    {
     "data": {
      "application/vnd.jupyter.widget-view+json": {
       "model_id": "aa38e0039a914029a43790cc2dc8f68b",
       "version_major": 2,
       "version_minor": 0
      },
      "text/plain": [
       "  0%|          | 0/999 [00:00<?, ?it/s]"
      ]
     },
     "metadata": {},
     "output_type": "display_data"
    },
    {
     "name": "stdout",
     "output_type": "stream",
     "text": [
      "https://www.bitstamp.net/api/v2/ohlc/btcusd/ -> {'currency_pair': 'btcusd', 'step': 900, 'limit': 1000, 'start': 1548979200}\n",
      "Downloaded from 2019-02-01 00:00:00 to 2019-02-11 09:45:00 3594.91\n",
      "Resample 15Min - TecAn ( windows 30, windows_limit 100 )\n",
      "Processing 999 of btcusd\n"
     ]
    },
    {
     "data": {
      "application/vnd.jupyter.widget-view+json": {
       "model_id": "14b264ca5f38444fba379fd386fca784",
       "version_major": 2,
       "version_minor": 0
      },
      "text/plain": [
       "  0%|          | 0/999 [00:00<?, ?it/s]"
      ]
     },
     "metadata": {},
     "output_type": "display_data"
    },
    {
     "name": "stdout",
     "output_type": "stream",
     "text": [
      "https://www.bitstamp.net/api/v2/ohlc/btcusd/ -> {'currency_pair': 'btcusd', 'step': 900, 'limit': 1000, 'start': 1580515200}\n",
      "Downloaded from 2020-02-01 00:00:00 to 2020-02-11 09:45:00 9783.54\n",
      "Resample 15Min - TecAn ( windows 30, windows_limit 100 )\n",
      "Processing 999 of btcusd\n"
     ]
    },
    {
     "data": {
      "application/vnd.jupyter.widget-view+json": {
       "model_id": "be3bbac66bca47f5b778f38c068bef89",
       "version_major": 2,
       "version_minor": 0
      },
      "text/plain": [
       "  0%|          | 0/999 [00:00<?, ?it/s]"
      ]
     },
     "metadata": {},
     "output_type": "display_data"
    },
    {
     "name": "stdout",
     "output_type": "stream",
     "text": [
      "https://www.bitstamp.net/api/v2/ohlc/btcusd/ -> {'currency_pair': 'btcusd', 'step': 900, 'limit': 1000, 'start': 1612137600}\n",
      "Downloaded from 2021-02-01 00:00:00 to 2021-02-11 09:45:00 45154.95\n",
      "Resample 15Min - TecAn ( windows 30, windows_limit 100 )\n",
      "Processing 999 of btcusd\n"
     ]
    },
    {
     "data": {
      "application/vnd.jupyter.widget-view+json": {
       "model_id": "92d0d22b794b45ec9e24851635315a1d",
       "version_major": 2,
       "version_minor": 0
      },
      "text/plain": [
       "  0%|          | 0/999 [00:00<?, ?it/s]"
      ]
     },
     "metadata": {},
     "output_type": "display_data"
    },
    {
     "name": "stdout",
     "output_type": "stream",
     "text": [
      "https://www.bitstamp.net/api/v2/ohlc/btcusd/ -> {'currency_pair': 'btcusd', 'step': 900, 'limit': 1000, 'start': 1626340500, 'end': 1626369600}\n",
      "Downloaded from 2021-07-05 08:30:00 to 2021-07-15 18:15:00 31321.95\n",
      "Resample 15Min - TecAn ( windows 30, windows_limit 100 )\n",
      "Processing 999 of btcusd\n"
     ]
    },
    {
     "data": {
      "application/vnd.jupyter.widget-view+json": {
       "model_id": "bc963aad5d644075a896b9e03d4c44c1",
       "version_major": 2,
       "version_minor": 0
      },
      "text/plain": [
       "  0%|          | 0/999 [00:00<?, ?it/s]"
      ]
     },
     "metadata": {},
     "output_type": "display_data"
    },
    {
     "name": "stdout",
     "output_type": "stream",
     "text": [
      "https://www.bitstamp.net/api/v2/ohlc/btcusd/ -> {'currency_pair': 'btcusd', 'step': 900, 'limit': 1000, 'start': 1622502000}\n",
      "Downloaded from 2021-06-01 00:00:00 to 2021-06-11 09:45:00 37001.01\n",
      "Resample 15Min - TecAn ( windows 40, windows_limit 100 )\n",
      "Processing 999 of btcusd\n"
     ]
    },
    {
     "data": {
      "application/vnd.jupyter.widget-view+json": {
       "model_id": "7c3ff86bc4b246bfa268226e9ccdf0e7",
       "version_major": 2,
       "version_minor": 0
      },
      "text/plain": [
       "  0%|          | 0/999 [00:00<?, ?it/s]"
      ]
     },
     "metadata": {},
     "output_type": "display_data"
    },
    {
     "name": "stdout",
     "output_type": "stream",
     "text": [
      "https://www.bitstamp.net/api/v2/ohlc/btcusd/ -> {'currency_pair': 'btcusd', 'step': 900, 'limit': 1000, 'start': 1590966000}\n",
      "Downloaded from 2020-06-01 00:00:00 to 2020-06-11 09:45:00 9820.86\n",
      "Resample 15Min - TecAn ( windows 40, windows_limit 100 )\n",
      "Processing 999 of btcusd\n"
     ]
    },
    {
     "data": {
      "application/vnd.jupyter.widget-view+json": {
       "model_id": "8b8f0327ff7c4baeba006e242b48c8d9",
       "version_major": 2,
       "version_minor": 0
      },
      "text/plain": [
       "  0%|          | 0/999 [00:00<?, ?it/s]"
      ]
     },
     "metadata": {},
     "output_type": "display_data"
    },
    {
     "name": "stdout",
     "output_type": "stream",
     "text": [
      "https://www.bitstamp.net/api/v2/ohlc/btcusd/ -> {'currency_pair': 'btcusd', 'step': 900, 'limit': 1000, 'start': 1559343600}\n",
      "Downloaded from 2019-06-01 00:00:00 to 2019-06-11 09:45:00 7961.80\n",
      "Resample 15Min - TecAn ( windows 40, windows_limit 100 )\n",
      "Processing 999 of btcusd\n"
     ]
    },
    {
     "data": {
      "application/vnd.jupyter.widget-view+json": {
       "model_id": "baeb064cb4e04766b9afd85ae08e2eb3",
       "version_major": 2,
       "version_minor": 0
      },
      "text/plain": [
       "  0%|          | 0/999 [00:00<?, ?it/s]"
      ]
     },
     "metadata": {},
     "output_type": "display_data"
    },
    {
     "name": "stdout",
     "output_type": "stream",
     "text": [
      "https://www.bitstamp.net/api/v2/ohlc/btcusd/ -> {'currency_pair': 'btcusd', 'step': 900, 'limit': 1000, 'start': 1527807600}\n",
      "Downloaded from 2018-06-01 00:00:00 to 2018-06-11 09:45:00 6795.82\n",
      "Resample 15Min - TecAn ( windows 40, windows_limit 100 )\n",
      "Processing 999 of btcusd\n"
     ]
    },
    {
     "data": {
      "application/vnd.jupyter.widget-view+json": {
       "model_id": "9bcccd33a6b342e49c996f59e6e50441",
       "version_major": 2,
       "version_minor": 0
      },
      "text/plain": [
       "  0%|          | 0/999 [00:00<?, ?it/s]"
      ]
     },
     "metadata": {},
     "output_type": "display_data"
    },
    {
     "name": "stdout",
     "output_type": "stream",
     "text": [
      "https://www.bitstamp.net/api/v2/ohlc/btcusd/ -> {'currency_pair': 'btcusd', 'step': 900, 'limit': 1000, 'start': 1517443200}\n",
      "Downloaded from 2018-02-01 00:00:00 to 2018-02-11 09:45:00 8012.89\n",
      "Resample 15Min - TecAn ( windows 40, windows_limit 100 )\n",
      "Processing 999 of btcusd\n"
     ]
    },
    {
     "data": {
      "application/vnd.jupyter.widget-view+json": {
       "model_id": "02baa7c765c14efdbe824666997a9bd7",
       "version_major": 2,
       "version_minor": 0
      },
      "text/plain": [
       "  0%|          | 0/999 [00:00<?, ?it/s]"
      ]
     },
     "metadata": {},
     "output_type": "display_data"
    },
    {
     "name": "stdout",
     "output_type": "stream",
     "text": [
      "https://www.bitstamp.net/api/v2/ohlc/btcusd/ -> {'currency_pair': 'btcusd', 'step': 900, 'limit': 1000, 'start': 1548979200}\n",
      "Downloaded from 2019-02-01 00:00:00 to 2019-02-11 09:45:00 3594.91\n",
      "Resample 15Min - TecAn ( windows 40, windows_limit 100 )\n",
      "Processing 999 of btcusd\n"
     ]
    },
    {
     "data": {
      "application/vnd.jupyter.widget-view+json": {
       "model_id": "6304031d1cb2446084ff7f50236fcbf8",
       "version_major": 2,
       "version_minor": 0
      },
      "text/plain": [
       "  0%|          | 0/999 [00:00<?, ?it/s]"
      ]
     },
     "metadata": {},
     "output_type": "display_data"
    },
    {
     "name": "stdout",
     "output_type": "stream",
     "text": [
      "https://www.bitstamp.net/api/v2/ohlc/btcusd/ -> {'currency_pair': 'btcusd', 'step': 900, 'limit': 1000, 'start': 1580515200}\n",
      "Downloaded from 2020-02-01 00:00:00 to 2020-02-11 09:45:00 9783.54\n",
      "Resample 15Min - TecAn ( windows 40, windows_limit 100 )\n",
      "Processing 999 of btcusd\n"
     ]
    },
    {
     "data": {
      "application/vnd.jupyter.widget-view+json": {
       "model_id": "8fbb880d5c334035a3fb814d07f19684",
       "version_major": 2,
       "version_minor": 0
      },
      "text/plain": [
       "  0%|          | 0/999 [00:00<?, ?it/s]"
      ]
     },
     "metadata": {},
     "output_type": "display_data"
    },
    {
     "name": "stdout",
     "output_type": "stream",
     "text": [
      "https://www.bitstamp.net/api/v2/ohlc/btcusd/ -> {'currency_pair': 'btcusd', 'step': 900, 'limit': 1000, 'start': 1612137600}\n",
      "Downloaded from 2021-02-01 00:00:00 to 2021-02-11 09:45:00 45154.95\n",
      "Resample 15Min - TecAn ( windows 40, windows_limit 100 )\n",
      "Processing 999 of btcusd\n"
     ]
    },
    {
     "data": {
      "application/vnd.jupyter.widget-view+json": {
       "model_id": "0ded51117cc843bcbb1d94d3e51a909c",
       "version_major": 2,
       "version_minor": 0
      },
      "text/plain": [
       "  0%|          | 0/999 [00:00<?, ?it/s]"
      ]
     },
     "metadata": {},
     "output_type": "display_data"
    },
    {
     "name": "stdout",
     "output_type": "stream",
     "text": [
      "https://www.bitstamp.net/api/v2/ohlc/btcusd/ -> {'currency_pair': 'btcusd', 'step': 900, 'limit': 1000, 'start': 1626340500, 'end': 1626369600}\n",
      "Downloaded from 2021-07-05 08:30:00 to 2021-07-15 18:15:00 31321.95\n",
      "Resample 15Min - TecAn ( windows 40, windows_limit 100 )\n",
      "Processing 999 of btcusd\n"
     ]
    },
    {
     "data": {
      "application/vnd.jupyter.widget-view+json": {
       "model_id": "455ccdbded1b4fad844ff5a0ac6ed65e",
       "version_major": 2,
       "version_minor": 0
      },
      "text/plain": [
       "  0%|          | 0/999 [00:00<?, ?it/s]"
      ]
     },
     "metadata": {},
     "output_type": "display_data"
    },
    {
     "name": "stdout",
     "output_type": "stream",
     "text": [
      "https://www.bitstamp.net/api/v2/ohlc/btcusd/ -> {'currency_pair': 'btcusd', 'step': 300, 'limit': 1000, 'start': 1622502000}\n",
      "Downloaded from 2021-06-01 00:00:00 to 2021-06-04 11:15:00 36979.84\n",
      "Resample 5Min - TecAn ( windows 5, windows_limit 100 )\n",
      "Processing 999 of btcusd\n"
     ]
    },
    {
     "data": {
      "application/vnd.jupyter.widget-view+json": {
       "model_id": "e6de9f43668c4928a635f0e0e3cf4c79",
       "version_major": 2,
       "version_minor": 0
      },
      "text/plain": [
       "  0%|          | 0/999 [00:00<?, ?it/s]"
      ]
     },
     "metadata": {},
     "output_type": "display_data"
    },
    {
     "name": "stdout",
     "output_type": "stream",
     "text": [
      "https://www.bitstamp.net/api/v2/ohlc/btcusd/ -> {'currency_pair': 'btcusd', 'step': 300, 'limit': 1000, 'start': 1590966000}\n",
      "Downloaded from 2020-06-01 00:00:00 to 2020-06-04 11:15:00 9520.48\n",
      "Resample 5Min - TecAn ( windows 5, windows_limit 100 )\n",
      "Processing 999 of btcusd\n"
     ]
    },
    {
     "data": {
      "application/vnd.jupyter.widget-view+json": {
       "model_id": "da0525c2ce8c460bb9378b840c50ad2b",
       "version_major": 2,
       "version_minor": 0
      },
      "text/plain": [
       "  0%|          | 0/999 [00:00<?, ?it/s]"
      ]
     },
     "metadata": {},
     "output_type": "display_data"
    },
    {
     "name": "stdout",
     "output_type": "stream",
     "text": [
      "https://www.bitstamp.net/api/v2/ohlc/btcusd/ -> {'currency_pair': 'btcusd', 'step': 300, 'limit': 1000, 'start': 1559343600}\n",
      "Downloaded from 2019-06-01 00:00:00 to 2019-06-04 11:15:00 7963.92\n",
      "Resample 5Min - TecAn ( windows 5, windows_limit 100 )\n",
      "Processing 999 of btcusd\n"
     ]
    },
    {
     "data": {
      "application/vnd.jupyter.widget-view+json": {
       "model_id": "e96b0da989ae4db5a798bb668224be94",
       "version_major": 2,
       "version_minor": 0
      },
      "text/plain": [
       "  0%|          | 0/999 [00:00<?, ?it/s]"
      ]
     },
     "metadata": {},
     "output_type": "display_data"
    },
    {
     "name": "stdout",
     "output_type": "stream",
     "text": [
      "https://www.bitstamp.net/api/v2/ohlc/btcusd/ -> {'currency_pair': 'btcusd', 'step': 300, 'limit': 1000, 'start': 1527807600}\n",
      "Downloaded from 2018-06-01 00:00:00 to 2018-06-04 11:15:00 7603.79\n",
      "Resample 5Min - TecAn ( windows 5, windows_limit 100 )\n",
      "Processing 999 of btcusd\n"
     ]
    },
    {
     "data": {
      "application/vnd.jupyter.widget-view+json": {
       "model_id": "3122d7a5981b461db50a460ba0c8c8c9",
       "version_major": 2,
       "version_minor": 0
      },
      "text/plain": [
       "  0%|          | 0/999 [00:00<?, ?it/s]"
      ]
     },
     "metadata": {},
     "output_type": "display_data"
    },
    {
     "name": "stdout",
     "output_type": "stream",
     "text": [
      "https://www.bitstamp.net/api/v2/ohlc/btcusd/ -> {'currency_pair': 'btcusd', 'step': 300, 'limit': 1000, 'start': 1517443200}\n",
      "Downloaded from 2018-02-01 00:00:00 to 2018-02-04 11:15:00 8898.23\n",
      "Resample 5Min - TecAn ( windows 5, windows_limit 100 )\n",
      "Processing 999 of btcusd\n"
     ]
    },
    {
     "data": {
      "application/vnd.jupyter.widget-view+json": {
       "model_id": "aa4556abb6b04c339e28e4b578a96723",
       "version_major": 2,
       "version_minor": 0
      },
      "text/plain": [
       "  0%|          | 0/999 [00:00<?, ?it/s]"
      ]
     },
     "metadata": {},
     "output_type": "display_data"
    },
    {
     "name": "stdout",
     "output_type": "stream",
     "text": [
      "https://www.bitstamp.net/api/v2/ohlc/btcusd/ -> {'currency_pair': 'btcusd', 'step': 300, 'limit': 1000, 'start': 1548979200}\n",
      "Downloaded from 2019-02-01 00:00:00 to 2019-02-04 11:15:00 3404.48\n",
      "Resample 5Min - TecAn ( windows 5, windows_limit 100 )\n",
      "Processing 999 of btcusd\n"
     ]
    },
    {
     "data": {
      "application/vnd.jupyter.widget-view+json": {
       "model_id": "639839e39d8743e4a8695a8d88664c8f",
       "version_major": 2,
       "version_minor": 0
      },
      "text/plain": [
       "  0%|          | 0/999 [00:00<?, ?it/s]"
      ]
     },
     "metadata": {},
     "output_type": "display_data"
    },
    {
     "name": "stdout",
     "output_type": "stream",
     "text": [
      "https://www.bitstamp.net/api/v2/ohlc/btcusd/ -> {'currency_pair': 'btcusd', 'step': 300, 'limit': 1000, 'start': 1580515200}\n",
      "Downloaded from 2020-02-01 00:00:00 to 2020-02-04 11:15:00 9163.36\n",
      "Resample 5Min - TecAn ( windows 5, windows_limit 100 )\n",
      "Processing 999 of btcusd\n"
     ]
    },
    {
     "data": {
      "application/vnd.jupyter.widget-view+json": {
       "model_id": "0db461d68edf4c9e9646fd27b74510c2",
       "version_major": 2,
       "version_minor": 0
      },
      "text/plain": [
       "  0%|          | 0/999 [00:00<?, ?it/s]"
      ]
     },
     "metadata": {},
     "output_type": "display_data"
    },
    {
     "name": "stdout",
     "output_type": "stream",
     "text": [
      "https://www.bitstamp.net/api/v2/ohlc/btcusd/ -> {'currency_pair': 'btcusd', 'step': 300, 'limit': 1000, 'start': 1612137600}\n",
      "Downloaded from 2021-02-01 00:00:00 to 2021-02-04 11:15:00 37713.31\n",
      "Resample 5Min - TecAn ( windows 5, windows_limit 100 )\n",
      "Processing 999 of btcusd\n"
     ]
    },
    {
     "data": {
      "application/vnd.jupyter.widget-view+json": {
       "model_id": "fe26a8ac361a46ea82744ecb9d53177e",
       "version_major": 2,
       "version_minor": 0
      },
      "text/plain": [
       "  0%|          | 0/999 [00:00<?, ?it/s]"
      ]
     },
     "metadata": {},
     "output_type": "display_data"
    },
    {
     "name": "stdout",
     "output_type": "stream",
     "text": [
      "https://www.bitstamp.net/api/v2/ohlc/btcusd/ -> {'currency_pair': 'btcusd', 'step': 300, 'limit': 1000, 'start': 1626340500, 'end': 1626369600}\n",
      "Downloaded from 2021-07-12 07:05:00 to 2021-07-15 18:20:00 31200.00\n",
      "Resample 5Min - TecAn ( windows 5, windows_limit 100 )\n",
      "Processing 999 of btcusd\n"
     ]
    },
    {
     "data": {
      "application/vnd.jupyter.widget-view+json": {
       "model_id": "064a3160939040968ac79206213c2500",
       "version_major": 2,
       "version_minor": 0
      },
      "text/plain": [
       "  0%|          | 0/999 [00:00<?, ?it/s]"
      ]
     },
     "metadata": {},
     "output_type": "display_data"
    },
    {
     "name": "stdout",
     "output_type": "stream",
     "text": [
      "https://www.bitstamp.net/api/v2/ohlc/btcusd/ -> {'currency_pair': 'btcusd', 'step': 300, 'limit': 1000, 'start': 1622502000}\n",
      "Downloaded from 2021-06-01 00:00:00 to 2021-06-04 11:15:00 36979.84\n",
      "Resample 5Min - TecAn ( windows 10, windows_limit 100 )\n",
      "Processing 999 of btcusd\n"
     ]
    },
    {
     "data": {
      "application/vnd.jupyter.widget-view+json": {
       "model_id": "4cb6ba885acd4bf7bb0854bc3b770d36",
       "version_major": 2,
       "version_minor": 0
      },
      "text/plain": [
       "  0%|          | 0/999 [00:00<?, ?it/s]"
      ]
     },
     "metadata": {},
     "output_type": "display_data"
    },
    {
     "name": "stdout",
     "output_type": "stream",
     "text": [
      "https://www.bitstamp.net/api/v2/ohlc/btcusd/ -> {'currency_pair': 'btcusd', 'step': 300, 'limit': 1000, 'start': 1590966000}\n",
      "Downloaded from 2020-06-01 00:00:00 to 2020-06-04 11:15:00 9520.48\n",
      "Resample 5Min - TecAn ( windows 10, windows_limit 100 )\n",
      "Processing 999 of btcusd\n"
     ]
    },
    {
     "data": {
      "application/vnd.jupyter.widget-view+json": {
       "model_id": "b03184b5a4304ea09c95b7a5d545657c",
       "version_major": 2,
       "version_minor": 0
      },
      "text/plain": [
       "  0%|          | 0/999 [00:00<?, ?it/s]"
      ]
     },
     "metadata": {},
     "output_type": "display_data"
    },
    {
     "name": "stdout",
     "output_type": "stream",
     "text": [
      "https://www.bitstamp.net/api/v2/ohlc/btcusd/ -> {'currency_pair': 'btcusd', 'step': 300, 'limit': 1000, 'start': 1559343600}\n",
      "Downloaded from 2019-06-01 00:00:00 to 2019-06-04 11:15:00 7963.92\n",
      "Resample 5Min - TecAn ( windows 10, windows_limit 100 )\n",
      "Processing 999 of btcusd\n"
     ]
    },
    {
     "data": {
      "application/vnd.jupyter.widget-view+json": {
       "model_id": "a2a9820a2f9b4139886639ad8ecfa399",
       "version_major": 2,
       "version_minor": 0
      },
      "text/plain": [
       "  0%|          | 0/999 [00:00<?, ?it/s]"
      ]
     },
     "metadata": {},
     "output_type": "display_data"
    },
    {
     "name": "stdout",
     "output_type": "stream",
     "text": [
      "https://www.bitstamp.net/api/v2/ohlc/btcusd/ -> {'currency_pair': 'btcusd', 'step': 300, 'limit': 1000, 'start': 1527807600}\n",
      "Downloaded from 2018-06-01 00:00:00 to 2018-06-04 11:15:00 7603.79\n",
      "Resample 5Min - TecAn ( windows 10, windows_limit 100 )\n",
      "Processing 999 of btcusd\n"
     ]
    },
    {
     "data": {
      "application/vnd.jupyter.widget-view+json": {
       "model_id": "3ad7496933d94c2884b9e5d1c93fa72e",
       "version_major": 2,
       "version_minor": 0
      },
      "text/plain": [
       "  0%|          | 0/999 [00:00<?, ?it/s]"
      ]
     },
     "metadata": {},
     "output_type": "display_data"
    },
    {
     "name": "stdout",
     "output_type": "stream",
     "text": [
      "https://www.bitstamp.net/api/v2/ohlc/btcusd/ -> {'currency_pair': 'btcusd', 'step': 300, 'limit': 1000, 'start': 1517443200}\n",
      "Downloaded from 2018-02-01 00:00:00 to 2018-02-04 11:15:00 8898.23\n",
      "Resample 5Min - TecAn ( windows 10, windows_limit 100 )\n",
      "Processing 999 of btcusd\n"
     ]
    },
    {
     "data": {
      "application/vnd.jupyter.widget-view+json": {
       "model_id": "989939c35af840809425d5cb65ad8787",
       "version_major": 2,
       "version_minor": 0
      },
      "text/plain": [
       "  0%|          | 0/999 [00:00<?, ?it/s]"
      ]
     },
     "metadata": {},
     "output_type": "display_data"
    },
    {
     "name": "stdout",
     "output_type": "stream",
     "text": [
      "https://www.bitstamp.net/api/v2/ohlc/btcusd/ -> {'currency_pair': 'btcusd', 'step': 300, 'limit': 1000, 'start': 1548979200}\n",
      "Downloaded from 2019-02-01 00:00:00 to 2019-02-04 11:15:00 3404.48\n",
      "Resample 5Min - TecAn ( windows 10, windows_limit 100 )\n",
      "Processing 999 of btcusd\n"
     ]
    },
    {
     "data": {
      "application/vnd.jupyter.widget-view+json": {
       "model_id": "a022b9e87de74b259ab402693a2cca8e",
       "version_major": 2,
       "version_minor": 0
      },
      "text/plain": [
       "  0%|          | 0/999 [00:00<?, ?it/s]"
      ]
     },
     "metadata": {},
     "output_type": "display_data"
    },
    {
     "name": "stdout",
     "output_type": "stream",
     "text": [
      "https://www.bitstamp.net/api/v2/ohlc/btcusd/ -> {'currency_pair': 'btcusd', 'step': 300, 'limit': 1000, 'start': 1580515200}\n",
      "Downloaded from 2020-02-01 00:00:00 to 2020-02-04 11:15:00 9163.36\n",
      "Resample 5Min - TecAn ( windows 10, windows_limit 100 )\n",
      "Processing 999 of btcusd\n"
     ]
    },
    {
     "data": {
      "application/vnd.jupyter.widget-view+json": {
       "model_id": "aaf87f6fa5564193aa8f65b5c4e858ff",
       "version_major": 2,
       "version_minor": 0
      },
      "text/plain": [
       "  0%|          | 0/999 [00:00<?, ?it/s]"
      ]
     },
     "metadata": {},
     "output_type": "display_data"
    },
    {
     "name": "stdout",
     "output_type": "stream",
     "text": [
      "https://www.bitstamp.net/api/v2/ohlc/btcusd/ -> {'currency_pair': 'btcusd', 'step': 300, 'limit': 1000, 'start': 1612137600}\n",
      "Downloaded from 2021-02-01 00:00:00 to 2021-02-04 11:15:00 37713.31\n",
      "Resample 5Min - TecAn ( windows 10, windows_limit 100 )\n",
      "Processing 999 of btcusd\n"
     ]
    },
    {
     "data": {
      "application/vnd.jupyter.widget-view+json": {
       "model_id": "814fcbedaf044e0ebfdb239ebf7efb24",
       "version_major": 2,
       "version_minor": 0
      },
      "text/plain": [
       "  0%|          | 0/999 [00:00<?, ?it/s]"
      ]
     },
     "metadata": {},
     "output_type": "display_data"
    },
    {
     "name": "stdout",
     "output_type": "stream",
     "text": [
      "https://www.bitstamp.net/api/v2/ohlc/btcusd/ -> {'currency_pair': 'btcusd', 'step': 300, 'limit': 1000, 'start': 1626340500, 'end': 1626369600}\n",
      "Downloaded from 2021-07-12 07:05:00 to 2021-07-15 18:20:00 31200.00\n",
      "Resample 5Min - TecAn ( windows 10, windows_limit 100 )\n",
      "Processing 999 of btcusd\n"
     ]
    },
    {
     "data": {
      "application/vnd.jupyter.widget-view+json": {
       "model_id": "9178b922989a48289490f8d891de92d2",
       "version_major": 2,
       "version_minor": 0
      },
      "text/plain": [
       "  0%|          | 0/999 [00:00<?, ?it/s]"
      ]
     },
     "metadata": {},
     "output_type": "display_data"
    },
    {
     "name": "stdout",
     "output_type": "stream",
     "text": [
      "https://www.bitstamp.net/api/v2/ohlc/btcusd/ -> {'currency_pair': 'btcusd', 'step': 300, 'limit': 1000, 'start': 1622502000}\n",
      "Downloaded from 2021-06-01 00:00:00 to 2021-06-04 11:15:00 36979.84\n",
      "Resample 5Min - TecAn ( windows 20, windows_limit 100 )\n",
      "Processing 999 of btcusd\n"
     ]
    },
    {
     "data": {
      "application/vnd.jupyter.widget-view+json": {
       "model_id": "e7a6ce020c6540bcb1579ae6a67caf84",
       "version_major": 2,
       "version_minor": 0
      },
      "text/plain": [
       "  0%|          | 0/999 [00:00<?, ?it/s]"
      ]
     },
     "metadata": {},
     "output_type": "display_data"
    },
    {
     "name": "stdout",
     "output_type": "stream",
     "text": [
      "https://www.bitstamp.net/api/v2/ohlc/btcusd/ -> {'currency_pair': 'btcusd', 'step': 300, 'limit': 1000, 'start': 1590966000}\n",
      "Downloaded from 2020-06-01 00:00:00 to 2020-06-04 11:15:00 9520.48\n",
      "Resample 5Min - TecAn ( windows 20, windows_limit 100 )\n",
      "Processing 999 of btcusd\n"
     ]
    },
    {
     "data": {
      "application/vnd.jupyter.widget-view+json": {
       "model_id": "aceed331a44e433c962ed142c6f4ce67",
       "version_major": 2,
       "version_minor": 0
      },
      "text/plain": [
       "  0%|          | 0/999 [00:00<?, ?it/s]"
      ]
     },
     "metadata": {},
     "output_type": "display_data"
    },
    {
     "name": "stdout",
     "output_type": "stream",
     "text": [
      "https://www.bitstamp.net/api/v2/ohlc/btcusd/ -> {'currency_pair': 'btcusd', 'step': 300, 'limit': 1000, 'start': 1559343600}\n",
      "Downloaded from 2019-06-01 00:00:00 to 2019-06-04 11:15:00 7963.92\n",
      "Resample 5Min - TecAn ( windows 20, windows_limit 100 )\n",
      "Processing 999 of btcusd\n"
     ]
    },
    {
     "data": {
      "application/vnd.jupyter.widget-view+json": {
       "model_id": "7d1f89d18b3541369e73c2698e03a14f",
       "version_major": 2,
       "version_minor": 0
      },
      "text/plain": [
       "  0%|          | 0/999 [00:00<?, ?it/s]"
      ]
     },
     "metadata": {},
     "output_type": "display_data"
    },
    {
     "name": "stdout",
     "output_type": "stream",
     "text": [
      "https://www.bitstamp.net/api/v2/ohlc/btcusd/ -> {'currency_pair': 'btcusd', 'step': 300, 'limit': 1000, 'start': 1527807600}\n",
      "Downloaded from 2018-06-01 00:00:00 to 2018-06-04 11:15:00 7603.79\n",
      "Resample 5Min - TecAn ( windows 20, windows_limit 100 )\n",
      "Processing 999 of btcusd\n"
     ]
    },
    {
     "data": {
      "application/vnd.jupyter.widget-view+json": {
       "model_id": "3d353739ad924dad9ed4c0ad0d4824de",
       "version_major": 2,
       "version_minor": 0
      },
      "text/plain": [
       "  0%|          | 0/999 [00:00<?, ?it/s]"
      ]
     },
     "metadata": {},
     "output_type": "display_data"
    },
    {
     "name": "stdout",
     "output_type": "stream",
     "text": [
      "https://www.bitstamp.net/api/v2/ohlc/btcusd/ -> {'currency_pair': 'btcusd', 'step': 300, 'limit': 1000, 'start': 1517443200}\n",
      "Downloaded from 2018-02-01 00:00:00 to 2018-02-04 11:15:00 8898.23\n",
      "Resample 5Min - TecAn ( windows 20, windows_limit 100 )\n",
      "Processing 999 of btcusd\n"
     ]
    },
    {
     "data": {
      "application/vnd.jupyter.widget-view+json": {
       "model_id": "df45b4a524de4269b665f156de3d5dd6",
       "version_major": 2,
       "version_minor": 0
      },
      "text/plain": [
       "  0%|          | 0/999 [00:00<?, ?it/s]"
      ]
     },
     "metadata": {},
     "output_type": "display_data"
    },
    {
     "name": "stdout",
     "output_type": "stream",
     "text": [
      "https://www.bitstamp.net/api/v2/ohlc/btcusd/ -> {'currency_pair': 'btcusd', 'step': 300, 'limit': 1000, 'start': 1548979200}\n",
      "Downloaded from 2019-02-01 00:00:00 to 2019-02-04 11:15:00 3404.48\n",
      "Resample 5Min - TecAn ( windows 20, windows_limit 100 )\n",
      "Processing 999 of btcusd\n"
     ]
    },
    {
     "data": {
      "application/vnd.jupyter.widget-view+json": {
       "model_id": "a99b5a8fc2e64e2cbe7aef024101ac11",
       "version_major": 2,
       "version_minor": 0
      },
      "text/plain": [
       "  0%|          | 0/999 [00:00<?, ?it/s]"
      ]
     },
     "metadata": {},
     "output_type": "display_data"
    },
    {
     "name": "stdout",
     "output_type": "stream",
     "text": [
      "https://www.bitstamp.net/api/v2/ohlc/btcusd/ -> {'currency_pair': 'btcusd', 'step': 300, 'limit': 1000, 'start': 1580515200}\n",
      "Downloaded from 2020-02-01 00:00:00 to 2020-02-04 11:15:00 9163.36\n",
      "Resample 5Min - TecAn ( windows 20, windows_limit 100 )\n",
      "Processing 999 of btcusd\n"
     ]
    },
    {
     "data": {
      "application/vnd.jupyter.widget-view+json": {
       "model_id": "cc28f35b9f3b4346bb1a0ecdb8894733",
       "version_major": 2,
       "version_minor": 0
      },
      "text/plain": [
       "  0%|          | 0/999 [00:00<?, ?it/s]"
      ]
     },
     "metadata": {},
     "output_type": "display_data"
    },
    {
     "name": "stdout",
     "output_type": "stream",
     "text": [
      "https://www.bitstamp.net/api/v2/ohlc/btcusd/ -> {'currency_pair': 'btcusd', 'step': 300, 'limit': 1000, 'start': 1612137600}\n",
      "Downloaded from 2021-02-01 00:00:00 to 2021-02-04 11:15:00 37713.31\n",
      "Resample 5Min - TecAn ( windows 20, windows_limit 100 )\n",
      "Processing 999 of btcusd\n"
     ]
    },
    {
     "data": {
      "application/vnd.jupyter.widget-view+json": {
       "model_id": "786fb7cf6aac4156b7be4f6742a5bd1a",
       "version_major": 2,
       "version_minor": 0
      },
      "text/plain": [
       "  0%|          | 0/999 [00:00<?, ?it/s]"
      ]
     },
     "metadata": {},
     "output_type": "display_data"
    },
    {
     "name": "stdout",
     "output_type": "stream",
     "text": [
      "https://www.bitstamp.net/api/v2/ohlc/btcusd/ -> {'currency_pair': 'btcusd', 'step': 300, 'limit': 1000, 'start': 1626340500, 'end': 1626369600}\n",
      "Downloaded from 2021-07-12 07:05:00 to 2021-07-15 18:20:00 31200.00\n",
      "Resample 5Min - TecAn ( windows 20, windows_limit 100 )\n",
      "Processing 999 of btcusd\n"
     ]
    },
    {
     "data": {
      "application/vnd.jupyter.widget-view+json": {
       "model_id": "9d75feeb478a468998c4ec83dd12d0c9",
       "version_major": 2,
       "version_minor": 0
      },
      "text/plain": [
       "  0%|          | 0/999 [00:00<?, ?it/s]"
      ]
     },
     "metadata": {},
     "output_type": "display_data"
    },
    {
     "name": "stdout",
     "output_type": "stream",
     "text": [
      "https://www.bitstamp.net/api/v2/ohlc/btcusd/ -> {'currency_pair': 'btcusd', 'step': 300, 'limit': 1000, 'start': 1622502000}\n",
      "Downloaded from 2021-06-01 00:00:00 to 2021-06-04 11:15:00 36979.84\n",
      "Resample 5Min - TecAn ( windows 30, windows_limit 100 )\n",
      "Processing 999 of btcusd\n"
     ]
    },
    {
     "data": {
      "application/vnd.jupyter.widget-view+json": {
       "model_id": "2dd93e9fedab497f94c87d847f8005be",
       "version_major": 2,
       "version_minor": 0
      },
      "text/plain": [
       "  0%|          | 0/999 [00:00<?, ?it/s]"
      ]
     },
     "metadata": {},
     "output_type": "display_data"
    },
    {
     "name": "stdout",
     "output_type": "stream",
     "text": [
      "https://www.bitstamp.net/api/v2/ohlc/btcusd/ -> {'currency_pair': 'btcusd', 'step': 300, 'limit': 1000, 'start': 1590966000}\n",
      "Downloaded from 2020-06-01 00:00:00 to 2020-06-04 11:15:00 9520.48\n",
      "Resample 5Min - TecAn ( windows 30, windows_limit 100 )\n",
      "Processing 999 of btcusd\n"
     ]
    },
    {
     "data": {
      "application/vnd.jupyter.widget-view+json": {
       "model_id": "c56563f69d274930b19fe51cd56a5f3d",
       "version_major": 2,
       "version_minor": 0
      },
      "text/plain": [
       "  0%|          | 0/999 [00:00<?, ?it/s]"
      ]
     },
     "metadata": {},
     "output_type": "display_data"
    },
    {
     "name": "stdout",
     "output_type": "stream",
     "text": [
      "https://www.bitstamp.net/api/v2/ohlc/btcusd/ -> {'currency_pair': 'btcusd', 'step': 300, 'limit': 1000, 'start': 1559343600}\n",
      "Downloaded from 2019-06-01 00:00:00 to 2019-06-04 11:15:00 7963.92\n",
      "Resample 5Min - TecAn ( windows 30, windows_limit 100 )\n",
      "Processing 999 of btcusd\n"
     ]
    },
    {
     "data": {
      "application/vnd.jupyter.widget-view+json": {
       "model_id": "e9b724ed585e4fa3a64d3ff2bae4561b",
       "version_major": 2,
       "version_minor": 0
      },
      "text/plain": [
       "  0%|          | 0/999 [00:00<?, ?it/s]"
      ]
     },
     "metadata": {},
     "output_type": "display_data"
    },
    {
     "name": "stdout",
     "output_type": "stream",
     "text": [
      "https://www.bitstamp.net/api/v2/ohlc/btcusd/ -> {'currency_pair': 'btcusd', 'step': 300, 'limit': 1000, 'start': 1527807600}\n",
      "Downloaded from 2018-06-01 00:00:00 to 2018-06-04 11:15:00 7603.79\n",
      "Resample 5Min - TecAn ( windows 30, windows_limit 100 )\n",
      "Processing 999 of btcusd\n"
     ]
    },
    {
     "data": {
      "application/vnd.jupyter.widget-view+json": {
       "model_id": "b9edc52a9f67409697bdf1f3a01020af",
       "version_major": 2,
       "version_minor": 0
      },
      "text/plain": [
       "  0%|          | 0/999 [00:00<?, ?it/s]"
      ]
     },
     "metadata": {},
     "output_type": "display_data"
    },
    {
     "name": "stdout",
     "output_type": "stream",
     "text": [
      "https://www.bitstamp.net/api/v2/ohlc/btcusd/ -> {'currency_pair': 'btcusd', 'step': 300, 'limit': 1000, 'start': 1517443200}\n",
      "Downloaded from 2018-02-01 00:00:00 to 2018-02-04 11:15:00 8898.23\n",
      "Resample 5Min - TecAn ( windows 30, windows_limit 100 )\n",
      "Processing 999 of btcusd\n"
     ]
    },
    {
     "data": {
      "application/vnd.jupyter.widget-view+json": {
       "model_id": "94bb6238162048e29a0d32f1cc0df11b",
       "version_major": 2,
       "version_minor": 0
      },
      "text/plain": [
       "  0%|          | 0/999 [00:00<?, ?it/s]"
      ]
     },
     "metadata": {},
     "output_type": "display_data"
    },
    {
     "name": "stdout",
     "output_type": "stream",
     "text": [
      "https://www.bitstamp.net/api/v2/ohlc/btcusd/ -> {'currency_pair': 'btcusd', 'step': 300, 'limit': 1000, 'start': 1548979200}\n",
      "Downloaded from 2019-02-01 00:00:00 to 2019-02-04 11:15:00 3404.48\n",
      "Resample 5Min - TecAn ( windows 30, windows_limit 100 )\n",
      "Processing 999 of btcusd\n"
     ]
    },
    {
     "data": {
      "application/vnd.jupyter.widget-view+json": {
       "model_id": "9785a4bf3ebc4432b41ca392b34d3643",
       "version_major": 2,
       "version_minor": 0
      },
      "text/plain": [
       "  0%|          | 0/999 [00:00<?, ?it/s]"
      ]
     },
     "metadata": {},
     "output_type": "display_data"
    },
    {
     "name": "stdout",
     "output_type": "stream",
     "text": [
      "https://www.bitstamp.net/api/v2/ohlc/btcusd/ -> {'currency_pair': 'btcusd', 'step': 300, 'limit': 1000, 'start': 1580515200}\n",
      "Downloaded from 2020-02-01 00:00:00 to 2020-02-04 11:15:00 9163.36\n",
      "Resample 5Min - TecAn ( windows 30, windows_limit 100 )\n",
      "Processing 999 of btcusd\n"
     ]
    },
    {
     "data": {
      "application/vnd.jupyter.widget-view+json": {
       "model_id": "20145a0404794ab199afac11dadbd6b8",
       "version_major": 2,
       "version_minor": 0
      },
      "text/plain": [
       "  0%|          | 0/999 [00:00<?, ?it/s]"
      ]
     },
     "metadata": {},
     "output_type": "display_data"
    },
    {
     "name": "stdout",
     "output_type": "stream",
     "text": [
      "https://www.bitstamp.net/api/v2/ohlc/btcusd/ -> {'currency_pair': 'btcusd', 'step': 300, 'limit': 1000, 'start': 1612137600}\n",
      "Downloaded from 2021-02-01 00:00:00 to 2021-02-04 11:15:00 37713.31\n",
      "Resample 5Min - TecAn ( windows 30, windows_limit 100 )\n",
      "Processing 999 of btcusd\n"
     ]
    },
    {
     "data": {
      "application/vnd.jupyter.widget-view+json": {
       "model_id": "d0aa000c54c6491988fc060c1cee57c7",
       "version_major": 2,
       "version_minor": 0
      },
      "text/plain": [
       "  0%|          | 0/999 [00:00<?, ?it/s]"
      ]
     },
     "metadata": {},
     "output_type": "display_data"
    },
    {
     "name": "stdout",
     "output_type": "stream",
     "text": [
      "https://www.bitstamp.net/api/v2/ohlc/btcusd/ -> {'currency_pair': 'btcusd', 'step': 300, 'limit': 1000, 'start': 1626340500, 'end': 1626369600}\n",
      "Downloaded from 2021-07-12 07:05:00 to 2021-07-15 18:20:00 31200.00\n",
      "Resample 5Min - TecAn ( windows 30, windows_limit 100 )\n",
      "Processing 999 of btcusd\n"
     ]
    },
    {
     "data": {
      "application/vnd.jupyter.widget-view+json": {
       "model_id": "3265183381df43efb6b8a0d726cca99f",
       "version_major": 2,
       "version_minor": 0
      },
      "text/plain": [
       "  0%|          | 0/999 [00:00<?, ?it/s]"
      ]
     },
     "metadata": {},
     "output_type": "display_data"
    },
    {
     "name": "stdout",
     "output_type": "stream",
     "text": [
      "https://www.bitstamp.net/api/v2/ohlc/btcusd/ -> {'currency_pair': 'btcusd', 'step': 300, 'limit': 1000, 'start': 1622502000}\n",
      "Downloaded from 2021-06-01 00:00:00 to 2021-06-04 11:15:00 36979.84\n",
      "Resample 5Min - TecAn ( windows 40, windows_limit 100 )\n",
      "Processing 999 of btcusd\n"
     ]
    },
    {
     "data": {
      "application/vnd.jupyter.widget-view+json": {
       "model_id": "d37b0f56b777402a8319433bcbb103b6",
       "version_major": 2,
       "version_minor": 0
      },
      "text/plain": [
       "  0%|          | 0/999 [00:00<?, ?it/s]"
      ]
     },
     "metadata": {},
     "output_type": "display_data"
    },
    {
     "name": "stdout",
     "output_type": "stream",
     "text": [
      "https://www.bitstamp.net/api/v2/ohlc/btcusd/ -> {'currency_pair': 'btcusd', 'step': 300, 'limit': 1000, 'start': 1590966000}\n",
      "Downloaded from 2020-06-01 00:00:00 to 2020-06-04 11:15:00 9520.48\n",
      "Resample 5Min - TecAn ( windows 40, windows_limit 100 )\n",
      "Processing 999 of btcusd\n"
     ]
    },
    {
     "data": {
      "application/vnd.jupyter.widget-view+json": {
       "model_id": "53cb41ed78e04211b2087a8a9f82dc99",
       "version_major": 2,
       "version_minor": 0
      },
      "text/plain": [
       "  0%|          | 0/999 [00:00<?, ?it/s]"
      ]
     },
     "metadata": {},
     "output_type": "display_data"
    },
    {
     "name": "stdout",
     "output_type": "stream",
     "text": [
      "https://www.bitstamp.net/api/v2/ohlc/btcusd/ -> {'currency_pair': 'btcusd', 'step': 300, 'limit': 1000, 'start': 1559343600}\n",
      "Downloaded from 2019-06-01 00:00:00 to 2019-06-04 11:15:00 7963.92\n",
      "Resample 5Min - TecAn ( windows 40, windows_limit 100 )\n",
      "Processing 999 of btcusd\n"
     ]
    },
    {
     "data": {
      "application/vnd.jupyter.widget-view+json": {
       "model_id": "58ffd6f286694be49625921549f5a183",
       "version_major": 2,
       "version_minor": 0
      },
      "text/plain": [
       "  0%|          | 0/999 [00:00<?, ?it/s]"
      ]
     },
     "metadata": {},
     "output_type": "display_data"
    },
    {
     "name": "stdout",
     "output_type": "stream",
     "text": [
      "https://www.bitstamp.net/api/v2/ohlc/btcusd/ -> {'currency_pair': 'btcusd', 'step': 300, 'limit': 1000, 'start': 1527807600}\n",
      "Downloaded from 2018-06-01 00:00:00 to 2018-06-04 11:15:00 7603.79\n",
      "Resample 5Min - TecAn ( windows 40, windows_limit 100 )\n",
      "Processing 999 of btcusd\n"
     ]
    },
    {
     "data": {
      "application/vnd.jupyter.widget-view+json": {
       "model_id": "6308f8f84f154ed1b07e2c1e8f8c881a",
       "version_major": 2,
       "version_minor": 0
      },
      "text/plain": [
       "  0%|          | 0/999 [00:00<?, ?it/s]"
      ]
     },
     "metadata": {},
     "output_type": "display_data"
    },
    {
     "name": "stdout",
     "output_type": "stream",
     "text": [
      "https://www.bitstamp.net/api/v2/ohlc/btcusd/ -> {'currency_pair': 'btcusd', 'step': 300, 'limit': 1000, 'start': 1517443200}\n",
      "Downloaded from 2018-02-01 00:00:00 to 2018-02-04 11:15:00 8898.23\n",
      "Resample 5Min - TecAn ( windows 40, windows_limit 100 )\n",
      "Processing 999 of btcusd\n"
     ]
    },
    {
     "data": {
      "application/vnd.jupyter.widget-view+json": {
       "model_id": "034765b1feda49849a58bc7fd2606227",
       "version_major": 2,
       "version_minor": 0
      },
      "text/plain": [
       "  0%|          | 0/999 [00:00<?, ?it/s]"
      ]
     },
     "metadata": {},
     "output_type": "display_data"
    },
    {
     "name": "stdout",
     "output_type": "stream",
     "text": [
      "https://www.bitstamp.net/api/v2/ohlc/btcusd/ -> {'currency_pair': 'btcusd', 'step': 300, 'limit': 1000, 'start': 1548979200}\n",
      "Downloaded from 2019-02-01 00:00:00 to 2019-02-04 11:15:00 3404.48\n",
      "Resample 5Min - TecAn ( windows 40, windows_limit 100 )\n",
      "Processing 999 of btcusd\n"
     ]
    },
    {
     "data": {
      "application/vnd.jupyter.widget-view+json": {
       "model_id": "0a018874bd4249e3bf428ec309cee5f3",
       "version_major": 2,
       "version_minor": 0
      },
      "text/plain": [
       "  0%|          | 0/999 [00:00<?, ?it/s]"
      ]
     },
     "metadata": {},
     "output_type": "display_data"
    },
    {
     "name": "stdout",
     "output_type": "stream",
     "text": [
      "https://www.bitstamp.net/api/v2/ohlc/btcusd/ -> {'currency_pair': 'btcusd', 'step': 300, 'limit': 1000, 'start': 1580515200}\n",
      "Downloaded from 2020-02-01 00:00:00 to 2020-02-04 11:15:00 9163.36\n",
      "Resample 5Min - TecAn ( windows 40, windows_limit 100 )\n",
      "Processing 999 of btcusd\n"
     ]
    },
    {
     "data": {
      "application/vnd.jupyter.widget-view+json": {
       "model_id": "e69ec6c788af48ca8bbc17fcbe043c02",
       "version_major": 2,
       "version_minor": 0
      },
      "text/plain": [
       "  0%|          | 0/999 [00:00<?, ?it/s]"
      ]
     },
     "metadata": {},
     "output_type": "display_data"
    },
    {
     "name": "stdout",
     "output_type": "stream",
     "text": [
      "https://www.bitstamp.net/api/v2/ohlc/btcusd/ -> {'currency_pair': 'btcusd', 'step': 300, 'limit': 1000, 'start': 1612137600}\n",
      "Downloaded from 2021-02-01 00:00:00 to 2021-02-04 11:15:00 37713.31\n",
      "Resample 5Min - TecAn ( windows 40, windows_limit 100 )\n",
      "Processing 999 of btcusd\n"
     ]
    },
    {
     "data": {
      "application/vnd.jupyter.widget-view+json": {
       "model_id": "c79c2708d6734182ad2879c45e106b3a",
       "version_major": 2,
       "version_minor": 0
      },
      "text/plain": [
       "  0%|          | 0/999 [00:00<?, ?it/s]"
      ]
     },
     "metadata": {},
     "output_type": "display_data"
    },
    {
     "name": "stdout",
     "output_type": "stream",
     "text": [
      "https://www.bitstamp.net/api/v2/ohlc/btcusd/ -> {'currency_pair': 'btcusd', 'step': 300, 'limit': 1000, 'start': 1626340500, 'end': 1626369600}\n",
      "Downloaded from 2021-07-12 07:05:00 to 2021-07-15 18:20:00 31200.00\n",
      "Resample 5Min - TecAn ( windows 40, windows_limit 100 )\n",
      "Processing 999 of btcusd\n"
     ]
    },
    {
     "data": {
      "application/vnd.jupyter.widget-view+json": {
       "model_id": "8b2b974047824e7886020a44779a2d5b",
       "version_major": 2,
       "version_minor": 0
      },
      "text/plain": [
       "  0%|          | 0/999 [00:00<?, ?it/s]"
      ]
     },
     "metadata": {},
     "output_type": "display_data"
    },
    {
     "name": "stdout",
     "output_type": "stream",
     "text": [
      "https://www.bitstamp.net/api/v2/ohlc/btcusd/ -> {'currency_pair': 'btcusd', 'step': 180, 'limit': 1000, 'start': 1622502000}\n",
      "Downloaded from 2021-06-01 00:00:00 to 2021-06-03 01:57:00 37436.78\n",
      "Resample 3Min - TecAn ( windows 5, windows_limit 100 )\n",
      "Processing 999 of btcusd\n"
     ]
    },
    {
     "data": {
      "application/vnd.jupyter.widget-view+json": {
       "model_id": "69e168a670e745a696fad605566cfe96",
       "version_major": 2,
       "version_minor": 0
      },
      "text/plain": [
       "  0%|          | 0/999 [00:00<?, ?it/s]"
      ]
     },
     "metadata": {},
     "output_type": "display_data"
    },
    {
     "name": "stdout",
     "output_type": "stream",
     "text": [
      "https://www.bitstamp.net/api/v2/ohlc/btcusd/ -> {'currency_pair': 'btcusd', 'step': 180, 'limit': 1000, 'start': 1590966000}\n",
      "Downloaded from 2020-06-01 00:00:00 to 2020-06-03 01:57:00 9525.82\n",
      "Resample 3Min - TecAn ( windows 5, windows_limit 100 )\n",
      "Processing 999 of btcusd\n"
     ]
    },
    {
     "data": {
      "application/vnd.jupyter.widget-view+json": {
       "model_id": "df0ea3c944dc47148eadfb8aabf5b5a3",
       "version_major": 2,
       "version_minor": 0
      },
      "text/plain": [
       "  0%|          | 0/999 [00:00<?, ?it/s]"
      ]
     },
     "metadata": {},
     "output_type": "display_data"
    },
    {
     "name": "stdout",
     "output_type": "stream",
     "text": [
      "https://www.bitstamp.net/api/v2/ohlc/btcusd/ -> {'currency_pair': 'btcusd', 'step': 180, 'limit': 1000, 'start': 1559343600}\n",
      "Downloaded from 2019-06-01 00:00:00 to 2019-06-03 01:57:00 8681.59\n",
      "Resample 3Min - TecAn ( windows 5, windows_limit 100 )\n",
      "Processing 999 of btcusd\n"
     ]
    },
    {
     "data": {
      "application/vnd.jupyter.widget-view+json": {
       "model_id": "485f0558a0a54e9584a832541b0dded0",
       "version_major": 2,
       "version_minor": 0
      },
      "text/plain": [
       "  0%|          | 0/999 [00:00<?, ?it/s]"
      ]
     },
     "metadata": {},
     "output_type": "display_data"
    },
    {
     "name": "stdout",
     "output_type": "stream",
     "text": [
      "https://www.bitstamp.net/api/v2/ohlc/btcusd/ -> {'currency_pair': 'btcusd', 'step': 180, 'limit': 1000, 'start': 1527807600}\n",
      "Downloaded from 2018-06-01 00:00:00 to 2018-06-03 01:57:00 7653.99\n",
      "Resample 3Min - TecAn ( windows 5, windows_limit 100 )\n",
      "Processing 999 of btcusd\n"
     ]
    },
    {
     "data": {
      "application/vnd.jupyter.widget-view+json": {
       "model_id": "a015e5f9bbee4fcd94584c706626149a",
       "version_major": 2,
       "version_minor": 0
      },
      "text/plain": [
       "  0%|          | 0/999 [00:00<?, ?it/s]"
      ]
     },
     "metadata": {},
     "output_type": "display_data"
    },
    {
     "name": "stdout",
     "output_type": "stream",
     "text": [
      "https://www.bitstamp.net/api/v2/ohlc/btcusd/ -> {'currency_pair': 'btcusd', 'step': 180, 'limit': 1000, 'start': 1517443200}\n",
      "Downloaded from 2018-02-01 00:00:00 to 2018-02-03 01:57:00 8563.00\n",
      "Resample 3Min - TecAn ( windows 5, windows_limit 100 )\n",
      "Processing 999 of btcusd\n"
     ]
    },
    {
     "data": {
      "application/vnd.jupyter.widget-view+json": {
       "model_id": "7443ff71a70e4f51ac00efc905cb8483",
       "version_major": 2,
       "version_minor": 0
      },
      "text/plain": [
       "  0%|          | 0/999 [00:00<?, ?it/s]"
      ]
     },
     "metadata": {},
     "output_type": "display_data"
    },
    {
     "name": "stdout",
     "output_type": "stream",
     "text": [
      "https://www.bitstamp.net/api/v2/ohlc/btcusd/ -> {'currency_pair': 'btcusd', 'step': 180, 'limit': 1000, 'start': 1548979200}\n",
      "Downloaded from 2019-02-01 00:00:00 to 2019-02-03 01:57:00 3448.32\n",
      "Resample 3Min - TecAn ( windows 5, windows_limit 100 )\n",
      "Processing 999 of btcusd\n"
     ]
    },
    {
     "data": {
      "application/vnd.jupyter.widget-view+json": {
       "model_id": "921be62c153e46cd97090b6865583614",
       "version_major": 2,
       "version_minor": 0
      },
      "text/plain": [
       "  0%|          | 0/999 [00:00<?, ?it/s]"
      ]
     },
     "metadata": {},
     "output_type": "display_data"
    },
    {
     "name": "stdout",
     "output_type": "stream",
     "text": [
      "https://www.bitstamp.net/api/v2/ohlc/btcusd/ -> {'currency_pair': 'btcusd', 'step': 180, 'limit': 1000, 'start': 1580515200}\n",
      "Downloaded from 2020-02-01 00:00:00 to 2020-02-03 01:57:00 9540.01\n",
      "Resample 3Min - TecAn ( windows 5, windows_limit 100 )\n",
      "Processing 999 of btcusd\n"
     ]
    },
    {
     "data": {
      "application/vnd.jupyter.widget-view+json": {
       "model_id": "9429aa418c024245be4cb25c06abcb2e",
       "version_major": 2,
       "version_minor": 0
      },
      "text/plain": [
       "  0%|          | 0/999 [00:00<?, ?it/s]"
      ]
     },
     "metadata": {},
     "output_type": "display_data"
    },
    {
     "name": "stdout",
     "output_type": "stream",
     "text": [
      "https://www.bitstamp.net/api/v2/ohlc/btcusd/ -> {'currency_pair': 'btcusd', 'step': 180, 'limit': 1000, 'start': 1612137600}\n",
      "Downloaded from 2021-02-01 00:00:00 to 2021-02-03 01:57:00 35892.89\n",
      "Resample 3Min - TecAn ( windows 5, windows_limit 100 )\n",
      "Processing 999 of btcusd\n"
     ]
    },
    {
     "data": {
      "application/vnd.jupyter.widget-view+json": {
       "model_id": "0319d1e620a1401da1468899904183a9",
       "version_major": 2,
       "version_minor": 0
      },
      "text/plain": [
       "  0%|          | 0/999 [00:00<?, ?it/s]"
      ]
     },
     "metadata": {},
     "output_type": "display_data"
    },
    {
     "name": "stdout",
     "output_type": "stream",
     "text": [
      "https://www.bitstamp.net/api/v2/ohlc/btcusd/ -> {'currency_pair': 'btcusd', 'step': 180, 'limit': 1000, 'start': 1626340500, 'end': 1626369600}\n",
      "Downloaded from 2021-07-13 16:21:00 to 2021-07-15 18:18:00 31279.67\n",
      "Resample 3Min - TecAn ( windows 5, windows_limit 100 )\n",
      "Processing 999 of btcusd\n"
     ]
    },
    {
     "data": {
      "application/vnd.jupyter.widget-view+json": {
       "model_id": "d9182467a60844f899d6a1f7486d15ea",
       "version_major": 2,
       "version_minor": 0
      },
      "text/plain": [
       "  0%|          | 0/999 [00:00<?, ?it/s]"
      ]
     },
     "metadata": {},
     "output_type": "display_data"
    },
    {
     "name": "stdout",
     "output_type": "stream",
     "text": [
      "https://www.bitstamp.net/api/v2/ohlc/btcusd/ -> {'currency_pair': 'btcusd', 'step': 180, 'limit': 1000, 'start': 1622502000}\n",
      "Downloaded from 2021-06-01 00:00:00 to 2021-06-03 01:57:00 37436.78\n",
      "Resample 3Min - TecAn ( windows 10, windows_limit 100 )\n",
      "Processing 999 of btcusd\n"
     ]
    },
    {
     "data": {
      "application/vnd.jupyter.widget-view+json": {
       "model_id": "1a48e5036dc245afa2da0a0844ddcc3d",
       "version_major": 2,
       "version_minor": 0
      },
      "text/plain": [
       "  0%|          | 0/999 [00:00<?, ?it/s]"
      ]
     },
     "metadata": {},
     "output_type": "display_data"
    },
    {
     "name": "stdout",
     "output_type": "stream",
     "text": [
      "https://www.bitstamp.net/api/v2/ohlc/btcusd/ -> {'currency_pair': 'btcusd', 'step': 180, 'limit': 1000, 'start': 1590966000}\n",
      "Downloaded from 2020-06-01 00:00:00 to 2020-06-03 01:57:00 9525.82\n",
      "Resample 3Min - TecAn ( windows 10, windows_limit 100 )\n",
      "Processing 999 of btcusd\n"
     ]
    },
    {
     "data": {
      "application/vnd.jupyter.widget-view+json": {
       "model_id": "b11051a2e95f43abbb6374fda8acb3a0",
       "version_major": 2,
       "version_minor": 0
      },
      "text/plain": [
       "  0%|          | 0/999 [00:00<?, ?it/s]"
      ]
     },
     "metadata": {},
     "output_type": "display_data"
    },
    {
     "name": "stdout",
     "output_type": "stream",
     "text": [
      "https://www.bitstamp.net/api/v2/ohlc/btcusd/ -> {'currency_pair': 'btcusd', 'step': 180, 'limit': 1000, 'start': 1559343600}\n",
      "Downloaded from 2019-06-01 00:00:00 to 2019-06-03 01:57:00 8681.59\n",
      "Resample 3Min - TecAn ( windows 10, windows_limit 100 )\n",
      "Processing 999 of btcusd\n"
     ]
    },
    {
     "data": {
      "application/vnd.jupyter.widget-view+json": {
       "model_id": "1526ec25e9664c128167a5c9a9f6ba09",
       "version_major": 2,
       "version_minor": 0
      },
      "text/plain": [
       "  0%|          | 0/999 [00:00<?, ?it/s]"
      ]
     },
     "metadata": {},
     "output_type": "display_data"
    },
    {
     "name": "stdout",
     "output_type": "stream",
     "text": [
      "https://www.bitstamp.net/api/v2/ohlc/btcusd/ -> {'currency_pair': 'btcusd', 'step': 180, 'limit': 1000, 'start': 1527807600}\n",
      "Downloaded from 2018-06-01 00:00:00 to 2018-06-03 01:57:00 7653.99\n",
      "Resample 3Min - TecAn ( windows 10, windows_limit 100 )\n",
      "Processing 999 of btcusd\n"
     ]
    },
    {
     "data": {
      "application/vnd.jupyter.widget-view+json": {
       "model_id": "d5e3bc34a5804bf7a463677bd4b7722c",
       "version_major": 2,
       "version_minor": 0
      },
      "text/plain": [
       "  0%|          | 0/999 [00:00<?, ?it/s]"
      ]
     },
     "metadata": {},
     "output_type": "display_data"
    },
    {
     "name": "stdout",
     "output_type": "stream",
     "text": [
      "https://www.bitstamp.net/api/v2/ohlc/btcusd/ -> {'currency_pair': 'btcusd', 'step': 180, 'limit': 1000, 'start': 1517443200}\n",
      "Downloaded from 2018-02-01 00:00:00 to 2018-02-03 01:57:00 8563.00\n",
      "Resample 3Min - TecAn ( windows 10, windows_limit 100 )\n",
      "Processing 999 of btcusd\n"
     ]
    },
    {
     "data": {
      "application/vnd.jupyter.widget-view+json": {
       "model_id": "0c8f8eeed5824a9bbf5b7d5a081cf456",
       "version_major": 2,
       "version_minor": 0
      },
      "text/plain": [
       "  0%|          | 0/999 [00:00<?, ?it/s]"
      ]
     },
     "metadata": {},
     "output_type": "display_data"
    },
    {
     "name": "stdout",
     "output_type": "stream",
     "text": [
      "https://www.bitstamp.net/api/v2/ohlc/btcusd/ -> {'currency_pair': 'btcusd', 'step': 180, 'limit': 1000, 'start': 1548979200}\n",
      "Downloaded from 2019-02-01 00:00:00 to 2019-02-03 01:57:00 3448.32\n",
      "Resample 3Min - TecAn ( windows 10, windows_limit 100 )\n",
      "Processing 999 of btcusd\n"
     ]
    },
    {
     "data": {
      "application/vnd.jupyter.widget-view+json": {
       "model_id": "31bad3368b894f4bb4c609e9314996c9",
       "version_major": 2,
       "version_minor": 0
      },
      "text/plain": [
       "  0%|          | 0/999 [00:00<?, ?it/s]"
      ]
     },
     "metadata": {},
     "output_type": "display_data"
    },
    {
     "name": "stdout",
     "output_type": "stream",
     "text": [
      "https://www.bitstamp.net/api/v2/ohlc/btcusd/ -> {'currency_pair': 'btcusd', 'step': 180, 'limit': 1000, 'start': 1580515200}\n",
      "Downloaded from 2020-02-01 00:00:00 to 2020-02-03 01:57:00 9540.01\n",
      "Resample 3Min - TecAn ( windows 10, windows_limit 100 )\n",
      "Processing 999 of btcusd\n"
     ]
    },
    {
     "data": {
      "application/vnd.jupyter.widget-view+json": {
       "model_id": "1b45792b11a6454ab568d40bb4aedc2c",
       "version_major": 2,
       "version_minor": 0
      },
      "text/plain": [
       "  0%|          | 0/999 [00:00<?, ?it/s]"
      ]
     },
     "metadata": {},
     "output_type": "display_data"
    },
    {
     "name": "stdout",
     "output_type": "stream",
     "text": [
      "https://www.bitstamp.net/api/v2/ohlc/btcusd/ -> {'currency_pair': 'btcusd', 'step': 180, 'limit': 1000, 'start': 1612137600}\n",
      "Downloaded from 2021-02-01 00:00:00 to 2021-02-03 01:57:00 35892.89\n",
      "Resample 3Min - TecAn ( windows 10, windows_limit 100 )\n",
      "Processing 999 of btcusd\n"
     ]
    },
    {
     "data": {
      "application/vnd.jupyter.widget-view+json": {
       "model_id": "36e9c2f1a9f84e2181b707338bd1d908",
       "version_major": 2,
       "version_minor": 0
      },
      "text/plain": [
       "  0%|          | 0/999 [00:00<?, ?it/s]"
      ]
     },
     "metadata": {},
     "output_type": "display_data"
    },
    {
     "name": "stdout",
     "output_type": "stream",
     "text": [
      "https://www.bitstamp.net/api/v2/ohlc/btcusd/ -> {'currency_pair': 'btcusd', 'step': 180, 'limit': 1000, 'start': 1626340500, 'end': 1626369600}\n",
      "Downloaded from 2021-07-13 16:21:00 to 2021-07-15 18:18:00 31279.67\n",
      "Resample 3Min - TecAn ( windows 10, windows_limit 100 )\n",
      "Processing 999 of btcusd\n"
     ]
    },
    {
     "data": {
      "application/vnd.jupyter.widget-view+json": {
       "model_id": "84dcde8b0b5b41e4836d2e4b44368358",
       "version_major": 2,
       "version_minor": 0
      },
      "text/plain": [
       "  0%|          | 0/999 [00:00<?, ?it/s]"
      ]
     },
     "metadata": {},
     "output_type": "display_data"
    },
    {
     "name": "stdout",
     "output_type": "stream",
     "text": [
      "https://www.bitstamp.net/api/v2/ohlc/btcusd/ -> {'currency_pair': 'btcusd', 'step': 180, 'limit': 1000, 'start': 1622502000}\n",
      "Downloaded from 2021-06-01 00:00:00 to 2021-06-03 01:57:00 37436.78\n",
      "Resample 3Min - TecAn ( windows 20, windows_limit 100 )\n",
      "Processing 999 of btcusd\n"
     ]
    },
    {
     "data": {
      "application/vnd.jupyter.widget-view+json": {
       "model_id": "57e7deb26ba3400faa5115e12a1e013b",
       "version_major": 2,
       "version_minor": 0
      },
      "text/plain": [
       "  0%|          | 0/999 [00:00<?, ?it/s]"
      ]
     },
     "metadata": {},
     "output_type": "display_data"
    },
    {
     "name": "stdout",
     "output_type": "stream",
     "text": [
      "https://www.bitstamp.net/api/v2/ohlc/btcusd/ -> {'currency_pair': 'btcusd', 'step': 180, 'limit': 1000, 'start': 1590966000}\n",
      "Downloaded from 2020-06-01 00:00:00 to 2020-06-03 01:57:00 9525.82\n",
      "Resample 3Min - TecAn ( windows 20, windows_limit 100 )\n",
      "Processing 999 of btcusd\n"
     ]
    },
    {
     "data": {
      "application/vnd.jupyter.widget-view+json": {
       "model_id": "4ff2d190028b4257bb737654f2c4758b",
       "version_major": 2,
       "version_minor": 0
      },
      "text/plain": [
       "  0%|          | 0/999 [00:00<?, ?it/s]"
      ]
     },
     "metadata": {},
     "output_type": "display_data"
    },
    {
     "name": "stdout",
     "output_type": "stream",
     "text": [
      "https://www.bitstamp.net/api/v2/ohlc/btcusd/ -> {'currency_pair': 'btcusd', 'step': 180, 'limit': 1000, 'start': 1559343600}\n",
      "Downloaded from 2019-06-01 00:00:00 to 2019-06-03 01:57:00 8681.59\n",
      "Resample 3Min - TecAn ( windows 20, windows_limit 100 )\n",
      "Processing 999 of btcusd\n"
     ]
    },
    {
     "data": {
      "application/vnd.jupyter.widget-view+json": {
       "model_id": "707bd5055e6c4601b0d5cffe84546e1a",
       "version_major": 2,
       "version_minor": 0
      },
      "text/plain": [
       "  0%|          | 0/999 [00:00<?, ?it/s]"
      ]
     },
     "metadata": {},
     "output_type": "display_data"
    },
    {
     "name": "stdout",
     "output_type": "stream",
     "text": [
      "https://www.bitstamp.net/api/v2/ohlc/btcusd/ -> {'currency_pair': 'btcusd', 'step': 180, 'limit': 1000, 'start': 1527807600}\n",
      "Downloaded from 2018-06-01 00:00:00 to 2018-06-03 01:57:00 7653.99\n",
      "Resample 3Min - TecAn ( windows 20, windows_limit 100 )\n",
      "Processing 999 of btcusd\n"
     ]
    },
    {
     "data": {
      "application/vnd.jupyter.widget-view+json": {
       "model_id": "c853665a640648b3868bade4949d9fec",
       "version_major": 2,
       "version_minor": 0
      },
      "text/plain": [
       "  0%|          | 0/999 [00:00<?, ?it/s]"
      ]
     },
     "metadata": {},
     "output_type": "display_data"
    },
    {
     "name": "stdout",
     "output_type": "stream",
     "text": [
      "https://www.bitstamp.net/api/v2/ohlc/btcusd/ -> {'currency_pair': 'btcusd', 'step': 180, 'limit': 1000, 'start': 1517443200}\n",
      "Downloaded from 2018-02-01 00:00:00 to 2018-02-03 01:57:00 8563.00\n",
      "Resample 3Min - TecAn ( windows 20, windows_limit 100 )\n",
      "Processing 999 of btcusd\n"
     ]
    },
    {
     "data": {
      "application/vnd.jupyter.widget-view+json": {
       "model_id": "25e26601be9142aeb4de09d4e82157e9",
       "version_major": 2,
       "version_minor": 0
      },
      "text/plain": [
       "  0%|          | 0/999 [00:00<?, ?it/s]"
      ]
     },
     "metadata": {},
     "output_type": "display_data"
    },
    {
     "name": "stdout",
     "output_type": "stream",
     "text": [
      "https://www.bitstamp.net/api/v2/ohlc/btcusd/ -> {'currency_pair': 'btcusd', 'step': 180, 'limit': 1000, 'start': 1548979200}\n",
      "Downloaded from 2019-02-01 00:00:00 to 2019-02-03 01:57:00 3448.32\n",
      "Resample 3Min - TecAn ( windows 20, windows_limit 100 )\n",
      "Processing 999 of btcusd\n"
     ]
    },
    {
     "data": {
      "application/vnd.jupyter.widget-view+json": {
       "model_id": "f3aec0fd821d4dfdb4f88b381889eaff",
       "version_major": 2,
       "version_minor": 0
      },
      "text/plain": [
       "  0%|          | 0/999 [00:00<?, ?it/s]"
      ]
     },
     "metadata": {},
     "output_type": "display_data"
    },
    {
     "name": "stdout",
     "output_type": "stream",
     "text": [
      "https://www.bitstamp.net/api/v2/ohlc/btcusd/ -> {'currency_pair': 'btcusd', 'step': 180, 'limit': 1000, 'start': 1580515200}\n",
      "Downloaded from 2020-02-01 00:00:00 to 2020-02-03 01:57:00 9540.01\n",
      "Resample 3Min - TecAn ( windows 20, windows_limit 100 )\n",
      "Processing 999 of btcusd\n"
     ]
    },
    {
     "data": {
      "application/vnd.jupyter.widget-view+json": {
       "model_id": "67505ad6eb1248328c85e83e7a7d5238",
       "version_major": 2,
       "version_minor": 0
      },
      "text/plain": [
       "  0%|          | 0/999 [00:00<?, ?it/s]"
      ]
     },
     "metadata": {},
     "output_type": "display_data"
    },
    {
     "name": "stdout",
     "output_type": "stream",
     "text": [
      "https://www.bitstamp.net/api/v2/ohlc/btcusd/ -> {'currency_pair': 'btcusd', 'step': 180, 'limit': 1000, 'start': 1612137600}\n",
      "Downloaded from 2021-02-01 00:00:00 to 2021-02-03 01:57:00 35892.89\n",
      "Resample 3Min - TecAn ( windows 20, windows_limit 100 )\n",
      "Processing 999 of btcusd\n"
     ]
    },
    {
     "data": {
      "application/vnd.jupyter.widget-view+json": {
       "model_id": "87b5cacb36d344dfb6a3d508caeda89c",
       "version_major": 2,
       "version_minor": 0
      },
      "text/plain": [
       "  0%|          | 0/999 [00:00<?, ?it/s]"
      ]
     },
     "metadata": {},
     "output_type": "display_data"
    },
    {
     "name": "stdout",
     "output_type": "stream",
     "text": [
      "https://www.bitstamp.net/api/v2/ohlc/btcusd/ -> {'currency_pair': 'btcusd', 'step': 180, 'limit': 1000, 'start': 1626340500, 'end': 1626369600}\n",
      "Downloaded from 2021-07-13 16:21:00 to 2021-07-15 18:18:00 31279.67\n",
      "Resample 3Min - TecAn ( windows 20, windows_limit 100 )\n",
      "Processing 999 of btcusd\n"
     ]
    },
    {
     "data": {
      "application/vnd.jupyter.widget-view+json": {
       "model_id": "57170279020b40bf9468582f2a668ecb",
       "version_major": 2,
       "version_minor": 0
      },
      "text/plain": [
       "  0%|          | 0/999 [00:00<?, ?it/s]"
      ]
     },
     "metadata": {},
     "output_type": "display_data"
    },
    {
     "name": "stdout",
     "output_type": "stream",
     "text": [
      "https://www.bitstamp.net/api/v2/ohlc/btcusd/ -> {'currency_pair': 'btcusd', 'step': 180, 'limit': 1000, 'start': 1622502000}\n",
      "Downloaded from 2021-06-01 00:00:00 to 2021-06-03 01:57:00 37436.78\n",
      "Resample 3Min - TecAn ( windows 30, windows_limit 100 )\n",
      "Processing 999 of btcusd\n"
     ]
    },
    {
     "data": {
      "application/vnd.jupyter.widget-view+json": {
       "model_id": "5187c635f7814e84ae2e7169b15e6c0c",
       "version_major": 2,
       "version_minor": 0
      },
      "text/plain": [
       "  0%|          | 0/999 [00:00<?, ?it/s]"
      ]
     },
     "metadata": {},
     "output_type": "display_data"
    },
    {
     "name": "stdout",
     "output_type": "stream",
     "text": [
      "https://www.bitstamp.net/api/v2/ohlc/btcusd/ -> {'currency_pair': 'btcusd', 'step': 180, 'limit': 1000, 'start': 1590966000}\n",
      "Downloaded from 2020-06-01 00:00:00 to 2020-06-03 01:57:00 9525.82\n",
      "Resample 3Min - TecAn ( windows 30, windows_limit 100 )\n",
      "Processing 999 of btcusd\n"
     ]
    },
    {
     "data": {
      "application/vnd.jupyter.widget-view+json": {
       "model_id": "9695789c57e844f4b2427caac9cd1cae",
       "version_major": 2,
       "version_minor": 0
      },
      "text/plain": [
       "  0%|          | 0/999 [00:00<?, ?it/s]"
      ]
     },
     "metadata": {},
     "output_type": "display_data"
    },
    {
     "name": "stdout",
     "output_type": "stream",
     "text": [
      "https://www.bitstamp.net/api/v2/ohlc/btcusd/ -> {'currency_pair': 'btcusd', 'step': 180, 'limit': 1000, 'start': 1559343600}\n",
      "Downloaded from 2019-06-01 00:00:00 to 2019-06-03 01:57:00 8681.59\n",
      "Resample 3Min - TecAn ( windows 30, windows_limit 100 )\n",
      "Processing 999 of btcusd\n"
     ]
    },
    {
     "data": {
      "application/vnd.jupyter.widget-view+json": {
       "model_id": "88b8ea2820e945d0965c3690802e1d37",
       "version_major": 2,
       "version_minor": 0
      },
      "text/plain": [
       "  0%|          | 0/999 [00:00<?, ?it/s]"
      ]
     },
     "metadata": {},
     "output_type": "display_data"
    },
    {
     "name": "stdout",
     "output_type": "stream",
     "text": [
      "https://www.bitstamp.net/api/v2/ohlc/btcusd/ -> {'currency_pair': 'btcusd', 'step': 180, 'limit': 1000, 'start': 1527807600}\n",
      "Downloaded from 2018-06-01 00:00:00 to 2018-06-03 01:57:00 7653.99\n",
      "Resample 3Min - TecAn ( windows 30, windows_limit 100 )\n",
      "Processing 999 of btcusd\n"
     ]
    },
    {
     "data": {
      "application/vnd.jupyter.widget-view+json": {
       "model_id": "a03733118f45427cae2fc82eede14805",
       "version_major": 2,
       "version_minor": 0
      },
      "text/plain": [
       "  0%|          | 0/999 [00:00<?, ?it/s]"
      ]
     },
     "metadata": {},
     "output_type": "display_data"
    },
    {
     "name": "stdout",
     "output_type": "stream",
     "text": [
      "https://www.bitstamp.net/api/v2/ohlc/btcusd/ -> {'currency_pair': 'btcusd', 'step': 180, 'limit': 1000, 'start': 1517443200}\n",
      "Downloaded from 2018-02-01 00:00:00 to 2018-02-03 01:57:00 8563.00\n",
      "Resample 3Min - TecAn ( windows 30, windows_limit 100 )\n",
      "Processing 999 of btcusd\n"
     ]
    },
    {
     "data": {
      "application/vnd.jupyter.widget-view+json": {
       "model_id": "b4acb0a7a7434e8fa490191de6118707",
       "version_major": 2,
       "version_minor": 0
      },
      "text/plain": [
       "  0%|          | 0/999 [00:00<?, ?it/s]"
      ]
     },
     "metadata": {},
     "output_type": "display_data"
    },
    {
     "name": "stdout",
     "output_type": "stream",
     "text": [
      "https://www.bitstamp.net/api/v2/ohlc/btcusd/ -> {'currency_pair': 'btcusd', 'step': 180, 'limit': 1000, 'start': 1548979200}\n",
      "Downloaded from 2019-02-01 00:00:00 to 2019-02-03 01:57:00 3448.32\n",
      "Resample 3Min - TecAn ( windows 30, windows_limit 100 )\n",
      "Processing 999 of btcusd\n"
     ]
    },
    {
     "data": {
      "application/vnd.jupyter.widget-view+json": {
       "model_id": "d50b0cb743164292b94844c6d039bc0a",
       "version_major": 2,
       "version_minor": 0
      },
      "text/plain": [
       "  0%|          | 0/999 [00:00<?, ?it/s]"
      ]
     },
     "metadata": {},
     "output_type": "display_data"
    },
    {
     "name": "stdout",
     "output_type": "stream",
     "text": [
      "https://www.bitstamp.net/api/v2/ohlc/btcusd/ -> {'currency_pair': 'btcusd', 'step': 180, 'limit': 1000, 'start': 1580515200}\n",
      "Downloaded from 2020-02-01 00:00:00 to 2020-02-03 01:57:00 9540.01\n",
      "Resample 3Min - TecAn ( windows 30, windows_limit 100 )\n",
      "Processing 999 of btcusd\n"
     ]
    },
    {
     "data": {
      "application/vnd.jupyter.widget-view+json": {
       "model_id": "fb0527330b7f45b89d07062e8a488bf8",
       "version_major": 2,
       "version_minor": 0
      },
      "text/plain": [
       "  0%|          | 0/999 [00:00<?, ?it/s]"
      ]
     },
     "metadata": {},
     "output_type": "display_data"
    },
    {
     "name": "stdout",
     "output_type": "stream",
     "text": [
      "https://www.bitstamp.net/api/v2/ohlc/btcusd/ -> {'currency_pair': 'btcusd', 'step': 180, 'limit': 1000, 'start': 1612137600}\n",
      "Downloaded from 2021-02-01 00:00:00 to 2021-02-03 01:57:00 35892.89\n",
      "Resample 3Min - TecAn ( windows 30, windows_limit 100 )\n",
      "Processing 999 of btcusd\n"
     ]
    },
    {
     "data": {
      "application/vnd.jupyter.widget-view+json": {
       "model_id": "89292d6eb9464d1db0b6f2d32d49a98e",
       "version_major": 2,
       "version_minor": 0
      },
      "text/plain": [
       "  0%|          | 0/999 [00:00<?, ?it/s]"
      ]
     },
     "metadata": {},
     "output_type": "display_data"
    },
    {
     "name": "stdout",
     "output_type": "stream",
     "text": [
      "https://www.bitstamp.net/api/v2/ohlc/btcusd/ -> {'currency_pair': 'btcusd', 'step': 180, 'limit': 1000, 'start': 1626340500, 'end': 1626369600}\n",
      "Downloaded from 2021-07-13 16:21:00 to 2021-07-15 18:18:00 31279.67\n",
      "Resample 3Min - TecAn ( windows 30, windows_limit 100 )\n",
      "Processing 999 of btcusd\n"
     ]
    },
    {
     "data": {
      "application/vnd.jupyter.widget-view+json": {
       "model_id": "a0783be94c3a4075a599c2e3f997a86d",
       "version_major": 2,
       "version_minor": 0
      },
      "text/plain": [
       "  0%|          | 0/999 [00:00<?, ?it/s]"
      ]
     },
     "metadata": {},
     "output_type": "display_data"
    },
    {
     "name": "stdout",
     "output_type": "stream",
     "text": [
      "https://www.bitstamp.net/api/v2/ohlc/btcusd/ -> {'currency_pair': 'btcusd', 'step': 180, 'limit': 1000, 'start': 1622502000}\n",
      "Downloaded from 2021-06-01 00:00:00 to 2021-06-03 01:57:00 37436.78\n",
      "Resample 3Min - TecAn ( windows 40, windows_limit 100 )\n",
      "Processing 999 of btcusd\n"
     ]
    },
    {
     "data": {
      "application/vnd.jupyter.widget-view+json": {
       "model_id": "4f3418bef4a94b539ff6dad6f20ae4a6",
       "version_major": 2,
       "version_minor": 0
      },
      "text/plain": [
       "  0%|          | 0/999 [00:00<?, ?it/s]"
      ]
     },
     "metadata": {},
     "output_type": "display_data"
    },
    {
     "name": "stdout",
     "output_type": "stream",
     "text": [
      "https://www.bitstamp.net/api/v2/ohlc/btcusd/ -> {'currency_pair': 'btcusd', 'step': 180, 'limit': 1000, 'start': 1590966000}\n",
      "Downloaded from 2020-06-01 00:00:00 to 2020-06-03 01:57:00 9525.82\n",
      "Resample 3Min - TecAn ( windows 40, windows_limit 100 )\n",
      "Processing 999 of btcusd\n"
     ]
    },
    {
     "data": {
      "application/vnd.jupyter.widget-view+json": {
       "model_id": "75ddd7cdbc004182abc8b0fb21aa3ea3",
       "version_major": 2,
       "version_minor": 0
      },
      "text/plain": [
       "  0%|          | 0/999 [00:00<?, ?it/s]"
      ]
     },
     "metadata": {},
     "output_type": "display_data"
    },
    {
     "name": "stdout",
     "output_type": "stream",
     "text": [
      "https://www.bitstamp.net/api/v2/ohlc/btcusd/ -> {'currency_pair': 'btcusd', 'step': 180, 'limit': 1000, 'start': 1559343600}\n",
      "Downloaded from 2019-06-01 00:00:00 to 2019-06-03 01:57:00 8681.59\n",
      "Resample 3Min - TecAn ( windows 40, windows_limit 100 )\n",
      "Processing 999 of btcusd\n"
     ]
    },
    {
     "data": {
      "application/vnd.jupyter.widget-view+json": {
       "model_id": "72e8117b8fbb4ac8a6025de08cabf38f",
       "version_major": 2,
       "version_minor": 0
      },
      "text/plain": [
       "  0%|          | 0/999 [00:00<?, ?it/s]"
      ]
     },
     "metadata": {},
     "output_type": "display_data"
    },
    {
     "name": "stdout",
     "output_type": "stream",
     "text": [
      "https://www.bitstamp.net/api/v2/ohlc/btcusd/ -> {'currency_pair': 'btcusd', 'step': 180, 'limit': 1000, 'start': 1527807600}\n",
      "Downloaded from 2018-06-01 00:00:00 to 2018-06-03 01:57:00 7653.99\n",
      "Resample 3Min - TecAn ( windows 40, windows_limit 100 )\n",
      "Processing 999 of btcusd\n"
     ]
    },
    {
     "data": {
      "application/vnd.jupyter.widget-view+json": {
       "model_id": "3e2279a39c354bfa9a244b169fdba7cc",
       "version_major": 2,
       "version_minor": 0
      },
      "text/plain": [
       "  0%|          | 0/999 [00:00<?, ?it/s]"
      ]
     },
     "metadata": {},
     "output_type": "display_data"
    },
    {
     "name": "stdout",
     "output_type": "stream",
     "text": [
      "https://www.bitstamp.net/api/v2/ohlc/btcusd/ -> {'currency_pair': 'btcusd', 'step': 180, 'limit': 1000, 'start': 1517443200}\n",
      "Downloaded from 2018-02-01 00:00:00 to 2018-02-03 01:57:00 8563.00\n",
      "Resample 3Min - TecAn ( windows 40, windows_limit 100 )\n",
      "Processing 999 of btcusd\n"
     ]
    },
    {
     "data": {
      "application/vnd.jupyter.widget-view+json": {
       "model_id": "e7449e9706b34323baddc4543babf473",
       "version_major": 2,
       "version_minor": 0
      },
      "text/plain": [
       "  0%|          | 0/999 [00:00<?, ?it/s]"
      ]
     },
     "metadata": {},
     "output_type": "display_data"
    },
    {
     "name": "stdout",
     "output_type": "stream",
     "text": [
      "https://www.bitstamp.net/api/v2/ohlc/btcusd/ -> {'currency_pair': 'btcusd', 'step': 180, 'limit': 1000, 'start': 1548979200}\n",
      "Downloaded from 2019-02-01 00:00:00 to 2019-02-03 01:57:00 3448.32\n",
      "Resample 3Min - TecAn ( windows 40, windows_limit 100 )\n",
      "Processing 999 of btcusd\n"
     ]
    },
    {
     "data": {
      "application/vnd.jupyter.widget-view+json": {
       "model_id": "60e7cccb8dee4515954da63fa0d178a5",
       "version_major": 2,
       "version_minor": 0
      },
      "text/plain": [
       "  0%|          | 0/999 [00:00<?, ?it/s]"
      ]
     },
     "metadata": {},
     "output_type": "display_data"
    },
    {
     "name": "stdout",
     "output_type": "stream",
     "text": [
      "https://www.bitstamp.net/api/v2/ohlc/btcusd/ -> {'currency_pair': 'btcusd', 'step': 180, 'limit': 1000, 'start': 1580515200}\n",
      "Downloaded from 2020-02-01 00:00:00 to 2020-02-03 01:57:00 9540.01\n",
      "Resample 3Min - TecAn ( windows 40, windows_limit 100 )\n",
      "Processing 999 of btcusd\n"
     ]
    },
    {
     "data": {
      "application/vnd.jupyter.widget-view+json": {
       "model_id": "711270d3129243f6a340aa35d925fbd4",
       "version_major": 2,
       "version_minor": 0
      },
      "text/plain": [
       "  0%|          | 0/999 [00:00<?, ?it/s]"
      ]
     },
     "metadata": {},
     "output_type": "display_data"
    },
    {
     "name": "stdout",
     "output_type": "stream",
     "text": [
      "https://www.bitstamp.net/api/v2/ohlc/btcusd/ -> {'currency_pair': 'btcusd', 'step': 180, 'limit': 1000, 'start': 1612137600}\n",
      "Downloaded from 2021-02-01 00:00:00 to 2021-02-03 01:57:00 35892.89\n",
      "Resample 3Min - TecAn ( windows 40, windows_limit 100 )\n",
      "Processing 999 of btcusd\n"
     ]
    },
    {
     "data": {
      "application/vnd.jupyter.widget-view+json": {
       "model_id": "8722f2b4d3eb40dbb097dea9364a321e",
       "version_major": 2,
       "version_minor": 0
      },
      "text/plain": [
       "  0%|          | 0/999 [00:00<?, ?it/s]"
      ]
     },
     "metadata": {},
     "output_type": "display_data"
    },
    {
     "name": "stdout",
     "output_type": "stream",
     "text": [
      "https://www.bitstamp.net/api/v2/ohlc/btcusd/ -> {'currency_pair': 'btcusd', 'step': 180, 'limit': 1000, 'start': 1626340500, 'end': 1626369600}\n",
      "Downloaded from 2021-07-13 16:21:00 to 2021-07-15 18:18:00 31279.67\n",
      "Resample 3Min - TecAn ( windows 40, windows_limit 100 )\n",
      "Processing 999 of btcusd\n"
     ]
    },
    {
     "data": {
      "application/vnd.jupyter.widget-view+json": {
       "model_id": "6274a9406b1b4b2a812309c59ad2d9f6",
       "version_major": 2,
       "version_minor": 0
      },
      "text/plain": [
       "  0%|          | 0/999 [00:00<?, ?it/s]"
      ]
     },
     "metadata": {},
     "output_type": "display_data"
    },
    {
     "name": "stdout",
     "output_type": "stream",
     "text": [
      "https://www.bitstamp.net/api/v2/ohlc/btcusd/ -> {'currency_pair': 'btcusd', 'step': 60, 'limit': 1000, 'start': 1622502000}\n",
      "Downloaded from 2021-06-01 00:00:00 to 2021-06-01 16:39:00 36197.21\n",
      "Resample 1Min - TecAn ( windows 5, windows_limit 100 )\n",
      "Processing 999 of btcusd\n"
     ]
    },
    {
     "data": {
      "application/vnd.jupyter.widget-view+json": {
       "model_id": "c7ab1e33b8f741129db280cc1963a413",
       "version_major": 2,
       "version_minor": 0
      },
      "text/plain": [
       "  0%|          | 0/999 [00:00<?, ?it/s]"
      ]
     },
     "metadata": {},
     "output_type": "display_data"
    },
    {
     "name": "stdout",
     "output_type": "stream",
     "text": [
      "https://www.bitstamp.net/api/v2/ohlc/btcusd/ -> {'currency_pair': 'btcusd', 'step': 60, 'limit': 1000, 'start': 1590966000}\n",
      "Downloaded from 2020-06-01 00:00:00 to 2020-06-01 16:39:00 9542.01\n",
      "Resample 1Min - TecAn ( windows 5, windows_limit 100 )\n",
      "Processing 999 of btcusd\n"
     ]
    },
    {
     "data": {
      "application/vnd.jupyter.widget-view+json": {
       "model_id": "ea1893871b474d8da7b2984e2ab8e999",
       "version_major": 2,
       "version_minor": 0
      },
      "text/plain": [
       "  0%|          | 0/999 [00:00<?, ?it/s]"
      ]
     },
     "metadata": {},
     "output_type": "display_data"
    },
    {
     "name": "stdout",
     "output_type": "stream",
     "text": [
      "https://www.bitstamp.net/api/v2/ohlc/btcusd/ -> {'currency_pair': 'btcusd', 'step': 60, 'limit': 1000, 'start': 1559343600}\n",
      "Downloaded from 2019-06-01 00:00:00 to 2019-06-01 16:39:00 8532.29\n",
      "Resample 1Min - TecAn ( windows 5, windows_limit 100 )\n",
      "Processing 999 of btcusd\n"
     ]
    },
    {
     "data": {
      "application/vnd.jupyter.widget-view+json": {
       "model_id": "8eb5bdde9b4245bc89a2cc4760c0a74e",
       "version_major": 2,
       "version_minor": 0
      },
      "text/plain": [
       "  0%|          | 0/999 [00:00<?, ?it/s]"
      ]
     },
     "metadata": {},
     "output_type": "display_data"
    },
    {
     "name": "stdout",
     "output_type": "stream",
     "text": [
      "https://www.bitstamp.net/api/v2/ohlc/btcusd/ -> {'currency_pair': 'btcusd', 'step': 60, 'limit': 1000, 'start': 1527807600}\n",
      "Downloaded from 2018-06-01 00:00:00 to 2018-06-01 16:39:00 7437.99\n",
      "Resample 1Min - TecAn ( windows 5, windows_limit 100 )\n",
      "Processing 999 of btcusd\n"
     ]
    },
    {
     "data": {
      "application/vnd.jupyter.widget-view+json": {
       "model_id": "5f8be986a98840d29afc4f72c6b4bab1",
       "version_major": 2,
       "version_minor": 0
      },
      "text/plain": [
       "  0%|          | 0/999 [00:00<?, ?it/s]"
      ]
     },
     "metadata": {},
     "output_type": "display_data"
    },
    {
     "name": "stdout",
     "output_type": "stream",
     "text": [
      "https://www.bitstamp.net/api/v2/ohlc/btcusd/ -> {'currency_pair': 'btcusd', 'step': 60, 'limit': 1000, 'start': 1517443200}\n",
      "Downloaded from 2018-02-01 00:00:00 to 2018-02-01 16:39:00 8850.34\n",
      "Resample 1Min - TecAn ( windows 5, windows_limit 100 )\n",
      "Processing 999 of btcusd\n"
     ]
    },
    {
     "data": {
      "application/vnd.jupyter.widget-view+json": {
       "model_id": "f36795c636fb4ee393d54e2c5db1df9b",
       "version_major": 2,
       "version_minor": 0
      },
      "text/plain": [
       "  0%|          | 0/999 [00:00<?, ?it/s]"
      ]
     },
     "metadata": {},
     "output_type": "display_data"
    },
    {
     "name": "stdout",
     "output_type": "stream",
     "text": [
      "https://www.bitstamp.net/api/v2/ohlc/btcusd/ -> {'currency_pair': 'btcusd', 'step': 60, 'limit': 1000, 'start': 1548979200}\n",
      "Downloaded from 2019-02-01 00:00:00 to 2019-02-01 16:39:00 3423.18\n",
      "Resample 1Min - TecAn ( windows 5, windows_limit 100 )\n",
      "Processing 999 of btcusd\n"
     ]
    },
    {
     "data": {
      "application/vnd.jupyter.widget-view+json": {
       "model_id": "abead93d6406429292ebb73192b8f463",
       "version_major": 2,
       "version_minor": 0
      },
      "text/plain": [
       "  0%|          | 0/999 [00:00<?, ?it/s]"
      ]
     },
     "metadata": {},
     "output_type": "display_data"
    },
    {
     "name": "stdout",
     "output_type": "stream",
     "text": [
      "https://www.bitstamp.net/api/v2/ohlc/btcusd/ -> {'currency_pair': 'btcusd', 'step': 60, 'limit': 1000, 'start': 1580515200}\n",
      "Downloaded from 2020-02-01 00:00:00 to 2020-02-01 16:39:00 9360.98\n",
      "Resample 1Min - TecAn ( windows 5, windows_limit 100 )\n",
      "Processing 999 of btcusd\n"
     ]
    },
    {
     "data": {
      "application/vnd.jupyter.widget-view+json": {
       "model_id": "9ed2bcee93224cc7b799f0809635564f",
       "version_major": 2,
       "version_minor": 0
      },
      "text/plain": [
       "  0%|          | 0/999 [00:00<?, ?it/s]"
      ]
     },
     "metadata": {},
     "output_type": "display_data"
    },
    {
     "name": "stdout",
     "output_type": "stream",
     "text": [
      "https://www.bitstamp.net/api/v2/ohlc/btcusd/ -> {'currency_pair': 'btcusd', 'step': 60, 'limit': 1000, 'start': 1612137600}\n",
      "Downloaded from 2021-02-01 00:00:00 to 2021-02-01 16:39:00 33368.98\n",
      "Resample 1Min - TecAn ( windows 5, windows_limit 100 )\n",
      "Processing 999 of btcusd\n"
     ]
    },
    {
     "data": {
      "application/vnd.jupyter.widget-view+json": {
       "model_id": "c85202df4e1f4ce199c0bfd96812722a",
       "version_major": 2,
       "version_minor": 0
      },
      "text/plain": [
       "  0%|          | 0/999 [00:00<?, ?it/s]"
      ]
     },
     "metadata": {},
     "output_type": "display_data"
    },
    {
     "name": "stdout",
     "output_type": "stream",
     "text": [
      "https://www.bitstamp.net/api/v2/ohlc/btcusd/ -> {'currency_pair': 'btcusd', 'step': 60, 'limit': 1000, 'start': 1626340500, 'end': 1626369600}\n",
      "Downloaded from 2021-07-15 01:41:00 to 2021-07-15 18:20:00 31200.00\n",
      "Resample 1Min - TecAn ( windows 5, windows_limit 100 )\n",
      "Processing 999 of btcusd\n"
     ]
    },
    {
     "data": {
      "application/vnd.jupyter.widget-view+json": {
       "model_id": "372f7bc047e24c93ac14786fbb41f25c",
       "version_major": 2,
       "version_minor": 0
      },
      "text/plain": [
       "  0%|          | 0/999 [00:00<?, ?it/s]"
      ]
     },
     "metadata": {},
     "output_type": "display_data"
    },
    {
     "name": "stdout",
     "output_type": "stream",
     "text": [
      "https://www.bitstamp.net/api/v2/ohlc/btcusd/ -> {'currency_pair': 'btcusd', 'step': 60, 'limit': 1000, 'start': 1622502000}\n",
      "Downloaded from 2021-06-01 00:00:00 to 2021-06-01 16:39:00 36197.21\n",
      "Resample 1Min - TecAn ( windows 10, windows_limit 100 )\n",
      "Processing 999 of btcusd\n"
     ]
    },
    {
     "data": {
      "application/vnd.jupyter.widget-view+json": {
       "model_id": "a1f4fadba6da4ca280667875337d02d7",
       "version_major": 2,
       "version_minor": 0
      },
      "text/plain": [
       "  0%|          | 0/999 [00:00<?, ?it/s]"
      ]
     },
     "metadata": {},
     "output_type": "display_data"
    },
    {
     "name": "stdout",
     "output_type": "stream",
     "text": [
      "https://www.bitstamp.net/api/v2/ohlc/btcusd/ -> {'currency_pair': 'btcusd', 'step': 60, 'limit': 1000, 'start': 1590966000}\n",
      "Downloaded from 2020-06-01 00:00:00 to 2020-06-01 16:39:00 9542.01\n",
      "Resample 1Min - TecAn ( windows 10, windows_limit 100 )\n",
      "Processing 999 of btcusd\n"
     ]
    },
    {
     "data": {
      "application/vnd.jupyter.widget-view+json": {
       "model_id": "88f0052edd474ccbb8d1c6ced86d00b8",
       "version_major": 2,
       "version_minor": 0
      },
      "text/plain": [
       "  0%|          | 0/999 [00:00<?, ?it/s]"
      ]
     },
     "metadata": {},
     "output_type": "display_data"
    },
    {
     "name": "stdout",
     "output_type": "stream",
     "text": [
      "https://www.bitstamp.net/api/v2/ohlc/btcusd/ -> {'currency_pair': 'btcusd', 'step': 60, 'limit': 1000, 'start': 1559343600}\n",
      "Downloaded from 2019-06-01 00:00:00 to 2019-06-01 16:39:00 8532.29\n",
      "Resample 1Min - TecAn ( windows 10, windows_limit 100 )\n",
      "Processing 999 of btcusd\n"
     ]
    },
    {
     "data": {
      "application/vnd.jupyter.widget-view+json": {
       "model_id": "8f12d775055b4d79a38a073adb293776",
       "version_major": 2,
       "version_minor": 0
      },
      "text/plain": [
       "  0%|          | 0/999 [00:00<?, ?it/s]"
      ]
     },
     "metadata": {},
     "output_type": "display_data"
    },
    {
     "name": "stdout",
     "output_type": "stream",
     "text": [
      "https://www.bitstamp.net/api/v2/ohlc/btcusd/ -> {'currency_pair': 'btcusd', 'step': 60, 'limit': 1000, 'start': 1527807600}\n",
      "Downloaded from 2018-06-01 00:00:00 to 2018-06-01 16:39:00 7437.99\n",
      "Resample 1Min - TecAn ( windows 10, windows_limit 100 )\n",
      "Processing 999 of btcusd\n"
     ]
    },
    {
     "data": {
      "application/vnd.jupyter.widget-view+json": {
       "model_id": "eabde1bf96404bae8bc14bef311826a6",
       "version_major": 2,
       "version_minor": 0
      },
      "text/plain": [
       "  0%|          | 0/999 [00:00<?, ?it/s]"
      ]
     },
     "metadata": {},
     "output_type": "display_data"
    },
    {
     "name": "stdout",
     "output_type": "stream",
     "text": [
      "https://www.bitstamp.net/api/v2/ohlc/btcusd/ -> {'currency_pair': 'btcusd', 'step': 60, 'limit': 1000, 'start': 1517443200}\n",
      "Downloaded from 2018-02-01 00:00:00 to 2018-02-01 16:39:00 8850.34\n",
      "Resample 1Min - TecAn ( windows 10, windows_limit 100 )\n",
      "Processing 999 of btcusd\n"
     ]
    },
    {
     "data": {
      "application/vnd.jupyter.widget-view+json": {
       "model_id": "4dcd822b4bdc43aeb9800f3ea7e9256b",
       "version_major": 2,
       "version_minor": 0
      },
      "text/plain": [
       "  0%|          | 0/999 [00:00<?, ?it/s]"
      ]
     },
     "metadata": {},
     "output_type": "display_data"
    },
    {
     "name": "stdout",
     "output_type": "stream",
     "text": [
      "https://www.bitstamp.net/api/v2/ohlc/btcusd/ -> {'currency_pair': 'btcusd', 'step': 60, 'limit': 1000, 'start': 1548979200}\n",
      "Downloaded from 2019-02-01 00:00:00 to 2019-02-01 16:39:00 3423.18\n",
      "Resample 1Min - TecAn ( windows 10, windows_limit 100 )\n",
      "Processing 999 of btcusd\n"
     ]
    },
    {
     "data": {
      "application/vnd.jupyter.widget-view+json": {
       "model_id": "3ba4544f235041fd998654d99b063064",
       "version_major": 2,
       "version_minor": 0
      },
      "text/plain": [
       "  0%|          | 0/999 [00:00<?, ?it/s]"
      ]
     },
     "metadata": {},
     "output_type": "display_data"
    },
    {
     "name": "stdout",
     "output_type": "stream",
     "text": [
      "https://www.bitstamp.net/api/v2/ohlc/btcusd/ -> {'currency_pair': 'btcusd', 'step': 60, 'limit': 1000, 'start': 1580515200}\n",
      "Downloaded from 2020-02-01 00:00:00 to 2020-02-01 16:39:00 9360.98\n",
      "Resample 1Min - TecAn ( windows 10, windows_limit 100 )\n",
      "Processing 999 of btcusd\n"
     ]
    },
    {
     "data": {
      "application/vnd.jupyter.widget-view+json": {
       "model_id": "17aac7423c564f658b8fdce479275491",
       "version_major": 2,
       "version_minor": 0
      },
      "text/plain": [
       "  0%|          | 0/999 [00:00<?, ?it/s]"
      ]
     },
     "metadata": {},
     "output_type": "display_data"
    },
    {
     "name": "stdout",
     "output_type": "stream",
     "text": [
      "https://www.bitstamp.net/api/v2/ohlc/btcusd/ -> {'currency_pair': 'btcusd', 'step': 60, 'limit': 1000, 'start': 1612137600}\n",
      "Downloaded from 2021-02-01 00:00:00 to 2021-02-01 16:39:00 33368.98\n",
      "Resample 1Min - TecAn ( windows 10, windows_limit 100 )\n",
      "Processing 999 of btcusd\n"
     ]
    },
    {
     "data": {
      "application/vnd.jupyter.widget-view+json": {
       "model_id": "b5212c779f4d474097441b2f8a2f38ba",
       "version_major": 2,
       "version_minor": 0
      },
      "text/plain": [
       "  0%|          | 0/999 [00:00<?, ?it/s]"
      ]
     },
     "metadata": {},
     "output_type": "display_data"
    },
    {
     "name": "stdout",
     "output_type": "stream",
     "text": [
      "https://www.bitstamp.net/api/v2/ohlc/btcusd/ -> {'currency_pair': 'btcusd', 'step': 60, 'limit': 1000, 'start': 1626340500, 'end': 1626369600}\n",
      "Downloaded from 2021-07-15 01:41:00 to 2021-07-15 18:20:00 31200.00\n",
      "Resample 1Min - TecAn ( windows 10, windows_limit 100 )\n",
      "Processing 999 of btcusd\n"
     ]
    },
    {
     "data": {
      "application/vnd.jupyter.widget-view+json": {
       "model_id": "77d37c59174940f187a130fc9c48fafb",
       "version_major": 2,
       "version_minor": 0
      },
      "text/plain": [
       "  0%|          | 0/999 [00:00<?, ?it/s]"
      ]
     },
     "metadata": {},
     "output_type": "display_data"
    },
    {
     "name": "stdout",
     "output_type": "stream",
     "text": [
      "https://www.bitstamp.net/api/v2/ohlc/btcusd/ -> {'currency_pair': 'btcusd', 'step': 60, 'limit': 1000, 'start': 1622502000}\n",
      "Downloaded from 2021-06-01 00:00:00 to 2021-06-01 16:39:00 36197.21\n",
      "Resample 1Min - TecAn ( windows 20, windows_limit 100 )\n",
      "Processing 999 of btcusd\n"
     ]
    },
    {
     "data": {
      "application/vnd.jupyter.widget-view+json": {
       "model_id": "b7dc08a73e4f4650a3f0e58744f52da9",
       "version_major": 2,
       "version_minor": 0
      },
      "text/plain": [
       "  0%|          | 0/999 [00:00<?, ?it/s]"
      ]
     },
     "metadata": {},
     "output_type": "display_data"
    },
    {
     "name": "stdout",
     "output_type": "stream",
     "text": [
      "https://www.bitstamp.net/api/v2/ohlc/btcusd/ -> {'currency_pair': 'btcusd', 'step': 60, 'limit': 1000, 'start': 1590966000}\n",
      "Downloaded from 2020-06-01 00:00:00 to 2020-06-01 16:39:00 9542.01\n",
      "Resample 1Min - TecAn ( windows 20, windows_limit 100 )\n",
      "Processing 999 of btcusd\n"
     ]
    },
    {
     "data": {
      "application/vnd.jupyter.widget-view+json": {
       "model_id": "e6e61bbd027248f986df904eda7615b0",
       "version_major": 2,
       "version_minor": 0
      },
      "text/plain": [
       "  0%|          | 0/999 [00:00<?, ?it/s]"
      ]
     },
     "metadata": {},
     "output_type": "display_data"
    },
    {
     "name": "stdout",
     "output_type": "stream",
     "text": [
      "https://www.bitstamp.net/api/v2/ohlc/btcusd/ -> {'currency_pair': 'btcusd', 'step': 60, 'limit': 1000, 'start': 1559343600}\n",
      "Downloaded from 2019-06-01 00:00:00 to 2019-06-01 16:39:00 8532.29\n",
      "Resample 1Min - TecAn ( windows 20, windows_limit 100 )\n",
      "Processing 999 of btcusd\n"
     ]
    },
    {
     "data": {
      "application/vnd.jupyter.widget-view+json": {
       "model_id": "c116729dfead4af498ebf2ecb639b093",
       "version_major": 2,
       "version_minor": 0
      },
      "text/plain": [
       "  0%|          | 0/999 [00:00<?, ?it/s]"
      ]
     },
     "metadata": {},
     "output_type": "display_data"
    },
    {
     "name": "stdout",
     "output_type": "stream",
     "text": [
      "https://www.bitstamp.net/api/v2/ohlc/btcusd/ -> {'currency_pair': 'btcusd', 'step': 60, 'limit': 1000, 'start': 1527807600}\n",
      "Downloaded from 2018-06-01 00:00:00 to 2018-06-01 16:39:00 7437.99\n",
      "Resample 1Min - TecAn ( windows 20, windows_limit 100 )\n",
      "Processing 999 of btcusd\n"
     ]
    },
    {
     "data": {
      "application/vnd.jupyter.widget-view+json": {
       "model_id": "6a90903cda85474cbf10c4a23091cb12",
       "version_major": 2,
       "version_minor": 0
      },
      "text/plain": [
       "  0%|          | 0/999 [00:00<?, ?it/s]"
      ]
     },
     "metadata": {},
     "output_type": "display_data"
    },
    {
     "name": "stdout",
     "output_type": "stream",
     "text": [
      "https://www.bitstamp.net/api/v2/ohlc/btcusd/ -> {'currency_pair': 'btcusd', 'step': 60, 'limit': 1000, 'start': 1517443200}\n",
      "Downloaded from 2018-02-01 00:00:00 to 2018-02-01 16:39:00 8850.34\n",
      "Resample 1Min - TecAn ( windows 20, windows_limit 100 )\n",
      "Processing 999 of btcusd\n"
     ]
    },
    {
     "data": {
      "application/vnd.jupyter.widget-view+json": {
       "model_id": "443aa6dc09d944fc9f5d10291a81afd5",
       "version_major": 2,
       "version_minor": 0
      },
      "text/plain": [
       "  0%|          | 0/999 [00:00<?, ?it/s]"
      ]
     },
     "metadata": {},
     "output_type": "display_data"
    },
    {
     "name": "stdout",
     "output_type": "stream",
     "text": [
      "https://www.bitstamp.net/api/v2/ohlc/btcusd/ -> {'currency_pair': 'btcusd', 'step': 60, 'limit': 1000, 'start': 1548979200}\n",
      "Downloaded from 2019-02-01 00:00:00 to 2019-02-01 16:39:00 3423.18\n",
      "Resample 1Min - TecAn ( windows 20, windows_limit 100 )\n",
      "Processing 999 of btcusd\n"
     ]
    },
    {
     "data": {
      "application/vnd.jupyter.widget-view+json": {
       "model_id": "c5bd9e7d553a4cdfa8345e7326ccfa31",
       "version_major": 2,
       "version_minor": 0
      },
      "text/plain": [
       "  0%|          | 0/999 [00:00<?, ?it/s]"
      ]
     },
     "metadata": {},
     "output_type": "display_data"
    },
    {
     "name": "stdout",
     "output_type": "stream",
     "text": [
      "https://www.bitstamp.net/api/v2/ohlc/btcusd/ -> {'currency_pair': 'btcusd', 'step': 60, 'limit': 1000, 'start': 1580515200}\n",
      "Downloaded from 2020-02-01 00:00:00 to 2020-02-01 16:39:00 9360.98\n",
      "Resample 1Min - TecAn ( windows 20, windows_limit 100 )\n",
      "Processing 999 of btcusd\n"
     ]
    },
    {
     "data": {
      "application/vnd.jupyter.widget-view+json": {
       "model_id": "e220b0d3d33342d1bb02795342a925e3",
       "version_major": 2,
       "version_minor": 0
      },
      "text/plain": [
       "  0%|          | 0/999 [00:00<?, ?it/s]"
      ]
     },
     "metadata": {},
     "output_type": "display_data"
    },
    {
     "name": "stdout",
     "output_type": "stream",
     "text": [
      "https://www.bitstamp.net/api/v2/ohlc/btcusd/ -> {'currency_pair': 'btcusd', 'step': 60, 'limit': 1000, 'start': 1612137600}\n",
      "Downloaded from 2021-02-01 00:00:00 to 2021-02-01 16:39:00 33368.98\n",
      "Resample 1Min - TecAn ( windows 20, windows_limit 100 )\n",
      "Processing 999 of btcusd\n"
     ]
    },
    {
     "data": {
      "application/vnd.jupyter.widget-view+json": {
       "model_id": "9f06738c21b24b8aa7e30d7ec87a5127",
       "version_major": 2,
       "version_minor": 0
      },
      "text/plain": [
       "  0%|          | 0/999 [00:00<?, ?it/s]"
      ]
     },
     "metadata": {},
     "output_type": "display_data"
    },
    {
     "name": "stdout",
     "output_type": "stream",
     "text": [
      "https://www.bitstamp.net/api/v2/ohlc/btcusd/ -> {'currency_pair': 'btcusd', 'step': 60, 'limit': 1000, 'start': 1626340500, 'end': 1626369600}\n",
      "Downloaded from 2021-07-15 01:41:00 to 2021-07-15 18:20:00 31200.00\n",
      "Resample 1Min - TecAn ( windows 20, windows_limit 100 )\n",
      "Processing 999 of btcusd\n"
     ]
    },
    {
     "data": {
      "application/vnd.jupyter.widget-view+json": {
       "model_id": "cddd1452d721421593f52d1e0342e859",
       "version_major": 2,
       "version_minor": 0
      },
      "text/plain": [
       "  0%|          | 0/999 [00:00<?, ?it/s]"
      ]
     },
     "metadata": {},
     "output_type": "display_data"
    },
    {
     "name": "stdout",
     "output_type": "stream",
     "text": [
      "https://www.bitstamp.net/api/v2/ohlc/btcusd/ -> {'currency_pair': 'btcusd', 'step': 60, 'limit': 1000, 'start': 1622502000}\n",
      "Downloaded from 2021-06-01 00:00:00 to 2021-06-01 16:39:00 36197.21\n",
      "Resample 1Min - TecAn ( windows 30, windows_limit 100 )\n",
      "Processing 999 of btcusd\n"
     ]
    },
    {
     "data": {
      "application/vnd.jupyter.widget-view+json": {
       "model_id": "94fb38529a0148edbf19d4c1be193c54",
       "version_major": 2,
       "version_minor": 0
      },
      "text/plain": [
       "  0%|          | 0/999 [00:00<?, ?it/s]"
      ]
     },
     "metadata": {},
     "output_type": "display_data"
    },
    {
     "name": "stdout",
     "output_type": "stream",
     "text": [
      "https://www.bitstamp.net/api/v2/ohlc/btcusd/ -> {'currency_pair': 'btcusd', 'step': 60, 'limit': 1000, 'start': 1590966000}\n",
      "Downloaded from 2020-06-01 00:00:00 to 2020-06-01 16:39:00 9542.01\n",
      "Resample 1Min - TecAn ( windows 30, windows_limit 100 )\n",
      "Processing 999 of btcusd\n"
     ]
    },
    {
     "data": {
      "application/vnd.jupyter.widget-view+json": {
       "model_id": "90b445ce025042be8685ebc5351adab4",
       "version_major": 2,
       "version_minor": 0
      },
      "text/plain": [
       "  0%|          | 0/999 [00:00<?, ?it/s]"
      ]
     },
     "metadata": {},
     "output_type": "display_data"
    },
    {
     "name": "stdout",
     "output_type": "stream",
     "text": [
      "https://www.bitstamp.net/api/v2/ohlc/btcusd/ -> {'currency_pair': 'btcusd', 'step': 60, 'limit': 1000, 'start': 1559343600}\n",
      "Downloaded from 2019-06-01 00:00:00 to 2019-06-01 16:39:00 8532.29\n",
      "Resample 1Min - TecAn ( windows 30, windows_limit 100 )\n",
      "Processing 999 of btcusd\n"
     ]
    },
    {
     "data": {
      "application/vnd.jupyter.widget-view+json": {
       "model_id": "c3735215c3524ba0b499e1b222a450d7",
       "version_major": 2,
       "version_minor": 0
      },
      "text/plain": [
       "  0%|          | 0/999 [00:00<?, ?it/s]"
      ]
     },
     "metadata": {},
     "output_type": "display_data"
    },
    {
     "name": "stdout",
     "output_type": "stream",
     "text": [
      "https://www.bitstamp.net/api/v2/ohlc/btcusd/ -> {'currency_pair': 'btcusd', 'step': 60, 'limit': 1000, 'start': 1527807600}\n",
      "Downloaded from 2018-06-01 00:00:00 to 2018-06-01 16:39:00 7437.99\n",
      "Resample 1Min - TecAn ( windows 30, windows_limit 100 )\n",
      "Processing 999 of btcusd\n"
     ]
    },
    {
     "data": {
      "application/vnd.jupyter.widget-view+json": {
       "model_id": "6b5379af9d8f43f3aabecaf736be0d94",
       "version_major": 2,
       "version_minor": 0
      },
      "text/plain": [
       "  0%|          | 0/999 [00:00<?, ?it/s]"
      ]
     },
     "metadata": {},
     "output_type": "display_data"
    },
    {
     "name": "stdout",
     "output_type": "stream",
     "text": [
      "https://www.bitstamp.net/api/v2/ohlc/btcusd/ -> {'currency_pair': 'btcusd', 'step': 60, 'limit': 1000, 'start': 1517443200}\n",
      "Downloaded from 2018-02-01 00:00:00 to 2018-02-01 16:39:00 8850.34\n",
      "Resample 1Min - TecAn ( windows 30, windows_limit 100 )\n",
      "Processing 999 of btcusd\n"
     ]
    },
    {
     "data": {
      "application/vnd.jupyter.widget-view+json": {
       "model_id": "f8da64294753405d8c13471c864eda8c",
       "version_major": 2,
       "version_minor": 0
      },
      "text/plain": [
       "  0%|          | 0/999 [00:00<?, ?it/s]"
      ]
     },
     "metadata": {},
     "output_type": "display_data"
    },
    {
     "name": "stdout",
     "output_type": "stream",
     "text": [
      "https://www.bitstamp.net/api/v2/ohlc/btcusd/ -> {'currency_pair': 'btcusd', 'step': 60, 'limit': 1000, 'start': 1548979200}\n",
      "Downloaded from 2019-02-01 00:00:00 to 2019-02-01 16:39:00 3423.18\n",
      "Resample 1Min - TecAn ( windows 30, windows_limit 100 )\n",
      "Processing 999 of btcusd\n"
     ]
    },
    {
     "data": {
      "application/vnd.jupyter.widget-view+json": {
       "model_id": "999057df257b4a61921b3cbd09a46e65",
       "version_major": 2,
       "version_minor": 0
      },
      "text/plain": [
       "  0%|          | 0/999 [00:00<?, ?it/s]"
      ]
     },
     "metadata": {},
     "output_type": "display_data"
    },
    {
     "name": "stdout",
     "output_type": "stream",
     "text": [
      "https://www.bitstamp.net/api/v2/ohlc/btcusd/ -> {'currency_pair': 'btcusd', 'step': 60, 'limit': 1000, 'start': 1580515200}\n",
      "Downloaded from 2020-02-01 00:00:00 to 2020-02-01 16:39:00 9360.98\n",
      "Resample 1Min - TecAn ( windows 30, windows_limit 100 )\n",
      "Processing 999 of btcusd\n"
     ]
    },
    {
     "data": {
      "application/vnd.jupyter.widget-view+json": {
       "model_id": "4fc3d6c6170c45618d4b4f05707f59ef",
       "version_major": 2,
       "version_minor": 0
      },
      "text/plain": [
       "  0%|          | 0/999 [00:00<?, ?it/s]"
      ]
     },
     "metadata": {},
     "output_type": "display_data"
    },
    {
     "name": "stdout",
     "output_type": "stream",
     "text": [
      "https://www.bitstamp.net/api/v2/ohlc/btcusd/ -> {'currency_pair': 'btcusd', 'step': 60, 'limit': 1000, 'start': 1612137600}\n",
      "Downloaded from 2021-02-01 00:00:00 to 2021-02-01 16:39:00 33368.98\n",
      "Resample 1Min - TecAn ( windows 30, windows_limit 100 )\n",
      "Processing 999 of btcusd\n"
     ]
    },
    {
     "data": {
      "application/vnd.jupyter.widget-view+json": {
       "model_id": "90276755d88e4c079790356e44c1f16a",
       "version_major": 2,
       "version_minor": 0
      },
      "text/plain": [
       "  0%|          | 0/999 [00:00<?, ?it/s]"
      ]
     },
     "metadata": {},
     "output_type": "display_data"
    },
    {
     "name": "stdout",
     "output_type": "stream",
     "text": [
      "https://www.bitstamp.net/api/v2/ohlc/btcusd/ -> {'currency_pair': 'btcusd', 'step': 60, 'limit': 1000, 'start': 1626340500, 'end': 1626369600}\n",
      "Downloaded from 2021-07-15 01:41:00 to 2021-07-15 18:20:00 31200.00\n",
      "Resample 1Min - TecAn ( windows 30, windows_limit 100 )\n",
      "Processing 999 of btcusd\n"
     ]
    },
    {
     "data": {
      "application/vnd.jupyter.widget-view+json": {
       "model_id": "d8cb6feac47e4bd1abd2d0b82a9e5e8f",
       "version_major": 2,
       "version_minor": 0
      },
      "text/plain": [
       "  0%|          | 0/999 [00:00<?, ?it/s]"
      ]
     },
     "metadata": {},
     "output_type": "display_data"
    },
    {
     "name": "stdout",
     "output_type": "stream",
     "text": [
      "https://www.bitstamp.net/api/v2/ohlc/btcusd/ -> {'currency_pair': 'btcusd', 'step': 60, 'limit': 1000, 'start': 1622502000}\n",
      "Downloaded from 2021-06-01 00:00:00 to 2021-06-01 16:39:00 36197.21\n",
      "Resample 1Min - TecAn ( windows 40, windows_limit 100 )\n",
      "Processing 999 of btcusd\n"
     ]
    },
    {
     "data": {
      "application/vnd.jupyter.widget-view+json": {
       "model_id": "53eeb2081fca44f7998b7e59da94326d",
       "version_major": 2,
       "version_minor": 0
      },
      "text/plain": [
       "  0%|          | 0/999 [00:00<?, ?it/s]"
      ]
     },
     "metadata": {},
     "output_type": "display_data"
    },
    {
     "name": "stdout",
     "output_type": "stream",
     "text": [
      "https://www.bitstamp.net/api/v2/ohlc/btcusd/ -> {'currency_pair': 'btcusd', 'step': 60, 'limit': 1000, 'start': 1590966000}\n",
      "Downloaded from 2020-06-01 00:00:00 to 2020-06-01 16:39:00 9542.01\n",
      "Resample 1Min - TecAn ( windows 40, windows_limit 100 )\n",
      "Processing 999 of btcusd\n"
     ]
    },
    {
     "data": {
      "application/vnd.jupyter.widget-view+json": {
       "model_id": "46d7f91385dd425da1f749af62adc791",
       "version_major": 2,
       "version_minor": 0
      },
      "text/plain": [
       "  0%|          | 0/999 [00:00<?, ?it/s]"
      ]
     },
     "metadata": {},
     "output_type": "display_data"
    },
    {
     "name": "stdout",
     "output_type": "stream",
     "text": [
      "https://www.bitstamp.net/api/v2/ohlc/btcusd/ -> {'currency_pair': 'btcusd', 'step': 60, 'limit': 1000, 'start': 1559343600}\n",
      "Downloaded from 2019-06-01 00:00:00 to 2019-06-01 16:39:00 8532.29\n",
      "Resample 1Min - TecAn ( windows 40, windows_limit 100 )\n",
      "Processing 999 of btcusd\n"
     ]
    },
    {
     "data": {
      "application/vnd.jupyter.widget-view+json": {
       "model_id": "209a768ac2be4211940f2627130aebed",
       "version_major": 2,
       "version_minor": 0
      },
      "text/plain": [
       "  0%|          | 0/999 [00:00<?, ?it/s]"
      ]
     },
     "metadata": {},
     "output_type": "display_data"
    },
    {
     "name": "stdout",
     "output_type": "stream",
     "text": [
      "https://www.bitstamp.net/api/v2/ohlc/btcusd/ -> {'currency_pair': 'btcusd', 'step': 60, 'limit': 1000, 'start': 1527807600}\n",
      "Downloaded from 2018-06-01 00:00:00 to 2018-06-01 16:39:00 7437.99\n",
      "Resample 1Min - TecAn ( windows 40, windows_limit 100 )\n",
      "Processing 999 of btcusd\n"
     ]
    },
    {
     "data": {
      "application/vnd.jupyter.widget-view+json": {
       "model_id": "8d6716c52a0d4890b37d9d3b2a7d69b2",
       "version_major": 2,
       "version_minor": 0
      },
      "text/plain": [
       "  0%|          | 0/999 [00:00<?, ?it/s]"
      ]
     },
     "metadata": {},
     "output_type": "display_data"
    },
    {
     "name": "stdout",
     "output_type": "stream",
     "text": [
      "https://www.bitstamp.net/api/v2/ohlc/btcusd/ -> {'currency_pair': 'btcusd', 'step': 60, 'limit': 1000, 'start': 1517443200}\n",
      "Downloaded from 2018-02-01 00:00:00 to 2018-02-01 16:39:00 8850.34\n",
      "Resample 1Min - TecAn ( windows 40, windows_limit 100 )\n",
      "Processing 999 of btcusd\n"
     ]
    },
    {
     "data": {
      "application/vnd.jupyter.widget-view+json": {
       "model_id": "e940cfdbb46e415187f347822904a733",
       "version_major": 2,
       "version_minor": 0
      },
      "text/plain": [
       "  0%|          | 0/999 [00:00<?, ?it/s]"
      ]
     },
     "metadata": {},
     "output_type": "display_data"
    },
    {
     "name": "stdout",
     "output_type": "stream",
     "text": [
      "https://www.bitstamp.net/api/v2/ohlc/btcusd/ -> {'currency_pair': 'btcusd', 'step': 60, 'limit': 1000, 'start': 1548979200}\n",
      "Downloaded from 2019-02-01 00:00:00 to 2019-02-01 16:39:00 3423.18\n",
      "Resample 1Min - TecAn ( windows 40, windows_limit 100 )\n",
      "Processing 999 of btcusd\n"
     ]
    },
    {
     "data": {
      "application/vnd.jupyter.widget-view+json": {
       "model_id": "c6d088b0adc948eaafc3e059006c8a29",
       "version_major": 2,
       "version_minor": 0
      },
      "text/plain": [
       "  0%|          | 0/999 [00:00<?, ?it/s]"
      ]
     },
     "metadata": {},
     "output_type": "display_data"
    },
    {
     "name": "stdout",
     "output_type": "stream",
     "text": [
      "https://www.bitstamp.net/api/v2/ohlc/btcusd/ -> {'currency_pair': 'btcusd', 'step': 60, 'limit': 1000, 'start': 1580515200}\n",
      "Downloaded from 2020-02-01 00:00:00 to 2020-02-01 16:39:00 9360.98\n",
      "Resample 1Min - TecAn ( windows 40, windows_limit 100 )\n",
      "Processing 999 of btcusd\n"
     ]
    },
    {
     "data": {
      "application/vnd.jupyter.widget-view+json": {
       "model_id": "e961ada2ef3c466f8f8f7c5c5b065d67",
       "version_major": 2,
       "version_minor": 0
      },
      "text/plain": [
       "  0%|          | 0/999 [00:00<?, ?it/s]"
      ]
     },
     "metadata": {},
     "output_type": "display_data"
    },
    {
     "name": "stdout",
     "output_type": "stream",
     "text": [
      "https://www.bitstamp.net/api/v2/ohlc/btcusd/ -> {'currency_pair': 'btcusd', 'step': 60, 'limit': 1000, 'start': 1612137600}\n",
      "Downloaded from 2021-02-01 00:00:00 to 2021-02-01 16:39:00 33368.98\n",
      "Resample 1Min - TecAn ( windows 40, windows_limit 100 )\n",
      "Processing 999 of btcusd\n"
     ]
    },
    {
     "data": {
      "application/vnd.jupyter.widget-view+json": {
       "model_id": "1542016d5ebf43f1b190832735240509",
       "version_major": 2,
       "version_minor": 0
      },
      "text/plain": [
       "  0%|          | 0/999 [00:00<?, ?it/s]"
      ]
     },
     "metadata": {},
     "output_type": "display_data"
    },
    {
     "name": "stdout",
     "output_type": "stream",
     "text": [
      "https://www.bitstamp.net/api/v2/ohlc/btcusd/ -> {'currency_pair': 'btcusd', 'step': 60, 'limit': 1000, 'start': 1626340500, 'end': 1626369600}\n",
      "Downloaded from 2021-07-15 01:41:00 to 2021-07-15 18:20:00 31200.00\n",
      "Resample 1Min - TecAn ( windows 40, windows_limit 100 )\n",
      "Processing 999 of btcusd\n"
     ]
    },
    {
     "data": {
      "application/vnd.jupyter.widget-view+json": {
       "model_id": "e7a7ee86dd744c41a1b56a0330967bfc",
       "version_major": 2,
       "version_minor": 0
      },
      "text/plain": [
       "  0%|          | 0/999 [00:00<?, ?it/s]"
      ]
     },
     "metadata": {},
     "output_type": "display_data"
    },
    {
     "name": "stdout",
     "output_type": "stream",
     "text": [
      "CPU times: user 1h 39min 6s, sys: 8min 7s, total: 1h 47min 14s\n",
      "Wall time: 1h 43min 39s\n"
     ]
    }
   ],
   "source": [
    "%%time\n",
    "\n",
    "for minute in tqdm(minutes):\n",
    "    for win in windows:\n",
    "        load(minute, win)"
   ]
  },
  {
   "cell_type": "code",
   "execution_count": 8,
   "metadata": {
    "scrolled": true
   },
   "outputs": [
    {
     "data": {
      "application/vnd.jupyter.widget-view+json": {
       "model_id": "0fdfb33207d040eaa46c1237a22bd6d3",
       "version_major": 2,
       "version_minor": 0
      },
      "text/plain": [
       "  0%|          | 0/4 [00:00<?, ?it/s]"
      ]
     },
     "metadata": {},
     "output_type": "display_data"
    },
    {
     "ename": "KeyboardInterrupt",
     "evalue": "",
     "output_type": "error",
     "traceback": [
      "\u001b[0;31m---------------------------------------------------------------------------\u001b[0m",
      "\u001b[0;31mKeyboardInterrupt\u001b[0m                         Traceback (most recent call last)",
      "\u001b[0;32m<timed exec>\u001b[0m in \u001b[0;36m<module>\u001b[0;34m\u001b[0m\n",
      "\u001b[0;31mKeyboardInterrupt\u001b[0m: "
     ]
    }
   ],
   "source": [
    "%%time\n",
    "\n",
    "import time\n",
    "\n",
    "threads = []\n",
    "for minute in tqdm(minutes):\n",
    "    threads = []\n",
    "    for win in windows:\n",
    "        t = threading.Thread(target=load, args=(minute, win,))\n",
    "        t.setDaemon(True)\n",
    "        #t.start()\n",
    "        threads.append(t)\n",
    "        #time.sleep(1)\n",
    "    for th in threads:\n",
    "        #th.start()\n",
    "        time.sleep(30)\n",
    "    for th in threads:\n",
    "        th.join()\n"
   ]
  },
  {
   "cell_type": "code",
   "execution_count": null,
   "metadata": {},
   "outputs": [],
   "source": []
  }
 ],
 "metadata": {
  "accelerator": "GPU",
  "colab": {
   "collapsed_sections": [],
   "name": "enviroment",
   "provenance": [],
   "version": "0.3.2"
  },
  "kernelspec": {
   "display_name": "Python 3",
   "language": "python",
   "name": "python3"
  },
  "language_info": {
   "codemirror_mode": {
    "name": "ipython",
    "version": 3
   },
   "file_extension": ".py",
   "mimetype": "text/x-python",
   "name": "python",
   "nbconvert_exporter": "python",
   "pygments_lexer": "ipython3",
   "version": "3.9.5"
  }
 },
 "nbformat": 4,
 "nbformat_minor": 4
}
