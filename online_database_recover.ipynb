{
 "cells": [
  {
   "cell_type": "code",
   "execution_count": 1,
   "metadata": {
    "colab": {
     "base_uri": "https://localhost:8080/",
     "height": 170
    },
    "colab_type": "code",
    "executionInfo": {
     "elapsed": 503083,
     "status": "ok",
     "timestamp": 1568068274112,
     "user": {
      "displayName": "Samir Moreira Antônio",
      "photoUrl": "https://lh3.googleusercontent.com/a-/AAuE7mCsh3ldsSLN0VnFRYp341EzO_UyuRNKmLncUbMA3Q=s64",
      "userId": "14581632111443153742"
     },
     "user_tz": -60
    },
    "id": "fGVQczSlF-9o",
    "outputId": "e3a06798-f737-48d9-ec6e-d3784cec3115"
   },
   "outputs": [],
   "source": [
    "import pandas as pd\n",
    "import data_util\n",
    "from tqdm.notebook import tqdm\n",
    "from data_generator import DataGenerator\n",
    "from tec_an import TecAn\n",
    "import numpy as np\n",
    "from data_util import *\n",
    "from backtest import *\n",
    "import threading\n",
    "import multiprocessing\n",
    "from data_agent import DataAgent, TacProcess\n",
    "from joblib import dump, load"
   ]
  },
  {
   "cell_type": "code",
   "execution_count": 2,
   "metadata": {},
   "outputs": [],
   "source": [
    "#train_start_list = [1622502000, 1590966000, 1559343600, 1580515200, 1612137600]\n",
    "train_start_list = [1622502000, 1590966000, 1559343600, 1527807600, 1517443200, 1548979200, 1580515200, 1612137600]\n",
    "#train_start_list = [1612137600]\n",
    "train_keys = [\"btcusd\", \"ethusd\", \"ltcusd\", \"ltcbtc\"]\n",
    "#train_keys = []\n",
    "#train_keys = [\"btcusd\"]\n",
    "val_start = 1623711600\n",
    "val_end = 1626303600\n",
    "val_keys = [\"btcusd\", \"ethusd\", \"ltcusd\", \"ltcbtc\"]"
   ]
  },
  {
   "cell_type": "code",
   "execution_count": 3,
   "metadata": {},
   "outputs": [],
   "source": [
    "\n",
    "steps = 1\n",
    "\n",
    "windows = [5, 10, 20, 30, 40]\n",
    "\n",
    "minutes = [15, 5, 3]\n",
    "\n",
    "load_from_disk =  False\n"
   ]
  },
  {
   "cell_type": "code",
   "execution_count": 4,
   "metadata": {},
   "outputs": [],
   "source": [
    "def get_online_data(minutes, source_data_generator, load_from_disk, file_prefix = \"\"):\n",
    "    \n",
    "    online = OnLineDataProvider(\n",
    "                 source_data_generator = source_data_generator,\n",
    "                 minutes = minutes,\n",
    "                 train_keys = train_keys,\n",
    "                 train_limit = 1000,\n",
    "                 val_limit = 1000,\n",
    "                 val_keys = val_keys,\n",
    "                 val_start = val_start,\n",
    "                 val_end = val_end,\n",
    "                 train_start_list = train_start_list\n",
    "    )\n",
    "\n",
    "    online_path = f'data/online{file_prefix}_{minutes}'\n",
    "    \n",
    "    online.load_cache()\n",
    "    online.source_data_generator = None\n",
    "    dump(online, online_path)\n",
    "    \n",
    "    return online"
   ]
  },
  {
   "cell_type": "code",
   "execution_count": 5,
   "metadata": {},
   "outputs": [],
   "source": [
    "data = []\n",
    "\n",
    "def load(minute, win):\n",
    "    tec = TecAn(windows = win, windows_limit = 100)\n",
    "    source_data_generator = SourceDataGenerator(tec = tec)\n",
    "    online = get_online_data(minutes = minute, \n",
    "                     source_data_generator = source_data_generator, \n",
    "                     load_from_disk = load_from_disk, \n",
    "                     file_prefix = win)\n",
    "    data.append(online)\n",
    "    \n"
   ]
  },
  {
   "cell_type": "code",
   "execution_count": 7,
   "metadata": {},
   "outputs": [
    {
     "data": {
      "application/vnd.jupyter.widget-view+json": {
       "model_id": "f53c215ddfe444128ed5df0d8831e1d6",
       "version_major": 2,
       "version_minor": 0
      },
      "text/plain": [
       "  0%|          | 0/15 [00:00<?, ?it/s]"
      ]
     },
     "metadata": {},
     "output_type": "display_data"
    },
    {
     "name": "stdout",
     "output_type": "stream",
     "text": [
      "https://www.bitstamp.net/api/v2/ohlc/btcusd/?&currency_pair=btcusd&step=900&limit=1000&start=1622502000\n",
      "Downloaded from 2021-06-01 00:00:00 to 2021-06-11 09:45:00 37001.01\n",
      "Resample 15Min - TecAn ( windows 5, windows_limit 100 )\n",
      "Processing 999 of btcusd\n"
     ]
    },
    {
     "data": {
      "application/vnd.jupyter.widget-view+json": {
       "model_id": "d4cf6e6c087945b48a0a51609fb79f8b",
       "version_major": 2,
       "version_minor": 0
      },
      "text/plain": [
       "  0%|          | 0/999 [00:00<?, ?it/s]"
      ]
     },
     "metadata": {},
     "output_type": "display_data"
    },
    {
     "name": "stdout",
     "output_type": "stream",
     "text": [
      "https://www.bitstamp.net/api/v2/ohlc/ethusd/?&currency_pair=ethusd&step=900&limit=1000&start=1622502000\n",
      "Downloaded from 2021-06-01 00:00:00 to 2021-06-11 09:45:00 2450.30\n",
      "Resample 15Min - TecAn ( windows 5, windows_limit 100 )\n",
      "Processing 999 of ethusd\n"
     ]
    },
    {
     "data": {
      "application/vnd.jupyter.widget-view+json": {
       "model_id": "ac001f255d2d4551876c5fd3b124e5b7",
       "version_major": 2,
       "version_minor": 0
      },
      "text/plain": [
       "  0%|          | 0/999 [00:00<?, ?it/s]"
      ]
     },
     "metadata": {},
     "output_type": "display_data"
    },
    {
     "name": "stdout",
     "output_type": "stream",
     "text": [
      "https://www.bitstamp.net/api/v2/ohlc/ltcusd/?&currency_pair=ltcusd&step=900&limit=1000&start=1622502000\n",
      "Downloaded from 2021-06-01 00:00:00 to 2021-06-11 09:45:00 169.68\n",
      "Resample 15Min - TecAn ( windows 5, windows_limit 100 )\n",
      "Processing 999 of ltcusd\n"
     ]
    },
    {
     "data": {
      "application/vnd.jupyter.widget-view+json": {
       "model_id": "7c2fc3171d564421a2bf564296d94e45",
       "version_major": 2,
       "version_minor": 0
      },
      "text/plain": [
       "  0%|          | 0/999 [00:00<?, ?it/s]"
      ]
     },
     "metadata": {},
     "output_type": "display_data"
    },
    {
     "name": "stdout",
     "output_type": "stream",
     "text": [
      "https://www.bitstamp.net/api/v2/ohlc/ltcbtc/?&currency_pair=ltcbtc&step=900&limit=1000&start=1622502000\n",
      "Downloaded from 2021-06-01 00:00:00 to 2021-06-11 09:45:00 0.00458926\n",
      "Resample 15Min - TecAn ( windows 5, windows_limit 100 )\n",
      "Processing 999 of ltcbtc\n"
     ]
    },
    {
     "data": {
      "application/vnd.jupyter.widget-view+json": {
       "model_id": "77e5cda1727840dc814633f50fade45b",
       "version_major": 2,
       "version_minor": 0
      },
      "text/plain": [
       "  0%|          | 0/999 [00:00<?, ?it/s]"
      ]
     },
     "metadata": {},
     "output_type": "display_data"
    },
    {
     "name": "stdout",
     "output_type": "stream",
     "text": [
      "https://www.bitstamp.net/api/v2/ohlc/btcusd/?&currency_pair=btcusd&step=900&limit=1000&start=1590966000\n",
      "Downloaded from 2020-06-01 00:00:00 to 2020-06-11 09:45:00 9820.86\n",
      "Resample 15Min - TecAn ( windows 5, windows_limit 100 )\n",
      "Processing 999 of btcusd\n"
     ]
    },
    {
     "data": {
      "application/vnd.jupyter.widget-view+json": {
       "model_id": "bc42ef98b6214a77a111c5a26d6f08a4",
       "version_major": 2,
       "version_minor": 0
      },
      "text/plain": [
       "  0%|          | 0/999 [00:00<?, ?it/s]"
      ]
     },
     "metadata": {},
     "output_type": "display_data"
    },
    {
     "name": "stdout",
     "output_type": "stream",
     "text": [
      "https://www.bitstamp.net/api/v2/ohlc/ethusd/?&currency_pair=ethusd&step=900&limit=1000&start=1590966000\n",
      "Downloaded from 2020-06-01 00:00:00 to 2020-06-11 09:45:00 246.70\n",
      "Resample 15Min - TecAn ( windows 5, windows_limit 100 )\n",
      "Processing 999 of ethusd\n"
     ]
    },
    {
     "data": {
      "application/vnd.jupyter.widget-view+json": {
       "model_id": "9ecbf7cbe6ee435cac12a117528f9623",
       "version_major": 2,
       "version_minor": 0
      },
      "text/plain": [
       "  0%|          | 0/999 [00:00<?, ?it/s]"
      ]
     },
     "metadata": {},
     "output_type": "display_data"
    },
    {
     "name": "stdout",
     "output_type": "stream",
     "text": [
      "https://www.bitstamp.net/api/v2/ohlc/ltcusd/?&currency_pair=ltcusd&step=900&limit=1000&start=1590966000\n",
      "Downloaded from 2020-06-01 00:00:00 to 2020-06-11 09:45:00 46.34\n",
      "Resample 15Min - TecAn ( windows 5, windows_limit 100 )\n",
      "Processing 999 of ltcusd\n"
     ]
    },
    {
     "data": {
      "application/vnd.jupyter.widget-view+json": {
       "model_id": "e7ceef81ff304752b5c34981750b0e7b",
       "version_major": 2,
       "version_minor": 0
      },
      "text/plain": [
       "  0%|          | 0/999 [00:00<?, ?it/s]"
      ]
     },
     "metadata": {},
     "output_type": "display_data"
    },
    {
     "name": "stdout",
     "output_type": "stream",
     "text": [
      "https://www.bitstamp.net/api/v2/ohlc/ltcbtc/?&currency_pair=ltcbtc&step=900&limit=1000&start=1590966000\n",
      "Downloaded from 2020-06-01 00:00:00 to 2020-06-11 09:45:00 0.00470967\n",
      "Resample 15Min - TecAn ( windows 5, windows_limit 100 )\n",
      "Processing 999 of ltcbtc\n"
     ]
    },
    {
     "data": {
      "application/vnd.jupyter.widget-view+json": {
       "model_id": "1b7f6e2da8fc4a3785d508a1f633fc01",
       "version_major": 2,
       "version_minor": 0
      },
      "text/plain": [
       "  0%|          | 0/999 [00:00<?, ?it/s]"
      ]
     },
     "metadata": {},
     "output_type": "display_data"
    },
    {
     "name": "stdout",
     "output_type": "stream",
     "text": [
      "https://www.bitstamp.net/api/v2/ohlc/btcusd/?&currency_pair=btcusd&step=900&limit=1000&start=1559343600\n",
      "Downloaded from 2019-06-01 00:00:00 to 2019-06-11 09:45:00 7961.80\n",
      "Resample 15Min - TecAn ( windows 5, windows_limit 100 )\n",
      "Processing 999 of btcusd\n"
     ]
    },
    {
     "data": {
      "application/vnd.jupyter.widget-view+json": {
       "model_id": "5a4d44ac4c4f41e386904047ace3f31a",
       "version_major": 2,
       "version_minor": 0
      },
      "text/plain": [
       "  0%|          | 0/999 [00:00<?, ?it/s]"
      ]
     },
     "metadata": {},
     "output_type": "display_data"
    },
    {
     "name": "stdout",
     "output_type": "stream",
     "text": [
      "https://www.bitstamp.net/api/v2/ohlc/ethusd/?&currency_pair=ethusd&step=900&limit=1000&start=1559343600\n",
      "Downloaded from 2019-06-01 00:00:00 to 2019-06-11 09:45:00 247.16\n",
      "Resample 15Min - TecAn ( windows 5, windows_limit 100 )\n",
      "Processing 999 of ethusd\n"
     ]
    },
    {
     "data": {
      "application/vnd.jupyter.widget-view+json": {
       "model_id": "bef50070a826444ebd78ee2f634661a8",
       "version_major": 2,
       "version_minor": 0
      },
      "text/plain": [
       "  0%|          | 0/999 [00:00<?, ?it/s]"
      ]
     },
     "metadata": {},
     "output_type": "display_data"
    },
    {
     "name": "stdout",
     "output_type": "stream",
     "text": [
      "https://www.bitstamp.net/api/v2/ohlc/ltcusd/?&currency_pair=ltcusd&step=900&limit=1000&start=1559343600\n",
      "Downloaded from 2019-06-01 00:00:00 to 2019-06-11 09:45:00 129.66\n",
      "Resample 15Min - TecAn ( windows 5, windows_limit 100 )\n",
      "Processing 999 of ltcusd\n"
     ]
    },
    {
     "data": {
      "application/vnd.jupyter.widget-view+json": {
       "model_id": "9ba9bbfa6fd34f2c89ef47844005c6ab",
       "version_major": 2,
       "version_minor": 0
      },
      "text/plain": [
       "  0%|          | 0/999 [00:00<?, ?it/s]"
      ]
     },
     "metadata": {},
     "output_type": "display_data"
    },
    {
     "name": "stdout",
     "output_type": "stream",
     "text": [
      "https://www.bitstamp.net/api/v2/ohlc/ltcbtc/?&currency_pair=ltcbtc&step=900&limit=1000&start=1559343600\n",
      "Downloaded from 2019-06-01 00:00:00 to 2019-06-11 09:45:00 0.01629743\n",
      "Resample 15Min - TecAn ( windows 5, windows_limit 100 )\n",
      "Processing 999 of ltcbtc\n"
     ]
    },
    {
     "data": {
      "application/vnd.jupyter.widget-view+json": {
       "model_id": "e5b741ac91534fc4a1894d7c06966c70",
       "version_major": 2,
       "version_minor": 0
      },
      "text/plain": [
       "  0%|          | 0/999 [00:00<?, ?it/s]"
      ]
     },
     "metadata": {},
     "output_type": "display_data"
    },
    {
     "name": "stdout",
     "output_type": "stream",
     "text": [
      "https://www.bitstamp.net/api/v2/ohlc/btcusd/?&currency_pair=btcusd&step=900&limit=1000&start=1527807600\n",
      "Downloaded from 2018-06-01 00:00:00 to 2018-06-11 09:45:00 6795.82\n",
      "Resample 15Min - TecAn ( windows 5, windows_limit 100 )\n",
      "Processing 999 of btcusd\n"
     ]
    },
    {
     "data": {
      "application/vnd.jupyter.widget-view+json": {
       "model_id": "9b0d7d47d8ad4a64b017e3d90b92366a",
       "version_major": 2,
       "version_minor": 0
      },
      "text/plain": [
       "  0%|          | 0/999 [00:00<?, ?it/s]"
      ]
     },
     "metadata": {},
     "output_type": "display_data"
    },
    {
     "name": "stdout",
     "output_type": "stream",
     "text": [
      "https://www.bitstamp.net/api/v2/ohlc/ethusd/?&currency_pair=ethusd&step=900&limit=1000&start=1527807600\n",
      "Downloaded from 2018-06-01 00:00:00 to 2018-06-11 09:45:00 532.74\n",
      "Resample 15Min - TecAn ( windows 5, windows_limit 100 )\n",
      "Processing 999 of ethusd\n"
     ]
    },
    {
     "data": {
      "application/vnd.jupyter.widget-view+json": {
       "model_id": "fa7eeba99a4441838f56722c67f94b96",
       "version_major": 2,
       "version_minor": 0
      },
      "text/plain": [
       "  0%|          | 0/999 [00:00<?, ?it/s]"
      ]
     },
     "metadata": {},
     "output_type": "display_data"
    },
    {
     "name": "stdout",
     "output_type": "stream",
     "text": [
      "https://www.bitstamp.net/api/v2/ohlc/ltcusd/?&currency_pair=ltcusd&step=900&limit=1000&start=1527807600\n",
      "Downloaded from 2018-06-01 00:00:00 to 2018-06-11 09:45:00 107.31\n",
      "Resample 15Min - TecAn ( windows 5, windows_limit 100 )\n",
      "Processing 999 of ltcusd\n"
     ]
    },
    {
     "data": {
      "application/vnd.jupyter.widget-view+json": {
       "model_id": "2715d4ac6fc14997a942f09e79b860a1",
       "version_major": 2,
       "version_minor": 0
      },
      "text/plain": [
       "  0%|          | 0/999 [00:00<?, ?it/s]"
      ]
     },
     "metadata": {},
     "output_type": "display_data"
    },
    {
     "name": "stdout",
     "output_type": "stream",
     "text": [
      "https://www.bitstamp.net/api/v2/ohlc/ltcbtc/?&currency_pair=ltcbtc&step=900&limit=1000&start=1527807600\n",
      "Downloaded from 2018-06-01 00:00:00 to 2018-06-11 09:45:00 0.01578000\n",
      "Resample 15Min - TecAn ( windows 5, windows_limit 100 )\n",
      "Processing 999 of ltcbtc\n"
     ]
    },
    {
     "data": {
      "application/vnd.jupyter.widget-view+json": {
       "model_id": "630c612a038346389537b6d26914a3d6",
       "version_major": 2,
       "version_minor": 0
      },
      "text/plain": [
       "  0%|          | 0/999 [00:00<?, ?it/s]"
      ]
     },
     "metadata": {},
     "output_type": "display_data"
    },
    {
     "name": "stdout",
     "output_type": "stream",
     "text": [
      "https://www.bitstamp.net/api/v2/ohlc/btcusd/?&currency_pair=btcusd&step=900&limit=1000&start=1517443200\n",
      "Downloaded from 2018-02-01 00:00:00 to 2018-02-11 09:45:00 8012.89\n",
      "Resample 15Min - TecAn ( windows 5, windows_limit 100 )\n",
      "Processing 999 of btcusd\n"
     ]
    },
    {
     "data": {
      "application/vnd.jupyter.widget-view+json": {
       "model_id": "165027bf53654d198ce92f48bf2e7d5f",
       "version_major": 2,
       "version_minor": 0
      },
      "text/plain": [
       "  0%|          | 0/999 [00:00<?, ?it/s]"
      ]
     },
     "metadata": {},
     "output_type": "display_data"
    },
    {
     "name": "stdout",
     "output_type": "stream",
     "text": [
      "https://www.bitstamp.net/api/v2/ohlc/ethusd/?&currency_pair=ethusd&step=900&limit=1000&start=1517443200\n",
      "Downloaded from 2018-02-01 00:00:00 to 2018-02-11 09:45:00 800.68\n",
      "Resample 15Min - TecAn ( windows 5, windows_limit 100 )\n",
      "Processing 999 of ethusd\n"
     ]
    },
    {
     "data": {
      "application/vnd.jupyter.widget-view+json": {
       "model_id": "cc4a5c1ba5694f8bb87be96013c5f1dc",
       "version_major": 2,
       "version_minor": 0
      },
      "text/plain": [
       "  0%|          | 0/999 [00:00<?, ?it/s]"
      ]
     },
     "metadata": {},
     "output_type": "display_data"
    },
    {
     "name": "stdout",
     "output_type": "stream",
     "text": [
      "https://www.bitstamp.net/api/v2/ohlc/ltcusd/?&currency_pair=ltcusd&step=900&limit=1000&start=1517443200\n",
      "Downloaded from 2018-02-01 00:00:00 to 2018-02-11 09:45:00 144.90\n",
      "Resample 15Min - TecAn ( windows 5, windows_limit 100 )\n",
      "Processing 999 of ltcusd\n"
     ]
    },
    {
     "data": {
      "application/vnd.jupyter.widget-view+json": {
       "model_id": "f096348e13314279b9fd3b087729b5ce",
       "version_major": 2,
       "version_minor": 0
      },
      "text/plain": [
       "  0%|          | 0/999 [00:00<?, ?it/s]"
      ]
     },
     "metadata": {},
     "output_type": "display_data"
    },
    {
     "name": "stdout",
     "output_type": "stream",
     "text": [
      "https://www.bitstamp.net/api/v2/ohlc/ltcbtc/?&currency_pair=ltcbtc&step=900&limit=1000&start=1517443200\n",
      "Downloaded from 2018-02-01 00:00:00 to 2018-02-11 09:45:00 0.01806022\n",
      "Resample 15Min - TecAn ( windows 5, windows_limit 100 )\n",
      "Processing 999 of ltcbtc\n"
     ]
    },
    {
     "data": {
      "application/vnd.jupyter.widget-view+json": {
       "model_id": "e2d61183d8a8423286f1db318de6df46",
       "version_major": 2,
       "version_minor": 0
      },
      "text/plain": [
       "  0%|          | 0/999 [00:00<?, ?it/s]"
      ]
     },
     "metadata": {},
     "output_type": "display_data"
    },
    {
     "name": "stdout",
     "output_type": "stream",
     "text": [
      "https://www.bitstamp.net/api/v2/ohlc/btcusd/?&currency_pair=btcusd&step=900&limit=1000&start=1548979200\n",
      "Downloaded from 2019-02-01 00:00:00 to 2019-02-11 09:45:00 3594.91\n",
      "Resample 15Min - TecAn ( windows 5, windows_limit 100 )\n",
      "Processing 999 of btcusd\n"
     ]
    },
    {
     "data": {
      "application/vnd.jupyter.widget-view+json": {
       "model_id": "487321f54f9e4013b5f1c938d0fc86a7",
       "version_major": 2,
       "version_minor": 0
      },
      "text/plain": [
       "  0%|          | 0/999 [00:00<?, ?it/s]"
      ]
     },
     "metadata": {},
     "output_type": "display_data"
    },
    {
     "name": "stdout",
     "output_type": "stream",
     "text": [
      "https://www.bitstamp.net/api/v2/ohlc/ethusd/?&currency_pair=ethusd&step=900&limit=1000&start=1548979200\n",
      "Downloaded from 2019-02-01 00:00:00 to 2019-02-11 09:45:00 119.46\n",
      "Resample 15Min - TecAn ( windows 5, windows_limit 100 )\n",
      "Processing 999 of ethusd\n"
     ]
    },
    {
     "data": {
      "application/vnd.jupyter.widget-view+json": {
       "model_id": "db9553dc5d4c4878a5e5de96d16ad133",
       "version_major": 2,
       "version_minor": 0
      },
      "text/plain": [
       "  0%|          | 0/999 [00:00<?, ?it/s]"
      ]
     },
     "metadata": {},
     "output_type": "display_data"
    },
    {
     "name": "stdout",
     "output_type": "stream",
     "text": [
      "https://www.bitstamp.net/api/v2/ohlc/ltcusd/?&currency_pair=ltcusd&step=900&limit=1000&start=1548979200\n",
      "Downloaded from 2019-02-01 00:00:00 to 2019-02-11 09:45:00 43.79\n",
      "Resample 15Min - TecAn ( windows 5, windows_limit 100 )\n",
      "Processing 999 of ltcusd\n"
     ]
    },
    {
     "data": {
      "application/vnd.jupyter.widget-view+json": {
       "model_id": "d8f28a8af034462aba6b981dbc5107eb",
       "version_major": 2,
       "version_minor": 0
      },
      "text/plain": [
       "  0%|          | 0/999 [00:00<?, ?it/s]"
      ]
     },
     "metadata": {},
     "output_type": "display_data"
    },
    {
     "name": "stdout",
     "output_type": "stream",
     "text": [
      "https://www.bitstamp.net/api/v2/ohlc/ltcbtc/?&currency_pair=ltcbtc&step=900&limit=1000&start=1548979200\n",
      "Downloaded from 2019-02-01 00:00:00 to 2019-02-11 09:45:00 0.01221493\n",
      "Resample 15Min - TecAn ( windows 5, windows_limit 100 )\n",
      "Processing 999 of ltcbtc\n"
     ]
    },
    {
     "data": {
      "application/vnd.jupyter.widget-view+json": {
       "model_id": "6e59a2e85bac47e6a526350093491410",
       "version_major": 2,
       "version_minor": 0
      },
      "text/plain": [
       "  0%|          | 0/999 [00:00<?, ?it/s]"
      ]
     },
     "metadata": {},
     "output_type": "display_data"
    },
    {
     "name": "stdout",
     "output_type": "stream",
     "text": [
      "https://www.bitstamp.net/api/v2/ohlc/btcusd/?&currency_pair=btcusd&step=900&limit=1000&start=1580515200\n",
      "Downloaded from 2020-02-01 00:00:00 to 2020-02-11 09:45:00 9783.54\n",
      "Resample 15Min - TecAn ( windows 5, windows_limit 100 )\n",
      "Processing 999 of btcusd\n"
     ]
    },
    {
     "data": {
      "application/vnd.jupyter.widget-view+json": {
       "model_id": "2965f7ce1f934bd8b6365288298672de",
       "version_major": 2,
       "version_minor": 0
      },
      "text/plain": [
       "  0%|          | 0/999 [00:00<?, ?it/s]"
      ]
     },
     "metadata": {},
     "output_type": "display_data"
    },
    {
     "name": "stdout",
     "output_type": "stream",
     "text": [
      "https://www.bitstamp.net/api/v2/ohlc/ethusd/?&currency_pair=ethusd&step=900&limit=1000&start=1580515200\n",
      "Downloaded from 2020-02-01 00:00:00 to 2020-02-11 09:45:00 221.25\n",
      "Resample 15Min - TecAn ( windows 5, windows_limit 100 )\n",
      "Processing 999 of ethusd\n"
     ]
    },
    {
     "data": {
      "application/vnd.jupyter.widget-view+json": {
       "model_id": "2493743fd54e49c4be9605ebe4a63f60",
       "version_major": 2,
       "version_minor": 0
      },
      "text/plain": [
       "  0%|          | 0/999 [00:00<?, ?it/s]"
      ]
     },
     "metadata": {},
     "output_type": "display_data"
    },
    {
     "name": "stdout",
     "output_type": "stream",
     "text": [
      "https://www.bitstamp.net/api/v2/ohlc/ltcusd/?&currency_pair=ltcusd&step=900&limit=1000&start=1580515200\n",
      "Downloaded from 2020-02-01 00:00:00 to 2020-02-11 09:45:00 74.22\n",
      "Resample 15Min - TecAn ( windows 5, windows_limit 100 )\n",
      "Processing 999 of ltcusd\n"
     ]
    },
    {
     "data": {
      "application/vnd.jupyter.widget-view+json": {
       "model_id": "6927a85051eb4353802cb02d40db134f",
       "version_major": 2,
       "version_minor": 0
      },
      "text/plain": [
       "  0%|          | 0/999 [00:00<?, ?it/s]"
      ]
     },
     "metadata": {},
     "output_type": "display_data"
    },
    {
     "name": "stdout",
     "output_type": "stream",
     "text": [
      "https://www.bitstamp.net/api/v2/ohlc/ltcbtc/?&currency_pair=ltcbtc&step=900&limit=1000&start=1580515200\n",
      "Downloaded from 2020-02-01 00:00:00 to 2020-02-11 09:45:00 0.00757449\n",
      "Resample 15Min - TecAn ( windows 5, windows_limit 100 )\n",
      "Processing 999 of ltcbtc\n"
     ]
    },
    {
     "data": {
      "application/vnd.jupyter.widget-view+json": {
       "model_id": "ef158735db3649a7a38dcfd847851c43",
       "version_major": 2,
       "version_minor": 0
      },
      "text/plain": [
       "  0%|          | 0/999 [00:00<?, ?it/s]"
      ]
     },
     "metadata": {},
     "output_type": "display_data"
    },
    {
     "name": "stdout",
     "output_type": "stream",
     "text": [
      "https://www.bitstamp.net/api/v2/ohlc/btcusd/?&currency_pair=btcusd&step=900&limit=1000&start=1612137600\n",
      "Downloaded from 2021-02-01 00:00:00 to 2021-02-11 09:45:00 45154.95\n",
      "Resample 15Min - TecAn ( windows 5, windows_limit 100 )\n",
      "Processing 999 of btcusd\n"
     ]
    },
    {
     "data": {
      "application/vnd.jupyter.widget-view+json": {
       "model_id": "459d2686ac5b40f98c2bf6dadaba1e5f",
       "version_major": 2,
       "version_minor": 0
      },
      "text/plain": [
       "  0%|          | 0/999 [00:00<?, ?it/s]"
      ]
     },
     "metadata": {},
     "output_type": "display_data"
    },
    {
     "name": "stdout",
     "output_type": "stream",
     "text": [
      "https://www.bitstamp.net/api/v2/ohlc/ethusd/?&currency_pair=ethusd&step=900&limit=1000&start=1612137600\n",
      "Downloaded from 2021-02-01 00:00:00 to 2021-02-11 09:45:00 1757.24\n",
      "Resample 15Min - TecAn ( windows 5, windows_limit 100 )\n",
      "Processing 999 of ethusd\n"
     ]
    },
    {
     "data": {
      "application/vnd.jupyter.widget-view+json": {
       "model_id": "db412ace665d4d2db328b35261cb5960",
       "version_major": 2,
       "version_minor": 0
      },
      "text/plain": [
       "  0%|          | 0/999 [00:00<?, ?it/s]"
      ]
     },
     "metadata": {},
     "output_type": "display_data"
    },
    {
     "name": "stdout",
     "output_type": "stream",
     "text": [
      "https://www.bitstamp.net/api/v2/ohlc/ltcusd/?&currency_pair=ltcusd&step=900&limit=1000&start=1612137600\n",
      "Downloaded from 2021-02-01 00:00:00 to 2021-02-11 09:45:00 186.32\n",
      "Resample 15Min - TecAn ( windows 5, windows_limit 100 )\n",
      "Processing 999 of ltcusd\n"
     ]
    },
    {
     "data": {
      "application/vnd.jupyter.widget-view+json": {
       "model_id": "ad7b0ab902fe480189a10a2d4d2ca052",
       "version_major": 2,
       "version_minor": 0
      },
      "text/plain": [
       "  0%|          | 0/999 [00:00<?, ?it/s]"
      ]
     },
     "metadata": {},
     "output_type": "display_data"
    },
    {
     "name": "stdout",
     "output_type": "stream",
     "text": [
      "https://www.bitstamp.net/api/v2/ohlc/ltcbtc/?&currency_pair=ltcbtc&step=900&limit=1000&start=1612137600\n",
      "Downloaded from 2021-02-01 00:00:00 to 2021-02-11 09:45:00 0.00413427\n",
      "Resample 15Min - TecAn ( windows 5, windows_limit 100 )\n",
      "Processing 999 of ltcbtc\n"
     ]
    },
    {
     "data": {
      "application/vnd.jupyter.widget-view+json": {
       "model_id": "69519274acc44a2ba4f763011d9d5969",
       "version_major": 2,
       "version_minor": 0
      },
      "text/plain": [
       "  0%|          | 0/999 [00:00<?, ?it/s]"
      ]
     },
     "metadata": {},
     "output_type": "display_data"
    },
    {
     "name": "stdout",
     "output_type": "stream",
     "text": [
      "https://www.bitstamp.net/api/v2/ohlc/btcusd/?&currency_pair=btcusd&step=900&limit=1000&start=1623711600\n",
      "https://www.bitstamp.net/api/v2/ohlc/btcusd/?&currency_pair=btcusd&step=900&limit=1000&start=1624610700\n",
      "https://www.bitstamp.net/api/v2/ohlc/btcusd/?&currency_pair=btcusd&step=900&limit=1000&start=1625509800\n",
      "Downloaded from 2021-06-15 00:00:00 to 2021-07-15 00:15:00 32832.43\n",
      "Resample 15Min - TecAn ( windows 5, windows_limit 100 )\n",
      "Processing 2883 of btcusd\n"
     ]
    },
    {
     "data": {
      "application/vnd.jupyter.widget-view+json": {
       "model_id": "8244a9c8acab4443ba503c397e8ad10d",
       "version_major": 2,
       "version_minor": 0
      },
      "text/plain": [
       "  0%|          | 0/2883 [00:00<?, ?it/s]"
      ]
     },
     "metadata": {},
     "output_type": "display_data"
    },
    {
     "name": "stdout",
     "output_type": "stream",
     "text": [
      "https://www.bitstamp.net/api/v2/ohlc/ethusd/?&currency_pair=ethusd&step=900&limit=1000&start=1623711600\n",
      "https://www.bitstamp.net/api/v2/ohlc/ethusd/?&currency_pair=ethusd&step=900&limit=1000&start=1624610700\n",
      "https://www.bitstamp.net/api/v2/ohlc/ethusd/?&currency_pair=ethusd&step=900&limit=1000&start=1625509800\n",
      "Downloaded from 2021-06-15 00:00:00 to 2021-07-15 00:15:00 1992.89\n",
      "Resample 15Min - TecAn ( windows 5, windows_limit 100 )\n",
      "Processing 2883 of ethusd\n"
     ]
    },
    {
     "data": {
      "application/vnd.jupyter.widget-view+json": {
       "model_id": "3af2cf8d5eb04e11956150fe58829a16",
       "version_major": 2,
       "version_minor": 0
      },
      "text/plain": [
       "  0%|          | 0/2883 [00:00<?, ?it/s]"
      ]
     },
     "metadata": {},
     "output_type": "display_data"
    },
    {
     "name": "stdout",
     "output_type": "stream",
     "text": [
      "https://www.bitstamp.net/api/v2/ohlc/ltcusd/?&currency_pair=ltcusd&step=900&limit=1000&start=1623711600\n",
      "https://www.bitstamp.net/api/v2/ohlc/ltcusd/?&currency_pair=ltcusd&step=900&limit=1000&start=1624610700\n",
      "https://www.bitstamp.net/api/v2/ohlc/ltcusd/?&currency_pair=ltcusd&step=900&limit=1000&start=1625509800\n",
      "Downloaded from 2021-06-15 00:00:00 to 2021-07-15 00:15:00 130.91\n",
      "Resample 15Min - TecAn ( windows 5, windows_limit 100 )\n",
      "Processing 2883 of ltcusd\n"
     ]
    },
    {
     "data": {
      "application/vnd.jupyter.widget-view+json": {
       "model_id": "ad2252c22781492797547f723c39cca5",
       "version_major": 2,
       "version_minor": 0
      },
      "text/plain": [
       "  0%|          | 0/2883 [00:00<?, ?it/s]"
      ]
     },
     "metadata": {},
     "output_type": "display_data"
    },
    {
     "name": "stdout",
     "output_type": "stream",
     "text": [
      "https://www.bitstamp.net/api/v2/ohlc/ltcbtc/?&currency_pair=ltcbtc&step=900&limit=1000&start=1623711600\n",
      "https://www.bitstamp.net/api/v2/ohlc/ltcbtc/?&currency_pair=ltcbtc&step=900&limit=1000&start=1624610700\n",
      "https://www.bitstamp.net/api/v2/ohlc/ltcbtc/?&currency_pair=ltcbtc&step=900&limit=1000&start=1625509800\n",
      "Downloaded from 2021-06-15 00:00:00 to 2021-07-15 00:15:00 0.00398379\n",
      "Resample 15Min - TecAn ( windows 5, windows_limit 100 )\n",
      "Processing 2883 of ltcbtc\n"
     ]
    },
    {
     "data": {
      "application/vnd.jupyter.widget-view+json": {
       "model_id": "01aa7087a8804070bd80854330b09b47",
       "version_major": 2,
       "version_minor": 0
      },
      "text/plain": [
       "  0%|          | 0/2883 [00:00<?, ?it/s]"
      ]
     },
     "metadata": {},
     "output_type": "display_data"
    },
    {
     "name": "stdout",
     "output_type": "stream",
     "text": [
      "https://www.bitstamp.net/api/v2/ohlc/btcusd/?&currency_pair=btcusd&step=900&limit=1000&start=1622502000\n",
      "Downloaded from 2021-06-01 00:00:00 to 2021-06-11 09:45:00 37001.01\n",
      "Resample 15Min - TecAn ( windows 10, windows_limit 100 )\n",
      "Processing 999 of btcusd\n"
     ]
    },
    {
     "data": {
      "application/vnd.jupyter.widget-view+json": {
       "model_id": "981b9cc8759e4814ba9703e33221bf44",
       "version_major": 2,
       "version_minor": 0
      },
      "text/plain": [
       "  0%|          | 0/999 [00:00<?, ?it/s]"
      ]
     },
     "metadata": {},
     "output_type": "display_data"
    },
    {
     "name": "stdout",
     "output_type": "stream",
     "text": [
      "https://www.bitstamp.net/api/v2/ohlc/ethusd/?&currency_pair=ethusd&step=900&limit=1000&start=1622502000\n",
      "Downloaded from 2021-06-01 00:00:00 to 2021-06-11 09:45:00 2450.30\n",
      "Resample 15Min - TecAn ( windows 10, windows_limit 100 )\n",
      "Processing 999 of ethusd\n"
     ]
    },
    {
     "data": {
      "application/vnd.jupyter.widget-view+json": {
       "model_id": "7d470fa0d893402aa47742d2f2a24160",
       "version_major": 2,
       "version_minor": 0
      },
      "text/plain": [
       "  0%|          | 0/999 [00:00<?, ?it/s]"
      ]
     },
     "metadata": {},
     "output_type": "display_data"
    },
    {
     "name": "stdout",
     "output_type": "stream",
     "text": [
      "https://www.bitstamp.net/api/v2/ohlc/ltcusd/?&currency_pair=ltcusd&step=900&limit=1000&start=1622502000\n",
      "Downloaded from 2021-06-01 00:00:00 to 2021-06-11 09:45:00 169.68\n",
      "Resample 15Min - TecAn ( windows 10, windows_limit 100 )\n",
      "Processing 999 of ltcusd\n"
     ]
    },
    {
     "data": {
      "application/vnd.jupyter.widget-view+json": {
       "model_id": "fc74ce2da2a3405382f1c9d817731989",
       "version_major": 2,
       "version_minor": 0
      },
      "text/plain": [
       "  0%|          | 0/999 [00:00<?, ?it/s]"
      ]
     },
     "metadata": {},
     "output_type": "display_data"
    },
    {
     "name": "stdout",
     "output_type": "stream",
     "text": [
      "https://www.bitstamp.net/api/v2/ohlc/ltcbtc/?&currency_pair=ltcbtc&step=900&limit=1000&start=1622502000\n",
      "Downloaded from 2021-06-01 00:00:00 to 2021-06-11 09:45:00 0.00458926\n",
      "Resample 15Min - TecAn ( windows 10, windows_limit 100 )\n",
      "Processing 999 of ltcbtc\n"
     ]
    },
    {
     "data": {
      "application/vnd.jupyter.widget-view+json": {
       "model_id": "71c89c59e1be44b3bc384c432373768c",
       "version_major": 2,
       "version_minor": 0
      },
      "text/plain": [
       "  0%|          | 0/999 [00:00<?, ?it/s]"
      ]
     },
     "metadata": {},
     "output_type": "display_data"
    },
    {
     "name": "stdout",
     "output_type": "stream",
     "text": [
      "https://www.bitstamp.net/api/v2/ohlc/btcusd/?&currency_pair=btcusd&step=900&limit=1000&start=1590966000\n",
      "Downloaded from 2020-06-01 00:00:00 to 2020-06-11 09:45:00 9820.86\n",
      "Resample 15Min - TecAn ( windows 10, windows_limit 100 )\n",
      "Processing 999 of btcusd\n"
     ]
    },
    {
     "data": {
      "application/vnd.jupyter.widget-view+json": {
       "model_id": "243984f35c8e4e3b82f6ab2e60c56317",
       "version_major": 2,
       "version_minor": 0
      },
      "text/plain": [
       "  0%|          | 0/999 [00:00<?, ?it/s]"
      ]
     },
     "metadata": {},
     "output_type": "display_data"
    },
    {
     "name": "stdout",
     "output_type": "stream",
     "text": [
      "https://www.bitstamp.net/api/v2/ohlc/ethusd/?&currency_pair=ethusd&step=900&limit=1000&start=1590966000\n",
      "Downloaded from 2020-06-01 00:00:00 to 2020-06-11 09:45:00 246.70\n",
      "Resample 15Min - TecAn ( windows 10, windows_limit 100 )\n",
      "Processing 999 of ethusd\n"
     ]
    },
    {
     "data": {
      "application/vnd.jupyter.widget-view+json": {
       "model_id": "4deefd009c0c414689a4073972a62b20",
       "version_major": 2,
       "version_minor": 0
      },
      "text/plain": [
       "  0%|          | 0/999 [00:00<?, ?it/s]"
      ]
     },
     "metadata": {},
     "output_type": "display_data"
    },
    {
     "name": "stdout",
     "output_type": "stream",
     "text": [
      "https://www.bitstamp.net/api/v2/ohlc/ltcusd/?&currency_pair=ltcusd&step=900&limit=1000&start=1590966000\n",
      "Downloaded from 2020-06-01 00:00:00 to 2020-06-11 09:45:00 46.34\n",
      "Resample 15Min - TecAn ( windows 10, windows_limit 100 )\n",
      "Processing 999 of ltcusd\n"
     ]
    },
    {
     "data": {
      "application/vnd.jupyter.widget-view+json": {
       "model_id": "a9170325721144be9f07b15d41e9b13b",
       "version_major": 2,
       "version_minor": 0
      },
      "text/plain": [
       "  0%|          | 0/999 [00:00<?, ?it/s]"
      ]
     },
     "metadata": {},
     "output_type": "display_data"
    },
    {
     "name": "stdout",
     "output_type": "stream",
     "text": [
      "https://www.bitstamp.net/api/v2/ohlc/ltcbtc/?&currency_pair=ltcbtc&step=900&limit=1000&start=1590966000\n",
      "Downloaded from 2020-06-01 00:00:00 to 2020-06-11 09:45:00 0.00470967\n",
      "Resample 15Min - TecAn ( windows 10, windows_limit 100 )\n",
      "Processing 999 of ltcbtc\n"
     ]
    },
    {
     "data": {
      "application/vnd.jupyter.widget-view+json": {
       "model_id": "47f42d0dd75f450db5f6abd09d74132a",
       "version_major": 2,
       "version_minor": 0
      },
      "text/plain": [
       "  0%|          | 0/999 [00:00<?, ?it/s]"
      ]
     },
     "metadata": {},
     "output_type": "display_data"
    },
    {
     "name": "stdout",
     "output_type": "stream",
     "text": [
      "https://www.bitstamp.net/api/v2/ohlc/btcusd/?&currency_pair=btcusd&step=900&limit=1000&start=1559343600\n",
      "Downloaded from 2019-06-01 00:00:00 to 2019-06-11 09:45:00 7961.80\n",
      "Resample 15Min - TecAn ( windows 10, windows_limit 100 )\n",
      "Processing 999 of btcusd\n"
     ]
    },
    {
     "data": {
      "application/vnd.jupyter.widget-view+json": {
       "model_id": "0ec60d1970f94c21a3bbb8292ef7a801",
       "version_major": 2,
       "version_minor": 0
      },
      "text/plain": [
       "  0%|          | 0/999 [00:00<?, ?it/s]"
      ]
     },
     "metadata": {},
     "output_type": "display_data"
    },
    {
     "name": "stdout",
     "output_type": "stream",
     "text": [
      "https://www.bitstamp.net/api/v2/ohlc/ethusd/?&currency_pair=ethusd&step=900&limit=1000&start=1559343600\n",
      "Downloaded from 2019-06-01 00:00:00 to 2019-06-11 09:45:00 247.16\n",
      "Resample 15Min - TecAn ( windows 10, windows_limit 100 )\n",
      "Processing 999 of ethusd\n"
     ]
    },
    {
     "data": {
      "application/vnd.jupyter.widget-view+json": {
       "model_id": "da71dc5c1c62422da6f8f2018bffb1fd",
       "version_major": 2,
       "version_minor": 0
      },
      "text/plain": [
       "  0%|          | 0/999 [00:00<?, ?it/s]"
      ]
     },
     "metadata": {},
     "output_type": "display_data"
    },
    {
     "name": "stdout",
     "output_type": "stream",
     "text": [
      "https://www.bitstamp.net/api/v2/ohlc/ltcusd/?&currency_pair=ltcusd&step=900&limit=1000&start=1559343600\n",
      "Downloaded from 2019-06-01 00:00:00 to 2019-06-11 09:45:00 129.66\n",
      "Resample 15Min - TecAn ( windows 10, windows_limit 100 )\n",
      "Processing 999 of ltcusd\n"
     ]
    },
    {
     "data": {
      "application/vnd.jupyter.widget-view+json": {
       "model_id": "e9471f45491140a2bc6e9e5133ddf71a",
       "version_major": 2,
       "version_minor": 0
      },
      "text/plain": [
       "  0%|          | 0/999 [00:00<?, ?it/s]"
      ]
     },
     "metadata": {},
     "output_type": "display_data"
    },
    {
     "name": "stdout",
     "output_type": "stream",
     "text": [
      "https://www.bitstamp.net/api/v2/ohlc/ltcbtc/?&currency_pair=ltcbtc&step=900&limit=1000&start=1559343600\n",
      "Downloaded from 2019-06-01 00:00:00 to 2019-06-11 09:45:00 0.01629743\n",
      "Resample 15Min - TecAn ( windows 10, windows_limit 100 )\n",
      "Processing 999 of ltcbtc\n"
     ]
    },
    {
     "data": {
      "application/vnd.jupyter.widget-view+json": {
       "model_id": "6e130e9f75aa43408813a5f558b83b72",
       "version_major": 2,
       "version_minor": 0
      },
      "text/plain": [
       "  0%|          | 0/999 [00:00<?, ?it/s]"
      ]
     },
     "metadata": {},
     "output_type": "display_data"
    },
    {
     "name": "stdout",
     "output_type": "stream",
     "text": [
      "https://www.bitstamp.net/api/v2/ohlc/btcusd/?&currency_pair=btcusd&step=900&limit=1000&start=1527807600\n",
      "Downloaded from 2018-06-01 00:00:00 to 2018-06-11 09:45:00 6795.82\n",
      "Resample 15Min - TecAn ( windows 10, windows_limit 100 )\n",
      "Processing 999 of btcusd\n"
     ]
    },
    {
     "data": {
      "application/vnd.jupyter.widget-view+json": {
       "model_id": "d85ac8b8931847a89fe8b8305cdcb3da",
       "version_major": 2,
       "version_minor": 0
      },
      "text/plain": [
       "  0%|          | 0/999 [00:00<?, ?it/s]"
      ]
     },
     "metadata": {},
     "output_type": "display_data"
    },
    {
     "name": "stdout",
     "output_type": "stream",
     "text": [
      "https://www.bitstamp.net/api/v2/ohlc/ethusd/?&currency_pair=ethusd&step=900&limit=1000&start=1527807600\n",
      "Downloaded from 2018-06-01 00:00:00 to 2018-06-11 09:45:00 532.74\n",
      "Resample 15Min - TecAn ( windows 10, windows_limit 100 )\n",
      "Processing 999 of ethusd\n"
     ]
    },
    {
     "data": {
      "application/vnd.jupyter.widget-view+json": {
       "model_id": "fd3c9cb99ce24b9b8d200b4b97384753",
       "version_major": 2,
       "version_minor": 0
      },
      "text/plain": [
       "  0%|          | 0/999 [00:00<?, ?it/s]"
      ]
     },
     "metadata": {},
     "output_type": "display_data"
    },
    {
     "name": "stdout",
     "output_type": "stream",
     "text": [
      "https://www.bitstamp.net/api/v2/ohlc/ltcusd/?&currency_pair=ltcusd&step=900&limit=1000&start=1527807600\n",
      "Downloaded from 2018-06-01 00:00:00 to 2018-06-11 09:45:00 107.31\n",
      "Resample 15Min - TecAn ( windows 10, windows_limit 100 )\n",
      "Processing 999 of ltcusd\n"
     ]
    },
    {
     "data": {
      "application/vnd.jupyter.widget-view+json": {
       "model_id": "15c6eb05ca5d42c790853a4eab312c50",
       "version_major": 2,
       "version_minor": 0
      },
      "text/plain": [
       "  0%|          | 0/999 [00:00<?, ?it/s]"
      ]
     },
     "metadata": {},
     "output_type": "display_data"
    },
    {
     "name": "stdout",
     "output_type": "stream",
     "text": [
      "https://www.bitstamp.net/api/v2/ohlc/ltcbtc/?&currency_pair=ltcbtc&step=900&limit=1000&start=1527807600\n",
      "Downloaded from 2018-06-01 00:00:00 to 2018-06-11 09:45:00 0.01578000\n",
      "Resample 15Min - TecAn ( windows 10, windows_limit 100 )\n",
      "Processing 999 of ltcbtc\n"
     ]
    },
    {
     "data": {
      "application/vnd.jupyter.widget-view+json": {
       "model_id": "c4c54b3918454d9c8d5bd19e5aaaf118",
       "version_major": 2,
       "version_minor": 0
      },
      "text/plain": [
       "  0%|          | 0/999 [00:00<?, ?it/s]"
      ]
     },
     "metadata": {},
     "output_type": "display_data"
    },
    {
     "name": "stdout",
     "output_type": "stream",
     "text": [
      "https://www.bitstamp.net/api/v2/ohlc/btcusd/?&currency_pair=btcusd&step=900&limit=1000&start=1517443200\n",
      "Downloaded from 2018-02-01 00:00:00 to 2018-02-11 09:45:00 8012.89\n",
      "Resample 15Min - TecAn ( windows 10, windows_limit 100 )\n",
      "Processing 999 of btcusd\n"
     ]
    },
    {
     "data": {
      "application/vnd.jupyter.widget-view+json": {
       "model_id": "57d78c1b2d2d4fa2bc11179d4f211d2b",
       "version_major": 2,
       "version_minor": 0
      },
      "text/plain": [
       "  0%|          | 0/999 [00:00<?, ?it/s]"
      ]
     },
     "metadata": {},
     "output_type": "display_data"
    },
    {
     "name": "stdout",
     "output_type": "stream",
     "text": [
      "https://www.bitstamp.net/api/v2/ohlc/ethusd/?&currency_pair=ethusd&step=900&limit=1000&start=1517443200\n",
      "Downloaded from 2018-02-01 00:00:00 to 2018-02-11 09:45:00 800.68\n",
      "Resample 15Min - TecAn ( windows 10, windows_limit 100 )\n",
      "Processing 999 of ethusd\n"
     ]
    },
    {
     "data": {
      "application/vnd.jupyter.widget-view+json": {
       "model_id": "dca5a4c99ad54b7bb3d3bd05ca815f2a",
       "version_major": 2,
       "version_minor": 0
      },
      "text/plain": [
       "  0%|          | 0/999 [00:00<?, ?it/s]"
      ]
     },
     "metadata": {},
     "output_type": "display_data"
    },
    {
     "name": "stdout",
     "output_type": "stream",
     "text": [
      "https://www.bitstamp.net/api/v2/ohlc/ltcusd/?&currency_pair=ltcusd&step=900&limit=1000&start=1517443200\n",
      "Downloaded from 2018-02-01 00:00:00 to 2018-02-11 09:45:00 144.90\n",
      "Resample 15Min - TecAn ( windows 10, windows_limit 100 )\n",
      "Processing 999 of ltcusd\n"
     ]
    },
    {
     "data": {
      "application/vnd.jupyter.widget-view+json": {
       "model_id": "c8ac15c34c96459d9d5ac17518fc66cd",
       "version_major": 2,
       "version_minor": 0
      },
      "text/plain": [
       "  0%|          | 0/999 [00:00<?, ?it/s]"
      ]
     },
     "metadata": {},
     "output_type": "display_data"
    },
    {
     "name": "stdout",
     "output_type": "stream",
     "text": [
      "https://www.bitstamp.net/api/v2/ohlc/ltcbtc/?&currency_pair=ltcbtc&step=900&limit=1000&start=1517443200\n",
      "Downloaded from 2018-02-01 00:00:00 to 2018-02-11 09:45:00 0.01806022\n",
      "Resample 15Min - TecAn ( windows 10, windows_limit 100 )\n",
      "Processing 999 of ltcbtc\n"
     ]
    },
    {
     "data": {
      "application/vnd.jupyter.widget-view+json": {
       "model_id": "ea9c2f269b5444618bd01ae0e21f8c58",
       "version_major": 2,
       "version_minor": 0
      },
      "text/plain": [
       "  0%|          | 0/999 [00:00<?, ?it/s]"
      ]
     },
     "metadata": {},
     "output_type": "display_data"
    },
    {
     "name": "stdout",
     "output_type": "stream",
     "text": [
      "https://www.bitstamp.net/api/v2/ohlc/btcusd/?&currency_pair=btcusd&step=900&limit=1000&start=1548979200\n",
      "Downloaded from 2019-02-01 00:00:00 to 2019-02-11 09:45:00 3594.91\n",
      "Resample 15Min - TecAn ( windows 10, windows_limit 100 )\n",
      "Processing 999 of btcusd\n"
     ]
    },
    {
     "data": {
      "application/vnd.jupyter.widget-view+json": {
       "model_id": "41eb2f1ca5864abbb1f22a3cb1e4f918",
       "version_major": 2,
       "version_minor": 0
      },
      "text/plain": [
       "  0%|          | 0/999 [00:00<?, ?it/s]"
      ]
     },
     "metadata": {},
     "output_type": "display_data"
    },
    {
     "name": "stdout",
     "output_type": "stream",
     "text": [
      "https://www.bitstamp.net/api/v2/ohlc/ethusd/?&currency_pair=ethusd&step=900&limit=1000&start=1548979200\n",
      "Downloaded from 2019-02-01 00:00:00 to 2019-02-11 09:45:00 119.46\n",
      "Resample 15Min - TecAn ( windows 10, windows_limit 100 )\n",
      "Processing 999 of ethusd\n"
     ]
    },
    {
     "data": {
      "application/vnd.jupyter.widget-view+json": {
       "model_id": "a29fadfd6e6f44a3a68f9fe9687a6043",
       "version_major": 2,
       "version_minor": 0
      },
      "text/plain": [
       "  0%|          | 0/999 [00:00<?, ?it/s]"
      ]
     },
     "metadata": {},
     "output_type": "display_data"
    },
    {
     "name": "stdout",
     "output_type": "stream",
     "text": [
      "https://www.bitstamp.net/api/v2/ohlc/ltcusd/?&currency_pair=ltcusd&step=900&limit=1000&start=1548979200\n",
      "Downloaded from 2019-02-01 00:00:00 to 2019-02-11 09:45:00 43.79\n",
      "Resample 15Min - TecAn ( windows 10, windows_limit 100 )\n",
      "Processing 999 of ltcusd\n"
     ]
    },
    {
     "data": {
      "application/vnd.jupyter.widget-view+json": {
       "model_id": "9b7e80922df840cbadf7b6c195db4e60",
       "version_major": 2,
       "version_minor": 0
      },
      "text/plain": [
       "  0%|          | 0/999 [00:00<?, ?it/s]"
      ]
     },
     "metadata": {},
     "output_type": "display_data"
    },
    {
     "name": "stdout",
     "output_type": "stream",
     "text": [
      "https://www.bitstamp.net/api/v2/ohlc/ltcbtc/?&currency_pair=ltcbtc&step=900&limit=1000&start=1548979200\n",
      "Downloaded from 2019-02-01 00:00:00 to 2019-02-11 09:45:00 0.01221493\n",
      "Resample 15Min - TecAn ( windows 10, windows_limit 100 )\n",
      "Processing 999 of ltcbtc\n"
     ]
    },
    {
     "data": {
      "application/vnd.jupyter.widget-view+json": {
       "model_id": "6e17c8e6b35144038507c26f13c7170f",
       "version_major": 2,
       "version_minor": 0
      },
      "text/plain": [
       "  0%|          | 0/999 [00:00<?, ?it/s]"
      ]
     },
     "metadata": {},
     "output_type": "display_data"
    },
    {
     "name": "stdout",
     "output_type": "stream",
     "text": [
      "https://www.bitstamp.net/api/v2/ohlc/btcusd/?&currency_pair=btcusd&step=900&limit=1000&start=1580515200\n",
      "Downloaded from 2020-02-01 00:00:00 to 2020-02-11 09:45:00 9783.54\n",
      "Resample 15Min - TecAn ( windows 10, windows_limit 100 )\n",
      "Processing 999 of btcusd\n"
     ]
    },
    {
     "data": {
      "application/vnd.jupyter.widget-view+json": {
       "model_id": "dd416f162246407ca0ec817972aeb70c",
       "version_major": 2,
       "version_minor": 0
      },
      "text/plain": [
       "  0%|          | 0/999 [00:00<?, ?it/s]"
      ]
     },
     "metadata": {},
     "output_type": "display_data"
    },
    {
     "name": "stdout",
     "output_type": "stream",
     "text": [
      "https://www.bitstamp.net/api/v2/ohlc/ethusd/?&currency_pair=ethusd&step=900&limit=1000&start=1580515200\n",
      "Downloaded from 2020-02-01 00:00:00 to 2020-02-11 09:45:00 221.25\n",
      "Resample 15Min - TecAn ( windows 10, windows_limit 100 )\n",
      "Processing 999 of ethusd\n"
     ]
    },
    {
     "data": {
      "application/vnd.jupyter.widget-view+json": {
       "model_id": "5941291828ec4f1eba08b71c1b2e3752",
       "version_major": 2,
       "version_minor": 0
      },
      "text/plain": [
       "  0%|          | 0/999 [00:00<?, ?it/s]"
      ]
     },
     "metadata": {},
     "output_type": "display_data"
    },
    {
     "name": "stdout",
     "output_type": "stream",
     "text": [
      "https://www.bitstamp.net/api/v2/ohlc/ltcusd/?&currency_pair=ltcusd&step=900&limit=1000&start=1580515200\n",
      "Downloaded from 2020-02-01 00:00:00 to 2020-02-11 09:45:00 74.22\n",
      "Resample 15Min - TecAn ( windows 10, windows_limit 100 )\n",
      "Processing 999 of ltcusd\n"
     ]
    },
    {
     "data": {
      "application/vnd.jupyter.widget-view+json": {
       "model_id": "15d7e9040f4f4b3fb011297376b20ca5",
       "version_major": 2,
       "version_minor": 0
      },
      "text/plain": [
       "  0%|          | 0/999 [00:00<?, ?it/s]"
      ]
     },
     "metadata": {},
     "output_type": "display_data"
    },
    {
     "name": "stdout",
     "output_type": "stream",
     "text": [
      "https://www.bitstamp.net/api/v2/ohlc/ltcbtc/?&currency_pair=ltcbtc&step=900&limit=1000&start=1580515200\n",
      "Downloaded from 2020-02-01 00:00:00 to 2020-02-11 09:45:00 0.00757449\n",
      "Resample 15Min - TecAn ( windows 10, windows_limit 100 )\n",
      "Processing 999 of ltcbtc\n"
     ]
    },
    {
     "data": {
      "application/vnd.jupyter.widget-view+json": {
       "model_id": "3dd91c42efb9404dbb1a1753b2b0dc9f",
       "version_major": 2,
       "version_minor": 0
      },
      "text/plain": [
       "  0%|          | 0/999 [00:00<?, ?it/s]"
      ]
     },
     "metadata": {},
     "output_type": "display_data"
    },
    {
     "name": "stdout",
     "output_type": "stream",
     "text": [
      "https://www.bitstamp.net/api/v2/ohlc/btcusd/?&currency_pair=btcusd&step=900&limit=1000&start=1612137600\n",
      "Downloaded from 2021-02-01 00:00:00 to 2021-02-11 09:45:00 45154.95\n",
      "Resample 15Min - TecAn ( windows 10, windows_limit 100 )\n",
      "Processing 999 of btcusd\n"
     ]
    },
    {
     "data": {
      "application/vnd.jupyter.widget-view+json": {
       "model_id": "fac4b53a8adc4d3880d27168e6b11893",
       "version_major": 2,
       "version_minor": 0
      },
      "text/plain": [
       "  0%|          | 0/999 [00:00<?, ?it/s]"
      ]
     },
     "metadata": {},
     "output_type": "display_data"
    },
    {
     "name": "stdout",
     "output_type": "stream",
     "text": [
      "https://www.bitstamp.net/api/v2/ohlc/ethusd/?&currency_pair=ethusd&step=900&limit=1000&start=1612137600\n",
      "Downloaded from 2021-02-01 00:00:00 to 2021-02-11 09:45:00 1757.24\n",
      "Resample 15Min - TecAn ( windows 10, windows_limit 100 )\n",
      "Processing 999 of ethusd\n"
     ]
    },
    {
     "data": {
      "application/vnd.jupyter.widget-view+json": {
       "model_id": "62d7d0b2f9914caba5a763ca7d8f7d2c",
       "version_major": 2,
       "version_minor": 0
      },
      "text/plain": [
       "  0%|          | 0/999 [00:00<?, ?it/s]"
      ]
     },
     "metadata": {},
     "output_type": "display_data"
    },
    {
     "name": "stdout",
     "output_type": "stream",
     "text": [
      "https://www.bitstamp.net/api/v2/ohlc/ltcusd/?&currency_pair=ltcusd&step=900&limit=1000&start=1612137600\n",
      "Downloaded from 2021-02-01 00:00:00 to 2021-02-11 09:45:00 186.32\n",
      "Resample 15Min - TecAn ( windows 10, windows_limit 100 )\n",
      "Processing 999 of ltcusd\n"
     ]
    },
    {
     "data": {
      "application/vnd.jupyter.widget-view+json": {
       "model_id": "34b5c4940f7d49deb1684e1e48a3efb5",
       "version_major": 2,
       "version_minor": 0
      },
      "text/plain": [
       "  0%|          | 0/999 [00:00<?, ?it/s]"
      ]
     },
     "metadata": {},
     "output_type": "display_data"
    },
    {
     "name": "stdout",
     "output_type": "stream",
     "text": [
      "https://www.bitstamp.net/api/v2/ohlc/ltcbtc/?&currency_pair=ltcbtc&step=900&limit=1000&start=1612137600\n",
      "Downloaded from 2021-02-01 00:00:00 to 2021-02-11 09:45:00 0.00413427\n",
      "Resample 15Min - TecAn ( windows 10, windows_limit 100 )\n",
      "Processing 999 of ltcbtc\n"
     ]
    },
    {
     "data": {
      "application/vnd.jupyter.widget-view+json": {
       "model_id": "eb4d8e4c1c0d43b4989593196a63c7ef",
       "version_major": 2,
       "version_minor": 0
      },
      "text/plain": [
       "  0%|          | 0/999 [00:00<?, ?it/s]"
      ]
     },
     "metadata": {},
     "output_type": "display_data"
    },
    {
     "name": "stdout",
     "output_type": "stream",
     "text": [
      "https://www.bitstamp.net/api/v2/ohlc/btcusd/?&currency_pair=btcusd&step=900&limit=1000&start=1623711600\n",
      "https://www.bitstamp.net/api/v2/ohlc/btcusd/?&currency_pair=btcusd&step=900&limit=1000&start=1624610700\n",
      "https://www.bitstamp.net/api/v2/ohlc/btcusd/?&currency_pair=btcusd&step=900&limit=1000&start=1625509800\n",
      "Downloaded from 2021-06-15 00:00:00 to 2021-07-15 00:15:00 32832.43\n",
      "Resample 15Min - TecAn ( windows 10, windows_limit 100 )\n",
      "Processing 2883 of btcusd\n"
     ]
    },
    {
     "data": {
      "application/vnd.jupyter.widget-view+json": {
       "model_id": "f1f49e12b5174476a8f1dbdf17828bca",
       "version_major": 2,
       "version_minor": 0
      },
      "text/plain": [
       "  0%|          | 0/2883 [00:00<?, ?it/s]"
      ]
     },
     "metadata": {},
     "output_type": "display_data"
    },
    {
     "name": "stdout",
     "output_type": "stream",
     "text": [
      "https://www.bitstamp.net/api/v2/ohlc/ethusd/?&currency_pair=ethusd&step=900&limit=1000&start=1623711600\n",
      "https://www.bitstamp.net/api/v2/ohlc/ethusd/?&currency_pair=ethusd&step=900&limit=1000&start=1624610700\n",
      "https://www.bitstamp.net/api/v2/ohlc/ethusd/?&currency_pair=ethusd&step=900&limit=1000&start=1625509800\n",
      "Downloaded from 2021-06-15 00:00:00 to 2021-07-15 00:15:00 1992.89\n",
      "Resample 15Min - TecAn ( windows 10, windows_limit 100 )\n",
      "Processing 2883 of ethusd\n"
     ]
    },
    {
     "data": {
      "application/vnd.jupyter.widget-view+json": {
       "model_id": "4fa90ff12a5b4c38a07e16166061ddc8",
       "version_major": 2,
       "version_minor": 0
      },
      "text/plain": [
       "  0%|          | 0/2883 [00:00<?, ?it/s]"
      ]
     },
     "metadata": {},
     "output_type": "display_data"
    },
    {
     "name": "stdout",
     "output_type": "stream",
     "text": [
      "https://www.bitstamp.net/api/v2/ohlc/ltcusd/?&currency_pair=ltcusd&step=900&limit=1000&start=1623711600\n",
      "https://www.bitstamp.net/api/v2/ohlc/ltcusd/?&currency_pair=ltcusd&step=900&limit=1000&start=1624610700\n",
      "https://www.bitstamp.net/api/v2/ohlc/ltcusd/?&currency_pair=ltcusd&step=900&limit=1000&start=1625509800\n",
      "Downloaded from 2021-06-15 00:00:00 to 2021-07-15 00:15:00 130.91\n",
      "Resample 15Min - TecAn ( windows 10, windows_limit 100 )\n",
      "Processing 2883 of ltcusd\n"
     ]
    },
    {
     "data": {
      "application/vnd.jupyter.widget-view+json": {
       "model_id": "74f7de850059427caea670793cc768fa",
       "version_major": 2,
       "version_minor": 0
      },
      "text/plain": [
       "  0%|          | 0/2883 [00:00<?, ?it/s]"
      ]
     },
     "metadata": {},
     "output_type": "display_data"
    },
    {
     "name": "stdout",
     "output_type": "stream",
     "text": [
      "https://www.bitstamp.net/api/v2/ohlc/ltcbtc/?&currency_pair=ltcbtc&step=900&limit=1000&start=1623711600\n",
      "https://www.bitstamp.net/api/v2/ohlc/ltcbtc/?&currency_pair=ltcbtc&step=900&limit=1000&start=1624610700\n",
      "https://www.bitstamp.net/api/v2/ohlc/ltcbtc/?&currency_pair=ltcbtc&step=900&limit=1000&start=1625509800\n",
      "Downloaded from 2021-06-15 00:00:00 to 2021-07-15 00:15:00 0.00398379\n",
      "Resample 15Min - TecAn ( windows 10, windows_limit 100 )\n",
      "Processing 2883 of ltcbtc\n"
     ]
    },
    {
     "data": {
      "application/vnd.jupyter.widget-view+json": {
       "model_id": "235feff5be4d416d8559a09a4192c645",
       "version_major": 2,
       "version_minor": 0
      },
      "text/plain": [
       "  0%|          | 0/2883 [00:00<?, ?it/s]"
      ]
     },
     "metadata": {},
     "output_type": "display_data"
    },
    {
     "name": "stdout",
     "output_type": "stream",
     "text": [
      "https://www.bitstamp.net/api/v2/ohlc/btcusd/?&currency_pair=btcusd&step=900&limit=1000&start=1622502000\n",
      "Downloaded from 2021-06-01 00:00:00 to 2021-06-11 09:45:00 37001.01\n",
      "Resample 15Min - TecAn ( windows 20, windows_limit 100 )\n",
      "Processing 999 of btcusd\n"
     ]
    },
    {
     "data": {
      "application/vnd.jupyter.widget-view+json": {
       "model_id": "bcfd7349948048a392838645a8c8ebbd",
       "version_major": 2,
       "version_minor": 0
      },
      "text/plain": [
       "  0%|          | 0/999 [00:00<?, ?it/s]"
      ]
     },
     "metadata": {},
     "output_type": "display_data"
    },
    {
     "name": "stdout",
     "output_type": "stream",
     "text": [
      "https://www.bitstamp.net/api/v2/ohlc/ethusd/?&currency_pair=ethusd&step=900&limit=1000&start=1622502000\n",
      "Downloaded from 2021-06-01 00:00:00 to 2021-06-11 09:45:00 2450.30\n",
      "Resample 15Min - TecAn ( windows 20, windows_limit 100 )\n",
      "Processing 999 of ethusd\n"
     ]
    },
    {
     "data": {
      "application/vnd.jupyter.widget-view+json": {
       "model_id": "c119db295c224eee8192675a4d44793c",
       "version_major": 2,
       "version_minor": 0
      },
      "text/plain": [
       "  0%|          | 0/999 [00:00<?, ?it/s]"
      ]
     },
     "metadata": {},
     "output_type": "display_data"
    },
    {
     "name": "stdout",
     "output_type": "stream",
     "text": [
      "https://www.bitstamp.net/api/v2/ohlc/ltcusd/?&currency_pair=ltcusd&step=900&limit=1000&start=1622502000\n",
      "Downloaded from 2021-06-01 00:00:00 to 2021-06-11 09:45:00 169.68\n",
      "Resample 15Min - TecAn ( windows 20, windows_limit 100 )\n",
      "Processing 999 of ltcusd\n"
     ]
    },
    {
     "data": {
      "application/vnd.jupyter.widget-view+json": {
       "model_id": "f258a116fefa4d678ed873b31641a1ab",
       "version_major": 2,
       "version_minor": 0
      },
      "text/plain": [
       "  0%|          | 0/999 [00:00<?, ?it/s]"
      ]
     },
     "metadata": {},
     "output_type": "display_data"
    },
    {
     "name": "stdout",
     "output_type": "stream",
     "text": [
      "https://www.bitstamp.net/api/v2/ohlc/ltcbtc/?&currency_pair=ltcbtc&step=900&limit=1000&start=1622502000\n",
      "Downloaded from 2021-06-01 00:00:00 to 2021-06-11 09:45:00 0.00458926\n",
      "Resample 15Min - TecAn ( windows 20, windows_limit 100 )\n",
      "Processing 999 of ltcbtc\n"
     ]
    },
    {
     "data": {
      "application/vnd.jupyter.widget-view+json": {
       "model_id": "c6b01882af614e2294f5fdea8d95646d",
       "version_major": 2,
       "version_minor": 0
      },
      "text/plain": [
       "  0%|          | 0/999 [00:00<?, ?it/s]"
      ]
     },
     "metadata": {},
     "output_type": "display_data"
    },
    {
     "name": "stdout",
     "output_type": "stream",
     "text": [
      "https://www.bitstamp.net/api/v2/ohlc/btcusd/?&currency_pair=btcusd&step=900&limit=1000&start=1590966000\n",
      "Downloaded from 2020-06-01 00:00:00 to 2020-06-11 09:45:00 9820.86\n",
      "Resample 15Min - TecAn ( windows 20, windows_limit 100 )\n",
      "Processing 999 of btcusd\n"
     ]
    },
    {
     "data": {
      "application/vnd.jupyter.widget-view+json": {
       "model_id": "8d0cf9a0b8dd404c948077217fb8e9fd",
       "version_major": 2,
       "version_minor": 0
      },
      "text/plain": [
       "  0%|          | 0/999 [00:00<?, ?it/s]"
      ]
     },
     "metadata": {},
     "output_type": "display_data"
    },
    {
     "name": "stdout",
     "output_type": "stream",
     "text": [
      "https://www.bitstamp.net/api/v2/ohlc/ethusd/?&currency_pair=ethusd&step=900&limit=1000&start=1590966000\n",
      "Downloaded from 2020-06-01 00:00:00 to 2020-06-11 09:45:00 246.70\n",
      "Resample 15Min - TecAn ( windows 20, windows_limit 100 )\n",
      "Processing 999 of ethusd\n"
     ]
    },
    {
     "data": {
      "application/vnd.jupyter.widget-view+json": {
       "model_id": "f5db80dd86aa45679eadfa67b7436e9d",
       "version_major": 2,
       "version_minor": 0
      },
      "text/plain": [
       "  0%|          | 0/999 [00:00<?, ?it/s]"
      ]
     },
     "metadata": {},
     "output_type": "display_data"
    },
    {
     "name": "stdout",
     "output_type": "stream",
     "text": [
      "https://www.bitstamp.net/api/v2/ohlc/ltcusd/?&currency_pair=ltcusd&step=900&limit=1000&start=1590966000\n",
      "Downloaded from 2020-06-01 00:00:00 to 2020-06-11 09:45:00 46.34\n",
      "Resample 15Min - TecAn ( windows 20, windows_limit 100 )\n",
      "Processing 999 of ltcusd\n"
     ]
    },
    {
     "data": {
      "application/vnd.jupyter.widget-view+json": {
       "model_id": "b03f62c3c540423cbc147fdeb713a55f",
       "version_major": 2,
       "version_minor": 0
      },
      "text/plain": [
       "  0%|          | 0/999 [00:00<?, ?it/s]"
      ]
     },
     "metadata": {},
     "output_type": "display_data"
    },
    {
     "name": "stdout",
     "output_type": "stream",
     "text": [
      "https://www.bitstamp.net/api/v2/ohlc/ltcbtc/?&currency_pair=ltcbtc&step=900&limit=1000&start=1590966000\n",
      "Downloaded from 2020-06-01 00:00:00 to 2020-06-11 09:45:00 0.00470967\n",
      "Resample 15Min - TecAn ( windows 20, windows_limit 100 )\n",
      "Processing 999 of ltcbtc\n"
     ]
    },
    {
     "data": {
      "application/vnd.jupyter.widget-view+json": {
       "model_id": "145198cb415a484f9adfcfe8b875f61e",
       "version_major": 2,
       "version_minor": 0
      },
      "text/plain": [
       "  0%|          | 0/999 [00:00<?, ?it/s]"
      ]
     },
     "metadata": {},
     "output_type": "display_data"
    },
    {
     "name": "stdout",
     "output_type": "stream",
     "text": [
      "https://www.bitstamp.net/api/v2/ohlc/btcusd/?&currency_pair=btcusd&step=900&limit=1000&start=1559343600\n",
      "Downloaded from 2019-06-01 00:00:00 to 2019-06-11 09:45:00 7961.80\n",
      "Resample 15Min - TecAn ( windows 20, windows_limit 100 )\n",
      "Processing 999 of btcusd\n"
     ]
    },
    {
     "data": {
      "application/vnd.jupyter.widget-view+json": {
       "model_id": "14db517f88064a07973b2c4ca7c5f2c3",
       "version_major": 2,
       "version_minor": 0
      },
      "text/plain": [
       "  0%|          | 0/999 [00:00<?, ?it/s]"
      ]
     },
     "metadata": {},
     "output_type": "display_data"
    },
    {
     "name": "stdout",
     "output_type": "stream",
     "text": [
      "https://www.bitstamp.net/api/v2/ohlc/ethusd/?&currency_pair=ethusd&step=900&limit=1000&start=1559343600\n",
      "Downloaded from 2019-06-01 00:00:00 to 2019-06-11 09:45:00 247.16\n",
      "Resample 15Min - TecAn ( windows 20, windows_limit 100 )\n",
      "Processing 999 of ethusd\n"
     ]
    },
    {
     "data": {
      "application/vnd.jupyter.widget-view+json": {
       "model_id": "23fb469e54254a06b5ee52c011d3f66b",
       "version_major": 2,
       "version_minor": 0
      },
      "text/plain": [
       "  0%|          | 0/999 [00:00<?, ?it/s]"
      ]
     },
     "metadata": {},
     "output_type": "display_data"
    },
    {
     "name": "stdout",
     "output_type": "stream",
     "text": [
      "https://www.bitstamp.net/api/v2/ohlc/ltcusd/?&currency_pair=ltcusd&step=900&limit=1000&start=1559343600\n",
      "Downloaded from 2019-06-01 00:00:00 to 2019-06-11 09:45:00 129.66\n",
      "Resample 15Min - TecAn ( windows 20, windows_limit 100 )\n",
      "Processing 999 of ltcusd\n"
     ]
    },
    {
     "data": {
      "application/vnd.jupyter.widget-view+json": {
       "model_id": "9d9cff22d260496da565778100160144",
       "version_major": 2,
       "version_minor": 0
      },
      "text/plain": [
       "  0%|          | 0/999 [00:00<?, ?it/s]"
      ]
     },
     "metadata": {},
     "output_type": "display_data"
    },
    {
     "name": "stdout",
     "output_type": "stream",
     "text": [
      "https://www.bitstamp.net/api/v2/ohlc/ltcbtc/?&currency_pair=ltcbtc&step=900&limit=1000&start=1559343600\n",
      "Downloaded from 2019-06-01 00:00:00 to 2019-06-11 09:45:00 0.01629743\n",
      "Resample 15Min - TecAn ( windows 20, windows_limit 100 )\n",
      "Processing 999 of ltcbtc\n"
     ]
    },
    {
     "data": {
      "application/vnd.jupyter.widget-view+json": {
       "model_id": "d2f9b1449d4f44059d8d7a7a8a1c7057",
       "version_major": 2,
       "version_minor": 0
      },
      "text/plain": [
       "  0%|          | 0/999 [00:00<?, ?it/s]"
      ]
     },
     "metadata": {},
     "output_type": "display_data"
    },
    {
     "name": "stdout",
     "output_type": "stream",
     "text": [
      "https://www.bitstamp.net/api/v2/ohlc/btcusd/?&currency_pair=btcusd&step=900&limit=1000&start=1527807600\n",
      "Downloaded from 2018-06-01 00:00:00 to 2018-06-11 09:45:00 6795.82\n",
      "Resample 15Min - TecAn ( windows 20, windows_limit 100 )\n",
      "Processing 999 of btcusd\n"
     ]
    },
    {
     "data": {
      "application/vnd.jupyter.widget-view+json": {
       "model_id": "884b8905b477424e967ca0935af79099",
       "version_major": 2,
       "version_minor": 0
      },
      "text/plain": [
       "  0%|          | 0/999 [00:00<?, ?it/s]"
      ]
     },
     "metadata": {},
     "output_type": "display_data"
    },
    {
     "name": "stdout",
     "output_type": "stream",
     "text": [
      "https://www.bitstamp.net/api/v2/ohlc/ethusd/?&currency_pair=ethusd&step=900&limit=1000&start=1527807600\n",
      "Downloaded from 2018-06-01 00:00:00 to 2018-06-11 09:45:00 532.74\n",
      "Resample 15Min - TecAn ( windows 20, windows_limit 100 )\n",
      "Processing 999 of ethusd\n"
     ]
    },
    {
     "data": {
      "application/vnd.jupyter.widget-view+json": {
       "model_id": "1f2d0e6489cb46eb9c1a4dfcf27ba930",
       "version_major": 2,
       "version_minor": 0
      },
      "text/plain": [
       "  0%|          | 0/999 [00:00<?, ?it/s]"
      ]
     },
     "metadata": {},
     "output_type": "display_data"
    },
    {
     "name": "stdout",
     "output_type": "stream",
     "text": [
      "https://www.bitstamp.net/api/v2/ohlc/ltcusd/?&currency_pair=ltcusd&step=900&limit=1000&start=1527807600\n",
      "Downloaded from 2018-06-01 00:00:00 to 2018-06-11 09:45:00 107.31\n",
      "Resample 15Min - TecAn ( windows 20, windows_limit 100 )\n",
      "Processing 999 of ltcusd\n"
     ]
    },
    {
     "data": {
      "application/vnd.jupyter.widget-view+json": {
       "model_id": "033534d2e7564c05ae0d6dbca3a6fad5",
       "version_major": 2,
       "version_minor": 0
      },
      "text/plain": [
       "  0%|          | 0/999 [00:00<?, ?it/s]"
      ]
     },
     "metadata": {},
     "output_type": "display_data"
    },
    {
     "name": "stdout",
     "output_type": "stream",
     "text": [
      "https://www.bitstamp.net/api/v2/ohlc/ltcbtc/?&currency_pair=ltcbtc&step=900&limit=1000&start=1527807600\n",
      "Downloaded from 2018-06-01 00:00:00 to 2018-06-11 09:45:00 0.01578000\n",
      "Resample 15Min - TecAn ( windows 20, windows_limit 100 )\n",
      "Processing 999 of ltcbtc\n"
     ]
    },
    {
     "data": {
      "application/vnd.jupyter.widget-view+json": {
       "model_id": "6df02ef95d994b829c156aa2734ed819",
       "version_major": 2,
       "version_minor": 0
      },
      "text/plain": [
       "  0%|          | 0/999 [00:00<?, ?it/s]"
      ]
     },
     "metadata": {},
     "output_type": "display_data"
    },
    {
     "name": "stdout",
     "output_type": "stream",
     "text": [
      "https://www.bitstamp.net/api/v2/ohlc/btcusd/?&currency_pair=btcusd&step=900&limit=1000&start=1517443200\n",
      "Downloaded from 2018-02-01 00:00:00 to 2018-02-11 09:45:00 8012.89\n",
      "Resample 15Min - TecAn ( windows 20, windows_limit 100 )\n",
      "Processing 999 of btcusd\n"
     ]
    },
    {
     "data": {
      "application/vnd.jupyter.widget-view+json": {
       "model_id": "7cea9ae57e85405ab5777f1ac48975db",
       "version_major": 2,
       "version_minor": 0
      },
      "text/plain": [
       "  0%|          | 0/999 [00:00<?, ?it/s]"
      ]
     },
     "metadata": {},
     "output_type": "display_data"
    },
    {
     "name": "stdout",
     "output_type": "stream",
     "text": [
      "https://www.bitstamp.net/api/v2/ohlc/ethusd/?&currency_pair=ethusd&step=900&limit=1000&start=1517443200\n",
      "Downloaded from 2018-02-01 00:00:00 to 2018-02-11 09:45:00 800.68\n",
      "Resample 15Min - TecAn ( windows 20, windows_limit 100 )\n",
      "Processing 999 of ethusd\n"
     ]
    },
    {
     "data": {
      "application/vnd.jupyter.widget-view+json": {
       "model_id": "d120d050637d46c89c0a810449af8e65",
       "version_major": 2,
       "version_minor": 0
      },
      "text/plain": [
       "  0%|          | 0/999 [00:00<?, ?it/s]"
      ]
     },
     "metadata": {},
     "output_type": "display_data"
    },
    {
     "name": "stdout",
     "output_type": "stream",
     "text": [
      "https://www.bitstamp.net/api/v2/ohlc/ltcusd/?&currency_pair=ltcusd&step=900&limit=1000&start=1517443200\n",
      "Downloaded from 2018-02-01 00:00:00 to 2018-02-11 09:45:00 144.90\n",
      "Resample 15Min - TecAn ( windows 20, windows_limit 100 )\n",
      "Processing 999 of ltcusd\n"
     ]
    },
    {
     "data": {
      "application/vnd.jupyter.widget-view+json": {
       "model_id": "23bd33f507724b939054e91dae1a7ebc",
       "version_major": 2,
       "version_minor": 0
      },
      "text/plain": [
       "  0%|          | 0/999 [00:00<?, ?it/s]"
      ]
     },
     "metadata": {},
     "output_type": "display_data"
    },
    {
     "name": "stdout",
     "output_type": "stream",
     "text": [
      "https://www.bitstamp.net/api/v2/ohlc/ltcbtc/?&currency_pair=ltcbtc&step=900&limit=1000&start=1517443200\n",
      "Downloaded from 2018-02-01 00:00:00 to 2018-02-11 09:45:00 0.01806022\n",
      "Resample 15Min - TecAn ( windows 20, windows_limit 100 )\n",
      "Processing 999 of ltcbtc\n"
     ]
    },
    {
     "data": {
      "application/vnd.jupyter.widget-view+json": {
       "model_id": "d8bc4346496c49739d46c0ae093ac1df",
       "version_major": 2,
       "version_minor": 0
      },
      "text/plain": [
       "  0%|          | 0/999 [00:00<?, ?it/s]"
      ]
     },
     "metadata": {},
     "output_type": "display_data"
    },
    {
     "name": "stdout",
     "output_type": "stream",
     "text": [
      "https://www.bitstamp.net/api/v2/ohlc/btcusd/?&currency_pair=btcusd&step=900&limit=1000&start=1548979200\n",
      "Downloaded from 2019-02-01 00:00:00 to 2019-02-11 09:45:00 3594.91\n",
      "Resample 15Min - TecAn ( windows 20, windows_limit 100 )\n",
      "Processing 999 of btcusd\n"
     ]
    },
    {
     "data": {
      "application/vnd.jupyter.widget-view+json": {
       "model_id": "369f24cdbf2b46a8aa03b60e0b0af577",
       "version_major": 2,
       "version_minor": 0
      },
      "text/plain": [
       "  0%|          | 0/999 [00:00<?, ?it/s]"
      ]
     },
     "metadata": {},
     "output_type": "display_data"
    },
    {
     "name": "stdout",
     "output_type": "stream",
     "text": [
      "https://www.bitstamp.net/api/v2/ohlc/ethusd/?&currency_pair=ethusd&step=900&limit=1000&start=1548979200\n",
      "Downloaded from 2019-02-01 00:00:00 to 2019-02-11 09:45:00 119.46\n",
      "Resample 15Min - TecAn ( windows 20, windows_limit 100 )\n",
      "Processing 999 of ethusd\n"
     ]
    },
    {
     "data": {
      "application/vnd.jupyter.widget-view+json": {
       "model_id": "b13c751205784365b29c1d25f61e8b55",
       "version_major": 2,
       "version_minor": 0
      },
      "text/plain": [
       "  0%|          | 0/999 [00:00<?, ?it/s]"
      ]
     },
     "metadata": {},
     "output_type": "display_data"
    },
    {
     "name": "stdout",
     "output_type": "stream",
     "text": [
      "https://www.bitstamp.net/api/v2/ohlc/ltcusd/?&currency_pair=ltcusd&step=900&limit=1000&start=1548979200\n",
      "Downloaded from 2019-02-01 00:00:00 to 2019-02-11 09:45:00 43.79\n",
      "Resample 15Min - TecAn ( windows 20, windows_limit 100 )\n",
      "Processing 999 of ltcusd\n"
     ]
    },
    {
     "data": {
      "application/vnd.jupyter.widget-view+json": {
       "model_id": "1dc427d6ec8c48ac953b93c1f59034be",
       "version_major": 2,
       "version_minor": 0
      },
      "text/plain": [
       "  0%|          | 0/999 [00:00<?, ?it/s]"
      ]
     },
     "metadata": {},
     "output_type": "display_data"
    },
    {
     "name": "stdout",
     "output_type": "stream",
     "text": [
      "https://www.bitstamp.net/api/v2/ohlc/ltcbtc/?&currency_pair=ltcbtc&step=900&limit=1000&start=1548979200\n",
      "Downloaded from 2019-02-01 00:00:00 to 2019-02-11 09:45:00 0.01221493\n",
      "Resample 15Min - TecAn ( windows 20, windows_limit 100 )\n",
      "Processing 999 of ltcbtc\n"
     ]
    },
    {
     "data": {
      "application/vnd.jupyter.widget-view+json": {
       "model_id": "76f05b103c0f412ea04985c508bab98f",
       "version_major": 2,
       "version_minor": 0
      },
      "text/plain": [
       "  0%|          | 0/999 [00:00<?, ?it/s]"
      ]
     },
     "metadata": {},
     "output_type": "display_data"
    },
    {
     "name": "stdout",
     "output_type": "stream",
     "text": [
      "https://www.bitstamp.net/api/v2/ohlc/btcusd/?&currency_pair=btcusd&step=900&limit=1000&start=1580515200\n",
      "Downloaded from 2020-02-01 00:00:00 to 2020-02-11 09:45:00 9783.54\n",
      "Resample 15Min - TecAn ( windows 20, windows_limit 100 )\n",
      "Processing 999 of btcusd\n"
     ]
    },
    {
     "data": {
      "application/vnd.jupyter.widget-view+json": {
       "model_id": "5bd643c3b5eb46688942a0451251b282",
       "version_major": 2,
       "version_minor": 0
      },
      "text/plain": [
       "  0%|          | 0/999 [00:00<?, ?it/s]"
      ]
     },
     "metadata": {},
     "output_type": "display_data"
    },
    {
     "name": "stdout",
     "output_type": "stream",
     "text": [
      "https://www.bitstamp.net/api/v2/ohlc/ethusd/?&currency_pair=ethusd&step=900&limit=1000&start=1580515200\n",
      "Downloaded from 2020-02-01 00:00:00 to 2020-02-11 09:45:00 221.25\n",
      "Resample 15Min - TecAn ( windows 20, windows_limit 100 )\n",
      "Processing 999 of ethusd\n"
     ]
    },
    {
     "data": {
      "application/vnd.jupyter.widget-view+json": {
       "model_id": "818d5d515db84c9b959346dd7c09184d",
       "version_major": 2,
       "version_minor": 0
      },
      "text/plain": [
       "  0%|          | 0/999 [00:00<?, ?it/s]"
      ]
     },
     "metadata": {},
     "output_type": "display_data"
    },
    {
     "name": "stdout",
     "output_type": "stream",
     "text": [
      "https://www.bitstamp.net/api/v2/ohlc/ltcusd/?&currency_pair=ltcusd&step=900&limit=1000&start=1580515200\n",
      "Downloaded from 2020-02-01 00:00:00 to 2020-02-11 09:45:00 74.22\n",
      "Resample 15Min - TecAn ( windows 20, windows_limit 100 )\n",
      "Processing 999 of ltcusd\n"
     ]
    },
    {
     "data": {
      "application/vnd.jupyter.widget-view+json": {
       "model_id": "c8904c10545b46cbaa3cd0cd61b093ed",
       "version_major": 2,
       "version_minor": 0
      },
      "text/plain": [
       "  0%|          | 0/999 [00:00<?, ?it/s]"
      ]
     },
     "metadata": {},
     "output_type": "display_data"
    },
    {
     "name": "stdout",
     "output_type": "stream",
     "text": [
      "https://www.bitstamp.net/api/v2/ohlc/ltcbtc/?&currency_pair=ltcbtc&step=900&limit=1000&start=1580515200\n",
      "Downloaded from 2020-02-01 00:00:00 to 2020-02-11 09:45:00 0.00757449\n",
      "Resample 15Min - TecAn ( windows 20, windows_limit 100 )\n",
      "Processing 999 of ltcbtc\n"
     ]
    },
    {
     "data": {
      "application/vnd.jupyter.widget-view+json": {
       "model_id": "4310da778ce84844ba5dcfc28f47d07d",
       "version_major": 2,
       "version_minor": 0
      },
      "text/plain": [
       "  0%|          | 0/999 [00:00<?, ?it/s]"
      ]
     },
     "metadata": {},
     "output_type": "display_data"
    },
    {
     "name": "stdout",
     "output_type": "stream",
     "text": [
      "https://www.bitstamp.net/api/v2/ohlc/btcusd/?&currency_pair=btcusd&step=900&limit=1000&start=1612137600\n",
      "Downloaded from 2021-02-01 00:00:00 to 2021-02-11 09:45:00 45154.95\n",
      "Resample 15Min - TecAn ( windows 20, windows_limit 100 )\n",
      "Processing 999 of btcusd\n"
     ]
    },
    {
     "data": {
      "application/vnd.jupyter.widget-view+json": {
       "model_id": "9c4594e9aed34b7d9ec903fd650de0fb",
       "version_major": 2,
       "version_minor": 0
      },
      "text/plain": [
       "  0%|          | 0/999 [00:00<?, ?it/s]"
      ]
     },
     "metadata": {},
     "output_type": "display_data"
    },
    {
     "name": "stdout",
     "output_type": "stream",
     "text": [
      "https://www.bitstamp.net/api/v2/ohlc/ethusd/?&currency_pair=ethusd&step=900&limit=1000&start=1612137600\n",
      "Downloaded from 2021-02-01 00:00:00 to 2021-02-11 09:45:00 1757.24\n",
      "Resample 15Min - TecAn ( windows 20, windows_limit 100 )\n",
      "Processing 999 of ethusd\n"
     ]
    },
    {
     "data": {
      "application/vnd.jupyter.widget-view+json": {
       "model_id": "7a45e871fe784ff4b7ad11fb145ada8d",
       "version_major": 2,
       "version_minor": 0
      },
      "text/plain": [
       "  0%|          | 0/999 [00:00<?, ?it/s]"
      ]
     },
     "metadata": {},
     "output_type": "display_data"
    },
    {
     "name": "stdout",
     "output_type": "stream",
     "text": [
      "https://www.bitstamp.net/api/v2/ohlc/ltcusd/?&currency_pair=ltcusd&step=900&limit=1000&start=1612137600\n",
      "Downloaded from 2021-02-01 00:00:00 to 2021-02-11 09:45:00 186.32\n",
      "Resample 15Min - TecAn ( windows 20, windows_limit 100 )\n",
      "Processing 999 of ltcusd\n"
     ]
    },
    {
     "data": {
      "application/vnd.jupyter.widget-view+json": {
       "model_id": "24842baddc1d429c846142b3290c89b7",
       "version_major": 2,
       "version_minor": 0
      },
      "text/plain": [
       "  0%|          | 0/999 [00:00<?, ?it/s]"
      ]
     },
     "metadata": {},
     "output_type": "display_data"
    },
    {
     "name": "stdout",
     "output_type": "stream",
     "text": [
      "https://www.bitstamp.net/api/v2/ohlc/ltcbtc/?&currency_pair=ltcbtc&step=900&limit=1000&start=1612137600\n",
      "Downloaded from 2021-02-01 00:00:00 to 2021-02-11 09:45:00 0.00413427\n",
      "Resample 15Min - TecAn ( windows 20, windows_limit 100 )\n",
      "Processing 999 of ltcbtc\n"
     ]
    },
    {
     "data": {
      "application/vnd.jupyter.widget-view+json": {
       "model_id": "31d25ad189fc497ab7ebb84e6006dfbc",
       "version_major": 2,
       "version_minor": 0
      },
      "text/plain": [
       "  0%|          | 0/999 [00:00<?, ?it/s]"
      ]
     },
     "metadata": {},
     "output_type": "display_data"
    },
    {
     "name": "stdout",
     "output_type": "stream",
     "text": [
      "https://www.bitstamp.net/api/v2/ohlc/btcusd/?&currency_pair=btcusd&step=900&limit=1000&start=1623711600\n",
      "https://www.bitstamp.net/api/v2/ohlc/btcusd/?&currency_pair=btcusd&step=900&limit=1000&start=1624610700\n",
      "https://www.bitstamp.net/api/v2/ohlc/btcusd/?&currency_pair=btcusd&step=900&limit=1000&start=1625509800\n",
      "Downloaded from 2021-06-15 00:00:00 to 2021-07-15 00:15:00 32832.43\n",
      "Resample 15Min - TecAn ( windows 20, windows_limit 100 )\n",
      "Processing 2883 of btcusd\n"
     ]
    },
    {
     "data": {
      "application/vnd.jupyter.widget-view+json": {
       "model_id": "0cf6343daa444fdda83b5e82eb88e3e2",
       "version_major": 2,
       "version_minor": 0
      },
      "text/plain": [
       "  0%|          | 0/2883 [00:00<?, ?it/s]"
      ]
     },
     "metadata": {},
     "output_type": "display_data"
    },
    {
     "name": "stdout",
     "output_type": "stream",
     "text": [
      "https://www.bitstamp.net/api/v2/ohlc/ethusd/?&currency_pair=ethusd&step=900&limit=1000&start=1623711600\n",
      "https://www.bitstamp.net/api/v2/ohlc/ethusd/?&currency_pair=ethusd&step=900&limit=1000&start=1624610700\n",
      "https://www.bitstamp.net/api/v2/ohlc/ethusd/?&currency_pair=ethusd&step=900&limit=1000&start=1625509800\n",
      "Downloaded from 2021-06-15 00:00:00 to 2021-07-15 00:15:00 1992.89\n",
      "Resample 15Min - TecAn ( windows 20, windows_limit 100 )\n",
      "Processing 2883 of ethusd\n"
     ]
    },
    {
     "data": {
      "application/vnd.jupyter.widget-view+json": {
       "model_id": "09a15f25868343f68428842d400d7c41",
       "version_major": 2,
       "version_minor": 0
      },
      "text/plain": [
       "  0%|          | 0/2883 [00:00<?, ?it/s]"
      ]
     },
     "metadata": {},
     "output_type": "display_data"
    },
    {
     "name": "stdout",
     "output_type": "stream",
     "text": [
      "https://www.bitstamp.net/api/v2/ohlc/ltcusd/?&currency_pair=ltcusd&step=900&limit=1000&start=1623711600\n",
      "https://www.bitstamp.net/api/v2/ohlc/ltcusd/?&currency_pair=ltcusd&step=900&limit=1000&start=1624610700\n",
      "https://www.bitstamp.net/api/v2/ohlc/ltcusd/?&currency_pair=ltcusd&step=900&limit=1000&start=1625509800\n",
      "Downloaded from 2021-06-15 00:00:00 to 2021-07-15 00:15:00 130.91\n",
      "Resample 15Min - TecAn ( windows 20, windows_limit 100 )\n",
      "Processing 2883 of ltcusd\n"
     ]
    },
    {
     "data": {
      "application/vnd.jupyter.widget-view+json": {
       "model_id": "7fabd673946043198d89f8b56612fa7f",
       "version_major": 2,
       "version_minor": 0
      },
      "text/plain": [
       "  0%|          | 0/2883 [00:00<?, ?it/s]"
      ]
     },
     "metadata": {},
     "output_type": "display_data"
    },
    {
     "name": "stdout",
     "output_type": "stream",
     "text": [
      "https://www.bitstamp.net/api/v2/ohlc/ltcbtc/?&currency_pair=ltcbtc&step=900&limit=1000&start=1623711600\n",
      "https://www.bitstamp.net/api/v2/ohlc/ltcbtc/?&currency_pair=ltcbtc&step=900&limit=1000&start=1624610700\n",
      "https://www.bitstamp.net/api/v2/ohlc/ltcbtc/?&currency_pair=ltcbtc&step=900&limit=1000&start=1625509800\n",
      "Downloaded from 2021-06-15 00:00:00 to 2021-07-15 00:15:00 0.00398379\n",
      "Resample 15Min - TecAn ( windows 20, windows_limit 100 )\n",
      "Processing 2883 of ltcbtc\n"
     ]
    },
    {
     "data": {
      "application/vnd.jupyter.widget-view+json": {
       "model_id": "d253649ed30743b5ab4c7d03156b816f",
       "version_major": 2,
       "version_minor": 0
      },
      "text/plain": [
       "  0%|          | 0/2883 [00:00<?, ?it/s]"
      ]
     },
     "metadata": {},
     "output_type": "display_data"
    },
    {
     "name": "stdout",
     "output_type": "stream",
     "text": [
      "https://www.bitstamp.net/api/v2/ohlc/btcusd/?&currency_pair=btcusd&step=900&limit=1000&start=1622502000\n",
      "Downloaded from 2021-06-01 00:00:00 to 2021-06-11 09:45:00 37001.01\n",
      "Resample 15Min - TecAn ( windows 30, windows_limit 100 )\n",
      "Processing 999 of btcusd\n"
     ]
    },
    {
     "data": {
      "application/vnd.jupyter.widget-view+json": {
       "model_id": "51c699d98d4341f6bcd0cbca3f38e31a",
       "version_major": 2,
       "version_minor": 0
      },
      "text/plain": [
       "  0%|          | 0/999 [00:00<?, ?it/s]"
      ]
     },
     "metadata": {},
     "output_type": "display_data"
    },
    {
     "name": "stdout",
     "output_type": "stream",
     "text": [
      "https://www.bitstamp.net/api/v2/ohlc/ethusd/?&currency_pair=ethusd&step=900&limit=1000&start=1622502000\n",
      "Downloaded from 2021-06-01 00:00:00 to 2021-06-11 09:45:00 2450.30\n",
      "Resample 15Min - TecAn ( windows 30, windows_limit 100 )\n",
      "Processing 999 of ethusd\n"
     ]
    },
    {
     "data": {
      "application/vnd.jupyter.widget-view+json": {
       "model_id": "c031fac78f3748d4b846efeccf00c5f1",
       "version_major": 2,
       "version_minor": 0
      },
      "text/plain": [
       "  0%|          | 0/999 [00:00<?, ?it/s]"
      ]
     },
     "metadata": {},
     "output_type": "display_data"
    },
    {
     "name": "stdout",
     "output_type": "stream",
     "text": [
      "https://www.bitstamp.net/api/v2/ohlc/ltcusd/?&currency_pair=ltcusd&step=900&limit=1000&start=1622502000\n",
      "Downloaded from 2021-06-01 00:00:00 to 2021-06-11 09:45:00 169.68\n",
      "Resample 15Min - TecAn ( windows 30, windows_limit 100 )\n",
      "Processing 999 of ltcusd\n"
     ]
    },
    {
     "data": {
      "application/vnd.jupyter.widget-view+json": {
       "model_id": "adf267254b794ea58080756d5afe34be",
       "version_major": 2,
       "version_minor": 0
      },
      "text/plain": [
       "  0%|          | 0/999 [00:00<?, ?it/s]"
      ]
     },
     "metadata": {},
     "output_type": "display_data"
    },
    {
     "name": "stdout",
     "output_type": "stream",
     "text": [
      "https://www.bitstamp.net/api/v2/ohlc/ltcbtc/?&currency_pair=ltcbtc&step=900&limit=1000&start=1622502000\n",
      "Downloaded from 2021-06-01 00:00:00 to 2021-06-11 09:45:00 0.00458926\n",
      "Resample 15Min - TecAn ( windows 30, windows_limit 100 )\n",
      "Processing 999 of ltcbtc\n"
     ]
    },
    {
     "data": {
      "application/vnd.jupyter.widget-view+json": {
       "model_id": "1fb20a16aafe4442b3b5dde4965364b2",
       "version_major": 2,
       "version_minor": 0
      },
      "text/plain": [
       "  0%|          | 0/999 [00:00<?, ?it/s]"
      ]
     },
     "metadata": {},
     "output_type": "display_data"
    },
    {
     "name": "stdout",
     "output_type": "stream",
     "text": [
      "https://www.bitstamp.net/api/v2/ohlc/btcusd/?&currency_pair=btcusd&step=900&limit=1000&start=1590966000\n",
      "Downloaded from 2020-06-01 00:00:00 to 2020-06-11 09:45:00 9820.86\n",
      "Resample 15Min - TecAn ( windows 30, windows_limit 100 )\n",
      "Processing 999 of btcusd\n"
     ]
    },
    {
     "data": {
      "application/vnd.jupyter.widget-view+json": {
       "model_id": "a2d397e28d6e4b3589e472ad8ade0703",
       "version_major": 2,
       "version_minor": 0
      },
      "text/plain": [
       "  0%|          | 0/999 [00:00<?, ?it/s]"
      ]
     },
     "metadata": {},
     "output_type": "display_data"
    },
    {
     "name": "stdout",
     "output_type": "stream",
     "text": [
      "https://www.bitstamp.net/api/v2/ohlc/ethusd/?&currency_pair=ethusd&step=900&limit=1000&start=1590966000\n",
      "Downloaded from 2020-06-01 00:00:00 to 2020-06-11 09:45:00 246.70\n",
      "Resample 15Min - TecAn ( windows 30, windows_limit 100 )\n",
      "Processing 999 of ethusd\n"
     ]
    },
    {
     "data": {
      "application/vnd.jupyter.widget-view+json": {
       "model_id": "7b0dde57032a4dc480abf12b0239a2b4",
       "version_major": 2,
       "version_minor": 0
      },
      "text/plain": [
       "  0%|          | 0/999 [00:00<?, ?it/s]"
      ]
     },
     "metadata": {},
     "output_type": "display_data"
    },
    {
     "name": "stdout",
     "output_type": "stream",
     "text": [
      "https://www.bitstamp.net/api/v2/ohlc/ltcusd/?&currency_pair=ltcusd&step=900&limit=1000&start=1590966000\n",
      "Downloaded from 2020-06-01 00:00:00 to 2020-06-11 09:45:00 46.34\n",
      "Resample 15Min - TecAn ( windows 30, windows_limit 100 )\n",
      "Processing 999 of ltcusd\n"
     ]
    },
    {
     "data": {
      "application/vnd.jupyter.widget-view+json": {
       "model_id": "577b4f346eed4bba8c46f3116ce234c2",
       "version_major": 2,
       "version_minor": 0
      },
      "text/plain": [
       "  0%|          | 0/999 [00:00<?, ?it/s]"
      ]
     },
     "metadata": {},
     "output_type": "display_data"
    },
    {
     "name": "stdout",
     "output_type": "stream",
     "text": [
      "https://www.bitstamp.net/api/v2/ohlc/ltcbtc/?&currency_pair=ltcbtc&step=900&limit=1000&start=1590966000\n",
      "Downloaded from 2020-06-01 00:00:00 to 2020-06-11 09:45:00 0.00470967\n",
      "Resample 15Min - TecAn ( windows 30, windows_limit 100 )\n",
      "Processing 999 of ltcbtc\n"
     ]
    },
    {
     "data": {
      "application/vnd.jupyter.widget-view+json": {
       "model_id": "0e152a4c830c40f9a8ad238f4d0cc98c",
       "version_major": 2,
       "version_minor": 0
      },
      "text/plain": [
       "  0%|          | 0/999 [00:00<?, ?it/s]"
      ]
     },
     "metadata": {},
     "output_type": "display_data"
    },
    {
     "name": "stdout",
     "output_type": "stream",
     "text": [
      "https://www.bitstamp.net/api/v2/ohlc/btcusd/?&currency_pair=btcusd&step=900&limit=1000&start=1559343600\n",
      "Downloaded from 2019-06-01 00:00:00 to 2019-06-11 09:45:00 7961.80\n",
      "Resample 15Min - TecAn ( windows 30, windows_limit 100 )\n",
      "Processing 999 of btcusd\n"
     ]
    },
    {
     "data": {
      "application/vnd.jupyter.widget-view+json": {
       "model_id": "a223edde4ea4467f9c9a393249b92e2b",
       "version_major": 2,
       "version_minor": 0
      },
      "text/plain": [
       "  0%|          | 0/999 [00:00<?, ?it/s]"
      ]
     },
     "metadata": {},
     "output_type": "display_data"
    },
    {
     "name": "stdout",
     "output_type": "stream",
     "text": [
      "https://www.bitstamp.net/api/v2/ohlc/ethusd/?&currency_pair=ethusd&step=900&limit=1000&start=1559343600\n",
      "Downloaded from 2019-06-01 00:00:00 to 2019-06-11 09:45:00 247.16\n",
      "Resample 15Min - TecAn ( windows 30, windows_limit 100 )\n",
      "Processing 999 of ethusd\n"
     ]
    },
    {
     "data": {
      "application/vnd.jupyter.widget-view+json": {
       "model_id": "7325356e9b584960997094651e77aba2",
       "version_major": 2,
       "version_minor": 0
      },
      "text/plain": [
       "  0%|          | 0/999 [00:00<?, ?it/s]"
      ]
     },
     "metadata": {},
     "output_type": "display_data"
    },
    {
     "name": "stdout",
     "output_type": "stream",
     "text": [
      "https://www.bitstamp.net/api/v2/ohlc/ltcusd/?&currency_pair=ltcusd&step=900&limit=1000&start=1559343600\n",
      "Downloaded from 2019-06-01 00:00:00 to 2019-06-11 09:45:00 129.66\n",
      "Resample 15Min - TecAn ( windows 30, windows_limit 100 )\n",
      "Processing 999 of ltcusd\n"
     ]
    },
    {
     "data": {
      "application/vnd.jupyter.widget-view+json": {
       "model_id": "5c4e9c30285b420cbbd14d39509fcd60",
       "version_major": 2,
       "version_minor": 0
      },
      "text/plain": [
       "  0%|          | 0/999 [00:00<?, ?it/s]"
      ]
     },
     "metadata": {},
     "output_type": "display_data"
    },
    {
     "name": "stdout",
     "output_type": "stream",
     "text": [
      "https://www.bitstamp.net/api/v2/ohlc/ltcbtc/?&currency_pair=ltcbtc&step=900&limit=1000&start=1559343600\n",
      "Downloaded from 2019-06-01 00:00:00 to 2019-06-11 09:45:00 0.01629743\n",
      "Resample 15Min - TecAn ( windows 30, windows_limit 100 )\n",
      "Processing 999 of ltcbtc\n"
     ]
    },
    {
     "data": {
      "application/vnd.jupyter.widget-view+json": {
       "model_id": "cbd62ac393dc4182a60b19e89184762e",
       "version_major": 2,
       "version_minor": 0
      },
      "text/plain": [
       "  0%|          | 0/999 [00:00<?, ?it/s]"
      ]
     },
     "metadata": {},
     "output_type": "display_data"
    },
    {
     "name": "stdout",
     "output_type": "stream",
     "text": [
      "https://www.bitstamp.net/api/v2/ohlc/btcusd/?&currency_pair=btcusd&step=900&limit=1000&start=1527807600\n",
      "Downloaded from 2018-06-01 00:00:00 to 2018-06-11 09:45:00 6795.82\n",
      "Resample 15Min - TecAn ( windows 30, windows_limit 100 )\n",
      "Processing 999 of btcusd\n"
     ]
    },
    {
     "data": {
      "application/vnd.jupyter.widget-view+json": {
       "model_id": "05f0ba895bc54963b8d278bddb4b34d4",
       "version_major": 2,
       "version_minor": 0
      },
      "text/plain": [
       "  0%|          | 0/999 [00:00<?, ?it/s]"
      ]
     },
     "metadata": {},
     "output_type": "display_data"
    },
    {
     "name": "stdout",
     "output_type": "stream",
     "text": [
      "https://www.bitstamp.net/api/v2/ohlc/ethusd/?&currency_pair=ethusd&step=900&limit=1000&start=1527807600\n",
      "Downloaded from 2018-06-01 00:00:00 to 2018-06-11 09:45:00 532.74\n",
      "Resample 15Min - TecAn ( windows 30, windows_limit 100 )\n",
      "Processing 999 of ethusd\n"
     ]
    },
    {
     "data": {
      "application/vnd.jupyter.widget-view+json": {
       "model_id": "735ee46d693441fcb3d190ca146db348",
       "version_major": 2,
       "version_minor": 0
      },
      "text/plain": [
       "  0%|          | 0/999 [00:00<?, ?it/s]"
      ]
     },
     "metadata": {},
     "output_type": "display_data"
    },
    {
     "name": "stdout",
     "output_type": "stream",
     "text": [
      "https://www.bitstamp.net/api/v2/ohlc/ltcusd/?&currency_pair=ltcusd&step=900&limit=1000&start=1527807600\n",
      "Downloaded from 2018-06-01 00:00:00 to 2018-06-11 09:45:00 107.31\n",
      "Resample 15Min - TecAn ( windows 30, windows_limit 100 )\n",
      "Processing 999 of ltcusd\n"
     ]
    },
    {
     "data": {
      "application/vnd.jupyter.widget-view+json": {
       "model_id": "4839911a157a4813b404d08ad2fef972",
       "version_major": 2,
       "version_minor": 0
      },
      "text/plain": [
       "  0%|          | 0/999 [00:00<?, ?it/s]"
      ]
     },
     "metadata": {},
     "output_type": "display_data"
    },
    {
     "name": "stdout",
     "output_type": "stream",
     "text": [
      "https://www.bitstamp.net/api/v2/ohlc/ltcbtc/?&currency_pair=ltcbtc&step=900&limit=1000&start=1527807600\n",
      "Downloaded from 2018-06-01 00:00:00 to 2018-06-11 09:45:00 0.01578000\n",
      "Resample 15Min - TecAn ( windows 30, windows_limit 100 )\n",
      "Processing 999 of ltcbtc\n"
     ]
    },
    {
     "data": {
      "application/vnd.jupyter.widget-view+json": {
       "model_id": "2046d4e68d544ce58abf35a9a3606735",
       "version_major": 2,
       "version_minor": 0
      },
      "text/plain": [
       "  0%|          | 0/999 [00:00<?, ?it/s]"
      ]
     },
     "metadata": {},
     "output_type": "display_data"
    },
    {
     "name": "stdout",
     "output_type": "stream",
     "text": [
      "https://www.bitstamp.net/api/v2/ohlc/btcusd/?&currency_pair=btcusd&step=900&limit=1000&start=1517443200\n",
      "Downloaded from 2018-02-01 00:00:00 to 2018-02-11 09:45:00 8012.89\n",
      "Resample 15Min - TecAn ( windows 30, windows_limit 100 )\n",
      "Processing 999 of btcusd\n"
     ]
    },
    {
     "data": {
      "application/vnd.jupyter.widget-view+json": {
       "model_id": "6770838700cc425d9a62044bfef4877e",
       "version_major": 2,
       "version_minor": 0
      },
      "text/plain": [
       "  0%|          | 0/999 [00:00<?, ?it/s]"
      ]
     },
     "metadata": {},
     "output_type": "display_data"
    },
    {
     "name": "stdout",
     "output_type": "stream",
     "text": [
      "https://www.bitstamp.net/api/v2/ohlc/ethusd/?&currency_pair=ethusd&step=900&limit=1000&start=1517443200\n",
      "Downloaded from 2018-02-01 00:00:00 to 2018-02-11 09:45:00 800.68\n",
      "Resample 15Min - TecAn ( windows 30, windows_limit 100 )\n",
      "Processing 999 of ethusd\n"
     ]
    },
    {
     "data": {
      "application/vnd.jupyter.widget-view+json": {
       "model_id": "570a5ce73dd94de2ad5f1d6c0bbfcbf9",
       "version_major": 2,
       "version_minor": 0
      },
      "text/plain": [
       "  0%|          | 0/999 [00:00<?, ?it/s]"
      ]
     },
     "metadata": {},
     "output_type": "display_data"
    },
    {
     "name": "stdout",
     "output_type": "stream",
     "text": [
      "https://www.bitstamp.net/api/v2/ohlc/ltcusd/?&currency_pair=ltcusd&step=900&limit=1000&start=1517443200\n",
      "Downloaded from 2018-02-01 00:00:00 to 2018-02-11 09:45:00 144.90\n",
      "Resample 15Min - TecAn ( windows 30, windows_limit 100 )\n",
      "Processing 999 of ltcusd\n"
     ]
    },
    {
     "data": {
      "application/vnd.jupyter.widget-view+json": {
       "model_id": "5bf09a096ac143d3949246e95a5f5fde",
       "version_major": 2,
       "version_minor": 0
      },
      "text/plain": [
       "  0%|          | 0/999 [00:00<?, ?it/s]"
      ]
     },
     "metadata": {},
     "output_type": "display_data"
    },
    {
     "name": "stdout",
     "output_type": "stream",
     "text": [
      "https://www.bitstamp.net/api/v2/ohlc/ltcbtc/?&currency_pair=ltcbtc&step=900&limit=1000&start=1517443200\n",
      "Downloaded from 2018-02-01 00:00:00 to 2018-02-11 09:45:00 0.01806022\n",
      "Resample 15Min - TecAn ( windows 30, windows_limit 100 )\n",
      "Processing 999 of ltcbtc\n"
     ]
    },
    {
     "data": {
      "application/vnd.jupyter.widget-view+json": {
       "model_id": "c621925ef54745788b97b5d310b05708",
       "version_major": 2,
       "version_minor": 0
      },
      "text/plain": [
       "  0%|          | 0/999 [00:00<?, ?it/s]"
      ]
     },
     "metadata": {},
     "output_type": "display_data"
    },
    {
     "name": "stdout",
     "output_type": "stream",
     "text": [
      "https://www.bitstamp.net/api/v2/ohlc/btcusd/?&currency_pair=btcusd&step=900&limit=1000&start=1548979200\n",
      "Downloaded from 2019-02-01 00:00:00 to 2019-02-11 09:45:00 3594.91\n",
      "Resample 15Min - TecAn ( windows 30, windows_limit 100 )\n",
      "Processing 999 of btcusd\n"
     ]
    },
    {
     "data": {
      "application/vnd.jupyter.widget-view+json": {
       "model_id": "ff1a76e2da3d48cb925fd16d5eeefec9",
       "version_major": 2,
       "version_minor": 0
      },
      "text/plain": [
       "  0%|          | 0/999 [00:00<?, ?it/s]"
      ]
     },
     "metadata": {},
     "output_type": "display_data"
    },
    {
     "name": "stdout",
     "output_type": "stream",
     "text": [
      "https://www.bitstamp.net/api/v2/ohlc/ethusd/?&currency_pair=ethusd&step=900&limit=1000&start=1548979200\n",
      "Downloaded from 2019-02-01 00:00:00 to 2019-02-11 09:45:00 119.46\n",
      "Resample 15Min - TecAn ( windows 30, windows_limit 100 )\n",
      "Processing 999 of ethusd\n"
     ]
    },
    {
     "data": {
      "application/vnd.jupyter.widget-view+json": {
       "model_id": "c61781c4049c42fa81482b338470d33d",
       "version_major": 2,
       "version_minor": 0
      },
      "text/plain": [
       "  0%|          | 0/999 [00:00<?, ?it/s]"
      ]
     },
     "metadata": {},
     "output_type": "display_data"
    },
    {
     "name": "stdout",
     "output_type": "stream",
     "text": [
      "https://www.bitstamp.net/api/v2/ohlc/ltcusd/?&currency_pair=ltcusd&step=900&limit=1000&start=1548979200\n",
      "Downloaded from 2019-02-01 00:00:00 to 2019-02-11 09:45:00 43.79\n",
      "Resample 15Min - TecAn ( windows 30, windows_limit 100 )\n",
      "Processing 999 of ltcusd\n"
     ]
    },
    {
     "data": {
      "application/vnd.jupyter.widget-view+json": {
       "model_id": "74cdc62b8ed344649f42d72a7dd2fe0f",
       "version_major": 2,
       "version_minor": 0
      },
      "text/plain": [
       "  0%|          | 0/999 [00:00<?, ?it/s]"
      ]
     },
     "metadata": {},
     "output_type": "display_data"
    },
    {
     "name": "stdout",
     "output_type": "stream",
     "text": [
      "https://www.bitstamp.net/api/v2/ohlc/ltcbtc/?&currency_pair=ltcbtc&step=900&limit=1000&start=1548979200\n",
      "Downloaded from 2019-02-01 00:00:00 to 2019-02-11 09:45:00 0.01221493\n",
      "Resample 15Min - TecAn ( windows 30, windows_limit 100 )\n",
      "Processing 999 of ltcbtc\n"
     ]
    },
    {
     "data": {
      "application/vnd.jupyter.widget-view+json": {
       "model_id": "85f977ec2c944058b1f0b2de79188fde",
       "version_major": 2,
       "version_minor": 0
      },
      "text/plain": [
       "  0%|          | 0/999 [00:00<?, ?it/s]"
      ]
     },
     "metadata": {},
     "output_type": "display_data"
    },
    {
     "name": "stdout",
     "output_type": "stream",
     "text": [
      "https://www.bitstamp.net/api/v2/ohlc/btcusd/?&currency_pair=btcusd&step=900&limit=1000&start=1580515200\n",
      "Downloaded from 2020-02-01 00:00:00 to 2020-02-11 09:45:00 9783.54\n",
      "Resample 15Min - TecAn ( windows 30, windows_limit 100 )\n",
      "Processing 999 of btcusd\n"
     ]
    },
    {
     "data": {
      "application/vnd.jupyter.widget-view+json": {
       "model_id": "aabdb093fd824fc9a675c44caa16460b",
       "version_major": 2,
       "version_minor": 0
      },
      "text/plain": [
       "  0%|          | 0/999 [00:00<?, ?it/s]"
      ]
     },
     "metadata": {},
     "output_type": "display_data"
    },
    {
     "name": "stdout",
     "output_type": "stream",
     "text": [
      "https://www.bitstamp.net/api/v2/ohlc/ethusd/?&currency_pair=ethusd&step=900&limit=1000&start=1580515200\n",
      "Downloaded from 2020-02-01 00:00:00 to 2020-02-11 09:45:00 221.25\n",
      "Resample 15Min - TecAn ( windows 30, windows_limit 100 )\n",
      "Processing 999 of ethusd\n"
     ]
    },
    {
     "data": {
      "application/vnd.jupyter.widget-view+json": {
       "model_id": "ebbacc8d1e1b4e5f9f4e401c5be61fc5",
       "version_major": 2,
       "version_minor": 0
      },
      "text/plain": [
       "  0%|          | 0/999 [00:00<?, ?it/s]"
      ]
     },
     "metadata": {},
     "output_type": "display_data"
    },
    {
     "name": "stdout",
     "output_type": "stream",
     "text": [
      "https://www.bitstamp.net/api/v2/ohlc/ltcusd/?&currency_pair=ltcusd&step=900&limit=1000&start=1580515200\n",
      "Downloaded from 2020-02-01 00:00:00 to 2020-02-11 09:45:00 74.22\n",
      "Resample 15Min - TecAn ( windows 30, windows_limit 100 )\n",
      "Processing 999 of ltcusd\n"
     ]
    },
    {
     "data": {
      "application/vnd.jupyter.widget-view+json": {
       "model_id": "a078e6f4eb6d4c4c811f522fb3f2dc3d",
       "version_major": 2,
       "version_minor": 0
      },
      "text/plain": [
       "  0%|          | 0/999 [00:00<?, ?it/s]"
      ]
     },
     "metadata": {},
     "output_type": "display_data"
    },
    {
     "name": "stdout",
     "output_type": "stream",
     "text": [
      "https://www.bitstamp.net/api/v2/ohlc/ltcbtc/?&currency_pair=ltcbtc&step=900&limit=1000&start=1580515200\n",
      "Downloaded from 2020-02-01 00:00:00 to 2020-02-11 09:45:00 0.00757449\n",
      "Resample 15Min - TecAn ( windows 30, windows_limit 100 )\n",
      "Processing 999 of ltcbtc\n"
     ]
    },
    {
     "data": {
      "application/vnd.jupyter.widget-view+json": {
       "model_id": "9f3e4c9814d94677b6f0e2045c469138",
       "version_major": 2,
       "version_minor": 0
      },
      "text/plain": [
       "  0%|          | 0/999 [00:00<?, ?it/s]"
      ]
     },
     "metadata": {},
     "output_type": "display_data"
    },
    {
     "name": "stdout",
     "output_type": "stream",
     "text": [
      "https://www.bitstamp.net/api/v2/ohlc/btcusd/?&currency_pair=btcusd&step=900&limit=1000&start=1612137600\n",
      "Downloaded from 2021-02-01 00:00:00 to 2021-02-11 09:45:00 45154.95\n",
      "Resample 15Min - TecAn ( windows 30, windows_limit 100 )\n",
      "Processing 999 of btcusd\n"
     ]
    },
    {
     "data": {
      "application/vnd.jupyter.widget-view+json": {
       "model_id": "0f365a13bdd8405093340e380822d441",
       "version_major": 2,
       "version_minor": 0
      },
      "text/plain": [
       "  0%|          | 0/999 [00:00<?, ?it/s]"
      ]
     },
     "metadata": {},
     "output_type": "display_data"
    },
    {
     "name": "stdout",
     "output_type": "stream",
     "text": [
      "https://www.bitstamp.net/api/v2/ohlc/ethusd/?&currency_pair=ethusd&step=900&limit=1000&start=1612137600\n",
      "Downloaded from 2021-02-01 00:00:00 to 2021-02-11 09:45:00 1757.24\n",
      "Resample 15Min - TecAn ( windows 30, windows_limit 100 )\n",
      "Processing 999 of ethusd\n"
     ]
    },
    {
     "data": {
      "application/vnd.jupyter.widget-view+json": {
       "model_id": "e8657e8aedd6400a81146a0cb72c5aff",
       "version_major": 2,
       "version_minor": 0
      },
      "text/plain": [
       "  0%|          | 0/999 [00:00<?, ?it/s]"
      ]
     },
     "metadata": {},
     "output_type": "display_data"
    },
    {
     "name": "stdout",
     "output_type": "stream",
     "text": [
      "https://www.bitstamp.net/api/v2/ohlc/ltcusd/?&currency_pair=ltcusd&step=900&limit=1000&start=1612137600\n",
      "Downloaded from 2021-02-01 00:00:00 to 2021-02-11 09:45:00 186.32\n",
      "Resample 15Min - TecAn ( windows 30, windows_limit 100 )\n",
      "Processing 999 of ltcusd\n"
     ]
    },
    {
     "data": {
      "application/vnd.jupyter.widget-view+json": {
       "model_id": "e3d43e31b9e7495fadff548f18e1770f",
       "version_major": 2,
       "version_minor": 0
      },
      "text/plain": [
       "  0%|          | 0/999 [00:00<?, ?it/s]"
      ]
     },
     "metadata": {},
     "output_type": "display_data"
    },
    {
     "name": "stdout",
     "output_type": "stream",
     "text": [
      "https://www.bitstamp.net/api/v2/ohlc/ltcbtc/?&currency_pair=ltcbtc&step=900&limit=1000&start=1612137600\n",
      "Downloaded from 2021-02-01 00:00:00 to 2021-02-11 09:45:00 0.00413427\n",
      "Resample 15Min - TecAn ( windows 30, windows_limit 100 )\n",
      "Processing 999 of ltcbtc\n"
     ]
    },
    {
     "data": {
      "application/vnd.jupyter.widget-view+json": {
       "model_id": "045ab72ab5914f6ea81ee1e665e15c2a",
       "version_major": 2,
       "version_minor": 0
      },
      "text/plain": [
       "  0%|          | 0/999 [00:00<?, ?it/s]"
      ]
     },
     "metadata": {},
     "output_type": "display_data"
    },
    {
     "name": "stdout",
     "output_type": "stream",
     "text": [
      "https://www.bitstamp.net/api/v2/ohlc/btcusd/?&currency_pair=btcusd&step=900&limit=1000&start=1623711600\n",
      "https://www.bitstamp.net/api/v2/ohlc/btcusd/?&currency_pair=btcusd&step=900&limit=1000&start=1624610700\n",
      "https://www.bitstamp.net/api/v2/ohlc/btcusd/?&currency_pair=btcusd&step=900&limit=1000&start=1625509800\n",
      "Downloaded from 2021-06-15 00:00:00 to 2021-07-15 00:15:00 32832.43\n",
      "Resample 15Min - TecAn ( windows 30, windows_limit 100 )\n",
      "Processing 2883 of btcusd\n"
     ]
    },
    {
     "data": {
      "application/vnd.jupyter.widget-view+json": {
       "model_id": "5020e37b0d2849b784138cbcc0820523",
       "version_major": 2,
       "version_minor": 0
      },
      "text/plain": [
       "  0%|          | 0/2883 [00:00<?, ?it/s]"
      ]
     },
     "metadata": {},
     "output_type": "display_data"
    },
    {
     "name": "stdout",
     "output_type": "stream",
     "text": [
      "https://www.bitstamp.net/api/v2/ohlc/ethusd/?&currency_pair=ethusd&step=900&limit=1000&start=1623711600\n",
      "https://www.bitstamp.net/api/v2/ohlc/ethusd/?&currency_pair=ethusd&step=900&limit=1000&start=1624610700\n",
      "https://www.bitstamp.net/api/v2/ohlc/ethusd/?&currency_pair=ethusd&step=900&limit=1000&start=1625509800\n",
      "Downloaded from 2021-06-15 00:00:00 to 2021-07-15 00:15:00 1992.89\n",
      "Resample 15Min - TecAn ( windows 30, windows_limit 100 )\n",
      "Processing 2883 of ethusd\n"
     ]
    },
    {
     "data": {
      "application/vnd.jupyter.widget-view+json": {
       "model_id": "22f0dd95104344ef88b6697060efd7b9",
       "version_major": 2,
       "version_minor": 0
      },
      "text/plain": [
       "  0%|          | 0/2883 [00:00<?, ?it/s]"
      ]
     },
     "metadata": {},
     "output_type": "display_data"
    },
    {
     "name": "stdout",
     "output_type": "stream",
     "text": [
      "https://www.bitstamp.net/api/v2/ohlc/ltcusd/?&currency_pair=ltcusd&step=900&limit=1000&start=1623711600\n",
      "https://www.bitstamp.net/api/v2/ohlc/ltcusd/?&currency_pair=ltcusd&step=900&limit=1000&start=1624610700\n",
      "https://www.bitstamp.net/api/v2/ohlc/ltcusd/?&currency_pair=ltcusd&step=900&limit=1000&start=1625509800\n",
      "Downloaded from 2021-06-15 00:00:00 to 2021-07-15 00:15:00 130.91\n",
      "Resample 15Min - TecAn ( windows 30, windows_limit 100 )\n",
      "Processing 2883 of ltcusd\n"
     ]
    },
    {
     "data": {
      "application/vnd.jupyter.widget-view+json": {
       "model_id": "9c3cace47fe946c5a76571e6ec14ff39",
       "version_major": 2,
       "version_minor": 0
      },
      "text/plain": [
       "  0%|          | 0/2883 [00:00<?, ?it/s]"
      ]
     },
     "metadata": {},
     "output_type": "display_data"
    },
    {
     "name": "stdout",
     "output_type": "stream",
     "text": [
      "https://www.bitstamp.net/api/v2/ohlc/ltcbtc/?&currency_pair=ltcbtc&step=900&limit=1000&start=1623711600\n",
      "https://www.bitstamp.net/api/v2/ohlc/ltcbtc/?&currency_pair=ltcbtc&step=900&limit=1000&start=1624610700\n",
      "https://www.bitstamp.net/api/v2/ohlc/ltcbtc/?&currency_pair=ltcbtc&step=900&limit=1000&start=1625509800\n",
      "Downloaded from 2021-06-15 00:00:00 to 2021-07-15 00:15:00 0.00398379\n",
      "Resample 15Min - TecAn ( windows 30, windows_limit 100 )\n",
      "Processing 2883 of ltcbtc\n"
     ]
    },
    {
     "data": {
      "application/vnd.jupyter.widget-view+json": {
       "model_id": "6a83464723e44499a1b846167e5fef1f",
       "version_major": 2,
       "version_minor": 0
      },
      "text/plain": [
       "  0%|          | 0/2883 [00:00<?, ?it/s]"
      ]
     },
     "metadata": {},
     "output_type": "display_data"
    },
    {
     "name": "stdout",
     "output_type": "stream",
     "text": [
      "https://www.bitstamp.net/api/v2/ohlc/btcusd/?&currency_pair=btcusd&step=900&limit=1000&start=1622502000\n",
      "Downloaded from 2021-06-01 00:00:00 to 2021-06-11 09:45:00 37001.01\n",
      "Resample 15Min - TecAn ( windows 40, windows_limit 100 )\n",
      "Processing 999 of btcusd\n"
     ]
    },
    {
     "data": {
      "application/vnd.jupyter.widget-view+json": {
       "model_id": "1e5533992d5c41c6ada7c505a5044826",
       "version_major": 2,
       "version_minor": 0
      },
      "text/plain": [
       "  0%|          | 0/999 [00:00<?, ?it/s]"
      ]
     },
     "metadata": {},
     "output_type": "display_data"
    },
    {
     "name": "stdout",
     "output_type": "stream",
     "text": [
      "https://www.bitstamp.net/api/v2/ohlc/ethusd/?&currency_pair=ethusd&step=900&limit=1000&start=1622502000\n",
      "Downloaded from 2021-06-01 00:00:00 to 2021-06-11 09:45:00 2450.30\n",
      "Resample 15Min - TecAn ( windows 40, windows_limit 100 )\n",
      "Processing 999 of ethusd\n"
     ]
    },
    {
     "data": {
      "application/vnd.jupyter.widget-view+json": {
       "model_id": "0d75dc342cf24725ae13bd7ffcf61cd5",
       "version_major": 2,
       "version_minor": 0
      },
      "text/plain": [
       "  0%|          | 0/999 [00:00<?, ?it/s]"
      ]
     },
     "metadata": {},
     "output_type": "display_data"
    },
    {
     "name": "stdout",
     "output_type": "stream",
     "text": [
      "https://www.bitstamp.net/api/v2/ohlc/ltcusd/?&currency_pair=ltcusd&step=900&limit=1000&start=1622502000\n",
      "Downloaded from 2021-06-01 00:00:00 to 2021-06-11 09:45:00 169.68\n",
      "Resample 15Min - TecAn ( windows 40, windows_limit 100 )\n",
      "Processing 999 of ltcusd\n"
     ]
    },
    {
     "data": {
      "application/vnd.jupyter.widget-view+json": {
       "model_id": "0b40835681d44d469812af441ff8ea18",
       "version_major": 2,
       "version_minor": 0
      },
      "text/plain": [
       "  0%|          | 0/999 [00:00<?, ?it/s]"
      ]
     },
     "metadata": {},
     "output_type": "display_data"
    },
    {
     "name": "stdout",
     "output_type": "stream",
     "text": [
      "https://www.bitstamp.net/api/v2/ohlc/ltcbtc/?&currency_pair=ltcbtc&step=900&limit=1000&start=1622502000\n",
      "Downloaded from 2021-06-01 00:00:00 to 2021-06-11 09:45:00 0.00458926\n",
      "Resample 15Min - TecAn ( windows 40, windows_limit 100 )\n",
      "Processing 999 of ltcbtc\n"
     ]
    },
    {
     "data": {
      "application/vnd.jupyter.widget-view+json": {
       "model_id": "21ccfa4803f34ae9a02eb22984a4e8a6",
       "version_major": 2,
       "version_minor": 0
      },
      "text/plain": [
       "  0%|          | 0/999 [00:00<?, ?it/s]"
      ]
     },
     "metadata": {},
     "output_type": "display_data"
    },
    {
     "name": "stdout",
     "output_type": "stream",
     "text": [
      "https://www.bitstamp.net/api/v2/ohlc/btcusd/?&currency_pair=btcusd&step=900&limit=1000&start=1590966000\n",
      "Downloaded from 2020-06-01 00:00:00 to 2020-06-11 09:45:00 9820.86\n",
      "Resample 15Min - TecAn ( windows 40, windows_limit 100 )\n",
      "Processing 999 of btcusd\n"
     ]
    },
    {
     "data": {
      "application/vnd.jupyter.widget-view+json": {
       "model_id": "77cc92d55e2f43fbbdcbd5f772a3666f",
       "version_major": 2,
       "version_minor": 0
      },
      "text/plain": [
       "  0%|          | 0/999 [00:00<?, ?it/s]"
      ]
     },
     "metadata": {},
     "output_type": "display_data"
    },
    {
     "name": "stdout",
     "output_type": "stream",
     "text": [
      "https://www.bitstamp.net/api/v2/ohlc/ethusd/?&currency_pair=ethusd&step=900&limit=1000&start=1590966000\n",
      "Downloaded from 2020-06-01 00:00:00 to 2020-06-11 09:45:00 246.70\n",
      "Resample 15Min - TecAn ( windows 40, windows_limit 100 )\n",
      "Processing 999 of ethusd\n"
     ]
    },
    {
     "data": {
      "application/vnd.jupyter.widget-view+json": {
       "model_id": "7276753cc00c4ad592aa15cebc43cbb4",
       "version_major": 2,
       "version_minor": 0
      },
      "text/plain": [
       "  0%|          | 0/999 [00:00<?, ?it/s]"
      ]
     },
     "metadata": {},
     "output_type": "display_data"
    },
    {
     "name": "stdout",
     "output_type": "stream",
     "text": [
      "https://www.bitstamp.net/api/v2/ohlc/ltcusd/?&currency_pair=ltcusd&step=900&limit=1000&start=1590966000\n",
      "Downloaded from 2020-06-01 00:00:00 to 2020-06-11 09:45:00 46.34\n",
      "Resample 15Min - TecAn ( windows 40, windows_limit 100 )\n",
      "Processing 999 of ltcusd\n"
     ]
    },
    {
     "data": {
      "application/vnd.jupyter.widget-view+json": {
       "model_id": "bc157638f5914edc9aef9adaa8888839",
       "version_major": 2,
       "version_minor": 0
      },
      "text/plain": [
       "  0%|          | 0/999 [00:00<?, ?it/s]"
      ]
     },
     "metadata": {},
     "output_type": "display_data"
    },
    {
     "name": "stdout",
     "output_type": "stream",
     "text": [
      "https://www.bitstamp.net/api/v2/ohlc/ltcbtc/?&currency_pair=ltcbtc&step=900&limit=1000&start=1590966000\n",
      "Downloaded from 2020-06-01 00:00:00 to 2020-06-11 09:45:00 0.00470967\n",
      "Resample 15Min - TecAn ( windows 40, windows_limit 100 )\n",
      "Processing 999 of ltcbtc\n"
     ]
    },
    {
     "data": {
      "application/vnd.jupyter.widget-view+json": {
       "model_id": "2ecb39759ca4490f863c6ac7e986f9b4",
       "version_major": 2,
       "version_minor": 0
      },
      "text/plain": [
       "  0%|          | 0/999 [00:00<?, ?it/s]"
      ]
     },
     "metadata": {},
     "output_type": "display_data"
    },
    {
     "name": "stdout",
     "output_type": "stream",
     "text": [
      "https://www.bitstamp.net/api/v2/ohlc/btcusd/?&currency_pair=btcusd&step=900&limit=1000&start=1559343600\n",
      "Downloaded from 2019-06-01 00:00:00 to 2019-06-11 09:45:00 7961.80\n",
      "Resample 15Min - TecAn ( windows 40, windows_limit 100 )\n",
      "Processing 999 of btcusd\n"
     ]
    },
    {
     "data": {
      "application/vnd.jupyter.widget-view+json": {
       "model_id": "d66bd3452f264bec8e65e045913eb623",
       "version_major": 2,
       "version_minor": 0
      },
      "text/plain": [
       "  0%|          | 0/999 [00:00<?, ?it/s]"
      ]
     },
     "metadata": {},
     "output_type": "display_data"
    },
    {
     "name": "stdout",
     "output_type": "stream",
     "text": [
      "https://www.bitstamp.net/api/v2/ohlc/ethusd/?&currency_pair=ethusd&step=900&limit=1000&start=1559343600\n",
      "Downloaded from 2019-06-01 00:00:00 to 2019-06-11 09:45:00 247.16\n",
      "Resample 15Min - TecAn ( windows 40, windows_limit 100 )\n",
      "Processing 999 of ethusd\n"
     ]
    },
    {
     "data": {
      "application/vnd.jupyter.widget-view+json": {
       "model_id": "b359d60b15fd4ea8bd7b2a024ecb0293",
       "version_major": 2,
       "version_minor": 0
      },
      "text/plain": [
       "  0%|          | 0/999 [00:00<?, ?it/s]"
      ]
     },
     "metadata": {},
     "output_type": "display_data"
    },
    {
     "name": "stdout",
     "output_type": "stream",
     "text": [
      "https://www.bitstamp.net/api/v2/ohlc/ltcusd/?&currency_pair=ltcusd&step=900&limit=1000&start=1559343600\n",
      "Downloaded from 2019-06-01 00:00:00 to 2019-06-11 09:45:00 129.66\n",
      "Resample 15Min - TecAn ( windows 40, windows_limit 100 )\n",
      "Processing 999 of ltcusd\n"
     ]
    },
    {
     "data": {
      "application/vnd.jupyter.widget-view+json": {
       "model_id": "52354d203f24429a8c95cdfcd24902b1",
       "version_major": 2,
       "version_minor": 0
      },
      "text/plain": [
       "  0%|          | 0/999 [00:00<?, ?it/s]"
      ]
     },
     "metadata": {},
     "output_type": "display_data"
    },
    {
     "name": "stdout",
     "output_type": "stream",
     "text": [
      "https://www.bitstamp.net/api/v2/ohlc/ltcbtc/?&currency_pair=ltcbtc&step=900&limit=1000&start=1559343600\n",
      "Downloaded from 2019-06-01 00:00:00 to 2019-06-11 09:45:00 0.01629743\n",
      "Resample 15Min - TecAn ( windows 40, windows_limit 100 )\n",
      "Processing 999 of ltcbtc\n"
     ]
    },
    {
     "data": {
      "application/vnd.jupyter.widget-view+json": {
       "model_id": "8c58ae289ed84f1c8e9bbe506352e7a7",
       "version_major": 2,
       "version_minor": 0
      },
      "text/plain": [
       "  0%|          | 0/999 [00:00<?, ?it/s]"
      ]
     },
     "metadata": {},
     "output_type": "display_data"
    },
    {
     "name": "stdout",
     "output_type": "stream",
     "text": [
      "https://www.bitstamp.net/api/v2/ohlc/btcusd/?&currency_pair=btcusd&step=900&limit=1000&start=1527807600\n",
      "Downloaded from 2018-06-01 00:00:00 to 2018-06-11 09:45:00 6795.82\n",
      "Resample 15Min - TecAn ( windows 40, windows_limit 100 )\n",
      "Processing 999 of btcusd\n"
     ]
    },
    {
     "data": {
      "application/vnd.jupyter.widget-view+json": {
       "model_id": "06548c472e9d45afbba0c05e5196516c",
       "version_major": 2,
       "version_minor": 0
      },
      "text/plain": [
       "  0%|          | 0/999 [00:00<?, ?it/s]"
      ]
     },
     "metadata": {},
     "output_type": "display_data"
    },
    {
     "name": "stdout",
     "output_type": "stream",
     "text": [
      "https://www.bitstamp.net/api/v2/ohlc/ethusd/?&currency_pair=ethusd&step=900&limit=1000&start=1527807600\n",
      "Downloaded from 2018-06-01 00:00:00 to 2018-06-11 09:45:00 532.74\n",
      "Resample 15Min - TecAn ( windows 40, windows_limit 100 )\n",
      "Processing 999 of ethusd\n"
     ]
    },
    {
     "data": {
      "application/vnd.jupyter.widget-view+json": {
       "model_id": "2a2d900c2b8246209dd620092b5caa6b",
       "version_major": 2,
       "version_minor": 0
      },
      "text/plain": [
       "  0%|          | 0/999 [00:00<?, ?it/s]"
      ]
     },
     "metadata": {},
     "output_type": "display_data"
    },
    {
     "name": "stdout",
     "output_type": "stream",
     "text": [
      "https://www.bitstamp.net/api/v2/ohlc/ltcusd/?&currency_pair=ltcusd&step=900&limit=1000&start=1527807600\n",
      "Downloaded from 2018-06-01 00:00:00 to 2018-06-11 09:45:00 107.31\n",
      "Resample 15Min - TecAn ( windows 40, windows_limit 100 )\n",
      "Processing 999 of ltcusd\n"
     ]
    },
    {
     "data": {
      "application/vnd.jupyter.widget-view+json": {
       "model_id": "d71f81a7f2574ecf92e136ff03c8a8d7",
       "version_major": 2,
       "version_minor": 0
      },
      "text/plain": [
       "  0%|          | 0/999 [00:00<?, ?it/s]"
      ]
     },
     "metadata": {},
     "output_type": "display_data"
    },
    {
     "name": "stdout",
     "output_type": "stream",
     "text": [
      "https://www.bitstamp.net/api/v2/ohlc/ltcbtc/?&currency_pair=ltcbtc&step=900&limit=1000&start=1527807600\n",
      "Downloaded from 2018-06-01 00:00:00 to 2018-06-11 09:45:00 0.01578000\n",
      "Resample 15Min - TecAn ( windows 40, windows_limit 100 )\n",
      "Processing 999 of ltcbtc\n"
     ]
    },
    {
     "data": {
      "application/vnd.jupyter.widget-view+json": {
       "model_id": "1f11d8958f0440119a18fc784e7badf5",
       "version_major": 2,
       "version_minor": 0
      },
      "text/plain": [
       "  0%|          | 0/999 [00:00<?, ?it/s]"
      ]
     },
     "metadata": {},
     "output_type": "display_data"
    },
    {
     "name": "stdout",
     "output_type": "stream",
     "text": [
      "https://www.bitstamp.net/api/v2/ohlc/btcusd/?&currency_pair=btcusd&step=900&limit=1000&start=1517443200\n",
      "Downloaded from 2018-02-01 00:00:00 to 2018-02-11 09:45:00 8012.89\n",
      "Resample 15Min - TecAn ( windows 40, windows_limit 100 )\n",
      "Processing 999 of btcusd\n"
     ]
    },
    {
     "data": {
      "application/vnd.jupyter.widget-view+json": {
       "model_id": "d5647214a07d4e1ba818afef1e029669",
       "version_major": 2,
       "version_minor": 0
      },
      "text/plain": [
       "  0%|          | 0/999 [00:00<?, ?it/s]"
      ]
     },
     "metadata": {},
     "output_type": "display_data"
    },
    {
     "name": "stdout",
     "output_type": "stream",
     "text": [
      "https://www.bitstamp.net/api/v2/ohlc/ethusd/?&currency_pair=ethusd&step=900&limit=1000&start=1517443200\n",
      "Downloaded from 2018-02-01 00:00:00 to 2018-02-11 09:45:00 800.68\n",
      "Resample 15Min - TecAn ( windows 40, windows_limit 100 )\n",
      "Processing 999 of ethusd\n"
     ]
    },
    {
     "data": {
      "application/vnd.jupyter.widget-view+json": {
       "model_id": "0077f2484d24468497fecfa375f695ef",
       "version_major": 2,
       "version_minor": 0
      },
      "text/plain": [
       "  0%|          | 0/999 [00:00<?, ?it/s]"
      ]
     },
     "metadata": {},
     "output_type": "display_data"
    },
    {
     "name": "stdout",
     "output_type": "stream",
     "text": [
      "https://www.bitstamp.net/api/v2/ohlc/ltcusd/?&currency_pair=ltcusd&step=900&limit=1000&start=1517443200\n",
      "Downloaded from 2018-02-01 00:00:00 to 2018-02-11 09:45:00 144.90\n",
      "Resample 15Min - TecAn ( windows 40, windows_limit 100 )\n",
      "Processing 999 of ltcusd\n"
     ]
    },
    {
     "data": {
      "application/vnd.jupyter.widget-view+json": {
       "model_id": "abfd437b4ca1488e929e64e795dc727c",
       "version_major": 2,
       "version_minor": 0
      },
      "text/plain": [
       "  0%|          | 0/999 [00:00<?, ?it/s]"
      ]
     },
     "metadata": {},
     "output_type": "display_data"
    },
    {
     "name": "stdout",
     "output_type": "stream",
     "text": [
      "https://www.bitstamp.net/api/v2/ohlc/ltcbtc/?&currency_pair=ltcbtc&step=900&limit=1000&start=1517443200\n",
      "Downloaded from 2018-02-01 00:00:00 to 2018-02-11 09:45:00 0.01806022\n",
      "Resample 15Min - TecAn ( windows 40, windows_limit 100 )\n",
      "Processing 999 of ltcbtc\n"
     ]
    },
    {
     "data": {
      "application/vnd.jupyter.widget-view+json": {
       "model_id": "b0adafef056c45d6b41b975b7f1892c9",
       "version_major": 2,
       "version_minor": 0
      },
      "text/plain": [
       "  0%|          | 0/999 [00:00<?, ?it/s]"
      ]
     },
     "metadata": {},
     "output_type": "display_data"
    },
    {
     "name": "stdout",
     "output_type": "stream",
     "text": [
      "https://www.bitstamp.net/api/v2/ohlc/btcusd/?&currency_pair=btcusd&step=900&limit=1000&start=1548979200\n",
      "Downloaded from 2019-02-01 00:00:00 to 2019-02-11 09:45:00 3594.91\n",
      "Resample 15Min - TecAn ( windows 40, windows_limit 100 )\n",
      "Processing 999 of btcusd\n"
     ]
    },
    {
     "data": {
      "application/vnd.jupyter.widget-view+json": {
       "model_id": "17cf174ef96042feabf9f8cc7681f155",
       "version_major": 2,
       "version_minor": 0
      },
      "text/plain": [
       "  0%|          | 0/999 [00:00<?, ?it/s]"
      ]
     },
     "metadata": {},
     "output_type": "display_data"
    },
    {
     "name": "stdout",
     "output_type": "stream",
     "text": [
      "https://www.bitstamp.net/api/v2/ohlc/ethusd/?&currency_pair=ethusd&step=900&limit=1000&start=1548979200\n",
      "Downloaded from 2019-02-01 00:00:00 to 2019-02-11 09:45:00 119.46\n",
      "Resample 15Min - TecAn ( windows 40, windows_limit 100 )\n",
      "Processing 999 of ethusd\n"
     ]
    },
    {
     "data": {
      "application/vnd.jupyter.widget-view+json": {
       "model_id": "ac17252cfebd42168c2eb4a3e1bc36d2",
       "version_major": 2,
       "version_minor": 0
      },
      "text/plain": [
       "  0%|          | 0/999 [00:00<?, ?it/s]"
      ]
     },
     "metadata": {},
     "output_type": "display_data"
    },
    {
     "name": "stdout",
     "output_type": "stream",
     "text": [
      "https://www.bitstamp.net/api/v2/ohlc/ltcusd/?&currency_pair=ltcusd&step=900&limit=1000&start=1548979200\n",
      "Downloaded from 2019-02-01 00:00:00 to 2019-02-11 09:45:00 43.79\n",
      "Resample 15Min - TecAn ( windows 40, windows_limit 100 )\n",
      "Processing 999 of ltcusd\n"
     ]
    },
    {
     "data": {
      "application/vnd.jupyter.widget-view+json": {
       "model_id": "09585d7cb22d44189f09ff429482decd",
       "version_major": 2,
       "version_minor": 0
      },
      "text/plain": [
       "  0%|          | 0/999 [00:00<?, ?it/s]"
      ]
     },
     "metadata": {},
     "output_type": "display_data"
    },
    {
     "name": "stdout",
     "output_type": "stream",
     "text": [
      "https://www.bitstamp.net/api/v2/ohlc/ltcbtc/?&currency_pair=ltcbtc&step=900&limit=1000&start=1548979200\n",
      "Downloaded from 2019-02-01 00:00:00 to 2019-02-11 09:45:00 0.01221493\n",
      "Resample 15Min - TecAn ( windows 40, windows_limit 100 )\n",
      "Processing 999 of ltcbtc\n"
     ]
    },
    {
     "data": {
      "application/vnd.jupyter.widget-view+json": {
       "model_id": "faf6700cb69349b4952cb62040043add",
       "version_major": 2,
       "version_minor": 0
      },
      "text/plain": [
       "  0%|          | 0/999 [00:00<?, ?it/s]"
      ]
     },
     "metadata": {},
     "output_type": "display_data"
    },
    {
     "name": "stdout",
     "output_type": "stream",
     "text": [
      "https://www.bitstamp.net/api/v2/ohlc/btcusd/?&currency_pair=btcusd&step=900&limit=1000&start=1580515200\n",
      "Downloaded from 2020-02-01 00:00:00 to 2020-02-11 09:45:00 9783.54\n",
      "Resample 15Min - TecAn ( windows 40, windows_limit 100 )\n",
      "Processing 999 of btcusd\n"
     ]
    },
    {
     "data": {
      "application/vnd.jupyter.widget-view+json": {
       "model_id": "a898c1e772384de7bed8fe0e03ba36d5",
       "version_major": 2,
       "version_minor": 0
      },
      "text/plain": [
       "  0%|          | 0/999 [00:00<?, ?it/s]"
      ]
     },
     "metadata": {},
     "output_type": "display_data"
    },
    {
     "name": "stdout",
     "output_type": "stream",
     "text": [
      "https://www.bitstamp.net/api/v2/ohlc/ethusd/?&currency_pair=ethusd&step=900&limit=1000&start=1580515200\n",
      "Downloaded from 2020-02-01 00:00:00 to 2020-02-11 09:45:00 221.25\n",
      "Resample 15Min - TecAn ( windows 40, windows_limit 100 )\n",
      "Processing 999 of ethusd\n"
     ]
    },
    {
     "data": {
      "application/vnd.jupyter.widget-view+json": {
       "model_id": "1d92e48ece8747ca98e9f364ea97df0a",
       "version_major": 2,
       "version_minor": 0
      },
      "text/plain": [
       "  0%|          | 0/999 [00:00<?, ?it/s]"
      ]
     },
     "metadata": {},
     "output_type": "display_data"
    },
    {
     "name": "stdout",
     "output_type": "stream",
     "text": [
      "https://www.bitstamp.net/api/v2/ohlc/ltcusd/?&currency_pair=ltcusd&step=900&limit=1000&start=1580515200\n",
      "Downloaded from 2020-02-01 00:00:00 to 2020-02-11 09:45:00 74.22\n",
      "Resample 15Min - TecAn ( windows 40, windows_limit 100 )\n",
      "Processing 999 of ltcusd\n"
     ]
    },
    {
     "data": {
      "application/vnd.jupyter.widget-view+json": {
       "model_id": "b513f91bd963493fb8d466c8a8cc6cec",
       "version_major": 2,
       "version_minor": 0
      },
      "text/plain": [
       "  0%|          | 0/999 [00:00<?, ?it/s]"
      ]
     },
     "metadata": {},
     "output_type": "display_data"
    },
    {
     "name": "stdout",
     "output_type": "stream",
     "text": [
      "https://www.bitstamp.net/api/v2/ohlc/ltcbtc/?&currency_pair=ltcbtc&step=900&limit=1000&start=1580515200\n",
      "Downloaded from 2020-02-01 00:00:00 to 2020-02-11 09:45:00 0.00757449\n",
      "Resample 15Min - TecAn ( windows 40, windows_limit 100 )\n",
      "Processing 999 of ltcbtc\n"
     ]
    },
    {
     "data": {
      "application/vnd.jupyter.widget-view+json": {
       "model_id": "33cbb247d32f439281480b49b487bc0a",
       "version_major": 2,
       "version_minor": 0
      },
      "text/plain": [
       "  0%|          | 0/999 [00:00<?, ?it/s]"
      ]
     },
     "metadata": {},
     "output_type": "display_data"
    },
    {
     "name": "stdout",
     "output_type": "stream",
     "text": [
      "https://www.bitstamp.net/api/v2/ohlc/btcusd/?&currency_pair=btcusd&step=900&limit=1000&start=1612137600\n",
      "Downloaded from 2021-02-01 00:00:00 to 2021-02-11 09:45:00 45154.95\n",
      "Resample 15Min - TecAn ( windows 40, windows_limit 100 )\n",
      "Processing 999 of btcusd\n"
     ]
    },
    {
     "data": {
      "application/vnd.jupyter.widget-view+json": {
       "model_id": "f68f302698604228a01f04523141fc5c",
       "version_major": 2,
       "version_minor": 0
      },
      "text/plain": [
       "  0%|          | 0/999 [00:00<?, ?it/s]"
      ]
     },
     "metadata": {},
     "output_type": "display_data"
    },
    {
     "name": "stdout",
     "output_type": "stream",
     "text": [
      "https://www.bitstamp.net/api/v2/ohlc/ethusd/?&currency_pair=ethusd&step=900&limit=1000&start=1612137600\n",
      "Downloaded from 2021-02-01 00:00:00 to 2021-02-11 09:45:00 1757.24\n",
      "Resample 15Min - TecAn ( windows 40, windows_limit 100 )\n",
      "Processing 999 of ethusd\n"
     ]
    },
    {
     "data": {
      "application/vnd.jupyter.widget-view+json": {
       "model_id": "58c8f93b85ba4e9db2834aafede8683e",
       "version_major": 2,
       "version_minor": 0
      },
      "text/plain": [
       "  0%|          | 0/999 [00:00<?, ?it/s]"
      ]
     },
     "metadata": {},
     "output_type": "display_data"
    },
    {
     "name": "stdout",
     "output_type": "stream",
     "text": [
      "https://www.bitstamp.net/api/v2/ohlc/ltcusd/?&currency_pair=ltcusd&step=900&limit=1000&start=1612137600\n",
      "Downloaded from 2021-02-01 00:00:00 to 2021-02-11 09:45:00 186.32\n",
      "Resample 15Min - TecAn ( windows 40, windows_limit 100 )\n",
      "Processing 999 of ltcusd\n"
     ]
    },
    {
     "data": {
      "application/vnd.jupyter.widget-view+json": {
       "model_id": "d9f9c010a589458880e539baa60bbc45",
       "version_major": 2,
       "version_minor": 0
      },
      "text/plain": [
       "  0%|          | 0/999 [00:00<?, ?it/s]"
      ]
     },
     "metadata": {},
     "output_type": "display_data"
    },
    {
     "name": "stdout",
     "output_type": "stream",
     "text": [
      "https://www.bitstamp.net/api/v2/ohlc/ltcbtc/?&currency_pair=ltcbtc&step=900&limit=1000&start=1612137600\n",
      "Downloaded from 2021-02-01 00:00:00 to 2021-02-11 09:45:00 0.00413427\n",
      "Resample 15Min - TecAn ( windows 40, windows_limit 100 )\n",
      "Processing 999 of ltcbtc\n"
     ]
    },
    {
     "data": {
      "application/vnd.jupyter.widget-view+json": {
       "model_id": "c2f2fd5ee3f1422782d3afc08404097a",
       "version_major": 2,
       "version_minor": 0
      },
      "text/plain": [
       "  0%|          | 0/999 [00:00<?, ?it/s]"
      ]
     },
     "metadata": {},
     "output_type": "display_data"
    },
    {
     "name": "stdout",
     "output_type": "stream",
     "text": [
      "https://www.bitstamp.net/api/v2/ohlc/btcusd/?&currency_pair=btcusd&step=900&limit=1000&start=1623711600\n",
      "https://www.bitstamp.net/api/v2/ohlc/btcusd/?&currency_pair=btcusd&step=900&limit=1000&start=1624610700\n",
      "https://www.bitstamp.net/api/v2/ohlc/btcusd/?&currency_pair=btcusd&step=900&limit=1000&start=1625509800\n",
      "Downloaded from 2021-06-15 00:00:00 to 2021-07-15 00:15:00 32832.43\n",
      "Resample 15Min - TecAn ( windows 40, windows_limit 100 )\n",
      "Processing 2883 of btcusd\n"
     ]
    },
    {
     "data": {
      "application/vnd.jupyter.widget-view+json": {
       "model_id": "8d5304838a304b7b9343d7e754f4164d",
       "version_major": 2,
       "version_minor": 0
      },
      "text/plain": [
       "  0%|          | 0/2883 [00:00<?, ?it/s]"
      ]
     },
     "metadata": {},
     "output_type": "display_data"
    },
    {
     "name": "stdout",
     "output_type": "stream",
     "text": [
      "https://www.bitstamp.net/api/v2/ohlc/ethusd/?&currency_pair=ethusd&step=900&limit=1000&start=1623711600\n",
      "https://www.bitstamp.net/api/v2/ohlc/ethusd/?&currency_pair=ethusd&step=900&limit=1000&start=1624610700\n",
      "https://www.bitstamp.net/api/v2/ohlc/ethusd/?&currency_pair=ethusd&step=900&limit=1000&start=1625509800\n",
      "Downloaded from 2021-06-15 00:00:00 to 2021-07-15 00:15:00 1992.89\n",
      "Resample 15Min - TecAn ( windows 40, windows_limit 100 )\n",
      "Processing 2883 of ethusd\n"
     ]
    },
    {
     "data": {
      "application/vnd.jupyter.widget-view+json": {
       "model_id": "1059869536e6495a9b964632357c85e3",
       "version_major": 2,
       "version_minor": 0
      },
      "text/plain": [
       "  0%|          | 0/2883 [00:00<?, ?it/s]"
      ]
     },
     "metadata": {},
     "output_type": "display_data"
    },
    {
     "name": "stdout",
     "output_type": "stream",
     "text": [
      "https://www.bitstamp.net/api/v2/ohlc/ltcusd/?&currency_pair=ltcusd&step=900&limit=1000&start=1623711600\n",
      "https://www.bitstamp.net/api/v2/ohlc/ltcusd/?&currency_pair=ltcusd&step=900&limit=1000&start=1624610700\n",
      "https://www.bitstamp.net/api/v2/ohlc/ltcusd/?&currency_pair=ltcusd&step=900&limit=1000&start=1625509800\n",
      "Downloaded from 2021-06-15 00:00:00 to 2021-07-15 00:15:00 130.91\n",
      "Resample 15Min - TecAn ( windows 40, windows_limit 100 )\n",
      "Processing 2883 of ltcusd\n"
     ]
    },
    {
     "data": {
      "application/vnd.jupyter.widget-view+json": {
       "model_id": "67fed1741b9d4f62851c0c6d3a913aca",
       "version_major": 2,
       "version_minor": 0
      },
      "text/plain": [
       "  0%|          | 0/2883 [00:00<?, ?it/s]"
      ]
     },
     "metadata": {},
     "output_type": "display_data"
    },
    {
     "name": "stdout",
     "output_type": "stream",
     "text": [
      "https://www.bitstamp.net/api/v2/ohlc/ltcbtc/?&currency_pair=ltcbtc&step=900&limit=1000&start=1623711600\n",
      "https://www.bitstamp.net/api/v2/ohlc/ltcbtc/?&currency_pair=ltcbtc&step=900&limit=1000&start=1624610700\n",
      "https://www.bitstamp.net/api/v2/ohlc/ltcbtc/?&currency_pair=ltcbtc&step=900&limit=1000&start=1625509800\n",
      "Downloaded from 2021-06-15 00:00:00 to 2021-07-15 00:15:00 0.00398379\n",
      "Resample 15Min - TecAn ( windows 40, windows_limit 100 )\n",
      "Processing 2883 of ltcbtc\n"
     ]
    },
    {
     "data": {
      "application/vnd.jupyter.widget-view+json": {
       "model_id": "64a7a6883410458ba12a3166f82d0f13",
       "version_major": 2,
       "version_minor": 0
      },
      "text/plain": [
       "  0%|          | 0/2883 [00:00<?, ?it/s]"
      ]
     },
     "metadata": {},
     "output_type": "display_data"
    },
    {
     "name": "stdout",
     "output_type": "stream",
     "text": [
      "https://www.bitstamp.net/api/v2/ohlc/btcusd/?&currency_pair=btcusd&step=300&limit=1000&start=1622502000\n",
      "Downloaded from 2021-06-01 00:00:00 to 2021-06-04 11:15:00 36979.84\n",
      "Resample 5Min - TecAn ( windows 5, windows_limit 100 )\n",
      "Processing 999 of btcusd\n"
     ]
    },
    {
     "data": {
      "application/vnd.jupyter.widget-view+json": {
       "model_id": "3742b22e48de401f92f1b0f7347ef4b7",
       "version_major": 2,
       "version_minor": 0
      },
      "text/plain": [
       "  0%|          | 0/999 [00:00<?, ?it/s]"
      ]
     },
     "metadata": {},
     "output_type": "display_data"
    },
    {
     "name": "stdout",
     "output_type": "stream",
     "text": [
      "https://www.bitstamp.net/api/v2/ohlc/ethusd/?&currency_pair=ethusd&step=300&limit=1000&start=1622502000\n",
      "Downloaded from 2021-06-01 00:00:00 to 2021-06-04 11:15:00 2662.21\n",
      "Resample 5Min - TecAn ( windows 5, windows_limit 100 )\n",
      "Processing 999 of ethusd\n"
     ]
    },
    {
     "data": {
      "application/vnd.jupyter.widget-view+json": {
       "model_id": "14679eff496f4e2c9f0ba80bdd8aa790",
       "version_major": 2,
       "version_minor": 0
      },
      "text/plain": [
       "  0%|          | 0/999 [00:00<?, ?it/s]"
      ]
     },
     "metadata": {},
     "output_type": "display_data"
    },
    {
     "name": "stdout",
     "output_type": "stream",
     "text": [
      "https://www.bitstamp.net/api/v2/ohlc/ltcusd/?&currency_pair=ltcusd&step=300&limit=1000&start=1622502000\n",
      "Downloaded from 2021-06-01 00:00:00 to 2021-06-04 11:15:00 177.09\n",
      "Resample 5Min - TecAn ( windows 5, windows_limit 100 )\n",
      "Processing 999 of ltcusd\n"
     ]
    },
    {
     "data": {
      "application/vnd.jupyter.widget-view+json": {
       "model_id": "162391ba5a4d401db27326d66dee1e17",
       "version_major": 2,
       "version_minor": 0
      },
      "text/plain": [
       "  0%|          | 0/999 [00:00<?, ?it/s]"
      ]
     },
     "metadata": {},
     "output_type": "display_data"
    },
    {
     "name": "stdout",
     "output_type": "stream",
     "text": [
      "https://www.bitstamp.net/api/v2/ohlc/ltcbtc/?&currency_pair=ltcbtc&step=300&limit=1000&start=1622502000\n",
      "Downloaded from 2021-06-01 00:00:00 to 2021-06-04 11:15:00 0.00478308\n",
      "Resample 5Min - TecAn ( windows 5, windows_limit 100 )\n",
      "Processing 999 of ltcbtc\n"
     ]
    },
    {
     "data": {
      "application/vnd.jupyter.widget-view+json": {
       "model_id": "ad0b51045cfe4e599b14abcfb59d3756",
       "version_major": 2,
       "version_minor": 0
      },
      "text/plain": [
       "  0%|          | 0/999 [00:00<?, ?it/s]"
      ]
     },
     "metadata": {},
     "output_type": "display_data"
    },
    {
     "name": "stdout",
     "output_type": "stream",
     "text": [
      "https://www.bitstamp.net/api/v2/ohlc/btcusd/?&currency_pair=btcusd&step=300&limit=1000&start=1590966000\n",
      "Downloaded from 2020-06-01 00:00:00 to 2020-06-04 11:15:00 9520.48\n",
      "Resample 5Min - TecAn ( windows 5, windows_limit 100 )\n",
      "Processing 999 of btcusd\n"
     ]
    },
    {
     "data": {
      "application/vnd.jupyter.widget-view+json": {
       "model_id": "4a451b79876049bc9c2661f2b3c725ad",
       "version_major": 2,
       "version_minor": 0
      },
      "text/plain": [
       "  0%|          | 0/999 [00:00<?, ?it/s]"
      ]
     },
     "metadata": {},
     "output_type": "display_data"
    },
    {
     "name": "stdout",
     "output_type": "stream",
     "text": [
      "https://www.bitstamp.net/api/v2/ohlc/ethusd/?&currency_pair=ethusd&step=300&limit=1000&start=1590966000\n",
      "Downloaded from 2020-06-01 00:00:00 to 2020-06-04 11:15:00 239.28\n",
      "Resample 5Min - TecAn ( windows 5, windows_limit 100 )\n",
      "Processing 999 of ethusd\n"
     ]
    },
    {
     "data": {
      "application/vnd.jupyter.widget-view+json": {
       "model_id": "be2ce323b10c470e8346de4e69040814",
       "version_major": 2,
       "version_minor": 0
      },
      "text/plain": [
       "  0%|          | 0/999 [00:00<?, ?it/s]"
      ]
     },
     "metadata": {},
     "output_type": "display_data"
    },
    {
     "name": "stdout",
     "output_type": "stream",
     "text": [
      "https://www.bitstamp.net/api/v2/ohlc/ltcusd/?&currency_pair=ltcusd&step=300&limit=1000&start=1590966000\n",
      "Downloaded from 2020-06-01 00:00:00 to 2020-06-04 11:15:00 46.81\n",
      "Resample 5Min - TecAn ( windows 5, windows_limit 100 )\n",
      "Processing 999 of ltcusd\n"
     ]
    },
    {
     "data": {
      "application/vnd.jupyter.widget-view+json": {
       "model_id": "7bb0bf836bd04e2ca2501c0eb92b4ded",
       "version_major": 2,
       "version_minor": 0
      },
      "text/plain": [
       "  0%|          | 0/999 [00:00<?, ?it/s]"
      ]
     },
     "metadata": {},
     "output_type": "display_data"
    },
    {
     "name": "stdout",
     "output_type": "stream",
     "text": [
      "https://www.bitstamp.net/api/v2/ohlc/ltcbtc/?&currency_pair=ltcbtc&step=300&limit=1000&start=1590966000\n",
      "Downloaded from 2020-06-01 00:00:00 to 2020-06-04 11:15:00 0.00493915\n",
      "Resample 5Min - TecAn ( windows 5, windows_limit 100 )\n",
      "Processing 999 of ltcbtc\n"
     ]
    },
    {
     "data": {
      "application/vnd.jupyter.widget-view+json": {
       "model_id": "5a55014fc77f4fe08a0a12c623d762e7",
       "version_major": 2,
       "version_minor": 0
      },
      "text/plain": [
       "  0%|          | 0/999 [00:00<?, ?it/s]"
      ]
     },
     "metadata": {},
     "output_type": "display_data"
    },
    {
     "name": "stdout",
     "output_type": "stream",
     "text": [
      "https://www.bitstamp.net/api/v2/ohlc/btcusd/?&currency_pair=btcusd&step=300&limit=1000&start=1559343600\n",
      "Downloaded from 2019-06-01 00:00:00 to 2019-06-04 11:15:00 7963.92\n",
      "Resample 5Min - TecAn ( windows 5, windows_limit 100 )\n",
      "Processing 999 of btcusd\n"
     ]
    },
    {
     "data": {
      "application/vnd.jupyter.widget-view+json": {
       "model_id": "79931764f1cc48fa853d70295fda4847",
       "version_major": 2,
       "version_minor": 0
      },
      "text/plain": [
       "  0%|          | 0/999 [00:00<?, ?it/s]"
      ]
     },
     "metadata": {},
     "output_type": "display_data"
    },
    {
     "name": "stdout",
     "output_type": "stream",
     "text": [
      "https://www.bitstamp.net/api/v2/ohlc/ethusd/?&currency_pair=ethusd&step=300&limit=1000&start=1559343600\n",
      "Downloaded from 2019-06-01 00:00:00 to 2019-06-04 11:15:00 247.42\n",
      "Resample 5Min - TecAn ( windows 5, windows_limit 100 )\n",
      "Processing 999 of ethusd\n"
     ]
    },
    {
     "data": {
      "application/vnd.jupyter.widget-view+json": {
       "model_id": "7f1daea0d3df4e2fa03fb056019ef9c9",
       "version_major": 2,
       "version_minor": 0
      },
      "text/plain": [
       "  0%|          | 0/999 [00:00<?, ?it/s]"
      ]
     },
     "metadata": {},
     "output_type": "display_data"
    },
    {
     "name": "stdout",
     "output_type": "stream",
     "text": [
      "https://www.bitstamp.net/api/v2/ohlc/ltcusd/?&currency_pair=ltcusd&step=300&limit=1000&start=1559343600\n",
      "Downloaded from 2019-06-01 00:00:00 to 2019-06-04 11:15:00 105.11\n",
      "Resample 5Min - TecAn ( windows 5, windows_limit 100 )\n",
      "Processing 999 of ltcusd\n"
     ]
    },
    {
     "data": {
      "application/vnd.jupyter.widget-view+json": {
       "model_id": "ffd0e00d9c964df59dd1e1c9b699ef85",
       "version_major": 2,
       "version_minor": 0
      },
      "text/plain": [
       "  0%|          | 0/999 [00:00<?, ?it/s]"
      ]
     },
     "metadata": {},
     "output_type": "display_data"
    },
    {
     "name": "stdout",
     "output_type": "stream",
     "text": [
      "https://www.bitstamp.net/api/v2/ohlc/ltcbtc/?&currency_pair=ltcbtc&step=300&limit=1000&start=1559343600\n",
      "Downloaded from 2019-06-01 00:00:00 to 2019-06-04 11:15:00 0.01321994\n",
      "Resample 5Min - TecAn ( windows 5, windows_limit 100 )\n",
      "Processing 999 of ltcbtc\n"
     ]
    },
    {
     "data": {
      "application/vnd.jupyter.widget-view+json": {
       "model_id": "80a01ddcb2554107a0894038cf1364af",
       "version_major": 2,
       "version_minor": 0
      },
      "text/plain": [
       "  0%|          | 0/999 [00:00<?, ?it/s]"
      ]
     },
     "metadata": {},
     "output_type": "display_data"
    },
    {
     "name": "stdout",
     "output_type": "stream",
     "text": [
      "https://www.bitstamp.net/api/v2/ohlc/btcusd/?&currency_pair=btcusd&step=300&limit=1000&start=1527807600\n",
      "Downloaded from 2018-06-01 00:00:00 to 2018-06-04 11:15:00 7603.79\n",
      "Resample 5Min - TecAn ( windows 5, windows_limit 100 )\n",
      "Processing 999 of btcusd\n"
     ]
    },
    {
     "data": {
      "application/vnd.jupyter.widget-view+json": {
       "model_id": "f3630fd180984a14849fff744457494a",
       "version_major": 2,
       "version_minor": 0
      },
      "text/plain": [
       "  0%|          | 0/999 [00:00<?, ?it/s]"
      ]
     },
     "metadata": {},
     "output_type": "display_data"
    },
    {
     "name": "stdout",
     "output_type": "stream",
     "text": [
      "https://www.bitstamp.net/api/v2/ohlc/ethusd/?&currency_pair=ethusd&step=300&limit=1000&start=1527807600\n",
      "Downloaded from 2018-06-01 00:00:00 to 2018-06-04 11:15:00 605.42\n",
      "Resample 5Min - TecAn ( windows 5, windows_limit 100 )\n",
      "Processing 999 of ethusd\n"
     ]
    },
    {
     "data": {
      "application/vnd.jupyter.widget-view+json": {
       "model_id": "67dc37f2678c4d16b653806f6f09339e",
       "version_major": 2,
       "version_minor": 0
      },
      "text/plain": [
       "  0%|          | 0/999 [00:00<?, ?it/s]"
      ]
     },
     "metadata": {},
     "output_type": "display_data"
    },
    {
     "name": "stdout",
     "output_type": "stream",
     "text": [
      "https://www.bitstamp.net/api/v2/ohlc/ltcusd/?&currency_pair=ltcusd&step=300&limit=1000&start=1527807600\n",
      "Downloaded from 2018-06-01 00:00:00 to 2018-06-04 11:15:00 122.36\n",
      "Resample 5Min - TecAn ( windows 5, windows_limit 100 )\n",
      "Processing 999 of ltcusd\n"
     ]
    },
    {
     "data": {
      "application/vnd.jupyter.widget-view+json": {
       "model_id": "9ab7f7519e9b46de94f95ab28c0adc73",
       "version_major": 2,
       "version_minor": 0
      },
      "text/plain": [
       "  0%|          | 0/999 [00:00<?, ?it/s]"
      ]
     },
     "metadata": {},
     "output_type": "display_data"
    },
    {
     "name": "stdout",
     "output_type": "stream",
     "text": [
      "https://www.bitstamp.net/api/v2/ohlc/ltcbtc/?&currency_pair=ltcbtc&step=300&limit=1000&start=1527807600\n",
      "Downloaded from 2018-06-01 00:00:00 to 2018-06-04 11:15:00 0.01605500\n",
      "Resample 5Min - TecAn ( windows 5, windows_limit 100 )\n",
      "Processing 999 of ltcbtc\n"
     ]
    },
    {
     "data": {
      "application/vnd.jupyter.widget-view+json": {
       "model_id": "88a14450f8eb4bfc8cea9638196d1661",
       "version_major": 2,
       "version_minor": 0
      },
      "text/plain": [
       "  0%|          | 0/999 [00:00<?, ?it/s]"
      ]
     },
     "metadata": {},
     "output_type": "display_data"
    },
    {
     "name": "stdout",
     "output_type": "stream",
     "text": [
      "https://www.bitstamp.net/api/v2/ohlc/btcusd/?&currency_pair=btcusd&step=300&limit=1000&start=1517443200\n",
      "Downloaded from 2018-02-01 00:00:00 to 2018-02-04 11:15:00 8898.23\n",
      "Resample 5Min - TecAn ( windows 5, windows_limit 100 )\n",
      "Processing 999 of btcusd\n"
     ]
    },
    {
     "data": {
      "application/vnd.jupyter.widget-view+json": {
       "model_id": "6512ae97e7e44e33bae16dab01dc3416",
       "version_major": 2,
       "version_minor": 0
      },
      "text/plain": [
       "  0%|          | 0/999 [00:00<?, ?it/s]"
      ]
     },
     "metadata": {},
     "output_type": "display_data"
    },
    {
     "name": "stdout",
     "output_type": "stream",
     "text": [
      "https://www.bitstamp.net/api/v2/ohlc/ethusd/?&currency_pair=ethusd&step=300&limit=1000&start=1517443200\n",
      "Downloaded from 2018-02-01 00:00:00 to 2018-02-04 11:15:00 911.19\n",
      "Resample 5Min - TecAn ( windows 5, windows_limit 100 )\n",
      "Processing 999 of ethusd\n"
     ]
    },
    {
     "data": {
      "application/vnd.jupyter.widget-view+json": {
       "model_id": "57a3262baef844dab5ec6f8e33936e03",
       "version_major": 2,
       "version_minor": 0
      },
      "text/plain": [
       "  0%|          | 0/999 [00:00<?, ?it/s]"
      ]
     },
     "metadata": {},
     "output_type": "display_data"
    },
    {
     "name": "stdout",
     "output_type": "stream",
     "text": [
      "https://www.bitstamp.net/api/v2/ohlc/ltcusd/?&currency_pair=ltcusd&step=300&limit=1000&start=1517443200\n",
      "Downloaded from 2018-02-01 00:00:00 to 2018-02-04 11:15:00 160.78\n",
      "Resample 5Min - TecAn ( windows 5, windows_limit 100 )\n",
      "Processing 999 of ltcusd\n"
     ]
    },
    {
     "data": {
      "application/vnd.jupyter.widget-view+json": {
       "model_id": "bae2ebc9d1c8445a94a50d6f7989f0f9",
       "version_major": 2,
       "version_minor": 0
      },
      "text/plain": [
       "  0%|          | 0/999 [00:00<?, ?it/s]"
      ]
     },
     "metadata": {},
     "output_type": "display_data"
    },
    {
     "name": "stdout",
     "output_type": "stream",
     "text": [
      "https://www.bitstamp.net/api/v2/ohlc/ltcbtc/?&currency_pair=ltcbtc&step=300&limit=1000&start=1517443200\n",
      "Downloaded from 2018-02-01 00:00:00 to 2018-02-04 11:15:00 0.01802000\n",
      "Resample 5Min - TecAn ( windows 5, windows_limit 100 )\n",
      "Processing 999 of ltcbtc\n"
     ]
    },
    {
     "data": {
      "application/vnd.jupyter.widget-view+json": {
       "model_id": "273f74c73d7e4d34a0dcf75d5376b924",
       "version_major": 2,
       "version_minor": 0
      },
      "text/plain": [
       "  0%|          | 0/999 [00:00<?, ?it/s]"
      ]
     },
     "metadata": {},
     "output_type": "display_data"
    },
    {
     "name": "stdout",
     "output_type": "stream",
     "text": [
      "https://www.bitstamp.net/api/v2/ohlc/btcusd/?&currency_pair=btcusd&step=300&limit=1000&start=1548979200\n",
      "Downloaded from 2019-02-01 00:00:00 to 2019-02-04 11:15:00 3404.48\n",
      "Resample 5Min - TecAn ( windows 5, windows_limit 100 )\n",
      "Processing 999 of btcusd\n"
     ]
    },
    {
     "data": {
      "application/vnd.jupyter.widget-view+json": {
       "model_id": "81d7cac995364f2abc6ee08c18264756",
       "version_major": 2,
       "version_minor": 0
      },
      "text/plain": [
       "  0%|          | 0/999 [00:00<?, ?it/s]"
      ]
     },
     "metadata": {},
     "output_type": "display_data"
    },
    {
     "name": "stdout",
     "output_type": "stream",
     "text": [
      "https://www.bitstamp.net/api/v2/ohlc/ethusd/?&currency_pair=ethusd&step=300&limit=1000&start=1548979200\n",
      "Downloaded from 2019-02-01 00:00:00 to 2019-02-04 11:15:00 105.66\n",
      "Resample 5Min - TecAn ( windows 5, windows_limit 100 )\n",
      "Processing 999 of ethusd\n"
     ]
    },
    {
     "data": {
      "application/vnd.jupyter.widget-view+json": {
       "model_id": "888c73fc462a481bb75ee6f053cb6446",
       "version_major": 2,
       "version_minor": 0
      },
      "text/plain": [
       "  0%|          | 0/999 [00:00<?, ?it/s]"
      ]
     },
     "metadata": {},
     "output_type": "display_data"
    },
    {
     "name": "stdout",
     "output_type": "stream",
     "text": [
      "https://www.bitstamp.net/api/v2/ohlc/ltcusd/?&currency_pair=ltcusd&step=300&limit=1000&start=1548979200\n",
      "Downloaded from 2019-02-01 00:00:00 to 2019-02-04 11:15:00 33.28\n",
      "Resample 5Min - TecAn ( windows 5, windows_limit 100 )\n",
      "Processing 999 of ltcusd\n"
     ]
    },
    {
     "data": {
      "application/vnd.jupyter.widget-view+json": {
       "model_id": "1ecb00aae22b4e0c8154ccac5b1fbc2b",
       "version_major": 2,
       "version_minor": 0
      },
      "text/plain": [
       "  0%|          | 0/999 [00:00<?, ?it/s]"
      ]
     },
     "metadata": {},
     "output_type": "display_data"
    },
    {
     "name": "stdout",
     "output_type": "stream",
     "text": [
      "https://www.bitstamp.net/api/v2/ohlc/ltcbtc/?&currency_pair=ltcbtc&step=300&limit=1000&start=1548979200\n",
      "Downloaded from 2019-02-01 00:00:00 to 2019-02-04 11:15:00 0.00976025\n",
      "Resample 5Min - TecAn ( windows 5, windows_limit 100 )\n",
      "Processing 999 of ltcbtc\n"
     ]
    },
    {
     "data": {
      "application/vnd.jupyter.widget-view+json": {
       "model_id": "96ff274b316e4248aeb37488788e154d",
       "version_major": 2,
       "version_minor": 0
      },
      "text/plain": [
       "  0%|          | 0/999 [00:00<?, ?it/s]"
      ]
     },
     "metadata": {},
     "output_type": "display_data"
    },
    {
     "name": "stdout",
     "output_type": "stream",
     "text": [
      "https://www.bitstamp.net/api/v2/ohlc/btcusd/?&currency_pair=btcusd&step=300&limit=1000&start=1580515200\n",
      "Downloaded from 2020-02-01 00:00:00 to 2020-02-04 11:15:00 9163.36\n",
      "Resample 5Min - TecAn ( windows 5, windows_limit 100 )\n",
      "Processing 999 of btcusd\n"
     ]
    },
    {
     "data": {
      "application/vnd.jupyter.widget-view+json": {
       "model_id": "a160e336457e49349febfc96a9e5df8f",
       "version_major": 2,
       "version_minor": 0
      },
      "text/plain": [
       "  0%|          | 0/999 [00:00<?, ?it/s]"
      ]
     },
     "metadata": {},
     "output_type": "display_data"
    },
    {
     "name": "stdout",
     "output_type": "stream",
     "text": [
      "https://www.bitstamp.net/api/v2/ohlc/ethusd/?&currency_pair=ethusd&step=300&limit=1000&start=1580515200\n",
      "Downloaded from 2020-02-01 00:00:00 to 2020-02-04 11:15:00 185.75\n",
      "Resample 5Min - TecAn ( windows 5, windows_limit 100 )\n",
      "Processing 999 of ethusd\n"
     ]
    },
    {
     "data": {
      "application/vnd.jupyter.widget-view+json": {
       "model_id": "5a16a0d94fe44bfc8b217d611a10deab",
       "version_major": 2,
       "version_minor": 0
      },
      "text/plain": [
       "  0%|          | 0/999 [00:00<?, ?it/s]"
      ]
     },
     "metadata": {},
     "output_type": "display_data"
    },
    {
     "name": "stdout",
     "output_type": "stream",
     "text": [
      "https://www.bitstamp.net/api/v2/ohlc/ltcusd/?&currency_pair=ltcusd&step=300&limit=1000&start=1580515200\n",
      "Downloaded from 2020-02-01 00:00:00 to 2020-02-04 11:15:00 67.19\n",
      "Resample 5Min - TecAn ( windows 5, windows_limit 100 )\n",
      "Processing 999 of ltcusd\n"
     ]
    },
    {
     "data": {
      "application/vnd.jupyter.widget-view+json": {
       "model_id": "7d09f9698f794ddea6d957a6b66f7414",
       "version_major": 2,
       "version_minor": 0
      },
      "text/plain": [
       "  0%|          | 0/999 [00:00<?, ?it/s]"
      ]
     },
     "metadata": {},
     "output_type": "display_data"
    },
    {
     "name": "stdout",
     "output_type": "stream",
     "text": [
      "https://www.bitstamp.net/api/v2/ohlc/ltcbtc/?&currency_pair=ltcbtc&step=300&limit=1000&start=1580515200\n",
      "Downloaded from 2020-02-01 00:00:00 to 2020-02-04 11:15:00 0.00734000\n",
      "Resample 5Min - TecAn ( windows 5, windows_limit 100 )\n",
      "Processing 999 of ltcbtc\n"
     ]
    },
    {
     "data": {
      "application/vnd.jupyter.widget-view+json": {
       "model_id": "2c98427d2bb34117915155e140fc3bf4",
       "version_major": 2,
       "version_minor": 0
      },
      "text/plain": [
       "  0%|          | 0/999 [00:00<?, ?it/s]"
      ]
     },
     "metadata": {},
     "output_type": "display_data"
    },
    {
     "name": "stdout",
     "output_type": "stream",
     "text": [
      "https://www.bitstamp.net/api/v2/ohlc/btcusd/?&currency_pair=btcusd&step=300&limit=1000&start=1612137600\n",
      "Downloaded from 2021-02-01 00:00:00 to 2021-02-04 11:15:00 37713.31\n",
      "Resample 5Min - TecAn ( windows 5, windows_limit 100 )\n",
      "Processing 999 of btcusd\n"
     ]
    },
    {
     "data": {
      "application/vnd.jupyter.widget-view+json": {
       "model_id": "1f5148eff704413c80c35f480f9ccc8f",
       "version_major": 2,
       "version_minor": 0
      },
      "text/plain": [
       "  0%|          | 0/999 [00:00<?, ?it/s]"
      ]
     },
     "metadata": {},
     "output_type": "display_data"
    },
    {
     "name": "stdout",
     "output_type": "stream",
     "text": [
      "https://www.bitstamp.net/api/v2/ohlc/ethusd/?&currency_pair=ethusd&step=300&limit=1000&start=1612137600\n",
      "Downloaded from 2021-02-01 00:00:00 to 2021-02-04 11:15:00 1633.70\n",
      "Resample 5Min - TecAn ( windows 5, windows_limit 100 )\n",
      "Processing 999 of ethusd\n"
     ]
    },
    {
     "data": {
      "application/vnd.jupyter.widget-view+json": {
       "model_id": "d5c6faec358244b0bce11d4047353ce1",
       "version_major": 2,
       "version_minor": 0
      },
      "text/plain": [
       "  0%|          | 0/999 [00:00<?, ?it/s]"
      ]
     },
     "metadata": {},
     "output_type": "display_data"
    },
    {
     "name": "stdout",
     "output_type": "stream",
     "text": [
      "https://www.bitstamp.net/api/v2/ohlc/ltcusd/?&currency_pair=ltcusd&step=300&limit=1000&start=1612137600\n",
      "Downloaded from 2021-02-01 00:00:00 to 2021-02-04 11:15:00 148.10\n",
      "Resample 5Min - TecAn ( windows 5, windows_limit 100 )\n",
      "Processing 999 of ltcusd\n"
     ]
    },
    {
     "data": {
      "application/vnd.jupyter.widget-view+json": {
       "model_id": "235b70cbda0547f08cd1106e42c3f47b",
       "version_major": 2,
       "version_minor": 0
      },
      "text/plain": [
       "  0%|          | 0/999 [00:00<?, ?it/s]"
      ]
     },
     "metadata": {},
     "output_type": "display_data"
    },
    {
     "name": "stdout",
     "output_type": "stream",
     "text": [
      "https://www.bitstamp.net/api/v2/ohlc/ltcbtc/?&currency_pair=ltcbtc&step=300&limit=1000&start=1612137600\n",
      "Downloaded from 2021-02-01 00:00:00 to 2021-02-04 11:15:00 0.00392037\n",
      "Resample 5Min - TecAn ( windows 5, windows_limit 100 )\n",
      "Processing 999 of ltcbtc\n"
     ]
    },
    {
     "data": {
      "application/vnd.jupyter.widget-view+json": {
       "model_id": "3d2410a0d5d04522a9f31743a64f0da5",
       "version_major": 2,
       "version_minor": 0
      },
      "text/plain": [
       "  0%|          | 0/999 [00:00<?, ?it/s]"
      ]
     },
     "metadata": {},
     "output_type": "display_data"
    },
    {
     "name": "stdout",
     "output_type": "stream",
     "text": [
      "https://www.bitstamp.net/api/v2/ohlc/btcusd/?&currency_pair=btcusd&step=300&limit=1000&start=1623711600\n",
      "https://www.bitstamp.net/api/v2/ohlc/btcusd/?&currency_pair=btcusd&step=300&limit=1000&start=1624011300\n",
      "https://www.bitstamp.net/api/v2/ohlc/btcusd/?&currency_pair=btcusd&step=300&limit=1000&start=1624311000\n",
      "https://www.bitstamp.net/api/v2/ohlc/btcusd/?&currency_pair=btcusd&step=300&limit=1000&start=1624610700\n",
      "https://www.bitstamp.net/api/v2/ohlc/btcusd/?&currency_pair=btcusd&step=300&limit=1000&start=1624910400\n",
      "https://www.bitstamp.net/api/v2/ohlc/btcusd/?&currency_pair=btcusd&step=300&limit=1000&start=1625210100\n",
      "https://www.bitstamp.net/api/v2/ohlc/btcusd/?&currency_pair=btcusd&step=300&limit=1000&start=1625509800\n",
      "https://www.bitstamp.net/api/v2/ohlc/btcusd/?&currency_pair=btcusd&step=300&limit=1000&start=1625809500\n",
      "https://www.bitstamp.net/api/v2/ohlc/btcusd/?&currency_pair=btcusd&step=300&limit=1000&start=1626109200\n",
      "Downloaded from 2021-06-15 00:00:00 to 2021-07-15 00:05:00 32946.30\n",
      "Resample 5Min - TecAn ( windows 5, windows_limit 100 )\n",
      "Processing 8649 of btcusd\n"
     ]
    },
    {
     "data": {
      "application/vnd.jupyter.widget-view+json": {
       "model_id": "59d43551de604840b4d0d39429e605b9",
       "version_major": 2,
       "version_minor": 0
      },
      "text/plain": [
       "  0%|          | 0/8649 [00:00<?, ?it/s]"
      ]
     },
     "metadata": {},
     "output_type": "display_data"
    },
    {
     "name": "stdout",
     "output_type": "stream",
     "text": [
      "https://www.bitstamp.net/api/v2/ohlc/ethusd/?&currency_pair=ethusd&step=300&limit=1000&start=1623711600\n",
      "https://www.bitstamp.net/api/v2/ohlc/ethusd/?&currency_pair=ethusd&step=300&limit=1000&start=1624011300\n",
      "https://www.bitstamp.net/api/v2/ohlc/ethusd/?&currency_pair=ethusd&step=300&limit=1000&start=1624311000\n",
      "https://www.bitstamp.net/api/v2/ohlc/ethusd/?&currency_pair=ethusd&step=300&limit=1000&start=1624610700\n",
      "https://www.bitstamp.net/api/v2/ohlc/ethusd/?&currency_pair=ethusd&step=300&limit=1000&start=1624910400\n",
      "https://www.bitstamp.net/api/v2/ohlc/ethusd/?&currency_pair=ethusd&step=300&limit=1000&start=1625210100\n",
      "https://www.bitstamp.net/api/v2/ohlc/ethusd/?&currency_pair=ethusd&step=300&limit=1000&start=1625509800\n",
      "https://www.bitstamp.net/api/v2/ohlc/ethusd/?&currency_pair=ethusd&step=300&limit=1000&start=1625809500\n",
      "https://www.bitstamp.net/api/v2/ohlc/ethusd/?&currency_pair=ethusd&step=300&limit=1000&start=1626109200\n",
      "Downloaded from 2021-06-15 00:00:00 to 2021-07-15 00:05:00 2000.79\n",
      "Resample 5Min - TecAn ( windows 5, windows_limit 100 )\n",
      "Processing 8649 of ethusd\n"
     ]
    },
    {
     "data": {
      "application/vnd.jupyter.widget-view+json": {
       "model_id": "ea4e979b59ed48e0b29380b40c4fedfe",
       "version_major": 2,
       "version_minor": 0
      },
      "text/plain": [
       "  0%|          | 0/8649 [00:00<?, ?it/s]"
      ]
     },
     "metadata": {},
     "output_type": "display_data"
    },
    {
     "name": "stdout",
     "output_type": "stream",
     "text": [
      "https://www.bitstamp.net/api/v2/ohlc/ltcusd/?&currency_pair=ltcusd&step=300&limit=1000&start=1623711600\n",
      "https://www.bitstamp.net/api/v2/ohlc/ltcusd/?&currency_pair=ltcusd&step=300&limit=1000&start=1624011300\n",
      "https://www.bitstamp.net/api/v2/ohlc/ltcusd/?&currency_pair=ltcusd&step=300&limit=1000&start=1624311000\n",
      "https://www.bitstamp.net/api/v2/ohlc/ltcusd/?&currency_pair=ltcusd&step=300&limit=1000&start=1624610700\n",
      "https://www.bitstamp.net/api/v2/ohlc/ltcusd/?&currency_pair=ltcusd&step=300&limit=1000&start=1624910400\n",
      "https://www.bitstamp.net/api/v2/ohlc/ltcusd/?&currency_pair=ltcusd&step=300&limit=1000&start=1625210100\n",
      "https://www.bitstamp.net/api/v2/ohlc/ltcusd/?&currency_pair=ltcusd&step=300&limit=1000&start=1625509800\n",
      "https://www.bitstamp.net/api/v2/ohlc/ltcusd/?&currency_pair=ltcusd&step=300&limit=1000&start=1625809500\n",
      "https://www.bitstamp.net/api/v2/ohlc/ltcusd/?&currency_pair=ltcusd&step=300&limit=1000&start=1626109200\n",
      "Downloaded from 2021-06-15 00:00:00 to 2021-07-15 00:05:00 131.27\n",
      "Resample 5Min - TecAn ( windows 5, windows_limit 100 )\n",
      "Processing 8649 of ltcusd\n"
     ]
    },
    {
     "data": {
      "application/vnd.jupyter.widget-view+json": {
       "model_id": "eae673546fba4920a7e9b67bf2ed2d18",
       "version_major": 2,
       "version_minor": 0
      },
      "text/plain": [
       "  0%|          | 0/8649 [00:00<?, ?it/s]"
      ]
     },
     "metadata": {},
     "output_type": "display_data"
    },
    {
     "name": "stdout",
     "output_type": "stream",
     "text": [
      "https://www.bitstamp.net/api/v2/ohlc/ltcbtc/?&currency_pair=ltcbtc&step=300&limit=1000&start=1623711600\n",
      "https://www.bitstamp.net/api/v2/ohlc/ltcbtc/?&currency_pair=ltcbtc&step=300&limit=1000&start=1624011300\n",
      "https://www.bitstamp.net/api/v2/ohlc/ltcbtc/?&currency_pair=ltcbtc&step=300&limit=1000&start=1624311000\n",
      "https://www.bitstamp.net/api/v2/ohlc/ltcbtc/?&currency_pair=ltcbtc&step=300&limit=1000&start=1624610700\n",
      "https://www.bitstamp.net/api/v2/ohlc/ltcbtc/?&currency_pair=ltcbtc&step=300&limit=1000&start=1624910400\n",
      "https://www.bitstamp.net/api/v2/ohlc/ltcbtc/?&currency_pair=ltcbtc&step=300&limit=1000&start=1625210100\n",
      "https://www.bitstamp.net/api/v2/ohlc/ltcbtc/?&currency_pair=ltcbtc&step=300&limit=1000&start=1625509800\n",
      "https://www.bitstamp.net/api/v2/ohlc/ltcbtc/?&currency_pair=ltcbtc&step=300&limit=1000&start=1625809500\n",
      "https://www.bitstamp.net/api/v2/ohlc/ltcbtc/?&currency_pair=ltcbtc&step=300&limit=1000&start=1626109200\n",
      "Downloaded from 2021-06-15 00:00:00 to 2021-07-15 00:05:00 0.00398347\n",
      "Resample 5Min - TecAn ( windows 5, windows_limit 100 )\n",
      "Processing 8649 of ltcbtc\n"
     ]
    },
    {
     "data": {
      "application/vnd.jupyter.widget-view+json": {
       "model_id": "4429bc42a2c140b287de9ca90c869d6f",
       "version_major": 2,
       "version_minor": 0
      },
      "text/plain": [
       "  0%|          | 0/8649 [00:00<?, ?it/s]"
      ]
     },
     "metadata": {},
     "output_type": "display_data"
    },
    {
     "name": "stdout",
     "output_type": "stream",
     "text": [
      "https://www.bitstamp.net/api/v2/ohlc/btcusd/?&currency_pair=btcusd&step=300&limit=1000&start=1622502000\n",
      "Downloaded from 2021-06-01 00:00:00 to 2021-06-04 11:15:00 36979.84\n",
      "Resample 5Min - TecAn ( windows 10, windows_limit 100 )\n",
      "Processing 999 of btcusd\n"
     ]
    },
    {
     "data": {
      "application/vnd.jupyter.widget-view+json": {
       "model_id": "d0be11df7e0e4f6293249807fee74fc3",
       "version_major": 2,
       "version_minor": 0
      },
      "text/plain": [
       "  0%|          | 0/999 [00:00<?, ?it/s]"
      ]
     },
     "metadata": {},
     "output_type": "display_data"
    },
    {
     "name": "stdout",
     "output_type": "stream",
     "text": [
      "https://www.bitstamp.net/api/v2/ohlc/ethusd/?&currency_pair=ethusd&step=300&limit=1000&start=1622502000\n",
      "Downloaded from 2021-06-01 00:00:00 to 2021-06-04 11:15:00 2662.21\n",
      "Resample 5Min - TecAn ( windows 10, windows_limit 100 )\n",
      "Processing 999 of ethusd\n"
     ]
    },
    {
     "data": {
      "application/vnd.jupyter.widget-view+json": {
       "model_id": "0ec0034d4c76419c8ac7a490bf70ee8a",
       "version_major": 2,
       "version_minor": 0
      },
      "text/plain": [
       "  0%|          | 0/999 [00:00<?, ?it/s]"
      ]
     },
     "metadata": {},
     "output_type": "display_data"
    },
    {
     "name": "stdout",
     "output_type": "stream",
     "text": [
      "https://www.bitstamp.net/api/v2/ohlc/ltcusd/?&currency_pair=ltcusd&step=300&limit=1000&start=1622502000\n",
      "Downloaded from 2021-06-01 00:00:00 to 2021-06-04 11:15:00 177.09\n",
      "Resample 5Min - TecAn ( windows 10, windows_limit 100 )\n",
      "Processing 999 of ltcusd\n"
     ]
    },
    {
     "data": {
      "application/vnd.jupyter.widget-view+json": {
       "model_id": "728d9c2f94894ed4aaba5f93540afc5f",
       "version_major": 2,
       "version_minor": 0
      },
      "text/plain": [
       "  0%|          | 0/999 [00:00<?, ?it/s]"
      ]
     },
     "metadata": {},
     "output_type": "display_data"
    },
    {
     "name": "stdout",
     "output_type": "stream",
     "text": [
      "https://www.bitstamp.net/api/v2/ohlc/ltcbtc/?&currency_pair=ltcbtc&step=300&limit=1000&start=1622502000\n",
      "Downloaded from 2021-06-01 00:00:00 to 2021-06-04 11:15:00 0.00478308\n",
      "Resample 5Min - TecAn ( windows 10, windows_limit 100 )\n",
      "Processing 999 of ltcbtc\n"
     ]
    },
    {
     "data": {
      "application/vnd.jupyter.widget-view+json": {
       "model_id": "cef7195f1d5f4e119e442824145e2b94",
       "version_major": 2,
       "version_minor": 0
      },
      "text/plain": [
       "  0%|          | 0/999 [00:00<?, ?it/s]"
      ]
     },
     "metadata": {},
     "output_type": "display_data"
    },
    {
     "name": "stdout",
     "output_type": "stream",
     "text": [
      "https://www.bitstamp.net/api/v2/ohlc/btcusd/?&currency_pair=btcusd&step=300&limit=1000&start=1590966000\n",
      "Downloaded from 2020-06-01 00:00:00 to 2020-06-04 11:15:00 9520.48\n",
      "Resample 5Min - TecAn ( windows 10, windows_limit 100 )\n",
      "Processing 999 of btcusd\n"
     ]
    },
    {
     "data": {
      "application/vnd.jupyter.widget-view+json": {
       "model_id": "55c44fc6dd4049ebbbbb4c9d4458b1ca",
       "version_major": 2,
       "version_minor": 0
      },
      "text/plain": [
       "  0%|          | 0/999 [00:00<?, ?it/s]"
      ]
     },
     "metadata": {},
     "output_type": "display_data"
    },
    {
     "name": "stdout",
     "output_type": "stream",
     "text": [
      "https://www.bitstamp.net/api/v2/ohlc/ethusd/?&currency_pair=ethusd&step=300&limit=1000&start=1590966000\n",
      "Downloaded from 2020-06-01 00:00:00 to 2020-06-04 11:15:00 239.28\n",
      "Resample 5Min - TecAn ( windows 10, windows_limit 100 )\n",
      "Processing 999 of ethusd\n"
     ]
    },
    {
     "data": {
      "application/vnd.jupyter.widget-view+json": {
       "model_id": "efe24a5f6279464eb3e8651ae9d7bc09",
       "version_major": 2,
       "version_minor": 0
      },
      "text/plain": [
       "  0%|          | 0/999 [00:00<?, ?it/s]"
      ]
     },
     "metadata": {},
     "output_type": "display_data"
    },
    {
     "name": "stdout",
     "output_type": "stream",
     "text": [
      "https://www.bitstamp.net/api/v2/ohlc/ltcusd/?&currency_pair=ltcusd&step=300&limit=1000&start=1590966000\n",
      "Downloaded from 2020-06-01 00:00:00 to 2020-06-04 11:15:00 46.81\n",
      "Resample 5Min - TecAn ( windows 10, windows_limit 100 )\n",
      "Processing 999 of ltcusd\n"
     ]
    },
    {
     "data": {
      "application/vnd.jupyter.widget-view+json": {
       "model_id": "916447a707a44549b7a552982e0f9018",
       "version_major": 2,
       "version_minor": 0
      },
      "text/plain": [
       "  0%|          | 0/999 [00:00<?, ?it/s]"
      ]
     },
     "metadata": {},
     "output_type": "display_data"
    },
    {
     "name": "stdout",
     "output_type": "stream",
     "text": [
      "https://www.bitstamp.net/api/v2/ohlc/ltcbtc/?&currency_pair=ltcbtc&step=300&limit=1000&start=1590966000\n",
      "Downloaded from 2020-06-01 00:00:00 to 2020-06-04 11:15:00 0.00493915\n",
      "Resample 5Min - TecAn ( windows 10, windows_limit 100 )\n",
      "Processing 999 of ltcbtc\n"
     ]
    },
    {
     "data": {
      "application/vnd.jupyter.widget-view+json": {
       "model_id": "662215b7481d4f10956cb20a93ba8c74",
       "version_major": 2,
       "version_minor": 0
      },
      "text/plain": [
       "  0%|          | 0/999 [00:00<?, ?it/s]"
      ]
     },
     "metadata": {},
     "output_type": "display_data"
    },
    {
     "name": "stdout",
     "output_type": "stream",
     "text": [
      "https://www.bitstamp.net/api/v2/ohlc/btcusd/?&currency_pair=btcusd&step=300&limit=1000&start=1559343600\n",
      "Downloaded from 2019-06-01 00:00:00 to 2019-06-04 11:15:00 7963.92\n",
      "Resample 5Min - TecAn ( windows 10, windows_limit 100 )\n",
      "Processing 999 of btcusd\n"
     ]
    },
    {
     "data": {
      "application/vnd.jupyter.widget-view+json": {
       "model_id": "9351a141969a4a2380fb07a4c527a890",
       "version_major": 2,
       "version_minor": 0
      },
      "text/plain": [
       "  0%|          | 0/999 [00:00<?, ?it/s]"
      ]
     },
     "metadata": {},
     "output_type": "display_data"
    },
    {
     "name": "stdout",
     "output_type": "stream",
     "text": [
      "https://www.bitstamp.net/api/v2/ohlc/ethusd/?&currency_pair=ethusd&step=300&limit=1000&start=1559343600\n",
      "Downloaded from 2019-06-01 00:00:00 to 2019-06-04 11:15:00 247.42\n",
      "Resample 5Min - TecAn ( windows 10, windows_limit 100 )\n",
      "Processing 999 of ethusd\n"
     ]
    },
    {
     "data": {
      "application/vnd.jupyter.widget-view+json": {
       "model_id": "fa9dd7aa5e3c453a8e8f1e89161b773b",
       "version_major": 2,
       "version_minor": 0
      },
      "text/plain": [
       "  0%|          | 0/999 [00:00<?, ?it/s]"
      ]
     },
     "metadata": {},
     "output_type": "display_data"
    },
    {
     "name": "stdout",
     "output_type": "stream",
     "text": [
      "https://www.bitstamp.net/api/v2/ohlc/ltcusd/?&currency_pair=ltcusd&step=300&limit=1000&start=1559343600\n",
      "Downloaded from 2019-06-01 00:00:00 to 2019-06-04 11:15:00 105.11\n",
      "Resample 5Min - TecAn ( windows 10, windows_limit 100 )\n",
      "Processing 999 of ltcusd\n"
     ]
    },
    {
     "data": {
      "application/vnd.jupyter.widget-view+json": {
       "model_id": "3ad82f4dab4e4671a8b9afea4387923b",
       "version_major": 2,
       "version_minor": 0
      },
      "text/plain": [
       "  0%|          | 0/999 [00:00<?, ?it/s]"
      ]
     },
     "metadata": {},
     "output_type": "display_data"
    },
    {
     "name": "stdout",
     "output_type": "stream",
     "text": [
      "https://www.bitstamp.net/api/v2/ohlc/ltcbtc/?&currency_pair=ltcbtc&step=300&limit=1000&start=1559343600\n",
      "Downloaded from 2019-06-01 00:00:00 to 2019-06-04 11:15:00 0.01321994\n",
      "Resample 5Min - TecAn ( windows 10, windows_limit 100 )\n",
      "Processing 999 of ltcbtc\n"
     ]
    },
    {
     "data": {
      "application/vnd.jupyter.widget-view+json": {
       "model_id": "9b7331365e4e46439c1443b9496849cf",
       "version_major": 2,
       "version_minor": 0
      },
      "text/plain": [
       "  0%|          | 0/999 [00:00<?, ?it/s]"
      ]
     },
     "metadata": {},
     "output_type": "display_data"
    },
    {
     "name": "stdout",
     "output_type": "stream",
     "text": [
      "https://www.bitstamp.net/api/v2/ohlc/btcusd/?&currency_pair=btcusd&step=300&limit=1000&start=1527807600\n",
      "Downloaded from 2018-06-01 00:00:00 to 2018-06-04 11:15:00 7603.79\n",
      "Resample 5Min - TecAn ( windows 10, windows_limit 100 )\n",
      "Processing 999 of btcusd\n"
     ]
    },
    {
     "data": {
      "application/vnd.jupyter.widget-view+json": {
       "model_id": "408fa1fe285946d093a55a0e1eefe056",
       "version_major": 2,
       "version_minor": 0
      },
      "text/plain": [
       "  0%|          | 0/999 [00:00<?, ?it/s]"
      ]
     },
     "metadata": {},
     "output_type": "display_data"
    },
    {
     "name": "stdout",
     "output_type": "stream",
     "text": [
      "https://www.bitstamp.net/api/v2/ohlc/ethusd/?&currency_pair=ethusd&step=300&limit=1000&start=1527807600\n",
      "Downloaded from 2018-06-01 00:00:00 to 2018-06-04 11:15:00 605.42\n",
      "Resample 5Min - TecAn ( windows 10, windows_limit 100 )\n",
      "Processing 999 of ethusd\n"
     ]
    },
    {
     "data": {
      "application/vnd.jupyter.widget-view+json": {
       "model_id": "2592e9a1548e445bb099830dd5e31dc7",
       "version_major": 2,
       "version_minor": 0
      },
      "text/plain": [
       "  0%|          | 0/999 [00:00<?, ?it/s]"
      ]
     },
     "metadata": {},
     "output_type": "display_data"
    },
    {
     "name": "stdout",
     "output_type": "stream",
     "text": [
      "https://www.bitstamp.net/api/v2/ohlc/ltcusd/?&currency_pair=ltcusd&step=300&limit=1000&start=1527807600\n",
      "Downloaded from 2018-06-01 00:00:00 to 2018-06-04 11:15:00 122.36\n",
      "Resample 5Min - TecAn ( windows 10, windows_limit 100 )\n",
      "Processing 999 of ltcusd\n"
     ]
    },
    {
     "data": {
      "application/vnd.jupyter.widget-view+json": {
       "model_id": "e36556e11bba4f4599858648cad30dc4",
       "version_major": 2,
       "version_minor": 0
      },
      "text/plain": [
       "  0%|          | 0/999 [00:00<?, ?it/s]"
      ]
     },
     "metadata": {},
     "output_type": "display_data"
    },
    {
     "name": "stdout",
     "output_type": "stream",
     "text": [
      "https://www.bitstamp.net/api/v2/ohlc/ltcbtc/?&currency_pair=ltcbtc&step=300&limit=1000&start=1527807600\n",
      "Downloaded from 2018-06-01 00:00:00 to 2018-06-04 11:15:00 0.01605500\n",
      "Resample 5Min - TecAn ( windows 10, windows_limit 100 )\n",
      "Processing 999 of ltcbtc\n"
     ]
    },
    {
     "data": {
      "application/vnd.jupyter.widget-view+json": {
       "model_id": "d6acb2411bf446c889ced9d6d1315d91",
       "version_major": 2,
       "version_minor": 0
      },
      "text/plain": [
       "  0%|          | 0/999 [00:00<?, ?it/s]"
      ]
     },
     "metadata": {},
     "output_type": "display_data"
    },
    {
     "name": "stdout",
     "output_type": "stream",
     "text": [
      "https://www.bitstamp.net/api/v2/ohlc/btcusd/?&currency_pair=btcusd&step=300&limit=1000&start=1517443200\n",
      "Downloaded from 2018-02-01 00:00:00 to 2018-02-04 11:15:00 8898.23\n",
      "Resample 5Min - TecAn ( windows 10, windows_limit 100 )\n",
      "Processing 999 of btcusd\n"
     ]
    },
    {
     "data": {
      "application/vnd.jupyter.widget-view+json": {
       "model_id": "a8f3c28db6144c52b169c7dc1c5e303b",
       "version_major": 2,
       "version_minor": 0
      },
      "text/plain": [
       "  0%|          | 0/999 [00:00<?, ?it/s]"
      ]
     },
     "metadata": {},
     "output_type": "display_data"
    },
    {
     "name": "stdout",
     "output_type": "stream",
     "text": [
      "https://www.bitstamp.net/api/v2/ohlc/ethusd/?&currency_pair=ethusd&step=300&limit=1000&start=1517443200\n",
      "Downloaded from 2018-02-01 00:00:00 to 2018-02-04 11:15:00 911.19\n",
      "Resample 5Min - TecAn ( windows 10, windows_limit 100 )\n",
      "Processing 999 of ethusd\n"
     ]
    },
    {
     "data": {
      "application/vnd.jupyter.widget-view+json": {
       "model_id": "f59cec90e5104dfc8b905e29a12561f5",
       "version_major": 2,
       "version_minor": 0
      },
      "text/plain": [
       "  0%|          | 0/999 [00:00<?, ?it/s]"
      ]
     },
     "metadata": {},
     "output_type": "display_data"
    },
    {
     "name": "stdout",
     "output_type": "stream",
     "text": [
      "https://www.bitstamp.net/api/v2/ohlc/ltcusd/?&currency_pair=ltcusd&step=300&limit=1000&start=1517443200\n",
      "Downloaded from 2018-02-01 00:00:00 to 2018-02-04 11:15:00 160.78\n",
      "Resample 5Min - TecAn ( windows 10, windows_limit 100 )\n",
      "Processing 999 of ltcusd\n"
     ]
    },
    {
     "data": {
      "application/vnd.jupyter.widget-view+json": {
       "model_id": "ddd17522fe2d4b529f7b663ddd15183b",
       "version_major": 2,
       "version_minor": 0
      },
      "text/plain": [
       "  0%|          | 0/999 [00:00<?, ?it/s]"
      ]
     },
     "metadata": {},
     "output_type": "display_data"
    },
    {
     "name": "stdout",
     "output_type": "stream",
     "text": [
      "https://www.bitstamp.net/api/v2/ohlc/ltcbtc/?&currency_pair=ltcbtc&step=300&limit=1000&start=1517443200\n",
      "Downloaded from 2018-02-01 00:00:00 to 2018-02-04 11:15:00 0.01802000\n",
      "Resample 5Min - TecAn ( windows 10, windows_limit 100 )\n",
      "Processing 999 of ltcbtc\n"
     ]
    },
    {
     "data": {
      "application/vnd.jupyter.widget-view+json": {
       "model_id": "5dfd36ba4f1640809bf6b530c94ac390",
       "version_major": 2,
       "version_minor": 0
      },
      "text/plain": [
       "  0%|          | 0/999 [00:00<?, ?it/s]"
      ]
     },
     "metadata": {},
     "output_type": "display_data"
    },
    {
     "name": "stdout",
     "output_type": "stream",
     "text": [
      "https://www.bitstamp.net/api/v2/ohlc/btcusd/?&currency_pair=btcusd&step=300&limit=1000&start=1548979200\n",
      "Downloaded from 2019-02-01 00:00:00 to 2019-02-04 11:15:00 3404.48\n",
      "Resample 5Min - TecAn ( windows 10, windows_limit 100 )\n",
      "Processing 999 of btcusd\n"
     ]
    },
    {
     "data": {
      "application/vnd.jupyter.widget-view+json": {
       "model_id": "f77253ef0dde4065bc60a4be6a4ead3d",
       "version_major": 2,
       "version_minor": 0
      },
      "text/plain": [
       "  0%|          | 0/999 [00:00<?, ?it/s]"
      ]
     },
     "metadata": {},
     "output_type": "display_data"
    },
    {
     "name": "stdout",
     "output_type": "stream",
     "text": [
      "https://www.bitstamp.net/api/v2/ohlc/ethusd/?&currency_pair=ethusd&step=300&limit=1000&start=1548979200\n",
      "Downloaded from 2019-02-01 00:00:00 to 2019-02-04 11:15:00 105.66\n",
      "Resample 5Min - TecAn ( windows 10, windows_limit 100 )\n",
      "Processing 999 of ethusd\n"
     ]
    },
    {
     "data": {
      "application/vnd.jupyter.widget-view+json": {
       "model_id": "b1bdc5611da340549ac6fca7c50c6475",
       "version_major": 2,
       "version_minor": 0
      },
      "text/plain": [
       "  0%|          | 0/999 [00:00<?, ?it/s]"
      ]
     },
     "metadata": {},
     "output_type": "display_data"
    },
    {
     "name": "stdout",
     "output_type": "stream",
     "text": [
      "https://www.bitstamp.net/api/v2/ohlc/ltcusd/?&currency_pair=ltcusd&step=300&limit=1000&start=1548979200\n",
      "Downloaded from 2019-02-01 00:00:00 to 2019-02-04 11:15:00 33.28\n",
      "Resample 5Min - TecAn ( windows 10, windows_limit 100 )\n",
      "Processing 999 of ltcusd\n"
     ]
    },
    {
     "data": {
      "application/vnd.jupyter.widget-view+json": {
       "model_id": "1e85461628bf44c8a46d6f819f0d6833",
       "version_major": 2,
       "version_minor": 0
      },
      "text/plain": [
       "  0%|          | 0/999 [00:00<?, ?it/s]"
      ]
     },
     "metadata": {},
     "output_type": "display_data"
    },
    {
     "name": "stdout",
     "output_type": "stream",
     "text": [
      "https://www.bitstamp.net/api/v2/ohlc/ltcbtc/?&currency_pair=ltcbtc&step=300&limit=1000&start=1548979200\n",
      "Downloaded from 2019-02-01 00:00:00 to 2019-02-04 11:15:00 0.00976025\n",
      "Resample 5Min - TecAn ( windows 10, windows_limit 100 )\n",
      "Processing 999 of ltcbtc\n"
     ]
    },
    {
     "data": {
      "application/vnd.jupyter.widget-view+json": {
       "model_id": "060e5840b4f04cda8f1732602f4011aa",
       "version_major": 2,
       "version_minor": 0
      },
      "text/plain": [
       "  0%|          | 0/999 [00:00<?, ?it/s]"
      ]
     },
     "metadata": {},
     "output_type": "display_data"
    },
    {
     "name": "stdout",
     "output_type": "stream",
     "text": [
      "https://www.bitstamp.net/api/v2/ohlc/btcusd/?&currency_pair=btcusd&step=300&limit=1000&start=1580515200\n",
      "Downloaded from 2020-02-01 00:00:00 to 2020-02-04 11:15:00 9163.36\n",
      "Resample 5Min - TecAn ( windows 10, windows_limit 100 )\n",
      "Processing 999 of btcusd\n"
     ]
    },
    {
     "data": {
      "application/vnd.jupyter.widget-view+json": {
       "model_id": "72f1139216104c3b80940892969993c6",
       "version_major": 2,
       "version_minor": 0
      },
      "text/plain": [
       "  0%|          | 0/999 [00:00<?, ?it/s]"
      ]
     },
     "metadata": {},
     "output_type": "display_data"
    },
    {
     "name": "stdout",
     "output_type": "stream",
     "text": [
      "https://www.bitstamp.net/api/v2/ohlc/ethusd/?&currency_pair=ethusd&step=300&limit=1000&start=1580515200\n",
      "Downloaded from 2020-02-01 00:00:00 to 2020-02-04 11:15:00 185.75\n",
      "Resample 5Min - TecAn ( windows 10, windows_limit 100 )\n",
      "Processing 999 of ethusd\n"
     ]
    },
    {
     "data": {
      "application/vnd.jupyter.widget-view+json": {
       "model_id": "5e294cec94d8481780f3e63e9b0dc3a2",
       "version_major": 2,
       "version_minor": 0
      },
      "text/plain": [
       "  0%|          | 0/999 [00:00<?, ?it/s]"
      ]
     },
     "metadata": {},
     "output_type": "display_data"
    },
    {
     "name": "stdout",
     "output_type": "stream",
     "text": [
      "https://www.bitstamp.net/api/v2/ohlc/ltcusd/?&currency_pair=ltcusd&step=300&limit=1000&start=1580515200\n",
      "Downloaded from 2020-02-01 00:00:00 to 2020-02-04 11:15:00 67.19\n",
      "Resample 5Min - TecAn ( windows 10, windows_limit 100 )\n",
      "Processing 999 of ltcusd\n"
     ]
    },
    {
     "data": {
      "application/vnd.jupyter.widget-view+json": {
       "model_id": "53ebc379118443dbb96b21a9f9e48d82",
       "version_major": 2,
       "version_minor": 0
      },
      "text/plain": [
       "  0%|          | 0/999 [00:00<?, ?it/s]"
      ]
     },
     "metadata": {},
     "output_type": "display_data"
    },
    {
     "name": "stdout",
     "output_type": "stream",
     "text": [
      "https://www.bitstamp.net/api/v2/ohlc/ltcbtc/?&currency_pair=ltcbtc&step=300&limit=1000&start=1580515200\n",
      "Downloaded from 2020-02-01 00:00:00 to 2020-02-04 11:15:00 0.00734000\n",
      "Resample 5Min - TecAn ( windows 10, windows_limit 100 )\n",
      "Processing 999 of ltcbtc\n"
     ]
    },
    {
     "data": {
      "application/vnd.jupyter.widget-view+json": {
       "model_id": "62383237ce764d1ebe482d6242334985",
       "version_major": 2,
       "version_minor": 0
      },
      "text/plain": [
       "  0%|          | 0/999 [00:00<?, ?it/s]"
      ]
     },
     "metadata": {},
     "output_type": "display_data"
    },
    {
     "name": "stdout",
     "output_type": "stream",
     "text": [
      "https://www.bitstamp.net/api/v2/ohlc/btcusd/?&currency_pair=btcusd&step=300&limit=1000&start=1612137600\n",
      "Downloaded from 2021-02-01 00:00:00 to 2021-02-04 11:15:00 37713.31\n",
      "Resample 5Min - TecAn ( windows 10, windows_limit 100 )\n",
      "Processing 999 of btcusd\n"
     ]
    },
    {
     "data": {
      "application/vnd.jupyter.widget-view+json": {
       "model_id": "595510ea3b124349889dc9cafe7d8de1",
       "version_major": 2,
       "version_minor": 0
      },
      "text/plain": [
       "  0%|          | 0/999 [00:00<?, ?it/s]"
      ]
     },
     "metadata": {},
     "output_type": "display_data"
    },
    {
     "name": "stdout",
     "output_type": "stream",
     "text": [
      "https://www.bitstamp.net/api/v2/ohlc/ethusd/?&currency_pair=ethusd&step=300&limit=1000&start=1612137600\n",
      "Downloaded from 2021-02-01 00:00:00 to 2021-02-04 11:15:00 1633.70\n",
      "Resample 5Min - TecAn ( windows 10, windows_limit 100 )\n",
      "Processing 999 of ethusd\n"
     ]
    },
    {
     "data": {
      "application/vnd.jupyter.widget-view+json": {
       "model_id": "bf8b1d2b1ecd4eb3890438511812c5bd",
       "version_major": 2,
       "version_minor": 0
      },
      "text/plain": [
       "  0%|          | 0/999 [00:00<?, ?it/s]"
      ]
     },
     "metadata": {},
     "output_type": "display_data"
    },
    {
     "name": "stdout",
     "output_type": "stream",
     "text": [
      "https://www.bitstamp.net/api/v2/ohlc/ltcusd/?&currency_pair=ltcusd&step=300&limit=1000&start=1612137600\n",
      "Downloaded from 2021-02-01 00:00:00 to 2021-02-04 11:15:00 148.10\n",
      "Resample 5Min - TecAn ( windows 10, windows_limit 100 )\n",
      "Processing 999 of ltcusd\n"
     ]
    },
    {
     "data": {
      "application/vnd.jupyter.widget-view+json": {
       "model_id": "219bb26fc82f440a9198d30096ee8552",
       "version_major": 2,
       "version_minor": 0
      },
      "text/plain": [
       "  0%|          | 0/999 [00:00<?, ?it/s]"
      ]
     },
     "metadata": {},
     "output_type": "display_data"
    },
    {
     "name": "stdout",
     "output_type": "stream",
     "text": [
      "https://www.bitstamp.net/api/v2/ohlc/ltcbtc/?&currency_pair=ltcbtc&step=300&limit=1000&start=1612137600\n",
      "Downloaded from 2021-02-01 00:00:00 to 2021-02-04 11:15:00 0.00392037\n",
      "Resample 5Min - TecAn ( windows 10, windows_limit 100 )\n",
      "Processing 999 of ltcbtc\n"
     ]
    },
    {
     "data": {
      "application/vnd.jupyter.widget-view+json": {
       "model_id": "3bf413990a0d4faa94bb2cb615fdff81",
       "version_major": 2,
       "version_minor": 0
      },
      "text/plain": [
       "  0%|          | 0/999 [00:00<?, ?it/s]"
      ]
     },
     "metadata": {},
     "output_type": "display_data"
    },
    {
     "name": "stdout",
     "output_type": "stream",
     "text": [
      "https://www.bitstamp.net/api/v2/ohlc/btcusd/?&currency_pair=btcusd&step=300&limit=1000&start=1623711600\n",
      "https://www.bitstamp.net/api/v2/ohlc/btcusd/?&currency_pair=btcusd&step=300&limit=1000&start=1624011300\n",
      "https://www.bitstamp.net/api/v2/ohlc/btcusd/?&currency_pair=btcusd&step=300&limit=1000&start=1624311000\n",
      "https://www.bitstamp.net/api/v2/ohlc/btcusd/?&currency_pair=btcusd&step=300&limit=1000&start=1624610700\n",
      "https://www.bitstamp.net/api/v2/ohlc/btcusd/?&currency_pair=btcusd&step=300&limit=1000&start=1624910400\n",
      "https://www.bitstamp.net/api/v2/ohlc/btcusd/?&currency_pair=btcusd&step=300&limit=1000&start=1625210100\n",
      "https://www.bitstamp.net/api/v2/ohlc/btcusd/?&currency_pair=btcusd&step=300&limit=1000&start=1625509800\n",
      "https://www.bitstamp.net/api/v2/ohlc/btcusd/?&currency_pair=btcusd&step=300&limit=1000&start=1625809500\n",
      "https://www.bitstamp.net/api/v2/ohlc/btcusd/?&currency_pair=btcusd&step=300&limit=1000&start=1626109200\n",
      "Downloaded from 2021-06-15 00:00:00 to 2021-07-15 00:05:00 32946.30\n",
      "Resample 5Min - TecAn ( windows 10, windows_limit 100 )\n",
      "Processing 8649 of btcusd\n"
     ]
    },
    {
     "data": {
      "application/vnd.jupyter.widget-view+json": {
       "model_id": "72bcc92e6cfc4172ad3fe46f704f0d51",
       "version_major": 2,
       "version_minor": 0
      },
      "text/plain": [
       "  0%|          | 0/8649 [00:00<?, ?it/s]"
      ]
     },
     "metadata": {},
     "output_type": "display_data"
    },
    {
     "name": "stdout",
     "output_type": "stream",
     "text": [
      "https://www.bitstamp.net/api/v2/ohlc/ethusd/?&currency_pair=ethusd&step=300&limit=1000&start=1623711600\n",
      "https://www.bitstamp.net/api/v2/ohlc/ethusd/?&currency_pair=ethusd&step=300&limit=1000&start=1624011300\n",
      "https://www.bitstamp.net/api/v2/ohlc/ethusd/?&currency_pair=ethusd&step=300&limit=1000&start=1624311000\n",
      "https://www.bitstamp.net/api/v2/ohlc/ethusd/?&currency_pair=ethusd&step=300&limit=1000&start=1624610700\n",
      "https://www.bitstamp.net/api/v2/ohlc/ethusd/?&currency_pair=ethusd&step=300&limit=1000&start=1624910400\n",
      "https://www.bitstamp.net/api/v2/ohlc/ethusd/?&currency_pair=ethusd&step=300&limit=1000&start=1625210100\n",
      "https://www.bitstamp.net/api/v2/ohlc/ethusd/?&currency_pair=ethusd&step=300&limit=1000&start=1625509800\n",
      "https://www.bitstamp.net/api/v2/ohlc/ethusd/?&currency_pair=ethusd&step=300&limit=1000&start=1625809500\n",
      "https://www.bitstamp.net/api/v2/ohlc/ethusd/?&currency_pair=ethusd&step=300&limit=1000&start=1626109200\n",
      "Downloaded from 2021-06-15 00:00:00 to 2021-07-15 00:05:00 2000.79\n",
      "Resample 5Min - TecAn ( windows 10, windows_limit 100 )\n",
      "Processing 8649 of ethusd\n"
     ]
    },
    {
     "data": {
      "application/vnd.jupyter.widget-view+json": {
       "model_id": "96aa946dbc3e407cbd7d859613284f5b",
       "version_major": 2,
       "version_minor": 0
      },
      "text/plain": [
       "  0%|          | 0/8649 [00:00<?, ?it/s]"
      ]
     },
     "metadata": {},
     "output_type": "display_data"
    },
    {
     "name": "stdout",
     "output_type": "stream",
     "text": [
      "https://www.bitstamp.net/api/v2/ohlc/ltcusd/?&currency_pair=ltcusd&step=300&limit=1000&start=1623711600\n",
      "https://www.bitstamp.net/api/v2/ohlc/ltcusd/?&currency_pair=ltcusd&step=300&limit=1000&start=1624011300\n",
      "https://www.bitstamp.net/api/v2/ohlc/ltcusd/?&currency_pair=ltcusd&step=300&limit=1000&start=1624311000\n",
      "https://www.bitstamp.net/api/v2/ohlc/ltcusd/?&currency_pair=ltcusd&step=300&limit=1000&start=1624610700\n",
      "https://www.bitstamp.net/api/v2/ohlc/ltcusd/?&currency_pair=ltcusd&step=300&limit=1000&start=1624910400\n",
      "https://www.bitstamp.net/api/v2/ohlc/ltcusd/?&currency_pair=ltcusd&step=300&limit=1000&start=1625210100\n",
      "https://www.bitstamp.net/api/v2/ohlc/ltcusd/?&currency_pair=ltcusd&step=300&limit=1000&start=1625509800\n",
      "https://www.bitstamp.net/api/v2/ohlc/ltcusd/?&currency_pair=ltcusd&step=300&limit=1000&start=1625809500\n",
      "https://www.bitstamp.net/api/v2/ohlc/ltcusd/?&currency_pair=ltcusd&step=300&limit=1000&start=1626109200\n",
      "Downloaded from 2021-06-15 00:00:00 to 2021-07-15 00:05:00 131.27\n",
      "Resample 5Min - TecAn ( windows 10, windows_limit 100 )\n",
      "Processing 8649 of ltcusd\n"
     ]
    },
    {
     "data": {
      "application/vnd.jupyter.widget-view+json": {
       "model_id": "9eaad4891a6843c9bc21b18b2adf8beb",
       "version_major": 2,
       "version_minor": 0
      },
      "text/plain": [
       "  0%|          | 0/8649 [00:00<?, ?it/s]"
      ]
     },
     "metadata": {},
     "output_type": "display_data"
    },
    {
     "name": "stdout",
     "output_type": "stream",
     "text": [
      "https://www.bitstamp.net/api/v2/ohlc/ltcbtc/?&currency_pair=ltcbtc&step=300&limit=1000&start=1623711600\n",
      "https://www.bitstamp.net/api/v2/ohlc/ltcbtc/?&currency_pair=ltcbtc&step=300&limit=1000&start=1624011300\n",
      "https://www.bitstamp.net/api/v2/ohlc/ltcbtc/?&currency_pair=ltcbtc&step=300&limit=1000&start=1624311000\n",
      "https://www.bitstamp.net/api/v2/ohlc/ltcbtc/?&currency_pair=ltcbtc&step=300&limit=1000&start=1624610700\n",
      "https://www.bitstamp.net/api/v2/ohlc/ltcbtc/?&currency_pair=ltcbtc&step=300&limit=1000&start=1624910400\n",
      "https://www.bitstamp.net/api/v2/ohlc/ltcbtc/?&currency_pair=ltcbtc&step=300&limit=1000&start=1625210100\n",
      "https://www.bitstamp.net/api/v2/ohlc/ltcbtc/?&currency_pair=ltcbtc&step=300&limit=1000&start=1625509800\n",
      "https://www.bitstamp.net/api/v2/ohlc/ltcbtc/?&currency_pair=ltcbtc&step=300&limit=1000&start=1625809500\n",
      "https://www.bitstamp.net/api/v2/ohlc/ltcbtc/?&currency_pair=ltcbtc&step=300&limit=1000&start=1626109200\n",
      "Downloaded from 2021-06-15 00:00:00 to 2021-07-15 00:05:00 0.00398347\n",
      "Resample 5Min - TecAn ( windows 10, windows_limit 100 )\n",
      "Processing 8649 of ltcbtc\n"
     ]
    },
    {
     "data": {
      "application/vnd.jupyter.widget-view+json": {
       "model_id": "385241f862e14d3ca6b176477c77fe8f",
       "version_major": 2,
       "version_minor": 0
      },
      "text/plain": [
       "  0%|          | 0/8649 [00:00<?, ?it/s]"
      ]
     },
     "metadata": {},
     "output_type": "display_data"
    },
    {
     "name": "stdout",
     "output_type": "stream",
     "text": [
      "https://www.bitstamp.net/api/v2/ohlc/btcusd/?&currency_pair=btcusd&step=300&limit=1000&start=1622502000\n",
      "Downloaded from 2021-06-01 00:00:00 to 2021-06-04 11:15:00 36979.84\n",
      "Resample 5Min - TecAn ( windows 20, windows_limit 100 )\n",
      "Processing 999 of btcusd\n"
     ]
    },
    {
     "data": {
      "application/vnd.jupyter.widget-view+json": {
       "model_id": "e23570b22ca946b6a871d029118908cb",
       "version_major": 2,
       "version_minor": 0
      },
      "text/plain": [
       "  0%|          | 0/999 [00:00<?, ?it/s]"
      ]
     },
     "metadata": {},
     "output_type": "display_data"
    },
    {
     "name": "stdout",
     "output_type": "stream",
     "text": [
      "https://www.bitstamp.net/api/v2/ohlc/ethusd/?&currency_pair=ethusd&step=300&limit=1000&start=1622502000\n",
      "Downloaded from 2021-06-01 00:00:00 to 2021-06-04 11:15:00 2662.21\n",
      "Resample 5Min - TecAn ( windows 20, windows_limit 100 )\n",
      "Processing 999 of ethusd\n"
     ]
    },
    {
     "data": {
      "application/vnd.jupyter.widget-view+json": {
       "model_id": "0b45f1d164b94b22811f44f2c3ea89ab",
       "version_major": 2,
       "version_minor": 0
      },
      "text/plain": [
       "  0%|          | 0/999 [00:00<?, ?it/s]"
      ]
     },
     "metadata": {},
     "output_type": "display_data"
    },
    {
     "name": "stdout",
     "output_type": "stream",
     "text": [
      "https://www.bitstamp.net/api/v2/ohlc/ltcusd/?&currency_pair=ltcusd&step=300&limit=1000&start=1622502000\n",
      "Downloaded from 2021-06-01 00:00:00 to 2021-06-04 11:15:00 177.09\n",
      "Resample 5Min - TecAn ( windows 20, windows_limit 100 )\n",
      "Processing 999 of ltcusd\n"
     ]
    },
    {
     "data": {
      "application/vnd.jupyter.widget-view+json": {
       "model_id": "654ad96726244770ad11eb62024d8c27",
       "version_major": 2,
       "version_minor": 0
      },
      "text/plain": [
       "  0%|          | 0/999 [00:00<?, ?it/s]"
      ]
     },
     "metadata": {},
     "output_type": "display_data"
    },
    {
     "name": "stdout",
     "output_type": "stream",
     "text": [
      "https://www.bitstamp.net/api/v2/ohlc/ltcbtc/?&currency_pair=ltcbtc&step=300&limit=1000&start=1622502000\n",
      "Downloaded from 2021-06-01 00:00:00 to 2021-06-04 11:15:00 0.00478308\n",
      "Resample 5Min - TecAn ( windows 20, windows_limit 100 )\n",
      "Processing 999 of ltcbtc\n"
     ]
    },
    {
     "data": {
      "application/vnd.jupyter.widget-view+json": {
       "model_id": "cabde15f0f8a4ed9a997423937ef6604",
       "version_major": 2,
       "version_minor": 0
      },
      "text/plain": [
       "  0%|          | 0/999 [00:00<?, ?it/s]"
      ]
     },
     "metadata": {},
     "output_type": "display_data"
    },
    {
     "name": "stdout",
     "output_type": "stream",
     "text": [
      "https://www.bitstamp.net/api/v2/ohlc/btcusd/?&currency_pair=btcusd&step=300&limit=1000&start=1590966000\n",
      "Downloaded from 2020-06-01 00:00:00 to 2020-06-04 11:15:00 9520.48\n",
      "Resample 5Min - TecAn ( windows 20, windows_limit 100 )\n",
      "Processing 999 of btcusd\n"
     ]
    },
    {
     "data": {
      "application/vnd.jupyter.widget-view+json": {
       "model_id": "13a988b39bbe44bf9df6cd515cf47535",
       "version_major": 2,
       "version_minor": 0
      },
      "text/plain": [
       "  0%|          | 0/999 [00:00<?, ?it/s]"
      ]
     },
     "metadata": {},
     "output_type": "display_data"
    },
    {
     "name": "stdout",
     "output_type": "stream",
     "text": [
      "https://www.bitstamp.net/api/v2/ohlc/ethusd/?&currency_pair=ethusd&step=300&limit=1000&start=1590966000\n",
      "Downloaded from 2020-06-01 00:00:00 to 2020-06-04 11:15:00 239.28\n",
      "Resample 5Min - TecAn ( windows 20, windows_limit 100 )\n",
      "Processing 999 of ethusd\n"
     ]
    },
    {
     "data": {
      "application/vnd.jupyter.widget-view+json": {
       "model_id": "586d5ebc7d3243be83fc9428b0d8b184",
       "version_major": 2,
       "version_minor": 0
      },
      "text/plain": [
       "  0%|          | 0/999 [00:00<?, ?it/s]"
      ]
     },
     "metadata": {},
     "output_type": "display_data"
    },
    {
     "name": "stdout",
     "output_type": "stream",
     "text": [
      "https://www.bitstamp.net/api/v2/ohlc/ltcusd/?&currency_pair=ltcusd&step=300&limit=1000&start=1590966000\n",
      "Downloaded from 2020-06-01 00:00:00 to 2020-06-04 11:15:00 46.81\n",
      "Resample 5Min - TecAn ( windows 20, windows_limit 100 )\n",
      "Processing 999 of ltcusd\n"
     ]
    },
    {
     "data": {
      "application/vnd.jupyter.widget-view+json": {
       "model_id": "8c21e6bdfb8144ebabe697650cb5a3bc",
       "version_major": 2,
       "version_minor": 0
      },
      "text/plain": [
       "  0%|          | 0/999 [00:00<?, ?it/s]"
      ]
     },
     "metadata": {},
     "output_type": "display_data"
    },
    {
     "name": "stdout",
     "output_type": "stream",
     "text": [
      "https://www.bitstamp.net/api/v2/ohlc/ltcbtc/?&currency_pair=ltcbtc&step=300&limit=1000&start=1590966000\n",
      "Downloaded from 2020-06-01 00:00:00 to 2020-06-04 11:15:00 0.00493915\n",
      "Resample 5Min - TecAn ( windows 20, windows_limit 100 )\n",
      "Processing 999 of ltcbtc\n"
     ]
    },
    {
     "data": {
      "application/vnd.jupyter.widget-view+json": {
       "model_id": "af04305953b6480faac95cca2588c95b",
       "version_major": 2,
       "version_minor": 0
      },
      "text/plain": [
       "  0%|          | 0/999 [00:00<?, ?it/s]"
      ]
     },
     "metadata": {},
     "output_type": "display_data"
    },
    {
     "name": "stdout",
     "output_type": "stream",
     "text": [
      "https://www.bitstamp.net/api/v2/ohlc/btcusd/?&currency_pair=btcusd&step=300&limit=1000&start=1559343600\n",
      "Downloaded from 2019-06-01 00:00:00 to 2019-06-04 11:15:00 7963.92\n",
      "Resample 5Min - TecAn ( windows 20, windows_limit 100 )\n",
      "Processing 999 of btcusd\n"
     ]
    },
    {
     "data": {
      "application/vnd.jupyter.widget-view+json": {
       "model_id": "2c3c2fb90258425ab26e805fc33f5a06",
       "version_major": 2,
       "version_minor": 0
      },
      "text/plain": [
       "  0%|          | 0/999 [00:00<?, ?it/s]"
      ]
     },
     "metadata": {},
     "output_type": "display_data"
    },
    {
     "name": "stdout",
     "output_type": "stream",
     "text": [
      "https://www.bitstamp.net/api/v2/ohlc/ethusd/?&currency_pair=ethusd&step=300&limit=1000&start=1559343600\n",
      "Downloaded from 2019-06-01 00:00:00 to 2019-06-04 11:15:00 247.42\n",
      "Resample 5Min - TecAn ( windows 20, windows_limit 100 )\n",
      "Processing 999 of ethusd\n"
     ]
    },
    {
     "data": {
      "application/vnd.jupyter.widget-view+json": {
       "model_id": "cbad30c8a5d64a6bbf5a304b04f3e666",
       "version_major": 2,
       "version_minor": 0
      },
      "text/plain": [
       "  0%|          | 0/999 [00:00<?, ?it/s]"
      ]
     },
     "metadata": {},
     "output_type": "display_data"
    },
    {
     "name": "stdout",
     "output_type": "stream",
     "text": [
      "https://www.bitstamp.net/api/v2/ohlc/ltcusd/?&currency_pair=ltcusd&step=300&limit=1000&start=1559343600\n",
      "Downloaded from 2019-06-01 00:00:00 to 2019-06-04 11:15:00 105.11\n",
      "Resample 5Min - TecAn ( windows 20, windows_limit 100 )\n",
      "Processing 999 of ltcusd\n"
     ]
    },
    {
     "data": {
      "application/vnd.jupyter.widget-view+json": {
       "model_id": "d0173a92bea541889812394e06b8f551",
       "version_major": 2,
       "version_minor": 0
      },
      "text/plain": [
       "  0%|          | 0/999 [00:00<?, ?it/s]"
      ]
     },
     "metadata": {},
     "output_type": "display_data"
    },
    {
     "name": "stdout",
     "output_type": "stream",
     "text": [
      "https://www.bitstamp.net/api/v2/ohlc/ltcbtc/?&currency_pair=ltcbtc&step=300&limit=1000&start=1559343600\n",
      "Downloaded from 2019-06-01 00:00:00 to 2019-06-04 11:15:00 0.01321994\n",
      "Resample 5Min - TecAn ( windows 20, windows_limit 100 )\n",
      "Processing 999 of ltcbtc\n"
     ]
    },
    {
     "data": {
      "application/vnd.jupyter.widget-view+json": {
       "model_id": "3b7611d04623459cbc245f2a0a805367",
       "version_major": 2,
       "version_minor": 0
      },
      "text/plain": [
       "  0%|          | 0/999 [00:00<?, ?it/s]"
      ]
     },
     "metadata": {},
     "output_type": "display_data"
    },
    {
     "name": "stdout",
     "output_type": "stream",
     "text": [
      "https://www.bitstamp.net/api/v2/ohlc/btcusd/?&currency_pair=btcusd&step=300&limit=1000&start=1527807600\n",
      "Downloaded from 2018-06-01 00:00:00 to 2018-06-04 11:15:00 7603.79\n",
      "Resample 5Min - TecAn ( windows 20, windows_limit 100 )\n",
      "Processing 999 of btcusd\n"
     ]
    },
    {
     "data": {
      "application/vnd.jupyter.widget-view+json": {
       "model_id": "945ac780da084bd6953c882b3a519046",
       "version_major": 2,
       "version_minor": 0
      },
      "text/plain": [
       "  0%|          | 0/999 [00:00<?, ?it/s]"
      ]
     },
     "metadata": {},
     "output_type": "display_data"
    },
    {
     "name": "stdout",
     "output_type": "stream",
     "text": [
      "https://www.bitstamp.net/api/v2/ohlc/ethusd/?&currency_pair=ethusd&step=300&limit=1000&start=1527807600\n",
      "Downloaded from 2018-06-01 00:00:00 to 2018-06-04 11:15:00 605.42\n",
      "Resample 5Min - TecAn ( windows 20, windows_limit 100 )\n",
      "Processing 999 of ethusd\n"
     ]
    },
    {
     "data": {
      "application/vnd.jupyter.widget-view+json": {
       "model_id": "a6db9ff6531642a484ec09d9f295b963",
       "version_major": 2,
       "version_minor": 0
      },
      "text/plain": [
       "  0%|          | 0/999 [00:00<?, ?it/s]"
      ]
     },
     "metadata": {},
     "output_type": "display_data"
    },
    {
     "name": "stdout",
     "output_type": "stream",
     "text": [
      "https://www.bitstamp.net/api/v2/ohlc/ltcusd/?&currency_pair=ltcusd&step=300&limit=1000&start=1527807600\n",
      "Downloaded from 2018-06-01 00:00:00 to 2018-06-04 11:15:00 122.36\n",
      "Resample 5Min - TecAn ( windows 20, windows_limit 100 )\n",
      "Processing 999 of ltcusd\n"
     ]
    },
    {
     "data": {
      "application/vnd.jupyter.widget-view+json": {
       "model_id": "0bf7162b6ccd45b8b331aa27d68e8220",
       "version_major": 2,
       "version_minor": 0
      },
      "text/plain": [
       "  0%|          | 0/999 [00:00<?, ?it/s]"
      ]
     },
     "metadata": {},
     "output_type": "display_data"
    },
    {
     "name": "stdout",
     "output_type": "stream",
     "text": [
      "https://www.bitstamp.net/api/v2/ohlc/ltcbtc/?&currency_pair=ltcbtc&step=300&limit=1000&start=1527807600\n",
      "Downloaded from 2018-06-01 00:00:00 to 2018-06-04 11:15:00 0.01605500\n",
      "Resample 5Min - TecAn ( windows 20, windows_limit 100 )\n",
      "Processing 999 of ltcbtc\n"
     ]
    },
    {
     "data": {
      "application/vnd.jupyter.widget-view+json": {
       "model_id": "bdbff774219b4ebdb2155a9abd73fdf8",
       "version_major": 2,
       "version_minor": 0
      },
      "text/plain": [
       "  0%|          | 0/999 [00:00<?, ?it/s]"
      ]
     },
     "metadata": {},
     "output_type": "display_data"
    },
    {
     "name": "stdout",
     "output_type": "stream",
     "text": [
      "https://www.bitstamp.net/api/v2/ohlc/btcusd/?&currency_pair=btcusd&step=300&limit=1000&start=1517443200\n",
      "Downloaded from 2018-02-01 00:00:00 to 2018-02-04 11:15:00 8898.23\n",
      "Resample 5Min - TecAn ( windows 20, windows_limit 100 )\n",
      "Processing 999 of btcusd\n"
     ]
    },
    {
     "data": {
      "application/vnd.jupyter.widget-view+json": {
       "model_id": "148c998bf15a4bebac95583f65142a13",
       "version_major": 2,
       "version_minor": 0
      },
      "text/plain": [
       "  0%|          | 0/999 [00:00<?, ?it/s]"
      ]
     },
     "metadata": {},
     "output_type": "display_data"
    },
    {
     "name": "stdout",
     "output_type": "stream",
     "text": [
      "https://www.bitstamp.net/api/v2/ohlc/ethusd/?&currency_pair=ethusd&step=300&limit=1000&start=1517443200\n",
      "Downloaded from 2018-02-01 00:00:00 to 2018-02-04 11:15:00 911.19\n",
      "Resample 5Min - TecAn ( windows 20, windows_limit 100 )\n",
      "Processing 999 of ethusd\n"
     ]
    },
    {
     "data": {
      "application/vnd.jupyter.widget-view+json": {
       "model_id": "819b574809544d1985f22726e5a53666",
       "version_major": 2,
       "version_minor": 0
      },
      "text/plain": [
       "  0%|          | 0/999 [00:00<?, ?it/s]"
      ]
     },
     "metadata": {},
     "output_type": "display_data"
    },
    {
     "name": "stdout",
     "output_type": "stream",
     "text": [
      "https://www.bitstamp.net/api/v2/ohlc/ltcusd/?&currency_pair=ltcusd&step=300&limit=1000&start=1517443200\n",
      "Downloaded from 2018-02-01 00:00:00 to 2018-02-04 11:15:00 160.78\n",
      "Resample 5Min - TecAn ( windows 20, windows_limit 100 )\n",
      "Processing 999 of ltcusd\n"
     ]
    },
    {
     "data": {
      "application/vnd.jupyter.widget-view+json": {
       "model_id": "adbd4c2089734fcb8bd11c7fe51b775a",
       "version_major": 2,
       "version_minor": 0
      },
      "text/plain": [
       "  0%|          | 0/999 [00:00<?, ?it/s]"
      ]
     },
     "metadata": {},
     "output_type": "display_data"
    },
    {
     "name": "stdout",
     "output_type": "stream",
     "text": [
      "https://www.bitstamp.net/api/v2/ohlc/ltcbtc/?&currency_pair=ltcbtc&step=300&limit=1000&start=1517443200\n",
      "Downloaded from 2018-02-01 00:00:00 to 2018-02-04 11:15:00 0.01802000\n",
      "Resample 5Min - TecAn ( windows 20, windows_limit 100 )\n",
      "Processing 999 of ltcbtc\n"
     ]
    },
    {
     "data": {
      "application/vnd.jupyter.widget-view+json": {
       "model_id": "5bc4390314ad4697917e18ccc23e751c",
       "version_major": 2,
       "version_minor": 0
      },
      "text/plain": [
       "  0%|          | 0/999 [00:00<?, ?it/s]"
      ]
     },
     "metadata": {},
     "output_type": "display_data"
    },
    {
     "name": "stdout",
     "output_type": "stream",
     "text": [
      "https://www.bitstamp.net/api/v2/ohlc/btcusd/?&currency_pair=btcusd&step=300&limit=1000&start=1548979200\n",
      "Downloaded from 2019-02-01 00:00:00 to 2019-02-04 11:15:00 3404.48\n",
      "Resample 5Min - TecAn ( windows 20, windows_limit 100 )\n",
      "Processing 999 of btcusd\n"
     ]
    },
    {
     "data": {
      "application/vnd.jupyter.widget-view+json": {
       "model_id": "5f5a294c9cbe49d1893cee8a9c1529d8",
       "version_major": 2,
       "version_minor": 0
      },
      "text/plain": [
       "  0%|          | 0/999 [00:00<?, ?it/s]"
      ]
     },
     "metadata": {},
     "output_type": "display_data"
    },
    {
     "name": "stdout",
     "output_type": "stream",
     "text": [
      "https://www.bitstamp.net/api/v2/ohlc/ethusd/?&currency_pair=ethusd&step=300&limit=1000&start=1548979200\n",
      "Downloaded from 2019-02-01 00:00:00 to 2019-02-04 11:15:00 105.66\n",
      "Resample 5Min - TecAn ( windows 20, windows_limit 100 )\n",
      "Processing 999 of ethusd\n"
     ]
    },
    {
     "data": {
      "application/vnd.jupyter.widget-view+json": {
       "model_id": "fece3274edcc4484a3aa4a17806a7001",
       "version_major": 2,
       "version_minor": 0
      },
      "text/plain": [
       "  0%|          | 0/999 [00:00<?, ?it/s]"
      ]
     },
     "metadata": {},
     "output_type": "display_data"
    },
    {
     "name": "stdout",
     "output_type": "stream",
     "text": [
      "https://www.bitstamp.net/api/v2/ohlc/ltcusd/?&currency_pair=ltcusd&step=300&limit=1000&start=1548979200\n",
      "Downloaded from 2019-02-01 00:00:00 to 2019-02-04 11:15:00 33.28\n",
      "Resample 5Min - TecAn ( windows 20, windows_limit 100 )\n",
      "Processing 999 of ltcusd\n"
     ]
    },
    {
     "data": {
      "application/vnd.jupyter.widget-view+json": {
       "model_id": "043a67d851554bfe8ec6b16f021bb8b4",
       "version_major": 2,
       "version_minor": 0
      },
      "text/plain": [
       "  0%|          | 0/999 [00:00<?, ?it/s]"
      ]
     },
     "metadata": {},
     "output_type": "display_data"
    },
    {
     "name": "stdout",
     "output_type": "stream",
     "text": [
      "https://www.bitstamp.net/api/v2/ohlc/ltcbtc/?&currency_pair=ltcbtc&step=300&limit=1000&start=1548979200\n",
      "Downloaded from 2019-02-01 00:00:00 to 2019-02-04 11:15:00 0.00976025\n",
      "Resample 5Min - TecAn ( windows 20, windows_limit 100 )\n",
      "Processing 999 of ltcbtc\n"
     ]
    },
    {
     "data": {
      "application/vnd.jupyter.widget-view+json": {
       "model_id": "acb970ab89364f38baadba26b6020558",
       "version_major": 2,
       "version_minor": 0
      },
      "text/plain": [
       "  0%|          | 0/999 [00:00<?, ?it/s]"
      ]
     },
     "metadata": {},
     "output_type": "display_data"
    },
    {
     "name": "stdout",
     "output_type": "stream",
     "text": [
      "https://www.bitstamp.net/api/v2/ohlc/btcusd/?&currency_pair=btcusd&step=300&limit=1000&start=1580515200\n",
      "Downloaded from 2020-02-01 00:00:00 to 2020-02-04 11:15:00 9163.36\n",
      "Resample 5Min - TecAn ( windows 20, windows_limit 100 )\n",
      "Processing 999 of btcusd\n"
     ]
    },
    {
     "data": {
      "application/vnd.jupyter.widget-view+json": {
       "model_id": "eb9fbb812f614e99ae0cb5be659df8ef",
       "version_major": 2,
       "version_minor": 0
      },
      "text/plain": [
       "  0%|          | 0/999 [00:00<?, ?it/s]"
      ]
     },
     "metadata": {},
     "output_type": "display_data"
    },
    {
     "name": "stdout",
     "output_type": "stream",
     "text": [
      "https://www.bitstamp.net/api/v2/ohlc/ethusd/?&currency_pair=ethusd&step=300&limit=1000&start=1580515200\n",
      "Downloaded from 2020-02-01 00:00:00 to 2020-02-04 11:15:00 185.75\n",
      "Resample 5Min - TecAn ( windows 20, windows_limit 100 )\n",
      "Processing 999 of ethusd\n"
     ]
    },
    {
     "data": {
      "application/vnd.jupyter.widget-view+json": {
       "model_id": "957532781c39478c8ee6bf9d03775bc0",
       "version_major": 2,
       "version_minor": 0
      },
      "text/plain": [
       "  0%|          | 0/999 [00:00<?, ?it/s]"
      ]
     },
     "metadata": {},
     "output_type": "display_data"
    },
    {
     "name": "stdout",
     "output_type": "stream",
     "text": [
      "https://www.bitstamp.net/api/v2/ohlc/ltcusd/?&currency_pair=ltcusd&step=300&limit=1000&start=1580515200\n",
      "Downloaded from 2020-02-01 00:00:00 to 2020-02-04 11:15:00 67.19\n",
      "Resample 5Min - TecAn ( windows 20, windows_limit 100 )\n",
      "Processing 999 of ltcusd\n"
     ]
    },
    {
     "data": {
      "application/vnd.jupyter.widget-view+json": {
       "model_id": "d023e5a77bc74eb6b99916dae0deb74c",
       "version_major": 2,
       "version_minor": 0
      },
      "text/plain": [
       "  0%|          | 0/999 [00:00<?, ?it/s]"
      ]
     },
     "metadata": {},
     "output_type": "display_data"
    },
    {
     "name": "stdout",
     "output_type": "stream",
     "text": [
      "https://www.bitstamp.net/api/v2/ohlc/ltcbtc/?&currency_pair=ltcbtc&step=300&limit=1000&start=1580515200\n",
      "Downloaded from 2020-02-01 00:00:00 to 2020-02-04 11:15:00 0.00734000\n",
      "Resample 5Min - TecAn ( windows 20, windows_limit 100 )\n",
      "Processing 999 of ltcbtc\n"
     ]
    },
    {
     "data": {
      "application/vnd.jupyter.widget-view+json": {
       "model_id": "5cddae48752d415d99ced5bf9020b5e3",
       "version_major": 2,
       "version_minor": 0
      },
      "text/plain": [
       "  0%|          | 0/999 [00:00<?, ?it/s]"
      ]
     },
     "metadata": {},
     "output_type": "display_data"
    },
    {
     "name": "stdout",
     "output_type": "stream",
     "text": [
      "https://www.bitstamp.net/api/v2/ohlc/btcusd/?&currency_pair=btcusd&step=300&limit=1000&start=1612137600\n",
      "Downloaded from 2021-02-01 00:00:00 to 2021-02-04 11:15:00 37713.31\n",
      "Resample 5Min - TecAn ( windows 20, windows_limit 100 )\n",
      "Processing 999 of btcusd\n"
     ]
    },
    {
     "data": {
      "application/vnd.jupyter.widget-view+json": {
       "model_id": "ae3eb135eb0d488eb04664c8f41f906a",
       "version_major": 2,
       "version_minor": 0
      },
      "text/plain": [
       "  0%|          | 0/999 [00:00<?, ?it/s]"
      ]
     },
     "metadata": {},
     "output_type": "display_data"
    },
    {
     "name": "stdout",
     "output_type": "stream",
     "text": [
      "https://www.bitstamp.net/api/v2/ohlc/ethusd/?&currency_pair=ethusd&step=300&limit=1000&start=1612137600\n",
      "Downloaded from 2021-02-01 00:00:00 to 2021-02-04 11:15:00 1633.70\n",
      "Resample 5Min - TecAn ( windows 20, windows_limit 100 )\n",
      "Processing 999 of ethusd\n"
     ]
    },
    {
     "data": {
      "application/vnd.jupyter.widget-view+json": {
       "model_id": "51a04435cf2048cfb99b3808f89d75cd",
       "version_major": 2,
       "version_minor": 0
      },
      "text/plain": [
       "  0%|          | 0/999 [00:00<?, ?it/s]"
      ]
     },
     "metadata": {},
     "output_type": "display_data"
    },
    {
     "name": "stdout",
     "output_type": "stream",
     "text": [
      "https://www.bitstamp.net/api/v2/ohlc/ltcusd/?&currency_pair=ltcusd&step=300&limit=1000&start=1612137600\n",
      "Downloaded from 2021-02-01 00:00:00 to 2021-02-04 11:15:00 148.10\n",
      "Resample 5Min - TecAn ( windows 20, windows_limit 100 )\n",
      "Processing 999 of ltcusd\n"
     ]
    },
    {
     "data": {
      "application/vnd.jupyter.widget-view+json": {
       "model_id": "a059f4b8363f40efa4f00190bf6ed4b6",
       "version_major": 2,
       "version_minor": 0
      },
      "text/plain": [
       "  0%|          | 0/999 [00:00<?, ?it/s]"
      ]
     },
     "metadata": {},
     "output_type": "display_data"
    },
    {
     "name": "stdout",
     "output_type": "stream",
     "text": [
      "https://www.bitstamp.net/api/v2/ohlc/ltcbtc/?&currency_pair=ltcbtc&step=300&limit=1000&start=1612137600\n",
      "Downloaded from 2021-02-01 00:00:00 to 2021-02-04 11:15:00 0.00392037\n",
      "Resample 5Min - TecAn ( windows 20, windows_limit 100 )\n",
      "Processing 999 of ltcbtc\n"
     ]
    },
    {
     "data": {
      "application/vnd.jupyter.widget-view+json": {
       "model_id": "c9bfcc2a9ab74030ba418d95511cee9f",
       "version_major": 2,
       "version_minor": 0
      },
      "text/plain": [
       "  0%|          | 0/999 [00:00<?, ?it/s]"
      ]
     },
     "metadata": {},
     "output_type": "display_data"
    },
    {
     "name": "stdout",
     "output_type": "stream",
     "text": [
      "https://www.bitstamp.net/api/v2/ohlc/btcusd/?&currency_pair=btcusd&step=300&limit=1000&start=1623711600\n",
      "https://www.bitstamp.net/api/v2/ohlc/btcusd/?&currency_pair=btcusd&step=300&limit=1000&start=1624011300\n",
      "https://www.bitstamp.net/api/v2/ohlc/btcusd/?&currency_pair=btcusd&step=300&limit=1000&start=1624311000\n",
      "https://www.bitstamp.net/api/v2/ohlc/btcusd/?&currency_pair=btcusd&step=300&limit=1000&start=1624610700\n",
      "https://www.bitstamp.net/api/v2/ohlc/btcusd/?&currency_pair=btcusd&step=300&limit=1000&start=1624910400\n",
      "https://www.bitstamp.net/api/v2/ohlc/btcusd/?&currency_pair=btcusd&step=300&limit=1000&start=1625210100\n",
      "https://www.bitstamp.net/api/v2/ohlc/btcusd/?&currency_pair=btcusd&step=300&limit=1000&start=1625509800\n",
      "https://www.bitstamp.net/api/v2/ohlc/btcusd/?&currency_pair=btcusd&step=300&limit=1000&start=1625809500\n",
      "https://www.bitstamp.net/api/v2/ohlc/btcusd/?&currency_pair=btcusd&step=300&limit=1000&start=1626109200\n",
      "Downloaded from 2021-06-15 00:00:00 to 2021-07-15 00:05:00 32946.30\n",
      "Resample 5Min - TecAn ( windows 20, windows_limit 100 )\n",
      "Processing 8649 of btcusd\n"
     ]
    },
    {
     "data": {
      "application/vnd.jupyter.widget-view+json": {
       "model_id": "087ddf325a2c4d1e9839eaf33805326e",
       "version_major": 2,
       "version_minor": 0
      },
      "text/plain": [
       "  0%|          | 0/8649 [00:00<?, ?it/s]"
      ]
     },
     "metadata": {},
     "output_type": "display_data"
    },
    {
     "name": "stdout",
     "output_type": "stream",
     "text": [
      "https://www.bitstamp.net/api/v2/ohlc/ethusd/?&currency_pair=ethusd&step=300&limit=1000&start=1623711600\n",
      "https://www.bitstamp.net/api/v2/ohlc/ethusd/?&currency_pair=ethusd&step=300&limit=1000&start=1624011300\n",
      "https://www.bitstamp.net/api/v2/ohlc/ethusd/?&currency_pair=ethusd&step=300&limit=1000&start=1624311000\n",
      "https://www.bitstamp.net/api/v2/ohlc/ethusd/?&currency_pair=ethusd&step=300&limit=1000&start=1624610700\n",
      "https://www.bitstamp.net/api/v2/ohlc/ethusd/?&currency_pair=ethusd&step=300&limit=1000&start=1624910400\n",
      "https://www.bitstamp.net/api/v2/ohlc/ethusd/?&currency_pair=ethusd&step=300&limit=1000&start=1625210100\n",
      "https://www.bitstamp.net/api/v2/ohlc/ethusd/?&currency_pair=ethusd&step=300&limit=1000&start=1625509800\n",
      "https://www.bitstamp.net/api/v2/ohlc/ethusd/?&currency_pair=ethusd&step=300&limit=1000&start=1625809500\n",
      "https://www.bitstamp.net/api/v2/ohlc/ethusd/?&currency_pair=ethusd&step=300&limit=1000&start=1626109200\n",
      "Downloaded from 2021-06-15 00:00:00 to 2021-07-15 00:05:00 2000.79\n",
      "Resample 5Min - TecAn ( windows 20, windows_limit 100 )\n",
      "Processing 8649 of ethusd\n"
     ]
    },
    {
     "data": {
      "application/vnd.jupyter.widget-view+json": {
       "model_id": "972af16de8d54f609e72d4af6706aeaf",
       "version_major": 2,
       "version_minor": 0
      },
      "text/plain": [
       "  0%|          | 0/8649 [00:00<?, ?it/s]"
      ]
     },
     "metadata": {},
     "output_type": "display_data"
    },
    {
     "name": "stdout",
     "output_type": "stream",
     "text": [
      "https://www.bitstamp.net/api/v2/ohlc/ltcusd/?&currency_pair=ltcusd&step=300&limit=1000&start=1623711600\n",
      "https://www.bitstamp.net/api/v2/ohlc/ltcusd/?&currency_pair=ltcusd&step=300&limit=1000&start=1624011300\n",
      "https://www.bitstamp.net/api/v2/ohlc/ltcusd/?&currency_pair=ltcusd&step=300&limit=1000&start=1624311000\n",
      "https://www.bitstamp.net/api/v2/ohlc/ltcusd/?&currency_pair=ltcusd&step=300&limit=1000&start=1624610700\n",
      "https://www.bitstamp.net/api/v2/ohlc/ltcusd/?&currency_pair=ltcusd&step=300&limit=1000&start=1624910400\n",
      "https://www.bitstamp.net/api/v2/ohlc/ltcusd/?&currency_pair=ltcusd&step=300&limit=1000&start=1625210100\n",
      "https://www.bitstamp.net/api/v2/ohlc/ltcusd/?&currency_pair=ltcusd&step=300&limit=1000&start=1625509800\n",
      "https://www.bitstamp.net/api/v2/ohlc/ltcusd/?&currency_pair=ltcusd&step=300&limit=1000&start=1625809500\n",
      "https://www.bitstamp.net/api/v2/ohlc/ltcusd/?&currency_pair=ltcusd&step=300&limit=1000&start=1626109200\n",
      "Downloaded from 2021-06-15 00:00:00 to 2021-07-15 00:05:00 131.27\n",
      "Resample 5Min - TecAn ( windows 20, windows_limit 100 )\n",
      "Processing 8649 of ltcusd\n"
     ]
    },
    {
     "data": {
      "application/vnd.jupyter.widget-view+json": {
       "model_id": "9e9e2468fbd841ff83f3bdd4f9b1b829",
       "version_major": 2,
       "version_minor": 0
      },
      "text/plain": [
       "  0%|          | 0/8649 [00:00<?, ?it/s]"
      ]
     },
     "metadata": {},
     "output_type": "display_data"
    },
    {
     "name": "stdout",
     "output_type": "stream",
     "text": [
      "https://www.bitstamp.net/api/v2/ohlc/ltcbtc/?&currency_pair=ltcbtc&step=300&limit=1000&start=1623711600\n",
      "https://www.bitstamp.net/api/v2/ohlc/ltcbtc/?&currency_pair=ltcbtc&step=300&limit=1000&start=1624011300\n",
      "https://www.bitstamp.net/api/v2/ohlc/ltcbtc/?&currency_pair=ltcbtc&step=300&limit=1000&start=1624311000\n",
      "https://www.bitstamp.net/api/v2/ohlc/ltcbtc/?&currency_pair=ltcbtc&step=300&limit=1000&start=1624610700\n",
      "https://www.bitstamp.net/api/v2/ohlc/ltcbtc/?&currency_pair=ltcbtc&step=300&limit=1000&start=1624910400\n",
      "https://www.bitstamp.net/api/v2/ohlc/ltcbtc/?&currency_pair=ltcbtc&step=300&limit=1000&start=1625210100\n",
      "https://www.bitstamp.net/api/v2/ohlc/ltcbtc/?&currency_pair=ltcbtc&step=300&limit=1000&start=1625509800\n",
      "https://www.bitstamp.net/api/v2/ohlc/ltcbtc/?&currency_pair=ltcbtc&step=300&limit=1000&start=1625809500\n",
      "https://www.bitstamp.net/api/v2/ohlc/ltcbtc/?&currency_pair=ltcbtc&step=300&limit=1000&start=1626109200\n",
      "Downloaded from 2021-06-15 00:00:00 to 2021-07-15 00:05:00 0.00398347\n",
      "Resample 5Min - TecAn ( windows 20, windows_limit 100 )\n",
      "Processing 8649 of ltcbtc\n"
     ]
    },
    {
     "data": {
      "application/vnd.jupyter.widget-view+json": {
       "model_id": "5cf797b8734c43c3a4c721f131d2e3ef",
       "version_major": 2,
       "version_minor": 0
      },
      "text/plain": [
       "  0%|          | 0/8649 [00:00<?, ?it/s]"
      ]
     },
     "metadata": {},
     "output_type": "display_data"
    },
    {
     "name": "stdout",
     "output_type": "stream",
     "text": [
      "https://www.bitstamp.net/api/v2/ohlc/btcusd/?&currency_pair=btcusd&step=300&limit=1000&start=1622502000\n",
      "Downloaded from 2021-06-01 00:00:00 to 2021-06-04 11:15:00 36979.84\n",
      "Resample 5Min - TecAn ( windows 30, windows_limit 100 )\n",
      "Processing 999 of btcusd\n"
     ]
    },
    {
     "data": {
      "application/vnd.jupyter.widget-view+json": {
       "model_id": "d6107d63dd4a479aaf7809be74c7cd7e",
       "version_major": 2,
       "version_minor": 0
      },
      "text/plain": [
       "  0%|          | 0/999 [00:00<?, ?it/s]"
      ]
     },
     "metadata": {},
     "output_type": "display_data"
    },
    {
     "name": "stdout",
     "output_type": "stream",
     "text": [
      "https://www.bitstamp.net/api/v2/ohlc/ethusd/?&currency_pair=ethusd&step=300&limit=1000&start=1622502000\n",
      "Downloaded from 2021-06-01 00:00:00 to 2021-06-04 11:15:00 2662.21\n",
      "Resample 5Min - TecAn ( windows 30, windows_limit 100 )\n",
      "Processing 999 of ethusd\n"
     ]
    },
    {
     "data": {
      "application/vnd.jupyter.widget-view+json": {
       "model_id": "fa95838605b449c58f5cb3511397ab77",
       "version_major": 2,
       "version_minor": 0
      },
      "text/plain": [
       "  0%|          | 0/999 [00:00<?, ?it/s]"
      ]
     },
     "metadata": {},
     "output_type": "display_data"
    },
    {
     "name": "stdout",
     "output_type": "stream",
     "text": [
      "https://www.bitstamp.net/api/v2/ohlc/ltcusd/?&currency_pair=ltcusd&step=300&limit=1000&start=1622502000\n",
      "Downloaded from 2021-06-01 00:00:00 to 2021-06-04 11:15:00 177.09\n",
      "Resample 5Min - TecAn ( windows 30, windows_limit 100 )\n",
      "Processing 999 of ltcusd\n"
     ]
    },
    {
     "data": {
      "application/vnd.jupyter.widget-view+json": {
       "model_id": "27e1b84ef4bc46109efc57bc8e850b02",
       "version_major": 2,
       "version_minor": 0
      },
      "text/plain": [
       "  0%|          | 0/999 [00:00<?, ?it/s]"
      ]
     },
     "metadata": {},
     "output_type": "display_data"
    },
    {
     "name": "stdout",
     "output_type": "stream",
     "text": [
      "https://www.bitstamp.net/api/v2/ohlc/ltcbtc/?&currency_pair=ltcbtc&step=300&limit=1000&start=1622502000\n",
      "Downloaded from 2021-06-01 00:00:00 to 2021-06-04 11:15:00 0.00478308\n",
      "Resample 5Min - TecAn ( windows 30, windows_limit 100 )\n",
      "Processing 999 of ltcbtc\n"
     ]
    },
    {
     "data": {
      "application/vnd.jupyter.widget-view+json": {
       "model_id": "369cd8962bd94ba1a3b3f0012136e7fd",
       "version_major": 2,
       "version_minor": 0
      },
      "text/plain": [
       "  0%|          | 0/999 [00:00<?, ?it/s]"
      ]
     },
     "metadata": {},
     "output_type": "display_data"
    },
    {
     "name": "stdout",
     "output_type": "stream",
     "text": [
      "https://www.bitstamp.net/api/v2/ohlc/btcusd/?&currency_pair=btcusd&step=300&limit=1000&start=1590966000\n",
      "Downloaded from 2020-06-01 00:00:00 to 2020-06-04 11:15:00 9520.48\n",
      "Resample 5Min - TecAn ( windows 30, windows_limit 100 )\n",
      "Processing 999 of btcusd\n"
     ]
    },
    {
     "data": {
      "application/vnd.jupyter.widget-view+json": {
       "model_id": "337e86c6426e4ed29682b7f100416bf3",
       "version_major": 2,
       "version_minor": 0
      },
      "text/plain": [
       "  0%|          | 0/999 [00:00<?, ?it/s]"
      ]
     },
     "metadata": {},
     "output_type": "display_data"
    },
    {
     "name": "stdout",
     "output_type": "stream",
     "text": [
      "https://www.bitstamp.net/api/v2/ohlc/ethusd/?&currency_pair=ethusd&step=300&limit=1000&start=1590966000\n",
      "Downloaded from 2020-06-01 00:00:00 to 2020-06-04 11:15:00 239.28\n",
      "Resample 5Min - TecAn ( windows 30, windows_limit 100 )\n",
      "Processing 999 of ethusd\n"
     ]
    },
    {
     "data": {
      "application/vnd.jupyter.widget-view+json": {
       "model_id": "80a1602e567f49cabca2ed858c95ffd9",
       "version_major": 2,
       "version_minor": 0
      },
      "text/plain": [
       "  0%|          | 0/999 [00:00<?, ?it/s]"
      ]
     },
     "metadata": {},
     "output_type": "display_data"
    },
    {
     "name": "stdout",
     "output_type": "stream",
     "text": [
      "https://www.bitstamp.net/api/v2/ohlc/ltcusd/?&currency_pair=ltcusd&step=300&limit=1000&start=1590966000\n",
      "Downloaded from 2020-06-01 00:00:00 to 2020-06-04 11:15:00 46.81\n",
      "Resample 5Min - TecAn ( windows 30, windows_limit 100 )\n",
      "Processing 999 of ltcusd\n"
     ]
    },
    {
     "data": {
      "application/vnd.jupyter.widget-view+json": {
       "model_id": "6e91e53e0f254a9cb6d4cea29915e89e",
       "version_major": 2,
       "version_minor": 0
      },
      "text/plain": [
       "  0%|          | 0/999 [00:00<?, ?it/s]"
      ]
     },
     "metadata": {},
     "output_type": "display_data"
    },
    {
     "name": "stdout",
     "output_type": "stream",
     "text": [
      "https://www.bitstamp.net/api/v2/ohlc/ltcbtc/?&currency_pair=ltcbtc&step=300&limit=1000&start=1590966000\n",
      "Downloaded from 2020-06-01 00:00:00 to 2020-06-04 11:15:00 0.00493915\n",
      "Resample 5Min - TecAn ( windows 30, windows_limit 100 )\n",
      "Processing 999 of ltcbtc\n"
     ]
    },
    {
     "data": {
      "application/vnd.jupyter.widget-view+json": {
       "model_id": "41a207e64fc34cb19600edb0287a341c",
       "version_major": 2,
       "version_minor": 0
      },
      "text/plain": [
       "  0%|          | 0/999 [00:00<?, ?it/s]"
      ]
     },
     "metadata": {},
     "output_type": "display_data"
    },
    {
     "name": "stdout",
     "output_type": "stream",
     "text": [
      "https://www.bitstamp.net/api/v2/ohlc/btcusd/?&currency_pair=btcusd&step=300&limit=1000&start=1559343600\n",
      "Downloaded from 2019-06-01 00:00:00 to 2019-06-04 11:15:00 7963.92\n",
      "Resample 5Min - TecAn ( windows 30, windows_limit 100 )\n",
      "Processing 999 of btcusd\n"
     ]
    },
    {
     "data": {
      "application/vnd.jupyter.widget-view+json": {
       "model_id": "50b4a8eb6be34ef0a4a73445f79ff8d5",
       "version_major": 2,
       "version_minor": 0
      },
      "text/plain": [
       "  0%|          | 0/999 [00:00<?, ?it/s]"
      ]
     },
     "metadata": {},
     "output_type": "display_data"
    },
    {
     "name": "stdout",
     "output_type": "stream",
     "text": [
      "https://www.bitstamp.net/api/v2/ohlc/ethusd/?&currency_pair=ethusd&step=300&limit=1000&start=1559343600\n",
      "Downloaded from 2019-06-01 00:00:00 to 2019-06-04 11:15:00 247.42\n",
      "Resample 5Min - TecAn ( windows 30, windows_limit 100 )\n",
      "Processing 999 of ethusd\n"
     ]
    },
    {
     "data": {
      "application/vnd.jupyter.widget-view+json": {
       "model_id": "f669546e09404ad88eaf2a709a9bcc58",
       "version_major": 2,
       "version_minor": 0
      },
      "text/plain": [
       "  0%|          | 0/999 [00:00<?, ?it/s]"
      ]
     },
     "metadata": {},
     "output_type": "display_data"
    },
    {
     "name": "stdout",
     "output_type": "stream",
     "text": [
      "https://www.bitstamp.net/api/v2/ohlc/ltcusd/?&currency_pair=ltcusd&step=300&limit=1000&start=1559343600\n",
      "Downloaded from 2019-06-01 00:00:00 to 2019-06-04 11:15:00 105.11\n",
      "Resample 5Min - TecAn ( windows 30, windows_limit 100 )\n",
      "Processing 999 of ltcusd\n"
     ]
    },
    {
     "data": {
      "application/vnd.jupyter.widget-view+json": {
       "model_id": "3ded6da9e920488b958f9d687511f45d",
       "version_major": 2,
       "version_minor": 0
      },
      "text/plain": [
       "  0%|          | 0/999 [00:00<?, ?it/s]"
      ]
     },
     "metadata": {},
     "output_type": "display_data"
    },
    {
     "name": "stdout",
     "output_type": "stream",
     "text": [
      "https://www.bitstamp.net/api/v2/ohlc/ltcbtc/?&currency_pair=ltcbtc&step=300&limit=1000&start=1559343600\n",
      "Downloaded from 2019-06-01 00:00:00 to 2019-06-04 11:15:00 0.01321994\n",
      "Resample 5Min - TecAn ( windows 30, windows_limit 100 )\n",
      "Processing 999 of ltcbtc\n"
     ]
    },
    {
     "data": {
      "application/vnd.jupyter.widget-view+json": {
       "model_id": "1701b2929b344890b31ea5c6f10dacb7",
       "version_major": 2,
       "version_minor": 0
      },
      "text/plain": [
       "  0%|          | 0/999 [00:00<?, ?it/s]"
      ]
     },
     "metadata": {},
     "output_type": "display_data"
    },
    {
     "name": "stdout",
     "output_type": "stream",
     "text": [
      "https://www.bitstamp.net/api/v2/ohlc/btcusd/?&currency_pair=btcusd&step=300&limit=1000&start=1527807600\n",
      "Downloaded from 2018-06-01 00:00:00 to 2018-06-04 11:15:00 7603.79\n",
      "Resample 5Min - TecAn ( windows 30, windows_limit 100 )\n",
      "Processing 999 of btcusd\n"
     ]
    },
    {
     "data": {
      "application/vnd.jupyter.widget-view+json": {
       "model_id": "2cdd0e9119c34c1c90d63bf084f99e28",
       "version_major": 2,
       "version_minor": 0
      },
      "text/plain": [
       "  0%|          | 0/999 [00:00<?, ?it/s]"
      ]
     },
     "metadata": {},
     "output_type": "display_data"
    },
    {
     "name": "stdout",
     "output_type": "stream",
     "text": [
      "https://www.bitstamp.net/api/v2/ohlc/ethusd/?&currency_pair=ethusd&step=300&limit=1000&start=1527807600\n",
      "Downloaded from 2018-06-01 00:00:00 to 2018-06-04 11:15:00 605.42\n",
      "Resample 5Min - TecAn ( windows 30, windows_limit 100 )\n",
      "Processing 999 of ethusd\n"
     ]
    },
    {
     "data": {
      "application/vnd.jupyter.widget-view+json": {
       "model_id": "48902b16630644e7b52915df9cc70386",
       "version_major": 2,
       "version_minor": 0
      },
      "text/plain": [
       "  0%|          | 0/999 [00:00<?, ?it/s]"
      ]
     },
     "metadata": {},
     "output_type": "display_data"
    },
    {
     "name": "stdout",
     "output_type": "stream",
     "text": [
      "https://www.bitstamp.net/api/v2/ohlc/ltcusd/?&currency_pair=ltcusd&step=300&limit=1000&start=1527807600\n",
      "Downloaded from 2018-06-01 00:00:00 to 2018-06-04 11:15:00 122.36\n",
      "Resample 5Min - TecAn ( windows 30, windows_limit 100 )\n",
      "Processing 999 of ltcusd\n"
     ]
    },
    {
     "data": {
      "application/vnd.jupyter.widget-view+json": {
       "model_id": "fc0ae447057d481a950b2b7d6700a0a1",
       "version_major": 2,
       "version_minor": 0
      },
      "text/plain": [
       "  0%|          | 0/999 [00:00<?, ?it/s]"
      ]
     },
     "metadata": {},
     "output_type": "display_data"
    },
    {
     "name": "stdout",
     "output_type": "stream",
     "text": [
      "https://www.bitstamp.net/api/v2/ohlc/ltcbtc/?&currency_pair=ltcbtc&step=300&limit=1000&start=1527807600\n",
      "Downloaded from 2018-06-01 00:00:00 to 2018-06-04 11:15:00 0.01605500\n",
      "Resample 5Min - TecAn ( windows 30, windows_limit 100 )\n",
      "Processing 999 of ltcbtc\n"
     ]
    },
    {
     "data": {
      "application/vnd.jupyter.widget-view+json": {
       "model_id": "929aee7d5d2140d1934d7c8bcb3f64db",
       "version_major": 2,
       "version_minor": 0
      },
      "text/plain": [
       "  0%|          | 0/999 [00:00<?, ?it/s]"
      ]
     },
     "metadata": {},
     "output_type": "display_data"
    },
    {
     "name": "stdout",
     "output_type": "stream",
     "text": [
      "https://www.bitstamp.net/api/v2/ohlc/btcusd/?&currency_pair=btcusd&step=300&limit=1000&start=1517443200\n",
      "Downloaded from 2018-02-01 00:00:00 to 2018-02-04 11:15:00 8898.23\n",
      "Resample 5Min - TecAn ( windows 30, windows_limit 100 )\n",
      "Processing 999 of btcusd\n"
     ]
    },
    {
     "data": {
      "application/vnd.jupyter.widget-view+json": {
       "model_id": "0f2cc5c235864841a857841e94e3c3a0",
       "version_major": 2,
       "version_minor": 0
      },
      "text/plain": [
       "  0%|          | 0/999 [00:00<?, ?it/s]"
      ]
     },
     "metadata": {},
     "output_type": "display_data"
    },
    {
     "name": "stdout",
     "output_type": "stream",
     "text": [
      "https://www.bitstamp.net/api/v2/ohlc/ethusd/?&currency_pair=ethusd&step=300&limit=1000&start=1517443200\n",
      "Downloaded from 2018-02-01 00:00:00 to 2018-02-04 11:15:00 911.19\n",
      "Resample 5Min - TecAn ( windows 30, windows_limit 100 )\n",
      "Processing 999 of ethusd\n"
     ]
    },
    {
     "data": {
      "application/vnd.jupyter.widget-view+json": {
       "model_id": "0229cc84386b45d1bf0ae10165a30a78",
       "version_major": 2,
       "version_minor": 0
      },
      "text/plain": [
       "  0%|          | 0/999 [00:00<?, ?it/s]"
      ]
     },
     "metadata": {},
     "output_type": "display_data"
    },
    {
     "name": "stdout",
     "output_type": "stream",
     "text": [
      "https://www.bitstamp.net/api/v2/ohlc/ltcusd/?&currency_pair=ltcusd&step=300&limit=1000&start=1517443200\n",
      "Downloaded from 2018-02-01 00:00:00 to 2018-02-04 11:15:00 160.78\n",
      "Resample 5Min - TecAn ( windows 30, windows_limit 100 )\n",
      "Processing 999 of ltcusd\n"
     ]
    },
    {
     "data": {
      "application/vnd.jupyter.widget-view+json": {
       "model_id": "990fe32d13934c7b828085a78f2a1fe6",
       "version_major": 2,
       "version_minor": 0
      },
      "text/plain": [
       "  0%|          | 0/999 [00:00<?, ?it/s]"
      ]
     },
     "metadata": {},
     "output_type": "display_data"
    },
    {
     "name": "stdout",
     "output_type": "stream",
     "text": [
      "https://www.bitstamp.net/api/v2/ohlc/ltcbtc/?&currency_pair=ltcbtc&step=300&limit=1000&start=1517443200\n",
      "Downloaded from 2018-02-01 00:00:00 to 2018-02-04 11:15:00 0.01802000\n",
      "Resample 5Min - TecAn ( windows 30, windows_limit 100 )\n",
      "Processing 999 of ltcbtc\n"
     ]
    },
    {
     "data": {
      "application/vnd.jupyter.widget-view+json": {
       "model_id": "c14c643b612e4b78a8db061c27afaf94",
       "version_major": 2,
       "version_minor": 0
      },
      "text/plain": [
       "  0%|          | 0/999 [00:00<?, ?it/s]"
      ]
     },
     "metadata": {},
     "output_type": "display_data"
    },
    {
     "name": "stdout",
     "output_type": "stream",
     "text": [
      "https://www.bitstamp.net/api/v2/ohlc/btcusd/?&currency_pair=btcusd&step=300&limit=1000&start=1548979200\n",
      "Downloaded from 2019-02-01 00:00:00 to 2019-02-04 11:15:00 3404.48\n",
      "Resample 5Min - TecAn ( windows 30, windows_limit 100 )\n",
      "Processing 999 of btcusd\n"
     ]
    },
    {
     "data": {
      "application/vnd.jupyter.widget-view+json": {
       "model_id": "c4a12b331f7c4e4fb467aadba785d4cd",
       "version_major": 2,
       "version_minor": 0
      },
      "text/plain": [
       "  0%|          | 0/999 [00:00<?, ?it/s]"
      ]
     },
     "metadata": {},
     "output_type": "display_data"
    },
    {
     "name": "stdout",
     "output_type": "stream",
     "text": [
      "https://www.bitstamp.net/api/v2/ohlc/ethusd/?&currency_pair=ethusd&step=300&limit=1000&start=1548979200\n",
      "Downloaded from 2019-02-01 00:00:00 to 2019-02-04 11:15:00 105.66\n",
      "Resample 5Min - TecAn ( windows 30, windows_limit 100 )\n",
      "Processing 999 of ethusd\n"
     ]
    },
    {
     "data": {
      "application/vnd.jupyter.widget-view+json": {
       "model_id": "cf186bfe612545e596649a647222ecbc",
       "version_major": 2,
       "version_minor": 0
      },
      "text/plain": [
       "  0%|          | 0/999 [00:00<?, ?it/s]"
      ]
     },
     "metadata": {},
     "output_type": "display_data"
    },
    {
     "name": "stdout",
     "output_type": "stream",
     "text": [
      "https://www.bitstamp.net/api/v2/ohlc/ltcusd/?&currency_pair=ltcusd&step=300&limit=1000&start=1548979200\n",
      "Downloaded from 2019-02-01 00:00:00 to 2019-02-04 11:15:00 33.28\n",
      "Resample 5Min - TecAn ( windows 30, windows_limit 100 )\n",
      "Processing 999 of ltcusd\n"
     ]
    },
    {
     "data": {
      "application/vnd.jupyter.widget-view+json": {
       "model_id": "bca90a06457242deaf3807df4377cc7f",
       "version_major": 2,
       "version_minor": 0
      },
      "text/plain": [
       "  0%|          | 0/999 [00:00<?, ?it/s]"
      ]
     },
     "metadata": {},
     "output_type": "display_data"
    },
    {
     "name": "stdout",
     "output_type": "stream",
     "text": [
      "https://www.bitstamp.net/api/v2/ohlc/ltcbtc/?&currency_pair=ltcbtc&step=300&limit=1000&start=1548979200\n",
      "Downloaded from 2019-02-01 00:00:00 to 2019-02-04 11:15:00 0.00976025\n",
      "Resample 5Min - TecAn ( windows 30, windows_limit 100 )\n",
      "Processing 999 of ltcbtc\n"
     ]
    },
    {
     "data": {
      "application/vnd.jupyter.widget-view+json": {
       "model_id": "b378a1c71ea94ce397b64e9dfd0752e9",
       "version_major": 2,
       "version_minor": 0
      },
      "text/plain": [
       "  0%|          | 0/999 [00:00<?, ?it/s]"
      ]
     },
     "metadata": {},
     "output_type": "display_data"
    },
    {
     "name": "stdout",
     "output_type": "stream",
     "text": [
      "https://www.bitstamp.net/api/v2/ohlc/btcusd/?&currency_pair=btcusd&step=300&limit=1000&start=1580515200\n",
      "Downloaded from 2020-02-01 00:00:00 to 2020-02-04 11:15:00 9163.36\n",
      "Resample 5Min - TecAn ( windows 30, windows_limit 100 )\n",
      "Processing 999 of btcusd\n"
     ]
    },
    {
     "data": {
      "application/vnd.jupyter.widget-view+json": {
       "model_id": "bab493c86e1b49cfb37d10c297225168",
       "version_major": 2,
       "version_minor": 0
      },
      "text/plain": [
       "  0%|          | 0/999 [00:00<?, ?it/s]"
      ]
     },
     "metadata": {},
     "output_type": "display_data"
    },
    {
     "name": "stdout",
     "output_type": "stream",
     "text": [
      "https://www.bitstamp.net/api/v2/ohlc/ethusd/?&currency_pair=ethusd&step=300&limit=1000&start=1580515200\n",
      "Downloaded from 2020-02-01 00:00:00 to 2020-02-04 11:15:00 185.75\n",
      "Resample 5Min - TecAn ( windows 30, windows_limit 100 )\n",
      "Processing 999 of ethusd\n"
     ]
    },
    {
     "data": {
      "application/vnd.jupyter.widget-view+json": {
       "model_id": "da86112272b84afe9633fc330a42da21",
       "version_major": 2,
       "version_minor": 0
      },
      "text/plain": [
       "  0%|          | 0/999 [00:00<?, ?it/s]"
      ]
     },
     "metadata": {},
     "output_type": "display_data"
    },
    {
     "name": "stdout",
     "output_type": "stream",
     "text": [
      "https://www.bitstamp.net/api/v2/ohlc/ltcusd/?&currency_pair=ltcusd&step=300&limit=1000&start=1580515200\n",
      "Downloaded from 2020-02-01 00:00:00 to 2020-02-04 11:15:00 67.19\n",
      "Resample 5Min - TecAn ( windows 30, windows_limit 100 )\n",
      "Processing 999 of ltcusd\n"
     ]
    },
    {
     "data": {
      "application/vnd.jupyter.widget-view+json": {
       "model_id": "5bd2f7f02b6f4e9ba82b84ee5c299bbe",
       "version_major": 2,
       "version_minor": 0
      },
      "text/plain": [
       "  0%|          | 0/999 [00:00<?, ?it/s]"
      ]
     },
     "metadata": {},
     "output_type": "display_data"
    },
    {
     "name": "stdout",
     "output_type": "stream",
     "text": [
      "https://www.bitstamp.net/api/v2/ohlc/ltcbtc/?&currency_pair=ltcbtc&step=300&limit=1000&start=1580515200\n",
      "Downloaded from 2020-02-01 00:00:00 to 2020-02-04 11:15:00 0.00734000\n",
      "Resample 5Min - TecAn ( windows 30, windows_limit 100 )\n",
      "Processing 999 of ltcbtc\n"
     ]
    },
    {
     "data": {
      "application/vnd.jupyter.widget-view+json": {
       "model_id": "a071ba729ca6428c86441251943bc2f7",
       "version_major": 2,
       "version_minor": 0
      },
      "text/plain": [
       "  0%|          | 0/999 [00:00<?, ?it/s]"
      ]
     },
     "metadata": {},
     "output_type": "display_data"
    },
    {
     "name": "stdout",
     "output_type": "stream",
     "text": [
      "https://www.bitstamp.net/api/v2/ohlc/btcusd/?&currency_pair=btcusd&step=300&limit=1000&start=1612137600\n",
      "Downloaded from 2021-02-01 00:00:00 to 2021-02-04 11:15:00 37713.31\n",
      "Resample 5Min - TecAn ( windows 30, windows_limit 100 )\n",
      "Processing 999 of btcusd\n"
     ]
    },
    {
     "data": {
      "application/vnd.jupyter.widget-view+json": {
       "model_id": "482a5e6e80a549f58d51ef3a9cb6c213",
       "version_major": 2,
       "version_minor": 0
      },
      "text/plain": [
       "  0%|          | 0/999 [00:00<?, ?it/s]"
      ]
     },
     "metadata": {},
     "output_type": "display_data"
    },
    {
     "name": "stdout",
     "output_type": "stream",
     "text": [
      "https://www.bitstamp.net/api/v2/ohlc/ethusd/?&currency_pair=ethusd&step=300&limit=1000&start=1612137600\n",
      "Downloaded from 2021-02-01 00:00:00 to 2021-02-04 11:15:00 1633.70\n",
      "Resample 5Min - TecAn ( windows 30, windows_limit 100 )\n",
      "Processing 999 of ethusd\n"
     ]
    },
    {
     "data": {
      "application/vnd.jupyter.widget-view+json": {
       "model_id": "f65bd825150847dcbf132bb063e5aa05",
       "version_major": 2,
       "version_minor": 0
      },
      "text/plain": [
       "  0%|          | 0/999 [00:00<?, ?it/s]"
      ]
     },
     "metadata": {},
     "output_type": "display_data"
    },
    {
     "name": "stdout",
     "output_type": "stream",
     "text": [
      "https://www.bitstamp.net/api/v2/ohlc/ltcusd/?&currency_pair=ltcusd&step=300&limit=1000&start=1612137600\n",
      "Downloaded from 2021-02-01 00:00:00 to 2021-02-04 11:15:00 148.10\n",
      "Resample 5Min - TecAn ( windows 30, windows_limit 100 )\n",
      "Processing 999 of ltcusd\n"
     ]
    },
    {
     "data": {
      "application/vnd.jupyter.widget-view+json": {
       "model_id": "924a4fc22381407989963ea98e8feeec",
       "version_major": 2,
       "version_minor": 0
      },
      "text/plain": [
       "  0%|          | 0/999 [00:00<?, ?it/s]"
      ]
     },
     "metadata": {},
     "output_type": "display_data"
    },
    {
     "name": "stdout",
     "output_type": "stream",
     "text": [
      "https://www.bitstamp.net/api/v2/ohlc/ltcbtc/?&currency_pair=ltcbtc&step=300&limit=1000&start=1612137600\n",
      "Downloaded from 2021-02-01 00:00:00 to 2021-02-04 11:15:00 0.00392037\n",
      "Resample 5Min - TecAn ( windows 30, windows_limit 100 )\n",
      "Processing 999 of ltcbtc\n"
     ]
    },
    {
     "data": {
      "application/vnd.jupyter.widget-view+json": {
       "model_id": "edb9ca09d2f14ed3851eb0e1e0f3125a",
       "version_major": 2,
       "version_minor": 0
      },
      "text/plain": [
       "  0%|          | 0/999 [00:00<?, ?it/s]"
      ]
     },
     "metadata": {},
     "output_type": "display_data"
    },
    {
     "name": "stdout",
     "output_type": "stream",
     "text": [
      "https://www.bitstamp.net/api/v2/ohlc/btcusd/?&currency_pair=btcusd&step=300&limit=1000&start=1623711600\n",
      "https://www.bitstamp.net/api/v2/ohlc/btcusd/?&currency_pair=btcusd&step=300&limit=1000&start=1624011300\n",
      "https://www.bitstamp.net/api/v2/ohlc/btcusd/?&currency_pair=btcusd&step=300&limit=1000&start=1624311000\n",
      "https://www.bitstamp.net/api/v2/ohlc/btcusd/?&currency_pair=btcusd&step=300&limit=1000&start=1624610700\n",
      "https://www.bitstamp.net/api/v2/ohlc/btcusd/?&currency_pair=btcusd&step=300&limit=1000&start=1624910400\n",
      "https://www.bitstamp.net/api/v2/ohlc/btcusd/?&currency_pair=btcusd&step=300&limit=1000&start=1625210100\n",
      "https://www.bitstamp.net/api/v2/ohlc/btcusd/?&currency_pair=btcusd&step=300&limit=1000&start=1625509800\n",
      "https://www.bitstamp.net/api/v2/ohlc/btcusd/?&currency_pair=btcusd&step=300&limit=1000&start=1625809500\n",
      "https://www.bitstamp.net/api/v2/ohlc/btcusd/?&currency_pair=btcusd&step=300&limit=1000&start=1626109200\n",
      "Downloaded from 2021-06-15 00:00:00 to 2021-07-15 00:05:00 32946.30\n",
      "Resample 5Min - TecAn ( windows 30, windows_limit 100 )\n",
      "Processing 8649 of btcusd\n"
     ]
    },
    {
     "data": {
      "application/vnd.jupyter.widget-view+json": {
       "model_id": "57bab360a4fb4d8ea9885a14aa873e14",
       "version_major": 2,
       "version_minor": 0
      },
      "text/plain": [
       "  0%|          | 0/8649 [00:00<?, ?it/s]"
      ]
     },
     "metadata": {},
     "output_type": "display_data"
    },
    {
     "name": "stdout",
     "output_type": "stream",
     "text": [
      "https://www.bitstamp.net/api/v2/ohlc/ethusd/?&currency_pair=ethusd&step=300&limit=1000&start=1623711600\n",
      "https://www.bitstamp.net/api/v2/ohlc/ethusd/?&currency_pair=ethusd&step=300&limit=1000&start=1624011300\n",
      "https://www.bitstamp.net/api/v2/ohlc/ethusd/?&currency_pair=ethusd&step=300&limit=1000&start=1624311000\n",
      "https://www.bitstamp.net/api/v2/ohlc/ethusd/?&currency_pair=ethusd&step=300&limit=1000&start=1624610700\n",
      "https://www.bitstamp.net/api/v2/ohlc/ethusd/?&currency_pair=ethusd&step=300&limit=1000&start=1624910400\n",
      "https://www.bitstamp.net/api/v2/ohlc/ethusd/?&currency_pair=ethusd&step=300&limit=1000&start=1625210100\n",
      "https://www.bitstamp.net/api/v2/ohlc/ethusd/?&currency_pair=ethusd&step=300&limit=1000&start=1625509800\n",
      "https://www.bitstamp.net/api/v2/ohlc/ethusd/?&currency_pair=ethusd&step=300&limit=1000&start=1625809500\n",
      "https://www.bitstamp.net/api/v2/ohlc/ethusd/?&currency_pair=ethusd&step=300&limit=1000&start=1626109200\n",
      "Downloaded from 2021-06-15 00:00:00 to 2021-07-15 00:05:00 2000.79\n",
      "Resample 5Min - TecAn ( windows 30, windows_limit 100 )\n",
      "Processing 8649 of ethusd\n"
     ]
    },
    {
     "data": {
      "application/vnd.jupyter.widget-view+json": {
       "model_id": "0fa0462143bd4c2a808c38727051b5b1",
       "version_major": 2,
       "version_minor": 0
      },
      "text/plain": [
       "  0%|          | 0/8649 [00:00<?, ?it/s]"
      ]
     },
     "metadata": {},
     "output_type": "display_data"
    },
    {
     "name": "stdout",
     "output_type": "stream",
     "text": [
      "https://www.bitstamp.net/api/v2/ohlc/ltcusd/?&currency_pair=ltcusd&step=300&limit=1000&start=1623711600\n",
      "https://www.bitstamp.net/api/v2/ohlc/ltcusd/?&currency_pair=ltcusd&step=300&limit=1000&start=1624011300\n",
      "https://www.bitstamp.net/api/v2/ohlc/ltcusd/?&currency_pair=ltcusd&step=300&limit=1000&start=1624311000\n",
      "https://www.bitstamp.net/api/v2/ohlc/ltcusd/?&currency_pair=ltcusd&step=300&limit=1000&start=1624610700\n",
      "https://www.bitstamp.net/api/v2/ohlc/ltcusd/?&currency_pair=ltcusd&step=300&limit=1000&start=1624910400\n",
      "https://www.bitstamp.net/api/v2/ohlc/ltcusd/?&currency_pair=ltcusd&step=300&limit=1000&start=1625210100\n",
      "https://www.bitstamp.net/api/v2/ohlc/ltcusd/?&currency_pair=ltcusd&step=300&limit=1000&start=1625509800\n",
      "https://www.bitstamp.net/api/v2/ohlc/ltcusd/?&currency_pair=ltcusd&step=300&limit=1000&start=1625809500\n",
      "https://www.bitstamp.net/api/v2/ohlc/ltcusd/?&currency_pair=ltcusd&step=300&limit=1000&start=1626109200\n",
      "Downloaded from 2021-06-15 00:00:00 to 2021-07-15 00:05:00 131.27\n",
      "Resample 5Min - TecAn ( windows 30, windows_limit 100 )\n",
      "Processing 8649 of ltcusd\n"
     ]
    },
    {
     "data": {
      "application/vnd.jupyter.widget-view+json": {
       "model_id": "2fab0e9e328d43e28945a507308f29cf",
       "version_major": 2,
       "version_minor": 0
      },
      "text/plain": [
       "  0%|          | 0/8649 [00:00<?, ?it/s]"
      ]
     },
     "metadata": {},
     "output_type": "display_data"
    },
    {
     "name": "stdout",
     "output_type": "stream",
     "text": [
      "https://www.bitstamp.net/api/v2/ohlc/ltcbtc/?&currency_pair=ltcbtc&step=300&limit=1000&start=1623711600\n",
      "https://www.bitstamp.net/api/v2/ohlc/ltcbtc/?&currency_pair=ltcbtc&step=300&limit=1000&start=1624011300\n",
      "https://www.bitstamp.net/api/v2/ohlc/ltcbtc/?&currency_pair=ltcbtc&step=300&limit=1000&start=1624311000\n",
      "https://www.bitstamp.net/api/v2/ohlc/ltcbtc/?&currency_pair=ltcbtc&step=300&limit=1000&start=1624610700\n",
      "https://www.bitstamp.net/api/v2/ohlc/ltcbtc/?&currency_pair=ltcbtc&step=300&limit=1000&start=1624910400\n",
      "https://www.bitstamp.net/api/v2/ohlc/ltcbtc/?&currency_pair=ltcbtc&step=300&limit=1000&start=1625210100\n",
      "https://www.bitstamp.net/api/v2/ohlc/ltcbtc/?&currency_pair=ltcbtc&step=300&limit=1000&start=1625509800\n",
      "https://www.bitstamp.net/api/v2/ohlc/ltcbtc/?&currency_pair=ltcbtc&step=300&limit=1000&start=1625809500\n",
      "https://www.bitstamp.net/api/v2/ohlc/ltcbtc/?&currency_pair=ltcbtc&step=300&limit=1000&start=1626109200\n",
      "Downloaded from 2021-06-15 00:00:00 to 2021-07-15 00:05:00 0.00398347\n",
      "Resample 5Min - TecAn ( windows 30, windows_limit 100 )\n",
      "Processing 8649 of ltcbtc\n"
     ]
    },
    {
     "data": {
      "application/vnd.jupyter.widget-view+json": {
       "model_id": "5c9c88a06c254aac8ea4294ea6eb7fa6",
       "version_major": 2,
       "version_minor": 0
      },
      "text/plain": [
       "  0%|          | 0/8649 [00:00<?, ?it/s]"
      ]
     },
     "metadata": {},
     "output_type": "display_data"
    },
    {
     "name": "stdout",
     "output_type": "stream",
     "text": [
      "https://www.bitstamp.net/api/v2/ohlc/btcusd/?&currency_pair=btcusd&step=300&limit=1000&start=1622502000\n",
      "Downloaded from 2021-06-01 00:00:00 to 2021-06-04 11:15:00 36979.84\n",
      "Resample 5Min - TecAn ( windows 40, windows_limit 100 )\n",
      "Processing 999 of btcusd\n"
     ]
    },
    {
     "data": {
      "application/vnd.jupyter.widget-view+json": {
       "model_id": "ebc52ef960494c0dbb329edcd892195b",
       "version_major": 2,
       "version_minor": 0
      },
      "text/plain": [
       "  0%|          | 0/999 [00:00<?, ?it/s]"
      ]
     },
     "metadata": {},
     "output_type": "display_data"
    },
    {
     "name": "stdout",
     "output_type": "stream",
     "text": [
      "https://www.bitstamp.net/api/v2/ohlc/ethusd/?&currency_pair=ethusd&step=300&limit=1000&start=1622502000\n",
      "Downloaded from 2021-06-01 00:00:00 to 2021-06-04 11:15:00 2662.21\n",
      "Resample 5Min - TecAn ( windows 40, windows_limit 100 )\n",
      "Processing 999 of ethusd\n"
     ]
    },
    {
     "data": {
      "application/vnd.jupyter.widget-view+json": {
       "model_id": "dd6885325d644ece9138047374bb31d3",
       "version_major": 2,
       "version_minor": 0
      },
      "text/plain": [
       "  0%|          | 0/999 [00:00<?, ?it/s]"
      ]
     },
     "metadata": {},
     "output_type": "display_data"
    },
    {
     "name": "stdout",
     "output_type": "stream",
     "text": [
      "https://www.bitstamp.net/api/v2/ohlc/ltcusd/?&currency_pair=ltcusd&step=300&limit=1000&start=1622502000\n",
      "Downloaded from 2021-06-01 00:00:00 to 2021-06-04 11:15:00 177.09\n",
      "Resample 5Min - TecAn ( windows 40, windows_limit 100 )\n",
      "Processing 999 of ltcusd\n"
     ]
    },
    {
     "data": {
      "application/vnd.jupyter.widget-view+json": {
       "model_id": "f44568d77c914c6cb6d7b155c34c8519",
       "version_major": 2,
       "version_minor": 0
      },
      "text/plain": [
       "  0%|          | 0/999 [00:00<?, ?it/s]"
      ]
     },
     "metadata": {},
     "output_type": "display_data"
    },
    {
     "name": "stdout",
     "output_type": "stream",
     "text": [
      "https://www.bitstamp.net/api/v2/ohlc/ltcbtc/?&currency_pair=ltcbtc&step=300&limit=1000&start=1622502000\n",
      "Downloaded from 2021-06-01 00:00:00 to 2021-06-04 11:15:00 0.00478308\n",
      "Resample 5Min - TecAn ( windows 40, windows_limit 100 )\n",
      "Processing 999 of ltcbtc\n"
     ]
    },
    {
     "data": {
      "application/vnd.jupyter.widget-view+json": {
       "model_id": "11ded81fa76d43609fa081a0bc3f4120",
       "version_major": 2,
       "version_minor": 0
      },
      "text/plain": [
       "  0%|          | 0/999 [00:00<?, ?it/s]"
      ]
     },
     "metadata": {},
     "output_type": "display_data"
    },
    {
     "name": "stdout",
     "output_type": "stream",
     "text": [
      "https://www.bitstamp.net/api/v2/ohlc/btcusd/?&currency_pair=btcusd&step=300&limit=1000&start=1590966000\n",
      "Downloaded from 2020-06-01 00:00:00 to 2020-06-04 11:15:00 9520.48\n",
      "Resample 5Min - TecAn ( windows 40, windows_limit 100 )\n",
      "Processing 999 of btcusd\n"
     ]
    },
    {
     "data": {
      "application/vnd.jupyter.widget-view+json": {
       "model_id": "d0e0c4a08aaa441ca6f97d9a007fe3b4",
       "version_major": 2,
       "version_minor": 0
      },
      "text/plain": [
       "  0%|          | 0/999 [00:00<?, ?it/s]"
      ]
     },
     "metadata": {},
     "output_type": "display_data"
    },
    {
     "name": "stdout",
     "output_type": "stream",
     "text": [
      "https://www.bitstamp.net/api/v2/ohlc/ethusd/?&currency_pair=ethusd&step=300&limit=1000&start=1590966000\n",
      "Downloaded from 2020-06-01 00:00:00 to 2020-06-04 11:15:00 239.28\n",
      "Resample 5Min - TecAn ( windows 40, windows_limit 100 )\n",
      "Processing 999 of ethusd\n"
     ]
    },
    {
     "data": {
      "application/vnd.jupyter.widget-view+json": {
       "model_id": "11baae1c42c74067a34c0839ed05b0ff",
       "version_major": 2,
       "version_minor": 0
      },
      "text/plain": [
       "  0%|          | 0/999 [00:00<?, ?it/s]"
      ]
     },
     "metadata": {},
     "output_type": "display_data"
    },
    {
     "name": "stdout",
     "output_type": "stream",
     "text": [
      "https://www.bitstamp.net/api/v2/ohlc/ltcusd/?&currency_pair=ltcusd&step=300&limit=1000&start=1590966000\n",
      "Downloaded from 2020-06-01 00:00:00 to 2020-06-04 11:15:00 46.81\n",
      "Resample 5Min - TecAn ( windows 40, windows_limit 100 )\n",
      "Processing 999 of ltcusd\n"
     ]
    },
    {
     "data": {
      "application/vnd.jupyter.widget-view+json": {
       "model_id": "447ccb8e76084b75bfcf702008a15d14",
       "version_major": 2,
       "version_minor": 0
      },
      "text/plain": [
       "  0%|          | 0/999 [00:00<?, ?it/s]"
      ]
     },
     "metadata": {},
     "output_type": "display_data"
    },
    {
     "name": "stdout",
     "output_type": "stream",
     "text": [
      "https://www.bitstamp.net/api/v2/ohlc/ltcbtc/?&currency_pair=ltcbtc&step=300&limit=1000&start=1590966000\n",
      "Downloaded from 2020-06-01 00:00:00 to 2020-06-04 11:15:00 0.00493915\n",
      "Resample 5Min - TecAn ( windows 40, windows_limit 100 )\n",
      "Processing 999 of ltcbtc\n"
     ]
    },
    {
     "data": {
      "application/vnd.jupyter.widget-view+json": {
       "model_id": "7128490b3dc248ad8036a50f356f915e",
       "version_major": 2,
       "version_minor": 0
      },
      "text/plain": [
       "  0%|          | 0/999 [00:00<?, ?it/s]"
      ]
     },
     "metadata": {},
     "output_type": "display_data"
    },
    {
     "name": "stdout",
     "output_type": "stream",
     "text": [
      "https://www.bitstamp.net/api/v2/ohlc/btcusd/?&currency_pair=btcusd&step=300&limit=1000&start=1559343600\n",
      "Downloaded from 2019-06-01 00:00:00 to 2019-06-04 11:15:00 7963.92\n",
      "Resample 5Min - TecAn ( windows 40, windows_limit 100 )\n",
      "Processing 999 of btcusd\n"
     ]
    },
    {
     "data": {
      "application/vnd.jupyter.widget-view+json": {
       "model_id": "7fe2910c515c4cd8ad14c9aa34f1f1e3",
       "version_major": 2,
       "version_minor": 0
      },
      "text/plain": [
       "  0%|          | 0/999 [00:00<?, ?it/s]"
      ]
     },
     "metadata": {},
     "output_type": "display_data"
    },
    {
     "name": "stdout",
     "output_type": "stream",
     "text": [
      "https://www.bitstamp.net/api/v2/ohlc/ethusd/?&currency_pair=ethusd&step=300&limit=1000&start=1559343600\n",
      "Downloaded from 2019-06-01 00:00:00 to 2019-06-04 11:15:00 247.42\n",
      "Resample 5Min - TecAn ( windows 40, windows_limit 100 )\n",
      "Processing 999 of ethusd\n"
     ]
    },
    {
     "data": {
      "application/vnd.jupyter.widget-view+json": {
       "model_id": "b43e152d99bd45c991c76282540340f0",
       "version_major": 2,
       "version_minor": 0
      },
      "text/plain": [
       "  0%|          | 0/999 [00:00<?, ?it/s]"
      ]
     },
     "metadata": {},
     "output_type": "display_data"
    },
    {
     "name": "stdout",
     "output_type": "stream",
     "text": [
      "https://www.bitstamp.net/api/v2/ohlc/ltcusd/?&currency_pair=ltcusd&step=300&limit=1000&start=1559343600\n",
      "Downloaded from 2019-06-01 00:00:00 to 2019-06-04 11:15:00 105.11\n",
      "Resample 5Min - TecAn ( windows 40, windows_limit 100 )\n",
      "Processing 999 of ltcusd\n"
     ]
    },
    {
     "data": {
      "application/vnd.jupyter.widget-view+json": {
       "model_id": "ce2ade80124640f7b5d652f9a41b78ca",
       "version_major": 2,
       "version_minor": 0
      },
      "text/plain": [
       "  0%|          | 0/999 [00:00<?, ?it/s]"
      ]
     },
     "metadata": {},
     "output_type": "display_data"
    },
    {
     "name": "stdout",
     "output_type": "stream",
     "text": [
      "https://www.bitstamp.net/api/v2/ohlc/ltcbtc/?&currency_pair=ltcbtc&step=300&limit=1000&start=1559343600\n",
      "Downloaded from 2019-06-01 00:00:00 to 2019-06-04 11:15:00 0.01321994\n",
      "Resample 5Min - TecAn ( windows 40, windows_limit 100 )\n",
      "Processing 999 of ltcbtc\n"
     ]
    },
    {
     "data": {
      "application/vnd.jupyter.widget-view+json": {
       "model_id": "e6dc6f76b8584e09aacd100f81495083",
       "version_major": 2,
       "version_minor": 0
      },
      "text/plain": [
       "  0%|          | 0/999 [00:00<?, ?it/s]"
      ]
     },
     "metadata": {},
     "output_type": "display_data"
    },
    {
     "name": "stdout",
     "output_type": "stream",
     "text": [
      "https://www.bitstamp.net/api/v2/ohlc/btcusd/?&currency_pair=btcusd&step=300&limit=1000&start=1527807600\n",
      "Downloaded from 2018-06-01 00:00:00 to 2018-06-04 11:15:00 7603.79\n",
      "Resample 5Min - TecAn ( windows 40, windows_limit 100 )\n",
      "Processing 999 of btcusd\n"
     ]
    },
    {
     "data": {
      "application/vnd.jupyter.widget-view+json": {
       "model_id": "5af0a390e387437d804251079d4bfd9a",
       "version_major": 2,
       "version_minor": 0
      },
      "text/plain": [
       "  0%|          | 0/999 [00:00<?, ?it/s]"
      ]
     },
     "metadata": {},
     "output_type": "display_data"
    },
    {
     "name": "stdout",
     "output_type": "stream",
     "text": [
      "https://www.bitstamp.net/api/v2/ohlc/ethusd/?&currency_pair=ethusd&step=300&limit=1000&start=1527807600\n",
      "Downloaded from 2018-06-01 00:00:00 to 2018-06-04 11:15:00 605.42\n",
      "Resample 5Min - TecAn ( windows 40, windows_limit 100 )\n",
      "Processing 999 of ethusd\n"
     ]
    },
    {
     "data": {
      "application/vnd.jupyter.widget-view+json": {
       "model_id": "270d11d3460b4bdbb7239fd19de4550d",
       "version_major": 2,
       "version_minor": 0
      },
      "text/plain": [
       "  0%|          | 0/999 [00:00<?, ?it/s]"
      ]
     },
     "metadata": {},
     "output_type": "display_data"
    },
    {
     "name": "stdout",
     "output_type": "stream",
     "text": [
      "https://www.bitstamp.net/api/v2/ohlc/ltcusd/?&currency_pair=ltcusd&step=300&limit=1000&start=1527807600\n",
      "Downloaded from 2018-06-01 00:00:00 to 2018-06-04 11:15:00 122.36\n",
      "Resample 5Min - TecAn ( windows 40, windows_limit 100 )\n",
      "Processing 999 of ltcusd\n"
     ]
    },
    {
     "data": {
      "application/vnd.jupyter.widget-view+json": {
       "model_id": "39fb4b14bcc84fceafa05a5977701802",
       "version_major": 2,
       "version_minor": 0
      },
      "text/plain": [
       "  0%|          | 0/999 [00:00<?, ?it/s]"
      ]
     },
     "metadata": {},
     "output_type": "display_data"
    },
    {
     "name": "stdout",
     "output_type": "stream",
     "text": [
      "https://www.bitstamp.net/api/v2/ohlc/ltcbtc/?&currency_pair=ltcbtc&step=300&limit=1000&start=1527807600\n",
      "Downloaded from 2018-06-01 00:00:00 to 2018-06-04 11:15:00 0.01605500\n",
      "Resample 5Min - TecAn ( windows 40, windows_limit 100 )\n",
      "Processing 999 of ltcbtc\n"
     ]
    },
    {
     "data": {
      "application/vnd.jupyter.widget-view+json": {
       "model_id": "0ea090f16ec44c9394738ecc999a162a",
       "version_major": 2,
       "version_minor": 0
      },
      "text/plain": [
       "  0%|          | 0/999 [00:00<?, ?it/s]"
      ]
     },
     "metadata": {},
     "output_type": "display_data"
    },
    {
     "name": "stdout",
     "output_type": "stream",
     "text": [
      "https://www.bitstamp.net/api/v2/ohlc/btcusd/?&currency_pair=btcusd&step=300&limit=1000&start=1517443200\n",
      "Downloaded from 2018-02-01 00:00:00 to 2018-02-04 11:15:00 8898.23\n",
      "Resample 5Min - TecAn ( windows 40, windows_limit 100 )\n",
      "Processing 999 of btcusd\n"
     ]
    },
    {
     "data": {
      "application/vnd.jupyter.widget-view+json": {
       "model_id": "b847efa175334015b39677421aa134e2",
       "version_major": 2,
       "version_minor": 0
      },
      "text/plain": [
       "  0%|          | 0/999 [00:00<?, ?it/s]"
      ]
     },
     "metadata": {},
     "output_type": "display_data"
    },
    {
     "name": "stdout",
     "output_type": "stream",
     "text": [
      "https://www.bitstamp.net/api/v2/ohlc/ethusd/?&currency_pair=ethusd&step=300&limit=1000&start=1517443200\n",
      "Downloaded from 2018-02-01 00:00:00 to 2018-02-04 11:15:00 911.19\n",
      "Resample 5Min - TecAn ( windows 40, windows_limit 100 )\n",
      "Processing 999 of ethusd\n"
     ]
    },
    {
     "data": {
      "application/vnd.jupyter.widget-view+json": {
       "model_id": "c6c4a577c6064d5f84ced23519db8f62",
       "version_major": 2,
       "version_minor": 0
      },
      "text/plain": [
       "  0%|          | 0/999 [00:00<?, ?it/s]"
      ]
     },
     "metadata": {},
     "output_type": "display_data"
    },
    {
     "name": "stdout",
     "output_type": "stream",
     "text": [
      "https://www.bitstamp.net/api/v2/ohlc/ltcusd/?&currency_pair=ltcusd&step=300&limit=1000&start=1517443200\n",
      "Downloaded from 2018-02-01 00:00:00 to 2018-02-04 11:15:00 160.78\n",
      "Resample 5Min - TecAn ( windows 40, windows_limit 100 )\n",
      "Processing 999 of ltcusd\n"
     ]
    },
    {
     "data": {
      "application/vnd.jupyter.widget-view+json": {
       "model_id": "95eba9576b2e40c19155a2caf15ffd52",
       "version_major": 2,
       "version_minor": 0
      },
      "text/plain": [
       "  0%|          | 0/999 [00:00<?, ?it/s]"
      ]
     },
     "metadata": {},
     "output_type": "display_data"
    },
    {
     "name": "stdout",
     "output_type": "stream",
     "text": [
      "https://www.bitstamp.net/api/v2/ohlc/ltcbtc/?&currency_pair=ltcbtc&step=300&limit=1000&start=1517443200\n",
      "Downloaded from 2018-02-01 00:00:00 to 2018-02-04 11:15:00 0.01802000\n",
      "Resample 5Min - TecAn ( windows 40, windows_limit 100 )\n",
      "Processing 999 of ltcbtc\n"
     ]
    },
    {
     "data": {
      "application/vnd.jupyter.widget-view+json": {
       "model_id": "70ff191f668641a58fc783a689060cbc",
       "version_major": 2,
       "version_minor": 0
      },
      "text/plain": [
       "  0%|          | 0/999 [00:00<?, ?it/s]"
      ]
     },
     "metadata": {},
     "output_type": "display_data"
    },
    {
     "name": "stdout",
     "output_type": "stream",
     "text": [
      "https://www.bitstamp.net/api/v2/ohlc/btcusd/?&currency_pair=btcusd&step=300&limit=1000&start=1548979200\n",
      "Downloaded from 2019-02-01 00:00:00 to 2019-02-04 11:15:00 3404.48\n",
      "Resample 5Min - TecAn ( windows 40, windows_limit 100 )\n",
      "Processing 999 of btcusd\n"
     ]
    },
    {
     "data": {
      "application/vnd.jupyter.widget-view+json": {
       "model_id": "ab90831f18fd4d4aba3d99ae2766263c",
       "version_major": 2,
       "version_minor": 0
      },
      "text/plain": [
       "  0%|          | 0/999 [00:00<?, ?it/s]"
      ]
     },
     "metadata": {},
     "output_type": "display_data"
    },
    {
     "name": "stdout",
     "output_type": "stream",
     "text": [
      "https://www.bitstamp.net/api/v2/ohlc/ethusd/?&currency_pair=ethusd&step=300&limit=1000&start=1548979200\n",
      "Downloaded from 2019-02-01 00:00:00 to 2019-02-04 11:15:00 105.66\n",
      "Resample 5Min - TecAn ( windows 40, windows_limit 100 )\n",
      "Processing 999 of ethusd\n"
     ]
    },
    {
     "data": {
      "application/vnd.jupyter.widget-view+json": {
       "model_id": "79bb421ec260454d8589795bd24f23d3",
       "version_major": 2,
       "version_minor": 0
      },
      "text/plain": [
       "  0%|          | 0/999 [00:00<?, ?it/s]"
      ]
     },
     "metadata": {},
     "output_type": "display_data"
    },
    {
     "name": "stdout",
     "output_type": "stream",
     "text": [
      "https://www.bitstamp.net/api/v2/ohlc/ltcusd/?&currency_pair=ltcusd&step=300&limit=1000&start=1548979200\n",
      "Downloaded from 2019-02-01 00:00:00 to 2019-02-04 11:15:00 33.28\n",
      "Resample 5Min - TecAn ( windows 40, windows_limit 100 )\n",
      "Processing 999 of ltcusd\n"
     ]
    },
    {
     "data": {
      "application/vnd.jupyter.widget-view+json": {
       "model_id": "d67493a5503847b9958d987f2bb77e9c",
       "version_major": 2,
       "version_minor": 0
      },
      "text/plain": [
       "  0%|          | 0/999 [00:00<?, ?it/s]"
      ]
     },
     "metadata": {},
     "output_type": "display_data"
    },
    {
     "name": "stdout",
     "output_type": "stream",
     "text": [
      "https://www.bitstamp.net/api/v2/ohlc/ltcbtc/?&currency_pair=ltcbtc&step=300&limit=1000&start=1548979200\n",
      "Downloaded from 2019-02-01 00:00:00 to 2019-02-04 11:15:00 0.00976025\n",
      "Resample 5Min - TecAn ( windows 40, windows_limit 100 )\n",
      "Processing 999 of ltcbtc\n"
     ]
    },
    {
     "data": {
      "application/vnd.jupyter.widget-view+json": {
       "model_id": "20a89e8ecd714de6929dc444a3a236ce",
       "version_major": 2,
       "version_minor": 0
      },
      "text/plain": [
       "  0%|          | 0/999 [00:00<?, ?it/s]"
      ]
     },
     "metadata": {},
     "output_type": "display_data"
    },
    {
     "name": "stdout",
     "output_type": "stream",
     "text": [
      "https://www.bitstamp.net/api/v2/ohlc/btcusd/?&currency_pair=btcusd&step=300&limit=1000&start=1580515200\n",
      "Downloaded from 2020-02-01 00:00:00 to 2020-02-04 11:15:00 9163.36\n",
      "Resample 5Min - TecAn ( windows 40, windows_limit 100 )\n",
      "Processing 999 of btcusd\n"
     ]
    },
    {
     "data": {
      "application/vnd.jupyter.widget-view+json": {
       "model_id": "4fb5c2b7aeaf4d4f861085158dcfc061",
       "version_major": 2,
       "version_minor": 0
      },
      "text/plain": [
       "  0%|          | 0/999 [00:00<?, ?it/s]"
      ]
     },
     "metadata": {},
     "output_type": "display_data"
    },
    {
     "name": "stdout",
     "output_type": "stream",
     "text": [
      "https://www.bitstamp.net/api/v2/ohlc/ethusd/?&currency_pair=ethusd&step=300&limit=1000&start=1580515200\n",
      "Downloaded from 2020-02-01 00:00:00 to 2020-02-04 11:15:00 185.75\n",
      "Resample 5Min - TecAn ( windows 40, windows_limit 100 )\n",
      "Processing 999 of ethusd\n"
     ]
    },
    {
     "data": {
      "application/vnd.jupyter.widget-view+json": {
       "model_id": "9e63339bfd3249f1a04354e585b6d7e5",
       "version_major": 2,
       "version_minor": 0
      },
      "text/plain": [
       "  0%|          | 0/999 [00:00<?, ?it/s]"
      ]
     },
     "metadata": {},
     "output_type": "display_data"
    },
    {
     "name": "stdout",
     "output_type": "stream",
     "text": [
      "https://www.bitstamp.net/api/v2/ohlc/ltcusd/?&currency_pair=ltcusd&step=300&limit=1000&start=1580515200\n",
      "Downloaded from 2020-02-01 00:00:00 to 2020-02-04 11:15:00 67.19\n",
      "Resample 5Min - TecAn ( windows 40, windows_limit 100 )\n",
      "Processing 999 of ltcusd\n"
     ]
    },
    {
     "data": {
      "application/vnd.jupyter.widget-view+json": {
       "model_id": "b2478e4612ac4296ba6e59525d8d8397",
       "version_major": 2,
       "version_minor": 0
      },
      "text/plain": [
       "  0%|          | 0/999 [00:00<?, ?it/s]"
      ]
     },
     "metadata": {},
     "output_type": "display_data"
    },
    {
     "name": "stdout",
     "output_type": "stream",
     "text": [
      "https://www.bitstamp.net/api/v2/ohlc/ltcbtc/?&currency_pair=ltcbtc&step=300&limit=1000&start=1580515200\n",
      "Downloaded from 2020-02-01 00:00:00 to 2020-02-04 11:15:00 0.00734000\n",
      "Resample 5Min - TecAn ( windows 40, windows_limit 100 )\n",
      "Processing 999 of ltcbtc\n"
     ]
    },
    {
     "data": {
      "application/vnd.jupyter.widget-view+json": {
       "model_id": "c019cde7f3f9463891016359a3a16272",
       "version_major": 2,
       "version_minor": 0
      },
      "text/plain": [
       "  0%|          | 0/999 [00:00<?, ?it/s]"
      ]
     },
     "metadata": {},
     "output_type": "display_data"
    },
    {
     "name": "stdout",
     "output_type": "stream",
     "text": [
      "https://www.bitstamp.net/api/v2/ohlc/btcusd/?&currency_pair=btcusd&step=300&limit=1000&start=1612137600\n",
      "Downloaded from 2021-02-01 00:00:00 to 2021-02-04 11:15:00 37713.31\n",
      "Resample 5Min - TecAn ( windows 40, windows_limit 100 )\n",
      "Processing 999 of btcusd\n"
     ]
    },
    {
     "data": {
      "application/vnd.jupyter.widget-view+json": {
       "model_id": "1bb1612279454e749206c2fc963f29fb",
       "version_major": 2,
       "version_minor": 0
      },
      "text/plain": [
       "  0%|          | 0/999 [00:00<?, ?it/s]"
      ]
     },
     "metadata": {},
     "output_type": "display_data"
    },
    {
     "name": "stdout",
     "output_type": "stream",
     "text": [
      "https://www.bitstamp.net/api/v2/ohlc/ethusd/?&currency_pair=ethusd&step=300&limit=1000&start=1612137600\n",
      "Downloaded from 2021-02-01 00:00:00 to 2021-02-04 11:15:00 1633.70\n",
      "Resample 5Min - TecAn ( windows 40, windows_limit 100 )\n",
      "Processing 999 of ethusd\n"
     ]
    },
    {
     "data": {
      "application/vnd.jupyter.widget-view+json": {
       "model_id": "151ac09919714f4ea0b6f60636bda6f8",
       "version_major": 2,
       "version_minor": 0
      },
      "text/plain": [
       "  0%|          | 0/999 [00:00<?, ?it/s]"
      ]
     },
     "metadata": {},
     "output_type": "display_data"
    },
    {
     "name": "stdout",
     "output_type": "stream",
     "text": [
      "https://www.bitstamp.net/api/v2/ohlc/ltcusd/?&currency_pair=ltcusd&step=300&limit=1000&start=1612137600\n",
      "Downloaded from 2021-02-01 00:00:00 to 2021-02-04 11:15:00 148.10\n",
      "Resample 5Min - TecAn ( windows 40, windows_limit 100 )\n",
      "Processing 999 of ltcusd\n"
     ]
    },
    {
     "data": {
      "application/vnd.jupyter.widget-view+json": {
       "model_id": "122e1387bc884f5da56befe6e918a4c0",
       "version_major": 2,
       "version_minor": 0
      },
      "text/plain": [
       "  0%|          | 0/999 [00:00<?, ?it/s]"
      ]
     },
     "metadata": {},
     "output_type": "display_data"
    },
    {
     "name": "stdout",
     "output_type": "stream",
     "text": [
      "https://www.bitstamp.net/api/v2/ohlc/ltcbtc/?&currency_pair=ltcbtc&step=300&limit=1000&start=1612137600\n",
      "Downloaded from 2021-02-01 00:00:00 to 2021-02-04 11:15:00 0.00392037\n",
      "Resample 5Min - TecAn ( windows 40, windows_limit 100 )\n",
      "Processing 999 of ltcbtc\n"
     ]
    },
    {
     "data": {
      "application/vnd.jupyter.widget-view+json": {
       "model_id": "1de38e53279f4556841189463d2200b6",
       "version_major": 2,
       "version_minor": 0
      },
      "text/plain": [
       "  0%|          | 0/999 [00:00<?, ?it/s]"
      ]
     },
     "metadata": {},
     "output_type": "display_data"
    },
    {
     "name": "stdout",
     "output_type": "stream",
     "text": [
      "https://www.bitstamp.net/api/v2/ohlc/btcusd/?&currency_pair=btcusd&step=300&limit=1000&start=1623711600\n",
      "https://www.bitstamp.net/api/v2/ohlc/btcusd/?&currency_pair=btcusd&step=300&limit=1000&start=1624011300\n",
      "https://www.bitstamp.net/api/v2/ohlc/btcusd/?&currency_pair=btcusd&step=300&limit=1000&start=1624311000\n",
      "https://www.bitstamp.net/api/v2/ohlc/btcusd/?&currency_pair=btcusd&step=300&limit=1000&start=1624610700\n",
      "https://www.bitstamp.net/api/v2/ohlc/btcusd/?&currency_pair=btcusd&step=300&limit=1000&start=1624910400\n",
      "https://www.bitstamp.net/api/v2/ohlc/btcusd/?&currency_pair=btcusd&step=300&limit=1000&start=1625210100\n",
      "https://www.bitstamp.net/api/v2/ohlc/btcusd/?&currency_pair=btcusd&step=300&limit=1000&start=1625509800\n",
      "https://www.bitstamp.net/api/v2/ohlc/btcusd/?&currency_pair=btcusd&step=300&limit=1000&start=1625809500\n",
      "https://www.bitstamp.net/api/v2/ohlc/btcusd/?&currency_pair=btcusd&step=300&limit=1000&start=1626109200\n",
      "Downloaded from 2021-06-15 00:00:00 to 2021-07-15 00:05:00 32946.30\n",
      "Resample 5Min - TecAn ( windows 40, windows_limit 100 )\n",
      "Processing 8649 of btcusd\n"
     ]
    },
    {
     "data": {
      "application/vnd.jupyter.widget-view+json": {
       "model_id": "4087395634fa4b9e87bca8095367cdb5",
       "version_major": 2,
       "version_minor": 0
      },
      "text/plain": [
       "  0%|          | 0/8649 [00:00<?, ?it/s]"
      ]
     },
     "metadata": {},
     "output_type": "display_data"
    },
    {
     "name": "stdout",
     "output_type": "stream",
     "text": [
      "https://www.bitstamp.net/api/v2/ohlc/ethusd/?&currency_pair=ethusd&step=300&limit=1000&start=1623711600\n",
      "https://www.bitstamp.net/api/v2/ohlc/ethusd/?&currency_pair=ethusd&step=300&limit=1000&start=1624011300\n",
      "https://www.bitstamp.net/api/v2/ohlc/ethusd/?&currency_pair=ethusd&step=300&limit=1000&start=1624311000\n",
      "https://www.bitstamp.net/api/v2/ohlc/ethusd/?&currency_pair=ethusd&step=300&limit=1000&start=1624610700\n",
      "https://www.bitstamp.net/api/v2/ohlc/ethusd/?&currency_pair=ethusd&step=300&limit=1000&start=1624910400\n",
      "https://www.bitstamp.net/api/v2/ohlc/ethusd/?&currency_pair=ethusd&step=300&limit=1000&start=1625210100\n",
      "https://www.bitstamp.net/api/v2/ohlc/ethusd/?&currency_pair=ethusd&step=300&limit=1000&start=1625509800\n",
      "https://www.bitstamp.net/api/v2/ohlc/ethusd/?&currency_pair=ethusd&step=300&limit=1000&start=1625809500\n",
      "https://www.bitstamp.net/api/v2/ohlc/ethusd/?&currency_pair=ethusd&step=300&limit=1000&start=1626109200\n",
      "Downloaded from 2021-06-15 00:00:00 to 2021-07-15 00:05:00 2000.79\n",
      "Resample 5Min - TecAn ( windows 40, windows_limit 100 )\n",
      "Processing 8649 of ethusd\n"
     ]
    },
    {
     "data": {
      "application/vnd.jupyter.widget-view+json": {
       "model_id": "ed8144eff2bd47f99be28d3e43bdde3a",
       "version_major": 2,
       "version_minor": 0
      },
      "text/plain": [
       "  0%|          | 0/8649 [00:00<?, ?it/s]"
      ]
     },
     "metadata": {},
     "output_type": "display_data"
    },
    {
     "name": "stdout",
     "output_type": "stream",
     "text": [
      "https://www.bitstamp.net/api/v2/ohlc/ltcusd/?&currency_pair=ltcusd&step=300&limit=1000&start=1623711600\n",
      "https://www.bitstamp.net/api/v2/ohlc/ltcusd/?&currency_pair=ltcusd&step=300&limit=1000&start=1624011300\n",
      "https://www.bitstamp.net/api/v2/ohlc/ltcusd/?&currency_pair=ltcusd&step=300&limit=1000&start=1624311000\n",
      "https://www.bitstamp.net/api/v2/ohlc/ltcusd/?&currency_pair=ltcusd&step=300&limit=1000&start=1624610700\n",
      "https://www.bitstamp.net/api/v2/ohlc/ltcusd/?&currency_pair=ltcusd&step=300&limit=1000&start=1624910400\n",
      "https://www.bitstamp.net/api/v2/ohlc/ltcusd/?&currency_pair=ltcusd&step=300&limit=1000&start=1625210100\n",
      "https://www.bitstamp.net/api/v2/ohlc/ltcusd/?&currency_pair=ltcusd&step=300&limit=1000&start=1625509800\n",
      "https://www.bitstamp.net/api/v2/ohlc/ltcusd/?&currency_pair=ltcusd&step=300&limit=1000&start=1625809500\n",
      "https://www.bitstamp.net/api/v2/ohlc/ltcusd/?&currency_pair=ltcusd&step=300&limit=1000&start=1626109200\n",
      "Downloaded from 2021-06-15 00:00:00 to 2021-07-15 00:05:00 131.27\n",
      "Resample 5Min - TecAn ( windows 40, windows_limit 100 )\n",
      "Processing 8649 of ltcusd\n"
     ]
    },
    {
     "data": {
      "application/vnd.jupyter.widget-view+json": {
       "model_id": "8be9ffa1a7ed4b41b79a678f6f817a7d",
       "version_major": 2,
       "version_minor": 0
      },
      "text/plain": [
       "  0%|          | 0/8649 [00:00<?, ?it/s]"
      ]
     },
     "metadata": {},
     "output_type": "display_data"
    },
    {
     "name": "stdout",
     "output_type": "stream",
     "text": [
      "https://www.bitstamp.net/api/v2/ohlc/ltcbtc/?&currency_pair=ltcbtc&step=300&limit=1000&start=1623711600\n",
      "https://www.bitstamp.net/api/v2/ohlc/ltcbtc/?&currency_pair=ltcbtc&step=300&limit=1000&start=1624011300\n",
      "https://www.bitstamp.net/api/v2/ohlc/ltcbtc/?&currency_pair=ltcbtc&step=300&limit=1000&start=1624311000\n",
      "https://www.bitstamp.net/api/v2/ohlc/ltcbtc/?&currency_pair=ltcbtc&step=300&limit=1000&start=1624610700\n",
      "https://www.bitstamp.net/api/v2/ohlc/ltcbtc/?&currency_pair=ltcbtc&step=300&limit=1000&start=1624910400\n",
      "https://www.bitstamp.net/api/v2/ohlc/ltcbtc/?&currency_pair=ltcbtc&step=300&limit=1000&start=1625210100\n",
      "https://www.bitstamp.net/api/v2/ohlc/ltcbtc/?&currency_pair=ltcbtc&step=300&limit=1000&start=1625509800\n",
      "https://www.bitstamp.net/api/v2/ohlc/ltcbtc/?&currency_pair=ltcbtc&step=300&limit=1000&start=1625809500\n",
      "https://www.bitstamp.net/api/v2/ohlc/ltcbtc/?&currency_pair=ltcbtc&step=300&limit=1000&start=1626109200\n",
      "Downloaded from 2021-06-15 00:00:00 to 2021-07-15 00:05:00 0.00398347\n",
      "Resample 5Min - TecAn ( windows 40, windows_limit 100 )\n",
      "Processing 8649 of ltcbtc\n"
     ]
    },
    {
     "data": {
      "application/vnd.jupyter.widget-view+json": {
       "model_id": "e76c06198c8f4fcdaa1ecf519e6756ac",
       "version_major": 2,
       "version_minor": 0
      },
      "text/plain": [
       "  0%|          | 0/8649 [00:00<?, ?it/s]"
      ]
     },
     "metadata": {},
     "output_type": "display_data"
    },
    {
     "name": "stdout",
     "output_type": "stream",
     "text": [
      "https://www.bitstamp.net/api/v2/ohlc/btcusd/?&currency_pair=btcusd&step=180&limit=1000&start=1622502000\n",
      "Downloaded from 2021-06-01 00:00:00 to 2021-06-03 01:57:00 37436.78\n",
      "Resample 3Min - TecAn ( windows 5, windows_limit 100 )\n",
      "Processing 999 of btcusd\n"
     ]
    },
    {
     "data": {
      "application/vnd.jupyter.widget-view+json": {
       "model_id": "b47e7597c9ea44bf8b5b29fb9dc83eed",
       "version_major": 2,
       "version_minor": 0
      },
      "text/plain": [
       "  0%|          | 0/999 [00:00<?, ?it/s]"
      ]
     },
     "metadata": {},
     "output_type": "display_data"
    },
    {
     "name": "stdout",
     "output_type": "stream",
     "text": [
      "https://www.bitstamp.net/api/v2/ohlc/ethusd/?&currency_pair=ethusd&step=180&limit=1000&start=1622502000\n",
      "Downloaded from 2021-06-01 00:00:00 to 2021-06-03 01:57:00 2702.14\n",
      "Resample 3Min - TecAn ( windows 5, windows_limit 100 )\n",
      "Processing 999 of ethusd\n"
     ]
    },
    {
     "data": {
      "application/vnd.jupyter.widget-view+json": {
       "model_id": "861a875d405441f99df40027e54d6b41",
       "version_major": 2,
       "version_minor": 0
      },
      "text/plain": [
       "  0%|          | 0/999 [00:00<?, ?it/s]"
      ]
     },
     "metadata": {},
     "output_type": "display_data"
    },
    {
     "name": "stdout",
     "output_type": "stream",
     "text": [
      "https://www.bitstamp.net/api/v2/ohlc/ltcusd/?&currency_pair=ltcusd&step=180&limit=1000&start=1622502000\n",
      "Downloaded from 2021-06-01 00:00:00 to 2021-06-03 01:57:00 185.00\n",
      "Resample 3Min - TecAn ( windows 5, windows_limit 100 )\n",
      "Processing 999 of ltcusd\n"
     ]
    },
    {
     "data": {
      "application/vnd.jupyter.widget-view+json": {
       "model_id": "b8951a274bca4bf589d0a332cfca4ef5",
       "version_major": 2,
       "version_minor": 0
      },
      "text/plain": [
       "  0%|          | 0/999 [00:00<?, ?it/s]"
      ]
     },
     "metadata": {},
     "output_type": "display_data"
    },
    {
     "name": "stdout",
     "output_type": "stream",
     "text": [
      "https://www.bitstamp.net/api/v2/ohlc/ltcbtc/?&currency_pair=ltcbtc&step=180&limit=1000&start=1622502000\n",
      "Downloaded from 2021-06-01 00:00:00 to 2021-06-03 01:57:00 0.00494481\n",
      "Resample 3Min - TecAn ( windows 5, windows_limit 100 )\n",
      "Processing 999 of ltcbtc\n"
     ]
    },
    {
     "data": {
      "application/vnd.jupyter.widget-view+json": {
       "model_id": "cd4e965c414d4792ac871e1cd9b01953",
       "version_major": 2,
       "version_minor": 0
      },
      "text/plain": [
       "  0%|          | 0/999 [00:00<?, ?it/s]"
      ]
     },
     "metadata": {},
     "output_type": "display_data"
    },
    {
     "name": "stdout",
     "output_type": "stream",
     "text": [
      "https://www.bitstamp.net/api/v2/ohlc/btcusd/?&currency_pair=btcusd&step=180&limit=1000&start=1590966000\n",
      "Downloaded from 2020-06-01 00:00:00 to 2020-06-03 01:57:00 9525.82\n",
      "Resample 3Min - TecAn ( windows 5, windows_limit 100 )\n",
      "Processing 999 of btcusd\n"
     ]
    },
    {
     "data": {
      "application/vnd.jupyter.widget-view+json": {
       "model_id": "76e3dac7e8e44827b60da290e2171214",
       "version_major": 2,
       "version_minor": 0
      },
      "text/plain": [
       "  0%|          | 0/999 [00:00<?, ?it/s]"
      ]
     },
     "metadata": {},
     "output_type": "display_data"
    },
    {
     "name": "stdout",
     "output_type": "stream",
     "text": [
      "https://www.bitstamp.net/api/v2/ohlc/ethusd/?&currency_pair=ethusd&step=180&limit=1000&start=1590966000\n",
      "Downloaded from 2020-06-01 00:00:00 to 2020-06-03 01:57:00 237.99\n",
      "Resample 3Min - TecAn ( windows 5, windows_limit 100 )\n",
      "Processing 999 of ethusd\n"
     ]
    },
    {
     "data": {
      "application/vnd.jupyter.widget-view+json": {
       "model_id": "185e4a0d72ce4a288a1b8b9fa56bdff5",
       "version_major": 2,
       "version_minor": 0
      },
      "text/plain": [
       "  0%|          | 0/999 [00:00<?, ?it/s]"
      ]
     },
     "metadata": {},
     "output_type": "display_data"
    },
    {
     "name": "stdout",
     "output_type": "stream",
     "text": [
      "https://www.bitstamp.net/api/v2/ohlc/ltcusd/?&currency_pair=ltcusd&step=180&limit=1000&start=1590966000\n",
      "Downloaded from 2020-06-01 00:00:00 to 2020-06-03 01:57:00 46.08\n",
      "Resample 3Min - TecAn ( windows 5, windows_limit 100 )\n",
      "Processing 999 of ltcusd\n"
     ]
    },
    {
     "data": {
      "application/vnd.jupyter.widget-view+json": {
       "model_id": "424b6b3aa320438ea22efd62ebdb5ae2",
       "version_major": 2,
       "version_minor": 0
      },
      "text/plain": [
       "  0%|          | 0/999 [00:00<?, ?it/s]"
      ]
     },
     "metadata": {},
     "output_type": "display_data"
    },
    {
     "name": "stdout",
     "output_type": "stream",
     "text": [
      "https://www.bitstamp.net/api/v2/ohlc/ltcbtc/?&currency_pair=ltcbtc&step=180&limit=1000&start=1590966000\n",
      "Downloaded from 2020-06-01 00:00:00 to 2020-06-03 01:57:00 0.00484476\n",
      "Resample 3Min - TecAn ( windows 5, windows_limit 100 )\n",
      "Processing 999 of ltcbtc\n"
     ]
    },
    {
     "data": {
      "application/vnd.jupyter.widget-view+json": {
       "model_id": "27242f7002354d71a4ccce625418482a",
       "version_major": 2,
       "version_minor": 0
      },
      "text/plain": [
       "  0%|          | 0/999 [00:00<?, ?it/s]"
      ]
     },
     "metadata": {},
     "output_type": "display_data"
    },
    {
     "name": "stdout",
     "output_type": "stream",
     "text": [
      "https://www.bitstamp.net/api/v2/ohlc/btcusd/?&currency_pair=btcusd&step=180&limit=1000&start=1559343600\n",
      "Downloaded from 2019-06-01 00:00:00 to 2019-06-03 01:57:00 8681.59\n",
      "Resample 3Min - TecAn ( windows 5, windows_limit 100 )\n",
      "Processing 999 of btcusd\n"
     ]
    },
    {
     "data": {
      "application/vnd.jupyter.widget-view+json": {
       "model_id": "8fc442dd089a4199b741f5139f9c2b76",
       "version_major": 2,
       "version_minor": 0
      },
      "text/plain": [
       "  0%|          | 0/999 [00:00<?, ?it/s]"
      ]
     },
     "metadata": {},
     "output_type": "display_data"
    },
    {
     "name": "stdout",
     "output_type": "stream",
     "text": [
      "https://www.bitstamp.net/api/v2/ohlc/ethusd/?&currency_pair=ethusd&step=180&limit=1000&start=1559343600\n",
      "Downloaded from 2019-06-01 00:00:00 to 2019-06-03 01:57:00 266.63\n",
      "Resample 3Min - TecAn ( windows 5, windows_limit 100 )\n",
      "Processing 999 of ethusd\n"
     ]
    },
    {
     "data": {
      "application/vnd.jupyter.widget-view+json": {
       "model_id": "f1bf2fde700a4b41bd89ca5f01575373",
       "version_major": 2,
       "version_minor": 0
      },
      "text/plain": [
       "  0%|          | 0/999 [00:00<?, ?it/s]"
      ]
     },
     "metadata": {},
     "output_type": "display_data"
    },
    {
     "name": "stdout",
     "output_type": "stream",
     "text": [
      "https://www.bitstamp.net/api/v2/ohlc/ltcusd/?&currency_pair=ltcusd&step=180&limit=1000&start=1559343600\n",
      "Downloaded from 2019-06-01 00:00:00 to 2019-06-03 01:57:00 113.86\n",
      "Resample 3Min - TecAn ( windows 5, windows_limit 100 )\n",
      "Processing 999 of ltcusd\n"
     ]
    },
    {
     "data": {
      "application/vnd.jupyter.widget-view+json": {
       "model_id": "ec4652ed8a464c7ab483c8fddafd8bff",
       "version_major": 2,
       "version_minor": 0
      },
      "text/plain": [
       "  0%|          | 0/999 [00:00<?, ?it/s]"
      ]
     },
     "metadata": {},
     "output_type": "display_data"
    },
    {
     "name": "stdout",
     "output_type": "stream",
     "text": [
      "https://www.bitstamp.net/api/v2/ohlc/ltcbtc/?&currency_pair=ltcbtc&step=180&limit=1000&start=1559343600\n",
      "Downloaded from 2019-06-01 00:00:00 to 2019-06-03 01:57:00 0.01310000\n",
      "Resample 3Min - TecAn ( windows 5, windows_limit 100 )\n",
      "Processing 999 of ltcbtc\n"
     ]
    },
    {
     "data": {
      "application/vnd.jupyter.widget-view+json": {
       "model_id": "a5e86d550afc4972a8571e03ccc564d0",
       "version_major": 2,
       "version_minor": 0
      },
      "text/plain": [
       "  0%|          | 0/999 [00:00<?, ?it/s]"
      ]
     },
     "metadata": {},
     "output_type": "display_data"
    },
    {
     "name": "stdout",
     "output_type": "stream",
     "text": [
      "https://www.bitstamp.net/api/v2/ohlc/btcusd/?&currency_pair=btcusd&step=180&limit=1000&start=1527807600\n",
      "Downloaded from 2018-06-01 00:00:00 to 2018-06-03 01:57:00 7653.99\n",
      "Resample 3Min - TecAn ( windows 5, windows_limit 100 )\n",
      "Processing 999 of btcusd\n"
     ]
    },
    {
     "data": {
      "application/vnd.jupyter.widget-view+json": {
       "model_id": "0f89aa6654ad4d368819af98b4ddce6e",
       "version_major": 2,
       "version_minor": 0
      },
      "text/plain": [
       "  0%|          | 0/999 [00:00<?, ?it/s]"
      ]
     },
     "metadata": {},
     "output_type": "display_data"
    },
    {
     "name": "stdout",
     "output_type": "stream",
     "text": [
      "https://www.bitstamp.net/api/v2/ohlc/ethusd/?&currency_pair=ethusd&step=180&limit=1000&start=1527807600\n",
      "Downloaded from 2018-06-01 00:00:00 to 2018-06-03 01:57:00 592.70\n",
      "Resample 3Min - TecAn ( windows 5, windows_limit 100 )\n",
      "Processing 999 of ethusd\n"
     ]
    },
    {
     "data": {
      "application/vnd.jupyter.widget-view+json": {
       "model_id": "b47e6bc060b54f71be82915144eae5b9",
       "version_major": 2,
       "version_minor": 0
      },
      "text/plain": [
       "  0%|          | 0/999 [00:00<?, ?it/s]"
      ]
     },
     "metadata": {},
     "output_type": "display_data"
    },
    {
     "name": "stdout",
     "output_type": "stream",
     "text": [
      "https://www.bitstamp.net/api/v2/ohlc/ltcusd/?&currency_pair=ltcusd&step=180&limit=1000&start=1527807600\n",
      "Downloaded from 2018-06-01 00:00:00 to 2018-06-03 01:57:00 123.64\n",
      "Resample 3Min - TecAn ( windows 5, windows_limit 100 )\n",
      "Processing 999 of ltcusd\n"
     ]
    },
    {
     "data": {
      "application/vnd.jupyter.widget-view+json": {
       "model_id": "bf0290405f6b40aa8f056a348d8db7a6",
       "version_major": 2,
       "version_minor": 0
      },
      "text/plain": [
       "  0%|          | 0/999 [00:00<?, ?it/s]"
      ]
     },
     "metadata": {},
     "output_type": "display_data"
    },
    {
     "name": "stdout",
     "output_type": "stream",
     "text": [
      "https://www.bitstamp.net/api/v2/ohlc/ltcbtc/?&currency_pair=ltcbtc&step=180&limit=1000&start=1527807600\n",
      "Downloaded from 2018-06-01 00:00:00 to 2018-06-03 01:57:00 0.01614501\n",
      "Resample 3Min - TecAn ( windows 5, windows_limit 100 )\n",
      "Processing 999 of ltcbtc\n"
     ]
    },
    {
     "data": {
      "application/vnd.jupyter.widget-view+json": {
       "model_id": "41419d852b4c44fdacc902faf3f9b5e0",
       "version_major": 2,
       "version_minor": 0
      },
      "text/plain": [
       "  0%|          | 0/999 [00:00<?, ?it/s]"
      ]
     },
     "metadata": {},
     "output_type": "display_data"
    },
    {
     "name": "stdout",
     "output_type": "stream",
     "text": [
      "https://www.bitstamp.net/api/v2/ohlc/btcusd/?&currency_pair=btcusd&step=180&limit=1000&start=1517443200\n",
      "Downloaded from 2018-02-01 00:00:00 to 2018-02-03 01:57:00 8563.00\n",
      "Resample 3Min - TecAn ( windows 5, windows_limit 100 )\n",
      "Processing 999 of btcusd\n"
     ]
    },
    {
     "data": {
      "application/vnd.jupyter.widget-view+json": {
       "model_id": "c23dd5212d56436cb4a66fedff3eb0b8",
       "version_major": 2,
       "version_minor": 0
      },
      "text/plain": [
       "  0%|          | 0/999 [00:00<?, ?it/s]"
      ]
     },
     "metadata": {},
     "output_type": "display_data"
    },
    {
     "name": "stdout",
     "output_type": "stream",
     "text": [
      "https://www.bitstamp.net/api/v2/ohlc/ethusd/?&currency_pair=ethusd&step=180&limit=1000&start=1517443200\n",
      "Downloaded from 2018-02-01 00:00:00 to 2018-02-03 01:57:00 894.06\n",
      "Resample 3Min - TecAn ( windows 5, windows_limit 100 )\n",
      "Processing 999 of ethusd\n"
     ]
    },
    {
     "data": {
      "application/vnd.jupyter.widget-view+json": {
       "model_id": "fdbb1da62cca49968c3b66c6f0439005",
       "version_major": 2,
       "version_minor": 0
      },
      "text/plain": [
       "  0%|          | 0/999 [00:00<?, ?it/s]"
      ]
     },
     "metadata": {},
     "output_type": "display_data"
    },
    {
     "name": "stdout",
     "output_type": "stream",
     "text": [
      "https://www.bitstamp.net/api/v2/ohlc/ltcusd/?&currency_pair=ltcusd&step=180&limit=1000&start=1517443200\n",
      "Downloaded from 2018-02-01 00:00:00 to 2018-02-03 01:57:00 127.76\n",
      "Resample 3Min - TecAn ( windows 5, windows_limit 100 )\n",
      "Processing 999 of ltcusd\n"
     ]
    },
    {
     "data": {
      "application/vnd.jupyter.widget-view+json": {
       "model_id": "400dc128114d439cb949839cd17f9c8a",
       "version_major": 2,
       "version_minor": 0
      },
      "text/plain": [
       "  0%|          | 0/999 [00:00<?, ?it/s]"
      ]
     },
     "metadata": {},
     "output_type": "display_data"
    },
    {
     "name": "stdout",
     "output_type": "stream",
     "text": [
      "https://www.bitstamp.net/api/v2/ohlc/ltcbtc/?&currency_pair=ltcbtc&step=180&limit=1000&start=1517443200\n",
      "Downloaded from 2018-02-01 00:00:00 to 2018-02-03 01:57:00 0.01497000\n",
      "Resample 3Min - TecAn ( windows 5, windows_limit 100 )\n",
      "Processing 999 of ltcbtc\n"
     ]
    },
    {
     "data": {
      "application/vnd.jupyter.widget-view+json": {
       "model_id": "d4eb35a52cb44338aac06bb9fb565a2b",
       "version_major": 2,
       "version_minor": 0
      },
      "text/plain": [
       "  0%|          | 0/999 [00:00<?, ?it/s]"
      ]
     },
     "metadata": {},
     "output_type": "display_data"
    },
    {
     "name": "stdout",
     "output_type": "stream",
     "text": [
      "https://www.bitstamp.net/api/v2/ohlc/btcusd/?&currency_pair=btcusd&step=180&limit=1000&start=1548979200\n",
      "Downloaded from 2019-02-01 00:00:00 to 2019-02-03 01:57:00 3448.32\n",
      "Resample 3Min - TecAn ( windows 5, windows_limit 100 )\n",
      "Processing 999 of btcusd\n"
     ]
    },
    {
     "data": {
      "application/vnd.jupyter.widget-view+json": {
       "model_id": "db490d49ba4e4ebca3e28d3c1bca3f05",
       "version_major": 2,
       "version_minor": 0
      },
      "text/plain": [
       "  0%|          | 0/999 [00:00<?, ?it/s]"
      ]
     },
     "metadata": {},
     "output_type": "display_data"
    },
    {
     "name": "stdout",
     "output_type": "stream",
     "text": [
      "https://www.bitstamp.net/api/v2/ohlc/ethusd/?&currency_pair=ethusd&step=180&limit=1000&start=1548979200\n",
      "Downloaded from 2019-02-01 00:00:00 to 2019-02-03 01:57:00 108.63\n",
      "Resample 3Min - TecAn ( windows 5, windows_limit 100 )\n",
      "Processing 999 of ethusd\n"
     ]
    },
    {
     "data": {
      "application/vnd.jupyter.widget-view+json": {
       "model_id": "fd318255f96f4a50a9ea043137c93cc8",
       "version_major": 2,
       "version_minor": 0
      },
      "text/plain": [
       "  0%|          | 0/999 [00:00<?, ?it/s]"
      ]
     },
     "metadata": {},
     "output_type": "display_data"
    },
    {
     "name": "stdout",
     "output_type": "stream",
     "text": [
      "https://www.bitstamp.net/api/v2/ohlc/ltcusd/?&currency_pair=ltcusd&step=180&limit=1000&start=1548979200\n",
      "Downloaded from 2019-02-01 00:00:00 to 2019-02-03 01:57:00 34.01\n",
      "Resample 3Min - TecAn ( windows 5, windows_limit 100 )\n",
      "Processing 999 of ltcusd\n"
     ]
    },
    {
     "data": {
      "application/vnd.jupyter.widget-view+json": {
       "model_id": "421e91b1978442ea8cb03c320577dfc2",
       "version_major": 2,
       "version_minor": 0
      },
      "text/plain": [
       "  0%|          | 0/999 [00:00<?, ?it/s]"
      ]
     },
     "metadata": {},
     "output_type": "display_data"
    },
    {
     "name": "stdout",
     "output_type": "stream",
     "text": [
      "https://www.bitstamp.net/api/v2/ohlc/ltcbtc/?&currency_pair=ltcbtc&step=180&limit=1000&start=1548979200\n",
      "Downloaded from 2019-02-01 00:00:00 to 2019-02-03 01:57:00 0.00988827\n",
      "Resample 3Min - TecAn ( windows 5, windows_limit 100 )\n",
      "Processing 999 of ltcbtc\n"
     ]
    },
    {
     "data": {
      "application/vnd.jupyter.widget-view+json": {
       "model_id": "9e91b042cf094cc3a3e599830fef9da7",
       "version_major": 2,
       "version_minor": 0
      },
      "text/plain": [
       "  0%|          | 0/999 [00:00<?, ?it/s]"
      ]
     },
     "metadata": {},
     "output_type": "display_data"
    },
    {
     "name": "stdout",
     "output_type": "stream",
     "text": [
      "https://www.bitstamp.net/api/v2/ohlc/btcusd/?&currency_pair=btcusd&step=180&limit=1000&start=1580515200\n",
      "Downloaded from 2020-02-01 00:00:00 to 2020-02-03 01:57:00 9540.01\n",
      "Resample 3Min - TecAn ( windows 5, windows_limit 100 )\n",
      "Processing 999 of btcusd\n"
     ]
    },
    {
     "data": {
      "application/vnd.jupyter.widget-view+json": {
       "model_id": "05dd7185818d418c91645eb8c4676f64",
       "version_major": 2,
       "version_minor": 0
      },
      "text/plain": [
       "  0%|          | 0/999 [00:00<?, ?it/s]"
      ]
     },
     "metadata": {},
     "output_type": "display_data"
    },
    {
     "name": "stdout",
     "output_type": "stream",
     "text": [
      "https://www.bitstamp.net/api/v2/ohlc/ethusd/?&currency_pair=ethusd&step=180&limit=1000&start=1580515200\n",
      "Downloaded from 2020-02-01 00:00:00 to 2020-02-03 01:57:00 193.14\n",
      "Resample 3Min - TecAn ( windows 5, windows_limit 100 )\n",
      "Processing 999 of ethusd\n"
     ]
    },
    {
     "data": {
      "application/vnd.jupyter.widget-view+json": {
       "model_id": "2e0d35d8b9944207a6908c5b9f7952a2",
       "version_major": 2,
       "version_minor": 0
      },
      "text/plain": [
       "  0%|          | 0/999 [00:00<?, ?it/s]"
      ]
     },
     "metadata": {},
     "output_type": "display_data"
    },
    {
     "name": "stdout",
     "output_type": "stream",
     "text": [
      "https://www.bitstamp.net/api/v2/ohlc/ltcusd/?&currency_pair=ltcusd&step=180&limit=1000&start=1580515200\n",
      "Downloaded from 2020-02-01 00:00:00 to 2020-02-03 01:57:00 71.63\n",
      "Resample 3Min - TecAn ( windows 5, windows_limit 100 )\n",
      "Processing 999 of ltcusd\n"
     ]
    },
    {
     "data": {
      "application/vnd.jupyter.widget-view+json": {
       "model_id": "1cd9331e37ef4dd8940263bbeac3c3e8",
       "version_major": 2,
       "version_minor": 0
      },
      "text/plain": [
       "  0%|          | 0/999 [00:00<?, ?it/s]"
      ]
     },
     "metadata": {},
     "output_type": "display_data"
    },
    {
     "name": "stdout",
     "output_type": "stream",
     "text": [
      "https://www.bitstamp.net/api/v2/ohlc/ltcbtc/?&currency_pair=ltcbtc&step=180&limit=1000&start=1580515200\n",
      "Downloaded from 2020-02-01 00:00:00 to 2020-02-03 01:57:00 0.00758690\n",
      "Resample 3Min - TecAn ( windows 5, windows_limit 100 )\n",
      "Processing 999 of ltcbtc\n"
     ]
    },
    {
     "data": {
      "application/vnd.jupyter.widget-view+json": {
       "model_id": "e15946d13d1a45389f9cf2dfadd59544",
       "version_major": 2,
       "version_minor": 0
      },
      "text/plain": [
       "  0%|          | 0/999 [00:00<?, ?it/s]"
      ]
     },
     "metadata": {},
     "output_type": "display_data"
    },
    {
     "name": "stdout",
     "output_type": "stream",
     "text": [
      "https://www.bitstamp.net/api/v2/ohlc/btcusd/?&currency_pair=btcusd&step=180&limit=1000&start=1612137600\n",
      "Downloaded from 2021-02-01 00:00:00 to 2021-02-03 01:57:00 35892.89\n",
      "Resample 3Min - TecAn ( windows 5, windows_limit 100 )\n",
      "Processing 999 of btcusd\n"
     ]
    },
    {
     "data": {
      "application/vnd.jupyter.widget-view+json": {
       "model_id": "2752bd40c9f846ecb5a940c0164696ba",
       "version_major": 2,
       "version_minor": 0
      },
      "text/plain": [
       "  0%|          | 0/999 [00:00<?, ?it/s]"
      ]
     },
     "metadata": {},
     "output_type": "display_data"
    },
    {
     "name": "stdout",
     "output_type": "stream",
     "text": [
      "https://www.bitstamp.net/api/v2/ohlc/ethusd/?&currency_pair=ethusd&step=180&limit=1000&start=1612137600\n",
      "Downloaded from 2021-02-01 00:00:00 to 2021-02-03 01:57:00 1519.63\n",
      "Resample 3Min - TecAn ( windows 5, windows_limit 100 )\n",
      "Processing 999 of ethusd\n"
     ]
    },
    {
     "data": {
      "application/vnd.jupyter.widget-view+json": {
       "model_id": "d31ef508ab514bb09d8aae0f7701e69d",
       "version_major": 2,
       "version_minor": 0
      },
      "text/plain": [
       "  0%|          | 0/999 [00:00<?, ?it/s]"
      ]
     },
     "metadata": {},
     "output_type": "display_data"
    },
    {
     "name": "stdout",
     "output_type": "stream",
     "text": [
      "https://www.bitstamp.net/api/v2/ohlc/ltcusd/?&currency_pair=ltcusd&step=180&limit=1000&start=1612137600\n",
      "Downloaded from 2021-02-01 00:00:00 to 2021-02-03 01:57:00 148.03\n",
      "Resample 3Min - TecAn ( windows 5, windows_limit 100 )\n",
      "Processing 999 of ltcusd\n"
     ]
    },
    {
     "data": {
      "application/vnd.jupyter.widget-view+json": {
       "model_id": "a615781c197640dc95042112273c8d09",
       "version_major": 2,
       "version_minor": 0
      },
      "text/plain": [
       "  0%|          | 0/999 [00:00<?, ?it/s]"
      ]
     },
     "metadata": {},
     "output_type": "display_data"
    },
    {
     "name": "stdout",
     "output_type": "stream",
     "text": [
      "https://www.bitstamp.net/api/v2/ohlc/ltcbtc/?&currency_pair=ltcbtc&step=180&limit=1000&start=1612137600\n",
      "Downloaded from 2021-02-01 00:00:00 to 2021-02-03 01:57:00 0.00412009\n",
      "Resample 3Min - TecAn ( windows 5, windows_limit 100 )\n",
      "Processing 999 of ltcbtc\n"
     ]
    },
    {
     "data": {
      "application/vnd.jupyter.widget-view+json": {
       "model_id": "04ced0a5695e4be384418915b1b2af57",
       "version_major": 2,
       "version_minor": 0
      },
      "text/plain": [
       "  0%|          | 0/999 [00:00<?, ?it/s]"
      ]
     },
     "metadata": {},
     "output_type": "display_data"
    },
    {
     "name": "stdout",
     "output_type": "stream",
     "text": [
      "https://www.bitstamp.net/api/v2/ohlc/btcusd/?&currency_pair=btcusd&step=180&limit=1000&start=1623711600\n",
      "https://www.bitstamp.net/api/v2/ohlc/btcusd/?&currency_pair=btcusd&step=180&limit=1000&start=1623891420\n",
      "https://www.bitstamp.net/api/v2/ohlc/btcusd/?&currency_pair=btcusd&step=180&limit=1000&start=1624071240\n",
      "https://www.bitstamp.net/api/v2/ohlc/btcusd/?&currency_pair=btcusd&step=180&limit=1000&start=1624251060\n",
      "https://www.bitstamp.net/api/v2/ohlc/btcusd/?&currency_pair=btcusd&step=180&limit=1000&start=1624430880\n",
      "https://www.bitstamp.net/api/v2/ohlc/btcusd/?&currency_pair=btcusd&step=180&limit=1000&start=1624610700\n",
      "https://www.bitstamp.net/api/v2/ohlc/btcusd/?&currency_pair=btcusd&step=180&limit=1000&start=1624790520\n",
      "https://www.bitstamp.net/api/v2/ohlc/btcusd/?&currency_pair=btcusd&step=180&limit=1000&start=1624970340\n",
      "https://www.bitstamp.net/api/v2/ohlc/btcusd/?&currency_pair=btcusd&step=180&limit=1000&start=1625150160\n",
      "https://www.bitstamp.net/api/v2/ohlc/btcusd/?&currency_pair=btcusd&step=180&limit=1000&start=1625329980\n",
      "https://www.bitstamp.net/api/v2/ohlc/btcusd/?&currency_pair=btcusd&step=180&limit=1000&start=1625509800\n",
      "https://www.bitstamp.net/api/v2/ohlc/btcusd/?&currency_pair=btcusd&step=180&limit=1000&start=1625689620\n",
      "https://www.bitstamp.net/api/v2/ohlc/btcusd/?&currency_pair=btcusd&step=180&limit=1000&start=1625869440\n",
      "https://www.bitstamp.net/api/v2/ohlc/btcusd/?&currency_pair=btcusd&step=180&limit=1000&start=1626049260\n",
      "https://www.bitstamp.net/api/v2/ohlc/btcusd/?&currency_pair=btcusd&step=180&limit=1000&start=1626229080\n",
      "Downloaded from 2021-06-15 00:00:00 to 2021-07-15 00:03:00 32951.92\n",
      "Resample 3Min - TecAn ( windows 5, windows_limit 100 )\n",
      "Processing 14415 of btcusd\n"
     ]
    },
    {
     "data": {
      "application/vnd.jupyter.widget-view+json": {
       "model_id": "92e1d178acda4e6a96a937cb78a7b800",
       "version_major": 2,
       "version_minor": 0
      },
      "text/plain": [
       "  0%|          | 0/14415 [00:00<?, ?it/s]"
      ]
     },
     "metadata": {},
     "output_type": "display_data"
    },
    {
     "name": "stdout",
     "output_type": "stream",
     "text": [
      "https://www.bitstamp.net/api/v2/ohlc/ethusd/?&currency_pair=ethusd&step=180&limit=1000&start=1623711600\n",
      "https://www.bitstamp.net/api/v2/ohlc/ethusd/?&currency_pair=ethusd&step=180&limit=1000&start=1623891420\n",
      "https://www.bitstamp.net/api/v2/ohlc/ethusd/?&currency_pair=ethusd&step=180&limit=1000&start=1624071240\n",
      "https://www.bitstamp.net/api/v2/ohlc/ethusd/?&currency_pair=ethusd&step=180&limit=1000&start=1624251060\n",
      "https://www.bitstamp.net/api/v2/ohlc/ethusd/?&currency_pair=ethusd&step=180&limit=1000&start=1624430880\n",
      "https://www.bitstamp.net/api/v2/ohlc/ethusd/?&currency_pair=ethusd&step=180&limit=1000&start=1624610700\n",
      "https://www.bitstamp.net/api/v2/ohlc/ethusd/?&currency_pair=ethusd&step=180&limit=1000&start=1624790520\n",
      "https://www.bitstamp.net/api/v2/ohlc/ethusd/?&currency_pair=ethusd&step=180&limit=1000&start=1624970340\n",
      "https://www.bitstamp.net/api/v2/ohlc/ethusd/?&currency_pair=ethusd&step=180&limit=1000&start=1625150160\n",
      "https://www.bitstamp.net/api/v2/ohlc/ethusd/?&currency_pair=ethusd&step=180&limit=1000&start=1625329980\n",
      "https://www.bitstamp.net/api/v2/ohlc/ethusd/?&currency_pair=ethusd&step=180&limit=1000&start=1625509800\n",
      "https://www.bitstamp.net/api/v2/ohlc/ethusd/?&currency_pair=ethusd&step=180&limit=1000&start=1625689620\n",
      "https://www.bitstamp.net/api/v2/ohlc/ethusd/?&currency_pair=ethusd&step=180&limit=1000&start=1625869440\n",
      "https://www.bitstamp.net/api/v2/ohlc/ethusd/?&currency_pair=ethusd&step=180&limit=1000&start=1626049260\n",
      "https://www.bitstamp.net/api/v2/ohlc/ethusd/?&currency_pair=ethusd&step=180&limit=1000&start=1626229080\n",
      "Downloaded from 2021-06-15 00:00:00 to 2021-07-15 00:03:00 2002.95\n",
      "Resample 3Min - TecAn ( windows 5, windows_limit 100 )\n",
      "Processing 14415 of ethusd\n"
     ]
    },
    {
     "data": {
      "application/vnd.jupyter.widget-view+json": {
       "model_id": "ebd2cb06fcdb46f19f9310411df7df57",
       "version_major": 2,
       "version_minor": 0
      },
      "text/plain": [
       "  0%|          | 0/14415 [00:00<?, ?it/s]"
      ]
     },
     "metadata": {},
     "output_type": "display_data"
    },
    {
     "name": "stdout",
     "output_type": "stream",
     "text": [
      "https://www.bitstamp.net/api/v2/ohlc/ltcusd/?&currency_pair=ltcusd&step=180&limit=1000&start=1623711600\n",
      "https://www.bitstamp.net/api/v2/ohlc/ltcusd/?&currency_pair=ltcusd&step=180&limit=1000&start=1623891420\n",
      "https://www.bitstamp.net/api/v2/ohlc/ltcusd/?&currency_pair=ltcusd&step=180&limit=1000&start=1624071240\n",
      "https://www.bitstamp.net/api/v2/ohlc/ltcusd/?&currency_pair=ltcusd&step=180&limit=1000&start=1624251060\n",
      "https://www.bitstamp.net/api/v2/ohlc/ltcusd/?&currency_pair=ltcusd&step=180&limit=1000&start=1624430880\n",
      "https://www.bitstamp.net/api/v2/ohlc/ltcusd/?&currency_pair=ltcusd&step=180&limit=1000&start=1624610700\n",
      "https://www.bitstamp.net/api/v2/ohlc/ltcusd/?&currency_pair=ltcusd&step=180&limit=1000&start=1624790520\n",
      "https://www.bitstamp.net/api/v2/ohlc/ltcusd/?&currency_pair=ltcusd&step=180&limit=1000&start=1624970340\n",
      "https://www.bitstamp.net/api/v2/ohlc/ltcusd/?&currency_pair=ltcusd&step=180&limit=1000&start=1625150160\n",
      "https://www.bitstamp.net/api/v2/ohlc/ltcusd/?&currency_pair=ltcusd&step=180&limit=1000&start=1625329980\n",
      "https://www.bitstamp.net/api/v2/ohlc/ltcusd/?&currency_pair=ltcusd&step=180&limit=1000&start=1625509800\n",
      "https://www.bitstamp.net/api/v2/ohlc/ltcusd/?&currency_pair=ltcusd&step=180&limit=1000&start=1625689620\n",
      "https://www.bitstamp.net/api/v2/ohlc/ltcusd/?&currency_pair=ltcusd&step=180&limit=1000&start=1625869440\n",
      "https://www.bitstamp.net/api/v2/ohlc/ltcusd/?&currency_pair=ltcusd&step=180&limit=1000&start=1626049260\n",
      "https://www.bitstamp.net/api/v2/ohlc/ltcusd/?&currency_pair=ltcusd&step=180&limit=1000&start=1626229080\n",
      "Downloaded from 2021-06-15 00:00:00 to 2021-07-15 00:03:00 131.22\n",
      "Resample 3Min - TecAn ( windows 5, windows_limit 100 )\n",
      "Processing 14415 of ltcusd\n"
     ]
    },
    {
     "data": {
      "application/vnd.jupyter.widget-view+json": {
       "model_id": "10b0837d230b475ba53fa2cb7c1c572a",
       "version_major": 2,
       "version_minor": 0
      },
      "text/plain": [
       "  0%|          | 0/14415 [00:00<?, ?it/s]"
      ]
     },
     "metadata": {},
     "output_type": "display_data"
    },
    {
     "name": "stdout",
     "output_type": "stream",
     "text": [
      "https://www.bitstamp.net/api/v2/ohlc/ltcbtc/?&currency_pair=ltcbtc&step=180&limit=1000&start=1623711600\n",
      "https://www.bitstamp.net/api/v2/ohlc/ltcbtc/?&currency_pair=ltcbtc&step=180&limit=1000&start=1623891420\n",
      "https://www.bitstamp.net/api/v2/ohlc/ltcbtc/?&currency_pair=ltcbtc&step=180&limit=1000&start=1624071240\n",
      "https://www.bitstamp.net/api/v2/ohlc/ltcbtc/?&currency_pair=ltcbtc&step=180&limit=1000&start=1624251060\n",
      "https://www.bitstamp.net/api/v2/ohlc/ltcbtc/?&currency_pair=ltcbtc&step=180&limit=1000&start=1624430880\n",
      "https://www.bitstamp.net/api/v2/ohlc/ltcbtc/?&currency_pair=ltcbtc&step=180&limit=1000&start=1624610700\n",
      "https://www.bitstamp.net/api/v2/ohlc/ltcbtc/?&currency_pair=ltcbtc&step=180&limit=1000&start=1624790520\n",
      "https://www.bitstamp.net/api/v2/ohlc/ltcbtc/?&currency_pair=ltcbtc&step=180&limit=1000&start=1624970340\n",
      "https://www.bitstamp.net/api/v2/ohlc/ltcbtc/?&currency_pair=ltcbtc&step=180&limit=1000&start=1625150160\n",
      "https://www.bitstamp.net/api/v2/ohlc/ltcbtc/?&currency_pair=ltcbtc&step=180&limit=1000&start=1625329980\n",
      "https://www.bitstamp.net/api/v2/ohlc/ltcbtc/?&currency_pair=ltcbtc&step=180&limit=1000&start=1625509800\n",
      "https://www.bitstamp.net/api/v2/ohlc/ltcbtc/?&currency_pair=ltcbtc&step=180&limit=1000&start=1625689620\n",
      "https://www.bitstamp.net/api/v2/ohlc/ltcbtc/?&currency_pair=ltcbtc&step=180&limit=1000&start=1625869440\n",
      "https://www.bitstamp.net/api/v2/ohlc/ltcbtc/?&currency_pair=ltcbtc&step=180&limit=1000&start=1626049260\n",
      "https://www.bitstamp.net/api/v2/ohlc/ltcbtc/?&currency_pair=ltcbtc&step=180&limit=1000&start=1626229080\n",
      "Downloaded from 2021-06-15 00:00:00 to 2021-07-15 00:03:00 0.00398347\n",
      "Resample 3Min - TecAn ( windows 5, windows_limit 100 )\n",
      "Processing 14415 of ltcbtc\n"
     ]
    },
    {
     "data": {
      "application/vnd.jupyter.widget-view+json": {
       "model_id": "a086b7d2761742d38482c3d00ca96e0a",
       "version_major": 2,
       "version_minor": 0
      },
      "text/plain": [
       "  0%|          | 0/14415 [00:00<?, ?it/s]"
      ]
     },
     "metadata": {},
     "output_type": "display_data"
    },
    {
     "name": "stdout",
     "output_type": "stream",
     "text": [
      "https://www.bitstamp.net/api/v2/ohlc/btcusd/?&currency_pair=btcusd&step=180&limit=1000&start=1622502000\n",
      "Downloaded from 2021-06-01 00:00:00 to 2021-06-03 01:57:00 37436.78\n",
      "Resample 3Min - TecAn ( windows 10, windows_limit 100 )\n",
      "Processing 999 of btcusd\n"
     ]
    },
    {
     "data": {
      "application/vnd.jupyter.widget-view+json": {
       "model_id": "088bb70711fb4ecd894bbf1d88199fbb",
       "version_major": 2,
       "version_minor": 0
      },
      "text/plain": [
       "  0%|          | 0/999 [00:00<?, ?it/s]"
      ]
     },
     "metadata": {},
     "output_type": "display_data"
    },
    {
     "name": "stdout",
     "output_type": "stream",
     "text": [
      "https://www.bitstamp.net/api/v2/ohlc/ethusd/?&currency_pair=ethusd&step=180&limit=1000&start=1622502000\n",
      "Downloaded from 2021-06-01 00:00:00 to 2021-06-03 01:57:00 2702.14\n",
      "Resample 3Min - TecAn ( windows 10, windows_limit 100 )\n",
      "Processing 999 of ethusd\n"
     ]
    },
    {
     "data": {
      "application/vnd.jupyter.widget-view+json": {
       "model_id": "92e5777f351249b499a202b52db5e1c7",
       "version_major": 2,
       "version_minor": 0
      },
      "text/plain": [
       "  0%|          | 0/999 [00:00<?, ?it/s]"
      ]
     },
     "metadata": {},
     "output_type": "display_data"
    },
    {
     "name": "stdout",
     "output_type": "stream",
     "text": [
      "https://www.bitstamp.net/api/v2/ohlc/ltcusd/?&currency_pair=ltcusd&step=180&limit=1000&start=1622502000\n",
      "Downloaded from 2021-06-01 00:00:00 to 2021-06-03 01:57:00 185.00\n",
      "Resample 3Min - TecAn ( windows 10, windows_limit 100 )\n",
      "Processing 999 of ltcusd\n"
     ]
    },
    {
     "data": {
      "application/vnd.jupyter.widget-view+json": {
       "model_id": "d6fd9933843a4a69864040128aad9fbe",
       "version_major": 2,
       "version_minor": 0
      },
      "text/plain": [
       "  0%|          | 0/999 [00:00<?, ?it/s]"
      ]
     },
     "metadata": {},
     "output_type": "display_data"
    },
    {
     "name": "stdout",
     "output_type": "stream",
     "text": [
      "https://www.bitstamp.net/api/v2/ohlc/ltcbtc/?&currency_pair=ltcbtc&step=180&limit=1000&start=1622502000\n",
      "Downloaded from 2021-06-01 00:00:00 to 2021-06-03 01:57:00 0.00494481\n",
      "Resample 3Min - TecAn ( windows 10, windows_limit 100 )\n",
      "Processing 999 of ltcbtc\n"
     ]
    },
    {
     "data": {
      "application/vnd.jupyter.widget-view+json": {
       "model_id": "705a8372bbe041cd9fca4fa960666528",
       "version_major": 2,
       "version_minor": 0
      },
      "text/plain": [
       "  0%|          | 0/999 [00:00<?, ?it/s]"
      ]
     },
     "metadata": {},
     "output_type": "display_data"
    },
    {
     "name": "stdout",
     "output_type": "stream",
     "text": [
      "https://www.bitstamp.net/api/v2/ohlc/btcusd/?&currency_pair=btcusd&step=180&limit=1000&start=1590966000\n",
      "Downloaded from 2020-06-01 00:00:00 to 2020-06-03 01:57:00 9525.82\n",
      "Resample 3Min - TecAn ( windows 10, windows_limit 100 )\n",
      "Processing 999 of btcusd\n"
     ]
    },
    {
     "data": {
      "application/vnd.jupyter.widget-view+json": {
       "model_id": "d94419f721954d0ba353b8d65b697909",
       "version_major": 2,
       "version_minor": 0
      },
      "text/plain": [
       "  0%|          | 0/999 [00:00<?, ?it/s]"
      ]
     },
     "metadata": {},
     "output_type": "display_data"
    },
    {
     "name": "stdout",
     "output_type": "stream",
     "text": [
      "https://www.bitstamp.net/api/v2/ohlc/ethusd/?&currency_pair=ethusd&step=180&limit=1000&start=1590966000\n",
      "Downloaded from 2020-06-01 00:00:00 to 2020-06-03 01:57:00 237.99\n",
      "Resample 3Min - TecAn ( windows 10, windows_limit 100 )\n",
      "Processing 999 of ethusd\n"
     ]
    },
    {
     "data": {
      "application/vnd.jupyter.widget-view+json": {
       "model_id": "7205028edfb444c78f7bc547a8fdd860",
       "version_major": 2,
       "version_minor": 0
      },
      "text/plain": [
       "  0%|          | 0/999 [00:00<?, ?it/s]"
      ]
     },
     "metadata": {},
     "output_type": "display_data"
    },
    {
     "name": "stdout",
     "output_type": "stream",
     "text": [
      "https://www.bitstamp.net/api/v2/ohlc/ltcusd/?&currency_pair=ltcusd&step=180&limit=1000&start=1590966000\n",
      "Downloaded from 2020-06-01 00:00:00 to 2020-06-03 01:57:00 46.08\n",
      "Resample 3Min - TecAn ( windows 10, windows_limit 100 )\n",
      "Processing 999 of ltcusd\n"
     ]
    },
    {
     "data": {
      "application/vnd.jupyter.widget-view+json": {
       "model_id": "42b67e84335b45418e0337713fa5a063",
       "version_major": 2,
       "version_minor": 0
      },
      "text/plain": [
       "  0%|          | 0/999 [00:00<?, ?it/s]"
      ]
     },
     "metadata": {},
     "output_type": "display_data"
    },
    {
     "name": "stdout",
     "output_type": "stream",
     "text": [
      "https://www.bitstamp.net/api/v2/ohlc/ltcbtc/?&currency_pair=ltcbtc&step=180&limit=1000&start=1590966000\n",
      "Downloaded from 2020-06-01 00:00:00 to 2020-06-03 01:57:00 0.00484476\n",
      "Resample 3Min - TecAn ( windows 10, windows_limit 100 )\n",
      "Processing 999 of ltcbtc\n"
     ]
    },
    {
     "data": {
      "application/vnd.jupyter.widget-view+json": {
       "model_id": "c348335722f04aaabd4165709c60f4fd",
       "version_major": 2,
       "version_minor": 0
      },
      "text/plain": [
       "  0%|          | 0/999 [00:00<?, ?it/s]"
      ]
     },
     "metadata": {},
     "output_type": "display_data"
    },
    {
     "name": "stdout",
     "output_type": "stream",
     "text": [
      "https://www.bitstamp.net/api/v2/ohlc/btcusd/?&currency_pair=btcusd&step=180&limit=1000&start=1559343600\n",
      "Downloaded from 2019-06-01 00:00:00 to 2019-06-03 01:57:00 8681.59\n",
      "Resample 3Min - TecAn ( windows 10, windows_limit 100 )\n",
      "Processing 999 of btcusd\n"
     ]
    },
    {
     "data": {
      "application/vnd.jupyter.widget-view+json": {
       "model_id": "282f017290eb417baa62d70f87c21fcc",
       "version_major": 2,
       "version_minor": 0
      },
      "text/plain": [
       "  0%|          | 0/999 [00:00<?, ?it/s]"
      ]
     },
     "metadata": {},
     "output_type": "display_data"
    },
    {
     "name": "stdout",
     "output_type": "stream",
     "text": [
      "https://www.bitstamp.net/api/v2/ohlc/ethusd/?&currency_pair=ethusd&step=180&limit=1000&start=1559343600\n",
      "Downloaded from 2019-06-01 00:00:00 to 2019-06-03 01:57:00 266.63\n",
      "Resample 3Min - TecAn ( windows 10, windows_limit 100 )\n",
      "Processing 999 of ethusd\n"
     ]
    },
    {
     "data": {
      "application/vnd.jupyter.widget-view+json": {
       "model_id": "c1db5a64a78e4f4d8be7ed552c957aa4",
       "version_major": 2,
       "version_minor": 0
      },
      "text/plain": [
       "  0%|          | 0/999 [00:00<?, ?it/s]"
      ]
     },
     "metadata": {},
     "output_type": "display_data"
    },
    {
     "name": "stdout",
     "output_type": "stream",
     "text": [
      "https://www.bitstamp.net/api/v2/ohlc/ltcusd/?&currency_pair=ltcusd&step=180&limit=1000&start=1559343600\n",
      "Downloaded from 2019-06-01 00:00:00 to 2019-06-03 01:57:00 113.86\n",
      "Resample 3Min - TecAn ( windows 10, windows_limit 100 )\n",
      "Processing 999 of ltcusd\n"
     ]
    },
    {
     "data": {
      "application/vnd.jupyter.widget-view+json": {
       "model_id": "3df8b136209945c2b2685c6f26e12db3",
       "version_major": 2,
       "version_minor": 0
      },
      "text/plain": [
       "  0%|          | 0/999 [00:00<?, ?it/s]"
      ]
     },
     "metadata": {},
     "output_type": "display_data"
    },
    {
     "name": "stdout",
     "output_type": "stream",
     "text": [
      "https://www.bitstamp.net/api/v2/ohlc/ltcbtc/?&currency_pair=ltcbtc&step=180&limit=1000&start=1559343600\n",
      "Downloaded from 2019-06-01 00:00:00 to 2019-06-03 01:57:00 0.01310000\n",
      "Resample 3Min - TecAn ( windows 10, windows_limit 100 )\n",
      "Processing 999 of ltcbtc\n"
     ]
    },
    {
     "data": {
      "application/vnd.jupyter.widget-view+json": {
       "model_id": "886f5d67e0f64294a6394aee4fe89536",
       "version_major": 2,
       "version_minor": 0
      },
      "text/plain": [
       "  0%|          | 0/999 [00:00<?, ?it/s]"
      ]
     },
     "metadata": {},
     "output_type": "display_data"
    },
    {
     "name": "stdout",
     "output_type": "stream",
     "text": [
      "https://www.bitstamp.net/api/v2/ohlc/btcusd/?&currency_pair=btcusd&step=180&limit=1000&start=1527807600\n",
      "Downloaded from 2018-06-01 00:00:00 to 2018-06-03 01:57:00 7653.99\n",
      "Resample 3Min - TecAn ( windows 10, windows_limit 100 )\n",
      "Processing 999 of btcusd\n"
     ]
    },
    {
     "data": {
      "application/vnd.jupyter.widget-view+json": {
       "model_id": "2adca79d69414600bfa59fa2d250088c",
       "version_major": 2,
       "version_minor": 0
      },
      "text/plain": [
       "  0%|          | 0/999 [00:00<?, ?it/s]"
      ]
     },
     "metadata": {},
     "output_type": "display_data"
    },
    {
     "name": "stdout",
     "output_type": "stream",
     "text": [
      "https://www.bitstamp.net/api/v2/ohlc/ethusd/?&currency_pair=ethusd&step=180&limit=1000&start=1527807600\n",
      "Downloaded from 2018-06-01 00:00:00 to 2018-06-03 01:57:00 592.70\n",
      "Resample 3Min - TecAn ( windows 10, windows_limit 100 )\n",
      "Processing 999 of ethusd\n"
     ]
    },
    {
     "data": {
      "application/vnd.jupyter.widget-view+json": {
       "model_id": "25045776d3754baf8f79217652e899f6",
       "version_major": 2,
       "version_minor": 0
      },
      "text/plain": [
       "  0%|          | 0/999 [00:00<?, ?it/s]"
      ]
     },
     "metadata": {},
     "output_type": "display_data"
    },
    {
     "name": "stdout",
     "output_type": "stream",
     "text": [
      "https://www.bitstamp.net/api/v2/ohlc/ltcusd/?&currency_pair=ltcusd&step=180&limit=1000&start=1527807600\n",
      "Downloaded from 2018-06-01 00:00:00 to 2018-06-03 01:57:00 123.64\n",
      "Resample 3Min - TecAn ( windows 10, windows_limit 100 )\n",
      "Processing 999 of ltcusd\n"
     ]
    },
    {
     "data": {
      "application/vnd.jupyter.widget-view+json": {
       "model_id": "9efc958d4ba14113ae44340ac09624b8",
       "version_major": 2,
       "version_minor": 0
      },
      "text/plain": [
       "  0%|          | 0/999 [00:00<?, ?it/s]"
      ]
     },
     "metadata": {},
     "output_type": "display_data"
    },
    {
     "name": "stdout",
     "output_type": "stream",
     "text": [
      "https://www.bitstamp.net/api/v2/ohlc/ltcbtc/?&currency_pair=ltcbtc&step=180&limit=1000&start=1527807600\n",
      "Downloaded from 2018-06-01 00:00:00 to 2018-06-03 01:57:00 0.01614501\n",
      "Resample 3Min - TecAn ( windows 10, windows_limit 100 )\n",
      "Processing 999 of ltcbtc\n"
     ]
    },
    {
     "data": {
      "application/vnd.jupyter.widget-view+json": {
       "model_id": "9bcc1c9f05e24661a0cf050242c1d3f8",
       "version_major": 2,
       "version_minor": 0
      },
      "text/plain": [
       "  0%|          | 0/999 [00:00<?, ?it/s]"
      ]
     },
     "metadata": {},
     "output_type": "display_data"
    },
    {
     "name": "stdout",
     "output_type": "stream",
     "text": [
      "https://www.bitstamp.net/api/v2/ohlc/btcusd/?&currency_pair=btcusd&step=180&limit=1000&start=1517443200\n",
      "Downloaded from 2018-02-01 00:00:00 to 2018-02-03 01:57:00 8563.00\n",
      "Resample 3Min - TecAn ( windows 10, windows_limit 100 )\n",
      "Processing 999 of btcusd\n"
     ]
    },
    {
     "data": {
      "application/vnd.jupyter.widget-view+json": {
       "model_id": "723c0e4707104193bf32dc96a1237c05",
       "version_major": 2,
       "version_minor": 0
      },
      "text/plain": [
       "  0%|          | 0/999 [00:00<?, ?it/s]"
      ]
     },
     "metadata": {},
     "output_type": "display_data"
    },
    {
     "name": "stdout",
     "output_type": "stream",
     "text": [
      "https://www.bitstamp.net/api/v2/ohlc/ethusd/?&currency_pair=ethusd&step=180&limit=1000&start=1517443200\n",
      "Downloaded from 2018-02-01 00:00:00 to 2018-02-03 01:57:00 894.06\n",
      "Resample 3Min - TecAn ( windows 10, windows_limit 100 )\n",
      "Processing 999 of ethusd\n"
     ]
    },
    {
     "data": {
      "application/vnd.jupyter.widget-view+json": {
       "model_id": "88ec348905184b61877e3382d1010637",
       "version_major": 2,
       "version_minor": 0
      },
      "text/plain": [
       "  0%|          | 0/999 [00:00<?, ?it/s]"
      ]
     },
     "metadata": {},
     "output_type": "display_data"
    },
    {
     "name": "stdout",
     "output_type": "stream",
     "text": [
      "https://www.bitstamp.net/api/v2/ohlc/ltcusd/?&currency_pair=ltcusd&step=180&limit=1000&start=1517443200\n",
      "Downloaded from 2018-02-01 00:00:00 to 2018-02-03 01:57:00 127.76\n",
      "Resample 3Min - TecAn ( windows 10, windows_limit 100 )\n",
      "Processing 999 of ltcusd\n"
     ]
    },
    {
     "data": {
      "application/vnd.jupyter.widget-view+json": {
       "model_id": "b131932187644946a9a4a4b228d02b36",
       "version_major": 2,
       "version_minor": 0
      },
      "text/plain": [
       "  0%|          | 0/999 [00:00<?, ?it/s]"
      ]
     },
     "metadata": {},
     "output_type": "display_data"
    },
    {
     "name": "stdout",
     "output_type": "stream",
     "text": [
      "https://www.bitstamp.net/api/v2/ohlc/ltcbtc/?&currency_pair=ltcbtc&step=180&limit=1000&start=1517443200\n",
      "Downloaded from 2018-02-01 00:00:00 to 2018-02-03 01:57:00 0.01497000\n",
      "Resample 3Min - TecAn ( windows 10, windows_limit 100 )\n",
      "Processing 999 of ltcbtc\n"
     ]
    },
    {
     "data": {
      "application/vnd.jupyter.widget-view+json": {
       "model_id": "9ec3d13e4b814c59a2c10bb57b1cfa59",
       "version_major": 2,
       "version_minor": 0
      },
      "text/plain": [
       "  0%|          | 0/999 [00:00<?, ?it/s]"
      ]
     },
     "metadata": {},
     "output_type": "display_data"
    },
    {
     "name": "stdout",
     "output_type": "stream",
     "text": [
      "https://www.bitstamp.net/api/v2/ohlc/btcusd/?&currency_pair=btcusd&step=180&limit=1000&start=1548979200\n",
      "Downloaded from 2019-02-01 00:00:00 to 2019-02-03 01:57:00 3448.32\n",
      "Resample 3Min - TecAn ( windows 10, windows_limit 100 )\n",
      "Processing 999 of btcusd\n"
     ]
    },
    {
     "data": {
      "application/vnd.jupyter.widget-view+json": {
       "model_id": "59cb3d023e4e4799a6700e26376ffe63",
       "version_major": 2,
       "version_minor": 0
      },
      "text/plain": [
       "  0%|          | 0/999 [00:00<?, ?it/s]"
      ]
     },
     "metadata": {},
     "output_type": "display_data"
    },
    {
     "name": "stdout",
     "output_type": "stream",
     "text": [
      "https://www.bitstamp.net/api/v2/ohlc/ethusd/?&currency_pair=ethusd&step=180&limit=1000&start=1548979200\n",
      "Downloaded from 2019-02-01 00:00:00 to 2019-02-03 01:57:00 108.63\n",
      "Resample 3Min - TecAn ( windows 10, windows_limit 100 )\n",
      "Processing 999 of ethusd\n"
     ]
    },
    {
     "data": {
      "application/vnd.jupyter.widget-view+json": {
       "model_id": "7a4593716e2441aabc7ac277973f31be",
       "version_major": 2,
       "version_minor": 0
      },
      "text/plain": [
       "  0%|          | 0/999 [00:00<?, ?it/s]"
      ]
     },
     "metadata": {},
     "output_type": "display_data"
    },
    {
     "name": "stdout",
     "output_type": "stream",
     "text": [
      "https://www.bitstamp.net/api/v2/ohlc/ltcusd/?&currency_pair=ltcusd&step=180&limit=1000&start=1548979200\n",
      "Downloaded from 2019-02-01 00:00:00 to 2019-02-03 01:57:00 34.01\n",
      "Resample 3Min - TecAn ( windows 10, windows_limit 100 )\n",
      "Processing 999 of ltcusd\n"
     ]
    },
    {
     "data": {
      "application/vnd.jupyter.widget-view+json": {
       "model_id": "e6e25e096df74a4484950450dee36fe4",
       "version_major": 2,
       "version_minor": 0
      },
      "text/plain": [
       "  0%|          | 0/999 [00:00<?, ?it/s]"
      ]
     },
     "metadata": {},
     "output_type": "display_data"
    },
    {
     "name": "stdout",
     "output_type": "stream",
     "text": [
      "https://www.bitstamp.net/api/v2/ohlc/ltcbtc/?&currency_pair=ltcbtc&step=180&limit=1000&start=1548979200\n",
      "Downloaded from 2019-02-01 00:00:00 to 2019-02-03 01:57:00 0.00988827\n",
      "Resample 3Min - TecAn ( windows 10, windows_limit 100 )\n",
      "Processing 999 of ltcbtc\n"
     ]
    },
    {
     "data": {
      "application/vnd.jupyter.widget-view+json": {
       "model_id": "c23ad1e96112474c96adc31ad6e6fe32",
       "version_major": 2,
       "version_minor": 0
      },
      "text/plain": [
       "  0%|          | 0/999 [00:00<?, ?it/s]"
      ]
     },
     "metadata": {},
     "output_type": "display_data"
    },
    {
     "name": "stdout",
     "output_type": "stream",
     "text": [
      "https://www.bitstamp.net/api/v2/ohlc/btcusd/?&currency_pair=btcusd&step=180&limit=1000&start=1580515200\n",
      "Downloaded from 2020-02-01 00:00:00 to 2020-02-03 01:57:00 9540.01\n",
      "Resample 3Min - TecAn ( windows 10, windows_limit 100 )\n",
      "Processing 999 of btcusd\n"
     ]
    },
    {
     "data": {
      "application/vnd.jupyter.widget-view+json": {
       "model_id": "799884e49eba4038989f97bb555892d4",
       "version_major": 2,
       "version_minor": 0
      },
      "text/plain": [
       "  0%|          | 0/999 [00:00<?, ?it/s]"
      ]
     },
     "metadata": {},
     "output_type": "display_data"
    },
    {
     "name": "stdout",
     "output_type": "stream",
     "text": [
      "https://www.bitstamp.net/api/v2/ohlc/ethusd/?&currency_pair=ethusd&step=180&limit=1000&start=1580515200\n",
      "Downloaded from 2020-02-01 00:00:00 to 2020-02-03 01:57:00 193.14\n",
      "Resample 3Min - TecAn ( windows 10, windows_limit 100 )\n",
      "Processing 999 of ethusd\n"
     ]
    },
    {
     "data": {
      "application/vnd.jupyter.widget-view+json": {
       "model_id": "55eb90f967f74f99a6984e8e5f8b5bfc",
       "version_major": 2,
       "version_minor": 0
      },
      "text/plain": [
       "  0%|          | 0/999 [00:00<?, ?it/s]"
      ]
     },
     "metadata": {},
     "output_type": "display_data"
    },
    {
     "name": "stdout",
     "output_type": "stream",
     "text": [
      "https://www.bitstamp.net/api/v2/ohlc/ltcusd/?&currency_pair=ltcusd&step=180&limit=1000&start=1580515200\n",
      "Downloaded from 2020-02-01 00:00:00 to 2020-02-03 01:57:00 71.63\n",
      "Resample 3Min - TecAn ( windows 10, windows_limit 100 )\n",
      "Processing 999 of ltcusd\n"
     ]
    },
    {
     "data": {
      "application/vnd.jupyter.widget-view+json": {
       "model_id": "6676a580ed0f42adb73e059facf7417a",
       "version_major": 2,
       "version_minor": 0
      },
      "text/plain": [
       "  0%|          | 0/999 [00:00<?, ?it/s]"
      ]
     },
     "metadata": {},
     "output_type": "display_data"
    },
    {
     "name": "stdout",
     "output_type": "stream",
     "text": [
      "https://www.bitstamp.net/api/v2/ohlc/ltcbtc/?&currency_pair=ltcbtc&step=180&limit=1000&start=1580515200\n",
      "Downloaded from 2020-02-01 00:00:00 to 2020-02-03 01:57:00 0.00758690\n",
      "Resample 3Min - TecAn ( windows 10, windows_limit 100 )\n",
      "Processing 999 of ltcbtc\n"
     ]
    },
    {
     "data": {
      "application/vnd.jupyter.widget-view+json": {
       "model_id": "5b007a0059924bba84d6b6d5e69c0b9b",
       "version_major": 2,
       "version_minor": 0
      },
      "text/plain": [
       "  0%|          | 0/999 [00:00<?, ?it/s]"
      ]
     },
     "metadata": {},
     "output_type": "display_data"
    },
    {
     "name": "stdout",
     "output_type": "stream",
     "text": [
      "https://www.bitstamp.net/api/v2/ohlc/btcusd/?&currency_pair=btcusd&step=180&limit=1000&start=1612137600\n",
      "Downloaded from 2021-02-01 00:00:00 to 2021-02-03 01:57:00 35892.89\n",
      "Resample 3Min - TecAn ( windows 10, windows_limit 100 )\n",
      "Processing 999 of btcusd\n"
     ]
    },
    {
     "data": {
      "application/vnd.jupyter.widget-view+json": {
       "model_id": "0d9cffc3cc0d45d39d8eaad123630944",
       "version_major": 2,
       "version_minor": 0
      },
      "text/plain": [
       "  0%|          | 0/999 [00:00<?, ?it/s]"
      ]
     },
     "metadata": {},
     "output_type": "display_data"
    },
    {
     "name": "stdout",
     "output_type": "stream",
     "text": [
      "https://www.bitstamp.net/api/v2/ohlc/ethusd/?&currency_pair=ethusd&step=180&limit=1000&start=1612137600\n",
      "Downloaded from 2021-02-01 00:00:00 to 2021-02-03 01:57:00 1519.63\n",
      "Resample 3Min - TecAn ( windows 10, windows_limit 100 )\n",
      "Processing 999 of ethusd\n"
     ]
    },
    {
     "data": {
      "application/vnd.jupyter.widget-view+json": {
       "model_id": "afa646c3f0124fa89d0013eed50c3c94",
       "version_major": 2,
       "version_minor": 0
      },
      "text/plain": [
       "  0%|          | 0/999 [00:00<?, ?it/s]"
      ]
     },
     "metadata": {},
     "output_type": "display_data"
    },
    {
     "name": "stdout",
     "output_type": "stream",
     "text": [
      "https://www.bitstamp.net/api/v2/ohlc/ltcusd/?&currency_pair=ltcusd&step=180&limit=1000&start=1612137600\n",
      "Downloaded from 2021-02-01 00:00:00 to 2021-02-03 01:57:00 148.03\n",
      "Resample 3Min - TecAn ( windows 10, windows_limit 100 )\n",
      "Processing 999 of ltcusd\n"
     ]
    },
    {
     "data": {
      "application/vnd.jupyter.widget-view+json": {
       "model_id": "140c1a11d9d14936aa9dd55e234ede26",
       "version_major": 2,
       "version_minor": 0
      },
      "text/plain": [
       "  0%|          | 0/999 [00:00<?, ?it/s]"
      ]
     },
     "metadata": {},
     "output_type": "display_data"
    },
    {
     "name": "stdout",
     "output_type": "stream",
     "text": [
      "https://www.bitstamp.net/api/v2/ohlc/ltcbtc/?&currency_pair=ltcbtc&step=180&limit=1000&start=1612137600\n",
      "Downloaded from 2021-02-01 00:00:00 to 2021-02-03 01:57:00 0.00412009\n",
      "Resample 3Min - TecAn ( windows 10, windows_limit 100 )\n",
      "Processing 999 of ltcbtc\n"
     ]
    },
    {
     "data": {
      "application/vnd.jupyter.widget-view+json": {
       "model_id": "054c7b6cf20c4f6c8582c6588da63259",
       "version_major": 2,
       "version_minor": 0
      },
      "text/plain": [
       "  0%|          | 0/999 [00:00<?, ?it/s]"
      ]
     },
     "metadata": {},
     "output_type": "display_data"
    },
    {
     "name": "stdout",
     "output_type": "stream",
     "text": [
      "https://www.bitstamp.net/api/v2/ohlc/btcusd/?&currency_pair=btcusd&step=180&limit=1000&start=1623711600\n",
      "https://www.bitstamp.net/api/v2/ohlc/btcusd/?&currency_pair=btcusd&step=180&limit=1000&start=1623891420\n",
      "https://www.bitstamp.net/api/v2/ohlc/btcusd/?&currency_pair=btcusd&step=180&limit=1000&start=1624071240\n",
      "https://www.bitstamp.net/api/v2/ohlc/btcusd/?&currency_pair=btcusd&step=180&limit=1000&start=1624251060\n",
      "https://www.bitstamp.net/api/v2/ohlc/btcusd/?&currency_pair=btcusd&step=180&limit=1000&start=1624430880\n",
      "https://www.bitstamp.net/api/v2/ohlc/btcusd/?&currency_pair=btcusd&step=180&limit=1000&start=1624610700\n",
      "https://www.bitstamp.net/api/v2/ohlc/btcusd/?&currency_pair=btcusd&step=180&limit=1000&start=1624790520\n",
      "https://www.bitstamp.net/api/v2/ohlc/btcusd/?&currency_pair=btcusd&step=180&limit=1000&start=1624970340\n",
      "https://www.bitstamp.net/api/v2/ohlc/btcusd/?&currency_pair=btcusd&step=180&limit=1000&start=1625150160\n",
      "https://www.bitstamp.net/api/v2/ohlc/btcusd/?&currency_pair=btcusd&step=180&limit=1000&start=1625329980\n",
      "https://www.bitstamp.net/api/v2/ohlc/btcusd/?&currency_pair=btcusd&step=180&limit=1000&start=1625509800\n",
      "https://www.bitstamp.net/api/v2/ohlc/btcusd/?&currency_pair=btcusd&step=180&limit=1000&start=1625689620\n",
      "https://www.bitstamp.net/api/v2/ohlc/btcusd/?&currency_pair=btcusd&step=180&limit=1000&start=1625869440\n",
      "https://www.bitstamp.net/api/v2/ohlc/btcusd/?&currency_pair=btcusd&step=180&limit=1000&start=1626049260\n",
      "https://www.bitstamp.net/api/v2/ohlc/btcusd/?&currency_pair=btcusd&step=180&limit=1000&start=1626229080\n",
      "Downloaded from 2021-06-15 00:00:00 to 2021-07-15 00:03:00 32951.92\n",
      "Resample 3Min - TecAn ( windows 10, windows_limit 100 )\n",
      "Processing 14415 of btcusd\n"
     ]
    },
    {
     "data": {
      "application/vnd.jupyter.widget-view+json": {
       "model_id": "43f63da82ce549d998449e3be0740748",
       "version_major": 2,
       "version_minor": 0
      },
      "text/plain": [
       "  0%|          | 0/14415 [00:00<?, ?it/s]"
      ]
     },
     "metadata": {},
     "output_type": "display_data"
    },
    {
     "name": "stdout",
     "output_type": "stream",
     "text": [
      "https://www.bitstamp.net/api/v2/ohlc/ethusd/?&currency_pair=ethusd&step=180&limit=1000&start=1623711600\n",
      "https://www.bitstamp.net/api/v2/ohlc/ethusd/?&currency_pair=ethusd&step=180&limit=1000&start=1623891420\n",
      "https://www.bitstamp.net/api/v2/ohlc/ethusd/?&currency_pair=ethusd&step=180&limit=1000&start=1624071240\n",
      "https://www.bitstamp.net/api/v2/ohlc/ethusd/?&currency_pair=ethusd&step=180&limit=1000&start=1624251060\n",
      "https://www.bitstamp.net/api/v2/ohlc/ethusd/?&currency_pair=ethusd&step=180&limit=1000&start=1624430880\n",
      "https://www.bitstamp.net/api/v2/ohlc/ethusd/?&currency_pair=ethusd&step=180&limit=1000&start=1624610700\n",
      "https://www.bitstamp.net/api/v2/ohlc/ethusd/?&currency_pair=ethusd&step=180&limit=1000&start=1624790520\n",
      "https://www.bitstamp.net/api/v2/ohlc/ethusd/?&currency_pair=ethusd&step=180&limit=1000&start=1624970340\n",
      "https://www.bitstamp.net/api/v2/ohlc/ethusd/?&currency_pair=ethusd&step=180&limit=1000&start=1625150160\n",
      "https://www.bitstamp.net/api/v2/ohlc/ethusd/?&currency_pair=ethusd&step=180&limit=1000&start=1625329980\n",
      "https://www.bitstamp.net/api/v2/ohlc/ethusd/?&currency_pair=ethusd&step=180&limit=1000&start=1625509800\n",
      "https://www.bitstamp.net/api/v2/ohlc/ethusd/?&currency_pair=ethusd&step=180&limit=1000&start=1625689620\n",
      "https://www.bitstamp.net/api/v2/ohlc/ethusd/?&currency_pair=ethusd&step=180&limit=1000&start=1625869440\n",
      "https://www.bitstamp.net/api/v2/ohlc/ethusd/?&currency_pair=ethusd&step=180&limit=1000&start=1626049260\n",
      "https://www.bitstamp.net/api/v2/ohlc/ethusd/?&currency_pair=ethusd&step=180&limit=1000&start=1626229080\n",
      "Downloaded from 2021-06-15 00:00:00 to 2021-07-15 00:03:00 2002.95\n",
      "Resample 3Min - TecAn ( windows 10, windows_limit 100 )\n",
      "Processing 14415 of ethusd\n"
     ]
    },
    {
     "data": {
      "application/vnd.jupyter.widget-view+json": {
       "model_id": "6375c936e38046bcbc58baeec7df9963",
       "version_major": 2,
       "version_minor": 0
      },
      "text/plain": [
       "  0%|          | 0/14415 [00:00<?, ?it/s]"
      ]
     },
     "metadata": {},
     "output_type": "display_data"
    },
    {
     "name": "stdout",
     "output_type": "stream",
     "text": [
      "https://www.bitstamp.net/api/v2/ohlc/ltcusd/?&currency_pair=ltcusd&step=180&limit=1000&start=1623711600\n",
      "https://www.bitstamp.net/api/v2/ohlc/ltcusd/?&currency_pair=ltcusd&step=180&limit=1000&start=1623891420\n",
      "https://www.bitstamp.net/api/v2/ohlc/ltcusd/?&currency_pair=ltcusd&step=180&limit=1000&start=1624071240\n",
      "https://www.bitstamp.net/api/v2/ohlc/ltcusd/?&currency_pair=ltcusd&step=180&limit=1000&start=1624251060\n",
      "https://www.bitstamp.net/api/v2/ohlc/ltcusd/?&currency_pair=ltcusd&step=180&limit=1000&start=1624430880\n",
      "https://www.bitstamp.net/api/v2/ohlc/ltcusd/?&currency_pair=ltcusd&step=180&limit=1000&start=1624610700\n",
      "https://www.bitstamp.net/api/v2/ohlc/ltcusd/?&currency_pair=ltcusd&step=180&limit=1000&start=1624790520\n",
      "https://www.bitstamp.net/api/v2/ohlc/ltcusd/?&currency_pair=ltcusd&step=180&limit=1000&start=1624970340\n",
      "https://www.bitstamp.net/api/v2/ohlc/ltcusd/?&currency_pair=ltcusd&step=180&limit=1000&start=1625150160\n",
      "https://www.bitstamp.net/api/v2/ohlc/ltcusd/?&currency_pair=ltcusd&step=180&limit=1000&start=1625329980\n",
      "https://www.bitstamp.net/api/v2/ohlc/ltcusd/?&currency_pair=ltcusd&step=180&limit=1000&start=1625509800\n",
      "https://www.bitstamp.net/api/v2/ohlc/ltcusd/?&currency_pair=ltcusd&step=180&limit=1000&start=1625689620\n",
      "https://www.bitstamp.net/api/v2/ohlc/ltcusd/?&currency_pair=ltcusd&step=180&limit=1000&start=1625869440\n",
      "https://www.bitstamp.net/api/v2/ohlc/ltcusd/?&currency_pair=ltcusd&step=180&limit=1000&start=1626049260\n",
      "https://www.bitstamp.net/api/v2/ohlc/ltcusd/?&currency_pair=ltcusd&step=180&limit=1000&start=1626229080\n",
      "Downloaded from 2021-06-15 00:00:00 to 2021-07-15 00:03:00 131.22\n",
      "Resample 3Min - TecAn ( windows 10, windows_limit 100 )\n",
      "Processing 14415 of ltcusd\n"
     ]
    },
    {
     "data": {
      "application/vnd.jupyter.widget-view+json": {
       "model_id": "6c0c65aee8a84cf58d6240e71c812d35",
       "version_major": 2,
       "version_minor": 0
      },
      "text/plain": [
       "  0%|          | 0/14415 [00:00<?, ?it/s]"
      ]
     },
     "metadata": {},
     "output_type": "display_data"
    },
    {
     "name": "stdout",
     "output_type": "stream",
     "text": [
      "https://www.bitstamp.net/api/v2/ohlc/ltcbtc/?&currency_pair=ltcbtc&step=180&limit=1000&start=1623711600\n",
      "https://www.bitstamp.net/api/v2/ohlc/ltcbtc/?&currency_pair=ltcbtc&step=180&limit=1000&start=1623891420\n",
      "https://www.bitstamp.net/api/v2/ohlc/ltcbtc/?&currency_pair=ltcbtc&step=180&limit=1000&start=1624071240\n",
      "https://www.bitstamp.net/api/v2/ohlc/ltcbtc/?&currency_pair=ltcbtc&step=180&limit=1000&start=1624251060\n",
      "https://www.bitstamp.net/api/v2/ohlc/ltcbtc/?&currency_pair=ltcbtc&step=180&limit=1000&start=1624430880\n",
      "https://www.bitstamp.net/api/v2/ohlc/ltcbtc/?&currency_pair=ltcbtc&step=180&limit=1000&start=1624610700\n",
      "https://www.bitstamp.net/api/v2/ohlc/ltcbtc/?&currency_pair=ltcbtc&step=180&limit=1000&start=1624790520\n",
      "https://www.bitstamp.net/api/v2/ohlc/ltcbtc/?&currency_pair=ltcbtc&step=180&limit=1000&start=1624970340\n",
      "https://www.bitstamp.net/api/v2/ohlc/ltcbtc/?&currency_pair=ltcbtc&step=180&limit=1000&start=1625150160\n",
      "https://www.bitstamp.net/api/v2/ohlc/ltcbtc/?&currency_pair=ltcbtc&step=180&limit=1000&start=1625329980\n",
      "https://www.bitstamp.net/api/v2/ohlc/ltcbtc/?&currency_pair=ltcbtc&step=180&limit=1000&start=1625509800\n",
      "https://www.bitstamp.net/api/v2/ohlc/ltcbtc/?&currency_pair=ltcbtc&step=180&limit=1000&start=1625689620\n",
      "https://www.bitstamp.net/api/v2/ohlc/ltcbtc/?&currency_pair=ltcbtc&step=180&limit=1000&start=1625869440\n",
      "https://www.bitstamp.net/api/v2/ohlc/ltcbtc/?&currency_pair=ltcbtc&step=180&limit=1000&start=1626049260\n",
      "https://www.bitstamp.net/api/v2/ohlc/ltcbtc/?&currency_pair=ltcbtc&step=180&limit=1000&start=1626229080\n",
      "Downloaded from 2021-06-15 00:00:00 to 2021-07-15 00:03:00 0.00398347\n",
      "Resample 3Min - TecAn ( windows 10, windows_limit 100 )\n",
      "Processing 14415 of ltcbtc\n"
     ]
    },
    {
     "data": {
      "application/vnd.jupyter.widget-view+json": {
       "model_id": "71890e5b467b422e89f42b7916d55967",
       "version_major": 2,
       "version_minor": 0
      },
      "text/plain": [
       "  0%|          | 0/14415 [00:00<?, ?it/s]"
      ]
     },
     "metadata": {},
     "output_type": "display_data"
    },
    {
     "name": "stdout",
     "output_type": "stream",
     "text": [
      "https://www.bitstamp.net/api/v2/ohlc/btcusd/?&currency_pair=btcusd&step=180&limit=1000&start=1622502000\n",
      "Downloaded from 2021-06-01 00:00:00 to 2021-06-03 01:57:00 37436.78\n",
      "Resample 3Min - TecAn ( windows 20, windows_limit 100 )\n",
      "Processing 999 of btcusd\n"
     ]
    },
    {
     "data": {
      "application/vnd.jupyter.widget-view+json": {
       "model_id": "6863c2014eca4d5d99237a90b571911f",
       "version_major": 2,
       "version_minor": 0
      },
      "text/plain": [
       "  0%|          | 0/999 [00:00<?, ?it/s]"
      ]
     },
     "metadata": {},
     "output_type": "display_data"
    },
    {
     "name": "stdout",
     "output_type": "stream",
     "text": [
      "https://www.bitstamp.net/api/v2/ohlc/ethusd/?&currency_pair=ethusd&step=180&limit=1000&start=1622502000\n",
      "Downloaded from 2021-06-01 00:00:00 to 2021-06-03 01:57:00 2702.14\n",
      "Resample 3Min - TecAn ( windows 20, windows_limit 100 )\n",
      "Processing 999 of ethusd\n"
     ]
    },
    {
     "data": {
      "application/vnd.jupyter.widget-view+json": {
       "model_id": "a8f65c2b9faa46fb939da6508665138c",
       "version_major": 2,
       "version_minor": 0
      },
      "text/plain": [
       "  0%|          | 0/999 [00:00<?, ?it/s]"
      ]
     },
     "metadata": {},
     "output_type": "display_data"
    },
    {
     "name": "stdout",
     "output_type": "stream",
     "text": [
      "https://www.bitstamp.net/api/v2/ohlc/ltcusd/?&currency_pair=ltcusd&step=180&limit=1000&start=1622502000\n",
      "Downloaded from 2021-06-01 00:00:00 to 2021-06-03 01:57:00 185.00\n",
      "Resample 3Min - TecAn ( windows 20, windows_limit 100 )\n",
      "Processing 999 of ltcusd\n"
     ]
    },
    {
     "data": {
      "application/vnd.jupyter.widget-view+json": {
       "model_id": "7ec22cd7b74a44439548af9b6c736535",
       "version_major": 2,
       "version_minor": 0
      },
      "text/plain": [
       "  0%|          | 0/999 [00:00<?, ?it/s]"
      ]
     },
     "metadata": {},
     "output_type": "display_data"
    },
    {
     "name": "stdout",
     "output_type": "stream",
     "text": [
      "https://www.bitstamp.net/api/v2/ohlc/ltcbtc/?&currency_pair=ltcbtc&step=180&limit=1000&start=1622502000\n",
      "Downloaded from 2021-06-01 00:00:00 to 2021-06-03 01:57:00 0.00494481\n",
      "Resample 3Min - TecAn ( windows 20, windows_limit 100 )\n",
      "Processing 999 of ltcbtc\n"
     ]
    },
    {
     "data": {
      "application/vnd.jupyter.widget-view+json": {
       "model_id": "d06135aba8bc4898a343bfc8046ad726",
       "version_major": 2,
       "version_minor": 0
      },
      "text/plain": [
       "  0%|          | 0/999 [00:00<?, ?it/s]"
      ]
     },
     "metadata": {},
     "output_type": "display_data"
    },
    {
     "name": "stdout",
     "output_type": "stream",
     "text": [
      "https://www.bitstamp.net/api/v2/ohlc/btcusd/?&currency_pair=btcusd&step=180&limit=1000&start=1590966000\n",
      "Downloaded from 2020-06-01 00:00:00 to 2020-06-03 01:57:00 9525.82\n",
      "Resample 3Min - TecAn ( windows 20, windows_limit 100 )\n",
      "Processing 999 of btcusd\n"
     ]
    },
    {
     "data": {
      "application/vnd.jupyter.widget-view+json": {
       "model_id": "1c2c136c87114790b3b9e27e2ae38855",
       "version_major": 2,
       "version_minor": 0
      },
      "text/plain": [
       "  0%|          | 0/999 [00:00<?, ?it/s]"
      ]
     },
     "metadata": {},
     "output_type": "display_data"
    },
    {
     "name": "stdout",
     "output_type": "stream",
     "text": [
      "https://www.bitstamp.net/api/v2/ohlc/ethusd/?&currency_pair=ethusd&step=180&limit=1000&start=1590966000\n",
      "Downloaded from 2020-06-01 00:00:00 to 2020-06-03 01:57:00 237.99\n",
      "Resample 3Min - TecAn ( windows 20, windows_limit 100 )\n",
      "Processing 999 of ethusd\n"
     ]
    },
    {
     "data": {
      "application/vnd.jupyter.widget-view+json": {
       "model_id": "b1b0e0249df94b739f540097c337dc20",
       "version_major": 2,
       "version_minor": 0
      },
      "text/plain": [
       "  0%|          | 0/999 [00:00<?, ?it/s]"
      ]
     },
     "metadata": {},
     "output_type": "display_data"
    },
    {
     "name": "stdout",
     "output_type": "stream",
     "text": [
      "https://www.bitstamp.net/api/v2/ohlc/ltcusd/?&currency_pair=ltcusd&step=180&limit=1000&start=1590966000\n",
      "Downloaded from 2020-06-01 00:00:00 to 2020-06-03 01:57:00 46.08\n",
      "Resample 3Min - TecAn ( windows 20, windows_limit 100 )\n",
      "Processing 999 of ltcusd\n"
     ]
    },
    {
     "data": {
      "application/vnd.jupyter.widget-view+json": {
       "model_id": "c22227683d1c45049c87110f1fb79cbc",
       "version_major": 2,
       "version_minor": 0
      },
      "text/plain": [
       "  0%|          | 0/999 [00:00<?, ?it/s]"
      ]
     },
     "metadata": {},
     "output_type": "display_data"
    },
    {
     "name": "stdout",
     "output_type": "stream",
     "text": [
      "https://www.bitstamp.net/api/v2/ohlc/ltcbtc/?&currency_pair=ltcbtc&step=180&limit=1000&start=1590966000\n",
      "Downloaded from 2020-06-01 00:00:00 to 2020-06-03 01:57:00 0.00484476\n",
      "Resample 3Min - TecAn ( windows 20, windows_limit 100 )\n",
      "Processing 999 of ltcbtc\n"
     ]
    },
    {
     "data": {
      "application/vnd.jupyter.widget-view+json": {
       "model_id": "cd0e83eeca024d5685bc0eab64507014",
       "version_major": 2,
       "version_minor": 0
      },
      "text/plain": [
       "  0%|          | 0/999 [00:00<?, ?it/s]"
      ]
     },
     "metadata": {},
     "output_type": "display_data"
    },
    {
     "name": "stdout",
     "output_type": "stream",
     "text": [
      "https://www.bitstamp.net/api/v2/ohlc/btcusd/?&currency_pair=btcusd&step=180&limit=1000&start=1559343600\n",
      "Downloaded from 2019-06-01 00:00:00 to 2019-06-03 01:57:00 8681.59\n",
      "Resample 3Min - TecAn ( windows 20, windows_limit 100 )\n",
      "Processing 999 of btcusd\n"
     ]
    },
    {
     "data": {
      "application/vnd.jupyter.widget-view+json": {
       "model_id": "ac3a2d51fb9f4b339b82a61d4da3a7d5",
       "version_major": 2,
       "version_minor": 0
      },
      "text/plain": [
       "  0%|          | 0/999 [00:00<?, ?it/s]"
      ]
     },
     "metadata": {},
     "output_type": "display_data"
    },
    {
     "name": "stdout",
     "output_type": "stream",
     "text": [
      "https://www.bitstamp.net/api/v2/ohlc/ethusd/?&currency_pair=ethusd&step=180&limit=1000&start=1559343600\n",
      "Downloaded from 2019-06-01 00:00:00 to 2019-06-03 01:57:00 266.63\n",
      "Resample 3Min - TecAn ( windows 20, windows_limit 100 )\n",
      "Processing 999 of ethusd\n"
     ]
    },
    {
     "data": {
      "application/vnd.jupyter.widget-view+json": {
       "model_id": "09635fa580f049cb86bbc68416691ad6",
       "version_major": 2,
       "version_minor": 0
      },
      "text/plain": [
       "  0%|          | 0/999 [00:00<?, ?it/s]"
      ]
     },
     "metadata": {},
     "output_type": "display_data"
    },
    {
     "name": "stdout",
     "output_type": "stream",
     "text": [
      "https://www.bitstamp.net/api/v2/ohlc/ltcusd/?&currency_pair=ltcusd&step=180&limit=1000&start=1559343600\n",
      "Downloaded from 2019-06-01 00:00:00 to 2019-06-03 01:57:00 113.86\n",
      "Resample 3Min - TecAn ( windows 20, windows_limit 100 )\n",
      "Processing 999 of ltcusd\n"
     ]
    },
    {
     "data": {
      "application/vnd.jupyter.widget-view+json": {
       "model_id": "31a65f92363f43008041c33ded184c8f",
       "version_major": 2,
       "version_minor": 0
      },
      "text/plain": [
       "  0%|          | 0/999 [00:00<?, ?it/s]"
      ]
     },
     "metadata": {},
     "output_type": "display_data"
    },
    {
     "name": "stdout",
     "output_type": "stream",
     "text": [
      "https://www.bitstamp.net/api/v2/ohlc/ltcbtc/?&currency_pair=ltcbtc&step=180&limit=1000&start=1559343600\n",
      "Downloaded from 2019-06-01 00:00:00 to 2019-06-03 01:57:00 0.01310000\n",
      "Resample 3Min - TecAn ( windows 20, windows_limit 100 )\n",
      "Processing 999 of ltcbtc\n"
     ]
    },
    {
     "data": {
      "application/vnd.jupyter.widget-view+json": {
       "model_id": "cb6568ee463a4eebbd80178ec1cb8cb8",
       "version_major": 2,
       "version_minor": 0
      },
      "text/plain": [
       "  0%|          | 0/999 [00:00<?, ?it/s]"
      ]
     },
     "metadata": {},
     "output_type": "display_data"
    },
    {
     "name": "stdout",
     "output_type": "stream",
     "text": [
      "https://www.bitstamp.net/api/v2/ohlc/btcusd/?&currency_pair=btcusd&step=180&limit=1000&start=1527807600\n",
      "Downloaded from 2018-06-01 00:00:00 to 2018-06-03 01:57:00 7653.99\n",
      "Resample 3Min - TecAn ( windows 20, windows_limit 100 )\n",
      "Processing 999 of btcusd\n"
     ]
    },
    {
     "data": {
      "application/vnd.jupyter.widget-view+json": {
       "model_id": "b1999f7c6f3b435685050fdebfb2ae3b",
       "version_major": 2,
       "version_minor": 0
      },
      "text/plain": [
       "  0%|          | 0/999 [00:00<?, ?it/s]"
      ]
     },
     "metadata": {},
     "output_type": "display_data"
    },
    {
     "name": "stdout",
     "output_type": "stream",
     "text": [
      "https://www.bitstamp.net/api/v2/ohlc/ethusd/?&currency_pair=ethusd&step=180&limit=1000&start=1527807600\n",
      "Downloaded from 2018-06-01 00:00:00 to 2018-06-03 01:57:00 592.70\n",
      "Resample 3Min - TecAn ( windows 20, windows_limit 100 )\n",
      "Processing 999 of ethusd\n"
     ]
    },
    {
     "data": {
      "application/vnd.jupyter.widget-view+json": {
       "model_id": "e1dba821297746898ac06e9f86837497",
       "version_major": 2,
       "version_minor": 0
      },
      "text/plain": [
       "  0%|          | 0/999 [00:00<?, ?it/s]"
      ]
     },
     "metadata": {},
     "output_type": "display_data"
    },
    {
     "name": "stdout",
     "output_type": "stream",
     "text": [
      "https://www.bitstamp.net/api/v2/ohlc/ltcusd/?&currency_pair=ltcusd&step=180&limit=1000&start=1527807600\n",
      "Downloaded from 2018-06-01 00:00:00 to 2018-06-03 01:57:00 123.64\n",
      "Resample 3Min - TecAn ( windows 20, windows_limit 100 )\n",
      "Processing 999 of ltcusd\n"
     ]
    },
    {
     "data": {
      "application/vnd.jupyter.widget-view+json": {
       "model_id": "49642e529e64450e9dc5df7df262981f",
       "version_major": 2,
       "version_minor": 0
      },
      "text/plain": [
       "  0%|          | 0/999 [00:00<?, ?it/s]"
      ]
     },
     "metadata": {},
     "output_type": "display_data"
    },
    {
     "name": "stdout",
     "output_type": "stream",
     "text": [
      "https://www.bitstamp.net/api/v2/ohlc/ltcbtc/?&currency_pair=ltcbtc&step=180&limit=1000&start=1527807600\n",
      "Downloaded from 2018-06-01 00:00:00 to 2018-06-03 01:57:00 0.01614501\n",
      "Resample 3Min - TecAn ( windows 20, windows_limit 100 )\n",
      "Processing 999 of ltcbtc\n"
     ]
    },
    {
     "data": {
      "application/vnd.jupyter.widget-view+json": {
       "model_id": "6d7e1abd27844f24b281414680c44cb1",
       "version_major": 2,
       "version_minor": 0
      },
      "text/plain": [
       "  0%|          | 0/999 [00:00<?, ?it/s]"
      ]
     },
     "metadata": {},
     "output_type": "display_data"
    },
    {
     "name": "stdout",
     "output_type": "stream",
     "text": [
      "https://www.bitstamp.net/api/v2/ohlc/btcusd/?&currency_pair=btcusd&step=180&limit=1000&start=1517443200\n",
      "Downloaded from 2018-02-01 00:00:00 to 2018-02-03 01:57:00 8563.00\n",
      "Resample 3Min - TecAn ( windows 20, windows_limit 100 )\n",
      "Processing 999 of btcusd\n"
     ]
    },
    {
     "data": {
      "application/vnd.jupyter.widget-view+json": {
       "model_id": "1badad74df3942ca9ac7fb50ab342fae",
       "version_major": 2,
       "version_minor": 0
      },
      "text/plain": [
       "  0%|          | 0/999 [00:00<?, ?it/s]"
      ]
     },
     "metadata": {},
     "output_type": "display_data"
    },
    {
     "name": "stdout",
     "output_type": "stream",
     "text": [
      "https://www.bitstamp.net/api/v2/ohlc/ethusd/?&currency_pair=ethusd&step=180&limit=1000&start=1517443200\n",
      "Downloaded from 2018-02-01 00:00:00 to 2018-02-03 01:57:00 894.06\n",
      "Resample 3Min - TecAn ( windows 20, windows_limit 100 )\n",
      "Processing 999 of ethusd\n"
     ]
    },
    {
     "data": {
      "application/vnd.jupyter.widget-view+json": {
       "model_id": "0a0fda50ef1346fdae0795d0c7c4969b",
       "version_major": 2,
       "version_minor": 0
      },
      "text/plain": [
       "  0%|          | 0/999 [00:00<?, ?it/s]"
      ]
     },
     "metadata": {},
     "output_type": "display_data"
    },
    {
     "name": "stdout",
     "output_type": "stream",
     "text": [
      "https://www.bitstamp.net/api/v2/ohlc/ltcusd/?&currency_pair=ltcusd&step=180&limit=1000&start=1517443200\n",
      "Downloaded from 2018-02-01 00:00:00 to 2018-02-03 01:57:00 127.76\n",
      "Resample 3Min - TecAn ( windows 20, windows_limit 100 )\n",
      "Processing 999 of ltcusd\n"
     ]
    },
    {
     "data": {
      "application/vnd.jupyter.widget-view+json": {
       "model_id": "bcf36d1ce77048dcad54beafff5947af",
       "version_major": 2,
       "version_minor": 0
      },
      "text/plain": [
       "  0%|          | 0/999 [00:00<?, ?it/s]"
      ]
     },
     "metadata": {},
     "output_type": "display_data"
    },
    {
     "name": "stdout",
     "output_type": "stream",
     "text": [
      "https://www.bitstamp.net/api/v2/ohlc/ltcbtc/?&currency_pair=ltcbtc&step=180&limit=1000&start=1517443200\n",
      "Downloaded from 2018-02-01 00:00:00 to 2018-02-03 01:57:00 0.01497000\n",
      "Resample 3Min - TecAn ( windows 20, windows_limit 100 )\n",
      "Processing 999 of ltcbtc\n"
     ]
    },
    {
     "data": {
      "application/vnd.jupyter.widget-view+json": {
       "model_id": "295225ee36a14b14bd5c9169b734cf5d",
       "version_major": 2,
       "version_minor": 0
      },
      "text/plain": [
       "  0%|          | 0/999 [00:00<?, ?it/s]"
      ]
     },
     "metadata": {},
     "output_type": "display_data"
    },
    {
     "name": "stdout",
     "output_type": "stream",
     "text": [
      "https://www.bitstamp.net/api/v2/ohlc/btcusd/?&currency_pair=btcusd&step=180&limit=1000&start=1548979200\n",
      "Downloaded from 2019-02-01 00:00:00 to 2019-02-03 01:57:00 3448.32\n",
      "Resample 3Min - TecAn ( windows 20, windows_limit 100 )\n",
      "Processing 999 of btcusd\n"
     ]
    },
    {
     "data": {
      "application/vnd.jupyter.widget-view+json": {
       "model_id": "cfe4046ccf3140bb990614583787b38f",
       "version_major": 2,
       "version_minor": 0
      },
      "text/plain": [
       "  0%|          | 0/999 [00:00<?, ?it/s]"
      ]
     },
     "metadata": {},
     "output_type": "display_data"
    },
    {
     "name": "stdout",
     "output_type": "stream",
     "text": [
      "https://www.bitstamp.net/api/v2/ohlc/ethusd/?&currency_pair=ethusd&step=180&limit=1000&start=1548979200\n",
      "Downloaded from 2019-02-01 00:00:00 to 2019-02-03 01:57:00 108.63\n",
      "Resample 3Min - TecAn ( windows 20, windows_limit 100 )\n",
      "Processing 999 of ethusd\n"
     ]
    },
    {
     "data": {
      "application/vnd.jupyter.widget-view+json": {
       "model_id": "e89ccd62e7d840cabc6e7c3326c4432c",
       "version_major": 2,
       "version_minor": 0
      },
      "text/plain": [
       "  0%|          | 0/999 [00:00<?, ?it/s]"
      ]
     },
     "metadata": {},
     "output_type": "display_data"
    },
    {
     "name": "stdout",
     "output_type": "stream",
     "text": [
      "https://www.bitstamp.net/api/v2/ohlc/ltcusd/?&currency_pair=ltcusd&step=180&limit=1000&start=1548979200\n",
      "Downloaded from 2019-02-01 00:00:00 to 2019-02-03 01:57:00 34.01\n",
      "Resample 3Min - TecAn ( windows 20, windows_limit 100 )\n",
      "Processing 999 of ltcusd\n"
     ]
    },
    {
     "data": {
      "application/vnd.jupyter.widget-view+json": {
       "model_id": "f83b9998fb494bd6a433260254fbc2f5",
       "version_major": 2,
       "version_minor": 0
      },
      "text/plain": [
       "  0%|          | 0/999 [00:00<?, ?it/s]"
      ]
     },
     "metadata": {},
     "output_type": "display_data"
    },
    {
     "name": "stdout",
     "output_type": "stream",
     "text": [
      "https://www.bitstamp.net/api/v2/ohlc/ltcbtc/?&currency_pair=ltcbtc&step=180&limit=1000&start=1548979200\n",
      "Downloaded from 2019-02-01 00:00:00 to 2019-02-03 01:57:00 0.00988827\n",
      "Resample 3Min - TecAn ( windows 20, windows_limit 100 )\n",
      "Processing 999 of ltcbtc\n"
     ]
    },
    {
     "data": {
      "application/vnd.jupyter.widget-view+json": {
       "model_id": "121bba8971944abb8b5c5a3f22854476",
       "version_major": 2,
       "version_minor": 0
      },
      "text/plain": [
       "  0%|          | 0/999 [00:00<?, ?it/s]"
      ]
     },
     "metadata": {},
     "output_type": "display_data"
    },
    {
     "name": "stdout",
     "output_type": "stream",
     "text": [
      "https://www.bitstamp.net/api/v2/ohlc/btcusd/?&currency_pair=btcusd&step=180&limit=1000&start=1580515200\n",
      "Downloaded from 2020-02-01 00:00:00 to 2020-02-03 01:57:00 9540.01\n",
      "Resample 3Min - TecAn ( windows 20, windows_limit 100 )\n",
      "Processing 999 of btcusd\n"
     ]
    },
    {
     "data": {
      "application/vnd.jupyter.widget-view+json": {
       "model_id": "3988bd7e8e89431480ea8bc5a292f987",
       "version_major": 2,
       "version_minor": 0
      },
      "text/plain": [
       "  0%|          | 0/999 [00:00<?, ?it/s]"
      ]
     },
     "metadata": {},
     "output_type": "display_data"
    },
    {
     "name": "stdout",
     "output_type": "stream",
     "text": [
      "https://www.bitstamp.net/api/v2/ohlc/ethusd/?&currency_pair=ethusd&step=180&limit=1000&start=1580515200\n",
      "Downloaded from 2020-02-01 00:00:00 to 2020-02-03 01:57:00 193.14\n",
      "Resample 3Min - TecAn ( windows 20, windows_limit 100 )\n",
      "Processing 999 of ethusd\n"
     ]
    },
    {
     "data": {
      "application/vnd.jupyter.widget-view+json": {
       "model_id": "ba0d122f3d1e4bd8bdaaf499abf1225a",
       "version_major": 2,
       "version_minor": 0
      },
      "text/plain": [
       "  0%|          | 0/999 [00:00<?, ?it/s]"
      ]
     },
     "metadata": {},
     "output_type": "display_data"
    },
    {
     "name": "stdout",
     "output_type": "stream",
     "text": [
      "https://www.bitstamp.net/api/v2/ohlc/ltcusd/?&currency_pair=ltcusd&step=180&limit=1000&start=1580515200\n",
      "Downloaded from 2020-02-01 00:00:00 to 2020-02-03 01:57:00 71.63\n",
      "Resample 3Min - TecAn ( windows 20, windows_limit 100 )\n",
      "Processing 999 of ltcusd\n"
     ]
    },
    {
     "data": {
      "application/vnd.jupyter.widget-view+json": {
       "model_id": "968fba1c22a54867bde1a70b2b65263c",
       "version_major": 2,
       "version_minor": 0
      },
      "text/plain": [
       "  0%|          | 0/999 [00:00<?, ?it/s]"
      ]
     },
     "metadata": {},
     "output_type": "display_data"
    },
    {
     "name": "stdout",
     "output_type": "stream",
     "text": [
      "https://www.bitstamp.net/api/v2/ohlc/ltcbtc/?&currency_pair=ltcbtc&step=180&limit=1000&start=1580515200\n",
      "Downloaded from 2020-02-01 00:00:00 to 2020-02-03 01:57:00 0.00758690\n",
      "Resample 3Min - TecAn ( windows 20, windows_limit 100 )\n",
      "Processing 999 of ltcbtc\n"
     ]
    },
    {
     "data": {
      "application/vnd.jupyter.widget-view+json": {
       "model_id": "367ff6f0f6ae452cabee812424a69fb2",
       "version_major": 2,
       "version_minor": 0
      },
      "text/plain": [
       "  0%|          | 0/999 [00:00<?, ?it/s]"
      ]
     },
     "metadata": {},
     "output_type": "display_data"
    },
    {
     "name": "stdout",
     "output_type": "stream",
     "text": [
      "https://www.bitstamp.net/api/v2/ohlc/btcusd/?&currency_pair=btcusd&step=180&limit=1000&start=1612137600\n",
      "Downloaded from 2021-02-01 00:00:00 to 2021-02-03 01:57:00 35892.89\n",
      "Resample 3Min - TecAn ( windows 20, windows_limit 100 )\n",
      "Processing 999 of btcusd\n"
     ]
    },
    {
     "data": {
      "application/vnd.jupyter.widget-view+json": {
       "model_id": "d7d0b0e8e5314f468960427ceeab0638",
       "version_major": 2,
       "version_minor": 0
      },
      "text/plain": [
       "  0%|          | 0/999 [00:00<?, ?it/s]"
      ]
     },
     "metadata": {},
     "output_type": "display_data"
    },
    {
     "name": "stdout",
     "output_type": "stream",
     "text": [
      "https://www.bitstamp.net/api/v2/ohlc/ethusd/?&currency_pair=ethusd&step=180&limit=1000&start=1612137600\n",
      "Downloaded from 2021-02-01 00:00:00 to 2021-02-03 01:57:00 1519.63\n",
      "Resample 3Min - TecAn ( windows 20, windows_limit 100 )\n",
      "Processing 999 of ethusd\n"
     ]
    },
    {
     "data": {
      "application/vnd.jupyter.widget-view+json": {
       "model_id": "2463b9118cb84eaa953e96e9febcbab1",
       "version_major": 2,
       "version_minor": 0
      },
      "text/plain": [
       "  0%|          | 0/999 [00:00<?, ?it/s]"
      ]
     },
     "metadata": {},
     "output_type": "display_data"
    },
    {
     "name": "stdout",
     "output_type": "stream",
     "text": [
      "https://www.bitstamp.net/api/v2/ohlc/ltcusd/?&currency_pair=ltcusd&step=180&limit=1000&start=1612137600\n",
      "Downloaded from 2021-02-01 00:00:00 to 2021-02-03 01:57:00 148.03\n",
      "Resample 3Min - TecAn ( windows 20, windows_limit 100 )\n",
      "Processing 999 of ltcusd\n"
     ]
    },
    {
     "data": {
      "application/vnd.jupyter.widget-view+json": {
       "model_id": "014659b21e8e40cea13f03fb8cbb238e",
       "version_major": 2,
       "version_minor": 0
      },
      "text/plain": [
       "  0%|          | 0/999 [00:00<?, ?it/s]"
      ]
     },
     "metadata": {},
     "output_type": "display_data"
    },
    {
     "name": "stdout",
     "output_type": "stream",
     "text": [
      "https://www.bitstamp.net/api/v2/ohlc/ltcbtc/?&currency_pair=ltcbtc&step=180&limit=1000&start=1612137600\n",
      "Downloaded from 2021-02-01 00:00:00 to 2021-02-03 01:57:00 0.00412009\n",
      "Resample 3Min - TecAn ( windows 20, windows_limit 100 )\n",
      "Processing 999 of ltcbtc\n"
     ]
    },
    {
     "data": {
      "application/vnd.jupyter.widget-view+json": {
       "model_id": "edc24c12ae9c4b9cbc3cab7967215990",
       "version_major": 2,
       "version_minor": 0
      },
      "text/plain": [
       "  0%|          | 0/999 [00:00<?, ?it/s]"
      ]
     },
     "metadata": {},
     "output_type": "display_data"
    },
    {
     "name": "stdout",
     "output_type": "stream",
     "text": [
      "https://www.bitstamp.net/api/v2/ohlc/btcusd/?&currency_pair=btcusd&step=180&limit=1000&start=1623711600\n",
      "https://www.bitstamp.net/api/v2/ohlc/btcusd/?&currency_pair=btcusd&step=180&limit=1000&start=1623891420\n",
      "https://www.bitstamp.net/api/v2/ohlc/btcusd/?&currency_pair=btcusd&step=180&limit=1000&start=1624071240\n",
      "https://www.bitstamp.net/api/v2/ohlc/btcusd/?&currency_pair=btcusd&step=180&limit=1000&start=1624251060\n",
      "https://www.bitstamp.net/api/v2/ohlc/btcusd/?&currency_pair=btcusd&step=180&limit=1000&start=1624430880\n",
      "https://www.bitstamp.net/api/v2/ohlc/btcusd/?&currency_pair=btcusd&step=180&limit=1000&start=1624610700\n",
      "https://www.bitstamp.net/api/v2/ohlc/btcusd/?&currency_pair=btcusd&step=180&limit=1000&start=1624790520\n",
      "https://www.bitstamp.net/api/v2/ohlc/btcusd/?&currency_pair=btcusd&step=180&limit=1000&start=1624970340\n",
      "https://www.bitstamp.net/api/v2/ohlc/btcusd/?&currency_pair=btcusd&step=180&limit=1000&start=1625150160\n",
      "https://www.bitstamp.net/api/v2/ohlc/btcusd/?&currency_pair=btcusd&step=180&limit=1000&start=1625329980\n",
      "https://www.bitstamp.net/api/v2/ohlc/btcusd/?&currency_pair=btcusd&step=180&limit=1000&start=1625509800\n",
      "https://www.bitstamp.net/api/v2/ohlc/btcusd/?&currency_pair=btcusd&step=180&limit=1000&start=1625689620\n",
      "https://www.bitstamp.net/api/v2/ohlc/btcusd/?&currency_pair=btcusd&step=180&limit=1000&start=1625869440\n",
      "https://www.bitstamp.net/api/v2/ohlc/btcusd/?&currency_pair=btcusd&step=180&limit=1000&start=1626049260\n",
      "https://www.bitstamp.net/api/v2/ohlc/btcusd/?&currency_pair=btcusd&step=180&limit=1000&start=1626229080\n",
      "Downloaded from 2021-06-15 00:00:00 to 2021-07-15 00:03:00 32951.92\n",
      "Resample 3Min - TecAn ( windows 20, windows_limit 100 )\n",
      "Processing 14415 of btcusd\n"
     ]
    },
    {
     "data": {
      "application/vnd.jupyter.widget-view+json": {
       "model_id": "25bc2da4ff364b49980381bac1edd3ef",
       "version_major": 2,
       "version_minor": 0
      },
      "text/plain": [
       "  0%|          | 0/14415 [00:00<?, ?it/s]"
      ]
     },
     "metadata": {},
     "output_type": "display_data"
    },
    {
     "name": "stdout",
     "output_type": "stream",
     "text": [
      "https://www.bitstamp.net/api/v2/ohlc/ethusd/?&currency_pair=ethusd&step=180&limit=1000&start=1623711600\n",
      "https://www.bitstamp.net/api/v2/ohlc/ethusd/?&currency_pair=ethusd&step=180&limit=1000&start=1623891420\n",
      "https://www.bitstamp.net/api/v2/ohlc/ethusd/?&currency_pair=ethusd&step=180&limit=1000&start=1624071240\n",
      "https://www.bitstamp.net/api/v2/ohlc/ethusd/?&currency_pair=ethusd&step=180&limit=1000&start=1624251060\n",
      "https://www.bitstamp.net/api/v2/ohlc/ethusd/?&currency_pair=ethusd&step=180&limit=1000&start=1624430880\n",
      "https://www.bitstamp.net/api/v2/ohlc/ethusd/?&currency_pair=ethusd&step=180&limit=1000&start=1624610700\n",
      "https://www.bitstamp.net/api/v2/ohlc/ethusd/?&currency_pair=ethusd&step=180&limit=1000&start=1624790520\n",
      "https://www.bitstamp.net/api/v2/ohlc/ethusd/?&currency_pair=ethusd&step=180&limit=1000&start=1624970340\n",
      "https://www.bitstamp.net/api/v2/ohlc/ethusd/?&currency_pair=ethusd&step=180&limit=1000&start=1625150160\n",
      "https://www.bitstamp.net/api/v2/ohlc/ethusd/?&currency_pair=ethusd&step=180&limit=1000&start=1625329980\n",
      "https://www.bitstamp.net/api/v2/ohlc/ethusd/?&currency_pair=ethusd&step=180&limit=1000&start=1625509800\n",
      "https://www.bitstamp.net/api/v2/ohlc/ethusd/?&currency_pair=ethusd&step=180&limit=1000&start=1625689620\n",
      "https://www.bitstamp.net/api/v2/ohlc/ethusd/?&currency_pair=ethusd&step=180&limit=1000&start=1625869440\n",
      "https://www.bitstamp.net/api/v2/ohlc/ethusd/?&currency_pair=ethusd&step=180&limit=1000&start=1626049260\n",
      "https://www.bitstamp.net/api/v2/ohlc/ethusd/?&currency_pair=ethusd&step=180&limit=1000&start=1626229080\n",
      "Downloaded from 2021-06-15 00:00:00 to 2021-07-15 00:03:00 2002.95\n",
      "Resample 3Min - TecAn ( windows 20, windows_limit 100 )\n",
      "Processing 14415 of ethusd\n"
     ]
    },
    {
     "data": {
      "application/vnd.jupyter.widget-view+json": {
       "model_id": "3c77f62d8c164aae9b3274985703b877",
       "version_major": 2,
       "version_minor": 0
      },
      "text/plain": [
       "  0%|          | 0/14415 [00:00<?, ?it/s]"
      ]
     },
     "metadata": {},
     "output_type": "display_data"
    },
    {
     "name": "stdout",
     "output_type": "stream",
     "text": [
      "https://www.bitstamp.net/api/v2/ohlc/ltcusd/?&currency_pair=ltcusd&step=180&limit=1000&start=1623711600\n",
      "https://www.bitstamp.net/api/v2/ohlc/ltcusd/?&currency_pair=ltcusd&step=180&limit=1000&start=1623891420\n",
      "https://www.bitstamp.net/api/v2/ohlc/ltcusd/?&currency_pair=ltcusd&step=180&limit=1000&start=1624071240\n",
      "https://www.bitstamp.net/api/v2/ohlc/ltcusd/?&currency_pair=ltcusd&step=180&limit=1000&start=1624251060\n",
      "https://www.bitstamp.net/api/v2/ohlc/ltcusd/?&currency_pair=ltcusd&step=180&limit=1000&start=1624430880\n",
      "https://www.bitstamp.net/api/v2/ohlc/ltcusd/?&currency_pair=ltcusd&step=180&limit=1000&start=1624610700\n",
      "https://www.bitstamp.net/api/v2/ohlc/ltcusd/?&currency_pair=ltcusd&step=180&limit=1000&start=1624790520\n",
      "https://www.bitstamp.net/api/v2/ohlc/ltcusd/?&currency_pair=ltcusd&step=180&limit=1000&start=1624970340\n",
      "https://www.bitstamp.net/api/v2/ohlc/ltcusd/?&currency_pair=ltcusd&step=180&limit=1000&start=1625150160\n",
      "https://www.bitstamp.net/api/v2/ohlc/ltcusd/?&currency_pair=ltcusd&step=180&limit=1000&start=1625329980\n",
      "https://www.bitstamp.net/api/v2/ohlc/ltcusd/?&currency_pair=ltcusd&step=180&limit=1000&start=1625509800\n",
      "https://www.bitstamp.net/api/v2/ohlc/ltcusd/?&currency_pair=ltcusd&step=180&limit=1000&start=1625689620\n",
      "https://www.bitstamp.net/api/v2/ohlc/ltcusd/?&currency_pair=ltcusd&step=180&limit=1000&start=1625869440\n",
      "https://www.bitstamp.net/api/v2/ohlc/ltcusd/?&currency_pair=ltcusd&step=180&limit=1000&start=1626049260\n",
      "https://www.bitstamp.net/api/v2/ohlc/ltcusd/?&currency_pair=ltcusd&step=180&limit=1000&start=1626229080\n",
      "Downloaded from 2021-06-15 00:00:00 to 2021-07-15 00:03:00 131.22\n",
      "Resample 3Min - TecAn ( windows 20, windows_limit 100 )\n",
      "Processing 14415 of ltcusd\n"
     ]
    },
    {
     "data": {
      "application/vnd.jupyter.widget-view+json": {
       "model_id": "65aab39db7e7423d9ce908cd199fd1da",
       "version_major": 2,
       "version_minor": 0
      },
      "text/plain": [
       "  0%|          | 0/14415 [00:00<?, ?it/s]"
      ]
     },
     "metadata": {},
     "output_type": "display_data"
    },
    {
     "name": "stdout",
     "output_type": "stream",
     "text": [
      "https://www.bitstamp.net/api/v2/ohlc/ltcbtc/?&currency_pair=ltcbtc&step=180&limit=1000&start=1623711600\n",
      "https://www.bitstamp.net/api/v2/ohlc/ltcbtc/?&currency_pair=ltcbtc&step=180&limit=1000&start=1623891420\n",
      "https://www.bitstamp.net/api/v2/ohlc/ltcbtc/?&currency_pair=ltcbtc&step=180&limit=1000&start=1624071240\n",
      "https://www.bitstamp.net/api/v2/ohlc/ltcbtc/?&currency_pair=ltcbtc&step=180&limit=1000&start=1624251060\n",
      "https://www.bitstamp.net/api/v2/ohlc/ltcbtc/?&currency_pair=ltcbtc&step=180&limit=1000&start=1624430880\n",
      "https://www.bitstamp.net/api/v2/ohlc/ltcbtc/?&currency_pair=ltcbtc&step=180&limit=1000&start=1624610700\n",
      "https://www.bitstamp.net/api/v2/ohlc/ltcbtc/?&currency_pair=ltcbtc&step=180&limit=1000&start=1624790520\n",
      "https://www.bitstamp.net/api/v2/ohlc/ltcbtc/?&currency_pair=ltcbtc&step=180&limit=1000&start=1624970340\n",
      "https://www.bitstamp.net/api/v2/ohlc/ltcbtc/?&currency_pair=ltcbtc&step=180&limit=1000&start=1625150160\n",
      "https://www.bitstamp.net/api/v2/ohlc/ltcbtc/?&currency_pair=ltcbtc&step=180&limit=1000&start=1625329980\n",
      "https://www.bitstamp.net/api/v2/ohlc/ltcbtc/?&currency_pair=ltcbtc&step=180&limit=1000&start=1625509800\n",
      "https://www.bitstamp.net/api/v2/ohlc/ltcbtc/?&currency_pair=ltcbtc&step=180&limit=1000&start=1625689620\n",
      "https://www.bitstamp.net/api/v2/ohlc/ltcbtc/?&currency_pair=ltcbtc&step=180&limit=1000&start=1625869440\n",
      "https://www.bitstamp.net/api/v2/ohlc/ltcbtc/?&currency_pair=ltcbtc&step=180&limit=1000&start=1626049260\n",
      "https://www.bitstamp.net/api/v2/ohlc/ltcbtc/?&currency_pair=ltcbtc&step=180&limit=1000&start=1626229080\n",
      "Downloaded from 2021-06-15 00:00:00 to 2021-07-15 00:03:00 0.00398347\n",
      "Resample 3Min - TecAn ( windows 20, windows_limit 100 )\n",
      "Processing 14415 of ltcbtc\n"
     ]
    },
    {
     "data": {
      "application/vnd.jupyter.widget-view+json": {
       "model_id": "33fb2eb9449b4a7d9c6feda53514f4b3",
       "version_major": 2,
       "version_minor": 0
      },
      "text/plain": [
       "  0%|          | 0/14415 [00:00<?, ?it/s]"
      ]
     },
     "metadata": {},
     "output_type": "display_data"
    },
    {
     "name": "stdout",
     "output_type": "stream",
     "text": [
      "https://www.bitstamp.net/api/v2/ohlc/btcusd/?&currency_pair=btcusd&step=180&limit=1000&start=1622502000\n",
      "Downloaded from 2021-06-01 00:00:00 to 2021-06-03 01:57:00 37436.78\n",
      "Resample 3Min - TecAn ( windows 30, windows_limit 100 )\n",
      "Processing 999 of btcusd\n"
     ]
    },
    {
     "data": {
      "application/vnd.jupyter.widget-view+json": {
       "model_id": "824434c16c2844cb83e47470e7ea2501",
       "version_major": 2,
       "version_minor": 0
      },
      "text/plain": [
       "  0%|          | 0/999 [00:00<?, ?it/s]"
      ]
     },
     "metadata": {},
     "output_type": "display_data"
    },
    {
     "name": "stdout",
     "output_type": "stream",
     "text": [
      "https://www.bitstamp.net/api/v2/ohlc/ethusd/?&currency_pair=ethusd&step=180&limit=1000&start=1622502000\n",
      "Downloaded from 2021-06-01 00:00:00 to 2021-06-03 01:57:00 2702.14\n",
      "Resample 3Min - TecAn ( windows 30, windows_limit 100 )\n",
      "Processing 999 of ethusd\n"
     ]
    },
    {
     "data": {
      "application/vnd.jupyter.widget-view+json": {
       "model_id": "32859095d8004ea38765062ce86814fb",
       "version_major": 2,
       "version_minor": 0
      },
      "text/plain": [
       "  0%|          | 0/999 [00:00<?, ?it/s]"
      ]
     },
     "metadata": {},
     "output_type": "display_data"
    },
    {
     "name": "stdout",
     "output_type": "stream",
     "text": [
      "https://www.bitstamp.net/api/v2/ohlc/ltcusd/?&currency_pair=ltcusd&step=180&limit=1000&start=1622502000\n",
      "Downloaded from 2021-06-01 00:00:00 to 2021-06-03 01:57:00 185.00\n",
      "Resample 3Min - TecAn ( windows 30, windows_limit 100 )\n",
      "Processing 999 of ltcusd\n"
     ]
    },
    {
     "data": {
      "application/vnd.jupyter.widget-view+json": {
       "model_id": "b37d1eb27d804a6f96e1c71f5e3fee63",
       "version_major": 2,
       "version_minor": 0
      },
      "text/plain": [
       "  0%|          | 0/999 [00:00<?, ?it/s]"
      ]
     },
     "metadata": {},
     "output_type": "display_data"
    },
    {
     "name": "stdout",
     "output_type": "stream",
     "text": [
      "https://www.bitstamp.net/api/v2/ohlc/ltcbtc/?&currency_pair=ltcbtc&step=180&limit=1000&start=1622502000\n",
      "Downloaded from 2021-06-01 00:00:00 to 2021-06-03 01:57:00 0.00494481\n",
      "Resample 3Min - TecAn ( windows 30, windows_limit 100 )\n",
      "Processing 999 of ltcbtc\n"
     ]
    },
    {
     "data": {
      "application/vnd.jupyter.widget-view+json": {
       "model_id": "fb98be96cc0b46c1a3097fa1102b6edc",
       "version_major": 2,
       "version_minor": 0
      },
      "text/plain": [
       "  0%|          | 0/999 [00:00<?, ?it/s]"
      ]
     },
     "metadata": {},
     "output_type": "display_data"
    },
    {
     "name": "stdout",
     "output_type": "stream",
     "text": [
      "https://www.bitstamp.net/api/v2/ohlc/btcusd/?&currency_pair=btcusd&step=180&limit=1000&start=1590966000\n",
      "Downloaded from 2020-06-01 00:00:00 to 2020-06-03 01:57:00 9525.82\n",
      "Resample 3Min - TecAn ( windows 30, windows_limit 100 )\n",
      "Processing 999 of btcusd\n"
     ]
    },
    {
     "data": {
      "application/vnd.jupyter.widget-view+json": {
       "model_id": "8d903b77f9ea4dc69f0cbfda96f212c1",
       "version_major": 2,
       "version_minor": 0
      },
      "text/plain": [
       "  0%|          | 0/999 [00:00<?, ?it/s]"
      ]
     },
     "metadata": {},
     "output_type": "display_data"
    },
    {
     "name": "stdout",
     "output_type": "stream",
     "text": [
      "https://www.bitstamp.net/api/v2/ohlc/ethusd/?&currency_pair=ethusd&step=180&limit=1000&start=1590966000\n",
      "Downloaded from 2020-06-01 00:00:00 to 2020-06-03 01:57:00 237.99\n",
      "Resample 3Min - TecAn ( windows 30, windows_limit 100 )\n",
      "Processing 999 of ethusd\n"
     ]
    },
    {
     "data": {
      "application/vnd.jupyter.widget-view+json": {
       "model_id": "fd7784f3aa3a4b4493144d12bdcabfcc",
       "version_major": 2,
       "version_minor": 0
      },
      "text/plain": [
       "  0%|          | 0/999 [00:00<?, ?it/s]"
      ]
     },
     "metadata": {},
     "output_type": "display_data"
    },
    {
     "name": "stdout",
     "output_type": "stream",
     "text": [
      "https://www.bitstamp.net/api/v2/ohlc/ltcusd/?&currency_pair=ltcusd&step=180&limit=1000&start=1590966000\n",
      "Downloaded from 2020-06-01 00:00:00 to 2020-06-03 01:57:00 46.08\n",
      "Resample 3Min - TecAn ( windows 30, windows_limit 100 )\n",
      "Processing 999 of ltcusd\n"
     ]
    },
    {
     "data": {
      "application/vnd.jupyter.widget-view+json": {
       "model_id": "906d46f940274efa905de8d990f0b10c",
       "version_major": 2,
       "version_minor": 0
      },
      "text/plain": [
       "  0%|          | 0/999 [00:00<?, ?it/s]"
      ]
     },
     "metadata": {},
     "output_type": "display_data"
    },
    {
     "name": "stdout",
     "output_type": "stream",
     "text": [
      "https://www.bitstamp.net/api/v2/ohlc/ltcbtc/?&currency_pair=ltcbtc&step=180&limit=1000&start=1590966000\n",
      "Downloaded from 2020-06-01 00:00:00 to 2020-06-03 01:57:00 0.00484476\n",
      "Resample 3Min - TecAn ( windows 30, windows_limit 100 )\n",
      "Processing 999 of ltcbtc\n"
     ]
    },
    {
     "data": {
      "application/vnd.jupyter.widget-view+json": {
       "model_id": "a175d71930ed43aab083445aa9e655a3",
       "version_major": 2,
       "version_minor": 0
      },
      "text/plain": [
       "  0%|          | 0/999 [00:00<?, ?it/s]"
      ]
     },
     "metadata": {},
     "output_type": "display_data"
    },
    {
     "name": "stdout",
     "output_type": "stream",
     "text": [
      "https://www.bitstamp.net/api/v2/ohlc/btcusd/?&currency_pair=btcusd&step=180&limit=1000&start=1559343600\n",
      "Downloaded from 2019-06-01 00:00:00 to 2019-06-03 01:57:00 8681.59\n",
      "Resample 3Min - TecAn ( windows 30, windows_limit 100 )\n",
      "Processing 999 of btcusd\n"
     ]
    },
    {
     "data": {
      "application/vnd.jupyter.widget-view+json": {
       "model_id": "8de8fa87a2a54f4bb8f72d26b5240dfb",
       "version_major": 2,
       "version_minor": 0
      },
      "text/plain": [
       "  0%|          | 0/999 [00:00<?, ?it/s]"
      ]
     },
     "metadata": {},
     "output_type": "display_data"
    },
    {
     "name": "stdout",
     "output_type": "stream",
     "text": [
      "https://www.bitstamp.net/api/v2/ohlc/ethusd/?&currency_pair=ethusd&step=180&limit=1000&start=1559343600\n",
      "Downloaded from 2019-06-01 00:00:00 to 2019-06-03 01:57:00 266.63\n",
      "Resample 3Min - TecAn ( windows 30, windows_limit 100 )\n",
      "Processing 999 of ethusd\n"
     ]
    },
    {
     "data": {
      "application/vnd.jupyter.widget-view+json": {
       "model_id": "343c465dc8cd4593892d7b7087c84a45",
       "version_major": 2,
       "version_minor": 0
      },
      "text/plain": [
       "  0%|          | 0/999 [00:00<?, ?it/s]"
      ]
     },
     "metadata": {},
     "output_type": "display_data"
    },
    {
     "name": "stdout",
     "output_type": "stream",
     "text": [
      "https://www.bitstamp.net/api/v2/ohlc/ltcusd/?&currency_pair=ltcusd&step=180&limit=1000&start=1559343600\n",
      "Downloaded from 2019-06-01 00:00:00 to 2019-06-03 01:57:00 113.86\n",
      "Resample 3Min - TecAn ( windows 30, windows_limit 100 )\n",
      "Processing 999 of ltcusd\n"
     ]
    },
    {
     "data": {
      "application/vnd.jupyter.widget-view+json": {
       "model_id": "09759ceab3f7407c8d41ec58bf7c2c0d",
       "version_major": 2,
       "version_minor": 0
      },
      "text/plain": [
       "  0%|          | 0/999 [00:00<?, ?it/s]"
      ]
     },
     "metadata": {},
     "output_type": "display_data"
    },
    {
     "name": "stdout",
     "output_type": "stream",
     "text": [
      "https://www.bitstamp.net/api/v2/ohlc/ltcbtc/?&currency_pair=ltcbtc&step=180&limit=1000&start=1559343600\n",
      "Downloaded from 2019-06-01 00:00:00 to 2019-06-03 01:57:00 0.01310000\n",
      "Resample 3Min - TecAn ( windows 30, windows_limit 100 )\n",
      "Processing 999 of ltcbtc\n"
     ]
    },
    {
     "data": {
      "application/vnd.jupyter.widget-view+json": {
       "model_id": "b267b0aba0c64b5ca79c14e07827097d",
       "version_major": 2,
       "version_minor": 0
      },
      "text/plain": [
       "  0%|          | 0/999 [00:00<?, ?it/s]"
      ]
     },
     "metadata": {},
     "output_type": "display_data"
    },
    {
     "name": "stdout",
     "output_type": "stream",
     "text": [
      "https://www.bitstamp.net/api/v2/ohlc/btcusd/?&currency_pair=btcusd&step=180&limit=1000&start=1527807600\n",
      "Downloaded from 2018-06-01 00:00:00 to 2018-06-03 01:57:00 7653.99\n",
      "Resample 3Min - TecAn ( windows 30, windows_limit 100 )\n",
      "Processing 999 of btcusd\n"
     ]
    },
    {
     "data": {
      "application/vnd.jupyter.widget-view+json": {
       "model_id": "d0ac71a9794346f3a60b5a30c9f174d3",
       "version_major": 2,
       "version_minor": 0
      },
      "text/plain": [
       "  0%|          | 0/999 [00:00<?, ?it/s]"
      ]
     },
     "metadata": {},
     "output_type": "display_data"
    },
    {
     "name": "stdout",
     "output_type": "stream",
     "text": [
      "https://www.bitstamp.net/api/v2/ohlc/ethusd/?&currency_pair=ethusd&step=180&limit=1000&start=1527807600\n",
      "Downloaded from 2018-06-01 00:00:00 to 2018-06-03 01:57:00 592.70\n",
      "Resample 3Min - TecAn ( windows 30, windows_limit 100 )\n",
      "Processing 999 of ethusd\n"
     ]
    },
    {
     "data": {
      "application/vnd.jupyter.widget-view+json": {
       "model_id": "7550bcce56164805a67046c41a06ef31",
       "version_major": 2,
       "version_minor": 0
      },
      "text/plain": [
       "  0%|          | 0/999 [00:00<?, ?it/s]"
      ]
     },
     "metadata": {},
     "output_type": "display_data"
    },
    {
     "name": "stdout",
     "output_type": "stream",
     "text": [
      "https://www.bitstamp.net/api/v2/ohlc/ltcusd/?&currency_pair=ltcusd&step=180&limit=1000&start=1527807600\n",
      "Downloaded from 2018-06-01 00:00:00 to 2018-06-03 01:57:00 123.64\n",
      "Resample 3Min - TecAn ( windows 30, windows_limit 100 )\n",
      "Processing 999 of ltcusd\n"
     ]
    },
    {
     "data": {
      "application/vnd.jupyter.widget-view+json": {
       "model_id": "a3bf1efece61435d899a28ea7d91b47e",
       "version_major": 2,
       "version_minor": 0
      },
      "text/plain": [
       "  0%|          | 0/999 [00:00<?, ?it/s]"
      ]
     },
     "metadata": {},
     "output_type": "display_data"
    },
    {
     "name": "stdout",
     "output_type": "stream",
     "text": [
      "https://www.bitstamp.net/api/v2/ohlc/ltcbtc/?&currency_pair=ltcbtc&step=180&limit=1000&start=1527807600\n",
      "Downloaded from 2018-06-01 00:00:00 to 2018-06-03 01:57:00 0.01614501\n",
      "Resample 3Min - TecAn ( windows 30, windows_limit 100 )\n",
      "Processing 999 of ltcbtc\n"
     ]
    },
    {
     "data": {
      "application/vnd.jupyter.widget-view+json": {
       "model_id": "d3449667317041b2ad89988693ed832f",
       "version_major": 2,
       "version_minor": 0
      },
      "text/plain": [
       "  0%|          | 0/999 [00:00<?, ?it/s]"
      ]
     },
     "metadata": {},
     "output_type": "display_data"
    },
    {
     "name": "stdout",
     "output_type": "stream",
     "text": [
      "https://www.bitstamp.net/api/v2/ohlc/btcusd/?&currency_pair=btcusd&step=180&limit=1000&start=1517443200\n",
      "Downloaded from 2018-02-01 00:00:00 to 2018-02-03 01:57:00 8563.00\n",
      "Resample 3Min - TecAn ( windows 30, windows_limit 100 )\n",
      "Processing 999 of btcusd\n"
     ]
    },
    {
     "data": {
      "application/vnd.jupyter.widget-view+json": {
       "model_id": "7920b5ba09d14f838763c817f2306008",
       "version_major": 2,
       "version_minor": 0
      },
      "text/plain": [
       "  0%|          | 0/999 [00:00<?, ?it/s]"
      ]
     },
     "metadata": {},
     "output_type": "display_data"
    },
    {
     "name": "stdout",
     "output_type": "stream",
     "text": [
      "https://www.bitstamp.net/api/v2/ohlc/ethusd/?&currency_pair=ethusd&step=180&limit=1000&start=1517443200\n",
      "Downloaded from 2018-02-01 00:00:00 to 2018-02-03 01:57:00 894.06\n",
      "Resample 3Min - TecAn ( windows 30, windows_limit 100 )\n",
      "Processing 999 of ethusd\n"
     ]
    },
    {
     "data": {
      "application/vnd.jupyter.widget-view+json": {
       "model_id": "a28ea08398414b7ca500bca98462745f",
       "version_major": 2,
       "version_minor": 0
      },
      "text/plain": [
       "  0%|          | 0/999 [00:00<?, ?it/s]"
      ]
     },
     "metadata": {},
     "output_type": "display_data"
    },
    {
     "name": "stdout",
     "output_type": "stream",
     "text": [
      "https://www.bitstamp.net/api/v2/ohlc/ltcusd/?&currency_pair=ltcusd&step=180&limit=1000&start=1517443200\n",
      "Downloaded from 2018-02-01 00:00:00 to 2018-02-03 01:57:00 127.76\n",
      "Resample 3Min - TecAn ( windows 30, windows_limit 100 )\n",
      "Processing 999 of ltcusd\n"
     ]
    },
    {
     "data": {
      "application/vnd.jupyter.widget-view+json": {
       "model_id": "499a9ff4deb144e2bd500f8d9f3de513",
       "version_major": 2,
       "version_minor": 0
      },
      "text/plain": [
       "  0%|          | 0/999 [00:00<?, ?it/s]"
      ]
     },
     "metadata": {},
     "output_type": "display_data"
    },
    {
     "name": "stdout",
     "output_type": "stream",
     "text": [
      "https://www.bitstamp.net/api/v2/ohlc/ltcbtc/?&currency_pair=ltcbtc&step=180&limit=1000&start=1517443200\n",
      "Downloaded from 2018-02-01 00:00:00 to 2018-02-03 01:57:00 0.01497000\n",
      "Resample 3Min - TecAn ( windows 30, windows_limit 100 )\n",
      "Processing 999 of ltcbtc\n"
     ]
    },
    {
     "data": {
      "application/vnd.jupyter.widget-view+json": {
       "model_id": "31f750cea18342d5b8c88e3f7667cd8a",
       "version_major": 2,
       "version_minor": 0
      },
      "text/plain": [
       "  0%|          | 0/999 [00:00<?, ?it/s]"
      ]
     },
     "metadata": {},
     "output_type": "display_data"
    },
    {
     "name": "stdout",
     "output_type": "stream",
     "text": [
      "https://www.bitstamp.net/api/v2/ohlc/btcusd/?&currency_pair=btcusd&step=180&limit=1000&start=1548979200\n",
      "Downloaded from 2019-02-01 00:00:00 to 2019-02-03 01:57:00 3448.32\n",
      "Resample 3Min - TecAn ( windows 30, windows_limit 100 )\n",
      "Processing 999 of btcusd\n"
     ]
    },
    {
     "data": {
      "application/vnd.jupyter.widget-view+json": {
       "model_id": "4f5bdb1b9ae44ed8b5d1fb336e5a3b57",
       "version_major": 2,
       "version_minor": 0
      },
      "text/plain": [
       "  0%|          | 0/999 [00:00<?, ?it/s]"
      ]
     },
     "metadata": {},
     "output_type": "display_data"
    },
    {
     "name": "stdout",
     "output_type": "stream",
     "text": [
      "https://www.bitstamp.net/api/v2/ohlc/ethusd/?&currency_pair=ethusd&step=180&limit=1000&start=1548979200\n",
      "Downloaded from 2019-02-01 00:00:00 to 2019-02-03 01:57:00 108.63\n",
      "Resample 3Min - TecAn ( windows 30, windows_limit 100 )\n",
      "Processing 999 of ethusd\n"
     ]
    },
    {
     "data": {
      "application/vnd.jupyter.widget-view+json": {
       "model_id": "740ad46eb04d4147b8775c38186c30f0",
       "version_major": 2,
       "version_minor": 0
      },
      "text/plain": [
       "  0%|          | 0/999 [00:00<?, ?it/s]"
      ]
     },
     "metadata": {},
     "output_type": "display_data"
    },
    {
     "name": "stdout",
     "output_type": "stream",
     "text": [
      "https://www.bitstamp.net/api/v2/ohlc/ltcusd/?&currency_pair=ltcusd&step=180&limit=1000&start=1548979200\n",
      "Downloaded from 2019-02-01 00:00:00 to 2019-02-03 01:57:00 34.01\n",
      "Resample 3Min - TecAn ( windows 30, windows_limit 100 )\n",
      "Processing 999 of ltcusd\n"
     ]
    },
    {
     "data": {
      "application/vnd.jupyter.widget-view+json": {
       "model_id": "93f31f994edd40b8a7a71dcda2c88c05",
       "version_major": 2,
       "version_minor": 0
      },
      "text/plain": [
       "  0%|          | 0/999 [00:00<?, ?it/s]"
      ]
     },
     "metadata": {},
     "output_type": "display_data"
    },
    {
     "name": "stdout",
     "output_type": "stream",
     "text": [
      "https://www.bitstamp.net/api/v2/ohlc/ltcbtc/?&currency_pair=ltcbtc&step=180&limit=1000&start=1548979200\n",
      "Downloaded from 2019-02-01 00:00:00 to 2019-02-03 01:57:00 0.00988827\n",
      "Resample 3Min - TecAn ( windows 30, windows_limit 100 )\n",
      "Processing 999 of ltcbtc\n"
     ]
    },
    {
     "data": {
      "application/vnd.jupyter.widget-view+json": {
       "model_id": "8aac7fe6c86c4303b9078d7f44a5fb82",
       "version_major": 2,
       "version_minor": 0
      },
      "text/plain": [
       "  0%|          | 0/999 [00:00<?, ?it/s]"
      ]
     },
     "metadata": {},
     "output_type": "display_data"
    },
    {
     "name": "stdout",
     "output_type": "stream",
     "text": [
      "https://www.bitstamp.net/api/v2/ohlc/btcusd/?&currency_pair=btcusd&step=180&limit=1000&start=1580515200\n",
      "Downloaded from 2020-02-01 00:00:00 to 2020-02-03 01:57:00 9540.01\n",
      "Resample 3Min - TecAn ( windows 30, windows_limit 100 )\n",
      "Processing 999 of btcusd\n"
     ]
    },
    {
     "data": {
      "application/vnd.jupyter.widget-view+json": {
       "model_id": "3da4471d626243c084243d1a9461388e",
       "version_major": 2,
       "version_minor": 0
      },
      "text/plain": [
       "  0%|          | 0/999 [00:00<?, ?it/s]"
      ]
     },
     "metadata": {},
     "output_type": "display_data"
    },
    {
     "name": "stdout",
     "output_type": "stream",
     "text": [
      "https://www.bitstamp.net/api/v2/ohlc/ethusd/?&currency_pair=ethusd&step=180&limit=1000&start=1580515200\n",
      "Downloaded from 2020-02-01 00:00:00 to 2020-02-03 01:57:00 193.14\n",
      "Resample 3Min - TecAn ( windows 30, windows_limit 100 )\n",
      "Processing 999 of ethusd\n"
     ]
    },
    {
     "data": {
      "application/vnd.jupyter.widget-view+json": {
       "model_id": "4e4c74b7f0724faa883b4ccb6d8abb03",
       "version_major": 2,
       "version_minor": 0
      },
      "text/plain": [
       "  0%|          | 0/999 [00:00<?, ?it/s]"
      ]
     },
     "metadata": {},
     "output_type": "display_data"
    },
    {
     "name": "stdout",
     "output_type": "stream",
     "text": [
      "https://www.bitstamp.net/api/v2/ohlc/ltcusd/?&currency_pair=ltcusd&step=180&limit=1000&start=1580515200\n",
      "Downloaded from 2020-02-01 00:00:00 to 2020-02-03 01:57:00 71.63\n",
      "Resample 3Min - TecAn ( windows 30, windows_limit 100 )\n",
      "Processing 999 of ltcusd\n"
     ]
    },
    {
     "data": {
      "application/vnd.jupyter.widget-view+json": {
       "model_id": "92f6fa527e12437b8dd946299beb04f3",
       "version_major": 2,
       "version_minor": 0
      },
      "text/plain": [
       "  0%|          | 0/999 [00:00<?, ?it/s]"
      ]
     },
     "metadata": {},
     "output_type": "display_data"
    },
    {
     "name": "stdout",
     "output_type": "stream",
     "text": [
      "https://www.bitstamp.net/api/v2/ohlc/ltcbtc/?&currency_pair=ltcbtc&step=180&limit=1000&start=1580515200\n",
      "Downloaded from 2020-02-01 00:00:00 to 2020-02-03 01:57:00 0.00758690\n",
      "Resample 3Min - TecAn ( windows 30, windows_limit 100 )\n",
      "Processing 999 of ltcbtc\n"
     ]
    },
    {
     "data": {
      "application/vnd.jupyter.widget-view+json": {
       "model_id": "a6712a988ca84fea8ec0da7f6832c11e",
       "version_major": 2,
       "version_minor": 0
      },
      "text/plain": [
       "  0%|          | 0/999 [00:00<?, ?it/s]"
      ]
     },
     "metadata": {},
     "output_type": "display_data"
    },
    {
     "name": "stdout",
     "output_type": "stream",
     "text": [
      "https://www.bitstamp.net/api/v2/ohlc/btcusd/?&currency_pair=btcusd&step=180&limit=1000&start=1612137600\n",
      "Downloaded from 2021-02-01 00:00:00 to 2021-02-03 01:57:00 35892.89\n",
      "Resample 3Min - TecAn ( windows 30, windows_limit 100 )\n",
      "Processing 999 of btcusd\n"
     ]
    },
    {
     "data": {
      "application/vnd.jupyter.widget-view+json": {
       "model_id": "fd12c58aa0e44949b58a2981e96cf039",
       "version_major": 2,
       "version_minor": 0
      },
      "text/plain": [
       "  0%|          | 0/999 [00:00<?, ?it/s]"
      ]
     },
     "metadata": {},
     "output_type": "display_data"
    },
    {
     "name": "stdout",
     "output_type": "stream",
     "text": [
      "https://www.bitstamp.net/api/v2/ohlc/ethusd/?&currency_pair=ethusd&step=180&limit=1000&start=1612137600\n",
      "Downloaded from 2021-02-01 00:00:00 to 2021-02-03 01:57:00 1519.63\n",
      "Resample 3Min - TecAn ( windows 30, windows_limit 100 )\n",
      "Processing 999 of ethusd\n"
     ]
    },
    {
     "data": {
      "application/vnd.jupyter.widget-view+json": {
       "model_id": "3e5a245614bf431c87c21896e05b1de2",
       "version_major": 2,
       "version_minor": 0
      },
      "text/plain": [
       "  0%|          | 0/999 [00:00<?, ?it/s]"
      ]
     },
     "metadata": {},
     "output_type": "display_data"
    },
    {
     "name": "stdout",
     "output_type": "stream",
     "text": [
      "https://www.bitstamp.net/api/v2/ohlc/ltcusd/?&currency_pair=ltcusd&step=180&limit=1000&start=1612137600\n",
      "Downloaded from 2021-02-01 00:00:00 to 2021-02-03 01:57:00 148.03\n",
      "Resample 3Min - TecAn ( windows 30, windows_limit 100 )\n",
      "Processing 999 of ltcusd\n"
     ]
    },
    {
     "data": {
      "application/vnd.jupyter.widget-view+json": {
       "model_id": "92acbe1734f54a1082ea69514b52737b",
       "version_major": 2,
       "version_minor": 0
      },
      "text/plain": [
       "  0%|          | 0/999 [00:00<?, ?it/s]"
      ]
     },
     "metadata": {},
     "output_type": "display_data"
    },
    {
     "name": "stdout",
     "output_type": "stream",
     "text": [
      "https://www.bitstamp.net/api/v2/ohlc/ltcbtc/?&currency_pair=ltcbtc&step=180&limit=1000&start=1612137600\n",
      "Downloaded from 2021-02-01 00:00:00 to 2021-02-03 01:57:00 0.00412009\n",
      "Resample 3Min - TecAn ( windows 30, windows_limit 100 )\n",
      "Processing 999 of ltcbtc\n"
     ]
    },
    {
     "data": {
      "application/vnd.jupyter.widget-view+json": {
       "model_id": "254ee5e142fd4cfdbda6b4279c3d040d",
       "version_major": 2,
       "version_minor": 0
      },
      "text/plain": [
       "  0%|          | 0/999 [00:00<?, ?it/s]"
      ]
     },
     "metadata": {},
     "output_type": "display_data"
    },
    {
     "name": "stdout",
     "output_type": "stream",
     "text": [
      "https://www.bitstamp.net/api/v2/ohlc/btcusd/?&currency_pair=btcusd&step=180&limit=1000&start=1623711600\n",
      "https://www.bitstamp.net/api/v2/ohlc/btcusd/?&currency_pair=btcusd&step=180&limit=1000&start=1623891420\n",
      "https://www.bitstamp.net/api/v2/ohlc/btcusd/?&currency_pair=btcusd&step=180&limit=1000&start=1624071240\n",
      "https://www.bitstamp.net/api/v2/ohlc/btcusd/?&currency_pair=btcusd&step=180&limit=1000&start=1624251060\n",
      "https://www.bitstamp.net/api/v2/ohlc/btcusd/?&currency_pair=btcusd&step=180&limit=1000&start=1624430880\n",
      "https://www.bitstamp.net/api/v2/ohlc/btcusd/?&currency_pair=btcusd&step=180&limit=1000&start=1624610700\n",
      "https://www.bitstamp.net/api/v2/ohlc/btcusd/?&currency_pair=btcusd&step=180&limit=1000&start=1624790520\n",
      "https://www.bitstamp.net/api/v2/ohlc/btcusd/?&currency_pair=btcusd&step=180&limit=1000&start=1624970340\n",
      "https://www.bitstamp.net/api/v2/ohlc/btcusd/?&currency_pair=btcusd&step=180&limit=1000&start=1625150160\n",
      "https://www.bitstamp.net/api/v2/ohlc/btcusd/?&currency_pair=btcusd&step=180&limit=1000&start=1625329980\n",
      "https://www.bitstamp.net/api/v2/ohlc/btcusd/?&currency_pair=btcusd&step=180&limit=1000&start=1625509800\n",
      "https://www.bitstamp.net/api/v2/ohlc/btcusd/?&currency_pair=btcusd&step=180&limit=1000&start=1625689620\n",
      "https://www.bitstamp.net/api/v2/ohlc/btcusd/?&currency_pair=btcusd&step=180&limit=1000&start=1625869440\n",
      "https://www.bitstamp.net/api/v2/ohlc/btcusd/?&currency_pair=btcusd&step=180&limit=1000&start=1626049260\n",
      "https://www.bitstamp.net/api/v2/ohlc/btcusd/?&currency_pair=btcusd&step=180&limit=1000&start=1626229080\n",
      "Downloaded from 2021-06-15 00:00:00 to 2021-07-15 00:03:00 32951.92\n",
      "Resample 3Min - TecAn ( windows 30, windows_limit 100 )\n",
      "Processing 14415 of btcusd\n"
     ]
    },
    {
     "data": {
      "application/vnd.jupyter.widget-view+json": {
       "model_id": "9921de55bb6b475497e1263941f274ca",
       "version_major": 2,
       "version_minor": 0
      },
      "text/plain": [
       "  0%|          | 0/14415 [00:00<?, ?it/s]"
      ]
     },
     "metadata": {},
     "output_type": "display_data"
    },
    {
     "name": "stdout",
     "output_type": "stream",
     "text": [
      "https://www.bitstamp.net/api/v2/ohlc/ethusd/?&currency_pair=ethusd&step=180&limit=1000&start=1623711600\n",
      "https://www.bitstamp.net/api/v2/ohlc/ethusd/?&currency_pair=ethusd&step=180&limit=1000&start=1623891420\n",
      "https://www.bitstamp.net/api/v2/ohlc/ethusd/?&currency_pair=ethusd&step=180&limit=1000&start=1624071240\n",
      "https://www.bitstamp.net/api/v2/ohlc/ethusd/?&currency_pair=ethusd&step=180&limit=1000&start=1624251060\n",
      "https://www.bitstamp.net/api/v2/ohlc/ethusd/?&currency_pair=ethusd&step=180&limit=1000&start=1624430880\n",
      "https://www.bitstamp.net/api/v2/ohlc/ethusd/?&currency_pair=ethusd&step=180&limit=1000&start=1624610700\n",
      "https://www.bitstamp.net/api/v2/ohlc/ethusd/?&currency_pair=ethusd&step=180&limit=1000&start=1624790520\n",
      "https://www.bitstamp.net/api/v2/ohlc/ethusd/?&currency_pair=ethusd&step=180&limit=1000&start=1624970340\n",
      "https://www.bitstamp.net/api/v2/ohlc/ethusd/?&currency_pair=ethusd&step=180&limit=1000&start=1625150160\n",
      "https://www.bitstamp.net/api/v2/ohlc/ethusd/?&currency_pair=ethusd&step=180&limit=1000&start=1625329980\n",
      "https://www.bitstamp.net/api/v2/ohlc/ethusd/?&currency_pair=ethusd&step=180&limit=1000&start=1625509800\n",
      "https://www.bitstamp.net/api/v2/ohlc/ethusd/?&currency_pair=ethusd&step=180&limit=1000&start=1625689620\n",
      "https://www.bitstamp.net/api/v2/ohlc/ethusd/?&currency_pair=ethusd&step=180&limit=1000&start=1625869440\n",
      "https://www.bitstamp.net/api/v2/ohlc/ethusd/?&currency_pair=ethusd&step=180&limit=1000&start=1626049260\n",
      "https://www.bitstamp.net/api/v2/ohlc/ethusd/?&currency_pair=ethusd&step=180&limit=1000&start=1626229080\n",
      "Downloaded from 2021-06-15 00:00:00 to 2021-07-15 00:03:00 2002.95\n",
      "Resample 3Min - TecAn ( windows 30, windows_limit 100 )\n",
      "Processing 14415 of ethusd\n"
     ]
    },
    {
     "data": {
      "application/vnd.jupyter.widget-view+json": {
       "model_id": "96a28f95912447be885d4b98f089c71c",
       "version_major": 2,
       "version_minor": 0
      },
      "text/plain": [
       "  0%|          | 0/14415 [00:00<?, ?it/s]"
      ]
     },
     "metadata": {},
     "output_type": "display_data"
    },
    {
     "name": "stdout",
     "output_type": "stream",
     "text": [
      "https://www.bitstamp.net/api/v2/ohlc/ltcusd/?&currency_pair=ltcusd&step=180&limit=1000&start=1623711600\n",
      "https://www.bitstamp.net/api/v2/ohlc/ltcusd/?&currency_pair=ltcusd&step=180&limit=1000&start=1623891420\n",
      "https://www.bitstamp.net/api/v2/ohlc/ltcusd/?&currency_pair=ltcusd&step=180&limit=1000&start=1624071240\n",
      "https://www.bitstamp.net/api/v2/ohlc/ltcusd/?&currency_pair=ltcusd&step=180&limit=1000&start=1624251060\n",
      "https://www.bitstamp.net/api/v2/ohlc/ltcusd/?&currency_pair=ltcusd&step=180&limit=1000&start=1624430880\n",
      "https://www.bitstamp.net/api/v2/ohlc/ltcusd/?&currency_pair=ltcusd&step=180&limit=1000&start=1624610700\n",
      "https://www.bitstamp.net/api/v2/ohlc/ltcusd/?&currency_pair=ltcusd&step=180&limit=1000&start=1624790520\n",
      "https://www.bitstamp.net/api/v2/ohlc/ltcusd/?&currency_pair=ltcusd&step=180&limit=1000&start=1624970340\n",
      "https://www.bitstamp.net/api/v2/ohlc/ltcusd/?&currency_pair=ltcusd&step=180&limit=1000&start=1625150160\n",
      "https://www.bitstamp.net/api/v2/ohlc/ltcusd/?&currency_pair=ltcusd&step=180&limit=1000&start=1625329980\n",
      "https://www.bitstamp.net/api/v2/ohlc/ltcusd/?&currency_pair=ltcusd&step=180&limit=1000&start=1625509800\n",
      "https://www.bitstamp.net/api/v2/ohlc/ltcusd/?&currency_pair=ltcusd&step=180&limit=1000&start=1625689620\n",
      "https://www.bitstamp.net/api/v2/ohlc/ltcusd/?&currency_pair=ltcusd&step=180&limit=1000&start=1625869440\n",
      "https://www.bitstamp.net/api/v2/ohlc/ltcusd/?&currency_pair=ltcusd&step=180&limit=1000&start=1626049260\n",
      "https://www.bitstamp.net/api/v2/ohlc/ltcusd/?&currency_pair=ltcusd&step=180&limit=1000&start=1626229080\n",
      "Downloaded from 2021-06-15 00:00:00 to 2021-07-15 00:03:00 131.22\n",
      "Resample 3Min - TecAn ( windows 30, windows_limit 100 )\n",
      "Processing 14415 of ltcusd\n"
     ]
    },
    {
     "data": {
      "application/vnd.jupyter.widget-view+json": {
       "model_id": "a03c03f9421d4d7b9acf6370bd2c6112",
       "version_major": 2,
       "version_minor": 0
      },
      "text/plain": [
       "  0%|          | 0/14415 [00:00<?, ?it/s]"
      ]
     },
     "metadata": {},
     "output_type": "display_data"
    },
    {
     "name": "stdout",
     "output_type": "stream",
     "text": [
      "https://www.bitstamp.net/api/v2/ohlc/ltcbtc/?&currency_pair=ltcbtc&step=180&limit=1000&start=1623711600\n",
      "https://www.bitstamp.net/api/v2/ohlc/ltcbtc/?&currency_pair=ltcbtc&step=180&limit=1000&start=1623891420\n",
      "https://www.bitstamp.net/api/v2/ohlc/ltcbtc/?&currency_pair=ltcbtc&step=180&limit=1000&start=1624071240\n",
      "https://www.bitstamp.net/api/v2/ohlc/ltcbtc/?&currency_pair=ltcbtc&step=180&limit=1000&start=1624251060\n",
      "https://www.bitstamp.net/api/v2/ohlc/ltcbtc/?&currency_pair=ltcbtc&step=180&limit=1000&start=1624430880\n",
      "https://www.bitstamp.net/api/v2/ohlc/ltcbtc/?&currency_pair=ltcbtc&step=180&limit=1000&start=1624610700\n",
      "https://www.bitstamp.net/api/v2/ohlc/ltcbtc/?&currency_pair=ltcbtc&step=180&limit=1000&start=1624790520\n",
      "https://www.bitstamp.net/api/v2/ohlc/ltcbtc/?&currency_pair=ltcbtc&step=180&limit=1000&start=1624970340\n",
      "https://www.bitstamp.net/api/v2/ohlc/ltcbtc/?&currency_pair=ltcbtc&step=180&limit=1000&start=1625150160\n",
      "https://www.bitstamp.net/api/v2/ohlc/ltcbtc/?&currency_pair=ltcbtc&step=180&limit=1000&start=1625329980\n",
      "https://www.bitstamp.net/api/v2/ohlc/ltcbtc/?&currency_pair=ltcbtc&step=180&limit=1000&start=1625509800\n",
      "https://www.bitstamp.net/api/v2/ohlc/ltcbtc/?&currency_pair=ltcbtc&step=180&limit=1000&start=1625689620\n",
      "https://www.bitstamp.net/api/v2/ohlc/ltcbtc/?&currency_pair=ltcbtc&step=180&limit=1000&start=1625869440\n",
      "https://www.bitstamp.net/api/v2/ohlc/ltcbtc/?&currency_pair=ltcbtc&step=180&limit=1000&start=1626049260\n",
      "https://www.bitstamp.net/api/v2/ohlc/ltcbtc/?&currency_pair=ltcbtc&step=180&limit=1000&start=1626229080\n",
      "Downloaded from 2021-06-15 00:00:00 to 2021-07-15 00:03:00 0.00398347\n",
      "Resample 3Min - TecAn ( windows 30, windows_limit 100 )\n",
      "Processing 14415 of ltcbtc\n"
     ]
    },
    {
     "data": {
      "application/vnd.jupyter.widget-view+json": {
       "model_id": "f4104475eca840ff9b8e82d8bb7cdb28",
       "version_major": 2,
       "version_minor": 0
      },
      "text/plain": [
       "  0%|          | 0/14415 [00:00<?, ?it/s]"
      ]
     },
     "metadata": {},
     "output_type": "display_data"
    },
    {
     "name": "stdout",
     "output_type": "stream",
     "text": [
      "https://www.bitstamp.net/api/v2/ohlc/btcusd/?&currency_pair=btcusd&step=180&limit=1000&start=1622502000\n",
      "Downloaded from 2021-06-01 00:00:00 to 2021-06-03 01:57:00 37436.78\n",
      "Resample 3Min - TecAn ( windows 40, windows_limit 100 )\n",
      "Processing 999 of btcusd\n"
     ]
    },
    {
     "data": {
      "application/vnd.jupyter.widget-view+json": {
       "model_id": "397cfbfcc88b482a91a71ba915f8c01f",
       "version_major": 2,
       "version_minor": 0
      },
      "text/plain": [
       "  0%|          | 0/999 [00:00<?, ?it/s]"
      ]
     },
     "metadata": {},
     "output_type": "display_data"
    },
    {
     "name": "stdout",
     "output_type": "stream",
     "text": [
      "https://www.bitstamp.net/api/v2/ohlc/ethusd/?&currency_pair=ethusd&step=180&limit=1000&start=1622502000\n",
      "Downloaded from 2021-06-01 00:00:00 to 2021-06-03 01:57:00 2702.14\n",
      "Resample 3Min - TecAn ( windows 40, windows_limit 100 )\n",
      "Processing 999 of ethusd\n"
     ]
    },
    {
     "data": {
      "application/vnd.jupyter.widget-view+json": {
       "model_id": "562cf858615445a38431496e6709cbb0",
       "version_major": 2,
       "version_minor": 0
      },
      "text/plain": [
       "  0%|          | 0/999 [00:00<?, ?it/s]"
      ]
     },
     "metadata": {},
     "output_type": "display_data"
    },
    {
     "name": "stdout",
     "output_type": "stream",
     "text": [
      "https://www.bitstamp.net/api/v2/ohlc/ltcusd/?&currency_pair=ltcusd&step=180&limit=1000&start=1622502000\n",
      "Downloaded from 2021-06-01 00:00:00 to 2021-06-03 01:57:00 185.00\n",
      "Resample 3Min - TecAn ( windows 40, windows_limit 100 )\n",
      "Processing 999 of ltcusd\n"
     ]
    },
    {
     "data": {
      "application/vnd.jupyter.widget-view+json": {
       "model_id": "f4b49937098341db85da902a6104cc08",
       "version_major": 2,
       "version_minor": 0
      },
      "text/plain": [
       "  0%|          | 0/999 [00:00<?, ?it/s]"
      ]
     },
     "metadata": {},
     "output_type": "display_data"
    },
    {
     "name": "stdout",
     "output_type": "stream",
     "text": [
      "https://www.bitstamp.net/api/v2/ohlc/ltcbtc/?&currency_pair=ltcbtc&step=180&limit=1000&start=1622502000\n",
      "Downloaded from 2021-06-01 00:00:00 to 2021-06-03 01:57:00 0.00494481\n",
      "Resample 3Min - TecAn ( windows 40, windows_limit 100 )\n",
      "Processing 999 of ltcbtc\n"
     ]
    },
    {
     "data": {
      "application/vnd.jupyter.widget-view+json": {
       "model_id": "68a8edcbea984c138f880f7cf0a29a01",
       "version_major": 2,
       "version_minor": 0
      },
      "text/plain": [
       "  0%|          | 0/999 [00:00<?, ?it/s]"
      ]
     },
     "metadata": {},
     "output_type": "display_data"
    },
    {
     "name": "stdout",
     "output_type": "stream",
     "text": [
      "https://www.bitstamp.net/api/v2/ohlc/btcusd/?&currency_pair=btcusd&step=180&limit=1000&start=1590966000\n",
      "Downloaded from 2020-06-01 00:00:00 to 2020-06-03 01:57:00 9525.82\n",
      "Resample 3Min - TecAn ( windows 40, windows_limit 100 )\n",
      "Processing 999 of btcusd\n"
     ]
    },
    {
     "data": {
      "application/vnd.jupyter.widget-view+json": {
       "model_id": "20485de06b614783a1230a29882b231b",
       "version_major": 2,
       "version_minor": 0
      },
      "text/plain": [
       "  0%|          | 0/999 [00:00<?, ?it/s]"
      ]
     },
     "metadata": {},
     "output_type": "display_data"
    },
    {
     "name": "stdout",
     "output_type": "stream",
     "text": [
      "https://www.bitstamp.net/api/v2/ohlc/ethusd/?&currency_pair=ethusd&step=180&limit=1000&start=1590966000\n",
      "Downloaded from 2020-06-01 00:00:00 to 2020-06-03 01:57:00 237.99\n",
      "Resample 3Min - TecAn ( windows 40, windows_limit 100 )\n",
      "Processing 999 of ethusd\n"
     ]
    },
    {
     "data": {
      "application/vnd.jupyter.widget-view+json": {
       "model_id": "f31f99d4445f40d4892cf5742a492b71",
       "version_major": 2,
       "version_minor": 0
      },
      "text/plain": [
       "  0%|          | 0/999 [00:00<?, ?it/s]"
      ]
     },
     "metadata": {},
     "output_type": "display_data"
    },
    {
     "name": "stdout",
     "output_type": "stream",
     "text": [
      "https://www.bitstamp.net/api/v2/ohlc/ltcusd/?&currency_pair=ltcusd&step=180&limit=1000&start=1590966000\n",
      "Downloaded from 2020-06-01 00:00:00 to 2020-06-03 01:57:00 46.08\n",
      "Resample 3Min - TecAn ( windows 40, windows_limit 100 )\n",
      "Processing 999 of ltcusd\n"
     ]
    },
    {
     "data": {
      "application/vnd.jupyter.widget-view+json": {
       "model_id": "67eb63f8ac564a478285795814540b7c",
       "version_major": 2,
       "version_minor": 0
      },
      "text/plain": [
       "  0%|          | 0/999 [00:00<?, ?it/s]"
      ]
     },
     "metadata": {},
     "output_type": "display_data"
    },
    {
     "name": "stdout",
     "output_type": "stream",
     "text": [
      "https://www.bitstamp.net/api/v2/ohlc/ltcbtc/?&currency_pair=ltcbtc&step=180&limit=1000&start=1590966000\n",
      "Downloaded from 2020-06-01 00:00:00 to 2020-06-03 01:57:00 0.00484476\n",
      "Resample 3Min - TecAn ( windows 40, windows_limit 100 )\n",
      "Processing 999 of ltcbtc\n"
     ]
    },
    {
     "data": {
      "application/vnd.jupyter.widget-view+json": {
       "model_id": "8977d332d697477285c1b528de915c4a",
       "version_major": 2,
       "version_minor": 0
      },
      "text/plain": [
       "  0%|          | 0/999 [00:00<?, ?it/s]"
      ]
     },
     "metadata": {},
     "output_type": "display_data"
    },
    {
     "name": "stdout",
     "output_type": "stream",
     "text": [
      "https://www.bitstamp.net/api/v2/ohlc/btcusd/?&currency_pair=btcusd&step=180&limit=1000&start=1559343600\n",
      "Downloaded from 2019-06-01 00:00:00 to 2019-06-03 01:57:00 8681.59\n",
      "Resample 3Min - TecAn ( windows 40, windows_limit 100 )\n",
      "Processing 999 of btcusd\n"
     ]
    },
    {
     "data": {
      "application/vnd.jupyter.widget-view+json": {
       "model_id": "8aa769fbaacc474e83f447fe9f4883fd",
       "version_major": 2,
       "version_minor": 0
      },
      "text/plain": [
       "  0%|          | 0/999 [00:00<?, ?it/s]"
      ]
     },
     "metadata": {},
     "output_type": "display_data"
    },
    {
     "name": "stdout",
     "output_type": "stream",
     "text": [
      "https://www.bitstamp.net/api/v2/ohlc/ethusd/?&currency_pair=ethusd&step=180&limit=1000&start=1559343600\n",
      "Downloaded from 2019-06-01 00:00:00 to 2019-06-03 01:57:00 266.63\n",
      "Resample 3Min - TecAn ( windows 40, windows_limit 100 )\n",
      "Processing 999 of ethusd\n"
     ]
    },
    {
     "data": {
      "application/vnd.jupyter.widget-view+json": {
       "model_id": "0ad21ac8e36840e3907742accbce0059",
       "version_major": 2,
       "version_minor": 0
      },
      "text/plain": [
       "  0%|          | 0/999 [00:00<?, ?it/s]"
      ]
     },
     "metadata": {},
     "output_type": "display_data"
    },
    {
     "name": "stdout",
     "output_type": "stream",
     "text": [
      "https://www.bitstamp.net/api/v2/ohlc/ltcusd/?&currency_pair=ltcusd&step=180&limit=1000&start=1559343600\n",
      "Downloaded from 2019-06-01 00:00:00 to 2019-06-03 01:57:00 113.86\n",
      "Resample 3Min - TecAn ( windows 40, windows_limit 100 )\n",
      "Processing 999 of ltcusd\n"
     ]
    },
    {
     "data": {
      "application/vnd.jupyter.widget-view+json": {
       "model_id": "23230d6d6c3b4884a4dab3a9f1484130",
       "version_major": 2,
       "version_minor": 0
      },
      "text/plain": [
       "  0%|          | 0/999 [00:00<?, ?it/s]"
      ]
     },
     "metadata": {},
     "output_type": "display_data"
    },
    {
     "name": "stdout",
     "output_type": "stream",
     "text": [
      "https://www.bitstamp.net/api/v2/ohlc/ltcbtc/?&currency_pair=ltcbtc&step=180&limit=1000&start=1559343600\n",
      "Downloaded from 2019-06-01 00:00:00 to 2019-06-03 01:57:00 0.01310000\n",
      "Resample 3Min - TecAn ( windows 40, windows_limit 100 )\n",
      "Processing 999 of ltcbtc\n"
     ]
    },
    {
     "data": {
      "application/vnd.jupyter.widget-view+json": {
       "model_id": "646636588d8742e8b80f22cf26f9cc43",
       "version_major": 2,
       "version_minor": 0
      },
      "text/plain": [
       "  0%|          | 0/999 [00:00<?, ?it/s]"
      ]
     },
     "metadata": {},
     "output_type": "display_data"
    },
    {
     "name": "stdout",
     "output_type": "stream",
     "text": [
      "https://www.bitstamp.net/api/v2/ohlc/btcusd/?&currency_pair=btcusd&step=180&limit=1000&start=1527807600\n",
      "Downloaded from 2018-06-01 00:00:00 to 2018-06-03 01:57:00 7653.99\n",
      "Resample 3Min - TecAn ( windows 40, windows_limit 100 )\n",
      "Processing 999 of btcusd\n"
     ]
    },
    {
     "data": {
      "application/vnd.jupyter.widget-view+json": {
       "model_id": "7a678035438d4a489f55e0c7f188e892",
       "version_major": 2,
       "version_minor": 0
      },
      "text/plain": [
       "  0%|          | 0/999 [00:00<?, ?it/s]"
      ]
     },
     "metadata": {},
     "output_type": "display_data"
    },
    {
     "name": "stdout",
     "output_type": "stream",
     "text": [
      "https://www.bitstamp.net/api/v2/ohlc/ethusd/?&currency_pair=ethusd&step=180&limit=1000&start=1527807600\n",
      "Downloaded from 2018-06-01 00:00:00 to 2018-06-03 01:57:00 592.70\n",
      "Resample 3Min - TecAn ( windows 40, windows_limit 100 )\n",
      "Processing 999 of ethusd\n"
     ]
    },
    {
     "data": {
      "application/vnd.jupyter.widget-view+json": {
       "model_id": "fb7c484773ce427babebff3b8ddf8b7f",
       "version_major": 2,
       "version_minor": 0
      },
      "text/plain": [
       "  0%|          | 0/999 [00:00<?, ?it/s]"
      ]
     },
     "metadata": {},
     "output_type": "display_data"
    },
    {
     "name": "stdout",
     "output_type": "stream",
     "text": [
      "https://www.bitstamp.net/api/v2/ohlc/ltcusd/?&currency_pair=ltcusd&step=180&limit=1000&start=1527807600\n",
      "Downloaded from 2018-06-01 00:00:00 to 2018-06-03 01:57:00 123.64\n",
      "Resample 3Min - TecAn ( windows 40, windows_limit 100 )\n",
      "Processing 999 of ltcusd\n"
     ]
    },
    {
     "data": {
      "application/vnd.jupyter.widget-view+json": {
       "model_id": "55630e4d725b4000b117882a4bb4f003",
       "version_major": 2,
       "version_minor": 0
      },
      "text/plain": [
       "  0%|          | 0/999 [00:00<?, ?it/s]"
      ]
     },
     "metadata": {},
     "output_type": "display_data"
    },
    {
     "name": "stdout",
     "output_type": "stream",
     "text": [
      "https://www.bitstamp.net/api/v2/ohlc/ltcbtc/?&currency_pair=ltcbtc&step=180&limit=1000&start=1527807600\n",
      "Downloaded from 2018-06-01 00:00:00 to 2018-06-03 01:57:00 0.01614501\n",
      "Resample 3Min - TecAn ( windows 40, windows_limit 100 )\n",
      "Processing 999 of ltcbtc\n"
     ]
    },
    {
     "data": {
      "application/vnd.jupyter.widget-view+json": {
       "model_id": "9db7d01111ca4cb58bb1ca0236fda8ec",
       "version_major": 2,
       "version_minor": 0
      },
      "text/plain": [
       "  0%|          | 0/999 [00:00<?, ?it/s]"
      ]
     },
     "metadata": {},
     "output_type": "display_data"
    },
    {
     "name": "stdout",
     "output_type": "stream",
     "text": [
      "https://www.bitstamp.net/api/v2/ohlc/btcusd/?&currency_pair=btcusd&step=180&limit=1000&start=1517443200\n",
      "Downloaded from 2018-02-01 00:00:00 to 2018-02-03 01:57:00 8563.00\n",
      "Resample 3Min - TecAn ( windows 40, windows_limit 100 )\n",
      "Processing 999 of btcusd\n"
     ]
    },
    {
     "data": {
      "application/vnd.jupyter.widget-view+json": {
       "model_id": "c7941008f63047e98d4eafbf9448fe19",
       "version_major": 2,
       "version_minor": 0
      },
      "text/plain": [
       "  0%|          | 0/999 [00:00<?, ?it/s]"
      ]
     },
     "metadata": {},
     "output_type": "display_data"
    },
    {
     "name": "stdout",
     "output_type": "stream",
     "text": [
      "https://www.bitstamp.net/api/v2/ohlc/ethusd/?&currency_pair=ethusd&step=180&limit=1000&start=1517443200\n",
      "Downloaded from 2018-02-01 00:00:00 to 2018-02-03 01:57:00 894.06\n",
      "Resample 3Min - TecAn ( windows 40, windows_limit 100 )\n",
      "Processing 999 of ethusd\n"
     ]
    },
    {
     "data": {
      "application/vnd.jupyter.widget-view+json": {
       "model_id": "729398b33bd14ebcb03465ab8aa1be77",
       "version_major": 2,
       "version_minor": 0
      },
      "text/plain": [
       "  0%|          | 0/999 [00:00<?, ?it/s]"
      ]
     },
     "metadata": {},
     "output_type": "display_data"
    },
    {
     "name": "stdout",
     "output_type": "stream",
     "text": [
      "https://www.bitstamp.net/api/v2/ohlc/ltcusd/?&currency_pair=ltcusd&step=180&limit=1000&start=1517443200\n",
      "Downloaded from 2018-02-01 00:00:00 to 2018-02-03 01:57:00 127.76\n",
      "Resample 3Min - TecAn ( windows 40, windows_limit 100 )\n",
      "Processing 999 of ltcusd\n"
     ]
    },
    {
     "data": {
      "application/vnd.jupyter.widget-view+json": {
       "model_id": "93562059c46f458697d54ca032b1846b",
       "version_major": 2,
       "version_minor": 0
      },
      "text/plain": [
       "  0%|          | 0/999 [00:00<?, ?it/s]"
      ]
     },
     "metadata": {},
     "output_type": "display_data"
    },
    {
     "name": "stdout",
     "output_type": "stream",
     "text": [
      "https://www.bitstamp.net/api/v2/ohlc/ltcbtc/?&currency_pair=ltcbtc&step=180&limit=1000&start=1517443200\n",
      "Downloaded from 2018-02-01 00:00:00 to 2018-02-03 01:57:00 0.01497000\n",
      "Resample 3Min - TecAn ( windows 40, windows_limit 100 )\n",
      "Processing 999 of ltcbtc\n"
     ]
    },
    {
     "data": {
      "application/vnd.jupyter.widget-view+json": {
       "model_id": "5673b9c6922c42af8a0543f8d871924d",
       "version_major": 2,
       "version_minor": 0
      },
      "text/plain": [
       "  0%|          | 0/999 [00:00<?, ?it/s]"
      ]
     },
     "metadata": {},
     "output_type": "display_data"
    },
    {
     "name": "stdout",
     "output_type": "stream",
     "text": [
      "https://www.bitstamp.net/api/v2/ohlc/btcusd/?&currency_pair=btcusd&step=180&limit=1000&start=1548979200\n",
      "Downloaded from 2019-02-01 00:00:00 to 2019-02-03 01:57:00 3448.32\n",
      "Resample 3Min - TecAn ( windows 40, windows_limit 100 )\n",
      "Processing 999 of btcusd\n"
     ]
    },
    {
     "data": {
      "application/vnd.jupyter.widget-view+json": {
       "model_id": "804344fc941844c1b1f797fa4f22c01a",
       "version_major": 2,
       "version_minor": 0
      },
      "text/plain": [
       "  0%|          | 0/999 [00:00<?, ?it/s]"
      ]
     },
     "metadata": {},
     "output_type": "display_data"
    },
    {
     "name": "stdout",
     "output_type": "stream",
     "text": [
      "https://www.bitstamp.net/api/v2/ohlc/ethusd/?&currency_pair=ethusd&step=180&limit=1000&start=1548979200\n",
      "Downloaded from 2019-02-01 00:00:00 to 2019-02-03 01:57:00 108.63\n",
      "Resample 3Min - TecAn ( windows 40, windows_limit 100 )\n",
      "Processing 999 of ethusd\n"
     ]
    },
    {
     "data": {
      "application/vnd.jupyter.widget-view+json": {
       "model_id": "8cec45745b494c57a7a6ff21d1eba5db",
       "version_major": 2,
       "version_minor": 0
      },
      "text/plain": [
       "  0%|          | 0/999 [00:00<?, ?it/s]"
      ]
     },
     "metadata": {},
     "output_type": "display_data"
    },
    {
     "name": "stdout",
     "output_type": "stream",
     "text": [
      "https://www.bitstamp.net/api/v2/ohlc/ltcusd/?&currency_pair=ltcusd&step=180&limit=1000&start=1548979200\n",
      "Downloaded from 2019-02-01 00:00:00 to 2019-02-03 01:57:00 34.01\n",
      "Resample 3Min - TecAn ( windows 40, windows_limit 100 )\n",
      "Processing 999 of ltcusd\n"
     ]
    },
    {
     "data": {
      "application/vnd.jupyter.widget-view+json": {
       "model_id": "a9093768fcd3408ea474bb138175c264",
       "version_major": 2,
       "version_minor": 0
      },
      "text/plain": [
       "  0%|          | 0/999 [00:00<?, ?it/s]"
      ]
     },
     "metadata": {},
     "output_type": "display_data"
    },
    {
     "name": "stdout",
     "output_type": "stream",
     "text": [
      "https://www.bitstamp.net/api/v2/ohlc/ltcbtc/?&currency_pair=ltcbtc&step=180&limit=1000&start=1548979200\n",
      "Downloaded from 2019-02-01 00:00:00 to 2019-02-03 01:57:00 0.00988827\n",
      "Resample 3Min - TecAn ( windows 40, windows_limit 100 )\n",
      "Processing 999 of ltcbtc\n"
     ]
    },
    {
     "data": {
      "application/vnd.jupyter.widget-view+json": {
       "model_id": "84d36690a5f241d79ed3ac080f3046a2",
       "version_major": 2,
       "version_minor": 0
      },
      "text/plain": [
       "  0%|          | 0/999 [00:00<?, ?it/s]"
      ]
     },
     "metadata": {},
     "output_type": "display_data"
    },
    {
     "name": "stdout",
     "output_type": "stream",
     "text": [
      "https://www.bitstamp.net/api/v2/ohlc/btcusd/?&currency_pair=btcusd&step=180&limit=1000&start=1580515200\n",
      "Downloaded from 2020-02-01 00:00:00 to 2020-02-03 01:57:00 9540.01\n",
      "Resample 3Min - TecAn ( windows 40, windows_limit 100 )\n",
      "Processing 999 of btcusd\n"
     ]
    },
    {
     "data": {
      "application/vnd.jupyter.widget-view+json": {
       "model_id": "f84682c52d984d5896f13c467d55c361",
       "version_major": 2,
       "version_minor": 0
      },
      "text/plain": [
       "  0%|          | 0/999 [00:00<?, ?it/s]"
      ]
     },
     "metadata": {},
     "output_type": "display_data"
    },
    {
     "name": "stdout",
     "output_type": "stream",
     "text": [
      "https://www.bitstamp.net/api/v2/ohlc/ethusd/?&currency_pair=ethusd&step=180&limit=1000&start=1580515200\n",
      "Downloaded from 2020-02-01 00:00:00 to 2020-02-03 01:57:00 193.14\n",
      "Resample 3Min - TecAn ( windows 40, windows_limit 100 )\n",
      "Processing 999 of ethusd\n"
     ]
    },
    {
     "data": {
      "application/vnd.jupyter.widget-view+json": {
       "model_id": "1d80218271bf40d0a0e94d5c8e97b2f9",
       "version_major": 2,
       "version_minor": 0
      },
      "text/plain": [
       "  0%|          | 0/999 [00:00<?, ?it/s]"
      ]
     },
     "metadata": {},
     "output_type": "display_data"
    },
    {
     "name": "stdout",
     "output_type": "stream",
     "text": [
      "https://www.bitstamp.net/api/v2/ohlc/ltcusd/?&currency_pair=ltcusd&step=180&limit=1000&start=1580515200\n",
      "Downloaded from 2020-02-01 00:00:00 to 2020-02-03 01:57:00 71.63\n",
      "Resample 3Min - TecAn ( windows 40, windows_limit 100 )\n",
      "Processing 999 of ltcusd\n"
     ]
    },
    {
     "data": {
      "application/vnd.jupyter.widget-view+json": {
       "model_id": "e733c033a86c47be8bc92776f1bec9e8",
       "version_major": 2,
       "version_minor": 0
      },
      "text/plain": [
       "  0%|          | 0/999 [00:00<?, ?it/s]"
      ]
     },
     "metadata": {},
     "output_type": "display_data"
    },
    {
     "name": "stdout",
     "output_type": "stream",
     "text": [
      "https://www.bitstamp.net/api/v2/ohlc/ltcbtc/?&currency_pair=ltcbtc&step=180&limit=1000&start=1580515200\n",
      "Downloaded from 2020-02-01 00:00:00 to 2020-02-03 01:57:00 0.00758690\n",
      "Resample 3Min - TecAn ( windows 40, windows_limit 100 )\n",
      "Processing 999 of ltcbtc\n"
     ]
    },
    {
     "data": {
      "application/vnd.jupyter.widget-view+json": {
       "model_id": "89e9a874f8b14f46828d30bffdb7fc38",
       "version_major": 2,
       "version_minor": 0
      },
      "text/plain": [
       "  0%|          | 0/999 [00:00<?, ?it/s]"
      ]
     },
     "metadata": {},
     "output_type": "display_data"
    },
    {
     "name": "stdout",
     "output_type": "stream",
     "text": [
      "https://www.bitstamp.net/api/v2/ohlc/btcusd/?&currency_pair=btcusd&step=180&limit=1000&start=1612137600\n",
      "Downloaded from 2021-02-01 00:00:00 to 2021-02-03 01:57:00 35892.89\n",
      "Resample 3Min - TecAn ( windows 40, windows_limit 100 )\n",
      "Processing 999 of btcusd\n"
     ]
    },
    {
     "data": {
      "application/vnd.jupyter.widget-view+json": {
       "model_id": "f61f24c1c08e4c29b14a5f05196985e5",
       "version_major": 2,
       "version_minor": 0
      },
      "text/plain": [
       "  0%|          | 0/999 [00:00<?, ?it/s]"
      ]
     },
     "metadata": {},
     "output_type": "display_data"
    },
    {
     "name": "stdout",
     "output_type": "stream",
     "text": [
      "https://www.bitstamp.net/api/v2/ohlc/ethusd/?&currency_pair=ethusd&step=180&limit=1000&start=1612137600\n",
      "Downloaded from 2021-02-01 00:00:00 to 2021-02-03 01:57:00 1519.63\n",
      "Resample 3Min - TecAn ( windows 40, windows_limit 100 )\n",
      "Processing 999 of ethusd\n"
     ]
    },
    {
     "data": {
      "application/vnd.jupyter.widget-view+json": {
       "model_id": "dbabf9a9544a41149ae42df9a484681e",
       "version_major": 2,
       "version_minor": 0
      },
      "text/plain": [
       "  0%|          | 0/999 [00:00<?, ?it/s]"
      ]
     },
     "metadata": {},
     "output_type": "display_data"
    },
    {
     "name": "stdout",
     "output_type": "stream",
     "text": [
      "https://www.bitstamp.net/api/v2/ohlc/ltcusd/?&currency_pair=ltcusd&step=180&limit=1000&start=1612137600\n",
      "Downloaded from 2021-02-01 00:00:00 to 2021-02-03 01:57:00 148.03\n",
      "Resample 3Min - TecAn ( windows 40, windows_limit 100 )\n",
      "Processing 999 of ltcusd\n"
     ]
    },
    {
     "data": {
      "application/vnd.jupyter.widget-view+json": {
       "model_id": "4b5535d26c484a00a9a83cc9e138cb57",
       "version_major": 2,
       "version_minor": 0
      },
      "text/plain": [
       "  0%|          | 0/999 [00:00<?, ?it/s]"
      ]
     },
     "metadata": {},
     "output_type": "display_data"
    },
    {
     "name": "stdout",
     "output_type": "stream",
     "text": [
      "https://www.bitstamp.net/api/v2/ohlc/ltcbtc/?&currency_pair=ltcbtc&step=180&limit=1000&start=1612137600\n",
      "Downloaded from 2021-02-01 00:00:00 to 2021-02-03 01:57:00 0.00412009\n",
      "Resample 3Min - TecAn ( windows 40, windows_limit 100 )\n",
      "Processing 999 of ltcbtc\n"
     ]
    },
    {
     "data": {
      "application/vnd.jupyter.widget-view+json": {
       "model_id": "f9e149032aea40ff930e5f7804ac15d6",
       "version_major": 2,
       "version_minor": 0
      },
      "text/plain": [
       "  0%|          | 0/999 [00:00<?, ?it/s]"
      ]
     },
     "metadata": {},
     "output_type": "display_data"
    },
    {
     "name": "stdout",
     "output_type": "stream",
     "text": [
      "https://www.bitstamp.net/api/v2/ohlc/btcusd/?&currency_pair=btcusd&step=180&limit=1000&start=1623711600\n",
      "https://www.bitstamp.net/api/v2/ohlc/btcusd/?&currency_pair=btcusd&step=180&limit=1000&start=1623891420\n",
      "https://www.bitstamp.net/api/v2/ohlc/btcusd/?&currency_pair=btcusd&step=180&limit=1000&start=1624071240\n",
      "https://www.bitstamp.net/api/v2/ohlc/btcusd/?&currency_pair=btcusd&step=180&limit=1000&start=1624251060\n",
      "https://www.bitstamp.net/api/v2/ohlc/btcusd/?&currency_pair=btcusd&step=180&limit=1000&start=1624430880\n",
      "https://www.bitstamp.net/api/v2/ohlc/btcusd/?&currency_pair=btcusd&step=180&limit=1000&start=1624610700\n",
      "https://www.bitstamp.net/api/v2/ohlc/btcusd/?&currency_pair=btcusd&step=180&limit=1000&start=1624790520\n",
      "https://www.bitstamp.net/api/v2/ohlc/btcusd/?&currency_pair=btcusd&step=180&limit=1000&start=1624970340\n",
      "https://www.bitstamp.net/api/v2/ohlc/btcusd/?&currency_pair=btcusd&step=180&limit=1000&start=1625150160\n",
      "https://www.bitstamp.net/api/v2/ohlc/btcusd/?&currency_pair=btcusd&step=180&limit=1000&start=1625329980\n",
      "https://www.bitstamp.net/api/v2/ohlc/btcusd/?&currency_pair=btcusd&step=180&limit=1000&start=1625509800\n",
      "https://www.bitstamp.net/api/v2/ohlc/btcusd/?&currency_pair=btcusd&step=180&limit=1000&start=1625689620\n",
      "https://www.bitstamp.net/api/v2/ohlc/btcusd/?&currency_pair=btcusd&step=180&limit=1000&start=1625869440\n",
      "https://www.bitstamp.net/api/v2/ohlc/btcusd/?&currency_pair=btcusd&step=180&limit=1000&start=1626049260\n",
      "https://www.bitstamp.net/api/v2/ohlc/btcusd/?&currency_pair=btcusd&step=180&limit=1000&start=1626229080\n",
      "Downloaded from 2021-06-15 00:00:00 to 2021-07-15 00:03:00 32951.92\n",
      "Resample 3Min - TecAn ( windows 40, windows_limit 100 )\n",
      "Processing 14415 of btcusd\n"
     ]
    },
    {
     "data": {
      "application/vnd.jupyter.widget-view+json": {
       "model_id": "768930611e334c79b3fadd1aa6107fca",
       "version_major": 2,
       "version_minor": 0
      },
      "text/plain": [
       "  0%|          | 0/14415 [00:00<?, ?it/s]"
      ]
     },
     "metadata": {},
     "output_type": "display_data"
    },
    {
     "name": "stdout",
     "output_type": "stream",
     "text": [
      "https://www.bitstamp.net/api/v2/ohlc/ethusd/?&currency_pair=ethusd&step=180&limit=1000&start=1623711600\n",
      "https://www.bitstamp.net/api/v2/ohlc/ethusd/?&currency_pair=ethusd&step=180&limit=1000&start=1623891420\n",
      "https://www.bitstamp.net/api/v2/ohlc/ethusd/?&currency_pair=ethusd&step=180&limit=1000&start=1624071240\n",
      "https://www.bitstamp.net/api/v2/ohlc/ethusd/?&currency_pair=ethusd&step=180&limit=1000&start=1624251060\n",
      "https://www.bitstamp.net/api/v2/ohlc/ethusd/?&currency_pair=ethusd&step=180&limit=1000&start=1624430880\n",
      "https://www.bitstamp.net/api/v2/ohlc/ethusd/?&currency_pair=ethusd&step=180&limit=1000&start=1624610700\n",
      "https://www.bitstamp.net/api/v2/ohlc/ethusd/?&currency_pair=ethusd&step=180&limit=1000&start=1624790520\n",
      "https://www.bitstamp.net/api/v2/ohlc/ethusd/?&currency_pair=ethusd&step=180&limit=1000&start=1624970340\n",
      "https://www.bitstamp.net/api/v2/ohlc/ethusd/?&currency_pair=ethusd&step=180&limit=1000&start=1625150160\n",
      "https://www.bitstamp.net/api/v2/ohlc/ethusd/?&currency_pair=ethusd&step=180&limit=1000&start=1625329980\n",
      "https://www.bitstamp.net/api/v2/ohlc/ethusd/?&currency_pair=ethusd&step=180&limit=1000&start=1625509800\n",
      "https://www.bitstamp.net/api/v2/ohlc/ethusd/?&currency_pair=ethusd&step=180&limit=1000&start=1625689620\n",
      "https://www.bitstamp.net/api/v2/ohlc/ethusd/?&currency_pair=ethusd&step=180&limit=1000&start=1625869440\n",
      "https://www.bitstamp.net/api/v2/ohlc/ethusd/?&currency_pair=ethusd&step=180&limit=1000&start=1626049260\n",
      "https://www.bitstamp.net/api/v2/ohlc/ethusd/?&currency_pair=ethusd&step=180&limit=1000&start=1626229080\n",
      "Downloaded from 2021-06-15 00:00:00 to 2021-07-15 00:03:00 2002.95\n",
      "Resample 3Min - TecAn ( windows 40, windows_limit 100 )\n",
      "Processing 14415 of ethusd\n"
     ]
    },
    {
     "data": {
      "application/vnd.jupyter.widget-view+json": {
       "model_id": "e4c7483fd4654e30808a271072167b7b",
       "version_major": 2,
       "version_minor": 0
      },
      "text/plain": [
       "  0%|          | 0/14415 [00:00<?, ?it/s]"
      ]
     },
     "metadata": {},
     "output_type": "display_data"
    },
    {
     "name": "stdout",
     "output_type": "stream",
     "text": [
      "https://www.bitstamp.net/api/v2/ohlc/ltcusd/?&currency_pair=ltcusd&step=180&limit=1000&start=1623711600\n",
      "https://www.bitstamp.net/api/v2/ohlc/ltcusd/?&currency_pair=ltcusd&step=180&limit=1000&start=1623891420\n",
      "https://www.bitstamp.net/api/v2/ohlc/ltcusd/?&currency_pair=ltcusd&step=180&limit=1000&start=1624071240\n",
      "https://www.bitstamp.net/api/v2/ohlc/ltcusd/?&currency_pair=ltcusd&step=180&limit=1000&start=1624251060\n",
      "https://www.bitstamp.net/api/v2/ohlc/ltcusd/?&currency_pair=ltcusd&step=180&limit=1000&start=1624430880\n",
      "https://www.bitstamp.net/api/v2/ohlc/ltcusd/?&currency_pair=ltcusd&step=180&limit=1000&start=1624610700\n",
      "https://www.bitstamp.net/api/v2/ohlc/ltcusd/?&currency_pair=ltcusd&step=180&limit=1000&start=1624790520\n",
      "https://www.bitstamp.net/api/v2/ohlc/ltcusd/?&currency_pair=ltcusd&step=180&limit=1000&start=1624970340\n",
      "https://www.bitstamp.net/api/v2/ohlc/ltcusd/?&currency_pair=ltcusd&step=180&limit=1000&start=1625150160\n",
      "https://www.bitstamp.net/api/v2/ohlc/ltcusd/?&currency_pair=ltcusd&step=180&limit=1000&start=1625329980\n",
      "https://www.bitstamp.net/api/v2/ohlc/ltcusd/?&currency_pair=ltcusd&step=180&limit=1000&start=1625509800\n",
      "https://www.bitstamp.net/api/v2/ohlc/ltcusd/?&currency_pair=ltcusd&step=180&limit=1000&start=1625689620\n",
      "https://www.bitstamp.net/api/v2/ohlc/ltcusd/?&currency_pair=ltcusd&step=180&limit=1000&start=1625869440\n",
      "https://www.bitstamp.net/api/v2/ohlc/ltcusd/?&currency_pair=ltcusd&step=180&limit=1000&start=1626049260\n",
      "https://www.bitstamp.net/api/v2/ohlc/ltcusd/?&currency_pair=ltcusd&step=180&limit=1000&start=1626229080\n",
      "Downloaded from 2021-06-15 00:00:00 to 2021-07-15 00:03:00 131.22\n",
      "Resample 3Min - TecAn ( windows 40, windows_limit 100 )\n",
      "Processing 14415 of ltcusd\n"
     ]
    },
    {
     "data": {
      "application/vnd.jupyter.widget-view+json": {
       "model_id": "aa25d2a8996f4697900a402d2959d0d0",
       "version_major": 2,
       "version_minor": 0
      },
      "text/plain": [
       "  0%|          | 0/14415 [00:00<?, ?it/s]"
      ]
     },
     "metadata": {},
     "output_type": "display_data"
    },
    {
     "name": "stdout",
     "output_type": "stream",
     "text": [
      "https://www.bitstamp.net/api/v2/ohlc/ltcbtc/?&currency_pair=ltcbtc&step=180&limit=1000&start=1623711600\n",
      "https://www.bitstamp.net/api/v2/ohlc/ltcbtc/?&currency_pair=ltcbtc&step=180&limit=1000&start=1623891420\n",
      "https://www.bitstamp.net/api/v2/ohlc/ltcbtc/?&currency_pair=ltcbtc&step=180&limit=1000&start=1624071240\n",
      "https://www.bitstamp.net/api/v2/ohlc/ltcbtc/?&currency_pair=ltcbtc&step=180&limit=1000&start=1624251060\n",
      "https://www.bitstamp.net/api/v2/ohlc/ltcbtc/?&currency_pair=ltcbtc&step=180&limit=1000&start=1624430880\n",
      "https://www.bitstamp.net/api/v2/ohlc/ltcbtc/?&currency_pair=ltcbtc&step=180&limit=1000&start=1624610700\n",
      "https://www.bitstamp.net/api/v2/ohlc/ltcbtc/?&currency_pair=ltcbtc&step=180&limit=1000&start=1624790520\n",
      "https://www.bitstamp.net/api/v2/ohlc/ltcbtc/?&currency_pair=ltcbtc&step=180&limit=1000&start=1624970340\n",
      "https://www.bitstamp.net/api/v2/ohlc/ltcbtc/?&currency_pair=ltcbtc&step=180&limit=1000&start=1625150160\n",
      "https://www.bitstamp.net/api/v2/ohlc/ltcbtc/?&currency_pair=ltcbtc&step=180&limit=1000&start=1625329980\n",
      "https://www.bitstamp.net/api/v2/ohlc/ltcbtc/?&currency_pair=ltcbtc&step=180&limit=1000&start=1625509800\n",
      "https://www.bitstamp.net/api/v2/ohlc/ltcbtc/?&currency_pair=ltcbtc&step=180&limit=1000&start=1625689620\n",
      "https://www.bitstamp.net/api/v2/ohlc/ltcbtc/?&currency_pair=ltcbtc&step=180&limit=1000&start=1625869440\n",
      "https://www.bitstamp.net/api/v2/ohlc/ltcbtc/?&currency_pair=ltcbtc&step=180&limit=1000&start=1626049260\n",
      "https://www.bitstamp.net/api/v2/ohlc/ltcbtc/?&currency_pair=ltcbtc&step=180&limit=1000&start=1626229080\n",
      "Downloaded from 2021-06-15 00:00:00 to 2021-07-15 00:03:00 0.00398347\n",
      "Resample 3Min - TecAn ( windows 40, windows_limit 100 )\n",
      "Processing 14415 of ltcbtc\n"
     ]
    },
    {
     "data": {
      "application/vnd.jupyter.widget-view+json": {
       "model_id": "f42e289a381040a89426aae1726abf86",
       "version_major": 2,
       "version_minor": 0
      },
      "text/plain": [
       "  0%|          | 0/14415 [00:00<?, ?it/s]"
      ]
     },
     "metadata": {},
     "output_type": "display_data"
    },
    {
     "name": "stdout",
     "output_type": "stream",
     "text": [
      "CPU times: user 6h 8min 19s, sys: 22min 4s, total: 6h 30min 23s\n",
      "Wall time: 6h 24min 32s\n"
     ]
    }
   ],
   "source": [
    "%%time\n",
    "\n",
    "params = []\n",
    "\n",
    "for minute in minutes:\n",
    "    for win in windows:\n",
    "        param = {}\n",
    "        param['minute'] = minute\n",
    "        param['win'] = win\n",
    "        params.append(param)\n",
    "\n",
    "for param in tqdm(params):\n",
    "    load(param['minute'], param['win'])"
   ]
  },
  {
   "cell_type": "code",
   "execution_count": 8,
   "metadata": {},
   "outputs": [
    {
     "data": {
      "text/plain": [
       "[{'minute': 15, 'win': 5},\n",
       " {'minute': 15, 'win': 10},\n",
       " {'minute': 15, 'win': 20},\n",
       " {'minute': 15, 'win': 30},\n",
       " {'minute': 15, 'win': 40},\n",
       " {'minute': 5, 'win': 5},\n",
       " {'minute': 5, 'win': 10},\n",
       " {'minute': 5, 'win': 20},\n",
       " {'minute': 5, 'win': 30},\n",
       " {'minute': 5, 'win': 40},\n",
       " {'minute': 3, 'win': 5},\n",
       " {'minute': 3, 'win': 10},\n",
       " {'minute': 3, 'win': 20},\n",
       " {'minute': 3, 'win': 30},\n",
       " {'minute': 3, 'win': 40}]"
      ]
     },
     "execution_count": 8,
     "metadata": {},
     "output_type": "execute_result"
    }
   ],
   "source": [
    "params"
   ]
  },
  {
   "cell_type": "code",
   "execution_count": 9,
   "metadata": {
    "scrolled": true
   },
   "outputs": [
    {
     "data": {
      "application/vnd.jupyter.widget-view+json": {
       "model_id": "ce06bef89b9446008711a102a6c50405",
       "version_major": 2,
       "version_minor": 0
      },
      "text/plain": [
       "  0%|          | 0/3 [00:00<?, ?it/s]"
      ]
     },
     "metadata": {},
     "output_type": "display_data"
    },
    {
     "ename": "RuntimeError",
     "evalue": "cannot join thread before it is started",
     "output_type": "error",
     "traceback": [
      "\u001b[0;31m---------------------------------------------------------------------------\u001b[0m",
      "\u001b[0;31mRuntimeError\u001b[0m                              Traceback (most recent call last)",
      "\u001b[0;32m<timed exec>\u001b[0m in \u001b[0;36m<module>\u001b[0;34m\u001b[0m\n",
      "\u001b[0;32m~/opt/miniconda3/envs/py3/lib/python3.9/threading.py\u001b[0m in \u001b[0;36mjoin\u001b[0;34m(self, timeout)\u001b[0m\n\u001b[1;32m   1026\u001b[0m             \u001b[0;32mraise\u001b[0m \u001b[0mRuntimeError\u001b[0m\u001b[0;34m(\u001b[0m\u001b[0;34m\"Thread.__init__() not called\"\u001b[0m\u001b[0;34m)\u001b[0m\u001b[0;34m\u001b[0m\u001b[0;34m\u001b[0m\u001b[0m\n\u001b[1;32m   1027\u001b[0m         \u001b[0;32mif\u001b[0m \u001b[0;32mnot\u001b[0m \u001b[0mself\u001b[0m\u001b[0;34m.\u001b[0m\u001b[0m_started\u001b[0m\u001b[0;34m.\u001b[0m\u001b[0mis_set\u001b[0m\u001b[0;34m(\u001b[0m\u001b[0;34m)\u001b[0m\u001b[0;34m:\u001b[0m\u001b[0;34m\u001b[0m\u001b[0;34m\u001b[0m\u001b[0m\n\u001b[0;32m-> 1028\u001b[0;31m             \u001b[0;32mraise\u001b[0m \u001b[0mRuntimeError\u001b[0m\u001b[0;34m(\u001b[0m\u001b[0;34m\"cannot join thread before it is started\"\u001b[0m\u001b[0;34m)\u001b[0m\u001b[0;34m\u001b[0m\u001b[0;34m\u001b[0m\u001b[0m\n\u001b[0m\u001b[1;32m   1029\u001b[0m         \u001b[0;32mif\u001b[0m \u001b[0mself\u001b[0m \u001b[0;32mis\u001b[0m \u001b[0mcurrent_thread\u001b[0m\u001b[0;34m(\u001b[0m\u001b[0;34m)\u001b[0m\u001b[0;34m:\u001b[0m\u001b[0;34m\u001b[0m\u001b[0;34m\u001b[0m\u001b[0m\n\u001b[1;32m   1030\u001b[0m             \u001b[0;32mraise\u001b[0m \u001b[0mRuntimeError\u001b[0m\u001b[0;34m(\u001b[0m\u001b[0;34m\"cannot join current thread\"\u001b[0m\u001b[0;34m)\u001b[0m\u001b[0;34m\u001b[0m\u001b[0;34m\u001b[0m\u001b[0m\n",
      "\u001b[0;31mRuntimeError\u001b[0m: cannot join thread before it is started"
     ]
    }
   ],
   "source": [
    "%%time\n",
    "\n",
    "import time\n",
    "\n",
    "threads = []\n",
    "for minute in tqdm(minutes):\n",
    "    threads = []\n",
    "    for win in windows:\n",
    "        t = threading.Thread(target=load, args=(minute, win,))\n",
    "        t.setDaemon(True)\n",
    "        #t.start()\n",
    "        threads.append(t)\n",
    "        #time.sleep(1)\n",
    "    for th in threads:\n",
    "        #th.start()\n",
    "        time.sleep(30)\n",
    "    for th in threads:\n",
    "        th.join()\n"
   ]
  },
  {
   "cell_type": "code",
   "execution_count": null,
   "metadata": {},
   "outputs": [],
   "source": []
  }
 ],
 "metadata": {
  "accelerator": "GPU",
  "colab": {
   "collapsed_sections": [],
   "name": "enviroment",
   "provenance": [],
   "version": "0.3.2"
  },
  "kernelspec": {
   "display_name": "Python 3",
   "language": "python",
   "name": "python3"
  },
  "language_info": {
   "codemirror_mode": {
    "name": "ipython",
    "version": 3
   },
   "file_extension": ".py",
   "mimetype": "text/x-python",
   "name": "python",
   "nbconvert_exporter": "python",
   "pygments_lexer": "ipython3",
   "version": "3.9.5"
  }
 },
 "nbformat": 4,
 "nbformat_minor": 4
}
