{
 "cells": [
  {
   "cell_type": "code",
   "execution_count": 5,
   "metadata": {
    "colab": {
     "base_uri": "https://localhost:8080/",
     "height": 170
    },
    "colab_type": "code",
    "executionInfo": {
     "elapsed": 503083,
     "status": "ok",
     "timestamp": 1568068274112,
     "user": {
      "displayName": "Samir Moreira Antônio",
      "photoUrl": "https://lh3.googleusercontent.com/a-/AAuE7mCsh3ldsSLN0VnFRYp341EzO_UyuRNKmLncUbMA3Q=s64",
      "userId": "14581632111443153742"
     },
     "user_tz": -60
    },
    "id": "fGVQczSlF-9o",
    "outputId": "e3a06798-f737-48d9-ec6e-d3784cec3115"
   },
   "outputs": [],
   "source": [
    "import pandas as pd\n",
    "import data_util\n",
    "from tqdm.notebook import tqdm\n",
    "from data_generator import DataGenerator\n",
    "from tec_an import TecAn\n",
    "import numpy as np\n",
    "from data_util import *\n",
    "from backtest import *\n",
    "import threading\n",
    "import multiprocessing\n",
    "from data_agent import DataAgent, TacProcess\n",
    "from joblib import dump, load"
   ]
  },
  {
   "cell_type": "code",
   "execution_count": 6,
   "metadata": {},
   "outputs": [],
   "source": [
    "#train_start_list = [1622502000, 1590966000, 1559343600, 1580515200, 1612137600]\n",
    "train_start_list = [1622502000, 1590966000, 1559343600, 1527807600, 1517443200, 1548979200, 1580515200, 1612137600]\n",
    "#train_start_list = [1612137600]\n",
    "train_keys = [\"btcusd\", \"ethusd\", \"ltcusd\", \"ltcbtc\"]\n",
    "#train_keys = []\n",
    "#train_keys = [\"btcusd\"]\n",
    "val_start = 1623711600\n",
    "val_end = 1626303600\n",
    "val_keys = [\"btcusd\", \"ethusd\", \"ltcusd\", \"ltcbtc\"]"
   ]
  },
  {
   "cell_type": "code",
   "execution_count": 7,
   "metadata": {},
   "outputs": [],
   "source": [
    "\n",
    "steps = 1\n",
    "\n",
    "windows = [5, 10, 20, 30, 40]\n",
    "\n",
    "minutes = [30, 15, 5, 3]\n",
    "minutes = [30]\n",
    "\n",
    "load_from_disk =  False\n"
   ]
  },
  {
   "cell_type": "code",
   "execution_count": 8,
   "metadata": {},
   "outputs": [],
   "source": [
    "def get_online_data(minutes, source_data_generator, load_from_disk, file_prefix = \"\"):\n",
    "    \n",
    "    online = OnLineDataProvider(\n",
    "                 source_data_generator = source_data_generator,\n",
    "                 minutes = minutes,\n",
    "                 train_keys = train_keys,\n",
    "                 train_limit = 1000,\n",
    "                 val_limit = 1000,\n",
    "                 val_keys = val_keys,\n",
    "                 val_start = val_start,\n",
    "                 val_end = val_end,\n",
    "                 train_start_list = train_start_list\n",
    "    )\n",
    "\n",
    "    online_path = f'data/online{file_prefix}_{minutes}'\n",
    "    \n",
    "    online.load_cache()\n",
    "    online.source_data_generator = None\n",
    "    dump(online, online_path)\n",
    "    \n",
    "    return online"
   ]
  },
  {
   "cell_type": "code",
   "execution_count": 9,
   "metadata": {},
   "outputs": [],
   "source": [
    "data = []\n",
    "\n",
    "def load(minute, win):\n",
    "    tec = TecAn(windows = win, windows_limit = 100)\n",
    "    source_data_generator = SourceDataGenerator(tec = tec)\n",
    "    online = get_online_data(minutes = minute, \n",
    "                     source_data_generator = source_data_generator, \n",
    "                     load_from_disk = load_from_disk, \n",
    "                     file_prefix = win)\n",
    "    data.append(online)\n",
    "    \n"
   ]
  },
  {
   "cell_type": "code",
   "execution_count": 10,
   "metadata": {},
   "outputs": [
    {
     "data": {
      "application/vnd.jupyter.widget-view+json": {
       "model_id": "2abf80e7a9d1434a878421efb0862206",
       "version_major": 2,
       "version_minor": 0
      },
      "text/plain": [
       "  0%|          | 0/5 [00:00<?, ?it/s]"
      ]
     },
     "metadata": {},
     "output_type": "display_data"
    },
    {
     "name": "stdout",
     "output_type": "stream",
     "text": [
      "https://www.bitstamp.net/api/v2/ohlc/btcusd/?&currency_pair=btcusd&step=1800&limit=1000&start=1622502000\n",
      "Downloaded from 2021-06-01 00:00:00 to 2021-06-21 19:30:00 32470.01\n",
      "Resample 30Min - TecAn ( windows 5, windows_limit 100 )\n",
      "Processing 999 of btcusd\n"
     ]
    },
    {
     "data": {
      "application/vnd.jupyter.widget-view+json": {
       "model_id": "af89d153e0154b37a83fde6df7582358",
       "version_major": 2,
       "version_minor": 0
      },
      "text/plain": [
       "  0%|          | 0/999 [00:00<?, ?it/s]"
      ]
     },
     "metadata": {},
     "output_type": "display_data"
    },
    {
     "name": "stdout",
     "output_type": "stream",
     "text": [
      "https://www.bitstamp.net/api/v2/ohlc/ethusd/?&currency_pair=ethusd&step=1800&limit=1000&start=1622502000\n",
      "Downloaded from 2021-06-01 00:00:00 to 2021-06-21 19:30:00 1929.00\n",
      "Resample 30Min - TecAn ( windows 5, windows_limit 100 )\n",
      "Processing 999 of ethusd\n"
     ]
    },
    {
     "data": {
      "application/vnd.jupyter.widget-view+json": {
       "model_id": "556c779f094a49da9c2632930c43f1e3",
       "version_major": 2,
       "version_minor": 0
      },
      "text/plain": [
       "  0%|          | 0/999 [00:00<?, ?it/s]"
      ]
     },
     "metadata": {},
     "output_type": "display_data"
    },
    {
     "name": "stdout",
     "output_type": "stream",
     "text": [
      "https://www.bitstamp.net/api/v2/ohlc/ltcusd/?&currency_pair=ltcusd&step=1800&limit=1000&start=1622502000\n",
      "Downloaded from 2021-06-01 00:00:00 to 2021-06-21 19:30:00 133.00\n",
      "Resample 30Min - TecAn ( windows 5, windows_limit 100 )\n",
      "Processing 999 of ltcusd\n"
     ]
    },
    {
     "data": {
      "application/vnd.jupyter.widget-view+json": {
       "model_id": "88fcc0670ebb472d8f4dae23027f46e9",
       "version_major": 2,
       "version_minor": 0
      },
      "text/plain": [
       "  0%|          | 0/999 [00:00<?, ?it/s]"
      ]
     },
     "metadata": {},
     "output_type": "display_data"
    },
    {
     "name": "stdout",
     "output_type": "stream",
     "text": [
      "https://www.bitstamp.net/api/v2/ohlc/ltcbtc/?&currency_pair=ltcbtc&step=1800&limit=1000&start=1622502000\n",
      "Downloaded from 2021-06-01 00:00:00 to 2021-06-21 19:30:00 0.00409365\n",
      "Resample 30Min - TecAn ( windows 5, windows_limit 100 )\n",
      "Processing 999 of ltcbtc\n"
     ]
    },
    {
     "data": {
      "application/vnd.jupyter.widget-view+json": {
       "model_id": "b5104a11d1664015a48cceb56f185917",
       "version_major": 2,
       "version_minor": 0
      },
      "text/plain": [
       "  0%|          | 0/999 [00:00<?, ?it/s]"
      ]
     },
     "metadata": {},
     "output_type": "display_data"
    },
    {
     "name": "stdout",
     "output_type": "stream",
     "text": [
      "https://www.bitstamp.net/api/v2/ohlc/btcusd/?&currency_pair=btcusd&step=1800&limit=1000&start=1590966000\n",
      "Downloaded from 2020-06-01 00:00:00 to 2020-06-21 19:30:00 9325.43\n",
      "Resample 30Min - TecAn ( windows 5, windows_limit 100 )\n",
      "Processing 999 of btcusd\n"
     ]
    },
    {
     "data": {
      "application/vnd.jupyter.widget-view+json": {
       "model_id": "bc6cd453427a4fba83f48e512b4e51e9",
       "version_major": 2,
       "version_minor": 0
      },
      "text/plain": [
       "  0%|          | 0/999 [00:00<?, ?it/s]"
      ]
     },
     "metadata": {},
     "output_type": "display_data"
    },
    {
     "name": "stdout",
     "output_type": "stream",
     "text": [
      "https://www.bitstamp.net/api/v2/ohlc/ethusd/?&currency_pair=ethusd&step=1800&limit=1000&start=1590966000\n",
      "Downloaded from 2020-06-01 00:00:00 to 2020-06-21 19:30:00 229.34\n",
      "Resample 30Min - TecAn ( windows 5, windows_limit 100 )\n",
      "Processing 999 of ethusd\n"
     ]
    },
    {
     "data": {
      "application/vnd.jupyter.widget-view+json": {
       "model_id": "6374170809784e9684bef5dba960c8d3",
       "version_major": 2,
       "version_minor": 0
      },
      "text/plain": [
       "  0%|          | 0/999 [00:00<?, ?it/s]"
      ]
     },
     "metadata": {},
     "output_type": "display_data"
    },
    {
     "name": "stdout",
     "output_type": "stream",
     "text": [
      "https://www.bitstamp.net/api/v2/ohlc/ltcusd/?&currency_pair=ltcusd&step=1800&limit=1000&start=1590966000\n",
      "Downloaded from 2020-06-01 00:00:00 to 2020-06-21 19:30:00 43.07\n",
      "Resample 30Min - TecAn ( windows 5, windows_limit 100 )\n",
      "Processing 999 of ltcusd\n"
     ]
    },
    {
     "data": {
      "application/vnd.jupyter.widget-view+json": {
       "model_id": "9f86bc0ba13842abb631cf283c54b143",
       "version_major": 2,
       "version_minor": 0
      },
      "text/plain": [
       "  0%|          | 0/999 [00:00<?, ?it/s]"
      ]
     },
     "metadata": {},
     "output_type": "display_data"
    },
    {
     "name": "stdout",
     "output_type": "stream",
     "text": [
      "https://www.bitstamp.net/api/v2/ohlc/ltcbtc/?&currency_pair=ltcbtc&step=1800&limit=1000&start=1590966000\n",
      "Downloaded from 2020-06-01 00:00:00 to 2020-06-21 19:30:00 0.00462141\n",
      "Resample 30Min - TecAn ( windows 5, windows_limit 100 )\n",
      "Processing 999 of ltcbtc\n"
     ]
    },
    {
     "data": {
      "application/vnd.jupyter.widget-view+json": {
       "model_id": "b899bb6f5fed496594f6139344dcbca0",
       "version_major": 2,
       "version_minor": 0
      },
      "text/plain": [
       "  0%|          | 0/999 [00:00<?, ?it/s]"
      ]
     },
     "metadata": {},
     "output_type": "display_data"
    },
    {
     "name": "stdout",
     "output_type": "stream",
     "text": [
      "https://www.bitstamp.net/api/v2/ohlc/btcusd/?&currency_pair=btcusd&step=1800&limit=1000&start=1559343600\n",
      "Downloaded from 2019-06-01 00:00:00 to 2019-06-21 19:30:00 9940.00\n",
      "Resample 30Min - TecAn ( windows 5, windows_limit 100 )\n",
      "Processing 999 of btcusd\n"
     ]
    },
    {
     "data": {
      "application/vnd.jupyter.widget-view+json": {
       "model_id": "521c35462db54b3eaa9837e96c1da2cb",
       "version_major": 2,
       "version_minor": 0
      },
      "text/plain": [
       "  0%|          | 0/999 [00:00<?, ?it/s]"
      ]
     },
     "metadata": {},
     "output_type": "display_data"
    },
    {
     "name": "stdout",
     "output_type": "stream",
     "text": [
      "https://www.bitstamp.net/api/v2/ohlc/ethusd/?&currency_pair=ethusd&step=1800&limit=1000&start=1559343600\n",
      "Downloaded from 2019-06-01 00:00:00 to 2019-06-21 19:30:00 292.06\n",
      "Resample 30Min - TecAn ( windows 5, windows_limit 100 )\n",
      "Processing 999 of ethusd\n"
     ]
    },
    {
     "data": {
      "application/vnd.jupyter.widget-view+json": {
       "model_id": "11d5840c90174f39811968c69e17d2b5",
       "version_major": 2,
       "version_minor": 0
      },
      "text/plain": [
       "  0%|          | 0/999 [00:00<?, ?it/s]"
      ]
     },
     "metadata": {},
     "output_type": "display_data"
    },
    {
     "name": "stdout",
     "output_type": "stream",
     "text": [
      "https://www.bitstamp.net/api/v2/ohlc/ltcusd/?&currency_pair=ltcusd&step=1800&limit=1000&start=1559343600\n",
      "Downloaded from 2019-06-01 00:00:00 to 2019-06-21 19:30:00 138.41\n",
      "Resample 30Min - TecAn ( windows 5, windows_limit 100 )\n",
      "Processing 999 of ltcusd\n"
     ]
    },
    {
     "data": {
      "application/vnd.jupyter.widget-view+json": {
       "model_id": "f87fafca207f461c8c2dc0d7e883abdc",
       "version_major": 2,
       "version_minor": 0
      },
      "text/plain": [
       "  0%|          | 0/999 [00:00<?, ?it/s]"
      ]
     },
     "metadata": {},
     "output_type": "display_data"
    },
    {
     "name": "stdout",
     "output_type": "stream",
     "text": [
      "https://www.bitstamp.net/api/v2/ohlc/ltcbtc/?&currency_pair=ltcbtc&step=1800&limit=1000&start=1559343600\n",
      "Downloaded from 2019-06-01 00:00:00 to 2019-06-21 19:30:00 0.01394473\n",
      "Resample 30Min - TecAn ( windows 5, windows_limit 100 )\n",
      "Processing 999 of ltcbtc\n"
     ]
    },
    {
     "data": {
      "application/vnd.jupyter.widget-view+json": {
       "model_id": "998a79fc33fe425ea4b645225e9c25d9",
       "version_major": 2,
       "version_minor": 0
      },
      "text/plain": [
       "  0%|          | 0/999 [00:00<?, ?it/s]"
      ]
     },
     "metadata": {},
     "output_type": "display_data"
    },
    {
     "name": "stdout",
     "output_type": "stream",
     "text": [
      "https://www.bitstamp.net/api/v2/ohlc/btcusd/?&currency_pair=btcusd&step=1800&limit=1000&start=1527807600\n",
      "Downloaded from 2018-06-01 00:00:00 to 2018-06-21 19:30:00 6717.58\n",
      "Resample 30Min - TecAn ( windows 5, windows_limit 100 )\n",
      "Processing 999 of btcusd\n"
     ]
    },
    {
     "data": {
      "application/vnd.jupyter.widget-view+json": {
       "model_id": "7506fb88260f432997bb047e2a9ea75d",
       "version_major": 2,
       "version_minor": 0
      },
      "text/plain": [
       "  0%|          | 0/999 [00:00<?, ?it/s]"
      ]
     },
     "metadata": {},
     "output_type": "display_data"
    },
    {
     "name": "stdout",
     "output_type": "stream",
     "text": [
      "https://www.bitstamp.net/api/v2/ohlc/ethusd/?&currency_pair=ethusd&step=1800&limit=1000&start=1527807600\n",
      "Downloaded from 2018-06-01 00:00:00 to 2018-06-21 19:30:00 523.60\n",
      "Resample 30Min - TecAn ( windows 5, windows_limit 100 )\n",
      "Processing 999 of ethusd\n"
     ]
    },
    {
     "data": {
      "application/vnd.jupyter.widget-view+json": {
       "model_id": "d87f270221c946aabde75a9558abcc22",
       "version_major": 2,
       "version_minor": 0
      },
      "text/plain": [
       "  0%|          | 0/999 [00:00<?, ?it/s]"
      ]
     },
     "metadata": {},
     "output_type": "display_data"
    },
    {
     "name": "stdout",
     "output_type": "stream",
     "text": [
      "https://www.bitstamp.net/api/v2/ohlc/ltcusd/?&currency_pair=ltcusd&step=1800&limit=1000&start=1527807600\n",
      "Downloaded from 2018-06-01 00:00:00 to 2018-06-21 19:30:00 96.60\n",
      "Resample 30Min - TecAn ( windows 5, windows_limit 100 )\n",
      "Processing 999 of ltcusd\n"
     ]
    },
    {
     "data": {
      "application/vnd.jupyter.widget-view+json": {
       "model_id": "c22f9efd62154bdb847344af1fc82dbe",
       "version_major": 2,
       "version_minor": 0
      },
      "text/plain": [
       "  0%|          | 0/999 [00:00<?, ?it/s]"
      ]
     },
     "metadata": {},
     "output_type": "display_data"
    },
    {
     "name": "stdout",
     "output_type": "stream",
     "text": [
      "https://www.bitstamp.net/api/v2/ohlc/ltcbtc/?&currency_pair=ltcbtc&step=1800&limit=1000&start=1527807600\n",
      "Downloaded from 2018-06-01 00:00:00 to 2018-06-21 19:30:00 0.01434149\n",
      "Resample 30Min - TecAn ( windows 5, windows_limit 100 )\n",
      "Processing 999 of ltcbtc\n"
     ]
    },
    {
     "data": {
      "application/vnd.jupyter.widget-view+json": {
       "model_id": "14a7e31a842b4987a0d48abfd8549ac3",
       "version_major": 2,
       "version_minor": 0
      },
      "text/plain": [
       "  0%|          | 0/999 [00:00<?, ?it/s]"
      ]
     },
     "metadata": {},
     "output_type": "display_data"
    },
    {
     "name": "stdout",
     "output_type": "stream",
     "text": [
      "https://www.bitstamp.net/api/v2/ohlc/btcusd/?&currency_pair=btcusd&step=1800&limit=1000&start=1517443200\n",
      "Downloaded from 2018-02-01 00:00:00 to 2018-02-21 19:30:00 10493.40\n",
      "Resample 30Min - TecAn ( windows 5, windows_limit 100 )\n",
      "Processing 999 of btcusd\n"
     ]
    },
    {
     "data": {
      "application/vnd.jupyter.widget-view+json": {
       "model_id": "4b8bb0f6258442639773b75e483dc51c",
       "version_major": 2,
       "version_minor": 0
      },
      "text/plain": [
       "  0%|          | 0/999 [00:00<?, ?it/s]"
      ]
     },
     "metadata": {},
     "output_type": "display_data"
    },
    {
     "name": "stdout",
     "output_type": "stream",
     "text": [
      "https://www.bitstamp.net/api/v2/ohlc/ethusd/?&currency_pair=ethusd&step=1800&limit=1000&start=1517443200\n",
      "Downloaded from 2018-02-01 00:00:00 to 2018-02-21 19:30:00 833.63\n",
      "Resample 30Min - TecAn ( windows 5, windows_limit 100 )\n",
      "Processing 999 of ethusd\n"
     ]
    },
    {
     "data": {
      "application/vnd.jupyter.widget-view+json": {
       "model_id": "7b12a1fb51db4011b5417157a29f3e14",
       "version_major": 2,
       "version_minor": 0
      },
      "text/plain": [
       "  0%|          | 0/999 [00:00<?, ?it/s]"
      ]
     },
     "metadata": {},
     "output_type": "display_data"
    },
    {
     "name": "stdout",
     "output_type": "stream",
     "text": [
      "https://www.bitstamp.net/api/v2/ohlc/ltcusd/?&currency_pair=ltcusd&step=1800&limit=1000&start=1517443200\n",
      "Downloaded from 2018-02-01 00:00:00 to 2018-02-21 19:30:00 211.89\n",
      "Resample 30Min - TecAn ( windows 5, windows_limit 100 )\n",
      "Processing 999 of ltcusd\n"
     ]
    },
    {
     "data": {
      "application/vnd.jupyter.widget-view+json": {
       "model_id": "1c46ca37697e41d69a8d9a51e96065bb",
       "version_major": 2,
       "version_minor": 0
      },
      "text/plain": [
       "  0%|          | 0/999 [00:00<?, ?it/s]"
      ]
     },
     "metadata": {},
     "output_type": "display_data"
    },
    {
     "name": "stdout",
     "output_type": "stream",
     "text": [
      "https://www.bitstamp.net/api/v2/ohlc/ltcbtc/?&currency_pair=ltcbtc&step=1800&limit=1000&start=1517443200\n",
      "Downloaded from 2018-02-01 00:00:00 to 2018-02-21 19:30:00 0.02023969\n",
      "Resample 30Min - TecAn ( windows 5, windows_limit 100 )\n",
      "Processing 999 of ltcbtc\n"
     ]
    },
    {
     "data": {
      "application/vnd.jupyter.widget-view+json": {
       "model_id": "25ad61afbe1546f0a26d63e3406a0b1f",
       "version_major": 2,
       "version_minor": 0
      },
      "text/plain": [
       "  0%|          | 0/999 [00:00<?, ?it/s]"
      ]
     },
     "metadata": {},
     "output_type": "display_data"
    },
    {
     "name": "stdout",
     "output_type": "stream",
     "text": [
      "https://www.bitstamp.net/api/v2/ohlc/btcusd/?&currency_pair=btcusd&step=1800&limit=1000&start=1548979200\n",
      "Downloaded from 2019-02-01 00:00:00 to 2019-02-21 19:30:00 3888.76\n",
      "Resample 30Min - TecAn ( windows 5, windows_limit 100 )\n",
      "Processing 999 of btcusd\n"
     ]
    },
    {
     "data": {
      "application/vnd.jupyter.widget-view+json": {
       "model_id": "5633296944e545df9082d7cb60eab0cd",
       "version_major": 2,
       "version_minor": 0
      },
      "text/plain": [
       "  0%|          | 0/999 [00:00<?, ?it/s]"
      ]
     },
     "metadata": {},
     "output_type": "display_data"
    },
    {
     "name": "stdout",
     "output_type": "stream",
     "text": [
      "https://www.bitstamp.net/api/v2/ohlc/ethusd/?&currency_pair=ethusd&step=1800&limit=1000&start=1548979200\n",
      "Downloaded from 2019-02-01 00:00:00 to 2019-02-21 19:30:00 142.72\n",
      "Resample 30Min - TecAn ( windows 5, windows_limit 100 )\n",
      "Processing 999 of ethusd\n"
     ]
    },
    {
     "data": {
      "application/vnd.jupyter.widget-view+json": {
       "model_id": "ebf75dea34a64645ac1c08c41fd65e2c",
       "version_major": 2,
       "version_minor": 0
      },
      "text/plain": [
       "  0%|          | 0/999 [00:00<?, ?it/s]"
      ]
     },
     "metadata": {},
     "output_type": "display_data"
    },
    {
     "name": "stdout",
     "output_type": "stream",
     "text": [
      "https://www.bitstamp.net/api/v2/ohlc/ltcusd/?&currency_pair=ltcusd&step=1800&limit=1000&start=1548979200\n",
      "Downloaded from 2019-02-01 00:00:00 to 2019-02-21 19:30:00 47.86\n",
      "Resample 30Min - TecAn ( windows 5, windows_limit 100 )\n",
      "Processing 999 of ltcusd\n"
     ]
    },
    {
     "data": {
      "application/vnd.jupyter.widget-view+json": {
       "model_id": "b6a0695d858e40ba92fe8ed14922f9e9",
       "version_major": 2,
       "version_minor": 0
      },
      "text/plain": [
       "  0%|          | 0/999 [00:00<?, ?it/s]"
      ]
     },
     "metadata": {},
     "output_type": "display_data"
    },
    {
     "name": "stdout",
     "output_type": "stream",
     "text": [
      "https://www.bitstamp.net/api/v2/ohlc/ltcbtc/?&currency_pair=ltcbtc&step=1800&limit=1000&start=1548979200\n",
      "Downloaded from 2019-02-01 00:00:00 to 2019-02-21 19:30:00 0.01233400\n",
      "Resample 30Min - TecAn ( windows 5, windows_limit 100 )\n",
      "Processing 999 of ltcbtc\n"
     ]
    },
    {
     "data": {
      "application/vnd.jupyter.widget-view+json": {
       "model_id": "df85cf41c3ed43338974c9b7b757dd84",
       "version_major": 2,
       "version_minor": 0
      },
      "text/plain": [
       "  0%|          | 0/999 [00:00<?, ?it/s]"
      ]
     },
     "metadata": {},
     "output_type": "display_data"
    },
    {
     "name": "stdout",
     "output_type": "stream",
     "text": [
      "https://www.bitstamp.net/api/v2/ohlc/btcusd/?&currency_pair=btcusd&step=1800&limit=1000&start=1580515200\n",
      "Downloaded from 2020-02-01 00:00:00 to 2020-02-21 19:30:00 9697.33\n",
      "Resample 30Min - TecAn ( windows 5, windows_limit 100 )\n",
      "Processing 999 of btcusd\n"
     ]
    },
    {
     "data": {
      "application/vnd.jupyter.widget-view+json": {
       "model_id": "d0968b59a9b1477c84ec5bd3555963b7",
       "version_major": 2,
       "version_minor": 0
      },
      "text/plain": [
       "  0%|          | 0/999 [00:00<?, ?it/s]"
      ]
     },
     "metadata": {},
     "output_type": "display_data"
    },
    {
     "name": "stdout",
     "output_type": "stream",
     "text": [
      "https://www.bitstamp.net/api/v2/ohlc/ethusd/?&currency_pair=ethusd&step=1800&limit=1000&start=1580515200\n",
      "Downloaded from 2020-02-01 00:00:00 to 2020-02-21 19:30:00 264.40\n",
      "Resample 30Min - TecAn ( windows 5, windows_limit 100 )\n",
      "Processing 999 of ethusd\n"
     ]
    },
    {
     "data": {
      "application/vnd.jupyter.widget-view+json": {
       "model_id": "3eac04ab11124bb5bf5a2906aa6d5bd0",
       "version_major": 2,
       "version_minor": 0
      },
      "text/plain": [
       "  0%|          | 0/999 [00:00<?, ?it/s]"
      ]
     },
     "metadata": {},
     "output_type": "display_data"
    },
    {
     "name": "stdout",
     "output_type": "stream",
     "text": [
      "https://www.bitstamp.net/api/v2/ohlc/ltcusd/?&currency_pair=ltcusd&step=1800&limit=1000&start=1580515200\n",
      "Downloaded from 2020-02-01 00:00:00 to 2020-02-21 19:30:00 73.61\n",
      "Resample 30Min - TecAn ( windows 5, windows_limit 100 )\n",
      "Processing 999 of ltcusd\n"
     ]
    },
    {
     "data": {
      "application/vnd.jupyter.widget-view+json": {
       "model_id": "ffd78246012c406793c06b49b86d75a1",
       "version_major": 2,
       "version_minor": 0
      },
      "text/plain": [
       "  0%|          | 0/999 [00:00<?, ?it/s]"
      ]
     },
     "metadata": {},
     "output_type": "display_data"
    },
    {
     "name": "stdout",
     "output_type": "stream",
     "text": [
      "https://www.bitstamp.net/api/v2/ohlc/ltcbtc/?&currency_pair=ltcbtc&step=1800&limit=1000&start=1580515200\n",
      "Downloaded from 2020-02-01 00:00:00 to 2020-02-21 19:30:00 0.00753763\n",
      "Resample 30Min - TecAn ( windows 5, windows_limit 100 )\n",
      "Processing 999 of ltcbtc\n"
     ]
    },
    {
     "data": {
      "application/vnd.jupyter.widget-view+json": {
       "model_id": "59c06c9c40ad499196ad9ca577841ef4",
       "version_major": 2,
       "version_minor": 0
      },
      "text/plain": [
       "  0%|          | 0/999 [00:00<?, ?it/s]"
      ]
     },
     "metadata": {},
     "output_type": "display_data"
    },
    {
     "name": "stdout",
     "output_type": "stream",
     "text": [
      "https://www.bitstamp.net/api/v2/ohlc/btcusd/?&currency_pair=btcusd&step=1800&limit=1000&start=1612137600\n",
      "Downloaded from 2021-02-01 00:00:00 to 2021-02-21 19:30:00 58232.98\n",
      "Resample 30Min - TecAn ( windows 5, windows_limit 100 )\n",
      "Processing 999 of btcusd\n"
     ]
    },
    {
     "data": {
      "application/vnd.jupyter.widget-view+json": {
       "model_id": "a29d539fd90c46a5abaef1525e04a344",
       "version_major": 2,
       "version_minor": 0
      },
      "text/plain": [
       "  0%|          | 0/999 [00:00<?, ?it/s]"
      ]
     },
     "metadata": {},
     "output_type": "display_data"
    },
    {
     "name": "stdout",
     "output_type": "stream",
     "text": [
      "https://www.bitstamp.net/api/v2/ohlc/ethusd/?&currency_pair=ethusd&step=1800&limit=1000&start=1612137600\n",
      "Downloaded from 2021-02-01 00:00:00 to 2021-02-21 19:30:00 1971.83\n",
      "Resample 30Min - TecAn ( windows 5, windows_limit 100 )\n",
      "Processing 999 of ethusd\n"
     ]
    },
    {
     "data": {
      "application/vnd.jupyter.widget-view+json": {
       "model_id": "098f5de7834b43f7b0abe2489e3d3b1b",
       "version_major": 2,
       "version_minor": 0
      },
      "text/plain": [
       "  0%|          | 0/999 [00:00<?, ?it/s]"
      ]
     },
     "metadata": {},
     "output_type": "display_data"
    },
    {
     "name": "stdout",
     "output_type": "stream",
     "text": [
      "https://www.bitstamp.net/api/v2/ohlc/ltcusd/?&currency_pair=ltcusd&step=1800&limit=1000&start=1612137600\n",
      "Downloaded from 2021-02-01 00:00:00 to 2021-02-21 19:30:00 232.85\n",
      "Resample 30Min - TecAn ( windows 5, windows_limit 100 )\n",
      "Processing 999 of ltcusd\n"
     ]
    },
    {
     "data": {
      "application/vnd.jupyter.widget-view+json": {
       "model_id": "d2d7e54c8fd949cd8bb144508ae32696",
       "version_major": 2,
       "version_minor": 0
      },
      "text/plain": [
       "  0%|          | 0/999 [00:00<?, ?it/s]"
      ]
     },
     "metadata": {},
     "output_type": "display_data"
    },
    {
     "name": "stdout",
     "output_type": "stream",
     "text": [
      "https://www.bitstamp.net/api/v2/ohlc/ltcbtc/?&currency_pair=ltcbtc&step=1800&limit=1000&start=1612137600\n",
      "Downloaded from 2021-02-01 00:00:00 to 2021-02-21 19:30:00 0.00399236\n",
      "Resample 30Min - TecAn ( windows 5, windows_limit 100 )\n",
      "Processing 999 of ltcbtc\n"
     ]
    },
    {
     "data": {
      "application/vnd.jupyter.widget-view+json": {
       "model_id": "a9889f90be7a4db4a0d3e49a6a702722",
       "version_major": 2,
       "version_minor": 0
      },
      "text/plain": [
       "  0%|          | 0/999 [00:00<?, ?it/s]"
      ]
     },
     "metadata": {},
     "output_type": "display_data"
    },
    {
     "name": "stdout",
     "output_type": "stream",
     "text": [
      "https://www.bitstamp.net/api/v2/ohlc/btcusd/?&currency_pair=btcusd&step=1800&limit=1000&start=1623711600\n",
      "https://www.bitstamp.net/api/v2/ohlc/btcusd/?&currency_pair=btcusd&step=1800&limit=1000&start=1625509800\n",
      "Downloaded from 2021-06-15 00:00:00 to 2021-07-15 00:30:00 32798.33\n",
      "Resample 30Min - TecAn ( windows 5, windows_limit 100 )\n",
      "Processing 1442 of btcusd\n"
     ]
    },
    {
     "data": {
      "application/vnd.jupyter.widget-view+json": {
       "model_id": "66c63d28e7f643f28c1094d9b699e43a",
       "version_major": 2,
       "version_minor": 0
      },
      "text/plain": [
       "  0%|          | 0/1442 [00:00<?, ?it/s]"
      ]
     },
     "metadata": {},
     "output_type": "display_data"
    },
    {
     "name": "stdout",
     "output_type": "stream",
     "text": [
      "https://www.bitstamp.net/api/v2/ohlc/ethusd/?&currency_pair=ethusd&step=1800&limit=1000&start=1623711600\n",
      "https://www.bitstamp.net/api/v2/ohlc/ethusd/?&currency_pair=ethusd&step=1800&limit=1000&start=1625509800\n",
      "Downloaded from 2021-06-15 00:00:00 to 2021-07-15 00:30:00 1994.16\n",
      "Resample 30Min - TecAn ( windows 5, windows_limit 100 )\n",
      "Processing 1442 of ethusd\n"
     ]
    },
    {
     "data": {
      "application/vnd.jupyter.widget-view+json": {
       "model_id": "d161bdfde4a845c4a59c2cc78d16a50e",
       "version_major": 2,
       "version_minor": 0
      },
      "text/plain": [
       "  0%|          | 0/1442 [00:00<?, ?it/s]"
      ]
     },
     "metadata": {},
     "output_type": "display_data"
    },
    {
     "name": "stdout",
     "output_type": "stream",
     "text": [
      "https://www.bitstamp.net/api/v2/ohlc/ltcusd/?&currency_pair=ltcusd&step=1800&limit=1000&start=1623711600\n",
      "https://www.bitstamp.net/api/v2/ohlc/ltcusd/?&currency_pair=ltcusd&step=1800&limit=1000&start=1625509800\n",
      "Downloaded from 2021-06-15 00:00:00 to 2021-07-15 00:30:00 130.70\n",
      "Resample 30Min - TecAn ( windows 5, windows_limit 100 )\n",
      "Processing 1442 of ltcusd\n"
     ]
    },
    {
     "data": {
      "application/vnd.jupyter.widget-view+json": {
       "model_id": "55f141ba5bda499d96b88a090e2d46eb",
       "version_major": 2,
       "version_minor": 0
      },
      "text/plain": [
       "  0%|          | 0/1442 [00:00<?, ?it/s]"
      ]
     },
     "metadata": {},
     "output_type": "display_data"
    },
    {
     "name": "stdout",
     "output_type": "stream",
     "text": [
      "https://www.bitstamp.net/api/v2/ohlc/ltcbtc/?&currency_pair=ltcbtc&step=1800&limit=1000&start=1623711600\n",
      "https://www.bitstamp.net/api/v2/ohlc/ltcbtc/?&currency_pair=ltcbtc&step=1800&limit=1000&start=1625509800\n",
      "Downloaded from 2021-06-15 00:00:00 to 2021-07-15 00:30:00 0.00399000\n",
      "Resample 30Min - TecAn ( windows 5, windows_limit 100 )\n",
      "Processing 1442 of ltcbtc\n"
     ]
    },
    {
     "data": {
      "application/vnd.jupyter.widget-view+json": {
       "model_id": "95f804b79f8843ddb7c8f24162a921e6",
       "version_major": 2,
       "version_minor": 0
      },
      "text/plain": [
       "  0%|          | 0/1442 [00:00<?, ?it/s]"
      ]
     },
     "metadata": {},
     "output_type": "display_data"
    },
    {
     "name": "stdout",
     "output_type": "stream",
     "text": [
      "https://www.bitstamp.net/api/v2/ohlc/btcusd/?&currency_pair=btcusd&step=1800&limit=1000&start=1622502000\n",
      "Downloaded from 2021-06-01 00:00:00 to 2021-06-21 19:30:00 32470.01\n",
      "Resample 30Min - TecAn ( windows 10, windows_limit 100 )\n",
      "Processing 999 of btcusd\n"
     ]
    },
    {
     "data": {
      "application/vnd.jupyter.widget-view+json": {
       "model_id": "4f71dbda2dbb4b578e59abc0901ee1c0",
       "version_major": 2,
       "version_minor": 0
      },
      "text/plain": [
       "  0%|          | 0/999 [00:00<?, ?it/s]"
      ]
     },
     "metadata": {},
     "output_type": "display_data"
    },
    {
     "name": "stdout",
     "output_type": "stream",
     "text": [
      "https://www.bitstamp.net/api/v2/ohlc/ethusd/?&currency_pair=ethusd&step=1800&limit=1000&start=1622502000\n",
      "Downloaded from 2021-06-01 00:00:00 to 2021-06-21 19:30:00 1929.00\n",
      "Resample 30Min - TecAn ( windows 10, windows_limit 100 )\n",
      "Processing 999 of ethusd\n"
     ]
    },
    {
     "data": {
      "application/vnd.jupyter.widget-view+json": {
       "model_id": "41b9dd50a7b249338f66d087b52bb0a3",
       "version_major": 2,
       "version_minor": 0
      },
      "text/plain": [
       "  0%|          | 0/999 [00:00<?, ?it/s]"
      ]
     },
     "metadata": {},
     "output_type": "display_data"
    },
    {
     "name": "stdout",
     "output_type": "stream",
     "text": [
      "https://www.bitstamp.net/api/v2/ohlc/ltcusd/?&currency_pair=ltcusd&step=1800&limit=1000&start=1622502000\n",
      "Downloaded from 2021-06-01 00:00:00 to 2021-06-21 19:30:00 133.00\n",
      "Resample 30Min - TecAn ( windows 10, windows_limit 100 )\n",
      "Processing 999 of ltcusd\n"
     ]
    },
    {
     "data": {
      "application/vnd.jupyter.widget-view+json": {
       "model_id": "411344764fb44479b70b4825806e5dac",
       "version_major": 2,
       "version_minor": 0
      },
      "text/plain": [
       "  0%|          | 0/999 [00:00<?, ?it/s]"
      ]
     },
     "metadata": {},
     "output_type": "display_data"
    },
    {
     "name": "stdout",
     "output_type": "stream",
     "text": [
      "https://www.bitstamp.net/api/v2/ohlc/ltcbtc/?&currency_pair=ltcbtc&step=1800&limit=1000&start=1622502000\n",
      "Downloaded from 2021-06-01 00:00:00 to 2021-06-21 19:30:00 0.00409365\n",
      "Resample 30Min - TecAn ( windows 10, windows_limit 100 )\n",
      "Processing 999 of ltcbtc\n"
     ]
    },
    {
     "data": {
      "application/vnd.jupyter.widget-view+json": {
       "model_id": "be34e0d91c474a64ba40a789a99ee2cc",
       "version_major": 2,
       "version_minor": 0
      },
      "text/plain": [
       "  0%|          | 0/999 [00:00<?, ?it/s]"
      ]
     },
     "metadata": {},
     "output_type": "display_data"
    },
    {
     "name": "stdout",
     "output_type": "stream",
     "text": [
      "https://www.bitstamp.net/api/v2/ohlc/btcusd/?&currency_pair=btcusd&step=1800&limit=1000&start=1590966000\n",
      "Downloaded from 2020-06-01 00:00:00 to 2020-06-21 19:30:00 9325.43\n",
      "Resample 30Min - TecAn ( windows 10, windows_limit 100 )\n",
      "Processing 999 of btcusd\n"
     ]
    },
    {
     "data": {
      "application/vnd.jupyter.widget-view+json": {
       "model_id": "b63058bd41804f3aafbdd08c170c1720",
       "version_major": 2,
       "version_minor": 0
      },
      "text/plain": [
       "  0%|          | 0/999 [00:00<?, ?it/s]"
      ]
     },
     "metadata": {},
     "output_type": "display_data"
    },
    {
     "name": "stdout",
     "output_type": "stream",
     "text": [
      "https://www.bitstamp.net/api/v2/ohlc/ethusd/?&currency_pair=ethusd&step=1800&limit=1000&start=1590966000\n",
      "Downloaded from 2020-06-01 00:00:00 to 2020-06-21 19:30:00 229.34\n",
      "Resample 30Min - TecAn ( windows 10, windows_limit 100 )\n",
      "Processing 999 of ethusd\n"
     ]
    },
    {
     "data": {
      "application/vnd.jupyter.widget-view+json": {
       "model_id": "842958f6ce694897887b0b681f3f3097",
       "version_major": 2,
       "version_minor": 0
      },
      "text/plain": [
       "  0%|          | 0/999 [00:00<?, ?it/s]"
      ]
     },
     "metadata": {},
     "output_type": "display_data"
    },
    {
     "name": "stdout",
     "output_type": "stream",
     "text": [
      "https://www.bitstamp.net/api/v2/ohlc/ltcusd/?&currency_pair=ltcusd&step=1800&limit=1000&start=1590966000\n",
      "Downloaded from 2020-06-01 00:00:00 to 2020-06-21 19:30:00 43.07\n",
      "Resample 30Min - TecAn ( windows 10, windows_limit 100 )\n",
      "Processing 999 of ltcusd\n"
     ]
    },
    {
     "data": {
      "application/vnd.jupyter.widget-view+json": {
       "model_id": "2c8f03a590ca4296bc69dec696cac15c",
       "version_major": 2,
       "version_minor": 0
      },
      "text/plain": [
       "  0%|          | 0/999 [00:00<?, ?it/s]"
      ]
     },
     "metadata": {},
     "output_type": "display_data"
    },
    {
     "name": "stdout",
     "output_type": "stream",
     "text": [
      "https://www.bitstamp.net/api/v2/ohlc/ltcbtc/?&currency_pair=ltcbtc&step=1800&limit=1000&start=1590966000\n",
      "Downloaded from 2020-06-01 00:00:00 to 2020-06-21 19:30:00 0.00462141\n",
      "Resample 30Min - TecAn ( windows 10, windows_limit 100 )\n",
      "Processing 999 of ltcbtc\n"
     ]
    },
    {
     "data": {
      "application/vnd.jupyter.widget-view+json": {
       "model_id": "a425d30ae8254ed39e8cab15a83aa77c",
       "version_major": 2,
       "version_minor": 0
      },
      "text/plain": [
       "  0%|          | 0/999 [00:00<?, ?it/s]"
      ]
     },
     "metadata": {},
     "output_type": "display_data"
    },
    {
     "name": "stdout",
     "output_type": "stream",
     "text": [
      "https://www.bitstamp.net/api/v2/ohlc/btcusd/?&currency_pair=btcusd&step=1800&limit=1000&start=1559343600\n",
      "Downloaded from 2019-06-01 00:00:00 to 2019-06-21 19:30:00 9940.00\n",
      "Resample 30Min - TecAn ( windows 10, windows_limit 100 )\n",
      "Processing 999 of btcusd\n"
     ]
    },
    {
     "data": {
      "application/vnd.jupyter.widget-view+json": {
       "model_id": "5bbf140f331144b0b41ef701627e4bc4",
       "version_major": 2,
       "version_minor": 0
      },
      "text/plain": [
       "  0%|          | 0/999 [00:00<?, ?it/s]"
      ]
     },
     "metadata": {},
     "output_type": "display_data"
    },
    {
     "name": "stdout",
     "output_type": "stream",
     "text": [
      "https://www.bitstamp.net/api/v2/ohlc/ethusd/?&currency_pair=ethusd&step=1800&limit=1000&start=1559343600\n",
      "Downloaded from 2019-06-01 00:00:00 to 2019-06-21 19:30:00 292.06\n",
      "Resample 30Min - TecAn ( windows 10, windows_limit 100 )\n",
      "Processing 999 of ethusd\n"
     ]
    },
    {
     "data": {
      "application/vnd.jupyter.widget-view+json": {
       "model_id": "6768c77ffb6c418383668a2bfb7752d5",
       "version_major": 2,
       "version_minor": 0
      },
      "text/plain": [
       "  0%|          | 0/999 [00:00<?, ?it/s]"
      ]
     },
     "metadata": {},
     "output_type": "display_data"
    },
    {
     "name": "stdout",
     "output_type": "stream",
     "text": [
      "https://www.bitstamp.net/api/v2/ohlc/ltcusd/?&currency_pair=ltcusd&step=1800&limit=1000&start=1559343600\n",
      "Downloaded from 2019-06-01 00:00:00 to 2019-06-21 19:30:00 138.41\n",
      "Resample 30Min - TecAn ( windows 10, windows_limit 100 )\n",
      "Processing 999 of ltcusd\n"
     ]
    },
    {
     "data": {
      "application/vnd.jupyter.widget-view+json": {
       "model_id": "97a98398a0834423bd75034729862b62",
       "version_major": 2,
       "version_minor": 0
      },
      "text/plain": [
       "  0%|          | 0/999 [00:00<?, ?it/s]"
      ]
     },
     "metadata": {},
     "output_type": "display_data"
    },
    {
     "name": "stdout",
     "output_type": "stream",
     "text": [
      "https://www.bitstamp.net/api/v2/ohlc/ltcbtc/?&currency_pair=ltcbtc&step=1800&limit=1000&start=1559343600\n",
      "Downloaded from 2019-06-01 00:00:00 to 2019-06-21 19:30:00 0.01394473\n",
      "Resample 30Min - TecAn ( windows 10, windows_limit 100 )\n",
      "Processing 999 of ltcbtc\n"
     ]
    },
    {
     "data": {
      "application/vnd.jupyter.widget-view+json": {
       "model_id": "7afd529cae2641038b6fe639ec1b65d1",
       "version_major": 2,
       "version_minor": 0
      },
      "text/plain": [
       "  0%|          | 0/999 [00:00<?, ?it/s]"
      ]
     },
     "metadata": {},
     "output_type": "display_data"
    },
    {
     "name": "stdout",
     "output_type": "stream",
     "text": [
      "https://www.bitstamp.net/api/v2/ohlc/btcusd/?&currency_pair=btcusd&step=1800&limit=1000&start=1527807600\n",
      "Downloaded from 2018-06-01 00:00:00 to 2018-06-21 19:30:00 6717.58\n",
      "Resample 30Min - TecAn ( windows 10, windows_limit 100 )\n",
      "Processing 999 of btcusd\n"
     ]
    },
    {
     "data": {
      "application/vnd.jupyter.widget-view+json": {
       "model_id": "fee0b17105e145ec92758fbf2389452b",
       "version_major": 2,
       "version_minor": 0
      },
      "text/plain": [
       "  0%|          | 0/999 [00:00<?, ?it/s]"
      ]
     },
     "metadata": {},
     "output_type": "display_data"
    },
    {
     "name": "stdout",
     "output_type": "stream",
     "text": [
      "https://www.bitstamp.net/api/v2/ohlc/ethusd/?&currency_pair=ethusd&step=1800&limit=1000&start=1527807600\n",
      "Downloaded from 2018-06-01 00:00:00 to 2018-06-21 19:30:00 523.60\n",
      "Resample 30Min - TecAn ( windows 10, windows_limit 100 )\n",
      "Processing 999 of ethusd\n"
     ]
    },
    {
     "data": {
      "application/vnd.jupyter.widget-view+json": {
       "model_id": "5f2ebd6dc4d8403b808e660bda484993",
       "version_major": 2,
       "version_minor": 0
      },
      "text/plain": [
       "  0%|          | 0/999 [00:00<?, ?it/s]"
      ]
     },
     "metadata": {},
     "output_type": "display_data"
    },
    {
     "name": "stdout",
     "output_type": "stream",
     "text": [
      "https://www.bitstamp.net/api/v2/ohlc/ltcusd/?&currency_pair=ltcusd&step=1800&limit=1000&start=1527807600\n",
      "Downloaded from 2018-06-01 00:00:00 to 2018-06-21 19:30:00 96.60\n",
      "Resample 30Min - TecAn ( windows 10, windows_limit 100 )\n",
      "Processing 999 of ltcusd\n"
     ]
    },
    {
     "data": {
      "application/vnd.jupyter.widget-view+json": {
       "model_id": "e2c7f750d0d2480fa887cfb139040530",
       "version_major": 2,
       "version_minor": 0
      },
      "text/plain": [
       "  0%|          | 0/999 [00:00<?, ?it/s]"
      ]
     },
     "metadata": {},
     "output_type": "display_data"
    },
    {
     "name": "stdout",
     "output_type": "stream",
     "text": [
      "https://www.bitstamp.net/api/v2/ohlc/ltcbtc/?&currency_pair=ltcbtc&step=1800&limit=1000&start=1527807600\n",
      "Downloaded from 2018-06-01 00:00:00 to 2018-06-21 19:30:00 0.01434149\n",
      "Resample 30Min - TecAn ( windows 10, windows_limit 100 )\n",
      "Processing 999 of ltcbtc\n"
     ]
    },
    {
     "data": {
      "application/vnd.jupyter.widget-view+json": {
       "model_id": "2a141b8685fa47fe8c2faebedb44ccdb",
       "version_major": 2,
       "version_minor": 0
      },
      "text/plain": [
       "  0%|          | 0/999 [00:00<?, ?it/s]"
      ]
     },
     "metadata": {},
     "output_type": "display_data"
    },
    {
     "name": "stdout",
     "output_type": "stream",
     "text": [
      "https://www.bitstamp.net/api/v2/ohlc/btcusd/?&currency_pair=btcusd&step=1800&limit=1000&start=1517443200\n",
      "Downloaded from 2018-02-01 00:00:00 to 2018-02-21 19:30:00 10493.40\n",
      "Resample 30Min - TecAn ( windows 10, windows_limit 100 )\n",
      "Processing 999 of btcusd\n"
     ]
    },
    {
     "data": {
      "application/vnd.jupyter.widget-view+json": {
       "model_id": "3256c510fb8b4829a6549a5cbddc61aa",
       "version_major": 2,
       "version_minor": 0
      },
      "text/plain": [
       "  0%|          | 0/999 [00:00<?, ?it/s]"
      ]
     },
     "metadata": {},
     "output_type": "display_data"
    },
    {
     "name": "stdout",
     "output_type": "stream",
     "text": [
      "https://www.bitstamp.net/api/v2/ohlc/ethusd/?&currency_pair=ethusd&step=1800&limit=1000&start=1517443200\n",
      "Downloaded from 2018-02-01 00:00:00 to 2018-02-21 19:30:00 833.63\n",
      "Resample 30Min - TecAn ( windows 10, windows_limit 100 )\n",
      "Processing 999 of ethusd\n"
     ]
    },
    {
     "data": {
      "application/vnd.jupyter.widget-view+json": {
       "model_id": "6470dc57852741df850222604639b5d9",
       "version_major": 2,
       "version_minor": 0
      },
      "text/plain": [
       "  0%|          | 0/999 [00:00<?, ?it/s]"
      ]
     },
     "metadata": {},
     "output_type": "display_data"
    },
    {
     "name": "stdout",
     "output_type": "stream",
     "text": [
      "https://www.bitstamp.net/api/v2/ohlc/ltcusd/?&currency_pair=ltcusd&step=1800&limit=1000&start=1517443200\n",
      "Downloaded from 2018-02-01 00:00:00 to 2018-02-21 19:30:00 211.89\n",
      "Resample 30Min - TecAn ( windows 10, windows_limit 100 )\n",
      "Processing 999 of ltcusd\n"
     ]
    },
    {
     "data": {
      "application/vnd.jupyter.widget-view+json": {
       "model_id": "c0bc2c60348d4b63b6e2df2465fd25d0",
       "version_major": 2,
       "version_minor": 0
      },
      "text/plain": [
       "  0%|          | 0/999 [00:00<?, ?it/s]"
      ]
     },
     "metadata": {},
     "output_type": "display_data"
    },
    {
     "name": "stdout",
     "output_type": "stream",
     "text": [
      "https://www.bitstamp.net/api/v2/ohlc/ltcbtc/?&currency_pair=ltcbtc&step=1800&limit=1000&start=1517443200\n",
      "Downloaded from 2018-02-01 00:00:00 to 2018-02-21 19:30:00 0.02023969\n",
      "Resample 30Min - TecAn ( windows 10, windows_limit 100 )\n",
      "Processing 999 of ltcbtc\n"
     ]
    },
    {
     "data": {
      "application/vnd.jupyter.widget-view+json": {
       "model_id": "659e72c839a04db8a63b3135b9520a40",
       "version_major": 2,
       "version_minor": 0
      },
      "text/plain": [
       "  0%|          | 0/999 [00:00<?, ?it/s]"
      ]
     },
     "metadata": {},
     "output_type": "display_data"
    },
    {
     "name": "stdout",
     "output_type": "stream",
     "text": [
      "https://www.bitstamp.net/api/v2/ohlc/btcusd/?&currency_pair=btcusd&step=1800&limit=1000&start=1548979200\n",
      "Downloaded from 2019-02-01 00:00:00 to 2019-02-21 19:30:00 3888.76\n",
      "Resample 30Min - TecAn ( windows 10, windows_limit 100 )\n",
      "Processing 999 of btcusd\n"
     ]
    },
    {
     "data": {
      "application/vnd.jupyter.widget-view+json": {
       "model_id": "eeb028f334554d5c8d94564f957cacb6",
       "version_major": 2,
       "version_minor": 0
      },
      "text/plain": [
       "  0%|          | 0/999 [00:00<?, ?it/s]"
      ]
     },
     "metadata": {},
     "output_type": "display_data"
    },
    {
     "name": "stdout",
     "output_type": "stream",
     "text": [
      "https://www.bitstamp.net/api/v2/ohlc/ethusd/?&currency_pair=ethusd&step=1800&limit=1000&start=1548979200\n",
      "Downloaded from 2019-02-01 00:00:00 to 2019-02-21 19:30:00 142.72\n",
      "Resample 30Min - TecAn ( windows 10, windows_limit 100 )\n",
      "Processing 999 of ethusd\n"
     ]
    },
    {
     "data": {
      "application/vnd.jupyter.widget-view+json": {
       "model_id": "599453da6f674dc983a76f402971bdee",
       "version_major": 2,
       "version_minor": 0
      },
      "text/plain": [
       "  0%|          | 0/999 [00:00<?, ?it/s]"
      ]
     },
     "metadata": {},
     "output_type": "display_data"
    },
    {
     "name": "stdout",
     "output_type": "stream",
     "text": [
      "https://www.bitstamp.net/api/v2/ohlc/ltcusd/?&currency_pair=ltcusd&step=1800&limit=1000&start=1548979200\n",
      "Downloaded from 2019-02-01 00:00:00 to 2019-02-21 19:30:00 47.86\n",
      "Resample 30Min - TecAn ( windows 10, windows_limit 100 )\n",
      "Processing 999 of ltcusd\n"
     ]
    },
    {
     "data": {
      "application/vnd.jupyter.widget-view+json": {
       "model_id": "bf830bd422504e5caaa25bd7045e69a5",
       "version_major": 2,
       "version_minor": 0
      },
      "text/plain": [
       "  0%|          | 0/999 [00:00<?, ?it/s]"
      ]
     },
     "metadata": {},
     "output_type": "display_data"
    },
    {
     "name": "stdout",
     "output_type": "stream",
     "text": [
      "https://www.bitstamp.net/api/v2/ohlc/ltcbtc/?&currency_pair=ltcbtc&step=1800&limit=1000&start=1548979200\n",
      "Downloaded from 2019-02-01 00:00:00 to 2019-02-21 19:30:00 0.01233400\n",
      "Resample 30Min - TecAn ( windows 10, windows_limit 100 )\n",
      "Processing 999 of ltcbtc\n"
     ]
    },
    {
     "data": {
      "application/vnd.jupyter.widget-view+json": {
       "model_id": "af5a30d5c26644b59b288b10f1b68e24",
       "version_major": 2,
       "version_minor": 0
      },
      "text/plain": [
       "  0%|          | 0/999 [00:00<?, ?it/s]"
      ]
     },
     "metadata": {},
     "output_type": "display_data"
    },
    {
     "name": "stdout",
     "output_type": "stream",
     "text": [
      "https://www.bitstamp.net/api/v2/ohlc/btcusd/?&currency_pair=btcusd&step=1800&limit=1000&start=1580515200\n",
      "Downloaded from 2020-02-01 00:00:00 to 2020-02-21 19:30:00 9697.33\n",
      "Resample 30Min - TecAn ( windows 10, windows_limit 100 )\n",
      "Processing 999 of btcusd\n"
     ]
    },
    {
     "data": {
      "application/vnd.jupyter.widget-view+json": {
       "model_id": "13653a66e9f349adac0b6716ad41cd2e",
       "version_major": 2,
       "version_minor": 0
      },
      "text/plain": [
       "  0%|          | 0/999 [00:00<?, ?it/s]"
      ]
     },
     "metadata": {},
     "output_type": "display_data"
    },
    {
     "name": "stdout",
     "output_type": "stream",
     "text": [
      "https://www.bitstamp.net/api/v2/ohlc/ethusd/?&currency_pair=ethusd&step=1800&limit=1000&start=1580515200\n",
      "Downloaded from 2020-02-01 00:00:00 to 2020-02-21 19:30:00 264.40\n",
      "Resample 30Min - TecAn ( windows 10, windows_limit 100 )\n",
      "Processing 999 of ethusd\n"
     ]
    },
    {
     "data": {
      "application/vnd.jupyter.widget-view+json": {
       "model_id": "9099058d85714c488da85bdf320d9d37",
       "version_major": 2,
       "version_minor": 0
      },
      "text/plain": [
       "  0%|          | 0/999 [00:00<?, ?it/s]"
      ]
     },
     "metadata": {},
     "output_type": "display_data"
    },
    {
     "name": "stdout",
     "output_type": "stream",
     "text": [
      "https://www.bitstamp.net/api/v2/ohlc/ltcusd/?&currency_pair=ltcusd&step=1800&limit=1000&start=1580515200\n",
      "Downloaded from 2020-02-01 00:00:00 to 2020-02-21 19:30:00 73.61\n",
      "Resample 30Min - TecAn ( windows 10, windows_limit 100 )\n",
      "Processing 999 of ltcusd\n"
     ]
    },
    {
     "data": {
      "application/vnd.jupyter.widget-view+json": {
       "model_id": "279a8574828f4ed5aaacf9dce8d90a05",
       "version_major": 2,
       "version_minor": 0
      },
      "text/plain": [
       "  0%|          | 0/999 [00:00<?, ?it/s]"
      ]
     },
     "metadata": {},
     "output_type": "display_data"
    },
    {
     "name": "stdout",
     "output_type": "stream",
     "text": [
      "https://www.bitstamp.net/api/v2/ohlc/ltcbtc/?&currency_pair=ltcbtc&step=1800&limit=1000&start=1580515200\n",
      "Downloaded from 2020-02-01 00:00:00 to 2020-02-21 19:30:00 0.00753763\n",
      "Resample 30Min - TecAn ( windows 10, windows_limit 100 )\n",
      "Processing 999 of ltcbtc\n"
     ]
    },
    {
     "data": {
      "application/vnd.jupyter.widget-view+json": {
       "model_id": "00982007a8b649968fd07d075a05d184",
       "version_major": 2,
       "version_minor": 0
      },
      "text/plain": [
       "  0%|          | 0/999 [00:00<?, ?it/s]"
      ]
     },
     "metadata": {},
     "output_type": "display_data"
    },
    {
     "name": "stdout",
     "output_type": "stream",
     "text": [
      "https://www.bitstamp.net/api/v2/ohlc/btcusd/?&currency_pair=btcusd&step=1800&limit=1000&start=1612137600\n",
      "Downloaded from 2021-02-01 00:00:00 to 2021-02-21 19:30:00 58232.98\n",
      "Resample 30Min - TecAn ( windows 10, windows_limit 100 )\n",
      "Processing 999 of btcusd\n"
     ]
    },
    {
     "data": {
      "application/vnd.jupyter.widget-view+json": {
       "model_id": "2608a99031204a8e820150160e9f4511",
       "version_major": 2,
       "version_minor": 0
      },
      "text/plain": [
       "  0%|          | 0/999 [00:00<?, ?it/s]"
      ]
     },
     "metadata": {},
     "output_type": "display_data"
    },
    {
     "name": "stdout",
     "output_type": "stream",
     "text": [
      "https://www.bitstamp.net/api/v2/ohlc/ethusd/?&currency_pair=ethusd&step=1800&limit=1000&start=1612137600\n",
      "Downloaded from 2021-02-01 00:00:00 to 2021-02-21 19:30:00 1971.83\n",
      "Resample 30Min - TecAn ( windows 10, windows_limit 100 )\n",
      "Processing 999 of ethusd\n"
     ]
    },
    {
     "data": {
      "application/vnd.jupyter.widget-view+json": {
       "model_id": "496885de84384735a90f8062d1745ef6",
       "version_major": 2,
       "version_minor": 0
      },
      "text/plain": [
       "  0%|          | 0/999 [00:00<?, ?it/s]"
      ]
     },
     "metadata": {},
     "output_type": "display_data"
    },
    {
     "name": "stdout",
     "output_type": "stream",
     "text": [
      "https://www.bitstamp.net/api/v2/ohlc/ltcusd/?&currency_pair=ltcusd&step=1800&limit=1000&start=1612137600\n",
      "Downloaded from 2021-02-01 00:00:00 to 2021-02-21 19:30:00 232.85\n",
      "Resample 30Min - TecAn ( windows 10, windows_limit 100 )\n",
      "Processing 999 of ltcusd\n"
     ]
    },
    {
     "data": {
      "application/vnd.jupyter.widget-view+json": {
       "model_id": "68d0247dbe6144aeaffc28c1f8163b33",
       "version_major": 2,
       "version_minor": 0
      },
      "text/plain": [
       "  0%|          | 0/999 [00:00<?, ?it/s]"
      ]
     },
     "metadata": {},
     "output_type": "display_data"
    },
    {
     "name": "stdout",
     "output_type": "stream",
     "text": [
      "https://www.bitstamp.net/api/v2/ohlc/ltcbtc/?&currency_pair=ltcbtc&step=1800&limit=1000&start=1612137600\n",
      "Downloaded from 2021-02-01 00:00:00 to 2021-02-21 19:30:00 0.00399236\n",
      "Resample 30Min - TecAn ( windows 10, windows_limit 100 )\n",
      "Processing 999 of ltcbtc\n"
     ]
    },
    {
     "data": {
      "application/vnd.jupyter.widget-view+json": {
       "model_id": "6ad33792ffd8456195cdd59cb39bb709",
       "version_major": 2,
       "version_minor": 0
      },
      "text/plain": [
       "  0%|          | 0/999 [00:00<?, ?it/s]"
      ]
     },
     "metadata": {},
     "output_type": "display_data"
    },
    {
     "name": "stdout",
     "output_type": "stream",
     "text": [
      "https://www.bitstamp.net/api/v2/ohlc/btcusd/?&currency_pair=btcusd&step=1800&limit=1000&start=1623711600\n",
      "https://www.bitstamp.net/api/v2/ohlc/btcusd/?&currency_pair=btcusd&step=1800&limit=1000&start=1625509800\n",
      "Downloaded from 2021-06-15 00:00:00 to 2021-07-15 00:30:00 32798.33\n",
      "Resample 30Min - TecAn ( windows 10, windows_limit 100 )\n",
      "Processing 1442 of btcusd\n"
     ]
    },
    {
     "data": {
      "application/vnd.jupyter.widget-view+json": {
       "model_id": "4067c57080de47be94c88c8f4c051721",
       "version_major": 2,
       "version_minor": 0
      },
      "text/plain": [
       "  0%|          | 0/1442 [00:00<?, ?it/s]"
      ]
     },
     "metadata": {},
     "output_type": "display_data"
    },
    {
     "name": "stdout",
     "output_type": "stream",
     "text": [
      "https://www.bitstamp.net/api/v2/ohlc/ethusd/?&currency_pair=ethusd&step=1800&limit=1000&start=1623711600\n",
      "https://www.bitstamp.net/api/v2/ohlc/ethusd/?&currency_pair=ethusd&step=1800&limit=1000&start=1625509800\n",
      "Downloaded from 2021-06-15 00:00:00 to 2021-07-15 00:30:00 1994.16\n",
      "Resample 30Min - TecAn ( windows 10, windows_limit 100 )\n",
      "Processing 1442 of ethusd\n"
     ]
    },
    {
     "data": {
      "application/vnd.jupyter.widget-view+json": {
       "model_id": "6655d074cc934600aad6b490632ff42d",
       "version_major": 2,
       "version_minor": 0
      },
      "text/plain": [
       "  0%|          | 0/1442 [00:00<?, ?it/s]"
      ]
     },
     "metadata": {},
     "output_type": "display_data"
    },
    {
     "name": "stdout",
     "output_type": "stream",
     "text": [
      "https://www.bitstamp.net/api/v2/ohlc/ltcusd/?&currency_pair=ltcusd&step=1800&limit=1000&start=1623711600\n",
      "https://www.bitstamp.net/api/v2/ohlc/ltcusd/?&currency_pair=ltcusd&step=1800&limit=1000&start=1625509800\n",
      "Downloaded from 2021-06-15 00:00:00 to 2021-07-15 00:30:00 130.70\n",
      "Resample 30Min - TecAn ( windows 10, windows_limit 100 )\n",
      "Processing 1442 of ltcusd\n"
     ]
    },
    {
     "data": {
      "application/vnd.jupyter.widget-view+json": {
       "model_id": "8df3e31f58294992b1963b18dec404e7",
       "version_major": 2,
       "version_minor": 0
      },
      "text/plain": [
       "  0%|          | 0/1442 [00:00<?, ?it/s]"
      ]
     },
     "metadata": {},
     "output_type": "display_data"
    },
    {
     "name": "stdout",
     "output_type": "stream",
     "text": [
      "https://www.bitstamp.net/api/v2/ohlc/ltcbtc/?&currency_pair=ltcbtc&step=1800&limit=1000&start=1623711600\n",
      "https://www.bitstamp.net/api/v2/ohlc/ltcbtc/?&currency_pair=ltcbtc&step=1800&limit=1000&start=1625509800\n",
      "Downloaded from 2021-06-15 00:00:00 to 2021-07-15 00:30:00 0.00399000\n",
      "Resample 30Min - TecAn ( windows 10, windows_limit 100 )\n",
      "Processing 1442 of ltcbtc\n"
     ]
    },
    {
     "data": {
      "application/vnd.jupyter.widget-view+json": {
       "model_id": "f56b253580e94522a1dc353a98796fd7",
       "version_major": 2,
       "version_minor": 0
      },
      "text/plain": [
       "  0%|          | 0/1442 [00:00<?, ?it/s]"
      ]
     },
     "metadata": {},
     "output_type": "display_data"
    },
    {
     "name": "stdout",
     "output_type": "stream",
     "text": [
      "https://www.bitstamp.net/api/v2/ohlc/btcusd/?&currency_pair=btcusd&step=1800&limit=1000&start=1622502000\n",
      "Downloaded from 2021-06-01 00:00:00 to 2021-06-21 19:30:00 32470.01\n",
      "Resample 30Min - TecAn ( windows 20, windows_limit 100 )\n",
      "Processing 999 of btcusd\n"
     ]
    },
    {
     "data": {
      "application/vnd.jupyter.widget-view+json": {
       "model_id": "31e8d42d074d4c18a6ba60715c334acd",
       "version_major": 2,
       "version_minor": 0
      },
      "text/plain": [
       "  0%|          | 0/999 [00:00<?, ?it/s]"
      ]
     },
     "metadata": {},
     "output_type": "display_data"
    },
    {
     "name": "stdout",
     "output_type": "stream",
     "text": [
      "https://www.bitstamp.net/api/v2/ohlc/ethusd/?&currency_pair=ethusd&step=1800&limit=1000&start=1622502000\n",
      "Downloaded from 2021-06-01 00:00:00 to 2021-06-21 19:30:00 1929.00\n",
      "Resample 30Min - TecAn ( windows 20, windows_limit 100 )\n",
      "Processing 999 of ethusd\n"
     ]
    },
    {
     "data": {
      "application/vnd.jupyter.widget-view+json": {
       "model_id": "e72a3e77449b4bebb843c659ae8811f5",
       "version_major": 2,
       "version_minor": 0
      },
      "text/plain": [
       "  0%|          | 0/999 [00:00<?, ?it/s]"
      ]
     },
     "metadata": {},
     "output_type": "display_data"
    },
    {
     "name": "stdout",
     "output_type": "stream",
     "text": [
      "https://www.bitstamp.net/api/v2/ohlc/ltcusd/?&currency_pair=ltcusd&step=1800&limit=1000&start=1622502000\n",
      "Downloaded from 2021-06-01 00:00:00 to 2021-06-21 19:30:00 133.00\n",
      "Resample 30Min - TecAn ( windows 20, windows_limit 100 )\n",
      "Processing 999 of ltcusd\n"
     ]
    },
    {
     "data": {
      "application/vnd.jupyter.widget-view+json": {
       "model_id": "fe5639167696416084ec4045a05bf428",
       "version_major": 2,
       "version_minor": 0
      },
      "text/plain": [
       "  0%|          | 0/999 [00:00<?, ?it/s]"
      ]
     },
     "metadata": {},
     "output_type": "display_data"
    },
    {
     "name": "stdout",
     "output_type": "stream",
     "text": [
      "https://www.bitstamp.net/api/v2/ohlc/ltcbtc/?&currency_pair=ltcbtc&step=1800&limit=1000&start=1622502000\n",
      "Downloaded from 2021-06-01 00:00:00 to 2021-06-21 19:30:00 0.00409365\n",
      "Resample 30Min - TecAn ( windows 20, windows_limit 100 )\n",
      "Processing 999 of ltcbtc\n"
     ]
    },
    {
     "data": {
      "application/vnd.jupyter.widget-view+json": {
       "model_id": "e7b7d84745894e988cfb60d0e7acc3d5",
       "version_major": 2,
       "version_minor": 0
      },
      "text/plain": [
       "  0%|          | 0/999 [00:00<?, ?it/s]"
      ]
     },
     "metadata": {},
     "output_type": "display_data"
    },
    {
     "name": "stdout",
     "output_type": "stream",
     "text": [
      "https://www.bitstamp.net/api/v2/ohlc/btcusd/?&currency_pair=btcusd&step=1800&limit=1000&start=1590966000\n",
      "Downloaded from 2020-06-01 00:00:00 to 2020-06-21 19:30:00 9325.43\n",
      "Resample 30Min - TecAn ( windows 20, windows_limit 100 )\n",
      "Processing 999 of btcusd\n"
     ]
    },
    {
     "data": {
      "application/vnd.jupyter.widget-view+json": {
       "model_id": "75efb34230544973bf275ac82a1c3b02",
       "version_major": 2,
       "version_minor": 0
      },
      "text/plain": [
       "  0%|          | 0/999 [00:00<?, ?it/s]"
      ]
     },
     "metadata": {},
     "output_type": "display_data"
    },
    {
     "name": "stdout",
     "output_type": "stream",
     "text": [
      "https://www.bitstamp.net/api/v2/ohlc/ethusd/?&currency_pair=ethusd&step=1800&limit=1000&start=1590966000\n",
      "Downloaded from 2020-06-01 00:00:00 to 2020-06-21 19:30:00 229.34\n",
      "Resample 30Min - TecAn ( windows 20, windows_limit 100 )\n",
      "Processing 999 of ethusd\n"
     ]
    },
    {
     "data": {
      "application/vnd.jupyter.widget-view+json": {
       "model_id": "ccb4c9486da54138a277fb2745812059",
       "version_major": 2,
       "version_minor": 0
      },
      "text/plain": [
       "  0%|          | 0/999 [00:00<?, ?it/s]"
      ]
     },
     "metadata": {},
     "output_type": "display_data"
    },
    {
     "name": "stdout",
     "output_type": "stream",
     "text": [
      "https://www.bitstamp.net/api/v2/ohlc/ltcusd/?&currency_pair=ltcusd&step=1800&limit=1000&start=1590966000\n",
      "Downloaded from 2020-06-01 00:00:00 to 2020-06-21 19:30:00 43.07\n",
      "Resample 30Min - TecAn ( windows 20, windows_limit 100 )\n",
      "Processing 999 of ltcusd\n"
     ]
    },
    {
     "data": {
      "application/vnd.jupyter.widget-view+json": {
       "model_id": "5bedbc97cd214bc485bfe215b2d9f183",
       "version_major": 2,
       "version_minor": 0
      },
      "text/plain": [
       "  0%|          | 0/999 [00:00<?, ?it/s]"
      ]
     },
     "metadata": {},
     "output_type": "display_data"
    },
    {
     "name": "stdout",
     "output_type": "stream",
     "text": [
      "https://www.bitstamp.net/api/v2/ohlc/ltcbtc/?&currency_pair=ltcbtc&step=1800&limit=1000&start=1590966000\n",
      "Downloaded from 2020-06-01 00:00:00 to 2020-06-21 19:30:00 0.00462141\n",
      "Resample 30Min - TecAn ( windows 20, windows_limit 100 )\n",
      "Processing 999 of ltcbtc\n"
     ]
    },
    {
     "data": {
      "application/vnd.jupyter.widget-view+json": {
       "model_id": "322f3d7517ca4000a01392bc48de33c2",
       "version_major": 2,
       "version_minor": 0
      },
      "text/plain": [
       "  0%|          | 0/999 [00:00<?, ?it/s]"
      ]
     },
     "metadata": {},
     "output_type": "display_data"
    },
    {
     "name": "stdout",
     "output_type": "stream",
     "text": [
      "https://www.bitstamp.net/api/v2/ohlc/btcusd/?&currency_pair=btcusd&step=1800&limit=1000&start=1559343600\n",
      "Downloaded from 2019-06-01 00:00:00 to 2019-06-21 19:30:00 9940.00\n",
      "Resample 30Min - TecAn ( windows 20, windows_limit 100 )\n",
      "Processing 999 of btcusd\n"
     ]
    },
    {
     "data": {
      "application/vnd.jupyter.widget-view+json": {
       "model_id": "b87c169f5f5f46e2b18f672933e9078d",
       "version_major": 2,
       "version_minor": 0
      },
      "text/plain": [
       "  0%|          | 0/999 [00:00<?, ?it/s]"
      ]
     },
     "metadata": {},
     "output_type": "display_data"
    },
    {
     "name": "stdout",
     "output_type": "stream",
     "text": [
      "https://www.bitstamp.net/api/v2/ohlc/ethusd/?&currency_pair=ethusd&step=1800&limit=1000&start=1559343600\n",
      "Downloaded from 2019-06-01 00:00:00 to 2019-06-21 19:30:00 292.06\n",
      "Resample 30Min - TecAn ( windows 20, windows_limit 100 )\n",
      "Processing 999 of ethusd\n"
     ]
    },
    {
     "data": {
      "application/vnd.jupyter.widget-view+json": {
       "model_id": "ef42b2de904f4e23b59dc9751249be9b",
       "version_major": 2,
       "version_minor": 0
      },
      "text/plain": [
       "  0%|          | 0/999 [00:00<?, ?it/s]"
      ]
     },
     "metadata": {},
     "output_type": "display_data"
    },
    {
     "name": "stdout",
     "output_type": "stream",
     "text": [
      "https://www.bitstamp.net/api/v2/ohlc/ltcusd/?&currency_pair=ltcusd&step=1800&limit=1000&start=1559343600\n",
      "Downloaded from 2019-06-01 00:00:00 to 2019-06-21 19:30:00 138.41\n",
      "Resample 30Min - TecAn ( windows 20, windows_limit 100 )\n",
      "Processing 999 of ltcusd\n"
     ]
    },
    {
     "data": {
      "application/vnd.jupyter.widget-view+json": {
       "model_id": "1d2ccff4095b47a487f74f9ec1451d66",
       "version_major": 2,
       "version_minor": 0
      },
      "text/plain": [
       "  0%|          | 0/999 [00:00<?, ?it/s]"
      ]
     },
     "metadata": {},
     "output_type": "display_data"
    },
    {
     "name": "stdout",
     "output_type": "stream",
     "text": [
      "https://www.bitstamp.net/api/v2/ohlc/ltcbtc/?&currency_pair=ltcbtc&step=1800&limit=1000&start=1559343600\n",
      "Downloaded from 2019-06-01 00:00:00 to 2019-06-21 19:30:00 0.01394473\n",
      "Resample 30Min - TecAn ( windows 20, windows_limit 100 )\n",
      "Processing 999 of ltcbtc\n"
     ]
    },
    {
     "data": {
      "application/vnd.jupyter.widget-view+json": {
       "model_id": "9c4a7ad70e61453280f2a5f0b0639c28",
       "version_major": 2,
       "version_minor": 0
      },
      "text/plain": [
       "  0%|          | 0/999 [00:00<?, ?it/s]"
      ]
     },
     "metadata": {},
     "output_type": "display_data"
    },
    {
     "name": "stdout",
     "output_type": "stream",
     "text": [
      "https://www.bitstamp.net/api/v2/ohlc/btcusd/?&currency_pair=btcusd&step=1800&limit=1000&start=1527807600\n",
      "Downloaded from 2018-06-01 00:00:00 to 2018-06-21 19:30:00 6717.58\n",
      "Resample 30Min - TecAn ( windows 20, windows_limit 100 )\n",
      "Processing 999 of btcusd\n"
     ]
    },
    {
     "data": {
      "application/vnd.jupyter.widget-view+json": {
       "model_id": "cf1b7c2bea024f44a46a3a68a22849e5",
       "version_major": 2,
       "version_minor": 0
      },
      "text/plain": [
       "  0%|          | 0/999 [00:00<?, ?it/s]"
      ]
     },
     "metadata": {},
     "output_type": "display_data"
    },
    {
     "name": "stdout",
     "output_type": "stream",
     "text": [
      "https://www.bitstamp.net/api/v2/ohlc/ethusd/?&currency_pair=ethusd&step=1800&limit=1000&start=1527807600\n",
      "Downloaded from 2018-06-01 00:00:00 to 2018-06-21 19:30:00 523.60\n",
      "Resample 30Min - TecAn ( windows 20, windows_limit 100 )\n",
      "Processing 999 of ethusd\n"
     ]
    },
    {
     "data": {
      "application/vnd.jupyter.widget-view+json": {
       "model_id": "cc761699a90e42b3a6bad89807945468",
       "version_major": 2,
       "version_minor": 0
      },
      "text/plain": [
       "  0%|          | 0/999 [00:00<?, ?it/s]"
      ]
     },
     "metadata": {},
     "output_type": "display_data"
    },
    {
     "name": "stdout",
     "output_type": "stream",
     "text": [
      "https://www.bitstamp.net/api/v2/ohlc/ltcusd/?&currency_pair=ltcusd&step=1800&limit=1000&start=1527807600\n",
      "Downloaded from 2018-06-01 00:00:00 to 2018-06-21 19:30:00 96.60\n",
      "Resample 30Min - TecAn ( windows 20, windows_limit 100 )\n",
      "Processing 999 of ltcusd\n"
     ]
    },
    {
     "data": {
      "application/vnd.jupyter.widget-view+json": {
       "model_id": "8d541185af2543f693e9e73fb5d29e3f",
       "version_major": 2,
       "version_minor": 0
      },
      "text/plain": [
       "  0%|          | 0/999 [00:00<?, ?it/s]"
      ]
     },
     "metadata": {},
     "output_type": "display_data"
    },
    {
     "name": "stdout",
     "output_type": "stream",
     "text": [
      "https://www.bitstamp.net/api/v2/ohlc/ltcbtc/?&currency_pair=ltcbtc&step=1800&limit=1000&start=1527807600\n",
      "Downloaded from 2018-06-01 00:00:00 to 2018-06-21 19:30:00 0.01434149\n",
      "Resample 30Min - TecAn ( windows 20, windows_limit 100 )\n",
      "Processing 999 of ltcbtc\n"
     ]
    },
    {
     "data": {
      "application/vnd.jupyter.widget-view+json": {
       "model_id": "4a846d480eaa4b589dd1d858476f9c67",
       "version_major": 2,
       "version_minor": 0
      },
      "text/plain": [
       "  0%|          | 0/999 [00:00<?, ?it/s]"
      ]
     },
     "metadata": {},
     "output_type": "display_data"
    },
    {
     "name": "stdout",
     "output_type": "stream",
     "text": [
      "https://www.bitstamp.net/api/v2/ohlc/btcusd/?&currency_pair=btcusd&step=1800&limit=1000&start=1517443200\n",
      "Downloaded from 2018-02-01 00:00:00 to 2018-02-21 19:30:00 10493.40\n",
      "Resample 30Min - TecAn ( windows 20, windows_limit 100 )\n",
      "Processing 999 of btcusd\n"
     ]
    },
    {
     "data": {
      "application/vnd.jupyter.widget-view+json": {
       "model_id": "d1f7605900bd4330893a74100b4d6ada",
       "version_major": 2,
       "version_minor": 0
      },
      "text/plain": [
       "  0%|          | 0/999 [00:00<?, ?it/s]"
      ]
     },
     "metadata": {},
     "output_type": "display_data"
    },
    {
     "name": "stdout",
     "output_type": "stream",
     "text": [
      "https://www.bitstamp.net/api/v2/ohlc/ethusd/?&currency_pair=ethusd&step=1800&limit=1000&start=1517443200\n",
      "Downloaded from 2018-02-01 00:00:00 to 2018-02-21 19:30:00 833.63\n",
      "Resample 30Min - TecAn ( windows 20, windows_limit 100 )\n",
      "Processing 999 of ethusd\n"
     ]
    },
    {
     "data": {
      "application/vnd.jupyter.widget-view+json": {
       "model_id": "738085db1b30436498a9bc0a81bc6891",
       "version_major": 2,
       "version_minor": 0
      },
      "text/plain": [
       "  0%|          | 0/999 [00:00<?, ?it/s]"
      ]
     },
     "metadata": {},
     "output_type": "display_data"
    },
    {
     "name": "stdout",
     "output_type": "stream",
     "text": [
      "https://www.bitstamp.net/api/v2/ohlc/ltcusd/?&currency_pair=ltcusd&step=1800&limit=1000&start=1517443200\n",
      "Downloaded from 2018-02-01 00:00:00 to 2018-02-21 19:30:00 211.89\n",
      "Resample 30Min - TecAn ( windows 20, windows_limit 100 )\n",
      "Processing 999 of ltcusd\n"
     ]
    },
    {
     "data": {
      "application/vnd.jupyter.widget-view+json": {
       "model_id": "e471455b72954932a54aab4e56ad870a",
       "version_major": 2,
       "version_minor": 0
      },
      "text/plain": [
       "  0%|          | 0/999 [00:00<?, ?it/s]"
      ]
     },
     "metadata": {},
     "output_type": "display_data"
    },
    {
     "name": "stdout",
     "output_type": "stream",
     "text": [
      "https://www.bitstamp.net/api/v2/ohlc/ltcbtc/?&currency_pair=ltcbtc&step=1800&limit=1000&start=1517443200\n",
      "Downloaded from 2018-02-01 00:00:00 to 2018-02-21 19:30:00 0.02023969\n",
      "Resample 30Min - TecAn ( windows 20, windows_limit 100 )\n",
      "Processing 999 of ltcbtc\n"
     ]
    },
    {
     "data": {
      "application/vnd.jupyter.widget-view+json": {
       "model_id": "5926293c4364471a9d035c60086d2dd9",
       "version_major": 2,
       "version_minor": 0
      },
      "text/plain": [
       "  0%|          | 0/999 [00:00<?, ?it/s]"
      ]
     },
     "metadata": {},
     "output_type": "display_data"
    },
    {
     "name": "stdout",
     "output_type": "stream",
     "text": [
      "https://www.bitstamp.net/api/v2/ohlc/btcusd/?&currency_pair=btcusd&step=1800&limit=1000&start=1548979200\n",
      "Downloaded from 2019-02-01 00:00:00 to 2019-02-21 19:30:00 3888.76\n",
      "Resample 30Min - TecAn ( windows 20, windows_limit 100 )\n",
      "Processing 999 of btcusd\n"
     ]
    },
    {
     "data": {
      "application/vnd.jupyter.widget-view+json": {
       "model_id": "295ed2b1e4174c6388cce5acb13bd048",
       "version_major": 2,
       "version_minor": 0
      },
      "text/plain": [
       "  0%|          | 0/999 [00:00<?, ?it/s]"
      ]
     },
     "metadata": {},
     "output_type": "display_data"
    },
    {
     "name": "stdout",
     "output_type": "stream",
     "text": [
      "https://www.bitstamp.net/api/v2/ohlc/ethusd/?&currency_pair=ethusd&step=1800&limit=1000&start=1548979200\n",
      "Downloaded from 2019-02-01 00:00:00 to 2019-02-21 19:30:00 142.72\n",
      "Resample 30Min - TecAn ( windows 20, windows_limit 100 )\n",
      "Processing 999 of ethusd\n"
     ]
    },
    {
     "data": {
      "application/vnd.jupyter.widget-view+json": {
       "model_id": "e0bfb51df4294933a8fe5ad07d123d62",
       "version_major": 2,
       "version_minor": 0
      },
      "text/plain": [
       "  0%|          | 0/999 [00:00<?, ?it/s]"
      ]
     },
     "metadata": {},
     "output_type": "display_data"
    },
    {
     "name": "stdout",
     "output_type": "stream",
     "text": [
      "https://www.bitstamp.net/api/v2/ohlc/ltcusd/?&currency_pair=ltcusd&step=1800&limit=1000&start=1548979200\n",
      "Downloaded from 2019-02-01 00:00:00 to 2019-02-21 19:30:00 47.86\n",
      "Resample 30Min - TecAn ( windows 20, windows_limit 100 )\n",
      "Processing 999 of ltcusd\n"
     ]
    },
    {
     "data": {
      "application/vnd.jupyter.widget-view+json": {
       "model_id": "49c07b79eac8467aab90ed7d57d91a13",
       "version_major": 2,
       "version_minor": 0
      },
      "text/plain": [
       "  0%|          | 0/999 [00:00<?, ?it/s]"
      ]
     },
     "metadata": {},
     "output_type": "display_data"
    },
    {
     "name": "stdout",
     "output_type": "stream",
     "text": [
      "https://www.bitstamp.net/api/v2/ohlc/ltcbtc/?&currency_pair=ltcbtc&step=1800&limit=1000&start=1548979200\n",
      "Downloaded from 2019-02-01 00:00:00 to 2019-02-21 19:30:00 0.01233400\n",
      "Resample 30Min - TecAn ( windows 20, windows_limit 100 )\n",
      "Processing 999 of ltcbtc\n"
     ]
    },
    {
     "data": {
      "application/vnd.jupyter.widget-view+json": {
       "model_id": "5d1bbb6d9dee4131990d94967ad80341",
       "version_major": 2,
       "version_minor": 0
      },
      "text/plain": [
       "  0%|          | 0/999 [00:00<?, ?it/s]"
      ]
     },
     "metadata": {},
     "output_type": "display_data"
    },
    {
     "name": "stdout",
     "output_type": "stream",
     "text": [
      "https://www.bitstamp.net/api/v2/ohlc/btcusd/?&currency_pair=btcusd&step=1800&limit=1000&start=1580515200\n",
      "Downloaded from 2020-02-01 00:00:00 to 2020-02-21 19:30:00 9697.33\n",
      "Resample 30Min - TecAn ( windows 20, windows_limit 100 )\n",
      "Processing 999 of btcusd\n"
     ]
    },
    {
     "data": {
      "application/vnd.jupyter.widget-view+json": {
       "model_id": "f24f10308e9e4746aed8991ac1bf8152",
       "version_major": 2,
       "version_minor": 0
      },
      "text/plain": [
       "  0%|          | 0/999 [00:00<?, ?it/s]"
      ]
     },
     "metadata": {},
     "output_type": "display_data"
    },
    {
     "name": "stdout",
     "output_type": "stream",
     "text": [
      "https://www.bitstamp.net/api/v2/ohlc/ethusd/?&currency_pair=ethusd&step=1800&limit=1000&start=1580515200\n",
      "Downloaded from 2020-02-01 00:00:00 to 2020-02-21 19:30:00 264.40\n",
      "Resample 30Min - TecAn ( windows 20, windows_limit 100 )\n",
      "Processing 999 of ethusd\n"
     ]
    },
    {
     "data": {
      "application/vnd.jupyter.widget-view+json": {
       "model_id": "41ae1ed488784259af78ba6d197eb7af",
       "version_major": 2,
       "version_minor": 0
      },
      "text/plain": [
       "  0%|          | 0/999 [00:00<?, ?it/s]"
      ]
     },
     "metadata": {},
     "output_type": "display_data"
    },
    {
     "name": "stdout",
     "output_type": "stream",
     "text": [
      "https://www.bitstamp.net/api/v2/ohlc/ltcusd/?&currency_pair=ltcusd&step=1800&limit=1000&start=1580515200\n",
      "Downloaded from 2020-02-01 00:00:00 to 2020-02-21 19:30:00 73.61\n",
      "Resample 30Min - TecAn ( windows 20, windows_limit 100 )\n",
      "Processing 999 of ltcusd\n"
     ]
    },
    {
     "data": {
      "application/vnd.jupyter.widget-view+json": {
       "model_id": "27cca36c551c45538e142659f3603b80",
       "version_major": 2,
       "version_minor": 0
      },
      "text/plain": [
       "  0%|          | 0/999 [00:00<?, ?it/s]"
      ]
     },
     "metadata": {},
     "output_type": "display_data"
    },
    {
     "name": "stdout",
     "output_type": "stream",
     "text": [
      "https://www.bitstamp.net/api/v2/ohlc/ltcbtc/?&currency_pair=ltcbtc&step=1800&limit=1000&start=1580515200\n",
      "Downloaded from 2020-02-01 00:00:00 to 2020-02-21 19:30:00 0.00753763\n",
      "Resample 30Min - TecAn ( windows 20, windows_limit 100 )\n",
      "Processing 999 of ltcbtc\n"
     ]
    },
    {
     "data": {
      "application/vnd.jupyter.widget-view+json": {
       "model_id": "0418ba115b94443b91a09f4d84d03cd0",
       "version_major": 2,
       "version_minor": 0
      },
      "text/plain": [
       "  0%|          | 0/999 [00:00<?, ?it/s]"
      ]
     },
     "metadata": {},
     "output_type": "display_data"
    },
    {
     "name": "stdout",
     "output_type": "stream",
     "text": [
      "https://www.bitstamp.net/api/v2/ohlc/btcusd/?&currency_pair=btcusd&step=1800&limit=1000&start=1612137600\n",
      "Downloaded from 2021-02-01 00:00:00 to 2021-02-21 19:30:00 58232.98\n",
      "Resample 30Min - TecAn ( windows 20, windows_limit 100 )\n",
      "Processing 999 of btcusd\n"
     ]
    },
    {
     "data": {
      "application/vnd.jupyter.widget-view+json": {
       "model_id": "4e7981d017f54ec49ea9fdd6c2cac782",
       "version_major": 2,
       "version_minor": 0
      },
      "text/plain": [
       "  0%|          | 0/999 [00:00<?, ?it/s]"
      ]
     },
     "metadata": {},
     "output_type": "display_data"
    },
    {
     "name": "stdout",
     "output_type": "stream",
     "text": [
      "https://www.bitstamp.net/api/v2/ohlc/ethusd/?&currency_pair=ethusd&step=1800&limit=1000&start=1612137600\n",
      "Downloaded from 2021-02-01 00:00:00 to 2021-02-21 19:30:00 1971.83\n",
      "Resample 30Min - TecAn ( windows 20, windows_limit 100 )\n",
      "Processing 999 of ethusd\n"
     ]
    },
    {
     "data": {
      "application/vnd.jupyter.widget-view+json": {
       "model_id": "ae5e79fab5394c34895215228d261a3e",
       "version_major": 2,
       "version_minor": 0
      },
      "text/plain": [
       "  0%|          | 0/999 [00:00<?, ?it/s]"
      ]
     },
     "metadata": {},
     "output_type": "display_data"
    },
    {
     "name": "stdout",
     "output_type": "stream",
     "text": [
      "https://www.bitstamp.net/api/v2/ohlc/ltcusd/?&currency_pair=ltcusd&step=1800&limit=1000&start=1612137600\n",
      "Downloaded from 2021-02-01 00:00:00 to 2021-02-21 19:30:00 232.85\n",
      "Resample 30Min - TecAn ( windows 20, windows_limit 100 )\n",
      "Processing 999 of ltcusd\n"
     ]
    },
    {
     "data": {
      "application/vnd.jupyter.widget-view+json": {
       "model_id": "776142412a1545bd93f3ec2d670f55cf",
       "version_major": 2,
       "version_minor": 0
      },
      "text/plain": [
       "  0%|          | 0/999 [00:00<?, ?it/s]"
      ]
     },
     "metadata": {},
     "output_type": "display_data"
    },
    {
     "name": "stdout",
     "output_type": "stream",
     "text": [
      "https://www.bitstamp.net/api/v2/ohlc/ltcbtc/?&currency_pair=ltcbtc&step=1800&limit=1000&start=1612137600\n",
      "Downloaded from 2021-02-01 00:00:00 to 2021-02-21 19:30:00 0.00399236\n",
      "Resample 30Min - TecAn ( windows 20, windows_limit 100 )\n",
      "Processing 999 of ltcbtc\n"
     ]
    },
    {
     "data": {
      "application/vnd.jupyter.widget-view+json": {
       "model_id": "9816311002834bf38116f687b70a01a7",
       "version_major": 2,
       "version_minor": 0
      },
      "text/plain": [
       "  0%|          | 0/999 [00:00<?, ?it/s]"
      ]
     },
     "metadata": {},
     "output_type": "display_data"
    },
    {
     "name": "stdout",
     "output_type": "stream",
     "text": [
      "https://www.bitstamp.net/api/v2/ohlc/btcusd/?&currency_pair=btcusd&step=1800&limit=1000&start=1623711600\n",
      "https://www.bitstamp.net/api/v2/ohlc/btcusd/?&currency_pair=btcusd&step=1800&limit=1000&start=1625509800\n",
      "Downloaded from 2021-06-15 00:00:00 to 2021-07-15 00:30:00 32798.33\n",
      "Resample 30Min - TecAn ( windows 20, windows_limit 100 )\n",
      "Processing 1442 of btcusd\n"
     ]
    },
    {
     "data": {
      "application/vnd.jupyter.widget-view+json": {
       "model_id": "a23ae6f30570455a86cd9773aaf97c78",
       "version_major": 2,
       "version_minor": 0
      },
      "text/plain": [
       "  0%|          | 0/1442 [00:00<?, ?it/s]"
      ]
     },
     "metadata": {},
     "output_type": "display_data"
    },
    {
     "name": "stdout",
     "output_type": "stream",
     "text": [
      "https://www.bitstamp.net/api/v2/ohlc/ethusd/?&currency_pair=ethusd&step=1800&limit=1000&start=1623711600\n",
      "https://www.bitstamp.net/api/v2/ohlc/ethusd/?&currency_pair=ethusd&step=1800&limit=1000&start=1625509800\n",
      "Downloaded from 2021-06-15 00:00:00 to 2021-07-15 00:30:00 1994.16\n",
      "Resample 30Min - TecAn ( windows 20, windows_limit 100 )\n",
      "Processing 1442 of ethusd\n"
     ]
    },
    {
     "data": {
      "application/vnd.jupyter.widget-view+json": {
       "model_id": "2091b95af60d447d948ca3eb22cf1306",
       "version_major": 2,
       "version_minor": 0
      },
      "text/plain": [
       "  0%|          | 0/1442 [00:00<?, ?it/s]"
      ]
     },
     "metadata": {},
     "output_type": "display_data"
    },
    {
     "name": "stdout",
     "output_type": "stream",
     "text": [
      "https://www.bitstamp.net/api/v2/ohlc/ltcusd/?&currency_pair=ltcusd&step=1800&limit=1000&start=1623711600\n",
      "https://www.bitstamp.net/api/v2/ohlc/ltcusd/?&currency_pair=ltcusd&step=1800&limit=1000&start=1625509800\n",
      "Downloaded from 2021-06-15 00:00:00 to 2021-07-15 00:30:00 130.70\n",
      "Resample 30Min - TecAn ( windows 20, windows_limit 100 )\n",
      "Processing 1442 of ltcusd\n"
     ]
    },
    {
     "data": {
      "application/vnd.jupyter.widget-view+json": {
       "model_id": "7aaeee6d6ec4410f8bc0aa3858056a79",
       "version_major": 2,
       "version_minor": 0
      },
      "text/plain": [
       "  0%|          | 0/1442 [00:00<?, ?it/s]"
      ]
     },
     "metadata": {},
     "output_type": "display_data"
    },
    {
     "name": "stdout",
     "output_type": "stream",
     "text": [
      "https://www.bitstamp.net/api/v2/ohlc/ltcbtc/?&currency_pair=ltcbtc&step=1800&limit=1000&start=1623711600\n",
      "https://www.bitstamp.net/api/v2/ohlc/ltcbtc/?&currency_pair=ltcbtc&step=1800&limit=1000&start=1625509800\n",
      "Downloaded from 2021-06-15 00:00:00 to 2021-07-15 00:30:00 0.00399000\n",
      "Resample 30Min - TecAn ( windows 20, windows_limit 100 )\n",
      "Processing 1442 of ltcbtc\n"
     ]
    },
    {
     "data": {
      "application/vnd.jupyter.widget-view+json": {
       "model_id": "7855581f4b9941c8b6ca1f31c4d5f8e2",
       "version_major": 2,
       "version_minor": 0
      },
      "text/plain": [
       "  0%|          | 0/1442 [00:00<?, ?it/s]"
      ]
     },
     "metadata": {},
     "output_type": "display_data"
    },
    {
     "name": "stdout",
     "output_type": "stream",
     "text": [
      "https://www.bitstamp.net/api/v2/ohlc/btcusd/?&currency_pair=btcusd&step=1800&limit=1000&start=1622502000\n",
      "Downloaded from 2021-06-01 00:00:00 to 2021-06-21 19:30:00 32470.01\n",
      "Resample 30Min - TecAn ( windows 30, windows_limit 100 )\n",
      "Processing 999 of btcusd\n"
     ]
    },
    {
     "data": {
      "application/vnd.jupyter.widget-view+json": {
       "model_id": "2faecbce6fcd477fa66d1b2953aa86f8",
       "version_major": 2,
       "version_minor": 0
      },
      "text/plain": [
       "  0%|          | 0/999 [00:00<?, ?it/s]"
      ]
     },
     "metadata": {},
     "output_type": "display_data"
    },
    {
     "name": "stdout",
     "output_type": "stream",
     "text": [
      "https://www.bitstamp.net/api/v2/ohlc/ethusd/?&currency_pair=ethusd&step=1800&limit=1000&start=1622502000\n",
      "Downloaded from 2021-06-01 00:00:00 to 2021-06-21 19:30:00 1929.00\n",
      "Resample 30Min - TecAn ( windows 30, windows_limit 100 )\n",
      "Processing 999 of ethusd\n"
     ]
    },
    {
     "data": {
      "application/vnd.jupyter.widget-view+json": {
       "model_id": "58368712c87341ca81eff701c02dd7ee",
       "version_major": 2,
       "version_minor": 0
      },
      "text/plain": [
       "  0%|          | 0/999 [00:00<?, ?it/s]"
      ]
     },
     "metadata": {},
     "output_type": "display_data"
    },
    {
     "name": "stdout",
     "output_type": "stream",
     "text": [
      "https://www.bitstamp.net/api/v2/ohlc/ltcusd/?&currency_pair=ltcusd&step=1800&limit=1000&start=1622502000\n",
      "Downloaded from 2021-06-01 00:00:00 to 2021-06-21 19:30:00 133.00\n",
      "Resample 30Min - TecAn ( windows 30, windows_limit 100 )\n",
      "Processing 999 of ltcusd\n"
     ]
    },
    {
     "data": {
      "application/vnd.jupyter.widget-view+json": {
       "model_id": "dcb9ff74cc3a4aab9f522cf2f2df23c2",
       "version_major": 2,
       "version_minor": 0
      },
      "text/plain": [
       "  0%|          | 0/999 [00:00<?, ?it/s]"
      ]
     },
     "metadata": {},
     "output_type": "display_data"
    },
    {
     "name": "stdout",
     "output_type": "stream",
     "text": [
      "https://www.bitstamp.net/api/v2/ohlc/ltcbtc/?&currency_pair=ltcbtc&step=1800&limit=1000&start=1622502000\n",
      "Downloaded from 2021-06-01 00:00:00 to 2021-06-21 19:30:00 0.00409365\n",
      "Resample 30Min - TecAn ( windows 30, windows_limit 100 )\n",
      "Processing 999 of ltcbtc\n"
     ]
    },
    {
     "data": {
      "application/vnd.jupyter.widget-view+json": {
       "model_id": "fccc5b83a0d7446e8d8d6cb003ce49a3",
       "version_major": 2,
       "version_minor": 0
      },
      "text/plain": [
       "  0%|          | 0/999 [00:00<?, ?it/s]"
      ]
     },
     "metadata": {},
     "output_type": "display_data"
    },
    {
     "name": "stdout",
     "output_type": "stream",
     "text": [
      "https://www.bitstamp.net/api/v2/ohlc/btcusd/?&currency_pair=btcusd&step=1800&limit=1000&start=1590966000\n",
      "Downloaded from 2020-06-01 00:00:00 to 2020-06-21 19:30:00 9325.43\n",
      "Resample 30Min - TecAn ( windows 30, windows_limit 100 )\n",
      "Processing 999 of btcusd\n"
     ]
    },
    {
     "data": {
      "application/vnd.jupyter.widget-view+json": {
       "model_id": "70e646689f9e4f7e8cc74ecc351a519d",
       "version_major": 2,
       "version_minor": 0
      },
      "text/plain": [
       "  0%|          | 0/999 [00:00<?, ?it/s]"
      ]
     },
     "metadata": {},
     "output_type": "display_data"
    },
    {
     "name": "stdout",
     "output_type": "stream",
     "text": [
      "https://www.bitstamp.net/api/v2/ohlc/ethusd/?&currency_pair=ethusd&step=1800&limit=1000&start=1590966000\n",
      "Downloaded from 2020-06-01 00:00:00 to 2020-06-21 19:30:00 229.34\n",
      "Resample 30Min - TecAn ( windows 30, windows_limit 100 )\n",
      "Processing 999 of ethusd\n"
     ]
    },
    {
     "data": {
      "application/vnd.jupyter.widget-view+json": {
       "model_id": "a738cee0dbc44f1c9ff12b2452e29fd9",
       "version_major": 2,
       "version_minor": 0
      },
      "text/plain": [
       "  0%|          | 0/999 [00:00<?, ?it/s]"
      ]
     },
     "metadata": {},
     "output_type": "display_data"
    },
    {
     "name": "stdout",
     "output_type": "stream",
     "text": [
      "https://www.bitstamp.net/api/v2/ohlc/ltcusd/?&currency_pair=ltcusd&step=1800&limit=1000&start=1590966000\n",
      "Downloaded from 2020-06-01 00:00:00 to 2020-06-21 19:30:00 43.07\n",
      "Resample 30Min - TecAn ( windows 30, windows_limit 100 )\n",
      "Processing 999 of ltcusd\n"
     ]
    },
    {
     "data": {
      "application/vnd.jupyter.widget-view+json": {
       "model_id": "6162b963f50b4a6dac9d2b94e8b5284a",
       "version_major": 2,
       "version_minor": 0
      },
      "text/plain": [
       "  0%|          | 0/999 [00:00<?, ?it/s]"
      ]
     },
     "metadata": {},
     "output_type": "display_data"
    },
    {
     "name": "stdout",
     "output_type": "stream",
     "text": [
      "https://www.bitstamp.net/api/v2/ohlc/ltcbtc/?&currency_pair=ltcbtc&step=1800&limit=1000&start=1590966000\n",
      "Downloaded from 2020-06-01 00:00:00 to 2020-06-21 19:30:00 0.00462141\n",
      "Resample 30Min - TecAn ( windows 30, windows_limit 100 )\n",
      "Processing 999 of ltcbtc\n"
     ]
    },
    {
     "data": {
      "application/vnd.jupyter.widget-view+json": {
       "model_id": "3422fcee46a647cdb2eaec57ebe7584c",
       "version_major": 2,
       "version_minor": 0
      },
      "text/plain": [
       "  0%|          | 0/999 [00:00<?, ?it/s]"
      ]
     },
     "metadata": {},
     "output_type": "display_data"
    },
    {
     "name": "stdout",
     "output_type": "stream",
     "text": [
      "https://www.bitstamp.net/api/v2/ohlc/btcusd/?&currency_pair=btcusd&step=1800&limit=1000&start=1559343600\n",
      "Downloaded from 2019-06-01 00:00:00 to 2019-06-21 19:30:00 9940.00\n",
      "Resample 30Min - TecAn ( windows 30, windows_limit 100 )\n",
      "Processing 999 of btcusd\n"
     ]
    },
    {
     "data": {
      "application/vnd.jupyter.widget-view+json": {
       "model_id": "44ca872233da46c989d856b592a75011",
       "version_major": 2,
       "version_minor": 0
      },
      "text/plain": [
       "  0%|          | 0/999 [00:00<?, ?it/s]"
      ]
     },
     "metadata": {},
     "output_type": "display_data"
    },
    {
     "name": "stdout",
     "output_type": "stream",
     "text": [
      "https://www.bitstamp.net/api/v2/ohlc/ethusd/?&currency_pair=ethusd&step=1800&limit=1000&start=1559343600\n",
      "Downloaded from 2019-06-01 00:00:00 to 2019-06-21 19:30:00 292.06\n",
      "Resample 30Min - TecAn ( windows 30, windows_limit 100 )\n",
      "Processing 999 of ethusd\n"
     ]
    },
    {
     "data": {
      "application/vnd.jupyter.widget-view+json": {
       "model_id": "62242932622e4fe1ba424538cc06c7ae",
       "version_major": 2,
       "version_minor": 0
      },
      "text/plain": [
       "  0%|          | 0/999 [00:00<?, ?it/s]"
      ]
     },
     "metadata": {},
     "output_type": "display_data"
    },
    {
     "name": "stdout",
     "output_type": "stream",
     "text": [
      "https://www.bitstamp.net/api/v2/ohlc/ltcusd/?&currency_pair=ltcusd&step=1800&limit=1000&start=1559343600\n",
      "Downloaded from 2019-06-01 00:00:00 to 2019-06-21 19:30:00 138.41\n",
      "Resample 30Min - TecAn ( windows 30, windows_limit 100 )\n",
      "Processing 999 of ltcusd\n"
     ]
    },
    {
     "data": {
      "application/vnd.jupyter.widget-view+json": {
       "model_id": "82f67b12599647ce8f2118075a8c35a9",
       "version_major": 2,
       "version_minor": 0
      },
      "text/plain": [
       "  0%|          | 0/999 [00:00<?, ?it/s]"
      ]
     },
     "metadata": {},
     "output_type": "display_data"
    },
    {
     "name": "stdout",
     "output_type": "stream",
     "text": [
      "https://www.bitstamp.net/api/v2/ohlc/ltcbtc/?&currency_pair=ltcbtc&step=1800&limit=1000&start=1559343600\n",
      "Downloaded from 2019-06-01 00:00:00 to 2019-06-21 19:30:00 0.01394473\n",
      "Resample 30Min - TecAn ( windows 30, windows_limit 100 )\n",
      "Processing 999 of ltcbtc\n"
     ]
    },
    {
     "data": {
      "application/vnd.jupyter.widget-view+json": {
       "model_id": "3dfd45d53fa64d0f84ed3eb395b4aa7a",
       "version_major": 2,
       "version_minor": 0
      },
      "text/plain": [
       "  0%|          | 0/999 [00:00<?, ?it/s]"
      ]
     },
     "metadata": {},
     "output_type": "display_data"
    },
    {
     "name": "stdout",
     "output_type": "stream",
     "text": [
      "https://www.bitstamp.net/api/v2/ohlc/btcusd/?&currency_pair=btcusd&step=1800&limit=1000&start=1527807600\n",
      "Downloaded from 2018-06-01 00:00:00 to 2018-06-21 19:30:00 6717.58\n",
      "Resample 30Min - TecAn ( windows 30, windows_limit 100 )\n",
      "Processing 999 of btcusd\n"
     ]
    },
    {
     "data": {
      "application/vnd.jupyter.widget-view+json": {
       "model_id": "66c0df777f7c476e83d631dec4e8aab9",
       "version_major": 2,
       "version_minor": 0
      },
      "text/plain": [
       "  0%|          | 0/999 [00:00<?, ?it/s]"
      ]
     },
     "metadata": {},
     "output_type": "display_data"
    },
    {
     "name": "stdout",
     "output_type": "stream",
     "text": [
      "https://www.bitstamp.net/api/v2/ohlc/ethusd/?&currency_pair=ethusd&step=1800&limit=1000&start=1527807600\n",
      "Downloaded from 2018-06-01 00:00:00 to 2018-06-21 19:30:00 523.60\n",
      "Resample 30Min - TecAn ( windows 30, windows_limit 100 )\n",
      "Processing 999 of ethusd\n"
     ]
    },
    {
     "data": {
      "application/vnd.jupyter.widget-view+json": {
       "model_id": "41ded14189ca4601a51c11cee58c1505",
       "version_major": 2,
       "version_minor": 0
      },
      "text/plain": [
       "  0%|          | 0/999 [00:00<?, ?it/s]"
      ]
     },
     "metadata": {},
     "output_type": "display_data"
    },
    {
     "name": "stdout",
     "output_type": "stream",
     "text": [
      "https://www.bitstamp.net/api/v2/ohlc/ltcusd/?&currency_pair=ltcusd&step=1800&limit=1000&start=1527807600\n",
      "Downloaded from 2018-06-01 00:00:00 to 2018-06-21 19:30:00 96.60\n",
      "Resample 30Min - TecAn ( windows 30, windows_limit 100 )\n",
      "Processing 999 of ltcusd\n"
     ]
    },
    {
     "data": {
      "application/vnd.jupyter.widget-view+json": {
       "model_id": "abda86315c6f440dbebfe8c30111ae1d",
       "version_major": 2,
       "version_minor": 0
      },
      "text/plain": [
       "  0%|          | 0/999 [00:00<?, ?it/s]"
      ]
     },
     "metadata": {},
     "output_type": "display_data"
    },
    {
     "name": "stdout",
     "output_type": "stream",
     "text": [
      "https://www.bitstamp.net/api/v2/ohlc/ltcbtc/?&currency_pair=ltcbtc&step=1800&limit=1000&start=1527807600\n",
      "Downloaded from 2018-06-01 00:00:00 to 2018-06-21 19:30:00 0.01434149\n",
      "Resample 30Min - TecAn ( windows 30, windows_limit 100 )\n",
      "Processing 999 of ltcbtc\n"
     ]
    },
    {
     "data": {
      "application/vnd.jupyter.widget-view+json": {
       "model_id": "157d1518fab848e49fcc67e54d41a516",
       "version_major": 2,
       "version_minor": 0
      },
      "text/plain": [
       "  0%|          | 0/999 [00:00<?, ?it/s]"
      ]
     },
     "metadata": {},
     "output_type": "display_data"
    },
    {
     "name": "stdout",
     "output_type": "stream",
     "text": [
      "https://www.bitstamp.net/api/v2/ohlc/btcusd/?&currency_pair=btcusd&step=1800&limit=1000&start=1517443200\n",
      "Downloaded from 2018-02-01 00:00:00 to 2018-02-21 19:30:00 10493.40\n",
      "Resample 30Min - TecAn ( windows 30, windows_limit 100 )\n",
      "Processing 999 of btcusd\n"
     ]
    },
    {
     "data": {
      "application/vnd.jupyter.widget-view+json": {
       "model_id": "d1b1ab5f294c47aea43d1a573e7bfd04",
       "version_major": 2,
       "version_minor": 0
      },
      "text/plain": [
       "  0%|          | 0/999 [00:00<?, ?it/s]"
      ]
     },
     "metadata": {},
     "output_type": "display_data"
    },
    {
     "name": "stdout",
     "output_type": "stream",
     "text": [
      "https://www.bitstamp.net/api/v2/ohlc/ethusd/?&currency_pair=ethusd&step=1800&limit=1000&start=1517443200\n",
      "Downloaded from 2018-02-01 00:00:00 to 2018-02-21 19:30:00 833.63\n",
      "Resample 30Min - TecAn ( windows 30, windows_limit 100 )\n",
      "Processing 999 of ethusd\n"
     ]
    },
    {
     "data": {
      "application/vnd.jupyter.widget-view+json": {
       "model_id": "448e92855e584e7cb729fd7924a0d61b",
       "version_major": 2,
       "version_minor": 0
      },
      "text/plain": [
       "  0%|          | 0/999 [00:00<?, ?it/s]"
      ]
     },
     "metadata": {},
     "output_type": "display_data"
    },
    {
     "name": "stdout",
     "output_type": "stream",
     "text": [
      "https://www.bitstamp.net/api/v2/ohlc/ltcusd/?&currency_pair=ltcusd&step=1800&limit=1000&start=1517443200\n",
      "Downloaded from 2018-02-01 00:00:00 to 2018-02-21 19:30:00 211.89\n",
      "Resample 30Min - TecAn ( windows 30, windows_limit 100 )\n",
      "Processing 999 of ltcusd\n"
     ]
    },
    {
     "data": {
      "application/vnd.jupyter.widget-view+json": {
       "model_id": "943b4b0c92f545f0b2e9e07862daa47c",
       "version_major": 2,
       "version_minor": 0
      },
      "text/plain": [
       "  0%|          | 0/999 [00:00<?, ?it/s]"
      ]
     },
     "metadata": {},
     "output_type": "display_data"
    },
    {
     "name": "stdout",
     "output_type": "stream",
     "text": [
      "https://www.bitstamp.net/api/v2/ohlc/ltcbtc/?&currency_pair=ltcbtc&step=1800&limit=1000&start=1517443200\n",
      "Downloaded from 2018-02-01 00:00:00 to 2018-02-21 19:30:00 0.02023969\n",
      "Resample 30Min - TecAn ( windows 30, windows_limit 100 )\n",
      "Processing 999 of ltcbtc\n"
     ]
    },
    {
     "data": {
      "application/vnd.jupyter.widget-view+json": {
       "model_id": "3aa33bdd2787427e8bec25ccddb2df2a",
       "version_major": 2,
       "version_minor": 0
      },
      "text/plain": [
       "  0%|          | 0/999 [00:00<?, ?it/s]"
      ]
     },
     "metadata": {},
     "output_type": "display_data"
    },
    {
     "name": "stdout",
     "output_type": "stream",
     "text": [
      "https://www.bitstamp.net/api/v2/ohlc/btcusd/?&currency_pair=btcusd&step=1800&limit=1000&start=1548979200\n",
      "Downloaded from 2019-02-01 00:00:00 to 2019-02-21 19:30:00 3888.76\n",
      "Resample 30Min - TecAn ( windows 30, windows_limit 100 )\n",
      "Processing 999 of btcusd\n"
     ]
    },
    {
     "data": {
      "application/vnd.jupyter.widget-view+json": {
       "model_id": "45c62c150b3e4df1968b163532ea2ac5",
       "version_major": 2,
       "version_minor": 0
      },
      "text/plain": [
       "  0%|          | 0/999 [00:00<?, ?it/s]"
      ]
     },
     "metadata": {},
     "output_type": "display_data"
    },
    {
     "name": "stdout",
     "output_type": "stream",
     "text": [
      "https://www.bitstamp.net/api/v2/ohlc/ethusd/?&currency_pair=ethusd&step=1800&limit=1000&start=1548979200\n",
      "Downloaded from 2019-02-01 00:00:00 to 2019-02-21 19:30:00 142.72\n",
      "Resample 30Min - TecAn ( windows 30, windows_limit 100 )\n",
      "Processing 999 of ethusd\n"
     ]
    },
    {
     "data": {
      "application/vnd.jupyter.widget-view+json": {
       "model_id": "a1dc443bbcf04a9db9753cdc1dde51c6",
       "version_major": 2,
       "version_minor": 0
      },
      "text/plain": [
       "  0%|          | 0/999 [00:00<?, ?it/s]"
      ]
     },
     "metadata": {},
     "output_type": "display_data"
    },
    {
     "name": "stdout",
     "output_type": "stream",
     "text": [
      "https://www.bitstamp.net/api/v2/ohlc/ltcusd/?&currency_pair=ltcusd&step=1800&limit=1000&start=1548979200\n",
      "Downloaded from 2019-02-01 00:00:00 to 2019-02-21 19:30:00 47.86\n",
      "Resample 30Min - TecAn ( windows 30, windows_limit 100 )\n",
      "Processing 999 of ltcusd\n"
     ]
    },
    {
     "data": {
      "application/vnd.jupyter.widget-view+json": {
       "model_id": "79e0406f3c504539a9912dcd107b6e86",
       "version_major": 2,
       "version_minor": 0
      },
      "text/plain": [
       "  0%|          | 0/999 [00:00<?, ?it/s]"
      ]
     },
     "metadata": {},
     "output_type": "display_data"
    },
    {
     "name": "stdout",
     "output_type": "stream",
     "text": [
      "https://www.bitstamp.net/api/v2/ohlc/ltcbtc/?&currency_pair=ltcbtc&step=1800&limit=1000&start=1548979200\n",
      "Downloaded from 2019-02-01 00:00:00 to 2019-02-21 19:30:00 0.01233400\n",
      "Resample 30Min - TecAn ( windows 30, windows_limit 100 )\n",
      "Processing 999 of ltcbtc\n"
     ]
    },
    {
     "data": {
      "application/vnd.jupyter.widget-view+json": {
       "model_id": "b9248a6da495450d8ed30d878284dc2c",
       "version_major": 2,
       "version_minor": 0
      },
      "text/plain": [
       "  0%|          | 0/999 [00:00<?, ?it/s]"
      ]
     },
     "metadata": {},
     "output_type": "display_data"
    },
    {
     "name": "stdout",
     "output_type": "stream",
     "text": [
      "https://www.bitstamp.net/api/v2/ohlc/btcusd/?&currency_pair=btcusd&step=1800&limit=1000&start=1580515200\n",
      "Downloaded from 2020-02-01 00:00:00 to 2020-02-21 19:30:00 9697.33\n",
      "Resample 30Min - TecAn ( windows 30, windows_limit 100 )\n",
      "Processing 999 of btcusd\n"
     ]
    },
    {
     "data": {
      "application/vnd.jupyter.widget-view+json": {
       "model_id": "a30cd487191a43b6b74ba8af23186196",
       "version_major": 2,
       "version_minor": 0
      },
      "text/plain": [
       "  0%|          | 0/999 [00:00<?, ?it/s]"
      ]
     },
     "metadata": {},
     "output_type": "display_data"
    },
    {
     "name": "stdout",
     "output_type": "stream",
     "text": [
      "https://www.bitstamp.net/api/v2/ohlc/ethusd/?&currency_pair=ethusd&step=1800&limit=1000&start=1580515200\n",
      "Downloaded from 2020-02-01 00:00:00 to 2020-02-21 19:30:00 264.40\n",
      "Resample 30Min - TecAn ( windows 30, windows_limit 100 )\n",
      "Processing 999 of ethusd\n"
     ]
    },
    {
     "data": {
      "application/vnd.jupyter.widget-view+json": {
       "model_id": "49438ff30d554e2ca5c8e97cbf5c047f",
       "version_major": 2,
       "version_minor": 0
      },
      "text/plain": [
       "  0%|          | 0/999 [00:00<?, ?it/s]"
      ]
     },
     "metadata": {},
     "output_type": "display_data"
    },
    {
     "name": "stdout",
     "output_type": "stream",
     "text": [
      "https://www.bitstamp.net/api/v2/ohlc/ltcusd/?&currency_pair=ltcusd&step=1800&limit=1000&start=1580515200\n",
      "Downloaded from 2020-02-01 00:00:00 to 2020-02-21 19:30:00 73.61\n",
      "Resample 30Min - TecAn ( windows 30, windows_limit 100 )\n",
      "Processing 999 of ltcusd\n"
     ]
    },
    {
     "data": {
      "application/vnd.jupyter.widget-view+json": {
       "model_id": "d3fe4f390849473280768a6352291f15",
       "version_major": 2,
       "version_minor": 0
      },
      "text/plain": [
       "  0%|          | 0/999 [00:00<?, ?it/s]"
      ]
     },
     "metadata": {},
     "output_type": "display_data"
    },
    {
     "name": "stdout",
     "output_type": "stream",
     "text": [
      "https://www.bitstamp.net/api/v2/ohlc/ltcbtc/?&currency_pair=ltcbtc&step=1800&limit=1000&start=1580515200\n",
      "Downloaded from 2020-02-01 00:00:00 to 2020-02-21 19:30:00 0.00753763\n",
      "Resample 30Min - TecAn ( windows 30, windows_limit 100 )\n",
      "Processing 999 of ltcbtc\n"
     ]
    },
    {
     "data": {
      "application/vnd.jupyter.widget-view+json": {
       "model_id": "17f3c3ba760744a697578b41797f33d9",
       "version_major": 2,
       "version_minor": 0
      },
      "text/plain": [
       "  0%|          | 0/999 [00:00<?, ?it/s]"
      ]
     },
     "metadata": {},
     "output_type": "display_data"
    },
    {
     "name": "stdout",
     "output_type": "stream",
     "text": [
      "https://www.bitstamp.net/api/v2/ohlc/btcusd/?&currency_pair=btcusd&step=1800&limit=1000&start=1612137600\n",
      "Downloaded from 2021-02-01 00:00:00 to 2021-02-21 19:30:00 58232.98\n",
      "Resample 30Min - TecAn ( windows 30, windows_limit 100 )\n",
      "Processing 999 of btcusd\n"
     ]
    },
    {
     "data": {
      "application/vnd.jupyter.widget-view+json": {
       "model_id": "c9609818866b40bf871eb8112e8aa119",
       "version_major": 2,
       "version_minor": 0
      },
      "text/plain": [
       "  0%|          | 0/999 [00:00<?, ?it/s]"
      ]
     },
     "metadata": {},
     "output_type": "display_data"
    },
    {
     "name": "stdout",
     "output_type": "stream",
     "text": [
      "https://www.bitstamp.net/api/v2/ohlc/ethusd/?&currency_pair=ethusd&step=1800&limit=1000&start=1612137600\n",
      "Downloaded from 2021-02-01 00:00:00 to 2021-02-21 19:30:00 1971.83\n",
      "Resample 30Min - TecAn ( windows 30, windows_limit 100 )\n",
      "Processing 999 of ethusd\n"
     ]
    },
    {
     "data": {
      "application/vnd.jupyter.widget-view+json": {
       "model_id": "97184d5bed59420dba8a26f6417a9509",
       "version_major": 2,
       "version_minor": 0
      },
      "text/plain": [
       "  0%|          | 0/999 [00:00<?, ?it/s]"
      ]
     },
     "metadata": {},
     "output_type": "display_data"
    },
    {
     "name": "stdout",
     "output_type": "stream",
     "text": [
      "https://www.bitstamp.net/api/v2/ohlc/ltcusd/?&currency_pair=ltcusd&step=1800&limit=1000&start=1612137600\n",
      "Downloaded from 2021-02-01 00:00:00 to 2021-02-21 19:30:00 232.85\n",
      "Resample 30Min - TecAn ( windows 30, windows_limit 100 )\n",
      "Processing 999 of ltcusd\n"
     ]
    },
    {
     "data": {
      "application/vnd.jupyter.widget-view+json": {
       "model_id": "b9ff0a0131d643b5b307caf8773528d3",
       "version_major": 2,
       "version_minor": 0
      },
      "text/plain": [
       "  0%|          | 0/999 [00:00<?, ?it/s]"
      ]
     },
     "metadata": {},
     "output_type": "display_data"
    },
    {
     "name": "stdout",
     "output_type": "stream",
     "text": [
      "https://www.bitstamp.net/api/v2/ohlc/ltcbtc/?&currency_pair=ltcbtc&step=1800&limit=1000&start=1612137600\n",
      "Downloaded from 2021-02-01 00:00:00 to 2021-02-21 19:30:00 0.00399236\n",
      "Resample 30Min - TecAn ( windows 30, windows_limit 100 )\n",
      "Processing 999 of ltcbtc\n"
     ]
    },
    {
     "data": {
      "application/vnd.jupyter.widget-view+json": {
       "model_id": "94d05be7d7cb4c7fb2fc2094a84812df",
       "version_major": 2,
       "version_minor": 0
      },
      "text/plain": [
       "  0%|          | 0/999 [00:00<?, ?it/s]"
      ]
     },
     "metadata": {},
     "output_type": "display_data"
    },
    {
     "name": "stdout",
     "output_type": "stream",
     "text": [
      "https://www.bitstamp.net/api/v2/ohlc/btcusd/?&currency_pair=btcusd&step=1800&limit=1000&start=1623711600\n",
      "https://www.bitstamp.net/api/v2/ohlc/btcusd/?&currency_pair=btcusd&step=1800&limit=1000&start=1625509800\n",
      "Downloaded from 2021-06-15 00:00:00 to 2021-07-15 00:30:00 32798.33\n",
      "Resample 30Min - TecAn ( windows 30, windows_limit 100 )\n",
      "Processing 1442 of btcusd\n"
     ]
    },
    {
     "data": {
      "application/vnd.jupyter.widget-view+json": {
       "model_id": "a7f525390c5f49e4879178d73a755d84",
       "version_major": 2,
       "version_minor": 0
      },
      "text/plain": [
       "  0%|          | 0/1442 [00:00<?, ?it/s]"
      ]
     },
     "metadata": {},
     "output_type": "display_data"
    },
    {
     "name": "stdout",
     "output_type": "stream",
     "text": [
      "https://www.bitstamp.net/api/v2/ohlc/ethusd/?&currency_pair=ethusd&step=1800&limit=1000&start=1623711600\n",
      "https://www.bitstamp.net/api/v2/ohlc/ethusd/?&currency_pair=ethusd&step=1800&limit=1000&start=1625509800\n",
      "Downloaded from 2021-06-15 00:00:00 to 2021-07-15 00:30:00 1994.16\n",
      "Resample 30Min - TecAn ( windows 30, windows_limit 100 )\n",
      "Processing 1442 of ethusd\n"
     ]
    },
    {
     "data": {
      "application/vnd.jupyter.widget-view+json": {
       "model_id": "e4b7ffab486749c6859a74a527ac7bcc",
       "version_major": 2,
       "version_minor": 0
      },
      "text/plain": [
       "  0%|          | 0/1442 [00:00<?, ?it/s]"
      ]
     },
     "metadata": {},
     "output_type": "display_data"
    },
    {
     "name": "stdout",
     "output_type": "stream",
     "text": [
      "https://www.bitstamp.net/api/v2/ohlc/ltcusd/?&currency_pair=ltcusd&step=1800&limit=1000&start=1623711600\n",
      "https://www.bitstamp.net/api/v2/ohlc/ltcusd/?&currency_pair=ltcusd&step=1800&limit=1000&start=1625509800\n",
      "Downloaded from 2021-06-15 00:00:00 to 2021-07-15 00:30:00 130.70\n",
      "Resample 30Min - TecAn ( windows 30, windows_limit 100 )\n",
      "Processing 1442 of ltcusd\n"
     ]
    },
    {
     "data": {
      "application/vnd.jupyter.widget-view+json": {
       "model_id": "6201e97a278642b48f110dc4f882244b",
       "version_major": 2,
       "version_minor": 0
      },
      "text/plain": [
       "  0%|          | 0/1442 [00:00<?, ?it/s]"
      ]
     },
     "metadata": {},
     "output_type": "display_data"
    },
    {
     "name": "stdout",
     "output_type": "stream",
     "text": [
      "https://www.bitstamp.net/api/v2/ohlc/ltcbtc/?&currency_pair=ltcbtc&step=1800&limit=1000&start=1623711600\n",
      "https://www.bitstamp.net/api/v2/ohlc/ltcbtc/?&currency_pair=ltcbtc&step=1800&limit=1000&start=1625509800\n",
      "Downloaded from 2021-06-15 00:00:00 to 2021-07-15 00:30:00 0.00399000\n",
      "Resample 30Min - TecAn ( windows 30, windows_limit 100 )\n",
      "Processing 1442 of ltcbtc\n"
     ]
    },
    {
     "data": {
      "application/vnd.jupyter.widget-view+json": {
       "model_id": "00119d47444147c0a791b19bbb68fb25",
       "version_major": 2,
       "version_minor": 0
      },
      "text/plain": [
       "  0%|          | 0/1442 [00:00<?, ?it/s]"
      ]
     },
     "metadata": {},
     "output_type": "display_data"
    },
    {
     "name": "stdout",
     "output_type": "stream",
     "text": [
      "https://www.bitstamp.net/api/v2/ohlc/btcusd/?&currency_pair=btcusd&step=1800&limit=1000&start=1622502000\n",
      "Downloaded from 2021-06-01 00:00:00 to 2021-06-21 19:30:00 32470.01\n",
      "Resample 30Min - TecAn ( windows 40, windows_limit 100 )\n",
      "Processing 999 of btcusd\n"
     ]
    },
    {
     "data": {
      "application/vnd.jupyter.widget-view+json": {
       "model_id": "2091c3a6ab314f5f834065ae79eadb75",
       "version_major": 2,
       "version_minor": 0
      },
      "text/plain": [
       "  0%|          | 0/999 [00:00<?, ?it/s]"
      ]
     },
     "metadata": {},
     "output_type": "display_data"
    },
    {
     "name": "stdout",
     "output_type": "stream",
     "text": [
      "https://www.bitstamp.net/api/v2/ohlc/ethusd/?&currency_pair=ethusd&step=1800&limit=1000&start=1622502000\n",
      "Downloaded from 2021-06-01 00:00:00 to 2021-06-21 19:30:00 1929.00\n",
      "Resample 30Min - TecAn ( windows 40, windows_limit 100 )\n",
      "Processing 999 of ethusd\n"
     ]
    },
    {
     "data": {
      "application/vnd.jupyter.widget-view+json": {
       "model_id": "81a3c0a1adda455bab8c9145192f0fb0",
       "version_major": 2,
       "version_minor": 0
      },
      "text/plain": [
       "  0%|          | 0/999 [00:00<?, ?it/s]"
      ]
     },
     "metadata": {},
     "output_type": "display_data"
    },
    {
     "name": "stdout",
     "output_type": "stream",
     "text": [
      "https://www.bitstamp.net/api/v2/ohlc/ltcusd/?&currency_pair=ltcusd&step=1800&limit=1000&start=1622502000\n",
      "Downloaded from 2021-06-01 00:00:00 to 2021-06-21 19:30:00 133.00\n",
      "Resample 30Min - TecAn ( windows 40, windows_limit 100 )\n",
      "Processing 999 of ltcusd\n"
     ]
    },
    {
     "data": {
      "application/vnd.jupyter.widget-view+json": {
       "model_id": "1474e3b28da348c8b38ee7c4bdbae381",
       "version_major": 2,
       "version_minor": 0
      },
      "text/plain": [
       "  0%|          | 0/999 [00:00<?, ?it/s]"
      ]
     },
     "metadata": {},
     "output_type": "display_data"
    },
    {
     "name": "stdout",
     "output_type": "stream",
     "text": [
      "https://www.bitstamp.net/api/v2/ohlc/ltcbtc/?&currency_pair=ltcbtc&step=1800&limit=1000&start=1622502000\n",
      "Downloaded from 2021-06-01 00:00:00 to 2021-06-21 19:30:00 0.00409365\n",
      "Resample 30Min - TecAn ( windows 40, windows_limit 100 )\n",
      "Processing 999 of ltcbtc\n"
     ]
    },
    {
     "data": {
      "application/vnd.jupyter.widget-view+json": {
       "model_id": "6bbea1ceabd4459b87c336ad99e2ca8c",
       "version_major": 2,
       "version_minor": 0
      },
      "text/plain": [
       "  0%|          | 0/999 [00:00<?, ?it/s]"
      ]
     },
     "metadata": {},
     "output_type": "display_data"
    },
    {
     "name": "stdout",
     "output_type": "stream",
     "text": [
      "https://www.bitstamp.net/api/v2/ohlc/btcusd/?&currency_pair=btcusd&step=1800&limit=1000&start=1590966000\n",
      "Downloaded from 2020-06-01 00:00:00 to 2020-06-21 19:30:00 9325.43\n",
      "Resample 30Min - TecAn ( windows 40, windows_limit 100 )\n",
      "Processing 999 of btcusd\n"
     ]
    },
    {
     "data": {
      "application/vnd.jupyter.widget-view+json": {
       "model_id": "0738fa0b4e8b4cb78c13aed58bbaba89",
       "version_major": 2,
       "version_minor": 0
      },
      "text/plain": [
       "  0%|          | 0/999 [00:00<?, ?it/s]"
      ]
     },
     "metadata": {},
     "output_type": "display_data"
    },
    {
     "name": "stdout",
     "output_type": "stream",
     "text": [
      "https://www.bitstamp.net/api/v2/ohlc/ethusd/?&currency_pair=ethusd&step=1800&limit=1000&start=1590966000\n",
      "Downloaded from 2020-06-01 00:00:00 to 2020-06-21 19:30:00 229.34\n",
      "Resample 30Min - TecAn ( windows 40, windows_limit 100 )\n",
      "Processing 999 of ethusd\n"
     ]
    },
    {
     "data": {
      "application/vnd.jupyter.widget-view+json": {
       "model_id": "e784460b1ad94eb6ad6e761547c53632",
       "version_major": 2,
       "version_minor": 0
      },
      "text/plain": [
       "  0%|          | 0/999 [00:00<?, ?it/s]"
      ]
     },
     "metadata": {},
     "output_type": "display_data"
    },
    {
     "name": "stdout",
     "output_type": "stream",
     "text": [
      "https://www.bitstamp.net/api/v2/ohlc/ltcusd/?&currency_pair=ltcusd&step=1800&limit=1000&start=1590966000\n",
      "Downloaded from 2020-06-01 00:00:00 to 2020-06-21 19:30:00 43.07\n",
      "Resample 30Min - TecAn ( windows 40, windows_limit 100 )\n",
      "Processing 999 of ltcusd\n"
     ]
    },
    {
     "data": {
      "application/vnd.jupyter.widget-view+json": {
       "model_id": "7a39a073bae6433a929f0d9fbad2ee7a",
       "version_major": 2,
       "version_minor": 0
      },
      "text/plain": [
       "  0%|          | 0/999 [00:00<?, ?it/s]"
      ]
     },
     "metadata": {},
     "output_type": "display_data"
    },
    {
     "name": "stdout",
     "output_type": "stream",
     "text": [
      "https://www.bitstamp.net/api/v2/ohlc/ltcbtc/?&currency_pair=ltcbtc&step=1800&limit=1000&start=1590966000\n",
      "Downloaded from 2020-06-01 00:00:00 to 2020-06-21 19:30:00 0.00462141\n",
      "Resample 30Min - TecAn ( windows 40, windows_limit 100 )\n",
      "Processing 999 of ltcbtc\n"
     ]
    },
    {
     "data": {
      "application/vnd.jupyter.widget-view+json": {
       "model_id": "7b4a0862127a46d18e41d608b1f7c450",
       "version_major": 2,
       "version_minor": 0
      },
      "text/plain": [
       "  0%|          | 0/999 [00:00<?, ?it/s]"
      ]
     },
     "metadata": {},
     "output_type": "display_data"
    },
    {
     "name": "stdout",
     "output_type": "stream",
     "text": [
      "https://www.bitstamp.net/api/v2/ohlc/btcusd/?&currency_pair=btcusd&step=1800&limit=1000&start=1559343600\n",
      "Downloaded from 2019-06-01 00:00:00 to 2019-06-21 19:30:00 9940.00\n",
      "Resample 30Min - TecAn ( windows 40, windows_limit 100 )\n",
      "Processing 999 of btcusd\n"
     ]
    },
    {
     "data": {
      "application/vnd.jupyter.widget-view+json": {
       "model_id": "c54288462d164243a5978214a1df6b68",
       "version_major": 2,
       "version_minor": 0
      },
      "text/plain": [
       "  0%|          | 0/999 [00:00<?, ?it/s]"
      ]
     },
     "metadata": {},
     "output_type": "display_data"
    },
    {
     "name": "stdout",
     "output_type": "stream",
     "text": [
      "https://www.bitstamp.net/api/v2/ohlc/ethusd/?&currency_pair=ethusd&step=1800&limit=1000&start=1559343600\n",
      "Downloaded from 2019-06-01 00:00:00 to 2019-06-21 19:30:00 292.06\n",
      "Resample 30Min - TecAn ( windows 40, windows_limit 100 )\n",
      "Processing 999 of ethusd\n"
     ]
    },
    {
     "data": {
      "application/vnd.jupyter.widget-view+json": {
       "model_id": "b03931a506904a75a316ad13e7aa9606",
       "version_major": 2,
       "version_minor": 0
      },
      "text/plain": [
       "  0%|          | 0/999 [00:00<?, ?it/s]"
      ]
     },
     "metadata": {},
     "output_type": "display_data"
    },
    {
     "name": "stdout",
     "output_type": "stream",
     "text": [
      "https://www.bitstamp.net/api/v2/ohlc/ltcusd/?&currency_pair=ltcusd&step=1800&limit=1000&start=1559343600\n",
      "Downloaded from 2019-06-01 00:00:00 to 2019-06-21 19:30:00 138.41\n",
      "Resample 30Min - TecAn ( windows 40, windows_limit 100 )\n",
      "Processing 999 of ltcusd\n"
     ]
    },
    {
     "data": {
      "application/vnd.jupyter.widget-view+json": {
       "model_id": "054729bb124d4c6a9d00a10e711efaea",
       "version_major": 2,
       "version_minor": 0
      },
      "text/plain": [
       "  0%|          | 0/999 [00:00<?, ?it/s]"
      ]
     },
     "metadata": {},
     "output_type": "display_data"
    },
    {
     "name": "stdout",
     "output_type": "stream",
     "text": [
      "https://www.bitstamp.net/api/v2/ohlc/ltcbtc/?&currency_pair=ltcbtc&step=1800&limit=1000&start=1559343600\n",
      "Downloaded from 2019-06-01 00:00:00 to 2019-06-21 19:30:00 0.01394473\n",
      "Resample 30Min - TecAn ( windows 40, windows_limit 100 )\n",
      "Processing 999 of ltcbtc\n"
     ]
    },
    {
     "data": {
      "application/vnd.jupyter.widget-view+json": {
       "model_id": "618119c0f916403f9edd892433cc4dfd",
       "version_major": 2,
       "version_minor": 0
      },
      "text/plain": [
       "  0%|          | 0/999 [00:00<?, ?it/s]"
      ]
     },
     "metadata": {},
     "output_type": "display_data"
    },
    {
     "name": "stdout",
     "output_type": "stream",
     "text": [
      "https://www.bitstamp.net/api/v2/ohlc/btcusd/?&currency_pair=btcusd&step=1800&limit=1000&start=1527807600\n",
      "Downloaded from 2018-06-01 00:00:00 to 2018-06-21 19:30:00 6717.58\n",
      "Resample 30Min - TecAn ( windows 40, windows_limit 100 )\n",
      "Processing 999 of btcusd\n"
     ]
    },
    {
     "data": {
      "application/vnd.jupyter.widget-view+json": {
       "model_id": "899f01182f7b4453b6cfebde94b8a22d",
       "version_major": 2,
       "version_minor": 0
      },
      "text/plain": [
       "  0%|          | 0/999 [00:00<?, ?it/s]"
      ]
     },
     "metadata": {},
     "output_type": "display_data"
    },
    {
     "name": "stdout",
     "output_type": "stream",
     "text": [
      "https://www.bitstamp.net/api/v2/ohlc/ethusd/?&currency_pair=ethusd&step=1800&limit=1000&start=1527807600\n",
      "Downloaded from 2018-06-01 00:00:00 to 2018-06-21 19:30:00 523.60\n",
      "Resample 30Min - TecAn ( windows 40, windows_limit 100 )\n",
      "Processing 999 of ethusd\n"
     ]
    },
    {
     "data": {
      "application/vnd.jupyter.widget-view+json": {
       "model_id": "b344513ba5ca4117a88e01c0dd2eab1f",
       "version_major": 2,
       "version_minor": 0
      },
      "text/plain": [
       "  0%|          | 0/999 [00:00<?, ?it/s]"
      ]
     },
     "metadata": {},
     "output_type": "display_data"
    },
    {
     "name": "stdout",
     "output_type": "stream",
     "text": [
      "https://www.bitstamp.net/api/v2/ohlc/ltcusd/?&currency_pair=ltcusd&step=1800&limit=1000&start=1527807600\n",
      "Downloaded from 2018-06-01 00:00:00 to 2018-06-21 19:30:00 96.60\n",
      "Resample 30Min - TecAn ( windows 40, windows_limit 100 )\n",
      "Processing 999 of ltcusd\n"
     ]
    },
    {
     "data": {
      "application/vnd.jupyter.widget-view+json": {
       "model_id": "0af77e3c29fc4c95b9bc4b2e50e72293",
       "version_major": 2,
       "version_minor": 0
      },
      "text/plain": [
       "  0%|          | 0/999 [00:00<?, ?it/s]"
      ]
     },
     "metadata": {},
     "output_type": "display_data"
    },
    {
     "name": "stdout",
     "output_type": "stream",
     "text": [
      "https://www.bitstamp.net/api/v2/ohlc/ltcbtc/?&currency_pair=ltcbtc&step=1800&limit=1000&start=1527807600\n",
      "Downloaded from 2018-06-01 00:00:00 to 2018-06-21 19:30:00 0.01434149\n",
      "Resample 30Min - TecAn ( windows 40, windows_limit 100 )\n",
      "Processing 999 of ltcbtc\n"
     ]
    },
    {
     "data": {
      "application/vnd.jupyter.widget-view+json": {
       "model_id": "fba544b411c24baa9a9ec9692a824761",
       "version_major": 2,
       "version_minor": 0
      },
      "text/plain": [
       "  0%|          | 0/999 [00:00<?, ?it/s]"
      ]
     },
     "metadata": {},
     "output_type": "display_data"
    },
    {
     "name": "stdout",
     "output_type": "stream",
     "text": [
      "https://www.bitstamp.net/api/v2/ohlc/btcusd/?&currency_pair=btcusd&step=1800&limit=1000&start=1517443200\n",
      "Downloaded from 2018-02-01 00:00:00 to 2018-02-21 19:30:00 10493.40\n",
      "Resample 30Min - TecAn ( windows 40, windows_limit 100 )\n",
      "Processing 999 of btcusd\n"
     ]
    },
    {
     "data": {
      "application/vnd.jupyter.widget-view+json": {
       "model_id": "78e7f482e42b4e84b4d0d22d99f03303",
       "version_major": 2,
       "version_minor": 0
      },
      "text/plain": [
       "  0%|          | 0/999 [00:00<?, ?it/s]"
      ]
     },
     "metadata": {},
     "output_type": "display_data"
    },
    {
     "name": "stdout",
     "output_type": "stream",
     "text": [
      "https://www.bitstamp.net/api/v2/ohlc/ethusd/?&currency_pair=ethusd&step=1800&limit=1000&start=1517443200\n",
      "Downloaded from 2018-02-01 00:00:00 to 2018-02-21 19:30:00 833.63\n",
      "Resample 30Min - TecAn ( windows 40, windows_limit 100 )\n",
      "Processing 999 of ethusd\n"
     ]
    },
    {
     "data": {
      "application/vnd.jupyter.widget-view+json": {
       "model_id": "ab9f65210bef40f59353c6e1782f8c1d",
       "version_major": 2,
       "version_minor": 0
      },
      "text/plain": [
       "  0%|          | 0/999 [00:00<?, ?it/s]"
      ]
     },
     "metadata": {},
     "output_type": "display_data"
    },
    {
     "name": "stdout",
     "output_type": "stream",
     "text": [
      "https://www.bitstamp.net/api/v2/ohlc/ltcusd/?&currency_pair=ltcusd&step=1800&limit=1000&start=1517443200\n",
      "Downloaded from 2018-02-01 00:00:00 to 2018-02-21 19:30:00 211.89\n",
      "Resample 30Min - TecAn ( windows 40, windows_limit 100 )\n",
      "Processing 999 of ltcusd\n"
     ]
    },
    {
     "data": {
      "application/vnd.jupyter.widget-view+json": {
       "model_id": "f80c169ca28d440bbfeeef2352890081",
       "version_major": 2,
       "version_minor": 0
      },
      "text/plain": [
       "  0%|          | 0/999 [00:00<?, ?it/s]"
      ]
     },
     "metadata": {},
     "output_type": "display_data"
    },
    {
     "name": "stdout",
     "output_type": "stream",
     "text": [
      "https://www.bitstamp.net/api/v2/ohlc/ltcbtc/?&currency_pair=ltcbtc&step=1800&limit=1000&start=1517443200\n",
      "Downloaded from 2018-02-01 00:00:00 to 2018-02-21 19:30:00 0.02023969\n",
      "Resample 30Min - TecAn ( windows 40, windows_limit 100 )\n",
      "Processing 999 of ltcbtc\n"
     ]
    },
    {
     "data": {
      "application/vnd.jupyter.widget-view+json": {
       "model_id": "4d9a554b7db0444d978c6369b100b895",
       "version_major": 2,
       "version_minor": 0
      },
      "text/plain": [
       "  0%|          | 0/999 [00:00<?, ?it/s]"
      ]
     },
     "metadata": {},
     "output_type": "display_data"
    },
    {
     "name": "stdout",
     "output_type": "stream",
     "text": [
      "https://www.bitstamp.net/api/v2/ohlc/btcusd/?&currency_pair=btcusd&step=1800&limit=1000&start=1548979200\n",
      "Downloaded from 2019-02-01 00:00:00 to 2019-02-21 19:30:00 3888.76\n",
      "Resample 30Min - TecAn ( windows 40, windows_limit 100 )\n",
      "Processing 999 of btcusd\n"
     ]
    },
    {
     "data": {
      "application/vnd.jupyter.widget-view+json": {
       "model_id": "acbed296123b48dcb4d4b3435981afa0",
       "version_major": 2,
       "version_minor": 0
      },
      "text/plain": [
       "  0%|          | 0/999 [00:00<?, ?it/s]"
      ]
     },
     "metadata": {},
     "output_type": "display_data"
    },
    {
     "name": "stdout",
     "output_type": "stream",
     "text": [
      "https://www.bitstamp.net/api/v2/ohlc/ethusd/?&currency_pair=ethusd&step=1800&limit=1000&start=1548979200\n",
      "Downloaded from 2019-02-01 00:00:00 to 2019-02-21 19:30:00 142.72\n",
      "Resample 30Min - TecAn ( windows 40, windows_limit 100 )\n",
      "Processing 999 of ethusd\n"
     ]
    },
    {
     "data": {
      "application/vnd.jupyter.widget-view+json": {
       "model_id": "7f827c7e87844f5b837e8e131a46df15",
       "version_major": 2,
       "version_minor": 0
      },
      "text/plain": [
       "  0%|          | 0/999 [00:00<?, ?it/s]"
      ]
     },
     "metadata": {},
     "output_type": "display_data"
    },
    {
     "name": "stdout",
     "output_type": "stream",
     "text": [
      "https://www.bitstamp.net/api/v2/ohlc/ltcusd/?&currency_pair=ltcusd&step=1800&limit=1000&start=1548979200\n",
      "Downloaded from 2019-02-01 00:00:00 to 2019-02-21 19:30:00 47.86\n",
      "Resample 30Min - TecAn ( windows 40, windows_limit 100 )\n",
      "Processing 999 of ltcusd\n"
     ]
    },
    {
     "data": {
      "application/vnd.jupyter.widget-view+json": {
       "model_id": "ef2e4db8da014f6187d311d6e1625b27",
       "version_major": 2,
       "version_minor": 0
      },
      "text/plain": [
       "  0%|          | 0/999 [00:00<?, ?it/s]"
      ]
     },
     "metadata": {},
     "output_type": "display_data"
    },
    {
     "name": "stdout",
     "output_type": "stream",
     "text": [
      "https://www.bitstamp.net/api/v2/ohlc/ltcbtc/?&currency_pair=ltcbtc&step=1800&limit=1000&start=1548979200\n",
      "Downloaded from 2019-02-01 00:00:00 to 2019-02-21 19:30:00 0.01233400\n",
      "Resample 30Min - TecAn ( windows 40, windows_limit 100 )\n",
      "Processing 999 of ltcbtc\n"
     ]
    },
    {
     "data": {
      "application/vnd.jupyter.widget-view+json": {
       "model_id": "7d086cff480d4a8e83043bf43fbff477",
       "version_major": 2,
       "version_minor": 0
      },
      "text/plain": [
       "  0%|          | 0/999 [00:00<?, ?it/s]"
      ]
     },
     "metadata": {},
     "output_type": "display_data"
    },
    {
     "name": "stdout",
     "output_type": "stream",
     "text": [
      "https://www.bitstamp.net/api/v2/ohlc/btcusd/?&currency_pair=btcusd&step=1800&limit=1000&start=1580515200\n",
      "Downloaded from 2020-02-01 00:00:00 to 2020-02-21 19:30:00 9697.33\n",
      "Resample 30Min - TecAn ( windows 40, windows_limit 100 )\n",
      "Processing 999 of btcusd\n"
     ]
    },
    {
     "data": {
      "application/vnd.jupyter.widget-view+json": {
       "model_id": "16cfdbf45c4440c88d96c704e2ff5af0",
       "version_major": 2,
       "version_minor": 0
      },
      "text/plain": [
       "  0%|          | 0/999 [00:00<?, ?it/s]"
      ]
     },
     "metadata": {},
     "output_type": "display_data"
    },
    {
     "name": "stdout",
     "output_type": "stream",
     "text": [
      "https://www.bitstamp.net/api/v2/ohlc/ethusd/?&currency_pair=ethusd&step=1800&limit=1000&start=1580515200\n",
      "Downloaded from 2020-02-01 00:00:00 to 2020-02-21 19:30:00 264.40\n",
      "Resample 30Min - TecAn ( windows 40, windows_limit 100 )\n",
      "Processing 999 of ethusd\n"
     ]
    },
    {
     "data": {
      "application/vnd.jupyter.widget-view+json": {
       "model_id": "a4071b2b9eb041bbb4beeb9cf7547a11",
       "version_major": 2,
       "version_minor": 0
      },
      "text/plain": [
       "  0%|          | 0/999 [00:00<?, ?it/s]"
      ]
     },
     "metadata": {},
     "output_type": "display_data"
    },
    {
     "name": "stdout",
     "output_type": "stream",
     "text": [
      "https://www.bitstamp.net/api/v2/ohlc/ltcusd/?&currency_pair=ltcusd&step=1800&limit=1000&start=1580515200\n",
      "Downloaded from 2020-02-01 00:00:00 to 2020-02-21 19:30:00 73.61\n",
      "Resample 30Min - TecAn ( windows 40, windows_limit 100 )\n",
      "Processing 999 of ltcusd\n"
     ]
    },
    {
     "data": {
      "application/vnd.jupyter.widget-view+json": {
       "model_id": "c93cc3314b774297b57722e9df1002aa",
       "version_major": 2,
       "version_minor": 0
      },
      "text/plain": [
       "  0%|          | 0/999 [00:00<?, ?it/s]"
      ]
     },
     "metadata": {},
     "output_type": "display_data"
    },
    {
     "name": "stdout",
     "output_type": "stream",
     "text": [
      "https://www.bitstamp.net/api/v2/ohlc/ltcbtc/?&currency_pair=ltcbtc&step=1800&limit=1000&start=1580515200\n",
      "Downloaded from 2020-02-01 00:00:00 to 2020-02-21 19:30:00 0.00753763\n",
      "Resample 30Min - TecAn ( windows 40, windows_limit 100 )\n",
      "Processing 999 of ltcbtc\n"
     ]
    },
    {
     "data": {
      "application/vnd.jupyter.widget-view+json": {
       "model_id": "fa48db7ee0e84a7fa043989f870d2b95",
       "version_major": 2,
       "version_minor": 0
      },
      "text/plain": [
       "  0%|          | 0/999 [00:00<?, ?it/s]"
      ]
     },
     "metadata": {},
     "output_type": "display_data"
    },
    {
     "name": "stdout",
     "output_type": "stream",
     "text": [
      "https://www.bitstamp.net/api/v2/ohlc/btcusd/?&currency_pair=btcusd&step=1800&limit=1000&start=1612137600\n",
      "Downloaded from 2021-02-01 00:00:00 to 2021-02-21 19:30:00 58232.98\n",
      "Resample 30Min - TecAn ( windows 40, windows_limit 100 )\n",
      "Processing 999 of btcusd\n"
     ]
    },
    {
     "data": {
      "application/vnd.jupyter.widget-view+json": {
       "model_id": "fd4fd27845004bf1b1cff258715649b5",
       "version_major": 2,
       "version_minor": 0
      },
      "text/plain": [
       "  0%|          | 0/999 [00:00<?, ?it/s]"
      ]
     },
     "metadata": {},
     "output_type": "display_data"
    },
    {
     "name": "stdout",
     "output_type": "stream",
     "text": [
      "https://www.bitstamp.net/api/v2/ohlc/ethusd/?&currency_pair=ethusd&step=1800&limit=1000&start=1612137600\n",
      "Downloaded from 2021-02-01 00:00:00 to 2021-02-21 19:30:00 1971.83\n",
      "Resample 30Min - TecAn ( windows 40, windows_limit 100 )\n",
      "Processing 999 of ethusd\n"
     ]
    },
    {
     "data": {
      "application/vnd.jupyter.widget-view+json": {
       "model_id": "7cb697f30c8943bda7c3b56702f44dd2",
       "version_major": 2,
       "version_minor": 0
      },
      "text/plain": [
       "  0%|          | 0/999 [00:00<?, ?it/s]"
      ]
     },
     "metadata": {},
     "output_type": "display_data"
    },
    {
     "name": "stdout",
     "output_type": "stream",
     "text": [
      "https://www.bitstamp.net/api/v2/ohlc/ltcusd/?&currency_pair=ltcusd&step=1800&limit=1000&start=1612137600\n",
      "Downloaded from 2021-02-01 00:00:00 to 2021-02-21 19:30:00 232.85\n",
      "Resample 30Min - TecAn ( windows 40, windows_limit 100 )\n",
      "Processing 999 of ltcusd\n"
     ]
    },
    {
     "data": {
      "application/vnd.jupyter.widget-view+json": {
       "model_id": "cef34f1498104efcb6b3e8b8959dc976",
       "version_major": 2,
       "version_minor": 0
      },
      "text/plain": [
       "  0%|          | 0/999 [00:00<?, ?it/s]"
      ]
     },
     "metadata": {},
     "output_type": "display_data"
    },
    {
     "name": "stdout",
     "output_type": "stream",
     "text": [
      "https://www.bitstamp.net/api/v2/ohlc/ltcbtc/?&currency_pair=ltcbtc&step=1800&limit=1000&start=1612137600\n",
      "Downloaded from 2021-02-01 00:00:00 to 2021-02-21 19:30:00 0.00399236\n",
      "Resample 30Min - TecAn ( windows 40, windows_limit 100 )\n",
      "Processing 999 of ltcbtc\n"
     ]
    },
    {
     "data": {
      "application/vnd.jupyter.widget-view+json": {
       "model_id": "f0e5e8fa417649f88c234c81d56cf734",
       "version_major": 2,
       "version_minor": 0
      },
      "text/plain": [
       "  0%|          | 0/999 [00:00<?, ?it/s]"
      ]
     },
     "metadata": {},
     "output_type": "display_data"
    },
    {
     "name": "stdout",
     "output_type": "stream",
     "text": [
      "https://www.bitstamp.net/api/v2/ohlc/btcusd/?&currency_pair=btcusd&step=1800&limit=1000&start=1623711600\n",
      "https://www.bitstamp.net/api/v2/ohlc/btcusd/?&currency_pair=btcusd&step=1800&limit=1000&start=1625509800\n",
      "Downloaded from 2021-06-15 00:00:00 to 2021-07-15 00:30:00 32798.33\n",
      "Resample 30Min - TecAn ( windows 40, windows_limit 100 )\n",
      "Processing 1442 of btcusd\n"
     ]
    },
    {
     "data": {
      "application/vnd.jupyter.widget-view+json": {
       "model_id": "b3ca6f8574a248f4a7fd2398aa77e65c",
       "version_major": 2,
       "version_minor": 0
      },
      "text/plain": [
       "  0%|          | 0/1442 [00:00<?, ?it/s]"
      ]
     },
     "metadata": {},
     "output_type": "display_data"
    },
    {
     "name": "stdout",
     "output_type": "stream",
     "text": [
      "https://www.bitstamp.net/api/v2/ohlc/ethusd/?&currency_pair=ethusd&step=1800&limit=1000&start=1623711600\n",
      "https://www.bitstamp.net/api/v2/ohlc/ethusd/?&currency_pair=ethusd&step=1800&limit=1000&start=1625509800\n",
      "Downloaded from 2021-06-15 00:00:00 to 2021-07-15 00:30:00 1994.16\n",
      "Resample 30Min - TecAn ( windows 40, windows_limit 100 )\n",
      "Processing 1442 of ethusd\n"
     ]
    },
    {
     "data": {
      "application/vnd.jupyter.widget-view+json": {
       "model_id": "eda38fdeaa8941daa87649c2ca8daae0",
       "version_major": 2,
       "version_minor": 0
      },
      "text/plain": [
       "  0%|          | 0/1442 [00:00<?, ?it/s]"
      ]
     },
     "metadata": {},
     "output_type": "display_data"
    },
    {
     "name": "stdout",
     "output_type": "stream",
     "text": [
      "https://www.bitstamp.net/api/v2/ohlc/ltcusd/?&currency_pair=ltcusd&step=1800&limit=1000&start=1623711600\n",
      "https://www.bitstamp.net/api/v2/ohlc/ltcusd/?&currency_pair=ltcusd&step=1800&limit=1000&start=1625509800\n",
      "Downloaded from 2021-06-15 00:00:00 to 2021-07-15 00:30:00 130.70\n",
      "Resample 30Min - TecAn ( windows 40, windows_limit 100 )\n",
      "Processing 1442 of ltcusd\n"
     ]
    },
    {
     "data": {
      "application/vnd.jupyter.widget-view+json": {
       "model_id": "85684654c6de42b485d10bae5d8c91e4",
       "version_major": 2,
       "version_minor": 0
      },
      "text/plain": [
       "  0%|          | 0/1442 [00:00<?, ?it/s]"
      ]
     },
     "metadata": {},
     "output_type": "display_data"
    },
    {
     "name": "stdout",
     "output_type": "stream",
     "text": [
      "https://www.bitstamp.net/api/v2/ohlc/ltcbtc/?&currency_pair=ltcbtc&step=1800&limit=1000&start=1623711600\n",
      "https://www.bitstamp.net/api/v2/ohlc/ltcbtc/?&currency_pair=ltcbtc&step=1800&limit=1000&start=1625509800\n",
      "Downloaded from 2021-06-15 00:00:00 to 2021-07-15 00:30:00 0.00399000\n",
      "Resample 30Min - TecAn ( windows 40, windows_limit 100 )\n",
      "Processing 1442 of ltcbtc\n"
     ]
    },
    {
     "data": {
      "application/vnd.jupyter.widget-view+json": {
       "model_id": "41385fd3b39e4ff9a5063c62941c9bf0",
       "version_major": 2,
       "version_minor": 0
      },
      "text/plain": [
       "  0%|          | 0/1442 [00:00<?, ?it/s]"
      ]
     },
     "metadata": {},
     "output_type": "display_data"
    },
    {
     "name": "stdout",
     "output_type": "stream",
     "text": [
      "CPU times: user 1h 32min 50s, sys: 4min 53s, total: 1h 37min 43s\n",
      "Wall time: 1h 41min 18s\n"
     ]
    }
   ],
   "source": [
    "%%time\n",
    "\n",
    "params = []\n",
    "\n",
    "for minute in minutes:\n",
    "    for win in windows:\n",
    "        param = {}\n",
    "        param['minute'] = minute\n",
    "        param['win'] = win\n",
    "        params.append(param)\n",
    "\n",
    "for param in tqdm(params):\n",
    "    load(param['minute'], param['win'])"
   ]
  },
  {
   "cell_type": "code",
   "execution_count": 8,
   "metadata": {},
   "outputs": [
    {
     "data": {
      "text/plain": [
       "[{'minute': 15, 'win': 5},\n",
       " {'minute': 15, 'win': 10},\n",
       " {'minute': 15, 'win': 20},\n",
       " {'minute': 15, 'win': 30},\n",
       " {'minute': 15, 'win': 40},\n",
       " {'minute': 5, 'win': 5},\n",
       " {'minute': 5, 'win': 10},\n",
       " {'minute': 5, 'win': 20},\n",
       " {'minute': 5, 'win': 30},\n",
       " {'minute': 5, 'win': 40},\n",
       " {'minute': 3, 'win': 5},\n",
       " {'minute': 3, 'win': 10},\n",
       " {'minute': 3, 'win': 20},\n",
       " {'minute': 3, 'win': 30},\n",
       " {'minute': 3, 'win': 40}]"
      ]
     },
     "execution_count": 8,
     "metadata": {},
     "output_type": "execute_result"
    }
   ],
   "source": [
    "params"
   ]
  },
  {
   "cell_type": "code",
   "execution_count": 9,
   "metadata": {
    "scrolled": true
   },
   "outputs": [
    {
     "data": {
      "application/vnd.jupyter.widget-view+json": {
       "model_id": "ce06bef89b9446008711a102a6c50405",
       "version_major": 2,
       "version_minor": 0
      },
      "text/plain": [
       "  0%|          | 0/3 [00:00<?, ?it/s]"
      ]
     },
     "metadata": {},
     "output_type": "display_data"
    },
    {
     "ename": "RuntimeError",
     "evalue": "cannot join thread before it is started",
     "output_type": "error",
     "traceback": [
      "\u001b[0;31m---------------------------------------------------------------------------\u001b[0m",
      "\u001b[0;31mRuntimeError\u001b[0m                              Traceback (most recent call last)",
      "\u001b[0;32m<timed exec>\u001b[0m in \u001b[0;36m<module>\u001b[0;34m\u001b[0m\n",
      "\u001b[0;32m~/opt/miniconda3/envs/py3/lib/python3.9/threading.py\u001b[0m in \u001b[0;36mjoin\u001b[0;34m(self, timeout)\u001b[0m\n\u001b[1;32m   1026\u001b[0m             \u001b[0;32mraise\u001b[0m \u001b[0mRuntimeError\u001b[0m\u001b[0;34m(\u001b[0m\u001b[0;34m\"Thread.__init__() not called\"\u001b[0m\u001b[0;34m)\u001b[0m\u001b[0;34m\u001b[0m\u001b[0;34m\u001b[0m\u001b[0m\n\u001b[1;32m   1027\u001b[0m         \u001b[0;32mif\u001b[0m \u001b[0;32mnot\u001b[0m \u001b[0mself\u001b[0m\u001b[0;34m.\u001b[0m\u001b[0m_started\u001b[0m\u001b[0;34m.\u001b[0m\u001b[0mis_set\u001b[0m\u001b[0;34m(\u001b[0m\u001b[0;34m)\u001b[0m\u001b[0;34m:\u001b[0m\u001b[0;34m\u001b[0m\u001b[0;34m\u001b[0m\u001b[0m\n\u001b[0;32m-> 1028\u001b[0;31m             \u001b[0;32mraise\u001b[0m \u001b[0mRuntimeError\u001b[0m\u001b[0;34m(\u001b[0m\u001b[0;34m\"cannot join thread before it is started\"\u001b[0m\u001b[0;34m)\u001b[0m\u001b[0;34m\u001b[0m\u001b[0;34m\u001b[0m\u001b[0m\n\u001b[0m\u001b[1;32m   1029\u001b[0m         \u001b[0;32mif\u001b[0m \u001b[0mself\u001b[0m \u001b[0;32mis\u001b[0m \u001b[0mcurrent_thread\u001b[0m\u001b[0;34m(\u001b[0m\u001b[0;34m)\u001b[0m\u001b[0;34m:\u001b[0m\u001b[0;34m\u001b[0m\u001b[0;34m\u001b[0m\u001b[0m\n\u001b[1;32m   1030\u001b[0m             \u001b[0;32mraise\u001b[0m \u001b[0mRuntimeError\u001b[0m\u001b[0;34m(\u001b[0m\u001b[0;34m\"cannot join current thread\"\u001b[0m\u001b[0;34m)\u001b[0m\u001b[0;34m\u001b[0m\u001b[0;34m\u001b[0m\u001b[0m\n",
      "\u001b[0;31mRuntimeError\u001b[0m: cannot join thread before it is started"
     ]
    }
   ],
   "source": [
    "%%time\n",
    "\n",
    "import time\n",
    "\n",
    "threads = []\n",
    "for minute in tqdm(minutes):\n",
    "    threads = []\n",
    "    for win in windows:\n",
    "        t = threading.Thread(target=load, args=(minute, win,))\n",
    "        t.setDaemon(True)\n",
    "        #t.start()\n",
    "        threads.append(t)\n",
    "        #time.sleep(1)\n",
    "    for th in threads:\n",
    "        #th.start()\n",
    "        time.sleep(30)\n",
    "    for th in threads:\n",
    "        th.join()\n"
   ]
  },
  {
   "cell_type": "code",
   "execution_count": null,
   "metadata": {},
   "outputs": [],
   "source": []
  }
 ],
 "metadata": {
  "accelerator": "GPU",
  "colab": {
   "collapsed_sections": [],
   "name": "enviroment",
   "provenance": [],
   "version": "0.3.2"
  },
  "kernelspec": {
   "display_name": "Python 3",
   "language": "python",
   "name": "python3"
  },
  "language_info": {
   "codemirror_mode": {
    "name": "ipython",
    "version": 3
   },
   "file_extension": ".py",
   "mimetype": "text/x-python",
   "name": "python",
   "nbconvert_exporter": "python",
   "pygments_lexer": "ipython3",
   "version": "3.9.5"
  }
 },
 "nbformat": 4,
 "nbformat_minor": 4
}
