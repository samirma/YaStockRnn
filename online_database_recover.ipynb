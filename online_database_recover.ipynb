{
 "cells": [
  {
   "cell_type": "code",
   "execution_count": 1,
   "metadata": {
    "colab": {
     "base_uri": "https://localhost:8080/",
     "height": 170
    },
    "colab_type": "code",
    "executionInfo": {
     "elapsed": 503083,
     "status": "ok",
     "timestamp": 1568068274112,
     "user": {
      "displayName": "Samir Moreira Antônio",
      "photoUrl": "https://lh3.googleusercontent.com/a-/AAuE7mCsh3ldsSLN0VnFRYp341EzO_UyuRNKmLncUbMA3Q=s64",
      "userId": "14581632111443153742"
     },
     "user_tz": -60
    },
    "id": "fGVQczSlF-9o",
    "outputId": "e3a06798-f737-48d9-ec6e-d3784cec3115"
   },
   "outputs": [],
   "source": [
    "import pandas as pd\n",
    "import data_util\n",
    "from tqdm.notebook import tqdm\n",
    "from data_generator import DataGenerator\n",
    "from tec_an import TecAn\n",
    "import numpy as np\n",
    "from data_util import *\n",
    "from backtest import *\n",
    "import threading\n",
    "import multiprocessing\n",
    "from data_agent import DataAgent, TacProcess\n",
    "from joblib import dump, load"
   ]
  },
  {
   "cell_type": "code",
   "execution_count": 2,
   "metadata": {},
   "outputs": [],
   "source": [
    "#train_start_list = [1622502000, 1590966000, 1559343600, 1580515200, 1612137600]\n",
    "train_start_list = [1622502000, 1590966000, 1559343600, 1527807600, 1517443200, 1548979200, 1580515200, 1612137600]\n",
    "#train_start_list = [1612137600]\n",
    "train_keys = [\"btcusd\", \"ethusd\", \"bchbtc\"]\n",
    "train_keys = [\"btcusd\"]\n",
    "val_start = 1626340500\n",
    "val_end = 1626369600"
   ]
  },
  {
   "cell_type": "code",
   "execution_count": 3,
   "metadata": {},
   "outputs": [],
   "source": [
    "\n",
    "steps = 1\n",
    "\n",
    "windows = [5, 10, 20, 30, 40]\n",
    "\n",
    "minutes = [15, 5, 3, 1]\n",
    "\n",
    "load_from_disk =  False\n"
   ]
  },
  {
   "cell_type": "code",
   "execution_count": 4,
   "metadata": {},
   "outputs": [],
   "source": [
    "def get_online_data(minutes, source_data_generator, load_from_disk, file_prefix = \"\"):\n",
    "    \n",
    "    online = OnLineDataProvider(\n",
    "                 source_data_generator = source_data_generator,\n",
    "                 minutes = minutes,\n",
    "                 train_keys = train_keys,\n",
    "                 train_limit = 1000,\n",
    "                 val_limit = 1000,\n",
    "                 val_keys = [\"btcusd\"],\n",
    "                 val_start = val_start,\n",
    "                 val_end = val_end,\n",
    "                 train_start_list = train_start_list\n",
    "    )\n",
    "\n",
    "    online_path = f'data/online{file_prefix}_{minutes}'\n",
    "    \n",
    "    online.load_cache()\n",
    "    online.source_data_generator = None\n",
    "    dump(online, online_path)\n",
    "    \n",
    "    return online"
   ]
  },
  {
   "cell_type": "code",
   "execution_count": 5,
   "metadata": {},
   "outputs": [],
   "source": [
    "data = []\n",
    "\n",
    "def load(minute, win):\n",
    "    tec = TecAn(windows = win, windows_limit = 100)\n",
    "    source_data_generator = SourceDataGenerator(tec = tec)\n",
    "    online = get_online_data(minutes = minute, \n",
    "                     source_data_generator = source_data_generator, \n",
    "                     load_from_disk = load_from_disk, \n",
    "                     file_prefix = win)\n",
    "    data.append(online)\n",
    "    \n"
   ]
  },
  {
   "cell_type": "code",
   "execution_count": 6,
   "metadata": {},
   "outputs": [],
   "source": [
    "#load(15, 20)"
   ]
  },
  {
   "cell_type": "code",
   "execution_count": 7,
   "metadata": {
    "scrolled": true
   },
   "outputs": [
    {
     "data": {
      "application/vnd.jupyter.widget-view+json": {
       "model_id": "6ec9293e77de4d9f8d462b87d44c3d99",
       "version_major": 2,
       "version_minor": 0
      },
      "text/plain": [
       "  0%|          | 0/4 [00:00<?, ?it/s]"
      ]
     },
     "metadata": {},
     "output_type": "display_data"
    },
    {
     "name": "stdout",
     "output_type": "stream",
     "text": [
      "https://www.bitstamp.net/api/v2/ohlc/btcusd/ -> {'currency_pair': 'btcusd', 'step': 900, 'limit': 1000, 'start': 1622502000}\n",
      "Downloaded from 2021-06-01 00:00:00 to 2021-06-11 09:45:00 37001.01\n",
      "Resample 15Min - TecAn ( windows 5, windows_limit 100 )\n",
      "Processing 999 of btcusd\n"
     ]
    },
    {
     "data": {
      "application/vnd.jupyter.widget-view+json": {
       "model_id": "a49d472da6d142f6907bd1ec8d0647f2",
       "version_major": 2,
       "version_minor": 0
      },
      "text/plain": [
       "  0%|          | 0/999 [00:00<?, ?it/s]"
      ]
     },
     "metadata": {},
     "output_type": "display_data"
    },
    {
     "name": "stdout",
     "output_type": "stream",
     "text": [
      "https://www.bitstamp.net/api/v2/ohlc/btcusd/ -> {'currency_pair': 'btcusd', 'step': 900, 'limit': 1000, 'start': 1622502000}\n",
      "Downloaded from 2021-06-01 00:00:00 to 2021-06-11 09:45:00 37001.01\n",
      "Resample 15Min - TecAn ( windows 10, windows_limit 100 )\n",
      "Processing 999 of btcusd\n",
      "https://www.bitstamp.net/api/v2/ohlc/btcusd/ -> {'currency_pair': 'btcusd', 'step': 900, 'limit': 1000, 'start': 1622502000}\n"
     ]
    },
    {
     "data": {
      "application/vnd.jupyter.widget-view+json": {
       "model_id": "d0c49227307e466f9e3099145064e1df",
       "version_major": 2,
       "version_minor": 0
      },
      "text/plain": [
       "  0%|          | 0/999 [00:00<?, ?it/s]"
      ]
     },
     "metadata": {},
     "output_type": "display_data"
    },
    {
     "name": "stdout",
     "output_type": "stream",
     "text": [
      "Downloaded from 2021-06-01 00:00:00 to 2021-06-11 09:45:00 37001.01\n",
      "Resample 15Min - TecAn ( windows 20, windows_limit 100 )\n",
      "Processing 999 of btcusd\n"
     ]
    },
    {
     "data": {
      "application/vnd.jupyter.widget-view+json": {
       "model_id": "de2541a4a474485e81c41f2c3109edf5",
       "version_major": 2,
       "version_minor": 0
      },
      "text/plain": [
       "  0%|          | 0/999 [00:00<?, ?it/s]"
      ]
     },
     "metadata": {},
     "output_type": "display_data"
    },
    {
     "name": "stdout",
     "output_type": "stream",
     "text": [
      "https://www.bitstamp.net/api/v2/ohlc/btcusd/ -> {'currency_pair': 'btcusd', 'step': 900, 'limit': 1000, 'start': 1622502000}\n",
      "Downloaded from 2021-06-01 00:00:00 to 2021-06-11 09:45:00 37001.01\n",
      "Resample 15Min - TecAn ( windows 30, windows_limit 100 )\n",
      "Processing 999 of btcusd\n",
      "https://www.bitstamp.net/api/v2/ohlc/btcusd/ -> {'currency_pair': 'btcusd', 'step': 900, 'limit': 1000, 'start': 1622502000}\n",
      "Downloaded from 2021-06-01 00:00:00 to 2021-06-11 09:45:00 37001.01\n",
      "Resample 15Min - TecAn ( windows 40, windows_limit 100 )\n",
      "Processing 999 of btcusd\n"
     ]
    },
    {
     "data": {
      "application/vnd.jupyter.widget-view+json": {
       "model_id": "e25d11b427e8420d903e1a63f44201c8",
       "version_major": 2,
       "version_minor": 0
      },
      "text/plain": [
       "  0%|          | 0/999 [00:00<?, ?it/s]"
      ]
     },
     "metadata": {},
     "output_type": "display_data"
    },
    {
     "data": {
      "application/vnd.jupyter.widget-view+json": {
       "model_id": "b3f69d2213a24087bd8358dd2da923cc",
       "version_major": 2,
       "version_minor": 0
      },
      "text/plain": [
       "  0%|          | 0/999 [00:00<?, ?it/s]"
      ]
     },
     "metadata": {},
     "output_type": "display_data"
    },
    {
     "name": "stdout",
     "output_type": "stream",
     "text": [
      "https://www.bitstamp.net/api/v2/ohlc/btcusd/ -> {'currency_pair': 'btcusd', 'step': 900, 'limit': 1000, 'start': 1590966000}\n",
      "Downloaded from 2020-06-01 00:00:00 to 2020-06-11 09:45:00 9820.86\n",
      "Resample 15Min - TecAn ( windows 20, windows_limit 100 )\n",
      "Processing 999 of btcusd\n",
      "https://www.bitstamp.net/api/v2/ohlc/btcusd/ -> {'currency_pair': 'btcusd', 'step': 900, 'limit': 1000, 'start': 1590966000}\n",
      "Downloaded from 2020-06-01 00:00:00 to 2020-06-11 09:45:00 9820.86\n",
      "Resample 15Min - TecAn ( windows 10, windows_limit 100 )\n",
      "Processing 999 of btcusd\n",
      "https://www.bitstamp.net/api/v2/ohlc/btcusd/ -> {'currency_pair': 'btcusd', 'step': 900, 'limit': 1000, 'start': 1590966000}\n",
      "https://www.bitstamp.net/api/v2/ohlc/btcusd/ -> {'currency_pair': 'btcusd', 'step': 900, 'limit': 1000, 'start': 1590966000}\n",
      "Downloaded from 2020-06-01 00:00:00 to 2020-06-11 09:45:00 9820.86\n",
      "Resample 15Min - TecAn ( windows 40, windows_limit 100 )\n",
      "Processing 999 of btcusd\n",
      "Downloaded from 2020-06-01 00:00:00 to 2020-06-11 09:45:00 9820.86\n",
      "Resample 15Min - TecAn ( windows 5, windows_limit 100 )\n",
      "Processing 999 of btcusd\n"
     ]
    },
    {
     "data": {
      "application/vnd.jupyter.widget-view+json": {
       "model_id": "b157369b282b4e778aa57407499eb2d4",
       "version_major": 2,
       "version_minor": 0
      },
      "text/plain": [
       "  0%|          | 0/999 [00:00<?, ?it/s]"
      ]
     },
     "metadata": {},
     "output_type": "display_data"
    },
    {
     "data": {
      "application/vnd.jupyter.widget-view+json": {
       "model_id": "898a8df7634749b3918054d74f20329d",
       "version_major": 2,
       "version_minor": 0
      },
      "text/plain": [
       "  0%|          | 0/999 [00:00<?, ?it/s]"
      ]
     },
     "metadata": {},
     "output_type": "display_data"
    },
    {
     "data": {
      "application/vnd.jupyter.widget-view+json": {
       "model_id": "74df37bfab0448ed922398b466d64049",
       "version_major": 2,
       "version_minor": 0
      },
      "text/plain": [
       "  0%|          | 0/999 [00:00<?, ?it/s]"
      ]
     },
     "metadata": {},
     "output_type": "display_data"
    },
    {
     "data": {
      "application/vnd.jupyter.widget-view+json": {
       "model_id": "4de93ac5f5cd4b11a6ce7436a3b05a1b",
       "version_major": 2,
       "version_minor": 0
      },
      "text/plain": [
       "  0%|          | 0/999 [00:00<?, ?it/s]"
      ]
     },
     "metadata": {},
     "output_type": "display_data"
    },
    {
     "name": "stdout",
     "output_type": "stream",
     "text": [
      "https://www.bitstamp.net/api/v2/ohlc/btcusd/ -> {'currency_pair': 'btcusd', 'step': 900, 'limit': 1000, 'start': 1590966000}\n",
      "Downloaded from 2020-06-01 00:00:00 to 2020-06-11 09:45:00 9820.86\n",
      "Resample 15Min - TecAn ( windows 30, windows_limit 100 )\n",
      "Processing 999 of btcusd\n"
     ]
    },
    {
     "data": {
      "application/vnd.jupyter.widget-view+json": {
       "model_id": "c77744f5556a4fe285211b27306c7d6e",
       "version_major": 2,
       "version_minor": 0
      },
      "text/plain": [
       "  0%|          | 0/999 [00:00<?, ?it/s]"
      ]
     },
     "metadata": {},
     "output_type": "display_data"
    },
    {
     "data": {
      "application/vnd.jupyter.widget-view+json": {
       "model_id": "b7e2bedec8c14ccd8a451a1a7f7663f3",
       "version_major": 2,
       "version_minor": 0
      },
      "text/plain": [
       "  0%|          | 0/999 [00:00<?, ?it/s]"
      ]
     },
     "metadata": {},
     "output_type": "display_data"
    },
    {
     "name": "stdout",
     "output_type": "stream",
     "text": [
      "https://www.bitstamp.net/api/v2/ohlc/btcusd/ -> {'currency_pair': 'btcusd', 'step': 900, 'limit': 1000, 'start': 1559343600}\n",
      "https://www.bitstamp.net/api/v2/ohlc/btcusd/ -> {'currency_pair': 'btcusd', 'step': 900, 'limit': 1000, 'start': 1559343600}\n",
      "Downloaded from 2019-06-01 00:00:00 to 2019-06-11 09:45:00 7961.80Downloaded from 2019-06-01 00:00:00 to 2019-06-11 09:45:00 7961.80\n",
      "\n",
      "Resample 15Min - TecAn ( windows 30, windows_limit 100 )Resample 15Min - TecAn ( windows 5, windows_limit 100 )\n",
      "\n",
      "Processing 999 of btcusd\n",
      "Processing 999 of btcusd\n"
     ]
    },
    {
     "data": {
      "application/vnd.jupyter.widget-view+json": {
       "model_id": "f2d23c52cebf40a2936de8c3ae9bda15",
       "version_major": 2,
       "version_minor": 0
      },
      "text/plain": [
       "  0%|          | 0/999 [00:00<?, ?it/s]"
      ]
     },
     "metadata": {},
     "output_type": "display_data"
    },
    {
     "data": {
      "application/vnd.jupyter.widget-view+json": {
       "model_id": "679fdded28a64719a98c60ab65a78ff2",
       "version_major": 2,
       "version_minor": 0
      },
      "text/plain": [
       "  0%|          | 0/999 [00:00<?, ?it/s]"
      ]
     },
     "metadata": {},
     "output_type": "display_data"
    },
    {
     "name": "stdout",
     "output_type": "stream",
     "text": [
      "https://www.bitstamp.net/api/v2/ohlc/btcusd/ -> {'currency_pair': 'btcusd', 'step': 900, 'limit': 1000, 'start': 1527807600}\n",
      "Downloaded from 2018-06-01 00:00:00 to 2018-06-11 09:45:00 6795.82\n",
      "Resample 15Min - TecAn ( windows 40, windows_limit 100 )\n",
      "Processing 999 of btcusd\n",
      "https://www.bitstamp.net/api/v2/ohlc/btcusd/ -> {'currency_pair': 'btcusd', 'step': 900, 'limit': 1000, 'start': 1527807600}\n",
      "Downloaded from 2018-06-01 00:00:00 to 2018-06-11 09:45:00 6795.82\n",
      "Resample 15Min - TecAn ( windows 20, windows_limit 100 )\n",
      "Processing 999 of btcusd\n",
      "https://www.bitstamp.net/api/v2/ohlc/btcusd/ -> {'currency_pair': 'btcusd', 'step': 900, 'limit': 1000, 'start': 1527807600}\n",
      "Downloaded from 2018-06-01 00:00:00 to 2018-06-11 09:45:00 6795.82\n",
      "Resample 15Min - TecAn ( windows 10, windows_limit 100 )\n",
      "Processing 999 of btcusd\n"
     ]
    },
    {
     "data": {
      "application/vnd.jupyter.widget-view+json": {
       "model_id": "ab14c6d2a93448ffbc30693514522a95",
       "version_major": 2,
       "version_minor": 0
      },
      "text/plain": [
       "  0%|          | 0/999 [00:00<?, ?it/s]"
      ]
     },
     "metadata": {},
     "output_type": "display_data"
    },
    {
     "data": {
      "application/vnd.jupyter.widget-view+json": {
       "model_id": "c4086e532c0d4b79b7f6de91428fb9d0",
       "version_major": 2,
       "version_minor": 0
      },
      "text/plain": [
       "  0%|          | 0/999 [00:00<?, ?it/s]"
      ]
     },
     "metadata": {},
     "output_type": "display_data"
    },
    {
     "data": {
      "application/vnd.jupyter.widget-view+json": {
       "model_id": "2d98d2f4400146bb8d98b82aa8353ae4",
       "version_major": 2,
       "version_minor": 0
      },
      "text/plain": [
       "  0%|          | 0/999 [00:00<?, ?it/s]"
      ]
     },
     "metadata": {},
     "output_type": "display_data"
    },
    {
     "name": "stdout",
     "output_type": "stream",
     "text": [
      "https://www.bitstamp.net/api/v2/ohlc/btcusd/ -> {'currency_pair': 'btcusd', 'step': 900, 'limit': 1000, 'start': 1527807600}\n",
      "https://www.bitstamp.net/api/v2/ohlc/btcusd/ -> {'currency_pair': 'btcusd', 'step': 900, 'limit': 1000, 'start': 1527807600}\n",
      "Downloaded from 2018-06-01 00:00:00 to 2018-06-11 09:45:00 6795.82\n",
      "Resample 15Min - TecAn ( windows 5, windows_limit 100 )\n",
      "Processing 999 of btcusd\n"
     ]
    },
    {
     "data": {
      "application/vnd.jupyter.widget-view+json": {
       "model_id": "e3c1c41732b94469b5e47d2e9ab48050",
       "version_major": 2,
       "version_minor": 0
      },
      "text/plain": [
       "  0%|          | 0/999 [00:00<?, ?it/s]"
      ]
     },
     "metadata": {},
     "output_type": "display_data"
    },
    {
     "name": "stdout",
     "output_type": "stream",
     "text": [
      "Downloaded from 2018-06-01 00:00:00 to 2018-06-11 09:45:00 6795.82\n",
      "Resample 15Min - TecAn ( windows 30, windows_limit 100 )\n",
      "Processing 999 of btcusd\n"
     ]
    },
    {
     "data": {
      "application/vnd.jupyter.widget-view+json": {
       "model_id": "49da4cbfee0e4d6e8496edeba65ffdb0",
       "version_major": 2,
       "version_minor": 0
      },
      "text/plain": [
       "  0%|          | 0/999 [00:00<?, ?it/s]"
      ]
     },
     "metadata": {},
     "output_type": "display_data"
    },
    {
     "name": "stdout",
     "output_type": "stream",
     "text": [
      "https://www.bitstamp.net/api/v2/ohlc/btcusd/ -> {'currency_pair': 'btcusd', 'step': 900, 'limit': 1000, 'start': 1517443200}\n",
      "https://www.bitstamp.net/api/v2/ohlc/btcusd/ -> {'currency_pair': 'btcusd', 'step': 900, 'limit': 1000, 'start': 1517443200}\n",
      "Downloaded from 2018-02-01 00:00:00 to 2018-02-11 09:45:00 8012.89\n",
      "Downloaded from 2018-02-01 00:00:00 to 2018-02-11 09:45:00 8012.89Resample 15Min - TecAn ( windows 40, windows_limit 100 )\n",
      "\n",
      "Processing 999 of btcusd\n",
      "Resample 15Min - TecAn ( windows 5, windows_limit 100 )\n",
      "Processing 999 of btcusd\n",
      "https://www.bitstamp.net/api/v2/ohlc/btcusd/ -> {'currency_pair': 'btcusd', 'step': 900, 'limit': 1000, 'start': 1517443200}\n",
      "https://www.bitstamp.net/api/v2/ohlc/btcusd/ -> {'currency_pair': 'btcusd', 'step': 900, 'limit': 1000, 'start': 1517443200}\n",
      "Downloaded from 2018-02-01 00:00:00 to 2018-02-11 09:45:00 8012.89\n",
      "Resample 15Min - TecAn ( windows 30, windows_limit 100 )\n",
      "Processing 999 of btcusd\n",
      "Downloaded from 2018-02-01 00:00:00 to 2018-02-11 09:45:00 8012.89\n",
      "Resample 15Min - TecAn ( windows 20, windows_limit 100 )\n",
      "Processing 999 of btcusd\n",
      "https://www.bitstamp.net/api/v2/ohlc/btcusd/ -> {'currency_pair': 'btcusd', 'step': 900, 'limit': 1000, 'start': 1517443200}\n"
     ]
    },
    {
     "data": {
      "application/vnd.jupyter.widget-view+json": {
       "model_id": "4103849fef56477d899277df1c8934ea",
       "version_major": 2,
       "version_minor": 0
      },
      "text/plain": [
       "  0%|          | 0/999 [00:00<?, ?it/s]"
      ]
     },
     "metadata": {},
     "output_type": "display_data"
    },
    {
     "data": {
      "application/vnd.jupyter.widget-view+json": {
       "model_id": "9d49515ed45d4f898f4e608cf6733b85",
       "version_major": 2,
       "version_minor": 0
      },
      "text/plain": [
       "  0%|          | 0/999 [00:00<?, ?it/s]"
      ]
     },
     "metadata": {},
     "output_type": "display_data"
    },
    {
     "data": {
      "application/vnd.jupyter.widget-view+json": {
       "model_id": "2f111fbd5ea0490aa170683e79e75f22",
       "version_major": 2,
       "version_minor": 0
      },
      "text/plain": [
       "  0%|          | 0/999 [00:00<?, ?it/s]"
      ]
     },
     "metadata": {},
     "output_type": "display_data"
    },
    {
     "data": {
      "application/vnd.jupyter.widget-view+json": {
       "model_id": "7f1db4b69b604ab1b92d5fd65b95d8b9",
       "version_major": 2,
       "version_minor": 0
      },
      "text/plain": [
       "  0%|          | 0/999 [00:00<?, ?it/s]"
      ]
     },
     "metadata": {},
     "output_type": "display_data"
    },
    {
     "name": "stdout",
     "output_type": "stream",
     "text": [
      "Downloaded from 2018-02-01 00:00:00 to 2018-02-11 09:45:00 8012.89\n",
      "Resample 15Min - TecAn ( windows 10, windows_limit 100 )\n",
      "Processing 999 of btcusd\n"
     ]
    },
    {
     "data": {
      "application/vnd.jupyter.widget-view+json": {
       "model_id": "df964fdae2a24702afd81c6e9022c4cf",
       "version_major": 2,
       "version_minor": 0
      },
      "text/plain": [
       "  0%|          | 0/999 [00:00<?, ?it/s]"
      ]
     },
     "metadata": {},
     "output_type": "display_data"
    },
    {
     "name": "stdout",
     "output_type": "stream",
     "text": [
      "https://www.bitstamp.net/api/v2/ohlc/btcusd/ -> {'currency_pair': 'btcusd', 'step': 900, 'limit': 1000, 'start': 1548979200}\n",
      "Downloaded from 2019-02-01 00:00:00 to 2019-02-11 09:45:00 3594.91\n",
      "Resample 15Min - TecAn ( windows 40, windows_limit 100 )\n",
      "Processing 999 of btcusd\n",
      "https://www.bitstamp.net/api/v2/ohlc/btcusd/ -> {'currency_pair': 'btcusd', 'step': 900, 'limit': 1000, 'start': 1548979200}\n",
      "https://www.bitstamp.net/api/v2/ohlc/btcusd/ -> {'currency_pair': 'btcusd', 'step': 900, 'limit': 1000, 'start': 1548979200}\n",
      "Downloaded from 2019-02-01 00:00:00 to 2019-02-11 09:45:00 3594.91\n",
      "Resample 15Min - TecAn ( windows 30, windows_limit 100 )\n",
      "Processing 999 of btcusd\n",
      "Downloaded from 2019-02-01 00:00:00 to 2019-02-11 09:45:00 3594.91\n",
      "Resample 15Min - TecAn ( windows 5, windows_limit 100 )\n",
      "Processing 999 of btcusd\n",
      "https://www.bitstamp.net/api/v2/ohlc/btcusd/ -> {'currency_pair': 'btcusd', 'step': 900, 'limit': 1000, 'start': 1548979200}\n",
      "Downloaded from 2019-02-01 00:00:00 to 2019-02-11 09:45:00 3594.91\n",
      "Resample 15Min - TecAn ( windows 20, windows_limit 100 )\n",
      "Processing 999 of btcusd\n"
     ]
    },
    {
     "data": {
      "application/vnd.jupyter.widget-view+json": {
       "model_id": "66d20df0c8bc4f2eb2afaaf90375c572",
       "version_major": 2,
       "version_minor": 0
      },
      "text/plain": [
       "  0%|          | 0/999 [00:00<?, ?it/s]"
      ]
     },
     "metadata": {},
     "output_type": "display_data"
    },
    {
     "data": {
      "application/vnd.jupyter.widget-view+json": {
       "model_id": "6b09d92a6b9343159af739e82a2efb22",
       "version_major": 2,
       "version_minor": 0
      },
      "text/plain": [
       "  0%|          | 0/999 [00:00<?, ?it/s]"
      ]
     },
     "metadata": {},
     "output_type": "display_data"
    },
    {
     "data": {
      "application/vnd.jupyter.widget-view+json": {
       "model_id": "1366544a957d4667accdfb3061e580e5",
       "version_major": 2,
       "version_minor": 0
      },
      "text/plain": [
       "  0%|          | 0/999 [00:00<?, ?it/s]"
      ]
     },
     "metadata": {},
     "output_type": "display_data"
    },
    {
     "data": {
      "application/vnd.jupyter.widget-view+json": {
       "model_id": "c7e43ba9ace64d6a8c3ef77515c36961",
       "version_major": 2,
       "version_minor": 0
      },
      "text/plain": [
       "  0%|          | 0/999 [00:00<?, ?it/s]"
      ]
     },
     "metadata": {},
     "output_type": "display_data"
    },
    {
     "name": "stdout",
     "output_type": "stream",
     "text": [
      "https://www.bitstamp.net/api/v2/ohlc/btcusd/ -> {'currency_pair': 'btcusd', 'step': 900, 'limit': 1000, 'start': 1548979200}\n",
      "Downloaded from 2019-02-01 00:00:00 to 2019-02-11 09:45:00 3594.91\n",
      "Resample 15Min - TecAn ( windows 10, windows_limit 100 )\n",
      "Processing 999 of btcusd\n"
     ]
    },
    {
     "data": {
      "application/vnd.jupyter.widget-view+json": {
       "model_id": "9482508a763c4beab0d1588ad0389598",
       "version_major": 2,
       "version_minor": 0
      },
      "text/plain": [
       "  0%|          | 0/999 [00:00<?, ?it/s]"
      ]
     },
     "metadata": {},
     "output_type": "display_data"
    },
    {
     "name": "stdout",
     "output_type": "stream",
     "text": [
      "https://www.bitstamp.net/api/v2/ohlc/btcusd/ -> {'currency_pair': 'btcusd', 'step': 900, 'limit': 1000, 'start': 1580515200}\n",
      "Downloaded from 2020-02-01 00:00:00 to 2020-02-11 09:45:00 9783.54\n",
      "Resample 15Min - TecAn ( windows 40, windows_limit 100 )\n",
      "Processing 999 of btcusd\n",
      "https://www.bitstamp.net/api/v2/ohlc/btcusd/ -> {'currency_pair': 'btcusd', 'step': 900, 'limit': 1000, 'start': 1580515200}\n",
      "Downloaded from 2020-02-01 00:00:00 to 2020-02-11 09:45:00 9783.54\n",
      "Resample 15Min - TecAn ( windows 20, windows_limit 100 )\n",
      "Processing 999 of btcusd\n",
      "https://www.bitstamp.net/api/v2/ohlc/btcusd/ -> {'currency_pair': 'btcusd', 'step': 900, 'limit': 1000, 'start': 1580515200}\n",
      "https://www.bitstamp.net/api/v2/ohlc/btcusd/ -> {'currency_pair': 'btcusd', 'step': 900, 'limit': 1000, 'start': 1580515200}\n",
      "Downloaded from 2020-02-01 00:00:00 to 2020-02-11 09:45:00 9783.54\n",
      "Resample 15Min - TecAn ( windows 5, windows_limit 100 )\n",
      "Processing 999 of btcusd\n"
     ]
    },
    {
     "data": {
      "application/vnd.jupyter.widget-view+json": {
       "model_id": "37648b784ce548b7af3289033d486bc9",
       "version_major": 2,
       "version_minor": 0
      },
      "text/plain": [
       "  0%|          | 0/999 [00:00<?, ?it/s]"
      ]
     },
     "metadata": {},
     "output_type": "display_data"
    },
    {
     "data": {
      "application/vnd.jupyter.widget-view+json": {
       "model_id": "ac736f87659f4a86873d29cfdbda351e",
       "version_major": 2,
       "version_minor": 0
      },
      "text/plain": [
       "  0%|          | 0/999 [00:00<?, ?it/s]"
      ]
     },
     "metadata": {},
     "output_type": "display_data"
    },
    {
     "data": {
      "application/vnd.jupyter.widget-view+json": {
       "model_id": "ea891f72c6924aa4a57f5c4e03529276",
       "version_major": 2,
       "version_minor": 0
      },
      "text/plain": [
       "  0%|          | 0/999 [00:00<?, ?it/s]"
      ]
     },
     "metadata": {},
     "output_type": "display_data"
    },
    {
     "name": "stdout",
     "output_type": "stream",
     "text": [
      "https://www.bitstamp.net/api/v2/ohlc/btcusd/ -> {'currency_pair': 'btcusd', 'step': 900, 'limit': 1000, 'start': 1580515200}\n",
      "Downloaded from 2020-02-01 00:00:00 to 2020-02-11 09:45:00 9783.54\n",
      "Resample 15Min - TecAn ( windows 30, windows_limit 100 )\n",
      "Processing 999 of btcusd\n",
      "Downloaded from 2020-02-01 00:00:00 to 2020-02-11 09:45:00 9783.54\n",
      "Resample 15Min - TecAn ( windows 10, windows_limit 100 )\n",
      "Processing 999 of btcusd\n"
     ]
    },
    {
     "data": {
      "application/vnd.jupyter.widget-view+json": {
       "model_id": "4f6ac3c9f1d24554983d4a39c6330a42",
       "version_major": 2,
       "version_minor": 0
      },
      "text/plain": [
       "  0%|          | 0/999 [00:00<?, ?it/s]"
      ]
     },
     "metadata": {},
     "output_type": "display_data"
    },
    {
     "data": {
      "application/vnd.jupyter.widget-view+json": {
       "model_id": "4069626390a7484aba2d478931753cb6",
       "version_major": 2,
       "version_minor": 0
      },
      "text/plain": [
       "  0%|          | 0/999 [00:00<?, ?it/s]"
      ]
     },
     "metadata": {},
     "output_type": "display_data"
    },
    {
     "name": "stdout",
     "output_type": "stream",
     "text": [
      "https://www.bitstamp.net/api/v2/ohlc/btcusd/ -> {'currency_pair': 'btcusd', 'step': 900, 'limit': 1000, 'start': 1612137600}\n",
      "Downloaded from 2021-02-01 00:00:00 to 2021-02-11 09:45:00 45154.95\n",
      "Resample 15Min - TecAn ( windows 40, windows_limit 100 )\n",
      "Processing 999 of btcusd\n",
      "https://www.bitstamp.net/api/v2/ohlc/btcusd/ -> {'currency_pair': 'btcusd', 'step': 900, 'limit': 1000, 'start': 1612137600}\n",
      "https://www.bitstamp.net/api/v2/ohlc/btcusd/ -> {'currency_pair': 'btcusd', 'step': 900, 'limit': 1000, 'start': 1612137600}\n",
      "https://www.bitstamp.net/api/v2/ohlc/btcusd/ -> {'currency_pair': 'btcusd', 'step': 900, 'limit': 1000, 'start': 1612137600}\n",
      "Downloaded from 2021-02-01 00:00:00 to 2021-02-11 09:45:00 45154.95\n",
      "Resample 15Min - TecAn ( windows 20, windows_limit 100 )\n",
      "Processing 999 of btcusd\n",
      "Downloaded from 2021-02-01 00:00:00 to 2021-02-11 09:45:00 45154.95\n",
      "Resample 15Min - TecAn ( windows 5, windows_limit 100 )\n",
      "Processing 999 of btcusd\n",
      "Downloaded from 2021-02-01 00:00:00 to 2021-02-11 09:45:00 45154.95\n",
      "Resample 15Min - TecAn ( windows 10, windows_limit 100 )\n",
      "Processing 999 of btcusd\n"
     ]
    },
    {
     "data": {
      "application/vnd.jupyter.widget-view+json": {
       "model_id": "6da6db85f5654ba999dc834a7c8900d5",
       "version_major": 2,
       "version_minor": 0
      },
      "text/plain": [
       "  0%|          | 0/999 [00:00<?, ?it/s]"
      ]
     },
     "metadata": {},
     "output_type": "display_data"
    },
    {
     "data": {
      "application/vnd.jupyter.widget-view+json": {
       "model_id": "a4839b872f7644b29d2332223489807e",
       "version_major": 2,
       "version_minor": 0
      },
      "text/plain": [
       "  0%|          | 0/999 [00:00<?, ?it/s]"
      ]
     },
     "metadata": {},
     "output_type": "display_data"
    },
    {
     "data": {
      "application/vnd.jupyter.widget-view+json": {
       "model_id": "399fd303489a47a7aaafeede1ac35e69",
       "version_major": 2,
       "version_minor": 0
      },
      "text/plain": [
       "  0%|          | 0/999 [00:00<?, ?it/s]"
      ]
     },
     "metadata": {},
     "output_type": "display_data"
    },
    {
     "data": {
      "application/vnd.jupyter.widget-view+json": {
       "model_id": "1aee3fb8076d4b9681ee72fc9c8e1074",
       "version_major": 2,
       "version_minor": 0
      },
      "text/plain": [
       "  0%|          | 0/999 [00:00<?, ?it/s]"
      ]
     },
     "metadata": {},
     "output_type": "display_data"
    },
    {
     "name": "stdout",
     "output_type": "stream",
     "text": [
      "https://www.bitstamp.net/api/v2/ohlc/btcusd/ -> {'currency_pair': 'btcusd', 'step': 900, 'limit': 1000, 'start': 1612137600}\n",
      "Downloaded from 2021-02-01 00:00:00 to 2021-02-11 09:45:00 45154.95\n",
      "Resample 15Min - TecAn ( windows 30, windows_limit 100 )\n",
      "Processing 999 of btcusd\n"
     ]
    },
    {
     "data": {
      "application/vnd.jupyter.widget-view+json": {
       "model_id": "bd18bb66486a473b85f58f19d3d0257d",
       "version_major": 2,
       "version_minor": 0
      },
      "text/plain": [
       "  0%|          | 0/999 [00:00<?, ?it/s]"
      ]
     },
     "metadata": {},
     "output_type": "display_data"
    },
    {
     "name": "stdout",
     "output_type": "stream",
     "text": [
      "https://www.bitstamp.net/api/v2/ohlc/btcusd/ -> {'currency_pair': 'btcusd', 'step': 900, 'limit': 1000, 'start': 1626340500, 'end': 1626369600}\n",
      "Downloaded from 2021-07-05 08:30:00 to 2021-07-15 18:15:00 31321.95\n",
      "Resample 15Min - TecAn ( windows 20, windows_limit 100 )\n",
      "Processing 999 of btcusd\n",
      "https://www.bitstamp.net/api/v2/ohlc/btcusd/ -> {'currency_pair': 'btcusd', 'step': 900, 'limit': 1000, 'start': 1626340500, 'end': 1626369600}\n",
      "Downloaded from 2021-07-05 08:30:00 to 2021-07-15 18:15:00 31321.95\n",
      "Resample 15Min - TecAn ( windows 40, windows_limit 100 )\n",
      "Processing 999 of btcusd\n",
      "https://www.bitstamp.net/api/v2/ohlc/btcusd/ -> {'currency_pair': 'btcusd', 'step': 900, 'limit': 1000, 'start': 1626340500, 'end': 1626369600}\n",
      "https://www.bitstamp.net/api/v2/ohlc/btcusd/ -> {'currency_pair': 'btcusd', 'step': 900, 'limit': 1000, 'start': 1626340500, 'end': 1626369600}\n",
      "Downloaded from 2021-07-05 08:30:00 to 2021-07-15 18:15:00 31321.95\n",
      "Resample 15Min - TecAn ( windows 10, windows_limit 100 )\n",
      "Processing 999 of btcusd\n",
      "Downloaded from 2021-07-05 08:30:00 to 2021-07-15 18:15:00 31321.95\n",
      "Resample 15Min - TecAn ( windows 30, windows_limit 100 )\n",
      "Processing 999 of btcusd\n"
     ]
    },
    {
     "data": {
      "application/vnd.jupyter.widget-view+json": {
       "model_id": "268c18ebca664e75bc0fa8441f2b3023",
       "version_major": 2,
       "version_minor": 0
      },
      "text/plain": [
       "  0%|          | 0/999 [00:00<?, ?it/s]"
      ]
     },
     "metadata": {},
     "output_type": "display_data"
    },
    {
     "data": {
      "application/vnd.jupyter.widget-view+json": {
       "model_id": "8d6bfa334ca446b0ae2f507c3ec0f53a",
       "version_major": 2,
       "version_minor": 0
      },
      "text/plain": [
       "  0%|          | 0/999 [00:00<?, ?it/s]"
      ]
     },
     "metadata": {},
     "output_type": "display_data"
    },
    {
     "data": {
      "application/vnd.jupyter.widget-view+json": {
       "model_id": "62c57a2ccf94419fb11686d9fb7d7366",
       "version_major": 2,
       "version_minor": 0
      },
      "text/plain": [
       "  0%|          | 0/999 [00:00<?, ?it/s]"
      ]
     },
     "metadata": {},
     "output_type": "display_data"
    },
    {
     "data": {
      "application/vnd.jupyter.widget-view+json": {
       "model_id": "b0d6518116cf4c6389d00d62c91e94cf",
       "version_major": 2,
       "version_minor": 0
      },
      "text/plain": [
       "  0%|          | 0/999 [00:00<?, ?it/s]"
      ]
     },
     "metadata": {},
     "output_type": "display_data"
    },
    {
     "name": "stdout",
     "output_type": "stream",
     "text": [
      "https://www.bitstamp.net/api/v2/ohlc/btcusd/ -> {'currency_pair': 'btcusd', 'step': 900, 'limit': 1000, 'start': 1626340500, 'end': 1626369600}\n",
      "Downloaded from 2021-07-05 08:30:00 to 2021-07-15 18:15:00 31321.95\n",
      "Resample 15Min - TecAn ( windows 5, windows_limit 100 )\n",
      "Processing 999 of btcusd\n"
     ]
    },
    {
     "data": {
      "application/vnd.jupyter.widget-view+json": {
       "model_id": "bb05f301f016434ea1c87f26bff41041",
       "version_major": 2,
       "version_minor": 0
      },
      "text/plain": [
       "  0%|          | 0/999 [00:00<?, ?it/s]"
      ]
     },
     "metadata": {},
     "output_type": "display_data"
    },
    {
     "name": "stdout",
     "output_type": "stream",
     "text": [
      "https://www.bitstamp.net/api/v2/ohlc/btcusd/ -> {'currency_pair': 'btcusd', 'step': 300, 'limit': 1000, 'start': 1622502000}\n",
      "Downloaded from 2021-06-01 00:00:00 to 2021-06-04 11:15:00 36979.84\n",
      "Resample 5Min - TecAn ( windows 5, windows_limit 100 )\n",
      "Processing 999 of btcusd\n"
     ]
    },
    {
     "data": {
      "application/vnd.jupyter.widget-view+json": {
       "model_id": "f0a822416bf44b2786c74136854f4a40",
       "version_major": 2,
       "version_minor": 0
      },
      "text/plain": [
       "  0%|          | 0/999 [00:00<?, ?it/s]"
      ]
     },
     "metadata": {},
     "output_type": "display_data"
    },
    {
     "name": "stdout",
     "output_type": "stream",
     "text": [
      "https://www.bitstamp.net/api/v2/ohlc/btcusd/ -> {'currency_pair': 'btcusd', 'step': 300, 'limit': 1000, 'start': 1622502000}\n",
      "https://www.bitstamp.net/api/v2/ohlc/btcusd/ -> {'currency_pair': 'btcusd', 'step': 300, 'limit': 1000, 'start': 1622502000}Downloaded from 2021-06-01 00:00:00 to 2021-06-04 11:15:00 36979.84\n",
      "\n",
      "Resample 5Min - TecAn ( windows 10, windows_limit 100 )\n",
      "Processing 999 of btcusd\n",
      "Downloaded from 2021-06-01 00:00:00 to 2021-06-04 11:15:00 36979.84\n",
      "Resample 5Min - TecAn ( windows 20, windows_limit 100 )\n",
      "Processing 999 of btcusd\n",
      "https://www.bitstamp.net/api/v2/ohlc/btcusd/ -> {'currency_pair': 'btcusd', 'step': 300, 'limit': 1000, 'start': 1622502000}\n"
     ]
    },
    {
     "data": {
      "application/vnd.jupyter.widget-view+json": {
       "model_id": "fae8e850e2ea4f59be57030804c94341",
       "version_major": 2,
       "version_minor": 0
      },
      "text/plain": [
       "  0%|          | 0/999 [00:00<?, ?it/s]"
      ]
     },
     "metadata": {},
     "output_type": "display_data"
    },
    {
     "name": "stdout",
     "output_type": "stream",
     "text": [
      "https://www.bitstamp.net/api/v2/ohlc/btcusd/ -> {'currency_pair': 'btcusd', 'step': 300, 'limit': 1000, 'start': 1622502000}\n",
      "Downloaded from 2021-06-01 00:00:00 to 2021-06-04 11:15:00 36979.84\n",
      "Resample 5Min - TecAn ( windows 30, windows_limit 100 )\n",
      "Processing 999 of btcusd\n"
     ]
    },
    {
     "data": {
      "application/vnd.jupyter.widget-view+json": {
       "model_id": "6b194f1577f440f78d9ca29f01fcf5f3",
       "version_major": 2,
       "version_minor": 0
      },
      "text/plain": [
       "  0%|          | 0/999 [00:00<?, ?it/s]"
      ]
     },
     "metadata": {},
     "output_type": "display_data"
    },
    {
     "name": "stdout",
     "output_type": "stream",
     "text": [
      "Downloaded from 2021-06-01 00:00:00 to 2021-06-04 11:15:00 36979.84\n",
      "Resample 5Min - TecAn ( windows 40, windows_limit 100 )\n",
      "Processing 999 of btcusd\n"
     ]
    },
    {
     "data": {
      "application/vnd.jupyter.widget-view+json": {
       "model_id": "0193274700f24bdc904ff84bd0b2acde",
       "version_major": 2,
       "version_minor": 0
      },
      "text/plain": [
       "  0%|          | 0/999 [00:00<?, ?it/s]"
      ]
     },
     "metadata": {},
     "output_type": "display_data"
    },
    {
     "data": {
      "application/vnd.jupyter.widget-view+json": {
       "model_id": "dc64a05670dc4cae9d3b9f8945252a95",
       "version_major": 2,
       "version_minor": 0
      },
      "text/plain": [
       "  0%|          | 0/999 [00:00<?, ?it/s]"
      ]
     },
     "metadata": {},
     "output_type": "display_data"
    },
    {
     "name": "stdout",
     "output_type": "stream",
     "text": [
      "https://www.bitstamp.net/api/v2/ohlc/btcusd/ -> {'currency_pair': 'btcusd', 'step': 300, 'limit': 1000, 'start': 1590966000}\n",
      "Downloaded from 2020-06-01 00:00:00 to 2020-06-04 11:15:00 9520.48\n",
      "Resample 5Min - TecAn ( windows 5, windows_limit 100 )\n",
      "Processing 999 of btcusd\n",
      "https://www.bitstamp.net/api/v2/ohlc/btcusd/ -> {'currency_pair': 'btcusd', 'step': 300, 'limit': 1000, 'start': 1590966000}\n",
      "Downloaded from 2020-06-01 00:00:00 to 2020-06-04 11:15:00 9520.48\n",
      "Resample 5Min - TecAn ( windows 10, windows_limit 100 )\n",
      "Processing 999 of btcusd\n",
      "https://www.bitstamp.net/api/v2/ohlc/btcusd/ -> {'currency_pair': 'btcusd', 'step': 300, 'limit': 1000, 'start': 1590966000}\n",
      "Downloaded from 2020-06-01 00:00:00 to 2020-06-04 11:15:00 9520.48\n",
      "Resample 5Min - TecAn ( windows 20, windows_limit 100 )\n",
      "Processing 999 of btcusd\n"
     ]
    },
    {
     "data": {
      "application/vnd.jupyter.widget-view+json": {
       "model_id": "7d3c7ec14fbe4e4eb2f983032df101fb",
       "version_major": 2,
       "version_minor": 0
      },
      "text/plain": [
       "  0%|          | 0/999 [00:00<?, ?it/s]"
      ]
     },
     "metadata": {},
     "output_type": "display_data"
    },
    {
     "data": {
      "application/vnd.jupyter.widget-view+json": {
       "model_id": "5be8de43e3484bb286a97a3ac95df4be",
       "version_major": 2,
       "version_minor": 0
      },
      "text/plain": [
       "  0%|          | 0/999 [00:00<?, ?it/s]"
      ]
     },
     "metadata": {},
     "output_type": "display_data"
    },
    {
     "data": {
      "application/vnd.jupyter.widget-view+json": {
       "model_id": "d5e6ca5bab8c4fe6b1771b36fd677ace",
       "version_major": 2,
       "version_minor": 0
      },
      "text/plain": [
       "  0%|          | 0/999 [00:00<?, ?it/s]"
      ]
     },
     "metadata": {},
     "output_type": "display_data"
    },
    {
     "name": "stdout",
     "output_type": "stream",
     "text": [
      "https://www.bitstamp.net/api/v2/ohlc/btcusd/ -> {'currency_pair': 'btcusd', 'step': 300, 'limit': 1000, 'start': 1590966000}\n",
      "https://www.bitstamp.net/api/v2/ohlc/btcusd/ -> {'currency_pair': 'btcusd', 'step': 300, 'limit': 1000, 'start': 1590966000}\n",
      "Downloaded from 2020-06-01 00:00:00 to 2020-06-04 11:15:00 9520.48\n",
      "Resample 5Min - TecAn ( windows 30, windows_limit 100 )\n",
      "Processing 999 of btcusd\n"
     ]
    },
    {
     "data": {
      "application/vnd.jupyter.widget-view+json": {
       "model_id": "7943042a266943a4aff3afa888668d8b",
       "version_major": 2,
       "version_minor": 0
      },
      "text/plain": [
       "  0%|          | 0/999 [00:00<?, ?it/s]"
      ]
     },
     "metadata": {},
     "output_type": "display_data"
    },
    {
     "name": "stdout",
     "output_type": "stream",
     "text": [
      "Downloaded from 2020-06-01 00:00:00 to 2020-06-04 11:15:00 9520.48\n",
      "Resample 5Min - TecAn ( windows 40, windows_limit 100 )\n",
      "Processing 999 of btcusd\n"
     ]
    },
    {
     "data": {
      "application/vnd.jupyter.widget-view+json": {
       "model_id": "82470abad5ea4e8487f05a95826e126f",
       "version_major": 2,
       "version_minor": 0
      },
      "text/plain": [
       "  0%|          | 0/999 [00:00<?, ?it/s]"
      ]
     },
     "metadata": {},
     "output_type": "display_data"
    },
    {
     "name": "stdout",
     "output_type": "stream",
     "text": [
      "https://www.bitstamp.net/api/v2/ohlc/btcusd/ -> {'currency_pair': 'btcusd', 'step': 300, 'limit': 1000, 'start': 1559343600}\n",
      "Downloaded from 2019-06-01 00:00:00 to 2019-06-04 11:15:00 7963.92\n",
      "Resample 5Min - TecAn ( windows 20, windows_limit 100 )\n",
      "Processing 999 of btcusd\n",
      "https://www.bitstamp.net/api/v2/ohlc/btcusd/ -> {'currency_pair': 'btcusd', 'step': 300, 'limit': 1000, 'start': 1559343600}\n",
      "https://www.bitstamp.net/api/v2/ohlc/btcusd/ -> {'currency_pair': 'btcusd', 'step': 300, 'limit': 1000, 'start': 1559343600}\n",
      "https://www.bitstamp.net/api/v2/ohlc/btcusd/ -> {'currency_pair': 'btcusd', 'step': 300, 'limit': 1000, 'start': 1559343600}\n",
      "https://www.bitstamp.net/api/v2/ohlc/btcusd/ -> {'currency_pair': 'btcusd', 'step': 300, 'limit': 1000, 'start': 1559343600}\n",
      "Downloaded from 2019-06-01 00:00:00 to 2019-06-04 11:15:00 7963.92\n",
      "Resample 5Min - TecAn ( windows 40, windows_limit 100 )\n",
      "Processing 999 of btcusd\n"
     ]
    },
    {
     "data": {
      "application/vnd.jupyter.widget-view+json": {
       "model_id": "eefb3b1a7b034a11b0939d99db2de7e4",
       "version_major": 2,
       "version_minor": 0
      },
      "text/plain": [
       "  0%|          | 0/999 [00:00<?, ?it/s]"
      ]
     },
     "metadata": {},
     "output_type": "display_data"
    },
    {
     "data": {
      "application/vnd.jupyter.widget-view+json": {
       "model_id": "a56f79e332f34f9f8686a9acdfc2bd07",
       "version_major": 2,
       "version_minor": 0
      },
      "text/plain": [
       "  0%|          | 0/999 [00:00<?, ?it/s]"
      ]
     },
     "metadata": {},
     "output_type": "display_data"
    },
    {
     "name": "stdout",
     "output_type": "stream",
     "text": [
      "Downloaded from 2019-06-01 00:00:00 to 2019-06-04 11:15:00 7963.92\n",
      "Resample 5Min - TecAn ( windows 30, windows_limit 100 )\n",
      "Processing 999 of btcusd\n",
      "Downloaded from 2019-06-01 00:00:00 to 2019-06-04 11:15:00 7963.92\n",
      "Resample 5Min - TecAn ( windows 10, windows_limit 100 )\n",
      "Processing 999 of btcusd\n",
      "Downloaded from 2019-06-01 00:00:00 to 2019-06-04 11:15:00 7963.92\n",
      "Resample 5Min - TecAn ( windows 5, windows_limit 100 )\n",
      "Processing 999 of btcusd\n"
     ]
    },
    {
     "data": {
      "application/vnd.jupyter.widget-view+json": {
       "model_id": "496fe4a6ee824b7f9889d0cf68316447",
       "version_major": 2,
       "version_minor": 0
      },
      "text/plain": [
       "  0%|          | 0/999 [00:00<?, ?it/s]"
      ]
     },
     "metadata": {},
     "output_type": "display_data"
    },
    {
     "data": {
      "application/vnd.jupyter.widget-view+json": {
       "model_id": "7b2d9fa2b1d34e24b0eb8482722786eb",
       "version_major": 2,
       "version_minor": 0
      },
      "text/plain": [
       "  0%|          | 0/999 [00:00<?, ?it/s]"
      ]
     },
     "metadata": {},
     "output_type": "display_data"
    },
    {
     "data": {
      "application/vnd.jupyter.widget-view+json": {
       "model_id": "e804c7c3abd14fa6a3096c711f78b6ad",
       "version_major": 2,
       "version_minor": 0
      },
      "text/plain": [
       "  0%|          | 0/999 [00:00<?, ?it/s]"
      ]
     },
     "metadata": {},
     "output_type": "display_data"
    },
    {
     "name": "stdout",
     "output_type": "stream",
     "text": [
      "https://www.bitstamp.net/api/v2/ohlc/btcusd/ -> {'currency_pair': 'btcusd', 'step': 300, 'limit': 1000, 'start': 1527807600}\n",
      "Downloaded from 2018-06-01 00:00:00 to 2018-06-04 11:15:00 7603.79\n",
      "Resample 5Min - TecAn ( windows 40, windows_limit 100 )\n",
      "Processing 999 of btcusd\n",
      "https://www.bitstamp.net/api/v2/ohlc/btcusd/ -> {'currency_pair': 'btcusd', 'step': 300, 'limit': 1000, 'start': 1527807600}\n",
      "https://www.bitstamp.net/api/v2/ohlc/btcusd/ -> {'currency_pair': 'btcusd', 'step': 300, 'limit': 1000, 'start': 1527807600}\n",
      "Downloaded from 2018-06-01 00:00:00 to 2018-06-04 11:15:00 7603.79\n",
      "Resample 5Min - TecAn ( windows 30, windows_limit 100 )\n",
      "Processing 999 of btcusd\n",
      "https://www.bitstamp.net/api/v2/ohlc/btcusd/ -> {'currency_pair': 'btcusd', 'step': 300, 'limit': 1000, 'start': 1527807600}\n",
      "Downloaded from 2018-06-01 00:00:00 to 2018-06-04 11:15:00 7603.79\n",
      "Resample 5Min - TecAn ( windows 20, windows_limit 100 )\n",
      "Processing 999 of btcusd\n"
     ]
    },
    {
     "data": {
      "application/vnd.jupyter.widget-view+json": {
       "model_id": "9e2c390455294cc09184c134801bc9be",
       "version_major": 2,
       "version_minor": 0
      },
      "text/plain": [
       "  0%|          | 0/999 [00:00<?, ?it/s]"
      ]
     },
     "metadata": {},
     "output_type": "display_data"
    },
    {
     "data": {
      "application/vnd.jupyter.widget-view+json": {
       "model_id": "bddde61f23bb475f9557a85346ef2f3c",
       "version_major": 2,
       "version_minor": 0
      },
      "text/plain": [
       "  0%|          | 0/999 [00:00<?, ?it/s]"
      ]
     },
     "metadata": {},
     "output_type": "display_data"
    },
    {
     "data": {
      "application/vnd.jupyter.widget-view+json": {
       "model_id": "0a5cb9710cd24814ae6fff7cc65a448c",
       "version_major": 2,
       "version_minor": 0
      },
      "text/plain": [
       "  0%|          | 0/999 [00:00<?, ?it/s]"
      ]
     },
     "metadata": {},
     "output_type": "display_data"
    },
    {
     "name": "stdout",
     "output_type": "stream",
     "text": [
      "https://www.bitstamp.net/api/v2/ohlc/btcusd/ -> {'currency_pair': 'btcusd', 'step': 300, 'limit': 1000, 'start': 1527807600}\n",
      "Downloaded from 2018-06-01 00:00:00 to 2018-06-04 11:15:00 7603.79\n",
      "Resample 5Min - TecAn ( windows 10, windows_limit 100 )\n",
      "Processing 999 of btcusd\n",
      "Downloaded from 2018-06-01 00:00:00 to 2018-06-04 11:15:00 7603.79\n",
      "Resample 5Min - TecAn ( windows 5, windows_limit 100 )\n",
      "Processing 999 of btcusd\n"
     ]
    },
    {
     "data": {
      "application/vnd.jupyter.widget-view+json": {
       "model_id": "b67e005066074513a7707db41e7d6c53",
       "version_major": 2,
       "version_minor": 0
      },
      "text/plain": [
       "  0%|          | 0/999 [00:00<?, ?it/s]"
      ]
     },
     "metadata": {},
     "output_type": "display_data"
    },
    {
     "data": {
      "application/vnd.jupyter.widget-view+json": {
       "model_id": "ee9985dd94394766a7da7e1a087ea0b2",
       "version_major": 2,
       "version_minor": 0
      },
      "text/plain": [
       "  0%|          | 0/999 [00:00<?, ?it/s]"
      ]
     },
     "metadata": {},
     "output_type": "display_data"
    },
    {
     "name": "stdout",
     "output_type": "stream",
     "text": [
      "https://www.bitstamp.net/api/v2/ohlc/btcusd/ -> {'currency_pair': 'btcusd', 'step': 300, 'limit': 1000, 'start': 1517443200}\n",
      "Downloaded from 2018-02-01 00:00:00 to 2018-02-04 11:15:00 8898.23\n",
      "Resample 5Min - TecAn ( windows 30, windows_limit 100 )\n",
      "Processing 999 of btcusd\n"
     ]
    },
    {
     "data": {
      "application/vnd.jupyter.widget-view+json": {
       "model_id": "1cf5d2379b414c0dab255ef8d649e7f0",
       "version_major": 2,
       "version_minor": 0
      },
      "text/plain": [
       "  0%|          | 0/999 [00:00<?, ?it/s]"
      ]
     },
     "metadata": {},
     "output_type": "display_data"
    },
    {
     "name": "stdout",
     "output_type": "stream",
     "text": [
      "https://www.bitstamp.net/api/v2/ohlc/btcusd/ -> {'currency_pair': 'btcusd', 'step': 300, 'limit': 1000, 'start': 1517443200}\n",
      "Downloaded from 2018-02-01 00:00:00 to 2018-02-04 11:15:00 8898.23\n",
      "Resample 5Min - TecAn ( windows 20, windows_limit 100 )\n",
      "Processing 999 of btcusd\n"
     ]
    },
    {
     "data": {
      "application/vnd.jupyter.widget-view+json": {
       "model_id": "3e999e11e27f4c1da354bc95e8d03b1e",
       "version_major": 2,
       "version_minor": 0
      },
      "text/plain": [
       "  0%|          | 0/999 [00:00<?, ?it/s]"
      ]
     },
     "metadata": {},
     "output_type": "display_data"
    },
    {
     "name": "stdout",
     "output_type": "stream",
     "text": [
      "https://www.bitstamp.net/api/v2/ohlc/btcusd/ -> {'currency_pair': 'btcusd', 'step': 300, 'limit': 1000, 'start': 1517443200}\n",
      "https://www.bitstamp.net/api/v2/ohlc/btcusd/ -> {'currency_pair': 'btcusd', 'step': 300, 'limit': 1000, 'start': 1517443200}\n",
      "Downloaded from 2018-02-01 00:00:00 to 2018-02-04 11:15:00 8898.23\n",
      "Downloaded from 2018-02-01 00:00:00 to 2018-02-04 11:15:00 8898.23Resample 5Min - TecAn ( windows 10, windows_limit 100 )\n",
      "\n",
      "Resample 5Min - TecAn ( windows 40, windows_limit 100 )Processing 999 of btcusd\n",
      "\n",
      "Processing 999 of btcusd\n"
     ]
    },
    {
     "data": {
      "application/vnd.jupyter.widget-view+json": {
       "model_id": "58335a1516ea4657bda3f35c8ea79263",
       "version_major": 2,
       "version_minor": 0
      },
      "text/plain": [
       "  0%|          | 0/999 [00:00<?, ?it/s]"
      ]
     },
     "metadata": {},
     "output_type": "display_data"
    },
    {
     "data": {
      "application/vnd.jupyter.widget-view+json": {
       "model_id": "b8a33b4146bb498f84952edb4fb8646f",
       "version_major": 2,
       "version_minor": 0
      },
      "text/plain": [
       "  0%|          | 0/999 [00:00<?, ?it/s]"
      ]
     },
     "metadata": {},
     "output_type": "display_data"
    },
    {
     "name": "stdout",
     "output_type": "stream",
     "text": [
      "https://www.bitstamp.net/api/v2/ohlc/btcusd/ -> {'currency_pair': 'btcusd', 'step': 300, 'limit': 1000, 'start': 1517443200}\n",
      "Downloaded from 2018-02-01 00:00:00 to 2018-02-04 11:15:00 8898.23\n",
      "Resample 5Min - TecAn ( windows 5, windows_limit 100 )\n",
      "Processing 999 of btcusd\n"
     ]
    },
    {
     "data": {
      "application/vnd.jupyter.widget-view+json": {
       "model_id": "32af39345700491784fa6c7a618f0fac",
       "version_major": 2,
       "version_minor": 0
      },
      "text/plain": [
       "  0%|          | 0/999 [00:00<?, ?it/s]"
      ]
     },
     "metadata": {},
     "output_type": "display_data"
    },
    {
     "name": "stdout",
     "output_type": "stream",
     "text": [
      "https://www.bitstamp.net/api/v2/ohlc/btcusd/ -> {'currency_pair': 'btcusd', 'step': 300, 'limit': 1000, 'start': 1548979200}\n",
      "Downloaded from 2019-02-01 00:00:00 to 2019-02-04 11:15:00 3404.48\n",
      "Resample 5Min - TecAn ( windows 30, windows_limit 100 )\n",
      "Processing 999 of btcusd\n",
      "https://www.bitstamp.net/api/v2/ohlc/btcusd/ -> {'currency_pair': 'btcusd', 'step': 300, 'limit': 1000, 'start': 1548979200}\n",
      "Downloaded from 2019-02-01 00:00:00 to 2019-02-04 11:15:00 3404.48\n",
      "Resample 5Min - TecAn ( windows 20, windows_limit 100 )\n",
      "Processing 999 of btcusd\n",
      "https://www.bitstamp.net/api/v2/ohlc/btcusd/ -> {'currency_pair': 'btcusd', 'step': 300, 'limit': 1000, 'start': 1548979200}\n",
      "Downloaded from 2019-02-01 00:00:00 to 2019-02-04 11:15:00 3404.48\n",
      "Resample 5Min - TecAn ( windows 40, windows_limit 100 )\n",
      "Processing 999 of btcusd\n",
      "https://www.bitstamp.net/api/v2/ohlc/btcusd/ -> {'currency_pair': 'btcusd', 'step': 300, 'limit': 1000, 'start': 1548979200}\n",
      "Downloaded from 2019-02-01 00:00:00 to 2019-02-04 11:15:00 3404.48\n",
      "Resample 5Min - TecAn ( windows 10, windows_limit 100 )\n",
      "Processing 999 of btcusd\n"
     ]
    },
    {
     "data": {
      "application/vnd.jupyter.widget-view+json": {
       "model_id": "df5dc17a5fa1490fa7a2995bc2708d70",
       "version_major": 2,
       "version_minor": 0
      },
      "text/plain": [
       "  0%|          | 0/999 [00:00<?, ?it/s]"
      ]
     },
     "metadata": {},
     "output_type": "display_data"
    },
    {
     "data": {
      "application/vnd.jupyter.widget-view+json": {
       "model_id": "203af2ee31b44f1eab7ecf8f9634207d",
       "version_major": 2,
       "version_minor": 0
      },
      "text/plain": [
       "  0%|          | 0/999 [00:00<?, ?it/s]"
      ]
     },
     "metadata": {},
     "output_type": "display_data"
    },
    {
     "data": {
      "application/vnd.jupyter.widget-view+json": {
       "model_id": "b4cca4fd732a40c7bc8c47307f6ff0ab",
       "version_major": 2,
       "version_minor": 0
      },
      "text/plain": [
       "  0%|          | 0/999 [00:00<?, ?it/s]"
      ]
     },
     "metadata": {},
     "output_type": "display_data"
    },
    {
     "data": {
      "application/vnd.jupyter.widget-view+json": {
       "model_id": "12778f9be1cc47aea3ec79f6376a48cf",
       "version_major": 2,
       "version_minor": 0
      },
      "text/plain": [
       "  0%|          | 0/999 [00:00<?, ?it/s]"
      ]
     },
     "metadata": {},
     "output_type": "display_data"
    },
    {
     "name": "stdout",
     "output_type": "stream",
     "text": [
      "https://www.bitstamp.net/api/v2/ohlc/btcusd/ -> {'currency_pair': 'btcusd', 'step': 300, 'limit': 1000, 'start': 1548979200}\n",
      "Downloaded from 2019-02-01 00:00:00 to 2019-02-04 11:15:00 3404.48\n",
      "Resample 5Min - TecAn ( windows 5, windows_limit 100 )\n",
      "Processing 999 of btcusd\n"
     ]
    },
    {
     "data": {
      "application/vnd.jupyter.widget-view+json": {
       "model_id": "d6f7709904024255b85f653547496284",
       "version_major": 2,
       "version_minor": 0
      },
      "text/plain": [
       "  0%|          | 0/999 [00:00<?, ?it/s]"
      ]
     },
     "metadata": {},
     "output_type": "display_data"
    },
    {
     "name": "stdout",
     "output_type": "stream",
     "text": [
      "https://www.bitstamp.net/api/v2/ohlc/btcusd/ -> {'currency_pair': 'btcusd', 'step': 300, 'limit': 1000, 'start': 1580515200}\n",
      "Downloaded from 2020-02-01 00:00:00 to 2020-02-04 11:15:00 9163.36\n",
      "Resample 5Min - TecAn ( windows 20, windows_limit 100 )\n",
      "Processing 999 of btcusd\n",
      "https://www.bitstamp.net/api/v2/ohlc/btcusd/ -> {'currency_pair': 'btcusd', 'step': 300, 'limit': 1000, 'start': 1580515200}\n",
      "https://www.bitstamp.net/api/v2/ohlc/btcusd/ -> {'currency_pair': 'btcusd', 'step': 300, 'limit': 1000, 'start': 1580515200}\n",
      "Downloaded from 2020-02-01 00:00:00 to 2020-02-04 11:15:00 9163.36\n",
      "Resample 5Min - TecAn ( windows 30, windows_limit 100 )\n",
      "Processing 999 of btcusd\n",
      "Downloaded from 2020-02-01 00:00:00 to 2020-02-04 11:15:00 9163.36\n",
      "https://www.bitstamp.net/api/v2/ohlc/btcusd/ -> {'currency_pair': 'btcusd', 'step': 300, 'limit': 1000, 'start': 1580515200}\n",
      "Resample 5Min - TecAn ( windows 40, windows_limit 100 )\n",
      "Processing 999 of btcusd\n",
      "Downloaded from 2020-02-01 00:00:00 to 2020-02-04 11:15:00 9163.36\n",
      "Resample 5Min - TecAn ( windows 10, windows_limit 100 )\n",
      "Processing 999 of btcusd\n"
     ]
    },
    {
     "data": {
      "application/vnd.jupyter.widget-view+json": {
       "model_id": "83f5b01a8b0a4c91bf46bfe4dc1ecef8",
       "version_major": 2,
       "version_minor": 0
      },
      "text/plain": [
       "  0%|          | 0/999 [00:00<?, ?it/s]"
      ]
     },
     "metadata": {},
     "output_type": "display_data"
    },
    {
     "data": {
      "application/vnd.jupyter.widget-view+json": {
       "model_id": "9fece25c030e4b7f9be1a54ee4a38c4b",
       "version_major": 2,
       "version_minor": 0
      },
      "text/plain": [
       "  0%|          | 0/999 [00:00<?, ?it/s]"
      ]
     },
     "metadata": {},
     "output_type": "display_data"
    },
    {
     "data": {
      "application/vnd.jupyter.widget-view+json": {
       "model_id": "f5d0fdd2252b4400a3a762b217a4940c",
       "version_major": 2,
       "version_minor": 0
      },
      "text/plain": [
       "  0%|          | 0/999 [00:00<?, ?it/s]"
      ]
     },
     "metadata": {},
     "output_type": "display_data"
    },
    {
     "data": {
      "application/vnd.jupyter.widget-view+json": {
       "model_id": "da791e9b2be2411198b60e329cd86156",
       "version_major": 2,
       "version_minor": 0
      },
      "text/plain": [
       "  0%|          | 0/999 [00:00<?, ?it/s]"
      ]
     },
     "metadata": {},
     "output_type": "display_data"
    },
    {
     "name": "stdout",
     "output_type": "stream",
     "text": [
      "https://www.bitstamp.net/api/v2/ohlc/btcusd/ -> {'currency_pair': 'btcusd', 'step': 300, 'limit': 1000, 'start': 1580515200}\n",
      "Downloaded from 2020-02-01 00:00:00 to 2020-02-04 11:15:00 9163.36\n",
      "Resample 5Min - TecAn ( windows 5, windows_limit 100 )\n",
      "Processing 999 of btcusd\n"
     ]
    },
    {
     "data": {
      "application/vnd.jupyter.widget-view+json": {
       "model_id": "18bb2bc72431449099296c7b66cb3956",
       "version_major": 2,
       "version_minor": 0
      },
      "text/plain": [
       "  0%|          | 0/999 [00:00<?, ?it/s]"
      ]
     },
     "metadata": {},
     "output_type": "display_data"
    },
    {
     "name": "stdout",
     "output_type": "stream",
     "text": [
      "https://www.bitstamp.net/api/v2/ohlc/btcusd/ -> {'currency_pair': 'btcusd', 'step': 300, 'limit': 1000, 'start': 1612137600}\n",
      "Downloaded from 2021-02-01 00:00:00 to 2021-02-04 11:15:00 37713.31https://www.bitstamp.net/api/v2/ohlc/btcusd/ -> {'currency_pair': 'btcusd', 'step': 300, 'limit': 1000, 'start': 1612137600}\n",
      "\n",
      "Resample 5Min - TecAn ( windows 20, windows_limit 100 )\n",
      "Processing 999 of btcusd\n",
      "https://www.bitstamp.net/api/v2/ohlc/btcusd/ -> {'currency_pair': 'btcusd', 'step': 300, 'limit': 1000, 'start': 1612137600}\n",
      "https://www.bitstamp.net/api/v2/ohlc/btcusd/ -> {'currency_pair': 'btcusd', 'step': 300, 'limit': 1000, 'start': 1612137600}\n",
      "Downloaded from 2021-02-01 00:00:00 to 2021-02-04 11:15:00 37713.31\n",
      "Resample 5Min - TecAn ( windows 30, windows_limit 100 )\n",
      "Processing 999 of btcusd\n",
      "Downloaded from 2021-02-01 00:00:00 to 2021-02-04 11:15:00 37713.31\n",
      "Downloaded from 2021-02-01 00:00:00 to 2021-02-04 11:15:00 37713.31\n",
      "Resample 5Min - TecAn ( windows 40, windows_limit 100 )Resample 5Min - TecAn ( windows 10, windows_limit 100 )\n",
      "\n",
      "Processing 999 of btcusd\n",
      "Processing 999 of btcusd\n"
     ]
    },
    {
     "data": {
      "application/vnd.jupyter.widget-view+json": {
       "model_id": "068433763e7f4918a7ae0e0a980872a3",
       "version_major": 2,
       "version_minor": 0
      },
      "text/plain": [
       "  0%|          | 0/999 [00:00<?, ?it/s]"
      ]
     },
     "metadata": {},
     "output_type": "display_data"
    },
    {
     "data": {
      "application/vnd.jupyter.widget-view+json": {
       "model_id": "3ff45b3caa5c4b8db2e7f203cfc82167",
       "version_major": 2,
       "version_minor": 0
      },
      "text/plain": [
       "  0%|          | 0/999 [00:00<?, ?it/s]"
      ]
     },
     "metadata": {},
     "output_type": "display_data"
    },
    {
     "data": {
      "application/vnd.jupyter.widget-view+json": {
       "model_id": "580c501da33c4a3f973e1f1f0be120d7",
       "version_major": 2,
       "version_minor": 0
      },
      "text/plain": [
       "  0%|          | 0/999 [00:00<?, ?it/s]"
      ]
     },
     "metadata": {},
     "output_type": "display_data"
    },
    {
     "data": {
      "application/vnd.jupyter.widget-view+json": {
       "model_id": "d8015cdaea6d4684a241b3b77bf92724",
       "version_major": 2,
       "version_minor": 0
      },
      "text/plain": [
       "  0%|          | 0/999 [00:00<?, ?it/s]"
      ]
     },
     "metadata": {},
     "output_type": "display_data"
    },
    {
     "name": "stdout",
     "output_type": "stream",
     "text": [
      "https://www.bitstamp.net/api/v2/ohlc/btcusd/ -> {'currency_pair': 'btcusd', 'step': 300, 'limit': 1000, 'start': 1612137600}\n",
      "Downloaded from 2021-02-01 00:00:00 to 2021-02-04 11:15:00 37713.31\n",
      "Resample 5Min - TecAn ( windows 5, windows_limit 100 )\n",
      "Processing 999 of btcusd\n"
     ]
    },
    {
     "data": {
      "application/vnd.jupyter.widget-view+json": {
       "model_id": "ce4bbc5d73684c6f9c1901ad86f49f34",
       "version_major": 2,
       "version_minor": 0
      },
      "text/plain": [
       "  0%|          | 0/999 [00:00<?, ?it/s]"
      ]
     },
     "metadata": {},
     "output_type": "display_data"
    },
    {
     "name": "stdout",
     "output_type": "stream",
     "text": [
      "https://www.bitstamp.net/api/v2/ohlc/btcusd/ -> {'currency_pair': 'btcusd', 'step': 300, 'limit': 1000, 'start': 1626340500, 'end': 1626369600}\n",
      "https://www.bitstamp.net/api/v2/ohlc/btcusd/ -> {'currency_pair': 'btcusd', 'step': 300, 'limit': 1000, 'start': 1626340500, 'end': 1626369600}\n",
      "Downloaded from 2021-07-12 07:05:00 to 2021-07-15 18:20:00 31200.00\n",
      "Resample 5Min - TecAn ( windows 30, windows_limit 100 )\n",
      "Processing 999 of btcusd\n",
      "Downloaded from 2021-07-12 07:05:00 to 2021-07-15 18:20:00 31200.00\n",
      "Resample 5Min - TecAn ( windows 10, windows_limit 100 )\n",
      "Processing 999 of btcusd\n",
      "https://www.bitstamp.net/api/v2/ohlc/btcusd/ -> {'currency_pair': 'btcusd', 'step': 300, 'limit': 1000, 'start': 1626340500, 'end': 1626369600}\n",
      "Downloaded from 2021-07-12 07:05:00 to 2021-07-15 18:20:00 31200.00\n",
      "Resample 5Min - TecAn ( windows 20, windows_limit 100 )\n",
      "Processing 999 of btcusd\n",
      "https://www.bitstamp.net/api/v2/ohlc/btcusd/ -> {'currency_pair': 'btcusd', 'step': 300, 'limit': 1000, 'start': 1626340500, 'end': 1626369600}\n",
      "Downloaded from 2021-07-12 07:05:00 to 2021-07-15 18:20:00 31200.00\n",
      "Resample 5Min - TecAn ( windows 40, windows_limit 100 )\n",
      "Processing 999 of btcusd\n"
     ]
    },
    {
     "data": {
      "application/vnd.jupyter.widget-view+json": {
       "model_id": "23f61fbd9f2949949ed151785aeb6ade",
       "version_major": 2,
       "version_minor": 0
      },
      "text/plain": [
       "  0%|          | 0/999 [00:00<?, ?it/s]"
      ]
     },
     "metadata": {},
     "output_type": "display_data"
    },
    {
     "data": {
      "application/vnd.jupyter.widget-view+json": {
       "model_id": "fc5069a4e45941b5b8f4ac9e4a759dcd",
       "version_major": 2,
       "version_minor": 0
      },
      "text/plain": [
       "  0%|          | 0/999 [00:00<?, ?it/s]"
      ]
     },
     "metadata": {},
     "output_type": "display_data"
    },
    {
     "data": {
      "application/vnd.jupyter.widget-view+json": {
       "model_id": "83b6f63ad8d5475eac34bf4b7c1dd231",
       "version_major": 2,
       "version_minor": 0
      },
      "text/plain": [
       "  0%|          | 0/999 [00:00<?, ?it/s]"
      ]
     },
     "metadata": {},
     "output_type": "display_data"
    },
    {
     "data": {
      "application/vnd.jupyter.widget-view+json": {
       "model_id": "0c84c2ef49fd451dbf4a01e2c1e899c2",
       "version_major": 2,
       "version_minor": 0
      },
      "text/plain": [
       "  0%|          | 0/999 [00:00<?, ?it/s]"
      ]
     },
     "metadata": {},
     "output_type": "display_data"
    },
    {
     "name": "stdout",
     "output_type": "stream",
     "text": [
      "https://www.bitstamp.net/api/v2/ohlc/btcusd/ -> {'currency_pair': 'btcusd', 'step': 300, 'limit': 1000, 'start': 1626340500, 'end': 1626369600}\n",
      "Downloaded from 2021-07-12 07:05:00 to 2021-07-15 18:20:00 31200.00\n",
      "Resample 5Min - TecAn ( windows 5, windows_limit 100 )\n",
      "Processing 999 of btcusd\n"
     ]
    },
    {
     "data": {
      "application/vnd.jupyter.widget-view+json": {
       "model_id": "ac8a8b63d3b44247836102ae54b9ea78",
       "version_major": 2,
       "version_minor": 0
      },
      "text/plain": [
       "  0%|          | 0/999 [00:00<?, ?it/s]"
      ]
     },
     "metadata": {},
     "output_type": "display_data"
    },
    {
     "name": "stdout",
     "output_type": "stream",
     "text": [
      "https://www.bitstamp.net/api/v2/ohlc/btcusd/ -> {'currency_pair': 'btcusd', 'step': 180, 'limit': 1000, 'start': 1622502000}\n",
      "Downloaded from 2021-06-01 00:00:00 to 2021-06-03 01:57:00 37436.78\n",
      "Resample 3Min - TecAn ( windows 5, windows_limit 100 )\n",
      "Processing 999 of btcusd\n"
     ]
    },
    {
     "data": {
      "application/vnd.jupyter.widget-view+json": {
       "model_id": "9b17974c2d1c4de4a00d4ed39a12e8af",
       "version_major": 2,
       "version_minor": 0
      },
      "text/plain": [
       "  0%|          | 0/999 [00:00<?, ?it/s]"
      ]
     },
     "metadata": {},
     "output_type": "display_data"
    },
    {
     "name": "stdout",
     "output_type": "stream",
     "text": [
      "https://www.bitstamp.net/api/v2/ohlc/btcusd/ -> {'currency_pair': 'btcusd', 'step': 180, 'limit': 1000, 'start': 1622502000}\n",
      "https://www.bitstamp.net/api/v2/ohlc/btcusd/ -> {'currency_pair': 'btcusd', 'step': 180, 'limit': 1000, 'start': 1622502000}\n",
      "Downloaded from 2021-06-01 00:00:00 to 2021-06-03 01:57:00 37436.78\n",
      "Resample 3Min - TecAn ( windows 10, windows_limit 100 )\n",
      "Processing 999 of btcusd\n"
     ]
    },
    {
     "data": {
      "application/vnd.jupyter.widget-view+json": {
       "model_id": "452848b7fc5a4421a259a05b44a85aaa",
       "version_major": 2,
       "version_minor": 0
      },
      "text/plain": [
       "  0%|          | 0/999 [00:00<?, ?it/s]"
      ]
     },
     "metadata": {},
     "output_type": "display_data"
    },
    {
     "name": "stdout",
     "output_type": "stream",
     "text": [
      "Downloaded from 2021-06-01 00:00:00 to 2021-06-03 01:57:00 37436.78\n",
      "Resample 3Min - TecAn ( windows 20, windows_limit 100 )\n",
      "Processing 999 of btcusd\n",
      "https://www.bitstamp.net/api/v2/ohlc/btcusd/ -> {'currency_pair': 'btcusd', 'step': 180, 'limit': 1000, 'start': 1622502000}\n"
     ]
    },
    {
     "data": {
      "application/vnd.jupyter.widget-view+json": {
       "model_id": "fe007c3e8f744f3fb3a83131c3b9e5cb",
       "version_major": 2,
       "version_minor": 0
      },
      "text/plain": [
       "  0%|          | 0/999 [00:00<?, ?it/s]"
      ]
     },
     "metadata": {},
     "output_type": "display_data"
    },
    {
     "name": "stdout",
     "output_type": "stream",
     "text": [
      "https://www.bitstamp.net/api/v2/ohlc/btcusd/ -> {'currency_pair': 'btcusd', 'step': 180, 'limit': 1000, 'start': 1622502000}\n",
      "Downloaded from 2021-06-01 00:00:00 to 2021-06-03 01:57:00 37436.78\n",
      "Resample 3Min - TecAn ( windows 30, windows_limit 100 )\n",
      "Processing 999 of btcusd\n",
      "Downloaded from 2021-06-01 00:00:00 to 2021-06-03 01:57:00 37436.78\n",
      "Resample 3Min - TecAn ( windows 40, windows_limit 100 )\n",
      "Processing 999 of btcusd\n"
     ]
    },
    {
     "data": {
      "application/vnd.jupyter.widget-view+json": {
       "model_id": "65961fd173514ebfa5b380f4aff2adc6",
       "version_major": 2,
       "version_minor": 0
      },
      "text/plain": [
       "  0%|          | 0/999 [00:00<?, ?it/s]"
      ]
     },
     "metadata": {},
     "output_type": "display_data"
    },
    {
     "data": {
      "application/vnd.jupyter.widget-view+json": {
       "model_id": "531857cd13ff4593a939db8b876294b8",
       "version_major": 2,
       "version_minor": 0
      },
      "text/plain": [
       "  0%|          | 0/999 [00:00<?, ?it/s]"
      ]
     },
     "metadata": {},
     "output_type": "display_data"
    },
    {
     "name": "stdout",
     "output_type": "stream",
     "text": [
      "https://www.bitstamp.net/api/v2/ohlc/btcusd/ -> {'currency_pair': 'btcusd', 'step': 180, 'limit': 1000, 'start': 1590966000}\n",
      "https://www.bitstamp.net/api/v2/ohlc/btcusd/ -> {'currency_pair': 'btcusd', 'step': 180, 'limit': 1000, 'start': 1590966000}\n",
      "Downloaded from 2020-06-01 00:00:00 to 2020-06-03 01:57:00 9525.82\n",
      "Resample 3Min - TecAn ( windows 5, windows_limit 100 )\n",
      "Processing 999 of btcusd\n",
      "Downloaded from 2020-06-01 00:00:00 to 2020-06-03 01:57:00 9525.82\n",
      "Resample 3Min - TecAn ( windows 10, windows_limit 100 )\n",
      "Processing 999 of btcusd\n",
      "https://www.bitstamp.net/api/v2/ohlc/btcusd/ -> {'currency_pair': 'btcusd', 'step': 180, 'limit': 1000, 'start': 1590966000}\n",
      "Downloaded from 2020-06-01 00:00:00 to 2020-06-03 01:57:00 9525.82\n",
      "Resample 3Min - TecAn ( windows 20, windows_limit 100 )\n",
      "Processing 999 of btcusd\n"
     ]
    },
    {
     "data": {
      "application/vnd.jupyter.widget-view+json": {
       "model_id": "4277dec0d32e4f1bb3ed82eb8c87a3fc",
       "version_major": 2,
       "version_minor": 0
      },
      "text/plain": [
       "  0%|          | 0/999 [00:00<?, ?it/s]"
      ]
     },
     "metadata": {},
     "output_type": "display_data"
    },
    {
     "data": {
      "application/vnd.jupyter.widget-view+json": {
       "model_id": "eaaec069947545f4a45e46588b557c62",
       "version_major": 2,
       "version_minor": 0
      },
      "text/plain": [
       "  0%|          | 0/999 [00:00<?, ?it/s]"
      ]
     },
     "metadata": {},
     "output_type": "display_data"
    },
    {
     "data": {
      "application/vnd.jupyter.widget-view+json": {
       "model_id": "e8b938692bc74566bef9e1efbe6c0f7f",
       "version_major": 2,
       "version_minor": 0
      },
      "text/plain": [
       "  0%|          | 0/999 [00:00<?, ?it/s]"
      ]
     },
     "metadata": {},
     "output_type": "display_data"
    },
    {
     "name": "stdout",
     "output_type": "stream",
     "text": [
      "https://www.bitstamp.net/api/v2/ohlc/btcusd/ -> {'currency_pair': 'btcusd', 'step': 180, 'limit': 1000, 'start': 1590966000}\n",
      "https://www.bitstamp.net/api/v2/ohlc/btcusd/ -> {'currency_pair': 'btcusd', 'step': 180, 'limit': 1000, 'start': 1590966000}\n",
      "Downloaded from 2020-06-01 00:00:00 to 2020-06-03 01:57:00 9525.82\n",
      "Resample 3Min - TecAn ( windows 30, windows_limit 100 )\n",
      "Processing 999 of btcusd\n",
      "Downloaded from 2020-06-01 00:00:00 to 2020-06-03 01:57:00 9525.82\n",
      "Resample 3Min - TecAn ( windows 40, windows_limit 100 )\n",
      "Processing 999 of btcusd\n"
     ]
    },
    {
     "data": {
      "application/vnd.jupyter.widget-view+json": {
       "model_id": "75e846d4522b438495710629576a0010",
       "version_major": 2,
       "version_minor": 0
      },
      "text/plain": [
       "  0%|          | 0/999 [00:00<?, ?it/s]"
      ]
     },
     "metadata": {},
     "output_type": "display_data"
    },
    {
     "data": {
      "application/vnd.jupyter.widget-view+json": {
       "model_id": "478bc2f6f3c1439787d788e30dba1415",
       "version_major": 2,
       "version_minor": 0
      },
      "text/plain": [
       "  0%|          | 0/999 [00:00<?, ?it/s]"
      ]
     },
     "metadata": {},
     "output_type": "display_data"
    },
    {
     "name": "stdout",
     "output_type": "stream",
     "text": [
      "https://www.bitstamp.net/api/v2/ohlc/btcusd/ -> {'currency_pair': 'btcusd', 'step': 180, 'limit': 1000, 'start': 1559343600}\n",
      "https://www.bitstamp.net/api/v2/ohlc/btcusd/ -> {'currency_pair': 'btcusd', 'step': 180, 'limit': 1000, 'start': 1559343600}\n",
      "Downloaded from 2019-06-01 00:00:00 to 2019-06-03 01:57:00 8681.59\n",
      "Resample 3Min - TecAn ( windows 10, windows_limit 100 )\n",
      "Processing 999 of btcusd\n",
      "Downloaded from 2019-06-01 00:00:00 to 2019-06-03 01:57:00 8681.59\n",
      "Resample 3Min - TecAn ( windows 20, windows_limit 100 )\n",
      "Processing 999 of btcusd\n",
      "https://www.bitstamp.net/api/v2/ohlc/btcusd/ -> {'currency_pair': 'btcusd', 'step': 180, 'limit': 1000, 'start': 1559343600}\n",
      "Downloaded from 2019-06-01 00:00:00 to 2019-06-03 01:57:00 8681.59\n",
      "Resample 3Min - TecAn ( windows 5, windows_limit 100 )\n",
      "Processing 999 of btcusd\n",
      "https://www.bitstamp.net/api/v2/ohlc/btcusd/ -> {'currency_pair': 'btcusd', 'step': 180, 'limit': 1000, 'start': 1559343600}\n",
      "https://www.bitstamp.net/api/v2/ohlc/btcusd/ -> {'currency_pair': 'btcusd', 'step': 180, 'limit': 1000, 'start': 1559343600}\n",
      "Downloaded from 2019-06-01 00:00:00 to 2019-06-03 01:57:00 8681.59\n",
      "Resample 3Min - TecAn ( windows 30, windows_limit 100 )\n",
      "Processing 999 of btcusd\n"
     ]
    },
    {
     "data": {
      "application/vnd.jupyter.widget-view+json": {
       "model_id": "8465bacfc7fe4446bfa9e0cea826e2f0",
       "version_major": 2,
       "version_minor": 0
      },
      "text/plain": [
       "  0%|          | 0/999 [00:00<?, ?it/s]"
      ]
     },
     "metadata": {},
     "output_type": "display_data"
    },
    {
     "data": {
      "application/vnd.jupyter.widget-view+json": {
       "model_id": "57cd67c8c14843b1a2067bc982c30da5",
       "version_major": 2,
       "version_minor": 0
      },
      "text/plain": [
       "  0%|          | 0/999 [00:00<?, ?it/s]"
      ]
     },
     "metadata": {},
     "output_type": "display_data"
    },
    {
     "data": {
      "application/vnd.jupyter.widget-view+json": {
       "model_id": "fd974dbdda204508b280a53081a1462d",
       "version_major": 2,
       "version_minor": 0
      },
      "text/plain": [
       "  0%|          | 0/999 [00:00<?, ?it/s]"
      ]
     },
     "metadata": {},
     "output_type": "display_data"
    },
    {
     "data": {
      "application/vnd.jupyter.widget-view+json": {
       "model_id": "e1e3e955fec94cabbc1c8b6c56d9c7e8",
       "version_major": 2,
       "version_minor": 0
      },
      "text/plain": [
       "  0%|          | 0/999 [00:00<?, ?it/s]"
      ]
     },
     "metadata": {},
     "output_type": "display_data"
    },
    {
     "name": "stdout",
     "output_type": "stream",
     "text": [
      "Downloaded from 2019-06-01 00:00:00 to 2019-06-03 01:57:00 8681.59\n",
      "Resample 3Min - TecAn ( windows 40, windows_limit 100 )\n",
      "Processing 999 of btcusd\n"
     ]
    },
    {
     "data": {
      "application/vnd.jupyter.widget-view+json": {
       "model_id": "d3edef5989d74f049f5a89628a8e30f2",
       "version_major": 2,
       "version_minor": 0
      },
      "text/plain": [
       "  0%|          | 0/999 [00:00<?, ?it/s]"
      ]
     },
     "metadata": {},
     "output_type": "display_data"
    },
    {
     "name": "stdout",
     "output_type": "stream",
     "text": [
      "https://www.bitstamp.net/api/v2/ohlc/btcusd/ -> {'currency_pair': 'btcusd', 'step': 180, 'limit': 1000, 'start': 1527807600}\n",
      "Downloaded from 2018-06-01 00:00:00 to 2018-06-03 01:57:00 7653.99\n",
      "Resample 3Min - TecAn ( windows 30, windows_limit 100 )\n",
      "Processing 999 of btcusd\n",
      "https://www.bitstamp.net/api/v2/ohlc/btcusd/ -> {'currency_pair': 'btcusd', 'step': 180, 'limit': 1000, 'start': 1527807600}\n",
      "Downloaded from 2018-06-01 00:00:00 to 2018-06-03 01:57:00 7653.99\n",
      "Resample 3Min - TecAn ( windows 20, windows_limit 100 )\n",
      "Processing 999 of btcusd\n",
      "https://www.bitstamp.net/api/v2/ohlc/btcusd/ -> {'currency_pair': 'btcusd', 'step': 180, 'limit': 1000, 'start': 1527807600}\n",
      "Downloaded from 2018-06-01 00:00:00 to 2018-06-03 01:57:00 7653.99\n",
      "Resample 3Min - TecAn ( windows 10, windows_limit 100 )\n",
      "Processing 999 of btcusd\n",
      "https://www.bitstamp.net/api/v2/ohlc/btcusd/ -> {'currency_pair': 'btcusd', 'step': 180, 'limit': 1000, 'start': 1527807600}\n",
      "Downloaded from 2018-06-01 00:00:00 to 2018-06-03 01:57:00 7653.99\n",
      "Resample 3Min - TecAn ( windows 5, windows_limit 100 )\n",
      "Processing 999 of btcusd\n"
     ]
    },
    {
     "data": {
      "application/vnd.jupyter.widget-view+json": {
       "model_id": "60a5a2b3bc4143d881dd1a700a585b8c",
       "version_major": 2,
       "version_minor": 0
      },
      "text/plain": [
       "  0%|          | 0/999 [00:00<?, ?it/s]"
      ]
     },
     "metadata": {},
     "output_type": "display_data"
    },
    {
     "data": {
      "application/vnd.jupyter.widget-view+json": {
       "model_id": "8121fa38846247b4bacb03cae4344295",
       "version_major": 2,
       "version_minor": 0
      },
      "text/plain": [
       "  0%|          | 0/999 [00:00<?, ?it/s]"
      ]
     },
     "metadata": {},
     "output_type": "display_data"
    },
    {
     "data": {
      "application/vnd.jupyter.widget-view+json": {
       "model_id": "53f5b7e8aa224ba4905ae9bae2fb3d02",
       "version_major": 2,
       "version_minor": 0
      },
      "text/plain": [
       "  0%|          | 0/999 [00:00<?, ?it/s]"
      ]
     },
     "metadata": {},
     "output_type": "display_data"
    },
    {
     "data": {
      "application/vnd.jupyter.widget-view+json": {
       "model_id": "643b22d76a4642de81bf58e70af3276c",
       "version_major": 2,
       "version_minor": 0
      },
      "text/plain": [
       "  0%|          | 0/999 [00:00<?, ?it/s]"
      ]
     },
     "metadata": {},
     "output_type": "display_data"
    },
    {
     "name": "stdout",
     "output_type": "stream",
     "text": [
      "https://www.bitstamp.net/api/v2/ohlc/btcusd/ -> {'currency_pair': 'btcusd', 'step': 180, 'limit': 1000, 'start': 1527807600}\n",
      "Downloaded from 2018-06-01 00:00:00 to 2018-06-03 01:57:00 7653.99\n",
      "Resample 3Min - TecAn ( windows 40, windows_limit 100 )\n",
      "Processing 999 of btcusd\n"
     ]
    },
    {
     "data": {
      "application/vnd.jupyter.widget-view+json": {
       "model_id": "d7d87b0558d94b07ab0f45332164f5fc",
       "version_major": 2,
       "version_minor": 0
      },
      "text/plain": [
       "  0%|          | 0/999 [00:00<?, ?it/s]"
      ]
     },
     "metadata": {},
     "output_type": "display_data"
    },
    {
     "name": "stdout",
     "output_type": "stream",
     "text": [
      "https://www.bitstamp.net/api/v2/ohlc/btcusd/ -> {'currency_pair': 'btcusd', 'step': 180, 'limit': 1000, 'start': 1517443200}\n",
      "Downloaded from 2018-02-01 00:00:00 to 2018-02-03 01:57:00 8563.00\n",
      "Resample 3Min - TecAn ( windows 30, windows_limit 100 )\n",
      "Processing 999 of btcusdhttps://www.bitstamp.net/api/v2/ohlc/btcusd/ -> {'currency_pair': 'btcusd', 'step': 180, 'limit': 1000, 'start': 1517443200}\n",
      "\n",
      "Downloaded from 2018-02-01 00:00:00 to 2018-02-03 01:57:00 8563.00\n",
      "Resample 3Min - TecAn ( windows 20, windows_limit 100 )\n",
      "Processing 999 of btcusd\n",
      "https://www.bitstamp.net/api/v2/ohlc/btcusd/ -> {'currency_pair': 'btcusd', 'step': 180, 'limit': 1000, 'start': 1517443200}\n",
      "Downloaded from 2018-02-01 00:00:00 to 2018-02-03 01:57:00 8563.00\n",
      "Resample 3Min - TecAn ( windows 10, windows_limit 100 )\n",
      "Processing 999 of btcusd\n",
      "https://www.bitstamp.net/api/v2/ohlc/btcusd/ -> {'currency_pair': 'btcusd', 'step': 180, 'limit': 1000, 'start': 1517443200}\n",
      "Downloaded from 2018-02-01 00:00:00 to 2018-02-03 01:57:00 8563.00\n",
      "Resample 3Min - TecAn ( windows 5, windows_limit 100 )\n",
      "Processing 999 of btcusd\n"
     ]
    },
    {
     "data": {
      "application/vnd.jupyter.widget-view+json": {
       "model_id": "2cad375496084ec2afbe818c9bb8acfe",
       "version_major": 2,
       "version_minor": 0
      },
      "text/plain": [
       "  0%|          | 0/999 [00:00<?, ?it/s]"
      ]
     },
     "metadata": {},
     "output_type": "display_data"
    },
    {
     "data": {
      "application/vnd.jupyter.widget-view+json": {
       "model_id": "83f32f92691d4d9b99e51bad155a6bad",
       "version_major": 2,
       "version_minor": 0
      },
      "text/plain": [
       "  0%|          | 0/999 [00:00<?, ?it/s]"
      ]
     },
     "metadata": {},
     "output_type": "display_data"
    },
    {
     "data": {
      "application/vnd.jupyter.widget-view+json": {
       "model_id": "4269ef684f55493e9edb2a07a56a5a11",
       "version_major": 2,
       "version_minor": 0
      },
      "text/plain": [
       "  0%|          | 0/999 [00:00<?, ?it/s]"
      ]
     },
     "metadata": {},
     "output_type": "display_data"
    },
    {
     "data": {
      "application/vnd.jupyter.widget-view+json": {
       "model_id": "bdfad1bb5a474b4bbb805d373a690042",
       "version_major": 2,
       "version_minor": 0
      },
      "text/plain": [
       "  0%|          | 0/999 [00:00<?, ?it/s]"
      ]
     },
     "metadata": {},
     "output_type": "display_data"
    },
    {
     "name": "stdout",
     "output_type": "stream",
     "text": [
      "https://www.bitstamp.net/api/v2/ohlc/btcusd/ -> {'currency_pair': 'btcusd', 'step': 180, 'limit': 1000, 'start': 1517443200}\n",
      "Downloaded from 2018-02-01 00:00:00 to 2018-02-03 01:57:00 8563.00\n",
      "Resample 3Min - TecAn ( windows 40, windows_limit 100 )\n",
      "Processing 999 of btcusd\n"
     ]
    },
    {
     "data": {
      "application/vnd.jupyter.widget-view+json": {
       "model_id": "18fce734bb444a858b71bc9f90dbf1b5",
       "version_major": 2,
       "version_minor": 0
      },
      "text/plain": [
       "  0%|          | 0/999 [00:00<?, ?it/s]"
      ]
     },
     "metadata": {},
     "output_type": "display_data"
    },
    {
     "name": "stdout",
     "output_type": "stream",
     "text": [
      "https://www.bitstamp.net/api/v2/ohlc/btcusd/ -> {'currency_pair': 'btcusd', 'step': 180, 'limit': 1000, 'start': 1548979200}\n",
      "https://www.bitstamp.net/api/v2/ohlc/btcusd/ -> {'currency_pair': 'btcusd', 'step': 180, 'limit': 1000, 'start': 1548979200}\n",
      "Downloaded from 2019-02-01 00:00:00 to 2019-02-03 01:57:00 3448.32\n",
      "Resample 3Min - TecAn ( windows 30, windows_limit 100 )\n",
      "Processing 999 of btcusd\n",
      "https://www.bitstamp.net/api/v2/ohlc/btcusd/ -> {'currency_pair': 'btcusd', 'step': 180, 'limit': 1000, 'start': 1548979200}\n",
      "Downloaded from 2019-02-01 00:00:00 to 2019-02-03 01:57:00 3448.32\n",
      "Resample 3Min - TecAn ( windows 10, windows_limit 100 )\n",
      "Processing 999 of btcusd\n",
      "Downloaded from 2019-02-01 00:00:00 to 2019-02-03 01:57:00 3448.32\n",
      "Resample 3Min - TecAn ( windows 20, windows_limit 100 )\n",
      "Processing 999 of btcusd\n"
     ]
    },
    {
     "data": {
      "application/vnd.jupyter.widget-view+json": {
       "model_id": "e224b367048447628b5e159811583384",
       "version_major": 2,
       "version_minor": 0
      },
      "text/plain": [
       "  0%|          | 0/999 [00:00<?, ?it/s]"
      ]
     },
     "metadata": {},
     "output_type": "display_data"
    },
    {
     "data": {
      "application/vnd.jupyter.widget-view+json": {
       "model_id": "a679bf26f10b4afba856e6672f00716a",
       "version_major": 2,
       "version_minor": 0
      },
      "text/plain": [
       "  0%|          | 0/999 [00:00<?, ?it/s]"
      ]
     },
     "metadata": {},
     "output_type": "display_data"
    },
    {
     "data": {
      "application/vnd.jupyter.widget-view+json": {
       "model_id": "8285d6d7ac3247cd9f073675ccb69302",
       "version_major": 2,
       "version_minor": 0
      },
      "text/plain": [
       "  0%|          | 0/999 [00:00<?, ?it/s]"
      ]
     },
     "metadata": {},
     "output_type": "display_data"
    },
    {
     "name": "stdout",
     "output_type": "stream",
     "text": [
      "https://www.bitstamp.net/api/v2/ohlc/btcusd/ -> {'currency_pair': 'btcusd', 'step': 180, 'limit': 1000, 'start': 1548979200}\n",
      "https://www.bitstamp.net/api/v2/ohlc/btcusd/ -> {'currency_pair': 'btcusd', 'step': 180, 'limit': 1000, 'start': 1548979200}\n",
      "Downloaded from 2019-02-01 00:00:00 to 2019-02-03 01:57:00 3448.32\n",
      "Resample 3Min - TecAn ( windows 5, windows_limit 100 )\n",
      "Processing 999 of btcusd\n",
      "Downloaded from 2019-02-01 00:00:00 to 2019-02-03 01:57:00 3448.32\n",
      "Resample 3Min - TecAn ( windows 40, windows_limit 100 )\n",
      "Processing 999 of btcusd\n"
     ]
    },
    {
     "data": {
      "application/vnd.jupyter.widget-view+json": {
       "model_id": "bb1bafd2deeb4c8d9d53c2c89926cbc5",
       "version_major": 2,
       "version_minor": 0
      },
      "text/plain": [
       "  0%|          | 0/999 [00:00<?, ?it/s]"
      ]
     },
     "metadata": {},
     "output_type": "display_data"
    },
    {
     "data": {
      "application/vnd.jupyter.widget-view+json": {
       "model_id": "7cdfff88ff5f43bdb4198d824408f47e",
       "version_major": 2,
       "version_minor": 0
      },
      "text/plain": [
       "  0%|          | 0/999 [00:00<?, ?it/s]"
      ]
     },
     "metadata": {},
     "output_type": "display_data"
    },
    {
     "name": "stdout",
     "output_type": "stream",
     "text": [
      "https://www.bitstamp.net/api/v2/ohlc/btcusd/ -> {'currency_pair': 'btcusd', 'step': 180, 'limit': 1000, 'start': 1580515200}\n",
      "https://www.bitstamp.net/api/v2/ohlc/btcusd/ -> {'currency_pair': 'btcusd', 'step': 180, 'limit': 1000, 'start': 1580515200}\n",
      "https://www.bitstamp.net/api/v2/ohlc/btcusd/ -> {'currency_pair': 'btcusd', 'step': 180, 'limit': 1000, 'start': 1580515200}\n",
      "Downloaded from 2020-02-01 00:00:00 to 2020-02-03 01:57:00 9540.01\n",
      "Resample 3Min - TecAn ( windows 30, windows_limit 100 )\n",
      "Processing 999 of btcusd\n",
      "Downloaded from 2020-02-01 00:00:00 to 2020-02-03 01:57:00 9540.01\n",
      "Resample 3Min - TecAn ( windows 20, windows_limit 100 )\n",
      "Downloaded from 2020-02-01 00:00:00 to 2020-02-03 01:57:00 9540.01Processing 999 of btcusd\n",
      "\n",
      "Resample 3Min - TecAn ( windows 10, windows_limit 100 )\n",
      "Processing 999 of btcusd\n"
     ]
    },
    {
     "data": {
      "application/vnd.jupyter.widget-view+json": {
       "model_id": "3d36637f99cd4c768e4f5f1cbdec8243",
       "version_major": 2,
       "version_minor": 0
      },
      "text/plain": [
       "  0%|          | 0/999 [00:00<?, ?it/s]"
      ]
     },
     "metadata": {},
     "output_type": "display_data"
    },
    {
     "data": {
      "application/vnd.jupyter.widget-view+json": {
       "model_id": "8a1e66167881410294701d458bbf8cd1",
       "version_major": 2,
       "version_minor": 0
      },
      "text/plain": [
       "  0%|          | 0/999 [00:00<?, ?it/s]"
      ]
     },
     "metadata": {},
     "output_type": "display_data"
    },
    {
     "data": {
      "application/vnd.jupyter.widget-view+json": {
       "model_id": "23e410acb8fc480bb667463094cd4882",
       "version_major": 2,
       "version_minor": 0
      },
      "text/plain": [
       "  0%|          | 0/999 [00:00<?, ?it/s]"
      ]
     },
     "metadata": {},
     "output_type": "display_data"
    },
    {
     "name": "stdout",
     "output_type": "stream",
     "text": [
      "https://www.bitstamp.net/api/v2/ohlc/btcusd/ -> {'currency_pair': 'btcusd', 'step': 180, 'limit': 1000, 'start': 1580515200}\n",
      "https://www.bitstamp.net/api/v2/ohlc/btcusd/ -> {'currency_pair': 'btcusd', 'step': 180, 'limit': 1000, 'start': 1580515200}\n",
      "Downloaded from 2020-02-01 00:00:00 to 2020-02-03 01:57:00 9540.01\n",
      "Resample 3Min - TecAn ( windows 40, windows_limit 100 )\n",
      "Processing 999 of btcusd\n",
      "Downloaded from 2020-02-01 00:00:00 to 2020-02-03 01:57:00 9540.01\n",
      "Resample 3Min - TecAn ( windows 5, windows_limit 100 )\n",
      "Processing 999 of btcusd\n"
     ]
    },
    {
     "data": {
      "application/vnd.jupyter.widget-view+json": {
       "model_id": "8b647793a73d4492a5516d67e50100be",
       "version_major": 2,
       "version_minor": 0
      },
      "text/plain": [
       "  0%|          | 0/999 [00:00<?, ?it/s]"
      ]
     },
     "metadata": {},
     "output_type": "display_data"
    },
    {
     "data": {
      "application/vnd.jupyter.widget-view+json": {
       "model_id": "bac67940a4964f13b7e33b247c9b3920",
       "version_major": 2,
       "version_minor": 0
      },
      "text/plain": [
       "  0%|          | 0/999 [00:00<?, ?it/s]"
      ]
     },
     "metadata": {},
     "output_type": "display_data"
    },
    {
     "name": "stdout",
     "output_type": "stream",
     "text": [
      "https://www.bitstamp.net/api/v2/ohlc/btcusd/ -> {'currency_pair': 'btcusd', 'step': 180, 'limit': 1000, 'start': 1612137600}\n",
      "Downloaded from 2021-02-01 00:00:00 to 2021-02-03 01:57:00 35892.89\n",
      "Resample 3Min - TecAn ( windows 30, windows_limit 100 )\n",
      "Processing 999 of btcusd\n",
      "https://www.bitstamp.net/api/v2/ohlc/btcusd/ -> {'currency_pair': 'btcusd', 'step': 180, 'limit': 1000, 'start': 1612137600}\n",
      "https://www.bitstamp.net/api/v2/ohlc/btcusd/ -> {'currency_pair': 'btcusd', 'step': 180, 'limit': 1000, 'start': 1612137600}\n",
      "Downloaded from 2021-02-01 00:00:00 to 2021-02-03 01:57:00 35892.89\n",
      "Resample 3Min - TecAn ( windows 10, windows_limit 100 )\n",
      "Processing 999 of btcusd\n",
      "Downloaded from 2021-02-01 00:00:00 to 2021-02-03 01:57:00 35892.89\n",
      "Resample 3Min - TecAn ( windows 20, windows_limit 100 )\n",
      "Processing 999 of btcusd\n",
      "https://www.bitstamp.net/api/v2/ohlc/btcusd/ -> {'currency_pair': 'btcusd', 'step': 180, 'limit': 1000, 'start': 1612137600}\n",
      "Downloaded from 2021-02-01 00:00:00 to 2021-02-03 01:57:00 35892.89\n",
      "Resample 3Min - TecAn ( windows 40, windows_limit 100 )\n",
      "Processing 999 of btcusd\n"
     ]
    },
    {
     "data": {
      "application/vnd.jupyter.widget-view+json": {
       "model_id": "6a45e189423e484b9d8964ccc0ce016d",
       "version_major": 2,
       "version_minor": 0
      },
      "text/plain": [
       "  0%|          | 0/999 [00:00<?, ?it/s]"
      ]
     },
     "metadata": {},
     "output_type": "display_data"
    },
    {
     "data": {
      "application/vnd.jupyter.widget-view+json": {
       "model_id": "5f68388325b94ac98b2f035d6767bd46",
       "version_major": 2,
       "version_minor": 0
      },
      "text/plain": [
       "  0%|          | 0/999 [00:00<?, ?it/s]"
      ]
     },
     "metadata": {},
     "output_type": "display_data"
    },
    {
     "data": {
      "application/vnd.jupyter.widget-view+json": {
       "model_id": "e0bf848f27ff4a9895f6327ba371446e",
       "version_major": 2,
       "version_minor": 0
      },
      "text/plain": [
       "  0%|          | 0/999 [00:00<?, ?it/s]"
      ]
     },
     "metadata": {},
     "output_type": "display_data"
    },
    {
     "data": {
      "application/vnd.jupyter.widget-view+json": {
       "model_id": "273b9e472cbe4e22a35cb37ef1d65a05",
       "version_major": 2,
       "version_minor": 0
      },
      "text/plain": [
       "  0%|          | 0/999 [00:00<?, ?it/s]"
      ]
     },
     "metadata": {},
     "output_type": "display_data"
    },
    {
     "name": "stdout",
     "output_type": "stream",
     "text": [
      "https://www.bitstamp.net/api/v2/ohlc/btcusd/ -> {'currency_pair': 'btcusd', 'step': 180, 'limit': 1000, 'start': 1612137600}\n",
      "Downloaded from 2021-02-01 00:00:00 to 2021-02-03 01:57:00 35892.89\n",
      "Resample 3Min - TecAn ( windows 5, windows_limit 100 )\n",
      "Processing 999 of btcusd\n"
     ]
    },
    {
     "data": {
      "application/vnd.jupyter.widget-view+json": {
       "model_id": "a78df79b14bf4f2caa95953ea4da8d15",
       "version_major": 2,
       "version_minor": 0
      },
      "text/plain": [
       "  0%|          | 0/999 [00:00<?, ?it/s]"
      ]
     },
     "metadata": {},
     "output_type": "display_data"
    },
    {
     "name": "stdout",
     "output_type": "stream",
     "text": [
      "https://www.bitstamp.net/api/v2/ohlc/btcusd/ -> {'currency_pair': 'btcusd', 'step': 180, 'limit': 1000, 'start': 1626340500, 'end': 1626369600}\n",
      "Downloaded from 2021-07-13 16:21:00 to 2021-07-15 18:18:00 31279.67\n",
      "Resample 3Min - TecAn ( windows 40, windows_limit 100 )\n",
      "Processing 999 of btcusd\n",
      "https://www.bitstamp.net/api/v2/ohlc/btcusd/ -> {'currency_pair': 'btcusd', 'step': 180, 'limit': 1000, 'start': 1626340500, 'end': 1626369600}\n",
      "https://www.bitstamp.net/api/v2/ohlc/btcusd/ -> {'currency_pair': 'btcusd', 'step': 180, 'limit': 1000, 'start': 1626340500, 'end': 1626369600}\n",
      "https://www.bitstamp.net/api/v2/ohlc/btcusd/ -> {'currency_pair': 'btcusd', 'step': 180, 'limit': 1000, 'start': 1626340500, 'end': 1626369600}\n",
      "Downloaded from 2021-07-13 16:21:00 to 2021-07-15 18:18:00 31279.67\n",
      "Resample 3Min - TecAn ( windows 20, windows_limit 100 )\n",
      "Processing 999 of btcusd\n",
      "Downloaded from 2021-07-13 16:21:00 to 2021-07-15 18:18:00 31279.67\n",
      "Resample 3Min - TecAn ( windows 30, windows_limit 100 )Downloaded from 2021-07-13 16:21:00 to 2021-07-15 18:18:00 31279.67\n",
      "Processing 999 of btcusd\n",
      "\n",
      "Resample 3Min - TecAn ( windows 10, windows_limit 100 )\n",
      "Processing 999 of btcusd\n"
     ]
    },
    {
     "data": {
      "application/vnd.jupyter.widget-view+json": {
       "model_id": "1c47ad42e89c4df1ad3902cc9ed70033",
       "version_major": 2,
       "version_minor": 0
      },
      "text/plain": [
       "  0%|          | 0/999 [00:00<?, ?it/s]"
      ]
     },
     "metadata": {},
     "output_type": "display_data"
    },
    {
     "data": {
      "application/vnd.jupyter.widget-view+json": {
       "model_id": "38e7531a1a47494e8123424fe0a263fe",
       "version_major": 2,
       "version_minor": 0
      },
      "text/plain": [
       "  0%|          | 0/999 [00:00<?, ?it/s]"
      ]
     },
     "metadata": {},
     "output_type": "display_data"
    },
    {
     "data": {
      "application/vnd.jupyter.widget-view+json": {
       "model_id": "04c22a50363f4050a11f853f644fc45e",
       "version_major": 2,
       "version_minor": 0
      },
      "text/plain": [
       "  0%|          | 0/999 [00:00<?, ?it/s]"
      ]
     },
     "metadata": {},
     "output_type": "display_data"
    },
    {
     "data": {
      "application/vnd.jupyter.widget-view+json": {
       "model_id": "88ce8909156a4f4b802d08030d1c0b83",
       "version_major": 2,
       "version_minor": 0
      },
      "text/plain": [
       "  0%|          | 0/999 [00:00<?, ?it/s]"
      ]
     },
     "metadata": {},
     "output_type": "display_data"
    },
    {
     "name": "stdout",
     "output_type": "stream",
     "text": [
      "https://www.bitstamp.net/api/v2/ohlc/btcusd/ -> {'currency_pair': 'btcusd', 'step': 180, 'limit': 1000, 'start': 1626340500, 'end': 1626369600}\n",
      "Downloaded from 2021-07-13 16:21:00 to 2021-07-15 18:18:00 31279.67\n",
      "Resample 3Min - TecAn ( windows 5, windows_limit 100 )\n",
      "Processing 999 of btcusd\n"
     ]
    },
    {
     "data": {
      "application/vnd.jupyter.widget-view+json": {
       "model_id": "cf9695aad0aa4242a3fdd872c95060df",
       "version_major": 2,
       "version_minor": 0
      },
      "text/plain": [
       "  0%|          | 0/999 [00:00<?, ?it/s]"
      ]
     },
     "metadata": {},
     "output_type": "display_data"
    },
    {
     "name": "stdout",
     "output_type": "stream",
     "text": [
      "https://www.bitstamp.net/api/v2/ohlc/btcusd/ -> {'currency_pair': 'btcusd', 'step': 60, 'limit': 1000, 'start': 1622502000}\n",
      "Downloaded from 2021-06-01 00:00:00 to 2021-06-01 16:39:00 36197.21\n",
      "Resample 1Min - TecAn ( windows 5, windows_limit 100 )\n",
      "Processing 999 of btcusd\n"
     ]
    },
    {
     "data": {
      "application/vnd.jupyter.widget-view+json": {
       "model_id": "7d121320c35045158f99b952891dab09",
       "version_major": 2,
       "version_minor": 0
      },
      "text/plain": [
       "  0%|          | 0/999 [00:00<?, ?it/s]"
      ]
     },
     "metadata": {},
     "output_type": "display_data"
    },
    {
     "name": "stdout",
     "output_type": "stream",
     "text": [
      "https://www.bitstamp.net/api/v2/ohlc/btcusd/ -> {'currency_pair': 'btcusd', 'step': 60, 'limit': 1000, 'start': 1622502000}\n",
      "Downloaded from 2021-06-01 00:00:00 to 2021-06-01 16:39:00 36197.21\n",
      "Resample 1Min - TecAn ( windows 10, windows_limit 100 )\n",
      "Processing 999 of btcusd\n",
      "https://www.bitstamp.net/api/v2/ohlc/btcusd/ -> {'currency_pair': 'btcusd', 'step': 60, 'limit': 1000, 'start': 1622502000}\n"
     ]
    },
    {
     "data": {
      "application/vnd.jupyter.widget-view+json": {
       "model_id": "96123908920e44779d35f8ea5d363988",
       "version_major": 2,
       "version_minor": 0
      },
      "text/plain": [
       "  0%|          | 0/999 [00:00<?, ?it/s]"
      ]
     },
     "metadata": {},
     "output_type": "display_data"
    },
    {
     "name": "stdout",
     "output_type": "stream",
     "text": [
      "https://www.bitstamp.net/api/v2/ohlc/btcusd/ -> {'currency_pair': 'btcusd', 'step': 60, 'limit': 1000, 'start': 1622502000}\n",
      "Downloaded from 2021-06-01 00:00:00 to 2021-06-01 16:39:00 36197.21\n",
      "Resample 1Min - TecAn ( windows 20, windows_limit 100 )\n",
      "Processing 999 of btcusd\n",
      "https://www.bitstamp.net/api/v2/ohlc/btcusd/ -> {'currency_pair': 'btcusd', 'step': 60, 'limit': 1000, 'start': 1622502000}\n",
      "Downloaded from 2021-06-01 00:00:00 to 2021-06-01 16:39:00 36197.21\n",
      "Resample 1Min - TecAn ( windows 30, windows_limit 100 )\n",
      "Processing 999 of btcusd\n",
      "Downloaded from 2021-06-01 00:00:00 to 2021-06-01 16:39:00 36197.21\n",
      "Resample 1Min - TecAn ( windows 40, windows_limit 100 )\n",
      "Processing 999 of btcusd\n"
     ]
    },
    {
     "data": {
      "application/vnd.jupyter.widget-view+json": {
       "model_id": "8402e63da3da40919fcfee94afa6fe00",
       "version_major": 2,
       "version_minor": 0
      },
      "text/plain": [
       "  0%|          | 0/999 [00:00<?, ?it/s]"
      ]
     },
     "metadata": {},
     "output_type": "display_data"
    },
    {
     "data": {
      "application/vnd.jupyter.widget-view+json": {
       "model_id": "4ac68efd004649b2909226320cbd76bc",
       "version_major": 2,
       "version_minor": 0
      },
      "text/plain": [
       "  0%|          | 0/999 [00:00<?, ?it/s]"
      ]
     },
     "metadata": {},
     "output_type": "display_data"
    },
    {
     "data": {
      "application/vnd.jupyter.widget-view+json": {
       "model_id": "3912df3d5bf34f339ab0eaf4b1b0eb52",
       "version_major": 2,
       "version_minor": 0
      },
      "text/plain": [
       "  0%|          | 0/999 [00:00<?, ?it/s]"
      ]
     },
     "metadata": {},
     "output_type": "display_data"
    },
    {
     "name": "stdout",
     "output_type": "stream",
     "text": [
      "https://www.bitstamp.net/api/v2/ohlc/btcusd/ -> {'currency_pair': 'btcusd', 'step': 60, 'limit': 1000, 'start': 1590966000}\n",
      "https://www.bitstamp.net/api/v2/ohlc/btcusd/ -> {'currency_pair': 'btcusd', 'step': 60, 'limit': 1000, 'start': 1590966000}\n",
      "Downloaded from 2020-06-01 00:00:00 to 2020-06-01 16:39:00 9542.01\n",
      "Resample 1Min - TecAn ( windows 5, windows_limit 100 )\n",
      "Processing 999 of btcusd\n",
      "Downloaded from 2020-06-01 00:00:00 to 2020-06-01 16:39:00 9542.01\n",
      "Resample 1Min - TecAn ( windows 10, windows_limit 100 )\n",
      "Processing 999 of btcusd\n"
     ]
    },
    {
     "data": {
      "application/vnd.jupyter.widget-view+json": {
       "model_id": "81bda7a6904c45918bc004bb24bd8e20",
       "version_major": 2,
       "version_minor": 0
      },
      "text/plain": [
       "  0%|          | 0/999 [00:00<?, ?it/s]"
      ]
     },
     "metadata": {},
     "output_type": "display_data"
    },
    {
     "data": {
      "application/vnd.jupyter.widget-view+json": {
       "model_id": "3b2fc1a8c4974252908bb89e569385ef",
       "version_major": 2,
       "version_minor": 0
      },
      "text/plain": [
       "  0%|          | 0/999 [00:00<?, ?it/s]"
      ]
     },
     "metadata": {},
     "output_type": "display_data"
    },
    {
     "name": "stdout",
     "output_type": "stream",
     "text": [
      "https://www.bitstamp.net/api/v2/ohlc/btcusd/ -> {'currency_pair': 'btcusd', 'step': 60, 'limit': 1000, 'start': 1590966000}\n",
      "Downloaded from 2020-06-01 00:00:00 to 2020-06-01 16:39:00 9542.01\n",
      "Resample 1Min - TecAn ( windows 20, windows_limit 100 )\n",
      "Processing 999 of btcusd\n"
     ]
    },
    {
     "data": {
      "application/vnd.jupyter.widget-view+json": {
       "model_id": "c1d22c1820df478899fa64e5e6edc4d4",
       "version_major": 2,
       "version_minor": 0
      },
      "text/plain": [
       "  0%|          | 0/999 [00:00<?, ?it/s]"
      ]
     },
     "metadata": {},
     "output_type": "display_data"
    },
    {
     "name": "stdout",
     "output_type": "stream",
     "text": [
      "https://www.bitstamp.net/api/v2/ohlc/btcusd/ -> {'currency_pair': 'btcusd', 'step': 60, 'limit': 1000, 'start': 1590966000}\n",
      "Downloaded from 2020-06-01 00:00:00 to 2020-06-01 16:39:00 9542.01\n",
      "Resample 1Min - TecAn ( windows 30, windows_limit 100 )\n",
      "Processing 999 of btcusd\n",
      "https://www.bitstamp.net/api/v2/ohlc/btcusd/ -> {'currency_pair': 'btcusd', 'step': 60, 'limit': 1000, 'start': 1590966000}\n",
      "Downloaded from 2020-06-01 00:00:00 to 2020-06-01 16:39:00 9542.01\n",
      "Resample 1Min - TecAn ( windows 40, windows_limit 100 )\n",
      "Processing 999 of btcusd\n"
     ]
    },
    {
     "data": {
      "application/vnd.jupyter.widget-view+json": {
       "model_id": "9eac0ca517494e67aa5b8cfcd2fa6bb5",
       "version_major": 2,
       "version_minor": 0
      },
      "text/plain": [
       "  0%|          | 0/999 [00:00<?, ?it/s]"
      ]
     },
     "metadata": {},
     "output_type": "display_data"
    },
    {
     "data": {
      "application/vnd.jupyter.widget-view+json": {
       "model_id": "e4f0cf116d60418f9dce026a18207ed7",
       "version_major": 2,
       "version_minor": 0
      },
      "text/plain": [
       "  0%|          | 0/999 [00:00<?, ?it/s]"
      ]
     },
     "metadata": {},
     "output_type": "display_data"
    },
    {
     "name": "stdout",
     "output_type": "stream",
     "text": [
      "https://www.bitstamp.net/api/v2/ohlc/btcusd/ -> {'currency_pair': 'btcusd', 'step': 60, 'limit': 1000, 'start': 1559343600}\n",
      "Downloaded from 2019-06-01 00:00:00 to 2019-06-01 16:39:00 8532.29\n",
      "Resample 1Min - TecAn ( windows 5, windows_limit 100 )\n",
      "Processing 999 of btcusd\n",
      "https://www.bitstamp.net/api/v2/ohlc/btcusd/ -> {'currency_pair': 'btcusd', 'step': 60, 'limit': 1000, 'start': 1559343600}\n",
      "Downloaded from 2019-06-01 00:00:00 to 2019-06-01 16:39:00 8532.29\n",
      "Resample 1Min - TecAn ( windows 10, windows_limit 100 )\n",
      "Processing 999 of btcusd\n",
      "https://www.bitstamp.net/api/v2/ohlc/btcusd/ -> {'currency_pair': 'btcusd', 'step': 60, 'limit': 1000, 'start': 1559343600}\n",
      "Downloaded from 2019-06-01 00:00:00 to 2019-06-01 16:39:00 8532.29\n",
      "Resample 1Min - TecAn ( windows 20, windows_limit 100 )\n",
      "Processing 999 of btcusd\n"
     ]
    },
    {
     "data": {
      "application/vnd.jupyter.widget-view+json": {
       "model_id": "92a94d119705479ab49be42eb18efd5a",
       "version_major": 2,
       "version_minor": 0
      },
      "text/plain": [
       "  0%|          | 0/999 [00:00<?, ?it/s]"
      ]
     },
     "metadata": {},
     "output_type": "display_data"
    },
    {
     "data": {
      "application/vnd.jupyter.widget-view+json": {
       "model_id": "0af697c5ae5e45fea99aa9a2e478f0d8",
       "version_major": 2,
       "version_minor": 0
      },
      "text/plain": [
       "  0%|          | 0/999 [00:00<?, ?it/s]"
      ]
     },
     "metadata": {},
     "output_type": "display_data"
    },
    {
     "data": {
      "application/vnd.jupyter.widget-view+json": {
       "model_id": "be6b07563b564aea830f624f944921ac",
       "version_major": 2,
       "version_minor": 0
      },
      "text/plain": [
       "  0%|          | 0/999 [00:00<?, ?it/s]"
      ]
     },
     "metadata": {},
     "output_type": "display_data"
    },
    {
     "name": "stdout",
     "output_type": "stream",
     "text": [
      "https://www.bitstamp.net/api/v2/ohlc/btcusd/ -> {'currency_pair': 'btcusd', 'step': 60, 'limit': 1000, 'start': 1559343600}\n",
      "https://www.bitstamp.net/api/v2/ohlc/btcusd/ -> {'currency_pair': 'btcusd', 'step': 60, 'limit': 1000, 'start': 1559343600}\n",
      "Downloaded from 2019-06-01 00:00:00 to 2019-06-01 16:39:00 8532.29\n",
      "Resample 1Min - TecAn ( windows 30, windows_limit 100 )\n",
      "Processing 999 of btcusd\n",
      "Downloaded from 2019-06-01 00:00:00 to 2019-06-01 16:39:00 8532.29\n",
      "Resample 1Min - TecAn ( windows 40, windows_limit 100 )\n",
      "Processing 999 of btcusd\n"
     ]
    },
    {
     "data": {
      "application/vnd.jupyter.widget-view+json": {
       "model_id": "f2072f0c1676476f828835b90f088bf7",
       "version_major": 2,
       "version_minor": 0
      },
      "text/plain": [
       "  0%|          | 0/999 [00:00<?, ?it/s]"
      ]
     },
     "metadata": {},
     "output_type": "display_data"
    },
    {
     "data": {
      "application/vnd.jupyter.widget-view+json": {
       "model_id": "78ba0f42622a48cf8d7735593587de09",
       "version_major": 2,
       "version_minor": 0
      },
      "text/plain": [
       "  0%|          | 0/999 [00:00<?, ?it/s]"
      ]
     },
     "metadata": {},
     "output_type": "display_data"
    },
    {
     "name": "stdout",
     "output_type": "stream",
     "text": [
      "https://www.bitstamp.net/api/v2/ohlc/btcusd/ -> {'currency_pair': 'btcusd', 'step': 60, 'limit': 1000, 'start': 1527807600}\n",
      "Downloaded from 2018-06-01 00:00:00 to 2018-06-01 16:39:00 7437.99\n",
      "Resample 1Min - TecAn ( windows 5, windows_limit 100 )\n",
      "Processing 999 of btcusd\n",
      "https://www.bitstamp.net/api/v2/ohlc/btcusd/ -> {'currency_pair': 'btcusd', 'step': 60, 'limit': 1000, 'start': 1527807600}\n",
      "Downloaded from 2018-06-01 00:00:00 to 2018-06-01 16:39:00 7437.99\n",
      "Resample 1Min - TecAn ( windows 10, windows_limit 100 )\n",
      "Processing 999 of btcusd\n"
     ]
    },
    {
     "data": {
      "application/vnd.jupyter.widget-view+json": {
       "model_id": "4f8d9a73482a4155924c1379e6178572",
       "version_major": 2,
       "version_minor": 0
      },
      "text/plain": [
       "  0%|          | 0/999 [00:00<?, ?it/s]"
      ]
     },
     "metadata": {},
     "output_type": "display_data"
    },
    {
     "name": "stdout",
     "output_type": "stream",
     "text": [
      "https://www.bitstamp.net/api/v2/ohlc/btcusd/ -> {'currency_pair': 'btcusd', 'step': 60, 'limit': 1000, 'start': 1527807600}\n",
      "Downloaded from 2018-06-01 00:00:00 to 2018-06-01 16:39:00 7437.99\n",
      "Resample 1Min - TecAn ( windows 20, windows_limit 100 )\n",
      "Processing 999 of btcusd\n",
      "https://www.bitstamp.net/api/v2/ohlc/btcusd/ -> {'currency_pair': 'btcusd', 'step': 60, 'limit': 1000, 'start': 1527807600}\n",
      "Downloaded from 2018-06-01 00:00:00 to 2018-06-01 16:39:00 7437.99\n",
      "Resample 1Min - TecAn ( windows 40, windows_limit 100 )\n",
      "Processing 999 of btcusd\n",
      "https://www.bitstamp.net/api/v2/ohlc/btcusd/ -> {'currency_pair': 'btcusd', 'step': 60, 'limit': 1000, 'start': 1527807600}\n"
     ]
    },
    {
     "data": {
      "application/vnd.jupyter.widget-view+json": {
       "model_id": "218a50f9bb9b4d70930826ea571a1a17",
       "version_major": 2,
       "version_minor": 0
      },
      "text/plain": [
       "  0%|          | 0/999 [00:00<?, ?it/s]"
      ]
     },
     "metadata": {},
     "output_type": "display_data"
    },
    {
     "name": "stdout",
     "output_type": "stream",
     "text": [
      "Downloaded from 2018-06-01 00:00:00 to 2018-06-01 16:39:00 7437.99\n",
      "Resample 1Min - TecAn ( windows 30, windows_limit 100 )\n",
      "Processing 999 of btcusd\n"
     ]
    },
    {
     "data": {
      "application/vnd.jupyter.widget-view+json": {
       "model_id": "3c307d3e1e7149d8a2c4fb4294f94daf",
       "version_major": 2,
       "version_minor": 0
      },
      "text/plain": [
       "  0%|          | 0/999 [00:00<?, ?it/s]"
      ]
     },
     "metadata": {},
     "output_type": "display_data"
    },
    {
     "data": {
      "application/vnd.jupyter.widget-view+json": {
       "model_id": "707ba96653bc43618638a4b28cc64a3b",
       "version_major": 2,
       "version_minor": 0
      },
      "text/plain": [
       "  0%|          | 0/999 [00:00<?, ?it/s]"
      ]
     },
     "metadata": {},
     "output_type": "display_data"
    },
    {
     "data": {
      "application/vnd.jupyter.widget-view+json": {
       "model_id": "6b7147de267149e38d8e880356dcb3b9",
       "version_major": 2,
       "version_minor": 0
      },
      "text/plain": [
       "  0%|          | 0/999 [00:00<?, ?it/s]"
      ]
     },
     "metadata": {},
     "output_type": "display_data"
    },
    {
     "name": "stdout",
     "output_type": "stream",
     "text": [
      "https://www.bitstamp.net/api/v2/ohlc/btcusd/ -> {'currency_pair': 'btcusd', 'step': 60, 'limit': 1000, 'start': 1517443200}\n",
      "Downloaded from 2018-02-01 00:00:00 to 2018-02-01 16:39:00 8850.34\n",
      "Resample 1Min - TecAn ( windows 5, windows_limit 100 )\n",
      "Processing 999 of btcusd\n",
      "https://www.bitstamp.net/api/v2/ohlc/btcusd/ -> {'currency_pair': 'btcusd', 'step': 60, 'limit': 1000, 'start': 1517443200}\n",
      "https://www.bitstamp.net/api/v2/ohlc/btcusd/ -> {'currency_pair': 'btcusd', 'step': 60, 'limit': 1000, 'start': 1517443200}\n",
      "Downloaded from 2018-02-01 00:00:00 to 2018-02-01 16:39:00 8850.34\n",
      "Resample 1Min - TecAn ( windows 20, windows_limit 100 )https://www.bitstamp.net/api/v2/ohlc/btcusd/ -> {'currency_pair': 'btcusd', 'step': 60, 'limit': 1000, 'start': 1517443200}\n",
      "\n",
      "Processing 999 of btcusd\n",
      "Downloaded from 2018-02-01 00:00:00 to 2018-02-01 16:39:00 8850.34\n",
      "Resample 1Min - TecAn ( windows 40, windows_limit 100 )\n",
      "Processing 999 of btcusd\n",
      "Downloaded from 2018-02-01 00:00:00 to 2018-02-01 16:39:00 8850.34\n",
      "Resample 1Min - TecAn ( windows 10, windows_limit 100 )\n",
      "Processing 999 of btcusd\n"
     ]
    },
    {
     "data": {
      "application/vnd.jupyter.widget-view+json": {
       "model_id": "51fe28dd12764a74a7781ac11eeed9c4",
       "version_major": 2,
       "version_minor": 0
      },
      "text/plain": [
       "  0%|          | 0/999 [00:00<?, ?it/s]"
      ]
     },
     "metadata": {},
     "output_type": "display_data"
    },
    {
     "data": {
      "application/vnd.jupyter.widget-view+json": {
       "model_id": "cad72ca01927426787edbc3d76c18fcc",
       "version_major": 2,
       "version_minor": 0
      },
      "text/plain": [
       "  0%|          | 0/999 [00:00<?, ?it/s]"
      ]
     },
     "metadata": {},
     "output_type": "display_data"
    },
    {
     "data": {
      "application/vnd.jupyter.widget-view+json": {
       "model_id": "90ec997b6f6e4852856518dfd51e9535",
       "version_major": 2,
       "version_minor": 0
      },
      "text/plain": [
       "  0%|          | 0/999 [00:00<?, ?it/s]"
      ]
     },
     "metadata": {},
     "output_type": "display_data"
    },
    {
     "data": {
      "application/vnd.jupyter.widget-view+json": {
       "model_id": "a110fcb12262448d877016f10262e283",
       "version_major": 2,
       "version_minor": 0
      },
      "text/plain": [
       "  0%|          | 0/999 [00:00<?, ?it/s]"
      ]
     },
     "metadata": {},
     "output_type": "display_data"
    },
    {
     "name": "stdout",
     "output_type": "stream",
     "text": [
      "https://www.bitstamp.net/api/v2/ohlc/btcusd/ -> {'currency_pair': 'btcusd', 'step': 60, 'limit': 1000, 'start': 1517443200}\n",
      "Downloaded from 2018-02-01 00:00:00 to 2018-02-01 16:39:00 8850.34\n",
      "Resample 1Min - TecAn ( windows 30, windows_limit 100 )\n",
      "Processing 999 of btcusd\n"
     ]
    },
    {
     "data": {
      "application/vnd.jupyter.widget-view+json": {
       "model_id": "4b5012b2cece4d489b2362f35bd90533",
       "version_major": 2,
       "version_minor": 0
      },
      "text/plain": [
       "  0%|          | 0/999 [00:00<?, ?it/s]"
      ]
     },
     "metadata": {},
     "output_type": "display_data"
    },
    {
     "name": "stdout",
     "output_type": "stream",
     "text": [
      "https://www.bitstamp.net/api/v2/ohlc/btcusd/ -> {'currency_pair': 'btcusd', 'step': 60, 'limit': 1000, 'start': 1548979200}\n",
      "Downloaded from 2019-02-01 00:00:00 to 2019-02-01 16:39:00 3423.18\n",
      "Resample 1Min - TecAn ( windows 40, windows_limit 100 )\n",
      "Processing 999 of btcusd\n",
      "https://www.bitstamp.net/api/v2/ohlc/btcusd/ -> {'currency_pair': 'btcusd', 'step': 60, 'limit': 1000, 'start': 1548979200}\n",
      "https://www.bitstamp.net/api/v2/ohlc/btcusd/ -> {'currency_pair': 'btcusd', 'step': 60, 'limit': 1000, 'start': 1548979200}\n",
      "Downloaded from 2019-02-01 00:00:00 to 2019-02-01 16:39:00 3423.18\n",
      "Resample 1Min - TecAn ( windows 20, windows_limit 100 )\n",
      "Processing 999 of btcusd\n",
      "Downloaded from 2019-02-01 00:00:00 to 2019-02-01 16:39:00 3423.18\n",
      "Resample 1Min - TecAn ( windows 10, windows_limit 100 )\n",
      "Processing 999 of btcusd\n",
      "https://www.bitstamp.net/api/v2/ohlc/btcusd/ -> {'currency_pair': 'btcusd', 'step': 60, 'limit': 1000, 'start': 1548979200}\n",
      "Downloaded from 2019-02-01 00:00:00 to 2019-02-01 16:39:00 3423.18\n",
      "Resample 1Min - TecAn ( windows 5, windows_limit 100 )\n",
      "Processing 999 of btcusd\n"
     ]
    },
    {
     "data": {
      "application/vnd.jupyter.widget-view+json": {
       "model_id": "3b491e10016b433ba6e1df81f983a9cf",
       "version_major": 2,
       "version_minor": 0
      },
      "text/plain": [
       "  0%|          | 0/999 [00:00<?, ?it/s]"
      ]
     },
     "metadata": {},
     "output_type": "display_data"
    },
    {
     "data": {
      "application/vnd.jupyter.widget-view+json": {
       "model_id": "974d115050f0471cb43690e181144d75",
       "version_major": 2,
       "version_minor": 0
      },
      "text/plain": [
       "  0%|          | 0/999 [00:00<?, ?it/s]"
      ]
     },
     "metadata": {},
     "output_type": "display_data"
    },
    {
     "data": {
      "application/vnd.jupyter.widget-view+json": {
       "model_id": "4b2863e370c94078a50db21ca5cba22b",
       "version_major": 2,
       "version_minor": 0
      },
      "text/plain": [
       "  0%|          | 0/999 [00:00<?, ?it/s]"
      ]
     },
     "metadata": {},
     "output_type": "display_data"
    },
    {
     "data": {
      "application/vnd.jupyter.widget-view+json": {
       "model_id": "8699d3b240304604a710f64bd82e94a9",
       "version_major": 2,
       "version_minor": 0
      },
      "text/plain": [
       "  0%|          | 0/999 [00:00<?, ?it/s]"
      ]
     },
     "metadata": {},
     "output_type": "display_data"
    },
    {
     "name": "stdout",
     "output_type": "stream",
     "text": [
      "https://www.bitstamp.net/api/v2/ohlc/btcusd/ -> {'currency_pair': 'btcusd', 'step': 60, 'limit': 1000, 'start': 1548979200}\n",
      "Downloaded from 2019-02-01 00:00:00 to 2019-02-01 16:39:00 3423.18\n",
      "Resample 1Min - TecAn ( windows 30, windows_limit 100 )\n",
      "Processing 999 of btcusd\n"
     ]
    },
    {
     "data": {
      "application/vnd.jupyter.widget-view+json": {
       "model_id": "bed5457f7dab4c8a979b109bcc9299ea",
       "version_major": 2,
       "version_minor": 0
      },
      "text/plain": [
       "  0%|          | 0/999 [00:00<?, ?it/s]"
      ]
     },
     "metadata": {},
     "output_type": "display_data"
    },
    {
     "name": "stdout",
     "output_type": "stream",
     "text": [
      "https://www.bitstamp.net/api/v2/ohlc/btcusd/ -> {'currency_pair': 'btcusd', 'step': 60, 'limit': 1000, 'start': 1580515200}\n",
      "Downloaded from 2020-02-01 00:00:00 to 2020-02-01 16:39:00 9360.98\n",
      "Resample 1Min - TecAn ( windows 40, windows_limit 100 )\n",
      "Processing 999 of btcusd\n",
      "https://www.bitstamp.net/api/v2/ohlc/btcusd/ -> {'currency_pair': 'btcusd', 'step': 60, 'limit': 1000, 'start': 1580515200}\n",
      "https://www.bitstamp.net/api/v2/ohlc/btcusd/ -> {'currency_pair': 'btcusd', 'step': 60, 'limit': 1000, 'start': 1580515200}\n",
      "https://www.bitstamp.net/api/v2/ohlc/btcusd/ -> {'currency_pair': 'btcusd', 'step': 60, 'limit': 1000, 'start': 1580515200}\n",
      "Downloaded from 2020-02-01 00:00:00 to 2020-02-01 16:39:00 9360.98\n",
      "Resample 1Min - TecAn ( windows 10, windows_limit 100 )\n",
      "Processing 999 of btcusd\n",
      "Downloaded from 2020-02-01 00:00:00 to 2020-02-01 16:39:00 9360.98\n",
      "Resample 1Min - TecAn ( windows 5, windows_limit 100 )\n",
      "Processing 999 of btcusd\n",
      "Downloaded from 2020-02-01 00:00:00 to 2020-02-01 16:39:00 9360.98\n",
      "Resample 1Min - TecAn ( windows 20, windows_limit 100 )\n",
      "Processing 999 of btcusd\n"
     ]
    },
    {
     "data": {
      "application/vnd.jupyter.widget-view+json": {
       "model_id": "75b5ea45026d4c7d82f60a7df7b66bc5",
       "version_major": 2,
       "version_minor": 0
      },
      "text/plain": [
       "  0%|          | 0/999 [00:00<?, ?it/s]"
      ]
     },
     "metadata": {},
     "output_type": "display_data"
    },
    {
     "data": {
      "application/vnd.jupyter.widget-view+json": {
       "model_id": "6cc2485f18d24b0bbc38d6c5500d8419",
       "version_major": 2,
       "version_minor": 0
      },
      "text/plain": [
       "  0%|          | 0/999 [00:00<?, ?it/s]"
      ]
     },
     "metadata": {},
     "output_type": "display_data"
    },
    {
     "data": {
      "application/vnd.jupyter.widget-view+json": {
       "model_id": "06eeb6a39ccf4f5b87166bf43b2e5bfd",
       "version_major": 2,
       "version_minor": 0
      },
      "text/plain": [
       "  0%|          | 0/999 [00:00<?, ?it/s]"
      ]
     },
     "metadata": {},
     "output_type": "display_data"
    },
    {
     "data": {
      "application/vnd.jupyter.widget-view+json": {
       "model_id": "e965353746874ef5bebcafe1cfa53688",
       "version_major": 2,
       "version_minor": 0
      },
      "text/plain": [
       "  0%|          | 0/999 [00:00<?, ?it/s]"
      ]
     },
     "metadata": {},
     "output_type": "display_data"
    },
    {
     "name": "stdout",
     "output_type": "stream",
     "text": [
      "https://www.bitstamp.net/api/v2/ohlc/btcusd/ -> {'currency_pair': 'btcusd', 'step': 60, 'limit': 1000, 'start': 1580515200}\n",
      "Downloaded from 2020-02-01 00:00:00 to 2020-02-01 16:39:00 9360.98\n",
      "Resample 1Min - TecAn ( windows 30, windows_limit 100 )\n",
      "Processing 999 of btcusd\n"
     ]
    },
    {
     "data": {
      "application/vnd.jupyter.widget-view+json": {
       "model_id": "d1f0699837a843c496381cb10d780539",
       "version_major": 2,
       "version_minor": 0
      },
      "text/plain": [
       "  0%|          | 0/999 [00:00<?, ?it/s]"
      ]
     },
     "metadata": {},
     "output_type": "display_data"
    },
    {
     "name": "stdout",
     "output_type": "stream",
     "text": [
      "https://www.bitstamp.net/api/v2/ohlc/btcusd/ -> {'currency_pair': 'btcusd', 'step': 60, 'limit': 1000, 'start': 1612137600}\n",
      "https://www.bitstamp.net/api/v2/ohlc/btcusd/ -> {'currency_pair': 'btcusd', 'step': 60, 'limit': 1000, 'start': 1612137600}\n",
      "https://www.bitstamp.net/api/v2/ohlc/btcusd/ -> {'currency_pair': 'btcusd', 'step': 60, 'limit': 1000, 'start': 1612137600}\n",
      "Downloaded from 2021-02-01 00:00:00 to 2021-02-01 16:39:00 33368.98\n",
      "Resample 1Min - TecAn ( windows 10, windows_limit 100 )\n",
      "Downloaded from 2021-02-01 00:00:00 to 2021-02-01 16:39:00 33368.98Processing 999 of btcusd\n",
      "\n",
      "Resample 1Min - TecAn ( windows 40, windows_limit 100 )\n",
      "Downloaded from 2021-02-01 00:00:00 to 2021-02-01 16:39:00 33368.98\n",
      "Processing 999 of btcusd\n",
      "Resample 1Min - TecAn ( windows 20, windows_limit 100 )\n",
      "Processing 999 of btcusd\n",
      "https://www.bitstamp.net/api/v2/ohlc/btcusd/ -> {'currency_pair': 'btcusd', 'step': 60, 'limit': 1000, 'start': 1612137600}\n",
      "Downloaded from 2021-02-01 00:00:00 to 2021-02-01 16:39:00 33368.98\n",
      "Resample 1Min - TecAn ( windows 5, windows_limit 100 )\n",
      "Processing 999 of btcusd\n"
     ]
    },
    {
     "data": {
      "application/vnd.jupyter.widget-view+json": {
       "model_id": "9f5f212f0dec425aa4eb6cb7064566a5",
       "version_major": 2,
       "version_minor": 0
      },
      "text/plain": [
       "  0%|          | 0/999 [00:00<?, ?it/s]"
      ]
     },
     "metadata": {},
     "output_type": "display_data"
    },
    {
     "data": {
      "application/vnd.jupyter.widget-view+json": {
       "model_id": "2580876152b848cf97d968cefac68879",
       "version_major": 2,
       "version_minor": 0
      },
      "text/plain": [
       "  0%|          | 0/999 [00:00<?, ?it/s]"
      ]
     },
     "metadata": {},
     "output_type": "display_data"
    },
    {
     "data": {
      "application/vnd.jupyter.widget-view+json": {
       "model_id": "6b55ebf7293940abb6cb5c8d6bcce3de",
       "version_major": 2,
       "version_minor": 0
      },
      "text/plain": [
       "  0%|          | 0/999 [00:00<?, ?it/s]"
      ]
     },
     "metadata": {},
     "output_type": "display_data"
    },
    {
     "data": {
      "application/vnd.jupyter.widget-view+json": {
       "model_id": "f412e5ca5f8f48e2935e234cfdf909d0",
       "version_major": 2,
       "version_minor": 0
      },
      "text/plain": [
       "  0%|          | 0/999 [00:00<?, ?it/s]"
      ]
     },
     "metadata": {},
     "output_type": "display_data"
    },
    {
     "name": "stdout",
     "output_type": "stream",
     "text": [
      "https://www.bitstamp.net/api/v2/ohlc/btcusd/ -> {'currency_pair': 'btcusd', 'step': 60, 'limit': 1000, 'start': 1612137600}\n",
      "Downloaded from 2021-02-01 00:00:00 to 2021-02-01 16:39:00 33368.98\n",
      "Resample 1Min - TecAn ( windows 30, windows_limit 100 )\n",
      "Processing 999 of btcusd\n"
     ]
    },
    {
     "data": {
      "application/vnd.jupyter.widget-view+json": {
       "model_id": "009cdbbab1f9459baf7fb03d4bfa2495",
       "version_major": 2,
       "version_minor": 0
      },
      "text/plain": [
       "  0%|          | 0/999 [00:00<?, ?it/s]"
      ]
     },
     "metadata": {},
     "output_type": "display_data"
    },
    {
     "name": "stdout",
     "output_type": "stream",
     "text": [
      "https://www.bitstamp.net/api/v2/ohlc/btcusd/ -> {'currency_pair': 'btcusd', 'step': 60, 'limit': 1000, 'start': 1626340500, 'end': 1626369600}\n",
      "Downloaded from 2021-07-15 01:41:00 to 2021-07-15 18:20:00 31200.00\n",
      "Resample 1Min - TecAn ( windows 40, windows_limit 100 )\n",
      "Processing 999 of btcusd\n",
      "https://www.bitstamp.net/api/v2/ohlc/btcusd/ -> {'currency_pair': 'btcusd', 'step': 60, 'limit': 1000, 'start': 1626340500, 'end': 1626369600}\n",
      "https://www.bitstamp.net/api/v2/ohlc/btcusd/ -> {'currency_pair': 'btcusd', 'step': 60, 'limit': 1000, 'start': 1626340500, 'end': 1626369600}\n",
      "https://www.bitstamp.net/api/v2/ohlc/btcusd/ -> {'currency_pair': 'btcusd', 'step': 60, 'limit': 1000, 'start': 1626340500, 'end': 1626369600}\n",
      "Downloaded from 2021-07-15 01:41:00 to 2021-07-15 18:20:00 31200.00\n",
      "Resample 1Min - TecAn ( windows 10, windows_limit 100 )\n",
      "Processing 999 of btcusd\n",
      "Downloaded from 2021-07-15 01:41:00 to 2021-07-15 18:20:00 31200.00\n",
      "Resample 1Min - TecAn ( windows 20, windows_limit 100 )\n",
      "Processing 999 of btcusd\n",
      "Downloaded from 2021-07-15 01:41:00 to 2021-07-15 18:20:00 31200.00\n",
      "Resample 1Min - TecAn ( windows 5, windows_limit 100 )\n",
      "Processing 999 of btcusd\n"
     ]
    },
    {
     "data": {
      "application/vnd.jupyter.widget-view+json": {
       "model_id": "f362b7ed9e9c422886fe6b068fd9c05a",
       "version_major": 2,
       "version_minor": 0
      },
      "text/plain": [
       "  0%|          | 0/999 [00:00<?, ?it/s]"
      ]
     },
     "metadata": {},
     "output_type": "display_data"
    },
    {
     "data": {
      "application/vnd.jupyter.widget-view+json": {
       "model_id": "6cebe8289642455d8b423bac72ca1673",
       "version_major": 2,
       "version_minor": 0
      },
      "text/plain": [
       "  0%|          | 0/999 [00:00<?, ?it/s]"
      ]
     },
     "metadata": {},
     "output_type": "display_data"
    },
    {
     "data": {
      "application/vnd.jupyter.widget-view+json": {
       "model_id": "25ec1852f5b94925b438dd0406a8fc58",
       "version_major": 2,
       "version_minor": 0
      },
      "text/plain": [
       "  0%|          | 0/999 [00:00<?, ?it/s]"
      ]
     },
     "metadata": {},
     "output_type": "display_data"
    },
    {
     "data": {
      "application/vnd.jupyter.widget-view+json": {
       "model_id": "2482e3c76a7d486a8c75cdbfd455bf0c",
       "version_major": 2,
       "version_minor": 0
      },
      "text/plain": [
       "  0%|          | 0/999 [00:00<?, ?it/s]"
      ]
     },
     "metadata": {},
     "output_type": "display_data"
    },
    {
     "name": "stdout",
     "output_type": "stream",
     "text": [
      "https://www.bitstamp.net/api/v2/ohlc/btcusd/ -> {'currency_pair': 'btcusd', 'step': 60, 'limit': 1000, 'start': 1626340500, 'end': 1626369600}\n",
      "Downloaded from 2021-07-15 01:41:00 to 2021-07-15 18:20:00 31200.00\n",
      "Resample 1Min - TecAn ( windows 30, windows_limit 100 )\n",
      "Processing 999 of btcusd\n"
     ]
    },
    {
     "data": {
      "application/vnd.jupyter.widget-view+json": {
       "model_id": "2aa89f81d00a41f385f0810c435deccd",
       "version_major": 2,
       "version_minor": 0
      },
      "text/plain": [
       "  0%|          | 0/999 [00:00<?, ?it/s]"
      ]
     },
     "metadata": {},
     "output_type": "display_data"
    },
    {
     "name": "stdout",
     "output_type": "stream",
     "text": [
      "CPU times: user 2h 27min 1s, sys: 19min 46s, total: 2h 46min 47s\n",
      "Wall time: 2h 31min 47s\n"
     ]
    }
   ],
   "source": [
    "%%time\n",
    "\n",
    "import time\n",
    "\n",
    "threads = []\n",
    "for minute in tqdm(minutes):\n",
    "    threads = []\n",
    "    for win in windows:\n",
    "        t = threading.Thread(target=load, args=(minute, win,))\n",
    "        t.setDaemon(True)\n",
    "        t.start()\n",
    "        threads.append(t)\n",
    "        time.sleep(1)\n",
    "    for th in threads:\n",
    "        th.join()\n"
   ]
  },
  {
   "cell_type": "code",
   "execution_count": null,
   "metadata": {},
   "outputs": [],
   "source": []
  }
 ],
 "metadata": {
  "accelerator": "GPU",
  "colab": {
   "collapsed_sections": [],
   "name": "enviroment",
   "provenance": [],
   "version": "0.3.2"
  },
  "kernelspec": {
   "display_name": "Python 3",
   "language": "python",
   "name": "python3"
  },
  "language_info": {
   "codemirror_mode": {
    "name": "ipython",
    "version": 3
   },
   "file_extension": ".py",
   "mimetype": "text/x-python",
   "name": "python",
   "nbconvert_exporter": "python",
   "pygments_lexer": "ipython3",
   "version": "3.9.5"
  }
 },
 "nbformat": 4,
 "nbformat_minor": 4
}
