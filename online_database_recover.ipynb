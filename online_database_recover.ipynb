{
 "cells": [
  {
   "cell_type": "code",
   "execution_count": 1,
   "metadata": {
    "colab": {
     "base_uri": "https://localhost:8080/",
     "height": 170
    },
    "colab_type": "code",
    "executionInfo": {
     "elapsed": 503083,
     "status": "ok",
     "timestamp": 1568068274112,
     "user": {
      "displayName": "Samir Moreira Antônio",
      "photoUrl": "https://lh3.googleusercontent.com/a-/AAuE7mCsh3ldsSLN0VnFRYp341EzO_UyuRNKmLncUbMA3Q=s64",
      "userId": "14581632111443153742"
     },
     "user_tz": -60
    },
    "id": "fGVQczSlF-9o",
    "outputId": "e3a06798-f737-48d9-ec6e-d3784cec3115"
   },
   "outputs": [],
   "source": [
    "import pandas as pd\n",
    "import data_util\n",
    "from tqdm.notebook import tqdm\n",
    "from data_generator import DataGenerator\n",
    "from tec_an import TecAn\n",
    "import numpy as np\n",
    "from data_util import *\n",
    "from backtest import *\n",
    "import threading\n",
    "import multiprocessing\n",
    "from data_agent import DataAgent, TacProcess\n",
    "from joblib import dump, load"
   ]
  },
  {
   "cell_type": "code",
   "execution_count": 8,
   "metadata": {},
   "outputs": [],
   "source": [
    "#train_start_list = [1622502000, 1590966000, 1559343600, 1580515200, 1612137600]\n",
    "train_start_list = [1622502000, 1590966000, 1559343600, 1527807600, 1517443200, 1548979200, 1580515200, 1612137600]\n",
    "#train_start_list = [1612137600]\n",
    "train_keys = [\"btcusd\", \"ethusd\", \"bchbtc\"]\n",
    "#train_keys = []\n",
    "#train_keys = [\"btcusd\"]\n",
    "val_start = 1623711600\n",
    "val_end = 1626303600\n",
    "val_keys = [\"ltceur\", \"ltcusd\", \"ethusd\", \"btcusd\"]"
   ]
  },
  {
   "cell_type": "code",
   "execution_count": 9,
   "metadata": {},
   "outputs": [],
   "source": [
    "\n",
    "steps = 1\n",
    "\n",
    "windows = [5, 10, 20, 30, 40]\n",
    "\n",
    "minutes = [15, 5, 3, 1]\n",
    "\n",
    "load_from_disk =  False\n"
   ]
  },
  {
   "cell_type": "code",
   "execution_count": 10,
   "metadata": {},
   "outputs": [],
   "source": [
    "def get_online_data(minutes, source_data_generator, load_from_disk, file_prefix = \"\"):\n",
    "    \n",
    "    online = OnLineDataProvider(\n",
    "                 source_data_generator = source_data_generator,\n",
    "                 minutes = minutes,\n",
    "                 train_keys = train_keys,\n",
    "                 train_limit = 1000,\n",
    "                 val_limit = 1000,\n",
    "                 val_keys = val_keys,\n",
    "                 val_start = val_start,\n",
    "                 val_end = val_end,\n",
    "                 train_start_list = train_start_list\n",
    "    )\n",
    "\n",
    "    online_path = f'data/online{file_prefix}_{minutes}'\n",
    "    \n",
    "    online.load_cache()\n",
    "    online.source_data_generator = None\n",
    "    dump(online, online_path)\n",
    "    \n",
    "    return online"
   ]
  },
  {
   "cell_type": "code",
   "execution_count": 11,
   "metadata": {},
   "outputs": [],
   "source": [
    "data = []\n",
    "\n",
    "def load(minute, win):\n",
    "    tec = TecAn(windows = win, windows_limit = 100)\n",
    "    source_data_generator = SourceDataGenerator(tec = tec)\n",
    "    online = get_online_data(minutes = minute, \n",
    "                     source_data_generator = source_data_generator, \n",
    "                     load_from_disk = load_from_disk, \n",
    "                     file_prefix = win)\n",
    "    data.append(online)\n",
    "    \n"
   ]
  },
  {
   "cell_type": "code",
   "execution_count": 12,
   "metadata": {},
   "outputs": [],
   "source": [
    "#load(15, 20)"
   ]
  },
  {
   "cell_type": "code",
   "execution_count": 13,
   "metadata": {},
   "outputs": [
    {
     "data": {
      "application/vnd.jupyter.widget-view+json": {
       "model_id": "0c43440c9d124a2d846c3da292b6cf8c",
       "version_major": 2,
       "version_minor": 0
      },
      "text/plain": [
       "  0%|          | 0/4 [00:00<?, ?it/s]"
      ]
     },
     "metadata": {},
     "output_type": "display_data"
    },
    {
     "name": "stdout",
     "output_type": "stream",
     "text": [
      "https://www.bitstamp.net/api/v2/ohlc/btcusd/?&currency_pair=btcusd&step=900&limit=1000&start=1622502000\n",
      "Downloaded from 2021-06-01 00:00:00 to 2021-06-11 09:45:00 37001.01\n",
      "Resample 15Min - TecAn ( windows 5, windows_limit 100 )\n",
      "Processing 999 of btcusd\n"
     ]
    },
    {
     "data": {
      "application/vnd.jupyter.widget-view+json": {
       "model_id": "e6656f6aa96c417abe8877549ffeff98",
       "version_major": 2,
       "version_minor": 0
      },
      "text/plain": [
       "  0%|          | 0/999 [00:00<?, ?it/s]"
      ]
     },
     "metadata": {},
     "output_type": "display_data"
    },
    {
     "name": "stdout",
     "output_type": "stream",
     "text": [
      "https://www.bitstamp.net/api/v2/ohlc/ethusd/?&currency_pair=ethusd&step=900&limit=1000&start=1622502000\n",
      "Downloaded from 2021-06-01 00:00:00 to 2021-06-11 09:45:00 2450.30\n",
      "Resample 15Min - TecAn ( windows 5, windows_limit 100 )\n",
      "Processing 999 of ethusd\n"
     ]
    },
    {
     "data": {
      "application/vnd.jupyter.widget-view+json": {
       "model_id": "dacd11d4ecf64634a806cc75bc5f1159",
       "version_major": 2,
       "version_minor": 0
      },
      "text/plain": [
       "  0%|          | 0/999 [00:00<?, ?it/s]"
      ]
     },
     "metadata": {},
     "output_type": "display_data"
    },
    {
     "name": "stdout",
     "output_type": "stream",
     "text": [
      "https://www.bitstamp.net/api/v2/ohlc/bchbtc/?&currency_pair=bchbtc&step=900&limit=1000&start=1622502000\n",
      "Downloaded from 2021-06-01 00:00:00 to 2021-06-11 09:45:00 0.01623632\n",
      "Resample 15Min - TecAn ( windows 5, windows_limit 100 )\n",
      "Processing 999 of bchbtc\n"
     ]
    },
    {
     "data": {
      "application/vnd.jupyter.widget-view+json": {
       "model_id": "b5cad174b52142948aba50d6572acb3c",
       "version_major": 2,
       "version_minor": 0
      },
      "text/plain": [
       "  0%|          | 0/999 [00:00<?, ?it/s]"
      ]
     },
     "metadata": {},
     "output_type": "display_data"
    },
    {
     "name": "stdout",
     "output_type": "stream",
     "text": [
      "https://www.bitstamp.net/api/v2/ohlc/btcusd/?&currency_pair=btcusd&step=900&limit=1000&start=1590966000\n",
      "Downloaded from 2020-06-01 00:00:00 to 2020-06-11 09:45:00 9820.86\n",
      "Resample 15Min - TecAn ( windows 5, windows_limit 100 )\n",
      "Processing 999 of btcusd\n"
     ]
    },
    {
     "data": {
      "application/vnd.jupyter.widget-view+json": {
       "model_id": "d7ab74dca7114beca3bc17905528f386",
       "version_major": 2,
       "version_minor": 0
      },
      "text/plain": [
       "  0%|          | 0/999 [00:00<?, ?it/s]"
      ]
     },
     "metadata": {},
     "output_type": "display_data"
    },
    {
     "name": "stdout",
     "output_type": "stream",
     "text": [
      "https://www.bitstamp.net/api/v2/ohlc/ethusd/?&currency_pair=ethusd&step=900&limit=1000&start=1590966000\n",
      "Downloaded from 2020-06-01 00:00:00 to 2020-06-11 09:45:00 246.70\n",
      "Resample 15Min - TecAn ( windows 5, windows_limit 100 )\n",
      "Processing 999 of ethusd\n"
     ]
    },
    {
     "data": {
      "application/vnd.jupyter.widget-view+json": {
       "model_id": "d4146d9a1312426a8c29ef05272e2603",
       "version_major": 2,
       "version_minor": 0
      },
      "text/plain": [
       "  0%|          | 0/999 [00:00<?, ?it/s]"
      ]
     },
     "metadata": {},
     "output_type": "display_data"
    },
    {
     "name": "stdout",
     "output_type": "stream",
     "text": [
      "https://www.bitstamp.net/api/v2/ohlc/bchbtc/?&currency_pair=bchbtc&step=900&limit=1000&start=1590966000\n",
      "Downloaded from 2020-06-01 00:00:00 to 2020-06-11 09:45:00 0.02600415\n",
      "Resample 15Min - TecAn ( windows 5, windows_limit 100 )\n",
      "Processing 999 of bchbtc\n"
     ]
    },
    {
     "data": {
      "application/vnd.jupyter.widget-view+json": {
       "model_id": "1820f9a0a7b24daba5b7489169dabcf1",
       "version_major": 2,
       "version_minor": 0
      },
      "text/plain": [
       "  0%|          | 0/999 [00:00<?, ?it/s]"
      ]
     },
     "metadata": {},
     "output_type": "display_data"
    },
    {
     "name": "stdout",
     "output_type": "stream",
     "text": [
      "https://www.bitstamp.net/api/v2/ohlc/btcusd/?&currency_pair=btcusd&step=900&limit=1000&start=1559343600\n",
      "Downloaded from 2019-06-01 00:00:00 to 2019-06-11 09:45:00 7961.80\n",
      "Resample 15Min - TecAn ( windows 5, windows_limit 100 )\n",
      "Processing 999 of btcusd\n"
     ]
    },
    {
     "data": {
      "application/vnd.jupyter.widget-view+json": {
       "model_id": "a030cbf8620c4d2ca07fcdb34ed242ce",
       "version_major": 2,
       "version_minor": 0
      },
      "text/plain": [
       "  0%|          | 0/999 [00:00<?, ?it/s]"
      ]
     },
     "metadata": {},
     "output_type": "display_data"
    },
    {
     "name": "stdout",
     "output_type": "stream",
     "text": [
      "https://www.bitstamp.net/api/v2/ohlc/ethusd/?&currency_pair=ethusd&step=900&limit=1000&start=1559343600\n",
      "Downloaded from 2019-06-01 00:00:00 to 2019-06-11 09:45:00 247.16\n",
      "Resample 15Min - TecAn ( windows 5, windows_limit 100 )\n",
      "Processing 999 of ethusd\n"
     ]
    },
    {
     "data": {
      "application/vnd.jupyter.widget-view+json": {
       "model_id": "7cc5fff2d31e4651834e48fb641eb99f",
       "version_major": 2,
       "version_minor": 0
      },
      "text/plain": [
       "  0%|          | 0/999 [00:00<?, ?it/s]"
      ]
     },
     "metadata": {},
     "output_type": "display_data"
    },
    {
     "name": "stdout",
     "output_type": "stream",
     "text": [
      "https://www.bitstamp.net/api/v2/ohlc/bchbtc/?&currency_pair=bchbtc&step=900&limit=1000&start=1559343600\n",
      "Downloaded from 2019-06-01 00:00:00 to 2019-06-11 09:45:00 0.04924831\n",
      "Resample 15Min - TecAn ( windows 5, windows_limit 100 )\n",
      "Processing 999 of bchbtc\n"
     ]
    },
    {
     "data": {
      "application/vnd.jupyter.widget-view+json": {
       "model_id": "f9eff6df2a3142b0bf616e50c6a69dbc",
       "version_major": 2,
       "version_minor": 0
      },
      "text/plain": [
       "  0%|          | 0/999 [00:00<?, ?it/s]"
      ]
     },
     "metadata": {},
     "output_type": "display_data"
    },
    {
     "name": "stdout",
     "output_type": "stream",
     "text": [
      "https://www.bitstamp.net/api/v2/ohlc/btcusd/?&currency_pair=btcusd&step=900&limit=1000&start=1527807600\n",
      "Downloaded from 2018-06-01 00:00:00 to 2018-06-11 09:45:00 6795.82\n",
      "Resample 15Min - TecAn ( windows 5, windows_limit 100 )\n",
      "Processing 999 of btcusd\n"
     ]
    },
    {
     "data": {
      "application/vnd.jupyter.widget-view+json": {
       "model_id": "fd3f1a0fb2074178af8786610ffef0bc",
       "version_major": 2,
       "version_minor": 0
      },
      "text/plain": [
       "  0%|          | 0/999 [00:00<?, ?it/s]"
      ]
     },
     "metadata": {},
     "output_type": "display_data"
    },
    {
     "name": "stdout",
     "output_type": "stream",
     "text": [
      "https://www.bitstamp.net/api/v2/ohlc/ethusd/?&currency_pair=ethusd&step=900&limit=1000&start=1527807600\n",
      "Downloaded from 2018-06-01 00:00:00 to 2018-06-11 09:45:00 532.74\n",
      "Resample 15Min - TecAn ( windows 5, windows_limit 100 )\n",
      "Processing 999 of ethusd\n"
     ]
    },
    {
     "data": {
      "application/vnd.jupyter.widget-view+json": {
       "model_id": "da579e28090a4eef813ab6a314780b15",
       "version_major": 2,
       "version_minor": 0
      },
      "text/plain": [
       "  0%|          | 0/999 [00:00<?, ?it/s]"
      ]
     },
     "metadata": {},
     "output_type": "display_data"
    },
    {
     "name": "stdout",
     "output_type": "stream",
     "text": [
      "https://www.bitstamp.net/api/v2/ohlc/bchbtc/?&currency_pair=bchbtc&step=900&limit=1000&start=1527807600\n",
      "Downloaded from 2018-06-01 00:00:00 to 2018-06-11 09:45:00 0.13750095\n",
      "Resample 15Min - TecAn ( windows 5, windows_limit 100 )\n",
      "Processing 999 of bchbtc\n"
     ]
    },
    {
     "data": {
      "application/vnd.jupyter.widget-view+json": {
       "model_id": "6630a0037bb147f0983157b01b68d6b2",
       "version_major": 2,
       "version_minor": 0
      },
      "text/plain": [
       "  0%|          | 0/999 [00:00<?, ?it/s]"
      ]
     },
     "metadata": {},
     "output_type": "display_data"
    },
    {
     "name": "stdout",
     "output_type": "stream",
     "text": [
      "https://www.bitstamp.net/api/v2/ohlc/btcusd/?&currency_pair=btcusd&step=900&limit=1000&start=1517443200\n",
      "Downloaded from 2018-02-01 00:00:00 to 2018-02-11 09:45:00 8012.89\n",
      "Resample 15Min - TecAn ( windows 5, windows_limit 100 )\n",
      "Processing 999 of btcusd\n"
     ]
    },
    {
     "data": {
      "application/vnd.jupyter.widget-view+json": {
       "model_id": "0c4759bd66d64cb19212690fddd12f71",
       "version_major": 2,
       "version_minor": 0
      },
      "text/plain": [
       "  0%|          | 0/999 [00:00<?, ?it/s]"
      ]
     },
     "metadata": {},
     "output_type": "display_data"
    },
    {
     "name": "stdout",
     "output_type": "stream",
     "text": [
      "https://www.bitstamp.net/api/v2/ohlc/ethusd/?&currency_pair=ethusd&step=900&limit=1000&start=1517443200\n",
      "Downloaded from 2018-02-01 00:00:00 to 2018-02-11 09:45:00 800.68\n",
      "Resample 15Min - TecAn ( windows 5, windows_limit 100 )\n",
      "Processing 999 of ethusd\n"
     ]
    },
    {
     "data": {
      "application/vnd.jupyter.widget-view+json": {
       "model_id": "4e798b5282b44766a02386fc030c7f6c",
       "version_major": 2,
       "version_minor": 0
      },
      "text/plain": [
       "  0%|          | 0/999 [00:00<?, ?it/s]"
      ]
     },
     "metadata": {},
     "output_type": "display_data"
    },
    {
     "name": "stdout",
     "output_type": "stream",
     "text": [
      "https://www.bitstamp.net/api/v2/ohlc/bchbtc/?&currency_pair=bchbtc&step=900&limit=1000&start=1517443200\n",
      "Downloaded from 2018-02-01 00:00:00 to 2018-02-11 09:45:00 0.15351668\n",
      "Resample 15Min - TecAn ( windows 5, windows_limit 100 )\n",
      "Processing 999 of bchbtc\n"
     ]
    },
    {
     "data": {
      "application/vnd.jupyter.widget-view+json": {
       "model_id": "b7a313d053a243b4b9279026edd01b4a",
       "version_major": 2,
       "version_minor": 0
      },
      "text/plain": [
       "  0%|          | 0/999 [00:00<?, ?it/s]"
      ]
     },
     "metadata": {},
     "output_type": "display_data"
    },
    {
     "name": "stdout",
     "output_type": "stream",
     "text": [
      "https://www.bitstamp.net/api/v2/ohlc/btcusd/?&currency_pair=btcusd&step=900&limit=1000&start=1548979200\n",
      "Downloaded from 2019-02-01 00:00:00 to 2019-02-11 09:45:00 3594.91\n",
      "Resample 15Min - TecAn ( windows 5, windows_limit 100 )\n",
      "Processing 999 of btcusd\n"
     ]
    },
    {
     "data": {
      "application/vnd.jupyter.widget-view+json": {
       "model_id": "89d6978f85894a8298953a5992234a05",
       "version_major": 2,
       "version_minor": 0
      },
      "text/plain": [
       "  0%|          | 0/999 [00:00<?, ?it/s]"
      ]
     },
     "metadata": {},
     "output_type": "display_data"
    },
    {
     "name": "stdout",
     "output_type": "stream",
     "text": [
      "https://www.bitstamp.net/api/v2/ohlc/ethusd/?&currency_pair=ethusd&step=900&limit=1000&start=1548979200\n",
      "Downloaded from 2019-02-01 00:00:00 to 2019-02-11 09:45:00 119.46\n",
      "Resample 15Min - TecAn ( windows 5, windows_limit 100 )\n",
      "Processing 999 of ethusd\n"
     ]
    },
    {
     "data": {
      "application/vnd.jupyter.widget-view+json": {
       "model_id": "17855b13f1394cf9988cec0ffbfe4fef",
       "version_major": 2,
       "version_minor": 0
      },
      "text/plain": [
       "  0%|          | 0/999 [00:00<?, ?it/s]"
      ]
     },
     "metadata": {},
     "output_type": "display_data"
    },
    {
     "name": "stdout",
     "output_type": "stream",
     "text": [
      "https://www.bitstamp.net/api/v2/ohlc/bchbtc/?&currency_pair=bchbtc&step=900&limit=1000&start=1548979200\n",
      "Downloaded from 2019-02-01 00:00:00 to 2019-02-11 09:45:00 0.03409899\n",
      "Resample 15Min - TecAn ( windows 5, windows_limit 100 )\n",
      "Processing 999 of bchbtc\n"
     ]
    },
    {
     "data": {
      "application/vnd.jupyter.widget-view+json": {
       "model_id": "c657640c3573422ea8f939821a495c44",
       "version_major": 2,
       "version_minor": 0
      },
      "text/plain": [
       "  0%|          | 0/999 [00:00<?, ?it/s]"
      ]
     },
     "metadata": {},
     "output_type": "display_data"
    },
    {
     "name": "stdout",
     "output_type": "stream",
     "text": [
      "https://www.bitstamp.net/api/v2/ohlc/btcusd/?&currency_pair=btcusd&step=900&limit=1000&start=1580515200\n",
      "Downloaded from 2020-02-01 00:00:00 to 2020-02-11 09:45:00 9783.54\n",
      "Resample 15Min - TecAn ( windows 5, windows_limit 100 )\n",
      "Processing 999 of btcusd\n"
     ]
    },
    {
     "data": {
      "application/vnd.jupyter.widget-view+json": {
       "model_id": "deff36cf11b04c60b7143bebc8b76c95",
       "version_major": 2,
       "version_minor": 0
      },
      "text/plain": [
       "  0%|          | 0/999 [00:00<?, ?it/s]"
      ]
     },
     "metadata": {},
     "output_type": "display_data"
    },
    {
     "name": "stdout",
     "output_type": "stream",
     "text": [
      "https://www.bitstamp.net/api/v2/ohlc/ethusd/?&currency_pair=ethusd&step=900&limit=1000&start=1580515200\n",
      "Downloaded from 2020-02-01 00:00:00 to 2020-02-11 09:45:00 221.25\n",
      "Resample 15Min - TecAn ( windows 5, windows_limit 100 )\n",
      "Processing 999 of ethusd\n"
     ]
    },
    {
     "data": {
      "application/vnd.jupyter.widget-view+json": {
       "model_id": "e26b0131bfe446aaa29528e4a3858031",
       "version_major": 2,
       "version_minor": 0
      },
      "text/plain": [
       "  0%|          | 0/999 [00:00<?, ?it/s]"
      ]
     },
     "metadata": {},
     "output_type": "display_data"
    },
    {
     "name": "stdout",
     "output_type": "stream",
     "text": [
      "https://www.bitstamp.net/api/v2/ohlc/bchbtc/?&currency_pair=bchbtc&step=900&limit=1000&start=1580515200\n",
      "Downloaded from 2020-02-01 00:00:00 to 2020-02-11 09:45:00 0.04578914\n",
      "Resample 15Min - TecAn ( windows 5, windows_limit 100 )\n",
      "Processing 999 of bchbtc\n"
     ]
    },
    {
     "data": {
      "application/vnd.jupyter.widget-view+json": {
       "model_id": "817199a17b0540f2a8eef719ca276269",
       "version_major": 2,
       "version_minor": 0
      },
      "text/plain": [
       "  0%|          | 0/999 [00:00<?, ?it/s]"
      ]
     },
     "metadata": {},
     "output_type": "display_data"
    },
    {
     "name": "stdout",
     "output_type": "stream",
     "text": [
      "https://www.bitstamp.net/api/v2/ohlc/btcusd/?&currency_pair=btcusd&step=900&limit=1000&start=1612137600\n",
      "Downloaded from 2021-02-01 00:00:00 to 2021-02-11 09:45:00 45154.95\n",
      "Resample 15Min - TecAn ( windows 5, windows_limit 100 )\n",
      "Processing 999 of btcusd\n"
     ]
    },
    {
     "data": {
      "application/vnd.jupyter.widget-view+json": {
       "model_id": "2d121dc8087e43959c01aa8d5c8f96c8",
       "version_major": 2,
       "version_minor": 0
      },
      "text/plain": [
       "  0%|          | 0/999 [00:00<?, ?it/s]"
      ]
     },
     "metadata": {},
     "output_type": "display_data"
    },
    {
     "name": "stdout",
     "output_type": "stream",
     "text": [
      "https://www.bitstamp.net/api/v2/ohlc/ethusd/?&currency_pair=ethusd&step=900&limit=1000&start=1612137600\n",
      "Downloaded from 2021-02-01 00:00:00 to 2021-02-11 09:45:00 1757.24\n",
      "Resample 15Min - TecAn ( windows 5, windows_limit 100 )\n",
      "Processing 999 of ethusd\n"
     ]
    },
    {
     "data": {
      "application/vnd.jupyter.widget-view+json": {
       "model_id": "27fef79c55e941c7891856ac57cb0ec0",
       "version_major": 2,
       "version_minor": 0
      },
      "text/plain": [
       "  0%|          | 0/999 [00:00<?, ?it/s]"
      ]
     },
     "metadata": {},
     "output_type": "display_data"
    },
    {
     "name": "stdout",
     "output_type": "stream",
     "text": [
      "https://www.bitstamp.net/api/v2/ohlc/bchbtc/?&currency_pair=bchbtc&step=900&limit=1000&start=1612137600\n",
      "Downloaded from 2021-02-01 00:00:00 to 2021-02-11 09:45:00 0.01135207\n",
      "Resample 15Min - TecAn ( windows 5, windows_limit 100 )\n",
      "Processing 999 of bchbtc\n"
     ]
    },
    {
     "data": {
      "application/vnd.jupyter.widget-view+json": {
       "model_id": "3cedea3af5544102bc5720352cd43256",
       "version_major": 2,
       "version_minor": 0
      },
      "text/plain": [
       "  0%|          | 0/999 [00:00<?, ?it/s]"
      ]
     },
     "metadata": {},
     "output_type": "display_data"
    },
    {
     "name": "stdout",
     "output_type": "stream",
     "text": [
      "https://www.bitstamp.net/api/v2/ohlc/ltceur/?&currency_pair=ltceur&step=900&limit=1000&start=1623711600\n",
      "https://www.bitstamp.net/api/v2/ohlc/ltceur/?&currency_pair=ltceur&step=900&limit=1000&start=1624610700\n",
      "https://www.bitstamp.net/api/v2/ohlc/ltceur/?&currency_pair=ltceur&step=900&limit=1000&start=1625509800\n",
      "Downloaded from 2021-06-15 00:00:00 to 2021-07-15 00:15:00 110.49\n",
      "Resample 15Min - TecAn ( windows 5, windows_limit 100 )\n",
      "Processing 2883 of ltceur\n"
     ]
    },
    {
     "data": {
      "application/vnd.jupyter.widget-view+json": {
       "model_id": "a768b34d40da49c69dde5cefacf16da2",
       "version_major": 2,
       "version_minor": 0
      },
      "text/plain": [
       "  0%|          | 0/2883 [00:00<?, ?it/s]"
      ]
     },
     "metadata": {},
     "output_type": "display_data"
    },
    {
     "name": "stdout",
     "output_type": "stream",
     "text": [
      "https://www.bitstamp.net/api/v2/ohlc/ltcusd/?&currency_pair=ltcusd&step=900&limit=1000&start=1623711600\n",
      "https://www.bitstamp.net/api/v2/ohlc/ltcusd/?&currency_pair=ltcusd&step=900&limit=1000&start=1624610700\n",
      "https://www.bitstamp.net/api/v2/ohlc/ltcusd/?&currency_pair=ltcusd&step=900&limit=1000&start=1625509800\n",
      "Downloaded from 2021-06-15 00:00:00 to 2021-07-15 00:15:00 130.91\n",
      "Resample 15Min - TecAn ( windows 5, windows_limit 100 )\n",
      "Processing 2883 of ltcusd\n"
     ]
    },
    {
     "data": {
      "application/vnd.jupyter.widget-view+json": {
       "model_id": "8acdb57f073c4371aacd4d4b9dd77bc3",
       "version_major": 2,
       "version_minor": 0
      },
      "text/plain": [
       "  0%|          | 0/2883 [00:00<?, ?it/s]"
      ]
     },
     "metadata": {},
     "output_type": "display_data"
    },
    {
     "name": "stdout",
     "output_type": "stream",
     "text": [
      "https://www.bitstamp.net/api/v2/ohlc/ethusd/?&currency_pair=ethusd&step=900&limit=1000&start=1623711600\n",
      "https://www.bitstamp.net/api/v2/ohlc/ethusd/?&currency_pair=ethusd&step=900&limit=1000&start=1624610700\n",
      "https://www.bitstamp.net/api/v2/ohlc/ethusd/?&currency_pair=ethusd&step=900&limit=1000&start=1625509800\n",
      "Downloaded from 2021-06-15 00:00:00 to 2021-07-15 00:15:00 1992.89\n",
      "Resample 15Min - TecAn ( windows 5, windows_limit 100 )\n",
      "Processing 2883 of ethusd\n"
     ]
    },
    {
     "data": {
      "application/vnd.jupyter.widget-view+json": {
       "model_id": "28c9131ca1474a229d13349258a43ebd",
       "version_major": 2,
       "version_minor": 0
      },
      "text/plain": [
       "  0%|          | 0/2883 [00:00<?, ?it/s]"
      ]
     },
     "metadata": {},
     "output_type": "display_data"
    },
    {
     "name": "stdout",
     "output_type": "stream",
     "text": [
      "https://www.bitstamp.net/api/v2/ohlc/btcusd/?&currency_pair=btcusd&step=900&limit=1000&start=1623711600\n",
      "https://www.bitstamp.net/api/v2/ohlc/btcusd/?&currency_pair=btcusd&step=900&limit=1000&start=1624610700\n",
      "https://www.bitstamp.net/api/v2/ohlc/btcusd/?&currency_pair=btcusd&step=900&limit=1000&start=1625509800\n",
      "Downloaded from 2021-06-15 00:00:00 to 2021-07-15 00:15:00 32832.43\n",
      "Resample 15Min - TecAn ( windows 5, windows_limit 100 )\n",
      "Processing 2883 of btcusd\n"
     ]
    },
    {
     "data": {
      "application/vnd.jupyter.widget-view+json": {
       "model_id": "ddbd0ee46eab455a93f0199b22c97804",
       "version_major": 2,
       "version_minor": 0
      },
      "text/plain": [
       "  0%|          | 0/2883 [00:00<?, ?it/s]"
      ]
     },
     "metadata": {},
     "output_type": "display_data"
    },
    {
     "name": "stdout",
     "output_type": "stream",
     "text": [
      "https://www.bitstamp.net/api/v2/ohlc/btcusd/?&currency_pair=btcusd&step=900&limit=1000&start=1622502000\n",
      "Downloaded from 2021-06-01 00:00:00 to 2021-06-11 09:45:00 37001.01\n",
      "Resample 15Min - TecAn ( windows 10, windows_limit 100 )\n",
      "Processing 999 of btcusd\n"
     ]
    },
    {
     "data": {
      "application/vnd.jupyter.widget-view+json": {
       "model_id": "4710fe946421409a830fc57411a00c25",
       "version_major": 2,
       "version_minor": 0
      },
      "text/plain": [
       "  0%|          | 0/999 [00:00<?, ?it/s]"
      ]
     },
     "metadata": {},
     "output_type": "display_data"
    },
    {
     "name": "stdout",
     "output_type": "stream",
     "text": [
      "https://www.bitstamp.net/api/v2/ohlc/ethusd/?&currency_pair=ethusd&step=900&limit=1000&start=1622502000\n",
      "Downloaded from 2021-06-01 00:00:00 to 2021-06-11 09:45:00 2450.30\n",
      "Resample 15Min - TecAn ( windows 10, windows_limit 100 )\n",
      "Processing 999 of ethusd\n"
     ]
    },
    {
     "data": {
      "application/vnd.jupyter.widget-view+json": {
       "model_id": "ab08ab3ba93942fda156a04837a2481a",
       "version_major": 2,
       "version_minor": 0
      },
      "text/plain": [
       "  0%|          | 0/999 [00:00<?, ?it/s]"
      ]
     },
     "metadata": {},
     "output_type": "display_data"
    },
    {
     "name": "stdout",
     "output_type": "stream",
     "text": [
      "https://www.bitstamp.net/api/v2/ohlc/bchbtc/?&currency_pair=bchbtc&step=900&limit=1000&start=1622502000\n",
      "Downloaded from 2021-06-01 00:00:00 to 2021-06-11 09:45:00 0.01623632\n",
      "Resample 15Min - TecAn ( windows 10, windows_limit 100 )\n",
      "Processing 999 of bchbtc\n"
     ]
    },
    {
     "data": {
      "application/vnd.jupyter.widget-view+json": {
       "model_id": "b0c37a045d7c4da9b17550ddad9cad3e",
       "version_major": 2,
       "version_minor": 0
      },
      "text/plain": [
       "  0%|          | 0/999 [00:00<?, ?it/s]"
      ]
     },
     "metadata": {},
     "output_type": "display_data"
    },
    {
     "name": "stdout",
     "output_type": "stream",
     "text": [
      "https://www.bitstamp.net/api/v2/ohlc/btcusd/?&currency_pair=btcusd&step=900&limit=1000&start=1590966000\n",
      "Downloaded from 2020-06-01 00:00:00 to 2020-06-11 09:45:00 9820.86\n",
      "Resample 15Min - TecAn ( windows 10, windows_limit 100 )\n",
      "Processing 999 of btcusd\n"
     ]
    },
    {
     "data": {
      "application/vnd.jupyter.widget-view+json": {
       "model_id": "c03692f4b0d84474adac5da4758250d6",
       "version_major": 2,
       "version_minor": 0
      },
      "text/plain": [
       "  0%|          | 0/999 [00:00<?, ?it/s]"
      ]
     },
     "metadata": {},
     "output_type": "display_data"
    },
    {
     "name": "stdout",
     "output_type": "stream",
     "text": [
      "https://www.bitstamp.net/api/v2/ohlc/ethusd/?&currency_pair=ethusd&step=900&limit=1000&start=1590966000\n",
      "Downloaded from 2020-06-01 00:00:00 to 2020-06-11 09:45:00 246.70\n",
      "Resample 15Min - TecAn ( windows 10, windows_limit 100 )\n",
      "Processing 999 of ethusd\n"
     ]
    },
    {
     "data": {
      "application/vnd.jupyter.widget-view+json": {
       "model_id": "16461f399c68463d9bb34d85b21099ba",
       "version_major": 2,
       "version_minor": 0
      },
      "text/plain": [
       "  0%|          | 0/999 [00:00<?, ?it/s]"
      ]
     },
     "metadata": {},
     "output_type": "display_data"
    },
    {
     "name": "stdout",
     "output_type": "stream",
     "text": [
      "https://www.bitstamp.net/api/v2/ohlc/bchbtc/?&currency_pair=bchbtc&step=900&limit=1000&start=1590966000\n",
      "Downloaded from 2020-06-01 00:00:00 to 2020-06-11 09:45:00 0.02600415\n",
      "Resample 15Min - TecAn ( windows 10, windows_limit 100 )\n",
      "Processing 999 of bchbtc\n"
     ]
    },
    {
     "data": {
      "application/vnd.jupyter.widget-view+json": {
       "model_id": "6c859c206c474671b0ee1ff892ab7881",
       "version_major": 2,
       "version_minor": 0
      },
      "text/plain": [
       "  0%|          | 0/999 [00:00<?, ?it/s]"
      ]
     },
     "metadata": {},
     "output_type": "display_data"
    },
    {
     "name": "stdout",
     "output_type": "stream",
     "text": [
      "https://www.bitstamp.net/api/v2/ohlc/btcusd/?&currency_pair=btcusd&step=900&limit=1000&start=1559343600\n",
      "Downloaded from 2019-06-01 00:00:00 to 2019-06-11 09:45:00 7961.80\n",
      "Resample 15Min - TecAn ( windows 10, windows_limit 100 )\n",
      "Processing 999 of btcusd\n"
     ]
    },
    {
     "data": {
      "application/vnd.jupyter.widget-view+json": {
       "model_id": "36612e8275ad4b748dec2b8e0b88fc17",
       "version_major": 2,
       "version_minor": 0
      },
      "text/plain": [
       "  0%|          | 0/999 [00:00<?, ?it/s]"
      ]
     },
     "metadata": {},
     "output_type": "display_data"
    },
    {
     "name": "stdout",
     "output_type": "stream",
     "text": [
      "https://www.bitstamp.net/api/v2/ohlc/ethusd/?&currency_pair=ethusd&step=900&limit=1000&start=1559343600\n",
      "Downloaded from 2019-06-01 00:00:00 to 2019-06-11 09:45:00 247.16\n",
      "Resample 15Min - TecAn ( windows 10, windows_limit 100 )\n",
      "Processing 999 of ethusd\n"
     ]
    },
    {
     "data": {
      "application/vnd.jupyter.widget-view+json": {
       "model_id": "afedc538c8354266b70a6944547c63e1",
       "version_major": 2,
       "version_minor": 0
      },
      "text/plain": [
       "  0%|          | 0/999 [00:00<?, ?it/s]"
      ]
     },
     "metadata": {},
     "output_type": "display_data"
    },
    {
     "name": "stdout",
     "output_type": "stream",
     "text": [
      "https://www.bitstamp.net/api/v2/ohlc/bchbtc/?&currency_pair=bchbtc&step=900&limit=1000&start=1559343600\n",
      "Downloaded from 2019-06-01 00:00:00 to 2019-06-11 09:45:00 0.04924831\n",
      "Resample 15Min - TecAn ( windows 10, windows_limit 100 )\n",
      "Processing 999 of bchbtc\n"
     ]
    },
    {
     "data": {
      "application/vnd.jupyter.widget-view+json": {
       "model_id": "028778fae1774291bbc2f4dab836e2f2",
       "version_major": 2,
       "version_minor": 0
      },
      "text/plain": [
       "  0%|          | 0/999 [00:00<?, ?it/s]"
      ]
     },
     "metadata": {},
     "output_type": "display_data"
    },
    {
     "name": "stdout",
     "output_type": "stream",
     "text": [
      "https://www.bitstamp.net/api/v2/ohlc/btcusd/?&currency_pair=btcusd&step=900&limit=1000&start=1527807600\n",
      "Downloaded from 2018-06-01 00:00:00 to 2018-06-11 09:45:00 6795.82\n",
      "Resample 15Min - TecAn ( windows 10, windows_limit 100 )\n",
      "Processing 999 of btcusd\n"
     ]
    },
    {
     "data": {
      "application/vnd.jupyter.widget-view+json": {
       "model_id": "88dfdd610fe9419596ea674574689df4",
       "version_major": 2,
       "version_minor": 0
      },
      "text/plain": [
       "  0%|          | 0/999 [00:00<?, ?it/s]"
      ]
     },
     "metadata": {},
     "output_type": "display_data"
    },
    {
     "name": "stdout",
     "output_type": "stream",
     "text": [
      "https://www.bitstamp.net/api/v2/ohlc/ethusd/?&currency_pair=ethusd&step=900&limit=1000&start=1527807600\n",
      "Downloaded from 2018-06-01 00:00:00 to 2018-06-11 09:45:00 532.74\n",
      "Resample 15Min - TecAn ( windows 10, windows_limit 100 )\n",
      "Processing 999 of ethusd\n"
     ]
    },
    {
     "data": {
      "application/vnd.jupyter.widget-view+json": {
       "model_id": "96e5c6ab2fae4cdeb96cc84a62e1371c",
       "version_major": 2,
       "version_minor": 0
      },
      "text/plain": [
       "  0%|          | 0/999 [00:00<?, ?it/s]"
      ]
     },
     "metadata": {},
     "output_type": "display_data"
    },
    {
     "name": "stdout",
     "output_type": "stream",
     "text": [
      "https://www.bitstamp.net/api/v2/ohlc/bchbtc/?&currency_pair=bchbtc&step=900&limit=1000&start=1527807600\n",
      "Downloaded from 2018-06-01 00:00:00 to 2018-06-11 09:45:00 0.13750095\n",
      "Resample 15Min - TecAn ( windows 10, windows_limit 100 )\n",
      "Processing 999 of bchbtc\n"
     ]
    },
    {
     "data": {
      "application/vnd.jupyter.widget-view+json": {
       "model_id": "45cb09881b8a418c9681e5ae52eb306d",
       "version_major": 2,
       "version_minor": 0
      },
      "text/plain": [
       "  0%|          | 0/999 [00:00<?, ?it/s]"
      ]
     },
     "metadata": {},
     "output_type": "display_data"
    },
    {
     "name": "stdout",
     "output_type": "stream",
     "text": [
      "https://www.bitstamp.net/api/v2/ohlc/btcusd/?&currency_pair=btcusd&step=900&limit=1000&start=1517443200\n",
      "Downloaded from 2018-02-01 00:00:00 to 2018-02-11 09:45:00 8012.89\n",
      "Resample 15Min - TecAn ( windows 10, windows_limit 100 )\n",
      "Processing 999 of btcusd\n"
     ]
    },
    {
     "data": {
      "application/vnd.jupyter.widget-view+json": {
       "model_id": "f83169456ee6453c91b379809b45d0f3",
       "version_major": 2,
       "version_minor": 0
      },
      "text/plain": [
       "  0%|          | 0/999 [00:00<?, ?it/s]"
      ]
     },
     "metadata": {},
     "output_type": "display_data"
    },
    {
     "name": "stdout",
     "output_type": "stream",
     "text": [
      "https://www.bitstamp.net/api/v2/ohlc/ethusd/?&currency_pair=ethusd&step=900&limit=1000&start=1517443200\n",
      "Downloaded from 2018-02-01 00:00:00 to 2018-02-11 09:45:00 800.68\n",
      "Resample 15Min - TecAn ( windows 10, windows_limit 100 )\n",
      "Processing 999 of ethusd\n"
     ]
    },
    {
     "data": {
      "application/vnd.jupyter.widget-view+json": {
       "model_id": "ca13c1fa2d6b413e938349d24b0d1924",
       "version_major": 2,
       "version_minor": 0
      },
      "text/plain": [
       "  0%|          | 0/999 [00:00<?, ?it/s]"
      ]
     },
     "metadata": {},
     "output_type": "display_data"
    },
    {
     "name": "stdout",
     "output_type": "stream",
     "text": [
      "https://www.bitstamp.net/api/v2/ohlc/bchbtc/?&currency_pair=bchbtc&step=900&limit=1000&start=1517443200\n",
      "Downloaded from 2018-02-01 00:00:00 to 2018-02-11 09:45:00 0.15351668\n",
      "Resample 15Min - TecAn ( windows 10, windows_limit 100 )\n",
      "Processing 999 of bchbtc\n"
     ]
    },
    {
     "data": {
      "application/vnd.jupyter.widget-view+json": {
       "model_id": "cf578060496f489492cbac7092d78535",
       "version_major": 2,
       "version_minor": 0
      },
      "text/plain": [
       "  0%|          | 0/999 [00:00<?, ?it/s]"
      ]
     },
     "metadata": {},
     "output_type": "display_data"
    },
    {
     "name": "stdout",
     "output_type": "stream",
     "text": [
      "https://www.bitstamp.net/api/v2/ohlc/btcusd/?&currency_pair=btcusd&step=900&limit=1000&start=1548979200\n",
      "Downloaded from 2019-02-01 00:00:00 to 2019-02-11 09:45:00 3594.91\n",
      "Resample 15Min - TecAn ( windows 10, windows_limit 100 )\n",
      "Processing 999 of btcusd\n"
     ]
    },
    {
     "data": {
      "application/vnd.jupyter.widget-view+json": {
       "model_id": "1aedf003389042a49d838eee873a3974",
       "version_major": 2,
       "version_minor": 0
      },
      "text/plain": [
       "  0%|          | 0/999 [00:00<?, ?it/s]"
      ]
     },
     "metadata": {},
     "output_type": "display_data"
    },
    {
     "name": "stdout",
     "output_type": "stream",
     "text": [
      "https://www.bitstamp.net/api/v2/ohlc/ethusd/?&currency_pair=ethusd&step=900&limit=1000&start=1548979200\n",
      "Downloaded from 2019-02-01 00:00:00 to 2019-02-11 09:45:00 119.46\n",
      "Resample 15Min - TecAn ( windows 10, windows_limit 100 )\n",
      "Processing 999 of ethusd\n"
     ]
    },
    {
     "data": {
      "application/vnd.jupyter.widget-view+json": {
       "model_id": "d8924386db734603b8c44048264c3df2",
       "version_major": 2,
       "version_minor": 0
      },
      "text/plain": [
       "  0%|          | 0/999 [00:00<?, ?it/s]"
      ]
     },
     "metadata": {},
     "output_type": "display_data"
    },
    {
     "name": "stdout",
     "output_type": "stream",
     "text": [
      "https://www.bitstamp.net/api/v2/ohlc/bchbtc/?&currency_pair=bchbtc&step=900&limit=1000&start=1548979200\n",
      "Downloaded from 2019-02-01 00:00:00 to 2019-02-11 09:45:00 0.03409899\n",
      "Resample 15Min - TecAn ( windows 10, windows_limit 100 )\n",
      "Processing 999 of bchbtc\n"
     ]
    },
    {
     "data": {
      "application/vnd.jupyter.widget-view+json": {
       "model_id": "4f784234608149f9a1938fa92b768560",
       "version_major": 2,
       "version_minor": 0
      },
      "text/plain": [
       "  0%|          | 0/999 [00:00<?, ?it/s]"
      ]
     },
     "metadata": {},
     "output_type": "display_data"
    },
    {
     "name": "stdout",
     "output_type": "stream",
     "text": [
      "https://www.bitstamp.net/api/v2/ohlc/btcusd/?&currency_pair=btcusd&step=900&limit=1000&start=1580515200\n",
      "Downloaded from 2020-02-01 00:00:00 to 2020-02-11 09:45:00 9783.54\n",
      "Resample 15Min - TecAn ( windows 10, windows_limit 100 )\n",
      "Processing 999 of btcusd\n"
     ]
    },
    {
     "data": {
      "application/vnd.jupyter.widget-view+json": {
       "model_id": "8002eee6dc5146c9a6d95b7af5320407",
       "version_major": 2,
       "version_minor": 0
      },
      "text/plain": [
       "  0%|          | 0/999 [00:00<?, ?it/s]"
      ]
     },
     "metadata": {},
     "output_type": "display_data"
    },
    {
     "name": "stdout",
     "output_type": "stream",
     "text": [
      "https://www.bitstamp.net/api/v2/ohlc/ethusd/?&currency_pair=ethusd&step=900&limit=1000&start=1580515200\n",
      "Downloaded from 2020-02-01 00:00:00 to 2020-02-11 09:45:00 221.25\n",
      "Resample 15Min - TecAn ( windows 10, windows_limit 100 )\n",
      "Processing 999 of ethusd\n"
     ]
    },
    {
     "data": {
      "application/vnd.jupyter.widget-view+json": {
       "model_id": "0617b989e5574bcfb5af848b15183bac",
       "version_major": 2,
       "version_minor": 0
      },
      "text/plain": [
       "  0%|          | 0/999 [00:00<?, ?it/s]"
      ]
     },
     "metadata": {},
     "output_type": "display_data"
    },
    {
     "name": "stdout",
     "output_type": "stream",
     "text": [
      "https://www.bitstamp.net/api/v2/ohlc/bchbtc/?&currency_pair=bchbtc&step=900&limit=1000&start=1580515200\n",
      "Downloaded from 2020-02-01 00:00:00 to 2020-02-11 09:45:00 0.04578914\n",
      "Resample 15Min - TecAn ( windows 10, windows_limit 100 )\n",
      "Processing 999 of bchbtc\n"
     ]
    },
    {
     "data": {
      "application/vnd.jupyter.widget-view+json": {
       "model_id": "4e2d0284263b4626bdb131e76eed015d",
       "version_major": 2,
       "version_minor": 0
      },
      "text/plain": [
       "  0%|          | 0/999 [00:00<?, ?it/s]"
      ]
     },
     "metadata": {},
     "output_type": "display_data"
    },
    {
     "name": "stdout",
     "output_type": "stream",
     "text": [
      "https://www.bitstamp.net/api/v2/ohlc/btcusd/?&currency_pair=btcusd&step=900&limit=1000&start=1612137600\n",
      "Downloaded from 2021-02-01 00:00:00 to 2021-02-11 09:45:00 45154.95\n",
      "Resample 15Min - TecAn ( windows 10, windows_limit 100 )\n",
      "Processing 999 of btcusd\n"
     ]
    },
    {
     "data": {
      "application/vnd.jupyter.widget-view+json": {
       "model_id": "0ed1ceef94514341be3f437e1dfa7f80",
       "version_major": 2,
       "version_minor": 0
      },
      "text/plain": [
       "  0%|          | 0/999 [00:00<?, ?it/s]"
      ]
     },
     "metadata": {},
     "output_type": "display_data"
    },
    {
     "name": "stdout",
     "output_type": "stream",
     "text": [
      "https://www.bitstamp.net/api/v2/ohlc/ethusd/?&currency_pair=ethusd&step=900&limit=1000&start=1612137600\n",
      "Downloaded from 2021-02-01 00:00:00 to 2021-02-11 09:45:00 1757.24\n",
      "Resample 15Min - TecAn ( windows 10, windows_limit 100 )\n",
      "Processing 999 of ethusd\n"
     ]
    },
    {
     "data": {
      "application/vnd.jupyter.widget-view+json": {
       "model_id": "e766d1effeb541889d54b771a16756c6",
       "version_major": 2,
       "version_minor": 0
      },
      "text/plain": [
       "  0%|          | 0/999 [00:00<?, ?it/s]"
      ]
     },
     "metadata": {},
     "output_type": "display_data"
    },
    {
     "name": "stdout",
     "output_type": "stream",
     "text": [
      "https://www.bitstamp.net/api/v2/ohlc/bchbtc/?&currency_pair=bchbtc&step=900&limit=1000&start=1612137600\n",
      "Downloaded from 2021-02-01 00:00:00 to 2021-02-11 09:45:00 0.01135207\n",
      "Resample 15Min - TecAn ( windows 10, windows_limit 100 )\n",
      "Processing 999 of bchbtc\n"
     ]
    },
    {
     "data": {
      "application/vnd.jupyter.widget-view+json": {
       "model_id": "7d60a962217247a29b5a928224b60e0e",
       "version_major": 2,
       "version_minor": 0
      },
      "text/plain": [
       "  0%|          | 0/999 [00:00<?, ?it/s]"
      ]
     },
     "metadata": {},
     "output_type": "display_data"
    },
    {
     "name": "stdout",
     "output_type": "stream",
     "text": [
      "https://www.bitstamp.net/api/v2/ohlc/ltceur/?&currency_pair=ltceur&step=900&limit=1000&start=1623711600\n",
      "https://www.bitstamp.net/api/v2/ohlc/ltceur/?&currency_pair=ltceur&step=900&limit=1000&start=1624610700\n",
      "https://www.bitstamp.net/api/v2/ohlc/ltceur/?&currency_pair=ltceur&step=900&limit=1000&start=1625509800\n",
      "Downloaded from 2021-06-15 00:00:00 to 2021-07-15 00:15:00 110.49\n",
      "Resample 15Min - TecAn ( windows 10, windows_limit 100 )\n",
      "Processing 2883 of ltceur\n"
     ]
    },
    {
     "data": {
      "application/vnd.jupyter.widget-view+json": {
       "model_id": "37718dfb6da340a9b887fba55172e1cb",
       "version_major": 2,
       "version_minor": 0
      },
      "text/plain": [
       "  0%|          | 0/2883 [00:00<?, ?it/s]"
      ]
     },
     "metadata": {},
     "output_type": "display_data"
    },
    {
     "name": "stdout",
     "output_type": "stream",
     "text": [
      "https://www.bitstamp.net/api/v2/ohlc/ltcusd/?&currency_pair=ltcusd&step=900&limit=1000&start=1623711600\n",
      "https://www.bitstamp.net/api/v2/ohlc/ltcusd/?&currency_pair=ltcusd&step=900&limit=1000&start=1624610700\n",
      "https://www.bitstamp.net/api/v2/ohlc/ltcusd/?&currency_pair=ltcusd&step=900&limit=1000&start=1625509800\n",
      "Downloaded from 2021-06-15 00:00:00 to 2021-07-15 00:15:00 130.91\n",
      "Resample 15Min - TecAn ( windows 10, windows_limit 100 )\n",
      "Processing 2883 of ltcusd\n"
     ]
    },
    {
     "data": {
      "application/vnd.jupyter.widget-view+json": {
       "model_id": "32ff46d9a5a24b949924e7b6083656d8",
       "version_major": 2,
       "version_minor": 0
      },
      "text/plain": [
       "  0%|          | 0/2883 [00:00<?, ?it/s]"
      ]
     },
     "metadata": {},
     "output_type": "display_data"
    },
    {
     "name": "stdout",
     "output_type": "stream",
     "text": [
      "https://www.bitstamp.net/api/v2/ohlc/ethusd/?&currency_pair=ethusd&step=900&limit=1000&start=1623711600\n",
      "https://www.bitstamp.net/api/v2/ohlc/ethusd/?&currency_pair=ethusd&step=900&limit=1000&start=1624610700\n",
      "https://www.bitstamp.net/api/v2/ohlc/ethusd/?&currency_pair=ethusd&step=900&limit=1000&start=1625509800\n",
      "Downloaded from 2021-06-15 00:00:00 to 2021-07-15 00:15:00 1992.89\n",
      "Resample 15Min - TecAn ( windows 10, windows_limit 100 )\n",
      "Processing 2883 of ethusd\n"
     ]
    },
    {
     "data": {
      "application/vnd.jupyter.widget-view+json": {
       "model_id": "f00367aa50a44c90b045137cf5e54031",
       "version_major": 2,
       "version_minor": 0
      },
      "text/plain": [
       "  0%|          | 0/2883 [00:00<?, ?it/s]"
      ]
     },
     "metadata": {},
     "output_type": "display_data"
    },
    {
     "name": "stdout",
     "output_type": "stream",
     "text": [
      "https://www.bitstamp.net/api/v2/ohlc/btcusd/?&currency_pair=btcusd&step=900&limit=1000&start=1623711600\n",
      "https://www.bitstamp.net/api/v2/ohlc/btcusd/?&currency_pair=btcusd&step=900&limit=1000&start=1624610700\n",
      "https://www.bitstamp.net/api/v2/ohlc/btcusd/?&currency_pair=btcusd&step=900&limit=1000&start=1625509800\n",
      "Downloaded from 2021-06-15 00:00:00 to 2021-07-15 00:15:00 32832.43\n",
      "Resample 15Min - TecAn ( windows 10, windows_limit 100 )\n",
      "Processing 2883 of btcusd\n"
     ]
    },
    {
     "data": {
      "application/vnd.jupyter.widget-view+json": {
       "model_id": "cdd486319a64423dacb8159fbf213433",
       "version_major": 2,
       "version_minor": 0
      },
      "text/plain": [
       "  0%|          | 0/2883 [00:00<?, ?it/s]"
      ]
     },
     "metadata": {},
     "output_type": "display_data"
    },
    {
     "name": "stdout",
     "output_type": "stream",
     "text": [
      "https://www.bitstamp.net/api/v2/ohlc/btcusd/?&currency_pair=btcusd&step=900&limit=1000&start=1622502000\n",
      "Downloaded from 2021-06-01 00:00:00 to 2021-06-11 09:45:00 37001.01\n",
      "Resample 15Min - TecAn ( windows 20, windows_limit 100 )\n",
      "Processing 999 of btcusd\n"
     ]
    },
    {
     "data": {
      "application/vnd.jupyter.widget-view+json": {
       "model_id": "e2fc122953c542feb3de9d65a81457da",
       "version_major": 2,
       "version_minor": 0
      },
      "text/plain": [
       "  0%|          | 0/999 [00:00<?, ?it/s]"
      ]
     },
     "metadata": {},
     "output_type": "display_data"
    },
    {
     "name": "stdout",
     "output_type": "stream",
     "text": [
      "https://www.bitstamp.net/api/v2/ohlc/ethusd/?&currency_pair=ethusd&step=900&limit=1000&start=1622502000\n",
      "Downloaded from 2021-06-01 00:00:00 to 2021-06-11 09:45:00 2450.30\n",
      "Resample 15Min - TecAn ( windows 20, windows_limit 100 )\n",
      "Processing 999 of ethusd\n"
     ]
    },
    {
     "data": {
      "application/vnd.jupyter.widget-view+json": {
       "model_id": "9fd1799a5ac84c39a4f20c1f4c4f1b8d",
       "version_major": 2,
       "version_minor": 0
      },
      "text/plain": [
       "  0%|          | 0/999 [00:00<?, ?it/s]"
      ]
     },
     "metadata": {},
     "output_type": "display_data"
    },
    {
     "name": "stdout",
     "output_type": "stream",
     "text": [
      "https://www.bitstamp.net/api/v2/ohlc/bchbtc/?&currency_pair=bchbtc&step=900&limit=1000&start=1622502000\n",
      "Downloaded from 2021-06-01 00:00:00 to 2021-06-11 09:45:00 0.01623632\n",
      "Resample 15Min - TecAn ( windows 20, windows_limit 100 )\n",
      "Processing 999 of bchbtc\n"
     ]
    },
    {
     "data": {
      "application/vnd.jupyter.widget-view+json": {
       "model_id": "3ef2d3db90134eff9abbd0721b4ddef8",
       "version_major": 2,
       "version_minor": 0
      },
      "text/plain": [
       "  0%|          | 0/999 [00:00<?, ?it/s]"
      ]
     },
     "metadata": {},
     "output_type": "display_data"
    },
    {
     "name": "stdout",
     "output_type": "stream",
     "text": [
      "https://www.bitstamp.net/api/v2/ohlc/btcusd/?&currency_pair=btcusd&step=900&limit=1000&start=1590966000\n",
      "Downloaded from 2020-06-01 00:00:00 to 2020-06-11 09:45:00 9820.86\n",
      "Resample 15Min - TecAn ( windows 20, windows_limit 100 )\n",
      "Processing 999 of btcusd\n"
     ]
    },
    {
     "data": {
      "application/vnd.jupyter.widget-view+json": {
       "model_id": "86f937585d9540dda1e093527c1172cf",
       "version_major": 2,
       "version_minor": 0
      },
      "text/plain": [
       "  0%|          | 0/999 [00:00<?, ?it/s]"
      ]
     },
     "metadata": {},
     "output_type": "display_data"
    },
    {
     "name": "stdout",
     "output_type": "stream",
     "text": [
      "https://www.bitstamp.net/api/v2/ohlc/ethusd/?&currency_pair=ethusd&step=900&limit=1000&start=1590966000\n",
      "Downloaded from 2020-06-01 00:00:00 to 2020-06-11 09:45:00 246.70\n",
      "Resample 15Min - TecAn ( windows 20, windows_limit 100 )\n",
      "Processing 999 of ethusd\n"
     ]
    },
    {
     "data": {
      "application/vnd.jupyter.widget-view+json": {
       "model_id": "781508f9bfd041e58abcd138d99a8cf5",
       "version_major": 2,
       "version_minor": 0
      },
      "text/plain": [
       "  0%|          | 0/999 [00:00<?, ?it/s]"
      ]
     },
     "metadata": {},
     "output_type": "display_data"
    },
    {
     "name": "stdout",
     "output_type": "stream",
     "text": [
      "https://www.bitstamp.net/api/v2/ohlc/bchbtc/?&currency_pair=bchbtc&step=900&limit=1000&start=1590966000\n",
      "Downloaded from 2020-06-01 00:00:00 to 2020-06-11 09:45:00 0.02600415\n",
      "Resample 15Min - TecAn ( windows 20, windows_limit 100 )\n",
      "Processing 999 of bchbtc\n"
     ]
    },
    {
     "data": {
      "application/vnd.jupyter.widget-view+json": {
       "model_id": "f38d523bd91342ad982268f2713361b1",
       "version_major": 2,
       "version_minor": 0
      },
      "text/plain": [
       "  0%|          | 0/999 [00:00<?, ?it/s]"
      ]
     },
     "metadata": {},
     "output_type": "display_data"
    },
    {
     "name": "stdout",
     "output_type": "stream",
     "text": [
      "https://www.bitstamp.net/api/v2/ohlc/btcusd/?&currency_pair=btcusd&step=900&limit=1000&start=1559343600\n",
      "Downloaded from 2019-06-01 00:00:00 to 2019-06-11 09:45:00 7961.80\n",
      "Resample 15Min - TecAn ( windows 20, windows_limit 100 )\n",
      "Processing 999 of btcusd\n"
     ]
    },
    {
     "data": {
      "application/vnd.jupyter.widget-view+json": {
       "model_id": "f073e60d7a83445b9247a17e115c302d",
       "version_major": 2,
       "version_minor": 0
      },
      "text/plain": [
       "  0%|          | 0/999 [00:00<?, ?it/s]"
      ]
     },
     "metadata": {},
     "output_type": "display_data"
    },
    {
     "name": "stdout",
     "output_type": "stream",
     "text": [
      "https://www.bitstamp.net/api/v2/ohlc/ethusd/?&currency_pair=ethusd&step=900&limit=1000&start=1559343600\n",
      "Downloaded from 2019-06-01 00:00:00 to 2019-06-11 09:45:00 247.16\n",
      "Resample 15Min - TecAn ( windows 20, windows_limit 100 )\n",
      "Processing 999 of ethusd\n"
     ]
    },
    {
     "data": {
      "application/vnd.jupyter.widget-view+json": {
       "model_id": "e34dc789f93f4f9993bfb20d33070c0f",
       "version_major": 2,
       "version_minor": 0
      },
      "text/plain": [
       "  0%|          | 0/999 [00:00<?, ?it/s]"
      ]
     },
     "metadata": {},
     "output_type": "display_data"
    },
    {
     "name": "stdout",
     "output_type": "stream",
     "text": [
      "https://www.bitstamp.net/api/v2/ohlc/bchbtc/?&currency_pair=bchbtc&step=900&limit=1000&start=1559343600\n",
      "Downloaded from 2019-06-01 00:00:00 to 2019-06-11 09:45:00 0.04924831\n",
      "Resample 15Min - TecAn ( windows 20, windows_limit 100 )\n",
      "Processing 999 of bchbtc\n"
     ]
    },
    {
     "data": {
      "application/vnd.jupyter.widget-view+json": {
       "model_id": "990181ff98784a4f8c87303a7f9ba27f",
       "version_major": 2,
       "version_minor": 0
      },
      "text/plain": [
       "  0%|          | 0/999 [00:00<?, ?it/s]"
      ]
     },
     "metadata": {},
     "output_type": "display_data"
    },
    {
     "name": "stdout",
     "output_type": "stream",
     "text": [
      "https://www.bitstamp.net/api/v2/ohlc/btcusd/?&currency_pair=btcusd&step=900&limit=1000&start=1527807600\n",
      "Downloaded from 2018-06-01 00:00:00 to 2018-06-11 09:45:00 6795.82\n",
      "Resample 15Min - TecAn ( windows 20, windows_limit 100 )\n",
      "Processing 999 of btcusd\n"
     ]
    },
    {
     "data": {
      "application/vnd.jupyter.widget-view+json": {
       "model_id": "fe61b62c44f548158bd2c621a775a454",
       "version_major": 2,
       "version_minor": 0
      },
      "text/plain": [
       "  0%|          | 0/999 [00:00<?, ?it/s]"
      ]
     },
     "metadata": {},
     "output_type": "display_data"
    },
    {
     "name": "stdout",
     "output_type": "stream",
     "text": [
      "https://www.bitstamp.net/api/v2/ohlc/ethusd/?&currency_pair=ethusd&step=900&limit=1000&start=1527807600\n",
      "Downloaded from 2018-06-01 00:00:00 to 2018-06-11 09:45:00 532.74\n",
      "Resample 15Min - TecAn ( windows 20, windows_limit 100 )\n",
      "Processing 999 of ethusd\n"
     ]
    },
    {
     "data": {
      "application/vnd.jupyter.widget-view+json": {
       "model_id": "e9fddca12b5a46d6bee842093eafeb9a",
       "version_major": 2,
       "version_minor": 0
      },
      "text/plain": [
       "  0%|          | 0/999 [00:00<?, ?it/s]"
      ]
     },
     "metadata": {},
     "output_type": "display_data"
    },
    {
     "name": "stdout",
     "output_type": "stream",
     "text": [
      "https://www.bitstamp.net/api/v2/ohlc/bchbtc/?&currency_pair=bchbtc&step=900&limit=1000&start=1527807600\n",
      "Downloaded from 2018-06-01 00:00:00 to 2018-06-11 09:45:00 0.13750095\n",
      "Resample 15Min - TecAn ( windows 20, windows_limit 100 )\n",
      "Processing 999 of bchbtc\n"
     ]
    },
    {
     "data": {
      "application/vnd.jupyter.widget-view+json": {
       "model_id": "f8dd1ffe1cff453ba75878e441c4663e",
       "version_major": 2,
       "version_minor": 0
      },
      "text/plain": [
       "  0%|          | 0/999 [00:00<?, ?it/s]"
      ]
     },
     "metadata": {},
     "output_type": "display_data"
    },
    {
     "name": "stdout",
     "output_type": "stream",
     "text": [
      "https://www.bitstamp.net/api/v2/ohlc/btcusd/?&currency_pair=btcusd&step=900&limit=1000&start=1517443200\n",
      "Downloaded from 2018-02-01 00:00:00 to 2018-02-11 09:45:00 8012.89\n",
      "Resample 15Min - TecAn ( windows 20, windows_limit 100 )\n",
      "Processing 999 of btcusd\n"
     ]
    },
    {
     "data": {
      "application/vnd.jupyter.widget-view+json": {
       "model_id": "d66dbc9fdd4446bb98d7aab85811a7c7",
       "version_major": 2,
       "version_minor": 0
      },
      "text/plain": [
       "  0%|          | 0/999 [00:00<?, ?it/s]"
      ]
     },
     "metadata": {},
     "output_type": "display_data"
    },
    {
     "name": "stdout",
     "output_type": "stream",
     "text": [
      "https://www.bitstamp.net/api/v2/ohlc/ethusd/?&currency_pair=ethusd&step=900&limit=1000&start=1517443200\n",
      "Downloaded from 2018-02-01 00:00:00 to 2018-02-11 09:45:00 800.68\n",
      "Resample 15Min - TecAn ( windows 20, windows_limit 100 )\n",
      "Processing 999 of ethusd\n"
     ]
    },
    {
     "data": {
      "application/vnd.jupyter.widget-view+json": {
       "model_id": "ed1ead31756845aca4dcd79f2e24333a",
       "version_major": 2,
       "version_minor": 0
      },
      "text/plain": [
       "  0%|          | 0/999 [00:00<?, ?it/s]"
      ]
     },
     "metadata": {},
     "output_type": "display_data"
    },
    {
     "name": "stdout",
     "output_type": "stream",
     "text": [
      "https://www.bitstamp.net/api/v2/ohlc/bchbtc/?&currency_pair=bchbtc&step=900&limit=1000&start=1517443200\n",
      "Downloaded from 2018-02-01 00:00:00 to 2018-02-11 09:45:00 0.15351668\n",
      "Resample 15Min - TecAn ( windows 20, windows_limit 100 )\n",
      "Processing 999 of bchbtc\n"
     ]
    },
    {
     "data": {
      "application/vnd.jupyter.widget-view+json": {
       "model_id": "97bf7340cccb4884b10061ea08512aa9",
       "version_major": 2,
       "version_minor": 0
      },
      "text/plain": [
       "  0%|          | 0/999 [00:00<?, ?it/s]"
      ]
     },
     "metadata": {},
     "output_type": "display_data"
    },
    {
     "name": "stdout",
     "output_type": "stream",
     "text": [
      "https://www.bitstamp.net/api/v2/ohlc/btcusd/?&currency_pair=btcusd&step=900&limit=1000&start=1548979200\n",
      "Downloaded from 2019-02-01 00:00:00 to 2019-02-11 09:45:00 3594.91\n",
      "Resample 15Min - TecAn ( windows 20, windows_limit 100 )\n",
      "Processing 999 of btcusd\n"
     ]
    },
    {
     "data": {
      "application/vnd.jupyter.widget-view+json": {
       "model_id": "30dfcecc151847478c9da12c0087e5c7",
       "version_major": 2,
       "version_minor": 0
      },
      "text/plain": [
       "  0%|          | 0/999 [00:00<?, ?it/s]"
      ]
     },
     "metadata": {},
     "output_type": "display_data"
    },
    {
     "name": "stdout",
     "output_type": "stream",
     "text": [
      "https://www.bitstamp.net/api/v2/ohlc/ethusd/?&currency_pair=ethusd&step=900&limit=1000&start=1548979200\n",
      "Downloaded from 2019-02-01 00:00:00 to 2019-02-11 09:45:00 119.46\n",
      "Resample 15Min - TecAn ( windows 20, windows_limit 100 )\n",
      "Processing 999 of ethusd\n"
     ]
    },
    {
     "data": {
      "application/vnd.jupyter.widget-view+json": {
       "model_id": "018e2493d93749878859d6e77de35ba4",
       "version_major": 2,
       "version_minor": 0
      },
      "text/plain": [
       "  0%|          | 0/999 [00:00<?, ?it/s]"
      ]
     },
     "metadata": {},
     "output_type": "display_data"
    },
    {
     "name": "stdout",
     "output_type": "stream",
     "text": [
      "https://www.bitstamp.net/api/v2/ohlc/bchbtc/?&currency_pair=bchbtc&step=900&limit=1000&start=1548979200\n",
      "Downloaded from 2019-02-01 00:00:00 to 2019-02-11 09:45:00 0.03409899\n",
      "Resample 15Min - TecAn ( windows 20, windows_limit 100 )\n",
      "Processing 999 of bchbtc\n"
     ]
    },
    {
     "data": {
      "application/vnd.jupyter.widget-view+json": {
       "model_id": "52424efaf3a847b3b3bef4d3b0365467",
       "version_major": 2,
       "version_minor": 0
      },
      "text/plain": [
       "  0%|          | 0/999 [00:00<?, ?it/s]"
      ]
     },
     "metadata": {},
     "output_type": "display_data"
    },
    {
     "name": "stdout",
     "output_type": "stream",
     "text": [
      "https://www.bitstamp.net/api/v2/ohlc/btcusd/?&currency_pair=btcusd&step=900&limit=1000&start=1580515200\n",
      "Downloaded from 2020-02-01 00:00:00 to 2020-02-11 09:45:00 9783.54\n",
      "Resample 15Min - TecAn ( windows 20, windows_limit 100 )\n",
      "Processing 999 of btcusd\n"
     ]
    },
    {
     "data": {
      "application/vnd.jupyter.widget-view+json": {
       "model_id": "e230b78f42ec459abd79316257055bf6",
       "version_major": 2,
       "version_minor": 0
      },
      "text/plain": [
       "  0%|          | 0/999 [00:00<?, ?it/s]"
      ]
     },
     "metadata": {},
     "output_type": "display_data"
    },
    {
     "name": "stdout",
     "output_type": "stream",
     "text": [
      "https://www.bitstamp.net/api/v2/ohlc/ethusd/?&currency_pair=ethusd&step=900&limit=1000&start=1580515200\n",
      "Downloaded from 2020-02-01 00:00:00 to 2020-02-11 09:45:00 221.25\n",
      "Resample 15Min - TecAn ( windows 20, windows_limit 100 )\n",
      "Processing 999 of ethusd\n"
     ]
    },
    {
     "data": {
      "application/vnd.jupyter.widget-view+json": {
       "model_id": "d17dc54fb08747c6b70aa241fe981e71",
       "version_major": 2,
       "version_minor": 0
      },
      "text/plain": [
       "  0%|          | 0/999 [00:00<?, ?it/s]"
      ]
     },
     "metadata": {},
     "output_type": "display_data"
    },
    {
     "name": "stdout",
     "output_type": "stream",
     "text": [
      "https://www.bitstamp.net/api/v2/ohlc/bchbtc/?&currency_pair=bchbtc&step=900&limit=1000&start=1580515200\n",
      "Downloaded from 2020-02-01 00:00:00 to 2020-02-11 09:45:00 0.04578914\n",
      "Resample 15Min - TecAn ( windows 20, windows_limit 100 )\n",
      "Processing 999 of bchbtc\n"
     ]
    },
    {
     "data": {
      "application/vnd.jupyter.widget-view+json": {
       "model_id": "d40aa3f826e9412a97d6dcc90b7afd04",
       "version_major": 2,
       "version_minor": 0
      },
      "text/plain": [
       "  0%|          | 0/999 [00:00<?, ?it/s]"
      ]
     },
     "metadata": {},
     "output_type": "display_data"
    },
    {
     "name": "stdout",
     "output_type": "stream",
     "text": [
      "https://www.bitstamp.net/api/v2/ohlc/btcusd/?&currency_pair=btcusd&step=900&limit=1000&start=1612137600\n",
      "Downloaded from 2021-02-01 00:00:00 to 2021-02-11 09:45:00 45154.95\n",
      "Resample 15Min - TecAn ( windows 20, windows_limit 100 )\n",
      "Processing 999 of btcusd\n"
     ]
    },
    {
     "data": {
      "application/vnd.jupyter.widget-view+json": {
       "model_id": "9dd3e71762984112b898369a337f9117",
       "version_major": 2,
       "version_minor": 0
      },
      "text/plain": [
       "  0%|          | 0/999 [00:00<?, ?it/s]"
      ]
     },
     "metadata": {},
     "output_type": "display_data"
    },
    {
     "name": "stdout",
     "output_type": "stream",
     "text": [
      "https://www.bitstamp.net/api/v2/ohlc/ethusd/?&currency_pair=ethusd&step=900&limit=1000&start=1612137600\n",
      "Downloaded from 2021-02-01 00:00:00 to 2021-02-11 09:45:00 1757.24\n",
      "Resample 15Min - TecAn ( windows 20, windows_limit 100 )\n",
      "Processing 999 of ethusd\n"
     ]
    },
    {
     "data": {
      "application/vnd.jupyter.widget-view+json": {
       "model_id": "d3f098195ed948dbbadfcfc1a089fe18",
       "version_major": 2,
       "version_minor": 0
      },
      "text/plain": [
       "  0%|          | 0/999 [00:00<?, ?it/s]"
      ]
     },
     "metadata": {},
     "output_type": "display_data"
    },
    {
     "name": "stdout",
     "output_type": "stream",
     "text": [
      "https://www.bitstamp.net/api/v2/ohlc/bchbtc/?&currency_pair=bchbtc&step=900&limit=1000&start=1612137600\n",
      "Downloaded from 2021-02-01 00:00:00 to 2021-02-11 09:45:00 0.01135207\n",
      "Resample 15Min - TecAn ( windows 20, windows_limit 100 )\n",
      "Processing 999 of bchbtc\n"
     ]
    },
    {
     "data": {
      "application/vnd.jupyter.widget-view+json": {
       "model_id": "6305d9ef7a6b43a5a8da5fd8459e52c3",
       "version_major": 2,
       "version_minor": 0
      },
      "text/plain": [
       "  0%|          | 0/999 [00:00<?, ?it/s]"
      ]
     },
     "metadata": {},
     "output_type": "display_data"
    },
    {
     "name": "stdout",
     "output_type": "stream",
     "text": [
      "https://www.bitstamp.net/api/v2/ohlc/ltceur/?&currency_pair=ltceur&step=900&limit=1000&start=1623711600\n",
      "https://www.bitstamp.net/api/v2/ohlc/ltceur/?&currency_pair=ltceur&step=900&limit=1000&start=1624610700\n",
      "https://www.bitstamp.net/api/v2/ohlc/ltceur/?&currency_pair=ltceur&step=900&limit=1000&start=1625509800\n",
      "Downloaded from 2021-06-15 00:00:00 to 2021-07-15 00:15:00 110.49\n",
      "Resample 15Min - TecAn ( windows 20, windows_limit 100 )\n",
      "Processing 2883 of ltceur\n"
     ]
    },
    {
     "data": {
      "application/vnd.jupyter.widget-view+json": {
       "model_id": "31d16d75ea804dd7906dcaa0c44be50e",
       "version_major": 2,
       "version_minor": 0
      },
      "text/plain": [
       "  0%|          | 0/2883 [00:00<?, ?it/s]"
      ]
     },
     "metadata": {},
     "output_type": "display_data"
    },
    {
     "name": "stdout",
     "output_type": "stream",
     "text": [
      "https://www.bitstamp.net/api/v2/ohlc/ltcusd/?&currency_pair=ltcusd&step=900&limit=1000&start=1623711600\n",
      "https://www.bitstamp.net/api/v2/ohlc/ltcusd/?&currency_pair=ltcusd&step=900&limit=1000&start=1624610700\n",
      "https://www.bitstamp.net/api/v2/ohlc/ltcusd/?&currency_pair=ltcusd&step=900&limit=1000&start=1625509800\n",
      "Downloaded from 2021-06-15 00:00:00 to 2021-07-15 00:15:00 130.91\n",
      "Resample 15Min - TecAn ( windows 20, windows_limit 100 )\n",
      "Processing 2883 of ltcusd\n"
     ]
    },
    {
     "data": {
      "application/vnd.jupyter.widget-view+json": {
       "model_id": "0e12c21b1d4f48fd9e9ae2fe32be7e8f",
       "version_major": 2,
       "version_minor": 0
      },
      "text/plain": [
       "  0%|          | 0/2883 [00:00<?, ?it/s]"
      ]
     },
     "metadata": {},
     "output_type": "display_data"
    },
    {
     "name": "stdout",
     "output_type": "stream",
     "text": [
      "https://www.bitstamp.net/api/v2/ohlc/ethusd/?&currency_pair=ethusd&step=900&limit=1000&start=1623711600\n",
      "https://www.bitstamp.net/api/v2/ohlc/ethusd/?&currency_pair=ethusd&step=900&limit=1000&start=1624610700\n",
      "https://www.bitstamp.net/api/v2/ohlc/ethusd/?&currency_pair=ethusd&step=900&limit=1000&start=1625509800\n",
      "Downloaded from 2021-06-15 00:00:00 to 2021-07-15 00:15:00 1992.89\n",
      "Resample 15Min - TecAn ( windows 20, windows_limit 100 )\n",
      "Processing 2883 of ethusd\n"
     ]
    },
    {
     "data": {
      "application/vnd.jupyter.widget-view+json": {
       "model_id": "be518143085e44fcbbb6f92b4bee8cd0",
       "version_major": 2,
       "version_minor": 0
      },
      "text/plain": [
       "  0%|          | 0/2883 [00:00<?, ?it/s]"
      ]
     },
     "metadata": {},
     "output_type": "display_data"
    },
    {
     "name": "stdout",
     "output_type": "stream",
     "text": [
      "https://www.bitstamp.net/api/v2/ohlc/btcusd/?&currency_pair=btcusd&step=900&limit=1000&start=1623711600\n",
      "https://www.bitstamp.net/api/v2/ohlc/btcusd/?&currency_pair=btcusd&step=900&limit=1000&start=1624610700\n",
      "https://www.bitstamp.net/api/v2/ohlc/btcusd/?&currency_pair=btcusd&step=900&limit=1000&start=1625509800\n",
      "Downloaded from 2021-06-15 00:00:00 to 2021-07-15 00:15:00 32832.43\n",
      "Resample 15Min - TecAn ( windows 20, windows_limit 100 )\n",
      "Processing 2883 of btcusd\n"
     ]
    },
    {
     "data": {
      "application/vnd.jupyter.widget-view+json": {
       "model_id": "7ebc563defcc4a87b8003e544ef42714",
       "version_major": 2,
       "version_minor": 0
      },
      "text/plain": [
       "  0%|          | 0/2883 [00:00<?, ?it/s]"
      ]
     },
     "metadata": {},
     "output_type": "display_data"
    },
    {
     "name": "stdout",
     "output_type": "stream",
     "text": [
      "https://www.bitstamp.net/api/v2/ohlc/btcusd/?&currency_pair=btcusd&step=900&limit=1000&start=1622502000\n",
      "Downloaded from 2021-06-01 00:00:00 to 2021-06-11 09:45:00 37001.01\n",
      "Resample 15Min - TecAn ( windows 30, windows_limit 100 )\n",
      "Processing 999 of btcusd\n"
     ]
    },
    {
     "data": {
      "application/vnd.jupyter.widget-view+json": {
       "model_id": "7487aed9b3fb4f8a8caaa81b84490018",
       "version_major": 2,
       "version_minor": 0
      },
      "text/plain": [
       "  0%|          | 0/999 [00:00<?, ?it/s]"
      ]
     },
     "metadata": {},
     "output_type": "display_data"
    },
    {
     "name": "stdout",
     "output_type": "stream",
     "text": [
      "https://www.bitstamp.net/api/v2/ohlc/ethusd/?&currency_pair=ethusd&step=900&limit=1000&start=1622502000\n",
      "Downloaded from 2021-06-01 00:00:00 to 2021-06-11 09:45:00 2450.30\n",
      "Resample 15Min - TecAn ( windows 30, windows_limit 100 )\n",
      "Processing 999 of ethusd\n"
     ]
    },
    {
     "data": {
      "application/vnd.jupyter.widget-view+json": {
       "model_id": "a9d0dfb4f12848f8aa3d2e1cb7f0efd9",
       "version_major": 2,
       "version_minor": 0
      },
      "text/plain": [
       "  0%|          | 0/999 [00:00<?, ?it/s]"
      ]
     },
     "metadata": {},
     "output_type": "display_data"
    },
    {
     "name": "stdout",
     "output_type": "stream",
     "text": [
      "https://www.bitstamp.net/api/v2/ohlc/bchbtc/?&currency_pair=bchbtc&step=900&limit=1000&start=1622502000\n",
      "Downloaded from 2021-06-01 00:00:00 to 2021-06-11 09:45:00 0.01623632\n",
      "Resample 15Min - TecAn ( windows 30, windows_limit 100 )\n",
      "Processing 999 of bchbtc\n"
     ]
    },
    {
     "data": {
      "application/vnd.jupyter.widget-view+json": {
       "model_id": "89e034d552c14b5bad5b573a40045af8",
       "version_major": 2,
       "version_minor": 0
      },
      "text/plain": [
       "  0%|          | 0/999 [00:00<?, ?it/s]"
      ]
     },
     "metadata": {},
     "output_type": "display_data"
    },
    {
     "name": "stdout",
     "output_type": "stream",
     "text": [
      "https://www.bitstamp.net/api/v2/ohlc/btcusd/?&currency_pair=btcusd&step=900&limit=1000&start=1590966000\n",
      "Downloaded from 2020-06-01 00:00:00 to 2020-06-11 09:45:00 9820.86\n",
      "Resample 15Min - TecAn ( windows 30, windows_limit 100 )\n",
      "Processing 999 of btcusd\n"
     ]
    },
    {
     "data": {
      "application/vnd.jupyter.widget-view+json": {
       "model_id": "bf3bd58124084170b982ab973d849f1d",
       "version_major": 2,
       "version_minor": 0
      },
      "text/plain": [
       "  0%|          | 0/999 [00:00<?, ?it/s]"
      ]
     },
     "metadata": {},
     "output_type": "display_data"
    },
    {
     "name": "stdout",
     "output_type": "stream",
     "text": [
      "https://www.bitstamp.net/api/v2/ohlc/ethusd/?&currency_pair=ethusd&step=900&limit=1000&start=1590966000\n",
      "Downloaded from 2020-06-01 00:00:00 to 2020-06-11 09:45:00 246.70\n",
      "Resample 15Min - TecAn ( windows 30, windows_limit 100 )\n",
      "Processing 999 of ethusd\n"
     ]
    },
    {
     "data": {
      "application/vnd.jupyter.widget-view+json": {
       "model_id": "1be991519c2f4c6d969d0b8d4cc9266c",
       "version_major": 2,
       "version_minor": 0
      },
      "text/plain": [
       "  0%|          | 0/999 [00:00<?, ?it/s]"
      ]
     },
     "metadata": {},
     "output_type": "display_data"
    },
    {
     "name": "stdout",
     "output_type": "stream",
     "text": [
      "https://www.bitstamp.net/api/v2/ohlc/bchbtc/?&currency_pair=bchbtc&step=900&limit=1000&start=1590966000\n",
      "Downloaded from 2020-06-01 00:00:00 to 2020-06-11 09:45:00 0.02600415\n",
      "Resample 15Min - TecAn ( windows 30, windows_limit 100 )\n",
      "Processing 999 of bchbtc\n"
     ]
    },
    {
     "data": {
      "application/vnd.jupyter.widget-view+json": {
       "model_id": "bb98600040e643a8afe8b17797574670",
       "version_major": 2,
       "version_minor": 0
      },
      "text/plain": [
       "  0%|          | 0/999 [00:00<?, ?it/s]"
      ]
     },
     "metadata": {},
     "output_type": "display_data"
    },
    {
     "name": "stdout",
     "output_type": "stream",
     "text": [
      "https://www.bitstamp.net/api/v2/ohlc/btcusd/?&currency_pair=btcusd&step=900&limit=1000&start=1559343600\n",
      "Downloaded from 2019-06-01 00:00:00 to 2019-06-11 09:45:00 7961.80\n",
      "Resample 15Min - TecAn ( windows 30, windows_limit 100 )\n",
      "Processing 999 of btcusd\n"
     ]
    },
    {
     "data": {
      "application/vnd.jupyter.widget-view+json": {
       "model_id": "bcffba1d27aa4a7e9b5cf45689d2a160",
       "version_major": 2,
       "version_minor": 0
      },
      "text/plain": [
       "  0%|          | 0/999 [00:00<?, ?it/s]"
      ]
     },
     "metadata": {},
     "output_type": "display_data"
    },
    {
     "name": "stdout",
     "output_type": "stream",
     "text": [
      "https://www.bitstamp.net/api/v2/ohlc/ethusd/?&currency_pair=ethusd&step=900&limit=1000&start=1559343600\n",
      "Downloaded from 2019-06-01 00:00:00 to 2019-06-11 09:45:00 247.16\n",
      "Resample 15Min - TecAn ( windows 30, windows_limit 100 )\n",
      "Processing 999 of ethusd\n"
     ]
    },
    {
     "data": {
      "application/vnd.jupyter.widget-view+json": {
       "model_id": "69e47efd882e45269eba19c76bd613e0",
       "version_major": 2,
       "version_minor": 0
      },
      "text/plain": [
       "  0%|          | 0/999 [00:00<?, ?it/s]"
      ]
     },
     "metadata": {},
     "output_type": "display_data"
    },
    {
     "name": "stdout",
     "output_type": "stream",
     "text": [
      "https://www.bitstamp.net/api/v2/ohlc/bchbtc/?&currency_pair=bchbtc&step=900&limit=1000&start=1559343600\n",
      "Downloaded from 2019-06-01 00:00:00 to 2019-06-11 09:45:00 0.04924831\n",
      "Resample 15Min - TecAn ( windows 30, windows_limit 100 )\n",
      "Processing 999 of bchbtc\n"
     ]
    },
    {
     "data": {
      "application/vnd.jupyter.widget-view+json": {
       "model_id": "b8baa3fcb89048bc9962751ca17ca91a",
       "version_major": 2,
       "version_minor": 0
      },
      "text/plain": [
       "  0%|          | 0/999 [00:00<?, ?it/s]"
      ]
     },
     "metadata": {},
     "output_type": "display_data"
    },
    {
     "name": "stdout",
     "output_type": "stream",
     "text": [
      "https://www.bitstamp.net/api/v2/ohlc/btcusd/?&currency_pair=btcusd&step=900&limit=1000&start=1527807600\n",
      "Downloaded from 2018-06-01 00:00:00 to 2018-06-11 09:45:00 6795.82\n",
      "Resample 15Min - TecAn ( windows 30, windows_limit 100 )\n",
      "Processing 999 of btcusd\n"
     ]
    },
    {
     "data": {
      "application/vnd.jupyter.widget-view+json": {
       "model_id": "57cadb7b07b64acfb2c972963639b5db",
       "version_major": 2,
       "version_minor": 0
      },
      "text/plain": [
       "  0%|          | 0/999 [00:00<?, ?it/s]"
      ]
     },
     "metadata": {},
     "output_type": "display_data"
    },
    {
     "name": "stdout",
     "output_type": "stream",
     "text": [
      "https://www.bitstamp.net/api/v2/ohlc/ethusd/?&currency_pair=ethusd&step=900&limit=1000&start=1527807600\n",
      "Downloaded from 2018-06-01 00:00:00 to 2018-06-11 09:45:00 532.74\n",
      "Resample 15Min - TecAn ( windows 30, windows_limit 100 )\n",
      "Processing 999 of ethusd\n"
     ]
    },
    {
     "data": {
      "application/vnd.jupyter.widget-view+json": {
       "model_id": "9cfdcb1438124312a3ea99cf6a5b6fb2",
       "version_major": 2,
       "version_minor": 0
      },
      "text/plain": [
       "  0%|          | 0/999 [00:00<?, ?it/s]"
      ]
     },
     "metadata": {},
     "output_type": "display_data"
    },
    {
     "name": "stdout",
     "output_type": "stream",
     "text": [
      "https://www.bitstamp.net/api/v2/ohlc/bchbtc/?&currency_pair=bchbtc&step=900&limit=1000&start=1527807600\n",
      "Downloaded from 2018-06-01 00:00:00 to 2018-06-11 09:45:00 0.13750095\n",
      "Resample 15Min - TecAn ( windows 30, windows_limit 100 )\n",
      "Processing 999 of bchbtc\n"
     ]
    },
    {
     "data": {
      "application/vnd.jupyter.widget-view+json": {
       "model_id": "f444d7fe92334b1182b806b43fdd8c85",
       "version_major": 2,
       "version_minor": 0
      },
      "text/plain": [
       "  0%|          | 0/999 [00:00<?, ?it/s]"
      ]
     },
     "metadata": {},
     "output_type": "display_data"
    },
    {
     "name": "stdout",
     "output_type": "stream",
     "text": [
      "https://www.bitstamp.net/api/v2/ohlc/btcusd/?&currency_pair=btcusd&step=900&limit=1000&start=1517443200\n",
      "Downloaded from 2018-02-01 00:00:00 to 2018-02-11 09:45:00 8012.89\n",
      "Resample 15Min - TecAn ( windows 30, windows_limit 100 )\n",
      "Processing 999 of btcusd\n"
     ]
    },
    {
     "data": {
      "application/vnd.jupyter.widget-view+json": {
       "model_id": "aeeb10f2ce034fdab26c29c5be497343",
       "version_major": 2,
       "version_minor": 0
      },
      "text/plain": [
       "  0%|          | 0/999 [00:00<?, ?it/s]"
      ]
     },
     "metadata": {},
     "output_type": "display_data"
    },
    {
     "name": "stdout",
     "output_type": "stream",
     "text": [
      "https://www.bitstamp.net/api/v2/ohlc/ethusd/?&currency_pair=ethusd&step=900&limit=1000&start=1517443200\n",
      "Downloaded from 2018-02-01 00:00:00 to 2018-02-11 09:45:00 800.68\n",
      "Resample 15Min - TecAn ( windows 30, windows_limit 100 )\n",
      "Processing 999 of ethusd\n"
     ]
    },
    {
     "data": {
      "application/vnd.jupyter.widget-view+json": {
       "model_id": "9498853ff7dd4d89bc121f377a187fe5",
       "version_major": 2,
       "version_minor": 0
      },
      "text/plain": [
       "  0%|          | 0/999 [00:00<?, ?it/s]"
      ]
     },
     "metadata": {},
     "output_type": "display_data"
    },
    {
     "name": "stdout",
     "output_type": "stream",
     "text": [
      "https://www.bitstamp.net/api/v2/ohlc/bchbtc/?&currency_pair=bchbtc&step=900&limit=1000&start=1517443200\n",
      "Downloaded from 2018-02-01 00:00:00 to 2018-02-11 09:45:00 0.15351668\n",
      "Resample 15Min - TecAn ( windows 30, windows_limit 100 )\n",
      "Processing 999 of bchbtc\n"
     ]
    },
    {
     "data": {
      "application/vnd.jupyter.widget-view+json": {
       "model_id": "ca52f256714848949bf393cc806ef495",
       "version_major": 2,
       "version_minor": 0
      },
      "text/plain": [
       "  0%|          | 0/999 [00:00<?, ?it/s]"
      ]
     },
     "metadata": {},
     "output_type": "display_data"
    },
    {
     "name": "stdout",
     "output_type": "stream",
     "text": [
      "https://www.bitstamp.net/api/v2/ohlc/btcusd/?&currency_pair=btcusd&step=900&limit=1000&start=1548979200\n",
      "Downloaded from 2019-02-01 00:00:00 to 2019-02-11 09:45:00 3594.91\n",
      "Resample 15Min - TecAn ( windows 30, windows_limit 100 )\n",
      "Processing 999 of btcusd\n"
     ]
    },
    {
     "data": {
      "application/vnd.jupyter.widget-view+json": {
       "model_id": "255795b0a37544a0b800b299497f3789",
       "version_major": 2,
       "version_minor": 0
      },
      "text/plain": [
       "  0%|          | 0/999 [00:00<?, ?it/s]"
      ]
     },
     "metadata": {},
     "output_type": "display_data"
    },
    {
     "name": "stdout",
     "output_type": "stream",
     "text": [
      "https://www.bitstamp.net/api/v2/ohlc/ethusd/?&currency_pair=ethusd&step=900&limit=1000&start=1548979200\n",
      "Downloaded from 2019-02-01 00:00:00 to 2019-02-11 09:45:00 119.46\n",
      "Resample 15Min - TecAn ( windows 30, windows_limit 100 )\n",
      "Processing 999 of ethusd\n"
     ]
    },
    {
     "data": {
      "application/vnd.jupyter.widget-view+json": {
       "model_id": "10d5296000f34999b43ff1a33b5057b0",
       "version_major": 2,
       "version_minor": 0
      },
      "text/plain": [
       "  0%|          | 0/999 [00:00<?, ?it/s]"
      ]
     },
     "metadata": {},
     "output_type": "display_data"
    },
    {
     "name": "stdout",
     "output_type": "stream",
     "text": [
      "https://www.bitstamp.net/api/v2/ohlc/bchbtc/?&currency_pair=bchbtc&step=900&limit=1000&start=1548979200\n",
      "Downloaded from 2019-02-01 00:00:00 to 2019-02-11 09:45:00 0.03409899\n",
      "Resample 15Min - TecAn ( windows 30, windows_limit 100 )\n",
      "Processing 999 of bchbtc\n"
     ]
    },
    {
     "data": {
      "application/vnd.jupyter.widget-view+json": {
       "model_id": "4549701a4ce7472abb73aa6becf66667",
       "version_major": 2,
       "version_minor": 0
      },
      "text/plain": [
       "  0%|          | 0/999 [00:00<?, ?it/s]"
      ]
     },
     "metadata": {},
     "output_type": "display_data"
    },
    {
     "name": "stdout",
     "output_type": "stream",
     "text": [
      "https://www.bitstamp.net/api/v2/ohlc/btcusd/?&currency_pair=btcusd&step=900&limit=1000&start=1580515200\n",
      "Downloaded from 2020-02-01 00:00:00 to 2020-02-11 09:45:00 9783.54\n",
      "Resample 15Min - TecAn ( windows 30, windows_limit 100 )\n",
      "Processing 999 of btcusd\n"
     ]
    },
    {
     "data": {
      "application/vnd.jupyter.widget-view+json": {
       "model_id": "8eac492099ee4206a0e3e1a9d5f6b0a6",
       "version_major": 2,
       "version_minor": 0
      },
      "text/plain": [
       "  0%|          | 0/999 [00:00<?, ?it/s]"
      ]
     },
     "metadata": {},
     "output_type": "display_data"
    },
    {
     "name": "stdout",
     "output_type": "stream",
     "text": [
      "https://www.bitstamp.net/api/v2/ohlc/ethusd/?&currency_pair=ethusd&step=900&limit=1000&start=1580515200\n",
      "Downloaded from 2020-02-01 00:00:00 to 2020-02-11 09:45:00 221.25\n",
      "Resample 15Min - TecAn ( windows 30, windows_limit 100 )\n",
      "Processing 999 of ethusd\n"
     ]
    },
    {
     "data": {
      "application/vnd.jupyter.widget-view+json": {
       "model_id": "88ed2a343dc6431aabe6e774ba146cfc",
       "version_major": 2,
       "version_minor": 0
      },
      "text/plain": [
       "  0%|          | 0/999 [00:00<?, ?it/s]"
      ]
     },
     "metadata": {},
     "output_type": "display_data"
    },
    {
     "name": "stdout",
     "output_type": "stream",
     "text": [
      "https://www.bitstamp.net/api/v2/ohlc/bchbtc/?&currency_pair=bchbtc&step=900&limit=1000&start=1580515200\n",
      "Downloaded from 2020-02-01 00:00:00 to 2020-02-11 09:45:00 0.04578914\n",
      "Resample 15Min - TecAn ( windows 30, windows_limit 100 )\n",
      "Processing 999 of bchbtc\n"
     ]
    },
    {
     "data": {
      "application/vnd.jupyter.widget-view+json": {
       "model_id": "e208ffb39292452dbb6d38a2f4b35fb6",
       "version_major": 2,
       "version_minor": 0
      },
      "text/plain": [
       "  0%|          | 0/999 [00:00<?, ?it/s]"
      ]
     },
     "metadata": {},
     "output_type": "display_data"
    },
    {
     "name": "stdout",
     "output_type": "stream",
     "text": [
      "https://www.bitstamp.net/api/v2/ohlc/btcusd/?&currency_pair=btcusd&step=900&limit=1000&start=1612137600\n",
      "Downloaded from 2021-02-01 00:00:00 to 2021-02-11 09:45:00 45154.95\n",
      "Resample 15Min - TecAn ( windows 30, windows_limit 100 )\n",
      "Processing 999 of btcusd\n"
     ]
    },
    {
     "data": {
      "application/vnd.jupyter.widget-view+json": {
       "model_id": "d5bc0ecc4edd4ebc953861781552ec00",
       "version_major": 2,
       "version_minor": 0
      },
      "text/plain": [
       "  0%|          | 0/999 [00:00<?, ?it/s]"
      ]
     },
     "metadata": {},
     "output_type": "display_data"
    },
    {
     "name": "stdout",
     "output_type": "stream",
     "text": [
      "https://www.bitstamp.net/api/v2/ohlc/ethusd/?&currency_pair=ethusd&step=900&limit=1000&start=1612137600\n",
      "Downloaded from 2021-02-01 00:00:00 to 2021-02-11 09:45:00 1757.24\n",
      "Resample 15Min - TecAn ( windows 30, windows_limit 100 )\n",
      "Processing 999 of ethusd\n"
     ]
    },
    {
     "data": {
      "application/vnd.jupyter.widget-view+json": {
       "model_id": "573e030a77ab4a35a5f6253ce8e6c82f",
       "version_major": 2,
       "version_minor": 0
      },
      "text/plain": [
       "  0%|          | 0/999 [00:00<?, ?it/s]"
      ]
     },
     "metadata": {},
     "output_type": "display_data"
    },
    {
     "name": "stdout",
     "output_type": "stream",
     "text": [
      "https://www.bitstamp.net/api/v2/ohlc/bchbtc/?&currency_pair=bchbtc&step=900&limit=1000&start=1612137600\n",
      "Downloaded from 2021-02-01 00:00:00 to 2021-02-11 09:45:00 0.01135207\n",
      "Resample 15Min - TecAn ( windows 30, windows_limit 100 )\n",
      "Processing 999 of bchbtc\n"
     ]
    },
    {
     "data": {
      "application/vnd.jupyter.widget-view+json": {
       "model_id": "7cf5e377e311455dafa531e8ab37da7b",
       "version_major": 2,
       "version_minor": 0
      },
      "text/plain": [
       "  0%|          | 0/999 [00:00<?, ?it/s]"
      ]
     },
     "metadata": {},
     "output_type": "display_data"
    },
    {
     "name": "stdout",
     "output_type": "stream",
     "text": [
      "https://www.bitstamp.net/api/v2/ohlc/ltceur/?&currency_pair=ltceur&step=900&limit=1000&start=1623711600\n",
      "https://www.bitstamp.net/api/v2/ohlc/ltceur/?&currency_pair=ltceur&step=900&limit=1000&start=1624610700\n",
      "https://www.bitstamp.net/api/v2/ohlc/ltceur/?&currency_pair=ltceur&step=900&limit=1000&start=1625509800\n",
      "Downloaded from 2021-06-15 00:00:00 to 2021-07-15 00:15:00 110.49\n",
      "Resample 15Min - TecAn ( windows 30, windows_limit 100 )\n",
      "Processing 2883 of ltceur\n"
     ]
    },
    {
     "data": {
      "application/vnd.jupyter.widget-view+json": {
       "model_id": "f838d59dd5e844d4832a17ae5025ad11",
       "version_major": 2,
       "version_minor": 0
      },
      "text/plain": [
       "  0%|          | 0/2883 [00:00<?, ?it/s]"
      ]
     },
     "metadata": {},
     "output_type": "display_data"
    },
    {
     "name": "stdout",
     "output_type": "stream",
     "text": [
      "https://www.bitstamp.net/api/v2/ohlc/ltcusd/?&currency_pair=ltcusd&step=900&limit=1000&start=1623711600\n",
      "https://www.bitstamp.net/api/v2/ohlc/ltcusd/?&currency_pair=ltcusd&step=900&limit=1000&start=1624610700\n",
      "https://www.bitstamp.net/api/v2/ohlc/ltcusd/?&currency_pair=ltcusd&step=900&limit=1000&start=1625509800\n",
      "Downloaded from 2021-06-15 00:00:00 to 2021-07-15 00:15:00 130.91\n",
      "Resample 15Min - TecAn ( windows 30, windows_limit 100 )\n",
      "Processing 2883 of ltcusd\n"
     ]
    },
    {
     "data": {
      "application/vnd.jupyter.widget-view+json": {
       "model_id": "78e6446d53c74df197bb200cff2010d1",
       "version_major": 2,
       "version_minor": 0
      },
      "text/plain": [
       "  0%|          | 0/2883 [00:00<?, ?it/s]"
      ]
     },
     "metadata": {},
     "output_type": "display_data"
    },
    {
     "name": "stdout",
     "output_type": "stream",
     "text": [
      "https://www.bitstamp.net/api/v2/ohlc/ethusd/?&currency_pair=ethusd&step=900&limit=1000&start=1623711600\n",
      "https://www.bitstamp.net/api/v2/ohlc/ethusd/?&currency_pair=ethusd&step=900&limit=1000&start=1624610700\n",
      "https://www.bitstamp.net/api/v2/ohlc/ethusd/?&currency_pair=ethusd&step=900&limit=1000&start=1625509800\n",
      "Downloaded from 2021-06-15 00:00:00 to 2021-07-15 00:15:00 1992.89\n",
      "Resample 15Min - TecAn ( windows 30, windows_limit 100 )\n",
      "Processing 2883 of ethusd\n"
     ]
    },
    {
     "data": {
      "application/vnd.jupyter.widget-view+json": {
       "model_id": "8aa09205596b43c39c8c9747a6e923ce",
       "version_major": 2,
       "version_minor": 0
      },
      "text/plain": [
       "  0%|          | 0/2883 [00:00<?, ?it/s]"
      ]
     },
     "metadata": {},
     "output_type": "display_data"
    },
    {
     "name": "stdout",
     "output_type": "stream",
     "text": [
      "https://www.bitstamp.net/api/v2/ohlc/btcusd/?&currency_pair=btcusd&step=900&limit=1000&start=1623711600\n",
      "https://www.bitstamp.net/api/v2/ohlc/btcusd/?&currency_pair=btcusd&step=900&limit=1000&start=1624610700\n",
      "https://www.bitstamp.net/api/v2/ohlc/btcusd/?&currency_pair=btcusd&step=900&limit=1000&start=1625509800\n",
      "Downloaded from 2021-06-15 00:00:00 to 2021-07-15 00:15:00 32832.43\n",
      "Resample 15Min - TecAn ( windows 30, windows_limit 100 )\n",
      "Processing 2883 of btcusd\n"
     ]
    },
    {
     "data": {
      "application/vnd.jupyter.widget-view+json": {
       "model_id": "f878f0117c98495a85d5bb5bf4dfa125",
       "version_major": 2,
       "version_minor": 0
      },
      "text/plain": [
       "  0%|          | 0/2883 [00:00<?, ?it/s]"
      ]
     },
     "metadata": {},
     "output_type": "display_data"
    },
    {
     "name": "stdout",
     "output_type": "stream",
     "text": [
      "https://www.bitstamp.net/api/v2/ohlc/btcusd/?&currency_pair=btcusd&step=900&limit=1000&start=1622502000\n",
      "Downloaded from 2021-06-01 00:00:00 to 2021-06-11 09:45:00 37001.01\n",
      "Resample 15Min - TecAn ( windows 40, windows_limit 100 )\n",
      "Processing 999 of btcusd\n"
     ]
    },
    {
     "data": {
      "application/vnd.jupyter.widget-view+json": {
       "model_id": "4f800cef7533422b90215987bb8bd198",
       "version_major": 2,
       "version_minor": 0
      },
      "text/plain": [
       "  0%|          | 0/999 [00:00<?, ?it/s]"
      ]
     },
     "metadata": {},
     "output_type": "display_data"
    },
    {
     "name": "stdout",
     "output_type": "stream",
     "text": [
      "https://www.bitstamp.net/api/v2/ohlc/ethusd/?&currency_pair=ethusd&step=900&limit=1000&start=1622502000\n",
      "Downloaded from 2021-06-01 00:00:00 to 2021-06-11 09:45:00 2450.30\n",
      "Resample 15Min - TecAn ( windows 40, windows_limit 100 )\n",
      "Processing 999 of ethusd\n"
     ]
    },
    {
     "data": {
      "application/vnd.jupyter.widget-view+json": {
       "model_id": "290622f7be11417d8a043204d2225094",
       "version_major": 2,
       "version_minor": 0
      },
      "text/plain": [
       "  0%|          | 0/999 [00:00<?, ?it/s]"
      ]
     },
     "metadata": {},
     "output_type": "display_data"
    },
    {
     "name": "stdout",
     "output_type": "stream",
     "text": [
      "https://www.bitstamp.net/api/v2/ohlc/bchbtc/?&currency_pair=bchbtc&step=900&limit=1000&start=1622502000\n",
      "Downloaded from 2021-06-01 00:00:00 to 2021-06-11 09:45:00 0.01623632\n",
      "Resample 15Min - TecAn ( windows 40, windows_limit 100 )\n",
      "Processing 999 of bchbtc\n"
     ]
    },
    {
     "data": {
      "application/vnd.jupyter.widget-view+json": {
       "model_id": "d86108a7e4a64a64b3ddbbe59da0e158",
       "version_major": 2,
       "version_minor": 0
      },
      "text/plain": [
       "  0%|          | 0/999 [00:00<?, ?it/s]"
      ]
     },
     "metadata": {},
     "output_type": "display_data"
    },
    {
     "name": "stdout",
     "output_type": "stream",
     "text": [
      "https://www.bitstamp.net/api/v2/ohlc/btcusd/?&currency_pair=btcusd&step=900&limit=1000&start=1590966000\n",
      "Downloaded from 2020-06-01 00:00:00 to 2020-06-11 09:45:00 9820.86\n",
      "Resample 15Min - TecAn ( windows 40, windows_limit 100 )\n",
      "Processing 999 of btcusd\n"
     ]
    },
    {
     "data": {
      "application/vnd.jupyter.widget-view+json": {
       "model_id": "ea8c39933fcf4d9bae00f7e2cb139f63",
       "version_major": 2,
       "version_minor": 0
      },
      "text/plain": [
       "  0%|          | 0/999 [00:00<?, ?it/s]"
      ]
     },
     "metadata": {},
     "output_type": "display_data"
    },
    {
     "name": "stdout",
     "output_type": "stream",
     "text": [
      "https://www.bitstamp.net/api/v2/ohlc/ethusd/?&currency_pair=ethusd&step=900&limit=1000&start=1590966000\n",
      "Downloaded from 2020-06-01 00:00:00 to 2020-06-11 09:45:00 246.70\n",
      "Resample 15Min - TecAn ( windows 40, windows_limit 100 )\n",
      "Processing 999 of ethusd\n"
     ]
    },
    {
     "data": {
      "application/vnd.jupyter.widget-view+json": {
       "model_id": "9bddeb435eb14151a841e445e01a9b93",
       "version_major": 2,
       "version_minor": 0
      },
      "text/plain": [
       "  0%|          | 0/999 [00:00<?, ?it/s]"
      ]
     },
     "metadata": {},
     "output_type": "display_data"
    },
    {
     "name": "stdout",
     "output_type": "stream",
     "text": [
      "https://www.bitstamp.net/api/v2/ohlc/bchbtc/?&currency_pair=bchbtc&step=900&limit=1000&start=1590966000\n",
      "Downloaded from 2020-06-01 00:00:00 to 2020-06-11 09:45:00 0.02600415\n",
      "Resample 15Min - TecAn ( windows 40, windows_limit 100 )\n",
      "Processing 999 of bchbtc\n"
     ]
    },
    {
     "data": {
      "application/vnd.jupyter.widget-view+json": {
       "model_id": "7d419028e4bc423ab71b876d92efc8c3",
       "version_major": 2,
       "version_minor": 0
      },
      "text/plain": [
       "  0%|          | 0/999 [00:00<?, ?it/s]"
      ]
     },
     "metadata": {},
     "output_type": "display_data"
    },
    {
     "name": "stdout",
     "output_type": "stream",
     "text": [
      "https://www.bitstamp.net/api/v2/ohlc/btcusd/?&currency_pair=btcusd&step=900&limit=1000&start=1559343600\n",
      "Downloaded from 2019-06-01 00:00:00 to 2019-06-11 09:45:00 7961.80\n",
      "Resample 15Min - TecAn ( windows 40, windows_limit 100 )\n",
      "Processing 999 of btcusd\n"
     ]
    },
    {
     "data": {
      "application/vnd.jupyter.widget-view+json": {
       "model_id": "91b0a94e2f52406fb0d41d91d8af1067",
       "version_major": 2,
       "version_minor": 0
      },
      "text/plain": [
       "  0%|          | 0/999 [00:00<?, ?it/s]"
      ]
     },
     "metadata": {},
     "output_type": "display_data"
    },
    {
     "name": "stdout",
     "output_type": "stream",
     "text": [
      "https://www.bitstamp.net/api/v2/ohlc/ethusd/?&currency_pair=ethusd&step=900&limit=1000&start=1559343600\n",
      "Downloaded from 2019-06-01 00:00:00 to 2019-06-11 09:45:00 247.16\n",
      "Resample 15Min - TecAn ( windows 40, windows_limit 100 )\n",
      "Processing 999 of ethusd\n"
     ]
    },
    {
     "data": {
      "application/vnd.jupyter.widget-view+json": {
       "model_id": "58f1a0cd91da47118ce2bbe5b5868d21",
       "version_major": 2,
       "version_minor": 0
      },
      "text/plain": [
       "  0%|          | 0/999 [00:00<?, ?it/s]"
      ]
     },
     "metadata": {},
     "output_type": "display_data"
    },
    {
     "name": "stdout",
     "output_type": "stream",
     "text": [
      "https://www.bitstamp.net/api/v2/ohlc/bchbtc/?&currency_pair=bchbtc&step=900&limit=1000&start=1559343600\n",
      "Downloaded from 2019-06-01 00:00:00 to 2019-06-11 09:45:00 0.04924831\n",
      "Resample 15Min - TecAn ( windows 40, windows_limit 100 )\n",
      "Processing 999 of bchbtc\n"
     ]
    },
    {
     "data": {
      "application/vnd.jupyter.widget-view+json": {
       "model_id": "18540c30ed964473847012eda729fa8f",
       "version_major": 2,
       "version_minor": 0
      },
      "text/plain": [
       "  0%|          | 0/999 [00:00<?, ?it/s]"
      ]
     },
     "metadata": {},
     "output_type": "display_data"
    },
    {
     "name": "stdout",
     "output_type": "stream",
     "text": [
      "https://www.bitstamp.net/api/v2/ohlc/btcusd/?&currency_pair=btcusd&step=900&limit=1000&start=1527807600\n",
      "Downloaded from 2018-06-01 00:00:00 to 2018-06-11 09:45:00 6795.82\n",
      "Resample 15Min - TecAn ( windows 40, windows_limit 100 )\n",
      "Processing 999 of btcusd\n"
     ]
    },
    {
     "data": {
      "application/vnd.jupyter.widget-view+json": {
       "model_id": "0805192d9c244825b52eaed93a295a70",
       "version_major": 2,
       "version_minor": 0
      },
      "text/plain": [
       "  0%|          | 0/999 [00:00<?, ?it/s]"
      ]
     },
     "metadata": {},
     "output_type": "display_data"
    },
    {
     "name": "stdout",
     "output_type": "stream",
     "text": [
      "https://www.bitstamp.net/api/v2/ohlc/ethusd/?&currency_pair=ethusd&step=900&limit=1000&start=1527807600\n",
      "Downloaded from 2018-06-01 00:00:00 to 2018-06-11 09:45:00 532.74\n",
      "Resample 15Min - TecAn ( windows 40, windows_limit 100 )\n",
      "Processing 999 of ethusd\n"
     ]
    },
    {
     "data": {
      "application/vnd.jupyter.widget-view+json": {
       "model_id": "026a6e2ef93349419b5999597d5c7801",
       "version_major": 2,
       "version_minor": 0
      },
      "text/plain": [
       "  0%|          | 0/999 [00:00<?, ?it/s]"
      ]
     },
     "metadata": {},
     "output_type": "display_data"
    },
    {
     "name": "stdout",
     "output_type": "stream",
     "text": [
      "https://www.bitstamp.net/api/v2/ohlc/bchbtc/?&currency_pair=bchbtc&step=900&limit=1000&start=1527807600\n",
      "Downloaded from 2018-06-01 00:00:00 to 2018-06-11 09:45:00 0.13750095\n",
      "Resample 15Min - TecAn ( windows 40, windows_limit 100 )\n",
      "Processing 999 of bchbtc\n"
     ]
    },
    {
     "data": {
      "application/vnd.jupyter.widget-view+json": {
       "model_id": "44ebd21f44714ac1bb7a128c3d98d645",
       "version_major": 2,
       "version_minor": 0
      },
      "text/plain": [
       "  0%|          | 0/999 [00:00<?, ?it/s]"
      ]
     },
     "metadata": {},
     "output_type": "display_data"
    },
    {
     "name": "stdout",
     "output_type": "stream",
     "text": [
      "https://www.bitstamp.net/api/v2/ohlc/btcusd/?&currency_pair=btcusd&step=900&limit=1000&start=1517443200\n",
      "Downloaded from 2018-02-01 00:00:00 to 2018-02-11 09:45:00 8012.89\n",
      "Resample 15Min - TecAn ( windows 40, windows_limit 100 )\n",
      "Processing 999 of btcusd\n"
     ]
    },
    {
     "data": {
      "application/vnd.jupyter.widget-view+json": {
       "model_id": "8885e1ffaa254504b203a4c78fb40bad",
       "version_major": 2,
       "version_minor": 0
      },
      "text/plain": [
       "  0%|          | 0/999 [00:00<?, ?it/s]"
      ]
     },
     "metadata": {},
     "output_type": "display_data"
    },
    {
     "name": "stdout",
     "output_type": "stream",
     "text": [
      "https://www.bitstamp.net/api/v2/ohlc/ethusd/?&currency_pair=ethusd&step=900&limit=1000&start=1517443200\n",
      "Downloaded from 2018-02-01 00:00:00 to 2018-02-11 09:45:00 800.68\n",
      "Resample 15Min - TecAn ( windows 40, windows_limit 100 )\n",
      "Processing 999 of ethusd\n"
     ]
    },
    {
     "data": {
      "application/vnd.jupyter.widget-view+json": {
       "model_id": "6c0b9c5c36a145b099339607603566d7",
       "version_major": 2,
       "version_minor": 0
      },
      "text/plain": [
       "  0%|          | 0/999 [00:00<?, ?it/s]"
      ]
     },
     "metadata": {},
     "output_type": "display_data"
    },
    {
     "name": "stdout",
     "output_type": "stream",
     "text": [
      "https://www.bitstamp.net/api/v2/ohlc/bchbtc/?&currency_pair=bchbtc&step=900&limit=1000&start=1517443200\n",
      "Downloaded from 2018-02-01 00:00:00 to 2018-02-11 09:45:00 0.15351668\n",
      "Resample 15Min - TecAn ( windows 40, windows_limit 100 )\n",
      "Processing 999 of bchbtc\n"
     ]
    },
    {
     "data": {
      "application/vnd.jupyter.widget-view+json": {
       "model_id": "5b465e6fdbbf484f964d238473758f3e",
       "version_major": 2,
       "version_minor": 0
      },
      "text/plain": [
       "  0%|          | 0/999 [00:00<?, ?it/s]"
      ]
     },
     "metadata": {},
     "output_type": "display_data"
    },
    {
     "name": "stdout",
     "output_type": "stream",
     "text": [
      "https://www.bitstamp.net/api/v2/ohlc/btcusd/?&currency_pair=btcusd&step=900&limit=1000&start=1548979200\n",
      "Downloaded from 2019-02-01 00:00:00 to 2019-02-11 09:45:00 3594.91\n",
      "Resample 15Min - TecAn ( windows 40, windows_limit 100 )\n",
      "Processing 999 of btcusd\n"
     ]
    },
    {
     "data": {
      "application/vnd.jupyter.widget-view+json": {
       "model_id": "8367f4dcd20f4df28b9564b374fff811",
       "version_major": 2,
       "version_minor": 0
      },
      "text/plain": [
       "  0%|          | 0/999 [00:00<?, ?it/s]"
      ]
     },
     "metadata": {},
     "output_type": "display_data"
    },
    {
     "name": "stdout",
     "output_type": "stream",
     "text": [
      "https://www.bitstamp.net/api/v2/ohlc/ethusd/?&currency_pair=ethusd&step=900&limit=1000&start=1548979200\n",
      "Downloaded from 2019-02-01 00:00:00 to 2019-02-11 09:45:00 119.46\n",
      "Resample 15Min - TecAn ( windows 40, windows_limit 100 )\n",
      "Processing 999 of ethusd\n"
     ]
    },
    {
     "data": {
      "application/vnd.jupyter.widget-view+json": {
       "model_id": "ce5cf13b4ab34458a70978d89fe65712",
       "version_major": 2,
       "version_minor": 0
      },
      "text/plain": [
       "  0%|          | 0/999 [00:00<?, ?it/s]"
      ]
     },
     "metadata": {},
     "output_type": "display_data"
    },
    {
     "name": "stdout",
     "output_type": "stream",
     "text": [
      "https://www.bitstamp.net/api/v2/ohlc/bchbtc/?&currency_pair=bchbtc&step=900&limit=1000&start=1548979200\n",
      "Downloaded from 2019-02-01 00:00:00 to 2019-02-11 09:45:00 0.03409899\n",
      "Resample 15Min - TecAn ( windows 40, windows_limit 100 )\n",
      "Processing 999 of bchbtc\n"
     ]
    },
    {
     "data": {
      "application/vnd.jupyter.widget-view+json": {
       "model_id": "d923819179e448ce9ee4a624f143a622",
       "version_major": 2,
       "version_minor": 0
      },
      "text/plain": [
       "  0%|          | 0/999 [00:00<?, ?it/s]"
      ]
     },
     "metadata": {},
     "output_type": "display_data"
    },
    {
     "name": "stdout",
     "output_type": "stream",
     "text": [
      "https://www.bitstamp.net/api/v2/ohlc/btcusd/?&currency_pair=btcusd&step=900&limit=1000&start=1580515200\n",
      "Downloaded from 2020-02-01 00:00:00 to 2020-02-11 09:45:00 9783.54\n",
      "Resample 15Min - TecAn ( windows 40, windows_limit 100 )\n",
      "Processing 999 of btcusd\n"
     ]
    },
    {
     "data": {
      "application/vnd.jupyter.widget-view+json": {
       "model_id": "a5a86ccc1f424bf59b1f900c91989018",
       "version_major": 2,
       "version_minor": 0
      },
      "text/plain": [
       "  0%|          | 0/999 [00:00<?, ?it/s]"
      ]
     },
     "metadata": {},
     "output_type": "display_data"
    },
    {
     "name": "stdout",
     "output_type": "stream",
     "text": [
      "https://www.bitstamp.net/api/v2/ohlc/ethusd/?&currency_pair=ethusd&step=900&limit=1000&start=1580515200\n",
      "Downloaded from 2020-02-01 00:00:00 to 2020-02-11 09:45:00 221.25\n",
      "Resample 15Min - TecAn ( windows 40, windows_limit 100 )\n",
      "Processing 999 of ethusd\n"
     ]
    },
    {
     "data": {
      "application/vnd.jupyter.widget-view+json": {
       "model_id": "109d60f2a1884999b15a59ad6a5f90f1",
       "version_major": 2,
       "version_minor": 0
      },
      "text/plain": [
       "  0%|          | 0/999 [00:00<?, ?it/s]"
      ]
     },
     "metadata": {},
     "output_type": "display_data"
    },
    {
     "name": "stdout",
     "output_type": "stream",
     "text": [
      "https://www.bitstamp.net/api/v2/ohlc/bchbtc/?&currency_pair=bchbtc&step=900&limit=1000&start=1580515200\n",
      "Downloaded from 2020-02-01 00:00:00 to 2020-02-11 09:45:00 0.04578914\n",
      "Resample 15Min - TecAn ( windows 40, windows_limit 100 )\n",
      "Processing 999 of bchbtc\n"
     ]
    },
    {
     "data": {
      "application/vnd.jupyter.widget-view+json": {
       "model_id": "4e0bd2ba80a34e1d903086026c2ed38d",
       "version_major": 2,
       "version_minor": 0
      },
      "text/plain": [
       "  0%|          | 0/999 [00:00<?, ?it/s]"
      ]
     },
     "metadata": {},
     "output_type": "display_data"
    },
    {
     "name": "stdout",
     "output_type": "stream",
     "text": [
      "https://www.bitstamp.net/api/v2/ohlc/btcusd/?&currency_pair=btcusd&step=900&limit=1000&start=1612137600\n",
      "Downloaded from 2021-02-01 00:00:00 to 2021-02-11 09:45:00 45154.95\n",
      "Resample 15Min - TecAn ( windows 40, windows_limit 100 )\n",
      "Processing 999 of btcusd\n"
     ]
    },
    {
     "data": {
      "application/vnd.jupyter.widget-view+json": {
       "model_id": "72069f70b1844237a7eabf0eae85f6ab",
       "version_major": 2,
       "version_minor": 0
      },
      "text/plain": [
       "  0%|          | 0/999 [00:00<?, ?it/s]"
      ]
     },
     "metadata": {},
     "output_type": "display_data"
    },
    {
     "name": "stdout",
     "output_type": "stream",
     "text": [
      "https://www.bitstamp.net/api/v2/ohlc/ethusd/?&currency_pair=ethusd&step=900&limit=1000&start=1612137600\n",
      "Downloaded from 2021-02-01 00:00:00 to 2021-02-11 09:45:00 1757.24\n",
      "Resample 15Min - TecAn ( windows 40, windows_limit 100 )\n",
      "Processing 999 of ethusd\n"
     ]
    },
    {
     "data": {
      "application/vnd.jupyter.widget-view+json": {
       "model_id": "96fc82ca89544a65a63d95bfcdbbd53d",
       "version_major": 2,
       "version_minor": 0
      },
      "text/plain": [
       "  0%|          | 0/999 [00:00<?, ?it/s]"
      ]
     },
     "metadata": {},
     "output_type": "display_data"
    },
    {
     "name": "stdout",
     "output_type": "stream",
     "text": [
      "https://www.bitstamp.net/api/v2/ohlc/bchbtc/?&currency_pair=bchbtc&step=900&limit=1000&start=1612137600\n",
      "Downloaded from 2021-02-01 00:00:00 to 2021-02-11 09:45:00 0.01135207\n",
      "Resample 15Min - TecAn ( windows 40, windows_limit 100 )\n",
      "Processing 999 of bchbtc\n"
     ]
    },
    {
     "data": {
      "application/vnd.jupyter.widget-view+json": {
       "model_id": "de767da77b0e42ec94c912304408bc34",
       "version_major": 2,
       "version_minor": 0
      },
      "text/plain": [
       "  0%|          | 0/999 [00:00<?, ?it/s]"
      ]
     },
     "metadata": {},
     "output_type": "display_data"
    },
    {
     "name": "stdout",
     "output_type": "stream",
     "text": [
      "https://www.bitstamp.net/api/v2/ohlc/ltceur/?&currency_pair=ltceur&step=900&limit=1000&start=1623711600\n",
      "https://www.bitstamp.net/api/v2/ohlc/ltceur/?&currency_pair=ltceur&step=900&limit=1000&start=1624610700\n",
      "https://www.bitstamp.net/api/v2/ohlc/ltceur/?&currency_pair=ltceur&step=900&limit=1000&start=1625509800\n",
      "Downloaded from 2021-06-15 00:00:00 to 2021-07-15 00:15:00 110.49\n",
      "Resample 15Min - TecAn ( windows 40, windows_limit 100 )\n",
      "Processing 2883 of ltceur\n"
     ]
    },
    {
     "data": {
      "application/vnd.jupyter.widget-view+json": {
       "model_id": "9a5e10af0e9e45429bc93e33ae99ba19",
       "version_major": 2,
       "version_minor": 0
      },
      "text/plain": [
       "  0%|          | 0/2883 [00:00<?, ?it/s]"
      ]
     },
     "metadata": {},
     "output_type": "display_data"
    },
    {
     "name": "stdout",
     "output_type": "stream",
     "text": [
      "https://www.bitstamp.net/api/v2/ohlc/ltcusd/?&currency_pair=ltcusd&step=900&limit=1000&start=1623711600\n",
      "https://www.bitstamp.net/api/v2/ohlc/ltcusd/?&currency_pair=ltcusd&step=900&limit=1000&start=1624610700\n",
      "https://www.bitstamp.net/api/v2/ohlc/ltcusd/?&currency_pair=ltcusd&step=900&limit=1000&start=1625509800\n",
      "Downloaded from 2021-06-15 00:00:00 to 2021-07-15 00:15:00 130.91\n",
      "Resample 15Min - TecAn ( windows 40, windows_limit 100 )\n",
      "Processing 2883 of ltcusd\n"
     ]
    },
    {
     "data": {
      "application/vnd.jupyter.widget-view+json": {
       "model_id": "4e413887ba8f4e12b536421ce683f93c",
       "version_major": 2,
       "version_minor": 0
      },
      "text/plain": [
       "  0%|          | 0/2883 [00:00<?, ?it/s]"
      ]
     },
     "metadata": {},
     "output_type": "display_data"
    },
    {
     "name": "stdout",
     "output_type": "stream",
     "text": [
      "https://www.bitstamp.net/api/v2/ohlc/ethusd/?&currency_pair=ethusd&step=900&limit=1000&start=1623711600\n",
      "https://www.bitstamp.net/api/v2/ohlc/ethusd/?&currency_pair=ethusd&step=900&limit=1000&start=1624610700\n",
      "https://www.bitstamp.net/api/v2/ohlc/ethusd/?&currency_pair=ethusd&step=900&limit=1000&start=1625509800\n",
      "Downloaded from 2021-06-15 00:00:00 to 2021-07-15 00:15:00 1992.89\n",
      "Resample 15Min - TecAn ( windows 40, windows_limit 100 )\n",
      "Processing 2883 of ethusd\n"
     ]
    },
    {
     "data": {
      "application/vnd.jupyter.widget-view+json": {
       "model_id": "465aaa6939bf476282d8075967ee922e",
       "version_major": 2,
       "version_minor": 0
      },
      "text/plain": [
       "  0%|          | 0/2883 [00:00<?, ?it/s]"
      ]
     },
     "metadata": {},
     "output_type": "display_data"
    },
    {
     "name": "stdout",
     "output_type": "stream",
     "text": [
      "https://www.bitstamp.net/api/v2/ohlc/btcusd/?&currency_pair=btcusd&step=900&limit=1000&start=1623711600\n",
      "https://www.bitstamp.net/api/v2/ohlc/btcusd/?&currency_pair=btcusd&step=900&limit=1000&start=1624610700\n",
      "https://www.bitstamp.net/api/v2/ohlc/btcusd/?&currency_pair=btcusd&step=900&limit=1000&start=1625509800\n",
      "Downloaded from 2021-06-15 00:00:00 to 2021-07-15 00:15:00 32832.43\n",
      "Resample 15Min - TecAn ( windows 40, windows_limit 100 )\n",
      "Processing 2883 of btcusd\n"
     ]
    },
    {
     "data": {
      "application/vnd.jupyter.widget-view+json": {
       "model_id": "0984a312ea05426495283425a85ca045",
       "version_major": 2,
       "version_minor": 0
      },
      "text/plain": [
       "  0%|          | 0/2883 [00:00<?, ?it/s]"
      ]
     },
     "metadata": {},
     "output_type": "display_data"
    },
    {
     "name": "stdout",
     "output_type": "stream",
     "text": [
      "https://www.bitstamp.net/api/v2/ohlc/btcusd/?&currency_pair=btcusd&step=300&limit=1000&start=1622502000\n",
      "Downloaded from 2021-06-01 00:00:00 to 2021-06-04 11:15:00 36979.84\n",
      "Resample 5Min - TecAn ( windows 5, windows_limit 100 )\n",
      "Processing 999 of btcusd\n"
     ]
    },
    {
     "data": {
      "application/vnd.jupyter.widget-view+json": {
       "model_id": "75ce6d9aef7c490081f93219e7a3e209",
       "version_major": 2,
       "version_minor": 0
      },
      "text/plain": [
       "  0%|          | 0/999 [00:00<?, ?it/s]"
      ]
     },
     "metadata": {},
     "output_type": "display_data"
    },
    {
     "name": "stdout",
     "output_type": "stream",
     "text": [
      "https://www.bitstamp.net/api/v2/ohlc/ethusd/?&currency_pair=ethusd&step=300&limit=1000&start=1622502000\n",
      "Downloaded from 2021-06-01 00:00:00 to 2021-06-04 11:15:00 2662.21\n",
      "Resample 5Min - TecAn ( windows 5, windows_limit 100 )\n",
      "Processing 999 of ethusd\n"
     ]
    },
    {
     "data": {
      "application/vnd.jupyter.widget-view+json": {
       "model_id": "371ccae043254480989714025a0fbf89",
       "version_major": 2,
       "version_minor": 0
      },
      "text/plain": [
       "  0%|          | 0/999 [00:00<?, ?it/s]"
      ]
     },
     "metadata": {},
     "output_type": "display_data"
    },
    {
     "name": "stdout",
     "output_type": "stream",
     "text": [
      "https://www.bitstamp.net/api/v2/ohlc/bchbtc/?&currency_pair=bchbtc&step=300&limit=1000&start=1622502000\n",
      "Downloaded from 2021-06-01 00:00:00 to 2021-06-04 11:15:00 0.01810604\n",
      "Resample 5Min - TecAn ( windows 5, windows_limit 100 )\n",
      "Processing 999 of bchbtc\n"
     ]
    },
    {
     "data": {
      "application/vnd.jupyter.widget-view+json": {
       "model_id": "c5365e8ba5914479908271738a45795d",
       "version_major": 2,
       "version_minor": 0
      },
      "text/plain": [
       "  0%|          | 0/999 [00:00<?, ?it/s]"
      ]
     },
     "metadata": {},
     "output_type": "display_data"
    },
    {
     "name": "stdout",
     "output_type": "stream",
     "text": [
      "https://www.bitstamp.net/api/v2/ohlc/btcusd/?&currency_pair=btcusd&step=300&limit=1000&start=1590966000\n",
      "Downloaded from 2020-06-01 00:00:00 to 2020-06-04 11:15:00 9520.48\n",
      "Resample 5Min - TecAn ( windows 5, windows_limit 100 )\n",
      "Processing 999 of btcusd\n"
     ]
    },
    {
     "data": {
      "application/vnd.jupyter.widget-view+json": {
       "model_id": "3bc537d8223945f4a51d8c4eb7fc545e",
       "version_major": 2,
       "version_minor": 0
      },
      "text/plain": [
       "  0%|          | 0/999 [00:00<?, ?it/s]"
      ]
     },
     "metadata": {},
     "output_type": "display_data"
    },
    {
     "name": "stdout",
     "output_type": "stream",
     "text": [
      "https://www.bitstamp.net/api/v2/ohlc/ethusd/?&currency_pair=ethusd&step=300&limit=1000&start=1590966000\n",
      "Downloaded from 2020-06-01 00:00:00 to 2020-06-04 11:15:00 239.28\n",
      "Resample 5Min - TecAn ( windows 5, windows_limit 100 )\n",
      "Processing 999 of ethusd\n"
     ]
    },
    {
     "data": {
      "application/vnd.jupyter.widget-view+json": {
       "model_id": "f399390263b94a44842806fdfad0071a",
       "version_major": 2,
       "version_minor": 0
      },
      "text/plain": [
       "  0%|          | 0/999 [00:00<?, ?it/s]"
      ]
     },
     "metadata": {},
     "output_type": "display_data"
    },
    {
     "name": "stdout",
     "output_type": "stream",
     "text": [
      "https://www.bitstamp.net/api/v2/ohlc/bchbtc/?&currency_pair=bchbtc&step=300&limit=1000&start=1590966000\n",
      "Downloaded from 2020-06-01 00:00:00 to 2020-06-04 11:15:00 0.02659000\n",
      "Resample 5Min - TecAn ( windows 5, windows_limit 100 )\n",
      "Processing 999 of bchbtc\n"
     ]
    },
    {
     "data": {
      "application/vnd.jupyter.widget-view+json": {
       "model_id": "7b1dd6b81caa4e2d8d4432e239e97ded",
       "version_major": 2,
       "version_minor": 0
      },
      "text/plain": [
       "  0%|          | 0/999 [00:00<?, ?it/s]"
      ]
     },
     "metadata": {},
     "output_type": "display_data"
    },
    {
     "name": "stdout",
     "output_type": "stream",
     "text": [
      "https://www.bitstamp.net/api/v2/ohlc/btcusd/?&currency_pair=btcusd&step=300&limit=1000&start=1559343600\n",
      "Downloaded from 2019-06-01 00:00:00 to 2019-06-04 11:15:00 7963.92\n",
      "Resample 5Min - TecAn ( windows 5, windows_limit 100 )\n",
      "Processing 999 of btcusd\n"
     ]
    },
    {
     "data": {
      "application/vnd.jupyter.widget-view+json": {
       "model_id": "9cca03cca4a047e0900b8ab3a8f60f87",
       "version_major": 2,
       "version_minor": 0
      },
      "text/plain": [
       "  0%|          | 0/999 [00:00<?, ?it/s]"
      ]
     },
     "metadata": {},
     "output_type": "display_data"
    },
    {
     "name": "stdout",
     "output_type": "stream",
     "text": [
      "https://www.bitstamp.net/api/v2/ohlc/ethusd/?&currency_pair=ethusd&step=300&limit=1000&start=1559343600\n",
      "Downloaded from 2019-06-01 00:00:00 to 2019-06-04 11:15:00 247.42\n",
      "Resample 5Min - TecAn ( windows 5, windows_limit 100 )\n",
      "Processing 999 of ethusd\n"
     ]
    },
    {
     "data": {
      "application/vnd.jupyter.widget-view+json": {
       "model_id": "97e31c8b95194586b80c4639be231617",
       "version_major": 2,
       "version_minor": 0
      },
      "text/plain": [
       "  0%|          | 0/999 [00:00<?, ?it/s]"
      ]
     },
     "metadata": {},
     "output_type": "display_data"
    },
    {
     "name": "stdout",
     "output_type": "stream",
     "text": [
      "https://www.bitstamp.net/api/v2/ohlc/bchbtc/?&currency_pair=bchbtc&step=300&limit=1000&start=1559343600\n",
      "Downloaded from 2019-06-01 00:00:00 to 2019-06-04 11:15:00 0.05012429\n",
      "Resample 5Min - TecAn ( windows 5, windows_limit 100 )\n",
      "Processing 999 of bchbtc\n"
     ]
    },
    {
     "data": {
      "application/vnd.jupyter.widget-view+json": {
       "model_id": "f1667a0f265e495f941e29aa37d8f741",
       "version_major": 2,
       "version_minor": 0
      },
      "text/plain": [
       "  0%|          | 0/999 [00:00<?, ?it/s]"
      ]
     },
     "metadata": {},
     "output_type": "display_data"
    },
    {
     "name": "stdout",
     "output_type": "stream",
     "text": [
      "https://www.bitstamp.net/api/v2/ohlc/btcusd/?&currency_pair=btcusd&step=300&limit=1000&start=1527807600\n",
      "Downloaded from 2018-06-01 00:00:00 to 2018-06-04 11:15:00 7603.79\n",
      "Resample 5Min - TecAn ( windows 5, windows_limit 100 )\n",
      "Processing 999 of btcusd\n"
     ]
    },
    {
     "data": {
      "application/vnd.jupyter.widget-view+json": {
       "model_id": "e9ba0e61d89d46ce85ea1d667f2ca133",
       "version_major": 2,
       "version_minor": 0
      },
      "text/plain": [
       "  0%|          | 0/999 [00:00<?, ?it/s]"
      ]
     },
     "metadata": {},
     "output_type": "display_data"
    },
    {
     "name": "stdout",
     "output_type": "stream",
     "text": [
      "https://www.bitstamp.net/api/v2/ohlc/ethusd/?&currency_pair=ethusd&step=300&limit=1000&start=1527807600\n",
      "Downloaded from 2018-06-01 00:00:00 to 2018-06-04 11:15:00 605.42\n",
      "Resample 5Min - TecAn ( windows 5, windows_limit 100 )\n",
      "Processing 999 of ethusd\n"
     ]
    },
    {
     "data": {
      "application/vnd.jupyter.widget-view+json": {
       "model_id": "e3e61f147a2f4dddab5c76eb2712f2bd",
       "version_major": 2,
       "version_minor": 0
      },
      "text/plain": [
       "  0%|          | 0/999 [00:00<?, ?it/s]"
      ]
     },
     "metadata": {},
     "output_type": "display_data"
    },
    {
     "name": "stdout",
     "output_type": "stream",
     "text": [
      "https://www.bitstamp.net/api/v2/ohlc/bchbtc/?&currency_pair=bchbtc&step=300&limit=1000&start=1527807600\n",
      "Downloaded from 2018-06-01 00:00:00 to 2018-06-04 11:15:00 0.15055500\n",
      "Resample 5Min - TecAn ( windows 5, windows_limit 100 )\n",
      "Processing 999 of bchbtc\n"
     ]
    },
    {
     "data": {
      "application/vnd.jupyter.widget-view+json": {
       "model_id": "30c76737a36f415cafdb7fa4508b3ca8",
       "version_major": 2,
       "version_minor": 0
      },
      "text/plain": [
       "  0%|          | 0/999 [00:00<?, ?it/s]"
      ]
     },
     "metadata": {},
     "output_type": "display_data"
    },
    {
     "name": "stdout",
     "output_type": "stream",
     "text": [
      "https://www.bitstamp.net/api/v2/ohlc/btcusd/?&currency_pair=btcusd&step=300&limit=1000&start=1517443200\n",
      "Downloaded from 2018-02-01 00:00:00 to 2018-02-04 11:15:00 8898.23\n",
      "Resample 5Min - TecAn ( windows 5, windows_limit 100 )\n",
      "Processing 999 of btcusd\n"
     ]
    },
    {
     "data": {
      "application/vnd.jupyter.widget-view+json": {
       "model_id": "217e88424ab14332870dae6783a6cd38",
       "version_major": 2,
       "version_minor": 0
      },
      "text/plain": [
       "  0%|          | 0/999 [00:00<?, ?it/s]"
      ]
     },
     "metadata": {},
     "output_type": "display_data"
    },
    {
     "name": "stdout",
     "output_type": "stream",
     "text": [
      "https://www.bitstamp.net/api/v2/ohlc/ethusd/?&currency_pair=ethusd&step=300&limit=1000&start=1517443200\n",
      "Downloaded from 2018-02-01 00:00:00 to 2018-02-04 11:15:00 911.19\n",
      "Resample 5Min - TecAn ( windows 5, windows_limit 100 )\n",
      "Processing 999 of ethusd\n"
     ]
    },
    {
     "data": {
      "application/vnd.jupyter.widget-view+json": {
       "model_id": "fdda1e535d63464993b0a3144ebb21d0",
       "version_major": 2,
       "version_minor": 0
      },
      "text/plain": [
       "  0%|          | 0/999 [00:00<?, ?it/s]"
      ]
     },
     "metadata": {},
     "output_type": "display_data"
    },
    {
     "name": "stdout",
     "output_type": "stream",
     "text": [
      "https://www.bitstamp.net/api/v2/ohlc/bchbtc/?&currency_pair=bchbtc&step=300&limit=1000&start=1517443200\n",
      "Downloaded from 2018-02-01 00:00:00 to 2018-02-04 11:15:00 0.13584186\n",
      "Resample 5Min - TecAn ( windows 5, windows_limit 100 )\n",
      "Processing 999 of bchbtc\n"
     ]
    },
    {
     "data": {
      "application/vnd.jupyter.widget-view+json": {
       "model_id": "959a076cae944fc29dc13090fd7a0053",
       "version_major": 2,
       "version_minor": 0
      },
      "text/plain": [
       "  0%|          | 0/999 [00:00<?, ?it/s]"
      ]
     },
     "metadata": {},
     "output_type": "display_data"
    },
    {
     "name": "stdout",
     "output_type": "stream",
     "text": [
      "https://www.bitstamp.net/api/v2/ohlc/btcusd/?&currency_pair=btcusd&step=300&limit=1000&start=1548979200\n",
      "Downloaded from 2019-02-01 00:00:00 to 2019-02-04 11:15:00 3404.48\n",
      "Resample 5Min - TecAn ( windows 5, windows_limit 100 )\n",
      "Processing 999 of btcusd\n"
     ]
    },
    {
     "data": {
      "application/vnd.jupyter.widget-view+json": {
       "model_id": "1129118a5dbc45009e56bd5fa37e67dc",
       "version_major": 2,
       "version_minor": 0
      },
      "text/plain": [
       "  0%|          | 0/999 [00:00<?, ?it/s]"
      ]
     },
     "metadata": {},
     "output_type": "display_data"
    },
    {
     "name": "stdout",
     "output_type": "stream",
     "text": [
      "https://www.bitstamp.net/api/v2/ohlc/ethusd/?&currency_pair=ethusd&step=300&limit=1000&start=1548979200\n",
      "Downloaded from 2019-02-01 00:00:00 to 2019-02-04 11:15:00 105.66\n",
      "Resample 5Min - TecAn ( windows 5, windows_limit 100 )\n",
      "Processing 999 of ethusd\n"
     ]
    },
    {
     "data": {
      "application/vnd.jupyter.widget-view+json": {
       "model_id": "23cdf5c003984d2c8e4dc155f6a0233b",
       "version_major": 2,
       "version_minor": 0
      },
      "text/plain": [
       "  0%|          | 0/999 [00:00<?, ?it/s]"
      ]
     },
     "metadata": {},
     "output_type": "display_data"
    },
    {
     "name": "stdout",
     "output_type": "stream",
     "text": [
      "https://www.bitstamp.net/api/v2/ohlc/bchbtc/?&currency_pair=bchbtc&step=300&limit=1000&start=1548979200\n",
      "Downloaded from 2019-02-01 00:00:00 to 2019-02-04 11:15:00 0.03441906\n",
      "Resample 5Min - TecAn ( windows 5, windows_limit 100 )\n",
      "Processing 999 of bchbtc\n"
     ]
    },
    {
     "data": {
      "application/vnd.jupyter.widget-view+json": {
       "model_id": "c215fe9fde1042beb7bc2cbb9da46281",
       "version_major": 2,
       "version_minor": 0
      },
      "text/plain": [
       "  0%|          | 0/999 [00:00<?, ?it/s]"
      ]
     },
     "metadata": {},
     "output_type": "display_data"
    },
    {
     "name": "stdout",
     "output_type": "stream",
     "text": [
      "https://www.bitstamp.net/api/v2/ohlc/btcusd/?&currency_pair=btcusd&step=300&limit=1000&start=1580515200\n",
      "Downloaded from 2020-02-01 00:00:00 to 2020-02-04 11:15:00 9163.36\n",
      "Resample 5Min - TecAn ( windows 5, windows_limit 100 )\n",
      "Processing 999 of btcusd\n"
     ]
    },
    {
     "data": {
      "application/vnd.jupyter.widget-view+json": {
       "model_id": "318f4ee633114d6584936f6fbb548603",
       "version_major": 2,
       "version_minor": 0
      },
      "text/plain": [
       "  0%|          | 0/999 [00:00<?, ?it/s]"
      ]
     },
     "metadata": {},
     "output_type": "display_data"
    },
    {
     "name": "stdout",
     "output_type": "stream",
     "text": [
      "https://www.bitstamp.net/api/v2/ohlc/ethusd/?&currency_pair=ethusd&step=300&limit=1000&start=1580515200\n",
      "Downloaded from 2020-02-01 00:00:00 to 2020-02-04 11:15:00 185.75\n",
      "Resample 5Min - TecAn ( windows 5, windows_limit 100 )\n",
      "Processing 999 of ethusd\n"
     ]
    },
    {
     "data": {
      "application/vnd.jupyter.widget-view+json": {
       "model_id": "947e173bbcc04d2788ef4c5243500908",
       "version_major": 2,
       "version_minor": 0
      },
      "text/plain": [
       "  0%|          | 0/999 [00:00<?, ?it/s]"
      ]
     },
     "metadata": {},
     "output_type": "display_data"
    },
    {
     "name": "stdout",
     "output_type": "stream",
     "text": [
      "https://www.bitstamp.net/api/v2/ohlc/bchbtc/?&currency_pair=bchbtc&step=300&limit=1000&start=1580515200\n",
      "Downloaded from 2020-02-01 00:00:00 to 2020-02-04 11:15:00 0.04117013\n",
      "Resample 5Min - TecAn ( windows 5, windows_limit 100 )\n",
      "Processing 999 of bchbtc\n"
     ]
    },
    {
     "data": {
      "application/vnd.jupyter.widget-view+json": {
       "model_id": "8cf4530b0b1c497ea1b6b1c5e0018414",
       "version_major": 2,
       "version_minor": 0
      },
      "text/plain": [
       "  0%|          | 0/999 [00:00<?, ?it/s]"
      ]
     },
     "metadata": {},
     "output_type": "display_data"
    },
    {
     "name": "stdout",
     "output_type": "stream",
     "text": [
      "https://www.bitstamp.net/api/v2/ohlc/btcusd/?&currency_pair=btcusd&step=300&limit=1000&start=1612137600\n",
      "Downloaded from 2021-02-01 00:00:00 to 2021-02-04 11:15:00 37713.31\n",
      "Resample 5Min - TecAn ( windows 5, windows_limit 100 )\n",
      "Processing 999 of btcusd\n"
     ]
    },
    {
     "data": {
      "application/vnd.jupyter.widget-view+json": {
       "model_id": "b6b72788835743cea5f2df32cc9aab20",
       "version_major": 2,
       "version_minor": 0
      },
      "text/plain": [
       "  0%|          | 0/999 [00:00<?, ?it/s]"
      ]
     },
     "metadata": {},
     "output_type": "display_data"
    },
    {
     "name": "stdout",
     "output_type": "stream",
     "text": [
      "https://www.bitstamp.net/api/v2/ohlc/ethusd/?&currency_pair=ethusd&step=300&limit=1000&start=1612137600\n",
      "Downloaded from 2021-02-01 00:00:00 to 2021-02-04 11:15:00 1633.70\n",
      "Resample 5Min - TecAn ( windows 5, windows_limit 100 )\n",
      "Processing 999 of ethusd\n"
     ]
    },
    {
     "data": {
      "application/vnd.jupyter.widget-view+json": {
       "model_id": "b5c7916a458f4aa39d067f37cefd7a99",
       "version_major": 2,
       "version_minor": 0
      },
      "text/plain": [
       "  0%|          | 0/999 [00:00<?, ?it/s]"
      ]
     },
     "metadata": {},
     "output_type": "display_data"
    },
    {
     "name": "stdout",
     "output_type": "stream",
     "text": [
      "https://www.bitstamp.net/api/v2/ohlc/bchbtc/?&currency_pair=bchbtc&step=300&limit=1000&start=1612137600\n",
      "Downloaded from 2021-02-01 00:00:00 to 2021-02-04 11:15:00 0.01130327\n",
      "Resample 5Min - TecAn ( windows 5, windows_limit 100 )\n",
      "Processing 999 of bchbtc\n"
     ]
    },
    {
     "data": {
      "application/vnd.jupyter.widget-view+json": {
       "model_id": "7b7dc77f98264e94a3433ffa867b0d3e",
       "version_major": 2,
       "version_minor": 0
      },
      "text/plain": [
       "  0%|          | 0/999 [00:00<?, ?it/s]"
      ]
     },
     "metadata": {},
     "output_type": "display_data"
    },
    {
     "name": "stdout",
     "output_type": "stream",
     "text": [
      "https://www.bitstamp.net/api/v2/ohlc/ltceur/?&currency_pair=ltceur&step=300&limit=1000&start=1623711600\n",
      "https://www.bitstamp.net/api/v2/ohlc/ltceur/?&currency_pair=ltceur&step=300&limit=1000&start=1624011300\n",
      "https://www.bitstamp.net/api/v2/ohlc/ltceur/?&currency_pair=ltceur&step=300&limit=1000&start=1624311000\n",
      "https://www.bitstamp.net/api/v2/ohlc/ltceur/?&currency_pair=ltceur&step=300&limit=1000&start=1624610700\n",
      "https://www.bitstamp.net/api/v2/ohlc/ltceur/?&currency_pair=ltceur&step=300&limit=1000&start=1624910400\n",
      "https://www.bitstamp.net/api/v2/ohlc/ltceur/?&currency_pair=ltceur&step=300&limit=1000&start=1625210100\n",
      "https://www.bitstamp.net/api/v2/ohlc/ltceur/?&currency_pair=ltceur&step=300&limit=1000&start=1625509800\n",
      "https://www.bitstamp.net/api/v2/ohlc/ltceur/?&currency_pair=ltceur&step=300&limit=1000&start=1625809500\n",
      "https://www.bitstamp.net/api/v2/ohlc/ltceur/?&currency_pair=ltceur&step=300&limit=1000&start=1626109200\n",
      "Downloaded from 2021-06-15 00:00:00 to 2021-07-15 00:05:00 110.78\n",
      "Resample 5Min - TecAn ( windows 5, windows_limit 100 )\n",
      "Processing 8649 of ltceur\n"
     ]
    },
    {
     "data": {
      "application/vnd.jupyter.widget-view+json": {
       "model_id": "17b4d246d09a46f7b5b0d2ab7d383d25",
       "version_major": 2,
       "version_minor": 0
      },
      "text/plain": [
       "  0%|          | 0/8649 [00:00<?, ?it/s]"
      ]
     },
     "metadata": {},
     "output_type": "display_data"
    },
    {
     "name": "stdout",
     "output_type": "stream",
     "text": [
      "https://www.bitstamp.net/api/v2/ohlc/ltcusd/?&currency_pair=ltcusd&step=300&limit=1000&start=1623711600\n",
      "https://www.bitstamp.net/api/v2/ohlc/ltcusd/?&currency_pair=ltcusd&step=300&limit=1000&start=1624011300\n",
      "https://www.bitstamp.net/api/v2/ohlc/ltcusd/?&currency_pair=ltcusd&step=300&limit=1000&start=1624311000\n",
      "https://www.bitstamp.net/api/v2/ohlc/ltcusd/?&currency_pair=ltcusd&step=300&limit=1000&start=1624610700\n",
      "https://www.bitstamp.net/api/v2/ohlc/ltcusd/?&currency_pair=ltcusd&step=300&limit=1000&start=1624910400\n",
      "https://www.bitstamp.net/api/v2/ohlc/ltcusd/?&currency_pair=ltcusd&step=300&limit=1000&start=1625210100\n",
      "https://www.bitstamp.net/api/v2/ohlc/ltcusd/?&currency_pair=ltcusd&step=300&limit=1000&start=1625509800\n",
      "https://www.bitstamp.net/api/v2/ohlc/ltcusd/?&currency_pair=ltcusd&step=300&limit=1000&start=1625809500\n",
      "https://www.bitstamp.net/api/v2/ohlc/ltcusd/?&currency_pair=ltcusd&step=300&limit=1000&start=1626109200\n",
      "Downloaded from 2021-06-15 00:00:00 to 2021-07-15 00:05:00 131.27\n",
      "Resample 5Min - TecAn ( windows 5, windows_limit 100 )\n",
      "Processing 8649 of ltcusd\n"
     ]
    },
    {
     "data": {
      "application/vnd.jupyter.widget-view+json": {
       "model_id": "d7fee30b96a7463dbaf261480c66ff0f",
       "version_major": 2,
       "version_minor": 0
      },
      "text/plain": [
       "  0%|          | 0/8649 [00:00<?, ?it/s]"
      ]
     },
     "metadata": {},
     "output_type": "display_data"
    },
    {
     "name": "stdout",
     "output_type": "stream",
     "text": [
      "https://www.bitstamp.net/api/v2/ohlc/ethusd/?&currency_pair=ethusd&step=300&limit=1000&start=1623711600\n",
      "https://www.bitstamp.net/api/v2/ohlc/ethusd/?&currency_pair=ethusd&step=300&limit=1000&start=1624011300\n",
      "https://www.bitstamp.net/api/v2/ohlc/ethusd/?&currency_pair=ethusd&step=300&limit=1000&start=1624311000\n",
      "https://www.bitstamp.net/api/v2/ohlc/ethusd/?&currency_pair=ethusd&step=300&limit=1000&start=1624610700\n",
      "https://www.bitstamp.net/api/v2/ohlc/ethusd/?&currency_pair=ethusd&step=300&limit=1000&start=1624910400\n",
      "https://www.bitstamp.net/api/v2/ohlc/ethusd/?&currency_pair=ethusd&step=300&limit=1000&start=1625210100\n",
      "https://www.bitstamp.net/api/v2/ohlc/ethusd/?&currency_pair=ethusd&step=300&limit=1000&start=1625509800\n",
      "https://www.bitstamp.net/api/v2/ohlc/ethusd/?&currency_pair=ethusd&step=300&limit=1000&start=1625809500\n",
      "https://www.bitstamp.net/api/v2/ohlc/ethusd/?&currency_pair=ethusd&step=300&limit=1000&start=1626109200\n",
      "Downloaded from 2021-06-15 00:00:00 to 2021-07-15 00:05:00 2000.79\n",
      "Resample 5Min - TecAn ( windows 5, windows_limit 100 )\n",
      "Processing 8649 of ethusd\n"
     ]
    },
    {
     "data": {
      "application/vnd.jupyter.widget-view+json": {
       "model_id": "e67e24e93f604a61aef80ac9b825d6e6",
       "version_major": 2,
       "version_minor": 0
      },
      "text/plain": [
       "  0%|          | 0/8649 [00:00<?, ?it/s]"
      ]
     },
     "metadata": {},
     "output_type": "display_data"
    },
    {
     "name": "stdout",
     "output_type": "stream",
     "text": [
      "https://www.bitstamp.net/api/v2/ohlc/btcusd/?&currency_pair=btcusd&step=300&limit=1000&start=1623711600\n",
      "https://www.bitstamp.net/api/v2/ohlc/btcusd/?&currency_pair=btcusd&step=300&limit=1000&start=1624011300\n",
      "https://www.bitstamp.net/api/v2/ohlc/btcusd/?&currency_pair=btcusd&step=300&limit=1000&start=1624311000\n",
      "https://www.bitstamp.net/api/v2/ohlc/btcusd/?&currency_pair=btcusd&step=300&limit=1000&start=1624610700\n",
      "https://www.bitstamp.net/api/v2/ohlc/btcusd/?&currency_pair=btcusd&step=300&limit=1000&start=1624910400\n",
      "https://www.bitstamp.net/api/v2/ohlc/btcusd/?&currency_pair=btcusd&step=300&limit=1000&start=1625210100\n",
      "https://www.bitstamp.net/api/v2/ohlc/btcusd/?&currency_pair=btcusd&step=300&limit=1000&start=1625509800\n",
      "https://www.bitstamp.net/api/v2/ohlc/btcusd/?&currency_pair=btcusd&step=300&limit=1000&start=1625809500\n",
      "https://www.bitstamp.net/api/v2/ohlc/btcusd/?&currency_pair=btcusd&step=300&limit=1000&start=1626109200\n",
      "Downloaded from 2021-06-15 00:00:00 to 2021-07-15 00:05:00 32946.30\n",
      "Resample 5Min - TecAn ( windows 5, windows_limit 100 )\n",
      "Processing 8649 of btcusd\n"
     ]
    },
    {
     "data": {
      "application/vnd.jupyter.widget-view+json": {
       "model_id": "e4255c8c23fc4a5e9d4ff41a7951359c",
       "version_major": 2,
       "version_minor": 0
      },
      "text/plain": [
       "  0%|          | 0/8649 [00:00<?, ?it/s]"
      ]
     },
     "metadata": {},
     "output_type": "display_data"
    },
    {
     "name": "stdout",
     "output_type": "stream",
     "text": [
      "https://www.bitstamp.net/api/v2/ohlc/btcusd/?&currency_pair=btcusd&step=300&limit=1000&start=1622502000\n",
      "Downloaded from 2021-06-01 00:00:00 to 2021-06-04 11:15:00 36979.84\n",
      "Resample 5Min - TecAn ( windows 10, windows_limit 100 )\n",
      "Processing 999 of btcusd\n"
     ]
    },
    {
     "data": {
      "application/vnd.jupyter.widget-view+json": {
       "model_id": "44183fcc2ffa4c86af85a655ad88532c",
       "version_major": 2,
       "version_minor": 0
      },
      "text/plain": [
       "  0%|          | 0/999 [00:00<?, ?it/s]"
      ]
     },
     "metadata": {},
     "output_type": "display_data"
    },
    {
     "name": "stdout",
     "output_type": "stream",
     "text": [
      "https://www.bitstamp.net/api/v2/ohlc/ethusd/?&currency_pair=ethusd&step=300&limit=1000&start=1622502000\n",
      "Downloaded from 2021-06-01 00:00:00 to 2021-06-04 11:15:00 2662.21\n",
      "Resample 5Min - TecAn ( windows 10, windows_limit 100 )\n",
      "Processing 999 of ethusd\n"
     ]
    },
    {
     "data": {
      "application/vnd.jupyter.widget-view+json": {
       "model_id": "d342fca4c64c400192720408a93f7d05",
       "version_major": 2,
       "version_minor": 0
      },
      "text/plain": [
       "  0%|          | 0/999 [00:00<?, ?it/s]"
      ]
     },
     "metadata": {},
     "output_type": "display_data"
    },
    {
     "name": "stdout",
     "output_type": "stream",
     "text": [
      "https://www.bitstamp.net/api/v2/ohlc/bchbtc/?&currency_pair=bchbtc&step=300&limit=1000&start=1622502000\n",
      "Downloaded from 2021-06-01 00:00:00 to 2021-06-04 11:15:00 0.01810604\n",
      "Resample 5Min - TecAn ( windows 10, windows_limit 100 )\n",
      "Processing 999 of bchbtc\n"
     ]
    },
    {
     "data": {
      "application/vnd.jupyter.widget-view+json": {
       "model_id": "c4b7451c1f7f454bbfd22b9bb7591f96",
       "version_major": 2,
       "version_minor": 0
      },
      "text/plain": [
       "  0%|          | 0/999 [00:00<?, ?it/s]"
      ]
     },
     "metadata": {},
     "output_type": "display_data"
    },
    {
     "name": "stdout",
     "output_type": "stream",
     "text": [
      "https://www.bitstamp.net/api/v2/ohlc/btcusd/?&currency_pair=btcusd&step=300&limit=1000&start=1590966000\n",
      "Downloaded from 2020-06-01 00:00:00 to 2020-06-04 11:15:00 9520.48\n",
      "Resample 5Min - TecAn ( windows 10, windows_limit 100 )\n",
      "Processing 999 of btcusd\n"
     ]
    },
    {
     "data": {
      "application/vnd.jupyter.widget-view+json": {
       "model_id": "42d70919caea41438b99dce66accbbed",
       "version_major": 2,
       "version_minor": 0
      },
      "text/plain": [
       "  0%|          | 0/999 [00:00<?, ?it/s]"
      ]
     },
     "metadata": {},
     "output_type": "display_data"
    },
    {
     "name": "stdout",
     "output_type": "stream",
     "text": [
      "https://www.bitstamp.net/api/v2/ohlc/ethusd/?&currency_pair=ethusd&step=300&limit=1000&start=1590966000\n",
      "Downloaded from 2020-06-01 00:00:00 to 2020-06-04 11:15:00 239.28\n",
      "Resample 5Min - TecAn ( windows 10, windows_limit 100 )\n",
      "Processing 999 of ethusd\n"
     ]
    },
    {
     "data": {
      "application/vnd.jupyter.widget-view+json": {
       "model_id": "b7d9c07fb2a94f2ebd3e67f08de5227b",
       "version_major": 2,
       "version_minor": 0
      },
      "text/plain": [
       "  0%|          | 0/999 [00:00<?, ?it/s]"
      ]
     },
     "metadata": {},
     "output_type": "display_data"
    },
    {
     "name": "stdout",
     "output_type": "stream",
     "text": [
      "https://www.bitstamp.net/api/v2/ohlc/bchbtc/?&currency_pair=bchbtc&step=300&limit=1000&start=1590966000\n",
      "Downloaded from 2020-06-01 00:00:00 to 2020-06-04 11:15:00 0.02659000\n",
      "Resample 5Min - TecAn ( windows 10, windows_limit 100 )\n",
      "Processing 999 of bchbtc\n"
     ]
    },
    {
     "data": {
      "application/vnd.jupyter.widget-view+json": {
       "model_id": "e1329063fb284577ad8e4c6f5fb69e92",
       "version_major": 2,
       "version_minor": 0
      },
      "text/plain": [
       "  0%|          | 0/999 [00:00<?, ?it/s]"
      ]
     },
     "metadata": {},
     "output_type": "display_data"
    },
    {
     "name": "stdout",
     "output_type": "stream",
     "text": [
      "https://www.bitstamp.net/api/v2/ohlc/btcusd/?&currency_pair=btcusd&step=300&limit=1000&start=1559343600\n",
      "Downloaded from 2019-06-01 00:00:00 to 2019-06-04 11:15:00 7963.92\n",
      "Resample 5Min - TecAn ( windows 10, windows_limit 100 )\n",
      "Processing 999 of btcusd\n"
     ]
    },
    {
     "data": {
      "application/vnd.jupyter.widget-view+json": {
       "model_id": "f05b47b765b541789a1be81888d15d18",
       "version_major": 2,
       "version_minor": 0
      },
      "text/plain": [
       "  0%|          | 0/999 [00:00<?, ?it/s]"
      ]
     },
     "metadata": {},
     "output_type": "display_data"
    },
    {
     "name": "stdout",
     "output_type": "stream",
     "text": [
      "https://www.bitstamp.net/api/v2/ohlc/ethusd/?&currency_pair=ethusd&step=300&limit=1000&start=1559343600\n",
      "Downloaded from 2019-06-01 00:00:00 to 2019-06-04 11:15:00 247.42\n",
      "Resample 5Min - TecAn ( windows 10, windows_limit 100 )\n",
      "Processing 999 of ethusd\n"
     ]
    },
    {
     "data": {
      "application/vnd.jupyter.widget-view+json": {
       "model_id": "2bfc428b8db641cfbe08b5ff1bad7b36",
       "version_major": 2,
       "version_minor": 0
      },
      "text/plain": [
       "  0%|          | 0/999 [00:00<?, ?it/s]"
      ]
     },
     "metadata": {},
     "output_type": "display_data"
    },
    {
     "name": "stdout",
     "output_type": "stream",
     "text": [
      "https://www.bitstamp.net/api/v2/ohlc/bchbtc/?&currency_pair=bchbtc&step=300&limit=1000&start=1559343600\n",
      "Downloaded from 2019-06-01 00:00:00 to 2019-06-04 11:15:00 0.05012429\n",
      "Resample 5Min - TecAn ( windows 10, windows_limit 100 )\n",
      "Processing 999 of bchbtc\n"
     ]
    },
    {
     "data": {
      "application/vnd.jupyter.widget-view+json": {
       "model_id": "4c94c035401a4276a533577a9af527d1",
       "version_major": 2,
       "version_minor": 0
      },
      "text/plain": [
       "  0%|          | 0/999 [00:00<?, ?it/s]"
      ]
     },
     "metadata": {},
     "output_type": "display_data"
    },
    {
     "name": "stdout",
     "output_type": "stream",
     "text": [
      "https://www.bitstamp.net/api/v2/ohlc/btcusd/?&currency_pair=btcusd&step=300&limit=1000&start=1527807600\n",
      "Downloaded from 2018-06-01 00:00:00 to 2018-06-04 11:15:00 7603.79\n",
      "Resample 5Min - TecAn ( windows 10, windows_limit 100 )\n",
      "Processing 999 of btcusd\n"
     ]
    },
    {
     "data": {
      "application/vnd.jupyter.widget-view+json": {
       "model_id": "0893c333d1f74b44b05c76fa7ba07f09",
       "version_major": 2,
       "version_minor": 0
      },
      "text/plain": [
       "  0%|          | 0/999 [00:00<?, ?it/s]"
      ]
     },
     "metadata": {},
     "output_type": "display_data"
    },
    {
     "name": "stdout",
     "output_type": "stream",
     "text": [
      "https://www.bitstamp.net/api/v2/ohlc/ethusd/?&currency_pair=ethusd&step=300&limit=1000&start=1527807600\n",
      "Downloaded from 2018-06-01 00:00:00 to 2018-06-04 11:15:00 605.42\n",
      "Resample 5Min - TecAn ( windows 10, windows_limit 100 )\n",
      "Processing 999 of ethusd\n"
     ]
    },
    {
     "data": {
      "application/vnd.jupyter.widget-view+json": {
       "model_id": "f188ae8d46894c33a89d93f786a75bc6",
       "version_major": 2,
       "version_minor": 0
      },
      "text/plain": [
       "  0%|          | 0/999 [00:00<?, ?it/s]"
      ]
     },
     "metadata": {},
     "output_type": "display_data"
    },
    {
     "name": "stdout",
     "output_type": "stream",
     "text": [
      "https://www.bitstamp.net/api/v2/ohlc/bchbtc/?&currency_pair=bchbtc&step=300&limit=1000&start=1527807600\n",
      "Downloaded from 2018-06-01 00:00:00 to 2018-06-04 11:15:00 0.15055500\n",
      "Resample 5Min - TecAn ( windows 10, windows_limit 100 )\n",
      "Processing 999 of bchbtc\n"
     ]
    },
    {
     "data": {
      "application/vnd.jupyter.widget-view+json": {
       "model_id": "c33721723ad548afb0c10dea1d3459a3",
       "version_major": 2,
       "version_minor": 0
      },
      "text/plain": [
       "  0%|          | 0/999 [00:00<?, ?it/s]"
      ]
     },
     "metadata": {},
     "output_type": "display_data"
    },
    {
     "name": "stdout",
     "output_type": "stream",
     "text": [
      "https://www.bitstamp.net/api/v2/ohlc/btcusd/?&currency_pair=btcusd&step=300&limit=1000&start=1517443200\n",
      "Downloaded from 2018-02-01 00:00:00 to 2018-02-04 11:15:00 8898.23\n",
      "Resample 5Min - TecAn ( windows 10, windows_limit 100 )\n",
      "Processing 999 of btcusd\n"
     ]
    },
    {
     "data": {
      "application/vnd.jupyter.widget-view+json": {
       "model_id": "d66f337d73a542f98c7f487c682efa5a",
       "version_major": 2,
       "version_minor": 0
      },
      "text/plain": [
       "  0%|          | 0/999 [00:00<?, ?it/s]"
      ]
     },
     "metadata": {},
     "output_type": "display_data"
    },
    {
     "name": "stdout",
     "output_type": "stream",
     "text": [
      "https://www.bitstamp.net/api/v2/ohlc/ethusd/?&currency_pair=ethusd&step=300&limit=1000&start=1517443200\n",
      "Downloaded from 2018-02-01 00:00:00 to 2018-02-04 11:15:00 911.19\n",
      "Resample 5Min - TecAn ( windows 10, windows_limit 100 )\n",
      "Processing 999 of ethusd\n"
     ]
    },
    {
     "data": {
      "application/vnd.jupyter.widget-view+json": {
       "model_id": "def54c7fbfaf4e549406ca16022455f3",
       "version_major": 2,
       "version_minor": 0
      },
      "text/plain": [
       "  0%|          | 0/999 [00:00<?, ?it/s]"
      ]
     },
     "metadata": {},
     "output_type": "display_data"
    },
    {
     "name": "stdout",
     "output_type": "stream",
     "text": [
      "https://www.bitstamp.net/api/v2/ohlc/bchbtc/?&currency_pair=bchbtc&step=300&limit=1000&start=1517443200\n",
      "Downloaded from 2018-02-01 00:00:00 to 2018-02-04 11:15:00 0.13584186\n",
      "Resample 5Min - TecAn ( windows 10, windows_limit 100 )\n",
      "Processing 999 of bchbtc\n"
     ]
    },
    {
     "data": {
      "application/vnd.jupyter.widget-view+json": {
       "model_id": "fbc655f267e74a5794cfbb78404d39ab",
       "version_major": 2,
       "version_minor": 0
      },
      "text/plain": [
       "  0%|          | 0/999 [00:00<?, ?it/s]"
      ]
     },
     "metadata": {},
     "output_type": "display_data"
    },
    {
     "name": "stdout",
     "output_type": "stream",
     "text": [
      "https://www.bitstamp.net/api/v2/ohlc/btcusd/?&currency_pair=btcusd&step=300&limit=1000&start=1548979200\n",
      "Downloaded from 2019-02-01 00:00:00 to 2019-02-04 11:15:00 3404.48\n",
      "Resample 5Min - TecAn ( windows 10, windows_limit 100 )\n",
      "Processing 999 of btcusd\n"
     ]
    },
    {
     "data": {
      "application/vnd.jupyter.widget-view+json": {
       "model_id": "45c65c38c6904821a817634e480723fa",
       "version_major": 2,
       "version_minor": 0
      },
      "text/plain": [
       "  0%|          | 0/999 [00:00<?, ?it/s]"
      ]
     },
     "metadata": {},
     "output_type": "display_data"
    },
    {
     "name": "stdout",
     "output_type": "stream",
     "text": [
      "https://www.bitstamp.net/api/v2/ohlc/ethusd/?&currency_pair=ethusd&step=300&limit=1000&start=1548979200\n",
      "Downloaded from 2019-02-01 00:00:00 to 2019-02-04 11:15:00 105.66\n",
      "Resample 5Min - TecAn ( windows 10, windows_limit 100 )\n",
      "Processing 999 of ethusd\n"
     ]
    },
    {
     "data": {
      "application/vnd.jupyter.widget-view+json": {
       "model_id": "06951e5a02d947ccac908966ad185968",
       "version_major": 2,
       "version_minor": 0
      },
      "text/plain": [
       "  0%|          | 0/999 [00:00<?, ?it/s]"
      ]
     },
     "metadata": {},
     "output_type": "display_data"
    },
    {
     "name": "stdout",
     "output_type": "stream",
     "text": [
      "https://www.bitstamp.net/api/v2/ohlc/bchbtc/?&currency_pair=bchbtc&step=300&limit=1000&start=1548979200\n",
      "Downloaded from 2019-02-01 00:00:00 to 2019-02-04 11:15:00 0.03441906\n",
      "Resample 5Min - TecAn ( windows 10, windows_limit 100 )\n",
      "Processing 999 of bchbtc\n"
     ]
    },
    {
     "data": {
      "application/vnd.jupyter.widget-view+json": {
       "model_id": "9677fbba30d9469a8e8ce718d7197fcb",
       "version_major": 2,
       "version_minor": 0
      },
      "text/plain": [
       "  0%|          | 0/999 [00:00<?, ?it/s]"
      ]
     },
     "metadata": {},
     "output_type": "display_data"
    },
    {
     "name": "stdout",
     "output_type": "stream",
     "text": [
      "https://www.bitstamp.net/api/v2/ohlc/btcusd/?&currency_pair=btcusd&step=300&limit=1000&start=1580515200\n",
      "Downloaded from 2020-02-01 00:00:00 to 2020-02-04 11:15:00 9163.36\n",
      "Resample 5Min - TecAn ( windows 10, windows_limit 100 )\n",
      "Processing 999 of btcusd\n"
     ]
    },
    {
     "data": {
      "application/vnd.jupyter.widget-view+json": {
       "model_id": "d9e5b75e73d4447e9b0c14674203344a",
       "version_major": 2,
       "version_minor": 0
      },
      "text/plain": [
       "  0%|          | 0/999 [00:00<?, ?it/s]"
      ]
     },
     "metadata": {},
     "output_type": "display_data"
    },
    {
     "name": "stdout",
     "output_type": "stream",
     "text": [
      "https://www.bitstamp.net/api/v2/ohlc/ethusd/?&currency_pair=ethusd&step=300&limit=1000&start=1580515200\n",
      "Downloaded from 2020-02-01 00:00:00 to 2020-02-04 11:15:00 185.75\n",
      "Resample 5Min - TecAn ( windows 10, windows_limit 100 )\n",
      "Processing 999 of ethusd\n"
     ]
    },
    {
     "data": {
      "application/vnd.jupyter.widget-view+json": {
       "model_id": "e7e86a038bf84a6d8806f6033e64a935",
       "version_major": 2,
       "version_minor": 0
      },
      "text/plain": [
       "  0%|          | 0/999 [00:00<?, ?it/s]"
      ]
     },
     "metadata": {},
     "output_type": "display_data"
    },
    {
     "name": "stdout",
     "output_type": "stream",
     "text": [
      "https://www.bitstamp.net/api/v2/ohlc/bchbtc/?&currency_pair=bchbtc&step=300&limit=1000&start=1580515200\n",
      "Downloaded from 2020-02-01 00:00:00 to 2020-02-04 11:15:00 0.04117013\n",
      "Resample 5Min - TecAn ( windows 10, windows_limit 100 )\n",
      "Processing 999 of bchbtc\n"
     ]
    },
    {
     "data": {
      "application/vnd.jupyter.widget-view+json": {
       "model_id": "5199888a0dc84f7d8586696a9ea480f8",
       "version_major": 2,
       "version_minor": 0
      },
      "text/plain": [
       "  0%|          | 0/999 [00:00<?, ?it/s]"
      ]
     },
     "metadata": {},
     "output_type": "display_data"
    },
    {
     "name": "stdout",
     "output_type": "stream",
     "text": [
      "https://www.bitstamp.net/api/v2/ohlc/btcusd/?&currency_pair=btcusd&step=300&limit=1000&start=1612137600\n",
      "Downloaded from 2021-02-01 00:00:00 to 2021-02-04 11:15:00 37713.31\n",
      "Resample 5Min - TecAn ( windows 10, windows_limit 100 )\n",
      "Processing 999 of btcusd\n"
     ]
    },
    {
     "data": {
      "application/vnd.jupyter.widget-view+json": {
       "model_id": "b1f60f62669c4f1c9b100de80c22d962",
       "version_major": 2,
       "version_minor": 0
      },
      "text/plain": [
       "  0%|          | 0/999 [00:00<?, ?it/s]"
      ]
     },
     "metadata": {},
     "output_type": "display_data"
    },
    {
     "name": "stdout",
     "output_type": "stream",
     "text": [
      "https://www.bitstamp.net/api/v2/ohlc/ethusd/?&currency_pair=ethusd&step=300&limit=1000&start=1612137600\n",
      "Downloaded from 2021-02-01 00:00:00 to 2021-02-04 11:15:00 1633.70\n",
      "Resample 5Min - TecAn ( windows 10, windows_limit 100 )\n",
      "Processing 999 of ethusd\n"
     ]
    },
    {
     "data": {
      "application/vnd.jupyter.widget-view+json": {
       "model_id": "7a8df54a29ae44d0a4d0d63b9da9379c",
       "version_major": 2,
       "version_minor": 0
      },
      "text/plain": [
       "  0%|          | 0/999 [00:00<?, ?it/s]"
      ]
     },
     "metadata": {},
     "output_type": "display_data"
    },
    {
     "name": "stdout",
     "output_type": "stream",
     "text": [
      "https://www.bitstamp.net/api/v2/ohlc/bchbtc/?&currency_pair=bchbtc&step=300&limit=1000&start=1612137600\n",
      "Downloaded from 2021-02-01 00:00:00 to 2021-02-04 11:15:00 0.01130327\n",
      "Resample 5Min - TecAn ( windows 10, windows_limit 100 )\n",
      "Processing 999 of bchbtc\n"
     ]
    },
    {
     "data": {
      "application/vnd.jupyter.widget-view+json": {
       "model_id": "5f40327edc0c495198757624fbae4288",
       "version_major": 2,
       "version_minor": 0
      },
      "text/plain": [
       "  0%|          | 0/999 [00:00<?, ?it/s]"
      ]
     },
     "metadata": {},
     "output_type": "display_data"
    },
    {
     "name": "stdout",
     "output_type": "stream",
     "text": [
      "https://www.bitstamp.net/api/v2/ohlc/ltceur/?&currency_pair=ltceur&step=300&limit=1000&start=1623711600\n",
      "https://www.bitstamp.net/api/v2/ohlc/ltceur/?&currency_pair=ltceur&step=300&limit=1000&start=1624011300\n",
      "https://www.bitstamp.net/api/v2/ohlc/ltceur/?&currency_pair=ltceur&step=300&limit=1000&start=1624311000\n",
      "https://www.bitstamp.net/api/v2/ohlc/ltceur/?&currency_pair=ltceur&step=300&limit=1000&start=1624610700\n",
      "https://www.bitstamp.net/api/v2/ohlc/ltceur/?&currency_pair=ltceur&step=300&limit=1000&start=1624910400\n",
      "https://www.bitstamp.net/api/v2/ohlc/ltceur/?&currency_pair=ltceur&step=300&limit=1000&start=1625210100\n",
      "https://www.bitstamp.net/api/v2/ohlc/ltceur/?&currency_pair=ltceur&step=300&limit=1000&start=1625509800\n",
      "https://www.bitstamp.net/api/v2/ohlc/ltceur/?&currency_pair=ltceur&step=300&limit=1000&start=1625809500\n",
      "https://www.bitstamp.net/api/v2/ohlc/ltceur/?&currency_pair=ltceur&step=300&limit=1000&start=1626109200\n",
      "Downloaded from 2021-06-15 00:00:00 to 2021-07-15 00:05:00 110.78\n",
      "Resample 5Min - TecAn ( windows 10, windows_limit 100 )\n",
      "Processing 8649 of ltceur\n"
     ]
    },
    {
     "data": {
      "application/vnd.jupyter.widget-view+json": {
       "model_id": "8ad0557066f746538f08b6e38541a18f",
       "version_major": 2,
       "version_minor": 0
      },
      "text/plain": [
       "  0%|          | 0/8649 [00:00<?, ?it/s]"
      ]
     },
     "metadata": {},
     "output_type": "display_data"
    },
    {
     "name": "stdout",
     "output_type": "stream",
     "text": [
      "https://www.bitstamp.net/api/v2/ohlc/ltcusd/?&currency_pair=ltcusd&step=300&limit=1000&start=1623711600\n",
      "https://www.bitstamp.net/api/v2/ohlc/ltcusd/?&currency_pair=ltcusd&step=300&limit=1000&start=1624011300\n",
      "https://www.bitstamp.net/api/v2/ohlc/ltcusd/?&currency_pair=ltcusd&step=300&limit=1000&start=1624311000\n",
      "https://www.bitstamp.net/api/v2/ohlc/ltcusd/?&currency_pair=ltcusd&step=300&limit=1000&start=1624610700\n",
      "https://www.bitstamp.net/api/v2/ohlc/ltcusd/?&currency_pair=ltcusd&step=300&limit=1000&start=1624910400\n",
      "https://www.bitstamp.net/api/v2/ohlc/ltcusd/?&currency_pair=ltcusd&step=300&limit=1000&start=1625210100\n",
      "https://www.bitstamp.net/api/v2/ohlc/ltcusd/?&currency_pair=ltcusd&step=300&limit=1000&start=1625509800\n",
      "https://www.bitstamp.net/api/v2/ohlc/ltcusd/?&currency_pair=ltcusd&step=300&limit=1000&start=1625809500\n",
      "https://www.bitstamp.net/api/v2/ohlc/ltcusd/?&currency_pair=ltcusd&step=300&limit=1000&start=1626109200\n",
      "Downloaded from 2021-06-15 00:00:00 to 2021-07-15 00:05:00 131.27\n",
      "Resample 5Min - TecAn ( windows 10, windows_limit 100 )\n",
      "Processing 8649 of ltcusd\n"
     ]
    },
    {
     "data": {
      "application/vnd.jupyter.widget-view+json": {
       "model_id": "97da9726886c4da88f3e7c5a772a8e65",
       "version_major": 2,
       "version_minor": 0
      },
      "text/plain": [
       "  0%|          | 0/8649 [00:00<?, ?it/s]"
      ]
     },
     "metadata": {},
     "output_type": "display_data"
    },
    {
     "name": "stdout",
     "output_type": "stream",
     "text": [
      "https://www.bitstamp.net/api/v2/ohlc/ethusd/?&currency_pair=ethusd&step=300&limit=1000&start=1623711600\n",
      "https://www.bitstamp.net/api/v2/ohlc/ethusd/?&currency_pair=ethusd&step=300&limit=1000&start=1624011300\n",
      "https://www.bitstamp.net/api/v2/ohlc/ethusd/?&currency_pair=ethusd&step=300&limit=1000&start=1624311000\n",
      "https://www.bitstamp.net/api/v2/ohlc/ethusd/?&currency_pair=ethusd&step=300&limit=1000&start=1624610700\n",
      "https://www.bitstamp.net/api/v2/ohlc/ethusd/?&currency_pair=ethusd&step=300&limit=1000&start=1624910400\n",
      "https://www.bitstamp.net/api/v2/ohlc/ethusd/?&currency_pair=ethusd&step=300&limit=1000&start=1625210100\n",
      "https://www.bitstamp.net/api/v2/ohlc/ethusd/?&currency_pair=ethusd&step=300&limit=1000&start=1625509800\n",
      "https://www.bitstamp.net/api/v2/ohlc/ethusd/?&currency_pair=ethusd&step=300&limit=1000&start=1625809500\n",
      "https://www.bitstamp.net/api/v2/ohlc/ethusd/?&currency_pair=ethusd&step=300&limit=1000&start=1626109200\n",
      "Downloaded from 2021-06-15 00:00:00 to 2021-07-15 00:05:00 2000.79\n",
      "Resample 5Min - TecAn ( windows 10, windows_limit 100 )\n",
      "Processing 8649 of ethusd\n"
     ]
    },
    {
     "data": {
      "application/vnd.jupyter.widget-view+json": {
       "model_id": "4520cc9393be45d89c02bbc7ac795312",
       "version_major": 2,
       "version_minor": 0
      },
      "text/plain": [
       "  0%|          | 0/8649 [00:00<?, ?it/s]"
      ]
     },
     "metadata": {},
     "output_type": "display_data"
    },
    {
     "name": "stdout",
     "output_type": "stream",
     "text": [
      "https://www.bitstamp.net/api/v2/ohlc/btcusd/?&currency_pair=btcusd&step=300&limit=1000&start=1623711600\n",
      "https://www.bitstamp.net/api/v2/ohlc/btcusd/?&currency_pair=btcusd&step=300&limit=1000&start=1624011300\n",
      "https://www.bitstamp.net/api/v2/ohlc/btcusd/?&currency_pair=btcusd&step=300&limit=1000&start=1624311000\n",
      "https://www.bitstamp.net/api/v2/ohlc/btcusd/?&currency_pair=btcusd&step=300&limit=1000&start=1624610700\n",
      "https://www.bitstamp.net/api/v2/ohlc/btcusd/?&currency_pair=btcusd&step=300&limit=1000&start=1624910400\n",
      "https://www.bitstamp.net/api/v2/ohlc/btcusd/?&currency_pair=btcusd&step=300&limit=1000&start=1625210100\n",
      "https://www.bitstamp.net/api/v2/ohlc/btcusd/?&currency_pair=btcusd&step=300&limit=1000&start=1625509800\n",
      "https://www.bitstamp.net/api/v2/ohlc/btcusd/?&currency_pair=btcusd&step=300&limit=1000&start=1625809500\n",
      "https://www.bitstamp.net/api/v2/ohlc/btcusd/?&currency_pair=btcusd&step=300&limit=1000&start=1626109200\n",
      "Downloaded from 2021-06-15 00:00:00 to 2021-07-15 00:05:00 32946.30\n",
      "Resample 5Min - TecAn ( windows 10, windows_limit 100 )\n",
      "Processing 8649 of btcusd\n"
     ]
    },
    {
     "data": {
      "application/vnd.jupyter.widget-view+json": {
       "model_id": "1317f33f705f4ebc971a5a351919ea50",
       "version_major": 2,
       "version_minor": 0
      },
      "text/plain": [
       "  0%|          | 0/8649 [00:00<?, ?it/s]"
      ]
     },
     "metadata": {},
     "output_type": "display_data"
    },
    {
     "name": "stdout",
     "output_type": "stream",
     "text": [
      "https://www.bitstamp.net/api/v2/ohlc/btcusd/?&currency_pair=btcusd&step=300&limit=1000&start=1622502000\n",
      "Downloaded from 2021-06-01 00:00:00 to 2021-06-04 11:15:00 36979.84\n",
      "Resample 5Min - TecAn ( windows 20, windows_limit 100 )\n",
      "Processing 999 of btcusd\n"
     ]
    },
    {
     "data": {
      "application/vnd.jupyter.widget-view+json": {
       "model_id": "2c286f22387c47b9b1c16c7e6a56eaf8",
       "version_major": 2,
       "version_minor": 0
      },
      "text/plain": [
       "  0%|          | 0/999 [00:00<?, ?it/s]"
      ]
     },
     "metadata": {},
     "output_type": "display_data"
    },
    {
     "name": "stdout",
     "output_type": "stream",
     "text": [
      "https://www.bitstamp.net/api/v2/ohlc/ethusd/?&currency_pair=ethusd&step=300&limit=1000&start=1622502000\n",
      "Downloaded from 2021-06-01 00:00:00 to 2021-06-04 11:15:00 2662.21\n",
      "Resample 5Min - TecAn ( windows 20, windows_limit 100 )\n",
      "Processing 999 of ethusd\n"
     ]
    },
    {
     "data": {
      "application/vnd.jupyter.widget-view+json": {
       "model_id": "4f5f35b0e99242efba48087877c3ddb8",
       "version_major": 2,
       "version_minor": 0
      },
      "text/plain": [
       "  0%|          | 0/999 [00:00<?, ?it/s]"
      ]
     },
     "metadata": {},
     "output_type": "display_data"
    },
    {
     "name": "stdout",
     "output_type": "stream",
     "text": [
      "https://www.bitstamp.net/api/v2/ohlc/bchbtc/?&currency_pair=bchbtc&step=300&limit=1000&start=1622502000\n",
      "Downloaded from 2021-06-01 00:00:00 to 2021-06-04 11:15:00 0.01810604\n",
      "Resample 5Min - TecAn ( windows 20, windows_limit 100 )\n",
      "Processing 999 of bchbtc\n"
     ]
    },
    {
     "data": {
      "application/vnd.jupyter.widget-view+json": {
       "model_id": "f50dbde936cd46a3b1c8b4e1e4fede1c",
       "version_major": 2,
       "version_minor": 0
      },
      "text/plain": [
       "  0%|          | 0/999 [00:00<?, ?it/s]"
      ]
     },
     "metadata": {},
     "output_type": "display_data"
    },
    {
     "name": "stdout",
     "output_type": "stream",
     "text": [
      "https://www.bitstamp.net/api/v2/ohlc/btcusd/?&currency_pair=btcusd&step=300&limit=1000&start=1590966000\n",
      "Downloaded from 2020-06-01 00:00:00 to 2020-06-04 11:15:00 9520.48\n",
      "Resample 5Min - TecAn ( windows 20, windows_limit 100 )\n",
      "Processing 999 of btcusd\n"
     ]
    },
    {
     "data": {
      "application/vnd.jupyter.widget-view+json": {
       "model_id": "484f760a4eb04922a92e31059067df97",
       "version_major": 2,
       "version_minor": 0
      },
      "text/plain": [
       "  0%|          | 0/999 [00:00<?, ?it/s]"
      ]
     },
     "metadata": {},
     "output_type": "display_data"
    },
    {
     "name": "stdout",
     "output_type": "stream",
     "text": [
      "https://www.bitstamp.net/api/v2/ohlc/ethusd/?&currency_pair=ethusd&step=300&limit=1000&start=1590966000\n",
      "Downloaded from 2020-06-01 00:00:00 to 2020-06-04 11:15:00 239.28\n",
      "Resample 5Min - TecAn ( windows 20, windows_limit 100 )\n",
      "Processing 999 of ethusd\n"
     ]
    },
    {
     "data": {
      "application/vnd.jupyter.widget-view+json": {
       "model_id": "c941abea59484d4ab88301ad4a023c9d",
       "version_major": 2,
       "version_minor": 0
      },
      "text/plain": [
       "  0%|          | 0/999 [00:00<?, ?it/s]"
      ]
     },
     "metadata": {},
     "output_type": "display_data"
    },
    {
     "name": "stdout",
     "output_type": "stream",
     "text": [
      "https://www.bitstamp.net/api/v2/ohlc/bchbtc/?&currency_pair=bchbtc&step=300&limit=1000&start=1590966000\n",
      "Downloaded from 2020-06-01 00:00:00 to 2020-06-04 11:15:00 0.02659000\n",
      "Resample 5Min - TecAn ( windows 20, windows_limit 100 )\n",
      "Processing 999 of bchbtc\n"
     ]
    },
    {
     "data": {
      "application/vnd.jupyter.widget-view+json": {
       "model_id": "76d400b5279e4730aae30176bfc26b6c",
       "version_major": 2,
       "version_minor": 0
      },
      "text/plain": [
       "  0%|          | 0/999 [00:00<?, ?it/s]"
      ]
     },
     "metadata": {},
     "output_type": "display_data"
    },
    {
     "name": "stdout",
     "output_type": "stream",
     "text": [
      "https://www.bitstamp.net/api/v2/ohlc/btcusd/?&currency_pair=btcusd&step=300&limit=1000&start=1559343600\n",
      "Downloaded from 2019-06-01 00:00:00 to 2019-06-04 11:15:00 7963.92\n",
      "Resample 5Min - TecAn ( windows 20, windows_limit 100 )\n",
      "Processing 999 of btcusd\n"
     ]
    },
    {
     "data": {
      "application/vnd.jupyter.widget-view+json": {
       "model_id": "933cb5dc6ad548e4b1b6441f950d3574",
       "version_major": 2,
       "version_minor": 0
      },
      "text/plain": [
       "  0%|          | 0/999 [00:00<?, ?it/s]"
      ]
     },
     "metadata": {},
     "output_type": "display_data"
    },
    {
     "name": "stdout",
     "output_type": "stream",
     "text": [
      "https://www.bitstamp.net/api/v2/ohlc/ethusd/?&currency_pair=ethusd&step=300&limit=1000&start=1559343600\n",
      "Downloaded from 2019-06-01 00:00:00 to 2019-06-04 11:15:00 247.42\n",
      "Resample 5Min - TecAn ( windows 20, windows_limit 100 )\n",
      "Processing 999 of ethusd\n"
     ]
    },
    {
     "data": {
      "application/vnd.jupyter.widget-view+json": {
       "model_id": "4a25f296f9e64536a967427c29dbf291",
       "version_major": 2,
       "version_minor": 0
      },
      "text/plain": [
       "  0%|          | 0/999 [00:00<?, ?it/s]"
      ]
     },
     "metadata": {},
     "output_type": "display_data"
    },
    {
     "name": "stdout",
     "output_type": "stream",
     "text": [
      "https://www.bitstamp.net/api/v2/ohlc/bchbtc/?&currency_pair=bchbtc&step=300&limit=1000&start=1559343600\n",
      "Downloaded from 2019-06-01 00:00:00 to 2019-06-04 11:15:00 0.05012429\n",
      "Resample 5Min - TecAn ( windows 20, windows_limit 100 )\n",
      "Processing 999 of bchbtc\n"
     ]
    },
    {
     "data": {
      "application/vnd.jupyter.widget-view+json": {
       "model_id": "33e7ec595ea849f7b25797451bc8a493",
       "version_major": 2,
       "version_minor": 0
      },
      "text/plain": [
       "  0%|          | 0/999 [00:00<?, ?it/s]"
      ]
     },
     "metadata": {},
     "output_type": "display_data"
    },
    {
     "name": "stdout",
     "output_type": "stream",
     "text": [
      "https://www.bitstamp.net/api/v2/ohlc/btcusd/?&currency_pair=btcusd&step=300&limit=1000&start=1527807600\n",
      "Downloaded from 2018-06-01 00:00:00 to 2018-06-04 11:15:00 7603.79\n",
      "Resample 5Min - TecAn ( windows 20, windows_limit 100 )\n",
      "Processing 999 of btcusd\n"
     ]
    },
    {
     "data": {
      "application/vnd.jupyter.widget-view+json": {
       "model_id": "cc4bdcec6f49478dba33174b548cc1fe",
       "version_major": 2,
       "version_minor": 0
      },
      "text/plain": [
       "  0%|          | 0/999 [00:00<?, ?it/s]"
      ]
     },
     "metadata": {},
     "output_type": "display_data"
    },
    {
     "name": "stdout",
     "output_type": "stream",
     "text": [
      "https://www.bitstamp.net/api/v2/ohlc/ethusd/?&currency_pair=ethusd&step=300&limit=1000&start=1527807600\n",
      "Downloaded from 2018-06-01 00:00:00 to 2018-06-04 11:15:00 605.42\n",
      "Resample 5Min - TecAn ( windows 20, windows_limit 100 )\n",
      "Processing 999 of ethusd\n"
     ]
    },
    {
     "data": {
      "application/vnd.jupyter.widget-view+json": {
       "model_id": "59eccf2dd57f4d0e8aa747e18925290d",
       "version_major": 2,
       "version_minor": 0
      },
      "text/plain": [
       "  0%|          | 0/999 [00:00<?, ?it/s]"
      ]
     },
     "metadata": {},
     "output_type": "display_data"
    },
    {
     "name": "stdout",
     "output_type": "stream",
     "text": [
      "https://www.bitstamp.net/api/v2/ohlc/bchbtc/?&currency_pair=bchbtc&step=300&limit=1000&start=1527807600\n",
      "Downloaded from 2018-06-01 00:00:00 to 2018-06-04 11:15:00 0.15055500\n",
      "Resample 5Min - TecAn ( windows 20, windows_limit 100 )\n",
      "Processing 999 of bchbtc\n"
     ]
    },
    {
     "data": {
      "application/vnd.jupyter.widget-view+json": {
       "model_id": "6fccf55935f946e1bbfaae1e0cc792f0",
       "version_major": 2,
       "version_minor": 0
      },
      "text/plain": [
       "  0%|          | 0/999 [00:00<?, ?it/s]"
      ]
     },
     "metadata": {},
     "output_type": "display_data"
    },
    {
     "name": "stdout",
     "output_type": "stream",
     "text": [
      "https://www.bitstamp.net/api/v2/ohlc/btcusd/?&currency_pair=btcusd&step=300&limit=1000&start=1517443200\n",
      "Downloaded from 2018-02-01 00:00:00 to 2018-02-04 11:15:00 8898.23\n",
      "Resample 5Min - TecAn ( windows 20, windows_limit 100 )\n",
      "Processing 999 of btcusd\n"
     ]
    },
    {
     "data": {
      "application/vnd.jupyter.widget-view+json": {
       "model_id": "42bed93c1a8a42ffb5f65b778b8e0c08",
       "version_major": 2,
       "version_minor": 0
      },
      "text/plain": [
       "  0%|          | 0/999 [00:00<?, ?it/s]"
      ]
     },
     "metadata": {},
     "output_type": "display_data"
    },
    {
     "name": "stdout",
     "output_type": "stream",
     "text": [
      "https://www.bitstamp.net/api/v2/ohlc/ethusd/?&currency_pair=ethusd&step=300&limit=1000&start=1517443200\n",
      "Downloaded from 2018-02-01 00:00:00 to 2018-02-04 11:15:00 911.19\n",
      "Resample 5Min - TecAn ( windows 20, windows_limit 100 )\n",
      "Processing 999 of ethusd\n"
     ]
    },
    {
     "data": {
      "application/vnd.jupyter.widget-view+json": {
       "model_id": "bf51fac69eed4be49d7157a0b4d8944b",
       "version_major": 2,
       "version_minor": 0
      },
      "text/plain": [
       "  0%|          | 0/999 [00:00<?, ?it/s]"
      ]
     },
     "metadata": {},
     "output_type": "display_data"
    },
    {
     "name": "stdout",
     "output_type": "stream",
     "text": [
      "https://www.bitstamp.net/api/v2/ohlc/bchbtc/?&currency_pair=bchbtc&step=300&limit=1000&start=1517443200\n",
      "Downloaded from 2018-02-01 00:00:00 to 2018-02-04 11:15:00 0.13584186\n",
      "Resample 5Min - TecAn ( windows 20, windows_limit 100 )\n",
      "Processing 999 of bchbtc\n"
     ]
    },
    {
     "data": {
      "application/vnd.jupyter.widget-view+json": {
       "model_id": "9e96a1e7a1214b28897193e604febac4",
       "version_major": 2,
       "version_minor": 0
      },
      "text/plain": [
       "  0%|          | 0/999 [00:00<?, ?it/s]"
      ]
     },
     "metadata": {},
     "output_type": "display_data"
    },
    {
     "name": "stdout",
     "output_type": "stream",
     "text": [
      "https://www.bitstamp.net/api/v2/ohlc/btcusd/?&currency_pair=btcusd&step=300&limit=1000&start=1548979200\n",
      "Downloaded from 2019-02-01 00:00:00 to 2019-02-04 11:15:00 3404.48\n",
      "Resample 5Min - TecAn ( windows 20, windows_limit 100 )\n",
      "Processing 999 of btcusd\n"
     ]
    },
    {
     "data": {
      "application/vnd.jupyter.widget-view+json": {
       "model_id": "ef825fc0a55147018fcfb1004715466c",
       "version_major": 2,
       "version_minor": 0
      },
      "text/plain": [
       "  0%|          | 0/999 [00:00<?, ?it/s]"
      ]
     },
     "metadata": {},
     "output_type": "display_data"
    },
    {
     "name": "stdout",
     "output_type": "stream",
     "text": [
      "https://www.bitstamp.net/api/v2/ohlc/ethusd/?&currency_pair=ethusd&step=300&limit=1000&start=1548979200\n",
      "Downloaded from 2019-02-01 00:00:00 to 2019-02-04 11:15:00 105.66\n",
      "Resample 5Min - TecAn ( windows 20, windows_limit 100 )\n",
      "Processing 999 of ethusd\n"
     ]
    },
    {
     "data": {
      "application/vnd.jupyter.widget-view+json": {
       "model_id": "f3cdeb6081fe42f690ae44d4f89b5b9f",
       "version_major": 2,
       "version_minor": 0
      },
      "text/plain": [
       "  0%|          | 0/999 [00:00<?, ?it/s]"
      ]
     },
     "metadata": {},
     "output_type": "display_data"
    },
    {
     "name": "stdout",
     "output_type": "stream",
     "text": [
      "https://www.bitstamp.net/api/v2/ohlc/bchbtc/?&currency_pair=bchbtc&step=300&limit=1000&start=1548979200\n",
      "Downloaded from 2019-02-01 00:00:00 to 2019-02-04 11:15:00 0.03441906\n",
      "Resample 5Min - TecAn ( windows 20, windows_limit 100 )\n",
      "Processing 999 of bchbtc\n"
     ]
    },
    {
     "data": {
      "application/vnd.jupyter.widget-view+json": {
       "model_id": "7e435309c638414fa13f0f5aeae16c99",
       "version_major": 2,
       "version_minor": 0
      },
      "text/plain": [
       "  0%|          | 0/999 [00:00<?, ?it/s]"
      ]
     },
     "metadata": {},
     "output_type": "display_data"
    },
    {
     "name": "stdout",
     "output_type": "stream",
     "text": [
      "https://www.bitstamp.net/api/v2/ohlc/btcusd/?&currency_pair=btcusd&step=300&limit=1000&start=1580515200\n",
      "Downloaded from 2020-02-01 00:00:00 to 2020-02-04 11:15:00 9163.36\n",
      "Resample 5Min - TecAn ( windows 20, windows_limit 100 )\n",
      "Processing 999 of btcusd\n"
     ]
    },
    {
     "data": {
      "application/vnd.jupyter.widget-view+json": {
       "model_id": "4450f9215ec84ff891a4b5ec78b0a5cc",
       "version_major": 2,
       "version_minor": 0
      },
      "text/plain": [
       "  0%|          | 0/999 [00:00<?, ?it/s]"
      ]
     },
     "metadata": {},
     "output_type": "display_data"
    },
    {
     "name": "stdout",
     "output_type": "stream",
     "text": [
      "https://www.bitstamp.net/api/v2/ohlc/ethusd/?&currency_pair=ethusd&step=300&limit=1000&start=1580515200\n",
      "Downloaded from 2020-02-01 00:00:00 to 2020-02-04 11:15:00 185.75\n",
      "Resample 5Min - TecAn ( windows 20, windows_limit 100 )\n",
      "Processing 999 of ethusd\n"
     ]
    },
    {
     "data": {
      "application/vnd.jupyter.widget-view+json": {
       "model_id": "52577208eacc4061809f97d78a4320bd",
       "version_major": 2,
       "version_minor": 0
      },
      "text/plain": [
       "  0%|          | 0/999 [00:00<?, ?it/s]"
      ]
     },
     "metadata": {},
     "output_type": "display_data"
    },
    {
     "name": "stdout",
     "output_type": "stream",
     "text": [
      "https://www.bitstamp.net/api/v2/ohlc/bchbtc/?&currency_pair=bchbtc&step=300&limit=1000&start=1580515200\n",
      "Downloaded from 2020-02-01 00:00:00 to 2020-02-04 11:15:00 0.04117013\n",
      "Resample 5Min - TecAn ( windows 20, windows_limit 100 )\n",
      "Processing 999 of bchbtc\n"
     ]
    },
    {
     "data": {
      "application/vnd.jupyter.widget-view+json": {
       "model_id": "34a9e33a02a645f29c4c472d632a6324",
       "version_major": 2,
       "version_minor": 0
      },
      "text/plain": [
       "  0%|          | 0/999 [00:00<?, ?it/s]"
      ]
     },
     "metadata": {},
     "output_type": "display_data"
    },
    {
     "name": "stdout",
     "output_type": "stream",
     "text": [
      "https://www.bitstamp.net/api/v2/ohlc/btcusd/?&currency_pair=btcusd&step=300&limit=1000&start=1612137600\n",
      "Downloaded from 2021-02-01 00:00:00 to 2021-02-04 11:15:00 37713.31\n",
      "Resample 5Min - TecAn ( windows 20, windows_limit 100 )\n",
      "Processing 999 of btcusd\n"
     ]
    },
    {
     "data": {
      "application/vnd.jupyter.widget-view+json": {
       "model_id": "d0b004d4ac364f5db520a2ca5756badb",
       "version_major": 2,
       "version_minor": 0
      },
      "text/plain": [
       "  0%|          | 0/999 [00:00<?, ?it/s]"
      ]
     },
     "metadata": {},
     "output_type": "display_data"
    },
    {
     "name": "stdout",
     "output_type": "stream",
     "text": [
      "https://www.bitstamp.net/api/v2/ohlc/ethusd/?&currency_pair=ethusd&step=300&limit=1000&start=1612137600\n",
      "Downloaded from 2021-02-01 00:00:00 to 2021-02-04 11:15:00 1633.70\n",
      "Resample 5Min - TecAn ( windows 20, windows_limit 100 )\n",
      "Processing 999 of ethusd\n"
     ]
    },
    {
     "data": {
      "application/vnd.jupyter.widget-view+json": {
       "model_id": "595ac6371db447738f6d5f7cb9c039b7",
       "version_major": 2,
       "version_minor": 0
      },
      "text/plain": [
       "  0%|          | 0/999 [00:00<?, ?it/s]"
      ]
     },
     "metadata": {},
     "output_type": "display_data"
    },
    {
     "name": "stdout",
     "output_type": "stream",
     "text": [
      "https://www.bitstamp.net/api/v2/ohlc/bchbtc/?&currency_pair=bchbtc&step=300&limit=1000&start=1612137600\n",
      "Downloaded from 2021-02-01 00:00:00 to 2021-02-04 11:15:00 0.01130327\n",
      "Resample 5Min - TecAn ( windows 20, windows_limit 100 )\n",
      "Processing 999 of bchbtc\n"
     ]
    },
    {
     "data": {
      "application/vnd.jupyter.widget-view+json": {
       "model_id": "5e5073b961ee4f21a2b27931ed4ba5a0",
       "version_major": 2,
       "version_minor": 0
      },
      "text/plain": [
       "  0%|          | 0/999 [00:00<?, ?it/s]"
      ]
     },
     "metadata": {},
     "output_type": "display_data"
    },
    {
     "name": "stdout",
     "output_type": "stream",
     "text": [
      "https://www.bitstamp.net/api/v2/ohlc/ltceur/?&currency_pair=ltceur&step=300&limit=1000&start=1623711600\n",
      "https://www.bitstamp.net/api/v2/ohlc/ltceur/?&currency_pair=ltceur&step=300&limit=1000&start=1624011300\n",
      "https://www.bitstamp.net/api/v2/ohlc/ltceur/?&currency_pair=ltceur&step=300&limit=1000&start=1624311000\n",
      "https://www.bitstamp.net/api/v2/ohlc/ltceur/?&currency_pair=ltceur&step=300&limit=1000&start=1624610700\n",
      "https://www.bitstamp.net/api/v2/ohlc/ltceur/?&currency_pair=ltceur&step=300&limit=1000&start=1624910400\n",
      "https://www.bitstamp.net/api/v2/ohlc/ltceur/?&currency_pair=ltceur&step=300&limit=1000&start=1625210100\n",
      "https://www.bitstamp.net/api/v2/ohlc/ltceur/?&currency_pair=ltceur&step=300&limit=1000&start=1625509800\n",
      "https://www.bitstamp.net/api/v2/ohlc/ltceur/?&currency_pair=ltceur&step=300&limit=1000&start=1625809500\n",
      "https://www.bitstamp.net/api/v2/ohlc/ltceur/?&currency_pair=ltceur&step=300&limit=1000&start=1626109200\n",
      "Downloaded from 2021-06-15 00:00:00 to 2021-07-15 00:05:00 110.78\n",
      "Resample 5Min - TecAn ( windows 20, windows_limit 100 )\n",
      "Processing 8649 of ltceur\n"
     ]
    },
    {
     "data": {
      "application/vnd.jupyter.widget-view+json": {
       "model_id": "12e12fde4d7f48dfb6f8e7288b069dfd",
       "version_major": 2,
       "version_minor": 0
      },
      "text/plain": [
       "  0%|          | 0/8649 [00:00<?, ?it/s]"
      ]
     },
     "metadata": {},
     "output_type": "display_data"
    },
    {
     "name": "stdout",
     "output_type": "stream",
     "text": [
      "https://www.bitstamp.net/api/v2/ohlc/ltcusd/?&currency_pair=ltcusd&step=300&limit=1000&start=1623711600\n",
      "https://www.bitstamp.net/api/v2/ohlc/ltcusd/?&currency_pair=ltcusd&step=300&limit=1000&start=1624011300\n",
      "https://www.bitstamp.net/api/v2/ohlc/ltcusd/?&currency_pair=ltcusd&step=300&limit=1000&start=1624311000\n",
      "https://www.bitstamp.net/api/v2/ohlc/ltcusd/?&currency_pair=ltcusd&step=300&limit=1000&start=1624610700\n",
      "https://www.bitstamp.net/api/v2/ohlc/ltcusd/?&currency_pair=ltcusd&step=300&limit=1000&start=1624910400\n",
      "https://www.bitstamp.net/api/v2/ohlc/ltcusd/?&currency_pair=ltcusd&step=300&limit=1000&start=1625210100\n",
      "https://www.bitstamp.net/api/v2/ohlc/ltcusd/?&currency_pair=ltcusd&step=300&limit=1000&start=1625509800\n",
      "https://www.bitstamp.net/api/v2/ohlc/ltcusd/?&currency_pair=ltcusd&step=300&limit=1000&start=1625809500\n",
      "https://www.bitstamp.net/api/v2/ohlc/ltcusd/?&currency_pair=ltcusd&step=300&limit=1000&start=1626109200\n",
      "Downloaded from 2021-06-15 00:00:00 to 2021-07-15 00:05:00 131.27\n",
      "Resample 5Min - TecAn ( windows 20, windows_limit 100 )\n",
      "Processing 8649 of ltcusd\n"
     ]
    },
    {
     "data": {
      "application/vnd.jupyter.widget-view+json": {
       "model_id": "6a4b0afc5b434402a15e39c02ae97e4e",
       "version_major": 2,
       "version_minor": 0
      },
      "text/plain": [
       "  0%|          | 0/8649 [00:00<?, ?it/s]"
      ]
     },
     "metadata": {},
     "output_type": "display_data"
    },
    {
     "name": "stdout",
     "output_type": "stream",
     "text": [
      "https://www.bitstamp.net/api/v2/ohlc/ethusd/?&currency_pair=ethusd&step=300&limit=1000&start=1623711600\n",
      "https://www.bitstamp.net/api/v2/ohlc/ethusd/?&currency_pair=ethusd&step=300&limit=1000&start=1624011300\n",
      "https://www.bitstamp.net/api/v2/ohlc/ethusd/?&currency_pair=ethusd&step=300&limit=1000&start=1624311000\n",
      "https://www.bitstamp.net/api/v2/ohlc/ethusd/?&currency_pair=ethusd&step=300&limit=1000&start=1624610700\n",
      "https://www.bitstamp.net/api/v2/ohlc/ethusd/?&currency_pair=ethusd&step=300&limit=1000&start=1624910400\n",
      "https://www.bitstamp.net/api/v2/ohlc/ethusd/?&currency_pair=ethusd&step=300&limit=1000&start=1625210100\n",
      "https://www.bitstamp.net/api/v2/ohlc/ethusd/?&currency_pair=ethusd&step=300&limit=1000&start=1625509800\n",
      "https://www.bitstamp.net/api/v2/ohlc/ethusd/?&currency_pair=ethusd&step=300&limit=1000&start=1625809500\n",
      "https://www.bitstamp.net/api/v2/ohlc/ethusd/?&currency_pair=ethusd&step=300&limit=1000&start=1626109200\n",
      "Downloaded from 2021-06-15 00:00:00 to 2021-07-15 00:05:00 2000.79\n",
      "Resample 5Min - TecAn ( windows 20, windows_limit 100 )\n",
      "Processing 8649 of ethusd\n"
     ]
    },
    {
     "data": {
      "application/vnd.jupyter.widget-view+json": {
       "model_id": "1a2890a3953748fa93113b4f80c5863e",
       "version_major": 2,
       "version_minor": 0
      },
      "text/plain": [
       "  0%|          | 0/8649 [00:00<?, ?it/s]"
      ]
     },
     "metadata": {},
     "output_type": "display_data"
    },
    {
     "name": "stdout",
     "output_type": "stream",
     "text": [
      "https://www.bitstamp.net/api/v2/ohlc/btcusd/?&currency_pair=btcusd&step=300&limit=1000&start=1623711600\n",
      "https://www.bitstamp.net/api/v2/ohlc/btcusd/?&currency_pair=btcusd&step=300&limit=1000&start=1624011300\n",
      "https://www.bitstamp.net/api/v2/ohlc/btcusd/?&currency_pair=btcusd&step=300&limit=1000&start=1624311000\n",
      "https://www.bitstamp.net/api/v2/ohlc/btcusd/?&currency_pair=btcusd&step=300&limit=1000&start=1624610700\n",
      "https://www.bitstamp.net/api/v2/ohlc/btcusd/?&currency_pair=btcusd&step=300&limit=1000&start=1624910400\n",
      "https://www.bitstamp.net/api/v2/ohlc/btcusd/?&currency_pair=btcusd&step=300&limit=1000&start=1625210100\n",
      "https://www.bitstamp.net/api/v2/ohlc/btcusd/?&currency_pair=btcusd&step=300&limit=1000&start=1625509800\n",
      "https://www.bitstamp.net/api/v2/ohlc/btcusd/?&currency_pair=btcusd&step=300&limit=1000&start=1625809500\n",
      "https://www.bitstamp.net/api/v2/ohlc/btcusd/?&currency_pair=btcusd&step=300&limit=1000&start=1626109200\n",
      "Downloaded from 2021-06-15 00:00:00 to 2021-07-15 00:05:00 32946.30\n",
      "Resample 5Min - TecAn ( windows 20, windows_limit 100 )\n",
      "Processing 8649 of btcusd\n"
     ]
    },
    {
     "data": {
      "application/vnd.jupyter.widget-view+json": {
       "model_id": "ed7e77400c154e42959b99ece878eb6e",
       "version_major": 2,
       "version_minor": 0
      },
      "text/plain": [
       "  0%|          | 0/8649 [00:00<?, ?it/s]"
      ]
     },
     "metadata": {},
     "output_type": "display_data"
    },
    {
     "name": "stdout",
     "output_type": "stream",
     "text": [
      "https://www.bitstamp.net/api/v2/ohlc/btcusd/?&currency_pair=btcusd&step=300&limit=1000&start=1622502000\n",
      "Downloaded from 2021-06-01 00:00:00 to 2021-06-04 11:15:00 36979.84\n",
      "Resample 5Min - TecAn ( windows 30, windows_limit 100 )\n",
      "Processing 999 of btcusd\n"
     ]
    },
    {
     "data": {
      "application/vnd.jupyter.widget-view+json": {
       "model_id": "20d6c5509e254a94a65be1ff91c8ed14",
       "version_major": 2,
       "version_minor": 0
      },
      "text/plain": [
       "  0%|          | 0/999 [00:00<?, ?it/s]"
      ]
     },
     "metadata": {},
     "output_type": "display_data"
    },
    {
     "name": "stdout",
     "output_type": "stream",
     "text": [
      "https://www.bitstamp.net/api/v2/ohlc/ethusd/?&currency_pair=ethusd&step=300&limit=1000&start=1622502000\n",
      "Downloaded from 2021-06-01 00:00:00 to 2021-06-04 11:15:00 2662.21\n",
      "Resample 5Min - TecAn ( windows 30, windows_limit 100 )\n",
      "Processing 999 of ethusd\n"
     ]
    },
    {
     "data": {
      "application/vnd.jupyter.widget-view+json": {
       "model_id": "f987f859516f4637b291264342beb727",
       "version_major": 2,
       "version_minor": 0
      },
      "text/plain": [
       "  0%|          | 0/999 [00:00<?, ?it/s]"
      ]
     },
     "metadata": {},
     "output_type": "display_data"
    },
    {
     "name": "stdout",
     "output_type": "stream",
     "text": [
      "https://www.bitstamp.net/api/v2/ohlc/bchbtc/?&currency_pair=bchbtc&step=300&limit=1000&start=1622502000\n",
      "Downloaded from 2021-06-01 00:00:00 to 2021-06-04 11:15:00 0.01810604\n",
      "Resample 5Min - TecAn ( windows 30, windows_limit 100 )\n",
      "Processing 999 of bchbtc\n"
     ]
    },
    {
     "data": {
      "application/vnd.jupyter.widget-view+json": {
       "model_id": "f7c3d21ed096424a9c95495eeed2d7ec",
       "version_major": 2,
       "version_minor": 0
      },
      "text/plain": [
       "  0%|          | 0/999 [00:00<?, ?it/s]"
      ]
     },
     "metadata": {},
     "output_type": "display_data"
    },
    {
     "name": "stdout",
     "output_type": "stream",
     "text": [
      "https://www.bitstamp.net/api/v2/ohlc/btcusd/?&currency_pair=btcusd&step=300&limit=1000&start=1590966000\n",
      "Downloaded from 2020-06-01 00:00:00 to 2020-06-04 11:15:00 9520.48\n",
      "Resample 5Min - TecAn ( windows 30, windows_limit 100 )\n",
      "Processing 999 of btcusd\n"
     ]
    },
    {
     "data": {
      "application/vnd.jupyter.widget-view+json": {
       "model_id": "31252be7757f4132bdf806acc0bc713d",
       "version_major": 2,
       "version_minor": 0
      },
      "text/plain": [
       "  0%|          | 0/999 [00:00<?, ?it/s]"
      ]
     },
     "metadata": {},
     "output_type": "display_data"
    },
    {
     "name": "stdout",
     "output_type": "stream",
     "text": [
      "https://www.bitstamp.net/api/v2/ohlc/ethusd/?&currency_pair=ethusd&step=300&limit=1000&start=1590966000\n",
      "Downloaded from 2020-06-01 00:00:00 to 2020-06-04 11:15:00 239.28\n",
      "Resample 5Min - TecAn ( windows 30, windows_limit 100 )\n",
      "Processing 999 of ethusd\n"
     ]
    },
    {
     "data": {
      "application/vnd.jupyter.widget-view+json": {
       "model_id": "8c1eb16d890a4b2194e1c30c7ac889b1",
       "version_major": 2,
       "version_minor": 0
      },
      "text/plain": [
       "  0%|          | 0/999 [00:00<?, ?it/s]"
      ]
     },
     "metadata": {},
     "output_type": "display_data"
    },
    {
     "name": "stdout",
     "output_type": "stream",
     "text": [
      "https://www.bitstamp.net/api/v2/ohlc/bchbtc/?&currency_pair=bchbtc&step=300&limit=1000&start=1590966000\n",
      "Downloaded from 2020-06-01 00:00:00 to 2020-06-04 11:15:00 0.02659000\n",
      "Resample 5Min - TecAn ( windows 30, windows_limit 100 )\n",
      "Processing 999 of bchbtc\n"
     ]
    },
    {
     "data": {
      "application/vnd.jupyter.widget-view+json": {
       "model_id": "68f992f0a5f54a0e95c4e19637380688",
       "version_major": 2,
       "version_minor": 0
      },
      "text/plain": [
       "  0%|          | 0/999 [00:00<?, ?it/s]"
      ]
     },
     "metadata": {},
     "output_type": "display_data"
    },
    {
     "name": "stdout",
     "output_type": "stream",
     "text": [
      "https://www.bitstamp.net/api/v2/ohlc/btcusd/?&currency_pair=btcusd&step=300&limit=1000&start=1559343600\n",
      "Downloaded from 2019-06-01 00:00:00 to 2019-06-04 11:15:00 7963.92\n",
      "Resample 5Min - TecAn ( windows 30, windows_limit 100 )\n",
      "Processing 999 of btcusd\n"
     ]
    },
    {
     "data": {
      "application/vnd.jupyter.widget-view+json": {
       "model_id": "6468295eaeea44b9bc349881ced1cc37",
       "version_major": 2,
       "version_minor": 0
      },
      "text/plain": [
       "  0%|          | 0/999 [00:00<?, ?it/s]"
      ]
     },
     "metadata": {},
     "output_type": "display_data"
    },
    {
     "name": "stdout",
     "output_type": "stream",
     "text": [
      "https://www.bitstamp.net/api/v2/ohlc/ethusd/?&currency_pair=ethusd&step=300&limit=1000&start=1559343600\n",
      "Downloaded from 2019-06-01 00:00:00 to 2019-06-04 11:15:00 247.42\n",
      "Resample 5Min - TecAn ( windows 30, windows_limit 100 )\n",
      "Processing 999 of ethusd\n"
     ]
    },
    {
     "data": {
      "application/vnd.jupyter.widget-view+json": {
       "model_id": "d8b60389f03d4c448af17a0b0ea5464e",
       "version_major": 2,
       "version_minor": 0
      },
      "text/plain": [
       "  0%|          | 0/999 [00:00<?, ?it/s]"
      ]
     },
     "metadata": {},
     "output_type": "display_data"
    },
    {
     "name": "stdout",
     "output_type": "stream",
     "text": [
      "https://www.bitstamp.net/api/v2/ohlc/bchbtc/?&currency_pair=bchbtc&step=300&limit=1000&start=1559343600\n",
      "Downloaded from 2019-06-01 00:00:00 to 2019-06-04 11:15:00 0.05012429\n",
      "Resample 5Min - TecAn ( windows 30, windows_limit 100 )\n",
      "Processing 999 of bchbtc\n"
     ]
    },
    {
     "data": {
      "application/vnd.jupyter.widget-view+json": {
       "model_id": "f6787319b35e4535b23edcaad55438e0",
       "version_major": 2,
       "version_minor": 0
      },
      "text/plain": [
       "  0%|          | 0/999 [00:00<?, ?it/s]"
      ]
     },
     "metadata": {},
     "output_type": "display_data"
    },
    {
     "name": "stdout",
     "output_type": "stream",
     "text": [
      "https://www.bitstamp.net/api/v2/ohlc/btcusd/?&currency_pair=btcusd&step=300&limit=1000&start=1527807600\n",
      "Downloaded from 2018-06-01 00:00:00 to 2018-06-04 11:15:00 7603.79\n",
      "Resample 5Min - TecAn ( windows 30, windows_limit 100 )\n",
      "Processing 999 of btcusd\n"
     ]
    },
    {
     "data": {
      "application/vnd.jupyter.widget-view+json": {
       "model_id": "683d84d9e82f43da9497f33605de2ce6",
       "version_major": 2,
       "version_minor": 0
      },
      "text/plain": [
       "  0%|          | 0/999 [00:00<?, ?it/s]"
      ]
     },
     "metadata": {},
     "output_type": "display_data"
    },
    {
     "name": "stdout",
     "output_type": "stream",
     "text": [
      "https://www.bitstamp.net/api/v2/ohlc/ethusd/?&currency_pair=ethusd&step=300&limit=1000&start=1527807600\n",
      "Downloaded from 2018-06-01 00:00:00 to 2018-06-04 11:15:00 605.42\n",
      "Resample 5Min - TecAn ( windows 30, windows_limit 100 )\n",
      "Processing 999 of ethusd\n"
     ]
    },
    {
     "data": {
      "application/vnd.jupyter.widget-view+json": {
       "model_id": "98eaf6a330aa41459fc3c45dbaafbb6f",
       "version_major": 2,
       "version_minor": 0
      },
      "text/plain": [
       "  0%|          | 0/999 [00:00<?, ?it/s]"
      ]
     },
     "metadata": {},
     "output_type": "display_data"
    },
    {
     "name": "stdout",
     "output_type": "stream",
     "text": [
      "https://www.bitstamp.net/api/v2/ohlc/bchbtc/?&currency_pair=bchbtc&step=300&limit=1000&start=1527807600\n",
      "Downloaded from 2018-06-01 00:00:00 to 2018-06-04 11:15:00 0.15055500\n",
      "Resample 5Min - TecAn ( windows 30, windows_limit 100 )\n",
      "Processing 999 of bchbtc\n"
     ]
    },
    {
     "data": {
      "application/vnd.jupyter.widget-view+json": {
       "model_id": "5fe15bfd53cd4926a28fa256affe9154",
       "version_major": 2,
       "version_minor": 0
      },
      "text/plain": [
       "  0%|          | 0/999 [00:00<?, ?it/s]"
      ]
     },
     "metadata": {},
     "output_type": "display_data"
    },
    {
     "name": "stdout",
     "output_type": "stream",
     "text": [
      "https://www.bitstamp.net/api/v2/ohlc/btcusd/?&currency_pair=btcusd&step=300&limit=1000&start=1517443200\n",
      "Downloaded from 2018-02-01 00:00:00 to 2018-02-04 11:15:00 8898.23\n",
      "Resample 5Min - TecAn ( windows 30, windows_limit 100 )\n",
      "Processing 999 of btcusd\n"
     ]
    },
    {
     "data": {
      "application/vnd.jupyter.widget-view+json": {
       "model_id": "c4d15560398944f09d8ff249767640c5",
       "version_major": 2,
       "version_minor": 0
      },
      "text/plain": [
       "  0%|          | 0/999 [00:00<?, ?it/s]"
      ]
     },
     "metadata": {},
     "output_type": "display_data"
    },
    {
     "name": "stdout",
     "output_type": "stream",
     "text": [
      "https://www.bitstamp.net/api/v2/ohlc/ethusd/?&currency_pair=ethusd&step=300&limit=1000&start=1517443200\n",
      "Downloaded from 2018-02-01 00:00:00 to 2018-02-04 11:15:00 911.19\n",
      "Resample 5Min - TecAn ( windows 30, windows_limit 100 )\n",
      "Processing 999 of ethusd\n"
     ]
    },
    {
     "data": {
      "application/vnd.jupyter.widget-view+json": {
       "model_id": "26f075ad479c43978425e876ce57a1e3",
       "version_major": 2,
       "version_minor": 0
      },
      "text/plain": [
       "  0%|          | 0/999 [00:00<?, ?it/s]"
      ]
     },
     "metadata": {},
     "output_type": "display_data"
    },
    {
     "name": "stdout",
     "output_type": "stream",
     "text": [
      "https://www.bitstamp.net/api/v2/ohlc/bchbtc/?&currency_pair=bchbtc&step=300&limit=1000&start=1517443200\n",
      "Downloaded from 2018-02-01 00:00:00 to 2018-02-04 11:15:00 0.13584186\n",
      "Resample 5Min - TecAn ( windows 30, windows_limit 100 )\n",
      "Processing 999 of bchbtc\n"
     ]
    },
    {
     "data": {
      "application/vnd.jupyter.widget-view+json": {
       "model_id": "48f8e89363e94e22b22f874e4c2e3451",
       "version_major": 2,
       "version_minor": 0
      },
      "text/plain": [
       "  0%|          | 0/999 [00:00<?, ?it/s]"
      ]
     },
     "metadata": {},
     "output_type": "display_data"
    },
    {
     "name": "stdout",
     "output_type": "stream",
     "text": [
      "https://www.bitstamp.net/api/v2/ohlc/btcusd/?&currency_pair=btcusd&step=300&limit=1000&start=1548979200\n",
      "Downloaded from 2019-02-01 00:00:00 to 2019-02-04 11:15:00 3404.48\n",
      "Resample 5Min - TecAn ( windows 30, windows_limit 100 )\n",
      "Processing 999 of btcusd\n"
     ]
    },
    {
     "data": {
      "application/vnd.jupyter.widget-view+json": {
       "model_id": "320660e1578643c6a7cc572c2f497c4d",
       "version_major": 2,
       "version_minor": 0
      },
      "text/plain": [
       "  0%|          | 0/999 [00:00<?, ?it/s]"
      ]
     },
     "metadata": {},
     "output_type": "display_data"
    },
    {
     "name": "stdout",
     "output_type": "stream",
     "text": [
      "https://www.bitstamp.net/api/v2/ohlc/ethusd/?&currency_pair=ethusd&step=300&limit=1000&start=1548979200\n",
      "Downloaded from 2019-02-01 00:00:00 to 2019-02-04 11:15:00 105.66\n",
      "Resample 5Min - TecAn ( windows 30, windows_limit 100 )\n",
      "Processing 999 of ethusd\n"
     ]
    },
    {
     "data": {
      "application/vnd.jupyter.widget-view+json": {
       "model_id": "ccb0942b569345598b03c289c16890ee",
       "version_major": 2,
       "version_minor": 0
      },
      "text/plain": [
       "  0%|          | 0/999 [00:00<?, ?it/s]"
      ]
     },
     "metadata": {},
     "output_type": "display_data"
    },
    {
     "name": "stdout",
     "output_type": "stream",
     "text": [
      "https://www.bitstamp.net/api/v2/ohlc/bchbtc/?&currency_pair=bchbtc&step=300&limit=1000&start=1548979200\n",
      "Downloaded from 2019-02-01 00:00:00 to 2019-02-04 11:15:00 0.03441906\n",
      "Resample 5Min - TecAn ( windows 30, windows_limit 100 )\n",
      "Processing 999 of bchbtc\n"
     ]
    },
    {
     "data": {
      "application/vnd.jupyter.widget-view+json": {
       "model_id": "66be07e696b94f63af6037f41abb1894",
       "version_major": 2,
       "version_minor": 0
      },
      "text/plain": [
       "  0%|          | 0/999 [00:00<?, ?it/s]"
      ]
     },
     "metadata": {},
     "output_type": "display_data"
    },
    {
     "name": "stdout",
     "output_type": "stream",
     "text": [
      "https://www.bitstamp.net/api/v2/ohlc/btcusd/?&currency_pair=btcusd&step=300&limit=1000&start=1580515200\n",
      "Downloaded from 2020-02-01 00:00:00 to 2020-02-04 11:15:00 9163.36\n",
      "Resample 5Min - TecAn ( windows 30, windows_limit 100 )\n",
      "Processing 999 of btcusd\n"
     ]
    },
    {
     "data": {
      "application/vnd.jupyter.widget-view+json": {
       "model_id": "474d14f205ba4deb9b429456ebdedc99",
       "version_major": 2,
       "version_minor": 0
      },
      "text/plain": [
       "  0%|          | 0/999 [00:00<?, ?it/s]"
      ]
     },
     "metadata": {},
     "output_type": "display_data"
    },
    {
     "name": "stdout",
     "output_type": "stream",
     "text": [
      "https://www.bitstamp.net/api/v2/ohlc/ethusd/?&currency_pair=ethusd&step=300&limit=1000&start=1580515200\n",
      "Downloaded from 2020-02-01 00:00:00 to 2020-02-04 11:15:00 185.75\n",
      "Resample 5Min - TecAn ( windows 30, windows_limit 100 )\n",
      "Processing 999 of ethusd\n"
     ]
    },
    {
     "data": {
      "application/vnd.jupyter.widget-view+json": {
       "model_id": "c533baabc3894c0c91cd01ad128ef4f1",
       "version_major": 2,
       "version_minor": 0
      },
      "text/plain": [
       "  0%|          | 0/999 [00:00<?, ?it/s]"
      ]
     },
     "metadata": {},
     "output_type": "display_data"
    },
    {
     "name": "stdout",
     "output_type": "stream",
     "text": [
      "https://www.bitstamp.net/api/v2/ohlc/bchbtc/?&currency_pair=bchbtc&step=300&limit=1000&start=1580515200\n",
      "Downloaded from 2020-02-01 00:00:00 to 2020-02-04 11:15:00 0.04117013\n",
      "Resample 5Min - TecAn ( windows 30, windows_limit 100 )\n",
      "Processing 999 of bchbtc\n"
     ]
    },
    {
     "data": {
      "application/vnd.jupyter.widget-view+json": {
       "model_id": "e62b5adac8db4f5e863260d4566f75dc",
       "version_major": 2,
       "version_minor": 0
      },
      "text/plain": [
       "  0%|          | 0/999 [00:00<?, ?it/s]"
      ]
     },
     "metadata": {},
     "output_type": "display_data"
    },
    {
     "name": "stdout",
     "output_type": "stream",
     "text": [
      "https://www.bitstamp.net/api/v2/ohlc/btcusd/?&currency_pair=btcusd&step=300&limit=1000&start=1612137600\n",
      "Downloaded from 2021-02-01 00:00:00 to 2021-02-04 11:15:00 37713.31\n",
      "Resample 5Min - TecAn ( windows 30, windows_limit 100 )\n",
      "Processing 999 of btcusd\n"
     ]
    },
    {
     "data": {
      "application/vnd.jupyter.widget-view+json": {
       "model_id": "587f68c296da4b46816f6c974d00c696",
       "version_major": 2,
       "version_minor": 0
      },
      "text/plain": [
       "  0%|          | 0/999 [00:00<?, ?it/s]"
      ]
     },
     "metadata": {},
     "output_type": "display_data"
    },
    {
     "name": "stdout",
     "output_type": "stream",
     "text": [
      "https://www.bitstamp.net/api/v2/ohlc/ethusd/?&currency_pair=ethusd&step=300&limit=1000&start=1612137600\n",
      "Downloaded from 2021-02-01 00:00:00 to 2021-02-04 11:15:00 1633.70\n",
      "Resample 5Min - TecAn ( windows 30, windows_limit 100 )\n",
      "Processing 999 of ethusd\n"
     ]
    },
    {
     "data": {
      "application/vnd.jupyter.widget-view+json": {
       "model_id": "eb7a84ef1ce641ebbbfc5029af285b6d",
       "version_major": 2,
       "version_minor": 0
      },
      "text/plain": [
       "  0%|          | 0/999 [00:00<?, ?it/s]"
      ]
     },
     "metadata": {},
     "output_type": "display_data"
    },
    {
     "name": "stdout",
     "output_type": "stream",
     "text": [
      "https://www.bitstamp.net/api/v2/ohlc/bchbtc/?&currency_pair=bchbtc&step=300&limit=1000&start=1612137600\n",
      "Downloaded from 2021-02-01 00:00:00 to 2021-02-04 11:15:00 0.01130327\n",
      "Resample 5Min - TecAn ( windows 30, windows_limit 100 )\n",
      "Processing 999 of bchbtc\n"
     ]
    },
    {
     "data": {
      "application/vnd.jupyter.widget-view+json": {
       "model_id": "95f64b646eb7473191cfe2907d6a4ba6",
       "version_major": 2,
       "version_minor": 0
      },
      "text/plain": [
       "  0%|          | 0/999 [00:00<?, ?it/s]"
      ]
     },
     "metadata": {},
     "output_type": "display_data"
    },
    {
     "name": "stdout",
     "output_type": "stream",
     "text": [
      "https://www.bitstamp.net/api/v2/ohlc/ltceur/?&currency_pair=ltceur&step=300&limit=1000&start=1623711600\n",
      "https://www.bitstamp.net/api/v2/ohlc/ltceur/?&currency_pair=ltceur&step=300&limit=1000&start=1624011300\n",
      "https://www.bitstamp.net/api/v2/ohlc/ltceur/?&currency_pair=ltceur&step=300&limit=1000&start=1624311000\n",
      "https://www.bitstamp.net/api/v2/ohlc/ltceur/?&currency_pair=ltceur&step=300&limit=1000&start=1624610700\n",
      "https://www.bitstamp.net/api/v2/ohlc/ltceur/?&currency_pair=ltceur&step=300&limit=1000&start=1624910400\n",
      "https://www.bitstamp.net/api/v2/ohlc/ltceur/?&currency_pair=ltceur&step=300&limit=1000&start=1625210100\n",
      "https://www.bitstamp.net/api/v2/ohlc/ltceur/?&currency_pair=ltceur&step=300&limit=1000&start=1625509800\n",
      "https://www.bitstamp.net/api/v2/ohlc/ltceur/?&currency_pair=ltceur&step=300&limit=1000&start=1625809500\n",
      "https://www.bitstamp.net/api/v2/ohlc/ltceur/?&currency_pair=ltceur&step=300&limit=1000&start=1626109200\n",
      "Downloaded from 2021-06-15 00:00:00 to 2021-07-15 00:05:00 110.78\n",
      "Resample 5Min - TecAn ( windows 30, windows_limit 100 )\n",
      "Processing 8649 of ltceur\n"
     ]
    },
    {
     "data": {
      "application/vnd.jupyter.widget-view+json": {
       "model_id": "42de8c25cd934992ac7512d1c8c636b1",
       "version_major": 2,
       "version_minor": 0
      },
      "text/plain": [
       "  0%|          | 0/8649 [00:00<?, ?it/s]"
      ]
     },
     "metadata": {},
     "output_type": "display_data"
    },
    {
     "name": "stdout",
     "output_type": "stream",
     "text": [
      "https://www.bitstamp.net/api/v2/ohlc/ltcusd/?&currency_pair=ltcusd&step=300&limit=1000&start=1623711600\n",
      "https://www.bitstamp.net/api/v2/ohlc/ltcusd/?&currency_pair=ltcusd&step=300&limit=1000&start=1624011300\n",
      "https://www.bitstamp.net/api/v2/ohlc/ltcusd/?&currency_pair=ltcusd&step=300&limit=1000&start=1624311000\n",
      "https://www.bitstamp.net/api/v2/ohlc/ltcusd/?&currency_pair=ltcusd&step=300&limit=1000&start=1624610700\n",
      "https://www.bitstamp.net/api/v2/ohlc/ltcusd/?&currency_pair=ltcusd&step=300&limit=1000&start=1624910400\n",
      "https://www.bitstamp.net/api/v2/ohlc/ltcusd/?&currency_pair=ltcusd&step=300&limit=1000&start=1625210100\n",
      "https://www.bitstamp.net/api/v2/ohlc/ltcusd/?&currency_pair=ltcusd&step=300&limit=1000&start=1625509800\n",
      "https://www.bitstamp.net/api/v2/ohlc/ltcusd/?&currency_pair=ltcusd&step=300&limit=1000&start=1625809500\n",
      "https://www.bitstamp.net/api/v2/ohlc/ltcusd/?&currency_pair=ltcusd&step=300&limit=1000&start=1626109200\n",
      "Downloaded from 2021-06-15 00:00:00 to 2021-07-15 00:05:00 131.27\n",
      "Resample 5Min - TecAn ( windows 30, windows_limit 100 )\n",
      "Processing 8649 of ltcusd\n"
     ]
    },
    {
     "data": {
      "application/vnd.jupyter.widget-view+json": {
       "model_id": "645a2efe292140af8ddff08becddaceb",
       "version_major": 2,
       "version_minor": 0
      },
      "text/plain": [
       "  0%|          | 0/8649 [00:00<?, ?it/s]"
      ]
     },
     "metadata": {},
     "output_type": "display_data"
    },
    {
     "name": "stdout",
     "output_type": "stream",
     "text": [
      "https://www.bitstamp.net/api/v2/ohlc/ethusd/?&currency_pair=ethusd&step=300&limit=1000&start=1623711600\n",
      "https://www.bitstamp.net/api/v2/ohlc/ethusd/?&currency_pair=ethusd&step=300&limit=1000&start=1624011300\n",
      "https://www.bitstamp.net/api/v2/ohlc/ethusd/?&currency_pair=ethusd&step=300&limit=1000&start=1624311000\n",
      "https://www.bitstamp.net/api/v2/ohlc/ethusd/?&currency_pair=ethusd&step=300&limit=1000&start=1624610700\n",
      "https://www.bitstamp.net/api/v2/ohlc/ethusd/?&currency_pair=ethusd&step=300&limit=1000&start=1624910400\n",
      "https://www.bitstamp.net/api/v2/ohlc/ethusd/?&currency_pair=ethusd&step=300&limit=1000&start=1625210100\n",
      "https://www.bitstamp.net/api/v2/ohlc/ethusd/?&currency_pair=ethusd&step=300&limit=1000&start=1625509800\n",
      "https://www.bitstamp.net/api/v2/ohlc/ethusd/?&currency_pair=ethusd&step=300&limit=1000&start=1625809500\n",
      "https://www.bitstamp.net/api/v2/ohlc/ethusd/?&currency_pair=ethusd&step=300&limit=1000&start=1626109200\n",
      "Downloaded from 2021-06-15 00:00:00 to 2021-07-15 00:05:00 2000.79\n",
      "Resample 5Min - TecAn ( windows 30, windows_limit 100 )\n",
      "Processing 8649 of ethusd\n"
     ]
    },
    {
     "data": {
      "application/vnd.jupyter.widget-view+json": {
       "model_id": "0eb9aaf664a949c981b1819bb98175c7",
       "version_major": 2,
       "version_minor": 0
      },
      "text/plain": [
       "  0%|          | 0/8649 [00:00<?, ?it/s]"
      ]
     },
     "metadata": {},
     "output_type": "display_data"
    },
    {
     "name": "stdout",
     "output_type": "stream",
     "text": [
      "https://www.bitstamp.net/api/v2/ohlc/btcusd/?&currency_pair=btcusd&step=300&limit=1000&start=1623711600\n",
      "https://www.bitstamp.net/api/v2/ohlc/btcusd/?&currency_pair=btcusd&step=300&limit=1000&start=1624011300\n",
      "https://www.bitstamp.net/api/v2/ohlc/btcusd/?&currency_pair=btcusd&step=300&limit=1000&start=1624311000\n",
      "https://www.bitstamp.net/api/v2/ohlc/btcusd/?&currency_pair=btcusd&step=300&limit=1000&start=1624610700\n",
      "https://www.bitstamp.net/api/v2/ohlc/btcusd/?&currency_pair=btcusd&step=300&limit=1000&start=1624910400\n",
      "https://www.bitstamp.net/api/v2/ohlc/btcusd/?&currency_pair=btcusd&step=300&limit=1000&start=1625210100\n",
      "https://www.bitstamp.net/api/v2/ohlc/btcusd/?&currency_pair=btcusd&step=300&limit=1000&start=1625509800\n",
      "https://www.bitstamp.net/api/v2/ohlc/btcusd/?&currency_pair=btcusd&step=300&limit=1000&start=1625809500\n",
      "https://www.bitstamp.net/api/v2/ohlc/btcusd/?&currency_pair=btcusd&step=300&limit=1000&start=1626109200\n",
      "Downloaded from 2021-06-15 00:00:00 to 2021-07-15 00:05:00 32946.30\n",
      "Resample 5Min - TecAn ( windows 30, windows_limit 100 )\n",
      "Processing 8649 of btcusd\n"
     ]
    },
    {
     "data": {
      "application/vnd.jupyter.widget-view+json": {
       "model_id": "e3be8ead9e1641c086332ef89386a21a",
       "version_major": 2,
       "version_minor": 0
      },
      "text/plain": [
       "  0%|          | 0/8649 [00:00<?, ?it/s]"
      ]
     },
     "metadata": {},
     "output_type": "display_data"
    },
    {
     "name": "stdout",
     "output_type": "stream",
     "text": [
      "https://www.bitstamp.net/api/v2/ohlc/btcusd/?&currency_pair=btcusd&step=300&limit=1000&start=1622502000\n",
      "Downloaded from 2021-06-01 00:00:00 to 2021-06-04 11:15:00 36979.84\n",
      "Resample 5Min - TecAn ( windows 40, windows_limit 100 )\n",
      "Processing 999 of btcusd\n"
     ]
    },
    {
     "data": {
      "application/vnd.jupyter.widget-view+json": {
       "model_id": "268f078b53074bbca925b0a89e1a0040",
       "version_major": 2,
       "version_minor": 0
      },
      "text/plain": [
       "  0%|          | 0/999 [00:00<?, ?it/s]"
      ]
     },
     "metadata": {},
     "output_type": "display_data"
    },
    {
     "name": "stdout",
     "output_type": "stream",
     "text": [
      "https://www.bitstamp.net/api/v2/ohlc/ethusd/?&currency_pair=ethusd&step=300&limit=1000&start=1622502000\n",
      "Downloaded from 2021-06-01 00:00:00 to 2021-06-04 11:15:00 2662.21\n",
      "Resample 5Min - TecAn ( windows 40, windows_limit 100 )\n",
      "Processing 999 of ethusd\n"
     ]
    },
    {
     "data": {
      "application/vnd.jupyter.widget-view+json": {
       "model_id": "5e13f9ad0619480f8df936180462e69b",
       "version_major": 2,
       "version_minor": 0
      },
      "text/plain": [
       "  0%|          | 0/999 [00:00<?, ?it/s]"
      ]
     },
     "metadata": {},
     "output_type": "display_data"
    },
    {
     "name": "stdout",
     "output_type": "stream",
     "text": [
      "https://www.bitstamp.net/api/v2/ohlc/bchbtc/?&currency_pair=bchbtc&step=300&limit=1000&start=1622502000\n",
      "Downloaded from 2021-06-01 00:00:00 to 2021-06-04 11:15:00 0.01810604\n",
      "Resample 5Min - TecAn ( windows 40, windows_limit 100 )\n",
      "Processing 999 of bchbtc\n"
     ]
    },
    {
     "data": {
      "application/vnd.jupyter.widget-view+json": {
       "model_id": "1754f2a9abd248d78c62c24cc3d027d7",
       "version_major": 2,
       "version_minor": 0
      },
      "text/plain": [
       "  0%|          | 0/999 [00:00<?, ?it/s]"
      ]
     },
     "metadata": {},
     "output_type": "display_data"
    },
    {
     "name": "stdout",
     "output_type": "stream",
     "text": [
      "https://www.bitstamp.net/api/v2/ohlc/btcusd/?&currency_pair=btcusd&step=300&limit=1000&start=1590966000\n",
      "Downloaded from 2020-06-01 00:00:00 to 2020-06-04 11:15:00 9520.48\n",
      "Resample 5Min - TecAn ( windows 40, windows_limit 100 )\n",
      "Processing 999 of btcusd\n"
     ]
    },
    {
     "data": {
      "application/vnd.jupyter.widget-view+json": {
       "model_id": "7e33d089b8854fd6bd700a6fd22a4aac",
       "version_major": 2,
       "version_minor": 0
      },
      "text/plain": [
       "  0%|          | 0/999 [00:00<?, ?it/s]"
      ]
     },
     "metadata": {},
     "output_type": "display_data"
    },
    {
     "name": "stdout",
     "output_type": "stream",
     "text": [
      "https://www.bitstamp.net/api/v2/ohlc/ethusd/?&currency_pair=ethusd&step=300&limit=1000&start=1590966000\n",
      "Downloaded from 2020-06-01 00:00:00 to 2020-06-04 11:15:00 239.28\n",
      "Resample 5Min - TecAn ( windows 40, windows_limit 100 )\n",
      "Processing 999 of ethusd\n"
     ]
    },
    {
     "data": {
      "application/vnd.jupyter.widget-view+json": {
       "model_id": "7f3da5d5c5d948a39759182103c4b72f",
       "version_major": 2,
       "version_minor": 0
      },
      "text/plain": [
       "  0%|          | 0/999 [00:00<?, ?it/s]"
      ]
     },
     "metadata": {},
     "output_type": "display_data"
    },
    {
     "name": "stdout",
     "output_type": "stream",
     "text": [
      "https://www.bitstamp.net/api/v2/ohlc/bchbtc/?&currency_pair=bchbtc&step=300&limit=1000&start=1590966000\n",
      "Downloaded from 2020-06-01 00:00:00 to 2020-06-04 11:15:00 0.02659000\n",
      "Resample 5Min - TecAn ( windows 40, windows_limit 100 )\n",
      "Processing 999 of bchbtc\n"
     ]
    },
    {
     "data": {
      "application/vnd.jupyter.widget-view+json": {
       "model_id": "86bab1eeaece411995ac36d482d12560",
       "version_major": 2,
       "version_minor": 0
      },
      "text/plain": [
       "  0%|          | 0/999 [00:00<?, ?it/s]"
      ]
     },
     "metadata": {},
     "output_type": "display_data"
    },
    {
     "name": "stdout",
     "output_type": "stream",
     "text": [
      "https://www.bitstamp.net/api/v2/ohlc/btcusd/?&currency_pair=btcusd&step=300&limit=1000&start=1559343600\n",
      "Downloaded from 2019-06-01 00:00:00 to 2019-06-04 11:15:00 7963.92\n",
      "Resample 5Min - TecAn ( windows 40, windows_limit 100 )\n",
      "Processing 999 of btcusd\n"
     ]
    },
    {
     "data": {
      "application/vnd.jupyter.widget-view+json": {
       "model_id": "cbb947548a3048acab7d136ae61b8969",
       "version_major": 2,
       "version_minor": 0
      },
      "text/plain": [
       "  0%|          | 0/999 [00:00<?, ?it/s]"
      ]
     },
     "metadata": {},
     "output_type": "display_data"
    },
    {
     "name": "stdout",
     "output_type": "stream",
     "text": [
      "https://www.bitstamp.net/api/v2/ohlc/ethusd/?&currency_pair=ethusd&step=300&limit=1000&start=1559343600\n",
      "Downloaded from 2019-06-01 00:00:00 to 2019-06-04 11:15:00 247.42\n",
      "Resample 5Min - TecAn ( windows 40, windows_limit 100 )\n",
      "Processing 999 of ethusd\n"
     ]
    },
    {
     "data": {
      "application/vnd.jupyter.widget-view+json": {
       "model_id": "077afdeb15994cfe814e4075f9dd7036",
       "version_major": 2,
       "version_minor": 0
      },
      "text/plain": [
       "  0%|          | 0/999 [00:00<?, ?it/s]"
      ]
     },
     "metadata": {},
     "output_type": "display_data"
    },
    {
     "name": "stdout",
     "output_type": "stream",
     "text": [
      "https://www.bitstamp.net/api/v2/ohlc/bchbtc/?&currency_pair=bchbtc&step=300&limit=1000&start=1559343600\n",
      "Downloaded from 2019-06-01 00:00:00 to 2019-06-04 11:15:00 0.05012429\n",
      "Resample 5Min - TecAn ( windows 40, windows_limit 100 )\n",
      "Processing 999 of bchbtc\n"
     ]
    },
    {
     "data": {
      "application/vnd.jupyter.widget-view+json": {
       "model_id": "23645d8105814604865cc1c7d61d68dc",
       "version_major": 2,
       "version_minor": 0
      },
      "text/plain": [
       "  0%|          | 0/999 [00:00<?, ?it/s]"
      ]
     },
     "metadata": {},
     "output_type": "display_data"
    },
    {
     "name": "stdout",
     "output_type": "stream",
     "text": [
      "https://www.bitstamp.net/api/v2/ohlc/btcusd/?&currency_pair=btcusd&step=300&limit=1000&start=1527807600\n",
      "Downloaded from 2018-06-01 00:00:00 to 2018-06-04 11:15:00 7603.79\n",
      "Resample 5Min - TecAn ( windows 40, windows_limit 100 )\n",
      "Processing 999 of btcusd\n"
     ]
    },
    {
     "data": {
      "application/vnd.jupyter.widget-view+json": {
       "model_id": "fb61d19e62cf4538aef2d49dd7c1ef65",
       "version_major": 2,
       "version_minor": 0
      },
      "text/plain": [
       "  0%|          | 0/999 [00:00<?, ?it/s]"
      ]
     },
     "metadata": {},
     "output_type": "display_data"
    },
    {
     "name": "stdout",
     "output_type": "stream",
     "text": [
      "https://www.bitstamp.net/api/v2/ohlc/ethusd/?&currency_pair=ethusd&step=300&limit=1000&start=1527807600\n",
      "Downloaded from 2018-06-01 00:00:00 to 2018-06-04 11:15:00 605.42\n",
      "Resample 5Min - TecAn ( windows 40, windows_limit 100 )\n",
      "Processing 999 of ethusd\n"
     ]
    },
    {
     "data": {
      "application/vnd.jupyter.widget-view+json": {
       "model_id": "1807a32c0527466ea90f72db2f3bc5af",
       "version_major": 2,
       "version_minor": 0
      },
      "text/plain": [
       "  0%|          | 0/999 [00:00<?, ?it/s]"
      ]
     },
     "metadata": {},
     "output_type": "display_data"
    },
    {
     "name": "stdout",
     "output_type": "stream",
     "text": [
      "https://www.bitstamp.net/api/v2/ohlc/bchbtc/?&currency_pair=bchbtc&step=300&limit=1000&start=1527807600\n",
      "Downloaded from 2018-06-01 00:00:00 to 2018-06-04 11:15:00 0.15055500\n",
      "Resample 5Min - TecAn ( windows 40, windows_limit 100 )\n",
      "Processing 999 of bchbtc\n"
     ]
    },
    {
     "data": {
      "application/vnd.jupyter.widget-view+json": {
       "model_id": "5a1044378ce34851b6c1a52c679c3d5c",
       "version_major": 2,
       "version_minor": 0
      },
      "text/plain": [
       "  0%|          | 0/999 [00:00<?, ?it/s]"
      ]
     },
     "metadata": {},
     "output_type": "display_data"
    },
    {
     "name": "stdout",
     "output_type": "stream",
     "text": [
      "https://www.bitstamp.net/api/v2/ohlc/btcusd/?&currency_pair=btcusd&step=300&limit=1000&start=1517443200\n",
      "Downloaded from 2018-02-01 00:00:00 to 2018-02-04 11:15:00 8898.23\n",
      "Resample 5Min - TecAn ( windows 40, windows_limit 100 )\n",
      "Processing 999 of btcusd\n"
     ]
    },
    {
     "data": {
      "application/vnd.jupyter.widget-view+json": {
       "model_id": "63e5168327f249abb81c243fd0ae8e79",
       "version_major": 2,
       "version_minor": 0
      },
      "text/plain": [
       "  0%|          | 0/999 [00:00<?, ?it/s]"
      ]
     },
     "metadata": {},
     "output_type": "display_data"
    },
    {
     "name": "stdout",
     "output_type": "stream",
     "text": [
      "https://www.bitstamp.net/api/v2/ohlc/ethusd/?&currency_pair=ethusd&step=300&limit=1000&start=1517443200\n",
      "Downloaded from 2018-02-01 00:00:00 to 2018-02-04 11:15:00 911.19\n",
      "Resample 5Min - TecAn ( windows 40, windows_limit 100 )\n",
      "Processing 999 of ethusd\n"
     ]
    },
    {
     "data": {
      "application/vnd.jupyter.widget-view+json": {
       "model_id": "d2e83c2db834486185171a0336c4db64",
       "version_major": 2,
       "version_minor": 0
      },
      "text/plain": [
       "  0%|          | 0/999 [00:00<?, ?it/s]"
      ]
     },
     "metadata": {},
     "output_type": "display_data"
    },
    {
     "name": "stdout",
     "output_type": "stream",
     "text": [
      "https://www.bitstamp.net/api/v2/ohlc/bchbtc/?&currency_pair=bchbtc&step=300&limit=1000&start=1517443200\n",
      "Downloaded from 2018-02-01 00:00:00 to 2018-02-04 11:15:00 0.13584186\n",
      "Resample 5Min - TecAn ( windows 40, windows_limit 100 )\n",
      "Processing 999 of bchbtc\n"
     ]
    },
    {
     "data": {
      "application/vnd.jupyter.widget-view+json": {
       "model_id": "f0a66dd42ca74d2395ebcebfce7adc88",
       "version_major": 2,
       "version_minor": 0
      },
      "text/plain": [
       "  0%|          | 0/999 [00:00<?, ?it/s]"
      ]
     },
     "metadata": {},
     "output_type": "display_data"
    },
    {
     "name": "stdout",
     "output_type": "stream",
     "text": [
      "https://www.bitstamp.net/api/v2/ohlc/btcusd/?&currency_pair=btcusd&step=300&limit=1000&start=1548979200\n",
      "Downloaded from 2019-02-01 00:00:00 to 2019-02-04 11:15:00 3404.48\n",
      "Resample 5Min - TecAn ( windows 40, windows_limit 100 )\n",
      "Processing 999 of btcusd\n"
     ]
    },
    {
     "data": {
      "application/vnd.jupyter.widget-view+json": {
       "model_id": "162b6eff2a3d42c38dda1544ffc1d557",
       "version_major": 2,
       "version_minor": 0
      },
      "text/plain": [
       "  0%|          | 0/999 [00:00<?, ?it/s]"
      ]
     },
     "metadata": {},
     "output_type": "display_data"
    },
    {
     "name": "stdout",
     "output_type": "stream",
     "text": [
      "https://www.bitstamp.net/api/v2/ohlc/ethusd/?&currency_pair=ethusd&step=300&limit=1000&start=1548979200\n",
      "Downloaded from 2019-02-01 00:00:00 to 2019-02-04 11:15:00 105.66\n",
      "Resample 5Min - TecAn ( windows 40, windows_limit 100 )\n",
      "Processing 999 of ethusd\n"
     ]
    },
    {
     "data": {
      "application/vnd.jupyter.widget-view+json": {
       "model_id": "6a064cfdf6b14f06ae1d19a9f79174f8",
       "version_major": 2,
       "version_minor": 0
      },
      "text/plain": [
       "  0%|          | 0/999 [00:00<?, ?it/s]"
      ]
     },
     "metadata": {},
     "output_type": "display_data"
    },
    {
     "name": "stdout",
     "output_type": "stream",
     "text": [
      "https://www.bitstamp.net/api/v2/ohlc/bchbtc/?&currency_pair=bchbtc&step=300&limit=1000&start=1548979200\n",
      "Downloaded from 2019-02-01 00:00:00 to 2019-02-04 11:15:00 0.03441906\n",
      "Resample 5Min - TecAn ( windows 40, windows_limit 100 )\n",
      "Processing 999 of bchbtc\n"
     ]
    },
    {
     "data": {
      "application/vnd.jupyter.widget-view+json": {
       "model_id": "fad2033b97444a0caad63f820df164c5",
       "version_major": 2,
       "version_minor": 0
      },
      "text/plain": [
       "  0%|          | 0/999 [00:00<?, ?it/s]"
      ]
     },
     "metadata": {},
     "output_type": "display_data"
    },
    {
     "name": "stdout",
     "output_type": "stream",
     "text": [
      "https://www.bitstamp.net/api/v2/ohlc/btcusd/?&currency_pair=btcusd&step=300&limit=1000&start=1580515200\n",
      "Downloaded from 2020-02-01 00:00:00 to 2020-02-04 11:15:00 9163.36\n",
      "Resample 5Min - TecAn ( windows 40, windows_limit 100 )\n",
      "Processing 999 of btcusd\n"
     ]
    },
    {
     "data": {
      "application/vnd.jupyter.widget-view+json": {
       "model_id": "4e32c565cd52431c81fed59d9ea210ca",
       "version_major": 2,
       "version_minor": 0
      },
      "text/plain": [
       "  0%|          | 0/999 [00:00<?, ?it/s]"
      ]
     },
     "metadata": {},
     "output_type": "display_data"
    },
    {
     "name": "stdout",
     "output_type": "stream",
     "text": [
      "https://www.bitstamp.net/api/v2/ohlc/ethusd/?&currency_pair=ethusd&step=300&limit=1000&start=1580515200\n",
      "Downloaded from 2020-02-01 00:00:00 to 2020-02-04 11:15:00 185.75\n",
      "Resample 5Min - TecAn ( windows 40, windows_limit 100 )\n",
      "Processing 999 of ethusd\n"
     ]
    },
    {
     "data": {
      "application/vnd.jupyter.widget-view+json": {
       "model_id": "7bb790364f9144ae879089893c534d44",
       "version_major": 2,
       "version_minor": 0
      },
      "text/plain": [
       "  0%|          | 0/999 [00:00<?, ?it/s]"
      ]
     },
     "metadata": {},
     "output_type": "display_data"
    },
    {
     "name": "stdout",
     "output_type": "stream",
     "text": [
      "https://www.bitstamp.net/api/v2/ohlc/bchbtc/?&currency_pair=bchbtc&step=300&limit=1000&start=1580515200\n",
      "Downloaded from 2020-02-01 00:00:00 to 2020-02-04 11:15:00 0.04117013\n",
      "Resample 5Min - TecAn ( windows 40, windows_limit 100 )\n",
      "Processing 999 of bchbtc\n"
     ]
    },
    {
     "data": {
      "application/vnd.jupyter.widget-view+json": {
       "model_id": "9eea51948e404f5b93f5839d0465d85c",
       "version_major": 2,
       "version_minor": 0
      },
      "text/plain": [
       "  0%|          | 0/999 [00:00<?, ?it/s]"
      ]
     },
     "metadata": {},
     "output_type": "display_data"
    },
    {
     "name": "stdout",
     "output_type": "stream",
     "text": [
      "https://www.bitstamp.net/api/v2/ohlc/btcusd/?&currency_pair=btcusd&step=300&limit=1000&start=1612137600\n",
      "Downloaded from 2021-02-01 00:00:00 to 2021-02-04 11:15:00 37713.31\n",
      "Resample 5Min - TecAn ( windows 40, windows_limit 100 )\n",
      "Processing 999 of btcusd\n"
     ]
    },
    {
     "data": {
      "application/vnd.jupyter.widget-view+json": {
       "model_id": "c8c366199701417181a0ba9fc1790f30",
       "version_major": 2,
       "version_minor": 0
      },
      "text/plain": [
       "  0%|          | 0/999 [00:00<?, ?it/s]"
      ]
     },
     "metadata": {},
     "output_type": "display_data"
    },
    {
     "name": "stdout",
     "output_type": "stream",
     "text": [
      "https://www.bitstamp.net/api/v2/ohlc/ethusd/?&currency_pair=ethusd&step=300&limit=1000&start=1612137600\n",
      "Downloaded from 2021-02-01 00:00:00 to 2021-02-04 11:15:00 1633.70\n",
      "Resample 5Min - TecAn ( windows 40, windows_limit 100 )\n",
      "Processing 999 of ethusd\n"
     ]
    },
    {
     "data": {
      "application/vnd.jupyter.widget-view+json": {
       "model_id": "a5d9fb4c37bb45ed94cd55aa62478472",
       "version_major": 2,
       "version_minor": 0
      },
      "text/plain": [
       "  0%|          | 0/999 [00:00<?, ?it/s]"
      ]
     },
     "metadata": {},
     "output_type": "display_data"
    },
    {
     "name": "stdout",
     "output_type": "stream",
     "text": [
      "https://www.bitstamp.net/api/v2/ohlc/bchbtc/?&currency_pair=bchbtc&step=300&limit=1000&start=1612137600\n",
      "Downloaded from 2021-02-01 00:00:00 to 2021-02-04 11:15:00 0.01130327\n",
      "Resample 5Min - TecAn ( windows 40, windows_limit 100 )\n",
      "Processing 999 of bchbtc\n"
     ]
    },
    {
     "data": {
      "application/vnd.jupyter.widget-view+json": {
       "model_id": "e66ec58040304d7a8fc829a00ccba8c5",
       "version_major": 2,
       "version_minor": 0
      },
      "text/plain": [
       "  0%|          | 0/999 [00:00<?, ?it/s]"
      ]
     },
     "metadata": {},
     "output_type": "display_data"
    },
    {
     "name": "stdout",
     "output_type": "stream",
     "text": [
      "https://www.bitstamp.net/api/v2/ohlc/ltceur/?&currency_pair=ltceur&step=300&limit=1000&start=1623711600\n",
      "https://www.bitstamp.net/api/v2/ohlc/ltceur/?&currency_pair=ltceur&step=300&limit=1000&start=1624011300\n",
      "https://www.bitstamp.net/api/v2/ohlc/ltceur/?&currency_pair=ltceur&step=300&limit=1000&start=1624311000\n",
      "https://www.bitstamp.net/api/v2/ohlc/ltceur/?&currency_pair=ltceur&step=300&limit=1000&start=1624610700\n",
      "https://www.bitstamp.net/api/v2/ohlc/ltceur/?&currency_pair=ltceur&step=300&limit=1000&start=1624910400\n",
      "https://www.bitstamp.net/api/v2/ohlc/ltceur/?&currency_pair=ltceur&step=300&limit=1000&start=1625210100\n",
      "https://www.bitstamp.net/api/v2/ohlc/ltceur/?&currency_pair=ltceur&step=300&limit=1000&start=1625509800\n",
      "https://www.bitstamp.net/api/v2/ohlc/ltceur/?&currency_pair=ltceur&step=300&limit=1000&start=1625809500\n",
      "https://www.bitstamp.net/api/v2/ohlc/ltceur/?&currency_pair=ltceur&step=300&limit=1000&start=1626109200\n",
      "Downloaded from 2021-06-15 00:00:00 to 2021-07-15 00:05:00 110.78\n",
      "Resample 5Min - TecAn ( windows 40, windows_limit 100 )\n",
      "Processing 8649 of ltceur\n"
     ]
    },
    {
     "data": {
      "application/vnd.jupyter.widget-view+json": {
       "model_id": "d76f82e101784c3f86b392b1b352a3ab",
       "version_major": 2,
       "version_minor": 0
      },
      "text/plain": [
       "  0%|          | 0/8649 [00:00<?, ?it/s]"
      ]
     },
     "metadata": {},
     "output_type": "display_data"
    },
    {
     "name": "stdout",
     "output_type": "stream",
     "text": [
      "https://www.bitstamp.net/api/v2/ohlc/ltcusd/?&currency_pair=ltcusd&step=300&limit=1000&start=1623711600\n",
      "https://www.bitstamp.net/api/v2/ohlc/ltcusd/?&currency_pair=ltcusd&step=300&limit=1000&start=1624011300\n",
      "https://www.bitstamp.net/api/v2/ohlc/ltcusd/?&currency_pair=ltcusd&step=300&limit=1000&start=1624311000\n",
      "https://www.bitstamp.net/api/v2/ohlc/ltcusd/?&currency_pair=ltcusd&step=300&limit=1000&start=1624610700\n",
      "https://www.bitstamp.net/api/v2/ohlc/ltcusd/?&currency_pair=ltcusd&step=300&limit=1000&start=1624910400\n",
      "https://www.bitstamp.net/api/v2/ohlc/ltcusd/?&currency_pair=ltcusd&step=300&limit=1000&start=1625210100\n",
      "https://www.bitstamp.net/api/v2/ohlc/ltcusd/?&currency_pair=ltcusd&step=300&limit=1000&start=1625509800\n",
      "https://www.bitstamp.net/api/v2/ohlc/ltcusd/?&currency_pair=ltcusd&step=300&limit=1000&start=1625809500\n",
      "https://www.bitstamp.net/api/v2/ohlc/ltcusd/?&currency_pair=ltcusd&step=300&limit=1000&start=1626109200\n",
      "Downloaded from 2021-06-15 00:00:00 to 2021-07-15 00:05:00 131.27\n",
      "Resample 5Min - TecAn ( windows 40, windows_limit 100 )\n",
      "Processing 8649 of ltcusd\n"
     ]
    },
    {
     "data": {
      "application/vnd.jupyter.widget-view+json": {
       "model_id": "c46065b5cfed4002ba9171f8c2b0e472",
       "version_major": 2,
       "version_minor": 0
      },
      "text/plain": [
       "  0%|          | 0/8649 [00:00<?, ?it/s]"
      ]
     },
     "metadata": {},
     "output_type": "display_data"
    },
    {
     "name": "stdout",
     "output_type": "stream",
     "text": [
      "https://www.bitstamp.net/api/v2/ohlc/ethusd/?&currency_pair=ethusd&step=300&limit=1000&start=1623711600\n",
      "https://www.bitstamp.net/api/v2/ohlc/ethusd/?&currency_pair=ethusd&step=300&limit=1000&start=1624011300\n",
      "https://www.bitstamp.net/api/v2/ohlc/ethusd/?&currency_pair=ethusd&step=300&limit=1000&start=1624311000\n",
      "https://www.bitstamp.net/api/v2/ohlc/ethusd/?&currency_pair=ethusd&step=300&limit=1000&start=1624610700\n",
      "https://www.bitstamp.net/api/v2/ohlc/ethusd/?&currency_pair=ethusd&step=300&limit=1000&start=1624910400\n",
      "https://www.bitstamp.net/api/v2/ohlc/ethusd/?&currency_pair=ethusd&step=300&limit=1000&start=1625210100\n",
      "https://www.bitstamp.net/api/v2/ohlc/ethusd/?&currency_pair=ethusd&step=300&limit=1000&start=1625509800\n",
      "https://www.bitstamp.net/api/v2/ohlc/ethusd/?&currency_pair=ethusd&step=300&limit=1000&start=1625809500\n",
      "https://www.bitstamp.net/api/v2/ohlc/ethusd/?&currency_pair=ethusd&step=300&limit=1000&start=1626109200\n",
      "Downloaded from 2021-06-15 00:00:00 to 2021-07-15 00:05:00 2000.79\n",
      "Resample 5Min - TecAn ( windows 40, windows_limit 100 )\n",
      "Processing 8649 of ethusd\n"
     ]
    },
    {
     "data": {
      "application/vnd.jupyter.widget-view+json": {
       "model_id": "4c618a1169a04d909194645c340b5497",
       "version_major": 2,
       "version_minor": 0
      },
      "text/plain": [
       "  0%|          | 0/8649 [00:00<?, ?it/s]"
      ]
     },
     "metadata": {},
     "output_type": "display_data"
    },
    {
     "name": "stdout",
     "output_type": "stream",
     "text": [
      "https://www.bitstamp.net/api/v2/ohlc/btcusd/?&currency_pair=btcusd&step=300&limit=1000&start=1623711600\n",
      "https://www.bitstamp.net/api/v2/ohlc/btcusd/?&currency_pair=btcusd&step=300&limit=1000&start=1624011300\n",
      "https://www.bitstamp.net/api/v2/ohlc/btcusd/?&currency_pair=btcusd&step=300&limit=1000&start=1624311000\n",
      "https://www.bitstamp.net/api/v2/ohlc/btcusd/?&currency_pair=btcusd&step=300&limit=1000&start=1624610700\n",
      "https://www.bitstamp.net/api/v2/ohlc/btcusd/?&currency_pair=btcusd&step=300&limit=1000&start=1624910400\n",
      "https://www.bitstamp.net/api/v2/ohlc/btcusd/?&currency_pair=btcusd&step=300&limit=1000&start=1625210100\n",
      "https://www.bitstamp.net/api/v2/ohlc/btcusd/?&currency_pair=btcusd&step=300&limit=1000&start=1625509800\n",
      "https://www.bitstamp.net/api/v2/ohlc/btcusd/?&currency_pair=btcusd&step=300&limit=1000&start=1625809500\n",
      "https://www.bitstamp.net/api/v2/ohlc/btcusd/?&currency_pair=btcusd&step=300&limit=1000&start=1626109200\n",
      "Downloaded from 2021-06-15 00:00:00 to 2021-07-15 00:05:00 32946.30\n",
      "Resample 5Min - TecAn ( windows 40, windows_limit 100 )\n",
      "Processing 8649 of btcusd\n"
     ]
    },
    {
     "data": {
      "application/vnd.jupyter.widget-view+json": {
       "model_id": "36ce44be350947329574baa2825449b2",
       "version_major": 2,
       "version_minor": 0
      },
      "text/plain": [
       "  0%|          | 0/8649 [00:00<?, ?it/s]"
      ]
     },
     "metadata": {},
     "output_type": "display_data"
    },
    {
     "name": "stdout",
     "output_type": "stream",
     "text": [
      "https://www.bitstamp.net/api/v2/ohlc/btcusd/?&currency_pair=btcusd&step=180&limit=1000&start=1622502000\n",
      "Downloaded from 2021-06-01 00:00:00 to 2021-06-03 01:57:00 37436.78\n",
      "Resample 3Min - TecAn ( windows 5, windows_limit 100 )\n",
      "Processing 999 of btcusd\n"
     ]
    },
    {
     "data": {
      "application/vnd.jupyter.widget-view+json": {
       "model_id": "a93497564d88441bbcfaee0e94e7a1b4",
       "version_major": 2,
       "version_minor": 0
      },
      "text/plain": [
       "  0%|          | 0/999 [00:00<?, ?it/s]"
      ]
     },
     "metadata": {},
     "output_type": "display_data"
    },
    {
     "name": "stdout",
     "output_type": "stream",
     "text": [
      "https://www.bitstamp.net/api/v2/ohlc/ethusd/?&currency_pair=ethusd&step=180&limit=1000&start=1622502000\n",
      "Downloaded from 2021-06-01 00:00:00 to 2021-06-03 01:57:00 2702.14\n",
      "Resample 3Min - TecAn ( windows 5, windows_limit 100 )\n",
      "Processing 999 of ethusd\n"
     ]
    },
    {
     "data": {
      "application/vnd.jupyter.widget-view+json": {
       "model_id": "3bd86b53ea134b3bae94159d85b585b8",
       "version_major": 2,
       "version_minor": 0
      },
      "text/plain": [
       "  0%|          | 0/999 [00:00<?, ?it/s]"
      ]
     },
     "metadata": {},
     "output_type": "display_data"
    },
    {
     "name": "stdout",
     "output_type": "stream",
     "text": [
      "https://www.bitstamp.net/api/v2/ohlc/bchbtc/?&currency_pair=bchbtc&step=180&limit=1000&start=1622502000\n",
      "Downloaded from 2021-06-01 00:00:00 to 2021-06-03 01:57:00 0.01859323\n",
      "Resample 3Min - TecAn ( windows 5, windows_limit 100 )\n",
      "Processing 999 of bchbtc\n"
     ]
    },
    {
     "data": {
      "application/vnd.jupyter.widget-view+json": {
       "model_id": "7c9a93926f6d43f184a86f657675271c",
       "version_major": 2,
       "version_minor": 0
      },
      "text/plain": [
       "  0%|          | 0/999 [00:00<?, ?it/s]"
      ]
     },
     "metadata": {},
     "output_type": "display_data"
    },
    {
     "name": "stdout",
     "output_type": "stream",
     "text": [
      "https://www.bitstamp.net/api/v2/ohlc/btcusd/?&currency_pair=btcusd&step=180&limit=1000&start=1590966000\n",
      "Downloaded from 2020-06-01 00:00:00 to 2020-06-03 01:57:00 9525.82\n",
      "Resample 3Min - TecAn ( windows 5, windows_limit 100 )\n",
      "Processing 999 of btcusd\n"
     ]
    },
    {
     "data": {
      "application/vnd.jupyter.widget-view+json": {
       "model_id": "961c5fd839fd4d83ab189f83cc2602c8",
       "version_major": 2,
       "version_minor": 0
      },
      "text/plain": [
       "  0%|          | 0/999 [00:00<?, ?it/s]"
      ]
     },
     "metadata": {},
     "output_type": "display_data"
    },
    {
     "name": "stdout",
     "output_type": "stream",
     "text": [
      "https://www.bitstamp.net/api/v2/ohlc/ethusd/?&currency_pair=ethusd&step=180&limit=1000&start=1590966000\n",
      "Downloaded from 2020-06-01 00:00:00 to 2020-06-03 01:57:00 237.99\n",
      "Resample 3Min - TecAn ( windows 5, windows_limit 100 )\n",
      "Processing 999 of ethusd\n"
     ]
    },
    {
     "data": {
      "application/vnd.jupyter.widget-view+json": {
       "model_id": "ab25715a799c46e5ac5ba0df2b0afb2e",
       "version_major": 2,
       "version_minor": 0
      },
      "text/plain": [
       "  0%|          | 0/999 [00:00<?, ?it/s]"
      ]
     },
     "metadata": {},
     "output_type": "display_data"
    },
    {
     "name": "stdout",
     "output_type": "stream",
     "text": [
      "https://www.bitstamp.net/api/v2/ohlc/bchbtc/?&currency_pair=bchbtc&step=180&limit=1000&start=1590966000\n",
      "Downloaded from 2020-06-01 00:00:00 to 2020-06-03 01:57:00 0.02627124\n",
      "Resample 3Min - TecAn ( windows 5, windows_limit 100 )\n",
      "Processing 999 of bchbtc\n"
     ]
    },
    {
     "data": {
      "application/vnd.jupyter.widget-view+json": {
       "model_id": "4ce3c3452d0d4aed9e8ff47d84f95e33",
       "version_major": 2,
       "version_minor": 0
      },
      "text/plain": [
       "  0%|          | 0/999 [00:00<?, ?it/s]"
      ]
     },
     "metadata": {},
     "output_type": "display_data"
    },
    {
     "name": "stdout",
     "output_type": "stream",
     "text": [
      "https://www.bitstamp.net/api/v2/ohlc/btcusd/?&currency_pair=btcusd&step=180&limit=1000&start=1559343600\n",
      "Downloaded from 2019-06-01 00:00:00 to 2019-06-03 01:57:00 8681.59\n",
      "Resample 3Min - TecAn ( windows 5, windows_limit 100 )\n",
      "Processing 999 of btcusd\n"
     ]
    },
    {
     "data": {
      "application/vnd.jupyter.widget-view+json": {
       "model_id": "aeb2622a6f6346348febdc0399dc0889",
       "version_major": 2,
       "version_minor": 0
      },
      "text/plain": [
       "  0%|          | 0/999 [00:00<?, ?it/s]"
      ]
     },
     "metadata": {},
     "output_type": "display_data"
    },
    {
     "name": "stdout",
     "output_type": "stream",
     "text": [
      "https://www.bitstamp.net/api/v2/ohlc/ethusd/?&currency_pair=ethusd&step=180&limit=1000&start=1559343600\n",
      "Downloaded from 2019-06-01 00:00:00 to 2019-06-03 01:57:00 266.63\n",
      "Resample 3Min - TecAn ( windows 5, windows_limit 100 )\n",
      "Processing 999 of ethusd\n"
     ]
    },
    {
     "data": {
      "application/vnd.jupyter.widget-view+json": {
       "model_id": "cae9e20766ed4cff9a181606f1c4bb16",
       "version_major": 2,
       "version_minor": 0
      },
      "text/plain": [
       "  0%|          | 0/999 [00:00<?, ?it/s]"
      ]
     },
     "metadata": {},
     "output_type": "display_data"
    },
    {
     "name": "stdout",
     "output_type": "stream",
     "text": [
      "https://www.bitstamp.net/api/v2/ohlc/bchbtc/?&currency_pair=bchbtc&step=180&limit=1000&start=1559343600\n",
      "Downloaded from 2019-06-01 00:00:00 to 2019-06-03 01:57:00 0.05103076\n",
      "Resample 3Min - TecAn ( windows 5, windows_limit 100 )\n",
      "Processing 999 of bchbtc\n"
     ]
    },
    {
     "data": {
      "application/vnd.jupyter.widget-view+json": {
       "model_id": "88e9d2679aef41cf8d121f42c0c9aa5d",
       "version_major": 2,
       "version_minor": 0
      },
      "text/plain": [
       "  0%|          | 0/999 [00:00<?, ?it/s]"
      ]
     },
     "metadata": {},
     "output_type": "display_data"
    },
    {
     "name": "stdout",
     "output_type": "stream",
     "text": [
      "https://www.bitstamp.net/api/v2/ohlc/btcusd/?&currency_pair=btcusd&step=180&limit=1000&start=1527807600\n",
      "Downloaded from 2018-06-01 00:00:00 to 2018-06-03 01:57:00 7653.99\n",
      "Resample 3Min - TecAn ( windows 5, windows_limit 100 )\n",
      "Processing 999 of btcusd\n"
     ]
    },
    {
     "data": {
      "application/vnd.jupyter.widget-view+json": {
       "model_id": "297fcf9ecdd6466697b6008bf0d63c65",
       "version_major": 2,
       "version_minor": 0
      },
      "text/plain": [
       "  0%|          | 0/999 [00:00<?, ?it/s]"
      ]
     },
     "metadata": {},
     "output_type": "display_data"
    },
    {
     "name": "stdout",
     "output_type": "stream",
     "text": [
      "https://www.bitstamp.net/api/v2/ohlc/ethusd/?&currency_pair=ethusd&step=180&limit=1000&start=1527807600\n",
      "Downloaded from 2018-06-01 00:00:00 to 2018-06-03 01:57:00 592.70\n",
      "Resample 3Min - TecAn ( windows 5, windows_limit 100 )\n",
      "Processing 999 of ethusd\n"
     ]
    },
    {
     "data": {
      "application/vnd.jupyter.widget-view+json": {
       "model_id": "0c9de4643d0c4e7192bf911cd4494879",
       "version_major": 2,
       "version_minor": 0
      },
      "text/plain": [
       "  0%|          | 0/999 [00:00<?, ?it/s]"
      ]
     },
     "metadata": {},
     "output_type": "display_data"
    },
    {
     "name": "stdout",
     "output_type": "stream",
     "text": [
      "https://www.bitstamp.net/api/v2/ohlc/bchbtc/?&currency_pair=bchbtc&step=180&limit=1000&start=1527807600\n",
      "Downloaded from 2018-06-01 00:00:00 to 2018-06-03 01:57:00 0.14340000\n",
      "Resample 3Min - TecAn ( windows 5, windows_limit 100 )\n",
      "Processing 999 of bchbtc\n"
     ]
    },
    {
     "data": {
      "application/vnd.jupyter.widget-view+json": {
       "model_id": "bae7929db0fc49529af54a8ef2bddf0b",
       "version_major": 2,
       "version_minor": 0
      },
      "text/plain": [
       "  0%|          | 0/999 [00:00<?, ?it/s]"
      ]
     },
     "metadata": {},
     "output_type": "display_data"
    },
    {
     "name": "stdout",
     "output_type": "stream",
     "text": [
      "https://www.bitstamp.net/api/v2/ohlc/btcusd/?&currency_pair=btcusd&step=180&limit=1000&start=1517443200\n",
      "Downloaded from 2018-02-01 00:00:00 to 2018-02-03 01:57:00 8563.00\n",
      "Resample 3Min - TecAn ( windows 5, windows_limit 100 )\n",
      "Processing 999 of btcusd\n"
     ]
    },
    {
     "data": {
      "application/vnd.jupyter.widget-view+json": {
       "model_id": "4a94b0f76a8d40ecb8c54ea77c7956a4",
       "version_major": 2,
       "version_minor": 0
      },
      "text/plain": [
       "  0%|          | 0/999 [00:00<?, ?it/s]"
      ]
     },
     "metadata": {},
     "output_type": "display_data"
    },
    {
     "name": "stdout",
     "output_type": "stream",
     "text": [
      "https://www.bitstamp.net/api/v2/ohlc/ethusd/?&currency_pair=ethusd&step=180&limit=1000&start=1517443200\n",
      "Downloaded from 2018-02-01 00:00:00 to 2018-02-03 01:57:00 894.06\n",
      "Resample 3Min - TecAn ( windows 5, windows_limit 100 )\n",
      "Processing 999 of ethusd\n"
     ]
    },
    {
     "data": {
      "application/vnd.jupyter.widget-view+json": {
       "model_id": "4c59dbfc3f5d44e585c9139b4b205600",
       "version_major": 2,
       "version_minor": 0
      },
      "text/plain": [
       "  0%|          | 0/999 [00:00<?, ?it/s]"
      ]
     },
     "metadata": {},
     "output_type": "display_data"
    },
    {
     "name": "stdout",
     "output_type": "stream",
     "text": [
      "https://www.bitstamp.net/api/v2/ohlc/bchbtc/?&currency_pair=bchbtc&step=180&limit=1000&start=1517443200\n",
      "Downloaded from 2018-02-01 00:00:00 to 2018-02-03 01:57:00 0.13474768\n",
      "Resample 3Min - TecAn ( windows 5, windows_limit 100 )\n",
      "Processing 999 of bchbtc\n"
     ]
    },
    {
     "data": {
      "application/vnd.jupyter.widget-view+json": {
       "model_id": "41424b02209942229fd63c38e6e328fc",
       "version_major": 2,
       "version_minor": 0
      },
      "text/plain": [
       "  0%|          | 0/999 [00:00<?, ?it/s]"
      ]
     },
     "metadata": {},
     "output_type": "display_data"
    },
    {
     "name": "stdout",
     "output_type": "stream",
     "text": [
      "https://www.bitstamp.net/api/v2/ohlc/btcusd/?&currency_pair=btcusd&step=180&limit=1000&start=1548979200\n",
      "Downloaded from 2019-02-01 00:00:00 to 2019-02-03 01:57:00 3448.32\n",
      "Resample 3Min - TecAn ( windows 5, windows_limit 100 )\n",
      "Processing 999 of btcusd\n"
     ]
    },
    {
     "data": {
      "application/vnd.jupyter.widget-view+json": {
       "model_id": "30ad06048db94e1487f19e7cde1c1a8d",
       "version_major": 2,
       "version_minor": 0
      },
      "text/plain": [
       "  0%|          | 0/999 [00:00<?, ?it/s]"
      ]
     },
     "metadata": {},
     "output_type": "display_data"
    },
    {
     "name": "stdout",
     "output_type": "stream",
     "text": [
      "https://www.bitstamp.net/api/v2/ohlc/ethusd/?&currency_pair=ethusd&step=180&limit=1000&start=1548979200\n",
      "Downloaded from 2019-02-01 00:00:00 to 2019-02-03 01:57:00 108.63\n",
      "Resample 3Min - TecAn ( windows 5, windows_limit 100 )\n",
      "Processing 999 of ethusd\n"
     ]
    },
    {
     "data": {
      "application/vnd.jupyter.widget-view+json": {
       "model_id": "50a6c224254f4d87945db75672c56d2d",
       "version_major": 2,
       "version_minor": 0
      },
      "text/plain": [
       "  0%|          | 0/999 [00:00<?, ?it/s]"
      ]
     },
     "metadata": {},
     "output_type": "display_data"
    },
    {
     "name": "stdout",
     "output_type": "stream",
     "text": [
      "https://www.bitstamp.net/api/v2/ohlc/bchbtc/?&currency_pair=bchbtc&step=180&limit=1000&start=1548979200\n",
      "Downloaded from 2019-02-01 00:00:00 to 2019-02-03 01:57:00 0.03446717\n",
      "Resample 3Min - TecAn ( windows 5, windows_limit 100 )\n",
      "Processing 999 of bchbtc\n"
     ]
    },
    {
     "data": {
      "application/vnd.jupyter.widget-view+json": {
       "model_id": "d893897c21b44ddab6059530805f4001",
       "version_major": 2,
       "version_minor": 0
      },
      "text/plain": [
       "  0%|          | 0/999 [00:00<?, ?it/s]"
      ]
     },
     "metadata": {},
     "output_type": "display_data"
    },
    {
     "name": "stdout",
     "output_type": "stream",
     "text": [
      "https://www.bitstamp.net/api/v2/ohlc/btcusd/?&currency_pair=btcusd&step=180&limit=1000&start=1580515200\n",
      "Downloaded from 2020-02-01 00:00:00 to 2020-02-03 01:57:00 9540.01\n",
      "Resample 3Min - TecAn ( windows 5, windows_limit 100 )\n",
      "Processing 999 of btcusd\n"
     ]
    },
    {
     "data": {
      "application/vnd.jupyter.widget-view+json": {
       "model_id": "a81dbabd945f4890a0a03dc3e181504c",
       "version_major": 2,
       "version_minor": 0
      },
      "text/plain": [
       "  0%|          | 0/999 [00:00<?, ?it/s]"
      ]
     },
     "metadata": {},
     "output_type": "display_data"
    },
    {
     "name": "stdout",
     "output_type": "stream",
     "text": [
      "https://www.bitstamp.net/api/v2/ohlc/ethusd/?&currency_pair=ethusd&step=180&limit=1000&start=1580515200\n",
      "Downloaded from 2020-02-01 00:00:00 to 2020-02-03 01:57:00 193.14\n",
      "Resample 3Min - TecAn ( windows 5, windows_limit 100 )\n",
      "Processing 999 of ethusd\n"
     ]
    },
    {
     "data": {
      "application/vnd.jupyter.widget-view+json": {
       "model_id": "12306e038cc54d60a8a49ed9f58640b7",
       "version_major": 2,
       "version_minor": 0
      },
      "text/plain": [
       "  0%|          | 0/999 [00:00<?, ?it/s]"
      ]
     },
     "metadata": {},
     "output_type": "display_data"
    },
    {
     "name": "stdout",
     "output_type": "stream",
     "text": [
      "https://www.bitstamp.net/api/v2/ohlc/bchbtc/?&currency_pair=bchbtc&step=180&limit=1000&start=1580515200\n",
      "Downloaded from 2020-02-01 00:00:00 to 2020-02-03 01:57:00 0.04080053\n",
      "Resample 3Min - TecAn ( windows 5, windows_limit 100 )\n",
      "Processing 999 of bchbtc\n"
     ]
    },
    {
     "data": {
      "application/vnd.jupyter.widget-view+json": {
       "model_id": "35f8633c61a8490aae42e732e1644dc3",
       "version_major": 2,
       "version_minor": 0
      },
      "text/plain": [
       "  0%|          | 0/999 [00:00<?, ?it/s]"
      ]
     },
     "metadata": {},
     "output_type": "display_data"
    },
    {
     "name": "stdout",
     "output_type": "stream",
     "text": [
      "https://www.bitstamp.net/api/v2/ohlc/btcusd/?&currency_pair=btcusd&step=180&limit=1000&start=1612137600\n",
      "Downloaded from 2021-02-01 00:00:00 to 2021-02-03 01:57:00 35892.89\n",
      "Resample 3Min - TecAn ( windows 5, windows_limit 100 )\n",
      "Processing 999 of btcusd\n"
     ]
    },
    {
     "data": {
      "application/vnd.jupyter.widget-view+json": {
       "model_id": "45f36b69f9d74989a391f0b9a5d07d94",
       "version_major": 2,
       "version_minor": 0
      },
      "text/plain": [
       "  0%|          | 0/999 [00:00<?, ?it/s]"
      ]
     },
     "metadata": {},
     "output_type": "display_data"
    },
    {
     "name": "stdout",
     "output_type": "stream",
     "text": [
      "https://www.bitstamp.net/api/v2/ohlc/ethusd/?&currency_pair=ethusd&step=180&limit=1000&start=1612137600\n",
      "Downloaded from 2021-02-01 00:00:00 to 2021-02-03 01:57:00 1519.63\n",
      "Resample 3Min - TecAn ( windows 5, windows_limit 100 )\n",
      "Processing 999 of ethusd\n"
     ]
    },
    {
     "data": {
      "application/vnd.jupyter.widget-view+json": {
       "model_id": "fa588e2a483c4dccad633d5bbb795450",
       "version_major": 2,
       "version_minor": 0
      },
      "text/plain": [
       "  0%|          | 0/999 [00:00<?, ?it/s]"
      ]
     },
     "metadata": {},
     "output_type": "display_data"
    },
    {
     "name": "stdout",
     "output_type": "stream",
     "text": [
      "https://www.bitstamp.net/api/v2/ohlc/bchbtc/?&currency_pair=bchbtc&step=180&limit=1000&start=1612137600\n",
      "Downloaded from 2021-02-01 00:00:00 to 2021-02-03 01:57:00 0.01203272\n",
      "Resample 3Min - TecAn ( windows 5, windows_limit 100 )\n",
      "Processing 999 of bchbtc\n"
     ]
    },
    {
     "data": {
      "application/vnd.jupyter.widget-view+json": {
       "model_id": "a56ca73482684eddb1375f43074fb4b2",
       "version_major": 2,
       "version_minor": 0
      },
      "text/plain": [
       "  0%|          | 0/999 [00:00<?, ?it/s]"
      ]
     },
     "metadata": {},
     "output_type": "display_data"
    },
    {
     "name": "stdout",
     "output_type": "stream",
     "text": [
      "https://www.bitstamp.net/api/v2/ohlc/ltceur/?&currency_pair=ltceur&step=180&limit=1000&start=1623711600\n",
      "https://www.bitstamp.net/api/v2/ohlc/ltceur/?&currency_pair=ltceur&step=180&limit=1000&start=1623891420\n",
      "https://www.bitstamp.net/api/v2/ohlc/ltceur/?&currency_pair=ltceur&step=180&limit=1000&start=1624071240\n",
      "https://www.bitstamp.net/api/v2/ohlc/ltceur/?&currency_pair=ltceur&step=180&limit=1000&start=1624251060\n",
      "https://www.bitstamp.net/api/v2/ohlc/ltceur/?&currency_pair=ltceur&step=180&limit=1000&start=1624430880\n",
      "https://www.bitstamp.net/api/v2/ohlc/ltceur/?&currency_pair=ltceur&step=180&limit=1000&start=1624610700\n",
      "https://www.bitstamp.net/api/v2/ohlc/ltceur/?&currency_pair=ltceur&step=180&limit=1000&start=1624790520\n",
      "https://www.bitstamp.net/api/v2/ohlc/ltceur/?&currency_pair=ltceur&step=180&limit=1000&start=1624970340\n",
      "https://www.bitstamp.net/api/v2/ohlc/ltceur/?&currency_pair=ltceur&step=180&limit=1000&start=1625150160\n",
      "https://www.bitstamp.net/api/v2/ohlc/ltceur/?&currency_pair=ltceur&step=180&limit=1000&start=1625329980\n",
      "https://www.bitstamp.net/api/v2/ohlc/ltceur/?&currency_pair=ltceur&step=180&limit=1000&start=1625509800\n",
      "https://www.bitstamp.net/api/v2/ohlc/ltceur/?&currency_pair=ltceur&step=180&limit=1000&start=1625689620\n",
      "https://www.bitstamp.net/api/v2/ohlc/ltceur/?&currency_pair=ltceur&step=180&limit=1000&start=1625869440\n",
      "https://www.bitstamp.net/api/v2/ohlc/ltceur/?&currency_pair=ltceur&step=180&limit=1000&start=1626049260\n",
      "https://www.bitstamp.net/api/v2/ohlc/ltceur/?&currency_pair=ltceur&step=180&limit=1000&start=1626229080\n",
      "Downloaded from 2021-06-15 00:00:00 to 2021-07-15 00:03:00 111.00\n",
      "Resample 3Min - TecAn ( windows 5, windows_limit 100 )\n",
      "Processing 14415 of ltceur\n"
     ]
    },
    {
     "data": {
      "application/vnd.jupyter.widget-view+json": {
       "model_id": "10dc2e05b6184aab8e17bfb81c9057f7",
       "version_major": 2,
       "version_minor": 0
      },
      "text/plain": [
       "  0%|          | 0/14415 [00:00<?, ?it/s]"
      ]
     },
     "metadata": {},
     "output_type": "display_data"
    },
    {
     "name": "stdout",
     "output_type": "stream",
     "text": [
      "https://www.bitstamp.net/api/v2/ohlc/ltcusd/?&currency_pair=ltcusd&step=180&limit=1000&start=1623711600\n",
      "https://www.bitstamp.net/api/v2/ohlc/ltcusd/?&currency_pair=ltcusd&step=180&limit=1000&start=1623891420\n",
      "https://www.bitstamp.net/api/v2/ohlc/ltcusd/?&currency_pair=ltcusd&step=180&limit=1000&start=1624071240\n",
      "https://www.bitstamp.net/api/v2/ohlc/ltcusd/?&currency_pair=ltcusd&step=180&limit=1000&start=1624251060\n",
      "https://www.bitstamp.net/api/v2/ohlc/ltcusd/?&currency_pair=ltcusd&step=180&limit=1000&start=1624430880\n",
      "https://www.bitstamp.net/api/v2/ohlc/ltcusd/?&currency_pair=ltcusd&step=180&limit=1000&start=1624610700\n",
      "https://www.bitstamp.net/api/v2/ohlc/ltcusd/?&currency_pair=ltcusd&step=180&limit=1000&start=1624790520\n",
      "https://www.bitstamp.net/api/v2/ohlc/ltcusd/?&currency_pair=ltcusd&step=180&limit=1000&start=1624970340\n",
      "https://www.bitstamp.net/api/v2/ohlc/ltcusd/?&currency_pair=ltcusd&step=180&limit=1000&start=1625150160\n",
      "https://www.bitstamp.net/api/v2/ohlc/ltcusd/?&currency_pair=ltcusd&step=180&limit=1000&start=1625329980\n",
      "https://www.bitstamp.net/api/v2/ohlc/ltcusd/?&currency_pair=ltcusd&step=180&limit=1000&start=1625509800\n",
      "https://www.bitstamp.net/api/v2/ohlc/ltcusd/?&currency_pair=ltcusd&step=180&limit=1000&start=1625689620\n",
      "https://www.bitstamp.net/api/v2/ohlc/ltcusd/?&currency_pair=ltcusd&step=180&limit=1000&start=1625869440\n",
      "https://www.bitstamp.net/api/v2/ohlc/ltcusd/?&currency_pair=ltcusd&step=180&limit=1000&start=1626049260\n",
      "https://www.bitstamp.net/api/v2/ohlc/ltcusd/?&currency_pair=ltcusd&step=180&limit=1000&start=1626229080\n",
      "Downloaded from 2021-06-15 00:00:00 to 2021-07-15 00:03:00 131.22\n",
      "Resample 3Min - TecAn ( windows 5, windows_limit 100 )\n",
      "Processing 14415 of ltcusd\n"
     ]
    },
    {
     "data": {
      "application/vnd.jupyter.widget-view+json": {
       "model_id": "46e3f8094a4c46499b686bdae60b448e",
       "version_major": 2,
       "version_minor": 0
      },
      "text/plain": [
       "  0%|          | 0/14415 [00:00<?, ?it/s]"
      ]
     },
     "metadata": {},
     "output_type": "display_data"
    },
    {
     "name": "stdout",
     "output_type": "stream",
     "text": [
      "https://www.bitstamp.net/api/v2/ohlc/ethusd/?&currency_pair=ethusd&step=180&limit=1000&start=1623711600\n",
      "https://www.bitstamp.net/api/v2/ohlc/ethusd/?&currency_pair=ethusd&step=180&limit=1000&start=1623891420\n",
      "https://www.bitstamp.net/api/v2/ohlc/ethusd/?&currency_pair=ethusd&step=180&limit=1000&start=1624071240\n",
      "https://www.bitstamp.net/api/v2/ohlc/ethusd/?&currency_pair=ethusd&step=180&limit=1000&start=1624251060\n",
      "https://www.bitstamp.net/api/v2/ohlc/ethusd/?&currency_pair=ethusd&step=180&limit=1000&start=1624430880\n",
      "https://www.bitstamp.net/api/v2/ohlc/ethusd/?&currency_pair=ethusd&step=180&limit=1000&start=1624610700\n",
      "https://www.bitstamp.net/api/v2/ohlc/ethusd/?&currency_pair=ethusd&step=180&limit=1000&start=1624790520\n",
      "https://www.bitstamp.net/api/v2/ohlc/ethusd/?&currency_pair=ethusd&step=180&limit=1000&start=1624970340\n",
      "https://www.bitstamp.net/api/v2/ohlc/ethusd/?&currency_pair=ethusd&step=180&limit=1000&start=1625150160\n",
      "https://www.bitstamp.net/api/v2/ohlc/ethusd/?&currency_pair=ethusd&step=180&limit=1000&start=1625329980\n",
      "https://www.bitstamp.net/api/v2/ohlc/ethusd/?&currency_pair=ethusd&step=180&limit=1000&start=1625509800\n",
      "https://www.bitstamp.net/api/v2/ohlc/ethusd/?&currency_pair=ethusd&step=180&limit=1000&start=1625689620\n",
      "https://www.bitstamp.net/api/v2/ohlc/ethusd/?&currency_pair=ethusd&step=180&limit=1000&start=1625869440\n",
      "https://www.bitstamp.net/api/v2/ohlc/ethusd/?&currency_pair=ethusd&step=180&limit=1000&start=1626049260\n",
      "https://www.bitstamp.net/api/v2/ohlc/ethusd/?&currency_pair=ethusd&step=180&limit=1000&start=1626229080\n",
      "Downloaded from 2021-06-15 00:00:00 to 2021-07-15 00:03:00 2002.95\n",
      "Resample 3Min - TecAn ( windows 5, windows_limit 100 )\n",
      "Processing 14415 of ethusd\n"
     ]
    },
    {
     "data": {
      "application/vnd.jupyter.widget-view+json": {
       "model_id": "cbeb1b88c19343a2a9ed261a60293150",
       "version_major": 2,
       "version_minor": 0
      },
      "text/plain": [
       "  0%|          | 0/14415 [00:00<?, ?it/s]"
      ]
     },
     "metadata": {},
     "output_type": "display_data"
    },
    {
     "name": "stdout",
     "output_type": "stream",
     "text": [
      "https://www.bitstamp.net/api/v2/ohlc/btcusd/?&currency_pair=btcusd&step=180&limit=1000&start=1623711600\n",
      "https://www.bitstamp.net/api/v2/ohlc/btcusd/?&currency_pair=btcusd&step=180&limit=1000&start=1623891420\n",
      "https://www.bitstamp.net/api/v2/ohlc/btcusd/?&currency_pair=btcusd&step=180&limit=1000&start=1624071240\n",
      "https://www.bitstamp.net/api/v2/ohlc/btcusd/?&currency_pair=btcusd&step=180&limit=1000&start=1624251060\n",
      "https://www.bitstamp.net/api/v2/ohlc/btcusd/?&currency_pair=btcusd&step=180&limit=1000&start=1624430880\n",
      "https://www.bitstamp.net/api/v2/ohlc/btcusd/?&currency_pair=btcusd&step=180&limit=1000&start=1624610700\n",
      "https://www.bitstamp.net/api/v2/ohlc/btcusd/?&currency_pair=btcusd&step=180&limit=1000&start=1624790520\n",
      "https://www.bitstamp.net/api/v2/ohlc/btcusd/?&currency_pair=btcusd&step=180&limit=1000&start=1624970340\n",
      "https://www.bitstamp.net/api/v2/ohlc/btcusd/?&currency_pair=btcusd&step=180&limit=1000&start=1625150160\n",
      "https://www.bitstamp.net/api/v2/ohlc/btcusd/?&currency_pair=btcusd&step=180&limit=1000&start=1625329980\n",
      "https://www.bitstamp.net/api/v2/ohlc/btcusd/?&currency_pair=btcusd&step=180&limit=1000&start=1625509800\n",
      "https://www.bitstamp.net/api/v2/ohlc/btcusd/?&currency_pair=btcusd&step=180&limit=1000&start=1625689620\n",
      "https://www.bitstamp.net/api/v2/ohlc/btcusd/?&currency_pair=btcusd&step=180&limit=1000&start=1625869440\n",
      "https://www.bitstamp.net/api/v2/ohlc/btcusd/?&currency_pair=btcusd&step=180&limit=1000&start=1626049260\n",
      "https://www.bitstamp.net/api/v2/ohlc/btcusd/?&currency_pair=btcusd&step=180&limit=1000&start=1626229080\n",
      "Downloaded from 2021-06-15 00:00:00 to 2021-07-15 00:03:00 32951.92\n",
      "Resample 3Min - TecAn ( windows 5, windows_limit 100 )\n",
      "Processing 14415 of btcusd\n"
     ]
    },
    {
     "data": {
      "application/vnd.jupyter.widget-view+json": {
       "model_id": "02c76eb4650e43109c6d3ab13d4dbd0a",
       "version_major": 2,
       "version_minor": 0
      },
      "text/plain": [
       "  0%|          | 0/14415 [00:00<?, ?it/s]"
      ]
     },
     "metadata": {},
     "output_type": "display_data"
    },
    {
     "name": "stdout",
     "output_type": "stream",
     "text": [
      "https://www.bitstamp.net/api/v2/ohlc/btcusd/?&currency_pair=btcusd&step=180&limit=1000&start=1622502000\n",
      "Downloaded from 2021-06-01 00:00:00 to 2021-06-03 01:57:00 37436.78\n",
      "Resample 3Min - TecAn ( windows 10, windows_limit 100 )\n",
      "Processing 999 of btcusd\n"
     ]
    },
    {
     "data": {
      "application/vnd.jupyter.widget-view+json": {
       "model_id": "65ec7fd59eff4e97a4a95d9f241c2689",
       "version_major": 2,
       "version_minor": 0
      },
      "text/plain": [
       "  0%|          | 0/999 [00:00<?, ?it/s]"
      ]
     },
     "metadata": {},
     "output_type": "display_data"
    },
    {
     "name": "stdout",
     "output_type": "stream",
     "text": [
      "https://www.bitstamp.net/api/v2/ohlc/ethusd/?&currency_pair=ethusd&step=180&limit=1000&start=1622502000\n",
      "Downloaded from 2021-06-01 00:00:00 to 2021-06-03 01:57:00 2702.14\n",
      "Resample 3Min - TecAn ( windows 10, windows_limit 100 )\n",
      "Processing 999 of ethusd\n"
     ]
    },
    {
     "data": {
      "application/vnd.jupyter.widget-view+json": {
       "model_id": "baa366763754434a870912c9ed7eda61",
       "version_major": 2,
       "version_minor": 0
      },
      "text/plain": [
       "  0%|          | 0/999 [00:00<?, ?it/s]"
      ]
     },
     "metadata": {},
     "output_type": "display_data"
    },
    {
     "name": "stdout",
     "output_type": "stream",
     "text": [
      "https://www.bitstamp.net/api/v2/ohlc/bchbtc/?&currency_pair=bchbtc&step=180&limit=1000&start=1622502000\n",
      "Downloaded from 2021-06-01 00:00:00 to 2021-06-03 01:57:00 0.01859323\n",
      "Resample 3Min - TecAn ( windows 10, windows_limit 100 )\n",
      "Processing 999 of bchbtc\n"
     ]
    },
    {
     "data": {
      "application/vnd.jupyter.widget-view+json": {
       "model_id": "29f44541b92b41cdbdced175f4630469",
       "version_major": 2,
       "version_minor": 0
      },
      "text/plain": [
       "  0%|          | 0/999 [00:00<?, ?it/s]"
      ]
     },
     "metadata": {},
     "output_type": "display_data"
    },
    {
     "name": "stdout",
     "output_type": "stream",
     "text": [
      "https://www.bitstamp.net/api/v2/ohlc/btcusd/?&currency_pair=btcusd&step=180&limit=1000&start=1590966000\n",
      "Downloaded from 2020-06-01 00:00:00 to 2020-06-03 01:57:00 9525.82\n",
      "Resample 3Min - TecAn ( windows 10, windows_limit 100 )\n",
      "Processing 999 of btcusd\n"
     ]
    },
    {
     "data": {
      "application/vnd.jupyter.widget-view+json": {
       "model_id": "2b8794a85d754d59ba269c66479c2479",
       "version_major": 2,
       "version_minor": 0
      },
      "text/plain": [
       "  0%|          | 0/999 [00:00<?, ?it/s]"
      ]
     },
     "metadata": {},
     "output_type": "display_data"
    },
    {
     "name": "stdout",
     "output_type": "stream",
     "text": [
      "https://www.bitstamp.net/api/v2/ohlc/ethusd/?&currency_pair=ethusd&step=180&limit=1000&start=1590966000\n",
      "Downloaded from 2020-06-01 00:00:00 to 2020-06-03 01:57:00 237.99\n",
      "Resample 3Min - TecAn ( windows 10, windows_limit 100 )\n",
      "Processing 999 of ethusd\n"
     ]
    },
    {
     "data": {
      "application/vnd.jupyter.widget-view+json": {
       "model_id": "5a9437cb42c24b19bc4c9aed8e219f72",
       "version_major": 2,
       "version_minor": 0
      },
      "text/plain": [
       "  0%|          | 0/999 [00:00<?, ?it/s]"
      ]
     },
     "metadata": {},
     "output_type": "display_data"
    },
    {
     "name": "stdout",
     "output_type": "stream",
     "text": [
      "https://www.bitstamp.net/api/v2/ohlc/bchbtc/?&currency_pair=bchbtc&step=180&limit=1000&start=1590966000\n",
      "Downloaded from 2020-06-01 00:00:00 to 2020-06-03 01:57:00 0.02627124\n",
      "Resample 3Min - TecAn ( windows 10, windows_limit 100 )\n",
      "Processing 999 of bchbtc\n"
     ]
    },
    {
     "data": {
      "application/vnd.jupyter.widget-view+json": {
       "model_id": "0778d1e651e8464f979ee90e227a59dc",
       "version_major": 2,
       "version_minor": 0
      },
      "text/plain": [
       "  0%|          | 0/999 [00:00<?, ?it/s]"
      ]
     },
     "metadata": {},
     "output_type": "display_data"
    },
    {
     "name": "stdout",
     "output_type": "stream",
     "text": [
      "https://www.bitstamp.net/api/v2/ohlc/btcusd/?&currency_pair=btcusd&step=180&limit=1000&start=1559343600\n",
      "Downloaded from 2019-06-01 00:00:00 to 2019-06-03 01:57:00 8681.59\n",
      "Resample 3Min - TecAn ( windows 10, windows_limit 100 )\n",
      "Processing 999 of btcusd\n"
     ]
    },
    {
     "data": {
      "application/vnd.jupyter.widget-view+json": {
       "model_id": "af4bb4ea4403456492d5d4066bf2dd1d",
       "version_major": 2,
       "version_minor": 0
      },
      "text/plain": [
       "  0%|          | 0/999 [00:00<?, ?it/s]"
      ]
     },
     "metadata": {},
     "output_type": "display_data"
    },
    {
     "name": "stdout",
     "output_type": "stream",
     "text": [
      "https://www.bitstamp.net/api/v2/ohlc/ethusd/?&currency_pair=ethusd&step=180&limit=1000&start=1559343600\n",
      "Downloaded from 2019-06-01 00:00:00 to 2019-06-03 01:57:00 266.63\n",
      "Resample 3Min - TecAn ( windows 10, windows_limit 100 )\n",
      "Processing 999 of ethusd\n"
     ]
    },
    {
     "data": {
      "application/vnd.jupyter.widget-view+json": {
       "model_id": "1c7f0ccefb3244a7ae75d94a4dfb830a",
       "version_major": 2,
       "version_minor": 0
      },
      "text/plain": [
       "  0%|          | 0/999 [00:00<?, ?it/s]"
      ]
     },
     "metadata": {},
     "output_type": "display_data"
    },
    {
     "name": "stdout",
     "output_type": "stream",
     "text": [
      "https://www.bitstamp.net/api/v2/ohlc/bchbtc/?&currency_pair=bchbtc&step=180&limit=1000&start=1559343600\n",
      "Downloaded from 2019-06-01 00:00:00 to 2019-06-03 01:57:00 0.05103076\n",
      "Resample 3Min - TecAn ( windows 10, windows_limit 100 )\n",
      "Processing 999 of bchbtc\n"
     ]
    },
    {
     "data": {
      "application/vnd.jupyter.widget-view+json": {
       "model_id": "f1866c43972e4c93afea0de33841e093",
       "version_major": 2,
       "version_minor": 0
      },
      "text/plain": [
       "  0%|          | 0/999 [00:00<?, ?it/s]"
      ]
     },
     "metadata": {},
     "output_type": "display_data"
    },
    {
     "name": "stdout",
     "output_type": "stream",
     "text": [
      "https://www.bitstamp.net/api/v2/ohlc/btcusd/?&currency_pair=btcusd&step=180&limit=1000&start=1527807600\n",
      "Downloaded from 2018-06-01 00:00:00 to 2018-06-03 01:57:00 7653.99\n",
      "Resample 3Min - TecAn ( windows 10, windows_limit 100 )\n",
      "Processing 999 of btcusd\n"
     ]
    },
    {
     "data": {
      "application/vnd.jupyter.widget-view+json": {
       "model_id": "c9ab7c51c2fe4abebbe017efd7c91965",
       "version_major": 2,
       "version_minor": 0
      },
      "text/plain": [
       "  0%|          | 0/999 [00:00<?, ?it/s]"
      ]
     },
     "metadata": {},
     "output_type": "display_data"
    },
    {
     "name": "stdout",
     "output_type": "stream",
     "text": [
      "https://www.bitstamp.net/api/v2/ohlc/ethusd/?&currency_pair=ethusd&step=180&limit=1000&start=1527807600\n",
      "Downloaded from 2018-06-01 00:00:00 to 2018-06-03 01:57:00 592.70\n",
      "Resample 3Min - TecAn ( windows 10, windows_limit 100 )\n",
      "Processing 999 of ethusd\n"
     ]
    },
    {
     "data": {
      "application/vnd.jupyter.widget-view+json": {
       "model_id": "cfa0fe7f64b048dd889ba2cf77f6c7b9",
       "version_major": 2,
       "version_minor": 0
      },
      "text/plain": [
       "  0%|          | 0/999 [00:00<?, ?it/s]"
      ]
     },
     "metadata": {},
     "output_type": "display_data"
    },
    {
     "name": "stdout",
     "output_type": "stream",
     "text": [
      "https://www.bitstamp.net/api/v2/ohlc/bchbtc/?&currency_pair=bchbtc&step=180&limit=1000&start=1527807600\n",
      "Downloaded from 2018-06-01 00:00:00 to 2018-06-03 01:57:00 0.14340000\n",
      "Resample 3Min - TecAn ( windows 10, windows_limit 100 )\n",
      "Processing 999 of bchbtc\n"
     ]
    },
    {
     "data": {
      "application/vnd.jupyter.widget-view+json": {
       "model_id": "bb2a50b1a9ab489dabaebea91c5d316e",
       "version_major": 2,
       "version_minor": 0
      },
      "text/plain": [
       "  0%|          | 0/999 [00:00<?, ?it/s]"
      ]
     },
     "metadata": {},
     "output_type": "display_data"
    },
    {
     "name": "stdout",
     "output_type": "stream",
     "text": [
      "https://www.bitstamp.net/api/v2/ohlc/btcusd/?&currency_pair=btcusd&step=180&limit=1000&start=1517443200\n",
      "Downloaded from 2018-02-01 00:00:00 to 2018-02-03 01:57:00 8563.00\n",
      "Resample 3Min - TecAn ( windows 10, windows_limit 100 )\n",
      "Processing 999 of btcusd\n"
     ]
    },
    {
     "data": {
      "application/vnd.jupyter.widget-view+json": {
       "model_id": "2992cc0439e647979fd1951a5787f051",
       "version_major": 2,
       "version_minor": 0
      },
      "text/plain": [
       "  0%|          | 0/999 [00:00<?, ?it/s]"
      ]
     },
     "metadata": {},
     "output_type": "display_data"
    },
    {
     "name": "stdout",
     "output_type": "stream",
     "text": [
      "https://www.bitstamp.net/api/v2/ohlc/ethusd/?&currency_pair=ethusd&step=180&limit=1000&start=1517443200\n",
      "Downloaded from 2018-02-01 00:00:00 to 2018-02-03 01:57:00 894.06\n",
      "Resample 3Min - TecAn ( windows 10, windows_limit 100 )\n",
      "Processing 999 of ethusd\n"
     ]
    },
    {
     "data": {
      "application/vnd.jupyter.widget-view+json": {
       "model_id": "797a376b74e947adb1d834593cc7d41a",
       "version_major": 2,
       "version_minor": 0
      },
      "text/plain": [
       "  0%|          | 0/999 [00:00<?, ?it/s]"
      ]
     },
     "metadata": {},
     "output_type": "display_data"
    },
    {
     "name": "stdout",
     "output_type": "stream",
     "text": [
      "https://www.bitstamp.net/api/v2/ohlc/bchbtc/?&currency_pair=bchbtc&step=180&limit=1000&start=1517443200\n",
      "Downloaded from 2018-02-01 00:00:00 to 2018-02-03 01:57:00 0.13474768\n",
      "Resample 3Min - TecAn ( windows 10, windows_limit 100 )\n",
      "Processing 999 of bchbtc\n"
     ]
    },
    {
     "data": {
      "application/vnd.jupyter.widget-view+json": {
       "model_id": "d8879606330e4a77bb8c50772def645e",
       "version_major": 2,
       "version_minor": 0
      },
      "text/plain": [
       "  0%|          | 0/999 [00:00<?, ?it/s]"
      ]
     },
     "metadata": {},
     "output_type": "display_data"
    },
    {
     "name": "stdout",
     "output_type": "stream",
     "text": [
      "https://www.bitstamp.net/api/v2/ohlc/btcusd/?&currency_pair=btcusd&step=180&limit=1000&start=1548979200\n",
      "Downloaded from 2019-02-01 00:00:00 to 2019-02-03 01:57:00 3448.32\n",
      "Resample 3Min - TecAn ( windows 10, windows_limit 100 )\n",
      "Processing 999 of btcusd\n"
     ]
    },
    {
     "data": {
      "application/vnd.jupyter.widget-view+json": {
       "model_id": "4aad1af3a2c54b20b5bbdbee84bfc518",
       "version_major": 2,
       "version_minor": 0
      },
      "text/plain": [
       "  0%|          | 0/999 [00:00<?, ?it/s]"
      ]
     },
     "metadata": {},
     "output_type": "display_data"
    },
    {
     "name": "stdout",
     "output_type": "stream",
     "text": [
      "https://www.bitstamp.net/api/v2/ohlc/ethusd/?&currency_pair=ethusd&step=180&limit=1000&start=1548979200\n",
      "Downloaded from 2019-02-01 00:00:00 to 2019-02-03 01:57:00 108.63\n",
      "Resample 3Min - TecAn ( windows 10, windows_limit 100 )\n",
      "Processing 999 of ethusd\n"
     ]
    },
    {
     "data": {
      "application/vnd.jupyter.widget-view+json": {
       "model_id": "595db827896e4c4aa69a9dc54084a016",
       "version_major": 2,
       "version_minor": 0
      },
      "text/plain": [
       "  0%|          | 0/999 [00:00<?, ?it/s]"
      ]
     },
     "metadata": {},
     "output_type": "display_data"
    },
    {
     "name": "stdout",
     "output_type": "stream",
     "text": [
      "https://www.bitstamp.net/api/v2/ohlc/bchbtc/?&currency_pair=bchbtc&step=180&limit=1000&start=1548979200\n",
      "Downloaded from 2019-02-01 00:00:00 to 2019-02-03 01:57:00 0.03446717\n",
      "Resample 3Min - TecAn ( windows 10, windows_limit 100 )\n",
      "Processing 999 of bchbtc\n"
     ]
    },
    {
     "data": {
      "application/vnd.jupyter.widget-view+json": {
       "model_id": "116370b69fed48a4aaf0f89f31da5ded",
       "version_major": 2,
       "version_minor": 0
      },
      "text/plain": [
       "  0%|          | 0/999 [00:00<?, ?it/s]"
      ]
     },
     "metadata": {},
     "output_type": "display_data"
    },
    {
     "name": "stdout",
     "output_type": "stream",
     "text": [
      "https://www.bitstamp.net/api/v2/ohlc/btcusd/?&currency_pair=btcusd&step=180&limit=1000&start=1580515200\n",
      "Downloaded from 2020-02-01 00:00:00 to 2020-02-03 01:57:00 9540.01\n",
      "Resample 3Min - TecAn ( windows 10, windows_limit 100 )\n",
      "Processing 999 of btcusd\n"
     ]
    },
    {
     "data": {
      "application/vnd.jupyter.widget-view+json": {
       "model_id": "c0e2bc2935b7487e9ea94d61b5b2df6a",
       "version_major": 2,
       "version_minor": 0
      },
      "text/plain": [
       "  0%|          | 0/999 [00:00<?, ?it/s]"
      ]
     },
     "metadata": {},
     "output_type": "display_data"
    },
    {
     "name": "stdout",
     "output_type": "stream",
     "text": [
      "https://www.bitstamp.net/api/v2/ohlc/ethusd/?&currency_pair=ethusd&step=180&limit=1000&start=1580515200\n",
      "Downloaded from 2020-02-01 00:00:00 to 2020-02-03 01:57:00 193.14\n",
      "Resample 3Min - TecAn ( windows 10, windows_limit 100 )\n",
      "Processing 999 of ethusd\n"
     ]
    },
    {
     "data": {
      "application/vnd.jupyter.widget-view+json": {
       "model_id": "928ef4cfb5fa4c32838a0aba564518be",
       "version_major": 2,
       "version_minor": 0
      },
      "text/plain": [
       "  0%|          | 0/999 [00:00<?, ?it/s]"
      ]
     },
     "metadata": {},
     "output_type": "display_data"
    },
    {
     "name": "stdout",
     "output_type": "stream",
     "text": [
      "https://www.bitstamp.net/api/v2/ohlc/bchbtc/?&currency_pair=bchbtc&step=180&limit=1000&start=1580515200\n",
      "Downloaded from 2020-02-01 00:00:00 to 2020-02-03 01:57:00 0.04080053\n",
      "Resample 3Min - TecAn ( windows 10, windows_limit 100 )\n",
      "Processing 999 of bchbtc\n"
     ]
    },
    {
     "data": {
      "application/vnd.jupyter.widget-view+json": {
       "model_id": "909fa572bffa42f99fa763492b7d9b3d",
       "version_major": 2,
       "version_minor": 0
      },
      "text/plain": [
       "  0%|          | 0/999 [00:00<?, ?it/s]"
      ]
     },
     "metadata": {},
     "output_type": "display_data"
    },
    {
     "name": "stdout",
     "output_type": "stream",
     "text": [
      "https://www.bitstamp.net/api/v2/ohlc/btcusd/?&currency_pair=btcusd&step=180&limit=1000&start=1612137600\n",
      "Downloaded from 2021-02-01 00:00:00 to 2021-02-03 01:57:00 35892.89\n",
      "Resample 3Min - TecAn ( windows 10, windows_limit 100 )\n",
      "Processing 999 of btcusd\n"
     ]
    },
    {
     "data": {
      "application/vnd.jupyter.widget-view+json": {
       "model_id": "70f6a622d3874f4699ea0d624f8d458d",
       "version_major": 2,
       "version_minor": 0
      },
      "text/plain": [
       "  0%|          | 0/999 [00:00<?, ?it/s]"
      ]
     },
     "metadata": {},
     "output_type": "display_data"
    },
    {
     "name": "stdout",
     "output_type": "stream",
     "text": [
      "https://www.bitstamp.net/api/v2/ohlc/ethusd/?&currency_pair=ethusd&step=180&limit=1000&start=1612137600\n",
      "Downloaded from 2021-02-01 00:00:00 to 2021-02-03 01:57:00 1519.63\n",
      "Resample 3Min - TecAn ( windows 10, windows_limit 100 )\n",
      "Processing 999 of ethusd\n"
     ]
    },
    {
     "data": {
      "application/vnd.jupyter.widget-view+json": {
       "model_id": "553ac13fa0074dbba794e4f29e311be5",
       "version_major": 2,
       "version_minor": 0
      },
      "text/plain": [
       "  0%|          | 0/999 [00:00<?, ?it/s]"
      ]
     },
     "metadata": {},
     "output_type": "display_data"
    },
    {
     "name": "stdout",
     "output_type": "stream",
     "text": [
      "https://www.bitstamp.net/api/v2/ohlc/bchbtc/?&currency_pair=bchbtc&step=180&limit=1000&start=1612137600\n",
      "Downloaded from 2021-02-01 00:00:00 to 2021-02-03 01:57:00 0.01203272\n",
      "Resample 3Min - TecAn ( windows 10, windows_limit 100 )\n",
      "Processing 999 of bchbtc\n"
     ]
    },
    {
     "data": {
      "application/vnd.jupyter.widget-view+json": {
       "model_id": "0ace5b15c4f1481aa34fdb8e9ad0dd2d",
       "version_major": 2,
       "version_minor": 0
      },
      "text/plain": [
       "  0%|          | 0/999 [00:00<?, ?it/s]"
      ]
     },
     "metadata": {},
     "output_type": "display_data"
    },
    {
     "name": "stdout",
     "output_type": "stream",
     "text": [
      "https://www.bitstamp.net/api/v2/ohlc/ltceur/?&currency_pair=ltceur&step=180&limit=1000&start=1623711600\n",
      "https://www.bitstamp.net/api/v2/ohlc/ltceur/?&currency_pair=ltceur&step=180&limit=1000&start=1623891420\n",
      "https://www.bitstamp.net/api/v2/ohlc/ltceur/?&currency_pair=ltceur&step=180&limit=1000&start=1624071240\n",
      "https://www.bitstamp.net/api/v2/ohlc/ltceur/?&currency_pair=ltceur&step=180&limit=1000&start=1624251060\n",
      "https://www.bitstamp.net/api/v2/ohlc/ltceur/?&currency_pair=ltceur&step=180&limit=1000&start=1624430880\n",
      "https://www.bitstamp.net/api/v2/ohlc/ltceur/?&currency_pair=ltceur&step=180&limit=1000&start=1624610700\n",
      "https://www.bitstamp.net/api/v2/ohlc/ltceur/?&currency_pair=ltceur&step=180&limit=1000&start=1624790520\n",
      "https://www.bitstamp.net/api/v2/ohlc/ltceur/?&currency_pair=ltceur&step=180&limit=1000&start=1624970340\n",
      "https://www.bitstamp.net/api/v2/ohlc/ltceur/?&currency_pair=ltceur&step=180&limit=1000&start=1625150160\n",
      "https://www.bitstamp.net/api/v2/ohlc/ltceur/?&currency_pair=ltceur&step=180&limit=1000&start=1625329980\n",
      "https://www.bitstamp.net/api/v2/ohlc/ltceur/?&currency_pair=ltceur&step=180&limit=1000&start=1625509800\n",
      "https://www.bitstamp.net/api/v2/ohlc/ltceur/?&currency_pair=ltceur&step=180&limit=1000&start=1625689620\n",
      "https://www.bitstamp.net/api/v2/ohlc/ltceur/?&currency_pair=ltceur&step=180&limit=1000&start=1625869440\n",
      "https://www.bitstamp.net/api/v2/ohlc/ltceur/?&currency_pair=ltceur&step=180&limit=1000&start=1626049260\n",
      "https://www.bitstamp.net/api/v2/ohlc/ltceur/?&currency_pair=ltceur&step=180&limit=1000&start=1626229080\n",
      "Downloaded from 2021-06-15 00:00:00 to 2021-07-15 00:03:00 111.00\n",
      "Resample 3Min - TecAn ( windows 10, windows_limit 100 )\n",
      "Processing 14415 of ltceur\n"
     ]
    },
    {
     "data": {
      "application/vnd.jupyter.widget-view+json": {
       "model_id": "a1530d2fa52644188c5347b8f4f18540",
       "version_major": 2,
       "version_minor": 0
      },
      "text/plain": [
       "  0%|          | 0/14415 [00:00<?, ?it/s]"
      ]
     },
     "metadata": {},
     "output_type": "display_data"
    },
    {
     "name": "stdout",
     "output_type": "stream",
     "text": [
      "https://www.bitstamp.net/api/v2/ohlc/ltcusd/?&currency_pair=ltcusd&step=180&limit=1000&start=1623711600\n",
      "https://www.bitstamp.net/api/v2/ohlc/ltcusd/?&currency_pair=ltcusd&step=180&limit=1000&start=1623891420\n",
      "https://www.bitstamp.net/api/v2/ohlc/ltcusd/?&currency_pair=ltcusd&step=180&limit=1000&start=1624071240\n",
      "https://www.bitstamp.net/api/v2/ohlc/ltcusd/?&currency_pair=ltcusd&step=180&limit=1000&start=1624251060\n",
      "https://www.bitstamp.net/api/v2/ohlc/ltcusd/?&currency_pair=ltcusd&step=180&limit=1000&start=1624430880\n",
      "https://www.bitstamp.net/api/v2/ohlc/ltcusd/?&currency_pair=ltcusd&step=180&limit=1000&start=1624610700\n",
      "https://www.bitstamp.net/api/v2/ohlc/ltcusd/?&currency_pair=ltcusd&step=180&limit=1000&start=1624790520\n",
      "https://www.bitstamp.net/api/v2/ohlc/ltcusd/?&currency_pair=ltcusd&step=180&limit=1000&start=1624970340\n",
      "https://www.bitstamp.net/api/v2/ohlc/ltcusd/?&currency_pair=ltcusd&step=180&limit=1000&start=1625150160\n",
      "https://www.bitstamp.net/api/v2/ohlc/ltcusd/?&currency_pair=ltcusd&step=180&limit=1000&start=1625329980\n",
      "https://www.bitstamp.net/api/v2/ohlc/ltcusd/?&currency_pair=ltcusd&step=180&limit=1000&start=1625509800\n",
      "https://www.bitstamp.net/api/v2/ohlc/ltcusd/?&currency_pair=ltcusd&step=180&limit=1000&start=1625689620\n",
      "https://www.bitstamp.net/api/v2/ohlc/ltcusd/?&currency_pair=ltcusd&step=180&limit=1000&start=1625869440\n",
      "https://www.bitstamp.net/api/v2/ohlc/ltcusd/?&currency_pair=ltcusd&step=180&limit=1000&start=1626049260\n",
      "https://www.bitstamp.net/api/v2/ohlc/ltcusd/?&currency_pair=ltcusd&step=180&limit=1000&start=1626229080\n",
      "Downloaded from 2021-06-15 00:00:00 to 2021-07-15 00:03:00 131.22\n",
      "Resample 3Min - TecAn ( windows 10, windows_limit 100 )\n",
      "Processing 14415 of ltcusd\n"
     ]
    },
    {
     "data": {
      "application/vnd.jupyter.widget-view+json": {
       "model_id": "ede782adc6b849f490b582451762079d",
       "version_major": 2,
       "version_minor": 0
      },
      "text/plain": [
       "  0%|          | 0/14415 [00:00<?, ?it/s]"
      ]
     },
     "metadata": {},
     "output_type": "display_data"
    },
    {
     "name": "stdout",
     "output_type": "stream",
     "text": [
      "https://www.bitstamp.net/api/v2/ohlc/ethusd/?&currency_pair=ethusd&step=180&limit=1000&start=1623711600\n",
      "https://www.bitstamp.net/api/v2/ohlc/ethusd/?&currency_pair=ethusd&step=180&limit=1000&start=1623891420\n",
      "https://www.bitstamp.net/api/v2/ohlc/ethusd/?&currency_pair=ethusd&step=180&limit=1000&start=1624071240\n",
      "https://www.bitstamp.net/api/v2/ohlc/ethusd/?&currency_pair=ethusd&step=180&limit=1000&start=1624251060\n",
      "https://www.bitstamp.net/api/v2/ohlc/ethusd/?&currency_pair=ethusd&step=180&limit=1000&start=1624430880\n",
      "https://www.bitstamp.net/api/v2/ohlc/ethusd/?&currency_pair=ethusd&step=180&limit=1000&start=1624610700\n",
      "https://www.bitstamp.net/api/v2/ohlc/ethusd/?&currency_pair=ethusd&step=180&limit=1000&start=1624790520\n",
      "https://www.bitstamp.net/api/v2/ohlc/ethusd/?&currency_pair=ethusd&step=180&limit=1000&start=1624970340\n",
      "https://www.bitstamp.net/api/v2/ohlc/ethusd/?&currency_pair=ethusd&step=180&limit=1000&start=1625150160\n",
      "https://www.bitstamp.net/api/v2/ohlc/ethusd/?&currency_pair=ethusd&step=180&limit=1000&start=1625329980\n",
      "https://www.bitstamp.net/api/v2/ohlc/ethusd/?&currency_pair=ethusd&step=180&limit=1000&start=1625509800\n",
      "https://www.bitstamp.net/api/v2/ohlc/ethusd/?&currency_pair=ethusd&step=180&limit=1000&start=1625689620\n",
      "https://www.bitstamp.net/api/v2/ohlc/ethusd/?&currency_pair=ethusd&step=180&limit=1000&start=1625869440\n",
      "https://www.bitstamp.net/api/v2/ohlc/ethusd/?&currency_pair=ethusd&step=180&limit=1000&start=1626049260\n",
      "https://www.bitstamp.net/api/v2/ohlc/ethusd/?&currency_pair=ethusd&step=180&limit=1000&start=1626229080\n",
      "Downloaded from 2021-06-15 00:00:00 to 2021-07-15 00:03:00 2002.95\n",
      "Resample 3Min - TecAn ( windows 10, windows_limit 100 )\n",
      "Processing 14415 of ethusd\n"
     ]
    },
    {
     "data": {
      "application/vnd.jupyter.widget-view+json": {
       "model_id": "eab80e5838804742b930558c8d013629",
       "version_major": 2,
       "version_minor": 0
      },
      "text/plain": [
       "  0%|          | 0/14415 [00:00<?, ?it/s]"
      ]
     },
     "metadata": {},
     "output_type": "display_data"
    },
    {
     "name": "stdout",
     "output_type": "stream",
     "text": [
      "https://www.bitstamp.net/api/v2/ohlc/btcusd/?&currency_pair=btcusd&step=180&limit=1000&start=1623711600\n",
      "https://www.bitstamp.net/api/v2/ohlc/btcusd/?&currency_pair=btcusd&step=180&limit=1000&start=1623891420\n",
      "https://www.bitstamp.net/api/v2/ohlc/btcusd/?&currency_pair=btcusd&step=180&limit=1000&start=1624071240\n",
      "https://www.bitstamp.net/api/v2/ohlc/btcusd/?&currency_pair=btcusd&step=180&limit=1000&start=1624251060\n",
      "https://www.bitstamp.net/api/v2/ohlc/btcusd/?&currency_pair=btcusd&step=180&limit=1000&start=1624430880\n",
      "https://www.bitstamp.net/api/v2/ohlc/btcusd/?&currency_pair=btcusd&step=180&limit=1000&start=1624610700\n",
      "https://www.bitstamp.net/api/v2/ohlc/btcusd/?&currency_pair=btcusd&step=180&limit=1000&start=1624790520\n",
      "https://www.bitstamp.net/api/v2/ohlc/btcusd/?&currency_pair=btcusd&step=180&limit=1000&start=1624970340\n",
      "https://www.bitstamp.net/api/v2/ohlc/btcusd/?&currency_pair=btcusd&step=180&limit=1000&start=1625150160\n",
      "https://www.bitstamp.net/api/v2/ohlc/btcusd/?&currency_pair=btcusd&step=180&limit=1000&start=1625329980\n",
      "https://www.bitstamp.net/api/v2/ohlc/btcusd/?&currency_pair=btcusd&step=180&limit=1000&start=1625509800\n",
      "https://www.bitstamp.net/api/v2/ohlc/btcusd/?&currency_pair=btcusd&step=180&limit=1000&start=1625689620\n",
      "https://www.bitstamp.net/api/v2/ohlc/btcusd/?&currency_pair=btcusd&step=180&limit=1000&start=1625869440\n",
      "https://www.bitstamp.net/api/v2/ohlc/btcusd/?&currency_pair=btcusd&step=180&limit=1000&start=1626049260\n",
      "https://www.bitstamp.net/api/v2/ohlc/btcusd/?&currency_pair=btcusd&step=180&limit=1000&start=1626229080\n",
      "Downloaded from 2021-06-15 00:00:00 to 2021-07-15 00:03:00 32951.92\n",
      "Resample 3Min - TecAn ( windows 10, windows_limit 100 )\n",
      "Processing 14415 of btcusd\n"
     ]
    },
    {
     "data": {
      "application/vnd.jupyter.widget-view+json": {
       "model_id": "d1179daef1754e3bb98c138a417503ff",
       "version_major": 2,
       "version_minor": 0
      },
      "text/plain": [
       "  0%|          | 0/14415 [00:00<?, ?it/s]"
      ]
     },
     "metadata": {},
     "output_type": "display_data"
    },
    {
     "name": "stdout",
     "output_type": "stream",
     "text": [
      "https://www.bitstamp.net/api/v2/ohlc/btcusd/?&currency_pair=btcusd&step=180&limit=1000&start=1622502000\n",
      "Downloaded from 2021-06-01 00:00:00 to 2021-06-03 01:57:00 37436.78\n",
      "Resample 3Min - TecAn ( windows 20, windows_limit 100 )\n",
      "Processing 999 of btcusd\n"
     ]
    },
    {
     "data": {
      "application/vnd.jupyter.widget-view+json": {
       "model_id": "35b1f33df36a498dac66301890cc7ea8",
       "version_major": 2,
       "version_minor": 0
      },
      "text/plain": [
       "  0%|          | 0/999 [00:00<?, ?it/s]"
      ]
     },
     "metadata": {},
     "output_type": "display_data"
    },
    {
     "name": "stdout",
     "output_type": "stream",
     "text": [
      "https://www.bitstamp.net/api/v2/ohlc/ethusd/?&currency_pair=ethusd&step=180&limit=1000&start=1622502000\n",
      "Downloaded from 2021-06-01 00:00:00 to 2021-06-03 01:57:00 2702.14\n",
      "Resample 3Min - TecAn ( windows 20, windows_limit 100 )\n",
      "Processing 999 of ethusd\n"
     ]
    },
    {
     "data": {
      "application/vnd.jupyter.widget-view+json": {
       "model_id": "9670f88cdf5146e793ed6f4e5c63b7e3",
       "version_major": 2,
       "version_minor": 0
      },
      "text/plain": [
       "  0%|          | 0/999 [00:00<?, ?it/s]"
      ]
     },
     "metadata": {},
     "output_type": "display_data"
    },
    {
     "name": "stdout",
     "output_type": "stream",
     "text": [
      "https://www.bitstamp.net/api/v2/ohlc/bchbtc/?&currency_pair=bchbtc&step=180&limit=1000&start=1622502000\n",
      "Downloaded from 2021-06-01 00:00:00 to 2021-06-03 01:57:00 0.01859323\n",
      "Resample 3Min - TecAn ( windows 20, windows_limit 100 )\n",
      "Processing 999 of bchbtc\n"
     ]
    },
    {
     "data": {
      "application/vnd.jupyter.widget-view+json": {
       "model_id": "b41371e9217249a08bee0df32303e613",
       "version_major": 2,
       "version_minor": 0
      },
      "text/plain": [
       "  0%|          | 0/999 [00:00<?, ?it/s]"
      ]
     },
     "metadata": {},
     "output_type": "display_data"
    },
    {
     "name": "stdout",
     "output_type": "stream",
     "text": [
      "https://www.bitstamp.net/api/v2/ohlc/btcusd/?&currency_pair=btcusd&step=180&limit=1000&start=1590966000\n",
      "Downloaded from 2020-06-01 00:00:00 to 2020-06-03 01:57:00 9525.82\n",
      "Resample 3Min - TecAn ( windows 20, windows_limit 100 )\n",
      "Processing 999 of btcusd\n"
     ]
    },
    {
     "data": {
      "application/vnd.jupyter.widget-view+json": {
       "model_id": "bff975be54a0410d88fab6e78456479f",
       "version_major": 2,
       "version_minor": 0
      },
      "text/plain": [
       "  0%|          | 0/999 [00:00<?, ?it/s]"
      ]
     },
     "metadata": {},
     "output_type": "display_data"
    },
    {
     "name": "stdout",
     "output_type": "stream",
     "text": [
      "https://www.bitstamp.net/api/v2/ohlc/ethusd/?&currency_pair=ethusd&step=180&limit=1000&start=1590966000\n",
      "Downloaded from 2020-06-01 00:00:00 to 2020-06-03 01:57:00 237.99\n",
      "Resample 3Min - TecAn ( windows 20, windows_limit 100 )\n",
      "Processing 999 of ethusd\n"
     ]
    },
    {
     "data": {
      "application/vnd.jupyter.widget-view+json": {
       "model_id": "4ca92f8dcfca4f059cb8c99f455f21be",
       "version_major": 2,
       "version_minor": 0
      },
      "text/plain": [
       "  0%|          | 0/999 [00:00<?, ?it/s]"
      ]
     },
     "metadata": {},
     "output_type": "display_data"
    },
    {
     "name": "stdout",
     "output_type": "stream",
     "text": [
      "https://www.bitstamp.net/api/v2/ohlc/bchbtc/?&currency_pair=bchbtc&step=180&limit=1000&start=1590966000\n",
      "Downloaded from 2020-06-01 00:00:00 to 2020-06-03 01:57:00 0.02627124\n",
      "Resample 3Min - TecAn ( windows 20, windows_limit 100 )\n",
      "Processing 999 of bchbtc\n"
     ]
    },
    {
     "data": {
      "application/vnd.jupyter.widget-view+json": {
       "model_id": "1fa0a932609842ca9e3a6e0564c3581c",
       "version_major": 2,
       "version_minor": 0
      },
      "text/plain": [
       "  0%|          | 0/999 [00:00<?, ?it/s]"
      ]
     },
     "metadata": {},
     "output_type": "display_data"
    },
    {
     "name": "stdout",
     "output_type": "stream",
     "text": [
      "https://www.bitstamp.net/api/v2/ohlc/btcusd/?&currency_pair=btcusd&step=180&limit=1000&start=1559343600\n",
      "Downloaded from 2019-06-01 00:00:00 to 2019-06-03 01:57:00 8681.59\n",
      "Resample 3Min - TecAn ( windows 20, windows_limit 100 )\n",
      "Processing 999 of btcusd\n"
     ]
    },
    {
     "data": {
      "application/vnd.jupyter.widget-view+json": {
       "model_id": "feb56cc497fb4166a26ee0b70961b7c9",
       "version_major": 2,
       "version_minor": 0
      },
      "text/plain": [
       "  0%|          | 0/999 [00:00<?, ?it/s]"
      ]
     },
     "metadata": {},
     "output_type": "display_data"
    },
    {
     "name": "stdout",
     "output_type": "stream",
     "text": [
      "https://www.bitstamp.net/api/v2/ohlc/ethusd/?&currency_pair=ethusd&step=180&limit=1000&start=1559343600\n",
      "Downloaded from 2019-06-01 00:00:00 to 2019-06-03 01:57:00 266.63\n",
      "Resample 3Min - TecAn ( windows 20, windows_limit 100 )\n",
      "Processing 999 of ethusd\n"
     ]
    },
    {
     "data": {
      "application/vnd.jupyter.widget-view+json": {
       "model_id": "e2152a9852814366a80afb6d888b4f89",
       "version_major": 2,
       "version_minor": 0
      },
      "text/plain": [
       "  0%|          | 0/999 [00:00<?, ?it/s]"
      ]
     },
     "metadata": {},
     "output_type": "display_data"
    },
    {
     "name": "stdout",
     "output_type": "stream",
     "text": [
      "https://www.bitstamp.net/api/v2/ohlc/bchbtc/?&currency_pair=bchbtc&step=180&limit=1000&start=1559343600\n",
      "Downloaded from 2019-06-01 00:00:00 to 2019-06-03 01:57:00 0.05103076\n",
      "Resample 3Min - TecAn ( windows 20, windows_limit 100 )\n",
      "Processing 999 of bchbtc\n"
     ]
    },
    {
     "data": {
      "application/vnd.jupyter.widget-view+json": {
       "model_id": "56878d5bea9246ecb01b2d39d74208a0",
       "version_major": 2,
       "version_minor": 0
      },
      "text/plain": [
       "  0%|          | 0/999 [00:00<?, ?it/s]"
      ]
     },
     "metadata": {},
     "output_type": "display_data"
    },
    {
     "name": "stdout",
     "output_type": "stream",
     "text": [
      "https://www.bitstamp.net/api/v2/ohlc/btcusd/?&currency_pair=btcusd&step=180&limit=1000&start=1527807600\n",
      "Downloaded from 2018-06-01 00:00:00 to 2018-06-03 01:57:00 7653.99\n",
      "Resample 3Min - TecAn ( windows 20, windows_limit 100 )\n",
      "Processing 999 of btcusd\n"
     ]
    },
    {
     "data": {
      "application/vnd.jupyter.widget-view+json": {
       "model_id": "f241ffd90d6843c6acf64a10cdf3dd33",
       "version_major": 2,
       "version_minor": 0
      },
      "text/plain": [
       "  0%|          | 0/999 [00:00<?, ?it/s]"
      ]
     },
     "metadata": {},
     "output_type": "display_data"
    },
    {
     "name": "stdout",
     "output_type": "stream",
     "text": [
      "https://www.bitstamp.net/api/v2/ohlc/ethusd/?&currency_pair=ethusd&step=180&limit=1000&start=1527807600\n",
      "Downloaded from 2018-06-01 00:00:00 to 2018-06-03 01:57:00 592.70\n",
      "Resample 3Min - TecAn ( windows 20, windows_limit 100 )\n",
      "Processing 999 of ethusd\n"
     ]
    },
    {
     "data": {
      "application/vnd.jupyter.widget-view+json": {
       "model_id": "26e75a2c70f1489cb7c97673907a67ff",
       "version_major": 2,
       "version_minor": 0
      },
      "text/plain": [
       "  0%|          | 0/999 [00:00<?, ?it/s]"
      ]
     },
     "metadata": {},
     "output_type": "display_data"
    },
    {
     "name": "stdout",
     "output_type": "stream",
     "text": [
      "https://www.bitstamp.net/api/v2/ohlc/bchbtc/?&currency_pair=bchbtc&step=180&limit=1000&start=1527807600\n",
      "Downloaded from 2018-06-01 00:00:00 to 2018-06-03 01:57:00 0.14340000\n",
      "Resample 3Min - TecAn ( windows 20, windows_limit 100 )\n",
      "Processing 999 of bchbtc\n"
     ]
    },
    {
     "data": {
      "application/vnd.jupyter.widget-view+json": {
       "model_id": "cbe25a26e1914286ba70d78e4fedddad",
       "version_major": 2,
       "version_minor": 0
      },
      "text/plain": [
       "  0%|          | 0/999 [00:00<?, ?it/s]"
      ]
     },
     "metadata": {},
     "output_type": "display_data"
    },
    {
     "name": "stdout",
     "output_type": "stream",
     "text": [
      "https://www.bitstamp.net/api/v2/ohlc/btcusd/?&currency_pair=btcusd&step=180&limit=1000&start=1517443200\n",
      "Downloaded from 2018-02-01 00:00:00 to 2018-02-03 01:57:00 8563.00\n",
      "Resample 3Min - TecAn ( windows 20, windows_limit 100 )\n",
      "Processing 999 of btcusd\n"
     ]
    },
    {
     "data": {
      "application/vnd.jupyter.widget-view+json": {
       "model_id": "e90c4f285b1f48078711d8a63f6581a3",
       "version_major": 2,
       "version_minor": 0
      },
      "text/plain": [
       "  0%|          | 0/999 [00:00<?, ?it/s]"
      ]
     },
     "metadata": {},
     "output_type": "display_data"
    },
    {
     "name": "stdout",
     "output_type": "stream",
     "text": [
      "https://www.bitstamp.net/api/v2/ohlc/ethusd/?&currency_pair=ethusd&step=180&limit=1000&start=1517443200\n",
      "Downloaded from 2018-02-01 00:00:00 to 2018-02-03 01:57:00 894.06\n",
      "Resample 3Min - TecAn ( windows 20, windows_limit 100 )\n",
      "Processing 999 of ethusd\n"
     ]
    },
    {
     "data": {
      "application/vnd.jupyter.widget-view+json": {
       "model_id": "86b5f871c576466fba8029538f998cec",
       "version_major": 2,
       "version_minor": 0
      },
      "text/plain": [
       "  0%|          | 0/999 [00:00<?, ?it/s]"
      ]
     },
     "metadata": {},
     "output_type": "display_data"
    },
    {
     "name": "stdout",
     "output_type": "stream",
     "text": [
      "https://www.bitstamp.net/api/v2/ohlc/bchbtc/?&currency_pair=bchbtc&step=180&limit=1000&start=1517443200\n",
      "Downloaded from 2018-02-01 00:00:00 to 2018-02-03 01:57:00 0.13474768\n",
      "Resample 3Min - TecAn ( windows 20, windows_limit 100 )\n",
      "Processing 999 of bchbtc\n"
     ]
    },
    {
     "data": {
      "application/vnd.jupyter.widget-view+json": {
       "model_id": "64828bf08d0c4de99433423509cb456b",
       "version_major": 2,
       "version_minor": 0
      },
      "text/plain": [
       "  0%|          | 0/999 [00:00<?, ?it/s]"
      ]
     },
     "metadata": {},
     "output_type": "display_data"
    },
    {
     "name": "stdout",
     "output_type": "stream",
     "text": [
      "https://www.bitstamp.net/api/v2/ohlc/btcusd/?&currency_pair=btcusd&step=180&limit=1000&start=1548979200\n",
      "Downloaded from 2019-02-01 00:00:00 to 2019-02-03 01:57:00 3448.32\n",
      "Resample 3Min - TecAn ( windows 20, windows_limit 100 )\n",
      "Processing 999 of btcusd\n"
     ]
    },
    {
     "data": {
      "application/vnd.jupyter.widget-view+json": {
       "model_id": "136675b9d265402cbd9c0262884e933c",
       "version_major": 2,
       "version_minor": 0
      },
      "text/plain": [
       "  0%|          | 0/999 [00:00<?, ?it/s]"
      ]
     },
     "metadata": {},
     "output_type": "display_data"
    },
    {
     "name": "stdout",
     "output_type": "stream",
     "text": [
      "https://www.bitstamp.net/api/v2/ohlc/ethusd/?&currency_pair=ethusd&step=180&limit=1000&start=1548979200\n",
      "Downloaded from 2019-02-01 00:00:00 to 2019-02-03 01:57:00 108.63\n",
      "Resample 3Min - TecAn ( windows 20, windows_limit 100 )\n",
      "Processing 999 of ethusd\n"
     ]
    },
    {
     "data": {
      "application/vnd.jupyter.widget-view+json": {
       "model_id": "1c2d9bb6032a44b2af6d6337e5fe8926",
       "version_major": 2,
       "version_minor": 0
      },
      "text/plain": [
       "  0%|          | 0/999 [00:00<?, ?it/s]"
      ]
     },
     "metadata": {},
     "output_type": "display_data"
    },
    {
     "name": "stdout",
     "output_type": "stream",
     "text": [
      "https://www.bitstamp.net/api/v2/ohlc/bchbtc/?&currency_pair=bchbtc&step=180&limit=1000&start=1548979200\n",
      "Downloaded from 2019-02-01 00:00:00 to 2019-02-03 01:57:00 0.03446717\n",
      "Resample 3Min - TecAn ( windows 20, windows_limit 100 )\n",
      "Processing 999 of bchbtc\n"
     ]
    },
    {
     "data": {
      "application/vnd.jupyter.widget-view+json": {
       "model_id": "ee3359a9d8e84491b7c806961fd9d637",
       "version_major": 2,
       "version_minor": 0
      },
      "text/plain": [
       "  0%|          | 0/999 [00:00<?, ?it/s]"
      ]
     },
     "metadata": {},
     "output_type": "display_data"
    },
    {
     "name": "stdout",
     "output_type": "stream",
     "text": [
      "https://www.bitstamp.net/api/v2/ohlc/btcusd/?&currency_pair=btcusd&step=180&limit=1000&start=1580515200\n",
      "Downloaded from 2020-02-01 00:00:00 to 2020-02-03 01:57:00 9540.01\n",
      "Resample 3Min - TecAn ( windows 20, windows_limit 100 )\n",
      "Processing 999 of btcusd\n"
     ]
    },
    {
     "data": {
      "application/vnd.jupyter.widget-view+json": {
       "model_id": "eea52eff9b42411f85604bdbdf446965",
       "version_major": 2,
       "version_minor": 0
      },
      "text/plain": [
       "  0%|          | 0/999 [00:00<?, ?it/s]"
      ]
     },
     "metadata": {},
     "output_type": "display_data"
    },
    {
     "name": "stdout",
     "output_type": "stream",
     "text": [
      "https://www.bitstamp.net/api/v2/ohlc/ethusd/?&currency_pair=ethusd&step=180&limit=1000&start=1580515200\n",
      "Downloaded from 2020-02-01 00:00:00 to 2020-02-03 01:57:00 193.14\n",
      "Resample 3Min - TecAn ( windows 20, windows_limit 100 )\n",
      "Processing 999 of ethusd\n"
     ]
    },
    {
     "data": {
      "application/vnd.jupyter.widget-view+json": {
       "model_id": "c1268a76ab014a0abd0d9c99e1f487a2",
       "version_major": 2,
       "version_minor": 0
      },
      "text/plain": [
       "  0%|          | 0/999 [00:00<?, ?it/s]"
      ]
     },
     "metadata": {},
     "output_type": "display_data"
    },
    {
     "name": "stdout",
     "output_type": "stream",
     "text": [
      "https://www.bitstamp.net/api/v2/ohlc/bchbtc/?&currency_pair=bchbtc&step=180&limit=1000&start=1580515200\n",
      "Downloaded from 2020-02-01 00:00:00 to 2020-02-03 01:57:00 0.04080053\n",
      "Resample 3Min - TecAn ( windows 20, windows_limit 100 )\n",
      "Processing 999 of bchbtc\n"
     ]
    },
    {
     "data": {
      "application/vnd.jupyter.widget-view+json": {
       "model_id": "8dbb95a1776b446b891efcf7f8f429e1",
       "version_major": 2,
       "version_minor": 0
      },
      "text/plain": [
       "  0%|          | 0/999 [00:00<?, ?it/s]"
      ]
     },
     "metadata": {},
     "output_type": "display_data"
    },
    {
     "name": "stdout",
     "output_type": "stream",
     "text": [
      "https://www.bitstamp.net/api/v2/ohlc/btcusd/?&currency_pair=btcusd&step=180&limit=1000&start=1612137600\n",
      "Downloaded from 2021-02-01 00:00:00 to 2021-02-03 01:57:00 35892.89\n",
      "Resample 3Min - TecAn ( windows 20, windows_limit 100 )\n",
      "Processing 999 of btcusd\n"
     ]
    },
    {
     "data": {
      "application/vnd.jupyter.widget-view+json": {
       "model_id": "1b2023ff48094122aece4c15b2e25d89",
       "version_major": 2,
       "version_minor": 0
      },
      "text/plain": [
       "  0%|          | 0/999 [00:00<?, ?it/s]"
      ]
     },
     "metadata": {},
     "output_type": "display_data"
    },
    {
     "name": "stdout",
     "output_type": "stream",
     "text": [
      "https://www.bitstamp.net/api/v2/ohlc/ethusd/?&currency_pair=ethusd&step=180&limit=1000&start=1612137600\n",
      "Downloaded from 2021-02-01 00:00:00 to 2021-02-03 01:57:00 1519.63\n",
      "Resample 3Min - TecAn ( windows 20, windows_limit 100 )\n",
      "Processing 999 of ethusd\n"
     ]
    },
    {
     "data": {
      "application/vnd.jupyter.widget-view+json": {
       "model_id": "94da11a58c314b3db726653c48cc17fe",
       "version_major": 2,
       "version_minor": 0
      },
      "text/plain": [
       "  0%|          | 0/999 [00:00<?, ?it/s]"
      ]
     },
     "metadata": {},
     "output_type": "display_data"
    },
    {
     "name": "stdout",
     "output_type": "stream",
     "text": [
      "https://www.bitstamp.net/api/v2/ohlc/bchbtc/?&currency_pair=bchbtc&step=180&limit=1000&start=1612137600\n",
      "Downloaded from 2021-02-01 00:00:00 to 2021-02-03 01:57:00 0.01203272\n",
      "Resample 3Min - TecAn ( windows 20, windows_limit 100 )\n",
      "Processing 999 of bchbtc\n"
     ]
    },
    {
     "data": {
      "application/vnd.jupyter.widget-view+json": {
       "model_id": "da27ac02a2494c0bbfa89b351b3bd046",
       "version_major": 2,
       "version_minor": 0
      },
      "text/plain": [
       "  0%|          | 0/999 [00:00<?, ?it/s]"
      ]
     },
     "metadata": {},
     "output_type": "display_data"
    },
    {
     "name": "stdout",
     "output_type": "stream",
     "text": [
      "https://www.bitstamp.net/api/v2/ohlc/ltceur/?&currency_pair=ltceur&step=180&limit=1000&start=1623711600\n",
      "https://www.bitstamp.net/api/v2/ohlc/ltceur/?&currency_pair=ltceur&step=180&limit=1000&start=1623891420\n",
      "https://www.bitstamp.net/api/v2/ohlc/ltceur/?&currency_pair=ltceur&step=180&limit=1000&start=1624071240\n",
      "https://www.bitstamp.net/api/v2/ohlc/ltceur/?&currency_pair=ltceur&step=180&limit=1000&start=1624251060\n",
      "https://www.bitstamp.net/api/v2/ohlc/ltceur/?&currency_pair=ltceur&step=180&limit=1000&start=1624430880\n",
      "https://www.bitstamp.net/api/v2/ohlc/ltceur/?&currency_pair=ltceur&step=180&limit=1000&start=1624610700\n",
      "https://www.bitstamp.net/api/v2/ohlc/ltceur/?&currency_pair=ltceur&step=180&limit=1000&start=1624790520\n",
      "https://www.bitstamp.net/api/v2/ohlc/ltceur/?&currency_pair=ltceur&step=180&limit=1000&start=1624970340\n",
      "https://www.bitstamp.net/api/v2/ohlc/ltceur/?&currency_pair=ltceur&step=180&limit=1000&start=1625150160\n",
      "https://www.bitstamp.net/api/v2/ohlc/ltceur/?&currency_pair=ltceur&step=180&limit=1000&start=1625329980\n",
      "https://www.bitstamp.net/api/v2/ohlc/ltceur/?&currency_pair=ltceur&step=180&limit=1000&start=1625509800\n",
      "https://www.bitstamp.net/api/v2/ohlc/ltceur/?&currency_pair=ltceur&step=180&limit=1000&start=1625689620\n",
      "https://www.bitstamp.net/api/v2/ohlc/ltceur/?&currency_pair=ltceur&step=180&limit=1000&start=1625869440\n",
      "https://www.bitstamp.net/api/v2/ohlc/ltceur/?&currency_pair=ltceur&step=180&limit=1000&start=1626049260\n",
      "https://www.bitstamp.net/api/v2/ohlc/ltceur/?&currency_pair=ltceur&step=180&limit=1000&start=1626229080\n",
      "Downloaded from 2021-06-15 00:00:00 to 2021-07-15 00:03:00 111.00\n",
      "Resample 3Min - TecAn ( windows 20, windows_limit 100 )\n",
      "Processing 14415 of ltceur\n"
     ]
    },
    {
     "data": {
      "application/vnd.jupyter.widget-view+json": {
       "model_id": "6065cb14afa64e35a0e9307f842ca1c5",
       "version_major": 2,
       "version_minor": 0
      },
      "text/plain": [
       "  0%|          | 0/14415 [00:00<?, ?it/s]"
      ]
     },
     "metadata": {},
     "output_type": "display_data"
    },
    {
     "name": "stdout",
     "output_type": "stream",
     "text": [
      "https://www.bitstamp.net/api/v2/ohlc/ltcusd/?&currency_pair=ltcusd&step=180&limit=1000&start=1623711600\n",
      "https://www.bitstamp.net/api/v2/ohlc/ltcusd/?&currency_pair=ltcusd&step=180&limit=1000&start=1623891420\n",
      "https://www.bitstamp.net/api/v2/ohlc/ltcusd/?&currency_pair=ltcusd&step=180&limit=1000&start=1624071240\n",
      "https://www.bitstamp.net/api/v2/ohlc/ltcusd/?&currency_pair=ltcusd&step=180&limit=1000&start=1624251060\n",
      "https://www.bitstamp.net/api/v2/ohlc/ltcusd/?&currency_pair=ltcusd&step=180&limit=1000&start=1624430880\n",
      "https://www.bitstamp.net/api/v2/ohlc/ltcusd/?&currency_pair=ltcusd&step=180&limit=1000&start=1624610700\n",
      "https://www.bitstamp.net/api/v2/ohlc/ltcusd/?&currency_pair=ltcusd&step=180&limit=1000&start=1624790520\n",
      "https://www.bitstamp.net/api/v2/ohlc/ltcusd/?&currency_pair=ltcusd&step=180&limit=1000&start=1624970340\n",
      "https://www.bitstamp.net/api/v2/ohlc/ltcusd/?&currency_pair=ltcusd&step=180&limit=1000&start=1625150160\n",
      "https://www.bitstamp.net/api/v2/ohlc/ltcusd/?&currency_pair=ltcusd&step=180&limit=1000&start=1625329980\n",
      "https://www.bitstamp.net/api/v2/ohlc/ltcusd/?&currency_pair=ltcusd&step=180&limit=1000&start=1625509800\n",
      "https://www.bitstamp.net/api/v2/ohlc/ltcusd/?&currency_pair=ltcusd&step=180&limit=1000&start=1625689620\n",
      "https://www.bitstamp.net/api/v2/ohlc/ltcusd/?&currency_pair=ltcusd&step=180&limit=1000&start=1625869440\n",
      "https://www.bitstamp.net/api/v2/ohlc/ltcusd/?&currency_pair=ltcusd&step=180&limit=1000&start=1626049260\n",
      "https://www.bitstamp.net/api/v2/ohlc/ltcusd/?&currency_pair=ltcusd&step=180&limit=1000&start=1626229080\n",
      "Downloaded from 2021-06-15 00:00:00 to 2021-07-15 00:03:00 131.22\n",
      "Resample 3Min - TecAn ( windows 20, windows_limit 100 )\n",
      "Processing 14415 of ltcusd\n"
     ]
    },
    {
     "data": {
      "application/vnd.jupyter.widget-view+json": {
       "model_id": "db59beeb805245398730fc29403d2aee",
       "version_major": 2,
       "version_minor": 0
      },
      "text/plain": [
       "  0%|          | 0/14415 [00:00<?, ?it/s]"
      ]
     },
     "metadata": {},
     "output_type": "display_data"
    },
    {
     "name": "stdout",
     "output_type": "stream",
     "text": [
      "https://www.bitstamp.net/api/v2/ohlc/ethusd/?&currency_pair=ethusd&step=180&limit=1000&start=1623711600\n",
      "https://www.bitstamp.net/api/v2/ohlc/ethusd/?&currency_pair=ethusd&step=180&limit=1000&start=1623891420\n",
      "https://www.bitstamp.net/api/v2/ohlc/ethusd/?&currency_pair=ethusd&step=180&limit=1000&start=1624071240\n",
      "https://www.bitstamp.net/api/v2/ohlc/ethusd/?&currency_pair=ethusd&step=180&limit=1000&start=1624251060\n",
      "https://www.bitstamp.net/api/v2/ohlc/ethusd/?&currency_pair=ethusd&step=180&limit=1000&start=1624430880\n",
      "https://www.bitstamp.net/api/v2/ohlc/ethusd/?&currency_pair=ethusd&step=180&limit=1000&start=1624610700\n",
      "https://www.bitstamp.net/api/v2/ohlc/ethusd/?&currency_pair=ethusd&step=180&limit=1000&start=1624790520\n",
      "https://www.bitstamp.net/api/v2/ohlc/ethusd/?&currency_pair=ethusd&step=180&limit=1000&start=1624970340\n",
      "https://www.bitstamp.net/api/v2/ohlc/ethusd/?&currency_pair=ethusd&step=180&limit=1000&start=1625150160\n",
      "https://www.bitstamp.net/api/v2/ohlc/ethusd/?&currency_pair=ethusd&step=180&limit=1000&start=1625329980\n",
      "https://www.bitstamp.net/api/v2/ohlc/ethusd/?&currency_pair=ethusd&step=180&limit=1000&start=1625509800\n",
      "https://www.bitstamp.net/api/v2/ohlc/ethusd/?&currency_pair=ethusd&step=180&limit=1000&start=1625689620\n",
      "https://www.bitstamp.net/api/v2/ohlc/ethusd/?&currency_pair=ethusd&step=180&limit=1000&start=1625869440\n",
      "https://www.bitstamp.net/api/v2/ohlc/ethusd/?&currency_pair=ethusd&step=180&limit=1000&start=1626049260\n",
      "https://www.bitstamp.net/api/v2/ohlc/ethusd/?&currency_pair=ethusd&step=180&limit=1000&start=1626229080\n",
      "Downloaded from 2021-06-15 00:00:00 to 2021-07-15 00:03:00 2002.95\n",
      "Resample 3Min - TecAn ( windows 20, windows_limit 100 )\n",
      "Processing 14415 of ethusd\n"
     ]
    },
    {
     "data": {
      "application/vnd.jupyter.widget-view+json": {
       "model_id": "53b1e4b20dcc4abf958520404d4abb6e",
       "version_major": 2,
       "version_minor": 0
      },
      "text/plain": [
       "  0%|          | 0/14415 [00:00<?, ?it/s]"
      ]
     },
     "metadata": {},
     "output_type": "display_data"
    },
    {
     "name": "stdout",
     "output_type": "stream",
     "text": [
      "https://www.bitstamp.net/api/v2/ohlc/btcusd/?&currency_pair=btcusd&step=180&limit=1000&start=1623711600\n",
      "https://www.bitstamp.net/api/v2/ohlc/btcusd/?&currency_pair=btcusd&step=180&limit=1000&start=1623891420\n",
      "https://www.bitstamp.net/api/v2/ohlc/btcusd/?&currency_pair=btcusd&step=180&limit=1000&start=1624071240\n",
      "https://www.bitstamp.net/api/v2/ohlc/btcusd/?&currency_pair=btcusd&step=180&limit=1000&start=1624251060\n",
      "https://www.bitstamp.net/api/v2/ohlc/btcusd/?&currency_pair=btcusd&step=180&limit=1000&start=1624430880\n",
      "https://www.bitstamp.net/api/v2/ohlc/btcusd/?&currency_pair=btcusd&step=180&limit=1000&start=1624610700\n",
      "https://www.bitstamp.net/api/v2/ohlc/btcusd/?&currency_pair=btcusd&step=180&limit=1000&start=1624790520\n",
      "https://www.bitstamp.net/api/v2/ohlc/btcusd/?&currency_pair=btcusd&step=180&limit=1000&start=1624970340\n",
      "https://www.bitstamp.net/api/v2/ohlc/btcusd/?&currency_pair=btcusd&step=180&limit=1000&start=1625150160\n",
      "https://www.bitstamp.net/api/v2/ohlc/btcusd/?&currency_pair=btcusd&step=180&limit=1000&start=1625329980\n",
      "https://www.bitstamp.net/api/v2/ohlc/btcusd/?&currency_pair=btcusd&step=180&limit=1000&start=1625509800\n",
      "https://www.bitstamp.net/api/v2/ohlc/btcusd/?&currency_pair=btcusd&step=180&limit=1000&start=1625689620\n",
      "https://www.bitstamp.net/api/v2/ohlc/btcusd/?&currency_pair=btcusd&step=180&limit=1000&start=1625869440\n",
      "https://www.bitstamp.net/api/v2/ohlc/btcusd/?&currency_pair=btcusd&step=180&limit=1000&start=1626049260\n",
      "https://www.bitstamp.net/api/v2/ohlc/btcusd/?&currency_pair=btcusd&step=180&limit=1000&start=1626229080\n",
      "Downloaded from 2021-06-15 00:00:00 to 2021-07-15 00:03:00 32951.92\n",
      "Resample 3Min - TecAn ( windows 20, windows_limit 100 )\n",
      "Processing 14415 of btcusd\n"
     ]
    },
    {
     "data": {
      "application/vnd.jupyter.widget-view+json": {
       "model_id": "9fae5e21c13b4ed19e8afae7ff562008",
       "version_major": 2,
       "version_minor": 0
      },
      "text/plain": [
       "  0%|          | 0/14415 [00:00<?, ?it/s]"
      ]
     },
     "metadata": {},
     "output_type": "display_data"
    },
    {
     "name": "stdout",
     "output_type": "stream",
     "text": [
      "https://www.bitstamp.net/api/v2/ohlc/btcusd/?&currency_pair=btcusd&step=180&limit=1000&start=1622502000\n",
      "Downloaded from 2021-06-01 00:00:00 to 2021-06-03 01:57:00 37436.78\n",
      "Resample 3Min - TecAn ( windows 30, windows_limit 100 )\n",
      "Processing 999 of btcusd\n"
     ]
    },
    {
     "data": {
      "application/vnd.jupyter.widget-view+json": {
       "model_id": "8c4a7e490bd54f97bf3062969b6bd4da",
       "version_major": 2,
       "version_minor": 0
      },
      "text/plain": [
       "  0%|          | 0/999 [00:00<?, ?it/s]"
      ]
     },
     "metadata": {},
     "output_type": "display_data"
    },
    {
     "name": "stdout",
     "output_type": "stream",
     "text": [
      "https://www.bitstamp.net/api/v2/ohlc/ethusd/?&currency_pair=ethusd&step=180&limit=1000&start=1622502000\n",
      "Downloaded from 2021-06-01 00:00:00 to 2021-06-03 01:57:00 2702.14\n",
      "Resample 3Min - TecAn ( windows 30, windows_limit 100 )\n",
      "Processing 999 of ethusd\n"
     ]
    },
    {
     "data": {
      "application/vnd.jupyter.widget-view+json": {
       "model_id": "5aca3f973e694ff08afdc1b374f7e8b1",
       "version_major": 2,
       "version_minor": 0
      },
      "text/plain": [
       "  0%|          | 0/999 [00:00<?, ?it/s]"
      ]
     },
     "metadata": {},
     "output_type": "display_data"
    },
    {
     "name": "stdout",
     "output_type": "stream",
     "text": [
      "https://www.bitstamp.net/api/v2/ohlc/bchbtc/?&currency_pair=bchbtc&step=180&limit=1000&start=1622502000\n",
      "Downloaded from 2021-06-01 00:00:00 to 2021-06-03 01:57:00 0.01859323\n",
      "Resample 3Min - TecAn ( windows 30, windows_limit 100 )\n",
      "Processing 999 of bchbtc\n"
     ]
    },
    {
     "data": {
      "application/vnd.jupyter.widget-view+json": {
       "model_id": "8ff73afa3cf74114860c06fb0befabb1",
       "version_major": 2,
       "version_minor": 0
      },
      "text/plain": [
       "  0%|          | 0/999 [00:00<?, ?it/s]"
      ]
     },
     "metadata": {},
     "output_type": "display_data"
    },
    {
     "name": "stdout",
     "output_type": "stream",
     "text": [
      "https://www.bitstamp.net/api/v2/ohlc/btcusd/?&currency_pair=btcusd&step=180&limit=1000&start=1590966000\n",
      "Downloaded from 2020-06-01 00:00:00 to 2020-06-03 01:57:00 9525.82\n",
      "Resample 3Min - TecAn ( windows 30, windows_limit 100 )\n",
      "Processing 999 of btcusd\n"
     ]
    },
    {
     "data": {
      "application/vnd.jupyter.widget-view+json": {
       "model_id": "06b70dd6eb0d4cd68ee5ad336bdb5819",
       "version_major": 2,
       "version_minor": 0
      },
      "text/plain": [
       "  0%|          | 0/999 [00:00<?, ?it/s]"
      ]
     },
     "metadata": {},
     "output_type": "display_data"
    },
    {
     "name": "stdout",
     "output_type": "stream",
     "text": [
      "https://www.bitstamp.net/api/v2/ohlc/ethusd/?&currency_pair=ethusd&step=180&limit=1000&start=1590966000\n",
      "Downloaded from 2020-06-01 00:00:00 to 2020-06-03 01:57:00 237.99\n",
      "Resample 3Min - TecAn ( windows 30, windows_limit 100 )\n",
      "Processing 999 of ethusd\n"
     ]
    },
    {
     "data": {
      "application/vnd.jupyter.widget-view+json": {
       "model_id": "ab45d42e1b7f45319c28d0ab837ffc88",
       "version_major": 2,
       "version_minor": 0
      },
      "text/plain": [
       "  0%|          | 0/999 [00:00<?, ?it/s]"
      ]
     },
     "metadata": {},
     "output_type": "display_data"
    },
    {
     "name": "stdout",
     "output_type": "stream",
     "text": [
      "https://www.bitstamp.net/api/v2/ohlc/bchbtc/?&currency_pair=bchbtc&step=180&limit=1000&start=1590966000\n",
      "Downloaded from 2020-06-01 00:00:00 to 2020-06-03 01:57:00 0.02627124\n",
      "Resample 3Min - TecAn ( windows 30, windows_limit 100 )\n",
      "Processing 999 of bchbtc\n"
     ]
    },
    {
     "data": {
      "application/vnd.jupyter.widget-view+json": {
       "model_id": "7fc8399aba8c4342b0e8cbf70d2066df",
       "version_major": 2,
       "version_minor": 0
      },
      "text/plain": [
       "  0%|          | 0/999 [00:00<?, ?it/s]"
      ]
     },
     "metadata": {},
     "output_type": "display_data"
    },
    {
     "name": "stdout",
     "output_type": "stream",
     "text": [
      "https://www.bitstamp.net/api/v2/ohlc/btcusd/?&currency_pair=btcusd&step=180&limit=1000&start=1559343600\n",
      "Downloaded from 2019-06-01 00:00:00 to 2019-06-03 01:57:00 8681.59\n",
      "Resample 3Min - TecAn ( windows 30, windows_limit 100 )\n",
      "Processing 999 of btcusd\n"
     ]
    },
    {
     "data": {
      "application/vnd.jupyter.widget-view+json": {
       "model_id": "66cb12dce1954929a79831c5d1cca474",
       "version_major": 2,
       "version_minor": 0
      },
      "text/plain": [
       "  0%|          | 0/999 [00:00<?, ?it/s]"
      ]
     },
     "metadata": {},
     "output_type": "display_data"
    },
    {
     "name": "stdout",
     "output_type": "stream",
     "text": [
      "https://www.bitstamp.net/api/v2/ohlc/ethusd/?&currency_pair=ethusd&step=180&limit=1000&start=1559343600\n",
      "Downloaded from 2019-06-01 00:00:00 to 2019-06-03 01:57:00 266.63\n",
      "Resample 3Min - TecAn ( windows 30, windows_limit 100 )\n",
      "Processing 999 of ethusd\n"
     ]
    },
    {
     "data": {
      "application/vnd.jupyter.widget-view+json": {
       "model_id": "6185d97bcf6e4121bba46d45215816f4",
       "version_major": 2,
       "version_minor": 0
      },
      "text/plain": [
       "  0%|          | 0/999 [00:00<?, ?it/s]"
      ]
     },
     "metadata": {},
     "output_type": "display_data"
    },
    {
     "name": "stdout",
     "output_type": "stream",
     "text": [
      "https://www.bitstamp.net/api/v2/ohlc/bchbtc/?&currency_pair=bchbtc&step=180&limit=1000&start=1559343600\n",
      "Downloaded from 2019-06-01 00:00:00 to 2019-06-03 01:57:00 0.05103076\n",
      "Resample 3Min - TecAn ( windows 30, windows_limit 100 )\n",
      "Processing 999 of bchbtc\n"
     ]
    },
    {
     "data": {
      "application/vnd.jupyter.widget-view+json": {
       "model_id": "91feb4408b2c4f80baa9eacdee9c21a4",
       "version_major": 2,
       "version_minor": 0
      },
      "text/plain": [
       "  0%|          | 0/999 [00:00<?, ?it/s]"
      ]
     },
     "metadata": {},
     "output_type": "display_data"
    },
    {
     "name": "stdout",
     "output_type": "stream",
     "text": [
      "https://www.bitstamp.net/api/v2/ohlc/btcusd/?&currency_pair=btcusd&step=180&limit=1000&start=1527807600\n",
      "Downloaded from 2018-06-01 00:00:00 to 2018-06-03 01:57:00 7653.99\n",
      "Resample 3Min - TecAn ( windows 30, windows_limit 100 )\n",
      "Processing 999 of btcusd\n"
     ]
    },
    {
     "data": {
      "application/vnd.jupyter.widget-view+json": {
       "model_id": "bb3ef4d45b3844a798373ccb301a3041",
       "version_major": 2,
       "version_minor": 0
      },
      "text/plain": [
       "  0%|          | 0/999 [00:00<?, ?it/s]"
      ]
     },
     "metadata": {},
     "output_type": "display_data"
    },
    {
     "name": "stdout",
     "output_type": "stream",
     "text": [
      "https://www.bitstamp.net/api/v2/ohlc/ethusd/?&currency_pair=ethusd&step=180&limit=1000&start=1527807600\n",
      "Downloaded from 2018-06-01 00:00:00 to 2018-06-03 01:57:00 592.70\n",
      "Resample 3Min - TecAn ( windows 30, windows_limit 100 )\n",
      "Processing 999 of ethusd\n"
     ]
    },
    {
     "data": {
      "application/vnd.jupyter.widget-view+json": {
       "model_id": "335cf18e2d624c4389f0ac90afaddf87",
       "version_major": 2,
       "version_minor": 0
      },
      "text/plain": [
       "  0%|          | 0/999 [00:00<?, ?it/s]"
      ]
     },
     "metadata": {},
     "output_type": "display_data"
    },
    {
     "name": "stdout",
     "output_type": "stream",
     "text": [
      "https://www.bitstamp.net/api/v2/ohlc/bchbtc/?&currency_pair=bchbtc&step=180&limit=1000&start=1527807600\n",
      "Downloaded from 2018-06-01 00:00:00 to 2018-06-03 01:57:00 0.14340000\n",
      "Resample 3Min - TecAn ( windows 30, windows_limit 100 )\n",
      "Processing 999 of bchbtc\n"
     ]
    },
    {
     "data": {
      "application/vnd.jupyter.widget-view+json": {
       "model_id": "e0485e8b7bb34e5d9c8c2c40658d49b9",
       "version_major": 2,
       "version_minor": 0
      },
      "text/plain": [
       "  0%|          | 0/999 [00:00<?, ?it/s]"
      ]
     },
     "metadata": {},
     "output_type": "display_data"
    },
    {
     "name": "stdout",
     "output_type": "stream",
     "text": [
      "https://www.bitstamp.net/api/v2/ohlc/btcusd/?&currency_pair=btcusd&step=180&limit=1000&start=1517443200\n",
      "Downloaded from 2018-02-01 00:00:00 to 2018-02-03 01:57:00 8563.00\n",
      "Resample 3Min - TecAn ( windows 30, windows_limit 100 )\n",
      "Processing 999 of btcusd\n"
     ]
    },
    {
     "data": {
      "application/vnd.jupyter.widget-view+json": {
       "model_id": "ce0c582f21e340c7b965b8c018ede8cb",
       "version_major": 2,
       "version_minor": 0
      },
      "text/plain": [
       "  0%|          | 0/999 [00:00<?, ?it/s]"
      ]
     },
     "metadata": {},
     "output_type": "display_data"
    },
    {
     "name": "stdout",
     "output_type": "stream",
     "text": [
      "https://www.bitstamp.net/api/v2/ohlc/ethusd/?&currency_pair=ethusd&step=180&limit=1000&start=1517443200\n",
      "Downloaded from 2018-02-01 00:00:00 to 2018-02-03 01:57:00 894.06\n",
      "Resample 3Min - TecAn ( windows 30, windows_limit 100 )\n",
      "Processing 999 of ethusd\n"
     ]
    },
    {
     "data": {
      "application/vnd.jupyter.widget-view+json": {
       "model_id": "297aa6dd332f49298d59d0a5376c8a28",
       "version_major": 2,
       "version_minor": 0
      },
      "text/plain": [
       "  0%|          | 0/999 [00:00<?, ?it/s]"
      ]
     },
     "metadata": {},
     "output_type": "display_data"
    },
    {
     "name": "stdout",
     "output_type": "stream",
     "text": [
      "https://www.bitstamp.net/api/v2/ohlc/bchbtc/?&currency_pair=bchbtc&step=180&limit=1000&start=1517443200\n",
      "Downloaded from 2018-02-01 00:00:00 to 2018-02-03 01:57:00 0.13474768\n",
      "Resample 3Min - TecAn ( windows 30, windows_limit 100 )\n",
      "Processing 999 of bchbtc\n"
     ]
    },
    {
     "data": {
      "application/vnd.jupyter.widget-view+json": {
       "model_id": "e5111396a596444499ba44b417d79a0c",
       "version_major": 2,
       "version_minor": 0
      },
      "text/plain": [
       "  0%|          | 0/999 [00:00<?, ?it/s]"
      ]
     },
     "metadata": {},
     "output_type": "display_data"
    },
    {
     "name": "stdout",
     "output_type": "stream",
     "text": [
      "https://www.bitstamp.net/api/v2/ohlc/btcusd/?&currency_pair=btcusd&step=180&limit=1000&start=1548979200\n",
      "Downloaded from 2019-02-01 00:00:00 to 2019-02-03 01:57:00 3448.32\n",
      "Resample 3Min - TecAn ( windows 30, windows_limit 100 )\n",
      "Processing 999 of btcusd\n"
     ]
    },
    {
     "data": {
      "application/vnd.jupyter.widget-view+json": {
       "model_id": "bbeffeb4d87a4118bd8eccb3d5c719ff",
       "version_major": 2,
       "version_minor": 0
      },
      "text/plain": [
       "  0%|          | 0/999 [00:00<?, ?it/s]"
      ]
     },
     "metadata": {},
     "output_type": "display_data"
    },
    {
     "name": "stdout",
     "output_type": "stream",
     "text": [
      "https://www.bitstamp.net/api/v2/ohlc/ethusd/?&currency_pair=ethusd&step=180&limit=1000&start=1548979200\n",
      "Downloaded from 2019-02-01 00:00:00 to 2019-02-03 01:57:00 108.63\n",
      "Resample 3Min - TecAn ( windows 30, windows_limit 100 )\n",
      "Processing 999 of ethusd\n"
     ]
    },
    {
     "data": {
      "application/vnd.jupyter.widget-view+json": {
       "model_id": "fb2f4b5b7ec94c6aa24cfcdc768afe2c",
       "version_major": 2,
       "version_minor": 0
      },
      "text/plain": [
       "  0%|          | 0/999 [00:00<?, ?it/s]"
      ]
     },
     "metadata": {},
     "output_type": "display_data"
    },
    {
     "name": "stdout",
     "output_type": "stream",
     "text": [
      "https://www.bitstamp.net/api/v2/ohlc/bchbtc/?&currency_pair=bchbtc&step=180&limit=1000&start=1548979200\n",
      "Downloaded from 2019-02-01 00:00:00 to 2019-02-03 01:57:00 0.03446717\n",
      "Resample 3Min - TecAn ( windows 30, windows_limit 100 )\n",
      "Processing 999 of bchbtc\n"
     ]
    },
    {
     "data": {
      "application/vnd.jupyter.widget-view+json": {
       "model_id": "f1c0758bbae54ff3b3c5d45cf4bbbb54",
       "version_major": 2,
       "version_minor": 0
      },
      "text/plain": [
       "  0%|          | 0/999 [00:00<?, ?it/s]"
      ]
     },
     "metadata": {},
     "output_type": "display_data"
    },
    {
     "name": "stdout",
     "output_type": "stream",
     "text": [
      "https://www.bitstamp.net/api/v2/ohlc/btcusd/?&currency_pair=btcusd&step=180&limit=1000&start=1580515200\n",
      "Downloaded from 2020-02-01 00:00:00 to 2020-02-03 01:57:00 9540.01\n",
      "Resample 3Min - TecAn ( windows 30, windows_limit 100 )\n",
      "Processing 999 of btcusd\n"
     ]
    },
    {
     "data": {
      "application/vnd.jupyter.widget-view+json": {
       "model_id": "3b16253aae9d43379dc23cd9513189eb",
       "version_major": 2,
       "version_minor": 0
      },
      "text/plain": [
       "  0%|          | 0/999 [00:00<?, ?it/s]"
      ]
     },
     "metadata": {},
     "output_type": "display_data"
    },
    {
     "name": "stdout",
     "output_type": "stream",
     "text": [
      "https://www.bitstamp.net/api/v2/ohlc/ethusd/?&currency_pair=ethusd&step=180&limit=1000&start=1580515200\n",
      "Downloaded from 2020-02-01 00:00:00 to 2020-02-03 01:57:00 193.14\n",
      "Resample 3Min - TecAn ( windows 30, windows_limit 100 )\n",
      "Processing 999 of ethusd\n"
     ]
    },
    {
     "data": {
      "application/vnd.jupyter.widget-view+json": {
       "model_id": "1fbc03f74c7843ffb7f3e0aaef34f935",
       "version_major": 2,
       "version_minor": 0
      },
      "text/plain": [
       "  0%|          | 0/999 [00:00<?, ?it/s]"
      ]
     },
     "metadata": {},
     "output_type": "display_data"
    },
    {
     "name": "stdout",
     "output_type": "stream",
     "text": [
      "https://www.bitstamp.net/api/v2/ohlc/bchbtc/?&currency_pair=bchbtc&step=180&limit=1000&start=1580515200\n",
      "Downloaded from 2020-02-01 00:00:00 to 2020-02-03 01:57:00 0.04080053\n",
      "Resample 3Min - TecAn ( windows 30, windows_limit 100 )\n",
      "Processing 999 of bchbtc\n"
     ]
    },
    {
     "data": {
      "application/vnd.jupyter.widget-view+json": {
       "model_id": "6d0817f7cab74478b3914e90b7ea0268",
       "version_major": 2,
       "version_minor": 0
      },
      "text/plain": [
       "  0%|          | 0/999 [00:00<?, ?it/s]"
      ]
     },
     "metadata": {},
     "output_type": "display_data"
    },
    {
     "name": "stdout",
     "output_type": "stream",
     "text": [
      "https://www.bitstamp.net/api/v2/ohlc/btcusd/?&currency_pair=btcusd&step=180&limit=1000&start=1612137600\n",
      "Downloaded from 2021-02-01 00:00:00 to 2021-02-03 01:57:00 35892.89\n",
      "Resample 3Min - TecAn ( windows 30, windows_limit 100 )\n",
      "Processing 999 of btcusd\n"
     ]
    },
    {
     "data": {
      "application/vnd.jupyter.widget-view+json": {
       "model_id": "6fa7cd94f3f741d1a5c2a867ddf9ac68",
       "version_major": 2,
       "version_minor": 0
      },
      "text/plain": [
       "  0%|          | 0/999 [00:00<?, ?it/s]"
      ]
     },
     "metadata": {},
     "output_type": "display_data"
    },
    {
     "name": "stdout",
     "output_type": "stream",
     "text": [
      "https://www.bitstamp.net/api/v2/ohlc/ethusd/?&currency_pair=ethusd&step=180&limit=1000&start=1612137600\n",
      "Downloaded from 2021-02-01 00:00:00 to 2021-02-03 01:57:00 1519.63\n",
      "Resample 3Min - TecAn ( windows 30, windows_limit 100 )\n",
      "Processing 999 of ethusd\n"
     ]
    },
    {
     "data": {
      "application/vnd.jupyter.widget-view+json": {
       "model_id": "33e003c0db714c84b622de58df0e9b6c",
       "version_major": 2,
       "version_minor": 0
      },
      "text/plain": [
       "  0%|          | 0/999 [00:00<?, ?it/s]"
      ]
     },
     "metadata": {},
     "output_type": "display_data"
    },
    {
     "name": "stdout",
     "output_type": "stream",
     "text": [
      "https://www.bitstamp.net/api/v2/ohlc/bchbtc/?&currency_pair=bchbtc&step=180&limit=1000&start=1612137600\n",
      "Downloaded from 2021-02-01 00:00:00 to 2021-02-03 01:57:00 0.01203272\n",
      "Resample 3Min - TecAn ( windows 30, windows_limit 100 )\n",
      "Processing 999 of bchbtc\n"
     ]
    },
    {
     "data": {
      "application/vnd.jupyter.widget-view+json": {
       "model_id": "e9c6b2f4257d44d999e3d2a4273c6915",
       "version_major": 2,
       "version_minor": 0
      },
      "text/plain": [
       "  0%|          | 0/999 [00:00<?, ?it/s]"
      ]
     },
     "metadata": {},
     "output_type": "display_data"
    },
    {
     "name": "stdout",
     "output_type": "stream",
     "text": [
      "https://www.bitstamp.net/api/v2/ohlc/ltceur/?&currency_pair=ltceur&step=180&limit=1000&start=1623711600\n",
      "https://www.bitstamp.net/api/v2/ohlc/ltceur/?&currency_pair=ltceur&step=180&limit=1000&start=1623891420\n",
      "https://www.bitstamp.net/api/v2/ohlc/ltceur/?&currency_pair=ltceur&step=180&limit=1000&start=1624071240\n",
      "https://www.bitstamp.net/api/v2/ohlc/ltceur/?&currency_pair=ltceur&step=180&limit=1000&start=1624251060\n",
      "https://www.bitstamp.net/api/v2/ohlc/ltceur/?&currency_pair=ltceur&step=180&limit=1000&start=1624430880\n",
      "https://www.bitstamp.net/api/v2/ohlc/ltceur/?&currency_pair=ltceur&step=180&limit=1000&start=1624610700\n",
      "https://www.bitstamp.net/api/v2/ohlc/ltceur/?&currency_pair=ltceur&step=180&limit=1000&start=1624790520\n",
      "https://www.bitstamp.net/api/v2/ohlc/ltceur/?&currency_pair=ltceur&step=180&limit=1000&start=1624970340\n",
      "https://www.bitstamp.net/api/v2/ohlc/ltceur/?&currency_pair=ltceur&step=180&limit=1000&start=1625150160\n",
      "https://www.bitstamp.net/api/v2/ohlc/ltceur/?&currency_pair=ltceur&step=180&limit=1000&start=1625329980\n",
      "https://www.bitstamp.net/api/v2/ohlc/ltceur/?&currency_pair=ltceur&step=180&limit=1000&start=1625509800\n",
      "https://www.bitstamp.net/api/v2/ohlc/ltceur/?&currency_pair=ltceur&step=180&limit=1000&start=1625689620\n",
      "https://www.bitstamp.net/api/v2/ohlc/ltceur/?&currency_pair=ltceur&step=180&limit=1000&start=1625869440\n",
      "https://www.bitstamp.net/api/v2/ohlc/ltceur/?&currency_pair=ltceur&step=180&limit=1000&start=1626049260\n",
      "https://www.bitstamp.net/api/v2/ohlc/ltceur/?&currency_pair=ltceur&step=180&limit=1000&start=1626229080\n",
      "Downloaded from 2021-06-15 00:00:00 to 2021-07-15 00:03:00 111.00\n",
      "Resample 3Min - TecAn ( windows 30, windows_limit 100 )\n",
      "Processing 14415 of ltceur\n"
     ]
    },
    {
     "data": {
      "application/vnd.jupyter.widget-view+json": {
       "model_id": "2b9452950bb54bc890746fdb36f9e148",
       "version_major": 2,
       "version_minor": 0
      },
      "text/plain": [
       "  0%|          | 0/14415 [00:00<?, ?it/s]"
      ]
     },
     "metadata": {},
     "output_type": "display_data"
    },
    {
     "name": "stdout",
     "output_type": "stream",
     "text": [
      "https://www.bitstamp.net/api/v2/ohlc/ltcusd/?&currency_pair=ltcusd&step=180&limit=1000&start=1623711600\n",
      "https://www.bitstamp.net/api/v2/ohlc/ltcusd/?&currency_pair=ltcusd&step=180&limit=1000&start=1623891420\n",
      "https://www.bitstamp.net/api/v2/ohlc/ltcusd/?&currency_pair=ltcusd&step=180&limit=1000&start=1624071240\n",
      "https://www.bitstamp.net/api/v2/ohlc/ltcusd/?&currency_pair=ltcusd&step=180&limit=1000&start=1624251060\n",
      "https://www.bitstamp.net/api/v2/ohlc/ltcusd/?&currency_pair=ltcusd&step=180&limit=1000&start=1624430880\n",
      "https://www.bitstamp.net/api/v2/ohlc/ltcusd/?&currency_pair=ltcusd&step=180&limit=1000&start=1624610700\n",
      "https://www.bitstamp.net/api/v2/ohlc/ltcusd/?&currency_pair=ltcusd&step=180&limit=1000&start=1624790520\n",
      "https://www.bitstamp.net/api/v2/ohlc/ltcusd/?&currency_pair=ltcusd&step=180&limit=1000&start=1624970340\n",
      "https://www.bitstamp.net/api/v2/ohlc/ltcusd/?&currency_pair=ltcusd&step=180&limit=1000&start=1625150160\n",
      "https://www.bitstamp.net/api/v2/ohlc/ltcusd/?&currency_pair=ltcusd&step=180&limit=1000&start=1625329980\n",
      "https://www.bitstamp.net/api/v2/ohlc/ltcusd/?&currency_pair=ltcusd&step=180&limit=1000&start=1625509800\n",
      "https://www.bitstamp.net/api/v2/ohlc/ltcusd/?&currency_pair=ltcusd&step=180&limit=1000&start=1625689620\n",
      "https://www.bitstamp.net/api/v2/ohlc/ltcusd/?&currency_pair=ltcusd&step=180&limit=1000&start=1625869440\n",
      "https://www.bitstamp.net/api/v2/ohlc/ltcusd/?&currency_pair=ltcusd&step=180&limit=1000&start=1626049260\n",
      "https://www.bitstamp.net/api/v2/ohlc/ltcusd/?&currency_pair=ltcusd&step=180&limit=1000&start=1626229080\n",
      "Downloaded from 2021-06-15 00:00:00 to 2021-07-15 00:03:00 131.22\n",
      "Resample 3Min - TecAn ( windows 30, windows_limit 100 )\n",
      "Processing 14415 of ltcusd\n"
     ]
    },
    {
     "data": {
      "application/vnd.jupyter.widget-view+json": {
       "model_id": "674f870fae6846ee92301405518933fb",
       "version_major": 2,
       "version_minor": 0
      },
      "text/plain": [
       "  0%|          | 0/14415 [00:00<?, ?it/s]"
      ]
     },
     "metadata": {},
     "output_type": "display_data"
    },
    {
     "name": "stdout",
     "output_type": "stream",
     "text": [
      "https://www.bitstamp.net/api/v2/ohlc/ethusd/?&currency_pair=ethusd&step=180&limit=1000&start=1623711600\n",
      "https://www.bitstamp.net/api/v2/ohlc/ethusd/?&currency_pair=ethusd&step=180&limit=1000&start=1623891420\n",
      "https://www.bitstamp.net/api/v2/ohlc/ethusd/?&currency_pair=ethusd&step=180&limit=1000&start=1624071240\n",
      "https://www.bitstamp.net/api/v2/ohlc/ethusd/?&currency_pair=ethusd&step=180&limit=1000&start=1624251060\n",
      "https://www.bitstamp.net/api/v2/ohlc/ethusd/?&currency_pair=ethusd&step=180&limit=1000&start=1624430880\n",
      "https://www.bitstamp.net/api/v2/ohlc/ethusd/?&currency_pair=ethusd&step=180&limit=1000&start=1624610700\n",
      "https://www.bitstamp.net/api/v2/ohlc/ethusd/?&currency_pair=ethusd&step=180&limit=1000&start=1624790520\n",
      "https://www.bitstamp.net/api/v2/ohlc/ethusd/?&currency_pair=ethusd&step=180&limit=1000&start=1624970340\n",
      "https://www.bitstamp.net/api/v2/ohlc/ethusd/?&currency_pair=ethusd&step=180&limit=1000&start=1625150160\n",
      "https://www.bitstamp.net/api/v2/ohlc/ethusd/?&currency_pair=ethusd&step=180&limit=1000&start=1625329980\n",
      "https://www.bitstamp.net/api/v2/ohlc/ethusd/?&currency_pair=ethusd&step=180&limit=1000&start=1625509800\n",
      "https://www.bitstamp.net/api/v2/ohlc/ethusd/?&currency_pair=ethusd&step=180&limit=1000&start=1625689620\n",
      "https://www.bitstamp.net/api/v2/ohlc/ethusd/?&currency_pair=ethusd&step=180&limit=1000&start=1625869440\n",
      "https://www.bitstamp.net/api/v2/ohlc/ethusd/?&currency_pair=ethusd&step=180&limit=1000&start=1626049260\n",
      "https://www.bitstamp.net/api/v2/ohlc/ethusd/?&currency_pair=ethusd&step=180&limit=1000&start=1626229080\n",
      "Downloaded from 2021-06-15 00:00:00 to 2021-07-15 00:03:00 2002.95\n",
      "Resample 3Min - TecAn ( windows 30, windows_limit 100 )\n",
      "Processing 14415 of ethusd\n"
     ]
    },
    {
     "data": {
      "application/vnd.jupyter.widget-view+json": {
       "model_id": "33980b24b98e44a0ba2f718173a49b95",
       "version_major": 2,
       "version_minor": 0
      },
      "text/plain": [
       "  0%|          | 0/14415 [00:00<?, ?it/s]"
      ]
     },
     "metadata": {},
     "output_type": "display_data"
    },
    {
     "name": "stdout",
     "output_type": "stream",
     "text": [
      "https://www.bitstamp.net/api/v2/ohlc/btcusd/?&currency_pair=btcusd&step=180&limit=1000&start=1623711600\n",
      "https://www.bitstamp.net/api/v2/ohlc/btcusd/?&currency_pair=btcusd&step=180&limit=1000&start=1623891420\n",
      "https://www.bitstamp.net/api/v2/ohlc/btcusd/?&currency_pair=btcusd&step=180&limit=1000&start=1624071240\n",
      "https://www.bitstamp.net/api/v2/ohlc/btcusd/?&currency_pair=btcusd&step=180&limit=1000&start=1624251060\n",
      "https://www.bitstamp.net/api/v2/ohlc/btcusd/?&currency_pair=btcusd&step=180&limit=1000&start=1624430880\n",
      "https://www.bitstamp.net/api/v2/ohlc/btcusd/?&currency_pair=btcusd&step=180&limit=1000&start=1624610700\n",
      "https://www.bitstamp.net/api/v2/ohlc/btcusd/?&currency_pair=btcusd&step=180&limit=1000&start=1624790520\n",
      "https://www.bitstamp.net/api/v2/ohlc/btcusd/?&currency_pair=btcusd&step=180&limit=1000&start=1624970340\n",
      "https://www.bitstamp.net/api/v2/ohlc/btcusd/?&currency_pair=btcusd&step=180&limit=1000&start=1625150160\n",
      "https://www.bitstamp.net/api/v2/ohlc/btcusd/?&currency_pair=btcusd&step=180&limit=1000&start=1625329980\n",
      "https://www.bitstamp.net/api/v2/ohlc/btcusd/?&currency_pair=btcusd&step=180&limit=1000&start=1625509800\n",
      "https://www.bitstamp.net/api/v2/ohlc/btcusd/?&currency_pair=btcusd&step=180&limit=1000&start=1625689620\n",
      "https://www.bitstamp.net/api/v2/ohlc/btcusd/?&currency_pair=btcusd&step=180&limit=1000&start=1625869440\n",
      "https://www.bitstamp.net/api/v2/ohlc/btcusd/?&currency_pair=btcusd&step=180&limit=1000&start=1626049260\n",
      "https://www.bitstamp.net/api/v2/ohlc/btcusd/?&currency_pair=btcusd&step=180&limit=1000&start=1626229080\n",
      "Downloaded from 2021-06-15 00:00:00 to 2021-07-15 00:03:00 32951.92\n",
      "Resample 3Min - TecAn ( windows 30, windows_limit 100 )\n",
      "Processing 14415 of btcusd\n"
     ]
    },
    {
     "data": {
      "application/vnd.jupyter.widget-view+json": {
       "model_id": "144278c152494bb585aff37df2a0635f",
       "version_major": 2,
       "version_minor": 0
      },
      "text/plain": [
       "  0%|          | 0/14415 [00:00<?, ?it/s]"
      ]
     },
     "metadata": {},
     "output_type": "display_data"
    },
    {
     "name": "stdout",
     "output_type": "stream",
     "text": [
      "https://www.bitstamp.net/api/v2/ohlc/btcusd/?&currency_pair=btcusd&step=180&limit=1000&start=1622502000\n",
      "Downloaded from 2021-06-01 00:00:00 to 2021-06-03 01:57:00 37436.78\n",
      "Resample 3Min - TecAn ( windows 40, windows_limit 100 )\n",
      "Processing 999 of btcusd\n"
     ]
    },
    {
     "data": {
      "application/vnd.jupyter.widget-view+json": {
       "model_id": "ee60e6e3e0804f9ba91e05e3ace205b6",
       "version_major": 2,
       "version_minor": 0
      },
      "text/plain": [
       "  0%|          | 0/999 [00:00<?, ?it/s]"
      ]
     },
     "metadata": {},
     "output_type": "display_data"
    },
    {
     "name": "stdout",
     "output_type": "stream",
     "text": [
      "https://www.bitstamp.net/api/v2/ohlc/ethusd/?&currency_pair=ethusd&step=180&limit=1000&start=1622502000\n",
      "Downloaded from 2021-06-01 00:00:00 to 2021-06-03 01:57:00 2702.14\n",
      "Resample 3Min - TecAn ( windows 40, windows_limit 100 )\n",
      "Processing 999 of ethusd\n"
     ]
    },
    {
     "data": {
      "application/vnd.jupyter.widget-view+json": {
       "model_id": "8e755c483acd4d60a9bd82ec0d128e2f",
       "version_major": 2,
       "version_minor": 0
      },
      "text/plain": [
       "  0%|          | 0/999 [00:00<?, ?it/s]"
      ]
     },
     "metadata": {},
     "output_type": "display_data"
    },
    {
     "name": "stdout",
     "output_type": "stream",
     "text": [
      "https://www.bitstamp.net/api/v2/ohlc/bchbtc/?&currency_pair=bchbtc&step=180&limit=1000&start=1622502000\n",
      "Downloaded from 2021-06-01 00:00:00 to 2021-06-03 01:57:00 0.01859323\n",
      "Resample 3Min - TecAn ( windows 40, windows_limit 100 )\n",
      "Processing 999 of bchbtc\n"
     ]
    },
    {
     "data": {
      "application/vnd.jupyter.widget-view+json": {
       "model_id": "7de12d4489ea4588990fbaf61fbfdabe",
       "version_major": 2,
       "version_minor": 0
      },
      "text/plain": [
       "  0%|          | 0/999 [00:00<?, ?it/s]"
      ]
     },
     "metadata": {},
     "output_type": "display_data"
    },
    {
     "name": "stdout",
     "output_type": "stream",
     "text": [
      "https://www.bitstamp.net/api/v2/ohlc/btcusd/?&currency_pair=btcusd&step=180&limit=1000&start=1590966000\n",
      "Downloaded from 2020-06-01 00:00:00 to 2020-06-03 01:57:00 9525.82\n",
      "Resample 3Min - TecAn ( windows 40, windows_limit 100 )\n",
      "Processing 999 of btcusd\n"
     ]
    },
    {
     "data": {
      "application/vnd.jupyter.widget-view+json": {
       "model_id": "6320d997ab184de9b8234cfa244bea72",
       "version_major": 2,
       "version_minor": 0
      },
      "text/plain": [
       "  0%|          | 0/999 [00:00<?, ?it/s]"
      ]
     },
     "metadata": {},
     "output_type": "display_data"
    },
    {
     "name": "stdout",
     "output_type": "stream",
     "text": [
      "https://www.bitstamp.net/api/v2/ohlc/ethusd/?&currency_pair=ethusd&step=180&limit=1000&start=1590966000\n",
      "Downloaded from 2020-06-01 00:00:00 to 2020-06-03 01:57:00 237.99\n",
      "Resample 3Min - TecAn ( windows 40, windows_limit 100 )\n",
      "Processing 999 of ethusd\n"
     ]
    },
    {
     "data": {
      "application/vnd.jupyter.widget-view+json": {
       "model_id": "e8854ba410ec43589871632626649605",
       "version_major": 2,
       "version_minor": 0
      },
      "text/plain": [
       "  0%|          | 0/999 [00:00<?, ?it/s]"
      ]
     },
     "metadata": {},
     "output_type": "display_data"
    },
    {
     "name": "stdout",
     "output_type": "stream",
     "text": [
      "https://www.bitstamp.net/api/v2/ohlc/bchbtc/?&currency_pair=bchbtc&step=180&limit=1000&start=1590966000\n",
      "Downloaded from 2020-06-01 00:00:00 to 2020-06-03 01:57:00 0.02627124\n",
      "Resample 3Min - TecAn ( windows 40, windows_limit 100 )\n",
      "Processing 999 of bchbtc\n"
     ]
    },
    {
     "data": {
      "application/vnd.jupyter.widget-view+json": {
       "model_id": "bb90e94dc0f7411ebc80fae985893d2f",
       "version_major": 2,
       "version_minor": 0
      },
      "text/plain": [
       "  0%|          | 0/999 [00:00<?, ?it/s]"
      ]
     },
     "metadata": {},
     "output_type": "display_data"
    },
    {
     "name": "stdout",
     "output_type": "stream",
     "text": [
      "https://www.bitstamp.net/api/v2/ohlc/btcusd/?&currency_pair=btcusd&step=180&limit=1000&start=1559343600\n",
      "Downloaded from 2019-06-01 00:00:00 to 2019-06-03 01:57:00 8681.59\n",
      "Resample 3Min - TecAn ( windows 40, windows_limit 100 )\n",
      "Processing 999 of btcusd\n"
     ]
    },
    {
     "data": {
      "application/vnd.jupyter.widget-view+json": {
       "model_id": "05a55ffa5ef5481c85d438d1758f6b31",
       "version_major": 2,
       "version_minor": 0
      },
      "text/plain": [
       "  0%|          | 0/999 [00:00<?, ?it/s]"
      ]
     },
     "metadata": {},
     "output_type": "display_data"
    },
    {
     "name": "stdout",
     "output_type": "stream",
     "text": [
      "https://www.bitstamp.net/api/v2/ohlc/ethusd/?&currency_pair=ethusd&step=180&limit=1000&start=1559343600\n",
      "Downloaded from 2019-06-01 00:00:00 to 2019-06-03 01:57:00 266.63\n",
      "Resample 3Min - TecAn ( windows 40, windows_limit 100 )\n",
      "Processing 999 of ethusd\n"
     ]
    },
    {
     "data": {
      "application/vnd.jupyter.widget-view+json": {
       "model_id": "4e6634c903584136b44a34ff566b2c7f",
       "version_major": 2,
       "version_minor": 0
      },
      "text/plain": [
       "  0%|          | 0/999 [00:00<?, ?it/s]"
      ]
     },
     "metadata": {},
     "output_type": "display_data"
    },
    {
     "name": "stdout",
     "output_type": "stream",
     "text": [
      "https://www.bitstamp.net/api/v2/ohlc/bchbtc/?&currency_pair=bchbtc&step=180&limit=1000&start=1559343600\n",
      "Downloaded from 2019-06-01 00:00:00 to 2019-06-03 01:57:00 0.05103076\n",
      "Resample 3Min - TecAn ( windows 40, windows_limit 100 )\n",
      "Processing 999 of bchbtc\n"
     ]
    },
    {
     "data": {
      "application/vnd.jupyter.widget-view+json": {
       "model_id": "45d2e3b25b2f4f1899db1996b75d8778",
       "version_major": 2,
       "version_minor": 0
      },
      "text/plain": [
       "  0%|          | 0/999 [00:00<?, ?it/s]"
      ]
     },
     "metadata": {},
     "output_type": "display_data"
    },
    {
     "name": "stdout",
     "output_type": "stream",
     "text": [
      "https://www.bitstamp.net/api/v2/ohlc/btcusd/?&currency_pair=btcusd&step=180&limit=1000&start=1527807600\n",
      "Downloaded from 2018-06-01 00:00:00 to 2018-06-03 01:57:00 7653.99\n",
      "Resample 3Min - TecAn ( windows 40, windows_limit 100 )\n",
      "Processing 999 of btcusd\n"
     ]
    },
    {
     "data": {
      "application/vnd.jupyter.widget-view+json": {
       "model_id": "39c73fe759c040ffa21998d6ab55c556",
       "version_major": 2,
       "version_minor": 0
      },
      "text/plain": [
       "  0%|          | 0/999 [00:00<?, ?it/s]"
      ]
     },
     "metadata": {},
     "output_type": "display_data"
    },
    {
     "name": "stdout",
     "output_type": "stream",
     "text": [
      "https://www.bitstamp.net/api/v2/ohlc/ethusd/?&currency_pair=ethusd&step=180&limit=1000&start=1527807600\n",
      "Downloaded from 2018-06-01 00:00:00 to 2018-06-03 01:57:00 592.70\n",
      "Resample 3Min - TecAn ( windows 40, windows_limit 100 )\n",
      "Processing 999 of ethusd\n"
     ]
    },
    {
     "data": {
      "application/vnd.jupyter.widget-view+json": {
       "model_id": "fb4754a2c62e45c7b04d6ebb0f7b962c",
       "version_major": 2,
       "version_minor": 0
      },
      "text/plain": [
       "  0%|          | 0/999 [00:00<?, ?it/s]"
      ]
     },
     "metadata": {},
     "output_type": "display_data"
    },
    {
     "name": "stdout",
     "output_type": "stream",
     "text": [
      "https://www.bitstamp.net/api/v2/ohlc/bchbtc/?&currency_pair=bchbtc&step=180&limit=1000&start=1527807600\n",
      "Downloaded from 2018-06-01 00:00:00 to 2018-06-03 01:57:00 0.14340000\n",
      "Resample 3Min - TecAn ( windows 40, windows_limit 100 )\n",
      "Processing 999 of bchbtc\n"
     ]
    },
    {
     "data": {
      "application/vnd.jupyter.widget-view+json": {
       "model_id": "90b83b617bdb4a299a170ef44e17f85f",
       "version_major": 2,
       "version_minor": 0
      },
      "text/plain": [
       "  0%|          | 0/999 [00:00<?, ?it/s]"
      ]
     },
     "metadata": {},
     "output_type": "display_data"
    },
    {
     "name": "stdout",
     "output_type": "stream",
     "text": [
      "https://www.bitstamp.net/api/v2/ohlc/btcusd/?&currency_pair=btcusd&step=180&limit=1000&start=1517443200\n",
      "Downloaded from 2018-02-01 00:00:00 to 2018-02-03 01:57:00 8563.00\n",
      "Resample 3Min - TecAn ( windows 40, windows_limit 100 )\n",
      "Processing 999 of btcusd\n"
     ]
    },
    {
     "data": {
      "application/vnd.jupyter.widget-view+json": {
       "model_id": "29fc71744e8c4a749e0de2dedc62bfa4",
       "version_major": 2,
       "version_minor": 0
      },
      "text/plain": [
       "  0%|          | 0/999 [00:00<?, ?it/s]"
      ]
     },
     "metadata": {},
     "output_type": "display_data"
    },
    {
     "name": "stdout",
     "output_type": "stream",
     "text": [
      "https://www.bitstamp.net/api/v2/ohlc/ethusd/?&currency_pair=ethusd&step=180&limit=1000&start=1517443200\n",
      "Downloaded from 2018-02-01 00:00:00 to 2018-02-03 01:57:00 894.06\n",
      "Resample 3Min - TecAn ( windows 40, windows_limit 100 )\n",
      "Processing 999 of ethusd\n"
     ]
    },
    {
     "data": {
      "application/vnd.jupyter.widget-view+json": {
       "model_id": "fe1a15b032944d75afda0bb4f593a1e0",
       "version_major": 2,
       "version_minor": 0
      },
      "text/plain": [
       "  0%|          | 0/999 [00:00<?, ?it/s]"
      ]
     },
     "metadata": {},
     "output_type": "display_data"
    },
    {
     "name": "stdout",
     "output_type": "stream",
     "text": [
      "https://www.bitstamp.net/api/v2/ohlc/bchbtc/?&currency_pair=bchbtc&step=180&limit=1000&start=1517443200\n",
      "Downloaded from 2018-02-01 00:00:00 to 2018-02-03 01:57:00 0.13474768\n",
      "Resample 3Min - TecAn ( windows 40, windows_limit 100 )\n",
      "Processing 999 of bchbtc\n"
     ]
    },
    {
     "data": {
      "application/vnd.jupyter.widget-view+json": {
       "model_id": "1b3e467839ad48a3aa102dc77e866e3d",
       "version_major": 2,
       "version_minor": 0
      },
      "text/plain": [
       "  0%|          | 0/999 [00:00<?, ?it/s]"
      ]
     },
     "metadata": {},
     "output_type": "display_data"
    },
    {
     "name": "stdout",
     "output_type": "stream",
     "text": [
      "https://www.bitstamp.net/api/v2/ohlc/btcusd/?&currency_pair=btcusd&step=180&limit=1000&start=1548979200\n",
      "Downloaded from 2019-02-01 00:00:00 to 2019-02-03 01:57:00 3448.32\n",
      "Resample 3Min - TecAn ( windows 40, windows_limit 100 )\n",
      "Processing 999 of btcusd\n"
     ]
    },
    {
     "data": {
      "application/vnd.jupyter.widget-view+json": {
       "model_id": "256d8ac94c6a43e1939a45905b4eb6f3",
       "version_major": 2,
       "version_minor": 0
      },
      "text/plain": [
       "  0%|          | 0/999 [00:00<?, ?it/s]"
      ]
     },
     "metadata": {},
     "output_type": "display_data"
    },
    {
     "name": "stdout",
     "output_type": "stream",
     "text": [
      "https://www.bitstamp.net/api/v2/ohlc/ethusd/?&currency_pair=ethusd&step=180&limit=1000&start=1548979200\n",
      "Downloaded from 2019-02-01 00:00:00 to 2019-02-03 01:57:00 108.63\n",
      "Resample 3Min - TecAn ( windows 40, windows_limit 100 )\n",
      "Processing 999 of ethusd\n"
     ]
    },
    {
     "data": {
      "application/vnd.jupyter.widget-view+json": {
       "model_id": "d5fda1042f3a4352ba9b6ea9369d285e",
       "version_major": 2,
       "version_minor": 0
      },
      "text/plain": [
       "  0%|          | 0/999 [00:00<?, ?it/s]"
      ]
     },
     "metadata": {},
     "output_type": "display_data"
    },
    {
     "name": "stdout",
     "output_type": "stream",
     "text": [
      "https://www.bitstamp.net/api/v2/ohlc/bchbtc/?&currency_pair=bchbtc&step=180&limit=1000&start=1548979200\n",
      "Downloaded from 2019-02-01 00:00:00 to 2019-02-03 01:57:00 0.03446717\n",
      "Resample 3Min - TecAn ( windows 40, windows_limit 100 )\n",
      "Processing 999 of bchbtc\n"
     ]
    },
    {
     "data": {
      "application/vnd.jupyter.widget-view+json": {
       "model_id": "23104f58ebf44a2fbea33cd3c7050d97",
       "version_major": 2,
       "version_minor": 0
      },
      "text/plain": [
       "  0%|          | 0/999 [00:00<?, ?it/s]"
      ]
     },
     "metadata": {},
     "output_type": "display_data"
    },
    {
     "name": "stdout",
     "output_type": "stream",
     "text": [
      "https://www.bitstamp.net/api/v2/ohlc/btcusd/?&currency_pair=btcusd&step=180&limit=1000&start=1580515200\n",
      "Downloaded from 2020-02-01 00:00:00 to 2020-02-03 01:57:00 9540.01\n",
      "Resample 3Min - TecAn ( windows 40, windows_limit 100 )\n",
      "Processing 999 of btcusd\n"
     ]
    },
    {
     "data": {
      "application/vnd.jupyter.widget-view+json": {
       "model_id": "8d9adccdec0c431f95206909b8d5770e",
       "version_major": 2,
       "version_minor": 0
      },
      "text/plain": [
       "  0%|          | 0/999 [00:00<?, ?it/s]"
      ]
     },
     "metadata": {},
     "output_type": "display_data"
    },
    {
     "name": "stdout",
     "output_type": "stream",
     "text": [
      "https://www.bitstamp.net/api/v2/ohlc/ethusd/?&currency_pair=ethusd&step=180&limit=1000&start=1580515200\n",
      "Downloaded from 2020-02-01 00:00:00 to 2020-02-03 01:57:00 193.14\n",
      "Resample 3Min - TecAn ( windows 40, windows_limit 100 )\n",
      "Processing 999 of ethusd\n"
     ]
    },
    {
     "data": {
      "application/vnd.jupyter.widget-view+json": {
       "model_id": "e075f1b669ec4446be58921aea7db584",
       "version_major": 2,
       "version_minor": 0
      },
      "text/plain": [
       "  0%|          | 0/999 [00:00<?, ?it/s]"
      ]
     },
     "metadata": {},
     "output_type": "display_data"
    },
    {
     "name": "stdout",
     "output_type": "stream",
     "text": [
      "https://www.bitstamp.net/api/v2/ohlc/bchbtc/?&currency_pair=bchbtc&step=180&limit=1000&start=1580515200\n",
      "Downloaded from 2020-02-01 00:00:00 to 2020-02-03 01:57:00 0.04080053\n",
      "Resample 3Min - TecAn ( windows 40, windows_limit 100 )\n",
      "Processing 999 of bchbtc\n"
     ]
    },
    {
     "data": {
      "application/vnd.jupyter.widget-view+json": {
       "model_id": "f4dedc8cabc44906ac4ba12361e93bbf",
       "version_major": 2,
       "version_minor": 0
      },
      "text/plain": [
       "  0%|          | 0/999 [00:00<?, ?it/s]"
      ]
     },
     "metadata": {},
     "output_type": "display_data"
    },
    {
     "name": "stdout",
     "output_type": "stream",
     "text": [
      "https://www.bitstamp.net/api/v2/ohlc/btcusd/?&currency_pair=btcusd&step=180&limit=1000&start=1612137600\n",
      "Downloaded from 2021-02-01 00:00:00 to 2021-02-03 01:57:00 35892.89\n",
      "Resample 3Min - TecAn ( windows 40, windows_limit 100 )\n",
      "Processing 999 of btcusd\n"
     ]
    },
    {
     "data": {
      "application/vnd.jupyter.widget-view+json": {
       "model_id": "3cb8a755f8714426b99339886d8fdb17",
       "version_major": 2,
       "version_minor": 0
      },
      "text/plain": [
       "  0%|          | 0/999 [00:00<?, ?it/s]"
      ]
     },
     "metadata": {},
     "output_type": "display_data"
    },
    {
     "name": "stdout",
     "output_type": "stream",
     "text": [
      "https://www.bitstamp.net/api/v2/ohlc/ethusd/?&currency_pair=ethusd&step=180&limit=1000&start=1612137600\n",
      "Downloaded from 2021-02-01 00:00:00 to 2021-02-03 01:57:00 1519.63\n",
      "Resample 3Min - TecAn ( windows 40, windows_limit 100 )\n",
      "Processing 999 of ethusd\n"
     ]
    },
    {
     "data": {
      "application/vnd.jupyter.widget-view+json": {
       "model_id": "2e860c9202364071be5584fa53ba858b",
       "version_major": 2,
       "version_minor": 0
      },
      "text/plain": [
       "  0%|          | 0/999 [00:00<?, ?it/s]"
      ]
     },
     "metadata": {},
     "output_type": "display_data"
    },
    {
     "name": "stdout",
     "output_type": "stream",
     "text": [
      "https://www.bitstamp.net/api/v2/ohlc/bchbtc/?&currency_pair=bchbtc&step=180&limit=1000&start=1612137600\n",
      "Downloaded from 2021-02-01 00:00:00 to 2021-02-03 01:57:00 0.01203272\n",
      "Resample 3Min - TecAn ( windows 40, windows_limit 100 )\n",
      "Processing 999 of bchbtc\n"
     ]
    },
    {
     "data": {
      "application/vnd.jupyter.widget-view+json": {
       "model_id": "a90d56e6820248babe14d72804b51560",
       "version_major": 2,
       "version_minor": 0
      },
      "text/plain": [
       "  0%|          | 0/999 [00:00<?, ?it/s]"
      ]
     },
     "metadata": {},
     "output_type": "display_data"
    },
    {
     "name": "stdout",
     "output_type": "stream",
     "text": [
      "https://www.bitstamp.net/api/v2/ohlc/ltceur/?&currency_pair=ltceur&step=180&limit=1000&start=1623711600\n",
      "https://www.bitstamp.net/api/v2/ohlc/ltceur/?&currency_pair=ltceur&step=180&limit=1000&start=1623891420\n",
      "https://www.bitstamp.net/api/v2/ohlc/ltceur/?&currency_pair=ltceur&step=180&limit=1000&start=1624071240\n",
      "https://www.bitstamp.net/api/v2/ohlc/ltceur/?&currency_pair=ltceur&step=180&limit=1000&start=1624251060\n",
      "https://www.bitstamp.net/api/v2/ohlc/ltceur/?&currency_pair=ltceur&step=180&limit=1000&start=1624430880\n",
      "https://www.bitstamp.net/api/v2/ohlc/ltceur/?&currency_pair=ltceur&step=180&limit=1000&start=1624610700\n",
      "https://www.bitstamp.net/api/v2/ohlc/ltceur/?&currency_pair=ltceur&step=180&limit=1000&start=1624790520\n",
      "https://www.bitstamp.net/api/v2/ohlc/ltceur/?&currency_pair=ltceur&step=180&limit=1000&start=1624970340\n",
      "https://www.bitstamp.net/api/v2/ohlc/ltceur/?&currency_pair=ltceur&step=180&limit=1000&start=1625150160\n",
      "https://www.bitstamp.net/api/v2/ohlc/ltceur/?&currency_pair=ltceur&step=180&limit=1000&start=1625329980\n",
      "https://www.bitstamp.net/api/v2/ohlc/ltceur/?&currency_pair=ltceur&step=180&limit=1000&start=1625509800\n",
      "https://www.bitstamp.net/api/v2/ohlc/ltceur/?&currency_pair=ltceur&step=180&limit=1000&start=1625689620\n",
      "https://www.bitstamp.net/api/v2/ohlc/ltceur/?&currency_pair=ltceur&step=180&limit=1000&start=1625869440\n",
      "https://www.bitstamp.net/api/v2/ohlc/ltceur/?&currency_pair=ltceur&step=180&limit=1000&start=1626049260\n",
      "https://www.bitstamp.net/api/v2/ohlc/ltceur/?&currency_pair=ltceur&step=180&limit=1000&start=1626229080\n",
      "Downloaded from 2021-06-15 00:00:00 to 2021-07-15 00:03:00 111.00\n",
      "Resample 3Min - TecAn ( windows 40, windows_limit 100 )\n",
      "Processing 14415 of ltceur\n"
     ]
    },
    {
     "data": {
      "application/vnd.jupyter.widget-view+json": {
       "model_id": "b3a85a4ac3b0413db19c7222d411b82d",
       "version_major": 2,
       "version_minor": 0
      },
      "text/plain": [
       "  0%|          | 0/14415 [00:00<?, ?it/s]"
      ]
     },
     "metadata": {},
     "output_type": "display_data"
    },
    {
     "name": "stdout",
     "output_type": "stream",
     "text": [
      "https://www.bitstamp.net/api/v2/ohlc/ltcusd/?&currency_pair=ltcusd&step=180&limit=1000&start=1623711600\n",
      "https://www.bitstamp.net/api/v2/ohlc/ltcusd/?&currency_pair=ltcusd&step=180&limit=1000&start=1623891420\n",
      "https://www.bitstamp.net/api/v2/ohlc/ltcusd/?&currency_pair=ltcusd&step=180&limit=1000&start=1624071240\n",
      "https://www.bitstamp.net/api/v2/ohlc/ltcusd/?&currency_pair=ltcusd&step=180&limit=1000&start=1624251060\n",
      "https://www.bitstamp.net/api/v2/ohlc/ltcusd/?&currency_pair=ltcusd&step=180&limit=1000&start=1624430880\n",
      "https://www.bitstamp.net/api/v2/ohlc/ltcusd/?&currency_pair=ltcusd&step=180&limit=1000&start=1624610700\n",
      "https://www.bitstamp.net/api/v2/ohlc/ltcusd/?&currency_pair=ltcusd&step=180&limit=1000&start=1624790520\n",
      "https://www.bitstamp.net/api/v2/ohlc/ltcusd/?&currency_pair=ltcusd&step=180&limit=1000&start=1624970340\n",
      "https://www.bitstamp.net/api/v2/ohlc/ltcusd/?&currency_pair=ltcusd&step=180&limit=1000&start=1625150160\n",
      "https://www.bitstamp.net/api/v2/ohlc/ltcusd/?&currency_pair=ltcusd&step=180&limit=1000&start=1625329980\n",
      "https://www.bitstamp.net/api/v2/ohlc/ltcusd/?&currency_pair=ltcusd&step=180&limit=1000&start=1625509800\n",
      "https://www.bitstamp.net/api/v2/ohlc/ltcusd/?&currency_pair=ltcusd&step=180&limit=1000&start=1625689620\n",
      "https://www.bitstamp.net/api/v2/ohlc/ltcusd/?&currency_pair=ltcusd&step=180&limit=1000&start=1625869440\n",
      "https://www.bitstamp.net/api/v2/ohlc/ltcusd/?&currency_pair=ltcusd&step=180&limit=1000&start=1626049260\n",
      "https://www.bitstamp.net/api/v2/ohlc/ltcusd/?&currency_pair=ltcusd&step=180&limit=1000&start=1626229080\n",
      "Downloaded from 2021-06-15 00:00:00 to 2021-07-15 00:03:00 131.22\n",
      "Resample 3Min - TecAn ( windows 40, windows_limit 100 )\n",
      "Processing 14415 of ltcusd\n"
     ]
    },
    {
     "data": {
      "application/vnd.jupyter.widget-view+json": {
       "model_id": "ea4097a34cb4407d8285fc2e79e350fe",
       "version_major": 2,
       "version_minor": 0
      },
      "text/plain": [
       "  0%|          | 0/14415 [00:00<?, ?it/s]"
      ]
     },
     "metadata": {},
     "output_type": "display_data"
    },
    {
     "name": "stdout",
     "output_type": "stream",
     "text": [
      "https://www.bitstamp.net/api/v2/ohlc/ethusd/?&currency_pair=ethusd&step=180&limit=1000&start=1623711600\n",
      "https://www.bitstamp.net/api/v2/ohlc/ethusd/?&currency_pair=ethusd&step=180&limit=1000&start=1623891420\n",
      "https://www.bitstamp.net/api/v2/ohlc/ethusd/?&currency_pair=ethusd&step=180&limit=1000&start=1624071240\n",
      "https://www.bitstamp.net/api/v2/ohlc/ethusd/?&currency_pair=ethusd&step=180&limit=1000&start=1624251060\n",
      "https://www.bitstamp.net/api/v2/ohlc/ethusd/?&currency_pair=ethusd&step=180&limit=1000&start=1624430880\n",
      "https://www.bitstamp.net/api/v2/ohlc/ethusd/?&currency_pair=ethusd&step=180&limit=1000&start=1624610700\n",
      "https://www.bitstamp.net/api/v2/ohlc/ethusd/?&currency_pair=ethusd&step=180&limit=1000&start=1624790520\n",
      "https://www.bitstamp.net/api/v2/ohlc/ethusd/?&currency_pair=ethusd&step=180&limit=1000&start=1624970340\n",
      "https://www.bitstamp.net/api/v2/ohlc/ethusd/?&currency_pair=ethusd&step=180&limit=1000&start=1625150160\n",
      "https://www.bitstamp.net/api/v2/ohlc/ethusd/?&currency_pair=ethusd&step=180&limit=1000&start=1625329980\n",
      "https://www.bitstamp.net/api/v2/ohlc/ethusd/?&currency_pair=ethusd&step=180&limit=1000&start=1625509800\n",
      "https://www.bitstamp.net/api/v2/ohlc/ethusd/?&currency_pair=ethusd&step=180&limit=1000&start=1625689620\n",
      "https://www.bitstamp.net/api/v2/ohlc/ethusd/?&currency_pair=ethusd&step=180&limit=1000&start=1625869440\n",
      "https://www.bitstamp.net/api/v2/ohlc/ethusd/?&currency_pair=ethusd&step=180&limit=1000&start=1626049260\n",
      "https://www.bitstamp.net/api/v2/ohlc/ethusd/?&currency_pair=ethusd&step=180&limit=1000&start=1626229080\n",
      "Downloaded from 2021-06-15 00:00:00 to 2021-07-15 00:03:00 2002.95\n",
      "Resample 3Min - TecAn ( windows 40, windows_limit 100 )\n",
      "Processing 14415 of ethusd\n"
     ]
    },
    {
     "data": {
      "application/vnd.jupyter.widget-view+json": {
       "model_id": "510dc6b41e7d4a67aed99dea4ff99138",
       "version_major": 2,
       "version_minor": 0
      },
      "text/plain": [
       "  0%|          | 0/14415 [00:00<?, ?it/s]"
      ]
     },
     "metadata": {},
     "output_type": "display_data"
    },
    {
     "name": "stdout",
     "output_type": "stream",
     "text": [
      "https://www.bitstamp.net/api/v2/ohlc/btcusd/?&currency_pair=btcusd&step=180&limit=1000&start=1623711600\n",
      "https://www.bitstamp.net/api/v2/ohlc/btcusd/?&currency_pair=btcusd&step=180&limit=1000&start=1623891420\n",
      "https://www.bitstamp.net/api/v2/ohlc/btcusd/?&currency_pair=btcusd&step=180&limit=1000&start=1624071240\n",
      "https://www.bitstamp.net/api/v2/ohlc/btcusd/?&currency_pair=btcusd&step=180&limit=1000&start=1624251060\n",
      "https://www.bitstamp.net/api/v2/ohlc/btcusd/?&currency_pair=btcusd&step=180&limit=1000&start=1624430880\n",
      "https://www.bitstamp.net/api/v2/ohlc/btcusd/?&currency_pair=btcusd&step=180&limit=1000&start=1624610700\n",
      "https://www.bitstamp.net/api/v2/ohlc/btcusd/?&currency_pair=btcusd&step=180&limit=1000&start=1624790520\n",
      "https://www.bitstamp.net/api/v2/ohlc/btcusd/?&currency_pair=btcusd&step=180&limit=1000&start=1624970340\n",
      "https://www.bitstamp.net/api/v2/ohlc/btcusd/?&currency_pair=btcusd&step=180&limit=1000&start=1625150160\n",
      "https://www.bitstamp.net/api/v2/ohlc/btcusd/?&currency_pair=btcusd&step=180&limit=1000&start=1625329980\n",
      "https://www.bitstamp.net/api/v2/ohlc/btcusd/?&currency_pair=btcusd&step=180&limit=1000&start=1625509800\n",
      "https://www.bitstamp.net/api/v2/ohlc/btcusd/?&currency_pair=btcusd&step=180&limit=1000&start=1625689620\n",
      "https://www.bitstamp.net/api/v2/ohlc/btcusd/?&currency_pair=btcusd&step=180&limit=1000&start=1625869440\n",
      "https://www.bitstamp.net/api/v2/ohlc/btcusd/?&currency_pair=btcusd&step=180&limit=1000&start=1626049260\n",
      "https://www.bitstamp.net/api/v2/ohlc/btcusd/?&currency_pair=btcusd&step=180&limit=1000&start=1626229080\n",
      "Downloaded from 2021-06-15 00:00:00 to 2021-07-15 00:03:00 32951.92\n",
      "Resample 3Min - TecAn ( windows 40, windows_limit 100 )\n",
      "Processing 14415 of btcusd\n"
     ]
    },
    {
     "data": {
      "application/vnd.jupyter.widget-view+json": {
       "model_id": "0180bd7eb60243b8826eff0e7ca03e26",
       "version_major": 2,
       "version_minor": 0
      },
      "text/plain": [
       "  0%|          | 0/14415 [00:00<?, ?it/s]"
      ]
     },
     "metadata": {},
     "output_type": "display_data"
    },
    {
     "name": "stdout",
     "output_type": "stream",
     "text": [
      "https://www.bitstamp.net/api/v2/ohlc/btcusd/?&currency_pair=btcusd&step=60&limit=1000&start=1622502000\n",
      "Downloaded from 2021-06-01 00:00:00 to 2021-06-01 16:39:00 36197.21\n",
      "Resample 1Min - TecAn ( windows 5, windows_limit 100 )\n",
      "Processing 999 of btcusd\n"
     ]
    },
    {
     "data": {
      "application/vnd.jupyter.widget-view+json": {
       "model_id": "4282a08bf28147b39345dad76ac0ed32",
       "version_major": 2,
       "version_minor": 0
      },
      "text/plain": [
       "  0%|          | 0/999 [00:00<?, ?it/s]"
      ]
     },
     "metadata": {},
     "output_type": "display_data"
    },
    {
     "name": "stdout",
     "output_type": "stream",
     "text": [
      "https://www.bitstamp.net/api/v2/ohlc/ethusd/?&currency_pair=ethusd&step=60&limit=1000&start=1622502000\n",
      "Downloaded from 2021-06-01 00:00:00 to 2021-06-01 16:39:00 2570.77\n",
      "Resample 1Min - TecAn ( windows 5, windows_limit 100 )\n",
      "Processing 999 of ethusd\n"
     ]
    },
    {
     "data": {
      "application/vnd.jupyter.widget-view+json": {
       "model_id": "35c97f4280504bc1b1e465aa7e1c343d",
       "version_major": 2,
       "version_minor": 0
      },
      "text/plain": [
       "  0%|          | 0/999 [00:00<?, ?it/s]"
      ]
     },
     "metadata": {},
     "output_type": "display_data"
    },
    {
     "name": "stdout",
     "output_type": "stream",
     "text": [
      "https://www.bitstamp.net/api/v2/ohlc/bchbtc/?&currency_pair=bchbtc&step=60&limit=1000&start=1622502000\n",
      "Downloaded from 2021-06-01 00:00:00 to 2021-06-01 16:39:00 0.01879888\n",
      "Resample 1Min - TecAn ( windows 5, windows_limit 100 )\n",
      "Processing 999 of bchbtc\n"
     ]
    },
    {
     "data": {
      "application/vnd.jupyter.widget-view+json": {
       "model_id": "f84570f23a724a91bf917045954522ac",
       "version_major": 2,
       "version_minor": 0
      },
      "text/plain": [
       "  0%|          | 0/999 [00:00<?, ?it/s]"
      ]
     },
     "metadata": {},
     "output_type": "display_data"
    },
    {
     "name": "stdout",
     "output_type": "stream",
     "text": [
      "https://www.bitstamp.net/api/v2/ohlc/btcusd/?&currency_pair=btcusd&step=60&limit=1000&start=1590966000\n",
      "Downloaded from 2020-06-01 00:00:00 to 2020-06-01 16:39:00 9542.01\n",
      "Resample 1Min - TecAn ( windows 5, windows_limit 100 )\n",
      "Processing 999 of btcusd\n"
     ]
    },
    {
     "data": {
      "application/vnd.jupyter.widget-view+json": {
       "model_id": "403ba14353bd46c494f1e216642a6dc4",
       "version_major": 2,
       "version_minor": 0
      },
      "text/plain": [
       "  0%|          | 0/999 [00:00<?, ?it/s]"
      ]
     },
     "metadata": {},
     "output_type": "display_data"
    },
    {
     "name": "stdout",
     "output_type": "stream",
     "text": [
      "https://www.bitstamp.net/api/v2/ohlc/ethusd/?&currency_pair=ethusd&step=60&limit=1000&start=1590966000\n",
      "Downloaded from 2020-06-01 00:00:00 to 2020-06-01 16:39:00 238.00\n",
      "Resample 1Min - TecAn ( windows 5, windows_limit 100 )\n",
      "Processing 999 of ethusd\n"
     ]
    },
    {
     "data": {
      "application/vnd.jupyter.widget-view+json": {
       "model_id": "b609c30ad85a4e68a339d8b2a582b35e",
       "version_major": 2,
       "version_minor": 0
      },
      "text/plain": [
       "  0%|          | 0/999 [00:00<?, ?it/s]"
      ]
     },
     "metadata": {},
     "output_type": "display_data"
    },
    {
     "name": "stdout",
     "output_type": "stream",
     "text": [
      "https://www.bitstamp.net/api/v2/ohlc/bchbtc/?&currency_pair=bchbtc&step=60&limit=1000&start=1590966000\n",
      "Downloaded from 2020-06-01 00:00:00 to 2020-06-01 16:39:00 0.02548768\n",
      "Resample 1Min - TecAn ( windows 5, windows_limit 100 )\n",
      "Processing 999 of bchbtc\n"
     ]
    },
    {
     "data": {
      "application/vnd.jupyter.widget-view+json": {
       "model_id": "3bd688862bc5412aa6a546011e6dc017",
       "version_major": 2,
       "version_minor": 0
      },
      "text/plain": [
       "  0%|          | 0/999 [00:00<?, ?it/s]"
      ]
     },
     "metadata": {},
     "output_type": "display_data"
    },
    {
     "name": "stdout",
     "output_type": "stream",
     "text": [
      "https://www.bitstamp.net/api/v2/ohlc/btcusd/?&currency_pair=btcusd&step=60&limit=1000&start=1559343600\n",
      "Downloaded from 2019-06-01 00:00:00 to 2019-06-01 16:39:00 8532.29\n",
      "Resample 1Min - TecAn ( windows 5, windows_limit 100 )\n",
      "Processing 999 of btcusd\n"
     ]
    },
    {
     "data": {
      "application/vnd.jupyter.widget-view+json": {
       "model_id": "dbf7399f054e43588480533835500b76",
       "version_major": 2,
       "version_minor": 0
      },
      "text/plain": [
       "  0%|          | 0/999 [00:00<?, ?it/s]"
      ]
     },
     "metadata": {},
     "output_type": "display_data"
    },
    {
     "name": "stdout",
     "output_type": "stream",
     "text": [
      "https://www.bitstamp.net/api/v2/ohlc/ethusd/?&currency_pair=ethusd&step=60&limit=1000&start=1559343600\n",
      "Downloaded from 2019-06-01 00:00:00 to 2019-06-01 16:39:00 264.88\n",
      "Resample 1Min - TecAn ( windows 5, windows_limit 100 )\n",
      "Processing 999 of ethusd\n"
     ]
    },
    {
     "data": {
      "application/vnd.jupyter.widget-view+json": {
       "model_id": "c10b9bd227ef4e869606b578e0989ab1",
       "version_major": 2,
       "version_minor": 0
      },
      "text/plain": [
       "  0%|          | 0/999 [00:00<?, ?it/s]"
      ]
     },
     "metadata": {},
     "output_type": "display_data"
    },
    {
     "name": "stdout",
     "output_type": "stream",
     "text": [
      "https://www.bitstamp.net/api/v2/ohlc/bchbtc/?&currency_pair=bchbtc&step=60&limit=1000&start=1559343600\n",
      "Downloaded from 2019-06-01 00:00:00 to 2019-06-01 16:39:00 0.05072740\n",
      "Resample 1Min - TecAn ( windows 5, windows_limit 100 )\n",
      "Processing 999 of bchbtc\n"
     ]
    },
    {
     "data": {
      "application/vnd.jupyter.widget-view+json": {
       "model_id": "820105ce5ef74b97992cf30212044ff4",
       "version_major": 2,
       "version_minor": 0
      },
      "text/plain": [
       "  0%|          | 0/999 [00:00<?, ?it/s]"
      ]
     },
     "metadata": {},
     "output_type": "display_data"
    },
    {
     "name": "stdout",
     "output_type": "stream",
     "text": [
      "https://www.bitstamp.net/api/v2/ohlc/btcusd/?&currency_pair=btcusd&step=60&limit=1000&start=1527807600\n",
      "Downloaded from 2018-06-01 00:00:00 to 2018-06-01 16:39:00 7437.99\n",
      "Resample 1Min - TecAn ( windows 5, windows_limit 100 )\n",
      "Processing 999 of btcusd\n"
     ]
    },
    {
     "data": {
      "application/vnd.jupyter.widget-view+json": {
       "model_id": "b69f8536da9347379addbc47c640fddb",
       "version_major": 2,
       "version_minor": 0
      },
      "text/plain": [
       "  0%|          | 0/999 [00:00<?, ?it/s]"
      ]
     },
     "metadata": {},
     "output_type": "display_data"
    },
    {
     "name": "stdout",
     "output_type": "stream",
     "text": [
      "https://www.bitstamp.net/api/v2/ohlc/ethusd/?&currency_pair=ethusd&step=60&limit=1000&start=1527807600\n",
      "Downloaded from 2018-06-01 00:00:00 to 2018-06-01 16:39:00 573.99\n",
      "Resample 1Min - TecAn ( windows 5, windows_limit 100 )\n",
      "Processing 999 of ethusd\n"
     ]
    },
    {
     "data": {
      "application/vnd.jupyter.widget-view+json": {
       "model_id": "a8c4e568f6f64474afffc3d037c6e462",
       "version_major": 2,
       "version_minor": 0
      },
      "text/plain": [
       "  0%|          | 0/999 [00:00<?, ?it/s]"
      ]
     },
     "metadata": {},
     "output_type": "display_data"
    },
    {
     "name": "stdout",
     "output_type": "stream",
     "text": [
      "https://www.bitstamp.net/api/v2/ohlc/bchbtc/?&currency_pair=bchbtc&step=60&limit=1000&start=1527807600\n",
      "Downloaded from 2018-06-01 00:00:00 to 2018-06-01 16:39:00 0.13303776\n",
      "Resample 1Min - TecAn ( windows 5, windows_limit 100 )\n",
      "Processing 999 of bchbtc\n"
     ]
    },
    {
     "data": {
      "application/vnd.jupyter.widget-view+json": {
       "model_id": "f2ee1d3247d5472294f3111f1ef3a228",
       "version_major": 2,
       "version_minor": 0
      },
      "text/plain": [
       "  0%|          | 0/999 [00:00<?, ?it/s]"
      ]
     },
     "metadata": {},
     "output_type": "display_data"
    },
    {
     "name": "stdout",
     "output_type": "stream",
     "text": [
      "https://www.bitstamp.net/api/v2/ohlc/btcusd/?&currency_pair=btcusd&step=60&limit=1000&start=1517443200\n",
      "Downloaded from 2018-02-01 00:00:00 to 2018-02-01 16:39:00 8850.34\n",
      "Resample 1Min - TecAn ( windows 5, windows_limit 100 )\n",
      "Processing 999 of btcusd\n"
     ]
    },
    {
     "data": {
      "application/vnd.jupyter.widget-view+json": {
       "model_id": "afaeec12cac640efb8396958c5b0e614",
       "version_major": 2,
       "version_minor": 0
      },
      "text/plain": [
       "  0%|          | 0/999 [00:00<?, ?it/s]"
      ]
     },
     "metadata": {},
     "output_type": "display_data"
    },
    {
     "name": "stdout",
     "output_type": "stream",
     "text": [
      "https://www.bitstamp.net/api/v2/ohlc/ethusd/?&currency_pair=ethusd&step=60&limit=1000&start=1517443200\n",
      "Downloaded from 2018-02-01 00:00:00 to 2018-02-01 16:39:00 1005.89\n",
      "Resample 1Min - TecAn ( windows 5, windows_limit 100 )\n",
      "Processing 999 of ethusd\n"
     ]
    },
    {
     "data": {
      "application/vnd.jupyter.widget-view+json": {
       "model_id": "f753628d304e44918cb26490163f83cb",
       "version_major": 2,
       "version_minor": 0
      },
      "text/plain": [
       "  0%|          | 0/999 [00:00<?, ?it/s]"
      ]
     },
     "metadata": {},
     "output_type": "display_data"
    },
    {
     "name": "stdout",
     "output_type": "stream",
     "text": [
      "https://www.bitstamp.net/api/v2/ohlc/bchbtc/?&currency_pair=bchbtc&step=60&limit=1000&start=1517443200\n",
      "Downloaded from 2018-02-01 00:00:00 to 2018-02-01 16:39:00 0.14180730\n",
      "Resample 1Min - TecAn ( windows 5, windows_limit 100 )\n",
      "Processing 999 of bchbtc\n"
     ]
    },
    {
     "data": {
      "application/vnd.jupyter.widget-view+json": {
       "model_id": "04e606542ed5415288e3b1179bbea778",
       "version_major": 2,
       "version_minor": 0
      },
      "text/plain": [
       "  0%|          | 0/999 [00:00<?, ?it/s]"
      ]
     },
     "metadata": {},
     "output_type": "display_data"
    },
    {
     "name": "stdout",
     "output_type": "stream",
     "text": [
      "https://www.bitstamp.net/api/v2/ohlc/btcusd/?&currency_pair=btcusd&step=60&limit=1000&start=1548979200\n",
      "Downloaded from 2019-02-01 00:00:00 to 2019-02-01 16:39:00 3423.18\n",
      "Resample 1Min - TecAn ( windows 5, windows_limit 100 )\n",
      "Processing 999 of btcusd\n"
     ]
    },
    {
     "data": {
      "application/vnd.jupyter.widget-view+json": {
       "model_id": "4b5236334ca840a885c1a416ea4558d6",
       "version_major": 2,
       "version_minor": 0
      },
      "text/plain": [
       "  0%|          | 0/999 [00:00<?, ?it/s]"
      ]
     },
     "metadata": {},
     "output_type": "display_data"
    },
    {
     "name": "stdout",
     "output_type": "stream",
     "text": [
      "https://www.bitstamp.net/api/v2/ohlc/ethusd/?&currency_pair=ethusd&step=60&limit=1000&start=1548979200\n",
      "Downloaded from 2019-02-01 00:00:00 to 2019-02-01 16:39:00 105.36\n",
      "Resample 1Min - TecAn ( windows 5, windows_limit 100 )\n",
      "Processing 999 of ethusd\n"
     ]
    },
    {
     "data": {
      "application/vnd.jupyter.widget-view+json": {
       "model_id": "e7e243ffd1ae48ddad21c831b78892c6",
       "version_major": 2,
       "version_minor": 0
      },
      "text/plain": [
       "  0%|          | 0/999 [00:00<?, ?it/s]"
      ]
     },
     "metadata": {},
     "output_type": "display_data"
    },
    {
     "name": "stdout",
     "output_type": "stream",
     "text": [
      "https://www.bitstamp.net/api/v2/ohlc/bchbtc/?&currency_pair=bchbtc&step=60&limit=1000&start=1548979200\n",
      "Downloaded from 2019-02-01 00:00:00 to 2019-02-01 16:39:00 0.03348000\n",
      "Resample 1Min - TecAn ( windows 5, windows_limit 100 )\n",
      "Processing 999 of bchbtc\n"
     ]
    },
    {
     "data": {
      "application/vnd.jupyter.widget-view+json": {
       "model_id": "54c6f5c3022841949eaaa3c5e859a6ca",
       "version_major": 2,
       "version_minor": 0
      },
      "text/plain": [
       "  0%|          | 0/999 [00:00<?, ?it/s]"
      ]
     },
     "metadata": {},
     "output_type": "display_data"
    },
    {
     "name": "stdout",
     "output_type": "stream",
     "text": [
      "https://www.bitstamp.net/api/v2/ohlc/btcusd/?&currency_pair=btcusd&step=60&limit=1000&start=1580515200\n",
      "Downloaded from 2020-02-01 00:00:00 to 2020-02-01 16:39:00 9360.98\n",
      "Resample 1Min - TecAn ( windows 5, windows_limit 100 )\n",
      "Processing 999 of btcusd\n"
     ]
    },
    {
     "data": {
      "application/vnd.jupyter.widget-view+json": {
       "model_id": "ef4df7387fdd4624a79ad8866710fef8",
       "version_major": 2,
       "version_minor": 0
      },
      "text/plain": [
       "  0%|          | 0/999 [00:00<?, ?it/s]"
      ]
     },
     "metadata": {},
     "output_type": "display_data"
    },
    {
     "name": "stdout",
     "output_type": "stream",
     "text": [
      "https://www.bitstamp.net/api/v2/ohlc/ethusd/?&currency_pair=ethusd&step=60&limit=1000&start=1580515200\n",
      "Downloaded from 2020-02-01 00:00:00 to 2020-02-01 16:39:00 182.90\n",
      "Resample 1Min - TecAn ( windows 5, windows_limit 100 )\n",
      "Processing 999 of ethusd\n"
     ]
    },
    {
     "data": {
      "application/vnd.jupyter.widget-view+json": {
       "model_id": "49088c0ad3874e13934b44a0808d257d",
       "version_major": 2,
       "version_minor": 0
      },
      "text/plain": [
       "  0%|          | 0/999 [00:00<?, ?it/s]"
      ]
     },
     "metadata": {},
     "output_type": "display_data"
    },
    {
     "name": "stdout",
     "output_type": "stream",
     "text": [
      "https://www.bitstamp.net/api/v2/ohlc/bchbtc/?&currency_pair=bchbtc&step=60&limit=1000&start=1580515200\n",
      "Downloaded from 2020-02-01 00:00:00 to 2020-02-01 16:39:00 0.04063856\n",
      "Resample 1Min - TecAn ( windows 5, windows_limit 100 )\n",
      "Processing 999 of bchbtc\n"
     ]
    },
    {
     "data": {
      "application/vnd.jupyter.widget-view+json": {
       "model_id": "d2fcccf9193d451e98bfb8339f44ab8b",
       "version_major": 2,
       "version_minor": 0
      },
      "text/plain": [
       "  0%|          | 0/999 [00:00<?, ?it/s]"
      ]
     },
     "metadata": {},
     "output_type": "display_data"
    },
    {
     "name": "stdout",
     "output_type": "stream",
     "text": [
      "https://www.bitstamp.net/api/v2/ohlc/btcusd/?&currency_pair=btcusd&step=60&limit=1000&start=1612137600\n",
      "Downloaded from 2021-02-01 00:00:00 to 2021-02-01 16:39:00 33368.98\n",
      "Resample 1Min - TecAn ( windows 5, windows_limit 100 )\n",
      "Processing 999 of btcusd\n"
     ]
    },
    {
     "data": {
      "application/vnd.jupyter.widget-view+json": {
       "model_id": "ad39656adcdb4e80989f2d276174d728",
       "version_major": 2,
       "version_minor": 0
      },
      "text/plain": [
       "  0%|          | 0/999 [00:00<?, ?it/s]"
      ]
     },
     "metadata": {},
     "output_type": "display_data"
    },
    {
     "name": "stdout",
     "output_type": "stream",
     "text": [
      "https://www.bitstamp.net/api/v2/ohlc/ethusd/?&currency_pair=ethusd&step=60&limit=1000&start=1612137600\n",
      "Downloaded from 2021-02-01 00:00:00 to 2021-02-01 16:39:00 1309.56\n",
      "Resample 1Min - TecAn ( windows 5, windows_limit 100 )\n",
      "Processing 999 of ethusd\n"
     ]
    },
    {
     "data": {
      "application/vnd.jupyter.widget-view+json": {
       "model_id": "29e63f6dd9704dffa5e12cb961e4dfd1",
       "version_major": 2,
       "version_minor": 0
      },
      "text/plain": [
       "  0%|          | 0/999 [00:00<?, ?it/s]"
      ]
     },
     "metadata": {},
     "output_type": "display_data"
    },
    {
     "name": "stdout",
     "output_type": "stream",
     "text": [
      "https://www.bitstamp.net/api/v2/ohlc/bchbtc/?&currency_pair=bchbtc&step=60&limit=1000&start=1612137600\n",
      "Downloaded from 2021-02-01 00:00:00 to 2021-02-01 16:39:00 0.01226651\n",
      "Resample 1Min - TecAn ( windows 5, windows_limit 100 )\n",
      "Processing 999 of bchbtc\n"
     ]
    },
    {
     "data": {
      "application/vnd.jupyter.widget-view+json": {
       "model_id": "ea198f8da10f4fa6b3e185123addce52",
       "version_major": 2,
       "version_minor": 0
      },
      "text/plain": [
       "  0%|          | 0/999 [00:00<?, ?it/s]"
      ]
     },
     "metadata": {},
     "output_type": "display_data"
    },
    {
     "name": "stdout",
     "output_type": "stream",
     "text": [
      "https://www.bitstamp.net/api/v2/ohlc/ltceur/?&currency_pair=ltceur&step=60&limit=1000&start=1623711600\n",
      "https://www.bitstamp.net/api/v2/ohlc/ltceur/?&currency_pair=ltceur&step=60&limit=1000&start=1623771540\n",
      "https://www.bitstamp.net/api/v2/ohlc/ltceur/?&currency_pair=ltceur&step=60&limit=1000&start=1623831480\n",
      "https://www.bitstamp.net/api/v2/ohlc/ltceur/?&currency_pair=ltceur&step=60&limit=1000&start=1623891420\n",
      "https://www.bitstamp.net/api/v2/ohlc/ltceur/?&currency_pair=ltceur&step=60&limit=1000&start=1623951360\n",
      "https://www.bitstamp.net/api/v2/ohlc/ltceur/?&currency_pair=ltceur&step=60&limit=1000&start=1624011300\n",
      "https://www.bitstamp.net/api/v2/ohlc/ltceur/?&currency_pair=ltceur&step=60&limit=1000&start=1624071240\n",
      "https://www.bitstamp.net/api/v2/ohlc/ltceur/?&currency_pair=ltceur&step=60&limit=1000&start=1624131180\n",
      "https://www.bitstamp.net/api/v2/ohlc/ltceur/?&currency_pair=ltceur&step=60&limit=1000&start=1624191120\n",
      "https://www.bitstamp.net/api/v2/ohlc/ltceur/?&currency_pair=ltceur&step=60&limit=1000&start=1624251060\n",
      "https://www.bitstamp.net/api/v2/ohlc/ltceur/?&currency_pair=ltceur&step=60&limit=1000&start=1624311000\n",
      "https://www.bitstamp.net/api/v2/ohlc/ltceur/?&currency_pair=ltceur&step=60&limit=1000&start=1624370940\n",
      "https://www.bitstamp.net/api/v2/ohlc/ltceur/?&currency_pair=ltceur&step=60&limit=1000&start=1624430880\n",
      "https://www.bitstamp.net/api/v2/ohlc/ltceur/?&currency_pair=ltceur&step=60&limit=1000&start=1624490820\n",
      "https://www.bitstamp.net/api/v2/ohlc/ltceur/?&currency_pair=ltceur&step=60&limit=1000&start=1624550760\n",
      "https://www.bitstamp.net/api/v2/ohlc/ltceur/?&currency_pair=ltceur&step=60&limit=1000&start=1624610700\n",
      "https://www.bitstamp.net/api/v2/ohlc/ltceur/?&currency_pair=ltceur&step=60&limit=1000&start=1624670640\n",
      "https://www.bitstamp.net/api/v2/ohlc/ltceur/?&currency_pair=ltceur&step=60&limit=1000&start=1624730580\n",
      "https://www.bitstamp.net/api/v2/ohlc/ltceur/?&currency_pair=ltceur&step=60&limit=1000&start=1624790520\n",
      "https://www.bitstamp.net/api/v2/ohlc/ltceur/?&currency_pair=ltceur&step=60&limit=1000&start=1624850460\n",
      "https://www.bitstamp.net/api/v2/ohlc/ltceur/?&currency_pair=ltceur&step=60&limit=1000&start=1624910400\n",
      "https://www.bitstamp.net/api/v2/ohlc/ltceur/?&currency_pair=ltceur&step=60&limit=1000&start=1624970340\n",
      "https://www.bitstamp.net/api/v2/ohlc/ltceur/?&currency_pair=ltceur&step=60&limit=1000&start=1625030280\n",
      "https://www.bitstamp.net/api/v2/ohlc/ltceur/?&currency_pair=ltceur&step=60&limit=1000&start=1625090220\n",
      "https://www.bitstamp.net/api/v2/ohlc/ltceur/?&currency_pair=ltceur&step=60&limit=1000&start=1625150160\n",
      "https://www.bitstamp.net/api/v2/ohlc/ltceur/?&currency_pair=ltceur&step=60&limit=1000&start=1625210100\n",
      "https://www.bitstamp.net/api/v2/ohlc/ltceur/?&currency_pair=ltceur&step=60&limit=1000&start=1625270040\n",
      "https://www.bitstamp.net/api/v2/ohlc/ltceur/?&currency_pair=ltceur&step=60&limit=1000&start=1625329980\n",
      "https://www.bitstamp.net/api/v2/ohlc/ltceur/?&currency_pair=ltceur&step=60&limit=1000&start=1625389920\n",
      "https://www.bitstamp.net/api/v2/ohlc/ltceur/?&currency_pair=ltceur&step=60&limit=1000&start=1625449860\n",
      "https://www.bitstamp.net/api/v2/ohlc/ltceur/?&currency_pair=ltceur&step=60&limit=1000&start=1625509800\n",
      "https://www.bitstamp.net/api/v2/ohlc/ltceur/?&currency_pair=ltceur&step=60&limit=1000&start=1625569740\n",
      "https://www.bitstamp.net/api/v2/ohlc/ltceur/?&currency_pair=ltceur&step=60&limit=1000&start=1625629680\n",
      "https://www.bitstamp.net/api/v2/ohlc/ltceur/?&currency_pair=ltceur&step=60&limit=1000&start=1625689620\n",
      "https://www.bitstamp.net/api/v2/ohlc/ltceur/?&currency_pair=ltceur&step=60&limit=1000&start=1625749560\n",
      "https://www.bitstamp.net/api/v2/ohlc/ltceur/?&currency_pair=ltceur&step=60&limit=1000&start=1625809500\n",
      "https://www.bitstamp.net/api/v2/ohlc/ltceur/?&currency_pair=ltceur&step=60&limit=1000&start=1625869440\n",
      "https://www.bitstamp.net/api/v2/ohlc/ltceur/?&currency_pair=ltceur&step=60&limit=1000&start=1625929380\n",
      "https://www.bitstamp.net/api/v2/ohlc/ltceur/?&currency_pair=ltceur&step=60&limit=1000&start=1625989320\n",
      "https://www.bitstamp.net/api/v2/ohlc/ltceur/?&currency_pair=ltceur&step=60&limit=1000&start=1626049260\n",
      "https://www.bitstamp.net/api/v2/ohlc/ltceur/?&currency_pair=ltceur&step=60&limit=1000&start=1626109200\n",
      "https://www.bitstamp.net/api/v2/ohlc/ltceur/?&currency_pair=ltceur&step=60&limit=1000&start=1626169140\n",
      "https://www.bitstamp.net/api/v2/ohlc/ltceur/?&currency_pair=ltceur&step=60&limit=1000&start=1626229080\n",
      "https://www.bitstamp.net/api/v2/ohlc/ltceur/?&currency_pair=ltceur&step=60&limit=1000&start=1626289020\n",
      "Downloaded from 2021-06-15 00:00:00 to 2021-07-15 00:01:00 111.20\n",
      "Resample 1Min - TecAn ( windows 5, windows_limit 100 )\n",
      "Processing 43244 of ltceur\n"
     ]
    },
    {
     "data": {
      "application/vnd.jupyter.widget-view+json": {
       "model_id": "4f6ae58c6a9e497d808dad215dc1c113",
       "version_major": 2,
       "version_minor": 0
      },
      "text/plain": [
       "  0%|          | 0/43244 [00:00<?, ?it/s]"
      ]
     },
     "metadata": {},
     "output_type": "display_data"
    },
    {
     "name": "stdout",
     "output_type": "stream",
     "text": [
      "https://www.bitstamp.net/api/v2/ohlc/ltcusd/?&currency_pair=ltcusd&step=60&limit=1000&start=1623711600\n",
      "https://www.bitstamp.net/api/v2/ohlc/ltcusd/?&currency_pair=ltcusd&step=60&limit=1000&start=1623771540\n",
      "https://www.bitstamp.net/api/v2/ohlc/ltcusd/?&currency_pair=ltcusd&step=60&limit=1000&start=1623831480\n",
      "https://www.bitstamp.net/api/v2/ohlc/ltcusd/?&currency_pair=ltcusd&step=60&limit=1000&start=1623891420\n",
      "https://www.bitstamp.net/api/v2/ohlc/ltcusd/?&currency_pair=ltcusd&step=60&limit=1000&start=1623951360\n",
      "https://www.bitstamp.net/api/v2/ohlc/ltcusd/?&currency_pair=ltcusd&step=60&limit=1000&start=1624011300\n",
      "https://www.bitstamp.net/api/v2/ohlc/ltcusd/?&currency_pair=ltcusd&step=60&limit=1000&start=1624071240\n",
      "https://www.bitstamp.net/api/v2/ohlc/ltcusd/?&currency_pair=ltcusd&step=60&limit=1000&start=1624131180\n",
      "https://www.bitstamp.net/api/v2/ohlc/ltcusd/?&currency_pair=ltcusd&step=60&limit=1000&start=1624191120\n",
      "https://www.bitstamp.net/api/v2/ohlc/ltcusd/?&currency_pair=ltcusd&step=60&limit=1000&start=1624251060\n",
      "https://www.bitstamp.net/api/v2/ohlc/ltcusd/?&currency_pair=ltcusd&step=60&limit=1000&start=1624311000\n",
      "https://www.bitstamp.net/api/v2/ohlc/ltcusd/?&currency_pair=ltcusd&step=60&limit=1000&start=1624370940\n",
      "https://www.bitstamp.net/api/v2/ohlc/ltcusd/?&currency_pair=ltcusd&step=60&limit=1000&start=1624430880\n",
      "https://www.bitstamp.net/api/v2/ohlc/ltcusd/?&currency_pair=ltcusd&step=60&limit=1000&start=1624490820\n",
      "https://www.bitstamp.net/api/v2/ohlc/ltcusd/?&currency_pair=ltcusd&step=60&limit=1000&start=1624550760\n",
      "https://www.bitstamp.net/api/v2/ohlc/ltcusd/?&currency_pair=ltcusd&step=60&limit=1000&start=1624610700\n",
      "https://www.bitstamp.net/api/v2/ohlc/ltcusd/?&currency_pair=ltcusd&step=60&limit=1000&start=1624670640\n",
      "https://www.bitstamp.net/api/v2/ohlc/ltcusd/?&currency_pair=ltcusd&step=60&limit=1000&start=1624730580\n",
      "https://www.bitstamp.net/api/v2/ohlc/ltcusd/?&currency_pair=ltcusd&step=60&limit=1000&start=1624790520\n",
      "https://www.bitstamp.net/api/v2/ohlc/ltcusd/?&currency_pair=ltcusd&step=60&limit=1000&start=1624850460\n",
      "https://www.bitstamp.net/api/v2/ohlc/ltcusd/?&currency_pair=ltcusd&step=60&limit=1000&start=1624910400\n",
      "https://www.bitstamp.net/api/v2/ohlc/ltcusd/?&currency_pair=ltcusd&step=60&limit=1000&start=1624970340\n",
      "https://www.bitstamp.net/api/v2/ohlc/ltcusd/?&currency_pair=ltcusd&step=60&limit=1000&start=1625030280\n",
      "https://www.bitstamp.net/api/v2/ohlc/ltcusd/?&currency_pair=ltcusd&step=60&limit=1000&start=1625090220\n",
      "https://www.bitstamp.net/api/v2/ohlc/ltcusd/?&currency_pair=ltcusd&step=60&limit=1000&start=1625150160\n",
      "https://www.bitstamp.net/api/v2/ohlc/ltcusd/?&currency_pair=ltcusd&step=60&limit=1000&start=1625210100\n",
      "https://www.bitstamp.net/api/v2/ohlc/ltcusd/?&currency_pair=ltcusd&step=60&limit=1000&start=1625270040\n",
      "https://www.bitstamp.net/api/v2/ohlc/ltcusd/?&currency_pair=ltcusd&step=60&limit=1000&start=1625329980\n",
      "https://www.bitstamp.net/api/v2/ohlc/ltcusd/?&currency_pair=ltcusd&step=60&limit=1000&start=1625389920\n",
      "https://www.bitstamp.net/api/v2/ohlc/ltcusd/?&currency_pair=ltcusd&step=60&limit=1000&start=1625449860\n",
      "https://www.bitstamp.net/api/v2/ohlc/ltcusd/?&currency_pair=ltcusd&step=60&limit=1000&start=1625509800\n",
      "https://www.bitstamp.net/api/v2/ohlc/ltcusd/?&currency_pair=ltcusd&step=60&limit=1000&start=1625569740\n",
      "https://www.bitstamp.net/api/v2/ohlc/ltcusd/?&currency_pair=ltcusd&step=60&limit=1000&start=1625629680\n",
      "https://www.bitstamp.net/api/v2/ohlc/ltcusd/?&currency_pair=ltcusd&step=60&limit=1000&start=1625689620\n",
      "https://www.bitstamp.net/api/v2/ohlc/ltcusd/?&currency_pair=ltcusd&step=60&limit=1000&start=1625749560\n",
      "https://www.bitstamp.net/api/v2/ohlc/ltcusd/?&currency_pair=ltcusd&step=60&limit=1000&start=1625809500\n",
      "https://www.bitstamp.net/api/v2/ohlc/ltcusd/?&currency_pair=ltcusd&step=60&limit=1000&start=1625869440\n",
      "https://www.bitstamp.net/api/v2/ohlc/ltcusd/?&currency_pair=ltcusd&step=60&limit=1000&start=1625929380\n",
      "https://www.bitstamp.net/api/v2/ohlc/ltcusd/?&currency_pair=ltcusd&step=60&limit=1000&start=1625989320\n",
      "https://www.bitstamp.net/api/v2/ohlc/ltcusd/?&currency_pair=ltcusd&step=60&limit=1000&start=1626049260\n",
      "https://www.bitstamp.net/api/v2/ohlc/ltcusd/?&currency_pair=ltcusd&step=60&limit=1000&start=1626109200\n",
      "https://www.bitstamp.net/api/v2/ohlc/ltcusd/?&currency_pair=ltcusd&step=60&limit=1000&start=1626169140\n",
      "https://www.bitstamp.net/api/v2/ohlc/ltcusd/?&currency_pair=ltcusd&step=60&limit=1000&start=1626229080\n",
      "https://www.bitstamp.net/api/v2/ohlc/ltcusd/?&currency_pair=ltcusd&step=60&limit=1000&start=1626289020\n",
      "Downloaded from 2021-06-15 00:00:00 to 2021-07-15 00:01:00 131.43\n",
      "Resample 1Min - TecAn ( windows 5, windows_limit 100 )\n",
      "Processing 43244 of ltcusd\n"
     ]
    },
    {
     "data": {
      "application/vnd.jupyter.widget-view+json": {
       "model_id": "11e67e0f45ca4c039479ebdb598bb0be",
       "version_major": 2,
       "version_minor": 0
      },
      "text/plain": [
       "  0%|          | 0/43244 [00:00<?, ?it/s]"
      ]
     },
     "metadata": {},
     "output_type": "display_data"
    },
    {
     "name": "stdout",
     "output_type": "stream",
     "text": [
      "https://www.bitstamp.net/api/v2/ohlc/ethusd/?&currency_pair=ethusd&step=60&limit=1000&start=1623711600\n",
      "https://www.bitstamp.net/api/v2/ohlc/ethusd/?&currency_pair=ethusd&step=60&limit=1000&start=1623771540\n",
      "https://www.bitstamp.net/api/v2/ohlc/ethusd/?&currency_pair=ethusd&step=60&limit=1000&start=1623831480\n",
      "https://www.bitstamp.net/api/v2/ohlc/ethusd/?&currency_pair=ethusd&step=60&limit=1000&start=1623891420\n",
      "https://www.bitstamp.net/api/v2/ohlc/ethusd/?&currency_pair=ethusd&step=60&limit=1000&start=1623951360\n",
      "https://www.bitstamp.net/api/v2/ohlc/ethusd/?&currency_pair=ethusd&step=60&limit=1000&start=1624011300\n",
      "https://www.bitstamp.net/api/v2/ohlc/ethusd/?&currency_pair=ethusd&step=60&limit=1000&start=1624071240\n",
      "https://www.bitstamp.net/api/v2/ohlc/ethusd/?&currency_pair=ethusd&step=60&limit=1000&start=1624131180\n",
      "https://www.bitstamp.net/api/v2/ohlc/ethusd/?&currency_pair=ethusd&step=60&limit=1000&start=1624191120\n",
      "https://www.bitstamp.net/api/v2/ohlc/ethusd/?&currency_pair=ethusd&step=60&limit=1000&start=1624251060\n",
      "https://www.bitstamp.net/api/v2/ohlc/ethusd/?&currency_pair=ethusd&step=60&limit=1000&start=1624311000\n",
      "https://www.bitstamp.net/api/v2/ohlc/ethusd/?&currency_pair=ethusd&step=60&limit=1000&start=1624370940\n",
      "https://www.bitstamp.net/api/v2/ohlc/ethusd/?&currency_pair=ethusd&step=60&limit=1000&start=1624430880\n",
      "https://www.bitstamp.net/api/v2/ohlc/ethusd/?&currency_pair=ethusd&step=60&limit=1000&start=1624490820\n",
      "https://www.bitstamp.net/api/v2/ohlc/ethusd/?&currency_pair=ethusd&step=60&limit=1000&start=1624550760\n",
      "https://www.bitstamp.net/api/v2/ohlc/ethusd/?&currency_pair=ethusd&step=60&limit=1000&start=1624610700\n",
      "https://www.bitstamp.net/api/v2/ohlc/ethusd/?&currency_pair=ethusd&step=60&limit=1000&start=1624670640\n",
      "https://www.bitstamp.net/api/v2/ohlc/ethusd/?&currency_pair=ethusd&step=60&limit=1000&start=1624730580\n",
      "https://www.bitstamp.net/api/v2/ohlc/ethusd/?&currency_pair=ethusd&step=60&limit=1000&start=1624790520\n",
      "https://www.bitstamp.net/api/v2/ohlc/ethusd/?&currency_pair=ethusd&step=60&limit=1000&start=1624850460\n",
      "https://www.bitstamp.net/api/v2/ohlc/ethusd/?&currency_pair=ethusd&step=60&limit=1000&start=1624910400\n",
      "https://www.bitstamp.net/api/v2/ohlc/ethusd/?&currency_pair=ethusd&step=60&limit=1000&start=1624970340\n",
      "https://www.bitstamp.net/api/v2/ohlc/ethusd/?&currency_pair=ethusd&step=60&limit=1000&start=1625030280\n",
      "https://www.bitstamp.net/api/v2/ohlc/ethusd/?&currency_pair=ethusd&step=60&limit=1000&start=1625090220\n",
      "https://www.bitstamp.net/api/v2/ohlc/ethusd/?&currency_pair=ethusd&step=60&limit=1000&start=1625150160\n",
      "https://www.bitstamp.net/api/v2/ohlc/ethusd/?&currency_pair=ethusd&step=60&limit=1000&start=1625210100\n",
      "https://www.bitstamp.net/api/v2/ohlc/ethusd/?&currency_pair=ethusd&step=60&limit=1000&start=1625270040\n",
      "https://www.bitstamp.net/api/v2/ohlc/ethusd/?&currency_pair=ethusd&step=60&limit=1000&start=1625329980\n",
      "https://www.bitstamp.net/api/v2/ohlc/ethusd/?&currency_pair=ethusd&step=60&limit=1000&start=1625389920\n",
      "https://www.bitstamp.net/api/v2/ohlc/ethusd/?&currency_pair=ethusd&step=60&limit=1000&start=1625449860\n",
      "https://www.bitstamp.net/api/v2/ohlc/ethusd/?&currency_pair=ethusd&step=60&limit=1000&start=1625509800\n",
      "https://www.bitstamp.net/api/v2/ohlc/ethusd/?&currency_pair=ethusd&step=60&limit=1000&start=1625569740\n",
      "https://www.bitstamp.net/api/v2/ohlc/ethusd/?&currency_pair=ethusd&step=60&limit=1000&start=1625629680\n",
      "https://www.bitstamp.net/api/v2/ohlc/ethusd/?&currency_pair=ethusd&step=60&limit=1000&start=1625689620\n",
      "https://www.bitstamp.net/api/v2/ohlc/ethusd/?&currency_pair=ethusd&step=60&limit=1000&start=1625749560\n",
      "https://www.bitstamp.net/api/v2/ohlc/ethusd/?&currency_pair=ethusd&step=60&limit=1000&start=1625809500\n",
      "https://www.bitstamp.net/api/v2/ohlc/ethusd/?&currency_pair=ethusd&step=60&limit=1000&start=1625869440\n",
      "https://www.bitstamp.net/api/v2/ohlc/ethusd/?&currency_pair=ethusd&step=60&limit=1000&start=1625929380\n",
      "https://www.bitstamp.net/api/v2/ohlc/ethusd/?&currency_pair=ethusd&step=60&limit=1000&start=1625989320\n",
      "https://www.bitstamp.net/api/v2/ohlc/ethusd/?&currency_pair=ethusd&step=60&limit=1000&start=1626049260\n",
      "https://www.bitstamp.net/api/v2/ohlc/ethusd/?&currency_pair=ethusd&step=60&limit=1000&start=1626109200\n",
      "https://www.bitstamp.net/api/v2/ohlc/ethusd/?&currency_pair=ethusd&step=60&limit=1000&start=1626169140\n",
      "https://www.bitstamp.net/api/v2/ohlc/ethusd/?&currency_pair=ethusd&step=60&limit=1000&start=1626229080\n",
      "https://www.bitstamp.net/api/v2/ohlc/ethusd/?&currency_pair=ethusd&step=60&limit=1000&start=1626289020\n",
      "Downloaded from 2021-06-15 00:00:00 to 2021-07-15 00:01:00 2005.98\n",
      "Resample 1Min - TecAn ( windows 5, windows_limit 100 )\n",
      "Processing 43244 of ethusd\n"
     ]
    },
    {
     "data": {
      "application/vnd.jupyter.widget-view+json": {
       "model_id": "f092e653fc144ed6955f422a0a583460",
       "version_major": 2,
       "version_minor": 0
      },
      "text/plain": [
       "  0%|          | 0/43244 [00:00<?, ?it/s]"
      ]
     },
     "metadata": {},
     "output_type": "display_data"
    },
    {
     "name": "stdout",
     "output_type": "stream",
     "text": [
      "https://www.bitstamp.net/api/v2/ohlc/btcusd/?&currency_pair=btcusd&step=60&limit=1000&start=1623711600\n",
      "https://www.bitstamp.net/api/v2/ohlc/btcusd/?&currency_pair=btcusd&step=60&limit=1000&start=1623771540\n",
      "https://www.bitstamp.net/api/v2/ohlc/btcusd/?&currency_pair=btcusd&step=60&limit=1000&start=1623831480\n",
      "https://www.bitstamp.net/api/v2/ohlc/btcusd/?&currency_pair=btcusd&step=60&limit=1000&start=1623891420\n",
      "https://www.bitstamp.net/api/v2/ohlc/btcusd/?&currency_pair=btcusd&step=60&limit=1000&start=1623951360\n",
      "https://www.bitstamp.net/api/v2/ohlc/btcusd/?&currency_pair=btcusd&step=60&limit=1000&start=1624011300\n",
      "https://www.bitstamp.net/api/v2/ohlc/btcusd/?&currency_pair=btcusd&step=60&limit=1000&start=1624071240\n",
      "https://www.bitstamp.net/api/v2/ohlc/btcusd/?&currency_pair=btcusd&step=60&limit=1000&start=1624131180\n",
      "https://www.bitstamp.net/api/v2/ohlc/btcusd/?&currency_pair=btcusd&step=60&limit=1000&start=1624191120\n",
      "https://www.bitstamp.net/api/v2/ohlc/btcusd/?&currency_pair=btcusd&step=60&limit=1000&start=1624251060\n",
      "https://www.bitstamp.net/api/v2/ohlc/btcusd/?&currency_pair=btcusd&step=60&limit=1000&start=1624311000\n",
      "https://www.bitstamp.net/api/v2/ohlc/btcusd/?&currency_pair=btcusd&step=60&limit=1000&start=1624370940\n",
      "https://www.bitstamp.net/api/v2/ohlc/btcusd/?&currency_pair=btcusd&step=60&limit=1000&start=1624430880\n",
      "https://www.bitstamp.net/api/v2/ohlc/btcusd/?&currency_pair=btcusd&step=60&limit=1000&start=1624490820\n",
      "https://www.bitstamp.net/api/v2/ohlc/btcusd/?&currency_pair=btcusd&step=60&limit=1000&start=1624550760\n",
      "https://www.bitstamp.net/api/v2/ohlc/btcusd/?&currency_pair=btcusd&step=60&limit=1000&start=1624610700\n",
      "https://www.bitstamp.net/api/v2/ohlc/btcusd/?&currency_pair=btcusd&step=60&limit=1000&start=1624670640\n",
      "https://www.bitstamp.net/api/v2/ohlc/btcusd/?&currency_pair=btcusd&step=60&limit=1000&start=1624730580\n",
      "https://www.bitstamp.net/api/v2/ohlc/btcusd/?&currency_pair=btcusd&step=60&limit=1000&start=1624790520\n",
      "https://www.bitstamp.net/api/v2/ohlc/btcusd/?&currency_pair=btcusd&step=60&limit=1000&start=1624850460\n",
      "https://www.bitstamp.net/api/v2/ohlc/btcusd/?&currency_pair=btcusd&step=60&limit=1000&start=1624910400\n",
      "https://www.bitstamp.net/api/v2/ohlc/btcusd/?&currency_pair=btcusd&step=60&limit=1000&start=1624970340\n",
      "https://www.bitstamp.net/api/v2/ohlc/btcusd/?&currency_pair=btcusd&step=60&limit=1000&start=1625030280\n",
      "https://www.bitstamp.net/api/v2/ohlc/btcusd/?&currency_pair=btcusd&step=60&limit=1000&start=1625090220\n",
      "https://www.bitstamp.net/api/v2/ohlc/btcusd/?&currency_pair=btcusd&step=60&limit=1000&start=1625150160\n",
      "https://www.bitstamp.net/api/v2/ohlc/btcusd/?&currency_pair=btcusd&step=60&limit=1000&start=1625210100\n",
      "https://www.bitstamp.net/api/v2/ohlc/btcusd/?&currency_pair=btcusd&step=60&limit=1000&start=1625270040\n",
      "https://www.bitstamp.net/api/v2/ohlc/btcusd/?&currency_pair=btcusd&step=60&limit=1000&start=1625329980\n",
      "https://www.bitstamp.net/api/v2/ohlc/btcusd/?&currency_pair=btcusd&step=60&limit=1000&start=1625389920\n",
      "https://www.bitstamp.net/api/v2/ohlc/btcusd/?&currency_pair=btcusd&step=60&limit=1000&start=1625449860\n",
      "https://www.bitstamp.net/api/v2/ohlc/btcusd/?&currency_pair=btcusd&step=60&limit=1000&start=1625509800\n",
      "https://www.bitstamp.net/api/v2/ohlc/btcusd/?&currency_pair=btcusd&step=60&limit=1000&start=1625569740\n",
      "https://www.bitstamp.net/api/v2/ohlc/btcusd/?&currency_pair=btcusd&step=60&limit=1000&start=1625629680\n",
      "https://www.bitstamp.net/api/v2/ohlc/btcusd/?&currency_pair=btcusd&step=60&limit=1000&start=1625689620\n",
      "https://www.bitstamp.net/api/v2/ohlc/btcusd/?&currency_pair=btcusd&step=60&limit=1000&start=1625749560\n",
      "https://www.bitstamp.net/api/v2/ohlc/btcusd/?&currency_pair=btcusd&step=60&limit=1000&start=1625809500\n",
      "https://www.bitstamp.net/api/v2/ohlc/btcusd/?&currency_pair=btcusd&step=60&limit=1000&start=1625869440\n",
      "https://www.bitstamp.net/api/v2/ohlc/btcusd/?&currency_pair=btcusd&step=60&limit=1000&start=1625929380\n",
      "https://www.bitstamp.net/api/v2/ohlc/btcusd/?&currency_pair=btcusd&step=60&limit=1000&start=1625989320\n",
      "https://www.bitstamp.net/api/v2/ohlc/btcusd/?&currency_pair=btcusd&step=60&limit=1000&start=1626049260\n",
      "https://www.bitstamp.net/api/v2/ohlc/btcusd/?&currency_pair=btcusd&step=60&limit=1000&start=1626109200\n",
      "https://www.bitstamp.net/api/v2/ohlc/btcusd/?&currency_pair=btcusd&step=60&limit=1000&start=1626169140\n",
      "https://www.bitstamp.net/api/v2/ohlc/btcusd/?&currency_pair=btcusd&step=60&limit=1000&start=1626229080\n",
      "https://www.bitstamp.net/api/v2/ohlc/btcusd/?&currency_pair=btcusd&step=60&limit=1000&start=1626289020\n",
      "Downloaded from 2021-06-15 00:00:00 to 2021-07-15 00:01:00 32987.01\n",
      "Resample 1Min - TecAn ( windows 5, windows_limit 100 )\n",
      "Processing 43244 of btcusd\n"
     ]
    },
    {
     "data": {
      "application/vnd.jupyter.widget-view+json": {
       "model_id": "9e87138c58db4466b5c279ec2f256aa3",
       "version_major": 2,
       "version_minor": 0
      },
      "text/plain": [
       "  0%|          | 0/43244 [00:00<?, ?it/s]"
      ]
     },
     "metadata": {},
     "output_type": "display_data"
    },
    {
     "name": "stdout",
     "output_type": "stream",
     "text": [
      "https://www.bitstamp.net/api/v2/ohlc/btcusd/?&currency_pair=btcusd&step=60&limit=1000&start=1622502000\n",
      "Downloaded from 2021-06-01 00:00:00 to 2021-06-01 16:39:00 36197.21\n",
      "Resample 1Min - TecAn ( windows 10, windows_limit 100 )\n",
      "Processing 999 of btcusd\n"
     ]
    },
    {
     "data": {
      "application/vnd.jupyter.widget-view+json": {
       "model_id": "f70561576e7b415096c43225ea282b4a",
       "version_major": 2,
       "version_minor": 0
      },
      "text/plain": [
       "  0%|          | 0/999 [00:00<?, ?it/s]"
      ]
     },
     "metadata": {},
     "output_type": "display_data"
    },
    {
     "name": "stdout",
     "output_type": "stream",
     "text": [
      "https://www.bitstamp.net/api/v2/ohlc/ethusd/?&currency_pair=ethusd&step=60&limit=1000&start=1622502000\n",
      "Downloaded from 2021-06-01 00:00:00 to 2021-06-01 16:39:00 2570.77\n",
      "Resample 1Min - TecAn ( windows 10, windows_limit 100 )\n",
      "Processing 999 of ethusd\n"
     ]
    },
    {
     "data": {
      "application/vnd.jupyter.widget-view+json": {
       "model_id": "1dcea98dbd134a5fb590af8d7aebbef9",
       "version_major": 2,
       "version_minor": 0
      },
      "text/plain": [
       "  0%|          | 0/999 [00:00<?, ?it/s]"
      ]
     },
     "metadata": {},
     "output_type": "display_data"
    },
    {
     "name": "stdout",
     "output_type": "stream",
     "text": [
      "https://www.bitstamp.net/api/v2/ohlc/bchbtc/?&currency_pair=bchbtc&step=60&limit=1000&start=1622502000\n",
      "Downloaded from 2021-06-01 00:00:00 to 2021-06-01 16:39:00 0.01879888\n",
      "Resample 1Min - TecAn ( windows 10, windows_limit 100 )\n",
      "Processing 999 of bchbtc\n"
     ]
    },
    {
     "data": {
      "application/vnd.jupyter.widget-view+json": {
       "model_id": "d755fb4a4a99431cb02faa4a6bc483ae",
       "version_major": 2,
       "version_minor": 0
      },
      "text/plain": [
       "  0%|          | 0/999 [00:00<?, ?it/s]"
      ]
     },
     "metadata": {},
     "output_type": "display_data"
    },
    {
     "name": "stdout",
     "output_type": "stream",
     "text": [
      "https://www.bitstamp.net/api/v2/ohlc/btcusd/?&currency_pair=btcusd&step=60&limit=1000&start=1590966000\n",
      "Downloaded from 2020-06-01 00:00:00 to 2020-06-01 16:39:00 9542.01\n",
      "Resample 1Min - TecAn ( windows 10, windows_limit 100 )\n",
      "Processing 999 of btcusd\n"
     ]
    },
    {
     "data": {
      "application/vnd.jupyter.widget-view+json": {
       "model_id": "ba0fe16b87b24c9cb1d41ac487d0c302",
       "version_major": 2,
       "version_minor": 0
      },
      "text/plain": [
       "  0%|          | 0/999 [00:00<?, ?it/s]"
      ]
     },
     "metadata": {},
     "output_type": "display_data"
    },
    {
     "name": "stdout",
     "output_type": "stream",
     "text": [
      "https://www.bitstamp.net/api/v2/ohlc/ethusd/?&currency_pair=ethusd&step=60&limit=1000&start=1590966000\n",
      "Downloaded from 2020-06-01 00:00:00 to 2020-06-01 16:39:00 238.00\n",
      "Resample 1Min - TecAn ( windows 10, windows_limit 100 )\n",
      "Processing 999 of ethusd\n"
     ]
    },
    {
     "data": {
      "application/vnd.jupyter.widget-view+json": {
       "model_id": "5edf390f919c448582326ef822bb0cea",
       "version_major": 2,
       "version_minor": 0
      },
      "text/plain": [
       "  0%|          | 0/999 [00:00<?, ?it/s]"
      ]
     },
     "metadata": {},
     "output_type": "display_data"
    },
    {
     "name": "stdout",
     "output_type": "stream",
     "text": [
      "https://www.bitstamp.net/api/v2/ohlc/bchbtc/?&currency_pair=bchbtc&step=60&limit=1000&start=1590966000\n",
      "Downloaded from 2020-06-01 00:00:00 to 2020-06-01 16:39:00 0.02548768\n",
      "Resample 1Min - TecAn ( windows 10, windows_limit 100 )\n",
      "Processing 999 of bchbtc\n"
     ]
    },
    {
     "data": {
      "application/vnd.jupyter.widget-view+json": {
       "model_id": "5bd4ed323a764012a3c534f542b638d7",
       "version_major": 2,
       "version_minor": 0
      },
      "text/plain": [
       "  0%|          | 0/999 [00:00<?, ?it/s]"
      ]
     },
     "metadata": {},
     "output_type": "display_data"
    },
    {
     "name": "stdout",
     "output_type": "stream",
     "text": [
      "https://www.bitstamp.net/api/v2/ohlc/btcusd/?&currency_pair=btcusd&step=60&limit=1000&start=1559343600\n",
      "Downloaded from 2019-06-01 00:00:00 to 2019-06-01 16:39:00 8532.29\n",
      "Resample 1Min - TecAn ( windows 10, windows_limit 100 )\n",
      "Processing 999 of btcusd\n"
     ]
    },
    {
     "data": {
      "application/vnd.jupyter.widget-view+json": {
       "model_id": "b5672798ed46485598da05cb8a8ab3b7",
       "version_major": 2,
       "version_minor": 0
      },
      "text/plain": [
       "  0%|          | 0/999 [00:00<?, ?it/s]"
      ]
     },
     "metadata": {},
     "output_type": "display_data"
    },
    {
     "name": "stdout",
     "output_type": "stream",
     "text": [
      "https://www.bitstamp.net/api/v2/ohlc/ethusd/?&currency_pair=ethusd&step=60&limit=1000&start=1559343600\n",
      "Downloaded from 2019-06-01 00:00:00 to 2019-06-01 16:39:00 264.88\n",
      "Resample 1Min - TecAn ( windows 10, windows_limit 100 )\n",
      "Processing 999 of ethusd\n"
     ]
    },
    {
     "data": {
      "application/vnd.jupyter.widget-view+json": {
       "model_id": "98983515ca1b44269e09b69b63a66381",
       "version_major": 2,
       "version_minor": 0
      },
      "text/plain": [
       "  0%|          | 0/999 [00:00<?, ?it/s]"
      ]
     },
     "metadata": {},
     "output_type": "display_data"
    },
    {
     "name": "stdout",
     "output_type": "stream",
     "text": [
      "https://www.bitstamp.net/api/v2/ohlc/bchbtc/?&currency_pair=bchbtc&step=60&limit=1000&start=1559343600\n",
      "Downloaded from 2019-06-01 00:00:00 to 2019-06-01 16:39:00 0.05072740\n",
      "Resample 1Min - TecAn ( windows 10, windows_limit 100 )\n",
      "Processing 999 of bchbtc\n"
     ]
    },
    {
     "data": {
      "application/vnd.jupyter.widget-view+json": {
       "model_id": "3cc3e8182e9e47ed8bbe0fd668779010",
       "version_major": 2,
       "version_minor": 0
      },
      "text/plain": [
       "  0%|          | 0/999 [00:00<?, ?it/s]"
      ]
     },
     "metadata": {},
     "output_type": "display_data"
    },
    {
     "name": "stdout",
     "output_type": "stream",
     "text": [
      "https://www.bitstamp.net/api/v2/ohlc/btcusd/?&currency_pair=btcusd&step=60&limit=1000&start=1527807600\n",
      "Downloaded from 2018-06-01 00:00:00 to 2018-06-01 16:39:00 7437.99\n",
      "Resample 1Min - TecAn ( windows 10, windows_limit 100 )\n",
      "Processing 999 of btcusd\n"
     ]
    },
    {
     "data": {
      "application/vnd.jupyter.widget-view+json": {
       "model_id": "d92df94c83ed449da74349fec6de7cd8",
       "version_major": 2,
       "version_minor": 0
      },
      "text/plain": [
       "  0%|          | 0/999 [00:00<?, ?it/s]"
      ]
     },
     "metadata": {},
     "output_type": "display_data"
    },
    {
     "name": "stdout",
     "output_type": "stream",
     "text": [
      "https://www.bitstamp.net/api/v2/ohlc/ethusd/?&currency_pair=ethusd&step=60&limit=1000&start=1527807600\n",
      "Downloaded from 2018-06-01 00:00:00 to 2018-06-01 16:39:00 573.99\n",
      "Resample 1Min - TecAn ( windows 10, windows_limit 100 )\n",
      "Processing 999 of ethusd\n"
     ]
    },
    {
     "data": {
      "application/vnd.jupyter.widget-view+json": {
       "model_id": "f6a53a10dfad44fab51e4c740fa6c413",
       "version_major": 2,
       "version_minor": 0
      },
      "text/plain": [
       "  0%|          | 0/999 [00:00<?, ?it/s]"
      ]
     },
     "metadata": {},
     "output_type": "display_data"
    },
    {
     "name": "stdout",
     "output_type": "stream",
     "text": [
      "https://www.bitstamp.net/api/v2/ohlc/bchbtc/?&currency_pair=bchbtc&step=60&limit=1000&start=1527807600\n",
      "Downloaded from 2018-06-01 00:00:00 to 2018-06-01 16:39:00 0.13303776\n",
      "Resample 1Min - TecAn ( windows 10, windows_limit 100 )\n",
      "Processing 999 of bchbtc\n"
     ]
    },
    {
     "data": {
      "application/vnd.jupyter.widget-view+json": {
       "model_id": "0cd9d5c1ab164bcc9447b09b18f18f34",
       "version_major": 2,
       "version_minor": 0
      },
      "text/plain": [
       "  0%|          | 0/999 [00:00<?, ?it/s]"
      ]
     },
     "metadata": {},
     "output_type": "display_data"
    },
    {
     "name": "stdout",
     "output_type": "stream",
     "text": [
      "https://www.bitstamp.net/api/v2/ohlc/btcusd/?&currency_pair=btcusd&step=60&limit=1000&start=1517443200\n",
      "Downloaded from 2018-02-01 00:00:00 to 2018-02-01 16:39:00 8850.34\n",
      "Resample 1Min - TecAn ( windows 10, windows_limit 100 )\n",
      "Processing 999 of btcusd\n"
     ]
    },
    {
     "data": {
      "application/vnd.jupyter.widget-view+json": {
       "model_id": "7d28e92f156445a282299304f8868f24",
       "version_major": 2,
       "version_minor": 0
      },
      "text/plain": [
       "  0%|          | 0/999 [00:00<?, ?it/s]"
      ]
     },
     "metadata": {},
     "output_type": "display_data"
    },
    {
     "name": "stdout",
     "output_type": "stream",
     "text": [
      "https://www.bitstamp.net/api/v2/ohlc/ethusd/?&currency_pair=ethusd&step=60&limit=1000&start=1517443200\n",
      "Downloaded from 2018-02-01 00:00:00 to 2018-02-01 16:39:00 1005.89\n",
      "Resample 1Min - TecAn ( windows 10, windows_limit 100 )\n",
      "Processing 999 of ethusd\n"
     ]
    },
    {
     "data": {
      "application/vnd.jupyter.widget-view+json": {
       "model_id": "8c85124309794713b7f041e74cd41a2f",
       "version_major": 2,
       "version_minor": 0
      },
      "text/plain": [
       "  0%|          | 0/999 [00:00<?, ?it/s]"
      ]
     },
     "metadata": {},
     "output_type": "display_data"
    },
    {
     "name": "stdout",
     "output_type": "stream",
     "text": [
      "https://www.bitstamp.net/api/v2/ohlc/bchbtc/?&currency_pair=bchbtc&step=60&limit=1000&start=1517443200\n",
      "Downloaded from 2018-02-01 00:00:00 to 2018-02-01 16:39:00 0.14180730\n",
      "Resample 1Min - TecAn ( windows 10, windows_limit 100 )\n",
      "Processing 999 of bchbtc\n"
     ]
    },
    {
     "data": {
      "application/vnd.jupyter.widget-view+json": {
       "model_id": "cf8ed44c0b08453182adad8557cc10d4",
       "version_major": 2,
       "version_minor": 0
      },
      "text/plain": [
       "  0%|          | 0/999 [00:00<?, ?it/s]"
      ]
     },
     "metadata": {},
     "output_type": "display_data"
    },
    {
     "name": "stdout",
     "output_type": "stream",
     "text": [
      "https://www.bitstamp.net/api/v2/ohlc/btcusd/?&currency_pair=btcusd&step=60&limit=1000&start=1548979200\n",
      "Downloaded from 2019-02-01 00:00:00 to 2019-02-01 16:39:00 3423.18\n",
      "Resample 1Min - TecAn ( windows 10, windows_limit 100 )\n",
      "Processing 999 of btcusd\n"
     ]
    },
    {
     "data": {
      "application/vnd.jupyter.widget-view+json": {
       "model_id": "ad1c3a2ef7e94f5b872058474c5d8a9f",
       "version_major": 2,
       "version_minor": 0
      },
      "text/plain": [
       "  0%|          | 0/999 [00:00<?, ?it/s]"
      ]
     },
     "metadata": {},
     "output_type": "display_data"
    },
    {
     "name": "stdout",
     "output_type": "stream",
     "text": [
      "https://www.bitstamp.net/api/v2/ohlc/ethusd/?&currency_pair=ethusd&step=60&limit=1000&start=1548979200\n",
      "Downloaded from 2019-02-01 00:00:00 to 2019-02-01 16:39:00 105.36\n",
      "Resample 1Min - TecAn ( windows 10, windows_limit 100 )\n",
      "Processing 999 of ethusd\n"
     ]
    },
    {
     "data": {
      "application/vnd.jupyter.widget-view+json": {
       "model_id": "3cfffd5d9db649de8201c73fc11a522f",
       "version_major": 2,
       "version_minor": 0
      },
      "text/plain": [
       "  0%|          | 0/999 [00:00<?, ?it/s]"
      ]
     },
     "metadata": {},
     "output_type": "display_data"
    },
    {
     "name": "stdout",
     "output_type": "stream",
     "text": [
      "https://www.bitstamp.net/api/v2/ohlc/bchbtc/?&currency_pair=bchbtc&step=60&limit=1000&start=1548979200\n",
      "Downloaded from 2019-02-01 00:00:00 to 2019-02-01 16:39:00 0.03348000\n",
      "Resample 1Min - TecAn ( windows 10, windows_limit 100 )\n",
      "Processing 999 of bchbtc\n"
     ]
    },
    {
     "data": {
      "application/vnd.jupyter.widget-view+json": {
       "model_id": "72c898bf7196459ea603c156ebb6d017",
       "version_major": 2,
       "version_minor": 0
      },
      "text/plain": [
       "  0%|          | 0/999 [00:00<?, ?it/s]"
      ]
     },
     "metadata": {},
     "output_type": "display_data"
    },
    {
     "name": "stdout",
     "output_type": "stream",
     "text": [
      "https://www.bitstamp.net/api/v2/ohlc/btcusd/?&currency_pair=btcusd&step=60&limit=1000&start=1580515200\n",
      "Downloaded from 2020-02-01 00:00:00 to 2020-02-01 16:39:00 9360.98\n",
      "Resample 1Min - TecAn ( windows 10, windows_limit 100 )\n",
      "Processing 999 of btcusd\n"
     ]
    },
    {
     "data": {
      "application/vnd.jupyter.widget-view+json": {
       "model_id": "32815f38691f413a9a4f6e0cfa4063ab",
       "version_major": 2,
       "version_minor": 0
      },
      "text/plain": [
       "  0%|          | 0/999 [00:00<?, ?it/s]"
      ]
     },
     "metadata": {},
     "output_type": "display_data"
    },
    {
     "name": "stdout",
     "output_type": "stream",
     "text": [
      "https://www.bitstamp.net/api/v2/ohlc/ethusd/?&currency_pair=ethusd&step=60&limit=1000&start=1580515200\n",
      "Downloaded from 2020-02-01 00:00:00 to 2020-02-01 16:39:00 182.90\n",
      "Resample 1Min - TecAn ( windows 10, windows_limit 100 )\n",
      "Processing 999 of ethusd\n"
     ]
    },
    {
     "data": {
      "application/vnd.jupyter.widget-view+json": {
       "model_id": "0a119a662de14881be05859d09498405",
       "version_major": 2,
       "version_minor": 0
      },
      "text/plain": [
       "  0%|          | 0/999 [00:00<?, ?it/s]"
      ]
     },
     "metadata": {},
     "output_type": "display_data"
    },
    {
     "name": "stdout",
     "output_type": "stream",
     "text": [
      "https://www.bitstamp.net/api/v2/ohlc/bchbtc/?&currency_pair=bchbtc&step=60&limit=1000&start=1580515200\n",
      "Downloaded from 2020-02-01 00:00:00 to 2020-02-01 16:39:00 0.04063856\n",
      "Resample 1Min - TecAn ( windows 10, windows_limit 100 )\n",
      "Processing 999 of bchbtc\n"
     ]
    },
    {
     "data": {
      "application/vnd.jupyter.widget-view+json": {
       "model_id": "bbe6615b349d4b50b3353c8b83683df2",
       "version_major": 2,
       "version_minor": 0
      },
      "text/plain": [
       "  0%|          | 0/999 [00:00<?, ?it/s]"
      ]
     },
     "metadata": {},
     "output_type": "display_data"
    },
    {
     "name": "stdout",
     "output_type": "stream",
     "text": [
      "https://www.bitstamp.net/api/v2/ohlc/btcusd/?&currency_pair=btcusd&step=60&limit=1000&start=1612137600\n",
      "Downloaded from 2021-02-01 00:00:00 to 2021-02-01 16:39:00 33368.98\n",
      "Resample 1Min - TecAn ( windows 10, windows_limit 100 )\n",
      "Processing 999 of btcusd\n"
     ]
    },
    {
     "data": {
      "application/vnd.jupyter.widget-view+json": {
       "model_id": "af0d0437826d4e9b8512be18f6c6b8ef",
       "version_major": 2,
       "version_minor": 0
      },
      "text/plain": [
       "  0%|          | 0/999 [00:00<?, ?it/s]"
      ]
     },
     "metadata": {},
     "output_type": "display_data"
    },
    {
     "name": "stdout",
     "output_type": "stream",
     "text": [
      "https://www.bitstamp.net/api/v2/ohlc/ethusd/?&currency_pair=ethusd&step=60&limit=1000&start=1612137600\n",
      "Downloaded from 2021-02-01 00:00:00 to 2021-02-01 16:39:00 1309.56\n",
      "Resample 1Min - TecAn ( windows 10, windows_limit 100 )\n",
      "Processing 999 of ethusd\n"
     ]
    },
    {
     "data": {
      "application/vnd.jupyter.widget-view+json": {
       "model_id": "1e08806732f441168d3eb3d779f64fcb",
       "version_major": 2,
       "version_minor": 0
      },
      "text/plain": [
       "  0%|          | 0/999 [00:00<?, ?it/s]"
      ]
     },
     "metadata": {},
     "output_type": "display_data"
    },
    {
     "name": "stdout",
     "output_type": "stream",
     "text": [
      "https://www.bitstamp.net/api/v2/ohlc/bchbtc/?&currency_pair=bchbtc&step=60&limit=1000&start=1612137600\n",
      "Downloaded from 2021-02-01 00:00:00 to 2021-02-01 16:39:00 0.01226651\n",
      "Resample 1Min - TecAn ( windows 10, windows_limit 100 )\n",
      "Processing 999 of bchbtc\n"
     ]
    },
    {
     "data": {
      "application/vnd.jupyter.widget-view+json": {
       "model_id": "c3d6473fb09048f8a98ed4c945c83487",
       "version_major": 2,
       "version_minor": 0
      },
      "text/plain": [
       "  0%|          | 0/999 [00:00<?, ?it/s]"
      ]
     },
     "metadata": {},
     "output_type": "display_data"
    },
    {
     "name": "stdout",
     "output_type": "stream",
     "text": [
      "https://www.bitstamp.net/api/v2/ohlc/ltceur/?&currency_pair=ltceur&step=60&limit=1000&start=1623711600\n",
      "https://www.bitstamp.net/api/v2/ohlc/ltceur/?&currency_pair=ltceur&step=60&limit=1000&start=1623771540\n",
      "https://www.bitstamp.net/api/v2/ohlc/ltceur/?&currency_pair=ltceur&step=60&limit=1000&start=1623831480\n",
      "https://www.bitstamp.net/api/v2/ohlc/ltceur/?&currency_pair=ltceur&step=60&limit=1000&start=1623891420\n",
      "https://www.bitstamp.net/api/v2/ohlc/ltceur/?&currency_pair=ltceur&step=60&limit=1000&start=1623951360\n",
      "https://www.bitstamp.net/api/v2/ohlc/ltceur/?&currency_pair=ltceur&step=60&limit=1000&start=1624011300\n",
      "https://www.bitstamp.net/api/v2/ohlc/ltceur/?&currency_pair=ltceur&step=60&limit=1000&start=1624071240\n",
      "https://www.bitstamp.net/api/v2/ohlc/ltceur/?&currency_pair=ltceur&step=60&limit=1000&start=1624131180\n",
      "https://www.bitstamp.net/api/v2/ohlc/ltceur/?&currency_pair=ltceur&step=60&limit=1000&start=1624191120\n",
      "https://www.bitstamp.net/api/v2/ohlc/ltceur/?&currency_pair=ltceur&step=60&limit=1000&start=1624251060\n",
      "https://www.bitstamp.net/api/v2/ohlc/ltceur/?&currency_pair=ltceur&step=60&limit=1000&start=1624311000\n",
      "https://www.bitstamp.net/api/v2/ohlc/ltceur/?&currency_pair=ltceur&step=60&limit=1000&start=1624370940\n",
      "https://www.bitstamp.net/api/v2/ohlc/ltceur/?&currency_pair=ltceur&step=60&limit=1000&start=1624430880\n",
      "https://www.bitstamp.net/api/v2/ohlc/ltceur/?&currency_pair=ltceur&step=60&limit=1000&start=1624490820\n",
      "https://www.bitstamp.net/api/v2/ohlc/ltceur/?&currency_pair=ltceur&step=60&limit=1000&start=1624550760\n",
      "https://www.bitstamp.net/api/v2/ohlc/ltceur/?&currency_pair=ltceur&step=60&limit=1000&start=1624610700\n",
      "https://www.bitstamp.net/api/v2/ohlc/ltceur/?&currency_pair=ltceur&step=60&limit=1000&start=1624670640\n",
      "https://www.bitstamp.net/api/v2/ohlc/ltceur/?&currency_pair=ltceur&step=60&limit=1000&start=1624730580\n",
      "https://www.bitstamp.net/api/v2/ohlc/ltceur/?&currency_pair=ltceur&step=60&limit=1000&start=1624790520\n",
      "https://www.bitstamp.net/api/v2/ohlc/ltceur/?&currency_pair=ltceur&step=60&limit=1000&start=1624850460\n",
      "https://www.bitstamp.net/api/v2/ohlc/ltceur/?&currency_pair=ltceur&step=60&limit=1000&start=1624910400\n",
      "https://www.bitstamp.net/api/v2/ohlc/ltceur/?&currency_pair=ltceur&step=60&limit=1000&start=1624970340\n",
      "https://www.bitstamp.net/api/v2/ohlc/ltceur/?&currency_pair=ltceur&step=60&limit=1000&start=1625030280\n",
      "https://www.bitstamp.net/api/v2/ohlc/ltceur/?&currency_pair=ltceur&step=60&limit=1000&start=1625090220\n",
      "https://www.bitstamp.net/api/v2/ohlc/ltceur/?&currency_pair=ltceur&step=60&limit=1000&start=1625150160\n",
      "https://www.bitstamp.net/api/v2/ohlc/ltceur/?&currency_pair=ltceur&step=60&limit=1000&start=1625210100\n",
      "https://www.bitstamp.net/api/v2/ohlc/ltceur/?&currency_pair=ltceur&step=60&limit=1000&start=1625270040\n",
      "https://www.bitstamp.net/api/v2/ohlc/ltceur/?&currency_pair=ltceur&step=60&limit=1000&start=1625329980\n",
      "https://www.bitstamp.net/api/v2/ohlc/ltceur/?&currency_pair=ltceur&step=60&limit=1000&start=1625389920\n",
      "https://www.bitstamp.net/api/v2/ohlc/ltceur/?&currency_pair=ltceur&step=60&limit=1000&start=1625449860\n",
      "https://www.bitstamp.net/api/v2/ohlc/ltceur/?&currency_pair=ltceur&step=60&limit=1000&start=1625509800\n",
      "https://www.bitstamp.net/api/v2/ohlc/ltceur/?&currency_pair=ltceur&step=60&limit=1000&start=1625569740\n",
      "https://www.bitstamp.net/api/v2/ohlc/ltceur/?&currency_pair=ltceur&step=60&limit=1000&start=1625629680\n",
      "https://www.bitstamp.net/api/v2/ohlc/ltceur/?&currency_pair=ltceur&step=60&limit=1000&start=1625689620\n",
      "https://www.bitstamp.net/api/v2/ohlc/ltceur/?&currency_pair=ltceur&step=60&limit=1000&start=1625749560\n",
      "https://www.bitstamp.net/api/v2/ohlc/ltceur/?&currency_pair=ltceur&step=60&limit=1000&start=1625809500\n",
      "https://www.bitstamp.net/api/v2/ohlc/ltceur/?&currency_pair=ltceur&step=60&limit=1000&start=1625869440\n",
      "https://www.bitstamp.net/api/v2/ohlc/ltceur/?&currency_pair=ltceur&step=60&limit=1000&start=1625929380\n",
      "https://www.bitstamp.net/api/v2/ohlc/ltceur/?&currency_pair=ltceur&step=60&limit=1000&start=1625989320\n",
      "https://www.bitstamp.net/api/v2/ohlc/ltceur/?&currency_pair=ltceur&step=60&limit=1000&start=1626049260\n",
      "https://www.bitstamp.net/api/v2/ohlc/ltceur/?&currency_pair=ltceur&step=60&limit=1000&start=1626109200\n",
      "https://www.bitstamp.net/api/v2/ohlc/ltceur/?&currency_pair=ltceur&step=60&limit=1000&start=1626169140\n",
      "https://www.bitstamp.net/api/v2/ohlc/ltceur/?&currency_pair=ltceur&step=60&limit=1000&start=1626229080\n",
      "https://www.bitstamp.net/api/v2/ohlc/ltceur/?&currency_pair=ltceur&step=60&limit=1000&start=1626289020\n",
      "Downloaded from 2021-06-15 00:00:00 to 2021-07-15 00:01:00 111.20\n",
      "Resample 1Min - TecAn ( windows 10, windows_limit 100 )\n",
      "Processing 43244 of ltceur\n"
     ]
    },
    {
     "data": {
      "application/vnd.jupyter.widget-view+json": {
       "model_id": "3b028da281034d08908cd6a7eb62d15d",
       "version_major": 2,
       "version_minor": 0
      },
      "text/plain": [
       "  0%|          | 0/43244 [00:00<?, ?it/s]"
      ]
     },
     "metadata": {},
     "output_type": "display_data"
    },
    {
     "name": "stdout",
     "output_type": "stream",
     "text": [
      "https://www.bitstamp.net/api/v2/ohlc/ltcusd/?&currency_pair=ltcusd&step=60&limit=1000&start=1623711600\n",
      "https://www.bitstamp.net/api/v2/ohlc/ltcusd/?&currency_pair=ltcusd&step=60&limit=1000&start=1623771540\n",
      "https://www.bitstamp.net/api/v2/ohlc/ltcusd/?&currency_pair=ltcusd&step=60&limit=1000&start=1623831480\n",
      "https://www.bitstamp.net/api/v2/ohlc/ltcusd/?&currency_pair=ltcusd&step=60&limit=1000&start=1623891420\n",
      "https://www.bitstamp.net/api/v2/ohlc/ltcusd/?&currency_pair=ltcusd&step=60&limit=1000&start=1623951360\n",
      "https://www.bitstamp.net/api/v2/ohlc/ltcusd/?&currency_pair=ltcusd&step=60&limit=1000&start=1624011300\n",
      "https://www.bitstamp.net/api/v2/ohlc/ltcusd/?&currency_pair=ltcusd&step=60&limit=1000&start=1624071240\n",
      "https://www.bitstamp.net/api/v2/ohlc/ltcusd/?&currency_pair=ltcusd&step=60&limit=1000&start=1624131180\n",
      "https://www.bitstamp.net/api/v2/ohlc/ltcusd/?&currency_pair=ltcusd&step=60&limit=1000&start=1624191120\n",
      "https://www.bitstamp.net/api/v2/ohlc/ltcusd/?&currency_pair=ltcusd&step=60&limit=1000&start=1624251060\n",
      "https://www.bitstamp.net/api/v2/ohlc/ltcusd/?&currency_pair=ltcusd&step=60&limit=1000&start=1624311000\n",
      "https://www.bitstamp.net/api/v2/ohlc/ltcusd/?&currency_pair=ltcusd&step=60&limit=1000&start=1624370940\n",
      "https://www.bitstamp.net/api/v2/ohlc/ltcusd/?&currency_pair=ltcusd&step=60&limit=1000&start=1624430880\n",
      "https://www.bitstamp.net/api/v2/ohlc/ltcusd/?&currency_pair=ltcusd&step=60&limit=1000&start=1624490820\n",
      "https://www.bitstamp.net/api/v2/ohlc/ltcusd/?&currency_pair=ltcusd&step=60&limit=1000&start=1624550760\n",
      "https://www.bitstamp.net/api/v2/ohlc/ltcusd/?&currency_pair=ltcusd&step=60&limit=1000&start=1624610700\n",
      "https://www.bitstamp.net/api/v2/ohlc/ltcusd/?&currency_pair=ltcusd&step=60&limit=1000&start=1624670640\n",
      "https://www.bitstamp.net/api/v2/ohlc/ltcusd/?&currency_pair=ltcusd&step=60&limit=1000&start=1624730580\n",
      "https://www.bitstamp.net/api/v2/ohlc/ltcusd/?&currency_pair=ltcusd&step=60&limit=1000&start=1624790520\n",
      "https://www.bitstamp.net/api/v2/ohlc/ltcusd/?&currency_pair=ltcusd&step=60&limit=1000&start=1624850460\n",
      "https://www.bitstamp.net/api/v2/ohlc/ltcusd/?&currency_pair=ltcusd&step=60&limit=1000&start=1624910400\n",
      "https://www.bitstamp.net/api/v2/ohlc/ltcusd/?&currency_pair=ltcusd&step=60&limit=1000&start=1624970340\n",
      "https://www.bitstamp.net/api/v2/ohlc/ltcusd/?&currency_pair=ltcusd&step=60&limit=1000&start=1625030280\n",
      "https://www.bitstamp.net/api/v2/ohlc/ltcusd/?&currency_pair=ltcusd&step=60&limit=1000&start=1625090220\n",
      "https://www.bitstamp.net/api/v2/ohlc/ltcusd/?&currency_pair=ltcusd&step=60&limit=1000&start=1625150160\n",
      "https://www.bitstamp.net/api/v2/ohlc/ltcusd/?&currency_pair=ltcusd&step=60&limit=1000&start=1625210100\n",
      "https://www.bitstamp.net/api/v2/ohlc/ltcusd/?&currency_pair=ltcusd&step=60&limit=1000&start=1625270040\n",
      "https://www.bitstamp.net/api/v2/ohlc/ltcusd/?&currency_pair=ltcusd&step=60&limit=1000&start=1625329980\n",
      "https://www.bitstamp.net/api/v2/ohlc/ltcusd/?&currency_pair=ltcusd&step=60&limit=1000&start=1625389920\n",
      "https://www.bitstamp.net/api/v2/ohlc/ltcusd/?&currency_pair=ltcusd&step=60&limit=1000&start=1625449860\n",
      "https://www.bitstamp.net/api/v2/ohlc/ltcusd/?&currency_pair=ltcusd&step=60&limit=1000&start=1625509800\n",
      "https://www.bitstamp.net/api/v2/ohlc/ltcusd/?&currency_pair=ltcusd&step=60&limit=1000&start=1625569740\n",
      "https://www.bitstamp.net/api/v2/ohlc/ltcusd/?&currency_pair=ltcusd&step=60&limit=1000&start=1625629680\n",
      "https://www.bitstamp.net/api/v2/ohlc/ltcusd/?&currency_pair=ltcusd&step=60&limit=1000&start=1625689620\n",
      "https://www.bitstamp.net/api/v2/ohlc/ltcusd/?&currency_pair=ltcusd&step=60&limit=1000&start=1625749560\n",
      "https://www.bitstamp.net/api/v2/ohlc/ltcusd/?&currency_pair=ltcusd&step=60&limit=1000&start=1625809500\n",
      "https://www.bitstamp.net/api/v2/ohlc/ltcusd/?&currency_pair=ltcusd&step=60&limit=1000&start=1625869440\n",
      "https://www.bitstamp.net/api/v2/ohlc/ltcusd/?&currency_pair=ltcusd&step=60&limit=1000&start=1625929380\n",
      "https://www.bitstamp.net/api/v2/ohlc/ltcusd/?&currency_pair=ltcusd&step=60&limit=1000&start=1625989320\n",
      "https://www.bitstamp.net/api/v2/ohlc/ltcusd/?&currency_pair=ltcusd&step=60&limit=1000&start=1626049260\n",
      "https://www.bitstamp.net/api/v2/ohlc/ltcusd/?&currency_pair=ltcusd&step=60&limit=1000&start=1626109200\n",
      "https://www.bitstamp.net/api/v2/ohlc/ltcusd/?&currency_pair=ltcusd&step=60&limit=1000&start=1626169140\n",
      "https://www.bitstamp.net/api/v2/ohlc/ltcusd/?&currency_pair=ltcusd&step=60&limit=1000&start=1626229080\n",
      "https://www.bitstamp.net/api/v2/ohlc/ltcusd/?&currency_pair=ltcusd&step=60&limit=1000&start=1626289020\n",
      "Downloaded from 2021-06-15 00:00:00 to 2021-07-15 00:01:00 131.43\n",
      "Resample 1Min - TecAn ( windows 10, windows_limit 100 )\n",
      "Processing 43244 of ltcusd\n"
     ]
    },
    {
     "data": {
      "application/vnd.jupyter.widget-view+json": {
       "model_id": "15818313123c423d8810c0bbb48a37e0",
       "version_major": 2,
       "version_minor": 0
      },
      "text/plain": [
       "  0%|          | 0/43244 [00:00<?, ?it/s]"
      ]
     },
     "metadata": {},
     "output_type": "display_data"
    },
    {
     "name": "stdout",
     "output_type": "stream",
     "text": [
      "https://www.bitstamp.net/api/v2/ohlc/ethusd/?&currency_pair=ethusd&step=60&limit=1000&start=1623711600\n",
      "https://www.bitstamp.net/api/v2/ohlc/ethusd/?&currency_pair=ethusd&step=60&limit=1000&start=1623771540\n",
      "https://www.bitstamp.net/api/v2/ohlc/ethusd/?&currency_pair=ethusd&step=60&limit=1000&start=1623831480\n",
      "https://www.bitstamp.net/api/v2/ohlc/ethusd/?&currency_pair=ethusd&step=60&limit=1000&start=1623891420\n",
      "https://www.bitstamp.net/api/v2/ohlc/ethusd/?&currency_pair=ethusd&step=60&limit=1000&start=1623951360\n",
      "https://www.bitstamp.net/api/v2/ohlc/ethusd/?&currency_pair=ethusd&step=60&limit=1000&start=1624011300\n",
      "https://www.bitstamp.net/api/v2/ohlc/ethusd/?&currency_pair=ethusd&step=60&limit=1000&start=1624071240\n",
      "https://www.bitstamp.net/api/v2/ohlc/ethusd/?&currency_pair=ethusd&step=60&limit=1000&start=1624131180\n",
      "https://www.bitstamp.net/api/v2/ohlc/ethusd/?&currency_pair=ethusd&step=60&limit=1000&start=1624191120\n",
      "https://www.bitstamp.net/api/v2/ohlc/ethusd/?&currency_pair=ethusd&step=60&limit=1000&start=1624251060\n",
      "https://www.bitstamp.net/api/v2/ohlc/ethusd/?&currency_pair=ethusd&step=60&limit=1000&start=1624311000\n",
      "https://www.bitstamp.net/api/v2/ohlc/ethusd/?&currency_pair=ethusd&step=60&limit=1000&start=1624370940\n",
      "https://www.bitstamp.net/api/v2/ohlc/ethusd/?&currency_pair=ethusd&step=60&limit=1000&start=1624430880\n",
      "https://www.bitstamp.net/api/v2/ohlc/ethusd/?&currency_pair=ethusd&step=60&limit=1000&start=1624490820\n",
      "https://www.bitstamp.net/api/v2/ohlc/ethusd/?&currency_pair=ethusd&step=60&limit=1000&start=1624550760\n",
      "https://www.bitstamp.net/api/v2/ohlc/ethusd/?&currency_pair=ethusd&step=60&limit=1000&start=1624610700\n",
      "https://www.bitstamp.net/api/v2/ohlc/ethusd/?&currency_pair=ethusd&step=60&limit=1000&start=1624670640\n",
      "https://www.bitstamp.net/api/v2/ohlc/ethusd/?&currency_pair=ethusd&step=60&limit=1000&start=1624730580\n",
      "https://www.bitstamp.net/api/v2/ohlc/ethusd/?&currency_pair=ethusd&step=60&limit=1000&start=1624790520\n",
      "https://www.bitstamp.net/api/v2/ohlc/ethusd/?&currency_pair=ethusd&step=60&limit=1000&start=1624850460\n",
      "https://www.bitstamp.net/api/v2/ohlc/ethusd/?&currency_pair=ethusd&step=60&limit=1000&start=1624910400\n",
      "https://www.bitstamp.net/api/v2/ohlc/ethusd/?&currency_pair=ethusd&step=60&limit=1000&start=1624970340\n",
      "https://www.bitstamp.net/api/v2/ohlc/ethusd/?&currency_pair=ethusd&step=60&limit=1000&start=1625030280\n",
      "https://www.bitstamp.net/api/v2/ohlc/ethusd/?&currency_pair=ethusd&step=60&limit=1000&start=1625090220\n",
      "https://www.bitstamp.net/api/v2/ohlc/ethusd/?&currency_pair=ethusd&step=60&limit=1000&start=1625150160\n",
      "https://www.bitstamp.net/api/v2/ohlc/ethusd/?&currency_pair=ethusd&step=60&limit=1000&start=1625210100\n",
      "https://www.bitstamp.net/api/v2/ohlc/ethusd/?&currency_pair=ethusd&step=60&limit=1000&start=1625270040\n",
      "https://www.bitstamp.net/api/v2/ohlc/ethusd/?&currency_pair=ethusd&step=60&limit=1000&start=1625329980\n",
      "https://www.bitstamp.net/api/v2/ohlc/ethusd/?&currency_pair=ethusd&step=60&limit=1000&start=1625389920\n",
      "https://www.bitstamp.net/api/v2/ohlc/ethusd/?&currency_pair=ethusd&step=60&limit=1000&start=1625449860\n",
      "https://www.bitstamp.net/api/v2/ohlc/ethusd/?&currency_pair=ethusd&step=60&limit=1000&start=1625509800\n",
      "https://www.bitstamp.net/api/v2/ohlc/ethusd/?&currency_pair=ethusd&step=60&limit=1000&start=1625569740\n",
      "https://www.bitstamp.net/api/v2/ohlc/ethusd/?&currency_pair=ethusd&step=60&limit=1000&start=1625629680\n",
      "https://www.bitstamp.net/api/v2/ohlc/ethusd/?&currency_pair=ethusd&step=60&limit=1000&start=1625689620\n",
      "https://www.bitstamp.net/api/v2/ohlc/ethusd/?&currency_pair=ethusd&step=60&limit=1000&start=1625749560\n",
      "https://www.bitstamp.net/api/v2/ohlc/ethusd/?&currency_pair=ethusd&step=60&limit=1000&start=1625809500\n",
      "https://www.bitstamp.net/api/v2/ohlc/ethusd/?&currency_pair=ethusd&step=60&limit=1000&start=1625869440\n",
      "https://www.bitstamp.net/api/v2/ohlc/ethusd/?&currency_pair=ethusd&step=60&limit=1000&start=1625929380\n",
      "https://www.bitstamp.net/api/v2/ohlc/ethusd/?&currency_pair=ethusd&step=60&limit=1000&start=1625989320\n",
      "https://www.bitstamp.net/api/v2/ohlc/ethusd/?&currency_pair=ethusd&step=60&limit=1000&start=1626049260\n",
      "https://www.bitstamp.net/api/v2/ohlc/ethusd/?&currency_pair=ethusd&step=60&limit=1000&start=1626109200\n",
      "https://www.bitstamp.net/api/v2/ohlc/ethusd/?&currency_pair=ethusd&step=60&limit=1000&start=1626169140\n",
      "https://www.bitstamp.net/api/v2/ohlc/ethusd/?&currency_pair=ethusd&step=60&limit=1000&start=1626229080\n",
      "https://www.bitstamp.net/api/v2/ohlc/ethusd/?&currency_pair=ethusd&step=60&limit=1000&start=1626289020\n",
      "Downloaded from 2021-06-15 00:00:00 to 2021-07-15 00:01:00 2005.98\n",
      "Resample 1Min - TecAn ( windows 10, windows_limit 100 )\n",
      "Processing 43244 of ethusd\n"
     ]
    },
    {
     "data": {
      "application/vnd.jupyter.widget-view+json": {
       "model_id": "da3026c7090745fe81fe05040621c362",
       "version_major": 2,
       "version_minor": 0
      },
      "text/plain": [
       "  0%|          | 0/43244 [00:00<?, ?it/s]"
      ]
     },
     "metadata": {},
     "output_type": "display_data"
    },
    {
     "name": "stdout",
     "output_type": "stream",
     "text": [
      "https://www.bitstamp.net/api/v2/ohlc/btcusd/?&currency_pair=btcusd&step=60&limit=1000&start=1623711600\n",
      "https://www.bitstamp.net/api/v2/ohlc/btcusd/?&currency_pair=btcusd&step=60&limit=1000&start=1623771540\n",
      "https://www.bitstamp.net/api/v2/ohlc/btcusd/?&currency_pair=btcusd&step=60&limit=1000&start=1623831480\n",
      "https://www.bitstamp.net/api/v2/ohlc/btcusd/?&currency_pair=btcusd&step=60&limit=1000&start=1623891420\n",
      "https://www.bitstamp.net/api/v2/ohlc/btcusd/?&currency_pair=btcusd&step=60&limit=1000&start=1623951360\n",
      "https://www.bitstamp.net/api/v2/ohlc/btcusd/?&currency_pair=btcusd&step=60&limit=1000&start=1624011300\n",
      "https://www.bitstamp.net/api/v2/ohlc/btcusd/?&currency_pair=btcusd&step=60&limit=1000&start=1624071240\n",
      "https://www.bitstamp.net/api/v2/ohlc/btcusd/?&currency_pair=btcusd&step=60&limit=1000&start=1624131180\n",
      "https://www.bitstamp.net/api/v2/ohlc/btcusd/?&currency_pair=btcusd&step=60&limit=1000&start=1624191120\n",
      "https://www.bitstamp.net/api/v2/ohlc/btcusd/?&currency_pair=btcusd&step=60&limit=1000&start=1624251060\n",
      "https://www.bitstamp.net/api/v2/ohlc/btcusd/?&currency_pair=btcusd&step=60&limit=1000&start=1624311000\n",
      "https://www.bitstamp.net/api/v2/ohlc/btcusd/?&currency_pair=btcusd&step=60&limit=1000&start=1624370940\n",
      "https://www.bitstamp.net/api/v2/ohlc/btcusd/?&currency_pair=btcusd&step=60&limit=1000&start=1624430880\n",
      "https://www.bitstamp.net/api/v2/ohlc/btcusd/?&currency_pair=btcusd&step=60&limit=1000&start=1624490820\n",
      "https://www.bitstamp.net/api/v2/ohlc/btcusd/?&currency_pair=btcusd&step=60&limit=1000&start=1624550760\n",
      "https://www.bitstamp.net/api/v2/ohlc/btcusd/?&currency_pair=btcusd&step=60&limit=1000&start=1624610700\n",
      "https://www.bitstamp.net/api/v2/ohlc/btcusd/?&currency_pair=btcusd&step=60&limit=1000&start=1624670640\n",
      "https://www.bitstamp.net/api/v2/ohlc/btcusd/?&currency_pair=btcusd&step=60&limit=1000&start=1624730580\n",
      "https://www.bitstamp.net/api/v2/ohlc/btcusd/?&currency_pair=btcusd&step=60&limit=1000&start=1624790520\n",
      "https://www.bitstamp.net/api/v2/ohlc/btcusd/?&currency_pair=btcusd&step=60&limit=1000&start=1624850460\n",
      "https://www.bitstamp.net/api/v2/ohlc/btcusd/?&currency_pair=btcusd&step=60&limit=1000&start=1624910400\n",
      "https://www.bitstamp.net/api/v2/ohlc/btcusd/?&currency_pair=btcusd&step=60&limit=1000&start=1624970340\n",
      "https://www.bitstamp.net/api/v2/ohlc/btcusd/?&currency_pair=btcusd&step=60&limit=1000&start=1625030280\n",
      "https://www.bitstamp.net/api/v2/ohlc/btcusd/?&currency_pair=btcusd&step=60&limit=1000&start=1625090220\n",
      "https://www.bitstamp.net/api/v2/ohlc/btcusd/?&currency_pair=btcusd&step=60&limit=1000&start=1625150160\n",
      "https://www.bitstamp.net/api/v2/ohlc/btcusd/?&currency_pair=btcusd&step=60&limit=1000&start=1625210100\n",
      "https://www.bitstamp.net/api/v2/ohlc/btcusd/?&currency_pair=btcusd&step=60&limit=1000&start=1625270040\n",
      "https://www.bitstamp.net/api/v2/ohlc/btcusd/?&currency_pair=btcusd&step=60&limit=1000&start=1625329980\n",
      "https://www.bitstamp.net/api/v2/ohlc/btcusd/?&currency_pair=btcusd&step=60&limit=1000&start=1625389920\n",
      "https://www.bitstamp.net/api/v2/ohlc/btcusd/?&currency_pair=btcusd&step=60&limit=1000&start=1625449860\n",
      "https://www.bitstamp.net/api/v2/ohlc/btcusd/?&currency_pair=btcusd&step=60&limit=1000&start=1625509800\n",
      "https://www.bitstamp.net/api/v2/ohlc/btcusd/?&currency_pair=btcusd&step=60&limit=1000&start=1625569740\n",
      "https://www.bitstamp.net/api/v2/ohlc/btcusd/?&currency_pair=btcusd&step=60&limit=1000&start=1625629680\n",
      "https://www.bitstamp.net/api/v2/ohlc/btcusd/?&currency_pair=btcusd&step=60&limit=1000&start=1625689620\n",
      "https://www.bitstamp.net/api/v2/ohlc/btcusd/?&currency_pair=btcusd&step=60&limit=1000&start=1625749560\n",
      "https://www.bitstamp.net/api/v2/ohlc/btcusd/?&currency_pair=btcusd&step=60&limit=1000&start=1625809500\n",
      "https://www.bitstamp.net/api/v2/ohlc/btcusd/?&currency_pair=btcusd&step=60&limit=1000&start=1625869440\n",
      "https://www.bitstamp.net/api/v2/ohlc/btcusd/?&currency_pair=btcusd&step=60&limit=1000&start=1625929380\n",
      "https://www.bitstamp.net/api/v2/ohlc/btcusd/?&currency_pair=btcusd&step=60&limit=1000&start=1625989320\n",
      "https://www.bitstamp.net/api/v2/ohlc/btcusd/?&currency_pair=btcusd&step=60&limit=1000&start=1626049260\n",
      "https://www.bitstamp.net/api/v2/ohlc/btcusd/?&currency_pair=btcusd&step=60&limit=1000&start=1626109200\n",
      "https://www.bitstamp.net/api/v2/ohlc/btcusd/?&currency_pair=btcusd&step=60&limit=1000&start=1626169140\n",
      "https://www.bitstamp.net/api/v2/ohlc/btcusd/?&currency_pair=btcusd&step=60&limit=1000&start=1626229080\n",
      "https://www.bitstamp.net/api/v2/ohlc/btcusd/?&currency_pair=btcusd&step=60&limit=1000&start=1626289020\n",
      "Downloaded from 2021-06-15 00:00:00 to 2021-07-15 00:01:00 32987.01\n",
      "Resample 1Min - TecAn ( windows 10, windows_limit 100 )\n",
      "Processing 43244 of btcusd\n"
     ]
    },
    {
     "data": {
      "application/vnd.jupyter.widget-view+json": {
       "model_id": "f5800f682736438783cd52dc4be7dd83",
       "version_major": 2,
       "version_minor": 0
      },
      "text/plain": [
       "  0%|          | 0/43244 [00:00<?, ?it/s]"
      ]
     },
     "metadata": {},
     "output_type": "display_data"
    },
    {
     "name": "stdout",
     "output_type": "stream",
     "text": [
      "https://www.bitstamp.net/api/v2/ohlc/btcusd/?&currency_pair=btcusd&step=60&limit=1000&start=1622502000\n",
      "Downloaded from 2021-06-01 00:00:00 to 2021-06-01 16:39:00 36197.21\n",
      "Resample 1Min - TecAn ( windows 20, windows_limit 100 )\n",
      "Processing 999 of btcusd\n"
     ]
    },
    {
     "data": {
      "application/vnd.jupyter.widget-view+json": {
       "model_id": "2c83c0f7a3f24f8fbd785fc73a24726c",
       "version_major": 2,
       "version_minor": 0
      },
      "text/plain": [
       "  0%|          | 0/999 [00:00<?, ?it/s]"
      ]
     },
     "metadata": {},
     "output_type": "display_data"
    },
    {
     "name": "stdout",
     "output_type": "stream",
     "text": [
      "https://www.bitstamp.net/api/v2/ohlc/ethusd/?&currency_pair=ethusd&step=60&limit=1000&start=1622502000\n",
      "Downloaded from 2021-06-01 00:00:00 to 2021-06-01 16:39:00 2570.77\n",
      "Resample 1Min - TecAn ( windows 20, windows_limit 100 )\n",
      "Processing 999 of ethusd\n"
     ]
    },
    {
     "data": {
      "application/vnd.jupyter.widget-view+json": {
       "model_id": "dd471b89b0ca4ac4b71ce3cb9be67ad5",
       "version_major": 2,
       "version_minor": 0
      },
      "text/plain": [
       "  0%|          | 0/999 [00:00<?, ?it/s]"
      ]
     },
     "metadata": {},
     "output_type": "display_data"
    },
    {
     "name": "stdout",
     "output_type": "stream",
     "text": [
      "https://www.bitstamp.net/api/v2/ohlc/bchbtc/?&currency_pair=bchbtc&step=60&limit=1000&start=1622502000\n",
      "Downloaded from 2021-06-01 00:00:00 to 2021-06-01 16:39:00 0.01879888\n",
      "Resample 1Min - TecAn ( windows 20, windows_limit 100 )\n",
      "Processing 999 of bchbtc\n"
     ]
    },
    {
     "data": {
      "application/vnd.jupyter.widget-view+json": {
       "model_id": "ece00fdd46054708bb187c30c4ff5173",
       "version_major": 2,
       "version_minor": 0
      },
      "text/plain": [
       "  0%|          | 0/999 [00:00<?, ?it/s]"
      ]
     },
     "metadata": {},
     "output_type": "display_data"
    },
    {
     "name": "stdout",
     "output_type": "stream",
     "text": [
      "https://www.bitstamp.net/api/v2/ohlc/btcusd/?&currency_pair=btcusd&step=60&limit=1000&start=1590966000\n",
      "Downloaded from 2020-06-01 00:00:00 to 2020-06-01 16:39:00 9542.01\n",
      "Resample 1Min - TecAn ( windows 20, windows_limit 100 )\n",
      "Processing 999 of btcusd\n"
     ]
    },
    {
     "data": {
      "application/vnd.jupyter.widget-view+json": {
       "model_id": "f1995ec1d6fb4ae69da11903c8518bfd",
       "version_major": 2,
       "version_minor": 0
      },
      "text/plain": [
       "  0%|          | 0/999 [00:00<?, ?it/s]"
      ]
     },
     "metadata": {},
     "output_type": "display_data"
    },
    {
     "name": "stdout",
     "output_type": "stream",
     "text": [
      "https://www.bitstamp.net/api/v2/ohlc/ethusd/?&currency_pair=ethusd&step=60&limit=1000&start=1590966000\n",
      "Downloaded from 2020-06-01 00:00:00 to 2020-06-01 16:39:00 238.00\n",
      "Resample 1Min - TecAn ( windows 20, windows_limit 100 )\n",
      "Processing 999 of ethusd\n"
     ]
    },
    {
     "data": {
      "application/vnd.jupyter.widget-view+json": {
       "model_id": "fd266b87af8b4f5d9a1c29df10e39446",
       "version_major": 2,
       "version_minor": 0
      },
      "text/plain": [
       "  0%|          | 0/999 [00:00<?, ?it/s]"
      ]
     },
     "metadata": {},
     "output_type": "display_data"
    },
    {
     "name": "stdout",
     "output_type": "stream",
     "text": [
      "https://www.bitstamp.net/api/v2/ohlc/bchbtc/?&currency_pair=bchbtc&step=60&limit=1000&start=1590966000\n",
      "Downloaded from 2020-06-01 00:00:00 to 2020-06-01 16:39:00 0.02548768\n",
      "Resample 1Min - TecAn ( windows 20, windows_limit 100 )\n",
      "Processing 999 of bchbtc\n"
     ]
    },
    {
     "data": {
      "application/vnd.jupyter.widget-view+json": {
       "model_id": "bd0a7de9ec2f49a29b3817e392738fbe",
       "version_major": 2,
       "version_minor": 0
      },
      "text/plain": [
       "  0%|          | 0/999 [00:00<?, ?it/s]"
      ]
     },
     "metadata": {},
     "output_type": "display_data"
    },
    {
     "name": "stdout",
     "output_type": "stream",
     "text": [
      "https://www.bitstamp.net/api/v2/ohlc/btcusd/?&currency_pair=btcusd&step=60&limit=1000&start=1559343600\n",
      "Downloaded from 2019-06-01 00:00:00 to 2019-06-01 16:39:00 8532.29\n",
      "Resample 1Min - TecAn ( windows 20, windows_limit 100 )\n",
      "Processing 999 of btcusd\n"
     ]
    },
    {
     "data": {
      "application/vnd.jupyter.widget-view+json": {
       "model_id": "f5d1ac1b68614ae68f2ef8a045ce3605",
       "version_major": 2,
       "version_minor": 0
      },
      "text/plain": [
       "  0%|          | 0/999 [00:00<?, ?it/s]"
      ]
     },
     "metadata": {},
     "output_type": "display_data"
    },
    {
     "name": "stdout",
     "output_type": "stream",
     "text": [
      "https://www.bitstamp.net/api/v2/ohlc/ethusd/?&currency_pair=ethusd&step=60&limit=1000&start=1559343600\n",
      "Downloaded from 2019-06-01 00:00:00 to 2019-06-01 16:39:00 264.88\n",
      "Resample 1Min - TecAn ( windows 20, windows_limit 100 )\n",
      "Processing 999 of ethusd\n"
     ]
    },
    {
     "data": {
      "application/vnd.jupyter.widget-view+json": {
       "model_id": "6a0dc14fc67a4755864a9c235b8f04c3",
       "version_major": 2,
       "version_minor": 0
      },
      "text/plain": [
       "  0%|          | 0/999 [00:00<?, ?it/s]"
      ]
     },
     "metadata": {},
     "output_type": "display_data"
    },
    {
     "name": "stdout",
     "output_type": "stream",
     "text": [
      "https://www.bitstamp.net/api/v2/ohlc/bchbtc/?&currency_pair=bchbtc&step=60&limit=1000&start=1559343600\n",
      "Downloaded from 2019-06-01 00:00:00 to 2019-06-01 16:39:00 0.05072740\n",
      "Resample 1Min - TecAn ( windows 20, windows_limit 100 )\n",
      "Processing 999 of bchbtc\n"
     ]
    },
    {
     "data": {
      "application/vnd.jupyter.widget-view+json": {
       "model_id": "a1f361a26fce4a809907c8d95074c8f0",
       "version_major": 2,
       "version_minor": 0
      },
      "text/plain": [
       "  0%|          | 0/999 [00:00<?, ?it/s]"
      ]
     },
     "metadata": {},
     "output_type": "display_data"
    },
    {
     "name": "stdout",
     "output_type": "stream",
     "text": [
      "https://www.bitstamp.net/api/v2/ohlc/btcusd/?&currency_pair=btcusd&step=60&limit=1000&start=1527807600\n",
      "Downloaded from 2018-06-01 00:00:00 to 2018-06-01 16:39:00 7437.99\n",
      "Resample 1Min - TecAn ( windows 20, windows_limit 100 )\n",
      "Processing 999 of btcusd\n"
     ]
    },
    {
     "data": {
      "application/vnd.jupyter.widget-view+json": {
       "model_id": "f6c2e6c69a8a4caf9587f05d834d8786",
       "version_major": 2,
       "version_minor": 0
      },
      "text/plain": [
       "  0%|          | 0/999 [00:00<?, ?it/s]"
      ]
     },
     "metadata": {},
     "output_type": "display_data"
    },
    {
     "name": "stdout",
     "output_type": "stream",
     "text": [
      "https://www.bitstamp.net/api/v2/ohlc/ethusd/?&currency_pair=ethusd&step=60&limit=1000&start=1527807600\n",
      "Downloaded from 2018-06-01 00:00:00 to 2018-06-01 16:39:00 573.99\n",
      "Resample 1Min - TecAn ( windows 20, windows_limit 100 )\n",
      "Processing 999 of ethusd\n"
     ]
    },
    {
     "data": {
      "application/vnd.jupyter.widget-view+json": {
       "model_id": "af8344a109ed4bf3a8cf06bdb55313db",
       "version_major": 2,
       "version_minor": 0
      },
      "text/plain": [
       "  0%|          | 0/999 [00:00<?, ?it/s]"
      ]
     },
     "metadata": {},
     "output_type": "display_data"
    },
    {
     "name": "stdout",
     "output_type": "stream",
     "text": [
      "https://www.bitstamp.net/api/v2/ohlc/bchbtc/?&currency_pair=bchbtc&step=60&limit=1000&start=1527807600\n",
      "Downloaded from 2018-06-01 00:00:00 to 2018-06-01 16:39:00 0.13303776\n",
      "Resample 1Min - TecAn ( windows 20, windows_limit 100 )\n",
      "Processing 999 of bchbtc\n"
     ]
    },
    {
     "data": {
      "application/vnd.jupyter.widget-view+json": {
       "model_id": "7115cfe834cf49888cd55888fc980580",
       "version_major": 2,
       "version_minor": 0
      },
      "text/plain": [
       "  0%|          | 0/999 [00:00<?, ?it/s]"
      ]
     },
     "metadata": {},
     "output_type": "display_data"
    },
    {
     "name": "stdout",
     "output_type": "stream",
     "text": [
      "https://www.bitstamp.net/api/v2/ohlc/btcusd/?&currency_pair=btcusd&step=60&limit=1000&start=1517443200\n",
      "Downloaded from 2018-02-01 00:00:00 to 2018-02-01 16:39:00 8850.34\n",
      "Resample 1Min - TecAn ( windows 20, windows_limit 100 )\n",
      "Processing 999 of btcusd\n"
     ]
    },
    {
     "data": {
      "application/vnd.jupyter.widget-view+json": {
       "model_id": "db4e65c8045c400ca2a18ca5f503f8ff",
       "version_major": 2,
       "version_minor": 0
      },
      "text/plain": [
       "  0%|          | 0/999 [00:00<?, ?it/s]"
      ]
     },
     "metadata": {},
     "output_type": "display_data"
    },
    {
     "name": "stdout",
     "output_type": "stream",
     "text": [
      "https://www.bitstamp.net/api/v2/ohlc/ethusd/?&currency_pair=ethusd&step=60&limit=1000&start=1517443200\n",
      "Downloaded from 2018-02-01 00:00:00 to 2018-02-01 16:39:00 1005.89\n",
      "Resample 1Min - TecAn ( windows 20, windows_limit 100 )\n",
      "Processing 999 of ethusd\n"
     ]
    },
    {
     "data": {
      "application/vnd.jupyter.widget-view+json": {
       "model_id": "41bb58256abc4d97b3622719b4dc346c",
       "version_major": 2,
       "version_minor": 0
      },
      "text/plain": [
       "  0%|          | 0/999 [00:00<?, ?it/s]"
      ]
     },
     "metadata": {},
     "output_type": "display_data"
    },
    {
     "name": "stdout",
     "output_type": "stream",
     "text": [
      "https://www.bitstamp.net/api/v2/ohlc/bchbtc/?&currency_pair=bchbtc&step=60&limit=1000&start=1517443200\n",
      "Downloaded from 2018-02-01 00:00:00 to 2018-02-01 16:39:00 0.14180730\n",
      "Resample 1Min - TecAn ( windows 20, windows_limit 100 )\n",
      "Processing 999 of bchbtc\n"
     ]
    },
    {
     "data": {
      "application/vnd.jupyter.widget-view+json": {
       "model_id": "43aa79746f0c481196deeda6477ebdd5",
       "version_major": 2,
       "version_minor": 0
      },
      "text/plain": [
       "  0%|          | 0/999 [00:00<?, ?it/s]"
      ]
     },
     "metadata": {},
     "output_type": "display_data"
    },
    {
     "name": "stdout",
     "output_type": "stream",
     "text": [
      "https://www.bitstamp.net/api/v2/ohlc/btcusd/?&currency_pair=btcusd&step=60&limit=1000&start=1548979200\n",
      "Downloaded from 2019-02-01 00:00:00 to 2019-02-01 16:39:00 3423.18\n",
      "Resample 1Min - TecAn ( windows 20, windows_limit 100 )\n",
      "Processing 999 of btcusd\n"
     ]
    },
    {
     "data": {
      "application/vnd.jupyter.widget-view+json": {
       "model_id": "753790961fc0443891aeeaee718c8bc6",
       "version_major": 2,
       "version_minor": 0
      },
      "text/plain": [
       "  0%|          | 0/999 [00:00<?, ?it/s]"
      ]
     },
     "metadata": {},
     "output_type": "display_data"
    },
    {
     "name": "stdout",
     "output_type": "stream",
     "text": [
      "https://www.bitstamp.net/api/v2/ohlc/ethusd/?&currency_pair=ethusd&step=60&limit=1000&start=1548979200\n",
      "Downloaded from 2019-02-01 00:00:00 to 2019-02-01 16:39:00 105.36\n",
      "Resample 1Min - TecAn ( windows 20, windows_limit 100 )\n",
      "Processing 999 of ethusd\n"
     ]
    },
    {
     "data": {
      "application/vnd.jupyter.widget-view+json": {
       "model_id": "2644229b70ec48ee8115d7d73825a46e",
       "version_major": 2,
       "version_minor": 0
      },
      "text/plain": [
       "  0%|          | 0/999 [00:00<?, ?it/s]"
      ]
     },
     "metadata": {},
     "output_type": "display_data"
    },
    {
     "name": "stdout",
     "output_type": "stream",
     "text": [
      "https://www.bitstamp.net/api/v2/ohlc/bchbtc/?&currency_pair=bchbtc&step=60&limit=1000&start=1548979200\n",
      "Downloaded from 2019-02-01 00:00:00 to 2019-02-01 16:39:00 0.03348000\n",
      "Resample 1Min - TecAn ( windows 20, windows_limit 100 )\n",
      "Processing 999 of bchbtc\n"
     ]
    },
    {
     "data": {
      "application/vnd.jupyter.widget-view+json": {
       "model_id": "cab03f59d0974c71bfccb4b81e2df1f4",
       "version_major": 2,
       "version_minor": 0
      },
      "text/plain": [
       "  0%|          | 0/999 [00:00<?, ?it/s]"
      ]
     },
     "metadata": {},
     "output_type": "display_data"
    },
    {
     "name": "stdout",
     "output_type": "stream",
     "text": [
      "https://www.bitstamp.net/api/v2/ohlc/btcusd/?&currency_pair=btcusd&step=60&limit=1000&start=1580515200\n",
      "Downloaded from 2020-02-01 00:00:00 to 2020-02-01 16:39:00 9360.98\n",
      "Resample 1Min - TecAn ( windows 20, windows_limit 100 )\n",
      "Processing 999 of btcusd\n"
     ]
    },
    {
     "data": {
      "application/vnd.jupyter.widget-view+json": {
       "model_id": "e9ee2d9a91f94b479f82fbd4a654454c",
       "version_major": 2,
       "version_minor": 0
      },
      "text/plain": [
       "  0%|          | 0/999 [00:00<?, ?it/s]"
      ]
     },
     "metadata": {},
     "output_type": "display_data"
    },
    {
     "name": "stdout",
     "output_type": "stream",
     "text": [
      "https://www.bitstamp.net/api/v2/ohlc/ethusd/?&currency_pair=ethusd&step=60&limit=1000&start=1580515200\n",
      "Downloaded from 2020-02-01 00:00:00 to 2020-02-01 16:39:00 182.90\n",
      "Resample 1Min - TecAn ( windows 20, windows_limit 100 )\n",
      "Processing 999 of ethusd\n"
     ]
    },
    {
     "data": {
      "application/vnd.jupyter.widget-view+json": {
       "model_id": "329f283db2264c10aa34b580e203177f",
       "version_major": 2,
       "version_minor": 0
      },
      "text/plain": [
       "  0%|          | 0/999 [00:00<?, ?it/s]"
      ]
     },
     "metadata": {},
     "output_type": "display_data"
    },
    {
     "name": "stdout",
     "output_type": "stream",
     "text": [
      "https://www.bitstamp.net/api/v2/ohlc/bchbtc/?&currency_pair=bchbtc&step=60&limit=1000&start=1580515200\n",
      "Downloaded from 2020-02-01 00:00:00 to 2020-02-01 16:39:00 0.04063856\n",
      "Resample 1Min - TecAn ( windows 20, windows_limit 100 )\n",
      "Processing 999 of bchbtc\n"
     ]
    },
    {
     "data": {
      "application/vnd.jupyter.widget-view+json": {
       "model_id": "7d65fb34fd7d409e9f1ec3bc7ab03163",
       "version_major": 2,
       "version_minor": 0
      },
      "text/plain": [
       "  0%|          | 0/999 [00:00<?, ?it/s]"
      ]
     },
     "metadata": {},
     "output_type": "display_data"
    },
    {
     "name": "stdout",
     "output_type": "stream",
     "text": [
      "https://www.bitstamp.net/api/v2/ohlc/btcusd/?&currency_pair=btcusd&step=60&limit=1000&start=1612137600\n",
      "Downloaded from 2021-02-01 00:00:00 to 2021-02-01 16:39:00 33368.98\n",
      "Resample 1Min - TecAn ( windows 20, windows_limit 100 )\n",
      "Processing 999 of btcusd\n"
     ]
    },
    {
     "data": {
      "application/vnd.jupyter.widget-view+json": {
       "model_id": "dfae15f14cb047bda1571885062326a6",
       "version_major": 2,
       "version_minor": 0
      },
      "text/plain": [
       "  0%|          | 0/999 [00:00<?, ?it/s]"
      ]
     },
     "metadata": {},
     "output_type": "display_data"
    },
    {
     "name": "stdout",
     "output_type": "stream",
     "text": [
      "https://www.bitstamp.net/api/v2/ohlc/ethusd/?&currency_pair=ethusd&step=60&limit=1000&start=1612137600\n",
      "Downloaded from 2021-02-01 00:00:00 to 2021-02-01 16:39:00 1309.56\n",
      "Resample 1Min - TecAn ( windows 20, windows_limit 100 )\n",
      "Processing 999 of ethusd\n"
     ]
    },
    {
     "data": {
      "application/vnd.jupyter.widget-view+json": {
       "model_id": "0311379e0de74fb496eb46185610ecdf",
       "version_major": 2,
       "version_minor": 0
      },
      "text/plain": [
       "  0%|          | 0/999 [00:00<?, ?it/s]"
      ]
     },
     "metadata": {},
     "output_type": "display_data"
    },
    {
     "name": "stdout",
     "output_type": "stream",
     "text": [
      "https://www.bitstamp.net/api/v2/ohlc/bchbtc/?&currency_pair=bchbtc&step=60&limit=1000&start=1612137600\n",
      "Downloaded from 2021-02-01 00:00:00 to 2021-02-01 16:39:00 0.01226651\n",
      "Resample 1Min - TecAn ( windows 20, windows_limit 100 )\n",
      "Processing 999 of bchbtc\n"
     ]
    },
    {
     "data": {
      "application/vnd.jupyter.widget-view+json": {
       "model_id": "95a02f7426f44f0db0e2e34773d579bd",
       "version_major": 2,
       "version_minor": 0
      },
      "text/plain": [
       "  0%|          | 0/999 [00:00<?, ?it/s]"
      ]
     },
     "metadata": {},
     "output_type": "display_data"
    },
    {
     "name": "stdout",
     "output_type": "stream",
     "text": [
      "https://www.bitstamp.net/api/v2/ohlc/ltceur/?&currency_pair=ltceur&step=60&limit=1000&start=1623711600\n",
      "https://www.bitstamp.net/api/v2/ohlc/ltceur/?&currency_pair=ltceur&step=60&limit=1000&start=1623771540\n",
      "https://www.bitstamp.net/api/v2/ohlc/ltceur/?&currency_pair=ltceur&step=60&limit=1000&start=1623831480\n",
      "https://www.bitstamp.net/api/v2/ohlc/ltceur/?&currency_pair=ltceur&step=60&limit=1000&start=1623891420\n",
      "https://www.bitstamp.net/api/v2/ohlc/ltceur/?&currency_pair=ltceur&step=60&limit=1000&start=1623951360\n",
      "https://www.bitstamp.net/api/v2/ohlc/ltceur/?&currency_pair=ltceur&step=60&limit=1000&start=1624011300\n",
      "https://www.bitstamp.net/api/v2/ohlc/ltceur/?&currency_pair=ltceur&step=60&limit=1000&start=1624071240\n",
      "https://www.bitstamp.net/api/v2/ohlc/ltceur/?&currency_pair=ltceur&step=60&limit=1000&start=1624131180\n",
      "https://www.bitstamp.net/api/v2/ohlc/ltceur/?&currency_pair=ltceur&step=60&limit=1000&start=1624191120\n",
      "https://www.bitstamp.net/api/v2/ohlc/ltceur/?&currency_pair=ltceur&step=60&limit=1000&start=1624251060\n",
      "https://www.bitstamp.net/api/v2/ohlc/ltceur/?&currency_pair=ltceur&step=60&limit=1000&start=1624311000\n",
      "https://www.bitstamp.net/api/v2/ohlc/ltceur/?&currency_pair=ltceur&step=60&limit=1000&start=1624370940\n",
      "https://www.bitstamp.net/api/v2/ohlc/ltceur/?&currency_pair=ltceur&step=60&limit=1000&start=1624430880\n",
      "https://www.bitstamp.net/api/v2/ohlc/ltceur/?&currency_pair=ltceur&step=60&limit=1000&start=1624490820\n",
      "https://www.bitstamp.net/api/v2/ohlc/ltceur/?&currency_pair=ltceur&step=60&limit=1000&start=1624550760\n",
      "https://www.bitstamp.net/api/v2/ohlc/ltceur/?&currency_pair=ltceur&step=60&limit=1000&start=1624610700\n",
      "https://www.bitstamp.net/api/v2/ohlc/ltceur/?&currency_pair=ltceur&step=60&limit=1000&start=1624670640\n",
      "https://www.bitstamp.net/api/v2/ohlc/ltceur/?&currency_pair=ltceur&step=60&limit=1000&start=1624730580\n",
      "https://www.bitstamp.net/api/v2/ohlc/ltceur/?&currency_pair=ltceur&step=60&limit=1000&start=1624790520\n",
      "https://www.bitstamp.net/api/v2/ohlc/ltceur/?&currency_pair=ltceur&step=60&limit=1000&start=1624850460\n",
      "https://www.bitstamp.net/api/v2/ohlc/ltceur/?&currency_pair=ltceur&step=60&limit=1000&start=1624910400\n",
      "https://www.bitstamp.net/api/v2/ohlc/ltceur/?&currency_pair=ltceur&step=60&limit=1000&start=1624970340\n",
      "https://www.bitstamp.net/api/v2/ohlc/ltceur/?&currency_pair=ltceur&step=60&limit=1000&start=1625030280\n",
      "https://www.bitstamp.net/api/v2/ohlc/ltceur/?&currency_pair=ltceur&step=60&limit=1000&start=1625090220\n",
      "https://www.bitstamp.net/api/v2/ohlc/ltceur/?&currency_pair=ltceur&step=60&limit=1000&start=1625150160\n",
      "https://www.bitstamp.net/api/v2/ohlc/ltceur/?&currency_pair=ltceur&step=60&limit=1000&start=1625210100\n",
      "https://www.bitstamp.net/api/v2/ohlc/ltceur/?&currency_pair=ltceur&step=60&limit=1000&start=1625270040\n",
      "https://www.bitstamp.net/api/v2/ohlc/ltceur/?&currency_pair=ltceur&step=60&limit=1000&start=1625329980\n",
      "https://www.bitstamp.net/api/v2/ohlc/ltceur/?&currency_pair=ltceur&step=60&limit=1000&start=1625389920\n",
      "https://www.bitstamp.net/api/v2/ohlc/ltceur/?&currency_pair=ltceur&step=60&limit=1000&start=1625449860\n",
      "https://www.bitstamp.net/api/v2/ohlc/ltceur/?&currency_pair=ltceur&step=60&limit=1000&start=1625509800\n",
      "https://www.bitstamp.net/api/v2/ohlc/ltceur/?&currency_pair=ltceur&step=60&limit=1000&start=1625569740\n",
      "https://www.bitstamp.net/api/v2/ohlc/ltceur/?&currency_pair=ltceur&step=60&limit=1000&start=1625629680\n",
      "https://www.bitstamp.net/api/v2/ohlc/ltceur/?&currency_pair=ltceur&step=60&limit=1000&start=1625689620\n",
      "https://www.bitstamp.net/api/v2/ohlc/ltceur/?&currency_pair=ltceur&step=60&limit=1000&start=1625749560\n",
      "https://www.bitstamp.net/api/v2/ohlc/ltceur/?&currency_pair=ltceur&step=60&limit=1000&start=1625809500\n",
      "https://www.bitstamp.net/api/v2/ohlc/ltceur/?&currency_pair=ltceur&step=60&limit=1000&start=1625869440\n",
      "https://www.bitstamp.net/api/v2/ohlc/ltceur/?&currency_pair=ltceur&step=60&limit=1000&start=1625929380\n",
      "https://www.bitstamp.net/api/v2/ohlc/ltceur/?&currency_pair=ltceur&step=60&limit=1000&start=1625989320\n",
      "https://www.bitstamp.net/api/v2/ohlc/ltceur/?&currency_pair=ltceur&step=60&limit=1000&start=1626049260\n",
      "https://www.bitstamp.net/api/v2/ohlc/ltceur/?&currency_pair=ltceur&step=60&limit=1000&start=1626109200\n",
      "https://www.bitstamp.net/api/v2/ohlc/ltceur/?&currency_pair=ltceur&step=60&limit=1000&start=1626169140\n",
      "https://www.bitstamp.net/api/v2/ohlc/ltceur/?&currency_pair=ltceur&step=60&limit=1000&start=1626229080\n",
      "https://www.bitstamp.net/api/v2/ohlc/ltceur/?&currency_pair=ltceur&step=60&limit=1000&start=1626289020\n",
      "Downloaded from 2021-06-15 00:00:00 to 2021-07-15 00:01:00 111.20\n",
      "Resample 1Min - TecAn ( windows 20, windows_limit 100 )\n",
      "Processing 43244 of ltceur\n"
     ]
    },
    {
     "data": {
      "application/vnd.jupyter.widget-view+json": {
       "model_id": "fb35e7eacb314c4689470a3582c4f76e",
       "version_major": 2,
       "version_minor": 0
      },
      "text/plain": [
       "  0%|          | 0/43244 [00:00<?, ?it/s]"
      ]
     },
     "metadata": {},
     "output_type": "display_data"
    },
    {
     "name": "stdout",
     "output_type": "stream",
     "text": [
      "https://www.bitstamp.net/api/v2/ohlc/ltcusd/?&currency_pair=ltcusd&step=60&limit=1000&start=1623711600\n",
      "https://www.bitstamp.net/api/v2/ohlc/ltcusd/?&currency_pair=ltcusd&step=60&limit=1000&start=1623771540\n",
      "https://www.bitstamp.net/api/v2/ohlc/ltcusd/?&currency_pair=ltcusd&step=60&limit=1000&start=1623831480\n",
      "https://www.bitstamp.net/api/v2/ohlc/ltcusd/?&currency_pair=ltcusd&step=60&limit=1000&start=1623891420\n",
      "https://www.bitstamp.net/api/v2/ohlc/ltcusd/?&currency_pair=ltcusd&step=60&limit=1000&start=1623951360\n",
      "https://www.bitstamp.net/api/v2/ohlc/ltcusd/?&currency_pair=ltcusd&step=60&limit=1000&start=1624011300\n",
      "https://www.bitstamp.net/api/v2/ohlc/ltcusd/?&currency_pair=ltcusd&step=60&limit=1000&start=1624071240\n",
      "https://www.bitstamp.net/api/v2/ohlc/ltcusd/?&currency_pair=ltcusd&step=60&limit=1000&start=1624131180\n",
      "https://www.bitstamp.net/api/v2/ohlc/ltcusd/?&currency_pair=ltcusd&step=60&limit=1000&start=1624191120\n",
      "https://www.bitstamp.net/api/v2/ohlc/ltcusd/?&currency_pair=ltcusd&step=60&limit=1000&start=1624251060\n",
      "https://www.bitstamp.net/api/v2/ohlc/ltcusd/?&currency_pair=ltcusd&step=60&limit=1000&start=1624311000\n",
      "https://www.bitstamp.net/api/v2/ohlc/ltcusd/?&currency_pair=ltcusd&step=60&limit=1000&start=1624370940\n",
      "https://www.bitstamp.net/api/v2/ohlc/ltcusd/?&currency_pair=ltcusd&step=60&limit=1000&start=1624430880\n",
      "https://www.bitstamp.net/api/v2/ohlc/ltcusd/?&currency_pair=ltcusd&step=60&limit=1000&start=1624490820\n",
      "https://www.bitstamp.net/api/v2/ohlc/ltcusd/?&currency_pair=ltcusd&step=60&limit=1000&start=1624550760\n",
      "https://www.bitstamp.net/api/v2/ohlc/ltcusd/?&currency_pair=ltcusd&step=60&limit=1000&start=1624610700\n",
      "https://www.bitstamp.net/api/v2/ohlc/ltcusd/?&currency_pair=ltcusd&step=60&limit=1000&start=1624670640\n",
      "https://www.bitstamp.net/api/v2/ohlc/ltcusd/?&currency_pair=ltcusd&step=60&limit=1000&start=1624730580\n",
      "https://www.bitstamp.net/api/v2/ohlc/ltcusd/?&currency_pair=ltcusd&step=60&limit=1000&start=1624790520\n",
      "https://www.bitstamp.net/api/v2/ohlc/ltcusd/?&currency_pair=ltcusd&step=60&limit=1000&start=1624850460\n",
      "https://www.bitstamp.net/api/v2/ohlc/ltcusd/?&currency_pair=ltcusd&step=60&limit=1000&start=1624910400\n",
      "https://www.bitstamp.net/api/v2/ohlc/ltcusd/?&currency_pair=ltcusd&step=60&limit=1000&start=1624970340\n",
      "https://www.bitstamp.net/api/v2/ohlc/ltcusd/?&currency_pair=ltcusd&step=60&limit=1000&start=1625030280\n",
      "https://www.bitstamp.net/api/v2/ohlc/ltcusd/?&currency_pair=ltcusd&step=60&limit=1000&start=1625090220\n",
      "https://www.bitstamp.net/api/v2/ohlc/ltcusd/?&currency_pair=ltcusd&step=60&limit=1000&start=1625150160\n",
      "https://www.bitstamp.net/api/v2/ohlc/ltcusd/?&currency_pair=ltcusd&step=60&limit=1000&start=1625210100\n",
      "https://www.bitstamp.net/api/v2/ohlc/ltcusd/?&currency_pair=ltcusd&step=60&limit=1000&start=1625270040\n",
      "https://www.bitstamp.net/api/v2/ohlc/ltcusd/?&currency_pair=ltcusd&step=60&limit=1000&start=1625329980\n",
      "https://www.bitstamp.net/api/v2/ohlc/ltcusd/?&currency_pair=ltcusd&step=60&limit=1000&start=1625389920\n",
      "https://www.bitstamp.net/api/v2/ohlc/ltcusd/?&currency_pair=ltcusd&step=60&limit=1000&start=1625449860\n",
      "https://www.bitstamp.net/api/v2/ohlc/ltcusd/?&currency_pair=ltcusd&step=60&limit=1000&start=1625509800\n",
      "https://www.bitstamp.net/api/v2/ohlc/ltcusd/?&currency_pair=ltcusd&step=60&limit=1000&start=1625569740\n",
      "https://www.bitstamp.net/api/v2/ohlc/ltcusd/?&currency_pair=ltcusd&step=60&limit=1000&start=1625629680\n",
      "https://www.bitstamp.net/api/v2/ohlc/ltcusd/?&currency_pair=ltcusd&step=60&limit=1000&start=1625689620\n",
      "https://www.bitstamp.net/api/v2/ohlc/ltcusd/?&currency_pair=ltcusd&step=60&limit=1000&start=1625749560\n",
      "https://www.bitstamp.net/api/v2/ohlc/ltcusd/?&currency_pair=ltcusd&step=60&limit=1000&start=1625809500\n",
      "https://www.bitstamp.net/api/v2/ohlc/ltcusd/?&currency_pair=ltcusd&step=60&limit=1000&start=1625869440\n",
      "https://www.bitstamp.net/api/v2/ohlc/ltcusd/?&currency_pair=ltcusd&step=60&limit=1000&start=1625929380\n",
      "https://www.bitstamp.net/api/v2/ohlc/ltcusd/?&currency_pair=ltcusd&step=60&limit=1000&start=1625989320\n",
      "https://www.bitstamp.net/api/v2/ohlc/ltcusd/?&currency_pair=ltcusd&step=60&limit=1000&start=1626049260\n",
      "https://www.bitstamp.net/api/v2/ohlc/ltcusd/?&currency_pair=ltcusd&step=60&limit=1000&start=1626109200\n",
      "https://www.bitstamp.net/api/v2/ohlc/ltcusd/?&currency_pair=ltcusd&step=60&limit=1000&start=1626169140\n",
      "https://www.bitstamp.net/api/v2/ohlc/ltcusd/?&currency_pair=ltcusd&step=60&limit=1000&start=1626229080\n",
      "https://www.bitstamp.net/api/v2/ohlc/ltcusd/?&currency_pair=ltcusd&step=60&limit=1000&start=1626289020\n",
      "Downloaded from 2021-06-15 00:00:00 to 2021-07-15 00:01:00 131.43\n",
      "Resample 1Min - TecAn ( windows 20, windows_limit 100 )\n",
      "Processing 43244 of ltcusd\n"
     ]
    },
    {
     "data": {
      "application/vnd.jupyter.widget-view+json": {
       "model_id": "c1d38c2fb6114e15ae0627dd11494269",
       "version_major": 2,
       "version_minor": 0
      },
      "text/plain": [
       "  0%|          | 0/43244 [00:00<?, ?it/s]"
      ]
     },
     "metadata": {},
     "output_type": "display_data"
    },
    {
     "name": "stdout",
     "output_type": "stream",
     "text": [
      "https://www.bitstamp.net/api/v2/ohlc/ethusd/?&currency_pair=ethusd&step=60&limit=1000&start=1623711600\n",
      "https://www.bitstamp.net/api/v2/ohlc/ethusd/?&currency_pair=ethusd&step=60&limit=1000&start=1623771540\n",
      "https://www.bitstamp.net/api/v2/ohlc/ethusd/?&currency_pair=ethusd&step=60&limit=1000&start=1623831480\n",
      "https://www.bitstamp.net/api/v2/ohlc/ethusd/?&currency_pair=ethusd&step=60&limit=1000&start=1623891420\n",
      "https://www.bitstamp.net/api/v2/ohlc/ethusd/?&currency_pair=ethusd&step=60&limit=1000&start=1623951360\n",
      "https://www.bitstamp.net/api/v2/ohlc/ethusd/?&currency_pair=ethusd&step=60&limit=1000&start=1624011300\n",
      "https://www.bitstamp.net/api/v2/ohlc/ethusd/?&currency_pair=ethusd&step=60&limit=1000&start=1624071240\n",
      "https://www.bitstamp.net/api/v2/ohlc/ethusd/?&currency_pair=ethusd&step=60&limit=1000&start=1624131180\n",
      "https://www.bitstamp.net/api/v2/ohlc/ethusd/?&currency_pair=ethusd&step=60&limit=1000&start=1624191120\n",
      "https://www.bitstamp.net/api/v2/ohlc/ethusd/?&currency_pair=ethusd&step=60&limit=1000&start=1624251060\n",
      "https://www.bitstamp.net/api/v2/ohlc/ethusd/?&currency_pair=ethusd&step=60&limit=1000&start=1624311000\n",
      "https://www.bitstamp.net/api/v2/ohlc/ethusd/?&currency_pair=ethusd&step=60&limit=1000&start=1624370940\n",
      "https://www.bitstamp.net/api/v2/ohlc/ethusd/?&currency_pair=ethusd&step=60&limit=1000&start=1624430880\n",
      "https://www.bitstamp.net/api/v2/ohlc/ethusd/?&currency_pair=ethusd&step=60&limit=1000&start=1624490820\n",
      "https://www.bitstamp.net/api/v2/ohlc/ethusd/?&currency_pair=ethusd&step=60&limit=1000&start=1624550760\n",
      "https://www.bitstamp.net/api/v2/ohlc/ethusd/?&currency_pair=ethusd&step=60&limit=1000&start=1624610700\n",
      "https://www.bitstamp.net/api/v2/ohlc/ethusd/?&currency_pair=ethusd&step=60&limit=1000&start=1624670640\n",
      "https://www.bitstamp.net/api/v2/ohlc/ethusd/?&currency_pair=ethusd&step=60&limit=1000&start=1624730580\n",
      "https://www.bitstamp.net/api/v2/ohlc/ethusd/?&currency_pair=ethusd&step=60&limit=1000&start=1624790520\n",
      "https://www.bitstamp.net/api/v2/ohlc/ethusd/?&currency_pair=ethusd&step=60&limit=1000&start=1624850460\n",
      "https://www.bitstamp.net/api/v2/ohlc/ethusd/?&currency_pair=ethusd&step=60&limit=1000&start=1624910400\n",
      "https://www.bitstamp.net/api/v2/ohlc/ethusd/?&currency_pair=ethusd&step=60&limit=1000&start=1624970340\n",
      "https://www.bitstamp.net/api/v2/ohlc/ethusd/?&currency_pair=ethusd&step=60&limit=1000&start=1625030280\n",
      "https://www.bitstamp.net/api/v2/ohlc/ethusd/?&currency_pair=ethusd&step=60&limit=1000&start=1625090220\n",
      "https://www.bitstamp.net/api/v2/ohlc/ethusd/?&currency_pair=ethusd&step=60&limit=1000&start=1625150160\n",
      "https://www.bitstamp.net/api/v2/ohlc/ethusd/?&currency_pair=ethusd&step=60&limit=1000&start=1625210100\n",
      "https://www.bitstamp.net/api/v2/ohlc/ethusd/?&currency_pair=ethusd&step=60&limit=1000&start=1625270040\n",
      "https://www.bitstamp.net/api/v2/ohlc/ethusd/?&currency_pair=ethusd&step=60&limit=1000&start=1625329980\n",
      "https://www.bitstamp.net/api/v2/ohlc/ethusd/?&currency_pair=ethusd&step=60&limit=1000&start=1625389920\n",
      "https://www.bitstamp.net/api/v2/ohlc/ethusd/?&currency_pair=ethusd&step=60&limit=1000&start=1625449860\n",
      "https://www.bitstamp.net/api/v2/ohlc/ethusd/?&currency_pair=ethusd&step=60&limit=1000&start=1625509800\n",
      "https://www.bitstamp.net/api/v2/ohlc/ethusd/?&currency_pair=ethusd&step=60&limit=1000&start=1625569740\n",
      "https://www.bitstamp.net/api/v2/ohlc/ethusd/?&currency_pair=ethusd&step=60&limit=1000&start=1625629680\n",
      "https://www.bitstamp.net/api/v2/ohlc/ethusd/?&currency_pair=ethusd&step=60&limit=1000&start=1625689620\n",
      "https://www.bitstamp.net/api/v2/ohlc/ethusd/?&currency_pair=ethusd&step=60&limit=1000&start=1625749560\n",
      "https://www.bitstamp.net/api/v2/ohlc/ethusd/?&currency_pair=ethusd&step=60&limit=1000&start=1625809500\n",
      "https://www.bitstamp.net/api/v2/ohlc/ethusd/?&currency_pair=ethusd&step=60&limit=1000&start=1625869440\n",
      "https://www.bitstamp.net/api/v2/ohlc/ethusd/?&currency_pair=ethusd&step=60&limit=1000&start=1625929380\n",
      "https://www.bitstamp.net/api/v2/ohlc/ethusd/?&currency_pair=ethusd&step=60&limit=1000&start=1625989320\n",
      "https://www.bitstamp.net/api/v2/ohlc/ethusd/?&currency_pair=ethusd&step=60&limit=1000&start=1626049260\n",
      "https://www.bitstamp.net/api/v2/ohlc/ethusd/?&currency_pair=ethusd&step=60&limit=1000&start=1626109200\n",
      "https://www.bitstamp.net/api/v2/ohlc/ethusd/?&currency_pair=ethusd&step=60&limit=1000&start=1626169140\n",
      "https://www.bitstamp.net/api/v2/ohlc/ethusd/?&currency_pair=ethusd&step=60&limit=1000&start=1626229080\n",
      "https://www.bitstamp.net/api/v2/ohlc/ethusd/?&currency_pair=ethusd&step=60&limit=1000&start=1626289020\n",
      "Downloaded from 2021-06-15 00:00:00 to 2021-07-15 00:01:00 2005.98\n",
      "Resample 1Min - TecAn ( windows 20, windows_limit 100 )\n",
      "Processing 43244 of ethusd\n"
     ]
    },
    {
     "data": {
      "application/vnd.jupyter.widget-view+json": {
       "model_id": "72f07d1ad35949fdb838a7a4901c8f96",
       "version_major": 2,
       "version_minor": 0
      },
      "text/plain": [
       "  0%|          | 0/43244 [00:00<?, ?it/s]"
      ]
     },
     "metadata": {},
     "output_type": "display_data"
    },
    {
     "name": "stdout",
     "output_type": "stream",
     "text": [
      "https://www.bitstamp.net/api/v2/ohlc/btcusd/?&currency_pair=btcusd&step=60&limit=1000&start=1623711600\n",
      "https://www.bitstamp.net/api/v2/ohlc/btcusd/?&currency_pair=btcusd&step=60&limit=1000&start=1623771540\n",
      "https://www.bitstamp.net/api/v2/ohlc/btcusd/?&currency_pair=btcusd&step=60&limit=1000&start=1623831480\n",
      "https://www.bitstamp.net/api/v2/ohlc/btcusd/?&currency_pair=btcusd&step=60&limit=1000&start=1623891420\n",
      "https://www.bitstamp.net/api/v2/ohlc/btcusd/?&currency_pair=btcusd&step=60&limit=1000&start=1623951360\n",
      "https://www.bitstamp.net/api/v2/ohlc/btcusd/?&currency_pair=btcusd&step=60&limit=1000&start=1624011300\n",
      "https://www.bitstamp.net/api/v2/ohlc/btcusd/?&currency_pair=btcusd&step=60&limit=1000&start=1624071240\n",
      "https://www.bitstamp.net/api/v2/ohlc/btcusd/?&currency_pair=btcusd&step=60&limit=1000&start=1624131180\n",
      "https://www.bitstamp.net/api/v2/ohlc/btcusd/?&currency_pair=btcusd&step=60&limit=1000&start=1624191120\n",
      "https://www.bitstamp.net/api/v2/ohlc/btcusd/?&currency_pair=btcusd&step=60&limit=1000&start=1624251060\n",
      "https://www.bitstamp.net/api/v2/ohlc/btcusd/?&currency_pair=btcusd&step=60&limit=1000&start=1624311000\n",
      "https://www.bitstamp.net/api/v2/ohlc/btcusd/?&currency_pair=btcusd&step=60&limit=1000&start=1624370940\n",
      "https://www.bitstamp.net/api/v2/ohlc/btcusd/?&currency_pair=btcusd&step=60&limit=1000&start=1624430880\n",
      "https://www.bitstamp.net/api/v2/ohlc/btcusd/?&currency_pair=btcusd&step=60&limit=1000&start=1624490820\n",
      "https://www.bitstamp.net/api/v2/ohlc/btcusd/?&currency_pair=btcusd&step=60&limit=1000&start=1624550760\n",
      "https://www.bitstamp.net/api/v2/ohlc/btcusd/?&currency_pair=btcusd&step=60&limit=1000&start=1624610700\n",
      "https://www.bitstamp.net/api/v2/ohlc/btcusd/?&currency_pair=btcusd&step=60&limit=1000&start=1624670640\n",
      "https://www.bitstamp.net/api/v2/ohlc/btcusd/?&currency_pair=btcusd&step=60&limit=1000&start=1624730580\n",
      "https://www.bitstamp.net/api/v2/ohlc/btcusd/?&currency_pair=btcusd&step=60&limit=1000&start=1624790520\n",
      "https://www.bitstamp.net/api/v2/ohlc/btcusd/?&currency_pair=btcusd&step=60&limit=1000&start=1624850460\n",
      "https://www.bitstamp.net/api/v2/ohlc/btcusd/?&currency_pair=btcusd&step=60&limit=1000&start=1624910400\n",
      "https://www.bitstamp.net/api/v2/ohlc/btcusd/?&currency_pair=btcusd&step=60&limit=1000&start=1624970340\n",
      "https://www.bitstamp.net/api/v2/ohlc/btcusd/?&currency_pair=btcusd&step=60&limit=1000&start=1625030280\n",
      "https://www.bitstamp.net/api/v2/ohlc/btcusd/?&currency_pair=btcusd&step=60&limit=1000&start=1625090220\n",
      "https://www.bitstamp.net/api/v2/ohlc/btcusd/?&currency_pair=btcusd&step=60&limit=1000&start=1625150160\n",
      "https://www.bitstamp.net/api/v2/ohlc/btcusd/?&currency_pair=btcusd&step=60&limit=1000&start=1625210100\n",
      "https://www.bitstamp.net/api/v2/ohlc/btcusd/?&currency_pair=btcusd&step=60&limit=1000&start=1625270040\n",
      "https://www.bitstamp.net/api/v2/ohlc/btcusd/?&currency_pair=btcusd&step=60&limit=1000&start=1625329980\n",
      "https://www.bitstamp.net/api/v2/ohlc/btcusd/?&currency_pair=btcusd&step=60&limit=1000&start=1625389920\n",
      "https://www.bitstamp.net/api/v2/ohlc/btcusd/?&currency_pair=btcusd&step=60&limit=1000&start=1625449860\n",
      "https://www.bitstamp.net/api/v2/ohlc/btcusd/?&currency_pair=btcusd&step=60&limit=1000&start=1625509800\n",
      "https://www.bitstamp.net/api/v2/ohlc/btcusd/?&currency_pair=btcusd&step=60&limit=1000&start=1625569740\n",
      "https://www.bitstamp.net/api/v2/ohlc/btcusd/?&currency_pair=btcusd&step=60&limit=1000&start=1625629680\n",
      "https://www.bitstamp.net/api/v2/ohlc/btcusd/?&currency_pair=btcusd&step=60&limit=1000&start=1625689620\n",
      "https://www.bitstamp.net/api/v2/ohlc/btcusd/?&currency_pair=btcusd&step=60&limit=1000&start=1625749560\n",
      "https://www.bitstamp.net/api/v2/ohlc/btcusd/?&currency_pair=btcusd&step=60&limit=1000&start=1625809500\n",
      "https://www.bitstamp.net/api/v2/ohlc/btcusd/?&currency_pair=btcusd&step=60&limit=1000&start=1625869440\n",
      "https://www.bitstamp.net/api/v2/ohlc/btcusd/?&currency_pair=btcusd&step=60&limit=1000&start=1625929380\n",
      "https://www.bitstamp.net/api/v2/ohlc/btcusd/?&currency_pair=btcusd&step=60&limit=1000&start=1625989320\n",
      "https://www.bitstamp.net/api/v2/ohlc/btcusd/?&currency_pair=btcusd&step=60&limit=1000&start=1626049260\n",
      "https://www.bitstamp.net/api/v2/ohlc/btcusd/?&currency_pair=btcusd&step=60&limit=1000&start=1626109200\n",
      "https://www.bitstamp.net/api/v2/ohlc/btcusd/?&currency_pair=btcusd&step=60&limit=1000&start=1626169140\n",
      "https://www.bitstamp.net/api/v2/ohlc/btcusd/?&currency_pair=btcusd&step=60&limit=1000&start=1626229080\n",
      "https://www.bitstamp.net/api/v2/ohlc/btcusd/?&currency_pair=btcusd&step=60&limit=1000&start=1626289020\n",
      "Downloaded from 2021-06-15 00:00:00 to 2021-07-15 00:01:00 32987.01\n",
      "Resample 1Min - TecAn ( windows 20, windows_limit 100 )\n",
      "Processing 43244 of btcusd\n"
     ]
    },
    {
     "data": {
      "application/vnd.jupyter.widget-view+json": {
       "model_id": "a8206aafd924491e8a18539ea0ae4970",
       "version_major": 2,
       "version_minor": 0
      },
      "text/plain": [
       "  0%|          | 0/43244 [00:00<?, ?it/s]"
      ]
     },
     "metadata": {},
     "output_type": "display_data"
    },
    {
     "name": "stdout",
     "output_type": "stream",
     "text": [
      "https://www.bitstamp.net/api/v2/ohlc/btcusd/?&currency_pair=btcusd&step=60&limit=1000&start=1622502000\n",
      "Downloaded from 2021-06-01 00:00:00 to 2021-06-01 16:39:00 36197.21\n",
      "Resample 1Min - TecAn ( windows 30, windows_limit 100 )\n",
      "Processing 999 of btcusd\n"
     ]
    },
    {
     "data": {
      "application/vnd.jupyter.widget-view+json": {
       "model_id": "cc992dde7bde4a63b02546d7df156151",
       "version_major": 2,
       "version_minor": 0
      },
      "text/plain": [
       "  0%|          | 0/999 [00:00<?, ?it/s]"
      ]
     },
     "metadata": {},
     "output_type": "display_data"
    },
    {
     "name": "stdout",
     "output_type": "stream",
     "text": [
      "https://www.bitstamp.net/api/v2/ohlc/ethusd/?&currency_pair=ethusd&step=60&limit=1000&start=1622502000\n",
      "Downloaded from 2021-06-01 00:00:00 to 2021-06-01 16:39:00 2570.77\n",
      "Resample 1Min - TecAn ( windows 30, windows_limit 100 )\n",
      "Processing 999 of ethusd\n"
     ]
    },
    {
     "data": {
      "application/vnd.jupyter.widget-view+json": {
       "model_id": "6f56a1e7e1bd494a872a1e3d0ac80377",
       "version_major": 2,
       "version_minor": 0
      },
      "text/plain": [
       "  0%|          | 0/999 [00:00<?, ?it/s]"
      ]
     },
     "metadata": {},
     "output_type": "display_data"
    },
    {
     "name": "stdout",
     "output_type": "stream",
     "text": [
      "https://www.bitstamp.net/api/v2/ohlc/bchbtc/?&currency_pair=bchbtc&step=60&limit=1000&start=1622502000\n",
      "Downloaded from 2021-06-01 00:00:00 to 2021-06-01 16:39:00 0.01879888\n",
      "Resample 1Min - TecAn ( windows 30, windows_limit 100 )\n",
      "Processing 999 of bchbtc\n"
     ]
    },
    {
     "data": {
      "application/vnd.jupyter.widget-view+json": {
       "model_id": "3878061c37e741a0a7d99e472669f5d7",
       "version_major": 2,
       "version_minor": 0
      },
      "text/plain": [
       "  0%|          | 0/999 [00:00<?, ?it/s]"
      ]
     },
     "metadata": {},
     "output_type": "display_data"
    },
    {
     "name": "stdout",
     "output_type": "stream",
     "text": [
      "https://www.bitstamp.net/api/v2/ohlc/btcusd/?&currency_pair=btcusd&step=60&limit=1000&start=1590966000\n",
      "Downloaded from 2020-06-01 00:00:00 to 2020-06-01 16:39:00 9542.01\n",
      "Resample 1Min - TecAn ( windows 30, windows_limit 100 )\n",
      "Processing 999 of btcusd\n"
     ]
    },
    {
     "data": {
      "application/vnd.jupyter.widget-view+json": {
       "model_id": "92ac2c17c01647d79e52a51454d600ac",
       "version_major": 2,
       "version_minor": 0
      },
      "text/plain": [
       "  0%|          | 0/999 [00:00<?, ?it/s]"
      ]
     },
     "metadata": {},
     "output_type": "display_data"
    },
    {
     "name": "stdout",
     "output_type": "stream",
     "text": [
      "https://www.bitstamp.net/api/v2/ohlc/ethusd/?&currency_pair=ethusd&step=60&limit=1000&start=1590966000\n",
      "Downloaded from 2020-06-01 00:00:00 to 2020-06-01 16:39:00 238.00\n",
      "Resample 1Min - TecAn ( windows 30, windows_limit 100 )\n",
      "Processing 999 of ethusd\n"
     ]
    },
    {
     "data": {
      "application/vnd.jupyter.widget-view+json": {
       "model_id": "9410289bc11a430aa099b5bca55e1d9a",
       "version_major": 2,
       "version_minor": 0
      },
      "text/plain": [
       "  0%|          | 0/999 [00:00<?, ?it/s]"
      ]
     },
     "metadata": {},
     "output_type": "display_data"
    },
    {
     "name": "stdout",
     "output_type": "stream",
     "text": [
      "https://www.bitstamp.net/api/v2/ohlc/bchbtc/?&currency_pair=bchbtc&step=60&limit=1000&start=1590966000\n",
      "Downloaded from 2020-06-01 00:00:00 to 2020-06-01 16:39:00 0.02548768\n",
      "Resample 1Min - TecAn ( windows 30, windows_limit 100 )\n",
      "Processing 999 of bchbtc\n"
     ]
    },
    {
     "data": {
      "application/vnd.jupyter.widget-view+json": {
       "model_id": "cca1164e2b25472abd9270b75160931b",
       "version_major": 2,
       "version_minor": 0
      },
      "text/plain": [
       "  0%|          | 0/999 [00:00<?, ?it/s]"
      ]
     },
     "metadata": {},
     "output_type": "display_data"
    },
    {
     "name": "stdout",
     "output_type": "stream",
     "text": [
      "https://www.bitstamp.net/api/v2/ohlc/btcusd/?&currency_pair=btcusd&step=60&limit=1000&start=1559343600\n",
      "Downloaded from 2019-06-01 00:00:00 to 2019-06-01 16:39:00 8532.29\n",
      "Resample 1Min - TecAn ( windows 30, windows_limit 100 )\n",
      "Processing 999 of btcusd\n"
     ]
    },
    {
     "data": {
      "application/vnd.jupyter.widget-view+json": {
       "model_id": "73bde5ec66b542e78471d71b16035a02",
       "version_major": 2,
       "version_minor": 0
      },
      "text/plain": [
       "  0%|          | 0/999 [00:00<?, ?it/s]"
      ]
     },
     "metadata": {},
     "output_type": "display_data"
    },
    {
     "name": "stdout",
     "output_type": "stream",
     "text": [
      "https://www.bitstamp.net/api/v2/ohlc/ethusd/?&currency_pair=ethusd&step=60&limit=1000&start=1559343600\n",
      "Downloaded from 2019-06-01 00:00:00 to 2019-06-01 16:39:00 264.88\n",
      "Resample 1Min - TecAn ( windows 30, windows_limit 100 )\n",
      "Processing 999 of ethusd\n"
     ]
    },
    {
     "data": {
      "application/vnd.jupyter.widget-view+json": {
       "model_id": "07abedc6285b435dae1378879df732e2",
       "version_major": 2,
       "version_minor": 0
      },
      "text/plain": [
       "  0%|          | 0/999 [00:00<?, ?it/s]"
      ]
     },
     "metadata": {},
     "output_type": "display_data"
    },
    {
     "name": "stdout",
     "output_type": "stream",
     "text": [
      "https://www.bitstamp.net/api/v2/ohlc/bchbtc/?&currency_pair=bchbtc&step=60&limit=1000&start=1559343600\n",
      "Downloaded from 2019-06-01 00:00:00 to 2019-06-01 16:39:00 0.05072740\n",
      "Resample 1Min - TecAn ( windows 30, windows_limit 100 )\n",
      "Processing 999 of bchbtc\n"
     ]
    },
    {
     "data": {
      "application/vnd.jupyter.widget-view+json": {
       "model_id": "3bc345dbf38e470bba2be692f9f702d8",
       "version_major": 2,
       "version_minor": 0
      },
      "text/plain": [
       "  0%|          | 0/999 [00:00<?, ?it/s]"
      ]
     },
     "metadata": {},
     "output_type": "display_data"
    },
    {
     "name": "stdout",
     "output_type": "stream",
     "text": [
      "https://www.bitstamp.net/api/v2/ohlc/btcusd/?&currency_pair=btcusd&step=60&limit=1000&start=1527807600\n",
      "Downloaded from 2018-06-01 00:00:00 to 2018-06-01 16:39:00 7437.99\n",
      "Resample 1Min - TecAn ( windows 30, windows_limit 100 )\n",
      "Processing 999 of btcusd\n"
     ]
    },
    {
     "data": {
      "application/vnd.jupyter.widget-view+json": {
       "model_id": "2bc8a51f70fb4764993712aed5d3056d",
       "version_major": 2,
       "version_minor": 0
      },
      "text/plain": [
       "  0%|          | 0/999 [00:00<?, ?it/s]"
      ]
     },
     "metadata": {},
     "output_type": "display_data"
    },
    {
     "name": "stdout",
     "output_type": "stream",
     "text": [
      "https://www.bitstamp.net/api/v2/ohlc/ethusd/?&currency_pair=ethusd&step=60&limit=1000&start=1527807600\n",
      "Downloaded from 2018-06-01 00:00:00 to 2018-06-01 16:39:00 573.99\n",
      "Resample 1Min - TecAn ( windows 30, windows_limit 100 )\n",
      "Processing 999 of ethusd\n"
     ]
    },
    {
     "data": {
      "application/vnd.jupyter.widget-view+json": {
       "model_id": "9be0cc7864ec4279a78a3f1ec5d7e323",
       "version_major": 2,
       "version_minor": 0
      },
      "text/plain": [
       "  0%|          | 0/999 [00:00<?, ?it/s]"
      ]
     },
     "metadata": {},
     "output_type": "display_data"
    },
    {
     "name": "stdout",
     "output_type": "stream",
     "text": [
      "https://www.bitstamp.net/api/v2/ohlc/bchbtc/?&currency_pair=bchbtc&step=60&limit=1000&start=1527807600\n",
      "Downloaded from 2018-06-01 00:00:00 to 2018-06-01 16:39:00 0.13303776\n",
      "Resample 1Min - TecAn ( windows 30, windows_limit 100 )\n",
      "Processing 999 of bchbtc\n"
     ]
    },
    {
     "data": {
      "application/vnd.jupyter.widget-view+json": {
       "model_id": "a391c208dd474a56aa89eb52ee7e2fb6",
       "version_major": 2,
       "version_minor": 0
      },
      "text/plain": [
       "  0%|          | 0/999 [00:00<?, ?it/s]"
      ]
     },
     "metadata": {},
     "output_type": "display_data"
    },
    {
     "name": "stdout",
     "output_type": "stream",
     "text": [
      "https://www.bitstamp.net/api/v2/ohlc/btcusd/?&currency_pair=btcusd&step=60&limit=1000&start=1517443200\n",
      "Downloaded from 2018-02-01 00:00:00 to 2018-02-01 16:39:00 8850.34\n",
      "Resample 1Min - TecAn ( windows 30, windows_limit 100 )\n",
      "Processing 999 of btcusd\n"
     ]
    },
    {
     "data": {
      "application/vnd.jupyter.widget-view+json": {
       "model_id": "fff107af053a478d99d0bcdba1ed93a5",
       "version_major": 2,
       "version_minor": 0
      },
      "text/plain": [
       "  0%|          | 0/999 [00:00<?, ?it/s]"
      ]
     },
     "metadata": {},
     "output_type": "display_data"
    },
    {
     "name": "stdout",
     "output_type": "stream",
     "text": [
      "https://www.bitstamp.net/api/v2/ohlc/ethusd/?&currency_pair=ethusd&step=60&limit=1000&start=1517443200\n",
      "Downloaded from 2018-02-01 00:00:00 to 2018-02-01 16:39:00 1005.89\n",
      "Resample 1Min - TecAn ( windows 30, windows_limit 100 )\n",
      "Processing 999 of ethusd\n"
     ]
    },
    {
     "data": {
      "application/vnd.jupyter.widget-view+json": {
       "model_id": "5aecba90b4d7402f936dcbe1e0c4891c",
       "version_major": 2,
       "version_minor": 0
      },
      "text/plain": [
       "  0%|          | 0/999 [00:00<?, ?it/s]"
      ]
     },
     "metadata": {},
     "output_type": "display_data"
    },
    {
     "name": "stdout",
     "output_type": "stream",
     "text": [
      "https://www.bitstamp.net/api/v2/ohlc/bchbtc/?&currency_pair=bchbtc&step=60&limit=1000&start=1517443200\n",
      "Downloaded from 2018-02-01 00:00:00 to 2018-02-01 16:39:00 0.14180730\n",
      "Resample 1Min - TecAn ( windows 30, windows_limit 100 )\n",
      "Processing 999 of bchbtc\n"
     ]
    },
    {
     "data": {
      "application/vnd.jupyter.widget-view+json": {
       "model_id": "e845aba5a372444da6cba6dbc42108b9",
       "version_major": 2,
       "version_minor": 0
      },
      "text/plain": [
       "  0%|          | 0/999 [00:00<?, ?it/s]"
      ]
     },
     "metadata": {},
     "output_type": "display_data"
    },
    {
     "name": "stdout",
     "output_type": "stream",
     "text": [
      "https://www.bitstamp.net/api/v2/ohlc/btcusd/?&currency_pair=btcusd&step=60&limit=1000&start=1548979200\n",
      "Downloaded from 2019-02-01 00:00:00 to 2019-02-01 16:39:00 3423.18\n",
      "Resample 1Min - TecAn ( windows 30, windows_limit 100 )\n",
      "Processing 999 of btcusd\n"
     ]
    },
    {
     "data": {
      "application/vnd.jupyter.widget-view+json": {
       "model_id": "b4d62b655aa240cebd702edb4e920c2a",
       "version_major": 2,
       "version_minor": 0
      },
      "text/plain": [
       "  0%|          | 0/999 [00:00<?, ?it/s]"
      ]
     },
     "metadata": {},
     "output_type": "display_data"
    },
    {
     "name": "stdout",
     "output_type": "stream",
     "text": [
      "https://www.bitstamp.net/api/v2/ohlc/ethusd/?&currency_pair=ethusd&step=60&limit=1000&start=1548979200\n",
      "Downloaded from 2019-02-01 00:00:00 to 2019-02-01 16:39:00 105.36\n",
      "Resample 1Min - TecAn ( windows 30, windows_limit 100 )\n",
      "Processing 999 of ethusd\n"
     ]
    },
    {
     "data": {
      "application/vnd.jupyter.widget-view+json": {
       "model_id": "7f6fbbf978dc4a1e86c56163e62d78fc",
       "version_major": 2,
       "version_minor": 0
      },
      "text/plain": [
       "  0%|          | 0/999 [00:00<?, ?it/s]"
      ]
     },
     "metadata": {},
     "output_type": "display_data"
    },
    {
     "name": "stdout",
     "output_type": "stream",
     "text": [
      "https://www.bitstamp.net/api/v2/ohlc/bchbtc/?&currency_pair=bchbtc&step=60&limit=1000&start=1548979200\n",
      "Downloaded from 2019-02-01 00:00:00 to 2019-02-01 16:39:00 0.03348000\n",
      "Resample 1Min - TecAn ( windows 30, windows_limit 100 )\n",
      "Processing 999 of bchbtc\n"
     ]
    },
    {
     "data": {
      "application/vnd.jupyter.widget-view+json": {
       "model_id": "9aee406ef340475d8985f43cf8b9a67e",
       "version_major": 2,
       "version_minor": 0
      },
      "text/plain": [
       "  0%|          | 0/999 [00:00<?, ?it/s]"
      ]
     },
     "metadata": {},
     "output_type": "display_data"
    },
    {
     "name": "stdout",
     "output_type": "stream",
     "text": [
      "https://www.bitstamp.net/api/v2/ohlc/btcusd/?&currency_pair=btcusd&step=60&limit=1000&start=1580515200\n",
      "Downloaded from 2020-02-01 00:00:00 to 2020-02-01 16:39:00 9360.98\n",
      "Resample 1Min - TecAn ( windows 30, windows_limit 100 )\n",
      "Processing 999 of btcusd\n"
     ]
    },
    {
     "data": {
      "application/vnd.jupyter.widget-view+json": {
       "model_id": "5515d419f9b54ae0be579c3b213fb37b",
       "version_major": 2,
       "version_minor": 0
      },
      "text/plain": [
       "  0%|          | 0/999 [00:00<?, ?it/s]"
      ]
     },
     "metadata": {},
     "output_type": "display_data"
    },
    {
     "name": "stdout",
     "output_type": "stream",
     "text": [
      "https://www.bitstamp.net/api/v2/ohlc/ethusd/?&currency_pair=ethusd&step=60&limit=1000&start=1580515200\n",
      "Downloaded from 2020-02-01 00:00:00 to 2020-02-01 16:39:00 182.90\n",
      "Resample 1Min - TecAn ( windows 30, windows_limit 100 )\n",
      "Processing 999 of ethusd\n"
     ]
    },
    {
     "data": {
      "application/vnd.jupyter.widget-view+json": {
       "model_id": "34ce67956a9f459d867c1c12c75f1949",
       "version_major": 2,
       "version_minor": 0
      },
      "text/plain": [
       "  0%|          | 0/999 [00:00<?, ?it/s]"
      ]
     },
     "metadata": {},
     "output_type": "display_data"
    },
    {
     "name": "stdout",
     "output_type": "stream",
     "text": [
      "https://www.bitstamp.net/api/v2/ohlc/bchbtc/?&currency_pair=bchbtc&step=60&limit=1000&start=1580515200\n",
      "Downloaded from 2020-02-01 00:00:00 to 2020-02-01 16:39:00 0.04063856\n",
      "Resample 1Min - TecAn ( windows 30, windows_limit 100 )\n",
      "Processing 999 of bchbtc\n"
     ]
    },
    {
     "data": {
      "application/vnd.jupyter.widget-view+json": {
       "model_id": "15d97fed397c4e4e8c8b289083d4b6ab",
       "version_major": 2,
       "version_minor": 0
      },
      "text/plain": [
       "  0%|          | 0/999 [00:00<?, ?it/s]"
      ]
     },
     "metadata": {},
     "output_type": "display_data"
    },
    {
     "name": "stdout",
     "output_type": "stream",
     "text": [
      "https://www.bitstamp.net/api/v2/ohlc/btcusd/?&currency_pair=btcusd&step=60&limit=1000&start=1612137600\n",
      "Downloaded from 2021-02-01 00:00:00 to 2021-02-01 16:39:00 33368.98\n",
      "Resample 1Min - TecAn ( windows 30, windows_limit 100 )\n",
      "Processing 999 of btcusd\n"
     ]
    },
    {
     "data": {
      "application/vnd.jupyter.widget-view+json": {
       "model_id": "50c5853db2a84c2cbeb8f3e5ec3c171b",
       "version_major": 2,
       "version_minor": 0
      },
      "text/plain": [
       "  0%|          | 0/999 [00:00<?, ?it/s]"
      ]
     },
     "metadata": {},
     "output_type": "display_data"
    },
    {
     "name": "stdout",
     "output_type": "stream",
     "text": [
      "https://www.bitstamp.net/api/v2/ohlc/ethusd/?&currency_pair=ethusd&step=60&limit=1000&start=1612137600\n",
      "Downloaded from 2021-02-01 00:00:00 to 2021-02-01 16:39:00 1309.56\n",
      "Resample 1Min - TecAn ( windows 30, windows_limit 100 )\n",
      "Processing 999 of ethusd\n"
     ]
    },
    {
     "data": {
      "application/vnd.jupyter.widget-view+json": {
       "model_id": "1cd617d66b224394b4e1b86b1c342a83",
       "version_major": 2,
       "version_minor": 0
      },
      "text/plain": [
       "  0%|          | 0/999 [00:00<?, ?it/s]"
      ]
     },
     "metadata": {},
     "output_type": "display_data"
    },
    {
     "name": "stdout",
     "output_type": "stream",
     "text": [
      "https://www.bitstamp.net/api/v2/ohlc/bchbtc/?&currency_pair=bchbtc&step=60&limit=1000&start=1612137600\n",
      "Downloaded from 2021-02-01 00:00:00 to 2021-02-01 16:39:00 0.01226651\n",
      "Resample 1Min - TecAn ( windows 30, windows_limit 100 )\n",
      "Processing 999 of bchbtc\n"
     ]
    },
    {
     "data": {
      "application/vnd.jupyter.widget-view+json": {
       "model_id": "0d523d8e4e6c44a7927835e5eb8620c5",
       "version_major": 2,
       "version_minor": 0
      },
      "text/plain": [
       "  0%|          | 0/999 [00:00<?, ?it/s]"
      ]
     },
     "metadata": {},
     "output_type": "display_data"
    },
    {
     "name": "stdout",
     "output_type": "stream",
     "text": [
      "https://www.bitstamp.net/api/v2/ohlc/ltceur/?&currency_pair=ltceur&step=60&limit=1000&start=1623711600\n",
      "https://www.bitstamp.net/api/v2/ohlc/ltceur/?&currency_pair=ltceur&step=60&limit=1000&start=1623771540\n",
      "https://www.bitstamp.net/api/v2/ohlc/ltceur/?&currency_pair=ltceur&step=60&limit=1000&start=1623831480\n",
      "https://www.bitstamp.net/api/v2/ohlc/ltceur/?&currency_pair=ltceur&step=60&limit=1000&start=1623891420\n",
      "https://www.bitstamp.net/api/v2/ohlc/ltceur/?&currency_pair=ltceur&step=60&limit=1000&start=1623951360\n",
      "https://www.bitstamp.net/api/v2/ohlc/ltceur/?&currency_pair=ltceur&step=60&limit=1000&start=1624011300\n",
      "https://www.bitstamp.net/api/v2/ohlc/ltceur/?&currency_pair=ltceur&step=60&limit=1000&start=1624071240\n",
      "https://www.bitstamp.net/api/v2/ohlc/ltceur/?&currency_pair=ltceur&step=60&limit=1000&start=1624131180\n",
      "https://www.bitstamp.net/api/v2/ohlc/ltceur/?&currency_pair=ltceur&step=60&limit=1000&start=1624191120\n",
      "https://www.bitstamp.net/api/v2/ohlc/ltceur/?&currency_pair=ltceur&step=60&limit=1000&start=1624251060\n",
      "https://www.bitstamp.net/api/v2/ohlc/ltceur/?&currency_pair=ltceur&step=60&limit=1000&start=1624311000\n",
      "https://www.bitstamp.net/api/v2/ohlc/ltceur/?&currency_pair=ltceur&step=60&limit=1000&start=1624370940\n",
      "https://www.bitstamp.net/api/v2/ohlc/ltceur/?&currency_pair=ltceur&step=60&limit=1000&start=1624430880\n",
      "https://www.bitstamp.net/api/v2/ohlc/ltceur/?&currency_pair=ltceur&step=60&limit=1000&start=1624490820\n",
      "https://www.bitstamp.net/api/v2/ohlc/ltceur/?&currency_pair=ltceur&step=60&limit=1000&start=1624550760\n",
      "https://www.bitstamp.net/api/v2/ohlc/ltceur/?&currency_pair=ltceur&step=60&limit=1000&start=1624610700\n",
      "https://www.bitstamp.net/api/v2/ohlc/ltceur/?&currency_pair=ltceur&step=60&limit=1000&start=1624670640\n",
      "https://www.bitstamp.net/api/v2/ohlc/ltceur/?&currency_pair=ltceur&step=60&limit=1000&start=1624730580\n",
      "https://www.bitstamp.net/api/v2/ohlc/ltceur/?&currency_pair=ltceur&step=60&limit=1000&start=1624790520\n",
      "https://www.bitstamp.net/api/v2/ohlc/ltceur/?&currency_pair=ltceur&step=60&limit=1000&start=1624850460\n",
      "https://www.bitstamp.net/api/v2/ohlc/ltceur/?&currency_pair=ltceur&step=60&limit=1000&start=1624910400\n",
      "https://www.bitstamp.net/api/v2/ohlc/ltceur/?&currency_pair=ltceur&step=60&limit=1000&start=1624970340\n",
      "https://www.bitstamp.net/api/v2/ohlc/ltceur/?&currency_pair=ltceur&step=60&limit=1000&start=1625030280\n",
      "https://www.bitstamp.net/api/v2/ohlc/ltceur/?&currency_pair=ltceur&step=60&limit=1000&start=1625090220\n",
      "https://www.bitstamp.net/api/v2/ohlc/ltceur/?&currency_pair=ltceur&step=60&limit=1000&start=1625150160\n",
      "https://www.bitstamp.net/api/v2/ohlc/ltceur/?&currency_pair=ltceur&step=60&limit=1000&start=1625210100\n",
      "https://www.bitstamp.net/api/v2/ohlc/ltceur/?&currency_pair=ltceur&step=60&limit=1000&start=1625270040\n",
      "https://www.bitstamp.net/api/v2/ohlc/ltceur/?&currency_pair=ltceur&step=60&limit=1000&start=1625329980\n",
      "https://www.bitstamp.net/api/v2/ohlc/ltceur/?&currency_pair=ltceur&step=60&limit=1000&start=1625389920\n",
      "https://www.bitstamp.net/api/v2/ohlc/ltceur/?&currency_pair=ltceur&step=60&limit=1000&start=1625449860\n",
      "https://www.bitstamp.net/api/v2/ohlc/ltceur/?&currency_pair=ltceur&step=60&limit=1000&start=1625509800\n",
      "https://www.bitstamp.net/api/v2/ohlc/ltceur/?&currency_pair=ltceur&step=60&limit=1000&start=1625569740\n",
      "https://www.bitstamp.net/api/v2/ohlc/ltceur/?&currency_pair=ltceur&step=60&limit=1000&start=1625629680\n",
      "https://www.bitstamp.net/api/v2/ohlc/ltceur/?&currency_pair=ltceur&step=60&limit=1000&start=1625689620\n",
      "https://www.bitstamp.net/api/v2/ohlc/ltceur/?&currency_pair=ltceur&step=60&limit=1000&start=1625749560\n",
      "https://www.bitstamp.net/api/v2/ohlc/ltceur/?&currency_pair=ltceur&step=60&limit=1000&start=1625809500\n",
      "https://www.bitstamp.net/api/v2/ohlc/ltceur/?&currency_pair=ltceur&step=60&limit=1000&start=1625869440\n",
      "https://www.bitstamp.net/api/v2/ohlc/ltceur/?&currency_pair=ltceur&step=60&limit=1000&start=1625929380\n",
      "https://www.bitstamp.net/api/v2/ohlc/ltceur/?&currency_pair=ltceur&step=60&limit=1000&start=1625989320\n",
      "https://www.bitstamp.net/api/v2/ohlc/ltceur/?&currency_pair=ltceur&step=60&limit=1000&start=1626049260\n",
      "https://www.bitstamp.net/api/v2/ohlc/ltceur/?&currency_pair=ltceur&step=60&limit=1000&start=1626109200\n",
      "https://www.bitstamp.net/api/v2/ohlc/ltceur/?&currency_pair=ltceur&step=60&limit=1000&start=1626169140\n",
      "https://www.bitstamp.net/api/v2/ohlc/ltceur/?&currency_pair=ltceur&step=60&limit=1000&start=1626229080\n",
      "https://www.bitstamp.net/api/v2/ohlc/ltceur/?&currency_pair=ltceur&step=60&limit=1000&start=1626289020\n",
      "Downloaded from 2021-06-15 00:00:00 to 2021-07-15 00:01:00 111.20\n",
      "Resample 1Min - TecAn ( windows 30, windows_limit 100 )\n",
      "Processing 43244 of ltceur\n"
     ]
    },
    {
     "data": {
      "application/vnd.jupyter.widget-view+json": {
       "model_id": "d8e34797550f44bbbac6a2e11f6c203d",
       "version_major": 2,
       "version_minor": 0
      },
      "text/plain": [
       "  0%|          | 0/43244 [00:00<?, ?it/s]"
      ]
     },
     "metadata": {},
     "output_type": "display_data"
    },
    {
     "name": "stdout",
     "output_type": "stream",
     "text": [
      "https://www.bitstamp.net/api/v2/ohlc/ltcusd/?&currency_pair=ltcusd&step=60&limit=1000&start=1623711600\n",
      "https://www.bitstamp.net/api/v2/ohlc/ltcusd/?&currency_pair=ltcusd&step=60&limit=1000&start=1623771540\n",
      "https://www.bitstamp.net/api/v2/ohlc/ltcusd/?&currency_pair=ltcusd&step=60&limit=1000&start=1623831480\n",
      "https://www.bitstamp.net/api/v2/ohlc/ltcusd/?&currency_pair=ltcusd&step=60&limit=1000&start=1623891420\n",
      "https://www.bitstamp.net/api/v2/ohlc/ltcusd/?&currency_pair=ltcusd&step=60&limit=1000&start=1623951360\n",
      "https://www.bitstamp.net/api/v2/ohlc/ltcusd/?&currency_pair=ltcusd&step=60&limit=1000&start=1624011300\n",
      "https://www.bitstamp.net/api/v2/ohlc/ltcusd/?&currency_pair=ltcusd&step=60&limit=1000&start=1624071240\n",
      "https://www.bitstamp.net/api/v2/ohlc/ltcusd/?&currency_pair=ltcusd&step=60&limit=1000&start=1624131180\n",
      "https://www.bitstamp.net/api/v2/ohlc/ltcusd/?&currency_pair=ltcusd&step=60&limit=1000&start=1624191120\n",
      "https://www.bitstamp.net/api/v2/ohlc/ltcusd/?&currency_pair=ltcusd&step=60&limit=1000&start=1624251060\n",
      "https://www.bitstamp.net/api/v2/ohlc/ltcusd/?&currency_pair=ltcusd&step=60&limit=1000&start=1624311000\n",
      "https://www.bitstamp.net/api/v2/ohlc/ltcusd/?&currency_pair=ltcusd&step=60&limit=1000&start=1624370940\n",
      "https://www.bitstamp.net/api/v2/ohlc/ltcusd/?&currency_pair=ltcusd&step=60&limit=1000&start=1624430880\n",
      "https://www.bitstamp.net/api/v2/ohlc/ltcusd/?&currency_pair=ltcusd&step=60&limit=1000&start=1624490820\n",
      "https://www.bitstamp.net/api/v2/ohlc/ltcusd/?&currency_pair=ltcusd&step=60&limit=1000&start=1624550760\n",
      "https://www.bitstamp.net/api/v2/ohlc/ltcusd/?&currency_pair=ltcusd&step=60&limit=1000&start=1624610700\n",
      "https://www.bitstamp.net/api/v2/ohlc/ltcusd/?&currency_pair=ltcusd&step=60&limit=1000&start=1624670640\n",
      "https://www.bitstamp.net/api/v2/ohlc/ltcusd/?&currency_pair=ltcusd&step=60&limit=1000&start=1624730580\n",
      "https://www.bitstamp.net/api/v2/ohlc/ltcusd/?&currency_pair=ltcusd&step=60&limit=1000&start=1624790520\n",
      "https://www.bitstamp.net/api/v2/ohlc/ltcusd/?&currency_pair=ltcusd&step=60&limit=1000&start=1624850460\n",
      "https://www.bitstamp.net/api/v2/ohlc/ltcusd/?&currency_pair=ltcusd&step=60&limit=1000&start=1624910400\n",
      "https://www.bitstamp.net/api/v2/ohlc/ltcusd/?&currency_pair=ltcusd&step=60&limit=1000&start=1624970340\n",
      "https://www.bitstamp.net/api/v2/ohlc/ltcusd/?&currency_pair=ltcusd&step=60&limit=1000&start=1625030280\n",
      "https://www.bitstamp.net/api/v2/ohlc/ltcusd/?&currency_pair=ltcusd&step=60&limit=1000&start=1625090220\n",
      "https://www.bitstamp.net/api/v2/ohlc/ltcusd/?&currency_pair=ltcusd&step=60&limit=1000&start=1625150160\n",
      "https://www.bitstamp.net/api/v2/ohlc/ltcusd/?&currency_pair=ltcusd&step=60&limit=1000&start=1625210100\n",
      "https://www.bitstamp.net/api/v2/ohlc/ltcusd/?&currency_pair=ltcusd&step=60&limit=1000&start=1625270040\n",
      "https://www.bitstamp.net/api/v2/ohlc/ltcusd/?&currency_pair=ltcusd&step=60&limit=1000&start=1625329980\n",
      "https://www.bitstamp.net/api/v2/ohlc/ltcusd/?&currency_pair=ltcusd&step=60&limit=1000&start=1625389920\n",
      "https://www.bitstamp.net/api/v2/ohlc/ltcusd/?&currency_pair=ltcusd&step=60&limit=1000&start=1625449860\n",
      "https://www.bitstamp.net/api/v2/ohlc/ltcusd/?&currency_pair=ltcusd&step=60&limit=1000&start=1625509800\n",
      "https://www.bitstamp.net/api/v2/ohlc/ltcusd/?&currency_pair=ltcusd&step=60&limit=1000&start=1625569740\n",
      "https://www.bitstamp.net/api/v2/ohlc/ltcusd/?&currency_pair=ltcusd&step=60&limit=1000&start=1625629680\n",
      "https://www.bitstamp.net/api/v2/ohlc/ltcusd/?&currency_pair=ltcusd&step=60&limit=1000&start=1625689620\n",
      "https://www.bitstamp.net/api/v2/ohlc/ltcusd/?&currency_pair=ltcusd&step=60&limit=1000&start=1625749560\n",
      "https://www.bitstamp.net/api/v2/ohlc/ltcusd/?&currency_pair=ltcusd&step=60&limit=1000&start=1625809500\n",
      "https://www.bitstamp.net/api/v2/ohlc/ltcusd/?&currency_pair=ltcusd&step=60&limit=1000&start=1625869440\n",
      "https://www.bitstamp.net/api/v2/ohlc/ltcusd/?&currency_pair=ltcusd&step=60&limit=1000&start=1625929380\n",
      "https://www.bitstamp.net/api/v2/ohlc/ltcusd/?&currency_pair=ltcusd&step=60&limit=1000&start=1625989320\n",
      "https://www.bitstamp.net/api/v2/ohlc/ltcusd/?&currency_pair=ltcusd&step=60&limit=1000&start=1626049260\n",
      "https://www.bitstamp.net/api/v2/ohlc/ltcusd/?&currency_pair=ltcusd&step=60&limit=1000&start=1626109200\n",
      "https://www.bitstamp.net/api/v2/ohlc/ltcusd/?&currency_pair=ltcusd&step=60&limit=1000&start=1626169140\n",
      "https://www.bitstamp.net/api/v2/ohlc/ltcusd/?&currency_pair=ltcusd&step=60&limit=1000&start=1626229080\n",
      "https://www.bitstamp.net/api/v2/ohlc/ltcusd/?&currency_pair=ltcusd&step=60&limit=1000&start=1626289020\n",
      "Downloaded from 2021-06-15 00:00:00 to 2021-07-15 00:01:00 131.43\n",
      "Resample 1Min - TecAn ( windows 30, windows_limit 100 )\n",
      "Processing 43244 of ltcusd\n"
     ]
    },
    {
     "data": {
      "application/vnd.jupyter.widget-view+json": {
       "model_id": "4f6121922609431fb94edb1e5de583fb",
       "version_major": 2,
       "version_minor": 0
      },
      "text/plain": [
       "  0%|          | 0/43244 [00:00<?, ?it/s]"
      ]
     },
     "metadata": {},
     "output_type": "display_data"
    },
    {
     "name": "stdout",
     "output_type": "stream",
     "text": [
      "https://www.bitstamp.net/api/v2/ohlc/ethusd/?&currency_pair=ethusd&step=60&limit=1000&start=1623711600\n",
      "https://www.bitstamp.net/api/v2/ohlc/ethusd/?&currency_pair=ethusd&step=60&limit=1000&start=1623771540\n",
      "https://www.bitstamp.net/api/v2/ohlc/ethusd/?&currency_pair=ethusd&step=60&limit=1000&start=1623831480\n",
      "https://www.bitstamp.net/api/v2/ohlc/ethusd/?&currency_pair=ethusd&step=60&limit=1000&start=1623891420\n",
      "https://www.bitstamp.net/api/v2/ohlc/ethusd/?&currency_pair=ethusd&step=60&limit=1000&start=1623951360\n",
      "https://www.bitstamp.net/api/v2/ohlc/ethusd/?&currency_pair=ethusd&step=60&limit=1000&start=1624011300\n",
      "https://www.bitstamp.net/api/v2/ohlc/ethusd/?&currency_pair=ethusd&step=60&limit=1000&start=1624071240\n",
      "https://www.bitstamp.net/api/v2/ohlc/ethusd/?&currency_pair=ethusd&step=60&limit=1000&start=1624131180\n",
      "https://www.bitstamp.net/api/v2/ohlc/ethusd/?&currency_pair=ethusd&step=60&limit=1000&start=1624191120\n",
      "https://www.bitstamp.net/api/v2/ohlc/ethusd/?&currency_pair=ethusd&step=60&limit=1000&start=1624251060\n",
      "https://www.bitstamp.net/api/v2/ohlc/ethusd/?&currency_pair=ethusd&step=60&limit=1000&start=1624311000\n",
      "https://www.bitstamp.net/api/v2/ohlc/ethusd/?&currency_pair=ethusd&step=60&limit=1000&start=1624370940\n",
      "https://www.bitstamp.net/api/v2/ohlc/ethusd/?&currency_pair=ethusd&step=60&limit=1000&start=1624430880\n",
      "https://www.bitstamp.net/api/v2/ohlc/ethusd/?&currency_pair=ethusd&step=60&limit=1000&start=1624490820\n",
      "https://www.bitstamp.net/api/v2/ohlc/ethusd/?&currency_pair=ethusd&step=60&limit=1000&start=1624550760\n",
      "https://www.bitstamp.net/api/v2/ohlc/ethusd/?&currency_pair=ethusd&step=60&limit=1000&start=1624610700\n",
      "https://www.bitstamp.net/api/v2/ohlc/ethusd/?&currency_pair=ethusd&step=60&limit=1000&start=1624670640\n",
      "https://www.bitstamp.net/api/v2/ohlc/ethusd/?&currency_pair=ethusd&step=60&limit=1000&start=1624730580\n",
      "https://www.bitstamp.net/api/v2/ohlc/ethusd/?&currency_pair=ethusd&step=60&limit=1000&start=1624790520\n",
      "https://www.bitstamp.net/api/v2/ohlc/ethusd/?&currency_pair=ethusd&step=60&limit=1000&start=1624850460\n",
      "https://www.bitstamp.net/api/v2/ohlc/ethusd/?&currency_pair=ethusd&step=60&limit=1000&start=1624910400\n",
      "https://www.bitstamp.net/api/v2/ohlc/ethusd/?&currency_pair=ethusd&step=60&limit=1000&start=1624970340\n",
      "https://www.bitstamp.net/api/v2/ohlc/ethusd/?&currency_pair=ethusd&step=60&limit=1000&start=1625030280\n",
      "https://www.bitstamp.net/api/v2/ohlc/ethusd/?&currency_pair=ethusd&step=60&limit=1000&start=1625090220\n",
      "https://www.bitstamp.net/api/v2/ohlc/ethusd/?&currency_pair=ethusd&step=60&limit=1000&start=1625150160\n",
      "https://www.bitstamp.net/api/v2/ohlc/ethusd/?&currency_pair=ethusd&step=60&limit=1000&start=1625210100\n",
      "https://www.bitstamp.net/api/v2/ohlc/ethusd/?&currency_pair=ethusd&step=60&limit=1000&start=1625270040\n",
      "https://www.bitstamp.net/api/v2/ohlc/ethusd/?&currency_pair=ethusd&step=60&limit=1000&start=1625329980\n",
      "https://www.bitstamp.net/api/v2/ohlc/ethusd/?&currency_pair=ethusd&step=60&limit=1000&start=1625389920\n",
      "https://www.bitstamp.net/api/v2/ohlc/ethusd/?&currency_pair=ethusd&step=60&limit=1000&start=1625449860\n",
      "https://www.bitstamp.net/api/v2/ohlc/ethusd/?&currency_pair=ethusd&step=60&limit=1000&start=1625509800\n",
      "https://www.bitstamp.net/api/v2/ohlc/ethusd/?&currency_pair=ethusd&step=60&limit=1000&start=1625569740\n",
      "https://www.bitstamp.net/api/v2/ohlc/ethusd/?&currency_pair=ethusd&step=60&limit=1000&start=1625629680\n",
      "https://www.bitstamp.net/api/v2/ohlc/ethusd/?&currency_pair=ethusd&step=60&limit=1000&start=1625689620\n",
      "https://www.bitstamp.net/api/v2/ohlc/ethusd/?&currency_pair=ethusd&step=60&limit=1000&start=1625749560\n",
      "https://www.bitstamp.net/api/v2/ohlc/ethusd/?&currency_pair=ethusd&step=60&limit=1000&start=1625809500\n",
      "https://www.bitstamp.net/api/v2/ohlc/ethusd/?&currency_pair=ethusd&step=60&limit=1000&start=1625869440\n",
      "https://www.bitstamp.net/api/v2/ohlc/ethusd/?&currency_pair=ethusd&step=60&limit=1000&start=1625929380\n",
      "https://www.bitstamp.net/api/v2/ohlc/ethusd/?&currency_pair=ethusd&step=60&limit=1000&start=1625989320\n",
      "https://www.bitstamp.net/api/v2/ohlc/ethusd/?&currency_pair=ethusd&step=60&limit=1000&start=1626049260\n",
      "https://www.bitstamp.net/api/v2/ohlc/ethusd/?&currency_pair=ethusd&step=60&limit=1000&start=1626109200\n",
      "https://www.bitstamp.net/api/v2/ohlc/ethusd/?&currency_pair=ethusd&step=60&limit=1000&start=1626169140\n",
      "https://www.bitstamp.net/api/v2/ohlc/ethusd/?&currency_pair=ethusd&step=60&limit=1000&start=1626229080\n",
      "https://www.bitstamp.net/api/v2/ohlc/ethusd/?&currency_pair=ethusd&step=60&limit=1000&start=1626289020\n",
      "Downloaded from 2021-06-15 00:00:00 to 2021-07-15 00:01:00 2005.98\n",
      "Resample 1Min - TecAn ( windows 30, windows_limit 100 )\n",
      "Processing 43244 of ethusd\n"
     ]
    },
    {
     "data": {
      "application/vnd.jupyter.widget-view+json": {
       "model_id": "4324cab4b1644c2596cf48b85298943e",
       "version_major": 2,
       "version_minor": 0
      },
      "text/plain": [
       "  0%|          | 0/43244 [00:00<?, ?it/s]"
      ]
     },
     "metadata": {},
     "output_type": "display_data"
    },
    {
     "name": "stdout",
     "output_type": "stream",
     "text": [
      "https://www.bitstamp.net/api/v2/ohlc/btcusd/?&currency_pair=btcusd&step=60&limit=1000&start=1623711600\n",
      "https://www.bitstamp.net/api/v2/ohlc/btcusd/?&currency_pair=btcusd&step=60&limit=1000&start=1623771540\n",
      "https://www.bitstamp.net/api/v2/ohlc/btcusd/?&currency_pair=btcusd&step=60&limit=1000&start=1623831480\n",
      "https://www.bitstamp.net/api/v2/ohlc/btcusd/?&currency_pair=btcusd&step=60&limit=1000&start=1623891420\n",
      "https://www.bitstamp.net/api/v2/ohlc/btcusd/?&currency_pair=btcusd&step=60&limit=1000&start=1623951360\n",
      "https://www.bitstamp.net/api/v2/ohlc/btcusd/?&currency_pair=btcusd&step=60&limit=1000&start=1624011300\n",
      "https://www.bitstamp.net/api/v2/ohlc/btcusd/?&currency_pair=btcusd&step=60&limit=1000&start=1624071240\n",
      "https://www.bitstamp.net/api/v2/ohlc/btcusd/?&currency_pair=btcusd&step=60&limit=1000&start=1624131180\n",
      "https://www.bitstamp.net/api/v2/ohlc/btcusd/?&currency_pair=btcusd&step=60&limit=1000&start=1624191120\n",
      "https://www.bitstamp.net/api/v2/ohlc/btcusd/?&currency_pair=btcusd&step=60&limit=1000&start=1624251060\n",
      "https://www.bitstamp.net/api/v2/ohlc/btcusd/?&currency_pair=btcusd&step=60&limit=1000&start=1624311000\n",
      "https://www.bitstamp.net/api/v2/ohlc/btcusd/?&currency_pair=btcusd&step=60&limit=1000&start=1624370940\n",
      "https://www.bitstamp.net/api/v2/ohlc/btcusd/?&currency_pair=btcusd&step=60&limit=1000&start=1624430880\n",
      "https://www.bitstamp.net/api/v2/ohlc/btcusd/?&currency_pair=btcusd&step=60&limit=1000&start=1624490820\n",
      "https://www.bitstamp.net/api/v2/ohlc/btcusd/?&currency_pair=btcusd&step=60&limit=1000&start=1624550760\n",
      "https://www.bitstamp.net/api/v2/ohlc/btcusd/?&currency_pair=btcusd&step=60&limit=1000&start=1624610700\n",
      "https://www.bitstamp.net/api/v2/ohlc/btcusd/?&currency_pair=btcusd&step=60&limit=1000&start=1624670640\n",
      "https://www.bitstamp.net/api/v2/ohlc/btcusd/?&currency_pair=btcusd&step=60&limit=1000&start=1624730580\n",
      "https://www.bitstamp.net/api/v2/ohlc/btcusd/?&currency_pair=btcusd&step=60&limit=1000&start=1624790520\n",
      "https://www.bitstamp.net/api/v2/ohlc/btcusd/?&currency_pair=btcusd&step=60&limit=1000&start=1624850460\n",
      "https://www.bitstamp.net/api/v2/ohlc/btcusd/?&currency_pair=btcusd&step=60&limit=1000&start=1624910400\n",
      "https://www.bitstamp.net/api/v2/ohlc/btcusd/?&currency_pair=btcusd&step=60&limit=1000&start=1624970340\n",
      "https://www.bitstamp.net/api/v2/ohlc/btcusd/?&currency_pair=btcusd&step=60&limit=1000&start=1625030280\n",
      "https://www.bitstamp.net/api/v2/ohlc/btcusd/?&currency_pair=btcusd&step=60&limit=1000&start=1625090220\n",
      "https://www.bitstamp.net/api/v2/ohlc/btcusd/?&currency_pair=btcusd&step=60&limit=1000&start=1625150160\n",
      "https://www.bitstamp.net/api/v2/ohlc/btcusd/?&currency_pair=btcusd&step=60&limit=1000&start=1625210100\n",
      "https://www.bitstamp.net/api/v2/ohlc/btcusd/?&currency_pair=btcusd&step=60&limit=1000&start=1625270040\n",
      "https://www.bitstamp.net/api/v2/ohlc/btcusd/?&currency_pair=btcusd&step=60&limit=1000&start=1625329980\n",
      "https://www.bitstamp.net/api/v2/ohlc/btcusd/?&currency_pair=btcusd&step=60&limit=1000&start=1625389920\n",
      "https://www.bitstamp.net/api/v2/ohlc/btcusd/?&currency_pair=btcusd&step=60&limit=1000&start=1625449860\n",
      "https://www.bitstamp.net/api/v2/ohlc/btcusd/?&currency_pair=btcusd&step=60&limit=1000&start=1625509800\n",
      "https://www.bitstamp.net/api/v2/ohlc/btcusd/?&currency_pair=btcusd&step=60&limit=1000&start=1625569740\n",
      "https://www.bitstamp.net/api/v2/ohlc/btcusd/?&currency_pair=btcusd&step=60&limit=1000&start=1625629680\n",
      "https://www.bitstamp.net/api/v2/ohlc/btcusd/?&currency_pair=btcusd&step=60&limit=1000&start=1625689620\n",
      "https://www.bitstamp.net/api/v2/ohlc/btcusd/?&currency_pair=btcusd&step=60&limit=1000&start=1625749560\n",
      "https://www.bitstamp.net/api/v2/ohlc/btcusd/?&currency_pair=btcusd&step=60&limit=1000&start=1625809500\n",
      "https://www.bitstamp.net/api/v2/ohlc/btcusd/?&currency_pair=btcusd&step=60&limit=1000&start=1625869440\n",
      "https://www.bitstamp.net/api/v2/ohlc/btcusd/?&currency_pair=btcusd&step=60&limit=1000&start=1625929380\n",
      "https://www.bitstamp.net/api/v2/ohlc/btcusd/?&currency_pair=btcusd&step=60&limit=1000&start=1625989320\n",
      "https://www.bitstamp.net/api/v2/ohlc/btcusd/?&currency_pair=btcusd&step=60&limit=1000&start=1626049260\n",
      "https://www.bitstamp.net/api/v2/ohlc/btcusd/?&currency_pair=btcusd&step=60&limit=1000&start=1626109200\n",
      "https://www.bitstamp.net/api/v2/ohlc/btcusd/?&currency_pair=btcusd&step=60&limit=1000&start=1626169140\n",
      "https://www.bitstamp.net/api/v2/ohlc/btcusd/?&currency_pair=btcusd&step=60&limit=1000&start=1626229080\n",
      "https://www.bitstamp.net/api/v2/ohlc/btcusd/?&currency_pair=btcusd&step=60&limit=1000&start=1626289020\n",
      "Downloaded from 2021-06-15 00:00:00 to 2021-07-15 00:01:00 32987.01\n",
      "Resample 1Min - TecAn ( windows 30, windows_limit 100 )\n",
      "Processing 43244 of btcusd\n"
     ]
    },
    {
     "data": {
      "application/vnd.jupyter.widget-view+json": {
       "model_id": "73b2030414f444e9b11515dd8721fd44",
       "version_major": 2,
       "version_minor": 0
      },
      "text/plain": [
       "  0%|          | 0/43244 [00:00<?, ?it/s]"
      ]
     },
     "metadata": {},
     "output_type": "display_data"
    },
    {
     "name": "stdout",
     "output_type": "stream",
     "text": [
      "https://www.bitstamp.net/api/v2/ohlc/btcusd/?&currency_pair=btcusd&step=60&limit=1000&start=1622502000\n",
      "Downloaded from 2021-06-01 00:00:00 to 2021-06-01 16:39:00 36197.21\n",
      "Resample 1Min - TecAn ( windows 40, windows_limit 100 )\n",
      "Processing 999 of btcusd\n"
     ]
    },
    {
     "data": {
      "application/vnd.jupyter.widget-view+json": {
       "model_id": "4e695d4d646c4ffea33c21976fe7ecfa",
       "version_major": 2,
       "version_minor": 0
      },
      "text/plain": [
       "  0%|          | 0/999 [00:00<?, ?it/s]"
      ]
     },
     "metadata": {},
     "output_type": "display_data"
    },
    {
     "name": "stdout",
     "output_type": "stream",
     "text": [
      "https://www.bitstamp.net/api/v2/ohlc/ethusd/?&currency_pair=ethusd&step=60&limit=1000&start=1622502000\n",
      "Downloaded from 2021-06-01 00:00:00 to 2021-06-01 16:39:00 2570.77\n",
      "Resample 1Min - TecAn ( windows 40, windows_limit 100 )\n",
      "Processing 999 of ethusd\n"
     ]
    },
    {
     "data": {
      "application/vnd.jupyter.widget-view+json": {
       "model_id": "51d72ebbc49742ca9dcd3da88d4a2435",
       "version_major": 2,
       "version_minor": 0
      },
      "text/plain": [
       "  0%|          | 0/999 [00:00<?, ?it/s]"
      ]
     },
     "metadata": {},
     "output_type": "display_data"
    },
    {
     "name": "stdout",
     "output_type": "stream",
     "text": [
      "https://www.bitstamp.net/api/v2/ohlc/bchbtc/?&currency_pair=bchbtc&step=60&limit=1000&start=1622502000\n",
      "Downloaded from 2021-06-01 00:00:00 to 2021-06-01 16:39:00 0.01879888\n",
      "Resample 1Min - TecAn ( windows 40, windows_limit 100 )\n",
      "Processing 999 of bchbtc\n"
     ]
    },
    {
     "data": {
      "application/vnd.jupyter.widget-view+json": {
       "model_id": "7137f11f6e1b4fd19a3267a5339cf982",
       "version_major": 2,
       "version_minor": 0
      },
      "text/plain": [
       "  0%|          | 0/999 [00:00<?, ?it/s]"
      ]
     },
     "metadata": {},
     "output_type": "display_data"
    },
    {
     "name": "stdout",
     "output_type": "stream",
     "text": [
      "https://www.bitstamp.net/api/v2/ohlc/btcusd/?&currency_pair=btcusd&step=60&limit=1000&start=1590966000\n",
      "Downloaded from 2020-06-01 00:00:00 to 2020-06-01 16:39:00 9542.01\n",
      "Resample 1Min - TecAn ( windows 40, windows_limit 100 )\n",
      "Processing 999 of btcusd\n"
     ]
    },
    {
     "data": {
      "application/vnd.jupyter.widget-view+json": {
       "model_id": "97ee31bd5a26496b8d8f1289ba6061b3",
       "version_major": 2,
       "version_minor": 0
      },
      "text/plain": [
       "  0%|          | 0/999 [00:00<?, ?it/s]"
      ]
     },
     "metadata": {},
     "output_type": "display_data"
    },
    {
     "name": "stdout",
     "output_type": "stream",
     "text": [
      "https://www.bitstamp.net/api/v2/ohlc/ethusd/?&currency_pair=ethusd&step=60&limit=1000&start=1590966000\n",
      "Downloaded from 2020-06-01 00:00:00 to 2020-06-01 16:39:00 238.00\n",
      "Resample 1Min - TecAn ( windows 40, windows_limit 100 )\n",
      "Processing 999 of ethusd\n"
     ]
    },
    {
     "data": {
      "application/vnd.jupyter.widget-view+json": {
       "model_id": "3fa60c40f68749449399eb7cc508733c",
       "version_major": 2,
       "version_minor": 0
      },
      "text/plain": [
       "  0%|          | 0/999 [00:00<?, ?it/s]"
      ]
     },
     "metadata": {},
     "output_type": "display_data"
    },
    {
     "name": "stdout",
     "output_type": "stream",
     "text": [
      "https://www.bitstamp.net/api/v2/ohlc/bchbtc/?&currency_pair=bchbtc&step=60&limit=1000&start=1590966000\n",
      "Downloaded from 2020-06-01 00:00:00 to 2020-06-01 16:39:00 0.02548768\n",
      "Resample 1Min - TecAn ( windows 40, windows_limit 100 )\n",
      "Processing 999 of bchbtc\n"
     ]
    },
    {
     "data": {
      "application/vnd.jupyter.widget-view+json": {
       "model_id": "c1f08a7e726f45a2a6e3fdb3b51a8fab",
       "version_major": 2,
       "version_minor": 0
      },
      "text/plain": [
       "  0%|          | 0/999 [00:00<?, ?it/s]"
      ]
     },
     "metadata": {},
     "output_type": "display_data"
    },
    {
     "name": "stdout",
     "output_type": "stream",
     "text": [
      "https://www.bitstamp.net/api/v2/ohlc/btcusd/?&currency_pair=btcusd&step=60&limit=1000&start=1559343600\n",
      "Downloaded from 2019-06-01 00:00:00 to 2019-06-01 16:39:00 8532.29\n",
      "Resample 1Min - TecAn ( windows 40, windows_limit 100 )\n",
      "Processing 999 of btcusd\n"
     ]
    },
    {
     "data": {
      "application/vnd.jupyter.widget-view+json": {
       "model_id": "deab127eedd24ac7875c2fd99154716b",
       "version_major": 2,
       "version_minor": 0
      },
      "text/plain": [
       "  0%|          | 0/999 [00:00<?, ?it/s]"
      ]
     },
     "metadata": {},
     "output_type": "display_data"
    },
    {
     "name": "stdout",
     "output_type": "stream",
     "text": [
      "https://www.bitstamp.net/api/v2/ohlc/ethusd/?&currency_pair=ethusd&step=60&limit=1000&start=1559343600\n",
      "Downloaded from 2019-06-01 00:00:00 to 2019-06-01 16:39:00 264.88\n",
      "Resample 1Min - TecAn ( windows 40, windows_limit 100 )\n",
      "Processing 999 of ethusd\n"
     ]
    },
    {
     "data": {
      "application/vnd.jupyter.widget-view+json": {
       "model_id": "c008d2b93b8d4eafbbcfc39230f325ef",
       "version_major": 2,
       "version_minor": 0
      },
      "text/plain": [
       "  0%|          | 0/999 [00:00<?, ?it/s]"
      ]
     },
     "metadata": {},
     "output_type": "display_data"
    },
    {
     "name": "stdout",
     "output_type": "stream",
     "text": [
      "https://www.bitstamp.net/api/v2/ohlc/bchbtc/?&currency_pair=bchbtc&step=60&limit=1000&start=1559343600\n",
      "Downloaded from 2019-06-01 00:00:00 to 2019-06-01 16:39:00 0.05072740\n",
      "Resample 1Min - TecAn ( windows 40, windows_limit 100 )\n",
      "Processing 999 of bchbtc\n"
     ]
    },
    {
     "data": {
      "application/vnd.jupyter.widget-view+json": {
       "model_id": "3be51c5dd2db4d3aa3e1c312b5e0cb69",
       "version_major": 2,
       "version_minor": 0
      },
      "text/plain": [
       "  0%|          | 0/999 [00:00<?, ?it/s]"
      ]
     },
     "metadata": {},
     "output_type": "display_data"
    },
    {
     "name": "stdout",
     "output_type": "stream",
     "text": [
      "https://www.bitstamp.net/api/v2/ohlc/btcusd/?&currency_pair=btcusd&step=60&limit=1000&start=1527807600\n",
      "Downloaded from 2018-06-01 00:00:00 to 2018-06-01 16:39:00 7437.99\n",
      "Resample 1Min - TecAn ( windows 40, windows_limit 100 )\n",
      "Processing 999 of btcusd\n"
     ]
    },
    {
     "data": {
      "application/vnd.jupyter.widget-view+json": {
       "model_id": "3dbfc53fb3d146fb81587693c54c55f1",
       "version_major": 2,
       "version_minor": 0
      },
      "text/plain": [
       "  0%|          | 0/999 [00:00<?, ?it/s]"
      ]
     },
     "metadata": {},
     "output_type": "display_data"
    },
    {
     "name": "stdout",
     "output_type": "stream",
     "text": [
      "https://www.bitstamp.net/api/v2/ohlc/ethusd/?&currency_pair=ethusd&step=60&limit=1000&start=1527807600\n",
      "Downloaded from 2018-06-01 00:00:00 to 2018-06-01 16:39:00 573.99\n",
      "Resample 1Min - TecAn ( windows 40, windows_limit 100 )\n",
      "Processing 999 of ethusd\n"
     ]
    },
    {
     "data": {
      "application/vnd.jupyter.widget-view+json": {
       "model_id": "d869f1dfa6ff4e26b33fccdf566edf50",
       "version_major": 2,
       "version_minor": 0
      },
      "text/plain": [
       "  0%|          | 0/999 [00:00<?, ?it/s]"
      ]
     },
     "metadata": {},
     "output_type": "display_data"
    },
    {
     "name": "stdout",
     "output_type": "stream",
     "text": [
      "https://www.bitstamp.net/api/v2/ohlc/bchbtc/?&currency_pair=bchbtc&step=60&limit=1000&start=1527807600\n",
      "Downloaded from 2018-06-01 00:00:00 to 2018-06-01 16:39:00 0.13303776\n",
      "Resample 1Min - TecAn ( windows 40, windows_limit 100 )\n",
      "Processing 999 of bchbtc\n"
     ]
    },
    {
     "data": {
      "application/vnd.jupyter.widget-view+json": {
       "model_id": "5e534d29601c4da5a6bb0d2f4815a9f2",
       "version_major": 2,
       "version_minor": 0
      },
      "text/plain": [
       "  0%|          | 0/999 [00:00<?, ?it/s]"
      ]
     },
     "metadata": {},
     "output_type": "display_data"
    },
    {
     "name": "stdout",
     "output_type": "stream",
     "text": [
      "https://www.bitstamp.net/api/v2/ohlc/btcusd/?&currency_pair=btcusd&step=60&limit=1000&start=1517443200\n",
      "Downloaded from 2018-02-01 00:00:00 to 2018-02-01 16:39:00 8850.34\n",
      "Resample 1Min - TecAn ( windows 40, windows_limit 100 )\n",
      "Processing 999 of btcusd\n"
     ]
    },
    {
     "data": {
      "application/vnd.jupyter.widget-view+json": {
       "model_id": "c1bcbd4e176b42dd9fd00e06491fc31d",
       "version_major": 2,
       "version_minor": 0
      },
      "text/plain": [
       "  0%|          | 0/999 [00:00<?, ?it/s]"
      ]
     },
     "metadata": {},
     "output_type": "display_data"
    },
    {
     "name": "stdout",
     "output_type": "stream",
     "text": [
      "https://www.bitstamp.net/api/v2/ohlc/ethusd/?&currency_pair=ethusd&step=60&limit=1000&start=1517443200\n",
      "Downloaded from 2018-02-01 00:00:00 to 2018-02-01 16:39:00 1005.89\n",
      "Resample 1Min - TecAn ( windows 40, windows_limit 100 )\n",
      "Processing 999 of ethusd\n"
     ]
    },
    {
     "data": {
      "application/vnd.jupyter.widget-view+json": {
       "model_id": "53b556cb5a0a47bdb54288b8df061f5b",
       "version_major": 2,
       "version_minor": 0
      },
      "text/plain": [
       "  0%|          | 0/999 [00:00<?, ?it/s]"
      ]
     },
     "metadata": {},
     "output_type": "display_data"
    },
    {
     "name": "stdout",
     "output_type": "stream",
     "text": [
      "https://www.bitstamp.net/api/v2/ohlc/bchbtc/?&currency_pair=bchbtc&step=60&limit=1000&start=1517443200\n",
      "Downloaded from 2018-02-01 00:00:00 to 2018-02-01 16:39:00 0.14180730\n",
      "Resample 1Min - TecAn ( windows 40, windows_limit 100 )\n",
      "Processing 999 of bchbtc\n"
     ]
    },
    {
     "data": {
      "application/vnd.jupyter.widget-view+json": {
       "model_id": "cb01f00a0cff41a2b3a197687f3acd12",
       "version_major": 2,
       "version_minor": 0
      },
      "text/plain": [
       "  0%|          | 0/999 [00:00<?, ?it/s]"
      ]
     },
     "metadata": {},
     "output_type": "display_data"
    },
    {
     "name": "stdout",
     "output_type": "stream",
     "text": [
      "https://www.bitstamp.net/api/v2/ohlc/btcusd/?&currency_pair=btcusd&step=60&limit=1000&start=1548979200\n",
      "Downloaded from 2019-02-01 00:00:00 to 2019-02-01 16:39:00 3423.18\n",
      "Resample 1Min - TecAn ( windows 40, windows_limit 100 )\n",
      "Processing 999 of btcusd\n"
     ]
    },
    {
     "data": {
      "application/vnd.jupyter.widget-view+json": {
       "model_id": "50d93263911b40e285d683631de70ce3",
       "version_major": 2,
       "version_minor": 0
      },
      "text/plain": [
       "  0%|          | 0/999 [00:00<?, ?it/s]"
      ]
     },
     "metadata": {},
     "output_type": "display_data"
    },
    {
     "name": "stdout",
     "output_type": "stream",
     "text": [
      "https://www.bitstamp.net/api/v2/ohlc/ethusd/?&currency_pair=ethusd&step=60&limit=1000&start=1548979200\n",
      "Downloaded from 2019-02-01 00:00:00 to 2019-02-01 16:39:00 105.36\n",
      "Resample 1Min - TecAn ( windows 40, windows_limit 100 )\n",
      "Processing 999 of ethusd\n"
     ]
    },
    {
     "data": {
      "application/vnd.jupyter.widget-view+json": {
       "model_id": "756fea990e1a48b1b75ebb2df48e0d0c",
       "version_major": 2,
       "version_minor": 0
      },
      "text/plain": [
       "  0%|          | 0/999 [00:00<?, ?it/s]"
      ]
     },
     "metadata": {},
     "output_type": "display_data"
    },
    {
     "name": "stdout",
     "output_type": "stream",
     "text": [
      "https://www.bitstamp.net/api/v2/ohlc/bchbtc/?&currency_pair=bchbtc&step=60&limit=1000&start=1548979200\n",
      "Downloaded from 2019-02-01 00:00:00 to 2019-02-01 16:39:00 0.03348000\n",
      "Resample 1Min - TecAn ( windows 40, windows_limit 100 )\n",
      "Processing 999 of bchbtc\n"
     ]
    },
    {
     "data": {
      "application/vnd.jupyter.widget-view+json": {
       "model_id": "9c7085b7c4d844b0b5c28e7adfbe12a7",
       "version_major": 2,
       "version_minor": 0
      },
      "text/plain": [
       "  0%|          | 0/999 [00:00<?, ?it/s]"
      ]
     },
     "metadata": {},
     "output_type": "display_data"
    },
    {
     "name": "stdout",
     "output_type": "stream",
     "text": [
      "https://www.bitstamp.net/api/v2/ohlc/btcusd/?&currency_pair=btcusd&step=60&limit=1000&start=1580515200\n",
      "Downloaded from 2020-02-01 00:00:00 to 2020-02-01 16:39:00 9360.98\n",
      "Resample 1Min - TecAn ( windows 40, windows_limit 100 )\n",
      "Processing 999 of btcusd\n"
     ]
    },
    {
     "data": {
      "application/vnd.jupyter.widget-view+json": {
       "model_id": "f89838a590344c8390c91e5f180dd425",
       "version_major": 2,
       "version_minor": 0
      },
      "text/plain": [
       "  0%|          | 0/999 [00:00<?, ?it/s]"
      ]
     },
     "metadata": {},
     "output_type": "display_data"
    },
    {
     "name": "stdout",
     "output_type": "stream",
     "text": [
      "https://www.bitstamp.net/api/v2/ohlc/ethusd/?&currency_pair=ethusd&step=60&limit=1000&start=1580515200\n",
      "Downloaded from 2020-02-01 00:00:00 to 2020-02-01 16:39:00 182.90\n",
      "Resample 1Min - TecAn ( windows 40, windows_limit 100 )\n",
      "Processing 999 of ethusd\n"
     ]
    },
    {
     "data": {
      "application/vnd.jupyter.widget-view+json": {
       "model_id": "46e0dc45e08445d8821054421f3af303",
       "version_major": 2,
       "version_minor": 0
      },
      "text/plain": [
       "  0%|          | 0/999 [00:00<?, ?it/s]"
      ]
     },
     "metadata": {},
     "output_type": "display_data"
    },
    {
     "name": "stdout",
     "output_type": "stream",
     "text": [
      "https://www.bitstamp.net/api/v2/ohlc/bchbtc/?&currency_pair=bchbtc&step=60&limit=1000&start=1580515200\n",
      "Downloaded from 2020-02-01 00:00:00 to 2020-02-01 16:39:00 0.04063856\n",
      "Resample 1Min - TecAn ( windows 40, windows_limit 100 )\n",
      "Processing 999 of bchbtc\n"
     ]
    },
    {
     "data": {
      "application/vnd.jupyter.widget-view+json": {
       "model_id": "4eae9980816b4d6e911bd64e16ca2c63",
       "version_major": 2,
       "version_minor": 0
      },
      "text/plain": [
       "  0%|          | 0/999 [00:00<?, ?it/s]"
      ]
     },
     "metadata": {},
     "output_type": "display_data"
    },
    {
     "name": "stdout",
     "output_type": "stream",
     "text": [
      "https://www.bitstamp.net/api/v2/ohlc/btcusd/?&currency_pair=btcusd&step=60&limit=1000&start=1612137600\n",
      "Downloaded from 2021-02-01 00:00:00 to 2021-02-01 16:39:00 33368.98\n",
      "Resample 1Min - TecAn ( windows 40, windows_limit 100 )\n",
      "Processing 999 of btcusd\n"
     ]
    },
    {
     "data": {
      "application/vnd.jupyter.widget-view+json": {
       "model_id": "114c110e23274b84939667b125efdecc",
       "version_major": 2,
       "version_minor": 0
      },
      "text/plain": [
       "  0%|          | 0/999 [00:00<?, ?it/s]"
      ]
     },
     "metadata": {},
     "output_type": "display_data"
    },
    {
     "name": "stdout",
     "output_type": "stream",
     "text": [
      "https://www.bitstamp.net/api/v2/ohlc/ethusd/?&currency_pair=ethusd&step=60&limit=1000&start=1612137600\n",
      "Downloaded from 2021-02-01 00:00:00 to 2021-02-01 16:39:00 1309.56\n",
      "Resample 1Min - TecAn ( windows 40, windows_limit 100 )\n",
      "Processing 999 of ethusd\n"
     ]
    },
    {
     "data": {
      "application/vnd.jupyter.widget-view+json": {
       "model_id": "b4aadb2a86d84e5bbcc9d0d2fbb97502",
       "version_major": 2,
       "version_minor": 0
      },
      "text/plain": [
       "  0%|          | 0/999 [00:00<?, ?it/s]"
      ]
     },
     "metadata": {},
     "output_type": "display_data"
    },
    {
     "name": "stdout",
     "output_type": "stream",
     "text": [
      "https://www.bitstamp.net/api/v2/ohlc/bchbtc/?&currency_pair=bchbtc&step=60&limit=1000&start=1612137600\n",
      "Downloaded from 2021-02-01 00:00:00 to 2021-02-01 16:39:00 0.01226651\n",
      "Resample 1Min - TecAn ( windows 40, windows_limit 100 )\n",
      "Processing 999 of bchbtc\n"
     ]
    },
    {
     "data": {
      "application/vnd.jupyter.widget-view+json": {
       "model_id": "c4a4281b739c4a35a03c52ef1c5eaf9f",
       "version_major": 2,
       "version_minor": 0
      },
      "text/plain": [
       "  0%|          | 0/999 [00:00<?, ?it/s]"
      ]
     },
     "metadata": {},
     "output_type": "display_data"
    },
    {
     "name": "stdout",
     "output_type": "stream",
     "text": [
      "https://www.bitstamp.net/api/v2/ohlc/ltceur/?&currency_pair=ltceur&step=60&limit=1000&start=1623711600\n",
      "https://www.bitstamp.net/api/v2/ohlc/ltceur/?&currency_pair=ltceur&step=60&limit=1000&start=1623771540\n",
      "https://www.bitstamp.net/api/v2/ohlc/ltceur/?&currency_pair=ltceur&step=60&limit=1000&start=1623831480\n",
      "https://www.bitstamp.net/api/v2/ohlc/ltceur/?&currency_pair=ltceur&step=60&limit=1000&start=1623891420\n",
      "https://www.bitstamp.net/api/v2/ohlc/ltceur/?&currency_pair=ltceur&step=60&limit=1000&start=1623951360\n",
      "https://www.bitstamp.net/api/v2/ohlc/ltceur/?&currency_pair=ltceur&step=60&limit=1000&start=1624011300\n",
      "https://www.bitstamp.net/api/v2/ohlc/ltceur/?&currency_pair=ltceur&step=60&limit=1000&start=1624071240\n",
      "https://www.bitstamp.net/api/v2/ohlc/ltceur/?&currency_pair=ltceur&step=60&limit=1000&start=1624131180\n",
      "https://www.bitstamp.net/api/v2/ohlc/ltceur/?&currency_pair=ltceur&step=60&limit=1000&start=1624191120\n",
      "https://www.bitstamp.net/api/v2/ohlc/ltceur/?&currency_pair=ltceur&step=60&limit=1000&start=1624251060\n",
      "https://www.bitstamp.net/api/v2/ohlc/ltceur/?&currency_pair=ltceur&step=60&limit=1000&start=1624311000\n",
      "https://www.bitstamp.net/api/v2/ohlc/ltceur/?&currency_pair=ltceur&step=60&limit=1000&start=1624370940\n",
      "https://www.bitstamp.net/api/v2/ohlc/ltceur/?&currency_pair=ltceur&step=60&limit=1000&start=1624430880\n",
      "https://www.bitstamp.net/api/v2/ohlc/ltceur/?&currency_pair=ltceur&step=60&limit=1000&start=1624490820\n",
      "https://www.bitstamp.net/api/v2/ohlc/ltceur/?&currency_pair=ltceur&step=60&limit=1000&start=1624550760\n",
      "https://www.bitstamp.net/api/v2/ohlc/ltceur/?&currency_pair=ltceur&step=60&limit=1000&start=1624610700\n",
      "https://www.bitstamp.net/api/v2/ohlc/ltceur/?&currency_pair=ltceur&step=60&limit=1000&start=1624670640\n",
      "https://www.bitstamp.net/api/v2/ohlc/ltceur/?&currency_pair=ltceur&step=60&limit=1000&start=1624730580\n",
      "https://www.bitstamp.net/api/v2/ohlc/ltceur/?&currency_pair=ltceur&step=60&limit=1000&start=1624790520\n",
      "https://www.bitstamp.net/api/v2/ohlc/ltceur/?&currency_pair=ltceur&step=60&limit=1000&start=1624850460\n",
      "https://www.bitstamp.net/api/v2/ohlc/ltceur/?&currency_pair=ltceur&step=60&limit=1000&start=1624910400\n",
      "https://www.bitstamp.net/api/v2/ohlc/ltceur/?&currency_pair=ltceur&step=60&limit=1000&start=1624970340\n",
      "https://www.bitstamp.net/api/v2/ohlc/ltceur/?&currency_pair=ltceur&step=60&limit=1000&start=1625030280\n",
      "https://www.bitstamp.net/api/v2/ohlc/ltceur/?&currency_pair=ltceur&step=60&limit=1000&start=1625090220\n",
      "https://www.bitstamp.net/api/v2/ohlc/ltceur/?&currency_pair=ltceur&step=60&limit=1000&start=1625150160\n",
      "https://www.bitstamp.net/api/v2/ohlc/ltceur/?&currency_pair=ltceur&step=60&limit=1000&start=1625210100\n",
      "https://www.bitstamp.net/api/v2/ohlc/ltceur/?&currency_pair=ltceur&step=60&limit=1000&start=1625270040\n",
      "https://www.bitstamp.net/api/v2/ohlc/ltceur/?&currency_pair=ltceur&step=60&limit=1000&start=1625329980\n",
      "https://www.bitstamp.net/api/v2/ohlc/ltceur/?&currency_pair=ltceur&step=60&limit=1000&start=1625389920\n",
      "https://www.bitstamp.net/api/v2/ohlc/ltceur/?&currency_pair=ltceur&step=60&limit=1000&start=1625449860\n",
      "https://www.bitstamp.net/api/v2/ohlc/ltceur/?&currency_pair=ltceur&step=60&limit=1000&start=1625509800\n",
      "https://www.bitstamp.net/api/v2/ohlc/ltceur/?&currency_pair=ltceur&step=60&limit=1000&start=1625569740\n",
      "https://www.bitstamp.net/api/v2/ohlc/ltceur/?&currency_pair=ltceur&step=60&limit=1000&start=1625629680\n",
      "https://www.bitstamp.net/api/v2/ohlc/ltceur/?&currency_pair=ltceur&step=60&limit=1000&start=1625689620\n",
      "https://www.bitstamp.net/api/v2/ohlc/ltceur/?&currency_pair=ltceur&step=60&limit=1000&start=1625749560\n",
      "https://www.bitstamp.net/api/v2/ohlc/ltceur/?&currency_pair=ltceur&step=60&limit=1000&start=1625809500\n",
      "https://www.bitstamp.net/api/v2/ohlc/ltceur/?&currency_pair=ltceur&step=60&limit=1000&start=1625869440\n",
      "https://www.bitstamp.net/api/v2/ohlc/ltceur/?&currency_pair=ltceur&step=60&limit=1000&start=1625929380\n",
      "https://www.bitstamp.net/api/v2/ohlc/ltceur/?&currency_pair=ltceur&step=60&limit=1000&start=1625989320\n",
      "https://www.bitstamp.net/api/v2/ohlc/ltceur/?&currency_pair=ltceur&step=60&limit=1000&start=1626049260\n",
      "https://www.bitstamp.net/api/v2/ohlc/ltceur/?&currency_pair=ltceur&step=60&limit=1000&start=1626109200\n",
      "https://www.bitstamp.net/api/v2/ohlc/ltceur/?&currency_pair=ltceur&step=60&limit=1000&start=1626169140\n",
      "https://www.bitstamp.net/api/v2/ohlc/ltceur/?&currency_pair=ltceur&step=60&limit=1000&start=1626229080\n",
      "https://www.bitstamp.net/api/v2/ohlc/ltceur/?&currency_pair=ltceur&step=60&limit=1000&start=1626289020\n",
      "Downloaded from 2021-06-15 00:00:00 to 2021-07-15 00:01:00 111.20\n",
      "Resample 1Min - TecAn ( windows 40, windows_limit 100 )\n",
      "Processing 43244 of ltceur\n"
     ]
    },
    {
     "data": {
      "application/vnd.jupyter.widget-view+json": {
       "model_id": "fede4245dda2448c9194c0649821fcf9",
       "version_major": 2,
       "version_minor": 0
      },
      "text/plain": [
       "  0%|          | 0/43244 [00:00<?, ?it/s]"
      ]
     },
     "metadata": {},
     "output_type": "display_data"
    },
    {
     "name": "stdout",
     "output_type": "stream",
     "text": [
      "https://www.bitstamp.net/api/v2/ohlc/ltcusd/?&currency_pair=ltcusd&step=60&limit=1000&start=1623711600\n",
      "https://www.bitstamp.net/api/v2/ohlc/ltcusd/?&currency_pair=ltcusd&step=60&limit=1000&start=1623771540\n",
      "https://www.bitstamp.net/api/v2/ohlc/ltcusd/?&currency_pair=ltcusd&step=60&limit=1000&start=1623831480\n",
      "https://www.bitstamp.net/api/v2/ohlc/ltcusd/?&currency_pair=ltcusd&step=60&limit=1000&start=1623891420\n",
      "https://www.bitstamp.net/api/v2/ohlc/ltcusd/?&currency_pair=ltcusd&step=60&limit=1000&start=1623951360\n",
      "https://www.bitstamp.net/api/v2/ohlc/ltcusd/?&currency_pair=ltcusd&step=60&limit=1000&start=1624011300\n",
      "https://www.bitstamp.net/api/v2/ohlc/ltcusd/?&currency_pair=ltcusd&step=60&limit=1000&start=1624071240\n",
      "https://www.bitstamp.net/api/v2/ohlc/ltcusd/?&currency_pair=ltcusd&step=60&limit=1000&start=1624131180\n",
      "https://www.bitstamp.net/api/v2/ohlc/ltcusd/?&currency_pair=ltcusd&step=60&limit=1000&start=1624191120\n",
      "https://www.bitstamp.net/api/v2/ohlc/ltcusd/?&currency_pair=ltcusd&step=60&limit=1000&start=1624251060\n",
      "https://www.bitstamp.net/api/v2/ohlc/ltcusd/?&currency_pair=ltcusd&step=60&limit=1000&start=1624311000\n",
      "https://www.bitstamp.net/api/v2/ohlc/ltcusd/?&currency_pair=ltcusd&step=60&limit=1000&start=1624370940\n",
      "https://www.bitstamp.net/api/v2/ohlc/ltcusd/?&currency_pair=ltcusd&step=60&limit=1000&start=1624430880\n",
      "https://www.bitstamp.net/api/v2/ohlc/ltcusd/?&currency_pair=ltcusd&step=60&limit=1000&start=1624490820\n",
      "https://www.bitstamp.net/api/v2/ohlc/ltcusd/?&currency_pair=ltcusd&step=60&limit=1000&start=1624550760\n",
      "https://www.bitstamp.net/api/v2/ohlc/ltcusd/?&currency_pair=ltcusd&step=60&limit=1000&start=1624610700\n",
      "https://www.bitstamp.net/api/v2/ohlc/ltcusd/?&currency_pair=ltcusd&step=60&limit=1000&start=1624670640\n",
      "https://www.bitstamp.net/api/v2/ohlc/ltcusd/?&currency_pair=ltcusd&step=60&limit=1000&start=1624730580\n",
      "https://www.bitstamp.net/api/v2/ohlc/ltcusd/?&currency_pair=ltcusd&step=60&limit=1000&start=1624790520\n",
      "https://www.bitstamp.net/api/v2/ohlc/ltcusd/?&currency_pair=ltcusd&step=60&limit=1000&start=1624850460\n",
      "https://www.bitstamp.net/api/v2/ohlc/ltcusd/?&currency_pair=ltcusd&step=60&limit=1000&start=1624910400\n",
      "https://www.bitstamp.net/api/v2/ohlc/ltcusd/?&currency_pair=ltcusd&step=60&limit=1000&start=1624970340\n",
      "https://www.bitstamp.net/api/v2/ohlc/ltcusd/?&currency_pair=ltcusd&step=60&limit=1000&start=1625030280\n",
      "https://www.bitstamp.net/api/v2/ohlc/ltcusd/?&currency_pair=ltcusd&step=60&limit=1000&start=1625090220\n",
      "https://www.bitstamp.net/api/v2/ohlc/ltcusd/?&currency_pair=ltcusd&step=60&limit=1000&start=1625150160\n",
      "https://www.bitstamp.net/api/v2/ohlc/ltcusd/?&currency_pair=ltcusd&step=60&limit=1000&start=1625210100\n",
      "https://www.bitstamp.net/api/v2/ohlc/ltcusd/?&currency_pair=ltcusd&step=60&limit=1000&start=1625270040\n",
      "https://www.bitstamp.net/api/v2/ohlc/ltcusd/?&currency_pair=ltcusd&step=60&limit=1000&start=1625329980\n",
      "https://www.bitstamp.net/api/v2/ohlc/ltcusd/?&currency_pair=ltcusd&step=60&limit=1000&start=1625389920\n",
      "https://www.bitstamp.net/api/v2/ohlc/ltcusd/?&currency_pair=ltcusd&step=60&limit=1000&start=1625449860\n",
      "https://www.bitstamp.net/api/v2/ohlc/ltcusd/?&currency_pair=ltcusd&step=60&limit=1000&start=1625509800\n",
      "https://www.bitstamp.net/api/v2/ohlc/ltcusd/?&currency_pair=ltcusd&step=60&limit=1000&start=1625569740\n",
      "https://www.bitstamp.net/api/v2/ohlc/ltcusd/?&currency_pair=ltcusd&step=60&limit=1000&start=1625629680\n",
      "https://www.bitstamp.net/api/v2/ohlc/ltcusd/?&currency_pair=ltcusd&step=60&limit=1000&start=1625689620\n",
      "https://www.bitstamp.net/api/v2/ohlc/ltcusd/?&currency_pair=ltcusd&step=60&limit=1000&start=1625749560\n",
      "https://www.bitstamp.net/api/v2/ohlc/ltcusd/?&currency_pair=ltcusd&step=60&limit=1000&start=1625809500\n",
      "https://www.bitstamp.net/api/v2/ohlc/ltcusd/?&currency_pair=ltcusd&step=60&limit=1000&start=1625869440\n",
      "https://www.bitstamp.net/api/v2/ohlc/ltcusd/?&currency_pair=ltcusd&step=60&limit=1000&start=1625929380\n",
      "https://www.bitstamp.net/api/v2/ohlc/ltcusd/?&currency_pair=ltcusd&step=60&limit=1000&start=1625989320\n",
      "https://www.bitstamp.net/api/v2/ohlc/ltcusd/?&currency_pair=ltcusd&step=60&limit=1000&start=1626049260\n",
      "https://www.bitstamp.net/api/v2/ohlc/ltcusd/?&currency_pair=ltcusd&step=60&limit=1000&start=1626109200\n",
      "https://www.bitstamp.net/api/v2/ohlc/ltcusd/?&currency_pair=ltcusd&step=60&limit=1000&start=1626169140\n",
      "https://www.bitstamp.net/api/v2/ohlc/ltcusd/?&currency_pair=ltcusd&step=60&limit=1000&start=1626229080\n",
      "https://www.bitstamp.net/api/v2/ohlc/ltcusd/?&currency_pair=ltcusd&step=60&limit=1000&start=1626289020\n",
      "Downloaded from 2021-06-15 00:00:00 to 2021-07-15 00:01:00 131.43\n",
      "Resample 1Min - TecAn ( windows 40, windows_limit 100 )\n",
      "Processing 43244 of ltcusd\n"
     ]
    },
    {
     "data": {
      "application/vnd.jupyter.widget-view+json": {
       "model_id": "5bebe85f35a54551b6ea3b0e58830e6b",
       "version_major": 2,
       "version_minor": 0
      },
      "text/plain": [
       "  0%|          | 0/43244 [00:00<?, ?it/s]"
      ]
     },
     "metadata": {},
     "output_type": "display_data"
    },
    {
     "name": "stdout",
     "output_type": "stream",
     "text": [
      "https://www.bitstamp.net/api/v2/ohlc/ethusd/?&currency_pair=ethusd&step=60&limit=1000&start=1623711600\n",
      "https://www.bitstamp.net/api/v2/ohlc/ethusd/?&currency_pair=ethusd&step=60&limit=1000&start=1623771540\n",
      "https://www.bitstamp.net/api/v2/ohlc/ethusd/?&currency_pair=ethusd&step=60&limit=1000&start=1623831480\n",
      "https://www.bitstamp.net/api/v2/ohlc/ethusd/?&currency_pair=ethusd&step=60&limit=1000&start=1623891420\n",
      "https://www.bitstamp.net/api/v2/ohlc/ethusd/?&currency_pair=ethusd&step=60&limit=1000&start=1623951360\n",
      "https://www.bitstamp.net/api/v2/ohlc/ethusd/?&currency_pair=ethusd&step=60&limit=1000&start=1624011300\n",
      "https://www.bitstamp.net/api/v2/ohlc/ethusd/?&currency_pair=ethusd&step=60&limit=1000&start=1624071240\n",
      "https://www.bitstamp.net/api/v2/ohlc/ethusd/?&currency_pair=ethusd&step=60&limit=1000&start=1624131180\n",
      "https://www.bitstamp.net/api/v2/ohlc/ethusd/?&currency_pair=ethusd&step=60&limit=1000&start=1624191120\n",
      "https://www.bitstamp.net/api/v2/ohlc/ethusd/?&currency_pair=ethusd&step=60&limit=1000&start=1624251060\n",
      "https://www.bitstamp.net/api/v2/ohlc/ethusd/?&currency_pair=ethusd&step=60&limit=1000&start=1624311000\n",
      "https://www.bitstamp.net/api/v2/ohlc/ethusd/?&currency_pair=ethusd&step=60&limit=1000&start=1624370940\n",
      "https://www.bitstamp.net/api/v2/ohlc/ethusd/?&currency_pair=ethusd&step=60&limit=1000&start=1624430880\n",
      "https://www.bitstamp.net/api/v2/ohlc/ethusd/?&currency_pair=ethusd&step=60&limit=1000&start=1624490820\n",
      "https://www.bitstamp.net/api/v2/ohlc/ethusd/?&currency_pair=ethusd&step=60&limit=1000&start=1624550760\n",
      "https://www.bitstamp.net/api/v2/ohlc/ethusd/?&currency_pair=ethusd&step=60&limit=1000&start=1624610700\n",
      "https://www.bitstamp.net/api/v2/ohlc/ethusd/?&currency_pair=ethusd&step=60&limit=1000&start=1624670640\n",
      "https://www.bitstamp.net/api/v2/ohlc/ethusd/?&currency_pair=ethusd&step=60&limit=1000&start=1624730580\n",
      "https://www.bitstamp.net/api/v2/ohlc/ethusd/?&currency_pair=ethusd&step=60&limit=1000&start=1624790520\n",
      "https://www.bitstamp.net/api/v2/ohlc/ethusd/?&currency_pair=ethusd&step=60&limit=1000&start=1624850460\n",
      "https://www.bitstamp.net/api/v2/ohlc/ethusd/?&currency_pair=ethusd&step=60&limit=1000&start=1624910400\n",
      "https://www.bitstamp.net/api/v2/ohlc/ethusd/?&currency_pair=ethusd&step=60&limit=1000&start=1624970340\n",
      "https://www.bitstamp.net/api/v2/ohlc/ethusd/?&currency_pair=ethusd&step=60&limit=1000&start=1625030280\n",
      "https://www.bitstamp.net/api/v2/ohlc/ethusd/?&currency_pair=ethusd&step=60&limit=1000&start=1625090220\n",
      "https://www.bitstamp.net/api/v2/ohlc/ethusd/?&currency_pair=ethusd&step=60&limit=1000&start=1625150160\n",
      "https://www.bitstamp.net/api/v2/ohlc/ethusd/?&currency_pair=ethusd&step=60&limit=1000&start=1625210100\n",
      "https://www.bitstamp.net/api/v2/ohlc/ethusd/?&currency_pair=ethusd&step=60&limit=1000&start=1625270040\n",
      "https://www.bitstamp.net/api/v2/ohlc/ethusd/?&currency_pair=ethusd&step=60&limit=1000&start=1625329980\n",
      "https://www.bitstamp.net/api/v2/ohlc/ethusd/?&currency_pair=ethusd&step=60&limit=1000&start=1625389920\n",
      "https://www.bitstamp.net/api/v2/ohlc/ethusd/?&currency_pair=ethusd&step=60&limit=1000&start=1625449860\n",
      "https://www.bitstamp.net/api/v2/ohlc/ethusd/?&currency_pair=ethusd&step=60&limit=1000&start=1625509800\n",
      "https://www.bitstamp.net/api/v2/ohlc/ethusd/?&currency_pair=ethusd&step=60&limit=1000&start=1625569740\n",
      "https://www.bitstamp.net/api/v2/ohlc/ethusd/?&currency_pair=ethusd&step=60&limit=1000&start=1625629680\n",
      "https://www.bitstamp.net/api/v2/ohlc/ethusd/?&currency_pair=ethusd&step=60&limit=1000&start=1625689620\n",
      "https://www.bitstamp.net/api/v2/ohlc/ethusd/?&currency_pair=ethusd&step=60&limit=1000&start=1625749560\n",
      "https://www.bitstamp.net/api/v2/ohlc/ethusd/?&currency_pair=ethusd&step=60&limit=1000&start=1625809500\n",
      "https://www.bitstamp.net/api/v2/ohlc/ethusd/?&currency_pair=ethusd&step=60&limit=1000&start=1625869440\n",
      "https://www.bitstamp.net/api/v2/ohlc/ethusd/?&currency_pair=ethusd&step=60&limit=1000&start=1625929380\n",
      "https://www.bitstamp.net/api/v2/ohlc/ethusd/?&currency_pair=ethusd&step=60&limit=1000&start=1625989320\n",
      "https://www.bitstamp.net/api/v2/ohlc/ethusd/?&currency_pair=ethusd&step=60&limit=1000&start=1626049260\n",
      "https://www.bitstamp.net/api/v2/ohlc/ethusd/?&currency_pair=ethusd&step=60&limit=1000&start=1626109200\n",
      "https://www.bitstamp.net/api/v2/ohlc/ethusd/?&currency_pair=ethusd&step=60&limit=1000&start=1626169140\n",
      "https://www.bitstamp.net/api/v2/ohlc/ethusd/?&currency_pair=ethusd&step=60&limit=1000&start=1626229080\n",
      "https://www.bitstamp.net/api/v2/ohlc/ethusd/?&currency_pair=ethusd&step=60&limit=1000&start=1626289020\n",
      "Downloaded from 2021-06-15 00:00:00 to 2021-07-15 00:01:00 2005.98\n",
      "Resample 1Min - TecAn ( windows 40, windows_limit 100 )\n",
      "Processing 43244 of ethusd\n"
     ]
    },
    {
     "data": {
      "application/vnd.jupyter.widget-view+json": {
       "model_id": "15fb395ff76a4278a8e95320637fe1c1",
       "version_major": 2,
       "version_minor": 0
      },
      "text/plain": [
       "  0%|          | 0/43244 [00:00<?, ?it/s]"
      ]
     },
     "metadata": {},
     "output_type": "display_data"
    },
    {
     "name": "stdout",
     "output_type": "stream",
     "text": [
      "https://www.bitstamp.net/api/v2/ohlc/btcusd/?&currency_pair=btcusd&step=60&limit=1000&start=1623711600\n",
      "https://www.bitstamp.net/api/v2/ohlc/btcusd/?&currency_pair=btcusd&step=60&limit=1000&start=1623771540\n",
      "https://www.bitstamp.net/api/v2/ohlc/btcusd/?&currency_pair=btcusd&step=60&limit=1000&start=1623831480\n",
      "https://www.bitstamp.net/api/v2/ohlc/btcusd/?&currency_pair=btcusd&step=60&limit=1000&start=1623891420\n",
      "https://www.bitstamp.net/api/v2/ohlc/btcusd/?&currency_pair=btcusd&step=60&limit=1000&start=1623951360\n",
      "https://www.bitstamp.net/api/v2/ohlc/btcusd/?&currency_pair=btcusd&step=60&limit=1000&start=1624011300\n",
      "https://www.bitstamp.net/api/v2/ohlc/btcusd/?&currency_pair=btcusd&step=60&limit=1000&start=1624071240\n",
      "https://www.bitstamp.net/api/v2/ohlc/btcusd/?&currency_pair=btcusd&step=60&limit=1000&start=1624131180\n",
      "https://www.bitstamp.net/api/v2/ohlc/btcusd/?&currency_pair=btcusd&step=60&limit=1000&start=1624191120\n",
      "https://www.bitstamp.net/api/v2/ohlc/btcusd/?&currency_pair=btcusd&step=60&limit=1000&start=1624251060\n",
      "https://www.bitstamp.net/api/v2/ohlc/btcusd/?&currency_pair=btcusd&step=60&limit=1000&start=1624311000\n",
      "https://www.bitstamp.net/api/v2/ohlc/btcusd/?&currency_pair=btcusd&step=60&limit=1000&start=1624370940\n",
      "https://www.bitstamp.net/api/v2/ohlc/btcusd/?&currency_pair=btcusd&step=60&limit=1000&start=1624430880\n",
      "https://www.bitstamp.net/api/v2/ohlc/btcusd/?&currency_pair=btcusd&step=60&limit=1000&start=1624490820\n",
      "https://www.bitstamp.net/api/v2/ohlc/btcusd/?&currency_pair=btcusd&step=60&limit=1000&start=1624550760\n",
      "https://www.bitstamp.net/api/v2/ohlc/btcusd/?&currency_pair=btcusd&step=60&limit=1000&start=1624610700\n",
      "https://www.bitstamp.net/api/v2/ohlc/btcusd/?&currency_pair=btcusd&step=60&limit=1000&start=1624670640\n",
      "https://www.bitstamp.net/api/v2/ohlc/btcusd/?&currency_pair=btcusd&step=60&limit=1000&start=1624730580\n",
      "https://www.bitstamp.net/api/v2/ohlc/btcusd/?&currency_pair=btcusd&step=60&limit=1000&start=1624790520\n",
      "https://www.bitstamp.net/api/v2/ohlc/btcusd/?&currency_pair=btcusd&step=60&limit=1000&start=1624850460\n",
      "https://www.bitstamp.net/api/v2/ohlc/btcusd/?&currency_pair=btcusd&step=60&limit=1000&start=1624910400\n",
      "https://www.bitstamp.net/api/v2/ohlc/btcusd/?&currency_pair=btcusd&step=60&limit=1000&start=1624970340\n",
      "https://www.bitstamp.net/api/v2/ohlc/btcusd/?&currency_pair=btcusd&step=60&limit=1000&start=1625030280\n",
      "https://www.bitstamp.net/api/v2/ohlc/btcusd/?&currency_pair=btcusd&step=60&limit=1000&start=1625090220\n",
      "https://www.bitstamp.net/api/v2/ohlc/btcusd/?&currency_pair=btcusd&step=60&limit=1000&start=1625150160\n",
      "https://www.bitstamp.net/api/v2/ohlc/btcusd/?&currency_pair=btcusd&step=60&limit=1000&start=1625210100\n",
      "https://www.bitstamp.net/api/v2/ohlc/btcusd/?&currency_pair=btcusd&step=60&limit=1000&start=1625270040\n",
      "https://www.bitstamp.net/api/v2/ohlc/btcusd/?&currency_pair=btcusd&step=60&limit=1000&start=1625329980\n",
      "https://www.bitstamp.net/api/v2/ohlc/btcusd/?&currency_pair=btcusd&step=60&limit=1000&start=1625389920\n",
      "https://www.bitstamp.net/api/v2/ohlc/btcusd/?&currency_pair=btcusd&step=60&limit=1000&start=1625449860\n",
      "https://www.bitstamp.net/api/v2/ohlc/btcusd/?&currency_pair=btcusd&step=60&limit=1000&start=1625509800\n",
      "https://www.bitstamp.net/api/v2/ohlc/btcusd/?&currency_pair=btcusd&step=60&limit=1000&start=1625569740\n",
      "https://www.bitstamp.net/api/v2/ohlc/btcusd/?&currency_pair=btcusd&step=60&limit=1000&start=1625629680\n",
      "https://www.bitstamp.net/api/v2/ohlc/btcusd/?&currency_pair=btcusd&step=60&limit=1000&start=1625689620\n",
      "https://www.bitstamp.net/api/v2/ohlc/btcusd/?&currency_pair=btcusd&step=60&limit=1000&start=1625749560\n",
      "https://www.bitstamp.net/api/v2/ohlc/btcusd/?&currency_pair=btcusd&step=60&limit=1000&start=1625809500\n",
      "https://www.bitstamp.net/api/v2/ohlc/btcusd/?&currency_pair=btcusd&step=60&limit=1000&start=1625869440\n",
      "https://www.bitstamp.net/api/v2/ohlc/btcusd/?&currency_pair=btcusd&step=60&limit=1000&start=1625929380\n",
      "https://www.bitstamp.net/api/v2/ohlc/btcusd/?&currency_pair=btcusd&step=60&limit=1000&start=1625989320\n",
      "https://www.bitstamp.net/api/v2/ohlc/btcusd/?&currency_pair=btcusd&step=60&limit=1000&start=1626049260\n",
      "https://www.bitstamp.net/api/v2/ohlc/btcusd/?&currency_pair=btcusd&step=60&limit=1000&start=1626109200\n",
      "https://www.bitstamp.net/api/v2/ohlc/btcusd/?&currency_pair=btcusd&step=60&limit=1000&start=1626169140\n",
      "https://www.bitstamp.net/api/v2/ohlc/btcusd/?&currency_pair=btcusd&step=60&limit=1000&start=1626229080\n",
      "https://www.bitstamp.net/api/v2/ohlc/btcusd/?&currency_pair=btcusd&step=60&limit=1000&start=1626289020\n",
      "Downloaded from 2021-06-15 00:00:00 to 2021-07-15 00:01:00 32987.01\n",
      "Resample 1Min - TecAn ( windows 40, windows_limit 100 )\n",
      "Processing 43244 of btcusd\n"
     ]
    },
    {
     "data": {
      "application/vnd.jupyter.widget-view+json": {
       "model_id": "f5025593561149b2be714dc403da5633",
       "version_major": 2,
       "version_minor": 0
      },
      "text/plain": [
       "  0%|          | 0/43244 [00:00<?, ?it/s]"
      ]
     },
     "metadata": {},
     "output_type": "display_data"
    },
    {
     "name": "stdout",
     "output_type": "stream",
     "text": [
      "CPU times: user 16h 26min 6s, sys: 1h 2min 41s, total: 17h 28min 48s\n",
      "Wall time: 16h 59min 39s\n"
     ]
    }
   ],
   "source": [
    "%%time\n",
    "\n",
    "for minute in tqdm(minutes):\n",
    "    for win in windows:\n",
    "        load(minute, win)"
   ]
  },
  {
   "cell_type": "code",
   "execution_count": null,
   "metadata": {
    "scrolled": true
   },
   "outputs": [],
   "source": [
    "%%time\n",
    "\n",
    "import time\n",
    "\n",
    "threads = []\n",
    "for minute in tqdm(minutes):\n",
    "    threads = []\n",
    "    for win in windows:\n",
    "        t = threading.Thread(target=load, args=(minute, win,))\n",
    "        t.setDaemon(True)\n",
    "        #t.start()\n",
    "        threads.append(t)\n",
    "        #time.sleep(1)\n",
    "    for th in threads:\n",
    "        #th.start()\n",
    "        time.sleep(30)\n",
    "    for th in threads:\n",
    "        th.join()\n"
   ]
  },
  {
   "cell_type": "code",
   "execution_count": null,
   "metadata": {},
   "outputs": [],
   "source": []
  }
 ],
 "metadata": {
  "accelerator": "GPU",
  "colab": {
   "collapsed_sections": [],
   "name": "enviroment",
   "provenance": [],
   "version": "0.3.2"
  },
  "kernelspec": {
   "display_name": "Python 3",
   "language": "python",
   "name": "python3"
  },
  "language_info": {
   "codemirror_mode": {
    "name": "ipython",
    "version": 3
   },
   "file_extension": ".py",
   "mimetype": "text/x-python",
   "name": "python",
   "nbconvert_exporter": "python",
   "pygments_lexer": "ipython3",
   "version": "3.9.5"
  }
 },
 "nbformat": 4,
 "nbformat_minor": 4
}
