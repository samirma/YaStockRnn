{
 "cells": [
  {
   "cell_type": "code",
   "execution_count": 1,
   "metadata": {
    "scrolled": true
   },
   "outputs": [],
   "source": [
    "import pandas as pd\n",
    "import data_util\n",
    "from tqdm import tqdm_notebook as tqdm\n",
    "from data_generator import DataGenerator\n",
    "from state_util import StateUtil\n",
    "from tec_an import TecAn\n",
    "from data_agent import *\n",
    "import numpy as np\n",
    "from data_util import *\n",
    "import tensorflow as tf\n",
    "from sklearn_model_hyper import *\n",
    "import pandas as pd\n",
    "from stock_agent import *\n",
    "from backtest import *\n",
    "from joblib import dump, load\n",
    "from datetime import datetime, timedelta\n",
    "from tec_an import *\n",
    "from bitstamp import *\n",
    "from process_live_trade import *\n",
    "from model_winner_select import *\n",
    "from eval_model import *\n",
    "\n",
    "base_dir = \"data/\""
   ]
  },
  {
   "cell_type": "code",
   "execution_count": 2,
   "metadata": {},
   "outputs": [],
   "source": [
    "currency = \"btcusd\"\n",
    "\n",
    "full_data = base_dir + \"backtest/\"\n",
    "full_data = base_dir + \"4jul21/\"\n",
    "#full_data = base_dir + \"btcusd/\"\n",
    "data_gen = DataGenerator(random = False, base_dir = full_data)\n",
    "data_gen.rewind()\n",
    "data_count = (data_gen.steps - 100)\n",
    "#data_count = 200000\n",
    "raw = data_gen.next()\n",
    "\n",
    "minute = 5\n",
    "\n",
    "hot_load = True"
   ]
  },
  {
   "cell_type": "code",
   "execution_count": 3,
   "metadata": {},
   "outputs": [],
   "source": [
    "path = \"model/\"\n",
    "files = os.listdir(path)\n",
    "models = []\n",
    "for file in files:\n",
    "    models.append(f\"{path}{file}\")\n",
    "\n",
    "models = ['model/rand']\n",
    "#models = ['model/quadra']\n",
    "    \n",
    "timestamp = int(raw['timestamp'])"
   ]
  },
  {
   "cell_type": "code",
   "execution_count": 4,
   "metadata": {},
   "outputs": [],
   "source": [
    "result = load(models[-1])[-1]"
   ]
  },
  {
   "cell_type": "code",
   "execution_count": 5,
   "metadata": {},
   "outputs": [],
   "source": [
    "model = result['model']\n",
    "window = result['window']\n",
    "minutes = result['minutes']\n",
    "step = result['step']\n",
    "profit = result['profit']"
   ]
  },
  {
   "cell_type": "code",
   "execution_count": 6,
   "metadata": {},
   "outputs": [],
   "source": [
    "val_start = 1629215891\n",
    "val_end = 1629285606"
   ]
  },
  {
   "cell_type": "code",
   "execution_count": 7,
   "metadata": {},
   "outputs": [
    {
     "name": "stdout",
     "output_type": "stream",
     "text": [
      "https://www.bitstamp.net/api/v2/ohlc/btcusd/?&currency_pair=btcusd&step=300&limit=1000&start=1629215891\n"
     ]
    },
    {
     "data": {
      "application/vnd.jupyter.widget-view+json": {
       "model_id": "664e64c3f15f4e10b557b9d78c78784f",
       "version_major": 2,
       "version_minor": 0
      },
      "text/plain": [
       "  0%|          | 0/235 [00:00<?, ?it/s]"
      ]
     },
     "metadata": {},
     "output_type": "display_data"
    }
   ],
   "source": [
    "\n",
    "online = load_val_data(minutes = 5, \n",
    "                 window = window, \n",
    "                 val_start = val_start,\n",
    "                 val_end = val_end,\n",
    "                 currency_list = [currency])\n"
   ]
  },
  {
   "cell_type": "code",
   "execution_count": 8,
   "metadata": {},
   "outputs": [
    {
     "name": "stdout",
     "output_type": "stream",
     "text": [
      "BackTest (pending_sell_steps=1 sell_on_profit=True value=100)\n",
      "https://www.bitstamp.net/api/v2/ohlc/btcusd/?&currency_pair=btcusd&step=300&limit=1000&start=1629195900\n"
     ]
    },
    {
     "data": {
      "application/vnd.jupyter.widget-view+json": {
       "model_id": "66902824ef70415fa4d069fd2eb4dd83",
       "version_major": 2,
       "version_minor": 0
      },
      "text/plain": [
       "  0%|          | 0/301 [00:00<?, ?it/s]"
      ]
     },
     "metadata": {},
     "output_type": "display_data"
    },
    {
     "name": "stdout",
     "output_type": "stream",
     "text": [
      "-0.148% -> 99.85200100840729\n",
      "Positive: 17 Negative: 8\n"
     ]
    },
    {
     "data": {
      "text/plain": [
       "(<stock_agent.BackTest at 0x7fc17ff7d9a0>,\n",
       " {'recall': 0.1323529411764706,\n",
       "  'precision': 0.23076923076923078,\n",
       "  'f1': 0.16822429906542055,\n",
       "  'accuracy': 0.6212765957446809,\n",
       "  'roc_auc': 0.47635611130679817})"
      ]
     },
     "execution_count": 8,
     "metadata": {},
     "output_type": "execute_result"
    }
   ],
   "source": [
    "\n",
    "eval_model(model, currency, step, online, hot_load_total = 300)\n"
   ]
  },
  {
   "cell_type": "code",
   "execution_count": 9,
   "metadata": {},
   "outputs": [
    {
     "name": "stdout",
     "output_type": "stream",
     "text": [
      "BackTest (pending_sell_steps=1 sell_on_profit=True value=100)\n",
      "https://www.bitstamp.net/api/v2/ohlc/btcusd/?&currency_pair=btcusd&step=300&limit=1000&start=1629135900\n"
     ]
    },
    {
     "data": {
      "application/vnd.jupyter.widget-view+json": {
       "model_id": "f9345713c8c845408c29ea74096d4fb6",
       "version_major": 2,
       "version_minor": 0
      },
      "text/plain": [
       "  0%|          | 0/501 [00:00<?, ?it/s]"
      ]
     },
     "metadata": {},
     "output_type": "display_data"
    },
    {
     "name": "stdout",
     "output_type": "stream",
     "text": [
      "0.20057% -> 100.20057010706546\n",
      "Positive: 26 Negative: 12\n"
     ]
    },
    {
     "data": {
      "text/plain": [
       "(<stock_agent.BackTest at 0x7fc17ff8a8b0>,\n",
       " {'recall': 0.14705882352941177,\n",
       "  'precision': 0.25,\n",
       "  'f1': 0.18518518518518517,\n",
       "  'accuracy': 0.625531914893617,\n",
       "  'roc_auc': 0.4837090524832688})"
      ]
     },
     "execution_count": 9,
     "metadata": {},
     "output_type": "execute_result"
    }
   ],
   "source": [
    "\n",
    "eval_model(model, currency, step, online, hot_load_total = 500)\n"
   ]
  },
  {
   "cell_type": "code",
   "execution_count": null,
   "metadata": {},
   "outputs": [
    {
     "name": "stdout",
     "output_type": "stream",
     "text": [
      "BackTest (pending_sell_steps=1 sell_on_profit=True value=100)\n",
      "https://www.bitstamp.net/api/v2/ohlc/btcusd/?&currency_pair=btcusd&step=300&limit=1000&start=1628985900\n",
      "https://www.bitstamp.net/api/v2/ohlc/btcusd/?&currency_pair=btcusd&step=300&limit=1000&start=1629285600\n"
     ]
    },
    {
     "data": {
      "application/vnd.jupyter.widget-view+json": {
       "model_id": "13f955eaa23d4b7296967766fd0d1f7b",
       "version_major": 2,
       "version_minor": 0
      },
      "text/plain": [
       "  0%|          | 0/1001 [00:00<?, ?it/s]"
      ]
     },
     "metadata": {},
     "output_type": "display_data"
    }
   ],
   "source": [
    "\n",
    "eval_model(model, currency, step, online, hot_load_total = 1000)\n"
   ]
  },
  {
   "cell_type": "code",
   "execution_count": null,
   "metadata": {},
   "outputs": [],
   "source": [
    "\n",
    "eval_model(model, currency, step, online, hot_load_total = 3000)\n"
   ]
  },
  {
   "cell_type": "code",
   "execution_count": null,
   "metadata": {},
   "outputs": [],
   "source": []
  },
  {
   "cell_type": "code",
   "execution_count": null,
   "metadata": {},
   "outputs": [],
   "source": []
  },
  {
   "cell_type": "code",
   "execution_count": null,
   "metadata": {},
   "outputs": [],
   "source": []
  },
  {
   "cell_type": "code",
   "execution_count": null,
   "metadata": {},
   "outputs": [],
   "source": []
  },
  {
   "cell_type": "code",
   "execution_count": null,
   "metadata": {},
   "outputs": [],
   "source": []
  },
  {
   "cell_type": "code",
   "execution_count": null,
   "metadata": {},
   "outputs": [],
   "source": []
  },
  {
   "cell_type": "code",
   "execution_count": null,
   "metadata": {},
   "outputs": [],
   "source": []
  },
  {
   "cell_type": "code",
   "execution_count": null,
   "metadata": {},
   "outputs": [],
   "source": []
  },
  {
   "cell_type": "code",
   "execution_count": null,
   "metadata": {
    "scrolled": true
   },
   "outputs": [],
   "source": [
    "winner = get_best_model(\n",
    "    minutes_list=[minute],\n",
    "    result_paths=models,\n",
    "    currency_list=[currency],\n",
    "    timestamp = timestamp,\n",
    "    winner_path = None\n",
    ")"
   ]
  },
  {
   "cell_type": "code",
   "execution_count": null,
   "metadata": {},
   "outputs": [],
   "source": [
    "result = winner\n",
    "if (winner == None):\n",
    "    result = results[-1]\n",
    "model = result['model']\n",
    "window = result['window']\n",
    "minutes = result['minutes']\n",
    "step = result['step']\n",
    "profit = result['profit']\n",
    "print(f\"Minutes={minutes} Window={window} Step={step} | {profit}\")\n",
    "print(f\"{model}\")\n"
   ]
  },
  {
   "cell_type": "code",
   "execution_count": null,
   "metadata": {},
   "outputs": [],
   "source": []
  },
  {
   "cell_type": "code",
   "execution_count": null,
   "metadata": {},
   "outputs": [],
   "source": [
    "import numpy as np\n",
    "import matplotlib.pyplot as plt\n",
    "def get_charts(stock_data):\n",
    "    fig = plt.figure()\n",
    "    ax = plt.axes()\n",
    "    x = stock_data\n",
    "    plt.plot(x, linewidth=1)\n",
    "    #plt.grid(b=True, color='aqua', alpha=0.3, linestyle='-.', linewidth=2)\n",
    "    plt.show()\n"
   ]
  },
  {
   "cell_type": "code",
   "execution_count": null,
   "metadata": {},
   "outputs": [],
   "source": []
  },
  {
   "cell_type": "code",
   "execution_count": null,
   "metadata": {},
   "outputs": [],
   "source": [
    "\n",
    "on_raw_data = lambda raw: print(raw)\n",
    "\n",
    "data_gen.rewind()\n",
    "\n",
    "first = data_gen.next()"
   ]
  },
  {
   "cell_type": "code",
   "execution_count": null,
   "metadata": {},
   "outputs": [],
   "source": [
    "agent_reference, back_reference, stock_reference = get_agent(minutes = minutes,\n",
    "                                win = window,\n",
    "                                step = step,\n",
    "                                currency = currency,\n",
    "                                hot_load = hot_load,\n",
    "                                model = model,\n",
    "                                timestamp = int(first['timestamp']),\n",
    "                                simulate_on_price = True)\n",
    "prices = []\n",
    "agent_reference.on_closed_price = lambda price: prices.append(price)\n",
    "#agent.ohlc['open'].plot()"
   ]
  },
  {
   "cell_type": "code",
   "execution_count": null,
   "metadata": {
    "scrolled": true
   },
   "outputs": [],
   "source": [
    "data_gen.rewind()\n",
    "\n",
    "\n",
    "reference_list = []\n",
    "#data_count\n",
    "for i in tqdm(range(data_count)):\n",
    "    raw = data_gen.next()\n",
    "    price = raw[PRICE_KEY]\n",
    "    amount = raw[AMOUNT_KEY]\n",
    "    timestamp = raw[TIMESTAMP_KEY]\n",
    "    timestamp_pd = pd.to_datetime(timestamp, unit='s')\n",
    "    reference_list.append([timestamp_pd, price])\n"
   ]
  },
  {
   "cell_type": "code",
   "execution_count": null,
   "metadata": {},
   "outputs": [],
   "source": [
    "DATE = 'Date'\n",
    "df = pd.DataFrame(agent_reference.list, columns = [DATE, CLOSE])\n",
    "df = df.set_index(pd.DatetimeIndex(df[DATE]))"
   ]
  },
  {
   "cell_type": "code",
   "execution_count": null,
   "metadata": {},
   "outputs": [],
   "source": [
    "time = df[CLOSE].resample(agent_reference.resample)\n",
    "ohlc = time.ohlc()\n",
    "print(\"All data reference\")\n",
    "#ohlc.plot()\n",
    "ohlc"
   ]
  },
  {
   "cell_type": "code",
   "execution_count": null,
   "metadata": {},
   "outputs": [],
   "source": [
    "reference_list[0]"
   ]
  },
  {
   "cell_type": "code",
   "execution_count": null,
   "metadata": {},
   "outputs": [],
   "source": [
    "agent_raw, back_raw, stock_raw = get_agent(minutes = minutes,\n",
    "                                win = window,\n",
    "                                step = step,\n",
    "                                currency = currency,\n",
    "                                hot_load = hot_load,\n",
    "                                model = model,\n",
    "                                timestamp = int(first['timestamp']),\n",
    "                                simulate_on_price = True)\n",
    "prices = []"
   ]
  },
  {
   "cell_type": "code",
   "execution_count": null,
   "metadata": {
    "scrolled": true
   },
   "outputs": [],
   "source": [
    "data_gen.rewind()\n",
    "agent_raw.save_history = True\n",
    "#data_count\n",
    "for i in range(data_count):\n",
    "    raw = data_gen.next()\n",
    "    agent_raw.on_new_raw_data(raw)"
   ]
  },
  {
   "cell_type": "code",
   "execution_count": null,
   "metadata": {},
   "outputs": [],
   "source": []
  },
  {
   "cell_type": "code",
   "execution_count": null,
   "metadata": {},
   "outputs": [],
   "source": [
    "val_start = int(first['timestamp'])\n",
    "val_end = int(raw['timestamp'])\n",
    "\n",
    "start_string = pd.to_datetime(val_start, unit='s')\n",
    "end_string = pd.to_datetime(val_end, unit='s')\n",
    "\n",
    "print(f\"{start_string}({val_start}) -> {end_string}({val_end})\")"
   ]
  },
  {
   "cell_type": "code",
   "execution_count": null,
   "metadata": {},
   "outputs": [],
   "source": [
    "back_raw.on_down(back_raw.buy_price, back_raw.buy_price)\n",
    "back_raw.report()"
   ]
  },
  {
   "cell_type": "code",
   "execution_count": null,
   "metadata": {},
   "outputs": [],
   "source": [
    "agent_raw.ohlc[-50:][\"open\"].plot()\n",
    "#agent.ohlc[1:]"
   ]
  },
  {
   "cell_type": "code",
   "execution_count": null,
   "metadata": {},
   "outputs": [],
   "source": []
  },
  {
   "cell_type": "code",
   "execution_count": null,
   "metadata": {},
   "outputs": [],
   "source": [
    "tec = TecAn(windows = window, windows_limit = 100)\n",
    "source_data_generator = SourceDataGenerator(tec = tec)\n",
    "online = get_online_data(minutes = 5, \n",
    "                 source_data_generator = source_data_generator, \n",
    "                 load_from_disk = True, \n",
    "                 file_prefix = \"____\",\n",
    "                 val_start = val_start,\n",
    "                 val_end = val_end)\n"
   ]
  },
  {
   "cell_type": "code",
   "execution_count": null,
   "metadata": {},
   "outputs": [],
   "source": [
    "online.load_val_cache([currency],1629215891,  1629229205)"
   ]
  },
  {
   "cell_type": "code",
   "execution_count": null,
   "metadata": {},
   "outputs": [],
   "source": [
    "x_list, price_list, time_list = online.load_val_data(currency)"
   ]
  },
  {
   "cell_type": "code",
   "execution_count": null,
   "metadata": {},
   "outputs": [],
   "source": [
    "get_charts(price_list)\n",
    "print(len(price_list))"
   ]
  },
  {
   "cell_type": "code",
   "execution_count": null,
   "metadata": {},
   "outputs": [],
   "source": [
    "agent_array, back_array, stock_array = get_agent(minutes = minutes,\n",
    "                                win = window,\n",
    "                                step = step,\n",
    "                                currency = currency,\n",
    "                                hot_load = hot_load,\n",
    "                                model = model,\n",
    "                                timestamp = int(first['timestamp']),\n",
    "                                simulate_on_price = True)"
   ]
  },
  {
   "cell_type": "code",
   "execution_count": null,
   "metadata": {
    "scrolled": true
   },
   "outputs": [],
   "source": [
    "agent_array.save_history = True\n",
    "for idx in range(len(price_list)):\n",
    "    price = price_list[idx]\n",
    "    time = time_list[idx]\n",
    "    order = [[f\"{price}\", f\"{price}\"]]\n",
    "    amount = 0.0\n",
    "    agent_array.process_data(price, amount, time, order, order)"
   ]
  },
  {
   "cell_type": "code",
   "execution_count": null,
   "metadata": {},
   "outputs": [],
   "source": [
    "back_array.on_down(back_array.buy_price, back_array.buy_price)\n",
    "back_array.report()"
   ]
  },
  {
   "cell_type": "code",
   "execution_count": null,
   "metadata": {},
   "outputs": [],
   "source": []
  },
  {
   "cell_type": "code",
   "execution_count": null,
   "metadata": {},
   "outputs": [],
   "source": [
    "def eval_step_(model, train_set, step, provider, verbose = False):\n",
    "\n",
    "    valX, valY, times = provider.load_val_data(train_set)\n",
    "    \n",
    "    x, y, closed_prices = get_sequencial_data(valX, valY, step)\n",
    "    \n",
    "    history = []\n",
    "    \n",
    "    preds = model.predict(np.array(x))\n",
    "    \n",
    "    #for idx in range(len(x)):\n",
    "    #    print(f\"{times[idx]} -> {closed_prices[idx]} {y[idx]} \")\n",
    "\n",
    "    metrics = {}\n",
    "    metrics[\"recall\"] = recall_score(y, preds)\n",
    "    metrics[\"precision\"] = precision_score(y, preds)\n",
    "    metrics[\"f1\"] = f1_score(y, preds)\n",
    "    metrics[\"accuracy\"] = accuracy_score(y, preds)\n",
    "    metrics[\"roc_auc\"] = roc_auc_score(y, preds)\n",
    "    \n",
    "    back = BackTest(value = 100, \n",
    "                    verbose = True, \n",
    "                    sell_on_profit = True,\n",
    "                    pending_sell_steps = step)\n",
    "    \n",
    "    back = backtest_model(model, valX, valY, back)\n",
    "    \n",
    "    for idx in range(len(times)):\n",
    "        timestamp = times[idx]\n",
    "        price = closed_prices[idx]\n",
    "        y = model.predict([valX[idx]])\n",
    "        is_up = False\n",
    "        if (y[0] > 0.5):\n",
    "            is_up = True\n",
    "        history.append((timestamp, price, x, is_up))\n",
    "    \n",
    "    get_charts(valY)\n",
    "\n",
    "    \n",
    "    return back, metrics, history\n",
    "    "
   ]
  },
  {
   "cell_type": "code",
   "execution_count": null,
   "metadata": {
    "scrolled": true
   },
   "outputs": [],
   "source": [
    "back_eval, metr, history = eval_step_(model, currency, step, online, verbose = False)\n",
    "back_eval.on_down(back_eval.buy_price, back_eval.buy_price)\n",
    "back_eval.report()"
   ]
  },
  {
   "cell_type": "code",
   "execution_count": null,
   "metadata": {},
   "outputs": [],
   "source": [
    "for data in history:\n",
    "    print(f\"{data[0]} - {data[1]} - {data[3]}\")"
   ]
  },
  {
   "cell_type": "code",
   "execution_count": null,
   "metadata": {},
   "outputs": [],
   "source": [
    "print(metrics)\n"
   ]
  },
  {
   "cell_type": "code",
   "execution_count": null,
   "metadata": {},
   "outputs": [],
   "source": [
    "back_raw.report()\n",
    "#-1.78465% -> 98.21535030676218"
   ]
  },
  {
   "cell_type": "code",
   "execution_count": null,
   "metadata": {},
   "outputs": [],
   "source": [
    "back_array.report()\n",
    "#-1.89717% -> 98.10282664807247"
   ]
  },
  {
   "cell_type": "code",
   "execution_count": null,
   "metadata": {},
   "outputs": [],
   "source": []
  },
  {
   "cell_type": "code",
   "execution_count": null,
   "metadata": {},
   "outputs": [],
   "source": [
    "agent_raw.report()"
   ]
  },
  {
   "cell_type": "code",
   "execution_count": null,
   "metadata": {},
   "outputs": [],
   "source": [
    "agent_array.report()"
   ]
  },
  {
   "cell_type": "code",
   "execution_count": null,
   "metadata": {},
   "outputs": [],
   "source": []
  },
  {
   "cell_type": "code",
   "execution_count": null,
   "metadata": {},
   "outputs": [],
   "source": []
  }
 ],
 "metadata": {
  "kernelspec": {
   "display_name": "Python 3",
   "language": "python",
   "name": "python3"
  },
  "language_info": {
   "codemirror_mode": {
    "name": "ipython",
    "version": 3
   },
   "file_extension": ".py",
   "mimetype": "text/x-python",
   "name": "python",
   "nbconvert_exporter": "python",
   "pygments_lexer": "ipython3",
   "version": "3.9.5"
  }
 },
 "nbformat": 4,
 "nbformat_minor": 4
}
