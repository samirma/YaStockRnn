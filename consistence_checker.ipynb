{
 "cells": [
  {
   "cell_type": "code",
   "execution_count": 1,
   "metadata": {
    "scrolled": true
   },
   "outputs": [],
   "source": [
    "import pandas as pd\n",
    "import data_util\n",
    "from tqdm import tqdm_notebook as tqdm\n",
    "from data_generator import DataGenerator\n",
    "from agents.tec_an import *\n",
    "from agents.data_agent import *\n",
    "from agents.stock_agent import *\n",
    "import numpy as np\n",
    "from data_util import *\n",
    "import pandas as pd\n",
    "from backtest import *\n",
    "from joblib import dump, load\n",
    "from datetime import datetime, timedelta\n",
    "from bitstamp import *\n",
    "from process_live_trade import *\n",
    "from model_winner_select import *\n",
    "from eval_model import *\n",
    "from cache_providers import *\n",
    "\n",
    "base_dir = \"data/\""
   ]
  },
  {
   "cell_type": "code",
   "execution_count": 2,
   "metadata": {},
   "outputs": [],
   "source": [
    "currency = \"btcusd\"\n",
    "\n",
    "full_data = base_dir + \"backtest/\"\n",
    "full_data = base_dir + \"4jul21/\"\n",
    "#full_data = base_dir + \"btcusd/\"\n",
    "data_gen = DataGenerator(random = False, base_dir = full_data)\n",
    "data_gen.rewind()\n",
    "data_count = (data_gen.steps - 100)\n",
    "#data_count = 200000\n",
    "raw = data_gen.next()\n",
    "\n",
    "minute = 15\n",
    "\n",
    "step = 1\n",
    "\n",
    "hot_load = True"
   ]
  },
  {
   "cell_type": "code",
   "execution_count": 3,
   "metadata": {},
   "outputs": [],
   "source": [
    "path = \"model/\"\n",
    "files = os.listdir(path)\n",
    "models = []\n",
    "for file in files:\n",
    "    models.append(f\"{path}{file}\")\n",
    "\n",
    "models = ['model/ber_30_20']\n",
    "    \n",
    "val_start = 1629507199#int(raw['timestamp'])"
   ]
  },
  {
   "cell_type": "code",
   "execution_count": 4,
   "metadata": {},
   "outputs": [],
   "source": [
    "def get_online_data(minutes, source_data_generator, load_from_disk, file_prefix = \"\"):\n",
    "    \n",
    "    online_path = f'data/online{file_prefix}_{minutes}'\n",
    "        \n",
    "    return load(online_path)  \n",
    "\n",
    "def get_provider(minu, win):\n",
    "    tec = TecAn(windows = win, windows_limit = 100)\n",
    "    sourceDataGenerator = SourceDataGenerator(tec = tec)\n",
    "    provider = get_online_data(\n",
    "            minutes = minu, \n",
    "            source_data_generator=sourceDataGenerator, \n",
    "            load_from_disk = True, \n",
    "            file_prefix=win\n",
    "            )\n",
    "        \n",
    "    return provider"
   ]
  },
  {
   "cell_type": "code",
   "execution_count": 5,
   "metadata": {},
   "outputs": [],
   "source": [
    "model_list = load(models[-1])\n",
    "trained_model = model_list[-1]"
   ]
  },
  {
   "cell_type": "code",
   "execution_count": 6,
   "metadata": {},
   "outputs": [],
   "source": [
    "minutes = trained_model.model_detail.data_detail.minutes\n",
    "windows = trained_model.model_detail.data_detail.windows\n",
    "steps_ahead = trained_model.model_detail.data_detail.steps_ahead\n",
    "provider = get_provider(minu = minutes, win = windows)     "
   ]
  },
  {
   "cell_type": "code",
   "execution_count": 7,
   "metadata": {},
   "outputs": [],
   "source": [
    "\n",
    "cache = CacheProvider(currency_list=provider.val_keys, verbose = False)\n"
   ]
  },
  {
   "cell_type": "code",
   "execution_count": 8,
   "metadata": {},
   "outputs": [
    {
     "name": "stdout",
     "output_type": "stream",
     "text": [
      "Counter({1: 769, 0: 672})\n"
     ]
    }
   ],
   "source": [
    "from collections import Counter\n",
    "valX, valY, times = provider.load_val_data(\"btcusd\")\n",
    "x, y, closed_prices = get_sequencial_data(valX, valY, 3)\n",
    "print(Counter(y))\n",
    "#6657"
   ]
  },
  {
   "cell_type": "code",
   "execution_count": 9,
   "metadata": {},
   "outputs": [],
   "source": [
    "stop_losses = ([0.0, -0.001, -0.01, -0.1, -1, -100])"
   ]
  },
  {
   "cell_type": "code",
   "execution_count": 10,
   "metadata": {},
   "outputs": [
    {
     "name": "stdout",
     "output_type": "stream",
     "text": [
      "---- 0.0 ----\n",
      "btcusd\n",
      "0.43871% -> 100.43870815490845\n",
      "Positive: 157(0.5258496815286623) Negative: 158(-0.5197493670886075)\n",
      "\n",
      "ethusd\n",
      "-16.80247% -> 83.19752870373128\n",
      "Positive: 234(0.6001051282051282) Negative: 237(-0.6634071729957806)\n",
      "\n",
      "ltcusd\n",
      "-16.18183% -> 83.81817144542596\n",
      "Positive: 200(0.6419460000000001) Negative: 221(-0.6541705882352941)\n",
      "\n",
      "ltcbtc\n",
      "-1.31666% -> 98.68334201928351\n",
      "Positive: 42(0.4737119047619048) Negative: 48(-0.44191874999999997)\n",
      "\n",
      "---- -0.001 ----\n",
      "btcusd\n",
      "-2.79173% -> 97.208266843295\n",
      "Positive: 127(0.5594661417322834) Negative: 140(-0.5274607142857143)\n",
      "\n",
      "ethusd\n",
      "-16.80247% -> 83.19752870373128\n",
      "Positive: 234(0.6001051282051282) Negative: 237(-0.6634071729957806)\n",
      "\n",
      "ltcusd\n",
      "-16.18183% -> 83.81817144542596\n",
      "Positive: 200(0.6419460000000001) Negative: 221(-0.6541705882352941)\n",
      "\n",
      "ltcbtc\n",
      "-1.31666% -> 98.68334201928351\n",
      "Positive: 42(0.4737119047619048) Negative: 48(-0.44191874999999997)\n",
      "\n",
      "---- -0.01 ----\n",
      "btcusd\n",
      "-6.09883% -> 93.9011693636496\n",
      "Positive: 129(0.5391984496124032) Negative: 136(-0.5562926470588235)\n",
      "\n",
      "ethusd\n",
      "-17.84327% -> 82.15672717309567\n",
      "Positive: 231(0.5994411255411255) Negative: 237(-0.6595556962025317)\n",
      "\n",
      "ltcusd\n",
      "-17.3697% -> 82.63029598636757\n",
      "Positive: 200(0.635969) Negative: 220(-0.6571095454545455)\n",
      "\n",
      "ltcbtc\n",
      "-1.31666% -> 98.68334201928351\n",
      "Positive: 42(0.4737119047619048) Negative: 48(-0.44191874999999997)\n",
      "\n",
      "---- -0.1 ----\n",
      "btcusd\n",
      "2.19357% -> 102.19357000845767\n",
      "Positive: 146(0.4910253424657534) Negative: 112(-0.6205035714285714)\n",
      "\n",
      "ethusd\n",
      "-17.68599% -> 82.31400874895864\n",
      "Positive: 235(0.6208370212765958) Negative: 225(-0.7270337777777779)\n",
      "\n",
      "ltcusd\n",
      "-1.88411% -> 98.11589080388289\n",
      "Positive: 213(0.6576422535211269) Negative: 191(-0.7432586387434555)\n",
      "\n",
      "ltcbtc\n",
      "2.80036% -> 102.8003567481371\n",
      "Positive: 47(0.45610212765957453) Negative: 37(-0.5036783783783786)\n",
      "\n",
      "---- -1 ----\n",
      "btcusd\n",
      "19.34289% -> 119.34288903645736\n",
      "Positive: 147(0.5437639455782313) Negative: 47(-1.2891531914893617)\n",
      "\n",
      "ethusd\n",
      "-2.08112% -> 97.91887981120225\n",
      "Positive: 246(0.5767719512195122) Negative: 104(-1.3843019230769231)\n",
      "\n",
      "ltcusd\n",
      "14.64635% -> 114.64635173442824\n",
      "Positive: 223(0.6149286995515696) Negative: 85(-1.4409694117647063)\n",
      "\n",
      "ltcbtc\n",
      "0.54563% -> 100.54562902585141\n",
      "Positive: 48(0.4293770833333333) Negative: 17(-1.1802470588235294)\n",
      "\n",
      "---- -100 ----\n",
      "btcusd\n",
      "20.08325% -> 120.08325453912785\n",
      "Positive: 86(0.45778837209302325) Negative: 21(-0.9184095238095237)\n",
      "\n",
      "ethusd\n",
      "0.39267% -> 100.39267278257005\n",
      "Positive: 122(0.5191180327868853) Negative: 35(-1.7982714285714287)\n",
      "\n",
      "ltcusd\n",
      "13.22085% -> 113.22085038507811\n",
      "Positive: 106(0.4883754716981133) Negative: 23(-1.6759565217391303)\n",
      "\n",
      "ltcbtc\n",
      "-4.86047% -> 95.13953214196208\n",
      "Positive: 28(0.36983928571428565) Negative: 7(-2.1736714285714287)\n",
      "\n"
     ]
    }
   ],
   "source": [
    "model = trained_model.model_detail.model\n",
    "\n",
    "for stop_loss in stop_losses:\n",
    "    print(f\"---- {stop_loss} ----\")\n",
    "    online = provider\n",
    "    val_keys = online.val_keys\n",
    "    for key in val_keys:\n",
    "        back, metric = eval_model(model = model,\n",
    "                          hot_load_total = 100,\n",
    "                          currency = key, \n",
    "                          cache = cache,\n",
    "                          stop_loss = stop_loss,\n",
    "                          provider = online, \n",
    "                          step = step, \n",
    "                          verbose = False)\n",
    "        print(f\"{key}\")\n",
    "        back.report()\n",
    "        print()\n"
   ]
  },
  {
   "cell_type": "code",
   "execution_count": 11,
   "metadata": {},
   "outputs": [
    {
     "ename": "AttributeError",
     "evalue": "'BackTest' object has no attribute 'loss_limit'",
     "output_type": "error",
     "traceback": [
      "\u001b[0;31m---------------------------------------------------------------------------\u001b[0m",
      "\u001b[0;31mAttributeError\u001b[0m                            Traceback (most recent call last)",
      "\u001b[0;32m<ipython-input-11-4cdf876bf3f4>\u001b[0m in \u001b[0;36m<module>\u001b[0;34m\u001b[0m\n\u001b[0;32m----> 1\u001b[0;31m \u001b[0mback\u001b[0m\u001b[0;34m.\u001b[0m\u001b[0mloss_limit\u001b[0m\u001b[0;34m\u001b[0m\u001b[0;34m\u001b[0m\u001b[0m\n\u001b[0m",
      "\u001b[0;31mAttributeError\u001b[0m: 'BackTest' object has no attribute 'loss_limit'"
     ]
    }
   ],
   "source": [
    "back.loss_limit"
   ]
  },
  {
   "cell_type": "code",
   "execution_count": null,
   "metadata": {},
   "outputs": [],
   "source": [
    "btcusd -> {'recall': 0.6559633027522935, 'precision': 0.32987312572087657, 'f1': 0.4389869531849578, 'accuracy': 0.49271339347675225, 'roc_auc': 0.5389269250079876}\n",
    "-3.92733% -> 96.07266706598205\n",
    "Positive: 133(0.38393082706766923) Negative: 25(-2.199628)\n",
    "\n",
    "ethusd -> {'recall': 0.7270955165692008, 'precision': 0.3790650406504065, 'f1': 0.4983299933199733, 'accuracy': 0.47883414295628035, 'roc_auc': 0.5343451720777038}\n",
    "-13.95102% -> 86.04898326366862\n",
    "Positive: 119(0.5106663865546218) Negative: 33(-2.2642515151515155)\n",
    "\n",
    "ltcusd -> {'recall': 0.6704980842911877, 'precision': 0.3808487486398259, 'f1': 0.48577376821651624, 'accuracy': 0.4857737682165163, 'roc_auc': 0.5256734164655068}\n",
    "-28.68033% -> 71.31966840346664\n",
    "Positive: 84(0.5380202380952381) Negative: 28(-2.6383607142857146)\n",
    "\n",
    "ltcbtc -> {'recall': 0.43360433604336046, 'precision': 0.28622540250447226, 'f1': 0.3448275862068965, 'accuracy': 0.5780707841776545, 'roc_auc': 0.5307014217530236}\n",
    "-0.12002% -> 99.8799799967114\n",
    "Positive: 85(0.2832105882352941) Negative: 25(-0.9676920000000001)\n"
   ]
  },
  {
   "cell_type": "code",
   "execution_count": null,
   "metadata": {},
   "outputs": [],
   "source": [
    "results = []\n",
    "for trained_model in model_list:\n",
    "    reference_profit = {}\n",
    "    models_profit = {}\n",
    "\n",
    "    models_profit_metric = {}\n",
    "\n",
    "    models_score = {}\n",
    "\n",
    "    step = trained_model.model_detail.data_detail.steps_ahead\n",
    "\n",
    "    profits = []\n",
    "    for train_set in provider.val_keys:\n",
    "        trainX_raw, trainY_raw, times = provider.load_val_data(train_set)\n",
    "        x, y, closed_prices = get_sequencial_data(trainX_raw, trainY_raw, step)\n",
    "        reference = get_max_profit(x, y, closed_prices, step)\n",
    "\n",
    "        key = train_set\n",
    "\n",
    "        reference_profit[key] = reference.get_profit()\n",
    "\n",
    "        back, score = eval_model(\n",
    "                trained_model.model_detail.model, \n",
    "                train_set, \n",
    "                step = step,\n",
    "                cache = cache,\n",
    "                provider = provider,\n",
    "                hot_load_total = 100,\n",
    "                verbose = False\n",
    "                )\n",
    "        \n",
    "        #for metric_key in score:\n",
    "        #    print(f\"{metric_key} -> {score[metric_key]}\")\n",
    "        print(back.current)\n",
    "        if (back.current > 100):\n",
    "            back.report()\n",
    "            results.append((back, score))\n",
    "        #back.on_down(back.buy_price, back.buy_price)\n",
    "        break\n"
   ]
  },
  {
   "cell_type": "code",
   "execution_count": null,
   "metadata": {},
   "outputs": [],
   "source": []
  },
  {
   "cell_type": "code",
   "execution_count": null,
   "metadata": {
    "scrolled": true
   },
   "outputs": [],
   "source": [
    "winner = get_best_model(\n",
    "    minutes_list=[minute],\n",
    "    result_paths=models,\n",
    "    currency_list=[currency],\n",
    "    timestamp = val_start,\n",
    "    winner_path = None\n",
    ")"
   ]
  },
  {
   "cell_type": "code",
   "execution_count": null,
   "metadata": {},
   "outputs": [],
   "source": [
    "result = winner\n",
    "\n",
    "model = result['model']\n",
    "windows = result['window']\n",
    "minutes = result['minutes']\n",
    "step = result['step']\n",
    "profit = result['profit']\n",
    "print(f\"Minutes={minutes} Window={windows} Step={step} | {profit}\")\n",
    "print(f\"{model}\")\n"
   ]
  },
  {
   "cell_type": "code",
   "execution_count": null,
   "metadata": {},
   "outputs": [],
   "source": []
  },
  {
   "cell_type": "code",
   "execution_count": null,
   "metadata": {},
   "outputs": [],
   "source": []
  },
  {
   "cell_type": "code",
   "execution_count": null,
   "metadata": {},
   "outputs": [],
   "source": []
  },
  {
   "cell_type": "code",
   "execution_count": null,
   "metadata": {},
   "outputs": [],
   "source": [
    "import numpy as np\n",
    "import matplotlib.pyplot as plt\n",
    "def get_charts(stock_data):\n",
    "    fig = plt.figure()\n",
    "    ax = plt.axes()\n",
    "    x = stock_data\n",
    "    plt.plot(x, linewidth=1)\n",
    "    #plt.grid(b=True, color='aqua', alpha=0.3, linestyle='-.', linewidth=2)\n",
    "    plt.show()\n"
   ]
  },
  {
   "cell_type": "code",
   "execution_count": null,
   "metadata": {},
   "outputs": [],
   "source": []
  },
  {
   "cell_type": "code",
   "execution_count": null,
   "metadata": {},
   "outputs": [],
   "source": [
    "\n",
    "on_raw_data = lambda raw: print(raw)\n",
    "\n",
    "data_gen.rewind()\n",
    "\n",
    "first = data_gen.next()"
   ]
  },
  {
   "cell_type": "code",
   "execution_count": null,
   "metadata": {},
   "outputs": [],
   "source": [
    "agent_reference, back_reference, stock_reference = get_agent(minutes = minutes,\n",
    "                                win = windows,\n",
    "                                step = step,\n",
    "                                currency = currency,\n",
    "                                hot_load = hot_load,\n",
    "                                model = model,\n",
    "                                timestamp = int(first['timestamp']),\n",
    "                                simulate_on_price = True,\n",
    "                                verbose = False)\n",
    "prices = []\n",
    "agent_reference.on_closed_price = lambda price: prices.append(price)\n",
    "#agent.ohlc['open'].plot()"
   ]
  },
  {
   "cell_type": "code",
   "execution_count": null,
   "metadata": {
    "scrolled": true
   },
   "outputs": [],
   "source": [
    "data_gen.rewind()\n",
    "\n",
    "\n",
    "reference_list = []\n",
    "#data_count\n",
    "for i in tqdm(range(data_count)):\n",
    "    raw = data_gen.next()\n",
    "    price = raw[PRICE_KEY]\n",
    "    amount = raw[AMOUNT_KEY]\n",
    "    timestamp = raw[TIMESTAMP_KEY]\n",
    "    timestamp_pd = pd.to_datetime(timestamp, unit='s')\n",
    "    reference_list.append([timestamp_pd, price])\n"
   ]
  },
  {
   "cell_type": "code",
   "execution_count": null,
   "metadata": {},
   "outputs": [],
   "source": [
    "DATE = 'Date'\n",
    "df = pd.DataFrame(agent_reference.list, columns = [DATE, CLOSE])\n",
    "df = df.set_index(pd.DatetimeIndex(df[DATE]))"
   ]
  },
  {
   "cell_type": "code",
   "execution_count": null,
   "metadata": {
    "scrolled": true
   },
   "outputs": [],
   "source": [
    "time = df[CLOSE].resample(agent_reference.resample)\n",
    "ohlc = time.ohlc()\n",
    "print(\"All data reference\")\n",
    "#ohlc.plot()\n",
    "#ohlc"
   ]
  },
  {
   "cell_type": "code",
   "execution_count": null,
   "metadata": {},
   "outputs": [],
   "source": [
    "cache = CacheProvider([currency],  verbose = True)\n"
   ]
  },
  {
   "cell_type": "code",
   "execution_count": null,
   "metadata": {},
   "outputs": [],
   "source": [
    "online = cache.get_provider(minutes, windows, val_start = 1629507700, val_end = 1629538206)"
   ]
  },
  {
   "cell_type": "code",
   "execution_count": null,
   "metadata": {},
   "outputs": [],
   "source": [
    "cache = CacheProvider([currency],  verbose = True)\n",
    "\n",
    "online = cache.get_provider(minutes, windows, val_start = 1629507700, val_end = 1629538206)\n",
    "\n",
    "back, metric = eval_model(\n",
    "    model = model, \n",
    "    currency = currency, \n",
    "    step = step,\n",
    "    verbose = True, \n",
    "    provider = online,\n",
    "    hot_load_total = 100,\n",
    "    cache = cache\n",
    "    )\n",
    "\n",
    "back.report()"
   ]
  },
  {
   "cell_type": "code",
   "execution_count": null,
   "metadata": {
    "scrolled": true
   },
   "outputs": [],
   "source": [
    "agent_raw, back_raw, stock_raw = get_agent(minutes = minutes,\n",
    "                                win = windows,\n",
    "                                step = step,\n",
    "                                currency = currency,\n",
    "                                hot_load = hot_load,\n",
    "                                model = model,\n",
    "                                verbose = True,\n",
    "                                timestamp = int(first['timestamp']),\n",
    "                                simulate_on_price = True)\n",
    "prices = []"
   ]
  },
  {
   "cell_type": "code",
   "execution_count": null,
   "metadata": {},
   "outputs": [],
   "source": [
    "agent_raw.last_index"
   ]
  },
  {
   "cell_type": "code",
   "execution_count": null,
   "metadata": {},
   "outputs": [],
   "source": [
    "agent_raw.save_history = True\n",
    "stock_raw.verbose = True\n",
    "raw = data_gen.next()\n",
    "agent_raw.on_new_raw_data(raw)"
   ]
  },
  {
   "cell_type": "code",
   "execution_count": null,
   "metadata": {},
   "outputs": [],
   "source": [
    "agent_raw.last_index"
   ]
  },
  {
   "cell_type": "code",
   "execution_count": null,
   "metadata": {
    "scrolled": true
   },
   "outputs": [],
   "source": [
    "data_gen.rewind()\n",
    "agent_raw.save_history = True\n",
    "stock_raw.verbose = True\n",
    "\n",
    "init_raw_process(currency, minutes, int(first['timestamp']), agent_raw)\n",
    "\n",
    "#data_count\n",
    "for i in range(data_count):\n",
    "    raw = data_gen.next()\n",
    "    agent_raw.on_new_raw_data(raw)"
   ]
  },
  {
   "cell_type": "code",
   "execution_count": null,
   "metadata": {},
   "outputs": [],
   "source": []
  },
  {
   "cell_type": "code",
   "execution_count": null,
   "metadata": {},
   "outputs": [],
   "source": [
    "val_start = int(first['timestamp'])\n",
    "val_end = int(raw['timestamp'])\n",
    "\n",
    "start_string = pd.to_datetime(val_start, unit='s')\n",
    "end_string = pd.to_datetime(val_end, unit='s')\n",
    "\n",
    "print(f\"{start_string}({val_start}) -> {end_string}({val_end})\")"
   ]
  },
  {
   "cell_type": "code",
   "execution_count": null,
   "metadata": {},
   "outputs": [],
   "source": [
    "back_raw.on_down(back_raw.buy_price, back_raw.buy_price)\n",
    "back_raw.report()"
   ]
  },
  {
   "cell_type": "code",
   "execution_count": null,
   "metadata": {},
   "outputs": [],
   "source": [
    "agent_raw.ohlc[-50:][\"open\"].plot()\n",
    "#agent.ohlc[1:]"
   ]
  },
  {
   "cell_type": "code",
   "execution_count": null,
   "metadata": {},
   "outputs": [],
   "source": []
  },
  {
   "cell_type": "code",
   "execution_count": null,
   "metadata": {},
   "outputs": [],
   "source": [
    "x_list, price_list, time_list = online.load_val_data(currency)"
   ]
  },
  {
   "cell_type": "code",
   "execution_count": null,
   "metadata": {},
   "outputs": [],
   "source": [
    "get_charts(price_list)\n",
    "print(len(price_list))"
   ]
  },
  {
   "cell_type": "code",
   "execution_count": null,
   "metadata": {},
   "outputs": [],
   "source": [
    "agent_array, back_array, stock_array = get_agent(minutes = minutes,\n",
    "                                win = windows,\n",
    "                                step = step,\n",
    "                                currency = currency,\n",
    "                                hot_load = hot_load,\n",
    "                                model = model,\n",
    "                                timestamp = int(first['timestamp']),\n",
    "                                simulate_on_price = True,\n",
    "                                verbose = False)"
   ]
  },
  {
   "cell_type": "code",
   "execution_count": null,
   "metadata": {
    "scrolled": true
   },
   "outputs": [],
   "source": [
    "agent_array.save_history = True\n",
    "stock_array.verbose = True\n",
    "for idx in range(len(price_list)):\n",
    "    price = price_list[idx]\n",
    "    time = time_list[idx]\n",
    "    order = [[f\"{price}\", f\"{price}\"]]\n",
    "    amount = 0.0\n",
    "    agent_array.process_data(price, amount, time, order, order)"
   ]
  },
  {
   "cell_type": "code",
   "execution_count": null,
   "metadata": {},
   "outputs": [],
   "source": [
    "back_array.on_down(back_array.buy_price, back_array.buy_price)\n",
    "back_array.report()"
   ]
  },
  {
   "cell_type": "code",
   "execution_count": null,
   "metadata": {},
   "outputs": [],
   "source": []
  },
  {
   "cell_type": "code",
   "execution_count": null,
   "metadata": {},
   "outputs": [],
   "source": [
    "def eval_step_(model, train_set, step, provider, verbose = False):\n",
    "\n",
    "    valX, valY, times = provider.load_val_data(train_set)\n",
    "    \n",
    "    x, y, closed_prices = get_sequencial_data(valX, valY, step)\n",
    "    \n",
    "    history = []\n",
    "    \n",
    "    preds = model.predict(np.array(x))\n",
    "    \n",
    "    #for idx in range(len(x)):\n",
    "    #    print(f\"{times[idx]} -> {closed_prices[idx]} {y[idx]} \")\n",
    "\n",
    "    metrics = {}\n",
    "    metrics[\"recall\"] = recall_score(y, preds)\n",
    "    metrics[\"precision\"] = precision_score(y, preds)\n",
    "    metrics[\"f1\"] = f1_score(y, preds)\n",
    "    metrics[\"accuracy\"] = accuracy_score(y, preds)\n",
    "    metrics[\"roc_auc\"] = roc_auc_score(y, preds)\n",
    "    \n",
    "    back = BackTest(value = 100, \n",
    "                    verbose = True, \n",
    "                    sell_on_profit = True,\n",
    "                    pending_sell_steps = step)\n",
    "    \n",
    "    back = backtest_model(model, valX, valY, back)\n",
    "    \n",
    "    for idx in range(len(times)):\n",
    "        timestamp = times[idx]\n",
    "        price = closed_prices[idx]\n",
    "        y = model.predict([valX[idx]])\n",
    "        is_up = False\n",
    "        if (y[0] > 0.5):\n",
    "            is_up = True\n",
    "        history.append((timestamp, price, x, is_up))\n",
    "    \n",
    "    get_charts(valY)\n",
    "\n",
    "    \n",
    "    return back, metrics, history\n",
    "    "
   ]
  },
  {
   "cell_type": "code",
   "execution_count": null,
   "metadata": {
    "scrolled": true
   },
   "outputs": [],
   "source": [
    "back_eval, metr, history = eval_step_(model, currency, step, online, verbose = False)\n",
    "back_eval.on_down(back_eval.buy_price, back_eval.buy_price)\n",
    "back_eval.report()"
   ]
  },
  {
   "cell_type": "code",
   "execution_count": null,
   "metadata": {},
   "outputs": [],
   "source": [
    "for data in history:\n",
    "    print(f\"{data[0]} - {data[1]} - {data[3]}\")"
   ]
  },
  {
   "cell_type": "code",
   "execution_count": null,
   "metadata": {},
   "outputs": [],
   "source": [
    "print(metrics)\n"
   ]
  },
  {
   "cell_type": "code",
   "execution_count": null,
   "metadata": {},
   "outputs": [],
   "source": [
    "back_raw.report()\n",
    "#-1.78465% -> 98.21535030676218"
   ]
  },
  {
   "cell_type": "code",
   "execution_count": null,
   "metadata": {},
   "outputs": [],
   "source": [
    "back_array.report()\n",
    "#-1.89717% -> 98.10282664807247"
   ]
  },
  {
   "cell_type": "code",
   "execution_count": null,
   "metadata": {},
   "outputs": [],
   "source": []
  },
  {
   "cell_type": "code",
   "execution_count": null,
   "metadata": {},
   "outputs": [],
   "source": []
  },
  {
   "cell_type": "code",
   "execution_count": null,
   "metadata": {},
   "outputs": [],
   "source": []
  }
 ],
 "metadata": {
  "kernelspec": {
   "display_name": "Python 3",
   "language": "python",
   "name": "python3"
  },
  "language_info": {
   "codemirror_mode": {
    "name": "ipython",
    "version": 3
   },
   "file_extension": ".py",
   "mimetype": "text/x-python",
   "name": "python",
   "nbconvert_exporter": "python",
   "pygments_lexer": "ipython3",
   "version": "3.9.5"
  }
 },
 "nbformat": 4,
 "nbformat_minor": 4
}
