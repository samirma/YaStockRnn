{
 "cells": [
  {
   "cell_type": "code",
   "execution_count": 1,
   "metadata": {
    "scrolled": true
   },
   "outputs": [],
   "source": [
    "import pandas as pd\n",
    "import data_util\n",
    "from tqdm import tqdm_notebook as tqdm\n",
    "from data_generator import DataGenerator\n",
    "from state_util import StateUtil\n",
    "from tec_an import TecAn\n",
    "from data_agent import *\n",
    "import numpy as np\n",
    "from data_util import *\n",
    "import tensorflow as tf\n",
    "from sklearn_model_hyper import *\n",
    "import pandas as pd\n",
    "from stock_agent import *\n",
    "from backtest import *\n",
    "from joblib import dump, load\n",
    "from datetime import datetime, timedelta\n",
    "from tec_an import *\n",
    "from bitstamp import *\n",
    "from process_live_trade import *\n",
    "from model_winner_select import *\n",
    "\n",
    "base_dir = \"data/\""
   ]
  },
  {
   "cell_type": "code",
   "execution_count": 113,
   "metadata": {},
   "outputs": [],
   "source": [
    "currency = \"btcusd\"\n",
    "\n",
    "full_data = base_dir + \"backtest/\"\n",
    "full_data = base_dir + \"4jul21/\"\n",
    "#full_data = base_dir + \"btcusd/\"\n",
    "data_gen = DataGenerator(random = False, base_dir = full_data)\n",
    "data_gen.rewind()\n",
    "data_count = (data_gen.steps - 100)\n",
    "#data_count = 200000\n",
    "raw = data_gen.next()\n",
    "\n",
    "minute = 5\n",
    "\n",
    "hot_load = True"
   ]
  },
  {
   "cell_type": "code",
   "execution_count": 114,
   "metadata": {},
   "outputs": [],
   "source": [
    "path = \"model/\"\n",
    "files = os.listdir(path)\n",
    "models = []\n",
    "for file in files:\n",
    "    models.append(f\"{path}{file}\")\n",
    "\n",
    "models = ['model/rand']\n",
    "#models = ['model/quadra']\n",
    "    \n",
    "timestamp = int(raw['timestamp'])"
   ]
  },
  {
   "cell_type": "code",
   "execution_count": 115,
   "metadata": {
    "scrolled": false
   },
   "outputs": [
    {
     "name": "stderr",
     "output_type": "stream",
     "text": [
      "\r",
      "  0%|          | 0/119 [00:00<?, ?it/s]"
     ]
    },
    {
     "name": "stdout",
     "output_type": "stream",
     "text": [
      "model/rand - 200\n",
      "Pre selected: 119\n",
      "https://www.bitstamp.net/api/v2/ohlc/btcusd/?&currency_pair=btcusd&step=300&limit=1000&start=1625288981\n"
     ]
    },
    {
     "data": {
      "application/vnd.jupyter.widget-view+json": {
       "model_id": "8e2923fb33c148acb6f0444247a22284",
       "version_major": 2,
       "version_minor": 0
      },
      "text/plain": [
       "  0%|          | 0/501 [00:00<?, ?it/s]"
      ]
     },
     "metadata": {},
     "output_type": "display_data"
    },
    {
     "name": "stderr",
     "output_type": "stream",
     "text": [
      "\r",
      "  2%|▏         | 2/119 [00:19<19:26,  9.97s/it]"
     ]
    },
    {
     "name": "stdout",
     "output_type": "stream",
     "text": [
      "https://www.bitstamp.net/api/v2/ohlc/btcusd/?&currency_pair=btcusd&step=300&limit=1000&start=1625288981\n"
     ]
    },
    {
     "data": {
      "application/vnd.jupyter.widget-view+json": {
       "model_id": "1b4cd38dda3e4669b3bc10f14a729234",
       "version_major": 2,
       "version_minor": 0
      },
      "text/plain": [
       "  0%|          | 0/501 [00:00<?, ?it/s]"
      ]
     },
     "metadata": {},
     "output_type": "display_data"
    },
    {
     "name": "stderr",
     "output_type": "stream",
     "text": [
      " 13%|█▎        | 15/119 [00:45<03:49,  2.21s/it]"
     ]
    },
    {
     "name": "stdout",
     "output_type": "stream",
     "text": [
      "https://www.bitstamp.net/api/v2/ohlc/btcusd/?&currency_pair=btcusd&step=300&limit=1000&start=1625288981\n"
     ]
    },
    {
     "data": {
      "application/vnd.jupyter.widget-view+json": {
       "model_id": "52f1648b622449d4a1cd076a8b0397cd",
       "version_major": 2,
       "version_minor": 0
      },
      "text/plain": [
       "  0%|          | 0/501 [00:00<?, ?it/s]"
      ]
     },
     "metadata": {},
     "output_type": "display_data"
    },
    {
     "name": "stderr",
     "output_type": "stream",
     "text": [
      " 19%|█▉        | 23/119 [01:20<05:09,  3.22s/it]"
     ]
    },
    {
     "name": "stdout",
     "output_type": "stream",
     "text": [
      "https://www.bitstamp.net/api/v2/ohlc/btcusd/?&currency_pair=btcusd&step=300&limit=1000&start=1625288981\n"
     ]
    },
    {
     "data": {
      "application/vnd.jupyter.widget-view+json": {
       "model_id": "c197e52a02d14cc98dbf6ce58c2685f8",
       "version_major": 2,
       "version_minor": 0
      },
      "text/plain": [
       "  0%|          | 0/501 [00:00<?, ?it/s]"
      ]
     },
     "metadata": {},
     "output_type": "display_data"
    },
    {
     "name": "stderr",
     "output_type": "stream",
     "text": [
      " 33%|███▎      | 39/119 [01:44<02:29,  1.87s/it]"
     ]
    },
    {
     "name": "stdout",
     "output_type": "stream",
     "text": [
      "https://www.bitstamp.net/api/v2/ohlc/btcusd/?&currency_pair=btcusd&step=300&limit=1000&start=1625288981\n"
     ]
    },
    {
     "data": {
      "application/vnd.jupyter.widget-view+json": {
       "model_id": "8f62b5161041470fa15f7d17dec10e63",
       "version_major": 2,
       "version_minor": 0
      },
      "text/plain": [
       "  0%|          | 0/501 [00:00<?, ?it/s]"
      ]
     },
     "metadata": {},
     "output_type": "display_data"
    },
    {
     "name": "stderr",
     "output_type": "stream",
     "text": [
      "100%|██████████| 119/119 [04:46<00:00,  2.41s/it]"
     ]
    },
    {
     "name": "stdout",
     "output_type": "stream",
     "text": [
      "Selected: 31\n",
      "RandomForestClassifier(bootstrap=False, criterion='entropy', max_features=0.1,\n",
      "                       random_state=42)\n",
      "btcusd -> 103.90190764880748 | 64 - 26\n",
      "{'recall': 0.23856081345326555, 'precision': 0.27892089620484684, 'f1': 0.2571669477234402, 'accuracy': 0.5922240222170794}\n",
      "\n",
      "Pipeline(steps=[('normalizer', Normalizer()),\n",
      "                ('pipeline',\n",
      "                 Pipeline(steps=[('s',\n",
      "                                  RFE(estimator=ExtraTreesClassifier(max_features=0.3,\n",
      "                                                                     random_state=42),\n",
      "                                      step=0.7500000000000001)),\n",
      "                                 ('m',\n",
      "                                  RandomForestClassifier(bootstrap=False,\n",
      "                                                         criterion='entropy',\n",
      "                                                         max_features=0.1,\n",
      "                                                         random_state=42))]))])\n",
      "btcusd -> 103.93919733105005 | 54 - 23\n",
      "{'recall': 0.4507910968087959, 'precision': 0.46772398441847524, 'f1': 0.45910146114980205, 'accuracy': 0.5416570238370747}\n",
      "\n",
      "Pipeline(steps=[('standardscaler', StandardScaler()),\n",
      "                ('pipeline',\n",
      "                 Pipeline(steps=[('s',\n",
      "                                  RFE(estimator=ExtraTreesClassifier(max_features=0.3,\n",
      "                                                                     random_state=42),\n",
      "                                      step=0.7500000000000001)),\n",
      "                                 ('m',\n",
      "                                  RandomForestClassifier(bootstrap=False,\n",
      "                                                         criterion='entropy',\n",
      "                                                         max_features=0.1,\n",
      "                                                         random_state=42))]))])\n",
      "btcusd -> 104.83857743704266 | 50 - 10\n",
      "{'recall': 0.28901055924912006, 'precision': 0.2768827276133383, 'f1': 0.2828166858017604, 'accuracy': 0.5663040962740107}\n",
      "\n",
      "Winner for ['btcusd']\n",
      "4.83858% -> 104.83857743704266\n",
      "Positive: 50 Negative: 10\n",
      "Minutes=5 Window=30 Step=1 | 104.65924593659761 {'btcusd': 0.03456054825041088, 'ethusd': 0.010107362565501583, 'ltcusd': 0.0033047589689704526, 'ltcbtc': 0.05238573469914406}\n",
      "Pipeline(steps=[('standardscaler', StandardScaler()),\n",
      "                ('pipeline',\n",
      "                 Pipeline(steps=[('s',\n",
      "                                  RFE(estimator=ExtraTreesClassifier(max_features=0.3,\n",
      "                                                                     random_state=42),\n",
      "                                      step=0.7500000000000001)),\n",
      "                                 ('m',\n",
      "                                  RandomForestClassifier(bootstrap=False,\n",
      "                                                         criterion='entropy',\n",
      "                                                         max_features=0.1,\n",
      "                                                         random_state=42))]))])\n",
      "\n"
     ]
    },
    {
     "name": "stderr",
     "output_type": "stream",
     "text": [
      "\n"
     ]
    }
   ],
   "source": [
    "winner = get_best_model(\n",
    "    minutes_list=[minute],\n",
    "    result_paths=models,\n",
    "    currency_list=[currency],\n",
    "    timestamp = timestamp,\n",
    "    winner_path = None\n",
    ")"
   ]
  },
  {
   "cell_type": "code",
   "execution_count": 116,
   "metadata": {},
   "outputs": [
    {
     "name": "stdout",
     "output_type": "stream",
     "text": [
      "Minutes=5 Window=30 Step=1 | 104.65924593659761\n",
      "Pipeline(steps=[('standardscaler', StandardScaler()),\n",
      "                ('pipeline',\n",
      "                 Pipeline(steps=[('s',\n",
      "                                  RFE(estimator=ExtraTreesClassifier(max_features=0.3,\n",
      "                                                                     random_state=42),\n",
      "                                      step=0.7500000000000001)),\n",
      "                                 ('m',\n",
      "                                  RandomForestClassifier(bootstrap=False,\n",
      "                                                         criterion='entropy',\n",
      "                                                         max_features=0.1,\n",
      "                                                         random_state=42))]))])\n"
     ]
    }
   ],
   "source": [
    "result = winner\n",
    "if (winner == None):\n",
    "    result = results[-1]\n",
    "model = result['model']\n",
    "window = result['window']\n",
    "minutes = result['minutes']\n",
    "step = result['step']\n",
    "profit = result['profit']\n",
    "print(f\"Minutes={minutes} Window={window} Step={step} | {profit}\")\n",
    "print(f\"{model}\")\n"
   ]
  },
  {
   "cell_type": "code",
   "execution_count": null,
   "metadata": {},
   "outputs": [],
   "source": []
  },
  {
   "cell_type": "code",
   "execution_count": 6,
   "metadata": {},
   "outputs": [],
   "source": [
    "import numpy as np\n",
    "import matplotlib.pyplot as plt\n",
    "def get_charts(stock_data):\n",
    "    fig = plt.figure()\n",
    "    ax = plt.axes()\n",
    "    x = stock_data\n",
    "    plt.plot(x, linewidth=1)\n",
    "    #plt.grid(b=True, color='aqua', alpha=0.3, linestyle='-.', linewidth=2)\n",
    "    plt.show()\n"
   ]
  },
  {
   "cell_type": "code",
   "execution_count": 7,
   "metadata": {},
   "outputs": [],
   "source": [
    "def get_online_data(minutes,\n",
    "                    val_start,\n",
    "                    val_end,\n",
    "                    source_data_generator, \n",
    "                    load_from_disk, file_prefix = \"\"):\n",
    "    \n",
    "    online = OnLineDataProvider(\n",
    "                 source_data_generator = source_data_generator,\n",
    "                 minutes = minutes,\n",
    "                 train_keys = [],\n",
    "                 train_limit = 1000,\n",
    "                 val_limit = 1000,\n",
    "                 val_keys = [currency],\n",
    "                 val_start = val_start,\n",
    "                 val_end = val_end,\n",
    "                 train_start_list = val_start\n",
    "    )\n",
    "\n",
    "    online_path = f'data/online{file_prefix}_{minutes}'\n",
    "    \n",
    "    online.load_val_cache([currency], val_start, val_end)\n",
    "    \n",
    "    return online"
   ]
  },
  {
   "cell_type": "code",
   "execution_count": 8,
   "metadata": {},
   "outputs": [],
   "source": [
    "\n",
    "on_raw_data = lambda raw: print(raw)\n",
    "\n",
    "data_gen.rewind()\n",
    "\n",
    "first = data_gen.next()"
   ]
  },
  {
   "cell_type": "code",
   "execution_count": 9,
   "metadata": {},
   "outputs": [
    {
     "name": "stdout",
     "output_type": "stream",
     "text": [
      "BackTest (pending_sell_steps=2 sell_on_profit=True value=100)\n",
      "https://www.bitstamp.net/api/v2/ohlc/btcusd/?&currency_pair=btcusd&step=1800&limit=1000&start=1624538981\n"
     ]
    },
    {
     "data": {
      "application/vnd.jupyter.widget-view+json": {
       "model_id": "67ac50be2f1e4b44b7ccaa398458f1e4",
       "version_major": 2,
       "version_minor": 0
      },
      "text/plain": [
       "  0%|          | 0/501 [00:00<?, ?it/s]"
      ]
     },
     "metadata": {},
     "output_type": "display_data"
    },
    {
     "name": "stdout",
     "output_type": "stream",
     "text": [
      "###### Past report(501): 2021-06-24 12:30:00(1624537800) - 2021-07-04 22:30:00(1625437800) ######\n",
      "Metric: {'recall': 0.2676056338028169, 'precision': 0.6440677966101694, 'f1': 0.37810945273631835, 'accuracy': 0.500998003992016}\n",
      "16.98398% -> 116.98398083744523\n",
      "Positive: 41 Negative: 9\n",
      "###### - ######\n"
     ]
    }
   ],
   "source": [
    "agent_reference, back_reference, stock_reference = get_agent(minutes = minutes,\n",
    "                                win = window,\n",
    "                                step = step,\n",
    "                                currency = currency,\n",
    "                                hot_load = hot_load,\n",
    "                                model = model,\n",
    "                                timestamp = int(first['timestamp']),\n",
    "                                simulate_on_price = True)\n",
    "prices = []\n",
    "agent_reference.on_closed_price = lambda price: prices.append(price)\n",
    "#agent.ohlc['open'].plot()"
   ]
  },
  {
   "cell_type": "code",
   "execution_count": 10,
   "metadata": {
    "scrolled": true
   },
   "outputs": [
    {
     "name": "stderr",
     "output_type": "stream",
     "text": [
      "100%|██████████| 301794/301794 [02:21<00:00, 2137.92it/s]\n"
     ]
    }
   ],
   "source": [
    "data_gen.rewind()\n",
    "\n",
    "\n",
    "reference_list = []\n",
    "#data_count\n",
    "for i in tqdm(range(data_count)):\n",
    "    raw = data_gen.next()\n",
    "    price = raw[PRICE_KEY]\n",
    "    amount = raw[AMOUNT_KEY]\n",
    "    timestamp = raw[TIMESTAMP_KEY]\n",
    "    timestamp_pd = pd.to_datetime(timestamp, unit='s')\n",
    "    reference_list.append([timestamp_pd, price])\n"
   ]
  },
  {
   "cell_type": "code",
   "execution_count": 11,
   "metadata": {},
   "outputs": [],
   "source": [
    "DATE = 'Date'\n",
    "df = pd.DataFrame(agent_reference.list, columns = [DATE, CLOSE])\n",
    "df = df.set_index(pd.DatetimeIndex(df[DATE]))"
   ]
  },
  {
   "cell_type": "code",
   "execution_count": 12,
   "metadata": {},
   "outputs": [
    {
     "name": "stdout",
     "output_type": "stream",
     "text": [
      "All data reference\n"
     ]
    },
    {
     "data": {
      "text/html": [
       "<div>\n",
       "<style scoped>\n",
       "    .dataframe tbody tr th:only-of-type {\n",
       "        vertical-align: middle;\n",
       "    }\n",
       "\n",
       "    .dataframe tbody tr th {\n",
       "        vertical-align: top;\n",
       "    }\n",
       "\n",
       "    .dataframe thead th {\n",
       "        text-align: right;\n",
       "    }\n",
       "</style>\n",
       "<table border=\"1\" class=\"dataframe\">\n",
       "  <thead>\n",
       "    <tr style=\"text-align: right;\">\n",
       "      <th></th>\n",
       "      <th>open</th>\n",
       "      <th>high</th>\n",
       "      <th>low</th>\n",
       "      <th>close</th>\n",
       "    </tr>\n",
       "    <tr>\n",
       "      <th>Date</th>\n",
       "      <th></th>\n",
       "      <th></th>\n",
       "      <th></th>\n",
       "      <th></th>\n",
       "    </tr>\n",
       "  </thead>\n",
       "  <tbody>\n",
       "    <tr>\n",
       "      <th>2021-06-24 12:30:00</th>\n",
       "      <td>34024.10</td>\n",
       "      <td>34024.10</td>\n",
       "      <td>34024.10</td>\n",
       "      <td>34024.10</td>\n",
       "    </tr>\n",
       "    <tr>\n",
       "      <th>2021-06-24 13:00:00</th>\n",
       "      <td>34092.88</td>\n",
       "      <td>34092.88</td>\n",
       "      <td>34092.88</td>\n",
       "      <td>34092.88</td>\n",
       "    </tr>\n",
       "    <tr>\n",
       "      <th>2021-06-24 13:30:00</th>\n",
       "      <td>33933.13</td>\n",
       "      <td>33933.13</td>\n",
       "      <td>33933.13</td>\n",
       "      <td>33933.13</td>\n",
       "    </tr>\n",
       "    <tr>\n",
       "      <th>2021-06-24 14:00:00</th>\n",
       "      <td>34071.71</td>\n",
       "      <td>34071.71</td>\n",
       "      <td>34071.71</td>\n",
       "      <td>34071.71</td>\n",
       "    </tr>\n",
       "    <tr>\n",
       "      <th>2021-06-24 14:30:00</th>\n",
       "      <td>34009.04</td>\n",
       "      <td>34009.04</td>\n",
       "      <td>34009.04</td>\n",
       "      <td>34009.04</td>\n",
       "    </tr>\n",
       "    <tr>\n",
       "      <th>...</th>\n",
       "      <td>...</td>\n",
       "      <td>...</td>\n",
       "      <td>...</td>\n",
       "      <td>...</td>\n",
       "    </tr>\n",
       "    <tr>\n",
       "      <th>2021-07-04 20:30:00</th>\n",
       "      <td>35531.38</td>\n",
       "      <td>35531.38</td>\n",
       "      <td>35531.38</td>\n",
       "      <td>35531.38</td>\n",
       "    </tr>\n",
       "    <tr>\n",
       "      <th>2021-07-04 21:00:00</th>\n",
       "      <td>35551.28</td>\n",
       "      <td>35551.28</td>\n",
       "      <td>35551.28</td>\n",
       "      <td>35551.28</td>\n",
       "    </tr>\n",
       "    <tr>\n",
       "      <th>2021-07-04 21:30:00</th>\n",
       "      <td>35589.59</td>\n",
       "      <td>35589.59</td>\n",
       "      <td>35589.59</td>\n",
       "      <td>35589.59</td>\n",
       "    </tr>\n",
       "    <tr>\n",
       "      <th>2021-07-04 22:00:00</th>\n",
       "      <td>35884.52</td>\n",
       "      <td>35884.52</td>\n",
       "      <td>35884.52</td>\n",
       "      <td>35884.52</td>\n",
       "    </tr>\n",
       "    <tr>\n",
       "      <th>2021-07-04 22:30:00</th>\n",
       "      <td>35655.00</td>\n",
       "      <td>35655.00</td>\n",
       "      <td>35655.00</td>\n",
       "      <td>35655.00</td>\n",
       "    </tr>\n",
       "  </tbody>\n",
       "</table>\n",
       "<p>501 rows × 4 columns</p>\n",
       "</div>"
      ],
      "text/plain": [
       "                         open      high       low     close\n",
       "Date                                                       \n",
       "2021-06-24 12:30:00  34024.10  34024.10  34024.10  34024.10\n",
       "2021-06-24 13:00:00  34092.88  34092.88  34092.88  34092.88\n",
       "2021-06-24 13:30:00  33933.13  33933.13  33933.13  33933.13\n",
       "2021-06-24 14:00:00  34071.71  34071.71  34071.71  34071.71\n",
       "2021-06-24 14:30:00  34009.04  34009.04  34009.04  34009.04\n",
       "...                       ...       ...       ...       ...\n",
       "2021-07-04 20:30:00  35531.38  35531.38  35531.38  35531.38\n",
       "2021-07-04 21:00:00  35551.28  35551.28  35551.28  35551.28\n",
       "2021-07-04 21:30:00  35589.59  35589.59  35589.59  35589.59\n",
       "2021-07-04 22:00:00  35884.52  35884.52  35884.52  35884.52\n",
       "2021-07-04 22:30:00  35655.00  35655.00  35655.00  35655.00\n",
       "\n",
       "[501 rows x 4 columns]"
      ]
     },
     "execution_count": 12,
     "metadata": {},
     "output_type": "execute_result"
    }
   ],
   "source": [
    "time = df[CLOSE].resample(agent_reference.resample)\n",
    "ohlc = time.ohlc()\n",
    "print(\"All data reference\")\n",
    "#ohlc.plot()\n",
    "ohlc"
   ]
  },
  {
   "cell_type": "code",
   "execution_count": 13,
   "metadata": {},
   "outputs": [
    {
     "data": {
      "text/plain": [
       "[Timestamp('2021-07-04 22:49:41'), 35330.0]"
      ]
     },
     "execution_count": 13,
     "metadata": {},
     "output_type": "execute_result"
    }
   ],
   "source": [
    "reference_list[0]"
   ]
  },
  {
   "cell_type": "code",
   "execution_count": 14,
   "metadata": {},
   "outputs": [
    {
     "name": "stdout",
     "output_type": "stream",
     "text": [
      "BackTest (pending_sell_steps=2 sell_on_profit=True value=100)\n",
      "https://www.bitstamp.net/api/v2/ohlc/btcusd/?&currency_pair=btcusd&step=1800&limit=1000&start=1624538981\n"
     ]
    },
    {
     "data": {
      "application/vnd.jupyter.widget-view+json": {
       "model_id": "04e62a87fab543359346acff0606fec1",
       "version_major": 2,
       "version_minor": 0
      },
      "text/plain": [
       "  0%|          | 0/501 [00:00<?, ?it/s]"
      ]
     },
     "metadata": {},
     "output_type": "display_data"
    },
    {
     "name": "stdout",
     "output_type": "stream",
     "text": [
      "###### Past report(501): 2021-06-24 12:30:00(1624537800) - 2021-07-04 22:30:00(1625437800) ######\n",
      "Metric: {'recall': 0.2676056338028169, 'precision': 0.6440677966101694, 'f1': 0.37810945273631835, 'accuracy': 0.500998003992016}\n",
      "16.98398% -> 116.98398083744523\n",
      "Positive: 41 Negative: 9\n",
      "###### - ######\n"
     ]
    }
   ],
   "source": [
    "agent_raw, back_raw, stock_raw = get_agent(minutes = minutes,\n",
    "                                win = window,\n",
    "                                step = step,\n",
    "                                currency = currency,\n",
    "                                hot_load = hot_load,\n",
    "                                model = model,\n",
    "                                timestamp = int(first['timestamp']),\n",
    "                                simulate_on_price = True)\n",
    "prices = []"
   ]
  },
  {
   "cell_type": "code",
   "execution_count": 15,
   "metadata": {
    "scrolled": true
   },
   "outputs": [
    {
     "name": "stdout",
     "output_type": "stream",
     "text": [
      "2021-08-16 20:45:18.202730 ModelAgent(35340.23): 2021-07-04 23:00:04(1625439604) DOWN\n",
      "2021-08-16 20:45:20.338323 ModelAgent(35415.34): 2021-07-04 23:30:08(1625441408) DOWN\n",
      "2021-08-16 20:45:22.184521 ModelAgent(35247.7): 2021-07-05 00:00:17(1625443217) DOWN\n",
      "2021-08-16 20:45:24.548365 ModelAgent(34922.82): 2021-07-05 00:30:08(1625445008) UP\n",
      "2021-08-16 20:45:24.548535 BackTest: Bought: 34922.82\n",
      "2021-08-16 20:45:26.527390 ModelAgent(34898.82): 2021-07-05 01:00:40(1625446840) UP\n",
      "2021-08-16 20:45:28.492239 ModelAgent(34639.91): 2021-07-05 01:30:15(1625448615) UP\n",
      "2021-08-16 20:45:32.705854 ModelAgent(34560.8): 2021-07-05 02:00:08(1625450408) UP\n",
      "2021-08-16 20:45:38.025854 ModelAgent(34477.16): 2021-07-05 02:30:40(1625452240) UP\n",
      "2021-08-16 20:45:42.659797 ModelAgent(34430.21): 2021-07-05 03:00:02(1625454002) UP\n",
      "2021-08-16 20:45:45.258995 ModelAgent(34426.56): 2021-07-05 03:30:06(1625455806) UP\n",
      "2021-08-16 20:45:48.312196 ModelAgent(34363.72): 2021-07-05 04:00:01(1625457601) UP\n",
      "2021-08-16 20:45:51.570434 ModelAgent(34245.31): 2021-07-05 04:30:23(1625459423) UP\n",
      "2021-08-16 20:45:54.515078 ModelAgent(34199.5): 2021-07-05 05:00:01(1625461201) UP\n",
      "2021-08-16 20:45:57.584509 ModelAgent(34112.89): 2021-07-05 05:30:01(1625463001) UP\n",
      "2021-08-16 20:46:01.695546 ModelAgent(34344.29): 2021-07-05 06:00:17(1625464817) UP\n",
      "2021-08-16 20:46:07.430513 ModelAgent(34299.57): 2021-07-05 06:30:30(1625466630) DOWN\n",
      "2021-08-16 20:46:07.430702 BackTest: SOLD >>>> Result: LOSS -1.7846 total: 98.21535030676218\n",
      "2021-08-16 20:46:12.159479 ModelAgent(34295.01): 2021-07-05 07:00:03(1625468403) UP\n",
      "2021-08-16 20:46:12.159624 BackTest: Bought: 34295.01\n",
      "2021-08-16 20:46:17.569722 ModelAgent(34154.96): 2021-07-05 07:30:02(1625470202) UP\n",
      "2021-08-16 20:46:22.134656 ModelAgent(34269.56): 2021-07-05 08:00:01(1625472001) UP\n",
      "2021-08-16 20:46:27.690617 ModelAgent(34174.91): 2021-07-05 08:30:11(1625473811) UP\n"
     ]
    }
   ],
   "source": [
    "data_gen.rewind()\n",
    "agent_raw.save_history = True\n",
    "#data_count\n",
    "for i in range(data_count):\n",
    "    raw = data_gen.next()\n",
    "    agent_raw.on_new_raw_data(raw)"
   ]
  },
  {
   "cell_type": "code",
   "execution_count": null,
   "metadata": {},
   "outputs": [],
   "source": []
  },
  {
   "cell_type": "code",
   "execution_count": 16,
   "metadata": {},
   "outputs": [
    {
     "name": "stdout",
     "output_type": "stream",
     "text": [
      "2021-07-04 22:49:41(1625438981) -> 2021-07-05 08:50:02(1625475002)\n"
     ]
    }
   ],
   "source": [
    "val_start = int(first['timestamp'])\n",
    "val_end = int(raw['timestamp'])\n",
    "\n",
    "start_string = pd.to_datetime(val_start, unit='s')\n",
    "end_string = pd.to_datetime(val_end, unit='s')\n",
    "\n",
    "print(f\"{start_string}({val_start}) -> {end_string}({val_end})\")"
   ]
  },
  {
   "cell_type": "code",
   "execution_count": 17,
   "metadata": {},
   "outputs": [
    {
     "name": "stdout",
     "output_type": "stream",
     "text": [
      "2021-08-16 20:46:31.070933 BackTest: SOLD >>>> Result: LOSS 0.0 total: 98.21535030676218\n",
      "-1.78465% -> 98.21535030676218\n",
      "Positive: 0 Negative: 2\n"
     ]
    }
   ],
   "source": [
    "back_raw.on_down(back_raw.buy_price, back_raw.buy_price)\n",
    "back_raw.report()"
   ]
  },
  {
   "cell_type": "code",
   "execution_count": 18,
   "metadata": {},
   "outputs": [
    {
     "data": {
      "text/plain": [
       "<AxesSubplot:xlabel='Date'>"
      ]
     },
     "execution_count": 18,
     "metadata": {},
     "output_type": "execute_result"
    },
    {
     "data": {
      "image/png": "[encoded data removed]",
      "text/plain": [
       "<Figure size 432x288 with 1 Axes>"
      ]
     },
     "metadata": {
      "needs_background": "light"
     },
     "output_type": "display_data"
    }
   ],
   "source": [
    "agent_raw.ohlc[-50:][\"open\"].plot()\n",
    "#agent.ohlc[1:]"
   ]
  },
  {
   "cell_type": "code",
   "execution_count": 19,
   "metadata": {},
   "outputs": [],
   "source": [
    "tec = TecAn(windows = window, windows_limit = 100)\n",
    "source_data_generator = SourceDataGenerator(tec = tec)"
   ]
  },
  {
   "cell_type": "code",
   "execution_count": 99,
   "metadata": {},
   "outputs": [
    {
     "name": "stdout",
     "output_type": "stream",
     "text": [
      "https://www.bitstamp.net/api/v2/ohlc/btcusd/?&currency_pair=btcusd&step=300&limit=1000&start=1625438981\n"
     ]
    },
    {
     "data": {
      "application/vnd.jupyter.widget-view+json": {
       "model_id": "71a861c32f7f4fb4b80b75e0dc50d9ab",
       "version_major": 2,
       "version_minor": 0
      },
      "text/plain": [
       "  0%|          | 0/123 [00:00<?, ?it/s]"
      ]
     },
     "metadata": {},
     "output_type": "display_data"
    }
   ],
   "source": [
    "online = get_online_data(minutes = 5, \n",
    "                 source_data_generator = source_data_generator, \n",
    "                 load_from_disk = True, \n",
    "                 file_prefix = \"____\",\n",
    "                 val_start = val_start,\n",
    "                 val_end = val_end)\n"
   ]
  },
  {
   "cell_type": "code",
   "execution_count": 100,
   "metadata": {},
   "outputs": [
    {
     "name": "stdout",
     "output_type": "stream",
     "text": [
      "https://www.bitstamp.net/api/v2/ohlc/btcusd/?&currency_pair=btcusd&step=300&limit=1000&start=1629215891\n"
     ]
    },
    {
     "data": {
      "application/vnd.jupyter.widget-view+json": {
       "model_id": "c2912768de994e9795e44460ee75c269",
       "version_major": 2,
       "version_minor": 0
      },
      "text/plain": [
       "  0%|          | 0/47 [00:00<?, ?it/s]"
      ]
     },
     "metadata": {},
     "output_type": "display_data"
    }
   ],
   "source": [
    "online.load_val_cache([currency],1629215891,  1629229205)"
   ]
  },
  {
   "cell_type": "code",
   "execution_count": 101,
   "metadata": {},
   "outputs": [],
   "source": [
    "x_list, price_list, time_list = online.load_val_data(currency)"
   ]
  },
  {
   "cell_type": "code",
   "execution_count": 102,
   "metadata": {},
   "outputs": [
    {
     "data": {
      "image/png": "[encoded data removed]",
      "text/plain": [
       "<Figure size 432x288 with 1 Axes>"
      ]
     },
     "metadata": {
      "needs_background": "light"
     },
     "output_type": "display_data"
    },
    {
     "name": "stdout",
     "output_type": "stream",
     "text": [
      "47\n"
     ]
    }
   ],
   "source": [
    "get_charts(price_list)\n",
    "print(len(price_list))"
   ]
  },
  {
   "cell_type": "code",
   "execution_count": 103,
   "metadata": {},
   "outputs": [
    {
     "name": "stdout",
     "output_type": "stream",
     "text": [
      "BackTest (pending_sell_steps=2 sell_on_profit=True value=100)\n",
      "https://www.bitstamp.net/api/v2/ohlc/btcusd/?&currency_pair=btcusd&step=1800&limit=1000&start=1624538981\n"
     ]
    },
    {
     "data": {
      "application/vnd.jupyter.widget-view+json": {
       "model_id": "06780c1144fd40d7b4557210be8861c9",
       "version_major": 2,
       "version_minor": 0
      },
      "text/plain": [
       "  0%|          | 0/501 [00:00<?, ?it/s]"
      ]
     },
     "metadata": {},
     "output_type": "display_data"
    },
    {
     "name": "stdout",
     "output_type": "stream",
     "text": [
      "###### Past report(501): 2021-06-24 12:30:00(1624537800) - 2021-07-04 22:30:00(1625437800) ######\n",
      "Metric: {'recall': 0.2676056338028169, 'precision': 0.6440677966101694, 'f1': 0.37810945273631835, 'accuracy': 0.500998003992016}\n",
      "16.98398% -> 116.98398083744523\n",
      "Positive: 41 Negative: 9\n",
      "###### - ######\n"
     ]
    }
   ],
   "source": [
    "agent_array, back_array, stock_array = get_agent(minutes = minutes,\n",
    "                                win = window,\n",
    "                                step = step,\n",
    "                                currency = currency,\n",
    "                                hot_load = hot_load,\n",
    "                                model = model,\n",
    "                                timestamp = int(first['timestamp']),\n",
    "                                simulate_on_price = True)"
   ]
  },
  {
   "cell_type": "code",
   "execution_count": 104,
   "metadata": {
    "scrolled": true
   },
   "outputs": [
    {
     "name": "stdout",
     "output_type": "stream",
     "text": [
      "2021-08-17 21:00:02.762693 ModelAgent(45757.87): 2021-08-17 15:55:00(1629215700) UP\n",
      "2021-08-17 21:00:02.762882 BackTest: Bought: 45757.87\n",
      "2021-08-17 21:00:02.794053 ModelAgent(45722.19): 2021-08-17 16:00:00(1629216000) UP\n",
      "2021-08-17 21:00:02.846561 ModelAgent(45851.3): 2021-08-17 16:30:00(1629217800) UP\n",
      "2021-08-17 21:00:02.846712 BackTest: Profit detected bid: 45851.3 ask: 45851.3\n",
      "2021-08-17 21:00:02.846762 BackTest: SOLD >>>> Result: PROFIT 0.2042 total: 100.20418345521765\n",
      "2021-08-17 21:00:02.895374 ModelAgent(45633.35): 2021-08-17 17:00:00(1629219600) UP\n",
      "2021-08-17 21:00:02.895556 BackTest: Bought: 45633.35\n",
      "2021-08-17 21:00:02.952226 ModelAgent(45740.02): 2021-08-17 17:30:00(1629221400) UP\n",
      "2021-08-17 21:00:02.952775 BackTest: Profit detected bid: 45740.02 ask: 45740.02\n",
      "2021-08-17 21:00:02.952848 BackTest: SOLD >>>> Result: PROFIT 0.2338 total: 100.43793793521965\n",
      "2021-08-17 21:00:03.010297 ModelAgent(45783.08): 2021-08-17 18:00:00(1629223200) UP\n",
      "2021-08-17 21:00:03.010942 BackTest: Bought: 45783.08\n",
      "2021-08-17 21:00:03.059673 ModelAgent(46022.4): 2021-08-17 18:30:00(1629225000) UP\n",
      "2021-08-17 21:00:03.059865 BackTest: Profit detected bid: 46022.4 ask: 46022.4\n",
      "2021-08-17 21:00:03.059914 BackTest: SOLD >>>> Result: PROFIT 0.5227 total: 100.9606637981367\n",
      "2021-08-17 21:00:03.113108 ModelAgent(45752.37): 2021-08-17 19:00:00(1629226800) UP\n",
      "2021-08-17 21:00:03.113327 BackTest: Bought: 45752.37\n",
      "2021-08-17 21:00:03.167350 ModelAgent(45615.86): 2021-08-17 19:30:00(1629228600) UP\n"
     ]
    }
   ],
   "source": [
    "agent_array.save_history = True\n",
    "for idx in range(len(price_list)):\n",
    "    price = price_list[idx]\n",
    "    time = time_list[idx]\n",
    "    order = [[f\"{price}\", f\"{price}\"]]\n",
    "    amount = 0.0\n",
    "    agent_array.process_data(price, amount, time, order, order)"
   ]
  },
  {
   "cell_type": "code",
   "execution_count": 108,
   "metadata": {},
   "outputs": [
    {
     "name": "stdout",
     "output_type": "stream",
     "text": [
      "0.96066% -> 100.96066379813668\n",
      "Positive: 3 Negative: 1\n"
     ]
    }
   ],
   "source": [
    "back_array.on_down(back_array.buy_price, back_array.buy_price)\n",
    "back_array.report()"
   ]
  },
  {
   "cell_type": "code",
   "execution_count": null,
   "metadata": {},
   "outputs": [],
   "source": []
  },
  {
   "cell_type": "code",
   "execution_count": 81,
   "metadata": {},
   "outputs": [],
   "source": [
    "def eval_step_(model, train_set, step, provider, verbose = False):\n",
    "\n",
    "    valX, valY, times = provider.load_val_data(train_set)\n",
    "    \n",
    "    x, y, closed_prices = get_sequencial_data(valX, valY, step)\n",
    "    \n",
    "    history = []\n",
    "    \n",
    "    preds = model.predict(np.array(x))\n",
    "    \n",
    "    #for idx in range(len(x)):\n",
    "    #    print(f\"{times[idx]} -> {closed_prices[idx]} {y[idx]} \")\n",
    "\n",
    "    metrics = {}\n",
    "    metrics[\"recall\"] = recall_score(y, preds)\n",
    "    metrics[\"precision\"] = precision_score(y, preds)\n",
    "    metrics[\"f1\"] = f1_score(y, preds)\n",
    "    metrics[\"accuracy\"] = accuracy_score(y, preds)\n",
    "    metrics[\"roc_auc\"] = roc_auc_score(y, preds)\n",
    "    \n",
    "    back = BackTest(value = 100, \n",
    "                    verbose = True, \n",
    "                    sell_on_profit = True,\n",
    "                    pending_sell_steps = step)\n",
    "    \n",
    "    back = backtest_model(model, valX, valY, back)\n",
    "    \n",
    "    for idx in range(len(times)):\n",
    "        timestamp = times[idx]\n",
    "        price = closed_prices[idx]\n",
    "        y = model.predict([valX[idx]])\n",
    "        is_up = False\n",
    "        if (y[0] > 0.5):\n",
    "            is_up = True\n",
    "        history.append((timestamp, price, x, is_up))\n",
    "    \n",
    "    get_charts(valY)\n",
    "\n",
    "    \n",
    "    return back, metrics, history\n",
    "    "
   ]
  },
  {
   "cell_type": "code",
   "execution_count": 85,
   "metadata": {
    "scrolled": true
   },
   "outputs": [
    {
     "name": "stdout",
     "output_type": "stream",
     "text": [
      "BackTest (pending_sell_steps=2 sell_on_profit=True value=100)\n",
      "2021-08-16 21:22:12.665497 BackTest: Bought: 40811.15\n",
      "2021-08-16 21:22:12.668056 BackTest: Profit detected bid: 40993.6 ask: 40993.6\n",
      "2021-08-16 21:22:12.668313 BackTest: SOLD >>>> Result: PROFIT 0.4471 total: 100.44705919828282\n",
      "2021-08-16 21:22:12.668856 BackTest: Bought: 40785.31\n",
      "2021-08-16 21:22:12.669312 BackTest: Profit detected bid: 40995.47 ask: 40995.47\n",
      "2021-08-16 21:22:12.669367 BackTest: SOLD >>>> Result: PROFIT 0.5153 total: 100.96234276484147\n",
      "2021-08-16 21:22:12.669795 BackTest: Bought: 40961.5\n",
      "2021-08-16 21:22:12.671627 BackTest: Profit detected bid: 41710.42 ask: 41710.42\n",
      "2021-08-16 21:22:12.671951 BackTest: SOLD >>>> Result: PROFIT 1.8284 total: 102.79069377737763\n",
      "2021-08-16 21:22:12.672516 BackTest: Bought: 42240.0\n",
      "2021-08-16 21:22:12.672975 BackTest: Profit detected bid: 42609.9 ask: 42609.9\n",
      "2021-08-16 21:22:12.673032 BackTest: SOLD >>>> Result: PROFIT 0.8757 total: 103.66640400465036\n",
      "2021-08-16 21:22:12.673996 BackTest: Bought: 42559.51\n",
      "2021-08-16 21:22:12.674453 BackTest: Profit detected bid: 42929.29 ask: 42929.29\n",
      "2021-08-16 21:22:12.674654 BackTest: SOLD >>>> Result: PROFIT 0.8689 total: 104.53525799286591\n",
      "2021-08-16 21:22:12.675105 BackTest: Bought: 42932.86\n",
      "2021-08-16 21:22:12.676725 BackTest: Profit detected bid: 42935.59 ask: 42935.59\n",
      "2021-08-16 21:22:12.677065 BackTest: SOLD >>>> Result: PROFIT 0.0064 total: 104.54161675862248\n",
      "2021-08-16 21:22:12.677541 BackTest: Bought: 42652.39\n",
      "2021-08-16 21:22:12.678008 BackTest: Profit detected bid: 42724.49 ask: 42724.49\n",
      "2021-08-16 21:22:12.678061 BackTest: SOLD >>>> Result: PROFIT 0.169 total: 104.71065769630499\n",
      "2021-08-16 21:22:12.678472 BackTest: Bought: 42567.9\n",
      "2021-08-16 21:22:12.679623 BackTest: Profit detected bid: 42712.25 ask: 42712.25\n",
      "2021-08-16 21:22:12.679679 BackTest: SOLD >>>> Result: PROFIT 0.3391 total: 105.04976298456211\n",
      "2021-08-16 21:22:12.680093 BackTest: Bought: 42812.4\n",
      "2021-08-16 21:22:12.681051 BackTest: Profit detected bid: 42857.09 ask: 42857.09\n",
      "2021-08-16 21:22:12.681143 BackTest: SOLD >>>> Result: PROFIT 0.1044 total: 105.15414862984244\n",
      "2021-08-16 21:22:12.681614 BackTest: Bought: 42803.87\n",
      "2021-08-16 21:22:12.682192 BackTest: Profit detected bid: 43289.68 ask: 43289.68\n",
      "2021-08-16 21:22:12.682247 BackTest: SOLD >>>> Result: PROFIT 1.135 total: 106.2891160989054\n",
      "2021-08-16 21:22:12.682669 BackTest: Bought: 43009.59\n",
      "2021-08-16 21:22:12.683107 BackTest: SOLD >>>> Result: PROFIT 0.4431 total: 106.73222657728941\n",
      "2021-08-16 21:22:12.687836 BackTest: Bought: 43136.03\n",
      "2021-08-16 21:22:12.688518 BackTest: Profit detected bid: 43240.5 ask: 43240.5\n",
      "2021-08-16 21:22:12.688577 BackTest: SOLD >>>> Result: PROFIT 0.2422 total: 106.97441390885423\n",
      "2021-08-16 21:22:12.691697 BackTest: Bought: 43728.41\n",
      "2021-08-16 21:22:12.692371 BackTest: Profit detected bid: 43856.39 ask: 43856.39\n",
      "2021-08-16 21:22:12.692428 BackTest: SOLD >>>> Result: PROFIT 0.2927 total: 107.2670840516744\n",
      "2021-08-16 21:22:12.692855 BackTest: Bought: 44396.62\n",
      "2021-08-16 21:22:12.703792 BackTest: SOLD >>>> Result: PROFIT 0.5131 total: 107.78014112674002\n",
      "2021-08-16 21:22:12.705117 BackTest: Bought: 44232.0\n",
      "2021-08-16 21:22:12.706342 BackTest: SOLD >>>> Result: LOSS -0.5556 total: 107.22457049914009\n",
      "2021-08-16 21:22:12.711102 BackTest: Bought: 44511.82\n",
      "2021-08-16 21:22:12.711756 BackTest: SOLD >>>> Result: PROFIT 0.7421 total: 107.96662058830742\n",
      "2021-08-16 21:22:12.716217 BackTest: Bought: 43916.13\n",
      "2021-08-16 21:22:12.716785 BackTest: SOLD >>>> Result: PROFIT 0.1935 total: 108.1601485699397\n",
      "2021-08-16 21:22:12.723519 BackTest: Bought: 43376.57\n",
      "2021-08-16 21:22:12.724905 BackTest: SOLD >>>> Result: LOSS -0.5467 total: 107.61344789720324\n",
      "2021-08-16 21:22:12.734048 BackTest: Bought: 45400.48\n",
      "2021-08-16 21:22:12.734673 BackTest: SOLD >>>> Result: PROFIT 1.0797 total: 108.69312811203798\n",
      "2021-08-16 21:22:12.737445 BackTest: Bought: 45871.31\n",
      "2021-08-16 21:22:12.738035 BackTest: SOLD >>>> Result: PROFIT 0.3585 total: 109.05165286312968\n",
      "2021-08-16 21:22:12.739929 BackTest: Bought: 45486.3\n",
      "2021-08-16 21:22:12.740934 BackTest: SOLD >>>> Result: PROFIT 0.5545 total: 109.60612750714337\n",
      "2021-08-16 21:22:12.742101 BackTest: Bought: 46327.77\n",
      "2021-08-16 21:22:12.743054 BackTest: SOLD >>>> Result: LOSS -0.2559 total: 109.35025505742263\n",
      "2021-08-16 21:22:12.753857 BackTest: Bought: 45156.74\n",
      "2021-08-16 21:22:12.754563 BackTest: SOLD >>>> Result: PROFIT 0.0878 total: 109.43806033300275\n",
      "2021-08-16 21:22:12.772225 BackTest: Bought: 46714.22\n",
      "2021-08-16 21:22:12.773300 BackTest: SOLD >>>> Result: LOSS -0.6356 total: 108.80247228294004\n",
      "2021-08-16 21:22:12.777796 BackTest: Bought: 45761.81\n",
      "2021-08-16 21:22:12.778473 BackTest: SOLD >>>> Result: PROFIT 0.0294 total: 108.83188545519\n",
      "2021-08-16 21:22:12.778916 BackTest: Bought: 45659.85\n",
      "2021-08-16 21:22:12.779720 BackTest: SOLD >>>> Result: PROFIT 0.1852 total: 109.01712478471036\n",
      "2021-08-16 21:22:12.783337 BackTest: Bought: 45690.53\n",
      "2021-08-16 21:22:12.785153 BackTest: SOLD >>>> Result: LOSS -1.3011 total: 107.71600177300532\n",
      "2021-08-16 21:22:12.785808 BackTest: Bought: 45244.45\n",
      "2021-08-16 21:22:12.786645 BackTest: SOLD >>>> Result: PROFIT 0.0896 total: 107.80555971878651\n",
      "2021-08-16 21:22:12.789555 BackTest: Bought: 45239.06\n",
      "2021-08-16 21:22:12.791410 BackTest: SOLD >>>> Result: LOSS -1.1157 total: 106.68986456508527\n",
      "2021-08-16 21:22:12.791990 BackTest: Bought: 44450.0\n",
      "2021-08-16 21:22:12.795640 BackTest: SOLD >>>> Result: LOSS -0.2749 total: 106.41494892953973\n",
      "2021-08-16 21:22:12.798270 BackTest: Bought: 44314.75\n",
      "2021-08-16 21:22:12.800289 BackTest: SOLD >>>> Result: PROFIT 0.4 total: 106.81492862027476\n",
      "2021-08-16 21:22:12.810231 BackTest: Bought: 46428.99\n",
      "2021-08-16 21:22:12.810900 BackTest: SOLD >>>> Result: PROFIT 0.2595 total: 107.07444320372791\n",
      "2021-08-16 21:22:12.811694 BackTest: Bought: 46567.21\n",
      "2021-08-16 21:22:12.812785 BackTest: SOLD >>>> Result: LOSS -0.2156 total: 106.85884085177253\n",
      "2021-08-16 21:22:12.813201 BackTest: Bought: 46264.96\n",
      "2021-08-16 21:22:12.813783 BackTest: Profit detected bid: 46384.39 ask: 46384.39\n",
      "2021-08-16 21:22:12.813839 BackTest: SOLD >>>> Result: PROFIT 0.2581 total: 107.11698437983351\n",
      "2021-08-16 21:22:12.814252 BackTest: Bought: 46400.0\n",
      "2021-08-16 21:22:12.814684 BackTest: SOLD >>>> Result: PROFIT 0.3642 total: 107.48120851776454\n",
      "2021-08-16 21:22:12.816442 BackTest: Bought: 46513.9\n",
      "2021-08-16 21:22:12.817470 BackTest: SOLD >>>> Result: LOSS -0.0998 total: 107.3814533908025\n",
      "2021-08-16 21:22:12.817893 BackTest: Bought: 47591.31\n",
      "2021-08-16 21:22:12.818444 BackTest: Profit detected bid: 47624.0 ask: 47624.0\n",
      "2021-08-16 21:22:12.818521 BackTest: SOLD >>>> Result: PROFIT 0.0687 total: 107.45014240146433\n",
      "2021-08-16 21:22:12.818949 BackTest: Bought: 47823.01\n",
      "2021-08-16 21:22:12.819747 BackTest: SOLD >>>> Result: LOSS -0.6535 total: 106.79667035944941\n",
      "2021-08-16 21:22:12.826862 BackTest: Bought: 47661.99\n",
      "2021-08-16 21:22:12.827621 BackTest: SOLD >>>> Result: PROFIT 0.0007 total: 106.79740469723095\n",
      "2021-08-16 21:22:12.828132 BackTest: Bought: 47660.18\n",
      "2021-08-16 21:22:12.828571 BackTest: Profit detected bid: 47762.03 ask: 47762.03\n",
      "2021-08-16 21:22:12.828915 BackTest: SOLD >>>> Result: PROFIT 0.2137 total: 107.0111051070909\n",
      "2021-08-16 21:22:12.830092 BackTest: Bought: 46385.0\n",
      "2021-08-16 21:22:12.831229 BackTest: Profit detected bid: 46580.01 ask: 46580.01\n",
      "2021-08-16 21:22:12.831289 BackTest: SOLD >>>> Result: PROFIT 0.4204 total: 107.43152118987629\n",
      "2021-08-16 21:22:12.831741 BackTest: Bought: 46351.4\n",
      "2021-08-16 21:22:12.832798 BackTest: Profit detected bid: 46451.14 ask: 46451.14\n",
      "2021-08-16 21:22:12.832857 BackTest: SOLD >>>> Result: PROFIT 0.2152 total: 107.64670347131762\n",
      "2021-08-16 21:22:12.838023 BackTest: Bought: 46479.5\n",
      "2021-08-16 21:22:12.838701 BackTest: SOLD >>>> Result: PROFIT 0.4481 total: 108.09477197463629\n",
      "2021-08-16 21:22:12.845841 BackTest: Bought: 46473.0\n",
      "2021-08-16 21:22:12.847156 BackTest: SOLD >>>> Result: LOSS -0.2639 total: 107.83091984544299\n",
      "2021-08-16 21:22:12.848315 BackTest: Bought: 45714.55\n",
      "2021-08-16 21:22:12.848809 BackTest: SOLD >>>> Result: PROFIT 0.3807 total: 108.21163014446157\n",
      "2021-08-16 21:22:12.850688 BackTest: Bought: 45944.09\n",
      "2021-08-16 21:22:12.852303 BackTest: SOLD >>>> Result: LOSS -0.1872 total: 108.02444611273953\n",
      "2021-08-16 21:22:12.853507 BackTest: Bought: 45888.42\n",
      "2021-08-16 21:22:12.854054 BackTest: Profit detected bid: 45961.01 ask: 45961.01\n",
      "2021-08-16 21:22:12.854143 BackTest: SOLD >>>> Result: PROFIT 0.1582 total: 108.18263416977004\n",
      "2021-08-16 21:22:12.865896 BackTest: Bought: 47500.0\n",
      "2021-08-16 21:22:12.866764 BackTest: SOLD >>>> Result: LOSS -0.6326 total: 107.55000259082267\n",
      "2021-08-16 21:22:12.870792 BackTest: Bought: 46390.39\n",
      "2021-08-16 21:22:12.872034 BackTest: SOLD >>>> Result: LOSS -0.6574 total: 106.89260350450328\n",
      "2021-08-16 21:22:12.875324 BackTest: Bought: 46060.0\n"
     ]
    },
    {
     "data": {
      "image/png": "[encoded data removed]",
      "text/plain": [
       "<Figure size 432x288 with 1 Axes>"
      ]
     },
     "metadata": {
      "needs_background": "light"
     },
     "output_type": "display_data"
    },
    {
     "name": "stdout",
     "output_type": "stream",
     "text": [
      "2021-08-16 21:22:13.218313 BackTest: SOLD >>>> Result: LOSS 0.0 total: 106.8926035045033\n",
      "6.8926% -> 106.8926035045033\n",
      "Positive: 35 Negative: 15\n"
     ]
    }
   ],
   "source": [
    "back_eval, metr, history = eval_step_(model, currency, step, online, verbose = False)\n",
    "back_eval.on_down(back_eval.buy_price, back_eval.buy_price)\n",
    "back_eval.report()"
   ]
  },
  {
   "cell_type": "code",
   "execution_count": 83,
   "metadata": {},
   "outputs": [
    {
     "name": "stdout",
     "output_type": "stream",
     "text": [
      "1628242200 - 40811.15 - True\n",
      "1628244000 - 40615.25 - True\n",
      "1628245800 - 40527.57 - True\n",
      "1628247600 - 40676.24 - True\n",
      "1628249400 - 40643.18 - True\n",
      "1628251200 - 40513.18 - True\n",
      "1628253000 - 40993.6 - True\n",
      "1628254800 - 40785.31 - True\n",
      "1628256600 - 40995.47 - True\n",
      "1628258400 - 40961.5 - True\n",
      "1628260200 - 40736.29 - True\n",
      "1628262000 - 40783.02 - True\n",
      "1628263800 - 41710.42 - True\n",
      "1628265600 - 42240.0 - True\n",
      "1628267400 - 42609.9 - True\n",
      "1628269200 - 42559.51 - True\n",
      "1628271000 - 42929.29 - True\n",
      "1628272800 - 42932.86 - True\n",
      "1628274600 - 42802.26 - True\n",
      "1628276400 - 42843.67 - True\n",
      "1628278200 - 42883.94 - True\n",
      "1628280000 - 42935.59 - True\n",
      "1628281800 - 42652.39 - True\n",
      "1628283600 - 42724.49 - True\n",
      "1628285400 - 42567.9 - True\n",
      "1628287200 - 42494.21 - True\n",
      "1628289000 - 42712.25 - True\n",
      "1628290800 - 42812.4 - True\n",
      "1628292600 - 42781.31 - True\n",
      "1628294400 - 42857.09 - True\n",
      "1628296200 - 42803.87 - True\n",
      "1628298000 - 43289.68 - True\n",
      "1628299800 - 43009.59 - True\n",
      "1628301600 - 43200.17 - False\n",
      "1628303400 - 43383.96 - False\n",
      "1628305200 - 43325.57 - False\n",
      "1628307000 - 43323.61 - False\n",
      "1628308800 - 43754.84 - False\n",
      "1628310600 - 43586.52 - False\n",
      "1628312400 - 43338.2 - False\n",
      "1628314200 - 43438.75 - False\n",
      "1628316000 - 43441.84 - False\n",
      "1628317800 - 43408.6 - False\n",
      "1628319600 - 43280.88 - False\n",
      "1628321400 - 43136.03 - True\n",
      "1628323200 - 43240.5 - True\n",
      "1628325000 - 43400.58 - False\n",
      "1628326800 - 43498.18 - False\n",
      "1628328600 - 43634.44 - False\n",
      "1628330400 - 43686.5 - False\n",
      "1628332200 - 43729.7 - False\n",
      "1628334000 - 43704.33 - False\n",
      "1628335800 - 43728.41 - True\n",
      "1628337600 - 43856.39 - True\n",
      "1628339400 - 44396.62 - True\n",
      "1628341200 - 43552.85 - True\n",
      "1628343000 - 43611.67 - True\n",
      "1628344800 - 43234.29 - True\n",
      "1628346600 - 43472.08 - True\n",
      "1628348400 - 43539.22 - True\n",
      "1628350200 - 43632.89 - True\n",
      "1628352000 - 43424.08 - True\n",
      "1628353800 - 42776.87 - True\n",
      "1628355600 - 43760.62 - True\n",
      "1628357400 - 43467.42 - True\n",
      "1628359200 - 43471.31 - True\n",
      "1628361000 - 43558.45 - True\n",
      "1628362800 - 43587.23 - True\n",
      "1628364600 - 43697.41 - True\n",
      "1628366400 - 43968.11 - True\n",
      "1628368200 - 43982.44 - True\n",
      "1628370000 - 44010.0 - True\n",
      "1628371800 - 44358.13 - True\n",
      "1628373600 - 43587.99 - True\n",
      "1628375400 - 44021.19 - True\n",
      "1628377200 - 44087.1 - True\n",
      "1628379000 - 44307.82 - True\n",
      "1628380800 - 44624.4 - False\n",
      "1628382600 - 44370.0 - False\n",
      "1628384400 - 44635.05 - False\n",
      "1628386200 - 44232.0 - True\n",
      "1628388000 - 44174.13 - True\n",
      "1628389800 - 43950.68 - True\n",
      "1628391600 - 43986.26 - False\n",
      "1628393400 - 44372.0 - False\n",
      "1628395200 - 44394.68 - False\n",
      "1628397000 - 44561.02 - False\n",
      "1628398800 - 44386.32 - False\n",
      "1628400600 - 44518.85 - False\n",
      "1628402400 - 44813.79 - False\n",
      "1628404200 - 45063.16 - False\n",
      "1628406000 - 45097.39 - False\n",
      "1628407800 - 45161.47 - False\n",
      "1628409600 - 44835.1 - False\n",
      "1628411400 - 44844.65 - False\n",
      "1628413200 - 44511.82 - True\n",
      "1628415000 - 44842.12 - False\n",
      "1628416800 - 44795.21 - False\n",
      "1628418600 - 44407.58 - False\n",
      "1628420400 - 44400.19 - False\n",
      "1628422200 - 44587.31 - False\n",
      "1628424000 - 44471.12 - False\n",
      "1628425800 - 44980.92 - False\n",
      "1628427600 - 45108.35 - False\n",
      "1628429400 - 44829.77 - False\n",
      "1628431200 - 44768.06 - False\n",
      "1628433000 - 44464.91 - False\n",
      "1628434800 - 43916.13 - True\n",
      "1628436600 - 44001.12 - False\n",
      "1628438400 - 44041.8 - False\n",
      "1628440200 - 44245.37 - False\n",
      "1628442000 - 43763.29 - False\n",
      "1628443800 - 43810.98 - False\n",
      "1628445600 - 43710.29 - False\n",
      "1628447400 - 43807.06 - False\n",
      "1628449200 - 43670.72 - False\n",
      "1628451000 - 43818.29 - False\n",
      "1628452800 - 43746.45 - False\n",
      "1628454600 - 43937.75 - False\n",
      "1628456400 - 43934.51 - False\n",
      "1628458200 - 44185.94 - False\n",
      "1628460000 - 44280.62 - False\n",
      "1628461800 - 44353.98 - False\n",
      "1628463600 - 44228.83 - False\n",
      "1628465400 - 44160.17 - False\n",
      "1628467200 - 43836.05 - False\n",
      "1628469000 - 43376.57 - True\n",
      "1628470800 - 43210.75 - True\n",
      "1628472600 - 43122.68 - True\n",
      "1628474400 - 43139.43 - False\n",
      "1628476200 - 43270.23 - False\n",
      "1628478000 - 43516.22 - False\n",
      "1628479800 - 43449.5 - False\n",
      "1628481600 - 43530.6 - False\n",
      "1628483400 - 43413.87 - False\n",
      "1628485200 - 43592.75 - False\n",
      "1628487000 - 43689.29 - False\n",
      "1628488800 - 43602.23 - False\n",
      "1628490600 - 43310.4 - False\n",
      "1628492400 - 43500.0 - False\n",
      "1628494200 - 43414.9 - False\n",
      "1628496000 - 43850.0 - False\n",
      "1628497800 - 43697.21 - False\n",
      "1628499600 - 43777.71 - False\n",
      "1628501400 - 44646.26 - False\n",
      "1628503200 - 44895.02 - False\n",
      "1628505000 - 45039.87 - False\n",
      "1628506800 - 45700.0 - False\n",
      "1628508600 - 45657.95 - False\n",
      "1628510400 - 46006.29 - False\n",
      "1628512200 - 45777.39 - False\n",
      "1628514000 - 45702.25 - False\n",
      "1628515800 - 45875.36 - False\n",
      "1628517600 - 45400.48 - True\n",
      "1628519400 - 45890.66 - False\n",
      "1628521200 - 45642.06 - False\n",
      "1628523000 - 45986.57 - False\n",
      "1628524800 - 45920.87 - False\n",
      "1628526600 - 45788.32 - False\n",
      "1628528400 - 45947.6 - False\n",
      "1628530200 - 45918.87 - False\n",
      "1628532000 - 45871.31 - True\n",
      "1628533800 - 46035.77 - False\n",
      "1628535600 - 46228.21 - False\n",
      "1628537400 - 46350.0 - False\n",
      "1628539200 - 45995.58 - False\n",
      "1628541000 - 46305.98 - False\n",
      "1628542800 - 45486.3 - True\n",
      "1628544600 - 45156.23 - False\n",
      "1628546400 - 45738.51 - False\n",
      "1628548200 - 45782.46 - False\n",
      "1628550000 - 46236.65 - False\n",
      "1628551800 - 46327.77 - True\n",
      "1628553600 - 46282.3 - False\n",
      "1628555400 - 46209.23 - False\n",
      "1628557200 - 45980.98 - False\n",
      "1628559000 - 45911.66 - False\n",
      "1628560800 - 45978.39 - False\n",
      "1628562600 - 46024.25 - False\n",
      "1628564400 - 46081.45 - False\n",
      "1628566200 - 45760.76 - False\n",
      "1628568000 - 45713.23 - False\n",
      "1628569800 - 45770.37 - False\n",
      "1628571600 - 45450.0 - False\n",
      "1628573400 - 45680.71 - False\n",
      "1628575200 - 45571.4 - False\n",
      "1628577000 - 45438.33 - False\n",
      "1628578800 - 45537.93 - False\n",
      "1628580600 - 45397.38 - False\n",
      "1628582400 - 45946.71 - False\n",
      "1628584200 - 46004.54 - False\n",
      "1628586000 - 46173.55 - False\n",
      "1628587800 - 45883.04 - False\n",
      "1628589600 - 45998.33 - False\n",
      "1628591400 - 45722.89 - False\n",
      "1628593200 - 45377.6 - False\n",
      "1628595000 - 45599.06 - False\n",
      "1628596800 - 45382.9 - False\n",
      "1628598600 - 45811.01 - False\n",
      "1628600400 - 45940.89 - False\n",
      "1628602200 - 45930.6 - False\n",
      "1628604000 - 45570.72 - False\n",
      "1628605800 - 45488.58 - False\n",
      "1628607600 - 45372.49 - False\n",
      "1628609400 - 45156.74 - True\n",
      "1628611200 - 45196.39 - False\n",
      "1628613000 - 44823.71 - False\n",
      "1628614800 - 44820.1 - False\n",
      "1628616600 - 45071.59 - False\n",
      "1628618400 - 45103.12 - False\n",
      "1628620200 - 45093.75 - False\n",
      "1628622000 - 45340.69 - False\n",
      "1628623800 - 45436.91 - False\n",
      "1628625600 - 45529.93 - False\n",
      "1628627400 - 45483.79 - False\n",
      "1628629200 - 45639.25 - False\n",
      "1628631000 - 45729.55 - False\n",
      "1628632800 - 45722.66 - False\n",
      "1628634600 - 45575.0 - False\n",
      "1628636400 - 45461.45 - False\n",
      "1628638200 - 45296.42 - False\n",
      "1628640000 - 45596.21 - False\n",
      "1628641800 - 45669.53 - False\n",
      "1628643600 - 45784.17 - False\n",
      "1628645400 - 45911.7 - False\n",
      "1628647200 - 45841.98 - False\n",
      "1628649000 - 45722.98 - False\n",
      "1628650800 - 45437.36 - False\n",
      "1628652600 - 45545.5 - False\n",
      "1628654400 - 45589.84 - False\n",
      "1628656200 - 45695.27 - False\n",
      "1628658000 - 45655.56 - False\n",
      "1628659800 - 45716.06 - False\n",
      "1628661600 - 45822.27 - False\n",
      "1628663400 - 46028.31 - False\n",
      "1628665200 - 46098.99 - False\n",
      "1628667000 - 46325.76 - False\n",
      "1628668800 - 46408.62 - False\n",
      "1628670600 - 46230.04 - False\n",
      "1628672400 - 46231.45 - False\n",
      "1628674200 - 46242.42 - False\n",
      "1628676000 - 46128.85 - False\n",
      "1628677800 - 46018.34 - False\n",
      "1628679600 - 46066.37 - False\n",
      "1628681400 - 46172.35 - False\n",
      "1628683200 - 45953.98 - False\n",
      "1628685000 - 45934.6 - False\n",
      "1628686800 - 45976.21 - False\n",
      "1628688600 - 46382.64 - False\n",
      "1628690400 - 46314.46 - False\n",
      "1628692200 - 46386.63 - False\n",
      "1628694000 - 46531.99 - False\n",
      "1628695800 - 46714.22 - True\n",
      "1628697600 - 46490.36 - False\n",
      "1628699400 - 46417.31 - False\n",
      "1628701200 - 46353.88 - False\n",
      "1628703000 - 46387.39 - False\n",
      "1628704800 - 46538.11 - False\n",
      "1628706600 - 46325.43 - False\n",
      "1628708400 - 46324.37 - False\n",
      "1628710200 - 46332.43 - False\n",
      "1628712000 - 46471.59 - False\n",
      "1628713800 - 46566.28 - False\n",
      "1628715600 - 46328.79 - False\n",
      "1628717400 - 46161.33 - False\n",
      "1628719200 - 46344.25 - False\n",
      "1628721000 - 45761.81 - True\n",
      "1628722800 - 45775.27 - False\n",
      "1628724600 - 45659.85 - True\n",
      "1628726400 - 45536.8 - False\n",
      "1628728200 - 45744.43 - False\n",
      "1628730000 - 45763.45 - False\n",
      "1628731800 - 45910.42 - False\n",
      "1628733600 - 46005.67 - False\n",
      "1628735400 - 46095.6 - False\n",
      "1628737200 - 46231.56 - False\n",
      "1628739000 - 46202.05 - False\n",
      "1628740800 - 45942.07 - False\n",
      "1628742600 - 45690.53 - True\n",
      "1628744400 - 45608.36 - True\n",
      "1628746200 - 45183.0 - True\n",
      "1628748000 - 45158.09 - True\n",
      "1628749800 - 45096.04 - False\n",
      "1628751600 - 45244.45 - True\n",
      "1628753400 - 45210.78 - True\n",
      "1628755200 - 45284.97 - False\n",
      "1628757000 - 45374.03 - False\n",
      "1628758800 - 45259.96 - False\n",
      "1628760600 - 45452.81 - False\n",
      "1628762400 - 45403.05 - False\n",
      "1628764200 - 45474.49 - False\n",
      "1628766000 - 45354.96 - False\n",
      "1628767800 - 45239.06 - True\n",
      "1628769600 - 44755.65 - True\n",
      "1628771400 - 44440.85 - True\n",
      "1628773200 - 44604.0 - True\n",
      "1628775000 - 44734.33 - False\n",
      "1628776800 - 44450.0 - True\n",
      "1628778600 - 44193.11 - True\n",
      "1628780400 - 44095.85 - True\n",
      "1628782200 - 44208.45 - True\n",
      "1628784000 - 44222.76 - True\n",
      "1628785800 - 43902.69 - True\n",
      "1628787600 - 44005.63 - True\n",
      "1628789400 - 44175.5 - True\n",
      "1628791200 - 44139.91 - True\n",
      "1628793000 - 44327.8 - False\n",
      "1628794800 - 44457.11 - False\n",
      "1628796600 - 44413.08 - False\n",
      "1628798400 - 44407.42 - False\n",
      "1628800200 - 44447.17 - False\n",
      "1628802000 - 44465.07 - False\n",
      "1628803800 - 44314.75 - True\n",
      "1628805600 - 44276.89 - False\n",
      "1628807400 - 44020.73 - True\n",
      "1628809200 - 43978.67 - True\n",
      "1628811000 - 44492.0 - False\n",
      "1628812800 - 44413.35 - False\n",
      "1628814600 - 44523.5 - False\n",
      "1628816400 - 44561.39 - False\n",
      "1628818200 - 44826.49 - False\n",
      "1628820000 - 44881.48 - False\n",
      "1628821800 - 44970.43 - False\n",
      "1628823600 - 45339.1 - False\n",
      "1628825400 - 45309.45 - False\n",
      "1628827200 - 45197.88 - False\n",
      "1628829000 - 45065.02 - False\n",
      "1628830800 - 45300.0 - False\n",
      "1628832600 - 45244.05 - False\n",
      "1628834400 - 45292.08 - False\n",
      "1628836200 - 45595.33 - False\n",
      "1628838000 - 45934.37 - False\n",
      "1628839800 - 46200.0 - False\n",
      "1628841600 - 46146.94 - False\n",
      "1628843400 - 46092.0 - False\n",
      "1628845200 - 46219.16 - False\n",
      "1628847000 - 46294.43 - False\n",
      "1628848800 - 46266.34 - False\n",
      "1628850600 - 46413.0 - False\n",
      "1628852400 - 46349.28 - False\n",
      "1628854200 - 46403.09 - False\n",
      "1628856000 - 46180.88 - False\n",
      "1628857800 - 46428.99 - True\n",
      "1628859600 - 46549.48 - False\n",
      "1628861400 - 46570.85 - False\n",
      "1628863200 - 46567.21 - True\n",
      "1628865000 - 46486.3 - True\n",
      "1628866800 - 46466.81 - False\n",
      "1628868600 - 46264.96 - True\n",
      "1628870400 - 46384.39 - True\n",
      "1628872200 - 46400.0 - True\n",
      "1628874000 - 46569.0 - False\n",
      "1628875800 - 46513.01 - False\n",
      "1628877600 - 46522.82 - False\n",
      "1628879400 - 46564.99 - False\n",
      "1628881200 - 46513.9 - True\n",
      "1628883000 - 46319.42 - False\n",
      "1628884800 - 46467.5 - False\n",
      "1628886600 - 47591.31 - True\n",
      "1628888400 - 47624.0 - True\n",
      "1628890200 - 47823.01 - True\n",
      "1628892000 - 47596.43 - False\n",
      "1628893800 - 47510.5 - False\n",
      "1628895600 - 47587.28 - False\n",
      "1628897400 - 47699.45 - False\n",
      "1628899200 - 47855.0 - False\n",
      "1628901000 - 47777.6 - False\n",
      "1628902800 - 47691.37 - False\n",
      "1628904600 - 47672.07 - False\n",
      "1628906400 - 47609.86 - False\n",
      "1628908200 - 47581.86 - False\n",
      "1628910000 - 47546.99 - False\n",
      "1628911800 - 47529.38 - False\n",
      "1628913600 - 47556.17 - False\n",
      "1628915400 - 47622.49 - False\n",
      "1628917200 - 47487.9 - False\n",
      "1628919000 - 47552.0 - False\n",
      "1628920800 - 47555.3 - False\n",
      "1628922600 - 47672.69 - False\n",
      "1628924400 - 47550.0 - False\n",
      "1628926200 - 47723.37 - False\n",
      "1628928000 - 47661.99 - True\n",
      "1628929800 - 47662.34 - False\n",
      "1628931600 - 47660.18 - True\n",
      "1628933400 - 47762.03 - True\n",
      "1628935200 - 47012.69 - False\n",
      "1628937000 - 46829.5 - False\n",
      "1628938800 - 46385.0 - True\n",
      "1628940600 - 46350.0 - True\n",
      "1628942400 - 46580.01 - True\n",
      "1628944200 - 46351.4 - True\n",
      "1628946000 - 46297.47 - True\n",
      "1628947800 - 46451.14 - True\n",
      "1628949600 - 46525.45 - False\n",
      "1628951400 - 46831.7 - False\n",
      "1628953200 - 46971.94 - False\n",
      "1628955000 - 46824.94 - False\n",
      "1628956800 - 46993.06 - False\n",
      "1628958600 - 46901.14 - False\n",
      "1628960400 - 46915.78 - False\n",
      "1628962200 - 46812.21 - False\n",
      "1628964000 - 46811.67 - False\n",
      "1628965800 - 46837.0 - False\n",
      "1628967600 - 46782.05 - False\n",
      "1628969400 - 46727.33 - False\n",
      "1628971200 - 47087.83 - False\n",
      "1628973000 - 46479.5 - True\n",
      "1628974800 - 46687.76 - False\n",
      "1628976600 - 46790.61 - False\n",
      "1628978400 - 47021.84 - False\n",
      "1628980200 - 47103.6 - False\n",
      "1628982000 - 46893.78 - False\n",
      "1628983800 - 47165.33 - False\n",
      "1628985600 - 47130.97 - False\n",
      "1628987400 - 47149.57 - False\n",
      "1628989200 - 47262.18 - False\n",
      "1628991000 - 47292.92 - False\n",
      "1628992800 - 47197.05 - False\n",
      "1628994600 - 47287.46 - False\n",
      "1628996400 - 47259.39 - False\n",
      "1628998200 - 47202.88 - False\n",
      "1629000000 - 46913.29 - False\n",
      "1629001800 - 46789.23 - False\n",
      "1629003600 - 46750.44 - False\n",
      "1629005400 - 46785.27 - False\n",
      "1629007200 - 46619.37 - False\n",
      "1629009000 - 46473.0 - True\n",
      "1629010800 - 46454.64 - False\n",
      "1629012600 - 46350.38 - False\n",
      "1629014400 - 45754.38 - False\n",
      "1629016200 - 45738.29 - False\n",
      "1629018000 - 45714.55 - True\n",
      "1629019800 - 45888.59 - False\n",
      "1629021600 - 46043.42 - False\n",
      "1629023400 - 46037.1 - False\n",
      "1629025200 - 45929.2 - False\n",
      "1629027000 - 45900.0 - False\n",
      "1629028800 - 45944.09 - True\n",
      "1629030600 - 45907.2 - True\n",
      "1629032400 - 45764.05 - True\n",
      "1629034200 - 45858.09 - False\n",
      "1629036000 - 46079.22 - False\n",
      "1629037800 - 46372.08 - False\n",
      "1629039600 - 45888.42 - True\n",
      "1629041400 - 45961.01 - True\n",
      "1629043200 - 46212.22 - False\n",
      "1629045000 - 46167.64 - False\n",
      "1629046800 - 45916.13 - False\n",
      "1629048600 - 45922.7 - False\n",
      "1629050400 - 46012.82 - False\n",
      "1629052200 - 46006.11 - False\n",
      "1629054000 - 46329.67 - False\n",
      "1629055800 - 46271.16 - False\n",
      "1629057600 - 46398.22 - False\n",
      "1629059400 - 46512.59 - False\n",
      "1629061200 - 46768.17 - False\n",
      "1629063000 - 46761.16 - False\n",
      "1629064800 - 46892.25 - False\n",
      "1629066600 - 47212.48 - False\n",
      "1629068400 - 47271.23 - False\n",
      "1629070200 - 47188.13 - False\n",
      "1629072000 - 47024.96 - False\n",
      "1629073800 - 47575.31 - False\n",
      "1629075600 - 47619.28 - False\n",
      "1629077400 - 47618.37 - False\n",
      "1629079200 - 47685.23 - False\n",
      "1629081000 - 47672.3 - False\n",
      "1629082800 - 48009.0 - False\n",
      "1629084600 - 47686.13 - False\n",
      "1629086400 - 47396.63 - False\n",
      "1629088200 - 47438.88 - False\n",
      "1629090000 - 47452.68 - False\n",
      "1629091800 - 47524.12 - False\n",
      "1629093600 - 47600.81 - False\n",
      "1629095400 - 47268.68 - False\n",
      "1629097200 - 47362.67 - False\n",
      "1629099000 - 47500.0 - True\n",
      "1629100800 - 47349.3 - False\n",
      "1629102600 - 47199.5 - False\n",
      "1629104400 - 47169.65 - False\n",
      "1629106200 - 47125.16 - False\n",
      "1629108000 - 47207.84 - False\n",
      "1629109800 - 47307.16 - False\n",
      "1629111600 - 47456.92 - False\n",
      "1629113400 - 47551.43 - False\n",
      "1629115200 - 47576.71 - False\n",
      "1629117000 - 47341.34 - False\n",
      "1629118800 - 47316.74 - False\n",
      "1629120600 - 47103.35 - False\n",
      "1629122400 - 46390.39 - True\n",
      "1629124200 - 46350.54 - True\n",
      "1629126000 - 46087.65 - True\n",
      "1629127800 - 46085.42 - False\n",
      "1629129600 - 46364.13 - False\n",
      "1629131400 - 46296.11 - False\n",
      "1629133200 - 46402.37 - False\n",
      "1629135000 - 46265.68 - False\n",
      "1629136800 - 46485.89 - False\n",
      "1629138600 - 46562.37 - False\n",
      "1629140400 - 46478.17 - False\n",
      "1629142200 - 46258.55 - False\n",
      "1629144000 - 46060.0 - True\n"
     ]
    }
   ],
   "source": [
    "for data in history:\n",
    "    print(f\"{data[0]} - {data[1]} - {data[3]}\")"
   ]
  },
  {
   "cell_type": "code",
   "execution_count": 80,
   "metadata": {},
   "outputs": [
    {
     "name": "stdout",
     "output_type": "stream",
     "text": [
      "{'recall': 0.2793103448275862, 'precision': 0.6230769230769231, 'f1': 0.3857142857142857, 'accuracy': 0.4860557768924303}\n"
     ]
    }
   ],
   "source": [
    "print(metrics)\n"
   ]
  },
  {
   "cell_type": "code",
   "execution_count": 65,
   "metadata": {},
   "outputs": [
    {
     "name": "stdout",
     "output_type": "stream",
     "text": [
      "-1.78465% -> 98.21535030676218\n",
      "Positive: 0 Negative: 2\n"
     ]
    }
   ],
   "source": [
    "back_raw.report()\n",
    "#-1.78465% -> 98.21535030676218"
   ]
  },
  {
   "cell_type": "code",
   "execution_count": 66,
   "metadata": {},
   "outputs": [
    {
     "name": "stdout",
     "output_type": "stream",
     "text": [
      "9.49914% -> 109.49914344524747\n",
      "Positive: 43 Negative: 17\n"
     ]
    }
   ],
   "source": [
    "back_array.report()\n",
    "#-1.89717% -> 98.10282664807247"
   ]
  },
  {
   "cell_type": "code",
   "execution_count": 67,
   "metadata": {},
   "outputs": [
    {
     "name": "stdout",
     "output_type": "stream",
     "text": [
      "6.8926% -> 106.8926035045033\n",
      "Positive: 35 Negative: 15\n"
     ]
    }
   ],
   "source": []
  },
  {
   "cell_type": "code",
   "execution_count": 68,
   "metadata": {},
   "outputs": [
    {
     "name": "stdout",
     "output_type": "stream",
     "text": [
      "1625439604 - 35340.23 - False\n",
      "1625441408 - 35415.34 - False\n",
      "1625443217 - 35247.7 - False\n",
      "1625445008 - 34922.82 - True\n",
      "1625446840 - 34898.82 - True\n",
      "1625448615 - 34639.91 - True\n",
      "1625450408 - 34560.8 - True\n",
      "1625452240 - 34477.16 - True\n",
      "1625454002 - 34430.21 - True\n",
      "1625455806 - 34426.56 - True\n",
      "1625457601 - 34363.72 - True\n",
      "1625459423 - 34245.31 - True\n",
      "1625461201 - 34199.5 - True\n",
      "1625463001 - 34112.89 - True\n",
      "1625464817 - 34344.29 - True\n",
      "1625466630 - 34299.57 - False\n",
      "1625468403 - 34295.01 - True\n",
      "1625470202 - 34154.96 - True\n",
      "1625472001 - 34269.56 - True\n",
      "1625473811 - 34174.91 - True\n"
     ]
    }
   ],
   "source": [
    "agent_raw.report()"
   ]
  },
  {
   "cell_type": "code",
   "execution_count": 69,
   "metadata": {},
   "outputs": [
    {
     "name": "stdout",
     "output_type": "stream",
     "text": [
      "1628242200 - 40811.15 - True\n",
      "1628244000 - 40615.25 - True\n",
      "1628245800 - 40527.57 - True\n",
      "1628247600 - 40676.24 - True\n",
      "1628249400 - 40643.18 - True\n",
      "1628251200 - 40513.18 - True\n",
      "1628253000 - 40993.6 - True\n",
      "1628254800 - 40785.31 - True\n",
      "1628256600 - 40995.47 - True\n",
      "1628258400 - 40961.5 - True\n",
      "1628260200 - 40736.29 - True\n",
      "1628262000 - 40783.02 - True\n",
      "1628263800 - 41710.42 - True\n",
      "1628265600 - 42240.0 - True\n",
      "1628267400 - 42609.9 - True\n",
      "1628269200 - 42559.51 - True\n",
      "1628271000 - 42929.29 - True\n",
      "1628272800 - 42932.86 - True\n",
      "1628274600 - 42802.26 - True\n",
      "1628276400 - 42843.67 - True\n",
      "1628278200 - 42883.94 - True\n",
      "1628280000 - 42935.59 - True\n",
      "1628281800 - 42652.39 - True\n",
      "1628283600 - 42724.49 - True\n",
      "1628285400 - 42567.9 - True\n",
      "1628287200 - 42494.21 - True\n",
      "1628289000 - 42712.25 - True\n",
      "1628290800 - 42812.4 - True\n",
      "1628292600 - 42781.31 - True\n",
      "1628294400 - 42857.09 - True\n",
      "1628296200 - 42803.87 - True\n",
      "1628298000 - 43289.68 - True\n",
      "1628299800 - 43009.59 - True\n",
      "1628301600 - 43200.17 - True\n",
      "1628303400 - 43383.96 - False\n",
      "1628305200 - 43325.57 - False\n",
      "1628307000 - 43323.61 - False\n",
      "1628308800 - 43754.84 - False\n",
      "1628310600 - 43586.52 - False\n",
      "1628312400 - 43338.2 - True\n",
      "1628314200 - 43438.75 - True\n",
      "1628316000 - 43441.84 - True\n",
      "1628317800 - 43408.6 - False\n",
      "1628319600 - 43280.88 - False\n",
      "1628321400 - 43136.03 - True\n",
      "1628323200 - 43240.5 - True\n",
      "1628325000 - 43400.58 - False\n",
      "1628326800 - 43498.18 - False\n",
      "1628328600 - 43634.44 - False\n",
      "1628330400 - 43686.5 - False\n",
      "1628332200 - 43729.7 - False\n",
      "1628334000 - 43704.33 - False\n",
      "1628335800 - 43728.41 - False\n",
      "1628337600 - 43856.39 - True\n",
      "1628339400 - 44396.62 - True\n",
      "1628341200 - 43552.85 - True\n",
      "1628343000 - 43611.67 - True\n",
      "1628344800 - 43234.29 - True\n",
      "1628346600 - 43472.08 - True\n",
      "1628348400 - 43539.22 - True\n",
      "1628350200 - 43632.89 - True\n",
      "1628352000 - 43424.08 - True\n",
      "1628353800 - 42776.87 - True\n",
      "1628355600 - 43760.62 - True\n",
      "1628357400 - 43467.42 - True\n",
      "1628359200 - 43471.31 - True\n",
      "1628361000 - 43558.45 - True\n",
      "1628362800 - 43587.23 - False\n",
      "1628364600 - 43697.41 - True\n",
      "1628366400 - 43968.11 - True\n",
      "1628368200 - 43982.44 - True\n",
      "1628370000 - 44010.0 - False\n",
      "1628371800 - 44358.13 - True\n",
      "1628373600 - 43587.99 - True\n",
      "1628375400 - 44021.19 - True\n",
      "1628377200 - 44087.1 - True\n",
      "1628379000 - 44307.82 - False\n",
      "1628380800 - 44624.4 - False\n",
      "1628382600 - 44370.0 - False\n",
      "1628384400 - 44635.05 - False\n",
      "1628386200 - 44232.0 - True\n",
      "1628388000 - 44174.13 - False\n",
      "1628389800 - 43950.68 - True\n",
      "1628391600 - 43986.26 - False\n",
      "1628393400 - 44372.0 - False\n",
      "1628395200 - 44394.68 - False\n",
      "1628397000 - 44561.02 - False\n",
      "1628398800 - 44386.32 - False\n",
      "1628400600 - 44518.85 - False\n",
      "1628402400 - 44813.79 - False\n",
      "1628404200 - 45063.16 - False\n",
      "1628406000 - 45097.39 - False\n",
      "1628407800 - 45161.47 - False\n",
      "1628409600 - 44835.1 - False\n",
      "1628411400 - 44844.65 - False\n",
      "1628413200 - 44511.82 - True\n",
      "1628415000 - 44842.12 - False\n",
      "1628416800 - 44795.21 - False\n",
      "1628418600 - 44407.58 - False\n",
      "1628420400 - 44400.19 - False\n",
      "1628422200 - 44587.31 - False\n",
      "1628424000 - 44471.12 - False\n",
      "1628425800 - 44980.92 - False\n",
      "1628427600 - 45108.35 - False\n",
      "1628429400 - 44829.77 - False\n",
      "1628431200 - 44768.06 - False\n",
      "1628433000 - 44464.91 - False\n",
      "1628434800 - 43916.13 - True\n",
      "1628436600 - 44001.12 - False\n",
      "1628438400 - 44041.8 - False\n",
      "1628440200 - 44245.37 - False\n",
      "1628442000 - 43763.29 - False\n",
      "1628443800 - 43810.98 - False\n",
      "1628445600 - 43710.29 - False\n",
      "1628447400 - 43807.06 - False\n",
      "1628449200 - 43670.72 - False\n",
      "1628451000 - 43818.29 - False\n",
      "1628452800 - 43746.45 - False\n",
      "1628454600 - 43937.75 - False\n",
      "1628456400 - 43934.51 - False\n",
      "1628458200 - 44185.94 - False\n",
      "1628460000 - 44280.62 - False\n",
      "1628461800 - 44353.98 - False\n",
      "1628463600 - 44228.83 - False\n",
      "1628465400 - 44160.17 - False\n",
      "1628467200 - 43836.05 - False\n",
      "1628469000 - 43376.57 - True\n",
      "1628470800 - 43210.75 - True\n",
      "1628472600 - 43122.68 - True\n",
      "1628474400 - 43139.43 - False\n",
      "1628476200 - 43270.23 - False\n",
      "1628478000 - 43516.22 - False\n",
      "1628479800 - 43449.5 - False\n",
      "1628481600 - 43530.6 - False\n",
      "1628483400 - 43413.87 - False\n",
      "1628485200 - 43592.75 - False\n",
      "1628487000 - 43689.29 - False\n",
      "1628488800 - 43602.23 - False\n",
      "1628490600 - 43310.4 - False\n",
      "1628492400 - 43500.0 - False\n",
      "1628494200 - 43414.9 - False\n",
      "1628496000 - 43850.0 - False\n",
      "1628497800 - 43697.21 - False\n",
      "1628499600 - 43777.71 - False\n",
      "1628501400 - 44646.26 - False\n",
      "1628503200 - 44895.02 - False\n",
      "1628505000 - 45039.87 - False\n",
      "1628506800 - 45700.0 - False\n",
      "1628508600 - 45657.95 - False\n",
      "1628510400 - 46006.29 - False\n",
      "1628512200 - 45777.39 - False\n",
      "1628514000 - 45702.25 - False\n",
      "1628515800 - 45875.36 - False\n",
      "1628517600 - 45400.48 - True\n",
      "1628519400 - 45890.66 - False\n",
      "1628521200 - 45642.06 - False\n",
      "1628523000 - 45986.57 - False\n",
      "1628524800 - 45920.87 - False\n",
      "1628526600 - 45788.32 - False\n",
      "1628528400 - 45947.6 - False\n",
      "1628530200 - 45918.87 - False\n",
      "1628532000 - 45871.31 - True\n",
      "1628533800 - 46035.77 - False\n",
      "1628535600 - 46228.21 - False\n",
      "1628537400 - 46350.0 - False\n",
      "1628539200 - 45995.58 - False\n",
      "1628541000 - 46305.98 - False\n",
      "1628542800 - 45486.3 - True\n",
      "1628544600 - 45156.23 - False\n",
      "1628546400 - 45738.51 - False\n",
      "1628548200 - 45782.46 - False\n",
      "1628550000 - 46236.65 - False\n",
      "1628551800 - 46327.77 - True\n",
      "1628553600 - 46282.3 - False\n",
      "1628555400 - 46209.23 - False\n",
      "1628557200 - 45980.98 - False\n",
      "1628559000 - 45911.66 - False\n",
      "1628560800 - 45978.39 - False\n",
      "1628562600 - 46024.25 - False\n",
      "1628564400 - 46081.45 - False\n",
      "1628566200 - 45760.76 - False\n",
      "1628568000 - 45713.23 - False\n",
      "1628569800 - 45770.37 - False\n",
      "1628571600 - 45450.0 - False\n",
      "1628573400 - 45680.71 - False\n",
      "1628575200 - 45571.4 - False\n",
      "1628577000 - 45438.33 - False\n",
      "1628578800 - 45537.93 - False\n",
      "1628580600 - 45397.38 - False\n",
      "1628582400 - 45946.71 - False\n",
      "1628584200 - 46004.54 - False\n",
      "1628586000 - 46173.55 - False\n",
      "1628587800 - 45883.04 - False\n",
      "1628589600 - 45998.33 - False\n",
      "1628591400 - 45722.89 - False\n",
      "1628593200 - 45377.6 - False\n",
      "1628595000 - 45599.06 - False\n",
      "1628596800 - 45382.9 - False\n",
      "1628598600 - 45811.01 - False\n",
      "1628600400 - 45940.89 - False\n",
      "1628602200 - 45930.6 - False\n",
      "1628604000 - 45570.72 - False\n",
      "1628605800 - 45488.58 - False\n",
      "1628607600 - 45372.49 - False\n",
      "1628609400 - 45156.74 - True\n",
      "1628611200 - 45196.39 - False\n",
      "1628613000 - 44823.71 - False\n",
      "1628614800 - 44820.1 - False\n",
      "1628616600 - 45071.59 - False\n",
      "1628618400 - 45103.12 - False\n",
      "1628620200 - 45093.75 - False\n",
      "1628622000 - 45340.69 - False\n",
      "1628623800 - 45436.91 - False\n",
      "1628625600 - 45529.93 - False\n",
      "1628627400 - 45483.79 - False\n",
      "1628629200 - 45639.25 - False\n",
      "1628631000 - 45729.55 - False\n",
      "1628632800 - 45722.66 - False\n",
      "1628634600 - 45575.0 - False\n",
      "1628636400 - 45461.45 - False\n",
      "1628638200 - 45296.42 - False\n",
      "1628640000 - 45596.21 - False\n",
      "1628641800 - 45669.53 - False\n",
      "1628643600 - 45784.17 - False\n",
      "1628645400 - 45911.7 - False\n",
      "1628647200 - 45841.98 - False\n",
      "1628649000 - 45722.98 - False\n",
      "1628650800 - 45437.36 - False\n",
      "1628652600 - 45545.5 - False\n",
      "1628654400 - 45589.84 - False\n",
      "1628656200 - 45695.27 - False\n",
      "1628658000 - 45655.56 - False\n",
      "1628659800 - 45716.06 - False\n",
      "1628661600 - 45822.27 - False\n",
      "1628663400 - 46028.31 - False\n",
      "1628665200 - 46098.99 - False\n",
      "1628667000 - 46325.76 - False\n",
      "1628668800 - 46408.62 - False\n",
      "1628670600 - 46230.04 - False\n",
      "1628672400 - 46231.45 - False\n",
      "1628674200 - 46242.42 - False\n",
      "1628676000 - 46128.85 - False\n",
      "1628677800 - 46018.34 - False\n",
      "1628679600 - 46066.37 - False\n",
      "1628681400 - 46172.35 - False\n",
      "1628683200 - 45953.98 - False\n",
      "1628685000 - 45934.6 - False\n",
      "1628686800 - 45976.21 - False\n",
      "1628688600 - 46382.64 - False\n",
      "1628690400 - 46314.46 - False\n",
      "1628692200 - 46386.63 - False\n",
      "1628694000 - 46531.99 - False\n",
      "1628695800 - 46714.22 - True\n",
      "1628697600 - 46490.36 - False\n",
      "1628699400 - 46417.31 - False\n",
      "1628701200 - 46353.88 - False\n",
      "1628703000 - 46387.39 - False\n",
      "1628704800 - 46538.11 - False\n",
      "1628706600 - 46325.43 - False\n",
      "1628708400 - 46324.37 - False\n",
      "1628710200 - 46332.43 - False\n",
      "1628712000 - 46471.59 - False\n",
      "1628713800 - 46566.28 - False\n",
      "1628715600 - 46328.79 - False\n",
      "1628717400 - 46161.33 - False\n",
      "1628719200 - 46344.25 - False\n",
      "1628721000 - 45761.81 - True\n",
      "1628722800 - 45775.27 - False\n",
      "1628724600 - 45659.85 - True\n",
      "1628726400 - 45536.8 - False\n",
      "1628728200 - 45744.43 - False\n",
      "1628730000 - 45763.45 - False\n",
      "1628731800 - 45910.42 - False\n",
      "1628733600 - 46005.67 - False\n",
      "1628735400 - 46095.6 - False\n",
      "1628737200 - 46231.56 - False\n",
      "1628739000 - 46202.05 - False\n",
      "1628740800 - 45942.07 - False\n",
      "1628742600 - 45690.53 - True\n",
      "1628744400 - 45608.36 - True\n",
      "1628746200 - 45183.0 - True\n",
      "1628748000 - 45158.09 - True\n",
      "1628749800 - 45096.04 - False\n",
      "1628751600 - 45244.45 - True\n",
      "1628753400 - 45210.78 - True\n",
      "1628755200 - 45284.97 - False\n",
      "1628757000 - 45374.03 - False\n",
      "1628758800 - 45259.96 - False\n",
      "1628760600 - 45452.81 - False\n",
      "1628762400 - 45403.05 - False\n",
      "1628764200 - 45474.49 - False\n",
      "1628766000 - 45354.96 - False\n",
      "1628767800 - 45239.06 - True\n",
      "1628769600 - 44755.65 - True\n",
      "1628771400 - 44440.85 - True\n",
      "1628773200 - 44604.0 - True\n",
      "1628775000 - 44734.33 - False\n",
      "1628776800 - 44450.0 - True\n",
      "1628778600 - 44193.11 - True\n",
      "1628780400 - 44095.85 - True\n",
      "1628782200 - 44208.45 - True\n",
      "1628784000 - 44222.76 - True\n",
      "1628785800 - 43902.69 - True\n",
      "1628787600 - 44005.63 - True\n",
      "1628789400 - 44175.5 - True\n",
      "1628791200 - 44139.91 - True\n",
      "1628793000 - 44327.8 - False\n",
      "1628794800 - 44457.11 - False\n",
      "1628796600 - 44413.08 - False\n",
      "1628798400 - 44407.42 - False\n",
      "1628800200 - 44447.17 - False\n",
      "1628802000 - 44465.07 - False\n",
      "1628803800 - 44314.75 - True\n",
      "1628805600 - 44276.89 - False\n",
      "1628807400 - 44020.73 - True\n",
      "1628809200 - 43978.67 - True\n",
      "1628811000 - 44492.0 - False\n",
      "1628812800 - 44413.35 - False\n",
      "1628814600 - 44523.5 - False\n",
      "1628816400 - 44561.39 - False\n",
      "1628818200 - 44826.49 - False\n",
      "1628820000 - 44881.48 - False\n",
      "1628821800 - 44970.43 - False\n",
      "1628823600 - 45339.1 - False\n",
      "1628825400 - 45309.45 - False\n",
      "1628827200 - 45197.88 - False\n",
      "1628829000 - 45065.02 - False\n",
      "1628830800 - 45300.0 - False\n",
      "1628832600 - 45244.05 - False\n",
      "1628834400 - 45292.08 - False\n",
      "1628836200 - 45595.33 - False\n",
      "1628838000 - 45934.37 - False\n",
      "1628839800 - 46200.0 - False\n",
      "1628841600 - 46146.94 - False\n",
      "1628843400 - 46092.0 - False\n",
      "1628845200 - 46219.16 - False\n",
      "1628847000 - 46294.43 - False\n",
      "1628848800 - 46266.34 - False\n",
      "1628850600 - 46413.0 - False\n",
      "1628852400 - 46349.28 - False\n",
      "1628854200 - 46403.09 - False\n",
      "1628856000 - 46180.88 - False\n",
      "1628857800 - 46428.99 - True\n",
      "1628859600 - 46549.48 - False\n",
      "1628861400 - 46570.85 - False\n",
      "1628863200 - 46567.21 - True\n",
      "1628865000 - 46486.3 - True\n",
      "1628866800 - 46466.81 - False\n",
      "1628868600 - 46264.96 - True\n",
      "1628870400 - 46384.39 - True\n",
      "1628872200 - 46400.0 - True\n",
      "1628874000 - 46569.0 - False\n",
      "1628875800 - 46513.01 - False\n",
      "1628877600 - 46522.82 - False\n",
      "1628879400 - 46564.99 - False\n",
      "1628881200 - 46513.9 - True\n",
      "1628883000 - 46319.42 - False\n",
      "1628884800 - 46467.5 - False\n",
      "1628886600 - 47591.31 - True\n",
      "1628888400 - 47624.0 - True\n",
      "1628890200 - 47823.01 - True\n",
      "1628892000 - 47596.43 - False\n",
      "1628893800 - 47510.5 - False\n",
      "1628895600 - 47587.28 - False\n",
      "1628897400 - 47699.45 - False\n",
      "1628899200 - 47855.0 - False\n",
      "1628901000 - 47777.6 - False\n",
      "1628902800 - 47691.37 - False\n",
      "1628904600 - 47672.07 - False\n",
      "1628906400 - 47609.86 - False\n",
      "1628908200 - 47581.86 - False\n",
      "1628910000 - 47546.99 - False\n",
      "1628911800 - 47529.38 - False\n",
      "1628913600 - 47556.17 - False\n",
      "1628915400 - 47622.49 - False\n",
      "1628917200 - 47487.9 - False\n",
      "1628919000 - 47552.0 - False\n",
      "1628920800 - 47555.3 - False\n",
      "1628922600 - 47672.69 - False\n",
      "1628924400 - 47550.0 - False\n",
      "1628926200 - 47723.37 - False\n",
      "1628928000 - 47661.99 - True\n",
      "1628929800 - 47662.34 - False\n",
      "1628931600 - 47660.18 - True\n",
      "1628933400 - 47762.03 - True\n",
      "1628935200 - 47012.69 - False\n",
      "1628937000 - 46829.5 - False\n",
      "1628938800 - 46385.0 - True\n",
      "1628940600 - 46350.0 - True\n",
      "1628942400 - 46580.01 - True\n",
      "1628944200 - 46351.4 - True\n",
      "1628946000 - 46297.47 - True\n",
      "1628947800 - 46451.14 - True\n",
      "1628949600 - 46525.45 - False\n",
      "1628951400 - 46831.7 - False\n",
      "1628953200 - 46971.94 - False\n",
      "1628955000 - 46824.94 - False\n",
      "1628956800 - 46993.06 - False\n",
      "1628958600 - 46901.14 - False\n",
      "1628960400 - 46915.78 - False\n",
      "1628962200 - 46812.21 - False\n",
      "1628964000 - 46811.67 - False\n",
      "1628965800 - 46837.0 - False\n",
      "1628967600 - 46782.05 - False\n",
      "1628969400 - 46727.33 - False\n",
      "1628971200 - 47087.83 - False\n",
      "1628973000 - 46479.5 - True\n",
      "1628974800 - 46687.76 - False\n",
      "1628976600 - 46790.61 - False\n",
      "1628978400 - 47021.84 - False\n",
      "1628980200 - 47103.6 - False\n",
      "1628982000 - 46893.78 - False\n",
      "1628983800 - 47165.33 - False\n",
      "1628985600 - 47130.97 - False\n",
      "1628987400 - 47149.57 - False\n",
      "1628989200 - 47262.18 - False\n",
      "1628991000 - 47292.92 - False\n",
      "1628992800 - 47197.05 - False\n",
      "1628994600 - 47287.46 - False\n",
      "1628996400 - 47259.39 - False\n",
      "1628998200 - 47202.88 - False\n",
      "1629000000 - 46913.29 - False\n",
      "1629001800 - 46789.23 - False\n",
      "1629003600 - 46750.44 - False\n",
      "1629005400 - 46785.27 - False\n",
      "1629007200 - 46619.37 - False\n",
      "1629009000 - 46473.0 - True\n",
      "1629010800 - 46454.64 - False\n",
      "1629012600 - 46350.38 - False\n",
      "1629014400 - 45754.38 - False\n",
      "1629016200 - 45738.29 - False\n",
      "1629018000 - 45714.55 - True\n",
      "1629019800 - 45888.59 - False\n",
      "1629021600 - 46043.42 - False\n",
      "1629023400 - 46037.1 - False\n",
      "1629025200 - 45929.2 - False\n",
      "1629027000 - 45900.0 - False\n",
      "1629028800 - 45944.09 - True\n",
      "1629030600 - 45907.2 - True\n",
      "1629032400 - 45764.05 - True\n",
      "1629034200 - 45858.09 - False\n",
      "1629036000 - 46079.22 - False\n",
      "1629037800 - 46372.08 - False\n",
      "1629039600 - 45888.42 - True\n",
      "1629041400 - 45961.01 - True\n",
      "1629043200 - 46212.22 - False\n",
      "1629045000 - 46167.64 - False\n",
      "1629046800 - 45916.13 - False\n",
      "1629048600 - 45922.7 - False\n",
      "1629050400 - 46012.82 - False\n",
      "1629052200 - 46006.11 - False\n",
      "1629054000 - 46329.67 - False\n",
      "1629055800 - 46271.16 - False\n",
      "1629057600 - 46398.22 - False\n",
      "1629059400 - 46512.59 - False\n",
      "1629061200 - 46768.17 - False\n",
      "1629063000 - 46761.16 - False\n",
      "1629064800 - 46892.25 - False\n",
      "1629066600 - 47212.48 - False\n",
      "1629068400 - 47271.23 - False\n",
      "1629070200 - 47188.13 - False\n",
      "1629072000 - 47024.96 - False\n",
      "1629073800 - 47575.31 - False\n",
      "1629075600 - 47619.28 - False\n",
      "1629077400 - 47618.37 - False\n",
      "1629079200 - 47685.23 - False\n",
      "1629081000 - 47672.3 - False\n",
      "1629082800 - 48009.0 - False\n",
      "1629084600 - 47686.13 - False\n",
      "1629086400 - 47396.63 - False\n",
      "1629088200 - 47438.88 - False\n",
      "1629090000 - 47452.68 - False\n",
      "1629091800 - 47524.12 - False\n",
      "1629093600 - 47600.81 - False\n",
      "1629095400 - 47268.68 - False\n",
      "1629097200 - 47362.67 - False\n",
      "1629099000 - 47500.0 - True\n",
      "1629100800 - 47349.3 - False\n",
      "1629102600 - 47199.5 - False\n",
      "1629104400 - 47169.65 - False\n",
      "1629106200 - 47125.16 - False\n",
      "1629108000 - 47207.84 - False\n",
      "1629109800 - 47307.16 - False\n",
      "1629111600 - 47456.92 - False\n",
      "1629113400 - 47551.43 - False\n",
      "1629115200 - 47576.71 - False\n",
      "1629117000 - 47341.34 - False\n",
      "1629118800 - 47316.74 - False\n",
      "1629120600 - 47103.35 - False\n",
      "1629122400 - 46390.39 - True\n",
      "1629124200 - 46350.54 - True\n",
      "1629126000 - 46087.65 - True\n",
      "1629127800 - 46085.42 - False\n",
      "1629129600 - 46364.13 - False\n",
      "1629131400 - 46296.11 - False\n",
      "1629133200 - 46402.37 - False\n",
      "1629135000 - 46265.68 - False\n",
      "1629136800 - 46485.89 - False\n",
      "1629138600 - 46562.37 - False\n",
      "1629140400 - 46478.17 - False\n",
      "1629142200 - 46258.55 - False\n",
      "1629144000 - 46060.0 - True\n"
     ]
    }
   ],
   "source": [
    "agent_array.report()"
   ]
  },
  {
   "cell_type": "code",
   "execution_count": null,
   "metadata": {},
   "outputs": [],
   "source": []
  },
  {
   "cell_type": "code",
   "execution_count": null,
   "metadata": {},
   "outputs": [],
   "source": []
  }
 ],
 "metadata": {
  "kernelspec": {
   "display_name": "Python 3",
   "language": "python",
   "name": "python3"
  },
  "language_info": {
   "codemirror_mode": {
    "name": "ipython",
    "version": 3
   },
   "file_extension": ".py",
   "mimetype": "text/x-python",
   "name": "python",
   "nbconvert_exporter": "python",
   "pygments_lexer": "ipython3",
   "version": "3.9.5"
  }
 },
 "nbformat": 4,
 "nbformat_minor": 4
}
