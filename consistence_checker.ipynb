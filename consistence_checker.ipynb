{
 "cells": [
  {
   "cell_type": "code",
   "execution_count": 1,
   "metadata": {
    "scrolled": true
   },
   "outputs": [],
   "source": [
    "import pandas as pd\n",
    "import data_util\n",
    "from tqdm import tqdm_notebook as tqdm\n",
    "from data_generator import DataGenerator\n",
    "from state_util import StateUtil\n",
    "from tec_an import TecAn\n",
    "from data_agent import *\n",
    "import numpy as np\n",
    "from data_util import *\n",
    "import tensorflow as tf\n",
    "from sklearn_model_hyper import *\n",
    "import pandas as pd\n",
    "from stock_agent import *\n",
    "from backtest import *\n",
    "from joblib import dump, load\n",
    "from datetime import datetime, timedelta\n",
    "from tec_an import *\n",
    "from bitstamp import *\n",
    "from process_live_trade import *\n",
    "from model_winner_select import *\n",
    "\n",
    "base_dir = \"data/\""
   ]
  },
  {
   "cell_type": "code",
   "execution_count": 2,
   "metadata": {},
   "outputs": [],
   "source": [
    "currency = \"btcusd\"\n",
    "\n",
    "full_data = base_dir + \"backtest/\"\n",
    "full_data = base_dir + \"4jul21/\"\n",
    "#full_data = base_dir + \"btcusd/\"\n",
    "data_gen = DataGenerator(random = False, base_dir = full_data)\n",
    "data_gen.rewind()\n",
    "data_count = (data_gen.steps - 100)\n",
    "#data_count = 200000\n",
    "raw = data_gen.next()\n",
    "\n",
    "minute = 30\n",
    "\n",
    "hot_load = True"
   ]
  },
  {
   "cell_type": "code",
   "execution_count": 3,
   "metadata": {},
   "outputs": [],
   "source": [
    "path = \"model/\"\n",
    "files = os.listdir(path)\n",
    "models = []\n",
    "for file in files:\n",
    "    models.append(f\"{path}{file}\")\n",
    "\n",
    "#models = ['model/rand']\n",
    "#models = ['model/quadra']\n",
    "    \n",
    "timestamp = int(raw['timestamp'])"
   ]
  },
  {
   "cell_type": "code",
   "execution_count": 4,
   "metadata": {},
   "outputs": [],
   "source": [
    "results = load('model/rand')"
   ]
  },
  {
   "cell_type": "code",
   "execution_count": 5,
   "metadata": {
    "scrolled": false
   },
   "outputs": [],
   "source": [
    "#winner = get_best_model(\n",
    "#    minutes_list=[minute],\n",
    "#    result_paths=models,\n",
    "#    currency_list=[currency],\n",
    "#    timestamp = timestamp,\n",
    "#    winner_path = None\n",
    "#)"
   ]
  },
  {
   "cell_type": "code",
   "execution_count": 6,
   "metadata": {},
   "outputs": [
    {
     "name": "stdout",
     "output_type": "stream",
     "text": [
      "Minutes=30 Window=40 Step=2 | 116.7969034594654\n",
      "Pipeline(steps=[('normalizer', Normalizer()),\n",
      "                ('pipeline',\n",
      "                 Pipeline(steps=[('s',\n",
      "                                  RFECV(estimator=ExtraTreesClassifier(max_features=0.3,\n",
      "                                                                       random_state=42),\n",
      "                                        scoring='recall')),\n",
      "                                 ('m',\n",
      "                                  RandomForestClassifier(bootstrap=False,\n",
      "                                                         criterion='entropy',\n",
      "                                                         max_features=0.1,\n",
      "                                                         random_state=42))]))])\n"
     ]
    }
   ],
   "source": [
    "#result = winner\n",
    "#if (winner == None):\n",
    "result = results[-1]\n",
    "model = result['model']\n",
    "window = result['window']\n",
    "minutes = result['minutes']\n",
    "step = result['step']\n",
    "profit = result['profit']\n",
    "print(f\"Minutes={minutes} Window={window} Step={step} | {profit}\")\n",
    "print(f\"{model}\")\n"
   ]
  },
  {
   "cell_type": "code",
   "execution_count": null,
   "metadata": {},
   "outputs": [],
   "source": []
  },
  {
   "cell_type": "code",
   "execution_count": 7,
   "metadata": {},
   "outputs": [],
   "source": [
    "import numpy as np\n",
    "import matplotlib.pyplot as plt\n",
    "def get_charts(stock_data):\n",
    "    fig = plt.figure()\n",
    "    ax = plt.axes()\n",
    "    x = stock_data\n",
    "    plt.plot(x, linewidth=1)\n",
    "    #plt.grid(b=True, color='aqua', alpha=0.3, linestyle='-.', linewidth=2)\n",
    "    plt.show()\n"
   ]
  },
  {
   "cell_type": "code",
   "execution_count": 8,
   "metadata": {},
   "outputs": [],
   "source": [
    "def get_online_data(minutes,\n",
    "                    val_start,\n",
    "                    val_end,\n",
    "                    source_data_generator, \n",
    "                    load_from_disk, file_prefix = \"\"):\n",
    "    \n",
    "    online = OnLineDataProvider(\n",
    "                 source_data_generator = source_data_generator,\n",
    "                 minutes = minutes,\n",
    "                 train_keys = [],\n",
    "                 train_limit = 1000,\n",
    "                 val_limit = 1000,\n",
    "                 val_keys = [currency],\n",
    "                 val_start = val_start,\n",
    "                 val_end = val_end,\n",
    "                 train_start_list = val_start\n",
    "    )\n",
    "\n",
    "    online_path = f'data/online{file_prefix}_{minutes}'\n",
    "    \n",
    "    online.load_val_cache([currency], val_start, val_end)\n",
    "    \n",
    "    return online"
   ]
  },
  {
   "cell_type": "code",
   "execution_count": 9,
   "metadata": {},
   "outputs": [],
   "source": [
    "\n",
    "on_raw_data = lambda raw: print(raw)\n",
    "\n",
    "data_gen.rewind()\n",
    "\n",
    "first = data_gen.next()"
   ]
  },
  {
   "cell_type": "code",
   "execution_count": 10,
   "metadata": {},
   "outputs": [
    {
     "name": "stdout",
     "output_type": "stream",
     "text": [
      "BackTest (pending_sell_steps=2 sell_on_profit=True value=100)\n",
      "https://www.bitstamp.net/api/v2/ohlc/btcusd/?&currency_pair=btcusd&step=1800&limit=1000&start=1624538981\n"
     ]
    },
    {
     "data": {
      "application/vnd.jupyter.widget-view+json": {
       "model_id": "090fa6e398a04698a327dc804c7e8367",
       "version_major": 2,
       "version_minor": 0
      },
      "text/plain": [
       "  0%|          | 0/501 [00:00<?, ?it/s]"
      ]
     },
     "metadata": {},
     "output_type": "display_data"
    },
    {
     "name": "stdout",
     "output_type": "stream",
     "text": [
      "###### Past report(501): 2021-06-24 12:30:00(1624537800) - 2021-07-04 22:30:00(1625437800) ######\n",
      "Metric: {'recall': 0.6514084507042254, 'precision': 0.5692307692307692, 'f1': 0.6075533661740559, 'accuracy': 0.5229540918163673}\n",
      "1.14882% -> 101.14881500843086\n",
      "Positive: 99 Negative: 43\n",
      "###### - ######\n"
     ]
    }
   ],
   "source": [
    "agent_reference, back_reference, stock_reference = get_agent(minutes = minutes,\n",
    "                                win = window,\n",
    "                                step = step,\n",
    "                                currency = currency,\n",
    "                                hot_load = hot_load,\n",
    "                                model = model,\n",
    "                                timestamp = int(first['timestamp']),\n",
    "                                simulate_on_price = True)\n",
    "prices = []\n",
    "agent_reference.on_closed_price = lambda price: prices.append(price)\n",
    "#agent.ohlc['open'].plot()"
   ]
  },
  {
   "cell_type": "code",
   "execution_count": 11,
   "metadata": {
    "scrolled": true
   },
   "outputs": [
    {
     "name": "stderr",
     "output_type": "stream",
     "text": [
      "100%|██████████| 301794/301794 [01:23<00:00, 3630.42it/s]\n"
     ]
    }
   ],
   "source": [
    "data_gen.rewind()\n",
    "\n",
    "\n",
    "reference_list = []\n",
    "#data_count\n",
    "for i in tqdm(range(data_count)):\n",
    "    raw = data_gen.next()\n",
    "    price = raw[PRICE_KEY]\n",
    "    amount = raw[AMOUNT_KEY]\n",
    "    timestamp = raw[TIMESTAMP_KEY]\n",
    "    timestamp_pd = pd.to_datetime(timestamp, unit='s')\n",
    "    reference_list.append([timestamp_pd, price])\n"
   ]
  },
  {
   "cell_type": "code",
   "execution_count": 12,
   "metadata": {},
   "outputs": [],
   "source": [
    "DATE = 'Date'\n",
    "df = pd.DataFrame(agent_reference.list, columns = [DATE, CLOSE])\n",
    "df = df.set_index(pd.DatetimeIndex(df[DATE]))"
   ]
  },
  {
   "cell_type": "code",
   "execution_count": 13,
   "metadata": {},
   "outputs": [
    {
     "name": "stdout",
     "output_type": "stream",
     "text": [
      "All data reference\n"
     ]
    },
    {
     "data": {
      "text/plain": [
       "<AxesSubplot:xlabel='Date'>"
      ]
     },
     "execution_count": 13,
     "metadata": {},
     "output_type": "execute_result"
    },
    {
     "data": {
      "image/png": "[encoded data removed]",
      "text/plain": [
       "<Figure size 432x288 with 1 Axes>"
      ]
     },
     "metadata": {
      "needs_background": "light"
     },
     "output_type": "display_data"
    }
   ],
   "source": [
    "time = df[CLOSE].resample(agent_reference.resample)\n",
    "ohlc = time.ohlc()\n",
    "print(\"All data reference\")\n",
    "ohlc['open'].plot()"
   ]
  },
  {
   "cell_type": "code",
   "execution_count": 14,
   "metadata": {},
   "outputs": [
    {
     "data": {
      "text/plain": [
       "[Timestamp('2021-07-04 22:49:41'), 35330.0]"
      ]
     },
     "execution_count": 14,
     "metadata": {},
     "output_type": "execute_result"
    }
   ],
   "source": [
    "reference_list[0]"
   ]
  },
  {
   "cell_type": "code",
   "execution_count": 15,
   "metadata": {},
   "outputs": [
    {
     "name": "stdout",
     "output_type": "stream",
     "text": [
      "BackTest (pending_sell_steps=2 sell_on_profit=True value=100)\n",
      "https://www.bitstamp.net/api/v2/ohlc/btcusd/?&currency_pair=btcusd&step=1800&limit=1000&start=1624538981\n"
     ]
    },
    {
     "data": {
      "application/vnd.jupyter.widget-view+json": {
       "model_id": "cddcee2f38a54956abda70aa1231528b",
       "version_major": 2,
       "version_minor": 0
      },
      "text/plain": [
       "  0%|          | 0/501 [00:00<?, ?it/s]"
      ]
     },
     "metadata": {},
     "output_type": "display_data"
    },
    {
     "name": "stdout",
     "output_type": "stream",
     "text": [
      "###### Past report(501): 2021-06-24 12:30:00(1624537800) - 2021-07-04 22:30:00(1625437800) ######\n",
      "Metric: {'recall': 0.6514084507042254, 'precision': 0.5692307692307692, 'f1': 0.6075533661740559, 'accuracy': 0.5229540918163673}\n",
      "1.14882% -> 101.14881500843086\n",
      "Positive: 99 Negative: 43\n",
      "###### - ######\n"
     ]
    }
   ],
   "source": [
    "agent, back, stock = get_agent(minutes = minutes,\n",
    "                                win = window,\n",
    "                                step = step,\n",
    "                                currency = currency,\n",
    "                                hot_load = hot_load,\n",
    "                                model = model,\n",
    "                                timestamp = int(first['timestamp']),\n",
    "                                simulate_on_price = True)\n",
    "prices = []"
   ]
  },
  {
   "cell_type": "code",
   "execution_count": 16,
   "metadata": {
    "scrolled": true
   },
   "outputs": [
    {
     "name": "stdout",
     "output_type": "stream",
     "text": [
      "2021-08-15 23:09:28.856449 ModelAgent(35340.23): 2021-07-04 23:00:04(1625439604) UP\n",
      "2021-08-15 23:09:28.856634 BackTest: Bought: 35340.23\n",
      "2021-08-15 23:09:30.603625 ModelAgent(35415.34): 2021-07-04 23:30:08(1625441408) DOWN\n",
      "2021-08-15 23:09:30.603802 BackTest: SOLD >>>> Result: PROFIT 0.2125 total: 100.21253398746978\n",
      "2021-08-15 23:09:32.145874 ModelAgent(35247.7): 2021-07-05 00:00:17(1625443217) UP\n",
      "2021-08-15 23:09:32.146047 BackTest: Bought: 35247.7\n",
      "2021-08-15 23:09:34.134317 ModelAgent(34922.82): 2021-07-05 00:30:08(1625445008) UP\n",
      "2021-08-15 23:09:35.826361 ModelAgent(34898.82): 2021-07-05 01:00:40(1625446840) UP\n",
      "2021-08-15 23:09:37.452607 ModelAgent(34639.91): 2021-07-05 01:30:15(1625448615) UP\n",
      "2021-08-15 23:09:40.625783 ModelAgent(34560.8): 2021-07-05 02:00:08(1625450408) DOWN\n",
      "2021-08-15 23:09:40.625957 BackTest: SOLD >>>> Result: LOSS -1.9488 total: 98.26375435078428\n",
      "2021-08-15 23:09:44.896822 ModelAgent(34477.16): 2021-07-05 02:30:40(1625452240) UP\n",
      "2021-08-15 23:09:44.897014 BackTest: Bought: 34477.16\n",
      "2021-08-15 23:09:48.662654 ModelAgent(34430.21): 2021-07-05 03:00:02(1625454002) UP\n",
      "2021-08-15 23:09:52.427914 ModelAgent(34426.56): 2021-07-05 03:30:06(1625455806) DOWN\n",
      "2021-08-15 23:09:52.428074 BackTest: SOLD >>>> Result: LOSS -0.1468 total: 98.11699052220906\n",
      "2021-08-15 23:09:54.566672 ModelAgent(34363.72): 2021-07-05 04:00:01(1625457601) DOWN\n",
      "2021-08-15 23:09:57.011038 ModelAgent(34245.31): 2021-07-05 04:30:23(1625459423) DOWN\n",
      "2021-08-15 23:09:58.917992 ModelAgent(34199.5): 2021-07-05 05:00:01(1625461201) UP\n",
      "2021-08-15 23:09:58.918166 BackTest: Bought: 34199.5\n",
      "2021-08-15 23:10:00.747484 ModelAgent(34112.89): 2021-07-05 05:30:01(1625463001) DOWN\n",
      "2021-08-15 23:10:03.139014 ModelAgent(34344.29): 2021-07-05 06:00:17(1625464817) UP\n",
      "2021-08-15 23:10:03.139193 BackTest: Profit detected bid: 34344.29 ask: 34344.29\n",
      "2021-08-15 23:10:03.139241 BackTest: SOLD >>>> Result: PROFIT 0.4234 total: 98.54035928491028\n",
      "2021-08-15 23:10:07.422897 ModelAgent(34299.57): 2021-07-05 06:30:30(1625466630) UP\n",
      "2021-08-15 23:10:07.423068 BackTest: Bought: 34299.57\n",
      "2021-08-15 23:10:10.986142 ModelAgent(34295.01): 2021-07-05 07:00:03(1625468403) UP\n",
      "2021-08-15 23:10:15.153337 ModelAgent(34154.96): 2021-07-05 07:30:02(1625470202) DOWN\n",
      "2021-08-15 23:10:15.153543 BackTest: SOLD >>>> Result: LOSS -0.4216 total: 98.11875050089346\n",
      "2021-08-15 23:10:18.679355 ModelAgent(34269.56): 2021-07-05 08:00:01(1625472001) DOWN\n",
      "2021-08-15 23:10:22.827135 ModelAgent(34174.91): 2021-07-05 08:30:11(1625473811) UP\n",
      "2021-08-15 23:10:22.827320 BackTest: Bought: 34174.91\n"
     ]
    }
   ],
   "source": [
    "data_gen.rewind()\n",
    "agent.save_history = True\n",
    "#data_count\n",
    "for i in range(data_count):\n",
    "    raw = data_gen.next()\n",
    "    agent.on_new_raw_data(raw)"
   ]
  },
  {
   "cell_type": "code",
   "execution_count": 17,
   "metadata": {},
   "outputs": [
    {
     "name": "stdout",
     "output_type": "stream",
     "text": [
      "1625439604 - 35340.23 - True\n",
      "1625441408 - 35415.34 - False\n",
      "1625443217 - 35247.7 - True\n",
      "1625445008 - 34922.82 - True\n",
      "1625446840 - 34898.82 - True\n",
      "1625448615 - 34639.91 - True\n",
      "1625450408 - 34560.8 - False\n",
      "1625452240 - 34477.16 - True\n",
      "1625454002 - 34430.21 - True\n",
      "1625455806 - 34426.56 - False\n",
      "1625457601 - 34363.72 - False\n",
      "1625459423 - 34245.31 - False\n",
      "1625461201 - 34199.5 - True\n",
      "1625463001 - 34112.89 - False\n",
      "1625464817 - 34344.29 - True\n",
      "1625466630 - 34299.57 - True\n",
      "1625468403 - 34295.01 - True\n",
      "1625470202 - 34154.96 - False\n",
      "1625472001 - 34269.56 - False\n",
      "1625473811 - 34174.91 - True\n"
     ]
    }
   ],
   "source": [
    "agent.report()"
   ]
  },
  {
   "cell_type": "code",
   "execution_count": 18,
   "metadata": {},
   "outputs": [
    {
     "name": "stdout",
     "output_type": "stream",
     "text": [
      "2021-07-04 22:49:41(1625438981) -> 2021-07-05 08:50:02(1625475002)\n"
     ]
    }
   ],
   "source": [
    "val_start = int(first['timestamp'])\n",
    "val_end = int(raw['timestamp'])\n",
    "\n",
    "start_string = pd.to_datetime(val_start, unit='s')\n",
    "end_string = pd.to_datetime(val_end, unit='s')\n",
    "\n",
    "print(f\"{start_string}({val_start}) -> {end_string}({val_end})\")"
   ]
  },
  {
   "cell_type": "code",
   "execution_count": 19,
   "metadata": {},
   "outputs": [
    {
     "name": "stdout",
     "output_type": "stream",
     "text": [
      "-101.88125% -> -1.881249499106545\n",
      "Positive: 2 Negative: 3\n"
     ]
    }
   ],
   "source": [
    "back.on_down(back.buy_price, back.buy_price)\n",
    "back.report()"
   ]
  },
  {
   "cell_type": "code",
   "execution_count": 20,
   "metadata": {},
   "outputs": [
    {
     "data": {
      "text/plain": [
       "<AxesSubplot:xlabel='Date'>"
      ]
     },
     "execution_count": 20,
     "metadata": {},
     "output_type": "execute_result"
    },
    {
     "data": {
      "image/png": "[encoded data removed]",
      "text/plain": [
       "<Figure size 432x288 with 1 Axes>"
      ]
     },
     "metadata": {
      "needs_background": "light"
     },
     "output_type": "display_data"
    }
   ],
   "source": [
    "agent.ohlc[-50:][\"open\"].plot()\n",
    "#agent.ohlc[1:]"
   ]
  },
  {
   "cell_type": "code",
   "execution_count": 21,
   "metadata": {},
   "outputs": [],
   "source": [
    "tec = TecAn(windows = window, windows_limit = 100)\n",
    "source_data_generator = SourceDataGenerator(tec = tec)"
   ]
  },
  {
   "cell_type": "code",
   "execution_count": 22,
   "metadata": {},
   "outputs": [
    {
     "name": "stdout",
     "output_type": "stream",
     "text": [
      "https://www.bitstamp.net/api/v2/ohlc/btcusd/?&currency_pair=btcusd&step=1800&limit=1000&start=1625438981\n"
     ]
    },
    {
     "data": {
      "application/vnd.jupyter.widget-view+json": {
       "model_id": "b998f032563f440db98fc8a5e333ac66",
       "version_major": 2,
       "version_minor": 0
      },
      "text/plain": [
       "  0%|          | 0/22 [00:00<?, ?it/s]"
      ]
     },
     "metadata": {},
     "output_type": "display_data"
    }
   ],
   "source": [
    "online = get_online_data(minutes = minute, \n",
    "                 source_data_generator = source_data_generator, \n",
    "                 load_from_disk = True, \n",
    "                 file_prefix = \"____\",\n",
    "                 val_start = val_start,\n",
    "                 val_end = val_end)"
   ]
  },
  {
   "cell_type": "code",
   "execution_count": 23,
   "metadata": {},
   "outputs": [],
   "source": [
    "x_list, price_list, time_list = online.load_val_data(currency)"
   ]
  },
  {
   "cell_type": "code",
   "execution_count": 24,
   "metadata": {},
   "outputs": [
    {
     "data": {
      "image/png": "[encoded data removed]",
      "text/plain": [
       "<Figure size 432x288 with 1 Axes>"
      ]
     },
     "metadata": {
      "needs_background": "light"
     },
     "output_type": "display_data"
    },
    {
     "name": "stdout",
     "output_type": "stream",
     "text": [
      "22\n"
     ]
    }
   ],
   "source": [
    "get_charts(price_list)\n",
    "print(len(price_list))"
   ]
  },
  {
   "cell_type": "code",
   "execution_count": 25,
   "metadata": {},
   "outputs": [
    {
     "name": "stdout",
     "output_type": "stream",
     "text": [
      "BackTest (pending_sell_steps=2 sell_on_profit=True value=100)\n",
      "https://www.bitstamp.net/api/v2/ohlc/btcusd/?&currency_pair=btcusd&step=1800&limit=1000&start=1624538981\n"
     ]
    },
    {
     "data": {
      "application/vnd.jupyter.widget-view+json": {
       "model_id": "beb3907819864f16a2c70d205dabfeb6",
       "version_major": 2,
       "version_minor": 0
      },
      "text/plain": [
       "  0%|          | 0/501 [00:00<?, ?it/s]"
      ]
     },
     "metadata": {},
     "output_type": "display_data"
    },
    {
     "name": "stdout",
     "output_type": "stream",
     "text": [
      "###### Past report(501): 2021-06-24 12:30:00(1624537800) - 2021-07-04 22:30:00(1625437800) ######\n",
      "Metric: {'recall': 0.6514084507042254, 'precision': 0.5692307692307692, 'f1': 0.6075533661740559, 'accuracy': 0.5229540918163673}\n",
      "1.14882% -> 101.14881500843086\n",
      "Positive: 99 Negative: 43\n",
      "###### - ######\n"
     ]
    }
   ],
   "source": [
    "agent_array, back_array, stock_array = get_agent(minutes = minutes,\n",
    "                                win = window,\n",
    "                                step = step,\n",
    "                                currency = currency,\n",
    "                                hot_load = hot_load,\n",
    "                                model = model,\n",
    "                                timestamp = int(first['timestamp']),\n",
    "                                simulate_on_price = True)"
   ]
  },
  {
   "cell_type": "code",
   "execution_count": 26,
   "metadata": {
    "scrolled": true
   },
   "outputs": [
    {
     "name": "stdout",
     "output_type": "stream",
     "text": [
      "2021-08-15 23:11:02.982190 ModelAgent(35340.23): 2021-07-04 23:00:00(1625439600) UP\n",
      "2021-08-15 23:11:02.982517 BackTest: Bought: 35340.23\n",
      "2021-08-15 23:11:03.029785 ModelAgent(35415.34): 2021-07-04 23:30:00(1625441400) DOWN\n",
      "2021-08-15 23:11:03.030057 BackTest: SOLD >>>> Result: PROFIT 0.2125 total: 100.21253398746978\n",
      "2021-08-15 23:11:03.078310 ModelAgent(35255.0): 2021-07-05 00:00:00(1625443200) UP\n",
      "2021-08-15 23:11:03.078565 BackTest: Bought: 35255.0\n",
      "2021-08-15 23:11:03.120107 ModelAgent(34922.82): 2021-07-05 00:30:00(1625445000) UP\n",
      "2021-08-15 23:11:03.162544 ModelAgent(34898.82): 2021-07-05 01:00:00(1625446800) UP\n",
      "2021-08-15 23:11:03.207801 ModelAgent(34639.91): 2021-07-05 01:30:00(1625448600) UP\n",
      "2021-08-15 23:11:03.251943 ModelAgent(34560.8): 2021-07-05 02:00:00(1625450400) UP\n",
      "2021-08-15 23:11:03.293585 ModelAgent(34477.16): 2021-07-05 02:30:00(1625452200) UP\n",
      "2021-08-15 23:11:03.334898 ModelAgent(34430.21): 2021-07-05 03:00:00(1625454000) UP\n",
      "2021-08-15 23:11:03.371711 ModelAgent(34426.56): 2021-07-05 03:30:00(1625455800) DOWN\n",
      "2021-08-15 23:11:03.371882 BackTest: SOLD >>>> Result: LOSS -2.3499 total: 97.86268290251728\n",
      "2021-08-15 23:11:03.411162 ModelAgent(34363.72): 2021-07-05 04:00:00(1625457600) DOWN\n",
      "2021-08-15 23:11:03.449036 ModelAgent(34245.31): 2021-07-05 04:30:00(1625459400) DOWN\n",
      "2021-08-15 23:11:03.486663 ModelAgent(34199.5): 2021-07-05 05:00:00(1625461200) UP\n",
      "2021-08-15 23:11:03.487241 BackTest: Bought: 34199.5\n",
      "2021-08-15 23:11:03.527281 ModelAgent(34112.89): 2021-07-05 05:30:00(1625463000) DOWN\n",
      "2021-08-15 23:11:03.567164 ModelAgent(34344.29): 2021-07-05 06:00:00(1625464800) UP\n",
      "2021-08-15 23:11:03.567519 BackTest: Profit detected bid: 34344.29 ask: 34344.29\n",
      "2021-08-15 23:11:03.567576 BackTest: SOLD >>>> Result: PROFIT 0.4234 total: 98.2860516652185\n",
      "2021-08-15 23:11:03.604816 ModelAgent(34299.57): 2021-07-05 06:30:00(1625466600) UP\n",
      "2021-08-15 23:11:03.605101 BackTest: Bought: 34299.57\n",
      "2021-08-15 23:11:03.644313 ModelAgent(34295.01): 2021-07-05 07:00:00(1625468400) UP\n",
      "2021-08-15 23:11:03.697156 ModelAgent(34149.71): 2021-07-05 07:30:00(1625470200) DOWN\n",
      "2021-08-15 23:11:03.697392 BackTest: SOLD >>>> Result: LOSS -0.4369 total: 97.84913656686595\n",
      "2021-08-15 23:11:03.752141 ModelAgent(34269.56): 2021-07-05 08:00:00(1625472000) UP\n",
      "2021-08-15 23:11:03.752301 BackTest: Bought: 34269.56\n",
      "2021-08-15 23:11:03.797594 ModelAgent(34174.91): 2021-07-05 08:30:00(1625473800) UP\n",
      "2021-08-15 23:11:03.835557 ModelAgent(34256.42): 2021-07-05 09:00:00(1625475600) DOWN\n",
      "2021-08-15 23:11:03.835745 BackTest: SOLD >>>> Result: LOSS -0.0383 total: 97.81079350089136\n"
     ]
    }
   ],
   "source": [
    "agent_array.save_history = True\n",
    "for idx in range(len(price_list)):\n",
    "    price = price_list[idx]\n",
    "    time = time_list[idx]\n",
    "    order = [[f\"{price}\", f\"{price}\"]]\n",
    "    amount = 0.0\n",
    "    agent_array.process_data(price, amount, time, order, order)"
   ]
  },
  {
   "cell_type": "code",
   "execution_count": 27,
   "metadata": {},
   "outputs": [
    {
     "name": "stdout",
     "output_type": "stream",
     "text": [
      "-2.18921% -> 97.81079350089136\n",
      "Positive: 2 Negative: 3\n"
     ]
    }
   ],
   "source": [
    "back_array.on_down(back_array.buy_price, back_array.buy_price)\n",
    "back_array.report()"
   ]
  },
  {
   "cell_type": "code",
   "execution_count": 28,
   "metadata": {},
   "outputs": [
    {
     "name": "stdout",
     "output_type": "stream",
     "text": [
      "1625439600 - 35340.23 - True\n",
      "1625441400 - 35415.34 - False\n",
      "1625443200 - 35255.0 - True\n",
      "1625445000 - 34922.82 - True\n",
      "1625446800 - 34898.82 - True\n",
      "1625448600 - 34639.91 - True\n",
      "1625450400 - 34560.8 - True\n",
      "1625452200 - 34477.16 - True\n",
      "1625454000 - 34430.21 - True\n",
      "1625455800 - 34426.56 - False\n",
      "1625457600 - 34363.72 - False\n",
      "1625459400 - 34245.31 - False\n",
      "1625461200 - 34199.5 - True\n",
      "1625463000 - 34112.89 - False\n",
      "1625464800 - 34344.29 - True\n",
      "1625466600 - 34299.57 - True\n",
      "1625468400 - 34295.01 - True\n",
      "1625470200 - 34149.71 - False\n",
      "1625472000 - 34269.56 - True\n",
      "1625473800 - 34174.91 - True\n",
      "1625475600 - 34256.42 - False\n"
     ]
    }
   ],
   "source": [
    "agent_array.report()"
   ]
  },
  {
   "cell_type": "code",
   "execution_count": 29,
   "metadata": {},
   "outputs": [],
   "source": [
    "def eval_step_(model, train_set, step, provider, verbose = False):\n",
    "\n",
    "    valX, valY, times = provider.load_val_data(train_set)\n",
    "    \n",
    "    x, y, closed_prices = get_sequencial_data(valX, valY, step)\n",
    "    \n",
    "    preds = model.predict(valX)\n",
    "\n",
    "    metrics = {}\n",
    "    metrics[\"recall\"] = recall_score(y, preds)\n",
    "    metrics[\"precision\"] = precision_score(y, preds)\n",
    "    metrics[\"f1\"] = f1_score(y, preds)\n",
    "    metrics[\"accuracy\"] = accuracy_score(y, preds)\n",
    "    metrics[\"roc_auc\"] = roc_auc_score(y, preds)\n",
    "    \n",
    "    back = BackTest(value = 100, \n",
    "                    verbose = verbose, \n",
    "                    sell_on_profit = False,\n",
    "                    pending_sell_steps = step)\n",
    "    \n",
    "    back = backtest_model(model, valX, valY, back)\n",
    "    \n",
    "    get_charts(valY)\n",
    "    \n",
    "    return back, metrics\n",
    "    "
   ]
  },
  {
   "cell_type": "code",
   "execution_count": 30,
   "metadata": {
    "scrolled": true
   },
   "outputs": [
    {
     "data": {
      "image/png": "[encoded data removed]",
      "text/plain": [
       "<Figure size 432x288 with 1 Axes>"
      ]
     },
     "metadata": {
      "needs_background": "light"
     },
     "output_type": "display_data"
    }
   ],
   "source": [
    "back, metrics = eval_step_(model, currency, step, online, verbose = False)"
   ]
  },
  {
   "cell_type": "code",
   "execution_count": 31,
   "metadata": {},
   "outputs": [
    {
     "name": "stdout",
     "output_type": "stream",
     "text": [
      "{'recall': 0.2, 'precision': 0.07692307692307693, 'f1': 0.1111111111111111, 'accuracy': 0.2727272727272727, 'roc_auc': 0.24705882352941172}\n",
      "-3.2558% -> 96.74419809280852\n",
      "Positive: 1 Negative: 4\n"
     ]
    }
   ],
   "source": [
    "print(metrics)\n",
    "back.report()"
   ]
  },
  {
   "cell_type": "code",
   "execution_count": null,
   "metadata": {},
   "outputs": [],
   "source": []
  },
  {
   "cell_type": "code",
   "execution_count": null,
   "metadata": {},
   "outputs": [],
   "source": []
  }
 ],
 "metadata": {
  "kernelspec": {
   "display_name": "Python 3",
   "language": "python",
   "name": "python3"
  },
  "language_info": {
   "codemirror_mode": {
    "name": "ipython",
    "version": 3
   },
   "file_extension": ".py",
   "mimetype": "text/x-python",
   "name": "python",
   "nbconvert_exporter": "python",
   "pygments_lexer": "ipython3",
   "version": "3.9.5"
  }
 },
 "nbformat": 4,
 "nbformat_minor": 4
}
