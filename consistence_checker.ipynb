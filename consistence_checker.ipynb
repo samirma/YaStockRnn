{
 "cells": [
  {
   "cell_type": "code",
   "execution_count": 1,
   "metadata": {
    "scrolled": true
   },
   "outputs": [],
   "source": [
    "import pandas as pd\n",
    "import data_util\n",
    "from tqdm import tqdm_notebook as tqdm\n",
    "from data_generator import DataGenerator\n",
    "from state_util import StateUtil\n",
    "from tec_an import TecAn\n",
    "from data_agent import *\n",
    "import numpy as np\n",
    "from data_util import *\n",
    "import tensorflow as tf\n",
    "from sklearn_model_hyper import *\n",
    "import pandas as pd\n",
    "from stock_agent import *\n",
    "from backtest import *\n",
    "from joblib import dump, load\n",
    "from datetime import datetime, timedelta\n",
    "from tec_an import *\n",
    "from bitstamp import *\n",
    "from process_live_trade import *\n",
    "from model_winner_select import *\n",
    "from eval_model import *\n",
    "from cache_providers import *\n",
    "\n",
    "base_dir = \"data/\""
   ]
  },
  {
   "cell_type": "code",
   "execution_count": 2,
   "metadata": {},
   "outputs": [],
   "source": [
    "currency = \"btcusd\"\n",
    "\n",
    "full_data = base_dir + \"backtest/\"\n",
    "full_data = base_dir + \"4jul21/\"\n",
    "#full_data = base_dir + \"btcusd/\"\n",
    "data_gen = DataGenerator(random = False, base_dir = full_data)\n",
    "data_gen.rewind()\n",
    "data_count = (data_gen.steps - 100)\n",
    "#data_count = 200000\n",
    "raw = data_gen.next()\n",
    "\n",
    "minute = 30\n",
    "\n",
    "hot_load = True"
   ]
  },
  {
   "cell_type": "code",
   "execution_count": 3,
   "metadata": {},
   "outputs": [],
   "source": [
    "path = \"model/\"\n",
    "files = os.listdir(path)\n",
    "models = []\n",
    "for file in files:\n",
    "    models.append(f\"{path}{file}\")\n",
    "\n",
    "models = ['model/rand']\n",
    "#models = ['model/quadra']\n",
    "    \n",
    "val_start = int(raw['timestamp'])"
   ]
  },
  {
   "cell_type": "code",
   "execution_count": null,
   "metadata": {},
   "outputs": [],
   "source": []
  },
  {
   "cell_type": "code",
   "execution_count": null,
   "metadata": {},
   "outputs": [],
   "source": []
  },
  {
   "cell_type": "code",
   "execution_count": 4,
   "metadata": {
    "scrolled": true
   },
   "outputs": [
    {
     "name": "stdout",
     "output_type": "stream",
     "text": [
      "model/rand - 200\n",
      "Pre selected: 109\n"
     ]
    },
    {
     "name": "stderr",
     "output_type": "stream",
     "text": [
      "  2%|▏         | 2/109 [00:15<13:46,  7.72s/it]"
     ]
    },
    {
     "name": "stdout",
     "output_type": "stream",
     "text": [
      "[1625401800, 1625403600, 1625405400, 1625407200, 1625409000, 1625410800, 1625412600, 1625414400, 1625416200, 1625418000]\n",
      "[1625401800 1625403600 1625405400 1625407200 1625409000 1625410800\n",
      " 1625412600 1625414400 1625416200 1625418000]\n"
     ]
    },
    {
     "name": "stderr",
     "output_type": "stream",
     "text": [
      "\r",
      "  3%|▎         | 3/109 [00:29<18:39, 10.56s/it]"
     ]
    },
    {
     "name": "stdout",
     "output_type": "stream",
     "text": [
      "[1625401800, 1625403600, 1625405400, 1625407200, 1625409000, 1625410800, 1625412600, 1625414400, 1625416200, 1625418000]\n",
      "[1625401800 1625403600 1625405400 1625407200 1625409000 1625410800\n",
      " 1625412600 1625414400 1625416200 1625418000]\n"
     ]
    },
    {
     "name": "stderr",
     "output_type": "stream",
     "text": [
      "\r",
      " 16%|█▌        | 17/109 [00:44<03:12,  2.09s/it]"
     ]
    },
    {
     "name": "stdout",
     "output_type": "stream",
     "text": [
      "[1625401800, 1625403600, 1625405400, 1625407200, 1625409000, 1625410800, 1625412600, 1625414400, 1625416200, 1625418000]\n",
      "[1625401800 1625403600 1625405400 1625407200 1625409000 1625410800\n",
      " 1625412600 1625414400 1625416200 1625418000]\n"
     ]
    },
    {
     "name": "stderr",
     "output_type": "stream",
     "text": [
      "\r",
      " 17%|█▋        | 18/109 [00:53<03:59,  2.63s/it]"
     ]
    },
    {
     "name": "stdout",
     "output_type": "stream",
     "text": [
      "[1625401800, 1625403600, 1625405400, 1625407200, 1625409000, 1625410800, 1625412600, 1625414400, 1625416200, 1625418000]\n",
      "[1625401800 1625403600 1625405400 1625407200 1625409000 1625410800\n",
      " 1625412600 1625414400 1625416200 1625418000]\n"
     ]
    },
    {
     "name": "stderr",
     "output_type": "stream",
     "text": [
      "\r",
      " 17%|█▋        | 19/109 [01:02<04:52,  3.25s/it]"
     ]
    },
    {
     "name": "stdout",
     "output_type": "stream",
     "text": [
      "[1625401800, 1625403600, 1625405400, 1625407200, 1625409000, 1625410800, 1625412600, 1625414400, 1625416200, 1625418000]\n",
      "[1625401800 1625403600 1625405400 1625407200 1625409000 1625410800\n",
      " 1625412600 1625414400 1625416200 1625418000]\n"
     ]
    },
    {
     "name": "stderr",
     "output_type": "stream",
     "text": [
      "\r",
      " 26%|██▌       | 28/109 [01:10<02:33,  1.90s/it]"
     ]
    },
    {
     "name": "stdout",
     "output_type": "stream",
     "text": [
      "[1625401800, 1625403600, 1625405400, 1625407200, 1625409000, 1625410800, 1625412600, 1625414400, 1625416200, 1625418000]\n",
      "[1625401800 1625403600 1625405400 1625407200 1625409000 1625410800\n",
      " 1625412600 1625414400 1625416200 1625418000]\n"
     ]
    },
    {
     "name": "stderr",
     "output_type": "stream",
     "text": [
      "\r",
      " 28%|██▊       | 30/109 [01:18<02:55,  2.22s/it]"
     ]
    },
    {
     "name": "stdout",
     "output_type": "stream",
     "text": [
      "[1625401800, 1625403600, 1625405400, 1625407200, 1625409000, 1625410800, 1625412600, 1625414400, 1625416200, 1625418000]\n",
      "[1625401800 1625403600 1625405400 1625407200 1625409000 1625410800\n",
      " 1625412600 1625414400 1625416200 1625418000]\n"
     ]
    },
    {
     "name": "stderr",
     "output_type": "stream",
     "text": [
      "\r",
      " 30%|███       | 33/109 [01:26<02:58,  2.34s/it]"
     ]
    },
    {
     "name": "stdout",
     "output_type": "stream",
     "text": [
      "[1625401800, 1625403600, 1625405400, 1625407200, 1625409000, 1625410800, 1625412600, 1625414400, 1625416200, 1625418000]\n",
      "[1625401800 1625403600 1625405400 1625407200 1625409000 1625410800\n",
      " 1625412600 1625414400 1625416200 1625418000]\n"
     ]
    },
    {
     "name": "stderr",
     "output_type": "stream",
     "text": [
      "\r",
      " 35%|███▍      | 38/109 [01:40<02:59,  2.53s/it]"
     ]
    },
    {
     "name": "stdout",
     "output_type": "stream",
     "text": [
      "[1625401800, 1625403600, 1625405400, 1625407200, 1625409000, 1625410800, 1625412600, 1625414400, 1625416200, 1625418000]\n",
      "[1625401800 1625403600 1625405400 1625407200 1625409000 1625410800\n",
      " 1625412600 1625414400 1625416200 1625418000]\n"
     ]
    },
    {
     "name": "stderr",
     "output_type": "stream",
     "text": [
      "\r",
      " 38%|███▊      | 41/109 [01:48<02:55,  2.58s/it]"
     ]
    },
    {
     "name": "stdout",
     "output_type": "stream",
     "text": [
      "[1625401800, 1625403600, 1625405400, 1625407200, 1625409000, 1625410800, 1625412600, 1625414400, 1625416200, 1625418000]\n",
      "[1625401800 1625403600 1625405400 1625407200 1625409000 1625410800\n",
      " 1625412600 1625414400 1625416200 1625418000]\n"
     ]
    },
    {
     "name": "stderr",
     "output_type": "stream",
     "text": [
      "\r",
      " 42%|████▏     | 46/109 [01:56<02:19,  2.22s/it]"
     ]
    },
    {
     "name": "stdout",
     "output_type": "stream",
     "text": [
      "[1625401800, 1625403600, 1625405400, 1625407200, 1625409000, 1625410800, 1625412600, 1625414400, 1625416200, 1625418000]\n",
      "[1625401800 1625403600 1625405400 1625407200 1625409000 1625410800\n",
      " 1625412600 1625414400 1625416200 1625418000]\n"
     ]
    },
    {
     "name": "stderr",
     "output_type": "stream",
     "text": [
      "\r",
      " 47%|████▋     | 51/109 [02:04<01:55,  1.99s/it]"
     ]
    },
    {
     "name": "stdout",
     "output_type": "stream",
     "text": [
      "[1625401800, 1625403600, 1625405400, 1625407200, 1625409000, 1625410800, 1625412600, 1625414400, 1625416200, 1625418000]\n",
      "[1625401800 1625403600 1625405400 1625407200 1625409000 1625410800\n",
      " 1625412600 1625414400 1625416200 1625418000]\n"
     ]
    },
    {
     "name": "stderr",
     "output_type": "stream",
     "text": [
      "100%|██████████| 109/109 [02:12<00:00,  1.21s/it]"
     ]
    },
    {
     "name": "stdout",
     "output_type": "stream",
     "text": [
      "[1625401800, 1625403600, 1625405400, 1625407200, 1625409000, 1625410800, 1625412600, 1625414400, 1625416200, 1625418000]\n",
      "[1625401800 1625403600 1625405400 1625407200 1625409000 1625410800\n",
      " 1625412600 1625414400 1625416200 1625418000]\n",
      "Selected: 13\n",
      "Pipeline(steps=[('normalizer', Normalizer()),\n",
      "                ('randomforestclassifier',\n",
      "                 RandomForestClassifier(bootstrap=False, criterion='entropy',\n",
      "                                        max_features=0.1, random_state=42))])\n",
      "btcusd -> 100.33378527523628 | 2 - 0\n",
      "{'recall': 0.42833052276559863, 'precision': 0.436426116838488, 'f1': 0.4323404255319149, 'accuracy': 0.5374479889042996}\n",
      "\n",
      "Pipeline(steps=[('normalizer', Normalizer()),\n",
      "                ('pipeline',\n",
      "                 Pipeline(steps=[('s',\n",
      "                                  RFE(estimator=ExtraTreesClassifier(max_features=0.3,\n",
      "                                                                     random_state=42),\n",
      "                                      step=0.7500000000000001)),\n",
      "                                 ('m',\n",
      "                                  RandomForestClassifier(bootstrap=False,\n",
      "                                                         criterion='entropy',\n",
      "                                                         max_features=0.1,\n",
      "                                                         random_state=42))]))])\n",
      "btcusd -> 100.40358468228311 | 3 - 1\n",
      "{'recall': 0.41989881956155145, 'precision': 0.4330434782608696, 'f1': 0.4263698630136986, 'accuracy': 0.5353675450762829}\n",
      "\n",
      "RandomForestClassifier(bootstrap=False, criterion='entropy', max_features=0.1,\n",
      "                       random_state=42)\n",
      "btcusd -> 101.81839284205087 | 6 - 1\n",
      "{'recall': 0.4502529510961214, 'precision': 0.4231378763866878, 'f1': 0.4362745098039216, 'accuracy': 0.521497919556172}\n",
      "\n",
      "Winner for ['btcusd']\n",
      "1.81839% -> 101.81839284205087\n",
      "Positive: 6 Negative: 1\n",
      "Minutes=30 Window=40 Step=1 | 103.5047554015294 {'btcusd': -0.07224489149258478, 'ethusd': 0.029833593772710457, 'ltcusd': 0.044700255777325434, 'ltcbtc': 0.057542033017422334}\n",
      "RandomForestClassifier(bootstrap=False, criterion='entropy', max_features=0.1,\n",
      "                       random_state=42)\n",
      "\n"
     ]
    },
    {
     "name": "stderr",
     "output_type": "stream",
     "text": [
      "\n"
     ]
    }
   ],
   "source": [
    "winner = get_best_model(\n",
    "    minutes_list=[minute],\n",
    "    result_paths=models,\n",
    "    currency_list=[currency],\n",
    "    timestamp = val_start,\n",
    "    winner_path = None\n",
    ")"
   ]
  },
  {
   "cell_type": "code",
   "execution_count": 5,
   "metadata": {},
   "outputs": [
    {
     "name": "stdout",
     "output_type": "stream",
     "text": [
      "Minutes=30 Window=40 Step=1 | 103.5047554015294\n",
      "RandomForestClassifier(bootstrap=False, criterion='entropy', max_features=0.1,\n",
      "                       random_state=42)\n"
     ]
    }
   ],
   "source": [
    "result = winner\n",
    "if (winner == None):\n",
    "    result = results[-1]\n",
    "model = result['model']\n",
    "windows = result['window']\n",
    "minutes = result['minutes']\n",
    "step = result['step']\n",
    "profit = result['profit']\n",
    "print(f\"Minutes={minutes} Window={windows} Step={step} | {profit}\")\n",
    "print(f\"{model}\")\n"
   ]
  },
  {
   "cell_type": "code",
   "execution_count": null,
   "metadata": {},
   "outputs": [],
   "source": []
  },
  {
   "cell_type": "code",
   "execution_count": null,
   "metadata": {},
   "outputs": [],
   "source": []
  },
  {
   "cell_type": "code",
   "execution_count": null,
   "metadata": {},
   "outputs": [],
   "source": []
  },
  {
   "cell_type": "code",
   "execution_count": 6,
   "metadata": {},
   "outputs": [],
   "source": [
    "import numpy as np\n",
    "import matplotlib.pyplot as plt\n",
    "def get_charts(stock_data):\n",
    "    fig = plt.figure()\n",
    "    ax = plt.axes()\n",
    "    x = stock_data\n",
    "    plt.plot(x, linewidth=1)\n",
    "    #plt.grid(b=True, color='aqua', alpha=0.3, linestyle='-.', linewidth=2)\n",
    "    plt.show()\n"
   ]
  },
  {
   "cell_type": "code",
   "execution_count": null,
   "metadata": {},
   "outputs": [],
   "source": []
  },
  {
   "cell_type": "code",
   "execution_count": 7,
   "metadata": {},
   "outputs": [],
   "source": [
    "\n",
    "on_raw_data = lambda raw: print(raw)\n",
    "\n",
    "data_gen.rewind()\n",
    "\n",
    "first = data_gen.next()"
   ]
  },
  {
   "cell_type": "code",
   "execution_count": 8,
   "metadata": {},
   "outputs": [],
   "source": [
    "agent_reference, back_reference, stock_reference = get_agent(minutes = minutes,\n",
    "                                win = windows,\n",
    "                                step = step,\n",
    "                                currency = currency,\n",
    "                                hot_load = hot_load,\n",
    "                                model = model,\n",
    "                                timestamp = int(first['timestamp']),\n",
    "                                simulate_on_price = True,\n",
    "                                verbose = False)\n",
    "prices = []\n",
    "agent_reference.on_closed_price = lambda price: prices.append(price)\n",
    "#agent.ohlc['open'].plot()"
   ]
  },
  {
   "cell_type": "code",
   "execution_count": 9,
   "metadata": {
    "scrolled": true
   },
   "outputs": [
    {
     "data": {
      "application/vnd.jupyter.widget-view+json": {
       "model_id": "4e10cd148dde416c92bda782520d3f97",
       "version_major": 2,
       "version_minor": 0
      },
      "text/plain": [
       "  0%|          | 0/301794 [00:00<?, ?it/s]"
      ]
     },
     "metadata": {},
     "output_type": "display_data"
    }
   ],
   "source": [
    "data_gen.rewind()\n",
    "\n",
    "\n",
    "reference_list = []\n",
    "#data_count\n",
    "for i in tqdm(range(data_count)):\n",
    "    raw = data_gen.next()\n",
    "    price = raw[PRICE_KEY]\n",
    "    amount = raw[AMOUNT_KEY]\n",
    "    timestamp = raw[TIMESTAMP_KEY]\n",
    "    timestamp_pd = pd.to_datetime(timestamp, unit='s')\n",
    "    reference_list.append([timestamp_pd, price])\n"
   ]
  },
  {
   "cell_type": "code",
   "execution_count": 10,
   "metadata": {},
   "outputs": [],
   "source": [
    "DATE = 'Date'\n",
    "df = pd.DataFrame(agent_reference.list, columns = [DATE, CLOSE])\n",
    "df = df.set_index(pd.DatetimeIndex(df[DATE]))"
   ]
  },
  {
   "cell_type": "code",
   "execution_count": 11,
   "metadata": {
    "scrolled": true
   },
   "outputs": [
    {
     "name": "stdout",
     "output_type": "stream",
     "text": [
      "All data reference\n"
     ]
    }
   ],
   "source": [
    "time = df[CLOSE].resample(agent_reference.resample)\n",
    "ohlc = time.ohlc()\n",
    "print(\"All data reference\")\n",
    "#ohlc.plot()\n",
    "#ohlc"
   ]
  },
  {
   "cell_type": "code",
   "execution_count": 12,
   "metadata": {},
   "outputs": [],
   "source": [
    "cache = CacheProvider([currency],  verbose = True)\n"
   ]
  },
  {
   "cell_type": "code",
   "execution_count": 13,
   "metadata": {},
   "outputs": [
    {
     "name": "stdout",
     "output_type": "stream",
     "text": [
      "2021-08-21 01:08:02.466617 CacheProvider: Added: 30-40\n",
      "[1625437800, 1625439600, 1625441400, 1625443200, 1625445000, 1625446800, 1625448600, 1625450400, 1625452200, 1625454000]\n",
      "[1625437800 1625439600 1625441400 1625443200 1625445000 1625446800\n",
      " 1625448600 1625450400 1625452200 1625454000]\n"
     ]
    },
    {
     "data": {
      "text/plain": [
       "(<stock_agent.BackTest at 0x7fbac368be20>,\n",
       " {'recall': 1.0,\n",
       "  'precision': 0.23529411764705882,\n",
       "  'f1': 0.38095238095238093,\n",
       "  'accuracy': 0.4090909090909091,\n",
       "  'roc_auc': 0.6388888888888888})"
      ]
     },
     "execution_count": 13,
     "metadata": {},
     "output_type": "execute_result"
    }
   ],
   "source": [
    "\n",
    "online = cache.get_provider(minutes, windows, int(first['timestamp']), int(raw['timestamp']))\n",
    "\n",
    "eval_model(\n",
    "    model = model, \n",
    "    currency = currency, \n",
    "    step = step,\n",
    "    verbose = False, \n",
    "    provider = online,\n",
    "    hot_load_total = 100,\n",
    "    cache = CacheProvider(currency_list = [currency], verbose=False)\n",
    "    )"
   ]
  },
  {
   "cell_type": "code",
   "execution_count": 14,
   "metadata": {},
   "outputs": [
    {
     "data": {
      "text/plain": [
       "[Timestamp('2021-07-04 22:49:41'), 35330.0]"
      ]
     },
     "execution_count": 14,
     "metadata": {},
     "output_type": "execute_result"
    }
   ],
   "source": [
    "reference_list[0]"
   ]
  },
  {
   "cell_type": "code",
   "execution_count": 15,
   "metadata": {},
   "outputs": [
    {
     "name": "stdout",
     "output_type": "stream",
     "text": [
      "###### Past report(201): 2021-06-30 18:00:00(1625076000) - 2021-07-04 22:00:00(1625436000) ######\n",
      "2.24684% -> 102.24683675801671\n",
      "Positive: 31 Negative: 8\n",
      "###### - ######\n"
     ]
    }
   ],
   "source": [
    "agent_raw, back_raw, stock_raw = get_agent(minutes = minutes,\n",
    "                                win = windows,\n",
    "                                step = step,\n",
    "                                currency = currency,\n",
    "                                hot_load = hot_load,\n",
    "                                model = model,\n",
    "                                verbose = True,\n",
    "                                timestamp = int(first['timestamp']),\n",
    "                                simulate_on_price = True)\n",
    "prices = []"
   ]
  },
  {
   "cell_type": "code",
   "execution_count": 16,
   "metadata": {},
   "outputs": [
    {
     "data": {
      "text/plain": [
       "[]"
      ]
     },
     "execution_count": 16,
     "metadata": {},
     "output_type": "execute_result"
    }
   ],
   "source": [
    "agent_raw.history"
   ]
  },
  {
   "cell_type": "code",
   "execution_count": 17,
   "metadata": {
    "scrolled": true
   },
   "outputs": [
    {
     "name": "stdout",
     "output_type": "stream",
     "text": [
      "2021-08-21 01:08:29.126856 ModelAgent(35330.0): 2021-07-04 22:49:41(1625438981) UP\n",
      "2021-08-21 01:08:29.127014 BackTest: Bought: 35330.0\n",
      "2021-08-21 01:08:30.594315 ModelAgent(35340.23): 2021-07-04 23:00:04(1625439604) DOWN\n",
      "2021-08-21 01:08:30.594493 BackTest: SOLD >>>> Result: PROFIT 0.029 total: 100.02895556184546\n",
      "2021-08-21 01:08:34.890156 ModelAgent(35415.34): 2021-07-04 23:30:08(1625441408) DOWN\n",
      "2021-08-21 01:08:38.723582 ModelAgent(35247.7): 2021-07-05 00:00:17(1625443217) DOWN\n",
      "2021-08-21 01:08:43.157503 ModelAgent(34922.82): 2021-07-05 00:30:08(1625445008) UP\n",
      "2021-08-21 01:08:43.157732 BackTest: Bought: 34922.82\n",
      "2021-08-21 01:08:47.084648 ModelAgent(34898.82): 2021-07-05 01:00:40(1625446840) DOWN\n",
      "2021-08-21 01:08:47.084904 BackTest: SOLD >>>> Result: LOSS -0.0687 total: 99.96023258930202\n",
      "2021-08-21 01:08:50.878619 ModelAgent(34639.91): 2021-07-05 01:30:15(1625448615) DOWN\n",
      "2021-08-21 01:08:55.227570 ModelAgent(34560.8): 2021-07-05 02:00:08(1625450408) DOWN\n",
      "2021-08-21 01:08:59.385312 ModelAgent(34477.16): 2021-07-05 02:30:40(1625452240) UP\n",
      "2021-08-21 01:08:59.385492 BackTest: Bought: 34477.16\n",
      "2021-08-21 01:09:03.115476 ModelAgent(34430.21): 2021-07-05 03:00:02(1625454002) UP\n",
      "2021-08-21 01:09:07.057346 ModelAgent(34426.56): 2021-07-05 03:30:06(1625455806) UP\n",
      "2021-08-21 01:09:11.263952 ModelAgent(34363.72): 2021-07-05 04:00:01(1625457601) UP\n",
      "2021-08-21 01:09:15.755547 ModelAgent(34245.31): 2021-07-05 04:30:23(1625459423) UP\n",
      "2021-08-21 01:09:19.837568 ModelAgent(34199.5): 2021-07-05 05:00:01(1625461201) UP\n",
      "2021-08-21 01:09:23.904015 ModelAgent(34112.89): 2021-07-05 05:30:01(1625463001) UP\n",
      "2021-08-21 01:09:28.515748 ModelAgent(34344.29): 2021-07-05 06:00:17(1625464817) UP\n",
      "2021-08-21 01:09:33.197649 ModelAgent(34299.57): 2021-07-05 06:30:30(1625466630) UP\n",
      "2021-08-21 01:09:36.959562 ModelAgent(34295.01): 2021-07-05 07:00:03(1625468403) UP\n",
      "2021-08-21 01:09:41.265730 ModelAgent(34154.96): 2021-07-05 07:30:02(1625470202) UP\n",
      "2021-08-21 01:09:44.761863 ModelAgent(34269.56): 2021-07-05 08:00:01(1625472001) UP\n",
      "2021-08-21 01:09:48.820820 ModelAgent(34174.91): 2021-07-05 08:30:11(1625473811) UP\n"
     ]
    }
   ],
   "source": [
    "data_gen.rewind()\n",
    "agent_raw.save_history = True\n",
    "stock_raw.verbose = True\n",
    "#data_count\n",
    "for i in range(data_count):\n",
    "    raw = data_gen.next()\n",
    "    agent_raw.on_new_raw_data(raw)"
   ]
  },
  {
   "cell_type": "code",
   "execution_count": null,
   "metadata": {},
   "outputs": [],
   "source": []
  },
  {
   "cell_type": "code",
   "execution_count": 18,
   "metadata": {},
   "outputs": [
    {
     "name": "stdout",
     "output_type": "stream",
     "text": [
      "2021-07-04 22:49:41(1625438981) -> 2021-07-05 08:50:02(1625475002)\n"
     ]
    }
   ],
   "source": [
    "val_start = int(first['timestamp'])\n",
    "val_end = int(raw['timestamp'])\n",
    "\n",
    "start_string = pd.to_datetime(val_start, unit='s')\n",
    "end_string = pd.to_datetime(val_end, unit='s')\n",
    "\n",
    "print(f\"{start_string}({val_start}) -> {end_string}({val_end})\")"
   ]
  },
  {
   "cell_type": "code",
   "execution_count": 19,
   "metadata": {},
   "outputs": [
    {
     "name": "stdout",
     "output_type": "stream",
     "text": [
      "2021-08-21 01:09:51.332323 BackTest: SOLD >>>> Result: LOSS 0.0 total: 99.96023258930202\n",
      "-0.03977% -> 99.96023258930202\n",
      "Positive: 1 Negative: 2\n"
     ]
    }
   ],
   "source": [
    "back_raw.on_down(back_raw.buy_price, back_raw.buy_price)\n",
    "back_raw.report()"
   ]
  },
  {
   "cell_type": "code",
   "execution_count": 20,
   "metadata": {},
   "outputs": [
    {
     "data": {
      "text/plain": [
       "<AxesSubplot:xlabel='Date'>"
      ]
     },
     "execution_count": 20,
     "metadata": {},
     "output_type": "execute_result"
    },
    {
     "data": {
      "image/png": "[encoded data removed]",
      "text/plain": [
       "<Figure size 432x288 with 1 Axes>"
      ]
     },
     "metadata": {
      "needs_background": "light"
     },
     "output_type": "display_data"
    }
   ],
   "source": [
    "agent_raw.ohlc[-50:][\"open\"].plot()\n",
    "#agent.ohlc[1:]"
   ]
  },
  {
   "cell_type": "code",
   "execution_count": null,
   "metadata": {},
   "outputs": [],
   "source": []
  },
  {
   "cell_type": "code",
   "execution_count": 23,
   "metadata": {},
   "outputs": [],
   "source": [
    "x_list, price_list, time_list = online.load_val_data(currency)"
   ]
  },
  {
   "cell_type": "code",
   "execution_count": 24,
   "metadata": {},
   "outputs": [
    {
     "data": {
      "image/png": "[encoded data removed]",
      "text/plain": [
       "<Figure size 432x288 with 1 Axes>"
      ]
     },
     "metadata": {
      "needs_background": "light"
     },
     "output_type": "display_data"
    },
    {
     "name": "stdout",
     "output_type": "stream",
     "text": [
      "22\n"
     ]
    }
   ],
   "source": [
    "get_charts(price_list)\n",
    "print(len(price_list))"
   ]
  },
  {
   "cell_type": "code",
   "execution_count": 30,
   "metadata": {},
   "outputs": [],
   "source": [
    "agent_array, back_array, stock_array = get_agent(minutes = minutes,\n",
    "                                win = windows,\n",
    "                                step = step,\n",
    "                                currency = currency,\n",
    "                                hot_load = hot_load,\n",
    "                                model = model,\n",
    "                                timestamp = int(first['timestamp']),\n",
    "                                simulate_on_price = True,\n",
    "                                verbose = False)"
   ]
  },
  {
   "cell_type": "code",
   "execution_count": 31,
   "metadata": {
    "scrolled": true
   },
   "outputs": [
    {
     "name": "stdout",
     "output_type": "stream",
     "text": [
      "2021-08-21 01:14:23.965120 ModelAgent(35655.0): 2021-07-04 22:30:00(1625437800) DOWN\n",
      "2021-08-21 01:14:24.004676 ModelAgent(35340.23): 2021-07-04 23:00:00(1625439600) UP\n",
      "2021-08-21 01:14:24.005021 BackTest: Bought: 35340.23\n",
      "2021-08-21 01:14:24.049217 ModelAgent(35415.34): 2021-07-04 23:30:00(1625441400) DOWN\n",
      "2021-08-21 01:14:24.049454 BackTest: SOLD >>>> Result: PROFIT 0.2125 total: 100.21253398746978\n",
      "2021-08-21 01:14:24.086682 ModelAgent(35255.0): 2021-07-05 00:00:00(1625443200) DOWN\n",
      "2021-08-21 01:14:24.122664 ModelAgent(34922.82): 2021-07-05 00:30:00(1625445000) UP\n",
      "2021-08-21 01:14:24.122826 BackTest: Bought: 34922.82\n",
      "2021-08-21 01:14:24.160424 ModelAgent(34898.82): 2021-07-05 01:00:00(1625446800) DOWN\n",
      "2021-08-21 01:14:24.160613 BackTest: SOLD >>>> Result: LOSS -0.0687 total: 100.14381101492634\n",
      "2021-08-21 01:14:24.196631 ModelAgent(34639.91): 2021-07-05 01:30:00(1625448600) DOWN\n",
      "2021-08-21 01:14:24.234071 ModelAgent(34560.8): 2021-07-05 02:00:00(1625450400) UP\n",
      "2021-08-21 01:14:24.234189 BackTest: Bought: 34560.8\n",
      "2021-08-21 01:14:24.271186 ModelAgent(34477.16): 2021-07-05 02:30:00(1625452200) UP\n",
      "2021-08-21 01:14:24.313292 ModelAgent(34430.21): 2021-07-05 03:00:00(1625454000) UP\n",
      "2021-08-21 01:14:24.348090 ModelAgent(34426.56): 2021-07-05 03:30:00(1625455800) UP\n",
      "2021-08-21 01:14:24.383875 ModelAgent(34363.72): 2021-07-05 04:00:00(1625457600) UP\n",
      "2021-08-21 01:14:24.419095 ModelAgent(34245.31): 2021-07-05 04:30:00(1625459400) UP\n",
      "2021-08-21 01:14:24.455028 ModelAgent(34199.5): 2021-07-05 05:00:00(1625461200) UP\n",
      "2021-08-21 01:14:24.490778 ModelAgent(34112.89): 2021-07-05 05:30:00(1625463000) UP\n",
      "2021-08-21 01:14:24.529989 ModelAgent(34344.29): 2021-07-05 06:00:00(1625464800) UP\n",
      "2021-08-21 01:14:24.571165 ModelAgent(34299.57): 2021-07-05 06:30:00(1625466600) UP\n",
      "2021-08-21 01:14:24.608752 ModelAgent(34295.01): 2021-07-05 07:00:00(1625468400) UP\n",
      "2021-08-21 01:14:24.644587 ModelAgent(34149.71): 2021-07-05 07:30:00(1625470200) UP\n",
      "2021-08-21 01:14:24.680356 ModelAgent(34269.56): 2021-07-05 08:00:00(1625472000) UP\n",
      "2021-08-21 01:14:24.716877 ModelAgent(34174.91): 2021-07-05 08:30:00(1625473800) UP\n",
      "2021-08-21 01:14:24.754843 ModelAgent(34256.42): 2021-07-05 09:00:00(1625475600) UP\n"
     ]
    }
   ],
   "source": [
    "agent_array.save_history = True\n",
    "stock_array.verbose = True\n",
    "for idx in range(len(price_list)):\n",
    "    price = price_list[idx]\n",
    "    time = time_list[idx]\n",
    "    order = [[f\"{price}\", f\"{price}\"]]\n",
    "    amount = 0.0\n",
    "    agent_array.process_data(price, amount, time, order, order)"
   ]
  },
  {
   "cell_type": "code",
   "execution_count": 32,
   "metadata": {},
   "outputs": [
    {
     "name": "stdout",
     "output_type": "stream",
     "text": [
      "2021-08-21 01:14:24.761661 BackTest: SOLD >>>> Result: LOSS 0.0 total: 100.14381101492634\n",
      "0.14381% -> 100.14381101492634\n",
      "Positive: 1 Negative: 2\n"
     ]
    }
   ],
   "source": [
    "back_array.on_down(back_array.buy_price, back_array.buy_price)\n",
    "back_array.report()"
   ]
  },
  {
   "cell_type": "code",
   "execution_count": null,
   "metadata": {},
   "outputs": [],
   "source": []
  },
  {
   "cell_type": "code",
   "execution_count": null,
   "metadata": {},
   "outputs": [],
   "source": [
    "def eval_step_(model, train_set, step, provider, verbose = False):\n",
    "\n",
    "    valX, valY, times = provider.load_val_data(train_set)\n",
    "    \n",
    "    x, y, closed_prices = get_sequencial_data(valX, valY, step)\n",
    "    \n",
    "    history = []\n",
    "    \n",
    "    preds = model.predict(np.array(x))\n",
    "    \n",
    "    #for idx in range(len(x)):\n",
    "    #    print(f\"{times[idx]} -> {closed_prices[idx]} {y[idx]} \")\n",
    "\n",
    "    metrics = {}\n",
    "    metrics[\"recall\"] = recall_score(y, preds)\n",
    "    metrics[\"precision\"] = precision_score(y, preds)\n",
    "    metrics[\"f1\"] = f1_score(y, preds)\n",
    "    metrics[\"accuracy\"] = accuracy_score(y, preds)\n",
    "    metrics[\"roc_auc\"] = roc_auc_score(y, preds)\n",
    "    \n",
    "    back = BackTest(value = 100, \n",
    "                    verbose = True, \n",
    "                    sell_on_profit = True,\n",
    "                    pending_sell_steps = step)\n",
    "    \n",
    "    back = backtest_model(model, valX, valY, back)\n",
    "    \n",
    "    for idx in range(len(times)):\n",
    "        timestamp = times[idx]\n",
    "        price = closed_prices[idx]\n",
    "        y = model.predict([valX[idx]])\n",
    "        is_up = False\n",
    "        if (y[0] > 0.5):\n",
    "            is_up = True\n",
    "        history.append((timestamp, price, x, is_up))\n",
    "    \n",
    "    get_charts(valY)\n",
    "\n",
    "    \n",
    "    return back, metrics, history\n",
    "    "
   ]
  },
  {
   "cell_type": "code",
   "execution_count": null,
   "metadata": {
    "scrolled": true
   },
   "outputs": [],
   "source": [
    "back_eval, metr, history = eval_step_(model, currency, step, online, verbose = False)\n",
    "back_eval.on_down(back_eval.buy_price, back_eval.buy_price)\n",
    "back_eval.report()"
   ]
  },
  {
   "cell_type": "code",
   "execution_count": null,
   "metadata": {},
   "outputs": [],
   "source": [
    "for data in history:\n",
    "    print(f\"{data[0]} - {data[1]} - {data[3]}\")"
   ]
  },
  {
   "cell_type": "code",
   "execution_count": null,
   "metadata": {},
   "outputs": [],
   "source": [
    "print(metrics)\n"
   ]
  },
  {
   "cell_type": "code",
   "execution_count": null,
   "metadata": {},
   "outputs": [],
   "source": [
    "back_raw.report()\n",
    "#-1.78465% -> 98.21535030676218"
   ]
  },
  {
   "cell_type": "code",
   "execution_count": null,
   "metadata": {},
   "outputs": [],
   "source": [
    "back_array.report()\n",
    "#-1.89717% -> 98.10282664807247"
   ]
  },
  {
   "cell_type": "code",
   "execution_count": null,
   "metadata": {},
   "outputs": [],
   "source": []
  },
  {
   "cell_type": "code",
   "execution_count": null,
   "metadata": {},
   "outputs": [],
   "source": [
    "agent_raw.report()"
   ]
  },
  {
   "cell_type": "code",
   "execution_count": null,
   "metadata": {},
   "outputs": [],
   "source": [
    "agent_array.report()"
   ]
  },
  {
   "cell_type": "code",
   "execution_count": null,
   "metadata": {},
   "outputs": [],
   "source": []
  },
  {
   "cell_type": "code",
   "execution_count": null,
   "metadata": {},
   "outputs": [],
   "source": []
  }
 ],
 "metadata": {
  "kernelspec": {
   "display_name": "Python 3",
   "language": "python",
   "name": "python3"
  },
  "language_info": {
   "codemirror_mode": {
    "name": "ipython",
    "version": 3
   },
   "file_extension": ".py",
   "mimetype": "text/x-python",
   "name": "python",
   "nbconvert_exporter": "python",
   "pygments_lexer": "ipython3",
   "version": "3.9.5"
  }
 },
 "nbformat": 4,
 "nbformat_minor": 4
}
