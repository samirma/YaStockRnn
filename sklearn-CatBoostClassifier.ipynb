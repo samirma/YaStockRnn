{
 "cells": [
  {
   "cell_type": "code",
   "execution_count": 1,
   "metadata": {
    "colab": {
     "base_uri": "https://localhost:8080/",
     "height": 170
    },
    "colab_type": "code",
    "executionInfo": {
     "elapsed": 503083,
     "status": "ok",
     "timestamp": 1568068274112,
     "user": {
      "displayName": "Samir Moreira Antônio",
      "photoUrl": "https://lh3.googleusercontent.com/a-/AAuE7mCsh3ldsSLN0VnFRYp341EzO_UyuRNKmLncUbMA3Q=s64",
      "userId": "14581632111443153742"
     },
     "user_tz": -60
    },
    "id": "fGVQczSlF-9o",
    "outputId": "e3a06798-f737-48d9-ec6e-d3784cec3115"
   },
   "outputs": [],
   "source": [
    "import pandas as pd\n",
    "import data_util\n",
    "from tec_an import TecAn\n",
    "import numpy as np\n",
    "from data_util import *\n",
    "from bitstamp import *\n",
    "from sklearn_model_hyper import *\n",
    "from joblib import dump, load\n",
    "from data_generator import *\n",
    "from data_agent import *\n",
    "from stock_agent import *\n",
    "from backtest import *\n",
    "\n",
    "from sklearn.pipeline import make_pipeline\n",
    "from sklearn.preprocessing import StandardScaler, MinMaxScaler, Normalizer\n",
    "from sklearn.neural_network import MLPClassifier\n",
    "from sklearn.linear_model import LogisticRegression\n",
    "from sklearn.svm import SVC\n",
    "from sklearn.pipeline import make_pipeline\n",
    "from sklearn.pipeline import Pipeline\n",
    "from sklearn.tree import DecisionTreeClassifier\n",
    "from sklearn.ensemble import RandomForestClassifier\n",
    "\n",
    "import xgboost as xgb\n"
   ]
  },
  {
   "cell_type": "code",
   "execution_count": 2,
   "metadata": {},
   "outputs": [],
   "source": [
    "def get_online_data(minutes, source_data_generator, load_from_disk, file_prefix = \"\"):\n",
    "    \n",
    "    online = OnLineDataProvider(\n",
    "                 source_data_generator = source_data_generator,\n",
    "                 minutes = minutes,\n",
    "                 train_keys = [],\n",
    "                 train_limit = 1000,\n",
    "                 val_limit = 1000,\n",
    "                 val_keys = [\"btcusd\"],\n",
    "                 val_start = 1234,\n",
    "                 val_end = 1234,\n",
    "                 train_start_list = []\n",
    "    )\n",
    "\n",
    "    online_path = f'data/online{file_prefix}_{minutes}'\n",
    "    \n",
    "    if (load_from_disk):\n",
    "        online = load(online_path)    \n",
    "    else:\n",
    "        #online.load_train_cache()\n",
    "        online.load_cache()\n",
    "        online.sourceDataGenerator = None\n",
    "        dump(online, online_path)\n",
    "        \n",
    "    \n",
    "    return online"
   ]
  },
  {
   "cell_type": "code",
   "execution_count": 3,
   "metadata": {
    "scrolled": true
   },
   "outputs": [],
   "source": [
    "win = 40\n",
    "minus = 15\n",
    "step =  1\n",
    "\n",
    "tec = TecAn(windows = win, windows_limit = 100)\n",
    "sourceDataGenerator = SourceDataGenerator(tec = tec)\n",
    "online = get_online_data(minus, sourceDataGenerator, True, win)"
   ]
  },
  {
   "cell_type": "code",
   "execution_count": 4,
   "metadata": {},
   "outputs": [],
   "source": [
    "train_x_raw, train_y_raw = online.load_train_data()\n",
    "train_x, train_y, _closed_prices = get_sequencial_data(train_x_raw, train_y_raw , step)\n",
    "\n",
    "val_x_raw, val_y_raw = online.load_val_data(\"ltceur\")\n",
    "val_x, val_y, closed_prices = get_sequencial_data(val_x_raw, val_y_raw , step)\n"
   ]
  },
  {
   "cell_type": "code",
   "execution_count": 5,
   "metadata": {
    "scrolled": true
   },
   "outputs": [
    {
     "name": "stdout",
     "output_type": "stream",
     "text": [
      "CPU times: user 233 µs, sys: 409 µs, total: 642 µs\n",
      "Wall time: 1.65 ms\n"
     ]
    }
   ],
   "source": [
    "%%time\n",
    "from catboost import CatBoostClassifier\n",
    "from sklearn.metrics import make_scorer, accuracy_score, f1_score\n",
    "\n",
    "\n",
    "X_train, Y_train = train_x, train_y\n",
    "\n",
    "\n",
    "clf = CatBoostClassifier()\n",
    "\n",
    "params = {'iterations': [50, 500, 100],\n",
    "          'depth': [\n",
    "                    5,\n",
    "                    6,\n",
    "                    10\n",
    "          ],\n",
    "          'loss_function': ['Logloss', 'CrossEntropy'],\n",
    "          'l2_leaf_reg': np.logspace(-20, -19, 3),\n",
    "          'leaf_estimation_iterations': [10, 15, 20],\n",
    "          #'eval_metric': ['recall'],\n",
    "          #'use_best_model': ['True'],\n",
    "          'logging_level':['Silent'],\n",
    "          'random_seed': [42]\n",
    "         }\n"
   ]
  },
  {
   "cell_type": "code",
   "execution_count": 6,
   "metadata": {
    "scrolled": true
   },
   "outputs": [
    {
     "name": "stdout",
     "output_type": "stream",
     "text": [
      "{'depth': 10, 'iterations': 500, 'l2_leaf_reg': 1e-20, 'leaf_estimation_iterations': 20, 'logging_level': 'Silent', 'loss_function': 'Logloss', 'random_seed': 42}\n",
      "0.15891683680638788\n",
      "CPU times: user 3h 25min 31s, sys: 1h 33min 47s, total: 4h 59min 18s\n",
      "Wall time: 1h 11min 38s\n"
     ]
    }
   ],
   "source": [
    "%%time\n",
    "\n",
    "\n",
    "clf_grid = gridSearch(X_train, Y_train, clf, params, make_scorer(recall_score))\n",
    "\n",
    "#0.6743010531359825"
   ]
  },
  {
   "cell_type": "code",
   "execution_count": 7,
   "metadata": {},
   "outputs": [
    {
     "name": "stdout",
     "output_type": "stream",
     "text": [
      "{'depth': 10, 'iterations': 500, 'l2_leaf_reg': 1e-20, 'leaf_estimation_iterations': 20, 'logging_level': 'Silent', 'loss_function': 'Logloss', 'random_seed': 42}\n"
     ]
    }
   ],
   "source": [
    "print(clf_grid.best_params_)"
   ]
  },
  {
   "cell_type": "code",
   "execution_count": 8,
   "metadata": {
    "scrolled": true
   },
   "outputs": [
    {
     "name": "stdout",
     "output_type": "stream",
     "text": [
      "              precision    recall  f1-score   support\n",
      "\n",
      "     class 0       0.90      1.00      0.95     16198\n",
      "     class 1       1.00      0.78      0.87      7778\n",
      "\n",
      "    accuracy                           0.93     23976\n",
      "   macro avg       0.95      0.89      0.91     23976\n",
      "weighted avg       0.93      0.93      0.92     23976\n",
      "\n"
     ]
    }
   ],
   "source": [
    "#model = CatBoostClassifier(**clf_grid.best_params_)\n",
    "\n",
    "#model.fit(X_train, Y_train)\n",
    "#model.fit(x_norm, Y_train)\n",
    "\n",
    "model = clf_grid.best_estimator_\n",
    "\n",
    "eval_data(model, X_train, Y_train)\n",
    "\n",
    "#5473554735547356"
   ]
  },
  {
   "cell_type": "code",
   "execution_count": 10,
   "metadata": {},
   "outputs": [
    {
     "name": "stdout",
     "output_type": "stream",
     "text": [
      "              precision    recall  f1-score   support\n",
      "\n",
      "     class 0       0.62      0.82      0.71      1763\n",
      "     class 1       0.43      0.21      0.28      1120\n",
      "\n",
      "    accuracy                           0.59      2883\n",
      "   macro avg       0.53      0.52      0.50      2883\n",
      "weighted avg       0.55      0.59      0.54      2883\n",
      "\n"
     ]
    }
   ],
   "source": [
    "\n",
    "eval_data(model, val_x, val_y)\n"
   ]
  },
  {
   "cell_type": "code",
   "execution_count": null,
   "metadata": {},
   "outputs": [],
   "source": [
    "from joblib import dump, load\n",
    "dump(model, 'model/CatBoostClassifier') "
   ]
  },
  {
   "cell_type": "code",
   "execution_count": null,
   "metadata": {},
   "outputs": [],
   "source": []
  },
  {
   "cell_type": "code",
   "execution_count": null,
   "metadata": {},
   "outputs": [],
   "source": [
    "from sklearn.pipeline import Pipeline\n",
    "from sklearn.feature_selection import SelectFromModel\n",
    "from sklearn.svm import LinearSVC\n",
    "\n",
    "#model = clf_grid.best_estimator_\n",
    "\n",
    "clf = Pipeline([\n",
    "  ('feature_selection', SelectFromModel(\n",
    "      LinearSVC()\n",
    "  )\n",
    "  ),\n",
    "  ('classification', CatBoostClassifier(logging_level = 'Silent'))\n",
    "])\n",
    "\n",
    "clf.fit(X_train, Y_train)\n",
    "\n"
   ]
  },
  {
   "cell_type": "code",
   "execution_count": null,
   "metadata": {},
   "outputs": [],
   "source": [
    "eval_data(clf, X_train, Y_train)\n",
    "\n",
    "eval_data(clf, valX, valY)"
   ]
  }
 ],
 "metadata": {
  "accelerator": "GPU",
  "colab": {
   "collapsed_sections": [],
   "name": "enviroment",
   "provenance": [],
   "version": "0.3.2"
  },
  "kernelspec": {
   "display_name": "Python 3",
   "language": "python",
   "name": "python3"
  },
  "language_info": {
   "codemirror_mode": {
    "name": "ipython",
    "version": 3
   },
   "file_extension": ".py",
   "mimetype": "text/x-python",
   "name": "python",
   "nbconvert_exporter": "python",
   "pygments_lexer": "ipython3",
   "version": "3.9.5"
  }
 },
 "nbformat": 4,
 "nbformat_minor": 4
}
