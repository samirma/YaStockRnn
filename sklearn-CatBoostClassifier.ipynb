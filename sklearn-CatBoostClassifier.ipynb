{
 "cells": [
  {
   "cell_type": "code",
   "execution_count": 1,
   "metadata": {
    "colab": {
     "base_uri": "https://localhost:8080/",
     "height": 170
    },
    "colab_type": "code",
    "executionInfo": {
     "elapsed": 503083,
     "status": "ok",
     "timestamp": 1568068274112,
     "user": {
      "displayName": "Samir Moreira Antônio",
      "photoUrl": "https://lh3.googleusercontent.com/a-/AAuE7mCsh3ldsSLN0VnFRYp341EzO_UyuRNKmLncUbMA3Q=s64",
      "userId": "14581632111443153742"
     },
     "user_tz": -60
    },
    "id": "fGVQczSlF-9o",
    "outputId": "e3a06798-f737-48d9-ec6e-d3784cec3115"
   },
   "outputs": [],
   "source": [
    "import pandas as pd\n",
    "import data_util\n",
    "from tqdm.notebook import tqdm\n",
    "#from tqdm import tqdm_notebook as tqdm\n",
    "from data_generator import DataGenerator\n",
    "from state_util import StateUtil\n",
    "from tec_an import TecAn\n",
    "import numpy as np\n",
    "from data_util import *\n",
    "import threading\n",
    "import multiprocessing\n",
    "\n",
    "import numpy as np\n",
    "import math\n",
    "import pandas as pd\n",
    "import matplotlib.pyplot as plt\n",
    "import scipy.stats as scs\n",
    "import scikitplot as skplt\n",
    "\n",
    "from tensorflow.keras.layers import InputLayer, BatchNormalization, GlobalMaxPool1D, Bidirectional, Dense, Flatten, Conv2D, LeakyReLU, Dropout, LSTM, GRU, Input\n",
    "from tensorflow.keras import Model, Sequential\n",
    "from tensorflow.keras import datasets, layers, models\n",
    "from tensorflow.keras import regularizers\n",
    "from keras.wrappers.scikit_learn import KerasClassifier\n",
    "from imblearn.over_sampling import RandomOverSampler\n",
    "import tensorflow as tf\n",
    "from keras.models import Sequential\n",
    "from keras.layers import Dense\n",
    "import tensorflow.keras as keras\n",
    "import random\n",
    "from catboost import CatBoost\n",
    "\n",
    "\n",
    "\n",
    "from sklearn.metrics import confusion_matrix\n",
    "from sklearn.model_selection import GridSearchCV\n",
    "from sklearn.metrics import accuracy_score, f1_score\n"
   ]
  },
  {
   "cell_type": "code",
   "execution_count": 2,
   "metadata": {},
   "outputs": [],
   "source": [
    "import pandas as pd\n",
    "import data_util\n",
    "from tqdm import tqdm_notebook as tqdm\n",
    "from data_generator import DataGenerator\n",
    "from state_util import StateUtil\n",
    "from tec_an import TecAn\n",
    "import numpy as np\n",
    "\n"
   ]
  },
  {
   "cell_type": "code",
   "execution_count": 3,
   "metadata": {
    "scrolled": true
   },
   "outputs": [],
   "source": [
    "path = \"./data/\"\n",
    "trainX_raw, trainY_raw = load_data(\"\", \"train\", path)\n",
    "valX_raw, valY_raw = load_data(\"\", \"Val\", path)\n",
    "\n",
    "#trainX_balanced, trainY_balanced = get_balanced_set(trainX_raw, trainY_raw)\n",
    "\n",
    "valX, valY = valX_raw, valY_raw\n",
    "\n",
    "features = trainX_raw.shape[-1]\n"
   ]
  },
  {
   "cell_type": "code",
   "execution_count": 4,
   "metadata": {},
   "outputs": [],
   "source": [
    "normalizer = tf.keras.layers.experimental.preprocessing.Normalization(input_shape=(features,))\n",
    "normalizer.adapt(trainX_raw)\n",
    "\n"
   ]
  },
  {
   "cell_type": "code",
   "execution_count": 5,
   "metadata": {},
   "outputs": [
    {
     "name": "stdout",
     "output_type": "stream",
     "text": [
      "\n",
      "Counter({0: 2706, 1: 2706}) Counter({0: 2706, 1: 1858})\n",
      "(5412, 26) (5412,) | (505, 26) (505,)\n"
     ]
    }
   ],
   "source": [
    "#print(Counter(trainY))\n",
    "\n",
    "\n",
    "X_over, y_over = get_balanced_set(trainX_raw, trainY_raw)\n",
    "\n",
    "print()\n",
    "print(\"{} {}\".format(Counter(y_over), Counter(trainY_raw)))\n",
    "\n",
    "print(\"{} {} | {} {}\".format(X_over.shape, y_over.shape, valX.shape, valY.shape))\n"
   ]
  },
  {
   "cell_type": "code",
   "execution_count": null,
   "metadata": {},
   "outputs": [],
   "source": []
  },
  {
   "cell_type": "code",
   "execution_count": 21,
   "metadata": {
    "scrolled": true
   },
   "outputs": [
    {
     "name": "stdout",
     "output_type": "stream",
     "text": [
      "CPU times: user 2.8 ms, sys: 2.39 ms, total: 5.2 ms\n",
      "Wall time: 2.73 ms\n"
     ]
    }
   ],
   "source": [
    "%%time\n",
    "from catboost import CatBoostClassifier\n",
    "from sklearn.metrics import make_scorer, accuracy_score, f1_score\n",
    "\n",
    "\n",
    "X_train, Y_train = trainX_raw, trainY_raw\n",
    "\n",
    "x_norm = normalizer(trainX_raw).numpy()\n",
    "\n",
    "def gridSearch(x, y):\n",
    "    clf = CatBoostClassifier()\n",
    "    params = {'iterations': [500],\n",
    "              #'depth': [5, 6, 10],\n",
    "              'loss_function': ['Logloss', 'CrossEntropy'],\n",
    "              #'l2_leaf_reg': np.logspace(-20, -19, 3),\n",
    "              #'leaf_estimation_iterations': [10, 15, 20],\n",
    "              #'eval_metric': ['Precision'],\n",
    "              #'use_best_model': ['True'],\n",
    "              'logging_level':['Silent'],\n",
    "              'random_seed': [42]\n",
    "             }\n",
    "\n",
    "\n",
    "    scorer = make_scorer(accuracy_score)\n",
    "\n",
    "    clf_grid = GridSearchCV(estimator=clf, param_grid=params, scoring=scorer, cv=5)\n",
    "\n",
    "\n",
    "    clf_grid.fit(x, y)\n",
    "    best_param = clf_grid.best_params_\n",
    "    print(best_param)\n",
    "    print(clf_grid.best_score_)\n",
    "\n",
    "    return clf_grid\n"
   ]
  },
  {
   "cell_type": "code",
   "execution_count": 22,
   "metadata": {
    "scrolled": true
   },
   "outputs": [],
   "source": [
    "from sklearn.metrics import classification_report, precision_score\n",
    "\n",
    "def eval_data(model, x, y):\n",
    "\n",
    "    #print(model.evaluate(x, y))\n",
    "\n",
    "    pred = np.where(model.predict(x) > 0.5,1,0)\n",
    "\n",
    "    print(\"Confusion Matrix {} {}\".format(pred.shape, y.shape))\n",
    "    print(skplt.metrics.plot_confusion_matrix(y, pred, normalize=False))\n",
    "    print(precision_score(y, pred))\n",
    "\n",
    "\n"
   ]
  },
  {
   "cell_type": "code",
   "execution_count": 23,
   "metadata": {},
   "outputs": [],
   "source": [
    "from catboost import CatBoostRegressor, Pool, EShapCalcType, EFeaturesSelectionAlgorithm\n",
    "from sklearn.feature_selection import RFECV\n",
    "\n",
    "train_X, train_y = trainX_raw, Y_train\n",
    "\n",
    "test_X, test_y = valX, valY\n",
    "\n",
    "feature_names = ['F{}'.format(i) for i in range(26)]\n",
    "\n",
    "\n",
    "train_pool = Pool(train_X, train_y, feature_names=feature_names)\n",
    "test_pool = Pool(valX, test_y, feature_names=feature_names)\n",
    "\n",
    "model = CatBoostClassifier(iterations=1000, random_seed=0, verbose=False)\n",
    "\n",
    "rfe = RFECV(model,\n",
    "            #min_features_to_select = 20,\n",
    "            step=1, \n",
    "            verbose=0,\n",
    "            cv=5)\n",
    "rfe = rfe.fit(train_X, train_y)\n"
   ]
  },
  {
   "cell_type": "code",
   "execution_count": 24,
   "metadata": {},
   "outputs": [
    {
     "name": "stdout",
     "output_type": "stream",
     "text": [
      "The mask of selected features:  [ True  True  True  True  True  True  True  True  True  True  True  True\n",
      "  True False  True  True  True  True False False  True  True  True  True\n",
      "  True  True]\n",
      "\n",
      "The feature ranking: [1 1 1 1 1 1 1 1 1 1 1 1 1 2 1 1 1 1 3 4 1 1 1 1 1 1]\n",
      "\n",
      "The external estimator: <catboost.core.CatBoostClassifier object at 0x7fbeae3cf250>\n",
      "Optimal number of features : 23\n"
     ]
    },
    {
     "data": {
      "image/png": "[encoded data removed]",
      "text/plain": [
       "<Figure size 432x288 with 1 Axes>"
      ]
     },
     "metadata": {
      "needs_background": "light"
     },
     "output_type": "display_data"
    },
    {
     "name": "stdout",
     "output_type": "stream",
     "text": [
      "(4564, 23)\n"
     ]
    }
   ],
   "source": [
    "\n",
    "print('The mask of selected features: ',rfe.support_)\n",
    "print()\n",
    "print('The feature ranking:',rfe.ranking_)\n",
    "print()\n",
    "print('The external estimator:',rfe.estimator_)\n",
    "\n",
    "print(\"Optimal number of features : %d\" % rfe.n_features_)\n",
    "\n",
    "# Plot number of features VS. cross-validation scores\n",
    "plt.figure()\n",
    "plt.xlabel(\"Number of features selected\")\n",
    "plt.ylabel(\"Cross validation score (nb of correct classifications)\")\n",
    "plt.plot(range(1, len(rfe.grid_scores_) + 1), rfe.grid_scores_)\n",
    "plt.show()\n",
    "\n",
    "X_reduced = rfe.transform(X_train)\n",
    "\n",
    "print(X_reduced.shape)"
   ]
  },
  {
   "cell_type": "code",
   "execution_count": 25,
   "metadata": {
    "scrolled": true
   },
   "outputs": [
    {
     "name": "stdout",
     "output_type": "stream",
     "text": [
      "{'iterations': 500, 'logging_level': 'Silent', 'loss_function': 'Logloss', 'random_seed': 42}\n",
      "0.40670745181683665\n",
      "CPU times: user 1min 24s, sys: 11.4 s, total: 1min 36s\n",
      "Wall time: 24.3 s\n"
     ]
    }
   ],
   "source": [
    "%%time\n",
    "\n",
    "clf_grid = gridSearch(X_train, Y_train)\n"
   ]
  },
  {
   "cell_type": "code",
   "execution_count": 26,
   "metadata": {
    "scrolled": true
   },
   "outputs": [
    {
     "name": "stdout",
     "output_type": "stream",
     "text": [
      "{'learn': {'Logloss': 0.4062312850663037}}\n",
      "Confusion Matrix (4564,) (4564,)\n",
      "AxesSubplot(0.125,0.125;0.62x0.755)\n",
      "0.908175355450237\n"
     ]
    },
    {
     "data": {
      "image/png": "[encoded data removed]",
      "text/plain": [
       "<Figure size 432x288 with 2 Axes>"
      ]
     },
     "metadata": {
      "needs_background": "light"
     },
     "output_type": "display_data"
    }
   ],
   "source": [
    "model = CatBoostClassifier(**clf_grid.best_params_)\n",
    "model.fit(X_reduced, Y_train)\n",
    "\n",
    "print(model.get_best_score())\n",
    "eval_data(model, X_reduced, Y_train)\n",
    "\n",
    "#5473554735547356"
   ]
  },
  {
   "cell_type": "code",
   "execution_count": 27,
   "metadata": {},
   "outputs": [
    {
     "name": "stdout",
     "output_type": "stream",
     "text": [
      "Confusion Matrix (505,) (505,)\n",
      "AxesSubplot(0.125,0.125;0.62x0.755)\n",
      "0.5649717514124294\n"
     ]
    },
    {
     "data": {
      "image/png": "[encoded data removed]",
      "text/plain": [
       "<Figure size 432x288 with 2 Axes>"
      ]
     },
     "metadata": {
      "needs_background": "light"
     },
     "output_type": "display_data"
    }
   ],
   "source": [
    "eval_data(model, rfe.transform(valX), valY)\n"
   ]
  },
  {
   "cell_type": "code",
   "execution_count": null,
   "metadata": {},
   "outputs": [],
   "source": []
  },
  {
   "cell_type": "code",
   "execution_count": null,
   "metadata": {},
   "outputs": [],
   "source": []
  }
 ],
 "metadata": {
  "accelerator": "GPU",
  "colab": {
   "collapsed_sections": [],
   "name": "enviroment",
   "provenance": [],
   "version": "0.3.2"
  },
  "kernelspec": {
   "display_name": "Python 3",
   "language": "python",
   "name": "python3"
  },
  "language_info": {
   "codemirror_mode": {
    "name": "ipython",
    "version": 3
   },
   "file_extension": ".py",
   "mimetype": "text/x-python",
   "name": "python",
   "nbconvert_exporter": "python",
   "pygments_lexer": "ipython3",
   "version": "3.9.5"
  }
 },
 "nbformat": 4,
 "nbformat_minor": 4
}
