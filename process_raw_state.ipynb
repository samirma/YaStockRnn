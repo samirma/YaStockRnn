{
 "cells": [
  {
   "cell_type": "code",
   "execution_count": null,
   "metadata": {},
   "outputs": [],
   "source": []
  },
  {
   "cell_type": "code",
   "execution_count": 1,
   "metadata": {},
   "outputs": [],
   "source": [
    "\n",
    "use_cache = False #@param {type:\"boolean\"}\n"
   ]
  },
  {
   "cell_type": "code",
   "execution_count": 2,
   "metadata": {},
   "outputs": [
    {
     "name": "stderr",
     "output_type": "stream",
     "text": [
      "  0%|          | 385/1023668 [00:00<05:38, 3021.69it/s]"
     ]
    },
    {
     "name": "stdout",
     "output_type": "stream",
     "text": [
      "Loading 1026749 from dir stock_data/\n"
     ]
    },
    {
     "name": "stderr",
     "output_type": "stream",
     "text": [
      "100%|██████████| 1023668/1023668 [14:45<00:00, 1155.70it/s]  \n",
      "100%|██████████| 3080/3080 [00:00<00:00, 5452.37it/s]\n"
     ]
    },
    {
     "name": "stdout",
     "output_type": "stream",
     "text": [
      "(1023668, 20)\n",
      "(1023668, 2)\n",
      "(3080, 20)\n",
      "(3080, 2)\n"
     ]
    }
   ],
   "source": [
    "import numpy as np\n",
    "path = \"drive/My Drive/model/\"\n",
    "path = \"./\"\n",
    "\n",
    "import data_util\n",
    "from data_generator import DataGenerator\n",
    "\n",
    "\n",
    "\n",
    "def load_datasets(dirs):\n",
    "  sets = []  \n",
    "  for raw_dir in dirs:\n",
    "    data_gen = DataGenerator(random=False, first_index=10, base_dir = raw_dir)\n",
    "    data_gen.rewind()\n",
    "    full = data_gen.steps - 2000\n",
    "    print(\"Loading {} from dir {}\".format(full, raw_dir))\n",
    "    sets.append(data_util.get_sets(data_gen, full, val_percentage = 0.003, path = path, use_cache=use_cache))\n",
    "  return sets\n",
    "\n",
    "def conc_sets(sets):\n",
    "  trainX = sets[0][0]\n",
    "  trainY = sets[0][1]\n",
    "  valX = sets[0][2]\n",
    "  valY = sets[0][3]\n",
    "  for i in range(1, len(sets)):\n",
    "    data_set = sets[i]\n",
    "    trainX = np.append(data_set[0], trainX, axis = 0)\n",
    "    trainY = np.append(data_set[1], trainY, axis = 0)\n",
    "    valX = np.append(data_set[2], valX, axis = 0)\n",
    "    valY = np.append(data_set[3], valY, axis = 0)\n",
    "  return trainX, trainY, valX, valY\n",
    "\n",
    "if (use_cache):\n",
    "  trainX = np.load(path + \"train\" + \"X.npy\")\n",
    "  trainY = np.load(path + \"train\" + \"Y.npy\")\n",
    "  valX = np.load(path + \"val\" + \"X.npy\")\n",
    "  valY = np.load(path + \"val\" + \"Y.npy\")\n",
    "else:\n",
    "  sets = load_datasets([\"stock_data/\"])\n",
    "  trainX, trainY, valX, valY = conc_sets(sets)\n",
    "  np.save(path + \"train\" + \"X.npy\", trainX)\n",
    "  np.save(path + \"train\" + \"Y.npy\", trainY)\n",
    "  np.save(path + \"val\" + \"X.npy\", valX)\n",
    "  np.save(path + \"val\" + \"Y.npy\", valY)\n",
    "\n"
   ]
  },
  {
   "cell_type": "code",
   "execution_count": 3,
   "metadata": {},
   "outputs": [
    {
     "name": "stdout",
     "output_type": "stream",
     "text": [
      "(1023668, 20)\n",
      "(3080, 20)\n"
     ]
    }
   ],
   "source": [
    "print(trainX.shape)\n",
    "print(valX.shape)"
   ]
  },
  {
   "cell_type": "code",
   "execution_count": null,
   "metadata": {},
   "outputs": [],
   "source": []
  }
 ],
 "metadata": {
  "kernelspec": {
   "display_name": "Python 3",
   "language": "python",
   "name": "python3"
  },
  "language_info": {
   "codemirror_mode": {
    "name": "ipython",
    "version": 3
   },
   "file_extension": ".py",
   "mimetype": "text/x-python",
   "name": "python",
   "nbconvert_exporter": "python",
   "pygments_lexer": "ipython3",
   "version": "3.7.3"
  }
 },
 "nbformat": 4,
 "nbformat_minor": 2
}
