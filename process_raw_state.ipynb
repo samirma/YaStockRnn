{
 "cells": [
  {
   "cell_type": "code",
   "execution_count": null,
   "metadata": {},
   "outputs": [],
   "source": []
  },
  {
   "cell_type": "code",
   "execution_count": 1,
   "metadata": {},
   "outputs": [],
   "source": [
    "\n",
    "use_cache = False #@param {type:\"boolean\"}\n"
   ]
  },
  {
   "cell_type": "code",
   "execution_count": 2,
   "metadata": {},
   "outputs": [
    {
     "name": "stderr",
     "output_type": "stream",
     "text": [
      "  0%|          | 385/1023668 [00:00<05:38, 3021.69it/s]"
     ]
    },
    {
     "name": "stdout",
     "output_type": "stream",
     "text": [
      "Loading 1026749 from dir stock_data/\n"
     ]
    },
    {
     "name": "stderr",
     "output_type": "stream",
     "text": [
      "100%|██████████| 1023668/1023668 [14:45<00:00, 1155.70it/s]  \n",
      "100%|██████████| 3080/3080 [00:00<00:00, 5452.37it/s]\n"
     ]
    },
    {
     "name": "stdout",
     "output_type": "stream",
     "text": [
      "(1023668, 20)\n",
      "(1023668, 2)\n",
      "(3080, 20)\n",
      "(3080, 2)\n"
     ]
    }
   ],
   "source": [
    "import numpy as np\n",
    "path = \"drive/My Drive/model/\"\n",
    "path = \"./\"\n",
    "\n",
    "import data_util\n",
    "from data_generator import DataGenerator\n",
    "\n",
    "\n",
    "\n",
    "def load_datasets(dirs):\n",
    "  sets = []  \n",
    "  for raw_dir in dirs:\n",
    "    data_gen = DataGenerator(random=False, first_index=10, base_dir = raw_dir)\n",
    "    data_gen.rewind()\n",
    "    full = data_gen.steps - 2000\n",
    "    print(\"Loading {} from dir {}\".format(full, raw_dir))\n",
    "    sets.append(data_util.get_sets(data_gen, full, val_percentage = 0.003, path = path, use_cache=use_cache))\n",
    "  return sets\n",
    "\n",
    "def conc_sets(sets):\n",
    "  trainX = sets[0][0]\n",
    "  trainY = sets[0][1]\n",
    "  valX = sets[0][2]\n",
    "  valY = sets[0][3]\n",
    "  for i in range(1, len(sets)):\n",
    "    data_set = sets[i]\n",
    "    trainX = np.append(data_set[0], trainX, axis = 0)\n",
    "    trainY = np.append(data_set[1], trainY, axis = 0)\n",
    "    valX = np.append(data_set[2], valX, axis = 0)\n",
    "    valY = np.append(data_set[3], valY, axis = 0)\n",
    "  return trainX, trainY, valX, valY\n",
    "\n",
    "if (use_cache):\n",
    "  trainX = np.load(path + \"train\" + \"X.npy\")\n",
    "  trainY = np.load(path + \"train\" + \"Y.npy\")\n",
    "  valX = np.load(path + \"val\" + \"X.npy\")\n",
    "  valY = np.load(path + \"val\" + \"Y.npy\")\n",
    "else:\n",
    "  sets = load_datasets([\"stock_data/\"])\n",
    "  trainX, trainY, valX, valY = conc_sets(sets)\n",
    "  np.save(path + \"train\" + \"X.npy\", trainX)\n",
    "  np.save(path + \"train\" + \"Y.npy\", trainY)\n",
    "  np.save(path + \"val\" + \"X.npy\", valX)\n",
    "  np.save(path + \"val\" + \"Y.npy\", valY)\n",
    "\n"
   ]
  },
  {
   "cell_type": "code",
   "execution_count": 3,
   "metadata": {},
   "outputs": [
    {
     "name": "stdout",
     "output_type": "stream",
     "text": [
      "(1023668, 20)\n",
      "(3080, 20)\n"
     ]
    }
   ],
   "source": [
    "print(trainX.shape)\n",
    "print(valX.shape)"
   ]
  },
  {
   "cell_type": "code",
   "execution_count": 3,
   "metadata": {},
   "outputs": [],
   "source": [
    "import data_util\n",
    "from data_generator import DataGenerator\n",
    "\n",
    "raw_dir = \"stock_data/\"\n",
    "\n",
    "data_gen = DataGenerator(random=False, first_index=10, base_dir = raw_dir)\n",
    "data_gen.rewind()"
   ]
  },
  {
   "cell_type": "code",
   "execution_count": 4,
   "metadata": {},
   "outputs": [
    {
     "data": {
      "text/plain": [
       "[{'timestamp': '1565523032',\n",
       "  'microtimestamp': '1565523032376012',\n",
       "  'bids': [['11346.68', '0.27970310'],\n",
       "   ['11346.55', '3.00000000'],\n",
       "   ['11345.70', '1.09870000'],\n",
       "   ['11341.44', '0.40000000'],\n",
       "   ['11341.42', '1.00000000'],\n",
       "   ['11340.16', '1.00000000'],\n",
       "   ['11339.69', '0.60000000'],\n",
       "   ['11339.54', '5.00000000'],\n",
       "   ['11338.24', '0.28000000'],\n",
       "   ['11338.00', '2.00000000'],\n",
       "   ['11337.18', '5.00000000'],\n",
       "   ['11336.48', '10.00000000'],\n",
       "   ['11335.96', '0.05000000'],\n",
       "   ['11335.80', '0.26456029'],\n",
       "   ['11334.59', '1.00000000'],\n",
       "   ['11333.52', '5.00000000'],\n",
       "   ['11333.13', '0.11803397'],\n",
       "   ['11333.12', '10.00000000'],\n",
       "   ['11333.04', '10.00000000'],\n",
       "   ['11332.85', '0.50000000']],\n",
       "  'asks': [['11361.93', '0.49410000'],\n",
       "   ['11361.94', '2.00000000'],\n",
       "   ['11362.06', '0.20260126'],\n",
       "   ['11363.80', '1.09900000'],\n",
       "   ['11364.92', '0.50000000'],\n",
       "   ['11364.93', '2.00000000'],\n",
       "   ['11364.96', '5.00000000'],\n",
       "   ['11365.41', '5.00000000'],\n",
       "   ['11365.57', '0.60000000'],\n",
       "   ['11365.59', '1.00000000'],\n",
       "   ['11366.64', '0.00360001'],\n",
       "   ['11366.66', '5.00000000'],\n",
       "   ['11367.20', '1.00000000'],\n",
       "   ['11368.42', '2.00000000'],\n",
       "   ['11368.43', '3.00000000'],\n",
       "   ['11368.55', '1.02000000'],\n",
       "   ['11369.41', '0.05000000'],\n",
       "   ['11370.13', '0.03837221'],\n",
       "   ['11370.95', '0.22000000'],\n",
       "   ['11370.96', '1.00000000']],\n",
       "  'price': 11346.65,\n",
       "  'amount': 0.3}]"
      ]
     },
     "execution_count": 4,
     "metadata": {},
     "output_type": "execute_result"
    }
   ],
   "source": [
    "data_gen.next()"
   ]
  },
  {
   "cell_type": "code",
   "execution_count": null,
   "metadata": {},
   "outputs": [],
   "source": []
  }
 ],
 "metadata": {
  "kernelspec": {
   "display_name": "Python 3",
   "language": "python",
   "name": "python3"
  },
  "language_info": {
   "codemirror_mode": {
    "name": "ipython",
    "version": 3
   },
   "file_extension": ".py",
   "mimetype": "text/x-python",
   "name": "python",
   "nbconvert_exporter": "python",
   "pygments_lexer": "ipython3",
   "version": "3.9.4"
  }
 },
 "nbformat": 4,
 "nbformat_minor": 2
}
