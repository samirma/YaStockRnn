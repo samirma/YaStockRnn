{
 "cells": [
  {
   "cell_type": "code",
   "execution_count": 1,
   "metadata": {},
   "outputs": [],
   "source": [
    "import pandas as pd\n",
    "import data_util\n",
    "from tec_an import TecAn\n",
    "import numpy as np\n",
    "from data_util import *\n",
    "from bitstamp import *\n",
    "from sklearn_model_hyper import *\n",
    "from joblib import dump, load\n",
    "from data_generator import *\n",
    "from data_agent import *\n",
    "from stock_agent import *\n",
    "from backtest import *\n",
    "\n",
    "from sklearn.pipeline import make_pipeline\n",
    "from sklearn.preprocessing import StandardScaler, MinMaxScaler, Normalizer\n",
    "from sklearn.neural_network import MLPClassifier\n",
    "\n",
    "import xgboost as xgb\n"
   ]
  },
  {
   "cell_type": "code",
   "execution_count": 2,
   "metadata": {},
   "outputs": [],
   "source": [
    "#live = LiveTrader()"
   ]
  },
  {
   "cell_type": "code",
   "execution_count": 3,
   "metadata": {},
   "outputs": [],
   "source": [
    "#live.init()"
   ]
  },
  {
   "cell_type": "code",
   "execution_count": 4,
   "metadata": {},
   "outputs": [],
   "source": [
    "#live.user_transactions(3)"
   ]
  },
  {
   "cell_type": "code",
   "execution_count": 5,
   "metadata": {},
   "outputs": [],
   "source": [
    "def get_online_data(minutes, source_data_generator, load_from_disk, file_prefix = \"\"):\n",
    "    \n",
    "    online = OnLineDataProvider(\n",
    "                 source_data_generator = source_data_generator,\n",
    "                 minutes = minutes,\n",
    "                 train_keys = [],\n",
    "                 train_limit = 1000,\n",
    "                 val_limit = 1000,\n",
    "                 val_keys = [\"btcusd\"],\n",
    "                 val_start = 1234,\n",
    "                 val_end = 1234,\n",
    "                 train_start_list = []\n",
    "    )\n",
    "\n",
    "    online_path = f'data/online{file_prefix}_{minutes}'\n",
    "    \n",
    "    if (load_from_disk):\n",
    "        online = load(online_path)    \n",
    "    else:\n",
    "        #online.load_train_cache()\n",
    "        online.load_cache()\n",
    "        online.sourceDataGenerator = None\n",
    "        dump(online, online_path)\n",
    "        \n",
    "    \n",
    "    return online"
   ]
  },
  {
   "cell_type": "code",
   "execution_count": 6,
   "metadata": {},
   "outputs": [],
   "source": [
    "win = 20\n",
    "minus = 15\n",
    "\n",
    "step =  2\n",
    "\n",
    "tec = TecAn(windows = win, windows_limit = 100)\n",
    "sourceDataGenerator = SourceDataGenerator(tec = tec)\n",
    "online = get_online_data(minus, sourceDataGenerator, True, win)"
   ]
  },
  {
   "cell_type": "code",
   "execution_count": null,
   "metadata": {},
   "outputs": [],
   "source": []
  },
  {
   "cell_type": "code",
   "execution_count": 7,
   "metadata": {},
   "outputs": [],
   "source": [
    "cls = xgb.XGBClassifier(random_state=1,\n",
    "                                   objective = \"binary:logistic\",\n",
    "                                   eval_metric='mlogloss',\n",
    "                                   learning_rate=0.01, \n",
    "                                   #use_label_encoder = True\n",
    "                       )"
   ]
  },
  {
   "cell_type": "code",
   "execution_count": 8,
   "metadata": {},
   "outputs": [],
   "source": [
    "x, y, close = train_by_step(cls, step, online)"
   ]
  },
  {
   "cell_type": "code",
   "execution_count": 9,
   "metadata": {},
   "outputs": [
    {
     "name": "stdout",
     "output_type": "stream",
     "text": [
      "Counter({0: 6810, 1: 1182})\n"
     ]
    }
   ],
   "source": [
    "print(Counter(y))"
   ]
  },
  {
   "cell_type": "code",
   "execution_count": 10,
   "metadata": {},
   "outputs": [],
   "source": [
    "trainX_raw, trainY_raw = online.load_val_data(\"btcusd\")\n",
    "x, y, closed_prices = get_sequencial_data(trainX_raw, trainY_raw, step)\n"
   ]
  },
  {
   "cell_type": "code",
   "execution_count": 11,
   "metadata": {},
   "outputs": [
    {
     "name": "stdout",
     "output_type": "stream",
     "text": [
      "BackTest (pending_sell_steps=2 sell_on_profit=False  value=100\n",
      "1970-01-01 00:00:00 Buy (34256.42): ask: 34256.42\n",
      "1970-01-01 00:00:00 Sell (34369.32) profit: 0.3296 total: 100.32957325955252\n",
      "1970-01-01 00:00:00 Buy (33393.01): ask: 33393.01\n",
      "1970-01-01 00:00:00 Sell (33521.96) profit: 0.3862 total: 100.71573191970325\n",
      "1970-01-01 00:00:00 Buy (33462.1): ask: 33462.1\n",
      "1970-01-01 00:00:00 Sell (33664.57) profit: 0.6051 total: 101.32080452423195\n",
      "1970-01-01 00:00:00 Buy (33604.88): ask: 33604.88\n",
      "1970-01-01 00:00:00 Sell (33711.95) profit: 0.3186 total: 101.63941896356337\n",
      "1970-01-01 00:00:00 Buy (33246.09): ask: 33246.09\n",
      "1970-01-01 00:00:00 Sell (34018.8) profit: 2.3242 total: 103.9636321266752\n",
      "1970-01-01 00:00:00 Buy (33997.83): ask: 33997.83\n",
      "1970-01-01 00:00:00 Sell (34081.75) profit: 0.2468 total: 104.21047141024123\n",
      "1970-01-01 00:00:00 Buy (33851.04): ask: 33851.04\n",
      "1970-01-01 00:00:00 Sell (34067.61) profit: 0.6398 total: 104.85024495929615\n",
      "1970-01-01 00:00:00 Buy (33730.76): ask: 33730.76\n",
      "1970-01-01 00:00:00 Sell (34073.17) profit: 1.0151 total: 105.86537180494088\n",
      "1970-01-01 00:00:00 Buy (33931.62): ask: 33931.62\n",
      "1970-01-01 00:00:00 Sell (34717.28) profit: 2.3154 total: 108.18079323191665\n",
      "1970-01-01 00:00:00 Buy (34726.39): ask: 34726.39\n",
      "1970-01-01 00:00:00 Sell (34831.07) profit: 0.3014 total: 108.48223544920442\n",
      "1970-01-01 00:00:00 Buy (34760.77): ask: 34760.77\n",
      "1970-01-01 00:00:00 Sell (34866.06) profit: 0.3029 total: 108.78513437808316\n",
      "1970-01-01 00:00:00 Buy (33822.32): ask: 33822.32\n",
      "1970-01-01 00:00:00 Sell (34426.17) profit: 1.7854 total: 110.57049386850251\n",
      "1970-01-01 00:00:00 Buy (33916.36): ask: 33916.36\n",
      "1970-01-01 00:00:00 Sell (34057.5) profit: 0.4161 total: 110.98663522329412\n",
      "1970-01-01 00:00:00 Buy (33644.04): ask: 33644.04\n",
      "1970-01-01 00:00:00 Sell (33876.71) profit: 0.6916 total: 111.67819901884305\n",
      "1970-01-01 00:00:00 Buy (33866.65): ask: 33866.65\n",
      "1970-01-01 00:00:00 Sell (33987.21) profit: 0.356 total: 112.03418344600072\n",
      "1970-01-01 00:00:00 Buy (33745.58): ask: 33745.58\n",
      "1970-01-01 00:00:00 Sell (33962.67) profit: 0.6433 total: 112.67749732592218\n",
      "1970-01-01 00:00:00 Buy (34010.56): ask: 34010.56\n",
      "1970-01-01 00:00:00 Sell (34113.85) profit: 0.3037 total: 112.98119711798677\n",
      "1970-01-01 00:00:00 Buy (34142.89): ask: 34142.89\n",
      "1970-01-01 00:00:00 Sell (34347.68) profit: 0.5998 total: 113.58099988805104\n",
      "1970-01-01 00:00:00 Buy (34064.85): ask: 34064.85\n",
      "1970-01-01 00:00:00 Sell (34263.38) profit: 0.5828 total: 114.16380004715933\n",
      "1970-01-01 00:00:00 Buy (34136.04): ask: 34136.04\n",
      "1970-01-01 00:00:00 Sell (34325.65) profit: 0.5555 total: 114.71925404826783\n",
      "1970-01-01 00:00:00 Buy (34439.71): ask: 34439.71\n",
      "1970-01-01 00:00:00 Sell (34770.74) profit: 0.9612 total: 115.68044100367483\n",
      "1970-01-01 00:00:00 Buy (34679.87): ask: 34679.87\n",
      "1970-01-01 00:00:00 Sell (34811.94) profit: 0.3808 total: 116.06126711403799\n",
      "1970-01-01 00:00:00 Buy (34619.13): ask: 34619.13\n",
      "1970-01-01 00:00:00 Sell (34871.81) profit: 0.7299 total: 116.7911525848745\n",
      "1970-01-01 00:00:00 Buy (34550.73): ask: 34550.73\n",
      "1970-01-01 00:00:00 Sell (34729.71) profit: 0.518 total: 117.30917347763132\n",
      "1970-01-01 00:00:00 Buy (34172.39): ask: 34172.39\n",
      "1970-01-01 00:00:00 Sell (34250.24) profit: 0.2278 total: 117.53698897429396\n",
      "1970-01-01 00:00:00 Buy (33223.76): ask: 33223.76\n",
      "1970-01-01 00:00:00 Sell (33357.77) profit: 0.4034 total: 117.9403448858464\n",
      "1970-01-01 00:00:00 Buy (33194.39): ask: 33194.39\n",
      "1970-01-01 00:00:00 Sell (33298.5) profit: 0.3136 total: 118.25398222034781\n",
      "1970-01-01 00:00:00 Buy (32893.79): ask: 32893.79\n",
      "1970-01-01 00:00:00 Sell (33312.74) profit: 1.2736 total: 119.52762688093571\n",
      "1970-01-01 00:00:00 Buy (32329.61): ask: 32329.61\n",
      "1970-01-01 00:00:00 Sell (32687.33) profit: 1.1065 total: 120.63410481246659\n",
      "1970-01-01 00:00:00 Buy (32590.83): ask: 32590.83\n",
      "1970-01-01 00:00:00 Sell (32816.4) profit: 0.6921 total: 121.32623201511838\n",
      "1970-01-01 00:00:00 Buy (32385.49): ask: 32385.49\n",
      "1970-01-01 00:00:00 Sell (32645.72) profit: 0.8035 total: 122.12977088391425\n",
      "1970-01-01 00:00:00 Buy (32696.81): ask: 32696.81\n",
      "1970-01-01 00:00:00 Sell (32837.22) profit: 0.4294 total: 122.55920115555237\n",
      "1970-01-01 00:00:00 Buy (32706.52): ask: 32706.52\n",
      "1970-01-01 00:00:00 Sell (32825.08) profit: 0.3625 total: 122.9216976852963\n",
      "1970-01-01 00:00:00 Buy (32757.14): ask: 32757.14\n",
      "1970-01-01 00:00:00 Sell (32992.31) profit: 0.7179 total: 123.63961750369313\n",
      "1970-01-01 00:00:00 Buy (32825.08): ask: 32825.08\n",
      "1970-01-01 00:00:00 Sell (32930.5) profit: 0.3212 total: 123.96077437520722\n",
      "1970-01-01 00:00:00 Buy (32597.0): ask: 32597.0\n",
      "1970-01-01 00:00:00 Sell (32869.6) profit: 0.8363 total: 124.79704765188912\n",
      "1970-01-01 00:00:00 Buy (32346.88): ask: 32346.88\n",
      "1970-01-01 00:00:00 Sell (32991.04) profit: 1.9914 total: 126.78846073407819\n",
      "1970-01-01 00:00:00 Buy (33036.1): ask: 33036.1\n",
      "1970-01-01 00:00:00 Sell (33116.01) profit: 0.2419 total: 127.03034763961486\n",
      "1970-01-01 00:00:00 Buy (32800.69): ask: 32800.69\n",
      "1970-01-01 00:00:00 Sell (32934.27) profit: 0.4072 total: 127.43759517007838\n",
      "1970-01-01 00:00:00 Buy (32753.23): ask: 32753.23\n",
      "1970-01-01 00:00:00 Sell (32990.87) profit: 0.7255 total: 128.16314193294727\n",
      "1970-01-01 00:00:00 Buy (32717.16): ask: 32717.16\n",
      "1970-01-01 00:00:00 Sell (33468.46) profit: 2.2963 total: 130.45949039351046\n",
      "1970-01-01 00:00:00 Buy (33461.17): ask: 33461.17\n",
      "1970-01-01 00:00:00 Sell (33595.18) profit: 0.4005 total: 130.859984458721\n",
      "1970-01-01 00:00:00 Buy (33506.08): ask: 33506.08\n",
      "1970-01-01 00:00:00 Sell (33869.97) profit: 1.086 total: 131.94602615622782\n",
      "1970-01-01 00:00:00 Buy (33830.73): ask: 33830.73\n",
      "1970-01-01 00:00:00 Sell (34221.66) profit: 1.1555 total: 133.10157319881307\n",
      "1970-01-01 00:00:00 Buy (33646.02): ask: 33646.02\n",
      "1970-01-01 00:00:00 Sell (33849.8) profit: 0.6057 total: 133.70723175813157\n",
      "1970-01-01 00:00:00 Buy (33843.5): ask: 33843.5\n",
      "1970-01-01 00:00:00 Sell (34117.53) profit: 0.8097 total: 134.5169293366917\n",
      "1970-01-01 00:00:00 Buy (33139.17): ask: 33139.17\n",
      "1970-01-01 00:00:00 Sell (33290.93) profit: 0.4579 total: 134.97487683507504\n",
      "1970-01-01 00:00:00 Buy (33368.34): ask: 33368.34\n",
      "1970-01-01 00:00:00 Sell (33543.64) profit: 0.5253 total: 135.50022511431217\n",
      "1970-01-01 00:00:00 Buy (33541.46): ask: 33541.46\n",
      "1970-01-01 00:00:00 Sell (33674.19) profit: 0.3957 total: 135.89594432271872\n",
      "1970-01-01 00:00:00 Buy (33521.48): ask: 33521.48\n",
      "1970-01-01 00:00:00 Sell (33595.93) profit: 0.2221 total: 136.1180407218037\n",
      "1970-01-01 00:00:00 Buy (33614.69): ask: 33614.69\n",
      "1970-01-01 00:00:00 Sell (33693.64) profit: 0.2349 total: 136.35290827524537\n",
      "1970-01-01 00:00:00 Buy (33374.95): ask: 33374.95\n",
      "1970-01-01 00:00:00 Sell (33552.41) profit: 0.5317 total: 136.88462442762915\n",
      "1970-01-01 00:00:00 Buy (33405.0): ask: 33405.0\n",
      "1970-01-01 00:00:00 Sell (33539.48) profit: 0.4026 total: 137.2871988925296\n",
      "1970-01-01 00:00:00 Buy (33506.09): ask: 33506.09\n",
      "1970-01-01 00:00:00 Sell (33715.04) profit: 0.6236 total: 137.91081686764994\n",
      "1970-01-01 00:00:00 Buy (33652.58): ask: 33652.58\n",
      "1970-01-01 00:00:00 Sell (33752.99) profit: 0.2984 total: 138.20918923612805\n",
      "1970-01-01 00:00:00 Buy (33706.08): ask: 33706.08\n",
      "1970-01-01 00:00:00 Sell (33933.99) profit: 0.6762 total: 138.88535804602822\n",
      "1970-01-01 00:00:00 Buy (33906.59): ask: 33906.59\n",
      "1970-01-01 00:00:00 Sell (33985.05) profit: 0.2314 total: 139.1167584906026\n",
      "1970-01-01 00:00:00 Buy (33855.54): ask: 33855.54\n",
      "1970-01-01 00:00:00 Sell (33984.66) profit: 0.3814 total: 139.4981436346588\n",
      "1970-01-01 00:00:00 Buy (33862.78): ask: 33862.78\n",
      "1970-01-01 00:00:00 Sell (34475.69) profit: 1.81 total: 141.30812497700578\n",
      "1970-01-01 00:00:00 Buy (34188.89): ask: 34188.89\n",
      "1970-01-01 00:00:00 Sell (34461.76) profit: 0.7981 total: 142.10624974794746\n",
      "1970-01-01 00:00:00 Buy (33417.61): ask: 33417.61\n",
      "1970-01-01 00:00:00 Sell (33508.23) profit: 0.2712 total: 142.37742413773776\n",
      "1970-01-01 00:00:00 Buy (32815.02): ask: 32815.02\n",
      "1970-01-01 00:00:00 Sell (32952.64) profit: 0.4194 total: 142.7968052626007\n",
      "1970-01-01 00:00:00 Buy (32877.99): ask: 32877.99\n",
      "1970-01-01 00:00:00 Sell (33063.19) profit: 0.5633 total: 143.36010003822418\n",
      "1970-01-01 00:00:00 Buy (33015.04): ask: 33015.04\n",
      "1970-01-01 00:00:00 Sell (33171.75) profit: 0.4747 total: 143.83476249509232\n",
      "1970-01-01 00:00:00 Buy (33084.49): ask: 33084.49\n",
      "1970-01-01 00:00:00 Sell (33205.77) profit: 0.3666 total: 144.20133909941657\n"
     ]
    },
    {
     "name": "stdout",
     "output_type": "stream",
     "text": [
      "1970-01-01 00:00:00 Buy (32936.12): ask: 32936.12\n",
      "1970-01-01 00:00:00 Sell (33211.17) profit: 0.8351 total: 145.03644050176752\n",
      "1970-01-01 00:00:00 Buy (32355.23): ask: 32355.23\n",
      "1970-01-01 00:00:00 Sell (32567.59) profit: 0.6563 total: 145.69277952331055\n",
      "1970-01-01 00:00:00 Buy (32504.12): ask: 32504.12\n",
      "1970-01-01 00:00:00 Sell (32573.33) profit: 0.2129 total: 145.90570637689098\n",
      "1970-01-01 00:00:00 Buy (32589.98): ask: 32589.98\n",
      "1970-01-01 00:00:00 Sell (32705.07) profit: 0.3531 total: 146.25885173015598\n",
      "1970-01-01 00:00:00 Buy (32646.25): ask: 32646.25\n",
      "1970-01-01 00:00:00 Sell (32768.39) profit: 0.3741 total: 146.63298352170938\n",
      "1970-01-01 00:00:00 Buy (32286.64): ask: 32286.64\n",
      "1970-01-01 00:00:00 Sell (32476.75) profit: 0.5888 total: 147.2218029219319\n",
      "1970-01-01 00:00:00 Buy (32501.04): ask: 32501.04\n",
      "1970-01-01 00:00:00 Sell (32589.53) profit: 0.2723 total: 147.4940711324261\n",
      "1970-01-01 00:00:00 Buy (32632.19): ask: 32632.19\n",
      "1970-01-01 00:00:00 Sell (32703.09) profit: 0.2173 total: 147.71134125741617\n",
      "1970-01-01 00:00:00 Buy (32378.87): ask: 32378.87\n",
      "1970-01-01 00:00:00 Sell (32560.72) profit: 0.5616 total: 148.27297296352575\n",
      "1970-01-01 00:00:00 Buy (31812.93): ask: 31812.93\n",
      "1970-01-01 00:00:00 Sell (31973.73) profit: 0.5055 total: 148.7784278210318\n",
      "1970-01-01 00:00:00 Buy (31765.49): ask: 31765.49\n",
      "1970-01-01 00:00:00 Sell (31910.69) profit: 0.4571 total: 149.235527648549\n",
      "1970-01-01 00:00:00 Buy (31748.02): ask: 31748.02\n",
      "1970-01-01 00:00:00 Sell (32361.16) profit: 1.9313 total: 151.1667976931061\n",
      "1970-01-01 00:00:00 Buy (32393.9): ask: 32393.9\n",
      "1970-01-01 00:00:00 Sell (32525.28) profit: 0.4056 total: 151.57236787761616\n",
      "1970-01-01 00:00:00 Buy (32442.45): ask: 32442.45\n",
      "1970-01-01 00:00:00 Sell (32527.96) profit: 0.2636 total: 151.83594229939996\n",
      "1970-01-01 00:00:00 Buy (32330.7): ask: 32330.7\n",
      "1970-01-01 00:00:00 Sell (32721.48) profit: 1.2087 total: 153.0446386777648\n",
      "1970-01-01 00:00:00 Buy (32734.29): ask: 32734.29\n",
      "1970-01-01 00:00:00 Sell (32866.04) profit: 0.4025 total: 153.44712182311483\n",
      "1970-01-01 00:00:00 Buy (32810.62): ask: 32810.62\n",
      "1970-01-01 00:00:00 Sell (32914.35) profit: 0.3161 total: 153.7632694606785\n",
      "1970-01-01 00:00:00 Buy (32782.75): ask: 32782.75\n",
      "1970-01-01 00:00:00 Sell (32905.93) profit: 0.3757 total: 154.13901585169205\n",
      "1970-01-01 00:00:00 Buy (32738.65): ask: 32738.65\n",
      "1970-01-01 00:00:00 Sell (32850.94) profit: 0.343 total: 154.48200494867683\n",
      "1970-01-01 00:00:00 Buy (32902.84): ask: 32902.84\n",
      "1970-01-01 00:00:00 Sell (32978.97) profit: 0.2314 total: 154.71338315189575\n",
      "1970-01-01 00:00:00 Buy (32826.29): ask: 32826.29\n",
      "1970-01-01 00:00:00 Sell (32947.22) profit: 0.3684 total: 155.0817768997119\n",
      "1970-01-01 00:00:00 Buy (32532.61): ask: 32532.61\n",
      "1970-01-01 00:00:00 Sell (32598.35) profit: 0.2021 total: 155.2838510646805\n",
      "1970-01-01 00:00:00 Buy (32443.45): ask: 32443.45\n",
      "1970-01-01 00:00:00 Sell (32514.66) profit: 0.2195 total: 155.50334066889954\n",
      "1970-01-01 00:00:00 Buy (32357.84): ask: 32357.84\n",
      "1970-01-01 00:00:00 Sell (32488.54) profit: 0.4039 total: 155.90726132614984\n",
      "1970-01-01 00:00:00 Buy (31739.19): ask: 31739.19\n",
      "1970-01-01 00:00:00 Sell (31900.0) profit: 0.5067 total: 156.41392201912907\n"
     ]
    },
    {
     "data": {
      "text/plain": [
       "<stock_agent.BackTest at 0x7fd11784d790>"
      ]
     },
     "execution_count": 11,
     "metadata": {},
     "output_type": "execute_result"
    }
   ],
   "source": [
    "back = BackTest(value = 100, \n",
    "                verbose = True, \n",
    "                sell_on_profit = False,\n",
    "                pending_sell_steps = step)\n",
    "\n",
    "\n",
    "backtest_baseline(x, y, closed_prices, step, back)"
   ]
  },
  {
   "cell_type": "code",
   "execution_count": 12,
   "metadata": {},
   "outputs": [
    {
     "data": {
      "text/plain": [
       "156.41392201912907"
      ]
     },
     "execution_count": 12,
     "metadata": {},
     "output_type": "execute_result"
    }
   ],
   "source": [
    "back.current"
   ]
  },
  {
   "cell_type": "code",
   "execution_count": 13,
   "metadata": {},
   "outputs": [
    {
     "data": {
      "text/plain": [
       "array([34162.9 , 34269.56, 34220.15, 34174.91, 34216.83, 34256.42,\n",
       "       34404.01, 34369.32, 34296.22, 34311.52, 34371.26, 34430.68,\n",
       "       34472.48, 34489.11, 34256.8 , 33775.46, 33611.55, 33393.01,\n",
       "       33529.58, 33521.96, 33524.7 , 33462.1 , 33683.71, 33664.57,\n",
       "       33717.96, 33636.59, 33664.34, 33604.88, 33679.46, 33711.95])"
      ]
     },
     "execution_count": 13,
     "metadata": {},
     "output_type": "execute_result"
    }
   ],
   "source": [
    "\n",
    "closed_prices[:30]\n",
    "\n"
   ]
  },
  {
   "cell_type": "code",
   "execution_count": 14,
   "metadata": {
    "scrolled": true
   },
   "outputs": [
    {
     "name": "stdout",
     "output_type": "stream",
     "text": [
      "BackTest (pending_sell_steps=2 sell_on_profit=True  value=100\n",
      "1970-01-01 00:00:00 Buy (34162.9): ask: 34162.9\n",
      "1970-01-01 00:00:00 Sell (34269.56) profit: 0.3122 total: 100.31221002900806\n",
      "1970-01-01 00:00:00 Buy (34176.98): ask: 34176.98\n",
      "1970-01-01 00:00:00 Sell (34191.56) profit: 0.0427 total: 100.35487032257406\n",
      "1970-01-01 00:00:00 Buy (34433.55): ask: 34433.55\n",
      "#### LOSSSS: -0.3171\n",
      "1970-01-01 00:00:00 Sell (34324.35) profit: -0.3171 total: 100.03773775854854\n",
      "#### LOSSSS: 0.0\n",
      "1970-01-01 00:00:00 Sell (31321.95) profit: 0.0 total: 100.03773775854854\n"
     ]
    }
   ],
   "source": [
    "back = BackTest(value = 100, \n",
    "                verbose = True, \n",
    "                sell_on_profit = True,\n",
    "                pending_sell_steps = step)\n",
    "\n",
    "back = backtest_model(cls, x, closed_prices, back)"
   ]
  },
  {
   "cell_type": "code",
   "execution_count": 15,
   "metadata": {},
   "outputs": [
    {
     "data": {
      "text/plain": [
       "100.03773775854854"
      ]
     },
     "execution_count": 15,
     "metadata": {},
     "output_type": "execute_result"
    }
   ],
   "source": [
    "back.current"
   ]
  },
  {
   "cell_type": "code",
   "execution_count": null,
   "metadata": {},
   "outputs": [],
   "source": []
  }
 ],
 "metadata": {
  "kernelspec": {
   "display_name": "Python 3",
   "language": "python",
   "name": "python3"
  },
  "language_info": {
   "codemirror_mode": {
    "name": "ipython",
    "version": 3
   },
   "file_extension": ".py",
   "mimetype": "text/x-python",
   "name": "python",
   "nbconvert_exporter": "python",
   "pygments_lexer": "ipython3",
   "version": "3.9.5"
  }
 },
 "nbformat": 4,
 "nbformat_minor": 2
}
