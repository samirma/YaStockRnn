{
 "cells": [
  {
   "cell_type": "code",
   "execution_count": 1,
   "metadata": {},
   "outputs": [],
   "source": [
    "import pandas as pd\n",
    "import data_util\n",
    "from tec_an import TecAn\n",
    "import numpy as np\n",
    "from data_util import *\n",
    "from bitstamp import *\n",
    "from sklearn_model_hyper import *\n",
    "from joblib import dump, load\n",
    "from data_generator import *\n",
    "from data_agent import *\n",
    "from stock_agent import *\n",
    "from backtest import *\n",
    "\n",
    "from sklearn.pipeline import make_pipeline\n",
    "from sklearn.preprocessing import StandardScaler, MinMaxScaler, Normalizer\n",
    "from sklearn.neural_network import MLPClassifier\n"
   ]
  },
  {
   "cell_type": "code",
   "execution_count": 2,
   "metadata": {},
   "outputs": [],
   "source": [
    "live = LiveTrader()"
   ]
  },
  {
   "cell_type": "code",
   "execution_count": 3,
   "metadata": {},
   "outputs": [],
   "source": [
    "live.init()"
   ]
  },
  {
   "cell_type": "code",
   "execution_count": 4,
   "metadata": {},
   "outputs": [
    {
     "data": {
      "text/plain": [
       "[]"
      ]
     },
     "execution_count": 4,
     "metadata": {},
     "output_type": "execute_result"
    }
   ],
   "source": [
    "live.user_transactions(3)"
   ]
  },
  {
   "cell_type": "code",
   "execution_count": 5,
   "metadata": {},
   "outputs": [],
   "source": [
    "def get_online_data(minutes, source_data_generator, load_from_disk, file_prefix = \"\"):\n",
    "    \n",
    "    online = OnLineDataProvider(\n",
    "                 source_data_generator = source_data_generator,\n",
    "                 minutes = minutes,\n",
    "                 train_keys = [],\n",
    "                 train_limit = 1000,\n",
    "                 val_limit = 1000,\n",
    "                 val_keys = [\"btcusd\"],\n",
    "                 val_start = 1234,\n",
    "                 val_end = 1234,\n",
    "                 train_start_list = []\n",
    "    )\n",
    "\n",
    "    online_path = f'data/online{file_prefix}_{minutes}'\n",
    "    \n",
    "    if (load_from_disk):\n",
    "        online = load(online_path)    \n",
    "    else:\n",
    "        #online.load_train_cache()\n",
    "        online.load_cache()\n",
    "        online.sourceDataGenerator = None\n",
    "        dump(online, online_path)\n",
    "        \n",
    "    \n",
    "    return online"
   ]
  },
  {
   "cell_type": "code",
   "execution_count": 6,
   "metadata": {},
   "outputs": [],
   "source": [
    "cls = make_pipeline( StandardScaler(),\n",
    "        MLPClassifier(\n",
    "            solver='lbfgs', alpha=1, random_state=1, max_iter=20000,\n",
    "            early_stopping=True)\n",
    "        )"
   ]
  },
  {
   "cell_type": "code",
   "execution_count": 19,
   "metadata": {},
   "outputs": [],
   "source": [
    "tec = TecAn(windows = 30, windows_limit = 100)\n",
    "sourceDataGenerator = SourceDataGenerator(tec = tec)\n",
    "online = get_online_data(15, sourceDataGenerator, True, 30)"
   ]
  },
  {
   "cell_type": "code",
   "execution_count": 20,
   "metadata": {},
   "outputs": [],
   "source": [
    "trainX_raw, trainY_raw = online.load_train_data()\n",
    "x, y, closed_prices = prepare_train_data(trainX_raw, trainY_raw, 1)"
   ]
  },
  {
   "cell_type": "code",
   "execution_count": 100,
   "metadata": {},
   "outputs": [],
   "source": [
    "def get_y_data(ohlc, shift = -1):\n",
    "    combined_data = ohlc.copy()\n",
    "    #combined_data['return'] = np.log(combined_data / combined_data.shift(1))\n",
    "    \n",
    "    keys = []\n",
    "    #print(f\"##### {shift}\")\n",
    "    steps = (shift * -1) + 1\n",
    "    for idx in range(1, steps):\n",
    "        returns = (ohlc / ohlc.shift(-1 * idx))\n",
    "        key = f'{idx}'\n",
    "        keys.append(key)\n",
    "        combined_data[key] = returns\n",
    "    \n",
    "    for key in keys:\n",
    "        combined_data[f'direction{key}'] = np.where(combined_data[key] < 0.997, 1, 0)\n",
    "    \n",
    "    combined_data[f'direction'] = combined_data[f'direction{keys[0]}']\n",
    "    for idx in range(1, len(keys)):\n",
    "        combined_data[f'direction'] = combined_data[f'direction{keys[idx]}'] + combined_data[f'direction'] \n",
    "    \n",
    "    combined_data[f'y'] = np.where(combined_data['direction'] > 0, 1, 0)\n",
    "    \n",
    "    print(combined_data)\n",
    "    \n",
    "    return combined_data[f'y'].to_numpy()"
   ]
  },
  {
   "cell_type": "code",
   "execution_count": 101,
   "metadata": {},
   "outputs": [],
   "source": [
    "close = pd.DataFrame(trainY_raw, columns = ['Close'])"
   ]
  },
  {
   "cell_type": "code",
   "execution_count": 102,
   "metadata": {},
   "outputs": [
    {
     "name": "stdout",
     "output_type": "stream",
     "text": [
      "         Close         1  direction1  direction  y\n",
      "0     32625.67  1.006118           0          0  0\n",
      "1     32427.29  0.995271           1          1  1\n",
      "2     32581.37  0.999744           0          0  0\n",
      "3     32589.70  0.996903           1          1  1\n",
      "4     32690.95  0.992127           1          1  1\n",
      "...        ...       ...         ...        ... ..\n",
      "7987  37085.33  0.998571           0          0  0\n",
      "7988  37138.41  1.000665           0          0  0\n",
      "7989  37113.72  0.998580           0          0  0\n",
      "7990  37166.48  1.004472           0          0  0\n",
      "7991  37001.01       NaN           0          0  0\n",
      "\n",
      "[7992 rows x 5 columns]\n"
     ]
    }
   ],
   "source": [
    "yy = get_y_data(close, -1)"
   ]
  },
  {
   "cell_type": "code",
   "execution_count": 103,
   "metadata": {},
   "outputs": [
    {
     "name": "stdout",
     "output_type": "stream",
     "text": [
      "Counter({0: 6831, 1: 1161})\n"
     ]
    }
   ],
   "source": [
    "print(Counter(yy))"
   ]
  },
  {
   "cell_type": "code",
   "execution_count": 99,
   "metadata": {},
   "outputs": [
    {
     "name": "stdout",
     "output_type": "stream",
     "text": [
      "Counter({0: 6303, 1: 1689})\n"
     ]
    }
   ],
   "source": [
    "print(Counter(yy))"
   ]
  },
  {
   "cell_type": "code",
   "execution_count": null,
   "metadata": {},
   "outputs": [],
   "source": []
  },
  {
   "cell_type": "code",
   "execution_count": null,
   "metadata": {},
   "outputs": [],
   "source": []
  },
  {
   "cell_type": "code",
   "execution_count": null,
   "metadata": {},
   "outputs": [],
   "source": []
  },
  {
   "cell_type": "code",
   "execution_count": 8,
   "metadata": {},
   "outputs": [
    {
     "data": {
      "text/plain": [
       "(array([[ 1.64137365e+00,  4.03211107e-01, -7.86578302e+00, ...,\n",
       "         -1.24449017e-01, -8.68977673e-01, -1.33274854e+00],\n",
       "        [ 4.01597033e-01,  3.35500840e-01, -2.18505879e+00, ...,\n",
       "         -1.48594286e-01, -8.71896015e-01, -6.95664504e+00],\n",
       "        [-7.21481523e+00,  3.15081370e-01, -1.40318415e+01, ...,\n",
       "         -4.70509068e-01, -2.81936268e+00, -2.24095468e+00],\n",
       "        ...,\n",
       "        [-2.43097014e-01,  4.85940776e-01, -1.87323996e+00, ...,\n",
       "         -1.12681688e-02, -1.42672242e-01,  9.44619423e-01],\n",
       "        [-1.58798986e+02,  2.14454952e-01,  2.85568570e+00, ...,\n",
       "         -6.46519104e-01, -2.98552843e+00, -4.08735392e+00],\n",
       "        [ 5.78439448e+00,  5.42046109e-01, -7.93549213e-01, ...,\n",
       "          4.43062509e-02,  5.09401809e-01, -3.08612901e-01]]),\n",
       " array([0, 1, 0, ..., 0, 1, 1]),\n",
       " array([ 3374.57,  9448.99,  9859.86, ...,  7691.98, 37457.49,  9319.52]))"
      ]
     },
     "execution_count": 8,
     "metadata": {},
     "output_type": "execute_result"
    }
   ],
   "source": [
    "train_by_step(cls, 1, online)"
   ]
  },
  {
   "cell_type": "code",
   "execution_count": 10,
   "metadata": {},
   "outputs": [],
   "source": [
    "back = BackTest(value = 100,\n",
    "                        verbose = True, \n",
    "                        sell_on_profit = True)"
   ]
  },
  {
   "cell_type": "code",
   "execution_count": 11,
   "metadata": {},
   "outputs": [],
   "source": [
    "request_sell = lambda price: back.request_sell(price)\n",
    "request_buy = lambda price: back.request_buy(price)\n",
    "on_state = lambda timestamp, price: back.on_state(timestamp, price)"
   ]
  },
  {
   "cell_type": "code",
   "execution_count": 12,
   "metadata": {},
   "outputs": [
    {
     "name": "stdout",
     "output_type": "stream",
     "text": [
      "1970-01-01 00:00:00 Buy (3): ask: 10\n"
     ]
    }
   ],
   "source": [
    "on_state(0, 3)\n",
    "request_buy(10)"
   ]
  },
  {
   "cell_type": "code",
   "execution_count": 13,
   "metadata": {},
   "outputs": [
    {
     "name": "stdout",
     "output_type": "stream",
     "text": [
      "#### LOSSSS: 0.0\n",
      "1970-01-01 00:00:00 Sell (3) profit: 0.0 total: 100.0\n"
     ]
    }
   ],
   "source": [
    "\n",
    "request_sell(10)\n"
   ]
  }
 ],
 "metadata": {
  "kernelspec": {
   "display_name": "Python 3",
   "language": "python",
   "name": "python3"
  },
  "language_info": {
   "codemirror_mode": {
    "name": "ipython",
    "version": 3
   },
   "file_extension": ".py",
   "mimetype": "text/x-python",
   "name": "python",
   "nbconvert_exporter": "python",
   "pygments_lexer": "ipython3",
   "version": "3.9.5"
  }
 },
 "nbformat": 4,
 "nbformat_minor": 2
}
