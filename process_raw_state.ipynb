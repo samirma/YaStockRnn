{
 "cells": [
  {
   "cell_type": "code",
   "execution_count": 1,
   "metadata": {},
   "outputs": [],
   "source": [
    "import pandas as pd\n",
    "import data_util\n",
    "from tec_an import TecAn\n",
    "import numpy as np\n",
    "from data_util import *\n",
    "from bitstamp import *\n",
    "from sklearn_model_hyper import *\n",
    "from joblib import dump, load\n",
    "from data_generator import *\n",
    "from data_agent import *\n",
    "from stock_agent import *\n",
    "from backtest import *\n",
    "\n",
    "from sklearn.pipeline import make_pipeline\n",
    "from sklearn.preprocessing import StandardScaler, MinMaxScaler, Normalizer\n",
    "from sklearn.neural_network import MLPClassifier\n",
    "from sklearn.linear_model import LogisticRegression\n",
    "from sklearn.svm import SVC\n",
    "from sklearn.pipeline import make_pipeline\n",
    "from sklearn.pipeline import Pipeline\n",
    "from sklearn.tree import DecisionTreeClassifier\n",
    "from sklearn.ensemble import RandomForestClassifier\n",
    "\n",
    "import xgboost as xgb\n"
   ]
  },
  {
   "cell_type": "code",
   "execution_count": 2,
   "metadata": {},
   "outputs": [],
   "source": [
    "def get_online_data(minutes, source_data_generator, load_from_disk, file_prefix = \"\"):\n",
    "    \n",
    "    online = OnLineDataProvider(\n",
    "                 source_data_generator = source_data_generator,\n",
    "                 minutes = minutes,\n",
    "                 train_keys = [],\n",
    "                 train_limit = 1000,\n",
    "                 val_limit = 1000,\n",
    "                 val_keys = [\"btcusd\"],\n",
    "                 val_start = 1234,\n",
    "                 val_end = 1234,\n",
    "                 train_start_list = []\n",
    "    )\n",
    "\n",
    "    online_path = f'data/online{file_prefix}_{minutes}'\n",
    "    \n",
    "    if (load_from_disk):\n",
    "        online = load(online_path)    \n",
    "    else:\n",
    "        #online.load_train_cache()\n",
    "        online.load_cache()\n",
    "        online.sourceDataGenerator = None\n",
    "        dump(online, online_path)\n",
    "        \n",
    "    \n",
    "    return online"
   ]
  },
  {
   "cell_type": "code",
   "execution_count": 3,
   "metadata": {},
   "outputs": [],
   "source": [
    "win = 40\n",
    "minus = 15\n",
    "step =  1\n",
    "\n",
    "tec = TecAn(windows = win, windows_limit = 100)\n",
    "sourceDataGenerator = SourceDataGenerator(tec = tec)\n",
    "online = get_online_data(minus, sourceDataGenerator, True, win)"
   ]
  },
  {
   "cell_type": "code",
   "execution_count": 4,
   "metadata": {},
   "outputs": [
    {
     "name": "stdout",
     "output_type": "stream",
     "text": [
      "Counter({0: 16198, 1: 7778})\n"
     ]
    }
   ],
   "source": [
    "train_x_raw, train_y_raw = online.load_train_data()\n",
    "train_x, train_y, _closed_prices = get_sequencial_data(train_x_raw, train_y_raw , step)\n",
    "print(Counter(train_y))"
   ]
  },
  {
   "cell_type": "code",
   "execution_count": null,
   "metadata": {},
   "outputs": [],
   "source": []
  },
  {
   "cell_type": "code",
   "execution_count": 5,
   "metadata": {},
   "outputs": [],
   "source": [
    "from pandas import DataFrame\n",
    "from pandas import concat\n",
    "\n",
    "def series_to_supervised(data, n_in=1, n_out=1):\n",
    "    n_vars = 1\n",
    "    df = pd.DataFrame(data)\n",
    "    cols = list()\n",
    "    # input sequence (t-n, ... t-1)\n",
    "    for i in range(n_in, 0, -1):\n",
    "        cols.append(df.shift(i))\n",
    "    # forecast sequence (t, t+1, ... t+n)\n",
    "    for i in range(0, n_out):\n",
    "        cols.append(df.shift(i))\n",
    "    # put it all together\n",
    "    agg = concat(cols, axis=1)\n",
    "    # drop rows with NaN values\n",
    "    \n",
    "    return agg.fillna(0).values"
   ]
  },
  {
   "cell_type": "code",
   "execution_count": null,
   "metadata": {},
   "outputs": [],
   "source": []
  },
  {
   "cell_type": "code",
   "execution_count": null,
   "metadata": {},
   "outputs": [],
   "source": []
  },
  {
   "cell_type": "code",
   "execution_count": 6,
   "metadata": {},
   "outputs": [],
   "source": [
    "past = [ i for i in range(5)]\n",
    "\n",
    "scoring = [\n",
    "    #'accuracy', \n",
    "    'f1', \n",
    "    'precision', \n",
    "    'recall'\n",
    "]\n",
    "\n",
    "score = 'recall'"
   ]
  },
  {
   "cell_type": "code",
   "execution_count": 7,
   "metadata": {},
   "outputs": [],
   "source": [
    "\n",
    "def getModel():\n",
    "    param = {'criterion': 'entropy', 'max_depth': 100, 'n_estimators': 30, 'random_state': 42}\n",
    "    #param = {'criterion': 'entropy', 'max_depth': 10, 'n_estimators': 3, 'random_state': 42}\n",
    "    coModel = RandomForestClassifier(**param)\n",
    "    return coModel"
   ]
  },
  {
   "cell_type": "code",
   "execution_count": 8,
   "metadata": {},
   "outputs": [],
   "source": [
    "from sklearn.feature_selection import SelectFromModel\n",
    "from sklearn.gaussian_process import GaussianProcessClassifier\n",
    "from catboost import CatBoostClassifier\n",
    "from sklearn.feature_selection import RFE, RFECV\n",
    "from pytorch_tabnet.tab_model import TabNetClassifier\n",
    "\n",
    "def test(score, n_in):\n",
    "    \n",
    "    train_x_raw, train_y_raw = online.load_train_data()\n",
    "    train_x, train_y, _closed_prices = get_sequencial_data(series_to_supervised(train_x_raw, n_in=n_in), train_y_raw , step)\n",
    "    \n",
    "    #train_x, train_y = get_balanced_set(train_x, train_y)\n",
    "\n",
    "    val_x_raw, val_y_raw = online.load_val_data(\"ltceur\")\n",
    "    val_x, val_y, closed_prices = get_sequencial_data(series_to_supervised(val_x_raw, n_in=n_in), val_y_raw , step)\n",
    "\n",
    "\n",
    "    svc = DecisionTreeClassifier(random_state=10)\n",
    "    #svc = RandomForestClassifier(random_state=10)\n",
    "    #svc = xgb.XGBClassifier(random_state=10)\n",
    "    \n",
    "    \n",
    "    \n",
    "    \n",
    "    cls = xgb.XGBClassifier(random_state=1,\n",
    "                                       objective = \"binary:logistic\",\n",
    "                                       eval_metric='mlogloss',\n",
    "                                       learning_rate=0.01, \n",
    "                                       #use_label_encoder = True\n",
    "                           )\n",
    "    \n",
    "    cls = make_pipeline(StandardScaler(),\n",
    "                                MLPClassifier(\n",
    "                                    solver='lbfgs', alpha=1, random_state=1, max_iter=20000,\n",
    "                                    early_stopping=True)\n",
    "                                )\n",
    "    \n",
    "    cls = CatBoostClassifier(logging_level = 'Silent')\n",
    "\n",
    "    clf = TabNetClassifier(verbose=0) \n",
    "    \n",
    "    rfecv = RFECV(estimator=svc, scoring=score, min_features_to_select=15)\n",
    "    #rfecv = RFECV(estimator=svc)\n",
    "    #rfecv = SelectFromModel(estimator=svc)\n",
    "    #rfecv = RFE(estimator=RandomForestClassifier(random_state=10), n_features_to_select=10)\n",
    "\n",
    "    pipe = Pipeline(\n",
    "                    steps=[\n",
    "                    #('s',rfecv),\n",
    "                    ('m',cls)\n",
    "                ])\n",
    "    \n",
    "    pipe.fit(train_x, train_y)\n",
    "    \n",
    "\n",
    "    back = BackTest(value = 100, \n",
    "                verbose = False, \n",
    "                sell_on_profit = True,\n",
    "                pending_sell_steps = step)\n",
    "\n",
    "    back = backtest_model(pipe, val_x, closed_prices, back)\n",
    "\n",
    "    print(f\"{score} - {back.current}\")\n",
    "    \n",
    "    return rfecv"
   ]
  },
  {
   "cell_type": "code",
   "execution_count": 9,
   "metadata": {},
   "outputs": [
    {
     "name": "stdout",
     "output_type": "stream",
     "text": [
      "Past 0\n",
      "recall - 106.72623575802629\n",
      "Past 1\n",
      "recall - 97.3817704750262\n",
      "Past 2\n",
      "recall - 113.07427539434092\n",
      "Past 3\n",
      "recall - 107.42462039795745\n",
      "Past 4\n",
      "recall - 99.72518901857205\n"
     ]
    }
   ],
   "source": [
    "for p in past:\n",
    "    print(f\"Past {p}\")\n",
    "    test(score, p)"
   ]
  },
  {
   "cell_type": "code",
   "execution_count": 10,
   "metadata": {},
   "outputs": [
    {
     "ename": "SyntaxError",
     "evalue": "invalid syntax (<ipython-input-10-2ee9071c7e36>, line 1)",
     "output_type": "error",
     "traceback": [
      "\u001b[0;36m  File \u001b[0;32m\"<ipython-input-10-2ee9071c7e36>\"\u001b[0;36m, line \u001b[0;32m1\u001b[0m\n\u001b[0;31m    Counter({0: 18422, 1: 5554}) 106.72623575802629\u001b[0m\n\u001b[0m                                 ^\u001b[0m\n\u001b[0;31mSyntaxError\u001b[0m\u001b[0;31m:\u001b[0m invalid syntax\n"
     ]
    }
   ],
   "source": [
    "Counter({0: 18422, 1: 5554}) 106.72623575802629"
   ]
  },
  {
   "cell_type": "code",
   "execution_count": null,
   "metadata": {},
   "outputs": [],
   "source": [
    "for p in past:\n",
    "    print(f\"Past {p}\")\n",
    "    #test(score, p)\n",
    "    for score in scoring:\n",
    "        rfecv = test(score, p)\n",
    "        #break\n",
    "        "
   ]
  },
  {
   "cell_type": "code",
   "execution_count": null,
   "metadata": {},
   "outputs": [],
   "source": [
    "preds = pipe.predict(xx)"
   ]
  },
  {
   "cell_type": "code",
   "execution_count": null,
   "metadata": {},
   "outputs": [],
   "source": [
    "back = BackTest(value = 100, \n",
    "                verbose = True, \n",
    "                sell_on_profit = True,\n",
    "                pending_sell_steps = step)\n",
    "\n",
    "\n",
    "#backtest_baseline(x, y, closed_prices, step, back)\n",
    "backtest_baseline(x, preds, closed_prices, step, back)\n",
    "\n",
    "print(back.current)"
   ]
  },
  {
   "cell_type": "code",
   "execution_count": null,
   "metadata": {},
   "outputs": [],
   "source": [
    "print(rfecv)\n",
    "min_features_to_select = rfecv.min_features_to_select\n",
    "print(\"Optimal number of features : %d\" % rfecv.n_features_)\n",
    "\n",
    "# Plot number of features VS. cross-validation scores\n",
    "plt.figure()\n",
    "plt.xlabel(\"Number of features selected\")\n",
    "plt.ylabel(\"Cross validation score (nb of correct classifications)\")\n",
    "plt.plot(range(min_features_to_select,\n",
    "               len(rfecv.grid_scores_) + min_features_to_select),\n",
    "         rfecv.grid_scores_)\n",
    "plt.show()"
   ]
  },
  {
   "cell_type": "code",
   "execution_count": null,
   "metadata": {},
   "outputs": [],
   "source": [
    "pd.DataFrame(rfecv.support_)"
   ]
  },
  {
   "cell_type": "code",
   "execution_count": null,
   "metadata": {},
   "outputs": [],
   "source": [
    " datetime.datetime.fromtimestamp(1626174900)"
   ]
  },
  {
   "cell_type": "code",
   "execution_count": null,
   "metadata": {},
   "outputs": [],
   "source": [
    "def load_online(minutes, window, val_end, currency = \"btcusd\"):\n",
    "    tec = TecAn(windows = window, windows_limit = 100)\n",
    "    source_data_generator = SourceDataGenerator(tec = tec)\n",
    "\n",
    "\n",
    "    online = OnLineDataProvider(\n",
    "                 source_data_generator = source_data_generator,\n",
    "                 minutes = minutes,\n",
    "                 train_keys = [],\n",
    "                 train_limit = 40,\n",
    "                 val_limit = 1000,\n",
    "                 val_keys = [currency],\n",
    "                 val_start = val_end - (60),\n",
    "                 val_end = val_end,\n",
    "                 train_start_list = []\n",
    "    )\n",
    "\n",
    "    start = val_end - (60 * 100 * minutes)\n",
    "    end = val_end - (60 * minutes)\n",
    "\n",
    "    online.load_val_cache(\n",
    "                    val_keys = [currency],                  \n",
    "                    start = start,\n",
    "                    end = end)\n",
    "    return online"
   ]
  },
  {
   "cell_type": "code",
   "execution_count": null,
   "metadata": {},
   "outputs": [],
   "source": [
    "load_online(15, 30, 1627217023)"
   ]
  },
  {
   "cell_type": "code",
   "execution_count": null,
   "metadata": {},
   "outputs": [],
   "source": []
  },
  {
   "cell_type": "code",
   "execution_count": null,
   "metadata": {},
   "outputs": [],
   "source": []
  },
  {
   "cell_type": "code",
   "execution_count": null,
   "metadata": {},
   "outputs": [],
   "source": []
  }
 ],
 "metadata": {
  "kernelspec": {
   "display_name": "Python 3",
   "language": "python",
   "name": "python3"
  },
  "language_info": {
   "codemirror_mode": {
    "name": "ipython",
    "version": 3
   },
   "file_extension": ".py",
   "mimetype": "text/x-python",
   "name": "python",
   "nbconvert_exporter": "python",
   "pygments_lexer": "ipython3",
   "version": "3.9.5"
  }
 },
 "nbformat": 4,
 "nbformat_minor": 2
}
