{
 "cells": [
  {
   "cell_type": "code",
   "execution_count": 1,
   "id": "706264fe",
   "metadata": {
    "scrolled": true
   },
   "outputs": [],
   "source": [
    "import pandas as pd\n",
    "import data_util\n",
    "from tqdm.notebook import tqdm\n",
    "#from tqdm import tqdm_notebook as tqdm\n",
    "from data_generator import DataGenerator\n",
    "from tec_an import *\n",
    "import numpy as np\n",
    "from data_util import *\n",
    "from sklearn_model_hyper import *\n",
    "from joblib import dump, load\n",
    "from data_generator import *\n",
    "from data_agent import *\n",
    "from stock_agent import *\n",
    "from backtest import *\n",
    "from bitstamp import *\n",
    "\n",
    "from tqdm.notebook import tqdm\n",
    "\n",
    "import math\n",
    "import pandas as pd\n",
    "import matplotlib.pyplot as plt\n",
    "import scipy.stats as scs\n",
    "import scikitplot as skplt\n",
    "\n",
    "from keras.wrappers.scikit_learn import KerasClassifier\n",
    "from imblearn.over_sampling import RandomOverSampler\n",
    "import random\n",
    "from catboost import CatBoost\n",
    "\n",
    "import numpy as np\n",
    "import matplotlib.pyplot as plt\n",
    "from matplotlib.colors import ListedColormap\n",
    "from sklearn.model_selection import train_test_split\n",
    "from sklearn.datasets import make_moons, make_circles, make_classification\n",
    "from sklearn.neighbors import KNeighborsClassifier\n",
    "from sklearn.svm import SVC\n",
    "from sklearn.gaussian_process.kernels import RBF\n",
    "from sklearn.tree import DecisionTreeClassifier\n",
    "from catboost import CatBoostClassifier\n",
    "from sklearn.ensemble import RandomForestClassifier, AdaBoostClassifier\n",
    "import xgboost as xgb\n",
    "from sklearn.naive_bayes import GaussianNB\n",
    "from sklearn.discriminant_analysis import QuadraticDiscriminantAnalysis\n",
    "from sklearn.linear_model import LogisticRegression\n",
    "from sklearn.utils.validation import check_is_fitted\n",
    "\n",
    "from joblib import dump, load\n",
    "from sklearn.model_selection import train_test_split\n",
    "from sklearn.preprocessing import StandardScaler, MinMaxScaler, Normalizer\n",
    "from sklearn.datasets import make_moons, make_circles, make_classification\n",
    "from sklearn.neural_network import MLPClassifier\n",
    "from sklearn.svm import SVC\n",
    "from sklearn.gaussian_process import GaussianProcessClassifier\n",
    "from sklearn.tree import DecisionTreeClassifier\n",
    "from sklearn.ensemble import RandomForestClassifier, AdaBoostClassifier\n",
    "from sklearn.metrics import *\n",
    "from sklearn.feature_selection import SelectFromModel\n",
    "from sklearn.svm import LinearSVC\n",
    "from sklearn.pipeline import make_pipeline\n",
    "from pytorch_tabnet.tab_model import TabNetClassifier\n",
    "\n",
    "from sklearn.metrics import confusion_matrix\n",
    "from sklearn.pipeline import Pipeline\n",
    "from sklearn.feature_selection import RFE, RFECV\n",
    "\n",
    "path = \"./data/\"\n"
   ]
  },
  {
   "cell_type": "code",
   "execution_count": 2,
   "id": "997362d9",
   "metadata": {},
   "outputs": [],
   "source": [
    "#train_start_list = [1622502000, 1590966000, 1559343600, 1580515200, 1612137600]\n",
    "train_start_list = [1622502000, 1590966000, 1559343600, 1527807600, 1517443200, 1548979200, 1580515200, 1612137600]\n",
    "#train_start_list = [1612137600]\n",
    "train_keys = [\"btcusd\", \"ethusd\", \"bchbtc\"]\n",
    "#train_keys = [\"bchbtc\"]\n",
    "val_start = 1626340500\n",
    "val_end = 1626369600"
   ]
  },
  {
   "cell_type": "code",
   "execution_count": 3,
   "id": "d708f800",
   "metadata": {},
   "outputs": [],
   "source": [
    "load_from_disk = True\n",
    "\n",
    "# '2Min'"
   ]
  },
  {
   "cell_type": "code",
   "execution_count": 4,
   "id": "8c80e42b",
   "metadata": {},
   "outputs": [],
   "source": [
    "def get_online_data(minutes, source_data_generator, load_from_disk, file_prefix = \"\"):\n",
    "    \n",
    "    online = OnLineDataProvider(\n",
    "                 source_data_generator = source_data_generator,\n",
    "                 minutes = minutes,\n",
    "                 train_keys = train_keys,\n",
    "                 train_limit = 1000,\n",
    "                 val_limit = 1000,\n",
    "                 val_keys = [\"btcusd\"],\n",
    "                 val_start = val_start,\n",
    "                 val_end = val_end,\n",
    "                 train_start_list = train_start_list\n",
    "    )\n",
    "\n",
    "    online_path = f'data/online{file_prefix}_{minutes}'\n",
    "    \n",
    "    if (load_from_disk):\n",
    "        online = load(online_path)    \n",
    "    else:\n",
    "        #online.load_train_cache()\n",
    "        online.load_cache()\n",
    "        online.sourceDataGenerator = None\n",
    "        dump(online, online_path)\n",
    "        \n",
    "    \n",
    "    return online"
   ]
  },
  {
   "cell_type": "code",
   "execution_count": 5,
   "id": "7722a4ce",
   "metadata": {},
   "outputs": [],
   "source": [
    "class TabNetClassifierEarly(TabNetClassifier):\n",
    "    def fit(self, X_train, Y_train):\n",
    "        super().fit(X_train, \n",
    "                    Y_train, \n",
    "                    eval_set=[(X_train, Y_train)],\n",
    "                    eval_metric=['balanced_accuracy'])"
   ]
  },
  {
   "cell_type": "code",
   "execution_count": 6,
   "id": "df13d546",
   "metadata": {
    "scrolled": true
   },
   "outputs": [
    {
     "name": "stdout",
     "output_type": "stream",
     "text": [
      "CPU times: user 6 µs, sys: 1e+03 ns, total: 7 µs\n",
      "Wall time: 7.87 µs\n"
     ]
    }
   ],
   "source": [
    "%%time\n",
    "\n",
    "def get_classifiers():\n",
    "    clss = classifiers = [\n",
    "        lambda : CatBoostClassifier(logging_level = 'Silent'),\n",
    "        \n",
    "        #lambda : make_pipeline(StandardScaler(),\n",
    "        #                        MLPClassifier(\n",
    "        #                            solver='lbfgs', alpha=1, random_state=1, max_iter=20000,\n",
    "        #                            early_stopping=True)\n",
    "        #                        ),\n",
    "        \n",
    "        #lambda : MLPClassifier(alpha=1, random_state=1, max_iter=20000, early_stopping=True),\n",
    "        \n",
    "        lambda : xgb.XGBClassifier(random_state=1,\n",
    "                                   objective = \"binary:logistic\",\n",
    "                                   eval_metric='mlogloss',\n",
    "                                   learning_rate=0.01),\n",
    "        \n",
    "        #lambda : GaussianNB(),\n",
    "        #lambda : QuadraticDiscriminantAnalysis(),\n",
    "        #lambda : AdaBoostClassifier(random_state = 42),\n",
    "        \n",
    "        lambda : TabNetClassifierEarly(verbose=0),\n",
    "        \n",
    "        #lambda : KNeighborsClassifier(3),\n",
    "        #lambda : GaussianProcessClassifier(1.0 * RBF(1.0)),\n",
    "        \n",
    "        \n",
    "        lambda : DecisionTreeClassifier(random_state = 42),\n",
    "        #lambda : RandomForestClassifier(max_depth=50, n_estimators=100, max_features=1),\n",
    "        lambda : rand(),\n",
    "        \n",
    "        #lambda : SVC(gamma=2, C=1, random_state = 42),\n",
    "    ]\n",
    "    \n",
    "    def rand():\n",
    "        ##print(\"rand created\")\n",
    "        param = {'criterion': 'entropy', 'max_depth': 100, 'n_estimators': 30, 'random_state': 42}\n",
    "        return RandomForestClassifier(**param)\n",
    "    \n",
    "\n",
    "    clss = []\n",
    "    clss.append(lambda : rand())\n",
    "    #clss.append(lambda : make_pipeline(StandardScaler(),TabNetClassifierEarly(verbose=0)))\n",
    "    return clss\n",
    "\n",
    "estimators = [\n",
    "                lambda : RFE(estimator=RandomForestClassifier(random_state=10), n_features_to_select=10),\n",
    "                lambda : RFE(estimator=DecisionTreeClassifier(random_state=10), n_features_to_select=8),\n",
    "                lambda : RFECV(estimator=DecisionTreeClassifier(random_state=10)),\n",
    "                lambda : RFECV(estimator=RandomForestClassifier(random_state=10))\n",
    "                ]\n",
    "\n",
    "\n",
    "scoring = [\n",
    "    'accuracy', \n",
    "    'f1', \n",
    "    'precision', \n",
    "    'recall'\n",
    "]\n",
    "\n",
    "estimators = []\n",
    "\n",
    "#for score in scoring:\n",
    "    \n",
    "estimators.append(lambda : RFECV(estimator=DecisionTreeClassifier(random_state=10),\n",
    "                    scoring='accuracy'))    \n",
    "estimators.append(lambda : RFECV(estimator=DecisionTreeClassifier(random_state=10),\n",
    "                    scoring='f1'))    \n",
    "estimators.append(lambda : RFECV(estimator=DecisionTreeClassifier(random_state=10),\n",
    "                    scoring='precision'))    \n",
    "estimators = []\n",
    "estimators.append(lambda : RFECV(estimator=DecisionTreeClassifier(random_state=10),\n",
    "                    scoring='recall'))\n",
    "\n",
    "def add_normalizers(models, cls):\n",
    "    models.append(make_pipeline(StandardScaler(),cls()))\n",
    "    models.append(make_pipeline(MinMaxScaler(),cls()))\n",
    "    models.append(make_pipeline(Normalizer(),cls()))\n",
    "\n",
    "\n",
    "def get_all_models():\n",
    "    models = []\n",
    "    classifiers = get_classifiers()\n",
    "    for cls in classifiers:\n",
    "        add_normalizers(models, cls)\n",
    "        #models.append(MockModel(cls()))\n",
    "        #models.append(MockCoPilotModel(cls(), getModel()))\n",
    "        \n",
    "        for est in estimators:\n",
    "            tmp = lambda : Pipeline(\n",
    "                steps=[\n",
    "                ('s',est()),\n",
    "                ('m',cls())\n",
    "            ])\n",
    "            add_normalizers(models, tmp)\n",
    "            #models.append(tmp())\n",
    "            #models.append(MockModel(tmp()))\n",
    "            #models.append(MockCoPilotModel(tmp(), getModel()))\n",
    "    return models\n"
   ]
  },
  {
   "cell_type": "code",
   "execution_count": 7,
   "id": "64dde41f",
   "metadata": {},
   "outputs": [],
   "source": [
    "get_all_models_factory = lambda : get_all_models()"
   ]
  },
  {
   "cell_type": "code",
   "execution_count": 8,
   "id": "cd02b269",
   "metadata": {
    "scrolled": false
   },
   "outputs": [
    {
     "name": "stdout",
     "output_type": "stream",
     "text": [
      "CPU times: user 3 µs, sys: 1 µs, total: 4 µs\n",
      "Wall time: 5.96 µs\n"
     ]
    }
   ],
   "source": [
    "%%time\n",
    "\n",
    "def test_models(provider, get_all_models_factory, steps = [1]):\n",
    "    \n",
    "    score_board_by_step = {}\n",
    "\n",
    "    for step in steps:\n",
    "        print(f\"Step {step}\")\n",
    "        models_list = get_all_models_factory()\n",
    "        model_result = []\n",
    "        for idx in tqdm(range(len(models_list))):\n",
    "            model_creator = models_list[idx]\n",
    "            model = model_creator\n",
    "            #print(f\"Trainning {model}\")\n",
    "            train_by_step(model, step, provider)\n",
    "            \n",
    "            result = run_trial(model, provider, step)\n",
    "\n",
    "            result['step'] = step\n",
    "\n",
    "            model_result.append(result)\n",
    "        \n",
    "        score_board_by_step[step] = model_result\n",
    "        \n",
    "    best_models = []\n",
    "\n",
    "    best_model = []\n",
    "\n",
    "    best_score = -1\n",
    "    \n",
    "    best_step = -1\n",
    "    \n",
    "    model_rank = []\n",
    "    \n",
    "    def myFunc(e):\n",
    "        return e['profit']\n",
    "\n",
    "    for step_idx in score_board_by_step:\n",
    "        step_board = score_board_by_step[step_idx]\n",
    "        for result in step_board:\n",
    "            if (result['profit'] > 0):\n",
    "                model_rank.append(result)\n",
    "            \n",
    "    model_rank.sort(key=myFunc, reverse = True)\n",
    "    \n",
    "    return model_rank"
   ]
  },
  {
   "cell_type": "code",
   "execution_count": 9,
   "id": "ecc3cc2b",
   "metadata": {},
   "outputs": [],
   "source": [
    "\n",
    "steps = [1, 5]\n",
    "\n",
    "windows = [5, 10, 20, 30, 40]\n",
    "#windows = [40]\n",
    "\n",
    "minutes = [15, 5, 3, 1]\n",
    "#minutes = [3]\n"
   ]
  },
  {
   "cell_type": "code",
   "execution_count": 10,
   "id": "3570e420",
   "metadata": {
    "scrolled": false
   },
   "outputs": [],
   "source": [
    "def process_model(minu, win, step, model, provider):\n",
    "        #print(f\"Training {model} {provider} \")\n",
    "        train_by_step(model, step, provider)\n",
    "        #print(f\"Checking {minu} {win} {step} \")\n",
    "        result = run_trial(model, provider, step)\n",
    "        result['window'] = win\n",
    "        result['minutes'] = minu\n",
    "        result['step'] = step\n",
    "        #print(result)\n",
    "        return result"
   ]
  },
  {
   "cell_type": "code",
   "execution_count": 11,
   "id": "bda521c3",
   "metadata": {},
   "outputs": [
    {
     "data": {
      "application/vnd.jupyter.widget-view+json": {
       "model_id": "1f77f17b13af4a6eae81757c0a4ba69d",
       "version_major": 2,
       "version_minor": 0
      },
      "text/plain": [
       "  0%|          | 0/240 [00:00<?, ?it/s]"
      ]
     },
     "metadata": {},
     "output_type": "display_data"
    },
    {
     "name": "stdout",
     "output_type": "stream",
     "text": [
      "CPU times: user 9h 49min 8s, sys: 3min 15s, total: 9h 52min 23s\n",
      "Wall time: 9h 53min 13s\n"
     ]
    }
   ],
   "source": [
    "%%time\n",
    "\n",
    "min_results = []\n",
    "\n",
    "process_list = []\n",
    "\n",
    "for minu in minutes:\n",
    "    results = []\n",
    "    for win in windows:\n",
    "        tec = TecAn(windows = win, windows_limit = 100)\n",
    "        sourceDataGenerator = SourceDataGenerator(tec = tec)\n",
    "        provider = get_online_data(minu, sourceDataGenerator, load_from_disk, win)\n",
    "        for step in steps:\n",
    "            models_list = get_all_models_factory()\n",
    "            for idx in range(len(models_list)):\n",
    "                model_creator = models_list[idx]\n",
    "                model = model_creator\n",
    "                process = {}\n",
    "                process['window'] = win\n",
    "                process['minutes'] = minu\n",
    "                process['step'] = step\n",
    "                process['model'] = model\n",
    "                process['provider'] = provider\n",
    "                process_list.append(process)\n",
    "\n",
    "for process in tqdm(process_list):\n",
    "    win = process['window'] \n",
    "    minu = process['minutes']\n",
    "    step = process['step'] \n",
    "    model = process['model'] \n",
    "    \n",
    "    tec = TecAn(windows = win, windows_limit = 100)\n",
    "    sourceDataGenerator = SourceDataGenerator(tec = tec)\n",
    "    provider = get_online_data(minu, sourceDataGenerator, load_from_disk, win)\n",
    "    \n",
    "    result = process_model(minu, win, step, model, provider)\n",
    "    min_results.append(result)"
   ]
  },
  {
   "cell_type": "code",
   "execution_count": 12,
   "id": "1d714ba9",
   "metadata": {},
   "outputs": [
    {
     "data": {
      "text/plain": [
       "['model/all_results']"
      ]
     },
     "execution_count": 12,
     "metadata": {},
     "output_type": "execute_result"
    }
   ],
   "source": [
    "model_path = f'model/all_results'\n",
    "dump(min_results, model_path)"
   ]
  },
  {
   "cell_type": "code",
   "execution_count": 13,
   "id": "9c2dddf0",
   "metadata": {},
   "outputs": [
    {
     "name": "stdout",
     "output_type": "stream",
     "text": [
      "Minutes=15 Window=5 Step=1 | 110.6958224494712\n",
      "Pipeline(steps=[('minmaxscaler', MinMaxScaler()),\n",
      "                ('randomforestclassifier',\n",
      "                 RandomForestClassifier(criterion='entropy', max_depth=100,\n",
      "                                        n_estimators=30, random_state=42))])\n",
      "\n",
      "Minutes=15 Window=5 Step=1 | 100.97476421422066\n",
      "Pipeline(steps=[('normalizer', Normalizer()),\n",
      "                ('randomforestclassifier',\n",
      "                 RandomForestClassifier(criterion='entropy', max_depth=100,\n",
      "                                        n_estimators=30, random_state=42))])\n",
      "\n",
      "Minutes=15 Window=5 Step=1 | 100.22608456616095\n",
      "Pipeline(steps=[('minmaxscaler', MinMaxScaler()),\n",
      "                ('pipeline',\n",
      "                 Pipeline(steps=[('s',\n",
      "                                  RFECV(estimator=DecisionTreeClassifier(random_state=10),\n",
      "                                        scoring='recall')),\n",
      "                                 ('m',\n",
      "                                  RandomForestClassifier(criterion='entropy',\n",
      "                                                         max_depth=100,\n",
      "                                                         n_estimators=30,\n",
      "                                                         random_state=42))]))])\n",
      "\n",
      "Minutes=15 Window=10 Step=1 | 104.79654865922687\n",
      "Pipeline(steps=[('standardscaler', StandardScaler()),\n",
      "                ('randomforestclassifier',\n",
      "                 RandomForestClassifier(criterion='entropy', max_depth=100,\n",
      "                                        n_estimators=30, random_state=42))])\n",
      "\n",
      "Minutes=15 Window=10 Step=1 | 104.39502766347084\n",
      "Pipeline(steps=[('minmaxscaler', MinMaxScaler()),\n",
      "                ('randomforestclassifier',\n",
      "                 RandomForestClassifier(criterion='entropy', max_depth=100,\n",
      "                                        n_estimators=30, random_state=42))])\n",
      "\n",
      "Minutes=15 Window=10 Step=1 | 100.34730876348269\n",
      "Pipeline(steps=[('normalizer', Normalizer()),\n",
      "                ('randomforestclassifier',\n",
      "                 RandomForestClassifier(criterion='entropy', max_depth=100,\n",
      "                                        n_estimators=30, random_state=42))])\n",
      "\n",
      "Minutes=15 Window=10 Step=1 | 101.17568598153284\n",
      "Pipeline(steps=[('standardscaler', StandardScaler()),\n",
      "                ('pipeline',\n",
      "                 Pipeline(steps=[('s',\n",
      "                                  RFECV(estimator=DecisionTreeClassifier(random_state=10),\n",
      "                                        scoring='recall')),\n",
      "                                 ('m',\n",
      "                                  RandomForestClassifier(criterion='entropy',\n",
      "                                                         max_depth=100,\n",
      "                                                         n_estimators=30,\n",
      "                                                         random_state=42))]))])\n",
      "\n",
      "Minutes=15 Window=10 Step=1 | 108.02819426721756\n",
      "Pipeline(steps=[('minmaxscaler', MinMaxScaler()),\n",
      "                ('pipeline',\n",
      "                 Pipeline(steps=[('s',\n",
      "                                  RFECV(estimator=DecisionTreeClassifier(random_state=10),\n",
      "                                        scoring='recall')),\n",
      "                                 ('m',\n",
      "                                  RandomForestClassifier(criterion='entropy',\n",
      "                                                         max_depth=100,\n",
      "                                                         n_estimators=30,\n",
      "                                                         random_state=42))]))])\n",
      "\n",
      "Minutes=15 Window=20 Step=1 | 105.18823929991636\n",
      "Pipeline(steps=[('normalizer', Normalizer()),\n",
      "                ('randomforestclassifier',\n",
      "                 RandomForestClassifier(criterion='entropy', max_depth=100,\n",
      "                                        n_estimators=30, random_state=42))])\n",
      "\n",
      "Minutes=15 Window=20 Step=1 | 103.12530170233208\n",
      "Pipeline(steps=[('standardscaler', StandardScaler()),\n",
      "                ('pipeline',\n",
      "                 Pipeline(steps=[('s',\n",
      "                                  RFECV(estimator=DecisionTreeClassifier(random_state=10),\n",
      "                                        scoring='recall')),\n",
      "                                 ('m',\n",
      "                                  RandomForestClassifier(criterion='entropy',\n",
      "                                                         max_depth=100,\n",
      "                                                         n_estimators=30,\n",
      "                                                         random_state=42))]))])\n",
      "\n",
      "Minutes=15 Window=20 Step=1 | 102.99645718185275\n",
      "Pipeline(steps=[('normalizer', Normalizer()),\n",
      "                ('pipeline',\n",
      "                 Pipeline(steps=[('s',\n",
      "                                  RFECV(estimator=DecisionTreeClassifier(random_state=10),\n",
      "                                        scoring='recall')),\n",
      "                                 ('m',\n",
      "                                  RandomForestClassifier(criterion='entropy',\n",
      "                                                         max_depth=100,\n",
      "                                                         n_estimators=30,\n",
      "                                                         random_state=42))]))])\n",
      "\n",
      "Minutes=15 Window=30 Step=1 | 101.60000417311568\n",
      "Pipeline(steps=[('minmaxscaler', MinMaxScaler()),\n",
      "                ('randomforestclassifier',\n",
      "                 RandomForestClassifier(criterion='entropy', max_depth=100,\n",
      "                                        n_estimators=30, random_state=42))])\n",
      "\n",
      "Minutes=15 Window=30 Step=1 | 101.13085287353957\n",
      "Pipeline(steps=[('normalizer', Normalizer()),\n",
      "                ('randomforestclassifier',\n",
      "                 RandomForestClassifier(criterion='entropy', max_depth=100,\n",
      "                                        n_estimators=30, random_state=42))])\n",
      "\n",
      "Minutes=15 Window=40 Step=1 | 100.27541343094097\n",
      "Pipeline(steps=[('minmaxscaler', MinMaxScaler()),\n",
      "                ('randomforestclassifier',\n",
      "                 RandomForestClassifier(criterion='entropy', max_depth=100,\n",
      "                                        n_estimators=30, random_state=42))])\n",
      "\n",
      "Minutes=5 Window=5 Step=1 | 102.61982935184929\n",
      "Pipeline(steps=[('standardscaler', StandardScaler()),\n",
      "                ('randomforestclassifier',\n",
      "                 RandomForestClassifier(criterion='entropy', max_depth=100,\n",
      "                                        n_estimators=30, random_state=42))])\n",
      "\n",
      "Minutes=5 Window=5 Step=1 | 100.74248269013458\n",
      "Pipeline(steps=[('minmaxscaler', MinMaxScaler()),\n",
      "                ('pipeline',\n",
      "                 Pipeline(steps=[('s',\n",
      "                                  RFECV(estimator=DecisionTreeClassifier(random_state=10),\n",
      "                                        scoring='recall')),\n",
      "                                 ('m',\n",
      "                                  RandomForestClassifier(criterion='entropy',\n",
      "                                                         max_depth=100,\n",
      "                                                         n_estimators=30,\n",
      "                                                         random_state=42))]))])\n",
      "\n",
      "Minutes=5 Window=10 Step=1 | 102.03505809803336\n",
      "Pipeline(steps=[('minmaxscaler', MinMaxScaler()),\n",
      "                ('randomforestclassifier',\n",
      "                 RandomForestClassifier(criterion='entropy', max_depth=100,\n",
      "                                        n_estimators=30, random_state=42))])\n",
      "\n",
      "Minutes=5 Window=10 Step=1 | 101.44331573149137\n",
      "Pipeline(steps=[('normalizer', Normalizer()),\n",
      "                ('randomforestclassifier',\n",
      "                 RandomForestClassifier(criterion='entropy', max_depth=100,\n",
      "                                        n_estimators=30, random_state=42))])\n",
      "\n",
      "Minutes=5 Window=10 Step=1 | 105.3214336664476\n",
      "Pipeline(steps=[('minmaxscaler', MinMaxScaler()),\n",
      "                ('pipeline',\n",
      "                 Pipeline(steps=[('s',\n",
      "                                  RFECV(estimator=DecisionTreeClassifier(random_state=10),\n",
      "                                        scoring='recall')),\n",
      "                                 ('m',\n",
      "                                  RandomForestClassifier(criterion='entropy',\n",
      "                                                         max_depth=100,\n",
      "                                                         n_estimators=30,\n",
      "                                                         random_state=42))]))])\n",
      "\n",
      "Minutes=5 Window=10 Step=1 | 103.59688234039085\n",
      "Pipeline(steps=[('normalizer', Normalizer()),\n",
      "                ('pipeline',\n",
      "                 Pipeline(steps=[('s',\n",
      "                                  RFECV(estimator=DecisionTreeClassifier(random_state=10),\n",
      "                                        scoring='recall')),\n",
      "                                 ('m',\n",
      "                                  RandomForestClassifier(criterion='entropy',\n",
      "                                                         max_depth=100,\n",
      "                                                         n_estimators=30,\n",
      "                                                         random_state=42))]))])\n",
      "\n",
      "Minutes=5 Window=20 Step=1 | 100.88478457371757\n",
      "Pipeline(steps=[('minmaxscaler', MinMaxScaler()),\n",
      "                ('randomforestclassifier',\n",
      "                 RandomForestClassifier(criterion='entropy', max_depth=100,\n",
      "                                        n_estimators=30, random_state=42))])\n",
      "\n",
      "Minutes=5 Window=20 Step=1 | 106.21847739607226\n",
      "Pipeline(steps=[('normalizer', Normalizer()),\n",
      "                ('randomforestclassifier',\n",
      "                 RandomForestClassifier(criterion='entropy', max_depth=100,\n",
      "                                        n_estimators=30, random_state=42))])\n",
      "\n",
      "Minutes=5 Window=20 Step=1 | 103.25277100896696\n",
      "Pipeline(steps=[('standardscaler', StandardScaler()),\n",
      "                ('pipeline',\n",
      "                 Pipeline(steps=[('s',\n",
      "                                  RFECV(estimator=DecisionTreeClassifier(random_state=10),\n",
      "                                        scoring='recall')),\n",
      "                                 ('m',\n",
      "                                  RandomForestClassifier(criterion='entropy',\n",
      "                                                         max_depth=100,\n",
      "                                                         n_estimators=30,\n",
      "                                                         random_state=42))]))])\n",
      "\n",
      "Minutes=5 Window=20 Step=1 | 102.29930500329036\n",
      "Pipeline(steps=[('minmaxscaler', MinMaxScaler()),\n",
      "                ('pipeline',\n",
      "                 Pipeline(steps=[('s',\n",
      "                                  RFECV(estimator=DecisionTreeClassifier(random_state=10),\n",
      "                                        scoring='recall')),\n",
      "                                 ('m',\n",
      "                                  RandomForestClassifier(criterion='entropy',\n",
      "                                                         max_depth=100,\n",
      "                                                         n_estimators=30,\n",
      "                                                         random_state=42))]))])\n",
      "\n",
      "Minutes=5 Window=30 Step=1 | 101.39796798737646\n",
      "Pipeline(steps=[('normalizer', Normalizer()),\n",
      "                ('randomforestclassifier',\n",
      "                 RandomForestClassifier(criterion='entropy', max_depth=100,\n",
      "                                        n_estimators=30, random_state=42))])\n",
      "\n",
      "Minutes=5 Window=30 Step=1 | 103.37984346328466\n"
     ]
    },
    {
     "name": "stdout",
     "output_type": "stream",
     "text": [
      "Pipeline(steps=[('standardscaler', StandardScaler()),\n",
      "                ('pipeline',\n",
      "                 Pipeline(steps=[('s',\n",
      "                                  RFECV(estimator=DecisionTreeClassifier(random_state=10),\n",
      "                                        scoring='recall')),\n",
      "                                 ('m',\n",
      "                                  RandomForestClassifier(criterion='entropy',\n",
      "                                                         max_depth=100,\n",
      "                                                         n_estimators=30,\n",
      "                                                         random_state=42))]))])\n",
      "\n",
      "Minutes=5 Window=30 Step=1 | 100.87610794254047\n",
      "Pipeline(steps=[('minmaxscaler', MinMaxScaler()),\n",
      "                ('pipeline',\n",
      "                 Pipeline(steps=[('s',\n",
      "                                  RFECV(estimator=DecisionTreeClassifier(random_state=10),\n",
      "                                        scoring='recall')),\n",
      "                                 ('m',\n",
      "                                  RandomForestClassifier(criterion='entropy',\n",
      "                                                         max_depth=100,\n",
      "                                                         n_estimators=30,\n",
      "                                                         random_state=42))]))])\n",
      "\n",
      "Minutes=5 Window=40 Step=1 | 101.52477083068618\n",
      "Pipeline(steps=[('standardscaler', StandardScaler()),\n",
      "                ('randomforestclassifier',\n",
      "                 RandomForestClassifier(criterion='entropy', max_depth=100,\n",
      "                                        n_estimators=30, random_state=42))])\n",
      "\n",
      "Minutes=5 Window=40 Step=1 | 101.28259952909748\n",
      "Pipeline(steps=[('standardscaler', StandardScaler()),\n",
      "                ('pipeline',\n",
      "                 Pipeline(steps=[('s',\n",
      "                                  RFECV(estimator=DecisionTreeClassifier(random_state=10),\n",
      "                                        scoring='recall')),\n",
      "                                 ('m',\n",
      "                                  RandomForestClassifier(criterion='entropy',\n",
      "                                                         max_depth=100,\n",
      "                                                         n_estimators=30,\n",
      "                                                         random_state=42))]))])\n",
      "\n",
      "Minutes=5 Window=40 Step=1 | 103.49499685363875\n",
      "Pipeline(steps=[('minmaxscaler', MinMaxScaler()),\n",
      "                ('pipeline',\n",
      "                 Pipeline(steps=[('s',\n",
      "                                  RFECV(estimator=DecisionTreeClassifier(random_state=10),\n",
      "                                        scoring='recall')),\n",
      "                                 ('m',\n",
      "                                  RandomForestClassifier(criterion='entropy',\n",
      "                                                         max_depth=100,\n",
      "                                                         n_estimators=30,\n",
      "                                                         random_state=42))]))])\n",
      "\n",
      "Minutes=3 Window=5 Step=1 | 101.4242031710547\n",
      "Pipeline(steps=[('standardscaler', StandardScaler()),\n",
      "                ('randomforestclassifier',\n",
      "                 RandomForestClassifier(criterion='entropy', max_depth=100,\n",
      "                                        n_estimators=30, random_state=42))])\n",
      "\n",
      "Minutes=3 Window=5 Step=1 | 100.3676003510124\n",
      "Pipeline(steps=[('normalizer', Normalizer()),\n",
      "                ('randomforestclassifier',\n",
      "                 RandomForestClassifier(criterion='entropy', max_depth=100,\n",
      "                                        n_estimators=30, random_state=42))])\n",
      "\n",
      "Minutes=3 Window=5 Step=1 | 101.01719616290023\n",
      "Pipeline(steps=[('normalizer', Normalizer()),\n",
      "                ('pipeline',\n",
      "                 Pipeline(steps=[('s',\n",
      "                                  RFECV(estimator=DecisionTreeClassifier(random_state=10),\n",
      "                                        scoring='recall')),\n",
      "                                 ('m',\n",
      "                                  RandomForestClassifier(criterion='entropy',\n",
      "                                                         max_depth=100,\n",
      "                                                         n_estimators=30,\n",
      "                                                         random_state=42))]))])\n",
      "\n",
      "Minutes=3 Window=10 Step=1 | 100.24800062674139\n",
      "Pipeline(steps=[('normalizer', Normalizer()),\n",
      "                ('randomforestclassifier',\n",
      "                 RandomForestClassifier(criterion='entropy', max_depth=100,\n",
      "                                        n_estimators=30, random_state=42))])\n",
      "\n",
      "Minutes=3 Window=10 Step=1 | 100.2538904835876\n",
      "Pipeline(steps=[('minmaxscaler', MinMaxScaler()),\n",
      "                ('pipeline',\n",
      "                 Pipeline(steps=[('s',\n",
      "                                  RFECV(estimator=DecisionTreeClassifier(random_state=10),\n",
      "                                        scoring='recall')),\n",
      "                                 ('m',\n",
      "                                  RandomForestClassifier(criterion='entropy',\n",
      "                                                         max_depth=100,\n",
      "                                                         n_estimators=30,\n",
      "                                                         random_state=42))]))])\n",
      "\n",
      "Minutes=3 Window=10 Step=1 | 100.35688225883602\n",
      "Pipeline(steps=[('normalizer', Normalizer()),\n",
      "                ('pipeline',\n",
      "                 Pipeline(steps=[('s',\n",
      "                                  RFECV(estimator=DecisionTreeClassifier(random_state=10),\n",
      "                                        scoring='recall')),\n",
      "                                 ('m',\n",
      "                                  RandomForestClassifier(criterion='entropy',\n",
      "                                                         max_depth=100,\n",
      "                                                         n_estimators=30,\n",
      "                                                         random_state=42))]))])\n",
      "\n",
      "Minutes=3 Window=20 Step=1 | 100.18673363887129\n",
      "Pipeline(steps=[('normalizer', Normalizer()),\n",
      "                ('randomforestclassifier',\n",
      "                 RandomForestClassifier(criterion='entropy', max_depth=100,\n",
      "                                        n_estimators=30, random_state=42))])\n",
      "\n",
      "Minutes=3 Window=30 Step=1 | 100.09908362074934\n",
      "Pipeline(steps=[('minmaxscaler', MinMaxScaler()),\n",
      "                ('randomforestclassifier',\n",
      "                 RandomForestClassifier(criterion='entropy', max_depth=100,\n",
      "                                        n_estimators=30, random_state=42))])\n",
      "\n",
      "Minutes=3 Window=30 Step=1 | 100.3613705425526\n",
      "Pipeline(steps=[('standardscaler', StandardScaler()),\n",
      "                ('pipeline',\n",
      "                 Pipeline(steps=[('s',\n",
      "                                  RFECV(estimator=DecisionTreeClassifier(random_state=10),\n",
      "                                        scoring='recall')),\n",
      "                                 ('m',\n",
      "                                  RandomForestClassifier(criterion='entropy',\n",
      "                                                         max_depth=100,\n",
      "                                                         n_estimators=30,\n",
      "                                                         random_state=42))]))])\n",
      "\n",
      "Minutes=3 Window=40 Step=1 | 100.69570408890087\n",
      "Pipeline(steps=[('standardscaler', StandardScaler()),\n",
      "                ('randomforestclassifier',\n",
      "                 RandomForestClassifier(criterion='entropy', max_depth=100,\n",
      "                                        n_estimators=30, random_state=42))])\n",
      "\n",
      "Minutes=3 Window=40 Step=1 | 101.33687848896164\n",
      "Pipeline(steps=[('minmaxscaler', MinMaxScaler()),\n",
      "                ('randomforestclassifier',\n",
      "                 RandomForestClassifier(criterion='entropy', max_depth=100,\n",
      "                                        n_estimators=30, random_state=42))])\n",
      "\n",
      "Minutes=3 Window=40 Step=1 | 100.39918708599413\n",
      "Pipeline(steps=[('normalizer', Normalizer()),\n",
      "                ('pipeline',\n",
      "                 Pipeline(steps=[('s',\n",
      "                                  RFECV(estimator=DecisionTreeClassifier(random_state=10),\n",
      "                                        scoring='recall')),\n",
      "                                 ('m',\n",
      "                                  RandomForestClassifier(criterion='entropy',\n",
      "                                                         max_depth=100,\n",
      "                                                         n_estimators=30,\n",
      "                                                         random_state=42))]))])\n",
      "\n",
      "Minutes=1 Window=5 Step=1 | 100.45343788489228\n",
      "Pipeline(steps=[('standardscaler', StandardScaler()),\n",
      "                ('randomforestclassifier',\n",
      "                 RandomForestClassifier(criterion='entropy', max_depth=100,\n",
      "                                        n_estimators=30, random_state=42))])\n",
      "\n",
      "Minutes=1 Window=5 Step=1 | 100.06331459408841\n",
      "Pipeline(steps=[('normalizer', Normalizer()),\n",
      "                ('randomforestclassifier',\n",
      "                 RandomForestClassifier(criterion='entropy', max_depth=100,\n",
      "                                        n_estimators=30, random_state=42))])\n",
      "\n",
      "Minutes=1 Window=10 Step=1 | 100.3086993207244\n",
      "Pipeline(steps=[('standardscaler', StandardScaler()),\n",
      "                ('randomforestclassifier',\n",
      "                 RandomForestClassifier(criterion='entropy', max_depth=100,\n",
      "                                        n_estimators=30, random_state=42))])\n",
      "\n",
      "Minutes=1 Window=10 Step=1 | 100.11222179317897\n",
      "Pipeline(steps=[('standardscaler', StandardScaler()),\n",
      "                ('pipeline',\n",
      "                 Pipeline(steps=[('s',\n",
      "                                  RFECV(estimator=DecisionTreeClassifier(random_state=10),\n",
      "                                        scoring='recall')),\n",
      "                                 ('m',\n",
      "                                  RandomForestClassifier(criterion='entropy',\n",
      "                                                         max_depth=100,\n",
      "                                                         n_estimators=30,\n",
      "                                                         random_state=42))]))])\n",
      "\n",
      "Minutes=1 Window=20 Step=1 | 100.21849093325065\n",
      "Pipeline(steps=[('standardscaler', StandardScaler()),\n",
      "                ('randomforestclassifier',\n",
      "                 RandomForestClassifier(criterion='entropy', max_depth=100,\n",
      "                                        n_estimators=30, random_state=42))])\n",
      "\n",
      "Minutes=1 Window=20 Step=1 | 100.06742474222578\n",
      "Pipeline(steps=[('normalizer', Normalizer()),\n",
      "                ('randomforestclassifier',\n",
      "                 RandomForestClassifier(criterion='entropy', max_depth=100,\n",
      "                                        n_estimators=30, random_state=42))])\n",
      "\n",
      "Minutes=1 Window=20 Step=1 | 100.00178533789413\n",
      "Pipeline(steps=[('standardscaler', StandardScaler()),\n",
      "                ('pipeline',\n",
      "                 Pipeline(steps=[('s',\n",
      "                                  RFECV(estimator=DecisionTreeClassifier(random_state=10),\n",
      "                                        scoring='recall')),\n",
      "                                 ('m',\n",
      "                                  RandomForestClassifier(criterion='entropy',\n",
      "                                                         max_depth=100,\n",
      "                                                         n_estimators=30,\n",
      "                                                         random_state=42))]))])\n",
      "\n",
      "Minutes=1 Window=20 Step=1 | 100.06080828890684\n",
      "Pipeline(steps=[('normalizer', Normalizer()),\n",
      "                ('pipeline',\n",
      "                 Pipeline(steps=[('s',\n",
      "                                  RFECV(estimator=DecisionTreeClassifier(random_state=10),\n",
      "                                        scoring='recall')),\n",
      "                                 ('m',\n",
      "                                  RandomForestClassifier(criterion='entropy',\n",
      "                                                         max_depth=100,\n",
      "                                                         n_estimators=30,\n",
      "                                                         random_state=42))]))])\n",
      "\n",
      "Minutes=1 Window=30 Step=1 | 100.05813131508344\n",
      "Pipeline(steps=[('normalizer', Normalizer()),\n",
      "                ('randomforestclassifier',\n",
      "                 RandomForestClassifier(criterion='entropy', max_depth=100,\n",
      "                                        n_estimators=30, random_state=42))])\n",
      "\n",
      "Minutes=1 Window=30 Step=1 | 100.07328677648988\n",
      "Pipeline(steps=[('standardscaler', StandardScaler()),\n",
      "                ('pipeline',\n",
      "                 Pipeline(steps=[('s',\n",
      "                                  RFECV(estimator=DecisionTreeClassifier(random_state=10),\n",
      "                                        scoring='recall')),\n",
      "                                 ('m',\n",
      "                                  RandomForestClassifier(criterion='entropy',\n",
      "                                                         max_depth=100,\n",
      "                                                         n_estimators=30,\n",
      "                                                         random_state=42))]))])\n",
      "\n",
      "Minutes=1 Window=30 Step=1 | 100.54461581463947\n",
      "Pipeline(steps=[('minmaxscaler', MinMaxScaler()),\n",
      "                ('pipeline',\n",
      "                 Pipeline(steps=[('s',\n",
      "                                  RFECV(estimator=DecisionTreeClassifier(random_state=10),\n",
      "                                        scoring='recall')),\n",
      "                                 ('m',\n",
      "                                  RandomForestClassifier(criterion='entropy',\n",
      "                                                         max_depth=100,\n",
      "                                                         n_estimators=30,\n"
     ]
    },
    {
     "name": "stdout",
     "output_type": "stream",
     "text": [
      "                                                         random_state=42))]))])\n",
      "\n",
      "Minutes=1 Window=30 Step=1 | 100.35436705185553\n",
      "Pipeline(steps=[('normalizer', Normalizer()),\n",
      "                ('pipeline',\n",
      "                 Pipeline(steps=[('s',\n",
      "                                  RFECV(estimator=DecisionTreeClassifier(random_state=10),\n",
      "                                        scoring='recall')),\n",
      "                                 ('m',\n",
      "                                  RandomForestClassifier(criterion='entropy',\n",
      "                                                         max_depth=100,\n",
      "                                                         n_estimators=30,\n",
      "                                                         random_state=42))]))])\n",
      "\n",
      "Minutes=1 Window=40 Step=1 | 100.10774417597531\n",
      "Pipeline(steps=[('minmaxscaler', MinMaxScaler()),\n",
      "                ('randomforestclassifier',\n",
      "                 RandomForestClassifier(criterion='entropy', max_depth=100,\n",
      "                                        n_estimators=30, random_state=42))])\n",
      "\n",
      "Minutes=1 Window=40 Step=1 | 100.06888876187175\n",
      "Pipeline(steps=[('normalizer', Normalizer()),\n",
      "                ('randomforestclassifier',\n",
      "                 RandomForestClassifier(criterion='entropy', max_depth=100,\n",
      "                                        n_estimators=30, random_state=42))])\n",
      "\n",
      "Minutes=1 Window=40 Step=1 | 100.44001317875409\n",
      "Pipeline(steps=[('standardscaler', StandardScaler()),\n",
      "                ('pipeline',\n",
      "                 Pipeline(steps=[('s',\n",
      "                                  RFECV(estimator=DecisionTreeClassifier(random_state=10),\n",
      "                                        scoring='recall')),\n",
      "                                 ('m',\n",
      "                                  RandomForestClassifier(criterion='entropy',\n",
      "                                                         max_depth=100,\n",
      "                                                         n_estimators=30,\n",
      "                                                         random_state=42))]))])\n",
      "\n",
      "Minutes=1 Window=40 Step=1 | 100.25572175049312\n",
      "Pipeline(steps=[('normalizer', Normalizer()),\n",
      "                ('pipeline',\n",
      "                 Pipeline(steps=[('s',\n",
      "                                  RFECV(estimator=DecisionTreeClassifier(random_state=10),\n",
      "                                        scoring='recall')),\n",
      "                                 ('m',\n",
      "                                  RandomForestClassifier(criterion='entropy',\n",
      "                                                         max_depth=100,\n",
      "                                                         n_estimators=30,\n",
      "                                                         random_state=42))]))])\n",
      "\n",
      "58 selected\n"
     ]
    }
   ],
   "source": [
    "best_results = []\n",
    "for win_result in min_results:\n",
    "    profit = win_result['profit']\n",
    "    model = win_result['model']\n",
    "    window = win_result['window']\n",
    "    minutes = win_result['minutes']\n",
    "    step = win_result['step']\n",
    "    profit = win_result['profit']\n",
    "    models_score = win_result['models_score']\n",
    "    #print(models_score)\n",
    "    if (profit > 100):\n",
    "        print(f\"Minutes={minutes} Window={window} Step={step} | {profit}\")\n",
    "        print(f\"{win_result['model']}\")\n",
    "        print(f\"\")\n",
    "        best_results.append(win_result)\n",
    "\n",
    "print(f\"{len(best_results)} selected\")"
   ]
  },
  {
   "cell_type": "code",
   "execution_count": 62,
   "id": "a3574b4a",
   "metadata": {},
   "outputs": [
    {
     "data": {
      "text/plain": [
       "['model/RandomForestClassifier']"
      ]
     },
     "execution_count": 62,
     "metadata": {},
     "output_type": "execute_result"
    }
   ],
   "source": [
    "model_path = f'model/RandomForestClassifier'\n",
    "dump(best_results, model_path)"
   ]
  },
  {
   "cell_type": "code",
   "execution_count": 32,
   "id": "7b5a23df",
   "metadata": {},
   "outputs": [],
   "source": [
    "def print_result(result):\n",
    "    model = result['model']\n",
    "    window = result['window']\n",
    "    minutes = result['minutes']\n",
    "    step = result['step']\n",
    "    profit = result['profit']\n",
    "    print(f\"Minutes={minutes} Window={window} Step={step} | {profit} {result['models_profit_metric']}\")\n",
    "    print(f\"{model}\")"
   ]
  },
  {
   "cell_type": "code",
   "execution_count": 33,
   "id": "16a95a9c",
   "metadata": {},
   "outputs": [
    {
     "name": "stdout",
     "output_type": "stream",
     "text": [
      "Minutes=1 Window=20 Step=1 | 100.00178533789413 {'ltceur': 0.004443746212716296, 'ltcusd': 0.014467608458106991, 'ethusd': 0.001578433722336029, 'btcusd': -0.001798166415155455}\n",
      "Pipeline(steps=[('standardscaler', StandardScaler()),\n",
      "                ('pipeline',\n",
      "                 Pipeline(steps=[('s',\n",
      "                                  RFECV(estimator=DecisionTreeClassifier(random_state=10),\n",
      "                                        scoring='recall')),\n",
      "                                 ('m',\n",
      "                                  RandomForestClassifier(criterion='entropy',\n",
      "                                                         max_depth=100,\n",
      "                                                         n_estimators=30,\n",
      "                                                         random_state=42))]))])\n",
      "\n",
      "Minutes=1 Window=30 Step=1 | 100.05813131508344 {'ltceur': -0.000307116963132971, 'ltcusd': -0.00475464988309201, 'ethusd': 0.003928869844103186, 'btcusd': -0.0024142049092364904}\n",
      "Pipeline(steps=[('normalizer', Normalizer()),\n",
      "                ('randomforestclassifier',\n",
      "                 RandomForestClassifier(criterion='entropy', max_depth=100,\n",
      "                                        n_estimators=30, random_state=42))])\n",
      "\n",
      "Minutes=1 Window=20 Step=1 | 100.06080828890684 {'ltceur': -0.0064860740175505536, 'ltcusd': -0.012709092974162747, 'ethusd': 0.0039341666015606895, 'btcusd': 0.0025837290157157927}\n",
      "Pipeline(steps=[('normalizer', Normalizer()),\n",
      "                ('pipeline',\n",
      "                 Pipeline(steps=[('s',\n",
      "                                  RFECV(estimator=DecisionTreeClassifier(random_state=10),\n",
      "                                        scoring='recall')),\n",
      "                                 ('m',\n",
      "                                  RandomForestClassifier(criterion='entropy',\n",
      "                                                         max_depth=100,\n",
      "                                                         n_estimators=30,\n",
      "                                                         random_state=42))]))])\n",
      "\n",
      "Minutes=1 Window=5 Step=1 | 100.06331459408841 {'ltceur': -0.002169899466443338, 'ltcusd': 0.006133263358255426, 'ethusd': 0.013333262709900566, 'btcusd': -0.006257255858798528}\n",
      "Pipeline(steps=[('normalizer', Normalizer()),\n",
      "                ('randomforestclassifier',\n",
      "                 RandomForestClassifier(criterion='entropy', max_depth=100,\n",
      "                                        n_estimators=30, random_state=42))])\n",
      "\n",
      "Minutes=1 Window=20 Step=1 | 100.06742474222578 {'ltceur': -0.0007158187679176171, 'ltcusd': -0.00639958641595745, 'ethusd': 0.006193233657185913, 'btcusd': -0.004552933145444115}\n",
      "Pipeline(steps=[('normalizer', Normalizer()),\n",
      "                ('randomforestclassifier',\n",
      "                 RandomForestClassifier(criterion='entropy', max_depth=100,\n",
      "                                        n_estimators=30, random_state=42))])\n",
      "\n",
      "Minutes=1 Window=40 Step=1 | 100.06888876187175 {'ltceur': -0.0009071762603312375, 'ltcusd': 7.833031108883049e-06, 'ethusd': 0.0027635832034524264, 'btcusd': 0.0021780820466403197}\n",
      "Pipeline(steps=[('normalizer', Normalizer()),\n",
      "                ('randomforestclassifier',\n",
      "                 RandomForestClassifier(criterion='entropy', max_depth=100,\n",
      "                                        n_estimators=30, random_state=42))])\n",
      "\n",
      "Minutes=1 Window=30 Step=1 | 100.07328677648988 {'ltceur': -0.004211046052188622, 'ltcusd': -0.012478018556450697, 'ethusd': -0.0017744137482636568, 'btcusd': 0.0070397912431717355}\n",
      "Pipeline(steps=[('standardscaler', StandardScaler()),\n",
      "                ('pipeline',\n",
      "                 Pipeline(steps=[('s',\n",
      "                                  RFECV(estimator=DecisionTreeClassifier(random_state=10),\n",
      "                                        scoring='recall')),\n",
      "                                 ('m',\n",
      "                                  RandomForestClassifier(criterion='entropy',\n",
      "                                                         max_depth=100,\n",
      "                                                         n_estimators=30,\n",
      "                                                         random_state=42))]))])\n",
      "\n",
      "Minutes=3 Window=30 Step=1 | 100.09908362074934 {'ltceur': 0.002951815582223377, 'ltcusd': 0.009167903379309181, 'ethusd': 0.000716065682968461, 'btcusd': -0.005500272990380108}\n",
      "Pipeline(steps=[('minmaxscaler', MinMaxScaler()),\n",
      "                ('randomforestclassifier',\n",
      "                 RandomForestClassifier(criterion='entropy', max_depth=100,\n",
      "                                        n_estimators=30, random_state=42))])\n",
      "\n",
      "Minutes=1 Window=40 Step=1 | 100.10774417597531 {'ltceur': 0.003999607835262461, 'ltcusd': 0.0008342178130960446, 'ethusd': -5.5615953303786255e-05, 'btcusd': 0.001783030334219803}\n",
      "Pipeline(steps=[('minmaxscaler', MinMaxScaler()),\n",
      "                ('randomforestclassifier',\n",
      "                 RandomForestClassifier(criterion='entropy', max_depth=100,\n",
      "                                        n_estimators=30, random_state=42))])\n",
      "\n",
      "Minutes=1 Window=10 Step=1 | 100.11222179317897 {'ltceur': -0.0011540510499265873, 'ltcusd': -0.006168511998245401, 'ethusd': 0.002085598248891985, 'btcusd': 0.003504002736603433}\n",
      "Pipeline(steps=[('standardscaler', StandardScaler()),\n",
      "                ('pipeline',\n",
      "                 Pipeline(steps=[('s',\n",
      "                                  RFECV(estimator=DecisionTreeClassifier(random_state=10),\n",
      "                                        scoring='recall')),\n",
      "                                 ('m',\n",
      "                                  RandomForestClassifier(criterion='entropy',\n",
      "                                                         max_depth=100,\n",
      "                                                         n_estimators=30,\n",
      "                                                         random_state=42))]))])\n",
      "\n",
      "Minutes=3 Window=20 Step=1 | 100.18673363887129 {'ltceur': -0.013420470215978784, 'ltcusd': -0.017201017415251103, 'ethusd': 0.02704634800554297, 'btcusd': 0.01362717244778153}\n",
      "Pipeline(steps=[('normalizer', Normalizer()),\n",
      "                ('randomforestclassifier',\n",
      "                 RandomForestClassifier(criterion='entropy', max_depth=100,\n",
      "                                        n_estimators=30, random_state=42))])\n",
      "\n",
      "Minutes=1 Window=20 Step=1 | 100.21849093325065 {'ltceur': 0.006821540238818876, 'ltcusd': 0.008882657277473376, 'ethusd': 0.0026973737352336334, 'btcusd': 0.004835977858940807}\n",
      "Pipeline(steps=[('standardscaler', StandardScaler()),\n",
      "                ('randomforestclassifier',\n",
      "                 RandomForestClassifier(criterion='entropy', max_depth=100,\n",
      "                                        n_estimators=30, random_state=42))])\n",
      "\n",
      "Minutes=15 Window=5 Step=1 | 100.22608456616095 {'ltceur': -0.0015273900799306253, 'ltcusd': -0.00962849306578493, 'ethusd': 0.025731708142027077, 'btcusd': -0.01644537744848594}\n",
      "Pipeline(steps=[('minmaxscaler', MinMaxScaler()),\n",
      "                ('pipeline',\n",
      "                 Pipeline(steps=[('s',\n",
      "                                  RFECV(estimator=DecisionTreeClassifier(random_state=10),\n",
      "                                        scoring='recall')),\n",
      "                                 ('m',\n",
      "                                  RandomForestClassifier(criterion='entropy',\n",
      "                                                         max_depth=100,\n",
      "                                                         n_estimators=30,\n",
      "                                                         random_state=42))]))])\n",
      "\n",
      "Minutes=3 Window=10 Step=1 | 100.24800062674139 {'ltceur': 0.006983470487849351, 'ltcusd': -0.004894915131000654, 'ethusd': 0.00024027453149440053, 'btcusd': 0.0004209608295042205}\n",
      "Pipeline(steps=[('normalizer', Normalizer()),\n",
      "                ('randomforestclassifier',\n",
      "                 RandomForestClassifier(criterion='entropy', max_depth=100,\n",
      "                                        n_estimators=30, random_state=42))])\n",
      "\n",
      "Minutes=3 Window=10 Step=1 | 100.2538904835876 {'ltceur': 0.013259968314522584, 'ltcusd': -0.0067944538144632406, 'ethusd': -0.0003271064166384166, 'btcusd': -0.005209767740750941}\n",
      "Pipeline(steps=[('minmaxscaler', MinMaxScaler()),\n",
      "                ('pipeline',\n",
      "                 Pipeline(steps=[('s',\n",
      "                                  RFECV(estimator=DecisionTreeClassifier(random_state=10),\n",
      "                                        scoring='recall')),\n",
      "                                 ('m',\n",
      "                                  RandomForestClassifier(criterion='entropy',\n",
      "                                                         max_depth=100,\n",
      "                                                         n_estimators=30,\n",
      "                                                         random_state=42))]))])\n",
      "\n",
      "Minutes=1 Window=40 Step=1 | 100.25572175049312 {'ltceur': -0.0001299340997870262, 'ltcusd': -0.029977010053695425, 'ethusd': 0.0048147525288706385, 'btcusd': -0.0014394412969805032}\n",
      "Pipeline(steps=[('normalizer', Normalizer()),\n",
      "                ('pipeline',\n",
      "                 Pipeline(steps=[('s',\n",
      "                                  RFECV(estimator=DecisionTreeClassifier(random_state=10),\n",
      "                                        scoring='recall')),\n",
      "                                 ('m',\n",
      "                                  RandomForestClassifier(criterion='entropy',\n",
      "                                                         max_depth=100,\n",
      "                                                         n_estimators=30,\n",
      "                                                         random_state=42))]))])\n",
      "\n",
      "Minutes=15 Window=40 Step=1 | 100.27541343094097 {'ltceur': 0.00529421265023822, 'ltcusd': 0.028707582247749473, 'ethusd': -0.02010226280264142, 'btcusd': -0.016116999084792964}\n",
      "Pipeline(steps=[('minmaxscaler', MinMaxScaler()),\n",
      "                ('randomforestclassifier',\n",
      "                 RandomForestClassifier(criterion='entropy', max_depth=100,\n",
      "                                        n_estimators=30, random_state=42))])\n",
      "\n",
      "Minutes=1 Window=10 Step=1 | 100.3086993207244 {'ltceur': 0.0005634415054401045, 'ltcusd': 0.001801597155043101, 'ethusd': 0.007857739688206373, 'btcusd': 0.009681037366443004}\n",
      "Pipeline(steps=[('standardscaler', StandardScaler()),\n",
      "                ('randomforestclassifier',\n",
      "                 RandomForestClassifier(criterion='entropy', max_depth=100,\n",
      "                                        n_estimators=30, random_state=42))])\n",
      "\n",
      "Minutes=15 Window=10 Step=1 | 100.34730876348269 {'ltceur': -0.017879266707261268, 'ltcusd': 0.009467632618409966, 'ethusd': 0.03789175617450019, 'btcusd': -0.03492882694271239}\n",
      "Pipeline(steps=[('normalizer', Normalizer()),\n",
      "                ('randomforestclassifier',\n",
      "                 RandomForestClassifier(criterion='entropy', max_depth=100,\n",
      "                                        n_estimators=30, random_state=42))])\n"
     ]
    },
    {
     "name": "stdout",
     "output_type": "stream",
     "text": [
      "\n",
      "Minutes=1 Window=30 Step=1 | 100.35436705185553 {'ltceur': 0.005404077332051317, 'ltcusd': -0.02450955433969506, 'ethusd': 0.003281341244923389, 'btcusd': 0.0013062437847467657}\n",
      "Pipeline(steps=[('normalizer', Normalizer()),\n",
      "                ('pipeline',\n",
      "                 Pipeline(steps=[('s',\n",
      "                                  RFECV(estimator=DecisionTreeClassifier(random_state=10),\n",
      "                                        scoring='recall')),\n",
      "                                 ('m',\n",
      "                                  RandomForestClassifier(criterion='entropy',\n",
      "                                                         max_depth=100,\n",
      "                                                         n_estimators=30,\n",
      "                                                         random_state=42))]))])\n",
      "\n",
      "Minutes=3 Window=10 Step=1 | 100.35688225883602 {'ltceur': -0.012178491216615331, 'ltcusd': 0.0007465719364258291, 'ethusd': -0.010966986041477094, 'btcusd': 0.027316552880410887}\n",
      "Pipeline(steps=[('normalizer', Normalizer()),\n",
      "                ('pipeline',\n",
      "                 Pipeline(steps=[('s',\n",
      "                                  RFECV(estimator=DecisionTreeClassifier(random_state=10),\n",
      "                                        scoring='recall')),\n",
      "                                 ('m',\n",
      "                                  RandomForestClassifier(criterion='entropy',\n",
      "                                                         max_depth=100,\n",
      "                                                         n_estimators=30,\n",
      "                                                         random_state=42))]))])\n",
      "\n",
      "Minutes=3 Window=30 Step=1 | 100.3613705425526 {'ltceur': 0.013404638395767117, 'ltcusd': -0.011528369084391194, 'ethusd': -0.012218316769853872, 'btcusd': 0.0054670551343934054}\n",
      "Pipeline(steps=[('standardscaler', StandardScaler()),\n",
      "                ('pipeline',\n",
      "                 Pipeline(steps=[('s',\n",
      "                                  RFECV(estimator=DecisionTreeClassifier(random_state=10),\n",
      "                                        scoring='recall')),\n",
      "                                 ('m',\n",
      "                                  RandomForestClassifier(criterion='entropy',\n",
      "                                                         max_depth=100,\n",
      "                                                         n_estimators=30,\n",
      "                                                         random_state=42))]))])\n",
      "\n",
      "Minutes=3 Window=5 Step=1 | 100.3676003510124 {'ltceur': -0.009434127071648268, 'ltcusd': 0.016681663024694003, 'ethusd': 0.04090376529222498, 'btcusd': -0.009210405523585884}\n",
      "Pipeline(steps=[('normalizer', Normalizer()),\n",
      "                ('randomforestclassifier',\n",
      "                 RandomForestClassifier(criterion='entropy', max_depth=100,\n",
      "                                        n_estimators=30, random_state=42))])\n",
      "\n",
      "Minutes=3 Window=40 Step=1 | 100.39918708599413 {'ltceur': 0.005382272947131547, 'ltcusd': 0.008964056781015521, 'ethusd': -0.0012144569141375394, 'btcusd': 0.00013589122903651305}\n",
      "Pipeline(steps=[('normalizer', Normalizer()),\n",
      "                ('pipeline',\n",
      "                 Pipeline(steps=[('s',\n",
      "                                  RFECV(estimator=DecisionTreeClassifier(random_state=10),\n",
      "                                        scoring='recall')),\n",
      "                                 ('m',\n",
      "                                  RandomForestClassifier(criterion='entropy',\n",
      "                                                         max_depth=100,\n",
      "                                                         n_estimators=30,\n",
      "                                                         random_state=42))]))])\n",
      "\n",
      "Minutes=1 Window=40 Step=1 | 100.44001317875409 {'ltceur': 0.00854375767054146, 'ltcusd': -0.03558546032765569, 'ethusd': 0.007587605057873696, 'btcusd': -0.006734042408271566}\n",
      "Pipeline(steps=[('standardscaler', StandardScaler()),\n",
      "                ('pipeline',\n",
      "                 Pipeline(steps=[('s',\n",
      "                                  RFECV(estimator=DecisionTreeClassifier(random_state=10),\n",
      "                                        scoring='recall')),\n",
      "                                 ('m',\n",
      "                                  RandomForestClassifier(criterion='entropy',\n",
      "                                                         max_depth=100,\n",
      "                                                         n_estimators=30,\n",
      "                                                         random_state=42))]))])\n",
      "\n",
      "Minutes=1 Window=5 Step=1 | 100.45343788489228 {'ltceur': 0.0005102866464363211, 'ltcusd': -0.012376189152035217, 'ethusd': -0.0005257031776572177, 'btcusd': 0.022616332134051186}\n",
      "Pipeline(steps=[('standardscaler', StandardScaler()),\n",
      "                ('randomforestclassifier',\n",
      "                 RandomForestClassifier(criterion='entropy', max_depth=100,\n",
      "                                        n_estimators=30, random_state=42))])\n",
      "\n",
      "Minutes=1 Window=30 Step=1 | 100.54461581463947 {'ltceur': 0.00429373138841673, 'ltcusd': -0.03683482878952254, 'ethusd': -0.0014208551879753013, 'btcusd': 0.014859090654529547}\n",
      "Pipeline(steps=[('minmaxscaler', MinMaxScaler()),\n",
      "                ('pipeline',\n",
      "                 Pipeline(steps=[('s',\n",
      "                                  RFECV(estimator=DecisionTreeClassifier(random_state=10),\n",
      "                                        scoring='recall')),\n",
      "                                 ('m',\n",
      "                                  RandomForestClassifier(criterion='entropy',\n",
      "                                                         max_depth=100,\n",
      "                                                         n_estimators=30,\n",
      "                                                         random_state=42))]))])\n",
      "\n",
      "Minutes=3 Window=40 Step=1 | 100.69570408890087 {'ltceur': -0.0005164448938012419, 'ltcusd': -0.0020306756670782555, 'ethusd': -0.02007838659220535, 'btcusd': 0.028517831345093662}\n",
      "Pipeline(steps=[('standardscaler', StandardScaler()),\n",
      "                ('randomforestclassifier',\n",
      "                 RandomForestClassifier(criterion='entropy', max_depth=100,\n",
      "                                        n_estimators=30, random_state=42))])\n",
      "\n",
      "Minutes=5 Window=5 Step=1 | 100.74248269013458 {'ltceur': 0.01920142434560298, 'ltcusd': -0.008305460133791357, 'ethusd': -0.014729428069011851, 'btcusd': 0.0122191145695794}\n",
      "Pipeline(steps=[('minmaxscaler', MinMaxScaler()),\n",
      "                ('pipeline',\n",
      "                 Pipeline(steps=[('s',\n",
      "                                  RFECV(estimator=DecisionTreeClassifier(random_state=10),\n",
      "                                        scoring='recall')),\n",
      "                                 ('m',\n",
      "                                  RandomForestClassifier(criterion='entropy',\n",
      "                                                         max_depth=100,\n",
      "                                                         n_estimators=30,\n",
      "                                                         random_state=42))]))])\n",
      "\n",
      "Minutes=5 Window=30 Step=1 | 100.87610794254047 {'ltceur': -0.013561106386476516, 'ltcusd': 0.023657619001568327, 'ethusd': -0.014218783353338533, 'btcusd': 0.014259435238210891}\n",
      "Pipeline(steps=[('minmaxscaler', MinMaxScaler()),\n",
      "                ('pipeline',\n",
      "                 Pipeline(steps=[('s',\n",
      "                                  RFECV(estimator=DecisionTreeClassifier(random_state=10),\n",
      "                                        scoring='recall')),\n",
      "                                 ('m',\n",
      "                                  RandomForestClassifier(criterion='entropy',\n",
      "                                                         max_depth=100,\n",
      "                                                         n_estimators=30,\n",
      "                                                         random_state=42))]))])\n",
      "\n",
      "Minutes=5 Window=20 Step=1 | 100.88478457371757 {'ltceur': -0.0023331615603729267, 'ltcusd': 0.006455685291780366, 'ethusd': 0.015095192190935998, 'btcusd': -0.01001173883124418}\n",
      "Pipeline(steps=[('minmaxscaler', MinMaxScaler()),\n",
      "                ('randomforestclassifier',\n",
      "                 RandomForestClassifier(criterion='entropy', max_depth=100,\n",
      "                                        n_estimators=30, random_state=42))])\n",
      "\n",
      "Minutes=15 Window=5 Step=1 | 100.97476421422066 {'ltceur': -0.007770628859851865, 'ltcusd': -0.00274215953267619, 'ethusd': 0.030777933364084936, 'btcusd': -0.016852897360263196}\n",
      "Pipeline(steps=[('normalizer', Normalizer()),\n",
      "                ('randomforestclassifier',\n",
      "                 RandomForestClassifier(criterion='entropy', max_depth=100,\n",
      "                                        n_estimators=30, random_state=42))])\n",
      "\n",
      "Minutes=3 Window=5 Step=1 | 101.01719616290023 {'ltceur': 0.011601994590976735, 'ltcusd': 0.0037796015772792848, 'ethusd': 0.013610005887915501, 'btcusd': 0.003069933854189315}\n",
      "Pipeline(steps=[('normalizer', Normalizer()),\n",
      "                ('pipeline',\n",
      "                 Pipeline(steps=[('s',\n",
      "                                  RFECV(estimator=DecisionTreeClassifier(random_state=10),\n",
      "                                        scoring='recall')),\n",
      "                                 ('m',\n",
      "                                  RandomForestClassifier(criterion='entropy',\n",
      "                                                         max_depth=100,\n",
      "                                                         n_estimators=30,\n",
      "                                                         random_state=42))]))])\n",
      "\n",
      "Minutes=15 Window=30 Step=1 | 101.13085287353957 {'ltceur': 0.01400404636514626, 'ltcusd': -0.012154199354334497, 'ethusd': -0.008080798108392281, 'btcusd': 0.018949085289074546}\n",
      "Pipeline(steps=[('normalizer', Normalizer()),\n",
      "                ('randomforestclassifier',\n",
      "                 RandomForestClassifier(criterion='entropy', max_depth=100,\n",
      "                                        n_estimators=30, random_state=42))])\n",
      "\n",
      "Minutes=15 Window=10 Step=1 | 101.17568598153284 {'ltceur': -0.03036010612796611, 'ltcusd': 0.011307395527685032, 'ethusd': 0.015151839255028627, 'btcusd': 0.0160709316165051}\n",
      "Pipeline(steps=[('standardscaler', StandardScaler()),\n",
      "                ('pipeline',\n",
      "                 Pipeline(steps=[('s',\n",
      "                                  RFECV(estimator=DecisionTreeClassifier(random_state=10),\n",
      "                                        scoring='recall')),\n",
      "                                 ('m',\n",
      "                                  RandomForestClassifier(criterion='entropy',\n",
      "                                                         max_depth=100,\n",
      "                                                         n_estimators=30,\n",
      "                                                         random_state=42))]))])\n",
      "\n",
      "Minutes=5 Window=40 Step=1 | 101.28259952909748 {'ltceur': -0.00019759159556003778, 'ltcusd': -0.008676781607262238, 'ethusd': -0.004040327869533838, 'btcusd': 0.03170191207377666}\n"
     ]
    },
    {
     "name": "stdout",
     "output_type": "stream",
     "text": [
      "Pipeline(steps=[('standardscaler', StandardScaler()),\n",
      "                ('pipeline',\n",
      "                 Pipeline(steps=[('s',\n",
      "                                  RFECV(estimator=DecisionTreeClassifier(random_state=10),\n",
      "                                        scoring='recall')),\n",
      "                                 ('m',\n",
      "                                  RandomForestClassifier(criterion='entropy',\n",
      "                                                         max_depth=100,\n",
      "                                                         n_estimators=30,\n",
      "                                                         random_state=42))]))])\n",
      "\n",
      "Minutes=3 Window=40 Step=1 | 101.33687848896164 {'ltceur': 0.004246749290570677, 'ltcusd': 0.035508259682388826, 'ethusd': 0.029098197346274852, 'btcusd': -0.0036932216247034556}\n",
      "Pipeline(steps=[('minmaxscaler', MinMaxScaler()),\n",
      "                ('randomforestclassifier',\n",
      "                 RandomForestClassifier(criterion='entropy', max_depth=100,\n",
      "                                        n_estimators=30, random_state=42))])\n",
      "\n",
      "Minutes=5 Window=30 Step=1 | 101.39796798737646 {'ltceur': 0.03675256368508852, 'ltcusd': 0.019276130730386448, 'ethusd': -0.04288257754451739, 'btcusd': -0.004013819309381491}\n",
      "Pipeline(steps=[('normalizer', Normalizer()),\n",
      "                ('randomforestclassifier',\n",
      "                 RandomForestClassifier(criterion='entropy', max_depth=100,\n",
      "                                        n_estimators=30, random_state=42))])\n",
      "\n",
      "Minutes=3 Window=5 Step=1 | 101.4242031710547 {'ltceur': 0.003356891809708072, 'ltcusd': 0.06207453514536081, 'ethusd': -0.035559441183292594, 'btcusd': 0.019873941256335553}\n",
      "Pipeline(steps=[('standardscaler', StandardScaler()),\n",
      "                ('randomforestclassifier',\n",
      "                 RandomForestClassifier(criterion='entropy', max_depth=100,\n",
      "                                        n_estimators=30, random_state=42))])\n",
      "\n",
      "Minutes=5 Window=10 Step=1 | 101.44331573149137 {'ltceur': 0.0005688003397521622, 'ltcusd': -0.016139213229450916, 'ethusd': 0.011009143806161642, 'btcusd': 0.02567058153797322}\n",
      "Pipeline(steps=[('normalizer', Normalizer()),\n",
      "                ('randomforestclassifier',\n",
      "                 RandomForestClassifier(criterion='entropy', max_depth=100,\n",
      "                                        n_estimators=30, random_state=42))])\n",
      "\n",
      "Minutes=5 Window=40 Step=1 | 101.52477083068618 {'ltceur': -0.02472424116923641, 'ltcusd': 0.019106631543982542, 'ethusd': 0.0011563727718299874, 'btcusd': 0.02513375649667528}\n",
      "Pipeline(steps=[('standardscaler', StandardScaler()),\n",
      "                ('randomforestclassifier',\n",
      "                 RandomForestClassifier(criterion='entropy', max_depth=100,\n",
      "                                        n_estimators=30, random_state=42))])\n",
      "\n",
      "Minutes=15 Window=30 Step=1 | 101.60000417311568 {'ltceur': -0.004257704426193849, 'ltcusd': 0.024765335631647147, 'ethusd': -0.01946419439841759, 'btcusd': 0.013176477147464564}\n",
      "Pipeline(steps=[('minmaxscaler', MinMaxScaler()),\n",
      "                ('randomforestclassifier',\n",
      "                 RandomForestClassifier(criterion='entropy', max_depth=100,\n",
      "                                        n_estimators=30, random_state=42))])\n",
      "\n",
      "Minutes=5 Window=10 Step=1 | 102.03505809803336 {'ltceur': 0.006688607237437653, 'ltcusd': 0.03513258252639457, 'ethusd': -0.026581135656034472, 'btcusd': 0.0038088555892449943}\n",
      "Pipeline(steps=[('minmaxscaler', MinMaxScaler()),\n",
      "                ('randomforestclassifier',\n",
      "                 RandomForestClassifier(criterion='entropy', max_depth=100,\n",
      "                                        n_estimators=30, random_state=42))])\n",
      "\n",
      "Minutes=5 Window=20 Step=1 | 102.29930500329036 {'ltceur': 0.008729333236381724, 'ltcusd': 0.008907510732320578, 'ethusd': -0.006499438439255991, 'btcusd': 0.015046200364565564}\n",
      "Pipeline(steps=[('minmaxscaler', MinMaxScaler()),\n",
      "                ('pipeline',\n",
      "                 Pipeline(steps=[('s',\n",
      "                                  RFECV(estimator=DecisionTreeClassifier(random_state=10),\n",
      "                                        scoring='recall')),\n",
      "                                 ('m',\n",
      "                                  RandomForestClassifier(criterion='entropy',\n",
      "                                                         max_depth=100,\n",
      "                                                         n_estimators=30,\n",
      "                                                         random_state=42))]))])\n",
      "\n",
      "Minutes=5 Window=5 Step=1 | 102.61982935184929 {'ltceur': 0.007159138690331289, 'ltcusd': 0.003543189969432333, 'ethusd': 0.0031618408266981682, 'btcusd': 0.017183220217775557}\n",
      "Pipeline(steps=[('standardscaler', StandardScaler()),\n",
      "                ('randomforestclassifier',\n",
      "                 RandomForestClassifier(criterion='entropy', max_depth=100,\n",
      "                                        n_estimators=30, random_state=42))])\n",
      "\n",
      "Minutes=15 Window=20 Step=1 | 102.99645718185275 {'ltceur': 0.030387023695461913, 'ltcusd': -0.008910269998073978, 'ethusd': 0.0046928194268244326, 'btcusd': -0.005480847509120177}\n",
      "Pipeline(steps=[('normalizer', Normalizer()),\n",
      "                ('pipeline',\n",
      "                 Pipeline(steps=[('s',\n",
      "                                  RFECV(estimator=DecisionTreeClassifier(random_state=10),\n",
      "                                        scoring='recall')),\n",
      "                                 ('m',\n",
      "                                  RandomForestClassifier(criterion='entropy',\n",
      "                                                         max_depth=100,\n",
      "                                                         n_estimators=30,\n",
      "                                                         random_state=42))]))])\n",
      "\n",
      "Minutes=15 Window=20 Step=1 | 103.12530170233208 {'ltceur': -0.018637323608088945, 'ltcusd': 0.013297079656587153, 'ethusd': 0.017651458516503758, 'btcusd': 0.013416264225988574}\n",
      "Pipeline(steps=[('standardscaler', StandardScaler()),\n",
      "                ('pipeline',\n",
      "                 Pipeline(steps=[('s',\n",
      "                                  RFECV(estimator=DecisionTreeClassifier(random_state=10),\n",
      "                                        scoring='recall')),\n",
      "                                 ('m',\n",
      "                                  RandomForestClassifier(criterion='entropy',\n",
      "                                                         max_depth=100,\n",
      "                                                         n_estimators=30,\n",
      "                                                         random_state=42))]))])\n",
      "\n",
      "Minutes=5 Window=20 Step=1 | 103.25277100896696 {'ltceur': 0.019780762903785012, 'ltcusd': 0.008423452590683379, 'ethusd': 0.0012314850468679815, 'btcusd': 0.006048357302523238}\n",
      "Pipeline(steps=[('standardscaler', StandardScaler()),\n",
      "                ('pipeline',\n",
      "                 Pipeline(steps=[('s',\n",
      "                                  RFECV(estimator=DecisionTreeClassifier(random_state=10),\n",
      "                                        scoring='recall')),\n",
      "                                 ('m',\n",
      "                                  RandomForestClassifier(criterion='entropy',\n",
      "                                                         max_depth=100,\n",
      "                                                         n_estimators=30,\n",
      "                                                         random_state=42))]))])\n",
      "\n",
      "Minutes=5 Window=30 Step=1 | 103.37984346328466 {'ltceur': 0.006453078055530088, 'ltcusd': 0.008723820916357277, 'ethusd': 0.006349510775642604, 'btcusd': 0.018027812099027676}\n",
      "Pipeline(steps=[('standardscaler', StandardScaler()),\n",
      "                ('pipeline',\n",
      "                 Pipeline(steps=[('s',\n",
      "                                  RFECV(estimator=DecisionTreeClassifier(random_state=10),\n",
      "                                        scoring='recall')),\n",
      "                                 ('m',\n",
      "                                  RandomForestClassifier(criterion='entropy',\n",
      "                                                         max_depth=100,\n",
      "                                                         n_estimators=30,\n",
      "                                                         random_state=42))]))])\n",
      "\n",
      "Minutes=5 Window=40 Step=1 | 103.49499685363875 {'ltceur': -0.012119741560731225, 'ltcusd': -0.019888430116930787, 'ethusd': 0.017095910062402565, 'btcusd': 0.06550518416857655}\n",
      "Pipeline(steps=[('minmaxscaler', MinMaxScaler()),\n",
      "                ('pipeline',\n",
      "                 Pipeline(steps=[('s',\n",
      "                                  RFECV(estimator=DecisionTreeClassifier(random_state=10),\n",
      "                                        scoring='recall')),\n",
      "                                 ('m',\n",
      "                                  RandomForestClassifier(criterion='entropy',\n",
      "                                                         max_depth=100,\n",
      "                                                         n_estimators=30,\n",
      "                                                         random_state=42))]))])\n",
      "\n",
      "Minutes=5 Window=10 Step=1 | 103.59688234039085 {'ltceur': 0.025196089899433782, 'ltcusd': 0.005211377310970303, 'ethusd': 0.0029085966740997143, 'btcusd': 0.005978643936896875}\n",
      "Pipeline(steps=[('normalizer', Normalizer()),\n",
      "                ('pipeline',\n",
      "                 Pipeline(steps=[('s',\n",
      "                                  RFECV(estimator=DecisionTreeClassifier(random_state=10),\n",
      "                                        scoring='recall')),\n",
      "                                 ('m',\n",
      "                                  RandomForestClassifier(criterion='entropy',\n",
      "                                                         max_depth=100,\n",
      "                                                         n_estimators=30,\n",
      "                                                         random_state=42))]))])\n",
      "\n",
      "Minutes=15 Window=10 Step=1 | 104.39502766347084 {'ltceur': 0.006556610190700052, 'ltcusd': -0.005809626592150799, 'ethusd': 0.019266374910345906, 'btcusd': 0.01577326489833737}\n",
      "Pipeline(steps=[('minmaxscaler', MinMaxScaler()),\n",
      "                ('randomforestclassifier',\n",
      "                 RandomForestClassifier(criterion='entropy', max_depth=100,\n",
      "                                        n_estimators=30, random_state=42))])\n"
     ]
    },
    {
     "name": "stdout",
     "output_type": "stream",
     "text": [
      "\n",
      "Minutes=15 Window=10 Step=1 | 104.79654865922687 {'ltceur': 0.018742083870775306, 'ltcusd': -0.01555970648437968, 'ethusd': 0.012681106757985406, 'btcusd': 0.02509330434153996}\n",
      "Pipeline(steps=[('standardscaler', StandardScaler()),\n",
      "                ('randomforestclassifier',\n",
      "                 RandomForestClassifier(criterion='entropy', max_depth=100,\n",
      "                                        n_estimators=30, random_state=42))])\n",
      "\n",
      "Minutes=15 Window=20 Step=1 | 105.18823929991636 {'ltceur': -0.004681837989708759, 'ltcusd': 0.027842665929255116, 'ethusd': 0.017349792938575585, 'btcusd': -0.003988497780020516}\n",
      "Pipeline(steps=[('normalizer', Normalizer()),\n",
      "                ('randomforestclassifier',\n",
      "                 RandomForestClassifier(criterion='entropy', max_depth=100,\n",
      "                                        n_estimators=30, random_state=42))])\n",
      "\n",
      "Minutes=5 Window=10 Step=1 | 105.3214336664476 {'ltceur': 0.0055075364069101206, 'ltcusd': 0.0030191878334797947, 'ethusd': 0.028994228824053503, 'btcusd': 0.026600949772323215}\n",
      "Pipeline(steps=[('minmaxscaler', MinMaxScaler()),\n",
      "                ('pipeline',\n",
      "                 Pipeline(steps=[('s',\n",
      "                                  RFECV(estimator=DecisionTreeClassifier(random_state=10),\n",
      "                                        scoring='recall')),\n",
      "                                 ('m',\n",
      "                                  RandomForestClassifier(criterion='entropy',\n",
      "                                                         max_depth=100,\n",
      "                                                         n_estimators=30,\n",
      "                                                         random_state=42))]))])\n",
      "\n",
      "Minutes=5 Window=20 Step=1 | 106.21847739607226 {'ltceur': 0.003009978639031243, 'ltcusd': 0.02508745632439569, 'ethusd': 0.025315211779504798, 'btcusd': 0.018176555363013876}\n",
      "Pipeline(steps=[('normalizer', Normalizer()),\n",
      "                ('randomforestclassifier',\n",
      "                 RandomForestClassifier(criterion='entropy', max_depth=100,\n",
      "                                        n_estimators=30, random_state=42))])\n",
      "\n",
      "Minutes=15 Window=10 Step=1 | 108.02819426721756 {'ltceur': 0.022850468547549883, 'ltcusd': 0.015256277413077076, 'ethusd': 0.010047840504106948, 'btcusd': 0.013101824224495514}\n",
      "Pipeline(steps=[('minmaxscaler', MinMaxScaler()),\n",
      "                ('pipeline',\n",
      "                 Pipeline(steps=[('s',\n",
      "                                  RFECV(estimator=DecisionTreeClassifier(random_state=10),\n",
      "                                        scoring='recall')),\n",
      "                                 ('m',\n",
      "                                  RandomForestClassifier(criterion='entropy',\n",
      "                                                         max_depth=100,\n",
      "                                                         n_estimators=30,\n",
      "                                                         random_state=42))]))])\n",
      "\n",
      "Minutes=15 Window=5 Step=1 | 110.6958224494712 {'ltceur': 0.038603429298098964, 'ltcusd': 0.01590384382943269, 'ethusd': 0.011454881890613135, 'btcusd': 0.01517698648829343}\n",
      "Pipeline(steps=[('minmaxscaler', MinMaxScaler()),\n",
      "                ('randomforestclassifier',\n",
      "                 RandomForestClassifier(criterion='entropy', max_depth=100,\n",
      "                                        n_estimators=30, random_state=42))])\n",
      "\n"
     ]
    }
   ],
   "source": [
    "def myFunc(e):\n",
    "    return e['profit']\n",
    "    #return e['models_profit_metric']['btcusd']\n",
    "\n",
    "best_results.sort(key=myFunc, reverse = False)\n",
    "\n",
    "for best in best_results:\n",
    "    print_result(best)\n",
    "    model = best['model']\n",
    "    window = best['window']\n",
    "    minutes = best['minutes']\n",
    "    step = best['step']\n",
    "    model_path = f'model/result_{window}_{minutes}_{step}'\n",
    "    dump(best, model_path)\n",
    "    print(f\"\")"
   ]
  },
  {
   "cell_type": "code",
   "execution_count": 34,
   "id": "51c9b2f0",
   "metadata": {},
   "outputs": [],
   "source": [
    "def myFunc(e):\n",
    "    return e['profit']\n",
    "    #return e['models_profit_metric']['btcusd']\n",
    "\n",
    "best_results.sort(key=myFunc, reverse = True)"
   ]
  },
  {
   "cell_type": "code",
   "execution_count": 35,
   "id": "3b377b09",
   "metadata": {},
   "outputs": [
    {
     "data": {
      "text/plain": [
       "{'profit': 110.6958224494712,\n",
       " 'model': Pipeline(steps=[('minmaxscaler', MinMaxScaler()),\n",
       "                 ('randomforestclassifier',\n",
       "                  RandomForestClassifier(criterion='entropy', max_depth=100,\n",
       "                                         n_estimators=30, random_state=42))]),\n",
       " 'models_profit': {'ltceur': 21.2252,\n",
       "  'ltcusd': 8.8684,\n",
       "  'ethusd': 6.2654,\n",
       "  'btcusd': 6.4243},\n",
       " 'models_score': {'ltceur': {'recall': 0.15982142857142856,\n",
       "   'precision': 0.4398034398034398,\n",
       "   'f1': 0.2344466273739358,\n",
       "   'accuracy': 0.5945195976413458,\n",
       "   'roc_auc': 0.5152482071955271},\n",
       "  'ltcusd': {'recall': 0.16171328671328672,\n",
       "   'precision': 0.42045454545454547,\n",
       "   'f1': 0.23358585858585862,\n",
       "   'accuracy': 0.5789108567464447,\n",
       "   'roc_auc': 0.5075386445067296},\n",
       "  'ethusd': {'recall': 0.18524871355060035,\n",
       "   'precision': 0.4227005870841487,\n",
       "   'f1': 0.25760286225402507,\n",
       "   'accuracy': 0.5681581685744017,\n",
       "   'roc_auc': 0.506718707386832},\n",
       "  'btcusd': {'recall': 0.1750936329588015,\n",
       "   'precision': 0.4100877192982456,\n",
       "   'f1': 0.24540682414698162,\n",
       "   'accuracy': 0.6011099549080818,\n",
       "   'roc_auc': 0.5134421332838086}},\n",
       " 'models_profit_metric': {'ltceur': 0.038603429298098964,\n",
       "  'ltcusd': 0.01590384382943269,\n",
       "  'ethusd': 0.011454881890613135,\n",
       "  'btcusd': 0.01517698648829343},\n",
       " 'reference_profit': {'ltceur': 549.8268,\n",
       "  'ltcusd': 557.6262,\n",
       "  'ethusd': 546.9633,\n",
       "  'btcusd': 423.2922},\n",
       " 'window': 5,\n",
       " 'minutes': 15,\n",
       " 'step': 1}"
      ]
     },
     "execution_count": 35,
     "metadata": {},
     "output_type": "execute_result"
    }
   ],
   "source": [
    "best_results[0]"
   ]
  },
  {
   "cell_type": "code",
   "execution_count": null,
   "id": "caec402a",
   "metadata": {},
   "outputs": [],
   "source": []
  },
  {
   "cell_type": "code",
   "execution_count": null,
   "id": "e5ba9fe3",
   "metadata": {},
   "outputs": [],
   "source": []
  },
  {
   "cell_type": "code",
   "execution_count": null,
   "id": "fc5a08f2",
   "metadata": {},
   "outputs": [],
   "source": []
  },
  {
   "cell_type": "code",
   "execution_count": null,
   "id": "143c9994",
   "metadata": {},
   "outputs": [],
   "source": []
  },
  {
   "cell_type": "code",
   "execution_count": null,
   "id": "7393f347",
   "metadata": {},
   "outputs": [],
   "source": []
  },
  {
   "cell_type": "code",
   "execution_count": null,
   "id": "883f51e9",
   "metadata": {},
   "outputs": [],
   "source": []
  },
  {
   "cell_type": "code",
   "execution_count": null,
   "id": "8885ff92",
   "metadata": {},
   "outputs": [],
   "source": []
  },
  {
   "cell_type": "code",
   "execution_count": null,
   "id": "6fbf479b",
   "metadata": {},
   "outputs": [],
   "source": []
  },
  {
   "cell_type": "code",
   "execution_count": null,
   "id": "af73adfd",
   "metadata": {},
   "outputs": [],
   "source": []
  },
  {
   "cell_type": "code",
   "execution_count": null,
   "id": "68de4f24",
   "metadata": {},
   "outputs": [],
   "source": []
  },
  {
   "cell_type": "code",
   "execution_count": null,
   "id": "3e624c56",
   "metadata": {},
   "outputs": [],
   "source": []
  },
  {
   "cell_type": "code",
   "execution_count": null,
   "id": "a40921c6",
   "metadata": {},
   "outputs": [],
   "source": []
  },
  {
   "cell_type": "code",
   "execution_count": null,
   "id": "14e654e7",
   "metadata": {
    "scrolled": false
   },
   "outputs": [],
   "source": []
  },
  {
   "cell_type": "code",
   "execution_count": 19,
   "id": "b413a0b9",
   "metadata": {},
   "outputs": [],
   "source": [
    "def load_online(minutes, window, val_end, currency = []):\n",
    "    tec = TecAn(windows = window, windows_limit = 100)\n",
    "    source_data_generator = SourceDataGenerator(tec = tec)\n",
    "\n",
    "    start = val_end - (60 * 100 * minutes)\n",
    "    end = val_end - (160 * minutes)\n",
    "\n",
    "    online = OnLineDataProvider(\n",
    "                 source_data_generator = source_data_generator,\n",
    "                 minutes = minutes,\n",
    "                 train_keys = [],\n",
    "                 train_limit = 40,\n",
    "                 val_limit = 999,\n",
    "                 val_keys = currency,\n",
    "                 val_start = start,\n",
    "                 val_end = end,\n",
    "                 train_start_list = []\n",
    "    )\n",
    "\n",
    "    online.load_cache()\n",
    "    return online"
   ]
  },
  {
   "cell_type": "code",
   "execution_count": 20,
   "id": "35dd65db",
   "metadata": {},
   "outputs": [],
   "source": [
    "def backtest_model(model, x, closed_prices, back):\n",
    "    \n",
    "    for idx in range(len(x)):\n",
    "        xx = np.array([x[idx]])\n",
    "        #print(xx)\n",
    "        yy = model.predict(xx)\n",
    "        yy = yy[0]\n",
    "        price = closed_prices[idx]\n",
    "        #print(f'{idx} {yy} {price}')\n",
    "        back.on_state(0, price)\n",
    "        if(yy == 1):\n",
    "            back.request_buy(price)\n",
    "        else:\n",
    "            back.request_sell(price)\n",
    "    \n",
    "    #print(f\"Closing backtest_model {price} {back.current}\")\n",
    "    back.sell(price)\n",
    "    #print(f\"Closed backtest_model {back.current}\")\n",
    "    \n",
    "    return back"
   ]
  },
  {
   "cell_type": "code",
   "execution_count": null,
   "id": "83fb2346",
   "metadata": {},
   "outputs": [],
   "source": []
  },
  {
   "cell_type": "code",
   "execution_count": 21,
   "id": "be8578b2",
   "metadata": {},
   "outputs": [],
   "source": [
    "def test_model(model, set_key, provider, step, verbose = True):\n",
    "    valX, valY = provider.load_val_data(set_key)\n",
    "\n",
    "    x, y, closed_prices = get_sequencial_data(valX, valY, step)\n",
    "    \n",
    "    #print(len(x))\n",
    "    preds = model.predict(x)\n",
    "\n",
    "    recall = recall_score(y, preds)\n",
    "    precision = precision_score(y, preds)\n",
    "    f1 = f1_score(y, preds)\n",
    "    accuracy = accuracy_score(y, preds)\n",
    "\n",
    "    back = BackTest(value = 100, \n",
    "                    verbose = verbose, \n",
    "                    sell_on_profit = True,\n",
    "                    pending_sell_steps = step)\n",
    "    back = backtest_model(model, x, closed_prices, back)\n",
    "    return back"
   ]
  },
  {
   "cell_type": "code",
   "execution_count": 22,
   "id": "34ec71c5",
   "metadata": {
    "scrolled": true
   },
   "outputs": [],
   "source": [
    "from datetime import datetime\n",
    "\n",
    "\n",
    "timestamp = int(datetime.timestamp((datetime.now())))\n",
    "\n"
   ]
  },
  {
   "cell_type": "code",
   "execution_count": 70,
   "id": "1763f5cb",
   "metadata": {},
   "outputs": [],
   "source": [
    "def load_results(results_path):\n",
    "    try:\n",
    "        saved_models = load(results_path)\n",
    "        print(f\"{results_path} - {len(saved_models)}\")\n",
    "    except:\n",
    "        saved_models = []\n",
    "    return saved_models"
   ]
  },
  {
   "cell_type": "code",
   "execution_count": 73,
   "id": "cfb95a8d",
   "metadata": {},
   "outputs": [
    {
     "name": "stdout",
     "output_type": "stream",
     "text": [
      "model/decision - 280\n",
      "model/catboost - 280\n",
      "model/RandomForestClassifier - 58\n"
     ]
    }
   ],
   "source": [
    "decision = load_results(\"model/decision\")\n",
    "catboost = load_results(\"model/catboost\")\n",
    "randomForestClassifier = load_results(\"model/RandomForestClassifier\")\n",
    "models_results = [decision, catboost, randomForestClassifier]"
   ]
  },
  {
   "cell_type": "code",
   "execution_count": 92,
   "id": "c2d0d681",
   "metadata": {},
   "outputs": [
    {
     "name": "stdout",
     "output_type": "stream",
     "text": [
      "165\n"
     ]
    }
   ],
   "source": [
    "all_models = []\n",
    "for results in models_results:\n",
    "    for result in results:\n",
    "        if(result['profit'] > 100):\n",
    "            all_models.append(result)\n",
    "    \n",
    "print(len(all_models))\n"
   ]
  },
  {
   "cell_type": "code",
   "execution_count": 99,
   "id": "c7ff83ca",
   "metadata": {},
   "outputs": [],
   "source": [
    "online_cache = {}"
   ]
  },
  {
   "cell_type": "code",
   "execution_count": null,
   "id": "cfbe80d4",
   "metadata": {},
   "outputs": [],
   "source": []
  },
  {
   "cell_type": "code",
   "execution_count": 100,
   "id": "06575cba",
   "metadata": {
    "scrolled": true
   },
   "outputs": [
    {
     "data": {
      "application/vnd.jupyter.widget-view+json": {
       "model_id": "7de57eb646a846e89a21407390213978",
       "version_major": 2,
       "version_minor": 0
      },
      "text/plain": [
       "  0%|          | 0/165 [00:00<?, ?it/s]"
      ]
     },
     "metadata": {},
     "output_type": "display_data"
    },
    {
     "name": "stdout",
     "output_type": "stream",
     "text": [
      "Minutes=15 Window=5 Step=1 | 103.42841714934886\n",
      "Not found 15-5\n",
      "https://www.bitstamp.net/api/v2/ohlc/ethusd/?&currency_pair=ethusd&step=900&limit=1000&start=1627334016\n",
      "Downloaded from 2021-07-26 22:00:00 to 2021-07-27 22:45:00 2264.85\n",
      "Resample 15Min - TecAn ( windows 5, windows_limit 100 )\n",
      "Processing 99 of ethusd\n"
     ]
    },
    {
     "data": {
      "application/vnd.jupyter.widget-view+json": {
       "model_id": "c3a56dd29b0f4b75b8b867bc35bb5830",
       "version_major": 2,
       "version_minor": 0
      },
      "text/plain": [
       "  0%|          | 0/99 [00:00<?, ?it/s]"
      ]
     },
     "metadata": {},
     "output_type": "display_data"
    },
    {
     "name": "stdout",
     "output_type": "stream",
     "text": [
      "ethusd - 0.8235\n",
      "Minutes=15 Window=10 Step=1 | 101.70597967714077\n",
      "Not found 15-10\n",
      "https://www.bitstamp.net/api/v2/ohlc/ethusd/?&currency_pair=ethusd&step=900&limit=1000&start=1627334016\n",
      "Downloaded from 2021-07-26 22:00:00 to 2021-07-27 22:45:00 2264.85\n",
      "Resample 15Min - TecAn ( windows 10, windows_limit 100 )\n",
      "Processing 99 of ethusd\n"
     ]
    },
    {
     "data": {
      "application/vnd.jupyter.widget-view+json": {
       "model_id": "5c662576b504411985ef530bb9813d49",
       "version_major": 2,
       "version_minor": 0
      },
      "text/plain": [
       "  0%|          | 0/99 [00:00<?, ?it/s]"
      ]
     },
     "metadata": {},
     "output_type": "display_data"
    },
    {
     "name": "stdout",
     "output_type": "stream",
     "text": [
      "ethusd - 5.0999\n",
      "Minutes=15 Window=20 Step=1 | 103.84625373091797\n",
      "Not found 15-20\n",
      "https://www.bitstamp.net/api/v2/ohlc/ethusd/?&currency_pair=ethusd&step=900&limit=1000&start=1627334016\n",
      "Downloaded from 2021-07-26 22:00:00 to 2021-07-27 22:45:00 2264.85\n",
      "Resample 15Min - TecAn ( windows 20, windows_limit 100 )\n",
      "Processing 99 of ethusd\n"
     ]
    },
    {
     "data": {
      "application/vnd.jupyter.widget-view+json": {
       "model_id": "b8a763151946457290ebf7d7d58074bc",
       "version_major": 2,
       "version_minor": 0
      },
      "text/plain": [
       "  0%|          | 0/99 [00:00<?, ?it/s]"
      ]
     },
     "metadata": {},
     "output_type": "display_data"
    },
    {
     "name": "stdout",
     "output_type": "stream",
     "text": [
      "ethusd - 4.6586\n",
      "Minutes=15 Window=30 Step=1 | 103.07572852179678\n",
      "Not found 15-30\n",
      "https://www.bitstamp.net/api/v2/ohlc/ethusd/?&currency_pair=ethusd&step=900&limit=1000&start=1627334016\n",
      "Downloaded from 2021-07-26 22:00:00 to 2021-07-27 22:45:00 2264.85\n",
      "Resample 15Min - TecAn ( windows 30, windows_limit 100 )\n",
      "Processing 99 of ethusd\n"
     ]
    },
    {
     "data": {
      "application/vnd.jupyter.widget-view+json": {
       "model_id": "7dd4d3a7766a49c3a41b8e6a98a7f2c2",
       "version_major": 2,
       "version_minor": 0
      },
      "text/plain": [
       "  0%|          | 0/99 [00:00<?, ?it/s]"
      ]
     },
     "metadata": {},
     "output_type": "display_data"
    },
    {
     "name": "stdout",
     "output_type": "stream",
     "text": [
      "ethusd - 0.583\n",
      "Minutes=15 Window=40 Step=1 | 102.3571610972609\n",
      "Not found 15-40\n",
      "https://www.bitstamp.net/api/v2/ohlc/ethusd/?&currency_pair=ethusd&step=900&limit=1000&start=1627334016\n",
      "Downloaded from 2021-07-26 22:00:00 to 2021-07-27 22:45:00 2264.85\n",
      "Resample 15Min - TecAn ( windows 40, windows_limit 100 )\n",
      "Processing 99 of ethusd\n"
     ]
    },
    {
     "data": {
      "application/vnd.jupyter.widget-view+json": {
       "model_id": "a58bd15b8c3646c9b7295c410bf7cb4e",
       "version_major": 2,
       "version_minor": 0
      },
      "text/plain": [
       "  0%|          | 0/99 [00:00<?, ?it/s]"
      ]
     },
     "metadata": {},
     "output_type": "display_data"
    },
    {
     "name": "stdout",
     "output_type": "stream",
     "text": [
      "ethusd - -0.3747\n",
      "Minutes=15 Window=40 Step=1 | 104.54445876455293\n",
      "ethusd - -6.0646\n",
      "Minutes=15 Window=40 Step=1 | 101.55969261648306\n",
      "ethusd - 1.9998\n",
      "Minutes=5 Window=20 Step=1 | 101.1503041114205\n",
      "Not found 5-20\n",
      "https://www.bitstamp.net/api/v2/ohlc/ethusd/?&currency_pair=ethusd&step=300&limit=1000&start=1627394016\n",
      "Downloaded from 2021-07-27 14:50:00 to 2021-07-27 23:05:00 2255.67\n",
      "Resample 5Min - TecAn ( windows 20, windows_limit 100 )\n",
      "Processing 99 of ethusd\n"
     ]
    },
    {
     "data": {
      "application/vnd.jupyter.widget-view+json": {
       "model_id": "c1252f792abe44698ee3d3276c28157f",
       "version_major": 2,
       "version_minor": 0
      },
      "text/plain": [
       "  0%|          | 0/99 [00:00<?, ?it/s]"
      ]
     },
     "metadata": {},
     "output_type": "display_data"
    },
    {
     "name": "stdout",
     "output_type": "stream",
     "text": [
      "ethusd - -0.4113\n",
      "Minutes=5 Window=40 Step=1 | 102.06432810840036\n",
      "Not found 5-40\n",
      "https://www.bitstamp.net/api/v2/ohlc/ethusd/?&currency_pair=ethusd&step=300&limit=1000&start=1627394016\n",
      "Downloaded from 2021-07-27 14:50:00 to 2021-07-27 23:05:00 2255.67\n",
      "Resample 5Min - TecAn ( windows 40, windows_limit 100 )\n",
      "Processing 99 of ethusd\n"
     ]
    },
    {
     "data": {
      "application/vnd.jupyter.widget-view+json": {
       "model_id": "7d1832d5a8e844c7808ea394d1697b67",
       "version_major": 2,
       "version_minor": 0
      },
      "text/plain": [
       "  0%|          | 0/99 [00:00<?, ?it/s]"
      ]
     },
     "metadata": {},
     "output_type": "display_data"
    },
    {
     "name": "stdout",
     "output_type": "stream",
     "text": [
      "ethusd - -0.5024\n",
      "Minutes=5 Window=40 Step=1 | 100.54866737953012\n",
      "ethusd - -4.8172\n",
      "Minutes=5 Window=40 Step=1 | 101.92515677277369\n",
      "ethusd - -0.7612\n",
      "Minutes=1 Window=5 Step=1 | 100.96911611315863\n",
      "Not found 1-5\n",
      "https://www.bitstamp.net/api/v2/ohlc/ethusd/?&currency_pair=ethusd&step=60&limit=1000&start=1627418016\n",
      "Downloaded from 2021-07-27 21:33:00 to 2021-07-27 23:11:00 2257.00\n",
      "Resample 1Min - TecAn ( windows 5, windows_limit 100 )\n",
      "Processing 98 of ethusd\n"
     ]
    },
    {
     "data": {
      "application/vnd.jupyter.widget-view+json": {
       "model_id": "b62610df38e541b48525287a2dd9cb35",
       "version_major": 2,
       "version_minor": 0
      },
      "text/plain": [
       "  0%|          | 0/98 [00:00<?, ?it/s]"
      ]
     },
     "metadata": {},
     "output_type": "display_data"
    },
    {
     "name": "stdout",
     "output_type": "stream",
     "text": [
      "ethusd - 0.1856\n",
      "Minutes=1 Window=10 Step=1 | 100.37705322797446\n",
      "Not found 1-10\n",
      "https://www.bitstamp.net/api/v2/ohlc/ethusd/?&currency_pair=ethusd&step=60&limit=1000&start=1627418016\n",
      "Downloaded from 2021-07-27 21:33:00 to 2021-07-27 23:11:00 2257.00\n",
      "Resample 1Min - TecAn ( windows 10, windows_limit 100 )\n",
      "Processing 98 of ethusd\n"
     ]
    },
    {
     "data": {
      "application/vnd.jupyter.widget-view+json": {
       "model_id": "04af9911b6e8475690c0c69e461b17d8",
       "version_major": 2,
       "version_minor": 0
      },
      "text/plain": [
       "  0%|          | 0/98 [00:00<?, ?it/s]"
      ]
     },
     "metadata": {},
     "output_type": "display_data"
    },
    {
     "name": "stdout",
     "output_type": "stream",
     "text": [
      "ethusd - -0.065\n",
      "Minutes=1 Window=10 Step=1 | 100.14922163747156\n",
      "ethusd - -0.0188\n",
      "Minutes=1 Window=20 Step=1 | 100.42248597005202\n",
      "Not found 1-20\n",
      "https://www.bitstamp.net/api/v2/ohlc/ethusd/?&currency_pair=ethusd&step=60&limit=1000&start=1627418016\n",
      "Downloaded from 2021-07-27 21:33:00 to 2021-07-27 23:11:00 2257.00\n",
      "Resample 1Min - TecAn ( windows 20, windows_limit 100 )\n",
      "Processing 98 of ethusd\n"
     ]
    },
    {
     "data": {
      "application/vnd.jupyter.widget-view+json": {
       "model_id": "a5e461a95ea14864a77cd1fc3b9a26da",
       "version_major": 2,
       "version_minor": 0
      },
      "text/plain": [
       "  0%|          | 0/98 [00:00<?, ?it/s]"
      ]
     },
     "metadata": {},
     "output_type": "display_data"
    },
    {
     "name": "stdout",
     "output_type": "stream",
     "text": [
      "ethusd - -0.0308\n",
      "Minutes=1 Window=20 Step=1 | 102.4246343333656\n",
      "ethusd - 0.1069\n",
      "Minutes=1 Window=20 Step=1 | 100.10166488509556\n",
      "ethusd - 0.1957\n",
      "Minutes=1 Window=30 Step=1 | 100.97951047135075\n",
      "Not found 1-30\n",
      "https://www.bitstamp.net/api/v2/ohlc/ethusd/?&currency_pair=ethusd&step=60&limit=1000&start=1627418016\n",
      "Downloaded from 2021-07-27 21:33:00 to 2021-07-27 23:11:00 2257.00\n",
      "Resample 1Min - TecAn ( windows 30, windows_limit 100 )\n",
      "Processing 98 of ethusd\n"
     ]
    },
    {
     "data": {
      "application/vnd.jupyter.widget-view+json": {
       "model_id": "53318a97b71e401daa48d7e3c9e19de1",
       "version_major": 2,
       "version_minor": 0
      },
      "text/plain": [
       "  0%|          | 0/98 [00:00<?, ?it/s]"
      ]
     },
     "metadata": {},
     "output_type": "display_data"
    },
    {
     "name": "stdout",
     "output_type": "stream",
     "text": [
      "ethusd - 0.177\n",
      "Minutes=1 Window=30 Step=1 | 102.0378257654594\n",
      "ethusd - -0.0358\n",
      "Minutes=1 Window=30 Step=1 | 102.01314045301638\n",
      "ethusd - 0.5987\n",
      "Minutes=1 Window=40 Step=1 | 100.6108304370236\n",
      "Not found 1-40\n",
      "https://www.bitstamp.net/api/v2/ohlc/ethusd/?&currency_pair=ethusd&step=60&limit=1000&start=1627418016\n",
      "Downloaded from 2021-07-27 21:33:00 to 2021-07-27 23:11:00 2257.00\n",
      "Resample 1Min - TecAn ( windows 40, windows_limit 100 )\n",
      "Processing 98 of ethusd\n"
     ]
    },
    {
     "data": {
      "application/vnd.jupyter.widget-view+json": {
       "model_id": "acfb2bc406c540b4ab84ee0bb21c6a3b",
       "version_major": 2,
       "version_minor": 0
      },
      "text/plain": [
       "  0%|          | 0/98 [00:00<?, ?it/s]"
      ]
     },
     "metadata": {},
     "output_type": "display_data"
    },
    {
     "name": "stdout",
     "output_type": "stream",
     "text": [
      "ethusd - 0.4307\n",
      "Minutes=1 Window=40 Step=1 | 102.41746734473477\n",
      "ethusd - 0.2434\n",
      "Minutes=15 Window=5 Step=1 | 113.84476645038248\n",
      "ethusd - 1.666\n",
      "Minutes=15 Window=5 Step=1 | 105.57654088101032\n",
      "ethusd - 0.9974\n",
      "Minutes=15 Window=5 Step=1 | 111.24000161650744\n",
      "ethusd - 3.1987\n",
      "Minutes=15 Window=5 Step=1 | 108.08763864568854\n",
      "ethusd - 3.7235\n",
      "Minutes=15 Window=5 Step=1 | 103.339531011043\n",
      "ethusd - 1.3652\n",
      "Minutes=15 Window=5 Step=1 | 106.06861832232947\n",
      "ethusd - 2.3304\n",
      "Minutes=15 Window=5 Step=1 | 108.6010940106273\n",
      "ethusd - -0.1252\n",
      "Minutes=15 Window=10 Step=1 | 103.15230512728243\n",
      "ethusd - 3.6464\n",
      "Minutes=15 Window=10 Step=1 | 106.6351276464043\n",
      "ethusd - 1.4829\n",
      "Minutes=15 Window=10 Step=1 | 106.1179838891965\n",
      "ethusd - 1.2805\n",
      "Minutes=15 Window=10 Step=1 | 105.74788323226954\n",
      "ethusd - 1.9495\n",
      "Minutes=15 Window=10 Step=1 | 110.09041992200717\n",
      "ethusd - -0.5194\n",
      "Minutes=15 Window=10 Step=1 | 102.00463804011083\n",
      "ethusd - -1.5322\n",
      "Minutes=15 Window=10 Step=1 | 104.61624868805015\n",
      "ethusd - 1.2671\n",
      "Minutes=15 Window=20 Step=1 | 100.45608581628562\n",
      "ethusd - 0.2145\n",
      "Minutes=15 Window=20 Step=1 | 107.22462462184839\n",
      "ethusd - 0.6937\n",
      "Minutes=15 Window=20 Step=1 | 102.84545896884985\n",
      "ethusd - 2.4904\n",
      "Minutes=15 Window=20 Step=1 | 102.64692512430256\n",
      "ethusd - 3.0275\n",
      "Minutes=15 Window=20 Step=1 | 103.81362857605181\n",
      "ethusd - 1.1932\n",
      "Minutes=15 Window=30 Step=1 | 102.85925893410743\n",
      "ethusd - 1.5353\n",
      "Minutes=15 Window=30 Step=1 | 103.13266081370666\n",
      "ethusd - 0.3013\n",
      "Minutes=15 Window=30 Step=1 | 107.06801304905439\n",
      "ethusd - -0.39\n",
      "Minutes=15 Window=30 Step=1 | 102.35499855263382\n",
      "ethusd - 0.5031\n",
      "Minutes=15 Window=40 Step=1 | 103.3048188349486\n",
      "ethusd - 1.8322\n",
      "Minutes=15 Window=40 Step=1 | 100.81131374352564\n",
      "ethusd - 0.368\n",
      "Minutes=15 Window=40 Step=1 | 100.76976136738162\n",
      "ethusd - 0.4245\n",
      "Minutes=5 Window=5 Step=1 | 101.79483957905713\n",
      "Not found 5-5\n",
      "https://www.bitstamp.net/api/v2/ohlc/ethusd/?&currency_pair=ethusd&step=300&limit=1000&start=1627394016\n",
      "Downloaded from 2021-07-27 14:50:00 to 2021-07-27 23:05:00 2255.67\n",
      "Resample 5Min - TecAn ( windows 5, windows_limit 100 )\n",
      "Processing 99 of ethusd\n"
     ]
    },
    {
     "data": {
      "application/vnd.jupyter.widget-view+json": {
       "model_id": "3eb2fb4cccb24948a952e7089479471c",
       "version_major": 2,
       "version_minor": 0
      },
      "text/plain": [
       "  0%|          | 0/99 [00:00<?, ?it/s]"
      ]
     },
     "metadata": {},
     "output_type": "display_data"
    },
    {
     "name": "stdout",
     "output_type": "stream",
     "text": [
      "ethusd - 0.2356\n",
      "Minutes=5 Window=10 Step=1 | 101.51533048803533\n",
      "Not found 5-10\n",
      "https://www.bitstamp.net/api/v2/ohlc/ethusd/?&currency_pair=ethusd&step=300&limit=1000&start=1627394016\n",
      "Downloaded from 2021-07-27 14:50:00 to 2021-07-27 23:05:00 2255.67\n",
      "Resample 5Min - TecAn ( windows 10, windows_limit 100 )\n",
      "Processing 99 of ethusd\n"
     ]
    },
    {
     "data": {
      "application/vnd.jupyter.widget-view+json": {
       "model_id": "8dd4db379c154cfb9b2bbb1afb456f39",
       "version_major": 2,
       "version_minor": 0
      },
      "text/plain": [
       "  0%|          | 0/99 [00:00<?, ?it/s]"
      ]
     },
     "metadata": {},
     "output_type": "display_data"
    },
    {
     "name": "stdout",
     "output_type": "stream",
     "text": [
      "ethusd - 0.4016\n",
      "Minutes=5 Window=10 Step=1 | 103.45859372921358\n",
      "ethusd - 0.5659\n",
      "Minutes=5 Window=20 Step=1 | 100.37564251297671\n",
      "ethusd - -0.1997\n",
      "Minutes=5 Window=20 Step=1 | 104.14725163737259\n",
      "ethusd - 0.3957\n",
      "Minutes=5 Window=20 Step=1 | 100.34961498108161\n",
      "ethusd - -0.4438\n",
      "Minutes=5 Window=20 Step=1 | 105.01818305978216\n",
      "ethusd - 0.5375\n",
      "Minutes=5 Window=20 Step=1 | 106.37176394562596\n",
      "ethusd - -0.2923\n",
      "Minutes=5 Window=20 Step=1 | 103.9456532527985\n",
      "ethusd - -1.4128\n",
      "Minutes=5 Window=20 Step=1 | 105.13758378664397\n",
      "ethusd - 1.3241\n",
      "Minutes=5 Window=30 Step=1 | 103.47021449801217\n",
      "Not found 5-30\n",
      "https://www.bitstamp.net/api/v2/ohlc/ethusd/?&currency_pair=ethusd&step=300&limit=1000&start=1627394016\n",
      "Downloaded from 2021-07-27 14:50:00 to 2021-07-27 23:05:00 2255.67\n",
      "Resample 5Min - TecAn ( windows 30, windows_limit 100 )\n",
      "Processing 99 of ethusd\n"
     ]
    },
    {
     "data": {
      "application/vnd.jupyter.widget-view+json": {
       "model_id": "2f135ae7e331434b8f26f6c767f887c0",
       "version_major": 2,
       "version_minor": 0
      },
      "text/plain": [
       "  0%|          | 0/99 [00:00<?, ?it/s]"
      ]
     },
     "metadata": {},
     "output_type": "display_data"
    },
    {
     "name": "stdout",
     "output_type": "stream",
     "text": [
      "ethusd - -1.3009\n",
      "Minutes=5 Window=30 Step=1 | 101.16260593633837\n",
      "ethusd - -0.6827\n",
      "Minutes=5 Window=30 Step=1 | 102.02590013271043\n",
      "ethusd - -1.0039\n",
      "Minutes=5 Window=30 Step=1 | 104.08163526381233\n",
      "ethusd - 1.5387\n",
      "Minutes=5 Window=40 Step=1 | 104.34610998190583\n",
      "ethusd - 0.2561\n",
      "Minutes=5 Window=40 Step=1 | 104.80230335314575\n",
      "ethusd - 0.1258\n",
      "Minutes=5 Window=40 Step=1 | 100.48383486861377\n",
      "ethusd - 0.2319\n",
      "Minutes=5 Window=40 Step=1 | 103.66843602963431\n",
      "ethusd - -0.0693\n",
      "Minutes=3 Window=5 Step=1 | 100.00144392176661\n",
      "Not found 3-5\n",
      "https://www.bitstamp.net/api/v2/ohlc/ethusd/?&currency_pair=ethusd&step=180&limit=1000&start=1627406016\n",
      "Downloaded from 2021-07-27 18:12:00 to 2021-07-27 23:06:00 2256.10\n",
      "Resample 3Min - TecAn ( windows 5, windows_limit 100 )\n",
      "Processing 98 of ethusd\n"
     ]
    },
    {
     "data": {
      "application/vnd.jupyter.widget-view+json": {
       "model_id": "77a0453327f54fa6b76a703336929f5b",
       "version_major": 2,
       "version_minor": 0
      },
      "text/plain": [
       "  0%|          | 0/98 [00:00<?, ?it/s]"
      ]
     },
     "metadata": {},
     "output_type": "display_data"
    },
    {
     "name": "stderr",
     "output_type": "stream",
     "text": [
      "/Users/samirantonio/opt/miniconda3/envs/py3/lib/python3.9/site-packages/sklearn/metrics/_classification.py:1248: UndefinedMetricWarning: Precision is ill-defined and being set to 0.0 due to no predicted samples. Use `zero_division` parameter to control this behavior.\n",
      "  _warn_prf(average, modifier, msg_start, len(result))\n"
     ]
    },
    {
     "name": "stdout",
     "output_type": "stream",
     "text": [
      "ethusd - 0.0\n",
      "Minutes=3 Window=5 Step=1 | 100.69141639998966\n",
      "ethusd - -0.0603\n",
      "Minutes=3 Window=5 Step=1 | 100.61994101055376\n"
     ]
    },
    {
     "name": "stderr",
     "output_type": "stream",
     "text": [
      "/Users/samirantonio/opt/miniconda3/envs/py3/lib/python3.9/site-packages/sklearn/metrics/_classification.py:1248: UndefinedMetricWarning: Precision is ill-defined and being set to 0.0 due to no predicted samples. Use `zero_division` parameter to control this behavior.\n",
      "  _warn_prf(average, modifier, msg_start, len(result))\n",
      "/Users/samirantonio/opt/miniconda3/envs/py3/lib/python3.9/site-packages/sklearn/metrics/_classification.py:1248: UndefinedMetricWarning: Precision is ill-defined and being set to 0.0 due to no predicted samples. Use `zero_division` parameter to control this behavior.\n",
      "  _warn_prf(average, modifier, msg_start, len(result))\n"
     ]
    },
    {
     "name": "stdout",
     "output_type": "stream",
     "text": [
      "ethusd - 0.0\n",
      "Minutes=3 Window=5 Step=1 | 100.93822787637828\n",
      "ethusd - 0.0\n",
      "Minutes=3 Window=5 Step=1 | 100.45842631340645\n"
     ]
    },
    {
     "name": "stderr",
     "output_type": "stream",
     "text": [
      "/Users/samirantonio/opt/miniconda3/envs/py3/lib/python3.9/site-packages/sklearn/metrics/_classification.py:1248: UndefinedMetricWarning: Precision is ill-defined and being set to 0.0 due to no predicted samples. Use `zero_division` parameter to control this behavior.\n",
      "  _warn_prf(average, modifier, msg_start, len(result))\n"
     ]
    },
    {
     "name": "stdout",
     "output_type": "stream",
     "text": [
      "ethusd - 0.0\n",
      "Minutes=3 Window=10 Step=1 | 101.49282783615615\n",
      "Not found 3-10\n",
      "https://www.bitstamp.net/api/v2/ohlc/ethusd/?&currency_pair=ethusd&step=180&limit=1000&start=1627406016\n",
      "Downloaded from 2021-07-27 18:12:00 to 2021-07-27 23:06:00 2256.10\n",
      "Resample 3Min - TecAn ( windows 10, windows_limit 100 )\n",
      "Processing 98 of ethusd\n"
     ]
    },
    {
     "data": {
      "application/vnd.jupyter.widget-view+json": {
       "model_id": "5a88822139314939addf0d680bde5adc",
       "version_major": 2,
       "version_minor": 0
      },
      "text/plain": [
       "  0%|          | 0/98 [00:00<?, ?it/s]"
      ]
     },
     "metadata": {},
     "output_type": "display_data"
    },
    {
     "name": "stderr",
     "output_type": "stream",
     "text": [
      "/Users/samirantonio/opt/miniconda3/envs/py3/lib/python3.9/site-packages/sklearn/metrics/_classification.py:1248: UndefinedMetricWarning: Precision is ill-defined and being set to 0.0 due to no predicted samples. Use `zero_division` parameter to control this behavior.\n",
      "  _warn_prf(average, modifier, msg_start, len(result))\n",
      "/Users/samirantonio/opt/miniconda3/envs/py3/lib/python3.9/site-packages/sklearn/metrics/_classification.py:1248: UndefinedMetricWarning: Precision is ill-defined and being set to 0.0 due to no predicted samples. Use `zero_division` parameter to control this behavior.\n",
      "  _warn_prf(average, modifier, msg_start, len(result))\n"
     ]
    },
    {
     "name": "stdout",
     "output_type": "stream",
     "text": [
      "ethusd - 0.0\n",
      "Minutes=3 Window=10 Step=1 | 100.58642426235895\n",
      "ethusd - 0.0\n",
      "Minutes=3 Window=10 Step=1 | 101.79482142364508\n"
     ]
    },
    {
     "name": "stderr",
     "output_type": "stream",
     "text": [
      "/Users/samirantonio/opt/miniconda3/envs/py3/lib/python3.9/site-packages/sklearn/metrics/_classification.py:1248: UndefinedMetricWarning: Precision is ill-defined and being set to 0.0 due to no predicted samples. Use `zero_division` parameter to control this behavior.\n",
      "  _warn_prf(average, modifier, msg_start, len(result))\n",
      "/Users/samirantonio/opt/miniconda3/envs/py3/lib/python3.9/site-packages/sklearn/metrics/_classification.py:1248: UndefinedMetricWarning: Precision is ill-defined and being set to 0.0 due to no predicted samples. Use `zero_division` parameter to control this behavior.\n",
      "  _warn_prf(average, modifier, msg_start, len(result))\n"
     ]
    },
    {
     "name": "stdout",
     "output_type": "stream",
     "text": [
      "ethusd - 0.0\n",
      "Minutes=3 Window=10 Step=1 | 102.05039399072696\n",
      "ethusd - 0.0\n",
      "Minutes=3 Window=20 Step=1 | 100.7956700068975\n",
      "Not found 3-20\n",
      "https://www.bitstamp.net/api/v2/ohlc/ethusd/?&currency_pair=ethusd&step=180&limit=1000&start=1627406016\n",
      "Downloaded from 2021-07-27 18:12:00 to 2021-07-27 23:06:00 2256.10\n",
      "Resample 3Min - TecAn ( windows 20, windows_limit 100 )\n",
      "Processing 98 of ethusd\n"
     ]
    },
    {
     "data": {
      "application/vnd.jupyter.widget-view+json": {
       "model_id": "810e997678dc43829b071dff2fae5727",
       "version_major": 2,
       "version_minor": 0
      },
      "text/plain": [
       "  0%|          | 0/98 [00:00<?, ?it/s]"
      ]
     },
     "metadata": {},
     "output_type": "display_data"
    },
    {
     "name": "stderr",
     "output_type": "stream",
     "text": [
      "/Users/samirantonio/opt/miniconda3/envs/py3/lib/python3.9/site-packages/sklearn/metrics/_classification.py:1248: UndefinedMetricWarning: Precision is ill-defined and being set to 0.0 due to no predicted samples. Use `zero_division` parameter to control this behavior.\n",
      "  _warn_prf(average, modifier, msg_start, len(result))\n",
      "/Users/samirantonio/opt/miniconda3/envs/py3/lib/python3.9/site-packages/sklearn/metrics/_classification.py:1248: UndefinedMetricWarning: Precision is ill-defined and being set to 0.0 due to no predicted samples. Use `zero_division` parameter to control this behavior.\n",
      "  _warn_prf(average, modifier, msg_start, len(result))\n"
     ]
    },
    {
     "name": "stdout",
     "output_type": "stream",
     "text": [
      "ethusd - 0.0\n",
      "Minutes=3 Window=20 Step=1 | 100.66581988874896\n",
      "ethusd - 0.0\n",
      "Minutes=3 Window=20 Step=1 | 101.03546338282985\n"
     ]
    },
    {
     "name": "stderr",
     "output_type": "stream",
     "text": [
      "/Users/samirantonio/opt/miniconda3/envs/py3/lib/python3.9/site-packages/sklearn/metrics/_classification.py:1248: UndefinedMetricWarning: Precision is ill-defined and being set to 0.0 due to no predicted samples. Use `zero_division` parameter to control this behavior.\n",
      "  _warn_prf(average, modifier, msg_start, len(result))\n",
      "/Users/samirantonio/opt/miniconda3/envs/py3/lib/python3.9/site-packages/sklearn/metrics/_classification.py:1248: UndefinedMetricWarning: Precision is ill-defined and being set to 0.0 due to no predicted samples. Use `zero_division` parameter to control this behavior.\n",
      "  _warn_prf(average, modifier, msg_start, len(result))\n"
     ]
    },
    {
     "name": "stdout",
     "output_type": "stream",
     "text": [
      "ethusd - 0.0\n",
      "Minutes=3 Window=20 Step=1 | 101.15455640034341\n",
      "ethusd - 0.0\n",
      "Minutes=3 Window=20 Step=1 | 100.88134088170412\n"
     ]
    },
    {
     "name": "stderr",
     "output_type": "stream",
     "text": [
      "/Users/samirantonio/opt/miniconda3/envs/py3/lib/python3.9/site-packages/sklearn/metrics/_classification.py:1248: UndefinedMetricWarning: Precision is ill-defined and being set to 0.0 due to no predicted samples. Use `zero_division` parameter to control this behavior.\n",
      "  _warn_prf(average, modifier, msg_start, len(result))\n",
      "/Users/samirantonio/opt/miniconda3/envs/py3/lib/python3.9/site-packages/sklearn/metrics/_classification.py:1248: UndefinedMetricWarning: Precision is ill-defined and being set to 0.0 due to no predicted samples. Use `zero_division` parameter to control this behavior.\n",
      "  _warn_prf(average, modifier, msg_start, len(result))\n"
     ]
    },
    {
     "name": "stdout",
     "output_type": "stream",
     "text": [
      "ethusd - 0.0\n",
      "Minutes=3 Window=20 Step=1 | 100.34470431524498\n",
      "ethusd - 0.0\n",
      "Minutes=3 Window=30 Step=1 | 100.16171565220722\n",
      "Not found 3-30\n",
      "https://www.bitstamp.net/api/v2/ohlc/ethusd/?&currency_pair=ethusd&step=180&limit=1000&start=1627406016\n",
      "Downloaded from 2021-07-27 18:12:00 to 2021-07-27 23:06:00 2256.10\n",
      "Resample 3Min - TecAn ( windows 30, windows_limit 100 )\n",
      "Processing 98 of ethusd\n"
     ]
    },
    {
     "data": {
      "application/vnd.jupyter.widget-view+json": {
       "model_id": "14f45e1415814292beada40fdcd4e7a0",
       "version_major": 2,
       "version_minor": 0
      },
      "text/plain": [
       "  0%|          | 0/98 [00:00<?, ?it/s]"
      ]
     },
     "metadata": {},
     "output_type": "display_data"
    },
    {
     "name": "stderr",
     "output_type": "stream",
     "text": [
      "/Users/samirantonio/opt/miniconda3/envs/py3/lib/python3.9/site-packages/sklearn/metrics/_classification.py:1248: UndefinedMetricWarning: Precision is ill-defined and being set to 0.0 due to no predicted samples. Use `zero_division` parameter to control this behavior.\n",
      "  _warn_prf(average, modifier, msg_start, len(result))\n"
     ]
    },
    {
     "name": "stdout",
     "output_type": "stream",
     "text": [
      "ethusd - 0.0\n",
      "Minutes=3 Window=40 Step=1 | 100.27470307117602\n",
      "Not found 3-40\n",
      "https://www.bitstamp.net/api/v2/ohlc/ethusd/?&currency_pair=ethusd&step=180&limit=1000&start=1627406016\n",
      "Downloaded from 2021-07-27 18:12:00 to 2021-07-27 23:06:00 2256.10\n",
      "Resample 3Min - TecAn ( windows 40, windows_limit 100 )\n",
      "Processing 98 of ethusd\n"
     ]
    },
    {
     "data": {
      "application/vnd.jupyter.widget-view+json": {
       "model_id": "f1356e4a6bf5471cb40f315a77f46a39",
       "version_major": 2,
       "version_minor": 0
      },
      "text/plain": [
       "  0%|          | 0/98 [00:00<?, ?it/s]"
      ]
     },
     "metadata": {},
     "output_type": "display_data"
    },
    {
     "name": "stderr",
     "output_type": "stream",
     "text": [
      "/Users/samirantonio/opt/miniconda3/envs/py3/lib/python3.9/site-packages/sklearn/metrics/_classification.py:1248: UndefinedMetricWarning: Precision is ill-defined and being set to 0.0 due to no predicted samples. Use `zero_division` parameter to control this behavior.\n",
      "  _warn_prf(average, modifier, msg_start, len(result))\n",
      "/Users/samirantonio/opt/miniconda3/envs/py3/lib/python3.9/site-packages/sklearn/metrics/_classification.py:1248: UndefinedMetricWarning: Precision is ill-defined and being set to 0.0 due to no predicted samples. Use `zero_division` parameter to control this behavior.\n",
      "  _warn_prf(average, modifier, msg_start, len(result))\n"
     ]
    },
    {
     "name": "stdout",
     "output_type": "stream",
     "text": [
      "ethusd - 0.0\n",
      "Minutes=3 Window=40 Step=1 | 100.54018592918396\n",
      "ethusd - 0.0\n",
      "Minutes=3 Window=40 Step=1 | 100.60024260376692\n"
     ]
    },
    {
     "name": "stderr",
     "output_type": "stream",
     "text": [
      "/Users/samirantonio/opt/miniconda3/envs/py3/lib/python3.9/site-packages/sklearn/metrics/_classification.py:1248: UndefinedMetricWarning: Precision is ill-defined and being set to 0.0 due to no predicted samples. Use `zero_division` parameter to control this behavior.\n",
      "  _warn_prf(average, modifier, msg_start, len(result))\n",
      "/Users/samirantonio/opt/miniconda3/envs/py3/lib/python3.9/site-packages/sklearn/metrics/_classification.py:1248: UndefinedMetricWarning: Precision is ill-defined and being set to 0.0 due to no predicted samples. Use `zero_division` parameter to control this behavior.\n",
      "  _warn_prf(average, modifier, msg_start, len(result))\n"
     ]
    },
    {
     "name": "stdout",
     "output_type": "stream",
     "text": [
      "ethusd - 0.0\n",
      "Minutes=3 Window=40 Step=1 | 100.69248634438283\n",
      "ethusd - 0.0\n",
      "Minutes=1 Window=5 Step=1 | 100.09377413340108\n"
     ]
    },
    {
     "name": "stderr",
     "output_type": "stream",
     "text": [
      "/Users/samirantonio/opt/miniconda3/envs/py3/lib/python3.9/site-packages/sklearn/metrics/_classification.py:1248: UndefinedMetricWarning: Precision is ill-defined and being set to 0.0 due to no predicted samples. Use `zero_division` parameter to control this behavior.\n",
      "  _warn_prf(average, modifier, msg_start, len(result))\n",
      "/Users/samirantonio/opt/miniconda3/envs/py3/lib/python3.9/site-packages/sklearn/metrics/_classification.py:1248: UndefinedMetricWarning: Precision is ill-defined and being set to 0.0 due to no predicted samples. Use `zero_division` parameter to control this behavior.\n",
      "  _warn_prf(average, modifier, msg_start, len(result))\n"
     ]
    },
    {
     "name": "stdout",
     "output_type": "stream",
     "text": [
      "ethusd - 0.0\n",
      "Minutes=1 Window=5 Step=1 | 100.3349383029613\n",
      "ethusd - 0.0\n",
      "Minutes=1 Window=5 Step=1 | 100.28023284114404\n"
     ]
    },
    {
     "name": "stderr",
     "output_type": "stream",
     "text": [
      "/Users/samirantonio/opt/miniconda3/envs/py3/lib/python3.9/site-packages/sklearn/metrics/_classification.py:1248: UndefinedMetricWarning: Precision is ill-defined and being set to 0.0 due to no predicted samples. Use `zero_division` parameter to control this behavior.\n",
      "  _warn_prf(average, modifier, msg_start, len(result))\n",
      "/Users/samirantonio/opt/miniconda3/envs/py3/lib/python3.9/site-packages/sklearn/metrics/_classification.py:1248: UndefinedMetricWarning: Precision is ill-defined and being set to 0.0 due to no predicted samples. Use `zero_division` parameter to control this behavior.\n",
      "  _warn_prf(average, modifier, msg_start, len(result))\n"
     ]
    },
    {
     "name": "stdout",
     "output_type": "stream",
     "text": [
      "ethusd - 0.0\n",
      "Minutes=1 Window=5 Step=1 | 100.69429332371965\n",
      "ethusd - 0.0\n",
      "Minutes=1 Window=5 Step=1 | 100.51007314465943\n"
     ]
    },
    {
     "name": "stderr",
     "output_type": "stream",
     "text": [
      "/Users/samirantonio/opt/miniconda3/envs/py3/lib/python3.9/site-packages/sklearn/metrics/_classification.py:1248: UndefinedMetricWarning: Precision is ill-defined and being set to 0.0 due to no predicted samples. Use `zero_division` parameter to control this behavior.\n",
      "  _warn_prf(average, modifier, msg_start, len(result))\n",
      "/Users/samirantonio/opt/miniconda3/envs/py3/lib/python3.9/site-packages/sklearn/metrics/_classification.py:1248: UndefinedMetricWarning: Precision is ill-defined and being set to 0.0 due to no predicted samples. Use `zero_division` parameter to control this behavior.\n",
      "  _warn_prf(average, modifier, msg_start, len(result))\n"
     ]
    },
    {
     "name": "stdout",
     "output_type": "stream",
     "text": [
      "ethusd - 0.0\n",
      "Minutes=1 Window=5 Step=1 | 100.28023284114404\n",
      "ethusd - 0.0\n",
      "Minutes=1 Window=10 Step=1 | 100.47271685063131\n"
     ]
    },
    {
     "name": "stderr",
     "output_type": "stream",
     "text": [
      "/Users/samirantonio/opt/miniconda3/envs/py3/lib/python3.9/site-packages/sklearn/metrics/_classification.py:1248: UndefinedMetricWarning: Precision is ill-defined and being set to 0.0 due to no predicted samples. Use `zero_division` parameter to control this behavior.\n",
      "  _warn_prf(average, modifier, msg_start, len(result))\n",
      "/Users/samirantonio/opt/miniconda3/envs/py3/lib/python3.9/site-packages/sklearn/metrics/_classification.py:1248: UndefinedMetricWarning: Precision is ill-defined and being set to 0.0 due to no predicted samples. Use `zero_division` parameter to control this behavior.\n",
      "  _warn_prf(average, modifier, msg_start, len(result))\n"
     ]
    },
    {
     "name": "stdout",
     "output_type": "stream",
     "text": [
      "ethusd - 0.0\n",
      "Minutes=1 Window=20 Step=1 | 100.49810272233648\n",
      "ethusd - 0.0\n",
      "Minutes=1 Window=20 Step=1 | 100.5203924355973\n"
     ]
    },
    {
     "name": "stderr",
     "output_type": "stream",
     "text": [
      "/Users/samirantonio/opt/miniconda3/envs/py3/lib/python3.9/site-packages/sklearn/metrics/_classification.py:1248: UndefinedMetricWarning: Precision is ill-defined and being set to 0.0 due to no predicted samples. Use `zero_division` parameter to control this behavior.\n",
      "  _warn_prf(average, modifier, msg_start, len(result))\n",
      "/Users/samirantonio/opt/miniconda3/envs/py3/lib/python3.9/site-packages/sklearn/metrics/_classification.py:1248: UndefinedMetricWarning: Precision is ill-defined and being set to 0.0 due to no predicted samples. Use `zero_division` parameter to control this behavior.\n",
      "  _warn_prf(average, modifier, msg_start, len(result))\n"
     ]
    },
    {
     "name": "stdout",
     "output_type": "stream",
     "text": [
      "ethusd - 0.0\n",
      "Minutes=1 Window=20 Step=1 | 100.94902819485219\n",
      "ethusd - 0.0\n",
      "Minutes=1 Window=20 Step=1 | 100.06481518300143\n"
     ]
    },
    {
     "name": "stderr",
     "output_type": "stream",
     "text": [
      "/Users/samirantonio/opt/miniconda3/envs/py3/lib/python3.9/site-packages/sklearn/metrics/_classification.py:1248: UndefinedMetricWarning: Precision is ill-defined and being set to 0.0 due to no predicted samples. Use `zero_division` parameter to control this behavior.\n",
      "  _warn_prf(average, modifier, msg_start, len(result))\n",
      "/Users/samirantonio/opt/miniconda3/envs/py3/lib/python3.9/site-packages/sklearn/metrics/_classification.py:1248: UndefinedMetricWarning: Precision is ill-defined and being set to 0.0 due to no predicted samples. Use `zero_division` parameter to control this behavior.\n",
      "  _warn_prf(average, modifier, msg_start, len(result))\n"
     ]
    },
    {
     "name": "stdout",
     "output_type": "stream",
     "text": [
      "ethusd - 0.0\n",
      "Minutes=1 Window=20 Step=1 | 100.47617930583804\n",
      "ethusd - 0.0\n",
      "Minutes=1 Window=30 Step=1 | 100.41345051242601\n"
     ]
    },
    {
     "name": "stderr",
     "output_type": "stream",
     "text": [
      "/Users/samirantonio/opt/miniconda3/envs/py3/lib/python3.9/site-packages/sklearn/metrics/_classification.py:1248: UndefinedMetricWarning: Precision is ill-defined and being set to 0.0 due to no predicted samples. Use `zero_division` parameter to control this behavior.\n",
      "  _warn_prf(average, modifier, msg_start, len(result))\n",
      "/Users/samirantonio/opt/miniconda3/envs/py3/lib/python3.9/site-packages/sklearn/metrics/_classification.py:1248: UndefinedMetricWarning: Precision is ill-defined and being set to 0.0 due to no predicted samples. Use `zero_division` parameter to control this behavior.\n",
      "  _warn_prf(average, modifier, msg_start, len(result))\n"
     ]
    },
    {
     "name": "stdout",
     "output_type": "stream",
     "text": [
      "ethusd - 0.0\n",
      "Minutes=1 Window=30 Step=1 | 100.24699412195781\n",
      "ethusd - 0.0\n",
      "Minutes=1 Window=30 Step=1 | 100.09083864377496\n"
     ]
    },
    {
     "name": "stderr",
     "output_type": "stream",
     "text": [
      "/Users/samirantonio/opt/miniconda3/envs/py3/lib/python3.9/site-packages/sklearn/metrics/_classification.py:1248: UndefinedMetricWarning: Precision is ill-defined and being set to 0.0 due to no predicted samples. Use `zero_division` parameter to control this behavior.\n",
      "  _warn_prf(average, modifier, msg_start, len(result))\n",
      "/Users/samirantonio/opt/miniconda3/envs/py3/lib/python3.9/site-packages/sklearn/metrics/_classification.py:1248: UndefinedMetricWarning: Precision is ill-defined and being set to 0.0 due to no predicted samples. Use `zero_division` parameter to control this behavior.\n",
      "  _warn_prf(average, modifier, msg_start, len(result))\n"
     ]
    },
    {
     "name": "stdout",
     "output_type": "stream",
     "text": [
      "ethusd - 0.0\n",
      "Minutes=1 Window=30 Step=1 | 100.37872932658875\n",
      "ethusd - 0.0\n",
      "Minutes=1 Window=30 Step=1 | 100.10825878921547\n"
     ]
    },
    {
     "name": "stderr",
     "output_type": "stream",
     "text": [
      "/Users/samirantonio/opt/miniconda3/envs/py3/lib/python3.9/site-packages/sklearn/metrics/_classification.py:1248: UndefinedMetricWarning: Precision is ill-defined and being set to 0.0 due to no predicted samples. Use `zero_division` parameter to control this behavior.\n",
      "  _warn_prf(average, modifier, msg_start, len(result))\n",
      "/Users/samirantonio/opt/miniconda3/envs/py3/lib/python3.9/site-packages/sklearn/metrics/_classification.py:1248: UndefinedMetricWarning: Precision is ill-defined and being set to 0.0 due to no predicted samples. Use `zero_division` parameter to control this behavior.\n",
      "  _warn_prf(average, modifier, msg_start, len(result))\n"
     ]
    },
    {
     "name": "stdout",
     "output_type": "stream",
     "text": [
      "ethusd - 0.0\n",
      "Minutes=1 Window=40 Step=1 | 100.3965297198354\n",
      "ethusd - 0.0\n",
      "Minutes=1 Window=40 Step=1 | 100.5289538568141\n"
     ]
    },
    {
     "name": "stderr",
     "output_type": "stream",
     "text": [
      "/Users/samirantonio/opt/miniconda3/envs/py3/lib/python3.9/site-packages/sklearn/metrics/_classification.py:1248: UndefinedMetricWarning: Precision is ill-defined and being set to 0.0 due to no predicted samples. Use `zero_division` parameter to control this behavior.\n",
      "  _warn_prf(average, modifier, msg_start, len(result))\n",
      "/Users/samirantonio/opt/miniconda3/envs/py3/lib/python3.9/site-packages/sklearn/metrics/_classification.py:1248: UndefinedMetricWarning: Precision is ill-defined and being set to 0.0 due to no predicted samples. Use `zero_division` parameter to control this behavior.\n",
      "  _warn_prf(average, modifier, msg_start, len(result))\n"
     ]
    },
    {
     "name": "stdout",
     "output_type": "stream",
     "text": [
      "ethusd - 0.0\n",
      "Minutes=1 Window=40 Step=1 | 100.22213088371652\n",
      "ethusd - 0.0\n",
      "Minutes=1 Window=40 Step=1 | 100.08810231462738\n"
     ]
    },
    {
     "name": "stderr",
     "output_type": "stream",
     "text": [
      "/Users/samirantonio/opt/miniconda3/envs/py3/lib/python3.9/site-packages/sklearn/metrics/_classification.py:1248: UndefinedMetricWarning: Precision is ill-defined and being set to 0.0 due to no predicted samples. Use `zero_division` parameter to control this behavior.\n",
      "  _warn_prf(average, modifier, msg_start, len(result))\n"
     ]
    },
    {
     "name": "stdout",
     "output_type": "stream",
     "text": [
      "ethusd - 0.0\n",
      "Minutes=15 Window=5 Step=1 | 110.6958224494712\n",
      "ethusd - 1.6136\n",
      "Minutes=15 Window=10 Step=1 | 108.02819426721756\n",
      "ethusd - 2.4876\n",
      "Minutes=5 Window=20 Step=1 | 106.21847739607226\n",
      "ethusd - -2.9483\n",
      "Minutes=5 Window=10 Step=1 | 105.3214336664476\n",
      "ethusd - 0.3518\n",
      "Minutes=15 Window=20 Step=1 | 105.18823929991636\n",
      "ethusd - 0.9591\n",
      "Minutes=15 Window=10 Step=1 | 104.79654865922687\n",
      "ethusd - -5.5155\n",
      "Minutes=15 Window=10 Step=1 | 104.39502766347084\n",
      "ethusd - -2.8806\n",
      "Minutes=5 Window=10 Step=1 | 103.59688234039085\n",
      "ethusd - -0.2423\n",
      "Minutes=5 Window=40 Step=1 | 103.49499685363875\n",
      "ethusd - -0.3537\n",
      "Minutes=5 Window=30 Step=1 | 103.37984346328466\n",
      "ethusd - 1.0173\n",
      "Minutes=5 Window=20 Step=1 | 103.25277100896696\n",
      "ethusd - -1.9775\n",
      "Minutes=15 Window=20 Step=1 | 103.12530170233208\n",
      "ethusd - -0.4965\n",
      "Minutes=15 Window=20 Step=1 | 102.99645718185275\n",
      "ethusd - -0.5427\n",
      "Minutes=5 Window=5 Step=1 | 102.61982935184929\n",
      "ethusd - -0.0591\n",
      "Minutes=5 Window=20 Step=1 | 102.29930500329036\n",
      "ethusd - 0.0253\n",
      "Minutes=5 Window=10 Step=1 | 102.03505809803336\n",
      "ethusd - 0.213\n",
      "Minutes=15 Window=30 Step=1 | 101.60000417311568\n",
      "ethusd - -0.5018\n",
      "Minutes=5 Window=40 Step=1 | 101.52477083068618\n",
      "ethusd - 0.5637\n",
      "Minutes=5 Window=10 Step=1 | 101.44331573149137\n",
      "ethusd - 0.6035\n",
      "Minutes=3 Window=5 Step=1 | 101.4242031710547\n",
      "ethusd - 0.0496\n",
      "Minutes=5 Window=30 Step=1 | 101.39796798737646\n",
      "ethusd - -0.0483\n",
      "Minutes=3 Window=40 Step=1 | 101.33687848896164\n"
     ]
    },
    {
     "name": "stderr",
     "output_type": "stream",
     "text": [
      "/Users/samirantonio/opt/miniconda3/envs/py3/lib/python3.9/site-packages/sklearn/metrics/_classification.py:1248: UndefinedMetricWarning: Precision is ill-defined and being set to 0.0 due to no predicted samples. Use `zero_division` parameter to control this behavior.\n",
      "  _warn_prf(average, modifier, msg_start, len(result))\n"
     ]
    },
    {
     "name": "stdout",
     "output_type": "stream",
     "text": [
      "ethusd - 0.0\n",
      "Minutes=5 Window=40 Step=1 | 101.28259952909748\n",
      "ethusd - -0.0114\n",
      "Minutes=15 Window=10 Step=1 | 101.17568598153284\n",
      "ethusd - -4.1622\n",
      "Minutes=15 Window=30 Step=1 | 101.13085287353957\n",
      "ethusd - 2.6401\n",
      "Minutes=3 Window=5 Step=1 | 101.01719616290023\n",
      "ethusd - 0.0496\n",
      "Minutes=15 Window=5 Step=1 | 100.97476421422066\n",
      "ethusd - 1.9732\n",
      "Minutes=5 Window=20 Step=1 | 100.88478457371757\n",
      "ethusd - 0.0512\n",
      "Minutes=5 Window=30 Step=1 | 100.87610794254047\n",
      "ethusd - -0.9465\n",
      "Minutes=5 Window=5 Step=1 | 100.74248269013458\n",
      "ethusd - 1.2555\n",
      "Minutes=3 Window=40 Step=1 | 100.69570408890087\n"
     ]
    },
    {
     "name": "stderr",
     "output_type": "stream",
     "text": [
      "/Users/samirantonio/opt/miniconda3/envs/py3/lib/python3.9/site-packages/sklearn/metrics/_classification.py:1248: UndefinedMetricWarning: Precision is ill-defined and being set to 0.0 due to no predicted samples. Use `zero_division` parameter to control this behavior.\n",
      "  _warn_prf(average, modifier, msg_start, len(result))\n"
     ]
    },
    {
     "name": "stdout",
     "output_type": "stream",
     "text": [
      "ethusd - 0.0\n",
      "Minutes=1 Window=30 Step=1 | 100.54461581463947\n"
     ]
    },
    {
     "name": "stderr",
     "output_type": "stream",
     "text": [
      "/Users/samirantonio/opt/miniconda3/envs/py3/lib/python3.9/site-packages/sklearn/metrics/_classification.py:1248: UndefinedMetricWarning: Precision is ill-defined and being set to 0.0 due to no predicted samples. Use `zero_division` parameter to control this behavior.\n",
      "  _warn_prf(average, modifier, msg_start, len(result))\n"
     ]
    },
    {
     "name": "stdout",
     "output_type": "stream",
     "text": [
      "ethusd - 0.0\n",
      "Minutes=1 Window=5 Step=1 | 100.45343788489228\n"
     ]
    },
    {
     "name": "stderr",
     "output_type": "stream",
     "text": [
      "/Users/samirantonio/opt/miniconda3/envs/py3/lib/python3.9/site-packages/sklearn/metrics/_classification.py:1248: UndefinedMetricWarning: Precision is ill-defined and being set to 0.0 due to no predicted samples. Use `zero_division` parameter to control this behavior.\n",
      "  _warn_prf(average, modifier, msg_start, len(result))\n"
     ]
    },
    {
     "name": "stdout",
     "output_type": "stream",
     "text": [
      "ethusd - 0.0\n",
      "Minutes=1 Window=40 Step=1 | 100.44001317875409\n"
     ]
    },
    {
     "name": "stderr",
     "output_type": "stream",
     "text": [
      "/Users/samirantonio/opt/miniconda3/envs/py3/lib/python3.9/site-packages/sklearn/metrics/_classification.py:1248: UndefinedMetricWarning: Precision is ill-defined and being set to 0.0 due to no predicted samples. Use `zero_division` parameter to control this behavior.\n",
      "  _warn_prf(average, modifier, msg_start, len(result))\n"
     ]
    },
    {
     "name": "stdout",
     "output_type": "stream",
     "text": [
      "ethusd - 0.0\n",
      "Minutes=3 Window=40 Step=1 | 100.39918708599413\n"
     ]
    },
    {
     "name": "stderr",
     "output_type": "stream",
     "text": [
      "/Users/samirantonio/opt/miniconda3/envs/py3/lib/python3.9/site-packages/sklearn/metrics/_classification.py:1248: UndefinedMetricWarning: Precision is ill-defined and being set to 0.0 due to no predicted samples. Use `zero_division` parameter to control this behavior.\n",
      "  _warn_prf(average, modifier, msg_start, len(result))\n"
     ]
    },
    {
     "name": "stdout",
     "output_type": "stream",
     "text": [
      "ethusd - 0.0\n",
      "Minutes=3 Window=5 Step=1 | 100.3676003510124\n",
      "ethusd - 0.0496\n",
      "Minutes=3 Window=30 Step=1 | 100.3613705425526\n",
      "ethusd - 0.0337\n",
      "Minutes=3 Window=10 Step=1 | 100.35688225883602\n"
     ]
    },
    {
     "name": "stderr",
     "output_type": "stream",
     "text": [
      "/Users/samirantonio/opt/miniconda3/envs/py3/lib/python3.9/site-packages/sklearn/metrics/_classification.py:1248: UndefinedMetricWarning: Precision is ill-defined and being set to 0.0 due to no predicted samples. Use `zero_division` parameter to control this behavior.\n",
      "  _warn_prf(average, modifier, msg_start, len(result))\n"
     ]
    },
    {
     "name": "stdout",
     "output_type": "stream",
     "text": [
      "ethusd - 0.0\n",
      "Minutes=1 Window=30 Step=1 | 100.35436705185553\n"
     ]
    },
    {
     "name": "stderr",
     "output_type": "stream",
     "text": [
      "/Users/samirantonio/opt/miniconda3/envs/py3/lib/python3.9/site-packages/sklearn/metrics/_classification.py:1248: UndefinedMetricWarning: Precision is ill-defined and being set to 0.0 due to no predicted samples. Use `zero_division` parameter to control this behavior.\n",
      "  _warn_prf(average, modifier, msg_start, len(result))\n"
     ]
    },
    {
     "name": "stdout",
     "output_type": "stream",
     "text": [
      "ethusd - 0.0\n",
      "Minutes=15 Window=10 Step=1 | 100.34730876348269\n",
      "ethusd - -0.5082\n",
      "Minutes=1 Window=10 Step=1 | 100.3086993207244\n"
     ]
    },
    {
     "name": "stderr",
     "output_type": "stream",
     "text": [
      "/Users/samirantonio/opt/miniconda3/envs/py3/lib/python3.9/site-packages/sklearn/metrics/_classification.py:1248: UndefinedMetricWarning: Precision is ill-defined and being set to 0.0 due to no predicted samples. Use `zero_division` parameter to control this behavior.\n",
      "  _warn_prf(average, modifier, msg_start, len(result))\n"
     ]
    },
    {
     "name": "stdout",
     "output_type": "stream",
     "text": [
      "ethusd - 0.0\n",
      "Minutes=15 Window=40 Step=1 | 100.27541343094097\n",
      "ethusd - 0.3499\n",
      "Minutes=1 Window=40 Step=1 | 100.25572175049312\n"
     ]
    },
    {
     "name": "stderr",
     "output_type": "stream",
     "text": [
      "/Users/samirantonio/opt/miniconda3/envs/py3/lib/python3.9/site-packages/sklearn/metrics/_classification.py:1248: UndefinedMetricWarning: Precision is ill-defined and being set to 0.0 due to no predicted samples. Use `zero_division` parameter to control this behavior.\n",
      "  _warn_prf(average, modifier, msg_start, len(result))\n"
     ]
    },
    {
     "name": "stdout",
     "output_type": "stream",
     "text": [
      "ethusd - 0.0\n",
      "Minutes=3 Window=10 Step=1 | 100.2538904835876\n"
     ]
    },
    {
     "name": "stderr",
     "output_type": "stream",
     "text": [
      "/Users/samirantonio/opt/miniconda3/envs/py3/lib/python3.9/site-packages/sklearn/metrics/_classification.py:1248: UndefinedMetricWarning: Precision is ill-defined and being set to 0.0 due to no predicted samples. Use `zero_division` parameter to control this behavior.\n",
      "  _warn_prf(average, modifier, msg_start, len(result))\n"
     ]
    },
    {
     "name": "stdout",
     "output_type": "stream",
     "text": [
      "ethusd - 0.0\n",
      "Minutes=3 Window=10 Step=1 | 100.24800062674139\n"
     ]
    },
    {
     "name": "stderr",
     "output_type": "stream",
     "text": [
      "/Users/samirantonio/opt/miniconda3/envs/py3/lib/python3.9/site-packages/sklearn/metrics/_classification.py:1248: UndefinedMetricWarning: Precision is ill-defined and being set to 0.0 due to no predicted samples. Use `zero_division` parameter to control this behavior.\n",
      "  _warn_prf(average, modifier, msg_start, len(result))\n"
     ]
    },
    {
     "name": "stdout",
     "output_type": "stream",
     "text": [
      "ethusd - 0.0\n",
      "Minutes=15 Window=5 Step=1 | 100.22608456616095\n",
      "ethusd - 1.2885\n",
      "Minutes=1 Window=20 Step=1 | 100.21849093325065\n"
     ]
    },
    {
     "name": "stderr",
     "output_type": "stream",
     "text": [
      "/Users/samirantonio/opt/miniconda3/envs/py3/lib/python3.9/site-packages/sklearn/metrics/_classification.py:1248: UndefinedMetricWarning: Precision is ill-defined and being set to 0.0 due to no predicted samples. Use `zero_division` parameter to control this behavior.\n",
      "  _warn_prf(average, modifier, msg_start, len(result))\n"
     ]
    },
    {
     "name": "stdout",
     "output_type": "stream",
     "text": [
      "ethusd - 0.0\n",
      "Minutes=3 Window=20 Step=1 | 100.18673363887129\n"
     ]
    },
    {
     "name": "stderr",
     "output_type": "stream",
     "text": [
      "/Users/samirantonio/opt/miniconda3/envs/py3/lib/python3.9/site-packages/sklearn/metrics/_classification.py:1248: UndefinedMetricWarning: Precision is ill-defined and being set to 0.0 due to no predicted samples. Use `zero_division` parameter to control this behavior.\n",
      "  _warn_prf(average, modifier, msg_start, len(result))\n"
     ]
    },
    {
     "name": "stdout",
     "output_type": "stream",
     "text": [
      "ethusd - 0.0\n",
      "Minutes=1 Window=10 Step=1 | 100.11222179317897\n"
     ]
    },
    {
     "name": "stderr",
     "output_type": "stream",
     "text": [
      "/Users/samirantonio/opt/miniconda3/envs/py3/lib/python3.9/site-packages/sklearn/metrics/_classification.py:1248: UndefinedMetricWarning: Precision is ill-defined and being set to 0.0 due to no predicted samples. Use `zero_division` parameter to control this behavior.\n",
      "  _warn_prf(average, modifier, msg_start, len(result))\n"
     ]
    },
    {
     "name": "stdout",
     "output_type": "stream",
     "text": [
      "ethusd - 0.0\n",
      "Minutes=1 Window=40 Step=1 | 100.10774417597531\n"
     ]
    },
    {
     "name": "stderr",
     "output_type": "stream",
     "text": [
      "/Users/samirantonio/opt/miniconda3/envs/py3/lib/python3.9/site-packages/sklearn/metrics/_classification.py:1248: UndefinedMetricWarning: Precision is ill-defined and being set to 0.0 due to no predicted samples. Use `zero_division` parameter to control this behavior.\n",
      "  _warn_prf(average, modifier, msg_start, len(result))\n"
     ]
    },
    {
     "name": "stdout",
     "output_type": "stream",
     "text": [
      "ethusd - 0.0\n",
      "Minutes=3 Window=30 Step=1 | 100.09908362074934\n"
     ]
    },
    {
     "name": "stderr",
     "output_type": "stream",
     "text": [
      "/Users/samirantonio/opt/miniconda3/envs/py3/lib/python3.9/site-packages/sklearn/metrics/_classification.py:1248: UndefinedMetricWarning: Precision is ill-defined and being set to 0.0 due to no predicted samples. Use `zero_division` parameter to control this behavior.\n",
      "  _warn_prf(average, modifier, msg_start, len(result))\n"
     ]
    },
    {
     "name": "stdout",
     "output_type": "stream",
     "text": [
      "ethusd - 0.0\n",
      "Minutes=1 Window=30 Step=1 | 100.07328677648988\n"
     ]
    },
    {
     "name": "stderr",
     "output_type": "stream",
     "text": [
      "/Users/samirantonio/opt/miniconda3/envs/py3/lib/python3.9/site-packages/sklearn/metrics/_classification.py:1248: UndefinedMetricWarning: Precision is ill-defined and being set to 0.0 due to no predicted samples. Use `zero_division` parameter to control this behavior.\n",
      "  _warn_prf(average, modifier, msg_start, len(result))\n"
     ]
    },
    {
     "name": "stdout",
     "output_type": "stream",
     "text": [
      "ethusd - 0.0\n",
      "Minutes=1 Window=40 Step=1 | 100.06888876187175\n"
     ]
    },
    {
     "name": "stderr",
     "output_type": "stream",
     "text": [
      "/Users/samirantonio/opt/miniconda3/envs/py3/lib/python3.9/site-packages/sklearn/metrics/_classification.py:1248: UndefinedMetricWarning: Precision is ill-defined and being set to 0.0 due to no predicted samples. Use `zero_division` parameter to control this behavior.\n",
      "  _warn_prf(average, modifier, msg_start, len(result))\n"
     ]
    },
    {
     "name": "stdout",
     "output_type": "stream",
     "text": [
      "ethusd - 0.0\n",
      "Minutes=1 Window=20 Step=1 | 100.06742474222578\n"
     ]
    },
    {
     "name": "stderr",
     "output_type": "stream",
     "text": [
      "/Users/samirantonio/opt/miniconda3/envs/py3/lib/python3.9/site-packages/sklearn/metrics/_classification.py:1248: UndefinedMetricWarning: Precision is ill-defined and being set to 0.0 due to no predicted samples. Use `zero_division` parameter to control this behavior.\n",
      "  _warn_prf(average, modifier, msg_start, len(result))\n"
     ]
    },
    {
     "name": "stdout",
     "output_type": "stream",
     "text": [
      "ethusd - 0.0\n",
      "Minutes=1 Window=5 Step=1 | 100.06331459408841\n"
     ]
    },
    {
     "name": "stderr",
     "output_type": "stream",
     "text": [
      "/Users/samirantonio/opt/miniconda3/envs/py3/lib/python3.9/site-packages/sklearn/metrics/_classification.py:1248: UndefinedMetricWarning: Precision is ill-defined and being set to 0.0 due to no predicted samples. Use `zero_division` parameter to control this behavior.\n",
      "  _warn_prf(average, modifier, msg_start, len(result))\n"
     ]
    },
    {
     "name": "stdout",
     "output_type": "stream",
     "text": [
      "ethusd - 0.0\n",
      "Minutes=1 Window=20 Step=1 | 100.06080828890684\n"
     ]
    },
    {
     "name": "stderr",
     "output_type": "stream",
     "text": [
      "/Users/samirantonio/opt/miniconda3/envs/py3/lib/python3.9/site-packages/sklearn/metrics/_classification.py:1248: UndefinedMetricWarning: Precision is ill-defined and being set to 0.0 due to no predicted samples. Use `zero_division` parameter to control this behavior.\n",
      "  _warn_prf(average, modifier, msg_start, len(result))\n"
     ]
    },
    {
     "name": "stdout",
     "output_type": "stream",
     "text": [
      "ethusd - 0.0\n",
      "Minutes=1 Window=30 Step=1 | 100.05813131508344\n"
     ]
    },
    {
     "name": "stderr",
     "output_type": "stream",
     "text": [
      "/Users/samirantonio/opt/miniconda3/envs/py3/lib/python3.9/site-packages/sklearn/metrics/_classification.py:1248: UndefinedMetricWarning: Precision is ill-defined and being set to 0.0 due to no predicted samples. Use `zero_division` parameter to control this behavior.\n",
      "  _warn_prf(average, modifier, msg_start, len(result))\n"
     ]
    },
    {
     "name": "stdout",
     "output_type": "stream",
     "text": [
      "ethusd - 0.0\n",
      "Minutes=1 Window=20 Step=1 | 100.00178533789413\n"
     ]
    },
    {
     "name": "stderr",
     "output_type": "stream",
     "text": [
      "/Users/samirantonio/opt/miniconda3/envs/py3/lib/python3.9/site-packages/sklearn/metrics/_classification.py:1248: UndefinedMetricWarning: Precision is ill-defined and being set to 0.0 due to no predicted samples. Use `zero_division` parameter to control this behavior.\n",
      "  _warn_prf(average, modifier, msg_start, len(result))\n"
     ]
    },
    {
     "name": "stdout",
     "output_type": "stream",
     "text": [
      "ethusd - 0.0\n"
     ]
    }
   ],
   "source": [
    "scoreboard = []\n",
    "\n",
    "fails = []\n",
    "\n",
    "currency = \"ltcusd\"\n",
    "currency = \"ethusd\"\n",
    "currency = \"batusd\"\n",
    "\n",
    "#currs = [\"batusd\", \"ltcusd\", \"ethusd\", \"btcusd\"]\n",
    "currs = [\"ethusd\"]\n",
    "\n",
    "#currs = online.val_keys\n",
    "\n",
    "for best in tqdm(all_models):\n",
    "    model = best['model']\n",
    "    window = best['window']\n",
    "    minutes = best['minutes']\n",
    "    step = best['step']\n",
    "    profit = best['profit']\n",
    "    print(f\"Minutes={minutes} Window={window} Step={step} | {profit}\")\n",
    "    cache_key = f\"{minutes}-{window}\"\n",
    "    try:\n",
    "        online = online_cache[cache_key]\n",
    "    except :\n",
    "        print(f\"Not found {cache_key}\")\n",
    "        online = load_online(minutes = minutes, window = window, val_end = timestamp, currency = currs)\n",
    "        online_cache[cache_key] = online\n",
    "        \n",
    "    profits = []\n",
    "    backs = {}\n",
    "    score = {}\n",
    "    \n",
    "    has_negative = False\n",
    "    \n",
    "    for train_set in currs:\n",
    "        back = test_model(model, train_set, online, step, False)\n",
    "        back_profit = back.get_profit()\n",
    "        profits.append(back_profit)\n",
    "        backs[train_set] = back\n",
    "        print(f\"{train_set} - {back_profit}\")\n",
    "        if (back_profit <= 0 and not has_negative):\n",
    "            has_negative = True\n",
    "        \n",
    "    score['profit'] = np.average(profits)\n",
    "    score['backs'] = backs\n",
    "    score['result'] = best\n",
    "    if (not has_negative):\n",
    "        scoreboard.append(score)\n",
    "\n"
   ]
  },
  {
   "cell_type": "code",
   "execution_count": 101,
   "id": "95ed89b6",
   "metadata": {},
   "outputs": [
    {
     "name": "stdout",
     "output_type": "stream",
     "text": [
      "Selected: 63\n",
      "Current profit: 5.0999\n",
      "Minutes=15 Window=10 Step=1 | 101.70597967714077 {'ltceur': 0.011623296645416337, 'ltcusd': 0.02971201855293026, 'ethusd': -0.025293287502104803, 'btcusd': -0.005435252527686549}\n",
      "Pipeline(steps=[('standardscaler', StandardScaler()),\n",
      "                ('decisiontreeclassifier',\n",
      "                 DecisionTreeClassifier(random_state=42))])\n",
      "ethusd -> 5.0999\n",
      "\n",
      "Current profit: 4.6586\n",
      "Minutes=15 Window=20 Step=1 | 103.84625373091797 {'ltceur': 0.023387728644729575, 'ltcusd': 0.007805766658740209, 'ethusd': -0.002256458522902725, 'btcusd': -0.001400214792523935}\n",
      "Pipeline(steps=[('normalizer', Normalizer()),\n",
      "                ('pipeline',\n",
      "                 Pipeline(steps=[('s',\n",
      "                                  RFECV(estimator=DecisionTreeClassifier(random_state=10),\n",
      "                                        scoring='recall')),\n",
      "                                 ('m',\n",
      "                                  DecisionTreeClassifier(random_state=42))]))])\n",
      "ethusd -> 4.6586\n",
      "\n",
      "Current profit: 3.7235\n",
      "Minutes=15 Window=5 Step=1 | 108.08763864568854 {'ltceur': 0.009631942277095257, 'ltcusd': -0.003453567999495002, 'ethusd': 0.04249352744507721, 'btcusd': 0.013555647847987752}\n",
      "Pipeline(steps=[('normalizer', Normalizer()),\n",
      "                ('catboostclassifier',\n",
      "                 <catboost.core.CatBoostClassifier object at 0x7f88601f7670>)])\n",
      "ethusd -> 3.7235\n",
      "\n",
      "Current profit: 3.6464\n",
      "Minutes=15 Window=10 Step=1 | 103.15230512728243 {'ltceur': 0.0009337485913745927, 'ltcusd': 0.026418773006002944, 'ethusd': 0.005726892462437608, 'btcusd': -0.013627465849831393}\n",
      "<catboost.core.CatBoostClassifier object at 0x7f8847285940>\n",
      "ethusd -> 3.6464\n",
      "\n",
      "Current profit: 3.1987\n",
      "Minutes=15 Window=5 Step=1 | 111.24000161650744 {'ltceur': 0.020076322216377958, 'ltcusd': 0.014370020633894174, 'ethusd': 0.03007185308411003, 'btcusd': 0.022349100692145994}\n",
      "Pipeline(steps=[('minmaxscaler', MinMaxScaler()),\n",
      "                ('catboostclassifier',\n",
      "                 <catboost.core.CatBoostClassifier object at 0x7f88601e5e50>)])\n",
      "ethusd -> 3.1987\n",
      "\n",
      "Current profit: 3.0275\n",
      "Minutes=15 Window=20 Step=1 | 102.64692512430256 {'ltceur': 0.019517237064471938, 'ltcusd': 0.0077148455363108825, 'ethusd': -0.012735772217258452, 'btcusd': 0.005954751823917379}\n",
      "Pipeline(steps=[('standardscaler', StandardScaler()),\n",
      "                ('pipeline',\n",
      "                 Pipeline(steps=[('s',\n",
      "                                  RFECV(estimator=DecisionTreeClassifier(random_state=10),\n",
      "                                        scoring='recall')),\n",
      "                                 ('m',\n",
      "                                  <catboost.core.CatBoostClassifier object at 0x7f884ac7ed00>)]))])\n",
      "ethusd -> 3.0275\n",
      "\n",
      "Current profit: 2.6401\n",
      "Minutes=15 Window=30 Step=1 | 101.13085287353957 {'ltceur': 0.01400404636514626, 'ltcusd': -0.012154199354334497, 'ethusd': -0.008080798108392281, 'btcusd': 0.018949085289074546}\n",
      "Pipeline(steps=[('normalizer', Normalizer()),\n",
      "                ('randomforestclassifier',\n",
      "                 RandomForestClassifier(criterion='entropy', max_depth=100,\n",
      "                                        n_estimators=30, random_state=42))])\n",
      "ethusd -> 2.6401\n",
      "\n",
      "Current profit: 2.4904\n",
      "Minutes=15 Window=20 Step=1 | 102.84545896884985 {'ltceur': 0.0023743840787680773, 'ltcusd': 0.0065454241568993704, 'ethusd': 0.027572050995011914, 'btcusd': -0.020445923643289437}\n",
      "Pipeline(steps=[('minmaxscaler', MinMaxScaler()),\n",
      "                ('catboostclassifier',\n",
      "                 <catboost.core.CatBoostClassifier object at 0x7f8849822ac0>)])\n",
      "ethusd -> 2.4904\n",
      "\n",
      "Current profit: 2.4876\n",
      "Minutes=15 Window=10 Step=1 | 108.02819426721756 {'ltceur': 0.022850468547549883, 'ltcusd': 0.015256277413077076, 'ethusd': 0.010047840504106948, 'btcusd': 0.013101824224495514}\n",
      "Pipeline(steps=[('minmaxscaler', MinMaxScaler()),\n",
      "                ('pipeline',\n",
      "                 Pipeline(steps=[('s',\n",
      "                                  RFECV(estimator=DecisionTreeClassifier(random_state=10),\n",
      "                                        scoring='recall')),\n",
      "                                 ('m',\n",
      "                                  RandomForestClassifier(criterion='entropy',\n",
      "                                                         max_depth=100,\n",
      "                                                         n_estimators=30,\n",
      "                                                         random_state=42))]))])\n",
      "ethusd -> 2.4876\n",
      "\n",
      "Current profit: 2.3304\n",
      "Minutes=15 Window=5 Step=1 | 106.06861832232947 {'ltceur': 0.015514158276751877, 'ltcusd': 0.02192615770205919, 'ethusd': 0.01616342449301443, 'btcusd': -0.012575001382024048}\n",
      "Pipeline(steps=[('minmaxscaler', MinMaxScaler()),\n",
      "                ('pipeline',\n",
      "                 Pipeline(steps=[('s',\n",
      "                                  RFECV(estimator=DecisionTreeClassifier(random_state=10),\n",
      "                                        scoring='recall')),\n",
      "                                 ('m',\n",
      "                                  <catboost.core.CatBoostClassifier object at 0x7f88601e2b50>)]))])\n",
      "ethusd -> 2.3304\n",
      "\n",
      "Current profit: 1.9998\n",
      "Minutes=15 Window=40 Step=1 | 101.55969261648306 {'ltceur': 0.0007476899998326745, 'ltcusd': 0.021669175515784588, 'ethusd': -0.006907776079309161, 'btcusd': -0.005852222176548493}\n",
      "Pipeline(steps=[('standardscaler', StandardScaler()),\n",
      "                ('pipeline',\n",
      "                 Pipeline(steps=[('s',\n",
      "                                  RFECV(estimator=DecisionTreeClassifier(random_state=10),\n",
      "                                        scoring='recall')),\n",
      "                                 ('m',\n",
      "                                  DecisionTreeClassifier(random_state=42))]))])\n",
      "ethusd -> 1.9998\n",
      "\n",
      "Current profit: 1.9732\n",
      "Minutes=15 Window=5 Step=1 | 100.97476421422066 {'ltceur': -0.007770628859851865, 'ltcusd': -0.00274215953267619, 'ethusd': 0.030777933364084936, 'btcusd': -0.016852897360263196}\n",
      "Pipeline(steps=[('normalizer', Normalizer()),\n",
      "                ('randomforestclassifier',\n",
      "                 RandomForestClassifier(criterion='entropy', max_depth=100,\n",
      "                                        n_estimators=30, random_state=42))])\n",
      "ethusd -> 1.9732\n",
      "\n",
      "Current profit: 1.9495\n",
      "Minutes=15 Window=10 Step=1 | 105.74788323226954 {'ltceur': 0.005781638872459472, 'ltcusd': 0.039398435726298364, 'ethusd': 0.007041240244089503, 'btcusd': -0.014193977588058558}\n",
      "Pipeline(steps=[('normalizer', Normalizer()),\n",
      "                ('catboostclassifier',\n",
      "                 <catboost.core.CatBoostClassifier object at 0x7f88472a1f10>)])\n",
      "ethusd -> 1.9495\n",
      "\n",
      "Current profit: 1.8322\n",
      "Minutes=15 Window=40 Step=1 | 103.3048188349486 {'ltceur': 0.022878295492325947, 'ltcusd': 0.01607223620410949, 'ethusd': 8.574615518079549e-05, 'btcusd': -0.019771212415442573}\n",
      "Pipeline(steps=[('minmaxscaler', MinMaxScaler()),\n",
      "                ('catboostclassifier',\n",
      "                 <catboost.core.CatBoostClassifier object at 0x7f87f6944430>)])\n",
      "ethusd -> 1.8322\n",
      "\n",
      "Current profit: 1.666\n",
      "Minutes=15 Window=5 Step=1 | 113.84476645038248 {'ltceur': 0.01971711819067386, 'ltcusd': 0.03920762690131848, 'ethusd': 0.008203475443416404, 'btcusd': 0.04296771828065814}\n",
      "<catboost.core.CatBoostClassifier object at 0x7f8860b42af0>\n",
      "ethusd -> 1.666\n",
      "\n",
      "Current profit: 1.6136\n",
      "Minutes=15 Window=5 Step=1 | 110.6958224494712 {'ltceur': 0.038603429298098964, 'ltcusd': 0.01590384382943269, 'ethusd': 0.011454881890613135, 'btcusd': 0.01517698648829343}\n",
      "Pipeline(steps=[('minmaxscaler', MinMaxScaler()),\n",
      "                ('randomforestclassifier',\n",
      "                 RandomForestClassifier(criterion='entropy', max_depth=100,\n",
      "                                        n_estimators=30, random_state=42))])\n",
      "ethusd -> 1.6136\n",
      "\n",
      "Current profit: 1.5387\n",
      "Minutes=5 Window=30 Step=1 | 104.08163526381233 {'ltceur': 0.012066523557660387, 'ltcusd': 0.00481430247274348, 'ethusd': 0.013967023633053084, 'btcusd': 0.016737632945315807}\n",
      "Pipeline(steps=[('minmaxscaler', MinMaxScaler()),\n",
      "                ('pipeline',\n",
      "                 Pipeline(steps=[('s',\n",
      "                                  RFECV(estimator=DecisionTreeClassifier(random_state=10),\n",
      "                                        scoring='recall')),\n",
      "                                 ('m',\n",
      "                                  <catboost.core.CatBoostClassifier object at 0x7f88b0a863a0>)]))])\n",
      "ethusd -> 1.5387\n",
      "\n",
      "Current profit: 1.5353\n",
      "Minutes=15 Window=30 Step=1 | 102.85925893410743 {'ltceur': 0.005258928811763995, 'ltcusd': 0.006952865557608304, 'ethusd': 0.006391288044371533, 'btcusd': 0.0027701904263768623}\n",
      "<catboost.core.CatBoostClassifier object at 0x7f884afd6280>\n",
      "ethusd -> 1.5353\n",
      "\n",
      "Current profit: 1.4829\n",
      "Minutes=15 Window=10 Step=1 | 106.6351276464043 {'ltceur': 0.02338081737739957, 'ltcusd': 0.016690750900872305, 'ethusd': 0.008073850658718785, 'btcusd': -9.048123258590639e-05}\n",
      "Pipeline(steps=[('standardscaler', StandardScaler()),\n",
      "                ('catboostclassifier',\n",
      "                 <catboost.core.CatBoostClassifier object at 0x7f8847293100>)])\n",
      "ethusd -> 1.4829\n",
      "\n",
      "Current profit: 1.3652\n",
      "Minutes=15 Window=5 Step=1 | 103.339531011043 {'ltceur': 0.015653293000632198, 'ltcusd': -0.01349506174566403, 'ethusd': 0.01774012991365234, 'btcusd': 0.006079960840289521}\n",
      "Pipeline(steps=[('standardscaler', StandardScaler()),\n",
      "                ('pipeline',\n",
      "                 Pipeline(steps=[('s',\n",
      "                                  RFECV(estimator=DecisionTreeClassifier(random_state=10),\n",
      "                                        scoring='recall')),\n",
      "                                 ('m',\n",
      "                                  <catboost.core.CatBoostClassifier object at 0x7f88601e03a0>)]))])\n",
      "ethusd -> 1.3652\n",
      "\n",
      "Current profit: 1.3241\n",
      "Minutes=5 Window=20 Step=1 | 105.13758378664397 {'ltceur': 0.006452814600069341, 'ltcusd': -0.006228109639957449, 'ethusd': 0.03135002290479059, 'btcusd': 0.03184133880502939}\n",
      "Pipeline(steps=[('normalizer', Normalizer()),\n",
      "                ('pipeline',\n",
      "                 Pipeline(steps=[('s',\n",
      "                                  RFECV(estimator=DecisionTreeClassifier(random_state=10),\n",
      "                                        scoring='recall')),\n",
      "                                 ('m',\n",
      "                                  <catboost.core.CatBoostClassifier object at 0x7f885fd92cd0>)]))])\n",
      "ethusd -> 1.3241\n",
      "\n",
      "Current profit: 1.2885\n",
      "Minutes=15 Window=5 Step=1 | 100.22608456616095 {'ltceur': -0.0015273900799306253, 'ltcusd': -0.00962849306578493, 'ethusd': 0.025731708142027077, 'btcusd': -0.01644537744848594}\n",
      "Pipeline(steps=[('minmaxscaler', MinMaxScaler()),\n",
      "                ('pipeline',\n",
      "                 Pipeline(steps=[('s',\n",
      "                                  RFECV(estimator=DecisionTreeClassifier(random_state=10),\n",
      "                                        scoring='recall')),\n",
      "                                 ('m',\n",
      "                                  RandomForestClassifier(criterion='entropy',\n",
      "                                                         max_depth=100,\n",
      "                                                         n_estimators=30,\n",
      "                                                         random_state=42))]))])\n",
      "ethusd -> 1.2885\n",
      "\n",
      "Current profit: 1.2805\n",
      "Minutes=15 Window=10 Step=1 | 106.1179838891965 {'ltceur': 0.01857603157939918, 'ltcusd': 0.01839565644512399, 'ethusd': 0.015558630716174193, 'btcusd': -0.010653633589279463}\n",
      "Pipeline(steps=[('minmaxscaler', MinMaxScaler()),\n",
      "                ('catboostclassifier',\n",
      "                 <catboost.core.CatBoostClassifier object at 0x7f884729aca0>)])\n",
      "ethusd -> 1.2805\n",
      "\n",
      "Current profit: 1.2671\n",
      "Minutes=15 Window=10 Step=1 | 104.61624868805015 {'ltceur': 0.010137374169465729, 'ltcusd': 0.02533937609100863, 'ethusd': 0.01628244527557882, 'btcusd': -0.023965950707336446}\n",
      "Pipeline(steps=[('normalizer', Normalizer()),\n",
      "                ('pipeline',\n",
      "                 Pipeline(steps=[('s',\n",
      "                                  RFECV(estimator=DecisionTreeClassifier(random_state=10),\n",
      "                                        scoring='recall')),\n",
      "                                 ('m',\n",
      "                                  <catboost.core.CatBoostClassifier object at 0x7f88488541c0>)]))])\n",
      "ethusd -> 1.2671\n",
      "\n",
      "Current profit: 1.2555\n",
      "Minutes=5 Window=5 Step=1 | 100.74248269013458 {'ltceur': 0.01920142434560298, 'ltcusd': -0.008305460133791357, 'ethusd': -0.014729428069011851, 'btcusd': 0.0122191145695794}\n",
      "Pipeline(steps=[('minmaxscaler', MinMaxScaler()),\n",
      "                ('pipeline',\n",
      "                 Pipeline(steps=[('s',\n",
      "                                  RFECV(estimator=DecisionTreeClassifier(random_state=10),\n",
      "                                        scoring='recall')),\n",
      "                                 ('m',\n",
      "                                  RandomForestClassifier(criterion='entropy',\n",
      "                                                         max_depth=100,\n",
      "                                                         n_estimators=30,\n",
      "                                                         random_state=42))]))])\n",
      "ethusd -> 1.2555\n",
      "\n",
      "Current profit: 1.1932\n",
      "Minutes=15 Window=20 Step=1 | 103.81362857605181 {'ltceur': 0.035613033049680366, 'ltcusd': 0.02731937631337982, 'ethusd': -0.010679327113903254, 'btcusd': -0.03241094449649675}\n",
      "Pipeline(steps=[('minmaxscaler', MinMaxScaler()),\n",
      "                ('pipeline',\n",
      "                 Pipeline(steps=[('s',\n",
      "                                  RFECV(estimator=DecisionTreeClassifier(random_state=10),\n",
      "                                        scoring='recall')),\n",
      "                                 ('m',\n",
      "                                  <catboost.core.CatBoostClassifier object at 0x7f884ac8b070>)]))])\n",
      "ethusd -> 1.1932\n",
      "\n",
      "Current profit: 1.0173\n",
      "Minutes=5 Window=30 Step=1 | 103.37984346328466 {'ltceur': 0.006453078055530088, 'ltcusd': 0.008723820916357277, 'ethusd': 0.006349510775642604, 'btcusd': 0.018027812099027676}\n",
      "Pipeline(steps=[('standardscaler', StandardScaler()),\n",
      "                ('pipeline',\n",
      "                 Pipeline(steps=[('s',\n",
      "                                  RFECV(estimator=DecisionTreeClassifier(random_state=10),\n",
      "                                        scoring='recall')),\n",
      "                                 ('m',\n",
      "                                  RandomForestClassifier(criterion='entropy',\n",
      "                                                         max_depth=100,\n",
      "                                                         n_estimators=30,\n",
      "                                                         random_state=42))]))])\n",
      "ethusd -> 1.0173\n",
      "\n",
      "Current profit: 0.9974\n",
      "Minutes=15 Window=5 Step=1 | 105.57654088101032 {'ltceur': 4.765136948580898e-05, 'ltcusd': 0.010893498189288808, 'ethusd': 0.03187617889536647, 'btcusd': -0.002904849179833694}\n",
      "Pipeline(steps=[('standardscaler', StandardScaler()),\n",
      "                ('catboostclassifier',\n",
      "                 <catboost.core.CatBoostClassifier object at 0x7f8860b3e970>)])\n",
      "ethusd -> 0.9974\n",
      "\n",
      "Current profit: 0.9591\n",
      "Minutes=15 Window=20 Step=1 | 105.18823929991636 {'ltceur': -0.004681837989708759, 'ltcusd': 0.027842665929255116, 'ethusd': 0.017349792938575585, 'btcusd': -0.003988497780020516}\n",
      "Pipeline(steps=[('normalizer', Normalizer()),\n",
      "                ('randomforestclassifier',\n",
      "                 RandomForestClassifier(criterion='entropy', max_depth=100,\n",
      "                                        n_estimators=30, random_state=42))])\n",
      "ethusd -> 0.9591\n",
      "\n",
      "Current profit: 0.8235\n",
      "Minutes=15 Window=5 Step=1 | 103.42841714934886 {'ltceur': 0.016126351061825285, 'ltcusd': 0.007827286451031173, 'ethusd': -0.0210105504336397, 'btcusd': 0.028288260449873634}\n",
      "Pipeline(steps=[('normalizer', Normalizer()),\n",
      "                ('decisiontreeclassifier',\n",
      "                 DecisionTreeClassifier(random_state=42))])\n",
      "ethusd -> 0.8235\n",
      "\n",
      "Current profit: 0.6937\n",
      "Minutes=15 Window=20 Step=1 | 107.22462462184839 {'ltceur': 0.022899211169772008, 'ltcusd': 0.025977975927243015, 'ethusd': 0.01915283895647112, 'btcusd': -0.020444269939299615}\n",
      "Pipeline(steps=[('standardscaler', StandardScaler()),\n",
      "                ('catboostclassifier',\n",
      "                 <catboost.core.CatBoostClassifier object at 0x7f884981b130>)])\n",
      "ethusd -> 0.6937\n",
      "\n",
      "Current profit: 0.6035\n",
      "Minutes=5 Window=10 Step=1 | 101.44331573149137 {'ltceur': 0.0005688003397521622, 'ltcusd': -0.016139213229450916, 'ethusd': 0.011009143806161642, 'btcusd': 0.02567058153797322}\n",
      "Pipeline(steps=[('normalizer', Normalizer()),\n",
      "                ('randomforestclassifier',\n",
      "                 RandomForestClassifier(criterion='entropy', max_depth=100,\n",
      "                                        n_estimators=30, random_state=42))])\n",
      "ethusd -> 0.6035\n",
      "\n",
      "Current profit: 0.5987\n",
      "Minutes=1 Window=30 Step=1 | 102.01314045301638 {'ltceur': -0.041868310608646764, 'ltcusd': -0.2385902110610232, 'ethusd': 0.03136739766333545, 'btcusd': 0.04747280424657887}\n",
      "Pipeline(steps=[('minmaxscaler', MinMaxScaler()),\n",
      "                ('decisiontreeclassifier',\n",
      "                 DecisionTreeClassifier(random_state=42))])\n",
      "ethusd -> 0.5987\n",
      "\n",
      "Current profit: 0.583\n",
      "Minutes=15 Window=30 Step=1 | 103.07572852179678 {'ltceur': 0.03255425162978596, 'ltcusd': 0.007959991836825457, 'ethusd': 0.0008040758858958179, 'btcusd': -0.024746026503677604}\n",
      "Pipeline(steps=[('minmaxscaler', MinMaxScaler()),\n",
      "                ('pipeline',\n",
      "                 Pipeline(steps=[('s',\n",
      "                                  RFECV(estimator=DecisionTreeClassifier(random_state=10),\n",
      "                                        scoring='recall')),\n",
      "                                 ('m',\n",
      "                                  DecisionTreeClassifier(random_state=42))]))])\n",
      "ethusd -> 0.583\n",
      "\n",
      "Current profit: 0.5659\n",
      "Minutes=5 Window=10 Step=1 | 103.45859372921358 {'ltceur': 0.010979242871158687, 'ltcusd': -0.005137007900501612, 'ethusd': 0.014946155186710412, 'btcusd': 0.021162985993717444}\n",
      "Pipeline(steps=[('normalizer', Normalizer()),\n",
      "                ('catboostclassifier',\n",
      "                 <catboost.core.CatBoostClassifier object at 0x7f885fd4bd60>)])\n",
      "ethusd -> 0.5659\n",
      "\n",
      "Current profit: 0.5637\n",
      "Minutes=5 Window=40 Step=1 | 101.52477083068618 {'ltceur': -0.02472424116923641, 'ltcusd': 0.019106631543982542, 'ethusd': 0.0011563727718299874, 'btcusd': 0.02513375649667528}\n",
      "Pipeline(steps=[('standardscaler', StandardScaler()),\n",
      "                ('randomforestclassifier',\n",
      "                 RandomForestClassifier(criterion='entropy', max_depth=100,\n",
      "                                        n_estimators=30, random_state=42))])\n",
      "ethusd -> 0.5637\n",
      "\n",
      "Current profit: 0.5375\n",
      "Minutes=5 Window=20 Step=1 | 105.01818305978216 {'ltceur': 0.026866924431489463, 'ltcusd': 0.02082658840446868, 'ethusd': 0.0076985628617004895, 'btcusd': -0.0020669852278342015}\n",
      "Pipeline(steps=[('normalizer', Normalizer()),\n",
      "                ('catboostclassifier',\n",
      "                 <catboost.core.CatBoostClassifier object at 0x7f8927cd7310>)])\n",
      "ethusd -> 0.5375\n",
      "\n",
      "Current profit: 0.5031\n",
      "Minutes=15 Window=30 Step=1 | 102.35499855263382 {'ltceur': 0.009908029219383267, 'ltcusd': 0.005479118448882064, 'ethusd': -0.00043677519131539536, 'btcusd': 0.0027307377740482816}\n"
     ]
    },
    {
     "name": "stdout",
     "output_type": "stream",
     "text": [
      "Pipeline(steps=[('normalizer', Normalizer()),\n",
      "                ('pipeline',\n",
      "                 Pipeline(steps=[('s',\n",
      "                                  RFECV(estimator=DecisionTreeClassifier(random_state=10),\n",
      "                                        scoring='recall')),\n",
      "                                 ('m',\n",
      "                                  <catboost.core.CatBoostClassifier object at 0x7f884c0e6220>)]))])\n",
      "ethusd -> 0.5031\n",
      "\n",
      "Current profit: 0.4307\n",
      "Minutes=1 Window=40 Step=1 | 100.6108304370236 {'ltceur': -7.677924078324275e-05, 'ltcusd': -0.011647717258909092, 'ethusd': 0.02289788248878743, 'btcusd': 0.006407103060061483}\n",
      "Pipeline(steps=[('standardscaler', StandardScaler()),\n",
      "                ('decisiontreeclassifier',\n",
      "                 DecisionTreeClassifier(random_state=42))])\n",
      "ethusd -> 0.4307\n",
      "\n",
      "Current profit: 0.4245\n",
      "Minutes=15 Window=40 Step=1 | 100.76976136738162 {'ltceur': 0.011045296446080839, 'ltcusd': -0.005392501284910931, 'ethusd': -0.0056043979550364715, 'btcusd': 0.007272517660377394}\n",
      "Pipeline(steps=[('standardscaler', StandardScaler()),\n",
      "                ('pipeline',\n",
      "                 Pipeline(steps=[('s',\n",
      "                                  RFECV(estimator=DecisionTreeClassifier(random_state=10),\n",
      "                                        scoring='recall')),\n",
      "                                 ('m',\n",
      "                                  <catboost.core.CatBoostClassifier object at 0x7f87f88c3670>)]))])\n",
      "ethusd -> 0.4245\n",
      "\n",
      "Current profit: 0.4016\n",
      "Minutes=5 Window=10 Step=1 | 101.51533048803533 {'ltceur': -0.00905786219593288, 'ltcusd': 0.003336111893639655, 'ethusd': 0.004221428611720306, 'btcusd': 0.021871363741211135}\n",
      "Pipeline(steps=[('standardscaler', StandardScaler()),\n",
      "                ('catboostclassifier',\n",
      "                 <catboost.core.CatBoostClassifier object at 0x7f885fd62c70>)])\n",
      "ethusd -> 0.4016\n",
      "\n",
      "Current profit: 0.3957\n",
      "Minutes=5 Window=20 Step=1 | 104.14725163737259 {'ltceur': 0.009689891846264254, 'ltcusd': 0.027841489616663793, 'ethusd': -0.004303072388935517, 'btcusd': 0.012097678384294767}\n",
      "Pipeline(steps=[('standardscaler', StandardScaler()),\n",
      "                ('catboostclassifier',\n",
      "                 <catboost.core.CatBoostClassifier object at 0x7f88cad22b20>)])\n",
      "ethusd -> 0.3957\n",
      "\n",
      "Current profit: 0.368\n",
      "Minutes=15 Window=40 Step=1 | 100.81131374352564 {'ltceur': 0.02810976111022598, 'ltcusd': 0.01742636913401845, 'ethusd': -0.02110891169480658, 'btcusd': -0.024526556359885678}\n",
      "Pipeline(steps=[('normalizer', Normalizer()),\n",
      "                ('catboostclassifier',\n",
      "                 <catboost.core.CatBoostClassifier object at 0x7f87f694b8e0>)])\n",
      "ethusd -> 0.368\n",
      "\n",
      "Current profit: 0.3518\n",
      "Minutes=5 Window=10 Step=1 | 105.3214336664476 {'ltceur': 0.0055075364069101206, 'ltcusd': 0.0030191878334797947, 'ethusd': 0.028994228824053503, 'btcusd': 0.026600949772323215}\n",
      "Pipeline(steps=[('minmaxscaler', MinMaxScaler()),\n",
      "                ('pipeline',\n",
      "                 Pipeline(steps=[('s',\n",
      "                                  RFECV(estimator=DecisionTreeClassifier(random_state=10),\n",
      "                                        scoring='recall')),\n",
      "                                 ('m',\n",
      "                                  RandomForestClassifier(criterion='entropy',\n",
      "                                                         max_depth=100,\n",
      "                                                         n_estimators=30,\n",
      "                                                         random_state=42))]))])\n",
      "ethusd -> 0.3518\n",
      "\n",
      "Current profit: 0.3499\n",
      "Minutes=15 Window=40 Step=1 | 100.27541343094097 {'ltceur': 0.00529421265023822, 'ltcusd': 0.028707582247749473, 'ethusd': -0.02010226280264142, 'btcusd': -0.016116999084792964}\n",
      "Pipeline(steps=[('minmaxscaler', MinMaxScaler()),\n",
      "                ('randomforestclassifier',\n",
      "                 RandomForestClassifier(criterion='entropy', max_depth=100,\n",
      "                                        n_estimators=30, random_state=42))])\n",
      "ethusd -> 0.3499\n",
      "\n",
      "Current profit: 0.3013\n",
      "Minutes=15 Window=30 Step=1 | 103.13266081370666 {'ltceur': 0.02175903393577759, 'ltcusd': 0.01931275825992394, 'ethusd': -0.01003869912295761, 'btcusd': -0.011130845312056305}\n",
      "Pipeline(steps=[('standardscaler', StandardScaler()),\n",
      "                ('catboostclassifier',\n",
      "                 <catboost.core.CatBoostClassifier object at 0x7f884afdedf0>)])\n",
      "ethusd -> 0.3013\n",
      "\n",
      "Current profit: 0.2561\n",
      "Minutes=5 Window=40 Step=1 | 104.34610998190583 {'ltceur': 0.0188507651273491, 'ltcusd': -0.014494676937178607, 'ethusd': 0.0014541498938185568, 'btcusd': 0.04900849603533343}\n",
      "Pipeline(steps=[('minmaxscaler', MinMaxScaler()),\n",
      "                ('catboostclassifier',\n",
      "                 <catboost.core.CatBoostClassifier object at 0x7f885f931640>)])\n",
      "ethusd -> 0.2561\n",
      "\n",
      "Current profit: 0.2434\n",
      "Minutes=1 Window=40 Step=1 | 102.41746734473477 {'ltceur': -0.011860620872377546, 'ltcusd': -0.1073634408939055, 'ethusd': 0.029171891697200265, 'btcusd': 0.08672368932891157}\n",
      "Pipeline(steps=[('standardscaler', StandardScaler()),\n",
      "                ('pipeline',\n",
      "                 Pipeline(steps=[('s',\n",
      "                                  RFECV(estimator=DecisionTreeClassifier(random_state=10),\n",
      "                                        scoring='recall')),\n",
      "                                 ('m',\n",
      "                                  DecisionTreeClassifier(random_state=42))]))])\n",
      "ethusd -> 0.2434\n",
      "\n",
      "Current profit: 0.2356\n",
      "Minutes=5 Window=5 Step=1 | 101.79483957905713 {'ltceur': -0.026644041111697738, 'ltcusd': -0.0022902099372248594, 'ethusd': 0.028679826060159293, 'btcusd': 0.027319607831798674}\n",
      "Pipeline(steps=[('minmaxscaler', MinMaxScaler()),\n",
      "                ('catboostclassifier',\n",
      "                 <catboost.core.CatBoostClassifier object at 0x7f885fed1550>)])\n",
      "ethusd -> 0.2356\n",
      "\n",
      "Current profit: 0.2319\n",
      "Minutes=5 Window=40 Step=1 | 100.48383486861377 {'ltceur': -0.013819292738008297, 'ltcusd': -0.0035597457039182956, 'ethusd': 0.012271208158677502, 'btcusd': 0.014141854169919421}\n",
      "Pipeline(steps=[('minmaxscaler', MinMaxScaler()),\n",
      "                ('pipeline',\n",
      "                 Pipeline(steps=[('s',\n",
      "                                  RFECV(estimator=DecisionTreeClassifier(random_state=10),\n",
      "                                        scoring='recall')),\n",
      "                                 ('m',\n",
      "                                  <catboost.core.CatBoostClassifier object at 0x7f885d0c9640>)]))])\n",
      "ethusd -> 0.2319\n",
      "\n",
      "Current profit: 0.2145\n",
      "Minutes=15 Window=20 Step=1 | 100.45608581628562 {'ltceur': 0.013457146868795771, 'ltcusd': -0.010184421033301519, 'ethusd': -0.004637605484682427, 'btcusd': 0.006239188910166547}\n",
      "<catboost.core.CatBoostClassifier object at 0x7f884980fc70>\n",
      "ethusd -> 0.2145\n",
      "\n",
      "Current profit: 0.213\n",
      "Minutes=5 Window=10 Step=1 | 102.03505809803336 {'ltceur': 0.006688607237437653, 'ltcusd': 0.03513258252639457, 'ethusd': -0.026581135656034472, 'btcusd': 0.0038088555892449943}\n",
      "Pipeline(steps=[('minmaxscaler', MinMaxScaler()),\n",
      "                ('randomforestclassifier',\n",
      "                 RandomForestClassifier(criterion='entropy', max_depth=100,\n",
      "                                        n_estimators=30, random_state=42))])\n",
      "ethusd -> 0.213\n",
      "\n",
      "Current profit: 0.1957\n",
      "Minutes=1 Window=20 Step=1 | 100.10166488509556 {'ltceur': -0.01532395524124628, 'ltcusd': -0.06724265555420654, 'ethusd': -0.04866131076208422, 'btcusd': 0.05542681477826398}\n",
      "Pipeline(steps=[('minmaxscaler', MinMaxScaler()),\n",
      "                ('pipeline',\n",
      "                 Pipeline(steps=[('s',\n",
      "                                  RFECV(estimator=DecisionTreeClassifier(random_state=10),\n",
      "                                        scoring='recall')),\n",
      "                                 ('m',\n",
      "                                  DecisionTreeClassifier(random_state=42))]))])\n",
      "ethusd -> 0.1957\n",
      "\n",
      "Current profit: 0.1856\n",
      "Minutes=1 Window=5 Step=1 | 100.96911611315863 {'ltceur': 0.038611689580348295, 'ltcusd': 0.11350845379882427, 'ethusd': 0.030424574835899835, 'btcusd': 0.01828741298645472}\n",
      "Pipeline(steps=[('normalizer', Normalizer()),\n",
      "                ('pipeline',\n",
      "                 Pipeline(steps=[('s',\n",
      "                                  RFECV(estimator=DecisionTreeClassifier(random_state=10),\n",
      "                                        scoring='recall')),\n",
      "                                 ('m',\n",
      "                                  DecisionTreeClassifier(random_state=42))]))])\n",
      "ethusd -> 0.1856\n",
      "\n",
      "Current profit: 0.177\n",
      "Minutes=1 Window=30 Step=1 | 100.97951047135075 {'ltceur': -0.01096998167929193, 'ltcusd': -0.028974382071758398, 'ethusd': 0.006276657587141591, 'btcusd': 0.054989382039223635}\n",
      "DecisionTreeClassifier(random_state=42)\n",
      "ethusd -> 0.177\n",
      "\n",
      "Current profit: 0.1258\n",
      "Minutes=5 Window=40 Step=1 | 104.80230335314575 {'ltceur': 0.022292020355622718, 'ltcusd': 0.007549677715035339, 'ethusd': -0.016948357490489986, 'btcusd': 0.04363863932360687}\n",
      "Pipeline(steps=[('standardscaler', StandardScaler()),\n",
      "                ('pipeline',\n",
      "                 Pipeline(steps=[('s',\n",
      "                                  RFECV(estimator=DecisionTreeClassifier(random_state=10),\n",
      "                                        scoring='recall')),\n",
      "                                 ('m',\n",
      "                                  <catboost.core.CatBoostClassifier object at 0x7f885cfc6160>)]))])\n",
      "ethusd -> 0.1258\n",
      "\n",
      "Current profit: 0.1069\n",
      "Minutes=1 Window=20 Step=1 | 102.4246343333656 {'ltceur': 0.036831592413266036, 'ltcusd': -0.11666516533570413, 'ethusd': 0.022994548312386863, 'btcusd': 0.028230304553084503}\n",
      "Pipeline(steps=[('standardscaler', StandardScaler()),\n",
      "                ('pipeline',\n",
      "                 Pipeline(steps=[('s',\n",
      "                                  RFECV(estimator=DecisionTreeClassifier(random_state=10),\n",
      "                                        scoring='recall')),\n",
      "                                 ('m',\n",
      "                                  DecisionTreeClassifier(random_state=42))]))])\n",
      "ethusd -> 0.1069\n",
      "\n",
      "Current profit: 0.0512\n",
      "Minutes=5 Window=20 Step=1 | 100.88478457371757 {'ltceur': -0.0023331615603729267, 'ltcusd': 0.006455685291780366, 'ethusd': 0.015095192190935998, 'btcusd': -0.01001173883124418}\n",
      "Pipeline(steps=[('minmaxscaler', MinMaxScaler()),\n",
      "                ('randomforestclassifier',\n",
      "                 RandomForestClassifier(criterion='entropy', max_depth=100,\n",
      "                                        n_estimators=30, random_state=42))])\n",
      "ethusd -> 0.0512\n",
      "\n",
      "Current profit: 0.0496\n",
      "Minutes=3 Window=5 Step=1 | 101.4242031710547 {'ltceur': 0.003356891809708072, 'ltcusd': 0.06207453514536081, 'ethusd': -0.035559441183292594, 'btcusd': 0.019873941256335553}\n",
      "Pipeline(steps=[('standardscaler', StandardScaler()),\n",
      "                ('randomforestclassifier',\n",
      "                 RandomForestClassifier(criterion='entropy', max_depth=100,\n",
      "                                        n_estimators=30, random_state=42))])\n",
      "ethusd -> 0.0496\n",
      "\n",
      "Current profit: 0.0496\n",
      "Minutes=3 Window=5 Step=1 | 101.01719616290023 {'ltceur': 0.011601994590976735, 'ltcusd': 0.0037796015772792848, 'ethusd': 0.013610005887915501, 'btcusd': 0.003069933854189315}\n",
      "Pipeline(steps=[('normalizer', Normalizer()),\n",
      "                ('pipeline',\n",
      "                 Pipeline(steps=[('s',\n",
      "                                  RFECV(estimator=DecisionTreeClassifier(random_state=10),\n",
      "                                        scoring='recall')),\n",
      "                                 ('m',\n",
      "                                  RandomForestClassifier(criterion='entropy',\n",
      "                                                         max_depth=100,\n",
      "                                                         n_estimators=30,\n",
      "                                                         random_state=42))]))])\n",
      "ethusd -> 0.0496\n",
      "\n",
      "Current profit: 0.0496\n",
      "Minutes=3 Window=5 Step=1 | 100.3676003510124 {'ltceur': -0.009434127071648268, 'ltcusd': 0.016681663024694003, 'ethusd': 0.04090376529222498, 'btcusd': -0.009210405523585884}\n",
      "Pipeline(steps=[('normalizer', Normalizer()),\n",
      "                ('randomforestclassifier',\n",
      "                 RandomForestClassifier(criterion='entropy', max_depth=100,\n",
      "                                        n_estimators=30, random_state=42))])\n",
      "ethusd -> 0.0496\n",
      "\n",
      "Current profit: 0.0337\n",
      "Minutes=3 Window=30 Step=1 | 100.3613705425526 {'ltceur': 0.013404638395767117, 'ltcusd': -0.011528369084391194, 'ethusd': -0.012218316769853872, 'btcusd': 0.0054670551343934054}\n",
      "Pipeline(steps=[('standardscaler', StandardScaler()),\n",
      "                ('pipeline',\n",
      "                 Pipeline(steps=[('s',\n",
      "                                  RFECV(estimator=DecisionTreeClassifier(random_state=10),\n",
      "                                        scoring='recall')),\n",
      "                                 ('m',\n",
      "                                  RandomForestClassifier(criterion='entropy',\n",
      "                                                         max_depth=100,\n",
      "                                                         n_estimators=30,\n",
      "                                                         random_state=42))]))])\n",
      "ethusd -> 0.0337\n",
      "\n",
      "Current profit: 0.0253\n",
      "Minutes=5 Window=20 Step=1 | 102.29930500329036 {'ltceur': 0.008729333236381724, 'ltcusd': 0.008907510732320578, 'ethusd': -0.006499438439255991, 'btcusd': 0.015046200364565564}\n",
      "Pipeline(steps=[('minmaxscaler', MinMaxScaler()),\n",
      "                ('pipeline',\n",
      "                 Pipeline(steps=[('s',\n",
      "                                  RFECV(estimator=DecisionTreeClassifier(random_state=10),\n",
      "                                        scoring='recall')),\n",
      "                                 ('m',\n",
      "                                  RandomForestClassifier(criterion='entropy',\n",
      "                                                         max_depth=100,\n",
      "                                                         n_estimators=30,\n",
      "                                                         random_state=42))]))])\n",
      "ethusd -> 0.0253\n",
      "\n"
     ]
    }
   ],
   "source": [
    "profs = []\n",
    "\n",
    "print(f\"Selected: {len(scoreboard)}\")\n",
    "\n",
    "scoreboard.sort(key=myFunc, reverse = True)\n",
    "\n",
    "for score in scoreboard:\n",
    "    profit = score['profit']\n",
    "    result = score['result']\n",
    "    backs = score['backs']\n",
    "    print(f\"Current profit: {profit}\")\n",
    "    print_result(result)\n",
    "    for back in backs:\n",
    "        #backs[back].report()\n",
    "        print(f\"{back} -> {backs[back].get_profit()}\")\n",
    "    \n",
    "    print()\n",
    "    profs.append(profit)\n",
    "\n"
   ]
  },
  {
   "cell_type": "code",
   "execution_count": 102,
   "id": "65dad427",
   "metadata": {},
   "outputs": [
    {
     "name": "stdout",
     "output_type": "stream",
     "text": [
      "Minutes=15 Window=10 Step=1 | 101.70597967714077 {'ltceur': 0.011623296645416337, 'ltcusd': 0.02971201855293026, 'ethusd': -0.025293287502104803, 'btcusd': -0.005435252527686549}\n",
      "Pipeline(steps=[('standardscaler', StandardScaler()),\n",
      "                ('decisiontreeclassifier',\n",
      "                 DecisionTreeClassifier(random_state=42))])\n",
      "\n",
      "1.1394095238095234 \n"
     ]
    }
   ],
   "source": [
    "winner = scoreboard[0]['result']\n",
    "print_result(winner)\n",
    "model_path = f'model/winner'\n",
    "dump(winner, model_path)\n",
    "print()\n",
    "print(f\"{np.average(profs)} \")"
   ]
  },
  {
   "cell_type": "code",
   "execution_count": 103,
   "id": "35ea08a5",
   "metadata": {},
   "outputs": [],
   "source": [
    "model = scoreboard[0]['result']['model']"
   ]
  },
  {
   "cell_type": "code",
   "execution_count": 104,
   "id": "99eb0a39",
   "metadata": {},
   "outputs": [
    {
     "data": {
      "text/plain": [
       "Pipeline(steps=[('standardscaler', StandardScaler()),\n",
       "                ('decisiontreeclassifier',\n",
       "                 DecisionTreeClassifier(random_state=42))])"
      ]
     },
     "execution_count": 104,
     "metadata": {},
     "output_type": "execute_result"
    }
   ],
   "source": [
    "model"
   ]
  },
  {
   "cell_type": "code",
   "execution_count": null,
   "id": "ea91a006",
   "metadata": {},
   "outputs": [],
   "source": []
  },
  {
   "cell_type": "code",
   "execution_count": null,
   "id": "0566fbc4",
   "metadata": {},
   "outputs": [],
   "source": []
  },
  {
   "cell_type": "code",
   "execution_count": null,
   "id": "4f201424",
   "metadata": {},
   "outputs": [],
   "source": []
  }
 ],
 "metadata": {
  "kernelspec": {
   "display_name": "Python 3",
   "language": "python",
   "name": "python3"
  },
  "language_info": {
   "codemirror_mode": {
    "name": "ipython",
    "version": 3
   },
   "file_extension": ".py",
   "mimetype": "text/x-python",
   "name": "python",
   "nbconvert_exporter": "python",
   "pygments_lexer": "ipython3",
   "version": "3.9.5"
  }
 },
 "nbformat": 4,
 "nbformat_minor": 5
}
