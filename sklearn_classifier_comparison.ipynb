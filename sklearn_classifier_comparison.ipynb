{
 "cells": [
  {
   "cell_type": "code",
   "execution_count": 1,
   "id": "706264fe",
   "metadata": {},
   "outputs": [],
   "source": [
    "import pandas as pd\n",
    "import data_util\n",
    "from tqdm.notebook import tqdm\n",
    "#from tqdm import tqdm_notebook as tqdm\n",
    "from data_generator import DataGenerator\n",
    "from state_util import StateUtil\n",
    "from tec_an import TecAn\n",
    "import numpy as np\n",
    "from data_util import *\n",
    "from sklearn_model_hyper import *\n",
    "from joblib import dump, load\n",
    "from data_generator import DataGenerator\n",
    "from data_agent import DataAgent, TacProcess\n",
    "from stock_agent import *\n",
    "from sklearn.utils import shuffle\n",
    "\n",
    "import math\n",
    "import pandas as pd\n",
    "import matplotlib.pyplot as plt\n",
    "import scipy.stats as scs\n",
    "import scikitplot as skplt\n",
    "\n",
    "from keras.wrappers.scikit_learn import KerasClassifier\n",
    "from imblearn.over_sampling import RandomOverSampler\n",
    "import tensorflow as tf\n",
    "from keras.models import Sequential\n",
    "from keras.layers import Dense\n",
    "import tensorflow.keras as keras\n",
    "import random\n",
    "from catboost import CatBoost\n",
    "\n",
    "import numpy as np\n",
    "import matplotlib.pyplot as plt\n",
    "from matplotlib.colors import ListedColormap\n",
    "from sklearn.model_selection import train_test_split\n",
    "from sklearn.preprocessing import StandardScaler\n",
    "from sklearn.datasets import make_moons, make_circles, make_classification\n",
    "from sklearn.neural_network import MLPClassifier\n",
    "from sklearn.neighbors import KNeighborsClassifier\n",
    "from sklearn.svm import SVC\n",
    "from sklearn.gaussian_process import GaussianProcessClassifier\n",
    "from sklearn.gaussian_process.kernels import RBF\n",
    "from sklearn.tree import DecisionTreeClassifier\n",
    "from catboost import CatBoostClassifier\n",
    "from sklearn.ensemble import RandomForestClassifier, AdaBoostClassifier\n",
    "from sklearn.naive_bayes import GaussianNB\n",
    "from sklearn.discriminant_analysis import QuadraticDiscriminantAnalysis\n",
    "from sklearn.pipeline import make_pipeline\n",
    "from sklearn.linear_model import LogisticRegression\n",
    "import numpy as np\n",
    "import matplotlib.pyplot as plt\n",
    "from matplotlib.colors import ListedColormap\n",
    "from sklearn.model_selection import train_test_split\n",
    "from sklearn.preprocessing import StandardScaler, MinMaxScaler, Normalizer\n",
    "from sklearn.datasets import make_moons, make_circles, make_classification\n",
    "from sklearn.neural_network import MLPClassifier\n",
    "from sklearn.neighbors import KNeighborsClassifier\n",
    "from sklearn.svm import SVC\n",
    "from sklearn.gaussian_process import GaussianProcessClassifier\n",
    "from sklearn.gaussian_process.kernels import RBF\n",
    "from sklearn.tree import DecisionTreeClassifier\n",
    "from sklearn.ensemble import RandomForestClassifier, AdaBoostClassifier\n",
    "from sklearn.metrics import precision_score, recall_score, f1_score\n",
    "\n",
    "\n",
    "from sklearn.metrics import confusion_matrix\n",
    "from sklearn.model_selection import GridSearchCV\n",
    "\n",
    "path = \"./data/\"\n"
   ]
  },
  {
   "cell_type": "code",
   "execution_count": 2,
   "id": "b7a4b0d0",
   "metadata": {},
   "outputs": [],
   "source": [
    "def get_y_data(ohlc, shift = -1):\n",
    "    combined_data = ohlc.copy()\n",
    "    #combined_data['return'] = np.log(combined_data / combined_data.shift(1))\n",
    "    returns = (ohlc / ohlc.shift(shift))\n",
    "    combined_data['return'] = returns\n",
    "    combined_data['direction'] = np.where(combined_data['return'] < 1, 1, 0)\n",
    "    #print(combined_data)\n",
    "    #combined_data.dropna(inplace=True)\n",
    "    #print(combined_data[20:40])\n",
    "    #\n",
    "    return combined_data['direction'].to_numpy()\n",
    "\n",
    "\n",
    "def get_sequencial_data(trainX, trainY, step):\n",
    "    y = get_y_data(\n",
    "        pd.DataFrame(trainY, columns = ['Close']), \n",
    "        (-1 * step)\n",
    "    )\n",
    "    x, y, closed_prices = trainX, y, trainY\n",
    "    return x, y, closed_prices\n",
    "\n",
    "def prepare_train_data(trainX, trainY, step):\n",
    "    y = get_y_data(\n",
    "        pd.DataFrame(trainY, columns = ['Close']), \n",
    "        (-1 * step)\n",
    "    )\n",
    "    x, y, closed_prices = trainX, y, trainY\n",
    "    return shuffle(x, y, closed_prices, random_state = 10)"
   ]
  },
  {
   "cell_type": "code",
   "execution_count": 3,
   "id": "224a1ad9",
   "metadata": {},
   "outputs": [],
   "source": [
    "def avg(array):\n",
    "    if (len(array) == 0):\n",
    "        return 0\n",
    "    return sum(array)/len(array)"
   ]
  },
  {
   "cell_type": "code",
   "execution_count": 4,
   "id": "997362d9",
   "metadata": {},
   "outputs": [
    {
     "name": "stdout",
     "output_type": "stream",
     "text": [
      "CPU times: user 237 µs, sys: 24 µs, total: 261 µs\n",
      "Wall time: 264 µs\n"
     ]
    }
   ],
   "source": [
    "%%time\n",
    "\n",
    "classifiers = [\n",
    "    LogisticRegression(),\n",
    "    KNeighborsClassifier(3),\n",
    "    #GaussianProcessClassifier(1.0 * RBF(1.0)),\n",
    "    DecisionTreeClassifier(),\n",
    "    RandomForestClassifier(max_depth=50, n_estimators=100, max_features=1),\n",
    "    MLPClassifier(alpha=1, max_iter=1000),\n",
    "    AdaBoostClassifier(),\n",
    "    CatBoostClassifier(logging_level = 'Silent'),\n",
    "    SVC(kernel=\"linear\", C=0.025),\n",
    "    SVC(gamma=2, C=1),\n",
    "    GaussianNB(),\n",
    "    QuadraticDiscriminantAnalysis()\n",
    "]\n"
   ]
  },
  {
   "cell_type": "code",
   "execution_count": 5,
   "id": "91fb4bc0",
   "metadata": {},
   "outputs": [],
   "source": [
    "def backtest_model(model, x, y, closed_prices):\n",
    "    back = BackTest(value = 100, \n",
    "                    verbose = False, \n",
    "                    sell_on_profit = True,\n",
    "                    pending_sell_steps = step)\n",
    "    \n",
    "    for idx in range(len(x)):\n",
    "        xx = [x[idx]]\n",
    "        yy = model.predict(xx)[0]\n",
    "        price = closed_prices[idx]\n",
    "        #print(f'{idx} {yy} {price}')\n",
    "        back.on_state(0, price)\n",
    "        if(yy == 1):\n",
    "            back.request_buy(price)\n",
    "        else:\n",
    "            back.request_sell(price)\n",
    "    return back"
   ]
  },
  {
   "cell_type": "code",
   "execution_count": 24,
   "id": "b5cea570",
   "metadata": {
    "scrolled": true
   },
   "outputs": [],
   "source": [
    "normalizer = tf.keras.layers.experimental.preprocessing.Normalization()\n",
    "#normalizer = tf.keras.layers.experimental.preprocessing.Normalization(input_shape=(features,))\n",
    "\n",
    "\n",
    "def train_by_step(model, step):\n",
    "    trainX_raw, trainY_raw = load_data(\"simple_full_\", \"train\", path)\n",
    "    x, y, closed_prices = prepare_train_data(trainX_raw, trainY_raw, step)\n",
    "    #print(f\"{trainX_raw.shape}\")\n",
    "    #print(closed_prices)\n",
    "    model.fit(x, y)\n",
    "\n",
    "def eval_step(model, train_set, step):\n",
    "\n",
    "    valX, valY = load_data(f\"simple_{train_set}\", \"train\", path)\n",
    "    \n",
    "    x, y, closed_prices = get_sequencial_data(valX, valY, step)\n",
    "\n",
    "    recall = recall_score(y, model.predict(x))\n",
    "    precision = precision_score(y, model.predict(x))\n",
    "    f1 = f1_score(y, model.predict(x))\n",
    "    \n",
    "    back = backtest_model(model, x, y, closed_prices)\n",
    "    return back, (precision, recall, f1)\n",
    "\n",
    "    \n",
    "param = {'criterion': 'entropy', 'max_depth': 100, 'n_estimators': 30, 'random_state': 42}\n",
    "model = make_pipeline(StandardScaler(), RandomForestClassifier(**param))\n",
    "model = RandomForestClassifier(**param)\n",
    "\n",
    "\n",
    "param = {'depth': 10, 'eval_metric': 'Precision', 'iterations': 500, 'l2_leaf_reg': 1e-19, 'logging_level': 'Silent', 'random_seed': 42}\n",
    "model = make_pipeline(StandardScaler(),CatBoostClassifier(**param))\n"
   ]
  },
  {
   "cell_type": "code",
   "execution_count": 25,
   "id": "450063c5",
   "metadata": {},
   "outputs": [],
   "source": [
    "class MockModel():\n",
    "    \n",
    "    def __init__(self, \n",
    "                 model\n",
    "                ):\n",
    "        self.model = model\n",
    "        self.normalizer = tf.keras.layers.experimental.preprocessing.Normalization()\n",
    "        \n",
    "        \n",
    "    def fit(self, x, y):\n",
    "        self.normalizer.adapt(x)\n",
    "        norm_x = self.normalizer(x).numpy()\n",
    "        self.model.fit(norm_x, y)\n",
    "        \n",
    "    def predict(self, x):\n",
    "        norm_x = self.normalizer(x).numpy()\n",
    "        return self.model.predict(norm_x)\n",
    "        \n",
    "model = MockModel(model)"
   ]
  },
  {
   "cell_type": "code",
   "execution_count": 26,
   "id": "db20aa18",
   "metadata": {},
   "outputs": [],
   "source": [
    "def get_max_profit(x, y, closed_prices, step):\n",
    "\n",
    "    back = BackTest(value = 100, \n",
    "                    verbose = False, \n",
    "                    sell_on_profit = True,\n",
    "                    pending_sell_steps = step)\n",
    "    \n",
    "    for idx in range(len(x)):\n",
    "        yy = y[idx]\n",
    "        price = closed_prices[idx]\n",
    "        #print(f'{idx} {yy} {price}')\n",
    "        back.on_state(0, price)\n",
    "        #print(yy)\n",
    "        if(yy == 1):\n",
    "            back.request_buy(price)\n",
    "        else:\n",
    "            back.request_sell(price)\n",
    "    return back"
   ]
  },
  {
   "cell_type": "code",
   "execution_count": null,
   "id": "ba51d2e1",
   "metadata": {
    "scrolled": false
   },
   "outputs": [
    {
     "name": "stdout",
     "output_type": "stream",
     "text": [
      "Dataset: btcusd17\n"
     ]
    },
    {
     "data": {
      "application/vnd.jupyter.widget-view+json": {
       "model_id": "239451b6449c4d52b4523a70555bb9de",
       "version_major": 2,
       "version_minor": 0
      },
      "text/plain": [
       "  0%|          | 0/5 [00:00<?, ?it/s]"
      ]
     },
     "metadata": {},
     "output_type": "display_data"
    }
   ],
   "source": [
    "%%time\n",
    "trains_sets = [\"btcusd17\", \"backtest\", \"4jul21\"]\n",
    "#trains_sets = [\"backtest\"]\n",
    "#trains_sets = [\"backtest\", \"4jul21\"]\n",
    "dirs = [\"omgusd\", \"btceur\", \"btcusd17\", \"btcusd\", \"ethusd\", \"ltcusd\", \"btcusdAug19\"]\n",
    "\n",
    "#trains_sets = dirs\n",
    "\n",
    "reference_profit = {}\n",
    "models_profit = {}\n",
    "\n",
    "models_profit_metric = {}\n",
    "\n",
    "models_score = {}\n",
    "\n",
    "keys = []\n",
    "\n",
    "steps = 5\n",
    "\n",
    "for train_set in trains_sets:\n",
    "    trainX_raw, trainY_raw = load_data(f\"simple_{train_set}\", \"train\", path)\n",
    "    print(f\"Dataset: {train_set}\")\n",
    "    for step in tqdm(range(1, steps + 1)):\n",
    "        x, y, closed_prices = get_sequencial_data(trainX_raw, trainY_raw, step)\n",
    "        reference = get_max_profit(x, y, closed_prices, step)\n",
    "        \n",
    "        key = f\"{train_set}_{step}\"\n",
    "        keys.append(key)\n",
    "        \n",
    "        reference_profit[key] = reference.get_profit()\n",
    "        \n",
    "        back, score = eval_step(model, train_set, step)\n",
    "        #models_profit[key] = f\"{back.get_profit()}\"\n",
    "        models_profit[key] = back.get_profit()\n",
    "        models_score[key] = score\n",
    "        models_profit_metric[key] = back.get_profit() / reference.get_profit()\n"
   ]
  },
  {
   "cell_type": "code",
   "execution_count": null,
   "id": "9cad6ec0",
   "metadata": {},
   "outputs": [],
   "source": [
    "# Cat\n",
    "\n",
    "for key in keys:\n",
    "    print(f\"{key}: {reference_profit[key]} | {models_profit_metric[key]} | {models_profit[key]} {models_score[key]}\")\n"
   ]
  },
  {
   "cell_type": "code",
   "execution_count": 18,
   "id": "969cd847",
   "metadata": {},
   "outputs": [
    {
     "name": "stdout",
     "output_type": "stream",
     "text": [
      "btcusd17_1: 1020.3814 | 919.6024 (0.9996334982591167, 0.9990842490842491, 0.9993587982046349)\n",
      "btcusd17_2: 778.9804 | 678.9804 (0.9996580027359782, 1.0, 0.9998289721224559)\n",
      "btcusd17_3: 665.1563 | 565.7937 (0.999322951929587, 1.0, 0.9996613613274636)\n",
      "btcusd17_4: 599.8734 | 499.1493 (0.9989905787348586, 0.9998316214850985, 0.9994109231675503)\n",
      "btcusd17_5: 542.1894 | 442.1892 (0.9991666666666666, 0.9998332221480988, 0.9994998332777594)\n",
      "backtest_1: 135.1525 | 1.9994 (0.48417350527549824, 0.4134134134134134, 0.44600431965442766)\n",
      "backtest_2: 103.3888 | -100.3124 (0.5079207920792079, 0.5109561752988048, 0.5094339622641509)\n",
      "backtest_3: 85.2341 | -93.2661 (0.49129989764585463, 0.47244094488188976, 0.48168590065228295)\n",
      "backtest_4: 74.232 | -104.5745 (0.4953271028037383, 0.4622093023255814, 0.4781954887218045)\n",
      "backtest_5: 66.139 | -99.6539 (0.4852492370295015, 0.4658203125, 0.47533632286995514)\n",
      "4jul21_1: 11.0982 | 0.0973 (0.5133333333333333, 0.5460992907801419, 0.529209621993127)\n",
      "4jul21_2: 7.7523 | -102.6983 (0.47560975609756095, 0.5454545454545454, 0.50814332247557)\n",
      "4jul21_3: 5.654 | -103.1339 (0.4025974025974026, 0.4626865671641791, 0.4305555555555556)\n",
      "4jul21_4: 4.1849 | -102.6012 (0.453551912568306, 0.6240601503759399, 0.5253164556962026)\n",
      "4jul21_5: 4.5962 | -103.009 (0.42857142857142855, 0.6050420168067226, 0.5017421602787456)\n"
     ]
    }
   ],
   "source": [
    "# Florest\n",
    "\n",
    "for key in keys:\n",
    "    print(f\"{key}: {reference_profit[key]} | {models_profit[key]} {models_score[key]}\")\n"
   ]
  },
  {
   "cell_type": "code",
   "execution_count": null,
   "id": "1735a102",
   "metadata": {},
   "outputs": [],
   "source": [
    "back = BackTest(value = 100, \n",
    "                verbose = True, \n",
    "                sell_on_profit = False,\n",
    "                pending_sell_steps = step)"
   ]
  },
  {
   "cell_type": "code",
   "execution_count": null,
   "id": "295d79ea",
   "metadata": {},
   "outputs": [],
   "source": [
    "back.on_state(0, 0)\n",
    "back.request_buy(100)"
   ]
  },
  {
   "cell_type": "code",
   "execution_count": null,
   "id": "1a6272db",
   "metadata": {},
   "outputs": [],
   "source": [
    "back.on_state(0, 0)\n",
    "back.request_sell(110)"
   ]
  },
  {
   "cell_type": "code",
   "execution_count": null,
   "id": "ab4ddc2b",
   "metadata": {},
   "outputs": [],
   "source": [
    "back.current"
   ]
  },
  {
   "cell_type": "code",
   "execution_count": null,
   "id": "e86dfc05",
   "metadata": {},
   "outputs": [],
   "source": [
    "bitcoin = 50000\n",
    "money = 100000\n",
    "\n",
    "\n",
    "final = money / bitcoin\n",
    "\n",
    "print(final)"
   ]
  },
  {
   "cell_type": "code",
   "execution_count": null,
   "id": "d9ec3f2c",
   "metadata": {},
   "outputs": [],
   "source": [
    "bitcoin = 1\n",
    "money = 100\n",
    "\n",
    "\n",
    "final = bitcoin * money \n",
    "\n",
    "print(final)"
   ]
  }
 ],
 "metadata": {
  "kernelspec": {
   "display_name": "Python 3",
   "language": "python",
   "name": "python3"
  },
  "language_info": {
   "codemirror_mode": {
    "name": "ipython",
    "version": 3
   },
   "file_extension": ".py",
   "mimetype": "text/x-python",
   "name": "python",
   "nbconvert_exporter": "python",
   "pygments_lexer": "ipython3",
   "version": "3.9.5"
  }
 },
 "nbformat": 4,
 "nbformat_minor": 5
}
