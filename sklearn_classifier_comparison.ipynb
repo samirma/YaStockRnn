{
 "cells": [
  {
   "cell_type": "code",
   "execution_count": 1,
   "id": "706264fe",
   "metadata": {
    "scrolled": true
   },
   "outputs": [],
   "source": [
    "import pandas as pd\n",
    "import data_util\n",
    "from tqdm.notebook import tqdm\n",
    "#from tqdm import tqdm_notebook as tqdm\n",
    "from data_generator import DataGenerator\n",
    "from state_util import StateUtil\n",
    "from tec_an import TecAn\n",
    "import numpy as np\n",
    "from data_util import *\n",
    "from sklearn_model_hyper import *\n",
    "from joblib import dump, load\n",
    "from data_generator import DataGenerator\n",
    "from data_agent import *\n",
    "from stock_agent import *\n",
    "from backtest import *\n",
    "from bitstamp import *\n",
    "\n",
    "from sklearn.utils import shuffle\n",
    "\n",
    "import math\n",
    "import pandas as pd\n",
    "import matplotlib.pyplot as plt\n",
    "import scipy.stats as scs\n",
    "import scikitplot as skplt\n",
    "\n",
    "from keras.wrappers.scikit_learn import KerasClassifier\n",
    "from imblearn.over_sampling import RandomOverSampler\n",
    "import random\n",
    "from catboost import CatBoost\n",
    "\n",
    "import numpy as np\n",
    "import matplotlib.pyplot as plt\n",
    "from matplotlib.colors import ListedColormap\n",
    "from sklearn.model_selection import train_test_split\n",
    "from sklearn.preprocessing import StandardScaler\n",
    "from sklearn.datasets import make_moons, make_circles, make_classification\n",
    "from sklearn.neural_network import MLPClassifier\n",
    "from sklearn.neighbors import KNeighborsClassifier\n",
    "from sklearn.svm import SVC\n",
    "from sklearn.gaussian_process import GaussianProcessClassifier\n",
    "from sklearn.gaussian_process.kernels import RBF\n",
    "from sklearn.tree import DecisionTreeClassifier\n",
    "from catboost import CatBoostClassifier\n",
    "from sklearn.ensemble import RandomForestClassifier, AdaBoostClassifier\n",
    "from sklearn.naive_bayes import GaussianNB\n",
    "from sklearn.discriminant_analysis import QuadraticDiscriminantAnalysis\n",
    "from sklearn.pipeline import make_pipeline\n",
    "from sklearn.linear_model import LogisticRegression\n",
    "from sklearn.utils.validation import check_is_fitted\n",
    "\n",
    "from joblib import dump, load\n",
    "from sklearn.model_selection import train_test_split\n",
    "from sklearn.preprocessing import StandardScaler, MinMaxScaler, Normalizer\n",
    "from sklearn.datasets import make_moons, make_circles, make_classification\n",
    "from sklearn.neural_network import MLPClassifier\n",
    "from sklearn.neighbors import KNeighborsClassifier\n",
    "from sklearn.svm import SVC\n",
    "from sklearn.gaussian_process import GaussianProcessClassifier\n",
    "from sklearn.tree import DecisionTreeClassifier\n",
    "from sklearn.ensemble import RandomForestClassifier, AdaBoostClassifier\n",
    "from sklearn.metrics import *\n",
    "from sklearn.feature_selection import SelectFromModel\n",
    "from sklearn.svm import LinearSVC\n",
    "from sklearn.pipeline import make_pipeline\n",
    "\n",
    "from sklearn.metrics import confusion_matrix\n",
    "from sklearn.model_selection import GridSearchCV\n",
    "from sklearn.pipeline import Pipeline\n",
    "from sklearn.feature_selection import RFE, RFECV\n",
    "\n",
    "path = \"./data/\"\n"
   ]
  },
  {
   "cell_type": "code",
   "execution_count": 2,
   "id": "997362d9",
   "metadata": {},
   "outputs": [],
   "source": [
    "#train_start_list = [1622502000, 1590966000, 1559343600, 1580515200, 1612137600]\n",
    "train_start_list = [1622502000, 1590966000, 1559343600, 1527807600, 1517443200, 1548979200, 1580515200, 1612137600]\n",
    "#train_start_list = [1612137600]\n",
    "train_keys = [\"btcusd\", \"ethusd\", \"bchbtc\"]\n",
    "#train_keys = [\"bchbtc\"]\n",
    "val_start = 1626340500\n",
    "val_end = 1626369600"
   ]
  },
  {
   "cell_type": "code",
   "execution_count": 3,
   "id": "d708f800",
   "metadata": {},
   "outputs": [],
   "source": [
    "load_from_disk = False\n",
    "\n",
    "# '2Min'"
   ]
  },
  {
   "cell_type": "code",
   "execution_count": 4,
   "id": "8cdf69a4",
   "metadata": {},
   "outputs": [],
   "source": [
    "def get_online_data(minutes, sourceDataGenerator, load_from_disk, file_prefix = \"\"):\n",
    "    \n",
    "    online = OnLineDataProvider(\n",
    "                 sourceDataGenerator = sourceDataGenerator,\n",
    "                 minutes = minutes,\n",
    "                 train_keys = train_keys,\n",
    "                 train_limit = 400,\n",
    "                 val_limit = 1000,\n",
    "                 val_keys = [\"btcusd\"],\n",
    "                 val_start = val_start,\n",
    "                 val_end = val_end,\n",
    "                 train_start_list = train_start_list\n",
    "    )\n",
    "\n",
    "    online_path = f'data/online{file_prefix}_{minutes}'\n",
    "    \n",
    "    if (load_from_disk):\n",
    "        online = load(online_path)    \n",
    "    else:\n",
    "        #online.load_train_cache()\n",
    "        online.load_cache()\n",
    "        online.sourceDataGenerator = None\n",
    "        dump(online, online_path)\n",
    "        \n",
    "    \n",
    "    return online"
   ]
  },
  {
   "cell_type": "code",
   "execution_count": 5,
   "id": "1553254e",
   "metadata": {},
   "outputs": [],
   "source": [
    "\n",
    "def getModel():\n",
    "    param = {'criterion': 'entropy', 'max_depth': 100, 'n_estimators': 30, 'random_state': 42}\n",
    "    #param = {'criterion': 'entropy', 'max_depth': 10, 'n_estimators': 3, 'random_state': 42}\n",
    "    coModel = RandomForestClassifier(**param)\n",
    "    return coModel"
   ]
  },
  {
   "cell_type": "code",
   "execution_count": 6,
   "id": "df13d546",
   "metadata": {
    "scrolled": true
   },
   "outputs": [
    {
     "name": "stdout",
     "output_type": "stream",
     "text": [
      "CPU times: user 10 µs, sys: 8 µs, total: 18 µs\n",
      "Wall time: 43.2 µs\n"
     ]
    }
   ],
   "source": [
    "%%time\n",
    "\n",
    "def get_classifiers():\n",
    "    clss = classifiers = [\n",
    "        lambda : MLPClassifier(alpha=1, max_iter=1000, random_state = 42),\n",
    "        \n",
    "        #lambda : GaussianNB(),\n",
    "        #lambda : QuadraticDiscriminantAnalysis(),\n",
    "        #lambda : AdaBoostClassifier(random_state = 42),\n",
    "        #lambda : CatBoostClassifier(logging_level = 'Silent'),\n",
    "        \n",
    "        \n",
    "        #lambda : LogisticRegression(),\n",
    "        #KNeighborsClassifier(3),\n",
    "        #GaussianProcessClassifier(1.0 * RBF(1.0)),\n",
    "        \n",
    "        \n",
    "        #lambda : DecisionTreeClassifier(random_state = 42),\n",
    "        #lambda : RandomForestClassifier(max_depth=50, n_estimators=100, max_features=1),\n",
    "        \n",
    "        #lambda : SVC(gamma=2, C=1, random_state = 42),\n",
    "    ]\n",
    "    \n",
    "    def rand():\n",
    "        ##print(\"rand created\")\n",
    "        param = {'criterion': 'entropy', 'max_depth': 100, 'n_estimators': 30, 'random_state': 42}\n",
    "        return RandomForestClassifier(**param)\n",
    "    \n",
    "\n",
    "    #clss = []\n",
    "    #clss.append(lambda : rand())\n",
    "    return clss\n",
    "\n",
    "\n",
    "estimators = [\n",
    "                #RFE(estimator=DecisionTreeClassifier(random_state=10), n_features_to_select=6),\n",
    "                lambda : RFE(estimator=RandomForestClassifier(random_state=10), n_features_to_select=10),\n",
    "                lambda : RFE(estimator=DecisionTreeClassifier(random_state=10), n_features_to_select=8),\n",
    "                lambda : RFECV(estimator=DecisionTreeClassifier(random_state=10)),\n",
    "                lambda : RFECV(estimator=RandomForestClassifier(random_state=10))\n",
    "                ]\n",
    "\n",
    "\n",
    "def get_all_models():\n",
    "    models = []\n",
    "    classifiers = get_classifiers()\n",
    "    for cls in classifiers:\n",
    "        models.append(cls())\n",
    "        #models.append(MockModel(cls()))\n",
    "        #models.append(MockCoPilotModel(cls(), getModel()))\n",
    "        \n",
    "        for est in estimators:\n",
    "            tmp = lambda : Pipeline(\n",
    "                steps=[\n",
    "                ('s',est()),\n",
    "                ('m',cls())\n",
    "            ])\n",
    "            models.append(tmp())\n",
    "            #models.append(MockModel(tmp()))\n",
    "            #models.append(MockCoPilotModel(tmp(), getModel()))\n",
    "    return models\n"
   ]
  },
  {
   "cell_type": "code",
   "execution_count": 7,
   "id": "64dde41f",
   "metadata": {},
   "outputs": [],
   "source": [
    "get_all_models_factory = lambda : get_all_models()"
   ]
  },
  {
   "cell_type": "code",
   "execution_count": 8,
   "id": "cd02b269",
   "metadata": {
    "scrolled": false
   },
   "outputs": [
    {
     "name": "stdout",
     "output_type": "stream",
     "text": [
      "CPU times: user 4 µs, sys: 1 µs, total: 5 µs\n",
      "Wall time: 8.82 µs\n"
     ]
    }
   ],
   "source": [
    "%%time\n",
    "\n",
    "def test_models(provider, get_all_models_factory, steps = 5):\n",
    "    \n",
    "    score_board_by_step = {}\n",
    "\n",
    "    for step in tqdm(range(1, steps + 1)):\n",
    "        print(f\"Step {step}\")\n",
    "        models_list = get_all_models_factory()\n",
    "        model_result = []\n",
    "        for idx in tqdm(range(len(models_list))):\n",
    "            model_creator = models_list[idx]\n",
    "            model = model_creator\n",
    "            #print(f\"Trainning {model}\")\n",
    "            result = run_trial(model_creator, provider, steps)\n",
    "\n",
    "            result['step'] = step\n",
    "\n",
    "            model_result.append(result)\n",
    "        \n",
    "        score_board_by_step[step] = model_result\n",
    "        \n",
    "    best_models = []\n",
    "\n",
    "    best_model = []\n",
    "\n",
    "    best_score = -1\n",
    "    \n",
    "    best_step = -1\n",
    "    \n",
    "    model_rank = []\n",
    "    \n",
    "    def myFunc(e):\n",
    "        return e['profit']\n",
    "\n",
    "    for step_idx in score_board_by_step:\n",
    "        step_board = score_board_by_step[step_idx]\n",
    "        for result in step_board:\n",
    "            if (result['profit'] > 0):\n",
    "                model_rank.append(result)\n",
    "            \n",
    "    model_rank.sort(key=myFunc, reverse = True)\n",
    "    \n",
    "    return model_rank"
   ]
  },
  {
   "cell_type": "code",
   "execution_count": 9,
   "id": "ecc3cc2b",
   "metadata": {},
   "outputs": [],
   "source": [
    "\n",
    "steps = 1\n",
    "\n",
    "windows = [10, 20, 30, 40]\n"
   ]
  },
  {
   "cell_type": "code",
   "execution_count": 10,
   "id": "3570e420",
   "metadata": {
    "scrolled": false
   },
   "outputs": [],
   "source": [
    "\n",
    "def test_windows(minutes):\n",
    "    results = []\n",
    "    for win in tqdm(windows):\n",
    "        tec = TecAn(windows = win, windows_limit = 100)\n",
    "        sourceDataGenerator = SourceDataGenerator(tec = tec)\n",
    "        online = get_online_data(minutes, sourceDataGenerator, load_from_disk, win)\n",
    "        result = test_models(\n",
    "            online, \n",
    "            get_all_models_factory,\n",
    "            steps = 1\n",
    "        )\n",
    "        results.append(result)\n",
    "    return results\n",
    "    "
   ]
  },
  {
   "cell_type": "code",
   "execution_count": null,
   "id": "5ca2d298",
   "metadata": {
    "scrolled": true
   },
   "outputs": [
    {
     "data": {
      "application/vnd.jupyter.widget-view+json": {
       "model_id": "25bd1ebc7b744fbc8aaa347ba6ec318e",
       "version_major": 2,
       "version_minor": 0
      },
      "text/plain": [
       "  0%|          | 0/4 [00:00<?, ?it/s]"
      ]
     },
     "metadata": {},
     "output_type": "display_data"
    },
    {
     "name": "stdout",
     "output_type": "stream",
     "text": [
      "https://www.bitstamp.net/api/v2/ohlc/btcusd/ -> {'currency_pair': 'btcusd', 'step': 900, 'limit': 400, 'start': 1622502000}\n",
      "Downloaded from 2021-06-01 00:00:00 to 2021-06-05 03:45:00 37477.81\n",
      "Resample 15Min - TecAn ( windows 10, windows_limit 100 )\n",
      "Processing 399 of btcusd\n"
     ]
    },
    {
     "data": {
      "application/vnd.jupyter.widget-view+json": {
       "model_id": "6e43405621a2453c9f3c2ec7cbdee8aa",
       "version_major": 2,
       "version_minor": 0
      },
      "text/plain": [
       "  0%|          | 0/399 [00:00<?, ?it/s]"
      ]
     },
     "metadata": {},
     "output_type": "display_data"
    },
    {
     "name": "stdout",
     "output_type": "stream",
     "text": [
      "https://www.bitstamp.net/api/v2/ohlc/ethusd/ -> {'currency_pair': 'ethusd', 'step': 900, 'limit': 400, 'start': 1622502000}\n",
      "Downloaded from 2021-06-01 00:00:00 to 2021-06-05 03:45:00 2749.93\n",
      "Resample 15Min - TecAn ( windows 10, windows_limit 100 )\n",
      "Processing 399 of ethusd\n"
     ]
    },
    {
     "data": {
      "application/vnd.jupyter.widget-view+json": {
       "model_id": "d17f5efe6b9441c1bc00e47bcd68fa19",
       "version_major": 2,
       "version_minor": 0
      },
      "text/plain": [
       "  0%|          | 0/399 [00:00<?, ?it/s]"
      ]
     },
     "metadata": {},
     "output_type": "display_data"
    },
    {
     "name": "stdout",
     "output_type": "stream",
     "text": [
      "https://www.bitstamp.net/api/v2/ohlc/bchbtc/ -> {'currency_pair': 'bchbtc', 'step': 900, 'limit': 400, 'start': 1622502000}\n",
      "Downloaded from 2021-06-01 00:00:00 to 2021-06-05 03:45:00 0.01822065\n",
      "Resample 15Min - TecAn ( windows 10, windows_limit 100 )\n",
      "Processing 399 of bchbtc\n"
     ]
    },
    {
     "data": {
      "application/vnd.jupyter.widget-view+json": {
       "model_id": "4adb817dd91b40b68b738537e8fc6928",
       "version_major": 2,
       "version_minor": 0
      },
      "text/plain": [
       "  0%|          | 0/399 [00:00<?, ?it/s]"
      ]
     },
     "metadata": {},
     "output_type": "display_data"
    },
    {
     "name": "stdout",
     "output_type": "stream",
     "text": [
      "https://www.bitstamp.net/api/v2/ohlc/btcusd/ -> {'currency_pair': 'btcusd', 'step': 900, 'limit': 400, 'start': 1590966000}\n",
      "Downloaded from 2020-06-01 00:00:00 to 2020-06-05 03:45:00 9799.90\n",
      "Resample 15Min - TecAn ( windows 10, windows_limit 100 )\n",
      "Processing 399 of btcusd\n"
     ]
    },
    {
     "data": {
      "application/vnd.jupyter.widget-view+json": {
       "model_id": "779b856e0f564cbe9a6e648a11117185",
       "version_major": 2,
       "version_minor": 0
      },
      "text/plain": [
       "  0%|          | 0/399 [00:00<?, ?it/s]"
      ]
     },
     "metadata": {},
     "output_type": "display_data"
    },
    {
     "name": "stdout",
     "output_type": "stream",
     "text": [
      "https://www.bitstamp.net/api/v2/ohlc/ethusd/ -> {'currency_pair': 'ethusd', 'step': 900, 'limit': 400, 'start': 1590966000}\n",
      "Downloaded from 2020-06-01 00:00:00 to 2020-06-05 03:45:00 244.06\n",
      "Resample 15Min - TecAn ( windows 10, windows_limit 100 )\n",
      "Processing 399 of ethusd\n"
     ]
    },
    {
     "data": {
      "application/vnd.jupyter.widget-view+json": {
       "model_id": "dc8b48ed432344af89f4167ec5830091",
       "version_major": 2,
       "version_minor": 0
      },
      "text/plain": [
       "  0%|          | 0/399 [00:00<?, ?it/s]"
      ]
     },
     "metadata": {},
     "output_type": "display_data"
    },
    {
     "name": "stdout",
     "output_type": "stream",
     "text": [
      "https://www.bitstamp.net/api/v2/ohlc/bchbtc/ -> {'currency_pair': 'bchbtc', 'step': 900, 'limit': 400, 'start': 1590966000}\n",
      "Downloaded from 2020-06-01 00:00:00 to 2020-06-05 03:45:00 0.02657387\n",
      "Resample 15Min - TecAn ( windows 10, windows_limit 100 )\n",
      "Processing 399 of bchbtc\n"
     ]
    },
    {
     "data": {
      "application/vnd.jupyter.widget-view+json": {
       "model_id": "4e04bd111054492aa9eace65411fb8b7",
       "version_major": 2,
       "version_minor": 0
      },
      "text/plain": [
       "  0%|          | 0/399 [00:00<?, ?it/s]"
      ]
     },
     "metadata": {},
     "output_type": "display_data"
    },
    {
     "name": "stdout",
     "output_type": "stream",
     "text": [
      "https://www.bitstamp.net/api/v2/ohlc/btcusd/ -> {'currency_pair': 'btcusd', 'step': 900, 'limit': 400, 'start': 1559343600}\n",
      "Downloaded from 2019-06-01 00:00:00 to 2019-06-05 03:45:00 7842.75\n",
      "Resample 15Min - TecAn ( windows 10, windows_limit 100 )\n",
      "Processing 399 of btcusd\n"
     ]
    },
    {
     "data": {
      "application/vnd.jupyter.widget-view+json": {
       "model_id": "588a0de4c98f47f999df786753ada079",
       "version_major": 2,
       "version_minor": 0
      },
      "text/plain": [
       "  0%|          | 0/399 [00:00<?, ?it/s]"
      ]
     },
     "metadata": {},
     "output_type": "display_data"
    },
    {
     "name": "stdout",
     "output_type": "stream",
     "text": [
      "https://www.bitstamp.net/api/v2/ohlc/ethusd/ -> {'currency_pair': 'ethusd', 'step': 900, 'limit': 400, 'start': 1559343600}\n",
      "Downloaded from 2019-06-01 00:00:00 to 2019-06-05 03:45:00 242.89\n",
      "Resample 15Min - TecAn ( windows 10, windows_limit 100 )\n",
      "Processing 399 of ethusd\n"
     ]
    },
    {
     "data": {
      "application/vnd.jupyter.widget-view+json": {
       "model_id": "bc232dc93cef47b69e816bd3ea09831d",
       "version_major": 2,
       "version_minor": 0
      },
      "text/plain": [
       "  0%|          | 0/399 [00:00<?, ?it/s]"
      ]
     },
     "metadata": {},
     "output_type": "display_data"
    },
    {
     "name": "stdout",
     "output_type": "stream",
     "text": [
      "https://www.bitstamp.net/api/v2/ohlc/bchbtc/ -> {'currency_pair': 'bchbtc', 'step': 900, 'limit': 400, 'start': 1559343600}\n",
      "Downloaded from 2019-06-01 00:00:00 to 2019-06-05 03:45:00 0.04978424\n",
      "Resample 15Min - TecAn ( windows 10, windows_limit 100 )\n",
      "Processing 399 of bchbtc\n"
     ]
    },
    {
     "data": {
      "application/vnd.jupyter.widget-view+json": {
       "model_id": "f258dc1fbfff4983b0a3a529a9ee0a67",
       "version_major": 2,
       "version_minor": 0
      },
      "text/plain": [
       "  0%|          | 0/399 [00:00<?, ?it/s]"
      ]
     },
     "metadata": {},
     "output_type": "display_data"
    },
    {
     "name": "stdout",
     "output_type": "stream",
     "text": [
      "https://www.bitstamp.net/api/v2/ohlc/btcusd/ -> {'currency_pair': 'btcusd', 'step': 900, 'limit': 400, 'start': 1527807600}\n",
      "Downloaded from 2018-06-01 00:00:00 to 2018-06-05 03:45:00 7424.96\n",
      "Resample 15Min - TecAn ( windows 10, windows_limit 100 )\n",
      "Processing 399 of btcusd\n"
     ]
    },
    {
     "data": {
      "application/vnd.jupyter.widget-view+json": {
       "model_id": "89081ce153eb4864adc41286f1bbbe4a",
       "version_major": 2,
       "version_minor": 0
      },
      "text/plain": [
       "  0%|          | 0/399 [00:00<?, ?it/s]"
      ]
     },
     "metadata": {},
     "output_type": "display_data"
    },
    {
     "name": "stdout",
     "output_type": "stream",
     "text": [
      "https://www.bitstamp.net/api/v2/ohlc/ethusd/ -> {'currency_pair': 'ethusd', 'step': 900, 'limit': 400, 'start': 1527807600}\n",
      "Downloaded from 2018-06-01 00:00:00 to 2018-06-05 03:45:00 582.35\n",
      "Resample 15Min - TecAn ( windows 10, windows_limit 100 )\n",
      "Processing 399 of ethusd\n"
     ]
    },
    {
     "data": {
      "application/vnd.jupyter.widget-view+json": {
       "model_id": "5262a6f963d04b939b4038d205283b74",
       "version_major": 2,
       "version_minor": 0
      },
      "text/plain": [
       "  0%|          | 0/399 [00:00<?, ?it/s]"
      ]
     },
     "metadata": {},
     "output_type": "display_data"
    },
    {
     "name": "stdout",
     "output_type": "stream",
     "text": [
      "https://www.bitstamp.net/api/v2/ohlc/bchbtc/ -> {'currency_pair': 'bchbtc', 'step': 900, 'limit': 400, 'start': 1527807600}\n",
      "Downloaded from 2018-06-01 00:00:00 to 2018-06-05 03:45:00 0.14408660\n",
      "Resample 15Min - TecAn ( windows 10, windows_limit 100 )\n",
      "Processing 399 of bchbtc\n"
     ]
    },
    {
     "data": {
      "application/vnd.jupyter.widget-view+json": {
       "model_id": "3e6cc1d1ae4d4ebfa8e41fa4952d78ea",
       "version_major": 2,
       "version_minor": 0
      },
      "text/plain": [
       "  0%|          | 0/399 [00:00<?, ?it/s]"
      ]
     },
     "metadata": {},
     "output_type": "display_data"
    },
    {
     "name": "stdout",
     "output_type": "stream",
     "text": [
      "https://www.bitstamp.net/api/v2/ohlc/btcusd/ -> {'currency_pair': 'btcusd', 'step': 900, 'limit': 400, 'start': 1517443200}\n",
      "Downloaded from 2018-02-01 00:00:00 to 2018-02-05 03:45:00 8141.14\n",
      "Resample 15Min - TecAn ( windows 10, windows_limit 100 )\n",
      "Processing 399 of btcusd\n"
     ]
    },
    {
     "data": {
      "application/vnd.jupyter.widget-view+json": {
       "model_id": "0862cd82dc054cdd980e71d9fc80aca8",
       "version_major": 2,
       "version_minor": 0
      },
      "text/plain": [
       "  0%|          | 0/399 [00:00<?, ?it/s]"
      ]
     },
     "metadata": {},
     "output_type": "display_data"
    },
    {
     "name": "stdout",
     "output_type": "stream",
     "text": [
      "https://www.bitstamp.net/api/v2/ohlc/ethusd/ -> {'currency_pair': 'ethusd', 'step': 900, 'limit': 400, 'start': 1517443200}\n",
      "Downloaded from 2018-02-01 00:00:00 to 2018-02-05 03:45:00 837.40\n",
      "Resample 15Min - TecAn ( windows 10, windows_limit 100 )\n",
      "Processing 399 of ethusd\n"
     ]
    },
    {
     "data": {
      "application/vnd.jupyter.widget-view+json": {
       "model_id": "a31fcd3a090f47808489f3137f30e538",
       "version_major": 2,
       "version_minor": 0
      },
      "text/plain": [
       "  0%|          | 0/399 [00:00<?, ?it/s]"
      ]
     },
     "metadata": {},
     "output_type": "display_data"
    },
    {
     "name": "stdout",
     "output_type": "stream",
     "text": [
      "https://www.bitstamp.net/api/v2/ohlc/bchbtc/ -> {'currency_pair': 'bchbtc', 'step': 900, 'limit': 400, 'start': 1517443200}\n",
      "Downloaded from 2018-02-01 00:00:00 to 2018-02-05 03:45:00 0.13851397\n",
      "Resample 15Min - TecAn ( windows 10, windows_limit 100 )\n",
      "Processing 399 of bchbtc\n"
     ]
    },
    {
     "data": {
      "application/vnd.jupyter.widget-view+json": {
       "model_id": "805bf3f72850477ebd66ebf9feb9629b",
       "version_major": 2,
       "version_minor": 0
      },
      "text/plain": [
       "  0%|          | 0/399 [00:00<?, ?it/s]"
      ]
     },
     "metadata": {},
     "output_type": "display_data"
    }
   ],
   "source": [
    "%%time\n",
    "results_15 = test_windows(15)"
   ]
  },
  {
   "cell_type": "code",
   "execution_count": null,
   "id": "6df10417",
   "metadata": {},
   "outputs": [],
   "source": [
    "for r in results_15:\n",
    "    best_result = r[0]\n",
    "    best_step_180 = best_result['step']\n",
    "    best_score_180 = best_result['profit']\n",
    "    best_model_180 = best_result['model']\n",
    "    #print(result)\n",
    "    print(f\"{best_step_180}: {best_score_180}\")\n",
    "    print(best_model_180) #0.7366\n"
   ]
  },
  {
   "cell_type": "code",
   "execution_count": null,
   "id": "4c4eaca3",
   "metadata": {
    "scrolled": true
   },
   "outputs": [],
   "source": [
    "results_5 = test_windows(5)"
   ]
  },
  {
   "cell_type": "code",
   "execution_count": null,
   "id": "9235d226",
   "metadata": {},
   "outputs": [],
   "source": [
    "for r in results_5:\n",
    "    if (len(r) > 0):\n",
    "        best_result = r[0]\n",
    "        best_step_180 = best_result['step']\n",
    "        best_score_180 = best_result['profit']\n",
    "        best_model_180 = best_result['model']\n",
    "        #print(result)\n",
    "        print(f\"{best_step_180}: {best_score_180}\")\n",
    "        print(best_model_180)\n",
    "    else:\n",
    "        print(\"Not found\")"
   ]
  },
  {
   "cell_type": "code",
   "execution_count": null,
   "id": "26525d61",
   "metadata": {
    "scrolled": true
   },
   "outputs": [],
   "source": [
    "results_3 = test_windows(3)"
   ]
  },
  {
   "cell_type": "code",
   "execution_count": null,
   "id": "5e4f971a",
   "metadata": {},
   "outputs": [],
   "source": [
    "for r in results_3:\n",
    "    if (len(r) > 0):\n",
    "        best_result = r[0]\n",
    "        best_step_180 = best_result['step']\n",
    "        best_score_180 = best_result['profit']\n",
    "        best_model_180 = best_result['model']\n",
    "        #print(result)\n",
    "        print(f\"{best_step_180}: {best_score_180}\")\n",
    "        print(best_model_180)\n",
    "    else:\n",
    "        print(\"Not found\")"
   ]
  },
  {
   "cell_type": "code",
   "execution_count": null,
   "id": "cea5932a",
   "metadata": {
    "scrolled": true
   },
   "outputs": [],
   "source": [
    "results_1 = test_windows(1)"
   ]
  },
  {
   "cell_type": "code",
   "execution_count": null,
   "id": "53dd5629",
   "metadata": {},
   "outputs": [],
   "source": [
    "for r in results_1:\n",
    "    if (len(r) > 0):\n",
    "        best_result = r[0]\n",
    "        best_step_180 = best_result['step']\n",
    "        best_score_180 = best_result['profit']\n",
    "        best_model_180 = best_result['model']\n",
    "        #print(result)\n",
    "        print(f\"{best_step_180}: {best_score_180}\")\n",
    "        print(best_model_180)\n",
    "    else:\n",
    "        print(\"Not found\")"
   ]
  },
  {
   "cell_type": "code",
   "execution_count": null,
   "id": "a86fe6f7",
   "metadata": {},
   "outputs": [],
   "source": []
  },
  {
   "cell_type": "code",
   "execution_count": null,
   "id": "aa5ba462",
   "metadata": {},
   "outputs": [],
   "source": []
  },
  {
   "cell_type": "code",
   "execution_count": null,
   "id": "aaebd11c",
   "metadata": {},
   "outputs": [],
   "source": []
  },
  {
   "cell_type": "code",
   "execution_count": null,
   "id": "3b6cf329",
   "metadata": {},
   "outputs": [],
   "source": []
  },
  {
   "cell_type": "code",
   "execution_count": null,
   "id": "c51fcc7e",
   "metadata": {},
   "outputs": [],
   "source": [
    "def eval_model(model, provider, step):\n",
    "    \n",
    "    #train_by_step(model, step, provider)\n",
    "    \n",
    "    print(\"Reference\")\n",
    "    for train_set in provider.val_keys:\n",
    "        trainX_raw, trainY_raw = provider.load_val_data(train_set)\n",
    "        x, y, closed_prices = get_sequencial_data(trainX_raw, trainY_raw, step)\n",
    "        reference = get_max_profit(x, y, closed_prices, step)\n",
    "        print(f\"{train_set} Profit: {reference.get_profit()}%\")\n",
    "    print(\"\")\n",
    "    print(\"Model\")\n",
    "    profits = []\n",
    "    for train_set in provider.val_keys:\n",
    "        print(f\"{train_set}\")\n",
    "\n",
    "        valX, valY = provider.load_val_data(train_set)\n",
    "\n",
    "        x, y, closed_prices = get_sequencial_data(valX, valY, step)\n",
    "\n",
    "        #print(np.array(x).shape)\n",
    "\n",
    "        preds = model.predict(x)\n",
    "\n",
    "        recall = recall_score(y, preds)\n",
    "        precision = precision_score(y, preds)\n",
    "        f1 = f1_score(y, preds)\n",
    "        accuracy = accuracy_score(y, preds)\n",
    "\n",
    "        back = BackTest(value = 100, \n",
    "                        verbose = False, \n",
    "                        sell_on_profit = True,\n",
    "                        pending_sell_steps = step)\n",
    "        back = backtest_model(model, x, closed_prices, back)\n",
    "\n",
    "        score = (precision, recall, f1, accuracy)\n",
    "\n",
    "        print(f\"{back.get_profit()}\")\n",
    "        print(f\"{score}\")\n",
    "        print(f\"{back.get_profit() / reference.get_profit()}\")\n",
    "        print(f\"\")\n",
    "\n",
    "        profits.append(back.get_profit())\n",
    "\n",
    "    print(np.average(profits))"
   ]
  },
  {
   "cell_type": "code",
   "execution_count": null,
   "id": "68d44f58",
   "metadata": {},
   "outputs": [],
   "source": [
    "eval_model(best_model_60, online60, best_step_60)"
   ]
  },
  {
   "cell_type": "code",
   "execution_count": null,
   "id": "59872959",
   "metadata": {},
   "outputs": [],
   "source": [
    "eval_model(best_model_180, online180, best_step_180)"
   ]
  },
  {
   "cell_type": "code",
   "execution_count": null,
   "id": "6c558c4e",
   "metadata": {},
   "outputs": [],
   "source": []
  },
  {
   "cell_type": "code",
   "execution_count": null,
   "id": "caec402a",
   "metadata": {},
   "outputs": [],
   "source": []
  },
  {
   "cell_type": "code",
   "execution_count": null,
   "id": "88485088",
   "metadata": {},
   "outputs": [],
   "source": []
  },
  {
   "cell_type": "code",
   "execution_count": null,
   "id": "e5ba9fe3",
   "metadata": {},
   "outputs": [],
   "source": []
  },
  {
   "cell_type": "code",
   "execution_count": null,
   "id": "a40921c6",
   "metadata": {},
   "outputs": [],
   "source": []
  },
  {
   "cell_type": "code",
   "execution_count": null,
   "id": "577b1978",
   "metadata": {},
   "outputs": [],
   "source": [
    "online = OnLineDataProvider(\n",
    "             step = 300,\n",
    "             train_keys = [\"btcusd\"],\n",
    "             train_limit = 10,\n",
    "             val_limit = 1000,\n",
    "             val_keys = [\"btcusd\"],\n",
    "             val_start = 1626131509,\n",
    "             train_start_list = [train_start_list[-1]]\n",
    ")\n",
    "\n",
    "online.load_cache()\n",
    "\n",
    "\n",
    "eval_model(best_model_60, online, best_step_60)"
   ]
  },
  {
   "cell_type": "code",
   "execution_count": null,
   "id": "14e654e7",
   "metadata": {
    "scrolled": false
   },
   "outputs": [],
   "source": []
  },
  {
   "cell_type": "code",
   "execution_count": null,
   "id": "7047c719",
   "metadata": {},
   "outputs": [],
   "source": [
    "online = OnLineDataProvider(\n",
    "             step = 180,\n",
    "             train_keys = [\"btcusd\"],\n",
    "             train_limit = 10,\n",
    "             val_limit = 1000,\n",
    "             val_keys = [\"btcusd\"],\n",
    "             val_start = 1625872309,\n",
    "             train_start_list = [train_start_list[-1]]\n",
    ")\n",
    "\n",
    "online.load_cache()\n",
    "\n",
    "eval_model(best_model_180, online, best_step_60)"
   ]
  },
  {
   "cell_type": "raw",
   "id": "b6f936a5",
   "metadata": {},
   "source": [
    "#180 - 2.238\n",
    "\n",
    "\n",
    "\n",
    "dump(best_model_60, 'model/best_model_60') \n",
    "dump(best_model_180, 'model/best_model_180') \n"
   ]
  },
  {
   "cell_type": "code",
   "execution_count": null,
   "id": "b413a0b9",
   "metadata": {},
   "outputs": [],
   "source": []
  },
  {
   "cell_type": "code",
   "execution_count": null,
   "id": "35dd65db",
   "metadata": {},
   "outputs": [],
   "source": []
  },
  {
   "cell_type": "code",
   "execution_count": null,
   "id": "83fb2346",
   "metadata": {},
   "outputs": [],
   "source": []
  },
  {
   "cell_type": "code",
   "execution_count": null,
   "id": "be8578b2",
   "metadata": {},
   "outputs": [],
   "source": [
    "def test_model(model, set_key, provider, step):\n",
    "    valX, valY = provider.load_val_data(set_key)\n",
    "\n",
    "    x, y, closed_prices = get_sequencial_data(valX, valY, step)\n",
    "    \n",
    "    print(len(x))\n",
    "\n",
    "    preds = model.predict(x)\n",
    "\n",
    "    recall = recall_score(y, preds)\n",
    "    precision = precision_score(y, preds)\n",
    "    f1 = f1_score(y, preds)\n",
    "    accuracy = accuracy_score(y, preds)\n",
    "\n",
    "    back = BackTest(value = 100, \n",
    "                    verbose = True, \n",
    "                    sell_on_profit = True,\n",
    "                    pending_sell_steps = step)\n",
    "    back = backtest_model(model, x, closed_prices, back)\n",
    "    return back"
   ]
  },
  {
   "cell_type": "code",
   "execution_count": null,
   "id": "34ec71c5",
   "metadata": {
    "scrolled": true
   },
   "outputs": [],
   "source": [
    "\n",
    "back = test_model(best_model_60, \"btcusd\", online, 1)"
   ]
  },
  {
   "cell_type": "code",
   "execution_count": null,
   "id": "963ed9df",
   "metadata": {},
   "outputs": [],
   "source": [
    "#back.request_sell(34123.38)\n",
    "back.get_profit()"
   ]
  },
  {
   "cell_type": "code",
   "execution_count": null,
   "id": "bba1db10",
   "metadata": {},
   "outputs": [],
   "source": []
  }
 ],
 "metadata": {
  "kernelspec": {
   "display_name": "Python 3",
   "language": "python",
   "name": "python3"
  },
  "language_info": {
   "codemirror_mode": {
    "name": "ipython",
    "version": 3
   },
   "file_extension": ".py",
   "mimetype": "text/x-python",
   "name": "python",
   "nbconvert_exporter": "python",
   "pygments_lexer": "ipython3",
   "version": "3.9.5"
  }
 },
 "nbformat": 4,
 "nbformat_minor": 5
}
