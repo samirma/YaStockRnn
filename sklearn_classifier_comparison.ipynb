{
 "cells": [
  {
   "cell_type": "code",
   "execution_count": 1,
   "id": "706264fe",
   "metadata": {
    "scrolled": true
   },
   "outputs": [],
   "source": [
    "import pandas as pd\n",
    "import data_util\n",
    "from tqdm.notebook import tqdm\n",
    "#from tqdm import tqdm_notebook as tqdm\n",
    "from data_generator import DataGenerator\n",
    "from tec_an import *\n",
    "import numpy as np\n",
    "from data_util import *\n",
    "from sklearn_model_hyper import *\n",
    "from joblib import dump, load\n",
    "from data_generator import *\n",
    "from data_agent import *\n",
    "from stock_agent import *\n",
    "from backtest import *\n",
    "from bitstamp import *\n",
    "\n",
    "from tqdm.notebook import tqdm\n",
    "\n",
    "import math\n",
    "import pandas as pd\n",
    "import matplotlib.pyplot as plt\n",
    "import scipy.stats as scs\n",
    "import scikitplot as skplt\n",
    "\n",
    "from keras.wrappers.scikit_learn import KerasClassifier\n",
    "from imblearn.over_sampling import RandomOverSampler\n",
    "import random\n",
    "from catboost import CatBoost\n",
    "\n",
    "import numpy as np\n",
    "import matplotlib.pyplot as plt\n",
    "from matplotlib.colors import ListedColormap\n",
    "from sklearn.model_selection import train_test_split\n",
    "from sklearn.datasets import make_moons, make_circles, make_classification\n",
    "from sklearn.neighbors import KNeighborsClassifier\n",
    "from sklearn.svm import SVC\n",
    "from sklearn.gaussian_process.kernels import RBF\n",
    "from sklearn.tree import DecisionTreeClassifier\n",
    "from catboost import CatBoostClassifier\n",
    "from sklearn.ensemble import RandomForestClassifier, AdaBoostClassifier\n",
    "import xgboost as xgb\n",
    "from sklearn.naive_bayes import GaussianNB\n",
    "from sklearn.discriminant_analysis import QuadraticDiscriminantAnalysis\n",
    "from sklearn.linear_model import LogisticRegression\n",
    "from sklearn.utils.validation import check_is_fitted\n",
    "\n",
    "from joblib import dump, load\n",
    "from sklearn.model_selection import train_test_split\n",
    "from sklearn.preprocessing import StandardScaler, MinMaxScaler, Normalizer\n",
    "from sklearn.datasets import make_moons, make_circles, make_classification\n",
    "from sklearn.neural_network import MLPClassifier\n",
    "from sklearn.svm import SVC\n",
    "from sklearn.gaussian_process import GaussianProcessClassifier\n",
    "from sklearn.tree import DecisionTreeClassifier\n",
    "from sklearn.ensemble import RandomForestClassifier, AdaBoostClassifier\n",
    "from sklearn.metrics import *\n",
    "from sklearn.feature_selection import SelectFromModel\n",
    "from sklearn.svm import LinearSVC\n",
    "from sklearn.pipeline import make_pipeline\n",
    "from pytorch_tabnet.tab_model import TabNetClassifier\n",
    "\n",
    "from sklearn.metrics import confusion_matrix\n",
    "from sklearn.pipeline import Pipeline\n",
    "from sklearn.feature_selection import RFE, RFECV\n",
    "\n",
    "path = \"./data/\"\n"
   ]
  },
  {
   "cell_type": "code",
   "execution_count": 2,
   "id": "997362d9",
   "metadata": {},
   "outputs": [],
   "source": [
    "#train_start_list = [1622502000, 1590966000, 1559343600, 1580515200, 1612137600]\n",
    "train_start_list = [1622502000, 1590966000, 1559343600, 1527807600, 1517443200, 1548979200, 1580515200, 1612137600]\n",
    "#train_start_list = [1612137600]\n",
    "train_keys = [\"btcusd\", \"ethusd\", \"bchbtc\"]\n",
    "#train_keys = [\"bchbtc\"]\n",
    "val_start = 1626340500\n",
    "val_end = 1626369600"
   ]
  },
  {
   "cell_type": "code",
   "execution_count": 3,
   "id": "d708f800",
   "metadata": {},
   "outputs": [],
   "source": [
    "load_from_disk = True\n",
    "\n",
    "# '2Min'"
   ]
  },
  {
   "cell_type": "code",
   "execution_count": 4,
   "id": "8c80e42b",
   "metadata": {},
   "outputs": [],
   "source": [
    "def get_online_data(minutes, source_data_generator, load_from_disk, file_prefix = \"\"):\n",
    "    \n",
    "    online = OnLineDataProvider(\n",
    "                 source_data_generator = source_data_generator,\n",
    "                 minutes = minutes,\n",
    "                 train_keys = train_keys,\n",
    "                 train_limit = 1000,\n",
    "                 val_limit = 1000,\n",
    "                 val_keys = [\"btcusd\"],\n",
    "                 val_start = val_start,\n",
    "                 val_end = val_end,\n",
    "                 train_start_list = train_start_list\n",
    "    )\n",
    "\n",
    "    online_path = f'data/online{file_prefix}_{minutes}'\n",
    "    \n",
    "    if (load_from_disk):\n",
    "        online = load(online_path)    \n",
    "    else:\n",
    "        #online.load_train_cache()\n",
    "        online.load_cache()\n",
    "        online.sourceDataGenerator = None\n",
    "        dump(online, online_path)\n",
    "        \n",
    "    \n",
    "    return online"
   ]
  },
  {
   "cell_type": "code",
   "execution_count": 5,
   "id": "7722a4ce",
   "metadata": {},
   "outputs": [],
   "source": [
    "class TabNetClassifierEarly(TabNetClassifier):\n",
    "    def fit(self, X_train, Y_train):\n",
    "        super().fit(X_train, \n",
    "                    Y_train, \n",
    "                    eval_set=[(X_train, Y_train)],\n",
    "                    eval_metric=['balanced_accuracy'])"
   ]
  },
  {
   "cell_type": "code",
   "execution_count": 6,
   "id": "df13d546",
   "metadata": {
    "scrolled": true
   },
   "outputs": [
    {
     "name": "stdout",
     "output_type": "stream",
     "text": [
      "CPU times: user 7 µs, sys: 1 µs, total: 8 µs\n",
      "Wall time: 11 µs\n"
     ]
    }
   ],
   "source": [
    "%%time\n",
    "\n",
    "def get_classifiers():\n",
    "    clss = classifiers = [\n",
    "        lambda : CatBoostClassifier(logging_level = 'Silent'),\n",
    "        \n",
    "        #lambda : make_pipeline(StandardScaler(),\n",
    "        #                        MLPClassifier(\n",
    "        #                            solver='lbfgs', alpha=1, random_state=1, max_iter=20000,\n",
    "        #                            early_stopping=True)\n",
    "        #                        ),\n",
    "        \n",
    "        #lambda : MLPClassifier(alpha=1, random_state=1, max_iter=20000, early_stopping=True),\n",
    "        \n",
    "        lambda : xgb.XGBClassifier(random_state=1,\n",
    "                                   objective = \"binary:logistic\",\n",
    "                                   eval_metric='mlogloss',\n",
    "                                   learning_rate=0.01),\n",
    "        \n",
    "        #lambda : GaussianNB(),\n",
    "        #lambda : QuadraticDiscriminantAnalysis(),\n",
    "        #lambda : AdaBoostClassifier(random_state = 42),\n",
    "        \n",
    "        lambda : TabNetClassifierEarly(verbose=0),\n",
    "        \n",
    "        #lambda : KNeighborsClassifier(3),\n",
    "        #lambda : GaussianProcessClassifier(1.0 * RBF(1.0)),\n",
    "        \n",
    "        \n",
    "        lambda : DecisionTreeClassifier(random_state = 42),\n",
    "        #lambda : RandomForestClassifier(max_depth=50, n_estimators=100, max_features=1),\n",
    "        lambda : rand(),\n",
    "        \n",
    "        #lambda : SVC(gamma=2, C=1, random_state = 42),\n",
    "    ]\n",
    "    \n",
    "    def rand():\n",
    "        ##print(\"rand created\")\n",
    "        param = {'criterion': 'entropy', 'max_depth': 100, 'n_estimators': 30, 'random_state': 42}\n",
    "        return RandomForestClassifier(**param)\n",
    "    \n",
    "\n",
    "    clss = []\n",
    "    clss.append(lambda : rand())\n",
    "    #clss.append(lambda : make_pipeline(StandardScaler(),TabNetClassifierEarly(verbose=0)))\n",
    "    return clss\n",
    "\n",
    "estimators = [\n",
    "                lambda : RFE(estimator=RandomForestClassifier(random_state=10), n_features_to_select=10),\n",
    "                lambda : RFE(estimator=DecisionTreeClassifier(random_state=10), n_features_to_select=8),\n",
    "                lambda : RFECV(estimator=DecisionTreeClassifier(random_state=10)),\n",
    "                lambda : RFECV(estimator=RandomForestClassifier(random_state=10))\n",
    "                ]\n",
    "\n",
    "\n",
    "scoring = [\n",
    "    'accuracy', \n",
    "    'f1', \n",
    "    'precision', \n",
    "    'recall'\n",
    "]\n",
    "\n",
    "estimators = []\n",
    "\n",
    "#for score in scoring:\n",
    "    \n",
    "estimators.append(lambda : RFECV(estimator=DecisionTreeClassifier(random_state=10),\n",
    "                    scoring='accuracy'))    \n",
    "estimators.append(lambda : RFECV(estimator=DecisionTreeClassifier(random_state=10),\n",
    "                    scoring='f1'))    \n",
    "estimators.append(lambda : RFECV(estimator=DecisionTreeClassifier(random_state=10),\n",
    "                    scoring='precision'))    \n",
    "estimators = []\n",
    "estimators.append(lambda : RFECV(estimator=DecisionTreeClassifier(random_state=10),\n",
    "                    scoring='recall'))\n",
    "\n",
    "def add_normalizers(models, cls):\n",
    "    models.append(make_pipeline(StandardScaler(),cls()))\n",
    "    models.append(make_pipeline(MinMaxScaler(),cls()))\n",
    "    models.append(make_pipeline(Normalizer(),cls()))\n",
    "\n",
    "\n",
    "def get_all_models():\n",
    "    models = []\n",
    "    classifiers = get_classifiers()\n",
    "    for cls in classifiers:\n",
    "        add_normalizers(models, cls)\n",
    "        #models.append(MockModel(cls()))\n",
    "        #models.append(MockCoPilotModel(cls(), getModel()))\n",
    "        \n",
    "        for est in estimators:\n",
    "            tmp = lambda : Pipeline(\n",
    "                steps=[\n",
    "                ('s',est()),\n",
    "                ('m',cls())\n",
    "            ])\n",
    "            add_normalizers(models, tmp)\n",
    "            #models.append(tmp())\n",
    "            #models.append(MockModel(tmp()))\n",
    "            #models.append(MockCoPilotModel(tmp(), getModel()))\n",
    "    return models\n"
   ]
  },
  {
   "cell_type": "code",
   "execution_count": 7,
   "id": "64dde41f",
   "metadata": {},
   "outputs": [],
   "source": [
    "get_all_models_factory = lambda : get_all_models()"
   ]
  },
  {
   "cell_type": "code",
   "execution_count": 8,
   "id": "cd02b269",
   "metadata": {
    "scrolled": false
   },
   "outputs": [
    {
     "name": "stdout",
     "output_type": "stream",
     "text": [
      "CPU times: user 5 µs, sys: 1e+03 ns, total: 6 µs\n",
      "Wall time: 9.06 µs\n"
     ]
    }
   ],
   "source": [
    "%%time\n",
    "\n",
    "def test_models(provider, get_all_models_factory, steps = [1]):\n",
    "    \n",
    "    score_board_by_step = {}\n",
    "\n",
    "    for step in steps:\n",
    "        print(f\"Step {step}\")\n",
    "        models_list = get_all_models_factory()\n",
    "        model_result = []\n",
    "        for idx in tqdm(range(len(models_list))):\n",
    "            model_creator = models_list[idx]\n",
    "            model = model_creator\n",
    "            #print(f\"Trainning {model}\")\n",
    "            train_by_step(model, step, provider)\n",
    "            \n",
    "            result = run_trial(model, provider, step)\n",
    "\n",
    "            result['step'] = step\n",
    "\n",
    "            model_result.append(result)\n",
    "        \n",
    "        score_board_by_step[step] = model_result\n",
    "        \n",
    "    best_models = []\n",
    "\n",
    "    best_model = []\n",
    "\n",
    "    best_score = -1\n",
    "    \n",
    "    best_step = -1\n",
    "    \n",
    "    model_rank = []\n",
    "    \n",
    "    def myFunc(e):\n",
    "        return e['profit']\n",
    "\n",
    "    for step_idx in score_board_by_step:\n",
    "        step_board = score_board_by_step[step_idx]\n",
    "        for result in step_board:\n",
    "            if (result['profit'] > 0):\n",
    "                model_rank.append(result)\n",
    "            \n",
    "    model_rank.sort(key=myFunc, reverse = True)\n",
    "    \n",
    "    return model_rank"
   ]
  },
  {
   "cell_type": "code",
   "execution_count": 9,
   "id": "ecc3cc2b",
   "metadata": {},
   "outputs": [],
   "source": [
    "\n",
    "steps = [1, 5]\n",
    "\n",
    "windows = [5, 10, 20, 30, 40]\n",
    "#windows = [40]\n",
    "\n",
    "minutes = [15, 5, 3, 1]\n",
    "#minutes = [3]\n"
   ]
  },
  {
   "cell_type": "code",
   "execution_count": 10,
   "id": "3570e420",
   "metadata": {
    "scrolled": false
   },
   "outputs": [],
   "source": [
    "def process_model(minu, win, step, model, provider):\n",
    "        #print(f\"Training {model} {provider} \")\n",
    "        train_by_step(model, step, provider)\n",
    "        #print(f\"Checking {minu} {win} {step} \")\n",
    "        result = run_trial(model, provider, step)\n",
    "        result['window'] = win\n",
    "        result['minutes'] = minu\n",
    "        result['step'] = step\n",
    "        #print(result)\n",
    "        return result"
   ]
  },
  {
   "cell_type": "code",
   "execution_count": 11,
   "id": "bda521c3",
   "metadata": {},
   "outputs": [
    {
     "data": {
      "application/vnd.jupyter.widget-view+json": {
       "model_id": "4b502b1a4067423b883f9b3ac64cc143",
       "version_major": 2,
       "version_minor": 0
      },
      "text/plain": [
       "  0%|          | 0/240 [00:00<?, ?it/s]"
      ]
     },
     "metadata": {},
     "output_type": "display_data"
    },
    {
     "name": "stdout",
     "output_type": "stream",
     "text": [
      "CPU times: user 4h 23min 34s, sys: 2min 13s, total: 4h 25min 48s\n",
      "Wall time: 4h 31min 45s\n"
     ]
    }
   ],
   "source": [
    "%%time\n",
    "\n",
    "min_results = []\n",
    "\n",
    "process_list = []\n",
    "\n",
    "for minu in minutes:\n",
    "    results = []\n",
    "    for win in windows:\n",
    "        tec = TecAn(windows = win, windows_limit = 100)\n",
    "        sourceDataGenerator = SourceDataGenerator(tec = tec)\n",
    "        provider = get_online_data(minu, sourceDataGenerator, load_from_disk, win)\n",
    "        for step in steps:\n",
    "            models_list = get_all_models_factory()\n",
    "            for idx in range(len(models_list)):\n",
    "                model_creator = models_list[idx]\n",
    "                model = model_creator\n",
    "                process = {}\n",
    "                process['window'] = win\n",
    "                process['minutes'] = minu\n",
    "                process['step'] = step\n",
    "                process['model'] = model\n",
    "                process['provider'] = provider\n",
    "                process_list.append(process)\n",
    "\n",
    "for process in tqdm(process_list):\n",
    "    win = process['window'] \n",
    "    minu = process['minutes']\n",
    "    step = process['step'] \n",
    "    model = process['model'] \n",
    "    provider = process['provider'] \n",
    "    \n",
    "    tec = TecAn(windows = win, windows_limit = 100)\n",
    "    sourceDataGenerator = SourceDataGenerator(tec = tec)\n",
    "    provider = get_online_data(minu, sourceDataGenerator, load_from_disk, win)\n",
    "    \n",
    "    result = process_model(minu, win, step, model, provider)\n",
    "    min_results.append(result)"
   ]
  },
  {
   "cell_type": "code",
   "execution_count": 12,
   "id": "1d714ba9",
   "metadata": {},
   "outputs": [
    {
     "data": {
      "text/plain": [
       "['model/all_results']"
      ]
     },
     "execution_count": 12,
     "metadata": {},
     "output_type": "execute_result"
    }
   ],
   "source": [
    "model_path = f'model/all_results'\n",
    "dump(min_results, model_path)"
   ]
  },
  {
   "cell_type": "code",
   "execution_count": 13,
   "id": "9c2dddf0",
   "metadata": {},
   "outputs": [
    {
     "name": "stdout",
     "output_type": "stream",
     "text": [
      "Minutes=15 Window=5 Step=1 | 100.01436751411367\n",
      "Pipeline(steps=[('standardscaler', StandardScaler()),\n",
      "                ('randomforestclassifier',\n",
      "                 RandomForestClassifier(criterion='entropy', max_depth=100,\n",
      "                                        n_estimators=30, random_state=42))])\n",
      "\n",
      "Minutes=15 Window=5 Step=1 | 100.01436751411367\n",
      "Pipeline(steps=[('standardscaler', StandardScaler()),\n",
      "                ('pipeline',\n",
      "                 Pipeline(steps=[('s',\n",
      "                                  RFECV(estimator=DecisionTreeClassifier(random_state=10),\n",
      "                                        scoring='recall')),\n",
      "                                 ('m',\n",
      "                                  RandomForestClassifier(criterion='entropy',\n",
      "                                                         max_depth=100,\n",
      "                                                         n_estimators=30,\n",
      "                                                         random_state=42))]))])\n",
      "\n",
      "Minutes=15 Window=5 Step=1 | 100.75470835025597\n",
      "Pipeline(steps=[('minmaxscaler', MinMaxScaler()),\n",
      "                ('pipeline',\n",
      "                 Pipeline(steps=[('s',\n",
      "                                  RFECV(estimator=DecisionTreeClassifier(random_state=10),\n",
      "                                        scoring='recall')),\n",
      "                                 ('m',\n",
      "                                  RandomForestClassifier(criterion='entropy',\n",
      "                                                         max_depth=100,\n",
      "                                                         n_estimators=30,\n",
      "                                                         random_state=42))]))])\n",
      "\n",
      "Minutes=15 Window=10 Step=1 | 106.45934826441461\n",
      "Pipeline(steps=[('standardscaler', StandardScaler()),\n",
      "                ('randomforestclassifier',\n",
      "                 RandomForestClassifier(criterion='entropy', max_depth=100,\n",
      "                                        n_estimators=30, random_state=42))])\n",
      "\n",
      "Minutes=15 Window=10 Step=1 | 108.86938817937694\n",
      "Pipeline(steps=[('minmaxscaler', MinMaxScaler()),\n",
      "                ('randomforestclassifier',\n",
      "                 RandomForestClassifier(criterion='entropy', max_depth=100,\n",
      "                                        n_estimators=30, random_state=42))])\n",
      "\n",
      "Minutes=15 Window=10 Step=1 | 109.43121445370366\n",
      "Pipeline(steps=[('minmaxscaler', MinMaxScaler()),\n",
      "                ('pipeline',\n",
      "                 Pipeline(steps=[('s',\n",
      "                                  RFECV(estimator=DecisionTreeClassifier(random_state=10),\n",
      "                                        scoring='recall')),\n",
      "                                 ('m',\n",
      "                                  RandomForestClassifier(criterion='entropy',\n",
      "                                                         max_depth=100,\n",
      "                                                         n_estimators=30,\n",
      "                                                         random_state=42))]))])\n",
      "\n",
      "Minutes=15 Window=10 Step=1 | 101.56670281250578\n",
      "Pipeline(steps=[('normalizer', Normalizer()),\n",
      "                ('pipeline',\n",
      "                 Pipeline(steps=[('s',\n",
      "                                  RFECV(estimator=DecisionTreeClassifier(random_state=10),\n",
      "                                        scoring='recall')),\n",
      "                                 ('m',\n",
      "                                  RandomForestClassifier(criterion='entropy',\n",
      "                                                         max_depth=100,\n",
      "                                                         n_estimators=30,\n",
      "                                                         random_state=42))]))])\n",
      "\n",
      "Minutes=15 Window=20 Step=1 | 110.51658317764043\n",
      "Pipeline(steps=[('standardscaler', StandardScaler()),\n",
      "                ('randomforestclassifier',\n",
      "                 RandomForestClassifier(criterion='entropy', max_depth=100,\n",
      "                                        n_estimators=30, random_state=42))])\n",
      "\n",
      "Minutes=15 Window=20 Step=1 | 103.66960968488361\n",
      "Pipeline(steps=[('normalizer', Normalizer()),\n",
      "                ('randomforestclassifier',\n",
      "                 RandomForestClassifier(criterion='entropy', max_depth=100,\n",
      "                                        n_estimators=30, random_state=42))])\n",
      "\n",
      "Minutes=15 Window=30 Step=1 | 103.69364307124795\n",
      "Pipeline(steps=[('standardscaler', StandardScaler()),\n",
      "                ('randomforestclassifier',\n",
      "                 RandomForestClassifier(criterion='entropy', max_depth=100,\n",
      "                                        n_estimators=30, random_state=42))])\n",
      "\n",
      "Minutes=15 Window=30 Step=1 | 104.62973571951268\n",
      "Pipeline(steps=[('normalizer', Normalizer()),\n",
      "                ('randomforestclassifier',\n",
      "                 RandomForestClassifier(criterion='entropy', max_depth=100,\n",
      "                                        n_estimators=30, random_state=42))])\n",
      "\n",
      "Minutes=15 Window=30 Step=1 | 107.96955189926528\n",
      "Pipeline(steps=[('normalizer', Normalizer()),\n",
      "                ('pipeline',\n",
      "                 Pipeline(steps=[('s',\n",
      "                                  RFECV(estimator=DecisionTreeClassifier(random_state=10),\n",
      "                                        scoring='recall')),\n",
      "                                 ('m',\n",
      "                                  RandomForestClassifier(criterion='entropy',\n",
      "                                                         max_depth=100,\n",
      "                                                         n_estimators=30,\n",
      "                                                         random_state=42))]))])\n",
      "\n",
      "Minutes=15 Window=40 Step=1 | 105.92018458856937\n",
      "Pipeline(steps=[('minmaxscaler', MinMaxScaler()),\n",
      "                ('randomforestclassifier',\n",
      "                 RandomForestClassifier(criterion='entropy', max_depth=100,\n",
      "                                        n_estimators=30, random_state=42))])\n",
      "\n",
      "Minutes=15 Window=40 Step=1 | 102.98948426373286\n",
      "Pipeline(steps=[('normalizer', Normalizer()),\n",
      "                ('randomforestclassifier',\n",
      "                 RandomForestClassifier(criterion='entropy', max_depth=100,\n",
      "                                        n_estimators=30, random_state=42))])\n",
      "\n",
      "Minutes=15 Window=40 Step=1 | 107.54102490786364\n",
      "Pipeline(steps=[('standardscaler', StandardScaler()),\n",
      "                ('pipeline',\n",
      "                 Pipeline(steps=[('s',\n",
      "                                  RFECV(estimator=DecisionTreeClassifier(random_state=10),\n",
      "                                        scoring='recall')),\n",
      "                                 ('m',\n",
      "                                  RandomForestClassifier(criterion='entropy',\n",
      "                                                         max_depth=100,\n",
      "                                                         n_estimators=30,\n",
      "                                                         random_state=42))]))])\n",
      "\n",
      "Minutes=15 Window=40 Step=1 | 102.98948426373286\n",
      "Pipeline(steps=[('normalizer', Normalizer()),\n",
      "                ('pipeline',\n",
      "                 Pipeline(steps=[('s',\n",
      "                                  RFECV(estimator=DecisionTreeClassifier(random_state=10),\n",
      "                                        scoring='recall')),\n",
      "                                 ('m',\n",
      "                                  RandomForestClassifier(criterion='entropy',\n",
      "                                                         max_depth=100,\n",
      "                                                         n_estimators=30,\n",
      "                                                         random_state=42))]))])\n",
      "\n",
      "Minutes=5 Window=10 Step=1 | 100.57223553895554\n",
      "Pipeline(steps=[('minmaxscaler', MinMaxScaler()),\n",
      "                ('randomforestclassifier',\n",
      "                 RandomForestClassifier(criterion='entropy', max_depth=100,\n",
      "                                        n_estimators=30, random_state=42))])\n",
      "\n",
      "Minutes=5 Window=10 Step=1 | 109.30167581889944\n",
      "Pipeline(steps=[('normalizer', Normalizer()),\n",
      "                ('randomforestclassifier',\n",
      "                 RandomForestClassifier(criterion='entropy', max_depth=100,\n",
      "                                        n_estimators=30, random_state=42))])\n",
      "\n",
      "Minutes=5 Window=10 Step=1 | 109.30167581889944\n",
      "Pipeline(steps=[('normalizer', Normalizer()),\n",
      "                ('pipeline',\n",
      "                 Pipeline(steps=[('s',\n",
      "                                  RFECV(estimator=DecisionTreeClassifier(random_state=10),\n",
      "                                        scoring='recall')),\n",
      "                                 ('m',\n",
      "                                  RandomForestClassifier(criterion='entropy',\n",
      "                                                         max_depth=100,\n",
      "                                                         n_estimators=30,\n",
      "                                                         random_state=42))]))])\n",
      "\n",
      "Minutes=5 Window=20 Step=1 | 100.20315870790316\n",
      "Pipeline(steps=[('standardscaler', StandardScaler()),\n",
      "                ('randomforestclassifier',\n",
      "                 RandomForestClassifier(criterion='entropy', max_depth=100,\n",
      "                                        n_estimators=30, random_state=42))])\n",
      "\n",
      "Minutes=5 Window=20 Step=1 | 101.75590348568932\n",
      "Pipeline(steps=[('normalizer', Normalizer()),\n",
      "                ('randomforestclassifier',\n",
      "                 RandomForestClassifier(criterion='entropy', max_depth=100,\n",
      "                                        n_estimators=30, random_state=42))])\n",
      "\n",
      "Minutes=5 Window=30 Step=1 | 103.19894610158734\n",
      "Pipeline(steps=[('normalizer', Normalizer()),\n",
      "                ('randomforestclassifier',\n",
      "                 RandomForestClassifier(criterion='entropy', max_depth=100,\n",
      "                                        n_estimators=30, random_state=42))])\n",
      "\n",
      "Minutes=5 Window=40 Step=1 | 102.43430847830109\n",
      "Pipeline(steps=[('minmaxscaler', MinMaxScaler()),\n",
      "                ('randomforestclassifier',\n",
      "                 RandomForestClassifier(criterion='entropy', max_depth=100,\n",
      "                                        n_estimators=30, random_state=42))])\n",
      "\n",
      "Minutes=5 Window=40 Step=1 | 103.31905516337095\n",
      "Pipeline(steps=[('normalizer', Normalizer()),\n",
      "                ('randomforestclassifier',\n",
      "                 RandomForestClassifier(criterion='entropy', max_depth=100,\n",
      "                                        n_estimators=30, random_state=42))])\n",
      "\n",
      "Minutes=5 Window=40 Step=1 | 102.43430847830109\n"
     ]
    },
    {
     "name": "stdout",
     "output_type": "stream",
     "text": [
      "Pipeline(steps=[('minmaxscaler', MinMaxScaler()),\n",
      "                ('pipeline',\n",
      "                 Pipeline(steps=[('s',\n",
      "                                  RFECV(estimator=DecisionTreeClassifier(random_state=10),\n",
      "                                        scoring='recall')),\n",
      "                                 ('m',\n",
      "                                  RandomForestClassifier(criterion='entropy',\n",
      "                                                         max_depth=100,\n",
      "                                                         n_estimators=30,\n",
      "                                                         random_state=42))]))])\n",
      "\n",
      "Minutes=3 Window=5 Step=1 | 100.71844560982993\n",
      "Pipeline(steps=[('minmaxscaler', MinMaxScaler()),\n",
      "                ('pipeline',\n",
      "                 Pipeline(steps=[('s',\n",
      "                                  RFECV(estimator=DecisionTreeClassifier(random_state=10),\n",
      "                                        scoring='recall')),\n",
      "                                 ('m',\n",
      "                                  RandomForestClassifier(criterion='entropy',\n",
      "                                                         max_depth=100,\n",
      "                                                         n_estimators=30,\n",
      "                                                         random_state=42))]))])\n",
      "\n",
      "Minutes=3 Window=5 Step=1 | 100.40589582316468\n",
      "Pipeline(steps=[('normalizer', Normalizer()),\n",
      "                ('pipeline',\n",
      "                 Pipeline(steps=[('s',\n",
      "                                  RFECV(estimator=DecisionTreeClassifier(random_state=10),\n",
      "                                        scoring='recall')),\n",
      "                                 ('m',\n",
      "                                  RandomForestClassifier(criterion='entropy',\n",
      "                                                         max_depth=100,\n",
      "                                                         n_estimators=30,\n",
      "                                                         random_state=42))]))])\n",
      "\n",
      "Minutes=3 Window=10 Step=1 | 100.29727424132987\n",
      "Pipeline(steps=[('standardscaler', StandardScaler()),\n",
      "                ('randomforestclassifier',\n",
      "                 RandomForestClassifier(criterion='entropy', max_depth=100,\n",
      "                                        n_estimators=30, random_state=42))])\n",
      "\n",
      "Minutes=3 Window=10 Step=1 | 101.7614675607038\n",
      "Pipeline(steps=[('normalizer', Normalizer()),\n",
      "                ('randomforestclassifier',\n",
      "                 RandomForestClassifier(criterion='entropy', max_depth=100,\n",
      "                                        n_estimators=30, random_state=42))])\n",
      "\n",
      "Minutes=3 Window=10 Step=1 | 100.05065588117135\n",
      "Pipeline(steps=[('standardscaler', StandardScaler()),\n",
      "                ('pipeline',\n",
      "                 Pipeline(steps=[('s',\n",
      "                                  RFECV(estimator=DecisionTreeClassifier(random_state=10),\n",
      "                                        scoring='recall')),\n",
      "                                 ('m',\n",
      "                                  RandomForestClassifier(criterion='entropy',\n",
      "                                                         max_depth=100,\n",
      "                                                         n_estimators=30,\n",
      "                                                         random_state=42))]))])\n",
      "\n",
      "Minutes=3 Window=30 Step=1 | 100.00342848896511\n",
      "Pipeline(steps=[('minmaxscaler', MinMaxScaler()),\n",
      "                ('randomforestclassifier',\n",
      "                 RandomForestClassifier(criterion='entropy', max_depth=100,\n",
      "                                        n_estimators=30, random_state=42))])\n",
      "\n",
      "Minutes=3 Window=40 Step=1 | 101.15105652661134\n",
      "Pipeline(steps=[('standardscaler', StandardScaler()),\n",
      "                ('randomforestclassifier',\n",
      "                 RandomForestClassifier(criterion='entropy', max_depth=100,\n",
      "                                        n_estimators=30, random_state=42))])\n",
      "\n",
      "Minutes=3 Window=40 Step=1 | 100.4074271973064\n",
      "Pipeline(steps=[('minmaxscaler', MinMaxScaler()),\n",
      "                ('randomforestclassifier',\n",
      "                 RandomForestClassifier(criterion='entropy', max_depth=100,\n",
      "                                        n_estimators=30, random_state=42))])\n",
      "\n",
      "Minutes=1 Window=5 Step=1 | 100.03379323265345\n",
      "Pipeline(steps=[('normalizer', Normalizer()),\n",
      "                ('randomforestclassifier',\n",
      "                 RandomForestClassifier(criterion='entropy', max_depth=100,\n",
      "                                        n_estimators=30, random_state=42))])\n",
      "\n",
      "Minutes=1 Window=5 Step=1 | 100.65650202597746\n",
      "Pipeline(steps=[('standardscaler', StandardScaler()),\n",
      "                ('pipeline',\n",
      "                 Pipeline(steps=[('s',\n",
      "                                  RFECV(estimator=DecisionTreeClassifier(random_state=10),\n",
      "                                        scoring='recall')),\n",
      "                                 ('m',\n",
      "                                  RandomForestClassifier(criterion='entropy',\n",
      "                                                         max_depth=100,\n",
      "                                                         n_estimators=30,\n",
      "                                                         random_state=42))]))])\n",
      "\n",
      "Minutes=1 Window=5 Step=1 | 100.43935506100237\n",
      "Pipeline(steps=[('normalizer', Normalizer()),\n",
      "                ('pipeline',\n",
      "                 Pipeline(steps=[('s',\n",
      "                                  RFECV(estimator=DecisionTreeClassifier(random_state=10),\n",
      "                                        scoring='recall')),\n",
      "                                 ('m',\n",
      "                                  RandomForestClassifier(criterion='entropy',\n",
      "                                                         max_depth=100,\n",
      "                                                         n_estimators=30,\n",
      "                                                         random_state=42))]))])\n",
      "\n",
      "Minutes=1 Window=10 Step=1 | 100.21768018724055\n",
      "Pipeline(steps=[('standardscaler', StandardScaler()),\n",
      "                ('randomforestclassifier',\n",
      "                 RandomForestClassifier(criterion='entropy', max_depth=100,\n",
      "                                        n_estimators=30, random_state=42))])\n",
      "\n",
      "Minutes=1 Window=10 Step=1 | 100.42624175371004\n",
      "Pipeline(steps=[('minmaxscaler', MinMaxScaler()),\n",
      "                ('randomforestclassifier',\n",
      "                 RandomForestClassifier(criterion='entropy', max_depth=100,\n",
      "                                        n_estimators=30, random_state=42))])\n",
      "\n",
      "Minutes=1 Window=10 Step=1 | 100.04778007365884\n",
      "Pipeline(steps=[('normalizer', Normalizer()),\n",
      "                ('randomforestclassifier',\n",
      "                 RandomForestClassifier(criterion='entropy', max_depth=100,\n",
      "                                        n_estimators=30, random_state=42))])\n",
      "\n",
      "Minutes=1 Window=10 Step=1 | 100.01004333767136\n",
      "Pipeline(steps=[('standardscaler', StandardScaler()),\n",
      "                ('pipeline',\n",
      "                 Pipeline(steps=[('s',\n",
      "                                  RFECV(estimator=DecisionTreeClassifier(random_state=10),\n",
      "                                        scoring='recall')),\n",
      "                                 ('m',\n",
      "                                  RandomForestClassifier(criterion='entropy',\n",
      "                                                         max_depth=100,\n",
      "                                                         n_estimators=30,\n",
      "                                                         random_state=42))]))])\n",
      "\n",
      "Minutes=1 Window=10 Step=1 | 100.17571575209632\n",
      "Pipeline(steps=[('minmaxscaler', MinMaxScaler()),\n",
      "                ('pipeline',\n",
      "                 Pipeline(steps=[('s',\n",
      "                                  RFECV(estimator=DecisionTreeClassifier(random_state=10),\n",
      "                                        scoring='recall')),\n",
      "                                 ('m',\n",
      "                                  RandomForestClassifier(criterion='entropy',\n",
      "                                                         max_depth=100,\n",
      "                                                         n_estimators=30,\n",
      "                                                         random_state=42))]))])\n",
      "\n",
      "Minutes=1 Window=10 Step=1 | 100.05941768734493\n",
      "Pipeline(steps=[('normalizer', Normalizer()),\n",
      "                ('pipeline',\n",
      "                 Pipeline(steps=[('s',\n",
      "                                  RFECV(estimator=DecisionTreeClassifier(random_state=10),\n",
      "                                        scoring='recall')),\n",
      "                                 ('m',\n",
      "                                  RandomForestClassifier(criterion='entropy',\n",
      "                                                         max_depth=100,\n",
      "                                                         n_estimators=30,\n",
      "                                                         random_state=42))]))])\n",
      "\n",
      "Minutes=1 Window=20 Step=1 | 100.0086962907278\n",
      "Pipeline(steps=[('standardscaler', StandardScaler()),\n",
      "                ('randomforestclassifier',\n",
      "                 RandomForestClassifier(criterion='entropy', max_depth=100,\n",
      "                                        n_estimators=30, random_state=42))])\n",
      "\n",
      "Minutes=1 Window=20 Step=1 | 100.50683816892415\n",
      "Pipeline(steps=[('normalizer', Normalizer()),\n",
      "                ('randomforestclassifier',\n",
      "                 RandomForestClassifier(criterion='entropy', max_depth=100,\n",
      "                                        n_estimators=30, random_state=42))])\n",
      "\n",
      "Minutes=1 Window=20 Step=1 | 100.45331447577291\n",
      "Pipeline(steps=[('standardscaler', StandardScaler()),\n",
      "                ('pipeline',\n",
      "                 Pipeline(steps=[('s',\n",
      "                                  RFECV(estimator=DecisionTreeClassifier(random_state=10),\n",
      "                                        scoring='recall')),\n",
      "                                 ('m',\n",
      "                                  RandomForestClassifier(criterion='entropy',\n",
      "                                                         max_depth=100,\n",
      "                                                         n_estimators=30,\n",
      "                                                         random_state=42))]))])\n",
      "\n",
      "Minutes=1 Window=20 Step=1 | 100.42517986385346\n",
      "Pipeline(steps=[('minmaxscaler', MinMaxScaler()),\n",
      "                ('pipeline',\n",
      "                 Pipeline(steps=[('s',\n",
      "                                  RFECV(estimator=DecisionTreeClassifier(random_state=10),\n",
      "                                        scoring='recall')),\n",
      "                                 ('m',\n",
      "                                  RandomForestClassifier(criterion='entropy',\n",
      "                                                         max_depth=100,\n",
      "                                                         n_estimators=30,\n",
      "                                                         random_state=42))]))])\n",
      "\n",
      "Minutes=1 Window=20 Step=1 | 100.49058201812207\n",
      "Pipeline(steps=[('normalizer', Normalizer()),\n",
      "                ('pipeline',\n",
      "                 Pipeline(steps=[('s',\n",
      "                                  RFECV(estimator=DecisionTreeClassifier(random_state=10),\n",
      "                                        scoring='recall')),\n",
      "                                 ('m',\n",
      "                                  RandomForestClassifier(criterion='entropy',\n",
      "                                                         max_depth=100,\n",
      "                                                         n_estimators=30,\n",
      "                                                         random_state=42))]))])\n",
      "\n",
      "Minutes=1 Window=30 Step=1 | 100.04682142332612\n",
      "Pipeline(steps=[('standardscaler', StandardScaler()),\n",
      "                ('randomforestclassifier',\n",
      "                 RandomForestClassifier(criterion='entropy', max_depth=100,\n",
      "                                        n_estimators=30, random_state=42))])\n",
      "\n",
      "Minutes=1 Window=30 Step=1 | 100.08928056206574\n",
      "Pipeline(steps=[('normalizer', Normalizer()),\n",
      "                ('randomforestclassifier',\n",
      "                 RandomForestClassifier(criterion='entropy', max_depth=100,\n",
      "                                        n_estimators=30, random_state=42))])\n",
      "\n",
      "Minutes=1 Window=30 Step=1 | 100.39951520248437\n",
      "Pipeline(steps=[('minmaxscaler', MinMaxScaler()),\n",
      "                ('pipeline',\n",
      "                 Pipeline(steps=[('s',\n",
      "                                  RFECV(estimator=DecisionTreeClassifier(random_state=10),\n",
      "                                        scoring='recall')),\n",
      "                                 ('m',\n",
      "                                  RandomForestClassifier(criterion='entropy',\n",
      "                                                         max_depth=100,\n",
      "                                                         n_estimators=30,\n",
      "                                                         random_state=42))]))])\n",
      "\n",
      "Minutes=1 Window=30 Step=1 | 100.08928056206574\n",
      "Pipeline(steps=[('normalizer', Normalizer()),\n",
      "                ('pipeline',\n",
      "                 Pipeline(steps=[('s',\n",
      "                                  RFECV(estimator=DecisionTreeClassifier(random_state=10),\n",
      "                                        scoring='recall')),\n",
      "                                 ('m',\n",
      "                                  RandomForestClassifier(criterion='entropy',\n",
      "                                                         max_depth=100,\n",
      "                                                         n_estimators=30,\n",
      "                                                         random_state=42))]))])\n",
      "\n",
      "Minutes=1 Window=40 Step=1 | 100.55284344606156\n",
      "Pipeline(steps=[('standardscaler', StandardScaler()),\n",
      "                ('randomforestclassifier',\n",
      "                 RandomForestClassifier(criterion='entropy', max_depth=100,\n",
      "                                        n_estimators=30, random_state=42))])\n",
      "\n",
      "Minutes=1 Window=40 Step=1 | 100.44846067381805\n",
      "Pipeline(steps=[('minmaxscaler', MinMaxScaler()),\n",
      "                ('randomforestclassifier',\n",
      "                 RandomForestClassifier(criterion='entropy', max_depth=100,\n"
     ]
    },
    {
     "name": "stdout",
     "output_type": "stream",
     "text": [
      "                                        n_estimators=30, random_state=42))])\n",
      "\n",
      "Minutes=1 Window=40 Step=1 | 100.34355313061027\n",
      "Pipeline(steps=[('standardscaler', StandardScaler()),\n",
      "                ('pipeline',\n",
      "                 Pipeline(steps=[('s',\n",
      "                                  RFECV(estimator=DecisionTreeClassifier(random_state=10),\n",
      "                                        scoring='recall')),\n",
      "                                 ('m',\n",
      "                                  RandomForestClassifier(criterion='entropy',\n",
      "                                                         max_depth=100,\n",
      "                                                         n_estimators=30,\n",
      "                                                         random_state=42))]))])\n",
      "\n",
      "Minutes=1 Window=40 Step=1 | 100.18498723338602\n",
      "Pipeline(steps=[('minmaxscaler', MinMaxScaler()),\n",
      "                ('pipeline',\n",
      "                 Pipeline(steps=[('s',\n",
      "                                  RFECV(estimator=DecisionTreeClassifier(random_state=10),\n",
      "                                        scoring='recall')),\n",
      "                                 ('m',\n",
      "                                  RandomForestClassifier(criterion='entropy',\n",
      "                                                         max_depth=100,\n",
      "                                                         n_estimators=30,\n",
      "                                                         random_state=42))]))])\n",
      "\n",
      "55 selected\n"
     ]
    }
   ],
   "source": [
    "best_results = []\n",
    "for win_result in min_results:\n",
    "    profit = win_result['profit']\n",
    "    model = win_result['model']\n",
    "    window = win_result['window']\n",
    "    minutes = win_result['minutes']\n",
    "    step = win_result['step']\n",
    "    profit = win_result['profit']\n",
    "    models_score = win_result['models_score']\n",
    "    #print(models_score)\n",
    "    if (profit > 100):\n",
    "        print(f\"Minutes={minutes} Window={window} Step={step} | {profit}\")\n",
    "        print(f\"{win_result['model']}\")\n",
    "        print(f\"\")\n",
    "        best_results.append(win_result)\n",
    "\n",
    "print(f\"{len(best_results)} selected\")"
   ]
  },
  {
   "cell_type": "code",
   "execution_count": 14,
   "id": "a3574b4a",
   "metadata": {},
   "outputs": [
    {
     "data": {
      "text/plain": [
       "['model/results']"
      ]
     },
     "execution_count": 14,
     "metadata": {},
     "output_type": "execute_result"
    }
   ],
   "source": [
    "model_path = f'model/results'\n",
    "dump(best_results, model_path)"
   ]
  },
  {
   "cell_type": "code",
   "execution_count": 15,
   "id": "7b5a23df",
   "metadata": {},
   "outputs": [],
   "source": [
    "def print_result(result):\n",
    "    model = result['model']\n",
    "    window = result['window']\n",
    "    minutes = result['minutes']\n",
    "    step = result['step']\n",
    "    profit = result['profit']\n",
    "    print(f\"Minutes={minutes} Window={window} Step={step} | {profit} {best['models_profit_metric']}\")\n",
    "    print(f\"{model}\")"
   ]
  },
  {
   "cell_type": "code",
   "execution_count": 16,
   "id": "16a95a9c",
   "metadata": {},
   "outputs": [
    {
     "name": "stdout",
     "output_type": "stream",
     "text": [
      "Minutes=3 Window=30 Step=1 | 100.00342848896511 {'ltceur': 0.015279344278762323, 'ltcusd': -0.0454292269280058, 'ethusd': 0.036423002123218015, 'btcusd': -0.014182816584286384}\n",
      "Pipeline(steps=[('minmaxscaler', MinMaxScaler()),\n",
      "                ('randomforestclassifier',\n",
      "                 RandomForestClassifier(criterion='entropy', max_depth=100,\n",
      "                                        n_estimators=30, random_state=42))])\n",
      "\n",
      "Minutes=1 Window=20 Step=1 | 100.0086962907278 {'ltceur': 0.008374843340818325, 'ltcusd': 0.02110218580733093, 'ethusd': -0.0007733265887955042, 'btcusd': -0.001163964623951637}\n",
      "Pipeline(steps=[('standardscaler', StandardScaler()),\n",
      "                ('randomforestclassifier',\n",
      "                 RandomForestClassifier(criterion='entropy', max_depth=100,\n",
      "                                        n_estimators=30, random_state=42))])\n",
      "\n",
      "Minutes=1 Window=10 Step=1 | 100.01004333767136 {'ltceur': 0.0048796160565473205, 'ltcusd': -0.003003967430256649, 'ethusd': -0.0032005656936964617, 'btcusd': -0.0031452776184284813}\n",
      "Pipeline(steps=[('standardscaler', StandardScaler()),\n",
      "                ('pipeline',\n",
      "                 Pipeline(steps=[('s',\n",
      "                                  RFECV(estimator=DecisionTreeClassifier(random_state=10),\n",
      "                                        scoring='recall')),\n",
      "                                 ('m',\n",
      "                                  RandomForestClassifier(criterion='entropy',\n",
      "                                                         max_depth=100,\n",
      "                                                         n_estimators=30,\n",
      "                                                         random_state=42))]))])\n",
      "\n",
      "Minutes=15 Window=5 Step=1 | 100.01436751411367 {'ltceur': 0.010838140301636805, 'ltcusd': 0.01348214987028945, 'ethusd': 0.0023188027423412137, 'btcusd': -0.03469919833155442}\n",
      "Pipeline(steps=[('standardscaler', StandardScaler()),\n",
      "                ('randomforestclassifier',\n",
      "                 RandomForestClassifier(criterion='entropy', max_depth=100,\n",
      "                                        n_estimators=30, random_state=42))])\n",
      "\n",
      "Minutes=15 Window=5 Step=1 | 100.01436751411367 {'ltceur': 0.010838140301636805, 'ltcusd': 0.01348214987028945, 'ethusd': 0.0023188027423412137, 'btcusd': -0.03469919833155442}\n",
      "Pipeline(steps=[('standardscaler', StandardScaler()),\n",
      "                ('pipeline',\n",
      "                 Pipeline(steps=[('s',\n",
      "                                  RFECV(estimator=DecisionTreeClassifier(random_state=10),\n",
      "                                        scoring='recall')),\n",
      "                                 ('m',\n",
      "                                  RandomForestClassifier(criterion='entropy',\n",
      "                                                         max_depth=100,\n",
      "                                                         n_estimators=30,\n",
      "                                                         random_state=42))]))])\n",
      "\n",
      "Minutes=1 Window=5 Step=1 | 100.03379323265345 {'ltceur': -0.0047047956313793216, 'ltcusd': 0.008181600993228344, 'ethusd': 0.0048452088842512835, 'btcusd': 0.00569873447227297}\n",
      "Pipeline(steps=[('normalizer', Normalizer()),\n",
      "                ('randomforestclassifier',\n",
      "                 RandomForestClassifier(criterion='entropy', max_depth=100,\n",
      "                                        n_estimators=30, random_state=42))])\n",
      "\n",
      "Minutes=1 Window=30 Step=1 | 100.04682142332612 {'ltceur': 0.0011138896009015064, 'ltcusd': -0.011393143747870394, 'ethusd': 0.004745894681923094, 'btcusd': -0.00842171543259676}\n",
      "Pipeline(steps=[('standardscaler', StandardScaler()),\n",
      "                ('randomforestclassifier',\n",
      "                 RandomForestClassifier(criterion='entropy', max_depth=100,\n",
      "                                        n_estimators=30, random_state=42))])\n",
      "\n",
      "Minutes=1 Window=10 Step=1 | 100.04778007365884 {'ltceur': -0.004613841761528403, 'ltcusd': -0.012987165578528095, 'ethusd': -0.0030760918934451304, 'btcusd': 0.007301645443358515}\n",
      "Pipeline(steps=[('normalizer', Normalizer()),\n",
      "                ('randomforestclassifier',\n",
      "                 RandomForestClassifier(criterion='entropy', max_depth=100,\n",
      "                                        n_estimators=30, random_state=42))])\n",
      "\n",
      "Minutes=3 Window=10 Step=1 | 100.05065588117135 {'ltceur': 0.0019647834807512365, 'ltcusd': -0.007045042307907041, 'ethusd': -0.012125537495316432, 'btcusd': 0.008484444380021937}\n",
      "Pipeline(steps=[('standardscaler', StandardScaler()),\n",
      "                ('pipeline',\n",
      "                 Pipeline(steps=[('s',\n",
      "                                  RFECV(estimator=DecisionTreeClassifier(random_state=10),\n",
      "                                        scoring='recall')),\n",
      "                                 ('m',\n",
      "                                  RandomForestClassifier(criterion='entropy',\n",
      "                                                         max_depth=100,\n",
      "                                                         n_estimators=30,\n",
      "                                                         random_state=42))]))])\n",
      "\n",
      "Minutes=1 Window=10 Step=1 | 100.05941768734493 {'ltceur': -0.0015556655401773958, 'ltcusd': 0.004656736994230973, 'ethusd': 0.004798862256498128, 'btcusd': 0.0019041189817050187}\n",
      "Pipeline(steps=[('normalizer', Normalizer()),\n",
      "                ('pipeline',\n",
      "                 Pipeline(steps=[('s',\n",
      "                                  RFECV(estimator=DecisionTreeClassifier(random_state=10),\n",
      "                                        scoring='recall')),\n",
      "                                 ('m',\n",
      "                                  RandomForestClassifier(criterion='entropy',\n",
      "                                                         max_depth=100,\n",
      "                                                         n_estimators=30,\n",
      "                                                         random_state=42))]))])\n",
      "\n",
      "Minutes=1 Window=30 Step=1 | 100.08928056206574 {'ltceur': -0.0014103755922337208, 'ltcusd': -0.02407090459759761, 'ethusd': -0.0005283515563859695, 'btcusd': -0.0014863631478810241}\n",
      "Pipeline(steps=[('normalizer', Normalizer()),\n",
      "                ('randomforestclassifier',\n",
      "                 RandomForestClassifier(criterion='entropy', max_depth=100,\n",
      "                                        n_estimators=30, random_state=42))])\n",
      "\n",
      "Minutes=1 Window=30 Step=1 | 100.08928056206574 {'ltceur': -0.0014103755922337208, 'ltcusd': -0.02407090459759761, 'ethusd': -0.0005283515563859695, 'btcusd': -0.0014863631478810241}\n",
      "Pipeline(steps=[('normalizer', Normalizer()),\n",
      "                ('pipeline',\n",
      "                 Pipeline(steps=[('s',\n",
      "                                  RFECV(estimator=DecisionTreeClassifier(random_state=10),\n",
      "                                        scoring='recall')),\n",
      "                                 ('m',\n",
      "                                  RandomForestClassifier(criterion='entropy',\n",
      "                                                         max_depth=100,\n",
      "                                                         n_estimators=30,\n",
      "                                                         random_state=42))]))])\n",
      "\n",
      "Minutes=1 Window=10 Step=1 | 100.17571575209632 {'ltceur': 0.006663256880896499, 'ltcusd': -0.02868064340517528, 'ethusd': -0.009471926523380551, 'btcusd': 0.001842061049868846}\n",
      "Pipeline(steps=[('minmaxscaler', MinMaxScaler()),\n",
      "                ('pipeline',\n",
      "                 Pipeline(steps=[('s',\n",
      "                                  RFECV(estimator=DecisionTreeClassifier(random_state=10),\n",
      "                                        scoring='recall')),\n",
      "                                 ('m',\n",
      "                                  RandomForestClassifier(criterion='entropy',\n",
      "                                                         max_depth=100,\n",
      "                                                         n_estimators=30,\n",
      "                                                         random_state=42))]))])\n",
      "\n",
      "Minutes=1 Window=40 Step=1 | 100.18498723338602 {'ltceur': 0.011541691718354846, 'ltcusd': -0.0006658076442550592, 'ethusd': -0.01755345421416644, 'btcusd': 0.016218310722551095}\n",
      "Pipeline(steps=[('minmaxscaler', MinMaxScaler()),\n",
      "                ('pipeline',\n",
      "                 Pipeline(steps=[('s',\n",
      "                                  RFECV(estimator=DecisionTreeClassifier(random_state=10),\n",
      "                                        scoring='recall')),\n",
      "                                 ('m',\n",
      "                                  RandomForestClassifier(criterion='entropy',\n",
      "                                                         max_depth=100,\n",
      "                                                         n_estimators=30,\n",
      "                                                         random_state=42))]))])\n",
      "\n",
      "Minutes=5 Window=20 Step=1 | 100.20315870790316 {'ltceur': -0.036414286873489736, 'ltcusd': -0.008231616302195238, 'ethusd': 0.012569282167128671, 'btcusd': 0.04347672440989403}\n",
      "Pipeline(steps=[('standardscaler', StandardScaler()),\n",
      "                ('randomforestclassifier',\n",
      "                 RandomForestClassifier(criterion='entropy', max_depth=100,\n",
      "                                        n_estimators=30, random_state=42))])\n",
      "\n",
      "Minutes=1 Window=10 Step=1 | 100.21768018724055 {'ltceur': 0.0006874695097822659, 'ltcusd': -0.02627590285474819, 'ethusd': 0.024249879829815184, 'btcusd': -0.025573922348877582}\n",
      "Pipeline(steps=[('standardscaler', StandardScaler()),\n",
      "                ('randomforestclassifier',\n",
      "                 RandomForestClassifier(criterion='entropy', max_depth=100,\n",
      "                                        n_estimators=30, random_state=42))])\n",
      "\n",
      "Minutes=3 Window=10 Step=1 | 100.29727424132987 {'ltceur': 0.0014794563025384414, 'ltcusd': -0.007033356834119506, 'ethusd': -0.014358187473608461, 'btcusd': 0.01610703638744341}\n",
      "Pipeline(steps=[('standardscaler', StandardScaler()),\n",
      "                ('randomforestclassifier',\n",
      "                 RandomForestClassifier(criterion='entropy', max_depth=100,\n",
      "                                        n_estimators=30, random_state=42))])\n",
      "\n",
      "Minutes=1 Window=40 Step=1 | 100.34355313061027 {'ltceur': 0.009212327674900158, 'ltcusd': -0.0073238840868056505, 'ethusd': 0.00904951011614465, 'btcusd': -0.004180585554427077}\n",
      "Pipeline(steps=[('standardscaler', StandardScaler()),\n",
      "                ('pipeline',\n",
      "                 Pipeline(steps=[('s',\n",
      "                                  RFECV(estimator=DecisionTreeClassifier(random_state=10),\n",
      "                                        scoring='recall')),\n",
      "                                 ('m',\n",
      "                                  RandomForestClassifier(criterion='entropy',\n",
      "                                                         max_depth=100,\n",
      "                                                         n_estimators=30,\n",
      "                                                         random_state=42))]))])\n"
     ]
    },
    {
     "name": "stdout",
     "output_type": "stream",
     "text": [
      "\n",
      "Minutes=1 Window=30 Step=1 | 100.39951520248437 {'ltceur': 0.005204451306014886, 'ltcusd': -0.010257354237082354, 'ethusd': 0.008992569973476488, 'btcusd': 0.0032754479144750884}\n",
      "Pipeline(steps=[('minmaxscaler', MinMaxScaler()),\n",
      "                ('pipeline',\n",
      "                 Pipeline(steps=[('s',\n",
      "                                  RFECV(estimator=DecisionTreeClassifier(random_state=10),\n",
      "                                        scoring='recall')),\n",
      "                                 ('m',\n",
      "                                  RandomForestClassifier(criterion='entropy',\n",
      "                                                         max_depth=100,\n",
      "                                                         n_estimators=30,\n",
      "                                                         random_state=42))]))])\n",
      "\n",
      "Minutes=3 Window=5 Step=1 | 100.40589582316468 {'ltceur': -0.0015198547403199338, 'ltcusd': 0.04712362062719833, 'ethusd': -0.017096365550341677, 'btcusd': -0.0017520909130441086}\n",
      "Pipeline(steps=[('normalizer', Normalizer()),\n",
      "                ('pipeline',\n",
      "                 Pipeline(steps=[('s',\n",
      "                                  RFECV(estimator=DecisionTreeClassifier(random_state=10),\n",
      "                                        scoring='recall')),\n",
      "                                 ('m',\n",
      "                                  RandomForestClassifier(criterion='entropy',\n",
      "                                                         max_depth=100,\n",
      "                                                         n_estimators=30,\n",
      "                                                         random_state=42))]))])\n",
      "\n",
      "Minutes=3 Window=40 Step=1 | 100.4074271973064 {'ltceur': 0.015024397380871012, 'ltcusd': 0.008871871376691636, 'ethusd': -0.004346352168715543, 'btcusd': -0.008698850541390656}\n",
      "Pipeline(steps=[('minmaxscaler', MinMaxScaler()),\n",
      "                ('randomforestclassifier',\n",
      "                 RandomForestClassifier(criterion='entropy', max_depth=100,\n",
      "                                        n_estimators=30, random_state=42))])\n",
      "\n",
      "Minutes=1 Window=20 Step=1 | 100.42517986385346 {'ltceur': 0.01304538361861743, 'ltcusd': -0.04372789616533962, 'ethusd': -0.003910331193001924, 'btcusd': -0.0034041046024281298}\n",
      "Pipeline(steps=[('minmaxscaler', MinMaxScaler()),\n",
      "                ('pipeline',\n",
      "                 Pipeline(steps=[('s',\n",
      "                                  RFECV(estimator=DecisionTreeClassifier(random_state=10),\n",
      "                                        scoring='recall')),\n",
      "                                 ('m',\n",
      "                                  RandomForestClassifier(criterion='entropy',\n",
      "                                                         max_depth=100,\n",
      "                                                         n_estimators=30,\n",
      "                                                         random_state=42))]))])\n",
      "\n",
      "Minutes=1 Window=10 Step=1 | 100.42624175371004 {'ltceur': 0.014365986560089205, 'ltcusd': -0.009117648210739869, 'ethusd': -2.2511219194389675e-05, 'btcusd': 0.003900568057117515}\n",
      "Pipeline(steps=[('minmaxscaler', MinMaxScaler()),\n",
      "                ('randomforestclassifier',\n",
      "                 RandomForestClassifier(criterion='entropy', max_depth=100,\n",
      "                                        n_estimators=30, random_state=42))])\n",
      "\n",
      "Minutes=1 Window=5 Step=1 | 100.43935506100237 {'ltceur': -0.004677627592332943, 'ltcusd': -0.022002984384852483, 'ethusd': 0.018840566276339784, 'btcusd': 0.002556484070031619}\n",
      "Pipeline(steps=[('normalizer', Normalizer()),\n",
      "                ('pipeline',\n",
      "                 Pipeline(steps=[('s',\n",
      "                                  RFECV(estimator=DecisionTreeClassifier(random_state=10),\n",
      "                                        scoring='recall')),\n",
      "                                 ('m',\n",
      "                                  RandomForestClassifier(criterion='entropy',\n",
      "                                                         max_depth=100,\n",
      "                                                         n_estimators=30,\n",
      "                                                         random_state=42))]))])\n",
      "\n",
      "Minutes=1 Window=40 Step=1 | 100.44846067381805 {'ltceur': 0.007113301353795198, 'ltcusd': -0.024630966321882747, 'ethusd': 0.0021028127106288708, 'btcusd': 0.006114976698003399}\n",
      "Pipeline(steps=[('minmaxscaler', MinMaxScaler()),\n",
      "                ('randomforestclassifier',\n",
      "                 RandomForestClassifier(criterion='entropy', max_depth=100,\n",
      "                                        n_estimators=30, random_state=42))])\n",
      "\n",
      "Minutes=1 Window=20 Step=1 | 100.45331447577291 {'ltceur': -0.0005421795618385912, 'ltcusd': 0.005604533758405822, 'ethusd': -0.0049988148505188835, 'btcusd': 0.036020845410664575}\n",
      "Pipeline(steps=[('standardscaler', StandardScaler()),\n",
      "                ('pipeline',\n",
      "                 Pipeline(steps=[('s',\n",
      "                                  RFECV(estimator=DecisionTreeClassifier(random_state=10),\n",
      "                                        scoring='recall')),\n",
      "                                 ('m',\n",
      "                                  RandomForestClassifier(criterion='entropy',\n",
      "                                                         max_depth=100,\n",
      "                                                         n_estimators=30,\n",
      "                                                         random_state=42))]))])\n",
      "\n",
      "Minutes=1 Window=20 Step=1 | 100.49058201812207 {'ltceur': 0.008826069032805998, 'ltcusd': -0.02700829126342875, 'ethusd': 0.005568216277200505, 'btcusd': 0.0015908021063370228}\n",
      "Pipeline(steps=[('normalizer', Normalizer()),\n",
      "                ('pipeline',\n",
      "                 Pipeline(steps=[('s',\n",
      "                                  RFECV(estimator=DecisionTreeClassifier(random_state=10),\n",
      "                                        scoring='recall')),\n",
      "                                 ('m',\n",
      "                                  RandomForestClassifier(criterion='entropy',\n",
      "                                                         max_depth=100,\n",
      "                                                         n_estimators=30,\n",
      "                                                         random_state=42))]))])\n",
      "\n",
      "Minutes=1 Window=20 Step=1 | 100.50683816892415 {'ltceur': 0.0011587759262824792, 'ltcusd': -0.05494479671326014, 'ethusd': 0.007000989169455189, 'btcusd': -3.632659424556475e-05}\n",
      "Pipeline(steps=[('normalizer', Normalizer()),\n",
      "                ('randomforestclassifier',\n",
      "                 RandomForestClassifier(criterion='entropy', max_depth=100,\n",
      "                                        n_estimators=30, random_state=42))])\n",
      "\n",
      "Minutes=1 Window=40 Step=1 | 100.55284344606156 {'ltceur': 0.0006473080607571851, 'ltcusd': -0.045956393515816846, 'ethusd': 0.0020577902722400915, 'btcusd': 0.012531161406626273}\n",
      "Pipeline(steps=[('standardscaler', StandardScaler()),\n",
      "                ('randomforestclassifier',\n",
      "                 RandomForestClassifier(criterion='entropy', max_depth=100,\n",
      "                                        n_estimators=30, random_state=42))])\n",
      "\n",
      "Minutes=5 Window=10 Step=1 | 100.57223553895554 {'ltceur': 0.00010828019436690071, 'ltcusd': 0.0014584813713824406, 'ethusd': 0.009503038781387951, 'btcusd': -0.004844597021408107}\n",
      "Pipeline(steps=[('minmaxscaler', MinMaxScaler()),\n",
      "                ('randomforestclassifier',\n",
      "                 RandomForestClassifier(criterion='entropy', max_depth=100,\n",
      "                                        n_estimators=30, random_state=42))])\n",
      "\n",
      "Minutes=1 Window=5 Step=1 | 100.65650202597746 {'ltceur': 0.03824669288185565, 'ltcusd': 0.03160236400878866, 'ethusd': 0.005103425810304577, 'btcusd': -0.002883423418241702}\n",
      "Pipeline(steps=[('standardscaler', StandardScaler()),\n",
      "                ('pipeline',\n",
      "                 Pipeline(steps=[('s',\n",
      "                                  RFECV(estimator=DecisionTreeClassifier(random_state=10),\n",
      "                                        scoring='recall')),\n",
      "                                 ('m',\n",
      "                                  RandomForestClassifier(criterion='entropy',\n",
      "                                                         max_depth=100,\n",
      "                                                         n_estimators=30,\n",
      "                                                         random_state=42))]))])\n",
      "\n",
      "Minutes=3 Window=5 Step=1 | 100.71844560982993 {'ltceur': -0.00672415619127896, 'ltcusd': 0.035223913153558814, 'ethusd': -0.022694048447433997, 'btcusd': 0.019933129436093676}\n",
      "Pipeline(steps=[('minmaxscaler', MinMaxScaler()),\n",
      "                ('pipeline',\n",
      "                 Pipeline(steps=[('s',\n",
      "                                  RFECV(estimator=DecisionTreeClassifier(random_state=10),\n",
      "                                        scoring='recall')),\n",
      "                                 ('m',\n",
      "                                  RandomForestClassifier(criterion='entropy',\n",
      "                                                         max_depth=100,\n",
      "                                                         n_estimators=30,\n",
      "                                                         random_state=42))]))])\n",
      "\n",
      "Minutes=15 Window=5 Step=1 | 100.75470835025597 {'ltceur': -0.00037811907313357586, 'ltcusd': 0.02352436094286818, 'ethusd': -0.023062059191174253, 'btcusd': 0.006432672276975575}\n",
      "Pipeline(steps=[('minmaxscaler', MinMaxScaler()),\n",
      "                ('pipeline',\n",
      "                 Pipeline(steps=[('s',\n",
      "                                  RFECV(estimator=DecisionTreeClassifier(random_state=10),\n",
      "                                        scoring='recall')),\n",
      "                                 ('m',\n",
      "                                  RandomForestClassifier(criterion='entropy',\n",
      "                                                         max_depth=100,\n",
      "                                                         n_estimators=30,\n",
      "                                                         random_state=42))]))])\n",
      "\n",
      "Minutes=3 Window=40 Step=1 | 101.15105652661134 {'ltceur': 0.0028229773211905095, 'ltcusd': 0.000506370530793171, 'ethusd': -0.012682213142541083, 'btcusd': 0.03088837834050839}\n",
      "Pipeline(steps=[('standardscaler', StandardScaler()),\n",
      "                ('randomforestclassifier',\n",
      "                 RandomForestClassifier(criterion='entropy', max_depth=100,\n",
      "                                        n_estimators=30, random_state=42))])\n"
     ]
    },
    {
     "name": "stdout",
     "output_type": "stream",
     "text": [
      "\n",
      "Minutes=15 Window=10 Step=1 | 101.56670281250578 {'ltceur': 0.011881923543923286, 'ltcusd': -0.001121360509961691, 'ethusd': -0.012536124452956899, 'btcusd': 0.017047325700780692}\n",
      "Pipeline(steps=[('normalizer', Normalizer()),\n",
      "                ('pipeline',\n",
      "                 Pipeline(steps=[('s',\n",
      "                                  RFECV(estimator=DecisionTreeClassifier(random_state=10),\n",
      "                                        scoring='recall')),\n",
      "                                 ('m',\n",
      "                                  RandomForestClassifier(criterion='entropy',\n",
      "                                                         max_depth=100,\n",
      "                                                         n_estimators=30,\n",
      "                                                         random_state=42))]))])\n",
      "\n",
      "Minutes=5 Window=20 Step=1 | 101.75590348568932 {'ltceur': 0.006056577587106279, 'ltcusd': -0.014268415232537116, 'ethusd': 0.0032485316737775926, 'btcusd': 0.02910613329838027}\n",
      "Pipeline(steps=[('normalizer', Normalizer()),\n",
      "                ('randomforestclassifier',\n",
      "                 RandomForestClassifier(criterion='entropy', max_depth=100,\n",
      "                                        n_estimators=30, random_state=42))])\n",
      "\n",
      "Minutes=3 Window=10 Step=1 | 101.7614675607038 {'ltceur': 0.0065783942603646565, 'ltcusd': -0.02290093185161526, 'ethusd': 0.039515644607799404, 'btcusd': 0.025864630593282985}\n",
      "Pipeline(steps=[('normalizer', Normalizer()),\n",
      "                ('randomforestclassifier',\n",
      "                 RandomForestClassifier(criterion='entropy', max_depth=100,\n",
      "                                        n_estimators=30, random_state=42))])\n",
      "\n",
      "Minutes=5 Window=40 Step=1 | 102.43430847830109 {'ltceur': 0.002408246366685741, 'ltcusd': 0.003694293895296279, 'ethusd': 0.005854601042487125, 'btcusd': 0.017493557135725174}\n",
      "Pipeline(steps=[('minmaxscaler', MinMaxScaler()),\n",
      "                ('randomforestclassifier',\n",
      "                 RandomForestClassifier(criterion='entropy', max_depth=100,\n",
      "                                        n_estimators=30, random_state=42))])\n",
      "\n",
      "Minutes=5 Window=40 Step=1 | 102.43430847830109 {'ltceur': 0.002408246366685741, 'ltcusd': 0.003694293895296279, 'ethusd': 0.005854601042487125, 'btcusd': 0.017493557135725174}\n",
      "Pipeline(steps=[('minmaxscaler', MinMaxScaler()),\n",
      "                ('pipeline',\n",
      "                 Pipeline(steps=[('s',\n",
      "                                  RFECV(estimator=DecisionTreeClassifier(random_state=10),\n",
      "                                        scoring='recall')),\n",
      "                                 ('m',\n",
      "                                  RandomForestClassifier(criterion='entropy',\n",
      "                                                         max_depth=100,\n",
      "                                                         n_estimators=30,\n",
      "                                                         random_state=42))]))])\n",
      "\n",
      "Minutes=15 Window=40 Step=1 | 102.98948426373286 {'ltceur': 0.0071418854082776605, 'ltcusd': 0.007053829249773414, 'ethusd': 0.016047146124794846, 'btcusd': -0.011055011171951668}\n",
      "Pipeline(steps=[('normalizer', Normalizer()),\n",
      "                ('randomforestclassifier',\n",
      "                 RandomForestClassifier(criterion='entropy', max_depth=100,\n",
      "                                        n_estimators=30, random_state=42))])\n",
      "\n",
      "Minutes=15 Window=40 Step=1 | 102.98948426373286 {'ltceur': 0.0071418854082776605, 'ltcusd': 0.007053829249773414, 'ethusd': 0.016047146124794846, 'btcusd': -0.011055011171951668}\n",
      "Pipeline(steps=[('normalizer', Normalizer()),\n",
      "                ('pipeline',\n",
      "                 Pipeline(steps=[('s',\n",
      "                                  RFECV(estimator=DecisionTreeClassifier(random_state=10),\n",
      "                                        scoring='recall')),\n",
      "                                 ('m',\n",
      "                                  RandomForestClassifier(criterion='entropy',\n",
      "                                                         max_depth=100,\n",
      "                                                         n_estimators=30,\n",
      "                                                         random_state=42))]))])\n",
      "\n",
      "Minutes=5 Window=30 Step=1 | 103.19894610158734 {'ltceur': 0.020825890716567236, 'ltcusd': 0.020377218468421117, 'ethusd': -0.009682951977724015, 'btcusd': 0.0012789350624818087}\n",
      "Pipeline(steps=[('normalizer', Normalizer()),\n",
      "                ('randomforestclassifier',\n",
      "                 RandomForestClassifier(criterion='entropy', max_depth=100,\n",
      "                                        n_estimators=30, random_state=42))])\n",
      "\n",
      "Minutes=5 Window=40 Step=1 | 103.31905516337095 {'ltceur': -0.006687026504673172, 'ltcusd': -0.02586741537128994, 'ethusd': 0.0427727295533551, 'btcusd': 0.036144291888898096}\n",
      "Pipeline(steps=[('normalizer', Normalizer()),\n",
      "                ('randomforestclassifier',\n",
      "                 RandomForestClassifier(criterion='entropy', max_depth=100,\n",
      "                                        n_estimators=30, random_state=42))])\n",
      "\n",
      "Minutes=15 Window=20 Step=1 | 103.66960968488361 {'ltceur': 0.04065898570240664, 'ltcusd': -0.017794536913796375, 'ethusd': 0.012518207345904196, 'btcusd': -0.010870032568518864}\n",
      "Pipeline(steps=[('normalizer', Normalizer()),\n",
      "                ('randomforestclassifier',\n",
      "                 RandomForestClassifier(criterion='entropy', max_depth=100,\n",
      "                                        n_estimators=30, random_state=42))])\n",
      "\n",
      "Minutes=15 Window=30 Step=1 | 103.69364307124795 {'ltceur': 0.019147484262316786, 'ltcusd': 0.010456108410974949, 'ethusd': 0.0007601972563789929, 'btcusd': -0.004724159812063629}\n",
      "Pipeline(steps=[('standardscaler', StandardScaler()),\n",
      "                ('randomforestclassifier',\n",
      "                 RandomForestClassifier(criterion='entropy', max_depth=100,\n",
      "                                        n_estimators=30, random_state=42))])\n",
      "\n",
      "Minutes=15 Window=30 Step=1 | 104.62973571951268 {'ltceur': 0.012129819790523123, 'ltcusd': 0.02595573880854235, 'ethusd': -0.02707165179089712, 'btcusd': 0.0287822454559758}\n",
      "Pipeline(steps=[('normalizer', Normalizer()),\n",
      "                ('randomforestclassifier',\n",
      "                 RandomForestClassifier(criterion='entropy', max_depth=100,\n",
      "                                        n_estimators=30, random_state=42))])\n",
      "\n",
      "Minutes=15 Window=40 Step=1 | 105.92018458856937 {'ltceur': 0.004700753037138241, 'ltcusd': 0.00465257909330659, 'ethusd': 0.022554164054517004, 'btcusd': 0.014565588498913989}\n",
      "Pipeline(steps=[('minmaxscaler', MinMaxScaler()),\n",
      "                ('randomforestclassifier',\n",
      "                 RandomForestClassifier(criterion='entropy', max_depth=100,\n",
      "                                        n_estimators=30, random_state=42))])\n",
      "\n",
      "Minutes=15 Window=10 Step=1 | 106.45934826441461 {'ltceur': 0.03162341304570821, 'ltcusd': -0.004676250864826653, 'ethusd': 0.0038861839542067996, 'btcusd': 0.021101262910112686}\n",
      "Pipeline(steps=[('standardscaler', StandardScaler()),\n",
      "                ('randomforestclassifier',\n",
      "                 RandomForestClassifier(criterion='entropy', max_depth=100,\n",
      "                                        n_estimators=30, random_state=42))])\n",
      "\n",
      "Minutes=15 Window=40 Step=1 | 107.54102490786364 {'ltceur': 0.034753307768919224, 'ltcusd': 0.020591571916814523, 'ethusd': 0.011835346174048605, 'btcusd': -0.016301032714517303}\n",
      "Pipeline(steps=[('standardscaler', StandardScaler()),\n",
      "                ('pipeline',\n",
      "                 Pipeline(steps=[('s',\n",
      "                                  RFECV(estimator=DecisionTreeClassifier(random_state=10),\n",
      "                                        scoring='recall')),\n",
      "                                 ('m',\n",
      "                                  RandomForestClassifier(criterion='entropy',\n",
      "                                                         max_depth=100,\n",
      "                                                         n_estimators=30,\n",
      "                                                         random_state=42))]))])\n",
      "\n",
      "Minutes=15 Window=30 Step=1 | 107.96955189926528 {'ltceur': 0.03751290406360693, 'ltcusd': 0.0007643112895341001, 'ethusd': -0.018630866092843888, 'btcusd': 0.049650808590377994}\n",
      "Pipeline(steps=[('normalizer', Normalizer()),\n",
      "                ('pipeline',\n",
      "                 Pipeline(steps=[('s',\n",
      "                                  RFECV(estimator=DecisionTreeClassifier(random_state=10),\n",
      "                                        scoring='recall')),\n",
      "                                 ('m',\n",
      "                                  RandomForestClassifier(criterion='entropy',\n",
      "                                                         max_depth=100,\n",
      "                                                         n_estimators=30,\n",
      "                                                         random_state=42))]))])\n"
     ]
    },
    {
     "name": "stdout",
     "output_type": "stream",
     "text": [
      "\n",
      "Minutes=15 Window=10 Step=1 | 108.86938817937694 {'ltceur': 0.021986742006755582, 'ltcusd': 0.038356519116210824, 'ethusd': 0.02119776591957815, 'btcusd': -0.022665903127910225}\n",
      "Pipeline(steps=[('minmaxscaler', MinMaxScaler()),\n",
      "                ('randomforestclassifier',\n",
      "                 RandomForestClassifier(criterion='entropy', max_depth=100,\n",
      "                                        n_estimators=30, random_state=42))])\n",
      "\n",
      "Minutes=5 Window=10 Step=1 | 109.30167581889944 {'ltceur': 0.0366018671615414, 'ltcusd': 0.035937506569735905, 'ethusd': 0.027739289746640066, 'btcusd': 0.0009477162608192251}\n",
      "Pipeline(steps=[('normalizer', Normalizer()),\n",
      "                ('randomforestclassifier',\n",
      "                 RandomForestClassifier(criterion='entropy', max_depth=100,\n",
      "                                        n_estimators=30, random_state=42))])\n",
      "\n",
      "Minutes=5 Window=10 Step=1 | 109.30167581889944 {'ltceur': 0.0366018671615414, 'ltcusd': 0.035937506569735905, 'ethusd': 0.027739289746640066, 'btcusd': 0.0009477162608192251}\n",
      "Pipeline(steps=[('normalizer', Normalizer()),\n",
      "                ('pipeline',\n",
      "                 Pipeline(steps=[('s',\n",
      "                                  RFECV(estimator=DecisionTreeClassifier(random_state=10),\n",
      "                                        scoring='recall')),\n",
      "                                 ('m',\n",
      "                                  RandomForestClassifier(criterion='entropy',\n",
      "                                                         max_depth=100,\n",
      "                                                         n_estimators=30,\n",
      "                                                         random_state=42))]))])\n",
      "\n",
      "Minutes=15 Window=10 Step=1 | 109.43121445370366 {'ltceur': 0.014460553759838552, 'ltcusd': 0.012600197049564743, 'ethusd': 0.03157359917932337, 'btcusd': 0.012941887424337137}\n",
      "Pipeline(steps=[('minmaxscaler', MinMaxScaler()),\n",
      "                ('pipeline',\n",
      "                 Pipeline(steps=[('s',\n",
      "                                  RFECV(estimator=DecisionTreeClassifier(random_state=10),\n",
      "                                        scoring='recall')),\n",
      "                                 ('m',\n",
      "                                  RandomForestClassifier(criterion='entropy',\n",
      "                                                         max_depth=100,\n",
      "                                                         n_estimators=30,\n",
      "                                                         random_state=42))]))])\n",
      "\n",
      "Minutes=15 Window=20 Step=1 | 110.51658317764043 {'ltceur': 0.021903988674251598, 'ltcusd': 0.021315533595803068, 'ethusd': 0.03951087760367104, 'btcusd': -0.008207332901480348}\n",
      "Pipeline(steps=[('standardscaler', StandardScaler()),\n",
      "                ('randomforestclassifier',\n",
      "                 RandomForestClassifier(criterion='entropy', max_depth=100,\n",
      "                                        n_estimators=30, random_state=42))])\n",
      "\n"
     ]
    }
   ],
   "source": [
    "def myFunc(e):\n",
    "    return e['profit']\n",
    "    #return e['models_profit_metric']['btcusd']\n",
    "\n",
    "best_results.sort(key=myFunc, reverse = False)\n",
    "\n",
    "for best in best_results:\n",
    "    print_result(best)\n",
    "    model = best['model']\n",
    "    window = best['window']\n",
    "    minutes = best['minutes']\n",
    "    step = best['step']\n",
    "    model_path = f'model/result_{window}_{minutes}_{step}'\n",
    "    dump(best, model_path)\n",
    "    print(f\"\")"
   ]
  },
  {
   "cell_type": "code",
   "execution_count": 17,
   "id": "51c9b2f0",
   "metadata": {},
   "outputs": [],
   "source": [
    "def myFunc(e):\n",
    "    return e['profit']\n",
    "    #return e['models_profit_metric']['btcusd']\n",
    "\n",
    "best_results.sort(key=myFunc, reverse = True)"
   ]
  },
  {
   "cell_type": "code",
   "execution_count": 18,
   "id": "3b377b09",
   "metadata": {},
   "outputs": [
    {
     "data": {
      "text/plain": [
       "{'profit': 110.51658317764043,\n",
       " 'model': Pipeline(steps=[('standardscaler', StandardScaler()),\n",
       "                 ('randomforestclassifier',\n",
       "                  RandomForestClassifier(criterion='entropy', max_depth=100,\n",
       "                                         n_estimators=30, random_state=42))]),\n",
       " 'models_profit': {'ltceur': 12.0434,\n",
       "  'ltcusd': 11.8861,\n",
       "  'ethusd': 21.611,\n",
       "  'btcusd': -3.4741},\n",
       " 'models_score': {'ltceur': {'recall': 0.2,\n",
       "   'precision': 0.4171322160148976,\n",
       "   'f1': 0.27036813518406766,\n",
       "   'accuracy': 0.5806451612903226,\n",
       "   'roc_auc': 0.5112308564946114},\n",
       "  'ltcusd': {'recall': 0.19318181818181818,\n",
       "   'precision': 0.40925925925925927,\n",
       "   'f1': 0.26247030878859856,\n",
       "   'accuracy': 0.5691987513007284,\n",
       "   'roc_auc': 0.5048715301374875},\n",
       "  'ethusd': {'recall': 0.22641509433962265,\n",
       "   'precision': 0.45517241379310347,\n",
       "   'f1': 0.302405498281787,\n",
       "   'accuracy': 0.5775234131113424,\n",
       "   'roc_auc': 0.5211865803672487},\n",
       "  'btcusd': {'recall': 0.2050561797752809,\n",
       "   'precision': 0.3960216998191682,\n",
       "   'f1': 0.270203578038248,\n",
       "   'accuracy': 0.5896635449184877,\n",
       "   'roc_auc': 0.5105170706038938}},\n",
       " 'models_profit_metric': {'ltceur': 0.021903988674251598,\n",
       "  'ltcusd': 0.021315533595803068,\n",
       "  'ethusd': 0.03951087760367104,\n",
       "  'btcusd': -0.008207332901480348},\n",
       " 'reference_profit': {'ltceur': 549.8268,\n",
       "  'ltcusd': 557.6262,\n",
       "  'ethusd': 546.9633,\n",
       "  'btcusd': 423.2922},\n",
       " 'window': 20,\n",
       " 'minutes': 15,\n",
       " 'step': 1}"
      ]
     },
     "execution_count": 18,
     "metadata": {},
     "output_type": "execute_result"
    }
   ],
   "source": [
    "best_results[0]"
   ]
  },
  {
   "cell_type": "code",
   "execution_count": null,
   "id": "caec402a",
   "metadata": {},
   "outputs": [],
   "source": []
  },
  {
   "cell_type": "code",
   "execution_count": null,
   "id": "e5ba9fe3",
   "metadata": {},
   "outputs": [],
   "source": []
  },
  {
   "cell_type": "code",
   "execution_count": null,
   "id": "fc5a08f2",
   "metadata": {},
   "outputs": [],
   "source": []
  },
  {
   "cell_type": "code",
   "execution_count": null,
   "id": "143c9994",
   "metadata": {},
   "outputs": [],
   "source": []
  },
  {
   "cell_type": "code",
   "execution_count": null,
   "id": "7393f347",
   "metadata": {},
   "outputs": [],
   "source": []
  },
  {
   "cell_type": "code",
   "execution_count": null,
   "id": "883f51e9",
   "metadata": {},
   "outputs": [],
   "source": []
  },
  {
   "cell_type": "code",
   "execution_count": null,
   "id": "8885ff92",
   "metadata": {},
   "outputs": [],
   "source": []
  },
  {
   "cell_type": "code",
   "execution_count": null,
   "id": "6fbf479b",
   "metadata": {},
   "outputs": [],
   "source": []
  },
  {
   "cell_type": "code",
   "execution_count": null,
   "id": "af73adfd",
   "metadata": {},
   "outputs": [],
   "source": []
  },
  {
   "cell_type": "code",
   "execution_count": null,
   "id": "68de4f24",
   "metadata": {},
   "outputs": [],
   "source": []
  },
  {
   "cell_type": "code",
   "execution_count": null,
   "id": "3e624c56",
   "metadata": {},
   "outputs": [],
   "source": []
  },
  {
   "cell_type": "code",
   "execution_count": null,
   "id": "a40921c6",
   "metadata": {},
   "outputs": [],
   "source": []
  },
  {
   "cell_type": "code",
   "execution_count": null,
   "id": "14e654e7",
   "metadata": {
    "scrolled": false
   },
   "outputs": [],
   "source": []
  },
  {
   "cell_type": "code",
   "execution_count": 19,
   "id": "b413a0b9",
   "metadata": {},
   "outputs": [],
   "source": [
    "def load_online(minutes, window, val_end, currency = []):\n",
    "    tec = TecAn(windows = window, windows_limit = 100)\n",
    "    source_data_generator = SourceDataGenerator(tec = tec)\n",
    "\n",
    "    start = val_end - (60 * 100 * minutes)\n",
    "    end = val_end - (160 * minutes)\n",
    "\n",
    "    online = OnLineDataProvider(\n",
    "                 source_data_generator = source_data_generator,\n",
    "                 minutes = minutes,\n",
    "                 train_keys = [],\n",
    "                 train_limit = 40,\n",
    "                 val_limit = 999,\n",
    "                 val_keys = currency,\n",
    "                 val_start = start,\n",
    "                 val_end = end,\n",
    "                 train_start_list = []\n",
    "    )\n",
    "\n",
    "    online.load_cache()\n",
    "    return online"
   ]
  },
  {
   "cell_type": "code",
   "execution_count": 20,
   "id": "35dd65db",
   "metadata": {},
   "outputs": [],
   "source": [
    "def backtest_model(model, x, closed_prices, back):\n",
    "    \n",
    "    for idx in range(len(x)):\n",
    "        xx = np.array([x[idx]])\n",
    "        #print(xx)\n",
    "        yy = model.predict(xx)\n",
    "        yy = yy[0]\n",
    "        price = closed_prices[idx]\n",
    "        #print(f'{idx} {yy} {price}')\n",
    "        back.on_state(0, price)\n",
    "        if(yy == 1):\n",
    "            back.request_buy(price)\n",
    "        else:\n",
    "            back.request_sell(price)\n",
    "    \n",
    "    #print(f\"Closing backtest_model {price} {back.current}\")\n",
    "    back.sell(price)\n",
    "    #print(f\"Closed backtest_model {back.current}\")\n",
    "    \n",
    "    return back"
   ]
  },
  {
   "cell_type": "code",
   "execution_count": null,
   "id": "83fb2346",
   "metadata": {},
   "outputs": [],
   "source": []
  },
  {
   "cell_type": "code",
   "execution_count": 21,
   "id": "be8578b2",
   "metadata": {},
   "outputs": [],
   "source": [
    "def test_model(model, set_key, provider, step, verbose = True):\n",
    "    valX, valY = provider.load_val_data(set_key)\n",
    "\n",
    "    x, y, closed_prices = get_sequencial_data(valX, valY, step)\n",
    "    \n",
    "    #print(len(x))\n",
    "    preds = model.predict(x)\n",
    "\n",
    "    recall = recall_score(y, preds)\n",
    "    precision = precision_score(y, preds)\n",
    "    f1 = f1_score(y, preds)\n",
    "    accuracy = accuracy_score(y, preds)\n",
    "\n",
    "    back = BackTest(value = 100, \n",
    "                    verbose = verbose, \n",
    "                    sell_on_profit = True,\n",
    "                    pending_sell_steps = step)\n",
    "    back = backtest_model(model, x, closed_prices, back)\n",
    "    return back"
   ]
  },
  {
   "cell_type": "code",
   "execution_count": 22,
   "id": "34ec71c5",
   "metadata": {
    "scrolled": true
   },
   "outputs": [],
   "source": [
    "from datetime import datetime\n",
    "\n",
    "\n",
    "timestamp = int(datetime.timestamp((datetime.now())))\n",
    "\n"
   ]
  },
  {
   "cell_type": "code",
   "execution_count": 23,
   "id": "c7ff83ca",
   "metadata": {},
   "outputs": [],
   "source": [
    "online_cache = {}"
   ]
  },
  {
   "cell_type": "code",
   "execution_count": null,
   "id": "cfbe80d4",
   "metadata": {},
   "outputs": [],
   "source": []
  },
  {
   "cell_type": "code",
   "execution_count": 24,
   "id": "06575cba",
   "metadata": {
    "scrolled": true
   },
   "outputs": [
    {
     "data": {
      "application/vnd.jupyter.widget-view+json": {
       "model_id": "0625bc79018648b6ad24af5db977ffc9",
       "version_major": 2,
       "version_minor": 0
      },
      "text/plain": [
       "  0%|          | 0/55 [00:00<?, ?it/s]"
      ]
     },
     "metadata": {},
     "output_type": "display_data"
    },
    {
     "name": "stdout",
     "output_type": "stream",
     "text": [
      "Minutes=15 Window=20 Step=1 | 110.51658317764043\n",
      "Not found 15-20\n",
      "https://www.bitstamp.net/api/v2/ohlc/btcusd/?&currency_pair=btcusd&step=900&limit=1000&start=1627260946\n",
      "Downloaded from 2021-07-26 01:45:00 to 2021-07-27 02:30:00 37072.12\n",
      "Resample 15Min - TecAn ( windows 20, windows_limit 100 )\n",
      "Processing 99 of btcusd\n"
     ]
    },
    {
     "data": {
      "application/vnd.jupyter.widget-view+json": {
       "model_id": "2bbe4f47b11d46cfa5d70b09e936ed74",
       "version_major": 2,
       "version_minor": 0
      },
      "text/plain": [
       "  0%|          | 0/99 [00:00<?, ?it/s]"
      ]
     },
     "metadata": {},
     "output_type": "display_data"
    },
    {
     "name": "stdout",
     "output_type": "stream",
     "text": [
      "btcusd - 2.1623\n",
      "Minutes=15 Window=10 Step=1 | 109.43121445370366\n",
      "Not found 15-10\n",
      "https://www.bitstamp.net/api/v2/ohlc/btcusd/?&currency_pair=btcusd&step=900&limit=1000&start=1627260946\n",
      "Downloaded from 2021-07-26 01:45:00 to 2021-07-27 02:30:00 37072.12\n",
      "Resample 15Min - TecAn ( windows 10, windows_limit 100 )\n",
      "Processing 99 of btcusd\n"
     ]
    },
    {
     "data": {
      "application/vnd.jupyter.widget-view+json": {
       "model_id": "5f8071e252d24082ad1e4bb076a1fbb7",
       "version_major": 2,
       "version_minor": 0
      },
      "text/plain": [
       "  0%|          | 0/99 [00:00<?, ?it/s]"
      ]
     },
     "metadata": {},
     "output_type": "display_data"
    },
    {
     "name": "stdout",
     "output_type": "stream",
     "text": [
      "btcusd - -1.2708\n",
      "Minutes=5 Window=10 Step=1 | 109.30167581889944\n",
      "Not found 5-10\n",
      "https://www.bitstamp.net/api/v2/ohlc/btcusd/?&currency_pair=btcusd&step=300&limit=1000&start=1627320946\n",
      "Downloaded from 2021-07-26 18:35:00 to 2021-07-27 02:45:00 36884.26\n",
      "Resample 5Min - TecAn ( windows 10, windows_limit 100 )\n",
      "Processing 98 of btcusd\n"
     ]
    },
    {
     "data": {
      "application/vnd.jupyter.widget-view+json": {
       "model_id": "c2280a75c55c45dfaba3fef18b97fbad",
       "version_major": 2,
       "version_minor": 0
      },
      "text/plain": [
       "  0%|          | 0/98 [00:00<?, ?it/s]"
      ]
     },
     "metadata": {},
     "output_type": "display_data"
    },
    {
     "name": "stdout",
     "output_type": "stream",
     "text": [
      "btcusd - -2.0536\n",
      "Minutes=5 Window=10 Step=1 | 109.30167581889944\n",
      "btcusd - -2.0536\n",
      "Minutes=15 Window=10 Step=1 | 108.86938817937694\n",
      "btcusd - -2.3806\n",
      "Minutes=15 Window=30 Step=1 | 107.96955189926528\n",
      "Not found 15-30\n",
      "https://www.bitstamp.net/api/v2/ohlc/btcusd/?&currency_pair=btcusd&step=900&limit=1000&start=1627260946\n",
      "Downloaded from 2021-07-26 01:45:00 to 2021-07-27 02:30:00 37072.12\n",
      "Resample 15Min - TecAn ( windows 30, windows_limit 100 )\n",
      "Processing 99 of btcusd\n"
     ]
    },
    {
     "data": {
      "application/vnd.jupyter.widget-view+json": {
       "model_id": "800877ca992b41488406d81da80ebb42",
       "version_major": 2,
       "version_minor": 0
      },
      "text/plain": [
       "  0%|          | 0/99 [00:00<?, ?it/s]"
      ]
     },
     "metadata": {},
     "output_type": "display_data"
    },
    {
     "name": "stdout",
     "output_type": "stream",
     "text": [
      "btcusd - 6.0496\n",
      "Minutes=15 Window=40 Step=1 | 107.54102490786364\n",
      "Not found 15-40\n",
      "https://www.bitstamp.net/api/v2/ohlc/btcusd/?&currency_pair=btcusd&step=900&limit=1000&start=1627260946\n",
      "Downloaded from 2021-07-26 01:45:00 to 2021-07-27 02:30:00 37072.12\n",
      "Resample 15Min - TecAn ( windows 40, windows_limit 100 )\n",
      "Processing 99 of btcusd\n"
     ]
    },
    {
     "data": {
      "application/vnd.jupyter.widget-view+json": {
       "model_id": "35ab14e772a145b8ba47ca0e32dfdc3e",
       "version_major": 2,
       "version_minor": 0
      },
      "text/plain": [
       "  0%|          | 0/99 [00:00<?, ?it/s]"
      ]
     },
     "metadata": {},
     "output_type": "display_data"
    },
    {
     "name": "stdout",
     "output_type": "stream",
     "text": [
      "btcusd - 6.3617\n",
      "Minutes=15 Window=10 Step=1 | 106.45934826441461\n",
      "btcusd - -4.5309\n",
      "Minutes=15 Window=40 Step=1 | 105.92018458856937\n",
      "btcusd - 3.5128\n",
      "Minutes=15 Window=30 Step=1 | 104.62973571951268\n",
      "btcusd - 4.6126\n",
      "Minutes=15 Window=30 Step=1 | 103.69364307124795\n",
      "btcusd - 1.9433\n",
      "Minutes=15 Window=20 Step=1 | 103.66960968488361\n",
      "btcusd - 2.2251\n",
      "Minutes=5 Window=40 Step=1 | 103.31905516337095\n",
      "Not found 5-40\n",
      "https://www.bitstamp.net/api/v2/ohlc/btcusd/?&currency_pair=btcusd&step=300&limit=1000&start=1627320946\n",
      "Downloaded from 2021-07-26 18:35:00 to 2021-07-27 02:45:00 36884.26\n",
      "Resample 5Min - TecAn ( windows 40, windows_limit 100 )\n",
      "Processing 98 of btcusd\n"
     ]
    },
    {
     "data": {
      "application/vnd.jupyter.widget-view+json": {
       "model_id": "f4f12cd77ef94b089a82cb080a351fdf",
       "version_major": 2,
       "version_minor": 0
      },
      "text/plain": [
       "  0%|          | 0/98 [00:00<?, ?it/s]"
      ]
     },
     "metadata": {},
     "output_type": "display_data"
    },
    {
     "name": "stdout",
     "output_type": "stream",
     "text": [
      "btcusd - 1.483\n",
      "Minutes=5 Window=30 Step=1 | 103.19894610158734\n",
      "Not found 5-30\n",
      "https://www.bitstamp.net/api/v2/ohlc/btcusd/?&currency_pair=btcusd&step=300&limit=1000&start=1627320946\n",
      "Downloaded from 2021-07-26 18:35:00 to 2021-07-27 02:45:00 36884.26\n",
      "Resample 5Min - TecAn ( windows 30, windows_limit 100 )\n",
      "Processing 98 of btcusd\n"
     ]
    },
    {
     "data": {
      "application/vnd.jupyter.widget-view+json": {
       "model_id": "9f24b421ce524cff95551d06022b339f",
       "version_major": 2,
       "version_minor": 0
      },
      "text/plain": [
       "  0%|          | 0/98 [00:00<?, ?it/s]"
      ]
     },
     "metadata": {},
     "output_type": "display_data"
    },
    {
     "name": "stdout",
     "output_type": "stream",
     "text": [
      "btcusd - -1.4951\n",
      "Minutes=15 Window=40 Step=1 | 102.98948426373286\n",
      "btcusd - 4.1728\n",
      "Minutes=15 Window=40 Step=1 | 102.98948426373286\n",
      "btcusd - 4.1728\n",
      "Minutes=5 Window=40 Step=1 | 102.43430847830109\n",
      "btcusd - 1.1435\n",
      "Minutes=5 Window=40 Step=1 | 102.43430847830109\n",
      "btcusd - 1.1435\n",
      "Minutes=3 Window=10 Step=1 | 101.7614675607038\n",
      "Not found 3-10\n",
      "https://www.bitstamp.net/api/v2/ohlc/btcusd/?&currency_pair=btcusd&step=180&limit=1000&start=1627332946\n",
      "Downloaded from 2021-07-26 21:54:00 to 2021-07-27 02:48:00 37115.30\n",
      "Resample 3Min - TecAn ( windows 10, windows_limit 100 )\n",
      "Processing 98 of btcusd\n"
     ]
    },
    {
     "data": {
      "application/vnd.jupyter.widget-view+json": {
       "model_id": "f2e9a1d7caff4d18802fa3f7cf84ecf1",
       "version_major": 2,
       "version_minor": 0
      },
      "text/plain": [
       "  0%|          | 0/98 [00:00<?, ?it/s]"
      ]
     },
     "metadata": {},
     "output_type": "display_data"
    },
    {
     "name": "stdout",
     "output_type": "stream",
     "text": [
      "btcusd - -0.0252\n",
      "Minutes=5 Window=20 Step=1 | 101.75590348568932\n",
      "Not found 5-20\n",
      "https://www.bitstamp.net/api/v2/ohlc/btcusd/?&currency_pair=btcusd&step=300&limit=1000&start=1627320946\n",
      "Downloaded from 2021-07-26 18:35:00 to 2021-07-27 02:45:00 36884.26\n",
      "Resample 5Min - TecAn ( windows 20, windows_limit 100 )\n",
      "Processing 98 of btcusd\n"
     ]
    },
    {
     "data": {
      "application/vnd.jupyter.widget-view+json": {
       "model_id": "68d6389eb02d4c8cba53feea1d91d95a",
       "version_major": 2,
       "version_minor": 0
      },
      "text/plain": [
       "  0%|          | 0/98 [00:00<?, ?it/s]"
      ]
     },
     "metadata": {},
     "output_type": "display_data"
    },
    {
     "name": "stdout",
     "output_type": "stream",
     "text": [
      "btcusd - -0.2875\n",
      "Minutes=15 Window=10 Step=1 | 101.56670281250578\n",
      "btcusd - 3.2883\n",
      "Minutes=3 Window=40 Step=1 | 101.15105652661134\n",
      "Not found 3-40\n",
      "https://www.bitstamp.net/api/v2/ohlc/btcusd/?&currency_pair=btcusd&step=180&limit=1000&start=1627332946\n",
      "Downloaded from 2021-07-26 21:54:00 to 2021-07-27 02:48:00 37115.30\n",
      "Resample 3Min - TecAn ( windows 40, windows_limit 100 )\n",
      "Processing 98 of btcusd\n"
     ]
    },
    {
     "data": {
      "application/vnd.jupyter.widget-view+json": {
       "model_id": "bf72e1a059ea4f60aa78d48c0a659d31",
       "version_major": 2,
       "version_minor": 0
      },
      "text/plain": [
       "  0%|          | 0/98 [00:00<?, ?it/s]"
      ]
     },
     "metadata": {},
     "output_type": "display_data"
    },
    {
     "name": "stdout",
     "output_type": "stream",
     "text": [
      "btcusd - -0.005\n",
      "Minutes=15 Window=5 Step=1 | 100.75470835025597\n",
      "Not found 15-5\n",
      "https://www.bitstamp.net/api/v2/ohlc/btcusd/?&currency_pair=btcusd&step=900&limit=1000&start=1627260946\n",
      "Downloaded from 2021-07-26 01:45:00 to 2021-07-27 02:30:00 37072.12\n",
      "Resample 15Min - TecAn ( windows 5, windows_limit 100 )\n",
      "Processing 99 of btcusd\n"
     ]
    },
    {
     "data": {
      "application/vnd.jupyter.widget-view+json": {
       "model_id": "69708003cc914f4fbdf7b0d07fe3fa1d",
       "version_major": 2,
       "version_minor": 0
      },
      "text/plain": [
       "  0%|          | 0/99 [00:00<?, ?it/s]"
      ]
     },
     "metadata": {},
     "output_type": "display_data"
    },
    {
     "name": "stdout",
     "output_type": "stream",
     "text": [
      "btcusd - -0.8857\n",
      "Minutes=3 Window=5 Step=1 | 100.71844560982993\n",
      "Not found 3-5\n",
      "https://www.bitstamp.net/api/v2/ohlc/btcusd/?&currency_pair=btcusd&step=180&limit=1000&start=1627332946\n",
      "Downloaded from 2021-07-26 21:54:00 to 2021-07-27 02:48:00 37115.30\n",
      "Resample 3Min - TecAn ( windows 5, windows_limit 100 )\n",
      "Processing 98 of btcusd\n"
     ]
    },
    {
     "data": {
      "application/vnd.jupyter.widget-view+json": {
       "model_id": "5318e50733934999a0bb444e783ba6be",
       "version_major": 2,
       "version_minor": 0
      },
      "text/plain": [
       "  0%|          | 0/98 [00:00<?, ?it/s]"
      ]
     },
     "metadata": {},
     "output_type": "display_data"
    },
    {
     "name": "stdout",
     "output_type": "stream",
     "text": [
      "btcusd - 0.0295\n",
      "Minutes=1 Window=5 Step=1 | 100.65650202597746\n",
      "Not found 1-5\n",
      "https://www.bitstamp.net/api/v2/ohlc/btcusd/?&currency_pair=btcusd&step=60&limit=1000&start=1627344946\n",
      "Downloaded from 2021-07-27 01:15:00 to 2021-07-27 02:54:00 36971.61\n",
      "Resample 1Min - TecAn ( windows 5, windows_limit 100 )\n",
      "Processing 99 of btcusd\n"
     ]
    },
    {
     "data": {
      "application/vnd.jupyter.widget-view+json": {
       "model_id": "32b6703554264f3593c903a97d6e23a5",
       "version_major": 2,
       "version_minor": 0
      },
      "text/plain": [
       "  0%|          | 0/99 [00:00<?, ?it/s]"
      ]
     },
     "metadata": {},
     "output_type": "display_data"
    },
    {
     "name": "stdout",
     "output_type": "stream",
     "text": [
      "btcusd - -0.0356\n",
      "Minutes=5 Window=10 Step=1 | 100.57223553895554\n",
      "btcusd - 1.8549\n",
      "Minutes=1 Window=40 Step=1 | 100.55284344606156\n",
      "Not found 1-40\n",
      "https://www.bitstamp.net/api/v2/ohlc/btcusd/?&currency_pair=btcusd&step=60&limit=1000&start=1627344946\n",
      "Downloaded from 2021-07-27 01:15:00 to 2021-07-27 02:54:00 36971.61\n",
      "Resample 1Min - TecAn ( windows 40, windows_limit 100 )\n",
      "Processing 99 of btcusd\n"
     ]
    },
    {
     "data": {
      "application/vnd.jupyter.widget-view+json": {
       "model_id": "bece0e8796114e0bbecaa2366b355371",
       "version_major": 2,
       "version_minor": 0
      },
      "text/plain": [
       "  0%|          | 0/99 [00:00<?, ?it/s]"
      ]
     },
     "metadata": {},
     "output_type": "display_data"
    },
    {
     "name": "stdout",
     "output_type": "stream",
     "text": [
      "btcusd - 0.0167\n",
      "Minutes=1 Window=20 Step=1 | 100.50683816892415\n",
      "Not found 1-20\n",
      "https://www.bitstamp.net/api/v2/ohlc/btcusd/?&currency_pair=btcusd&step=60&limit=1000&start=1627344946\n",
      "Downloaded from 2021-07-27 01:15:00 to 2021-07-27 02:54:00 36971.61\n",
      "Resample 1Min - TecAn ( windows 20, windows_limit 100 )\n",
      "Processing 99 of btcusd\n"
     ]
    },
    {
     "data": {
      "application/vnd.jupyter.widget-view+json": {
       "model_id": "3f4fb8d4a5034f57a3f640354abaf028",
       "version_major": 2,
       "version_minor": 0
      },
      "text/plain": [
       "  0%|          | 0/99 [00:00<?, ?it/s]"
      ]
     },
     "metadata": {},
     "output_type": "display_data"
    },
    {
     "name": "stdout",
     "output_type": "stream",
     "text": [
      "btcusd - -0.2087\n",
      "Minutes=1 Window=20 Step=1 | 100.49058201812207\n"
     ]
    },
    {
     "name": "stderr",
     "output_type": "stream",
     "text": [
      "/Users/samirantonio/opt/miniconda3/envs/py3/lib/python3.9/site-packages/sklearn/metrics/_classification.py:1248: UndefinedMetricWarning: Precision is ill-defined and being set to 0.0 due to no predicted samples. Use `zero_division` parameter to control this behavior.\n",
      "  _warn_prf(average, modifier, msg_start, len(result))\n"
     ]
    },
    {
     "name": "stdout",
     "output_type": "stream",
     "text": [
      "btcusd - 0.0\n",
      "Minutes=1 Window=20 Step=1 | 100.45331447577291\n"
     ]
    },
    {
     "name": "stderr",
     "output_type": "stream",
     "text": [
      "/Users/samirantonio/opt/miniconda3/envs/py3/lib/python3.9/site-packages/sklearn/metrics/_classification.py:1248: UndefinedMetricWarning: Precision is ill-defined and being set to 0.0 due to no predicted samples. Use `zero_division` parameter to control this behavior.\n",
      "  _warn_prf(average, modifier, msg_start, len(result))\n"
     ]
    },
    {
     "name": "stdout",
     "output_type": "stream",
     "text": [
      "btcusd - 0.0\n",
      "Minutes=1 Window=40 Step=1 | 100.44846067381805\n"
     ]
    },
    {
     "name": "stderr",
     "output_type": "stream",
     "text": [
      "/Users/samirantonio/opt/miniconda3/envs/py3/lib/python3.9/site-packages/sklearn/metrics/_classification.py:1248: UndefinedMetricWarning: Precision is ill-defined and being set to 0.0 due to no predicted samples. Use `zero_division` parameter to control this behavior.\n",
      "  _warn_prf(average, modifier, msg_start, len(result))\n"
     ]
    },
    {
     "name": "stdout",
     "output_type": "stream",
     "text": [
      "btcusd - 0.0\n",
      "Minutes=1 Window=5 Step=1 | 100.43935506100237\n"
     ]
    },
    {
     "name": "stderr",
     "output_type": "stream",
     "text": [
      "/Users/samirantonio/opt/miniconda3/envs/py3/lib/python3.9/site-packages/sklearn/metrics/_classification.py:1248: UndefinedMetricWarning: Precision is ill-defined and being set to 0.0 due to no predicted samples. Use `zero_division` parameter to control this behavior.\n",
      "  _warn_prf(average, modifier, msg_start, len(result))\n"
     ]
    },
    {
     "name": "stdout",
     "output_type": "stream",
     "text": [
      "btcusd - 0.0\n",
      "Minutes=1 Window=10 Step=1 | 100.42624175371004\n",
      "Not found 1-10\n",
      "https://www.bitstamp.net/api/v2/ohlc/btcusd/?&currency_pair=btcusd&step=60&limit=1000&start=1627344946\n",
      "Downloaded from 2021-07-27 01:15:00 to 2021-07-27 02:54:00 36971.61\n",
      "Resample 1Min - TecAn ( windows 10, windows_limit 100 )\n",
      "Processing 99 of btcusd\n"
     ]
    },
    {
     "data": {
      "application/vnd.jupyter.widget-view+json": {
       "model_id": "10551cfbfc4e4964ad165c81056fc134",
       "version_major": 2,
       "version_minor": 0
      },
      "text/plain": [
       "  0%|          | 0/99 [00:00<?, ?it/s]"
      ]
     },
     "metadata": {},
     "output_type": "display_data"
    },
    {
     "name": "stderr",
     "output_type": "stream",
     "text": [
      "/Users/samirantonio/opt/miniconda3/envs/py3/lib/python3.9/site-packages/sklearn/metrics/_classification.py:1248: UndefinedMetricWarning: Precision is ill-defined and being set to 0.0 due to no predicted samples. Use `zero_division` parameter to control this behavior.\n",
      "  _warn_prf(average, modifier, msg_start, len(result))\n"
     ]
    },
    {
     "name": "stdout",
     "output_type": "stream",
     "text": [
      "btcusd - 0.0\n",
      "Minutes=1 Window=20 Step=1 | 100.42517986385346\n"
     ]
    },
    {
     "name": "stderr",
     "output_type": "stream",
     "text": [
      "/Users/samirantonio/opt/miniconda3/envs/py3/lib/python3.9/site-packages/sklearn/metrics/_classification.py:1248: UndefinedMetricWarning: Precision is ill-defined and being set to 0.0 due to no predicted samples. Use `zero_division` parameter to control this behavior.\n",
      "  _warn_prf(average, modifier, msg_start, len(result))\n"
     ]
    },
    {
     "name": "stdout",
     "output_type": "stream",
     "text": [
      "btcusd - 0.0\n",
      "Minutes=3 Window=40 Step=1 | 100.4074271973064\n",
      "btcusd - 0.0544\n",
      "Minutes=3 Window=5 Step=1 | 100.40589582316468\n",
      "btcusd - 1.2194\n",
      "Minutes=1 Window=30 Step=1 | 100.39951520248437\n",
      "Not found 1-30\n",
      "https://www.bitstamp.net/api/v2/ohlc/btcusd/?&currency_pair=btcusd&step=60&limit=1000&start=1627344946\n",
      "Downloaded from 2021-07-27 01:15:00 to 2021-07-27 02:54:00 36971.61\n",
      "Resample 1Min - TecAn ( windows 30, windows_limit 100 )\n",
      "Processing 99 of btcusd\n"
     ]
    },
    {
     "data": {
      "application/vnd.jupyter.widget-view+json": {
       "model_id": "7b574c5736674f3a897e8ec1cd8c0166",
       "version_major": 2,
       "version_minor": 0
      },
      "text/plain": [
       "  0%|          | 0/99 [00:00<?, ?it/s]"
      ]
     },
     "metadata": {},
     "output_type": "display_data"
    },
    {
     "name": "stderr",
     "output_type": "stream",
     "text": [
      "/Users/samirantonio/opt/miniconda3/envs/py3/lib/python3.9/site-packages/sklearn/metrics/_classification.py:1248: UndefinedMetricWarning: Precision is ill-defined and being set to 0.0 due to no predicted samples. Use `zero_division` parameter to control this behavior.\n",
      "  _warn_prf(average, modifier, msg_start, len(result))\n"
     ]
    },
    {
     "name": "stdout",
     "output_type": "stream",
     "text": [
      "btcusd - 0.0\n",
      "Minutes=1 Window=40 Step=1 | 100.34355313061027\n"
     ]
    },
    {
     "name": "stderr",
     "output_type": "stream",
     "text": [
      "/Users/samirantonio/opt/miniconda3/envs/py3/lib/python3.9/site-packages/sklearn/metrics/_classification.py:1248: UndefinedMetricWarning: Precision is ill-defined and being set to 0.0 due to no predicted samples. Use `zero_division` parameter to control this behavior.\n",
      "  _warn_prf(average, modifier, msg_start, len(result))\n"
     ]
    },
    {
     "name": "stdout",
     "output_type": "stream",
     "text": [
      "btcusd - 0.0\n",
      "Minutes=3 Window=10 Step=1 | 100.29727424132987\n",
      "btcusd - -0.0411\n",
      "Minutes=1 Window=10 Step=1 | 100.21768018724055\n"
     ]
    },
    {
     "name": "stderr",
     "output_type": "stream",
     "text": [
      "/Users/samirantonio/opt/miniconda3/envs/py3/lib/python3.9/site-packages/sklearn/metrics/_classification.py:1248: UndefinedMetricWarning: Precision is ill-defined and being set to 0.0 due to no predicted samples. Use `zero_division` parameter to control this behavior.\n",
      "  _warn_prf(average, modifier, msg_start, len(result))\n"
     ]
    },
    {
     "name": "stdout",
     "output_type": "stream",
     "text": [
      "btcusd - 0.0\n",
      "Minutes=5 Window=20 Step=1 | 100.20315870790316\n",
      "btcusd - -1.3017\n",
      "Minutes=1 Window=40 Step=1 | 100.18498723338602\n",
      "btcusd - 0.0167\n",
      "Minutes=1 Window=10 Step=1 | 100.17571575209632\n"
     ]
    },
    {
     "name": "stderr",
     "output_type": "stream",
     "text": [
      "/Users/samirantonio/opt/miniconda3/envs/py3/lib/python3.9/site-packages/sklearn/metrics/_classification.py:1248: UndefinedMetricWarning: Precision is ill-defined and being set to 0.0 due to no predicted samples. Use `zero_division` parameter to control this behavior.\n",
      "  _warn_prf(average, modifier, msg_start, len(result))\n"
     ]
    },
    {
     "name": "stdout",
     "output_type": "stream",
     "text": [
      "btcusd - 0.0\n",
      "Minutes=1 Window=30 Step=1 | 100.08928056206574\n"
     ]
    },
    {
     "name": "stderr",
     "output_type": "stream",
     "text": [
      "/Users/samirantonio/opt/miniconda3/envs/py3/lib/python3.9/site-packages/sklearn/metrics/_classification.py:1248: UndefinedMetricWarning: Precision is ill-defined and being set to 0.0 due to no predicted samples. Use `zero_division` parameter to control this behavior.\n",
      "  _warn_prf(average, modifier, msg_start, len(result))\n"
     ]
    },
    {
     "name": "stdout",
     "output_type": "stream",
     "text": [
      "btcusd - 0.0\n",
      "Minutes=1 Window=30 Step=1 | 100.08928056206574\n"
     ]
    },
    {
     "name": "stderr",
     "output_type": "stream",
     "text": [
      "/Users/samirantonio/opt/miniconda3/envs/py3/lib/python3.9/site-packages/sklearn/metrics/_classification.py:1248: UndefinedMetricWarning: Precision is ill-defined and being set to 0.0 due to no predicted samples. Use `zero_division` parameter to control this behavior.\n",
      "  _warn_prf(average, modifier, msg_start, len(result))\n"
     ]
    },
    {
     "name": "stdout",
     "output_type": "stream",
     "text": [
      "btcusd - 0.0\n",
      "Minutes=1 Window=10 Step=1 | 100.05941768734493\n"
     ]
    },
    {
     "name": "stderr",
     "output_type": "stream",
     "text": [
      "/Users/samirantonio/opt/miniconda3/envs/py3/lib/python3.9/site-packages/sklearn/metrics/_classification.py:1248: UndefinedMetricWarning: Precision is ill-defined and being set to 0.0 due to no predicted samples. Use `zero_division` parameter to control this behavior.\n",
      "  _warn_prf(average, modifier, msg_start, len(result))\n"
     ]
    },
    {
     "name": "stdout",
     "output_type": "stream",
     "text": [
      "btcusd - 0.0\n",
      "Minutes=3 Window=10 Step=1 | 100.05065588117135\n",
      "btcusd - -0.9683\n",
      "Minutes=1 Window=10 Step=1 | 100.04778007365884\n",
      "btcusd - 0.0167\n",
      "Minutes=1 Window=30 Step=1 | 100.04682142332612\n"
     ]
    },
    {
     "name": "stderr",
     "output_type": "stream",
     "text": [
      "/Users/samirantonio/opt/miniconda3/envs/py3/lib/python3.9/site-packages/sklearn/metrics/_classification.py:1248: UndefinedMetricWarning: Precision is ill-defined and being set to 0.0 due to no predicted samples. Use `zero_division` parameter to control this behavior.\n",
      "  _warn_prf(average, modifier, msg_start, len(result))\n"
     ]
    },
    {
     "name": "stdout",
     "output_type": "stream",
     "text": [
      "btcusd - 0.0\n",
      "Minutes=1 Window=5 Step=1 | 100.03379323265345\n"
     ]
    },
    {
     "name": "stderr",
     "output_type": "stream",
     "text": [
      "/Users/samirantonio/opt/miniconda3/envs/py3/lib/python3.9/site-packages/sklearn/metrics/_classification.py:1248: UndefinedMetricWarning: Precision is ill-defined and being set to 0.0 due to no predicted samples. Use `zero_division` parameter to control this behavior.\n",
      "  _warn_prf(average, modifier, msg_start, len(result))\n"
     ]
    },
    {
     "name": "stdout",
     "output_type": "stream",
     "text": [
      "btcusd - 0.0\n",
      "Minutes=15 Window=5 Step=1 | 100.01436751411367\n",
      "btcusd - -2.0947\n",
      "Minutes=15 Window=5 Step=1 | 100.01436751411367\n",
      "btcusd - -2.0947\n",
      "Minutes=1 Window=10 Step=1 | 100.01004333767136\n",
      "btcusd - -0.0356\n",
      "Minutes=1 Window=20 Step=1 | 100.0086962907278\n",
      "btcusd - -0.0356\n",
      "Minutes=3 Window=30 Step=1 | 100.00342848896511\n",
      "Not found 3-30\n",
      "https://www.bitstamp.net/api/v2/ohlc/btcusd/?&currency_pair=btcusd&step=180&limit=1000&start=1627332946\n",
      "Downloaded from 2021-07-26 21:54:00 to 2021-07-27 02:48:00 37115.30\n",
      "Resample 3Min - TecAn ( windows 30, windows_limit 100 )\n",
      "Processing 98 of btcusd\n"
     ]
    },
    {
     "data": {
      "application/vnd.jupyter.widget-view+json": {
       "model_id": "7c77a059936b4c28aa24e0060104ea3d",
       "version_major": 2,
       "version_minor": 0
      },
      "text/plain": [
       "  0%|          | 0/98 [00:00<?, ?it/s]"
      ]
     },
     "metadata": {},
     "output_type": "display_data"
    },
    {
     "name": "stdout",
     "output_type": "stream",
     "text": [
      "btcusd - 0.5973\n"
     ]
    }
   ],
   "source": [
    "scoreboard = []\n",
    "\n",
    "fails = []\n",
    "\n",
    "currency = \"ltcusd\"\n",
    "currency = \"ethusd\"\n",
    "currency = \"batusd\"\n",
    "\n",
    "currs = [\"batusd\", \"ltcusd\", \"ethusd\", \"btcusd\"]\n",
    "currs = [\"btcusd\"]\n",
    "\n",
    "#currs = online.val_keys\n",
    "\n",
    "for best in tqdm(best_results):\n",
    "    model = best['model']\n",
    "    window = best['window']\n",
    "    minutes = best['minutes']\n",
    "    step = best['step']\n",
    "    profit = best['profit']\n",
    "    print(f\"Minutes={minutes} Window={window} Step={step} | {profit}\")\n",
    "    cache_key = f\"{minutes}-{window}\"\n",
    "    try:\n",
    "        online = online_cache[cache_key]\n",
    "    except :\n",
    "        print(f\"Not found {cache_key}\")\n",
    "        online = load_online(minutes = minutes, window = window, val_end = timestamp, currency = currs)\n",
    "        online_cache[cache_key] = online\n",
    "        \n",
    "    profits = []\n",
    "    backs = {}\n",
    "    score = {}\n",
    "    \n",
    "    has_negative = False\n",
    "    \n",
    "    for train_set in currs:\n",
    "        back = test_model(model, train_set, online, step, False)\n",
    "        back_profit = back.get_profit()\n",
    "        profits.append(back_profit)\n",
    "        backs[train_set] = back\n",
    "        print(f\"{train_set} - {back_profit}\")\n",
    "        if (back_profit <= 0 and not has_negative):\n",
    "            has_negative = True\n",
    "        \n",
    "    score['profit'] = np.average(profits)\n",
    "    score['backs'] = backs\n",
    "    score['result'] = best\n",
    "    if (not has_negative):\n",
    "        scoreboard.append(score)\n",
    "\n"
   ]
  },
  {
   "cell_type": "code",
   "execution_count": 25,
   "id": "95ed89b6",
   "metadata": {},
   "outputs": [
    {
     "name": "stdout",
     "output_type": "stream",
     "text": [
      "Selected: 21\n",
      "btcusd -> 6.3617\n",
      "Minutes=15 Window=40 Step=1 | 107.54102490786364 {'ltceur': 0.015279344278762323, 'ltcusd': -0.0454292269280058, 'ethusd': 0.036423002123218015, 'btcusd': -0.014182816584286384}\n",
      "Pipeline(steps=[('standardscaler', StandardScaler()),\n",
      "                ('pipeline',\n",
      "                 Pipeline(steps=[('s',\n",
      "                                  RFECV(estimator=DecisionTreeClassifier(random_state=10),\n",
      "                                        scoring='recall')),\n",
      "                                 ('m',\n",
      "                                  RandomForestClassifier(criterion='entropy',\n",
      "                                                         max_depth=100,\n",
      "                                                         n_estimators=30,\n",
      "                                                         random_state=42))]))])\n",
      "btcusd -> 6.0496\n",
      "Minutes=15 Window=30 Step=1 | 107.96955189926528 {'ltceur': 0.015279344278762323, 'ltcusd': -0.0454292269280058, 'ethusd': 0.036423002123218015, 'btcusd': -0.014182816584286384}\n",
      "Pipeline(steps=[('normalizer', Normalizer()),\n",
      "                ('pipeline',\n",
      "                 Pipeline(steps=[('s',\n",
      "                                  RFECV(estimator=DecisionTreeClassifier(random_state=10),\n",
      "                                        scoring='recall')),\n",
      "                                 ('m',\n",
      "                                  RandomForestClassifier(criterion='entropy',\n",
      "                                                         max_depth=100,\n",
      "                                                         n_estimators=30,\n",
      "                                                         random_state=42))]))])\n",
      "btcusd -> 4.6126\n",
      "Minutes=15 Window=30 Step=1 | 104.62973571951268 {'ltceur': 0.015279344278762323, 'ltcusd': -0.0454292269280058, 'ethusd': 0.036423002123218015, 'btcusd': -0.014182816584286384}\n",
      "Pipeline(steps=[('normalizer', Normalizer()),\n",
      "                ('randomforestclassifier',\n",
      "                 RandomForestClassifier(criterion='entropy', max_depth=100,\n",
      "                                        n_estimators=30, random_state=42))])\n",
      "btcusd -> 4.1728\n",
      "Minutes=15 Window=40 Step=1 | 102.98948426373286 {'ltceur': 0.015279344278762323, 'ltcusd': -0.0454292269280058, 'ethusd': 0.036423002123218015, 'btcusd': -0.014182816584286384}\n",
      "Pipeline(steps=[('normalizer', Normalizer()),\n",
      "                ('randomforestclassifier',\n",
      "                 RandomForestClassifier(criterion='entropy', max_depth=100,\n",
      "                                        n_estimators=30, random_state=42))])\n",
      "btcusd -> 4.1728\n",
      "Minutes=15 Window=40 Step=1 | 102.98948426373286 {'ltceur': 0.015279344278762323, 'ltcusd': -0.0454292269280058, 'ethusd': 0.036423002123218015, 'btcusd': -0.014182816584286384}\n",
      "Pipeline(steps=[('normalizer', Normalizer()),\n",
      "                ('pipeline',\n",
      "                 Pipeline(steps=[('s',\n",
      "                                  RFECV(estimator=DecisionTreeClassifier(random_state=10),\n",
      "                                        scoring='recall')),\n",
      "                                 ('m',\n",
      "                                  RandomForestClassifier(criterion='entropy',\n",
      "                                                         max_depth=100,\n",
      "                                                         n_estimators=30,\n",
      "                                                         random_state=42))]))])\n",
      "btcusd -> 3.5128\n",
      "Minutes=15 Window=40 Step=1 | 105.92018458856937 {'ltceur': 0.015279344278762323, 'ltcusd': -0.0454292269280058, 'ethusd': 0.036423002123218015, 'btcusd': -0.014182816584286384}\n",
      "Pipeline(steps=[('minmaxscaler', MinMaxScaler()),\n",
      "                ('randomforestclassifier',\n",
      "                 RandomForestClassifier(criterion='entropy', max_depth=100,\n",
      "                                        n_estimators=30, random_state=42))])\n",
      "btcusd -> 3.2883\n",
      "Minutes=15 Window=10 Step=1 | 101.56670281250578 {'ltceur': 0.015279344278762323, 'ltcusd': -0.0454292269280058, 'ethusd': 0.036423002123218015, 'btcusd': -0.014182816584286384}\n",
      "Pipeline(steps=[('normalizer', Normalizer()),\n",
      "                ('pipeline',\n",
      "                 Pipeline(steps=[('s',\n",
      "                                  RFECV(estimator=DecisionTreeClassifier(random_state=10),\n",
      "                                        scoring='recall')),\n",
      "                                 ('m',\n",
      "                                  RandomForestClassifier(criterion='entropy',\n",
      "                                                         max_depth=100,\n",
      "                                                         n_estimators=30,\n",
      "                                                         random_state=42))]))])\n",
      "btcusd -> 2.2251\n",
      "Minutes=15 Window=20 Step=1 | 103.66960968488361 {'ltceur': 0.015279344278762323, 'ltcusd': -0.0454292269280058, 'ethusd': 0.036423002123218015, 'btcusd': -0.014182816584286384}\n",
      "Pipeline(steps=[('normalizer', Normalizer()),\n",
      "                ('randomforestclassifier',\n",
      "                 RandomForestClassifier(criterion='entropy', max_depth=100,\n",
      "                                        n_estimators=30, random_state=42))])\n",
      "btcusd -> 2.1623\n",
      "Minutes=15 Window=20 Step=1 | 110.51658317764043 {'ltceur': 0.015279344278762323, 'ltcusd': -0.0454292269280058, 'ethusd': 0.036423002123218015, 'btcusd': -0.014182816584286384}\n",
      "Pipeline(steps=[('standardscaler', StandardScaler()),\n",
      "                ('randomforestclassifier',\n",
      "                 RandomForestClassifier(criterion='entropy', max_depth=100,\n",
      "                                        n_estimators=30, random_state=42))])\n",
      "btcusd -> 1.9433\n",
      "Minutes=15 Window=30 Step=1 | 103.69364307124795 {'ltceur': 0.015279344278762323, 'ltcusd': -0.0454292269280058, 'ethusd': 0.036423002123218015, 'btcusd': -0.014182816584286384}\n",
      "Pipeline(steps=[('standardscaler', StandardScaler()),\n",
      "                ('randomforestclassifier',\n",
      "                 RandomForestClassifier(criterion='entropy', max_depth=100,\n",
      "                                        n_estimators=30, random_state=42))])\n",
      "btcusd -> 1.8549\n",
      "Minutes=5 Window=10 Step=1 | 100.57223553895554 {'ltceur': 0.015279344278762323, 'ltcusd': -0.0454292269280058, 'ethusd': 0.036423002123218015, 'btcusd': -0.014182816584286384}\n",
      "Pipeline(steps=[('minmaxscaler', MinMaxScaler()),\n",
      "                ('randomforestclassifier',\n",
      "                 RandomForestClassifier(criterion='entropy', max_depth=100,\n",
      "                                        n_estimators=30, random_state=42))])\n",
      "btcusd -> 1.483\n",
      "Minutes=5 Window=40 Step=1 | 103.31905516337095 {'ltceur': 0.015279344278762323, 'ltcusd': -0.0454292269280058, 'ethusd': 0.036423002123218015, 'btcusd': -0.014182816584286384}\n",
      "Pipeline(steps=[('normalizer', Normalizer()),\n",
      "                ('randomforestclassifier',\n",
      "                 RandomForestClassifier(criterion='entropy', max_depth=100,\n",
      "                                        n_estimators=30, random_state=42))])\n",
      "btcusd -> 1.2194\n",
      "Minutes=3 Window=5 Step=1 | 100.40589582316468 {'ltceur': 0.015279344278762323, 'ltcusd': -0.0454292269280058, 'ethusd': 0.036423002123218015, 'btcusd': -0.014182816584286384}\n",
      "Pipeline(steps=[('normalizer', Normalizer()),\n",
      "                ('pipeline',\n",
      "                 Pipeline(steps=[('s',\n",
      "                                  RFECV(estimator=DecisionTreeClassifier(random_state=10),\n",
      "                                        scoring='recall')),\n",
      "                                 ('m',\n",
      "                                  RandomForestClassifier(criterion='entropy',\n",
      "                                                         max_depth=100,\n",
      "                                                         n_estimators=30,\n",
      "                                                         random_state=42))]))])\n",
      "btcusd -> 1.1435\n",
      "Minutes=5 Window=40 Step=1 | 102.43430847830109 {'ltceur': 0.015279344278762323, 'ltcusd': -0.0454292269280058, 'ethusd': 0.036423002123218015, 'btcusd': -0.014182816584286384}\n",
      "Pipeline(steps=[('minmaxscaler', MinMaxScaler()),\n",
      "                ('randomforestclassifier',\n",
      "                 RandomForestClassifier(criterion='entropy', max_depth=100,\n",
      "                                        n_estimators=30, random_state=42))])\n",
      "btcusd -> 1.1435\n",
      "Minutes=5 Window=40 Step=1 | 102.43430847830109 {'ltceur': 0.015279344278762323, 'ltcusd': -0.0454292269280058, 'ethusd': 0.036423002123218015, 'btcusd': -0.014182816584286384}\n",
      "Pipeline(steps=[('minmaxscaler', MinMaxScaler()),\n",
      "                ('pipeline',\n",
      "                 Pipeline(steps=[('s',\n",
      "                                  RFECV(estimator=DecisionTreeClassifier(random_state=10),\n",
      "                                        scoring='recall')),\n",
      "                                 ('m',\n",
      "                                  RandomForestClassifier(criterion='entropy',\n",
      "                                                         max_depth=100,\n",
      "                                                         n_estimators=30,\n",
      "                                                         random_state=42))]))])\n",
      "btcusd -> 0.5973\n",
      "Minutes=3 Window=30 Step=1 | 100.00342848896511 {'ltceur': 0.015279344278762323, 'ltcusd': -0.0454292269280058, 'ethusd': 0.036423002123218015, 'btcusd': -0.014182816584286384}\n",
      "Pipeline(steps=[('minmaxscaler', MinMaxScaler()),\n",
      "                ('randomforestclassifier',\n",
      "                 RandomForestClassifier(criterion='entropy', max_depth=100,\n",
      "                                        n_estimators=30, random_state=42))])\n",
      "btcusd -> 0.0544\n",
      "Minutes=3 Window=40 Step=1 | 100.4074271973064 {'ltceur': 0.015279344278762323, 'ltcusd': -0.0454292269280058, 'ethusd': 0.036423002123218015, 'btcusd': -0.014182816584286384}\n",
      "Pipeline(steps=[('minmaxscaler', MinMaxScaler()),\n",
      "                ('randomforestclassifier',\n",
      "                 RandomForestClassifier(criterion='entropy', max_depth=100,\n",
      "                                        n_estimators=30, random_state=42))])\n",
      "btcusd -> 0.0295\n",
      "Minutes=3 Window=5 Step=1 | 100.71844560982993 {'ltceur': 0.015279344278762323, 'ltcusd': -0.0454292269280058, 'ethusd': 0.036423002123218015, 'btcusd': -0.014182816584286384}\n",
      "Pipeline(steps=[('minmaxscaler', MinMaxScaler()),\n",
      "                ('pipeline',\n",
      "                 Pipeline(steps=[('s',\n",
      "                                  RFECV(estimator=DecisionTreeClassifier(random_state=10),\n",
      "                                        scoring='recall')),\n",
      "                                 ('m',\n",
      "                                  RandomForestClassifier(criterion='entropy',\n",
      "                                                         max_depth=100,\n",
      "                                                         n_estimators=30,\n",
      "                                                         random_state=42))]))])\n",
      "btcusd -> 0.0167\n",
      "Minutes=1 Window=40 Step=1 | 100.55284344606156 {'ltceur': 0.015279344278762323, 'ltcusd': -0.0454292269280058, 'ethusd': 0.036423002123218015, 'btcusd': -0.014182816584286384}\n",
      "Pipeline(steps=[('standardscaler', StandardScaler()),\n",
      "                ('randomforestclassifier',\n",
      "                 RandomForestClassifier(criterion='entropy', max_depth=100,\n",
      "                                        n_estimators=30, random_state=42))])\n",
      "btcusd -> 0.0167\n",
      "Minutes=1 Window=40 Step=1 | 100.18498723338602 {'ltceur': 0.015279344278762323, 'ltcusd': -0.0454292269280058, 'ethusd': 0.036423002123218015, 'btcusd': -0.014182816584286384}\n",
      "Pipeline(steps=[('minmaxscaler', MinMaxScaler()),\n",
      "                ('pipeline',\n",
      "                 Pipeline(steps=[('s',\n",
      "                                  RFECV(estimator=DecisionTreeClassifier(random_state=10),\n",
      "                                        scoring='recall')),\n",
      "                                 ('m',\n",
      "                                  RandomForestClassifier(criterion='entropy',\n",
      "                                                         max_depth=100,\n",
      "                                                         n_estimators=30,\n",
      "                                                         random_state=42))]))])\n",
      "btcusd -> 0.0167\n",
      "Minutes=1 Window=10 Step=1 | 100.04778007365884 {'ltceur': 0.015279344278762323, 'ltcusd': -0.0454292269280058, 'ethusd': 0.036423002123218015, 'btcusd': -0.014182816584286384}\n",
      "Pipeline(steps=[('normalizer', Normalizer()),\n",
      "                ('randomforestclassifier',\n",
      "                 RandomForestClassifier(criterion='entropy', max_depth=100,\n",
      "                                        n_estimators=30, random_state=42))])\n"
     ]
    }
   ],
   "source": [
    "profs = []\n",
    "\n",
    "print(f\"Selected: {len(scoreboard)}\")\n",
    "\n",
    "scoreboard.sort(key=myFunc, reverse = True)\n",
    "\n",
    "for score in scoreboard:\n",
    "    profit = score['profit']\n",
    "    result = score['result']\n",
    "    backs = score['backs']\n",
    "    #print(f\"{profit}\")\n",
    "    for back in backs:\n",
    "        #backs[back].report()\n",
    "        print(f\"{back} -> {backs[back].get_profit()}\")\n",
    "    print_result(result)\n",
    "    #print(result)\n",
    "    profs.append(profit)\n",
    "\n",
    "\n"
   ]
  },
  {
   "cell_type": "code",
   "execution_count": 26,
   "id": "65dad427",
   "metadata": {},
   "outputs": [
    {
     "name": "stdout",
     "output_type": "stream",
     "text": [
      "Minutes=15 Window=40 Step=1 | 107.54102490786364 {'ltceur': 0.015279344278762323, 'ltcusd': -0.0454292269280058, 'ethusd': 0.036423002123218015, 'btcusd': -0.014182816584286384}\n",
      "Pipeline(steps=[('standardscaler', StandardScaler()),\n",
      "                ('pipeline',\n",
      "                 Pipeline(steps=[('s',\n",
      "                                  RFECV(estimator=DecisionTreeClassifier(random_state=10),\n",
      "                                        scoring='recall')),\n",
      "                                 ('m',\n",
      "                                  RandomForestClassifier(criterion='entropy',\n",
      "                                                         max_depth=100,\n",
      "                                                         n_estimators=30,\n",
      "                                                         random_state=42))]))])\n",
      "\n",
      "2.1941380952380953 \n"
     ]
    }
   ],
   "source": [
    "winner = scoreboard[0]['result']\n",
    "print_result(winner)\n",
    "model_path = f'model/winner'\n",
    "dump(winner, model_path)\n",
    "print()\n",
    "print(f\"{np.average(profs)} \")"
   ]
  },
  {
   "cell_type": "code",
   "execution_count": 27,
   "id": "35ea08a5",
   "metadata": {},
   "outputs": [],
   "source": [
    "model = scoreboard[0]['result']['model']"
   ]
  },
  {
   "cell_type": "code",
   "execution_count": 28,
   "id": "99eb0a39",
   "metadata": {},
   "outputs": [
    {
     "data": {
      "text/plain": [
       "Pipeline(steps=[('standardscaler', StandardScaler()),\n",
       "                ('pipeline',\n",
       "                 Pipeline(steps=[('s',\n",
       "                                  RFECV(estimator=DecisionTreeClassifier(random_state=10),\n",
       "                                        scoring='recall')),\n",
       "                                 ('m',\n",
       "                                  RandomForestClassifier(criterion='entropy',\n",
       "                                                         max_depth=100,\n",
       "                                                         n_estimators=30,\n",
       "                                                         random_state=42))]))])"
      ]
     },
     "execution_count": 28,
     "metadata": {},
     "output_type": "execute_result"
    }
   ],
   "source": [
    "model"
   ]
  },
  {
   "cell_type": "code",
   "execution_count": null,
   "id": "ea91a006",
   "metadata": {},
   "outputs": [],
   "source": []
  },
  {
   "cell_type": "code",
   "execution_count": null,
   "id": "0566fbc4",
   "metadata": {},
   "outputs": [],
   "source": []
  },
  {
   "cell_type": "code",
   "execution_count": null,
   "id": "4f201424",
   "metadata": {},
   "outputs": [],
   "source": []
  }
 ],
 "metadata": {
  "kernelspec": {
   "display_name": "Python 3",
   "language": "python",
   "name": "python3"
  },
  "language_info": {
   "codemirror_mode": {
    "name": "ipython",
    "version": 3
   },
   "file_extension": ".py",
   "mimetype": "text/x-python",
   "name": "python",
   "nbconvert_exporter": "python",
   "pygments_lexer": "ipython3",
   "version": "3.9.5"
  }
 },
 "nbformat": 4,
 "nbformat_minor": 5
}
