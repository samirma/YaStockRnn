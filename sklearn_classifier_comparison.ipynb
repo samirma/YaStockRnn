{
 "cells": [
  {
   "cell_type": "code",
   "execution_count": 1,
   "id": "706264fe",
   "metadata": {
    "scrolled": true
   },
   "outputs": [],
   "source": [
    "import pandas as pd\n",
    "import data_util\n",
    "from tqdm.notebook import tqdm\n",
    "#from tqdm import tqdm_notebook as tqdm\n",
    "from data_generator import DataGenerator\n",
    "from tec_an import *\n",
    "import numpy as np\n",
    "from data_util import *\n",
    "from sklearn_model_hyper import *\n",
    "from joblib import dump, load\n",
    "from data_generator import *\n",
    "from data_agent import *\n",
    "from stock_agent import *\n",
    "from backtest import *\n",
    "from bitstamp import *\n",
    "\n",
    "from tqdm.notebook import tqdm\n",
    "\n",
    "import math\n",
    "import pandas as pd\n",
    "import matplotlib.pyplot as plt\n",
    "import scipy.stats as scs\n",
    "import scikitplot as skplt\n",
    "\n",
    "from keras.wrappers.scikit_learn import KerasClassifier\n",
    "from imblearn.over_sampling import RandomOverSampler\n",
    "import random\n",
    "from catboost import CatBoost\n",
    "\n",
    "import numpy as np\n",
    "import matplotlib.pyplot as plt\n",
    "from matplotlib.colors import ListedColormap\n",
    "from sklearn.model_selection import train_test_split\n",
    "from sklearn.preprocessing import StandardScaler\n",
    "from sklearn.datasets import make_moons, make_circles, make_classification\n",
    "from sklearn.neighbors import KNeighborsClassifier\n",
    "from sklearn.svm import SVC\n",
    "from sklearn.gaussian_process.kernels import RBF\n",
    "from sklearn.tree import DecisionTreeClassifier\n",
    "from catboost import CatBoostClassifier\n",
    "from sklearn.ensemble import RandomForestClassifier, AdaBoostClassifier\n",
    "import xgboost as xgb\n",
    "from sklearn.naive_bayes import GaussianNB\n",
    "from sklearn.discriminant_analysis import QuadraticDiscriminantAnalysis\n",
    "from sklearn.linear_model import LogisticRegression\n",
    "from sklearn.utils.validation import check_is_fitted\n",
    "\n",
    "from joblib import dump, load\n",
    "from sklearn.model_selection import train_test_split\n",
    "from sklearn.preprocessing import StandardScaler, MinMaxScaler, Normalizer\n",
    "from sklearn.datasets import make_moons, make_circles, make_classification\n",
    "from sklearn.neural_network import MLPClassifier\n",
    "from sklearn.svm import SVC\n",
    "from sklearn.gaussian_process import GaussianProcessClassifier\n",
    "from sklearn.tree import DecisionTreeClassifier\n",
    "from sklearn.ensemble import RandomForestClassifier, AdaBoostClassifier\n",
    "from sklearn.metrics import *\n",
    "from sklearn.feature_selection import SelectFromModel\n",
    "from sklearn.svm import LinearSVC\n",
    "from sklearn.pipeline import make_pipeline\n",
    "from pytorch_tabnet.tab_model import TabNetClassifier\n",
    "\n",
    "from sklearn.metrics import confusion_matrix\n",
    "from sklearn.pipeline import Pipeline\n",
    "from sklearn.feature_selection import RFE, RFECV\n",
    "\n",
    "path = \"./data/\"\n"
   ]
  },
  {
   "cell_type": "code",
   "execution_count": 2,
   "id": "997362d9",
   "metadata": {},
   "outputs": [],
   "source": [
    "#train_start_list = [1622502000, 1590966000, 1559343600, 1580515200, 1612137600]\n",
    "train_start_list = [1622502000, 1590966000, 1559343600, 1527807600, 1517443200, 1548979200, 1580515200, 1612137600]\n",
    "#train_start_list = [1612137600]\n",
    "train_keys = [\"btcusd\", \"ethusd\", \"bchbtc\"]\n",
    "#train_keys = [\"bchbtc\"]\n",
    "val_start = 1626340500\n",
    "val_end = 1626369600"
   ]
  },
  {
   "cell_type": "code",
   "execution_count": 3,
   "id": "d708f800",
   "metadata": {},
   "outputs": [],
   "source": [
    "load_from_disk = True\n",
    "\n",
    "# '2Min'"
   ]
  },
  {
   "cell_type": "code",
   "execution_count": 4,
   "id": "8c80e42b",
   "metadata": {},
   "outputs": [],
   "source": [
    "def get_online_data(minutes, source_data_generator, load_from_disk, file_prefix = \"\"):\n",
    "    \n",
    "    online = OnLineDataProvider(\n",
    "                 source_data_generator = source_data_generator,\n",
    "                 minutes = minutes,\n",
    "                 train_keys = train_keys,\n",
    "                 train_limit = 1000,\n",
    "                 val_limit = 1000,\n",
    "                 val_keys = [\"btcusd\"],\n",
    "                 val_start = val_start,\n",
    "                 val_end = val_end,\n",
    "                 train_start_list = train_start_list\n",
    "    )\n",
    "\n",
    "    online_path = f'data/online{file_prefix}_{minutes}'\n",
    "    \n",
    "    if (load_from_disk):\n",
    "        online = load(online_path)    \n",
    "    else:\n",
    "        #online.load_train_cache()\n",
    "        online.load_cache()\n",
    "        online.sourceDataGenerator = None\n",
    "        dump(online, online_path)\n",
    "        \n",
    "    \n",
    "    return online"
   ]
  },
  {
   "cell_type": "code",
   "execution_count": 5,
   "id": "1553254e",
   "metadata": {},
   "outputs": [],
   "source": [
    "\n",
    "def getModel():\n",
    "    param = {'criterion': 'entropy', 'max_depth': 100, 'n_estimators': 30, 'random_state': 42}\n",
    "    #param = {'criterion': 'entropy', 'max_depth': 10, 'n_estimators': 3, 'random_state': 42}\n",
    "    coModel = RandomForestClassifier(**param)\n",
    "    return coModel"
   ]
  },
  {
   "cell_type": "code",
   "execution_count": 6,
   "id": "3c15473e",
   "metadata": {},
   "outputs": [],
   "source": [
    "class TabNetClassifierEarly(TabNetClassifier):\n",
    "    def fit(self, X_train, Y_train):\n",
    "        super().fit(X_train, \n",
    "                    Y_train, \n",
    "                    eval_set=[(X_train, Y_train)],\n",
    "                    eval_metric=['balanced_accuracy'])"
   ]
  },
  {
   "cell_type": "code",
   "execution_count": 7,
   "id": "df13d546",
   "metadata": {
    "scrolled": true
   },
   "outputs": [
    {
     "name": "stdout",
     "output_type": "stream",
     "text": [
      "CPU times: user 5 µs, sys: 1e+03 ns, total: 6 µs\n",
      "Wall time: 9.3 µs\n"
     ]
    }
   ],
   "source": [
    "%%time\n",
    "\n",
    "def get_classifiers():\n",
    "    clss = classifiers = [\n",
    "        #lambda : make_pipeline(StandardScaler(),\n",
    "        #                        MLPClassifier(\n",
    "        #                            solver='lbfgs', alpha=1, random_state=1, max_iter=20000,\n",
    "        #                            early_stopping=True)\n",
    "        #                        ),\n",
    "        \n",
    "        #lambda : make_pipeline(StandardScaler(),\n",
    "        #                        MLPClassifier(alpha=1, random_state=1, max_iter=20000,\n",
    "        #                            early_stopping=True)\n",
    "        #                        ),\n",
    "        \n",
    "        lambda : xgb.XGBClassifier(random_state=1,\n",
    "                                   objective = \"binary:logistic\",\n",
    "                                   eval_metric='mlogloss',\n",
    "                                   learning_rate=0.01),\n",
    "        \n",
    "        #lambda : GaussianNB(),\n",
    "        lambda : QuadraticDiscriminantAnalysis(),\n",
    "        #lambda : AdaBoostClassifier(random_state = 42),\n",
    "        lambda : CatBoostClassifier(logging_level = 'Silent'),\n",
    "        \n",
    "        #lambda : TabNetClassifier(verbose=0),\n",
    "        \n",
    "        #lambda : KNeighborsClassifier(3),\n",
    "        #lambda : GaussianProcessClassifier(1.0 * RBF(1.0)),\n",
    "        \n",
    "        \n",
    "        lambda : DecisionTreeClassifier(random_state = 42),\n",
    "        #lambda : RandomForestClassifier(max_depth=50, n_estimators=100, max_features=1),\n",
    "        \n",
    "        #lambda : SVC(gamma=2, C=1, random_state = 42),\n",
    "    ]\n",
    "    \n",
    "    def rand():\n",
    "        ##print(\"rand created\")\n",
    "        param = {'criterion': 'entropy', 'max_depth': 100, 'n_estimators': 30, 'random_state': 42}\n",
    "        return RandomForestClassifier(**param)\n",
    "    \n",
    "\n",
    "    clss = []\n",
    "    clss.append(lambda : rand())\n",
    "    clss.append(lambda : TabNetClassifierEarly(verbose=0))\n",
    "    return clss\n",
    "\n",
    "\n",
    "estimators = [\n",
    "                lambda : RFE(estimator=RandomForestClassifier(random_state=10), n_features_to_select=10),\n",
    "                lambda : RFE(estimator=DecisionTreeClassifier(random_state=10), n_features_to_select=8),\n",
    "                lambda : RFECV(estimator=DecisionTreeClassifier(random_state=10)),\n",
    "                lambda : RFECV(estimator=RandomForestClassifier(random_state=10))\n",
    "                ]\n",
    "\n",
    "\n",
    "scoring = [\n",
    "    'accuracy', \n",
    "    'f1', \n",
    "    'precision', \n",
    "    'recall'\n",
    "]\n",
    "\n",
    "estimators = []\n",
    "\n",
    "#for score in scoring:\n",
    "    \n",
    "estimators.append(lambda : RFECV(estimator=DecisionTreeClassifier(random_state=10),\n",
    "                    scoring='accuracy'))    \n",
    "estimators.append(lambda : RFECV(estimator=DecisionTreeClassifier(random_state=10),\n",
    "                    scoring='f1'))    \n",
    "estimators.append(lambda : RFECV(estimator=DecisionTreeClassifier(random_state=10),\n",
    "                    scoring='precision'))    \n",
    "estimators.append(lambda : RFECV(estimator=DecisionTreeClassifier(random_state=10),\n",
    "                    scoring='recall'))\n",
    "\n",
    "\n",
    "def get_all_models():\n",
    "    models = []\n",
    "    classifiers = get_classifiers()\n",
    "    for cls in classifiers:\n",
    "        models.append(cls())\n",
    "        #models.append(MockModel(cls()))\n",
    "        #models.append(MockCoPilotModel(cls(), getModel()))\n",
    "        \n",
    "        for est in estimators:\n",
    "            tmp = lambda : Pipeline(\n",
    "                steps=[\n",
    "                ('s',est()),\n",
    "                ('m',cls())\n",
    "            ])\n",
    "            models.append(tmp())\n",
    "            #models.append(MockModel(tmp()))\n",
    "            #models.append(MockCoPilotModel(tmp(), getModel()))\n",
    "    return models\n"
   ]
  },
  {
   "cell_type": "code",
   "execution_count": 8,
   "id": "64dde41f",
   "metadata": {},
   "outputs": [],
   "source": [
    "get_all_models_factory = lambda : get_all_models()"
   ]
  },
  {
   "cell_type": "code",
   "execution_count": 9,
   "id": "cd02b269",
   "metadata": {
    "scrolled": false
   },
   "outputs": [
    {
     "name": "stdout",
     "output_type": "stream",
     "text": [
      "CPU times: user 5 µs, sys: 1 µs, total: 6 µs\n",
      "Wall time: 8.34 µs\n"
     ]
    }
   ],
   "source": [
    "%%time\n",
    "\n",
    "def test_models(provider, get_all_models_factory, steps = [1]):\n",
    "    \n",
    "    score_board_by_step = {}\n",
    "\n",
    "    for step in steps:\n",
    "        print(f\"Step {step}\")\n",
    "        models_list = get_all_models_factory()\n",
    "        model_result = []\n",
    "        for idx in tqdm(range(len(models_list))):\n",
    "            model_creator = models_list[idx]\n",
    "            model = model_creator\n",
    "            #print(f\"Trainning {model}\")\n",
    "            train_by_step(model, step, provider)\n",
    "            \n",
    "            result = run_trial(model, provider, step)\n",
    "\n",
    "            result['step'] = step\n",
    "\n",
    "            model_result.append(result)\n",
    "        \n",
    "        score_board_by_step[step] = model_result\n",
    "        \n",
    "    best_models = []\n",
    "\n",
    "    best_model = []\n",
    "\n",
    "    best_score = -1\n",
    "    \n",
    "    best_step = -1\n",
    "    \n",
    "    model_rank = []\n",
    "    \n",
    "    def myFunc(e):\n",
    "        return e['profit']\n",
    "\n",
    "    for step_idx in score_board_by_step:\n",
    "        step_board = score_board_by_step[step_idx]\n",
    "        for result in step_board:\n",
    "            if (result['profit'] > 0):\n",
    "                model_rank.append(result)\n",
    "            \n",
    "    model_rank.sort(key=myFunc, reverse = True)\n",
    "    \n",
    "    return model_rank"
   ]
  },
  {
   "cell_type": "code",
   "execution_count": 10,
   "id": "ecc3cc2b",
   "metadata": {},
   "outputs": [],
   "source": [
    "\n",
    "steps = [3]\n",
    "\n",
    "windows = [5, 10, 20, 30, 40]\n",
    "windows = [40]\n",
    "\n",
    "minutes = [15, 5, 3, 1]\n",
    "minutes = [15]\n"
   ]
  },
  {
   "cell_type": "code",
   "execution_count": 11,
   "id": "3570e420",
   "metadata": {
    "scrolled": false
   },
   "outputs": [],
   "source": [
    "def process_model(minu, win, step, model, provider):\n",
    "        #print(f\"Training {model} {provider} \")\n",
    "        train_by_step(model, step, provider)\n",
    "        #print(f\"Checking {minu} {win} {step} \")\n",
    "        result = run_trial(model, provider, step)\n",
    "        result['window'] = win\n",
    "        result['minutes'] = minu\n",
    "        result['step'] = step\n",
    "        #print(result)\n",
    "        return result"
   ]
  },
  {
   "cell_type": "code",
   "execution_count": null,
   "id": "f4e45ecc",
   "metadata": {},
   "outputs": [
    {
     "data": {
      "application/vnd.jupyter.widget-view+json": {
       "model_id": "50da8b13561e43aba4e2ed779f83c159",
       "version_major": 2,
       "version_minor": 0
      },
      "text/plain": [
       "  0%|          | 0/10 [00:00<?, ?it/s]"
      ]
     },
     "metadata": {},
     "output_type": "display_data"
    },
    {
     "name": "stdout",
     "output_type": "stream",
     "text": [
      "\n",
      "Early stopping occurred at epoch 12 with best_epoch = 2 and best_val_0_balanced_accuracy = 0.51235\n",
      "Best weights from best epoch are automatically used!\n"
     ]
    }
   ],
   "source": [
    "%%time\n",
    "\n",
    "min_results = []\n",
    "\n",
    "process_list = []\n",
    "\n",
    "for minu in minutes:\n",
    "    results = []\n",
    "    for win in windows:\n",
    "        tec = TecAn(windows = win, windows_limit = 100)\n",
    "        sourceDataGenerator = SourceDataGenerator(tec = tec)\n",
    "        provider = get_online_data(minu, sourceDataGenerator, load_from_disk, win)\n",
    "        for step in steps:\n",
    "            models_list = get_all_models_factory()\n",
    "            for idx in range(len(models_list)):\n",
    "                model_creator = models_list[idx]\n",
    "                model = model_creator\n",
    "                process = {}\n",
    "                process['window'] = win\n",
    "                process['minutes'] = minu\n",
    "                process['step'] = step\n",
    "                process['model'] = model\n",
    "                process_list.append(process)\n",
    "\n",
    "for process in tqdm(process_list):\n",
    "    win = process['window'] \n",
    "    minu = process['minutes']\n",
    "    step = process['step'] \n",
    "    model = process['model'] \n",
    "    \n",
    "    tec = TecAn(windows = win, windows_limit = 100)\n",
    "    sourceDataGenerator = SourceDataGenerator(tec = tec)\n",
    "    provider = get_online_data(minu, sourceDataGenerator, load_from_disk, win)\n",
    "    \n",
    "    result = process_model(minu, win, step, model, provider)\n",
    "    min_results.append(result)"
   ]
  },
  {
   "cell_type": "code",
   "execution_count": null,
   "id": "1d714ba9",
   "metadata": {},
   "outputs": [],
   "source": [
    "model_path = f'model/all_results'\n",
    "dump(min_results, model_path)"
   ]
  },
  {
   "cell_type": "code",
   "execution_count": null,
   "id": "9c2dddf0",
   "metadata": {},
   "outputs": [],
   "source": [
    "best_results = []\n",
    "for win_result in min_results:\n",
    "    profit = win_result['profit']\n",
    "    model = win_result['model']\n",
    "    window = win_result['window']\n",
    "    minutes = win_result['minutes']\n",
    "    step = win_result['step']\n",
    "    profit = win_result['profit']\n",
    "    models_score = win_result['models_score']\n",
    "    #print(models_score)\n",
    "    if (profit > 100):\n",
    "        print(f\"Minutes={minutes} Window={window} Step={step} | {profit}\")\n",
    "        print(f\"{win_result['model']}\")\n",
    "        print(f\"\")\n",
    "        best_results.append(win_result)\n",
    "\n",
    "print(f\"{len(best_results)} selected\")"
   ]
  },
  {
   "cell_type": "code",
   "execution_count": null,
   "id": "a3574b4a",
   "metadata": {},
   "outputs": [],
   "source": [
    "model_path = f'model/results'\n",
    "dump(best_results, model_path)"
   ]
  },
  {
   "cell_type": "code",
   "execution_count": null,
   "id": "7b5a23df",
   "metadata": {},
   "outputs": [],
   "source": [
    "def print_result(result):\n",
    "    model = result['model']\n",
    "    window = result['window']\n",
    "    minutes = result['minutes']\n",
    "    step = result['step']\n",
    "    profit = result['profit']\n",
    "    print(f\"Minutes={minutes} Window={window} Step={step} | {profit} {best['models_profit_metric']}\")\n",
    "    print(f\"{model}\")"
   ]
  },
  {
   "cell_type": "code",
   "execution_count": null,
   "id": "16a95a9c",
   "metadata": {},
   "outputs": [],
   "source": [
    "def myFunc(e):\n",
    "    return e['profit']\n",
    "    #return e['models_profit_metric']['btcusd']\n",
    "\n",
    "best_results.sort(key=myFunc, reverse = False)\n",
    "\n",
    "for best in best_results:\n",
    "    print_result(best)\n",
    "    model = best['model']\n",
    "    window = best['window']\n",
    "    minutes = best['minutes']\n",
    "    step = best['step']\n",
    "    model_path = f'model/result_{window}_{minutes}_{step}'\n",
    "    dump(best, model_path)\n",
    "    print(f\"\")"
   ]
  },
  {
   "cell_type": "code",
   "execution_count": null,
   "id": "51c9b2f0",
   "metadata": {},
   "outputs": [],
   "source": [
    "def myFunc(e):\n",
    "    return e['profit']\n",
    "    #return e['models_profit_metric']['btcusd']\n",
    "\n",
    "best_results.sort(key=myFunc, reverse = True)"
   ]
  },
  {
   "cell_type": "code",
   "execution_count": null,
   "id": "3b377b09",
   "metadata": {},
   "outputs": [],
   "source": [
    "best_results"
   ]
  },
  {
   "cell_type": "code",
   "execution_count": null,
   "id": "caec402a",
   "metadata": {},
   "outputs": [],
   "source": []
  },
  {
   "cell_type": "code",
   "execution_count": null,
   "id": "e5ba9fe3",
   "metadata": {},
   "outputs": [],
   "source": []
  },
  {
   "cell_type": "code",
   "execution_count": null,
   "id": "1117d4b1",
   "metadata": {},
   "outputs": [],
   "source": []
  },
  {
   "cell_type": "code",
   "execution_count": null,
   "id": "19b13cde",
   "metadata": {},
   "outputs": [],
   "source": []
  },
  {
   "cell_type": "code",
   "execution_count": null,
   "id": "a6e9b892",
   "metadata": {},
   "outputs": [],
   "source": []
  },
  {
   "cell_type": "code",
   "execution_count": null,
   "id": "c4c4abf3",
   "metadata": {},
   "outputs": [],
   "source": []
  },
  {
   "cell_type": "code",
   "execution_count": null,
   "id": "08611186",
   "metadata": {},
   "outputs": [],
   "source": []
  },
  {
   "cell_type": "code",
   "execution_count": null,
   "id": "a3aadad5",
   "metadata": {},
   "outputs": [],
   "source": []
  },
  {
   "cell_type": "code",
   "execution_count": null,
   "id": "ed0a75b0",
   "metadata": {},
   "outputs": [],
   "source": []
  },
  {
   "cell_type": "code",
   "execution_count": null,
   "id": "8e4e2e7b",
   "metadata": {},
   "outputs": [],
   "source": []
  },
  {
   "cell_type": "code",
   "execution_count": null,
   "id": "066061b2",
   "metadata": {},
   "outputs": [],
   "source": []
  },
  {
   "cell_type": "code",
   "execution_count": null,
   "id": "e85cd15e",
   "metadata": {},
   "outputs": [],
   "source": []
  },
  {
   "cell_type": "code",
   "execution_count": null,
   "id": "a40921c6",
   "metadata": {},
   "outputs": [],
   "source": []
  },
  {
   "cell_type": "code",
   "execution_count": null,
   "id": "14e654e7",
   "metadata": {
    "scrolled": false
   },
   "outputs": [],
   "source": []
  },
  {
   "cell_type": "code",
   "execution_count": null,
   "id": "b413a0b9",
   "metadata": {},
   "outputs": [],
   "source": [
    "def load_online(minutes, window, val_end, currency = []):\n",
    "    tec = TecAn(windows = window, windows_limit = 100)\n",
    "    source_data_generator = SourceDataGenerator(tec = tec)\n",
    "\n",
    "    start = val_end - (60 * 100 * minutes)\n",
    "    end = val_end - (160 * minutes)\n",
    "\n",
    "    online = OnLineDataProvider(\n",
    "                 source_data_generator = source_data_generator,\n",
    "                 minutes = minutes,\n",
    "                 train_keys = [],\n",
    "                 train_limit = 40,\n",
    "                 val_limit = 999,\n",
    "                 val_keys = currency,\n",
    "                 val_start = start,\n",
    "                 val_end = end,\n",
    "                 train_start_list = []\n",
    "    )\n",
    "\n",
    "    online.load_cache()\n",
    "    return online"
   ]
  },
  {
   "cell_type": "code",
   "execution_count": null,
   "id": "35dd65db",
   "metadata": {},
   "outputs": [],
   "source": [
    "def backtest_model(model, x, closed_prices, back):\n",
    "    \n",
    "    for idx in range(len(x)):\n",
    "        xx = np.array([x[idx]])\n",
    "        #print(xx)\n",
    "        yy = model.predict(xx)\n",
    "        yy = yy[0]\n",
    "        price = closed_prices[idx]\n",
    "        #print(f'{idx} {yy} {price}')\n",
    "        back.on_state(0, price)\n",
    "        if(yy == 1):\n",
    "            back.request_buy(price)\n",
    "        else:\n",
    "            back.request_sell(price)\n",
    "    \n",
    "    #print(f\"Closing backtest_model {price} {back.current}\")\n",
    "    back.sell(price)\n",
    "    #print(f\"Closed backtest_model {back.current}\")\n",
    "    \n",
    "    return back"
   ]
  },
  {
   "cell_type": "code",
   "execution_count": null,
   "id": "83fb2346",
   "metadata": {},
   "outputs": [],
   "source": []
  },
  {
   "cell_type": "code",
   "execution_count": null,
   "id": "be8578b2",
   "metadata": {},
   "outputs": [],
   "source": [
    "def test_model(model, set_key, provider, step, verbose = True):\n",
    "    valX, valY = provider.load_val_data(set_key)\n",
    "\n",
    "    x, y, closed_prices = get_sequencial_data(valX, valY, step)\n",
    "    \n",
    "    #print(len(x))\n",
    "    preds = model.predict(x)\n",
    "\n",
    "    recall = recall_score(y, preds)\n",
    "    precision = precision_score(y, preds)\n",
    "    f1 = f1_score(y, preds)\n",
    "    accuracy = accuracy_score(y, preds)\n",
    "\n",
    "    back = BackTest(value = 100, \n",
    "                    verbose = verbose, \n",
    "                    sell_on_profit = True,\n",
    "                    pending_sell_steps = step)\n",
    "    back = backtest_model(model, x, closed_prices, back)\n",
    "    return back"
   ]
  },
  {
   "cell_type": "code",
   "execution_count": null,
   "id": "34ec71c5",
   "metadata": {
    "scrolled": true
   },
   "outputs": [],
   "source": [
    "from datetime import datetime\n",
    "\n",
    "\n",
    "timestamp = int(datetime.timestamp((datetime.now())))\n",
    "\n"
   ]
  },
  {
   "cell_type": "code",
   "execution_count": null,
   "id": "c7ff83ca",
   "metadata": {},
   "outputs": [],
   "source": [
    "online_cache = {}"
   ]
  },
  {
   "cell_type": "code",
   "execution_count": null,
   "id": "d651b63e",
   "metadata": {},
   "outputs": [],
   "source": []
  },
  {
   "cell_type": "code",
   "execution_count": null,
   "id": "06575cba",
   "metadata": {
    "scrolled": true
   },
   "outputs": [],
   "source": [
    "scoreboard = []\n",
    "\n",
    "fails = []\n",
    "\n",
    "currency = \"ltcusd\"\n",
    "currency = \"ethusd\"\n",
    "currency = \"batusd\"\n",
    "\n",
    "currs = [\"batusd\", \"ltcusd\", \"ethusd\", \"btcusd\"]\n",
    "currs = [\"btcusd\", \"ethusd\"]\n",
    "\n",
    "#currs = online.val_keys\n",
    "\n",
    "for best in tqdm(best_results):\n",
    "    model = best['model']\n",
    "    window = best['window']\n",
    "    minutes = best['minutes']\n",
    "    step = best['step']\n",
    "    profit = best['profit']\n",
    "    print(f\"Minutes={minutes} Window={window} Step={step} | {profit}\")\n",
    "    cache_key = f\"{minutes}-{window}\"\n",
    "    try:\n",
    "        online = online_cache[cache_key]\n",
    "    except :\n",
    "        print(f\"Not found {cache_key}\")\n",
    "        online = load_online(minutes = minutes, window = window, val_end = timestamp, currency = currs)\n",
    "        online_cache[cache_key] = online\n",
    "        \n",
    "    profits = []\n",
    "    backs = {}\n",
    "    score = {}\n",
    "    \n",
    "    has_negative = False\n",
    "    \n",
    "    for train_set in currs:\n",
    "        back = test_model(model, train_set, online, step, False)\n",
    "        back_profit = back.get_profit()\n",
    "        profits.append(back_profit)\n",
    "        backs[train_set] = back\n",
    "        print(f\"{train_set} - {back_profit}\")\n",
    "        if (back_profit <= 0 and not has_negative):\n",
    "            has_negative = True\n",
    "        \n",
    "    score['profit'] = np.average(profits)\n",
    "    score['backs'] = backs\n",
    "    score['result'] = best\n",
    "    if (not has_negative):\n",
    "        scoreboard.append(score)\n",
    "\n",
    "    \n"
   ]
  },
  {
   "cell_type": "code",
   "execution_count": null,
   "id": "95ed89b6",
   "metadata": {},
   "outputs": [],
   "source": [
    "profs = []\n",
    "for score in scoreboard:\n",
    "    profit = score['profit']\n",
    "    result = score['result']\n",
    "    backs = score['backs']\n",
    "    print(f\"{profit}\")\n",
    "    for back in backs:\n",
    "        print(f\"{back} -> {backs[back].get_profit()}\")\n",
    "    print_result(result)\n",
    "    #print(result)\n",
    "    profs.append(profit)\n",
    "    model_path = f'model/winner'\n",
    "    dump(result, model_path)\n",
    "\n",
    "    \n",
    "print()\n",
    "print(f\"{np.average(profs)} \")"
   ]
  },
  {
   "cell_type": "code",
   "execution_count": null,
   "id": "35ea08a5",
   "metadata": {},
   "outputs": [],
   "source": [
    "model = scoreboard[0]['result']['model']"
   ]
  },
  {
   "cell_type": "code",
   "execution_count": null,
   "id": "99eb0a39",
   "metadata": {},
   "outputs": [],
   "source": [
    "model"
   ]
  },
  {
   "cell_type": "code",
   "execution_count": null,
   "id": "8855c32a",
   "metadata": {},
   "outputs": [],
   "source": []
  },
  {
   "cell_type": "code",
   "execution_count": null,
   "id": "72f1cee1",
   "metadata": {},
   "outputs": [],
   "source": []
  },
  {
   "cell_type": "code",
   "execution_count": null,
   "id": "bf99c361",
   "metadata": {},
   "outputs": [],
   "source": []
  }
 ],
 "metadata": {
  "kernelspec": {
   "display_name": "Python 3",
   "language": "python",
   "name": "python3"
  },
  "language_info": {
   "codemirror_mode": {
    "name": "ipython",
    "version": 3
   },
   "file_extension": ".py",
   "mimetype": "text/x-python",
   "name": "python",
   "nbconvert_exporter": "python",
   "pygments_lexer": "ipython3",
   "version": "3.9.5"
  }
 },
 "nbformat": 4,
 "nbformat_minor": 5
}
