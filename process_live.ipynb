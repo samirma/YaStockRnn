{
 "cells": [
  {
   "cell_type": "code",
   "execution_count": 1,
   "metadata": {},
   "outputs": [],
   "source": [
    "import pandas as pd\n",
    "import data_util\n",
    "from tqdm import tqdm_notebook as tqdm\n",
    "from data_generator import DataGenerator\n",
    "from state_util import StateUtil\n",
    "from tec_an import TecAn\n",
    "import numpy as np\n"
   ]
  },
  {
   "cell_type": "code",
   "execution_count": 2,
   "metadata": {},
   "outputs": [],
   "source": [
    "data_gen = DataGenerator(random=False, base_dir = \"data/btcusd/\")\n",
    "data_gen.rewind()\n",
    "stateUtil = StateUtil(data_gen)\n",
    "\n",
    "windows = 10\n",
    "\n",
    "tec = TecAn(windows = windows)\n",
    "data_count = 10"
   ]
  },
  {
   "cell_type": "code",
   "execution_count": 3,
   "metadata": {},
   "outputs": [
    {
     "name": "stderr",
     "output_type": "stream",
     "text": [
      "<ipython-input-3-ffd935035adc>:4: TqdmDeprecationWarning: This function will be removed in tqdm==5.0.0\n",
      "Please use `tqdm.notebook.tqdm` instead of `tqdm.tqdm_notebook`\n",
      "  for i in tqdm(range(data_count)):\n"
     ]
    },
    {
     "data": {
      "application/vnd.jupyter.widget-view+json": {
       "model_id": "f311fe05b07844be91bef65b583868dc",
       "version_major": 2,
       "version_minor": 0
      },
      "text/plain": [
       "  0%|          | 0/10 [00:00<?, ?it/s]"
      ]
     },
     "metadata": {},
     "output_type": "display_data"
    }
   ],
   "source": [
    "on_fly_data = []\n",
    "tac_origin = []\n",
    "data_gen.rewind()\n",
    "for i in tqdm(range(data_count)):\n",
    "    raw = data_gen.next()\n",
    "    empty = []\n",
    "    price = raw[stateUtil.PRICE_KEY]\n",
    "    amount = raw[stateUtil.AMOUNT_KEY]\n",
    "    tac_origin.append([price, amount]) \n",
    "    #print(len(tec.data))\n",
    "    #print(tec.add_ta(empty, price, amount))\n",
    "    on_fly_data.append(tec.add_ta(price, amount))\n"
   ]
  },
  {
   "cell_type": "code",
   "execution_count": 4,
   "metadata": {},
   "outputs": [
    {
     "name": "stdout",
     "output_type": "stream",
     "text": [
      "Data 10\n"
     ]
    },
    {
     "name": "stderr",
     "output_type": "stream",
     "text": [
      "<ipython-input-4-e977c60a6938>:24: TqdmDeprecationWarning: This function will be removed in tqdm==5.0.0\n",
      "Please use `tqdm.notebook.tqdm` instead of `tqdm.tqdm_notebook`\n",
      "  for i in tqdm(range(data_count)):\n"
     ]
    },
    {
     "data": {
      "application/vnd.jupyter.widget-view+json": {
       "model_id": "c2aad87ec6a14dfa9af624589f94d7bd",
       "version_major": 2,
       "version_minor": 0
      },
      "text/plain": [
       "  0%|          | 0/10 [00:00<?, ?it/s]"
      ]
     },
     "metadata": {},
     "output_type": "display_data"
    },
    {
     "name": "stdout",
     "output_type": "stream",
     "text": [
      "10\n"
     ]
    }
   ],
   "source": [
    "tec = TecAn(windows = windows)\n",
    "\n",
    "def calcule_tecs(data):\n",
    "    tecs = []\n",
    "    print(\"Data {}\".format(len(data)))\n",
    "    df = pd.DataFrame(data, columns = ['Close', 'Volume'])\n",
    "    close = df['Close']\n",
    "    volume = df['Volume']\n",
    "    for ta in tec.tas:\n",
    "        value = ta(close, volume, 0.0, 0.0)\n",
    "        tecs.append(value)\n",
    "    return tecs\n",
    "\n",
    "def add_tacs(index, result):\n",
    "    list = []\n",
    "    for tec in result:\n",
    "        list.append(tec.iloc[index])\n",
    "    return list\n",
    "\n",
    "result = calcule_tecs(tac_origin)\n",
    "\n",
    "branch = []\n",
    "\n",
    "for i in tqdm(range(data_count)):\n",
    "    tacs = add_tacs(i, result)\n",
    "    branch.append(tacs)\n",
    "\n",
    "print(len(branch))"
   ]
  },
  {
   "cell_type": "code",
   "execution_count": 5,
   "metadata": {},
   "outputs": [],
   "source": [
    "for data_index in range(data_count):\n",
    "    f = on_fly_data[data_index]\n",
    "    b = branch[data_index]\n",
    "    same_values = f == b\n",
    "    if (not same_values):\n",
    "        for index in range(len(branch[0])):\n",
    "            f_value = f[index]\n",
    "            b_value = b[index]\n",
    "            if (f_value != b_value):\n",
    "                print(\"Data {} Col {}\".format(data_index, index))\n",
    "                print(\"{} {}\".format(f_value, b_value))"
   ]
  },
  {
   "cell_type": "code",
   "execution_count": 6,
   "metadata": {},
   "outputs": [
    {
     "name": "stdout",
     "output_type": "stream",
     "text": [
      "[0.0, 10.0, 10.0, 0.0, 0.0, 0.0, 0.0, 0.0, 1000.0, 0.0, 0.0, 0.0, 0.0, 0.0]\n",
      "[0.0, 10.0, 10.0, 0.0, 0.0, 0.0, 0.0, 0.0, 1000.0, 0.0, 0.0, 0.0, 0.0, 0.0]\n",
      "True\n"
     ]
    }
   ],
   "source": [
    "index = -1\n",
    "fly = on_fly_data[index]\n",
    "bat = branch[index]\n",
    "print(fly)\n",
    "print(bat)\n",
    "print(fly == bat)"
   ]
  },
  {
   "cell_type": "code",
   "execution_count": 7,
   "metadata": {},
   "outputs": [],
   "source": [
    "import pandas as pd\n",
    "from ta.trend import *\n",
    "from ta.momentum import *\n",
    "from ta.volume import *\n",
    "from ta.volatility import *\n",
    "from ta import add_all_ta_features, add_trend_ta, add_volume_ta, add_volatility_ta, add_momentum_ta, add_others_ta\n",
    "import matplotlib.pyplot as plt"
   ]
  },
  {
   "cell_type": "code",
   "execution_count": 8,
   "metadata": {},
   "outputs": [],
   "source": [
    "df = pd.DataFrame(tac_origin, columns = ['Close', 'Volume'])\n",
    "close = df['Close']\n",
    "volume = df['Volume']"
   ]
  },
  {
   "cell_type": "code",
   "execution_count": 9,
   "metadata": {},
   "outputs": [
    {
     "data": {
      "text/plain": [
       "Rolling [window=10,min_periods=2,center=False,axis=0]"
      ]
     },
     "execution_count": 9,
     "metadata": {},
     "output_type": "execute_result"
    }
   ],
   "source": [
    "close.rolling(10, min_periods=2)"
   ]
  },
  {
   "cell_type": "code",
   "execution_count": 10,
   "metadata": {},
   "outputs": [
    {
     "data": {
      "text/plain": [
       "[0.0, 10.0, 10.0, 0.0, 0.0, 0.0, 0.0, 0.0, 1000.0, 0.0, 0.0, 0.0, 0.0, 0.0]"
      ]
     },
     "execution_count": 10,
     "metadata": {},
     "output_type": "execute_result"
    }
   ],
   "source": [
    "on_fly_data[1]"
   ]
  },
  {
   "cell_type": "code",
   "execution_count": 11,
   "metadata": {},
   "outputs": [
    {
     "ename": "IndexError",
     "evalue": "list index out of range",
     "output_type": "error",
     "traceback": [
      "\u001b[0;31m---------------------------------------------------------------------------\u001b[0m",
      "\u001b[0;31mIndexError\u001b[0m                                Traceback (most recent call last)",
      "\u001b[0;32m<ipython-input-11-2da34fdeea08>\u001b[0m in \u001b[0;36m<module>\u001b[0;34m\u001b[0m\n\u001b[0;32m----> 1\u001b[0;31m \u001b[0mon_fly_data\u001b[0m\u001b[0;34m[\u001b[0m\u001b[0;34m-\u001b[0m\u001b[0;36m50\u001b[0m\u001b[0;34m]\u001b[0m\u001b[0;34m\u001b[0m\u001b[0;34m\u001b[0m\u001b[0m\n\u001b[0m",
      "\u001b[0;31mIndexError\u001b[0m: list index out of range"
     ]
    }
   ],
   "source": [
    "on_fly_data[-50]"
   ]
  },
  {
   "cell_type": "code",
   "execution_count": null,
   "metadata": {},
   "outputs": [],
   "source": [
    "on_fly_data"
   ]
  },
  {
   "cell_type": "code",
   "execution_count": null,
   "metadata": {},
   "outputs": [],
   "source": [
    "from google.colab import drive "
   ]
  },
  {
   "cell_type": "code",
   "execution_count": null,
   "metadata": {},
   "outputs": [],
   "source": [
    "!mkdir drive"
   ]
  },
  {
   "cell_type": "code",
   "execution_count": null,
   "metadata": {},
   "outputs": [],
   "source": [
    "import pandas as pd\n",
    "import pandas_ta as ta\n",
    "from pandas_datareader import DataReader\n",
    "import datetime\n",
    "import matplotlib.pyplot as plt\n",
    "\n",
    "# Load data\n",
    "symbol = 'AAPL'\n",
    "\n",
    "num_of_years = 1\n",
    "start_date = datetime.datetime.now() - datetime.timedelta(days=int(365.25 * num_of_years))\n",
    "end_date = datetime.date.today()\n",
    "\n",
    "df = DataReader(symbol, 'yahoo' ,start_date, end_date)\n",
    "\n",
    "df.columns = map(str.lower, df.columns)\n",
    "\n",
    "df.ta.strategy(name='all')\n",
    "\n",
    "# Sanity check. Make sure all the columns are there\n",
    "print(df.columns)\n",
    "print(df.tail())\n",
    "plt.plot(df['bbands'])"
   ]
  },
  {
   "cell_type": "code",
   "execution_count": null,
   "metadata": {},
   "outputs": [],
   "source": []
  }
 ],
 "metadata": {
  "kernelspec": {
   "display_name": "Python 3",
   "language": "python",
   "name": "python3"
  },
  "language_info": {
   "codemirror_mode": {
    "name": "ipython",
    "version": 3
   },
   "file_extension": ".py",
   "mimetype": "text/x-python",
   "name": "python",
   "nbconvert_exporter": "python",
   "pygments_lexer": "ipython3",
   "version": "3.9.4"
  }
 },
 "nbformat": 4,
 "nbformat_minor": 4
}
