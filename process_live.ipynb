{
 "cells": [
  {
   "cell_type": "code",
   "execution_count": 1,
   "metadata": {},
   "outputs": [],
   "source": [
    "import pandas as pd\n",
    "import data_util\n",
    "from tqdm import tqdm_notebook as tqdm\n",
    "from data_generator import DataGenerator\n",
    "from state_util import StateUtil\n",
    "from tec_an import TecAn\n",
    "from data_agent import DataAgent, TacProcess\n",
    "import numpy as np\n",
    "from data_util import *\n",
    "import tensorflow as tf\n",
    "from sklearn_model_hyper import *\n",
    "import pandas as pd\n",
    "from stock_agent import *\n"
   ]
  },
  {
   "cell_type": "code",
   "execution_count": 2,
   "metadata": {},
   "outputs": [],
   "source": [
    "#data_gen = DataGenerator(random=False, base_dir = \"data/4jul21/\")\n",
    "\n",
    "data_gen = DataGenerator(random=False, base_dir = \"data/backtest/\")\n",
    "\n",
    "#data_gen = DataGenerator(random=False, base_dir = \"data/btcusd/\")\n",
    "\n",
    "data_gen.rewind()\n"
   ]
  },
  {
   "cell_type": "code",
   "execution_count": 3,
   "metadata": {},
   "outputs": [
    {
     "name": "stdout",
     "output_type": "stream",
     "text": [
      "2\n"
     ]
    }
   ],
   "source": [
    "from joblib import dump, load\n",
    "\n",
    "models = [\n",
    "    #load('model/StackingClassifier'), \n",
    "    #load('model/RandomForestClassifier_accuracy_score'),\n",
    "    load('model/RandomForestClassifier_f1_score'),\n",
    "    load('model/RandomForestClassifier_precision_score'),\n",
    "    #load('model/QuadraticDiscriminantAnalysis'),\n",
    "    #load('model/RandomForestClassifier2')\n",
    "]\n",
    "\n",
    "print(f\"{len(models)}\")"
   ]
  },
  {
   "cell_type": "code",
   "execution_count": 4,
   "metadata": {},
   "outputs": [
    {
     "name": "stdout",
     "output_type": "stream",
     "text": [
      "              precision    recall  f1-score   support\n",
      "\n",
      "     class 0       0.58      0.40      0.47       985\n",
      "     class 1       0.48      0.66      0.56       840\n",
      "\n",
      "    accuracy                           0.52      1825\n",
      "   macro avg       0.53      0.53      0.51      1825\n",
      "weighted avg       0.53      0.52      0.51      1825\n",
      "\n"
     ]
    },
    {
     "data": {
      "text/plain": [
       "0.4821583986074848"
      ]
     },
     "execution_count": 4,
     "metadata": {},
     "output_type": "execute_result"
    }
   ],
   "source": [
    "x, y = load_data(\"backtest\", \"train\")\n",
    "\n",
    "model = models[0]\n",
    "\n",
    "eval_data(model, x, y)\n",
    "\n",
    "precision_score(y, model.predict(x))"
   ]
  },
  {
   "cell_type": "code",
   "execution_count": 5,
   "metadata": {},
   "outputs": [
    {
     "name": "stderr",
     "output_type": "stream",
     "text": [
      "<ipython-input-5-a9d8ccaca572>:7: TqdmDeprecationWarning: This function will be removed in tqdm==5.0.0\n",
      "Please use `tqdm.notebook.tqdm` instead of `tqdm.tqdm_notebook`\n",
      "  for i in tqdm(range(data_count)):\n"
     ]
    },
    {
     "data": {
      "application/vnd.jupyter.widget-view+json": {
       "model_id": "4e00d965c23c47bdbd1db5650043d170",
       "version_major": 2,
       "version_minor": 0
      },
      "text/plain": [
       "  0%|          | 0/200000 [00:00<?, ?it/s]"
      ]
     },
     "metadata": {},
     "output_type": "display_data"
    }
   ],
   "source": [
    "data_count = data_gen.steps\n",
    "data_count = 200000 #data_gen.steps\n",
    "data_gen.rewind()\n",
    "\n",
    "raw_data = []\n",
    "\n",
    "for i in tqdm(range(data_count)):\n",
    "    raw_data.append(data_gen.next())"
   ]
  },
  {
   "cell_type": "code",
   "execution_count": null,
   "metadata": {},
   "outputs": [],
   "source": [
    "\n"
   ]
  },
  {
   "cell_type": "code",
   "execution_count": 6,
   "metadata": {
    "scrolled": true
   },
   "outputs": [],
   "source": [
    "def process_model(model, resample):\n",
    "    back = BackTest(value = 100)\n",
    "\n",
    "    request_sell = lambda price: back.request_sell(price)\n",
    "    request_buy = lambda price: back.request_buy(price)\n",
    "    on_state = lambda timestamp, price: back.on_state(timestamp, price)\n",
    "\n",
    "    stock = StockAgent(model = model,\n",
    "                    request_sell = request_sell,\n",
    "                    request_buy = request_buy,\n",
    "                    on_state = on_state\n",
    "                      )\n",
    "\n",
    "\n",
    "    data_gen.rewind()\n",
    "    back.reset()\n",
    "\n",
    "    on_new_data = lambda x: print(x)\n",
    "    on_new_data = lambda x: stock.on_x(x)\n",
    "\n",
    "    on_state = lambda timestamp, price, bid, ask: print(\"{} {} {} {}\".format(timestamp, price, bid[-1], ask[-1]))\n",
    "    on_state = lambda timestamp, price, bid, ask: stock.on_new_state(timestamp, price, bid, ask)\n",
    "\n",
    "\n",
    "    agent = DataAgent(\n",
    "        resample = resample,\n",
    "        on_state = on_state,\n",
    "        on_new_data = on_new_data\n",
    "    )\n",
    "\n",
    "    on_new_data_count = 0\n",
    "\n",
    "    for raw in tqdm(raw_data):\n",
    "        agent.on_new_raw_data(raw)\n",
    "\n",
    "    if (back.bought):\n",
    "        stock.sell()\n",
    "\n",
    "    return back"
   ]
  },
  {
   "cell_type": "code",
   "execution_count": 7,
   "metadata": {
    "scrolled": true
   },
   "outputs": [
    {
     "name": "stdout",
     "output_type": "stream",
     "text": [
      "Resample 2Min - TecAn ( windows 20, windows_limit 100 )\n"
     ]
    },
    {
     "name": "stderr",
     "output_type": "stream",
     "text": [
      "<ipython-input-6-bcd02c62a8b5>:33: TqdmDeprecationWarning: This function will be removed in tqdm==5.0.0\n",
      "Please use `tqdm.notebook.tqdm` instead of `tqdm.tqdm_notebook`\n",
      "  for raw in tqdm(raw_data):\n"
     ]
    },
    {
     "data": {
      "application/vnd.jupyter.widget-view+json": {
       "model_id": "6d9c23b38f194f309d3dc581d6c1793d",
       "version_major": 2,
       "version_minor": 0
      },
      "text/plain": [
       "  0%|          | 0/200000 [00:00<?, ?it/s]"
      ]
     },
     "metadata": {},
     "output_type": "display_data"
    },
    {
     "name": "stdout",
     "output_type": "stream",
     "text": [
      "2021-06-25 21:12:06 Buy (31755.8): ask: 31755.8\n",
      "2021-06-25 21:34:08 Sell (31895.83) 140.03000000000247 total: 100.44095881697203\n",
      "2021-06-25 21:50:20 Buy (31803.26): ask: 31803.26\n",
      "2021-06-25 22:12:02 Sell (31901.61) 98.35000000000218 total: 100.75020384405416\n",
      "2021-06-25 22:14:01 Buy (31910.81): ask: 31910.81\n",
      "2021-06-25 22:26:06 Sell (31895.32) -15.4900000000016 total: 100.7016622996684\n",
      "2021-06-25 22:28:13 Buy (31860.56): ask: 31860.56\n",
      "2021-06-25 23:32:05 Sell (31590.0) -270.5600000000013 total: 99.8524619089659\n",
      "2021-06-25 23:48:26 Buy (31807.59): ask: 31807.59\n",
      "2021-06-25 23:54:05 Sell (31744.91) -62.68000000000029 total: 99.65540202483133\n",
      "2021-06-25 23:56:16 Buy (31664.36): ask: 31664.36\n",
      "2021-06-26 00:08:10 Sell (31748.18) 83.81999999999971 total: 99.92011604399988\n",
      "2021-06-26 00:10:02 Buy (31485.22): ask: 31485.22\n",
      "2021-06-26 00:20:07 Sell (31828.16) 342.9399999999987 total: 101.00932552070037\n",
      "2021-06-26 00:24:04 Buy (31772.37): ask: 31772.37\n",
      "2021-06-26 00:30:02 Sell (31873.38) 101.01000000000204 total: 101.3272432586595\n",
      "2021-06-26 00:38:04 Buy (31868.13): ask: 31868.13\n",
      "2021-06-26 00:42:04 Sell (31950.0) 81.86999999999898 total: 101.58414568751239\n",
      "2021-06-26 00:56:02 Buy (31913.99): ask: 31913.99\n",
      "2021-06-26 01:00:16 Sell (32028.85) 114.85999999999694 total: 101.94405054428523\n",
      "2021-06-26 01:02:17 Buy (31904.01): ask: 31904.01\n",
      "2021-06-26 01:10:01 Sell (31939.0) 34.9900000000016 total: 102.05372327821429\n",
      "2021-06-26 01:12:10 Buy (31834.86): ask: 31834.86\n",
      "2021-06-26 01:58:03 Sell (31983.56) 148.70000000000073 total: 102.52082129592192\n",
      "2021-06-26 02:04:20 Buy (31954.94): ask: 31954.94\n",
      "2021-06-26 02:06:00 Sell (31958.07) 3.1300000000010186 total: 102.53061633856635\n",
      "2021-06-26 02:08:02 Buy (31947.28): ask: 31947.28\n",
      "2021-06-26 02:10:00 Sell (32001.28) 54.0 total: 102.69964481297794\n",
      "2021-06-26 02:12:20 Buy (31983.34): ask: 31983.34\n",
      "2021-06-26 02:26:21 Sell (31815.0) -168.34000000000015 total: 102.17330828902516\n",
      "2021-06-26 02:28:37 Buy (31779.66): ask: 31779.66\n",
      "2021-06-26 02:46:00 Sell (31938.9) 159.2400000000016 total: 102.67438350505957\n",
      "2021-06-26 02:50:16 Buy (32015.82): ask: 32015.82\n",
      "2021-06-26 02:55:23 Sell (31963.32) -52.5 total: 102.51040207337985\n",
      "Resample 2Min - TecAn ( windows 20, windows_limit 100 )\n"
     ]
    },
    {
     "name": "stderr",
     "output_type": "stream",
     "text": [
      "<ipython-input-6-bcd02c62a8b5>:33: TqdmDeprecationWarning: This function will be removed in tqdm==5.0.0\n",
      "Please use `tqdm.notebook.tqdm` instead of `tqdm.tqdm_notebook`\n",
      "  for raw in tqdm(raw_data):\n"
     ]
    },
    {
     "data": {
      "application/vnd.jupyter.widget-view+json": {
       "model_id": "6905a8aa340a4f80b99fba14663bbd05",
       "version_major": 2,
       "version_minor": 0
      },
      "text/plain": [
       "  0%|          | 0/200000 [00:00<?, ?it/s]"
      ]
     },
     "metadata": {},
     "output_type": "display_data"
    },
    {
     "name": "stdout",
     "output_type": "stream",
     "text": [
      "2021-06-25 21:16:07 Buy (31602.21): ask: 31602.21\n",
      "2021-06-25 21:18:02 Sell (31580.51) -21.700000000000728 total: 99.93133391620397\n",
      "2021-06-25 22:34:16 Buy (31761.05): ask: 31761.05\n",
      "2021-06-25 22:36:13 Sell (31725.63) -35.419999999998254 total: 99.81981367364273\n",
      "2021-06-26 01:18:01 Buy (31823.9): ask: 31823.9\n",
      "2021-06-26 01:24:01 Sell (31717.59) -106.31000000000131 total: 99.48575656562014\n",
      "2021-06-26 01:34:08 Buy (31788.43): ask: 31788.43\n",
      "2021-06-26 01:42:07 Sell (31650.17) -138.26000000000204 total: 99.05081844505237\n",
      "2021-06-26 01:46:21 Buy (31537.54): ask: 31537.54\n",
      "2021-06-26 01:48:25 Sell (31695.71) 158.16999999999825 total: 99.55234773363988\n"
     ]
    }
   ],
   "source": [
    "scores = []\n",
    "for idx, model in enumerate(models):\n",
    "    back = process_model(model, '2Min')\n",
    "    scores.append((idx, back))\n",
    "    "
   ]
  },
  {
   "cell_type": "code",
   "execution_count": 8,
   "metadata": {},
   "outputs": [
    {
     "name": "stdout",
     "output_type": "stream",
     "text": [
      "0 102.51040207337985\n",
      "1 99.55234773363988\n"
     ]
    }
   ],
   "source": [
    "for idx, back in scores:\n",
    "    print(f'{idx} {back.current}')"
   ]
  },
  {
   "cell_type": "code",
   "execution_count": null,
   "metadata": {},
   "outputs": [],
   "source": []
  }
 ],
 "metadata": {
  "kernelspec": {
   "display_name": "Python 3",
   "language": "python",
   "name": "python3"
  },
  "language_info": {
   "codemirror_mode": {
    "name": "ipython",
    "version": 3
   },
   "file_extension": ".py",
   "mimetype": "text/x-python",
   "name": "python",
   "nbconvert_exporter": "python",
   "pygments_lexer": "ipython3",
   "version": "3.9.5"
  }
 },
 "nbformat": 4,
 "nbformat_minor": 4
}
