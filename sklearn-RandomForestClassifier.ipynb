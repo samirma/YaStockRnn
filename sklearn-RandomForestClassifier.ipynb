{
 "cells": [
  {
   "cell_type": "code",
   "execution_count": 1,
   "metadata": {
    "colab": {
     "base_uri": "https://localhost:8080/",
     "height": 170
    },
    "colab_type": "code",
    "executionInfo": {
     "elapsed": 503083,
     "status": "ok",
     "timestamp": 1568068274112,
     "user": {
      "displayName": "Samir Moreira Antônio",
      "photoUrl": "https://lh3.googleusercontent.com/a-/AAuE7mCsh3ldsSLN0VnFRYp341EzO_UyuRNKmLncUbMA3Q=s64",
      "userId": "14581632111443153742"
     },
     "user_tz": -60
    },
    "id": "fGVQczSlF-9o",
    "outputId": "e3a06798-f737-48d9-ec6e-d3784cec3115"
   },
   "outputs": [],
   "source": [
    "import pandas as pd\n",
    "import data_util\n",
    "from tqdm.notebook import tqdm\n",
    "#from tqdm import tqdm_notebook as tqdm\n",
    "from data_generator import DataGenerator\n",
    "from state_util import StateUtil\n",
    "from tec_an import TecAn\n",
    "import numpy as np\n",
    "from data_util import *\n",
    "from sklearn_model_hyper import *\n",
    "\n",
    "\n",
    "import numpy as np\n",
    "import math\n",
    "import pandas as pd\n",
    "import matplotlib.pyplot as plt\n",
    "import scipy.stats as scs\n",
    "import scikitplot as skplt\n",
    "\n",
    "from tensorflow.keras.layers import InputLayer, BatchNormalization, GlobalMaxPool1D, Bidirectional, Dense, Flatten, Conv2D, LeakyReLU, Dropout, LSTM, GRU, Input\n",
    "from tensorflow.keras import Model, Sequential\n",
    "from tensorflow.keras import datasets, layers, models\n",
    "from tensorflow.keras import regularizers\n",
    "from keras.wrappers.scikit_learn import KerasClassifier\n",
    "from imblearn.over_sampling import RandomOverSampler\n",
    "import tensorflow as tf\n",
    "from keras.models import Sequential\n",
    "from keras.layers import Dense\n",
    "import tensorflow.keras as keras\n",
    "import random\n",
    "from catboost import CatBoost\n",
    "from sklearn.ensemble import RandomForestClassifier\n",
    "\n",
    "\n",
    "\n",
    "from sklearn.metrics import confusion_matrix\n",
    "from sklearn.model_selection import GridSearchCV\n",
    "from sklearn.metrics import accuracy_score, f1_score, precision_score\n"
   ]
  },
  {
   "cell_type": "code",
   "execution_count": 2,
   "metadata": {},
   "outputs": [],
   "source": [
    "import pandas as pd\n",
    "import data_util\n",
    "from tqdm import tqdm_notebook as tqdm\n",
    "from data_generator import DataGenerator\n",
    "from state_util import StateUtil\n",
    "from tec_an import TecAn\n",
    "import numpy as np\n",
    "\n"
   ]
  },
  {
   "cell_type": "code",
   "execution_count": 37,
   "metadata": {
    "scrolled": true
   },
   "outputs": [
    {
     "name": "stdout",
     "output_type": "stream",
     "text": [
      "(4586, 16)\n"
     ]
    }
   ],
   "source": [
    "path = \"./data/\"\n",
    "trainX_raw, trainY_raw = load_data(\"simple_full_\", \"train\", path)\n",
    "valX_raw, valY_raw = load_data(\"backtest\", \"train\", path)\n",
    "\n",
    "trainX_balanced, trainY_balanced = get_balanced_set(trainX_raw, trainY_raw)\n",
    "\n",
    "X_train, Y_train = trainX_balanced, trainY_balanced\n",
    "\n",
    "valX, valY = valX_raw, valY_raw\n",
    "\n",
    "features = trainX_raw.shape[-1]\n",
    "\n",
    "print(\"{}\".format(trainX_raw.shape))\n"
   ]
  },
  {
   "cell_type": "code",
   "execution_count": 38,
   "metadata": {},
   "outputs": [
    {
     "name": "stdout",
     "output_type": "stream",
     "text": [
      "(4586, 16)\n"
     ]
    }
   ],
   "source": []
  },
  {
   "cell_type": "code",
   "execution_count": 12,
   "metadata": {
    "scrolled": true
   },
   "outputs": [
    {
     "name": "stdout",
     "output_type": "stream",
     "text": [
      "{'criterion': 'entropy', 'max_depth': 100, 'n_estimators': 30, 'random_state': 42}\n",
      "0.5782909930715935\n",
      "CPU times: user 58min 15s, sys: 20.6 s, total: 58min 35s\n",
      "Wall time: 58min 38s\n"
     ]
    }
   ],
   "source": [
    "%%time\n",
    "from sklearn.pipeline import make_pipeline\n",
    "from sklearn.preprocessing import StandardScaler\n",
    "\n",
    "params = {\n",
    "    'random_state' : [42],\n",
    "    'n_estimators': [10, 30, 500, 1000, 2500],\n",
    "    #'max_features': [1,4,5,6,7,8, 10, 30, 500],\n",
    "    'max_depth' : [4,5,6,7,8, 10, 50, 100],\n",
    "    'criterion' :['gini', 'entropy']\n",
    "}\n",
    "\n",
    "\n",
    "clfR = RandomForestClassifier()\n",
    "\n",
    "clf_grid = gridSearch(X_train, Y_train, clfR, params, make_scorer(accuracy_score))\n",
    "\n",
    "#5501154734411087"
   ]
  },
  {
   "cell_type": "code",
   "execution_count": 13,
   "metadata": {},
   "outputs": [
    {
     "name": "stdout",
     "output_type": "stream",
     "text": [
      "{'criterion': 'entropy', 'max_depth': 100, 'n_estimators': 30, 'random_state': 42}\n"
     ]
    }
   ],
   "source": [
    "print(clf_grid.best_params_)"
   ]
  },
  {
   "cell_type": "code",
   "execution_count": 27,
   "metadata": {},
   "outputs": [
    {
     "name": "stdout",
     "output_type": "stream",
     "text": [
      "              precision    recall  f1-score   support\n",
      "\n",
      "     class 0       1.00      1.00      1.00      2165\n",
      "     class 1       1.00      1.00      1.00      2165\n",
      "\n",
      "    accuracy                           1.00      4330\n",
      "   macro avg       1.00      1.00      1.00      4330\n",
      "weighted avg       1.00      1.00      1.00      4330\n",
      "\n"
     ]
    }
   ],
   "source": [
    "\n",
    "model = make_pipeline(StandardScaler(), RandomForestClassifier(**clf_grid.best_params_))\n",
    "\n",
    "model.fit(X_train, Y_train)\n",
    "\n",
    "eval_data(model, X_train, Y_train)"
   ]
  },
  {
   "cell_type": "code",
   "execution_count": 34,
   "metadata": {},
   "outputs": [
    {
     "name": "stdout",
     "output_type": "stream",
     "text": [
      "              precision    recall  f1-score   support\n",
      "\n",
      "     class 0       1.00      1.00      1.00      2165\n",
      "     class 1       1.00      1.00      1.00      2165\n",
      "\n",
      "    accuracy                           1.00      4330\n",
      "   macro avg       1.00      1.00      1.00      4330\n",
      "weighted avg       1.00      1.00      1.00      4330\n",
      "\n"
     ]
    }
   ],
   "source": [
    "from sklearn.pipeline import Pipeline\n",
    "from sklearn.feature_selection import SelectFromModel\n",
    "from sklearn.svm import LinearSVC\n",
    "\n",
    "#model = clf_grid.best_estimator_\n",
    "\n",
    "clf = Pipeline([\n",
    "  ('feature_selection', SelectFromModel(\n",
    "      LinearSVC()\n",
    "  )\n",
    "  ),\n",
    "  ('classification', RandomForestClassifier())\n",
    "])\n",
    "\n",
    "clf.fit(X_train, Y_train)\n",
    "\n",
    "eval_data(clf, X_train, Y_train)"
   ]
  },
  {
   "cell_type": "code",
   "execution_count": 16,
   "metadata": {},
   "outputs": [
    {
     "name": "stdout",
     "output_type": "stream",
     "text": [
      "              precision    recall  f1-score   support\n",
      "\n",
      "     class 0       0.50      0.62      0.55       924\n",
      "     class 1       0.48      0.36      0.41       901\n",
      "\n",
      "    accuracy                           0.49      1825\n",
      "   macro avg       0.49      0.49      0.48      1825\n",
      "weighted avg       0.49      0.49      0.48      1825\n",
      "\n"
     ]
    }
   ],
   "source": [
    "#val_x_norm = normalizer(valX).numpy()\n",
    "\n",
    "eval_data(model, valX, valY)\n",
    "\n",
    "#0.4957874270900843"
   ]
  },
  {
   "cell_type": "code",
   "execution_count": 18,
   "metadata": {},
   "outputs": [
    {
     "data": {
      "text/plain": [
       "['model/RandomForestClassifier_accuracy_score']"
      ]
     },
     "execution_count": 18,
     "metadata": {},
     "output_type": "execute_result"
    }
   ],
   "source": [
    "from joblib import dump, load\n",
    "dump(model, 'model/RandomForestClassifier_accuracy_score') "
   ]
  },
  {
   "cell_type": "code",
   "execution_count": 21,
   "metadata": {},
   "outputs": [
    {
     "name": "stdout",
     "output_type": "stream",
     "text": [
      "(459, 16)\n",
      "              precision    recall  f1-score   support\n",
      "\n",
      "     class 0       0.50      0.58      0.54       219\n",
      "     class 1       0.55      0.47      0.50       240\n",
      "\n",
      "    accuracy                           0.52       459\n",
      "   macro avg       0.52      0.52      0.52       459\n",
      "weighted avg       0.52      0.52      0.52       459\n",
      "\n"
     ]
    }
   ],
   "source": [
    "valX_raw, valY_raw = load_data(\"backtest\", \"train\", path)\n",
    "valX_raw, valY_raw = load_data(\"\", \"val\", path)\n",
    "\n",
    "print(\"{}\".format(valX_raw.shape))\n",
    "\n",
    "eval_data(model, valX_raw, valY_raw)\n"
   ]
  },
  {
   "cell_type": "code",
   "execution_count": 24,
   "metadata": {},
   "outputs": [
    {
     "name": "stdout",
     "output_type": "stream",
     "text": [
      "Elapsed time to compute the importances: 0.008 seconds\n"
     ]
    }
   ],
   "source": [
    "import time\n",
    "import numpy as np\n",
    "\n",
    "forest = clf_grid.best_estimator_\n",
    "\n",
    "start_time = time.time()\n",
    "importances = forest.feature_importances_\n",
    "std = np.std([\n",
    "    tree.feature_importances_ for tree in forest.estimators_], axis=0)\n",
    "elapsed_time = time.time() - start_time\n",
    "\n",
    "print(f\"Elapsed time to compute the importances: \"\n",
    "      f\"{elapsed_time:.3f} seconds\")"
   ]
  },
  {
   "cell_type": "code",
   "execution_count": 26,
   "metadata": {},
   "outputs": [
    {
     "data": {
      "image/png": "[encoded data removed]",
      "text/plain": [
       "<Figure size 432x288 with 1 Axes>"
      ]
     },
     "metadata": {
      "needs_background": "light"
     },
     "output_type": "display_data"
    }
   ],
   "source": [
    "import pandas as pd\n",
    "\n",
    "feature_names = ['F{}'.format(i) for i in range(features)]\n",
    "\n",
    "forest_importances = pd.Series(importances, index=feature_names)\n",
    "\n",
    "fig, ax = plt.subplots()\n",
    "forest_importances.plot.bar(yerr=std, ax=ax)\n",
    "ax.set_title(\"Feature importances using MDI\")\n",
    "ax.set_ylabel(\"Mean decrease in impurity\")\n",
    "fig.tight_layout()"
   ]
  },
  {
   "cell_type": "code",
   "execution_count": null,
   "metadata": {},
   "outputs": [],
   "source": []
  }
 ],
 "metadata": {
  "accelerator": "GPU",
  "colab": {
   "collapsed_sections": [],
   "name": "enviroment",
   "provenance": [],
   "version": "0.3.2"
  },
  "kernelspec": {
   "display_name": "Python 3",
   "language": "python",
   "name": "python3"
  },
  "language_info": {
   "codemirror_mode": {
    "name": "ipython",
    "version": 3
   },
   "file_extension": ".py",
   "mimetype": "text/x-python",
   "name": "python",
   "nbconvert_exporter": "python",
   "pygments_lexer": "ipython3",
   "version": "3.9.5"
  }
 },
 "nbformat": 4,
 "nbformat_minor": 4
}
