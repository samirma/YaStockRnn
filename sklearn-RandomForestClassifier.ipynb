{
 "cells": [
  {
   "cell_type": "code",
   "execution_count": 1,
   "metadata": {
    "colab": {
     "base_uri": "https://localhost:8080/",
     "height": 170
    },
    "colab_type": "code",
    "executionInfo": {
     "elapsed": 503083,
     "status": "ok",
     "timestamp": 1568068274112,
     "user": {
      "displayName": "Samir Moreira Antônio",
      "photoUrl": "https://lh3.googleusercontent.com/a-/AAuE7mCsh3ldsSLN0VnFRYp341EzO_UyuRNKmLncUbMA3Q=s64",
      "userId": "14581632111443153742"
     },
     "user_tz": -60
    },
    "id": "fGVQczSlF-9o",
    "outputId": "e3a06798-f737-48d9-ec6e-d3784cec3115"
   },
   "outputs": [],
   "source": [
    "import pandas as pd\n",
    "import data_util\n",
    "from tqdm.notebook import tqdm\n",
    "#from tqdm import tqdm_notebook as tqdm\n",
    "from data_generator import DataGenerator\n",
    "from state_util import StateUtil\n",
    "from tec_an import TecAn\n",
    "import numpy as np\n",
    "from data_util import *\n",
    "import threading\n",
    "import multiprocessing\n",
    "\n",
    "import numpy as np\n",
    "import math\n",
    "import pandas as pd\n",
    "import matplotlib.pyplot as plt\n",
    "import scipy.stats as scs\n",
    "import scikitplot as skplt\n",
    "\n",
    "from tensorflow.keras.layers import InputLayer, BatchNormalization, GlobalMaxPool1D, Bidirectional, Dense, Flatten, Conv2D, LeakyReLU, Dropout, LSTM, GRU, Input\n",
    "from tensorflow.keras import Model, Sequential\n",
    "from tensorflow.keras import datasets, layers, models\n",
    "from tensorflow.keras import regularizers\n",
    "from keras.wrappers.scikit_learn import KerasClassifier\n",
    "from imblearn.over_sampling import RandomOverSampler\n",
    "import tensorflow as tf\n",
    "from keras.models import Sequential\n",
    "from keras.layers import Dense\n",
    "import tensorflow.keras as keras\n",
    "import random\n",
    "from catboost import CatBoost\n",
    "from sklearn.ensemble import RandomForestClassifier\n",
    "\n",
    "\n",
    "\n",
    "from sklearn.metrics import confusion_matrix\n",
    "from sklearn.model_selection import GridSearchCV\n",
    "from sklearn.metrics import accuracy_score, f1_score\n"
   ]
  },
  {
   "cell_type": "code",
   "execution_count": 2,
   "metadata": {},
   "outputs": [],
   "source": [
    "import pandas as pd\n",
    "import data_util\n",
    "from tqdm import tqdm_notebook as tqdm\n",
    "from data_generator import DataGenerator\n",
    "from state_util import StateUtil\n",
    "from tec_an import TecAn\n",
    "import numpy as np\n",
    "\n"
   ]
  },
  {
   "cell_type": "code",
   "execution_count": 3,
   "metadata": {
    "scrolled": true
   },
   "outputs": [],
   "source": [
    "path = \"./data/\"\n",
    "trainX_raw, trainY_raw = load_data(\"\", \"train\", path)\n",
    "valX_raw, valY_raw = load_data(\"\", \"Val\", path)\n",
    "\n",
    "#trainX_balanced, trainY_balanced = get_balanced_set(trainX_raw, trainY_raw)\n",
    "\n",
    "valX, valY = valX_raw, valY_raw\n",
    "\n",
    "features = trainX_raw.shape[-1]\n"
   ]
  },
  {
   "cell_type": "code",
   "execution_count": 4,
   "metadata": {},
   "outputs": [],
   "source": [
    "normalizer = tf.keras.layers.experimental.preprocessing.Normalization(input_shape=(features,))\n",
    "normalizer.adapt(trainX_raw)\n",
    "\n"
   ]
  },
  {
   "cell_type": "code",
   "execution_count": 25,
   "metadata": {},
   "outputs": [
    {
     "name": "stdout",
     "output_type": "stream",
     "text": [
      "\n",
      "Counter({0: 2706, 1: 2706}) Counter({0: 2706, 1: 1858})\n",
      "(5412, 26) (5412,) | (505, 26) (505,)\n"
     ]
    }
   ],
   "source": [
    "#print(Counter(trainY))\n",
    "\n",
    "\n",
    "X_over, y_over = get_balanced_set(trainX_raw, trainY_raw)\n",
    "\n",
    "print()\n",
    "print(\"{} {}\".format(Counter(y_over), Counter(trainY_raw)))\n",
    "\n",
    "print(\"{} {} | {} {}\".format(X_over.shape, y_over.shape, valX.shape, valY.shape))\n",
    "\n",
    "X_train, Y_train = trainX_raw, trainY_raw\n",
    "\n",
    "x_norm = normalizer(trainX_raw).numpy()\n"
   ]
  },
  {
   "cell_type": "code",
   "execution_count": 6,
   "metadata": {
    "scrolled": true
   },
   "outputs": [
    {
     "name": "stdout",
     "output_type": "stream",
     "text": [
      "CPU times: user 3.73 ms, sys: 3.32 ms, total: 7.05 ms\n",
      "Wall time: 4.2 ms\n"
     ]
    }
   ],
   "source": [
    "%%time\n",
    "from sklearn.metrics import make_scorer, accuracy_score, f1_score\n",
    "\n",
    "\n",
    "def gridSearch(x, y, clf):\n",
    "    \n",
    "\n",
    "    params = { \n",
    "        'n_estimators': [200, 500],\n",
    "        'max_features': ['auto', 'sqrt', 'log2'],\n",
    "        'max_depth' : [4,5,6,7,8, 30, 100],\n",
    "        'criterion' :['gini', 'entropy']\n",
    "    }\n",
    "\n",
    "\n",
    "    scorer = make_scorer(accuracy_score)\n",
    "\n",
    "    clf_grid = GridSearchCV(estimator=clf, param_grid=params, scoring=scorer, cv=5)\n",
    "\n",
    "\n",
    "    clf_grid.fit(x, y)\n",
    "    best_param = clf_grid.best_params_\n",
    "    print(best_param)\n",
    "    print(clf_grid.best_score_)\n",
    "\n",
    "    return clf_grid\n"
   ]
  },
  {
   "cell_type": "code",
   "execution_count": 7,
   "metadata": {
    "scrolled": true
   },
   "outputs": [],
   "source": [
    "from sklearn.metrics import classification_report, precision_score\n",
    "\n",
    "def eval_data(model, x, y):\n",
    "\n",
    "    #print(model.evaluate(x, y))\n",
    "\n",
    "    pred = np.where(model.predict(x) > 0.5,1,0)\n",
    "\n",
    "    print(\"Confusion Matrix {} {}\".format(pred.shape, y.shape))\n",
    "    print(skplt.metrics.plot_confusion_matrix(y, pred, normalize=False))\n",
    "    print(precision_score(y, pred))\n",
    "\n",
    "\n"
   ]
  },
  {
   "cell_type": "code",
   "execution_count": 18,
   "metadata": {},
   "outputs": [],
   "source": [
    "from catboost import CatBoostRegressor, Pool, EShapCalcType, EFeaturesSelectionAlgorithm\n",
    "from sklearn.feature_selection import RFECV\n",
    "\n",
    "train_X, train_y = x_norm, Y_train\n",
    "\n",
    "test_X, test_y = valX, valY\n",
    "\n",
    "feature_names = ['F{}'.format(i) for i in range(26)]\n",
    "\n",
    "\n",
    "train_pool = Pool(train_X, train_y, feature_names=feature_names)\n",
    "test_pool = Pool(valX, test_y, feature_names=feature_names)\n",
    "\n",
    "model = RandomForestClassifier(verbose=False)\n",
    "\n",
    "rfe = RFECV(model,\n",
    "            #min_features_to_select = 20,\n",
    "            step=1, \n",
    "            verbose=0,\n",
    "            cv=5)\n",
    "rfe = rfe.fit(train_X, train_y)\n"
   ]
  },
  {
   "cell_type": "code",
   "execution_count": 19,
   "metadata": {},
   "outputs": [
    {
     "name": "stdout",
     "output_type": "stream",
     "text": [
      "The mask of selected features:  [ True  True  True  True  True  True  True  True  True  True  True  True\n",
      "  True  True  True  True  True  True False False  True  True  True  True\n",
      "  True  True]\n",
      "\n",
      "The feature ranking: [1 1 1 1 1 1 1 1 1 1 1 1 1 1 1 1 1 1 2 3 1 1 1 1 1 1]\n",
      "\n",
      "The external estimator: RandomForestClassifier(verbose=False)\n",
      "Optimal number of features : 24\n"
     ]
    },
    {
     "data": {
      "image/png": "[encoded data removed]",
      "text/plain": [
       "<Figure size 432x288 with 1 Axes>"
      ]
     },
     "metadata": {
      "needs_background": "light"
     },
     "output_type": "display_data"
    },
    {
     "name": "stdout",
     "output_type": "stream",
     "text": [
      "(4564, 24)\n"
     ]
    }
   ],
   "source": [
    "\n",
    "print('The mask of selected features: ',rfe.support_)\n",
    "print()\n",
    "print('The feature ranking:',rfe.ranking_)\n",
    "print()\n",
    "print('The external estimator:',rfe.estimator_)\n",
    "\n",
    "print(\"Optimal number of features : %d\" % rfe.n_features_)\n",
    "\n",
    "# Plot number of features VS. cross-validation scores\n",
    "plt.figure()\n",
    "plt.xlabel(\"Number of features selected\")\n",
    "plt.ylabel(\"Cross validation score (nb of correct classifications)\")\n",
    "plt.plot(range(1, len(rfe.grid_scores_) + 1), rfe.grid_scores_)\n",
    "plt.show()\n",
    "\n",
    "X_reduced = rfe.transform(X_train)\n",
    "\n",
    "print(X_reduced.shape)"
   ]
  },
  {
   "cell_type": "code",
   "execution_count": 20,
   "metadata": {
    "scrolled": true
   },
   "outputs": [
    {
     "name": "stdout",
     "output_type": "stream",
     "text": [
      "{'criterion': 'gini', 'max_depth': 4, 'max_features': 'log2', 'n_estimators': 200}\n",
      "0.43299009434868657\n",
      "CPU times: user 25min 37s, sys: 19.2 s, total: 25min 56s\n",
      "Wall time: 26min 9s\n"
     ]
    }
   ],
   "source": [
    "%%time\n",
    "\n",
    "clf = RandomForestClassifier()\n",
    "\n",
    "clf_grid = gridSearch(X_reduced, Y_train, clf)"
   ]
  },
  {
   "cell_type": "code",
   "execution_count": 21,
   "metadata": {
    "scrolled": true
   },
   "outputs": [
    {
     "name": "stdout",
     "output_type": "stream",
     "text": [
      "Confusion Matrix (4564,) (4564,)\n",
      "AxesSubplot(0.125,0.125;0.62x0.755)\n",
      "0.6415254237288136\n",
      "Confusion Matrix (505,) (505,)\n",
      "AxesSubplot(0.125,0.125;0.62x0.755)\n",
      "0.5512820512820513\n"
     ]
    },
    {
     "data": {
      "image/png": "[encoded data removed]",
      "text/plain": [
       "<Figure size 432x288 with 2 Axes>"
      ]
     },
     "metadata": {
      "needs_background": "light"
     },
     "output_type": "display_data"
    },
    {
     "data": {
      "image/png": "[encoded data removed]",
      "text/plain": [
       "<Figure size 432x288 with 2 Axes>"
      ]
     },
     "metadata": {
      "needs_background": "light"
     },
     "output_type": "display_data"
    }
   ],
   "source": [
    "model = RandomForestClassifier(**clf_grid.best_params_)\n",
    "model.fit(X_reduced, Y_train)\n",
    "\n",
    "#print(model.get_best_score())\n",
    "eval_data(model, X_reduced, Y_train)\n",
    "\n",
    "\n",
    "#5473554735547356"
   ]
  },
  {
   "cell_type": "code",
   "execution_count": 24,
   "metadata": {},
   "outputs": [
    {
     "name": "stdout",
     "output_type": "stream",
     "text": [
      "Confusion Matrix (505,) (505,)\n",
      "AxesSubplot(0.125,0.125;0.62x0.755)\n",
      "0.5512820512820513\n"
     ]
    },
    {
     "data": {
      "image/png": "[encoded data removed]",
      "text/plain": [
       "<Figure size 432x288 with 2 Axes>"
      ]
     },
     "metadata": {
      "needs_background": "light"
     },
     "output_type": "display_data"
    }
   ],
   "source": [
    "\n",
    "\n",
    "eval_data(model, rfe.transform(valX), valY)\n",
    "\n"
   ]
  },
  {
   "cell_type": "code",
   "execution_count": null,
   "metadata": {},
   "outputs": [],
   "source": []
  }
 ],
 "metadata": {
  "accelerator": "GPU",
  "colab": {
   "collapsed_sections": [],
   "name": "enviroment",
   "provenance": [],
   "version": "0.3.2"
  },
  "kernelspec": {
   "display_name": "Python 3",
   "language": "python",
   "name": "python3"
  },
  "language_info": {
   "codemirror_mode": {
    "name": "ipython",
    "version": 3
   },
   "file_extension": ".py",
   "mimetype": "text/x-python",
   "name": "python",
   "nbconvert_exporter": "python",
   "pygments_lexer": "ipython3",
   "version": "3.9.5"
  }
 },
 "nbformat": 4,
 "nbformat_minor": 4
}
