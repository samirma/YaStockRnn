{
 "cells": [
  {
   "cell_type": "code",
   "execution_count": 6,
   "metadata": {},
   "outputs": [
    {
     "name": "stdout",
     "output_type": "stream",
     "text": [
      "2.1.0\n"
     ]
    }
   ],
   "source": [
    "from __future__ import absolute_import, division, print_function, unicode_literals\n",
    "\n",
    "import os\n",
    "\n",
    "from bitstamp import LiveBitstamp, Bitstamp\n",
    "\n",
    "from live_processor import LiveProcessor\n",
    "\n",
    "import model as model_util\n",
    "\n",
    "from data_generator import DataGenerator\n",
    "\n",
    "import matplotlib.pyplot as plt\n",
    "\n",
    "from numpy import array\n",
    "import numpy as np\n",
    "from numpy import argmax\n",
    "\n",
    "\n",
    "import datetime\n",
    "from datetime import datetime\n",
    "\n",
    "from tensorflow.keras import datasets, layers, models\n",
    "\n",
    "from tensorflow.keras.preprocessing.sequence import TimeseriesGenerator\n",
    "\n",
    "import tensorflow as tf\n",
    "\n",
    "#%load_ext tensorboard\n",
    "print(tf.__version__)"
   ]
  },
  {
   "cell_type": "code",
   "execution_count": 7,
   "metadata": {},
   "outputs": [],
   "source": [
    "n_input = 100\n",
    "features = 20\n",
    "\n",
    "filepath = \"stock.h5\"\n",
    "\n",
    "def load_model(filepath = filepath):\n",
    "    model_loaded = tf.keras.models.load_model(filepath)\n",
    "    return model_loaded\n",
    "\n",
    "\n",
    "model = load_model(filepath)\n"
   ]
  },
  {
   "cell_type": "code",
   "execution_count": 8,
   "metadata": {},
   "outputs": [],
   "source": [
    "#tf.keras.utils.plot_model(model, 'multi_input_and_output_model.png', show_shapes=True)\n",
    "#model.summary()"
   ]
  },
  {
   "cell_type": "code",
   "execution_count": 9,
   "metadata": {},
   "outputs": [],
   "source": [
    "def get_model_pred(data):\n",
    "    predicted = model.predict(data)\n",
    "    for pred in predicted:\n",
    "        cat_pred = argmax(pred)\n",
    "        #print(cat_pred)\n",
    "        return cat_pred"
   ]
  },
  {
   "cell_type": "code",
   "execution_count": 11,
   "metadata": {},
   "outputs": [],
   "source": [
    "proc = LiveProcessor()\n",
    "\n",
    "get_model_pred_med = lambda raw_states_list: proc.get_model_pred(raw_states_list)\n",
    "\n",
    "live = LiveBitstamp(n_input)\n",
    "live.on_list_full = lambda raw_states_list: proc.live_predict(raw_states_list, get_model_pred_med)\n",
    "bt = Bitstamp(live)\n"
   ]
  },
  {
   "cell_type": "code",
   "execution_count": 12,
   "metadata": {},
   "outputs": [
    {
     "name": "stdout",
     "output_type": "stream",
     "text": [
      "Bitstamp Websocket Opened.\n",
      "Reading form live_trades_btcusd and order_book_btcusd\n"
     ]
    },
    {
     "data": {
      "application/vnd.jupyter.widget-view+json": {
       "model_id": "eb92319f323e4c7889aefa665d372dad",
       "version_major": 2,
       "version_minor": 0
      },
      "text/plain": [
       "HBox(children=(FloatProgress(value=0.0), HTML(value='')))"
      ]
     },
     "metadata": {},
     "output_type": "display_data"
    },
    {
     "name": "stdout",
     "output_type": "stream",
     "text": [
      "\n",
      "Bitstamp Websocket Closed.\n"
     ]
    }
   ],
   "source": [
    "bt.connect()"
   ]
  },
  {
   "cell_type": "code",
   "execution_count": null,
   "metadata": {},
   "outputs": [],
   "source": [
    "data_gen = DataGenerator(random=False, first_index=10)\n",
    "data_gen.rewind()\n",
    "data_gen.steps"
   ]
  },
  {
   "cell_type": "code",
   "execution_count": null,
   "metadata": {},
   "outputs": [],
   "source": [
    "proc = LiveProcessor()\n",
    "\n",
    "live = LiveBitstamp(n_input)\n",
    "live.on_list_full = lambda raw_states_list: proc.live_predict(raw_states_list)\n",
    "bt = Bitstamp(live)\n"
   ]
  },
  {
   "cell_type": "code",
   "execution_count": null,
   "metadata": {},
   "outputs": [],
   "source": [
    "for i in range(999):\n",
    "    raw_state = data_gen.next()[0]\n",
    "    live.process(raw_state)\n",
    "    "
   ]
  },
  {
   "cell_type": "code",
   "execution_count": null,
   "metadata": {},
   "outputs": [],
   "source": []
  }
 ],
 "metadata": {
  "kernelspec": {
   "display_name": "Python 3",
   "language": "python",
   "name": "python3"
  },
  "language_info": {
   "codemirror_mode": {
    "name": "ipython",
    "version": 3
   },
   "file_extension": ".py",
   "mimetype": "text/x-python",
   "name": "python",
   "nbconvert_exporter": "python",
   "pygments_lexer": "ipython3",
   "version": "3.6.13"
  }
 },
 "nbformat": 4,
 "nbformat_minor": 4
}
