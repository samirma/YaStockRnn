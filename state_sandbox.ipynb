{
 "cells": [
  {
   "cell_type": "code",
   "execution_count": 1,
   "metadata": {},
   "outputs": [],
   "source": [
    "from tqdm import tqdm_notebook as tqdm"
   ]
  },
  {
   "cell_type": "code",
   "execution_count": 2,
   "metadata": {},
   "outputs": [],
   "source": [
    "import os\n",
    "import json\n",
    "import io\n",
    "import random\n",
    "\n",
    "class DataGenerator:\n",
    "    def __init__(self, random=False, first_index=0, base_dir = \"stock_data/\"):\n",
    "        self.base_dir = base_dir\n",
    "        self.files = os.listdir(self.base_dir)\n",
    "        self.files.sort()\n",
    "        self.steps = len(self.files)\n",
    "        self.first_index = first_index\n",
    "        self.index = self.first_index\n",
    "        self.is_random = random\n",
    "        self.index = first_index\n",
    "\n",
    "    def convert_to_array(self, data):\n",
    "        if (isinstance(data, dict)):\n",
    "            return [data]\n",
    "        else:\n",
    "            return data\n",
    "    \n",
    "    def read_json_from_file(self, file_path):\n",
    "        f = io.open(file_path, mode=\"r\", encoding=\"utf-8\")\n",
    "        raw = f.read()\n",
    "        try:\n",
    "            return json.loads(raw)\n",
    "        except Exception as e: \n",
    "            print(len(raw))\n",
    "            print(\"Unexpected error:\", e)\n",
    "    \n",
    "    def get_from_index(self, index):\n",
    "        file_path = self.base_dir + self.files[index]\n",
    "        return self.read_json_from_file(file_path)\n",
    "    \n",
    "    def get_json_from_timestamp(self, timestamp):\n",
    "        file_path = \"{}{}.json\".format(self.base_dir, timestamp)\n",
    "        #print(file_path)\n",
    "        if os.path.exists(file_path):\n",
    "            states = self.read_json_from_file(file_path)\n",
    "            return self.convert_to_array(states)\n",
    "        #else:\n",
    "        #    print(\"File not found {}\".format(file_path))\n",
    "    \n",
    "    def get_current_state_from_index(self, index):\n",
    "        jsonResult = self.get_from_index(self.index)\n",
    "        return self.convert_to_array(jsonResult)\n",
    "\n",
    "    def get_current_state(self):\n",
    "        return self.get_current_state_from_index(self.index)\n",
    "\n",
    "    def next(self, index = -1):\n",
    "        #print(\"next %s %s %s\" % (self.index, self.steps, self.has_next()))\n",
    "        if index == -1:\n",
    "            index = self.index\n",
    "        state = self.get_current_state()\n",
    "        self.index += 1\n",
    "        return state\n",
    "    \n",
    "    def rewind(self):\n",
    "        if self.is_random:\n",
    "            self.first_index = int(random.uniform(0, 0.9)*self.steps)\n",
    "        self.index = self.first_index\n",
    "        #print(\"Initial index %s, has_next: %s\" % (self.index, self.has_next()))\n",
    "        \n",
    "    def has_next(self):\n",
    "        has_next = ((self.index) < self.steps)\n",
    "        #print(\"has_next %s\" % has_next)\n",
    "        return has_next\n",
    "    \n",
    "    def max_steps(self):\n",
    "        return self.steps"
   ]
  },
  {
   "cell_type": "code",
   "execution_count": 4,
   "metadata": {},
   "outputs": [
    {
     "ename": "FileNotFoundError",
     "evalue": "[Errno 2] No such file or directory: 'test/stock_data/'",
     "output_type": "error",
     "traceback": [
      "\u001b[0;31m---------------------------------------------------------------------------\u001b[0m",
      "\u001b[0;31mFileNotFoundError\u001b[0m                         Traceback (most recent call last)",
      "\u001b[0;32m<ipython-input-4-373ee6ef8396>\u001b[0m in \u001b[0;36m<module>\u001b[0;34m\u001b[0m\n\u001b[0;32m----> 1\u001b[0;31m \u001b[0mdata_gen\u001b[0m \u001b[0;34m=\u001b[0m \u001b[0mDataGenerator\u001b[0m\u001b[0;34m(\u001b[0m\u001b[0mrandom\u001b[0m\u001b[0;34m=\u001b[0m\u001b[0;32mFalse\u001b[0m\u001b[0;34m,\u001b[0m \u001b[0mbase_dir\u001b[0m \u001b[0;34m=\u001b[0m \u001b[0;34m\"test/stock_data/\"\u001b[0m\u001b[0;34m)\u001b[0m\u001b[0;34m\u001b[0m\u001b[0;34m\u001b[0m\u001b[0m\n\u001b[0m\u001b[1;32m      2\u001b[0m \u001b[0mdata_gen\u001b[0m\u001b[0;34m.\u001b[0m\u001b[0mrewind\u001b[0m\u001b[0;34m(\u001b[0m\u001b[0;34m)\u001b[0m\u001b[0;34m\u001b[0m\u001b[0;34m\u001b[0m\u001b[0m\n\u001b[1;32m      3\u001b[0m \u001b[0mdata_count\u001b[0m \u001b[0;34m=\u001b[0m \u001b[0mdata_gen\u001b[0m\u001b[0;34m.\u001b[0m\u001b[0mmax_steps\u001b[0m\u001b[0;34m(\u001b[0m\u001b[0;34m)\u001b[0m\u001b[0;34m\u001b[0m\u001b[0;34m\u001b[0m\u001b[0m\n",
      "\u001b[0;32m<ipython-input-2-11091b96cf4d>\u001b[0m in \u001b[0;36m__init__\u001b[0;34m(self, random, first_index, base_dir)\u001b[0m\n\u001b[1;32m      7\u001b[0m     \u001b[0;32mdef\u001b[0m \u001b[0m__init__\u001b[0m\u001b[0;34m(\u001b[0m\u001b[0mself\u001b[0m\u001b[0;34m,\u001b[0m \u001b[0mrandom\u001b[0m\u001b[0;34m=\u001b[0m\u001b[0;32mFalse\u001b[0m\u001b[0;34m,\u001b[0m \u001b[0mfirst_index\u001b[0m\u001b[0;34m=\u001b[0m\u001b[0;36m0\u001b[0m\u001b[0;34m,\u001b[0m \u001b[0mbase_dir\u001b[0m \u001b[0;34m=\u001b[0m \u001b[0;34m\"stock_data/\"\u001b[0m\u001b[0;34m)\u001b[0m\u001b[0;34m:\u001b[0m\u001b[0;34m\u001b[0m\u001b[0;34m\u001b[0m\u001b[0m\n\u001b[1;32m      8\u001b[0m         \u001b[0mself\u001b[0m\u001b[0;34m.\u001b[0m\u001b[0mbase_dir\u001b[0m \u001b[0;34m=\u001b[0m \u001b[0mbase_dir\u001b[0m\u001b[0;34m\u001b[0m\u001b[0;34m\u001b[0m\u001b[0m\n\u001b[0;32m----> 9\u001b[0;31m         \u001b[0mself\u001b[0m\u001b[0;34m.\u001b[0m\u001b[0mfiles\u001b[0m \u001b[0;34m=\u001b[0m \u001b[0mos\u001b[0m\u001b[0;34m.\u001b[0m\u001b[0mlistdir\u001b[0m\u001b[0;34m(\u001b[0m\u001b[0mself\u001b[0m\u001b[0;34m.\u001b[0m\u001b[0mbase_dir\u001b[0m\u001b[0;34m)\u001b[0m\u001b[0;34m\u001b[0m\u001b[0;34m\u001b[0m\u001b[0m\n\u001b[0m\u001b[1;32m     10\u001b[0m         \u001b[0mself\u001b[0m\u001b[0;34m.\u001b[0m\u001b[0mfiles\u001b[0m\u001b[0;34m.\u001b[0m\u001b[0msort\u001b[0m\u001b[0;34m(\u001b[0m\u001b[0;34m)\u001b[0m\u001b[0;34m\u001b[0m\u001b[0;34m\u001b[0m\u001b[0m\n\u001b[1;32m     11\u001b[0m         \u001b[0mself\u001b[0m\u001b[0;34m.\u001b[0m\u001b[0msteps\u001b[0m \u001b[0;34m=\u001b[0m \u001b[0mlen\u001b[0m\u001b[0;34m(\u001b[0m\u001b[0mself\u001b[0m\u001b[0;34m.\u001b[0m\u001b[0mfiles\u001b[0m\u001b[0;34m)\u001b[0m\u001b[0;34m\u001b[0m\u001b[0;34m\u001b[0m\u001b[0m\n",
      "\u001b[0;31mFileNotFoundError\u001b[0m: [Errno 2] No such file or directory: 'test/stock_data/'"
     ]
    }
   ],
   "source": [
    "data_gen = DataGenerator(random=False, base_dir = \"test/stock_data/\")\n",
    "data_gen.rewind()\n",
    "data_count = data_gen.max_steps()"
   ]
  },
  {
   "cell_type": "code",
   "execution_count": 34,
   "metadata": {
    "scrolled": true
   },
   "outputs": [
    {
     "data": {
      "application/vnd.jupyter.widget-view+json": {
       "model_id": "fc7d7139ce7747a19e6e8fd3f64a2a87",
       "version_major": 2,
       "version_minor": 0
      },
      "text/plain": [
       "HBox(children=(IntProgress(value=0, max=225065), HTML(value='')))"
      ]
     },
     "metadata": {},
     "output_type": "display_data"
    },
    {
     "name": "stdout",
     "output_type": "stream",
     "text": [
      "\n",
      "225065\n"
     ]
    }
   ],
   "source": [
    "num = 0\n",
    "for i in tqdm(range(data_count)):\n",
    "    states = data_gen.next()\n",
    "    for state in states:\n",
    "        num += 1\n",
    "        process(state)\n",
    "print(num)"
   ]
  },
  {
   "cell_type": "code",
   "execution_count": 6,
   "metadata": {},
   "outputs": [],
   "source": [
    "raw = data_gen.next()[-1]"
   ]
  },
  {
   "cell_type": "code",
   "execution_count": 17,
   "metadata": {
    "scrolled": true
   },
   "outputs": [
    {
     "data": {
      "text/plain": [
       "{'timestamp': '1565523018',\n",
       " 'microtimestamp': '1565523018052255',\n",
       " 'bids': [['11346.65', '1.13344578'],\n",
       "  ['11346.55', '3.00000000'],\n",
       "  ['11341.01', '0.40000000'],\n",
       "  ['11340.99', '0.36759528'],\n",
       "  ['11339.69', '0.60000000'],\n",
       "  ['11338.24', '0.28000000'],\n",
       "  ['11338.00', '2.00000000'],\n",
       "  ['11337.92', '1.00000000'],\n",
       "  ['11337.21', '1.00000000'],\n",
       "  ['11337.18', '5.00000000'],\n",
       "  ['11336.48', '10.00000000'],\n",
       "  ['11336.02', '5.00000000'],\n",
       "  ['11335.96', '0.05000000'],\n",
       "  ['11335.80', '0.26456029'],\n",
       "  ['11334.59', '1.00000000'],\n",
       "  ['11333.13', '0.11803397'],\n",
       "  ['11333.12', '10.00000000'],\n",
       "  ['11333.04', '10.00000000'],\n",
       "  ['11332.85', '0.50000000'],\n",
       "  ['11331.60', '0.26474356']],\n",
       " 'asks': [['11362.09', '1.00000000'],\n",
       "  ['11364.90', '0.21741836'],\n",
       "  ['11364.93', '2.00000000'],\n",
       "  ['11364.94', '0.50000000'],\n",
       "  ['11364.96', '5.00000000'],\n",
       "  ['11365.41', '5.00000000'],\n",
       "  ['11365.57', '0.60000000'],\n",
       "  ['11365.59', '1.10010000'],\n",
       "  ['11366.64', '0.00360001'],\n",
       "  ['11366.66', '5.00000000'],\n",
       "  ['11367.20', '1.00000000'],\n",
       "  ['11368.42', '2.00000000'],\n",
       "  ['11368.43', '3.00000000'],\n",
       "  ['11368.55', '1.02000000'],\n",
       "  ['11369.41', '0.05000000'],\n",
       "  ['11370.13', '0.03837221'],\n",
       "  ['11370.95', '0.22000000'],\n",
       "  ['11370.96', '1.00000000'],\n",
       "  ['11371.20', '0.07294900'],\n",
       "  ['11371.55', '10.00000000']],\n",
       " 'price': 11346.65,\n",
       " 'amount': 0.06995422}"
      ]
     },
     "execution_count": 17,
     "metadata": {},
     "output_type": "execute_result"
    }
   ],
   "source": [
    "process(raw)\n",
    "raw"
   ]
  },
  {
   "cell_type": "code",
   "execution_count": 32,
   "metadata": {},
   "outputs": [],
   "source": [
    "file_path_format = \"btcusd17/{}.json\"\n",
    "\n",
    "def get_file_path(timestamp):\n",
    "    return file_path_format.format(timestamp)\n",
    "\n",
    "def save_file(filename, data):\n",
    "    with open(filename, 'w') as json_file:\n",
    "        json.dump(data, json_file)\n",
    "        json_file.close()\n",
    "\n",
    "def process(data):\n",
    "    #print(data)\n",
    "    data['microtimestamp'] = data['timestamp'] + \"000000\"\n",
    "    timestamp = data['microtimestamp']\n",
    "    save_file(get_file_path(timestamp), data)"
   ]
  },
  {
   "cell_type": "code",
   "execution_count": 29,
   "metadata": {},
   "outputs": [],
   "source": [
    "data = data_gen.next()[-1]"
   ]
  },
  {
   "cell_type": "code",
   "execution_count": 30,
   "metadata": {},
   "outputs": [],
   "source": [
    "data['microtimestamp'] = data['timestamp'] + \"000000\""
   ]
  },
  {
   "cell_type": "code",
   "execution_count": 6,
   "metadata": {},
   "outputs": [
    {
     "name": "stdout",
     "output_type": "stream",
     "text": [
      "Train loaded: (7047, 13) (7047,) \n",
      "Val loaded: (21, 13) (21,) \n",
      "Sample X [ 9.49086488e-16  1.00000000e+00  1.00000000e+00  0.00000000e+00\n",
      "  2.23724477e-03  0.00000000e+00  0.00000000e+00  0.00000000e+00\n",
      "  4.99999972e-01  3.21073014e-06 -6.45365110e-05  2.01680337e-04\n",
      "  9.62964943e-33] Y 0\n"
     ]
    }
   ],
   "source": [
    "path = \"./\"\n",
    "\n",
    "def load_data(name):\n",
    "    X = np.load(path + name + \"X.npy\")\n",
    "    Y = np.load(path + name + \"Y.npy\")\n",
    "    return X, Y\n",
    "\n",
    "trainX, trainY = load_data(\"train\")\n",
    "print(\"Train loaded: {} {} \".format(trainX.shape, trainY.shape))\n",
    "\n",
    "valX, valY = load_data(\"val\")\n",
    "print(\"Val loaded: {} {} \".format(valX.shape, valY.shape))\n",
    "print(\"Sample X {} Y {}\".format( valX[-1], valY[-1]))"
   ]
  },
  {
   "cell_type": "code",
   "execution_count": 2,
   "metadata": {},
   "outputs": [],
   "source": [
    "import numpy as np"
   ]
  },
  {
   "cell_type": "code",
   "execution_count": 10,
   "metadata": {},
   "outputs": [],
   "source": [
    "def prepare_y(list):\n",
    "    list = np.insert(list, 0, 0)\n",
    "    list = np.delete(list , -1, 0)\n",
    "    return list"
   ]
  },
  {
   "cell_type": "code",
   "execution_count": 11,
   "metadata": {},
   "outputs": [],
   "source": [
    "X = list()\n",
    "Y = list()\n",
    "X = [x+1 for x in range(200)]\n",
    "Y = [y for y in X]"
   ]
  },
  {
   "cell_type": "code",
   "execution_count": 13,
   "metadata": {},
   "outputs": [
    {
     "data": {
      "text/plain": [
       "array([  0,   1,   2,   3,   4,   5,   6,   7,   8,   9,  10,  11,  12,\n",
       "        13,  14,  15,  16,  17,  18,  19,  20,  21,  22,  23,  24,  25,\n",
       "        26,  27,  28,  29,  30,  31,  32,  33,  34,  35,  36,  37,  38,\n",
       "        39,  40,  41,  42,  43,  44,  45,  46,  47,  48,  49,  50,  51,\n",
       "        52,  53,  54,  55,  56,  57,  58,  59,  60,  61,  62,  63,  64,\n",
       "        65,  66,  67,  68,  69,  70,  71,  72,  73,  74,  75,  76,  77,\n",
       "        78,  79,  80,  81,  82,  83,  84,  85,  86,  87,  88,  89,  90,\n",
       "        91,  92,  93,  94,  95,  96,  97,  98,  99, 100, 101, 102, 103,\n",
       "       104, 105, 106, 107, 108, 109, 110, 111, 112, 113, 114, 115, 116,\n",
       "       117, 118, 119, 120, 121, 122, 123, 124, 125, 126, 127, 128, 129,\n",
       "       130, 131, 132, 133, 134, 135, 136, 137, 138, 139, 140, 141, 142,\n",
       "       143, 144, 145, 146, 147, 148, 149, 150, 151, 152, 153, 154, 155,\n",
       "       156, 157, 158, 159, 160, 161, 162, 163, 164, 165, 166, 167, 168,\n",
       "       169, 170, 171, 172, 173, 174, 175, 176, 177, 178, 179, 180, 181,\n",
       "       182, 183, 184, 185, 186, 187, 188, 189, 190, 191, 192, 193, 194,\n",
       "       195, 196, 197, 198, 199])"
      ]
     },
     "execution_count": 13,
     "metadata": {},
     "output_type": "execute_result"
    }
   ],
   "source": [
    "prepare_y(Y)"
   ]
  },
  {
   "cell_type": "code",
   "execution_count": 14,
   "metadata": {},
   "outputs": [
    {
     "data": {
      "text/plain": [
       "array([0, 0, 0, ..., 0, 0, 0])"
      ]
     },
     "execution_count": 14,
     "metadata": {},
     "output_type": "execute_result"
    }
   ],
   "source": [
    "trainY"
   ]
  },
  {
   "cell_type": "code",
   "execution_count": null,
   "metadata": {},
   "outputs": [],
   "source": []
  }
 ],
 "metadata": {
  "kernelspec": {
   "display_name": "Python 3",
   "language": "python",
   "name": "python3"
  },
  "language_info": {
   "codemirror_mode": {
    "name": "ipython",
    "version": 3
   },
   "file_extension": ".py",
   "mimetype": "text/x-python",
   "name": "python",
   "nbconvert_exporter": "python",
   "pygments_lexer": "ipython3",
   "version": "3.9.5"
  }
 },
 "nbformat": 4,
 "nbformat_minor": 2
}
