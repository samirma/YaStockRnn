{
 "cells": [
  {
   "cell_type": "code",
   "execution_count": 13,
   "metadata": {},
   "outputs": [],
   "source": [
    "from __future__ import absolute_import, division, print_function, unicode_literals\n",
    "\n",
    "import os\n",
    "\n",
    "from data_util import *\n",
    "\n",
    "from data_generator import DataGenerator\n",
    "\n",
    "import model as model_util\n",
    "\n",
    "from tqdm import tqdm_notebook as tqdm\n",
    "\n",
    "import matplotlib.pyplot as plt\n",
    "\n",
    "from numpy import array\n",
    "import numpy as np\n",
    "\n"
   ]
  },
  {
   "cell_type": "code",
   "execution_count": 14,
   "metadata": {},
   "outputs": [],
   "source": [
    "def reset_seed():\n",
    "    seed_value= 0\n",
    "    # 1. Set `PYTHONHASHSEED` environment variable at a fixed value\n",
    "    import os\n",
    "    os.environ['PYTHONHASHSEED']=str(seed_value)\n",
    "    # 2. Set `python` built-in pseudo-random generator at a fixed value\n",
    "    import random\n",
    "    random.seed(seed_value)\n",
    "    # 3. Set `numpy` pseudo-random generator at a fixed value\n",
    "    import numpy as np\n",
    "    np.random.seed(seed_value)\n",
    "    # 4. Set the `tensorflow` pseudo-random generator at a fixed value\n",
    "    import tensorflow as tf\n",
    "    tf.random.set_seed(seed_value)\n",
    "\n",
    "reset_seed()\n",
    "\n",
    "path = \"./\"\n",
    "model_path = path + \"stock.h5\""
   ]
  },
  {
   "cell_type": "code",
   "execution_count": 37,
   "metadata": {},
   "outputs": [],
   "source": [
    "trainX, trainY, positiveX, positiveY, negativeX, negativeY = load_data(\"ethusd\", \"Train\", path, balanced = True)\n",
    "valX, valY, positiveX_, positiveY_, negativeX_, negativeY_ = load_data(\"btcusd\", \"Val\", path, balanced = False)"
   ]
  },
  {
   "cell_type": "code",
   "execution_count": 38,
   "metadata": {},
   "outputs": [],
   "source": [
    "dim = 50\n",
    "seqs = 30\n",
    "dropout = 0.1\n",
    "lays = 5\n",
    "lays_seq = 1"
   ]
  },
  {
   "cell_type": "code",
   "execution_count": 39,
   "metadata": {},
   "outputs": [
    {
     "name": "stdout",
     "output_type": "stream",
     "text": [
      "Samples: 463\n",
      "(29616, 30, 21)\n",
      "(29616,)\n",
      "Feature: 21\n"
     ]
    }
   ],
   "source": [
    "# https://machinelearningmastery.com/how-to-use-the-timeseriesgenerator-for-time-series-forecasting-in-keras/\n",
    "# define generator\n",
    "batch_size = 512\n",
    "\n",
    "train_generator = get_gen(trainX, trainY, shuffle=True, time_steps = seqs)\n",
    "\n",
    "val_generator = get_gen(valX, valY, shuffle=False, time_steps = seqs)\n",
    "\n",
    "x_train, y_train = create_dataset(trainX, trainY, seqs)\n",
    "\n",
    "x_val, y_val = create_dataset(valX, valY, seqs)\n",
    "\n",
    "\n",
    "# number of samples\n",
    "print('Samples: %d' % len(train_generator))\n",
    "\n",
    "\n",
    "print(x_train.shape)\n",
    "print(y_train.shape)\n",
    "\n",
    "features = x_train.shape[-1]\n",
    "\n",
    "print(\"Feature: {}\".format(features))\n"
   ]
  },
  {
   "cell_type": "code",
   "execution_count": 40,
   "metadata": {
    "scrolled": true
   },
   "outputs": [
    {
     "name": "stdout",
     "output_type": "stream",
     "text": [
      "WARNING:tensorflow:`load_weights_on_restart` argument is deprecated. Please use `model.load_weights()` for loading weights before the start of `model.fit()`.\n",
      "Training on: 237056 val 24\n",
      "Epoch 1/50\n",
      "463/463 [==============================] - 262s 565ms/step - loss: 0.7443 - accuracy: 0.5245 - val_loss: 0.8711 - val_accuracy: 0.3159\n",
      "Epoch 2/50\n",
      "463/463 [==============================] - 262s 567ms/step - loss: 0.6967 - accuracy: 0.5812 - val_loss: 1.0448 - val_accuracy: 0.2254\n",
      "Epoch 3/50\n",
      "463/463 [==============================] - 263s 568ms/step - loss: 0.6660 - accuracy: 0.6169 - val_loss: 1.1555 - val_accuracy: 0.2280\n",
      "Epoch 4/50\n",
      "463/463 [==============================] - 264s 570ms/step - loss: 0.6390 - accuracy: 0.6482 - val_loss: 1.2290 - val_accuracy: 0.2584\n",
      "Epoch 5/50\n",
      "218/463 [=============>................] - ETA: 2:17 - loss: 0.6132 - accuracy: 0.6775"
     ]
    },
    {
     "ename": "KeyboardInterrupt",
     "evalue": "",
     "output_type": "error",
     "traceback": [
      "\u001b[0;31m---------------------------------------------------------------------------\u001b[0m",
      "\u001b[0;31mKeyboardInterrupt\u001b[0m                         Traceback (most recent call last)",
      "\u001b[0;32m<ipython-input-40-00bb67f87422>\u001b[0m in \u001b[0;36m<module>\u001b[0;34m\u001b[0m\n\u001b[1;32m     33\u001b[0m         \u001b[0mepochs\u001b[0m\u001b[0;34m=\u001b[0m\u001b[0mepochs\u001b[0m\u001b[0;34m,\u001b[0m\u001b[0;34m\u001b[0m\u001b[0;34m\u001b[0m\u001b[0m\n\u001b[1;32m     34\u001b[0m         \u001b[0mverbose\u001b[0m\u001b[0;34m=\u001b[0m\u001b[0;36m1\u001b[0m\u001b[0;34m,\u001b[0m\u001b[0;34m\u001b[0m\u001b[0;34m\u001b[0m\u001b[0m\n\u001b[0;32m---> 35\u001b[0;31m         \u001b[0mcallbacks\u001b[0m\u001b[0;34m=\u001b[0m\u001b[0mcallbacks_list\u001b[0m\u001b[0;34m\u001b[0m\u001b[0;34m\u001b[0m\u001b[0m\n\u001b[0m\u001b[1;32m     36\u001b[0m     )\n",
      "\u001b[0;32m~/opt/miniconda3/envs/py3/lib/python3.6/site-packages/tensorflow/python/keras/engine/training.py\u001b[0m in \u001b[0;36mfit\u001b[0;34m(self, x, y, batch_size, epochs, verbose, callbacks, validation_split, validation_data, shuffle, class_weight, sample_weight, initial_epoch, steps_per_epoch, validation_steps, validation_batch_size, validation_freq, max_queue_size, workers, use_multiprocessing)\u001b[0m\n\u001b[1;32m   1098\u001b[0m                 _r=1):\n\u001b[1;32m   1099\u001b[0m               \u001b[0mcallbacks\u001b[0m\u001b[0;34m.\u001b[0m\u001b[0mon_train_batch_begin\u001b[0m\u001b[0;34m(\u001b[0m\u001b[0mstep\u001b[0m\u001b[0;34m)\u001b[0m\u001b[0;34m\u001b[0m\u001b[0;34m\u001b[0m\u001b[0m\n\u001b[0;32m-> 1100\u001b[0;31m               \u001b[0mtmp_logs\u001b[0m \u001b[0;34m=\u001b[0m \u001b[0mself\u001b[0m\u001b[0;34m.\u001b[0m\u001b[0mtrain_function\u001b[0m\u001b[0;34m(\u001b[0m\u001b[0miterator\u001b[0m\u001b[0;34m)\u001b[0m\u001b[0;34m\u001b[0m\u001b[0;34m\u001b[0m\u001b[0m\n\u001b[0m\u001b[1;32m   1101\u001b[0m               \u001b[0;32mif\u001b[0m \u001b[0mdata_handler\u001b[0m\u001b[0;34m.\u001b[0m\u001b[0mshould_sync\u001b[0m\u001b[0;34m:\u001b[0m\u001b[0;34m\u001b[0m\u001b[0;34m\u001b[0m\u001b[0m\n\u001b[1;32m   1102\u001b[0m                 \u001b[0mcontext\u001b[0m\u001b[0;34m.\u001b[0m\u001b[0masync_wait\u001b[0m\u001b[0;34m(\u001b[0m\u001b[0;34m)\u001b[0m\u001b[0;34m\u001b[0m\u001b[0;34m\u001b[0m\u001b[0m\n",
      "\u001b[0;32m~/opt/miniconda3/envs/py3/lib/python3.6/site-packages/tensorflow/python/eager/def_function.py\u001b[0m in \u001b[0;36m__call__\u001b[0;34m(self, *args, **kwds)\u001b[0m\n\u001b[1;32m    826\u001b[0m     \u001b[0mtracing_count\u001b[0m \u001b[0;34m=\u001b[0m \u001b[0mself\u001b[0m\u001b[0;34m.\u001b[0m\u001b[0mexperimental_get_tracing_count\u001b[0m\u001b[0;34m(\u001b[0m\u001b[0;34m)\u001b[0m\u001b[0;34m\u001b[0m\u001b[0;34m\u001b[0m\u001b[0m\n\u001b[1;32m    827\u001b[0m     \u001b[0;32mwith\u001b[0m \u001b[0mtrace\u001b[0m\u001b[0;34m.\u001b[0m\u001b[0mTrace\u001b[0m\u001b[0;34m(\u001b[0m\u001b[0mself\u001b[0m\u001b[0;34m.\u001b[0m\u001b[0m_name\u001b[0m\u001b[0;34m)\u001b[0m \u001b[0;32mas\u001b[0m \u001b[0mtm\u001b[0m\u001b[0;34m:\u001b[0m\u001b[0;34m\u001b[0m\u001b[0;34m\u001b[0m\u001b[0m\n\u001b[0;32m--> 828\u001b[0;31m       \u001b[0mresult\u001b[0m \u001b[0;34m=\u001b[0m \u001b[0mself\u001b[0m\u001b[0;34m.\u001b[0m\u001b[0m_call\u001b[0m\u001b[0;34m(\u001b[0m\u001b[0;34m*\u001b[0m\u001b[0margs\u001b[0m\u001b[0;34m,\u001b[0m \u001b[0;34m**\u001b[0m\u001b[0mkwds\u001b[0m\u001b[0;34m)\u001b[0m\u001b[0;34m\u001b[0m\u001b[0;34m\u001b[0m\u001b[0m\n\u001b[0m\u001b[1;32m    829\u001b[0m       \u001b[0mcompiler\u001b[0m \u001b[0;34m=\u001b[0m \u001b[0;34m\"xla\"\u001b[0m \u001b[0;32mif\u001b[0m \u001b[0mself\u001b[0m\u001b[0;34m.\u001b[0m\u001b[0m_experimental_compile\u001b[0m \u001b[0;32melse\u001b[0m \u001b[0;34m\"nonXla\"\u001b[0m\u001b[0;34m\u001b[0m\u001b[0;34m\u001b[0m\u001b[0m\n\u001b[1;32m    830\u001b[0m       \u001b[0mnew_tracing_count\u001b[0m \u001b[0;34m=\u001b[0m \u001b[0mself\u001b[0m\u001b[0;34m.\u001b[0m\u001b[0mexperimental_get_tracing_count\u001b[0m\u001b[0;34m(\u001b[0m\u001b[0;34m)\u001b[0m\u001b[0;34m\u001b[0m\u001b[0;34m\u001b[0m\u001b[0m\n",
      "\u001b[0;32m~/opt/miniconda3/envs/py3/lib/python3.6/site-packages/tensorflow/python/eager/def_function.py\u001b[0m in \u001b[0;36m_call\u001b[0;34m(self, *args, **kwds)\u001b[0m\n\u001b[1;32m    853\u001b[0m       \u001b[0;31m# In this case we have created variables on the first call, so we run the\u001b[0m\u001b[0;34m\u001b[0m\u001b[0;34m\u001b[0m\u001b[0;34m\u001b[0m\u001b[0m\n\u001b[1;32m    854\u001b[0m       \u001b[0;31m# defunned version which is guaranteed to never create variables.\u001b[0m\u001b[0;34m\u001b[0m\u001b[0;34m\u001b[0m\u001b[0;34m\u001b[0m\u001b[0m\n\u001b[0;32m--> 855\u001b[0;31m       \u001b[0;32mreturn\u001b[0m \u001b[0mself\u001b[0m\u001b[0;34m.\u001b[0m\u001b[0m_stateless_fn\u001b[0m\u001b[0;34m(\u001b[0m\u001b[0;34m*\u001b[0m\u001b[0margs\u001b[0m\u001b[0;34m,\u001b[0m \u001b[0;34m**\u001b[0m\u001b[0mkwds\u001b[0m\u001b[0;34m)\u001b[0m  \u001b[0;31m# pylint: disable=not-callable\u001b[0m\u001b[0;34m\u001b[0m\u001b[0;34m\u001b[0m\u001b[0m\n\u001b[0m\u001b[1;32m    856\u001b[0m     \u001b[0;32melif\u001b[0m \u001b[0mself\u001b[0m\u001b[0;34m.\u001b[0m\u001b[0m_stateful_fn\u001b[0m \u001b[0;32mis\u001b[0m \u001b[0;32mnot\u001b[0m \u001b[0;32mNone\u001b[0m\u001b[0;34m:\u001b[0m\u001b[0;34m\u001b[0m\u001b[0;34m\u001b[0m\u001b[0m\n\u001b[1;32m    857\u001b[0m       \u001b[0;31m# Release the lock early so that multiple threads can perform the call\u001b[0m\u001b[0;34m\u001b[0m\u001b[0;34m\u001b[0m\u001b[0;34m\u001b[0m\u001b[0m\n",
      "\u001b[0;32m~/opt/miniconda3/envs/py3/lib/python3.6/site-packages/tensorflow/python/eager/function.py\u001b[0m in \u001b[0;36m__call__\u001b[0;34m(self, *args, **kwargs)\u001b[0m\n\u001b[1;32m   2941\u001b[0m        filtered_flat_args) = self._maybe_define_function(args, kwargs)\n\u001b[1;32m   2942\u001b[0m     return graph_function._call_flat(\n\u001b[0;32m-> 2943\u001b[0;31m         filtered_flat_args, captured_inputs=graph_function.captured_inputs)  # pylint: disable=protected-access\n\u001b[0m\u001b[1;32m   2944\u001b[0m \u001b[0;34m\u001b[0m\u001b[0m\n\u001b[1;32m   2945\u001b[0m   \u001b[0;34m@\u001b[0m\u001b[0mproperty\u001b[0m\u001b[0;34m\u001b[0m\u001b[0;34m\u001b[0m\u001b[0m\n",
      "\u001b[0;32m~/opt/miniconda3/envs/py3/lib/python3.6/site-packages/tensorflow/python/eager/function.py\u001b[0m in \u001b[0;36m_call_flat\u001b[0;34m(self, args, captured_inputs, cancellation_manager)\u001b[0m\n\u001b[1;32m   1917\u001b[0m       \u001b[0;31m# No tape is watching; skip to running the function.\u001b[0m\u001b[0;34m\u001b[0m\u001b[0;34m\u001b[0m\u001b[0;34m\u001b[0m\u001b[0m\n\u001b[1;32m   1918\u001b[0m       return self._build_call_outputs(self._inference_function.call(\n\u001b[0;32m-> 1919\u001b[0;31m           ctx, args, cancellation_manager=cancellation_manager))\n\u001b[0m\u001b[1;32m   1920\u001b[0m     forward_backward = self._select_forward_and_backward_functions(\n\u001b[1;32m   1921\u001b[0m         \u001b[0margs\u001b[0m\u001b[0;34m,\u001b[0m\u001b[0;34m\u001b[0m\u001b[0;34m\u001b[0m\u001b[0m\n",
      "\u001b[0;32m~/opt/miniconda3/envs/py3/lib/python3.6/site-packages/tensorflow/python/eager/function.py\u001b[0m in \u001b[0;36mcall\u001b[0;34m(self, ctx, args, cancellation_manager)\u001b[0m\n\u001b[1;32m    558\u001b[0m               \u001b[0minputs\u001b[0m\u001b[0;34m=\u001b[0m\u001b[0margs\u001b[0m\u001b[0;34m,\u001b[0m\u001b[0;34m\u001b[0m\u001b[0;34m\u001b[0m\u001b[0m\n\u001b[1;32m    559\u001b[0m               \u001b[0mattrs\u001b[0m\u001b[0;34m=\u001b[0m\u001b[0mattrs\u001b[0m\u001b[0;34m,\u001b[0m\u001b[0;34m\u001b[0m\u001b[0;34m\u001b[0m\u001b[0m\n\u001b[0;32m--> 560\u001b[0;31m               ctx=ctx)\n\u001b[0m\u001b[1;32m    561\u001b[0m         \u001b[0;32melse\u001b[0m\u001b[0;34m:\u001b[0m\u001b[0;34m\u001b[0m\u001b[0;34m\u001b[0m\u001b[0m\n\u001b[1;32m    562\u001b[0m           outputs = execute.execute_with_cancellation(\n",
      "\u001b[0;32m~/opt/miniconda3/envs/py3/lib/python3.6/site-packages/tensorflow/python/eager/execute.py\u001b[0m in \u001b[0;36mquick_execute\u001b[0;34m(op_name, num_outputs, inputs, attrs, ctx, name)\u001b[0m\n\u001b[1;32m     58\u001b[0m     \u001b[0mctx\u001b[0m\u001b[0;34m.\u001b[0m\u001b[0mensure_initialized\u001b[0m\u001b[0;34m(\u001b[0m\u001b[0;34m)\u001b[0m\u001b[0;34m\u001b[0m\u001b[0;34m\u001b[0m\u001b[0m\n\u001b[1;32m     59\u001b[0m     tensors = pywrap_tfe.TFE_Py_Execute(ctx._handle, device_name, op_name,\n\u001b[0;32m---> 60\u001b[0;31m                                         inputs, attrs, num_outputs)\n\u001b[0m\u001b[1;32m     61\u001b[0m   \u001b[0;32mexcept\u001b[0m \u001b[0mcore\u001b[0m\u001b[0;34m.\u001b[0m\u001b[0m_NotOkStatusException\u001b[0m \u001b[0;32mas\u001b[0m \u001b[0me\u001b[0m\u001b[0;34m:\u001b[0m\u001b[0;34m\u001b[0m\u001b[0;34m\u001b[0m\u001b[0m\n\u001b[1;32m     62\u001b[0m     \u001b[0;32mif\u001b[0m \u001b[0mname\u001b[0m \u001b[0;32mis\u001b[0m \u001b[0;32mnot\u001b[0m \u001b[0;32mNone\u001b[0m\u001b[0;34m:\u001b[0m\u001b[0;34m\u001b[0m\u001b[0;34m\u001b[0m\u001b[0m\n",
      "\u001b[0;31mKeyboardInterrupt\u001b[0m: "
     ]
    }
   ],
   "source": [
    "#model.summary()\n",
    "import tensorflow as tf\n",
    "\n",
    "\n",
    "use_regular = False #@param {type:\"boolean\"}\n",
    "\n",
    "checkpoint = tf.keras.callbacks.ModelCheckpoint(model_path, monitor='val_loss',\n",
    "                             verbose=1,\n",
    "                             save_best_only=True,\n",
    "                             load_weights_on_restart=True)\n",
    "\n",
    "callbacks_list = []\n",
    "\n",
    "epochs = 50\n",
    "\n",
    "if (use_regular):\n",
    "    print(\"Training on: {} val {}\".format(len(y_train), len(y_val)))\n",
    "    history = model.fit(\n",
    "        x=x_train,\n",
    "        y=y_train,\n",
    "        validation_data=(x_val, y_val),\n",
    "        epochs=epochs,\n",
    "        batch_size=batch_size,\n",
    "        verbose=1,\n",
    "        callbacks=callbacks_list\n",
    "    )\n",
    "else:\n",
    "    print(\"Training on: {} val {}\".format(len(train_generator)*batch_size, len(val_generator)))\n",
    "    history = model.fit(\n",
    "        x=train_generator,\n",
    "        validation_data = val_generator,\n",
    "        #steps_per_epoch = len(train_generator),\n",
    "        epochs=epochs,\n",
    "        verbose=1,\n",
    "        callbacks=callbacks_list\n",
    "    )\n"
   ]
  },
  {
   "cell_type": "code",
   "execution_count": null,
   "metadata": {},
   "outputs": [],
   "source": [
    "def show_loss(history): \n",
    "    plt.plot(history.history['loss'])\n",
    "    if (history.history['val_loss']):\n",
    "        plt.plot(history.history['val_loss'])\n",
    "    plt.title('model loss')\n",
    "    plt.ylabel('loss')\n",
    "    plt.xlabel('epoch')\n",
    "    plt.legend(['train', 'test'], loc='upper left')\n",
    "    plt.show()\n",
    "\n",
    "show_loss(history)"
   ]
  },
  {
   "cell_type": "code",
   "execution_count": null,
   "metadata": {},
   "outputs": [],
   "source": [
    "def show_accuracy(history):\n",
    "    plt.plot(history.history['accuracy'])\n",
    "    if (history.history['val_accuracy']):\n",
    "        plt.plot(history.history['val_accuracy'])\n",
    "    plt.title('accuracy')\n",
    "    plt.ylabel('accuracy')\n",
    "    plt.xlabel('epoch')\n",
    "    plt.legend(['train', 'test'], loc='upper left')\n",
    "    plt.show()\n",
    "\n",
    "show_accuracy(history)"
   ]
  },
  {
   "cell_type": "code",
   "execution_count": null,
   "metadata": {},
   "outputs": [],
   "source": [
    "\n",
    "\n",
    "#model_loaded = load_model(filepath = filepath_encoder)\n",
    "model_loaded = model\n",
    "\n",
    "to_int = np.vectorize(lambda x: int(round(x)))"
   ]
  },
  {
   "cell_type": "code",
   "execution_count": 35,
   "metadata": {},
   "outputs": [
    {
     "name": "stdout",
     "output_type": "stream",
     "text": [
      "(37, 21)\n",
      "(735, 21)\n"
     ]
    }
   ],
   "source": [
    "posX_, posY_ = get_gen(valX, valY, shuffle=True, batch_size=2000, time_steps = seqs)[0]\n",
    "\n",
    "print(positiveX.shape)\n",
    "print(negativeX.shape)\n"
   ]
  },
  {
   "cell_type": "code",
   "execution_count": 36,
   "metadata": {},
   "outputs": [
    {
     "data": {
      "text/plain": [
       "array([[0.52532625],\n",
       "       [0.4931125 ],\n",
       "       [0.56294477],\n",
       "       ...,\n",
       "       [0.5240735 ],\n",
       "       [0.49755993],\n",
       "       [0.52340907]], dtype=float32)"
      ]
     },
     "execution_count": 36,
     "metadata": {},
     "output_type": "execute_result"
    }
   ],
   "source": [
    "model_loaded.predict(posX_)"
   ]
  },
  {
   "cell_type": "code",
   "execution_count": null,
   "metadata": {},
   "outputs": [],
   "source": [
    "pos_final = to_int(model_loaded.predict(posX_))\n",
    "neg_final = to_int(model_loaded.predict(negX_))\n",
    "\n",
    "\n",
    "pos_final"
   ]
  },
  {
   "cell_type": "code",
   "execution_count": null,
   "metadata": {},
   "outputs": [],
   "source": [
    "model_loaded.evaluate(val_generator)"
   ]
  },
  {
   "cell_type": "code",
   "execution_count": null,
   "metadata": {},
   "outputs": [],
   "source": [
    "def check(list):\n",
    "    pos_count = 0\n",
    "    neg_count = 0\n",
    "    for x in list:\n",
    "        if (x == 1):\n",
    "            pos_count += 1\n",
    "        else:\n",
    "            neg_count += 1\n",
    "    print(\"Pos: {} Neg {}\".format(pos_count, neg_count))"
   ]
  },
  {
   "cell_type": "code",
   "execution_count": null,
   "metadata": {},
   "outputs": [],
   "source": [
    "print(\"Pos\")\n",
    "check(pos_final)\n",
    "print(\"Neg\")\n",
    "check(neg_final)\n"
   ]
  },
  {
   "cell_type": "code",
   "execution_count": null,
   "metadata": {},
   "outputs": [],
   "source": [
    "model_loaded.predict(posX_)[:10]"
   ]
  },
  {
   "cell_type": "code",
   "execution_count": null,
   "metadata": {},
   "outputs": [],
   "source": [
    "model_loaded.predict(negX_)[:10]"
   ]
  },
  {
   "cell_type": "code",
   "execution_count": null,
   "metadata": {},
   "outputs": [],
   "source": [
    "model_loaded = model\n",
    "valX, valY, positiveX_, positiveY_, negativeX_, negativeY_ = load_data(\"btcusd\", \"Val\", path, False)\n",
    "model_loaded.evaluate(get_gen(valX, valY, shuffle=False, time_steps = seqs)) \n",
    "\n",
    "valX, valY, positiveX_, positiveY_, negativeX_, negativeY_ = load_data(\"ethusd\", \"Val\", path, False)\n",
    "model_loaded.evaluate(get_gen(valX, valY, shuffle=False, time_steps = seqs)) \n",
    "\n",
    "valX, valY, positiveX_, positiveY_, negativeX_, negativeY_ = load_data(\"btcusd17\", \"Val\", path, False)\n",
    "model_loaded.evaluate(get_gen(valX, valY, shuffle=False, time_steps = seqs)) \n",
    "\n",
    "valX, valY, positiveX_, positiveY_, negativeX_, negativeY_ = load_data(\"btcusdAug19\", \"Val\", path, False)\n",
    "model_loaded.evaluate(get_gen(valX, valY, shuffle=False, time_steps = seqs)) \n"
   ]
  },
  {
   "cell_type": "code",
   "execution_count": null,
   "metadata": {},
   "outputs": [],
   "source": [
    "X = list()\n",
    "Y = list()\n",
    "X = [x+1 for x in range(200)]\n",
    "Y = [y for y in X]"
   ]
  },
  {
   "cell_type": "code",
   "execution_count": null,
   "metadata": {},
   "outputs": [],
   "source": [
    "generator = get_gen(X, Y, shuffle=True, batch_size=20)\n",
    "\n",
    "x, y = create_dataset(X, Y, seqs)\n",
    "\n",
    "index = 100"
   ]
  },
  {
   "cell_type": "code",
   "execution_count": 11,
   "metadata": {},
   "outputs": [],
   "source": [
    "#Model \n",
    "\n",
    "from tensorflow.keras.layers import BatchNormalization, GlobalMaxPool1D, Bidirectional, Dense, Flatten, Conv2D, LeakyReLU, Dropout, LSTM, GRU, Input\n",
    "from tensorflow.keras import Model, Sequential\n",
    "from tensorflow.keras import datasets, layers, models\n",
    "\n",
    "import tensorflow as tf\n",
    "\n",
    "dim = 600\n",
    "\n",
    "def add_deep_layers(input_layer, units = dim):\n",
    "    x = Dense(units)(input_layer)\n",
    "    x = BatchNormalization()(x)\n",
    "    x = Dropout(0.2)(x)\n",
    "    x = Dense(units, activation='tanh')(x)\n",
    "    x = Dropout(0.2)(x)\n",
    "    x = Dense(units, activation='swish')(x)\n",
    "    return x\n",
    "\n",
    "def get_model(seqs, features):\n",
    "    reset_seed()\n",
    "    inputX = Input(shape=(\n",
    "        seqs,\n",
    "        features\n",
    "        )\n",
    "    )\n",
    "    x = inputX\n",
    "    x = LSTM(units=dim, return_sequences=True)(x)\n",
    "    x = add_deep_layers(x, dim)\n",
    "    x = LSTM(dim, return_sequences=False)(x)\n",
    "    x = add_deep_layers(x, dim)\n",
    "    x = add_deep_layers(x, dim)\n",
    "    x = add_deep_layers(x, dim)\n",
    "    x = add_deep_layers(x, dim)\n",
    "    x = add_deep_layers(x, 20)\n",
    "    x = Dense(10)(x)\n",
    "    x = Dense(1, activation='sigmoid')(x)\n",
    "\n",
    "    model = Model(inputs=[inputX], outputs=x)\n",
    "    \n",
    "    return model\n",
    "\n",
    "    \n",
    "def load_model(filepath = \"stock.h5\"):\n",
    "    model_loaded = tf.keras.models.load_model(filepath)\n",
    "    return model_loaded"
   ]
  },
  {
   "cell_type": "code",
   "execution_count": null,
   "metadata": {},
   "outputs": [],
   "source": [
    "def add_deep_layers_custom(input_layer, drop, units):\n",
    "    x = BatchNormalization()(input_layer)\n",
    "    x = Dropout(drop)(x)\n",
    "    x = Dense(units, activation='tanh')(x)\n",
    "    x = Dropout(drop)(x)\n",
    "    x = Dense(units, activation='swish')(x)\n",
    "    return x\n",
    "\n",
    "\n",
    "def get_model_h(seqs, features):\n",
    "    reset_seed()\n",
    "    inputX = Input(shape=(\n",
    "        seqs,\n",
    "        features\n",
    "        )\n",
    "    )\n",
    "    x = Dense(dim)(inputX)\n",
    "    x = BatchNormalization()(x)\n",
    "    x = LSTM(units=dim, return_sequences=True)(x)\n",
    "    for lay in range(int(lays_seq)):\n",
    "        x = add_deep_layers(x, dropout, dim)\n",
    "    x = LSTM(dim, return_sequences=False)(x)\n",
    "    \n",
    "    for lay in range(int(lays)):\n",
    "        x = add_deep_layers(x, dropout, dim)\n",
    "    \n",
    "    x = add_deep_layers(x, dropout, dim)\n",
    "    x = Dense(10)(x)\n",
    "    x = Dense(1, activation='sigmoid')(x)\n",
    "\n",
    "    model = Model(inputs=[inputX], outputs=x)\n",
    "    \n",
    "    return model\n",
    "    "
   ]
  },
  {
   "cell_type": "code",
   "execution_count": 12,
   "metadata": {
    "scrolled": true
   },
   "outputs": [
    {
     "name": "stdout",
     "output_type": "stream",
     "text": [
      "Model: \"model_2\"\n",
      "_________________________________________________________________\n",
      "Layer (type)                 Output Shape              Param #   \n",
      "=================================================================\n",
      "input_3 (InputLayer)         [(None, 30, 21)]          0         \n",
      "_________________________________________________________________\n",
      "lstm_4 (LSTM)                (None, 30, 600)           1492800   \n",
      "_________________________________________________________________\n",
      "dense_40 (Dense)             (None, 30, 600)           360600    \n",
      "_________________________________________________________________\n",
      "batch_normalization_12 (Batc (None, 30, 600)           2400      \n",
      "_________________________________________________________________\n",
      "dropout_24 (Dropout)         (None, 30, 600)           0         \n",
      "_________________________________________________________________\n",
      "dense_41 (Dense)             (None, 30, 600)           360600    \n",
      "_________________________________________________________________\n",
      "dropout_25 (Dropout)         (None, 30, 600)           0         \n",
      "_________________________________________________________________\n",
      "dense_42 (Dense)             (None, 30, 600)           360600    \n",
      "_________________________________________________________________\n",
      "lstm_5 (LSTM)                (None, 600)               2882400   \n",
      "_________________________________________________________________\n",
      "dense_43 (Dense)             (None, 600)               360600    \n",
      "_________________________________________________________________\n",
      "batch_normalization_13 (Batc (None, 600)               2400      \n",
      "_________________________________________________________________\n",
      "dropout_26 (Dropout)         (None, 600)               0         \n",
      "_________________________________________________________________\n",
      "dense_44 (Dense)             (None, 600)               360600    \n",
      "_________________________________________________________________\n",
      "dropout_27 (Dropout)         (None, 600)               0         \n",
      "_________________________________________________________________\n",
      "dense_45 (Dense)             (None, 600)               360600    \n",
      "_________________________________________________________________\n",
      "dense_46 (Dense)             (None, 600)               360600    \n",
      "_________________________________________________________________\n",
      "batch_normalization_14 (Batc (None, 600)               2400      \n",
      "_________________________________________________________________\n",
      "dropout_28 (Dropout)         (None, 600)               0         \n",
      "_________________________________________________________________\n",
      "dense_47 (Dense)             (None, 600)               360600    \n",
      "_________________________________________________________________\n",
      "dropout_29 (Dropout)         (None, 600)               0         \n",
      "_________________________________________________________________\n",
      "dense_48 (Dense)             (None, 600)               360600    \n",
      "_________________________________________________________________\n",
      "dense_49 (Dense)             (None, 600)               360600    \n",
      "_________________________________________________________________\n",
      "batch_normalization_15 (Batc (None, 600)               2400      \n",
      "_________________________________________________________________\n",
      "dropout_30 (Dropout)         (None, 600)               0         \n",
      "_________________________________________________________________\n",
      "dense_50 (Dense)             (None, 600)               360600    \n",
      "_________________________________________________________________\n",
      "dropout_31 (Dropout)         (None, 600)               0         \n",
      "_________________________________________________________________\n",
      "dense_51 (Dense)             (None, 600)               360600    \n",
      "_________________________________________________________________\n",
      "dense_52 (Dense)             (None, 600)               360600    \n",
      "_________________________________________________________________\n",
      "batch_normalization_16 (Batc (None, 600)               2400      \n",
      "_________________________________________________________________\n",
      "dropout_32 (Dropout)         (None, 600)               0         \n",
      "_________________________________________________________________\n",
      "dense_53 (Dense)             (None, 600)               360600    \n",
      "_________________________________________________________________\n",
      "dropout_33 (Dropout)         (None, 600)               0         \n",
      "_________________________________________________________________\n",
      "dense_54 (Dense)             (None, 600)               360600    \n",
      "_________________________________________________________________\n",
      "dense_55 (Dense)             (None, 20)                12020     \n",
      "_________________________________________________________________\n",
      "batch_normalization_17 (Batc (None, 20)                80        \n",
      "_________________________________________________________________\n",
      "dropout_34 (Dropout)         (None, 20)                0         \n",
      "_________________________________________________________________\n",
      "dense_56 (Dense)             (None, 20)                420       \n",
      "_________________________________________________________________\n",
      "dropout_35 (Dropout)         (None, 20)                0         \n",
      "_________________________________________________________________\n",
      "dense_57 (Dense)             (None, 20)                420       \n",
      "_________________________________________________________________\n",
      "dense_58 (Dense)             (None, 10)                210       \n",
      "_________________________________________________________________\n",
      "dense_59 (Dense)             (None, 1)                 11        \n",
      "=================================================================\n",
      "Total params: 9,809,361\n",
      "Trainable params: 9,803,321\n",
      "Non-trainable params: 6,040\n",
      "_________________________________________________________________\n"
     ]
    }
   ],
   "source": [
    "\n",
    "\n",
    "#model = load_model(filepath = \"drive/My Drive/model/stock.h5\")\n",
    "\n",
    "#!rm \"drive/My Drive/model/encoder.h5\"\n",
    "\n",
    "model = get_model(seqs, features)\n",
    "\n",
    "model.compile(\n",
    "    optimizer=tf.keras.optimizers.Adadelta(learning_rate=0.001, rho=0.95, epsilon=1e-07),\n",
    "    loss='binary_crossentropy',\n",
    "    metrics=['accuracy']\n",
    ")\n",
    "\n",
    "model.summary()\n"
   ]
  },
  {
   "cell_type": "code",
   "execution_count": null,
   "metadata": {},
   "outputs": [],
   "source": [
    "!rm \"stock.h5\""
   ]
  },
  {
   "cell_type": "code",
   "execution_count": null,
   "metadata": {},
   "outputs": [],
   "source": []
  }
 ],
 "metadata": {
  "kernelspec": {
   "display_name": "Python 3",
   "language": "python",
   "name": "python3"
  },
  "language_info": {
   "codemirror_mode": {
    "name": "ipython",
    "version": 3
   },
   "file_extension": ".py",
   "mimetype": "text/x-python",
   "name": "python",
   "nbconvert_exporter": "python",
   "pygments_lexer": "ipython3",
   "version": "3.6.13"
  }
 },
 "nbformat": 4,
 "nbformat_minor": 4
}
