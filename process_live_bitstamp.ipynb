{
 "cells": [
  {
   "cell_type": "code",
   "execution_count": 3,
   "id": "permanent-consensus",
   "metadata": {
    "scrolled": true
   },
   "outputs": [],
   "source": [
    "import json\n",
    "import websocket\n",
    "from numpy import array\n",
    "from tqdm import tqdm_notebook as tqdm\n",
    "from bitstamp import *\n",
    "import os\n",
    "from joblib import dump, load\n",
    "\n",
    "from stock_agent import *\n",
    "\n",
    "\n",
    "import json\n",
    "import io\n"
   ]
  },
  {
   "cell_type": "code",
   "execution_count": 4,
   "id": "15f90f86",
   "metadata": {},
   "outputs": [],
   "source": [
    "def load_online(minutes, window, val_end = 1626388860):\n",
    "    tec = TecAn(windows = window, windows_limit = 100)\n",
    "    sourceDataGenerator = SourceDataGenerator(tec = tec)\n",
    "\n",
    "\n",
    "    online = OnLineDataProvider(\n",
    "                 sourceDataGenerator = sourceDataGenerator,\n",
    "                 minutes = minutes,\n",
    "                 train_keys = [\"btcusd\"],\n",
    "                 train_limit = 40,\n",
    "                 val_limit = 400,\n",
    "                 val_keys = [\"btcusd\"],\n",
    "                 #val_start = val_start,\n",
    "                 val_end = val_end,\n",
    "                 train_start_list = [1626386301]\n",
    "    )\n",
    "\n",
    "    online.load_cache()\n",
    "    return online"
   ]
  },
  {
   "cell_type": "code",
   "execution_count": 5,
   "id": "5bdf9e39",
   "metadata": {},
   "outputs": [],
   "source": [
    "\n",
    "model = load('model/min-3-window-20')"
   ]
  },
  {
   "cell_type": "code",
   "execution_count": 1,
   "id": "99d9d232",
   "metadata": {},
   "outputs": [
    {
     "ename": "NameError",
     "evalue": "name 'BackTest' is not defined",
     "output_type": "error",
     "traceback": [
      "\u001b[0;31m---------------------------------------------------------------------------\u001b[0m",
      "\u001b[0;31mNameError\u001b[0m                                 Traceback (most recent call last)",
      "\u001b[0;32m<ipython-input-1-0481b3903ee0>\u001b[0m in \u001b[0;36m<module>\u001b[0;34m\u001b[0m\n\u001b[0;32m----> 1\u001b[0;31m back = BackTest(value = 100, \n\u001b[0m\u001b[1;32m      2\u001b[0m                     \u001b[0mverbose\u001b[0m \u001b[0;34m=\u001b[0m \u001b[0;32mTrue\u001b[0m\u001b[0;34m,\u001b[0m\u001b[0;34m\u001b[0m\u001b[0;34m\u001b[0m\u001b[0m\n\u001b[1;32m      3\u001b[0m                     \u001b[0msell_on_profit\u001b[0m \u001b[0;34m=\u001b[0m \u001b[0;32mTrue\u001b[0m\u001b[0;34m,\u001b[0m\u001b[0;34m\u001b[0m\u001b[0;34m\u001b[0m\u001b[0m\n\u001b[1;32m      4\u001b[0m                     pending_sell_steps = 1)\n\u001b[1;32m      5\u001b[0m \u001b[0;34m\u001b[0m\u001b[0m\n",
      "\u001b[0;31mNameError\u001b[0m: name 'BackTest' is not defined"
     ]
    }
   ],
   "source": [
    "back = BackTest(value = 100, \n",
    "                    verbose = True, \n",
    "                    sell_on_profit = True,\n",
    "                    pending_sell_steps = 1)\n",
    "\n",
    "\n",
    "request_sell = lambda price: back.request_sell(price)\n",
    "request_buy = lambda price: back.request_buy(price)\n",
    "on_state = lambda timestamp, price: back.on_state(timestamp, price)\n",
    "\n",
    "stock = StockAgent(\n",
    "    model = model,\n",
    "    request_sell = request_sell,\n",
    "    request_buy = request_buy,\n",
    "    on_state = on_state\n",
    ")\n"
   ]
  },
  {
   "cell_type": "code",
   "execution_count": 4,
   "id": "33c10cf6",
   "metadata": {},
   "outputs": [
    {
     "name": "stdout",
     "output_type": "stream",
     "text": [
      "Resample 2Min - TecAn ( windows 20, windows_limit 100 )\n"
     ]
    }
   ],
   "source": [
    "on_new_data = lambda x: print(x)\n",
    "on_new_data = lambda x: stock.on_x(x)\n",
    "\n",
    "on_state = lambda timestamp, price, buy, sell: print(\"{} {} {} {}\".format(timestamp, price, buy, sell))\n",
    "on_state = lambda timestamp, price, buy, sell: stock.on_new_state(timestamp, price, buy, sell)\n",
    "\n",
    "agent = DataAgent(\n",
    "    on_state = on_state,\n",
    "    on_new_data = on_new_data\n",
    ")\n",
    "\n",
    "TIMESTAMP_KEY = \"timestamp\"\n",
    "\n",
    "raw_data_live = []\n",
    "\n",
    "\n",
    "class RawStateDownloader(LiveBitstamp):\n",
    "    \n",
    "    def __init__(self, on_raw_data = lambda raw: print(raw)):\n",
    "        self.trade = {}\n",
    "        self.on_new_data_count = 0\n",
    "        self.on_raw_data = on_raw_data\n",
    "                \n",
    "    def process(self, raw):\n",
    "        raw_data_live.append(raw)\n",
    "        self.on_raw_data(raw)\n",
    "        timestamp = raw[TIMESTAMP_KEY]\n",
    "        time = pd.to_datetime(timestamp, unit='s')\n",
    "        #print(f'{time}: {agent.on_new_data_count} {len(raw_data_live)}')\n",
    "        "
   ]
  },
  {
   "cell_type": "code",
   "execution_count": 5,
   "id": "96da26f3",
   "metadata": {},
   "outputs": [],
   "source": [
    "\n",
    "on_raw_data = lambda raw: agent.on_new_raw_data(raw)\n",
    "\n",
    "\n",
    "live = RawStateDownloader(on_raw_data = on_raw_data)\n"
   ]
  },
  {
   "cell_type": "code",
   "execution_count": 6,
   "id": "blind-meditation",
   "metadata": {
    "scrolled": true
   },
   "outputs": [
    {
     "name": "stdout",
     "output_type": "stream",
     "text": [
      "Bitstamp Websocket Opened.\n",
      "Reading form live_trades_btcusd and order_book_btcusd\n",
      "2021-07-06 08:44:07 Buy (34852.51): ask: 34852.51\n",
      "2021-07-06 08:46:09 Sell (34885.53) 33.0199999999968 total: 100.09474210035374\n",
      "2021-07-06 09:02:05 Buy (34911.99): ask: 34911.99\n",
      "2021-07-06 09:10:06 Sell (34935.67) 23.68000000000029 total: 100.16256980080851\n",
      "2021-07-06 09:12:07 Buy (34736.16): ask: 34736.16\n",
      "\n",
      "Bitstamp Websocket Closed.\n"
     ]
    }
   ],
   "source": [
    "back.reset()\n",
    "\n",
    "bt = Bitstamp(live, currency = \"btcusd\")\n",
    "\n",
    "bt.connect()"
   ]
  },
  {
   "cell_type": "code",
   "execution_count": 7,
   "id": "9c5656f5",
   "metadata": {},
   "outputs": [
    {
     "name": "stdout",
     "output_type": "stream",
     "text": [
      "100\n",
      "0.16256980080851235\n",
      "0.16256980080851235\n"
     ]
    }
   ],
   "source": [
    "back.report()"
   ]
  },
  {
   "cell_type": "code",
   "execution_count": null,
   "id": "8c1b7271",
   "metadata": {},
   "outputs": [],
   "source": []
  }
 ],
 "metadata": {
  "kernelspec": {
   "display_name": "Python 3",
   "language": "python",
   "name": "python3"
  },
  "language_info": {
   "codemirror_mode": {
    "name": "ipython",
    "version": 3
   },
   "file_extension": ".py",
   "mimetype": "text/x-python",
   "name": "python",
   "nbconvert_exporter": "python",
   "pygments_lexer": "ipython3",
   "version": "3.9.5"
  }
 },
 "nbformat": 4,
 "nbformat_minor": 5
}
