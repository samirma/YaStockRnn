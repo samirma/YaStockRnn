{
 "cells": [
  {
   "cell_type": "code",
   "execution_count": 1,
   "metadata": {
    "colab": {
     "base_uri": "https://localhost:8080/",
     "height": 170
    },
    "colab_type": "code",
    "executionInfo": {
     "elapsed": 503083,
     "status": "ok",
     "timestamp": 1568068274112,
     "user": {
      "displayName": "Samir Moreira Antônio",
      "photoUrl": "https://lh3.googleusercontent.com/a-/AAuE7mCsh3ldsSLN0VnFRYp341EzO_UyuRNKmLncUbMA3Q=s64",
      "userId": "14581632111443153742"
     },
     "user_tz": -60
    },
    "id": "fGVQczSlF-9o",
    "outputId": "e3a06798-f737-48d9-ec6e-d3784cec3115"
   },
   "outputs": [],
   "source": [
    "import pandas as pd\n",
    "import data_util\n",
    "from tqdm import tqdm_notebook as tqdm\n",
    "from data_generator import DataGenerator\n",
    "from state_util import StateUtil\n",
    "from tec_an import TecAn\n",
    "import numpy as np\n"
   ]
  },
  {
   "cell_type": "code",
   "execution_count": 2,
   "metadata": {},
   "outputs": [],
   "source": [
    "def get_tecs(raw_dir = \"stock_data/\"):\n",
    "    data_gen = DataGenerator(random=False, base_dir = raw_dir)\n",
    "    data_gen.rewind()\n",
    "    stateUtil = StateUtil(data_gen)\n",
    "    data = []\n",
    "    data_count = data_gen.max_steps()\n",
    "    tec = TecAn()\n",
    "    for i in tqdm(range(data_count)):\n",
    "        states = data_gen.next()\n",
    "        for raw in states:\n",
    "            price = raw[stateUtil.PRICE_KEY]\n",
    "            amount = raw[stateUtil.AMOUNT_KEY]\n",
    "            data.append([price, amount])\n",
    "\n",
    "\n",
    "    def calcule_tecs():\n",
    "        tecs = []\n",
    "        df = pd.DataFrame(data, columns = ['Close', 'Volume'])\n",
    "        close = df['Close']\n",
    "        volume = df['Volume']\n",
    "        import math\n",
    "        for ta in tec.tas:\n",
    "            value = ta(close, volume, 0.0, 0.0)\n",
    "            tecs.append(value)\n",
    "        return tecs\n",
    "    \n",
    "    return calcule_tecs()\n"
   ]
  },
  {
   "cell_type": "code",
   "execution_count": 3,
   "metadata": {},
   "outputs": [
    {
     "data": {
      "application/vnd.jupyter.widget-view+json": {
       "model_id": "9afb645e158843b0a507e1122377b88f",
       "version_major": 2,
       "version_minor": 0
      },
      "text/plain": [
       "HBox(children=(IntProgress(value=0, max=888156), HTML(value='')))"
      ]
     },
     "metadata": {},
     "output_type": "display_data"
    },
    {
     "name": "stdout",
     "output_type": "stream",
     "text": [
      "\n"
     ]
    }
   ],
   "source": [
    "result = get_tecs()"
   ]
  },
  {
   "cell_type": "code",
   "execution_count": 4,
   "metadata": {},
   "outputs": [],
   "source": [
    "def add_tacs(list, index):\n",
    "    for tec in result:\n",
    "        list.append(tec.iloc[index])\n",
    "    return list"
   ]
  },
  {
   "cell_type": "code",
   "execution_count": 5,
   "metadata": {},
   "outputs": [],
   "source": [
    "parsed = lambda list, price, amount, index: add_tacs(list, index)"
   ]
  },
  {
   "cell_type": "code",
   "execution_count": 6,
   "metadata": {
    "colab": {
     "base_uri": "https://localhost:8080/",
     "height": 969
    },
    "colab_type": "code",
    "executionInfo": {
     "elapsed": 687284,
     "status": "ok",
     "timestamp": 1568068979529,
     "user": {
      "displayName": "Samir Moreira Antônio",
      "photoUrl": "https://lh3.googleusercontent.com/a-/AAuE7mCsh3ldsSLN0VnFRYp341EzO_UyuRNKmLncUbMA3Q=s64",
      "userId": "14581632111443153742"
     },
     "user_tz": -60
    },
    "id": "eO4im0aG2zql",
    "outputId": "e3d3b69a-c7ce-4779-c6e3-673b4bd7ba9a",
    "scrolled": true
   },
   "outputs": [
    {
     "name": "stdout",
     "output_type": "stream",
     "text": [
      "Loading 886156 from dir stock_data/\n"
     ]
    },
    {
     "data": {
      "application/vnd.jupyter.widget-view+json": {
       "model_id": "ac1e77252fa74137920613968409c6b5",
       "version_major": 2,
       "version_minor": 0
      },
      "text/plain": [
       "HBox(children=(IntProgress(value=0, max=883497), HTML(value='')))"
      ]
     },
     "metadata": {},
     "output_type": "display_data"
    },
    {
     "name": "stdout",
     "output_type": "stream",
     "text": [
      "\n"
     ]
    },
    {
     "data": {
      "application/vnd.jupyter.widget-view+json": {
       "model_id": "7d5f6d2d68774204ad561c92836bd940",
       "version_major": 2,
       "version_minor": 0
      },
      "text/plain": [
       "HBox(children=(IntProgress(value=0, max=2658), HTML(value='')))"
      ]
     },
     "metadata": {},
     "output_type": "display_data"
    },
    {
     "name": "stdout",
     "output_type": "stream",
     "text": [
      "\n",
      "(883497, 33)\n",
      "(883497,)\n",
      "(2658, 33)\n",
      "(2658,)\n"
     ]
    }
   ],
   "source": [
    "path = \"./\" \n",
    "\n",
    "import data_util\n",
    "from data_generator import DataGenerator\n",
    "\n",
    "def load_datasets(dirs):\n",
    "  sets = []  \n",
    "  for raw_dir in dirs:\n",
    "    data_gen = DataGenerator(random=False, first_index=10, base_dir = raw_dir)\n",
    "    data_gen.rewind()\n",
    "    full = data_gen.steps - 2000\n",
    "    print(\"Loading {} from dir {}\".format(full, raw_dir))\n",
    "    sets.append(data_util.get_sets(data_gen, full, val_percentage = 0.003, path = path, use_cache=False, on_state_parsed = parsed))\n",
    "  return sets\n",
    "\n",
    "def conc_sets(sets):\n",
    "  trainX = sets[0][0]\n",
    "  trainY = sets[0][1]\n",
    "  valX = sets[0][2]\n",
    "  valY = sets[0][3]\n",
    "  for i in range(1,  len(sets)):\n",
    "    data_set = sets[i]\n",
    "    trainX = np.append(data_set[0], trainX, axis = 0)\n",
    "    trainY = np.append(data_set[1], trainY, axis = 0)\n",
    "    valX = np.append(data_set[2], valX, axis = 0)\n",
    "    valY = np.append(data_set[3], valY, axis = 0)\n",
    "  return trainX, trainY, valX, valY\n",
    "\n",
    "sets = load_datasets([\"stock_data/\"])\n",
    "trainX, trainY, valX, valY = conc_sets(sets)\n",
    "np.save(path + \"train\" + \"X.npy\", trainX)\n",
    "np.save(path + \"train\" + \"Y.npy\", trainY)\n",
    "np.save(path + \"val\" + \"X.npy\", valX)\n",
    "np.save(path + \"val\" + \"Y.npy\", valY)\n",
    "\n"
   ]
  },
  {
   "cell_type": "code",
   "execution_count": null,
   "metadata": {},
   "outputs": [],
   "source": [
    "next = data_gen.next()"
   ]
  },
  {
   "cell_type": "code",
   "execution_count": 13,
   "metadata": {},
   "outputs": [
    {
     "data": {
      "text/plain": [
       "array([ 1.28085704e+00,  1.00000000e+00,  9.40000000e+01,  0.00000000e+00,\n",
       "        9.25270572e-03,  5.60559789e-02,  0.00000000e+00,  0.00000000e+00,\n",
       "        3.88625900e-01,  2.24289525e-01, -8.15525325e-01,  3.62931304e+00,\n",
       "        1.19209233e-05])"
      ]
     },
     "execution_count": 13,
     "metadata": {},
     "output_type": "execute_result"
    }
   ],
   "source": [
    "valX[-1][20:]"
   ]
  },
  {
   "cell_type": "code",
   "execution_count": null,
   "metadata": {},
   "outputs": [],
   "source": []
  }
 ],
 "metadata": {
  "accelerator": "GPU",
  "colab": {
   "collapsed_sections": [],
   "name": "enviroment",
   "provenance": [],
   "version": "0.3.2"
  },
  "kernelspec": {
   "display_name": "Python 3",
   "language": "python",
   "name": "python3"
  },
  "language_info": {
   "codemirror_mode": {
    "name": "ipython",
    "version": 3
   },
   "file_extension": ".py",
   "mimetype": "text/x-python",
   "name": "python",
   "nbconvert_exporter": "python",
   "pygments_lexer": "ipython3",
   "version": "3.7.10"
  }
 },
 "nbformat": 4,
 "nbformat_minor": 1
}
