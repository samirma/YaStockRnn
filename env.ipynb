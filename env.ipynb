{
 "cells": [
  {
   "cell_type": "code",
   "execution_count": 15,
   "metadata": {
    "colab": {
     "base_uri": "https://localhost:8080/",
     "height": 170
    },
    "colab_type": "code",
    "executionInfo": {
     "elapsed": 503083,
     "status": "ok",
     "timestamp": 1568068274112,
     "user": {
      "displayName": "Samir Moreira Antônio",
      "photoUrl": "https://lh3.googleusercontent.com/a-/AAuE7mCsh3ldsSLN0VnFRYp341EzO_UyuRNKmLncUbMA3Q=s64",
      "userId": "14581632111443153742"
     },
     "user_tz": -60
    },
    "id": "fGVQczSlF-9o",
    "outputId": "e3a06798-f737-48d9-ec6e-d3784cec3115"
   },
   "outputs": [],
   "source": [
    "#!wget -c https://raw.githubusercontent.com/samirma/deep-learning-experiments/master/stock_data.tar.xz\n",
    "#!tar -xf stock_data.tar.xz\n",
    "#!mv stock_data crash\n",
    "#!find crash -type f | wc -l\n"
   ]
  },
  {
   "cell_type": "code",
   "execution_count": 16,
   "metadata": {
    "colab": {},
    "colab_type": "code",
    "id": "Izl1IQ7LC5wo"
   },
   "outputs": [],
   "source": [
    "\n",
    "use_cache = False #@param {type:\"boolean\"}\n"
   ]
  },
  {
   "cell_type": "code",
   "execution_count": 17,
   "metadata": {
    "colab": {
     "base_uri": "https://localhost:8080/",
     "height": 969
    },
    "colab_type": "code",
    "executionInfo": {
     "elapsed": 687284,
     "status": "ok",
     "timestamp": 1568068979529,
     "user": {
      "displayName": "Samir Moreira Antônio",
      "photoUrl": "https://lh3.googleusercontent.com/a-/AAuE7mCsh3ldsSLN0VnFRYp341EzO_UyuRNKmLncUbMA3Q=s64",
      "userId": "14581632111443153742"
     },
     "user_tz": -60
    },
    "id": "eO4im0aG2zql",
    "outputId": "e3d3b69a-c7ce-4779-c6e3-673b4bd7ba9a"
   },
   "outputs": [
    {
     "name": "stderr",
     "output_type": "stream",
     "text": [
      "  0%|          | 796/883497 [00:00<01:50, 7956.65it/s]"
     ]
    },
    {
     "name": "stdout",
     "output_type": "stream",
     "text": [
      "Loading 886156 from dir stock_data/\n"
     ]
    },
    {
     "name": "stderr",
     "output_type": "stream",
     "text": [
      "100%|██████████| 883497/883497 [01:24<00:00, 10515.55it/s]\n",
      "100%|██████████| 2658/2658 [00:00<00:00, 10968.94it/s]\n"
     ]
    },
    {
     "name": "stdout",
     "output_type": "stream",
     "text": [
      "(883497, 40)\n",
      "(883497,)\n",
      "(2658, 40)\n",
      "(2658,)\n"
     ]
    }
   ],
   "source": [
    "import numpy as np\n",
    "path = \"./\" \n",
    "\n",
    "import data_util\n",
    "from data_generator import DataGenerator\n",
    "\n",
    "def load_datasets(dirs):\n",
    "  sets = []  \n",
    "  for raw_dir in dirs:\n",
    "    data_gen = DataGenerator(random=False, first_index=10, base_dir = raw_dir)\n",
    "    data_gen.rewind()\n",
    "    full = data_gen.steps - 2000\n",
    "    print(\"Loading {} from dir {}\".format(full, raw_dir))\n",
    "    sets.append(data_util.get_sets(data_gen, full, val_percentage = 0.003, path = path, use_cache=use_cache))\n",
    "  return sets\n",
    "\n",
    "def conc_sets(sets):\n",
    "  trainX = sets[0][0]\n",
    "  trainY = sets[0][1]\n",
    "  valX = sets[0][2]\n",
    "  valY = sets[0][3]\n",
    "  for i in range(1, len(sets)):\n",
    "    data_set = sets[i]\n",
    "    trainX = np.append(data_set[0], trainX, axis = 0)\n",
    "    trainY = np.append(data_set[1], trainY, axis = 0)\n",
    "    valX = np.append(data_set[2], valX, axis = 0)\n",
    "    valY = np.append(data_set[3], valY, axis = 0)\n",
    "  return trainX, trainY, valX, valY\n",
    "\n",
    "if (not use_cache):\n",
    "  sets = load_datasets([\"stock_data/\"])\n",
    "  trainX, trainY, valX, valY = conc_sets(sets)\n",
    "  np.save(path + \"train\" + \"X.npy\", trainX)\n",
    "  np.save(path + \"train\" + \"Y.npy\", trainY)\n",
    "  np.save(path + \"val\" + \"X.npy\", valX)\n",
    "  np.save(path + \"val\" + \"Y.npy\", valY)\n",
    "else:\n",
    "  trainX = np.load(path + \"train\" + \"X.npy\")\n",
    "  trainY = np.load(path + \"train\" + \"Y.npy\")\n",
    "  valX = np.load(path + \"val\" + \"X.npy\")\n",
    "  valY = np.load(path + \"val\" + \"Y.npy\")\n",
    "\n"
   ]
  },
  {
   "cell_type": "code",
   "execution_count": 18,
   "metadata": {
    "colab": {},
    "colab_type": "code",
    "id": "R2rzbhKdCBW6"
   },
   "outputs": [],
   "source": [
    "path = \"./\" \n",
    "\n",
    "np.save(path + \"train\" + \"X.npy\", trainX)\n",
    "np.save(path + \"train\" + \"Y.npy\", trainY)\n",
    "np.save(path + \"val\" + \"X.npy\", valX)\n",
    "np.save(path + \"val\" + \"Y.npy\", valY)"
   ]
  },
  {
   "cell_type": "code",
   "execution_count": 19,
   "metadata": {
    "colab": {
     "base_uri": "https://localhost:8080/",
     "height": 85
    },
    "colab_type": "code",
    "executionInfo": {
     "elapsed": 1042,
     "status": "ok",
     "timestamp": 1568069202067,
     "user": {
      "displayName": "Samir Moreira Antônio",
      "photoUrl": "https://lh3.googleusercontent.com/a-/AAuE7mCsh3ldsSLN0VnFRYp341EzO_UyuRNKmLncUbMA3Q=s64",
      "userId": "14581632111443153742"
     },
     "user_tz": -60
    },
    "id": "eFrch_cbMyP9",
    "outputId": "f07f41a0-1923-4bbc-a397-7dd6c63156ec"
   },
   "outputs": [
    {
     "name": "stdout",
     "output_type": "stream",
     "text": [
      "(883497, 40)\n",
      "(883497,)\n",
      "(2658, 40)\n",
      "(2658,)\n"
     ]
    }
   ],
   "source": [
    "print(trainX.shape)\n",
    "print(trainY.shape)\n",
    "print(valX.shape)\n",
    "print(valY.shape)"
   ]
  },
  {
   "cell_type": "code",
   "execution_count": null,
   "metadata": {
    "colab": {
     "base_uri": "https://localhost:8080/",
     "height": 34
    },
    "colab_type": "code",
    "executionInfo": {
     "elapsed": 3046,
     "status": "ok",
     "timestamp": 1568069166426,
     "user": {
      "displayName": "Samir Moreira Antônio",
      "photoUrl": "https://lh3.googleusercontent.com/a-/AAuE7mCsh3ldsSLN0VnFRYp341EzO_UyuRNKmLncUbMA3Q=s64",
      "userId": "14581632111443153742"
     },
     "user_tz": -60
    },
    "id": "8ZKz1F-sNBC3",
    "outputId": "422ff755-2503-440c-9069-10ca9d17c854"
   },
   "outputs": [],
   "source": [
    "!ls drive/My\\ Drive/model/"
   ]
  },
  {
   "cell_type": "code",
   "execution_count": null,
   "metadata": {
    "colab": {},
    "colab_type": "code",
    "id": "cUSNj-pINFTE"
   },
   "outputs": [],
   "source": []
  }
 ],
 "metadata": {
  "accelerator": "GPU",
  "colab": {
   "collapsed_sections": [],
   "name": "enviroment",
   "provenance": [],
   "version": "0.3.2"
  },
  "kernelspec": {
   "display_name": "Python 3",
   "language": "python",
   "name": "python3"
  },
  "language_info": {
   "codemirror_mode": {
    "name": "ipython",
    "version": 3
   },
   "file_extension": ".py",
   "mimetype": "text/x-python",
   "name": "python",
   "nbconvert_exporter": "python",
   "pygments_lexer": "ipython3",
   "version": "3.7.7"
  }
 },
 "nbformat": 4,
 "nbformat_minor": 1
}
