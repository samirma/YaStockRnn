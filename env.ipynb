{
 "cells": [
  {
   "cell_type": "code",
   "execution_count": 1,
   "metadata": {
    "colab": {
     "base_uri": "https://localhost:8080/",
     "height": 170
    },
    "colab_type": "code",
    "executionInfo": {
     "elapsed": 503083,
     "status": "ok",
     "timestamp": 1568068274112,
     "user": {
      "displayName": "Samir Moreira Antônio",
      "photoUrl": "https://lh3.googleusercontent.com/a-/AAuE7mCsh3ldsSLN0VnFRYp341EzO_UyuRNKmLncUbMA3Q=s64",
      "userId": "14581632111443153742"
     },
     "user_tz": -60
    },
    "id": "fGVQczSlF-9o",
    "outputId": "e3a06798-f737-48d9-ec6e-d3784cec3115"
   },
   "outputs": [],
   "source": [
    "import pandas as pd\n",
    "import data_util\n",
    "from tqdm import tqdm_notebook as tqdm\n",
    "from data_generator import DataGenerator\n",
    "from state_util import StateUtil\n",
    "from tec_an import TecAn\n",
    "import numpy as np\n",
    "from data_util import *\n",
    "import threading\n",
    "import multiprocessing"
   ]
  },
  {
   "cell_type": "code",
   "execution_count": 2,
   "metadata": {},
   "outputs": [],
   "source": [
    "future = 10\n",
    "\n",
    "def get_tecs(raw_dir = \"stock_data/\"):\n",
    "    data_gen = DataGenerator(random=False, base_dir = raw_dir)\n",
    "    data_gen.rewind()\n",
    "    stateUtil = StateUtil(data_gen, future = future)\n",
    "    data = []\n",
    "    data_count = data_gen.max_steps()\n",
    "    tec = TecAn()\n",
    "    for i in tqdm(range(data_count)):\n",
    "        raw = data_gen.next()\n",
    "        price = raw[stateUtil.PRICE_KEY]\n",
    "        amount = raw[stateUtil.AMOUNT_KEY]\n",
    "        data.append([price, amount])\n",
    "    \n",
    "    def calcule_tecs():\n",
    "        tecs = []\n",
    "        print(\"Data {}\".format(len(data)))\n",
    "        df = pd.DataFrame(data, columns = ['Close', 'Volume'])\n",
    "        close = df['Close']\n",
    "        volume = df['Volume']\n",
    "        for ta in tec.tas:\n",
    "            value = ta(close, volume, 0.0, 0.0)\n",
    "            tecs.append(value)\n",
    "        return tecs\n",
    "    \n",
    "    return calcule_tecs()\n"
   ]
  },
  {
   "cell_type": "code",
   "execution_count": 3,
   "metadata": {},
   "outputs": [],
   "source": [
    "\n",
    "class TacProcess():\n",
    "    def __init__(self):\n",
    "        self.old_price = -1\n",
    "        \n",
    "    def add_tacs(self, list, index, result):\n",
    "        list = []\n",
    "        #print(len(result[-1]))\n",
    "        #print(index)\n",
    "        for tec in result:\n",
    "            list.append(tec.iloc[index])\n",
    "        return list\n",
    "\n",
    "    def add_tacs_realtime(self, list, price, amount, tec):\n",
    "        list = []\n",
    "        list.extend(tec.add_ta(price, amount))\n",
    "        self.old_price = price\n",
    "        #print(\"{} {} {}\".format(price, amount, list))\n",
    "        return list\n",
    "    \n",
    "taProc = TacProcess()"
   ]
  },
  {
   "cell_type": "code",
   "execution_count": 4,
   "metadata": {},
   "outputs": [],
   "source": [
    "def save(data_set, prefix = \"\", base_dir = \"data/\"):\n",
    "    trainX = data_set[0]\n",
    "    trainY = data_set[1]\n",
    "    valX = data_set[2]\n",
    "    valY = data_set[3]\n",
    "    final_path = path + base_dir\n",
    "    train_path = \"{}{}trainX.npy\".format(final_path, prefix)\n",
    "    np.save(train_path, trainX)\n",
    "    np.save(\"{}{}trainY.npy\".format(final_path, prefix), trainY)\n",
    "    np.save(\"{}{}valX.npy\".format(final_path, prefix), valX)\n",
    "    np.save(\"{}{}valY.npy\".format(final_path, prefix), valY)\n",
    "    print(\"Saving {} with {}\".format(train_path, trainX.shape))\n",
    "\n",
    "def get_y_data(ohlc, shift = -1):\n",
    "    combined_data = ohlc\n",
    "    #combined_data['return'] = np.log(combined_data / combined_data.shift(1))\n",
    "    returns = (ohlc / ohlc.shift(shift))\n",
    "    combined_data['return'] = returns\n",
    "    combined_data['direction'] = np.where(combined_data['return'] < 1, 1, 0)\n",
    "    #print(combined_data)\n",
    "    #combined_data.dropna(inplace=True)\n",
    "    #print(combined_data)\n",
    "    return combined_data['direction']\n",
    "\n",
    "def split(x, y, split):\n",
    "    limit = int(len(y)*split)\n",
    "    \n",
    "    trainX = np.array(x[limit:].copy())\n",
    "    trainY = np.array(y[limit:].copy())\n",
    "    \n",
    "    valX = np.array(x[:limit].copy())\n",
    "    valY = np.array(y[:limit].copy())\n",
    "    print(\"Completed: {} {} {} {}\".format(trainX.shape, trainY.shape, valX.shape, valY.shape))\n",
    "    return trainX, trainY, valX, valY\n",
    "\n",
    "\n",
    "TIMESTAMP_KEY = \"timestamp\"\n",
    "MICROTIMESTAMP_KEY = \"microtimestamp\"\n",
    "ASKS_KEY = \"asks\"\n",
    "BIDS_KEY = \"bids\"\n",
    "PRICE_KEY = \"price\"\n",
    "AMOUNT_KEY = \"amount\""
   ]
  },
  {
   "cell_type": "code",
   "execution_count": 7,
   "metadata": {
    "colab": {
     "base_uri": "https://localhost:8080/",
     "height": 969
    },
    "colab_type": "code",
    "executionInfo": {
     "elapsed": 687284,
     "status": "ok",
     "timestamp": 1568068979529,
     "user": {
      "displayName": "Samir Moreira Antônio",
      "photoUrl": "https://lh3.googleusercontent.com/a-/AAuE7mCsh3ldsSLN0VnFRYp341EzO_UyuRNKmLncUbMA3Q=s64",
      "userId": "14581632111443153742"
     },
     "user_tz": -60
    },
    "id": "eO4im0aG2zql",
    "outputId": "e3d3b69a-c7ce-4779-c6e3-673b4bd7ba9a",
    "scrolled": true
   },
   "outputs": [],
   "source": [
    "path = \"./\" \n",
    "\n",
    "windows = 30\n",
    "\n",
    "import data_util\n",
    "from data_generator import DataGenerator\n",
    "\n",
    "def load_dataset(dir):\n",
    "    load_datasets([dir])\n",
    "\n",
    "def load_datasets(dirs, resample, base_dir = \"data/\"):\n",
    "    print(dirs)\n",
    "    sets = []  \n",
    "    for raw_dir in dirs:\n",
    "        full_data = base_dir + raw_dir + \"/\"\n",
    "        data_gen = DataGenerator(random = False, base_dir = full_data)\n",
    "        data_gen.rewind()\n",
    "        data_count = (data_gen.steps - 100)\n",
    "        tec = TecAn(windows = 20, windows_limit = 100)\n",
    "        print(\"Processing {}\".format(raw_dir))\n",
    "        \n",
    "        list = []\n",
    "        for i in tqdm(range(data_count)):\n",
    "            raw = data_gen.next()\n",
    "            price = raw[PRICE_KEY]\n",
    "            amount = raw[AMOUNT_KEY]\n",
    "            timestamp = raw[TIMESTAMP_KEY]\n",
    "            timestamp = pd.to_datetime(timestamp, unit='s')\n",
    "            list.append([timestamp, price, amount])\n",
    "\n",
    "        DATE = 'Date'\n",
    "        df = pd.DataFrame(list, columns = [DATE, 'Close', 'Volume'])\n",
    "        df = df.set_index(pd.DatetimeIndex(df[DATE]))\n",
    "\n",
    "        time = df['Close'].resample(resample)\n",
    "        ohlc = time.ohlc()\n",
    "        del ohlc['open']\n",
    "        del ohlc['high']\n",
    "        del ohlc['low']\n",
    "        #(ohlc).plot(figsize=(20, 12))\n",
    "        \n",
    "        final_x = []\n",
    "        for index, row in ohlc.iterrows():\n",
    "            price = row['close']\n",
    "            final_x.append(taProc.add_tacs_realtime([], price, 0.0, tec))\n",
    "            if (np.isnan(final_x).any()):\n",
    "                print(\"#########\")\n",
    "\n",
    "        final_y = get_y_data(ohlc, -2)\n",
    "        \n",
    "        final_data = split(final_x, final_y, 0.1)\n",
    "\n",
    "        save(final_data, raw_dir)\n",
    "        sets.append(final_data)\n",
    "    return sets\n",
    "\n",
    "def conc_sets(sets):\n",
    "    trainX = sets[0][0]\n",
    "    trainY = sets[0][1]\n",
    "    valX = sets[0][2]\n",
    "    valY = sets[0][3]\n",
    "    for i in range(1,  len(sets)):\n",
    "        data_set = sets[i]\n",
    "        trainX = np.append(data_set[0], trainX, axis = 0)\n",
    "        trainY = np.append(data_set[1], trainY, axis = 0)\n",
    "        valX = np.append(data_set[2], valX, axis = 0)\n",
    "        valY = np.append(data_set[3], valY, axis = 0)\n",
    "    return trainX, trainY, valX, valY\n",
    "\n"
   ]
  },
  {
   "cell_type": "code",
   "execution_count": 14,
   "metadata": {
    "scrolled": true
   },
   "outputs": [
    {
     "name": "stdout",
     "output_type": "stream",
     "text": [
      "['omgusd', 'btceur', 'btcusd', 'ethusd', 'ltcusd']\n",
      "Processing omgusd\n"
     ]
    },
    {
     "name": "stderr",
     "output_type": "stream",
     "text": [
      "<ipython-input-7-e97f9c3b4bba>:23: TqdmDeprecationWarning: This function will be removed in tqdm==5.0.0\n",
      "Please use `tqdm.notebook.tqdm` instead of `tqdm.tqdm_notebook`\n",
      "  for i in tqdm(range(data_count)):\n"
     ]
    },
    {
     "data": {
      "application/vnd.jupyter.widget-view+json": {
       "model_id": "5ecc95852cb54d03aee021dffa7f9d26",
       "version_major": 2,
       "version_minor": 0
      },
      "text/plain": [
       "  0%|          | 0/213310 [00:00<?, ?it/s]"
      ]
     },
     "metadata": {},
     "output_type": "display_data"
    },
    {
     "name": "stdout",
     "output_type": "stream",
     "text": [
      "Completed: (1050, 26) (1050,) (116, 26) (116,)\n",
      "Saving ./data/omgusdtrainX.npy with (1050, 26)\n",
      "Processing btceur\n"
     ]
    },
    {
     "name": "stderr",
     "output_type": "stream",
     "text": [
      "<ipython-input-7-e97f9c3b4bba>:23: TqdmDeprecationWarning: This function will be removed in tqdm==5.0.0\n",
      "Please use `tqdm.notebook.tqdm` instead of `tqdm.tqdm_notebook`\n",
      "  for i in tqdm(range(data_count)):\n"
     ]
    },
    {
     "data": {
      "application/vnd.jupyter.widget-view+json": {
       "model_id": "fb7f2bea37324de7a67de0d4907c0d6d",
       "version_major": 2,
       "version_minor": 0
      },
      "text/plain": [
       "  0%|          | 0/656764 [00:00<?, ?it/s]"
      ]
     },
     "metadata": {},
     "output_type": "display_data"
    },
    {
     "name": "stdout",
     "output_type": "stream",
     "text": [
      "Completed: (1057, 26) (1057,) (117, 26) (117,)\n",
      "Saving ./data/btceurtrainX.npy with (1057, 26)\n",
      "Processing btcusd\n"
     ]
    },
    {
     "name": "stderr",
     "output_type": "stream",
     "text": [
      "<ipython-input-7-e97f9c3b4bba>:23: TqdmDeprecationWarning: This function will be removed in tqdm==5.0.0\n",
      "Please use `tqdm.notebook.tqdm` instead of `tqdm.tqdm_notebook`\n",
      "  for i in tqdm(range(data_count)):\n"
     ]
    },
    {
     "data": {
      "application/vnd.jupyter.widget-view+json": {
       "model_id": "2e3061bd580c49c5a97b5c4578df6c21",
       "version_major": 2,
       "version_minor": 0
      },
      "text/plain": [
       "  0%|          | 0/388103 [00:00<?, ?it/s]"
      ]
     },
     "metadata": {},
     "output_type": "display_data"
    },
    {
     "name": "stdout",
     "output_type": "stream",
     "text": [
      "Completed: (344, 26) (344,) (38, 26) (38,)\n",
      "Saving ./data/btcusdtrainX.npy with (344, 26)\n",
      "Processing ethusd\n"
     ]
    },
    {
     "name": "stderr",
     "output_type": "stream",
     "text": [
      "<ipython-input-7-e97f9c3b4bba>:23: TqdmDeprecationWarning: This function will be removed in tqdm==5.0.0\n",
      "Please use `tqdm.notebook.tqdm` instead of `tqdm.tqdm_notebook`\n",
      "  for i in tqdm(range(data_count)):\n"
     ]
    },
    {
     "data": {
      "application/vnd.jupyter.widget-view+json": {
       "model_id": "e85feba50b6149ecb8ebc85b6ab6dd18",
       "version_major": 2,
       "version_minor": 0
      },
      "text/plain": [
       "  0%|          | 0/639540 [00:00<?, ?it/s]"
      ]
     },
     "metadata": {},
     "output_type": "display_data"
    },
    {
     "name": "stdout",
     "output_type": "stream",
     "text": [
      "Completed: (1057, 26) (1057,) (117, 26) (117,)\n",
      "Saving ./data/ethusdtrainX.npy with (1057, 26)\n",
      "Processing ltcusd\n"
     ]
    },
    {
     "name": "stderr",
     "output_type": "stream",
     "text": [
      "<ipython-input-7-e97f9c3b4bba>:23: TqdmDeprecationWarning: This function will be removed in tqdm==5.0.0\n",
      "Please use `tqdm.notebook.tqdm` instead of `tqdm.tqdm_notebook`\n",
      "  for i in tqdm(range(data_count)):\n"
     ]
    },
    {
     "data": {
      "application/vnd.jupyter.widget-view+json": {
       "model_id": "02c4b0d25a164a1486f88b2f5e90a142",
       "version_major": 2,
       "version_minor": 0
      },
      "text/plain": [
       "  0%|          | 0/543146 [00:00<?, ?it/s]"
      ]
     },
     "metadata": {},
     "output_type": "display_data"
    },
    {
     "name": "stdout",
     "output_type": "stream",
     "text": [
      "Completed: (1056, 26) (1056,) (117, 26) (117,)\n",
      "Saving ./data/ltcusdtrainX.npy with (1056, 26)\n",
      "Saving ./data/trainX.npy with (4564, 26)\n"
     ]
    }
   ],
   "source": [
    "#dirs = [\"omgusd\", \"btceur\", \"btcusd\", \"ethusd\", \"ltcusd\", \"btcusd17\", \"btcusdAug19\"]\n",
    "dirs = [\"omgusd\", \"btceur\", \"btcusd\", \"ethusd\", \"ltcusd\"]\n",
    "#dirs = [\"btcusd17\"]\n",
    "\n",
    "sets = load_datasets(dirs, '2Min')\n",
    "save(conc_sets(sets))"
   ]
  },
  {
   "cell_type": "code",
   "execution_count": 17,
   "metadata": {},
   "outputs": [
    {
     "data": {
      "text/plain": [
       "False"
      ]
     },
     "execution_count": 17,
     "metadata": {},
     "output_type": "execute_result"
    }
   ],
   "source": [
    "np.isnan(sets[0][0]).any()"
   ]
  },
  {
   "cell_type": "code",
   "execution_count": 1,
   "metadata": {},
   "outputs": [
    {
     "name": "stdout",
     "output_type": "stream",
     "text": [
      "{'timestamp': '1624655203', 'microtimestamp': '1624655203055040', 'bids': [['31916.10', '0.00912130'], ['31916.09', '0.23472651'], ['31907.82', '0.02327466'], ['31907.81', '0.39104617'], ['31904.27', '0.06051412'], ['31901.00', '0.00081502'], ['31900.84', '0.00637500'], ['31900.00', '0.96406357'], ['31893.46', '0.06214750'], ['31892.61', '0.39123994'], ['31888.66', '0.06318779'], ['31884.47', '0.73836748'], ['31883.71', '0.56800000'], ['31882.41', '0.22200000'], ['31871.68', '5.54760057'], ['31870.00', '0.00066012'], ['31868.28', '0.62553184'], ['31863.31', '0.72700000'], ['31863.07', '2.65230265']], 'asks': [['31952.39', '0.03936076'], ['31952.40', '4.02390000'], ['31956.80', '0.96000000'], ['31957.07', '0.67346087'], ['31957.08', '0.13341400'], ['31957.18', '0.33745466'], ['31959.30', '10.54900000'], ['31961.39', '0.47535406'], ['31961.41', '0.71649490'], ['31964.49', '0.00150000'], ['31967.80', '0.06266305'], ['31968.49', '0.73535684'], ['31969.81', '0.08608700'], ['31976.48', '0.03732124'], ['31982.88', '0.09330310'], ['31982.89', '0.46772505'], ['31983.61', '0.58100000'], ['31984.30', '0.23478825'], ['31986.38', '0.41200000']], 'amount': 0.42092061, 'price': 31927.15}\n"
     ]
    }
   ],
   "source": [
    "import pandas as pd\n",
    "import data_util\n",
    "from tqdm import tqdm_notebook as tqdm\n",
    "from data_generator import DataGenerator\n",
    "from state_util import StateUtil\n",
    "from tec_an import TecAn\n",
    "import numpy as np\n",
    "\n",
    "\n",
    "raw_dir = \"data/backtest/\"\n",
    "data_gen = DataGenerator(random=False, first_index=0, base_dir = raw_dir)\n",
    "data_count = data_gen.steps\n",
    "print(data_gen.next())"
   ]
  },
  {
   "cell_type": "code",
   "execution_count": 2,
   "metadata": {
    "scrolled": true
   },
   "outputs": [
    {
     "name": "stderr",
     "output_type": "stream",
     "text": [
      "<ipython-input-2-b5fc16d259d2>:10: TqdmDeprecationWarning: This function will be removed in tqdm==5.0.0\n",
      "Please use `tqdm.notebook.tqdm` instead of `tqdm.tqdm_notebook`\n",
      "  for i in tqdm(range(data_count)):\n"
     ]
    },
    {
     "data": {
      "application/vnd.jupyter.widget-view+json": {
       "model_id": "73711dea805e490aade08ae5fad6c6b3",
       "version_major": 2,
       "version_minor": 0
      },
      "text/plain": [
       "  0%|          | 0/1286906 [00:00<?, ?it/s]"
      ]
     },
     "metadata": {},
     "output_type": "display_data"
    }
   ],
   "source": [
    "list = []\n",
    "data_gen.rewind()\n",
    "TIMESTAMP_KEY = \"timestamp\"\n",
    "MICROTIMESTAMP_KEY = \"microtimestamp\"\n",
    "ASKS_KEY = \"asks\"\n",
    "BIDS_KEY = \"bids\"\n",
    "PRICE_KEY = \"price\"\n",
    "AMOUNT_KEY = \"amount\"\n",
    "\n",
    "for i in tqdm(range(data_count)):\n",
    "    raw = data_gen.next()\n",
    "    price = raw[PRICE_KEY]\n",
    "    amount = raw[AMOUNT_KEY]\n",
    "    timestamp = raw[TIMESTAMP_KEY]\n",
    "    timestamp = pd.to_datetime(timestamp, unit='s')\n",
    "    list.append([timestamp, price, amount])"
   ]
  },
  {
   "cell_type": "code",
   "execution_count": 3,
   "metadata": {},
   "outputs": [
    {
     "name": "stdout",
     "output_type": "stream",
     "text": [
      "                                   Date     Close    Volume\n",
      "Date                                                       \n",
      "2021-06-27 10:49:17 2021-06-27 10:49:17  32610.00  0.014593\n",
      "2021-06-27 10:49:17 2021-06-27 10:49:17  32610.00  0.014593\n",
      "2021-06-27 10:49:17 2021-06-27 10:49:17  32610.00  0.014593\n",
      "2021-06-27 10:49:17 2021-06-27 10:49:17  32610.00  0.014593\n",
      "2021-06-27 10:49:17 2021-06-27 10:49:17  32610.00  0.014593\n",
      "...                                 ...       ...       ...\n",
      "2021-06-27 10:49:29 2021-06-27 10:49:29  32607.44  0.029350\n",
      "2021-06-27 10:49:29 2021-06-27 10:49:29  32607.44  0.029350\n",
      "2021-06-27 10:49:29 2021-06-27 10:49:29  32607.44  0.029350\n",
      "2021-06-27 10:49:29 2021-06-27 10:49:29  32607.44  0.029350\n",
      "2021-06-27 10:49:29 2021-06-27 10:49:29  32607.44  0.029350\n",
      "\n",
      "[110 rows x 3 columns]\n"
     ]
    }
   ],
   "source": [
    "DATE = 'Date'\n",
    "df = pd.DataFrame(list, columns = [DATE, 'Close', 'Volume'])\n",
    "df = df.set_index(pd.DatetimeIndex(df[DATE]))\n",
    "#print(df.head())\n",
    "print(df.tail(110))"
   ]
  },
  {
   "cell_type": "code",
   "execution_count": 14,
   "metadata": {},
   "outputs": [
    {
     "name": "stdout",
     "output_type": "stream",
     "text": [
      "(227, 4)\n",
      "                         open      high       low     close\n",
      "Date                                                       \n",
      "2021-06-25 21:03:00  31927.15  31991.55  31601.02  31637.42\n",
      "2021-06-25 21:13:00  31637.42  31782.55  31563.45  31735.40\n"
     ]
    },
    {
     "name": "stderr",
     "output_type": "stream",
     "text": [
      "<ipython-input-14-fe2aeb23ac1f>:1: FutureWarning: 'base' in .resample() and in Grouper() is deprecated.\n",
      "The new arguments that you should use are 'offset' or 'origin'.\n",
      "\n",
      ">>> df.resample(freq=\"3s\", base=2)\n",
      "\n",
      "becomes:\n",
      "\n",
      ">>> df.resample(freq=\"3s\", offset=\"2s\")\n",
      "\n",
      "  time = df['Close'].resample('10Min', base = 3)\n"
     ]
    },
    {
     "data": {
      "text/plain": [
       "<AxesSubplot:xlabel='Date'>"
      ]
     },
     "execution_count": 14,
     "metadata": {},
     "output_type": "execute_result"
    },
    {
     "data": {
      "image/png": "[encoded data removed]",
      "text/plain": [
       "<Figure size 1440x864 with 1 Axes>"
      ]
     },
     "metadata": {
      "needs_background": "light"
     },
     "output_type": "display_data"
    }
   ],
   "source": [
    "time = df['Close'].resample('10Min', base = 3)\n",
    "ohlc = time.ohlc()\n",
    "print(ohlc.shape)\n",
    "combined_data = ohlc[\"close\"]\n",
    "print(ohlc.head(2))\n",
    "(combined_data).plot(figsize=(20, 12))"
   ]
  },
  {
   "cell_type": "code",
   "execution_count": null,
   "metadata": {
    "scrolled": true
   },
   "outputs": [],
   "source": [
    "combined_data = pd.DataFrame([20, 1, 2, 3, 4, 10, 6, 5, 4, 9, 10], columns = ['Close'])"
   ]
  },
  {
   "cell_type": "code",
   "execution_count": null,
   "metadata": {},
   "outputs": [],
   "source": []
  },
  {
   "cell_type": "code",
   "execution_count": null,
   "metadata": {},
   "outputs": [],
   "source": [
    "combined_data['return'] = np.log(combined_data['Close'] / combined_data['Close'].shift(-1))\n",
    "combined_data['direction'] = np.where(combined_data['return'] > 0, 0, 1)\n"
   ]
  },
  {
   "cell_type": "code",
   "execution_count": null,
   "metadata": {},
   "outputs": [],
   "source": [
    "combined_data"
   ]
  },
  {
   "cell_type": "code",
   "execution_count": null,
   "metadata": {},
   "outputs": [],
   "source": [
    "df['result']"
   ]
  },
  {
   "cell_type": "code",
   "execution_count": null,
   "metadata": {},
   "outputs": [],
   "source": []
  }
 ],
 "metadata": {
  "accelerator": "GPU",
  "colab": {
   "collapsed_sections": [],
   "name": "enviroment",
   "provenance": [],
   "version": "0.3.2"
  },
  "kernelspec": {
   "display_name": "Python 3",
   "language": "python",
   "name": "python3"
  },
  "language_info": {
   "codemirror_mode": {
    "name": "ipython",
    "version": 3
   },
   "file_extension": ".py",
   "mimetype": "text/x-python",
   "name": "python",
   "nbconvert_exporter": "python",
   "pygments_lexer": "ipython3",
   "version": "3.9.5"
  }
 },
 "nbformat": 4,
 "nbformat_minor": 4
}
