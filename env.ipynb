{
 "cells": [
  {
   "cell_type": "code",
   "execution_count": 1,
   "metadata": {
    "colab": {
     "base_uri": "https://localhost:8080/",
     "height": 170
    },
    "colab_type": "code",
    "executionInfo": {
     "elapsed": 503083,
     "status": "ok",
     "timestamp": 1568068274112,
     "user": {
      "displayName": "Samir Moreira Antônio",
      "photoUrl": "https://lh3.googleusercontent.com/a-/AAuE7mCsh3ldsSLN0VnFRYp341EzO_UyuRNKmLncUbMA3Q=s64",
      "userId": "14581632111443153742"
     },
     "user_tz": -60
    },
    "id": "fGVQczSlF-9o",
    "outputId": "e3a06798-f737-48d9-ec6e-d3784cec3115"
   },
   "outputs": [],
   "source": [
    "import pandas as pd\n",
    "import data_util\n",
    "from tqdm import tqdm_notebook as tqdm\n",
    "from data_generator import DataGenerator\n",
    "from state_util import StateUtil\n",
    "from tec_an import TecAn\n",
    "import numpy as np\n",
    "from data_util import *\n",
    "import threading\n",
    "import multiprocessing\n",
    "from data_agent import DataAgent, TacProcess\n"
   ]
  },
  {
   "cell_type": "code",
   "execution_count": 2,
   "metadata": {},
   "outputs": [],
   "source": [
    "future = 10\n",
    "\n",
    "def get_tecs(raw_dir = \"stock_data/\"):\n",
    "    data_gen = DataGenerator(random=False, base_dir = raw_dir)\n",
    "    data_gen.rewind()\n",
    "    stateUtil = StateUtil(data_gen, future = future)\n",
    "    data = []\n",
    "    data_count = data_gen.max_steps()\n",
    "    tec = TecAn()\n",
    "    for i in tqdm(range(data_count)):\n",
    "        raw = data_gen.next()\n",
    "        price = raw[stateUtil.PRICE_KEY]\n",
    "        amount = raw[stateUtil.AMOUNT_KEY]\n",
    "        data.append([price, amount])\n",
    "    \n",
    "    def calcule_tecs():\n",
    "        tecs = []\n",
    "        print(\"Data {}\".format(len(data)))\n",
    "        df = pd.DataFrame(data, columns = ['Close', 'Volume'])\n",
    "        close = df['Close']\n",
    "        volume = df['Volume']\n",
    "        for ta in tec.tas:\n",
    "            value = ta(close, volume, 0.0, 0.0)\n",
    "            tecs.append(value)\n",
    "        return tecs\n",
    "    \n",
    "    return calcule_tecs()\n"
   ]
  },
  {
   "cell_type": "code",
   "execution_count": 12,
   "metadata": {},
   "outputs": [],
   "source": [
    "def save(data_set, prefix = \"\", base_dir = \"data/\"):\n",
    "    trainX = data_set[0]\n",
    "    trainY = data_set[1]\n",
    "    valX = data_set[2]\n",
    "    valY = data_set[3]\n",
    "    final_path = path + base_dir\n",
    "    train_path = \"{}{}trainX.npy\".format(final_path, prefix)\n",
    "    np.save(train_path, trainX)\n",
    "    np.save(\"{}{}trainY.npy\".format(final_path, prefix), trainY)\n",
    "    np.save(\"{}{}valX.npy\".format(final_path, prefix), valX)\n",
    "    np.save(\"{}{}valY.npy\".format(final_path, prefix), valY)\n",
    "    print(\"Saving {} with {}\".format(train_path, trainX.shape))\n",
    "\n",
    "def get_y_data(ohlc, shift = -1):\n",
    "    combined_data = ohlc\n",
    "    #combined_data['return'] = np.log(combined_data / combined_data.shift(1))\n",
    "    returns = (ohlc / ohlc.shift(shift))\n",
    "    combined_data['return'] = returns\n",
    "    combined_data['direction'] = np.where(combined_data['return'] < 1, 1, 0)\n",
    "    #print(combined_data)\n",
    "    #combined_data.dropna(inplace=True)\n",
    "    return combined_data['direction']\n",
    "\n",
    "def split(x, y, split):\n",
    "    limit = int(len(y)*split)\n",
    "    \n",
    "    trainX = np.array(x[limit:].copy())\n",
    "    trainY = np.array(y[limit:].copy())\n",
    "    \n",
    "    valX = np.array(x[:limit].copy())\n",
    "    valY = np.array(y[:limit].copy())\n",
    "    print(\"Completed: {} {} {} {}\".format(trainX.shape, trainY.shape, valX.shape, valY.shape))\n",
    "    return trainX, trainY, valX, valY\n",
    "\n",
    "\n",
    "TIMESTAMP_KEY = \"timestamp\"\n",
    "MICROTIMESTAMP_KEY = \"microtimestamp\"\n",
    "ASKS_KEY = \"asks\"\n",
    "BIDS_KEY = \"bids\"\n",
    "PRICE_KEY = \"price\"\n",
    "AMOUNT_KEY = \"amount\"\n",
    "CLOSE = 'close'"
   ]
  },
  {
   "cell_type": "code",
   "execution_count": 15,
   "metadata": {
    "colab": {
     "base_uri": "https://localhost:8080/",
     "height": 969
    },
    "colab_type": "code",
    "executionInfo": {
     "elapsed": 687284,
     "status": "ok",
     "timestamp": 1568068979529,
     "user": {
      "displayName": "Samir Moreira Antônio",
      "photoUrl": "https://lh3.googleusercontent.com/a-/AAuE7mCsh3ldsSLN0VnFRYp341EzO_UyuRNKmLncUbMA3Q=s64",
      "userId": "14581632111443153742"
     },
     "user_tz": -60
    },
    "id": "eO4im0aG2zql",
    "outputId": "e3d3b69a-c7ce-4779-c6e3-673b4bd7ba9a",
    "scrolled": true
   },
   "outputs": [],
   "source": [
    "path = \"./\" \n",
    "\n",
    "windows = 30\n",
    "\n",
    "import data_util\n",
    "from data_generator import DataGenerator\n",
    "\n",
    "def load_dataset(dir):\n",
    "    load_datasets([dir])\n",
    "\n",
    "def load_datasets(dirs, resample, base_dir = \"data/\"):\n",
    "    print(dirs)\n",
    "    sets = []  \n",
    "    for raw_dir in dirs:\n",
    "        full_data = base_dir + raw_dir + \"/\"\n",
    "        data_gen = DataGenerator(random = False, base_dir = full_data)\n",
    "        data_gen.rewind()\n",
    "        data_count = (data_gen.steps - 100)\n",
    "        #data_count = 20000\n",
    "        \n",
    "        final_x = []\n",
    "        \n",
    "        closed_prices = []\n",
    "        \n",
    "        on_new_data = lambda x: final_x.append(x)\n",
    "        on_closed_price = lambda price: closed_prices.append(price)\n",
    " \n",
    "        agent = DataAgent(\n",
    "            resample = resample,\n",
    "            on_new_data = on_new_data,\n",
    "            on_closed_price = on_closed_price\n",
    "        )\n",
    "        \n",
    "        print(\"Processing {}\".format(raw_dir))\n",
    "        \n",
    "        for i in tqdm(range(data_count)):\n",
    "            agent.on_new_raw_data(data_gen.next())\n",
    "            \n",
    "        ohlc = agent.ohlc\n",
    "        \n",
    "        closes = pd.DataFrame(closed_prices, columns = [CLOSE])\n",
    "        \n",
    "        final_y = get_y_data(closes, -2)\n",
    "\n",
    "        #print(\"Lens: {} {}\".format(len(final_x), len(final_y)))\n",
    "        #print(closes)\n",
    "        #print(final_y)\n",
    "\n",
    "        final_data = split(final_x, final_y, 0.1)\n",
    "\n",
    "        save(final_data, raw_dir)\n",
    "        sets.append(final_data)\n",
    "    return sets\n",
    "\n",
    "def conc_sets(sets):\n",
    "    trainX = sets[0][0]\n",
    "    trainY = sets[0][1]\n",
    "    valX = sets[0][2]\n",
    "    valY = sets[0][3]\n",
    "    for i in range(1,  len(sets)):\n",
    "        data_set = sets[i]\n",
    "        trainX = np.append(data_set[0], trainX, axis = 0)\n",
    "        trainY = np.append(data_set[1], trainY, axis = 0)\n",
    "        valX = np.append(data_set[2], valX, axis = 0)\n",
    "        valY = np.append(data_set[3], valY, axis = 0)\n",
    "    return trainX, trainY, valX, valY\n",
    "\n"
   ]
  },
  {
   "cell_type": "code",
   "execution_count": null,
   "metadata": {
    "scrolled": true
   },
   "outputs": [
    {
     "name": "stdout",
     "output_type": "stream",
     "text": [
      "['omgusd', 'btceur', 'btcusd', 'ethusd', 'ltcusd']\n",
      "Processing omgusd\n"
     ]
    },
    {
     "name": "stderr",
     "output_type": "stream",
     "text": [
      "<ipython-input-15-6f2e5d3d8078>:36: TqdmDeprecationWarning: This function will be removed in tqdm==5.0.0\n",
      "Please use `tqdm.notebook.tqdm` instead of `tqdm.tqdm_notebook`\n",
      "  for i in tqdm(range(data_count)):\n"
     ]
    },
    {
     "data": {
      "application/vnd.jupyter.widget-view+json": {
       "model_id": "bc9219a2b73d4581ac41acd326900490",
       "version_major": 2,
       "version_minor": 0
      },
      "text/plain": [
       "  0%|          | 0/213310 [00:00<?, ?it/s]"
      ]
     },
     "metadata": {},
     "output_type": "display_data"
    },
    {
     "name": "stdout",
     "output_type": "stream",
     "text": [
      "Completed: (675, 26) (675,) (75, 26) (75,)\n",
      "Saving ./data/omgusdtrainX.npy with (675, 26)\n",
      "Processing btceur\n"
     ]
    },
    {
     "name": "stderr",
     "output_type": "stream",
     "text": [
      "<ipython-input-15-6f2e5d3d8078>:36: TqdmDeprecationWarning: This function will be removed in tqdm==5.0.0\n",
      "Please use `tqdm.notebook.tqdm` instead of `tqdm.tqdm_notebook`\n",
      "  for i in tqdm(range(data_count)):\n"
     ]
    },
    {
     "data": {
      "application/vnd.jupyter.widget-view+json": {
       "model_id": "8ecbce3e15fd4ef9b30c07837ba39e73",
       "version_major": 2,
       "version_minor": 0
      },
      "text/plain": [
       "  0%|          | 0/656764 [00:00<?, ?it/s]"
      ]
     },
     "metadata": {},
     "output_type": "display_data"
    }
   ],
   "source": [
    "#dirs = [\"omgusd\", \"btceur\", \"btcusd\", \"ethusd\", \"ltcusd\", \"btcusd17\", \"btcusdAug19\"]\n",
    "dirs = [\"omgusd\", \"btceur\", \"btcusd\", \"ethusd\", \"ltcusd\"]\n",
    "#dirs = [\"omgusd\"]\n",
    "\n",
    "sets = load_datasets(dirs, '2Min')\n",
    "save(conc_sets(sets))"
   ]
  },
  {
   "cell_type": "code",
   "execution_count": 9,
   "metadata": {},
   "outputs": [
    {
     "data": {
      "text/plain": [
       "array([[5.95],\n",
       "       [5.95],\n",
       "       [5.92],\n",
       "       [5.92],\n",
       "       [5.9 ],\n",
       "       [5.92],\n",
       "       [5.97],\n",
       "       [6.01],\n",
       "       [5.98],\n",
       "       [6.01],\n",
       "       [6.  ],\n",
       "       [5.99],\n",
       "       [5.99],\n",
       "       [5.99],\n",
       "       [6.03],\n",
       "       [6.03],\n",
       "       [6.03],\n",
       "       [5.97]])"
      ]
     },
     "execution_count": 9,
     "metadata": {},
     "output_type": "execute_result"
    }
   ],
   "source": [
    "sets[0][0]"
   ]
  }
 ],
 "metadata": {
  "accelerator": "GPU",
  "colab": {
   "collapsed_sections": [],
   "name": "enviroment",
   "provenance": [],
   "version": "0.3.2"
  },
  "kernelspec": {
   "display_name": "Python 3",
   "language": "python",
   "name": "python3"
  },
  "language_info": {
   "codemirror_mode": {
    "name": "ipython",
    "version": 3
   },
   "file_extension": ".py",
   "mimetype": "text/x-python",
   "name": "python",
   "nbconvert_exporter": "python",
   "pygments_lexer": "ipython3",
   "version": "3.9.5"
  }
 },
 "nbformat": 4,
 "nbformat_minor": 4
}
