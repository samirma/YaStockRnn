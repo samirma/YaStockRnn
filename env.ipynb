{
 "cells": [
  {
   "cell_type": "code",
   "execution_count": 75,
   "metadata": {
    "colab": {
     "base_uri": "https://localhost:8080/",
     "height": 170
    },
    "colab_type": "code",
    "executionInfo": {
     "elapsed": 503083,
     "status": "ok",
     "timestamp": 1568068274112,
     "user": {
      "displayName": "Samir Moreira Antônio",
      "photoUrl": "https://lh3.googleusercontent.com/a-/AAuE7mCsh3ldsSLN0VnFRYp341EzO_UyuRNKmLncUbMA3Q=s64",
      "userId": "14581632111443153742"
     },
     "user_tz": -60
    },
    "id": "fGVQczSlF-9o",
    "outputId": "e3a06798-f737-48d9-ec6e-d3784cec3115"
   },
   "outputs": [],
   "source": [
    "import pandas as pd\n",
    "import data_util\n",
    "from tqdm import tqdm_notebook as tqdm\n",
    "from data_generator import DataGenerator\n",
    "from state_util import StateUtil\n",
    "from tec_an import TecAn\n",
    "import numpy as np\n"
   ]
  },
  {
   "cell_type": "code",
   "execution_count": 76,
   "metadata": {},
   "outputs": [],
   "source": [
    "future = 5\n",
    "\n",
    "def get_tecs(raw_dir = \"stock_data/\"):\n",
    "    data_gen = DataGenerator(random=False, base_dir = raw_dir)\n",
    "    data_gen.rewind()\n",
    "    stateUtil = StateUtil(data_gen, future = future)\n",
    "    data = []\n",
    "    data_count = data_gen.max_steps()\n",
    "    tec = TecAn()\n",
    "    for i in tqdm(range(data_count)):\n",
    "        raw = data_gen.next()\n",
    "        price = raw[stateUtil.PRICE_KEY]\n",
    "        amount = raw[stateUtil.AMOUNT_KEY]\n",
    "        data.append([price, amount])\n",
    "    \n",
    "    def calcule_tecs():\n",
    "        tecs = []\n",
    "        print(\"Data {}\".format(len(data)))\n",
    "        df = pd.DataFrame(data, columns = ['Close', 'Volume'])\n",
    "        close = df['Close']\n",
    "        volume = df['Volume']\n",
    "        for ta in tec.tas:\n",
    "            value = ta(close, volume, 0.0, 0.0)\n",
    "            tecs.append(value)\n",
    "        return tecs\n",
    "    \n",
    "    return calcule_tecs()\n"
   ]
  },
  {
   "cell_type": "code",
   "execution_count": 77,
   "metadata": {},
   "outputs": [],
   "source": [
    "def add_tacs(list, index, result):\n",
    "    list = []\n",
    "    for tec in result:\n",
    "        list.append(tec.iloc[index])\n",
    "    return list"
   ]
  },
  {
   "cell_type": "code",
   "execution_count": 80,
   "metadata": {
    "colab": {
     "base_uri": "https://localhost:8080/",
     "height": 969
    },
    "colab_type": "code",
    "executionInfo": {
     "elapsed": 687284,
     "status": "ok",
     "timestamp": 1568068979529,
     "user": {
      "displayName": "Samir Moreira Antônio",
      "photoUrl": "https://lh3.googleusercontent.com/a-/AAuE7mCsh3ldsSLN0VnFRYp341EzO_UyuRNKmLncUbMA3Q=s64",
      "userId": "14581632111443153742"
     },
     "user_tz": -60
    },
    "id": "eO4im0aG2zql",
    "outputId": "e3d3b69a-c7ce-4779-c6e3-673b4bd7ba9a",
    "scrolled": true
   },
   "outputs": [
    {
     "name": "stdout",
     "output_type": "stream",
     "text": [
      "Processing ethusdMar/\n",
      "Recovering TECs\n"
     ]
    },
    {
     "data": {
      "application/vnd.jupyter.widget-view+json": {
       "model_id": "7b60198fb8594ba7aa9cf33c95485169",
       "version_major": 2,
       "version_minor": 0
      },
      "text/plain": [
       "HBox(children=(IntProgress(value=0, max=7069), HTML(value='')))"
      ]
     },
     "metadata": {},
     "output_type": "display_data"
    },
    {
     "name": "stdout",
     "output_type": "stream",
     "text": [
      "\n",
      "Data 7069\n",
      "TECs recovered 7069\n",
      "Loading 7069 states\n"
     ]
    },
    {
     "data": {
      "application/vnd.jupyter.widget-view+json": {
       "model_id": "1683fa7c4db74cf3895d52daebe2021c",
       "version_major": 2,
       "version_minor": 0
      },
      "text/plain": [
       "HBox(children=(IntProgress(value=0, max=7047), HTML(value='')))"
      ]
     },
     "metadata": {},
     "output_type": "display_data"
    },
    {
     "name": "stdout",
     "output_type": "stream",
     "text": [
      "\n"
     ]
    },
    {
     "data": {
      "application/vnd.jupyter.widget-view+json": {
       "model_id": "b2dddcfcebe244aeb0b1e8fa76dfe70f",
       "version_major": 2,
       "version_minor": 0
      },
      "text/plain": [
       "HBox(children=(IntProgress(value=0, max=21), HTML(value='')))"
      ]
     },
     "metadata": {},
     "output_type": "display_data"
    },
    {
     "name": "stdout",
     "output_type": "stream",
     "text": [
      "\n",
      "Completed: (7047, 13) (7047,) (21, 13) (21,)\n",
      "Total to be added 7068\n"
     ]
    }
   ],
   "source": [
    "path = \"./\" \n",
    "\n",
    "import data_util\n",
    "from data_generator import DataGenerator\n",
    "\n",
    "def load_datasets(dirs):\n",
    "    sets = []  \n",
    "    for raw_dir in dirs:\n",
    "        data_gen = DataGenerator(random = False, base_dir = raw_dir)\n",
    "        data_gen.rewind()\n",
    "        full = data_gen.steps\n",
    "        print(\"Processing {}\".format(raw_dir))\n",
    "        print(\"Recovering TECs\")\n",
    "        result = get_tecs(raw_dir)\n",
    "        parsed = lambda list, price, amount, index: add_tacs(list, index, result)\n",
    "        print(\"TECs recovered {}\".format((result[-1].size)))\n",
    "        print(\"Loading {} states\".format(full))\n",
    "        final_data = data_util.get_sets(data_gen, full, val_percentage = 0.003, path = path, use_cache=False, on_state_parsed = parsed)\n",
    "        count = len(final_data[0]) + len(final_data[-1])\n",
    "        print(\"Total to be added {}\".format(count))\n",
    "        sets.append(final_data)\n",
    "    return sets\n",
    "\n",
    "def conc_sets(sets):\n",
    "  trainX = sets[0][0]\n",
    "  trainY = sets[0][1]\n",
    "  valX = sets[0][2]\n",
    "  valY = sets[0][3]\n",
    "  for i in range(1,  len(sets)):\n",
    "    data_set = sets[i]\n",
    "    trainX = np.append(data_set[0], trainX, axis = 0)\n",
    "    trainY = np.append(data_set[1], trainY, axis = 0)\n",
    "    valX = np.append(data_set[2], valX, axis = 0)\n",
    "    valY = np.append(data_set[3], valY, axis = 0)\n",
    "  return trainX, trainY, valX, valY\n",
    "\n",
    "#sets = load_datasets([\"stock_data/\"])\n",
    "#sets = load_datasets([\"ethusdMar/\", \"btcusdMar/\"])\n",
    "sets = load_datasets([\"ethusdMar/\"])\n",
    "\n",
    "\n",
    "trainX, trainY, valX, valY = conc_sets(sets)\n",
    "np.save(path + \"train\" + \"X.npy\", trainX)\n",
    "np.save(path + \"train\" + \"Y.npy\", trainY)\n",
    "np.save(path + \"val\" + \"X.npy\", valX)\n",
    "np.save(path + \"val\" + \"Y.npy\", valY)\n",
    "\n"
   ]
  },
  {
   "cell_type": "code",
   "execution_count": 81,
   "metadata": {},
   "outputs": [],
   "source": [
    "import pandas as pd\n",
    "import data_util\n",
    "from tqdm import tqdm_notebook as tqdm\n",
    "from data_generator import DataGenerator\n",
    "from state_util import StateUtil\n",
    "from tec_an import TecAn\n",
    "import numpy as np\n",
    "\n",
    "\n",
    "raw_dir = \"ethusdMar/\"\n",
    "data_gen = DataGenerator(random=False, first_index=0, base_dir = raw_dir)\n",
    "stateUtil = StateUtil(data_gen, future = 10)"
   ]
  },
  {
   "cell_type": "code",
   "execution_count": 67,
   "metadata": {},
   "outputs": [
    {
     "name": "stdout",
     "output_type": "stream",
     "text": [
      "1615551655\n",
      "1615551655\n"
     ]
    }
   ],
   "source": [
    "state = data_gen.next()\n",
    "print(state['timestamp'])\n",
    "state = data_gen.next()\n",
    "print(state['timestamp'])"
   ]
  },
  {
   "cell_type": "code",
   "execution_count": 68,
   "metadata": {},
   "outputs": [
    {
     "name": "stdout",
     "output_type": "stream",
     "text": [
      "1615551655\n",
      "1615551655 - 1615551655793024 \n",
      "1615551665 - 1615551665993082 \n",
      "Diff: 10\n",
      "Y: 0\n",
      "Ask: 1773.04\n",
      "Bid: 1769.4\n"
     ]
    }
   ],
   "source": [
    "state = data_gen.next()\n",
    "print(state['timestamp'])\n",
    "x, y, raw_state, furure_state = stateUtil.get_state(state, data_gen.index)\n",
    "\n",
    "current = int(raw_state['timestamp'])\n",
    "microcurrent = int(raw_state['microtimestamp'])\n",
    "\n",
    "future = int(furure_state['timestamp'])\n",
    "microfuture = int(furure_state['microtimestamp'])\n",
    "print(\"{} - {} \".format(current, microcurrent))\n",
    "print(\"{} - {} \".format(future, microfuture))\n",
    "print(\"Diff: {}\".format(future - current))\n",
    "print(\"Y: {}\".format(y))\n",
    "\n",
    "ask = float(raw_state[stateUtil.ASKS_KEY][0][0]) \n",
    "print(\"Ask: {}\".format(ask))\n",
    "future_bid = float(furure_state[stateUtil.BIDS_KEY][0][0])\n",
    "print(\"Bid: {}\".format(future_bid))\n"
   ]
  },
  {
   "cell_type": "code",
   "execution_count": 9,
   "metadata": {
    "scrolled": true
   },
   "outputs": [
    {
     "data": {
      "application/vnd.jupyter.widget-view+json": {
       "model_id": "66458504127a4e7aacb2bb9732f1f300",
       "version_major": 2,
       "version_minor": 0
      },
      "text/plain": [
       "HBox(children=(IntProgress(value=0, max=7069), HTML(value='')))"
      ]
     },
     "metadata": {},
     "output_type": "display_data"
    },
    {
     "name": "stdout",
     "output_type": "stream",
     "text": [
      "\n",
      "Data 7069\n"
     ]
    }
   ],
   "source": [
    "result = get_tecs(raw_dir)"
   ]
  },
  {
   "cell_type": "code",
   "execution_count": 10,
   "metadata": {},
   "outputs": [
    {
     "name": "stdout",
     "output_type": "stream",
     "text": [
      "DataGenerator steps 7069\n",
      "DataGenerator max_steps 7069\n",
      "TACS 7069\n"
     ]
    }
   ],
   "source": [
    "print(\"DataGenerator steps {}\".format(data_gen.steps))\n",
    "print(\"DataGenerator max_steps {}\".format(data_gen.max_steps()))\n",
    "print(\"TACS {}\".format(result[0].size))\n"
   ]
  },
  {
   "cell_type": "code",
   "execution_count": 11,
   "metadata": {},
   "outputs": [],
   "source": [
    "data_gen = DataGenerator(random = False, base_dir = raw_dir)"
   ]
  },
  {
   "cell_type": "code",
   "execution_count": 12,
   "metadata": {},
   "outputs": [
    {
     "data": {
      "text/plain": [
       "array([0, 0, 0, ..., 0, 0, 0])"
      ]
     },
     "execution_count": 12,
     "metadata": {},
     "output_type": "execute_result"
    }
   ],
   "source": [
    "trainY"
   ]
  },
  {
   "cell_type": "code",
   "execution_count": null,
   "metadata": {},
   "outputs": [],
   "source": []
  }
 ],
 "metadata": {
  "accelerator": "GPU",
  "colab": {
   "collapsed_sections": [],
   "name": "enviroment",
   "provenance": [],
   "version": "0.3.2"
  },
  "kernelspec": {
   "display_name": "Python 3",
   "language": "python",
   "name": "python3"
  },
  "language_info": {
   "codemirror_mode": {
    "name": "ipython",
    "version": 3
   },
   "file_extension": ".py",
   "mimetype": "text/x-python",
   "name": "python",
   "nbconvert_exporter": "python",
   "pygments_lexer": "ipython3",
   "version": "3.7.10"
  }
 },
 "nbformat": 4,
 "nbformat_minor": 1
}
