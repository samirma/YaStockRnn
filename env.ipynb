{
 "cells": [
  {
   "cell_type": "code",
   "execution_count": 2,
   "metadata": {
    "colab": {
     "base_uri": "https://localhost:8080/",
     "height": 170
    },
    "colab_type": "code",
    "executionInfo": {
     "elapsed": 503083,
     "status": "ok",
     "timestamp": 1568068274112,
     "user": {
      "displayName": "Samir Moreira Antônio",
      "photoUrl": "https://lh3.googleusercontent.com/a-/AAuE7mCsh3ldsSLN0VnFRYp341EzO_UyuRNKmLncUbMA3Q=s64",
      "userId": "14581632111443153742"
     },
     "user_tz": -60
    },
    "id": "fGVQczSlF-9o",
    "outputId": "e3a06798-f737-48d9-ec6e-d3784cec3115"
   },
   "outputs": [],
   "source": [
    "import pandas as pd\n",
    "import data_util\n",
    "from tqdm import tqdm_notebook as tqdm\n",
    "from data_generator import DataGenerator\n",
    "from tec_an import TecAn\n",
    "import numpy as np\n",
    "from data_util import *\n",
    "import threading\n",
    "import multiprocessing\n",
    "from data_agent import DataAgent, TacProcess\n",
    "from sklearn.model_selection import train_test_split"
   ]
  },
  {
   "cell_type": "code",
   "execution_count": 3,
   "metadata": {},
   "outputs": [],
   "source": [
    "def save(data_set, prefix = \"\", base_dir = \"data/\"):\n",
    "    trainX = data_set[0]\n",
    "    trainY = data_set[1]\n",
    "    valX = data_set[2]\n",
    "    valY = data_set[3]\n",
    "    final_path = path + base_dir\n",
    "    train_path = \"{}{}trainX.npy\".format(final_path, prefix)\n",
    "    np.save(train_path, trainX)\n",
    "    np.save(\"{}{}trainY.npy\".format(final_path, prefix), trainY)\n",
    "    np.save(\"{}{}valX.npy\".format(final_path, prefix), valX)\n",
    "    np.save(\"{}{}valY.npy\".format(final_path, prefix), valY)\n",
    "    print(\"Saving {} with {}\".format(train_path, trainX.shape))\n",
    "\n",
    "def get_y_data(ohlc, shift = -1):\n",
    "    combined_data = ohlc\n",
    "    #combined_data['return'] = np.log(combined_data / combined_data.shift(1))\n",
    "    returns = (ohlc / ohlc.shift(shift))\n",
    "    combined_data['return'] = returns\n",
    "    combined_data['direction'] = np.where(combined_data['return'] < 1, 1, 0)\n",
    "    #print(combined_data)\n",
    "    #combined_data.dropna(inplace=True)\n",
    "    return combined_data['direction']\n",
    "\n",
    "def split(x, y, split, shuffle=False):\n",
    "    trainX, valX, trainY, valY = train_test_split(np.array(x), np.array(y), test_size=split, shuffle=shuffle)\n",
    "    print(\"Completed: {} {} {} {}\".format(trainX.shape, trainY.shape, valX.shape, valY.shape))\n",
    "    return trainX, trainY, valX, valY\n",
    "\n",
    "\n",
    "def get_full_database(resample, raw_dir, base_dir = \"data/\"):\n",
    "\n",
    "    full_data = base_dir + raw_dir + \"/\"\n",
    "    data_gen = DataGenerator(random = False, base_dir = full_data)\n",
    "    data_gen.rewind()\n",
    "    data_count = (data_gen.steps - 100)\n",
    "    #data_count = 20000\n",
    "\n",
    "    final_x = []\n",
    "\n",
    "    closed_prices = []\n",
    "\n",
    "    on_new_data = lambda x: final_x.append(x)\n",
    "    on_closed_price = lambda price: closed_prices.append(price)\n",
    "    \n",
    "    print(resample)\n",
    "\n",
    "    agent = DataAgent(\n",
    "        resample = resample,\n",
    "        on_new_data = on_new_data,\n",
    "        on_closed_price = on_closed_price\n",
    "    )\n",
    "\n",
    "    print(\"Processing {}\".format(raw_dir))\n",
    "\n",
    "    for i in tqdm(range(data_count)):\n",
    "        agent.on_new_raw_data(data_gen.next())\n",
    "\n",
    "\n",
    "    closes = pd.DataFrame(closed_prices, columns = ['Close'])\n",
    "\n",
    "    final_y = get_y_data(closes, -1)\n",
    "    \n",
    "    #print(agent.ohlc)\n",
    "    \n",
    "    return final_x, final_y"
   ]
  },
  {
   "cell_type": "code",
   "execution_count": 4,
   "metadata": {
    "colab": {
     "base_uri": "https://localhost:8080/",
     "height": 969
    },
    "colab_type": "code",
    "executionInfo": {
     "elapsed": 687284,
     "status": "ok",
     "timestamp": 1568068979529,
     "user": {
      "displayName": "Samir Moreira Antônio",
      "photoUrl": "https://lh3.googleusercontent.com/a-/AAuE7mCsh3ldsSLN0VnFRYp341EzO_UyuRNKmLncUbMA3Q=s64",
      "userId": "14581632111443153742"
     },
     "user_tz": -60
    },
    "id": "eO4im0aG2zql",
    "outputId": "e3d3b69a-c7ce-4779-c6e3-673b4bd7ba9a",
    "scrolled": true
   },
   "outputs": [],
   "source": [
    "path = \"./\" \n",
    "\n",
    "import data_util\n",
    "from data_generator import DataGenerator\n",
    "\n",
    "def load_dataset(dir):\n",
    "    load_datasets([dir])\n",
    "\n",
    "def load_datasets(dirs, resample, base_dir = \"data/\"):\n",
    "    print(dirs)\n",
    "    sets = []  \n",
    "    for raw_dir in dirs:\n",
    "\n",
    "        x, y = get_full_database(resample = resample,\n",
    "                                             raw_dir = raw_dir, \n",
    "                                             base_dir = base_dir)\n",
    "\n",
    "        final_data = split(x, y, 0.1, shuffle=False)\n",
    "\n",
    "        save(final_data, raw_dir)\n",
    "        sets.append((x, y))\n",
    "    return sets\n",
    "\n",
    "def conc_sets(sets):\n",
    "    trainX = sets[0][0]\n",
    "    trainY = sets[0][1]\n",
    "    for i in range(1,  len(sets)):\n",
    "        data_set = sets[i]\n",
    "        trainX = np.append(data_set[0], trainX, axis = 0)\n",
    "        trainY = np.append(data_set[1], trainY, axis = 0)\n",
    "    \n",
    "    trainX, trainY, valX, valY = split(trainX, trainY, 0.1, shuffle=True)\n",
    "    \n",
    "    return trainX, trainY, valX, valY\n",
    "\n"
   ]
  },
  {
   "cell_type": "code",
   "execution_count": 4,
   "metadata": {
    "scrolled": true
   },
   "outputs": [
    {
     "name": "stdout",
     "output_type": "stream",
     "text": [
      "['omgusd', 'btceur', 'btcusd', 'ethusd', 'ltcusd']\n",
      "2Min\n",
      "Processing omgusd\n"
     ]
    },
    {
     "name": "stderr",
     "output_type": "stream",
     "text": [
      "<ipython-input-2-37816dab1e21>:55: TqdmDeprecationWarning: This function will be removed in tqdm==5.0.0\n",
      "Please use `tqdm.notebook.tqdm` instead of `tqdm.tqdm_notebook`\n",
      "  for i in tqdm(range(data_count)):\n"
     ]
    },
    {
     "data": {
      "application/vnd.jupyter.widget-view+json": {
       "model_id": "3bdd73912cec43d3bf94a6a4ccf3f872",
       "version_major": 2,
       "version_minor": 0
      },
      "text/plain": [
       "  0%|          | 0/213310 [00:00<?, ?it/s]"
      ]
     },
     "metadata": {},
     "output_type": "display_data"
    },
    {
     "name": "stdout",
     "output_type": "stream",
     "text": [
      "Completed: (297, 16) (297,) (33, 16) (33,)\n",
      "Saving ./data/omgusdtrainX.npy with (297, 16)\n",
      "2Min\n",
      "Processing btceur\n"
     ]
    },
    {
     "name": "stderr",
     "output_type": "stream",
     "text": [
      "<ipython-input-2-37816dab1e21>:55: TqdmDeprecationWarning: This function will be removed in tqdm==5.0.0\n",
      "Please use `tqdm.notebook.tqdm` instead of `tqdm.tqdm_notebook`\n",
      "  for i in tqdm(range(data_count)):\n"
     ]
    },
    {
     "data": {
      "application/vnd.jupyter.widget-view+json": {
       "model_id": "326ff4dc51d84f2ca0a05b1707fda057",
       "version_major": 2,
       "version_minor": 0
      },
      "text/plain": [
       "  0%|          | 0/656764 [00:00<?, ?it/s]"
      ]
     },
     "metadata": {},
     "output_type": "display_data"
    },
    {
     "name": "stdout",
     "output_type": "stream",
     "text": [
      "Completed: (1714, 16) (1714,) (191, 16) (191,)\n",
      "Saving ./data/btceurtrainX.npy with (1714, 16)\n",
      "2Min\n",
      "Processing btcusd\n"
     ]
    },
    {
     "name": "stderr",
     "output_type": "stream",
     "text": [
      "<ipython-input-2-37816dab1e21>:55: TqdmDeprecationWarning: This function will be removed in tqdm==5.0.0\n",
      "Please use `tqdm.notebook.tqdm` instead of `tqdm.tqdm_notebook`\n",
      "  for i in tqdm(range(data_count)):\n"
     ]
    },
    {
     "data": {
      "application/vnd.jupyter.widget-view+json": {
       "model_id": "3d1428382fab46b58f6306c647978bbd",
       "version_major": 2,
       "version_minor": 0
      },
      "text/plain": [
       "  0%|          | 0/388103 [00:00<?, ?it/s]"
      ]
     },
     "metadata": {},
     "output_type": "display_data"
    },
    {
     "name": "stdout",
     "output_type": "stream",
     "text": [
      "Completed: (342, 16) (342,) (39, 16) (39,)\n",
      "Saving ./data/btcusdtrainX.npy with (342, 16)\n",
      "2Min\n",
      "Processing ethusd\n"
     ]
    },
    {
     "name": "stderr",
     "output_type": "stream",
     "text": [
      "<ipython-input-2-37816dab1e21>:55: TqdmDeprecationWarning: This function will be removed in tqdm==5.0.0\n",
      "Please use `tqdm.notebook.tqdm` instead of `tqdm.tqdm_notebook`\n",
      "  for i in tqdm(range(data_count)):\n"
     ]
    },
    {
     "data": {
      "application/vnd.jupyter.widget-view+json": {
       "model_id": "db1a8fba6fb04ac5a73017974313ee46",
       "version_major": 2,
       "version_minor": 0
      },
      "text/plain": [
       "  0%|          | 0/639540 [00:00<?, ?it/s]"
      ]
     },
     "metadata": {},
     "output_type": "display_data"
    },
    {
     "name": "stdout",
     "output_type": "stream",
     "text": [
      "Completed: (999, 16) (999,) (111, 16) (111,)\n",
      "Saving ./data/ethusdtrainX.npy with (999, 16)\n",
      "2Min\n",
      "Processing ltcusd\n"
     ]
    },
    {
     "name": "stderr",
     "output_type": "stream",
     "text": [
      "<ipython-input-2-37816dab1e21>:55: TqdmDeprecationWarning: This function will be removed in tqdm==5.0.0\n",
      "Please use `tqdm.notebook.tqdm` instead of `tqdm.tqdm_notebook`\n",
      "  for i in tqdm(range(data_count)):\n"
     ]
    },
    {
     "data": {
      "application/vnd.jupyter.widget-view+json": {
       "model_id": "0e4761888f8243b28de058400dedc9be",
       "version_major": 2,
       "version_minor": 0
      },
      "text/plain": [
       "  0%|          | 0/543146 [00:00<?, ?it/s]"
      ]
     },
     "metadata": {},
     "output_type": "display_data"
    },
    {
     "name": "stdout",
     "output_type": "stream",
     "text": [
      "Completed: (774, 16) (774,) (86, 16) (86,)\n",
      "Saving ./data/ltcusdtrainX.npy with (774, 16)\n",
      "Completed: (4127, 16) (4127,) (459, 16) (459,)\n",
      "Saving ./data/trainX.npy with (4127, 16)\n",
      "CPU times: user 9min 48s, sys: 4min 50s, total: 14min 38s\n",
      "Wall time: 20min 11s\n"
     ]
    }
   ],
   "source": [
    "%%time\n",
    "\n",
    "#dirs = [\"omgusd\", \"btceur\", \"btcusd\", \"ethusd\", \"ltcusd\", \"btcusd17\", \"btcusdAug19\"]\n",
    "dirs = [\"omgusd\", \"btceur\", \"btcusd\", \"ethusd\", \"ltcusd\"]\n",
    "#dirs = [\"omgusd\"]\n",
    "\n",
    "#sets = load_datasets(dirs, '2Min')\n",
    "#save(conc_sets(sets))"
   ]
  },
  {
   "cell_type": "code",
   "execution_count": 9,
   "metadata": {},
   "outputs": [],
   "source": [
    "def save_database(name):\n",
    "    x, y = get_full_database('2Min', name, base_dir = \"data/\")\n",
    "    final_data = split(x, y, 0.1)\n",
    "    save(final_data, name)"
   ]
  },
  {
   "cell_type": "code",
   "execution_count": 10,
   "metadata": {},
   "outputs": [
    {
     "name": "stdout",
     "output_type": "stream",
     "text": [
      "2Min\n",
      "Resample 2Min - TecAn ( windows 20, windows_limit 100 )\n",
      "Processing backtest\n"
     ]
    },
    {
     "name": "stderr",
     "output_type": "stream",
     "text": [
      "<ipython-input-3-37816dab1e21>:55: TqdmDeprecationWarning: This function will be removed in tqdm==5.0.0\n",
      "Please use `tqdm.notebook.tqdm` instead of `tqdm.tqdm_notebook`\n",
      "  for i in tqdm(range(data_count)):\n"
     ]
    },
    {
     "data": {
      "application/vnd.jupyter.widget-view+json": {
       "model_id": "2d6e2eae9bbf4515b6500742fc60ed62",
       "version_major": 2,
       "version_minor": 0
      },
      "text/plain": [
       "  0%|          | 0/1585895 [00:00<?, ?it/s]"
      ]
     },
     "metadata": {},
     "output_type": "display_data"
    },
    {
     "name": "stdout",
     "output_type": "stream",
     "text": [
      "Completed: (1825, 16) (1825,) (203, 16) (203,)\n",
      "Saving ./data/backtesttrainX.npy with (1825, 16)\n",
      "2Min\n",
      "Resample 2Min - TecAn ( windows 20, windows_limit 100 )\n",
      "Processing 4jul21\n"
     ]
    },
    {
     "name": "stderr",
     "output_type": "stream",
     "text": [
      "<ipython-input-3-37816dab1e21>:55: TqdmDeprecationWarning: This function will be removed in tqdm==5.0.0\n",
      "Please use `tqdm.notebook.tqdm` instead of `tqdm.tqdm_notebook`\n",
      "  for i in tqdm(range(data_count)):\n"
     ]
    },
    {
     "data": {
      "application/vnd.jupyter.widget-view+json": {
       "model_id": "4d018be8de274106a8e652d8bd780fa3",
       "version_major": 2,
       "version_minor": 0
      },
      "text/plain": [
       "  0%|          | 0/301794 [00:00<?, ?it/s]"
      ]
     },
     "metadata": {},
     "output_type": "display_data"
    },
    {
     "name": "stdout",
     "output_type": "stream",
     "text": [
      "Completed: (270, 16) (270,) (31, 16) (31,)\n",
      "Saving ./data/4jul21trainX.npy with (270, 16)\n"
     ]
    }
   ],
   "source": [
    "save_database(\"backtest\")\n",
    "save_database(\"4jul21\")"
   ]
  },
  {
   "cell_type": "code",
   "execution_count": 11,
   "metadata": {},
   "outputs": [
    {
     "name": "stdout",
     "output_type": "stream",
     "text": [
      "2Min\n",
      "Resample 2Min - TecAn ( windows 20, windows_limit 100 )\n",
      "Processing 4jul21\n"
     ]
    },
    {
     "name": "stderr",
     "output_type": "stream",
     "text": [
      "<ipython-input-3-37816dab1e21>:55: TqdmDeprecationWarning: This function will be removed in tqdm==5.0.0\n",
      "Please use `tqdm.notebook.tqdm` instead of `tqdm.tqdm_notebook`\n",
      "  for i in tqdm(range(data_count)):\n"
     ]
    },
    {
     "data": {
      "application/vnd.jupyter.widget-view+json": {
       "model_id": "d7b50d2679d1409dbed50a6526f3ec7b",
       "version_major": 2,
       "version_minor": 0
      },
      "text/plain": [
       "  0%|          | 0/301794 [00:00<?, ?it/s]"
      ]
     },
     "metadata": {},
     "output_type": "display_data"
    }
   ],
   "source": [
    "x, y = get_full_database('2Min', \"4jul21\", base_dir = \"data/\")"
   ]
  },
  {
   "cell_type": "code",
   "execution_count": null,
   "metadata": {},
   "outputs": [],
   "source": []
  }
 ],
 "metadata": {
  "accelerator": "GPU",
  "colab": {
   "collapsed_sections": [],
   "name": "enviroment",
   "provenance": [],
   "version": "0.3.2"
  },
  "kernelspec": {
   "display_name": "Python 3",
   "language": "python",
   "name": "python3"
  },
  "language_info": {
   "codemirror_mode": {
    "name": "ipython",
    "version": 3
   },
   "file_extension": ".py",
   "mimetype": "text/x-python",
   "name": "python",
   "nbconvert_exporter": "python",
   "pygments_lexer": "ipython3",
   "version": "3.9.5"
  }
 },
 "nbformat": 4,
 "nbformat_minor": 4
}
